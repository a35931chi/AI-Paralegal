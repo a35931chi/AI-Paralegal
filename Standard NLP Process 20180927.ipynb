{
 "cells": [
  {
   "cell_type": "code",
   "execution_count": 2,
   "metadata": {},
   "outputs": [],
   "source": [
    "import nltk\n",
    "from nltk.tag.stanford import StanfordNERTagger\n",
    "from nltk.stem import WordNetLemmatizer\n",
    "from nltk.corpus import wordnet, stopwords\n",
    "from nltk import pos_tag, ne_chunk\n",
    "from nltk.tokenize import word_tokenize\n",
    "from nltk.chunk import conlltags2tree, tree2conlltags\n",
    "\n",
    "sw = stopwords.words(\"english\")\n",
    "\n",
    "path_to_model = r'C:\\Users\\inves\\AppData\\Local\\Programs\\Python\\Python35\\Lib\\site-packages\\nltk\\stanford-ner-2018-02-27\\classifiers\\english.all.3class.distsim.crf.ser.gz'\n",
    "path_to_jar = r'C:\\Users\\inves\\AppData\\Local\\Programs\\Python\\Python35\\Lib\\site-packages\\nltk\\stanford-ner-2018-02-27\\stanford-ner.jar'\n",
    "tagger = StanfordNERTagger(path_to_model, path_to_jar = path_to_jar)"
   ]
  },
  {
   "cell_type": "code",
   "execution_count": 3,
   "metadata": {},
   "outputs": [
    {
     "name": "stderr",
     "output_type": "stream",
     "text": [
      "c:\\users\\inves\\appdata\\local\\programs\\python\\python35\\lib\\site-packages\\gensim\\utils.py:1197: UserWarning: detected Windows; aliasing chunkize to chunkize_serial\n",
      "  warnings.warn(\"detected Windows; aliasing chunkize to chunkize_serial\")\n"
     ]
    }
   ],
   "source": [
    "from gensim.models.word2vec import LineSentence\n",
    "from gensim.models import Phrases\n",
    "from gensim.corpora import Dictionary, MmCorpus\n",
    "from gensim.models.ldamulticore import LdaMulticore\n",
    "\n",
    "#visualization libraries\n",
    "import pyLDAvis\n",
    "import pyLDAvis.gensim"
   ]
  },
  {
   "cell_type": "code",
   "execution_count": 4,
   "metadata": {},
   "outputs": [],
   "source": [
    "import os\n",
    "import pandas as pd\n",
    "import numpy as np\n",
    "import codecs\n",
    "import itertools as it\n",
    "from bs4 import BeautifulSoup\n",
    "import warnings\n",
    "import pickle\n",
    "from collections import Counter\n",
    "import re\n",
    "import datetime\n",
    "import string\n",
    "import time\n",
    "\n",
    "java_path = 'C:/Program Files/Java/jdk-10.0.1/bin/java.exe'\n",
    "os.environ['JAVAHOME'] = java_path"
   ]
  },
  {
   "cell_type": "code",
   "execution_count": 5,
   "metadata": {},
   "outputs": [
    {
     "name": "stdout",
     "output_type": "stream",
     "text": [
      "[nltk_data] Downloading package words to\n",
      "[nltk_data]     C:\\Users\\inves\\AppData\\Roaming\\nltk_data...\n",
      "[nltk_data]   Package words is already up-to-date!\n",
      "[nltk_data] Downloading package averaged_perceptron_tagger to\n",
      "[nltk_data]     C:\\Users\\inves\\AppData\\Roaming\\nltk_data...\n",
      "[nltk_data]   Package averaged_perceptron_tagger is already up-to-\n",
      "[nltk_data]       date!\n",
      "[nltk_data] Downloading package maxent_ne_chunker to\n",
      "[nltk_data]     C:\\Users\\inves\\AppData\\Roaming\\nltk_data...\n",
      "[nltk_data]   Package maxent_ne_chunker is already up-to-date!\n"
     ]
    },
    {
     "data": {
      "text/plain": [
       "True"
      ]
     },
     "execution_count": 5,
     "metadata": {},
     "output_type": "execute_result"
    }
   ],
   "source": [
    "nltk.download('words')\n",
    "nltk.download('averaged_perceptron_tagger')\n",
    "nltk.download('maxent_ne_chunker')"
   ]
  },
  {
   "cell_type": "code",
   "execution_count": null,
   "metadata": {},
   "outputs": [],
   "source": []
  },
  {
   "cell_type": "code",
   "execution_count": null,
   "metadata": {},
   "outputs": [],
   "source": []
  },
  {
   "cell_type": "code",
   "execution_count": null,
   "metadata": {},
   "outputs": [],
   "source": [
    "docket_original = list(new_df['Original Docket Text'])"
   ]
  },
  {
   "cell_type": "code",
   "execution_count": null,
   "metadata": {},
   "outputs": [],
   "source": [
    "output = []\n",
    "for i in range(5):\n",
    "    org_str = []\n",
    "    name_str = []\n",
    "    stripped_str1 = []\n",
    "    stripped_str2 = []\n",
    "\n",
    "    tokens = word_tokenize(docket_original[i])\n",
    "    for SFlabel, NLlabel, token in zip(tagger.tag(tokens), tree2conlltags(ne_chunk(pos_tag(tokens))), tokens):\n",
    "        print(SFlabel, NLlabel, token)\n",
    "        if SFlabel[1] == 'ORGANIZATION':\n",
    "            org_str.append(SFlabel[0])\n",
    "            stripped_str1.append('-ORG-')\n",
    "        elif SFlabel[1] == 'PERSON':\n",
    "            name_str.append(SFlabel[0])\n",
    "            stripped_str1.append('-NAME-')\n",
    "        else:\n",
    "            stripped_str1.append(token)\n",
    "            stripped_str2.append(token)\n",
    "\n",
    "    output.append([docket_original[i],\n",
    "                   ' '.join(org_str),\n",
    "                   ' '.join(name_str),\n",
    "                   ' '.join(stripped_str1),\n",
    "                   ' '.join(stripped_str2)])\n",
    "    \n",
    "for i in range(5):\n",
    "    print('docket text:', i)\n",
    "    print(output[i], '\\n')"
   ]
  },
  {
   "cell_type": "markdown",
   "metadata": {},
   "source": [
    "### We may want to start here:"
   ]
  },
  {
   "cell_type": "code",
   "execution_count": 6,
   "metadata": {},
   "outputs": [
    {
     "name": "stdout",
     "output_type": "stream",
     "text": [
      "(3244, 5)\n"
     ]
    },
    {
     "data": {
      "text/html": [
       "<div>\n",
       "<table border=\"1\" class=\"dataframe\">\n",
       "  <thead>\n",
       "    <tr style=\"text-align: right;\">\n",
       "      <th></th>\n",
       "      <th>Original Docket Text</th>\n",
       "      <th>Organization Portion</th>\n",
       "      <th>Name Portion</th>\n",
       "      <th>Identifying Org and Name</th>\n",
       "      <th>Stripped Org and Name</th>\n",
       "    </tr>\n",
       "  </thead>\n",
       "  <tbody>\n",
       "    <tr>\n",
       "      <th>0</th>\n",
       "      <td>COMPLAINT against Cardiogenics Holdings, Inc. ...</td>\n",
       "      <td>Cardiogenics Holdings , Inc. LG Capital Funding</td>\n",
       "      <td>( Steinmetz Michael Bowens Priscilla</td>\n",
       "      <td>COMPLAINT against -ORG- -ORG- -ORG- -ORG- fili...</td>\n",
       "      <td>COMPLAINT against filing fee $ 400 , receipt n...</td>\n",
       "    </tr>\n",
       "    <tr>\n",
       "      <th>1</th>\n",
       "      <td>Case assigned to Judge Ann M Donnelly and Magi...</td>\n",
       "      <td>Individual Practices of the assigned Judges</td>\n",
       "      <td>Ann M Donnelly Vera M. Scanlon Bowens Priscilla</td>\n",
       "      <td>Case assigned to Judge -NAME- -NAME- -NAME- an...</td>\n",
       "      <td>Case assigned to Judge and Magistrate Judge . ...</td>\n",
       "    </tr>\n",
       "    <tr>\n",
       "      <th>2</th>\n",
       "      <td>Summons Issued as to Cardiogenics Holdings, In...</td>\n",
       "      <td>Cardiogenics Holdings</td>\n",
       "      <td>Bowens Priscilla</td>\n",
       "      <td>Summons Issued as to -ORG- -ORG- , Inc.. ( -NA...</td>\n",
       "      <td>Summons Issued as to , Inc.. ( , ) ( Entered :...</td>\n",
       "    </tr>\n",
       "    <tr>\n",
       "      <th>3</th>\n",
       "      <td>NOTICE - emailed attorney regarding missing se...</td>\n",
       "      <td></td>\n",
       "      <td>Bowens Priscilla</td>\n",
       "      <td>NOTICE - emailed attorney regarding missing se...</td>\n",
       "      <td>NOTICE - emailed attorney regarding missing se...</td>\n",
       "    </tr>\n",
       "    <tr>\n",
       "      <th>4</th>\n",
       "      <td>In accordance with Rule 73 of the Federal Rule...</td>\n",
       "      <td></td>\n",
       "      <td>Bowens Priscilla</td>\n",
       "      <td>In accordance with Rule 73 of the Federal Rule...</td>\n",
       "      <td>In accordance with Rule 73 of the Federal Rule...</td>\n",
       "    </tr>\n",
       "  </tbody>\n",
       "</table>\n",
       "</div>"
      ],
      "text/plain": [
       "                                Original Docket Text  \\\n",
       "0  COMPLAINT against Cardiogenics Holdings, Inc. ...   \n",
       "1  Case assigned to Judge Ann M Donnelly and Magi...   \n",
       "2  Summons Issued as to Cardiogenics Holdings, In...   \n",
       "3  NOTICE - emailed attorney regarding missing se...   \n",
       "4  In accordance with Rule 73 of the Federal Rule...   \n",
       "\n",
       "                              Organization Portion  \\\n",
       "0  Cardiogenics Holdings , Inc. LG Capital Funding   \n",
       "1      Individual Practices of the assigned Judges   \n",
       "2                            Cardiogenics Holdings   \n",
       "3                                                    \n",
       "4                                                    \n",
       "\n",
       "                                      Name Portion  \\\n",
       "0             ( Steinmetz Michael Bowens Priscilla   \n",
       "1  Ann M Donnelly Vera M. Scanlon Bowens Priscilla   \n",
       "2                                 Bowens Priscilla   \n",
       "3                                 Bowens Priscilla   \n",
       "4                                 Bowens Priscilla   \n",
       "\n",
       "                            Identifying Org and Name  \\\n",
       "0  COMPLAINT against -ORG- -ORG- -ORG- -ORG- fili...   \n",
       "1  Case assigned to Judge -NAME- -NAME- -NAME- an...   \n",
       "2  Summons Issued as to -ORG- -ORG- , Inc.. ( -NA...   \n",
       "3  NOTICE - emailed attorney regarding missing se...   \n",
       "4  In accordance with Rule 73 of the Federal Rule...   \n",
       "\n",
       "                               Stripped Org and Name  \n",
       "0  COMPLAINT against filing fee $ 400 , receipt n...  \n",
       "1  Case assigned to Judge and Magistrate Judge . ...  \n",
       "2  Summons Issued as to , Inc.. ( , ) ( Entered :...  \n",
       "3  NOTICE - emailed attorney regarding missing se...  \n",
       "4  In accordance with Rule 73 of the Federal Rule...  "
      ]
     },
     "execution_count": 6,
     "metadata": {},
     "output_type": "execute_result"
    }
   ],
   "source": [
    "filename = 'docket_texts/train/DT/basic_df.pickle'\n",
    "#to load\n",
    "with open(filename, 'rb') as handle:\n",
    "    NER_df = pickle.load(handle)\n",
    "    \n",
    "new_df = NER_df.copy()\n",
    "print(new_df.shape)\n",
    "new_df.head()"
   ]
  },
  {
   "cell_type": "code",
   "execution_count": 25,
   "metadata": {},
   "outputs": [],
   "source": [
    "### Normalize\n",
    "def normalize(docket_original):\n",
    "\n",
    "    url_regex1 = r\"\"\"(?i)\\b((?:https?:(?:/{1,3}|[a-z0-9%])|[a-z0-9.\\-]+[.](?:com|net|org|edu|gov|mil|aero|asia|biz|cat|coop|info|int|jobs|mobi|museum|name|post|pro|tel|travel|xxx|ac|ad|ae|af|ag|ai|al|am|an|ao|aq|ar|as|at|au|aw|ax|az|ba|bb|bd|be|bf|bg|bh|bi|bj|bm|bn|bo|br|bs|bt|bv|bw|by|bz|ca|cc|cd|cf|cg|ch|ci|ck|cl|cm|cn|co|cr|cs|cu|cv|cx|cy|cz|dd|de|dj|dk|dm|do|dz|ec|ee|eg|eh|er|es|et|eu|fi|fj|fk|fm|fo|fr|ga|gb|gd|ge|gf|gg|gh|gi|gl|gm|gn|gp|gq|gr|gs|gt|gu|gw|gy|hk|hm|hn|hr|ht|hu|id|ie|il|im|in|io|iq|ir|is|it|je|jm|jo|jp|ke|kg|kh|ki|km|kn|kp|kr|kw|ky|kz|la|lb|lc|li|lk|lr|ls|lt|lu|lv|ly|ma|mc|md|me|mg|mh|mk|ml|mm|mn|mo|mp|mq|mr|ms|mt|mu|mv|mw|mx|my|mz|na|nc|ne|nf|ng|ni|nl|no|np|nr|nu|nz|om|pa|pe|pf|pg|ph|pk|pl|pm|pn|pr|ps|pt|pw|py|qa|re|ro|rs|ru|rw|sa|sb|sc|sd|se|sg|sh|si|sj|Ja|sk|sl|sm|sn|so|sr|ss|st|su|sv|sx|sy|sz|tc|td|tf|tg|th|tj|tk|tl|tm|tn|to|tp|tr|tt|tv|tw|tz|ua|ug|uk|us|uy|uz|va|vc|ve|vg|vi|vn|vu|wf|ws|ye|yt|yu|za|zm|zw)/)(?:[^\\s()<>{}\\[\\]]+|\\([^\\s()]*?\\([^\\s()]+\\)[^\\s()]*?\\)|\\([^\\s]+?\\))+(?:\\([^\\s()]*?\\([^\\s()]+\\)[^\\s()]*?\\)|\\([^\\s]+?\\)|[^\\s`!()\\[\\]{};:'\".,<>?«»“”‘’])|(?:(?<!@)[a-z0-9]+(?:[.\\-][a-z0-9]+)*[.](?:com|net|org|edu|gov|mil|aero|asia|biz|cat|coop|info|int|jobs|mobi|museum|name|post|pro|tel|travel|xxx|ac|ad|ae|af|ag|ai|al|am|an|ao|aq|ar|as|at|au|aw|ax|az|ba|bb|bd|be|bf|bg|bh|bi|bj|bm|bn|bo|br|bs|bt|bv|bw|by|bz|ca|cc|cd|cf|cg|ch|ci|ck|cl|cm|cn|co|cr|cs|cu|cv|cx|cy|cz|dd|de|dj|dk|dm|do|dz|ec|ee|eg|eh|er|es|et|eu|fi|fj|fk|fm|fo|fr|ga|gb|gd|ge|gf|gg|gh|gi|gl|gm|gn|gp|gq|gr|gs|gt|gu|gw|gy|hk|hm|hn|hr|ht|hu|id|ie|il|im|in|io|iq|ir|is|it|je|jm|jo|jp|ke|kg|kh|ki|km|kn|kp|kr|kw|ky|kz|la|lb|lc|li|lk|lr|ls|lt|lu|lv|ly|ma|mc|md|me|mg|mh|mk|ml|mm|mn|mo|mp|mq|mr|ms|mt|mu|mv|mw|mx|my|mz|na|nc|ne|nf|ng|ni|nl|no|np|nr|nu|nz|om|pa|pe|pf|pg|ph|pk|pl|pm|pn|pr|ps|pt|pw|py|qa|re|ro|rs|ru|rw|sa|sb|sc|sd|se|sg|sh|si|sj|Ja|sk|sl|sm|sn|so|sr|ss|st|su|sv|sx|sy|sz|tc|td|tf|tg|th|tj|tk|tl|tm|tn|to|tp|tr|tt|tv|tw|tz|ua|ug|uk|us|uy|uz|va|vc|ve|vg|vi|vn|vu|wf|ws|ye|yt|yu|za|zm|zw)\\b/?(?!@)))\"\"\"\n",
    "    url_regex2 = 'http[s]?://(?:[a-zA-Z]|[0-9]|[$-_@.&+]|[!*\\(\\),]|(?:%[0-9a-fA-F][0-9a-fA-F]))+'\n",
    "    date_regex = '(\\d{1,2}[\\/ ](\\d{2}|January|Jan|February|Feb|March|Mar|April|Apr|May|May|June|Jun|July|Jul|August|Aug|September|Sep|October|Oct|November|Nov|December|Dec)[\\/ ]\\d{2,4})'\n",
    "    punct_regex = r\"[^a-zA-Z0-9]\"\n",
    "    num_regex = \"\\d+\"\n",
    "    extraspace_regex = \" +\"\n",
    "    docket_original = docket_original.split(' ')\n",
    "    docket_normalized = [text.lower() for text in docket_original]\n",
    "    docket_nourl1 = [re.sub(url_regex1, \"url\", text) for text in docket_normalized]\n",
    "    docket_nourl2 = [re.sub(url_regex2, \"url\", text) for text in docket_nourl1]\n",
    "    docket_nodate = [re.sub(date_regex, \"date\", text) for text in docket_nourl2]\n",
    "    docket_nopunct = [re.sub(punct_regex, \" \", text) for text in docket_nodate]\n",
    "    docket_nonum = [re.sub(num_regex, \" \", text) for text in docket_nopunct]\n",
    "    #new, remove if the last words are entered date\n",
    "    docket_noextraspace = re.sub(extraspace_regex, \" \", ' '.join(docket_nonum))\n",
    "    docket_no_entereddate = docket_noextraspace.replace('entered date', '')\n",
    "    \n",
    "    return docket_no_entereddate"
   ]
  },
  {
   "cell_type": "code",
   "execution_count": 26,
   "metadata": {},
   "outputs": [
    {
     "name": "stdout",
     "output_type": "stream",
     "text": [
      "took 1.380718469619751 seconds\n"
     ]
    }
   ],
   "source": [
    "t0 = time.time()\n",
    "new_df['normalized'] = new_df['Stripped Org and Name'].apply(lambda x: normalize(x))\n",
    "print('took {} seconds'.format(time.time() - t0))"
   ]
  },
  {
   "cell_type": "code",
   "execution_count": 27,
   "metadata": {},
   "outputs": [
    {
     "data": {
      "text/plain": [
       "'complaint against filing fee receipt number was the disclosure statement on civil cover sheet completed yes filed by llc additional attachment s added on date civil cover sheet proposed summons  '"
      ]
     },
     "execution_count": 27,
     "metadata": {},
     "output_type": "execute_result"
    }
   ],
   "source": [
    "new_df['normalized'].iloc[0]"
   ]
  },
  {
   "cell_type": "code",
   "execution_count": 28,
   "metadata": {},
   "outputs": [],
   "source": [
    "def tokenize(docket_noextraspace):\n",
    "    return word_tokenize(docket_noextraspace)"
   ]
  },
  {
   "cell_type": "code",
   "execution_count": 29,
   "metadata": {},
   "outputs": [
    {
     "name": "stdout",
     "output_type": "stream",
     "text": [
      "took 0.832021951675415 seconds\n"
     ]
    }
   ],
   "source": [
    "t0 = time.time()\n",
    "new_df['tokenize'] = new_df['normalized'].apply(tokenize)\n",
    "print('took {} seconds'.format(time.time() - t0))"
   ]
  },
  {
   "cell_type": "code",
   "execution_count": 30,
   "metadata": {},
   "outputs": [],
   "source": [
    "def stopwords(docket_tokenized):  \n",
    "    return [word for word in docket_tokenized if word not in sw]"
   ]
  },
  {
   "cell_type": "code",
   "execution_count": 31,
   "metadata": {},
   "outputs": [
    {
     "name": "stdout",
     "output_type": "stream",
     "text": [
      "took 0.268829345703125 seconds\n"
     ]
    }
   ],
   "source": [
    "t0 = time.time()\n",
    "new_df['nostop'] = new_df['tokenize'].apply(stopwords)\n",
    "print('took {} seconds'.format(time.time() - t0))"
   ]
  },
  {
   "cell_type": "code",
   "execution_count": 32,
   "metadata": {},
   "outputs": [],
   "source": [
    "#this is updated, comparing mannual_topics_20180828 and manual_topics_20180911 and manual_topics_20180919\n",
    "manual_topics_df = pd.read_csv('manual_topics_20180919.csv') \n",
    "manual_topics_df = manual_topics_df.apply(lambda x: x.astype(str).str.lower())\n",
    "manual_topics_dict = manual_topics_df.to_dict('list')\n",
    "for topic in manual_topics_dict.keys():\n",
    "    manual_topics_dict[topic] = [keyword for keyword in manual_topics_dict[topic] if keyword != 'nan']"
   ]
  },
  {
   "cell_type": "code",
   "execution_count": 33,
   "metadata": {},
   "outputs": [],
   "source": [
    "#this is updated, comparing mannual_topics_20180828 and manual_topics_20180911 and manual_topics_20180919\n",
    "manual_topics_df = pd.read_csv('manual_topics_20180919.csv') \n",
    "manual_topics_df = manual_topics_df.apply(lambda x: x.astype(str).str.lower())\n",
    "manual_topics_dict = manual_topics_df.to_dict('list')\n",
    "for topic in manual_topics_dict.keys():\n",
    "    manual_topics_dict[topic] = [keyword for keyword in manual_topics_dict[topic] if keyword != 'nan']"
   ]
  },
  {
   "cell_type": "code",
   "execution_count": 34,
   "metadata": {},
   "outputs": [],
   "source": [
    "#output a list of topics\n",
    "def mannual_topic_assignment(text):\n",
    "    #text = text.split()\n",
    "    #print(text)\n",
    "    output = []\n",
    "    for topic in manual_topics_dict.keys():\n",
    "        for keyword in manual_topics_dict[topic]:\n",
    "            if ' '.join(text).find(keyword) != -1:\n",
    "                output.append(topic)\n",
    "    #print(output)\n",
    "    #if there's motion to dismiss, then remove noaction\n",
    "    if ' '.join(text).find('motion dismiss') != -1 and 'NoAction' in output:\n",
    "        output = list(set(output))\n",
    "        output.remove('NoAction')\n",
    "    return ', '.join(set(output))"
   ]
  },
  {
   "cell_type": "code",
   "execution_count": 35,
   "metadata": {},
   "outputs": [],
   "source": [
    "docket_texts_output = list(new_df['nostop'])\n",
    "\n",
    "docket_texts_output_DT = []\n",
    "topics_DT = []\n",
    "NoAction = []\n",
    "\n",
    "for text in docket_texts_output:\n",
    "    topic = mannual_topic_assignment(text)\n",
    "    #print(text, topic)\n",
    "    if topic != '':\n",
    "        docket_texts_output_DT.append('')\n",
    "        topics_DT.append(topic)\n",
    "        if 'NoAction' in topic:\n",
    "            NoAction.append(1)\n",
    "        else:\n",
    "            NoAction.append(0)\n",
    "    else:\n",
    "        docket_texts_output_DT.append(text)\n",
    "        topics_DT.append('')\n",
    "        NoAction.append(0)"
   ]
  },
  {
   "cell_type": "code",
   "execution_count": 36,
   "metadata": {},
   "outputs": [
    {
     "name": "stdout",
     "output_type": "stream",
     "text": [
      "(3244, 11)\n"
     ]
    },
    {
     "data": {
      "text/html": [
       "<div>\n",
       "<table border=\"1\" class=\"dataframe\">\n",
       "  <thead>\n",
       "    <tr style=\"text-align: right;\">\n",
       "      <th></th>\n",
       "      <th>Original Docket Text</th>\n",
       "      <th>Organization Portion</th>\n",
       "      <th>Name Portion</th>\n",
       "      <th>Identifying Org and Name</th>\n",
       "      <th>Stripped Org and Name</th>\n",
       "      <th>normalized</th>\n",
       "      <th>tokenize</th>\n",
       "      <th>nostop</th>\n",
       "      <th>DT Topics</th>\n",
       "      <th>NoAction</th>\n",
       "      <th>Removed unnecessary POS &amp; vocab DT</th>\n",
       "    </tr>\n",
       "  </thead>\n",
       "  <tbody>\n",
       "    <tr>\n",
       "      <th>0</th>\n",
       "      <td>COMPLAINT against Cardiogenics Holdings, Inc. ...</td>\n",
       "      <td>Cardiogenics Holdings , Inc. LG Capital Funding</td>\n",
       "      <td>( Steinmetz Michael Bowens Priscilla</td>\n",
       "      <td>COMPLAINT against -ORG- -ORG- -ORG- -ORG- fili...</td>\n",
       "      <td>COMPLAINT against filing fee $ 400 , receipt n...</td>\n",
       "      <td>complaint against filing fee receipt number wa...</td>\n",
       "      <td>[complaint, against, filing, fee, receipt, num...</td>\n",
       "      <td>[complaint, filing, fee, receipt, number, disc...</td>\n",
       "      <td>Complaints, Service of Process, Motions</td>\n",
       "      <td>0</td>\n",
       "      <td></td>\n",
       "    </tr>\n",
       "    <tr>\n",
       "      <th>1</th>\n",
       "      <td>Case assigned to Judge Ann M Donnelly and Magi...</td>\n",
       "      <td>Individual Practices of the assigned Judges</td>\n",
       "      <td>Ann M Donnelly Vera M. Scanlon Bowens Priscilla</td>\n",
       "      <td>Case assigned to Judge -NAME- -NAME- -NAME- an...</td>\n",
       "      <td>Case assigned to Judge and Magistrate Judge . ...</td>\n",
       "      <td>case assigned to judge and magistrate judge pl...</td>\n",
       "      <td>[case, assigned, to, judge, and, magistrate, j...</td>\n",
       "      <td>[case, assigned, judge, magistrate, judge, ple...</td>\n",
       "      <td>NoAction</td>\n",
       "      <td>1</td>\n",
       "      <td></td>\n",
       "    </tr>\n",
       "    <tr>\n",
       "      <th>2</th>\n",
       "      <td>Summons Issued as to Cardiogenics Holdings, In...</td>\n",
       "      <td>Cardiogenics Holdings</td>\n",
       "      <td>Bowens Priscilla</td>\n",
       "      <td>Summons Issued as to -ORG- -ORG- , Inc.. ( -NA...</td>\n",
       "      <td>Summons Issued as to , Inc.. ( , ) ( Entered :...</td>\n",
       "      <td>summons issued as to inc</td>\n",
       "      <td>[summons, issued, as, to, inc]</td>\n",
       "      <td>[summons, issued, inc]</td>\n",
       "      <td>Service of Process</td>\n",
       "      <td>0</td>\n",
       "      <td></td>\n",
       "    </tr>\n",
       "    <tr>\n",
       "      <th>3</th>\n",
       "      <td>NOTICE - emailed attorney regarding missing se...</td>\n",
       "      <td></td>\n",
       "      <td>Bowens Priscilla</td>\n",
       "      <td>NOTICE - emailed attorney regarding missing se...</td>\n",
       "      <td>NOTICE - emailed attorney regarding missing se...</td>\n",
       "      <td>notice emailed attorney regarding missing seco...</td>\n",
       "      <td>[notice, emailed, attorney, regarding, missing...</td>\n",
       "      <td>[notice, emailed, attorney, regarding, missing...</td>\n",
       "      <td>NoAction, Notices</td>\n",
       "      <td>1</td>\n",
       "      <td></td>\n",
       "    </tr>\n",
       "    <tr>\n",
       "      <th>4</th>\n",
       "      <td>In accordance with Rule 73 of the Federal Rule...</td>\n",
       "      <td></td>\n",
       "      <td>Bowens Priscilla</td>\n",
       "      <td>In accordance with Rule 73 of the Federal Rule...</td>\n",
       "      <td>In accordance with Rule 73 of the Federal Rule...</td>\n",
       "      <td>in accordance with rule of the federal rules o...</td>\n",
       "      <td>[in, accordance, with, rule, of, the, federal,...</td>\n",
       "      <td>[accordance, rule, federal, rules, civil, proc...</td>\n",
       "      <td>Order, Notices, Motions, Judgment</td>\n",
       "      <td>0</td>\n",
       "      <td></td>\n",
       "    </tr>\n",
       "  </tbody>\n",
       "</table>\n",
       "</div>"
      ],
      "text/plain": [
       "                                Original Docket Text  \\\n",
       "0  COMPLAINT against Cardiogenics Holdings, Inc. ...   \n",
       "1  Case assigned to Judge Ann M Donnelly and Magi...   \n",
       "2  Summons Issued as to Cardiogenics Holdings, In...   \n",
       "3  NOTICE - emailed attorney regarding missing se...   \n",
       "4  In accordance with Rule 73 of the Federal Rule...   \n",
       "\n",
       "                              Organization Portion  \\\n",
       "0  Cardiogenics Holdings , Inc. LG Capital Funding   \n",
       "1      Individual Practices of the assigned Judges   \n",
       "2                            Cardiogenics Holdings   \n",
       "3                                                    \n",
       "4                                                    \n",
       "\n",
       "                                      Name Portion  \\\n",
       "0             ( Steinmetz Michael Bowens Priscilla   \n",
       "1  Ann M Donnelly Vera M. Scanlon Bowens Priscilla   \n",
       "2                                 Bowens Priscilla   \n",
       "3                                 Bowens Priscilla   \n",
       "4                                 Bowens Priscilla   \n",
       "\n",
       "                            Identifying Org and Name  \\\n",
       "0  COMPLAINT against -ORG- -ORG- -ORG- -ORG- fili...   \n",
       "1  Case assigned to Judge -NAME- -NAME- -NAME- an...   \n",
       "2  Summons Issued as to -ORG- -ORG- , Inc.. ( -NA...   \n",
       "3  NOTICE - emailed attorney regarding missing se...   \n",
       "4  In accordance with Rule 73 of the Federal Rule...   \n",
       "\n",
       "                               Stripped Org and Name  \\\n",
       "0  COMPLAINT against filing fee $ 400 , receipt n...   \n",
       "1  Case assigned to Judge and Magistrate Judge . ...   \n",
       "2  Summons Issued as to , Inc.. ( , ) ( Entered :...   \n",
       "3  NOTICE - emailed attorney regarding missing se...   \n",
       "4  In accordance with Rule 73 of the Federal Rule...   \n",
       "\n",
       "                                          normalized  \\\n",
       "0  complaint against filing fee receipt number wa...   \n",
       "1  case assigned to judge and magistrate judge pl...   \n",
       "2                         summons issued as to inc     \n",
       "3  notice emailed attorney regarding missing seco...   \n",
       "4  in accordance with rule of the federal rules o...   \n",
       "\n",
       "                                            tokenize  \\\n",
       "0  [complaint, against, filing, fee, receipt, num...   \n",
       "1  [case, assigned, to, judge, and, magistrate, j...   \n",
       "2                     [summons, issued, as, to, inc]   \n",
       "3  [notice, emailed, attorney, regarding, missing...   \n",
       "4  [in, accordance, with, rule, of, the, federal,...   \n",
       "\n",
       "                                              nostop  \\\n",
       "0  [complaint, filing, fee, receipt, number, disc...   \n",
       "1  [case, assigned, judge, magistrate, judge, ple...   \n",
       "2                             [summons, issued, inc]   \n",
       "3  [notice, emailed, attorney, regarding, missing...   \n",
       "4  [accordance, rule, federal, rules, civil, proc...   \n",
       "\n",
       "                                 DT Topics  NoAction  \\\n",
       "0  Complaints, Service of Process, Motions         0   \n",
       "1                                 NoAction         1   \n",
       "2                       Service of Process         0   \n",
       "3                        NoAction, Notices         1   \n",
       "4        Order, Notices, Motions, Judgment         0   \n",
       "\n",
       "  Removed unnecessary POS & vocab DT  \n",
       "0                                     \n",
       "1                                     \n",
       "2                                     \n",
       "3                                     \n",
       "4                                     "
      ]
     },
     "execution_count": 36,
     "metadata": {},
     "output_type": "execute_result"
    }
   ],
   "source": [
    "new_df['DT Topics'] = pd.Series(topics_DT)\n",
    "new_df['NoAction'] = pd.Series(NoAction)\n",
    "new_df['Removed unnecessary POS & vocab DT'] = pd.Series(docket_texts_output_DT)\n",
    "print(new_df.shape)\n",
    "new_df.head()"
   ]
  },
  {
   "cell_type": "code",
   "execution_count": 37,
   "metadata": {},
   "outputs": [],
   "source": [
    "def lemm(docket_nostop):\n",
    "    return ' '.join([WordNetLemmatizer().lemmatize(word, pos='v') for word in docket_nostop])"
   ]
  },
  {
   "cell_type": "code",
   "execution_count": 38,
   "metadata": {},
   "outputs": [
    {
     "name": "stdout",
     "output_type": "stream",
     "text": [
      "took 1.985579013824463 seconds\n"
     ]
    },
    {
     "data": {
      "text/plain": [
       "(3244, 12)"
      ]
     },
     "execution_count": 38,
     "metadata": {},
     "output_type": "execute_result"
    }
   ],
   "source": [
    "t0 = time.time()\n",
    "new_df['lemmed'] = new_df['Removed unnecessary POS & vocab DT'].apply(lemm)\n",
    "print('took {} seconds'.format(time.time() - t0))\n",
    "new_df.shape"
   ]
  },
  {
   "cell_type": "code",
   "execution_count": 39,
   "metadata": {},
   "outputs": [
    {
     "data": {
      "text/plain": [
       "['', '', '', '', '']"
      ]
     },
     "execution_count": 39,
     "metadata": {},
     "output_type": "execute_result"
    }
   ],
   "source": [
    "docket_phrase2 = list(new_df['lemmed'])\n",
    "docket_phrase2[:5]"
   ]
  },
  {
   "cell_type": "code",
   "execution_count": 40,
   "metadata": {},
   "outputs": [],
   "source": [
    "unigram_sentences_filepath = 'docket_texts/train/DT/unigram_nltk_newsop2.txt'"
   ]
  },
  {
   "cell_type": "code",
   "execution_count": 41,
   "metadata": {},
   "outputs": [
    {
     "name": "stdout",
     "output_type": "stream",
     "text": [
      "Wall time: 18.9 ms\n"
     ]
    }
   ],
   "source": [
    "%%time\n",
    "# turn the lemmatized corpus into unigram sentences\n",
    "with codecs.open(unigram_sentences_filepath, 'w', encoding = 'utf_8') as f:\n",
    "    for sentence in docket_phrase2:\n",
    "        f.write(sentence + '\\n')"
   ]
  },
  {
   "cell_type": "code",
   "execution_count": 42,
   "metadata": {},
   "outputs": [],
   "source": [
    "unigram_sentences = LineSentence(unigram_sentences_filepath)"
   ]
  },
  {
   "cell_type": "code",
   "execution_count": 43,
   "metadata": {},
   "outputs": [],
   "source": [
    "bigram_model_filepath = 'docket_texts/train/DT/bigram_model_newsop2' "
   ]
  },
  {
   "cell_type": "code",
   "execution_count": 44,
   "metadata": {},
   "outputs": [
    {
     "name": "stdout",
     "output_type": "stream",
     "text": [
      "Wall time: 128 ms\n"
     ]
    }
   ],
   "source": [
    "%%time\n",
    "\n",
    "# store our bigram model\n",
    "bigram_model = Phrases(unigram_sentences)\n",
    "bigram_model.save(bigram_model_filepath)\n",
    "    \n",
    "# load the finished model from disk if we don't want to run this again\n",
    "#bigram_model = Phrases.load(bigram_model_filepath)"
   ]
  },
  {
   "cell_type": "code",
   "execution_count": 45,
   "metadata": {},
   "outputs": [],
   "source": [
    "bigram_sentences_filepath = 'docket_texts/train/DT/bigram_sentences_newsop2.txt'"
   ]
  },
  {
   "cell_type": "code",
   "execution_count": 46,
   "metadata": {},
   "outputs": [
    {
     "name": "stdout",
     "output_type": "stream",
     "text": [
      "Wall time: 36.9 ms\n"
     ]
    },
    {
     "name": "stderr",
     "output_type": "stream",
     "text": [
      "c:\\users\\inves\\appdata\\local\\programs\\python\\python35\\lib\\site-packages\\gensim\\models\\phrases.py:494: UserWarning: For a faster implementation, use the gensim.models.phrases.Phraser class\n",
      "  warnings.warn(\"For a faster implementation, use the gensim.models.phrases.Phraser class\")\n"
     ]
    }
   ],
   "source": [
    "%%time\n",
    "\n",
    "# apply the bigram model, and write it to file\n",
    "with codecs.open(bigram_sentences_filepath, 'w', encoding = 'utf_8') as f:\n",
    "    for unigram_sentence in unigram_sentences:\n",
    "        bigram_sentence = ' '.join(bigram_model[unigram_sentence])\n",
    "        f.write(bigram_sentence + '\\n')"
   ]
  },
  {
   "cell_type": "code",
   "execution_count": 47,
   "metadata": {},
   "outputs": [],
   "source": [
    "bigram_sentences = LineSentence(bigram_sentences_filepath)"
   ]
  },
  {
   "cell_type": "code",
   "execution_count": 48,
   "metadata": {},
   "outputs": [
    {
     "name": "stdout",
     "output_type": "stream",
     "text": [
      "\n",
      "Unigram sentence:\n",
      "status report llc kehrli\n",
      "corporate disclosure statement\n",
      "status report propose brief schedule llc kehrli\n",
      "status report llc kehrli\n",
      "propose find fact llc kehrli\n",
      "witness list llc kehrli\n",
      "status report llc kehrli\n",
      "status report llc kehrli\n",
      "rule statement file llc\n",
      "civil cover sheet file\n",
      "\n",
      "Bigram sentence:\n",
      "status_report llc_kehrli\n",
      "corporate disclosure statement\n",
      "status_report propose brief schedule llc_kehrli\n",
      "status_report llc_kehrli\n",
      "propose_find fact llc_kehrli\n",
      "witness list llc_kehrli\n",
      "status_report llc_kehrli\n",
      "status_report llc_kehrli\n",
      "rule statement file llc\n",
      "civil_cover sheet file\n"
     ]
    }
   ],
   "source": [
    "print('\\nUnigram sentence:')\n",
    "for unigram_sentence in it.islice(unigram_sentences, 0, 10):\n",
    "    print(' '.join(unigram_sentence))\n",
    "print('\\nBigram sentence:')\n",
    "for bigram_sentence in it.islice(bigram_sentences, 0, 10):\n",
    "    print(' '.join(bigram_sentence))"
   ]
  },
  {
   "cell_type": "code",
   "execution_count": 49,
   "metadata": {},
   "outputs": [],
   "source": [
    "trigram_model_filepath = 'docket_texts/train/DT/trigram_model_newsop2'"
   ]
  },
  {
   "cell_type": "code",
   "execution_count": 57,
   "metadata": {},
   "outputs": [
    {
     "name": "stdout",
     "output_type": "stream",
     "text": [
      "Wall time: 7.98 ms\n"
     ]
    }
   ],
   "source": [
    "%%time\n",
    "\n",
    "# again, using Phrases to attach more words to phrases already formed\n",
    "trigram_model = Phrases(bigram_sentences)\n",
    "trigram_model.save(trigram_model_filepath)\n",
    "\n",
    "# load the finished model from disk\n",
    "#trigram_model = Phrases.load(trigram_model_filepath)"
   ]
  },
  {
   "cell_type": "code",
   "execution_count": 58,
   "metadata": {},
   "outputs": [],
   "source": [
    "trigram_sentences_filepath = 'docket_texts/train/DT/trigram_sentences_newsop2.txt'"
   ]
  },
  {
   "cell_type": "code",
   "execution_count": 59,
   "metadata": {},
   "outputs": [
    {
     "name": "stdout",
     "output_type": "stream",
     "text": [
      "Wall time: 8.95 ms\n"
     ]
    },
    {
     "name": "stderr",
     "output_type": "stream",
     "text": [
      "c:\\users\\inves\\appdata\\local\\programs\\python\\python35\\lib\\site-packages\\gensim\\models\\phrases.py:494: UserWarning: For a faster implementation, use the gensim.models.phrases.Phraser class\n",
      "  warnings.warn(\"For a faster implementation, use the gensim.models.phrases.Phraser class\")\n"
     ]
    }
   ],
   "source": [
    "%%time\n",
    "\n",
    "with codecs.open(trigram_sentences_filepath, 'w', encoding = 'utf_8') as f:\n",
    "    for bigram_sentence in bigram_sentences:\n",
    "        #print('Bi', bigram_sentence)\n",
    "        trigram_sentence = ' '.join(trigram_model[bigram_sentence])\n",
    "        #print('Tri', trigram_sentence)\n",
    "        f.write(trigram_sentence + '\\n')"
   ]
  },
  {
   "cell_type": "code",
   "execution_count": 60,
   "metadata": {},
   "outputs": [],
   "source": [
    "trigram_sentences = LineSentence(trigram_sentences_filepath)"
   ]
  },
  {
   "cell_type": "code",
   "execution_count": 61,
   "metadata": {},
   "outputs": [
    {
     "name": "stdout",
     "output_type": "stream",
     "text": [
      "Original text:\n",
      "['', '', '', '', ''] \n",
      "\n",
      "\n",
      "UNIGRAM Sentence:\n",
      "status report llc kehrli\n",
      "corporate disclosure statement\n",
      "status report propose brief schedule llc kehrli\n",
      "status report llc kehrli\n",
      "propose find fact llc kehrli\n",
      "\n",
      "BIGRAM Sentence:\n",
      "status_report llc_kehrli\n",
      "corporate disclosure statement\n",
      "status_report propose brief schedule llc_kehrli\n",
      "status_report llc_kehrli\n",
      "propose_find fact llc_kehrli\n",
      "\n",
      "TRIGRAM Sentence:\n",
      "status_report llc_kehrli\n",
      "corporate_disclosure statement\n",
      "status_report propose brief schedule llc_kehrli\n",
      "status_report llc_kehrli\n",
      "propose_find fact llc_kehrli\n"
     ]
    }
   ],
   "source": [
    "start = 0\n",
    "finish = 5\n",
    "print('Original text:')\n",
    "print(docket_phrase2[start:finish], '\\n')\n",
    "\n",
    "print('\\nUNIGRAM Sentence:')\n",
    "for unigram_sentence in it.islice(unigram_sentences, start, finish):\n",
    "    print(' '.join(unigram_sentence))\n",
    "print('\\nBIGRAM Sentence:')\n",
    "for bigram_sentence in it.islice(bigram_sentences, start, finish):\n",
    "    print(' '.join(bigram_sentence))\n",
    "print('\\nTRIGRAM Sentence:')\n",
    "for trigram_sentence in it.islice(trigram_sentences, start, finish):\n",
    "    print(' '.join(trigram_sentence))"
   ]
  },
  {
   "cell_type": "code",
   "execution_count": 62,
   "metadata": {},
   "outputs": [],
   "source": [
    "def trigram_transform(texts):\n",
    "    display = False\n",
    "    texts = str(texts)\n",
    "    trigram_output = ''\n",
    "    #print(texts)\n",
    "\n",
    "    remove_trigram = ['calendar_day', 'court_notice_intend', 'minute_entry_proceeding_hold', 'court_reportertranscriber_abovecaptioned_matter',\n",
    "                      'redaction_calendar_day', 'rule_statement', 'obtain_pacer', 'may_obtain_pacer', 'reportertranscriber_abovecaptioned_matter',\n",
    "                      'redact_transcript_deadline', 'send_chamber', \"official_transcript_notice_give\", \"notice_intent_request\", \"proceed_hold\", \n",
    "                      \"fee_receipt_number\", \"civil_procedure\", \"pursuant_frcp\", \"official_transcript_conference\", \n",
    "                      \"purchase_reportertranscriber_deadline_release\", \"et_al\", \"mail_chamber\", \"transcript_restriction\", \"redaction_transcript\", \n",
    "                      \"transcript_view_public_terminal\", \"transcript_make_remotely\", \"associated_et_al\", \"electronically_available_public_without\", \n",
    "                      \"genesys_id\", \"release_transcript_restriction\", \"adar_bay\", \"redaction_request_due\", \"new_york\", \"official_transcript_conference\", \n",
    "                      \"transcript_make_remotely\", \"transcript_proceeding_conference_hold\", \"redaction_transcript\",\n",
    "                      'affidavit_jr._c.p.a', 'corporate_parent', 'certain_underwriter', 'federal_rule_civil_procedure', 'redaction_request', \n",
    "                      'official_transcript', 'rule_disclosure', 'rule_corporate_disclosure', 'place_vault', 'public_without_redaction_calendar', \n",
    "                      'purchase_deadline_release_transcript', 'transcript_proceeding_hold', 'transcript_remotely_electronically_available',\n",
    "                      'minute_entry_hold', 'discovery_hear_hold', 'jury_trial_hold', \"sign_judge\",'place_vault']\n",
    "\n",
    "    if texts == None:\n",
    "        return None\n",
    "    \n",
    "    unigram_review = []\n",
    "    for word in texts.split():\n",
    "        unigram_review.append(word)\n",
    "    if display:\n",
    "        print('Uni: ', unigram_review)\n",
    "    bigram_review = bigram_model[unigram_review]\n",
    "    if display:\n",
    "        print('Bi: ', bigram_review)\n",
    "    trigram_review = trigram_model[bigram_review]\n",
    "    if display:\n",
    "        print('Tri: ', trigram_review)\n",
    "    trigram_review = [phrase for phrase in trigram_review if phrase not in remove_trigram]\n",
    "    if display:\n",
    "        print('Tri removed: ', trigram_review)\n",
    "    trigram_output += ' '.join(trigram_review)\n",
    "    \n",
    "    return trigram_output"
   ]
  },
  {
   "cell_type": "code",
   "execution_count": 63,
   "metadata": {},
   "outputs": [
    {
     "name": "stderr",
     "output_type": "stream",
     "text": [
      "c:\\users\\inves\\appdata\\local\\programs\\python\\python35\\lib\\site-packages\\gensim\\models\\phrases.py:494: UserWarning: For a faster implementation, use the gensim.models.phrases.Phraser class\n",
      "  warnings.warn(\"For a faster implementation, use the gensim.models.phrases.Phraser class\")\n"
     ]
    }
   ],
   "source": [
    "docket_phrase3 = [trigram_transform(text) for text in docket_phrase2]"
   ]
  },
  {
   "cell_type": "code",
   "execution_count": 64,
   "metadata": {},
   "outputs": [
    {
     "name": "stdout",
     "output_type": "stream",
     "text": [
      "['', '', '', '', '']\n",
      "['', '', '', '', '']\n"
     ]
    },
    {
     "data": {
      "text/plain": [
       "122"
      ]
     },
     "execution_count": 64,
     "metadata": {},
     "output_type": "execute_result"
    }
   ],
   "source": [
    "print(docket_phrase2[:5])\n",
    "print(docket_phrase3[:5])\n",
    "len(set(docket_phrase3))"
   ]
  },
  {
   "cell_type": "code",
   "execution_count": 65,
   "metadata": {},
   "outputs": [
    {
     "data": {
      "text/plain": [
       "(3244, 13)"
      ]
     },
     "execution_count": 65,
     "metadata": {},
     "output_type": "execute_result"
    }
   ],
   "source": [
    "new_df['phrases'] = pd.Series(docket_phrase3)\n",
    "new_df.shape"
   ]
  },
  {
   "cell_type": "code",
   "execution_count": 138,
   "metadata": {},
   "outputs": [
    {
     "data": {
      "text/html": [
       "<div>\n",
       "<table border=\"1\" class=\"dataframe\">\n",
       "  <thead>\n",
       "    <tr style=\"text-align: right;\">\n",
       "      <th></th>\n",
       "      <th>Original Docket Text</th>\n",
       "      <th>Organization Portion</th>\n",
       "      <th>Name Portion</th>\n",
       "      <th>Identifying Org and Name</th>\n",
       "      <th>Stripped Org and Name</th>\n",
       "      <th>normalized</th>\n",
       "      <th>tokenize</th>\n",
       "      <th>nostop</th>\n",
       "      <th>DT Topics</th>\n",
       "      <th>NoAction</th>\n",
       "      <th>Removed unnecessary POS &amp; vocab DT</th>\n",
       "      <th>lemmed</th>\n",
       "      <th>phrases</th>\n",
       "      <th>cleaned</th>\n",
       "    </tr>\n",
       "  </thead>\n",
       "  <tbody>\n",
       "    <tr>\n",
       "      <th>77</th>\n",
       "      <td>STATUS REPORT by LG Capital Funding, LLC (Kehr...</td>\n",
       "      <td>LG Capital Funding</td>\n",
       "      <td>Kevin</td>\n",
       "      <td>STATUS REPORT by -ORG- -ORG- -ORG- , LLC ( Keh...</td>\n",
       "      <td>STATUS REPORT by , LLC ( Kehrli , ) ( Entered ...</td>\n",
       "      <td>status report by llc kehrli</td>\n",
       "      <td>[status, report, by, llc, kehrli]</td>\n",
       "      <td>[status, report, llc, kehrli]</td>\n",
       "      <td></td>\n",
       "      <td>0</td>\n",
       "      <td>[status, report, llc, kehrli]</td>\n",
       "      <td>status report llc kehrli</td>\n",
       "      <td>status_report llc_kehrli</td>\n",
       "      <td>status_report llc_kehrli</td>\n",
       "    </tr>\n",
       "    <tr>\n",
       "      <th>151</th>\n",
       "      <td>Corporate Disclosure Statement by 5Barz Intern...</td>\n",
       "      <td>5Barz International , Inc.</td>\n",
       "      <td>Schatz Philip</td>\n",
       "      <td>Corporate Disclosure Statement by -ORG- -ORG- ...</td>\n",
       "      <td>Corporate Disclosure Statement by ( , ) ( Ente...</td>\n",
       "      <td>corporate disclosure statement by</td>\n",
       "      <td>[corporate, disclosure, statement, by]</td>\n",
       "      <td>[corporate, disclosure, statement]</td>\n",
       "      <td></td>\n",
       "      <td>0</td>\n",
       "      <td>[corporate, disclosure, statement]</td>\n",
       "      <td>corporate disclosure statement</td>\n",
       "      <td>corporate_disclosure statement</td>\n",
       "      <td>corporate_disclosure</td>\n",
       "    </tr>\n",
       "    <tr>\n",
       "      <th>174</th>\n",
       "      <td>STATUS REPORT and PROPOSED BRIEFING SCHEDULE b...</td>\n",
       "      <td>LG Capital Funding</td>\n",
       "      <td>Kevin</td>\n",
       "      <td>STATUS REPORT and PROPOSED BRIEFING SCHEDULE b...</td>\n",
       "      <td>STATUS REPORT and PROPOSED BRIEFING SCHEDULE b...</td>\n",
       "      <td>status report and proposed briefing schedule b...</td>\n",
       "      <td>[status, report, and, proposed, briefing, sche...</td>\n",
       "      <td>[status, report, proposed, briefing, schedule,...</td>\n",
       "      <td></td>\n",
       "      <td>0</td>\n",
       "      <td>[status, report, proposed, briefing, schedule,...</td>\n",
       "      <td>status report propose brief schedule llc kehrli</td>\n",
       "      <td>status_report propose brief schedule llc_kehrli</td>\n",
       "      <td>status_report propose brief schedule llc_kehrli</td>\n",
       "    </tr>\n",
       "    <tr>\n",
       "      <th>195</th>\n",
       "      <td>STATUS REPORT by LG Capital Funding, LLC (Kehr...</td>\n",
       "      <td>LG Capital Funding</td>\n",
       "      <td>Kevin</td>\n",
       "      <td>STATUS REPORT by -ORG- -ORG- -ORG- , LLC ( Keh...</td>\n",
       "      <td>STATUS REPORT by , LLC ( Kehrli , ) ( Entered ...</td>\n",
       "      <td>status report by llc kehrli</td>\n",
       "      <td>[status, report, by, llc, kehrli]</td>\n",
       "      <td>[status, report, llc, kehrli]</td>\n",
       "      <td></td>\n",
       "      <td>0</td>\n",
       "      <td>[status, report, llc, kehrli]</td>\n",
       "      <td>status report llc kehrli</td>\n",
       "      <td>status_report llc_kehrli</td>\n",
       "      <td>status_report llc_kehrli</td>\n",
       "    </tr>\n",
       "    <tr>\n",
       "      <th>237</th>\n",
       "      <td>Proposed Findings of Fact by LG Capital Fundin...</td>\n",
       "      <td>LG Capital Funding</td>\n",
       "      <td>Kevin</td>\n",
       "      <td>Proposed Findings of Fact by -ORG- -ORG- -ORG-...</td>\n",
       "      <td>Proposed Findings of Fact by , LLC ( Kehrli , ...</td>\n",
       "      <td>proposed findings of fact by llc kehrli</td>\n",
       "      <td>[proposed, findings, of, fact, by, llc, kehrli]</td>\n",
       "      <td>[proposed, findings, fact, llc, kehrli]</td>\n",
       "      <td></td>\n",
       "      <td>0</td>\n",
       "      <td>[proposed, findings, fact, llc, kehrli]</td>\n",
       "      <td>propose find fact llc kehrli</td>\n",
       "      <td>propose_find fact llc_kehrli</td>\n",
       "      <td>propose_find llc_kehrli</td>\n",
       "    </tr>\n",
       "  </tbody>\n",
       "</table>\n",
       "</div>"
      ],
      "text/plain": [
       "                                  Original Docket Text  \\\n",
       "77   STATUS REPORT by LG Capital Funding, LLC (Kehr...   \n",
       "151  Corporate Disclosure Statement by 5Barz Intern...   \n",
       "174  STATUS REPORT and PROPOSED BRIEFING SCHEDULE b...   \n",
       "195  STATUS REPORT by LG Capital Funding, LLC (Kehr...   \n",
       "237  Proposed Findings of Fact by LG Capital Fundin...   \n",
       "\n",
       "           Organization Portion   Name Portion  \\\n",
       "77           LG Capital Funding          Kevin   \n",
       "151  5Barz International , Inc.  Schatz Philip   \n",
       "174          LG Capital Funding          Kevin   \n",
       "195          LG Capital Funding          Kevin   \n",
       "237          LG Capital Funding          Kevin   \n",
       "\n",
       "                              Identifying Org and Name  \\\n",
       "77   STATUS REPORT by -ORG- -ORG- -ORG- , LLC ( Keh...   \n",
       "151  Corporate Disclosure Statement by -ORG- -ORG- ...   \n",
       "174  STATUS REPORT and PROPOSED BRIEFING SCHEDULE b...   \n",
       "195  STATUS REPORT by -ORG- -ORG- -ORG- , LLC ( Keh...   \n",
       "237  Proposed Findings of Fact by -ORG- -ORG- -ORG-...   \n",
       "\n",
       "                                 Stripped Org and Name  \\\n",
       "77   STATUS REPORT by , LLC ( Kehrli , ) ( Entered ...   \n",
       "151  Corporate Disclosure Statement by ( , ) ( Ente...   \n",
       "174  STATUS REPORT and PROPOSED BRIEFING SCHEDULE b...   \n",
       "195  STATUS REPORT by , LLC ( Kehrli , ) ( Entered ...   \n",
       "237  Proposed Findings of Fact by , LLC ( Kehrli , ...   \n",
       "\n",
       "                                            normalized  \\\n",
       "77                       status report by llc kehrli     \n",
       "151                corporate disclosure statement by     \n",
       "174  status report and proposed briefing schedule b...   \n",
       "195                      status report by llc kehrli     \n",
       "237          proposed findings of fact by llc kehrli     \n",
       "\n",
       "                                              tokenize  \\\n",
       "77                   [status, report, by, llc, kehrli]   \n",
       "151             [corporate, disclosure, statement, by]   \n",
       "174  [status, report, and, proposed, briefing, sche...   \n",
       "195                  [status, report, by, llc, kehrli]   \n",
       "237    [proposed, findings, of, fact, by, llc, kehrli]   \n",
       "\n",
       "                                                nostop DT Topics  NoAction  \\\n",
       "77                       [status, report, llc, kehrli]                   0   \n",
       "151                 [corporate, disclosure, statement]                   0   \n",
       "174  [status, report, proposed, briefing, schedule,...                   0   \n",
       "195                      [status, report, llc, kehrli]                   0   \n",
       "237            [proposed, findings, fact, llc, kehrli]                   0   \n",
       "\n",
       "                    Removed unnecessary POS & vocab DT  \\\n",
       "77                       [status, report, llc, kehrli]   \n",
       "151                 [corporate, disclosure, statement]   \n",
       "174  [status, report, proposed, briefing, schedule,...   \n",
       "195                      [status, report, llc, kehrli]   \n",
       "237            [proposed, findings, fact, llc, kehrli]   \n",
       "\n",
       "                                              lemmed  \\\n",
       "77                          status report llc kehrli   \n",
       "151                   corporate disclosure statement   \n",
       "174  status report propose brief schedule llc kehrli   \n",
       "195                         status report llc kehrli   \n",
       "237                     propose find fact llc kehrli   \n",
       "\n",
       "                                             phrases  \\\n",
       "77                          status_report llc_kehrli   \n",
       "151                   corporate_disclosure statement   \n",
       "174  status_report propose brief schedule llc_kehrli   \n",
       "195                         status_report llc_kehrli   \n",
       "237                     propose_find fact llc_kehrli   \n",
       "\n",
       "                                             cleaned  \n",
       "77                          status_report llc_kehrli  \n",
       "151                             corporate_disclosure  \n",
       "174  status_report propose brief schedule llc_kehrli  \n",
       "195                         status_report llc_kehrli  \n",
       "237                          propose_find llc_kehrli  "
      ]
     },
     "execution_count": 138,
     "metadata": {},
     "output_type": "execute_result"
    }
   ],
   "source": [
    "new_df[new_df['DT Topics'] == ''].head()"
   ]
  },
  {
   "cell_type": "code",
   "execution_count": 66,
   "metadata": {},
   "outputs": [
    {
     "data": {
      "text/plain": [
       "Index(['Original Docket Text', 'Organization Portion', 'Name Portion',\n",
       "       'Identifying Org and Name', 'Stripped Org and Name', 'normalized',\n",
       "       'tokenize', 'nostop', 'DT Topics', 'NoAction',\n",
       "       'Removed unnecessary POS & vocab DT', 'lemmed', 'phrases'],\n",
       "      dtype='object')"
      ]
     },
     "execution_count": 66,
     "metadata": {},
     "output_type": "execute_result"
    }
   ],
   "source": [
    "new_df.columns"
   ]
  },
  {
   "cell_type": "code",
   "execution_count": 67,
   "metadata": {},
   "outputs": [
    {
     "name": "stdout",
     "output_type": "stream",
     "text": [
      "orignal text: \n",
      "Case assigned to Judge Ann M Donnelly and Magistrate Judge Vera M. Scanlon. Please download and review the Individual Practices of the assigned Judges, located on our website. Attorneys are responsible for providing courtesy copies to judges where their Individual Practices require such. (Bowens, Priscilla) (Entered: 03/11/2016) \n",
      "\n",
      "org and name removed: \n",
      "Case assigned to Judge and Magistrate Judge . Please download and review the , located on our website . Attorneys are responsible for providing courtesy copies to judges where their Individual Practices require such . ( , ) ( Entered : 03/11/2016 ) \n",
      "\n",
      "normalized: \n",
      "case assigned to judge and magistrate judge please download and review the located on our website attorneys are responsible for providing courtesy copies to judges where their individual practices require such   \n",
      "\n",
      "stopwords removed: \n",
      "case assigned judge magistrate judge please download review located website attorneys responsible providing courtesy copies judges individual practices require \n",
      "\n",
      "after lemmetization: \n",
      " \n",
      "\n",
      "after phrase modeling: \n",
      " \n",
      "\n"
     ]
    }
   ],
   "source": [
    "i = 1\n",
    "print('orignal text: ')\n",
    "print(new_df['Original Docket Text'].iloc[i], '\\n')\n",
    "print('org and name removed: ')\n",
    "print(new_df['Stripped Org and Name'].iloc[i], '\\n')\n",
    "print('normalized: ')\n",
    "print(new_df['normalized'].iloc[i], '\\n')\n",
    "print('stopwords removed: ')\n",
    "print(' '.join(new_df['nostop'].iloc[i]), '\\n')\n",
    "print('after lemmetization: ')\n",
    "print(new_df['lemmed'].iloc[i], '\\n')\n",
    "print('after phrase modeling: ')\n",
    "print(new_df['phrases'].iloc[i], '\\n')"
   ]
  },
  {
   "cell_type": "code",
   "execution_count": 68,
   "metadata": {},
   "outputs": [],
   "source": [
    "remove_pos = list(pd.read_excel('NLP_to_be_removed.xlsx', sheetname = 0, header = None)[0])\n",
    "remove_word = list(pd.read_excel('NLP_to_be_removed.xlsx', sheetname = 1, header = None)[0])\n",
    "remove_trigram = list(pd.read_excel('NLP_to_be_removed.xlsx', sheetname = 2, header = None)[0])"
   ]
  },
  {
   "cell_type": "code",
   "execution_count": 69,
   "metadata": {},
   "outputs": [],
   "source": [
    "def remove_unnecessary(text):\n",
    "    new_text = []\n",
    "    text = text.split(' ')\n",
    "    for word in text:\n",
    "        if word not in remove_word and word not in remove_trigram:\n",
    "            new_text.append(word)\n",
    "    return ' '.join(new_text)"
   ]
  },
  {
   "cell_type": "code",
   "execution_count": 70,
   "metadata": {},
   "outputs": [
    {
     "name": "stdout",
     "output_type": "stream",
     "text": [
      "(3244, 14)\n"
     ]
    },
    {
     "data": {
      "text/html": [
       "<div>\n",
       "<table border=\"1\" class=\"dataframe\">\n",
       "  <thead>\n",
       "    <tr style=\"text-align: right;\">\n",
       "      <th></th>\n",
       "      <th>Original Docket Text</th>\n",
       "      <th>Organization Portion</th>\n",
       "      <th>Name Portion</th>\n",
       "      <th>Identifying Org and Name</th>\n",
       "      <th>Stripped Org and Name</th>\n",
       "      <th>normalized</th>\n",
       "      <th>tokenize</th>\n",
       "      <th>nostop</th>\n",
       "      <th>DT Topics</th>\n",
       "      <th>NoAction</th>\n",
       "      <th>Removed unnecessary POS &amp; vocab DT</th>\n",
       "      <th>lemmed</th>\n",
       "      <th>phrases</th>\n",
       "      <th>cleaned</th>\n",
       "    </tr>\n",
       "  </thead>\n",
       "  <tbody>\n",
       "    <tr>\n",
       "      <th>0</th>\n",
       "      <td>COMPLAINT against Cardiogenics Holdings, Inc. ...</td>\n",
       "      <td>Cardiogenics Holdings , Inc. LG Capital Funding</td>\n",
       "      <td>( Steinmetz Michael Bowens Priscilla</td>\n",
       "      <td>COMPLAINT against -ORG- -ORG- -ORG- -ORG- fili...</td>\n",
       "      <td>COMPLAINT against filing fee $ 400 , receipt n...</td>\n",
       "      <td>complaint against filing fee receipt number wa...</td>\n",
       "      <td>[complaint, against, filing, fee, receipt, num...</td>\n",
       "      <td>[complaint, filing, fee, receipt, number, disc...</td>\n",
       "      <td>Complaints, Service of Process, Motions</td>\n",
       "      <td>0</td>\n",
       "      <td></td>\n",
       "      <td></td>\n",
       "      <td></td>\n",
       "      <td></td>\n",
       "    </tr>\n",
       "    <tr>\n",
       "      <th>1</th>\n",
       "      <td>Case assigned to Judge Ann M Donnelly and Magi...</td>\n",
       "      <td>Individual Practices of the assigned Judges</td>\n",
       "      <td>Ann M Donnelly Vera M. Scanlon Bowens Priscilla</td>\n",
       "      <td>Case assigned to Judge -NAME- -NAME- -NAME- an...</td>\n",
       "      <td>Case assigned to Judge and Magistrate Judge . ...</td>\n",
       "      <td>case assigned to judge and magistrate judge pl...</td>\n",
       "      <td>[case, assigned, to, judge, and, magistrate, j...</td>\n",
       "      <td>[case, assigned, judge, magistrate, judge, ple...</td>\n",
       "      <td>NoAction</td>\n",
       "      <td>1</td>\n",
       "      <td></td>\n",
       "      <td></td>\n",
       "      <td></td>\n",
       "      <td></td>\n",
       "    </tr>\n",
       "    <tr>\n",
       "      <th>2</th>\n",
       "      <td>Summons Issued as to Cardiogenics Holdings, In...</td>\n",
       "      <td>Cardiogenics Holdings</td>\n",
       "      <td>Bowens Priscilla</td>\n",
       "      <td>Summons Issued as to -ORG- -ORG- , Inc.. ( -NA...</td>\n",
       "      <td>Summons Issued as to , Inc.. ( , ) ( Entered :...</td>\n",
       "      <td>summons issued as to inc</td>\n",
       "      <td>[summons, issued, as, to, inc]</td>\n",
       "      <td>[summons, issued, inc]</td>\n",
       "      <td>Service of Process</td>\n",
       "      <td>0</td>\n",
       "      <td></td>\n",
       "      <td></td>\n",
       "      <td></td>\n",
       "      <td></td>\n",
       "    </tr>\n",
       "    <tr>\n",
       "      <th>3</th>\n",
       "      <td>NOTICE - emailed attorney regarding missing se...</td>\n",
       "      <td></td>\n",
       "      <td>Bowens Priscilla</td>\n",
       "      <td>NOTICE - emailed attorney regarding missing se...</td>\n",
       "      <td>NOTICE - emailed attorney regarding missing se...</td>\n",
       "      <td>notice emailed attorney regarding missing seco...</td>\n",
       "      <td>[notice, emailed, attorney, regarding, missing...</td>\n",
       "      <td>[notice, emailed, attorney, regarding, missing...</td>\n",
       "      <td>NoAction, Notices</td>\n",
       "      <td>1</td>\n",
       "      <td></td>\n",
       "      <td></td>\n",
       "      <td></td>\n",
       "      <td></td>\n",
       "    </tr>\n",
       "    <tr>\n",
       "      <th>4</th>\n",
       "      <td>In accordance with Rule 73 of the Federal Rule...</td>\n",
       "      <td></td>\n",
       "      <td>Bowens Priscilla</td>\n",
       "      <td>In accordance with Rule 73 of the Federal Rule...</td>\n",
       "      <td>In accordance with Rule 73 of the Federal Rule...</td>\n",
       "      <td>in accordance with rule of the federal rules o...</td>\n",
       "      <td>[in, accordance, with, rule, of, the, federal,...</td>\n",
       "      <td>[accordance, rule, federal, rules, civil, proc...</td>\n",
       "      <td>Order, Notices, Motions, Judgment</td>\n",
       "      <td>0</td>\n",
       "      <td></td>\n",
       "      <td></td>\n",
       "      <td></td>\n",
       "      <td></td>\n",
       "    </tr>\n",
       "  </tbody>\n",
       "</table>\n",
       "</div>"
      ],
      "text/plain": [
       "                                Original Docket Text  \\\n",
       "0  COMPLAINT against Cardiogenics Holdings, Inc. ...   \n",
       "1  Case assigned to Judge Ann M Donnelly and Magi...   \n",
       "2  Summons Issued as to Cardiogenics Holdings, In...   \n",
       "3  NOTICE - emailed attorney regarding missing se...   \n",
       "4  In accordance with Rule 73 of the Federal Rule...   \n",
       "\n",
       "                              Organization Portion  \\\n",
       "0  Cardiogenics Holdings , Inc. LG Capital Funding   \n",
       "1      Individual Practices of the assigned Judges   \n",
       "2                            Cardiogenics Holdings   \n",
       "3                                                    \n",
       "4                                                    \n",
       "\n",
       "                                      Name Portion  \\\n",
       "0             ( Steinmetz Michael Bowens Priscilla   \n",
       "1  Ann M Donnelly Vera M. Scanlon Bowens Priscilla   \n",
       "2                                 Bowens Priscilla   \n",
       "3                                 Bowens Priscilla   \n",
       "4                                 Bowens Priscilla   \n",
       "\n",
       "                            Identifying Org and Name  \\\n",
       "0  COMPLAINT against -ORG- -ORG- -ORG- -ORG- fili...   \n",
       "1  Case assigned to Judge -NAME- -NAME- -NAME- an...   \n",
       "2  Summons Issued as to -ORG- -ORG- , Inc.. ( -NA...   \n",
       "3  NOTICE - emailed attorney regarding missing se...   \n",
       "4  In accordance with Rule 73 of the Federal Rule...   \n",
       "\n",
       "                               Stripped Org and Name  \\\n",
       "0  COMPLAINT against filing fee $ 400 , receipt n...   \n",
       "1  Case assigned to Judge and Magistrate Judge . ...   \n",
       "2  Summons Issued as to , Inc.. ( , ) ( Entered :...   \n",
       "3  NOTICE - emailed attorney regarding missing se...   \n",
       "4  In accordance with Rule 73 of the Federal Rule...   \n",
       "\n",
       "                                          normalized  \\\n",
       "0  complaint against filing fee receipt number wa...   \n",
       "1  case assigned to judge and magistrate judge pl...   \n",
       "2                         summons issued as to inc     \n",
       "3  notice emailed attorney regarding missing seco...   \n",
       "4  in accordance with rule of the federal rules o...   \n",
       "\n",
       "                                            tokenize  \\\n",
       "0  [complaint, against, filing, fee, receipt, num...   \n",
       "1  [case, assigned, to, judge, and, magistrate, j...   \n",
       "2                     [summons, issued, as, to, inc]   \n",
       "3  [notice, emailed, attorney, regarding, missing...   \n",
       "4  [in, accordance, with, rule, of, the, federal,...   \n",
       "\n",
       "                                              nostop  \\\n",
       "0  [complaint, filing, fee, receipt, number, disc...   \n",
       "1  [case, assigned, judge, magistrate, judge, ple...   \n",
       "2                             [summons, issued, inc]   \n",
       "3  [notice, emailed, attorney, regarding, missing...   \n",
       "4  [accordance, rule, federal, rules, civil, proc...   \n",
       "\n",
       "                                 DT Topics  NoAction  \\\n",
       "0  Complaints, Service of Process, Motions         0   \n",
       "1                                 NoAction         1   \n",
       "2                       Service of Process         0   \n",
       "3                        NoAction, Notices         1   \n",
       "4        Order, Notices, Motions, Judgment         0   \n",
       "\n",
       "  Removed unnecessary POS & vocab DT lemmed phrases cleaned  \n",
       "0                                                            \n",
       "1                                                            \n",
       "2                                                            \n",
       "3                                                            \n",
       "4                                                            "
      ]
     },
     "execution_count": 70,
     "metadata": {},
     "output_type": "execute_result"
    }
   ],
   "source": [
    "new_df['cleaned'] = new_df['phrases'].apply(remove_unnecessary)\n",
    "print(new_df.shape)\n",
    "new_df.head()"
   ]
  },
  {
   "cell_type": "markdown",
   "metadata": {},
   "source": [
    "### If you are happy with the NLP process, START/STOP here\n",
    "\n",
    "### If you need to continue to merge with domain expert's answer key for the traning set, proceed:"
   ]
  },
  {
   "cell_type": "code",
   "execution_count": 115,
   "metadata": {
    "scrolled": true
   },
   "outputs": [
    {
     "name": "stdout",
     "output_type": "stream",
     "text": [
      "(3203, 10)\n"
     ]
    },
    {
     "data": {
      "text/html": [
       "<div>\n",
       "<table border=\"1\" class=\"dataframe\">\n",
       "  <thead>\n",
       "    <tr style=\"text-align: right;\">\n",
       "      <th></th>\n",
       "      <th>Original Docket Text</th>\n",
       "      <th>normalized</th>\n",
       "      <th>lemmed</th>\n",
       "      <th>phrases</th>\n",
       "      <th>DT Topics</th>\n",
       "      <th>NoAction</th>\n",
       "      <th>Action</th>\n",
       "      <th>If Action</th>\n",
       "      <th>Action revised</th>\n",
       "      <th>If Action revised</th>\n",
       "    </tr>\n",
       "  </thead>\n",
       "  <tbody>\n",
       "    <tr>\n",
       "      <th>3183</th>\n",
       "      <td>SEALED DOCUMENT placed in vault.(nm) (Entered:...</td>\n",
       "      <td>sealed document placed in vault nm entered date</td>\n",
       "      <td>NaN</td>\n",
       "      <td>NaN</td>\n",
       "      <td>NoAction, Motions</td>\n",
       "      <td>1</td>\n",
       "      <td>N</td>\n",
       "      <td>NaN</td>\n",
       "      <td>N</td>\n",
       "      <td>NaN</td>\n",
       "    </tr>\n",
       "    <tr>\n",
       "      <th>3184</th>\n",
       "      <td>Please be advised that Judge Abrams Courtroom ...</td>\n",
       "      <td>please be advised that judge abrams courtroom ...</td>\n",
       "      <td>please advise judge abrams courtroom chamber m...</td>\n",
       "      <td>please advise judge abrams courtroom chamber m...</td>\n",
       "      <td>NaN</td>\n",
       "      <td>0</td>\n",
       "      <td>Y</td>\n",
       "      <td>Attorney; Assistant</td>\n",
       "      <td>Y</td>\n",
       "      <td>Attorney; Assistant</td>\n",
       "    </tr>\n",
       "    <tr>\n",
       "      <th>3185</th>\n",
       "      <td>MOTION for Andrew John Estes and Simona Gory t...</td>\n",
       "      <td>motion for and to withdraw as attorney for and...</td>\n",
       "      <td>NaN</td>\n",
       "      <td>NaN</td>\n",
       "      <td>Motions</td>\n",
       "      <td>0</td>\n",
       "      <td>Y</td>\n",
       "      <td>Attorney</td>\n",
       "      <td>Y</td>\n",
       "      <td>Attorney</td>\n",
       "    </tr>\n",
       "    <tr>\n",
       "      <th>3186</th>\n",
       "      <td>MEMO ENDORSEMENT granting 204 MOTION FOR LEAVE...</td>\n",
       "      <td>memo endorsement granting motion for leave to ...</td>\n",
       "      <td>NaN</td>\n",
       "      <td>NaN</td>\n",
       "      <td>Motions, Order</td>\n",
       "      <td>0</td>\n",
       "      <td>Y</td>\n",
       "      <td>Attorney</td>\n",
       "      <td>Y</td>\n",
       "      <td>Attorney</td>\n",
       "    </tr>\n",
       "    <tr>\n",
       "      <th>3187</th>\n",
       "      <td>SIXTH REVISED SCHEDULING ORDER: Expert Discove...</td>\n",
       "      <td>sixth revised scheduling order expert discover...</td>\n",
       "      <td>NaN</td>\n",
       "      <td>NaN</td>\n",
       "      <td>Other Answers, Discovery, Order, Motions</td>\n",
       "      <td>0</td>\n",
       "      <td>Y</td>\n",
       "      <td>Attorney; Assistant</td>\n",
       "      <td>Y</td>\n",
       "      <td>Attorney; Assistant</td>\n",
       "    </tr>\n",
       "    <tr>\n",
       "      <th>3188</th>\n",
       "      <td>ENDORSED LETTER addressed to Magistrate Judge ...</td>\n",
       "      <td>endorsed letter addressed to magistrate judge ...</td>\n",
       "      <td>NaN</td>\n",
       "      <td>NaN</td>\n",
       "      <td>Discovery, Notices, Service of Process, Letter...</td>\n",
       "      <td>0</td>\n",
       "      <td>Y</td>\n",
       "      <td>Attorney; Assistant</td>\n",
       "      <td>Y</td>\n",
       "      <td>Attorney; Assistant</td>\n",
       "    </tr>\n",
       "    <tr>\n",
       "      <th>3189</th>\n",
       "      <td>ENDORSED LETTER addressed to Magistrate Judge ...</td>\n",
       "      <td>endorsed letter addressed to magistrate judge ...</td>\n",
       "      <td>NaN</td>\n",
       "      <td>NaN</td>\n",
       "      <td>Discovery, Notices, Service of Process, Letter...</td>\n",
       "      <td>0</td>\n",
       "      <td>Y</td>\n",
       "      <td>Attorney; Assistant</td>\n",
       "      <td>Y</td>\n",
       "      <td>Attorney; Assistant</td>\n",
       "    </tr>\n",
       "    <tr>\n",
       "      <th>3190</th>\n",
       "      <td>MOTION for Randall T. Adams to Withdraw as Att...</td>\n",
       "      <td>motion for to withdraw as attorney for plainti...</td>\n",
       "      <td>NaN</td>\n",
       "      <td>NaN</td>\n",
       "      <td>Motions</td>\n",
       "      <td>0</td>\n",
       "      <td>Y</td>\n",
       "      <td>Attorney</td>\n",
       "      <td>Y</td>\n",
       "      <td>Attorney</td>\n",
       "    </tr>\n",
       "    <tr>\n",
       "      <th>3191</th>\n",
       "      <td>MEMO ENDORSEMENT ON MOTION FOR LEAVE TO WITHDR...</td>\n",
       "      <td>memo endorsement on motion for leave to withdr...</td>\n",
       "      <td>NaN</td>\n",
       "      <td>NaN</td>\n",
       "      <td>Motions</td>\n",
       "      <td>0</td>\n",
       "      <td>Y</td>\n",
       "      <td>Attorney</td>\n",
       "      <td>Y</td>\n",
       "      <td>Attorney</td>\n",
       "    </tr>\n",
       "    <tr>\n",
       "      <th>3192</th>\n",
       "      <td>MOTION for Joseph P. Fishman to Withdraw as At...</td>\n",
       "      <td>motion for to withdraw as attorney document fi...</td>\n",
       "      <td>NaN</td>\n",
       "      <td>NaN</td>\n",
       "      <td>Motions, Service of Process</td>\n",
       "      <td>0</td>\n",
       "      <td>Y</td>\n",
       "      <td>Attorney; Assistant</td>\n",
       "      <td>Y</td>\n",
       "      <td>Attorney; Assistant</td>\n",
       "    </tr>\n",
       "    <tr>\n",
       "      <th>3193</th>\n",
       "      <td>MEMO ENDORSED on MOTION FOR LEAVE TO WITHDRAW ...</td>\n",
       "      <td>memo endorsed on motion for leave to withdraw ...</td>\n",
       "      <td>NaN</td>\n",
       "      <td>NaN</td>\n",
       "      <td>Motions, Notices, Order</td>\n",
       "      <td>0</td>\n",
       "      <td>Y</td>\n",
       "      <td>Attorney</td>\n",
       "      <td>Y</td>\n",
       "      <td>Attorney</td>\n",
       "    </tr>\n",
       "    <tr>\n",
       "      <th>3194</th>\n",
       "      <td>ENDORSED LETTER addressed to Judge Ronnie Abra...</td>\n",
       "      <td>endorsed letter addressed to judge from dated ...</td>\n",
       "      <td>NaN</td>\n",
       "      <td>NaN</td>\n",
       "      <td>Service of Process, Notices, Motions, Letter a...</td>\n",
       "      <td>0</td>\n",
       "      <td>Y</td>\n",
       "      <td>Attorney</td>\n",
       "      <td>Y</td>\n",
       "      <td>Attorney</td>\n",
       "    </tr>\n",
       "    <tr>\n",
       "      <th>3195</th>\n",
       "      <td>Minute Entry for proceedings held before Magis...</td>\n",
       "      <td>minute entry for proceedings held before magis...</td>\n",
       "      <td>NaN</td>\n",
       "      <td>NaN</td>\n",
       "      <td>NoAction, Notices</td>\n",
       "      <td>1</td>\n",
       "      <td>N</td>\n",
       "      <td>NaN</td>\n",
       "      <td>N</td>\n",
       "      <td>NaN</td>\n",
       "    </tr>\n",
       "    <tr>\n",
       "      <th>3196</th>\n",
       "      <td>SEVENTH REVISED SCHEDULING ORDER: The parties'...</td>\n",
       "      <td>seventh revised scheduling order the parties p...</td>\n",
       "      <td>NaN</td>\n",
       "      <td>NaN</td>\n",
       "      <td>Motions, Discovery, Order, Letter and Response</td>\n",
       "      <td>0</td>\n",
       "      <td>Y</td>\n",
       "      <td>Attorney; Assistant</td>\n",
       "      <td>Y</td>\n",
       "      <td>Attorney; Assistant</td>\n",
       "    </tr>\n",
       "    <tr>\n",
       "      <th>3197</th>\n",
       "      <td>STIPULATION OF VOLUNTARY DISMISSAL It is hereb...</td>\n",
       "      <td>stipulation of voluntary dismissal it is hereb...</td>\n",
       "      <td>NaN</td>\n",
       "      <td>NaN</td>\n",
       "      <td>Notices, Motions</td>\n",
       "      <td>0</td>\n",
       "      <td>Y</td>\n",
       "      <td>Attorney; Assistant</td>\n",
       "      <td>Y</td>\n",
       "      <td>Attorney; Assistant</td>\n",
       "    </tr>\n",
       "    <tr>\n",
       "      <th>3198</th>\n",
       "      <td>STIPULATION OF DISMISSAL WITH PREJUDICE: that ...</td>\n",
       "      <td>stipulation of dismissal with prejudice that t...</td>\n",
       "      <td>NaN</td>\n",
       "      <td>NaN</td>\n",
       "      <td>Motions, Notices, Order</td>\n",
       "      <td>0</td>\n",
       "      <td>Y</td>\n",
       "      <td>Attorney</td>\n",
       "      <td>Y</td>\n",
       "      <td>Attorney</td>\n",
       "    </tr>\n",
       "    <tr>\n",
       "      <th>3199</th>\n",
       "      <td>Terminate Transcript Deadlines (tn) (Entered: ...</td>\n",
       "      <td>terminate transcript deadlines tn entered date</td>\n",
       "      <td>NaN</td>\n",
       "      <td>NaN</td>\n",
       "      <td>NoAction, Notices</td>\n",
       "      <td>1</td>\n",
       "      <td>N</td>\n",
       "      <td>NaN</td>\n",
       "      <td>N</td>\n",
       "      <td>NaN</td>\n",
       "    </tr>\n",
       "    <tr>\n",
       "      <th>3200</th>\n",
       "      <td>STIPULATION AND ORDER MODIFYING STIPULATED CON...</td>\n",
       "      <td>stipulation and order modifying stipulated con...</td>\n",
       "      <td>NaN</td>\n",
       "      <td>NaN</td>\n",
       "      <td>Notices, Order</td>\n",
       "      <td>0</td>\n",
       "      <td>Y</td>\n",
       "      <td>Attorney; Assistant</td>\n",
       "      <td>Y</td>\n",
       "      <td>Attorney; Assistant</td>\n",
       "    </tr>\n",
       "    <tr>\n",
       "      <th>3201</th>\n",
       "      <td>NOTICE TO ATTORNEY TO RETRIEVE SEALED MATERIAL...</td>\n",
       "      <td>notice to attorney to retrieve sealed material...</td>\n",
       "      <td>NaN</td>\n",
       "      <td>NaN</td>\n",
       "      <td>Notices, Motions</td>\n",
       "      <td>0</td>\n",
       "      <td>Y</td>\n",
       "      <td>Attorney; Assistant</td>\n",
       "      <td>Y</td>\n",
       "      <td>Attorney; Assistant</td>\n",
       "    </tr>\n",
       "    <tr>\n",
       "      <th>3202</th>\n",
       "      <td>SEALED MATERIALS RETRIEVED: Document(s) 95 wer...</td>\n",
       "      <td>sealed materials retrieved document s were ret...</td>\n",
       "      <td>NaN</td>\n",
       "      <td>NaN</td>\n",
       "      <td>Motions</td>\n",
       "      <td>0</td>\n",
       "      <td>Y</td>\n",
       "      <td>Attorney</td>\n",
       "      <td>Y</td>\n",
       "      <td>Attorney</td>\n",
       "    </tr>\n",
       "  </tbody>\n",
       "</table>\n",
       "</div>"
      ],
      "text/plain": [
       "                                   Original Docket Text  \\\n",
       "3183  SEALED DOCUMENT placed in vault.(nm) (Entered:...   \n",
       "3184  Please be advised that Judge Abrams Courtroom ...   \n",
       "3185  MOTION for Andrew John Estes and Simona Gory t...   \n",
       "3186  MEMO ENDORSEMENT granting 204 MOTION FOR LEAVE...   \n",
       "3187  SIXTH REVISED SCHEDULING ORDER: Expert Discove...   \n",
       "3188  ENDORSED LETTER addressed to Magistrate Judge ...   \n",
       "3189  ENDORSED LETTER addressed to Magistrate Judge ...   \n",
       "3190  MOTION for Randall T. Adams to Withdraw as Att...   \n",
       "3191  MEMO ENDORSEMENT ON MOTION FOR LEAVE TO WITHDR...   \n",
       "3192  MOTION for Joseph P. Fishman to Withdraw as At...   \n",
       "3193  MEMO ENDORSED on MOTION FOR LEAVE TO WITHDRAW ...   \n",
       "3194  ENDORSED LETTER addressed to Judge Ronnie Abra...   \n",
       "3195  Minute Entry for proceedings held before Magis...   \n",
       "3196  SEVENTH REVISED SCHEDULING ORDER: The parties'...   \n",
       "3197  STIPULATION OF VOLUNTARY DISMISSAL It is hereb...   \n",
       "3198  STIPULATION OF DISMISSAL WITH PREJUDICE: that ...   \n",
       "3199  Terminate Transcript Deadlines (tn) (Entered: ...   \n",
       "3200  STIPULATION AND ORDER MODIFYING STIPULATED CON...   \n",
       "3201  NOTICE TO ATTORNEY TO RETRIEVE SEALED MATERIAL...   \n",
       "3202  SEALED MATERIALS RETRIEVED: Document(s) 95 wer...   \n",
       "\n",
       "                                             normalized  \\\n",
       "3183   sealed document placed in vault nm entered date    \n",
       "3184  please be advised that judge abrams courtroom ...   \n",
       "3185  motion for and to withdraw as attorney for and...   \n",
       "3186  memo endorsement granting motion for leave to ...   \n",
       "3187  sixth revised scheduling order expert discover...   \n",
       "3188  endorsed letter addressed to magistrate judge ...   \n",
       "3189  endorsed letter addressed to magistrate judge ...   \n",
       "3190  motion for to withdraw as attorney for plainti...   \n",
       "3191  memo endorsement on motion for leave to withdr...   \n",
       "3192  motion for to withdraw as attorney document fi...   \n",
       "3193  memo endorsed on motion for leave to withdraw ...   \n",
       "3194  endorsed letter addressed to judge from dated ...   \n",
       "3195  minute entry for proceedings held before magis...   \n",
       "3196  seventh revised scheduling order the parties p...   \n",
       "3197  stipulation of voluntary dismissal it is hereb...   \n",
       "3198  stipulation of dismissal with prejudice that t...   \n",
       "3199    terminate transcript deadlines tn entered date    \n",
       "3200  stipulation and order modifying stipulated con...   \n",
       "3201  notice to attorney to retrieve sealed material...   \n",
       "3202  sealed materials retrieved document s were ret...   \n",
       "\n",
       "                                                 lemmed  \\\n",
       "3183                                                NaN   \n",
       "3184  please advise judge abrams courtroom chamber m...   \n",
       "3185                                                NaN   \n",
       "3186                                                NaN   \n",
       "3187                                                NaN   \n",
       "3188                                                NaN   \n",
       "3189                                                NaN   \n",
       "3190                                                NaN   \n",
       "3191                                                NaN   \n",
       "3192                                                NaN   \n",
       "3193                                                NaN   \n",
       "3194                                                NaN   \n",
       "3195                                                NaN   \n",
       "3196                                                NaN   \n",
       "3197                                                NaN   \n",
       "3198                                                NaN   \n",
       "3199                                                NaN   \n",
       "3200                                                NaN   \n",
       "3201                                                NaN   \n",
       "3202                                                NaN   \n",
       "\n",
       "                                                phrases  \\\n",
       "3183                                                NaN   \n",
       "3184  please advise judge abrams courtroom chamber m...   \n",
       "3185                                                NaN   \n",
       "3186                                                NaN   \n",
       "3187                                                NaN   \n",
       "3188                                                NaN   \n",
       "3189                                                NaN   \n",
       "3190                                                NaN   \n",
       "3191                                                NaN   \n",
       "3192                                                NaN   \n",
       "3193                                                NaN   \n",
       "3194                                                NaN   \n",
       "3195                                                NaN   \n",
       "3196                                                NaN   \n",
       "3197                                                NaN   \n",
       "3198                                                NaN   \n",
       "3199                                                NaN   \n",
       "3200                                                NaN   \n",
       "3201                                                NaN   \n",
       "3202                                                NaN   \n",
       "\n",
       "                                              DT Topics  NoAction Action  \\\n",
       "3183                                  NoAction, Motions         1      N   \n",
       "3184                                                NaN         0      Y   \n",
       "3185                                            Motions         0      Y   \n",
       "3186                                     Motions, Order         0      Y   \n",
       "3187           Other Answers, Discovery, Order, Motions         0      Y   \n",
       "3188  Discovery, Notices, Service of Process, Letter...         0      Y   \n",
       "3189  Discovery, Notices, Service of Process, Letter...         0      Y   \n",
       "3190                                            Motions         0      Y   \n",
       "3191                                            Motions         0      Y   \n",
       "3192                        Motions, Service of Process         0      Y   \n",
       "3193                            Motions, Notices, Order         0      Y   \n",
       "3194  Service of Process, Notices, Motions, Letter a...         0      Y   \n",
       "3195                                  NoAction, Notices         1      N   \n",
       "3196     Motions, Discovery, Order, Letter and Response         0      Y   \n",
       "3197                                   Notices, Motions         0      Y   \n",
       "3198                            Motions, Notices, Order         0      Y   \n",
       "3199                                  NoAction, Notices         1      N   \n",
       "3200                                     Notices, Order         0      Y   \n",
       "3201                                   Notices, Motions         0      Y   \n",
       "3202                                            Motions         0      Y   \n",
       "\n",
       "                If Action Action revised    If Action revised  \n",
       "3183                  NaN              N                  NaN  \n",
       "3184  Attorney; Assistant              Y  Attorney; Assistant  \n",
       "3185             Attorney              Y             Attorney  \n",
       "3186             Attorney              Y             Attorney  \n",
       "3187  Attorney; Assistant              Y  Attorney; Assistant  \n",
       "3188  Attorney; Assistant              Y  Attorney; Assistant  \n",
       "3189  Attorney; Assistant              Y  Attorney; Assistant  \n",
       "3190             Attorney              Y             Attorney  \n",
       "3191             Attorney              Y             Attorney  \n",
       "3192  Attorney; Assistant              Y  Attorney; Assistant  \n",
       "3193             Attorney              Y             Attorney  \n",
       "3194             Attorney              Y             Attorney  \n",
       "3195                  NaN              N                  NaN  \n",
       "3196  Attorney; Assistant              Y  Attorney; Assistant  \n",
       "3197  Attorney; Assistant              Y  Attorney; Assistant  \n",
       "3198             Attorney              Y             Attorney  \n",
       "3199                  NaN              N                  NaN  \n",
       "3200  Attorney; Assistant              Y  Attorney; Assistant  \n",
       "3201  Attorney; Assistant              Y  Attorney; Assistant  \n",
       "3202             Attorney              Y             Attorney  "
      ]
     },
     "execution_count": 115,
     "metadata": {},
     "output_type": "execute_result"
    }
   ],
   "source": [
    "train_filename = r'E:\\WinUser\\Documents\\Python Code\\AI Paralegal\\docket_texts\\Train\\DT\\train_tempfile.xlsx'\n",
    "old_df = pd.read_excel(train_filename)\n",
    "\n",
    "print(old_df.shape)\n",
    "old_df.tail(20)"
   ]
  },
  {
   "cell_type": "code",
   "execution_count": 116,
   "metadata": {},
   "outputs": [
    {
     "name": "stdout",
     "output_type": "stream",
     "text": [
      "(3203, 10)\n"
     ]
    },
    {
     "data": {
      "text/plain": [
       "Index(['Original Docket Text', 'normalized', 'lemmed', 'phrases', 'DT Topics',\n",
       "       'NoAction', 'Action', 'If Action', 'Action revised',\n",
       "       'If Action revised'],\n",
       "      dtype='object')"
      ]
     },
     "execution_count": 116,
     "metadata": {},
     "output_type": "execute_result"
    }
   ],
   "source": [
    "print(old_df.drop_duplicates().shape)\n",
    "old_df.columns"
   ]
  },
  {
   "cell_type": "code",
   "execution_count": 117,
   "metadata": {
    "scrolled": true
   },
   "outputs": [
    {
     "name": "stdout",
     "output_type": "stream",
     "text": [
      "(3203, 5)\n"
     ]
    },
    {
     "data": {
      "text/plain": [
       "Index(['Original Docket Text', 'Organization Portion', 'Name Portion',\n",
       "       'Identifying Org and Name', 'Stripped Org and Name', 'normalized',\n",
       "       'tokenize', 'nostop', 'DT Topics', 'NoAction',\n",
       "       'Removed unnecessary POS & vocab DT', 'lemmed', 'phrases', 'cleaned'],\n",
       "      dtype='object')"
      ]
     },
     "execution_count": 117,
     "metadata": {},
     "output_type": "execute_result"
    }
   ],
   "source": [
    "print(new_df[['Original Docket Text', 'normalized', 'lemmed', 'phrases', 'DT Topics']].drop_duplicates().shape)\n",
    "new_df.columns"
   ]
  },
  {
   "cell_type": "code",
   "execution_count": 118,
   "metadata": {},
   "outputs": [
    {
     "data": {
      "text/plain": [
       "\"Appeal Record Sent to USCA (Electronic File). Certified Indexed record on Appeal Electronic Files for 464 Endorsed Letter, 466 Transcript,, 452 Endorsed Letter,,,,, 457 Notice of Change of Address, filed by 7 World Trade Company, L.P., Silverstein Development Corp., Silverstein Properties, Inc., 459 Order,, 473 Notice of Appeal, filed by Nuclear Electric Insurance Limited, Consolidated Edison Company of New York, Inc., National Union Insurance Company of Pittsburgh, Liberty Insurance Underwriters, Inc., Certain Underwriters at Lloyds, (Syndicates 1225 and 1511), Aegis Insurance Services, Inc., 467 Notice of Filing Transcript,, 460 Endorsed Letter, Set Deadlines/Hearings,,,, 472 Notice of Appearance filed by Tishman Construction Corporation, 461 Endorsed Letter, Set Deadlines/Hearings,,,, 456 Notice of Change of Address, filed by 7 World Trade Company, L.P., Silverstein Development Corp., Silverstein Properties, Inc., 451 Endorsed Letter, 465 Stipulation and Order of Dismissal, 449 Notice (Other) filed by Industrial Risk Insurers, 468 Memorandum & Opinion,, 471 Memorandum of Law in Support of Motion, filed by 7 World Trade Company, L.P., Silverstein Development Corp., Silverstein Properties, Inc., 463 Endorsed Letter, 458 Notice of Change of Address, filed by 7 World Trade Company, L.P., Silverstein Development Corp., Silverstein Properties, Inc., 455 Notice of Change of Address, filed by 7 World Trade Company, L.P., Silverstein Development Corp., Silverstein Properties, Inc., 450 Endorsed Letter,, 469 Clerk's Judgment,, 462 Order, Set Deadlines/Hearings,, 470 MOTION to Alter Judgment. filed by 7 World Trade Company, L.P., Silverstein Development Corp., Silverstein Properties, Inc., 454 Endorsed Letter,, 334 Notice of Adoption of Master Answer filed by Boeing Co., 336 Answer to Amended Complaint,, filed by Colgan Air, Inc., 237 Reply Affirmation in Support of Motion filed by AMEC Construction Management Inc., 369 Certificate of Service Other, filed by Aegis Insurance Services, Inc., 166 Order on Motion to Appear Pro Hac Vice, 274 MOTION to Sever. filed by 7 World Trade Center Company, L.P., 64 Answer to Complaint, Crossclaim,,,,,, filed by Preferred Utilities Manufacturing Corp., 111 Consent filed by Ambassador Construction Co., Inc., 402 Declaration in Opposition to Motion,,, filed by Nuclear Electric Insurance Limited, Consolidated Edison Company of New York, Inc., National Union Insurance Company of Pittsburgh, Liberty Insurance Underwriters, Inc., Aegis Insurance Services, Inc., 295 Stipulation and Order of Dismissal,,, 161 MOTION for Francis M. Lynch to Appear Pro Hac Vice. filed by Fiberlock Technologies, Inc., 284 Memorandum of Law in Opposition to Motion, filed by 7 World Trade Center Company, L.P., Plaintiffs, 12 Affidavit of Service Complaints filed by Aegis Insurance Services, Inc., 43 Acknowledgment of Service Complaints filed by Aegis Insurance Services, Inc., 381 Order,,, 341 Rule 7.1 Corporate Disclosure Statement filed by Preferred Utilities Manufacturing Corp., 224 Third Party Complaint filed by Silverstein Properties, Inc., 420 Declaration in Support of Motion, filed by 7 World Trade Company, L.P., Silverstein Development Corp., Silverstein Properties, Inc., 34 Affidavit of Service Complaints filed by Aegis Insurance Services, Inc., 62 Answer to Complaint, Crossclaim,,,,,,,,,, filed by ABCO Peerless Sprinkler Corporation, 423 Declaration in Support of Motion,, filed by Salomon Smith Barney Holdings, Inc., Citigroup Global Markets Holdings Inc., Salomon Inc., Citigroup, Inc., 248 Stipulation and Order, 208 Order,, 329 Notice of Adoption of Master Answer filed by UAL Corporation, United Airlines, Inc., 378 Statement of Relatedness filed by Aegis Insurance Services, Inc., 417 Notice (Other), Notice (Other) filed by 7 World Trade Center Company, L.P., Silverstein Properties, Inc., 418 Reply Memorandum of Law in Support of Motion, filed by 7 World Trade Center Company, L.P., Silverstein Development Corp., Silverstein Properties, Inc., 228 Reply Memorandum of Law in Support of Motion, filed by Swanke Hayden Connell Archetects, Ambassador Construction Co., Inc., Cantor Seinuk Group, P.C., Cosentini Associates Inc., 363 MOTION for Anita Weinstein to Appear Pro Hac Vice. filed by Tishman Construction Corporation, 380 Endorsed Letter, Set Deadlines/Hearings,,,,,,,, 328 Affidavit of Service Other, filed by American Airlines, Inc., AMR Corporation, 416 Counter Statement to Rule 56.1, filed by Nuclear Electric Insurance Limited, Consolidated Edison Company of New York, Inc., National Union Insurance Company of Pittsburgh, Liberty Insurance Underwriters, Inc., Aegis Insurance Services, Inc., 401 Memorandum of Law in Support of Motion,, filed by Nuclear Electric Insurance Limited, Consolidated Edison Company of New York, Inc., National Union Insurance Company of Pittsburgh, Liberty Insurance Underwriters, Inc., Aegis Insurance Services, Inc., 396 Stipulation and Order, Add and Terminate Parties,,,,,, 429 Objection (non-motion), Objection (non-motion) filed by 7 World Trade Center Company, L.P., Silverstein Development Corp., Silverstein Properties, Inc., 117 Amended Answer to Complaints, Crossclaim filed by Preferred Utilities Manufacturing Corp., 14 Affidavit of Service Complaints filed by Aegis Insurance Services, Inc., 348 MOTION for Protective Order. filed by United Air Lines, Inc., 422 Rule 56.1 Statement filed by Salomon Smith Barney Holdings, Inc., Citigroup Global Markets Holdings Inc., Salomon Inc., Citigroup, Inc., 382 Memorandum & Opinion,,, 338 Rule 7.1 Corporate Disclosure Statement filed by Silverstein Development Corp., 15 Affidavit of Service Complaints filed by Aegis Insurance Services, Inc., 330 Notice of Adoption of Master Answer, filed by Huntleigh USA Corporation, 28 Affidavit of Service Complaints, filed by Aegis Insurance Services, Inc., 347 Answer to Crossclaim filed by 7 World Trade Center Company, L.P., Silverstein Development Corp., Silverstein Properties, Inc., 412 Certificate of Service Other,, filed by Nuclear Electric Insurance Limited, Consolidated Edison Company of New York, Inc., National Union Insurance Company of Pittsburgh, Liberty Insurance Underwriters, Inc., Aegis Insurance Services, Inc., 226 Order,,,,,, 38 Order, 399 Declaration in Opposition to Motion,,, filed by Nuclear Electric Insurance Limited, Consolidated Edison Company of New York, Inc., National Union Insurance Company of Pittsburgh, Liberty Insurance Underwriters, Inc., Aegis Insurance Services, Inc., 376 Scheduling Order,,,,, 393 Rule 56.1 Statement filed by Salomon Smith Barney Holdings, Inc., Citigroup Global Markets Holdings Inc., Salomon Inc., Citigroup, Inc., 225 Memo Endorsement, 61 Rule 7.1 Corporate Disclosure Statement filed by ABCO Peerless Sprinkler Corporation, 292 Memorandum of Law in Opposition to Motion, filed by Nuclear Electric Insurance Limited, National Union Insurance Company of Pittsburgh, Liberty Insurance Underwriters, Inc., Certain Underwriters at Lloyds, (Syndicates 1225 and 1511), Aegis Insurance Services, Inc., 26 Affidavit of Service Complaints, filed by Aegis Insurance Services, Inc., 433 Declaration in Opposition to Motion,, filed by 7 World Trade Company, L.P., Silverstein Development Corp., Silverstein Properties, Inc., 227 Notice of Claim (09/11) filed by The Port Authority of New York and New Jersey, 53 Affidavit of Service Complaints filed by Aegis Insurance Services, Inc., 286 MOTION to Dismiss Plaintiffs' Amended Complaint. filed by Fiberlock Technologies, Inc., 267 Declaration in Opposition to Motion, filed by 7 World Trade Center Company, L.P., World Trade Center Properties LLC, 207 Reply Memorandum of Law in Support of Motion, filed by Aegis Insurance Services, Inc., 325 Stipulation and Order of Dismissal,, 258 Memorandum of Law in Opposition to Motion,, filed by 7 World Trade Company, L.P., Silverstein Properties, Inc., 410 Declaration in Opposition to Motion,, filed by Nuclear Electric Insurance Limited, Consolidated Edison Company of New York, Inc., National Union Insurance Company of Pittsburgh, Liberty Insurance Underwriters, Inc., Aegis Insurance Services, Inc., 384 Order Admitting Attorney Pro Hac Vice, 7 Affidavit of Service Complaints filed by Salomon Inc., 301 Notice (Other) filed by US Airways Group, Inc., US Airways, Inc., 388 MOTION for Summary Judgment. filed by 7 World Trade Center Company, L.P., 7 World Trade Company, L.P., Silverstein Development Corp., Silverstein Properties, Inc., 186 Memorandum of Law in Support of Motion, filed by AMEC, PLC, 31 Affidavit of Service Complaints filed by Aegis Insurance Services, Inc., 219 Certificate of Service Other, filed by Salomon Smith Barney Holdings, Inc., Citigroup Global Markets Holdings Inc., Salomon Inc., Citigroup, Inc., 246 Affidavit of Service Complaints filed by 7 World Trade Company, L.P., 116 Affidavit of Service Complaints, filed by Aegis Insurance Services, Inc., 366 Memorandum of Law in Opposition to Motion, filed by Aegis Insurance Services, Inc., 279 Declaration in Opposition to Motion,, filed by 7 World Trade Center Company, L.P., Plaintiffs, 11 Affidavit of Service Complaints filed by Aegis Insurance Services, Inc., 322 Amended Complaint,,,,,, filed by Nuclear Electric Insurance Limited, Consolidated Edison Company of New York, Inc., National Union Insurance Company of Pittsburgh, Liberty Insurance Underwriters, Inc., Aegis Insurance Services, Inc., 253 MOTION to Dismiss Third-Party Complaint. filed by Flack & Kurtz, Inc., Skidmore Owings and Merrill, L.L.P., 421 Reply Memorandum of Law in Support of Motion,, filed by Salomon Smith Barney Holdings, Inc., Citigroup Global Markets Holdings Inc., Salomon Inc., Citigroup, Inc., 400 MOTION to Stay re: 388 MOTION for Summary Judgment. Cross-Motion to Stay Determination of Silverstein Defendants' Summary Judgment Motion as to Count XVII Pending Resolution of Appeal in 02-cv-7188. MOTION to Stay re: 388 MOTION for Summary Judgment. Cross-Motion to Stay Determination of Silverstein Defendants' Summary Judgment Motion as to Count XVII Pending Resolution of Appeal in 02-cv-7188. filed by Nuclear Electric Insurance Limited, Consolidated Edison Company of New York, Inc., National Union Insurance Company of Pittsburgh, Liberty Insurance Underwriters, Inc., 245 Affidavit of Service Complaints, filed by 7 World Trade Center Company, L.P., 448 Notice of Appeal, filed by Intervenors The WTC Plaintiffs, 240 Reply Memorandum of Law in Support of Motion filed by AMEC Construction Management Inc., 187 Memorandum of Law in Support of Motion, filed by AMEC, PLC, 63 Answer to Crossclaim,,,,,,, filed by Preferred Utilities Manufacturing Corp., 242 Answer to Complaint filed by Skidmore Owings and Merrill, L.L.P., 37 Affidavit of Service Complaints, filed by Aegis Insurance Services, Inc., 445 Stipulation of Voluntary Dismissal, filed by Fiberlock Technologies, Inc., 320 Order, 35 Affidavit of Service Complaints filed by Aegis Insurance Services, Inc., 387 Stipulation and Order of Dismissal, 390 Memorandum of Law in Support of Motion, filed by 7 World Trade Center Company, L.P., 7 World Trade Company, L.P., Silverstein Development Corp., Silverstein Properties, Inc., 264 Memorandum & Opinion, Terminate Motions,,,,,,,,,,,,,,,,,, 395 Memorandum of Law in Support of Motion, filed by Salomon Smith Barney Holdings, Inc., Citigroup Global Markets Holdings Inc., Salomon Inc., Citigroup, Inc., 312 Reply to Response to Motion, filed by Fiberlock Technologies, Inc., 126 Order,, 216 Answer to Crossclaim, filed by Salomon Smith Barney Holdings, Inc., Citigroup Global Markets Holdings Inc., Salomon Inc., Citigroup, Inc., 311 Endorsed Letter, Set Deadlines/Hearings,, 170 Order,,, 385 Endorsed Letter,, 41 Affidavit of Service Complaints filed by Aegis Insurance Services, Inc., 383 Endorsed Letter, 444 Notice of Change of Address, filed by Aegis Insurance Services, Inc., 181 Memorandum of Law in Support of Motion, filed by AMEC Construction Management Inc., 195 Answer to Complaint filed by Centifugal Associates, Inc., 257 Memorandum of Law in Opposition to Motion, filed by 7 World Trade Company, L.P., Silverstein Properties, Inc., 42 Affidavit of Service Complaints filed by Aegis Insurance Services, Inc., 206 Memorandum of Law, filed by Irwin G. Cantor, P.C., Cantor Seinuk Group, P.C., 184 Memorandum of Law in Support of Motion, filed by AMEC, PLC, 275 Declaration in Support of Motion,,, filed by 7 World Trade Center Company, L.P., 235 Reply Affirmation in Support of Motion filed by AMEC Construction Management Inc., 296 Stipulation and Order of Dismissal, Add and Terminate Parties,, 419 Declaration in Support of Motion,, filed by 7 World Trade Company, L.P., Silverstein Development Corp., Silverstein Properties, Inc., 404 Declaration in Opposition to Motion,,, filed by Nuclear Electric Insurance Limited, Consolidated Edison Company of New York, Inc., National Union Insurance Company of Pittsburgh, Liberty Insurance Underwriters, Inc., Aegis Insurance Services, Inc., 391 Declaration in Support of Motion,,, filed by 7 World Trade Center Company, L.P., 7 World Trade Company, L.P., Silverstein Development Corp., Silverstein Properties, Inc., 59 Affidavit of Service Other filed by Aegis Insurance Services, Inc., 405 Declaration in Opposition to Motion,, filed by Nuclear Electric Insurance Limited, Consolidated Edison Company of New York, Inc., National Union Insurance Company of Pittsburgh, Liberty Insurance Underwriters, Inc., Aegis Insurance Services, Inc., 426 MOTION for Leave to File Supplemental and Amended Expert Declarations Incorporating and Attaching Expert Reports in Further Opposition to Silverstein's and Citigroup's Motions for Summary Judgment. filed by Nuclear Electric Insurance Limited, Consolidated Edison Company of New York, Inc., National Union Insurance Company of Pittsburgh, Liberty Insurance Underwriters, Inc., Aegis Insurance Services, Inc., 349 Order, Set Deadlines/Hearings, Terminate Motions,,,,,,,,,,,,,,,,,,,,,,,,,,, 25 Affidavit of Service Complaints, filed by Aegis Insurance Services, Inc., 332 Notice of Adoption of Master Answer, filed by US Airways Group, Inc., US Airways, Inc., U.S. Airways Group, Inc., US Airways Inc., 29 Affidavit of Service Complaints filed by Aegis Insurance Services, Inc., 183 Memorandum of Law in Support of Motion, filed by AMEC, PLC, 269 Counter Statement to Rule 56.1 filed by World Trade Center Properties LLC, 60 Notice of Appearance filed by Flack & Kurtz, Inc., 360 Rule 56.1 Statement, filed by 7 World Trade Center Company, L.P., H.O. Penn Machinery Co., Inc., Preferred Utilities Manufacturing Corp., ABCO Peerless Sprinkler Corporation, Silverstein Development Corp., Citigroup Global Markets Holdings Inc., Fiberlock Technologies, Inc., Silverstein Properties, Inc., Citigroup, Inc., 337 Answer to Amended Complaint, Crossclaim,,,, filed by 7 World Trade Center Company, L.P., Silverstein Development Corp., Silverstein Properties, Inc., 408 Declaration in Opposition to Motion,, filed by Nuclear Electric Insurance Limited, Liberty Insurance Underwriters, Inc., Consolidated Edison Company of New York, Inc., National Union Insurance Company of Pittsburgh, Aegis Insurance Services, Inc., 344 Notice (Other) filed by Fiberlock Technologies, Inc., 180 Memorandum of Law in Support of Motion, filed by AMEC Construction Management Inc., 27 Affidavit of Service Complaints filed by Aegis Insurance Services, Inc., 20 Affidavit of Service Complaints filed by Aegis Insurance Services, Inc., 392 MOTION for Summary Judgment / Notice of Motion for Summary Judgment in Favor of Citigroup Inc. and Citigroup Global Markets Holdings Inc., dated November 24, 2009. filed by Salomon Inc., Salomon Smith Barney Holdings, Inc., Citigroup Global Markets Holdings Inc., Citigroup, Inc., 262 Reply Memorandum of Law in Support of Motion, filed by Flack & Kurtz, Inc., Skidmore Owings and Merrill, L.L.P., 185 Memorandum of Law in Support of Motion, filed by AMEC, PLC, 314 Stipulation and Order of Dismissal,,, 343 Answer to Amended Complaint, filed by Salomon Inc., Salomon Smith Barney Holdings, Inc., Citigroup Global Markets Holdings Inc., Citigroup, Inc., 16 Affidavit of Service Complaints filed by Aegis Insurance Services, Inc., 339 Endorsed Letter,, 19 Affidavit of Service Complaints filed by Aegis Insurance Services, Inc., 191 Memorandum of Law in Support of Motion, filed by AMEC, PLC, 178 Memorandum of Law in Support of Motion, filed by AMEC Construction Management Inc., 70 Answer to Complaint, Crossclaim filed by All Fire Systems, Inc., 150 Memorandum & Opinion, 430 Memorandum of Law in Opposition to Motion, filed by Salomon Inc., Salomon Smith Barney Holdings, Inc., Citigroup Global Markets Holdings Inc., Citigroup, Inc., 18 Affidavit of Service Complaints filed by Aegis Insurance Services, Inc., 293 Notice of Voluntary Dismissal - Signed, Stipulation and Order,, 273 Stipulation and Order of Dismissal,,, 261 Declaration in Support of Motion,, filed by Flack & Kurtz, Inc., Skidmore Owings and Merrill, L.L.P., 236 Reply Affirmation in Support of Motion filed by AMEC Construction Management Inc., 283 Order, 425 Certificate of Service Other,,, filed by Salomon Inc., Salomon Smith Barney Holdings, Inc., Citigroup Global Markets Holdings Inc., Citigroup, Inc., 1 Complaint,,,,,, filed by Nuclear Electric Insurance Limited, Liberty Insurance Underwriters, Inc., Certain Underwriters at Lloyds, (Syndicates 1225 and 1511), National Union Insurance Company of Pittsburgh, Aegis Insurance Services, Inc., 160 Answer to Complaint, Crossclaim,,,, filed by Electric Power Systems, Inc., 413 Memorandum of Law in Opposition to Motion, filed by Nuclear Electric Insurance Limited, Liberty Insurance Underwriters, Inc., Consolidated Edison Company of New York, Inc., National Union Insurance Company of Pittsburgh, Aegis Insurance Services, Inc., 259 Endorsed Letter, 394 Declaration in Support of Motion,,,,, filed by Salomon Inc., Salomon Smith Barney Holdings, Inc., Citigroup Global Markets Holdings Inc., Citigroup, Inc., 222 Memorandum of Law in Opposition to Motion filed by 7 World Trade Center Company, L.P., Silverstein Properties, Inc., 289 Stipulation and Order of Dismissal, 299 Stipulation and Order of Dismissal,,, 10 Affidavit of Service Complaints filed by Aegis Insurance Services, Inc., 40 Affidavit of Service Complaints filed by Aegis Insurance Services, Inc., 346 Certificate of Service Other, filed by Salomon Inc., Salomon Smith Barney Holdings, Inc., Citigroup Global Markets Holdings Inc., Citigroup, Inc., 319 Endorsed Letter,, 8 Affidavit of Service Complaints filed by Aegis Insurance Services, Inc., 365 Stipulation and Order,,,, 398 Order,,,,,,,, 127 Order, 193 Memorandum of Law in Support of Motion, filed by AMEC, PLC, 290 Endorsed Letter, Set Deadlines,,,, 266 Crossclaim, filed by 7 World Trade Center Company, L.P., Silverstein Properties, Inc., 231 Stipulation and Order, 374 Reply Memorandum of Law in Support of Motion,,, filed by 7 World Trade Company, L.P., 4 World Trade Center LLC, 3 World Trade Center LLC, 2 World Trade Center LLC, 1 World Trade Center LLC, World Trade Center Properties LLC, 308 Answer to Complaint filed by Globe Aviation Services Corporation, 249 Stipulation and Order of Dismissal, 177 MOTION to Dismiss Third-Party Defendant AMEC'S Notice of Motion to Dismiss the Third-Party Claims of 7 World Trade Center Company and Silverstein Properties, Inc.. filed by AMEC Construction Management Inc., 428 Declaration in Support of Motion,, filed by Nuclear Electric Insurance Limited, Liberty Insurance Underwriters, Inc., Consolidated Edison Company of New York, Inc., National Union Insurance Company of Pittsburgh, ABCO Peerless Sprinkler Corporation, Aegis Insurance Services, Inc., 306 Affidavit of Service Other, filed by Huntleigh USA Corporation, 157 Endorsed Letter,, 280 Memorandum of Law in Opposition to Motion,, filed by 7 World Trade Center Company, L.P., Plaintiffs, 424 Declaration in Support of Motion,,,, filed by Salomon Inc., Salomon Smith Barney Holdings, Inc., Citigroup Global Markets Holdings Inc., Citigroup, Inc., 362 Affidavit in Support of Motion,, filed by 7 World Trade Center Company, L.P., H.O. Penn Machinery Co., Inc., Preferred Utilities Manufacturing Corp., ABCO Peerless Sprinkler Corporation, Silverstein Development Corp., Citigroup Global Markets Holdings Inc., Fiberlock Technologies, Inc., Citigroup, Inc., Silverstein Properties, Inc., 48 Waiver of Service Executed filed by Aegis Insurance Services, Inc., 302 Affidavit of Service Other filed by US Airways Group, Inc., US Airways, Inc., 203 Case Management Plan,,,, 397 Notice of Appearance filed by Syska & Hennessy Engineers, Syska & Hennessy Group, Inc., Syska & Hennessy, Inc., 389 Rule 56.1 Statement filed by 7 World Trade Center Company, L.P., 7 World Trade Company, L.P., Silverstein Development Corp., Silverstein Properties, Inc., 340 Notice of Adoption of Master Answer filed by ABCO Peerless Sprinkler Corporation, 251 Stipulation and Order,, 239 Reply Affirmation in Support of Motion filed by AMEC Construction Management Inc., 316 Endorsed Letter, 386 Order,, 54 Affidavit of Service Complaints, filed by Aegis Insurance Services, Inc., 409 Declaration in Opposition to Motion,, filed by Nuclear Electric Insurance Limited, Liberty Insurance Underwriters, Inc., Consolidated Edison Company of New York, Inc., National Union Insurance Company of Pittsburgh, Aegis Insurance Services, Inc., 276 Memorandum of Law in Support of Motion,,, filed by 7 World Trade Center Company, L.P., 30 Affidavit of Service Complaints filed by Aegis Insurance Services, Inc., 270 Order, Set Deadlines/Hearings,, 307 Notice (Other) filed by ICTS International NV, 434 Notice (Other) filed by Delta Air Lines, Inc., 442 Memo Endorsement, Terminate Motions,,,,,,,, 372 Scheduling Order, 305 Notice (Other), Notice (Other) filed by Huntleigh USA Corporation, 238 Reply Affirmation in Support of Motion filed by AMEC Construction Management Inc., 260 Reply Memorandum of Law in Support of Motion,, filed by Office of Irwin G. Cantor, P.C., Syska & Hennessy, Inc., 209 Order,, 379 Memo Endorsement,, 192 Memorandum of Law in Support of Motion, filed by AMEC, PLC, 244 Affidavit of Service Complaints, filed by 7 World Trade Company, L.P., 99 Affidavit of Service Complaints, filed by Aegis Insurance Services, Inc., 202 Case Management Plan,,,, 252 MOTION to Dismiss Notice of Motion to Dismiss the Third-party Complaint Pursuant to FRCP 12 (b) (6). MOTION to Dismiss Notice of Motion to Dismiss the Third-party Complaint Pursuant to FRCP 12 (b) (6). MOTION to Dismiss Notice of Motion to Dismiss the Third-party Complaint Pursuant to FRCP 12 (b) (6). MOTION to Dismiss Notice of Motion to Dismiss the Third-party Complaint Pursuant to FRCP 12 (b) (6). filed by Irwin G. Cantor, P.C., Syska & Hennessy Group, Inc., 58 Affidavit of Service Other, 282 Crossclaim filed by Fiberlock Technologies, Inc., 303 Notice (Other) filed by American Airlines, Inc., AMR Corporation, 371 Scheduling Order,,,, 333 Affidavit,, filed by U.S. Airways Group, Inc., US Airways Group, Inc., US Airways, Inc., US Airways Inc., 370 Counter Statement to Rule 56.1 filed by Aegis Insurance Services, Inc., 159 Case Management Plan,,, 291 Endorsed Letter, Set Deadlines/Hearings,, 241 Answer to Complaint filed by Flack & Kurtz, Inc., 300 Notice (Other) filed by Colgan Air, Inc., 3 Notice of Case Assignment/Reassignment, 182 Memorandum of Law in Support of Motion, filed by AMEC Construction Management Inc., 406 Declaration in Opposition to Motion,, filed by Nuclear Electric Insurance Limited, Liberty Insurance Underwriters, Inc., Consolidated Edison Company of New York, Inc., National Union Insurance Company of Pittsburgh, Aegis Insurance Services, Inc., 6 Affidavit of Service Complaints filed by 7 World Trade Center Company, L.P., 39 Affidavit of Service Other filed by Aegis Insurance Services, Inc., 323 Affidavit of Service Other, filed by Aegis Insurance Services, Inc., 232 Reply Affirmation in Support of Motion filed by AMEC Construction Management Inc., 309 Notice (Other) filed by UAL Corporation, United Airlines, Inc., 154 Memo Endorsement, 110 Endorsed Letter, 324 Stipulation and Order of Dismissal, 377 Application for Letters Rogatory filed by Aegis Insurance Services, Inc., 345 Stipulation and Order of Dismissal, 243 Affidavit of Service Complaints filed by 7 World Trade Company, L.P., 350 Scheduling Order, 9 Affidavit of Service Complaints, filed by Aegis Insurance Services, Inc., 69 Rule 7.1 Corporate Disclosure Statement filed by All Fire Systems, Inc., 102 Answer to Complaint, Crossclaim filed by H.O. Penn Machinery Co., Inc., 22 Affidavit of Service Complaints filed by Aegis Insurance Services, Inc., 179 Affirmation in Support of Motion, filed by AMEC Construction Management Inc., 447 Clerk's Judgment,,, 358 Memorandum of Law in Support of Motion,,, filed by 7 World Trade Company, L.P., 4 World Trade Center LLC, 3 World Trade Center LLC, 2 World Trade Center LLC, 1 World Trade Center LLC, 230 Stipulation and Order, 220 Answer to Crossclaim filed by 7 World Trade Center Company, L.P., Silverstein Properties, Inc., 188 Memorandum of Law in Support of Motion, filed by AMEC, PLC, 285 Stipulation and Order of Dismissal,, 100 Affidavit of Service Complaints filed by Aegis Insurance Services, Inc., 36 Affidavit of Service Complaints, filed by Aegis Insurance Services, Inc., 364 Order on Motion to Appear Pro Hac Vice, 233 Reply Affirmation in Support of Motion filed by AMEC Construction Management Inc., 342 Answer to Amended Complaint, Crossclaim filed by Preferred Utilities Manufacturing Corp., 254 JOINT MOTION to Dismiss Third Party Complaint. filed by Flack & Kurtz, Inc., Skidmore Owings and Merrill, L.L.P., 403 Declaration in Opposition to Motion,,, filed by Nuclear Electric Insurance Limited, Liberty Insurance Underwriters, Inc., Consolidated Edison Company of New York, Inc., National Union Insurance Company of Pittsburgh, Aegis Insurance Services, Inc., 278 Memorandum of Law in Opposition to Motion, filed by 7 World Trade Center Company, L.P., Plaintiffs, 189 Memorandum of Law in Support of Motion, filed by AMEC, PLC, 297 Stipulation and Order of Dismissal, 318 Order, Set Deadlines/Hearings, 17 Affidavit of Service Complaints, filed by Aegis Insurance Services, Inc., 327 Notice of Adoption of Master Answer filed by American Airlines, Inc., AMR Corporation, 443 Order, 23 Affidavit of Service Complaints filed by Aegis Insurance Services, Inc., 173 Order, Set Deadlines/Hearings,, 355 MOTION for Summary Judgment. filed by 7 World Trade Company, L.P., 4 World Trade Center LLC, 3 World Trade Center LLC, 2 World Trade Center LLC, 1 World Trade Center LLC, 414 Memorandum of Law in Opposition to Motion, filed by Nuclear Electric Insurance Limited, Liberty Insurance Underwriters, Inc., Consolidated Edison Company of New York, Inc., National Union Insurance Company of Pittsburgh, Aegis Insurance Services, Inc., 277 Declaration in Opposition to Motion, filed by 7 World Trade Center Company, L.P., Plaintiffs, 326 Stipulation and Order of Dismissal,, 431 Certificate of Service Other, filed by Salomon Inc., Salomon Smith Barney Holdings, Inc., Citigroup Global Markets Holdings Inc., Citigroup, Inc., 196 Stipulation and Order, 432 Memorandum of Law in Opposition to Motion, filed by 7 World Trade Company, L.P., Silverstein Development Corp., Silverstein Properties, Inc., 55 Affidavit of Service Complaints filed by Aegis Insurance Services, Inc., 5 Answer to Complaint filed by G.C. Engineering & Associates, P.C., 151 Answer to Complaint filed by American Airlines, Inc., AMR Corporation, 194 Stipulation and Order, 250 Stipulation and Order of Dismissal, 359 MOTION for Partial Summary Judgment Notice of Motion by 7 Ground Defendants for Partial Summary Judgment Dismissing Subrogation Claims Asserted Against Them. filed by 7 World Trade Center Company, L.P., H.O. Penn Machinery Co., Inc., Preferred Utilities Manufacturing Corp., ABCO Peerless Sprinkler Corporation, Silverstein Development Corp., Citigroup Global Markets Holdings Inc., Fiberlock Technologies, Inc., Citigroup, Inc., Silverstein Properties, Inc., 205 Order, Set Deadlines/Hearings, Set Motion and R&R Deadlines/Hearings,,, 45 Answer to Complaint, Crossclaim,,,,,,,,,,,, filed by Firecom Inc., 2 Rule 7.1 Corporate Disclosure Statement, filed by Nuclear Electric Insurance Limited, Liberty Insurance Underwriters, Inc., Certain Underwriters at Lloyds, (Syndicates 1225 and 1511), National Union Insurance Company of Pittsburgh, Aegis Insurance Services, Inc., 335 Notice of Adoption of Master Answer filed by ICTS International NV, 304 Notice (Other), Notice (Other) filed by Boeing Co., 33 Affidavit of Service Complaints filed by Aegis Insurance Services, Inc., 321 Order,, 13 Affidavit of Service Complaints filed by Aegis Insurance Services, Inc., 298 Stipulation and Order of Dismissal,,, 197 Stipulation and Order, 315 Stipulation and Order of Dismissal,,, 255 JOINT MOTION to Dismiss Third Party Complaint - Memorandum of Law in Support. filed by Flack & Kurtz, Inc., Skidmore Owings and Merrill, L.L.P., 115 Affidavit of Service Complaints, filed by Aegis Insurance Services, Inc., 313 Stipulation and Order of Dismissal,,, 265 Order,, 427 Memorandum of Law in Support of Motion, filed by Nuclear Electric Insurance Limited, Liberty Insurance Underwriters, Inc., Consolidated Edison Company of New York, Inc., National Union Insurance Company of Pittsburgh, Aegis Insurance Services, Inc., 407 Declaration in Opposition to Motion,, filed by Nuclear Electric Insurance Limited, Liberty Insurance Underwriters, Inc., Consolidated Edison Company of New York, Inc., National Union Insurance Company of Pittsburgh, Aegis Insurance Services, Inc., 356 Rule 56.1 Statement filed by 7 World Trade Company, L.P., 4 World Trade Center LLC, 3 World Trade Center LLC, 2 World Trade Center LLC, 1 World Trade Center LLC, 190 Memorandum of Law in Support of Motion, filed by AMEC, PLC, 256 Stipulation and Order,, 294 Stipulation and Order of Dismissal,,, 411 Declaration in Opposition to Motion,, filed by Nuclear Electric Insurance Limited, Liberty Insurance Underwriters, Inc., Consolidated Edison Company of New York, Inc., National Union Insurance Company of Pittsburgh, Aegis Insurance Services, Inc., AMR Corporation, 361 Memorandum of Law in Support of Motion,, filed by 7 World Trade Center Company, L.P., H.O. Penn Machinery Co., Inc., Preferred Utilities Manufacturing Corp., ABCO Peerless Sprinkler Corporation, Silverstein Development Corp., Citigroup Global Markets Holdings Inc., Fiberlock Technologies, Inc., Citigroup, Inc., Silverstein Properties, Inc., 375 Reply Memorandum of Law in Support of Motion,, filed by 7 World Trade Center Company, L.P., H.O. Penn Machinery Co., Inc., Preferred Utilities Manufacturing Corp., ABCO Peerless Sprinkler Corporation, Silverstein Development Corp., Citigroup Global Markets Holdings Inc., Fiberlock Technologies, Inc., Citigroup, Inc., Silverstein Properties, Inc., 229 Reply Affirmation in Support of Motion filed by AMEC Construction Management Inc., 103 Notice of Appearance, filed by Flack & Kurtz, Inc., 367 Declaration in Opposition to Motion, filed by Aegis Insurance Services, Inc., 247 Stipulation and Order of Dismissal, 268 Declaration in Opposition to Motion, filed by The Port Authority of New York & New Jersey, 310 Notice (Other) filed by ICTS International NV, 373 Stipulation and Order, Set Deadlines,, 287 Stipulation and Order of Dismissal, 21 Affidavit of Service Complaints filed by Aegis Insurance Services, Inc., 317 Memo Endorsement, 24 Affidavit of Service Complaints, filed by Aegis Insurance Services, Inc., 446 Stipulation and Order of Dismissal, Add and Terminate Parties,,,, 368 Counter Statement to Rule 56.1 filed by Aegis Insurance Services, Inc., 288 Endorsed Letter, Set Hearings,,,, 4 Rule 7.1 Corporate Disclosure Statement filed by G.C. Engineering & Associates, P.C., 221 Memorandum of Law in Opposition to Motion, filed by 7 World Trade Center Company, L.P., Silverstein Properties, Inc., 357 Affidavit in Support of Motion,,,,,,,, filed by 7 World Trade Company, L.P., 4 World Trade Center LLC, 3 World Trade Center LLC, 2 World Trade Center LLC, 1 World Trade Center LLC, 234 Reply Affirmation in Support of Motion filed by AMEC Construction Management Inc., 331 Affidavit of Service Other,, filed by Huntleigh USA Corporation, 281 Brief, filed by The Port Authority of New York & New Jersey, 223 Notice of Claim (09/11) filed by Johnson Controls World Services Inc., 204 MOTION to Vacate Order of January 12, 2006, Based Upon Newly Discovered Evidence. filed by Aegis Insurance Services, Inc., 271 Stipulation and Order were transmitted to the U.S. Court of Appeals. (nd) (Entered: 10/21/2011)\""
      ]
     },
     "execution_count": 118,
     "metadata": {},
     "output_type": "execute_result"
    }
   ],
   "source": [
    "new_df['Original Docket Text'].iloc[2352]"
   ]
  },
  {
   "cell_type": "code",
   "execution_count": 119,
   "metadata": {},
   "outputs": [
    {
     "name": "stdout",
     "output_type": "stream",
     "text": [
      "(3204, 11)\n"
     ]
    },
    {
     "data": {
      "text/html": [
       "<div>\n",
       "<table border=\"1\" class=\"dataframe\">\n",
       "  <thead>\n",
       "    <tr style=\"text-align: right;\">\n",
       "      <th></th>\n",
       "      <th>Original Docket Text</th>\n",
       "      <th>normalized</th>\n",
       "      <th>lemmed</th>\n",
       "      <th>phrases</th>\n",
       "      <th>DT Topics</th>\n",
       "      <th>NoAction</th>\n",
       "      <th>Action</th>\n",
       "      <th>If Action</th>\n",
       "      <th>Action revised</th>\n",
       "      <th>If Action revised</th>\n",
       "      <th>_merge</th>\n",
       "    </tr>\n",
       "  </thead>\n",
       "  <tbody>\n",
       "    <tr>\n",
       "      <th>2319</th>\n",
       "      <td>Appeal Record Sent to USCA (Electronic File). ...</td>\n",
       "      <td>appeal record sent to usca electronic file cer...</td>\n",
       "      <td></td>\n",
       "      <td></td>\n",
       "      <td>Complaints, Letter and Response, Other Answers...</td>\n",
       "      <td>NaN</td>\n",
       "      <td>NaN</td>\n",
       "      <td>NaN</td>\n",
       "      <td>NaN</td>\n",
       "      <td>NaN</td>\n",
       "      <td>left_only</td>\n",
       "    </tr>\n",
       "    <tr>\n",
       "      <th>3203</th>\n",
       "      <td>Appeal Record Sent to USCA (Electronic File). ...</td>\n",
       "      <td>NaN</td>\n",
       "      <td>NaN</td>\n",
       "      <td>NaN</td>\n",
       "      <td>NaN</td>\n",
       "      <td>0.0</td>\n",
       "      <td>NaN</td>\n",
       "      <td>NaN</td>\n",
       "      <td>NaN</td>\n",
       "      <td>NaN</td>\n",
       "      <td>right_only</td>\n",
       "    </tr>\n",
       "  </tbody>\n",
       "</table>\n",
       "</div>"
      ],
      "text/plain": [
       "                                   Original Docket Text  \\\n",
       "2319  Appeal Record Sent to USCA (Electronic File). ...   \n",
       "3203  Appeal Record Sent to USCA (Electronic File). ...   \n",
       "\n",
       "                                             normalized lemmed phrases  \\\n",
       "2319  appeal record sent to usca electronic file cer...                  \n",
       "3203                                                NaN    NaN     NaN   \n",
       "\n",
       "                                              DT Topics  NoAction Action  \\\n",
       "2319  Complaints, Letter and Response, Other Answers...       NaN    NaN   \n",
       "3203                                                NaN       0.0    NaN   \n",
       "\n",
       "     If Action Action revised If Action revised      _merge  \n",
       "2319       NaN            NaN               NaN   left_only  \n",
       "3203       NaN            NaN               NaN  right_only  "
      ]
     },
     "execution_count": 119,
     "metadata": {},
     "output_type": "execute_result"
    }
   ],
   "source": [
    "newer_df = new_df[['Original Docket Text', 'normalized', 'lemmed', 'phrases', 'DT Topics']].drop_duplicates().merge(old_df[['Original Docket Text', 'NoAction', 'Action', 'If Action', 'Action revised', 'If Action revised']], \n",
    "                                                                                                                    on = 'Original Docket Text', how = 'outer', indicator = True)\n",
    "print(newer_df.shape)\n",
    "newer_df[newer_df['_merge'] != 'both'].head()"
   ]
  },
  {
   "cell_type": "markdown",
   "metadata": {},
   "source": [
    "### Trying to find what's wrong with the dataset. Turns out one of the docket text was too big for excel to handle."
   ]
  },
  {
   "cell_type": "code",
   "execution_count": 123,
   "metadata": {},
   "outputs": [
    {
     "data": {
      "text/plain": [
       "False"
      ]
     },
     "execution_count": 123,
     "metadata": {},
     "output_type": "execute_result"
    }
   ],
   "source": [
    "old_df['Original Docket Text'].iloc[2319] == new_df['Original Docket Text'].iloc[2352]"
   ]
  },
  {
   "cell_type": "code",
   "execution_count": 126,
   "metadata": {},
   "outputs": [
    {
     "data": {
      "text/plain": [
       "\"Appeal Record Sent to USCA (Electronic File). Certified Indexed record on Appeal Electronic Files for 464 Endorsed Letter, 466 Transcript,, 452 Endorsed Letter,,,,, 457 Notice of Change of Address, filed by 7 World Trade Company, L.P., Silverstein Development Corp., Silverstein Properties, Inc., 459 Order,, 473 Notice of Appeal, filed by Nuclear Electric Insurance Limited, Consolidated Edison Company of New York, Inc., National Union Insurance Company of Pittsburgh, Liberty Insurance Underwriters, Inc., Certain Underwriters at Lloyds, (Syndicates 1225 and 1511), Aegis Insurance Services, Inc., 467 Notice of Filing Transcript,, 460 Endorsed Letter, Set Deadlines/Hearings,,,, 472 Notice of Appearance filed by Tishman Construction Corporation, 461 Endorsed Letter, Set Deadlines/Hearings,,,, 456 Notice of Change of Address, filed by 7 World Trade Company, L.P., Silverstein Development Corp., Silverstein Properties, Inc., 451 Endorsed Letter, 465 Stipulation and Order of Dismissal, 449 Notice (Other) filed by Industrial Risk Insurers, 468 Memorandum & Opinion,, 471 Memorandum of Law in Support of Motion, filed by 7 World Trade Company, L.P., Silverstein Development Corp., Silverstein Properties, Inc., 463 Endorsed Letter, 458 Notice of Change of Address, filed by 7 World Trade Company, L.P., Silverstein Development Corp., Silverstein Properties, Inc., 455 Notice of Change of Address, filed by 7 World Trade Company, L.P., Silverstein Development Corp., Silverstein Properties, Inc., 450 Endorsed Letter,, 469 Clerk's Judgment,, 462 Order, Set Deadlines/Hearings,, 470 MOTION to Alter Judgment. filed by 7 World Trade Company, L.P., Silverstein Development Corp., Silverstein Properties, Inc., 454 Endorsed Letter,, 334 Notice of Adoption of Master Answer filed by Boeing Co., 336 Answer to Amended Complaint,, filed by Colgan Air, Inc., 237 Reply Affirmation in Support of Motion filed by AMEC Construction Management Inc., 369 Certificate of Service Other, filed by Aegis Insurance Services, Inc., 166 Order on Motion to Appear Pro Hac Vice, 274 MOTION to Sever. filed by 7 World Trade Center Company, L.P., 64 Answer to Complaint, Crossclaim,,,,,, filed by Preferred Utilities Manufacturing Corp., 111 Consent filed by Ambassador Construction Co., Inc., 402 Declaration in Opposition to Motion,,, filed by Nuclear Electric Insurance Limited, Consolidated Edison Company of New York, Inc., National Union Insurance Company of Pittsburgh, Liberty Insurance Underwriters, Inc., Aegis Insurance Services, Inc., 295 Stipulation and Order of Dismissal,,, 161 MOTION for Francis M. Lynch to Appear Pro Hac Vice. filed by Fiberlock Technologies, Inc., 284 Memorandum of Law in Opposition to Motion, filed by 7 World Trade Center Company, L.P., Plaintiffs, 12 Affidavit of Service Complaints filed by Aegis Insurance Services, Inc., 43 Acknowledgment of Service Complaints filed by Aegis Insurance Services, Inc., 381 Order,,, 341 Rule 7.1 Corporate Disclosure Statement filed by Preferred Utilities Manufacturing Corp., 224 Third Party Complaint filed by Silverstein Properties, Inc., 420 Declaration in Support of Motion, filed by 7 World Trade Company, L.P., Silverstein Development Corp., Silverstein Properties, Inc., 34 Affidavit of Service Complaints filed by Aegis Insurance Services, Inc., 62 Answer to Complaint, Crossclaim,,,,,,,,,, filed by ABCO Peerless Sprinkler Corporation, 423 Declaration in Support of Motion,, filed by Salomon Smith Barney Holdings, Inc., Citigroup Global Markets Holdings Inc., Salomon Inc., Citigroup, Inc., 248 Stipulation and Order, 208 Order,, 329 Notice of Adoption of Master Answer filed by UAL Corporation, United Airlines, Inc., 378 Statement of Relatedness filed by Aegis Insurance Services, Inc., 417 Notice (Other), Notice (Other) filed by 7 World Trade Center Company, L.P., Silverstein Properties, Inc., 418 Reply Memorandum of Law in Support of Motion, filed by 7 World Trade Center Company, L.P., Silverstein Development Corp., Silverstein Properties, Inc., 228 Reply Memorandum of Law in Support of Motion, filed by Swanke Hayden Connell Archetects, Ambassador Construction Co., Inc., Cantor Seinuk Group, P.C., Cosentini Associates Inc., 363 MOTION for Anita Weinstein to Appear Pro Hac Vice. filed by Tishman Construction Corporation, 380 Endorsed Letter, Set Deadlines/Hearings,,,,,,,, 328 Affidavit of Service Other, filed by American Airlines, Inc., AMR Corporation, 416 Counter Statement to Rule 56.1, filed by Nuclear Electric Insurance Limited, Consolidated Edison Company of New York, Inc., National Union Insurance Company of Pittsburgh, Liberty Insurance Underwriters, Inc., Aegis Insurance Services, Inc., 401 Memorandum of Law in Support of Motion,, filed by Nuclear Electric Insurance Limited, Consolidated Edison Company of New York, Inc., National Union Insurance Company of Pittsburgh, Liberty Insurance Underwriters, Inc., Aegis Insurance Services, Inc., 396 Stipulation and Order, Add and Terminate Parties,,,,,, 429 Objection (non-motion), Objection (non-motion) filed by 7 World Trade Center Company, L.P., Silverstein Development Corp., Silverstein Properties, Inc., 117 Amended Answer to Complaints, Crossclaim filed by Preferred Utilities Manufacturing Corp., 14 Affidavit of Service Complaints filed by Aegis Insurance Services, Inc., 348 MOTION for Protective Order. filed by United Air Lines, Inc., 422 Rule 56.1 Statement filed by Salomon Smith Barney Holdings, Inc., Citigroup Global Markets Holdings Inc., Salomon Inc., Citigroup, Inc., 382 Memorandum & Opinion,,, 338 Rule 7.1 Corporate Disclosure Statement filed by Silverstein Development Corp., 15 Affidavit of Service Complaints filed by Aegis Insurance Services, Inc., 330 Notice of Adoption of Master Answer, filed by Huntleigh USA Corporation, 28 Affidavit of Service Complaints, filed by Aegis Insurance Services, Inc., 347 Answer to Crossclaim filed by 7 World Trade Center Company, L.P., Silverstein Development Corp., Silverstein Properties, Inc., 412 Certificate of Service Other,, filed by Nuclear Electric Insurance Limited, Consolidated Edison Company of New York, Inc., National Union Insurance Company of Pittsburgh, Liberty Insurance Underwriters, Inc., Aegis Insurance Services, Inc., 226 Order,,,,,, 38 Order, 399 Declaration in Opposition to Motion,,, filed by Nuclear Electric Insurance Limited, Consolidated Edison Company of New York, Inc., National Union Insurance Company of Pittsburgh, Liberty Insurance Underwriters, Inc., Aegis Insurance Services, Inc., 376 Scheduling Order,,,,, 393 Rule 56.1 Statement filed by Salomon Smith Barney Holdings, Inc., Citigroup Global Markets Holdings Inc., Salomon Inc., Citigroup, Inc., 225 Memo Endorsement, 61 Rule 7.1 Corporate Disclosure Statement filed by ABCO Peerless Sprinkler Corporation, 292 Memorandum of Law in Opposition to Motion, filed by Nuclear Electric Insurance Limited, National Union Insurance Company of Pittsburgh, Liberty Insurance Underwriters, Inc., Certain Underwriters at Lloyds, (Syndicates 1225 and 1511), Aegis Insurance Services, Inc., 26 Affidavit of Service Complaints, filed by Aegis Insurance Services, Inc., 433 Declaration in Opposition to Motion,, filed by 7 World Trade Company, L.P., Silverstein Development Corp., Silverstein Properties, Inc., 227 Notice of Claim (09/11) filed by The Port Authority of New York and New Jersey, 53 Affidavit of Service Complaints filed by Aegis Insurance Services, Inc., 286 MOTION to Dismiss Plaintiffs' Amended Complaint. filed by Fiberlock Technologies, Inc., 267 Declaration in Opposition to Motion, filed by 7 World Trade Center Company, L.P., World Trade Center Properties LLC, 207 Reply Memorandum of Law in Support of Motion, filed by Aegis Insurance Services, Inc., 325 Stipulation and Order of Dismissal,, 258 Memorandum of Law in Opposition to Motion,, filed by 7 World Trade Company, L.P., Silverstein Properties, Inc., 410 Declaration in Opposition to Motion,, filed by Nuclear Electric Insurance Limited, Consolidated Edison Company of New York, Inc., National Union Insurance Company of Pittsburgh, Liberty Insurance Underwriters, Inc., Aegis Insurance Services, Inc., 384 Order Admitting Attorney Pro Hac Vice, 7 Affidavit of Service Complaints filed by Salomon Inc., 301 Notice (Other) filed by US Airways Group, Inc., US Airways, Inc., 388 MOTION for Summary Judgment. filed by 7 World Trade Center Company, L.P., 7 World Trade Company, L.P., Silverstein Development Corp., Silverstein Properties, Inc., 186 Memorandum of Law in Support of Motion, filed by AMEC, PLC, 31 Affidavit of Service Complaints filed by Aegis Insurance Services, Inc., 219 Certificate of Service Other, filed by Salomon Smith Barney Holdings, Inc., Citigroup Global Markets Holdings Inc., Salomon Inc., Citigroup, Inc., 246 Affidavit of Service Complaints filed by 7 World Trade Company, L.P., 116 Affidavit of Service Complaints, filed by Aegis Insurance Services, Inc., 366 Memorandum of Law in Opposition to Motion, filed by Aegis Insurance Services, Inc., 279 Declaration in Opposition to Motion,, filed by 7 World Trade Center Company, L.P., Plaintiffs, 11 Affidavit of Service Complaints filed by Aegis Insurance Services, Inc., 322 Amended Complaint,,,,,, filed by Nuclear Electric Insurance Limited, Consolidated Edison Company of New York, Inc., National Union Insurance Company of Pittsburgh, Liberty Insurance Underwriters, Inc., Aegis Insurance Services, Inc., 253 MOTION to Dismiss Third-Party Complaint. filed by Flack & Kurtz, Inc., Skidmore Owings and Merrill, L.L.P., 421 Reply Memorandum of Law in Support of Motion,, filed by Salomon Smith Barney Holdings, Inc., Citigroup Global Markets Holdings Inc., Salomon Inc., Citigroup, Inc., 400 MOTION to Stay re: 388 MOTION for Summary Judgment. Cross-Motion to Stay Determination of Silverstein Defendants' Summary Judgment Motion as to Count XVII Pending Resolution of Appeal in 02-cv-7188. MOTION to Stay re: 388 MOTION for Summary Judgment. Cross-Motion to Stay Determination of Silverstein Defendants' Summary Judgment Motion as to Count XVII Pending Resolution of Appeal in 02-cv-7188. filed by Nuclear Electric Insurance Limited, Consolidated Edison Company of New York, Inc., National Union Insurance Company of Pittsburgh, Liberty Insurance Underwriters, Inc., 245 Affidavit of Service Complaints, filed by 7 World Trade Center Company, L.P., 448 Notice of Appeal, filed by Intervenors The WTC Plaintiffs, 240 Reply Memorandum of Law in Support of Motion filed by AMEC Construction Management Inc., 187 Memorandum of Law in Support of Motion, filed by AMEC, PLC, 63 Answer to Crossclaim,,,,,,, filed by Preferred Utilities Manufacturing Corp., 242 Answer to Complaint filed by Skidmore Owings and Merrill, L.L.P., 37 Affidavit of Service Complaints, filed by Aegis Insurance Services, Inc., 445 Stipulation of Voluntary Dismissal, filed by Fiberlock Technologies, Inc., 320 Order, 35 Affidavit of Service Complaints filed by Aegis Insurance Services, Inc., 387 Stipulation and Order of Dismissal, 390 Memorandum of Law in Support of Motion, filed by 7 World Trade Center Company, L.P., 7 World Trade Company, L.P., Silverstein Development Corp., Silverstein Properties, Inc., 264 Memorandum & Opinion, Terminate Motions,,,,,,,,,,,,,,,,,, 395 Memorandum of Law in Support of Motion, filed by Salomon Smith Barney Holdings, Inc., Citigroup Global Markets Holdings Inc., Salomon Inc., Citigroup, Inc., 312 Reply to Response to Motion, filed by Fiberlock Technologies, Inc., 126 Order,, 216 Answer to Crossclaim, filed by Salomon Smith Barney Holdings, Inc., Citigroup Global Markets Holdings Inc., Salomon Inc., Citigroup, Inc., 311 Endorsed Letter, Set Deadlines/Hearings,, 170 Order,,, 385 Endorsed Letter,, 41 Affidavit of Service Complaints filed by Aegis Insurance Services, Inc., 383 Endorsed Letter, 444 Notice of Change of Address, filed by Aegis Insurance Services, Inc., 181 Memorandum of Law in Support of Motion, filed by AMEC Construction Management Inc., 195 Answer to Complaint filed by Centifugal Associates, Inc., 257 Memorandum of Law in Opposition to Motion, filed by 7 World Trade Company, L.P., Silverstein Properties, Inc., 42 Affidavit of Service Complaints filed by Aegis Insurance Services, Inc., 206 Memorandum of Law, filed by Irwin G. Cantor, P.C., Cantor Seinuk Group, P.C., 184 Memorandum of Law in Support of Motion, filed by AMEC, PLC, 275 Declaration in Support of Motion,,, filed by 7 World Trade Center Company, L.P., 235 Reply Affirmation in Support of Motion filed by AMEC Construction Management Inc., 296 Stipulation and Order of Dismissal, Add and Terminate Parties,, 419 Declaration in Support of Motion,, filed by 7 World Trade Company, L.P., Silverstein Development Corp., Silverstein Properties, Inc., 404 Declaration in Opposition to Motion,,, filed by Nuclear Electric Insurance Limited, Consolidated Edison Company of New York, Inc., National Union Insurance Company of Pittsburgh, Liberty Insurance Underwriters, Inc., Aegis Insurance Services, Inc., 391 Declaration in Support of Motion,,, filed by 7 World Trade Center Company, L.P., 7 World Trade Company, L.P., Silverstein Development Corp., Silverstein Properties, Inc., 59 Affidavit of Service Other filed by Aegis Insurance Services, Inc., 405 Declaration in Opposition to Motion,, filed by Nuclear Electric Insurance Limited, Consolidated Edison Company of New York, Inc., National Union Insurance Company of Pittsburgh, Liberty Insurance Underwriters, Inc., Aegis Insurance Services, Inc., 426 MOTION for Leave to File Supplemental and Amended Expert Declarations Incorporating and Attaching Expert Reports in Further Opposition to Silverstein's and Citigroup's Motions for Summary Judgment. filed by Nuclear Electric Insurance Limited, Consolidated Edison Company of New York, Inc., National Union Insurance Company of Pittsburgh, Liberty Insurance Underwriters, Inc., Aegis Insurance Services, Inc., 349 Order, Set Deadlines/Hearings, Terminate Motions,,,,,,,,,,,,,,,,,,,,,,,,,,, 25 Affidavit of Service Complaints, filed by Aegis Insurance Services, Inc., 332 Notice of Adoption of Master Answer, filed by US Airways Group, Inc., US Airways, Inc., U.S. Airways Group, Inc., US Airways Inc., 29 Affidavit of Service Complaints filed by Aegis Insurance Services, Inc., 183 Memorandum of Law in Support of Motion, filed by AMEC, PLC, 269 Counter Statement to Rule 56.1 filed by World Trade Center Properties LLC, 60 Notice of Appearance filed by Flack & Kurtz, Inc., 360 Rule 56.1 Statement, filed by 7 World Trade Center Company, L.P., H.O. Penn Machinery Co., Inc., Preferred Utilities Manufacturing Corp., ABCO Peerless Sprinkler Corporation, Silverstein Development Corp., Citigroup Global Markets Holdings Inc., Fiberlock Technologies, Inc., Silverstein Properties, Inc., Citigroup, Inc., 337 Answer to Amended Complaint, Crossclaim,,,, filed by 7 World Trade Center Company, L.P., Silverstein Development Corp., Silverstein Properties, Inc., 408 Declaration in Opposition to Motion,, filed by Nuclear Electric Insurance Limited, Liberty Insurance Underwriters, Inc., Consolidated Edison Company of New York, Inc., National Union Insurance Company of Pittsburgh, Aegis Insurance Services, Inc., 344 Notice (Other) filed by Fiberlock Technologies, Inc., 180 Memorandum of Law in Support of Motion, filed by AMEC Construction Management Inc., 27 Affidavit of Service Complaints filed by Aegis Insurance Services, Inc., 20 Affidavit of Service Complaints filed by Aegis Insurance Services, Inc., 392 MOTION for Summary Judgment / Notice of Motion for Summary Judgment in Favor of Citigroup Inc. and Citigroup Global Markets Holdings Inc., dated November 24, 2009. filed by Salomon Inc., Salomon Smith Barney Holdings, Inc., Citigroup Global Markets Holdings Inc., Citigroup, Inc., 262 Reply Memorandum of Law in Support of Motion, filed by Flack & Kurtz, Inc., Skidmore Owings and Merrill, L.L.P., 185 Memorandum of Law in Support of Motion, filed by AMEC, PLC, 314 Stipulation and Order of Dismissal,,, 343 Answer to Amended Complaint, filed by Salomon Inc., Salomon Smith Barney Holdings, Inc., Citigroup Global Markets Holdings Inc., Citigroup, Inc., 16 Affidavit of Service Complaints filed by Aegis Insurance Services, Inc., 339 Endorsed Letter,, 19 Affidavit of Service Complaints filed by Aegis Insurance Services, Inc., 191 Memorandum of Law in Support of Motion, filed by AMEC, PLC, 178 Memorandum of Law in Support of Motion, filed by AMEC Construction Management Inc., 70 Answer to Complaint, Crossclaim filed by All Fire Systems, Inc., 150 Memorandum & Opinion, 430 Memorandum of Law in Opposition to Motion, filed by Salomon Inc., Salomon Smith Barney Holdings, Inc., Citigroup Global Markets Holdings Inc., Citigroup, Inc., 18 Affidavit of Service Complaints filed by Aegis Insurance Services, Inc., 293 Notice of Voluntary Dismissal - Signed, Stipulation and Order,, 273 Stipulation and Order of Dismissal,,, 261 Declaration in Support of Motion,, filed by Flack & Kurtz, Inc., Skidmore Owings and Merrill, L.L.P., 236 Reply Affirmation in Support of Motion filed by AMEC Construction Management Inc., 283 Order, 425 Certificate of Service Other,,, filed by Salomon Inc., Salomon Smith Barney Holdings, Inc., Citigroup Global Markets Holdings Inc., Citigroup, Inc., 1 Complaint,,,,,, filed by Nuclear Electric Insurance Limited, Liberty Insurance Underwriters, Inc., Certain Underwriters at Lloyds, (Syndicates 1225 and 1511), National Union Insurance Company of Pittsburgh, Aegis Insurance Services, Inc., 160 Answer to Complaint, Crossclaim,,,, filed by Electric Power Systems, Inc., 413 Memorandum of Law in Opposition to Motion, filed by Nuclear Electric Insurance Limited, Liberty Insurance Underwriters, Inc., Consolidated Edison Company of New York, Inc., National Union Insurance Company of Pittsburgh, Aegis Insurance Services, Inc., 259 Endorsed Letter, 394 Declaration in Support of Motion,,,,, filed by Salomon Inc., Salomon Smith Barney Holdings, Inc., Citigroup Global Markets Holdings Inc., Citigroup, Inc., 222 Memorandum of Law in Opposition to Motion filed by 7 World Trade Center Company, L.P., Silverstein Properties, Inc., 289 Stipulation and Order of Dismissal, 299 Stipulation and Order of Dismissal,,, 10 Affidavit of Service Complaints filed by Aegis Insurance Services, Inc., 40 Affidavit of Service Complaints filed by Aegis Insurance Services, Inc., 346 Certificate of Service Other, filed by Salomon Inc., Salomon Smith Barney Holdings, Inc., Citigroup Global Markets Holdings Inc., Citigroup, Inc., 319 Endorsed Letter,, 8 Affidavit of Service Complaints filed by Aegis Insurance Services, Inc., 365 Stipulation and Order,,,, 398 Order,,,,,,,, 127 Order, 193 Memorandum of Law in Support of Motion, filed by AMEC, PLC, 290 Endorsed Letter, Set Deadlines,,,, 266 Crossclaim, filed by 7 World Trade Center Company, L.P., Silverstein Properties, Inc., 231 Stipulation and Order, 374 Reply Memorandum of Law in Support of Motion,,, filed by 7 World Trade Company, L.P., 4 World Trade Center LLC, 3 World Trade Center LLC, 2 World Trade Center LLC, 1 World Trade Center LLC, World Trade Center Properties LLC, 308 Answer to Complaint filed by Globe Aviation Services Corporation, 249 Stipulation and Order of Dismissal, 177 MOTION to Dismiss Third-Party Defendant AMEC'S Notice of Motion to Dismiss the Third-Party Claims of 7 World Trade Center Company and Silverstein Properties, Inc.. filed by AMEC Construction Management Inc., 428 Declaration in Support of Motion,, filed by Nuclear Electric Insurance Limited, Liberty Insurance Underwriters, Inc., Consolidated Edison Company of New York, Inc., National Union Insurance Company of Pittsburgh, ABCO Peerless Sprinkler Corporation, Aegis Insurance Services, Inc., 306 Affidavit of Service Other, filed by Huntleigh USA Corporation, 157 Endorsed Letter,, 280 Memorandum of Law in Opposition to Motion,, filed by 7 World Trade Center Company, L.P., Plaintiffs, 424 Declaration in Support of Motion,,,, filed by Salomon Inc., Salomon Smith Barney Holdings, Inc., Citigroup Global Markets Holdings Inc., Citigroup, Inc., 362 Affidavit in Support of Motion,, filed by 7 World Trade Center Company, L.P., H.O. Penn Machinery Co., Inc., Preferred Utilities Manufacturing Corp., ABCO Peerless Sprinkler Corporation, Silverstein Development Corp., Citigroup Global Markets Holdings Inc., Fiberlock Technologies, Inc., Citigroup, Inc., Silverstein Properties, Inc., 48 Waiver of Service Executed filed by Aegis Insurance Services, Inc., 302 Affidavit of Service Other filed by US Airways Group, Inc., US Airways, Inc., 203 Case Management Plan,,,, 397 Notice of Appearance filed by Syska & Hennessy Engineers, Syska & Hennessy Group, Inc., Syska & Hennessy, Inc., 389 Rule 56.1 Statement filed by 7 World Trade Center Company, L.P., 7 World Trade Company, L.P., Silverstein Development Corp., Silverstein Properties, Inc., 340 Notice of Adoption of Master Answer filed by ABCO Peerless Sprinkler Corporation, 251 Stipulation and Order,, 239 Reply Affirmation in Support of Motion filed by AMEC Construction Management Inc., 316 Endorsed Letter, 386 Order,, 54 Affidavit of Service Complaints, filed by Aegis Insurance Services, Inc., 409 Declaration in Opposition to Motion,, filed by Nuclear Electric Insurance Limited, Liberty Insurance Underwriters, Inc., Consolidated Edison Company of New York, Inc., National Union Insurance Company of Pittsburgh, Aegis Insurance Services, Inc., 276 Memorandum of Law in Support of Motion,,, filed by 7 World Trade Center Company, L.P., 30 Affidavit of Service Complaints filed by Aegis Insurance Services, Inc., 270 Order, Set Deadlines/Hearings,, 307 Notice (Other) filed by ICTS International NV, 434 Notice (Other) filed by Delta Air Lines, Inc., 442 Memo Endorsement, Terminate Motions,,,,,,,, 372 Scheduling Order, 305 Notice (Other), Notice (Other) filed by Huntleigh USA Corporation, 238 Reply Affirmation in Support of Motion filed by AMEC Construction Management Inc., 260 Reply Memorandum of Law in Support of Motion,, filed by Office of Irwin G. Cantor, P.C., Syska & Hennessy, Inc., 209 Order,, 379 Memo Endorsement,, 192 Memorandum of Law in Support of Motion, filed by AMEC, PLC, 244 Affidavit of Service Complaints, filed by 7 World Trade Company, L.P., 99 Affidavit of Service Complaints, filed by Aegis Insurance Services, Inc., 202 Case Management Plan,,,, 252 MOTION to Dismiss Notice of Motion to Dismiss the Third-party Complaint Pursuant to FRCP 12 (b) (6). MOTION to Dismiss Notice of Motion to Dismiss the Third-party Complaint Pursuant to FRCP 12 (b) (6). MOTION to Dismiss Notice of Motion to Dismiss the Third-party Complaint Pursuant to FRCP 12 (b) (6). MOTION to Dismiss Notice of Motion to Dismiss the Third-party Complaint Pursuant to FRCP 12 (b) (6). filed by Irwin G. Cantor, P.C., Syska & Hennessy Group, Inc., 58 Affidavit of Service Other, 282 Crossclaim filed by Fiberlock Technologies, Inc., 303 Notice (Other) filed by American Airlines, Inc., AMR Corporation, 371 Scheduling Order,,,, 333 Affidavit,, filed by U.S. Airways Group, Inc., US Airways Group, Inc., US Airways, Inc., US Airways Inc., 370 Counter Statement to Rule 56.1 filed by Aegis Insurance Services, Inc., 159 Case Management Plan,,, 291 Endorsed Letter, Set Deadlines/Hearings,, 241 Answer to Complaint filed by Flack & Kurtz, Inc., 300 Notice (Other) filed by Colgan Air, Inc., 3 Notice of Case Assignment/Reassignment, 182 Memorandum of Law in Support of Motion, filed by AMEC Construction Management Inc., 406 Declaration in Opposition to Motion,, filed by Nuclear Electric Insurance Limited, Liberty Insurance Underwriters, Inc., Consolidated Edison Company of New York, Inc., National Union Insurance Company of Pittsburgh, Aegis Insurance Services, Inc., 6 Affidavit of Service Complaints filed by 7 World Trade Center Company, L.P., 39 Affidavit of Service Other filed by Aegis Insurance Services, Inc., 323 Affidavit of Service Other, filed by Aegis Insurance Services, Inc., 232 Reply Affirmation in Support of Motion filed by AMEC Construction Management Inc., 309 Notice (Other) filed by UAL Corporation, United Airlines, Inc., 154 Memo Endorsement, 110 Endorsed Letter, 324 Stipulation and Order of Dismissal, 377 Application for Letters Rogatory filed by Aegis Insurance Services, Inc., 345 Stipulation and Order of Dismissal, 243 Affidavit of Service Complaints filed by 7 World Trade Company, L.P., 350 Scheduling Order, 9 Affidavit of Service Complaints, filed by Aegis Insurance Services, Inc., 69 Rule 7.1 Corporate Disclosure Statement filed by All Fire Systems, Inc., 102 Answer to Complaint, Crossclaim filed by H.O. Penn Machinery Co., Inc., 22 Affidavit of Service Complaints filed by Aegis Insurance Services, Inc., 179 Affirmation in Support of Motion, filed by AMEC Construction Management Inc., 447 Clerk's Judgment,,, 358 Memorandum of Law in Support of Motion,,, filed by 7 World Trade Company, L.P., 4 World Trade Center LLC, 3 World Trade Center LLC, 2 World Trade Center LLC, 1 World Trade Center LLC, 230 Stipulation and Order, 220 Answer to Crossclaim filed by 7 World Trade Center Company, L.P., Silverstein Properties, Inc., 188 Memorandum of Law in Support of Motion, filed by AMEC, PLC, 285 Stipulation and Order of Dismissal,, 100 Affidavit of Service Complaints filed by Aegis Insurance Services, Inc., 36 Affidavit of Service Complaints, filed by Aegis Insurance Services, Inc., 364 Order on Motion to Appear Pro Hac Vice, 233 Reply Affirmation in Support of Motion filed by AMEC Construction Management Inc., 342 Answer to Amended Complaint, Crossclaim filed by Preferred Utilities Manufacturing Corp., 254 JOINT MOTION to Dismiss Third Party Complaint. filed by Flack & Kurtz, Inc., Skidmore Owings and Merrill, L.L.P., 403 Declaration in Opposition to Motion,,, filed by Nuclear Electric Insurance Limited, Liberty Insurance Underwriters, Inc., Consolidated Edison Company of New York, Inc., National Union Insurance Company of Pittsburgh, Aegis Insurance Services, Inc., 278 Memorandum of Law in Opposition to Motion, filed by 7 World Trade Center Company, L.P., Plaintiffs, 189 Memorandum of Law in Support of Motion, filed by AMEC, PLC, 297 Stipulation and Order of Dismissal, 318 Order, Set Deadlines/Hearings, 17 Affidavit of Service Complaints, filed by Aegis Insurance Services, Inc., 327 Notice of Adoption of Master Answer filed by American Airlines, Inc., AMR Corporation, 443 Order, 23 Affidavit of Service Complaints filed by Aegis Insurance Services, Inc., 173 Order, Set Deadlines/Hearings,, 355 MOTION for Summary Judgment. filed by 7 World Trade Company, L.P., 4 World Trade Center LLC, 3 World Trade Center LLC, 2 World Trade Center LLC, 1 World Trade Center LLC, 414 Memorandum of Law in Opposition to Motion, filed by Nuclear Electric Insurance Limited, Liberty Insurance Underwriters, Inc., Consolidated Edison Company of New York, Inc., National Union Insurance Company of Pittsburgh, Aegis Insurance Services, Inc., 277 Declaration in Opposition to Motion, filed by 7 World Trade Center Company, L.P., Plaintiffs, 326 Stipulation and Order of Dismissal,, 431 Certificate of Service Other, filed by Salomon Inc., Salomon Smith Barney Holdings, Inc., Citigroup Global Markets Holdings Inc., Citigroup, Inc., 196 Stipulation and Order, 432 Memorandum of Law in Opposition to Motion, filed by 7 World Trade Company, L.P., Silverstein Development Corp., Silverstein Properties, Inc., 55 Affidavit of Service Complaints filed by Aegis Insurance Services, Inc., 5 Answer to Complaint filed by G.C. Engineering & Associates, P.C., 151 Answer to Complaint filed by American Airlines, Inc., AMR Corporation, 194 Stipulation and Order, 250 Stipulation and Order of Dismissal, 359 MOTION for Partial Summary Judgment Notice of Motion by 7 Ground Defendants for Partial Summary Judgment Dismissing Subrogation Claims Asserted Against Them. filed by 7 World Trade Center Company, L.P., H.O. Penn Machinery Co., Inc., Preferred Utilities Manufacturing Corp., ABCO Peerless Sprinkler Corporation, Silverstein Development Corp., Citigroup Global Markets Holdings Inc., Fiberlock Technologies, Inc., Citigroup, Inc., Silverstein Properties, Inc., 205 Order, Set Deadlines/Hearings, Set Motion and R&R Deadlines/Hearings,,, 45 Answer to Complaint, Crossclaim,,,,,,,,,,,, filed by Firecom Inc., 2 Rule 7.1 Corporate Disclosure Statement, filed by Nuclear Electric Insurance Limited, Liberty Insurance Underwriters, Inc., Certain Underwriters at Lloyds, (Syndicates 1225 and 1511), National Union Insurance Company of Pittsburgh, Aegis Insurance Services, Inc., 335 Notice of Adoption of Master Answer filed by ICTS International NV, 304 Notice (Other), Notice (Other) filed by Boeing Co., 33 Affidavit of Service Complaints filed by Aegis Insurance Services, Inc., 321 Order,, 13 Affidavit of Service Complaints filed by Aegis Insurance Services, Inc., 298 Stipulation and Order of Dismissal,,, 197 Stipulation and Order, 315 Stipulation and Order of Dismissal,,, 255 JOINT MOTION to Dismiss Third Party Complaint - Memorandum of Law in Support. filed by Flack & Kurtz, Inc., Skidmore Owings and Merrill, L.L.P., 115 Affidavit of Service Complaints, filed by Aegis Insurance Services, Inc., 313 Stipulation and Order of Dismissal,,, 265 Order,, 427 Memorandum of Law in Support of Motion, filed by Nuclear Electric Insurance Limited, Liberty Insurance Underwriters, Inc., Consolidated Edison Company of New York, Inc., National Union Insurance Company of Pittsburgh, Aegis Insurance Services, Inc., 407 Declaration in Opposition to Motion,, filed by Nuclear Electric Insurance Limited, Liberty Insurance Underwriters, Inc., Consolidated Edison Company of New York, Inc., National Union Insurance Company of Pittsburgh, Aegis Insurance Services, Inc., 356 Rule 56.1 Statement filed by 7 World Trade Company, L.P., 4 World Trade Center LLC, 3 World Trade Center LLC, 2 World Trade Center LLC, 1 World Trade Center LLC, 190 Memorandum of Law in Support of Motion, filed by AMEC, PLC, 256 Stipulation and Order,, 294 Stipulation and Order of Dismissal,,, 411 Declaration in Opposition to Motion,, filed by Nuclear Electric Insurance Limited, Liberty Insurance Underwriters, Inc., Consolidated Edison Company of New York, Inc., National Union Insurance Company of Pittsburgh, Aegis Insurance Services, Inc., AMR Corporation, 361 Memorandum of Law in Support of Motion,, filed by 7 World Trade Center Company, L.P., H.O. Penn Machinery Co., Inc., Preferred Utilities Manufacturing Corp., ABCO Peerless Sprinkler Corporation, Silverstein Development Corp., Citigroup Global Markets Holdings Inc., Fiberlock Technologies, Inc., Citigroup, Inc., Silverstein Properties, Inc., 375 Reply Memorandum of Law in Support of Motion,, filed by 7 World Trade Center Company, L.P., H.O. Penn Machinery Co., Inc., Preferred Utilities Manufacturing Corp., ABCO Peerless Sprinkler Corporation, Silverstein Development Corp., Citigroup Global Markets Holdings Inc., Fiberlock Technologies, Inc., Citigroup, Inc., Silverstein Properties, Inc., 229 Reply Affirmation in Support of Motion filed by AMEC Construction Management Inc., 103 Notice of Appearance, filed by Flack & Kurtz, Inc., 367 Declaration in Opposition to Motion, filed by Aegis Insurance Services, Inc., 247 Stipulation and Order of Dismissal, 268 Declaration in Opposition to Motion, filed by The Port Authority of New York & New Jersey, 310 Notice (Other) filed by ICTS International NV, 373 Stipulation and Order, Set Deadlines,, 287 Stipulation and Order of Dismissal, 21 Affidavit of Service Complaints filed by Aegis Insurance Services, Inc., 317 Memo Endorsement, 24 Affidavit of Service Complaints, filed by Aegis Insurance Services, Inc., 446 Stipulation and Order of Dismissal, Add and Terminate Parties,,,, 368 Counter Statement to Rule 56.1 filed by Aegis Insurance Services, Inc., 288 Endorsed Letter, Set Hearings,,,, 4 Rule 7.1 Corporate Disclosure Statement filed by G.C. Engineering & Associates, P.C., 221 Memorandum of Law in Opposition to Motion, filed by 7 World Trade Center Company, L.P., Silverstein Properties, Inc., 357 Affidavit in Support of Motion,,,,,,,, filed by 7 World Trade Company, L.P., 4 World Trade Center LLC, 3 World Trade Center LLC, 2 World Trade Center LLC, 1 World Trade Center LLC, 234 Reply Affirmation in Support of Motion filed by AMEC Construction Management Inc., 331 Affidavit of Service Other,, filed by Huntleigh USA Corporation, 281 Brief, filed by The Port Authority of New York & New Jersey, 223 Notice of Claim (09/11) filed by Johnson Controls World Services Inc., 204 MOTION to Vacate Order of January 12, 2006, Based Upon Newly Discovered Evidence. filed by Aegis Insurance Services, Inc., 271 Stipulation and Order were transmitted to the U.S. Court of Appeals. (nd) (Entered: 10/21/2011)\""
      ]
     },
     "execution_count": 126,
     "metadata": {},
     "output_type": "execute_result"
    }
   ],
   "source": [
    "newer_df['Original Docket Text'].iloc[2319]"
   ]
  },
  {
   "cell_type": "code",
   "execution_count": 127,
   "metadata": {},
   "outputs": [
    {
     "data": {
      "text/plain": [
       "\"Appeal Record Sent to USCA (Electronic File). Certified Indexed record on Appeal Electronic Files for 464 Endorsed Letter, 466 Transcript,, 452 Endorsed Letter,,,,, 457 Notice of Change of Address, filed by 7 World Trade Company, L.P., Silverstein Development Corp., Silverstein Properties, Inc., 459 Order,, 473 Notice of Appeal, filed by Nuclear Electric Insurance Limited, Consolidated Edison Company of New York, Inc., National Union Insurance Company of Pittsburgh, Liberty Insurance Underwriters, Inc., Certain Underwriters at Lloyds, (Syndicates 1225 and 1511), Aegis Insurance Services, Inc., 467 Notice of Filing Transcript,, 460 Endorsed Letter, Set Deadlines/Hearings,,,, 472 Notice of Appearance filed by Tishman Construction Corporation, 461 Endorsed Letter, Set Deadlines/Hearings,,,, 456 Notice of Change of Address, filed by 7 World Trade Company, L.P., Silverstein Development Corp., Silverstein Properties, Inc., 451 Endorsed Letter, 465 Stipulation and Order of Dismissal, 449 Notice (Other) filed by Industrial Risk Insurers, 468 Memorandum & Opinion,, 471 Memorandum of Law in Support of Motion, filed by 7 World Trade Company, L.P., Silverstein Development Corp., Silverstein Properties, Inc., 463 Endorsed Letter, 458 Notice of Change of Address, filed by 7 World Trade Company, L.P., Silverstein Development Corp., Silverstein Properties, Inc., 455 Notice of Change of Address, filed by 7 World Trade Company, L.P., Silverstein Development Corp., Silverstein Properties, Inc., 450 Endorsed Letter,, 469 Clerk's Judgment,, 462 Order, Set Deadlines/Hearings,, 470 MOTION to Alter Judgment. filed by 7 World Trade Company, L.P., Silverstein Development Corp., Silverstein Properties, Inc., 454 Endorsed Letter,, 334 Notice of Adoption of Master Answer filed by Boeing Co., 336 Answer to Amended Complaint,, filed by Colgan Air, Inc., 237 Reply Affirmation in Support of Motion filed by AMEC Construction Management Inc., 369 Certificate of Service Other, filed by Aegis Insurance Services, Inc., 166 Order on Motion to Appear Pro Hac Vice, 274 MOTION to Sever. filed by 7 World Trade Center Company, L.P., 64 Answer to Complaint, Crossclaim,,,,,, filed by Preferred Utilities Manufacturing Corp., 111 Consent filed by Ambassador Construction Co., Inc., 402 Declaration in Opposition to Motion,,, filed by Nuclear Electric Insurance Limited, Consolidated Edison Company of New York, Inc., National Union Insurance Company of Pittsburgh, Liberty Insurance Underwriters, Inc., Aegis Insurance Services, Inc., 295 Stipulation and Order of Dismissal,,, 161 MOTION for Francis M. Lynch to Appear Pro Hac Vice. filed by Fiberlock Technologies, Inc., 284 Memorandum of Law in Opposition to Motion, filed by 7 World Trade Center Company, L.P., Plaintiffs, 12 Affidavit of Service Complaints filed by Aegis Insurance Services, Inc., 43 Acknowledgment of Service Complaints filed by Aegis Insurance Services, Inc., 381 Order,,, 341 Rule 7.1 Corporate Disclosure Statement filed by Preferred Utilities Manufacturing Corp., 224 Third Party Complaint filed by Silverstein Properties, Inc., 420 Declaration in Support of Motion, filed by 7 World Trade Company, L.P., Silverstein Development Corp., Silverstein Properties, Inc., 34 Affidavit of Service Complaints filed by Aegis Insurance Services, Inc., 62 Answer to Complaint, Crossclaim,,,,,,,,,, filed by ABCO Peerless Sprinkler Corporation, 423 Declaration in Support of Motion,, filed by Salomon Smith Barney Holdings, Inc., Citigroup Global Markets Holdings Inc., Salomon Inc., Citigroup, Inc., 248 Stipulation and Order, 208 Order,, 329 Notice of Adoption of Master Answer filed by UAL Corporation, United Airlines, Inc., 378 Statement of Relatedness filed by Aegis Insurance Services, Inc., 417 Notice (Other), Notice (Other) filed by 7 World Trade Center Company, L.P., Silverstein Properties, Inc., 418 Reply Memorandum of Law in Support of Motion, filed by 7 World Trade Center Company, L.P., Silverstein Development Corp., Silverstein Properties, Inc., 228 Reply Memorandum of Law in Support of Motion, filed by Swanke Hayden Connell Archetects, Ambassador Construction Co., Inc., Cantor Seinuk Group, P.C., Cosentini Associates Inc., 363 MOTION for Anita Weinstein to Appear Pro Hac Vice. filed by Tishman Construction Corporation, 380 Endorsed Letter, Set Deadlines/Hearings,,,,,,,, 328 Affidavit of Service Other, filed by American Airlines, Inc., AMR Corporation, 416 Counter Statement to Rule 56.1, filed by Nuclear Electric Insurance Limited, Consolidated Edison Company of New York, Inc., National Union Insurance Company of Pittsburgh, Liberty Insurance Underwriters, Inc., Aegis Insurance Services, Inc., 401 Memorandum of Law in Support of Motion,, filed by Nuclear Electric Insurance Limited, Consolidated Edison Company of New York, Inc., National Union Insurance Company of Pittsburgh, Liberty Insurance Underwriters, Inc., Aegis Insurance Services, Inc., 396 Stipulation and Order, Add and Terminate Parties,,,,,, 429 Objection (non-motion), Objection (non-motion) filed by 7 World Trade Center Company, L.P., Silverstein Development Corp., Silverstein Properties, Inc., 117 Amended Answer to Complaints, Crossclaim filed by Preferred Utilities Manufacturing Corp., 14 Affidavit of Service Complaints filed by Aegis Insurance Services, Inc., 348 MOTION for Protective Order. filed by United Air Lines, Inc., 422 Rule 56.1 Statement filed by Salomon Smith Barney Holdings, Inc., Citigroup Global Markets Holdings Inc., Salomon Inc., Citigroup, Inc., 382 Memorandum & Opinion,,, 338 Rule 7.1 Corporate Disclosure Statement filed by Silverstein Development Corp., 15 Affidavit of Service Complaints filed by Aegis Insurance Services, Inc., 330 Notice of Adoption of Master Answer, filed by Huntleigh USA Corporation, 28 Affidavit of Service Complaints, filed by Aegis Insurance Services, Inc., 347 Answer to Crossclaim filed by 7 World Trade Center Company, L.P., Silverstein Development Corp., Silverstein Properties, Inc., 412 Certificate of Service Other,, filed by Nuclear Electric Insurance Limited, Consolidated Edison Company of New York, Inc., National Union Insurance Company of Pittsburgh, Liberty Insurance Underwriters, Inc., Aegis Insurance Services, Inc., 226 Order,,,,,, 38 Order, 399 Declaration in Opposition to Motion,,, filed by Nuclear Electric Insurance Limited, Consolidated Edison Company of New York, Inc., National Union Insurance Company of Pittsburgh, Liberty Insurance Underwriters, Inc., Aegis Insurance Services, Inc., 376 Scheduling Order,,,,, 393 Rule 56.1 Statement filed by Salomon Smith Barney Holdings, Inc., Citigroup Global Markets Holdings Inc., Salomon Inc., Citigroup, Inc., 225 Memo Endorsement, 61 Rule 7.1 Corporate Disclosure Statement filed by ABCO Peerless Sprinkler Corporation, 292 Memorandum of Law in Opposition to Motion, filed by Nuclear Electric Insurance Limited, National Union Insurance Company of Pittsburgh, Liberty Insurance Underwriters, Inc., Certain Underwriters at Lloyds, (Syndicates 1225 and 1511), Aegis Insurance Services, Inc., 26 Affidavit of Service Complaints, filed by Aegis Insurance Services, Inc., 433 Declaration in Opposition to Motion,, filed by 7 World Trade Company, L.P., Silverstein Development Corp., Silverstein Properties, Inc., 227 Notice of Claim (09/11) filed by The Port Authority of New York and New Jersey, 53 Affidavit of Service Complaints filed by Aegis Insurance Services, Inc., 286 MOTION to Dismiss Plaintiffs' Amended Complaint. filed by Fiberlock Technologies, Inc., 267 Declaration in Opposition to Motion, filed by 7 World Trade Center Company, L.P., World Trade Center Properties LLC, 207 Reply Memorandum of Law in Support of Motion, filed by Aegis Insurance Services, Inc., 325 Stipulation and Order of Dismissal,, 258 Memorandum of Law in Opposition to Motion,, filed by 7 World Trade Company, L.P., Silverstein Properties, Inc., 410 Declaration in Opposition to Motion,, filed by Nuclear Electric Insurance Limited, Consolidated Edison Company of New York, Inc., National Union Insurance Company of Pittsburgh, Liberty Insurance Underwriters, Inc., Aegis Insurance Services, Inc., 384 Order Admitting Attorney Pro Hac Vice, 7 Affidavit of Service Complaints filed by Salomon Inc., 301 Notice (Other) filed by US Airways Group, Inc., US Airways, Inc., 388 MOTION for Summary Judgment. filed by 7 World Trade Center Company, L.P., 7 World Trade Company, L.P., Silverstein Development Corp., Silverstein Properties, Inc., 186 Memorandum of Law in Support of Motion, filed by AMEC, PLC, 31 Affidavit of Service Complaints filed by Aegis Insurance Services, Inc., 219 Certificate of Service Other, filed by Salomon Smith Barney Holdings, Inc., Citigroup Global Markets Holdings Inc., Salomon Inc., Citigroup, Inc., 246 Affidavit of Service Complaints filed by 7 World Trade Company, L.P., 116 Affidavit of Service Complaints, filed by Aegis Insurance Services, Inc., 366 Memorandum of Law in Opposition to Motion, filed by Aegis Insurance Services, Inc., 279 Declaration in Opposition to Motion,, filed by 7 World Trade Center Company, L.P., Plaintiffs, 11 Affidavit of Service Complaints filed by Aegis Insurance Services, Inc., 322 Amended Complaint,,,,,, filed by Nuclear Electric Insurance Limited, Consolidated Edison Company of New York, Inc., National Union Insurance Company of Pittsburgh, Liberty Insurance Underwriters, Inc., Aegis Insurance Services, Inc., 253 MOTION to Dismiss Third-Party Complaint. filed by Flack & Kurtz, Inc., Skidmore Owings and Merrill, L.L.P., 421 Reply Memorandum of Law in Support of Motion,, filed by Salomon Smith Barney Holdings, Inc., Citigroup Global Markets Holdings Inc., Salomon Inc., Citigroup, Inc., 400 MOTION to Stay re: 388 MOTION for Summary Judgment. Cross-Motion to Stay Determination of Silverstein Defendants' Summary Judgment Motion as to Count XVII Pending Resolution of Appeal in 02-cv-7188. MOTION to Stay re: 388 MOTION for Summary Judgment. Cross-Motion to Stay Determination of Silverstein Defendants' Summary Judgment Motion as to Count XVII Pending Resolution of Appeal in 02-cv-7188. filed by Nuclear Electric Insurance Limited, Consolidated Edison Company of New York, Inc., National Union Insurance Company of Pittsburgh, Liberty Insurance Underwriters, Inc., 245 Affidavit of Service Complaints, filed by 7 World Trade Center Company, L.P., 448 Notice of Appeal, filed by Intervenors The WTC Plaintiffs, 240 Reply Memorandum of Law in Support of Motion filed by AMEC Construction Management Inc., 187 Memorandum of Law in Support of Motion, filed by AMEC, PLC, 63 Answer to Crossclaim,,,,,,, filed by Preferred Utilities Manufacturing Corp., 242 Answer to Complaint filed by Skidmore Owings and Merrill, L.L.P., 37 Affidavit of Service Complaints, filed by Aegis Insurance Services, Inc., 445 Stipulation of Voluntary Dismissal, filed by Fiberlock Technologies, Inc., 320 Order, 35 Affidavit of Service Complaints filed by Aegis Insurance Services, Inc., 387 Stipulation and Order of Dismissal, 390 Memorandum of Law in Support of Motion, filed by 7 World Trade Center Company, L.P., 7 World Trade Company, L.P., Silverstein Development Corp., Silverstein Properties, Inc., 264 Memorandum & Opinion, Terminate Motions,,,,,,,,,,,,,,,,,, 395 Memorandum of Law in Support of Motion, filed by Salomon Smith Barney Holdings, Inc., Citigroup Global Markets Holdings Inc., Salomon Inc., Citigroup, Inc., 312 Reply to Response to Motion, filed by Fiberlock Technologies, Inc., 126 Order,, 216 Answer to Crossclaim, filed by Salomon Smith Barney Holdings, Inc., Citigroup Global Markets Holdings Inc., Salomon Inc., Citigroup, Inc., 311 Endorsed Letter, Set Deadlines/Hearings,, 170 Order,,, 385 Endorsed Letter,, 41 Affidavit of Service Complaints filed by Aegis Insurance Services, Inc., 383 Endorsed Letter, 444 Notice of Change of Address, filed by Aegis Insurance Services, Inc., 181 Memorandum of Law in Support of Motion, filed by AMEC Construction Management Inc., 195 Answer to Complaint filed by Centifugal Associates, Inc., 257 Memorandum of Law in Opposition to Motion, filed by 7 World Trade Company, L.P., Silverstein Properties, Inc., 42 Affidavit of Service Complaints filed by Aegis Insurance Services, Inc., 206 Memorandum of Law, filed by Irwin G. Cantor, P.C., Cantor Seinuk Group, P.C., 184 Memorandum of Law in Support of Motion, filed by AMEC, PLC, 275 Declaration in Support of Motion,,, filed by 7 World Trade Center Company, L.P., 235 Reply Affirmation in Support of Motion filed by AMEC Construction Management Inc., 296 Stipulation and Order of Dismissal, Add and Terminate Parties,, 419 Declaration in Support of Motion,, filed by 7 World Trade Company, L.P., Silverstein Development Corp., Silverstein Properties, Inc., 404 Declaration in Opposition to Motion,,, filed by Nuclear Electric Insurance Limited, Consolidated Edison Company of New York, Inc., National Union Insurance Company of Pittsburgh, Liberty Insurance Underwriters, Inc., Aegis Insurance Services, Inc., 391 Declaration in Support of Motion,,, filed by 7 World Trade Center Company, L.P., 7 World Trade Company, L.P., Silverstein Development Corp., Silverstein Properties, Inc., 59 Affidavit of Service Other filed by Aegis Insurance Services, Inc., 405 Declaration in Opposition to Motion,, filed by Nuclear Electric Insurance Limited, Consolidated Edison Company of New York, Inc., National Union Insurance Company of Pittsburgh, Liberty Insurance Underwriters, Inc., Aegis Insurance Services, Inc., 426 MOTION for Leave to File Supplemental and Amended Expert Declarations Incorporating and Attaching Expert Reports in Further Opposition to Silverstein's and Citigroup's Motions for Summary Judgment. filed by Nuclear Electric Insurance Limited, Consolidated Edison Company of New York, Inc., National Union Insurance Company of Pittsburgh, Liberty Insurance Underwriters, Inc., Aegis Insurance Services, Inc., 349 Order, Set Deadlines/Hearings, Terminate Motions,,,,,,,,,,,,,,,,,,,,,,,,,,, 25 Affidavit of Service Complaints, filed by Aegis Insurance Services, Inc., 332 Notice of Adoption of Master Answer, filed by US Airways Group, Inc., US Airways, Inc., U.S. Airways Group, Inc., US Airways Inc., 29 Affidavit of Service Complaints filed by Aegis Insurance Services, Inc., 183 Memorandum of Law in Support of Motion, filed by AMEC, PLC, 269 Counter Statement to Rule 56.1 filed by World Trade Center Properties LLC, 60 Notice of Appearance filed by Flack & Kurtz, Inc., 360 Rule 56.1 Statement, filed by 7 World Trade Center Company, L.P., H.O. Penn Machinery Co., Inc., Preferred Utilities Manufacturing Corp., ABCO Peerless Sprinkler Corporation, Silverstein Development Corp., Citigroup Global Markets Holdings Inc., Fiberlock Technologies, Inc., Silverstein Properties, Inc., Citigroup, Inc., 337 Answer to Amended Complaint, Crossclaim,,,, filed by 7 World Trade Center Company, L.P., Silverstein Development Corp., Silverstein Properties, Inc., 408 Declaration in Opposition to Motion,, filed by Nuclear Electric Insurance Limited, Liberty Insurance Underwriters, Inc., Consolidated Edison Company of New York, Inc., National Union Insurance Company of Pittsburgh, Aegis Insurance Services, Inc., 344 Notice (Other) filed by Fiberlock Technologies, Inc., 180 Memorandum of Law in Support of Motion, filed by AMEC Construction Management Inc., 27 Affidavit of Service Complaints filed by Aegis Insurance Services, Inc., 20 Affidavit of Service Complaints filed by Aegis Insurance Services, Inc., 392 MOTION for Summary Judgment / Notice of Motion for Summary Judgment in Favor of Citigroup Inc. and Citigroup Global Markets Holdings Inc., dated November 24, 2009. filed by Salomon Inc., Salomon Smith Barney Holdings, Inc., Citigroup Global Markets Holdings Inc., Citigroup, Inc., 262 Reply Memorandum of Law in Support of Motion, filed by Flack & Kurtz, Inc., Skidmore Owings and Merrill, L.L.P., 185 Memorandum of Law in Support of Motion, filed by AMEC, PLC, 314 Stipulation and Order of Dismissal,,, 343 Answer to Amended Complaint, filed by Salomon Inc., Salomon Smith Barney Holdings, Inc., Citigroup Global Markets Holdings Inc., Citigroup, Inc., 16 Affidavit of Service Complaints filed by Aegis Insurance Services, Inc., 339 Endorsed Letter,, 19 Affidavit of Service Complaints filed by Aegis Insurance Services, Inc., 191 Memorandum of Law in Support of Motion, filed by AMEC, PLC, 178 Memorandum of Law in Support of Motion, filed by AMEC Construction Management Inc., 70 Answer to Complaint, Crossclaim filed by All Fire Systems, Inc., 150 Memorandum & Opinion, 430 Memorandum of Law in Opposition to Motion, filed by Salomon Inc., Salomon Smith Barney Holdings, Inc., Citigroup Global Markets Holdings Inc., Citigroup, Inc., 18 Affidavit of Service Complaints filed by Aegis Insurance Services, Inc., 293 Notice of Voluntary Dismissal - Signed, Stipulation and Order,, 273 Stipulation and Order of Dismissal,,, 261 Declaration in Support of Motion,, filed by Flack & Kurtz, Inc., Skidmore Owings and Merrill, L.L.P., 236 Reply Affirmation in Support of Motion filed by AMEC Construction Management Inc., 283 Order, 425 Certificate of Service Other,,, filed by Salomon Inc., Salomon Smith Barney Holdings, Inc., Citigroup Global Markets Holdings Inc., Citigroup, Inc., 1 Complaint,,,,,, filed by Nuclear Electric Insurance Limited, Liberty Insurance Underwriters, Inc., Certain Underwriters at Lloyds, (Syndicates 1225 and 1511), National Union Insurance Company of Pittsburgh, Aegis Insurance Services, Inc., 160 Answer to Complaint, Crossclaim,,,, filed by Electric Power Systems, Inc., 413 Memorandum of Law in Opposition to Motion, filed by Nuclear Electric Insurance Limited, Liberty Insurance Underwriters, Inc., Consolidated Edison Company of New York, Inc., National Union Insurance Company of Pittsburgh, Aegis Insurance Services, Inc., 259 Endorsed Letter, 394 Declaration in Support of Motion,,,,, filed by Salomon Inc., Salomon Smith Barney Holdings, Inc., Citigroup Global Markets Holdings Inc., Citigroup, Inc., 222 Memorandum of Law in Opposition to Motion filed by 7 World Trade Center Company, L.P., Silverstein Properties, Inc., 289 Stipulation and Order of Dismissal, 299 Stipulation and Order of Dismissal,,, 10 Affidavit of Service Complaints filed by Aegis Insurance Services, Inc., 40 Affidavit of Service Complaints filed by Aegis Insurance Services, Inc., 346 Certificate of Service Other, filed by Salomon Inc., Salomon Smith Barney Holdings, Inc., Citigroup Global Markets Holdings Inc., Citigroup, Inc., 319 Endorsed Letter,, 8 Affidavit of Service Complaints filed by Aegis Insurance Services, Inc., 365 Stipulation and Order,,,, 398 Order,,,,,,,, 127 Order, 193 Memorandum of Law in Support of Motion, filed by AMEC, PLC, 290 Endorsed Letter, Set Deadlines,,,, 266 Crossclaim, filed by 7 World Trade Center Company, L.P., Silverstein Properties, Inc., 231 Stipulation and Order, 374 Reply Memorandum of Law in Support of Motion,,, filed by 7 World Trade Company, L.P., 4 World Trade Center LLC, 3 World Trade Center LLC, 2 World Trade Center LLC, 1 World Trade Center LLC, World Trade Center Properties LLC, 308 Answer to Complaint filed by Globe Aviation Services Corporation, 249 Stipulation and Order of Dismissal, 177 MOTION to Dismiss Third-Party Defendant AMEC'S Notice of Motion to Dismiss the Third-Party Claims of 7 World Trade Center Company and Silverstein Properties, Inc.. filed by AMEC Construction Management Inc., 428 Declaration in Support of Motion,, filed by Nuclear Electric Insurance Limited, Liberty Insurance Underwriters, Inc., Consolidated Edison Company of New York, Inc., National Union Insurance Company of Pittsburgh, ABCO Peerless Sprinkler Corporation, Aegis Insurance Services, Inc., 306 Affidavit of Service Other, filed by Huntleigh USA Corporation, 157 Endorsed Letter,, 280 Memorandum of Law in Opposition to Motion,, filed by 7 World Trade Center Company, L.P., Plaintiffs, 424 Declaration in Support of Motion,,,, filed by Salomon Inc., Salomon Smith Barney Holdings, Inc., Citigroup Global Markets Holdings Inc., Citigroup, Inc., 362 Affidavit in Support of Motion,, filed by 7 World Trade Center Company, L.P., H.O. Penn Machinery Co., Inc., Preferred Utilities Manufacturing Corp., ABCO Peerless Sprinkler Corporation, Silverstein Development Corp., Citigroup Global Markets Holdings Inc., Fiberlock Technologies, Inc., Citigroup, Inc., Silverstein Properties, Inc., 48 Waiver of Service Executed filed by Aegis Insurance Services, Inc., 302 Affidavit of Service Other filed by US Airways Group, Inc., US Airways, Inc., 203 Case Management Plan,,,, 397 Notice of Appearance filed by Syska & Hennessy Engineers, Syska & Hennessy Group, Inc., Syska & Hennessy, Inc., 389 Rule 56.1 Statement filed by 7 World Trade Center Company, L.P., 7 World Trade Company, L.P., Silverstein Development Corp., Silverstein Properties, Inc., 340 Notice of Adoption of Master Answer filed by ABCO Peerless Sprinkler Corporation, 251 Stipulation and Order,, 239 Reply Affirmation in Support of Motion filed by AMEC Construction Management Inc., 316 Endorsed Letter, 386 Order,, 54 Affidavit of Service Complaints, filed by Aegis Insurance Services, Inc., 409 Declaration in Opposition to Motion,, filed by Nuclear Electric Insurance Limited, Liberty Insurance Underwriters, Inc., Consolidated Edison Company of New York, Inc., National Union Insurance Company of Pittsburgh, Aegis Insurance Services, Inc., 276 Memorandum of Law in Support of Motion,,, filed by 7 World Trade Center Company, L.P., 30 Affidavit of Service Complaints filed by Aegis Insurance Services, Inc., 270 Order, Set Deadlines/Hearings,, 307 Notice (Other) filed by ICTS International NV, 434 Notice (Other) filed by Delta Air Lines, Inc., 442 Memo Endorsement, Terminate Motions,,,,,,,, 372 Scheduling Order, 305 Notice (Other), Notice (Other) filed by Huntleigh USA Corporation, 238 Reply Affirmation in Support of Motion filed by AMEC Construction Management Inc., 260 Reply Memorandum of Law in Support of Motion,, filed by Office of Irwin G. Cantor, P.C., Syska & Hennessy, Inc., 209 Order,, 379 Memo Endorsement,, 192 Memorandum of Law in Support of Motion, filed by AMEC, PLC, 244 Affidavit of Service Complaints, filed by 7 World Trade Company, L.P., 99 Affidavit of Service Complaints, filed by Aegis Insurance Services, Inc., 202 Case Management Plan,,,, 252 MOTION to Dismiss Notice of Motion to Dismiss the Third-party Complaint Pursuant to FRCP 12 (b) (6). MOTION to Dismiss Notice of Motion to Dismiss the Third-party Complaint Pursuant to FRCP 12 (b) (6). MOTION to Dismiss Notice of Motion to Dismiss the Third-party Complaint Pursuant to FRCP 12 (b) (6). MOTION to Dismiss Notice of Motion to Dismiss the Third-party Complaint Pursuant to FRCP 12 (b) (6). filed by Irwin G. Cantor, P.C., Syska & Hennessy Group, Inc., 58 Affidavit of Service Other, 282 Crossclaim filed by Fiberlock Technologies, Inc., 303 Notice (Other) filed by American Airlines, Inc., AMR Corporation, 371 Scheduling Order,,,, 333 Affidavit,, filed by U.S. Airways Group, Inc., US Airways Group, Inc., US Airways, Inc., US Airways Inc., 370 Counter Statement to Rule 56.1 filed by Aegis Insurance Services, Inc., 159 Case Management Plan,,, 291 Endorsed Letter, Set Deadlines/Hearings,, 241 Answer to Complaint filed by Flack & Kurtz, Inc., 300 Notice (Other) filed by Colgan Air, Inc., 3 Notice of Case Assignment/Reassignment, 182 Memorandum of Law in Support of Motion, filed by AMEC Construction Management Inc., 406 Declaration in Opposition to Motion,, filed by Nuclear Electric Insurance Limited, Liberty Insurance Underwriters, Inc., Consolidated Edison Company of New York, Inc., National Union Insurance Company of Pittsburgh, Aegis Insurance Services, Inc., 6 Affidavit of Service Complaints filed by 7 World Trade Center Company, L.P., 39 Affidavit of Service Other filed by Aegis Insurance Services, Inc., 323 Affidavit of Service Other, filed by Aegis Insurance Services, Inc., 232 Reply Affirmation in Support of Motion filed by AMEC Construction Management Inc., 309 Notice (Other) filed by UAL Corporation, United Airlines, Inc., 154 Memo Endorsement, 110 Endorsed Letter, 324 Stipulation and Order of Dismissal, 377 Application for Letters Rogatory filed by Aegis Insurance Services, Inc., 345 Stipulation and Order of Dismissal, 243 Affidavit of Service Complaints filed by 7 World Trade Company, L.P., 350 Scheduling Order, 9 Affidavit of Service Complaints, filed by Aegis Insurance Services, Inc., 69 Rule 7.1 Corporate Disclosure Statement filed by All Fire Systems, Inc., 102 Answer to Complaint, Crossclaim filed by H.O. Penn Machinery Co., Inc., 22 Affidavit of Service Complaints filed by Aegis Insurance Services, Inc., 179 Affirmation in Support of Motion, filed by AMEC Construction Management Inc., 447 Clerk's Judgment,,, 358 Memorandum of Law in Support of Motion,,, filed by 7 World Trade Company, L.P., 4 World Trade Center LLC, 3 World Trade Center LLC, 2 World Trade Center LLC, 1 World Trade Center LLC, 230 Stipulation and Order, 220 Answer to Crossclaim filed by 7 World Trade Center Company, L.P., Silverstein Properties, Inc., 188 Memorandum of Law in Support of Motion, filed by AMEC, PLC, 285 Stipulation and Order of Dismissal,, 100 Affidavit of Service Complaints filed by Aegis Insurance Services, Inc., 36 Affidavit of Service Complaints, filed by Aegis Insurance Services, Inc., 364 Order on Motion to Appear Pro Hac Vice, 233 Reply Affirmation in Support of Motion filed by AMEC Construction Management Inc., 342 Answer to Amended Complaint, Crossclaim filed by Preferred Utilities Manufacturing Corp., 254 JOINT MOTION to Dismiss Third Party Complaint. filed by Flack & Kurtz, Inc., Skidmore Owings and Merrill, L.L.P., 403 Declaration in Opposition to Motion,,, filed by Nuclear Electric Insurance Limited, Liberty Insurance Underwriters, Inc., Consolidated Edison Company of New York, Inc., National Union Insurance Company of Pittsburgh, Aegis Insurance Services, Inc., 278 Memorandum of Law in Opposition to Motion, filed by 7 World Trade Center Company, L.P., Plaintiffs, 189 Memorandum of Law in Support of Motion, filed by AMEC, PLC, 297 Stipulation and Order of Dismissal, 318 Order, Set Deadlines/Hearings, 17 Affidavit of Service Complaints, filed by Aegis Insurance Services, Inc., 327 Notice of Adoption of Master Answer filed by American Airlines, Inc., AMR Corporation, 443 Order, 23 Affidavit of Service Complaints filed by Aegis Insurance Services, Inc., 173 Order, Set Deadlines/Hearings,, 355 MOTION for Summary Judgment. filed by 7 World Trade Company, L.P., 4 World Trade Center LLC, 3 World Trade Center LLC, 2 World Trade Center LLC, 1 World Trade Center LLC, 414 Memorandum of Law in Opposition to Motion, filed by Nuclear Electric Insurance Limited, Liberty Insurance Underwriters, Inc., Consolidated Edison Company of New York, Inc., National Union Insurance Company of Pittsburgh, Aegis Insurance Services, Inc., 277 Declaration in Opposition to Motion, filed by 7 World Trade Center Company, L.P., Plaintiffs, 326 Stipulation and Order of Dismissal,, 431 Certificate of Service Other, filed by Salomon Inc., Salomon Smith Barney Holdings, Inc., Citigroup Global Markets Holdings Inc., Citigroup, Inc., 196 Stipulation and Order, 432 Memorandum of Law in Opposition to Motion, filed by 7 World Trade Company, L.P., Silverstein Development Corp., Silverstein Properties, Inc., 55 Affidavit of Service Complaints filed by Aegis Insurance Services, Inc., 5 Answer to Complaint filed by G.C. Engineering & Associates, P.C., 151 Answer to Complaint filed by American Airlines, Inc., AMR Corporation, 194 Stipulation and Order, 250 Stipulation and Order of Dismissal, 359 MOTION for Partial Summary Judgment Notice of Motion by 7 Ground Defendants for Partial Summary Judgment Dismissing Subrogation Claims Asserted Against Them. filed by 7 World Trade Center Company, L.P., H.O. Penn Machinery Co., Inc., Preferred Utilities Manufacturing Corp., ABCO Peerless Sprinkler Corporation, Silverstein Development Corp., Citigroup Global Markets Holdings Inc., Fiberlock Technologies, Inc., Citigroup, Inc., Silverstein Properties, Inc., 205 Order, Set Deadlines/Hearings, Set Motion and R&R Deadlines/Hearings,,, 45 Answer to Complaint, Crossclaim,,,,,,,,,,,, filed by Firecom Inc., 2 Rule 7.1 Corporate Disclosure Statement, filed by Nuclear Electric Insurance Limited, Liberty Insurance Underwriters, Inc., Certain Underwriters at Lloyds, (Syndicates 1225 and 1511), National Union Insurance Company of Pittsburgh, Aegis Insurance Services, Inc., 335 Notice of Adoption of Master Answer filed by ICTS International NV, 304 Notice (Other), Notice (Other) filed by Boeing Co., 33 Affidavit of Service Complaints filed by Aegis Insurance Services, Inc., 321 Order,, 13 Affidavit of Service Complaints filed by Aegis Insurance Services, Inc., 298 Stipulation and Order of Dismissal,,, 197 Stipulation and Order, 315 Stipulation and Order of Dismissal,,, 255 JOINT MOTION to Dismiss Third Party Complaint - Memorandum of Law in Support. filed by Flack & Kurtz, Inc., Skidmore Owings and Merrill, L.L.P., 115 Affidavit of Service Complaints, filed by Aegis Insurance Services, Inc., 313 Stipulation and Order of Dismissal,,, 265 Order,, 427 Memorandum of Law in Support of Motion, filed by Nuclear Electric Insurance Limited, Liberty Insurance Underwriters, Inc., Consolidated Edison Company of New York, Inc., National Union Insurance Company of Pittsburgh, Aegis Insurance Services, Inc., 407 Declaration in Opposition to Motion,, filed by Nuclear Electric Insurance Limited, Liberty Insurance Underwriters, Inc., Consolidated Edison Company of New York, Inc., National Union Insurance Company of Pittsburgh, Aegis Insurance Services, Inc., 356 Rule 56.1 Statement filed by 7 World Trade Company, L.P., 4 World Trade Center LLC, 3 World Trade Center LLC, 2 World Trade Center LLC, 1 World Trade Center LLC, 190 Memorandum of Law in Support of Motion, filed by AMEC, PLC, 256 Stipulation and Order,, 294 Stipulation and Order of Dismissal,,, 411 Declaration in Opposition to Motion,, filed by Nuclear Electric Insurance Limited, Liberty Insurance Underwriters, Inc., Consolidated Edison Company of New York, Inc., National Union Insurance Company of Pittsburgh, Aegis Insurance Services, Inc., AMR Corporation, 361 Memorandum of Law in Support of Motion,, filed by 7 World Trade Center Company, L.P., H.O. Penn Machinery Co., Inc., Preferred Utilities Manufacturing Corp., ABCO Peerless Sprinkler Corporation, Silverstein Development Corp., Citigroup Global Markets Holdings Inc., Fiberlock Technologies, Inc., Citigroup, Inc., Silverstein Properties, Inc., 375 Reply Memorandum of Law in Support of Motion,, filed by 7 World Trade Center Company, L.P., H.O. Penn Machinery Co., Inc., Preferred Utilities Manufacturing Corp., ABCO Peerless Sprinkler Corporation, Silverstein Development Corp., Citigroup Global Markets Holdings Inc., Fiberlock Technologies, Inc., Citigroup, Inc., Silverstein Properties, Inc., 229 Reply Affirmation in Support of Motion filed by AMEC Construction Management Inc., 103 Notice of Appearance, filed by Flack & Kurtz, Inc., 367 Declaration in Opposition to Motion, filed by Aegis Insurance Services, Inc., 247 Stipulation and Order of Dismissal, 268 Declaration in Opposition to Motion, filed by The Port Authority of New York & New Jersey, 310 Notice (Other) filed by ICTS International NV, 373 Stipulation and Order, Set Deadlines,, 287 Stipulation and Order of Dismissal, 21 Affidavit of Service Complaints filed by Aegis Insurance Services, Inc., 317 Memo Endorsement, 24 Affidavit of Service Complaints, filed by Aegis Insurance Services, Inc., 446 Stipulation and Order of Dismissal, Add and Terminate Parties,,,, 368 Counter Statement to Rule 56.1 filed by Aegis Insurance Services, Inc., 288 Endorsed Letter, Set Hearings,,,, 4 Rule 7.1 Corporate Disclosure Statement filed by G.C. Engineering & Associates, P.C., 221 Memorandum of Law in Opposition to Motion, filed by 7 World Trade Center Company, L.P., Silverstein Properties, Inc., 357 Affidavit in Support of Motion,,,,,,,, filed by 7 World Trade Company, L.P., 4 World Trade Center LLC, 3 World Trade Center LLC, 2 World Trade Center LLC, 1 World Trade Center LLC, 234 Reply Affirmation in Support of Motion filed by AMEC Construction Management Inc., 331 Affidavit of Service Other,, filed by Huntleigh USA Corporation, 281 Brief, filed by The Port Authority of New York & New Jersey, 223 Notice of Claim (09/11) filed by Johnson Controls World Services Inc., 204 MOTION to Vacate Order of January 12, 2006, Based Upon Newly Discove\""
      ]
     },
     "execution_count": 127,
     "metadata": {},
     "output_type": "execute_result"
    }
   ],
   "source": [
    "newer_df['Original Docket Text'].iloc[3203]"
   ]
  },
  {
   "cell_type": "code",
   "execution_count": 102,
   "metadata": {},
   "outputs": [
    {
     "data": {
      "text/plain": [
       "Original Docket Text                  Appeal Record Sent to USCA (Electronic File). ...\n",
       "Organization Portion                  World Trade Company Silverstein Development Co...\n",
       "Name Portion                          Francis M. Lynch Swanke Hayden Connell Archete...\n",
       "Identifying Org and Name              Appeal Record Sent to USCA ( Electronic File )...\n",
       "Stripped Org and Name                 Appeal Record Sent to USCA ( Electronic File )...\n",
       "normalized                            appeal record sent to usca electronic file cer...\n",
       "tokenize                              [appeal, record, sent, to, usca, electronic, f...\n",
       "nostop                                [appeal, record, sent, usca, electronic, file,...\n",
       "DT Topics                             Complaints, Letter and Response, Other Answers...\n",
       "NoAction                                                                              0\n",
       "Removed unnecessary POS & vocab DT                                                     \n",
       "lemmed                                                                                 \n",
       "phrases                                                                                \n",
       "cleaned                                                                                \n",
       "Name: 2352, dtype: object"
      ]
     },
     "execution_count": 102,
     "metadata": {},
     "output_type": "execute_result"
    }
   ],
   "source": [
    "new_df['Original Docket Text'].apply(len).sort_values(ascending = False)\n",
    "new_df.iloc[2352]"
   ]
  },
  {
   "cell_type": "code",
   "execution_count": 105,
   "metadata": {},
   "outputs": [
    {
     "name": "stdout",
     "output_type": "stream",
     "text": [
      "Complaints, Letter and Response, Other Answers, Service of Process, Judgment, Order, Notices, Answers to Complaints, Motions\n",
      "Notices, Order, Letter and Response, Judgment, Answers to Complaints, Other Answers, Complaints, Motions, Service of Process\n"
     ]
    }
   ],
   "source": [
    "print(new_df['DT Topics'].iloc[2352])\n",
    "print(old_df['DT Topics'].iloc[2319])"
   ]
  },
  {
   "cell_type": "code",
   "execution_count": null,
   "metadata": {},
   "outputs": [],
   "source": [
    "new_df.iloc[2352]"
   ]
  },
  {
   "cell_type": "markdown",
   "metadata": {},
   "source": [
    "### Taken steps to correct for that issue. Still waiting for Chris' feedback as to action and if action columns"
   ]
  },
  {
   "cell_type": "code",
   "execution_count": 133,
   "metadata": {},
   "outputs": [
    {
     "name": "stderr",
     "output_type": "stream",
     "text": [
      "c:\\users\\inves\\appdata\\local\\programs\\python\\python35\\lib\\site-packages\\pandas\\core\\indexing.py:141: SettingWithCopyWarning: \n",
      "A value is trying to be set on a copy of a slice from a DataFrame\n",
      "\n",
      "See the caveats in the documentation: http://pandas.pydata.org/pandas-docs/stable/indexing.html#indexing-view-versus-copy\n",
      "  self._setitem_with_indexer(indexer, value)\n"
     ]
    },
    {
     "data": {
      "text/plain": [
       "(3203, 10)"
      ]
     },
     "execution_count": 133,
     "metadata": {},
     "output_type": "execute_result"
    }
   ],
   "source": [
    "#this is a special case\n",
    "newer_df['NoAction'].iloc[2319] = 0\n",
    "newer_df['Action'].iloc[2319] = 'Y'\n",
    "newer_df['If Action'].iloc[2319] = 'Assistant'\n",
    "newer_df['Action revised'].iloc[2319] = 'Y'\n",
    "newer_df['If Action revised'].iloc[2319] = 'Assistant'\n",
    "\n",
    "\n",
    "#only needed if ran for the first time\n",
    "#newer_df.drop([3203], axis = 0, inplace = True)\n",
    "#newer_df.drop('_merge', axis = 1, inplace = True)\n",
    "\n",
    "newer_df.shape"
   ]
  },
  {
   "cell_type": "code",
   "execution_count": 134,
   "metadata": {},
   "outputs": [
    {
     "data": {
      "text/plain": [
       "Original Docket Text    Appeal Record Sent to USCA (Electronic File). ...\n",
       "normalized              appeal record sent to usca electronic file cer...\n",
       "lemmed                                                                   \n",
       "phrases                                                                  \n",
       "DT Topics               Complaints, Letter and Response, Other Answers...\n",
       "NoAction                                                                0\n",
       "Action                                                                  Y\n",
       "If Action                                                       Assistant\n",
       "Action revised                                                          Y\n",
       "If Action revised                                               Assistant\n",
       "Name: 2319, dtype: object"
      ]
     },
     "execution_count": 134,
     "metadata": {},
     "output_type": "execute_result"
    }
   ],
   "source": [
    "newer_df.iloc[2319]"
   ]
  },
  {
   "cell_type": "code",
   "execution_count": 135,
   "metadata": {},
   "outputs": [],
   "source": [
    "filename = 'docket_texts/train/DT/basic_cleaned_with_labels.pickle'"
   ]
  },
  {
   "cell_type": "code",
   "execution_count": 136,
   "metadata": {},
   "outputs": [],
   "source": [
    "#to save\n",
    "with open(filename, 'wb') as handle: \n",
    "    pickle.dump(newer_df, handle, protocol = pickle.HIGHEST_PROTOCOL)"
   ]
  },
  {
   "cell_type": "code",
   "execution_count": null,
   "metadata": {},
   "outputs": [],
   "source": []
  },
  {
   "cell_type": "code",
   "execution_count": null,
   "metadata": {},
   "outputs": [],
   "source": []
  },
  {
   "cell_type": "code",
   "execution_count": null,
   "metadata": {},
   "outputs": [],
   "source": []
  },
  {
   "cell_type": "code",
   "execution_count": null,
   "metadata": {},
   "outputs": [],
   "source": []
  },
  {
   "cell_type": "code",
   "execution_count": null,
   "metadata": {},
   "outputs": [],
   "source": []
  },
  {
   "cell_type": "code",
   "execution_count": null,
   "metadata": {},
   "outputs": [],
   "source": []
  },
  {
   "cell_type": "code",
   "execution_count": null,
   "metadata": {},
   "outputs": [],
   "source": []
  },
  {
   "cell_type": "code",
   "execution_count": null,
   "metadata": {},
   "outputs": [],
   "source": []
  },
  {
   "cell_type": "markdown",
   "metadata": {},
   "source": [
    "### If you need domain expert to check your work, continue. Otherwise, STOP here"
   ]
  },
  {
   "cell_type": "code",
   "execution_count": null,
   "metadata": {},
   "outputs": [],
   "source": [
    "new_df[['Original Docket Text', 'normalized', 'DT Topics', 'lemmed', 'phrases']].drop_duplicates().to_csv('Check if keywords working.csv', index = False)"
   ]
  },
  {
   "cell_type": "code",
   "execution_count": null,
   "metadata": {},
   "outputs": [],
   "source": [
    "print('shape before dedupe: {}'.format(new_df.shape))\n",
    "print('shape after dedupe: {}'.format(new_df[['Original Docket Text', 'normalized', 'DT Topics', 'lemmed', 'phrases']].drop_duplicates().shape))"
   ]
  },
  {
   "cell_type": "code",
   "execution_count": null,
   "metadata": {},
   "outputs": [],
   "source": [
    "chris_file = pd.read_excel(r'temporary file - Sept 19.xlsx')\n",
    "print(chris_file.shape)\n",
    "chris_file.tail(1)"
   ]
  },
  {
   "cell_type": "code",
   "execution_count": null,
   "metadata": {},
   "outputs": [],
   "source": [
    "another_df = new_df[['Original Docket Text', 'normalized', 'lemmed', 'phrases', 'DT Topics', 'NoAction']].drop_duplicates().merge(chris_file[['Original Docket Text', 'Action', 'If Action']], on = 'Original Docket Text', how = 'left')\n",
    "print(another_df.shape)\n",
    "another_df.tail(1)\n",
    "#another_df.to_excel('tempfile.xlsx', index = False)"
   ]
  },
  {
   "cell_type": "code",
   "execution_count": null,
   "metadata": {},
   "outputs": [],
   "source": [
    "another_df['Action revised'] = np.where(another_df['NoAction'] == 1, 'N', another_df['Action'])\n",
    "another_df['If Action revised'] = np.where(another_df['NoAction'] == 1, '', another_df['If Action'])\n",
    "\n",
    "another_df.head()"
   ]
  },
  {
   "cell_type": "code",
   "execution_count": null,
   "metadata": {},
   "outputs": [],
   "source": [
    "#export to check\n",
    "another_df.to_excel('tempfile.xlsx', index = False)\n",
    "#applying methodology to the testing file is at another notebook"
   ]
  },
  {
   "cell_type": "code",
   "execution_count": null,
   "metadata": {},
   "outputs": [],
   "source": []
  },
  {
   "cell_type": "code",
   "execution_count": null,
   "metadata": {},
   "outputs": [],
   "source": []
  },
  {
   "cell_type": "code",
   "execution_count": null,
   "metadata": {},
   "outputs": [],
   "source": []
  },
  {
   "cell_type": "code",
   "execution_count": null,
   "metadata": {},
   "outputs": [],
   "source": []
  }
 ],
 "metadata": {
  "kernelspec": {
   "display_name": "Python 3",
   "language": "python",
   "name": "python3"
  },
  "language_info": {
   "codemirror_mode": {
    "name": "ipython",
    "version": 3
   },
   "file_extension": ".py",
   "mimetype": "text/x-python",
   "name": "python",
   "nbconvert_exporter": "python",
   "pygments_lexer": "ipython3",
   "version": "3.5.3"
  }
 },
 "nbformat": 4,
 "nbformat_minor": 2
}
