{
 "cells": [
  {
   "cell_type": "code",
   "execution_count": 17,
   "metadata": {
    "scrolled": true
   },
   "outputs": [
    {
     "name": "stdout",
     "output_type": "stream",
     "text": [
      "Please see the attachment(s) for reference. I will need to inform you of the results tomorrow. \n",
      "Please see the attachment(s)\n",
      "Please see the attachments for reference. I will need to inform you of the results tomorrow. \n",
      "Please see the attachments\n"
     ]
    }
   ],
   "source": [
    "import spacy\n",
    "nlp = spacy.load('en')\n",
    "sentences = 'Please see the attachment(s) for reference. I will need to inform you of the results tomorrow. \\nPlease see the attachment(s)'\n",
    "sentences_new = sentences.replace('(s)', 's')\n",
    "print(sentences)\n",
    "print(sentences_new)\n",
    "doc = nlp(sentences_new)"
   ]
  },
  {
   "cell_type": "code",
   "execution_count": 15,
   "metadata": {},
   "outputs": [
    {
     "name": "stdout",
     "output_type": "stream",
     "text": [
      "Please Please please INTJ\n",
      "see see see VERB\n",
      "the the the DET\n",
      "attachments attachments attachment NOUN\n",
      "for for for ADP\n",
      "reference reference reference NOUN\n",
      ". . . PUNCT\n",
      "I I -PRON- PRON\n",
      "will will will VERB\n",
      "need need need VERB\n",
      "to to to PART\n",
      "inform inform inform VERB\n",
      "you you -PRON- PRON\n",
      "of of of ADP\n",
      "the the the DET\n",
      "results results result NOUN\n",
      "tomorrow tomorrow tomorrow NOUN\n",
      ". . . PUNCT\n"
     ]
    }
   ],
   "source": [
    "for token in doc:\n",
    "    print(token, token.text, token.lemma_, token.pos_)"
   ]
  },
  {
   "cell_type": "code",
   "execution_count": 7,
   "metadata": {},
   "outputs": [
    {
     "name": "stdout",
     "output_type": "stream",
     "text": [
      "Please please 99974891130002844 INTJ Please\n",
      "see see 11925638236994514241 VERB see\n",
      "the the 7425985699627899538 DET the\n",
      "attachment(s attachment(s 2275962095894565074 NOUN attachment(s\n",
      ") ) 3842344029291005339 PUNCT )\n",
      "for for 16037325823156266367 ADP for\n",
      "reference reference 1711148345104991084 NOUN reference\n",
      ". . 12646065887601541794 PUNCT .\n",
      "I -PRON- 561228191312463089 PRON I\n",
      "will will 18307573501153647118 VERB will\n",
      "need need 478886015463313967 VERB need\n",
      "to to 3791531372978436496 PART to\n",
      "inform inform 4201870561030741218 VERB inform\n",
      "you -PRON- 561228191312463089 PRON you\n",
      "of of 886050111519832510 ADP of\n",
      "the the 7425985699627899538 DET the\n",
      "results result 16479863421078305451 NOUN results\n",
      "tomorrow tomorrow 3573583789758258062 NOUN tomorrow\n",
      ". . 12646065887601541794 PUNCT .\n"
     ]
    }
   ],
   "source": [
    "for token in doc:\n",
    "    #if token.lemma_ == 'attachment(s':\n",
    "    #    token.text = 'attachments'\n",
    "    print(token, token.lemma_, token.lemma, token.pos_, token.text)"
   ]
  },
  {
   "cell_type": "code",
   "execution_count": null,
   "metadata": {},
   "outputs": [],
   "source": [
    "doc.user_data[(2, 'user_id')] = u'e7f67231'\n",
    "\n",
    "for token in doc:\n",
    "    print(token.text, get_user_id(token))"
   ]
  }
 ],
 "metadata": {
  "kernelspec": {
   "display_name": "Python 3",
   "language": "python",
   "name": "python3"
  },
  "language_info": {
   "codemirror_mode": {
    "name": "ipython",
    "version": 3
   },
   "file_extension": ".py",
   "mimetype": "text/x-python",
   "name": "python",
   "nbconvert_exporter": "python",
   "pygments_lexer": "ipython3",
   "version": "3.5.3"
  }
 },
 "nbformat": 4,
 "nbformat_minor": 2
}
