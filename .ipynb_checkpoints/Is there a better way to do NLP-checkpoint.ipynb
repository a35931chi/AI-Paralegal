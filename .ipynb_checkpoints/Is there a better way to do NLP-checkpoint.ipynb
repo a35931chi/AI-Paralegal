{
 "cells": [
  {
   "cell_type": "markdown",
   "metadata": {},
   "source": [
    "## Notebook Goal:  \n",
    "Using existing NLP and LDA methodologies to perform topic modeling on docket texts. Three hyperparameters to consider:\n",
    "1. to remove organization or not in docket texts, so organizations themselves won't become topics.\n",
    "2. to remove names or not in docket texts, so names themselves won't become topics.\n",
    "3. variations in topic numbers: [2, 3, 5, 10]\n",
    "\n",
    "Will then perform visualizations and model summary output on every permutation/iteration."
   ]
  },
  {
   "cell_type": "code",
   "execution_count": 1,
   "metadata": {},
   "outputs": [],
   "source": [
    "import nltk\n",
    "from nltk.tag.stanford import StanfordNERTagger\n",
    "from nltk.stem import WordNetLemmatizer\n",
    "from nltk.corpus import wordnet, stopwords\n",
    "from nltk import pos_tag, ne_chunk\n",
    "from nltk.tokenize import word_tokenize\n",
    "from nltk.chunk import conlltags2tree, tree2conlltags\n",
    "\n",
    "sw = stopwords.words(\"english\")\n",
    "\n",
    "path_to_model = r'C:\\Users\\inves\\AppData\\Local\\Programs\\Python\\Python35\\Lib\\site-packages\\nltk\\stanford-ner-2018-02-27\\classifiers\\english.all.3class.distsim.crf.ser.gz'\n",
    "path_to_jar = r'C:\\Users\\inves\\AppData\\Local\\Programs\\Python\\Python35\\Lib\\site-packages\\nltk\\stanford-ner-2018-02-27\\stanford-ner.jar'\n",
    "tagger = StanfordNERTagger(path_to_model, path_to_jar = path_to_jar)"
   ]
  },
  {
   "cell_type": "code",
   "execution_count": 2,
   "metadata": {},
   "outputs": [
    {
     "name": "stderr",
     "output_type": "stream",
     "text": [
      "c:\\users\\inves\\appdata\\local\\programs\\python\\python35\\lib\\site-packages\\gensim\\utils.py:1197: UserWarning: detected Windows; aliasing chunkize to chunkize_serial\n",
      "  warnings.warn(\"detected Windows; aliasing chunkize to chunkize_serial\")\n"
     ]
    }
   ],
   "source": [
    "from gensim.models.word2vec import LineSentence\n",
    "from gensim.models import Phrases\n",
    "from gensim.corpora import Dictionary, MmCorpus\n",
    "from gensim.models.ldamulticore import LdaMulticore\n",
    "\n",
    "#visualization libraries\n",
    "import pyLDAvis\n",
    "import pyLDAvis.gensim"
   ]
  },
  {
   "cell_type": "code",
   "execution_count": 3,
   "metadata": {},
   "outputs": [],
   "source": [
    "import os\n",
    "import pandas as pd\n",
    "import numpy as np\n",
    "import codecs\n",
    "import itertools as it\n",
    "from bs4 import BeautifulSoup\n",
    "import warnings\n",
    "import pickle\n",
    "from collections import Counter\n",
    "import re\n",
    "import datetime\n",
    "import string\n",
    "import time\n",
    "\n",
    "java_path = 'C:/Program Files/Java/jdk-10.0.1/bin/java.exe'\n",
    "os.environ['JAVAHOME'] = java_path"
   ]
  },
  {
   "cell_type": "code",
   "execution_count": 4,
   "metadata": {},
   "outputs": [
    {
     "name": "stdout",
     "output_type": "stream",
     "text": [
      "[nltk_data] Error loading words: <urlopen error [Errno 11001]\n",
      "[nltk_data]     getaddrinfo failed>\n",
      "[nltk_data] Error loading averaged_perceptron_tagger: <urlopen error\n",
      "[nltk_data]     [Errno 11001] getaddrinfo failed>\n",
      "[nltk_data] Error loading maxent_ne_chunker: <urlopen error [Errno\n",
      "[nltk_data]     11001] getaddrinfo failed>\n"
     ]
    },
    {
     "data": {
      "text/plain": [
       "False"
      ]
     },
     "execution_count": 4,
     "metadata": {},
     "output_type": "execute_result"
    }
   ],
   "source": [
    "nltk.download('words')\n",
    "nltk.download('averaged_perceptron_tagger')\n",
    "nltk.download('maxent_ne_chunker')"
   ]
  },
  {
   "cell_type": "code",
   "execution_count": 5,
   "metadata": {},
   "outputs": [],
   "source": [
    "filename = 'docket_texts/train/DT/basic_df.pickle'"
   ]
  },
  {
   "cell_type": "code",
   "execution_count": 6,
   "metadata": {},
   "outputs": [],
   "source": [
    "#to load\n",
    "with open(filename, 'rb') as handle:\n",
    "    NER_df = pickle.load(handle)"
   ]
  },
  {
   "cell_type": "code",
   "execution_count": 7,
   "metadata": {},
   "outputs": [],
   "source": [
    "new_df = NER_df.copy()"
   ]
  },
  {
   "cell_type": "code",
   "execution_count": 81,
   "metadata": {},
   "outputs": [],
   "source": [
    "docket_original = list(new_df['Original Docket Text'])"
   ]
  },
  {
   "cell_type": "markdown",
   "metadata": {},
   "source": [
    "### Actually we can do some deduping... but can wait as well"
   ]
  },
  {
   "cell_type": "code",
   "execution_count": 9,
   "metadata": {},
   "outputs": [
    {
     "data": {
      "text/plain": [
       "3203"
      ]
     },
     "execution_count": 9,
     "metadata": {},
     "output_type": "execute_result"
    }
   ],
   "source": [
    "len(set(docket_original))"
   ]
  },
  {
   "cell_type": "code",
   "execution_count": 11,
   "metadata": {},
   "outputs": [
    {
     "data": {
      "text/plain": [
       "False"
      ]
     },
     "execution_count": 11,
     "metadata": {},
     "output_type": "execute_result"
    }
   ],
   "source": [
    "def valid_date(datestring):\n",
    "    try:\n",
    "        mat = re.match('(\\d{1,2})[/.-](\\d{2})[/.-](\\d{4})$', datestring)\n",
    "        if mat is not None:\n",
    "            datetime.datetime(*(map(int, mat.groups()[-1::-1])))\n",
    "            return True\n",
    "    except ValueError:\n",
    "        pass\n",
    "    return False\n",
    "    \n",
    "valid_date('003/11/2016')"
   ]
  },
  {
   "cell_type": "markdown",
   "metadata": {},
   "source": [
    "### 1. Normalize"
   ]
  },
  {
   "cell_type": "code",
   "execution_count": 78,
   "metadata": {},
   "outputs": [
    {
     "name": "stdout",
     "output_type": "stream",
     "text": [
      "COMPLAINT against Cardiogenics Holdings, Inc. filing fee $ 400, receipt number 0207-8445206 Was the Disclosure Statement on Civil Cover Sheet completed -YES,, filed by LG Capital Funding, LLC. (Steinmetz, Michael) (Additional attachment(s) added on 3/11/2016: # 1 Civil Cover Sheet, # 2 Proposed Summons) (Bowens, Priscilla). (Entered: 03/10/2016) \n",
      "\n",
      "complaint against cardiogenics holdings inc filing fee receipt number was the disclosure statement on civil cover sheet completed yes filed by lg capital funding llc steinmetz michael additional attachment s added on date civil cover sheet proposed summons bowens priscilla entered date \n"
     ]
    }
   ],
   "source": [
    "url_regex1 = r\"\"\"(?i)\\b((?:https?:(?:/{1,3}|[a-z0-9%])|[a-z0-9.\\-]+[.](?:com|net|org|edu|gov|mil|aero|asia|biz|cat|coop|info|int|jobs|mobi|museum|name|post|pro|tel|travel|xxx|ac|ad|ae|af|ag|ai|al|am|an|ao|aq|ar|as|at|au|aw|ax|az|ba|bb|bd|be|bf|bg|bh|bi|bj|bm|bn|bo|br|bs|bt|bv|bw|by|bz|ca|cc|cd|cf|cg|ch|ci|ck|cl|cm|cn|co|cr|cs|cu|cv|cx|cy|cz|dd|de|dj|dk|dm|do|dz|ec|ee|eg|eh|er|es|et|eu|fi|fj|fk|fm|fo|fr|ga|gb|gd|ge|gf|gg|gh|gi|gl|gm|gn|gp|gq|gr|gs|gt|gu|gw|gy|hk|hm|hn|hr|ht|hu|id|ie|il|im|in|io|iq|ir|is|it|je|jm|jo|jp|ke|kg|kh|ki|km|kn|kp|kr|kw|ky|kz|la|lb|lc|li|lk|lr|ls|lt|lu|lv|ly|ma|mc|md|me|mg|mh|mk|ml|mm|mn|mo|mp|mq|mr|ms|mt|mu|mv|mw|mx|my|mz|na|nc|ne|nf|ng|ni|nl|no|np|nr|nu|nz|om|pa|pe|pf|pg|ph|pk|pl|pm|pn|pr|ps|pt|pw|py|qa|re|ro|rs|ru|rw|sa|sb|sc|sd|se|sg|sh|si|sj|Ja|sk|sl|sm|sn|so|sr|ss|st|su|sv|sx|sy|sz|tc|td|tf|tg|th|tj|tk|tl|tm|tn|to|tp|tr|tt|tv|tw|tz|ua|ug|uk|us|uy|uz|va|vc|ve|vg|vi|vn|vu|wf|ws|ye|yt|yu|za|zm|zw)/)(?:[^\\s()<>{}\\[\\]]+|\\([^\\s()]*?\\([^\\s()]+\\)[^\\s()]*?\\)|\\([^\\s]+?\\))+(?:\\([^\\s()]*?\\([^\\s()]+\\)[^\\s()]*?\\)|\\([^\\s]+?\\)|[^\\s`!()\\[\\]{};:'\".,<>?«»“”‘’])|(?:(?<!@)[a-z0-9]+(?:[.\\-][a-z0-9]+)*[.](?:com|net|org|edu|gov|mil|aero|asia|biz|cat|coop|info|int|jobs|mobi|museum|name|post|pro|tel|travel|xxx|ac|ad|ae|af|ag|ai|al|am|an|ao|aq|ar|as|at|au|aw|ax|az|ba|bb|bd|be|bf|bg|bh|bi|bj|bm|bn|bo|br|bs|bt|bv|bw|by|bz|ca|cc|cd|cf|cg|ch|ci|ck|cl|cm|cn|co|cr|cs|cu|cv|cx|cy|cz|dd|de|dj|dk|dm|do|dz|ec|ee|eg|eh|er|es|et|eu|fi|fj|fk|fm|fo|fr|ga|gb|gd|ge|gf|gg|gh|gi|gl|gm|gn|gp|gq|gr|gs|gt|gu|gw|gy|hk|hm|hn|hr|ht|hu|id|ie|il|im|in|io|iq|ir|is|it|je|jm|jo|jp|ke|kg|kh|ki|km|kn|kp|kr|kw|ky|kz|la|lb|lc|li|lk|lr|ls|lt|lu|lv|ly|ma|mc|md|me|mg|mh|mk|ml|mm|mn|mo|mp|mq|mr|ms|mt|mu|mv|mw|mx|my|mz|na|nc|ne|nf|ng|ni|nl|no|np|nr|nu|nz|om|pa|pe|pf|pg|ph|pk|pl|pm|pn|pr|ps|pt|pw|py|qa|re|ro|rs|ru|rw|sa|sb|sc|sd|se|sg|sh|si|sj|Ja|sk|sl|sm|sn|so|sr|ss|st|su|sv|sx|sy|sz|tc|td|tf|tg|th|tj|tk|tl|tm|tn|to|tp|tr|tt|tv|tw|tz|ua|ug|uk|us|uy|uz|va|vc|ve|vg|vi|vn|vu|wf|ws|ye|yt|yu|za|zm|zw)\\b/?(?!@)))\"\"\"\n",
    "url_regex2 = 'http[s]?://(?:[a-zA-Z]|[0-9]|[$-_@.&+]|[!*\\(\\),]|(?:%[0-9a-fA-F][0-9a-fA-F]))+'\n",
    "date_regex = '(\\d{1,2}[\\/ ](\\d{2}|January|Jan|February|Feb|March|Mar|April|Apr|May|May|June|Jun|July|Jul|August|Aug|September|Sep|October|Oct|November|Nov|December|Dec)[\\/ ]\\d{2,4})'\n",
    "punct_regex = r\"[^a-zA-Z0-9]\"\n",
    "num_regex = \"\\d+\"\n",
    "extraspace_regex = \" +\"\n",
    "\n",
    "docket_normalized = [text.lower() for text in docket_original]\n",
    "docket_nourl = [re.sub(url_regex2, \"URL\", text) for text in docket_normalized]\n",
    "docket_nourl = [re.sub(url_regex1, \"URL\", text) for text in docket_nourl]\n",
    "docket_nodate = [re.sub(date_regex, \"DATE\", text) for text in docket_nourl]\n",
    "docket_nopunct = [re.sub(punct_regex, \" \", text) for text in docket_nodate]\n",
    "docket_nonum = [re.sub(num_regex, \" \", text) for text in docket_nopunct]\n",
    "docket_noextraspace = [re.sub(extraspace_regex, \" \", text) for text in docket_nonum]"
   ]
  },
  {
   "cell_type": "code",
   "execution_count": 13,
   "metadata": {},
   "outputs": [
    {
     "name": "stdout",
     "output_type": "stream",
     "text": [
      "COMPLAINT against Cardiogenics Holdings, Inc. filing fee $ 400, receipt number 0207-8445206 Was the Disclosure Statement on Civil Cover Sheet completed -YES,, filed by LG Capital Funding, LLC. (Steinmetz, Michael) (Additional attachment(s) added on 3/11/2016: # 1 Civil Cover Sheet, # 2 Proposed Summons) (Bowens, Priscilla). (Entered: 03/10/2016) \n",
      "\n",
      "complaint against cardiogenics holdings inc filing fee receipt number was the disclosure statement on civil cover sheet completed yes filed by lg capital funding llc steinmetz michael additional attachment s added on date civil cover sheet proposed summons bowens priscilla entered date \n"
     ]
    }
   ],
   "source": [
    "print(docket_original[0], '\\n')\n",
    "\n",
    "print(docket_noextraspace[0])"
   ]
  },
  {
   "cell_type": "markdown",
   "metadata": {},
   "source": [
    "### 2. Split and tokenize"
   ]
  },
  {
   "cell_type": "code",
   "execution_count": 14,
   "metadata": {},
   "outputs": [
    {
     "data": {
      "text/plain": [
       "['complaint',\n",
       " 'against',\n",
       " 'cardiogenics',\n",
       " 'holdings',\n",
       " 'inc',\n",
       " 'filing',\n",
       " 'fee',\n",
       " 'receipt',\n",
       " 'number',\n",
       " 'was',\n",
       " 'the',\n",
       " 'disclosure',\n",
       " 'statement',\n",
       " 'on',\n",
       " 'civil',\n",
       " 'cover',\n",
       " 'sheet',\n",
       " 'completed',\n",
       " 'yes',\n",
       " 'filed',\n",
       " 'by',\n",
       " 'lg',\n",
       " 'capital',\n",
       " 'funding',\n",
       " 'llc',\n",
       " 'steinmetz',\n",
       " 'michael',\n",
       " 'additional',\n",
       " 'attachment',\n",
       " 's',\n",
       " 'added',\n",
       " 'on',\n",
       " 'date',\n",
       " 'civil',\n",
       " 'cover',\n",
       " 'sheet',\n",
       " 'proposed',\n",
       " 'summons',\n",
       " 'bowens',\n",
       " 'priscilla',\n",
       " 'entered',\n",
       " 'date']"
      ]
     },
     "execution_count": 14,
     "metadata": {},
     "output_type": "execute_result"
    }
   ],
   "source": [
    "docket_tokenized = [word_tokenize(text) for text in docket_noextraspace]\n",
    "docket_tokenized[0]"
   ]
  },
  {
   "cell_type": "markdown",
   "metadata": {},
   "source": [
    "### 3. Remove Stop words"
   ]
  },
  {
   "cell_type": "code",
   "execution_count": 79,
   "metadata": {},
   "outputs": [
    {
     "name": "stdout",
     "output_type": "stream",
     "text": [
      "['complaint', 'cardiogenics', 'holdings', 'inc', 'filing', 'fee', 'receipt', 'number', 'disclosure', 'statement', 'civil', 'cover', 'sheet', 'completed', 'yes', 'filed', 'lg', 'capital', 'funding', 'llc', 'steinmetz', 'michael', 'additional', 'attachment', 'added', 'date', 'civil', 'cover', 'sheet', 'proposed', 'summons', 'bowens', 'priscilla', 'entered', 'date']\n"
     ]
    }
   ],
   "source": [
    "docket_nostop = [[w for w in words if w not in stopwords.words(\"english\")] for words in docket_tokenized]\n",
    "print(docket_nostop[0])"
   ]
  },
  {
   "cell_type": "markdown",
   "metadata": {},
   "source": [
    "### 4. Lemmatization"
   ]
  },
  {
   "cell_type": "code",
   "execution_count": 80,
   "metadata": {},
   "outputs": [
    {
     "name": "stdout",
     "output_type": "stream",
     "text": [
      "['complaint', 'cardiogenics', 'hold', 'inc', 'file', 'fee', 'receipt', 'number', 'disclosure', 'statement', 'civil', 'cover', 'sheet', 'complete', 'yes', 'file', 'lg', 'capital', 'fund', 'llc', 'steinmetz', 'michael', 'additional', 'attachment', 'add', 'date', 'civil', 'cover', 'sheet', 'propose', 'summon', 'bowens', 'priscilla', 'enter', 'date']\n"
     ]
    }
   ],
   "source": [
    "docket_lemmed = [[WordNetLemmatizer().lemmatize(w, pos='v') for w in words] for words in docket_nostop]\n",
    "print(docket_lemmed[0])"
   ]
  },
  {
   "cell_type": "markdown",
   "metadata": {},
   "source": [
    "### 5. Phrase Modeling"
   ]
  },
  {
   "cell_type": "code",
   "execution_count": 81,
   "metadata": {},
   "outputs": [
    {
     "data": {
      "text/plain": [
       "['complaint cardiogenics hold inc file fee receipt number disclosure statement civil cover sheet complete yes file lg capital fund llc steinmetz michael additional attachment add date civil cover sheet propose summon bowens priscilla enter date',\n",
       " 'case assign judge ann donnelly magistrate judge vera scanlon please download review individual practice assign judge locate website attorneys responsible provide courtesy copy judge individual practice require bowens priscilla enter date',\n",
       " 'summon issue cardiogenics hold inc bowens priscilla enter date',\n",
       " 'notice email attorney regard miss second page civil cover sheet bowens priscilla enter date',\n",
       " 'accordance rule federal rule civil procedure local rule party notify party consent unite state magistrate judge court available conduct proceed civil action include jury nonjury trial order entry final judgment attach notice blank copy consent form fill sign file electronically party wish consent form may also access follow link url may withhold consent without adverse substantive consequences return file consent unless party sign consent bowens priscilla enter date']"
      ]
     },
     "execution_count": 81,
     "metadata": {},
     "output_type": "execute_result"
    }
   ],
   "source": [
    "docket_phrase1 = [' '.join(text) for text in docket_lemmed]\n",
    "docket_phrase1[:5]"
   ]
  },
  {
   "cell_type": "code",
   "execution_count": 82,
   "metadata": {},
   "outputs": [],
   "source": [
    "unigram_sentences_filepath = 'docket_texts/train/DT/unigram_nltk_newsop.txt'"
   ]
  },
  {
   "cell_type": "code",
   "execution_count": 83,
   "metadata": {},
   "outputs": [
    {
     "name": "stdout",
     "output_type": "stream",
     "text": [
      "Wall time: 15.4 ms\n"
     ]
    }
   ],
   "source": [
    "%%time\n",
    "# turn the lemmatized corpus into unigram sentences\n",
    "with codecs.open(unigram_sentences_filepath, 'w', encoding = 'utf_8') as f:\n",
    "    for sentence in docket_phrase1:\n",
    "        f.write(sentence + '\\n')"
   ]
  },
  {
   "cell_type": "code",
   "execution_count": 84,
   "metadata": {},
   "outputs": [],
   "source": [
    "unigram_sentences = LineSentence(unigram_sentences_filepath)"
   ]
  },
  {
   "cell_type": "code",
   "execution_count": 85,
   "metadata": {},
   "outputs": [],
   "source": [
    "bigram_model_filepath = 'docket_texts/train/DT/bigram_model_newsop' "
   ]
  },
  {
   "cell_type": "code",
   "execution_count": 86,
   "metadata": {},
   "outputs": [
    {
     "name": "stdout",
     "output_type": "stream",
     "text": [
      "Wall time: 250 ms\n"
     ]
    }
   ],
   "source": [
    "%%time\n",
    "\n",
    "# store our bigram model\n",
    "bigram_model = Phrases(unigram_sentences)\n",
    "bigram_model.save(bigram_model_filepath)\n",
    "    \n",
    "# load the finished model from disk if we don't want to run this again\n",
    "#bigram_model = Phrases.load(bigram_model_filepath)"
   ]
  },
  {
   "cell_type": "code",
   "execution_count": 87,
   "metadata": {},
   "outputs": [],
   "source": [
    "bigram_sentences_filepath = 'docket_texts/train/DT/bigram_sentences_newsop.txt'"
   ]
  },
  {
   "cell_type": "code",
   "execution_count": 88,
   "metadata": {},
   "outputs": [
    {
     "name": "stderr",
     "output_type": "stream",
     "text": [
      "c:\\users\\inves\\appdata\\local\\programs\\python\\python35\\lib\\site-packages\\gensim\\models\\phrases.py:494: UserWarning: For a faster implementation, use the gensim.models.phrases.Phraser class\n",
      "  warnings.warn(\"For a faster implementation, use the gensim.models.phrases.Phraser class\")\n"
     ]
    },
    {
     "name": "stdout",
     "output_type": "stream",
     "text": [
      "Wall time: 484 ms\n"
     ]
    }
   ],
   "source": [
    "%%time\n",
    "\n",
    "# apply the bigram model, and write it to file\n",
    "with codecs.open(bigram_sentences_filepath, 'w', encoding = 'utf_8') as f:\n",
    "    for unigram_sentence in unigram_sentences:\n",
    "        bigram_sentence = ' '.join(bigram_model[unigram_sentence])\n",
    "        f.write(bigram_sentence + '\\n')"
   ]
  },
  {
   "cell_type": "code",
   "execution_count": 89,
   "metadata": {},
   "outputs": [],
   "source": [
    "bigram_sentences = LineSentence(bigram_sentences_filepath)"
   ]
  },
  {
   "cell_type": "code",
   "execution_count": 90,
   "metadata": {},
   "outputs": [
    {
     "name": "stdout",
     "output_type": "stream",
     "text": [
      "\n",
      "Unigram sentence:\n",
      "complaint cardiogenics hold inc file fee receipt number disclosure statement civil cover sheet complete yes file lg capital fund llc steinmetz michael additional attachment add date civil cover sheet propose summon bowens priscilla enter date\n",
      "case assign judge ann donnelly magistrate judge vera scanlon please download review individual practice assign judge locate website attorneys responsible provide courtesy copy judge individual practice require bowens priscilla enter date\n",
      "summon issue cardiogenics hold inc bowens priscilla enter date\n",
      "notice email attorney regard miss second page civil cover sheet bowens priscilla enter date\n",
      "accordance rule federal rule civil procedure local rule party notify party consent unite state magistrate judge court available conduct proceed civil action include jury nonjury trial order entry final judgment attach notice blank copy consent form fill sign file electronically party wish consent form may also access follow link url may withhold consent without adverse substantive consequences return file consent unless party sign consent bowens priscilla enter date\n",
      "attorney case open file check quality control see attachment corrections make bowens priscilla enter date\n",
      "notice appearance kevin kehrli behalf lg capital fund llc aty notice kehrli kevin enter date\n",
      "exhibit backend note lg capital fund llc relate document complaint file lg capital fund llc kehrli kevin enter date\n",
      "exhibit b ta letter lg capital fund llc relate document complaint file lg capital fund llc kehrli kevin enter date\n",
      "exhibit c notice conversion lg capital fund llc relate document complaint file lg capital fund llc kehrli kevin enter date\n",
      "\n",
      "Bigram sentence:\n",
      "complaint cardiogenics_hold inc file fee_receipt number disclosure_statement civil_cover sheet_complete yes file lg_capital fund_llc steinmetz michael additional_attachment add date civil_cover sheet propose summon bowens_priscilla enter date\n",
      "case assign judge ann_donnelly magistrate_judge vera_scanlon please_download review_individual practice_assign judge locate_website attorneys_responsible provide_courtesy copy judge individual_practice require bowens_priscilla enter date\n",
      "summon_issue cardiogenics_hold inc bowens_priscilla enter date\n",
      "notice email attorney regard miss second page civil_cover sheet bowens_priscilla enter date\n",
      "accordance rule_federal rule_civil procedure_local rule party notify party consent unite_state magistrate_judge court available_conduct proceed civil action include jury_nonjury trial order entry final judgment attach notice blank_copy consent_form fill sign file electronically party_wish consent_form may also_access follow_link url may_withhold consent without_adverse substantive_consequences return file consent_unless party sign consent bowens_priscilla enter date\n",
      "attorney case_open file check_quality control_see attachment_corrections make bowens_priscilla enter date\n",
      "notice_appearance kevin_kehrli behalf lg_capital fund_llc aty_notice kehrli_kevin enter date\n",
      "exhibit backend note lg_capital fund_llc relate document complaint file lg_capital fund_llc kehrli_kevin enter date\n",
      "exhibit b ta letter lg_capital fund_llc relate document complaint file lg_capital fund_llc kehrli_kevin enter date\n",
      "exhibit c notice_conversion lg_capital fund_llc relate document complaint file lg_capital fund_llc kehrli_kevin enter date\n"
     ]
    }
   ],
   "source": [
    "print('\\nUnigram sentence:')\n",
    "for unigram_sentence in it.islice(unigram_sentences, 0, 10):\n",
    "    print(' '.join(unigram_sentence))\n",
    "print('\\nBigram sentence:')\n",
    "for bigram_sentence in it.islice(bigram_sentences, 0, 10):\n",
    "    print(' '.join(bigram_sentence))"
   ]
  },
  {
   "cell_type": "code",
   "execution_count": 91,
   "metadata": {},
   "outputs": [],
   "source": [
    "trigram_model_filepath = 'docket_texts/train/DT/trigram_model_newsop'"
   ]
  },
  {
   "cell_type": "code",
   "execution_count": 92,
   "metadata": {},
   "outputs": [
    {
     "name": "stdout",
     "output_type": "stream",
     "text": [
      "Wall time: 250 ms\n"
     ]
    }
   ],
   "source": [
    "%%time\n",
    "\n",
    "# again, using Phrases to attach more words to phrases already formed\n",
    "trigram_model = Phrases(bigram_sentences)\n",
    "trigram_model.save(trigram_model_filepath)\n",
    "\n",
    "# load the finished model from disk\n",
    "#trigram_model = Phrases.load(trigram_model_filepath)"
   ]
  },
  {
   "cell_type": "code",
   "execution_count": 93,
   "metadata": {},
   "outputs": [],
   "source": [
    "trigram_sentences_filepath = 'docket_texts/train/DT/trigram_sentences_newsop.txt'"
   ]
  },
  {
   "cell_type": "code",
   "execution_count": 94,
   "metadata": {},
   "outputs": [
    {
     "name": "stderr",
     "output_type": "stream",
     "text": [
      "c:\\users\\inves\\appdata\\local\\programs\\python\\python35\\lib\\site-packages\\gensim\\models\\phrases.py:494: UserWarning: For a faster implementation, use the gensim.models.phrases.Phraser class\n",
      "  warnings.warn(\"For a faster implementation, use the gensim.models.phrases.Phraser class\")\n"
     ]
    },
    {
     "name": "stdout",
     "output_type": "stream",
     "text": [
      "Wall time: 437 ms\n"
     ]
    }
   ],
   "source": [
    "%%time\n",
    "\n",
    "with codecs.open(trigram_sentences_filepath, 'w', encoding = 'utf_8') as f:\n",
    "    for bigram_sentence in bigram_sentences:\n",
    "        #print('Bi', bigram_sentence)\n",
    "        trigram_sentence = ' '.join(trigram_model[bigram_sentence])\n",
    "        #print('Tri', trigram_sentence)\n",
    "        f.write(trigram_sentence + '\\n')"
   ]
  },
  {
   "cell_type": "code",
   "execution_count": 95,
   "metadata": {},
   "outputs": [],
   "source": [
    "trigram_sentences = LineSentence(trigram_sentences_filepath)"
   ]
  },
  {
   "cell_type": "code",
   "execution_count": 96,
   "metadata": {},
   "outputs": [
    {
     "name": "stdout",
     "output_type": "stream",
     "text": [
      "Original text:\n",
      "['complaint cardiogenics hold inc file fee receipt number disclosure statement civil cover sheet complete yes file lg capital fund llc steinmetz michael additional attachment add date civil cover sheet propose summon bowens priscilla enter date', 'case assign judge ann donnelly magistrate judge vera scanlon please download review individual practice assign judge locate website attorneys responsible provide courtesy copy judge individual practice require bowens priscilla enter date', 'summon issue cardiogenics hold inc bowens priscilla enter date', 'notice email attorney regard miss second page civil cover sheet bowens priscilla enter date', 'accordance rule federal rule civil procedure local rule party notify party consent unite state magistrate judge court available conduct proceed civil action include jury nonjury trial order entry final judgment attach notice blank copy consent form fill sign file electronically party wish consent form may also access follow link url may withhold consent without adverse substantive consequences return file consent unless party sign consent bowens priscilla enter date'] \n",
      "\n",
      "\n",
      "UNIGRAM Sentence:\n",
      "complaint cardiogenics hold inc file fee receipt number disclosure statement civil cover sheet complete yes file lg capital fund llc steinmetz michael additional attachment add date civil cover sheet propose summon bowens priscilla enter date\n",
      "case assign judge ann donnelly magistrate judge vera scanlon please download review individual practice assign judge locate website attorneys responsible provide courtesy copy judge individual practice require bowens priscilla enter date\n",
      "summon issue cardiogenics hold inc bowens priscilla enter date\n",
      "notice email attorney regard miss second page civil cover sheet bowens priscilla enter date\n",
      "accordance rule federal rule civil procedure local rule party notify party consent unite state magistrate judge court available conduct proceed civil action include jury nonjury trial order entry final judgment attach notice blank copy consent form fill sign file electronically party wish consent form may also access follow link url may withhold consent without adverse substantive consequences return file consent unless party sign consent bowens priscilla enter date\n",
      "\n",
      "BIGRAM Sentence:\n",
      "complaint cardiogenics_hold inc file fee_receipt number disclosure_statement civil_cover sheet_complete yes file lg_capital fund_llc steinmetz michael additional_attachment add date civil_cover sheet propose summon bowens_priscilla enter date\n",
      "case assign judge ann_donnelly magistrate_judge vera_scanlon please_download review_individual practice_assign judge locate_website attorneys_responsible provide_courtesy copy judge individual_practice require bowens_priscilla enter date\n",
      "summon_issue cardiogenics_hold inc bowens_priscilla enter date\n",
      "notice email attorney regard miss second page civil_cover sheet bowens_priscilla enter date\n",
      "accordance rule_federal rule_civil procedure_local rule party notify party consent unite_state magistrate_judge court available_conduct proceed civil action include jury_nonjury trial order entry final judgment attach notice blank_copy consent_form fill sign file electronically party_wish consent_form may also_access follow_link url may_withhold consent without_adverse substantive_consequences return file consent_unless party sign consent bowens_priscilla enter date\n",
      "\n",
      "TRIGRAM Sentence:\n",
      "complaint cardiogenics_hold_inc file fee_receipt_number disclosure_statement_civil_cover sheet_complete_yes file lg_capital_fund_llc steinmetz michael additional_attachment_add date civil_cover_sheet propose summon bowens_priscilla enter date\n",
      "case_assign judge_ann_donnelly magistrate_judge_vera_scanlon please_download_review_individual practice_assign_judge locate_website_attorneys_responsible provide_courtesy_copy judge_individual_practice require bowens_priscilla enter date\n",
      "summon_issue cardiogenics_hold_inc bowens_priscilla enter date\n",
      "notice email attorney regard miss second page civil_cover_sheet bowens_priscilla enter date\n",
      "accordance_rule_federal rule_civil_procedure_local rule party_notify party consent_unite_state magistrate_judge court available_conduct_proceed civil_action include_jury_nonjury trial order entry_final judgment attach notice blank_copy_consent_form fill_sign file electronically_party_wish consent_form_may also_access_follow_link url_may_withhold consent_without_adverse substantive_consequences_return file consent_unless party sign consent bowens_priscilla enter date\n"
     ]
    }
   ],
   "source": [
    "start = 0\n",
    "finish = 5\n",
    "print('Original text:')\n",
    "print(docket_phrase1[start:finish], '\\n')\n",
    "\n",
    "print('\\nUNIGRAM Sentence:')\n",
    "for unigram_sentence in it.islice(unigram_sentences, start, finish):\n",
    "    print(' '.join(unigram_sentence))\n",
    "print('\\nBIGRAM Sentence:')\n",
    "for bigram_sentence in it.islice(bigram_sentences, start, finish):\n",
    "    print(' '.join(bigram_sentence))\n",
    "print('\\nTRIGRAM Sentence:')\n",
    "for trigram_sentence in it.islice(trigram_sentences, start, finish):\n",
    "    print(' '.join(trigram_sentence))"
   ]
  },
  {
   "cell_type": "code",
   "execution_count": 64,
   "metadata": {},
   "outputs": [],
   "source": [
    "def trigram_transform(texts):\n",
    "    display = False\n",
    "    texts = str(texts)\n",
    "    trigram_output = ''\n",
    "    #print(texts)\n",
    "\n",
    "    remove_trigram = ['calendar_day', 'court_notice_intend', 'minute_entry_proceeding_hold', 'court_reportertranscriber_abovecaptioned_matter',\n",
    "                      'redaction_calendar_day', 'rule_statement', 'obtain_pacer', 'may_obtain_pacer', 'reportertranscriber_abovecaptioned_matter',\n",
    "                      'redact_transcript_deadline', 'send_chamber', \"official_transcript_notice_give\", \"notice_intent_request\", \"proceed_hold\", \n",
    "                      \"fee_receipt_number\", \"civil_procedure\", \"pursuant_frcp\", \"official_transcript_conference\", \n",
    "                      \"purchase_reportertranscriber_deadline_release\", \"et_al\", \"mail_chamber\", \"transcript_restriction\", \"redaction_transcript\", \n",
    "                      \"transcript_view_public_terminal\", \"transcript_make_remotely\", \"associated_et_al\", \"electronically_available_public_without\", \n",
    "                      \"genesys_id\", \"release_transcript_restriction\", \"adar_bay\", \"redaction_request_due\", \"new_york\", \"official_transcript_conference\", \n",
    "                      \"transcript_make_remotely\", \"transcript_proceeding_conference_hold\", \"redaction_transcript\",\n",
    "                      'affidavit_jr._c.p.a', 'corporate_parent', 'certain_underwriter', 'federal_rule_civil_procedure', 'redaction_request', \n",
    "                      'official_transcript', 'rule_disclosure', 'rule_corporate_disclosure', 'place_vault', 'public_without_redaction_calendar', \n",
    "                      'purchase_deadline_release_transcript', 'transcript_proceeding_hold', 'transcript_remotely_electronically_available',\n",
    "                      'minute_entry_hold', 'discovery_hear_hold', 'jury_trial_hold', \"sign_judge\",'place_vault']\n",
    "\n",
    "    if texts == None:\n",
    "        return None\n",
    "    \n",
    "    unigram_review = []\n",
    "    for word in texts.split():\n",
    "        unigram_review.append(word)\n",
    "    if display:\n",
    "        print('Uni: ', unigram_review)\n",
    "    bigram_review = bigram_model[unigram_review]\n",
    "    if display:\n",
    "        print('Bi: ', bigram_review)\n",
    "    trigram_review = trigram_model[bigram_review]\n",
    "    if display:\n",
    "        print('Tri: ', trigram_review)\n",
    "    trigram_review = [phrase for phrase in trigram_review if phrase not in remove_trigram]\n",
    "    if display:\n",
    "        print('Tri removed: ', trigram_review)\n",
    "    trigram_output += ' '.join(trigram_review)\n",
    "    \n",
    "    return trigram_output"
   ]
  },
  {
   "cell_type": "code",
   "execution_count": 97,
   "metadata": {},
   "outputs": [
    {
     "name": "stderr",
     "output_type": "stream",
     "text": [
      "c:\\users\\inves\\appdata\\local\\programs\\python\\python35\\lib\\site-packages\\gensim\\models\\phrases.py:494: UserWarning: For a faster implementation, use the gensim.models.phrases.Phraser class\n",
      "  warnings.warn(\"For a faster implementation, use the gensim.models.phrases.Phraser class\")\n"
     ]
    }
   ],
   "source": [
    "docket_phrase2 = [trigram_transform(text) for text in docket_phrase1]"
   ]
  },
  {
   "cell_type": "code",
   "execution_count": 99,
   "metadata": {},
   "outputs": [
    {
     "name": "stdout",
     "output_type": "stream",
     "text": [
      "['COMPLAINT against Cardiogenics Holdings, Inc. filing fee $ 400, receipt number 0207-8445206 Was the Disclosure Statement on Civil Cover Sheet completed -YES,, filed by LG Capital Funding, LLC. (Steinmetz, Michael) (Additional attachment(s) added on 3/11/2016: # 1 Civil Cover Sheet, # 2 Proposed Summons) (Bowens, Priscilla). (Entered: 03/10/2016)', 'Case assigned to Judge Ann M Donnelly and Magistrate Judge Vera M. Scanlon. Please download and review the Individual Practices of the assigned Judges, located on our website. Attorneys are responsible for providing courtesy copies to judges where their Individual Practices require such. (Bowens, Priscilla) (Entered: 03/11/2016)', 'Summons Issued as to Cardiogenics Holdings, Inc.. (Bowens, Priscilla) (Entered: 03/11/2016)', 'NOTICE - emailed attorney regarding missing second page of the civil cover sheet. (Bowens, Priscilla) (Entered: 03/11/2016)', 'In accordance with Rule 73 of the Federal Rules of Civil Procedure and Local Rule 73.1, the parties are notified that if all parties consent a United States magistrate judge of this court is available to conduct all proceedings in this civil action including a (jury or nonjury) trial and to order the entry of a final judgment. Attached to the Notice is a blank copy of the consent form that should be filled out, signed and filed electronically only if all parties wish to consent. The form may also be accessed at the following link: http://www.uscourts.gov/uscourts/FormsAndFees/Forms/AO085.pdf. You may withhold your consent without adverse substantive consequences. Do NOT return or file the consent unless all parties have signed the consent. (Bowens, Priscilla) (Entered: 03/11/2016)']\n",
      "['complaint cardiogenics_hold_inc file disclosure_statement_civil_cover sheet_complete_yes file lg_capital_fund_llc steinmetz michael additional_attachment_add date civil_cover_sheet propose summon bowens_priscilla enter date', 'case_assign judge_ann_donnelly magistrate_judge_vera_scanlon please_download_review_individual practice_assign_judge locate_website_attorneys_responsible provide_courtesy_copy judge_individual_practice require bowens_priscilla enter date', 'summon_issue cardiogenics_hold_inc bowens_priscilla enter date', 'notice email attorney regard miss second page civil_cover_sheet bowens_priscilla enter date', 'accordance_rule_federal rule_civil_procedure_local rule party_notify party consent_unite_state magistrate_judge court available_conduct_proceed civil_action include_jury_nonjury trial order entry_final judgment attach notice blank_copy_consent_form fill_sign file electronically_party_wish consent_form_may also_access_follow_link url_may_withhold consent_without_adverse substantive_consequences_return file consent_unless party sign consent bowens_priscilla enter date']\n"
     ]
    },
    {
     "data": {
      "text/plain": [
       "3049"
      ]
     },
     "execution_count": 99,
     "metadata": {},
     "output_type": "execute_result"
    }
   ],
   "source": [
    "print(docket_original[:5])\n",
    "print(docket_phrase2[:5])\n",
    "len(set(docket_phrase2))"
   ]
  },
  {
   "cell_type": "markdown",
   "metadata": {},
   "source": [
    "### 6. Use NER (named entity recognition) and GPE (geo-political entity)\n",
    "This did not work as well as I thought. Also, the standford version worked better than the nltk version.\n",
    "Seems like after some text treatments, it's hard for the NER to be identified."
   ]
  },
  {
   "cell_type": "code",
   "execution_count": 106,
   "metadata": {},
   "outputs": [
    {
     "name": "stdout",
     "output_type": "stream",
     "text": [
      "orignal text: \n",
      "[('COMPLAINT', 'NNP', 'B-ORGANIZATION'), ('against', 'IN', 'O'), ('Cardiogenics', 'NNP', 'B-ORGANIZATION'), ('Holdings', 'NNPS', 'I-ORGANIZATION'), (',', ',', 'O'), ('Inc.', 'NNP', 'O'), ('filing', 'VBG', 'O'), ('fee', 'JJ', 'O'), ('$', '$', 'O'), ('400', 'CD', 'O'), (',', ',', 'O'), ('receipt', 'JJ', 'O'), ('number', 'NN', 'O'), ('0207-8445206', 'NN', 'O'), ('Was', 'NNP', 'O'), ('the', 'DT', 'O'), ('Disclosure', 'NNP', 'B-ORGANIZATION'), ('Statement', 'NNP', 'O'), ('on', 'IN', 'O'), ('Civil', 'NNP', 'B-PERSON'), ('Cover', 'NNP', 'I-PERSON'), ('Sheet', 'NNP', 'I-PERSON'), ('completed', 'VBD', 'O'), ('-YES', 'NNP', 'O'), (',', ',', 'O'), (',', ',', 'O'), ('filed', 'VBN', 'O'), ('by', 'IN', 'O'), ('LG', 'NNP', 'B-ORGANIZATION'), ('Capital', 'NNP', 'I-ORGANIZATION'), ('Funding', 'NNP', 'I-ORGANIZATION'), (',', ',', 'O'), ('LLC', 'NNP', 'B-ORGANIZATION'), ('.', '.', 'O'), ('(', '(', 'O'), ('Steinmetz', 'NNP', 'B-PERSON'), (',', ',', 'O'), ('Michael', 'NNP', 'B-GPE'), (')', ')', 'O'), ('(', '(', 'O'), ('Additional', 'JJ', 'B-ORGANIZATION'), ('attachment', 'NN', 'O'), ('(', '(', 'O'), ('s', 'PRP', 'O'), (')', ')', 'O'), ('added', 'VBD', 'O'), ('on', 'IN', 'O'), ('3/11/2016', 'CD', 'O'), (':', ':', 'O'), ('#', '#', 'O'), ('1', 'CD', 'O'), ('Civil', 'NNP', 'O'), ('Cover', 'NNP', 'O'), ('Sheet', 'NNP', 'O'), (',', ',', 'O'), ('#', '#', 'O'), ('2', 'CD', 'O'), ('Proposed', 'VBN', 'O'), ('Summons', 'NNS', 'O'), (')', ')', 'O'), ('(', '(', 'O'), ('Bowens', 'NNP', 'B-GPE'), (',', ',', 'O'), ('Priscilla', 'NNP', 'B-GPE'), (')', ')', 'O'), ('.', '.', 'O'), ('(', '(', 'O'), ('Entered', 'VBD', 'O'), (':', ':', 'O'), ('03/10/2016', 'CD', 'O'), (')', ')', 'O')] \n",
      "\n",
      "normalized: \n",
      "[('complaint', 'NN', 'O'), ('against', 'IN', 'O'), ('cardiogenics', 'NNS', 'O'), ('holdings', 'NNS', 'O'), (',', ',', 'O'), ('inc.', 'JJ', 'O'), ('filing', 'VBG', 'O'), ('fee', 'JJ', 'O'), ('$', '$', 'O'), ('400', 'CD', 'O'), (',', ',', 'O'), ('receipt', 'JJ', 'O'), ('number', 'NN', 'O'), ('0207-8445206', 'NN', 'O'), ('was', 'VBD', 'O'), ('the', 'DT', 'O'), ('disclosure', 'NN', 'O'), ('statement', 'NN', 'O'), ('on', 'IN', 'O'), ('civil', 'JJ', 'O'), ('cover', 'NN', 'O'), ('sheet', 'NN', 'O'), ('completed', 'VBD', 'O'), ('-yes', 'NNP', 'O'), (',', ',', 'O'), (',', ',', 'O'), ('filed', 'VBN', 'O'), ('by', 'IN', 'O'), ('lg', 'JJ', 'O'), ('capital', 'NN', 'O'), ('funding', 'NN', 'O'), (',', ',', 'O'), ('llc', 'NN', 'O'), ('.', '.', 'O'), ('(', '(', 'O'), ('steinmetz', 'JJ', 'O'), (',', ',', 'O'), ('michael', 'NN', 'O'), (')', ')', 'O'), ('(', '(', 'O'), ('additional', 'JJ', 'O'), ('attachment', 'NN', 'O'), ('(', '(', 'O'), ('s', 'PRP', 'O'), (')', ')', 'O'), ('added', 'VBD', 'O'), ('on', 'IN', 'O'), ('3/11/2016', 'CD', 'O'), (':', ':', 'O'), ('#', '#', 'O'), ('1', 'CD', 'O'), ('civil', 'JJ', 'O'), ('cover', 'NN', 'O'), ('sheet', 'NN', 'O'), (',', ',', 'O'), ('#', '#', 'O'), ('2', 'CD', 'O'), ('proposed', 'JJ', 'O'), ('summons', 'NNS', 'O'), (')', ')', 'O'), ('(', '(', 'O'), ('bowens', 'UH', 'O'), (',', ',', 'O'), ('priscilla', 'NN', 'O'), (')', ')', 'O'), ('.', '.', 'O'), ('(', '(', 'O'), ('entered', 'VBN', 'O'), (':', ':', 'O'), ('03/10/2016', 'CD', 'O'), (')', ')', 'O')] \n",
      "\n",
      "no url: \n",
      "[('complaint', 'NN', 'O'), ('against', 'IN', 'O'), ('cardiogenics', 'NNS', 'O'), ('holdings', 'NNS', 'O'), (',', ',', 'O'), ('inc.', 'JJ', 'O'), ('filing', 'VBG', 'O'), ('fee', 'JJ', 'O'), ('$', '$', 'O'), ('400', 'CD', 'O'), (',', ',', 'O'), ('receipt', 'JJ', 'O'), ('number', 'NN', 'O'), ('0207-8445206', 'NN', 'O'), ('was', 'VBD', 'O'), ('the', 'DT', 'O'), ('disclosure', 'NN', 'O'), ('statement', 'NN', 'O'), ('on', 'IN', 'O'), ('civil', 'JJ', 'O'), ('cover', 'NN', 'O'), ('sheet', 'NN', 'O'), ('completed', 'VBD', 'O'), ('-yes', 'NNP', 'O'), (',', ',', 'O'), (',', ',', 'O'), ('filed', 'VBN', 'O'), ('by', 'IN', 'O'), ('lg', 'JJ', 'O'), ('capital', 'NN', 'O'), ('funding', 'NN', 'O'), (',', ',', 'O'), ('llc', 'NN', 'O'), ('.', '.', 'O'), ('(', '(', 'O'), ('steinmetz', 'JJ', 'O'), (',', ',', 'O'), ('michael', 'NN', 'O'), (')', ')', 'O'), ('(', '(', 'O'), ('additional', 'JJ', 'O'), ('attachment', 'NN', 'O'), ('(', '(', 'O'), ('s', 'PRP', 'O'), (')', ')', 'O'), ('added', 'VBD', 'O'), ('on', 'IN', 'O'), ('3/11/2016', 'CD', 'O'), (':', ':', 'O'), ('#', '#', 'O'), ('1', 'CD', 'O'), ('civil', 'JJ', 'O'), ('cover', 'NN', 'O'), ('sheet', 'NN', 'O'), (',', ',', 'O'), ('#', '#', 'O'), ('2', 'CD', 'O'), ('proposed', 'JJ', 'O'), ('summons', 'NNS', 'O'), (')', ')', 'O'), ('(', '(', 'O'), ('bowens', 'UH', 'O'), (',', ',', 'O'), ('priscilla', 'NN', 'O'), (')', ')', 'O'), ('.', '.', 'O'), ('(', '(', 'O'), ('entered', 'VBN', 'O'), (':', ':', 'O'), ('03/10/2016', 'CD', 'O'), (')', ')', 'O')] \n",
      "\n",
      "no date: \n",
      "[('complaint', 'NN', 'O'), ('against', 'IN', 'O'), ('cardiogenics', 'NNS', 'O'), ('holdings', 'NNS', 'O'), (',', ',', 'O'), ('inc.', 'JJ', 'O'), ('filing', 'VBG', 'O'), ('fee', 'JJ', 'O'), ('$', '$', 'O'), ('400', 'CD', 'O'), (',', ',', 'O'), ('receipt', 'JJ', 'O'), ('number', 'NN', 'O'), ('0207-8445206', 'NN', 'O'), ('was', 'VBD', 'O'), ('the', 'DT', 'O'), ('disclosure', 'NN', 'O'), ('statement', 'NN', 'O'), ('on', 'IN', 'O'), ('civil', 'JJ', 'O'), ('cover', 'NN', 'O'), ('sheet', 'NN', 'O'), ('completed', 'VBD', 'O'), ('-yes', 'NNP', 'O'), (',', ',', 'O'), (',', ',', 'O'), ('filed', 'VBN', 'O'), ('by', 'IN', 'O'), ('lg', 'JJ', 'O'), ('capital', 'NN', 'O'), ('funding', 'NN', 'O'), (',', ',', 'O'), ('llc', 'NN', 'O'), ('.', '.', 'O'), ('(', '(', 'O'), ('steinmetz', 'JJ', 'O'), (',', ',', 'O'), ('michael', 'NN', 'O'), (')', ')', 'O'), ('(', '(', 'O'), ('additional', 'JJ', 'O'), ('attachment', 'NN', 'O'), ('(', '(', 'O'), ('s', 'PRP', 'O'), (')', ')', 'O'), ('added', 'VBD', 'O'), ('on', 'IN', 'O'), ('date', 'NN', 'O'), (':', ':', 'O'), ('#', '#', 'O'), ('1', 'CD', 'O'), ('civil', 'JJ', 'O'), ('cover', 'NN', 'O'), ('sheet', 'NN', 'O'), (',', ',', 'O'), ('#', '#', 'O'), ('2', 'CD', 'O'), ('proposed', 'JJ', 'O'), ('summons', 'NNS', 'O'), (')', ')', 'O'), ('(', '(', 'O'), ('bowens', 'UH', 'O'), (',', ',', 'O'), ('priscilla', 'NN', 'O'), (')', ')', 'O'), ('.', '.', 'O'), ('(', '(', 'O'), ('entered', 'VBN', 'O'), (':', ':', 'O'), ('date', 'NN', 'O'), (')', ')', 'O')] \n",
      "\n",
      "no punctuation: \n",
      "[('complaint', 'NN', 'O'), ('against', 'IN', 'O'), ('cardiogenics', 'NNS', 'O'), ('holdings', 'NNS', 'O'), ('inc', 'VBP', 'O'), ('filing', 'VBG', 'O'), ('fee', 'NN', 'O'), ('400', 'CD', 'O'), ('receipt', 'NN', 'O'), ('number', 'NN', 'O'), ('0207', 'CD', 'O'), ('8445206', 'CD', 'O'), ('was', 'VBD', 'O'), ('the', 'DT', 'O'), ('disclosure', 'NN', 'O'), ('statement', 'NN', 'O'), ('on', 'IN', 'O'), ('civil', 'JJ', 'O'), ('cover', 'NN', 'O'), ('sheet', 'NN', 'O'), ('completed', 'VBD', 'O'), ('yes', 'NNS', 'O'), ('filed', 'VBN', 'O'), ('by', 'IN', 'O'), ('lg', 'JJ', 'O'), ('capital', 'NN', 'O'), ('funding', 'NN', 'O'), ('llc', 'NN', 'O'), ('steinmetz', 'NN', 'O'), ('michael', 'VBD', 'O'), ('additional', 'JJ', 'O'), ('attachment', 'NN', 'O'), ('s', 'NN', 'O'), ('added', 'VBD', 'O'), ('on', 'IN', 'O'), ('date', 'NN', 'O'), ('1', 'CD', 'O'), ('civil', 'JJ', 'O'), ('cover', 'NN', 'O'), ('sheet', 'NN', 'O'), ('2', 'CD', 'O'), ('proposed', 'VBN', 'O'), ('summons', 'NNS', 'O'), ('bowens', 'VBZ', 'O'), ('priscilla', 'NN', 'O'), ('entered', 'VBD', 'O'), ('date', 'NN', 'O')] \n",
      "\n",
      "no numbers: \n",
      "[('complaint', 'NN', 'O'), ('against', 'IN', 'O'), ('cardiogenics', 'NNS', 'O'), ('holdings', 'NNS', 'O'), ('inc', 'VBP', 'O'), ('filing', 'VBG', 'O'), ('fee', 'NN', 'O'), ('receipt', 'NN', 'O'), ('number', 'NN', 'O'), ('was', 'VBD', 'O'), ('the', 'DT', 'O'), ('disclosure', 'NN', 'O'), ('statement', 'NN', 'O'), ('on', 'IN', 'O'), ('civil', 'JJ', 'O'), ('cover', 'NN', 'O'), ('sheet', 'NN', 'O'), ('completed', 'VBD', 'O'), ('yes', 'NNS', 'O'), ('filed', 'VBN', 'O'), ('by', 'IN', 'O'), ('lg', 'JJ', 'O'), ('capital', 'NN', 'O'), ('funding', 'NN', 'O'), ('llc', 'NN', 'O'), ('steinmetz', 'NN', 'O'), ('michael', 'VBD', 'O'), ('additional', 'JJ', 'O'), ('attachment', 'NN', 'O'), ('s', 'NN', 'O'), ('added', 'VBD', 'O'), ('on', 'IN', 'O'), ('date', 'NN', 'O'), ('civil', 'JJ', 'O'), ('cover', 'NN', 'O'), ('sheet', 'NN', 'O'), ('proposed', 'VBD', 'O'), ('summons', 'NNS', 'O'), ('bowens', 'VBZ', 'O'), ('priscilla', 'NN', 'O'), ('entered', 'VBD', 'O'), ('date', 'NN', 'O')] \n",
      "\n",
      "no extra spaces: \n",
      "[('complaint', 'NN', 'O'), ('against', 'IN', 'O'), ('cardiogenics', 'NNS', 'O'), ('holdings', 'NNS', 'O'), ('inc', 'VBP', 'O'), ('filing', 'VBG', 'O'), ('fee', 'NN', 'O'), ('receipt', 'NN', 'O'), ('number', 'NN', 'O'), ('was', 'VBD', 'O'), ('the', 'DT', 'O'), ('disclosure', 'NN', 'O'), ('statement', 'NN', 'O'), ('on', 'IN', 'O'), ('civil', 'JJ', 'O'), ('cover', 'NN', 'O'), ('sheet', 'NN', 'O'), ('completed', 'VBD', 'O'), ('yes', 'NNS', 'O'), ('filed', 'VBN', 'O'), ('by', 'IN', 'O'), ('lg', 'JJ', 'O'), ('capital', 'NN', 'O'), ('funding', 'NN', 'O'), ('llc', 'NN', 'O'), ('steinmetz', 'NN', 'O'), ('michael', 'VBD', 'O'), ('additional', 'JJ', 'O'), ('attachment', 'NN', 'O'), ('s', 'NN', 'O'), ('added', 'VBD', 'O'), ('on', 'IN', 'O'), ('date', 'NN', 'O'), ('civil', 'JJ', 'O'), ('cover', 'NN', 'O'), ('sheet', 'NN', 'O'), ('proposed', 'VBD', 'O'), ('summons', 'NNS', 'O'), ('bowens', 'VBZ', 'O'), ('priscilla', 'NN', 'O'), ('entered', 'VBD', 'O'), ('date', 'NN', 'O')] \n",
      "\n",
      ": \n",
      "[('complaint', 'NN', 'O'), ('cardiogenics', 'NNS', 'O'), ('hold', 'VBP', 'O'), ('inc', 'JJ', 'O'), ('file', 'JJ', 'O'), ('fee', 'NN', 'O'), ('receipt', 'NN', 'O'), ('number', 'NN', 'O'), ('disclosure', 'NN', 'O'), ('statement', 'NN', 'O'), ('civil', 'JJ', 'O'), ('cover', 'NN', 'O'), ('sheet', 'NN', 'O'), ('complete', 'JJ', 'O'), ('yes', 'RB', 'O'), ('file', 'JJ', 'O'), ('lg', 'JJ', 'O'), ('capital', 'NN', 'O'), ('fund', 'NN', 'O'), ('llc', 'VBD', 'O'), ('steinmetz', 'JJ', 'O'), ('michael', 'JJ', 'O'), ('additional', 'JJ', 'O'), ('attachment', 'NN', 'O'), ('add', 'NN', 'O'), ('date', 'NN', 'O'), ('civil', 'JJ', 'O'), ('cover', 'NN', 'O'), ('sheet', 'NN', 'O'), ('propose', 'JJ', 'O'), ('summon', 'NN', 'O'), ('bowens', 'NNS', 'O'), ('priscilla', 'VBP', 'O'), ('enter', 'NN', 'O'), ('date', 'NN', 'O')] \n",
      "\n",
      ": \n",
      "[('complaint', 'NN', 'O'), ('cardiogenics_hold_inc', 'NN', 'O'), ('file', 'NN', 'O'), ('disclosure_statement_civil_cover', 'NN', 'O'), ('sheet_complete_yes', 'NNS', 'O'), ('file', 'VBP', 'O'), ('lg_capital_fund_llc', 'JJ', 'O'), ('steinmetz', 'NN', 'O'), ('michael', 'NN', 'O'), ('additional_attachment_add', 'VBP', 'O'), ('date', 'NN', 'O'), ('civil_cover_sheet', 'NN', 'O'), ('propose', 'JJ', 'O'), ('summon', 'JJ', 'O'), ('bowens_priscilla', 'NN', 'O'), ('enter', 'NN', 'O'), ('date', 'NN', 'O')]\n"
     ]
    }
   ],
   "source": [
    "#after the inital normalization, there's no sense of the NER or GEP by NLTK NER and GPE. Seems that it heavily depend on the cases\n",
    "iob_tagged = tree2conlltags(ne_chunk(pos_tag(word_tokenize(docket_original[0]))))\n",
    "print('orignal text: ')\n",
    "print(iob_tagged, '\\n')\n",
    "iob_tagged = tree2conlltags(ne_chunk(pos_tag(word_tokenize(docket_normalized[0]))))\n",
    "print('normalized: ')\n",
    "print(iob_tagged, '\\n')\n",
    "iob_tagged = tree2conlltags(ne_chunk(pos_tag(word_tokenize(docket_nourl[0]))))\n",
    "print('no url: ')\n",
    "print(iob_tagged, '\\n')\n",
    "iob_tagged = tree2conlltags(ne_chunk(pos_tag(word_tokenize(docket_nodate[0]))))\n",
    "print('no date: ')\n",
    "print(iob_tagged, '\\n')\n",
    "iob_tagged = tree2conlltags(ne_chunk(pos_tag(word_tokenize(docket_nopunct[0]))))\n",
    "print('no punctuation: ')\n",
    "print(iob_tagged, '\\n')\n",
    "iob_tagged = tree2conlltags(ne_chunk(pos_tag(word_tokenize(docket_nonum[0]))))\n",
    "print('no numbers: ')\n",
    "print(iob_tagged, '\\n')\n",
    "iob_tagged = tree2conlltags(ne_chunk(pos_tag(word_tokenize(docket_noextraspace[0]))))\n",
    "print('no extra spaces: ')\n",
    "print(iob_tagged, '\\n')\n",
    "iob_tagged = tree2conlltags(ne_chunk(pos_tag(word_tokenize(docket_phrase1[0]))))\n",
    "print('lemmentized: ')\n",
    "print(iob_tagged, '\\n')\n",
    "iob_tagged = tree2conlltags(ne_chunk(pos_tag(word_tokenize(docket_phrase2[0]))))\n",
    "print('phrase modeled: ')\n",
    "print(iob_tagged)"
   ]
  },
  {
   "cell_type": "code",
   "execution_count": 108,
   "metadata": {
    "scrolled": true
   },
   "outputs": [
    {
     "name": "stdout",
     "output_type": "stream",
     "text": [
      "orignal text: \n",
      "[('COMPLAINT', 'O'), ('against', 'O'), ('Cardiogenics', 'ORGANIZATION'), ('Holdings', 'ORGANIZATION'), (',', 'ORGANIZATION'), ('Inc.', 'ORGANIZATION'), ('filing', 'O'), ('fee', 'O'), ('$', 'O'), ('400', 'O'), (',', 'O'), ('receipt', 'O'), ('number', 'O'), ('0207-8445206', 'O'), ('Was', 'O'), ('the', 'O'), ('Disclosure', 'O'), ('Statement', 'O'), ('on', 'O'), ('Civil', 'O'), ('Cover', 'O'), ('Sheet', 'O'), ('completed', 'O'), ('-YES', 'O'), (',', 'O'), (',', 'O'), ('filed', 'O'), ('by', 'O'), ('LG', 'ORGANIZATION'), ('Capital', 'ORGANIZATION'), ('Funding', 'ORGANIZATION'), (',', 'O'), ('LLC', 'O'), ('.', 'O'), ('(', 'PERSON'), ('Steinmetz', 'PERSON'), (',', 'O'), ('Michael', 'PERSON'), (')', 'O'), ('(', 'O'), ('Additional', 'O'), ('attachment', 'O'), ('(', 'O'), ('s', 'O'), (')', 'O'), ('added', 'O'), ('on', 'O'), ('3112016', 'O'), (':', 'O'), ('#', 'O'), ('1', 'O'), ('Civil', 'O'), ('Cover', 'O'), ('Sheet', 'O'), (',', 'O'), ('#', 'O'), ('2', 'O'), ('Proposed', 'O'), ('Summons', 'O'), (')', 'O'), ('(', 'O'), ('Bowens', 'PERSON'), (',', 'O'), ('Priscilla', 'PERSON'), (')', 'O'), ('.', 'O'), ('(', 'O'), ('Entered', 'O'), (':', 'O'), ('03102016', 'O'), (')', 'O')] \n",
      "\n",
      "normalized: \n",
      "[('complaint', 'O'), ('against', 'O'), ('cardiogenics', 'O'), ('holdings', 'O'), (',', 'O'), ('inc.', 'O'), ('filing', 'O'), ('fee', 'O'), ('$', 'O'), ('400', 'O'), (',', 'O'), ('receipt', 'O'), ('number', 'O'), ('0207-8445206', 'O'), ('was', 'O'), ('the', 'O'), ('disclosure', 'O'), ('statement', 'O'), ('on', 'O'), ('civil', 'O'), ('cover', 'O'), ('sheet', 'O'), ('completed', 'O'), ('-yes', 'O'), (',', 'O'), (',', 'O'), ('filed', 'O'), ('by', 'O'), ('lg', 'O'), ('capital', 'O'), ('funding', 'O'), (',', 'O'), ('llc', 'O'), ('.', 'O'), ('(', 'O'), ('steinmetz', 'O'), (',', 'O'), ('michael', 'O'), (')', 'O'), ('(', 'O'), ('additional', 'O'), ('attachment', 'O'), ('(', 'O'), ('s', 'O'), (')', 'O'), ('added', 'O'), ('on', 'O'), ('3112016', 'O'), (':', 'O'), ('#', 'O'), ('1', 'O'), ('civil', 'O'), ('cover', 'O'), ('sheet', 'O'), (',', 'O'), ('#', 'O'), ('2', 'O'), ('proposed', 'O'), ('summons', 'O'), (')', 'O'), ('(', 'O'), ('bowens', 'O'), (',', 'O'), ('priscilla', 'O'), (')', 'O'), ('.', 'O'), ('(', 'O'), ('entered', 'O'), (':', 'O'), ('03102016', 'O'), (')', 'O')] \n",
      "\n",
      "no url: \n",
      "[('complaint', 'O'), ('against', 'O'), ('cardiogenics', 'O'), ('holdings', 'O'), (',', 'O'), ('inc.', 'O'), ('filing', 'O'), ('fee', 'O'), ('$', 'O'), ('400', 'O'), (',', 'O'), ('receipt', 'O'), ('number', 'O'), ('0207-8445206', 'O'), ('was', 'O'), ('the', 'O'), ('disclosure', 'O'), ('statement', 'O'), ('on', 'O'), ('civil', 'O'), ('cover', 'O'), ('sheet', 'O'), ('completed', 'O'), ('-yes', 'O'), (',', 'O'), (',', 'O'), ('filed', 'O'), ('by', 'O'), ('lg', 'O'), ('capital', 'O'), ('funding', 'O'), (',', 'O'), ('llc', 'O'), ('.', 'O'), ('(', 'O'), ('steinmetz', 'O'), (',', 'O'), ('michael', 'O'), (')', 'O'), ('(', 'O'), ('additional', 'O'), ('attachment', 'O'), ('(', 'O'), ('s', 'O'), (')', 'O'), ('added', 'O'), ('on', 'O'), ('3112016', 'O'), (':', 'O'), ('#', 'O'), ('1', 'O'), ('civil', 'O'), ('cover', 'O'), ('sheet', 'O'), (',', 'O'), ('#', 'O'), ('2', 'O'), ('proposed', 'O'), ('summons', 'O'), (')', 'O'), ('(', 'O'), ('bowens', 'O'), (',', 'O'), ('priscilla', 'O'), (')', 'O'), ('.', 'O'), ('(', 'O'), ('entered', 'O'), (':', 'O'), ('03102016', 'O'), (')', 'O')] \n",
      "\n",
      "no date: \n",
      "[('complaint', 'O'), ('against', 'O'), ('cardiogenics', 'O'), ('holdings', 'O'), (',', 'O'), ('inc.', 'O'), ('filing', 'O'), ('fee', 'O'), ('$', 'O'), ('400', 'O'), (',', 'O'), ('receipt', 'O'), ('number', 'O'), ('0207-8445206', 'O'), ('was', 'O'), ('the', 'O'), ('disclosure', 'O'), ('statement', 'O'), ('on', 'O'), ('civil', 'O'), ('cover', 'O'), ('sheet', 'O'), ('completed', 'O'), ('-yes', 'O'), (',', 'O'), (',', 'O'), ('filed', 'O'), ('by', 'O'), ('lg', 'O'), ('capital', 'O'), ('funding', 'O'), (',', 'O'), ('llc', 'O'), ('.', 'O'), ('(', 'O'), ('steinmetz', 'O'), (',', 'O'), ('michael', 'O'), (')', 'O'), ('(', 'O'), ('additional', 'O'), ('attachment', 'O'), ('(', 'O'), ('s', 'O'), (')', 'O'), ('added', 'O'), ('on', 'O'), ('date', 'O'), (':', 'O'), ('#', 'O'), ('1', 'O'), ('civil', 'O'), ('cover', 'O'), ('sheet', 'O'), (',', 'O'), ('#', 'O'), ('2', 'O'), ('proposed', 'O'), ('summons', 'O'), (')', 'O'), ('(', 'O'), ('bowens', 'O'), (',', 'O'), ('priscilla', 'O'), (')', 'O'), ('.', 'O'), ('(', 'O'), ('entered', 'O'), (':', 'O'), ('date', 'O'), (')', 'O')] \n",
      "\n",
      "no punctuation: \n",
      "[('complaint', 'O'), ('against', 'O'), ('cardiogenics', 'O'), ('holdings', 'O'), ('inc', 'O'), ('filing', 'O'), ('fee', 'O'), ('400', 'O'), ('receipt', 'O'), ('number', 'O'), ('0207', 'O'), ('8445206', 'O'), ('was', 'O'), ('the', 'O'), ('disclosure', 'O'), ('statement', 'O'), ('on', 'O'), ('civil', 'O'), ('cover', 'O'), ('sheet', 'O'), ('completed', 'O'), ('yes', 'O'), ('filed', 'O'), ('by', 'O'), ('lg', 'O'), ('capital', 'O'), ('funding', 'O'), ('llc', 'O'), ('steinmetz', 'O'), ('michael', 'O'), ('additional', 'O'), ('attachment', 'O'), ('s', 'O'), ('added', 'O'), ('on', 'O'), ('date', 'O'), ('1', 'O'), ('civil', 'O'), ('cover', 'O'), ('sheet', 'O'), ('2', 'O'), ('proposed', 'O'), ('summons', 'O'), ('bowens', 'O'), ('priscilla', 'O'), ('entered', 'O'), ('date', 'O')] \n",
      "\n",
      "no numbers: \n",
      "[('complaint', 'O'), ('against', 'O'), ('cardiogenics', 'O'), ('holdings', 'O'), ('inc', 'O'), ('filing', 'O'), ('fee', 'O'), ('receipt', 'O'), ('number', 'O'), ('was', 'O'), ('the', 'O'), ('disclosure', 'O'), ('statement', 'O'), ('on', 'O'), ('civil', 'O'), ('cover', 'O'), ('sheet', 'O'), ('completed', 'O'), ('yes', 'O'), ('filed', 'O'), ('by', 'O'), ('lg', 'O'), ('capital', 'O'), ('funding', 'O'), ('llc', 'O'), ('steinmetz', 'O'), ('michael', 'O'), ('additional', 'O'), ('attachment', 'O'), ('s', 'O'), ('added', 'O'), ('on', 'O'), ('date', 'O'), ('civil', 'O'), ('cover', 'O'), ('sheet', 'O'), ('proposed', 'O'), ('summons', 'O'), ('bowens', 'O'), ('priscilla', 'O'), ('entered', 'O'), ('date', 'O')] \n",
      "\n",
      "no extra spaces: \n",
      "[('complaint', 'O'), ('against', 'O'), ('cardiogenics', 'O'), ('holdings', 'O'), ('inc', 'O'), ('filing', 'O'), ('fee', 'O'), ('receipt', 'O'), ('number', 'O'), ('was', 'O'), ('the', 'O'), ('disclosure', 'O'), ('statement', 'O'), ('on', 'O'), ('civil', 'O'), ('cover', 'O'), ('sheet', 'O'), ('completed', 'O'), ('yes', 'O'), ('filed', 'O'), ('by', 'O'), ('lg', 'O'), ('capital', 'O'), ('funding', 'O'), ('llc', 'O'), ('steinmetz', 'O'), ('michael', 'O'), ('additional', 'O'), ('attachment', 'O'), ('s', 'O'), ('added', 'O'), ('on', 'O'), ('date', 'O'), ('civil', 'O'), ('cover', 'O'), ('sheet', 'O'), ('proposed', 'O'), ('summons', 'O'), ('bowens', 'O'), ('priscilla', 'O'), ('entered', 'O'), ('date', 'O')] \n",
      "\n",
      "lemmentized: \n",
      "[('complaint', 'O'), ('cardiogenics', 'O'), ('hold', 'O'), ('inc', 'O'), ('file', 'O'), ('fee', 'O'), ('receipt', 'O'), ('number', 'O'), ('disclosure', 'O'), ('statement', 'O'), ('civil', 'O'), ('cover', 'O'), ('sheet', 'O'), ('complete', 'O'), ('yes', 'O'), ('file', 'O'), ('lg', 'O'), ('capital', 'O'), ('fund', 'O'), ('llc', 'O'), ('steinmetz', 'O'), ('michael', 'O'), ('additional', 'O'), ('attachment', 'O'), ('add', 'O'), ('date', 'O'), ('civil', 'O'), ('cover', 'O'), ('sheet', 'O'), ('propose', 'O'), ('summon', 'O'), ('bowens', 'O'), ('priscilla', 'O'), ('enter', 'O'), ('date', 'O')] \n",
      "\n",
      "phrase modeled: \n",
      "[('complaint', 'O'), ('cardiogenics_hold_inc', 'O'), ('file', 'O'), ('disclosure_statement_civil_cover', 'O'), ('sheet_complete_yes', 'O'), ('file', 'O'), ('lg_capital_fund_llc', 'O'), ('steinmetz', 'O'), ('michael', 'O'), ('additional_attachment_add', 'O'), ('date', 'O'), ('civil_cover_sheet', 'O'), ('propose', 'O'), ('summon', 'O'), ('bowens_priscilla', 'O'), ('enter', 'O'), ('date', 'O')]\n"
     ]
    }
   ],
   "source": [
    "#after the inital normalization, there's no sense of the NER or GEP by NLTK NER and GPE. Seems that it heavily depend on the cases\n",
    "iob_tagged = tagger.tag(word_tokenize(docket_original[0]))\n",
    "print('orignal text: ')\n",
    "print(iob_tagged, '\\n')\n",
    "iob_tagged = tagger.tag(word_tokenize(docket_normalized[0]))\n",
    "print('normalized: ')\n",
    "print(iob_tagged, '\\n')\n",
    "iob_tagged = tagger.tag(word_tokenize(docket_nourl[0]))\n",
    "print('no url: ')\n",
    "print(iob_tagged, '\\n')\n",
    "iob_tagged = tagger.tag(word_tokenize(docket_nodate[0]))\n",
    "print('no date: ')\n",
    "print(iob_tagged, '\\n')\n",
    "iob_tagged = tagger.tag(word_tokenize(docket_nopunct[0]))\n",
    "print('no punctuation: ')\n",
    "print(iob_tagged, '\\n')\n",
    "iob_tagged = tagger.tag(word_tokenize(docket_nonum[0]))\n",
    "print('no numbers: ')\n",
    "print(iob_tagged, '\\n')\n",
    "iob_tagged = tagger.tag(word_tokenize(docket_noextraspace[0]))\n",
    "print('no extra spaces: ')\n",
    "print(iob_tagged, '\\n')\n",
    "iob_tagged = tagger.tag(word_tokenize(docket_phrase1[0]))\n",
    "print('lemmentized: ')\n",
    "print(iob_tagged, '\\n')\n",
    "iob_tagged = tagger.tag(word_tokenize(docket_phrase2[0]))\n",
    "print('phrase modeled: ')\n",
    "print(iob_tagged)"
   ]
  },
  {
   "cell_type": "markdown",
   "metadata": {},
   "source": [
    "### So let's start over"
   ]
  },
  {
   "cell_type": "code",
   "execution_count": 8,
   "metadata": {},
   "outputs": [],
   "source": [
    "docket_original = list(new_df['Original Docket Text'])"
   ]
  },
  {
   "cell_type": "markdown",
   "metadata": {},
   "source": [
    "### 1. NER\n",
    "Stanford is much better at knowing what's going on"
   ]
  },
  {
   "cell_type": "code",
   "execution_count": 9,
   "metadata": {
    "scrolled": true
   },
   "outputs": [
    {
     "name": "stdout",
     "output_type": "stream",
     "text": [
      "('COMPLAINT', 'O') ('COMPLAINT', 'NNP', 'B-ORGANIZATION') COMPLAINT\n",
      "('against', 'O') ('against', 'IN', 'O') against\n",
      "('Cardiogenics', 'ORGANIZATION') ('Cardiogenics', 'NNP', 'B-ORGANIZATION') Cardiogenics\n",
      "('Holdings', 'ORGANIZATION') ('Holdings', 'NNPS', 'I-ORGANIZATION') Holdings\n",
      "(',', 'ORGANIZATION') (',', ',', 'O') ,\n",
      "('Inc.', 'ORGANIZATION') ('Inc.', 'NNP', 'O') Inc.\n",
      "('filing', 'O') ('filing', 'VBG', 'O') filing\n",
      "('fee', 'O') ('fee', 'JJ', 'O') fee\n",
      "('$', 'O') ('$', '$', 'O') $\n",
      "('400', 'O') ('400', 'CD', 'O') 400\n",
      "(',', 'O') (',', ',', 'O') ,\n",
      "('receipt', 'O') ('receipt', 'JJ', 'O') receipt\n",
      "('number', 'O') ('number', 'NN', 'O') number\n",
      "('0207-8445206', 'O') ('0207-8445206', 'NN', 'O') 0207-8445206\n",
      "('Was', 'O') ('Was', 'NNP', 'O') Was\n",
      "('the', 'O') ('the', 'DT', 'O') the\n",
      "('Disclosure', 'O') ('Disclosure', 'NNP', 'B-ORGANIZATION') Disclosure\n",
      "('Statement', 'O') ('Statement', 'NNP', 'O') Statement\n",
      "('on', 'O') ('on', 'IN', 'O') on\n",
      "('Civil', 'O') ('Civil', 'NNP', 'B-PERSON') Civil\n",
      "('Cover', 'O') ('Cover', 'NNP', 'I-PERSON') Cover\n",
      "('Sheet', 'O') ('Sheet', 'NNP', 'I-PERSON') Sheet\n",
      "('completed', 'O') ('completed', 'VBD', 'O') completed\n",
      "('-YES', 'O') ('-YES', 'NNP', 'O') -YES\n",
      "(',', 'O') (',', ',', 'O') ,\n",
      "(',', 'O') (',', ',', 'O') ,\n",
      "('filed', 'O') ('filed', 'VBN', 'O') filed\n",
      "('by', 'O') ('by', 'IN', 'O') by\n",
      "('LG', 'ORGANIZATION') ('LG', 'NNP', 'B-ORGANIZATION') LG\n",
      "('Capital', 'ORGANIZATION') ('Capital', 'NNP', 'I-ORGANIZATION') Capital\n",
      "('Funding', 'ORGANIZATION') ('Funding', 'NNP', 'I-ORGANIZATION') Funding\n",
      "(',', 'O') (',', ',', 'O') ,\n",
      "('LLC', 'O') ('LLC', 'NNP', 'B-ORGANIZATION') LLC\n",
      "('.', 'O') ('.', '.', 'O') .\n",
      "('(', 'PERSON') ('(', '(', 'O') (\n",
      "('Steinmetz', 'PERSON') ('Steinmetz', 'NNP', 'B-PERSON') Steinmetz\n",
      "(',', 'O') (',', ',', 'O') ,\n",
      "('Michael', 'PERSON') ('Michael', 'NNP', 'B-GPE') Michael\n",
      "(')', 'O') (')', ')', 'O') )\n",
      "('(', 'O') ('(', '(', 'O') (\n",
      "('Additional', 'O') ('Additional', 'JJ', 'B-ORGANIZATION') Additional\n",
      "('attachment', 'O') ('attachment', 'NN', 'O') attachment\n",
      "('(', 'O') ('(', '(', 'O') (\n",
      "('s', 'O') ('s', 'PRP', 'O') s\n",
      "(')', 'O') (')', ')', 'O') )\n",
      "('added', 'O') ('added', 'VBD', 'O') added\n",
      "('on', 'O') ('on', 'IN', 'O') on\n",
      "('3112016', 'O') ('3/11/2016', 'CD', 'O') 3/11/2016\n",
      "(':', 'O') (':', ':', 'O') :\n",
      "('#', 'O') ('#', '#', 'O') #\n",
      "('1', 'O') ('1', 'CD', 'O') 1\n",
      "('Civil', 'O') ('Civil', 'NNP', 'O') Civil\n",
      "('Cover', 'O') ('Cover', 'NNP', 'O') Cover\n",
      "('Sheet', 'O') ('Sheet', 'NNP', 'O') Sheet\n",
      "(',', 'O') (',', ',', 'O') ,\n",
      "('#', 'O') ('#', '#', 'O') #\n",
      "('2', 'O') ('2', 'CD', 'O') 2\n",
      "('Proposed', 'O') ('Proposed', 'VBN', 'O') Proposed\n",
      "('Summons', 'O') ('Summons', 'NNS', 'O') Summons\n",
      "(')', 'O') (')', ')', 'O') )\n",
      "('(', 'O') ('(', '(', 'O') (\n",
      "('Bowens', 'PERSON') ('Bowens', 'NNP', 'B-GPE') Bowens\n",
      "(',', 'O') (',', ',', 'O') ,\n",
      "('Priscilla', 'PERSON') ('Priscilla', 'NNP', 'B-GPE') Priscilla\n",
      "(')', 'O') (')', ')', 'O') )\n",
      "('.', 'O') ('.', '.', 'O') .\n",
      "('(', 'O') ('(', '(', 'O') (\n",
      "('Entered', 'O') ('Entered', 'VBD', 'O') Entered\n",
      "(':', 'O') (':', ':', 'O') :\n",
      "('03102016', 'O') ('03/10/2016', 'CD', 'O') 03/10/2016\n",
      "(')', 'O') (')', ')', 'O') )\n",
      "('Case', 'O') ('Case', 'NN', 'B-PERSON') Case\n",
      "('assigned', 'O') ('assigned', 'VBD', 'O') assigned\n",
      "('to', 'O') ('to', 'TO', 'O') to\n",
      "('Judge', 'O') ('Judge', 'NNP', 'O') Judge\n",
      "('Ann', 'PERSON') ('Ann', 'NNP', 'B-PERSON') Ann\n",
      "('M', 'PERSON') ('M', 'NNP', 'I-PERSON') M\n",
      "('Donnelly', 'PERSON') ('Donnelly', 'NNP', 'I-PERSON') Donnelly\n",
      "('and', 'O') ('and', 'CC', 'O') and\n",
      "('Magistrate', 'O') ('Magistrate', 'NNP', 'B-ORGANIZATION') Magistrate\n",
      "('Judge', 'O') ('Judge', 'NNP', 'O') Judge\n",
      "('Vera', 'PERSON') ('Vera', 'NNP', 'B-PERSON') Vera\n",
      "('M.', 'PERSON') ('M.', 'NNP', 'I-PERSON') M.\n",
      "('Scanlon', 'PERSON') ('Scanlon', 'NNP', 'I-PERSON') Scanlon\n",
      "('.', 'O') ('.', '.', 'O') .\n",
      "('Please', 'O') ('Please', 'NNP', 'O') Please\n",
      "('download', 'O') ('download', 'NN', 'O') download\n",
      "('and', 'O') ('and', 'CC', 'O') and\n",
      "('review', 'O') ('review', 'VB', 'O') review\n",
      "('the', 'O') ('the', 'DT', 'O') the\n",
      "('Individual', 'ORGANIZATION') ('Individual', 'NNP', 'B-ORGANIZATION') Individual\n",
      "('Practices', 'ORGANIZATION') ('Practices', 'NNPS', 'I-ORGANIZATION') Practices\n",
      "('of', 'ORGANIZATION') ('of', 'IN', 'O') of\n",
      "('the', 'ORGANIZATION') ('the', 'DT', 'O') the\n",
      "('assigned', 'ORGANIZATION') ('assigned', 'JJ', 'O') assigned\n",
      "('Judges', 'ORGANIZATION') ('Judges', 'NNP', 'O') Judges\n",
      "(',', 'O') (',', ',', 'O') ,\n",
      "('located', 'O') ('located', 'VBN', 'O') located\n",
      "('on', 'O') ('on', 'IN', 'O') on\n",
      "('our', 'O') ('our', 'PRP$', 'O') our\n",
      "('website', 'O') ('website', 'NN', 'O') website\n",
      "('.', 'O') ('.', '.', 'O') .\n",
      "('Attorneys', 'O') ('Attorneys', 'NNS', 'O') Attorneys\n",
      "('are', 'O') ('are', 'VBP', 'O') are\n",
      "('responsible', 'O') ('responsible', 'JJ', 'O') responsible\n",
      "('for', 'O') ('for', 'IN', 'O') for\n",
      "('providing', 'O') ('providing', 'VBG', 'O') providing\n",
      "('courtesy', 'O') ('courtesy', 'NN', 'O') courtesy\n",
      "('copies', 'O') ('copies', 'NNS', 'O') copies\n",
      "('to', 'O') ('to', 'TO', 'O') to\n",
      "('judges', 'O') ('judges', 'NNS', 'O') judges\n",
      "('where', 'O') ('where', 'WRB', 'O') where\n",
      "('their', 'O') ('their', 'PRP$', 'O') their\n",
      "('Individual', 'O') ('Individual', 'JJ', 'B-ORGANIZATION') Individual\n",
      "('Practices', 'O') ('Practices', 'NNPS', 'I-ORGANIZATION') Practices\n",
      "('require', 'O') ('require', 'VBP', 'O') require\n",
      "('such', 'O') ('such', 'JJ', 'O') such\n",
      "('.', 'O') ('.', '.', 'O') .\n",
      "('(', 'O') ('(', '(', 'O') (\n",
      "('Bowens', 'PERSON') ('Bowens', 'NNP', 'B-GPE') Bowens\n",
      "(',', 'O') (',', ',', 'O') ,\n",
      "('Priscilla', 'PERSON') ('Priscilla', 'NNP', 'B-GPE') Priscilla\n",
      "(')', 'O') (')', ')', 'O') )\n",
      "('(', 'O') ('(', '(', 'O') (\n",
      "('Entered', 'O') ('Entered', 'VBN', 'O') Entered\n",
      "(':', 'O') (':', ':', 'O') :\n",
      "('03112016', 'O') ('03/11/2016', 'CD', 'O') 03/11/2016\n",
      "(')', 'O') (')', ')', 'O') )\n",
      "('Summons', 'O') ('Summons', 'NNS', 'O') Summons\n",
      "('Issued', 'O') ('Issued', 'VBN', 'O') Issued\n",
      "('as', 'O') ('as', 'IN', 'O') as\n",
      "('to', 'O') ('to', 'TO', 'O') to\n",
      "('Cardiogenics', 'ORGANIZATION') ('Cardiogenics', 'NNP', 'B-ORGANIZATION') Cardiogenics\n",
      "('Holdings', 'ORGANIZATION') ('Holdings', 'NNPS', 'I-ORGANIZATION') Holdings\n",
      "(',', 'O') (',', ',', 'O') ,\n",
      "('Inc..', 'O') ('Inc..', 'NNP', 'O') Inc..\n",
      "('(', 'O') ('(', '(', 'O') (\n",
      "('Bowens', 'PERSON') ('Bowens', 'NNP', 'B-GPE') Bowens\n",
      "(',', 'O') (',', ',', 'O') ,\n",
      "('Priscilla', 'PERSON') ('Priscilla', 'NNP', 'B-GPE') Priscilla\n",
      "(')', 'O') (')', ')', 'O') )\n",
      "('(', 'O') ('(', '(', 'O') (\n",
      "('Entered', 'O') ('Entered', 'VBN', 'O') Entered\n",
      "(':', 'O') (':', ':', 'O') :\n",
      "('03112016', 'O') ('03/11/2016', 'CD', 'O') 03/11/2016\n",
      "(')', 'O') (')', ')', 'O') )\n",
      "('NOTICE', 'O') ('NOTICE', 'NNP', 'B-ORGANIZATION') NOTICE\n",
      "('-', 'O') ('-', ':', 'O') -\n",
      "('emailed', 'O') ('emailed', 'VBD', 'O') emailed\n",
      "('attorney', 'O') ('attorney', 'NN', 'O') attorney\n",
      "('regarding', 'O') ('regarding', 'VBG', 'O') regarding\n",
      "('missing', 'O') ('missing', 'VBG', 'O') missing\n",
      "('second', 'O') ('second', 'JJ', 'O') second\n",
      "('page', 'O') ('page', 'NN', 'O') page\n",
      "('of', 'O') ('of', 'IN', 'O') of\n",
      "('the', 'O') ('the', 'DT', 'O') the\n",
      "('civil', 'O') ('civil', 'JJ', 'O') civil\n",
      "('cover', 'O') ('cover', 'NN', 'O') cover\n",
      "('sheet', 'O') ('sheet', 'NN', 'O') sheet\n",
      "('.', 'O') ('.', '.', 'O') .\n",
      "('(', 'O') ('(', '(', 'O') (\n",
      "('Bowens', 'PERSON') ('Bowens', 'NNP', 'B-GPE') Bowens\n",
      "(',', 'O') (',', ',', 'O') ,\n",
      "('Priscilla', 'PERSON') ('Priscilla', 'NNP', 'B-GPE') Priscilla\n",
      "(')', 'O') (')', ')', 'O') )\n",
      "('(', 'O') ('(', '(', 'O') (\n",
      "('Entered', 'O') ('Entered', 'VBN', 'O') Entered\n",
      "(':', 'O') (':', ':', 'O') :\n",
      "('03112016', 'O') ('03/11/2016', 'CD', 'O') 03/11/2016\n",
      "(')', 'O') (')', ')', 'O') )\n",
      "('In', 'O') ('In', 'IN', 'O') In\n",
      "('accordance', 'O') ('accordance', 'NN', 'O') accordance\n",
      "('with', 'O') ('with', 'IN', 'O') with\n",
      "('Rule', 'O') ('Rule', 'NNP', 'O') Rule\n",
      "('73', 'O') ('73', 'CD', 'O') 73\n",
      "('of', 'O') ('of', 'IN', 'O') of\n",
      "('the', 'O') ('the', 'DT', 'O') the\n",
      "('Federal', 'O') ('Federal', 'NNP', 'B-ORGANIZATION') Federal\n",
      "('Rules', 'O') ('Rules', 'NNP', 'I-ORGANIZATION') Rules\n",
      "('of', 'O') ('of', 'IN', 'O') of\n",
      "('Civil', 'O') ('Civil', 'NNP', 'B-PERSON') Civil\n",
      "('Procedure', 'O') ('Procedure', 'NNP', 'I-PERSON') Procedure\n",
      "('and', 'O') ('and', 'CC', 'O') and\n",
      "('Local', 'O') ('Local', 'NNP', 'B-PERSON') Local\n",
      "('Rule', 'O') ('Rule', 'NNP', 'I-PERSON') Rule\n",
      "('73.1', 'O') ('73.1', 'CD', 'O') 73.1\n",
      "(',', 'O') (',', ',', 'O') ,\n",
      "('the', 'O') ('the', 'DT', 'O') the\n",
      "('parties', 'O') ('parties', 'NNS', 'O') parties\n",
      "('are', 'O') ('are', 'VBP', 'O') are\n",
      "('notified', 'O') ('notified', 'VBN', 'O') notified\n",
      "('that', 'O') ('that', 'IN', 'O') that\n",
      "('if', 'O') ('if', 'IN', 'O') if\n",
      "('all', 'O') ('all', 'DT', 'O') all\n",
      "('parties', 'O') ('parties', 'NNS', 'O') parties\n",
      "('consent', 'O') ('consent', 'VBP', 'O') consent\n",
      "('a', 'O') ('a', 'DT', 'O') a\n",
      "('United', 'LOCATION') ('United', 'NNP', 'B-GPE') United\n",
      "('States', 'LOCATION') ('States', 'NNPS', 'I-GPE') States\n",
      "('magistrate', 'O') ('magistrate', 'VBP', 'O') magistrate\n",
      "('judge', 'O') ('judge', 'NN', 'O') judge\n",
      "('of', 'O') ('of', 'IN', 'O') of\n",
      "('this', 'O') ('this', 'DT', 'O') this\n",
      "('court', 'O') ('court', 'NN', 'O') court\n",
      "('is', 'O') ('is', 'VBZ', 'O') is\n",
      "('available', 'O') ('available', 'JJ', 'O') available\n",
      "('to', 'O') ('to', 'TO', 'O') to\n",
      "('conduct', 'O') ('conduct', 'VB', 'O') conduct\n",
      "('all', 'O') ('all', 'DT', 'O') all\n",
      "('proceedings', 'O') ('proceedings', 'NNS', 'O') proceedings\n",
      "('in', 'O') ('in', 'IN', 'O') in\n",
      "('this', 'O') ('this', 'DT', 'O') this\n",
      "('civil', 'O') ('civil', 'JJ', 'O') civil\n",
      "('action', 'O') ('action', 'NN', 'O') action\n",
      "('including', 'O') ('including', 'VBG', 'O') including\n",
      "('a', 'O') ('a', 'DT', 'O') a\n",
      "('(', 'O') ('(', '(', 'O') (\n",
      "('jury', 'O') ('jury', 'NN', 'O') jury\n",
      "('or', 'O') ('or', 'CC', 'O') or\n",
      "('nonjury', 'O') ('nonjury', 'NN', 'O') nonjury\n",
      "(')', 'O') (')', ')', 'O') )\n",
      "('trial', 'O') ('trial', 'NN', 'O') trial\n",
      "('and', 'O') ('and', 'CC', 'O') and\n",
      "('to', 'O') ('to', 'TO', 'O') to\n",
      "('order', 'O') ('order', 'NN', 'O') order\n",
      "('the', 'O') ('the', 'DT', 'O') the\n",
      "('entry', 'O') ('entry', 'NN', 'O') entry\n",
      "('of', 'O') ('of', 'IN', 'O') of\n",
      "('a', 'O') ('a', 'DT', 'O') a\n",
      "('final', 'O') ('final', 'JJ', 'O') final\n",
      "('judgment', 'O') ('judgment', 'NN', 'O') judgment\n",
      "('.', 'O') ('.', '.', 'O') .\n",
      "('Attached', 'O') ('Attached', 'VBN', 'O') Attached\n",
      "('to', 'O') ('to', 'TO', 'O') to\n",
      "('the', 'O') ('the', 'DT', 'O') the\n",
      "('Notice', 'O') ('Notice', 'NNP', 'B-ORGANIZATION') Notice\n",
      "('is', 'O') ('is', 'VBZ', 'O') is\n",
      "('a', 'O') ('a', 'DT', 'O') a\n",
      "('blank', 'O') ('blank', 'JJ', 'O') blank\n",
      "('copy', 'O') ('copy', 'NN', 'O') copy\n",
      "('of', 'O') ('of', 'IN', 'O') of\n",
      "('the', 'O') ('the', 'DT', 'O') the\n",
      "('consent', 'O') ('consent', 'NN', 'O') consent\n",
      "('form', 'O') ('form', 'NN', 'O') form\n",
      "('that', 'O') ('that', 'WDT', 'O') that\n",
      "('should', 'O') ('should', 'MD', 'O') should\n",
      "('be', 'O') ('be', 'VB', 'O') be\n",
      "('filled', 'O') ('filled', 'VBN', 'O') filled\n",
      "('out', 'O') ('out', 'RP', 'O') out\n",
      "(',', 'O') (',', ',', 'O') ,\n",
      "('signed', 'O') ('signed', 'VBN', 'O') signed\n",
      "('and', 'O') ('and', 'CC', 'O') and\n",
      "('filed', 'O') ('filed', 'VBN', 'O') filed\n",
      "('electronically', 'O') ('electronically', 'RB', 'O') electronically\n",
      "('only', 'O') ('only', 'RB', 'O') only\n",
      "('if', 'O') ('if', 'IN', 'O') if\n",
      "('all', 'O') ('all', 'DT', 'O') all\n",
      "('parties', 'O') ('parties', 'NNS', 'O') parties\n",
      "('wish', 'O') ('wish', 'VBP', 'O') wish\n",
      "('to', 'O') ('to', 'TO', 'O') to\n",
      "('consent', 'O') ('consent', 'NN', 'O') consent\n",
      "('.', 'O') ('.', '.', 'O') .\n",
      "('The', 'O') ('The', 'DT', 'O') The\n",
      "('form', 'O') ('form', 'NN', 'O') form\n",
      "('may', 'O') ('may', 'MD', 'O') may\n",
      "('also', 'O') ('also', 'RB', 'O') also\n",
      "('be', 'O') ('be', 'VB', 'O') be\n",
      "('accessed', 'O') ('accessed', 'VBN', 'O') accessed\n",
      "('at', 'O') ('at', 'IN', 'O') at\n",
      "('the', 'O') ('the', 'DT', 'O') the\n",
      "('following', 'O') ('following', 'JJ', 'O') following\n",
      "('link', 'O') ('link', 'NN', 'O') link\n",
      "(':', 'O') (':', ':', 'O') :\n",
      "('http', 'O') ('http', 'NN', 'O') http\n",
      "(':', 'O') (':', ':', 'O') :\n",
      "('www.uscourts.govuscourtsFormsAndFeesFormsAO085.pdf', 'O') ('//www.uscourts.gov/uscourts/FormsAndFees/Forms/AO085.pdf', 'NN', 'O') //www.uscourts.gov/uscourts/FormsAndFees/Forms/AO085.pdf\n",
      "('.', 'O') ('.', '.', 'O') .\n",
      "('You', 'O') ('You', 'PRP', 'O') You\n",
      "('may', 'O') ('may', 'MD', 'O') may\n",
      "('withhold', 'O') ('withhold', 'VB', 'O') withhold\n",
      "('your', 'O') ('your', 'PRP$', 'O') your\n",
      "('consent', 'O') ('consent', 'NN', 'O') consent\n",
      "('without', 'O') ('without', 'IN', 'O') without\n",
      "('adverse', 'O') ('adverse', 'JJ', 'O') adverse\n",
      "('substantive', 'O') ('substantive', 'JJ', 'O') substantive\n",
      "('consequences', 'O') ('consequences', 'NNS', 'O') consequences\n",
      "('.', 'O') ('.', '.', 'O') .\n",
      "('Do', 'O') ('Do', 'VBP', 'O') Do\n",
      "('NOT', 'O') ('NOT', 'NNP', 'B-ORGANIZATION') NOT\n",
      "('return', 'O') ('return', 'VB', 'O') return\n",
      "('or', 'O') ('or', 'CC', 'O') or\n",
      "('file', 'O') ('file', 'VB', 'O') file\n",
      "('the', 'O') ('the', 'DT', 'O') the\n",
      "('consent', 'O') ('consent', 'NN', 'O') consent\n",
      "('unless', 'O') ('unless', 'IN', 'O') unless\n",
      "('all', 'O') ('all', 'DT', 'O') all\n",
      "('parties', 'O') ('parties', 'NNS', 'O') parties\n",
      "('have', 'O') ('have', 'VBP', 'O') have\n",
      "('signed', 'O') ('signed', 'VBN', 'O') signed\n",
      "('the', 'O') ('the', 'DT', 'O') the\n",
      "('consent', 'O') ('consent', 'NN', 'O') consent\n",
      "('.', 'O') ('.', '.', 'O') .\n",
      "('(', 'O') ('(', '(', 'O') (\n",
      "('Bowens', 'PERSON') ('Bowens', 'NNP', 'B-GPE') Bowens\n",
      "(',', 'O') (',', ',', 'O') ,\n",
      "('Priscilla', 'PERSON') ('Priscilla', 'NNP', 'B-GPE') Priscilla\n",
      "(')', 'O') (')', ')', 'O') )\n",
      "('(', 'O') ('(', '(', 'O') (\n",
      "('Entered', 'O') ('Entered', 'VBN', 'O') Entered\n",
      "(':', 'O') (':', ':', 'O') :\n",
      "('03112016', 'O') ('03/11/2016', 'CD', 'O') 03/11/2016\n",
      "(')', 'O') (')', ')', 'O') )\n",
      "docket text: 0\n",
      "['COMPLAINT against Cardiogenics Holdings, Inc. filing fee $ 400, receipt number 0207-8445206 Was the Disclosure Statement on Civil Cover Sheet completed -YES,, filed by LG Capital Funding, LLC. (Steinmetz, Michael) (Additional attachment(s) added on 3/11/2016: # 1 Civil Cover Sheet, # 2 Proposed Summons) (Bowens, Priscilla). (Entered: 03/10/2016)', 'Cardiogenics Holdings , Inc. LG Capital Funding', '( Steinmetz Michael Bowens Priscilla', 'COMPLAINT against -ORG- -ORG- -ORG- -ORG- filing fee $ 400 , receipt number 0207-8445206 Was the Disclosure Statement on Civil Cover Sheet completed -YES , , filed by -ORG- -ORG- -ORG- , LLC . -NAME- -NAME- , -NAME- ) ( Additional attachment ( s ) added on 3/11/2016 : # 1 Civil Cover Sheet , # 2 Proposed Summons ) ( -NAME- , -NAME- ) . ( Entered : 03/10/2016 )', 'COMPLAINT against filing fee $ 400 , receipt number 0207-8445206 Was the Disclosure Statement on Civil Cover Sheet completed -YES , , filed by , LLC . , ) ( Additional attachment ( s ) added on 3/11/2016 : # 1 Civil Cover Sheet , # 2 Proposed Summons ) ( , ) . ( Entered : 03/10/2016 )'] \n",
      "\n",
      "docket text: 1\n",
      "['Case assigned to Judge Ann M Donnelly and Magistrate Judge Vera M. Scanlon. Please download and review the Individual Practices of the assigned Judges, located on our website. Attorneys are responsible for providing courtesy copies to judges where their Individual Practices require such. (Bowens, Priscilla) (Entered: 03/11/2016)', 'Individual Practices of the assigned Judges', 'Ann M Donnelly Vera M. Scanlon Bowens Priscilla', 'Case assigned to Judge -NAME- -NAME- -NAME- and Magistrate Judge -NAME- -NAME- -NAME- . Please download and review the -ORG- -ORG- -ORG- -ORG- -ORG- -ORG- , located on our website . Attorneys are responsible for providing courtesy copies to judges where their Individual Practices require such . ( -NAME- , -NAME- ) ( Entered : 03/11/2016 )', 'Case assigned to Judge and Magistrate Judge . Please download and review the , located on our website . Attorneys are responsible for providing courtesy copies to judges where their Individual Practices require such . ( , ) ( Entered : 03/11/2016 )'] \n",
      "\n",
      "docket text: 2\n",
      "['Summons Issued as to Cardiogenics Holdings, Inc.. (Bowens, Priscilla) (Entered: 03/11/2016)', 'Cardiogenics Holdings', 'Bowens Priscilla', 'Summons Issued as to -ORG- -ORG- , Inc.. ( -NAME- , -NAME- ) ( Entered : 03/11/2016 )', 'Summons Issued as to , Inc.. ( , ) ( Entered : 03/11/2016 )'] \n",
      "\n",
      "docket text: 3\n",
      "['NOTICE - emailed attorney regarding missing second page of the civil cover sheet. (Bowens, Priscilla) (Entered: 03/11/2016)', '', 'Bowens Priscilla', 'NOTICE - emailed attorney regarding missing second page of the civil cover sheet . ( -NAME- , -NAME- ) ( Entered : 03/11/2016 )', 'NOTICE - emailed attorney regarding missing second page of the civil cover sheet . ( , ) ( Entered : 03/11/2016 )'] \n",
      "\n",
      "docket text: 4\n",
      "['In accordance with Rule 73 of the Federal Rules of Civil Procedure and Local Rule 73.1, the parties are notified that if all parties consent a United States magistrate judge of this court is available to conduct all proceedings in this civil action including a (jury or nonjury) trial and to order the entry of a final judgment. Attached to the Notice is a blank copy of the consent form that should be filled out, signed and filed electronically only if all parties wish to consent. The form may also be accessed at the following link: http://www.uscourts.gov/uscourts/FormsAndFees/Forms/AO085.pdf. You may withhold your consent without adverse substantive consequences. Do NOT return or file the consent unless all parties have signed the consent. (Bowens, Priscilla) (Entered: 03/11/2016)', '', 'Bowens Priscilla', 'In accordance with Rule 73 of the Federal Rules of Civil Procedure and Local Rule 73.1 , the parties are notified that if all parties consent a United States magistrate judge of this court is available to conduct all proceedings in this civil action including a ( jury or nonjury ) trial and to order the entry of a final judgment . Attached to the Notice is a blank copy of the consent form that should be filled out , signed and filed electronically only if all parties wish to consent . The form may also be accessed at the following link : http : //www.uscourts.gov/uscourts/FormsAndFees/Forms/AO085.pdf . You may withhold your consent without adverse substantive consequences . Do NOT return or file the consent unless all parties have signed the consent . ( -NAME- , -NAME- ) ( Entered : 03/11/2016 )', 'In accordance with Rule 73 of the Federal Rules of Civil Procedure and Local Rule 73.1 , the parties are notified that if all parties consent a United States magistrate judge of this court is available to conduct all proceedings in this civil action including a ( jury or nonjury ) trial and to order the entry of a final judgment . Attached to the Notice is a blank copy of the consent form that should be filled out , signed and filed electronically only if all parties wish to consent . The form may also be accessed at the following link : http : //www.uscourts.gov/uscourts/FormsAndFees/Forms/AO085.pdf . You may withhold your consent without adverse substantive consequences . Do NOT return or file the consent unless all parties have signed the consent . ( , ) ( Entered : 03/11/2016 )'] \n",
      "\n"
     ]
    }
   ],
   "source": [
    "output = []\n",
    "for i in range(5):\n",
    "    org_str = []\n",
    "    name_str = []\n",
    "    stripped_str1 = []\n",
    "    stripped_str2 = []\n",
    "\n",
    "    tokens = word_tokenize(docket_original[i])\n",
    "    for SFlabel, NLlabel, token in zip(tagger.tag(tokens), tree2conlltags(ne_chunk(pos_tag(tokens))), tokens):\n",
    "        print(SFlabel, NLlabel, token)\n",
    "        if SFlabel[1] == 'ORGANIZATION':\n",
    "            org_str.append(SFlabel[0])\n",
    "            stripped_str1.append('-ORG-')\n",
    "        elif SFlabel[1] == 'PERSON':\n",
    "            name_str.append(SFlabel[0])\n",
    "            stripped_str1.append('-NAME-')\n",
    "        else:\n",
    "            stripped_str1.append(token)\n",
    "            stripped_str2.append(token)\n",
    "\n",
    "    output.append([docket_original[i],\n",
    "                   ' '.join(org_str),\n",
    "                   ' '.join(name_str),\n",
    "                   ' '.join(stripped_str1),\n",
    "                   ' '.join(stripped_str2)])\n",
    "    \n",
    "for i in range(5):\n",
    "    print('docket text:', i)\n",
    "    print(output[i], '\\n')"
   ]
  },
  {
   "cell_type": "markdown",
   "metadata": {},
   "source": [
    "After some experiments, we'll stick with the Stanford NER first... leveraging the existing dataframe.\n",
    "### 2. Normalize"
   ]
  },
  {
   "cell_type": "code",
   "execution_count": 186,
   "metadata": {},
   "outputs": [
    {
     "name": "stdout",
     "output_type": "stream",
     "text": [
      "(3244, 5)\n"
     ]
    },
    {
     "data": {
      "text/html": [
       "<div>\n",
       "<table border=\"1\" class=\"dataframe\">\n",
       "  <thead>\n",
       "    <tr style=\"text-align: right;\">\n",
       "      <th></th>\n",
       "      <th>Original Docket Text</th>\n",
       "      <th>Organization Portion</th>\n",
       "      <th>Name Portion</th>\n",
       "      <th>Identifying Org and Name</th>\n",
       "      <th>Stripped Org and Name</th>\n",
       "    </tr>\n",
       "  </thead>\n",
       "  <tbody>\n",
       "    <tr>\n",
       "      <th>0</th>\n",
       "      <td>COMPLAINT against Cardiogenics Holdings, Inc. ...</td>\n",
       "      <td>Cardiogenics Holdings , Inc. LG Capital Funding</td>\n",
       "      <td>( Steinmetz Michael Bowens Priscilla</td>\n",
       "      <td>COMPLAINT against -ORG- -ORG- -ORG- -ORG- fili...</td>\n",
       "      <td>COMPLAINT against filing fee $ 400 , receipt n...</td>\n",
       "    </tr>\n",
       "    <tr>\n",
       "      <th>1</th>\n",
       "      <td>Case assigned to Judge Ann M Donnelly and Magi...</td>\n",
       "      <td>Individual Practices of the assigned Judges</td>\n",
       "      <td>Ann M Donnelly Vera M. Scanlon Bowens Priscilla</td>\n",
       "      <td>Case assigned to Judge -NAME- -NAME- -NAME- an...</td>\n",
       "      <td>Case assigned to Judge and Magistrate Judge . ...</td>\n",
       "    </tr>\n",
       "    <tr>\n",
       "      <th>2</th>\n",
       "      <td>Summons Issued as to Cardiogenics Holdings, In...</td>\n",
       "      <td>Cardiogenics Holdings</td>\n",
       "      <td>Bowens Priscilla</td>\n",
       "      <td>Summons Issued as to -ORG- -ORG- , Inc.. ( -NA...</td>\n",
       "      <td>Summons Issued as to , Inc.. ( , ) ( Entered :...</td>\n",
       "    </tr>\n",
       "    <tr>\n",
       "      <th>3</th>\n",
       "      <td>NOTICE - emailed attorney regarding missing se...</td>\n",
       "      <td></td>\n",
       "      <td>Bowens Priscilla</td>\n",
       "      <td>NOTICE - emailed attorney regarding missing se...</td>\n",
       "      <td>NOTICE - emailed attorney regarding missing se...</td>\n",
       "    </tr>\n",
       "    <tr>\n",
       "      <th>4</th>\n",
       "      <td>In accordance with Rule 73 of the Federal Rule...</td>\n",
       "      <td></td>\n",
       "      <td>Bowens Priscilla</td>\n",
       "      <td>In accordance with Rule 73 of the Federal Rule...</td>\n",
       "      <td>In accordance with Rule 73 of the Federal Rule...</td>\n",
       "    </tr>\n",
       "  </tbody>\n",
       "</table>\n",
       "</div>"
      ],
      "text/plain": [
       "                                Original Docket Text  \\\n",
       "0  COMPLAINT against Cardiogenics Holdings, Inc. ...   \n",
       "1  Case assigned to Judge Ann M Donnelly and Magi...   \n",
       "2  Summons Issued as to Cardiogenics Holdings, In...   \n",
       "3  NOTICE - emailed attorney regarding missing se...   \n",
       "4  In accordance with Rule 73 of the Federal Rule...   \n",
       "\n",
       "                              Organization Portion  \\\n",
       "0  Cardiogenics Holdings , Inc. LG Capital Funding   \n",
       "1      Individual Practices of the assigned Judges   \n",
       "2                            Cardiogenics Holdings   \n",
       "3                                                    \n",
       "4                                                    \n",
       "\n",
       "                                      Name Portion  \\\n",
       "0             ( Steinmetz Michael Bowens Priscilla   \n",
       "1  Ann M Donnelly Vera M. Scanlon Bowens Priscilla   \n",
       "2                                 Bowens Priscilla   \n",
       "3                                 Bowens Priscilla   \n",
       "4                                 Bowens Priscilla   \n",
       "\n",
       "                            Identifying Org and Name  \\\n",
       "0  COMPLAINT against -ORG- -ORG- -ORG- -ORG- fili...   \n",
       "1  Case assigned to Judge -NAME- -NAME- -NAME- an...   \n",
       "2  Summons Issued as to -ORG- -ORG- , Inc.. ( -NA...   \n",
       "3  NOTICE - emailed attorney regarding missing se...   \n",
       "4  In accordance with Rule 73 of the Federal Rule...   \n",
       "\n",
       "                               Stripped Org and Name  \n",
       "0  COMPLAINT against filing fee $ 400 , receipt n...  \n",
       "1  Case assigned to Judge and Magistrate Judge . ...  \n",
       "2  Summons Issued as to , Inc.. ( , ) ( Entered :...  \n",
       "3  NOTICE - emailed attorney regarding missing se...  \n",
       "4  In accordance with Rule 73 of the Federal Rule...  "
      ]
     },
     "execution_count": 186,
     "metadata": {},
     "output_type": "execute_result"
    }
   ],
   "source": [
    "filename = 'docket_texts/train/DT/basic_df.pickle'\n",
    "#to load\n",
    "with open(filename, 'rb') as handle:\n",
    "    NER_df = pickle.load(handle)\n",
    "    \n",
    "new_df = NER_df.copy()\n",
    "print(new_df.shape)\n",
    "new_df.head()"
   ]
  },
  {
   "cell_type": "code",
   "execution_count": 187,
   "metadata": {},
   "outputs": [
    {
     "data": {
      "text/html": [
       "<div>\n",
       "<table border=\"1\" class=\"dataframe\">\n",
       "  <thead>\n",
       "    <tr style=\"text-align: right;\">\n",
       "      <th></th>\n",
       "      <th>Original Docket Text</th>\n",
       "      <th>Organization Portion</th>\n",
       "      <th>Name Portion</th>\n",
       "      <th>Identifying Org and Name</th>\n",
       "      <th>Stripped Org and Name</th>\n",
       "    </tr>\n",
       "  </thead>\n",
       "  <tbody>\n",
       "  </tbody>\n",
       "</table>\n",
       "</div>"
      ],
      "text/plain": [
       "Empty DataFrame\n",
       "Columns: [Original Docket Text, Organization Portion, Name Portion, Identifying Org and Name, Stripped Org and Name]\n",
       "Index: []"
      ]
     },
     "execution_count": 187,
     "metadata": {},
     "output_type": "execute_result"
    }
   ],
   "source": [
    "new_df[new_df['Original Docket Text'] == text].head()"
   ]
  },
  {
   "cell_type": "code",
   "execution_count": 188,
   "metadata": {},
   "outputs": [
    {
     "data": {
      "text/plain": [
       "'ORDER TO SHOW CAUSE as to why an order pursuant to Fed. R. Civ. P. Rule 65 and 28 U.S.C. �2201 should not be entered, pending final determination of this action. Show Cause Hearing set for 3/30/2017 at 04:00 PM in Courtroom 4D South before Judge Nicholas G. Garaufis. Show Cause Response due by 3/23/2017. Reply papers due by 3/28/2017 at 5:00 p.m. So Ordered by Judge Nicholas G. Garaufis on 3/16/2017. (Lee, Tiffeny) (Entered: 03/17/2017)'"
      ]
     },
     "execution_count": 188,
     "metadata": {},
     "output_type": "execute_result"
    }
   ],
   "source": [
    "text"
   ]
  },
  {
   "cell_type": "code",
   "execution_count": 81,
   "metadata": {},
   "outputs": [],
   "source": [
    "### Normalize\n",
    "def normalize(docket_original):\n",
    "\n",
    "    url_regex1 = r\"\"\"(?i)\\b((?:https?:(?:/{1,3}|[a-z0-9%])|[a-z0-9.\\-]+[.](?:com|net|org|edu|gov|mil|aero|asia|biz|cat|coop|info|int|jobs|mobi|museum|name|post|pro|tel|travel|xxx|ac|ad|ae|af|ag|ai|al|am|an|ao|aq|ar|as|at|au|aw|ax|az|ba|bb|bd|be|bf|bg|bh|bi|bj|bm|bn|bo|br|bs|bt|bv|bw|by|bz|ca|cc|cd|cf|cg|ch|ci|ck|cl|cm|cn|co|cr|cs|cu|cv|cx|cy|cz|dd|de|dj|dk|dm|do|dz|ec|ee|eg|eh|er|es|et|eu|fi|fj|fk|fm|fo|fr|ga|gb|gd|ge|gf|gg|gh|gi|gl|gm|gn|gp|gq|gr|gs|gt|gu|gw|gy|hk|hm|hn|hr|ht|hu|id|ie|il|im|in|io|iq|ir|is|it|je|jm|jo|jp|ke|kg|kh|ki|km|kn|kp|kr|kw|ky|kz|la|lb|lc|li|lk|lr|ls|lt|lu|lv|ly|ma|mc|md|me|mg|mh|mk|ml|mm|mn|mo|mp|mq|mr|ms|mt|mu|mv|mw|mx|my|mz|na|nc|ne|nf|ng|ni|nl|no|np|nr|nu|nz|om|pa|pe|pf|pg|ph|pk|pl|pm|pn|pr|ps|pt|pw|py|qa|re|ro|rs|ru|rw|sa|sb|sc|sd|se|sg|sh|si|sj|Ja|sk|sl|sm|sn|so|sr|ss|st|su|sv|sx|sy|sz|tc|td|tf|tg|th|tj|tk|tl|tm|tn|to|tp|tr|tt|tv|tw|tz|ua|ug|uk|us|uy|uz|va|vc|ve|vg|vi|vn|vu|wf|ws|ye|yt|yu|za|zm|zw)/)(?:[^\\s()<>{}\\[\\]]+|\\([^\\s()]*?\\([^\\s()]+\\)[^\\s()]*?\\)|\\([^\\s]+?\\))+(?:\\([^\\s()]*?\\([^\\s()]+\\)[^\\s()]*?\\)|\\([^\\s]+?\\)|[^\\s`!()\\[\\]{};:'\".,<>?«»“”‘’])|(?:(?<!@)[a-z0-9]+(?:[.\\-][a-z0-9]+)*[.](?:com|net|org|edu|gov|mil|aero|asia|biz|cat|coop|info|int|jobs|mobi|museum|name|post|pro|tel|travel|xxx|ac|ad|ae|af|ag|ai|al|am|an|ao|aq|ar|as|at|au|aw|ax|az|ba|bb|bd|be|bf|bg|bh|bi|bj|bm|bn|bo|br|bs|bt|bv|bw|by|bz|ca|cc|cd|cf|cg|ch|ci|ck|cl|cm|cn|co|cr|cs|cu|cv|cx|cy|cz|dd|de|dj|dk|dm|do|dz|ec|ee|eg|eh|er|es|et|eu|fi|fj|fk|fm|fo|fr|ga|gb|gd|ge|gf|gg|gh|gi|gl|gm|gn|gp|gq|gr|gs|gt|gu|gw|gy|hk|hm|hn|hr|ht|hu|id|ie|il|im|in|io|iq|ir|is|it|je|jm|jo|jp|ke|kg|kh|ki|km|kn|kp|kr|kw|ky|kz|la|lb|lc|li|lk|lr|ls|lt|lu|lv|ly|ma|mc|md|me|mg|mh|mk|ml|mm|mn|mo|mp|mq|mr|ms|mt|mu|mv|mw|mx|my|mz|na|nc|ne|nf|ng|ni|nl|no|np|nr|nu|nz|om|pa|pe|pf|pg|ph|pk|pl|pm|pn|pr|ps|pt|pw|py|qa|re|ro|rs|ru|rw|sa|sb|sc|sd|se|sg|sh|si|sj|Ja|sk|sl|sm|sn|so|sr|ss|st|su|sv|sx|sy|sz|tc|td|tf|tg|th|tj|tk|tl|tm|tn|to|tp|tr|tt|tv|tw|tz|ua|ug|uk|us|uy|uz|va|vc|ve|vg|vi|vn|vu|wf|ws|ye|yt|yu|za|zm|zw)\\b/?(?!@)))\"\"\"\n",
    "    url_regex2 = 'http[s]?://(?:[a-zA-Z]|[0-9]|[$-_@.&+]|[!*\\(\\),]|(?:%[0-9a-fA-F][0-9a-fA-F]))+'\n",
    "    date_regex = '(\\d{1,2}[\\/ ](\\d{2}|January|Jan|February|Feb|March|Mar|April|Apr|May|May|June|Jun|July|Jul|August|Aug|September|Sep|October|Oct|November|Nov|December|Dec)[\\/ ]\\d{2,4})'\n",
    "    punct_regex = r\"[^a-zA-Z0-9]\"\n",
    "    num_regex = \"\\d+\"\n",
    "    extraspace_regex = \" +\"\n",
    "    docket_original = docket_original.split(' ')\n",
    "    docket_normalized = [text.lower() for text in docket_original]\n",
    "    docket_nourl1 = [re.sub(url_regex1, \"url\", text) for text in docket_normalized]\n",
    "    docket_nourl2 = [re.sub(url_regex2, \"url\", text) for text in docket_nourl1]\n",
    "    docket_nodate = [re.sub(date_regex, \"date\", text) for text in docket_nourl2]\n",
    "    docket_nopunct = [re.sub(punct_regex, \" \", text) for text in docket_nodate]\n",
    "    docket_nonum = [re.sub(num_regex, \" \", text) for text in docket_nopunct]\n",
    "    docket_noextraspace = re.sub(extraspace_regex, \" \", ' '.join(docket_nonum))\n",
    "    \n",
    "    return docket_noextraspace"
   ]
  },
  {
   "cell_type": "code",
   "execution_count": 82,
   "metadata": {},
   "outputs": [
    {
     "name": "stdout",
     "output_type": "stream",
     "text": [
      "took 1.2011559009552002 seconds\n"
     ]
    }
   ],
   "source": [
    "t0 = time.time()\n",
    "new_df['normalized'] = new_df['Stripped Org and Name'].apply(lambda x: normalize(x))\n",
    "print('took {} seconds'.format(time.time() - t0))"
   ]
  },
  {
   "cell_type": "markdown",
   "metadata": {},
   "source": [
    "### 3. Split and tokenize"
   ]
  },
  {
   "cell_type": "code",
   "execution_count": 83,
   "metadata": {},
   "outputs": [],
   "source": [
    "def tokenize(docket_noextraspace):\n",
    "    return word_tokenize(docket_noextraspace)"
   ]
  },
  {
   "cell_type": "code",
   "execution_count": 84,
   "metadata": {},
   "outputs": [
    {
     "name": "stdout",
     "output_type": "stream",
     "text": [
      "took 0.7231960296630859 seconds\n"
     ]
    }
   ],
   "source": [
    "t0 = time.time()\n",
    "new_df['tokenize'] = new_df['normalized'].apply(tokenize)\n",
    "print('took {} seconds'.format(time.time() - t0))"
   ]
  },
  {
   "cell_type": "markdown",
   "metadata": {},
   "source": [
    "### 4. Remove Stop words"
   ]
  },
  {
   "cell_type": "code",
   "execution_count": 85,
   "metadata": {},
   "outputs": [],
   "source": [
    "def stopwords(docket_tokenized):  \n",
    "    return [word for word in docket_tokenized if word not in sw]"
   ]
  },
  {
   "cell_type": "code",
   "execution_count": 86,
   "metadata": {},
   "outputs": [
    {
     "name": "stdout",
     "output_type": "stream",
     "text": [
      "took 0.28325653076171875 seconds\n"
     ]
    }
   ],
   "source": [
    "t0 = time.time()\n",
    "new_df['nostop'] = new_df['tokenize'].apply(stopwords)\n",
    "print('took {} seconds'.format(time.time() - t0))"
   ]
  },
  {
   "cell_type": "markdown",
   "metadata": {},
   "source": [
    "### 5. Manual Topic Assignment - Decision tree to identify keywords and topics based on Chris' feedback"
   ]
  },
  {
   "cell_type": "code",
   "execution_count": 87,
   "metadata": {},
   "outputs": [],
   "source": [
    "#this is updated, comparing mannual_topics_20180828 and manual_topics_20180911\n",
    "manual_topics_df = pd.read_csv('manual_topics_20180911.csv') \n",
    "manual_topics_df = manual_topics_df.apply(lambda x: x.astype(str).str.lower())\n",
    "manual_topics_dict = manual_topics_df.to_dict('list')\n",
    "for topic in manual_topics_dict.keys():\n",
    "    manual_topics_dict[topic] = [keyword for keyword in manual_topics_dict[topic] if keyword != 'nan']"
   ]
  },
  {
   "cell_type": "code",
   "execution_count": 88,
   "metadata": {},
   "outputs": [],
   "source": [
    "#output a list of topics\n",
    "def mannual_topic_assignment(text):\n",
    "    #text = text.split()\n",
    "    #print(text)\n",
    "    output = []\n",
    "    for topic in manual_topics_dict.keys():\n",
    "        for keyword in manual_topics_dict[topic]:\n",
    "            if ' '.join(text).find(keyword) != -1:\n",
    "                output.append(topic)\n",
    "    #print(output)\n",
    "    return ', '.join(set(output))"
   ]
  },
  {
   "cell_type": "code",
   "execution_count": 143,
   "metadata": {},
   "outputs": [],
   "source": [
    "docket_texts_output = list(new_df['nostop'])\n",
    "\n",
    "docket_texts_output_DT = []\n",
    "topics_DT = []\n",
    "NoAction = []\n",
    "\n",
    "for text in docket_texts_output:\n",
    "    topic = mannual_topic_assignment(text)\n",
    "    #print(topic)\n",
    "    if topic != '':\n",
    "        docket_texts_output_DT.append('')\n",
    "        topics_DT.append(topic)\n",
    "        if 'NoAction' in topic:\n",
    "            NoAction.append(1)\n",
    "        else:\n",
    "            NoAction.append(0)\n",
    "    else:\n",
    "        docket_texts_output_DT.append(text)\n",
    "        topics_DT.append('')\n",
    "        NoAction.append(0)"
   ]
  },
  {
   "cell_type": "code",
   "execution_count": 144,
   "metadata": {
    "scrolled": false
   },
   "outputs": [
    {
     "name": "stdout",
     "output_type": "stream",
     "text": [
      "(3244, 14)\n"
     ]
    },
    {
     "data": {
      "text/html": [
       "<div>\n",
       "<table border=\"1\" class=\"dataframe\">\n",
       "  <thead>\n",
       "    <tr style=\"text-align: right;\">\n",
       "      <th></th>\n",
       "      <th>Original Docket Text</th>\n",
       "      <th>Organization Portion</th>\n",
       "      <th>Name Portion</th>\n",
       "      <th>Identifying Org and Name</th>\n",
       "      <th>Stripped Org and Name</th>\n",
       "      <th>normalized</th>\n",
       "      <th>tokenize</th>\n",
       "      <th>nostop</th>\n",
       "      <th>DT Topics</th>\n",
       "      <th>NoAction</th>\n",
       "      <th>Removed unnecessary POS &amp; vocab DT</th>\n",
       "      <th>lemmed</th>\n",
       "      <th>phrases</th>\n",
       "      <th>cleaned</th>\n",
       "    </tr>\n",
       "  </thead>\n",
       "  <tbody>\n",
       "    <tr>\n",
       "      <th>0</th>\n",
       "      <td>COMPLAINT against Cardiogenics Holdings, Inc. ...</td>\n",
       "      <td>Cardiogenics Holdings , Inc. LG Capital Funding</td>\n",
       "      <td>( Steinmetz Michael Bowens Priscilla</td>\n",
       "      <td>COMPLAINT against -ORG- -ORG- -ORG- -ORG- fili...</td>\n",
       "      <td>COMPLAINT against filing fee $ 400 , receipt n...</td>\n",
       "      <td>complaint against filing fee receipt number wa...</td>\n",
       "      <td>[complaint, against, filing, fee, receipt, num...</td>\n",
       "      <td>[complaint, filing, fee, receipt, number, disc...</td>\n",
       "      <td>Complaints, Motions, Service of Process</td>\n",
       "      <td>0</td>\n",
       "      <td></td>\n",
       "      <td></td>\n",
       "      <td></td>\n",
       "      <td></td>\n",
       "    </tr>\n",
       "    <tr>\n",
       "      <th>1</th>\n",
       "      <td>Case assigned to Judge Ann M Donnelly and Magi...</td>\n",
       "      <td>Individual Practices of the assigned Judges</td>\n",
       "      <td>Ann M Donnelly Vera M. Scanlon Bowens Priscilla</td>\n",
       "      <td>Case assigned to Judge -NAME- -NAME- -NAME- an...</td>\n",
       "      <td>Case assigned to Judge and Magistrate Judge . ...</td>\n",
       "      <td>case assigned to judge and magistrate judge pl...</td>\n",
       "      <td>[case, assigned, to, judge, and, magistrate, j...</td>\n",
       "      <td>[case, assigned, judge, magistrate, judge, ple...</td>\n",
       "      <td>NoAction</td>\n",
       "      <td>1</td>\n",
       "      <td></td>\n",
       "      <td></td>\n",
       "      <td></td>\n",
       "      <td></td>\n",
       "    </tr>\n",
       "    <tr>\n",
       "      <th>2</th>\n",
       "      <td>Summons Issued as to Cardiogenics Holdings, In...</td>\n",
       "      <td>Cardiogenics Holdings</td>\n",
       "      <td>Bowens Priscilla</td>\n",
       "      <td>Summons Issued as to -ORG- -ORG- , Inc.. ( -NA...</td>\n",
       "      <td>Summons Issued as to , Inc.. ( , ) ( Entered :...</td>\n",
       "      <td>summons issued as to inc entered date</td>\n",
       "      <td>[summons, issued, as, to, inc, entered, date]</td>\n",
       "      <td>[summons, issued, inc, entered, date]</td>\n",
       "      <td>Service of Process</td>\n",
       "      <td>0</td>\n",
       "      <td></td>\n",
       "      <td></td>\n",
       "      <td></td>\n",
       "      <td></td>\n",
       "    </tr>\n",
       "    <tr>\n",
       "      <th>3</th>\n",
       "      <td>NOTICE - emailed attorney regarding missing se...</td>\n",
       "      <td></td>\n",
       "      <td>Bowens Priscilla</td>\n",
       "      <td>NOTICE - emailed attorney regarding missing se...</td>\n",
       "      <td>NOTICE - emailed attorney regarding missing se...</td>\n",
       "      <td>notice emailed attorney regarding missing seco...</td>\n",
       "      <td>[notice, emailed, attorney, regarding, missing...</td>\n",
       "      <td>[notice, emailed, attorney, regarding, missing...</td>\n",
       "      <td>NoAction, Notices</td>\n",
       "      <td>1</td>\n",
       "      <td></td>\n",
       "      <td></td>\n",
       "      <td></td>\n",
       "      <td></td>\n",
       "    </tr>\n",
       "    <tr>\n",
       "      <th>4</th>\n",
       "      <td>In accordance with Rule 73 of the Federal Rule...</td>\n",
       "      <td></td>\n",
       "      <td>Bowens Priscilla</td>\n",
       "      <td>In accordance with Rule 73 of the Federal Rule...</td>\n",
       "      <td>In accordance with Rule 73 of the Federal Rule...</td>\n",
       "      <td>in accordance with rule of the federal rules o...</td>\n",
       "      <td>[in, accordance, with, rule, of, the, federal,...</td>\n",
       "      <td>[accordance, rule, federal, rules, civil, proc...</td>\n",
       "      <td>Judgment, Motions, Order, Notices</td>\n",
       "      <td>0</td>\n",
       "      <td></td>\n",
       "      <td></td>\n",
       "      <td></td>\n",
       "      <td></td>\n",
       "    </tr>\n",
       "  </tbody>\n",
       "</table>\n",
       "</div>"
      ],
      "text/plain": [
       "                                Original Docket Text  \\\n",
       "0  COMPLAINT against Cardiogenics Holdings, Inc. ...   \n",
       "1  Case assigned to Judge Ann M Donnelly and Magi...   \n",
       "2  Summons Issued as to Cardiogenics Holdings, In...   \n",
       "3  NOTICE - emailed attorney regarding missing se...   \n",
       "4  In accordance with Rule 73 of the Federal Rule...   \n",
       "\n",
       "                              Organization Portion  \\\n",
       "0  Cardiogenics Holdings , Inc. LG Capital Funding   \n",
       "1      Individual Practices of the assigned Judges   \n",
       "2                            Cardiogenics Holdings   \n",
       "3                                                    \n",
       "4                                                    \n",
       "\n",
       "                                      Name Portion  \\\n",
       "0             ( Steinmetz Michael Bowens Priscilla   \n",
       "1  Ann M Donnelly Vera M. Scanlon Bowens Priscilla   \n",
       "2                                 Bowens Priscilla   \n",
       "3                                 Bowens Priscilla   \n",
       "4                                 Bowens Priscilla   \n",
       "\n",
       "                            Identifying Org and Name  \\\n",
       "0  COMPLAINT against -ORG- -ORG- -ORG- -ORG- fili...   \n",
       "1  Case assigned to Judge -NAME- -NAME- -NAME- an...   \n",
       "2  Summons Issued as to -ORG- -ORG- , Inc.. ( -NA...   \n",
       "3  NOTICE - emailed attorney regarding missing se...   \n",
       "4  In accordance with Rule 73 of the Federal Rule...   \n",
       "\n",
       "                               Stripped Org and Name  \\\n",
       "0  COMPLAINT against filing fee $ 400 , receipt n...   \n",
       "1  Case assigned to Judge and Magistrate Judge . ...   \n",
       "2  Summons Issued as to , Inc.. ( , ) ( Entered :...   \n",
       "3  NOTICE - emailed attorney regarding missing se...   \n",
       "4  In accordance with Rule 73 of the Federal Rule...   \n",
       "\n",
       "                                          normalized  \\\n",
       "0  complaint against filing fee receipt number wa...   \n",
       "1  case assigned to judge and magistrate judge pl...   \n",
       "2             summons issued as to inc entered date    \n",
       "3  notice emailed attorney regarding missing seco...   \n",
       "4  in accordance with rule of the federal rules o...   \n",
       "\n",
       "                                            tokenize  \\\n",
       "0  [complaint, against, filing, fee, receipt, num...   \n",
       "1  [case, assigned, to, judge, and, magistrate, j...   \n",
       "2      [summons, issued, as, to, inc, entered, date]   \n",
       "3  [notice, emailed, attorney, regarding, missing...   \n",
       "4  [in, accordance, with, rule, of, the, federal,...   \n",
       "\n",
       "                                              nostop  \\\n",
       "0  [complaint, filing, fee, receipt, number, disc...   \n",
       "1  [case, assigned, judge, magistrate, judge, ple...   \n",
       "2              [summons, issued, inc, entered, date]   \n",
       "3  [notice, emailed, attorney, regarding, missing...   \n",
       "4  [accordance, rule, federal, rules, civil, proc...   \n",
       "\n",
       "                                 DT Topics  NoAction  \\\n",
       "0  Complaints, Motions, Service of Process         0   \n",
       "1                                 NoAction         1   \n",
       "2                       Service of Process         0   \n",
       "3                        NoAction, Notices         1   \n",
       "4        Judgment, Motions, Order, Notices         0   \n",
       "\n",
       "  Removed unnecessary POS & vocab DT lemmed phrases cleaned  \n",
       "0                                                            \n",
       "1                                                            \n",
       "2                                                            \n",
       "3                                                            \n",
       "4                                                            "
      ]
     },
     "execution_count": 144,
     "metadata": {},
     "output_type": "execute_result"
    }
   ],
   "source": [
    "new_df['DT Topics'] = pd.Series(topics_DT)\n",
    "new_df['NoAction'] = pd.Series(NoAction)\n",
    "new_df['Removed unnecessary POS & vocab DT'] = pd.Series(docket_texts_output_DT)\n",
    "print(new_df.shape)\n",
    "new_df.head()"
   ]
  },
  {
   "cell_type": "markdown",
   "metadata": {},
   "source": [
    "### 6. Lemmatization"
   ]
  },
  {
   "cell_type": "code",
   "execution_count": 146,
   "metadata": {},
   "outputs": [],
   "source": [
    "def lemm(docket_nostop):\n",
    "    return ' '.join([WordNetLemmatizer().lemmatize(word, pos='v') for word in docket_nostop])"
   ]
  },
  {
   "cell_type": "code",
   "execution_count": 147,
   "metadata": {},
   "outputs": [
    {
     "name": "stdout",
     "output_type": "stream",
     "text": [
      "took 0.0 seconds\n"
     ]
    },
    {
     "data": {
      "text/plain": [
       "(3244, 14)"
      ]
     },
     "execution_count": 147,
     "metadata": {},
     "output_type": "execute_result"
    }
   ],
   "source": [
    "t0 = time.time()\n",
    "new_df['lemmed'] = new_df['Removed unnecessary POS & vocab DT'].apply(lemm)\n",
    "print('took {} seconds'.format(time.time() - t0))\n",
    "new_df.shape"
   ]
  },
  {
   "cell_type": "code",
   "execution_count": 148,
   "metadata": {
    "scrolled": true
   },
   "outputs": [
    {
     "data": {
      "text/html": [
       "<div>\n",
       "<table border=\"1\" class=\"dataframe\">\n",
       "  <thead>\n",
       "    <tr style=\"text-align: right;\">\n",
       "      <th></th>\n",
       "      <th>Original Docket Text</th>\n",
       "      <th>Organization Portion</th>\n",
       "      <th>Name Portion</th>\n",
       "      <th>Identifying Org and Name</th>\n",
       "      <th>Stripped Org and Name</th>\n",
       "      <th>normalized</th>\n",
       "      <th>tokenize</th>\n",
       "      <th>nostop</th>\n",
       "      <th>DT Topics</th>\n",
       "      <th>NoAction</th>\n",
       "      <th>Removed unnecessary POS &amp; vocab DT</th>\n",
       "      <th>lemmed</th>\n",
       "      <th>phrases</th>\n",
       "      <th>cleaned</th>\n",
       "    </tr>\n",
       "  </thead>\n",
       "  <tbody>\n",
       "    <tr>\n",
       "      <th>0</th>\n",
       "      <td>COMPLAINT against Cardiogenics Holdings, Inc. ...</td>\n",
       "      <td>Cardiogenics Holdings , Inc. LG Capital Funding</td>\n",
       "      <td>( Steinmetz Michael Bowens Priscilla</td>\n",
       "      <td>COMPLAINT against -ORG- -ORG- -ORG- -ORG- fili...</td>\n",
       "      <td>COMPLAINT against filing fee $ 400 , receipt n...</td>\n",
       "      <td>complaint against filing fee receipt number wa...</td>\n",
       "      <td>[complaint, against, filing, fee, receipt, num...</td>\n",
       "      <td>[complaint, filing, fee, receipt, number, disc...</td>\n",
       "      <td>Complaints, Motions, Service of Process</td>\n",
       "      <td>0</td>\n",
       "      <td></td>\n",
       "      <td></td>\n",
       "      <td></td>\n",
       "      <td></td>\n",
       "    </tr>\n",
       "    <tr>\n",
       "      <th>1</th>\n",
       "      <td>Case assigned to Judge Ann M Donnelly and Magi...</td>\n",
       "      <td>Individual Practices of the assigned Judges</td>\n",
       "      <td>Ann M Donnelly Vera M. Scanlon Bowens Priscilla</td>\n",
       "      <td>Case assigned to Judge -NAME- -NAME- -NAME- an...</td>\n",
       "      <td>Case assigned to Judge and Magistrate Judge . ...</td>\n",
       "      <td>case assigned to judge and magistrate judge pl...</td>\n",
       "      <td>[case, assigned, to, judge, and, magistrate, j...</td>\n",
       "      <td>[case, assigned, judge, magistrate, judge, ple...</td>\n",
       "      <td>NoAction</td>\n",
       "      <td>1</td>\n",
       "      <td></td>\n",
       "      <td></td>\n",
       "      <td></td>\n",
       "      <td></td>\n",
       "    </tr>\n",
       "    <tr>\n",
       "      <th>2</th>\n",
       "      <td>Summons Issued as to Cardiogenics Holdings, In...</td>\n",
       "      <td>Cardiogenics Holdings</td>\n",
       "      <td>Bowens Priscilla</td>\n",
       "      <td>Summons Issued as to -ORG- -ORG- , Inc.. ( -NA...</td>\n",
       "      <td>Summons Issued as to , Inc.. ( , ) ( Entered :...</td>\n",
       "      <td>summons issued as to inc entered date</td>\n",
       "      <td>[summons, issued, as, to, inc, entered, date]</td>\n",
       "      <td>[summons, issued, inc, entered, date]</td>\n",
       "      <td>Service of Process</td>\n",
       "      <td>0</td>\n",
       "      <td></td>\n",
       "      <td></td>\n",
       "      <td></td>\n",
       "      <td></td>\n",
       "    </tr>\n",
       "    <tr>\n",
       "      <th>3</th>\n",
       "      <td>NOTICE - emailed attorney regarding missing se...</td>\n",
       "      <td></td>\n",
       "      <td>Bowens Priscilla</td>\n",
       "      <td>NOTICE - emailed attorney regarding missing se...</td>\n",
       "      <td>NOTICE - emailed attorney regarding missing se...</td>\n",
       "      <td>notice emailed attorney regarding missing seco...</td>\n",
       "      <td>[notice, emailed, attorney, regarding, missing...</td>\n",
       "      <td>[notice, emailed, attorney, regarding, missing...</td>\n",
       "      <td>NoAction, Notices</td>\n",
       "      <td>1</td>\n",
       "      <td></td>\n",
       "      <td></td>\n",
       "      <td></td>\n",
       "      <td></td>\n",
       "    </tr>\n",
       "    <tr>\n",
       "      <th>4</th>\n",
       "      <td>In accordance with Rule 73 of the Federal Rule...</td>\n",
       "      <td></td>\n",
       "      <td>Bowens Priscilla</td>\n",
       "      <td>In accordance with Rule 73 of the Federal Rule...</td>\n",
       "      <td>In accordance with Rule 73 of the Federal Rule...</td>\n",
       "      <td>in accordance with rule of the federal rules o...</td>\n",
       "      <td>[in, accordance, with, rule, of, the, federal,...</td>\n",
       "      <td>[accordance, rule, federal, rules, civil, proc...</td>\n",
       "      <td>Judgment, Motions, Order, Notices</td>\n",
       "      <td>0</td>\n",
       "      <td></td>\n",
       "      <td></td>\n",
       "      <td></td>\n",
       "      <td></td>\n",
       "    </tr>\n",
       "  </tbody>\n",
       "</table>\n",
       "</div>"
      ],
      "text/plain": [
       "                                Original Docket Text  \\\n",
       "0  COMPLAINT against Cardiogenics Holdings, Inc. ...   \n",
       "1  Case assigned to Judge Ann M Donnelly and Magi...   \n",
       "2  Summons Issued as to Cardiogenics Holdings, In...   \n",
       "3  NOTICE - emailed attorney regarding missing se...   \n",
       "4  In accordance with Rule 73 of the Federal Rule...   \n",
       "\n",
       "                              Organization Portion  \\\n",
       "0  Cardiogenics Holdings , Inc. LG Capital Funding   \n",
       "1      Individual Practices of the assigned Judges   \n",
       "2                            Cardiogenics Holdings   \n",
       "3                                                    \n",
       "4                                                    \n",
       "\n",
       "                                      Name Portion  \\\n",
       "0             ( Steinmetz Michael Bowens Priscilla   \n",
       "1  Ann M Donnelly Vera M. Scanlon Bowens Priscilla   \n",
       "2                                 Bowens Priscilla   \n",
       "3                                 Bowens Priscilla   \n",
       "4                                 Bowens Priscilla   \n",
       "\n",
       "                            Identifying Org and Name  \\\n",
       "0  COMPLAINT against -ORG- -ORG- -ORG- -ORG- fili...   \n",
       "1  Case assigned to Judge -NAME- -NAME- -NAME- an...   \n",
       "2  Summons Issued as to -ORG- -ORG- , Inc.. ( -NA...   \n",
       "3  NOTICE - emailed attorney regarding missing se...   \n",
       "4  In accordance with Rule 73 of the Federal Rule...   \n",
       "\n",
       "                               Stripped Org and Name  \\\n",
       "0  COMPLAINT against filing fee $ 400 , receipt n...   \n",
       "1  Case assigned to Judge and Magistrate Judge . ...   \n",
       "2  Summons Issued as to , Inc.. ( , ) ( Entered :...   \n",
       "3  NOTICE - emailed attorney regarding missing se...   \n",
       "4  In accordance with Rule 73 of the Federal Rule...   \n",
       "\n",
       "                                          normalized  \\\n",
       "0  complaint against filing fee receipt number wa...   \n",
       "1  case assigned to judge and magistrate judge pl...   \n",
       "2             summons issued as to inc entered date    \n",
       "3  notice emailed attorney regarding missing seco...   \n",
       "4  in accordance with rule of the federal rules o...   \n",
       "\n",
       "                                            tokenize  \\\n",
       "0  [complaint, against, filing, fee, receipt, num...   \n",
       "1  [case, assigned, to, judge, and, magistrate, j...   \n",
       "2      [summons, issued, as, to, inc, entered, date]   \n",
       "3  [notice, emailed, attorney, regarding, missing...   \n",
       "4  [in, accordance, with, rule, of, the, federal,...   \n",
       "\n",
       "                                              nostop  \\\n",
       "0  [complaint, filing, fee, receipt, number, disc...   \n",
       "1  [case, assigned, judge, magistrate, judge, ple...   \n",
       "2              [summons, issued, inc, entered, date]   \n",
       "3  [notice, emailed, attorney, regarding, missing...   \n",
       "4  [accordance, rule, federal, rules, civil, proc...   \n",
       "\n",
       "                                 DT Topics  NoAction  \\\n",
       "0  Complaints, Motions, Service of Process         0   \n",
       "1                                 NoAction         1   \n",
       "2                       Service of Process         0   \n",
       "3                        NoAction, Notices         1   \n",
       "4        Judgment, Motions, Order, Notices         0   \n",
       "\n",
       "  Removed unnecessary POS & vocab DT lemmed phrases cleaned  \n",
       "0                                                            \n",
       "1                                                            \n",
       "2                                                            \n",
       "3                                                            \n",
       "4                                                            "
      ]
     },
     "execution_count": 148,
     "metadata": {},
     "output_type": "execute_result"
    }
   ],
   "source": [
    "new_df.head()"
   ]
  },
  {
   "cell_type": "markdown",
   "metadata": {},
   "source": [
    "### 7. Phrase Modeling"
   ]
  },
  {
   "cell_type": "code",
   "execution_count": 149,
   "metadata": {},
   "outputs": [
    {
     "data": {
      "text/plain": [
       "['', '', '', '', '']"
      ]
     },
     "execution_count": 149,
     "metadata": {},
     "output_type": "execute_result"
    }
   ],
   "source": [
    "docket_phrase2 = list(new_df['lemmed'])\n",
    "docket_phrase2[:5]"
   ]
  },
  {
   "cell_type": "code",
   "execution_count": 150,
   "metadata": {},
   "outputs": [],
   "source": [
    "unigram_sentences_filepath = 'docket_texts/train/DT/unigram_nltk_newsop2.txt'"
   ]
  },
  {
   "cell_type": "code",
   "execution_count": 151,
   "metadata": {},
   "outputs": [
    {
     "name": "stdout",
     "output_type": "stream",
     "text": [
      "Wall time: 4.99 ms\n"
     ]
    }
   ],
   "source": [
    "%%time\n",
    "# turn the lemmatized corpus into unigram sentences\n",
    "with codecs.open(unigram_sentences_filepath, 'w', encoding = 'utf_8') as f:\n",
    "    for sentence in docket_phrase2:\n",
    "        f.write(sentence + '\\n')"
   ]
  },
  {
   "cell_type": "code",
   "execution_count": 152,
   "metadata": {},
   "outputs": [],
   "source": [
    "unigram_sentences = LineSentence(unigram_sentences_filepath)"
   ]
  },
  {
   "cell_type": "code",
   "execution_count": 153,
   "metadata": {},
   "outputs": [],
   "source": [
    "bigram_model_filepath = 'docket_texts/train/DT/bigram_model_newsop2' "
   ]
  },
  {
   "cell_type": "code",
   "execution_count": 154,
   "metadata": {},
   "outputs": [
    {
     "name": "stdout",
     "output_type": "stream",
     "text": [
      "Wall time: 9.97 ms\n"
     ]
    }
   ],
   "source": [
    "%%time\n",
    "\n",
    "# store our bigram model\n",
    "bigram_model = Phrases(unigram_sentences)\n",
    "bigram_model.save(bigram_model_filepath)\n",
    "    \n",
    "# load the finished model from disk if we don't want to run this again\n",
    "#bigram_model = Phrases.load(bigram_model_filepath)"
   ]
  },
  {
   "cell_type": "code",
   "execution_count": 155,
   "metadata": {},
   "outputs": [],
   "source": [
    "bigram_sentences_filepath = 'docket_texts/train/DT/bigram_sentences_newsop2.txt'"
   ]
  },
  {
   "cell_type": "code",
   "execution_count": 156,
   "metadata": {},
   "outputs": [
    {
     "name": "stdout",
     "output_type": "stream",
     "text": [
      "Wall time: 15 ms\n"
     ]
    },
    {
     "name": "stderr",
     "output_type": "stream",
     "text": [
      "c:\\users\\inves\\appdata\\local\\programs\\python\\python35\\lib\\site-packages\\gensim\\models\\phrases.py:494: UserWarning: For a faster implementation, use the gensim.models.phrases.Phraser class\n",
      "  warnings.warn(\"For a faster implementation, use the gensim.models.phrases.Phraser class\")\n"
     ]
    }
   ],
   "source": [
    "%%time\n",
    "\n",
    "# apply the bigram model, and write it to file\n",
    "with codecs.open(bigram_sentences_filepath, 'w', encoding = 'utf_8') as f:\n",
    "    for unigram_sentence in unigram_sentences:\n",
    "        bigram_sentence = ' '.join(bigram_model[unigram_sentence])\n",
    "        f.write(bigram_sentence + '\\n')"
   ]
  },
  {
   "cell_type": "code",
   "execution_count": 157,
   "metadata": {},
   "outputs": [],
   "source": [
    "bigram_sentences = LineSentence(bigram_sentences_filepath)"
   ]
  },
  {
   "cell_type": "code",
   "execution_count": 158,
   "metadata": {},
   "outputs": [
    {
     "name": "stdout",
     "output_type": "stream",
     "text": [
      "\n",
      "Unigram sentence:\n",
      "status report llc kehrli enter date\n",
      "corporate disclosure statement enter date\n",
      "status report propose brief schedule llc kehrli enter date\n",
      "status report llc kehrli enter date\n",
      "propose find fact llc kehrli enter date\n",
      "witness list llc kehrli enter date\n",
      "status report llc kehrli enter date\n",
      "status report llc kehrli enter date\n",
      "rule statement file llc enter date\n",
      "civil cover sheet file enter date\n",
      "\n",
      "Bigram sentence:\n",
      "status_report llc_kehrli enter date\n",
      "corporate disclosure statement enter date\n",
      "status_report propose brief schedule llc_kehrli enter date\n",
      "status_report llc_kehrli enter date\n",
      "propose_find fact llc_kehrli enter date\n",
      "witness list llc_kehrli enter date\n",
      "status_report llc_kehrli enter date\n",
      "status_report llc_kehrli enter date\n",
      "rule statement file llc enter date\n",
      "civil_cover sheet file enter date\n"
     ]
    }
   ],
   "source": [
    "print('\\nUnigram sentence:')\n",
    "for unigram_sentence in it.islice(unigram_sentences, 0, 10):\n",
    "    print(' '.join(unigram_sentence))\n",
    "print('\\nBigram sentence:')\n",
    "for bigram_sentence in it.islice(bigram_sentences, 0, 10):\n",
    "    print(' '.join(bigram_sentence))"
   ]
  },
  {
   "cell_type": "code",
   "execution_count": 159,
   "metadata": {},
   "outputs": [],
   "source": [
    "trigram_model_filepath = 'docket_texts/train/DT/trigram_model_newsop2'"
   ]
  },
  {
   "cell_type": "code",
   "execution_count": 160,
   "metadata": {},
   "outputs": [
    {
     "name": "stdout",
     "output_type": "stream",
     "text": [
      "Wall time: 5.96 ms\n"
     ]
    }
   ],
   "source": [
    "%%time\n",
    "\n",
    "# again, using Phrases to attach more words to phrases already formed\n",
    "trigram_model = Phrases(bigram_sentences)\n",
    "trigram_model.save(trigram_model_filepath)\n",
    "\n",
    "# load the finished model from disk\n",
    "#trigram_model = Phrases.load(trigram_model_filepath)"
   ]
  },
  {
   "cell_type": "code",
   "execution_count": 161,
   "metadata": {},
   "outputs": [],
   "source": [
    "trigram_sentences_filepath = 'docket_texts/train/DT/trigram_sentences_newsop2.txt'"
   ]
  },
  {
   "cell_type": "code",
   "execution_count": 162,
   "metadata": {},
   "outputs": [
    {
     "name": "stdout",
     "output_type": "stream",
     "text": [
      "Wall time: 12 ms\n"
     ]
    },
    {
     "name": "stderr",
     "output_type": "stream",
     "text": [
      "c:\\users\\inves\\appdata\\local\\programs\\python\\python35\\lib\\site-packages\\gensim\\models\\phrases.py:494: UserWarning: For a faster implementation, use the gensim.models.phrases.Phraser class\n",
      "  warnings.warn(\"For a faster implementation, use the gensim.models.phrases.Phraser class\")\n"
     ]
    }
   ],
   "source": [
    "%%time\n",
    "\n",
    "with codecs.open(trigram_sentences_filepath, 'w', encoding = 'utf_8') as f:\n",
    "    for bigram_sentence in bigram_sentences:\n",
    "        #print('Bi', bigram_sentence)\n",
    "        trigram_sentence = ' '.join(trigram_model[bigram_sentence])\n",
    "        #print('Tri', trigram_sentence)\n",
    "        f.write(trigram_sentence + '\\n')"
   ]
  },
  {
   "cell_type": "code",
   "execution_count": 163,
   "metadata": {},
   "outputs": [],
   "source": [
    "trigram_sentences = LineSentence(trigram_sentences_filepath)"
   ]
  },
  {
   "cell_type": "code",
   "execution_count": 164,
   "metadata": {},
   "outputs": [
    {
     "name": "stdout",
     "output_type": "stream",
     "text": [
      "Original text:\n",
      "['', '', '', '', ''] \n",
      "\n",
      "\n",
      "UNIGRAM Sentence:\n",
      "status report llc kehrli enter date\n",
      "corporate disclosure statement enter date\n",
      "status report propose brief schedule llc kehrli enter date\n",
      "status report llc kehrli enter date\n",
      "propose find fact llc kehrli enter date\n",
      "\n",
      "BIGRAM Sentence:\n",
      "status_report llc_kehrli enter date\n",
      "corporate disclosure statement enter date\n",
      "status_report propose brief schedule llc_kehrli enter date\n",
      "status_report llc_kehrli enter date\n",
      "propose_find fact llc_kehrli enter date\n",
      "\n",
      "TRIGRAM Sentence:\n",
      "status_report llc_kehrli enter date\n",
      "corporate_disclosure statement enter date\n",
      "status_report propose brief schedule llc_kehrli enter date\n",
      "status_report llc_kehrli enter date\n",
      "propose_find fact llc_kehrli enter date\n"
     ]
    }
   ],
   "source": [
    "start = 0\n",
    "finish = 5\n",
    "print('Original text:')\n",
    "print(docket_phrase2[start:finish], '\\n')\n",
    "\n",
    "print('\\nUNIGRAM Sentence:')\n",
    "for unigram_sentence in it.islice(unigram_sentences, start, finish):\n",
    "    print(' '.join(unigram_sentence))\n",
    "print('\\nBIGRAM Sentence:')\n",
    "for bigram_sentence in it.islice(bigram_sentences, start, finish):\n",
    "    print(' '.join(bigram_sentence))\n",
    "print('\\nTRIGRAM Sentence:')\n",
    "for trigram_sentence in it.islice(trigram_sentences, start, finish):\n",
    "    print(' '.join(trigram_sentence))"
   ]
  },
  {
   "cell_type": "code",
   "execution_count": 165,
   "metadata": {},
   "outputs": [],
   "source": [
    "def trigram_transform(texts):\n",
    "    display = False\n",
    "    texts = str(texts)\n",
    "    trigram_output = ''\n",
    "    #print(texts)\n",
    "\n",
    "    remove_trigram = ['calendar_day', 'court_notice_intend', 'minute_entry_proceeding_hold', 'court_reportertranscriber_abovecaptioned_matter',\n",
    "                      'redaction_calendar_day', 'rule_statement', 'obtain_pacer', 'may_obtain_pacer', 'reportertranscriber_abovecaptioned_matter',\n",
    "                      'redact_transcript_deadline', 'send_chamber', \"official_transcript_notice_give\", \"notice_intent_request\", \"proceed_hold\", \n",
    "                      \"fee_receipt_number\", \"civil_procedure\", \"pursuant_frcp\", \"official_transcript_conference\", \n",
    "                      \"purchase_reportertranscriber_deadline_release\", \"et_al\", \"mail_chamber\", \"transcript_restriction\", \"redaction_transcript\", \n",
    "                      \"transcript_view_public_terminal\", \"transcript_make_remotely\", \"associated_et_al\", \"electronically_available_public_without\", \n",
    "                      \"genesys_id\", \"release_transcript_restriction\", \"adar_bay\", \"redaction_request_due\", \"new_york\", \"official_transcript_conference\", \n",
    "                      \"transcript_make_remotely\", \"transcript_proceeding_conference_hold\", \"redaction_transcript\",\n",
    "                      'affidavit_jr._c.p.a', 'corporate_parent', 'certain_underwriter', 'federal_rule_civil_procedure', 'redaction_request', \n",
    "                      'official_transcript', 'rule_disclosure', 'rule_corporate_disclosure', 'place_vault', 'public_without_redaction_calendar', \n",
    "                      'purchase_deadline_release_transcript', 'transcript_proceeding_hold', 'transcript_remotely_electronically_available',\n",
    "                      'minute_entry_hold', 'discovery_hear_hold', 'jury_trial_hold', \"sign_judge\",'place_vault']\n",
    "\n",
    "    if texts == None:\n",
    "        return None\n",
    "    \n",
    "    unigram_review = []\n",
    "    for word in texts.split():\n",
    "        unigram_review.append(word)\n",
    "    if display:\n",
    "        print('Uni: ', unigram_review)\n",
    "    bigram_review = bigram_model[unigram_review]\n",
    "    if display:\n",
    "        print('Bi: ', bigram_review)\n",
    "    trigram_review = trigram_model[bigram_review]\n",
    "    if display:\n",
    "        print('Tri: ', trigram_review)\n",
    "    trigram_review = [phrase for phrase in trigram_review if phrase not in remove_trigram]\n",
    "    if display:\n",
    "        print('Tri removed: ', trigram_review)\n",
    "    trigram_output += ' '.join(trigram_review)\n",
    "    \n",
    "    return trigram_output"
   ]
  },
  {
   "cell_type": "code",
   "execution_count": 166,
   "metadata": {},
   "outputs": [
    {
     "name": "stderr",
     "output_type": "stream",
     "text": [
      "c:\\users\\inves\\appdata\\local\\programs\\python\\python35\\lib\\site-packages\\gensim\\models\\phrases.py:494: UserWarning: For a faster implementation, use the gensim.models.phrases.Phraser class\n",
      "  warnings.warn(\"For a faster implementation, use the gensim.models.phrases.Phraser class\")\n"
     ]
    }
   ],
   "source": [
    "docket_phrase3 = [trigram_transform(text) for text in docket_phrase2]"
   ]
  },
  {
   "cell_type": "code",
   "execution_count": 167,
   "metadata": {},
   "outputs": [
    {
     "name": "stdout",
     "output_type": "stream",
     "text": [
      "['', '', '', '', '']\n",
      "['', '', '', '', '']\n"
     ]
    },
    {
     "data": {
      "text/plain": [
       "121"
      ]
     },
     "execution_count": 167,
     "metadata": {},
     "output_type": "execute_result"
    }
   ],
   "source": [
    "print(docket_phrase2[:5])\n",
    "print(docket_phrase3[:5])\n",
    "len(set(docket_phrase3))"
   ]
  },
  {
   "cell_type": "code",
   "execution_count": 168,
   "metadata": {},
   "outputs": [
    {
     "data": {
      "text/plain": [
       "(3244, 14)"
      ]
     },
     "execution_count": 168,
     "metadata": {},
     "output_type": "execute_result"
    }
   ],
   "source": [
    "new_df['phrases'] = pd.Series(docket_phrase3)\n",
    "new_df.shape"
   ]
  },
  {
   "cell_type": "code",
   "execution_count": 169,
   "metadata": {},
   "outputs": [
    {
     "data": {
      "text/plain": [
       "Index(['Original Docket Text', 'Organization Portion', 'Name Portion',\n",
       "       'Identifying Org and Name', 'Stripped Org and Name', 'normalized',\n",
       "       'tokenize', 'nostop', 'DT Topics', 'NoAction',\n",
       "       'Removed unnecessary POS & vocab DT', 'lemmed', 'phrases', 'cleaned'],\n",
       "      dtype='object')"
      ]
     },
     "execution_count": 169,
     "metadata": {},
     "output_type": "execute_result"
    }
   ],
   "source": [
    "new_df.columns"
   ]
  },
  {
   "cell_type": "code",
   "execution_count": 170,
   "metadata": {},
   "outputs": [
    {
     "name": "stdout",
     "output_type": "stream",
     "text": [
      "orignal text: \n",
      "Case assigned to Judge Ann M Donnelly and Magistrate Judge Vera M. Scanlon. Please download and review the Individual Practices of the assigned Judges, located on our website. Attorneys are responsible for providing courtesy copies to judges where their Individual Practices require such. (Bowens, Priscilla) (Entered: 03/11/2016) \n",
      "\n",
      "org and name removed: \n",
      "Case assigned to Judge and Magistrate Judge . Please download and review the , located on our website . Attorneys are responsible for providing courtesy copies to judges where their Individual Practices require such . ( , ) ( Entered : 03/11/2016 ) \n",
      "\n",
      "normalized: \n",
      "case assigned to judge and magistrate judge please download and review the located on our website attorneys are responsible for providing courtesy copies to judges where their individual practices require such entered date  \n",
      "\n",
      "stopwords removed: \n",
      "case assigned judge magistrate judge please download review located website attorneys responsible providing courtesy copies judges individual practices require entered date \n",
      "\n",
      "after lemmetization: \n",
      " \n",
      "\n",
      "after phrase modeling: \n",
      " \n",
      "\n"
     ]
    }
   ],
   "source": [
    "i = 1\n",
    "print('orignal text: ')\n",
    "print(new_df['Original Docket Text'].iloc[i], '\\n')\n",
    "print('org and name removed: ')\n",
    "print(new_df['Stripped Org and Name'].iloc[i], '\\n')\n",
    "print('normalized: ')\n",
    "print(new_df['normalized'].iloc[i], '\\n')\n",
    "print('stopwords removed: ')\n",
    "print(' '.join(new_df['nostop'].iloc[i]), '\\n')\n",
    "print('after lemmetization: ')\n",
    "print(new_df['lemmed'].iloc[i], '\\n')\n",
    "print('after phrase modeling: ')\n",
    "print(new_df['phrases'].iloc[i], '\\n')"
   ]
  },
  {
   "cell_type": "markdown",
   "metadata": {},
   "source": [
    "### 7a. Some stuff needs to be removed, per prior experience"
   ]
  },
  {
   "cell_type": "code",
   "execution_count": 171,
   "metadata": {},
   "outputs": [],
   "source": [
    "remove_pos = list(pd.read_excel('NLP_to_be_removed.xlsx', sheetname = 0, header = None)[0])\n",
    "remove_word = list(pd.read_excel('NLP_to_be_removed.xlsx', sheetname = 1, header = None)[0])\n",
    "remove_trigram = list(pd.read_excel('NLP_to_be_removed.xlsx', sheetname = 2, header = None)[0])"
   ]
  },
  {
   "cell_type": "code",
   "execution_count": 172,
   "metadata": {},
   "outputs": [],
   "source": [
    "def remove_unnecessary(text):\n",
    "    new_text = []\n",
    "    text = text.split(' ')\n",
    "    for word in text:\n",
    "        if word not in remove_word and word not in remove_trigram:\n",
    "            new_text.append(word)\n",
    "    return ' '.join(new_text)"
   ]
  },
  {
   "cell_type": "code",
   "execution_count": 173,
   "metadata": {},
   "outputs": [
    {
     "name": "stdout",
     "output_type": "stream",
     "text": [
      "(3244, 14)\n"
     ]
    },
    {
     "data": {
      "text/html": [
       "<div>\n",
       "<table border=\"1\" class=\"dataframe\">\n",
       "  <thead>\n",
       "    <tr style=\"text-align: right;\">\n",
       "      <th></th>\n",
       "      <th>Original Docket Text</th>\n",
       "      <th>Organization Portion</th>\n",
       "      <th>Name Portion</th>\n",
       "      <th>Identifying Org and Name</th>\n",
       "      <th>Stripped Org and Name</th>\n",
       "      <th>normalized</th>\n",
       "      <th>tokenize</th>\n",
       "      <th>nostop</th>\n",
       "      <th>DT Topics</th>\n",
       "      <th>NoAction</th>\n",
       "      <th>Removed unnecessary POS &amp; vocab DT</th>\n",
       "      <th>lemmed</th>\n",
       "      <th>phrases</th>\n",
       "      <th>cleaned</th>\n",
       "    </tr>\n",
       "  </thead>\n",
       "  <tbody>\n",
       "    <tr>\n",
       "      <th>0</th>\n",
       "      <td>COMPLAINT against Cardiogenics Holdings, Inc. ...</td>\n",
       "      <td>Cardiogenics Holdings , Inc. LG Capital Funding</td>\n",
       "      <td>( Steinmetz Michael Bowens Priscilla</td>\n",
       "      <td>COMPLAINT against -ORG- -ORG- -ORG- -ORG- fili...</td>\n",
       "      <td>COMPLAINT against filing fee $ 400 , receipt n...</td>\n",
       "      <td>complaint against filing fee receipt number wa...</td>\n",
       "      <td>[complaint, against, filing, fee, receipt, num...</td>\n",
       "      <td>[complaint, filing, fee, receipt, number, disc...</td>\n",
       "      <td>Complaints, Motions, Service of Process</td>\n",
       "      <td>0</td>\n",
       "      <td></td>\n",
       "      <td></td>\n",
       "      <td></td>\n",
       "      <td></td>\n",
       "    </tr>\n",
       "    <tr>\n",
       "      <th>1</th>\n",
       "      <td>Case assigned to Judge Ann M Donnelly and Magi...</td>\n",
       "      <td>Individual Practices of the assigned Judges</td>\n",
       "      <td>Ann M Donnelly Vera M. Scanlon Bowens Priscilla</td>\n",
       "      <td>Case assigned to Judge -NAME- -NAME- -NAME- an...</td>\n",
       "      <td>Case assigned to Judge and Magistrate Judge . ...</td>\n",
       "      <td>case assigned to judge and magistrate judge pl...</td>\n",
       "      <td>[case, assigned, to, judge, and, magistrate, j...</td>\n",
       "      <td>[case, assigned, judge, magistrate, judge, ple...</td>\n",
       "      <td>NoAction</td>\n",
       "      <td>1</td>\n",
       "      <td></td>\n",
       "      <td></td>\n",
       "      <td></td>\n",
       "      <td></td>\n",
       "    </tr>\n",
       "    <tr>\n",
       "      <th>2</th>\n",
       "      <td>Summons Issued as to Cardiogenics Holdings, In...</td>\n",
       "      <td>Cardiogenics Holdings</td>\n",
       "      <td>Bowens Priscilla</td>\n",
       "      <td>Summons Issued as to -ORG- -ORG- , Inc.. ( -NA...</td>\n",
       "      <td>Summons Issued as to , Inc.. ( , ) ( Entered :...</td>\n",
       "      <td>summons issued as to inc entered date</td>\n",
       "      <td>[summons, issued, as, to, inc, entered, date]</td>\n",
       "      <td>[summons, issued, inc, entered, date]</td>\n",
       "      <td>Service of Process</td>\n",
       "      <td>0</td>\n",
       "      <td></td>\n",
       "      <td></td>\n",
       "      <td></td>\n",
       "      <td></td>\n",
       "    </tr>\n",
       "    <tr>\n",
       "      <th>3</th>\n",
       "      <td>NOTICE - emailed attorney regarding missing se...</td>\n",
       "      <td></td>\n",
       "      <td>Bowens Priscilla</td>\n",
       "      <td>NOTICE - emailed attorney regarding missing se...</td>\n",
       "      <td>NOTICE - emailed attorney regarding missing se...</td>\n",
       "      <td>notice emailed attorney regarding missing seco...</td>\n",
       "      <td>[notice, emailed, attorney, regarding, missing...</td>\n",
       "      <td>[notice, emailed, attorney, regarding, missing...</td>\n",
       "      <td>NoAction, Notices</td>\n",
       "      <td>1</td>\n",
       "      <td></td>\n",
       "      <td></td>\n",
       "      <td></td>\n",
       "      <td></td>\n",
       "    </tr>\n",
       "    <tr>\n",
       "      <th>4</th>\n",
       "      <td>In accordance with Rule 73 of the Federal Rule...</td>\n",
       "      <td></td>\n",
       "      <td>Bowens Priscilla</td>\n",
       "      <td>In accordance with Rule 73 of the Federal Rule...</td>\n",
       "      <td>In accordance with Rule 73 of the Federal Rule...</td>\n",
       "      <td>in accordance with rule of the federal rules o...</td>\n",
       "      <td>[in, accordance, with, rule, of, the, federal,...</td>\n",
       "      <td>[accordance, rule, federal, rules, civil, proc...</td>\n",
       "      <td>Judgment, Motions, Order, Notices</td>\n",
       "      <td>0</td>\n",
       "      <td></td>\n",
       "      <td></td>\n",
       "      <td></td>\n",
       "      <td></td>\n",
       "    </tr>\n",
       "  </tbody>\n",
       "</table>\n",
       "</div>"
      ],
      "text/plain": [
       "                                Original Docket Text  \\\n",
       "0  COMPLAINT against Cardiogenics Holdings, Inc. ...   \n",
       "1  Case assigned to Judge Ann M Donnelly and Magi...   \n",
       "2  Summons Issued as to Cardiogenics Holdings, In...   \n",
       "3  NOTICE - emailed attorney regarding missing se...   \n",
       "4  In accordance with Rule 73 of the Federal Rule...   \n",
       "\n",
       "                              Organization Portion  \\\n",
       "0  Cardiogenics Holdings , Inc. LG Capital Funding   \n",
       "1      Individual Practices of the assigned Judges   \n",
       "2                            Cardiogenics Holdings   \n",
       "3                                                    \n",
       "4                                                    \n",
       "\n",
       "                                      Name Portion  \\\n",
       "0             ( Steinmetz Michael Bowens Priscilla   \n",
       "1  Ann M Donnelly Vera M. Scanlon Bowens Priscilla   \n",
       "2                                 Bowens Priscilla   \n",
       "3                                 Bowens Priscilla   \n",
       "4                                 Bowens Priscilla   \n",
       "\n",
       "                            Identifying Org and Name  \\\n",
       "0  COMPLAINT against -ORG- -ORG- -ORG- -ORG- fili...   \n",
       "1  Case assigned to Judge -NAME- -NAME- -NAME- an...   \n",
       "2  Summons Issued as to -ORG- -ORG- , Inc.. ( -NA...   \n",
       "3  NOTICE - emailed attorney regarding missing se...   \n",
       "4  In accordance with Rule 73 of the Federal Rule...   \n",
       "\n",
       "                               Stripped Org and Name  \\\n",
       "0  COMPLAINT against filing fee $ 400 , receipt n...   \n",
       "1  Case assigned to Judge and Magistrate Judge . ...   \n",
       "2  Summons Issued as to , Inc.. ( , ) ( Entered :...   \n",
       "3  NOTICE - emailed attorney regarding missing se...   \n",
       "4  In accordance with Rule 73 of the Federal Rule...   \n",
       "\n",
       "                                          normalized  \\\n",
       "0  complaint against filing fee receipt number wa...   \n",
       "1  case assigned to judge and magistrate judge pl...   \n",
       "2             summons issued as to inc entered date    \n",
       "3  notice emailed attorney regarding missing seco...   \n",
       "4  in accordance with rule of the federal rules o...   \n",
       "\n",
       "                                            tokenize  \\\n",
       "0  [complaint, against, filing, fee, receipt, num...   \n",
       "1  [case, assigned, to, judge, and, magistrate, j...   \n",
       "2      [summons, issued, as, to, inc, entered, date]   \n",
       "3  [notice, emailed, attorney, regarding, missing...   \n",
       "4  [in, accordance, with, rule, of, the, federal,...   \n",
       "\n",
       "                                              nostop  \\\n",
       "0  [complaint, filing, fee, receipt, number, disc...   \n",
       "1  [case, assigned, judge, magistrate, judge, ple...   \n",
       "2              [summons, issued, inc, entered, date]   \n",
       "3  [notice, emailed, attorney, regarding, missing...   \n",
       "4  [accordance, rule, federal, rules, civil, proc...   \n",
       "\n",
       "                                 DT Topics  NoAction  \\\n",
       "0  Complaints, Motions, Service of Process         0   \n",
       "1                                 NoAction         1   \n",
       "2                       Service of Process         0   \n",
       "3                        NoAction, Notices         1   \n",
       "4        Judgment, Motions, Order, Notices         0   \n",
       "\n",
       "  Removed unnecessary POS & vocab DT lemmed phrases cleaned  \n",
       "0                                                            \n",
       "1                                                            \n",
       "2                                                            \n",
       "3                                                            \n",
       "4                                                            "
      ]
     },
     "execution_count": 173,
     "metadata": {},
     "output_type": "execute_result"
    }
   ],
   "source": [
    "new_df['cleaned'] = new_df['phrases'].apply(remove_unnecessary)\n",
    "print(new_df.shape)\n",
    "new_df.head()"
   ]
  },
  {
   "cell_type": "code",
   "execution_count": 184,
   "metadata": {},
   "outputs": [
    {
     "data": {
      "text/html": [
       "<div>\n",
       "<table border=\"1\" class=\"dataframe\">\n",
       "  <thead>\n",
       "    <tr style=\"text-align: right;\">\n",
       "      <th></th>\n",
       "      <th>Original Docket Text</th>\n",
       "      <th>Organization Portion</th>\n",
       "      <th>Name Portion</th>\n",
       "      <th>Identifying Org and Name</th>\n",
       "      <th>Stripped Org and Name</th>\n",
       "      <th>normalized</th>\n",
       "      <th>tokenize</th>\n",
       "      <th>nostop</th>\n",
       "      <th>DT Topics</th>\n",
       "      <th>NoAction</th>\n",
       "      <th>Removed unnecessary POS &amp; vocab DT</th>\n",
       "      <th>lemmed</th>\n",
       "      <th>phrases</th>\n",
       "      <th>cleaned</th>\n",
       "    </tr>\n",
       "  </thead>\n",
       "  <tbody>\n",
       "  </tbody>\n",
       "</table>\n",
       "</div>"
      ],
      "text/plain": [
       "Empty DataFrame\n",
       "Columns: [Original Docket Text, Organization Portion, Name Portion, Identifying Org and Name, Stripped Org and Name, normalized, tokenize, nostop, DT Topics, NoAction, Removed unnecessary POS & vocab DT, lemmed, phrases, cleaned]\n",
       "Index: []"
      ]
     },
     "execution_count": 184,
     "metadata": {},
     "output_type": "execute_result"
    }
   ],
   "source": [
    "text = \"ORDER TO SHOW CAUSE as to why an order pursuant to Fed. R. Civ. P. Rule 65 and 28 U.S.C. �2201 should not be entered, pending final determination of this action. Show Cause Hearing set for 3/30/2017 at 04:00 PM in Courtroom 4D South before Judge Nicholas G. Garaufis. Show Cause Response due by 3/23/2017. Reply papers due by 3/28/2017 at 5:00 p.m. So Ordered by Judge Nicholas G. Garaufis on 3/16/2017. (Lee, Tiffeny) (Entered: 03/17/2017)\"\n",
    "new_df[new_df['Original Docket Text'] == text].head()"
   ]
  },
  {
   "cell_type": "code",
   "execution_count": 157,
   "metadata": {},
   "outputs": [],
   "source": [
    "filename = 'docket_texts/train/DT/basic_cleaned.pickle'"
   ]
  },
  {
   "cell_type": "code",
   "execution_count": 158,
   "metadata": {},
   "outputs": [],
   "source": [
    "#to save\n",
    "with open(filename, 'wb') as handle: \n",
    "    pickle.dump(new_df, handle, protocol = pickle.HIGHEST_PROTOCOL)"
   ]
  },
  {
   "cell_type": "code",
   "execution_count": 159,
   "metadata": {},
   "outputs": [],
   "source": [
    "new_df[['Original Docket Text', 'normalized', 'DT Topics', 'lemmed', 'phrases']].drop_duplicates().to_csv('Check if keywords working.csv', index = False)"
   ]
  },
  {
   "cell_type": "code",
   "execution_count": 161,
   "metadata": {},
   "outputs": [
    {
     "name": "stdout",
     "output_type": "stream",
     "text": [
      "shape before dedupe: (3244, 13)\n",
      "shape after dedupe: (3203, 5)\n"
     ]
    }
   ],
   "source": [
    "print('shape before dedupe: {}'.format(new_df.shape))\n",
    "print('shape after dedupe: {}'.format(new_df[['Original Docket Text', 'normalized', 'DT Topics', 'lemmed', 'phrases']].drop_duplicates().shape))"
   ]
  },
  {
   "cell_type": "markdown",
   "metadata": {},
   "source": [
    "### Attach it to the file Chris sent me"
   ]
  },
  {
   "cell_type": "code",
   "execution_count": 57,
   "metadata": {},
   "outputs": [
    {
     "data": {
      "text/plain": [
       "(3203, 7)"
      ]
     },
     "execution_count": 57,
     "metadata": {},
     "output_type": "execute_result"
    }
   ],
   "source": [
    "chris_file = pd.read_excel(r'Check if keywords working - Sept 11.xlsx')\n",
    "chris_file.shape"
   ]
  },
  {
   "cell_type": "code",
   "execution_count": 177,
   "metadata": {},
   "outputs": [],
   "source": [
    "chris_file['File C'] = 'C'"
   ]
  },
  {
   "cell_type": "code",
   "execution_count": 178,
   "metadata": {},
   "outputs": [
    {
     "data": {
      "text/html": [
       "<div>\n",
       "<table border=\"1\" class=\"dataframe\">\n",
       "  <thead>\n",
       "    <tr style=\"text-align: right;\">\n",
       "      <th></th>\n",
       "      <th>Original Docket Text</th>\n",
       "      <th>normalized</th>\n",
       "      <th>DT Topics</th>\n",
       "      <th>lemmed</th>\n",
       "      <th>phrases</th>\n",
       "      <th>N</th>\n",
       "      <th>If Action</th>\n",
       "      <th>File C</th>\n",
       "    </tr>\n",
       "  </thead>\n",
       "  <tbody>\n",
       "    <tr>\n",
       "      <th>0</th>\n",
       "      <td>ORDER: The Court held an initial conference to...</td>\n",
       "      <td>order the court held an initial conference tod...</td>\n",
       "      <td>Settlement, Notices, Judgment, Motions, Discov...</td>\n",
       "      <td>NaN</td>\n",
       "      <td>NaN</td>\n",
       "      <td>Y</td>\n",
       "      <td>Attorney</td>\n",
       "      <td>C</td>\n",
       "    </tr>\n",
       "    <tr>\n",
       "      <th>1</th>\n",
       "      <td>SCHEDULING ORDER. All counsel in this civil ac...</td>\n",
       "      <td>scheduling order all counsel in this civil act...</td>\n",
       "      <td>Settlement, Notices, Judgment, Motions, Discov...</td>\n",
       "      <td>NaN</td>\n",
       "      <td>NaN</td>\n",
       "      <td>Y</td>\n",
       "      <td>Attorney</td>\n",
       "      <td>C</td>\n",
       "    </tr>\n",
       "    <tr>\n",
       "      <th>2</th>\n",
       "      <td>Statement of American Express Regarding Prpose...</td>\n",
       "      <td>statement of regarding prposed settlement in m...</td>\n",
       "      <td>Settlement</td>\n",
       "      <td>NaN</td>\n",
       "      <td>NaN</td>\n",
       "      <td>Y</td>\n",
       "      <td>Attorney</td>\n",
       "      <td>C</td>\n",
       "    </tr>\n",
       "    <tr>\n",
       "      <th>3</th>\n",
       "      <td>TRANSCRIPT of Proceedings re: SETTLEMENT held ...</td>\n",
       "      <td>transcript of proceedings re settlement held o...</td>\n",
       "      <td>Settlement</td>\n",
       "      <td>NaN</td>\n",
       "      <td>NaN</td>\n",
       "      <td>Y</td>\n",
       "      <td>Attorney</td>\n",
       "      <td>C</td>\n",
       "    </tr>\n",
       "    <tr>\n",
       "      <th>4</th>\n",
       "      <td>AFFIDAVIT of Service for Order Adopting Report...</td>\n",
       "      <td>affidavit of service for order adopting report...</td>\n",
       "      <td>Service of Process, Order</td>\n",
       "      <td>NaN</td>\n",
       "      <td>NaN</td>\n",
       "      <td>Y</td>\n",
       "      <td>Assistant</td>\n",
       "      <td>C</td>\n",
       "    </tr>\n",
       "  </tbody>\n",
       "</table>\n",
       "</div>"
      ],
      "text/plain": [
       "                                Original Docket Text  \\\n",
       "0  ORDER: The Court held an initial conference to...   \n",
       "1  SCHEDULING ORDER. All counsel in this civil ac...   \n",
       "2  Statement of American Express Regarding Prpose...   \n",
       "3  TRANSCRIPT of Proceedings re: SETTLEMENT held ...   \n",
       "4  AFFIDAVIT of Service for Order Adopting Report...   \n",
       "\n",
       "                                          normalized  \\\n",
       "0  order the court held an initial conference tod...   \n",
       "1  scheduling order all counsel in this civil act...   \n",
       "2  statement of regarding prposed settlement in m...   \n",
       "3  transcript of proceedings re settlement held o...   \n",
       "4  affidavit of service for order adopting report...   \n",
       "\n",
       "                                           DT Topics lemmed phrases  N  \\\n",
       "0  Settlement, Notices, Judgment, Motions, Discov...    NaN     NaN  Y   \n",
       "1  Settlement, Notices, Judgment, Motions, Discov...    NaN     NaN  Y   \n",
       "2                                         Settlement    NaN     NaN  Y   \n",
       "3                                         Settlement    NaN     NaN  Y   \n",
       "4                          Service of Process, Order    NaN     NaN  Y   \n",
       "\n",
       "   If Action File C  \n",
       "0   Attorney      C  \n",
       "1   Attorney      C  \n",
       "2   Attorney      C  \n",
       "3   Attorney      C  \n",
       "4  Assistant      C  "
      ]
     },
     "execution_count": 178,
     "metadata": {},
     "output_type": "execute_result"
    }
   ],
   "source": [
    "chris_file.head()"
   ]
  },
  {
   "cell_type": "code",
   "execution_count": 185,
   "metadata": {},
   "outputs": [
    {
     "data": {
      "text/html": [
       "<div>\n",
       "<table border=\"1\" class=\"dataframe\">\n",
       "  <thead>\n",
       "    <tr style=\"text-align: right;\">\n",
       "      <th></th>\n",
       "      <th>Original Docket Text</th>\n",
       "      <th>normalized</th>\n",
       "      <th>DT Topics</th>\n",
       "      <th>lemmed</th>\n",
       "      <th>phrases</th>\n",
       "      <th>N</th>\n",
       "      <th>If Action</th>\n",
       "      <th>File C</th>\n",
       "    </tr>\n",
       "  </thead>\n",
       "  <tbody>\n",
       "    <tr>\n",
       "      <th>146</th>\n",
       "      <td>ORDER TO SHOW CAUSE as to why an order pursuan...</td>\n",
       "      <td>order to show cause as to why an order pursuan...</td>\n",
       "      <td>Other Answers, Motions, Order, Letter and Resp...</td>\n",
       "      <td>NaN</td>\n",
       "      <td>NaN</td>\n",
       "      <td>Y</td>\n",
       "      <td>Attorney; Assistant</td>\n",
       "      <td>C</td>\n",
       "    </tr>\n",
       "  </tbody>\n",
       "</table>\n",
       "</div>"
      ],
      "text/plain": [
       "                                  Original Docket Text  \\\n",
       "146  ORDER TO SHOW CAUSE as to why an order pursuan...   \n",
       "\n",
       "                                            normalized  \\\n",
       "146  order to show cause as to why an order pursuan...   \n",
       "\n",
       "                                             DT Topics lemmed phrases  N  \\\n",
       "146  Other Answers, Motions, Order, Letter and Resp...    NaN     NaN  Y   \n",
       "\n",
       "               If Action File C  \n",
       "146  Attorney; Assistant      C  "
      ]
     },
     "execution_count": 185,
     "metadata": {},
     "output_type": "execute_result"
    }
   ],
   "source": [
    "chris_file[chris_file['Original Docket Text'] == text].head()"
   ]
  },
  {
   "cell_type": "code",
   "execution_count": 122,
   "metadata": {},
   "outputs": [
    {
     "data": {
      "text/plain": [
       "Index(['Original Docket Text', 'Organization Portion', 'Name Portion',\n",
       "       'Identifying Org and Name', 'Stripped Org and Name', 'normalized',\n",
       "       'tokenize', 'nostop', 'DT Topics', 'NoAction',\n",
       "       'Removed unnecessary POS & vocab DT', 'lemmed', 'phrases', 'cleaned'],\n",
       "      dtype='object')"
      ]
     },
     "execution_count": 122,
     "metadata": {},
     "output_type": "execute_result"
    }
   ],
   "source": [
    "new_df.columns"
   ]
  },
  {
   "cell_type": "code",
   "execution_count": 179,
   "metadata": {},
   "outputs": [
    {
     "data": {
      "text/plain": [
       "(3203, 5)"
      ]
     },
     "execution_count": 179,
     "metadata": {},
     "output_type": "execute_result"
    }
   ],
   "source": [
    "newnew_df = new_df[['Original Docket Text', 'normalized', 'DT Topics', 'NoAction']].drop_duplicates().copy()\n",
    "newnew_df['File O'] = 'O'\n",
    "newnew_df.shape"
   ]
  },
  {
   "cell_type": "code",
   "execution_count": 180,
   "metadata": {},
   "outputs": [
    {
     "data": {
      "text/plain": [
       "(3221, 9)"
      ]
     },
     "execution_count": 180,
     "metadata": {},
     "output_type": "execute_result"
    }
   ],
   "source": [
    "newnewnew_df = newnew_df.merge(chris_file[['Original Docket Text', 'DT Topics', 'N', 'If Action', 'File C']], how = 'outer', on = 'Original Docket Text')\n",
    "newnewnew_df.shape"
   ]
  },
  {
   "cell_type": "code",
   "execution_count": 181,
   "metadata": {
    "scrolled": true
   },
   "outputs": [
    {
     "data": {
      "text/html": [
       "<div>\n",
       "<table border=\"1\" class=\"dataframe\">\n",
       "  <thead>\n",
       "    <tr style=\"text-align: right;\">\n",
       "      <th></th>\n",
       "      <th>Original Docket Text</th>\n",
       "      <th>normalized</th>\n",
       "      <th>DT Topics_x</th>\n",
       "      <th>NoAction</th>\n",
       "      <th>File O</th>\n",
       "      <th>DT Topics_y</th>\n",
       "      <th>N</th>\n",
       "      <th>If Action</th>\n",
       "      <th>File C</th>\n",
       "    </tr>\n",
       "  </thead>\n",
       "  <tbody>\n",
       "    <tr>\n",
       "      <th>0</th>\n",
       "      <td>COMPLAINT against Cardiogenics Holdings, Inc. ...</td>\n",
       "      <td>complaint against filing fee receipt number wa...</td>\n",
       "      <td>Complaints, Motions, Service of Process</td>\n",
       "      <td>0.0</td>\n",
       "      <td>O</td>\n",
       "      <td>Motions, Complaints, Service of Process</td>\n",
       "      <td>Y</td>\n",
       "      <td>Attorney</td>\n",
       "      <td>C</td>\n",
       "    </tr>\n",
       "    <tr>\n",
       "      <th>1</th>\n",
       "      <td>Case assigned to Judge Ann M Donnelly and Magi...</td>\n",
       "      <td>case assigned to judge and magistrate judge pl...</td>\n",
       "      <td>NoAction</td>\n",
       "      <td>1.0</td>\n",
       "      <td>O</td>\n",
       "      <td>NaN</td>\n",
       "      <td>N</td>\n",
       "      <td>NaN</td>\n",
       "      <td>C</td>\n",
       "    </tr>\n",
       "    <tr>\n",
       "      <th>2</th>\n",
       "      <td>Summons Issued as to Cardiogenics Holdings, In...</td>\n",
       "      <td>summons issued as to inc entered date</td>\n",
       "      <td>Service of Process</td>\n",
       "      <td>0.0</td>\n",
       "      <td>O</td>\n",
       "      <td>Service of Process</td>\n",
       "      <td>Y</td>\n",
       "      <td>Assistant</td>\n",
       "      <td>C</td>\n",
       "    </tr>\n",
       "    <tr>\n",
       "      <th>3</th>\n",
       "      <td>NOTICE - emailed attorney regarding missing se...</td>\n",
       "      <td>notice emailed attorney regarding missing seco...</td>\n",
       "      <td>NoAction, Notices</td>\n",
       "      <td>1.0</td>\n",
       "      <td>O</td>\n",
       "      <td>Notices</td>\n",
       "      <td>Y</td>\n",
       "      <td>Attorney; Assistant</td>\n",
       "      <td>C</td>\n",
       "    </tr>\n",
       "    <tr>\n",
       "      <th>4</th>\n",
       "      <td>In accordance with Rule 73 of the Federal Rule...</td>\n",
       "      <td>in accordance with rule of the federal rules o...</td>\n",
       "      <td>Judgment, Motions, Order, Notices</td>\n",
       "      <td>0.0</td>\n",
       "      <td>O</td>\n",
       "      <td>Notices, Motions, Judgment, Order</td>\n",
       "      <td>Y</td>\n",
       "      <td>Assistant</td>\n",
       "      <td>C</td>\n",
       "    </tr>\n",
       "    <tr>\n",
       "      <th>5</th>\n",
       "      <td>This attorney case opening filing has been che...</td>\n",
       "      <td>this attorney case opening filing has been che...</td>\n",
       "      <td>NoAction, Motions</td>\n",
       "      <td>1.0</td>\n",
       "      <td>O</td>\n",
       "      <td>Motions</td>\n",
       "      <td>N</td>\n",
       "      <td>NaN</td>\n",
       "      <td>C</td>\n",
       "    </tr>\n",
       "    <tr>\n",
       "      <th>6</th>\n",
       "      <td>NOTICE of Appearance by Kevin Kehrli on behalf...</td>\n",
       "      <td>notice of appearance by on behalf of llc aty t...</td>\n",
       "      <td>Notices</td>\n",
       "      <td>0.0</td>\n",
       "      <td>O</td>\n",
       "      <td>Notices</td>\n",
       "      <td>Y</td>\n",
       "      <td>Attorney; Assistant</td>\n",
       "      <td>C</td>\n",
       "    </tr>\n",
       "    <tr>\n",
       "      <th>7</th>\n",
       "      <td>EXHIBIT A - Backend Note by LG Capital Funding...</td>\n",
       "      <td>exhibit a backend note by llc related document...</td>\n",
       "      <td>Complaints</td>\n",
       "      <td>0.0</td>\n",
       "      <td>O</td>\n",
       "      <td>Complaints</td>\n",
       "      <td>Y</td>\n",
       "      <td>Attorney</td>\n",
       "      <td>C</td>\n",
       "    </tr>\n",
       "    <tr>\n",
       "      <th>8</th>\n",
       "      <td>EXHIBIT B - TA Letter by LG Capital Funding, L...</td>\n",
       "      <td>exhibit b ta letter by llc related document co...</td>\n",
       "      <td>Complaints, Letter and Response</td>\n",
       "      <td>0.0</td>\n",
       "      <td>O</td>\n",
       "      <td>Complaints, Letter and Response</td>\n",
       "      <td>Y</td>\n",
       "      <td>Attorney</td>\n",
       "      <td>C</td>\n",
       "    </tr>\n",
       "    <tr>\n",
       "      <th>9</th>\n",
       "      <td>EXHIBIT C - Notice of Conversion by LG Capital...</td>\n",
       "      <td>exhibit c notice of conversion by llc related ...</td>\n",
       "      <td>Complaints, Notices</td>\n",
       "      <td>0.0</td>\n",
       "      <td>O</td>\n",
       "      <td>Notices, Complaints</td>\n",
       "      <td>Y</td>\n",
       "      <td>Attorney; Assistant</td>\n",
       "      <td>C</td>\n",
       "    </tr>\n",
       "    <tr>\n",
       "      <th>10</th>\n",
       "      <td>MOTION for Extension of Time to File Answer by...</td>\n",
       "      <td>motion for extension of time to file answer by...</td>\n",
       "      <td>Answers to Complaints, Motions</td>\n",
       "      <td>0.0</td>\n",
       "      <td>O</td>\n",
       "      <td>Answers to Complaints, Motions</td>\n",
       "      <td>Y</td>\n",
       "      <td>Attorney</td>\n",
       "      <td>C</td>\n",
       "    </tr>\n",
       "    <tr>\n",
       "      <th>11</th>\n",
       "      <td>NOTICE of Appearance by Simon S. Kogan on beha...</td>\n",
       "      <td>notice of appearance by on behalf of aty to be...</td>\n",
       "      <td>Notices</td>\n",
       "      <td>0.0</td>\n",
       "      <td>O</td>\n",
       "      <td>Notices</td>\n",
       "      <td>Y</td>\n",
       "      <td>Attorney; Assistant</td>\n",
       "      <td>C</td>\n",
       "    </tr>\n",
       "    <tr>\n",
       "      <th>12</th>\n",
       "      <td>ORDER granting 9 Motion for Extension of Time ...</td>\n",
       "      <td>order granting motion for extension of time to...</td>\n",
       "      <td>Answers to Complaints, Order, Notices, NoActio...</td>\n",
       "      <td>1.0</td>\n",
       "      <td>O</td>\n",
       "      <td>Notices, Answers to Complaints, Motions, Compl...</td>\n",
       "      <td>Y</td>\n",
       "      <td>Attorney</td>\n",
       "      <td>C</td>\n",
       "    </tr>\n",
       "    <tr>\n",
       "      <th>13</th>\n",
       "      <td>Letter pre-motion conference request by Cardio...</td>\n",
       "      <td>letter pre motion conference request by entere...</td>\n",
       "      <td>Motions, Letter and Response, Notices</td>\n",
       "      <td>0.0</td>\n",
       "      <td>O</td>\n",
       "      <td>Notices, Motions, Letter and Response</td>\n",
       "      <td>Y</td>\n",
       "      <td>Attorney</td>\n",
       "      <td>C</td>\n",
       "    </tr>\n",
       "    <tr>\n",
       "      <th>14</th>\n",
       "      <td>Letter Response to Defendant's Request for Pre...</td>\n",
       "      <td>letter response to defendant s request for pre...</td>\n",
       "      <td>Motions, Letter and Response, Notices</td>\n",
       "      <td>0.0</td>\n",
       "      <td>O</td>\n",
       "      <td>Notices, Motions, Letter and Response</td>\n",
       "      <td>Y</td>\n",
       "      <td>Attorney</td>\n",
       "      <td>C</td>\n",
       "    </tr>\n",
       "    <tr>\n",
       "      <th>15</th>\n",
       "      <td>Proposed Scheduling Order by LG Capital Fundin...</td>\n",
       "      <td>proposed scheduling order by llc kehrli entere...</td>\n",
       "      <td>Order</td>\n",
       "      <td>0.0</td>\n",
       "      <td>O</td>\n",
       "      <td>Order</td>\n",
       "      <td>Y</td>\n",
       "      <td>Attorney; Assistant</td>\n",
       "      <td>C</td>\n",
       "    </tr>\n",
       "    <tr>\n",
       "      <th>16</th>\n",
       "      <td>Letter re: Proposed Scheduling Order by LG Cap...</td>\n",
       "      <td>letter re proposed scheduling order by llc att...</td>\n",
       "      <td>Motions, Letter and Response, Order</td>\n",
       "      <td>0.0</td>\n",
       "      <td>O</td>\n",
       "      <td>Order, Motions, Letter and Response</td>\n",
       "      <td>Y</td>\n",
       "      <td>Attorney</td>\n",
       "      <td>C</td>\n",
       "    </tr>\n",
       "    <tr>\n",
       "      <th>17</th>\n",
       "      <td>ORDER The request for a pre motion conference ...</td>\n",
       "      <td>order the request for a pre motion conference ...</td>\n",
       "      <td>Complaints, Answers to Complaints, Motions, Or...</td>\n",
       "      <td>0.0</td>\n",
       "      <td>O</td>\n",
       "      <td>Notices, Answers to Complaints, Motions, Compl...</td>\n",
       "      <td>Y</td>\n",
       "      <td>Attorney</td>\n",
       "      <td>C</td>\n",
       "    </tr>\n",
       "    <tr>\n",
       "      <th>18</th>\n",
       "      <td>ANSWER to 1 Complaint, , COUNTERCLAIM against ...</td>\n",
       "      <td>answer to complaint counterclaim against all p...</td>\n",
       "      <td>Complaints, Answers to Complaints, Motions</td>\n",
       "      <td>0.0</td>\n",
       "      <td>O</td>\n",
       "      <td>Answers to Complaints, Motions, Complaints</td>\n",
       "      <td>Y</td>\n",
       "      <td>Attorney</td>\n",
       "      <td>C</td>\n",
       "    </tr>\n",
       "    <tr>\n",
       "      <th>19</th>\n",
       "      <td>Minute Entry for proceedings held before Magis...</td>\n",
       "      <td>minute entry for proceedings held before magis...</td>\n",
       "      <td>NoAction, Order, Notices</td>\n",
       "      <td>1.0</td>\n",
       "      <td>O</td>\n",
       "      <td>Notices, Order</td>\n",
       "      <td>Y</td>\n",
       "      <td>Attorney; Assistant</td>\n",
       "      <td>C</td>\n",
       "    </tr>\n",
       "  </tbody>\n",
       "</table>\n",
       "</div>"
      ],
      "text/plain": [
       "                                 Original Docket Text  \\\n",
       "0   COMPLAINT against Cardiogenics Holdings, Inc. ...   \n",
       "1   Case assigned to Judge Ann M Donnelly and Magi...   \n",
       "2   Summons Issued as to Cardiogenics Holdings, In...   \n",
       "3   NOTICE - emailed attorney regarding missing se...   \n",
       "4   In accordance with Rule 73 of the Federal Rule...   \n",
       "5   This attorney case opening filing has been che...   \n",
       "6   NOTICE of Appearance by Kevin Kehrli on behalf...   \n",
       "7   EXHIBIT A - Backend Note by LG Capital Funding...   \n",
       "8   EXHIBIT B - TA Letter by LG Capital Funding, L...   \n",
       "9   EXHIBIT C - Notice of Conversion by LG Capital...   \n",
       "10  MOTION for Extension of Time to File Answer by...   \n",
       "11  NOTICE of Appearance by Simon S. Kogan on beha...   \n",
       "12  ORDER granting 9 Motion for Extension of Time ...   \n",
       "13  Letter pre-motion conference request by Cardio...   \n",
       "14  Letter Response to Defendant's Request for Pre...   \n",
       "15  Proposed Scheduling Order by LG Capital Fundin...   \n",
       "16  Letter re: Proposed Scheduling Order by LG Cap...   \n",
       "17  ORDER The request for a pre motion conference ...   \n",
       "18  ANSWER to 1 Complaint, , COUNTERCLAIM against ...   \n",
       "19  Minute Entry for proceedings held before Magis...   \n",
       "\n",
       "                                           normalized  \\\n",
       "0   complaint against filing fee receipt number wa...   \n",
       "1   case assigned to judge and magistrate judge pl...   \n",
       "2              summons issued as to inc entered date    \n",
       "3   notice emailed attorney regarding missing seco...   \n",
       "4   in accordance with rule of the federal rules o...   \n",
       "5   this attorney case opening filing has been che...   \n",
       "6   notice of appearance by on behalf of llc aty t...   \n",
       "7   exhibit a backend note by llc related document...   \n",
       "8   exhibit b ta letter by llc related document co...   \n",
       "9   exhibit c notice of conversion by llc related ...   \n",
       "10  motion for extension of time to file answer by...   \n",
       "11  notice of appearance by on behalf of aty to be...   \n",
       "12  order granting motion for extension of time to...   \n",
       "13  letter pre motion conference request by entere...   \n",
       "14  letter response to defendant s request for pre...   \n",
       "15  proposed scheduling order by llc kehrli entere...   \n",
       "16  letter re proposed scheduling order by llc att...   \n",
       "17  order the request for a pre motion conference ...   \n",
       "18  answer to complaint counterclaim against all p...   \n",
       "19  minute entry for proceedings held before magis...   \n",
       "\n",
       "                                          DT Topics_x  NoAction File O  \\\n",
       "0             Complaints, Motions, Service of Process       0.0      O   \n",
       "1                                            NoAction       1.0      O   \n",
       "2                                  Service of Process       0.0      O   \n",
       "3                                   NoAction, Notices       1.0      O   \n",
       "4                   Judgment, Motions, Order, Notices       0.0      O   \n",
       "5                                   NoAction, Motions       1.0      O   \n",
       "6                                             Notices       0.0      O   \n",
       "7                                          Complaints       0.0      O   \n",
       "8                     Complaints, Letter and Response       0.0      O   \n",
       "9                                 Complaints, Notices       0.0      O   \n",
       "10                     Answers to Complaints, Motions       0.0      O   \n",
       "11                                            Notices       0.0      O   \n",
       "12  Answers to Complaints, Order, Notices, NoActio...       1.0      O   \n",
       "13              Motions, Letter and Response, Notices       0.0      O   \n",
       "14              Motions, Letter and Response, Notices       0.0      O   \n",
       "15                                              Order       0.0      O   \n",
       "16                Motions, Letter and Response, Order       0.0      O   \n",
       "17  Complaints, Answers to Complaints, Motions, Or...       0.0      O   \n",
       "18         Complaints, Answers to Complaints, Motions       0.0      O   \n",
       "19                           NoAction, Order, Notices       1.0      O   \n",
       "\n",
       "                                          DT Topics_y  N            If Action  \\\n",
       "0             Motions, Complaints, Service of Process  Y             Attorney   \n",
       "1                                                 NaN  N                  NaN   \n",
       "2                                  Service of Process  Y            Assistant   \n",
       "3                                             Notices  Y  Attorney; Assistant   \n",
       "4                   Notices, Motions, Judgment, Order  Y            Assistant   \n",
       "5                                             Motions  N                  NaN   \n",
       "6                                             Notices  Y  Attorney; Assistant   \n",
       "7                                          Complaints  Y             Attorney   \n",
       "8                     Complaints, Letter and Response  Y             Attorney   \n",
       "9                                 Notices, Complaints  Y  Attorney; Assistant   \n",
       "10                     Answers to Complaints, Motions  Y             Attorney   \n",
       "11                                            Notices  Y  Attorney; Assistant   \n",
       "12  Notices, Answers to Complaints, Motions, Compl...  Y             Attorney   \n",
       "13              Notices, Motions, Letter and Response  Y             Attorney   \n",
       "14              Notices, Motions, Letter and Response  Y             Attorney   \n",
       "15                                              Order  Y  Attorney; Assistant   \n",
       "16                Order, Motions, Letter and Response  Y             Attorney   \n",
       "17  Notices, Answers to Complaints, Motions, Compl...  Y             Attorney   \n",
       "18         Answers to Complaints, Motions, Complaints  Y             Attorney   \n",
       "19                                     Notices, Order  Y  Attorney; Assistant   \n",
       "\n",
       "   File C  \n",
       "0       C  \n",
       "1       C  \n",
       "2       C  \n",
       "3       C  \n",
       "4       C  \n",
       "5       C  \n",
       "6       C  \n",
       "7       C  \n",
       "8       C  \n",
       "9       C  \n",
       "10      C  \n",
       "11      C  \n",
       "12      C  \n",
       "13      C  \n",
       "14      C  \n",
       "15      C  \n",
       "16      C  \n",
       "17      C  \n",
       "18      C  \n",
       "19      C  "
      ]
     },
     "execution_count": 181,
     "metadata": {},
     "output_type": "execute_result"
    }
   ],
   "source": [
    "newnewnew_df.head(20)"
   ]
  },
  {
   "cell_type": "code",
   "execution_count": 183,
   "metadata": {},
   "outputs": [
    {
     "name": "stderr",
     "output_type": "stream",
     "text": [
      "c:\\users\\inves\\appdata\\local\\programs\\python\\python35\\lib\\site-packages\\pandas\\io\\excel.py:784: DeprecationWarning: Call to deprecated function remove_sheet (Use wb.remove(worksheet) or del wb[sheetname]).\n",
      "  self.book.remove_sheet(self.book.worksheets[0])\n"
     ]
    }
   ],
   "source": [
    "newnewnew_df.to_excel('something.xlsx', index = False)"
   ]
  },
  {
   "cell_type": "code",
   "execution_count": 191,
   "metadata": {},
   "outputs": [
    {
     "name": "stdout",
     "output_type": "stream",
     "text": [
      "(3203, 7)\n"
     ]
    },
    {
     "data": {
      "text/html": [
       "<div>\n",
       "<table border=\"1\" class=\"dataframe\">\n",
       "  <thead>\n",
       "    <tr style=\"text-align: right;\">\n",
       "      <th></th>\n",
       "      <th>Original Docket Text</th>\n",
       "      <th>normalized</th>\n",
       "      <th>DT Topics_x</th>\n",
       "      <th>NoAction</th>\n",
       "      <th>DT Topics_y</th>\n",
       "      <th>Action</th>\n",
       "      <th>If Action</th>\n",
       "    </tr>\n",
       "  </thead>\n",
       "  <tbody>\n",
       "    <tr>\n",
       "      <th>0</th>\n",
       "      <td>COMPLAINT against Cardiogenics Holdings, Inc. ...</td>\n",
       "      <td>complaint against filing fee receipt number wa...</td>\n",
       "      <td>Complaints, Motions, Service of Process</td>\n",
       "      <td>0</td>\n",
       "      <td>Motions, Complaints, Service of Process</td>\n",
       "      <td>Y</td>\n",
       "      <td>Attorney</td>\n",
       "    </tr>\n",
       "    <tr>\n",
       "      <th>1</th>\n",
       "      <td>Case assigned to Judge Ann M DonnellYand Magis...</td>\n",
       "      <td>case assigned to judge and magistrate judge pl...</td>\n",
       "      <td>NoAction</td>\n",
       "      <td>1</td>\n",
       "      <td>NaN</td>\n",
       "      <td>N</td>\n",
       "      <td>NaN</td>\n",
       "    </tr>\n",
       "    <tr>\n",
       "      <th>2</th>\n",
       "      <td>Summons Issued as to Cardiogenics Holdings, In...</td>\n",
       "      <td>summons issued as to inc entered date</td>\n",
       "      <td>Service of Process</td>\n",
       "      <td>0</td>\n",
       "      <td>Service of Process</td>\n",
       "      <td>Y</td>\n",
       "      <td>Assistant</td>\n",
       "    </tr>\n",
       "    <tr>\n",
       "      <th>3</th>\n",
       "      <td>NOTICE - emailed attorneYregarding missing sec...</td>\n",
       "      <td>notice emailed attorneYregarding missing secon...</td>\n",
       "      <td>NoAction, Notices</td>\n",
       "      <td>1</td>\n",
       "      <td>Notices</td>\n",
       "      <td>Y</td>\n",
       "      <td>Attorney; Assistant</td>\n",
       "    </tr>\n",
       "    <tr>\n",
       "      <th>4</th>\n",
       "      <td>In accordance with Rule 73 of the Federal Rule...</td>\n",
       "      <td>in accordance with rule of the federal rules o...</td>\n",
       "      <td>Judgment, Motions, Order, Notices</td>\n",
       "      <td>0</td>\n",
       "      <td>Notices, Motions, Judgment, Order</td>\n",
       "      <td>Y</td>\n",
       "      <td>Assistant</td>\n",
       "    </tr>\n",
       "  </tbody>\n",
       "</table>\n",
       "</div>"
      ],
      "text/plain": [
       "                                Original Docket Text  \\\n",
       "0  COMPLAINT against Cardiogenics Holdings, Inc. ...   \n",
       "1  Case assigned to Judge Ann M DonnellYand Magis...   \n",
       "2  Summons Issued as to Cardiogenics Holdings, In...   \n",
       "3  NOTICE - emailed attorneYregarding missing sec...   \n",
       "4  In accordance with Rule 73 of the Federal Rule...   \n",
       "\n",
       "                                          normalized  \\\n",
       "0  complaint against filing fee receipt number wa...   \n",
       "1  case assigned to judge and magistrate judge pl...   \n",
       "2             summons issued as to inc entered date    \n",
       "3  notice emailed attorneYregarding missing secon...   \n",
       "4  in accordance with rule of the federal rules o...   \n",
       "\n",
       "                               DT Topics_x  NoAction  \\\n",
       "0  Complaints, Motions, Service of Process         0   \n",
       "1                                 NoAction         1   \n",
       "2                       Service of Process         0   \n",
       "3                        NoAction, Notices         1   \n",
       "4        Judgment, Motions, Order, Notices         0   \n",
       "\n",
       "                               DT Topics_y Action            If Action  \n",
       "0  Motions, Complaints, Service of Process      Y             Attorney  \n",
       "1                                      NaN      N                  NaN  \n",
       "2                       Service of Process      Y            Assistant  \n",
       "3                                  Notices      Y  Attorney; Assistant  \n",
       "4        Notices, Motions, Judgment, Order      Y            Assistant  "
      ]
     },
     "execution_count": 191,
     "metadata": {},
     "output_type": "execute_result"
    }
   ],
   "source": [
    "sadf = pd.read_excel('something.xlsx')\n",
    "print(sadf.shape)\n",
    "sadf.head()"
   ]
  },
  {
   "cell_type": "code",
   "execution_count": 209,
   "metadata": {},
   "outputs": [
    {
     "name": "stdout",
     "output_type": "stream",
     "text": [
      "Notices             DT Topics_x DT Topics_y Action\n",
      "3     NoAction, Notices     Notices      Y\n",
      "6               Notices     Notices      Y\n",
      "11              Notices     Notices      Y\n",
      "65    NoAction, Notices     Notices      Y\n",
      "68              Notices     Notices      Y\n",
      "81              Notices     Notices      Y\n",
      "108             Notices     Notices      Y\n",
      "116             Notices     Notices      Y\n",
      "133   NoAction, Notices     Notices      N\n",
      "155             Notices     Notices      Y\n",
      "172             Notices     Notices      Y\n",
      "251             Notices     Notices      Y\n",
      "284             Notices     Notices      Y\n",
      "301   NoAction, Notices     Notices      N\n",
      "302   NoAction, Notices     Notices      N\n",
      "334   NoAction, Notices     Notices      Y\n",
      "335             Notices     Notices      Y\n",
      "337   NoAction, Notices     Notices      N\n",
      "342             Notices     Notices      Y\n",
      "361             Notices     Notices      Y\n",
      "384             Notices     Notices      Y\n",
      "388             Notices     Notices      Y\n",
      "408   NoAction, Notices     Notices      Y\n",
      "409   NoAction, Notices     Notices      N\n",
      "415             Notices     Notices      Y\n",
      "426             Notices     Notices      Y\n",
      "427             Notices     Notices      Y\n",
      "433   NoAction, Notices     Notices      Y\n",
      "436   NoAction, Notices     Notices      N\n",
      "437   NoAction, Notices     Notices      Y\n",
      "...                 ...         ...    ...\n",
      "3102            Notices     Notices      Y\n",
      "3110  NoAction, Notices     Notices      N\n",
      "3111  NoAction, Notices     Notices      Y\n",
      "3112            Notices     Notices      Y\n",
      "3115  NoAction, Notices     Notices      N\n",
      "3118  NoAction, Notices     Notices      N\n",
      "3119  NoAction, Notices     Notices      Y\n",
      "3126  NoAction, Notices     Notices      Y\n",
      "3127  NoAction, Notices     Notices      N\n",
      "3128  NoAction, Notices     Notices      Y\n",
      "3130            Notices     Notices      Y\n",
      "3133  NoAction, Notices     Notices      N\n",
      "3134  NoAction, Notices     Notices      Y\n",
      "3139  NoAction, Notices     Notices      Y\n",
      "3142            Notices     Notices      Y\n",
      "3144            Notices     Notices      Y\n",
      "3146            Notices     Notices      Y\n",
      "3148  NoAction, Notices     Notices      Y\n",
      "3149            Notices     Notices      Y\n",
      "3150  NoAction, Notices     Notices      N\n",
      "3156  NoAction, Notices     Notices      N\n",
      "3157  NoAction, Notices     Notices      Y\n",
      "3160  NoAction, Notices     Notices      Y\n",
      "3162  NoAction, Notices     Notices      N\n",
      "3164  NoAction, Notices     Notices      Y\n",
      "3173  NoAction, Notices     Notices      N\n",
      "3181  NoAction, Notices     Notices      N\n",
      "3182  NoAction, Notices     Notices      Y\n",
      "3195  NoAction, Notices     Notices      N\n",
      "3199  NoAction, Notices     Notices      N\n",
      "\n",
      "[310 rows x 3 columns]\n",
      "Motions             DT Topics_x DT Topics_y Action\n",
      "5     NoAction, Motions     Motions      N\n",
      "102   NoAction, Motions     Motions      N\n",
      "145   NoAction, Motions     Motions      N\n",
      "164             Motions     Motions      Y\n",
      "188             Motions     Motions      Y\n",
      "211             Motions     Motions      Y\n",
      "224   NoAction, Motions     Motions      N\n",
      "252             Motions     Motions      Y\n",
      "254             Motions     Motions      Y\n",
      "290   NoAction, Motions     Motions      N\n",
      "417             Motions     Motions      Y\n",
      "533             Motions     Motions      Y\n",
      "535             Motions     Motions      Y\n",
      "630             Motions     Motions      Y\n",
      "654             Motions     Motions      Y\n",
      "719   NoAction, Motions     Motions      N\n",
      "774   NoAction, Motions     Motions      Y\n",
      "904             Motions     Motions      Y\n",
      "909             Motions     Motions      Y\n",
      "1010            Motions     Motions      Y\n",
      "1037            Motions     Motions      Y\n",
      "1133  NoAction, Motions     Motions      Y\n",
      "1142            Motions     Motions      Y\n",
      "1198  NoAction, Motions     Motions      N\n",
      "1214  NoAction, Motions     Motions      N\n",
      "1233            Motions     Motions      Y\n",
      "1240            Motions     Motions      Y\n",
      "1266            Motions     Motions      Y\n",
      "1269            Motions     Motions      Y\n",
      "1301            Motions     Motions      Y\n",
      "...                 ...         ...    ...\n",
      "2455            Motions     Motions      Y\n",
      "2456            Motions     Motions      Y\n",
      "2514            Motions     Motions      Y\n",
      "2532            Motions     Motions      Y\n",
      "2596            Motions     Motions      Y\n",
      "2616  NoAction, Motions     Motions      N\n",
      "2620  NoAction, Motions     Motions      N\n",
      "2624  NoAction, Motions     Motions      N\n",
      "2627  NoAction, Motions     Motions      N\n",
      "2631  NoAction, Motions     Motions      N\n",
      "2636            Motions     Motions      Y\n",
      "2656  NoAction, Motions     Motions      N\n",
      "2676  NoAction, Motions     Motions      N\n",
      "2686  NoAction, Motions     Motions      N\n",
      "2696            Motions     Motions      Y\n",
      "2697            Motions     Motions      Y\n",
      "2731            Motions     Motions      Y\n",
      "2924  NoAction, Motions     Motions      N\n",
      "3038            Motions     Motions      Y\n",
      "3039            Motions     Motions      Y\n",
      "3044            Motions     Motions      Y\n",
      "3058  NoAction, Motions     Motions      N\n",
      "3081            Motions     Motions      Y\n",
      "3090  NoAction, Motions     Motions      N\n",
      "3113            Motions     Motions      Y\n",
      "3183  NoAction, Motions     Motions      N\n",
      "3185            Motions     Motions      Y\n",
      "3190            Motions     Motions      Y\n",
      "3191            Motions     Motions      Y\n",
      "3202            Motions     Motions      Y\n",
      "\n",
      "[87 rows x 3 columns]\n",
      "Notices, Motions, Order                             DT Topics_x              DT Topics_y Action\n",
      "30              Motions, Order, Notices  Notices, Motions, Order      Y\n",
      "111             Motions, Order, Notices  Notices, Motions, Order      Y\n",
      "123   NoAction, Motions, Order, Notices  Notices, Motions, Order      Y\n",
      "165             Motions, Order, Notices  Notices, Motions, Order      Y\n",
      "167   NoAction, Motions, Order, Notices  Notices, Motions, Order      Y\n",
      "199             Motions, Order, Notices  Notices, Motions, Order      Y\n",
      "212             Motions, Order, Notices  Notices, Motions, Order      Y\n",
      "218             Motions, Order, Notices  Notices, Motions, Order      Y\n",
      "235   NoAction, Motions, Order, Notices  Notices, Motions, Order      N\n",
      "237             Motions, Order, Notices  Notices, Motions, Order      Y\n",
      "256             Motions, Order, Notices  Notices, Motions, Order      Y\n",
      "259             Motions, Order, Notices  Notices, Motions, Order      Y\n",
      "293             Motions, Order, Notices  Notices, Motions, Order      Y\n",
      "300             Motions, Order, Notices  Notices, Motions, Order      Y\n",
      "312             Motions, Order, Notices  Notices, Motions, Order      Y\n",
      "314             Motions, Order, Notices  Notices, Motions, Order      Y\n",
      "374             Motions, Order, Notices  Notices, Motions, Order      Y\n",
      "454             Motions, Order, Notices  Notices, Motions, Order      Y\n",
      "616             Motions, Order, Notices  Notices, Motions, Order      Y\n",
      "617             Motions, Order, Notices  Notices, Motions, Order      Y\n",
      "669             Motions, Order, Notices  Notices, Motions, Order      Y\n",
      "671             Motions, Order, Notices  Notices, Motions, Order      Y\n",
      "672             Motions, Order, Notices  Notices, Motions, Order      Y\n",
      "677             Motions, Order, Notices  Notices, Motions, Order      Y\n",
      "679             Motions, Order, Notices  Notices, Motions, Order      Y\n",
      "722             Motions, Order, Notices  Notices, Motions, Order      Y\n",
      "806             Motions, Order, Notices  Notices, Motions, Order      Y\n",
      "813             Motions, Order, Notices  Notices, Motions, Order      Y\n",
      "1104  NoAction, Motions, Order, Notices  Notices, Motions, Order      Y\n",
      "1144            Motions, Order, Notices  Notices, Motions, Order      Y\n",
      "...                                 ...                      ...    ...\n",
      "2077            Motions, Order, Notices  Notices, Motions, Order      Y\n",
      "2078            Motions, Order, Notices  Notices, Motions, Order      Y\n",
      "2099            Motions, Order, Notices  Notices, Motions, Order      Y\n",
      "2155            Motions, Order, Notices  Notices, Motions, Order      Y\n",
      "2176            Motions, Order, Notices  Notices, Motions, Order      Y\n",
      "2197            Motions, Order, Notices  Notices, Motions, Order      Y\n",
      "2198  NoAction, Motions, Order, Notices  Notices, Motions, Order      N\n",
      "2206            Motions, Order, Notices  Notices, Motions, Order      Y\n",
      "2223            Motions, Order, Notices  Notices, Motions, Order      Y\n",
      "2291            Motions, Order, Notices  Notices, Motions, Order      Y\n",
      "2397            Motions, Order, Notices  Notices, Motions, Order      Y\n",
      "2398  NoAction, Motions, Order, Notices  Notices, Motions, Order      N\n",
      "2399  NoAction, Motions, Order, Notices  Notices, Motions, Order      N\n",
      "2450            Motions, Order, Notices  Notices, Motions, Order      Y\n",
      "2451  NoAction, Motions, Order, Notices  Notices, Motions, Order      N\n",
      "2452  NoAction, Motions, Order, Notices  Notices, Motions, Order      N\n",
      "2570  NoAction, Motions, Order, Notices  Notices, Motions, Order      Y\n",
      "2635  NoAction, Motions, Order, Notices  Notices, Motions, Order      Y\n",
      "2660            Motions, Order, Notices  Notices, Motions, Order      Y\n",
      "2788  NoAction, Motions, Order, Notices  Notices, Motions, Order      Y\n",
      "2888            Motions, Order, Notices  Notices, Motions, Order      Y\n",
      "2917  NoAction, Motions, Order, Notices  Notices, Motions, Order      Y\n",
      "2919  NoAction, Motions, Order, Notices  Notices, Motions, Order      Y\n",
      "2920  NoAction, Motions, Order, Notices  Notices, Motions, Order      Y\n",
      "2921  NoAction, Motions, Order, Notices  Notices, Motions, Order      Y\n",
      "2942            Motions, Order, Notices  Notices, Motions, Order      Y\n",
      "2973  NoAction, Motions, Order, Notices  Notices, Motions, Order      Y\n",
      "3167            Motions, Order, Notices  Notices, Motions, Order      Y\n",
      "3193            Motions, Order, Notices  Notices, Motions, Order      Y\n",
      "3198            Motions, Order, Notices  Notices, Motions, Order      Y\n",
      "\n",
      "[88 rows x 3 columns]\n",
      "Notices, Motions                      DT Topics_x       DT Topics_y Action\n",
      "75              Motions, Notices  Notices, Motions      Y\n",
      "134             Motions, Notices  Notices, Motions      Y\n",
      "166             Motions, Notices  Notices, Motions      Y\n",
      "184             Motions, Notices  Notices, Motions      Y\n",
      "213             Motions, Notices  Notices, Motions      Y\n",
      "242             Motions, Notices  Notices, Motions      Y\n",
      "255             Motions, Notices  Notices, Motions      Y\n",
      "271   NoAction, Motions, Notices  Notices, Motions      Y\n",
      "292             Motions, Notices  Notices, Motions      Y\n",
      "299             Motions, Notices  Notices, Motions      Y\n",
      "313             Motions, Notices  Notices, Motions      Y\n",
      "315   NoAction, Motions, Notices  Notices, Motions      Y\n",
      "347             Motions, Notices  Notices, Motions      Y\n",
      "352   NoAction, Motions, Notices  Notices, Motions      Y\n",
      "363             Motions, Notices  Notices, Motions      Y\n",
      "375   NoAction, Motions, Notices  Notices, Motions      Y\n",
      "389             Motions, Notices  Notices, Motions      Y\n",
      "571             Motions, Notices  Notices, Motions      Y\n",
      "588             Motions, Notices  Notices, Motions      Y\n",
      "589             Motions, Notices  Notices, Motions      Y\n",
      "684             Motions, Notices  Notices, Motions      Y\n",
      "721             Motions, Notices  Notices, Motions      Y\n",
      "741             Motions, Notices  Notices, Motions      Y\n",
      "742             Motions, Notices  Notices, Motions      Y\n",
      "770             Motions, Notices  Notices, Motions      Y\n",
      "886             Motions, Notices  Notices, Motions      Y\n",
      "934             Motions, Notices  Notices, Motions      Y\n",
      "1074            Motions, Notices  Notices, Motions      Y\n",
      "1085            Motions, Notices  Notices, Motions      Y\n",
      "1107  NoAction, Motions, Notices  Notices, Motions      N\n",
      "...                          ...               ...    ...\n",
      "2287  NoAction, Motions, Notices  Notices, Motions      N\n",
      "2288  NoAction, Motions, Notices  Notices, Motions      N\n",
      "2301            Motions, Notices  Notices, Motions      Y\n",
      "2307            Motions, Notices  Notices, Motions      Y\n",
      "2317  NoAction, Motions, Notices  Notices, Motions      N\n",
      "2318  NoAction, Motions, Notices  Notices, Motions      N\n",
      "2358            Motions, Notices  Notices, Motions      Y\n",
      "2392  NoAction, Motions, Notices  Notices, Motions      Y\n",
      "2396            Motions, Notices  Notices, Motions      Y\n",
      "2449            Motions, Notices  Notices, Motions      Y\n",
      "2564  NoAction, Motions, Notices  Notices, Motions      N\n",
      "2565  NoAction, Motions, Notices  Notices, Motions      N\n",
      "2569  NoAction, Motions, Notices  Notices, Motions      Y\n",
      "2609            Motions, Notices  Notices, Motions      Y\n",
      "2658            Motions, Notices  Notices, Motions      Y\n",
      "2663            Motions, Notices  Notices, Motions      Y\n",
      "2668            Motions, Notices  Notices, Motions      Y\n",
      "2694            Motions, Notices  Notices, Motions      Y\n",
      "2695            Motions, Notices  Notices, Motions      Y\n",
      "2904  NoAction, Motions, Notices  Notices, Motions      Y\n",
      "2913  NoAction, Motions, Notices  Notices, Motions      Y\n",
      "2916  NoAction, Motions, Notices  Notices, Motions      Y\n",
      "2922            Motions, Notices  Notices, Motions      Y\n",
      "2923            Motions, Notices  Notices, Motions      Y\n",
      "2926            Motions, Notices  Notices, Motions      Y\n",
      "3041            Motions, Notices  Notices, Motions      Y\n",
      "3114            Motions, Notices  Notices, Motions      Y\n",
      "3166            Motions, Notices  Notices, Motions      Y\n",
      "3197            Motions, Notices  Notices, Motions      Y\n",
      "3201            Motions, Notices  Notices, Motions      Y\n",
      "\n",
      "[96 rows x 3 columns]\n",
      "Notices, Motions, Complaints                                  DT Topics_x                   DT Topics_y  \\\n",
      "330             Complaints, Motions, Notices  Notices, Motions, Complaints   \n",
      "357             Complaints, Motions, Notices  Notices, Motions, Complaints   \n",
      "543             Complaints, Motions, Notices  Notices, Motions, Complaints   \n",
      "752             Complaints, Motions, Notices  Notices, Motions, Complaints   \n",
      "809             Complaints, Motions, Notices  Notices, Motions, Complaints   \n",
      "941             Complaints, Motions, Notices  Notices, Motions, Complaints   \n",
      "1072            Complaints, Motions, Notices  Notices, Motions, Complaints   \n",
      "1110  NoAction, Motions, Complaints, Notices  Notices, Motions, Complaints   \n",
      "1111  NoAction, Motions, Complaints, Notices  Notices, Motions, Complaints   \n",
      "1345            Complaints, Motions, Notices  Notices, Motions, Complaints   \n",
      "1931            Complaints, Motions, Notices  Notices, Motions, Complaints   \n",
      "1942            Complaints, Motions, Notices  Notices, Motions, Complaints   \n",
      "1944            Complaints, Motions, Notices  Notices, Motions, Complaints   \n",
      "2033            Complaints, Motions, Notices  Notices, Motions, Complaints   \n",
      "2041            Complaints, Motions, Notices  Notices, Motions, Complaints   \n",
      "2080            Complaints, Motions, Notices  Notices, Motions, Complaints   \n",
      "2102            Complaints, Motions, Notices  Notices, Motions, Complaints   \n",
      "2122            Complaints, Motions, Notices  Notices, Motions, Complaints   \n",
      "2125            Complaints, Motions, Notices  Notices, Motions, Complaints   \n",
      "2156            Complaints, Motions, Notices  Notices, Motions, Complaints   \n",
      "2167  NoAction, Motions, Complaints, Notices  Notices, Motions, Complaints   \n",
      "2290  NoAction, Motions, Complaints, Notices  Notices, Motions, Complaints   \n",
      "2322            Complaints, Motions, Notices  Notices, Motions, Complaints   \n",
      "2323            Complaints, Motions, Notices  Notices, Motions, Complaints   \n",
      "2327  NoAction, Motions, Complaints, Notices  Notices, Motions, Complaints   \n",
      "2328  NoAction, Motions, Complaints, Notices  Notices, Motions, Complaints   \n",
      "2664            Complaints, Motions, Notices  Notices, Motions, Complaints   \n",
      "2671            Complaints, Motions, Notices  Notices, Motions, Complaints   \n",
      "2759            Complaints, Motions, Notices  Notices, Motions, Complaints   \n",
      "2846            Complaints, Motions, Notices  Notices, Motions, Complaints   \n",
      "\n",
      "     Action  \n",
      "330       Y  \n",
      "357       Y  \n",
      "543       Y  \n",
      "752       Y  \n",
      "809       Y  \n",
      "941       Y  \n",
      "1072      Y  \n",
      "1110      N  \n",
      "1111      N  \n",
      "1345      Y  \n",
      "1931      Y  \n",
      "1942      Y  \n",
      "1944      Y  \n",
      "2033      Y  \n",
      "2041      Y  \n",
      "2080      Y  \n",
      "2102      Y  \n",
      "2122      Y  \n",
      "2125      Y  \n",
      "2156      Y  \n",
      "2167      Y  \n",
      "2290      N  \n",
      "2322      Y  \n",
      "2323      Y  \n",
      "2327      N  \n",
      "2328      N  \n",
      "2664      Y  \n",
      "2671      Y  \n",
      "2759      Y  \n",
      "2846      Y  \n"
     ]
    },
    {
     "name": "stdout",
     "output_type": "stream",
     "text": [
      "Notices, Discovery                        DT Topics_x         DT Topics_y Action\n",
      "1534            Discovery, Notices  Notices, Discovery      Y\n",
      "2216            Discovery, Notices  Notices, Discovery      Y\n",
      "3043  NoAction, Discovery, Notices  Notices, Discovery      N\n",
      "3123  NoAction, Discovery, Notices  Notices, Discovery      N\n",
      "3155            Discovery, Notices  Notices, Discovery      Y\n"
     ]
    }
   ],
   "source": [
    "huhs = sadf['DT Topics_y'].unique()\n",
    "for huh in huhs:\n",
    "    if sadf[sadf['DT Topics_y'] == huh]['Action'].nunique() > 1:\n",
    "        print(huh, sadf[sadf['DT Topics_y'] == huh][['DT Topics_x', 'DT Topics_y', 'Action']])"
   ]
  },
  {
   "cell_type": "code",
   "execution_count": 208,
   "metadata": {},
   "outputs": [
    {
     "data": {
      "text/html": [
       "<div>\n",
       "<table border=\"1\" class=\"dataframe\">\n",
       "  <thead>\n",
       "    <tr style=\"text-align: right;\">\n",
       "      <th></th>\n",
       "      <th>DT Topics_x</th>\n",
       "      <th>DT Topics_y</th>\n",
       "      <th>Action</th>\n",
       "    </tr>\n",
       "  </thead>\n",
       "  <tbody>\n",
       "    <tr>\n",
       "      <th>1534</th>\n",
       "      <td>Discovery, Notices</td>\n",
       "      <td>Notices, Discovery</td>\n",
       "      <td>Y</td>\n",
       "    </tr>\n",
       "    <tr>\n",
       "      <th>2216</th>\n",
       "      <td>Discovery, Notices</td>\n",
       "      <td>Notices, Discovery</td>\n",
       "      <td>Y</td>\n",
       "    </tr>\n",
       "    <tr>\n",
       "      <th>3043</th>\n",
       "      <td>NoAction, Discovery, Notices</td>\n",
       "      <td>Notices, Discovery</td>\n",
       "      <td>N</td>\n",
       "    </tr>\n",
       "    <tr>\n",
       "      <th>3123</th>\n",
       "      <td>NoAction, Discovery, Notices</td>\n",
       "      <td>Notices, Discovery</td>\n",
       "      <td>N</td>\n",
       "    </tr>\n",
       "    <tr>\n",
       "      <th>3155</th>\n",
       "      <td>Discovery, Notices</td>\n",
       "      <td>Notices, Discovery</td>\n",
       "      <td>Y</td>\n",
       "    </tr>\n",
       "  </tbody>\n",
       "</table>\n",
       "</div>"
      ],
      "text/plain": [
       "                       DT Topics_x         DT Topics_y Action\n",
       "1534            Discovery, Notices  Notices, Discovery      Y\n",
       "2216            Discovery, Notices  Notices, Discovery      Y\n",
       "3043  NoAction, Discovery, Notices  Notices, Discovery      N\n",
       "3123  NoAction, Discovery, Notices  Notices, Discovery      N\n",
       "3155            Discovery, Notices  Notices, Discovery      Y"
      ]
     },
     "execution_count": 208,
     "metadata": {},
     "output_type": "execute_result"
    }
   ],
   "source": []
  },
  {
   "cell_type": "code",
   "execution_count": null,
   "metadata": {},
   "outputs": [],
   "source": []
  },
  {
   "cell_type": "markdown",
   "metadata": {},
   "source": [
    "### Another Way of thinking about this:\n",
    "We may need to package all these procedures into a function. As we may want to use pipeline to take care of all these things in the near future"
   ]
  },
  {
   "cell_type": "code",
   "execution_count": null,
   "metadata": {},
   "outputs": [],
   "source": []
  },
  {
   "cell_type": "markdown",
   "metadata": {},
   "source": [
    "### Troubleshooting"
   ]
  },
  {
   "cell_type": "code",
   "execution_count": 435,
   "metadata": {},
   "outputs": [
    {
     "data": {
      "text/plain": [
       "DT Topics    Other Answers, Complaints\n",
       "phrases                               \n",
       "Name: 1506, dtype: object"
      ]
     },
     "execution_count": 435,
     "metadata": {},
     "output_type": "execute_result"
    }
   ],
   "source": [
    "text = '''LETTER addressed to Judge Denise L. Cote from Andrew C. Shen dated February 7, 2014 re: adding the Goldman Sachs & Co. case to the Protective Order. Document filed by National Credit Union Administration Board. (Attachments: # 1 Stipulated Amended Protective Order)(Haas, Erik) (Entered: 02/07/2014)'''\n",
    "new_df[new_df['Original Docket Text'] == text][['DT Topics', 'phrases']].iloc[0]"
   ]
  },
  {
   "cell_type": "markdown",
   "metadata": {},
   "source": [
    "problem 1: Set/Reset Deadlines: Responses due by 12/27/2017. (anc) (Entered: 12/21/2017)\n",
    "problem 2: AFFIDAVIT of Teresa A. Gonsalves in Support re: 53 MOTION to Dismiss.. Document filed by John D. Barry, Beacon Hill Asset Management LLC, Thomas Daniels, John Irwin, Mark Miszkiewicz, Safe Harbor Asset Management LLC. (pa, ) (Entered: 09/20/2004)\n",
    "problem 3: ORDER; that case number 00cv7874 shall be consolidated into lead case number 00cv7872 for all purposes and all subsequent filings shall be filed under that lead case number ; the Clerk of the Court is directed to close case number 00cv7874 (SAS) . ( signed by Judge Shira A. Scheindlin ); Copies mailed. (pl) (Entered: 06/29/2001)"
   ]
  },
  {
   "cell_type": "code",
   "execution_count": 392,
   "metadata": {},
   "outputs": [
    {
     "data": {
      "text/plain": [
       "Original Docket Text                  RULE 7.1 CORPORATE DISCLOSURE STATEMENT. No Co...\n",
       "Organization Portion                                                                LLC\n",
       "Name Portion                                                             ( Kehrli Kevin\n",
       "Identifying Org and Name              RULE 7.1 CORPORATE DISCLOSURE STATEMENT . No C...\n",
       "Stripped Org and Name                 RULE 7.1 CORPORATE DISCLOSURE STATEMENT . No C...\n",
       "normalized                            rule corporate disclosure statement no corpora...\n",
       "tokenize                              [rule, corporate, disclosure, statement, no, c...\n",
       "nostop                                [rule, corporate, disclosure, statement, corpo...\n",
       "DT Topics                                                                              \n",
       "Removed unnecessary POS & vocab DT    [rule, corporate, disclosure, statement, corpo...\n",
       "lemmed                                rule corporate disclosure statement corporate ...\n",
       "phrases                               rule_corporate_disclosure_statement corporate_...\n",
       "cleaned                               rule_corporate_disclosure_statement corporate_...\n",
       "Name: 338, dtype: object"
      ]
     },
     "execution_count": 392,
     "metadata": {},
     "output_type": "execute_result"
    }
   ],
   "source": [
    "new_df[new_df['Original Docket Text'] == text]"
   ]
  },
  {
   "cell_type": "code",
   "execution_count": null,
   "metadata": {},
   "outputs": [],
   "source": [
    "data = pd.read_excel(r'E:\\WinUser\\Documents\\Python Code\\AI Paralegal\\docket_texts\\Train\\DT\\New Topics - Classification -5.27.2018.xlsx')\n",
    "data.drop('DT Topics', axis = 1, inplace = True)\n",
    "print(data.shape)\n",
    "print(data.drop_duplicates().shape)\n",
    "data.head()"
   ]
  },
  {
   "cell_type": "code",
   "execution_count": null,
   "metadata": {},
   "outputs": [],
   "source": [
    "#because there were some changes, I wanted to make sure that Chris' feedback stayed the same\n",
    "filename = 'docket_texts/train/DT/basic_cleaned.pickle'\n",
    "with open(filename, 'rb') as handle:\n",
    "    train_cleaned_df = pickle.load(handle)"
   ]
  },
  {
   "cell_type": "code",
   "execution_count": null,
   "metadata": {},
   "outputs": [],
   "source": [
    "print(train_cleaned_df[train_cleaned_df['cleaned'] != ''].shape)\n",
    "print(train_cleaned_df[train_cleaned_df['cleaned'] != ''][['Original Docket Text', 'phrases']].drop_duplicates().shape)\n",
    "train_cleaned_df[train_cleaned_df['cleaned'] != ''].head()"
   ]
  },
  {
   "cell_type": "code",
   "execution_count": null,
   "metadata": {},
   "outputs": [],
   "source": [
    "df = data[['Original Docket Text', 'New Topocs', 'Action [Y/N]', 'If Y']].merge(train_cleaned_df[['Original Docket Text', 'DT Topics', 'phrases']], on = 'Original Docket Text', how = 'outer')\n",
    "df.drop_duplicates().shape"
   ]
  },
  {
   "cell_type": "code",
   "execution_count": null,
   "metadata": {},
   "outputs": [],
   "source": [
    "df[(df['DT Topics'] != '') & (df['New Topocs'].isnull() == False)].drop_duplicates().to_csv('test.csv', index = False)"
   ]
  },
  {
   "cell_type": "code",
   "execution_count": null,
   "metadata": {},
   "outputs": [],
   "source": [
    "df[(df['phrases'] != '') & (df['New Topocs'].isnull() == True)].drop_duplicates().to_csv('test.csv', index = False)"
   ]
  },
  {
   "cell_type": "code",
   "execution_count": null,
   "metadata": {},
   "outputs": [],
   "source": []
  },
  {
   "cell_type": "code",
   "execution_count": null,
   "metadata": {},
   "outputs": [],
   "source": []
  },
  {
   "cell_type": "code",
   "execution_count": null,
   "metadata": {},
   "outputs": [],
   "source": []
  }
 ],
 "metadata": {
  "kernelspec": {
   "display_name": "Python 3",
   "language": "python",
   "name": "python3"
  },
  "language_info": {
   "codemirror_mode": {
    "name": "ipython",
    "version": 3
   },
   "file_extension": ".py",
   "mimetype": "text/x-python",
   "name": "python",
   "nbconvert_exporter": "python",
   "pygments_lexer": "ipython3",
   "version": "3.5.3"
  }
 },
 "nbformat": 4,
 "nbformat_minor": 2
}
