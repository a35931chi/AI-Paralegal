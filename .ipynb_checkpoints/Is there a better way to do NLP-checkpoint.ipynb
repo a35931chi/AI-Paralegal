{
 "cells": [
  {
   "cell_type": "markdown",
   "metadata": {},
   "source": [
    "## Notebook Goal:  \n",
    "Using existing NLP and LDA methodologies to perform topic modeling on docket texts. Three hyperparameters to consider:\n",
    "1. to remove organization or not in docket texts, so organizations themselves won't become topics.\n",
    "2. to remove names or not in docket texts, so names themselves won't become topics.\n",
    "3. variations in topic numbers: [2, 3, 5, 10]\n",
    "\n",
    "Will then perform visualizations and model summary output on every permutation/iteration."
   ]
  },
  {
   "cell_type": "code",
   "execution_count": 2,
   "metadata": {},
   "outputs": [],
   "source": [
    "import nltk\n",
    "from nltk.tag.stanford import StanfordNERTagger\n",
    "from nltk.stem import WordNetLemmatizer\n",
    "from nltk.corpus import wordnet, stopwords\n",
    "from nltk import pos_tag, ne_chunk\n",
    "from nltk.tokenize import word_tokenize\n",
    "from nltk.chunk import conlltags2tree, tree2conlltags\n",
    "\n",
    "sw = stopwords.words(\"english\")\n",
    "\n",
    "path_to_model = r'C:\\Users\\inves\\AppData\\Local\\Programs\\Python\\Python35\\Lib\\site-packages\\nltk\\stanford-ner-2018-02-27\\classifiers\\english.all.3class.distsim.crf.ser.gz'\n",
    "path_to_jar = r'C:\\Users\\inves\\AppData\\Local\\Programs\\Python\\Python35\\Lib\\site-packages\\nltk\\stanford-ner-2018-02-27\\stanford-ner.jar'\n",
    "tagger = StanfordNERTagger(path_to_model, path_to_jar = path_to_jar)"
   ]
  },
  {
   "cell_type": "code",
   "execution_count": 3,
   "metadata": {},
   "outputs": [
    {
     "name": "stderr",
     "output_type": "stream",
     "text": [
      "c:\\users\\inves\\appdata\\local\\programs\\python\\python35\\lib\\site-packages\\gensim\\utils.py:1197: UserWarning: detected Windows; aliasing chunkize to chunkize_serial\n",
      "  warnings.warn(\"detected Windows; aliasing chunkize to chunkize_serial\")\n"
     ]
    }
   ],
   "source": [
    "from gensim.models.word2vec import LineSentence\n",
    "from gensim.models import Phrases\n",
    "from gensim.corpora import Dictionary, MmCorpus\n",
    "from gensim.models.ldamulticore import LdaMulticore\n",
    "\n",
    "#visualization libraries\n",
    "import pyLDAvis\n",
    "import pyLDAvis.gensim"
   ]
  },
  {
   "cell_type": "code",
   "execution_count": 4,
   "metadata": {},
   "outputs": [],
   "source": [
    "import os\n",
    "import pandas as pd\n",
    "import numpy as np\n",
    "import codecs\n",
    "import itertools as it\n",
    "from bs4 import BeautifulSoup\n",
    "import warnings\n",
    "import pickle\n",
    "from collections import Counter\n",
    "import re\n",
    "import datetime\n",
    "import string\n",
    "import time\n",
    "\n",
    "java_path = 'C:/Program Files/Java/jdk-10.0.1/bin/java.exe'\n",
    "os.environ['JAVAHOME'] = java_path"
   ]
  },
  {
   "cell_type": "code",
   "execution_count": 5,
   "metadata": {},
   "outputs": [
    {
     "name": "stdout",
     "output_type": "stream",
     "text": [
      "[nltk_data] Downloading package words to\n",
      "[nltk_data]     C:\\Users\\inves\\AppData\\Roaming\\nltk_data...\n",
      "[nltk_data]   Package words is already up-to-date!\n",
      "[nltk_data] Downloading package averaged_perceptron_tagger to\n",
      "[nltk_data]     C:\\Users\\inves\\AppData\\Roaming\\nltk_data...\n",
      "[nltk_data]   Package averaged_perceptron_tagger is already up-to-\n",
      "[nltk_data]       date!\n",
      "[nltk_data] Downloading package maxent_ne_chunker to\n",
      "[nltk_data]     C:\\Users\\inves\\AppData\\Roaming\\nltk_data...\n",
      "[nltk_data]   Package maxent_ne_chunker is already up-to-date!\n"
     ]
    },
    {
     "data": {
      "text/plain": [
       "True"
      ]
     },
     "execution_count": 5,
     "metadata": {},
     "output_type": "execute_result"
    }
   ],
   "source": [
    "nltk.download('words')\n",
    "nltk.download('averaged_perceptron_tagger')\n",
    "nltk.download('maxent_ne_chunker')"
   ]
  },
  {
   "cell_type": "code",
   "execution_count": 78,
   "metadata": {},
   "outputs": [],
   "source": [
    "filename = 'docket_texts/train/DT/basic_df.pickle'"
   ]
  },
  {
   "cell_type": "code",
   "execution_count": 79,
   "metadata": {},
   "outputs": [],
   "source": [
    "#to load\n",
    "with open(filename, 'rb') as handle:\n",
    "    NER_df = pickle.load(handle)"
   ]
  },
  {
   "cell_type": "code",
   "execution_count": 80,
   "metadata": {},
   "outputs": [],
   "source": [
    "new_df = NER_df.copy()"
   ]
  },
  {
   "cell_type": "code",
   "execution_count": 81,
   "metadata": {},
   "outputs": [],
   "source": [
    "docket_original = list(new_df['Original Docket Text'])"
   ]
  },
  {
   "cell_type": "markdown",
   "metadata": {},
   "source": [
    "### Actually we can do some deduping... but can wait as well"
   ]
  },
  {
   "cell_type": "code",
   "execution_count": 9,
   "metadata": {},
   "outputs": [
    {
     "data": {
      "text/plain": [
       "3203"
      ]
     },
     "execution_count": 9,
     "metadata": {},
     "output_type": "execute_result"
    }
   ],
   "source": [
    "len(set(docket_original))"
   ]
  },
  {
   "cell_type": "code",
   "execution_count": 11,
   "metadata": {},
   "outputs": [
    {
     "data": {
      "text/plain": [
       "False"
      ]
     },
     "execution_count": 11,
     "metadata": {},
     "output_type": "execute_result"
    }
   ],
   "source": [
    "def valid_date(datestring):\n",
    "    try:\n",
    "        mat = re.match('(\\d{1,2})[/.-](\\d{2})[/.-](\\d{4})$', datestring)\n",
    "        if mat is not None:\n",
    "            datetime.datetime(*(map(int, mat.groups()[-1::-1])))\n",
    "            return True\n",
    "    except ValueError:\n",
    "        pass\n",
    "    return False\n",
    "    \n",
    "valid_date('003/11/2016')"
   ]
  },
  {
   "cell_type": "markdown",
   "metadata": {},
   "source": [
    "### 1. Normalize"
   ]
  },
  {
   "cell_type": "code",
   "execution_count": 78,
   "metadata": {},
   "outputs": [
    {
     "name": "stdout",
     "output_type": "stream",
     "text": [
      "COMPLAINT against Cardiogenics Holdings, Inc. filing fee $ 400, receipt number 0207-8445206 Was the Disclosure Statement on Civil Cover Sheet completed -YES,, filed by LG Capital Funding, LLC. (Steinmetz, Michael) (Additional attachment(s) added on 3/11/2016: # 1 Civil Cover Sheet, # 2 Proposed Summons) (Bowens, Priscilla). (Entered: 03/10/2016) \n",
      "\n",
      "complaint against cardiogenics holdings inc filing fee receipt number was the disclosure statement on civil cover sheet completed yes filed by lg capital funding llc steinmetz michael additional attachment s added on date civil cover sheet proposed summons bowens priscilla entered date \n"
     ]
    }
   ],
   "source": [
    "url_regex1 = r\"\"\"(?i)\\b((?:https?:(?:/{1,3}|[a-z0-9%])|[a-z0-9.\\-]+[.](?:com|net|org|edu|gov|mil|aero|asia|biz|cat|coop|info|int|jobs|mobi|museum|name|post|pro|tel|travel|xxx|ac|ad|ae|af|ag|ai|al|am|an|ao|aq|ar|as|at|au|aw|ax|az|ba|bb|bd|be|bf|bg|bh|bi|bj|bm|bn|bo|br|bs|bt|bv|bw|by|bz|ca|cc|cd|cf|cg|ch|ci|ck|cl|cm|cn|co|cr|cs|cu|cv|cx|cy|cz|dd|de|dj|dk|dm|do|dz|ec|ee|eg|eh|er|es|et|eu|fi|fj|fk|fm|fo|fr|ga|gb|gd|ge|gf|gg|gh|gi|gl|gm|gn|gp|gq|gr|gs|gt|gu|gw|gy|hk|hm|hn|hr|ht|hu|id|ie|il|im|in|io|iq|ir|is|it|je|jm|jo|jp|ke|kg|kh|ki|km|kn|kp|kr|kw|ky|kz|la|lb|lc|li|lk|lr|ls|lt|lu|lv|ly|ma|mc|md|me|mg|mh|mk|ml|mm|mn|mo|mp|mq|mr|ms|mt|mu|mv|mw|mx|my|mz|na|nc|ne|nf|ng|ni|nl|no|np|nr|nu|nz|om|pa|pe|pf|pg|ph|pk|pl|pm|pn|pr|ps|pt|pw|py|qa|re|ro|rs|ru|rw|sa|sb|sc|sd|se|sg|sh|si|sj|Ja|sk|sl|sm|sn|so|sr|ss|st|su|sv|sx|sy|sz|tc|td|tf|tg|th|tj|tk|tl|tm|tn|to|tp|tr|tt|tv|tw|tz|ua|ug|uk|us|uy|uz|va|vc|ve|vg|vi|vn|vu|wf|ws|ye|yt|yu|za|zm|zw)/)(?:[^\\s()<>{}\\[\\]]+|\\([^\\s()]*?\\([^\\s()]+\\)[^\\s()]*?\\)|\\([^\\s]+?\\))+(?:\\([^\\s()]*?\\([^\\s()]+\\)[^\\s()]*?\\)|\\([^\\s]+?\\)|[^\\s`!()\\[\\]{};:'\".,<>?«»“”‘’])|(?:(?<!@)[a-z0-9]+(?:[.\\-][a-z0-9]+)*[.](?:com|net|org|edu|gov|mil|aero|asia|biz|cat|coop|info|int|jobs|mobi|museum|name|post|pro|tel|travel|xxx|ac|ad|ae|af|ag|ai|al|am|an|ao|aq|ar|as|at|au|aw|ax|az|ba|bb|bd|be|bf|bg|bh|bi|bj|bm|bn|bo|br|bs|bt|bv|bw|by|bz|ca|cc|cd|cf|cg|ch|ci|ck|cl|cm|cn|co|cr|cs|cu|cv|cx|cy|cz|dd|de|dj|dk|dm|do|dz|ec|ee|eg|eh|er|es|et|eu|fi|fj|fk|fm|fo|fr|ga|gb|gd|ge|gf|gg|gh|gi|gl|gm|gn|gp|gq|gr|gs|gt|gu|gw|gy|hk|hm|hn|hr|ht|hu|id|ie|il|im|in|io|iq|ir|is|it|je|jm|jo|jp|ke|kg|kh|ki|km|kn|kp|kr|kw|ky|kz|la|lb|lc|li|lk|lr|ls|lt|lu|lv|ly|ma|mc|md|me|mg|mh|mk|ml|mm|mn|mo|mp|mq|mr|ms|mt|mu|mv|mw|mx|my|mz|na|nc|ne|nf|ng|ni|nl|no|np|nr|nu|nz|om|pa|pe|pf|pg|ph|pk|pl|pm|pn|pr|ps|pt|pw|py|qa|re|ro|rs|ru|rw|sa|sb|sc|sd|se|sg|sh|si|sj|Ja|sk|sl|sm|sn|so|sr|ss|st|su|sv|sx|sy|sz|tc|td|tf|tg|th|tj|tk|tl|tm|tn|to|tp|tr|tt|tv|tw|tz|ua|ug|uk|us|uy|uz|va|vc|ve|vg|vi|vn|vu|wf|ws|ye|yt|yu|za|zm|zw)\\b/?(?!@)))\"\"\"\n",
    "url_regex2 = 'http[s]?://(?:[a-zA-Z]|[0-9]|[$-_@.&+]|[!*\\(\\),]|(?:%[0-9a-fA-F][0-9a-fA-F]))+'\n",
    "date_regex = '(\\d{1,2}[\\/ ](\\d{2}|January|Jan|February|Feb|March|Mar|April|Apr|May|May|June|Jun|July|Jul|August|Aug|September|Sep|October|Oct|November|Nov|December|Dec)[\\/ ]\\d{2,4})'\n",
    "punct_regex = r\"[^a-zA-Z0-9]\"\n",
    "num_regex = \"\\d+\"\n",
    "extraspace_regex = \" +\"\n",
    "\n",
    "docket_normalized = [text.lower() for text in docket_original]\n",
    "docket_nourl = [re.sub(url_regex2, \"URL\", text) for text in docket_normalized]\n",
    "docket_nourl = [re.sub(url_regex1, \"URL\", text) for text in docket_nourl]\n",
    "docket_nodate = [re.sub(date_regex, \"DATE\", text) for text in docket_nourl]\n",
    "docket_nopunct = [re.sub(punct_regex, \" \", text) for text in docket_nodate]\n",
    "docket_nonum = [re.sub(num_regex, \" \", text) for text in docket_nopunct]\n",
    "docket_noextraspace = [re.sub(extraspace_regex, \" \", text) for text in docket_nonum]"
   ]
  },
  {
   "cell_type": "code",
   "execution_count": 13,
   "metadata": {},
   "outputs": [
    {
     "name": "stdout",
     "output_type": "stream",
     "text": [
      "COMPLAINT against Cardiogenics Holdings, Inc. filing fee $ 400, receipt number 0207-8445206 Was the Disclosure Statement on Civil Cover Sheet completed -YES,, filed by LG Capital Funding, LLC. (Steinmetz, Michael) (Additional attachment(s) added on 3/11/2016: # 1 Civil Cover Sheet, # 2 Proposed Summons) (Bowens, Priscilla). (Entered: 03/10/2016) \n",
      "\n",
      "complaint against cardiogenics holdings inc filing fee receipt number was the disclosure statement on civil cover sheet completed yes filed by lg capital funding llc steinmetz michael additional attachment s added on date civil cover sheet proposed summons bowens priscilla entered date \n"
     ]
    }
   ],
   "source": [
    "print(docket_original[0], '\\n')\n",
    "\n",
    "print(docket_noextraspace[0])"
   ]
  },
  {
   "cell_type": "markdown",
   "metadata": {},
   "source": [
    "### 2. Split and tokenize"
   ]
  },
  {
   "cell_type": "code",
   "execution_count": 14,
   "metadata": {},
   "outputs": [
    {
     "data": {
      "text/plain": [
       "['complaint',\n",
       " 'against',\n",
       " 'cardiogenics',\n",
       " 'holdings',\n",
       " 'inc',\n",
       " 'filing',\n",
       " 'fee',\n",
       " 'receipt',\n",
       " 'number',\n",
       " 'was',\n",
       " 'the',\n",
       " 'disclosure',\n",
       " 'statement',\n",
       " 'on',\n",
       " 'civil',\n",
       " 'cover',\n",
       " 'sheet',\n",
       " 'completed',\n",
       " 'yes',\n",
       " 'filed',\n",
       " 'by',\n",
       " 'lg',\n",
       " 'capital',\n",
       " 'funding',\n",
       " 'llc',\n",
       " 'steinmetz',\n",
       " 'michael',\n",
       " 'additional',\n",
       " 'attachment',\n",
       " 's',\n",
       " 'added',\n",
       " 'on',\n",
       " 'date',\n",
       " 'civil',\n",
       " 'cover',\n",
       " 'sheet',\n",
       " 'proposed',\n",
       " 'summons',\n",
       " 'bowens',\n",
       " 'priscilla',\n",
       " 'entered',\n",
       " 'date']"
      ]
     },
     "execution_count": 14,
     "metadata": {},
     "output_type": "execute_result"
    }
   ],
   "source": [
    "docket_tokenized = [word_tokenize(text) for text in docket_noextraspace]\n",
    "docket_tokenized[0]"
   ]
  },
  {
   "cell_type": "markdown",
   "metadata": {},
   "source": [
    "### 3. Remove Stop words"
   ]
  },
  {
   "cell_type": "code",
   "execution_count": 79,
   "metadata": {},
   "outputs": [
    {
     "name": "stdout",
     "output_type": "stream",
     "text": [
      "['complaint', 'cardiogenics', 'holdings', 'inc', 'filing', 'fee', 'receipt', 'number', 'disclosure', 'statement', 'civil', 'cover', 'sheet', 'completed', 'yes', 'filed', 'lg', 'capital', 'funding', 'llc', 'steinmetz', 'michael', 'additional', 'attachment', 'added', 'date', 'civil', 'cover', 'sheet', 'proposed', 'summons', 'bowens', 'priscilla', 'entered', 'date']\n"
     ]
    }
   ],
   "source": [
    "docket_nostop = [[w for w in words if w not in stopwords.words(\"english\")] for words in docket_tokenized]\n",
    "print(docket_nostop[0])"
   ]
  },
  {
   "cell_type": "markdown",
   "metadata": {},
   "source": [
    "### 4. Lemmatization"
   ]
  },
  {
   "cell_type": "code",
   "execution_count": 80,
   "metadata": {},
   "outputs": [
    {
     "name": "stdout",
     "output_type": "stream",
     "text": [
      "['complaint', 'cardiogenics', 'hold', 'inc', 'file', 'fee', 'receipt', 'number', 'disclosure', 'statement', 'civil', 'cover', 'sheet', 'complete', 'yes', 'file', 'lg', 'capital', 'fund', 'llc', 'steinmetz', 'michael', 'additional', 'attachment', 'add', 'date', 'civil', 'cover', 'sheet', 'propose', 'summon', 'bowens', 'priscilla', 'enter', 'date']\n"
     ]
    }
   ],
   "source": [
    "docket_lemmed = [[WordNetLemmatizer().lemmatize(w, pos='v') for w in words] for words in docket_nostop]\n",
    "print(docket_lemmed[0])"
   ]
  },
  {
   "cell_type": "markdown",
   "metadata": {},
   "source": [
    "### 5. Phrase Modeling"
   ]
  },
  {
   "cell_type": "code",
   "execution_count": 81,
   "metadata": {},
   "outputs": [
    {
     "data": {
      "text/plain": [
       "['complaint cardiogenics hold inc file fee receipt number disclosure statement civil cover sheet complete yes file lg capital fund llc steinmetz michael additional attachment add date civil cover sheet propose summon bowens priscilla enter date',\n",
       " 'case assign judge ann donnelly magistrate judge vera scanlon please download review individual practice assign judge locate website attorneys responsible provide courtesy copy judge individual practice require bowens priscilla enter date',\n",
       " 'summon issue cardiogenics hold inc bowens priscilla enter date',\n",
       " 'notice email attorney regard miss second page civil cover sheet bowens priscilla enter date',\n",
       " 'accordance rule federal rule civil procedure local rule party notify party consent unite state magistrate judge court available conduct proceed civil action include jury nonjury trial order entry final judgment attach notice blank copy consent form fill sign file electronically party wish consent form may also access follow link url may withhold consent without adverse substantive consequences return file consent unless party sign consent bowens priscilla enter date']"
      ]
     },
     "execution_count": 81,
     "metadata": {},
     "output_type": "execute_result"
    }
   ],
   "source": [
    "docket_phrase1 = [' '.join(text) for text in docket_lemmed]\n",
    "docket_phrase1[:5]"
   ]
  },
  {
   "cell_type": "code",
   "execution_count": 82,
   "metadata": {},
   "outputs": [],
   "source": [
    "unigram_sentences_filepath = 'docket_texts/train/DT/unigram_nltk_newsop.txt'"
   ]
  },
  {
   "cell_type": "code",
   "execution_count": 83,
   "metadata": {},
   "outputs": [
    {
     "name": "stdout",
     "output_type": "stream",
     "text": [
      "Wall time: 15.4 ms\n"
     ]
    }
   ],
   "source": [
    "%%time\n",
    "# turn the lemmatized corpus into unigram sentences\n",
    "with codecs.open(unigram_sentences_filepath, 'w', encoding = 'utf_8') as f:\n",
    "    for sentence in docket_phrase1:\n",
    "        f.write(sentence + '\\n')"
   ]
  },
  {
   "cell_type": "code",
   "execution_count": 84,
   "metadata": {},
   "outputs": [],
   "source": [
    "unigram_sentences = LineSentence(unigram_sentences_filepath)"
   ]
  },
  {
   "cell_type": "code",
   "execution_count": 85,
   "metadata": {},
   "outputs": [],
   "source": [
    "bigram_model_filepath = 'docket_texts/train/DT/bigram_model_newsop' "
   ]
  },
  {
   "cell_type": "code",
   "execution_count": 86,
   "metadata": {},
   "outputs": [
    {
     "name": "stdout",
     "output_type": "stream",
     "text": [
      "Wall time: 250 ms\n"
     ]
    }
   ],
   "source": [
    "%%time\n",
    "\n",
    "# store our bigram model\n",
    "bigram_model = Phrases(unigram_sentences)\n",
    "bigram_model.save(bigram_model_filepath)\n",
    "    \n",
    "# load the finished model from disk if we don't want to run this again\n",
    "#bigram_model = Phrases.load(bigram_model_filepath)"
   ]
  },
  {
   "cell_type": "code",
   "execution_count": 87,
   "metadata": {},
   "outputs": [],
   "source": [
    "bigram_sentences_filepath = 'docket_texts/train/DT/bigram_sentences_newsop.txt'"
   ]
  },
  {
   "cell_type": "code",
   "execution_count": 88,
   "metadata": {},
   "outputs": [
    {
     "name": "stderr",
     "output_type": "stream",
     "text": [
      "c:\\users\\inves\\appdata\\local\\programs\\python\\python35\\lib\\site-packages\\gensim\\models\\phrases.py:494: UserWarning: For a faster implementation, use the gensim.models.phrases.Phraser class\n",
      "  warnings.warn(\"For a faster implementation, use the gensim.models.phrases.Phraser class\")\n"
     ]
    },
    {
     "name": "stdout",
     "output_type": "stream",
     "text": [
      "Wall time: 484 ms\n"
     ]
    }
   ],
   "source": [
    "%%time\n",
    "\n",
    "# apply the bigram model, and write it to file\n",
    "with codecs.open(bigram_sentences_filepath, 'w', encoding = 'utf_8') as f:\n",
    "    for unigram_sentence in unigram_sentences:\n",
    "        bigram_sentence = ' '.join(bigram_model[unigram_sentence])\n",
    "        f.write(bigram_sentence + '\\n')"
   ]
  },
  {
   "cell_type": "code",
   "execution_count": 89,
   "metadata": {},
   "outputs": [],
   "source": [
    "bigram_sentences = LineSentence(bigram_sentences_filepath)"
   ]
  },
  {
   "cell_type": "code",
   "execution_count": 90,
   "metadata": {},
   "outputs": [
    {
     "name": "stdout",
     "output_type": "stream",
     "text": [
      "\n",
      "Unigram sentence:\n",
      "complaint cardiogenics hold inc file fee receipt number disclosure statement civil cover sheet complete yes file lg capital fund llc steinmetz michael additional attachment add date civil cover sheet propose summon bowens priscilla enter date\n",
      "case assign judge ann donnelly magistrate judge vera scanlon please download review individual practice assign judge locate website attorneys responsible provide courtesy copy judge individual practice require bowens priscilla enter date\n",
      "summon issue cardiogenics hold inc bowens priscilla enter date\n",
      "notice email attorney regard miss second page civil cover sheet bowens priscilla enter date\n",
      "accordance rule federal rule civil procedure local rule party notify party consent unite state magistrate judge court available conduct proceed civil action include jury nonjury trial order entry final judgment attach notice blank copy consent form fill sign file electronically party wish consent form may also access follow link url may withhold consent without adverse substantive consequences return file consent unless party sign consent bowens priscilla enter date\n",
      "attorney case open file check quality control see attachment corrections make bowens priscilla enter date\n",
      "notice appearance kevin kehrli behalf lg capital fund llc aty notice kehrli kevin enter date\n",
      "exhibit backend note lg capital fund llc relate document complaint file lg capital fund llc kehrli kevin enter date\n",
      "exhibit b ta letter lg capital fund llc relate document complaint file lg capital fund llc kehrli kevin enter date\n",
      "exhibit c notice conversion lg capital fund llc relate document complaint file lg capital fund llc kehrli kevin enter date\n",
      "\n",
      "Bigram sentence:\n",
      "complaint cardiogenics_hold inc file fee_receipt number disclosure_statement civil_cover sheet_complete yes file lg_capital fund_llc steinmetz michael additional_attachment add date civil_cover sheet propose summon bowens_priscilla enter date\n",
      "case assign judge ann_donnelly magistrate_judge vera_scanlon please_download review_individual practice_assign judge locate_website attorneys_responsible provide_courtesy copy judge individual_practice require bowens_priscilla enter date\n",
      "summon_issue cardiogenics_hold inc bowens_priscilla enter date\n",
      "notice email attorney regard miss second page civil_cover sheet bowens_priscilla enter date\n",
      "accordance rule_federal rule_civil procedure_local rule party notify party consent unite_state magistrate_judge court available_conduct proceed civil action include jury_nonjury trial order entry final judgment attach notice blank_copy consent_form fill sign file electronically party_wish consent_form may also_access follow_link url may_withhold consent without_adverse substantive_consequences return file consent_unless party sign consent bowens_priscilla enter date\n",
      "attorney case_open file check_quality control_see attachment_corrections make bowens_priscilla enter date\n",
      "notice_appearance kevin_kehrli behalf lg_capital fund_llc aty_notice kehrli_kevin enter date\n",
      "exhibit backend note lg_capital fund_llc relate document complaint file lg_capital fund_llc kehrli_kevin enter date\n",
      "exhibit b ta letter lg_capital fund_llc relate document complaint file lg_capital fund_llc kehrli_kevin enter date\n",
      "exhibit c notice_conversion lg_capital fund_llc relate document complaint file lg_capital fund_llc kehrli_kevin enter date\n"
     ]
    }
   ],
   "source": [
    "print('\\nUnigram sentence:')\n",
    "for unigram_sentence in it.islice(unigram_sentences, 0, 10):\n",
    "    print(' '.join(unigram_sentence))\n",
    "print('\\nBigram sentence:')\n",
    "for bigram_sentence in it.islice(bigram_sentences, 0, 10):\n",
    "    print(' '.join(bigram_sentence))"
   ]
  },
  {
   "cell_type": "code",
   "execution_count": 91,
   "metadata": {},
   "outputs": [],
   "source": [
    "trigram_model_filepath = 'docket_texts/train/DT/trigram_model_newsop'"
   ]
  },
  {
   "cell_type": "code",
   "execution_count": 92,
   "metadata": {},
   "outputs": [
    {
     "name": "stdout",
     "output_type": "stream",
     "text": [
      "Wall time: 250 ms\n"
     ]
    }
   ],
   "source": [
    "%%time\n",
    "\n",
    "# again, using Phrases to attach more words to phrases already formed\n",
    "trigram_model = Phrases(bigram_sentences)\n",
    "trigram_model.save(trigram_model_filepath)\n",
    "\n",
    "# load the finished model from disk\n",
    "#trigram_model = Phrases.load(trigram_model_filepath)"
   ]
  },
  {
   "cell_type": "code",
   "execution_count": 93,
   "metadata": {},
   "outputs": [],
   "source": [
    "trigram_sentences_filepath = 'docket_texts/train/DT/trigram_sentences_newsop.txt'"
   ]
  },
  {
   "cell_type": "code",
   "execution_count": 94,
   "metadata": {},
   "outputs": [
    {
     "name": "stderr",
     "output_type": "stream",
     "text": [
      "c:\\users\\inves\\appdata\\local\\programs\\python\\python35\\lib\\site-packages\\gensim\\models\\phrases.py:494: UserWarning: For a faster implementation, use the gensim.models.phrases.Phraser class\n",
      "  warnings.warn(\"For a faster implementation, use the gensim.models.phrases.Phraser class\")\n"
     ]
    },
    {
     "name": "stdout",
     "output_type": "stream",
     "text": [
      "Wall time: 437 ms\n"
     ]
    }
   ],
   "source": [
    "%%time\n",
    "\n",
    "with codecs.open(trigram_sentences_filepath, 'w', encoding = 'utf_8') as f:\n",
    "    for bigram_sentence in bigram_sentences:\n",
    "        #print('Bi', bigram_sentence)\n",
    "        trigram_sentence = ' '.join(trigram_model[bigram_sentence])\n",
    "        #print('Tri', trigram_sentence)\n",
    "        f.write(trigram_sentence + '\\n')"
   ]
  },
  {
   "cell_type": "code",
   "execution_count": 95,
   "metadata": {},
   "outputs": [],
   "source": [
    "trigram_sentences = LineSentence(trigram_sentences_filepath)"
   ]
  },
  {
   "cell_type": "code",
   "execution_count": 96,
   "metadata": {},
   "outputs": [
    {
     "name": "stdout",
     "output_type": "stream",
     "text": [
      "Original text:\n",
      "['complaint cardiogenics hold inc file fee receipt number disclosure statement civil cover sheet complete yes file lg capital fund llc steinmetz michael additional attachment add date civil cover sheet propose summon bowens priscilla enter date', 'case assign judge ann donnelly magistrate judge vera scanlon please download review individual practice assign judge locate website attorneys responsible provide courtesy copy judge individual practice require bowens priscilla enter date', 'summon issue cardiogenics hold inc bowens priscilla enter date', 'notice email attorney regard miss second page civil cover sheet bowens priscilla enter date', 'accordance rule federal rule civil procedure local rule party notify party consent unite state magistrate judge court available conduct proceed civil action include jury nonjury trial order entry final judgment attach notice blank copy consent form fill sign file electronically party wish consent form may also access follow link url may withhold consent without adverse substantive consequences return file consent unless party sign consent bowens priscilla enter date'] \n",
      "\n",
      "\n",
      "UNIGRAM Sentence:\n",
      "complaint cardiogenics hold inc file fee receipt number disclosure statement civil cover sheet complete yes file lg capital fund llc steinmetz michael additional attachment add date civil cover sheet propose summon bowens priscilla enter date\n",
      "case assign judge ann donnelly magistrate judge vera scanlon please download review individual practice assign judge locate website attorneys responsible provide courtesy copy judge individual practice require bowens priscilla enter date\n",
      "summon issue cardiogenics hold inc bowens priscilla enter date\n",
      "notice email attorney regard miss second page civil cover sheet bowens priscilla enter date\n",
      "accordance rule federal rule civil procedure local rule party notify party consent unite state magistrate judge court available conduct proceed civil action include jury nonjury trial order entry final judgment attach notice blank copy consent form fill sign file electronically party wish consent form may also access follow link url may withhold consent without adverse substantive consequences return file consent unless party sign consent bowens priscilla enter date\n",
      "\n",
      "BIGRAM Sentence:\n",
      "complaint cardiogenics_hold inc file fee_receipt number disclosure_statement civil_cover sheet_complete yes file lg_capital fund_llc steinmetz michael additional_attachment add date civil_cover sheet propose summon bowens_priscilla enter date\n",
      "case assign judge ann_donnelly magistrate_judge vera_scanlon please_download review_individual practice_assign judge locate_website attorneys_responsible provide_courtesy copy judge individual_practice require bowens_priscilla enter date\n",
      "summon_issue cardiogenics_hold inc bowens_priscilla enter date\n",
      "notice email attorney regard miss second page civil_cover sheet bowens_priscilla enter date\n",
      "accordance rule_federal rule_civil procedure_local rule party notify party consent unite_state magistrate_judge court available_conduct proceed civil action include jury_nonjury trial order entry final judgment attach notice blank_copy consent_form fill sign file electronically party_wish consent_form may also_access follow_link url may_withhold consent without_adverse substantive_consequences return file consent_unless party sign consent bowens_priscilla enter date\n",
      "\n",
      "TRIGRAM Sentence:\n",
      "complaint cardiogenics_hold_inc file fee_receipt_number disclosure_statement_civil_cover sheet_complete_yes file lg_capital_fund_llc steinmetz michael additional_attachment_add date civil_cover_sheet propose summon bowens_priscilla enter date\n",
      "case_assign judge_ann_donnelly magistrate_judge_vera_scanlon please_download_review_individual practice_assign_judge locate_website_attorneys_responsible provide_courtesy_copy judge_individual_practice require bowens_priscilla enter date\n",
      "summon_issue cardiogenics_hold_inc bowens_priscilla enter date\n",
      "notice email attorney regard miss second page civil_cover_sheet bowens_priscilla enter date\n",
      "accordance_rule_federal rule_civil_procedure_local rule party_notify party consent_unite_state magistrate_judge court available_conduct_proceed civil_action include_jury_nonjury trial order entry_final judgment attach notice blank_copy_consent_form fill_sign file electronically_party_wish consent_form_may also_access_follow_link url_may_withhold consent_without_adverse substantive_consequences_return file consent_unless party sign consent bowens_priscilla enter date\n"
     ]
    }
   ],
   "source": [
    "start = 0\n",
    "finish = 5\n",
    "print('Original text:')\n",
    "print(docket_phrase1[start:finish], '\\n')\n",
    "\n",
    "print('\\nUNIGRAM Sentence:')\n",
    "for unigram_sentence in it.islice(unigram_sentences, start, finish):\n",
    "    print(' '.join(unigram_sentence))\n",
    "print('\\nBIGRAM Sentence:')\n",
    "for bigram_sentence in it.islice(bigram_sentences, start, finish):\n",
    "    print(' '.join(bigram_sentence))\n",
    "print('\\nTRIGRAM Sentence:')\n",
    "for trigram_sentence in it.islice(trigram_sentences, start, finish):\n",
    "    print(' '.join(trigram_sentence))"
   ]
  },
  {
   "cell_type": "code",
   "execution_count": 64,
   "metadata": {},
   "outputs": [],
   "source": [
    "def trigram_transform(texts):\n",
    "    display = False\n",
    "    texts = str(texts)\n",
    "    trigram_output = ''\n",
    "    #print(texts)\n",
    "\n",
    "    remove_trigram = ['calendar_day', 'court_notice_intend', 'minute_entry_proceeding_hold', 'court_reportertranscriber_abovecaptioned_matter',\n",
    "                      'redaction_calendar_day', 'rule_statement', 'obtain_pacer', 'may_obtain_pacer', 'reportertranscriber_abovecaptioned_matter',\n",
    "                      'redact_transcript_deadline', 'send_chamber', \"official_transcript_notice_give\", \"notice_intent_request\", \"proceed_hold\", \n",
    "                      \"fee_receipt_number\", \"civil_procedure\", \"pursuant_frcp\", \"official_transcript_conference\", \n",
    "                      \"purchase_reportertranscriber_deadline_release\", \"et_al\", \"mail_chamber\", \"transcript_restriction\", \"redaction_transcript\", \n",
    "                      \"transcript_view_public_terminal\", \"transcript_make_remotely\", \"associated_et_al\", \"electronically_available_public_without\", \n",
    "                      \"genesys_id\", \"release_transcript_restriction\", \"adar_bay\", \"redaction_request_due\", \"new_york\", \"official_transcript_conference\", \n",
    "                      \"transcript_make_remotely\", \"transcript_proceeding_conference_hold\", \"redaction_transcript\",\n",
    "                      'affidavit_jr._c.p.a', 'corporate_parent', 'certain_underwriter', 'federal_rule_civil_procedure', 'redaction_request', \n",
    "                      'official_transcript', 'rule_disclosure', 'rule_corporate_disclosure', 'place_vault', 'public_without_redaction_calendar', \n",
    "                      'purchase_deadline_release_transcript', 'transcript_proceeding_hold', 'transcript_remotely_electronically_available',\n",
    "                      'minute_entry_hold', 'discovery_hear_hold', 'jury_trial_hold', \"sign_judge\",'place_vault']\n",
    "\n",
    "    if texts == None:\n",
    "        return None\n",
    "    \n",
    "    unigram_review = []\n",
    "    for word in texts.split():\n",
    "        unigram_review.append(word)\n",
    "    if display:\n",
    "        print('Uni: ', unigram_review)\n",
    "    bigram_review = bigram_model[unigram_review]\n",
    "    if display:\n",
    "        print('Bi: ', bigram_review)\n",
    "    trigram_review = trigram_model[bigram_review]\n",
    "    if display:\n",
    "        print('Tri: ', trigram_review)\n",
    "    trigram_review = [phrase for phrase in trigram_review if phrase not in remove_trigram]\n",
    "    if display:\n",
    "        print('Tri removed: ', trigram_review)\n",
    "    trigram_output += ' '.join(trigram_review)\n",
    "    \n",
    "    return trigram_output"
   ]
  },
  {
   "cell_type": "code",
   "execution_count": 97,
   "metadata": {},
   "outputs": [
    {
     "name": "stderr",
     "output_type": "stream",
     "text": [
      "c:\\users\\inves\\appdata\\local\\programs\\python\\python35\\lib\\site-packages\\gensim\\models\\phrases.py:494: UserWarning: For a faster implementation, use the gensim.models.phrases.Phraser class\n",
      "  warnings.warn(\"For a faster implementation, use the gensim.models.phrases.Phraser class\")\n"
     ]
    }
   ],
   "source": [
    "docket_phrase2 = [trigram_transform(text) for text in docket_phrase1]"
   ]
  },
  {
   "cell_type": "code",
   "execution_count": 99,
   "metadata": {},
   "outputs": [
    {
     "name": "stdout",
     "output_type": "stream",
     "text": [
      "['COMPLAINT against Cardiogenics Holdings, Inc. filing fee $ 400, receipt number 0207-8445206 Was the Disclosure Statement on Civil Cover Sheet completed -YES,, filed by LG Capital Funding, LLC. (Steinmetz, Michael) (Additional attachment(s) added on 3/11/2016: # 1 Civil Cover Sheet, # 2 Proposed Summons) (Bowens, Priscilla). (Entered: 03/10/2016)', 'Case assigned to Judge Ann M Donnelly and Magistrate Judge Vera M. Scanlon. Please download and review the Individual Practices of the assigned Judges, located on our website. Attorneys are responsible for providing courtesy copies to judges where their Individual Practices require such. (Bowens, Priscilla) (Entered: 03/11/2016)', 'Summons Issued as to Cardiogenics Holdings, Inc.. (Bowens, Priscilla) (Entered: 03/11/2016)', 'NOTICE - emailed attorney regarding missing second page of the civil cover sheet. (Bowens, Priscilla) (Entered: 03/11/2016)', 'In accordance with Rule 73 of the Federal Rules of Civil Procedure and Local Rule 73.1, the parties are notified that if all parties consent a United States magistrate judge of this court is available to conduct all proceedings in this civil action including a (jury or nonjury) trial and to order the entry of a final judgment. Attached to the Notice is a blank copy of the consent form that should be filled out, signed and filed electronically only if all parties wish to consent. The form may also be accessed at the following link: http://www.uscourts.gov/uscourts/FormsAndFees/Forms/AO085.pdf. You may withhold your consent without adverse substantive consequences. Do NOT return or file the consent unless all parties have signed the consent. (Bowens, Priscilla) (Entered: 03/11/2016)']\n",
      "['complaint cardiogenics_hold_inc file disclosure_statement_civil_cover sheet_complete_yes file lg_capital_fund_llc steinmetz michael additional_attachment_add date civil_cover_sheet propose summon bowens_priscilla enter date', 'case_assign judge_ann_donnelly magistrate_judge_vera_scanlon please_download_review_individual practice_assign_judge locate_website_attorneys_responsible provide_courtesy_copy judge_individual_practice require bowens_priscilla enter date', 'summon_issue cardiogenics_hold_inc bowens_priscilla enter date', 'notice email attorney regard miss second page civil_cover_sheet bowens_priscilla enter date', 'accordance_rule_federal rule_civil_procedure_local rule party_notify party consent_unite_state magistrate_judge court available_conduct_proceed civil_action include_jury_nonjury trial order entry_final judgment attach notice blank_copy_consent_form fill_sign file electronically_party_wish consent_form_may also_access_follow_link url_may_withhold consent_without_adverse substantive_consequences_return file consent_unless party sign consent bowens_priscilla enter date']\n"
     ]
    },
    {
     "data": {
      "text/plain": [
       "3049"
      ]
     },
     "execution_count": 99,
     "metadata": {},
     "output_type": "execute_result"
    }
   ],
   "source": [
    "print(docket_original[:5])\n",
    "print(docket_phrase2[:5])\n",
    "len(set(docket_phrase2))"
   ]
  },
  {
   "cell_type": "markdown",
   "metadata": {},
   "source": [
    "### 6. Use NER (named entity recognition) and GPE (geo-political entity)\n",
    "This did not work as well as I thought. Also, the standford version worked better than the nltk version.\n",
    "Seems like after some text treatments, it's hard for the NER to be identified."
   ]
  },
  {
   "cell_type": "code",
   "execution_count": 106,
   "metadata": {},
   "outputs": [
    {
     "name": "stdout",
     "output_type": "stream",
     "text": [
      "orignal text: \n",
      "[('COMPLAINT', 'NNP', 'B-ORGANIZATION'), ('against', 'IN', 'O'), ('Cardiogenics', 'NNP', 'B-ORGANIZATION'), ('Holdings', 'NNPS', 'I-ORGANIZATION'), (',', ',', 'O'), ('Inc.', 'NNP', 'O'), ('filing', 'VBG', 'O'), ('fee', 'JJ', 'O'), ('$', '$', 'O'), ('400', 'CD', 'O'), (',', ',', 'O'), ('receipt', 'JJ', 'O'), ('number', 'NN', 'O'), ('0207-8445206', 'NN', 'O'), ('Was', 'NNP', 'O'), ('the', 'DT', 'O'), ('Disclosure', 'NNP', 'B-ORGANIZATION'), ('Statement', 'NNP', 'O'), ('on', 'IN', 'O'), ('Civil', 'NNP', 'B-PERSON'), ('Cover', 'NNP', 'I-PERSON'), ('Sheet', 'NNP', 'I-PERSON'), ('completed', 'VBD', 'O'), ('-YES', 'NNP', 'O'), (',', ',', 'O'), (',', ',', 'O'), ('filed', 'VBN', 'O'), ('by', 'IN', 'O'), ('LG', 'NNP', 'B-ORGANIZATION'), ('Capital', 'NNP', 'I-ORGANIZATION'), ('Funding', 'NNP', 'I-ORGANIZATION'), (',', ',', 'O'), ('LLC', 'NNP', 'B-ORGANIZATION'), ('.', '.', 'O'), ('(', '(', 'O'), ('Steinmetz', 'NNP', 'B-PERSON'), (',', ',', 'O'), ('Michael', 'NNP', 'B-GPE'), (')', ')', 'O'), ('(', '(', 'O'), ('Additional', 'JJ', 'B-ORGANIZATION'), ('attachment', 'NN', 'O'), ('(', '(', 'O'), ('s', 'PRP', 'O'), (')', ')', 'O'), ('added', 'VBD', 'O'), ('on', 'IN', 'O'), ('3/11/2016', 'CD', 'O'), (':', ':', 'O'), ('#', '#', 'O'), ('1', 'CD', 'O'), ('Civil', 'NNP', 'O'), ('Cover', 'NNP', 'O'), ('Sheet', 'NNP', 'O'), (',', ',', 'O'), ('#', '#', 'O'), ('2', 'CD', 'O'), ('Proposed', 'VBN', 'O'), ('Summons', 'NNS', 'O'), (')', ')', 'O'), ('(', '(', 'O'), ('Bowens', 'NNP', 'B-GPE'), (',', ',', 'O'), ('Priscilla', 'NNP', 'B-GPE'), (')', ')', 'O'), ('.', '.', 'O'), ('(', '(', 'O'), ('Entered', 'VBD', 'O'), (':', ':', 'O'), ('03/10/2016', 'CD', 'O'), (')', ')', 'O')] \n",
      "\n",
      "normalized: \n",
      "[('complaint', 'NN', 'O'), ('against', 'IN', 'O'), ('cardiogenics', 'NNS', 'O'), ('holdings', 'NNS', 'O'), (',', ',', 'O'), ('inc.', 'JJ', 'O'), ('filing', 'VBG', 'O'), ('fee', 'JJ', 'O'), ('$', '$', 'O'), ('400', 'CD', 'O'), (',', ',', 'O'), ('receipt', 'JJ', 'O'), ('number', 'NN', 'O'), ('0207-8445206', 'NN', 'O'), ('was', 'VBD', 'O'), ('the', 'DT', 'O'), ('disclosure', 'NN', 'O'), ('statement', 'NN', 'O'), ('on', 'IN', 'O'), ('civil', 'JJ', 'O'), ('cover', 'NN', 'O'), ('sheet', 'NN', 'O'), ('completed', 'VBD', 'O'), ('-yes', 'NNP', 'O'), (',', ',', 'O'), (',', ',', 'O'), ('filed', 'VBN', 'O'), ('by', 'IN', 'O'), ('lg', 'JJ', 'O'), ('capital', 'NN', 'O'), ('funding', 'NN', 'O'), (',', ',', 'O'), ('llc', 'NN', 'O'), ('.', '.', 'O'), ('(', '(', 'O'), ('steinmetz', 'JJ', 'O'), (',', ',', 'O'), ('michael', 'NN', 'O'), (')', ')', 'O'), ('(', '(', 'O'), ('additional', 'JJ', 'O'), ('attachment', 'NN', 'O'), ('(', '(', 'O'), ('s', 'PRP', 'O'), (')', ')', 'O'), ('added', 'VBD', 'O'), ('on', 'IN', 'O'), ('3/11/2016', 'CD', 'O'), (':', ':', 'O'), ('#', '#', 'O'), ('1', 'CD', 'O'), ('civil', 'JJ', 'O'), ('cover', 'NN', 'O'), ('sheet', 'NN', 'O'), (',', ',', 'O'), ('#', '#', 'O'), ('2', 'CD', 'O'), ('proposed', 'JJ', 'O'), ('summons', 'NNS', 'O'), (')', ')', 'O'), ('(', '(', 'O'), ('bowens', 'UH', 'O'), (',', ',', 'O'), ('priscilla', 'NN', 'O'), (')', ')', 'O'), ('.', '.', 'O'), ('(', '(', 'O'), ('entered', 'VBN', 'O'), (':', ':', 'O'), ('03/10/2016', 'CD', 'O'), (')', ')', 'O')] \n",
      "\n",
      "no url: \n",
      "[('complaint', 'NN', 'O'), ('against', 'IN', 'O'), ('cardiogenics', 'NNS', 'O'), ('holdings', 'NNS', 'O'), (',', ',', 'O'), ('inc.', 'JJ', 'O'), ('filing', 'VBG', 'O'), ('fee', 'JJ', 'O'), ('$', '$', 'O'), ('400', 'CD', 'O'), (',', ',', 'O'), ('receipt', 'JJ', 'O'), ('number', 'NN', 'O'), ('0207-8445206', 'NN', 'O'), ('was', 'VBD', 'O'), ('the', 'DT', 'O'), ('disclosure', 'NN', 'O'), ('statement', 'NN', 'O'), ('on', 'IN', 'O'), ('civil', 'JJ', 'O'), ('cover', 'NN', 'O'), ('sheet', 'NN', 'O'), ('completed', 'VBD', 'O'), ('-yes', 'NNP', 'O'), (',', ',', 'O'), (',', ',', 'O'), ('filed', 'VBN', 'O'), ('by', 'IN', 'O'), ('lg', 'JJ', 'O'), ('capital', 'NN', 'O'), ('funding', 'NN', 'O'), (',', ',', 'O'), ('llc', 'NN', 'O'), ('.', '.', 'O'), ('(', '(', 'O'), ('steinmetz', 'JJ', 'O'), (',', ',', 'O'), ('michael', 'NN', 'O'), (')', ')', 'O'), ('(', '(', 'O'), ('additional', 'JJ', 'O'), ('attachment', 'NN', 'O'), ('(', '(', 'O'), ('s', 'PRP', 'O'), (')', ')', 'O'), ('added', 'VBD', 'O'), ('on', 'IN', 'O'), ('3/11/2016', 'CD', 'O'), (':', ':', 'O'), ('#', '#', 'O'), ('1', 'CD', 'O'), ('civil', 'JJ', 'O'), ('cover', 'NN', 'O'), ('sheet', 'NN', 'O'), (',', ',', 'O'), ('#', '#', 'O'), ('2', 'CD', 'O'), ('proposed', 'JJ', 'O'), ('summons', 'NNS', 'O'), (')', ')', 'O'), ('(', '(', 'O'), ('bowens', 'UH', 'O'), (',', ',', 'O'), ('priscilla', 'NN', 'O'), (')', ')', 'O'), ('.', '.', 'O'), ('(', '(', 'O'), ('entered', 'VBN', 'O'), (':', ':', 'O'), ('03/10/2016', 'CD', 'O'), (')', ')', 'O')] \n",
      "\n",
      "no date: \n",
      "[('complaint', 'NN', 'O'), ('against', 'IN', 'O'), ('cardiogenics', 'NNS', 'O'), ('holdings', 'NNS', 'O'), (',', ',', 'O'), ('inc.', 'JJ', 'O'), ('filing', 'VBG', 'O'), ('fee', 'JJ', 'O'), ('$', '$', 'O'), ('400', 'CD', 'O'), (',', ',', 'O'), ('receipt', 'JJ', 'O'), ('number', 'NN', 'O'), ('0207-8445206', 'NN', 'O'), ('was', 'VBD', 'O'), ('the', 'DT', 'O'), ('disclosure', 'NN', 'O'), ('statement', 'NN', 'O'), ('on', 'IN', 'O'), ('civil', 'JJ', 'O'), ('cover', 'NN', 'O'), ('sheet', 'NN', 'O'), ('completed', 'VBD', 'O'), ('-yes', 'NNP', 'O'), (',', ',', 'O'), (',', ',', 'O'), ('filed', 'VBN', 'O'), ('by', 'IN', 'O'), ('lg', 'JJ', 'O'), ('capital', 'NN', 'O'), ('funding', 'NN', 'O'), (',', ',', 'O'), ('llc', 'NN', 'O'), ('.', '.', 'O'), ('(', '(', 'O'), ('steinmetz', 'JJ', 'O'), (',', ',', 'O'), ('michael', 'NN', 'O'), (')', ')', 'O'), ('(', '(', 'O'), ('additional', 'JJ', 'O'), ('attachment', 'NN', 'O'), ('(', '(', 'O'), ('s', 'PRP', 'O'), (')', ')', 'O'), ('added', 'VBD', 'O'), ('on', 'IN', 'O'), ('date', 'NN', 'O'), (':', ':', 'O'), ('#', '#', 'O'), ('1', 'CD', 'O'), ('civil', 'JJ', 'O'), ('cover', 'NN', 'O'), ('sheet', 'NN', 'O'), (',', ',', 'O'), ('#', '#', 'O'), ('2', 'CD', 'O'), ('proposed', 'JJ', 'O'), ('summons', 'NNS', 'O'), (')', ')', 'O'), ('(', '(', 'O'), ('bowens', 'UH', 'O'), (',', ',', 'O'), ('priscilla', 'NN', 'O'), (')', ')', 'O'), ('.', '.', 'O'), ('(', '(', 'O'), ('entered', 'VBN', 'O'), (':', ':', 'O'), ('date', 'NN', 'O'), (')', ')', 'O')] \n",
      "\n",
      "no punctuation: \n",
      "[('complaint', 'NN', 'O'), ('against', 'IN', 'O'), ('cardiogenics', 'NNS', 'O'), ('holdings', 'NNS', 'O'), ('inc', 'VBP', 'O'), ('filing', 'VBG', 'O'), ('fee', 'NN', 'O'), ('400', 'CD', 'O'), ('receipt', 'NN', 'O'), ('number', 'NN', 'O'), ('0207', 'CD', 'O'), ('8445206', 'CD', 'O'), ('was', 'VBD', 'O'), ('the', 'DT', 'O'), ('disclosure', 'NN', 'O'), ('statement', 'NN', 'O'), ('on', 'IN', 'O'), ('civil', 'JJ', 'O'), ('cover', 'NN', 'O'), ('sheet', 'NN', 'O'), ('completed', 'VBD', 'O'), ('yes', 'NNS', 'O'), ('filed', 'VBN', 'O'), ('by', 'IN', 'O'), ('lg', 'JJ', 'O'), ('capital', 'NN', 'O'), ('funding', 'NN', 'O'), ('llc', 'NN', 'O'), ('steinmetz', 'NN', 'O'), ('michael', 'VBD', 'O'), ('additional', 'JJ', 'O'), ('attachment', 'NN', 'O'), ('s', 'NN', 'O'), ('added', 'VBD', 'O'), ('on', 'IN', 'O'), ('date', 'NN', 'O'), ('1', 'CD', 'O'), ('civil', 'JJ', 'O'), ('cover', 'NN', 'O'), ('sheet', 'NN', 'O'), ('2', 'CD', 'O'), ('proposed', 'VBN', 'O'), ('summons', 'NNS', 'O'), ('bowens', 'VBZ', 'O'), ('priscilla', 'NN', 'O'), ('entered', 'VBD', 'O'), ('date', 'NN', 'O')] \n",
      "\n",
      "no numbers: \n",
      "[('complaint', 'NN', 'O'), ('against', 'IN', 'O'), ('cardiogenics', 'NNS', 'O'), ('holdings', 'NNS', 'O'), ('inc', 'VBP', 'O'), ('filing', 'VBG', 'O'), ('fee', 'NN', 'O'), ('receipt', 'NN', 'O'), ('number', 'NN', 'O'), ('was', 'VBD', 'O'), ('the', 'DT', 'O'), ('disclosure', 'NN', 'O'), ('statement', 'NN', 'O'), ('on', 'IN', 'O'), ('civil', 'JJ', 'O'), ('cover', 'NN', 'O'), ('sheet', 'NN', 'O'), ('completed', 'VBD', 'O'), ('yes', 'NNS', 'O'), ('filed', 'VBN', 'O'), ('by', 'IN', 'O'), ('lg', 'JJ', 'O'), ('capital', 'NN', 'O'), ('funding', 'NN', 'O'), ('llc', 'NN', 'O'), ('steinmetz', 'NN', 'O'), ('michael', 'VBD', 'O'), ('additional', 'JJ', 'O'), ('attachment', 'NN', 'O'), ('s', 'NN', 'O'), ('added', 'VBD', 'O'), ('on', 'IN', 'O'), ('date', 'NN', 'O'), ('civil', 'JJ', 'O'), ('cover', 'NN', 'O'), ('sheet', 'NN', 'O'), ('proposed', 'VBD', 'O'), ('summons', 'NNS', 'O'), ('bowens', 'VBZ', 'O'), ('priscilla', 'NN', 'O'), ('entered', 'VBD', 'O'), ('date', 'NN', 'O')] \n",
      "\n",
      "no extra spaces: \n",
      "[('complaint', 'NN', 'O'), ('against', 'IN', 'O'), ('cardiogenics', 'NNS', 'O'), ('holdings', 'NNS', 'O'), ('inc', 'VBP', 'O'), ('filing', 'VBG', 'O'), ('fee', 'NN', 'O'), ('receipt', 'NN', 'O'), ('number', 'NN', 'O'), ('was', 'VBD', 'O'), ('the', 'DT', 'O'), ('disclosure', 'NN', 'O'), ('statement', 'NN', 'O'), ('on', 'IN', 'O'), ('civil', 'JJ', 'O'), ('cover', 'NN', 'O'), ('sheet', 'NN', 'O'), ('completed', 'VBD', 'O'), ('yes', 'NNS', 'O'), ('filed', 'VBN', 'O'), ('by', 'IN', 'O'), ('lg', 'JJ', 'O'), ('capital', 'NN', 'O'), ('funding', 'NN', 'O'), ('llc', 'NN', 'O'), ('steinmetz', 'NN', 'O'), ('michael', 'VBD', 'O'), ('additional', 'JJ', 'O'), ('attachment', 'NN', 'O'), ('s', 'NN', 'O'), ('added', 'VBD', 'O'), ('on', 'IN', 'O'), ('date', 'NN', 'O'), ('civil', 'JJ', 'O'), ('cover', 'NN', 'O'), ('sheet', 'NN', 'O'), ('proposed', 'VBD', 'O'), ('summons', 'NNS', 'O'), ('bowens', 'VBZ', 'O'), ('priscilla', 'NN', 'O'), ('entered', 'VBD', 'O'), ('date', 'NN', 'O')] \n",
      "\n",
      ": \n",
      "[('complaint', 'NN', 'O'), ('cardiogenics', 'NNS', 'O'), ('hold', 'VBP', 'O'), ('inc', 'JJ', 'O'), ('file', 'JJ', 'O'), ('fee', 'NN', 'O'), ('receipt', 'NN', 'O'), ('number', 'NN', 'O'), ('disclosure', 'NN', 'O'), ('statement', 'NN', 'O'), ('civil', 'JJ', 'O'), ('cover', 'NN', 'O'), ('sheet', 'NN', 'O'), ('complete', 'JJ', 'O'), ('yes', 'RB', 'O'), ('file', 'JJ', 'O'), ('lg', 'JJ', 'O'), ('capital', 'NN', 'O'), ('fund', 'NN', 'O'), ('llc', 'VBD', 'O'), ('steinmetz', 'JJ', 'O'), ('michael', 'JJ', 'O'), ('additional', 'JJ', 'O'), ('attachment', 'NN', 'O'), ('add', 'NN', 'O'), ('date', 'NN', 'O'), ('civil', 'JJ', 'O'), ('cover', 'NN', 'O'), ('sheet', 'NN', 'O'), ('propose', 'JJ', 'O'), ('summon', 'NN', 'O'), ('bowens', 'NNS', 'O'), ('priscilla', 'VBP', 'O'), ('enter', 'NN', 'O'), ('date', 'NN', 'O')] \n",
      "\n",
      ": \n",
      "[('complaint', 'NN', 'O'), ('cardiogenics_hold_inc', 'NN', 'O'), ('file', 'NN', 'O'), ('disclosure_statement_civil_cover', 'NN', 'O'), ('sheet_complete_yes', 'NNS', 'O'), ('file', 'VBP', 'O'), ('lg_capital_fund_llc', 'JJ', 'O'), ('steinmetz', 'NN', 'O'), ('michael', 'NN', 'O'), ('additional_attachment_add', 'VBP', 'O'), ('date', 'NN', 'O'), ('civil_cover_sheet', 'NN', 'O'), ('propose', 'JJ', 'O'), ('summon', 'JJ', 'O'), ('bowens_priscilla', 'NN', 'O'), ('enter', 'NN', 'O'), ('date', 'NN', 'O')]\n"
     ]
    }
   ],
   "source": [
    "#after the inital normalization, there's no sense of the NER or GEP by NLTK NER and GPE. Seems that it heavily depend on the cases\n",
    "iob_tagged = tree2conlltags(ne_chunk(pos_tag(word_tokenize(docket_original[0]))))\n",
    "print('orignal text: ')\n",
    "print(iob_tagged, '\\n')\n",
    "iob_tagged = tree2conlltags(ne_chunk(pos_tag(word_tokenize(docket_normalized[0]))))\n",
    "print('normalized: ')\n",
    "print(iob_tagged, '\\n')\n",
    "iob_tagged = tree2conlltags(ne_chunk(pos_tag(word_tokenize(docket_nourl[0]))))\n",
    "print('no url: ')\n",
    "print(iob_tagged, '\\n')\n",
    "iob_tagged = tree2conlltags(ne_chunk(pos_tag(word_tokenize(docket_nodate[0]))))\n",
    "print('no date: ')\n",
    "print(iob_tagged, '\\n')\n",
    "iob_tagged = tree2conlltags(ne_chunk(pos_tag(word_tokenize(docket_nopunct[0]))))\n",
    "print('no punctuation: ')\n",
    "print(iob_tagged, '\\n')\n",
    "iob_tagged = tree2conlltags(ne_chunk(pos_tag(word_tokenize(docket_nonum[0]))))\n",
    "print('no numbers: ')\n",
    "print(iob_tagged, '\\n')\n",
    "iob_tagged = tree2conlltags(ne_chunk(pos_tag(word_tokenize(docket_noextraspace[0]))))\n",
    "print('no extra spaces: ')\n",
    "print(iob_tagged, '\\n')\n",
    "iob_tagged = tree2conlltags(ne_chunk(pos_tag(word_tokenize(docket_phrase1[0]))))\n",
    "print('lemmentized: ')\n",
    "print(iob_tagged, '\\n')\n",
    "iob_tagged = tree2conlltags(ne_chunk(pos_tag(word_tokenize(docket_phrase2[0]))))\n",
    "print('phrase modeled: ')\n",
    "print(iob_tagged)"
   ]
  },
  {
   "cell_type": "code",
   "execution_count": 108,
   "metadata": {
    "scrolled": true
   },
   "outputs": [
    {
     "name": "stdout",
     "output_type": "stream",
     "text": [
      "orignal text: \n",
      "[('COMPLAINT', 'O'), ('against', 'O'), ('Cardiogenics', 'ORGANIZATION'), ('Holdings', 'ORGANIZATION'), (',', 'ORGANIZATION'), ('Inc.', 'ORGANIZATION'), ('filing', 'O'), ('fee', 'O'), ('$', 'O'), ('400', 'O'), (',', 'O'), ('receipt', 'O'), ('number', 'O'), ('0207-8445206', 'O'), ('Was', 'O'), ('the', 'O'), ('Disclosure', 'O'), ('Statement', 'O'), ('on', 'O'), ('Civil', 'O'), ('Cover', 'O'), ('Sheet', 'O'), ('completed', 'O'), ('-YES', 'O'), (',', 'O'), (',', 'O'), ('filed', 'O'), ('by', 'O'), ('LG', 'ORGANIZATION'), ('Capital', 'ORGANIZATION'), ('Funding', 'ORGANIZATION'), (',', 'O'), ('LLC', 'O'), ('.', 'O'), ('(', 'PERSON'), ('Steinmetz', 'PERSON'), (',', 'O'), ('Michael', 'PERSON'), (')', 'O'), ('(', 'O'), ('Additional', 'O'), ('attachment', 'O'), ('(', 'O'), ('s', 'O'), (')', 'O'), ('added', 'O'), ('on', 'O'), ('3112016', 'O'), (':', 'O'), ('#', 'O'), ('1', 'O'), ('Civil', 'O'), ('Cover', 'O'), ('Sheet', 'O'), (',', 'O'), ('#', 'O'), ('2', 'O'), ('Proposed', 'O'), ('Summons', 'O'), (')', 'O'), ('(', 'O'), ('Bowens', 'PERSON'), (',', 'O'), ('Priscilla', 'PERSON'), (')', 'O'), ('.', 'O'), ('(', 'O'), ('Entered', 'O'), (':', 'O'), ('03102016', 'O'), (')', 'O')] \n",
      "\n",
      "normalized: \n",
      "[('complaint', 'O'), ('against', 'O'), ('cardiogenics', 'O'), ('holdings', 'O'), (',', 'O'), ('inc.', 'O'), ('filing', 'O'), ('fee', 'O'), ('$', 'O'), ('400', 'O'), (',', 'O'), ('receipt', 'O'), ('number', 'O'), ('0207-8445206', 'O'), ('was', 'O'), ('the', 'O'), ('disclosure', 'O'), ('statement', 'O'), ('on', 'O'), ('civil', 'O'), ('cover', 'O'), ('sheet', 'O'), ('completed', 'O'), ('-yes', 'O'), (',', 'O'), (',', 'O'), ('filed', 'O'), ('by', 'O'), ('lg', 'O'), ('capital', 'O'), ('funding', 'O'), (',', 'O'), ('llc', 'O'), ('.', 'O'), ('(', 'O'), ('steinmetz', 'O'), (',', 'O'), ('michael', 'O'), (')', 'O'), ('(', 'O'), ('additional', 'O'), ('attachment', 'O'), ('(', 'O'), ('s', 'O'), (')', 'O'), ('added', 'O'), ('on', 'O'), ('3112016', 'O'), (':', 'O'), ('#', 'O'), ('1', 'O'), ('civil', 'O'), ('cover', 'O'), ('sheet', 'O'), (',', 'O'), ('#', 'O'), ('2', 'O'), ('proposed', 'O'), ('summons', 'O'), (')', 'O'), ('(', 'O'), ('bowens', 'O'), (',', 'O'), ('priscilla', 'O'), (')', 'O'), ('.', 'O'), ('(', 'O'), ('entered', 'O'), (':', 'O'), ('03102016', 'O'), (')', 'O')] \n",
      "\n",
      "no url: \n",
      "[('complaint', 'O'), ('against', 'O'), ('cardiogenics', 'O'), ('holdings', 'O'), (',', 'O'), ('inc.', 'O'), ('filing', 'O'), ('fee', 'O'), ('$', 'O'), ('400', 'O'), (',', 'O'), ('receipt', 'O'), ('number', 'O'), ('0207-8445206', 'O'), ('was', 'O'), ('the', 'O'), ('disclosure', 'O'), ('statement', 'O'), ('on', 'O'), ('civil', 'O'), ('cover', 'O'), ('sheet', 'O'), ('completed', 'O'), ('-yes', 'O'), (',', 'O'), (',', 'O'), ('filed', 'O'), ('by', 'O'), ('lg', 'O'), ('capital', 'O'), ('funding', 'O'), (',', 'O'), ('llc', 'O'), ('.', 'O'), ('(', 'O'), ('steinmetz', 'O'), (',', 'O'), ('michael', 'O'), (')', 'O'), ('(', 'O'), ('additional', 'O'), ('attachment', 'O'), ('(', 'O'), ('s', 'O'), (')', 'O'), ('added', 'O'), ('on', 'O'), ('3112016', 'O'), (':', 'O'), ('#', 'O'), ('1', 'O'), ('civil', 'O'), ('cover', 'O'), ('sheet', 'O'), (',', 'O'), ('#', 'O'), ('2', 'O'), ('proposed', 'O'), ('summons', 'O'), (')', 'O'), ('(', 'O'), ('bowens', 'O'), (',', 'O'), ('priscilla', 'O'), (')', 'O'), ('.', 'O'), ('(', 'O'), ('entered', 'O'), (':', 'O'), ('03102016', 'O'), (')', 'O')] \n",
      "\n",
      "no date: \n",
      "[('complaint', 'O'), ('against', 'O'), ('cardiogenics', 'O'), ('holdings', 'O'), (',', 'O'), ('inc.', 'O'), ('filing', 'O'), ('fee', 'O'), ('$', 'O'), ('400', 'O'), (',', 'O'), ('receipt', 'O'), ('number', 'O'), ('0207-8445206', 'O'), ('was', 'O'), ('the', 'O'), ('disclosure', 'O'), ('statement', 'O'), ('on', 'O'), ('civil', 'O'), ('cover', 'O'), ('sheet', 'O'), ('completed', 'O'), ('-yes', 'O'), (',', 'O'), (',', 'O'), ('filed', 'O'), ('by', 'O'), ('lg', 'O'), ('capital', 'O'), ('funding', 'O'), (',', 'O'), ('llc', 'O'), ('.', 'O'), ('(', 'O'), ('steinmetz', 'O'), (',', 'O'), ('michael', 'O'), (')', 'O'), ('(', 'O'), ('additional', 'O'), ('attachment', 'O'), ('(', 'O'), ('s', 'O'), (')', 'O'), ('added', 'O'), ('on', 'O'), ('date', 'O'), (':', 'O'), ('#', 'O'), ('1', 'O'), ('civil', 'O'), ('cover', 'O'), ('sheet', 'O'), (',', 'O'), ('#', 'O'), ('2', 'O'), ('proposed', 'O'), ('summons', 'O'), (')', 'O'), ('(', 'O'), ('bowens', 'O'), (',', 'O'), ('priscilla', 'O'), (')', 'O'), ('.', 'O'), ('(', 'O'), ('entered', 'O'), (':', 'O'), ('date', 'O'), (')', 'O')] \n",
      "\n",
      "no punctuation: \n",
      "[('complaint', 'O'), ('against', 'O'), ('cardiogenics', 'O'), ('holdings', 'O'), ('inc', 'O'), ('filing', 'O'), ('fee', 'O'), ('400', 'O'), ('receipt', 'O'), ('number', 'O'), ('0207', 'O'), ('8445206', 'O'), ('was', 'O'), ('the', 'O'), ('disclosure', 'O'), ('statement', 'O'), ('on', 'O'), ('civil', 'O'), ('cover', 'O'), ('sheet', 'O'), ('completed', 'O'), ('yes', 'O'), ('filed', 'O'), ('by', 'O'), ('lg', 'O'), ('capital', 'O'), ('funding', 'O'), ('llc', 'O'), ('steinmetz', 'O'), ('michael', 'O'), ('additional', 'O'), ('attachment', 'O'), ('s', 'O'), ('added', 'O'), ('on', 'O'), ('date', 'O'), ('1', 'O'), ('civil', 'O'), ('cover', 'O'), ('sheet', 'O'), ('2', 'O'), ('proposed', 'O'), ('summons', 'O'), ('bowens', 'O'), ('priscilla', 'O'), ('entered', 'O'), ('date', 'O')] \n",
      "\n",
      "no numbers: \n",
      "[('complaint', 'O'), ('against', 'O'), ('cardiogenics', 'O'), ('holdings', 'O'), ('inc', 'O'), ('filing', 'O'), ('fee', 'O'), ('receipt', 'O'), ('number', 'O'), ('was', 'O'), ('the', 'O'), ('disclosure', 'O'), ('statement', 'O'), ('on', 'O'), ('civil', 'O'), ('cover', 'O'), ('sheet', 'O'), ('completed', 'O'), ('yes', 'O'), ('filed', 'O'), ('by', 'O'), ('lg', 'O'), ('capital', 'O'), ('funding', 'O'), ('llc', 'O'), ('steinmetz', 'O'), ('michael', 'O'), ('additional', 'O'), ('attachment', 'O'), ('s', 'O'), ('added', 'O'), ('on', 'O'), ('date', 'O'), ('civil', 'O'), ('cover', 'O'), ('sheet', 'O'), ('proposed', 'O'), ('summons', 'O'), ('bowens', 'O'), ('priscilla', 'O'), ('entered', 'O'), ('date', 'O')] \n",
      "\n",
      "no extra spaces: \n",
      "[('complaint', 'O'), ('against', 'O'), ('cardiogenics', 'O'), ('holdings', 'O'), ('inc', 'O'), ('filing', 'O'), ('fee', 'O'), ('receipt', 'O'), ('number', 'O'), ('was', 'O'), ('the', 'O'), ('disclosure', 'O'), ('statement', 'O'), ('on', 'O'), ('civil', 'O'), ('cover', 'O'), ('sheet', 'O'), ('completed', 'O'), ('yes', 'O'), ('filed', 'O'), ('by', 'O'), ('lg', 'O'), ('capital', 'O'), ('funding', 'O'), ('llc', 'O'), ('steinmetz', 'O'), ('michael', 'O'), ('additional', 'O'), ('attachment', 'O'), ('s', 'O'), ('added', 'O'), ('on', 'O'), ('date', 'O'), ('civil', 'O'), ('cover', 'O'), ('sheet', 'O'), ('proposed', 'O'), ('summons', 'O'), ('bowens', 'O'), ('priscilla', 'O'), ('entered', 'O'), ('date', 'O')] \n",
      "\n",
      "lemmentized: \n",
      "[('complaint', 'O'), ('cardiogenics', 'O'), ('hold', 'O'), ('inc', 'O'), ('file', 'O'), ('fee', 'O'), ('receipt', 'O'), ('number', 'O'), ('disclosure', 'O'), ('statement', 'O'), ('civil', 'O'), ('cover', 'O'), ('sheet', 'O'), ('complete', 'O'), ('yes', 'O'), ('file', 'O'), ('lg', 'O'), ('capital', 'O'), ('fund', 'O'), ('llc', 'O'), ('steinmetz', 'O'), ('michael', 'O'), ('additional', 'O'), ('attachment', 'O'), ('add', 'O'), ('date', 'O'), ('civil', 'O'), ('cover', 'O'), ('sheet', 'O'), ('propose', 'O'), ('summon', 'O'), ('bowens', 'O'), ('priscilla', 'O'), ('enter', 'O'), ('date', 'O')] \n",
      "\n",
      "phrase modeled: \n",
      "[('complaint', 'O'), ('cardiogenics_hold_inc', 'O'), ('file', 'O'), ('disclosure_statement_civil_cover', 'O'), ('sheet_complete_yes', 'O'), ('file', 'O'), ('lg_capital_fund_llc', 'O'), ('steinmetz', 'O'), ('michael', 'O'), ('additional_attachment_add', 'O'), ('date', 'O'), ('civil_cover_sheet', 'O'), ('propose', 'O'), ('summon', 'O'), ('bowens_priscilla', 'O'), ('enter', 'O'), ('date', 'O')]\n"
     ]
    }
   ],
   "source": [
    "#after the inital normalization, there's no sense of the NER or GEP by NLTK NER and GPE. Seems that it heavily depend on the cases\n",
    "iob_tagged = tagger.tag(word_tokenize(docket_original[0]))\n",
    "print('orignal text: ')\n",
    "print(iob_tagged, '\\n')\n",
    "iob_tagged = tagger.tag(word_tokenize(docket_normalized[0]))\n",
    "print('normalized: ')\n",
    "print(iob_tagged, '\\n')\n",
    "iob_tagged = tagger.tag(word_tokenize(docket_nourl[0]))\n",
    "print('no url: ')\n",
    "print(iob_tagged, '\\n')\n",
    "iob_tagged = tagger.tag(word_tokenize(docket_nodate[0]))\n",
    "print('no date: ')\n",
    "print(iob_tagged, '\\n')\n",
    "iob_tagged = tagger.tag(word_tokenize(docket_nopunct[0]))\n",
    "print('no punctuation: ')\n",
    "print(iob_tagged, '\\n')\n",
    "iob_tagged = tagger.tag(word_tokenize(docket_nonum[0]))\n",
    "print('no numbers: ')\n",
    "print(iob_tagged, '\\n')\n",
    "iob_tagged = tagger.tag(word_tokenize(docket_noextraspace[0]))\n",
    "print('no extra spaces: ')\n",
    "print(iob_tagged, '\\n')\n",
    "iob_tagged = tagger.tag(word_tokenize(docket_phrase1[0]))\n",
    "print('lemmentized: ')\n",
    "print(iob_tagged, '\\n')\n",
    "iob_tagged = tagger.tag(word_tokenize(docket_phrase2[0]))\n",
    "print('phrase modeled: ')\n",
    "print(iob_tagged)"
   ]
  },
  {
   "cell_type": "markdown",
   "metadata": {},
   "source": [
    "### So let's start over"
   ]
  },
  {
   "cell_type": "code",
   "execution_count": 116,
   "metadata": {},
   "outputs": [],
   "source": [
    "docket_original = list(new_df['Original Docket Text'])"
   ]
  },
  {
   "cell_type": "markdown",
   "metadata": {},
   "source": [
    "### 1. NER\n",
    "Stanford is much better at knowing what's going on"
   ]
  },
  {
   "cell_type": "code",
   "execution_count": 82,
   "metadata": {
    "scrolled": true
   },
   "outputs": [
    {
     "name": "stdout",
     "output_type": "stream",
     "text": [
      "('COMPLAINT', 'O') ('COMPLAINT', 'NNP', 'B-ORGANIZATION') COMPLAINT\n",
      "('against', 'O') ('against', 'IN', 'O') against\n",
      "('Cardiogenics', 'ORGANIZATION') ('Cardiogenics', 'NNP', 'B-ORGANIZATION') Cardiogenics\n",
      "('Holdings', 'ORGANIZATION') ('Holdings', 'NNPS', 'I-ORGANIZATION') Holdings\n",
      "(',', 'ORGANIZATION') (',', ',', 'O') ,\n",
      "('Inc.', 'ORGANIZATION') ('Inc.', 'NNP', 'O') Inc.\n",
      "('filing', 'O') ('filing', 'VBG', 'O') filing\n",
      "('fee', 'O') ('fee', 'JJ', 'O') fee\n",
      "('$', 'O') ('$', '$', 'O') $\n",
      "('400', 'O') ('400', 'CD', 'O') 400\n",
      "(',', 'O') (',', ',', 'O') ,\n",
      "('receipt', 'O') ('receipt', 'JJ', 'O') receipt\n",
      "('number', 'O') ('number', 'NN', 'O') number\n",
      "('0207-8445206', 'O') ('0207-8445206', 'NN', 'O') 0207-8445206\n",
      "('Was', 'O') ('Was', 'NNP', 'O') Was\n",
      "('the', 'O') ('the', 'DT', 'O') the\n",
      "('Disclosure', 'O') ('Disclosure', 'NNP', 'B-ORGANIZATION') Disclosure\n",
      "('Statement', 'O') ('Statement', 'NNP', 'O') Statement\n",
      "('on', 'O') ('on', 'IN', 'O') on\n",
      "('Civil', 'O') ('Civil', 'NNP', 'B-PERSON') Civil\n",
      "('Cover', 'O') ('Cover', 'NNP', 'I-PERSON') Cover\n",
      "('Sheet', 'O') ('Sheet', 'NNP', 'I-PERSON') Sheet\n",
      "('completed', 'O') ('completed', 'VBD', 'O') completed\n",
      "('-YES', 'O') ('-YES', 'NNP', 'O') -YES\n",
      "(',', 'O') (',', ',', 'O') ,\n",
      "(',', 'O') (',', ',', 'O') ,\n",
      "('filed', 'O') ('filed', 'VBN', 'O') filed\n",
      "('by', 'O') ('by', 'IN', 'O') by\n",
      "('LG', 'ORGANIZATION') ('LG', 'NNP', 'B-ORGANIZATION') LG\n",
      "('Capital', 'ORGANIZATION') ('Capital', 'NNP', 'I-ORGANIZATION') Capital\n",
      "('Funding', 'ORGANIZATION') ('Funding', 'NNP', 'I-ORGANIZATION') Funding\n",
      "(',', 'O') (',', ',', 'O') ,\n",
      "('LLC', 'O') ('LLC', 'NNP', 'B-ORGANIZATION') LLC\n",
      "('.', 'O') ('.', '.', 'O') .\n",
      "('(', 'PERSON') ('(', '(', 'O') (\n",
      "('Steinmetz', 'PERSON') ('Steinmetz', 'NNP', 'B-PERSON') Steinmetz\n",
      "(',', 'O') (',', ',', 'O') ,\n",
      "('Michael', 'PERSON') ('Michael', 'NNP', 'B-GPE') Michael\n",
      "(')', 'O') (')', ')', 'O') )\n",
      "('(', 'O') ('(', '(', 'O') (\n",
      "('Additional', 'O') ('Additional', 'JJ', 'B-ORGANIZATION') Additional\n",
      "('attachment', 'O') ('attachment', 'NN', 'O') attachment\n",
      "('(', 'O') ('(', '(', 'O') (\n",
      "('s', 'O') ('s', 'PRP', 'O') s\n",
      "(')', 'O') (')', ')', 'O') )\n",
      "('added', 'O') ('added', 'VBD', 'O') added\n",
      "('on', 'O') ('on', 'IN', 'O') on\n",
      "('3112016', 'O') ('3/11/2016', 'CD', 'O') 3/11/2016\n",
      "(':', 'O') (':', ':', 'O') :\n",
      "('#', 'O') ('#', '#', 'O') #\n",
      "('1', 'O') ('1', 'CD', 'O') 1\n",
      "('Civil', 'O') ('Civil', 'NNP', 'O') Civil\n",
      "('Cover', 'O') ('Cover', 'NNP', 'O') Cover\n",
      "('Sheet', 'O') ('Sheet', 'NNP', 'O') Sheet\n",
      "(',', 'O') (',', ',', 'O') ,\n",
      "('#', 'O') ('#', '#', 'O') #\n",
      "('2', 'O') ('2', 'CD', 'O') 2\n",
      "('Proposed', 'O') ('Proposed', 'VBN', 'O') Proposed\n",
      "('Summons', 'O') ('Summons', 'NNS', 'O') Summons\n",
      "(')', 'O') (')', ')', 'O') )\n",
      "('(', 'O') ('(', '(', 'O') (\n",
      "('Bowens', 'PERSON') ('Bowens', 'NNP', 'B-GPE') Bowens\n",
      "(',', 'O') (',', ',', 'O') ,\n",
      "('Priscilla', 'PERSON') ('Priscilla', 'NNP', 'B-GPE') Priscilla\n",
      "(')', 'O') (')', ')', 'O') )\n",
      "('.', 'O') ('.', '.', 'O') .\n",
      "('(', 'O') ('(', '(', 'O') (\n",
      "('Entered', 'O') ('Entered', 'VBD', 'O') Entered\n",
      "(':', 'O') (':', ':', 'O') :\n",
      "('03102016', 'O') ('03/10/2016', 'CD', 'O') 03/10/2016\n",
      "(')', 'O') (')', ')', 'O') )\n",
      "('Case', 'O') ('Case', 'NN', 'B-PERSON') Case\n",
      "('assigned', 'O') ('assigned', 'VBD', 'O') assigned\n",
      "('to', 'O') ('to', 'TO', 'O') to\n",
      "('Judge', 'O') ('Judge', 'NNP', 'O') Judge\n",
      "('Ann', 'PERSON') ('Ann', 'NNP', 'B-PERSON') Ann\n",
      "('M', 'PERSON') ('M', 'NNP', 'I-PERSON') M\n",
      "('Donnelly', 'PERSON') ('Donnelly', 'NNP', 'I-PERSON') Donnelly\n",
      "('and', 'O') ('and', 'CC', 'O') and\n",
      "('Magistrate', 'O') ('Magistrate', 'NNP', 'B-ORGANIZATION') Magistrate\n",
      "('Judge', 'O') ('Judge', 'NNP', 'O') Judge\n",
      "('Vera', 'PERSON') ('Vera', 'NNP', 'B-PERSON') Vera\n",
      "('M.', 'PERSON') ('M.', 'NNP', 'I-PERSON') M.\n",
      "('Scanlon', 'PERSON') ('Scanlon', 'NNP', 'I-PERSON') Scanlon\n",
      "('.', 'O') ('.', '.', 'O') .\n",
      "('Please', 'O') ('Please', 'NNP', 'O') Please\n",
      "('download', 'O') ('download', 'NN', 'O') download\n",
      "('and', 'O') ('and', 'CC', 'O') and\n",
      "('review', 'O') ('review', 'VB', 'O') review\n",
      "('the', 'O') ('the', 'DT', 'O') the\n",
      "('Individual', 'ORGANIZATION') ('Individual', 'NNP', 'B-ORGANIZATION') Individual\n",
      "('Practices', 'ORGANIZATION') ('Practices', 'NNPS', 'I-ORGANIZATION') Practices\n",
      "('of', 'ORGANIZATION') ('of', 'IN', 'O') of\n",
      "('the', 'ORGANIZATION') ('the', 'DT', 'O') the\n",
      "('assigned', 'ORGANIZATION') ('assigned', 'JJ', 'O') assigned\n",
      "('Judges', 'ORGANIZATION') ('Judges', 'NNP', 'O') Judges\n",
      "(',', 'O') (',', ',', 'O') ,\n",
      "('located', 'O') ('located', 'VBN', 'O') located\n",
      "('on', 'O') ('on', 'IN', 'O') on\n",
      "('our', 'O') ('our', 'PRP$', 'O') our\n",
      "('website', 'O') ('website', 'NN', 'O') website\n",
      "('.', 'O') ('.', '.', 'O') .\n",
      "('Attorneys', 'O') ('Attorneys', 'NNS', 'O') Attorneys\n",
      "('are', 'O') ('are', 'VBP', 'O') are\n",
      "('responsible', 'O') ('responsible', 'JJ', 'O') responsible\n",
      "('for', 'O') ('for', 'IN', 'O') for\n",
      "('providing', 'O') ('providing', 'VBG', 'O') providing\n",
      "('courtesy', 'O') ('courtesy', 'NN', 'O') courtesy\n",
      "('copies', 'O') ('copies', 'NNS', 'O') copies\n",
      "('to', 'O') ('to', 'TO', 'O') to\n",
      "('judges', 'O') ('judges', 'NNS', 'O') judges\n",
      "('where', 'O') ('where', 'WRB', 'O') where\n",
      "('their', 'O') ('their', 'PRP$', 'O') their\n",
      "('Individual', 'O') ('Individual', 'JJ', 'B-ORGANIZATION') Individual\n",
      "('Practices', 'O') ('Practices', 'NNPS', 'I-ORGANIZATION') Practices\n",
      "('require', 'O') ('require', 'VBP', 'O') require\n",
      "('such', 'O') ('such', 'JJ', 'O') such\n",
      "('.', 'O') ('.', '.', 'O') .\n",
      "('(', 'O') ('(', '(', 'O') (\n",
      "('Bowens', 'PERSON') ('Bowens', 'NNP', 'B-GPE') Bowens\n",
      "(',', 'O') (',', ',', 'O') ,\n",
      "('Priscilla', 'PERSON') ('Priscilla', 'NNP', 'B-GPE') Priscilla\n",
      "(')', 'O') (')', ')', 'O') )\n",
      "('(', 'O') ('(', '(', 'O') (\n",
      "('Entered', 'O') ('Entered', 'VBN', 'O') Entered\n",
      "(':', 'O') (':', ':', 'O') :\n",
      "('03112016', 'O') ('03/11/2016', 'CD', 'O') 03/11/2016\n",
      "(')', 'O') (')', ')', 'O') )\n",
      "('Summons', 'O') ('Summons', 'NNS', 'O') Summons\n",
      "('Issued', 'O') ('Issued', 'VBN', 'O') Issued\n",
      "('as', 'O') ('as', 'IN', 'O') as\n",
      "('to', 'O') ('to', 'TO', 'O') to\n",
      "('Cardiogenics', 'ORGANIZATION') ('Cardiogenics', 'NNP', 'B-ORGANIZATION') Cardiogenics\n",
      "('Holdings', 'ORGANIZATION') ('Holdings', 'NNPS', 'I-ORGANIZATION') Holdings\n",
      "(',', 'O') (',', ',', 'O') ,\n",
      "('Inc..', 'O') ('Inc..', 'NNP', 'O') Inc..\n",
      "('(', 'O') ('(', '(', 'O') (\n",
      "('Bowens', 'PERSON') ('Bowens', 'NNP', 'B-GPE') Bowens\n",
      "(',', 'O') (',', ',', 'O') ,\n",
      "('Priscilla', 'PERSON') ('Priscilla', 'NNP', 'B-GPE') Priscilla\n",
      "(')', 'O') (')', ')', 'O') )\n",
      "('(', 'O') ('(', '(', 'O') (\n",
      "('Entered', 'O') ('Entered', 'VBN', 'O') Entered\n",
      "(':', 'O') (':', ':', 'O') :\n",
      "('03112016', 'O') ('03/11/2016', 'CD', 'O') 03/11/2016\n",
      "(')', 'O') (')', ')', 'O') )\n",
      "('NOTICE', 'O') ('NOTICE', 'NNP', 'B-ORGANIZATION') NOTICE\n",
      "('-', 'O') ('-', ':', 'O') -\n",
      "('emailed', 'O') ('emailed', 'VBD', 'O') emailed\n",
      "('attorney', 'O') ('attorney', 'NN', 'O') attorney\n",
      "('regarding', 'O') ('regarding', 'VBG', 'O') regarding\n",
      "('missing', 'O') ('missing', 'VBG', 'O') missing\n",
      "('second', 'O') ('second', 'JJ', 'O') second\n",
      "('page', 'O') ('page', 'NN', 'O') page\n",
      "('of', 'O') ('of', 'IN', 'O') of\n",
      "('the', 'O') ('the', 'DT', 'O') the\n",
      "('civil', 'O') ('civil', 'JJ', 'O') civil\n",
      "('cover', 'O') ('cover', 'NN', 'O') cover\n",
      "('sheet', 'O') ('sheet', 'NN', 'O') sheet\n",
      "('.', 'O') ('.', '.', 'O') .\n",
      "('(', 'O') ('(', '(', 'O') (\n",
      "('Bowens', 'PERSON') ('Bowens', 'NNP', 'B-GPE') Bowens\n",
      "(',', 'O') (',', ',', 'O') ,\n",
      "('Priscilla', 'PERSON') ('Priscilla', 'NNP', 'B-GPE') Priscilla\n",
      "(')', 'O') (')', ')', 'O') )\n",
      "('(', 'O') ('(', '(', 'O') (\n",
      "('Entered', 'O') ('Entered', 'VBN', 'O') Entered\n",
      "(':', 'O') (':', ':', 'O') :\n",
      "('03112016', 'O') ('03/11/2016', 'CD', 'O') 03/11/2016\n",
      "(')', 'O') (')', ')', 'O') )\n",
      "('In', 'O') ('In', 'IN', 'O') In\n",
      "('accordance', 'O') ('accordance', 'NN', 'O') accordance\n",
      "('with', 'O') ('with', 'IN', 'O') with\n",
      "('Rule', 'O') ('Rule', 'NNP', 'O') Rule\n",
      "('73', 'O') ('73', 'CD', 'O') 73\n",
      "('of', 'O') ('of', 'IN', 'O') of\n",
      "('the', 'O') ('the', 'DT', 'O') the\n",
      "('Federal', 'O') ('Federal', 'NNP', 'B-ORGANIZATION') Federal\n",
      "('Rules', 'O') ('Rules', 'NNP', 'I-ORGANIZATION') Rules\n",
      "('of', 'O') ('of', 'IN', 'O') of\n",
      "('Civil', 'O') ('Civil', 'NNP', 'B-PERSON') Civil\n",
      "('Procedure', 'O') ('Procedure', 'NNP', 'I-PERSON') Procedure\n",
      "('and', 'O') ('and', 'CC', 'O') and\n",
      "('Local', 'O') ('Local', 'NNP', 'B-PERSON') Local\n",
      "('Rule', 'O') ('Rule', 'NNP', 'I-PERSON') Rule\n",
      "('73.1', 'O') ('73.1', 'CD', 'O') 73.1\n",
      "(',', 'O') (',', ',', 'O') ,\n",
      "('the', 'O') ('the', 'DT', 'O') the\n",
      "('parties', 'O') ('parties', 'NNS', 'O') parties\n",
      "('are', 'O') ('are', 'VBP', 'O') are\n",
      "('notified', 'O') ('notified', 'VBN', 'O') notified\n",
      "('that', 'O') ('that', 'IN', 'O') that\n",
      "('if', 'O') ('if', 'IN', 'O') if\n",
      "('all', 'O') ('all', 'DT', 'O') all\n",
      "('parties', 'O') ('parties', 'NNS', 'O') parties\n",
      "('consent', 'O') ('consent', 'VBP', 'O') consent\n",
      "('a', 'O') ('a', 'DT', 'O') a\n",
      "('United', 'LOCATION') ('United', 'NNP', 'B-GPE') United\n",
      "('States', 'LOCATION') ('States', 'NNPS', 'I-GPE') States\n",
      "('magistrate', 'O') ('magistrate', 'VBP', 'O') magistrate\n",
      "('judge', 'O') ('judge', 'NN', 'O') judge\n",
      "('of', 'O') ('of', 'IN', 'O') of\n",
      "('this', 'O') ('this', 'DT', 'O') this\n",
      "('court', 'O') ('court', 'NN', 'O') court\n",
      "('is', 'O') ('is', 'VBZ', 'O') is\n",
      "('available', 'O') ('available', 'JJ', 'O') available\n",
      "('to', 'O') ('to', 'TO', 'O') to\n",
      "('conduct', 'O') ('conduct', 'VB', 'O') conduct\n",
      "('all', 'O') ('all', 'DT', 'O') all\n",
      "('proceedings', 'O') ('proceedings', 'NNS', 'O') proceedings\n",
      "('in', 'O') ('in', 'IN', 'O') in\n",
      "('this', 'O') ('this', 'DT', 'O') this\n",
      "('civil', 'O') ('civil', 'JJ', 'O') civil\n",
      "('action', 'O') ('action', 'NN', 'O') action\n",
      "('including', 'O') ('including', 'VBG', 'O') including\n",
      "('a', 'O') ('a', 'DT', 'O') a\n",
      "('(', 'O') ('(', '(', 'O') (\n",
      "('jury', 'O') ('jury', 'NN', 'O') jury\n",
      "('or', 'O') ('or', 'CC', 'O') or\n",
      "('nonjury', 'O') ('nonjury', 'NN', 'O') nonjury\n",
      "(')', 'O') (')', ')', 'O') )\n",
      "('trial', 'O') ('trial', 'NN', 'O') trial\n",
      "('and', 'O') ('and', 'CC', 'O') and\n",
      "('to', 'O') ('to', 'TO', 'O') to\n",
      "('order', 'O') ('order', 'NN', 'O') order\n",
      "('the', 'O') ('the', 'DT', 'O') the\n",
      "('entry', 'O') ('entry', 'NN', 'O') entry\n",
      "('of', 'O') ('of', 'IN', 'O') of\n",
      "('a', 'O') ('a', 'DT', 'O') a\n",
      "('final', 'O') ('final', 'JJ', 'O') final\n",
      "('judgment', 'O') ('judgment', 'NN', 'O') judgment\n",
      "('.', 'O') ('.', '.', 'O') .\n",
      "('Attached', 'O') ('Attached', 'VBN', 'O') Attached\n",
      "('to', 'O') ('to', 'TO', 'O') to\n",
      "('the', 'O') ('the', 'DT', 'O') the\n",
      "('Notice', 'O') ('Notice', 'NNP', 'B-ORGANIZATION') Notice\n",
      "('is', 'O') ('is', 'VBZ', 'O') is\n",
      "('a', 'O') ('a', 'DT', 'O') a\n",
      "('blank', 'O') ('blank', 'JJ', 'O') blank\n",
      "('copy', 'O') ('copy', 'NN', 'O') copy\n",
      "('of', 'O') ('of', 'IN', 'O') of\n",
      "('the', 'O') ('the', 'DT', 'O') the\n",
      "('consent', 'O') ('consent', 'NN', 'O') consent\n",
      "('form', 'O') ('form', 'NN', 'O') form\n",
      "('that', 'O') ('that', 'WDT', 'O') that\n",
      "('should', 'O') ('should', 'MD', 'O') should\n",
      "('be', 'O') ('be', 'VB', 'O') be\n",
      "('filled', 'O') ('filled', 'VBN', 'O') filled\n",
      "('out', 'O') ('out', 'RP', 'O') out\n",
      "(',', 'O') (',', ',', 'O') ,\n",
      "('signed', 'O') ('signed', 'VBN', 'O') signed\n",
      "('and', 'O') ('and', 'CC', 'O') and\n",
      "('filed', 'O') ('filed', 'VBN', 'O') filed\n",
      "('electronically', 'O') ('electronically', 'RB', 'O') electronically\n",
      "('only', 'O') ('only', 'RB', 'O') only\n",
      "('if', 'O') ('if', 'IN', 'O') if\n",
      "('all', 'O') ('all', 'DT', 'O') all\n",
      "('parties', 'O') ('parties', 'NNS', 'O') parties\n",
      "('wish', 'O') ('wish', 'VBP', 'O') wish\n",
      "('to', 'O') ('to', 'TO', 'O') to\n",
      "('consent', 'O') ('consent', 'NN', 'O') consent\n",
      "('.', 'O') ('.', '.', 'O') .\n",
      "('The', 'O') ('The', 'DT', 'O') The\n",
      "('form', 'O') ('form', 'NN', 'O') form\n",
      "('may', 'O') ('may', 'MD', 'O') may\n",
      "('also', 'O') ('also', 'RB', 'O') also\n",
      "('be', 'O') ('be', 'VB', 'O') be\n",
      "('accessed', 'O') ('accessed', 'VBN', 'O') accessed\n",
      "('at', 'O') ('at', 'IN', 'O') at\n",
      "('the', 'O') ('the', 'DT', 'O') the\n",
      "('following', 'O') ('following', 'JJ', 'O') following\n",
      "('link', 'O') ('link', 'NN', 'O') link\n",
      "(':', 'O') (':', ':', 'O') :\n",
      "('http', 'O') ('http', 'NN', 'O') http\n",
      "(':', 'O') (':', ':', 'O') :\n",
      "('www.uscourts.govuscourtsFormsAndFeesFormsAO085.pdf', 'O') ('//www.uscourts.gov/uscourts/FormsAndFees/Forms/AO085.pdf', 'NN', 'O') //www.uscourts.gov/uscourts/FormsAndFees/Forms/AO085.pdf\n",
      "('.', 'O') ('.', '.', 'O') .\n",
      "('You', 'O') ('You', 'PRP', 'O') You\n",
      "('may', 'O') ('may', 'MD', 'O') may\n",
      "('withhold', 'O') ('withhold', 'VB', 'O') withhold\n",
      "('your', 'O') ('your', 'PRP$', 'O') your\n",
      "('consent', 'O') ('consent', 'NN', 'O') consent\n",
      "('without', 'O') ('without', 'IN', 'O') without\n",
      "('adverse', 'O') ('adverse', 'JJ', 'O') adverse\n",
      "('substantive', 'O') ('substantive', 'JJ', 'O') substantive\n",
      "('consequences', 'O') ('consequences', 'NNS', 'O') consequences\n",
      "('.', 'O') ('.', '.', 'O') .\n",
      "('Do', 'O') ('Do', 'VBP', 'O') Do\n",
      "('NOT', 'O') ('NOT', 'NNP', 'B-ORGANIZATION') NOT\n",
      "('return', 'O') ('return', 'VB', 'O') return\n",
      "('or', 'O') ('or', 'CC', 'O') or\n",
      "('file', 'O') ('file', 'VB', 'O') file\n",
      "('the', 'O') ('the', 'DT', 'O') the\n",
      "('consent', 'O') ('consent', 'NN', 'O') consent\n",
      "('unless', 'O') ('unless', 'IN', 'O') unless\n",
      "('all', 'O') ('all', 'DT', 'O') all\n",
      "('parties', 'O') ('parties', 'NNS', 'O') parties\n",
      "('have', 'O') ('have', 'VBP', 'O') have\n",
      "('signed', 'O') ('signed', 'VBN', 'O') signed\n",
      "('the', 'O') ('the', 'DT', 'O') the\n",
      "('consent', 'O') ('consent', 'NN', 'O') consent\n",
      "('.', 'O') ('.', '.', 'O') .\n",
      "('(', 'O') ('(', '(', 'O') (\n",
      "('Bowens', 'PERSON') ('Bowens', 'NNP', 'B-GPE') Bowens\n",
      "(',', 'O') (',', ',', 'O') ,\n",
      "('Priscilla', 'PERSON') ('Priscilla', 'NNP', 'B-GPE') Priscilla\n",
      "(')', 'O') (')', ')', 'O') )\n",
      "('(', 'O') ('(', '(', 'O') (\n",
      "('Entered', 'O') ('Entered', 'VBN', 'O') Entered\n",
      "(':', 'O') (':', ':', 'O') :\n",
      "('03112016', 'O') ('03/11/2016', 'CD', 'O') 03/11/2016\n",
      "(')', 'O') (')', ')', 'O') )\n",
      "docket text: 0\n",
      "['COMPLAINT against Cardiogenics Holdings, Inc. filing fee $ 400, receipt number 0207-8445206 Was the Disclosure Statement on Civil Cover Sheet completed -YES,, filed by LG Capital Funding, LLC. (Steinmetz, Michael) (Additional attachment(s) added on 3/11/2016: # 1 Civil Cover Sheet, # 2 Proposed Summons) (Bowens, Priscilla). (Entered: 03/10/2016)', 'Cardiogenics Holdings , Inc. LG Capital Funding', '( Steinmetz Michael Bowens Priscilla', 'COMPLAINT against -ORG- -ORG- -ORG- -ORG- filing fee $ 400 , receipt number 0207-8445206 Was the Disclosure Statement on Civil Cover Sheet completed -YES , , filed by -ORG- -ORG- -ORG- , LLC . -NAME- -NAME- , -NAME- ) ( Additional attachment ( s ) added on 3/11/2016 : # 1 Civil Cover Sheet , # 2 Proposed Summons ) ( -NAME- , -NAME- ) . ( Entered : 03/10/2016 )', 'COMPLAINT against filing fee $ 400 , receipt number 0207-8445206 Was the Disclosure Statement on Civil Cover Sheet completed -YES , , filed by , LLC . , ) ( Additional attachment ( s ) added on 3/11/2016 : # 1 Civil Cover Sheet , # 2 Proposed Summons ) ( , ) . ( Entered : 03/10/2016 )'] \n",
      "\n",
      "docket text: 1\n",
      "['Case assigned to Judge Ann M Donnelly and Magistrate Judge Vera M. Scanlon. Please download and review the Individual Practices of the assigned Judges, located on our website. Attorneys are responsible for providing courtesy copies to judges where their Individual Practices require such. (Bowens, Priscilla) (Entered: 03/11/2016)', 'Individual Practices of the assigned Judges', 'Ann M Donnelly Vera M. Scanlon Bowens Priscilla', 'Case assigned to Judge -NAME- -NAME- -NAME- and Magistrate Judge -NAME- -NAME- -NAME- . Please download and review the -ORG- -ORG- -ORG- -ORG- -ORG- -ORG- , located on our website . Attorneys are responsible for providing courtesy copies to judges where their Individual Practices require such . ( -NAME- , -NAME- ) ( Entered : 03/11/2016 )', 'Case assigned to Judge and Magistrate Judge . Please download and review the , located on our website . Attorneys are responsible for providing courtesy copies to judges where their Individual Practices require such . ( , ) ( Entered : 03/11/2016 )'] \n",
      "\n",
      "docket text: 2\n",
      "['Summons Issued as to Cardiogenics Holdings, Inc.. (Bowens, Priscilla) (Entered: 03/11/2016)', 'Cardiogenics Holdings', 'Bowens Priscilla', 'Summons Issued as to -ORG- -ORG- , Inc.. ( -NAME- , -NAME- ) ( Entered : 03/11/2016 )', 'Summons Issued as to , Inc.. ( , ) ( Entered : 03/11/2016 )'] \n",
      "\n",
      "docket text: 3\n",
      "['NOTICE - emailed attorney regarding missing second page of the civil cover sheet. (Bowens, Priscilla) (Entered: 03/11/2016)', '', 'Bowens Priscilla', 'NOTICE - emailed attorney regarding missing second page of the civil cover sheet . ( -NAME- , -NAME- ) ( Entered : 03/11/2016 )', 'NOTICE - emailed attorney regarding missing second page of the civil cover sheet . ( , ) ( Entered : 03/11/2016 )'] \n",
      "\n",
      "docket text: 4\n",
      "['In accordance with Rule 73 of the Federal Rules of Civil Procedure and Local Rule 73.1, the parties are notified that if all parties consent a United States magistrate judge of this court is available to conduct all proceedings in this civil action including a (jury or nonjury) trial and to order the entry of a final judgment. Attached to the Notice is a blank copy of the consent form that should be filled out, signed and filed electronically only if all parties wish to consent. The form may also be accessed at the following link: http://www.uscourts.gov/uscourts/FormsAndFees/Forms/AO085.pdf. You may withhold your consent without adverse substantive consequences. Do NOT return or file the consent unless all parties have signed the consent. (Bowens, Priscilla) (Entered: 03/11/2016)', '', 'Bowens Priscilla', 'In accordance with Rule 73 of the Federal Rules of Civil Procedure and Local Rule 73.1 , the parties are notified that if all parties consent a United States magistrate judge of this court is available to conduct all proceedings in this civil action including a ( jury or nonjury ) trial and to order the entry of a final judgment . Attached to the Notice is a blank copy of the consent form that should be filled out , signed and filed electronically only if all parties wish to consent . The form may also be accessed at the following link : http : //www.uscourts.gov/uscourts/FormsAndFees/Forms/AO085.pdf . You may withhold your consent without adverse substantive consequences . Do NOT return or file the consent unless all parties have signed the consent . ( -NAME- , -NAME- ) ( Entered : 03/11/2016 )', 'In accordance with Rule 73 of the Federal Rules of Civil Procedure and Local Rule 73.1 , the parties are notified that if all parties consent a United States magistrate judge of this court is available to conduct all proceedings in this civil action including a ( jury or nonjury ) trial and to order the entry of a final judgment . Attached to the Notice is a blank copy of the consent form that should be filled out , signed and filed electronically only if all parties wish to consent . The form may also be accessed at the following link : http : //www.uscourts.gov/uscourts/FormsAndFees/Forms/AO085.pdf . You may withhold your consent without adverse substantive consequences . Do NOT return or file the consent unless all parties have signed the consent . ( , ) ( Entered : 03/11/2016 )'] \n",
      "\n"
     ]
    }
   ],
   "source": [
    "output = []\n",
    "for i in range(5):\n",
    "    org_str = []\n",
    "    name_str = []\n",
    "    stripped_str1 = []\n",
    "    stripped_str2 = []\n",
    "\n",
    "    tokens = word_tokenize(docket_original[i])\n",
    "    for SFlabel, NLlabel, token in zip(tagger.tag(tokens), tree2conlltags(ne_chunk(pos_tag(tokens))), tokens):\n",
    "        print(SFlabel, NLlabel, token)\n",
    "        if SFlabel[1] == 'ORGANIZATION':\n",
    "            org_str.append(SFlabel[0])\n",
    "            stripped_str1.append('-ORG-')\n",
    "        elif SFlabel[1] == 'PERSON':\n",
    "            name_str.append(SFlabel[0])\n",
    "            stripped_str1.append('-NAME-')\n",
    "        else:\n",
    "            stripped_str1.append(token)\n",
    "            stripped_str2.append(token)\n",
    "\n",
    "    output.append([docket_original[i],\n",
    "                   ' '.join(org_str),\n",
    "                   ' '.join(name_str),\n",
    "                   ' '.join(stripped_str1),\n",
    "                   ' '.join(stripped_str2)])\n",
    "    \n",
    "for i in range(5):\n",
    "    print('docket text:', i)\n",
    "    print(output[i], '\\n')"
   ]
  },
  {
   "cell_type": "markdown",
   "metadata": {},
   "source": [
    "After some experiments, we'll stick with the Stanford NER first... leveraging the existing dataframe.\n",
    "### 2. Normalize"
   ]
  },
  {
   "cell_type": "code",
   "execution_count": 117,
   "metadata": {},
   "outputs": [
    {
     "data": {
      "text/html": [
       "<div>\n",
       "<table border=\"1\" class=\"dataframe\">\n",
       "  <thead>\n",
       "    <tr style=\"text-align: right;\">\n",
       "      <th></th>\n",
       "      <th>Original Docket Text</th>\n",
       "      <th>Organization Portion</th>\n",
       "      <th>Name Portion</th>\n",
       "      <th>Identifying Org and Name</th>\n",
       "      <th>Stripped Org and Name</th>\n",
       "    </tr>\n",
       "  </thead>\n",
       "  <tbody>\n",
       "    <tr>\n",
       "      <th>0</th>\n",
       "      <td>COMPLAINT against Cardiogenics Holdings, Inc. ...</td>\n",
       "      <td>Cardiogenics Holdings , Inc. LG Capital Funding</td>\n",
       "      <td>( Steinmetz Michael Bowens Priscilla</td>\n",
       "      <td>COMPLAINT against -ORG- -ORG- -ORG- -ORG- fili...</td>\n",
       "      <td>COMPLAINT against filing fee $ 400 , receipt n...</td>\n",
       "    </tr>\n",
       "    <tr>\n",
       "      <th>1</th>\n",
       "      <td>Case assigned to Judge Ann M Donnelly and Magi...</td>\n",
       "      <td>Individual Practices of the assigned Judges</td>\n",
       "      <td>Ann M Donnelly Vera M. Scanlon Bowens Priscilla</td>\n",
       "      <td>Case assigned to Judge -NAME- -NAME- -NAME- an...</td>\n",
       "      <td>Case assigned to Judge and Magistrate Judge . ...</td>\n",
       "    </tr>\n",
       "    <tr>\n",
       "      <th>2</th>\n",
       "      <td>Summons Issued as to Cardiogenics Holdings, In...</td>\n",
       "      <td>Cardiogenics Holdings</td>\n",
       "      <td>Bowens Priscilla</td>\n",
       "      <td>Summons Issued as to -ORG- -ORG- , Inc.. ( -NA...</td>\n",
       "      <td>Summons Issued as to , Inc.. ( , ) ( Entered :...</td>\n",
       "    </tr>\n",
       "    <tr>\n",
       "      <th>3</th>\n",
       "      <td>NOTICE - emailed attorney regarding missing se...</td>\n",
       "      <td></td>\n",
       "      <td>Bowens Priscilla</td>\n",
       "      <td>NOTICE - emailed attorney regarding missing se...</td>\n",
       "      <td>NOTICE - emailed attorney regarding missing se...</td>\n",
       "    </tr>\n",
       "    <tr>\n",
       "      <th>4</th>\n",
       "      <td>In accordance with Rule 73 of the Federal Rule...</td>\n",
       "      <td></td>\n",
       "      <td>Bowens Priscilla</td>\n",
       "      <td>In accordance with Rule 73 of the Federal Rule...</td>\n",
       "      <td>In accordance with Rule 73 of the Federal Rule...</td>\n",
       "    </tr>\n",
       "  </tbody>\n",
       "</table>\n",
       "</div>"
      ],
      "text/plain": [
       "                                Original Docket Text  \\\n",
       "0  COMPLAINT against Cardiogenics Holdings, Inc. ...   \n",
       "1  Case assigned to Judge Ann M Donnelly and Magi...   \n",
       "2  Summons Issued as to Cardiogenics Holdings, In...   \n",
       "3  NOTICE - emailed attorney regarding missing se...   \n",
       "4  In accordance with Rule 73 of the Federal Rule...   \n",
       "\n",
       "                              Organization Portion  \\\n",
       "0  Cardiogenics Holdings , Inc. LG Capital Funding   \n",
       "1      Individual Practices of the assigned Judges   \n",
       "2                            Cardiogenics Holdings   \n",
       "3                                                    \n",
       "4                                                    \n",
       "\n",
       "                                      Name Portion  \\\n",
       "0             ( Steinmetz Michael Bowens Priscilla   \n",
       "1  Ann M Donnelly Vera M. Scanlon Bowens Priscilla   \n",
       "2                                 Bowens Priscilla   \n",
       "3                                 Bowens Priscilla   \n",
       "4                                 Bowens Priscilla   \n",
       "\n",
       "                            Identifying Org and Name  \\\n",
       "0  COMPLAINT against -ORG- -ORG- -ORG- -ORG- fili...   \n",
       "1  Case assigned to Judge -NAME- -NAME- -NAME- an...   \n",
       "2  Summons Issued as to -ORG- -ORG- , Inc.. ( -NA...   \n",
       "3  NOTICE - emailed attorney regarding missing se...   \n",
       "4  In accordance with Rule 73 of the Federal Rule...   \n",
       "\n",
       "                               Stripped Org and Name  \n",
       "0  COMPLAINT against filing fee $ 400 , receipt n...  \n",
       "1  Case assigned to Judge and Magistrate Judge . ...  \n",
       "2  Summons Issued as to , Inc.. ( , ) ( Entered :...  \n",
       "3  NOTICE - emailed attorney regarding missing se...  \n",
       "4  In accordance with Rule 73 of the Federal Rule...  "
      ]
     },
     "execution_count": 117,
     "metadata": {},
     "output_type": "execute_result"
    }
   ],
   "source": [
    "filename = 'docket_texts/train/DT/basic_df.pickle'\n",
    "#to load\n",
    "with open(filename, 'rb') as handle:\n",
    "    NER_df = pickle.load(handle)\n",
    "    \n",
    "new_df = NER_df.copy()\n",
    "new_df.head()"
   ]
  },
  {
   "cell_type": "code",
   "execution_count": 118,
   "metadata": {},
   "outputs": [],
   "source": [
    "### Normalize\n",
    "def normalize(docket_original):\n",
    "\n",
    "    url_regex1 = r\"\"\"(?i)\\b((?:https?:(?:/{1,3}|[a-z0-9%])|[a-z0-9.\\-]+[.](?:com|net|org|edu|gov|mil|aero|asia|biz|cat|coop|info|int|jobs|mobi|museum|name|post|pro|tel|travel|xxx|ac|ad|ae|af|ag|ai|al|am|an|ao|aq|ar|as|at|au|aw|ax|az|ba|bb|bd|be|bf|bg|bh|bi|bj|bm|bn|bo|br|bs|bt|bv|bw|by|bz|ca|cc|cd|cf|cg|ch|ci|ck|cl|cm|cn|co|cr|cs|cu|cv|cx|cy|cz|dd|de|dj|dk|dm|do|dz|ec|ee|eg|eh|er|es|et|eu|fi|fj|fk|fm|fo|fr|ga|gb|gd|ge|gf|gg|gh|gi|gl|gm|gn|gp|gq|gr|gs|gt|gu|gw|gy|hk|hm|hn|hr|ht|hu|id|ie|il|im|in|io|iq|ir|is|it|je|jm|jo|jp|ke|kg|kh|ki|km|kn|kp|kr|kw|ky|kz|la|lb|lc|li|lk|lr|ls|lt|lu|lv|ly|ma|mc|md|me|mg|mh|mk|ml|mm|mn|mo|mp|mq|mr|ms|mt|mu|mv|mw|mx|my|mz|na|nc|ne|nf|ng|ni|nl|no|np|nr|nu|nz|om|pa|pe|pf|pg|ph|pk|pl|pm|pn|pr|ps|pt|pw|py|qa|re|ro|rs|ru|rw|sa|sb|sc|sd|se|sg|sh|si|sj|Ja|sk|sl|sm|sn|so|sr|ss|st|su|sv|sx|sy|sz|tc|td|tf|tg|th|tj|tk|tl|tm|tn|to|tp|tr|tt|tv|tw|tz|ua|ug|uk|us|uy|uz|va|vc|ve|vg|vi|vn|vu|wf|ws|ye|yt|yu|za|zm|zw)/)(?:[^\\s()<>{}\\[\\]]+|\\([^\\s()]*?\\([^\\s()]+\\)[^\\s()]*?\\)|\\([^\\s]+?\\))+(?:\\([^\\s()]*?\\([^\\s()]+\\)[^\\s()]*?\\)|\\([^\\s]+?\\)|[^\\s`!()\\[\\]{};:'\".,<>?«»“”‘’])|(?:(?<!@)[a-z0-9]+(?:[.\\-][a-z0-9]+)*[.](?:com|net|org|edu|gov|mil|aero|asia|biz|cat|coop|info|int|jobs|mobi|museum|name|post|pro|tel|travel|xxx|ac|ad|ae|af|ag|ai|al|am|an|ao|aq|ar|as|at|au|aw|ax|az|ba|bb|bd|be|bf|bg|bh|bi|bj|bm|bn|bo|br|bs|bt|bv|bw|by|bz|ca|cc|cd|cf|cg|ch|ci|ck|cl|cm|cn|co|cr|cs|cu|cv|cx|cy|cz|dd|de|dj|dk|dm|do|dz|ec|ee|eg|eh|er|es|et|eu|fi|fj|fk|fm|fo|fr|ga|gb|gd|ge|gf|gg|gh|gi|gl|gm|gn|gp|gq|gr|gs|gt|gu|gw|gy|hk|hm|hn|hr|ht|hu|id|ie|il|im|in|io|iq|ir|is|it|je|jm|jo|jp|ke|kg|kh|ki|km|kn|kp|kr|kw|ky|kz|la|lb|lc|li|lk|lr|ls|lt|lu|lv|ly|ma|mc|md|me|mg|mh|mk|ml|mm|mn|mo|mp|mq|mr|ms|mt|mu|mv|mw|mx|my|mz|na|nc|ne|nf|ng|ni|nl|no|np|nr|nu|nz|om|pa|pe|pf|pg|ph|pk|pl|pm|pn|pr|ps|pt|pw|py|qa|re|ro|rs|ru|rw|sa|sb|sc|sd|se|sg|sh|si|sj|Ja|sk|sl|sm|sn|so|sr|ss|st|su|sv|sx|sy|sz|tc|td|tf|tg|th|tj|tk|tl|tm|tn|to|tp|tr|tt|tv|tw|tz|ua|ug|uk|us|uy|uz|va|vc|ve|vg|vi|vn|vu|wf|ws|ye|yt|yu|za|zm|zw)\\b/?(?!@)))\"\"\"\n",
    "    url_regex2 = 'http[s]?://(?:[a-zA-Z]|[0-9]|[$-_@.&+]|[!*\\(\\),]|(?:%[0-9a-fA-F][0-9a-fA-F]))+'\n",
    "    date_regex = '(\\d{1,2}[\\/ ](\\d{2}|January|Jan|February|Feb|March|Mar|April|Apr|May|May|June|Jun|July|Jul|August|Aug|September|Sep|October|Oct|November|Nov|December|Dec)[\\/ ]\\d{2,4})'\n",
    "    punct_regex = r\"[^a-zA-Z0-9]\"\n",
    "    num_regex = \"\\d+\"\n",
    "    extraspace_regex = \" +\"\n",
    "    docket_original = docket_original.split(' ')\n",
    "    docket_normalized = [text.lower() for text in docket_original]\n",
    "    docket_nourl1 = [re.sub(url_regex1, \"url\", text) for text in docket_normalized]\n",
    "    docket_nourl2 = [re.sub(url_regex2, \"url\", text) for text in docket_nourl1]\n",
    "    docket_nodate = [re.sub(date_regex, \"date\", text) for text in docket_nourl2]\n",
    "    docket_nopunct = [re.sub(punct_regex, \" \", text) for text in docket_nodate]\n",
    "    docket_nonum = [re.sub(num_regex, \" \", text) for text in docket_nopunct]\n",
    "    docket_noextraspace = re.sub(extraspace_regex, \" \", ' '.join(docket_nonum))\n",
    "    \n",
    "    return docket_noextraspace"
   ]
  },
  {
   "cell_type": "code",
   "execution_count": 119,
   "metadata": {},
   "outputs": [
    {
     "name": "stdout",
     "output_type": "stream",
     "text": [
      "took 1.1314857006072998 seconds\n"
     ]
    }
   ],
   "source": [
    "t0 = time.time()\n",
    "new_df['normalized'] = new_df['Stripped Org and Name'].apply(lambda x: normalize(x))\n",
    "print('took {} seconds'.format(time.time() - t0))"
   ]
  },
  {
   "cell_type": "markdown",
   "metadata": {},
   "source": [
    "### 3. Split and tokenize"
   ]
  },
  {
   "cell_type": "code",
   "execution_count": 120,
   "metadata": {},
   "outputs": [],
   "source": [
    "def tokenize(docket_noextraspace):\n",
    "    return word_tokenize(docket_noextraspace)"
   ]
  },
  {
   "cell_type": "code",
   "execution_count": 121,
   "metadata": {},
   "outputs": [
    {
     "name": "stdout",
     "output_type": "stream",
     "text": [
      "took 0.8651938438415527 seconds\n"
     ]
    }
   ],
   "source": [
    "t0 = time.time()\n",
    "new_df['tokenize'] = new_df['normalized'].apply(tokenize)\n",
    "print('took {} seconds'.format(time.time() - t0))"
   ]
  },
  {
   "cell_type": "markdown",
   "metadata": {},
   "source": [
    "### 4. Remove Stop words"
   ]
  },
  {
   "cell_type": "code",
   "execution_count": 122,
   "metadata": {},
   "outputs": [],
   "source": [
    "def stopwords(docket_tokenized):  \n",
    "    return [word for word in docket_tokenized if word not in sw]"
   ]
  },
  {
   "cell_type": "code",
   "execution_count": 123,
   "metadata": {},
   "outputs": [
    {
     "name": "stdout",
     "output_type": "stream",
     "text": [
      "took 0.2962186336517334 seconds\n"
     ]
    }
   ],
   "source": [
    "t0 = time.time()\n",
    "new_df['nostop'] = new_df['tokenize'].apply(stopwords)\n",
    "print('took {} seconds'.format(time.time() - t0))"
   ]
  },
  {
   "cell_type": "markdown",
   "metadata": {},
   "source": [
    "### 5. Manual Topic Assignment - Decision tree to identify keywords and topics based on Chris' feedback"
   ]
  },
  {
   "cell_type": "code",
   "execution_count": 124,
   "metadata": {},
   "outputs": [],
   "source": [
    "manual_topics_df = pd.read_csv('mannual_topics_20180828.csv') #this is updated\n",
    "manual_topics_df = manual_topics_df.apply(lambda x: x.astype(str).str.lower())\n",
    "manual_topics_dict = manual_topics_df.to_dict('list')\n",
    "for topic in manual_topics_dict.keys():\n",
    "    manual_topics_dict[topic] = [keyword for keyword in manual_topics_dict[topic] if keyword != 'nan']"
   ]
  },
  {
   "cell_type": "code",
   "execution_count": 125,
   "metadata": {},
   "outputs": [],
   "source": [
    "#output a list of topics\n",
    "def mannual_topic_assignment(text):\n",
    "    #text = text.split()\n",
    "    #print(text)\n",
    "    output = []\n",
    "    for topic in manual_topics_dict.keys():\n",
    "        for keyword in manual_topics_dict[topic]:\n",
    "            if ' '.join(text).find(keyword) != -1:\n",
    "                output.append(topic)\n",
    "    #print(output)\n",
    "    return ', '.join(set(output))"
   ]
  },
  {
   "cell_type": "code",
   "execution_count": 126,
   "metadata": {},
   "outputs": [],
   "source": [
    "docket_texts_output = list(new_df['nostop'])\n",
    "\n",
    "docket_texts_output_DT = []\n",
    "topics_DT = []\n",
    "\n",
    "for text in docket_texts_output:\n",
    "    topic = mannual_topic_assignment(text)\n",
    "    #print(topic)\n",
    "    if topic != '':\n",
    "        docket_texts_output_DT.append('')\n",
    "        topics_DT.append(topic)\n",
    "    else:\n",
    "        docket_texts_output_DT.append(text)\n",
    "        topics_DT.append('')"
   ]
  },
  {
   "cell_type": "code",
   "execution_count": 127,
   "metadata": {
    "scrolled": false
   },
   "outputs": [
    {
     "data": {
      "text/html": [
       "<div>\n",
       "<table border=\"1\" class=\"dataframe\">\n",
       "  <thead>\n",
       "    <tr style=\"text-align: right;\">\n",
       "      <th></th>\n",
       "      <th>Original Docket Text</th>\n",
       "      <th>Organization Portion</th>\n",
       "      <th>Name Portion</th>\n",
       "      <th>Identifying Org and Name</th>\n",
       "      <th>Stripped Org and Name</th>\n",
       "      <th>normalized</th>\n",
       "      <th>tokenize</th>\n",
       "      <th>nostop</th>\n",
       "      <th>DT Topics</th>\n",
       "      <th>Removed unnecessary POS &amp; vocab DT</th>\n",
       "    </tr>\n",
       "  </thead>\n",
       "  <tbody>\n",
       "    <tr>\n",
       "      <th>0</th>\n",
       "      <td>COMPLAINT against Cardiogenics Holdings, Inc. ...</td>\n",
       "      <td>Cardiogenics Holdings , Inc. LG Capital Funding</td>\n",
       "      <td>( Steinmetz Michael Bowens Priscilla</td>\n",
       "      <td>COMPLAINT against -ORG- -ORG- -ORG- -ORG- fili...</td>\n",
       "      <td>COMPLAINT against filing fee $ 400 , receipt n...</td>\n",
       "      <td>complaint against filing fee receipt number wa...</td>\n",
       "      <td>[complaint, against, filing, fee, receipt, num...</td>\n",
       "      <td>[complaint, filing, fee, receipt, number, disc...</td>\n",
       "      <td>Motions, Complaints, Service of Process</td>\n",
       "      <td></td>\n",
       "    </tr>\n",
       "    <tr>\n",
       "      <th>1</th>\n",
       "      <td>Case assigned to Judge Ann M Donnelly and Magi...</td>\n",
       "      <td>Individual Practices of the assigned Judges</td>\n",
       "      <td>Ann M Donnelly Vera M. Scanlon Bowens Priscilla</td>\n",
       "      <td>Case assigned to Judge -NAME- -NAME- -NAME- an...</td>\n",
       "      <td>Case assigned to Judge and Magistrate Judge . ...</td>\n",
       "      <td>case assigned to judge and magistrate judge pl...</td>\n",
       "      <td>[case, assigned, to, judge, and, magistrate, j...</td>\n",
       "      <td>[case, assigned, judge, magistrate, judge, ple...</td>\n",
       "      <td></td>\n",
       "      <td>[case, assigned, judge, magistrate, judge, ple...</td>\n",
       "    </tr>\n",
       "    <tr>\n",
       "      <th>2</th>\n",
       "      <td>Summons Issued as to Cardiogenics Holdings, In...</td>\n",
       "      <td>Cardiogenics Holdings</td>\n",
       "      <td>Bowens Priscilla</td>\n",
       "      <td>Summons Issued as to -ORG- -ORG- , Inc.. ( -NA...</td>\n",
       "      <td>Summons Issued as to , Inc.. ( , ) ( Entered :...</td>\n",
       "      <td>summons issued as to inc entered date</td>\n",
       "      <td>[summons, issued, as, to, inc, entered, date]</td>\n",
       "      <td>[summons, issued, inc, entered, date]</td>\n",
       "      <td>Service of Process</td>\n",
       "      <td></td>\n",
       "    </tr>\n",
       "    <tr>\n",
       "      <th>3</th>\n",
       "      <td>NOTICE - emailed attorney regarding missing se...</td>\n",
       "      <td></td>\n",
       "      <td>Bowens Priscilla</td>\n",
       "      <td>NOTICE - emailed attorney regarding missing se...</td>\n",
       "      <td>NOTICE - emailed attorney regarding missing se...</td>\n",
       "      <td>notice emailed attorney regarding missing seco...</td>\n",
       "      <td>[notice, emailed, attorney, regarding, missing...</td>\n",
       "      <td>[notice, emailed, attorney, regarding, missing...</td>\n",
       "      <td>Notices</td>\n",
       "      <td></td>\n",
       "    </tr>\n",
       "    <tr>\n",
       "      <th>4</th>\n",
       "      <td>In accordance with Rule 73 of the Federal Rule...</td>\n",
       "      <td></td>\n",
       "      <td>Bowens Priscilla</td>\n",
       "      <td>In accordance with Rule 73 of the Federal Rule...</td>\n",
       "      <td>In accordance with Rule 73 of the Federal Rule...</td>\n",
       "      <td>in accordance with rule of the federal rules o...</td>\n",
       "      <td>[in, accordance, with, rule, of, the, federal,...</td>\n",
       "      <td>[accordance, rule, federal, rules, civil, proc...</td>\n",
       "      <td>Notices, Motions, Judgment, Order</td>\n",
       "      <td></td>\n",
       "    </tr>\n",
       "  </tbody>\n",
       "</table>\n",
       "</div>"
      ],
      "text/plain": [
       "                                Original Docket Text  \\\n",
       "0  COMPLAINT against Cardiogenics Holdings, Inc. ...   \n",
       "1  Case assigned to Judge Ann M Donnelly and Magi...   \n",
       "2  Summons Issued as to Cardiogenics Holdings, In...   \n",
       "3  NOTICE - emailed attorney regarding missing se...   \n",
       "4  In accordance with Rule 73 of the Federal Rule...   \n",
       "\n",
       "                              Organization Portion  \\\n",
       "0  Cardiogenics Holdings , Inc. LG Capital Funding   \n",
       "1      Individual Practices of the assigned Judges   \n",
       "2                            Cardiogenics Holdings   \n",
       "3                                                    \n",
       "4                                                    \n",
       "\n",
       "                                      Name Portion  \\\n",
       "0             ( Steinmetz Michael Bowens Priscilla   \n",
       "1  Ann M Donnelly Vera M. Scanlon Bowens Priscilla   \n",
       "2                                 Bowens Priscilla   \n",
       "3                                 Bowens Priscilla   \n",
       "4                                 Bowens Priscilla   \n",
       "\n",
       "                            Identifying Org and Name  \\\n",
       "0  COMPLAINT against -ORG- -ORG- -ORG- -ORG- fili...   \n",
       "1  Case assigned to Judge -NAME- -NAME- -NAME- an...   \n",
       "2  Summons Issued as to -ORG- -ORG- , Inc.. ( -NA...   \n",
       "3  NOTICE - emailed attorney regarding missing se...   \n",
       "4  In accordance with Rule 73 of the Federal Rule...   \n",
       "\n",
       "                               Stripped Org and Name  \\\n",
       "0  COMPLAINT against filing fee $ 400 , receipt n...   \n",
       "1  Case assigned to Judge and Magistrate Judge . ...   \n",
       "2  Summons Issued as to , Inc.. ( , ) ( Entered :...   \n",
       "3  NOTICE - emailed attorney regarding missing se...   \n",
       "4  In accordance with Rule 73 of the Federal Rule...   \n",
       "\n",
       "                                          normalized  \\\n",
       "0  complaint against filing fee receipt number wa...   \n",
       "1  case assigned to judge and magistrate judge pl...   \n",
       "2             summons issued as to inc entered date    \n",
       "3  notice emailed attorney regarding missing seco...   \n",
       "4  in accordance with rule of the federal rules o...   \n",
       "\n",
       "                                            tokenize  \\\n",
       "0  [complaint, against, filing, fee, receipt, num...   \n",
       "1  [case, assigned, to, judge, and, magistrate, j...   \n",
       "2      [summons, issued, as, to, inc, entered, date]   \n",
       "3  [notice, emailed, attorney, regarding, missing...   \n",
       "4  [in, accordance, with, rule, of, the, federal,...   \n",
       "\n",
       "                                              nostop  \\\n",
       "0  [complaint, filing, fee, receipt, number, disc...   \n",
       "1  [case, assigned, judge, magistrate, judge, ple...   \n",
       "2              [summons, issued, inc, entered, date]   \n",
       "3  [notice, emailed, attorney, regarding, missing...   \n",
       "4  [accordance, rule, federal, rules, civil, proc...   \n",
       "\n",
       "                                 DT Topics  \\\n",
       "0  Motions, Complaints, Service of Process   \n",
       "1                                            \n",
       "2                       Service of Process   \n",
       "3                                  Notices   \n",
       "4        Notices, Motions, Judgment, Order   \n",
       "\n",
       "                  Removed unnecessary POS & vocab DT  \n",
       "0                                                     \n",
       "1  [case, assigned, judge, magistrate, judge, ple...  \n",
       "2                                                     \n",
       "3                                                     \n",
       "4                                                     "
      ]
     },
     "execution_count": 127,
     "metadata": {},
     "output_type": "execute_result"
    }
   ],
   "source": [
    "new_df['DT Topics'] = pd.Series(topics_DT)\n",
    "new_df['Removed unnecessary POS & vocab DT'] = pd.Series(docket_texts_output_DT)\n",
    "new_df.head()"
   ]
  },
  {
   "cell_type": "markdown",
   "metadata": {},
   "source": [
    "### 6. Lemmatization"
   ]
  },
  {
   "cell_type": "code",
   "execution_count": 128,
   "metadata": {},
   "outputs": [],
   "source": [
    "def lemm(docket_nostop):\n",
    "    return ' '.join([WordNetLemmatizer().lemmatize(word, pos='v') for word in docket_nostop])"
   ]
  },
  {
   "cell_type": "code",
   "execution_count": 129,
   "metadata": {},
   "outputs": [
    {
     "name": "stdout",
     "output_type": "stream",
     "text": [
      "took 3.4011993408203125 seconds\n"
     ]
    }
   ],
   "source": [
    "t0 = time.time()\n",
    "new_df['lemmed'] = new_df['Removed unnecessary POS & vocab DT'].apply(lemm)\n",
    "print('took {} seconds'.format(time.time() - t0))"
   ]
  },
  {
   "cell_type": "code",
   "execution_count": 130,
   "metadata": {
    "scrolled": true
   },
   "outputs": [
    {
     "data": {
      "text/html": [
       "<div>\n",
       "<table border=\"1\" class=\"dataframe\">\n",
       "  <thead>\n",
       "    <tr style=\"text-align: right;\">\n",
       "      <th></th>\n",
       "      <th>Original Docket Text</th>\n",
       "      <th>Organization Portion</th>\n",
       "      <th>Name Portion</th>\n",
       "      <th>Identifying Org and Name</th>\n",
       "      <th>Stripped Org and Name</th>\n",
       "      <th>normalized</th>\n",
       "      <th>tokenize</th>\n",
       "      <th>nostop</th>\n",
       "      <th>DT Topics</th>\n",
       "      <th>Removed unnecessary POS &amp; vocab DT</th>\n",
       "      <th>lemmed</th>\n",
       "    </tr>\n",
       "  </thead>\n",
       "  <tbody>\n",
       "    <tr>\n",
       "      <th>0</th>\n",
       "      <td>COMPLAINT against Cardiogenics Holdings, Inc. ...</td>\n",
       "      <td>Cardiogenics Holdings , Inc. LG Capital Funding</td>\n",
       "      <td>( Steinmetz Michael Bowens Priscilla</td>\n",
       "      <td>COMPLAINT against -ORG- -ORG- -ORG- -ORG- fili...</td>\n",
       "      <td>COMPLAINT against filing fee $ 400 , receipt n...</td>\n",
       "      <td>complaint against filing fee receipt number wa...</td>\n",
       "      <td>[complaint, against, filing, fee, receipt, num...</td>\n",
       "      <td>[complaint, filing, fee, receipt, number, disc...</td>\n",
       "      <td>Motions, Complaints, Service of Process</td>\n",
       "      <td></td>\n",
       "      <td></td>\n",
       "    </tr>\n",
       "    <tr>\n",
       "      <th>1</th>\n",
       "      <td>Case assigned to Judge Ann M Donnelly and Magi...</td>\n",
       "      <td>Individual Practices of the assigned Judges</td>\n",
       "      <td>Ann M Donnelly Vera M. Scanlon Bowens Priscilla</td>\n",
       "      <td>Case assigned to Judge -NAME- -NAME- -NAME- an...</td>\n",
       "      <td>Case assigned to Judge and Magistrate Judge . ...</td>\n",
       "      <td>case assigned to judge and magistrate judge pl...</td>\n",
       "      <td>[case, assigned, to, judge, and, magistrate, j...</td>\n",
       "      <td>[case, assigned, judge, magistrate, judge, ple...</td>\n",
       "      <td></td>\n",
       "      <td>[case, assigned, judge, magistrate, judge, ple...</td>\n",
       "      <td>case assign judge magistrate judge please down...</td>\n",
       "    </tr>\n",
       "    <tr>\n",
       "      <th>2</th>\n",
       "      <td>Summons Issued as to Cardiogenics Holdings, In...</td>\n",
       "      <td>Cardiogenics Holdings</td>\n",
       "      <td>Bowens Priscilla</td>\n",
       "      <td>Summons Issued as to -ORG- -ORG- , Inc.. ( -NA...</td>\n",
       "      <td>Summons Issued as to , Inc.. ( , ) ( Entered :...</td>\n",
       "      <td>summons issued as to inc entered date</td>\n",
       "      <td>[summons, issued, as, to, inc, entered, date]</td>\n",
       "      <td>[summons, issued, inc, entered, date]</td>\n",
       "      <td>Service of Process</td>\n",
       "      <td></td>\n",
       "      <td></td>\n",
       "    </tr>\n",
       "    <tr>\n",
       "      <th>3</th>\n",
       "      <td>NOTICE - emailed attorney regarding missing se...</td>\n",
       "      <td></td>\n",
       "      <td>Bowens Priscilla</td>\n",
       "      <td>NOTICE - emailed attorney regarding missing se...</td>\n",
       "      <td>NOTICE - emailed attorney regarding missing se...</td>\n",
       "      <td>notice emailed attorney regarding missing seco...</td>\n",
       "      <td>[notice, emailed, attorney, regarding, missing...</td>\n",
       "      <td>[notice, emailed, attorney, regarding, missing...</td>\n",
       "      <td>Notices</td>\n",
       "      <td></td>\n",
       "      <td></td>\n",
       "    </tr>\n",
       "    <tr>\n",
       "      <th>4</th>\n",
       "      <td>In accordance with Rule 73 of the Federal Rule...</td>\n",
       "      <td></td>\n",
       "      <td>Bowens Priscilla</td>\n",
       "      <td>In accordance with Rule 73 of the Federal Rule...</td>\n",
       "      <td>In accordance with Rule 73 of the Federal Rule...</td>\n",
       "      <td>in accordance with rule of the federal rules o...</td>\n",
       "      <td>[in, accordance, with, rule, of, the, federal,...</td>\n",
       "      <td>[accordance, rule, federal, rules, civil, proc...</td>\n",
       "      <td>Notices, Motions, Judgment, Order</td>\n",
       "      <td></td>\n",
       "      <td></td>\n",
       "    </tr>\n",
       "  </tbody>\n",
       "</table>\n",
       "</div>"
      ],
      "text/plain": [
       "                                Original Docket Text  \\\n",
       "0  COMPLAINT against Cardiogenics Holdings, Inc. ...   \n",
       "1  Case assigned to Judge Ann M Donnelly and Magi...   \n",
       "2  Summons Issued as to Cardiogenics Holdings, In...   \n",
       "3  NOTICE - emailed attorney regarding missing se...   \n",
       "4  In accordance with Rule 73 of the Federal Rule...   \n",
       "\n",
       "                              Organization Portion  \\\n",
       "0  Cardiogenics Holdings , Inc. LG Capital Funding   \n",
       "1      Individual Practices of the assigned Judges   \n",
       "2                            Cardiogenics Holdings   \n",
       "3                                                    \n",
       "4                                                    \n",
       "\n",
       "                                      Name Portion  \\\n",
       "0             ( Steinmetz Michael Bowens Priscilla   \n",
       "1  Ann M Donnelly Vera M. Scanlon Bowens Priscilla   \n",
       "2                                 Bowens Priscilla   \n",
       "3                                 Bowens Priscilla   \n",
       "4                                 Bowens Priscilla   \n",
       "\n",
       "                            Identifying Org and Name  \\\n",
       "0  COMPLAINT against -ORG- -ORG- -ORG- -ORG- fili...   \n",
       "1  Case assigned to Judge -NAME- -NAME- -NAME- an...   \n",
       "2  Summons Issued as to -ORG- -ORG- , Inc.. ( -NA...   \n",
       "3  NOTICE - emailed attorney regarding missing se...   \n",
       "4  In accordance with Rule 73 of the Federal Rule...   \n",
       "\n",
       "                               Stripped Org and Name  \\\n",
       "0  COMPLAINT against filing fee $ 400 , receipt n...   \n",
       "1  Case assigned to Judge and Magistrate Judge . ...   \n",
       "2  Summons Issued as to , Inc.. ( , ) ( Entered :...   \n",
       "3  NOTICE - emailed attorney regarding missing se...   \n",
       "4  In accordance with Rule 73 of the Federal Rule...   \n",
       "\n",
       "                                          normalized  \\\n",
       "0  complaint against filing fee receipt number wa...   \n",
       "1  case assigned to judge and magistrate judge pl...   \n",
       "2             summons issued as to inc entered date    \n",
       "3  notice emailed attorney regarding missing seco...   \n",
       "4  in accordance with rule of the federal rules o...   \n",
       "\n",
       "                                            tokenize  \\\n",
       "0  [complaint, against, filing, fee, receipt, num...   \n",
       "1  [case, assigned, to, judge, and, magistrate, j...   \n",
       "2      [summons, issued, as, to, inc, entered, date]   \n",
       "3  [notice, emailed, attorney, regarding, missing...   \n",
       "4  [in, accordance, with, rule, of, the, federal,...   \n",
       "\n",
       "                                              nostop  \\\n",
       "0  [complaint, filing, fee, receipt, number, disc...   \n",
       "1  [case, assigned, judge, magistrate, judge, ple...   \n",
       "2              [summons, issued, inc, entered, date]   \n",
       "3  [notice, emailed, attorney, regarding, missing...   \n",
       "4  [accordance, rule, federal, rules, civil, proc...   \n",
       "\n",
       "                                 DT Topics  \\\n",
       "0  Motions, Complaints, Service of Process   \n",
       "1                                            \n",
       "2                       Service of Process   \n",
       "3                                  Notices   \n",
       "4        Notices, Motions, Judgment, Order   \n",
       "\n",
       "                  Removed unnecessary POS & vocab DT  \\\n",
       "0                                                      \n",
       "1  [case, assigned, judge, magistrate, judge, ple...   \n",
       "2                                                      \n",
       "3                                                      \n",
       "4                                                      \n",
       "\n",
       "                                              lemmed  \n",
       "0                                                     \n",
       "1  case assign judge magistrate judge please down...  \n",
       "2                                                     \n",
       "3                                                     \n",
       "4                                                     "
      ]
     },
     "execution_count": 130,
     "metadata": {},
     "output_type": "execute_result"
    }
   ],
   "source": [
    "new_df.head()"
   ]
  },
  {
   "cell_type": "markdown",
   "metadata": {},
   "source": [
    "### 7. Phrase Modeling"
   ]
  },
  {
   "cell_type": "code",
   "execution_count": 131,
   "metadata": {},
   "outputs": [
    {
     "data": {
      "text/plain": [
       "['',\n",
       " 'case assign judge magistrate judge please download review locate website attorneys responsible provide courtesy copy judge individual practice require enter date',\n",
       " '',\n",
       " '',\n",
       " '']"
      ]
     },
     "execution_count": 131,
     "metadata": {},
     "output_type": "execute_result"
    }
   ],
   "source": [
    "docket_phrase2 = list(new_df['lemmed'])\n",
    "docket_phrase2[:5]"
   ]
  },
  {
   "cell_type": "code",
   "execution_count": 132,
   "metadata": {},
   "outputs": [],
   "source": [
    "unigram_sentences_filepath = 'docket_texts/train/DT/unigram_nltk_newsop2.txt'"
   ]
  },
  {
   "cell_type": "code",
   "execution_count": 133,
   "metadata": {},
   "outputs": [
    {
     "name": "stdout",
     "output_type": "stream",
     "text": [
      "Wall time: 3.99 ms\n"
     ]
    }
   ],
   "source": [
    "%%time\n",
    "# turn the lemmatized corpus into unigram sentences\n",
    "with codecs.open(unigram_sentences_filepath, 'w', encoding = 'utf_8') as f:\n",
    "    for sentence in docket_phrase2:\n",
    "        f.write(sentence + '\\n')"
   ]
  },
  {
   "cell_type": "code",
   "execution_count": 134,
   "metadata": {},
   "outputs": [],
   "source": [
    "unigram_sentences = LineSentence(unigram_sentences_filepath)"
   ]
  },
  {
   "cell_type": "code",
   "execution_count": 135,
   "metadata": {},
   "outputs": [],
   "source": [
    "bigram_model_filepath = 'docket_texts/train/DT/bigram_model_newsop2' "
   ]
  },
  {
   "cell_type": "code",
   "execution_count": 136,
   "metadata": {},
   "outputs": [
    {
     "name": "stdout",
     "output_type": "stream",
     "text": [
      "Wall time: 151 ms\n"
     ]
    }
   ],
   "source": [
    "%%time\n",
    "\n",
    "# store our bigram model\n",
    "bigram_model = Phrases(unigram_sentences)\n",
    "bigram_model.save(bigram_model_filepath)\n",
    "    \n",
    "# load the finished model from disk if we don't want to run this again\n",
    "#bigram_model = Phrases.load(bigram_model_filepath)"
   ]
  },
  {
   "cell_type": "code",
   "execution_count": 137,
   "metadata": {},
   "outputs": [],
   "source": [
    "bigram_sentences_filepath = 'docket_texts/train/DT/bigram_sentences_newsop2.txt'"
   ]
  },
  {
   "cell_type": "code",
   "execution_count": 138,
   "metadata": {},
   "outputs": [
    {
     "name": "stdout",
     "output_type": "stream",
     "text": [
      "Wall time: 58.8 ms\n"
     ]
    },
    {
     "name": "stderr",
     "output_type": "stream",
     "text": [
      "c:\\users\\inves\\appdata\\local\\programs\\python\\python35\\lib\\site-packages\\gensim\\models\\phrases.py:494: UserWarning: For a faster implementation, use the gensim.models.phrases.Phraser class\n",
      "  warnings.warn(\"For a faster implementation, use the gensim.models.phrases.Phraser class\")\n"
     ]
    }
   ],
   "source": [
    "%%time\n",
    "\n",
    "# apply the bigram model, and write it to file\n",
    "with codecs.open(bigram_sentences_filepath, 'w', encoding = 'utf_8') as f:\n",
    "    for unigram_sentence in unigram_sentences:\n",
    "        bigram_sentence = ' '.join(bigram_model[unigram_sentence])\n",
    "        f.write(bigram_sentence + '\\n')"
   ]
  },
  {
   "cell_type": "code",
   "execution_count": 139,
   "metadata": {},
   "outputs": [],
   "source": [
    "bigram_sentences = LineSentence(bigram_sentences_filepath)"
   ]
  },
  {
   "cell_type": "code",
   "execution_count": 140,
   "metadata": {},
   "outputs": [
    {
     "name": "stdout",
     "output_type": "stream",
     "text": [
      "\n",
      "Unigram sentence:\n",
      "case assign judge magistrate judge please download review locate website attorneys responsible provide courtesy copy judge individual practice require enter date\n",
      "case reassign magistrate judge magistrate judge longer assign case please download review locate website attorneys responsible provide courtesy copy judge individual practice require enter date\n",
      "status report llc kehrli enter date\n",
      "case assign judge magistrate judge please download review locate website attorneys responsible provide courtesy copy judge individual practice require enter date\n",
      "case reassign magistrate judge chief mag judge longer assign case please download review locate website attorneys responsible provide courtesy copy judge individual practice require marziliano august enter date\n",
      "selection mediator select mediator first mediation session take place january upon completion mediation party must submit mediation report find https url mediation report must e mail robyn weinstein url within two weeks follow mediation session report mediation due date enter date\n",
      "report mediation unsettle party must submit mediation report find https url mediation report must e mail robyn weinstein url within two weeks follow mediation session mediation report due date enter date\n",
      "case assign judge magistrate judge please download review locate website attorneys responsible provide courtesy copy judge individual practice require enter date\n",
      "corporate disclosure statement enter date\n",
      "status report propose brief schedule llc kehrli enter date\n",
      "\n",
      "Bigram sentence:\n",
      "case assign judge magistrate judge please_download review_locate website_attorneys responsible_provide courtesy_copy judge individual_practice require enter date\n",
      "case reassign magistrate judge magistrate judge longer assign case please_download review_locate website_attorneys responsible_provide courtesy_copy judge individual_practice require enter date\n",
      "status_report llc_kehrli enter date\n",
      "case assign judge magistrate judge please_download review_locate website_attorneys responsible_provide courtesy_copy judge individual_practice require enter date\n",
      "case reassign magistrate judge chief mag judge longer assign case please_download review_locate website_attorneys responsible_provide courtesy_copy judge individual_practice require marziliano august enter date\n",
      "selection mediator select mediator first mediation session take place january upon completion mediation party must submit mediation_report find https url mediation_report must e mail robyn weinstein url within two weeks follow mediation session report mediation due date enter date\n",
      "report mediation unsettle party must submit mediation_report find https url mediation_report must e mail robyn weinstein url within two weeks follow mediation session mediation_report due date enter date\n",
      "case assign judge magistrate judge please_download review_locate website_attorneys responsible_provide courtesy_copy judge individual_practice require enter date\n",
      "corporate_disclosure statement enter date\n",
      "status_report propose brief schedule llc_kehrli enter date\n"
     ]
    }
   ],
   "source": [
    "print('\\nUnigram sentence:')\n",
    "for unigram_sentence in it.islice(unigram_sentences, 0, 10):\n",
    "    print(' '.join(unigram_sentence))\n",
    "print('\\nBigram sentence:')\n",
    "for bigram_sentence in it.islice(bigram_sentences, 0, 10):\n",
    "    print(' '.join(bigram_sentence))"
   ]
  },
  {
   "cell_type": "code",
   "execution_count": 141,
   "metadata": {},
   "outputs": [],
   "source": [
    "trigram_model_filepath = 'docket_texts/train/DT/trigram_model_newsop2'"
   ]
  },
  {
   "cell_type": "code",
   "execution_count": 142,
   "metadata": {},
   "outputs": [
    {
     "name": "stdout",
     "output_type": "stream",
     "text": [
      "Wall time: 22.9 ms\n"
     ]
    }
   ],
   "source": [
    "%%time\n",
    "\n",
    "# again, using Phrases to attach more words to phrases already formed\n",
    "trigram_model = Phrases(bigram_sentences)\n",
    "trigram_model.save(trigram_model_filepath)\n",
    "\n",
    "# load the finished model from disk\n",
    "#trigram_model = Phrases.load(trigram_model_filepath)"
   ]
  },
  {
   "cell_type": "code",
   "execution_count": 143,
   "metadata": {},
   "outputs": [],
   "source": [
    "trigram_sentences_filepath = 'docket_texts/train/DT/trigram_sentences_newsop2.txt'"
   ]
  },
  {
   "cell_type": "code",
   "execution_count": 144,
   "metadata": {},
   "outputs": [
    {
     "name": "stdout",
     "output_type": "stream",
     "text": [
      "Wall time: 23 ms\n"
     ]
    },
    {
     "name": "stderr",
     "output_type": "stream",
     "text": [
      "c:\\users\\inves\\appdata\\local\\programs\\python\\python35\\lib\\site-packages\\gensim\\models\\phrases.py:494: UserWarning: For a faster implementation, use the gensim.models.phrases.Phraser class\n",
      "  warnings.warn(\"For a faster implementation, use the gensim.models.phrases.Phraser class\")\n"
     ]
    }
   ],
   "source": [
    "%%time\n",
    "\n",
    "with codecs.open(trigram_sentences_filepath, 'w', encoding = 'utf_8') as f:\n",
    "    for bigram_sentence in bigram_sentences:\n",
    "        #print('Bi', bigram_sentence)\n",
    "        trigram_sentence = ' '.join(trigram_model[bigram_sentence])\n",
    "        #print('Tri', trigram_sentence)\n",
    "        f.write(trigram_sentence + '\\n')"
   ]
  },
  {
   "cell_type": "code",
   "execution_count": 145,
   "metadata": {},
   "outputs": [],
   "source": [
    "trigram_sentences = LineSentence(trigram_sentences_filepath)"
   ]
  },
  {
   "cell_type": "code",
   "execution_count": 147,
   "metadata": {},
   "outputs": [
    {
     "name": "stdout",
     "output_type": "stream",
     "text": [
      "Original text:\n",
      "['', 'case assign judge magistrate judge please download review locate website attorneys responsible provide courtesy copy judge individual practice require enter date', '', '', ''] \n",
      "\n",
      "\n",
      "UNIGRAM Sentence:\n",
      "case assign judge magistrate judge please download review locate website attorneys responsible provide courtesy copy judge individual practice require enter date\n",
      "case reassign magistrate judge magistrate judge longer assign case please download review locate website attorneys responsible provide courtesy copy judge individual practice require enter date\n",
      "status report llc kehrli enter date\n",
      "case assign judge magistrate judge please download review locate website attorneys responsible provide courtesy copy judge individual practice require enter date\n",
      "case reassign magistrate judge chief mag judge longer assign case please download review locate website attorneys responsible provide courtesy copy judge individual practice require marziliano august enter date\n",
      "\n",
      "BIGRAM Sentence:\n",
      "case assign judge magistrate judge please_download review_locate website_attorneys responsible_provide courtesy_copy judge individual_practice require enter date\n",
      "case reassign magistrate judge magistrate judge longer assign case please_download review_locate website_attorneys responsible_provide courtesy_copy judge individual_practice require enter date\n",
      "status_report llc_kehrli enter date\n",
      "case assign judge magistrate judge please_download review_locate website_attorneys responsible_provide courtesy_copy judge individual_practice require enter date\n",
      "case reassign magistrate judge chief mag judge longer assign case please_download review_locate website_attorneys responsible_provide courtesy_copy judge individual_practice require marziliano august enter date\n",
      "\n",
      "TRIGRAM Sentence:\n",
      "case assign judge magistrate judge please_download_review_locate website_attorneys_responsible_provide courtesy_copy judge individual_practice_require enter date\n",
      "case reassign magistrate judge magistrate judge longer assign case please_download_review_locate website_attorneys_responsible_provide courtesy_copy judge individual_practice_require enter date\n",
      "status_report llc_kehrli enter date\n",
      "case assign judge magistrate judge please_download_review_locate website_attorneys_responsible_provide courtesy_copy judge individual_practice_require enter date\n",
      "case reassign magistrate judge chief mag judge longer assign case please_download_review_locate website_attorneys_responsible_provide courtesy_copy judge individual_practice_require marziliano august enter date\n"
     ]
    }
   ],
   "source": [
    "start = 0\n",
    "finish = 5\n",
    "print('Original text:')\n",
    "print(docket_phrase2[start:finish], '\\n')\n",
    "\n",
    "print('\\nUNIGRAM Sentence:')\n",
    "for unigram_sentence in it.islice(unigram_sentences, start, finish):\n",
    "    print(' '.join(unigram_sentence))\n",
    "print('\\nBIGRAM Sentence:')\n",
    "for bigram_sentence in it.islice(bigram_sentences, start, finish):\n",
    "    print(' '.join(bigram_sentence))\n",
    "print('\\nTRIGRAM Sentence:')\n",
    "for trigram_sentence in it.islice(trigram_sentences, start, finish):\n",
    "    print(' '.join(trigram_sentence))"
   ]
  },
  {
   "cell_type": "code",
   "execution_count": 148,
   "metadata": {},
   "outputs": [],
   "source": [
    "def trigram_transform(texts):\n",
    "    display = False\n",
    "    texts = str(texts)\n",
    "    trigram_output = ''\n",
    "    #print(texts)\n",
    "\n",
    "    remove_trigram = ['calendar_day', 'court_notice_intend', 'minute_entry_proceeding_hold', 'court_reportertranscriber_abovecaptioned_matter',\n",
    "                      'redaction_calendar_day', 'rule_statement', 'obtain_pacer', 'may_obtain_pacer', 'reportertranscriber_abovecaptioned_matter',\n",
    "                      'redact_transcript_deadline', 'send_chamber', \"official_transcript_notice_give\", \"notice_intent_request\", \"proceed_hold\", \n",
    "                      \"fee_receipt_number\", \"civil_procedure\", \"pursuant_frcp\", \"official_transcript_conference\", \n",
    "                      \"purchase_reportertranscriber_deadline_release\", \"et_al\", \"mail_chamber\", \"transcript_restriction\", \"redaction_transcript\", \n",
    "                      \"transcript_view_public_terminal\", \"transcript_make_remotely\", \"associated_et_al\", \"electronically_available_public_without\", \n",
    "                      \"genesys_id\", \"release_transcript_restriction\", \"adar_bay\", \"redaction_request_due\", \"new_york\", \"official_transcript_conference\", \n",
    "                      \"transcript_make_remotely\", \"transcript_proceeding_conference_hold\", \"redaction_transcript\",\n",
    "                      'affidavit_jr._c.p.a', 'corporate_parent', 'certain_underwriter', 'federal_rule_civil_procedure', 'redaction_request', \n",
    "                      'official_transcript', 'rule_disclosure', 'rule_corporate_disclosure', 'place_vault', 'public_without_redaction_calendar', \n",
    "                      'purchase_deadline_release_transcript', 'transcript_proceeding_hold', 'transcript_remotely_electronically_available',\n",
    "                      'minute_entry_hold', 'discovery_hear_hold', 'jury_trial_hold', \"sign_judge\",'place_vault']\n",
    "\n",
    "    if texts == None:\n",
    "        return None\n",
    "    \n",
    "    unigram_review = []\n",
    "    for word in texts.split():\n",
    "        unigram_review.append(word)\n",
    "    if display:\n",
    "        print('Uni: ', unigram_review)\n",
    "    bigram_review = bigram_model[unigram_review]\n",
    "    if display:\n",
    "        print('Bi: ', bigram_review)\n",
    "    trigram_review = trigram_model[bigram_review]\n",
    "    if display:\n",
    "        print('Tri: ', trigram_review)\n",
    "    trigram_review = [phrase for phrase in trigram_review if phrase not in remove_trigram]\n",
    "    if display:\n",
    "        print('Tri removed: ', trigram_review)\n",
    "    trigram_output += ' '.join(trigram_review)\n",
    "    \n",
    "    return trigram_output"
   ]
  },
  {
   "cell_type": "code",
   "execution_count": 149,
   "metadata": {},
   "outputs": [
    {
     "name": "stderr",
     "output_type": "stream",
     "text": [
      "c:\\users\\inves\\appdata\\local\\programs\\python\\python35\\lib\\site-packages\\gensim\\models\\phrases.py:494: UserWarning: For a faster implementation, use the gensim.models.phrases.Phraser class\n",
      "  warnings.warn(\"For a faster implementation, use the gensim.models.phrases.Phraser class\")\n"
     ]
    }
   ],
   "source": [
    "docket_phrase3 = [trigram_transform(text) for text in docket_phrase2]"
   ]
  },
  {
   "cell_type": "code",
   "execution_count": 150,
   "metadata": {},
   "outputs": [
    {
     "name": "stdout",
     "output_type": "stream",
     "text": [
      "['', 'case assign judge magistrate judge please download review locate website attorneys responsible provide courtesy copy judge individual practice require enter date', '', '', '']\n",
      "['', 'case assign judge magistrate judge please_download_review_locate website_attorneys_responsible_provide courtesy_copy judge individual_practice_require enter date', '', '', '']\n"
     ]
    },
    {
     "data": {
      "text/plain": [
       "209"
      ]
     },
     "execution_count": 150,
     "metadata": {},
     "output_type": "execute_result"
    }
   ],
   "source": [
    "print(docket_phrase2[:5])\n",
    "print(docket_phrase3[:5])\n",
    "len(set(docket_phrase3))"
   ]
  },
  {
   "cell_type": "code",
   "execution_count": 151,
   "metadata": {},
   "outputs": [],
   "source": [
    "new_df['phrases'] = pd.Series(docket_phrase3)"
   ]
  },
  {
   "cell_type": "code",
   "execution_count": 152,
   "metadata": {},
   "outputs": [
    {
     "data": {
      "text/plain": [
       "Index(['Original Docket Text', 'Organization Portion', 'Name Portion',\n",
       "       'Identifying Org and Name', 'Stripped Org and Name', 'normalized',\n",
       "       'tokenize', 'nostop', 'DT Topics', 'Removed unnecessary POS & vocab DT',\n",
       "       'lemmed', 'phrases'],\n",
       "      dtype='object')"
      ]
     },
     "execution_count": 152,
     "metadata": {},
     "output_type": "execute_result"
    }
   ],
   "source": [
    "new_df.columns"
   ]
  },
  {
   "cell_type": "code",
   "execution_count": 153,
   "metadata": {},
   "outputs": [
    {
     "name": "stdout",
     "output_type": "stream",
     "text": [
      "orignal text: \n",
      "Case assigned to Judge Ann M Donnelly and Magistrate Judge Vera M. Scanlon. Please download and review the Individual Practices of the assigned Judges, located on our website. Attorneys are responsible for providing courtesy copies to judges where their Individual Practices require such. (Bowens, Priscilla) (Entered: 03/11/2016) \n",
      "\n",
      "org and name removed: \n",
      "Case assigned to Judge and Magistrate Judge . Please download and review the , located on our website . Attorneys are responsible for providing courtesy copies to judges where their Individual Practices require such . ( , ) ( Entered : 03/11/2016 ) \n",
      "\n",
      "normalized: \n",
      "case assigned to judge and magistrate judge please download and review the located on our website attorneys are responsible for providing courtesy copies to judges where their individual practices require such entered date  \n",
      "\n",
      "stopwords removed: \n",
      "case assigned judge magistrate judge please download review located website attorneys responsible providing courtesy copies judges individual practices require entered date \n",
      "\n",
      "after lemmetization: \n",
      "case assign judge magistrate judge please download review locate website attorneys responsible provide courtesy copy judge individual practice require enter date \n",
      "\n",
      "after phrase modeling: \n",
      "case assign judge magistrate judge please_download_review_locate website_attorneys_responsible_provide courtesy_copy judge individual_practice_require enter date \n",
      "\n"
     ]
    }
   ],
   "source": [
    "i = 1\n",
    "print('orignal text: ')\n",
    "print(new_df['Original Docket Text'].iloc[i], '\\n')\n",
    "print('org and name removed: ')\n",
    "print(new_df['Stripped Org and Name'].iloc[i], '\\n')\n",
    "print('normalized: ')\n",
    "print(new_df['normalized'].iloc[i], '\\n')\n",
    "print('stopwords removed: ')\n",
    "print(' '.join(new_df['nostop'].iloc[i]), '\\n')\n",
    "print('after lemmetization: ')\n",
    "print(new_df['lemmed'].iloc[i], '\\n')\n",
    "print('after phrase modeling: ')\n",
    "print(new_df['phrases'].iloc[i], '\\n')"
   ]
  },
  {
   "cell_type": "markdown",
   "metadata": {},
   "source": [
    "### 7a. Some stuff needs to be removed, per prior experience"
   ]
  },
  {
   "cell_type": "code",
   "execution_count": 154,
   "metadata": {},
   "outputs": [],
   "source": [
    "remove_pos = list(pd.read_excel('NLP_to_be_removed.xlsx', sheetname = 0, header = None)[0])\n",
    "remove_word = list(pd.read_excel('NLP_to_be_removed.xlsx', sheetname = 1, header = None)[0])\n",
    "remove_trigram = list(pd.read_excel('NLP_to_be_removed.xlsx', sheetname = 2, header = None)[0])"
   ]
  },
  {
   "cell_type": "code",
   "execution_count": 155,
   "metadata": {},
   "outputs": [],
   "source": [
    "def remove_unnecessary(text):\n",
    "    new_text = []\n",
    "    text = text.split(' ')\n",
    "    for word in text:\n",
    "        if word not in remove_word and word not in remove_trigram:\n",
    "            new_text.append(word)\n",
    "    return ' '.join(new_text)"
   ]
  },
  {
   "cell_type": "code",
   "execution_count": 156,
   "metadata": {},
   "outputs": [
    {
     "data": {
      "text/html": [
       "<div>\n",
       "<table border=\"1\" class=\"dataframe\">\n",
       "  <thead>\n",
       "    <tr style=\"text-align: right;\">\n",
       "      <th></th>\n",
       "      <th>Original Docket Text</th>\n",
       "      <th>Organization Portion</th>\n",
       "      <th>Name Portion</th>\n",
       "      <th>Identifying Org and Name</th>\n",
       "      <th>Stripped Org and Name</th>\n",
       "      <th>normalized</th>\n",
       "      <th>tokenize</th>\n",
       "      <th>nostop</th>\n",
       "      <th>DT Topics</th>\n",
       "      <th>Removed unnecessary POS &amp; vocab DT</th>\n",
       "      <th>lemmed</th>\n",
       "      <th>phrases</th>\n",
       "      <th>cleaned</th>\n",
       "    </tr>\n",
       "  </thead>\n",
       "  <tbody>\n",
       "    <tr>\n",
       "      <th>0</th>\n",
       "      <td>COMPLAINT against Cardiogenics Holdings, Inc. ...</td>\n",
       "      <td>Cardiogenics Holdings , Inc. LG Capital Funding</td>\n",
       "      <td>( Steinmetz Michael Bowens Priscilla</td>\n",
       "      <td>COMPLAINT against -ORG- -ORG- -ORG- -ORG- fili...</td>\n",
       "      <td>COMPLAINT against filing fee $ 400 , receipt n...</td>\n",
       "      <td>complaint against filing fee receipt number wa...</td>\n",
       "      <td>[complaint, against, filing, fee, receipt, num...</td>\n",
       "      <td>[complaint, filing, fee, receipt, number, disc...</td>\n",
       "      <td>Motions, Complaints, Service of Process</td>\n",
       "      <td></td>\n",
       "      <td></td>\n",
       "      <td></td>\n",
       "      <td></td>\n",
       "    </tr>\n",
       "    <tr>\n",
       "      <th>1</th>\n",
       "      <td>Case assigned to Judge Ann M Donnelly and Magi...</td>\n",
       "      <td>Individual Practices of the assigned Judges</td>\n",
       "      <td>Ann M Donnelly Vera M. Scanlon Bowens Priscilla</td>\n",
       "      <td>Case assigned to Judge -NAME- -NAME- -NAME- an...</td>\n",
       "      <td>Case assigned to Judge and Magistrate Judge . ...</td>\n",
       "      <td>case assigned to judge and magistrate judge pl...</td>\n",
       "      <td>[case, assigned, to, judge, and, magistrate, j...</td>\n",
       "      <td>[case, assigned, judge, magistrate, judge, ple...</td>\n",
       "      <td></td>\n",
       "      <td>[case, assigned, judge, magistrate, judge, ple...</td>\n",
       "      <td>case assign judge magistrate judge please down...</td>\n",
       "      <td>case assign judge magistrate judge please_down...</td>\n",
       "      <td>please_download_review_locate website_attorney...</td>\n",
       "    </tr>\n",
       "    <tr>\n",
       "      <th>2</th>\n",
       "      <td>Summons Issued as to Cardiogenics Holdings, In...</td>\n",
       "      <td>Cardiogenics Holdings</td>\n",
       "      <td>Bowens Priscilla</td>\n",
       "      <td>Summons Issued as to -ORG- -ORG- , Inc.. ( -NA...</td>\n",
       "      <td>Summons Issued as to , Inc.. ( , ) ( Entered :...</td>\n",
       "      <td>summons issued as to inc entered date</td>\n",
       "      <td>[summons, issued, as, to, inc, entered, date]</td>\n",
       "      <td>[summons, issued, inc, entered, date]</td>\n",
       "      <td>Service of Process</td>\n",
       "      <td></td>\n",
       "      <td></td>\n",
       "      <td></td>\n",
       "      <td></td>\n",
       "    </tr>\n",
       "    <tr>\n",
       "      <th>3</th>\n",
       "      <td>NOTICE - emailed attorney regarding missing se...</td>\n",
       "      <td></td>\n",
       "      <td>Bowens Priscilla</td>\n",
       "      <td>NOTICE - emailed attorney regarding missing se...</td>\n",
       "      <td>NOTICE - emailed attorney regarding missing se...</td>\n",
       "      <td>notice emailed attorney regarding missing seco...</td>\n",
       "      <td>[notice, emailed, attorney, regarding, missing...</td>\n",
       "      <td>[notice, emailed, attorney, regarding, missing...</td>\n",
       "      <td>Notices</td>\n",
       "      <td></td>\n",
       "      <td></td>\n",
       "      <td></td>\n",
       "      <td></td>\n",
       "    </tr>\n",
       "    <tr>\n",
       "      <th>4</th>\n",
       "      <td>In accordance with Rule 73 of the Federal Rule...</td>\n",
       "      <td></td>\n",
       "      <td>Bowens Priscilla</td>\n",
       "      <td>In accordance with Rule 73 of the Federal Rule...</td>\n",
       "      <td>In accordance with Rule 73 of the Federal Rule...</td>\n",
       "      <td>in accordance with rule of the federal rules o...</td>\n",
       "      <td>[in, accordance, with, rule, of, the, federal,...</td>\n",
       "      <td>[accordance, rule, federal, rules, civil, proc...</td>\n",
       "      <td>Notices, Motions, Judgment, Order</td>\n",
       "      <td></td>\n",
       "      <td></td>\n",
       "      <td></td>\n",
       "      <td></td>\n",
       "    </tr>\n",
       "  </tbody>\n",
       "</table>\n",
       "</div>"
      ],
      "text/plain": [
       "                                Original Docket Text  \\\n",
       "0  COMPLAINT against Cardiogenics Holdings, Inc. ...   \n",
       "1  Case assigned to Judge Ann M Donnelly and Magi...   \n",
       "2  Summons Issued as to Cardiogenics Holdings, In...   \n",
       "3  NOTICE - emailed attorney regarding missing se...   \n",
       "4  In accordance with Rule 73 of the Federal Rule...   \n",
       "\n",
       "                              Organization Portion  \\\n",
       "0  Cardiogenics Holdings , Inc. LG Capital Funding   \n",
       "1      Individual Practices of the assigned Judges   \n",
       "2                            Cardiogenics Holdings   \n",
       "3                                                    \n",
       "4                                                    \n",
       "\n",
       "                                      Name Portion  \\\n",
       "0             ( Steinmetz Michael Bowens Priscilla   \n",
       "1  Ann M Donnelly Vera M. Scanlon Bowens Priscilla   \n",
       "2                                 Bowens Priscilla   \n",
       "3                                 Bowens Priscilla   \n",
       "4                                 Bowens Priscilla   \n",
       "\n",
       "                            Identifying Org and Name  \\\n",
       "0  COMPLAINT against -ORG- -ORG- -ORG- -ORG- fili...   \n",
       "1  Case assigned to Judge -NAME- -NAME- -NAME- an...   \n",
       "2  Summons Issued as to -ORG- -ORG- , Inc.. ( -NA...   \n",
       "3  NOTICE - emailed attorney regarding missing se...   \n",
       "4  In accordance with Rule 73 of the Federal Rule...   \n",
       "\n",
       "                               Stripped Org and Name  \\\n",
       "0  COMPLAINT against filing fee $ 400 , receipt n...   \n",
       "1  Case assigned to Judge and Magistrate Judge . ...   \n",
       "2  Summons Issued as to , Inc.. ( , ) ( Entered :...   \n",
       "3  NOTICE - emailed attorney regarding missing se...   \n",
       "4  In accordance with Rule 73 of the Federal Rule...   \n",
       "\n",
       "                                          normalized  \\\n",
       "0  complaint against filing fee receipt number wa...   \n",
       "1  case assigned to judge and magistrate judge pl...   \n",
       "2             summons issued as to inc entered date    \n",
       "3  notice emailed attorney regarding missing seco...   \n",
       "4  in accordance with rule of the federal rules o...   \n",
       "\n",
       "                                            tokenize  \\\n",
       "0  [complaint, against, filing, fee, receipt, num...   \n",
       "1  [case, assigned, to, judge, and, magistrate, j...   \n",
       "2      [summons, issued, as, to, inc, entered, date]   \n",
       "3  [notice, emailed, attorney, regarding, missing...   \n",
       "4  [in, accordance, with, rule, of, the, federal,...   \n",
       "\n",
       "                                              nostop  \\\n",
       "0  [complaint, filing, fee, receipt, number, disc...   \n",
       "1  [case, assigned, judge, magistrate, judge, ple...   \n",
       "2              [summons, issued, inc, entered, date]   \n",
       "3  [notice, emailed, attorney, regarding, missing...   \n",
       "4  [accordance, rule, federal, rules, civil, proc...   \n",
       "\n",
       "                                 DT Topics  \\\n",
       "0  Motions, Complaints, Service of Process   \n",
       "1                                            \n",
       "2                       Service of Process   \n",
       "3                                  Notices   \n",
       "4        Notices, Motions, Judgment, Order   \n",
       "\n",
       "                  Removed unnecessary POS & vocab DT  \\\n",
       "0                                                      \n",
       "1  [case, assigned, judge, magistrate, judge, ple...   \n",
       "2                                                      \n",
       "3                                                      \n",
       "4                                                      \n",
       "\n",
       "                                              lemmed  \\\n",
       "0                                                      \n",
       "1  case assign judge magistrate judge please down...   \n",
       "2                                                      \n",
       "3                                                      \n",
       "4                                                      \n",
       "\n",
       "                                             phrases  \\\n",
       "0                                                      \n",
       "1  case assign judge magistrate judge please_down...   \n",
       "2                                                      \n",
       "3                                                      \n",
       "4                                                      \n",
       "\n",
       "                                             cleaned  \n",
       "0                                                     \n",
       "1  please_download_review_locate website_attorney...  \n",
       "2                                                     \n",
       "3                                                     \n",
       "4                                                     "
      ]
     },
     "execution_count": 156,
     "metadata": {},
     "output_type": "execute_result"
    }
   ],
   "source": [
    "new_df['cleaned'] = new_df['phrases'].apply(remove_unnecessary)\n",
    "new_df.head()"
   ]
  },
  {
   "cell_type": "code",
   "execution_count": 157,
   "metadata": {},
   "outputs": [],
   "source": [
    "filename = 'docket_texts/train/DT/basic_cleaned.pickle'"
   ]
  },
  {
   "cell_type": "code",
   "execution_count": 158,
   "metadata": {},
   "outputs": [],
   "source": [
    "#to save\n",
    "with open(filename, 'wb') as handle: \n",
    "    pickle.dump(new_df, handle, protocol = pickle.HIGHEST_PROTOCOL)"
   ]
  },
  {
   "cell_type": "code",
   "execution_count": 159,
   "metadata": {},
   "outputs": [],
   "source": [
    "new_df[['Original Docket Text', 'normalized', 'DT Topics', 'lemmed', 'phrases']].drop_duplicates().to_csv('Check if keywords working.csv', index = False)"
   ]
  },
  {
   "cell_type": "code",
   "execution_count": 161,
   "metadata": {},
   "outputs": [
    {
     "name": "stdout",
     "output_type": "stream",
     "text": [
      "shape before dedupe: (3244, 13)\n",
      "shape after dedupe: (3203, 5)\n"
     ]
    }
   ],
   "source": [
    "print('shape before dedupe: {}'.format(new_df.shape))\n",
    "print('shape after dedupe: {}'.format(new_df[['Original Docket Text', 'normalized', 'DT Topics', 'lemmed', 'phrases']].drop_duplicates().shape))"
   ]
  },
  {
   "cell_type": "markdown",
   "metadata": {},
   "source": [
    "### Another Way of thinking about this:\n",
    "We may need to package all these procedures into a function. As we may want to use pipeline to take care of all these things in the near future"
   ]
  },
  {
   "cell_type": "code",
   "execution_count": null,
   "metadata": {},
   "outputs": [],
   "source": []
  },
  {
   "cell_type": "markdown",
   "metadata": {},
   "source": [
    "### Troubleshooting"
   ]
  },
  {
   "cell_type": "code",
   "execution_count": 435,
   "metadata": {},
   "outputs": [
    {
     "data": {
      "text/plain": [
       "DT Topics    Other Answers, Complaints\n",
       "phrases                               \n",
       "Name: 1506, dtype: object"
      ]
     },
     "execution_count": 435,
     "metadata": {},
     "output_type": "execute_result"
    }
   ],
   "source": [
    "text = '''LETTER addressed to Judge Denise L. Cote from Andrew C. Shen dated February 7, 2014 re: adding the Goldman Sachs & Co. case to the Protective Order. Document filed by National Credit Union Administration Board. (Attachments: # 1 Stipulated Amended Protective Order)(Haas, Erik) (Entered: 02/07/2014)'''\n",
    "new_df[new_df['Original Docket Text'] == text][['DT Topics', 'phrases']].iloc[0]"
   ]
  },
  {
   "cell_type": "markdown",
   "metadata": {},
   "source": [
    "problem 1: Set/Reset Deadlines: Responses due by 12/27/2017. (anc) (Entered: 12/21/2017)\n",
    "problem 2: AFFIDAVIT of Teresa A. Gonsalves in Support re: 53 MOTION to Dismiss.. Document filed by John D. Barry, Beacon Hill Asset Management LLC, Thomas Daniels, John Irwin, Mark Miszkiewicz, Safe Harbor Asset Management LLC. (pa, ) (Entered: 09/20/2004)\n",
    "problem 3: ORDER; that case number 00cv7874 shall be consolidated into lead case number 00cv7872 for all purposes and all subsequent filings shall be filed under that lead case number ; the Clerk of the Court is directed to close case number 00cv7874 (SAS) . ( signed by Judge Shira A. Scheindlin ); Copies mailed. (pl) (Entered: 06/29/2001)"
   ]
  },
  {
   "cell_type": "code",
   "execution_count": 392,
   "metadata": {},
   "outputs": [
    {
     "data": {
      "text/plain": [
       "Original Docket Text                  RULE 7.1 CORPORATE DISCLOSURE STATEMENT. No Co...\n",
       "Organization Portion                                                                LLC\n",
       "Name Portion                                                             ( Kehrli Kevin\n",
       "Identifying Org and Name              RULE 7.1 CORPORATE DISCLOSURE STATEMENT . No C...\n",
       "Stripped Org and Name                 RULE 7.1 CORPORATE DISCLOSURE STATEMENT . No C...\n",
       "normalized                            rule corporate disclosure statement no corpora...\n",
       "tokenize                              [rule, corporate, disclosure, statement, no, c...\n",
       "nostop                                [rule, corporate, disclosure, statement, corpo...\n",
       "DT Topics                                                                              \n",
       "Removed unnecessary POS & vocab DT    [rule, corporate, disclosure, statement, corpo...\n",
       "lemmed                                rule corporate disclosure statement corporate ...\n",
       "phrases                               rule_corporate_disclosure_statement corporate_...\n",
       "cleaned                               rule_corporate_disclosure_statement corporate_...\n",
       "Name: 338, dtype: object"
      ]
     },
     "execution_count": 392,
     "metadata": {},
     "output_type": "execute_result"
    }
   ],
   "source": [
    "new_df[new_df['Original Docket Text'] == text]"
   ]
  },
  {
   "cell_type": "code",
   "execution_count": null,
   "metadata": {},
   "outputs": [],
   "source": [
    "data = pd.read_excel(r'E:\\WinUser\\Documents\\Python Code\\AI Paralegal\\docket_texts\\Train\\DT\\New Topics - Classification -5.27.2018.xlsx')\n",
    "data.drop('DT Topics', axis = 1, inplace = True)\n",
    "print(data.shape)\n",
    "print(data.drop_duplicates().shape)\n",
    "data.head()"
   ]
  },
  {
   "cell_type": "code",
   "execution_count": null,
   "metadata": {},
   "outputs": [],
   "source": [
    "#because there were some changes, I wanted to make sure that Chris' feedback stayed the same\n",
    "filename = 'docket_texts/train/DT/basic_cleaned.pickle'\n",
    "with open(filename, 'rb') as handle:\n",
    "    train_cleaned_df = pickle.load(handle)"
   ]
  },
  {
   "cell_type": "code",
   "execution_count": null,
   "metadata": {},
   "outputs": [],
   "source": [
    "print(train_cleaned_df[train_cleaned_df['cleaned'] != ''].shape)\n",
    "print(train_cleaned_df[train_cleaned_df['cleaned'] != ''][['Original Docket Text', 'phrases']].drop_duplicates().shape)\n",
    "train_cleaned_df[train_cleaned_df['cleaned'] != ''].head()"
   ]
  },
  {
   "cell_type": "code",
   "execution_count": null,
   "metadata": {},
   "outputs": [],
   "source": [
    "df = data[['Original Docket Text', 'New Topocs', 'Action [Y/N]', 'If Y']].merge(train_cleaned_df[['Original Docket Text', 'DT Topics', 'phrases']], on = 'Original Docket Text', how = 'outer')\n",
    "df.drop_duplicates().shape"
   ]
  },
  {
   "cell_type": "code",
   "execution_count": null,
   "metadata": {},
   "outputs": [],
   "source": [
    "df[(df['DT Topics'] != '') & (df['New Topocs'].isnull() == False)].drop_duplicates().to_csv('test.csv', index = False)"
   ]
  },
  {
   "cell_type": "code",
   "execution_count": null,
   "metadata": {},
   "outputs": [],
   "source": [
    "df[(df['phrases'] != '') & (df['New Topocs'].isnull() == True)].drop_duplicates().to_csv('test.csv', index = False)"
   ]
  },
  {
   "cell_type": "code",
   "execution_count": null,
   "metadata": {},
   "outputs": [],
   "source": []
  },
  {
   "cell_type": "code",
   "execution_count": null,
   "metadata": {},
   "outputs": [],
   "source": []
  },
  {
   "cell_type": "code",
   "execution_count": null,
   "metadata": {},
   "outputs": [],
   "source": []
  }
 ],
 "metadata": {
  "kernelspec": {
   "display_name": "Python 3",
   "language": "python",
   "name": "python3"
  },
  "language_info": {
   "codemirror_mode": {
    "name": "ipython",
    "version": 3
   },
   "file_extension": ".py",
   "mimetype": "text/x-python",
   "name": "python",
   "nbconvert_exporter": "python",
   "pygments_lexer": "ipython3",
   "version": "3.5.3"
  }
 },
 "nbformat": 4,
 "nbformat_minor": 2
}
