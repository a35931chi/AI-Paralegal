{
 "cells": [
  {
   "cell_type": "code",
   "execution_count": 1,
   "metadata": {},
   "outputs": [],
   "source": [
    "import pandas as pd\n",
    "import numpy as np\n",
    "import pickle\n",
    "from collections import Counter\n",
    "from ast import literal_eval\n",
    "from time import time\n",
    "\n",
    "import matplotlib.pyplot as plt\n",
    "import seaborn as sns\n",
    "%matplotlib inline\n",
    "import warnings\n",
    "warnings.filterwarnings('ignore')\n",
    "%config InlineBackend.figure_format = 'retina'"
   ]
  },
  {
   "cell_type": "code",
   "execution_count": 2,
   "metadata": {},
   "outputs": [],
   "source": [
    "import nltk\n",
    "from nltk.corpus import stopwords\n",
    "from nltk.stem import WordNetLemmatizer"
   ]
  },
  {
   "cell_type": "code",
   "execution_count": 3,
   "metadata": {},
   "outputs": [],
   "source": [
    "from wordcloud import WordCloud"
   ]
  },
  {
   "cell_type": "code",
   "execution_count": 65,
   "metadata": {},
   "outputs": [],
   "source": [
    "from sklearn.externals import joblib\n",
    "from sklearn.model_selection import train_test_split\n",
    "from sklearn.utils import resample, shuffle\n",
    "from sklearn.feature_extraction.text import CountVectorizer, TfidfVectorizer\n",
    "\n",
    "from sklearn.naive_bayes import MultinomialNB, GaussianNB, BernoulliNB\n",
    "from sklearn.linear_model import LogisticRegression\n",
    "from sklearn.neighbors import KNeighborsClassifier\n",
    "from sklearn.ensemble import RandomForestClassifier, AdaBoostClassifier\n",
    "from sklearn.svm import SVC\n",
    "\n",
    "from sklearn.base import clone\n",
    "from sklearn.model_selection import GridSearchCV\n",
    "\n",
    "from sklearn.metrics import accuracy_score, confusion_matrix, classification_report\n",
    "\n",
    "from xgboost import XGBClassifier\n",
    "\n",
    "from keras.preprocessing.text import Tokenizer\n",
    "from keras.models import Sequential\n",
    "from keras.layers import Dense, Activation, Dropout\n",
    "from keras.wrappers.scikit_learn import KerasClassifier\n",
    "from keras.models import model_from_json\n",
    "\n",
    "from keras import utils"
   ]
  },
  {
   "cell_type": "markdown",
   "metadata": {},
   "source": [
    "Import Traning Data"
   ]
  },
  {
   "cell_type": "code",
   "execution_count": 22,
   "metadata": {
    "scrolled": true
   },
   "outputs": [
    {
     "name": "stdout",
     "output_type": "stream",
     "text": [
      "(3203, 10)\n"
     ]
    },
    {
     "data": {
      "text/html": [
       "<div>\n",
       "<table border=\"1\" class=\"dataframe\">\n",
       "  <thead>\n",
       "    <tr style=\"text-align: right;\">\n",
       "      <th></th>\n",
       "      <th>Original Docket Text</th>\n",
       "      <th>normalized</th>\n",
       "      <th>lemmed</th>\n",
       "      <th>phrases</th>\n",
       "      <th>DT Topics</th>\n",
       "      <th>NoAction</th>\n",
       "      <th>Action</th>\n",
       "      <th>If Action</th>\n",
       "      <th>Action revised</th>\n",
       "      <th>If Action revised</th>\n",
       "    </tr>\n",
       "  </thead>\n",
       "  <tbody>\n",
       "    <tr>\n",
       "      <th>3183</th>\n",
       "      <td>SEALED DOCUMENT placed in vault.(nm) (Entered:...</td>\n",
       "      <td>sealed document placed in vault nm entered date</td>\n",
       "      <td>NaN</td>\n",
       "      <td>NaN</td>\n",
       "      <td>NoAction, Motions</td>\n",
       "      <td>1</td>\n",
       "      <td>N</td>\n",
       "      <td>NaN</td>\n",
       "      <td>N</td>\n",
       "      <td>NaN</td>\n",
       "    </tr>\n",
       "    <tr>\n",
       "      <th>3184</th>\n",
       "      <td>Please be advised that Judge Abrams Courtroom ...</td>\n",
       "      <td>please be advised that judge abrams courtroom ...</td>\n",
       "      <td>please advise judge abrams courtroom chamber m...</td>\n",
       "      <td>please advise judge abrams courtroom chamber m...</td>\n",
       "      <td>NaN</td>\n",
       "      <td>0</td>\n",
       "      <td>Y</td>\n",
       "      <td>Attorney; Assistant</td>\n",
       "      <td>Y</td>\n",
       "      <td>Attorney; Assistant</td>\n",
       "    </tr>\n",
       "    <tr>\n",
       "      <th>3185</th>\n",
       "      <td>MOTION for Andrew John Estes and Simona Gory t...</td>\n",
       "      <td>motion for and to withdraw as attorney for and...</td>\n",
       "      <td>NaN</td>\n",
       "      <td>NaN</td>\n",
       "      <td>Motions</td>\n",
       "      <td>0</td>\n",
       "      <td>Y</td>\n",
       "      <td>Attorney</td>\n",
       "      <td>Y</td>\n",
       "      <td>Attorney</td>\n",
       "    </tr>\n",
       "    <tr>\n",
       "      <th>3186</th>\n",
       "      <td>MEMO ENDORSEMENT granting 204 MOTION FOR LEAVE...</td>\n",
       "      <td>memo endorsement granting motion for leave to ...</td>\n",
       "      <td>NaN</td>\n",
       "      <td>NaN</td>\n",
       "      <td>Motions, Order</td>\n",
       "      <td>0</td>\n",
       "      <td>Y</td>\n",
       "      <td>Attorney</td>\n",
       "      <td>Y</td>\n",
       "      <td>Attorney</td>\n",
       "    </tr>\n",
       "    <tr>\n",
       "      <th>3187</th>\n",
       "      <td>SIXTH REVISED SCHEDULING ORDER: Expert Discove...</td>\n",
       "      <td>sixth revised scheduling order expert discover...</td>\n",
       "      <td>NaN</td>\n",
       "      <td>NaN</td>\n",
       "      <td>Other Answers, Discovery, Order, Motions</td>\n",
       "      <td>0</td>\n",
       "      <td>Y</td>\n",
       "      <td>Attorney; Assistant</td>\n",
       "      <td>Y</td>\n",
       "      <td>Attorney; Assistant</td>\n",
       "    </tr>\n",
       "    <tr>\n",
       "      <th>3188</th>\n",
       "      <td>ENDORSED LETTER addressed to Magistrate Judge ...</td>\n",
       "      <td>endorsed letter addressed to magistrate judge ...</td>\n",
       "      <td>NaN</td>\n",
       "      <td>NaN</td>\n",
       "      <td>Discovery, Notices, Service of Process, Letter...</td>\n",
       "      <td>0</td>\n",
       "      <td>Y</td>\n",
       "      <td>Attorney; Assistant</td>\n",
       "      <td>Y</td>\n",
       "      <td>Attorney; Assistant</td>\n",
       "    </tr>\n",
       "    <tr>\n",
       "      <th>3189</th>\n",
       "      <td>ENDORSED LETTER addressed to Magistrate Judge ...</td>\n",
       "      <td>endorsed letter addressed to magistrate judge ...</td>\n",
       "      <td>NaN</td>\n",
       "      <td>NaN</td>\n",
       "      <td>Discovery, Notices, Service of Process, Letter...</td>\n",
       "      <td>0</td>\n",
       "      <td>Y</td>\n",
       "      <td>Attorney; Assistant</td>\n",
       "      <td>Y</td>\n",
       "      <td>Attorney; Assistant</td>\n",
       "    </tr>\n",
       "    <tr>\n",
       "      <th>3190</th>\n",
       "      <td>MOTION for Randall T. Adams to Withdraw as Att...</td>\n",
       "      <td>motion for to withdraw as attorney for plainti...</td>\n",
       "      <td>NaN</td>\n",
       "      <td>NaN</td>\n",
       "      <td>Motions</td>\n",
       "      <td>0</td>\n",
       "      <td>Y</td>\n",
       "      <td>Attorney</td>\n",
       "      <td>Y</td>\n",
       "      <td>Attorney</td>\n",
       "    </tr>\n",
       "    <tr>\n",
       "      <th>3191</th>\n",
       "      <td>MEMO ENDORSEMENT ON MOTION FOR LEAVE TO WITHDR...</td>\n",
       "      <td>memo endorsement on motion for leave to withdr...</td>\n",
       "      <td>NaN</td>\n",
       "      <td>NaN</td>\n",
       "      <td>Motions</td>\n",
       "      <td>0</td>\n",
       "      <td>Y</td>\n",
       "      <td>Attorney</td>\n",
       "      <td>Y</td>\n",
       "      <td>Attorney</td>\n",
       "    </tr>\n",
       "    <tr>\n",
       "      <th>3192</th>\n",
       "      <td>MOTION for Joseph P. Fishman to Withdraw as At...</td>\n",
       "      <td>motion for to withdraw as attorney document fi...</td>\n",
       "      <td>NaN</td>\n",
       "      <td>NaN</td>\n",
       "      <td>Motions, Service of Process</td>\n",
       "      <td>0</td>\n",
       "      <td>Y</td>\n",
       "      <td>Attorney; Assistant</td>\n",
       "      <td>Y</td>\n",
       "      <td>Attorney; Assistant</td>\n",
       "    </tr>\n",
       "    <tr>\n",
       "      <th>3193</th>\n",
       "      <td>MEMO ENDORSED on MOTION FOR LEAVE TO WITHDRAW ...</td>\n",
       "      <td>memo endorsed on motion for leave to withdraw ...</td>\n",
       "      <td>NaN</td>\n",
       "      <td>NaN</td>\n",
       "      <td>Motions, Notices, Order</td>\n",
       "      <td>0</td>\n",
       "      <td>Y</td>\n",
       "      <td>Attorney</td>\n",
       "      <td>Y</td>\n",
       "      <td>Attorney</td>\n",
       "    </tr>\n",
       "    <tr>\n",
       "      <th>3194</th>\n",
       "      <td>ENDORSED LETTER addressed to Judge Ronnie Abra...</td>\n",
       "      <td>endorsed letter addressed to judge from dated ...</td>\n",
       "      <td>NaN</td>\n",
       "      <td>NaN</td>\n",
       "      <td>Service of Process, Notices, Motions, Letter a...</td>\n",
       "      <td>0</td>\n",
       "      <td>Y</td>\n",
       "      <td>Attorney</td>\n",
       "      <td>Y</td>\n",
       "      <td>Attorney</td>\n",
       "    </tr>\n",
       "    <tr>\n",
       "      <th>3195</th>\n",
       "      <td>Minute Entry for proceedings held before Magis...</td>\n",
       "      <td>minute entry for proceedings held before magis...</td>\n",
       "      <td>NaN</td>\n",
       "      <td>NaN</td>\n",
       "      <td>NoAction, Notices</td>\n",
       "      <td>1</td>\n",
       "      <td>N</td>\n",
       "      <td>NaN</td>\n",
       "      <td>N</td>\n",
       "      <td>NaN</td>\n",
       "    </tr>\n",
       "    <tr>\n",
       "      <th>3196</th>\n",
       "      <td>SEVENTH REVISED SCHEDULING ORDER: The parties'...</td>\n",
       "      <td>seventh revised scheduling order the parties p...</td>\n",
       "      <td>NaN</td>\n",
       "      <td>NaN</td>\n",
       "      <td>Motions, Discovery, Order, Letter and Response</td>\n",
       "      <td>0</td>\n",
       "      <td>Y</td>\n",
       "      <td>Attorney; Assistant</td>\n",
       "      <td>Y</td>\n",
       "      <td>Attorney; Assistant</td>\n",
       "    </tr>\n",
       "    <tr>\n",
       "      <th>3197</th>\n",
       "      <td>STIPULATION OF VOLUNTARY DISMISSAL It is hereb...</td>\n",
       "      <td>stipulation of voluntary dismissal it is hereb...</td>\n",
       "      <td>NaN</td>\n",
       "      <td>NaN</td>\n",
       "      <td>Notices, Motions</td>\n",
       "      <td>0</td>\n",
       "      <td>Y</td>\n",
       "      <td>Attorney; Assistant</td>\n",
       "      <td>Y</td>\n",
       "      <td>Attorney; Assistant</td>\n",
       "    </tr>\n",
       "    <tr>\n",
       "      <th>3198</th>\n",
       "      <td>STIPULATION OF DISMISSAL WITH PREJUDICE: that ...</td>\n",
       "      <td>stipulation of dismissal with prejudice that t...</td>\n",
       "      <td>NaN</td>\n",
       "      <td>NaN</td>\n",
       "      <td>Motions, Notices, Order</td>\n",
       "      <td>0</td>\n",
       "      <td>Y</td>\n",
       "      <td>Attorney</td>\n",
       "      <td>Y</td>\n",
       "      <td>Attorney</td>\n",
       "    </tr>\n",
       "    <tr>\n",
       "      <th>3199</th>\n",
       "      <td>Terminate Transcript Deadlines (tn) (Entered: ...</td>\n",
       "      <td>terminate transcript deadlines tn entered date</td>\n",
       "      <td>NaN</td>\n",
       "      <td>NaN</td>\n",
       "      <td>NoAction, Notices</td>\n",
       "      <td>1</td>\n",
       "      <td>N</td>\n",
       "      <td>NaN</td>\n",
       "      <td>N</td>\n",
       "      <td>NaN</td>\n",
       "    </tr>\n",
       "    <tr>\n",
       "      <th>3200</th>\n",
       "      <td>STIPULATION AND ORDER MODIFYING STIPULATED CON...</td>\n",
       "      <td>stipulation and order modifying stipulated con...</td>\n",
       "      <td>NaN</td>\n",
       "      <td>NaN</td>\n",
       "      <td>Notices, Order</td>\n",
       "      <td>0</td>\n",
       "      <td>Y</td>\n",
       "      <td>Attorney; Assistant</td>\n",
       "      <td>Y</td>\n",
       "      <td>Attorney; Assistant</td>\n",
       "    </tr>\n",
       "    <tr>\n",
       "      <th>3201</th>\n",
       "      <td>NOTICE TO ATTORNEY TO RETRIEVE SEALED MATERIAL...</td>\n",
       "      <td>notice to attorney to retrieve sealed material...</td>\n",
       "      <td>NaN</td>\n",
       "      <td>NaN</td>\n",
       "      <td>Notices, Motions</td>\n",
       "      <td>0</td>\n",
       "      <td>Y</td>\n",
       "      <td>Attorney; Assistant</td>\n",
       "      <td>Y</td>\n",
       "      <td>Attorney; Assistant</td>\n",
       "    </tr>\n",
       "    <tr>\n",
       "      <th>3202</th>\n",
       "      <td>SEALED MATERIALS RETRIEVED: Document(s) 95 wer...</td>\n",
       "      <td>sealed materials retrieved document s were ret...</td>\n",
       "      <td>NaN</td>\n",
       "      <td>NaN</td>\n",
       "      <td>Motions</td>\n",
       "      <td>0</td>\n",
       "      <td>Y</td>\n",
       "      <td>Attorney</td>\n",
       "      <td>Y</td>\n",
       "      <td>Attorney</td>\n",
       "    </tr>\n",
       "  </tbody>\n",
       "</table>\n",
       "</div>"
      ],
      "text/plain": [
       "                                   Original Docket Text  \\\n",
       "3183  SEALED DOCUMENT placed in vault.(nm) (Entered:...   \n",
       "3184  Please be advised that Judge Abrams Courtroom ...   \n",
       "3185  MOTION for Andrew John Estes and Simona Gory t...   \n",
       "3186  MEMO ENDORSEMENT granting 204 MOTION FOR LEAVE...   \n",
       "3187  SIXTH REVISED SCHEDULING ORDER: Expert Discove...   \n",
       "3188  ENDORSED LETTER addressed to Magistrate Judge ...   \n",
       "3189  ENDORSED LETTER addressed to Magistrate Judge ...   \n",
       "3190  MOTION for Randall T. Adams to Withdraw as Att...   \n",
       "3191  MEMO ENDORSEMENT ON MOTION FOR LEAVE TO WITHDR...   \n",
       "3192  MOTION for Joseph P. Fishman to Withdraw as At...   \n",
       "3193  MEMO ENDORSED on MOTION FOR LEAVE TO WITHDRAW ...   \n",
       "3194  ENDORSED LETTER addressed to Judge Ronnie Abra...   \n",
       "3195  Minute Entry for proceedings held before Magis...   \n",
       "3196  SEVENTH REVISED SCHEDULING ORDER: The parties'...   \n",
       "3197  STIPULATION OF VOLUNTARY DISMISSAL It is hereb...   \n",
       "3198  STIPULATION OF DISMISSAL WITH PREJUDICE: that ...   \n",
       "3199  Terminate Transcript Deadlines (tn) (Entered: ...   \n",
       "3200  STIPULATION AND ORDER MODIFYING STIPULATED CON...   \n",
       "3201  NOTICE TO ATTORNEY TO RETRIEVE SEALED MATERIAL...   \n",
       "3202  SEALED MATERIALS RETRIEVED: Document(s) 95 wer...   \n",
       "\n",
       "                                             normalized  \\\n",
       "3183   sealed document placed in vault nm entered date    \n",
       "3184  please be advised that judge abrams courtroom ...   \n",
       "3185  motion for and to withdraw as attorney for and...   \n",
       "3186  memo endorsement granting motion for leave to ...   \n",
       "3187  sixth revised scheduling order expert discover...   \n",
       "3188  endorsed letter addressed to magistrate judge ...   \n",
       "3189  endorsed letter addressed to magistrate judge ...   \n",
       "3190  motion for to withdraw as attorney for plainti...   \n",
       "3191  memo endorsement on motion for leave to withdr...   \n",
       "3192  motion for to withdraw as attorney document fi...   \n",
       "3193  memo endorsed on motion for leave to withdraw ...   \n",
       "3194  endorsed letter addressed to judge from dated ...   \n",
       "3195  minute entry for proceedings held before magis...   \n",
       "3196  seventh revised scheduling order the parties p...   \n",
       "3197  stipulation of voluntary dismissal it is hereb...   \n",
       "3198  stipulation of dismissal with prejudice that t...   \n",
       "3199    terminate transcript deadlines tn entered date    \n",
       "3200  stipulation and order modifying stipulated con...   \n",
       "3201  notice to attorney to retrieve sealed material...   \n",
       "3202  sealed materials retrieved document s were ret...   \n",
       "\n",
       "                                                 lemmed  \\\n",
       "3183                                                NaN   \n",
       "3184  please advise judge abrams courtroom chamber m...   \n",
       "3185                                                NaN   \n",
       "3186                                                NaN   \n",
       "3187                                                NaN   \n",
       "3188                                                NaN   \n",
       "3189                                                NaN   \n",
       "3190                                                NaN   \n",
       "3191                                                NaN   \n",
       "3192                                                NaN   \n",
       "3193                                                NaN   \n",
       "3194                                                NaN   \n",
       "3195                                                NaN   \n",
       "3196                                                NaN   \n",
       "3197                                                NaN   \n",
       "3198                                                NaN   \n",
       "3199                                                NaN   \n",
       "3200                                                NaN   \n",
       "3201                                                NaN   \n",
       "3202                                                NaN   \n",
       "\n",
       "                                                phrases  \\\n",
       "3183                                                NaN   \n",
       "3184  please advise judge abrams courtroom chamber m...   \n",
       "3185                                                NaN   \n",
       "3186                                                NaN   \n",
       "3187                                                NaN   \n",
       "3188                                                NaN   \n",
       "3189                                                NaN   \n",
       "3190                                                NaN   \n",
       "3191                                                NaN   \n",
       "3192                                                NaN   \n",
       "3193                                                NaN   \n",
       "3194                                                NaN   \n",
       "3195                                                NaN   \n",
       "3196                                                NaN   \n",
       "3197                                                NaN   \n",
       "3198                                                NaN   \n",
       "3199                                                NaN   \n",
       "3200                                                NaN   \n",
       "3201                                                NaN   \n",
       "3202                                                NaN   \n",
       "\n",
       "                                              DT Topics  NoAction Action  \\\n",
       "3183                                  NoAction, Motions         1      N   \n",
       "3184                                                NaN         0      Y   \n",
       "3185                                            Motions         0      Y   \n",
       "3186                                     Motions, Order         0      Y   \n",
       "3187           Other Answers, Discovery, Order, Motions         0      Y   \n",
       "3188  Discovery, Notices, Service of Process, Letter...         0      Y   \n",
       "3189  Discovery, Notices, Service of Process, Letter...         0      Y   \n",
       "3190                                            Motions         0      Y   \n",
       "3191                                            Motions         0      Y   \n",
       "3192                        Motions, Service of Process         0      Y   \n",
       "3193                            Motions, Notices, Order         0      Y   \n",
       "3194  Service of Process, Notices, Motions, Letter a...         0      Y   \n",
       "3195                                  NoAction, Notices         1      N   \n",
       "3196     Motions, Discovery, Order, Letter and Response         0      Y   \n",
       "3197                                   Notices, Motions         0      Y   \n",
       "3198                            Motions, Notices, Order         0      Y   \n",
       "3199                                  NoAction, Notices         1      N   \n",
       "3200                                     Notices, Order         0      Y   \n",
       "3201                                   Notices, Motions         0      Y   \n",
       "3202                                            Motions         0      Y   \n",
       "\n",
       "                If Action Action revised    If Action revised  \n",
       "3183                  NaN              N                  NaN  \n",
       "3184  Attorney; Assistant              Y  Attorney; Assistant  \n",
       "3185             Attorney              Y             Attorney  \n",
       "3186             Attorney              Y             Attorney  \n",
       "3187  Attorney; Assistant              Y  Attorney; Assistant  \n",
       "3188  Attorney; Assistant              Y  Attorney; Assistant  \n",
       "3189  Attorney; Assistant              Y  Attorney; Assistant  \n",
       "3190             Attorney              Y             Attorney  \n",
       "3191             Attorney              Y             Attorney  \n",
       "3192  Attorney; Assistant              Y  Attorney; Assistant  \n",
       "3193             Attorney              Y             Attorney  \n",
       "3194             Attorney              Y             Attorney  \n",
       "3195                  NaN              N                  NaN  \n",
       "3196  Attorney; Assistant              Y  Attorney; Assistant  \n",
       "3197  Attorney; Assistant              Y  Attorney; Assistant  \n",
       "3198             Attorney              Y             Attorney  \n",
       "3199                  NaN              N                  NaN  \n",
       "3200  Attorney; Assistant              Y  Attorney; Assistant  \n",
       "3201  Attorney; Assistant              Y  Attorney; Assistant  \n",
       "3202             Attorney              Y             Attorney  "
      ]
     },
     "execution_count": 22,
     "metadata": {},
     "output_type": "execute_result"
    }
   ],
   "source": [
    "train_filename = r'E:\\WinUser\\Documents\\Python Code\\AI Paralegal\\docket_texts\\Train\\DT\\train_tempfile.xlsx'\n",
    "data = pd.read_excel(train_filename)\n",
    "\n",
    "print(data.shape)\n",
    "data.tail(20)"
   ]
  },
  {
   "cell_type": "markdown",
   "metadata": {},
   "source": [
    "Examine the Data"
   ]
  },
  {
   "cell_type": "code",
   "execution_count": 9,
   "metadata": {},
   "outputs": [
    {
     "data": {
      "text/plain": [
       "385"
      ]
     },
     "execution_count": 9,
     "metadata": {},
     "output_type": "execute_result"
    }
   ],
   "source": [
    "data.groupby('DT Topics')['DT Topics'].count().index.nunique()"
   ]
  },
  {
   "cell_type": "code",
   "execution_count": 11,
   "metadata": {},
   "outputs": [
    {
     "data": {
      "text/plain": [
       "0"
      ]
     },
     "execution_count": 11,
     "metadata": {},
     "output_type": "execute_result"
    }
   ],
   "source": [
    "sum(data.duplicated())"
   ]
  },
  {
   "cell_type": "markdown",
   "metadata": {},
   "source": [
    "Get Data without DT Topics. This is our model train dataset."
   ]
  },
  {
   "cell_type": "code",
   "execution_count": 31,
   "metadata": {},
   "outputs": [],
   "source": [
    "train_data = data[data['DT Topics'].isnull()].copy()"
   ]
  },
  {
   "cell_type": "code",
   "execution_count": 33,
   "metadata": {},
   "outputs": [
    {
     "name": "stdout",
     "output_type": "stream",
     "text": [
      "(156, 10)\n"
     ]
    },
    {
     "data": {
      "text/html": [
       "<div>\n",
       "<table border=\"1\" class=\"dataframe\">\n",
       "  <thead>\n",
       "    <tr style=\"text-align: right;\">\n",
       "      <th></th>\n",
       "      <th>Original Docket Text</th>\n",
       "      <th>normalized</th>\n",
       "      <th>lemmed</th>\n",
       "      <th>phrases</th>\n",
       "      <th>DT Topics</th>\n",
       "      <th>NoAction</th>\n",
       "      <th>Action</th>\n",
       "      <th>If Action</th>\n",
       "      <th>Action revised</th>\n",
       "      <th>If Action revised</th>\n",
       "    </tr>\n",
       "  </thead>\n",
       "  <tbody>\n",
       "    <tr>\n",
       "      <th>77</th>\n",
       "      <td>STATUS REPORT by LG Capital Funding, LLC (Kehr...</td>\n",
       "      <td>status report by llc kehrli entered date</td>\n",
       "      <td>status report llc kehrli enter date</td>\n",
       "      <td>status_report llc_kehrli enter date</td>\n",
       "      <td>NaN</td>\n",
       "      <td>0</td>\n",
       "      <td>Y</td>\n",
       "      <td>Attorney; Assistant</td>\n",
       "      <td>Y</td>\n",
       "      <td>Attorney; Assistant</td>\n",
       "    </tr>\n",
       "    <tr>\n",
       "      <th>150</th>\n",
       "      <td>Corporate Disclosure Statement by 5Barz Intern...</td>\n",
       "      <td>corporate disclosure statement by entered date</td>\n",
       "      <td>corporate disclosure statement enter date</td>\n",
       "      <td>corporate_disclosure statement enter date</td>\n",
       "      <td>NaN</td>\n",
       "      <td>0</td>\n",
       "      <td>Y</td>\n",
       "      <td>Assistant</td>\n",
       "      <td>Y</td>\n",
       "      <td>Assistant</td>\n",
       "    </tr>\n",
       "    <tr>\n",
       "      <th>173</th>\n",
       "      <td>STATUS REPORT and PROPOSED BRIEFING SCHEDULE b...</td>\n",
       "      <td>status report and proposed briefing schedule b...</td>\n",
       "      <td>status report propose brief schedule llc kehrl...</td>\n",
       "      <td>status_report propose brief schedule llc_kehrl...</td>\n",
       "      <td>NaN</td>\n",
       "      <td>0</td>\n",
       "      <td>Y</td>\n",
       "      <td>Attorney; Assistant</td>\n",
       "      <td>Y</td>\n",
       "      <td>Attorney; Assistant</td>\n",
       "    </tr>\n",
       "    <tr>\n",
       "      <th>194</th>\n",
       "      <td>STATUS REPORT by LG Capital Funding, LLC (Kehr...</td>\n",
       "      <td>status report by llc kehrli entered date</td>\n",
       "      <td>status report llc kehrli enter date</td>\n",
       "      <td>status_report llc_kehrli enter date</td>\n",
       "      <td>NaN</td>\n",
       "      <td>0</td>\n",
       "      <td>Y</td>\n",
       "      <td>Attorney; Assistant</td>\n",
       "      <td>Y</td>\n",
       "      <td>Attorney; Assistant</td>\n",
       "    </tr>\n",
       "    <tr>\n",
       "      <th>234</th>\n",
       "      <td>Proposed Findings of Fact by LG Capital Fundin...</td>\n",
       "      <td>proposed findings of fact by llc kehrli entere...</td>\n",
       "      <td>propose find fact llc kehrli enter date</td>\n",
       "      <td>propose_find fact llc_kehrli enter date</td>\n",
       "      <td>NaN</td>\n",
       "      <td>0</td>\n",
       "      <td>Y</td>\n",
       "      <td>Attorney; Assistant</td>\n",
       "      <td>Y</td>\n",
       "      <td>Attorney; Assistant</td>\n",
       "    </tr>\n",
       "  </tbody>\n",
       "</table>\n",
       "</div>"
      ],
      "text/plain": [
       "                                  Original Docket Text  \\\n",
       "77   STATUS REPORT by LG Capital Funding, LLC (Kehr...   \n",
       "150  Corporate Disclosure Statement by 5Barz Intern...   \n",
       "173  STATUS REPORT and PROPOSED BRIEFING SCHEDULE b...   \n",
       "194  STATUS REPORT by LG Capital Funding, LLC (Kehr...   \n",
       "234  Proposed Findings of Fact by LG Capital Fundin...   \n",
       "\n",
       "                                            normalized  \\\n",
       "77           status report by llc kehrli entered date    \n",
       "150    corporate disclosure statement by entered date    \n",
       "173  status report and proposed briefing schedule b...   \n",
       "194          status report by llc kehrli entered date    \n",
       "234  proposed findings of fact by llc kehrli entere...   \n",
       "\n",
       "                                                lemmed  \\\n",
       "77                 status report llc kehrli enter date   \n",
       "150          corporate disclosure statement enter date   \n",
       "173  status report propose brief schedule llc kehrl...   \n",
       "194                status report llc kehrli enter date   \n",
       "234            propose find fact llc kehrli enter date   \n",
       "\n",
       "                                               phrases DT Topics  NoAction  \\\n",
       "77                 status_report llc_kehrli enter date       NaN         0   \n",
       "150          corporate_disclosure statement enter date       NaN         0   \n",
       "173  status_report propose brief schedule llc_kehrl...       NaN         0   \n",
       "194                status_report llc_kehrli enter date       NaN         0   \n",
       "234            propose_find fact llc_kehrli enter date       NaN         0   \n",
       "\n",
       "    Action            If Action Action revised    If Action revised  \n",
       "77       Y  Attorney; Assistant              Y  Attorney; Assistant  \n",
       "150      Y            Assistant              Y            Assistant  \n",
       "173      Y  Attorney; Assistant              Y  Attorney; Assistant  \n",
       "194      Y  Attorney; Assistant              Y  Attorney; Assistant  \n",
       "234      Y  Attorney; Assistant              Y  Attorney; Assistant  "
      ]
     },
     "execution_count": 33,
     "metadata": {},
     "output_type": "execute_result"
    }
   ],
   "source": [
    "print(train_data.shape)\n",
    "train_data.head()"
   ]
  },
  {
   "cell_type": "code",
   "execution_count": 35,
   "metadata": {},
   "outputs": [],
   "source": [
    "filename = 'docket_texts/train/DT/basic_cleaned_v2.pickle'"
   ]
  },
  {
   "cell_type": "code",
   "execution_count": 36,
   "metadata": {},
   "outputs": [],
   "source": [
    "#to save\n",
    "with open(filename, 'wb') as handle: \n",
    "    pickle.dump(train_data, handle, protocol = pickle.HIGHEST_PROTOCOL)"
   ]
  },
  {
   "cell_type": "code",
   "execution_count": 37,
   "metadata": {},
   "outputs": [],
   "source": [
    "#to load\n",
    "with open(filename, 'rb') as handle:\n",
    "    train_cleaned_df = pickle.load(handle)"
   ]
  },
  {
   "cell_type": "code",
   "execution_count": 38,
   "metadata": {},
   "outputs": [
    {
     "data": {
      "text/html": [
       "<div>\n",
       "<table border=\"1\" class=\"dataframe\">\n",
       "  <thead>\n",
       "    <tr style=\"text-align: right;\">\n",
       "      <th></th>\n",
       "      <th>Original Docket Text</th>\n",
       "      <th>normalized</th>\n",
       "      <th>lemmed</th>\n",
       "      <th>phrases</th>\n",
       "      <th>DT Topics</th>\n",
       "      <th>NoAction</th>\n",
       "      <th>Action</th>\n",
       "      <th>If Action</th>\n",
       "      <th>Action revised</th>\n",
       "      <th>If Action revised</th>\n",
       "    </tr>\n",
       "  </thead>\n",
       "  <tbody>\n",
       "    <tr>\n",
       "      <th>77</th>\n",
       "      <td>STATUS REPORT by LG Capital Funding, LLC (Kehr...</td>\n",
       "      <td>status report by llc kehrli entered date</td>\n",
       "      <td>status report llc kehrli enter date</td>\n",
       "      <td>status_report llc_kehrli enter date</td>\n",
       "      <td>NaN</td>\n",
       "      <td>0</td>\n",
       "      <td>Y</td>\n",
       "      <td>Attorney; Assistant</td>\n",
       "      <td>Y</td>\n",
       "      <td>Attorney; Assistant</td>\n",
       "    </tr>\n",
       "    <tr>\n",
       "      <th>150</th>\n",
       "      <td>Corporate Disclosure Statement by 5Barz Intern...</td>\n",
       "      <td>corporate disclosure statement by entered date</td>\n",
       "      <td>corporate disclosure statement enter date</td>\n",
       "      <td>corporate_disclosure statement enter date</td>\n",
       "      <td>NaN</td>\n",
       "      <td>0</td>\n",
       "      <td>Y</td>\n",
       "      <td>Assistant</td>\n",
       "      <td>Y</td>\n",
       "      <td>Assistant</td>\n",
       "    </tr>\n",
       "    <tr>\n",
       "      <th>173</th>\n",
       "      <td>STATUS REPORT and PROPOSED BRIEFING SCHEDULE b...</td>\n",
       "      <td>status report and proposed briefing schedule b...</td>\n",
       "      <td>status report propose brief schedule llc kehrl...</td>\n",
       "      <td>status_report propose brief schedule llc_kehrl...</td>\n",
       "      <td>NaN</td>\n",
       "      <td>0</td>\n",
       "      <td>Y</td>\n",
       "      <td>Attorney; Assistant</td>\n",
       "      <td>Y</td>\n",
       "      <td>Attorney; Assistant</td>\n",
       "    </tr>\n",
       "    <tr>\n",
       "      <th>194</th>\n",
       "      <td>STATUS REPORT by LG Capital Funding, LLC (Kehr...</td>\n",
       "      <td>status report by llc kehrli entered date</td>\n",
       "      <td>status report llc kehrli enter date</td>\n",
       "      <td>status_report llc_kehrli enter date</td>\n",
       "      <td>NaN</td>\n",
       "      <td>0</td>\n",
       "      <td>Y</td>\n",
       "      <td>Attorney; Assistant</td>\n",
       "      <td>Y</td>\n",
       "      <td>Attorney; Assistant</td>\n",
       "    </tr>\n",
       "    <tr>\n",
       "      <th>234</th>\n",
       "      <td>Proposed Findings of Fact by LG Capital Fundin...</td>\n",
       "      <td>proposed findings of fact by llc kehrli entere...</td>\n",
       "      <td>propose find fact llc kehrli enter date</td>\n",
       "      <td>propose_find fact llc_kehrli enter date</td>\n",
       "      <td>NaN</td>\n",
       "      <td>0</td>\n",
       "      <td>Y</td>\n",
       "      <td>Attorney; Assistant</td>\n",
       "      <td>Y</td>\n",
       "      <td>Attorney; Assistant</td>\n",
       "    </tr>\n",
       "  </tbody>\n",
       "</table>\n",
       "</div>"
      ],
      "text/plain": [
       "                                  Original Docket Text  \\\n",
       "77   STATUS REPORT by LG Capital Funding, LLC (Kehr...   \n",
       "150  Corporate Disclosure Statement by 5Barz Intern...   \n",
       "173  STATUS REPORT and PROPOSED BRIEFING SCHEDULE b...   \n",
       "194  STATUS REPORT by LG Capital Funding, LLC (Kehr...   \n",
       "234  Proposed Findings of Fact by LG Capital Fundin...   \n",
       "\n",
       "                                            normalized  \\\n",
       "77           status report by llc kehrli entered date    \n",
       "150    corporate disclosure statement by entered date    \n",
       "173  status report and proposed briefing schedule b...   \n",
       "194          status report by llc kehrli entered date    \n",
       "234  proposed findings of fact by llc kehrli entere...   \n",
       "\n",
       "                                                lemmed  \\\n",
       "77                 status report llc kehrli enter date   \n",
       "150          corporate disclosure statement enter date   \n",
       "173  status report propose brief schedule llc kehrl...   \n",
       "194                status report llc kehrli enter date   \n",
       "234            propose find fact llc kehrli enter date   \n",
       "\n",
       "                                               phrases DT Topics  NoAction  \\\n",
       "77                 status_report llc_kehrli enter date       NaN         0   \n",
       "150          corporate_disclosure statement enter date       NaN         0   \n",
       "173  status_report propose brief schedule llc_kehrl...       NaN         0   \n",
       "194                status_report llc_kehrli enter date       NaN         0   \n",
       "234            propose_find fact llc_kehrli enter date       NaN         0   \n",
       "\n",
       "    Action            If Action Action revised    If Action revised  \n",
       "77       Y  Attorney; Assistant              Y  Attorney; Assistant  \n",
       "150      Y            Assistant              Y            Assistant  \n",
       "173      Y  Attorney; Assistant              Y  Attorney; Assistant  \n",
       "194      Y  Attorney; Assistant              Y  Attorney; Assistant  \n",
       "234      Y  Attorney; Assistant              Y  Attorney; Assistant  "
      ]
     },
     "execution_count": 38,
     "metadata": {},
     "output_type": "execute_result"
    }
   ],
   "source": [
    "train_cleaned_df.head()"
   ]
  },
  {
   "cell_type": "code",
   "execution_count": 61,
   "metadata": {},
   "outputs": [
    {
     "data": {
      "text/plain": [
       "Y    142\n",
       "N     14\n",
       "Name: Action revised, dtype: int64"
      ]
     },
     "execution_count": 61,
     "metadata": {},
     "output_type": "execute_result"
    }
   ],
   "source": [
    "train_cleaned_df['Action revised'].value_counts()\n",
    "#here we have a problem with imbalanced classes. We need to balance these out before going through the modeling pipeline"
   ]
  },
  {
   "cell_type": "markdown",
   "metadata": {},
   "source": [
    "Let's waste some time and stare at some wordcloud..."
   ]
  },
  {
   "cell_type": "code",
   "execution_count": 39,
   "metadata": {},
   "outputs": [],
   "source": [
    "action = train_cleaned_df[train_cleaned_df['Action revised'] == 'Y']['phrases']\n",
    "noaction = train_cleaned_df[train_cleaned_df['Action revised'] == 'N']['phrases']"
   ]
  },
  {
   "cell_type": "code",
   "execution_count": 45,
   "metadata": {},
   "outputs": [
    {
     "name": "stdout",
     "output_type": "stream",
     "text": [
      "Wall time: 125 ms\n"
     ]
    }
   ],
   "source": [
    "%%time\n",
    "action_words = ''\n",
    "noaction_words = ''\n",
    "\n",
    "for val in action:\n",
    "    text = val.lower()\n",
    "    tokens = nltk.word_tokenize(text)\n",
    "    for words in tokens:\n",
    "        action_words = action_words + words + ' '\n",
    "        \n",
    "for val in noaction:\n",
    "    text = val.lower()\n",
    "    tokens = nltk.word_tokenize(text)\n",
    "    for words in tokens:\n",
    "        noaction_words = noaction_words + words + ' '\n"
   ]
  },
  {
   "cell_type": "code",
   "execution_count": 46,
   "metadata": {},
   "outputs": [
    {
     "data": {
      "text/plain": [
       "[('date', 160),\n",
       " ('enter', 145),\n",
       " ('file', 109),\n",
       " ('document', 100),\n",
       " ('statement', 85),\n",
       " ('rule', 75),\n",
       " ('inc', 24),\n",
       " ('disclosure', 23),\n",
       " ('corporate_disclosure', 19),\n",
       " ('case', 15)]"
      ]
     },
     "execution_count": 46,
     "metadata": {},
     "output_type": "execute_result"
    }
   ],
   "source": [
    "Counter(action_words.split()).most_common(10) \n",
    "#these are kind of wasted words that weren't cleaned out"
   ]
  },
  {
   "cell_type": "code",
   "execution_count": 47,
   "metadata": {},
   "outputs": [
    {
     "data": {
      "text/plain": [
       "[('date', 14),\n",
       " ('enter', 14),\n",
       " ('case', 8),\n",
       " ('civil_cover_sheet', 7),\n",
       " ('file', 7),\n",
       " ('relate', 4),\n",
       " ('consolidate', 4),\n",
       " ('possibly', 4),\n",
       " ('judge', 4),\n",
       " ('refer', 4)]"
      ]
     },
     "execution_count": 47,
     "metadata": {},
     "output_type": "execute_result"
    }
   ],
   "source": [
    "Counter(noaction_words.split()).most_common(10) "
   ]
  },
  {
   "cell_type": "code",
   "execution_count": 48,
   "metadata": {},
   "outputs": [],
   "source": [
    "# Generate a word cloud image\n",
    "action_wordcloud = WordCloud(width = 600, height = 400).generate(action_words)\n",
    "noaction_wordcloud = WordCloud(width = 600, height = 400).generate(noaction_words)"
   ]
  },
  {
   "cell_type": "code",
   "execution_count": 49,
   "metadata": {},
   "outputs": [
    {
     "data": {
      "image/png": "[encoded data removed]",
      "text/plain": [
       "<matplotlib.figure.Figure at 0x1fc088704e0>"
      ]
     },
     "metadata": {
      "image/png": {
       "height": 492,
       "width": 725
      }
     },
     "output_type": "display_data"
    }
   ],
   "source": [
    "#Action Word cloud\n",
    "plt.figure(figsize = (10, 8), facecolor = 'k')\n",
    "plt.imshow(action_wordcloud)\n",
    "plt.axis('off')\n",
    "plt.tight_layout(pad = 0)\n",
    "plt.show()"
   ]
  },
  {
   "cell_type": "code",
   "execution_count": 50,
   "metadata": {},
   "outputs": [
    {
     "data": {
      "image/png": "[encoded data removed]",
      "text/plain": [
       "<matplotlib.figure.Figure at 0x1fc07d7d2b0>"
      ]
     },
     "metadata": {
      "image/png": {
       "height": 492,
       "width": 725
      }
     },
     "output_type": "display_data"
    }
   ],
   "source": [
    "#No-Action Spam Word cloud\n",
    "plt.figure(figsize = (10, 8), facecolor = 'k')\n",
    "plt.imshow(noaction_wordcloud)\n",
    "plt.axis('off')\n",
    "plt.tight_layout(pad = 0)\n",
    "plt.show()"
   ]
  },
  {
   "cell_type": "markdown",
   "metadata": {},
   "source": [
    "We need to balance the dataset first, then shuffle"
   ]
  },
  {
   "cell_type": "code",
   "execution_count": 51,
   "metadata": {},
   "outputs": [],
   "source": [
    "train_cleaned_df['label'] = train_cleaned_df['Action revised'].map({'Y': 1, 'N': 0})"
   ]
  },
  {
   "cell_type": "code",
   "execution_count": 63,
   "metadata": {},
   "outputs": [
    {
     "name": "stdout",
     "output_type": "stream",
     "text": [
      "10\n",
      "(142, 11)\n"
     ]
    },
    {
     "data": {
      "text/html": [
       "<div>\n",
       "<table border=\"1\" class=\"dataframe\">\n",
       "  <thead>\n",
       "    <tr style=\"text-align: right;\">\n",
       "      <th></th>\n",
       "      <th>Original Docket Text</th>\n",
       "      <th>normalized</th>\n",
       "      <th>lemmed</th>\n",
       "      <th>phrases</th>\n",
       "      <th>DT Topics</th>\n",
       "      <th>NoAction</th>\n",
       "      <th>Action</th>\n",
       "      <th>If Action</th>\n",
       "      <th>Action revised</th>\n",
       "      <th>If Action revised</th>\n",
       "      <th>label</th>\n",
       "    </tr>\n",
       "  </thead>\n",
       "  <tbody>\n",
       "    <tr>\n",
       "      <th>2841</th>\n",
       "      <td>Consolidated Lead Case. (pl) (Entered: 06/29/2...</td>\n",
       "      <td>consolidated lead case pl entered date</td>\n",
       "      <td>consolidate lead case pl enter date</td>\n",
       "      <td>consolidate lead case pl enter date</td>\n",
       "      <td>NaN</td>\n",
       "      <td>0</td>\n",
       "      <td>N</td>\n",
       "      <td>NaN</td>\n",
       "      <td>N</td>\n",
       "      <td>NaN</td>\n",
       "      <td>0</td>\n",
       "    </tr>\n",
       "    <tr>\n",
       "      <th>465</th>\n",
       "      <td>CASE REFERRED TO Judge Lewis A. Kaplan as poss...</td>\n",
       "      <td>case referred to judge as possibly related to ...</td>\n",
       "      <td>case refer judge possibly relate cv laq enter ...</td>\n",
       "      <td>case refer judge possibly relate cv laq enter ...</td>\n",
       "      <td>NaN</td>\n",
       "      <td>0</td>\n",
       "      <td>N</td>\n",
       "      <td>NaN</td>\n",
       "      <td>N</td>\n",
       "      <td>NaN</td>\n",
       "      <td>0</td>\n",
       "    </tr>\n",
       "    <tr>\n",
       "      <th>2347</th>\n",
       "      <td>CIVIL COVER SHEET filed. (Sava, Matthew) (Ente...</td>\n",
       "      <td>civil cover sheet filed sava entered date</td>\n",
       "      <td>civil cover sheet file sava enter date</td>\n",
       "      <td>civil_cover_sheet file sava enter date</td>\n",
       "      <td>NaN</td>\n",
       "      <td>0</td>\n",
       "      <td>N</td>\n",
       "      <td>NaN</td>\n",
       "      <td>N</td>\n",
       "      <td>NaN</td>\n",
       "      <td>0</td>\n",
       "    </tr>\n",
       "    <tr>\n",
       "      <th>465</th>\n",
       "      <td>CASE REFERRED TO Judge Lewis A. Kaplan as poss...</td>\n",
       "      <td>case referred to judge as possibly related to ...</td>\n",
       "      <td>case refer judge possibly relate cv laq enter ...</td>\n",
       "      <td>case refer judge possibly relate cv laq enter ...</td>\n",
       "      <td>NaN</td>\n",
       "      <td>0</td>\n",
       "      <td>N</td>\n",
       "      <td>NaN</td>\n",
       "      <td>N</td>\n",
       "      <td>NaN</td>\n",
       "      <td>0</td>\n",
       "    </tr>\n",
       "    <tr>\n",
       "      <th>973</th>\n",
       "      <td>CIVIL COVER SHEET filed. (Scileppi, Laura) (En...</td>\n",
       "      <td>civil cover sheet filed scileppi entered date</td>\n",
       "      <td>civil cover sheet file scileppi enter date</td>\n",
       "      <td>civil_cover_sheet file scileppi enter date</td>\n",
       "      <td>NaN</td>\n",
       "      <td>0</td>\n",
       "      <td>N</td>\n",
       "      <td>NaN</td>\n",
       "      <td>N</td>\n",
       "      <td>NaN</td>\n",
       "      <td>0</td>\n",
       "    </tr>\n",
       "  </tbody>\n",
       "</table>\n",
       "</div>"
      ],
      "text/plain": [
       "                                   Original Docket Text  \\\n",
       "2841  Consolidated Lead Case. (pl) (Entered: 06/29/2...   \n",
       "465   CASE REFERRED TO Judge Lewis A. Kaplan as poss...   \n",
       "2347  CIVIL COVER SHEET filed. (Sava, Matthew) (Ente...   \n",
       "465   CASE REFERRED TO Judge Lewis A. Kaplan as poss...   \n",
       "973   CIVIL COVER SHEET filed. (Scileppi, Laura) (En...   \n",
       "\n",
       "                                             normalized  \\\n",
       "2841            consolidated lead case pl entered date    \n",
       "465   case referred to judge as possibly related to ...   \n",
       "2347         civil cover sheet filed sava entered date    \n",
       "465   case referred to judge as possibly related to ...   \n",
       "973      civil cover sheet filed scileppi entered date    \n",
       "\n",
       "                                                 lemmed  \\\n",
       "2841                consolidate lead case pl enter date   \n",
       "465   case refer judge possibly relate cv laq enter ...   \n",
       "2347             civil cover sheet file sava enter date   \n",
       "465   case refer judge possibly relate cv laq enter ...   \n",
       "973          civil cover sheet file scileppi enter date   \n",
       "\n",
       "                                                phrases DT Topics  NoAction  \\\n",
       "2841                consolidate lead case pl enter date       NaN         0   \n",
       "465   case refer judge possibly relate cv laq enter ...       NaN         0   \n",
       "2347             civil_cover_sheet file sava enter date       NaN         0   \n",
       "465   case refer judge possibly relate cv laq enter ...       NaN         0   \n",
       "973          civil_cover_sheet file scileppi enter date       NaN         0   \n",
       "\n",
       "     Action If Action Action revised If Action revised  label  \n",
       "2841      N       NaN              N               NaN      0  \n",
       "465       N       NaN              N               NaN      0  \n",
       "2347      N       NaN              N               NaN      0  \n",
       "465       N       NaN              N               NaN      0  \n",
       "973       N       NaN              N               NaN      0  "
      ]
     },
     "execution_count": 63,
     "metadata": {},
     "output_type": "execute_result"
    }
   ],
   "source": [
    "#since my dataset is tiny, i've decided to upsample the minority class\n",
    "action = train_cleaned_df[train_cleaned_df['label'] == 1]\n",
    "noaction = train_cleaned_df[train_cleaned_df['label'] == 0]\n",
    "n = round(action.shape[0] / noaction.shape[0]) #this is about 10 on 2018/9/28\n",
    "print(n)\n",
    "\n",
    "noaction_upsampled = resample(noaction, replace = True, n_samples = action.shape[0], random_state = 123)\n",
    "print(noaction_upsampled.shape)\n",
    "noaction_upsampled.head()"
   ]
  },
  {
   "cell_type": "code",
   "execution_count": 64,
   "metadata": {},
   "outputs": [
    {
     "name": "stdout",
     "output_type": "stream",
     "text": [
      "(284, 11)\n"
     ]
    },
    {
     "data": {
      "text/plain": [
       "N    142\n",
       "Y    142\n",
       "Name: Action revised, dtype: int64"
      ]
     },
     "execution_count": 64,
     "metadata": {},
     "output_type": "execute_result"
    }
   ],
   "source": [
    "train_cleaned_df_upsampled = pd.concat([action, noaction_upsampled])\n",
    "print(train_cleaned_df_upsampled.shape)\n",
    "train_cleaned_df_upsampled['Action revised'].value_counts()"
   ]
  },
  {
   "cell_type": "code",
   "execution_count": 67,
   "metadata": {},
   "outputs": [],
   "source": [
    "#reference: https://machinelearningmastery.com/tactics-to-combat-imbalanced-classes-in-your-machine-learning-dataset/\n",
    "train_cleaned_df_upsampled_shuffled = shuffle(train_cleaned_df_upsampled, random_state = 4)\n",
    "feature_choice = 'phrases'\n",
    "Xtrain, Xtest, ytrain, ytest = train_test_split(train_cleaned_df_upsampled_shuffled[feature_choice], train_cleaned_df_upsampled_shuffled.label, test_size = 0.2, random_state = 10)"
   ]
  },
  {
   "cell_type": "code",
   "execution_count": null,
   "metadata": {},
   "outputs": [],
   "source": [
    "#let's make sure everything looks okay"
   ]
  },
  {
   "cell_type": "code",
   "execution_count": 70,
   "metadata": {},
   "outputs": [
    {
     "name": "stdout",
     "output_type": "stream",
     "text": [
      "(227,)\n"
     ]
    },
    {
     "data": {
      "text/plain": [
       "2865    bench trial conclude judge bai enter date\n",
       "688             civil_cover_sheet file enter date\n",
       "753             civil_cover_sheet file enter date\n",
       "406             civil_cover_sheet file enter date\n",
       "2347       civil_cover_sheet file sava enter date\n",
       "Name: phrases, dtype: object"
      ]
     },
     "execution_count": 70,
     "metadata": {},
     "output_type": "execute_result"
    }
   ],
   "source": [
    "print(Xtrain.shape)\n",
    "Xtrain.head()"
   ]
  },
  {
   "cell_type": "code",
   "execution_count": 71,
   "metadata": {},
   "outputs": [
    {
     "name": "stdout",
     "output_type": "stream",
     "text": [
      "(227,)\n"
     ]
    },
    {
     "data": {
      "text/plain": [
       "2865    1\n",
       "688     0\n",
       "753     0\n",
       "406     0\n",
       "2347    0\n",
       "Name: label, dtype: int64"
      ]
     },
     "execution_count": 71,
     "metadata": {},
     "output_type": "execute_result"
    }
   ],
   "source": [
    "print(ytrain.shape)\n",
    "ytrain.head()"
   ]
  },
  {
   "cell_type": "code",
   "execution_count": 72,
   "metadata": {},
   "outputs": [
    {
     "name": "stdout",
     "output_type": "stream",
     "text": [
      "(57,)\n"
     ]
    },
    {
     "data": {
      "text/plain": [
       "940     defendant initial disclosures pursuant rule fr...\n",
       "1017    case refer judge possibly relate mdl gf enter ...\n",
       "777                 civil_cover_sheet file han enter date\n",
       "1445    case refer judge possibly relate cv jom enter ...\n",
       "332     rule corporate_disclosure statement document f...\n",
       "Name: phrases, dtype: object"
      ]
     },
     "execution_count": 72,
     "metadata": {},
     "output_type": "execute_result"
    }
   ],
   "source": [
    "print(Xtest.shape)\n",
    "Xtest.head()"
   ]
  },
  {
   "cell_type": "code",
   "execution_count": 73,
   "metadata": {},
   "outputs": [
    {
     "name": "stdout",
     "output_type": "stream",
     "text": [
      "(57,)\n"
     ]
    },
    {
     "data": {
      "text/plain": [
       "940     1\n",
       "1017    0\n",
       "777     0\n",
       "1445    0\n",
       "332     1\n",
       "Name: label, dtype: int64"
      ]
     },
     "execution_count": 73,
     "metadata": {},
     "output_type": "execute_result"
    }
   ],
   "source": [
    "print(ytest.shape)\n",
    "ytest.head()"
   ]
  },
  {
   "cell_type": "markdown",
   "metadata": {},
   "source": [
    "Note that we are going to try 3 types of vectorizors\n",
    "1. Count Vectorizer - this is a bag of words approach\n",
    "2. TFIDF Vectorizer - this is term frequency, inverse doc frequency approach. suppose to be better than BOW\n",
    "3. Keras - keras has a lib that does this as well. I think it's more on the TFIDF methodology"
   ]
  },
  {
   "cell_type": "code",
   "execution_count": 74,
   "metadata": {},
   "outputs": [
    {
     "data": {
      "text/plain": [
       "['docket_texts/Train/DT/Keras_tokenizev2.pkl']"
      ]
     },
     "execution_count": 74,
     "metadata": {},
     "output_type": "execute_result"
    }
   ],
   "source": [
    "#reference: https://www.quora.com/What-is-the-difference-between-TfidfVectorizer-and-CountVectorizer-1\n",
    "\n",
    "CV_vect = CountVectorizer() #Convert a collection of text documents to a matrix of token counts, bag of words\n",
    "TV_vect = TfidfVectorizer() #term frequency, inverse document frequency - \n",
    "\n",
    "CV_vect.fit(Xtrain)\n",
    "TV_vect.fit(Xtrain)\n",
    "\n",
    "#we'll need to save these\n",
    "joblib.dump(CV_vect, 'docket_texts/Train/DT/CountVectorizerv2.pkl')\n",
    "joblib.dump(TV_vect, 'docket_texts/Train/DT/TfidfVectorizerv2.pkl')\n",
    "\n",
    "max_words = len(CV_vect.get_feature_names()) #218 on 2018/9/28\n",
    "Keras_tokenize = Tokenizer(num_words = max_words, char_level = False)\n",
    "Keras_tokenize.fit_on_texts(Xtrain)\n",
    "\n",
    "joblib.dump(Keras_tokenize, 'docket_texts/Train/DT/Keras_tokenizev2.pkl')"
   ]
  },
  {
   "cell_type": "code",
   "execution_count": 75,
   "metadata": {},
   "outputs": [
    {
     "name": "stdout",
     "output_type": "stream",
     "text": [
      "CountVectorizer feature length: 218\n",
      "TfidfVectorizer feature length: 218\n"
     ]
    }
   ],
   "source": [
    "print('CountVectorizer feature length: {}'.format(len(CV_vect.get_feature_names())))\n",
    "print('TfidfVectorizer feature length: {}'.format(len(TV_vect.get_feature_names())))"
   ]
  },
  {
   "cell_type": "code",
   "execution_count": 76,
   "metadata": {},
   "outputs": [],
   "source": [
    "#transform the train and test data into vectors, according to countvectorizer results\n",
    "CV_vect = joblib.load('docket_texts/Train/DT/CountVectorizerv2.pkl')\n",
    "Xtrain_CV = CV_vect.transform(Xtrain)\n",
    "Xtest_CV = CV_vect.transform(Xtest)\n",
    "\n",
    "TV_vect = joblib.load('docket_texts/Train/DT/TfidfVectorizerv2.pkl')\n",
    "Xtrain_TV = TV_vect.transform(Xtrain)\n",
    "Xtest_TV = TV_vect.transform(Xtest)\n",
    "\n",
    "Keras_tokenize = joblib.load('docket_texts/Train/DT/Keras_tokenizev2.pkl')\n",
    "Xtrain_Keras = Keras_tokenize.texts_to_matrix(Xtrain)\n",
    "Xtest_Keras = Keras_tokenize.texts_to_matrix(Xtest)"
   ]
  },
  {
   "cell_type": "code",
   "execution_count": 77,
   "metadata": {},
   "outputs": [
    {
     "name": "stdout",
     "output_type": "stream",
     "text": [
      "(227, 218)\n",
      "(227, 218)\n",
      "(227, 218)\n"
     ]
    }
   ],
   "source": [
    "#print(Xtrain_CV.toarray()[0])\n",
    "#print(Xtrain_TV.toarray()[0])\n",
    "print(Xtrain_CV.toarray().shape)\n",
    "print(Xtrain_TV.toarray().shape)\n",
    "print(Xtrain_Keras.shape)"
   ]
  },
  {
   "cell_type": "code",
   "execution_count": 79,
   "metadata": {},
   "outputs": [],
   "source": [
    "#this is for keras only... we shouldn't be doing this as we can leverage a softmax activation at the last layer. Also, there's not enough datapoints to get decent neural network results\n",
    "num_classes = 2\n",
    "ytrain_Keras = utils.to_categorical(ytrain, num_classes)\n",
    "ytest_Keras = utils.to_categorical(ytest, num_classes)"
   ]
  },
  {
   "cell_type": "code",
   "execution_count": 80,
   "metadata": {},
   "outputs": [
    {
     "name": "stdout",
     "output_type": "stream",
     "text": [
      "[[0. 1.]\n",
      " [1. 0.]\n",
      " [1. 0.]\n",
      " [1. 0.]\n",
      " [1. 0.]\n",
      " [1. 0.]\n",
      " [1. 0.]\n",
      " [1. 0.]\n",
      " [0. 1.]\n",
      " [1. 0.]]\n",
      "2865    1\n",
      "688     0\n",
      "753     0\n",
      "406     0\n",
      "2347    0\n",
      "973     0\n",
      "465     0\n",
      "688     0\n",
      "2866    1\n",
      "973     0\n",
      "Name: label, dtype: int64\n"
     ]
    }
   ],
   "source": [
    "print(ytrain_Keras[:10])\n",
    "print(ytrain[:10])"
   ]
  },
  {
   "cell_type": "markdown",
   "metadata": {},
   "source": [
    "Let's generate some benchmark scores"
   ]
  },
  {
   "cell_type": "code",
   "execution_count": 100,
   "metadata": {},
   "outputs": [],
   "source": [
    "BMTR_pred = dict()\n",
    "BMTE_pred = dict()\n",
    "BMTR_acc_scores = dict()\n",
    "BMTE_acc_scores = dict()"
   ]
  },
  {
   "cell_type": "markdown",
   "metadata": {},
   "source": [
    "Multinomial Naive Bayes"
   ]
  },
  {
   "cell_type": "code",
   "execution_count": 101,
   "metadata": {},
   "outputs": [
    {
     "name": "stdout",
     "output_type": "stream",
     "text": [
      "Wall time: 0 ns\n",
      "updated train acc scores: [('MNB TV', 0.9823788546255506), ('MNB Keras', 0.9779735682819384), ('MNB CV', 0.9779735682819384)]\n",
      "updated test acc scores: [('MNB TV', 1.0), ('MNB Keras', 0.9824561403508771), ('MNB CV', 0.9649122807017544)]\n"
     ]
    }
   ],
   "source": [
    "%time\n",
    "#remember to change 2 things: the id and the model algo\n",
    "id = 'MNB'\n",
    "for Xtrain, Xtest, label in zip([Xtrain_CV, Xtrain_TV, Xtrain_Keras], \n",
    "                                [Xtest_CV, Xtest_TV, Xtest_Keras], \n",
    "                                ['CV', 'TV', 'Keras']):\n",
    "    model = MultinomialNB()\n",
    "    model.fit(Xtrain, ytrain)\n",
    "    BMTR_pred[id + ' ' + label] = model.predict(Xtrain)\n",
    "    BMTE_pred[id + ' ' + label] = model.predict(Xtest)\n",
    "    BMTR_acc_scores[id + ' ' + label] = accuracy_score(ytrain, BMTR_pred[id + ' ' + label])\n",
    "    BMTE_acc_scores[id + ' ' + label] = accuracy_score(ytest, BMTE_pred[id + ' ' + label])\n",
    "\n",
    "print('updated train acc scores: {}'.format(sorted(BMTR_acc_scores.items(), key = lambda x: x[1], reverse = True)))\n",
    "print('updated test acc scores: {}'.format(sorted(BMTE_acc_scores.items(), key = lambda x: x[1], reverse = True)))\n",
    "#CPU time: \n",
    "#AWS c5.large time: 0 ns"
   ]
  },
  {
   "cell_type": "markdown",
   "metadata": {},
   "source": [
    "Bernoulli Naive Bayes"
   ]
  },
  {
   "cell_type": "code",
   "execution_count": 102,
   "metadata": {},
   "outputs": [
    {
     "name": "stdout",
     "output_type": "stream",
     "text": [
      "Wall time: 0 ns\n",
      "updated train acc scores: [('MNB TV', 0.9823788546255506), ('MNB Keras', 0.9779735682819384), ('BNB TV', 0.9779735682819384), ('BNB Keras', 0.9779735682819384), ('BNB CV', 0.9779735682819384), ('MNB CV', 0.9779735682819384)]\n",
      "updated test acc scores: [('MNB TV', 1.0), ('MNB Keras', 0.9824561403508771), ('BNB Keras', 0.9824561403508771), ('MNB CV', 0.9649122807017544), ('BNB TV', 0.9473684210526315), ('BNB CV', 0.9473684210526315)]\n"
     ]
    }
   ],
   "source": [
    "%time\n",
    "#remember to change 2 things: the id and the model algo\n",
    "id = 'BNB'\n",
    "for Xtrain, Xtest, label in zip([Xtrain_CV, Xtrain_TV, Xtrain_Keras], \n",
    "                                [Xtest_CV, Xtest_TV, Xtest_Keras], \n",
    "                                ['CV', 'TV', 'Keras']):\n",
    "    model = BernoulliNB()\n",
    "    model.fit(Xtrain, ytrain)\n",
    "    BMTR_pred[id + ' ' + label] = model.predict(Xtrain)\n",
    "    BMTE_pred[id + ' ' + label] = model.predict(Xtest)\n",
    "    BMTR_acc_scores[id + ' ' + label] = accuracy_score(ytrain, BMTR_pred[id + ' ' + label])\n",
    "    BMTE_acc_scores[id + ' ' + label] = accuracy_score(ytest, BMTE_pred[id + ' ' + label])\n",
    "\n",
    "print('updated train acc scores: {}'.format(sorted(BMTR_acc_scores.items(), key = lambda x: x[1], reverse = True)))\n",
    "print('updated test acc scores: {}'.format(sorted(BMTE_acc_scores.items(), key = lambda x: x[1], reverse = True)))\n",
    "#CPU time: \n",
    "#AWS c5.large time: 0 ns"
   ]
  },
  {
   "cell_type": "markdown",
   "metadata": {},
   "source": [
    "LogisticRegression (Classifier)"
   ]
  },
  {
   "cell_type": "code",
   "execution_count": 103,
   "metadata": {},
   "outputs": [
    {
     "name": "stdout",
     "output_type": "stream",
     "text": [
      "Wall time: 0 ns\n",
      "updated train acc scores: [('LR TV', 1.0), ('LR CV', 1.0), ('LR Keras', 1.0), ('MNB TV', 0.9823788546255506), ('MNB Keras', 0.9779735682819384), ('BNB TV', 0.9779735682819384), ('BNB Keras', 0.9779735682819384), ('BNB CV', 0.9779735682819384), ('MNB CV', 0.9779735682819384)]\n",
      "updated test acc scores: [('LR TV', 1.0), ('MNB TV', 1.0), ('LR CV', 1.0), ('LR Keras', 1.0), ('MNB Keras', 0.9824561403508771), ('BNB Keras', 0.9824561403508771), ('MNB CV', 0.9649122807017544), ('BNB TV', 0.9473684210526315), ('BNB CV', 0.9473684210526315)]\n"
     ]
    }
   ],
   "source": [
    "%time\n",
    "#remember to change 2 things: the id and the model algo\n",
    "id = 'LR'\n",
    "for Xtrain, Xtest, label in zip([Xtrain_CV, Xtrain_TV, Xtrain_Keras], \n",
    "                                [Xtest_CV, Xtest_TV, Xtest_Keras], \n",
    "                                ['CV', 'TV', 'Keras']):\n",
    "    model = LogisticRegression()\n",
    "    model.fit(Xtrain, ytrain)\n",
    "    BMTR_pred[id + ' ' + label] = model.predict(Xtrain)\n",
    "    BMTE_pred[id + ' ' + label] = model.predict(Xtest)\n",
    "    BMTR_acc_scores[id + ' ' + label] = accuracy_score(ytrain, BMTR_pred[id + ' ' + label])\n",
    "    BMTE_acc_scores[id + ' ' + label] = accuracy_score(ytest, BMTE_pred[id + ' ' + label])\n",
    "\n",
    "print('updated train acc scores: {}'.format(sorted(BMTR_acc_scores.items(), key = lambda x: x[1], reverse = True)))\n",
    "print('updated test acc scores: {}'.format(sorted(BMTE_acc_scores.items(), key = lambda x: x[1], reverse = True)))\n",
    "#CPU time: \n",
    "#AWS c5.large time: 0 ns"
   ]
  },
  {
   "cell_type": "markdown",
   "metadata": {},
   "source": [
    "KNN"
   ]
  },
  {
   "cell_type": "code",
   "execution_count": 104,
   "metadata": {},
   "outputs": [
    {
     "name": "stdout",
     "output_type": "stream",
     "text": [
      "Wall time: 0 ns\n",
      "updated train acc scores: [('LR TV', 1.0), ('LR CV', 1.0), ('LR Keras', 1.0), ('KNN Keras', 0.9911894273127754), ('MNB TV', 0.9823788546255506), ('KNN TV', 0.9823788546255506), ('BNB CV', 0.9779735682819384), ('MNB CV', 0.9779735682819384), ('MNB Keras', 0.9779735682819384), ('BNB TV', 0.9779735682819384), ('BNB Keras', 0.9779735682819384), ('KNN CV', 0.9779735682819384)]\n",
      "updated test acc scores: [('LR TV', 1.0), ('MNB TV', 1.0), ('LR CV', 1.0), ('KNN TV', 1.0), ('LR Keras', 1.0), ('MNB Keras', 0.9824561403508771), ('KNN Keras', 0.9824561403508771), ('BNB Keras', 0.9824561403508771), ('MNB CV', 0.9649122807017544), ('BNB CV', 0.9473684210526315), ('BNB TV', 0.9473684210526315), ('KNN CV', 0.8771929824561403)]\n"
     ]
    }
   ],
   "source": [
    "%time\n",
    "#remember to change 2 things: the id and the model algo\n",
    "id = 'KNN'\n",
    "for Xtrain, Xtest, label in zip([Xtrain_CV, Xtrain_TV, Xtrain_Keras], \n",
    "                                [Xtest_CV, Xtest_TV, Xtest_Keras], \n",
    "                                ['CV', 'TV', 'Keras']):\n",
    "    model = KNeighborsClassifier()\n",
    "    model.fit(Xtrain, ytrain)\n",
    "    BMTR_pred[id + ' ' + label] = model.predict(Xtrain)\n",
    "    BMTE_pred[id + ' ' + label] = model.predict(Xtest)\n",
    "    BMTR_acc_scores[id + ' ' + label] = accuracy_score(ytrain, BMTR_pred[id + ' ' + label])\n",
    "    BMTE_acc_scores[id + ' ' + label] = accuracy_score(ytest, BMTE_pred[id + ' ' + label])\n",
    "\n",
    "print('updated train acc scores: {}'.format(sorted(BMTR_acc_scores.items(), key = lambda x: x[1], reverse = True)))\n",
    "print('updated test acc scores: {}'.format(sorted(BMTE_acc_scores.items(), key = lambda x: x[1], reverse = True)))\n",
    "#CPU time: \n",
    "#AWS c5.large time: 0 ns"
   ]
  },
  {
   "cell_type": "markdown",
   "metadata": {},
   "source": [
    "SVM"
   ]
  },
  {
   "cell_type": "code",
   "execution_count": 105,
   "metadata": {},
   "outputs": [
    {
     "name": "stdout",
     "output_type": "stream",
     "text": [
      "Wall time: 0 ns\n",
      "updated train acc scores: [('LR TV', 1.0), ('LR CV', 1.0), ('LR Keras', 1.0), ('KNN Keras', 0.9911894273127754), ('MNB TV', 0.9823788546255506), ('KNN TV', 0.9823788546255506), ('BNB CV', 0.9779735682819384), ('MNB CV', 0.9779735682819384), ('MNB Keras', 0.9779735682819384), ('BNB TV', 0.9779735682819384), ('BNB Keras', 0.9779735682819384), ('KNN CV', 0.9779735682819384), ('SVM Keras', 0.9691629955947136), ('SVM CV', 0.8986784140969163), ('SVM TV', 0.5066079295154186)]\n",
      "updated test acc scores: [('LR TV', 1.0), ('MNB TV', 1.0), ('LR CV', 1.0), ('KNN TV', 1.0), ('LR Keras', 1.0), ('MNB Keras', 0.9824561403508771), ('KNN Keras', 0.9824561403508771), ('BNB Keras', 0.9824561403508771), ('MNB CV', 0.9649122807017544), ('BNB CV', 0.9473684210526315), ('SVM Keras', 0.9473684210526315), ('BNB TV', 0.9473684210526315), ('KNN CV', 0.8771929824561403), ('SVM CV', 0.8245614035087719), ('SVM TV', 0.47368421052631576)]\n"
     ]
    }
   ],
   "source": [
    "%time\n",
    "#remember to change 2 things: the id and the model algo\n",
    "id = 'SVM'\n",
    "for Xtrain, Xtest, label in zip([Xtrain_CV, Xtrain_TV, Xtrain_Keras], \n",
    "                                [Xtest_CV, Xtest_TV, Xtest_Keras], \n",
    "                                ['CV', 'TV', 'Keras']):\n",
    "    model = SVC()\n",
    "    model.fit(Xtrain, ytrain)\n",
    "    BMTR_pred[id + ' ' + label] = model.predict(Xtrain)\n",
    "    BMTE_pred[id + ' ' + label] = model.predict(Xtest)\n",
    "    BMTR_acc_scores[id + ' ' + label] = accuracy_score(ytrain, BMTR_pred[id + ' ' + label])\n",
    "    BMTE_acc_scores[id + ' ' + label] = accuracy_score(ytest, BMTE_pred[id + ' ' + label])\n",
    "\n",
    "print('updated train acc scores: {}'.format(sorted(BMTR_acc_scores.items(), key = lambda x: x[1], reverse = True)))\n",
    "print('updated test acc scores: {}'.format(sorted(BMTE_acc_scores.items(), key = lambda x: x[1], reverse = True)))\n",
    "#CPU time: \n",
    "#AWS c5.large time: 0 ns"
   ]
  },
  {
   "cell_type": "markdown",
   "metadata": {},
   "source": [
    "RandomForest"
   ]
  },
  {
   "cell_type": "code",
   "execution_count": 106,
   "metadata": {},
   "outputs": [
    {
     "name": "stdout",
     "output_type": "stream",
     "text": [
      "Wall time: 0 ns\n",
      "updated train acc scores: [('LR TV', 1.0), ('RF Keras', 1.0), ('RF CV', 1.0), ('LR CV', 1.0), ('RF TV', 1.0), ('LR Keras', 1.0), ('KNN Keras', 0.9911894273127754), ('MNB TV', 0.9823788546255506), ('KNN TV', 0.9823788546255506), ('BNB CV', 0.9779735682819384), ('MNB CV', 0.9779735682819384), ('MNB Keras', 0.9779735682819384), ('BNB TV', 0.9779735682819384), ('BNB Keras', 0.9779735682819384), ('KNN CV', 0.9779735682819384), ('SVM Keras', 0.9691629955947136), ('SVM CV', 0.8986784140969163), ('SVM TV', 0.5066079295154186)]\n",
      "updated test acc scores: [('LR TV', 1.0), ('MNB TV', 1.0), ('RF Keras', 1.0), ('LR CV', 1.0), ('KNN TV', 1.0), ('RF TV', 1.0), ('LR Keras', 1.0), ('RF CV', 0.9824561403508771), ('MNB Keras', 0.9824561403508771), ('KNN Keras', 0.9824561403508771), ('BNB Keras', 0.9824561403508771), ('MNB CV', 0.9649122807017544), ('BNB CV', 0.9473684210526315), ('SVM Keras', 0.9473684210526315), ('BNB TV', 0.9473684210526315), ('KNN CV', 0.8771929824561403), ('SVM CV', 0.8245614035087719), ('SVM TV', 0.47368421052631576)]\n"
     ]
    }
   ],
   "source": [
    "%time\n",
    "#remember to change 2 things: the id and the model algo\n",
    "id = 'RF'\n",
    "for Xtrain, Xtest, label in zip([Xtrain_CV, Xtrain_TV, Xtrain_Keras], \n",
    "                                [Xtest_CV, Xtest_TV, Xtest_Keras], \n",
    "                                ['CV', 'TV', 'Keras']):\n",
    "    model = RandomForestClassifier()\n",
    "    model.fit(Xtrain, ytrain)\n",
    "    BMTR_pred[id + ' ' + label] = model.predict(Xtrain)\n",
    "    BMTE_pred[id + ' ' + label] = model.predict(Xtest)\n",
    "    BMTR_acc_scores[id + ' ' + label] = accuracy_score(ytrain, BMTR_pred[id + ' ' + label])\n",
    "    BMTE_acc_scores[id + ' ' + label] = accuracy_score(ytest, BMTE_pred[id + ' ' + label])\n",
    "\n",
    "print('updated train acc scores: {}'.format(sorted(BMTR_acc_scores.items(), key = lambda x: x[1], reverse = True)))\n",
    "print('updated test acc scores: {}'.format(sorted(BMTE_acc_scores.items(), key = lambda x: x[1], reverse = True)))\n",
    "#CPU time: \n",
    "#AWS c5.large time: 0 ns"
   ]
  },
  {
   "cell_type": "markdown",
   "metadata": {},
   "source": [
    "AdaBoost"
   ]
  },
  {
   "cell_type": "code",
   "execution_count": 107,
   "metadata": {},
   "outputs": [
    {
     "name": "stdout",
     "output_type": "stream",
     "text": [
      "Wall time: 0 ns\n",
      "updated train acc scores: [('LR TV', 1.0), ('RF Keras', 1.0), ('AB TV', 1.0), ('RF CV', 1.0), ('AB Keras', 1.0), ('LR CV', 1.0), ('AB CV', 1.0), ('RF TV', 1.0), ('LR Keras', 1.0), ('KNN Keras', 0.9911894273127754), ('MNB TV', 0.9823788546255506), ('KNN TV', 0.9823788546255506), ('BNB CV', 0.9779735682819384), ('MNB CV', 0.9779735682819384), ('MNB Keras', 0.9779735682819384), ('BNB TV', 0.9779735682819384), ('BNB Keras', 0.9779735682819384), ('KNN CV', 0.9779735682819384), ('SVM Keras', 0.9691629955947136), ('SVM CV', 0.8986784140969163), ('SVM TV', 0.5066079295154186)]\n",
      "updated test acc scores: [('LR TV', 1.0), ('MNB TV', 1.0), ('RF Keras', 1.0), ('AB TV', 1.0), ('AB Keras', 1.0), ('LR CV', 1.0), ('KNN TV', 1.0), ('AB CV', 1.0), ('RF TV', 1.0), ('LR Keras', 1.0), ('RF CV', 0.9824561403508771), ('MNB Keras', 0.9824561403508771), ('KNN Keras', 0.9824561403508771), ('BNB Keras', 0.9824561403508771), ('MNB CV', 0.9649122807017544), ('BNB CV', 0.9473684210526315), ('SVM Keras', 0.9473684210526315), ('BNB TV', 0.9473684210526315), ('KNN CV', 0.8771929824561403), ('SVM CV', 0.8245614035087719), ('SVM TV', 0.47368421052631576)]\n"
     ]
    }
   ],
   "source": [
    "%time\n",
    "#remember to change 2 things: the id and the model algo\n",
    "id = 'AB'\n",
    "for Xtrain, Xtest, label in zip([Xtrain_CV, Xtrain_TV, Xtrain_Keras], \n",
    "                                [Xtest_CV, Xtest_TV, Xtest_Keras], \n",
    "                                ['CV', 'TV', 'Keras']):\n",
    "    model = AdaBoostClassifier()\n",
    "    model.fit(Xtrain, ytrain)\n",
    "    BMTR_pred[id + ' ' + label] = model.predict(Xtrain)\n",
    "    BMTE_pred[id + ' ' + label] = model.predict(Xtest)\n",
    "    BMTR_acc_scores[id + ' ' + label] = accuracy_score(ytrain, BMTR_pred[id + ' ' + label])\n",
    "    BMTE_acc_scores[id + ' ' + label] = accuracy_score(ytest, BMTE_pred[id + ' ' + label])\n",
    "\n",
    "print('updated train acc scores: {}'.format(sorted(BMTR_acc_scores.items(), key = lambda x: x[1], reverse = True)))\n",
    "print('updated test acc scores: {}'.format(sorted(BMTE_acc_scores.items(), key = lambda x: x[1], reverse = True)))\n",
    "#CPU time: \n",
    "#AWS c5.large time: 0 ns"
   ]
  },
  {
   "cell_type": "markdown",
   "metadata": {},
   "source": [
    "XGBoost"
   ]
  },
  {
   "cell_type": "code",
   "execution_count": 108,
   "metadata": {},
   "outputs": [
    {
     "name": "stdout",
     "output_type": "stream",
     "text": [
      "Wall time: 0 ns\n",
      "updated train acc scores: [('XGB TV', 1.0), ('AB CV', 1.0), ('AB Keras', 1.0), ('RF CV', 1.0), ('XGB Keras', 1.0), ('LR TV', 1.0), ('RF Keras', 1.0), ('AB TV', 1.0), ('LR CV', 1.0), ('XGB CV', 1.0), ('RF TV', 1.0), ('LR Keras', 1.0), ('KNN Keras', 0.9911894273127754), ('KNN TV', 0.9823788546255506), ('MNB TV', 0.9823788546255506), ('MNB CV', 0.9779735682819384), ('MNB Keras', 0.9779735682819384), ('BNB Keras', 0.9779735682819384), ('KNN CV', 0.9779735682819384), ('BNB CV', 0.9779735682819384), ('BNB TV', 0.9779735682819384), ('SVM Keras', 0.9691629955947136), ('SVM CV', 0.8986784140969163), ('SVM TV', 0.5066079295154186)]\n",
      "updated test acc scores: [('AB CV', 1.0), ('AB Keras', 1.0), ('KNN TV', 1.0), ('XGB Keras', 1.0), ('LR TV', 1.0), ('MNB TV', 1.0), ('RF Keras', 1.0), ('AB TV', 1.0), ('LR CV', 1.0), ('XGB CV', 1.0), ('RF TV', 1.0), ('LR Keras', 1.0), ('XGB TV', 0.9824561403508771), ('RF CV', 0.9824561403508771), ('MNB Keras', 0.9824561403508771), ('KNN Keras', 0.9824561403508771), ('BNB Keras', 0.9824561403508771), ('MNB CV', 0.9649122807017544), ('BNB CV', 0.9473684210526315), ('SVM Keras', 0.9473684210526315), ('BNB TV', 0.9473684210526315), ('KNN CV', 0.8771929824561403), ('SVM CV', 0.8245614035087719), ('SVM TV', 0.47368421052631576)]\n"
     ]
    },
    {
     "name": "stderr",
     "output_type": "stream",
     "text": [
      "c:\\users\\inves\\appdata\\local\\programs\\python\\python35\\lib\\site-packages\\sklearn\\preprocessing\\label.py:171: DeprecationWarning: The truth value of an empty array is ambiguous. Returning False, but in future this will result in an error. Use `array.size > 0` to check that an array is not empty.\n",
      "  if diff:\n",
      "c:\\users\\inves\\appdata\\local\\programs\\python\\python35\\lib\\site-packages\\sklearn\\preprocessing\\label.py:171: DeprecationWarning: The truth value of an empty array is ambiguous. Returning False, but in future this will result in an error. Use `array.size > 0` to check that an array is not empty.\n",
      "  if diff:\n",
      "c:\\users\\inves\\appdata\\local\\programs\\python\\python35\\lib\\site-packages\\sklearn\\preprocessing\\label.py:171: DeprecationWarning: The truth value of an empty array is ambiguous. Returning False, but in future this will result in an error. Use `array.size > 0` to check that an array is not empty.\n",
      "  if diff:\n",
      "c:\\users\\inves\\appdata\\local\\programs\\python\\python35\\lib\\site-packages\\sklearn\\preprocessing\\label.py:171: DeprecationWarning: The truth value of an empty array is ambiguous. Returning False, but in future this will result in an error. Use `array.size > 0` to check that an array is not empty.\n",
      "  if diff:\n",
      "c:\\users\\inves\\appdata\\local\\programs\\python\\python35\\lib\\site-packages\\sklearn\\preprocessing\\label.py:171: DeprecationWarning: The truth value of an empty array is ambiguous. Returning False, but in future this will result in an error. Use `array.size > 0` to check that an array is not empty.\n",
      "  if diff:\n",
      "c:\\users\\inves\\appdata\\local\\programs\\python\\python35\\lib\\site-packages\\sklearn\\preprocessing\\label.py:171: DeprecationWarning: The truth value of an empty array is ambiguous. Returning False, but in future this will result in an error. Use `array.size > 0` to check that an array is not empty.\n",
      "  if diff:\n"
     ]
    }
   ],
   "source": [
    "%time\n",
    "#remember to change 2 things: the id and the model algo\n",
    "id = 'XGB'\n",
    "for Xtrain, Xtest, label in zip([Xtrain_CV.toarray(), Xtrain_TV.toarray(), Xtrain_Keras], \n",
    "                                [Xtest_CV.toarray(), Xtest_TV.toarray(), Xtest_Keras], \n",
    "                                ['CV', 'TV', 'Keras']):\n",
    "    model = XGBClassifier()\n",
    "    model.fit(Xtrain, ytrain)\n",
    "    BMTR_pred[id + ' ' + label] = model.predict(Xtrain)\n",
    "    BMTE_pred[id + ' ' + label] = model.predict(Xtest)\n",
    "    BMTR_acc_scores[id + ' ' + label] = accuracy_score(ytrain, BMTR_pred[id + ' ' + label])\n",
    "    BMTE_acc_scores[id + ' ' + label] = accuracy_score(ytest, BMTE_pred[id + ' ' + label])\n",
    "\n",
    "print('updated train acc scores: {}'.format(sorted(BMTR_acc_scores.items(), key = lambda x: x[1], reverse = True)))\n",
    "print('updated test acc scores: {}'.format(sorted(BMTE_acc_scores.items(), key = lambda x: x[1], reverse = True)))\n",
    "#CPU time: \n",
    "#AWS c5.large time: 0 ns"
   ]
  },
  {
   "cell_type": "markdown",
   "metadata": {},
   "source": [
    "Keras"
   ]
  },
  {
   "cell_type": "code",
   "execution_count": 91,
   "metadata": {},
   "outputs": [],
   "source": [
    "def keras_prelim():\n",
    "    model = Sequential()\n",
    "    model.add(Dense(512, input_shape = (Xtrain_CV.shape[1], )))\n",
    "    model.add(Activation('relu'))\n",
    "    model.add(Dropout(0.2))\n",
    "    model.add(Dense(512))\n",
    "    model.add(Activation('relu'))\n",
    "    model.add(Dropout(0.2))\n",
    "    model.add(Dense(num_classes))\n",
    "    model.add(Activation('softmax'))\n",
    "\n",
    "    model.compile(loss = 'categorical_crossentropy', optimizer = 'adam', metrics = ['accuracy'])\n",
    "    return model"
   ]
  },
  {
   "cell_type": "code",
   "execution_count": 109,
   "metadata": {
    "scrolled": true
   },
   "outputs": [
    {
     "name": "stdout",
     "output_type": "stream",
     "text": [
      "Train on 204 samples, validate on 23 samples\n",
      "Epoch 1/10\n",
      "204/204 [==============================] - 0s - loss: 0.3985 - acc: 0.8529 - val_loss: 0.1403 - val_acc: 0.9565\n",
      "Epoch 2/10\n",
      "204/204 [==============================] - 0s - loss: 0.0520 - acc: 0.9853 - val_loss: 0.0196 - val_acc: 1.0000\n",
      "Epoch 3/10\n",
      "204/204 [==============================] - 0s - loss: 0.0046 - acc: 1.0000 - val_loss: 0.0142 - val_acc: 1.0000\n",
      "Epoch 4/10\n",
      "204/204 [==============================] - 0s - loss: 0.0013 - acc: 1.0000 - val_loss: 0.0143 - val_acc: 1.0000\n",
      "Epoch 5/10\n",
      "204/204 [==============================] - 0s - loss: 6.9083e-04 - acc: 1.0000 - val_loss: 0.0133 - val_acc: 1.0000\n",
      "Epoch 6/10\n",
      "204/204 [==============================] - 0s - loss: 5.4914e-04 - acc: 1.0000 - val_loss: 0.0112 - val_acc: 1.0000\n",
      "Epoch 7/10\n",
      "204/204 [==============================] - 0s - loss: 3.5433e-04 - acc: 1.0000 - val_loss: 0.0104 - val_acc: 1.0000\n",
      "Epoch 8/10\n",
      "204/204 [==============================] - 0s - loss: 3.2945e-04 - acc: 1.0000 - val_loss: 0.0088 - val_acc: 1.0000\n",
      "Epoch 9/10\n",
      "204/204 [==============================] - 0s - loss: 2.2418e-04 - acc: 1.0000 - val_loss: 0.0081 - val_acc: 1.0000\n",
      "Epoch 10/10\n",
      "204/204 [==============================] - 0s - loss: 1.3131e-04 - acc: 1.0000 - val_loss: 0.0077 - val_acc: 1.0000\n",
      "Train on 204 samples, validate on 23 samples\n",
      "Epoch 1/10\n",
      "204/204 [==============================] - 0s - loss: 0.4429 - acc: 0.9314 - val_loss: 0.1418 - val_acc: 1.0000\n",
      "Epoch 2/10\n",
      "204/204 [==============================] - 0s - loss: 0.0453 - acc: 0.9902 - val_loss: 0.0095 - val_acc: 1.0000\n",
      "Epoch 3/10\n",
      "204/204 [==============================] - 0s - loss: 0.0056 - acc: 1.0000 - val_loss: 0.0025 - val_acc: 1.0000\n",
      "Epoch 4/10\n",
      "204/204 [==============================] - 0s - loss: 7.5743e-04 - acc: 1.0000 - val_loss: 0.0024 - val_acc: 1.0000\n",
      "Epoch 5/10\n",
      "204/204 [==============================] - 0s - loss: 4.5921e-04 - acc: 1.0000 - val_loss: 0.0024 - val_acc: 1.0000\n",
      "Epoch 6/10\n",
      "204/204 [==============================] - 0s - loss: 3.6044e-04 - acc: 1.0000 - val_loss: 0.0023 - val_acc: 1.0000\n",
      "Epoch 7/10\n",
      "204/204 [==============================] - 0s - loss: 3.0098e-04 - acc: 1.0000 - val_loss: 0.0020 - val_acc: 1.0000\n",
      "Epoch 8/10\n",
      "204/204 [==============================] - 0s - loss: 1.9578e-04 - acc: 1.0000 - val_loss: 0.0019 - val_acc: 1.0000\n",
      "Epoch 9/10\n",
      "204/204 [==============================] - 0s - loss: 1.9504e-04 - acc: 1.0000 - val_loss: 0.0018 - val_acc: 1.0000\n",
      "Epoch 10/10\n",
      "204/204 [==============================] - 0s - loss: 1.4624e-04 - acc: 1.0000 - val_loss: 0.0018 - val_acc: 1.0000\n",
      "Train on 204 samples, validate on 23 samples\n",
      "Epoch 1/10\n",
      "204/204 [==============================] - 0s - loss: 0.2895 - acc: 0.9216 - val_loss: 0.0450 - val_acc: 1.0000\n",
      "Epoch 2/10\n",
      "204/204 [==============================] - 0s - loss: 0.0118 - acc: 1.0000 - val_loss: 0.0152 - val_acc: 1.0000\n",
      "Epoch 3/10\n",
      "204/204 [==============================] - 0s - loss: 0.0020 - acc: 1.0000 - val_loss: 0.0048 - val_acc: 1.0000\n",
      "Epoch 4/10\n",
      "204/204 [==============================] - 0s - loss: 7.8774e-04 - acc: 1.0000 - val_loss: 0.0061 - val_acc: 1.0000\n",
      "Epoch 5/10\n",
      "204/204 [==============================] - 0s - loss: 3.9571e-04 - acc: 1.0000 - val_loss: 0.0071 - val_acc: 1.0000\n",
      "Epoch 6/10\n",
      "204/204 [==============================] - 0s - loss: 2.2880e-04 - acc: 1.0000 - val_loss: 0.0069 - val_acc: 1.0000\n",
      "Epoch 7/10\n",
      "204/204 [==============================] - 0s - loss: 2.1869e-04 - acc: 1.0000 - val_loss: 0.0066 - val_acc: 1.0000\n",
      "Epoch 8/10\n",
      "204/204 [==============================] - 0s - loss: 2.0124e-04 - acc: 1.0000 - val_loss: 0.0062 - val_acc: 1.0000\n",
      "Epoch 9/10\n",
      "204/204 [==============================] - 0s - loss: 1.4108e-04 - acc: 1.0000 - val_loss: 0.0062 - val_acc: 1.0000\n",
      "Epoch 10/10\n",
      "204/204 [==============================] - 0s - loss: 1.2046e-04 - acc: 1.0000 - val_loss: 0.0063 - val_acc: 1.0000\n",
      "updated train acc scores: [('XGB TV', 1.0), ('AB CV', 1.0), ('AB Keras', 1.0), ('RF CV', 1.0), ('XGB Keras', 1.0), ('Keras TV', 1.0), ('LR TV', 1.0), ('RF Keras', 1.0), ('AB TV', 1.0), ('Keras Keras', 1.0), ('LR CV', 1.0), ('XGB CV', 1.0), ('Keras CV', 1.0), ('RF TV', 1.0), ('LR Keras', 1.0), ('KNN Keras', 0.9911894273127754), ('KNN TV', 0.9823788546255506), ('MNB TV', 0.9823788546255506), ('MNB CV', 0.9779735682819384), ('MNB Keras', 0.9779735682819384), ('BNB Keras', 0.9779735682819384), ('KNN CV', 0.9779735682819384), ('BNB CV', 0.9779735682819384), ('BNB TV', 0.9779735682819384), ('SVM Keras', 0.9691629955947136), ('SVM CV', 0.8986784140969163), ('SVM TV', 0.5066079295154186)]\n",
      "updated test acc scores: [('AB CV', 1.0), ('AB Keras', 1.0), ('KNN TV', 1.0), ('XGB Keras', 1.0), ('Keras TV', 1.0), ('LR TV', 1.0), ('MNB TV', 1.0), ('RF Keras', 1.0), ('AB TV', 1.0), ('Keras Keras', 1.0), ('LR CV', 1.0), ('XGB CV', 1.0), ('Keras CV', 1.0), ('RF TV', 1.0), ('LR Keras', 1.0), ('XGB TV', 0.9824561403508771), ('RF CV', 0.9824561403508771), ('MNB Keras', 0.9824561403508771), ('KNN Keras', 0.9824561403508771), ('BNB Keras', 0.9824561403508771), ('MNB CV', 0.9649122807017544), ('BNB CV', 0.9473684210526315), ('SVM Keras', 0.9473684210526315), ('BNB TV', 0.9473684210526315), ('KNN CV', 0.8771929824561403), ('SVM CV', 0.8245614035087719), ('SVM TV', 0.47368421052631576)]\n"
     ]
    }
   ],
   "source": [
    "id = 'Keras'\n",
    "\n",
    "for Xtrain, Xtest, label in zip([Xtrain_CV.toarray(), Xtrain_TV.toarray(), Xtrain_Keras], \n",
    "                                [Xtest_CV.toarray(), Xtest_TV.toarray(), Xtest_Keras], \n",
    "                                ['CV', 'TV', 'Keras']):\n",
    "    batch_size = 10\n",
    "    epochs = 10\n",
    "    model = keras_prelim()\n",
    "    model.fit(Xtrain, ytrain_Keras, batch_size = batch_size, epochs = epochs, verbose = 1, validation_split = 0.1)\n",
    "\n",
    "    # Evaluate the accuracy of our trained model\n",
    "    #score = model.evaluate(Xtest, ytest_Keras, batch_size = batch_size, verbose = 1)\n",
    "    #print('\\nTest score (loss value:', score[0])\n",
    "    #print('Test accuracy:', score[1])\n",
    "\n",
    "    BMTR_pred[id + ' ' + label] = np.argmax(model.predict(Xtrain), axis = 1)\n",
    "    BMTE_pred[id + ' ' + label] = np.argmax(model.predict(Xtest), axis = 1)\n",
    "    BMTR_acc_scores[id + ' ' + label] = accuracy_score(ytrain, BMTR_pred[id + ' ' + label])\n",
    "    BMTE_acc_scores[id + ' ' + label] = accuracy_score(ytest, BMTE_pred[id + ' ' + label])\n",
    "\n",
    "print('updated train acc scores: {}'.format(sorted(BMTR_acc_scores.items(), key = lambda x: x[1], reverse = True)))\n",
    "print('updated test acc scores: {}'.format(sorted(BMTE_acc_scores.items(), key = lambda x: x[1], reverse = True)))\n",
    "\n",
    "#CPU time: \n",
    "#AWS c5.large time: 0 ns"
   ]
  },
  {
   "cell_type": "code",
   "execution_count": 119,
   "metadata": {
    "scrolled": false
   },
   "outputs": [
    {
     "data": {
      "text/html": [
       "<div>\n",
       "<table border=\"1\" class=\"dataframe\">\n",
       "  <thead>\n",
       "    <tr style=\"text-align: right;\">\n",
       "      <th></th>\n",
       "      <th>Test</th>\n",
       "      <th>Train</th>\n",
       "    </tr>\n",
       "  </thead>\n",
       "  <tbody>\n",
       "    <tr>\n",
       "      <th>AB CV</th>\n",
       "      <td>1.000000</td>\n",
       "      <td>1.000000</td>\n",
       "    </tr>\n",
       "    <tr>\n",
       "      <th>AB Keras</th>\n",
       "      <td>1.000000</td>\n",
       "      <td>1.000000</td>\n",
       "    </tr>\n",
       "    <tr>\n",
       "      <th>AB TV</th>\n",
       "      <td>1.000000</td>\n",
       "      <td>1.000000</td>\n",
       "    </tr>\n",
       "    <tr>\n",
       "      <th>BNB CV</th>\n",
       "      <td>0.947368</td>\n",
       "      <td>0.977974</td>\n",
       "    </tr>\n",
       "    <tr>\n",
       "      <th>BNB Keras</th>\n",
       "      <td>0.982456</td>\n",
       "      <td>0.977974</td>\n",
       "    </tr>\n",
       "    <tr>\n",
       "      <th>BNB TV</th>\n",
       "      <td>0.947368</td>\n",
       "      <td>0.977974</td>\n",
       "    </tr>\n",
       "    <tr>\n",
       "      <th>KNN CV</th>\n",
       "      <td>0.877193</td>\n",
       "      <td>0.977974</td>\n",
       "    </tr>\n",
       "    <tr>\n",
       "      <th>KNN Keras</th>\n",
       "      <td>0.982456</td>\n",
       "      <td>0.991189</td>\n",
       "    </tr>\n",
       "    <tr>\n",
       "      <th>KNN TV</th>\n",
       "      <td>1.000000</td>\n",
       "      <td>0.982379</td>\n",
       "    </tr>\n",
       "    <tr>\n",
       "      <th>Keras CV</th>\n",
       "      <td>1.000000</td>\n",
       "      <td>1.000000</td>\n",
       "    </tr>\n",
       "    <tr>\n",
       "      <th>Keras Keras</th>\n",
       "      <td>1.000000</td>\n",
       "      <td>1.000000</td>\n",
       "    </tr>\n",
       "    <tr>\n",
       "      <th>Keras TV</th>\n",
       "      <td>1.000000</td>\n",
       "      <td>1.000000</td>\n",
       "    </tr>\n",
       "    <tr>\n",
       "      <th>LR CV</th>\n",
       "      <td>1.000000</td>\n",
       "      <td>1.000000</td>\n",
       "    </tr>\n",
       "    <tr>\n",
       "      <th>LR Keras</th>\n",
       "      <td>1.000000</td>\n",
       "      <td>1.000000</td>\n",
       "    </tr>\n",
       "    <tr>\n",
       "      <th>LR TV</th>\n",
       "      <td>1.000000</td>\n",
       "      <td>1.000000</td>\n",
       "    </tr>\n",
       "    <tr>\n",
       "      <th>MNB CV</th>\n",
       "      <td>0.964912</td>\n",
       "      <td>0.977974</td>\n",
       "    </tr>\n",
       "    <tr>\n",
       "      <th>MNB Keras</th>\n",
       "      <td>0.982456</td>\n",
       "      <td>0.977974</td>\n",
       "    </tr>\n",
       "    <tr>\n",
       "      <th>MNB TV</th>\n",
       "      <td>1.000000</td>\n",
       "      <td>0.982379</td>\n",
       "    </tr>\n",
       "    <tr>\n",
       "      <th>RF CV</th>\n",
       "      <td>0.982456</td>\n",
       "      <td>1.000000</td>\n",
       "    </tr>\n",
       "    <tr>\n",
       "      <th>RF Keras</th>\n",
       "      <td>1.000000</td>\n",
       "      <td>1.000000</td>\n",
       "    </tr>\n",
       "    <tr>\n",
       "      <th>RF TV</th>\n",
       "      <td>1.000000</td>\n",
       "      <td>1.000000</td>\n",
       "    </tr>\n",
       "    <tr>\n",
       "      <th>SVM CV</th>\n",
       "      <td>0.824561</td>\n",
       "      <td>0.898678</td>\n",
       "    </tr>\n",
       "    <tr>\n",
       "      <th>SVM Keras</th>\n",
       "      <td>0.947368</td>\n",
       "      <td>0.969163</td>\n",
       "    </tr>\n",
       "    <tr>\n",
       "      <th>SVM TV</th>\n",
       "      <td>0.473684</td>\n",
       "      <td>0.506608</td>\n",
       "    </tr>\n",
       "    <tr>\n",
       "      <th>XGB CV</th>\n",
       "      <td>1.000000</td>\n",
       "      <td>1.000000</td>\n",
       "    </tr>\n",
       "    <tr>\n",
       "      <th>XGB Keras</th>\n",
       "      <td>1.000000</td>\n",
       "      <td>1.000000</td>\n",
       "    </tr>\n",
       "    <tr>\n",
       "      <th>XGB TV</th>\n",
       "      <td>0.982456</td>\n",
       "      <td>1.000000</td>\n",
       "    </tr>\n",
       "  </tbody>\n",
       "</table>\n",
       "</div>"
      ],
      "text/plain": [
       "                 Test     Train\n",
       "AB CV        1.000000  1.000000\n",
       "AB Keras     1.000000  1.000000\n",
       "AB TV        1.000000  1.000000\n",
       "BNB CV       0.947368  0.977974\n",
       "BNB Keras    0.982456  0.977974\n",
       "BNB TV       0.947368  0.977974\n",
       "KNN CV       0.877193  0.977974\n",
       "KNN Keras    0.982456  0.991189\n",
       "KNN TV       1.000000  0.982379\n",
       "Keras CV     1.000000  1.000000\n",
       "Keras Keras  1.000000  1.000000\n",
       "Keras TV     1.000000  1.000000\n",
       "LR CV        1.000000  1.000000\n",
       "LR Keras     1.000000  1.000000\n",
       "LR TV        1.000000  1.000000\n",
       "MNB CV       0.964912  0.977974\n",
       "MNB Keras    0.982456  0.977974\n",
       "MNB TV       1.000000  0.982379\n",
       "RF CV        0.982456  1.000000\n",
       "RF Keras     1.000000  1.000000\n",
       "RF TV        1.000000  1.000000\n",
       "SVM CV       0.824561  0.898678\n",
       "SVM Keras    0.947368  0.969163\n",
       "SVM TV       0.473684  0.506608\n",
       "XGB CV       1.000000  1.000000\n",
       "XGB Keras    1.000000  1.000000\n",
       "XGB TV       0.982456  1.000000"
      ]
     },
     "execution_count": 119,
     "metadata": {},
     "output_type": "execute_result"
    }
   ],
   "source": [
    "pd.DataFrame({'Train': BMTR_acc_scores, \n",
    "              'Test': BMTE_acc_scores})"
   ]
  },
  {
   "cell_type": "markdown",
   "metadata": {},
   "source": [
    "Let's not try to optimize the models yet, as there are plenty of models that are producing 100% accuracy for train and test datasets\n",
    "\n",
    "Pick a few models, save, and predict the dataset:\n",
    "1. LR, \n",
    "2. AB, \n",
    "3. Keras, \n",
    "4. XGB"
   ]
  },
  {
   "cell_type": "code",
   "execution_count": 122,
   "metadata": {},
   "outputs": [
    {
     "name": "stdout",
     "output_type": "stream",
     "text": [
      "1.0\n",
      "1.0\n"
     ]
    },
    {
     "data": {
      "text/plain": [
       "['Models/BM_LR']"
      ]
     },
     "execution_count": 122,
     "metadata": {},
     "output_type": "execute_result"
    }
   ],
   "source": [
    "model = LogisticRegression()\n",
    "\n",
    "model.fit(Xtrain_TV, ytrain)\n",
    "\n",
    "#make sure we are looking at the right thing\n",
    "print(accuracy_score(ytrain, model.predict(Xtrain_TV)))\n",
    "print(accuracy_score(ytest, model.predict(Xtest_TV)))\n",
    "\n",
    "#to save\n",
    "model_name = 'Models/BM_LR'\n",
    "joblib.dump(model, model_name) "
   ]
  },
  {
   "cell_type": "code",
   "execution_count": 127,
   "metadata": {},
   "outputs": [
    {
     "name": "stdout",
     "output_type": "stream",
     "text": [
      "1.0\n",
      "1.0\n"
     ]
    },
    {
     "data": {
      "text/plain": [
       "['Models/BM_AB']"
      ]
     },
     "execution_count": 127,
     "metadata": {},
     "output_type": "execute_result"
    }
   ],
   "source": [
    "model = AdaBoostClassifier()\n",
    "\n",
    "model.fit(Xtrain_TV, ytrain)\n",
    "\n",
    "#make sure we are looking at the right thing\n",
    "print(accuracy_score(ytrain, model.predict(Xtrain_TV)))\n",
    "print(accuracy_score(ytest, model.predict(Xtest_TV)))\n",
    "\n",
    "#to save\n",
    "model_name = 'Models/BM_AB'\n",
    "joblib.dump(model, model_name) "
   ]
  },
  {
   "cell_type": "code",
   "execution_count": 128,
   "metadata": {
    "scrolled": true
   },
   "outputs": [
    {
     "name": "stdout",
     "output_type": "stream",
     "text": [
      "Train on 204 samples, validate on 23 samples\n",
      "Epoch 1/10\n",
      "204/204 [==============================] - 0s - loss: 0.4683 - acc: 0.9216 - val_loss: 0.1703 - val_acc: 1.0000\n",
      "Epoch 2/10\n",
      "204/204 [==============================] - 0s - loss: 0.0497 - acc: 1.0000 - val_loss: 0.0129 - val_acc: 1.0000\n",
      "Epoch 3/10\n",
      "204/204 [==============================] - 0s - loss: 0.0032 - acc: 1.0000 - val_loss: 0.0047 - val_acc: 1.0000\n",
      "Epoch 4/10\n",
      "204/204 [==============================] - 0s - loss: 0.0010 - acc: 1.0000 - val_loss: 0.0040 - val_acc: 1.0000\n",
      "Epoch 5/10\n",
      "204/204 [==============================] - 0s - loss: 6.6303e-04 - acc: 1.0000 - val_loss: 0.0039 - val_acc: 1.0000\n",
      "Epoch 6/10\n",
      "204/204 [==============================] - 0s - loss: 5.5139e-04 - acc: 1.0000 - val_loss: 0.0035 - val_acc: 1.0000\n",
      "Epoch 7/10\n",
      "204/204 [==============================] - 0s - loss: 3.5979e-04 - acc: 1.0000 - val_loss: 0.0033 - val_acc: 1.0000\n",
      "Epoch 8/10\n",
      "204/204 [==============================] - 0s - loss: 2.5460e-04 - acc: 1.0000 - val_loss: 0.0030 - val_acc: 1.0000\n",
      "Epoch 9/10\n",
      "204/204 [==============================] - 0s - loss: 2.2238e-04 - acc: 1.0000 - val_loss: 0.0029 - val_acc: 1.0000\n",
      "Epoch 10/10\n",
      "204/204 [==============================] - 0s - loss: 1.9242e-04 - acc: 1.0000 - val_loss: 0.0027 - val_acc: 1.0000\n",
      "1.0\n",
      "1.0\n"
     ]
    }
   ],
   "source": [
    "batch_size = 10\n",
    "epochs = 10\n",
    "model = keras_prelim()\n",
    "model.fit(Xtrain_TV.toarray(), ytrain_Keras, batch_size = batch_size, epochs = epochs, verbose = 1, validation_split = 0.1)\n",
    "\n",
    "#make sure we are looking at the right thing\n",
    "print(accuracy_score(ytrain, np.argmax(model.predict(Xtrain_TV.toarray()), axis = 1)))\n",
    "print(accuracy_score(ytest, np.argmax(model.predict(Xtest_TV.toarray()), axis = 1)))\n",
    "\n",
    "#to save\n",
    "model_name = 'Models/BM_Keras.h5'\n",
    "model.save_weights(model_name)"
   ]
  },
  {
   "cell_type": "code",
   "execution_count": 130,
   "metadata": {},
   "outputs": [
    {
     "name": "stdout",
     "output_type": "stream",
     "text": [
      "1.0\n",
      "0.9824561403508771\n"
     ]
    },
    {
     "name": "stderr",
     "output_type": "stream",
     "text": [
      "c:\\users\\inves\\appdata\\local\\programs\\python\\python35\\lib\\site-packages\\sklearn\\preprocessing\\label.py:171: DeprecationWarning: The truth value of an empty array is ambiguous. Returning False, but in future this will result in an error. Use `array.size > 0` to check that an array is not empty.\n",
      "  if diff:\n",
      "c:\\users\\inves\\appdata\\local\\programs\\python\\python35\\lib\\site-packages\\sklearn\\preprocessing\\label.py:171: DeprecationWarning: The truth value of an empty array is ambiguous. Returning False, but in future this will result in an error. Use `array.size > 0` to check that an array is not empty.\n",
      "  if diff:\n"
     ]
    },
    {
     "data": {
      "text/plain": [
       "['Models/BM_XGB']"
      ]
     },
     "execution_count": 130,
     "metadata": {},
     "output_type": "execute_result"
    }
   ],
   "source": [
    "model = XGBClassifier()\n",
    "\n",
    "model.fit(Xtrain_TV.toarray(), ytrain)\n",
    "\n",
    "#make sure we are looking at the right thing\n",
    "print(accuracy_score(ytrain, model.predict(Xtrain_TV.toarray())))\n",
    "print(accuracy_score(ytest, model.predict(Xtest_TV.toarray())))\n",
    "\n",
    "#to save\n",
    "model_name = 'Models/BM_XGB'\n",
    "joblib.dump(model, model_name) "
   ]
  },
  {
   "cell_type": "markdown",
   "metadata": {},
   "source": [
    "# BOOKMARK!!!!!!!!!"
   ]
  },
  {
   "cell_type": "code",
   "execution_count": null,
   "metadata": {},
   "outputs": [],
   "source": []
  },
  {
   "cell_type": "code",
   "execution_count": null,
   "metadata": {},
   "outputs": [],
   "source": []
  },
  {
   "cell_type": "code",
   "execution_count": null,
   "metadata": {},
   "outputs": [],
   "source": []
  },
  {
   "cell_type": "code",
   "execution_count": null,
   "metadata": {},
   "outputs": [],
   "source": []
  },
  {
   "cell_type": "code",
   "execution_count": null,
   "metadata": {},
   "outputs": [],
   "source": []
  },
  {
   "cell_type": "code",
   "execution_count": null,
   "metadata": {},
   "outputs": [],
   "source": []
  },
  {
   "cell_type": "code",
   "execution_count": null,
   "metadata": {},
   "outputs": [],
   "source": []
  },
  {
   "cell_type": "code",
   "execution_count": null,
   "metadata": {},
   "outputs": [],
   "source": []
  },
  {
   "cell_type": "code",
   "execution_count": null,
   "metadata": {},
   "outputs": [],
   "source": [
    "def gridsearch(model, param_grid, cvs, X, y, plot = False):\n",
    "\n",
    "    acc_by_cv = []\n",
    "    print('selecting best cv parameter:')\n",
    "    for cv in cvs:\n",
    "        cloned_model = clone(model, safe = True)\n",
    "        grid = GridSearchCV(cloned_model, param_grid = param_grid, n_jobs = 4, cv = cv)\n",
    "        grid.fit(X, y)\n",
    "        acc_by_cv.append(grid.best_score_)\n",
    "        print(cv, ': ')\n",
    "        print(grid.best_score_) #{'ABC': 0.92, 'KNNC': 0.8, 'LR': 0.928, 'MNB': 0.848, 'RFC': 0.944}\n",
    "        print(grid.best_estimator_)\n",
    "    \n",
    "    best_cv = cvs[np.argmax(acc_by_cv)]\n",
    "    print('\\nbest cv: ', best_cv)\n",
    "    \n",
    "    cloned_model = clone(model, safe = True)\n",
    "    grid = GridSearchCV(cloned_model, param_grid = param_grid, n_jobs = 4, cv = best_cv)\n",
    "    grid.fit(X, y)\n",
    "    print(grid.best_score_) #{'ABC': 0.92, 'KNNC': 0.8, 'LR': 0.928, 'MNB': 0.848, 'RFC': 0.944}\n",
    "    print(grid.best_estimator_)\n",
    "    print(grid.grid_scores_)\n",
    "    \n",
    "    if plot:\n",
    "        plt.plot(cvs, acc_by_cv)\n",
    "        plt.show()\n",
    "        \n",
    "    return grid.best_estimator_, pd.DataFrame(grid.grid_scores_), best_cv"
   ]
  },
  {
   "cell_type": "code",
   "execution_count": null,
   "metadata": {},
   "outputs": [],
   "source": [
    "t0 = time()\n",
    "cvs = range(2, 30)\n",
    "RF_dict = {}\n",
    "param_grid = {'n_estimators': range(5, 105, 5),\n",
    "              'max_features': ['auto', 'sqrt', 'log2', None]}\n",
    "for Xtrain, label in zip([Xtrain_Keras, Xtrain_CV, Xtrain_TV], ['Keras', 'CV', 'TV']):\n",
    "    model = RandomForestClassifier(n_jobs = 4)\n",
    "    RF_dict['opt model ' + label], RF_dict['summary df ' + label], RF_dict['cv ' + label] = gridsearch(model, param_grid, cvs, Xtrain, ytrain, plot = True)\n",
    "\n",
    "print('algo elapsed: {} seconds'.format(time() - t0))\n",
    "#CPU time: 10666.576189994812 seconds\n",
    "#AWS c5.large time: "
   ]
  },
  {
   "cell_type": "code",
   "execution_count": null,
   "metadata": {},
   "outputs": [],
   "source": [
    "print('top score was 0.944')\n",
    "for key in ['CV', 'TV', 'Keras']:\n",
    "    print('accuracy scores for {} is {}'.format(key, RF_dict['summary df ' + key]['mean_validation_score'].iloc[RF_dict['summary df ' + key]['mean_validation_score'].argmax()]))\n",
    "    print('parameters for model {} is {}'.format(key, RF_dict['summary df ' + key]['parameters'].iloc[RF_dict['summary df ' + key]['mean_validation_score'].argmax()]))"
   ]
  },
  {
   "cell_type": "code",
   "execution_count": null,
   "metadata": {},
   "outputs": [],
   "source": [
    "t0 = time()\n",
    "cvs = range(2, 30)\n",
    "AB_dict = {}\n",
    "param_grid = {'n_estimators': range(5, 105, 5),\n",
    "              'learning_rate': [0.01, 0.1, 0.5, 1, 2, 10, 100]}\n",
    "for Xtrain, label in zip([Xtrain_Keras, Xtrain_CV, Xtrain_TV], ['Keras', 'CV', 'TV']):\n",
    "    model = AdaBoostClassifier()\n",
    "    AB_dict['opt model ' + label], AB_dict['summary df ' + label], AB_dict['cv ' + label] = gridsearch(model, param_grid, cvs, Xtrain, ytrain, plot = True)\n",
    "\n",
    "print('algo elapsed: {} seconds'.format(time() - t0))\n",
    "#CPU time: 7522.84\n",
    "#AWS c5.large time: "
   ]
  },
  {
   "cell_type": "code",
   "execution_count": null,
   "metadata": {},
   "outputs": [],
   "source": [
    "print('top score was 0.944')\n",
    "for key in ['CV', 'TV', 'Keras']:\n",
    "    print('accuracy scores for {} is {}'.format(key, AB_dict['summary df ' + key]['mean_validation_score'].iloc[AB_dict['summary df ' + key]['mean_validation_score'].argmax()]))\n",
    "    print('parameters for model {} is {}'.format(key, AB_dict['summary df ' + key]['parameters'].iloc[AB_dict['summary df ' + key]['mean_validation_score'].argmax()]))"
   ]
  },
  {
   "cell_type": "code",
   "execution_count": null,
   "metadata": {},
   "outputs": [],
   "source": [
    "def keras1(input_shape):\n",
    "    model = Sequential()\n",
    "    model.add(Dense(1024, input_shape = (input_shape, )))\n",
    "    model.add(Activation('relu'))\n",
    "    model.add(Dense(num_classes))\n",
    "    model.add(Activation('softmax'))\n",
    "    \n",
    "    model.compile(loss = 'categorical_crossentropy', optimizer = 'adam', metrics = ['accuracy'])\n",
    "    return model\n",
    "\n",
    "def keras2(optimizer):\n",
    "    model = Sequential()\n",
    "    model.add(Dense(512, input_shape = (Xtrain_Keras.shape[1], )))\n",
    "    model.add(Activation('relu'))\n",
    "    model.add(Dense(num_classes))\n",
    "    model.add(Activation('softmax'))\n",
    "    model.compile(loss = 'categorical_crossentropy', optimizer = optimizer, metrics = ['accuracy'])\n",
    "    return model\n",
    "\n",
    "def keras3(optimizer):\n",
    "    model = Sequential()\n",
    "    model.add(Dense(512, input_shape = (Xtrain_Keras.shape[1], )))\n",
    "    model.add(Activation('relu'))\n",
    "    model.add(Dropout(0.2))\n",
    "    model.add(Dense(num_classes))\n",
    "    model.add(Activation('softmax'))\n",
    "    model.compile(loss = 'categorical_crossentropy', optimizer = optimizer, metrics = ['accuracy'])\n",
    "    return model\n",
    "\n",
    "def keras4(optimizer):\n",
    "    model = Sequential()\n",
    "    model.add(Dense(1024, input_shape = (Xtrain_Keras.shape[1], )))\n",
    "    model.add(Activation('relu'))\n",
    "    model.add(Dropout(0.2))\n",
    "    model.add(Dense(1024))\n",
    "    model.add(Activation('relu'))\n",
    "    model.add(Dropout(0.2))\n",
    "    model.add(Dense(num_classes))\n",
    "    model.add(Activation('softmax'))\n",
    "    model.compile(loss = 'categorical_crossentropy', optimizer = optimizer, metrics = ['accuracy'])\n",
    "    return model\n",
    "\n",
    "def keras5(optimizer):\n",
    "    model = Sequential()\n",
    "    model.add(Dense(512, input_shape = (Xtrain_Keras.shape[1], )))\n",
    "    model.add(Activation('relu'))\n",
    "    model.add(Dropout(0.2))\n",
    "    model.add(Dense(512))\n",
    "    model.add(Activation('relu'))\n",
    "    model.add(Dropout(0.2))\n",
    "    model.add(Dense(num_classes))\n",
    "    model.add(Activation('softmax'))\n",
    "    model.compile(loss = 'categorical_crossentropy', optimizer = optimizer, metrics = ['accuracy'])\n",
    "    return model"
   ]
  },
  {
   "cell_type": "code",
   "execution_count": null,
   "metadata": {},
   "outputs": [],
   "source": [
    "Xtrain = Xtrain_CV.toarray()\n",
    "param_grid = {'batch_size': [10, 20],\n",
    "              'epochs': [10, 20]}\n",
    "\n",
    "model = KerasClassifier(build_fn = keras1(Xtrain.shape[1]), verbose = 1)\n",
    "grid = GridSearchCV(estimator = model, param_grid = param_grid, n_jobs = 4)\n",
    "grid_result = grid.fit(Xtrain, ytrain_Keras)\n",
    "print(grid_result.best_params_)"
   ]
  },
  {
   "cell_type": "code",
   "execution_count": null,
   "metadata": {},
   "outputs": [],
   "source": []
  },
  {
   "cell_type": "code",
   "execution_count": null,
   "metadata": {},
   "outputs": [],
   "source": []
  },
  {
   "cell_type": "code",
   "execution_count": null,
   "metadata": {},
   "outputs": [],
   "source": []
  },
  {
   "cell_type": "code",
   "execution_count": null,
   "metadata": {},
   "outputs": [],
   "source": []
  },
  {
   "cell_type": "code",
   "execution_count": null,
   "metadata": {},
   "outputs": [],
   "source": []
  },
  {
   "cell_type": "code",
   "execution_count": null,
   "metadata": {},
   "outputs": [],
   "source": []
  },
  {
   "cell_type": "code",
   "execution_count": null,
   "metadata": {},
   "outputs": [],
   "source": []
  },
  {
   "cell_type": "code",
   "execution_count": null,
   "metadata": {},
   "outputs": [],
   "source": []
  },
  {
   "cell_type": "code",
   "execution_count": null,
   "metadata": {},
   "outputs": [],
   "source": []
  },
  {
   "cell_type": "code",
   "execution_count": null,
   "metadata": {},
   "outputs": [],
   "source": []
  },
  {
   "cell_type": "code",
   "execution_count": null,
   "metadata": {},
   "outputs": [],
   "source": []
  },
  {
   "cell_type": "code",
   "execution_count": null,
   "metadata": {},
   "outputs": [],
   "source": []
  },
  {
   "cell_type": "code",
   "execution_count": null,
   "metadata": {},
   "outputs": [],
   "source": []
  },
  {
   "cell_type": "code",
   "execution_count": null,
   "metadata": {},
   "outputs": [],
   "source": []
  },
  {
   "cell_type": "code",
   "execution_count": null,
   "metadata": {},
   "outputs": [],
   "source": []
  },
  {
   "cell_type": "code",
   "execution_count": null,
   "metadata": {},
   "outputs": [],
   "source": []
  },
  {
   "cell_type": "code",
   "execution_count": null,
   "metadata": {},
   "outputs": [],
   "source": []
  },
  {
   "cell_type": "code",
   "execution_count": null,
   "metadata": {},
   "outputs": [],
   "source": []
  },
  {
   "cell_type": "code",
   "execution_count": null,
   "metadata": {},
   "outputs": [],
   "source": []
  },
  {
   "cell_type": "code",
   "execution_count": null,
   "metadata": {},
   "outputs": [],
   "source": []
  },
  {
   "cell_type": "code",
   "execution_count": null,
   "metadata": {},
   "outputs": [],
   "source": []
  },
  {
   "cell_type": "code",
   "execution_count": null,
   "metadata": {},
   "outputs": [],
   "source": []
  },
  {
   "cell_type": "code",
   "execution_count": null,
   "metadata": {},
   "outputs": [],
   "source": []
  },
  {
   "cell_type": "code",
   "execution_count": null,
   "metadata": {},
   "outputs": [],
   "source": []
  },
  {
   "cell_type": "code",
   "execution_count": null,
   "metadata": {},
   "outputs": [],
   "source": []
  },
  {
   "cell_type": "code",
   "execution_count": null,
   "metadata": {},
   "outputs": [],
   "source": []
  },
  {
   "cell_type": "code",
   "execution_count": null,
   "metadata": {},
   "outputs": [],
   "source": []
  },
  {
   "cell_type": "code",
   "execution_count": null,
   "metadata": {},
   "outputs": [],
   "source": []
  },
  {
   "cell_type": "code",
   "execution_count": null,
   "metadata": {},
   "outputs": [],
   "source": []
  },
  {
   "cell_type": "code",
   "execution_count": null,
   "metadata": {},
   "outputs": [],
   "source": []
  },
  {
   "cell_type": "code",
   "execution_count": null,
   "metadata": {},
   "outputs": [],
   "source": []
  },
  {
   "cell_type": "code",
   "execution_count": null,
   "metadata": {},
   "outputs": [],
   "source": []
  },
  {
   "cell_type": "code",
   "execution_count": null,
   "metadata": {},
   "outputs": [],
   "source": []
  },
  {
   "cell_type": "code",
   "execution_count": null,
   "metadata": {},
   "outputs": [],
   "source": []
  },
  {
   "cell_type": "code",
   "execution_count": null,
   "metadata": {},
   "outputs": [],
   "source": []
  },
  {
   "cell_type": "code",
   "execution_count": null,
   "metadata": {},
   "outputs": [],
   "source": []
  },
  {
   "cell_type": "code",
   "execution_count": null,
   "metadata": {},
   "outputs": [],
   "source": []
  }
 ],
 "metadata": {
  "kernelspec": {
   "display_name": "Python 3",
   "language": "python",
   "name": "python3"
  },
  "language_info": {
   "codemirror_mode": {
    "name": "ipython",
    "version": 3
   },
   "file_extension": ".py",
   "mimetype": "text/x-python",
   "name": "python",
   "nbconvert_exporter": "python",
   "pygments_lexer": "ipython3",
   "version": "3.5.3"
  }
 },
 "nbformat": 4,
 "nbformat_minor": 2
}
