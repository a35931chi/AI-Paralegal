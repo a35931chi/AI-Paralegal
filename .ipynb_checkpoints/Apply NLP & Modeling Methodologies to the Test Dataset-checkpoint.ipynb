{
 "cells": [
  {
   "cell_type": "code",
   "execution_count": 1,
   "metadata": {},
   "outputs": [],
   "source": [
    "import nltk\n",
    "from nltk.tag.stanford import StanfordNERTagger\n",
    "from nltk.stem import WordNetLemmatizer\n",
    "from nltk.corpus import wordnet, stopwords\n",
    "from nltk import pos_tag, ne_chunk\n",
    "from nltk.tokenize import word_tokenize\n",
    "from nltk.chunk import conlltags2tree, tree2conlltags\n",
    "\n",
    "sw = stopwords.words(\"english\")\n",
    "\n",
    "path_to_model = r'C:\\Users\\inves\\AppData\\Local\\Programs\\Python\\Python35\\Lib\\site-packages\\nltk\\stanford-ner-2018-02-27\\classifiers\\english.all.3class.distsim.crf.ser.gz'\n",
    "path_to_jar = r'C:\\Users\\inves\\AppData\\Local\\Programs\\Python\\Python35\\Lib\\site-packages\\nltk\\stanford-ner-2018-02-27\\stanford-ner.jar'\n",
    "tagger = StanfordNERTagger(path_to_model, path_to_jar = path_to_jar)"
   ]
  },
  {
   "cell_type": "code",
   "execution_count": 2,
   "metadata": {},
   "outputs": [
    {
     "name": "stderr",
     "output_type": "stream",
     "text": [
      "c:\\users\\inves\\appdata\\local\\programs\\python\\python35\\lib\\site-packages\\gensim\\utils.py:1197: UserWarning: detected Windows; aliasing chunkize to chunkize_serial\n",
      "  warnings.warn(\"detected Windows; aliasing chunkize to chunkize_serial\")\n"
     ]
    }
   ],
   "source": [
    "from gensim.models.word2vec import LineSentence\n",
    "from gensim.models import Phrases\n",
    "from gensim.corpora import Dictionary, MmCorpus\n",
    "from gensim.models.ldamulticore import LdaMulticore\n",
    "\n",
    "#visualization libraries\n",
    "import pyLDAvis\n",
    "import pyLDAvis.gensim"
   ]
  },
  {
   "cell_type": "code",
   "execution_count": 3,
   "metadata": {},
   "outputs": [],
   "source": [
    "import os\n",
    "import pandas as pd\n",
    "import numpy as np\n",
    "import codecs\n",
    "import itertools as it\n",
    "from bs4 import BeautifulSoup\n",
    "import warnings\n",
    "import pickle\n",
    "from collections import Counter\n",
    "import re\n",
    "import datetime\n",
    "import string\n",
    "import time\n",
    "\n",
    "java_path = 'C:/Program Files/Java/jdk-10.0.1/bin/java.exe'\n",
    "os.environ['JAVAHOME'] = java_path"
   ]
  },
  {
   "cell_type": "code",
   "execution_count": 4,
   "metadata": {},
   "outputs": [
    {
     "name": "stdout",
     "output_type": "stream",
     "text": [
      "[nltk_data] Downloading package words to\n",
      "[nltk_data]     C:\\Users\\inves\\AppData\\Roaming\\nltk_data...\n",
      "[nltk_data]   Package words is already up-to-date!\n",
      "[nltk_data] Downloading package averaged_perceptron_tagger to\n",
      "[nltk_data]     C:\\Users\\inves\\AppData\\Roaming\\nltk_data...\n",
      "[nltk_data]   Package averaged_perceptron_tagger is already up-to-\n",
      "[nltk_data]       date!\n",
      "[nltk_data] Downloading package maxent_ne_chunker to\n",
      "[nltk_data]     C:\\Users\\inves\\AppData\\Roaming\\nltk_data...\n",
      "[nltk_data]   Package maxent_ne_chunker is already up-to-date!\n"
     ]
    },
    {
     "data": {
      "text/plain": [
       "True"
      ]
     },
     "execution_count": 4,
     "metadata": {},
     "output_type": "execute_result"
    }
   ],
   "source": [
    "nltk.download('words')\n",
    "nltk.download('averaged_perceptron_tagger')\n",
    "nltk.download('maxent_ne_chunker')"
   ]
  },
  {
   "cell_type": "code",
   "execution_count": 10,
   "metadata": {},
   "outputs": [],
   "source": [
    "#import corpus/docket texts from html to pandas DataFrame\n",
    "def grab_docket_text():\n",
    "    files = []\n",
    "    #get all .html files in the folder (all docket files are in .html)\n",
    "    for file in os.listdir('docket_texts/Test/'):\n",
    "        if file.endswith('.html'):\n",
    "            files.append(os.path.join('docket_texts/Test/', file))\n",
    "\n",
    "    df_docket_texts = pd.DataFrame()\n",
    "    \n",
    "    for i in range(len(files)): #gather all docket texts\n",
    "    #for i in [0, 1]: #for testing purposes\n",
    "        \n",
    "        content = codecs.open(files[i], 'r', 'utf-8').read()\n",
    "        #use beautiful soup to get the case ID\n",
    "        soup = BeautifulSoup(content, 'lxml')\n",
    "        case_id = str(soup.find_all('h3'))    \n",
    "        bookmark1 = case_id.find('CASE #:') + len('CASE #:')\n",
    "        bookmark2 = case_id.find('</h3>')\n",
    "        case_id = case_id[bookmark1:bookmark2]\n",
    "\n",
    "        #use pandas to grab tables in the html files\n",
    "        docket_tables = pd.read_html(content)\n",
    "\n",
    "        #error checking: gotta do this because there's different length of docket_list/\n",
    "        #usually docket texts are in docket_list[3], but not always\n",
    "        n = 0\n",
    "        while docket_tables[n].isin(['Docket Text']).sum().sum() == 0:\n",
    "            #print(n, docket_tables[n].isin(['Docket Text']).sum().sum())\n",
    "            n += 1\n",
    "                        \n",
    "        print(i, files[i])\n",
    "        #print(docket_tables[n].head())\n",
    "\n",
    "        #docket_tables[n] is the docket text table\n",
    "        new_header = docket_tables[n].iloc[0]\n",
    "        docket_tables[n] = docket_tables[n][1:]\n",
    "        docket_tables[n].columns = new_header\n",
    "        \n",
    "        docket_tables[n]['#'] = pd.to_numeric(docket_tables[n]['#'],\n",
    "                                              downcast = 'signed', errors = 'coerce')\n",
    "        docket_tables[n]['Date Filed'] = pd.to_datetime(docket_tables[n]['Date Filed'])\n",
    "        docket_tables[n]['Case ID'] = case_id\n",
    "\n",
    "        df_docket_texts = pd.concat([df_docket_texts, docket_tables[n]])\n",
    "    #reorder a column\n",
    "    cols = list(df_docket_texts.columns)\n",
    "    df_docket_texts = df_docket_texts[[cols[-1]] + cols[:-1]]\n",
    "    \n",
    "    print('current docket text table size/shape: {}'.format(df_docket_texts.shape))\n",
    "    return df_docket_texts"
   ]
  },
  {
   "cell_type": "code",
   "execution_count": 11,
   "metadata": {
    "scrolled": true
   },
   "outputs": [
    {
     "name": "stderr",
     "output_type": "stream",
     "text": [
      "c:\\users\\inves\\appdata\\local\\programs\\python\\python35\\lib\\site-packages\\bs4\\builder\\_lxml.py:250: DeprecationWarning: inspect.getargspec() is deprecated, use inspect.signature() instead\n",
      "  self.parser.feed(markup)\n",
      "c:\\users\\inves\\appdata\\local\\programs\\python\\python35\\lib\\site-packages\\bs4\\builder\\_lxml.py:250: DeprecationWarning: inspect.getargspec() is deprecated, use inspect.signature() instead\n",
      "  self.parser.feed(markup)\n"
     ]
    },
    {
     "name": "stdout",
     "output_type": "stream",
     "text": [
      "0 docket_texts/Test/SDNY_00015.html\n",
      "1 docket_texts/Test/SDNY_00037.html\n",
      "2 "
     ]
    },
    {
     "name": "stderr",
     "output_type": "stream",
     "text": [
      "c:\\users\\inves\\appdata\\local\\programs\\python\\python35\\lib\\site-packages\\bs4\\builder\\_lxml.py:250: DeprecationWarning: inspect.getargspec() is deprecated, use inspect.signature() instead\n",
      "  self.parser.feed(markup)\n",
      "c:\\users\\inves\\appdata\\local\\programs\\python\\python35\\lib\\site-packages\\bs4\\builder\\_lxml.py:250: DeprecationWarning: inspect.getargspec() is deprecated, use inspect.signature() instead\n",
      "  self.parser.feed(markup)\n"
     ]
    },
    {
     "name": "stdout",
     "output_type": "stream",
     "text": [
      "docket_texts/Test/SDNY_00039.html\n",
      "3 docket_texts/Test/SDNY_00097.html\n",
      "4 docket_texts/Test/SDNY_00130.html"
     ]
    },
    {
     "name": "stderr",
     "output_type": "stream",
     "text": [
      "c:\\users\\inves\\appdata\\local\\programs\\python\\python35\\lib\\site-packages\\bs4\\builder\\_lxml.py:250: DeprecationWarning: inspect.getargspec() is deprecated, use inspect.signature() instead\n",
      "  self.parser.feed(markup)\n",
      "c:\\users\\inves\\appdata\\local\\programs\\python\\python35\\lib\\site-packages\\bs4\\builder\\_lxml.py:250: DeprecationWarning: inspect.getargspec() is deprecated, use inspect.signature() instead\n",
      "  self.parser.feed(markup)\n",
      "c:\\users\\inves\\appdata\\local\\programs\\python\\python35\\lib\\site-packages\\bs4\\builder\\_lxml.py:250: DeprecationWarning: inspect.getargspec() is deprecated, use inspect.signature() instead\n",
      "  self.parser.feed(markup)\n",
      "c:\\users\\inves\\appdata\\local\\programs\\python\\python35\\lib\\site-packages\\bs4\\builder\\_lxml.py:250: DeprecationWarning: inspect.getargspec() is deprecated, use inspect.signature() instead\n",
      "  self.parser.feed(markup)\n"
     ]
    },
    {
     "name": "stdout",
     "output_type": "stream",
     "text": [
      "\n",
      "5 docket_texts/Test/SDNY_00659.html\n",
      "6 docket_texts/Test/SDNY_00792.html\n",
      "7 "
     ]
    },
    {
     "name": "stderr",
     "output_type": "stream",
     "text": [
      "c:\\users\\inves\\appdata\\local\\programs\\python\\python35\\lib\\site-packages\\bs4\\builder\\_lxml.py:250: DeprecationWarning: inspect.getargspec() is deprecated, use inspect.signature() instead\n",
      "  self.parser.feed(markup)\n",
      "c:\\users\\inves\\appdata\\local\\programs\\python\\python35\\lib\\site-packages\\bs4\\builder\\_lxml.py:250: DeprecationWarning: inspect.getargspec() is deprecated, use inspect.signature() instead\n",
      "  self.parser.feed(markup)\n"
     ]
    },
    {
     "name": "stdout",
     "output_type": "stream",
     "text": [
      "docket_texts/Test/SDNY_01179.html\n",
      "8 docket_texts/Test/SDNY_02023.html\n",
      "9 docket_texts/Test/SDNY_04407.html\n",
      "10"
     ]
    },
    {
     "name": "stderr",
     "output_type": "stream",
     "text": [
      "c:\\users\\inves\\appdata\\local\\programs\\python\\python35\\lib\\site-packages\\bs4\\builder\\_lxml.py:250: DeprecationWarning: inspect.getargspec() is deprecated, use inspect.signature() instead\n",
      "  self.parser.feed(markup)\n",
      "c:\\users\\inves\\appdata\\local\\programs\\python\\python35\\lib\\site-packages\\bs4\\builder\\_lxml.py:250: DeprecationWarning: inspect.getargspec() is deprecated, use inspect.signature() instead\n",
      "  self.parser.feed(markup)\n"
     ]
    },
    {
     "name": "stdout",
     "output_type": "stream",
     "text": [
      " docket_texts/Test/SDNY_05271.html\n",
      "11 docket_texts/Test/SDNY_06374.html\n",
      "12 docket_texts/Test/SDNY_06513.html\n"
     ]
    },
    {
     "name": "stderr",
     "output_type": "stream",
     "text": [
      "c:\\users\\inves\\appdata\\local\\programs\\python\\python35\\lib\\site-packages\\bs4\\builder\\_lxml.py:250: DeprecationWarning: inspect.getargspec() is deprecated, use inspect.signature() instead\n",
      "  self.parser.feed(markup)\n",
      "c:\\users\\inves\\appdata\\local\\programs\\python\\python35\\lib\\site-packages\\bs4\\builder\\_lxml.py:250: DeprecationWarning: inspect.getargspec() is deprecated, use inspect.signature() instead\n",
      "  self.parser.feed(markup)\n"
     ]
    },
    {
     "name": "stdout",
     "output_type": "stream",
     "text": [
      "13 docket_texts/Test/SDNY_07898.html\n",
      "14 docket_texts/Test/SDNY_09696.html\n",
      "current docket text table size/shape: (1804, 4)\n",
      "docket text 0\n",
      "FILING ERROR - DEFICIENT PLEADING - FILED AGAINST PARTY ERROR COMPLAINT against All Defendants. (Filing Fee $ 400.00, Receipt Number 0208-11793625)Document filed by Majid Soueidan.(Rosen, Samuel) Modified on 1/5/2016 (pc). (Entered: 01/04/2016) \n",
      "\n",
      "docket text 1\n",
      "FILING ERROR PDF ERROR CIVIL COVER SHEET filed. (Rosen, Samuel) Modified on 1/5/2016 (pc). (Entered: 01/04/2016) \n",
      "\n",
      "docket text 2\n",
      "REQUEST FOR ISSUANCE OF SUMMONS as to BREEZE-EASTERN CORPORATION, BRAD PEDERSEN, ROBERT J. KELLY, NELSON OBUS, WILLIAM M. SHOCKLEY, and SERGE DUPUIS, re: 1 Complaint. Document filed by Majid Soueidan. (Rosen, Samuel) (Entered: 01/04/2016) \n",
      "\n",
      "docket text 3\n",
      "RULE 7.1 CORPORATE DISCLOSURE STATEMENT. No Corporate Parent. Document filed by Majid Soueidan.(Rosen, Samuel) (Entered: 01/04/2016) \n",
      "\n",
      "docket text 4\n",
      "***NOTICE TO ATTORNEY REGARDING DEFICIENT PLEADING. Notice to Attorney Samuel Kenneth Rosen to RE-FILE Document No. 1 Complaint,. The filing is deficient for the following reason(s): the All Defendant radio button was selected. Re-file the pleading using the event type Complaint found under the event list Complaints and Other Initiating Documents - attach the correct signed PDF - select the individually named filer/filers - select the individually named party/parties the pleading is against. (pc) (Entered: 01/05/2016) \n",
      "\n",
      "Wall time: 2.04 s\n"
     ]
    },
    {
     "name": "stderr",
     "output_type": "stream",
     "text": [
      "c:\\users\\inves\\appdata\\local\\programs\\python\\python35\\lib\\site-packages\\bs4\\builder\\_lxml.py:250: DeprecationWarning: inspect.getargspec() is deprecated, use inspect.signature() instead\n",
      "  self.parser.feed(markup)\n"
     ]
    }
   ],
   "source": [
    "%%time\n",
    "df = grab_docket_text()\n",
    "docket_original = list(df['Docket Text'])\n",
    "for i in range(5):\n",
    "    print('docket text {}'.format(i))\n",
    "    print(docket_original[i], '\\n')"
   ]
  },
  {
   "cell_type": "code",
   "execution_count": 12,
   "metadata": {},
   "outputs": [
    {
     "name": "stdout",
     "output_type": "stream",
     "text": [
      "Wall time: 50min 37s\n"
     ]
    }
   ],
   "source": [
    "%%time\n",
    "path_to_model = r'C:\\Users\\inves\\AppData\\Local\\Programs\\Python\\Python35\\Lib\\site-packages\\nltk\\stanford-ner-2018-02-27\\classifiers\\english.all.3class.distsim.crf.ser.gz'\n",
    "path_to_jar = r'C:\\Users\\inves\\AppData\\Local\\Programs\\Python\\Python35\\Lib\\site-packages\\nltk\\stanford-ner-2018-02-27\\stanford-ner.jar'\n",
    "tagger = StanfordNERTagger(path_to_model, path_to_jar = path_to_jar)\n",
    "\n",
    "output = []\n",
    "#length = 10\n",
    "length = len(docket_original)\n",
    "for i in range(length):\n",
    "    org_str = []\n",
    "    name_str = []\n",
    "    stripped_str1 = []\n",
    "    stripped_str2 = []\n",
    "    tokens = nltk.tokenize.word_tokenize(docket_original[i])\n",
    "    #print(tokens)\n",
    "    for label, token in zip(tagger.tag(tokens), tokens):\n",
    "        #print(label)\n",
    "        if label[1] == 'ORGANIZATION':\n",
    "            org_str.append(label[0])\n",
    "            stripped_str1.append('-ORG-')\n",
    "        elif label[1] == 'PERSON':\n",
    "            name_str.append(label[0])\n",
    "            stripped_str1.append('-NAME-')\n",
    "        else:\n",
    "            stripped_str1.append(token)\n",
    "            stripped_str2.append(token)\n",
    "    \n",
    "    output.append([docket_original[i],\n",
    "                   ' '.join(org_str),\n",
    "                   ' '.join(name_str),\n",
    "                   ' '.join(stripped_str1),\n",
    "                   ' '.join(stripped_str2)])"
   ]
  },
  {
   "cell_type": "code",
   "execution_count": 13,
   "metadata": {},
   "outputs": [],
   "source": [
    "NER_df = pd.DataFrame(output, columns = ['Original Docket Text', 'Organization Portion', 'Name Portion', \n",
    "                                         'Identifying Org and Name', 'Stripped Org and Name'])"
   ]
  },
  {
   "cell_type": "code",
   "execution_count": 14,
   "metadata": {},
   "outputs": [
    {
     "name": "stdout",
     "output_type": "stream",
     "text": [
      "(1804, 5)\n"
     ]
    },
    {
     "data": {
      "text/html": [
       "<div>\n",
       "<table border=\"1\" class=\"dataframe\">\n",
       "  <thead>\n",
       "    <tr style=\"text-align: right;\">\n",
       "      <th></th>\n",
       "      <th>Original Docket Text</th>\n",
       "      <th>Organization Portion</th>\n",
       "      <th>Name Portion</th>\n",
       "      <th>Identifying Org and Name</th>\n",
       "      <th>Stripped Org and Name</th>\n",
       "    </tr>\n",
       "  </thead>\n",
       "  <tbody>\n",
       "    <tr>\n",
       "      <th>0</th>\n",
       "      <td>FILING ERROR - DEFICIENT PLEADING - FILED AGAI...</td>\n",
       "      <td></td>\n",
       "      <td>Majid Soueidan Rosen Samuel</td>\n",
       "      <td>FILING ERROR - DEFICIENT PLEADING - FILED AGAI...</td>\n",
       "      <td>FILING ERROR - DEFICIENT PLEADING - FILED AGAI...</td>\n",
       "    </tr>\n",
       "    <tr>\n",
       "      <th>1</th>\n",
       "      <td>FILING ERROR PDF ERROR CIVIL COVER SHEET filed...</td>\n",
       "      <td></td>\n",
       "      <td>Rosen Samuel</td>\n",
       "      <td>FILING ERROR PDF ERROR CIVIL COVER SHEET filed...</td>\n",
       "      <td>FILING ERROR PDF ERROR CIVIL COVER SHEET filed...</td>\n",
       "    </tr>\n",
       "    <tr>\n",
       "      <th>2</th>\n",
       "      <td>REQUEST FOR ISSUANCE OF SUMMONS as to BREEZE-E...</td>\n",
       "      <td></td>\n",
       "      <td>BRAD PEDERSEN ROBERT J. KELLY NELSON OBUS WILL...</td>\n",
       "      <td>REQUEST FOR ISSUANCE OF SUMMONS as to BREEZE-E...</td>\n",
       "      <td>REQUEST FOR ISSUANCE OF SUMMONS as to BREEZE-E...</td>\n",
       "    </tr>\n",
       "    <tr>\n",
       "      <th>3</th>\n",
       "      <td>RULE 7.1 CORPORATE DISCLOSURE STATEMENT. No Co...</td>\n",
       "      <td></td>\n",
       "      <td>Majid Soueidan Rosen Samuel</td>\n",
       "      <td>RULE 7.1 CORPORATE DISCLOSURE STATEMENT . No C...</td>\n",
       "      <td>RULE 7.1 CORPORATE DISCLOSURE STATEMENT . No C...</td>\n",
       "    </tr>\n",
       "    <tr>\n",
       "      <th>4</th>\n",
       "      <td>***NOTICE TO ATTORNEY REGARDING DEFICIENT PLEA...</td>\n",
       "      <td></td>\n",
       "      <td>Samuel Kenneth Rosen</td>\n",
       "      <td>***NOTICE TO ATTORNEY REGARDING DEFICIENT PLEA...</td>\n",
       "      <td>***NOTICE TO ATTORNEY REGARDING DEFICIENT PLEA...</td>\n",
       "    </tr>\n",
       "  </tbody>\n",
       "</table>\n",
       "</div>"
      ],
      "text/plain": [
       "                                Original Docket Text Organization Portion  \\\n",
       "0  FILING ERROR - DEFICIENT PLEADING - FILED AGAI...                        \n",
       "1  FILING ERROR PDF ERROR CIVIL COVER SHEET filed...                        \n",
       "2  REQUEST FOR ISSUANCE OF SUMMONS as to BREEZE-E...                        \n",
       "3  RULE 7.1 CORPORATE DISCLOSURE STATEMENT. No Co...                        \n",
       "4  ***NOTICE TO ATTORNEY REGARDING DEFICIENT PLEA...                        \n",
       "\n",
       "                                        Name Portion  \\\n",
       "0                        Majid Soueidan Rosen Samuel   \n",
       "1                                       Rosen Samuel   \n",
       "2  BRAD PEDERSEN ROBERT J. KELLY NELSON OBUS WILL...   \n",
       "3                        Majid Soueidan Rosen Samuel   \n",
       "4                               Samuel Kenneth Rosen   \n",
       "\n",
       "                            Identifying Org and Name  \\\n",
       "0  FILING ERROR - DEFICIENT PLEADING - FILED AGAI...   \n",
       "1  FILING ERROR PDF ERROR CIVIL COVER SHEET filed...   \n",
       "2  REQUEST FOR ISSUANCE OF SUMMONS as to BREEZE-E...   \n",
       "3  RULE 7.1 CORPORATE DISCLOSURE STATEMENT . No C...   \n",
       "4  ***NOTICE TO ATTORNEY REGARDING DEFICIENT PLEA...   \n",
       "\n",
       "                               Stripped Org and Name  \n",
       "0  FILING ERROR - DEFICIENT PLEADING - FILED AGAI...  \n",
       "1  FILING ERROR PDF ERROR CIVIL COVER SHEET filed...  \n",
       "2  REQUEST FOR ISSUANCE OF SUMMONS as to BREEZE-E...  \n",
       "3  RULE 7.1 CORPORATE DISCLOSURE STATEMENT . No C...  \n",
       "4  ***NOTICE TO ATTORNEY REGARDING DEFICIENT PLEA...  "
      ]
     },
     "execution_count": 14,
     "metadata": {},
     "output_type": "execute_result"
    }
   ],
   "source": [
    "print(NER_df.shape)\n",
    "NER_df.head()"
   ]
  },
  {
   "cell_type": "code",
   "execution_count": 15,
   "metadata": {},
   "outputs": [],
   "source": [
    "#to save\n",
    "filename = 'docket_texts/test/DT/basic_df.pickle'\n",
    "with open(filename, 'wb') as handle: \n",
    "    pickle.dump(NER_df, handle, protocol = pickle.HIGHEST_PROTOCOL)"
   ]
  },
  {
   "cell_type": "code",
   "execution_count": 16,
   "metadata": {},
   "outputs": [
    {
     "name": "stdout",
     "output_type": "stream",
     "text": [
      "(1804, 5)\n",
      "(1797, 5)\n"
     ]
    },
    {
     "data": {
      "text/html": [
       "<div>\n",
       "<table border=\"1\" class=\"dataframe\">\n",
       "  <thead>\n",
       "    <tr style=\"text-align: right;\">\n",
       "      <th></th>\n",
       "      <th>Original Docket Text</th>\n",
       "      <th>Organization Portion</th>\n",
       "      <th>Name Portion</th>\n",
       "      <th>Identifying Org and Name</th>\n",
       "      <th>Stripped Org and Name</th>\n",
       "    </tr>\n",
       "  </thead>\n",
       "  <tbody>\n",
       "    <tr>\n",
       "      <th>0</th>\n",
       "      <td>FILING ERROR - DEFICIENT PLEADING - FILED AGAI...</td>\n",
       "      <td></td>\n",
       "      <td>Majid Soueidan Rosen Samuel</td>\n",
       "      <td>FILING ERROR - DEFICIENT PLEADING - FILED AGAI...</td>\n",
       "      <td>FILING ERROR - DEFICIENT PLEADING - FILED AGAI...</td>\n",
       "    </tr>\n",
       "    <tr>\n",
       "      <th>1</th>\n",
       "      <td>FILING ERROR PDF ERROR CIVIL COVER SHEET filed...</td>\n",
       "      <td></td>\n",
       "      <td>Rosen Samuel</td>\n",
       "      <td>FILING ERROR PDF ERROR CIVIL COVER SHEET filed...</td>\n",
       "      <td>FILING ERROR PDF ERROR CIVIL COVER SHEET filed...</td>\n",
       "    </tr>\n",
       "    <tr>\n",
       "      <th>2</th>\n",
       "      <td>REQUEST FOR ISSUANCE OF SUMMONS as to BREEZE-E...</td>\n",
       "      <td></td>\n",
       "      <td>BRAD PEDERSEN ROBERT J. KELLY NELSON OBUS WILL...</td>\n",
       "      <td>REQUEST FOR ISSUANCE OF SUMMONS as to BREEZE-E...</td>\n",
       "      <td>REQUEST FOR ISSUANCE OF SUMMONS as to BREEZE-E...</td>\n",
       "    </tr>\n",
       "    <tr>\n",
       "      <th>3</th>\n",
       "      <td>RULE 7.1 CORPORATE DISCLOSURE STATEMENT. No Co...</td>\n",
       "      <td></td>\n",
       "      <td>Majid Soueidan Rosen Samuel</td>\n",
       "      <td>RULE 7.1 CORPORATE DISCLOSURE STATEMENT . No C...</td>\n",
       "      <td>RULE 7.1 CORPORATE DISCLOSURE STATEMENT . No C...</td>\n",
       "    </tr>\n",
       "    <tr>\n",
       "      <th>4</th>\n",
       "      <td>***NOTICE TO ATTORNEY REGARDING DEFICIENT PLEA...</td>\n",
       "      <td></td>\n",
       "      <td>Samuel Kenneth Rosen</td>\n",
       "      <td>***NOTICE TO ATTORNEY REGARDING DEFICIENT PLEA...</td>\n",
       "      <td>***NOTICE TO ATTORNEY REGARDING DEFICIENT PLEA...</td>\n",
       "    </tr>\n",
       "  </tbody>\n",
       "</table>\n",
       "</div>"
      ],
      "text/plain": [
       "                                Original Docket Text Organization Portion  \\\n",
       "0  FILING ERROR - DEFICIENT PLEADING - FILED AGAI...                        \n",
       "1  FILING ERROR PDF ERROR CIVIL COVER SHEET filed...                        \n",
       "2  REQUEST FOR ISSUANCE OF SUMMONS as to BREEZE-E...                        \n",
       "3  RULE 7.1 CORPORATE DISCLOSURE STATEMENT. No Co...                        \n",
       "4  ***NOTICE TO ATTORNEY REGARDING DEFICIENT PLEA...                        \n",
       "\n",
       "                                        Name Portion  \\\n",
       "0                        Majid Soueidan Rosen Samuel   \n",
       "1                                       Rosen Samuel   \n",
       "2  BRAD PEDERSEN ROBERT J. KELLY NELSON OBUS WILL...   \n",
       "3                        Majid Soueidan Rosen Samuel   \n",
       "4                               Samuel Kenneth Rosen   \n",
       "\n",
       "                            Identifying Org and Name  \\\n",
       "0  FILING ERROR - DEFICIENT PLEADING - FILED AGAI...   \n",
       "1  FILING ERROR PDF ERROR CIVIL COVER SHEET filed...   \n",
       "2  REQUEST FOR ISSUANCE OF SUMMONS as to BREEZE-E...   \n",
       "3  RULE 7.1 CORPORATE DISCLOSURE STATEMENT . No C...   \n",
       "4  ***NOTICE TO ATTORNEY REGARDING DEFICIENT PLEA...   \n",
       "\n",
       "                               Stripped Org and Name  \n",
       "0  FILING ERROR - DEFICIENT PLEADING - FILED AGAI...  \n",
       "1  FILING ERROR PDF ERROR CIVIL COVER SHEET filed...  \n",
       "2  REQUEST FOR ISSUANCE OF SUMMONS as to BREEZE-E...  \n",
       "3  RULE 7.1 CORPORATE DISCLOSURE STATEMENT . No C...  \n",
       "4  ***NOTICE TO ATTORNEY REGARDING DEFICIENT PLEA...  "
      ]
     },
     "execution_count": 16,
     "metadata": {},
     "output_type": "execute_result"
    }
   ],
   "source": [
    "#to load\n",
    "with open(filename, 'rb') as handle:\n",
    "    NER_df = pickle.load(handle)\n",
    "    \n",
    "new_df = NER_df.copy()\n",
    "print(new_df.shape)\n",
    "print(new_df.drop_duplicates().shape)\n",
    "new_df.head()"
   ]
  },
  {
   "cell_type": "code",
   "execution_count": 17,
   "metadata": {},
   "outputs": [],
   "source": [
    "### Normalize\n",
    "def normalize(docket_original):\n",
    "\n",
    "    url_regex1 = r\"\"\"(?i)\\b((?:https?:(?:/{1,3}|[a-z0-9%])|[a-z0-9.\\-]+[.](?:com|net|org|edu|gov|mil|aero|asia|biz|cat|coop|info|int|jobs|mobi|museum|name|post|pro|tel|travel|xxx|ac|ad|ae|af|ag|ai|al|am|an|ao|aq|ar|as|at|au|aw|ax|az|ba|bb|bd|be|bf|bg|bh|bi|bj|bm|bn|bo|br|bs|bt|bv|bw|by|bz|ca|cc|cd|cf|cg|ch|ci|ck|cl|cm|cn|co|cr|cs|cu|cv|cx|cy|cz|dd|de|dj|dk|dm|do|dz|ec|ee|eg|eh|er|es|et|eu|fi|fj|fk|fm|fo|fr|ga|gb|gd|ge|gf|gg|gh|gi|gl|gm|gn|gp|gq|gr|gs|gt|gu|gw|gy|hk|hm|hn|hr|ht|hu|id|ie|il|im|in|io|iq|ir|is|it|je|jm|jo|jp|ke|kg|kh|ki|km|kn|kp|kr|kw|ky|kz|la|lb|lc|li|lk|lr|ls|lt|lu|lv|ly|ma|mc|md|me|mg|mh|mk|ml|mm|mn|mo|mp|mq|mr|ms|mt|mu|mv|mw|mx|my|mz|na|nc|ne|nf|ng|ni|nl|no|np|nr|nu|nz|om|pa|pe|pf|pg|ph|pk|pl|pm|pn|pr|ps|pt|pw|py|qa|re|ro|rs|ru|rw|sa|sb|sc|sd|se|sg|sh|si|sj|Ja|sk|sl|sm|sn|so|sr|ss|st|su|sv|sx|sy|sz|tc|td|tf|tg|th|tj|tk|tl|tm|tn|to|tp|tr|tt|tv|tw|tz|ua|ug|uk|us|uy|uz|va|vc|ve|vg|vi|vn|vu|wf|ws|ye|yt|yu|za|zm|zw)/)(?:[^\\s()<>{}\\[\\]]+|\\([^\\s()]*?\\([^\\s()]+\\)[^\\s()]*?\\)|\\([^\\s]+?\\))+(?:\\([^\\s()]*?\\([^\\s()]+\\)[^\\s()]*?\\)|\\([^\\s]+?\\)|[^\\s`!()\\[\\]{};:'\".,<>?«»“”‘’])|(?:(?<!@)[a-z0-9]+(?:[.\\-][a-z0-9]+)*[.](?:com|net|org|edu|gov|mil|aero|asia|biz|cat|coop|info|int|jobs|mobi|museum|name|post|pro|tel|travel|xxx|ac|ad|ae|af|ag|ai|al|am|an|ao|aq|ar|as|at|au|aw|ax|az|ba|bb|bd|be|bf|bg|bh|bi|bj|bm|bn|bo|br|bs|bt|bv|bw|by|bz|ca|cc|cd|cf|cg|ch|ci|ck|cl|cm|cn|co|cr|cs|cu|cv|cx|cy|cz|dd|de|dj|dk|dm|do|dz|ec|ee|eg|eh|er|es|et|eu|fi|fj|fk|fm|fo|fr|ga|gb|gd|ge|gf|gg|gh|gi|gl|gm|gn|gp|gq|gr|gs|gt|gu|gw|gy|hk|hm|hn|hr|ht|hu|id|ie|il|im|in|io|iq|ir|is|it|je|jm|jo|jp|ke|kg|kh|ki|km|kn|kp|kr|kw|ky|kz|la|lb|lc|li|lk|lr|ls|lt|lu|lv|ly|ma|mc|md|me|mg|mh|mk|ml|mm|mn|mo|mp|mq|mr|ms|mt|mu|mv|mw|mx|my|mz|na|nc|ne|nf|ng|ni|nl|no|np|nr|nu|nz|om|pa|pe|pf|pg|ph|pk|pl|pm|pn|pr|ps|pt|pw|py|qa|re|ro|rs|ru|rw|sa|sb|sc|sd|se|sg|sh|si|sj|Ja|sk|sl|sm|sn|so|sr|ss|st|su|sv|sx|sy|sz|tc|td|tf|tg|th|tj|tk|tl|tm|tn|to|tp|tr|tt|tv|tw|tz|ua|ug|uk|us|uy|uz|va|vc|ve|vg|vi|vn|vu|wf|ws|ye|yt|yu|za|zm|zw)\\b/?(?!@)))\"\"\"\n",
    "    url_regex2 = 'http[s]?://(?:[a-zA-Z]|[0-9]|[$-_@.&+]|[!*\\(\\),]|(?:%[0-9a-fA-F][0-9a-fA-F]))+'\n",
    "    date_regex = '(\\d{1,2}[\\/ ](\\d{2}|January|Jan|February|Feb|March|Mar|April|Apr|May|May|June|Jun|July|Jul|August|Aug|September|Sep|October|Oct|November|Nov|December|Dec)[\\/ ]\\d{2,4})'\n",
    "    punct_regex = r\"[^a-zA-Z0-9]\"\n",
    "    num_regex = \"\\d+\"\n",
    "    extraspace_regex = \" +\"\n",
    "    docket_original = docket_original.split(' ')\n",
    "    docket_normalized = [text.lower() for text in docket_original]\n",
    "    docket_nourl1 = [re.sub(url_regex1, \"url\", text) for text in docket_normalized]\n",
    "    docket_nourl2 = [re.sub(url_regex2, \"url\", text) for text in docket_nourl1]\n",
    "    docket_nodate = [re.sub(date_regex, \"date\", text) for text in docket_nourl2]\n",
    "    docket_nopunct = [re.sub(punct_regex, \" \", text) for text in docket_nodate]\n",
    "    docket_nonum = [re.sub(num_regex, \" \", text) for text in docket_nopunct]\n",
    "    docket_noextraspace = re.sub(extraspace_regex, \" \", ' '.join(docket_nonum))\n",
    "    \n",
    "    return docket_noextraspace"
   ]
  },
  {
   "cell_type": "code",
   "execution_count": 18,
   "metadata": {},
   "outputs": [
    {
     "name": "stdout",
     "output_type": "stream",
     "text": [
      "took 0.628349781036377 seconds\n"
     ]
    }
   ],
   "source": [
    "t0 = time.time()\n",
    "new_df['normalized'] = new_df['Stripped Org and Name'].apply(lambda x: normalize(x))\n",
    "print('took {} seconds'.format(time.time() - t0))"
   ]
  },
  {
   "cell_type": "code",
   "execution_count": 19,
   "metadata": {},
   "outputs": [],
   "source": [
    "def tokenize(docket_noextraspace):\n",
    "    return word_tokenize(docket_noextraspace)"
   ]
  },
  {
   "cell_type": "code",
   "execution_count": 20,
   "metadata": {},
   "outputs": [
    {
     "name": "stdout",
     "output_type": "stream",
     "text": [
      "took 0.3889646530151367 seconds\n"
     ]
    }
   ],
   "source": [
    "t0 = time.time()\n",
    "new_df['tokenize'] = new_df['normalized'].apply(tokenize)\n",
    "print('took {} seconds'.format(time.time() - t0))"
   ]
  },
  {
   "cell_type": "code",
   "execution_count": 21,
   "metadata": {},
   "outputs": [],
   "source": [
    "def stopwords(docket_tokenized):  \n",
    "    return [word for word in docket_tokenized if word not in sw]"
   ]
  },
  {
   "cell_type": "code",
   "execution_count": 22,
   "metadata": {},
   "outputs": [
    {
     "name": "stdout",
     "output_type": "stream",
     "text": [
      "took 0.16060185432434082 seconds\n"
     ]
    }
   ],
   "source": [
    "t0 = time.time()\n",
    "new_df['nostop'] = new_df['tokenize'].apply(stopwords)\n",
    "print('took {} seconds'.format(time.time() - t0))"
   ]
  },
  {
   "cell_type": "code",
   "execution_count": 23,
   "metadata": {},
   "outputs": [],
   "source": [
    "#this is updated, comparing mannual_topics_20180828 and manual_topics_20180911 and manual_topics_20180919\n",
    "manual_topics_df = pd.read_csv('manual_topics_20180919.csv') \n",
    "manual_topics_df = manual_topics_df.apply(lambda x: x.astype(str).str.lower())\n",
    "manual_topics_dict = manual_topics_df.to_dict('list')\n",
    "for topic in manual_topics_dict.keys():\n",
    "    manual_topics_dict[topic] = [keyword for keyword in manual_topics_dict[topic] if keyword != 'nan']"
   ]
  },
  {
   "cell_type": "code",
   "execution_count": 24,
   "metadata": {},
   "outputs": [],
   "source": [
    "#output a list of topics\n",
    "def mannual_topic_assignment(text):\n",
    "    #text = text.split()\n",
    "    #print(text)\n",
    "    output = []\n",
    "    for topic in manual_topics_dict.keys():\n",
    "        for keyword in manual_topics_dict[topic]:\n",
    "            if ' '.join(text).find(keyword) != -1:\n",
    "                output.append(topic)\n",
    "    #print(output)\n",
    "    #if there's motion to dismiss, then remove noaction\n",
    "    if ' '.join(text).find('motion dismiss') != -1 and 'NoAction' in output:\n",
    "        output = list(set(output))\n",
    "        output.remove('NoAction')\n",
    "    return ', '.join(set(output))"
   ]
  },
  {
   "cell_type": "code",
   "execution_count": 25,
   "metadata": {},
   "outputs": [],
   "source": [
    "docket_texts_output = list(new_df['nostop'])\n",
    "\n",
    "docket_texts_output_DT = []\n",
    "topics_DT = []\n",
    "NoAction = []\n",
    "\n",
    "for text in docket_texts_output:\n",
    "    topic = mannual_topic_assignment(text)\n",
    "    #print(text, topic)\n",
    "    if topic != '':\n",
    "        docket_texts_output_DT.append('')\n",
    "        topics_DT.append(topic)\n",
    "        if 'NoAction' in topic:\n",
    "            NoAction.append(1)\n",
    "        else:\n",
    "            NoAction.append(0)\n",
    "    else:\n",
    "        docket_texts_output_DT.append(text)\n",
    "        topics_DT.append('')\n",
    "        NoAction.append(0)"
   ]
  },
  {
   "cell_type": "code",
   "execution_count": 26,
   "metadata": {},
   "outputs": [
    {
     "name": "stdout",
     "output_type": "stream",
     "text": [
      "(1804, 11)\n"
     ]
    },
    {
     "data": {
      "text/html": [
       "<div>\n",
       "<table border=\"1\" class=\"dataframe\">\n",
       "  <thead>\n",
       "    <tr style=\"text-align: right;\">\n",
       "      <th></th>\n",
       "      <th>Original Docket Text</th>\n",
       "      <th>Organization Portion</th>\n",
       "      <th>Name Portion</th>\n",
       "      <th>Identifying Org and Name</th>\n",
       "      <th>Stripped Org and Name</th>\n",
       "      <th>normalized</th>\n",
       "      <th>tokenize</th>\n",
       "      <th>nostop</th>\n",
       "      <th>DT Topics</th>\n",
       "      <th>NoAction</th>\n",
       "      <th>Removed unnecessary POS &amp; vocab DT</th>\n",
       "    </tr>\n",
       "  </thead>\n",
       "  <tbody>\n",
       "    <tr>\n",
       "      <th>0</th>\n",
       "      <td>FILING ERROR - DEFICIENT PLEADING - FILED AGAI...</td>\n",
       "      <td></td>\n",
       "      <td>Majid Soueidan Rosen Samuel</td>\n",
       "      <td>FILING ERROR - DEFICIENT PLEADING - FILED AGAI...</td>\n",
       "      <td>FILING ERROR - DEFICIENT PLEADING - FILED AGAI...</td>\n",
       "      <td>filing error deficient pleading filed against ...</td>\n",
       "      <td>[filing, error, deficient, pleading, filed, ag...</td>\n",
       "      <td>[filing, error, deficient, pleading, filed, pa...</td>\n",
       "      <td>Notices, Complaints</td>\n",
       "      <td>0</td>\n",
       "      <td></td>\n",
       "    </tr>\n",
       "    <tr>\n",
       "      <th>1</th>\n",
       "      <td>FILING ERROR PDF ERROR CIVIL COVER SHEET filed...</td>\n",
       "      <td></td>\n",
       "      <td>Rosen Samuel</td>\n",
       "      <td>FILING ERROR PDF ERROR CIVIL COVER SHEET filed...</td>\n",
       "      <td>FILING ERROR PDF ERROR CIVIL COVER SHEET filed...</td>\n",
       "      <td>filing error pdf error civil cover sheet filed...</td>\n",
       "      <td>[filing, error, pdf, error, civil, cover, shee...</td>\n",
       "      <td>[filing, error, pdf, error, civil, cover, shee...</td>\n",
       "      <td>Notices</td>\n",
       "      <td>0</td>\n",
       "      <td></td>\n",
       "    </tr>\n",
       "    <tr>\n",
       "      <th>2</th>\n",
       "      <td>REQUEST FOR ISSUANCE OF SUMMONS as to BREEZE-E...</td>\n",
       "      <td></td>\n",
       "      <td>BRAD PEDERSEN ROBERT J. KELLY NELSON OBUS WILL...</td>\n",
       "      <td>REQUEST FOR ISSUANCE OF SUMMONS as to BREEZE-E...</td>\n",
       "      <td>REQUEST FOR ISSUANCE OF SUMMONS as to BREEZE-E...</td>\n",
       "      <td>request for issuance of summons as to breeze e...</td>\n",
       "      <td>[request, for, issuance, of, summons, as, to, ...</td>\n",
       "      <td>[request, issuance, summons, breeze, eastern, ...</td>\n",
       "      <td>Service of Process, Complaints</td>\n",
       "      <td>0</td>\n",
       "      <td></td>\n",
       "    </tr>\n",
       "    <tr>\n",
       "      <th>3</th>\n",
       "      <td>RULE 7.1 CORPORATE DISCLOSURE STATEMENT. No Co...</td>\n",
       "      <td></td>\n",
       "      <td>Majid Soueidan Rosen Samuel</td>\n",
       "      <td>RULE 7.1 CORPORATE DISCLOSURE STATEMENT . No C...</td>\n",
       "      <td>RULE 7.1 CORPORATE DISCLOSURE STATEMENT . No C...</td>\n",
       "      <td>rule corporate disclosure statement no corpora...</td>\n",
       "      <td>[rule, corporate, disclosure, statement, no, c...</td>\n",
       "      <td>[rule, corporate, disclosure, statement, corpo...</td>\n",
       "      <td></td>\n",
       "      <td>0</td>\n",
       "      <td>[rule, corporate, disclosure, statement, corpo...</td>\n",
       "    </tr>\n",
       "    <tr>\n",
       "      <th>4</th>\n",
       "      <td>***NOTICE TO ATTORNEY REGARDING DEFICIENT PLEA...</td>\n",
       "      <td></td>\n",
       "      <td>Samuel Kenneth Rosen</td>\n",
       "      <td>***NOTICE TO ATTORNEY REGARDING DEFICIENT PLEA...</td>\n",
       "      <td>***NOTICE TO ATTORNEY REGARDING DEFICIENT PLEA...</td>\n",
       "      <td>notice to attorney regarding deficient pleadi...</td>\n",
       "      <td>[notice, to, attorney, regarding, deficient, p...</td>\n",
       "      <td>[notice, attorney, regarding, deficient, plead...</td>\n",
       "      <td>Notices, Complaints, Motions</td>\n",
       "      <td>0</td>\n",
       "      <td></td>\n",
       "    </tr>\n",
       "  </tbody>\n",
       "</table>\n",
       "</div>"
      ],
      "text/plain": [
       "                                Original Docket Text Organization Portion  \\\n",
       "0  FILING ERROR - DEFICIENT PLEADING - FILED AGAI...                        \n",
       "1  FILING ERROR PDF ERROR CIVIL COVER SHEET filed...                        \n",
       "2  REQUEST FOR ISSUANCE OF SUMMONS as to BREEZE-E...                        \n",
       "3  RULE 7.1 CORPORATE DISCLOSURE STATEMENT. No Co...                        \n",
       "4  ***NOTICE TO ATTORNEY REGARDING DEFICIENT PLEA...                        \n",
       "\n",
       "                                        Name Portion  \\\n",
       "0                        Majid Soueidan Rosen Samuel   \n",
       "1                                       Rosen Samuel   \n",
       "2  BRAD PEDERSEN ROBERT J. KELLY NELSON OBUS WILL...   \n",
       "3                        Majid Soueidan Rosen Samuel   \n",
       "4                               Samuel Kenneth Rosen   \n",
       "\n",
       "                            Identifying Org and Name  \\\n",
       "0  FILING ERROR - DEFICIENT PLEADING - FILED AGAI...   \n",
       "1  FILING ERROR PDF ERROR CIVIL COVER SHEET filed...   \n",
       "2  REQUEST FOR ISSUANCE OF SUMMONS as to BREEZE-E...   \n",
       "3  RULE 7.1 CORPORATE DISCLOSURE STATEMENT . No C...   \n",
       "4  ***NOTICE TO ATTORNEY REGARDING DEFICIENT PLEA...   \n",
       "\n",
       "                               Stripped Org and Name  \\\n",
       "0  FILING ERROR - DEFICIENT PLEADING - FILED AGAI...   \n",
       "1  FILING ERROR PDF ERROR CIVIL COVER SHEET filed...   \n",
       "2  REQUEST FOR ISSUANCE OF SUMMONS as to BREEZE-E...   \n",
       "3  RULE 7.1 CORPORATE DISCLOSURE STATEMENT . No C...   \n",
       "4  ***NOTICE TO ATTORNEY REGARDING DEFICIENT PLEA...   \n",
       "\n",
       "                                          normalized  \\\n",
       "0  filing error deficient pleading filed against ...   \n",
       "1  filing error pdf error civil cover sheet filed...   \n",
       "2  request for issuance of summons as to breeze e...   \n",
       "3  rule corporate disclosure statement no corpora...   \n",
       "4   notice to attorney regarding deficient pleadi...   \n",
       "\n",
       "                                            tokenize  \\\n",
       "0  [filing, error, deficient, pleading, filed, ag...   \n",
       "1  [filing, error, pdf, error, civil, cover, shee...   \n",
       "2  [request, for, issuance, of, summons, as, to, ...   \n",
       "3  [rule, corporate, disclosure, statement, no, c...   \n",
       "4  [notice, to, attorney, regarding, deficient, p...   \n",
       "\n",
       "                                              nostop  \\\n",
       "0  [filing, error, deficient, pleading, filed, pa...   \n",
       "1  [filing, error, pdf, error, civil, cover, shee...   \n",
       "2  [request, issuance, summons, breeze, eastern, ...   \n",
       "3  [rule, corporate, disclosure, statement, corpo...   \n",
       "4  [notice, attorney, regarding, deficient, plead...   \n",
       "\n",
       "                        DT Topics  NoAction  \\\n",
       "0             Notices, Complaints         0   \n",
       "1                         Notices         0   \n",
       "2  Service of Process, Complaints         0   \n",
       "3                                         0   \n",
       "4    Notices, Complaints, Motions         0   \n",
       "\n",
       "                  Removed unnecessary POS & vocab DT  \n",
       "0                                                     \n",
       "1                                                     \n",
       "2                                                     \n",
       "3  [rule, corporate, disclosure, statement, corpo...  \n",
       "4                                                     "
      ]
     },
     "execution_count": 26,
     "metadata": {},
     "output_type": "execute_result"
    }
   ],
   "source": [
    "new_df['DT Topics'] = pd.Series(topics_DT)\n",
    "new_df['NoAction'] = pd.Series(NoAction)\n",
    "new_df['Removed unnecessary POS & vocab DT'] = pd.Series(docket_texts_output_DT)\n",
    "print(new_df.shape)\n",
    "new_df.head()"
   ]
  },
  {
   "cell_type": "code",
   "execution_count": 27,
   "metadata": {},
   "outputs": [
    {
     "name": "stderr",
     "output_type": "stream",
     "text": [
      "c:\\users\\inves\\appdata\\local\\programs\\python\\python35\\lib\\site-packages\\pandas\\io\\excel.py:784: DeprecationWarning: Call to deprecated function remove_sheet (Use wb.remove(worksheet) or del wb[sheetname]).\n",
      "  self.book.remove_sheet(self.book.worksheets[0])\n"
     ]
    }
   ],
   "source": [
    "new_df.to_excel('something.xlsx', index = False)"
   ]
  },
  {
   "cell_type": "code",
   "execution_count": 30,
   "metadata": {},
   "outputs": [],
   "source": [
    "def lemm(docket_nostop):\n",
    "    return ' '.join([WordNetLemmatizer().lemmatize(word, pos='v') for word in docket_nostop])"
   ]
  },
  {
   "cell_type": "code",
   "execution_count": 31,
   "metadata": {},
   "outputs": [
    {
     "name": "stdout",
     "output_type": "stream",
     "text": [
      "took 2.0471303462982178 seconds\n"
     ]
    },
    {
     "data": {
      "text/plain": [
       "(1804, 12)"
      ]
     },
     "execution_count": 31,
     "metadata": {},
     "output_type": "execute_result"
    }
   ],
   "source": [
    "t0 = time.time()\n",
    "new_df['lemmed'] = new_df['Removed unnecessary POS & vocab DT'].apply(lemm)\n",
    "print('took {} seconds'.format(time.time() - t0))\n",
    "new_df.shape"
   ]
  },
  {
   "cell_type": "code",
   "execution_count": 34,
   "metadata": {},
   "outputs": [],
   "source": [
    "def trigram_transform(texts):\n",
    "    bigram_model_filepath = 'docket_texts/train/DT/bigram_model_newsop2'\n",
    "    bigram_model = Phrases.load(bigram_model_filepath)\n",
    "    \n",
    "    trigram_model_filepath = 'docket_texts/train/DT/trigram_model_newsop2'\n",
    "    trigram_model = Phrases.load(trigram_model_filepath)\n",
    "    \n",
    "    \n",
    "    display = False\n",
    "    texts = str(texts)\n",
    "    trigram_output = ''\n",
    "    #print(texts)\n",
    "\n",
    "    remove_trigram = ['calendar_day', 'court_notice_intend', 'minute_entry_proceeding_hold', 'court_reportertranscriber_abovecaptioned_matter',\n",
    "                      'redaction_calendar_day', 'rule_statement', 'obtain_pacer', 'may_obtain_pacer', 'reportertranscriber_abovecaptioned_matter',\n",
    "                      'redact_transcript_deadline', 'send_chamber', \"official_transcript_notice_give\", \"notice_intent_request\", \"proceed_hold\", \n",
    "                      \"fee_receipt_number\", \"civil_procedure\", \"pursuant_frcp\", \"official_transcript_conference\", \n",
    "                      \"purchase_reportertranscriber_deadline_release\", \"et_al\", \"mail_chamber\", \"transcript_restriction\", \"redaction_transcript\", \n",
    "                      \"transcript_view_public_terminal\", \"transcript_make_remotely\", \"associated_et_al\", \"electronically_available_public_without\", \n",
    "                      \"genesys_id\", \"release_transcript_restriction\", \"adar_bay\", \"redaction_request_due\", \"new_york\", \"official_transcript_conference\", \n",
    "                      \"transcript_make_remotely\", \"transcript_proceeding_conference_hold\", \"redaction_transcript\",\n",
    "                      'affidavit_jr._c.p.a', 'corporate_parent', 'certain_underwriter', 'federal_rule_civil_procedure', 'redaction_request', \n",
    "                      'official_transcript', 'rule_disclosure', 'rule_corporate_disclosure', 'place_vault', 'public_without_redaction_calendar', \n",
    "                      'purchase_deadline_release_transcript', 'transcript_proceeding_hold', 'transcript_remotely_electronically_available',\n",
    "                      'minute_entry_hold', 'discovery_hear_hold', 'jury_trial_hold', \"sign_judge\",'place_vault']\n",
    "\n",
    "    if texts == None:\n",
    "        return None\n",
    "    \n",
    "    unigram_review = []\n",
    "    for word in texts.split():\n",
    "        unigram_review.append(word)\n",
    "    if display:\n",
    "        print('Uni: ', unigram_review)\n",
    "    bigram_review = bigram_model[unigram_review]\n",
    "    if display:\n",
    "        print('Bi: ', bigram_review)\n",
    "    trigram_review = trigram_model[bigram_review]\n",
    "    if display:\n",
    "        print('Tri: ', trigram_review)\n",
    "    trigram_review = [phrase for phrase in trigram_review if phrase not in remove_trigram]\n",
    "    if display:\n",
    "        print('Tri removed: ', trigram_review)\n",
    "    trigram_output += ' '.join(trigram_review)\n",
    "    \n",
    "    return trigram_output"
   ]
  },
  {
   "cell_type": "code",
   "execution_count": 35,
   "metadata": {},
   "outputs": [
    {
     "data": {
      "text/plain": [
       "['',\n",
       " '',\n",
       " '',\n",
       " 'rule corporate disclosure statement corporate parent document file enter date',\n",
       " '',\n",
       " '',\n",
       " '',\n",
       " '',\n",
       " '',\n",
       " '']"
      ]
     },
     "execution_count": 35,
     "metadata": {},
     "output_type": "execute_result"
    }
   ],
   "source": [
    "docket_phrase2 = list(new_df['lemmed'])\n",
    "docket_phrase2[:10]"
   ]
  },
  {
   "cell_type": "code",
   "execution_count": 41,
   "metadata": {},
   "outputs": [
    {
     "data": {
      "text/plain": [
       "(1804, 13)"
      ]
     },
     "execution_count": 41,
     "metadata": {},
     "output_type": "execute_result"
    }
   ],
   "source": [
    "new_df['phrases'] = pd.Series(docket_phrase3)\n",
    "new_df.shape"
   ]
  },
  {
   "cell_type": "code",
   "execution_count": 42,
   "metadata": {},
   "outputs": [
    {
     "data": {
      "text/plain": [
       "Index(['Original Docket Text', 'Organization Portion', 'Name Portion',\n",
       "       'Identifying Org and Name', 'Stripped Org and Name', 'normalized',\n",
       "       'tokenize', 'nostop', 'DT Topics', 'NoAction',\n",
       "       'Removed unnecessary POS & vocab DT', 'lemmed', 'phrases'],\n",
       "      dtype='object')"
      ]
     },
     "execution_count": 42,
     "metadata": {},
     "output_type": "execute_result"
    }
   ],
   "source": [
    "new_df.columns"
   ]
  },
  {
   "cell_type": "code",
   "execution_count": 45,
   "metadata": {
    "scrolled": true
   },
   "outputs": [
    {
     "name": "stdout",
     "output_type": "stream",
     "text": [
      "3\n",
      "orignal text: \n",
      "RULE 7.1 CORPORATE DISCLOSURE STATEMENT. No Corporate Parent. Document filed by Majid Soueidan.(Rosen, Samuel) (Entered: 01/04/2016) \n",
      "\n",
      "org and name removed: \n",
      "RULE 7.1 CORPORATE DISCLOSURE STATEMENT . No Corporate Parent . Document filed by . ( , ) ( Entered : 01/04/2016 ) \n",
      "\n",
      "normalized: \n",
      "rule corporate disclosure statement no corporate parent document filed by entered date  \n",
      "\n",
      "stopwords removed: \n",
      "rule corporate disclosure statement corporate parent document filed entered date \n",
      "\n",
      "after lemmetization: \n",
      "rule corporate disclosure statement corporate parent document file enter date \n",
      "\n",
      "after phrase modeling: \n",
      "rule corporate_disclosure statement document file enter date \n",
      "\n",
      "13\n",
      "orignal text: \n",
      "CIVIL COVER SHEET filed. (Rosen, Samuel) (Entered: 01/05/2016) \n",
      "\n",
      "org and name removed: \n",
      "CIVIL COVER SHEET filed . ( , ) ( Entered : 01/05/2016 ) \n",
      "\n",
      "normalized: \n",
      "civil cover sheet filed entered date  \n",
      "\n",
      "stopwords removed: \n",
      "civil cover sheet filed entered date \n",
      "\n",
      "after lemmetization: \n",
      "civil cover sheet file enter date \n",
      "\n",
      "after phrase modeling: \n",
      "civil_cover_sheet file enter date \n",
      "\n",
      "15\n",
      "orignal text: \n",
      "RULE 7.1 CORPORATE DISCLOSURE STATEMENT. Identifying Corporate Parent TransDigm Group Incorporated for Breeze-Eastern Corporation. Document filed by Breeze-Eastern Corporation.(Gabriel, Jessie) (Entered: 02/03/2016) \n",
      "\n",
      "org and name removed: \n",
      "RULE 7.1 CORPORATE DISCLOSURE STATEMENT . Identifying Corporate Parent . Document filed by . ( , ) ( Entered : 02/03/2016 ) \n",
      "\n",
      "normalized: \n",
      "rule corporate disclosure statement identifying corporate parent document filed by entered date  \n",
      "\n",
      "stopwords removed: \n",
      "rule corporate disclosure statement identifying corporate parent document filed entered date \n",
      "\n",
      "after lemmetization: \n",
      "rule corporate disclosure statement identify corporate parent document file enter date \n",
      "\n",
      "after phrase modeling: \n",
      "rule corporate_disclosure statement identify document file enter date \n",
      "\n",
      "1463\n",
      "orignal text: \n",
      "COUNTER STATEMENT TO RULE 56.1 filed by Ashbury Capital, Asbury Capital, Mark Yagalla, Michael Armstrong. Received in night deposit on 2/1/02 at 5:08 p.m. (jco) (Entered: 02/05/2002) \n",
      "\n",
      "org and name removed: \n",
      "COUNTER STATEMENT TO RULE 56.1 filed by , , , . Received in night deposit on 2/1/02 at 5:08 p.m. ( jco ) ( Entered : 02/05/2002 ) \n",
      "\n",
      "normalized: \n",
      "counter statement to rule filed by received in night deposit on at p m jco entered date  \n",
      "\n",
      "stopwords removed: \n",
      "counter statement rule filed received night deposit p jco entered date \n",
      "\n",
      "after lemmetization: \n",
      "counter statement rule file receive night deposit p jco enter date \n",
      "\n",
      "after phrase modeling: \n",
      "counter statement rule file receive night_deposit p jco enter date \n",
      "\n"
     ]
    }
   ],
   "source": [
    "ss = [3, 13, 15, 1463]\n",
    "for i in ss:\n",
    "    print(i)\n",
    "    print('orignal text: ')\n",
    "    print(new_df['Original Docket Text'].iloc[i], '\\n')\n",
    "    print('org and name removed: ')\n",
    "    print(new_df['Stripped Org and Name'].iloc[i], '\\n')\n",
    "    print('normalized: ')\n",
    "    print(new_df['normalized'].iloc[i], '\\n')\n",
    "    print('stopwords removed: ')\n",
    "    print(' '.join(new_df['nostop'].iloc[i]), '\\n')\n",
    "    print('after lemmetization: ')\n",
    "    print(new_df['lemmed'].iloc[i], '\\n')\n",
    "    print('after phrase modeling: ')\n",
    "    print(new_df['phrases'].iloc[i], '\\n')"
   ]
  },
  {
   "cell_type": "code",
   "execution_count": 46,
   "metadata": {},
   "outputs": [],
   "source": [
    "#not sure if this is necessary as 'cleaned' is not used\n",
    "remove_pos = list(pd.read_excel('NLP_to_be_removed.xlsx', sheetname = 0, header = None)[0])\n",
    "remove_word = list(pd.read_excel('NLP_to_be_removed.xlsx', sheetname = 1, header = None)[0])\n",
    "remove_trigram = list(pd.read_excel('NLP_to_be_removed.xlsx', sheetname = 2, header = None)[0])"
   ]
  },
  {
   "cell_type": "code",
   "execution_count": 47,
   "metadata": {},
   "outputs": [],
   "source": [
    "def remove_unnecessary(text):\n",
    "    new_text = []\n",
    "    text = text.split(' ')\n",
    "    for word in text:\n",
    "        if word not in remove_word and word not in remove_trigram:\n",
    "            new_text.append(word)\n",
    "    return ' '.join(new_text)"
   ]
  },
  {
   "cell_type": "code",
   "execution_count": 48,
   "metadata": {},
   "outputs": [
    {
     "name": "stdout",
     "output_type": "stream",
     "text": [
      "(1804, 14)\n"
     ]
    },
    {
     "data": {
      "text/html": [
       "<div>\n",
       "<table border=\"1\" class=\"dataframe\">\n",
       "  <thead>\n",
       "    <tr style=\"text-align: right;\">\n",
       "      <th></th>\n",
       "      <th>Original Docket Text</th>\n",
       "      <th>Organization Portion</th>\n",
       "      <th>Name Portion</th>\n",
       "      <th>Identifying Org and Name</th>\n",
       "      <th>Stripped Org and Name</th>\n",
       "      <th>normalized</th>\n",
       "      <th>tokenize</th>\n",
       "      <th>nostop</th>\n",
       "      <th>DT Topics</th>\n",
       "      <th>NoAction</th>\n",
       "      <th>Removed unnecessary POS &amp; vocab DT</th>\n",
       "      <th>lemmed</th>\n",
       "      <th>phrases</th>\n",
       "      <th>cleaned</th>\n",
       "    </tr>\n",
       "  </thead>\n",
       "  <tbody>\n",
       "    <tr>\n",
       "      <th>0</th>\n",
       "      <td>FILING ERROR - DEFICIENT PLEADING - FILED AGAI...</td>\n",
       "      <td></td>\n",
       "      <td>Majid Soueidan Rosen Samuel</td>\n",
       "      <td>FILING ERROR - DEFICIENT PLEADING - FILED AGAI...</td>\n",
       "      <td>FILING ERROR - DEFICIENT PLEADING - FILED AGAI...</td>\n",
       "      <td>filing error deficient pleading filed against ...</td>\n",
       "      <td>[filing, error, deficient, pleading, filed, ag...</td>\n",
       "      <td>[filing, error, deficient, pleading, filed, pa...</td>\n",
       "      <td>Notices, Complaints</td>\n",
       "      <td>0</td>\n",
       "      <td></td>\n",
       "      <td></td>\n",
       "      <td></td>\n",
       "      <td></td>\n",
       "    </tr>\n",
       "    <tr>\n",
       "      <th>1</th>\n",
       "      <td>FILING ERROR PDF ERROR CIVIL COVER SHEET filed...</td>\n",
       "      <td></td>\n",
       "      <td>Rosen Samuel</td>\n",
       "      <td>FILING ERROR PDF ERROR CIVIL COVER SHEET filed...</td>\n",
       "      <td>FILING ERROR PDF ERROR CIVIL COVER SHEET filed...</td>\n",
       "      <td>filing error pdf error civil cover sheet filed...</td>\n",
       "      <td>[filing, error, pdf, error, civil, cover, shee...</td>\n",
       "      <td>[filing, error, pdf, error, civil, cover, shee...</td>\n",
       "      <td>Notices</td>\n",
       "      <td>0</td>\n",
       "      <td></td>\n",
       "      <td></td>\n",
       "      <td></td>\n",
       "      <td></td>\n",
       "    </tr>\n",
       "    <tr>\n",
       "      <th>2</th>\n",
       "      <td>REQUEST FOR ISSUANCE OF SUMMONS as to BREEZE-E...</td>\n",
       "      <td></td>\n",
       "      <td>BRAD PEDERSEN ROBERT J. KELLY NELSON OBUS WILL...</td>\n",
       "      <td>REQUEST FOR ISSUANCE OF SUMMONS as to BREEZE-E...</td>\n",
       "      <td>REQUEST FOR ISSUANCE OF SUMMONS as to BREEZE-E...</td>\n",
       "      <td>request for issuance of summons as to breeze e...</td>\n",
       "      <td>[request, for, issuance, of, summons, as, to, ...</td>\n",
       "      <td>[request, issuance, summons, breeze, eastern, ...</td>\n",
       "      <td>Service of Process, Complaints</td>\n",
       "      <td>0</td>\n",
       "      <td></td>\n",
       "      <td></td>\n",
       "      <td></td>\n",
       "      <td></td>\n",
       "    </tr>\n",
       "    <tr>\n",
       "      <th>3</th>\n",
       "      <td>RULE 7.1 CORPORATE DISCLOSURE STATEMENT. No Co...</td>\n",
       "      <td></td>\n",
       "      <td>Majid Soueidan Rosen Samuel</td>\n",
       "      <td>RULE 7.1 CORPORATE DISCLOSURE STATEMENT . No C...</td>\n",
       "      <td>RULE 7.1 CORPORATE DISCLOSURE STATEMENT . No C...</td>\n",
       "      <td>rule corporate disclosure statement no corpora...</td>\n",
       "      <td>[rule, corporate, disclosure, statement, no, c...</td>\n",
       "      <td>[rule, corporate, disclosure, statement, corpo...</td>\n",
       "      <td></td>\n",
       "      <td>0</td>\n",
       "      <td>[rule, corporate, disclosure, statement, corpo...</td>\n",
       "      <td>rule corporate disclosure statement corporate ...</td>\n",
       "      <td>rule corporate_disclosure statement document f...</td>\n",
       "      <td>rule corporate_disclosure</td>\n",
       "    </tr>\n",
       "    <tr>\n",
       "      <th>4</th>\n",
       "      <td>***NOTICE TO ATTORNEY REGARDING DEFICIENT PLEA...</td>\n",
       "      <td></td>\n",
       "      <td>Samuel Kenneth Rosen</td>\n",
       "      <td>***NOTICE TO ATTORNEY REGARDING DEFICIENT PLEA...</td>\n",
       "      <td>***NOTICE TO ATTORNEY REGARDING DEFICIENT PLEA...</td>\n",
       "      <td>notice to attorney regarding deficient pleadi...</td>\n",
       "      <td>[notice, to, attorney, regarding, deficient, p...</td>\n",
       "      <td>[notice, attorney, regarding, deficient, plead...</td>\n",
       "      <td>Notices, Complaints, Motions</td>\n",
       "      <td>0</td>\n",
       "      <td></td>\n",
       "      <td></td>\n",
       "      <td></td>\n",
       "      <td></td>\n",
       "    </tr>\n",
       "  </tbody>\n",
       "</table>\n",
       "</div>"
      ],
      "text/plain": [
       "                                Original Docket Text Organization Portion  \\\n",
       "0  FILING ERROR - DEFICIENT PLEADING - FILED AGAI...                        \n",
       "1  FILING ERROR PDF ERROR CIVIL COVER SHEET filed...                        \n",
       "2  REQUEST FOR ISSUANCE OF SUMMONS as to BREEZE-E...                        \n",
       "3  RULE 7.1 CORPORATE DISCLOSURE STATEMENT. No Co...                        \n",
       "4  ***NOTICE TO ATTORNEY REGARDING DEFICIENT PLEA...                        \n",
       "\n",
       "                                        Name Portion  \\\n",
       "0                        Majid Soueidan Rosen Samuel   \n",
       "1                                       Rosen Samuel   \n",
       "2  BRAD PEDERSEN ROBERT J. KELLY NELSON OBUS WILL...   \n",
       "3                        Majid Soueidan Rosen Samuel   \n",
       "4                               Samuel Kenneth Rosen   \n",
       "\n",
       "                            Identifying Org and Name  \\\n",
       "0  FILING ERROR - DEFICIENT PLEADING - FILED AGAI...   \n",
       "1  FILING ERROR PDF ERROR CIVIL COVER SHEET filed...   \n",
       "2  REQUEST FOR ISSUANCE OF SUMMONS as to BREEZE-E...   \n",
       "3  RULE 7.1 CORPORATE DISCLOSURE STATEMENT . No C...   \n",
       "4  ***NOTICE TO ATTORNEY REGARDING DEFICIENT PLEA...   \n",
       "\n",
       "                               Stripped Org and Name  \\\n",
       "0  FILING ERROR - DEFICIENT PLEADING - FILED AGAI...   \n",
       "1  FILING ERROR PDF ERROR CIVIL COVER SHEET filed...   \n",
       "2  REQUEST FOR ISSUANCE OF SUMMONS as to BREEZE-E...   \n",
       "3  RULE 7.1 CORPORATE DISCLOSURE STATEMENT . No C...   \n",
       "4  ***NOTICE TO ATTORNEY REGARDING DEFICIENT PLEA...   \n",
       "\n",
       "                                          normalized  \\\n",
       "0  filing error deficient pleading filed against ...   \n",
       "1  filing error pdf error civil cover sheet filed...   \n",
       "2  request for issuance of summons as to breeze e...   \n",
       "3  rule corporate disclosure statement no corpora...   \n",
       "4   notice to attorney regarding deficient pleadi...   \n",
       "\n",
       "                                            tokenize  \\\n",
       "0  [filing, error, deficient, pleading, filed, ag...   \n",
       "1  [filing, error, pdf, error, civil, cover, shee...   \n",
       "2  [request, for, issuance, of, summons, as, to, ...   \n",
       "3  [rule, corporate, disclosure, statement, no, c...   \n",
       "4  [notice, to, attorney, regarding, deficient, p...   \n",
       "\n",
       "                                              nostop  \\\n",
       "0  [filing, error, deficient, pleading, filed, pa...   \n",
       "1  [filing, error, pdf, error, civil, cover, shee...   \n",
       "2  [request, issuance, summons, breeze, eastern, ...   \n",
       "3  [rule, corporate, disclosure, statement, corpo...   \n",
       "4  [notice, attorney, regarding, deficient, plead...   \n",
       "\n",
       "                        DT Topics  NoAction  \\\n",
       "0             Notices, Complaints         0   \n",
       "1                         Notices         0   \n",
       "2  Service of Process, Complaints         0   \n",
       "3                                         0   \n",
       "4    Notices, Complaints, Motions         0   \n",
       "\n",
       "                  Removed unnecessary POS & vocab DT  \\\n",
       "0                                                      \n",
       "1                                                      \n",
       "2                                                      \n",
       "3  [rule, corporate, disclosure, statement, corpo...   \n",
       "4                                                      \n",
       "\n",
       "                                              lemmed  \\\n",
       "0                                                      \n",
       "1                                                      \n",
       "2                                                      \n",
       "3  rule corporate disclosure statement corporate ...   \n",
       "4                                                      \n",
       "\n",
       "                                             phrases  \\\n",
       "0                                                      \n",
       "1                                                      \n",
       "2                                                      \n",
       "3  rule corporate_disclosure statement document f...   \n",
       "4                                                      \n",
       "\n",
       "                     cleaned  \n",
       "0                             \n",
       "1                             \n",
       "2                             \n",
       "3  rule corporate_disclosure  \n",
       "4                             "
      ]
     },
     "execution_count": 48,
     "metadata": {},
     "output_type": "execute_result"
    }
   ],
   "source": [
    "new_df['cleaned'] = new_df['phrases'].apply(remove_unnecessary)\n",
    "print(new_df.shape)\n",
    "new_df.head()"
   ]
  },
  {
   "cell_type": "code",
   "execution_count": 49,
   "metadata": {},
   "outputs": [],
   "source": [
    "filename = 'docket_texts/test/DT/basic_cleaned.pickle'\n",
    "#to save\n",
    "with open(filename, 'wb') as handle: \n",
    "    pickle.dump(new_df, handle, protocol = pickle.HIGHEST_PROTOCOL)"
   ]
  },
  {
   "cell_type": "code",
   "execution_count": 50,
   "metadata": {},
   "outputs": [
    {
     "name": "stdout",
     "output_type": "stream",
     "text": [
      "shape before dedupe: (1804, 14)\n",
      "shape after dedupe: (1797, 5)\n"
     ]
    }
   ],
   "source": [
    "print('shape before dedupe: {}'.format(new_df.shape))\n",
    "print('shape after dedupe: {}'.format(new_df[['Original Docket Text', 'normalized', 'DT Topics', 'lemmed', 'phrases']].drop_duplicates().shape))"
   ]
  },
  {
   "cell_type": "code",
   "execution_count": 53,
   "metadata": {},
   "outputs": [],
   "source": [
    "another_df = new_df[['Original Docket Text', 'normalized', 'lemmed', 'phrases', 'DT Topics', 'NoAction']].drop_duplicates()"
   ]
  },
  {
   "cell_type": "code",
   "execution_count": 54,
   "metadata": {},
   "outputs": [
    {
     "name": "stderr",
     "output_type": "stream",
     "text": [
      "c:\\users\\inves\\appdata\\local\\programs\\python\\python35\\lib\\site-packages\\pandas\\io\\excel.py:784: DeprecationWarning: Call to deprecated function remove_sheet (Use wb.remove(worksheet) or del wb[sheetname]).\n",
      "  self.book.remove_sheet(self.book.worksheets[0])\n"
     ]
    }
   ],
   "source": [
    "#export to check\n",
    "another_df.to_excel('test_tempfile.xlsx', index = False)"
   ]
  },
  {
   "cell_type": "code",
   "execution_count": null,
   "metadata": {},
   "outputs": [],
   "source": []
  },
  {
   "cell_type": "code",
   "execution_count": null,
   "metadata": {},
   "outputs": [],
   "source": []
  }
 ],
 "metadata": {
  "kernelspec": {
   "display_name": "Python 3",
   "language": "python",
   "name": "python3"
  },
  "language_info": {
   "codemirror_mode": {
    "name": "ipython",
    "version": 3
   },
   "file_extension": ".py",
   "mimetype": "text/x-python",
   "name": "python",
   "nbconvert_exporter": "python",
   "pygments_lexer": "ipython3",
   "version": "3.5.3"
  }
 },
 "nbformat": 4,
 "nbformat_minor": 2
}
