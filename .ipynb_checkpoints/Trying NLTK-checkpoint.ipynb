{
 "cells": [
  {
   "cell_type": "markdown",
   "metadata": {},
   "source": [
    "## Notebook Goal:  \n",
    "Using existing NLP and LDA methodologies to perform topic modeling on docket texts. Three hyperparameters to consider:\n",
    "1. to remove organization or not in docket texts, so organizations themselves won't become topics.\n",
    "2. to remove names or not in docket texts, so names themselves won't become topics.\n",
    "3. variations in topic numbers: [2, 3, 5, 10]\n",
    "\n",
    "Will then perform visualizations and model summary output on every permutation/iteration."
   ]
  },
  {
   "cell_type": "code",
   "execution_count": 2,
   "metadata": {},
   "outputs": [],
   "source": [
    "import nltk\n",
    "from nltk.tag.stanford import StanfordNERTagger\n",
    "from nltk.stem import WordNetLemmatizer\n",
    "from nltk.corpus import wordnet\n",
    "from nltk.corpus import stopwords"
   ]
  },
  {
   "cell_type": "code",
   "execution_count": 3,
   "metadata": {},
   "outputs": [
    {
     "name": "stderr",
     "output_type": "stream",
     "text": [
      "c:\\users\\inves\\appdata\\local\\programs\\python\\python35\\lib\\site-packages\\gensim\\utils.py:1197: UserWarning: detected Windows; aliasing chunkize to chunkize_serial\n",
      "  warnings.warn(\"detected Windows; aliasing chunkize to chunkize_serial\")\n"
     ]
    }
   ],
   "source": [
    "from gensim.models.word2vec import LineSentence\n",
    "from gensim.models import Phrases\n",
    "from gensim.corpora import Dictionary, MmCorpus\n",
    "from gensim.models.ldamulticore import LdaMulticore\n",
    "\n",
    "#visualization libraries\n",
    "import pyLDAvis\n",
    "import pyLDAvis.gensim"
   ]
  },
  {
   "cell_type": "code",
   "execution_count": 57,
   "metadata": {},
   "outputs": [],
   "source": [
    "import os\n",
    "java_path = 'C:/Program Files/Java/jdk-10.0.1/bin/java.exe'\n",
    "os.environ['JAVAHOME'] = java_path\n",
    "\n",
    "import pandas as pd\n",
    "import numpy as np\n",
    "import codecs\n",
    "import itertools as it\n",
    "from bs4 import BeautifulSoup\n",
    "import warnings\n",
    "import pickle\n",
    "from collections import Counter"
   ]
  },
  {
   "cell_type": "code",
   "execution_count": 13,
   "metadata": {},
   "outputs": [],
   "source": [
    "#import corpus/docket texts from html to pandas DataFrame\n",
    "def grab_dockets():\n",
    "    files = []\n",
    "    #get all .html files in the folder (all docket files are in .html)\n",
    "    for file in os.listdir('docket_texts/'):\n",
    "        if file.endswith('.html'):\n",
    "            files.append(os.path.join('docket_texts/', file))\n",
    "\n",
    "    df_docket_texts = pd.DataFrame()\n",
    "    \n",
    "    for i in range(len(files)): #gather all docket texts\n",
    "    #for i in [0, 1]: #for testing purposes\n",
    "        \n",
    "        content = codecs.open(files[i], 'r', 'utf-8').read()\n",
    "        #use beautiful soup to get the case ID\n",
    "        soup = BeautifulSoup(content, 'lxml')\n",
    "        case_id = str(soup.find_all('h3'))    \n",
    "        bookmark1 = case_id.find('CASE #:') + len('CASE #:')\n",
    "        bookmark2 = case_id.find('</h3>')\n",
    "        case_id = case_id[bookmark1:bookmark2]\n",
    "\n",
    "        #use pandas to grab tables in the html files\n",
    "        docket_tables = pd.read_html(content)\n",
    "\n",
    "        #error checking: gotta do this because there's different length of docket_list/\n",
    "        #usually docket texts are in docket_list[3], but not always\n",
    "        n = 0\n",
    "        while docket_tables[n].isin(['Docket Text']).sum().sum() == 0:\n",
    "            #print(n, docket_tables[n].isin(['Docket Text']).sum().sum())\n",
    "            n += 1\n",
    "                        \n",
    "        #print(i, files[i])\n",
    "        #print(docket_tables[n].head())\n",
    "\n",
    "        #docket_tables[n] is the docket text table\n",
    "        new_header = docket_tables[n].iloc[0]\n",
    "        docket_tables[n] = docket_tables[n][1:]\n",
    "        docket_tables[n].columns = new_header\n",
    "        \n",
    "        docket_tables[n]['#'] = pd.to_numeric(docket_tables[n]['#'],\n",
    "                                              downcast = 'signed', errors = 'coerce')\n",
    "        docket_tables[n]['Date Filed'] = pd.to_datetime(docket_tables[n]['Date Filed'])\n",
    "        docket_tables[n]['Case ID'] = case_id\n",
    "\n",
    "        df_docket_texts = pd.concat([df_docket_texts, docket_tables[n]])\n",
    "    #reorder a column\n",
    "    cols = list(df_docket_texts.columns)\n",
    "    df_docket_texts = df_docket_texts[[cols[-1]] + cols[:-1]]\n",
    "    \n",
    "    print('current docket text table size/shape: {}'.format(df_docket_texts.shape))\n",
    "    return df_docket_texts"
   ]
  },
  {
   "cell_type": "code",
   "execution_count": 14,
   "metadata": {
    "scrolled": true
   },
   "outputs": [
    {
     "name": "stderr",
     "output_type": "stream",
     "text": [
      "c:\\users\\inves\\appdata\\local\\programs\\python\\python35\\lib\\site-packages\\bs4\\builder\\_lxml.py:250: DeprecationWarning: inspect.getargspec() is deprecated, use inspect.signature() instead\n",
      "  self.parser.feed(markup)\n",
      "c:\\users\\inves\\appdata\\local\\programs\\python\\python35\\lib\\site-packages\\bs4\\builder\\_lxml.py:250: DeprecationWarning: inspect.getargspec() is deprecated, use inspect.signature() instead\n",
      "  self.parser.feed(markup)\n",
      "c:\\users\\inves\\appdata\\local\\programs\\python\\python35\\lib\\site-packages\\bs4\\builder\\_lxml.py:250: DeprecationWarning: inspect.getargspec() is deprecated, use inspect.signature() instead\n",
      "  self.parser.feed(markup)\n",
      "c:\\users\\inves\\appdata\\local\\programs\\python\\python35\\lib\\site-packages\\bs4\\builder\\_lxml.py:250: DeprecationWarning: inspect.getargspec() is deprecated, use inspect.signature() instead\n",
      "  self.parser.feed(markup)\n",
      "c:\\users\\inves\\appdata\\local\\programs\\python\\python35\\lib\\site-packages\\bs4\\builder\\_lxml.py:250: DeprecationWarning: inspect.getargspec() is deprecated, use inspect.signature() instead\n",
      "  self.parser.feed(markup)\n",
      "c:\\users\\inves\\appdata\\local\\programs\\python\\python35\\lib\\site-packages\\bs4\\builder\\_lxml.py:250: DeprecationWarning: inspect.getargspec() is deprecated, use inspect.signature() instead\n",
      "  self.parser.feed(markup)\n",
      "c:\\users\\inves\\appdata\\local\\programs\\python\\python35\\lib\\site-packages\\bs4\\builder\\_lxml.py:250: DeprecationWarning: inspect.getargspec() is deprecated, use inspect.signature() instead\n",
      "  self.parser.feed(markup)\n",
      "c:\\users\\inves\\appdata\\local\\programs\\python\\python35\\lib\\site-packages\\bs4\\builder\\_lxml.py:250: DeprecationWarning: inspect.getargspec() is deprecated, use inspect.signature() instead\n",
      "  self.parser.feed(markup)\n",
      "c:\\users\\inves\\appdata\\local\\programs\\python\\python35\\lib\\site-packages\\bs4\\builder\\_lxml.py:250: DeprecationWarning: inspect.getargspec() is deprecated, use inspect.signature() instead\n",
      "  self.parser.feed(markup)\n",
      "c:\\users\\inves\\appdata\\local\\programs\\python\\python35\\lib\\site-packages\\bs4\\builder\\_lxml.py:250: DeprecationWarning: inspect.getargspec() is deprecated, use inspect.signature() instead\n",
      "  self.parser.feed(markup)\n",
      "c:\\users\\inves\\appdata\\local\\programs\\python\\python35\\lib\\site-packages\\bs4\\builder\\_lxml.py:250: DeprecationWarning: inspect.getargspec() is deprecated, use inspect.signature() instead\n",
      "  self.parser.feed(markup)\n",
      "c:\\users\\inves\\appdata\\local\\programs\\python\\python35\\lib\\site-packages\\bs4\\builder\\_lxml.py:250: DeprecationWarning: inspect.getargspec() is deprecated, use inspect.signature() instead\n",
      "  self.parser.feed(markup)\n",
      "c:\\users\\inves\\appdata\\local\\programs\\python\\python35\\lib\\site-packages\\bs4\\builder\\_lxml.py:250: DeprecationWarning: inspect.getargspec() is deprecated, use inspect.signature() instead\n",
      "  self.parser.feed(markup)\n",
      "c:\\users\\inves\\appdata\\local\\programs\\python\\python35\\lib\\site-packages\\bs4\\builder\\_lxml.py:250: DeprecationWarning: inspect.getargspec() is deprecated, use inspect.signature() instead\n",
      "  self.parser.feed(markup)\n",
      "c:\\users\\inves\\appdata\\local\\programs\\python\\python35\\lib\\site-packages\\bs4\\builder\\_lxml.py:250: DeprecationWarning: inspect.getargspec() is deprecated, use inspect.signature() instead\n",
      "  self.parser.feed(markup)\n",
      "c:\\users\\inves\\appdata\\local\\programs\\python\\python35\\lib\\site-packages\\bs4\\builder\\_lxml.py:250: DeprecationWarning: inspect.getargspec() is deprecated, use inspect.signature() instead\n",
      "  self.parser.feed(markup)\n",
      "c:\\users\\inves\\appdata\\local\\programs\\python\\python35\\lib\\site-packages\\bs4\\builder\\_lxml.py:250: DeprecationWarning: inspect.getargspec() is deprecated, use inspect.signature() instead\n",
      "  self.parser.feed(markup)\n",
      "c:\\users\\inves\\appdata\\local\\programs\\python\\python35\\lib\\site-packages\\bs4\\builder\\_lxml.py:250: DeprecationWarning: inspect.getargspec() is deprecated, use inspect.signature() instead\n",
      "  self.parser.feed(markup)\n",
      "c:\\users\\inves\\appdata\\local\\programs\\python\\python35\\lib\\site-packages\\bs4\\builder\\_lxml.py:250: DeprecationWarning: inspect.getargspec() is deprecated, use inspect.signature() instead\n",
      "  self.parser.feed(markup)\n",
      "c:\\users\\inves\\appdata\\local\\programs\\python\\python35\\lib\\site-packages\\bs4\\builder\\_lxml.py:250: DeprecationWarning: inspect.getargspec() is deprecated, use inspect.signature() instead\n",
      "  self.parser.feed(markup)\n",
      "c:\\users\\inves\\appdata\\local\\programs\\python\\python35\\lib\\site-packages\\bs4\\builder\\_lxml.py:250: DeprecationWarning: inspect.getargspec() is deprecated, use inspect.signature() instead\n",
      "  self.parser.feed(markup)\n",
      "c:\\users\\inves\\appdata\\local\\programs\\python\\python35\\lib\\site-packages\\bs4\\builder\\_lxml.py:250: DeprecationWarning: inspect.getargspec() is deprecated, use inspect.signature() instead\n",
      "  self.parser.feed(markup)\n",
      "c:\\users\\inves\\appdata\\local\\programs\\python\\python35\\lib\\site-packages\\bs4\\builder\\_lxml.py:250: DeprecationWarning: inspect.getargspec() is deprecated, use inspect.signature() instead\n",
      "  self.parser.feed(markup)\n"
     ]
    },
    {
     "name": "stdout",
     "output_type": "stream",
     "text": [
      "current docket text table size/shape: (3244, 4)\n",
      "docket text 0\n",
      "COMPLAINT against Cardiogenics Holdings, Inc. filing fee $ 400, receipt number 0207-8445206 Was the Disclosure Statement on Civil Cover Sheet completed -YES,, filed by LG Capital Funding, LLC. (Steinmetz, Michael) (Additional attachment(s) added on 3/11/2016: # 1 Civil Cover Sheet, # 2 Proposed Summons) (Bowens, Priscilla). (Entered: 03/10/2016) \n",
      "\n",
      "docket text 1\n",
      "Case assigned to Judge Ann M Donnelly and Magistrate Judge Vera M. Scanlon. Please download and review the Individual Practices of the assigned Judges, located on our website. Attorneys are responsible for providing courtesy copies to judges where their Individual Practices require such. (Bowens, Priscilla) (Entered: 03/11/2016) \n",
      "\n",
      "docket text 2\n",
      "Summons Issued as to Cardiogenics Holdings, Inc.. (Bowens, Priscilla) (Entered: 03/11/2016) \n",
      "\n",
      "docket text 3\n",
      "NOTICE - emailed attorney regarding missing second page of the civil cover sheet. (Bowens, Priscilla) (Entered: 03/11/2016) \n",
      "\n",
      "docket text 4\n",
      "In accordance with Rule 73 of the Federal Rules of Civil Procedure and Local Rule 73.1, the parties are notified that if all parties consent a United States magistrate judge of this court is available to conduct all proceedings in this civil action including a (jury or nonjury) trial and to order the entry of a final judgment. Attached to the Notice is a blank copy of the consent form that should be filled out, signed and filed electronically only if all parties wish to consent. The form may also be accessed at the following link: http://www.uscourts.gov/uscourts/FormsAndFees/Forms/AO085.pdf. You may withhold your consent without adverse substantive consequences. Do NOT return or file the consent unless all parties have signed the consent. (Bowens, Priscilla) (Entered: 03/11/2016) \n",
      "\n"
     ]
    }
   ],
   "source": [
    "df = grab_dockets()\n",
    "docket_original = list(df['Docket Text'])\n",
    "for i in range(5):\n",
    "    print('docket text {}'.format(i))\n",
    "    print(docket_original[i], '\\n')"
   ]
  },
  {
   "cell_type": "code",
   "execution_count": 15,
   "metadata": {},
   "outputs": [
    {
     "name": "stdout",
     "output_type": "stream",
     "text": [
      "Wall time: 1h 40min 2s\n"
     ]
    }
   ],
   "source": [
    "%%time\n",
    "path_to_model = r'C:\\Users\\inves\\AppData\\Local\\Programs\\Python\\Python35\\Lib\\site-packages\\nltk\\stanford-ner-2018-02-27\\classifiers\\english.all.3class.distsim.crf.ser.gz'\n",
    "path_to_jar = r'C:\\Users\\inves\\AppData\\Local\\Programs\\Python\\Python35\\Lib\\site-packages\\nltk\\stanford-ner-2018-02-27\\stanford-ner.jar'\n",
    "tagger = StanfordNERTagger(path_to_model, path_to_jar = path_to_jar)\n",
    "\n",
    "output = []\n",
    "#length = 100 \n",
    "length = len(docket_original)\n",
    "for i in range(length):\n",
    "    org_str = []\n",
    "    name_str = []\n",
    "    stripped_str1 = []\n",
    "    stripped_str2 = []\n",
    "    tokens = nltk.tokenize.word_tokenize(docket_original[i])\n",
    "    for label in tagger.tag(tokens):\n",
    "        #print(label)\n",
    "        if label[1] == 'ORGANIZATION':\n",
    "            org_str.append(label[0])\n",
    "            stripped_str1.append('-ORG-')\n",
    "        elif label[1] == 'PERSON':\n",
    "            name_str.append(label[0])\n",
    "            stripped_str1.append('-NAME-')\n",
    "        else:\n",
    "            stripped_str1.append(label[0])\n",
    "            stripped_str2.append(label[0])\n",
    "    \n",
    "    output.append([docket_original[i],\n",
    "                   ' '.join(org_str),\n",
    "                   ' '.join(name_str),\n",
    "                   ' '.join(stripped_str1),\n",
    "                   ' '.join(stripped_str2)])\n",
    "    \n",
    "new_df = pd.DataFrame(output, columns = ['Original Text', 'Org Part', 'Name Part', 'Stripped Txt', 'RTW Txt'])"
   ]
  },
  {
   "cell_type": "code",
   "execution_count": 16,
   "metadata": {},
   "outputs": [
    {
     "name": "stdout",
     "output_type": "stream",
     "text": [
      "                                       Original Text  \\\n",
      "0  COMPLAINT against Cardiogenics Holdings, Inc. ...   \n",
      "1  Case assigned to Judge Ann M Donnelly and Magi...   \n",
      "2  Summons Issued as to Cardiogenics Holdings, In...   \n",
      "3  NOTICE - emailed attorney regarding missing se...   \n",
      "4  In accordance with Rule 73 of the Federal Rule...   \n",
      "\n",
      "                                          Org Part  \\\n",
      "0  Cardiogenics Holdings , Inc. LG Capital Funding   \n",
      "1      Individual Practices of the assigned Judges   \n",
      "2                            Cardiogenics Holdings   \n",
      "3                                                    \n",
      "4                                                    \n",
      "\n",
      "                                         Name Part  \\\n",
      "0             ( Steinmetz Michael Bowens Priscilla   \n",
      "1  Ann M Donnelly Vera M. Scanlon Bowens Priscilla   \n",
      "2                                 Bowens Priscilla   \n",
      "3                                 Bowens Priscilla   \n",
      "4                                 Bowens Priscilla   \n",
      "\n",
      "                                        Stripped Txt  \\\n",
      "0  COMPLAINT against -ORG- -ORG- -ORG- -ORG- fili...   \n",
      "1  Case assigned to Judge -NAME- -NAME- -NAME- an...   \n",
      "2  Summons Issued as to -ORG- -ORG- , Inc.. ( -NA...   \n",
      "3  NOTICE - emailed attorney regarding missing se...   \n",
      "4  In accordance with Rule 73 of the Federal Rule...   \n",
      "\n",
      "                                             RTW Txt  \n",
      "0  COMPLAINT against filing fee $ 400 , receipt n...  \n",
      "1  Case assigned to Judge and Magistrate Judge . ...  \n",
      "2  Summons Issued as to , Inc.. ( , ) ( Entered :...  \n",
      "3  NOTICE - emailed attorney regarding missing se...  \n",
      "4  In accordance with Rule 73 of the Federal Rule...  \n"
     ]
    }
   ],
   "source": [
    "print(new_df.head())\n",
    "docket_text_list = list(new_df['RTW Txt'])"
   ]
  },
  {
   "cell_type": "code",
   "execution_count": 17,
   "metadata": {},
   "outputs": [],
   "source": [
    "def text_preprocess1(text):\n",
    "    text = text.replace('-', '')\n",
    "    text = text.replace('(', ' ')\n",
    "    text = text.replace(')', ' ')\n",
    "    text = text.replace('(s)', 's')\n",
    "    text = text.replace('*', '')\n",
    "    return text\n",
    "\n",
    "def text_preprocess2(text):\n",
    "    text = text.replace('.', '')\n",
    "    return text\n",
    "\n",
    "def remove_stop(sentence):\n",
    "    output = []\n",
    "    for word in sentence.split():\n",
    "        if word not in set(stopwords.words('english')):\n",
    "            output.append(word)\n",
    "    return ' '.join(output)\n",
    "\n",
    "keywords = pd.read_csv('docket_texts/keywords.csv', header = None)\n",
    "keywords.columns = ['keywords']\n",
    "keyword_list = list(keywords['keywords'])"
   ]
  },
  {
   "cell_type": "code",
   "execution_count": 18,
   "metadata": {},
   "outputs": [
    {
     "name": "stdout",
     "output_type": "stream",
     "text": [
      "case assigned to judge and magistrate judge . please download and review the , located on our website . attorneys are responsible for providing courtesy copies to judges where their individual practices require such .   ,     entered : 03112016  \n",
      "3244\n"
     ]
    }
   ],
   "source": [
    "docket_text_list = [text_preprocess1(sentence).lower() for sentence in docket_text_list]\n",
    "print(docket_text_list[1])\n",
    "print(len(docket_text_list))"
   ]
  },
  {
   "cell_type": "code",
   "execution_count": 19,
   "metadata": {},
   "outputs": [],
   "source": [
    "class Splitter(object):\n",
    "\n",
    "    def __init__(self):\n",
    "        self.splitter = nltk.data.load('tokenizers/punkt/english.pickle')\n",
    "        self.tokenizer = nltk.tokenize.TreebankWordTokenizer()\n",
    "\n",
    "    def split(self,text):\n",
    "\n",
    "        # split into single sentence\n",
    "        sentences = self.splitter.tokenize(text)\n",
    "        # tokenization in each sentences\n",
    "        tokens = [self.tokenizer.tokenize(remove_stop(sent)) for sent in sentences]\n",
    "        return tokens\n",
    "\n",
    "\n",
    "class LemmatizationWithPOSTagger(object):\n",
    "    def __init__(self):\n",
    "        pass\n",
    "    def get_wordnet_pos(self,treebank_tag):\n",
    "        \"\"\"\n",
    "        return WORDNET POS compliance to WORDENT lemmatization (a,n,r,v) \n",
    "        \"\"\"\n",
    "        if treebank_tag.startswith('J'):\n",
    "            return wordnet.ADJ\n",
    "        elif treebank_tag.startswith('V'):\n",
    "            return wordnet.VERB\n",
    "        elif treebank_tag.startswith('N'):\n",
    "            return wordnet.NOUN\n",
    "        elif treebank_tag.startswith('R'):\n",
    "            return wordnet.ADV\n",
    "        else:\n",
    "            # As default pos in lemmatization is Noun\n",
    "            return wordnet.NOUN\n",
    "\n",
    "    def pos_tag(self,tokens):\n",
    "        # find the pos tagginf for each tokens [('What', 'WP'), ('can', 'MD'), ('I', 'PRP') ....\n",
    "        pos_tokens = [nltk.pos_tag(token) for token in tokens]\n",
    "\n",
    "        # lemmatization using pos tagg   \n",
    "        # convert into feature set of [('What', 'What', ['WP']), ('can', 'can', ['MD']), ... ie [original WORD, Lemmatized word, POS tag]\n",
    "        pos_tokens = [ [(word, lemmatizer.lemmatize(word,self.get_wordnet_pos(pos_tag)), [pos_tag]) for (word,pos_tag) in pos] for pos in pos_tokens]\n",
    "        return pos_tokens"
   ]
  },
  {
   "cell_type": "code",
   "execution_count": 20,
   "metadata": {},
   "outputs": [
    {
     "name": "stdout",
     "output_type": "stream",
     "text": [
      "Wall time: 2min 29s\n"
     ]
    }
   ],
   "source": [
    "%%time\n",
    "lemmatizer = WordNetLemmatizer()\n",
    "splitter = Splitter()\n",
    "lemmatization_using_pos_tagger = LemmatizationWithPOSTagger()\n",
    "\n",
    "lemma_docket_text_list = []\n",
    "for docket_text in docket_text_list:\n",
    "    #step 1 split document into sentence followed by tokenization\n",
    "    tokens = splitter.split(docket_text)\n",
    "\n",
    "    #step 2 lemmatization using pos tagger \n",
    "    lemma_pos_token = lemmatization_using_pos_tagger.pos_tag(tokens)\n",
    "    lemma_docket_text_list.append(lemma_pos_token)"
   ]
  },
  {
   "cell_type": "code",
   "execution_count": 21,
   "metadata": {},
   "outputs": [
    {
     "name": "stdout",
     "output_type": "stream",
     "text": [
      "3244\n",
      "3\n",
      "22\n",
      "('complaint', 'complaint', ['NN'])\n",
      "complaint\n"
     ]
    }
   ],
   "source": [
    "print(len(lemma_docket_text_list)) #docket text document level\n",
    "print(len(lemma_docket_text_list[0])) #docket text sentence level\n",
    "print(len(lemma_docket_text_list[0][0])) #docket text word level\n",
    "print(lemma_docket_text_list[0][0][0]) #docket text token level\n",
    "print(lemma_docket_text_list[0][0][0][0]) #docket text tuple level"
   ]
  },
  {
   "cell_type": "code",
   "execution_count": 22,
   "metadata": {},
   "outputs": [],
   "source": [
    "#lets do a collection of what we have\n",
    "collection = {}\n",
    "for lemma_pos_token in lemma_docket_text_list:\n",
    "    for sentence in lemma_pos_token:\n",
    "        for token in sentence:\n",
    "            #print(token[2][0])\n",
    "            if token[2][0] not in list(collection.keys()):\n",
    "                collection[token[2][0]] = []\n",
    "                collection[token[2][0]].append(token[1])\n",
    "            else:\n",
    "                if token[1] not in collection[token[2][0]]:\n",
    "                    collection[token[2][0]].append(token[1])"
   ]
  },
  {
   "cell_type": "code",
   "execution_count": 23,
   "metadata": {},
   "outputs": [],
   "source": [
    "pd.DataFrame(dict([ (k, pd.Series(v)) for k, v in collection.items()])).to_csv('NLP_pos.csv', index = False)"
   ]
  },
  {
   "cell_type": "code",
   "execution_count": 24,
   "metadata": {},
   "outputs": [
    {
     "name": "stdout",
     "output_type": "stream",
     "text": [
      "[['complaint file fee receipt number disclosure statement civil cover sheet complete yes file llc .', 'additional attachment add civil cover sheet proposed summons .', 'enter'], ['case assign judge magistrate judge .', 'please download review locate website .', 'attorney responsible provide courtesy copy judge individual practice require .', 'enter'], ['summons issue inc.. enter'], ['notice email attorney regard miss second page civil cover sheet .', 'enter'], ['accordance rule federal rule civil procedure local rule party notify party consent united state magistrate judge court available conduct proceeding civil action include jury nonjury trial order entry final judgment .', 'attach notice blank copy consent form fill sign file electronically party wish consent .', 'form may also access follow link http www.uscourts.govuscourtsformsandfeesformsao085.pdf .', 'may withhold consent without adverse substantive consequence .', 'return file consent unless party sign consent .', 'enter'], ['attorney case open filing check quality control .', 'see attachment correction make .', 'enter'], ['notice appearance behalf llc aty notice kehrli enter'], ['exhibit backend note llc .', 'related document complaint file llc .', 'enter'], ['exhibit b ta letter llc .', 'related document complaint file llc .', 'enter'], ['exhibit c notice conversion llc .', 'related document complaint file llc .', 'enter']]\n",
      "Wall time: 61.2 ms\n"
     ]
    }
   ],
   "source": [
    "%%time\n",
    "remove_pos = [\"``\", \"NNPS\", \"NNP\", \"CD\", '#', '$', \"''\", \",\", \"0\", \":\"]\n",
    "remove_word = []\n",
    "#rebuild corpus\n",
    "docket_texts_output = [] #ultimate output after cleaning\n",
    "\n",
    "for lemma_pos_token in lemma_docket_text_list:\n",
    "    docket_text_output = [] \n",
    "    for sentence in lemma_pos_token:\n",
    "        sentence_output = []\n",
    "        for token in sentence:\n",
    "            if token[2][0] not in remove_pos: #if the pos is not in the remove_pos list\n",
    "                sentence_output.append(token[1]) #append the the sentence\n",
    "        docket_text_output.append(' '.join(sentence_output))\n",
    "    docket_texts_output.append(docket_text_output)\n",
    "print(docket_texts_output[:10])"
   ]
  },
  {
   "cell_type": "code",
   "execution_count": 25,
   "metadata": {},
   "outputs": [
    {
     "data": {
      "text/html": [
       "<div>\n",
       "<table border=\"1\" class=\"dataframe\">\n",
       "  <thead>\n",
       "    <tr style=\"text-align: right;\">\n",
       "      <th></th>\n",
       "      <th>Original Text</th>\n",
       "      <th>Org Part</th>\n",
       "      <th>Name Part</th>\n",
       "      <th>Stripped Txt</th>\n",
       "      <th>RTW Txt</th>\n",
       "      <th>POS treat</th>\n",
       "    </tr>\n",
       "  </thead>\n",
       "  <tbody>\n",
       "    <tr>\n",
       "      <th>0</th>\n",
       "      <td>COMPLAINT against Cardiogenics Holdings, Inc. ...</td>\n",
       "      <td>Cardiogenics Holdings , Inc. LG Capital Funding</td>\n",
       "      <td>( Steinmetz Michael Bowens Priscilla</td>\n",
       "      <td>COMPLAINT against -ORG- -ORG- -ORG- -ORG- fili...</td>\n",
       "      <td>COMPLAINT against filing fee $ 400 , receipt n...</td>\n",
       "      <td>[complaint file fee receipt number disclosure ...</td>\n",
       "    </tr>\n",
       "    <tr>\n",
       "      <th>1</th>\n",
       "      <td>Case assigned to Judge Ann M Donnelly and Magi...</td>\n",
       "      <td>Individual Practices of the assigned Judges</td>\n",
       "      <td>Ann M Donnelly Vera M. Scanlon Bowens Priscilla</td>\n",
       "      <td>Case assigned to Judge -NAME- -NAME- -NAME- an...</td>\n",
       "      <td>Case assigned to Judge and Magistrate Judge . ...</td>\n",
       "      <td>[case assign judge magistrate judge ., please ...</td>\n",
       "    </tr>\n",
       "    <tr>\n",
       "      <th>2</th>\n",
       "      <td>Summons Issued as to Cardiogenics Holdings, In...</td>\n",
       "      <td>Cardiogenics Holdings</td>\n",
       "      <td>Bowens Priscilla</td>\n",
       "      <td>Summons Issued as to -ORG- -ORG- , Inc.. ( -NA...</td>\n",
       "      <td>Summons Issued as to , Inc.. ( , ) ( Entered :...</td>\n",
       "      <td>[summons issue inc.. enter]</td>\n",
       "    </tr>\n",
       "    <tr>\n",
       "      <th>3</th>\n",
       "      <td>NOTICE - emailed attorney regarding missing se...</td>\n",
       "      <td></td>\n",
       "      <td>Bowens Priscilla</td>\n",
       "      <td>NOTICE - emailed attorney regarding missing se...</td>\n",
       "      <td>NOTICE - emailed attorney regarding missing se...</td>\n",
       "      <td>[notice email attorney regard miss second page...</td>\n",
       "    </tr>\n",
       "    <tr>\n",
       "      <th>4</th>\n",
       "      <td>In accordance with Rule 73 of the Federal Rule...</td>\n",
       "      <td></td>\n",
       "      <td>Bowens Priscilla</td>\n",
       "      <td>In accordance with Rule 73 of the Federal Rule...</td>\n",
       "      <td>In accordance with Rule 73 of the Federal Rule...</td>\n",
       "      <td>[accordance rule federal rule civil procedure ...</td>\n",
       "    </tr>\n",
       "  </tbody>\n",
       "</table>\n",
       "</div>"
      ],
      "text/plain": [
       "                                       Original Text  \\\n",
       "0  COMPLAINT against Cardiogenics Holdings, Inc. ...   \n",
       "1  Case assigned to Judge Ann M Donnelly and Magi...   \n",
       "2  Summons Issued as to Cardiogenics Holdings, In...   \n",
       "3  NOTICE - emailed attorney regarding missing se...   \n",
       "4  In accordance with Rule 73 of the Federal Rule...   \n",
       "\n",
       "                                          Org Part  \\\n",
       "0  Cardiogenics Holdings , Inc. LG Capital Funding   \n",
       "1      Individual Practices of the assigned Judges   \n",
       "2                            Cardiogenics Holdings   \n",
       "3                                                    \n",
       "4                                                    \n",
       "\n",
       "                                         Name Part  \\\n",
       "0             ( Steinmetz Michael Bowens Priscilla   \n",
       "1  Ann M Donnelly Vera M. Scanlon Bowens Priscilla   \n",
       "2                                 Bowens Priscilla   \n",
       "3                                 Bowens Priscilla   \n",
       "4                                 Bowens Priscilla   \n",
       "\n",
       "                                        Stripped Txt  \\\n",
       "0  COMPLAINT against -ORG- -ORG- -ORG- -ORG- fili...   \n",
       "1  Case assigned to Judge -NAME- -NAME- -NAME- an...   \n",
       "2  Summons Issued as to -ORG- -ORG- , Inc.. ( -NA...   \n",
       "3  NOTICE - emailed attorney regarding missing se...   \n",
       "4  In accordance with Rule 73 of the Federal Rule...   \n",
       "\n",
       "                                             RTW Txt  \\\n",
       "0  COMPLAINT against filing fee $ 400 , receipt n...   \n",
       "1  Case assigned to Judge and Magistrate Judge . ...   \n",
       "2  Summons Issued as to , Inc.. ( , ) ( Entered :...   \n",
       "3  NOTICE - emailed attorney regarding missing se...   \n",
       "4  In accordance with Rule 73 of the Federal Rule...   \n",
       "\n",
       "                                           POS treat  \n",
       "0  [complaint file fee receipt number disclosure ...  \n",
       "1  [case assign judge magistrate judge ., please ...  \n",
       "2                        [summons issue inc.. enter]  \n",
       "3  [notice email attorney regard miss second page...  \n",
       "4  [accordance rule federal rule civil procedure ...  "
      ]
     },
     "execution_count": 25,
     "metadata": {},
     "output_type": "execute_result"
    }
   ],
   "source": [
    "new_df['POS treat'] = pd.Series(docket_texts_output)\n",
    "new_df.head()"
   ]
  },
  {
   "cell_type": "code",
   "execution_count": 26,
   "metadata": {},
   "outputs": [],
   "source": [
    "unigram_sentences_filepath = 'docket_texts/unigram_nltk_noorgnoname.txt'"
   ]
  },
  {
   "cell_type": "code",
   "execution_count": 27,
   "metadata": {},
   "outputs": [
    {
     "name": "stdout",
     "output_type": "stream",
     "text": [
      "Wall time: 14 ms\n"
     ]
    }
   ],
   "source": [
    "%%time\n",
    "# turn the lemmatized corpus into unigram sentences\n",
    "with codecs.open(unigram_sentences_filepath, 'w', encoding = 'utf_8') as f:\n",
    "    for docket_text in docket_texts_output:\n",
    "        for sentence in docket_text:\n",
    "            f.write(sentence + '\\n')"
   ]
  },
  {
   "cell_type": "code",
   "execution_count": 28,
   "metadata": {},
   "outputs": [],
   "source": [
    "unigram_sentences = LineSentence(unigram_sentences_filepath)"
   ]
  },
  {
   "cell_type": "code",
   "execution_count": 29,
   "metadata": {},
   "outputs": [
    {
     "name": "stdout",
     "output_type": "stream",
     "text": [
      "original text:\n",
      "['complaint file fee receipt number disclosure statement civil cover sheet complete yes file llc .', 'additional attachment add civil cover sheet proposed summons .', 'enter']\n",
      "\n",
      "unigram_sentence:\n",
      "complaint file fee receipt number disclosure statement civil cover sheet complete yes file llc .\n",
      "\n",
      "additional attachment add civil cover sheet proposed summons .\n",
      "\n",
      "enter\n",
      "\n",
      "case assign judge magistrate judge .\n",
      "\n",
      "please download review locate website .\n",
      "\n",
      "attorney responsible provide courtesy copy judge individual practice require .\n",
      "\n",
      "enter\n",
      "\n",
      "summons issue inc.. enter\n",
      "\n",
      "notice email attorney regard miss second page civil cover sheet .\n",
      "\n",
      "enter\n",
      "\n"
     ]
    }
   ],
   "source": [
    "#let's do some comparision between the original text and unigram sentences, shouldn't be that different.\n",
    "print('original text:')\n",
    "print(new_df['POS treat'].iloc[0])\n",
    "#print(df['Docket Text'].iloc[1])\n",
    "\n",
    "print('\\nunigram_sentence:')\n",
    "for unigram_sentence in it.islice(unigram_sentences, 0, 10):\n",
    "    print(' '.join(unigram_sentence))\n",
    "    print('')"
   ]
  },
  {
   "cell_type": "code",
   "execution_count": 30,
   "metadata": {},
   "outputs": [],
   "source": [
    "bigram_model_filepath = 'docket_texts/bigram_model_noorgnoname' "
   ]
  },
  {
   "cell_type": "code",
   "execution_count": 31,
   "metadata": {},
   "outputs": [
    {
     "name": "stdout",
     "output_type": "stream",
     "text": [
      "Wall time: 207 ms\n"
     ]
    }
   ],
   "source": [
    "%%time\n",
    "\n",
    "# store our bigram model\n",
    "bigram_model = Phrases(unigram_sentences)\n",
    "bigram_model.save(bigram_model_filepath)\n",
    "    \n",
    "# load the finished model from disk if we don't want to run this again\n",
    "#bigram_model = Phrases.load(bigram_model_filepath)"
   ]
  },
  {
   "cell_type": "code",
   "execution_count": 32,
   "metadata": {},
   "outputs": [],
   "source": [
    "bigram_sentences_filepath = 'docket_texts/bigram_sentences_noorgnoname.txt'"
   ]
  },
  {
   "cell_type": "code",
   "execution_count": 33,
   "metadata": {},
   "outputs": [
    {
     "name": "stderr",
     "output_type": "stream",
     "text": [
      "c:\\users\\inves\\appdata\\local\\programs\\python\\python35\\lib\\site-packages\\gensim\\models\\phrases.py:494: UserWarning: For a faster implementation, use the gensim.models.phrases.Phraser class\n",
      "  warnings.warn(\"For a faster implementation, use the gensim.models.phrases.Phraser class\")\n"
     ]
    },
    {
     "name": "stdout",
     "output_type": "stream",
     "text": [
      "Wall time: 523 ms\n"
     ]
    }
   ],
   "source": [
    "%%time\n",
    "\n",
    "# apply the bigram model, and write it to file\n",
    "with codecs.open(bigram_sentences_filepath, 'w', encoding = 'utf_8') as f:\n",
    "    for unigram_sentence in unigram_sentences:\n",
    "        bigram_sentence = ' '.join(bigram_model[unigram_sentence])\n",
    "        f.write(bigram_sentence + '\\n')"
   ]
  },
  {
   "cell_type": "code",
   "execution_count": 34,
   "metadata": {},
   "outputs": [
    {
     "name": "stdout",
     "output_type": "stream",
     "text": [
      "unigram length = 11502, bigram length = 11502\n"
     ]
    }
   ],
   "source": [
    "bigram_sentences = LineSentence(bigram_sentences_filepath)\n",
    "print('unigram length = {}, bigram length = {}'.format(len(list(unigram_sentences)), len(list(bigram_sentences))))"
   ]
  },
  {
   "cell_type": "code",
   "execution_count": 35,
   "metadata": {},
   "outputs": [
    {
     "name": "stdout",
     "output_type": "stream",
     "text": [
      "original text:\n",
      "['complaint file fee receipt number disclosure statement civil cover sheet complete yes file llc .', 'additional attachment add civil cover sheet proposed summons .', 'enter']\n",
      "['case assign judge magistrate judge .', 'please download review locate website .', 'attorney responsible provide courtesy copy judge individual practice require .', 'enter']\n",
      "\n",
      "unigram sentence:\n",
      "complaint file fee receipt number disclosure statement civil cover sheet complete yes file llc .\n",
      "additional attachment add civil cover sheet proposed summons .\n",
      "enter\n",
      "case assign judge magistrate judge .\n",
      "please download review locate website .\n",
      "attorney responsible provide courtesy copy judge individual practice require .\n",
      "enter\n",
      "summons issue inc.. enter\n",
      "notice email attorney regard miss second page civil cover sheet .\n",
      "enter\n",
      "\n",
      "bigram sentence:\n",
      "complaint file fee_receipt number disclosure_statement civil_cover sheet complete_yes file llc .\n",
      "additional attachment_add civil_cover sheet proposed summons .\n",
      "enter\n",
      "case assign judge magistrate_judge .\n",
      "please_download review_locate website .\n",
      "attorney_responsible provide_courtesy copy judge individual_practice require .\n",
      "enter\n",
      "summons_issue inc.. enter\n",
      "notice email attorney regard miss second page civil_cover sheet .\n",
      "enter\n"
     ]
    }
   ],
   "source": [
    "#original v. unigram v. bigram. Some phrases should be combined already\n",
    "start = 0\n",
    "finish = 10\n",
    "print('original text:')\n",
    "print(new_df['POS treat'].iloc[0])\n",
    "print(new_df['POS treat'].iloc[1])\n",
    "\n",
    "print('\\nunigram sentence:')\n",
    "for unigram_sentence in it.islice(unigram_sentences, 0, 10):\n",
    "    print(' '.join(unigram_sentence))\n",
    "print('\\nbigram sentence:')\n",
    "for bigram_sentence in it.islice(bigram_sentences, start, finish):\n",
    "    print(' '.join(bigram_sentence))"
   ]
  },
  {
   "cell_type": "code",
   "execution_count": 36,
   "metadata": {},
   "outputs": [],
   "source": [
    "trigram_model_filepath = 'docket_texts/trigram_model_nonamenoorg'"
   ]
  },
  {
   "cell_type": "code",
   "execution_count": 37,
   "metadata": {},
   "outputs": [
    {
     "name": "stdout",
     "output_type": "stream",
     "text": [
      "Wall time: 186 ms\n"
     ]
    }
   ],
   "source": [
    "%%time\n",
    "\n",
    "# again, using Phrases to attach more words to phrases already formed\n",
    "trigram_model = Phrases(bigram_sentences)\n",
    "trigram_model.save(trigram_model_filepath)\n",
    "\n",
    "# load the finished model from disk\n",
    "#trigram_model = Phrases.load(trigram_model_filepath)"
   ]
  },
  {
   "cell_type": "code",
   "execution_count": 38,
   "metadata": {},
   "outputs": [],
   "source": [
    "trigram_sentences_filepath = 'docket_texts/trigram_sentences_nonamenoorg.txt'"
   ]
  },
  {
   "cell_type": "code",
   "execution_count": 39,
   "metadata": {},
   "outputs": [
    {
     "name": "stderr",
     "output_type": "stream",
     "text": [
      "c:\\users\\inves\\appdata\\local\\programs\\python\\python35\\lib\\site-packages\\gensim\\models\\phrases.py:494: UserWarning: For a faster implementation, use the gensim.models.phrases.Phraser class\n",
      "  warnings.warn(\"For a faster implementation, use the gensim.models.phrases.Phraser class\")\n"
     ]
    },
    {
     "name": "stdout",
     "output_type": "stream",
     "text": [
      "Wall time: 438 ms\n"
     ]
    }
   ],
   "source": [
    "%%time\n",
    "\n",
    "with codecs.open(trigram_sentences_filepath, 'w', encoding = 'utf_8') as f:\n",
    "    for bigram_sentence in bigram_sentences:\n",
    "        #print('Bi', bigram_sentence)\n",
    "        trigram_sentence = ' '.join(trigram_model[bigram_sentence])\n",
    "        #print('Tri', trigram_sentence)\n",
    "        f.write(trigram_sentence + '\\n')"
   ]
  },
  {
   "cell_type": "code",
   "execution_count": 40,
   "metadata": {},
   "outputs": [],
   "source": [
    "trigram_sentences = LineSentence(trigram_sentences_filepath)"
   ]
  },
  {
   "cell_type": "code",
   "execution_count": 41,
   "metadata": {},
   "outputs": [
    {
     "name": "stdout",
     "output_type": "stream",
     "text": [
      "original text:\n",
      "['complaint file fee receipt number disclosure statement civil cover sheet complete yes file llc .', 'additional attachment add civil cover sheet proposed summons .', 'enter'] \n",
      "\n",
      "['case assign judge magistrate judge .', 'please download review locate website .', 'attorney responsible provide courtesy copy judge individual practice require .', 'enter'] \n",
      "\n",
      "['summons issue inc.. enter'] \n",
      "\n",
      "['notice email attorney regard miss second page civil cover sheet .', 'enter'] \n",
      "\n",
      "\n",
      "UNIGRAM Sentence:\n",
      "complaint file fee receipt number disclosure statement civil cover sheet complete yes file llc .\n",
      "additional attachment add civil cover sheet proposed summons .\n",
      "enter\n",
      "case assign judge magistrate judge .\n",
      "please download review locate website .\n",
      "attorney responsible provide courtesy copy judge individual practice require .\n",
      "enter\n",
      "summons issue inc.. enter\n",
      "notice email attorney regard miss second page civil cover sheet .\n",
      "enter\n",
      "accordance rule federal rule civil procedure local rule party notify party consent united state magistrate judge court available conduct proceeding civil action include jury nonjury trial order entry final judgment .\n",
      "attach notice blank copy consent form fill sign file electronically party wish consent .\n",
      "form may also access follow link http www.uscourts.govuscourtsformsandfeesformsao085.pdf .\n",
      "may withhold consent without adverse substantive consequence .\n",
      "return file consent unless party sign consent .\n",
      "\n",
      "BIGRAM Sentence:\n",
      "complaint file fee_receipt number disclosure_statement civil_cover sheet complete_yes file llc .\n",
      "additional attachment_add civil_cover sheet proposed summons .\n",
      "enter\n",
      "case assign judge magistrate_judge .\n",
      "please_download review_locate website .\n",
      "attorney_responsible provide_courtesy copy judge individual_practice require .\n",
      "enter\n",
      "summons_issue inc.. enter\n",
      "notice email attorney regard miss second page civil_cover sheet .\n",
      "enter\n",
      "accordance rule_federal rule_civil procedure_local rule party notify party consent united_state magistrate_judge court available_conduct proceeding civil action include jury_nonjury trial order entry final judgment .\n",
      "attach notice blank copy consent form_fill sign file electronically party_wish consent .\n",
      "form may also_access follow_link http_www.uscourts.govuscourtsformsandfeesformsao085.pdf .\n",
      "may_withhold consent without_adverse substantive_consequence .\n",
      "return file consent_unless party sign consent .\n",
      "\n",
      "TRIGRAM Sentence:\n",
      "complaint file fee_receipt_number disclosure_statement_civil_cover sheet_complete_yes file llc .\n",
      "additional_attachment_add civil_cover_sheet proposed summons .\n",
      "enter\n",
      "case_assign judge magistrate_judge .\n",
      "please_download_review_locate website .\n",
      "attorney_responsible_provide_courtesy copy judge_individual_practice require .\n",
      "enter\n",
      "summons_issue inc.. enter\n",
      "notice email attorney regard miss second page civil_cover_sheet .\n",
      "enter\n",
      "accordance_rule_federal rule_civil_procedure_local rule party notify party consent united_state_magistrate_judge court available_conduct_proceeding civil_action include_jury_nonjury trial order entry_final judgment .\n",
      "attach notice blank_copy consent_form_fill sign file electronically_party_wish consent .\n",
      "form may_also_access follow_link_http_www.uscourts.govuscourtsformsandfeesformsao085.pdf .\n",
      "may_withhold_consent without_adverse_substantive_consequence .\n",
      "return file consent_unless party sign consent .\n"
     ]
    }
   ],
   "source": [
    "start = 0\n",
    "finish = 15\n",
    "print('original text:')\n",
    "print(new_df['POS treat'].iloc[0],'\\n')\n",
    "print(new_df['POS treat'].iloc[1],'\\n')\n",
    "print(new_df['POS treat'].iloc[2],'\\n')\n",
    "print(new_df['POS treat'].iloc[3],'\\n')\n",
    "\n",
    "print('\\nUNIGRAM Sentence:')\n",
    "for unigram_sentence in it.islice(unigram_sentences, start, finish):\n",
    "    print(' '.join(unigram_sentence))\n",
    "print('\\nBIGRAM Sentence:')\n",
    "for bigram_sentence in it.islice(bigram_sentences, start, finish):\n",
    "    print(' '.join(bigram_sentence))\n",
    "print('\\nTRIGRAM Sentence:')\n",
    "for trigram_sentence in it.islice(trigram_sentences, start, finish):\n",
    "    print(' '.join(trigram_sentence))"
   ]
  },
  {
   "cell_type": "code",
   "execution_count": 42,
   "metadata": {},
   "outputs": [],
   "source": [
    "def trigram_transform(texts):\n",
    "    trigram_output = []\n",
    "    #print(texts)\n",
    "    \n",
    "    for sentence in texts:\n",
    "        unigram_review = []\n",
    "        for word in sentence.split():\n",
    "            unigram_review.append(word)\n",
    "    \n",
    "        #print('Uni: ', unigram_review)\n",
    "        bigram_review = bigram_model[unigram_review]\n",
    "        #print('Bi: ', bigram_review)\n",
    "        trigram_review = trigram_model[bigram_review]\n",
    "        #print('Tri: ', trigram_review)\n",
    "        trigram_output.append(' '.join(trigram_review))\n",
    "    return trigram_output"
   ]
  },
  {
   "cell_type": "code",
   "execution_count": 43,
   "metadata": {},
   "outputs": [
    {
     "name": "stderr",
     "output_type": "stream",
     "text": [
      "c:\\users\\inves\\appdata\\local\\programs\\python\\python35\\lib\\site-packages\\gensim\\models\\phrases.py:494: UserWarning: For a faster implementation, use the gensim.models.phrases.Phraser class\n",
      "  warnings.warn(\"For a faster implementation, use the gensim.models.phrases.Phraser class\")\n"
     ]
    }
   ],
   "source": [
    "new_df['Phrase Model'] = new_df['POS treat'].apply(trigram_transform)"
   ]
  },
  {
   "cell_type": "code",
   "execution_count": 44,
   "metadata": {},
   "outputs": [
    {
     "data": {
      "text/plain": [
       "['complaint file fee_receipt_number disclosure_statement_civil_cover sheet_complete_yes file llc .',\n",
       " 'additional_attachment_add civil_cover_sheet proposed summons .',\n",
       " 'enter']"
      ]
     },
     "execution_count": 44,
     "metadata": {},
     "output_type": "execute_result"
    }
   ],
   "source": [
    "new_df['Phrase Model'].iloc[0]"
   ]
  },
  {
   "cell_type": "code",
   "execution_count": 45,
   "metadata": {},
   "outputs": [],
   "source": [
    "#write trigram to file\n",
    "trigram_dockets_filepath = 'docket_texts/trigram_transformed_dockets_noorgnoname.txt'"
   ]
  },
  {
   "cell_type": "code",
   "execution_count": 46,
   "metadata": {},
   "outputs": [],
   "source": [
    "with codecs.open(trigram_dockets_filepath, 'w', encoding= 'utf_8') as f:\n",
    "    for i in range(len(new_df['Phrase Model'])):\n",
    "        f.write(' '.join(new_df['Phrase Model'][i]) + '\\n')"
   ]
  },
  {
   "cell_type": "code",
   "execution_count": 47,
   "metadata": {},
   "outputs": [],
   "source": [
    "trigram_dictionary_filepath = 'docket_texts/trigram_dict_noorgnoname.dict'"
   ]
  },
  {
   "cell_type": "code",
   "execution_count": 48,
   "metadata": {},
   "outputs": [
    {
     "name": "stdout",
     "output_type": "stream",
     "text": [
      "Wall time: 101 ms\n"
     ]
    }
   ],
   "source": [
    "%%time\n",
    "\n",
    "#some dictionary hyperparameters:\n",
    "no_below = 10 #reference is 10\n",
    "no_above = 0.4 #reference is 0.4\n",
    "\n",
    "trigram_reviews = LineSentence(trigram_dockets_filepath)\n",
    "\n",
    "# learn the dictionary by iterating over all of the reviews\n",
    "trigram_dictionary = Dictionary(trigram_reviews)\n",
    "\n",
    "# filter tokens that are very rare otrigram_reviewsr too common from\n",
    "# the dictionary (filter_extremes) and reassign integer ids (compactify)\n",
    "trigram_dictionary.filter_extremes(no_below = no_below, no_above = no_above) #this step is questionable. May need to change the parameters\n",
    "trigram_dictionary.compactify()\n",
    "\n",
    "trigram_dictionary.save(trigram_dictionary_filepath)\n",
    "    \n",
    "# load the finished dictionary from disk\n",
    "#trigram_dictionary = Dictionary.load(trigram_dictionary_filepath)"
   ]
  },
  {
   "cell_type": "code",
   "execution_count": 49,
   "metadata": {},
   "outputs": [],
   "source": [
    "trigram_bow_filepath = 'docket_texts/trigram_bow_corpus_noorgnoname.mm'"
   ]
  },
  {
   "cell_type": "code",
   "execution_count": 50,
   "metadata": {},
   "outputs": [],
   "source": [
    "def trigram_bow_generator(filepath):\n",
    "    \"\"\"\n",
    "    generator function to read reviews from a file\n",
    "    and yield a bag-of-words representation\n",
    "    \"\"\"\n",
    "    \n",
    "    for review in LineSentence(filepath):\n",
    "        #print(review)\n",
    "        #print(trigram_dictionary.doc2bow(review))\n",
    "        yield trigram_dictionary.doc2bow(review)"
   ]
  },
  {
   "cell_type": "code",
   "execution_count": 51,
   "metadata": {},
   "outputs": [
    {
     "name": "stdout",
     "output_type": "stream",
     "text": [
      "MmCorpus(11502 documents, 850 features, 36759 non-zero entries)\n",
      "Wall time: 214 ms\n"
     ]
    }
   ],
   "source": [
    "%%time\n",
    "\n",
    "# generate bag-of-words representations for\n",
    "# all reviews and save them as a matrix\n",
    "MmCorpus.serialize(trigram_bow_filepath, trigram_bow_generator(trigram_sentences_filepath))\n",
    "    \n",
    "# load the finished bag-of-words corpus from disk\n",
    "trigram_bow_corpus = MmCorpus(trigram_bow_filepath)\n",
    "print(trigram_bow_corpus)"
   ]
  },
  {
   "cell_type": "code",
   "execution_count": 52,
   "metadata": {},
   "outputs": [],
   "source": [
    "def explore_topic(model, topic_number, topn = 10):\n",
    "    topics = []\n",
    "    print('{:20} {}'.format('term', 'frequency') + '\\n')\n",
    "    for term, frequency in model.show_topic(topic_number, topn = topn):\n",
    "        print('{:20} {:.3f}'.format(term, round(frequency, 3)))\n",
    "        topics.append((term, round(frequency, 3)))\n",
    "    return topics"
   ]
  },
  {
   "cell_type": "code",
   "execution_count": 53,
   "metadata": {},
   "outputs": [],
   "source": [
    "def topic_modeling_pipeline(num_topics, model_file_path, trigram_bow_corpus, trigram_dictionary, export = False):\n",
    "\n",
    "    with warnings.catch_warnings():\n",
    "        warnings.simplefilter('ignore')\n",
    "\n",
    "        # workers => sets the parallelism, and should be\n",
    "        # set to your number of physical cores minus one\n",
    "        lda = LdaMulticore(trigram_bow_corpus, num_topics = num_topics, id2word = trigram_dictionary, workers = 4)\n",
    "\n",
    "        lda.save(model_file_path)\n",
    "    \n",
    "    topic_dict = {}\n",
    "    for i in range(num_topics):\n",
    "        print(\"\\n Topic {}'s make-up:\".format(i + 1))\n",
    "        topic_dict[i] = explore_topic(lda, topic_number = i)\n",
    "    \n",
    "    if export:\n",
    "        pd.DataFrame(topic_dict).to_csv(model_file_path + 'topics.csv')\n",
    "    \n",
    "    LDAvis_data_filepath = model_file_path + '_ldavis'\n",
    "    \n",
    "    LDAvis_prepared = pyLDAvis.gensim.prepare(lda, trigram_bow_corpus, trigram_dictionary)\n",
    "\n",
    "    with open(LDAvis_data_filepath, 'wb') as f:\n",
    "        pickle.dump(LDAvis_prepared, f)\n",
    "        \n",
    "    with open(LDAvis_data_filepath, 'rb') as f:\n",
    "        LDAvis_prepared = pickle.load(f)\n",
    "        \n",
    "    return LDAvis_prepared, lda"
   ]
  },
  {
   "cell_type": "code",
   "execution_count": 54,
   "metadata": {},
   "outputs": [],
   "source": [
    "def lda_description(docket_text, lda, trigram_dictionary, topic_names, min_topic_freq = 0.05):\n",
    "    '''\n",
    "    accept the processed texts (trigram) of a review and \n",
    "    1) create a bag-of-words representation, \n",
    "    4) create an LDA representation, and\n",
    "    5) print a sorted list of the top topics in the LDA representation\n",
    "    '''\n",
    "    output = []\n",
    "    analyze_this = []\n",
    "    for sentence in docket_text:\n",
    "        analyze_this += sentence.split()\n",
    "    \n",
    "    # create a bag-of-words representation\n",
    "    review_bow = trigram_dictionary.doc2bow(analyze_this)\n",
    "    # create an LDA representation\n",
    "    review_lda = lda[review_bow]\n",
    "    \n",
    "    # sort with the most highly related topics first\n",
    "    review_lda.sort(key = lambda tup: tup[1], reverse = True)\n",
    "    #print(review_lda)\n",
    "    for topic_number, freq in review_lda:\n",
    "        if freq < min_topic_freq:\n",
    "            break\n",
    "            \n",
    "        # print the most highly related topic names and frequencies\n",
    "        #print('{:25} {}'.format(topic_names[topic_number], round(freq, 3)))\n",
    "        output.append((topic_names[topic_number], round(freq, 5)))\n",
    "    return output"
   ]
  },
  {
   "cell_type": "code",
   "execution_count": 63,
   "metadata": {},
   "outputs": [
    {
     "name": "stdout",
     "output_type": "stream",
     "text": [
      "3244\n"
     ]
    },
    {
     "data": {
      "text/plain": [
       "[('Topic 1', 0.59674), ('Topic 0', 0.40326)]"
      ]
     },
     "execution_count": 63,
     "metadata": {},
     "output_type": "execute_result"
    }
   ],
   "source": [
    "\n",
    "print(len(list(new_df['Phrase Model'])))\n",
    "lda_description(list(new_df['Phrase Model'])[50], lda, trigram_dictionary, topic_names)"
   ]
  },
  {
   "cell_type": "code",
   "execution_count": 66,
   "metadata": {},
   "outputs": [
    {
     "name": "stdout",
     "output_type": "stream",
     "text": [
      "\n",
      " Topic 1's make-up:\n",
      "term                 frequency\n",
      "\n",
      "order                0.046\n",
      "motion               0.035\n",
      "exhibit              0.025\n",
      "defendant            0.017\n",
      "date                 0.016\n",
      "party                0.014\n",
      "letter               0.012\n",
      "magistrate_judge     0.010\n",
      "'s                   0.010\n",
      "court                0.010\n",
      "\n",
      " Topic 2's make-up:\n",
      "term                 frequency\n",
      "\n",
      "exhibit              0.103\n",
      "motion               0.064\n",
      "order                0.038\n",
      "'s                   0.016\n",
      "notice               0.016\n",
      "sign_judge           0.011\n",
      "attachment           0.010\n",
      "plaintiff            0.009\n",
      "shall                0.009\n",
      "complaint            0.009\n",
      "['complaint', 'file', 'fee_receipt_number', 'disclosure_statement_civil_cover', 'sheet_complete_yes', 'file', 'llc', '.', 'additional_attachment_add', 'civil_cover_sheet', 'proposed', 'summons', '.', 'enter']\n"
     ]
    },
    {
     "ename": "TypeError",
     "evalue": "lda_description() missing 1 required positional argument: 'topic_names'",
     "output_type": "error",
     "traceback": [
      "\u001b[1;31m---------------------------------------------------------------------------\u001b[0m",
      "\u001b[1;31mTypeError\u001b[0m                                 Traceback (most recent call last)",
      "\u001b[1;32m<ipython-input-66-d50d12e5864a>\u001b[0m in \u001b[0;36m<module>\u001b[1;34m()\u001b[0m\n\u001b[0;32m     13\u001b[0m         \u001b[0msent_output\u001b[0m \u001b[1;33m+=\u001b[0m \u001b[0msentence\u001b[0m\u001b[1;33m.\u001b[0m\u001b[0msplit\u001b[0m\u001b[1;33m(\u001b[0m\u001b[1;33m)\u001b[0m\u001b[1;33m\u001b[0m\u001b[0m\n\u001b[0;32m     14\u001b[0m     \u001b[0mprint\u001b[0m\u001b[1;33m(\u001b[0m\u001b[0msent_output\u001b[0m\u001b[1;33m)\u001b[0m\u001b[1;33m\u001b[0m\u001b[0m\n\u001b[1;32m---> 15\u001b[1;33m     \u001b[0mtopic_summary\u001b[0m\u001b[1;33m.\u001b[0m\u001b[0mappend\u001b[0m\u001b[1;33m(\u001b[0m\u001b[0mlda_description\u001b[0m\u001b[1;33m(\u001b[0m\u001b[0msent_output\u001b[0m\u001b[1;33m,\u001b[0m \u001b[0mlda\u001b[0m\u001b[1;33m,\u001b[0m \u001b[0mtrigram_dictionary\u001b[0m\u001b[1;33m)\u001b[0m\u001b[1;33m)\u001b[0m\u001b[1;33m\u001b[0m\u001b[0m\n\u001b[0m\u001b[0;32m     16\u001b[0m \u001b[0mprint\u001b[0m\u001b[1;33m(\u001b[0m\u001b[0mlen\u001b[0m\u001b[1;33m(\u001b[0m\u001b[0mtopic_summary\u001b[0m\u001b[1;33m)\u001b[0m\u001b[1;33m)\u001b[0m\u001b[1;33m\u001b[0m\u001b[0m\n\u001b[0;32m     17\u001b[0m \u001b[0mpyLDAvis\u001b[0m\u001b[1;33m.\u001b[0m\u001b[0mdisplay\u001b[0m\u001b[1;33m(\u001b[0m\u001b[0mLDAvis_prepared\u001b[0m\u001b[1;33m)\u001b[0m\u001b[1;33m\u001b[0m\u001b[0m\n",
      "\u001b[1;31mTypeError\u001b[0m: lda_description() missing 1 required positional argument: 'topic_names'"
     ]
    }
   ],
   "source": [
    "#for topics = 2, providing topic visualizations, topic constituents for each topic, and classifying each docket text\n",
    "num_topics = 2\n",
    "topic_names = {}\n",
    "for i in range(2):\n",
    "    topic_names[i] = 'Topic ' + str(i)\n",
    "\n",
    "lda2_model_filepath = 'docket_texts/lda_model_noorgnomodel_2'\n",
    "LDAvis_prepared, lda = topic_modeling_pipeline(num_topics, lda2_model_filepath, trigram_bow_corpus, trigram_dictionary, export = True)\n",
    "topic_summary = []\n",
    "for docket_text in list(new_df['Phrase Model']):\n",
    "    sent_output = []\n",
    "    for sentence in docket_text:\n",
    "        sent_output += sentence.split()\n",
    "    print(sent_output)\n",
    "    topic_summary.append(lda_description(sent_output, lda, trigram_dictionary))\n",
    "print(len(topic_summary))\n",
    "pyLDAvis.display(LDAvis_prepared)\n"
   ]
  },
  {
   "cell_type": "code",
   "execution_count": 346,
   "metadata": {},
   "outputs": [
    {
     "name": "stdout",
     "output_type": "stream",
     "text": [
      "\n",
      " Topic 1's make-up:\n",
      "term                 frequency\n",
      "\n",
      "order                0.053\n",
      "motion               0.048\n",
      "judge                0.021\n",
      "case                 0.020\n",
      "'s                   0.015\n",
      "shall                0.012\n",
      "exhibit              0.012\n",
      "attachment           0.012\n",
      "complaint            0.010\n",
      "magistrate_judge     0.010\n",
      "\n",
      " Topic 2's make-up:\n",
      "term                 frequency\n",
      "\n",
      "motion               0.033\n",
      "'s                   0.023\n",
      "court                0.022\n",
      "defendant            0.022\n",
      "date                 0.021\n",
      "request              0.018\n",
      "order                0.017\n",
      "party                0.015\n",
      "magistrate_judge     0.009\n",
      "letter               0.009\n",
      "\n",
      " Topic 3's make-up:\n",
      "term                 frequency\n",
      "\n",
      "exhibit              0.140\n",
      "motion               0.066\n",
      "order                0.050\n",
      "notice               0.017\n",
      "sign_judge           0.011\n",
      "defendant            0.010\n",
      "plaintiff            0.009\n",
      "inc..                0.009\n",
      "dismiss              0.009\n",
      "party                0.009\n"
     ]
    },
    {
     "data": {
      "text/html": [
       "\n",
       "<link rel=\"stylesheet\" type=\"text/css\" href=\"https://cdn.rawgit.com/bmabey/pyLDAvis/files/ldavis.v1.0.0.css\">\n",
       "\n",
       "\n",
       "<div id=\"ldavis_el1345219840122407204240193884\"></div>\n",
       "<script type=\"text/javascript\">\n",
       "\n",
       "var ldavis_el1345219840122407204240193884_data = {\"tinfo\": {\"loglift\": [30.0, 29.0, 28.0, 27.0, 26.0, 25.0, 24.0, 23.0, 22.0, 21.0, 20.0, 19.0, 18.0, 17.0, 16.0, 15.0, 14.0, 13.0, 12.0, 11.0, 10.0, 9.0, 8.0, 7.0, 6.0, 5.0, 4.0, 3.0, 2.0, 1.0, 0.9075, 0.891, 0.8854, 0.8838, 0.8666, 0.8639, 0.8584, 0.8561, 0.8468, 0.8434, 0.8366, 0.8278, 0.8274, 0.8211, 0.814, 0.8123, 0.8036, 0.7969, 0.7943, 0.7831, 0.7808, 0.7792, 0.7775, 0.7625, 0.7599, 0.7593, 0.7507, 0.75, 0.7461, 0.746, 0.731, 0.7118, 0.7154, 0.7248, 0.7386, 0.5514, 0.6312, 0.5674, 0.4033, 0.6786, 0.4139, 0.508, 0.5587, 0.5662, 0.5279, 0.4295, 0.4408, 0.3467, 0.494, 0.4875, 0.4938, -0.389, 0.1522, 0.1324, 0.3159, 0.099, -0.8215, -0.0401, 0.123, 0.1461, -0.3683, 0.2552, 0.0924, -0.3208, 0.1075, -2.1044, -0.1728, 0.9271, 0.9253, 0.9183, 0.9142, 0.8948, 0.8914, 0.8893, 0.8885, 0.8856, 0.8849, 0.8822, 0.8769, 0.8741, 0.8683, 0.8624, 0.8592, 0.8587, 0.854, 0.8452, 0.8391, 0.8343, 0.8305, 0.8214, 0.8207, 0.8205, 0.8138, 0.8115, 0.8097, 0.8095, 0.8049, 0.7952, 0.8038, 0.8014, 0.7519, 0.7942, 0.7911, 0.7439, 0.7875, 0.6172, 0.7771, 0.7591, 0.2947, 0.7394, 0.2749, 0.4207, 0.6116, 0.3751, 0.4135, 0.3919, 0.3884, 0.6386, 0.2188, 0.469, 0.2263, 0.6342, 0.1421, 0.126, 0.5166, 0.1903, 0.1981, -0.0444, -0.1118, 0.2212, 0.1023, -0.2964, 0.1963, 0.2756, 0.3354, 0.1301, -0.0469, -0.729, -0.3002, 1.2937, 1.2759, 1.2715, 1.2589, 1.2499, 1.2249, 1.2206, 1.2157, 1.2128, 1.1811, 1.1785, 1.1756, 1.1688, 1.1662, 1.162, 1.1598, 1.155, 1.141, 1.1399, 1.1387, 1.1317, 1.1309, 1.1176, 1.1104, 1.1096, 1.1089, 1.1036, 1.1018, 1.1005, 1.1002, 1.0805, 1.095, 0.9993, 0.9842, 0.976, 0.9291, 1.0434, 0.8743, 1.0312, 0.8042, 0.8751, 1.0076, 1.0187, 0.3249, 0.7357, 0.7852, 0.598, 0.5973, -0.0152, 0.4832, 0.3917, 0.4084, 0.7815, 0.3399, 0.0076, 0.472, 0.713, 0.5318, 0.336, 0.5411, -0.0324, -0.3589, -0.1482, -1.5251, 0.0385, -0.6428, -0.8844], \"Total\": [2444.0, 1618.0, 337.0, 308.0, 469.0, 423.0, 2097.0, 372.0, 276.0, 548.0, 283.0, 149.0, 123.0, 652.0, 212.0, 156.0, 171.0, 116.0, 121.0, 83.0, 137.0, 66.0, 143.0, 113.0, 125.0, 97.0, 54.0, 359.0, 263.0, 42.0, 18.485491544735492, 18.402758924221175, 83.95808328786403, 20.305435568353634, 19.134494418695475, 51.59387711376858, 60.895898775728426, 58.6070632969148, 63.63315740667545, 50.068654082052355, 19.622699399753042, 116.25697961884732, 17.76334927912438, 26.480839245672232, 15.754470085081142, 49.94936114148996, 13.074390475704092, 76.63967261326663, 19.547308076834444, 22.847822204229715, 91.94784239278717, 14.445092548452278, 21.701004490826953, 137.90146846868288, 14.987428821317454, 20.21470827227085, 19.495904709659474, 65.67365265932013, 27.175584395359927, 52.809191562864186, 423.2476395470355, 469.5938606610473, 372.4088180269444, 70.80495271644355, 36.002055413171476, 548.2502096523046, 105.12210545306488, 162.1041016611826, 652.1846449017584, 55.017539729158095, 417.56257156063936, 150.22018473830093, 109.47175677931313, 103.38874802519909, 127.70252729287431, 216.75625922250202, 194.8280079045638, 283.08166136758877, 135.21919642174876, 136.42473327674793, 131.60625854724233, 2097.0402778868643, 320.8489275685798, 313.9776328136606, 188.4289481647545, 264.93254037773414, 1618.9233348082353, 335.9092026068798, 235.07240095620222, 219.93271437115376, 487.1160029419409, 179.4978045468686, 222.9773623276397, 359.69371542540887, 204.33539435243586, 2444.751998421608, 263.67858015783213, 33.699700709419304, 33.73161952498047, 24.717510610946448, 33.899702395500206, 12.077593886999871, 2444.751998421608, 16.59577283492382, 9.596455226722822, 24.766892541254443, 34.25041915247367, 9.614040501997417, 14.382631984413457, 9.635118665712818, 17.189983135605, 34.48423444394042, 12.726098740955981, 29.259850116456263, 29.785051480027192, 37.75510615157612, 8.895283490658237, 32.50414123525482, 17.403579380549253, 8.500643686087685, 21.247750907304127, 8.53363971387006, 9.350750602386121, 31.46477876312531, 32.9673422975916, 26.921202782428303, 7.268341135086774, 113.96312935420647, 31.80197265569574, 30.141774380434594, 143.07395848086253, 33.063182085233905, 32.78445381002758, 61.27913136476044, 33.164342749697745, 206.03777067606612, 33.959562894765185, 38.27746883947038, 2097.0402778868643, 45.34803823814158, 1618.9233348082353, 487.1160029419409, 106.66439493537423, 311.6340416282949, 245.84823127921908, 207.63269038420842, 179.05040016679627, 62.816952837922734, 313.9776328136606, 116.64460240501336, 276.1350566086633, 58.95393536472429, 320.8489275685798, 335.9092026068798, 85.58421782635, 235.07240095620222, 212.1378549370824, 359.69371542540887, 417.56257156063936, 176.36503932977797, 222.9773623276397, 548.2502096523046, 170.0379727245504, 134.48081695074765, 113.48210755306079, 161.17818672774266, 219.93271437115376, 652.1846449017584, 263.67858015783213, 18.896759857306524, 19.87644919890811, 15.928103600135383, 20.306813146518095, 15.277064368615058, 14.649005542943751, 14.057135006203517, 14.518846667541553, 42.98435291012463, 14.607798310155609, 15.742168314049225, 13.88487736899165, 26.89135379203267, 40.64475254811484, 18.792691795931663, 13.859020388150457, 36.55105177542176, 10.222106471465896, 42.46033851197276, 12.641629085526278, 54.19412226657086, 46.10895430087177, 29.001800866243457, 20.07703452863994, 15.689818116207615, 21.75415210257122, 21.109208303425312, 10.707515666804394, 11.092808406933278, 34.04522264459523, 66.95927967473435, 18.805482183233927, 308.1453391982531, 337.91772189254687, 123.58304493472204, 149.053445575492, 34.833891763842615, 121.19434024109023, 36.253465734141116, 156.50738133616832, 97.1107675293947, 41.75304921111368, 38.38982603073075, 1618.9233348082353, 171.13881164290802, 125.27806622877597, 276.1350566086633, 212.1378549370824, 2097.0402778868643, 263.67858015783213, 359.69371542540887, 283.08166136758877, 76.98728525192308, 264.93254037773414, 652.1846449017584, 174.52061315380593, 86.97346347687949, 129.92450334748003, 204.33539435243586, 119.64794539000209, 311.6340416282949, 487.1160029419409, 335.9092026068798, 2444.751998421608, 188.4289481647545, 372.4088180269444, 469.5938606610473], \"Freq\": [2444.0, 1618.0, 337.0, 308.0, 469.0, 423.0, 2097.0, 372.0, 276.0, 548.0, 283.0, 149.0, 123.0, 652.0, 212.0, 156.0, 171.0, 116.0, 121.0, 83.0, 137.0, 66.0, 143.0, 113.0, 125.0, 97.0, 54.0, 359.0, 263.0, 42.0, 17.41997457334664, 17.057781996787487, 77.38554158212122, 18.685903357987332, 17.308326860617246, 46.54411839634161, 54.6367312861416, 52.46197036323811, 56.43020028259979, 44.24946901075292, 17.224555661433104, 101.16454195039096, 15.450248344622343, 22.88767156024773, 13.520270560189866, 42.79639606220612, 11.104542780109368, 64.65979887748702, 16.44796838883763, 19.011179716832423, 76.33301478991878, 11.972802021328633, 17.955968967332886, 112.40786383281035, 12.185396560040981, 16.424252859054167, 15.70491924977195, 52.86771066635727, 21.7911569555949, 42.34352690442329, 334.31393246933703, 363.8689373780348, 289.6087006888526, 55.579863680924596, 28.65217531532601, 361.8466728268785, 75.14332474724843, 108.7143155051458, 371.20798345374527, 41.236078148614325, 240.1945272159894, 94.93563047656718, 72.77823139870942, 69.25554972334905, 82.32995377999886, 126.64508436110796, 115.12906032910777, 152.24694693023937, 84.26481311800933, 84.46627046164616, 82.00219745216639, 540.4235997099229, 142.06146309119725, 136.2889867930148, 98.2664044832338, 111.22175491824365, 270.72545752903534, 122.71649616993163, 101.09238297461464, 96.7873759110581, 128.16599097775313, 88.09471629802556, 93.00026494534374, 99.24320628180143, 86.51561257213476, 113.34097435748893, 84.35514216359425, 31.398169381699457, 31.37158270802506, 22.828810884750524, 31.179040837924084, 10.895503820549868, 2197.8524743416256, 14.88847041556295, 8.602546056782533, 22.137242387271613, 30.59440138548223, 8.564272087930426, 12.745069558553, 8.513951890986974, 15.10120958721751, 30.117624936169033, 11.078475367147442, 25.460659004638, 25.79574485500262, 32.41200835949385, 7.58966850643538, 27.602014310298294, 14.721962169442907, 7.125664849670091, 17.798778140462876, 7.147316195781979, 7.778970823861745, 26.116233489782548, 27.31442297582742, 22.29989210457006, 5.993070353592379, 93.06586923623216, 26.192715501033238, 24.7659773135204, 111.8837330014158, 26.972405691390776, 26.66178588044549, 47.535445233646406, 26.873087489155125, 140.81039289207212, 27.232606415712322, 30.148084788988033, 1038.0847349570188, 35.022413900372264, 785.7047339642553, 273.5324889559876, 72.48930012068088, 167.18205842603788, 137.05828401678724, 113.28024574127774, 97.34719172944797, 43.85914079217323, 144.07238986152794, 68.74138123777561, 127.66103942937313, 40.982037108720284, 136.3530028169751, 140.4744316849079, 52.891606987071135, 104.837850606076, 95.34606748430681, 126.85059821102686, 137.66285889625897, 81.12275744336002, 91.0626133690937, 150.28377520814627, 76.29056082964948, 65.3119310763659, 58.50989598229265, 67.68216288447141, 77.37058996678314, 115.9910243076482, 72.00150296588673, 17.298524284081005, 17.87478415600979, 14.260948186372861, 17.95370565456236, 13.386131407961615, 12.51800988814171, 11.961234727609776, 12.29296864188188, 36.28991022283711, 11.947604782293451, 12.84198109339331, 11.294468527120308, 21.725629037524193, 32.75142428209255, 15.080932181114926, 11.096685924471599, 29.12713078991008, 8.032558867870266, 33.32788991257368, 9.911141932961732, 42.1888034072021, 35.86890079025384, 22.26276610301116, 15.300137366617173, 11.947159595607456, 16.554013773362723, 15.978608111181574, 8.09025044839559, 8.370753600686184, 25.683106730017453, 49.526707061588674, 14.112940448070088, 210.14727004044727, 226.99612709017788, 82.33591333326743, 94.75810333411168, 24.826198427789897, 72.9362790558097, 25.52417633013868, 87.81336062751386, 58.4909213256694, 28.71095481277476, 26.692812580242197, 562.4931433149446, 89.6695372097651, 68.96892994088972, 126.0626035475571, 96.77967487585009, 518.5319432199225, 107.32193502835115, 133.5999109325806, 106.9201845962679, 42.226258945859115, 93.44184716940104, 164.9856371403649, 70.24315649197352, 44.54508051551717, 55.51448544652613, 71.78585181407846, 51.60433970320271, 75.74496559881828, 85.41752300820016, 72.71827475204026, 133.5585497224935, 49.1640432723229, 49.162272501751154, 48.68449864914967], \"Term\": [\"exhibit\", \"order\", \"judge\", \"case\", \"court\", \"date\", \"motion\", \"request\", \"attachment\", \"defendant\", \"magistrate_judge\", \"due\", \"clerk\", \"'s\", \"memorandum_law_support\", \"propose\", \"judgment\", \"letter_address_judge\", \"declaration\", \"rjm\", \"april\", \"keely\", \"ex\", \"memorandum_law_opposition\", \"minute_entry_proceeding_hold\", \"affidavit_service\", \"jmi\", \"shall\", \"complaint\", \"affidavit_service_summons_complaint\", \"attorney_responsible_provide_courtesy\", \"judge_individual_practice\", \"rjm\", \"set_answer_due\", \"date_purs\", \"court_reportertranscriber\", \"copy_send_chamber\", \"judge_c.d\", \"kw\", \"shall_serve\", \"rule_deposition_objection\", \"letter_address_judge\", \"nm\", \"rule_disclosure_statement\", \"longer\", \"redaction_request_due\", \"oral_argument_set_pm\", \"address\", \"limit\", \"initial_conference\", \"pl\", \"affidavit_jr._c.p.a\", \"r._civ\", \"april\", \"limited\", \"master_discovery_protocol\", \"strike\", \"related\", \"status_conference_set_pm\", \"report\", \"date\", \"court\", \"request\", \"accordingly\", \"continue\", \"defendant\", \"deposition\", \"defendant_'\", \"'s\", \"answer_due\", \"party\", \"opposition\", \"plaintiff_'\", \"cd\", \"follow\", \"pennsylvania\", \"may\", \"magistrate_judge\", \"march\", \"endorsed_letter_address\", \"mro\", \"motion\", \"letter\", \"plaintiff\", \"plaintiff_'s\", \"schedule\", \"order\", \"dismiss\", \"grant\", \"b\", \"notice\", \"discovery\", \"summary_judgment\", \"shall\", \"conference\", \"exhibit\", \"complaint\", \"electronically_available_public_without\", \"transcript_may_make_remotely\", \"g\", \"party_calendar_day\", \"hedge_strategy_fund_ibex\", \"exhibit\", \"master\", \"magnum_special_situation_fund\", \"redaction_calendar_day_mcguirk\", \"court_notice_intent\", \"magnum_growth_fund_l.p.\", \"associate_case_et_al\", \"absolute_return_fund_l.p.\", \"discovery_ruling_conference\", \"request_redaction_transcript\", \"propose_finding_fact_conclusion\", \"document_place_vault\", \"dle\", \"judge_d._kan._magistrate\", \"dismiss_subrogation_claim_assert\", \"date_may_obtain\", \"party_shall_comply\", \"rj\", \"conference_proceed_hold\", \"certify_class\", \"q\", \"pacer\", \"transcript_may_view_court\", \"h\", \"new_york_observer_l.p.\", \"memorandum_law_opposition\", \"judge_d._kan._gr\", \"dismiss.._document\", \"ex\", \"public_terminal_purchase_court\", \"release_transcript_restriction_set\", \"service_accept\", \"reportertranscriber_deadline_release_transcript\", \"inc..\", \"transcript_proceeding_hold\", \"withdraw_attorney\", \"motion\", \"f\", \"order\", \"notice\", \"c\", \"sign_judge\", \"stipulation\", \"counsel\", \"action\", \"e\", \"plaintiff\", \"djc\", \"attachment\", \"associated_case\", \"letter\", \"dismiss\", \"notice_appearance_behalf\", \"grant\", \"memorandum_law_support\", \"shall\", \"party\", \"declaration_support\", \"summary_judgment\", \"defendant\", \"l.p.\", \"modify\", \"seal\", \"hereby\", \"b\", \"'s\", \"complaint\", \"judge_jury_trial\", \"lb\", \"copy_mail_chamber\", \"error_electronic_filing_nonecf\", \"notice_case_reassignment\", \"judge_longer_assigned\", \"jr\", \"court_reporter\", \"affidavit_service_summons_complaint\", \"anc\", \"ago\", \"associated_case_ft\", \"note_attorney_refile_document\", \"redact_transcript_deadline_set\", \"usa\", \"expert_discovery_due\", \"tro\", \"case_assign\", \"sign_judge_copy_mail\", \"application_grant\", \"jmi\", \"sign_judge_gr\", \"jp\", \"attachment_text_propose\", \"summons_complaint\", \"response_due_reply\", \"doc\", \"kco\", \"goodwin\", \"sc\", \"keely\", \"mbe\", \"case\", \"judge\", \"clerk\", \"due\", \"counterclaim\", \"declaration\", \"amend_answer\", \"propose\", \"affidavit_service\", \"reiter\", \"notice_change_address\", \"order\", \"judgment\", \"minute_entry_proceeding_hold\", \"attachment\", \"memorandum_law_support\", \"motion\", \"complaint\", \"shall\", \"magistrate_judge\", \"answer_complaint\", \"schedule\", \"'s\", \"claim\", \"service\", \"hold\", \"conference\", \"declaration_opposition\", \"sign_judge\", \"notice\", \"dismiss\", \"exhibit\", \"plaintiff_'s\", \"request\", \"court\"], \"logprob\": [30.0, 29.0, 28.0, 27.0, 26.0, 25.0, 24.0, 23.0, 22.0, 21.0, 20.0, 19.0, 18.0, 17.0, 16.0, 15.0, 14.0, 13.0, 12.0, 11.0, 10.0, 9.0, 8.0, 7.0, 6.0, 5.0, 4.0, 3.0, 2.0, 1.0, -6.836699962615967, -6.857699871063232, -5.3454999923706055, -6.766499996185303, -6.843100070953369, -5.853899955749512, -5.693600177764893, -5.7342000007629395, -5.661300182342529, -5.904399871826172, -6.847899913787842, -5.077499866485596, -6.956699848175049, -6.563700199127197, -7.090099811553955, -5.93779993057251, -7.286900043487549, -5.525100231170654, -6.894100189208984, -6.749300003051758, -5.3592000007629395, -7.211599826812744, -6.806399822235107, -4.972099781036377, -7.193999767303467, -6.895500183105469, -6.940299987792969, -5.726500034332275, -6.612800121307373, -5.948500156402588, -3.882200002670288, -3.797499895095825, -4.025700092315674, -5.676499843597412, -6.339000225067139, -3.803100109100342, -5.374899864196777, -5.0055999755859375, -3.7774999141693115, -5.974999904632568, -4.212800025939941, -5.14109992980957, -5.406899929046631, -5.456500053405762, -5.2835001945495605, -4.85290002822876, -4.948200225830078, -4.668799877166748, -5.260300159454346, -5.257900238037109, -5.287499904632568, -3.401900053024292, -4.73799991607666, -4.7795000076293945, -5.106599807739258, -4.982800006866455, -4.093200206756592, -4.884399890899658, -5.078199863433838, -5.121799945831299, -4.841000080108643, -5.21589994430542, -5.1616997718811035, -5.096700191497803, -5.234000205993652, -4.963900089263916, -5.259200096130371, -6.216599941253662, -6.21750020980835, -6.535299777984619, -6.223599910736084, -7.275000095367432, -1.9680999517440796, -6.962800025939941, -7.511300086975098, -6.566100120544434, -6.242599964141846, -7.5157999992370605, -7.118199825286865, -7.521699905395508, -6.948599815368652, -6.258299827575684, -7.258399963378906, -6.426199913024902, -6.4131999015808105, -6.184800148010254, -7.636600017547607, -6.3454999923706055, -6.973999977111816, -7.699699878692627, -6.784200191497803, -7.696599960327148, -7.6118998527526855, -6.4008002281188965, -6.355999946594238, -6.558800220489502, -7.872799873352051, -5.130099773406982, -6.397900104522705, -6.45389986038208, -4.945899963378906, -6.368599891662598, -6.380099773406982, -5.8018999099731445, -6.372200012207031, -4.716000080108643, -6.359000205993652, -6.257199764251709, -2.7181999683380127, -6.107399940490723, -2.996799945831299, -4.0518999099731445, -5.379899978637695, -4.544300079345703, -4.743000030517578, -4.933499813079834, -5.085100173950195, -5.882400035858154, -4.6930999755859375, -5.433000087738037, -4.814000129699707, -5.950200080871582, -4.7480998039245605, -4.718299865722656, -5.695099830627441, -5.011000156402588, -5.105899810791016, -4.820400238037109, -4.73859977722168, -5.267399787902832, -5.151800155639648, -4.6508002281188965, -5.328800201416016, -5.4842000007629395, -5.594200134277344, -5.448500156402588, -5.314799785614014, -4.909900188446045, -5.38670015335083, -6.428500175476074, -6.395699977874756, -6.621600151062012, -6.391300201416016, -6.684899806976318, -6.7519001960754395, -6.797399997711182, -6.770100116729736, -5.687600135803223, -6.798600196838379, -6.726399898529053, -6.854800224304199, -6.2006001472473145, -5.790200233459473, -6.565700054168701, -6.872499942779541, -5.907400131225586, -7.1956000328063965, -5.77269983291626, -6.985400199890137, -5.536900043487549, -5.69920015335083, -6.176199913024902, -6.551199913024902, -6.798600196838379, -6.472499847412109, -6.507900238037109, -7.188399791717529, -7.154399871826172, -6.033299922943115, -5.3765997886657715, -6.631999969482422, -3.931299924850464, -3.8541998863220215, -4.868299961090088, -4.727799892425537, -6.067200183868408, -4.989500045776367, -6.0395002365112305, -4.803899765014648, -5.21019983291626, -5.921800136566162, -5.994699954986572, -2.946700096130371, -4.7829999923706055, -5.045400142669678, -4.442299842834473, -4.706699848175049, -3.02810001373291, -4.603300094604492, -4.384300231933594, -4.60699987411499, -5.536099910736084, -4.741799831390381, -4.1732001304626465, -5.027100086212158, -5.482600212097168, -5.262499809265137, -5.00540018081665, -5.3354997634887695, -4.951700210571289, -4.831600189208984, -4.992499828338623, -4.3846001625061035, -5.383900165557861, -5.383999824523926, -5.393700122833252], \"Category\": [\"Default\", \"Default\", \"Default\", \"Default\", \"Default\", \"Default\", \"Default\", \"Default\", \"Default\", \"Default\", \"Default\", \"Default\", \"Default\", \"Default\", \"Default\", \"Default\", \"Default\", \"Default\", \"Default\", \"Default\", \"Default\", \"Default\", \"Default\", \"Default\", \"Default\", \"Default\", \"Default\", \"Default\", \"Default\", \"Default\", \"Topic1\", \"Topic1\", \"Topic1\", \"Topic1\", \"Topic1\", \"Topic1\", \"Topic1\", \"Topic1\", \"Topic1\", \"Topic1\", \"Topic1\", \"Topic1\", \"Topic1\", \"Topic1\", \"Topic1\", \"Topic1\", \"Topic1\", \"Topic1\", \"Topic1\", \"Topic1\", \"Topic1\", \"Topic1\", \"Topic1\", \"Topic1\", \"Topic1\", \"Topic1\", \"Topic1\", \"Topic1\", \"Topic1\", \"Topic1\", \"Topic1\", \"Topic1\", \"Topic1\", \"Topic1\", \"Topic1\", \"Topic1\", \"Topic1\", \"Topic1\", \"Topic1\", \"Topic1\", \"Topic1\", \"Topic1\", \"Topic1\", \"Topic1\", \"Topic1\", \"Topic1\", \"Topic1\", \"Topic1\", \"Topic1\", \"Topic1\", \"Topic1\", \"Topic1\", \"Topic1\", \"Topic1\", \"Topic1\", \"Topic1\", \"Topic1\", \"Topic1\", \"Topic1\", \"Topic1\", \"Topic1\", \"Topic1\", \"Topic1\", \"Topic1\", \"Topic1\", \"Topic1\", \"Topic1\", \"Topic2\", \"Topic2\", \"Topic2\", \"Topic2\", \"Topic2\", \"Topic2\", \"Topic2\", \"Topic2\", \"Topic2\", \"Topic2\", \"Topic2\", \"Topic2\", \"Topic2\", \"Topic2\", \"Topic2\", \"Topic2\", \"Topic2\", \"Topic2\", \"Topic2\", \"Topic2\", \"Topic2\", \"Topic2\", \"Topic2\", \"Topic2\", \"Topic2\", \"Topic2\", \"Topic2\", \"Topic2\", \"Topic2\", \"Topic2\", \"Topic2\", \"Topic2\", \"Topic2\", \"Topic2\", \"Topic2\", \"Topic2\", \"Topic2\", \"Topic2\", \"Topic2\", \"Topic2\", \"Topic2\", \"Topic2\", \"Topic2\", \"Topic2\", \"Topic2\", \"Topic2\", \"Topic2\", \"Topic2\", \"Topic2\", \"Topic2\", \"Topic2\", \"Topic2\", \"Topic2\", \"Topic2\", \"Topic2\", \"Topic2\", \"Topic2\", \"Topic2\", \"Topic2\", \"Topic2\", \"Topic2\", \"Topic2\", \"Topic2\", \"Topic2\", \"Topic2\", \"Topic2\", \"Topic2\", \"Topic2\", \"Topic2\", \"Topic2\", \"Topic2\", \"Topic2\", \"Topic3\", \"Topic3\", \"Topic3\", \"Topic3\", \"Topic3\", \"Topic3\", \"Topic3\", \"Topic3\", \"Topic3\", \"Topic3\", \"Topic3\", \"Topic3\", \"Topic3\", \"Topic3\", \"Topic3\", \"Topic3\", \"Topic3\", \"Topic3\", \"Topic3\", \"Topic3\", \"Topic3\", \"Topic3\", \"Topic3\", \"Topic3\", \"Topic3\", \"Topic3\", \"Topic3\", \"Topic3\", \"Topic3\", \"Topic3\", \"Topic3\", \"Topic3\", \"Topic3\", \"Topic3\", \"Topic3\", \"Topic3\", \"Topic3\", \"Topic3\", \"Topic3\", \"Topic3\", \"Topic3\", \"Topic3\", \"Topic3\", \"Topic3\", \"Topic3\", \"Topic3\", \"Topic3\", \"Topic3\", \"Topic3\", \"Topic3\", \"Topic3\", \"Topic3\", \"Topic3\", \"Topic3\", \"Topic3\", \"Topic3\", \"Topic3\", \"Topic3\", \"Topic3\", \"Topic3\", \"Topic3\", \"Topic3\", \"Topic3\", \"Topic3\", \"Topic3\", \"Topic3\", \"Topic3\"]}, \"plot.opts\": {\"ylab\": \"PC2\", \"xlab\": \"PC1\"}, \"mdsDat\": {\"y\": [0.057503470606212796, 0.008357964561271726, -0.0658614351674845], \"Freq\": [38.025879852027444, 36.86845689075781, 25.105663257214744], \"x\": [0.05589879050192056, -0.09291302608664519, 0.03701423558472468], \"topics\": [1, 2, 3], \"cluster\": [1, 1, 1]}, \"topic.order\": [2, 3, 1], \"token.table\": {\"Topic\": [1, 2, 3, 1, 2, 3, 1, 2, 3, 1, 2, 3, 1, 2, 3, 1, 2, 3, 1, 2, 3, 1, 2, 3, 1, 2, 3, 1, 2, 3, 1, 2, 3, 1, 2, 3, 1, 2, 3, 1, 2, 3, 1, 2, 3, 1, 2, 3, 1, 2, 3, 1, 2, 3, 1, 2, 3, 1, 2, 3, 1, 3, 1, 2, 3, 1, 2, 3, 1, 2, 3, 1, 2, 3, 1, 2, 3, 1, 2, 3, 1, 2, 3, 1, 2, 3, 1, 2, 3, 1, 2, 3, 1, 2, 3, 1, 2, 3, 1, 2, 3, 1, 2, 3, 1, 2, 3, 1, 2, 3, 1, 2, 3, 1, 2, 3, 1, 2, 3, 1, 2, 3, 1, 2, 3, 1, 2, 3, 1, 2, 3, 1, 2, 3, 1, 2, 3, 1, 2, 3, 1, 2, 3, 1, 2, 3, 1, 2, 3, 1, 2, 3, 1, 2, 3, 1, 2, 3, 1, 2, 3, 1, 2, 3, 1, 2, 3, 1, 2, 3, 1, 2, 3, 1, 2, 3, 1, 2, 3, 1, 2, 3, 1, 2, 3, 1, 2, 3, 1, 2, 3, 1, 2, 3, 1, 2, 3, 1, 2, 3, 1, 2, 3, 1, 2, 3, 1, 2, 1, 2, 3, 1, 2, 3, 1, 2, 3, 1, 2, 3, 1, 2, 3, 1, 2, 3, 1, 2, 3, 1, 2, 3, 1, 2, 3, 1, 2, 3, 1, 2, 3, 1, 2, 3, 1, 2, 3, 1, 2, 3, 1, 2, 3, 1, 3, 1, 2, 3, 1, 2, 3, 1, 2, 3, 1, 2, 3, 1, 2, 3, 1, 2, 3, 1, 2, 3, 1, 2, 3, 1, 2, 3, 1, 2, 3, 1, 2, 3, 1, 2, 3, 1, 3, 1, 2, 3, 1, 2, 1, 2, 1, 2, 3, 1, 2, 3, 1, 2, 3, 1, 2, 3, 1, 2, 3, 1, 2, 3, 1, 2, 3, 1, 2, 3, 1, 2, 3, 1, 2, 3, 1, 2, 3, 1, 2, 3, 1, 2, 3, 1, 2, 3, 1, 2, 3, 1, 2, 3, 1, 2, 3, 1, 2, 3, 1, 2, 3, 1, 2, 3, 1, 2, 3, 1, 2, 3, 1, 2, 3, 1, 2, 3, 1, 2, 3, 1, 2, 3, 1, 2, 3, 1, 2, 3, 1, 2, 3, 1, 2, 3, 1, 2, 3, 1, 2, 3, 1, 2, 3, 2, 3, 1, 2, 3, 1, 2, 3, 1, 2, 3, 1, 2, 3, 1, 2, 3, 1, 2, 3, 1, 2, 3, 1, 2, 3, 1, 2, 3, 1, 2, 3, 1, 2, 3, 1, 2, 3, 1, 2, 3, 1, 2, 3, 1, 2, 3, 1, 2, 3, 1, 2, 3, 1, 2, 3, 1, 2, 3, 1, 2, 3, 1, 2, 3, 1, 2, 3, 1, 2, 3, 1, 2, 3, 1, 2, 3, 1, 2, 3, 1, 2, 3, 1, 2, 3, 1, 2, 3, 1, 2, 3, 1, 2, 3, 1, 2, 3, 1, 2, 3, 1, 2, 3, 1, 2, 3, 1, 2, 3, 1, 2, 3, 1, 2, 3], \"Freq\": [0.5688573058261521, 0.17786373982704487, 0.2529958368229518, 0.10378699367331753, 0.9340829430598578, 0.10378699367331753, 0.7909051252991616, 0.0847398348534816, 0.1271097522802224, 0.4188764723794695, 0.5417469042774472, 0.03909513742208382, 0.8481247085696482, 0.03914421731859914, 0.11743265195579743, 0.8307319568738756, 0.13845532614564593, 0.06922766307282296, 0.1647603083268487, 0.23684294321984503, 0.5972561176848266, 0.06979283848410274, 0.09305711797880366, 0.8375140618092329, 0.06352365062108642, 0.12704730124217284, 0.8258074580741235, 0.055167139458243086, 0.22066855783297235, 0.7171728129571601, 0.06845658591170319, 0.06845658591170319, 0.8214790309404382, 0.1818482097944906, 0.2727723146917359, 0.5455446293834718, 0.7452168926825148, 0.16358419595469836, 0.09088010886372132, 0.07910372889716606, 0.15820745779433212, 0.7910372889716606, 0.812174092442206, 0.1377795335393028, 0.043509326380832464, 0.06952830337894385, 0.90386794392627, 0.06952830337894385, 0.20354875252620247, 0.6954582377978584, 0.10177437626310123, 0.14404160345459677, 0.07202080172729838, 0.7922288190002822, 0.07967115899803423, 0.46354128871583555, 0.45629845607965064, 0.04980815262201684, 0.19923261048806737, 0.7471222893302526, 0.9196401382597507, 0.05409647872116181, 0.4410439814620069, 0.3501070780677787, 0.20915487780672493, 0.15000319469016885, 0.6750143761057598, 0.16875359402643994, 0.24014641984375504, 0.07788532535473136, 0.6814965968538994, 0.09782719469723891, 0.09782719469723891, 0.7826175575779113, 0.6673840366379379, 0.1354112538105961, 0.19344464830085156, 0.11718329265467589, 0.8202830485827313, 0.11718329265467589, 0.28076912586145936, 0.3151490188240871, 0.40109875123065625, 0.25084347141935653, 0.08091724884495372, 0.6635214405286205, 0.3185696765725888, 0.27305972277650464, 0.4057970880150833, 0.42577058309312377, 0.22512007841705395, 0.3523618618701714, 0.1411914142389875, 0.8471484854339252, 0.04706380474632917, 0.8055095651397239, 0.11110476760547916, 0.08332857570410937, 0.06278211299375905, 0.06278211299375905, 0.8789495819126267, 0.9031806920620017, 0.03284293425680006, 0.06568586851360012, 0.33713381004922854, 0.5442302933651832, 0.11558873487402122, 0.11483069497712506, 0.1722460424656876, 0.7176918436070316, 0.7751379021173683, 0.12138148467222526, 0.1043454868234919, 0.05839344596328988, 0.9050984124309932, 0.02919672298164494, 0.06887599427822376, 0.06887599427822376, 0.8265119313386851, 0.9109608083215239, 0.058146434573714295, 0.03876428971580953, 0.7891361198315262, 0.13467293062993113, 0.07560585579224204, 0.09229593171795979, 0.8614286960342913, 0.061530621145306524, 0.8884478276776441, 0.05226163692221436, 0.05226163692221436, 0.24753631184691804, 0.14852178710815084, 0.6023383588275005, 0.14208350962139077, 0.4262505288641723, 0.43460838237131294, 0.4479345810270313, 0.4592746970023992, 0.09072092780294305, 0.6602824652444312, 0.27359770659299637, 0.06566344958231914, 0.6724074152535839, 0.17889738570966912, 0.14805300886317446, 0.7134560297927647, 0.19025494127807058, 0.09512747063903529, 0.4902566926773879, 0.28969713658209284, 0.22284395121699452, 0.05817341367419585, 0.8726012051129377, 0.05817341367419585, 0.3661703789162007, 0.4167792930753504, 0.21732063138928984, 0.06635309437185043, 0.8294136796481303, 0.09952964155777563, 0.1124191265011613, 0.8993530120092904, 0.1124191265011613, 0.24861844784987314, 0.5915404448841809, 0.16288794859129618, 0.06714777717745862, 0.872921103306962, 0.06714777717745862, 0.18949076358069455, 0.04737269089517364, 0.7579630543227782, 0.0683530500682628, 0.854413125853285, 0.0683530500682628, 0.24152410473306948, 0.12747105527578667, 0.6373552763789334, 0.2228697726889447, 0.7004478570223976, 0.07959634738890882, 0.029673854038724235, 0.9198894752004513, 0.029673854038724235, 0.6157241284804246, 0.1392709338229532, 0.24189162190302396, 0.04924455613910373, 0.04924455613910373, 0.8864020105038671, 0.15376662695009383, 0.7828119190186594, 0.06989392134095174, 0.046221457257405084, 0.8990686995732422, 0.05481128559727682, 0.14431034402041948, 0.07215517201020974, 0.7937068921123072, 0.11025835282538358, 0.771808469777685, 0.1323100233904603, 0.6421172841156099, 0.23492095760327192, 0.11746047880163596, 0.04045714860772176, 0.9305144179776006, 0.09014849651373906, 0.18029699302747812, 0.7211879721099125, 0.42965486203043435, 0.4466708961702535, 0.12336624751368906, 0.11143632861597572, 0.8171997431838219, 0.0742908857439838, 0.08279794877656749, 0.9107774365422424, 0.08279794877656749, 0.3970760640712932, 0.42189331807574904, 0.17992509153230474, 0.2770839916448928, 0.30017432428196716, 0.4310195425587221, 0.22326003552194074, 0.6843405436650792, 0.0922161016286277, 0.8315891042115434, 0.08753569518016246, 0.08753569518016246, 0.09226092777009885, 0.1291652988781384, 0.7749917932688304, 0.1724030870724215, 0.0689612348289686, 0.7585735831186546, 0.14227650222590774, 0.07113825111295387, 0.8536590133554464, 0.19531381671952405, 0.13020921114634937, 0.6717611575050297, 0.887265067975815, 0.03412557953753134, 0.08531394884382835, 0.09433377081602828, 0.8175593470722451, 0.06288918054401885, 0.07945945080794753, 0.8475674752847736, 0.05297296720529835, 0.9237745313081885, 0.054339678312246384, 0.0529191251596154, 0.0529191251596154, 0.8996251277134618, 0.06826401949732949, 0.06826401949732949, 0.8874322534652833, 0.32721975490193045, 0.14608024772407607, 0.5258888918066739, 0.18678469051419938, 0.09339234525709969, 0.7471387620567975, 0.11947559828691869, 0.1344100480727835, 0.7467224892932418, 0.8800443398102592, 0.04714523248983531, 0.07857538748305885, 0.3881485937668486, 0.4469589867618257, 0.16466910038593577, 0.050310796963420105, 0.050310796963420105, 0.9055943453415618, 0.4425758910154008, 0.42387550125418666, 0.1309027283284988, 0.8687650438806523, 0.05160980458696945, 0.07741470688045417, 0.8185270287401688, 0.05115793929626055, 0.1023158785925211, 0.8006710252349444, 0.13344517087249072, 0.06672258543624536, 0.8886366805353514, 0.1269480972193359, 0.5369475340284375, 0.0847811895834375, 0.3779828035594922, 0.10401453996290524, 0.9361308596661473, 0.10420514412606693, 0.9378462971346023, 0.621213571910337, 0.3106067859551685, 0.06655859699039324, 0.06025630803379156, 0.9038446205068734, 0.06025630803379156, 0.7915028891090999, 0.09893786113863749, 0.09893786113863749, 0.5902642091189095, 0.2412384159007717, 0.16424743210265308, 0.15952794885922453, 0.053175982953074845, 0.7444637613430478, 0.1316215172837068, 0.8160534071589821, 0.043873839094568934, 0.09427831730424428, 0.44782200719516035, 0.4572498389255848, 0.24744954111431997, 0.19955608154380644, 0.5507747850609057, 0.1933361247316207, 0.48334031182905174, 0.31974820628691114, 0.2575057836009448, 0.4949833395884828, 0.2474916697942414, 0.6230706723614112, 0.2963384905133541, 0.07598422833675746, 0.13758297545675963, 0.8254978527405578, 0.13758297545675963, 0.8444353463019562, 0.056295689753463746, 0.056295689753463746, 0.14874669497617907, 0.07437334748808953, 0.8181068223689849, 0.2627710837396903, 0.5624943511302747, 0.17449642279588812, 0.12852836982536842, 0.6192730546131386, 0.25705673965073683, 0.06545760205438311, 0.06545760205438311, 0.8509488267069805, 0.23443711343717918, 0.07814570447905973, 0.7033113403115375, 0.6324050270973891, 0.19304995564025562, 0.17973616559610006, 0.8413394123757513, 0.0764854011250683, 0.0764854011250683, 0.1673952028321962, 0.4855078576609085, 0.34714429517230355, 0.09534470344078207, 0.8263207631534445, 0.06356313562718804, 0.5747641583463777, 0.3304893910491672, 0.09579402639106295, 0.05899756808087722, 0.914462305253597, 0.02949878404043861, 0.11491888859571373, 0.8618916644678529, 0.05745944429785686, 0.5859115693154378, 0.22606036926343664, 0.18915255387348778, 0.826555556087326, 0.06525438600689415, 0.09788157901034124, 0.4331518738492855, 0.45863139584041995, 0.10828796846232137, 0.6668386636670365, 0.28317806265312506, 0.05480865728770162, 0.5200899381676367, 0.21758864760074598, 0.26004496908381836, 0.2747474249002903, 0.1661263499397104, 0.5622737997959429, 0.07857867680860696, 0.8643654448946766, 0.07857867680860696, 0.12098049091851959, 0.8166183137000073, 0.060490245459259795, 0.8555462914344611, 0.10694328642930764, 0.8294546921829644, 0.09216163246477382, 0.09216163246477382, 0.0984136880957718, 0.0984136880957718, 0.8119129267901174, 0.04037648236791478, 0.8882826120941251, 0.04037648236791478, 0.8608718713777995, 0.06006082823566043, 0.0800811043142139, 0.21555311935408092, 0.09580138637959151, 0.6945600512520385, 0.8070207435382911, 0.10658764537298185, 0.0913608388911273, 0.09150678603290956, 0.823561074296186, 0.09150678603290956, 0.7953160947370895, 0.09468048746870113, 0.11361658496244136, 0.1507643325766065, 0.8141273959136752, 0.06030573303064261, 0.7787141065467951, 0.09129751593996907, 0.1315758317958378, 0.08699627665729319, 0.8699627665729319, 0.05799751777152879, 0.09193647219942032, 0.18387294439884064, 0.7814600136950728, 0.11763815034814587, 0.8234670524370211, 0.11763815034814587, 0.9171243194772908, 0.04764282179102809, 0.03573211634327107, 0.8663435979768385, 0.05096138811628462, 0.10192277623256923, 0.8685525328944737, 0.0755263072082151, 0.0755263072082151, 0.14686348367276028, 0.08811809020365617, 0.7636901150983535, 0.41897458062999354, 0.226472746286483, 0.35103275674404866, 0.2555468930328112, 0.51990574789434, 0.2291110075466583, 0.41391935609842684, 0.0689865593497378, 0.5173991951230336, 0.097912615051368, 0.783300920410944, 0.130550153401824, 0.9357100435516795, 0.04924789702903576, 0.04924789702903576, 0.275234166610092, 0.3530781733280978, 0.37253917500759925, 0.8787933449917175, 0.07989030409015614, 0.03994515204507807, 0.2214135517399622, 0.5358849730517925, 0.24387579611937865, 0.1413083411548438, 0.0706541705774219, 0.777195876351641, 0.10843880707798802, 0.10843880707798802, 0.7807594109615137, 0.8095502080079048, 0.036797736727632036, 0.18398868363816018, 0.28879605775712347, 0.5572543649679707, 0.15456690415169988, 0.8206851766193037, 0.10258564707741297, 0.10258564707741297, 0.4170826985716476, 0.40811317817225734, 0.1749056477881103, 0.06373560181472071, 0.12747120362944142, 0.7648272217766485, 0.029645774916304705, 0.9190190224054459, 0.029645774916304705, 0.15166524358759945, 0.818992315373037, 0.03033304871751989, 0.058893573106275084, 0.7950632369347136, 0.1472339327656877, 0.10943597531958693, 0.10943597531958693, 0.7934108210670052, 0.1596365242710709, 0.05321217475702363, 0.7981826213553546, 0.07837508829493202, 0.7837508829493202, 0.13062514715822002], \"Term\": [\"'s\", \"'s\", \"'s\", \"absolute_return_fund_l.p.\", \"absolute_return_fund_l.p.\", \"absolute_return_fund_l.p.\", \"accordingly\", \"accordingly\", \"accordingly\", \"action\", \"action\", \"action\", \"address\", \"address\", \"address\", \"affidavit_jr._c.p.a\", \"affidavit_jr._c.p.a\", \"affidavit_jr._c.p.a\", \"affidavit_service\", \"affidavit_service\", \"affidavit_service\", \"affidavit_service_summons_complaint\", \"affidavit_service_summons_complaint\", \"affidavit_service_summons_complaint\", \"ago\", \"ago\", \"ago\", \"amend_answer\", \"amend_answer\", \"amend_answer\", \"anc\", \"anc\", \"anc\", \"answer_complaint\", \"answer_complaint\", \"answer_complaint\", \"answer_due\", \"answer_due\", \"answer_due\", \"application_grant\", \"application_grant\", \"application_grant\", \"april\", \"april\", \"april\", \"associate_case_et_al\", \"associate_case_et_al\", \"associate_case_et_al\", \"associated_case\", \"associated_case\", \"associated_case\", \"associated_case_ft\", \"associated_case_ft\", \"associated_case_ft\", \"attachment\", \"attachment\", \"attachment\", \"attachment_text_propose\", \"attachment_text_propose\", \"attachment_text_propose\", \"attorney_responsible_provide_courtesy\", \"attorney_responsible_provide_courtesy\", \"b\", \"b\", \"b\", \"c\", \"c\", \"c\", \"case\", \"case\", \"case\", \"case_assign\", \"case_assign\", \"case_assign\", \"cd\", \"cd\", \"cd\", \"certify_class\", \"certify_class\", \"certify_class\", \"claim\", \"claim\", \"claim\", \"clerk\", \"clerk\", \"clerk\", \"complaint\", \"complaint\", \"complaint\", \"conference\", \"conference\", \"conference\", \"conference_proceed_hold\", \"conference_proceed_hold\", \"conference_proceed_hold\", \"continue\", \"continue\", \"continue\", \"copy_mail_chamber\", \"copy_mail_chamber\", \"copy_mail_chamber\", \"copy_send_chamber\", \"copy_send_chamber\", \"copy_send_chamber\", \"counsel\", \"counsel\", \"counsel\", \"counterclaim\", \"counterclaim\", \"counterclaim\", \"court\", \"court\", \"court\", \"court_notice_intent\", \"court_notice_intent\", \"court_notice_intent\", \"court_reporter\", \"court_reporter\", \"court_reporter\", \"court_reportertranscriber\", \"court_reportertranscriber\", \"court_reportertranscriber\", \"date\", \"date\", \"date\", \"date_may_obtain\", \"date_may_obtain\", \"date_may_obtain\", \"date_purs\", \"date_purs\", \"date_purs\", \"declaration\", \"declaration\", \"declaration\", \"declaration_opposition\", \"declaration_opposition\", \"declaration_opposition\", \"declaration_support\", \"declaration_support\", \"declaration_support\", \"defendant\", \"defendant\", \"defendant\", \"defendant_'\", \"defendant_'\", \"defendant_'\", \"deposition\", \"deposition\", \"deposition\", \"discovery\", \"discovery\", \"discovery\", \"discovery_ruling_conference\", \"discovery_ruling_conference\", \"discovery_ruling_conference\", \"dismiss\", \"dismiss\", \"dismiss\", \"dismiss.._document\", \"dismiss.._document\", \"dismiss.._document\", \"dismiss_subrogation_claim_assert\", \"dismiss_subrogation_claim_assert\", \"dismiss_subrogation_claim_assert\", \"djc\", \"djc\", \"djc\", \"dle\", \"dle\", \"dle\", \"doc\", \"doc\", \"doc\", \"document_place_vault\", \"document_place_vault\", \"document_place_vault\", \"due\", \"due\", \"due\", \"e\", \"e\", \"e\", \"electronically_available_public_without\", \"electronically_available_public_without\", \"electronically_available_public_without\", \"endorsed_letter_address\", \"endorsed_letter_address\", \"endorsed_letter_address\", \"error_electronic_filing_nonecf\", \"error_electronic_filing_nonecf\", \"error_electronic_filing_nonecf\", \"ex\", \"ex\", \"ex\", \"exhibit\", \"exhibit\", \"exhibit\", \"expert_discovery_due\", \"expert_discovery_due\", \"expert_discovery_due\", \"f\", \"f\", \"f\", \"follow\", \"follow\", \"follow\", \"g\", \"g\", \"goodwin\", \"goodwin\", \"goodwin\", \"grant\", \"grant\", \"grant\", \"h\", \"h\", \"h\", \"hedge_strategy_fund_ibex\", \"hedge_strategy_fund_ibex\", \"hedge_strategy_fund_ibex\", \"hereby\", \"hereby\", \"hereby\", \"hold\", \"hold\", \"hold\", \"inc..\", \"inc..\", \"inc..\", \"initial_conference\", \"initial_conference\", \"initial_conference\", \"jmi\", \"jmi\", \"jmi\", \"jp\", \"jp\", \"jp\", \"jr\", \"jr\", \"jr\", \"judge\", \"judge\", \"judge\", \"judge_c.d\", \"judge_c.d\", \"judge_c.d\", \"judge_d._kan._gr\", \"judge_d._kan._gr\", \"judge_d._kan._gr\", \"judge_d._kan._magistrate\", \"judge_d._kan._magistrate\", \"judge_d._kan._magistrate\", \"judge_individual_practice\", \"judge_individual_practice\", \"judge_jury_trial\", \"judge_jury_trial\", \"judge_jury_trial\", \"judge_longer_assigned\", \"judge_longer_assigned\", \"judge_longer_assigned\", \"judgment\", \"judgment\", \"judgment\", \"kco\", \"kco\", \"kco\", \"keely\", \"keely\", \"keely\", \"kw\", \"kw\", \"kw\", \"l.p.\", \"l.p.\", \"l.p.\", \"lb\", \"lb\", \"lb\", \"letter\", \"letter\", \"letter\", \"letter_address_judge\", \"letter_address_judge\", \"letter_address_judge\", \"limit\", \"limit\", \"limit\", \"limited\", \"limited\", \"limited\", \"longer\", \"longer\", \"magistrate_judge\", \"magistrate_judge\", \"magistrate_judge\", \"magnum_growth_fund_l.p.\", \"magnum_growth_fund_l.p.\", \"magnum_special_situation_fund\", \"magnum_special_situation_fund\", \"march\", \"march\", \"march\", \"master\", \"master\", \"master\", \"master_discovery_protocol\", \"master_discovery_protocol\", \"master_discovery_protocol\", \"may\", \"may\", \"may\", \"mbe\", \"mbe\", \"mbe\", \"memorandum_law_opposition\", \"memorandum_law_opposition\", \"memorandum_law_opposition\", \"memorandum_law_support\", \"memorandum_law_support\", \"memorandum_law_support\", \"minute_entry_proceeding_hold\", \"minute_entry_proceeding_hold\", \"minute_entry_proceeding_hold\", \"modify\", \"modify\", \"modify\", \"motion\", \"motion\", \"motion\", \"mro\", \"mro\", \"mro\", \"new_york_observer_l.p.\", \"new_york_observer_l.p.\", \"new_york_observer_l.p.\", \"nm\", \"nm\", \"nm\", \"note_attorney_refile_document\", \"note_attorney_refile_document\", \"note_attorney_refile_document\", \"notice\", \"notice\", \"notice\", \"notice_appearance_behalf\", \"notice_appearance_behalf\", \"notice_appearance_behalf\", \"notice_case_reassignment\", \"notice_case_reassignment\", \"notice_case_reassignment\", \"notice_change_address\", \"notice_change_address\", \"notice_change_address\", \"opposition\", \"opposition\", \"opposition\", \"oral_argument_set_pm\", \"oral_argument_set_pm\", \"oral_argument_set_pm\", \"order\", \"order\", \"order\", \"pacer\", \"pacer\", \"pacer\", \"party\", \"party\", \"party\", \"party_calendar_day\", \"party_calendar_day\", \"party_calendar_day\", \"party_shall_comply\", \"party_shall_comply\", \"party_shall_comply\", \"pennsylvania\", \"pennsylvania\", \"pennsylvania\", \"pl\", \"pl\", \"pl\", \"plaintiff\", \"plaintiff\", \"plaintiff\", \"plaintiff_'\", \"plaintiff_'\", \"plaintiff_'\", \"plaintiff_'s\", \"plaintiff_'s\", \"plaintiff_'s\", \"propose\", \"propose\", \"propose\", \"propose_finding_fact_conclusion\", \"propose_finding_fact_conclusion\", \"propose_finding_fact_conclusion\", \"public_terminal_purchase_court\", \"public_terminal_purchase_court\", \"public_terminal_purchase_court\", \"q\", \"q\", \"r._civ\", \"r._civ\", \"r._civ\", \"redact_transcript_deadline_set\", \"redact_transcript_deadline_set\", \"redact_transcript_deadline_set\", \"redaction_calendar_day_mcguirk\", \"redaction_calendar_day_mcguirk\", \"redaction_calendar_day_mcguirk\", \"redaction_request_due\", \"redaction_request_due\", \"redaction_request_due\", \"reiter\", \"reiter\", \"reiter\", \"related\", \"related\", \"related\", \"release_transcript_restriction_set\", \"release_transcript_restriction_set\", \"release_transcript_restriction_set\", \"report\", \"report\", \"report\", \"reportertranscriber_deadline_release_transcript\", \"reportertranscriber_deadline_release_transcript\", \"reportertranscriber_deadline_release_transcript\", \"request\", \"request\", \"request\", \"request_redaction_transcript\", \"request_redaction_transcript\", \"request_redaction_transcript\", \"response_due_reply\", \"response_due_reply\", \"response_due_reply\", \"rj\", \"rj\", \"rj\", \"rjm\", \"rjm\", \"rjm\", \"rule_deposition_objection\", \"rule_deposition_objection\", \"rule_deposition_objection\", \"rule_disclosure_statement\", \"rule_disclosure_statement\", \"rule_disclosure_statement\", \"sc\", \"sc\", \"sc\", \"schedule\", \"schedule\", \"schedule\", \"seal\", \"seal\", \"seal\", \"service\", \"service\", \"service\", \"service_accept\", \"service_accept\", \"service_accept\", \"set_answer_due\", \"set_answer_due\", \"set_answer_due\", \"shall\", \"shall\", \"shall\", \"shall_serve\", \"shall_serve\", \"shall_serve\", \"sign_judge\", \"sign_judge\", \"sign_judge\", \"sign_judge_copy_mail\", \"sign_judge_copy_mail\", \"sign_judge_copy_mail\", \"sign_judge_gr\", \"sign_judge_gr\", \"sign_judge_gr\", \"status_conference_set_pm\", \"status_conference_set_pm\", \"status_conference_set_pm\", \"stipulation\", \"stipulation\", \"stipulation\", \"strike\", \"strike\", \"strike\", \"summary_judgment\", \"summary_judgment\", \"summary_judgment\", \"summons_complaint\", \"summons_complaint\", \"summons_complaint\", \"transcript_may_make_remotely\", \"transcript_may_make_remotely\", \"transcript_may_make_remotely\", \"transcript_may_view_court\", \"transcript_may_view_court\", \"transcript_may_view_court\", \"transcript_proceeding_hold\", \"transcript_proceeding_hold\", \"transcript_proceeding_hold\", \"tro\", \"tro\", \"tro\", \"usa\", \"usa\", \"usa\", \"withdraw_attorney\", \"withdraw_attorney\", \"withdraw_attorney\"]}, \"R\": 30, \"lambda.step\": 0.01};\n",
       "\n",
       "function LDAvis_load_lib(url, callback){\n",
       "  var s = document.createElement('script');\n",
       "  s.src = url;\n",
       "  s.async = true;\n",
       "  s.onreadystatechange = s.onload = callback;\n",
       "  s.onerror = function(){console.warn(\"failed to load library \" + url);};\n",
       "  document.getElementsByTagName(\"head\")[0].appendChild(s);\n",
       "}\n",
       "\n",
       "if(typeof(LDAvis) !== \"undefined\"){\n",
       "   // already loaded: just create the visualization\n",
       "   !function(LDAvis){\n",
       "       new LDAvis(\"#\" + \"ldavis_el1345219840122407204240193884\", ldavis_el1345219840122407204240193884_data);\n",
       "   }(LDAvis);\n",
       "}else if(typeof define === \"function\" && define.amd){\n",
       "   // require.js is available: use it to load d3/LDAvis\n",
       "   require.config({paths: {d3: \"https://cdnjs.cloudflare.com/ajax/libs/d3/3.5.5/d3.min\"}});\n",
       "   require([\"d3\"], function(d3){\n",
       "      window.d3 = d3;\n",
       "      LDAvis_load_lib(\"https://cdn.rawgit.com/bmabey/pyLDAvis/files/ldavis.v1.0.0.js\", function(){\n",
       "        new LDAvis(\"#\" + \"ldavis_el1345219840122407204240193884\", ldavis_el1345219840122407204240193884_data);\n",
       "      });\n",
       "    });\n",
       "}else{\n",
       "    // require.js not available: dynamically load d3 & LDAvis\n",
       "    LDAvis_load_lib(\"https://cdnjs.cloudflare.com/ajax/libs/d3/3.5.5/d3.min.js\", function(){\n",
       "         LDAvis_load_lib(\"https://cdn.rawgit.com/bmabey/pyLDAvis/files/ldavis.v1.0.0.js\", function(){\n",
       "                 new LDAvis(\"#\" + \"ldavis_el1345219840122407204240193884\", ldavis_el1345219840122407204240193884_data);\n",
       "            })\n",
       "         });\n",
       "}\n",
       "</script>"
      ],
      "text/plain": [
       "<IPython.core.display.HTML object>"
      ]
     },
     "execution_count": 346,
     "metadata": {},
     "output_type": "execute_result"
    }
   ],
   "source": [
    "#for topics = 3\n",
    "lda3_model_filepath = 'docket_texts/lda_model_noorgnomodel_3'\n",
    "LDAvis_prepared = topic_modeling_pipeline(3, lda3_model_filepath, trigram_bow_corpus, trigram_dictionary, export = True)\n",
    "pyLDAvis.display(LDAvis_prepared)"
   ]
  },
  {
   "cell_type": "code",
   "execution_count": 347,
   "metadata": {
    "scrolled": false
   },
   "outputs": [
    {
     "name": "stdout",
     "output_type": "stream",
     "text": [
      "\n",
      " Topic 1's make-up:\n",
      "term                 frequency\n",
      "\n",
      "exhibit              0.277\n",
      "motion               0.028\n",
      "inc..                0.018\n",
      "order                0.016\n",
      "'s                   0.014\n",
      "party                0.013\n",
      "attachment           0.011\n",
      "court                0.010\n",
      "defendant            0.009\n",
      "b                    0.008\n",
      "\n",
      " Topic 2's make-up:\n",
      "term                 frequency\n",
      "\n",
      "order                0.067\n",
      "motion               0.036\n",
      "case                 0.021\n",
      "defendant            0.017\n",
      "sign_judge           0.013\n",
      "schedule             0.013\n",
      "'s                   0.012\n",
      "complaint            0.012\n",
      "dismiss              0.011\n",
      "court                0.010\n",
      "\n",
      " Topic 3's make-up:\n",
      "term                 frequency\n",
      "\n",
      "motion               0.085\n",
      "judge                0.029\n",
      "order                0.026\n",
      "'s                   0.017\n",
      "date                 0.017\n",
      "magistrate_judge     0.015\n",
      "grant                0.014\n",
      "letter               0.014\n",
      "defendant            0.013\n",
      "summary_judgment     0.013\n",
      "\n",
      " Topic 4's make-up:\n",
      "term                 frequency\n",
      "\n",
      "order                0.078\n",
      "motion               0.070\n",
      "notice               0.021\n",
      "stipulation          0.016\n",
      "shall                0.016\n",
      "'s                   0.015\n",
      "ex                   0.014\n",
      "dismiss              0.013\n",
      "court                0.013\n",
      "sign_judge           0.011\n",
      "\n",
      " Topic 5's make-up:\n",
      "term                 frequency\n",
      "\n",
      "motion               0.045\n",
      "exhibit              0.031\n",
      "notice               0.027\n",
      "attachment           0.017\n",
      "pennsylvania         0.016\n",
      "request              0.015\n",
      "party                0.014\n",
      "defendant            0.012\n",
      "plaintiff_'s         0.011\n",
      "modify               0.011\n"
     ]
    },
    {
     "data": {
      "text/html": [
       "\n",
       "<link rel=\"stylesheet\" type=\"text/css\" href=\"https://cdn.rawgit.com/bmabey/pyLDAvis/files/ldavis.v1.0.0.css\">\n",
       "\n",
       "\n",
       "<div id=\"ldavis_el1345219840189063523551340353\"></div>\n",
       "<script type=\"text/javascript\">\n",
       "\n",
       "var ldavis_el1345219840189063523551340353_data = {\"tinfo\": {\"loglift\": [30.0, 29.0, 28.0, 27.0, 26.0, 25.0, 24.0, 23.0, 22.0, 21.0, 20.0, 19.0, 18.0, 17.0, 16.0, 15.0, 14.0, 13.0, 12.0, 11.0, 10.0, 9.0, 8.0, 7.0, 6.0, 5.0, 4.0, 3.0, 2.0, 1.0, 1.3211, 1.3042, 1.2988, 1.2984, 1.2968, 1.2918, 1.2816, 1.2502, 1.2204, 1.2074, 1.1918, 1.1661, 1.1532, 1.1363, 1.1317, 1.1279, 1.125, 1.1239, 1.1052, 1.0877, 1.0722, 1.0687, 1.0647, 1.0623, 1.0559, 1.0542, 1.0488, 1.0268, 1.0216, 1.0113, 1.0018, 1.0091, 0.9551, 0.9834, 0.9526, 0.9652, 0.8166, 0.721, 0.4535, 0.9876, 0.6091, 0.8863, 0.4728, 0.3524, 0.844, 0.811, 0.7203, 0.2917, 0.3652, 0.5221, -0.3957, 0.4758, 0.2142, 0.1381, 0.1071, 0.1507, -0.1283, 0.2938, 0.3797, -0.1571, 0.3604, -0.0056, 0.337, -0.6228, 0.514, -0.2746, 1.4727, 1.469, 1.4398, 1.4081, 1.3877, 1.3842, 1.3566, 1.3435, 1.3046, 1.2946, 1.2818, 1.2792, 1.2135, 1.1959, 1.1896, 1.1871, 1.1786, 1.1606, 1.151, 1.1385, 1.1269, 1.0847, 1.0682, 1.0661, 1.0626, 1.0536, 1.0521, 1.0498, 1.0336, 1.0243, 1.018, 0.9926, 1.0196, 0.8947, 0.8878, 0.8704, 0.8679, 0.8581, 0.4629, 0.7117, 0.7508, 0.9741, 0.5519, 0.5565, 0.7451, 0.5429, 0.8083, 0.2343, 0.1073, 0.6898, 0.4399, -0.4811, 0.5276, 0.5604, 0.0625, 0.337, 0.3156, -0.1409, -0.5372, -0.3582, 0.3485, -2.1687, 0.0643, -0.5188, 1.5071, 1.5048, 1.4792, 1.4612, 1.4487, 1.4401, 1.4216, 1.3974, 1.3965, 1.3953, 1.3944, 1.3943, 1.3858, 1.3808, 1.3597, 1.3501, 1.3366, 1.3191, 1.3128, 1.2695, 1.2602, 1.2346, 1.2263, 1.2119, 1.204, 1.1929, 1.1843, 1.1426, 1.1349, 1.1296, 1.1101, 0.9904, 0.9339, 0.9861, 1.0164, 0.602, 0.8666, 0.2751, 0.9585, 0.6207, 0.5235, 1.0646, 0.4954, 0.3608, 0.7392, 0.0662, 0.2631, 0.8475, 0.648, 0.4289, 0.1699, 0.3293, 0.0394, 0.1685, -0.0836, 0.3823, -0.4617, 0.0135, 0.4702, -0.3252, -0.0677, 0.1735, 0.0103, 1.6233, 1.5913, 1.5904, 1.5516, 1.5492, 1.5374, 1.4878, 1.4846, 1.4745, 1.4701, 1.4341, 1.421, 1.4075, 1.3773, 1.3435, 1.3389, 1.3372, 1.3321, 1.3265, 1.3231, 1.305, 1.2961, 1.279, 1.2533, 1.2528, 1.2378, 1.2376, 1.232, 1.223, 1.2169, 1.1968, 1.1858, 0.8826, 0.5319, 0.8961, 0.6901, 0.362, 0.5455, 0.9368, 0.0123, -0.6506, 0.6367, 0.059, 0.4486, 0.2975, -0.9776, -0.3235, -0.0956, -0.2121, 0.5303, -0.2773, -0.6622, -0.3523, -0.5107, 0.3498, -0.374, 0.3259, 1.9615, 1.9399, 1.8866, 1.8663, 1.8552, 1.8115, 1.7673, 1.7653, 1.7644, 1.7521, 1.7296, 1.7088, 1.7042, 1.6921, 1.6422, 1.6292, 1.5947, 1.5859, 1.5825, 1.5781, 1.5774, 1.5609, 1.5412, 1.5264, 1.518, 1.4972, 1.4877, 1.4754, 1.4661, 1.4418, 1.4106, 1.4254, 1.2373, 1.138, 0.9504, 0.7793, 1.1309, 0.9477, 0.7273, -0.1602, 0.8129, 0.4411, 0.8431, 0.8068, 0.8374, 0.7042, -0.6489, 0.8179, 0.5119, -0.0255, 0.1881, 0.5816, -0.3912, -0.1024, -0.264, -0.2308, -0.1962, -0.363], \"Total\": [2538.0, 1827.0, 349.0, 2277.0, 518.0, 329.0, 194.0, 203.0, 270.0, 162.0, 282.0, 177.0, 266.0, 315.0, 90.0, 85.0, 342.0, 249.0, 186.0, 229.0, 144.0, 123.0, 209.0, 383.0, 57.0, 39.0, 137.0, 71.0, 93.0, 32.0, 57.82270185235632, 18.80496702965667, 46.16284682808307, 46.158675980202474, 46.1431887343177, 38.057759959671564, 10.199608525586385, 49.135135127845594, 29.143012502515194, 16.15798347166825, 26.926537019133132, 27.45284224110331, 32.333489708735065, 26.365162238858993, 82.6642854804925, 50.281168329633196, 18.137456974004976, 18.432703587581045, 15.72198277261402, 10.52620361132548, 17.899773310179164, 9.986602031541228, 42.80929513781706, 12.107469764882568, 12.679517234565088, 15.40612467549693, 10.532558751621957, 24.413749524258517, 9.46250737098197, 105.92910207757674, 329.461124243961, 41.05688378796655, 124.66843916678926, 52.228620176244036, 64.59157169471034, 41.60774117881605, 186.9414721696386, 265.1101603846486, 1827.5291488342018, 32.18545930087809, 270.30551895563315, 54.28489464801895, 353.47210298749866, 515.0947785798896, 65.23582480491686, 74.60784615729855, 104.20038675700562, 342.39609364209286, 270.3985027713291, 170.25505694771883, 2277.333707364061, 193.0996660346539, 322.8104743720403, 387.017892599463, 383.78816821293196, 335.2254773427612, 585.6545244383168, 209.73515831655564, 169.81751265107727, 362.43126996869336, 157.38065919195617, 266.8677421749028, 156.89928981645315, 518.8394798128099, 121.2940809066419, 315.35019429320556, 31.142029748239878, 16.10773044977653, 44.670711051231706, 15.141689563682856, 20.006834638386643, 12.679907953665873, 85.53468978291667, 14.868865910776723, 19.011836766510463, 10.924057093565965, 349.06827651753184, 39.317777036412295, 17.187651367751773, 28.434203004603013, 15.019974756310738, 13.257472413794998, 11.10642223623705, 38.44461906436437, 17.909941798743635, 21.388727077554837, 21.833461298393505, 23.424641305410645, 13.176547049413342, 19.682885522414434, 14.344607164893766, 48.43900000267009, 11.015748026302274, 11.567313211551301, 21.227612039905473, 13.163146987563037, 66.59076325322307, 123.0219350960847, 41.330927955508436, 229.33833456405478, 249.61501220741707, 266.8677421749028, 232.4891599463004, 177.2761800898083, 2277.333707364061, 361.28733078950927, 180.59542450543398, 45.179745586288384, 335.2254773427612, 315.35019429320556, 123.80255436032127, 236.2105455250516, 83.22333166864671, 585.6545244383168, 515.0947785798896, 100.07188293344224, 189.94575909072307, 1827.5291488342018, 131.29777092180913, 115.81746673243876, 329.461124243961, 168.95844290188072, 169.81751265107727, 322.8104743720403, 518.8394798128099, 362.43126996869336, 145.6053608895843, 2538.606814483111, 194.39423496116416, 353.47210298749866, 14.695117336472661, 17.198307434861718, 12.75267708335646, 42.42149225367142, 45.70018809687178, 24.407003895917434, 12.466220217973902, 13.268782303549175, 13.269726339097664, 40.34414787548235, 40.35123853819728, 40.34927182491008, 13.292399664861005, 21.39167198277208, 26.82419763586801, 71.9918037810851, 39.358329245022105, 162.42698068469926, 14.310005756382246, 12.104574227363742, 36.71866615100849, 33.650567460130674, 37.980339734873816, 15.951523446500442, 19.989737620336932, 12.094064182689696, 21.352610250974685, 56.8675770565773, 14.669258017373924, 13.059123619419985, 37.534135184240654, 137.4114479151115, 270.3985027713291, 133.1029022520485, 91.89870938477065, 1827.5291488342018, 174.2042177392445, 2277.333707364061, 78.63099702271916, 362.43126996869336, 518.8394798128099, 45.02057317855114, 342.39609364209286, 387.017892599463, 108.51351089429497, 585.6545244383168, 353.47210298749866, 79.01763463326921, 124.12616953617247, 186.9414721696386, 270.30551895563315, 194.39423496116416, 322.8104743720403, 249.61501220741707, 361.28733078950927, 170.0966005479375, 515.0947785798896, 266.8677421749028, 139.43771476984196, 383.78816821293196, 265.1101603846486, 193.0996660346539, 229.33833456405478, 25.423194977300117, 16.344201609886312, 37.70809296519057, 17.759293018546277, 9.950140609083, 2538.606814483111, 30.756497577153805, 15.180525251830279, 28.066368270463837, 9.730815487224113, 27.48728877100834, 18.21030675153104, 46.39449655819783, 41.99702620547334, 23.148700131166432, 203.07798357826877, 12.444298828908252, 16.23224308238239, 58.81453095109922, 20.174653147944497, 38.67287010652494, 56.943824350762355, 20.468018077913023, 9.21464844454941, 41.02589967530072, 34.14716803618352, 62.7295912350544, 21.404642383580523, 9.164197678203683, 44.205473482555576, 36.61532188202771, 40.55615276805662, 113.82938247099773, 282.74077149150065, 69.8945892419563, 135.69869571415344, 383.78816821293196, 209.73515831655564, 59.19927849948982, 585.6545244383168, 2277.333707364061, 113.0633673193619, 387.017892599463, 168.95844290188072, 189.94575909072307, 1827.5291488342018, 515.0947785798896, 322.8104743720403, 362.43126996869336, 112.81268885270694, 335.2254773427612, 518.8394798128099, 342.39609364209286, 361.28733078950927, 125.16180593965437, 270.30551895563315, 124.12616953617247, 24.652781348812947, 32.80916693082646, 19.896465473470833, 39.8560793281554, 17.26504653785017, 10.093268658854742, 40.849907279188585, 40.85707715027455, 40.8600648943811, 15.157355449967747, 14.798493428990122, 33.208667281901896, 39.2613586293476, 15.43019383000654, 18.251485976090702, 10.853096831548912, 48.84637312419916, 19.59873849495084, 18.53481270418463, 40.920147928317746, 40.91940426807894, 24.057829592687273, 16.793230142703187, 45.26998912888732, 16.555255802915248, 36.927681659592466, 9.906952955620525, 29.81928554264215, 10.30079762753081, 12.87185644688132, 90.22508201933832, 34.23391302746, 194.39423496116416, 144.74649125097665, 282.74077149150065, 518.8394798128099, 93.49562239023739, 177.2761800898083, 315.35019429320556, 2277.333707364061, 156.89928981645315, 383.78816821293196, 132.212997269342, 143.04767789537175, 123.80255436032127, 157.38065919195617, 2538.606814483111, 123.43160254723533, 209.73515831655564, 515.0947785798896, 342.39609364209286, 170.0966005479375, 585.6545244383168, 353.47210298749866, 387.017892599463, 361.28733078950927, 322.8104743720403, 362.43126996869336], \"Freq\": [2538.0, 1827.0, 349.0, 2277.0, 518.0, 329.0, 194.0, 203.0, 270.0, 162.0, 282.0, 177.0, 266.0, 315.0, 90.0, 85.0, 342.0, 249.0, 186.0, 229.0, 144.0, 123.0, 209.0, 383.0, 57.0, 39.0, 137.0, 71.0, 93.0, 32.0, 55.24047483451187, 17.66424216317433, 43.12555279241603, 43.10825140457174, 43.02515814667551, 35.3090709131147, 9.36650592294673, 43.72481087407922, 25.172835564223963, 13.776363022259329, 22.604189778841082, 22.4614280050802, 26.114373444048013, 20.93796888510088, 65.34235811576387, 39.59385381820367, 14.241659435951869, 14.456794799174423, 12.102961495434744, 7.962569333329561, 13.331487918809238, 7.412005592439805, 31.648307941319707, 8.928628486352721, 9.291056728166428, 11.270132145469022, 7.66369938076002, 17.376062123285955, 6.699810498431028, 74.23804698311224, 228.71350861014633, 28.708996635242773, 82.5938069424532, 35.595609954858595, 42.68497011466794, 27.846044333226715, 107.8375447690988, 138.98106598026754, 733.1747943883578, 22.02673063549226, 126.69774916561691, 33.57206931237098, 144.5768595233344, 186.78314946629501, 38.67435545512565, 42.796380720174675, 54.58963673709743, 116.84297791976397, 99.31411936971172, 73.15859435182445, 390.8142834298632, 79.21978307236107, 101.95027146302279, 113.26916759039018, 108.88946509818473, 99.35243971527083, 131.316703109517, 71.72372887241082, 63.27954241120407, 78.95457953889999, 57.52970776453755, 67.64978890484241, 56.02423884643848, 70.95294090136744, 51.69703816523828, 61.08310184847797, 29.37568496026014, 15.139379532657816, 40.77618568824615, 13.39011034244591, 17.33474703271761, 10.947609899129418, 71.8457134423085, 12.325708001592496, 15.159300458779368, 8.624170860658056, 272.06389902983153, 30.56552971994045, 12.510955101384699, 20.337841956107063, 10.67510117068644, 9.399541955302611, 7.8072425932076985, 26.54265442769231, 12.247204016478573, 14.445056663084893, 14.575023488356846, 14.99014610648992, 8.294212055078873, 12.364330380713978, 8.97977566947646, 30.050523120528588, 6.823315808550299, 7.1484144496663555, 12.90830671913751, 7.929939317266046, 39.86520166149783, 71.79990852766451, 24.782278899455566, 121.37349150210129, 131.19797095392113, 137.84576912422355, 119.79024363896065, 90.44503153920745, 782.6006470338349, 159.22113236565116, 82.76934323518114, 25.885183283756785, 125.92265271431704, 119.00615358010292, 56.415710364616935, 87.93043713425156, 40.3995264342372, 160.12277318687913, 124.04382605500881, 43.14611942263381, 63.787529604099966, 244.33783780100057, 48.13640113062478, 43.875667337398205, 75.86510114887136, 51.19367074453259, 50.36329013063356, 60.64858215168505, 65.58526721016158, 54.79553234276586, 44.62694013896362, 62.782073478111265, 44.84254298686608, 45.510685326435016, 13.771139915013187, 16.081041467200826, 11.621977565884754, 37.972973227713, 40.39951434827478, 21.390357587096016, 10.725710579166947, 11.143138512008186, 11.133794888373409, 33.809922748542945, 33.78438351060788, 33.77868451897369, 11.034471962874717, 17.668718039401497, 21.693643772362613, 57.661976582300326, 31.103605072336908, 126.13235171902028, 11.042728591000547, 8.944758161296296, 26.883348102767172, 24.013312814555217, 26.87870104227067, 11.128118585450029, 13.834705432270708, 8.278227778524839, 14.490713409750152, 37.016301673675926, 9.475121214818945, 8.390268757739213, 23.650223312805895, 76.81605438988154, 142.8469022130144, 74.0840035903935, 52.72273499316972, 692.749341480709, 86.04176273195414, 622.5675321360492, 42.57636001851009, 139.9793296812307, 181.82524934382946, 27.10351522727565, 116.6681561497628, 115.2656225517107, 47.1866606782749, 129.91529410072124, 95.48194126951111, 38.290804939220756, 49.270655893423424, 59.5997946215114, 66.51686888528677, 56.103588041844034, 69.71870388042696, 61.3383727780238, 68.99814342676963, 51.760312882246616, 67.40029303037943, 56.164492792106216, 46.330916760374016, 57.56568569361027, 51.44228316017176, 47.69067595071352, 48.11211669145354, 24.29528155198951, 15.12720862885828, 34.866918447310205, 15.79707113422218, 8.829643850368608, 2226.1772391936242, 25.66644013107612, 12.627470349015395, 23.11115710500034, 7.978375931945015, 21.73820280350615, 14.214710134076013, 35.72771174622115, 31.37901135352546, 16.721922476473505, 146.03219077319147, 8.93289227132057, 11.593394519009395, 41.77115465286481, 14.279092118997735, 26.882294000585098, 39.229778644850676, 13.862088487811539, 6.082314960157963, 27.066109314310655, 22.19372458671027, 40.75953565167439, 13.830894598773032, 5.868324862628863, 28.13631305686296, 22.84026704320656, 25.021873156477643, 51.86121212887718, 90.71478037560777, 32.27623590912248, 51.001347587332404, 103.89192247708118, 68.21327383672394, 28.474120461388548, 111.75956843554087, 223.9613601969984, 40.28152146225558, 77.38340463151934, 49.87379494991352, 48.210371782148286, 129.59086349848934, 70.25463009772393, 55.29994002212724, 55.25979748096585, 36.13635749735913, 47.88482734534664, 50.435760566257855, 45.37313412315629, 40.86457511379721, 33.47159532425085, 35.051737418189525, 32.41163225515743, 23.253033836285727, 30.282161956257873, 17.41246610074839, 34.177461319159455, 14.641752015621675, 8.193593401820324, 31.727056331582652, 31.66990755567084, 31.643893700657713, 11.594634790770394, 11.068555309371977, 24.326915817625437, 28.629715498402838, 11.11651225961426, 12.50885047730082, 7.3423934457365885, 31.925670928565843, 12.697204492970323, 11.96670539780387, 26.303726318920727, 26.284528252059978, 15.200814007823968, 10.403438757398089, 27.633622059804505, 10.021632722101721, 21.89241697138645, 5.817933441374323, 17.297626923068105, 5.919833559508184, 7.220092745914242, 49.052399738877504, 18.88986593441936, 88.87080342522357, 59.91704543255086, 97.020092886229, 150.0402617911936, 38.42923220085792, 60.667293445206, 86.57577521381027, 257.3898845673153, 46.92256873156884, 79.13428400367262, 40.752475034147146, 42.5222684896465, 37.94136831122878, 42.22052885668574, 175.99518369407662, 37.10020622412351, 46.41996102178333, 66.61287993048249, 54.821329218469124, 40.36342162318489, 52.54018560565858, 42.32466334620637, 39.42588966832887, 38.04967503301747, 35.19297685477822, 33.44203092483094], \"Term\": [\"exhibit\", \"order\", \"judge\", \"motion\", \"notice\", \"case\", \"pennsylvania\", \"inc..\", \"stipulation\", \"ex\", \"attachment\", \"plaintiff_'s\", \"magistrate_judge\", \"request\", \"cd\", \"serve_answer_due\", \"dismiss\", \"grant\", \"l.p.\", \"summary_judgment\", \"modify\", \"mro\", \"b\", \"party\", \"cal\", \"affidavit_service_summons_complaint\", \"sign_magistrate_judge\", \"pl\", \"letter_address_judge\", \"limine_preclude_plaintiff_introduce\", \"cal\", \"corporate_parent\", \"transcript_may_view_court\", \"reportertranscriber_deadline_release_transcript\", \"public_terminal_purchase_court\", \"sc\", \"new_york_observer_l.p.\", \"restriction\", \"return_date\", \"jv\", \"mdl\", \"answer_crossclaim\", \"complaint_pursuant_frcp\", \"crossclaims\", \"service_accept\", \"nd\", \"shall_complete\", \"place\", \"estate_m.l\", \"allege\", \"pursuant_rule_b\", \"hereby_stipulate_agree_undersigned\", \"transmit\", \"business\", \"along\", \"expert_discovery_due\", \"without_cost_either_party\", \"dismiss_without_prejudice\", \"see_attached\", \"notice_appearance_behalf\", \"case\", \"status_report\", \"clerk\", \"close\", \"accordingly\", \"rule_corporate_disclosure_statement\", \"l.p.\", \"schedule\", \"order\", \"endorsement_application_grant\", \"complaint\", \"p.m.\", \"sign_judge\", \"defendant\", \"extend\", \"settlement\", \"july\", \"dismiss\", \"stipulation\", \"hereby\", \"motion\", \"action\", \"plaintiff\", \"court\", \"party\", \"letter\", \"'s\", \"b\", \"judgment\", \"shall\", \"propose\", \"magistrate_judge\", \"amend_complaint\", \"notice\", \"april\", \"request\", \"transcript_proceeding_conference_hold\", \"notice_case_reassignment\", \"transcript_proceeding_hold\", \"nm\", \"claim_administrator\", \"conference_call\", \"serve_answer_due\", \"telephone_conference_set\", \"setreset_deadline\", \"case_assign\", \"judge\", \"telephone_conference_hold\", \"approval\", \"wellington\", \"withdraw\", \"application_grant\", \"oral_argument_set_pm\", \"entry\", \"adjourn_conference\", \"reply_due\", \"vacate\", \"mediation\", \"transcript_proceeding\", \"street_new_york_ny\", \"initiate\", \"withdraw_attorney\", \"contempt\", \"company\", \"ft\", \"dismiss_lack_jurisdiction\", \"summary_judgment.._document\", \"minute_entry_proceeding_hold\", \"address_judge\", \"summary_judgment\", \"grant\", \"magistrate_judge\", \"counsel\", \"plaintiff_'s\", \"motion\", \"date\", \"declaration_support\", \"default_judgment\", \"letter\", \"request\", \"mro\", \"memorandum_law_support\", \"service\", \"'s\", \"defendant\", \"affidavit_service\", \"conference\", \"order\", \"djc\", \"reply\", \"case\", \"discovery\", \"judgment\", \"plaintiff\", \"notice\", \"shall\", \"defendant_'\", \"exhibit\", \"pennsylvania\", \"sign_judge\", \"copy_mail_chamber\", \"gf\", \"associated_case_ft\", \"sign_judge_s.d.n.y\", \"copy_send_chamber\", \"conference_proceed_hold\", \"specific\", \"judge_individual_practice\", \"attorney_responsible_provide_courtesy\", \"official_transcript_notice\", \"court_reportertranscriber_abovecaptioned_matter\", \"hereby_give_official_transcript\", \"pa\", \"text\", \"notice_adoption_master\", \"pl\", \"reiter\", \"ex\", \"rule_deposition_objection\", \"cote\", \"pacer\", \"yv\", \"date_may_obtain\", \"office_p.c\", \"york_ny_magistrate_judge\", \"deny_part\", \"cf\", \"opinion\", \"execute\", \"jurisdiction\", \"tp\", \"sign_magistrate_judge\", \"stipulation\", \"memorandum_law_opposition\", \"dismissal\", \"order\", \"may\", \"motion\", \"sign_judge_iii\", \"shall\", \"notice\", \"crossclaim\", \"dismiss\", \"court\", \"answer\", \"'s\", \"sign_judge\", \"answer_complaint\", \"hold\", \"l.p.\", \"complaint\", \"pennsylvania\", \"plaintiff\", \"grant\", \"date\", \"claim\", \"defendant\", \"magistrate_judge\", \"serve\", \"party\", \"schedule\", \"action\", \"summary_judgment\", \"g\", \"cyr\", \"judge_c.d\", \"gr\", \"sign_judge_sr\", \"exhibit\", \"dismiss.._document\", \"usa\", \"erratum\", \"q\", \"h\", \"k\", \"f\", \"sac\", \"civ\", \"inc..\", \"modify_gf\", \"kkc\", \"associated_case\", \"haas\", \"fee_receipt_number\", \"keely\", \"service_make\", \"united_state_magistrate_judge\", \"answer_due\", \"release_transcript_restriction_set\", \"e\", \"new_address\", \"coordination\", \"inc.._attachment\", \"sign_judge_copy_mail\", \"new_york\", \"c\", \"attachment\", \"rule_statement\", \"llc\", \"party\", \"b\", \"behalf\", \"'s\", \"motion\", \"declaration\", \"court\", \"discovery\", \"conference\", \"order\", \"defendant\", \"plaintiff\", \"shall\", \"attorney\", \"letter\", \"notice\", \"dismiss\", \"date\", \"march\", \"complaint\", \"hold\", \"mp\", \"limine_preclude_plaintiff_introduce\", \"rule_disclosure_statement\", \"affidavit_service_summons_complaint\", \"jar\", \"scileppi\", \"request_redaction_transcript\", \"party_calendar_day\", \"court_notice_intent\", \"notice_conversion\", \"date_purs\", \"db\", \"cotton\", \"set_answer_due\", \"b_rule_..\", \"withdrawal\", \"kw\", \"case_designate\", \"magistrate_judge_designate\", \"transcript_may_make_remotely\", \"electronically_available_public_without\", \"s.d.n.y\", \"kgo\", \"sign_judge_gr\", \"r._civ\", \"document_place_vault\", \"sn\", \"redaction_calendar_day_mcguirk\", \"rule_certificate\", \"associate_case_thk\", \"cd\", \"associated_case_et_al\", \"pennsylvania\", \"modify\", \"attachment\", \"notice\", \"letter_address_judge\", \"plaintiff_'s\", \"request\", \"motion\", \"amend_complaint\", \"party\", \"regard\", \"due\", \"mro\", \"propose\", \"exhibit\", \"seal\", \"b\", \"defendant\", \"dismiss\", \"claim\", \"'s\", \"sign_judge\", \"court\", \"date\", \"plaintiff\", \"shall\"], \"logprob\": [30.0, 29.0, 28.0, 27.0, 26.0, 25.0, 24.0, 23.0, 22.0, 21.0, 20.0, 19.0, 18.0, 17.0, 16.0, 15.0, 14.0, 13.0, 12.0, 11.0, 10.0, 9.0, 8.0, 7.0, 6.0, 5.0, 4.0, 3.0, 2.0, 1.0, -5.282700061798096, -6.422800064086914, -5.530300140380859, -5.530700206756592, -5.532599925994873, -5.730199813842773, -7.057199954986572, -5.516499996185303, -6.068600177764893, -6.67140007019043, -6.176199913024902, -6.182600021362305, -6.031899929046631, -6.252799987792969, -5.114699840545654, -5.615699768066406, -6.638199806213379, -6.623199939727783, -6.800899982452393, -7.219600200653076, -6.70419979095459, -7.291299819946289, -5.839700222015381, -7.105100154876709, -7.065299987792969, -6.872200012207031, -7.257900238037109, -6.439300060272217, -7.392300128936768, -4.987100124359131, -3.8619000911712646, -5.93720006942749, -4.88040018081665, -5.722099781036377, -5.540500164031982, -5.967700004577637, -4.613699913024902, -4.360000133514404, -2.697000026702881, -6.202099800109863, -4.452600002288818, -5.780700206756592, -4.3206000328063965, -4.0644001960754395, -5.639200210571289, -5.537899971008301, -5.29449987411499, -4.5335001945495605, -4.696100234985352, -5.001699924468994, -3.3261001110076904, -4.922100067138672, -4.669899940490723, -4.564599990844727, -4.604000091552734, -4.695700168609619, -4.416800022125244, -5.021500110626221, -5.1468000411987305, -4.92549991607666, -5.242099761962891, -5.079999923706055, -5.268599987030029, -5.032400131225586, -5.348999977111816, -5.18209981918335, -5.75, -6.412799835205078, -5.421999931335449, -6.535600185394287, -6.277400016784668, -6.736999988555908, -4.855599880218506, -6.6184000968933105, -6.411499977111816, -6.975599765777588, -3.5241000652313232, -5.710299968719482, -6.603499889373779, -6.117599964141846, -6.762199878692627, -6.889500141143799, -7.075099945068359, -5.851399898529053, -6.624800205230713, -6.459799766540527, -6.450799942016602, -6.422699928283691, -7.014599800109863, -6.615300178527832, -6.935200214385986, -5.72730016708374, -7.209799766540527, -7.1631999015808105, -6.572299957275391, -7.059500217437744, -5.4446001052856445, -4.856200218200684, -5.920000076293945, -4.331299781799316, -4.253399848937988, -4.203999996185303, -4.344399929046631, -4.625400066375732, -2.4674999713897705, -4.059800148010254, -4.714099884033203, -5.876500129699707, -4.29449987411499, -4.35099983215332, -5.097400188446045, -4.653600215911865, -5.431300163269043, -4.054200172424316, -4.309500217437744, -5.365499973297119, -4.974599838256836, -3.6315999031066895, -5.256100177764893, -5.348800182342529, -4.801199913024902, -5.194499969482422, -5.210899829864502, -5.025000095367432, -4.946800231933594, -5.126500129699707, -5.3317999839782715, -4.990499973297119, -5.327000141143799, -5.31220006942749, -6.466599941253662, -6.311500072479248, -6.636300086975098, -5.452300071716309, -5.390399932861328, -6.026199817657471, -6.7164998054504395, -6.678299903869629, -6.679200172424316, -5.568399906158447, -5.569200038909912, -5.569300174713135, -6.6880998611450195, -6.217400074005127, -6.012199878692627, -5.034599781036377, -5.651800155639648, -4.251800060272217, -6.687399864196777, -6.898099899291992, -5.797699928283691, -5.910600185394287, -5.797800064086914, -6.679699897766113, -6.461999893188477, -6.975500106811523, -6.4156999588012695, -5.477799892425537, -6.8404998779296875, -6.962100028991699, -5.92579984664917, -4.747799873352051, -4.127399921417236, -4.783999919891357, -5.124100208282471, -2.5485000610351562, -4.634300231933594, -2.6552999019622803, -5.337900161743164, -4.14769983291626, -3.8861000537872314, -5.7895002365112305, -4.329800128936768, -4.341899871826172, -5.235099792480469, -4.222300052642822, -4.530200004577637, -5.443999767303467, -5.191800117492676, -5.001500129699707, -4.89169979095459, -5.061999797821045, -4.844699859619141, -4.972799777984619, -4.855100154876709, -5.142499923706055, -4.878499984741211, -5.0609002113342285, -5.253399848937988, -5.036200046539307, -5.14870023727417, -5.224400043487549, -5.21560001373291, -5.802199840545654, -6.276000022888184, -5.440899848937988, -6.232600212097168, -6.8144001960754395, -1.2843999862670898, -5.747300148010254, -6.456600189208984, -5.852200031280518, -6.9156999588012695, -5.913400173187256, -6.338200092315674, -5.416500091552734, -5.546299934387207, -6.17579984664917, -4.008600234985352, -6.802700042724609, -6.541999816894531, -5.260300159454346, -6.333700180053711, -5.701000213623047, -5.322999954223633, -6.36329984664917, -7.187099933624268, -5.694200038909912, -5.8927001953125, -5.284800052642822, -6.365600109100342, -7.222899913787842, -5.655399799346924, -5.863900184631348, -5.77269983291626, -5.043900012969971, -4.484799861907959, -5.518099784851074, -5.0605998039245605, -4.349100112915039, -4.769800186157227, -5.643499851226807, -4.276100158691406, -3.5810000896453857, -5.296599864959717, -4.643700122833252, -5.083000183105469, -5.1168999671936035, -4.1280999183654785, -4.740300178527832, -4.979700088500977, -4.980400085449219, -5.405200004577637, -5.123700141906738, -5.071800231933594, -5.177599906921387, -5.282199859619141, -5.481800079345703, -5.4355998039245605, -5.513999938964844, -5.494699954986572, -5.230599880218506, -5.783999919891357, -5.109600067138672, -5.957300186157227, -6.537799835205078, -5.184000015258789, -5.185800075531006, -5.186600208282471, -6.1905999183654785, -6.237100124359131, -5.4496002197265625, -5.2866997718811035, -6.232800006866455, -6.114699840545654, -6.647500038146973, -5.177800178527832, -6.099800109863281, -6.15910005569458, -5.371500015258789, -5.372200012207031, -5.9197998046875, -6.298999786376953, -5.3221001625061035, -6.336400032043457, -5.554999828338623, -6.880199909210205, -5.790599822998047, -6.8628997802734375, -6.664299964904785, -4.748300075531006, -5.702600002288818, -4.1539998054504395, -4.5482001304626465, -4.066299915313721, -3.6303000450134277, -4.992400169372559, -4.535799980163574, -4.180200099945068, -3.09060001373291, -4.792699813842773, -4.269999980926514, -4.933700084686279, -4.891200065612793, -5.005099773406982, -4.8983001708984375, -3.4707000255584717, -5.027599811553955, -4.803500175476074, -4.442299842834473, -4.6371002197265625, -4.943299770355225, -4.679599761962891, -4.8958001136779785, -4.966800212860107, -5.002299785614014, -5.0802998542785645, -5.131400108337402], \"Category\": [\"Default\", \"Default\", \"Default\", \"Default\", \"Default\", \"Default\", \"Default\", \"Default\", \"Default\", \"Default\", \"Default\", \"Default\", \"Default\", \"Default\", \"Default\", \"Default\", \"Default\", \"Default\", \"Default\", \"Default\", \"Default\", \"Default\", \"Default\", \"Default\", \"Default\", \"Default\", \"Default\", \"Default\", \"Default\", \"Default\", \"Topic1\", \"Topic1\", \"Topic1\", \"Topic1\", \"Topic1\", \"Topic1\", \"Topic1\", \"Topic1\", \"Topic1\", \"Topic1\", \"Topic1\", \"Topic1\", \"Topic1\", \"Topic1\", \"Topic1\", \"Topic1\", \"Topic1\", \"Topic1\", \"Topic1\", \"Topic1\", \"Topic1\", \"Topic1\", \"Topic1\", \"Topic1\", \"Topic1\", \"Topic1\", \"Topic1\", \"Topic1\", \"Topic1\", \"Topic1\", \"Topic1\", \"Topic1\", \"Topic1\", \"Topic1\", \"Topic1\", \"Topic1\", \"Topic1\", \"Topic1\", \"Topic1\", \"Topic1\", \"Topic1\", \"Topic1\", \"Topic1\", \"Topic1\", \"Topic1\", \"Topic1\", \"Topic1\", \"Topic1\", \"Topic1\", \"Topic1\", \"Topic1\", \"Topic1\", \"Topic1\", \"Topic1\", \"Topic1\", \"Topic1\", \"Topic1\", \"Topic1\", \"Topic1\", \"Topic1\", \"Topic1\", \"Topic1\", \"Topic1\", \"Topic1\", \"Topic1\", \"Topic1\", \"Topic2\", \"Topic2\", \"Topic2\", \"Topic2\", \"Topic2\", \"Topic2\", \"Topic2\", \"Topic2\", \"Topic2\", \"Topic2\", \"Topic2\", \"Topic2\", \"Topic2\", \"Topic2\", \"Topic2\", \"Topic2\", \"Topic2\", \"Topic2\", \"Topic2\", \"Topic2\", \"Topic2\", \"Topic2\", \"Topic2\", \"Topic2\", \"Topic2\", \"Topic2\", \"Topic2\", \"Topic2\", \"Topic2\", \"Topic2\", \"Topic2\", \"Topic2\", \"Topic2\", \"Topic2\", \"Topic2\", \"Topic2\", \"Topic2\", \"Topic2\", \"Topic2\", \"Topic2\", \"Topic2\", \"Topic2\", \"Topic2\", \"Topic2\", \"Topic2\", \"Topic2\", \"Topic2\", \"Topic2\", \"Topic2\", \"Topic2\", \"Topic2\", \"Topic2\", \"Topic2\", \"Topic2\", \"Topic2\", \"Topic2\", \"Topic2\", \"Topic2\", \"Topic2\", \"Topic2\", \"Topic2\", \"Topic2\", \"Topic2\", \"Topic2\", \"Topic3\", \"Topic3\", \"Topic3\", \"Topic3\", \"Topic3\", \"Topic3\", \"Topic3\", \"Topic3\", \"Topic3\", \"Topic3\", \"Topic3\", \"Topic3\", \"Topic3\", \"Topic3\", \"Topic3\", \"Topic3\", \"Topic3\", \"Topic3\", \"Topic3\", \"Topic3\", \"Topic3\", \"Topic3\", \"Topic3\", \"Topic3\", \"Topic3\", \"Topic3\", \"Topic3\", \"Topic3\", \"Topic3\", \"Topic3\", \"Topic3\", \"Topic3\", \"Topic3\", \"Topic3\", \"Topic3\", \"Topic3\", \"Topic3\", \"Topic3\", \"Topic3\", \"Topic3\", \"Topic3\", \"Topic3\", \"Topic3\", \"Topic3\", \"Topic3\", \"Topic3\", \"Topic3\", \"Topic3\", \"Topic3\", \"Topic3\", \"Topic3\", \"Topic3\", \"Topic3\", \"Topic3\", \"Topic3\", \"Topic3\", \"Topic3\", \"Topic3\", \"Topic3\", \"Topic3\", \"Topic3\", \"Topic3\", \"Topic3\", \"Topic4\", \"Topic4\", \"Topic4\", \"Topic4\", \"Topic4\", \"Topic4\", \"Topic4\", \"Topic4\", \"Topic4\", \"Topic4\", \"Topic4\", \"Topic4\", \"Topic4\", \"Topic4\", \"Topic4\", \"Topic4\", \"Topic4\", \"Topic4\", \"Topic4\", \"Topic4\", \"Topic4\", \"Topic4\", \"Topic4\", \"Topic4\", \"Topic4\", \"Topic4\", \"Topic4\", \"Topic4\", \"Topic4\", \"Topic4\", \"Topic4\", \"Topic4\", \"Topic4\", \"Topic4\", \"Topic4\", \"Topic4\", \"Topic4\", \"Topic4\", \"Topic4\", \"Topic4\", \"Topic4\", \"Topic4\", \"Topic4\", \"Topic4\", \"Topic4\", \"Topic4\", \"Topic4\", \"Topic4\", \"Topic4\", \"Topic4\", \"Topic4\", \"Topic4\", \"Topic4\", \"Topic4\", \"Topic4\", \"Topic4\", \"Topic4\", \"Topic5\", \"Topic5\", \"Topic5\", \"Topic5\", \"Topic5\", \"Topic5\", \"Topic5\", \"Topic5\", \"Topic5\", \"Topic5\", \"Topic5\", \"Topic5\", \"Topic5\", \"Topic5\", \"Topic5\", \"Topic5\", \"Topic5\", \"Topic5\", \"Topic5\", \"Topic5\", \"Topic5\", \"Topic5\", \"Topic5\", \"Topic5\", \"Topic5\", \"Topic5\", \"Topic5\", \"Topic5\", \"Topic5\", \"Topic5\", \"Topic5\", \"Topic5\", \"Topic5\", \"Topic5\", \"Topic5\", \"Topic5\", \"Topic5\", \"Topic5\", \"Topic5\", \"Topic5\", \"Topic5\", \"Topic5\", \"Topic5\", \"Topic5\", \"Topic5\", \"Topic5\", \"Topic5\", \"Topic5\", \"Topic5\", \"Topic5\", \"Topic5\", \"Topic5\", \"Topic5\", \"Topic5\", \"Topic5\", \"Topic5\", \"Topic5\", \"Topic5\"]}, \"plot.opts\": {\"ylab\": \"PC2\", \"xlab\": \"PC1\"}, \"mdsDat\": {\"y\": [0.053443129068918155, -0.013082604870076354, 0.02826037775801496, 0.040741019265642504, -0.10936192122249916], \"Freq\": [25.49181961555147, 21.630876571226317, 20.762750590801645, 18.84900142796713, 13.265551794453437], \"x\": [-0.0530647572135539, -0.0609156391524484, -0.07609065499450203, 0.16639179318990596, 0.023679258170598468], \"topics\": [1, 2, 3, 4, 5], \"cluster\": [1, 1, 1, 1, 1]}, \"topic.order\": [2, 3, 4, 1, 5], \"token.table\": {\"Topic\": [1, 2, 3, 4, 5, 1, 2, 3, 4, 5, 1, 2, 3, 4, 5, 1, 2, 3, 4, 5, 1, 2, 3, 4, 5, 1, 2, 3, 4, 5, 1, 4, 5, 1, 3, 4, 1, 3, 4, 5, 1, 2, 3, 4, 5, 1, 2, 3, 4, 5, 1, 2, 3, 4, 5, 1, 3, 1, 2, 3, 4, 2, 3, 5, 1, 2, 3, 4, 1, 2, 3, 4, 5, 3, 5, 2, 3, 4, 5, 1, 2, 3, 4, 5, 3, 1, 2, 3, 4, 5, 1, 2, 3, 4, 5, 3, 4, 1, 2, 3, 4, 5, 3, 4, 5, 1, 2, 3, 4, 5, 1, 2, 3, 4, 1, 2, 3, 4, 5, 1, 2, 3, 1, 2, 3, 4, 5, 2, 3, 5, 1, 3, 5, 1, 2, 3, 4, 5, 3, 4, 1, 2, 4, 1, 2, 3, 4, 5, 1, 2, 1, 2, 3, 4, 5, 1, 2, 3, 4, 5, 1, 2, 4, 1, 2, 3, 4, 5, 1, 3, 4, 5, 1, 2, 3, 4, 5, 1, 2, 3, 5, 1, 2, 3, 2, 3, 4, 3, 1, 2, 3, 1, 2, 3, 4, 4, 5, 1, 2, 3, 4, 5, 1, 2, 3, 4, 5, 2, 3, 5, 3, 5, 1, 3, 4, 5, 1, 2, 3, 4, 4, 1, 2, 3, 4, 5, 2, 3, 4, 1, 5, 1, 2, 3, 5, 1, 2, 3, 4, 5, 1, 2, 3, 4, 5, 1, 2, 3, 4, 5, 1, 2, 3, 4, 5, 1, 2, 3, 4, 5, 2, 3, 5, 1, 2, 3, 4, 5, 1, 2, 3, 4, 5, 2, 3, 4, 5, 2, 3, 1, 2, 3, 4, 5, 1, 2, 3, 4, 5, 1, 2, 3, 4, 5, 1, 2, 5, 1, 2, 3, 4, 5, 1, 2, 3, 4, 5, 1, 3, 5, 1, 2, 1, 2, 3, 4, 5, 3, 4, 5, 1, 3, 4, 5, 1, 2, 3, 4, 5, 1, 2, 3, 4, 1, 2, 3, 4, 5, 1, 2, 1, 2, 3, 4, 5, 1, 2, 3, 4, 5, 1, 3, 4, 1, 2, 3, 4, 5, 4, 3, 2, 4, 1, 2, 3, 4, 5, 3, 4, 5, 3, 4, 5, 1, 2, 3, 4, 5, 3, 5, 1, 2, 3, 1, 2, 3, 4, 5, 1, 2, 3, 4, 5, 1, 3, 4, 5, 1, 2, 4, 5, 1, 4, 5, 1, 2, 3, 4, 5, 1, 2, 4, 3, 4, 1, 2, 3, 4, 5, 1, 2, 3, 4, 5, 2, 3, 5, 1, 4, 5, 2, 3, 4, 5, 1, 2, 3, 4, 5, 1, 2, 3, 4, 5, 4, 5, 1, 2, 3, 4, 5, 1, 2, 3, 4, 5, 1, 2, 3, 4, 5, 1, 2, 3, 4, 5, 2, 5, 1, 2, 3, 4, 5, 1, 2, 3, 4, 5, 1, 4, 5, 1, 2, 3, 4, 5, 1, 2, 3, 4, 5, 1, 2, 3, 5, 1, 2, 3, 5, 1, 2, 3, 4, 5, 1, 2, 3, 4, 5, 1, 2, 3, 4, 5, 1, 2, 3, 4, 5, 1, 2, 4, 5, 1, 2, 3, 4, 5, 5, 1, 2, 3, 4, 5, 1, 3, 4, 1, 2, 3, 4, 1, 2, 3, 4, 5, 1, 2, 4, 1, 2, 3, 4, 5, 1, 2, 3, 1, 2, 3, 4, 5, 2, 1, 2, 4, 5, 1, 2, 3, 4, 3, 5, 1, 2, 3, 4, 1, 2, 3, 1, 2, 3, 4, 5, 1, 2, 3, 4, 5, 3, 4, 2, 3, 4, 1, 2, 3, 4, 5, 2, 3, 5, 1, 2, 3, 4, 5, 1, 2, 3, 4, 5, 1, 2, 3, 1, 2, 3, 4, 5, 1, 2, 3, 4, 5, 1, 2, 3, 4, 5, 1, 5, 1, 2, 3, 2, 4, 1, 4, 5, 1, 3, 5, 1, 2, 3, 4, 5, 1, 3, 1, 4, 5, 1, 2, 3, 4, 5, 2, 4, 5, 1, 5, 1, 2, 3, 4, 5, 2, 3, 5, 1, 3, 5, 1, 2, 3, 5, 1, 4, 5, 1, 2, 3, 5, 3, 4, 4, 5, 1, 2, 3, 4, 5, 1, 2, 3, 4, 5, 1, 3, 4, 5, 1, 3, 1, 2, 3, 4, 5, 1, 5, 1, 2, 3, 4, 5, 1, 3, 4, 1, 2, 3, 4, 5, 1, 2, 3, 4, 5, 1, 2, 3, 4, 5, 1, 2, 3, 4, 5, 1, 2, 3, 4, 1, 4, 5, 2, 3, 5, 1, 2, 3, 4, 5, 1, 2, 3, 4, 5, 1, 2, 5, 1, 2, 3, 4, 5, 1, 2, 4, 5, 1, 2, 3, 4, 5, 1, 2, 3, 4, 5, 1, 3, 4, 4, 1, 2, 3, 4, 5, 4, 5, 1, 3, 1, 2, 4, 5, 1, 2, 3, 4, 5, 2, 3, 4, 5, 1, 2, 3, 4, 5, 1, 2, 3, 4, 5, 1, 2, 3, 4, 1, 2, 3, 1, 3, 4, 1, 3, 5, 1, 3, 5, 1, 5, 2, 3, 4, 2, 5, 2, 3, 1, 2, 3, 4, 5, 1, 2, 4, 2, 4, 1, 2, 3, 4, 5, 2, 3, 5, 1, 2, 3, 1, 2, 3, 4, 5, 3, 4, 5, 1, 2, 3, 4, 3, 4, 5, 1, 2, 3, 4, 5], \"Freq\": [0.22368135911805354, 0.27319860655640127, 0.22197386782707604, 0.1912390245894809, 0.09049703842180792, 0.6657215310263374, 0.18578275284455925, 0.030963792140759876, 0.04644568821113981, 0.07740948035189969, 0.40911515603461773, 0.12946682152994232, 0.24857629733748926, 0.12946682152994232, 0.08803743864036077, 0.31453443324558616, 0.6048739100876658, 0.04838991280701326, 0.02419495640350663, 0.02419495640350663, 0.11166982129111654, 0.6700189277466992, 0.05583491064555827, 0.05583491064555827, 0.05583491064555827, 0.1798707036618047, 0.4296911254143112, 0.14989225305150392, 0.13989943618140366, 0.09992816870100261, 0.025090275231702812, 0.07527082569510844, 0.8530693578778956, 0.7600080993486145, 0.09500101241857681, 0.09500101241857681, 0.7098062042508595, 0.07886735602787327, 0.15773471205574655, 0.07886735602787327, 0.3569168481610781, 0.11472327262320368, 0.03186757572866769, 0.19757896951773968, 0.2995552118494763, 0.2488169424939278, 0.2396015001793379, 0.4331257887857262, 0.009215442314589919, 0.06450809620212944, 0.37966208605501517, 0.012655402868500506, 0.4809053090030192, 0.10124322294800404, 0.02531080573700101, 0.8013742186250161, 0.14570440338636656, 0.09749938530679352, 0.07312453898009513, 0.17062392428688866, 0.6581208508208563, 0.678862434639886, 0.15085831880886358, 0.15085831880886358, 0.17454391736317923, 0.7563569752404433, 0.058181305787726414, 0.058181305787726414, 0.4287101201584895, 0.19786620930391827, 0.189621783916255, 0.04946655232597957, 0.14015523159027543, 0.3884443569296823, 0.5438220997015553, 0.18702861048311079, 0.05100780285903021, 0.7141092400264231, 0.03400520190602015, 0.3213188042855804, 0.029210800389598217, 0.029210800389598217, 0.058421600779196434, 0.5550052074023661, 0.9409788957693612, 0.0990306415742439, 0.09549383294659233, 0.13793553647841114, 0.3218495851162927, 0.34307043688220207, 0.22160627722153725, 0.02659275326658447, 0.24819903048812172, 0.3191130391990136, 0.1861492728660913, 0.828954548036896, 0.07535950436699056, 0.3432900834457597, 0.05721501390762661, 0.05721501390762661, 0.32421841214321745, 0.21932421997923535, 0.10958011871581216, 0.21916023743162433, 0.7122707716527791, 0.25338146646718457, 0.2364893687027056, 0.01689209776447897, 0.4729787374054112, 0.01689209776447897, 0.7433427606901228, 0.08259364007668031, 0.08259364007668031, 0.08259364007668031, 0.2108418712199804, 0.07028062373999347, 0.07028062373999347, 0.4568240543099576, 0.20205679325248124, 0.9511835012558949, 0.017294245477379906, 0.017294245477379906, 0.6950744204661577, 0.23067972032937986, 0.03338785425819972, 0.030352594780181562, 0.012141037912072624, 0.8238697329127661, 0.09154108143475179, 0.09154108143475179, 0.2040947687031238, 0.1020473843515619, 0.6633079982851523, 0.31033499081772675, 0.011083392529204527, 0.1219173178212498, 0.011083392529204527, 0.5430862339310218, 0.6556575442274529, 0.2809960903831941, 0.21599484945887787, 0.043198969891775574, 0.7343824881601848, 0.18812839231893758, 0.088185183899502, 0.3057086375182736, 0.1822493800589708, 0.23516049039867198, 0.09996583848214785, 0.8497096270982567, 0.6657659352657603, 0.08021276328503137, 0.0641702106280251, 0.16042552657006273, 0.03208510531401255, 0.6892772560048303, 0.05743977133373585, 0.1148795426674717, 0.09573295222289309, 0.03829318088915723, 0.1729009981334964, 0.6051534934672375, 0.1729009981334964, 0.4698387235698479, 0.12208407777799198, 0.24786767306440793, 0.12948311279483996, 0.03329565757581599, 0.8041198223331879, 0.03092768547435338, 0.06185537094870676, 0.09278305642306015, 0.14741050357763696, 0.3369382938917416, 0.10002855599911079, 0.2527037204188062, 0.16320448610381233, 0.07886492580657033, 0.8675141838722735, 0.8604087617453396, 0.08194369159479425, 0.1815582559826718, 0.6354538959393513, 0.1815582559826718, 0.21824060002075701, 0.10912030001037851, 0.654721800062271, 0.952697394613692, 0.021881748011195846, 0.06564524403358753, 0.8752699204478338, 0.9571939143319325, 0.16522679463427772, 0.7435205758542498, 0.08261339731713886, 0.2547033609918193, 0.7386397468762759, 0.18065358406259038, 0.5161530973216868, 0.10323061946433737, 0.0688204129762249, 0.1290382743304217, 0.2919761648254006, 0.10852211435988342, 0.29714388455682367, 0.19895720965978628, 0.10077053476274889, 0.07342132245151053, 0.12236887075251755, 0.7831607728161123, 0.8426011500939414, 0.1486943206048132, 0.2665448072464142, 0.599725816304432, 0.06663620181160355, 0.06663620181160355, 0.7965056239649682, 0.03792883923642706, 0.11378651770928117, 0.03792883923642706, 0.9177566673508708, 0.14946552341593486, 0.4400929300580304, 0.19098372436480565, 0.11348308259358017, 0.10517944240380601, 0.1843058816446697, 0.7108941149151546, 0.10531764665409699, 0.20272333899361847, 0.7433189096432677, 0.030112620645423534, 0.06022524129084707, 0.15056310322711766, 0.7227028954901648, 0.19458114968271017, 0.30071632223691575, 0.02653379313855139, 0.3537839085140185, 0.13266896569275693, 0.07752134384544582, 0.45959082422657166, 0.2048778373058211, 0.12181925461427201, 0.13843097115258182, 0.04426762422068575, 0.5754791148689148, 0.15493668477240014, 0.11066906055171438, 0.13280287266205726, 0.36303998366195217, 0.24073239558332657, 0.13007314922647484, 0.13589732008736177, 0.13007314922647484, 0.28158303890398095, 0.30905455489461325, 0.08241454797189686, 0.1442254589508195, 0.18543273293676796, 0.16537038085696715, 0.6614815234278686, 0.16537038085696715, 0.2426632211792455, 0.3018493726863785, 0.10653507271283948, 0.2959307575356652, 0.04734892120570644, 0.3417095059568649, 0.02628534661206653, 0.3417095059568649, 0.13142673306033265, 0.16063267374040657, 0.03251345500219793, 0.03251345500219793, 0.8453498300571463, 0.06502691000439587, 0.6077574008372508, 0.3798483755232818, 0.6963289265791841, 0.040960525092893184, 0.12288157527867954, 0.08192105018578637, 0.040960525092893184, 0.2938017321544062, 0.05440772817674188, 0.576721918673464, 0.0435261825413935, 0.03264463690604513, 0.22087199041079053, 0.3655812255075154, 0.23610454147360369, 0.13709295956531828, 0.03046510212562628, 0.32495947377955253, 0.08123986844488813, 0.595759035262513, 0.24467366765366005, 0.21671096277895605, 0.09087879084278802, 0.14680420059219604, 0.30059907740306807, 0.07970719881251055, 0.04782431928750633, 0.07970719881251055, 0.6535990302625865, 0.14347295786251898, 0.07331485034204879, 0.26882111792084556, 0.6353953696310894, 0.6835384822176452, 0.2796293790890367, 0.13005721273057616, 0.7023089487451112, 0.02601144254611523, 0.0780343276383457, 0.0780343276383457, 0.07125966497435071, 0.8194861472050332, 0.10688949746152607, 0.7632625078881712, 0.06360520899068094, 0.06360520899068094, 0.06360520899068094, 0.049252901003740725, 0.036939675752805545, 0.7757331908089165, 0.036939675752805545, 0.09850580200748145, 0.1363395474829911, 0.1363395474829911, 0.61352796367346, 0.06816977374149555, 0.016938424554239325, 0.0248167615562111, 0.011817505502957668, 0.8768589083194589, 0.06932936561735165, 0.714001751361602, 0.194727750371346, 0.5978310248491033, 0.18394800764587793, 0.13796100573440845, 0.015329000637156495, 0.07664500318578248, 0.06466284198680253, 0.06466284198680253, 0.04310856132453502, 0.7759541038416303, 0.06466284198680253, 0.1551475228880846, 0.12928960240673715, 0.6981638529963806, 0.09421690938388311, 0.6124099109952402, 0.18843381876776621, 0.047108454691941554, 0.09421690938388311, 0.9440198221124111, 0.9303241066366393, 0.05630854780962767, 0.9009367649540427, 0.13620975637373833, 0.5248081789694036, 0.24437632761170702, 0.04006169305109951, 0.04807403166131941, 0.07276090474624981, 0.800369952208748, 0.10914135711937471, 0.09913429417267433, 0.6939400592087204, 0.19826858834534866, 0.4287684683716415, 0.18795330120400722, 0.182079760541382, 0.12921789457775495, 0.0704824879515027, 0.8426422203488122, 0.1487015682968492, 0.7009391160167913, 0.10013415943097018, 0.10013415943097018, 0.11278846396625623, 0.17723901480411694, 0.3947596238818968, 0.2578022033514428, 0.04833791312839553, 0.09848433418333481, 0.039393733673333924, 0.08863590076500133, 0.718935639538344, 0.05909060051000088, 0.20359469746549808, 0.11310816525861005, 0.6334057254482163, 0.045243266103444015, 0.06971260965914404, 0.6274134869322964, 0.06971260965914404, 0.13942521931828808, 0.05792049258643465, 0.05792049258643465, 0.8688073887965196, 0.06588968848575626, 0.7792171855706828, 0.08021353380874675, 0.06016015035656006, 0.011459076258392393, 0.026519506062614433, 0.026519506062614433, 0.928182712191505, 0.8290135257594576, 0.07536486597813251, 0.3709864725756855, 0.29443370839340116, 0.18843757337177675, 0.10010746085375641, 0.041220719175076165, 0.5278291349173158, 0.24951922741545834, 0.11516272034559616, 0.06717825353493109, 0.047984466810665066, 0.15314963379516802, 0.6125985351806721, 0.15314963379516802, 0.8664447531183515, 0.06188891093702511, 0.06188891093702511, 0.054913956895093194, 0.054913956895093194, 0.7687953965313047, 0.10982791379018639, 0.01756116684120483, 0.08780583420602414, 0.08780583420602414, 0.6848855068069883, 0.1229281678884338, 0.11909561073150768, 0.11909561073150768, 0.11909561073150768, 0.05954780536575384, 0.5954780536575384, 0.7392693627798218, 0.2464231209266073, 0.1637787923303704, 0.0818893961651852, 0.0409446980825926, 0.061417047123888895, 0.6551151693214816, 0.5777209238086893, 0.0534926781304342, 0.3209560687826052, 0.04279414250434736, 0.01069853562608684, 0.29532361556987063, 0.375866419816199, 0.10440733883783306, 0.1431872075490282, 0.08054280424632836, 0.11765256724092996, 0.38504476551577077, 0.04278275172397453, 0.04278275172397453, 0.406436141377758, 0.0609585730785765, 0.9143785961786475, 0.18423168968891193, 0.2947707035022591, 0.11053901381334716, 0.3758326469653803, 0.02947707035022591, 0.25480786642033865, 0.5171100818530402, 0.20984177234616122, 0.018735872530907253, 0.0037471745061814503, 0.2158101116984535, 0.10790505584922674, 0.6474303350953605, 0.28762768106236075, 0.2556690498332096, 0.10386555149474139, 0.26365870764049737, 0.0878862358801658, 0.11480778283988945, 0.1836924525438231, 0.4936734662115246, 0.11480778283988945, 0.09184622627191155, 0.8541759374277108, 0.037138084235987426, 0.07427616847197485, 0.037138084235987426, 0.17076035222260058, 0.6403513208347522, 0.042690088055650145, 0.12807026416695044, 0.09766879444433696, 0.1502596837605184, 0.5559608299139182, 0.09015581025631104, 0.1126947628203888, 0.194741517139934, 0.37254898931117814, 0.1778074721712441, 0.12700533726517435, 0.12277182602300188, 0.03251452675391467, 0.585261481570464, 0.17882989714653066, 0.195087160523488, 0.008128631688478667, 0.14508123698548242, 0.2072589099792606, 0.15889849765076647, 0.07599493365906222, 0.4145178199585212, 0.08035808314703824, 0.08035808314703824, 0.7232227483233442, 0.08035808314703824, 0.17169200927191725, 0.34382312854197233, 0.27356552883990903, 0.09836063958288864, 0.1128512695214392, 0.932957611336924, 0.040386888831451286, 0.45233315491225445, 0.16962493309209542, 0.024232133298870775, 0.3069403551190298, 0.7955264630640256, 0.0994408078830032, 0.0994408078830032, 0.186875348268766, 0.093437674134383, 0.093437674134383, 0.654063718940681, 0.09862868460123105, 0.09862868460123105, 0.07397151345092329, 0.616429278757694, 0.09862868460123105, 0.8823868070448891, 0.8585567644432712, 0.06604282803409778, 0.13684386551620129, 0.12720697357844063, 0.3507828665344878, 0.09636891937760654, 0.28910675813281966, 0.11183931913730558, 0.07455954609153705, 0.8201550070069075, 0.6985804519121327, 0.047201381885954914, 0.02832082913157295, 0.10384304014910081, 0.12272359290348278, 0.9312298865920061, 0.06597456946238783, 0.06597456946238783, 0.06597456946238783, 0.791694833548654, 0.18806981101596043, 0.06268993700532015, 0.6895893070585216, 0.06268993700532015, 0.8427492409788194, 0.1487204542903799, 0.1406777009690572, 0.1406777009690572, 0.6506343669818896, 0.08792356310566075, 0.09003799592071052, 0.7203039673656841, 0.18007599184142103, 0.40108799384545396, 0.13351360231690418, 0.3792005180557975, 0.07113429631638338, 0.015321233052759495, 0.6263252461012335, 0.12894931537378337, 0.03684266153536667, 0.1473706461414667, 0.055263992303050014, 0.8275405703515629, 0.07523096094105118, 0.19063873320484825, 0.7353208280758432, 0.08170231423064925, 0.2840108399056352, 0.08859053721827152, 0.1511250340782279, 0.2709828197264776, 0.20584271883068972, 0.07342669151211764, 0.12237781918686275, 0.7832180427959216, 0.0205767419018322, 0.23148834639561222, 0.28807438662565077, 0.00514418547545805, 0.4578325073157664, 0.09723329090747353, 0.0555618805185563, 0.8056472675190663, 0.013890470129639076, 0.041671410388917224, 0.7595196186756044, 0.10850280266794349, 0.10850280266794349, 0.3159748772044014, 0.18896536773988712, 0.2168455039638049, 0.17037861025727527, 0.10842275198190245, 0.04512732616388277, 0.5076824193436812, 0.039486410393397425, 0.062050073475338814, 0.3440958619996061, 0.3685332130249739, 0.19697464834093434, 0.12072639737025007, 0.044478146399565814, 0.26686887839739487, 0.9318818482091585, 0.04334334177717017, 0.7262661808463919, 0.22346651718350521, 0.055866629295876304, 0.10276630990618728, 0.8221304792494982, 0.12080755645272578, 0.24161511290545157, 0.6040377822636289, 0.10060603215023185, 0.30181809645069557, 0.5701008488513138, 0.23447014015458212, 0.18908882270530816, 0.20421592852173281, 0.06050842326569861, 0.31010566923670535, 0.1778530779704104, 0.787635059583246, 0.0292850053902088, 0.6442701185845935, 0.32213505929229674, 0.2072226295144647, 0.379908154109852, 0.2331254582037728, 0.094977038527463, 0.07770848606792427, 0.654550406353611, 0.23376800226914676, 0.09350720090765871, 0.931569181456651, 0.04332879913751866, 0.1934357457325159, 0.3773582580683507, 0.07293478937455518, 0.08244802277123629, 0.2758837685037522, 0.07343957917692463, 0.12239929862820773, 0.7833555112205294, 0.8954895490877476, 0.04070407041307944, 0.04070407041307944, 0.8578385641444023, 0.034313542565776095, 0.06862708513155219, 0.034313542565776095, 0.09707986081847805, 0.29123958245543413, 0.5824791649108683, 0.6729516961679183, 0.024033989148854226, 0.24033989148854223, 0.04806797829770845, 0.7686929123067622, 0.20964352153820787, 0.10052036642722907, 0.8544231146314472, 0.10015081390303161, 0.12876533216104064, 0.20030162780606323, 0.45783229212814447, 0.11445807303203612, 0.08313301880764544, 0.16626603761529088, 0.04156650940382272, 0.08313301880764544, 0.6234976410573407, 0.11905604876729024, 0.023811209753458046, 0.7381475023571995, 0.09524483901383218, 0.9196547573238214, 0.05255170041850408, 0.5243103463040599, 0.08675638823736244, 0.1923728608741515, 0.09052840511724776, 0.10561647263678905, 0.09907593206911304, 0.7926074565529043, 0.32406611576393196, 0.12152479341147447, 0.12152479341147447, 0.12962644630557277, 0.29976115708163703, 0.7397616430362238, 0.10568023471946054, 0.10568023471946054, 0.3370680599404467, 0.2079781646441054, 0.32989639909064994, 0.08605993019756086, 0.04302996509878043, 0.09352930396197909, 0.8417637356578117, 0.011691162995247386, 0.023382325990494772, 0.023382325990494772, 0.24031722353570154, 0.48063444707140307, 0.21628550118213138, 0.03604758353035523, 0.024031722353570154, 0.7863129720674716, 0.06048561323595936, 0.0846798585303431, 0.024194245294383743, 0.036291367941575614, 0.04885670885150805, 0.14657012655452414, 0.0977134177030161, 0.6839939239211127, 0.19442399966266194, 0.06480799988755398, 0.7128879987630937, 0.7889821580218197, 0.10519762106957596, 0.05259881053478798, 0.5763468886280603, 0.10722732811684842, 0.10722732811684842, 0.1340341601460605, 0.08042049608763631, 0.21797236206143025, 0.15175291029593246, 0.38628013529873717, 0.15175291029593246, 0.09105174617755947, 0.7718832921321398, 0.11026904173316283, 0.11026904173316283, 0.4102162483955014, 0.1301375684565039, 0.268762369638432, 0.07355601695367611, 0.11882125815593833, 0.027310971161797728, 0.300420682779775, 0.6281523367213477, 0.027310971161797728, 0.2650762730654746, 0.02208968942212288, 0.04417937884424576, 0.04417937884424576, 0.6185113038194406, 0.05087052373053676, 0.13989394025897608, 0.5468581301032701, 0.02543526186526838, 0.2289173567874154, 0.023572956698934933, 0.8957723545595274, 0.04714591339786987, 0.9045098309248351, 0.12371603864113323, 0.27654173343312133, 0.5603608809039564, 0.021832242113141158, 0.021832242113141158, 0.30281762853209127, 0.6056352570641825, 0.0802167764177783, 0.8823845405955614, 0.7063370944021736, 0.09742580612443774, 0.1461387091866566, 0.0730693545933283, 0.3661262876286058, 0.029585962636655014, 0.5288490821302083, 0.06656841593247378, 0.01109473598874563, 0.6096667069640103, 0.10161111782733503, 0.15241667674100257, 0.10161111782733503, 0.056684810346737155, 0.5276047732273228, 0.20929776128026029, 0.0784866604800976, 0.1264507307734906, 0.13515387961204048, 0.6006839093868466, 0.15017097734671164, 0.06006839093868466, 0.07508548867335582, 0.05086757570622049, 0.7884474234464176, 0.10173515141244098, 0.07630136355933075, 0.06725462493243789, 0.8070554991892547, 0.06725462493243789, 0.09349432814838937, 0.8414489533355043, 0.046747164074194686, 0.1864969038353938, 0.6394179560070644, 0.1598544890017661, 0.07331351795832405, 0.2688162325138549, 0.6353838223054752, 0.9314850134814702, 0.04332488434797536, 0.6071393339999634, 0.3035696669999817, 0.07589241674999543, 0.931217400870894, 0.032110944857617035, 0.9178273422372467, 0.06715809821248146, 0.7475012119910309, 0.07007823862415916, 0.04671882574943943, 0.09343765149887887, 0.07007823862415916, 0.21704571932779784, 0.10852285966389892, 0.6511371579833936, 0.1317477469864796, 0.8563603554121174, 0.09160251655321179, 0.6870188741490884, 0.045801258276605895, 0.1374037748298177, 0.045801258276605895, 0.7033782517752419, 0.0703378251775242, 0.2110134755325726, 0.13315601606851485, 0.7323580883768317, 0.13315601606851485, 0.1032226098747783, 0.6193356592486698, 0.16515617579964528, 0.04128904394991132, 0.061933565924866985, 0.18427919984885713, 0.09213959992442856, 0.644977199471, 0.7595495253010617, 0.09494369066263271, 0.09494369066263271, 0.09494369066263271, 0.7003593676865894, 0.05002566912047066, 0.20010267648188265, 0.059434361764318176, 0.029717180882159088, 0.7132123411718182, 0.059434361764318176, 0.11886872352863635], \"Term\": [\"'s\", \"'s\", \"'s\", \"'s\", \"'s\", \"accordingly\", \"accordingly\", \"accordingly\", \"accordingly\", \"accordingly\", \"action\", \"action\", \"action\", \"action\", \"action\", \"address_judge\", \"address_judge\", \"address_judge\", \"address_judge\", \"address_judge\", \"adjourn_conference\", \"adjourn_conference\", \"adjourn_conference\", \"adjourn_conference\", \"adjourn_conference\", \"affidavit_service\", \"affidavit_service\", \"affidavit_service\", \"affidavit_service\", \"affidavit_service\", \"affidavit_service_summons_complaint\", \"affidavit_service_summons_complaint\", \"affidavit_service_summons_complaint\", \"allege\", \"allege\", \"allege\", \"along\", \"along\", \"along\", \"along\", \"amend_complaint\", \"amend_complaint\", \"amend_complaint\", \"amend_complaint\", \"amend_complaint\", \"answer\", \"answer\", \"answer\", \"answer\", \"answer\", \"answer_complaint\", \"answer_complaint\", \"answer_complaint\", \"answer_complaint\", \"answer_complaint\", \"answer_crossclaim\", \"answer_crossclaim\", \"answer_due\", \"answer_due\", \"answer_due\", \"answer_due\", \"application_grant\", \"application_grant\", \"application_grant\", \"approval\", \"approval\", \"approval\", \"approval\", \"april\", \"april\", \"april\", \"april\", \"april\", \"associate_case_thk\", \"associate_case_thk\", \"associated_case\", \"associated_case\", \"associated_case\", \"associated_case\", \"associated_case_et_al\", \"associated_case_et_al\", \"associated_case_et_al\", \"associated_case_et_al\", \"associated_case_et_al\", \"associated_case_ft\", \"attachment\", \"attachment\", \"attachment\", \"attachment\", \"attachment\", \"attorney\", \"attorney\", \"attorney\", \"attorney\", \"attorney\", \"attorney_responsible_provide_courtesy\", \"attorney_responsible_provide_courtesy\", \"b\", \"b\", \"b\", \"b\", \"b\", \"b_rule_..\", \"b_rule_..\", \"b_rule_..\", \"behalf\", \"behalf\", \"behalf\", \"behalf\", \"behalf\", \"business\", \"business\", \"business\", \"business\", \"c\", \"c\", \"c\", \"c\", \"c\", \"cal\", \"cal\", \"cal\", \"case\", \"case\", \"case\", \"case\", \"case\", \"case_assign\", \"case_assign\", \"case_assign\", \"case_designate\", \"case_designate\", \"case_designate\", \"cd\", \"cd\", \"cd\", \"cd\", \"cd\", \"cf\", \"cf\", \"civ\", \"civ\", \"civ\", \"claim\", \"claim\", \"claim\", \"claim\", \"claim\", \"claim_administrator\", \"claim_administrator\", \"clerk\", \"clerk\", \"clerk\", \"clerk\", \"clerk\", \"close\", \"close\", \"close\", \"close\", \"close\", \"company\", \"company\", \"company\", \"complaint\", \"complaint\", \"complaint\", \"complaint\", \"complaint\", \"complaint_pursuant_frcp\", \"complaint_pursuant_frcp\", \"complaint_pursuant_frcp\", \"complaint_pursuant_frcp\", \"conference\", \"conference\", \"conference\", \"conference\", \"conference\", \"conference_call\", \"conference_call\", \"conference_proceed_hold\", \"conference_proceed_hold\", \"contempt\", \"contempt\", \"contempt\", \"coordination\", \"coordination\", \"coordination\", \"copy_mail_chamber\", \"copy_send_chamber\", \"copy_send_chamber\", \"copy_send_chamber\", \"corporate_parent\", \"cote\", \"cote\", \"cote\", \"cotton\", \"cotton\", \"counsel\", \"counsel\", \"counsel\", \"counsel\", \"counsel\", \"court\", \"court\", \"court\", \"court\", \"court\", \"court_notice_intent\", \"court_notice_intent\", \"court_notice_intent\", \"court_reportertranscriber_abovecaptioned_matter\", \"court_reportertranscriber_abovecaptioned_matter\", \"crossclaim\", \"crossclaim\", \"crossclaim\", \"crossclaim\", \"crossclaims\", \"crossclaims\", \"crossclaims\", \"crossclaims\", \"cyr\", \"date\", \"date\", \"date\", \"date\", \"date\", \"date_may_obtain\", \"date_may_obtain\", \"date_may_obtain\", \"date_purs\", \"date_purs\", \"db\", \"db\", \"db\", \"db\", \"declaration\", \"declaration\", \"declaration\", \"declaration\", \"declaration\", \"declaration_support\", \"declaration_support\", \"declaration_support\", \"declaration_support\", \"declaration_support\", \"default_judgment\", \"default_judgment\", \"default_judgment\", \"default_judgment\", \"default_judgment\", \"defendant\", \"defendant\", \"defendant\", \"defendant\", \"defendant\", \"defendant_'\", \"defendant_'\", \"defendant_'\", \"defendant_'\", \"defendant_'\", \"deny_part\", \"deny_part\", \"deny_part\", \"discovery\", \"discovery\", \"discovery\", \"discovery\", \"discovery\", \"dismiss\", \"dismiss\", \"dismiss\", \"dismiss\", \"dismiss\", \"dismiss.._document\", \"dismiss.._document\", \"dismiss.._document\", \"dismiss.._document\", \"dismiss_lack_jurisdiction\", \"dismiss_lack_jurisdiction\", \"dismiss_without_prejudice\", \"dismiss_without_prejudice\", \"dismiss_without_prejudice\", \"dismiss_without_prejudice\", \"dismiss_without_prejudice\", \"dismissal\", \"dismissal\", \"dismissal\", \"dismissal\", \"dismissal\", \"djc\", \"djc\", \"djc\", \"djc\", \"djc\", \"document_place_vault\", \"document_place_vault\", \"document_place_vault\", \"due\", \"due\", \"due\", \"due\", \"due\", \"e\", \"e\", \"e\", \"e\", \"e\", \"electronically_available_public_without\", \"electronically_available_public_without\", \"electronically_available_public_without\", \"endorsement_application_grant\", \"endorsement_application_grant\", \"entry\", \"entry\", \"entry\", \"entry\", \"entry\", \"erratum\", \"erratum\", \"erratum\", \"estate_m.l\", \"estate_m.l\", \"estate_m.l\", \"estate_m.l\", \"ex\", \"ex\", \"ex\", \"ex\", \"ex\", \"execute\", \"execute\", \"execute\", \"execute\", \"exhibit\", \"exhibit\", \"exhibit\", \"exhibit\", \"exhibit\", \"expert_discovery_due\", \"expert_discovery_due\", \"extend\", \"extend\", \"extend\", \"extend\", \"extend\", \"f\", \"f\", \"f\", \"f\", \"f\", \"fee_receipt_number\", \"fee_receipt_number\", \"fee_receipt_number\", \"ft\", \"ft\", \"ft\", \"ft\", \"ft\", \"g\", \"gf\", \"gr\", \"gr\", \"grant\", \"grant\", \"grant\", \"grant\", \"grant\", \"h\", \"h\", \"h\", \"haas\", \"haas\", \"haas\", \"hereby\", \"hereby\", \"hereby\", \"hereby\", \"hereby\", \"hereby_give_official_transcript\", \"hereby_give_official_transcript\", \"hereby_stipulate_agree_undersigned\", \"hereby_stipulate_agree_undersigned\", \"hereby_stipulate_agree_undersigned\", \"hold\", \"hold\", \"hold\", \"hold\", \"hold\", \"inc..\", \"inc..\", \"inc..\", \"inc..\", \"inc..\", \"inc.._attachment\", \"inc.._attachment\", \"inc.._attachment\", \"inc.._attachment\", \"initiate\", \"initiate\", \"initiate\", \"initiate\", \"jar\", \"jar\", \"jar\", \"judge\", \"judge\", \"judge\", \"judge\", \"judge\", \"judge_c.d\", \"judge_c.d\", \"judge_c.d\", \"judge_individual_practice\", \"judge_individual_practice\", \"judgment\", \"judgment\", \"judgment\", \"judgment\", \"judgment\", \"july\", \"july\", \"july\", \"july\", \"july\", \"jurisdiction\", \"jurisdiction\", \"jurisdiction\", \"jv\", \"jv\", \"jv\", \"k\", \"k\", \"k\", \"k\", \"keely\", \"keely\", \"keely\", \"keely\", \"keely\", \"kgo\", \"kgo\", \"kgo\", \"kgo\", \"kgo\", \"kkc\", \"kkc\", \"kw\", \"kw\", \"kw\", \"kw\", \"kw\", \"l.p.\", \"l.p.\", \"l.p.\", \"l.p.\", \"l.p.\", \"letter\", \"letter\", \"letter\", \"letter\", \"letter\", \"letter_address_judge\", \"letter_address_judge\", \"letter_address_judge\", \"letter_address_judge\", \"letter_address_judge\", \"limine_preclude_plaintiff_introduce\", \"limine_preclude_plaintiff_introduce\", \"llc\", \"llc\", \"llc\", \"llc\", \"llc\", \"magistrate_judge\", \"magistrate_judge\", \"magistrate_judge\", \"magistrate_judge\", \"magistrate_judge\", \"magistrate_judge_designate\", \"magistrate_judge_designate\", \"magistrate_judge_designate\", \"march\", \"march\", \"march\", \"march\", \"march\", \"may\", \"may\", \"may\", \"may\", \"may\", \"mdl\", \"mdl\", \"mdl\", \"mdl\", \"mediation\", \"mediation\", \"mediation\", \"mediation\", \"memorandum_law_opposition\", \"memorandum_law_opposition\", \"memorandum_law_opposition\", \"memorandum_law_opposition\", \"memorandum_law_opposition\", \"memorandum_law_support\", \"memorandum_law_support\", \"memorandum_law_support\", \"memorandum_law_support\", \"memorandum_law_support\", \"minute_entry_proceeding_hold\", \"minute_entry_proceeding_hold\", \"minute_entry_proceeding_hold\", \"minute_entry_proceeding_hold\", \"minute_entry_proceeding_hold\", \"modify\", \"modify\", \"modify\", \"modify\", \"modify\", \"modify_gf\", \"modify_gf\", \"modify_gf\", \"modify_gf\", \"motion\", \"motion\", \"motion\", \"motion\", \"motion\", \"mp\", \"mro\", \"mro\", \"mro\", \"mro\", \"mro\", \"nd\", \"nd\", \"nd\", \"new_address\", \"new_address\", \"new_address\", \"new_address\", \"new_york\", \"new_york\", \"new_york\", \"new_york\", \"new_york\", \"new_york_observer_l.p.\", \"nm\", \"nm\", \"notice\", \"notice\", \"notice\", \"notice\", \"notice\", \"notice_adoption_master\", \"notice_adoption_master\", \"notice_adoption_master\", \"notice_appearance_behalf\", \"notice_appearance_behalf\", \"notice_appearance_behalf\", \"notice_appearance_behalf\", \"notice_appearance_behalf\", \"notice_case_reassignment\", \"notice_conversion\", \"notice_conversion\", \"notice_conversion\", \"notice_conversion\", \"office_p.c\", \"office_p.c\", \"office_p.c\", \"office_p.c\", \"official_transcript_notice\", \"official_transcript_notice\", \"opinion\", \"opinion\", \"opinion\", \"opinion\", \"oral_argument_set_pm\", \"oral_argument_set_pm\", \"oral_argument_set_pm\", \"order\", \"order\", \"order\", \"order\", \"order\", \"p.m.\", \"p.m.\", \"p.m.\", \"p.m.\", \"p.m.\", \"pa\", \"pa\", \"pacer\", \"pacer\", \"pacer\", \"party\", \"party\", \"party\", \"party\", \"party\", \"party_calendar_day\", \"party_calendar_day\", \"party_calendar_day\", \"pennsylvania\", \"pennsylvania\", \"pennsylvania\", \"pennsylvania\", \"pennsylvania\", \"pl\", \"pl\", \"pl\", \"pl\", \"pl\", \"place\", \"place\", \"place\", \"plaintiff\", \"plaintiff\", \"plaintiff\", \"plaintiff\", \"plaintiff\", \"plaintiff_'s\", \"plaintiff_'s\", \"plaintiff_'s\", \"plaintiff_'s\", \"plaintiff_'s\", \"propose\", \"propose\", \"propose\", \"propose\", \"propose\", \"public_terminal_purchase_court\", \"public_terminal_purchase_court\", \"pursuant_rule_b\", \"pursuant_rule_b\", \"pursuant_rule_b\", \"q\", \"q\", \"r._civ\", \"r._civ\", \"r._civ\", \"redaction_calendar_day_mcguirk\", \"redaction_calendar_day_mcguirk\", \"redaction_calendar_day_mcguirk\", \"regard\", \"regard\", \"regard\", \"regard\", \"regard\", \"reiter\", \"reiter\", \"release_transcript_restriction_set\", \"release_transcript_restriction_set\", \"release_transcript_restriction_set\", \"reply\", \"reply\", \"reply\", \"reply\", \"reply\", \"reply_due\", \"reply_due\", \"reply_due\", \"reportertranscriber_deadline_release_transcript\", \"reportertranscriber_deadline_release_transcript\", \"request\", \"request\", \"request\", \"request\", \"request\", \"request_redaction_transcript\", \"request_redaction_transcript\", \"request_redaction_transcript\", \"restriction\", \"restriction\", \"restriction\", \"return_date\", \"return_date\", \"return_date\", \"return_date\", \"rule_certificate\", \"rule_certificate\", \"rule_certificate\", \"rule_corporate_disclosure_statement\", \"rule_corporate_disclosure_statement\", \"rule_corporate_disclosure_statement\", \"rule_corporate_disclosure_statement\", \"rule_deposition_objection\", \"rule_deposition_objection\", \"rule_disclosure_statement\", \"rule_disclosure_statement\", \"rule_statement\", \"rule_statement\", \"rule_statement\", \"rule_statement\", \"rule_statement\", \"s.d.n.y\", \"s.d.n.y\", \"s.d.n.y\", \"s.d.n.y\", \"s.d.n.y\", \"sac\", \"sac\", \"sac\", \"sac\", \"sc\", \"sc\", \"schedule\", \"schedule\", \"schedule\", \"schedule\", \"schedule\", \"scileppi\", \"scileppi\", \"seal\", \"seal\", \"seal\", \"seal\", \"seal\", \"see_attached\", \"see_attached\", \"see_attached\", \"serve\", \"serve\", \"serve\", \"serve\", \"serve\", \"serve_answer_due\", \"serve_answer_due\", \"serve_answer_due\", \"serve_answer_due\", \"serve_answer_due\", \"service\", \"service\", \"service\", \"service\", \"service\", \"service_accept\", \"service_accept\", \"service_accept\", \"service_accept\", \"service_accept\", \"service_make\", \"service_make\", \"service_make\", \"service_make\", \"set_answer_due\", \"set_answer_due\", \"set_answer_due\", \"setreset_deadline\", \"setreset_deadline\", \"setreset_deadline\", \"settlement\", \"settlement\", \"settlement\", \"settlement\", \"settlement\", \"shall\", \"shall\", \"shall\", \"shall\", \"shall\", \"shall_complete\", \"shall_complete\", \"shall_complete\", \"sign_judge\", \"sign_judge\", \"sign_judge\", \"sign_judge\", \"sign_judge\", \"sign_judge_copy_mail\", \"sign_judge_copy_mail\", \"sign_judge_copy_mail\", \"sign_judge_copy_mail\", \"sign_judge_gr\", \"sign_judge_gr\", \"sign_judge_gr\", \"sign_judge_gr\", \"sign_judge_gr\", \"sign_judge_iii\", \"sign_judge_iii\", \"sign_judge_iii\", \"sign_judge_iii\", \"sign_judge_iii\", \"sign_judge_s.d.n.y\", \"sign_judge_s.d.n.y\", \"sign_judge_s.d.n.y\", \"sign_judge_sr\", \"sign_magistrate_judge\", \"sign_magistrate_judge\", \"sign_magistrate_judge\", \"sign_magistrate_judge\", \"sign_magistrate_judge\", \"sn\", \"sn\", \"specific\", \"specific\", \"status_report\", \"status_report\", \"status_report\", \"status_report\", \"stipulation\", \"stipulation\", \"stipulation\", \"stipulation\", \"stipulation\", \"street_new_york_ny\", \"street_new_york_ny\", \"street_new_york_ny\", \"street_new_york_ny\", \"summary_judgment\", \"summary_judgment\", \"summary_judgment\", \"summary_judgment\", \"summary_judgment\", \"summary_judgment.._document\", \"summary_judgment.._document\", \"summary_judgment.._document\", \"summary_judgment.._document\", \"summary_judgment.._document\", \"telephone_conference_hold\", \"telephone_conference_hold\", \"telephone_conference_hold\", \"telephone_conference_hold\", \"telephone_conference_set\", \"telephone_conference_set\", \"telephone_conference_set\", \"text\", \"text\", \"text\", \"tp\", \"tp\", \"tp\", \"transcript_may_make_remotely\", \"transcript_may_make_remotely\", \"transcript_may_make_remotely\", \"transcript_may_view_court\", \"transcript_may_view_court\", \"transcript_proceeding\", \"transcript_proceeding\", \"transcript_proceeding\", \"transcript_proceeding_conference_hold\", \"transcript_proceeding_conference_hold\", \"transcript_proceeding_hold\", \"transcript_proceeding_hold\", \"transmit\", \"transmit\", \"transmit\", \"transmit\", \"transmit\", \"united_state_magistrate_judge\", \"united_state_magistrate_judge\", \"united_state_magistrate_judge\", \"usa\", \"usa\", \"vacate\", \"vacate\", \"vacate\", \"vacate\", \"vacate\", \"wellington\", \"wellington\", \"wellington\", \"withdraw\", \"withdraw\", \"withdraw\", \"withdraw_attorney\", \"withdraw_attorney\", \"withdraw_attorney\", \"withdraw_attorney\", \"withdraw_attorney\", \"withdrawal\", \"withdrawal\", \"withdrawal\", \"without_cost_either_party\", \"without_cost_either_party\", \"without_cost_either_party\", \"without_cost_either_party\", \"york_ny_magistrate_judge\", \"york_ny_magistrate_judge\", \"york_ny_magistrate_judge\", \"yv\", \"yv\", \"yv\", \"yv\", \"yv\"]}, \"R\": 30, \"lambda.step\": 0.01};\n",
       "\n",
       "function LDAvis_load_lib(url, callback){\n",
       "  var s = document.createElement('script');\n",
       "  s.src = url;\n",
       "  s.async = true;\n",
       "  s.onreadystatechange = s.onload = callback;\n",
       "  s.onerror = function(){console.warn(\"failed to load library \" + url);};\n",
       "  document.getElementsByTagName(\"head\")[0].appendChild(s);\n",
       "}\n",
       "\n",
       "if(typeof(LDAvis) !== \"undefined\"){\n",
       "   // already loaded: just create the visualization\n",
       "   !function(LDAvis){\n",
       "       new LDAvis(\"#\" + \"ldavis_el1345219840189063523551340353\", ldavis_el1345219840189063523551340353_data);\n",
       "   }(LDAvis);\n",
       "}else if(typeof define === \"function\" && define.amd){\n",
       "   // require.js is available: use it to load d3/LDAvis\n",
       "   require.config({paths: {d3: \"https://cdnjs.cloudflare.com/ajax/libs/d3/3.5.5/d3.min\"}});\n",
       "   require([\"d3\"], function(d3){\n",
       "      window.d3 = d3;\n",
       "      LDAvis_load_lib(\"https://cdn.rawgit.com/bmabey/pyLDAvis/files/ldavis.v1.0.0.js\", function(){\n",
       "        new LDAvis(\"#\" + \"ldavis_el1345219840189063523551340353\", ldavis_el1345219840189063523551340353_data);\n",
       "      });\n",
       "    });\n",
       "}else{\n",
       "    // require.js not available: dynamically load d3 & LDAvis\n",
       "    LDAvis_load_lib(\"https://cdnjs.cloudflare.com/ajax/libs/d3/3.5.5/d3.min.js\", function(){\n",
       "         LDAvis_load_lib(\"https://cdn.rawgit.com/bmabey/pyLDAvis/files/ldavis.v1.0.0.js\", function(){\n",
       "                 new LDAvis(\"#\" + \"ldavis_el1345219840189063523551340353\", ldavis_el1345219840189063523551340353_data);\n",
       "            })\n",
       "         });\n",
       "}\n",
       "</script>"
      ],
      "text/plain": [
       "<IPython.core.display.HTML object>"
      ]
     },
     "execution_count": 347,
     "metadata": {},
     "output_type": "execute_result"
    }
   ],
   "source": [
    "#for topics = 5\n",
    "lda5_model_filepath = 'docket_texts/lda_model_noorgnomodel_5'\n",
    "LDAvis_prepared = topic_modeling_pipeline(5, lda5_model_filepath, trigram_bow_corpus, trigram_dictionary, export = True)\n",
    "pyLDAvis.display(LDAvis_prepared)"
   ]
  },
  {
   "cell_type": "code",
   "execution_count": 348,
   "metadata": {
    "scrolled": false
   },
   "outputs": [
    {
     "name": "stdout",
     "output_type": "stream",
     "text": [
      "\n",
      " Topic 1's make-up:\n",
      "term                 frequency\n",
      "\n",
      "motion               0.049\n",
      "pennsylvania         0.036\n",
      "order                0.031\n",
      "case                 0.030\n",
      "mro                  0.020\n",
      "ex                   0.017\n",
      "shall                0.013\n",
      "request              0.012\n",
      "party                0.012\n",
      "sign_magistrate_judge 0.011\n",
      "\n",
      " Topic 2's make-up:\n",
      "term                 frequency\n",
      "\n",
      "motion               0.043\n",
      "djc                  0.028\n",
      "order                0.024\n",
      "letter               0.021\n",
      "court                0.017\n",
      "sign_magistrate_judge 0.015\n",
      "defendant            0.014\n",
      "llc                  0.013\n",
      "shall                0.012\n",
      "sac                  0.011\n",
      "\n",
      " Topic 3's make-up:\n",
      "term                 frequency\n",
      "\n",
      "motion               0.041\n",
      "request              0.030\n",
      "order                0.029\n",
      "plaintiff            0.020\n",
      "defendant            0.019\n",
      "dismiss              0.018\n",
      "claim                0.016\n",
      "'s                   0.012\n",
      "seal                 0.012\n",
      "grant                0.010\n",
      "\n",
      " Topic 4's make-up:\n",
      "term                 frequency\n",
      "\n",
      "exhibit              0.423\n",
      "sign_judge_iii       0.013\n",
      "attachment           0.012\n",
      "court                0.010\n",
      "order                0.010\n",
      "schedule             0.009\n",
      "shall                0.009\n",
      "court_reportertranscriber 0.008\n",
      "motion               0.008\n",
      "conference           0.007\n",
      "\n",
      " Topic 5's make-up:\n",
      "term                 frequency\n",
      "\n",
      "exhibit              0.156\n",
      "motion               0.053\n",
      "order                0.043\n",
      "attachment           0.017\n",
      "notice               0.014\n",
      "'s                   0.013\n",
      "court                0.012\n",
      "b                    0.011\n",
      "letter               0.011\n",
      "case                 0.010\n",
      "\n",
      " Topic 6's make-up:\n",
      "term                 frequency\n",
      "\n",
      "motion               0.057\n",
      "sign_judge           0.027\n",
      "party                0.020\n",
      "exhibit              0.018\n",
      "shall                0.017\n",
      "order                0.016\n",
      "dismiss              0.016\n",
      "defendant            0.013\n",
      "declaration          0.011\n",
      "case                 0.011\n",
      "\n",
      " Topic 7's make-up:\n",
      "term                 frequency\n",
      "\n",
      "motion               0.143\n",
      "order                0.042\n",
      "'s                   0.021\n",
      "notice               0.019\n",
      "summary_judgment     0.019\n",
      "memorandum_law_support 0.017\n",
      "complaint            0.017\n",
      "inc..                0.016\n",
      "l.p.                 0.015\n",
      "grant                0.014\n",
      "\n",
      " Topic 8's make-up:\n",
      "term                 frequency\n",
      "\n",
      "exhibit              0.107\n",
      "order                0.052\n",
      "motion               0.023\n",
      "party                0.019\n",
      "defendant            0.019\n",
      "court                0.014\n",
      "date                 0.011\n",
      "action               0.010\n",
      "notice               0.010\n",
      "attachment           0.009\n",
      "\n",
      " Topic 9's make-up:\n",
      "term                 frequency\n",
      "\n",
      "order                0.070\n",
      "notice               0.027\n",
      "judge                0.021\n",
      "motion               0.021\n",
      "'s                   0.020\n",
      "exhibit              0.019\n",
      "stipulation          0.018\n",
      "may                  0.013\n",
      "letter               0.012\n",
      "party                0.012\n",
      "\n",
      " Topic 10's make-up:\n",
      "term                 frequency\n",
      "\n",
      "order                0.060\n",
      "defendant            0.029\n",
      "'s                   0.026\n",
      "judge                0.023\n",
      "motion               0.022\n",
      "shall                0.018\n",
      "date                 0.018\n",
      "hereby               0.015\n",
      "judgment             0.015\n",
      "court                0.013\n"
     ]
    },
    {
     "data": {
      "text/html": [
       "\n",
       "<link rel=\"stylesheet\" type=\"text/css\" href=\"https://cdn.rawgit.com/bmabey/pyLDAvis/files/ldavis.v1.0.0.css\">\n",
       "\n",
       "\n",
       "<div id=\"ldavis_el1345219840189057528304745235\"></div>\n",
       "<script type=\"text/javascript\">\n",
       "\n",
       "var ldavis_el1345219840189057528304745235_data = {\"tinfo\": {\"loglift\": [30.0, 29.0, 28.0, 27.0, 26.0, 25.0, 24.0, 23.0, 22.0, 21.0, 20.0, 19.0, 18.0, 17.0, 16.0, 15.0, 14.0, 13.0, 12.0, 11.0, 10.0, 9.0, 8.0, 7.0, 6.0, 5.0, 4.0, 3.0, 2.0, 1.0, 1.6599, 1.6597, 1.6314, 1.541, 1.5259, 1.5002, 1.493, 1.4927, 1.4385, 1.4128, 1.3895, 1.3877, 1.3668, 1.3486, 1.3066, 1.2976, 1.2736, 1.262, 1.2111, 1.1773, 1.1678, 1.1626, 1.1211, 1.1209, 1.1171, 1.1171, 1.117, 1.1165, 1.1002, 1.0879, 1.0378, 1.0516, 1.0764, 0.9902, 0.8514, 0.9702, 0.557, 0.8601, 0.4365, 0.5151, 0.0697, 0.8471, 0.8582, 0.8653, 0.5521, 0.2726, 0.3978, 0.2467, 0.6972, 0.7888, 0.2772, -0.2808, 0.3744, 0.5655, 0.3268, -0.1059, -0.3191, -2.3176, -0.4796, 1.7664, 1.7656, 1.7387, 1.6865, 1.6847, 1.6756, 1.6597, 1.6139, 1.5948, 1.5487, 1.5321, 1.5073, 1.5051, 1.5038, 1.4858, 1.4821, 1.4004, 1.3963, 1.3869, 1.3807, 1.3636, 1.3333, 1.3019, 1.2957, 1.2944, 1.2728, 1.2706, 1.2635, 1.2602, 1.2576, 1.245, 1.253, 1.2056, 1.0899, 1.1474, 1.0832, 0.8644, 1.0699, 0.763, 0.4378, 0.6543, 1.0103, 0.6716, 0.5966, 0.5703, 0.3637, 0.9049, 0.4215, 0.1658, 0.5772, 0.1718, 0.5093, -0.8395, 0.2205, 0.6918, -0.0613, 0.0538, -0.1255, 0.0173, -0.3994, 1.8875, 1.8818, 1.8386, 1.7564, 1.7404, 1.6983, 1.6651, 1.6515, 1.5704, 1.5675, 1.5603, 1.5124, 1.4862, 1.4522, 1.3956, 1.3918, 1.3711, 1.3687, 1.3544, 1.3168, 1.3037, 1.2352, 1.232, 1.218, 1.2123, 1.2071, 1.2019, 1.1936, 1.1731, 1.1585, 1.1199, 1.1494, 1.1426, 0.657, 1.0581, 0.4641, 0.6406, 0.6045, 0.7577, 0.4071, 0.1252, 0.3898, 0.4013, 0.3555, -0.0496, 0.3972, -1.3811, -0.1298, 0.3511, -1.8772, -0.856, 0.5104, 2.0707, 2.0676, 1.7002, 1.6063, 1.6043, 1.5972, 1.4892, 1.4542, 1.4421, 1.4413, 1.4184, 1.4183, 1.4111, 1.3875, 1.3424, 1.3364, 1.3332, 1.3039, 1.2877, 1.2864, 1.2864, 1.2613, 1.2284, 1.1981, 1.1804, 1.1718, 1.1687, 1.1512, 1.1507, 1.1283, 1.1247, 1.1032, 1.1235, 0.9907, 0.8732, 0.5865, 0.8661, 0.7409, 0.9647, 0.3914, 0.6226, 0.6957, 0.5001, 0.8145, 0.468, 0.3055, 0.9783, 0.3571, 0.1681, 0.6578, -0.8911, -1.3401, 0.2636, 0.0412, -0.1167, 0.3324, -0.2039, 0.2573, -0.844, 2.1695, 2.1321, 1.9775, 1.9359, 1.7592, 1.7589, 1.7562, 1.733, 1.6852, 1.6739, 1.6587, 1.6527, 1.6247, 1.6247, 1.5835, 1.583, 1.5707, 1.5622, 1.5573, 1.5424, 1.5364, 1.513, 1.5076, 1.4995, 1.4875, 1.4867, 1.4841, 1.4393, 1.4155, 1.3777, 1.3735, 1.3684, 1.2781, 1.3416, 0.9404, 1.1432, 0.7955, 1.1241, 1.0945, 0.8798, 0.4053, -0.2148, 0.7466, 0.8145, 0.8325, 0.7369, -0.2929, 0.5226, 1.0801, -0.1082, 0.0536, 0.4705, -0.1394, 0.5127, -0.452, 0.0598, 0.2484, 2.2769, 2.2557, 2.1139, 2.0474, 1.9634, 1.9211, 1.9119, 1.9016, 1.821, 1.7321, 1.7156, 1.6755, 1.6754, 1.6671, 1.667, 1.6506, 1.6003, 1.5932, 1.5799, 1.5709, 1.538, 1.5025, 1.5011, 1.4979, 1.4825, 1.4775, 1.4729, 1.4714, 1.4553, 1.4505, 1.428, 1.2048, 1.3726, 1.3256, 1.2234, 1.1025, 0.8463, 1.1907, 0.1252, 0.6745, 1.0091, 0.8886, 0.5853, 0.906, 0.863, 0.6718, 0.8271, 0.5718, 0.0385, 0.1784, 0.3322, -0.8831, -1.4102, 0.2281, 0.0533, 0.6603, -0.4102, -0.2758, 0.0217, -0.234, 2.305, 2.2486, 2.1585, 2.0988, 2.0585, 2.0497, 2.0286, 1.9751, 1.9324, 1.8641, 1.8064, 1.7594, 1.751, 1.742, 1.7266, 1.6932, 1.6863, 1.6406, 1.6332, 1.6138, 1.6013, 1.591, 1.5753, 1.5675, 1.55, 1.5366, 1.5036, 1.4921, 1.4713, 1.4239, 1.3815, 1.124, 1.3596, 1.1074, 1.0419, 0.8458, -0.0236, 0.7583, 0.6126, 0.4635, -0.2197, 0.3422, 0.6595, 0.8467, 0.7765, 0.2953, 0.2728, 0.3953, 0.455, 0.3471, 0.0603, -0.2989, -0.2343, 0.6567, 0.4293, -0.4683, 2.3583, 2.2598, 2.2268, 2.2149, 2.1998, 2.1887, 2.1723, 2.0396, 2.0393, 2.0052, 1.991, 1.9752, 1.911, 1.7734, 1.7625, 1.7513, 1.7482, 1.6957, 1.69, 1.6891, 1.6581, 1.6041, 1.5813, 1.567, 1.5497, 1.5453, 1.545, 1.5344, 1.5309, 1.5305, 1.5171, 1.5156, 1.4574, 1.4844, 1.2128, 1.501, 1.0412, 1.4841, 1.0819, 1.2119, 1.1645, 0.612, -0.1502, 1.1457, 0.1495, -0.4993, 0.2661, 1.1195, 0.4537, 0.173, 0.2785, 0.0735, 0.2101, 0.0011, -0.038, 0.2078, 0.3824, -0.5536, 0.3715, 2.3929, 2.3867, 2.3114, 2.2637, 2.2223, 2.2216, 2.1314, 1.997, 1.9888, 1.9406, 1.9263, 1.9212, 1.9197, 1.8924, 1.889, 1.8154, 1.8107, 1.6578, 1.6362, 1.5991, 1.5592, 1.5592, 1.5592, 1.5563, 1.5394, 1.4804, 1.4804, 1.4794, 1.4783, 1.4769, 1.4585, 1.4507, 1.4436, 1.3028, 1.3352, 0.3643, 1.1406, 0.8001, 0.297, 0.8746, 0.408, 0.4155, 0.7889, 0.9035, 1.2175, -0.7893, 0.2447, 0.739, 0.3205, -0.0788, 0.1364, -0.4579, 0.6963, -0.3055, 0.7249, 0.0531, 0.0707, -0.3027, 2.3229, 2.2575, 2.1139, 1.9225, 1.8702, 1.6277, 1.621, 1.601, 1.5002, 1.5002, 1.5001, 1.4972, 1.4806, 1.4601, 1.3807, 1.3794, 1.3704, 1.3427, 1.3308, 1.3291, 1.3265, 1.3132, 1.3035, 1.2876, 1.2855, 1.2668, 1.2591, 1.2538, 1.2532, 1.2372, 1.2031, 1.1692, 0.9919, 0.7442, 1.0528, 1.1299, 0.8692, 1.15, 1.0677, 0.0472, 0.1033, 0.9634, 0.6136, 0.5117, 0.8216, 0.9047, 0.3708, 0.1981, 0.6011, 0.2305, -0.0381, 0.5499, 0.1569, 0.6501, -0.1675, -0.2187, -0.2834, 0.6165, 0.488, -0.0509, -0.3336, 0.4893, -0.8812, -0.4568, 0.3493], \"Total\": [3167.0, 2154.0, 179.0, 1660.0, 153.0, 266.0, 341.0, 320.0, 112.0, 371.0, 201.0, 528.0, 333.0, 151.0, 268.0, 148.0, 98.0, 344.0, 159.0, 476.0, 316.0, 248.0, 167.0, 189.0, 581.0, 76.0, 402.0, 220.0, 131.0, 64.0, 36.83955846397798, 54.767804761219374, 9.808049204956234, 11.03579013761501, 34.23914722261966, 21.139506672370175, 81.57049627639616, 20.792192687844192, 34.48181001594392, 16.372611308653394, 201.99644586529135, 131.86271569827724, 159.87249761329423, 8.569907317827717, 34.50733016555235, 48.66798270252771, 69.59527824544794, 10.656496697218941, 17.620935618521212, 220.90214492603565, 42.089154969659184, 43.11651349703825, 48.505129855733415, 37.55823701706125, 38.12765912770324, 38.127504197290364, 38.12772563689491, 13.612250405364247, 17.289434241122944, 23.272395173311757, 2154.2305218191414, 236.95532987142218, 65.66858818987541, 263.5672870784072, 255.90702251209268, 71.93002259272616, 476.52549809019115, 119.08141360828378, 581.9265800112638, 341.9375948309209, 1660.0751700718065, 101.98381572741236, 94.00112507141708, 89.25826697459068, 183.75748005697693, 336.3996614733422, 248.7542276416443, 344.618320722891, 125.0780119742126, 101.04736158172756, 249.95636071889305, 528.7388827132205, 189.69551042516255, 138.52248330550174, 180.60548561997774, 316.4818222365456, 356.4752114437216, 3167.493164994116, 402.91455596365, 14.084315130519057, 19.964390976596235, 24.1977145779681, 24.803719544537522, 46.16049460058576, 55.85758498333441, 19.4295452825349, 24.73237667762476, 16.467506893191096, 18.580981552938574, 19.58788660437276, 15.86404306686499, 13.06695506735397, 20.149161315638526, 13.037612334278904, 48.332785583720934, 54.479719649172324, 9.022832844687299, 13.764342353923244, 21.76717560223661, 16.204066849362793, 20.725080707931564, 41.27069428279951, 21.819029878254746, 180.60088567564128, 20.761088149402998, 14.306094343968315, 14.305132708816243, 16.33512725578583, 19.82984425743416, 179.37638516578923, 39.64960220148682, 67.4199302960448, 333.7758909229304, 97.99974237262701, 119.02018268821053, 528.7388827132205, 76.68821871337344, 356.4752114437216, 1660.0751700718065, 581.9265800112638, 102.5898151392492, 402.91455596365, 255.90702251209268, 249.95636071889305, 391.2614858799801, 95.4601514582291, 248.7542276416443, 371.7758333580956, 155.86393746029168, 341.9375948309209, 177.70718596893894, 2154.2305218191414, 263.5672870784072, 118.97787382461925, 336.3996614733422, 266.74911401128145, 316.4818222365456, 227.4968491252394, 344.618320722891, 39.905764520353046, 52.00818269076458, 24.617359586469895, 16.505561318280133, 3167.493164994116, 98.69200928838823, 52.05745216478522, 22.661649824273802, 12.027216852469682, 32.224881642801165, 47.75309328998185, 53.087556274002104, 27.9015449566155, 44.4659357515345, 20.27631521228973, 53.73014874177762, 10.028897741647484, 13.986640903977023, 30.86837957979544, 32.44382582989581, 48.0279165494029, 30.599177375587963, 21.541015651907518, 19.253907030473915, 22.398943851765146, 67.35377981342252, 8.871809445537362, 16.226526644734445, 20.942980625422773, 84.51633437771815, 66.12374375063246, 29.015153068064865, 29.122282031121703, 268.06676315213565, 39.74242722388112, 246.2134919879179, 116.55553675498864, 126.14781261063285, 79.73130564627809, 193.93690490839793, 391.2614858799801, 201.20937815179752, 167.43734048333292, 183.75748005697693, 402.91455596365, 148.87292060080367, 1660.0751700718065, 249.95636071889305, 130.30942359351204, 2154.2305218191414, 476.52549809019115, 102.5898151392492, 34.34907926840853, 33.010257960362125, 8.460861976069216, 12.402262854137811, 21.843688762707824, 25.917851165003988, 9.161874751775597, 37.689183851120795, 10.542578620510383, 13.65816900272006, 34.924343441714925, 34.92439641782997, 55.315622385956864, 21.87147858721025, 33.213280328276625, 11.107354231532875, 85.6317440333256, 13.181631910260663, 20.09800631262907, 23.30759709719427, 21.530369961415005, 17.231837743000238, 40.30979671856646, 126.14781261063285, 38.38755359932462, 11.074294388790618, 17.133514322501856, 9.240170750290634, 13.630978653795184, 248.7542276416443, 65.53886250704521, 177.70718596893894, 56.937859296676834, 333.7758909229304, 476.52549809019115, 1660.0751700718065, 151.4685097358464, 193.93690490839793, 72.8447793036832, 581.9265800112638, 246.2134919879179, 168.87883760805641, 316.4818222365456, 112.3350149917423, 249.95636071889305, 371.7758333580956, 64.24047855291056, 268.06676315213565, 356.4752114437216, 130.30942359351204, 2154.2305218191414, 3167.493164994116, 227.4968491252394, 320.7794254615988, 391.2614858799801, 186.6933121820497, 341.9375948309209, 180.60088567564128, 528.7388827132205, 12.099929306907052, 30.14196507483742, 42.64758487683574, 29.462628926803113, 12.55850237272927, 15.346735802546457, 16.48625212409105, 24.99159029043904, 40.02468706578523, 17.006859173588886, 26.015906505763294, 34.790774293180526, 23.106869847122066, 23.106887059534003, 14.836775708515976, 76.48618384335944, 12.331781930076792, 16.819621714337966, 16.57061814210687, 30.24351618650837, 10.166685620147748, 39.31384066756822, 25.978100342825016, 13.951951275570496, 15.00434729239986, 43.00990529510943, 12.845027607572762, 12.432367457180188, 17.326083176513094, 125.0780119742126, 320.7794254615988, 104.78773560746403, 189.69551042516255, 71.75179562038213, 336.3996614733422, 103.58033886319146, 344.618320722891, 83.6070209643289, 83.88616354868414, 167.43734048333292, 528.7388827132205, 2154.2305218191414, 180.60548561997774, 143.2899355777521, 136.6653680873852, 168.87883760805641, 1660.0751700718065, 255.90702251209268, 73.59877410756434, 581.9265800112638, 371.7758333580956, 186.6933121820497, 356.4752114437216, 138.52248330550174, 402.91455596365, 227.4968491252394, 183.75748005697693, 34.458179580397946, 27.403777906417222, 9.871038701287226, 19.243146637684607, 12.88498409482037, 22.635839526800265, 19.51121376142455, 13.024287509313346, 14.365318969056945, 12.411176479271024, 16.945909004167174, 58.14292652020804, 9.654944291657543, 11.168339781523086, 21.41445222514604, 11.828039145737792, 25.482603009659016, 81.91080125511024, 18.594665027009896, 13.462761937699703, 22.398943851765146, 11.329545330132808, 40.8387685174852, 11.695023461192028, 11.785144329848034, 28.038547762574517, 46.902948715572606, 19.67628376394336, 77.24389543403545, 31.52065772770973, 114.51330475596879, 341.9375948309209, 46.816771493008, 53.0641601321129, 103.58033886319146, 123.4450500771105, 371.7758333580956, 70.00464230734735, 2154.2305218191414, 344.618320722891, 118.97787382461925, 168.87883760805641, 402.91455596365, 147.59064186703412, 147.60085295694697, 227.4968491252394, 153.2998407488405, 266.74911401128145, 528.7388827132205, 356.4752114437216, 246.2134919879179, 1660.0751700718065, 3167.493164994116, 268.06676315213565, 336.3996614733422, 138.52248330550174, 581.9265800112638, 476.52549809019115, 316.4818222365456, 391.2614858799801, 35.924217226317204, 15.900649001530743, 179.73415571624375, 11.388131116838748, 18.89108288928528, 25.536725491172852, 112.65778758729019, 13.047091014684963, 12.170009114746962, 17.884216090939756, 9.893847654944405, 15.759977398274716, 16.819621714337966, 37.07973566961664, 12.330640307096676, 15.70780211093495, 27.40975550431063, 11.679865006879584, 46.77637630964655, 66.6645929393362, 20.419120215252153, 16.414828686198128, 13.739541161697332, 266.74911401128145, 18.980571790071266, 151.4685097358464, 17.918095227146903, 33.28706706071331, 20.534458241807155, 16.633310354040816, 45.374179077773746, 148.87292060080367, 31.15049274453366, 76.48618384335944, 92.86605710576718, 155.86393746029168, 2154.2305218191414, 183.75748005697693, 236.95532987142218, 320.7794254615988, 1660.0751700718065, 402.91455596365, 180.60548561997774, 119.08141360828378, 136.6653680873852, 371.7758333580956, 341.9375948309209, 246.2134919879179, 220.90214492603565, 249.95636071889305, 344.618320722891, 528.7388827132205, 476.52549809019115, 130.30942359351204, 167.43734048333292, 391.2614858799801, 23.255331521052383, 27.253060971628454, 19.943261791139296, 10.19567130759624, 18.799860130179177, 12.174453194205498, 21.079854435412024, 18.879313351834533, 153.2998407488405, 16.525970071116504, 23.353610749605117, 64.22407108712088, 29.45800105043179, 13.268304272579531, 30.13363586233223, 26.45659794268201, 49.633771104126296, 8.743899389643847, 13.82765673429245, 22.027240037048635, 11.984556145306714, 13.533403478513737, 18.738768228682833, 43.97315184062848, 18.35620208425095, 95.13593062418326, 26.42712274541339, 13.562201431033433, 16.9088833666659, 88.01631778924315, 65.84236500603984, 39.731527797657726, 148.87292060080367, 44.66744217736674, 167.43734048333292, 29.371536372898227, 316.4818222365456, 29.615894307032626, 120.20832564207251, 76.0200634568083, 79.73130564627809, 391.2614858799801, 2154.2305218191414, 82.2671840920137, 528.7388827132205, 1660.0751700718065, 402.91455596365, 77.24389543403545, 227.4968491252394, 336.3996614733422, 246.2134919879179, 320.7794254615988, 263.5672870784072, 344.618320722891, 356.4752114437216, 236.95532987142218, 189.69551042516255, 581.9265800112638, 186.6933121820497, 10.409395583877199, 14.945420483299243, 27.72248473747224, 8.009569119477558, 19.806717568878987, 34.504682520307995, 29.24971264787845, 21.438930542861726, 17.041768881304495, 31.52065772770973, 34.01647024468299, 34.04720635392972, 34.055227308981245, 52.2962843230454, 29.778548400183443, 9.87584998848169, 31.86767746806909, 8.44288315747779, 25.674633219668294, 30.481488731757526, 36.181266176630025, 36.18132748226124, 36.18139464186813, 19.96822500763926, 18.44543812578762, 17.175907867517065, 9.907471916777014, 39.28136863323907, 25.874252524471938, 25.59775263258966, 44.4659357515345, 48.06952178291635, 50.68408450635348, 76.66931705433002, 53.087556274002104, 3167.493164994116, 108.4843288361785, 371.7758333580956, 1660.0751700718065, 186.6933121820497, 528.7388827132205, 391.2614858799801, 155.86393746029168, 120.20832564207251, 66.12374375063246, 2154.2305218191414, 356.4752114437216, 147.59064186703412, 268.06676315213565, 476.52549809019115, 320.7794254615988, 581.9265800112638, 122.88765098643262, 402.91455596365, 116.55553675498864, 248.7542276416443, 227.4968491252394, 336.3996614733422, 9.924323019876532, 11.252141489842984, 19.012399499337384, 10.250433527718455, 17.238774361687604, 32.17788392649407, 10.798956166149404, 31.940320194446368, 9.985735213103567, 9.98605121403208, 9.98604298583684, 16.189775676116103, 8.119727480805338, 12.5541433803194, 11.433790083623338, 36.319834653484435, 32.066027113493746, 38.87398609777553, 19.749999907713843, 52.2962843230454, 13.659163970566539, 30.822997401997707, 8.743899389643847, 10.028897741647484, 12.377408199821582, 39.841068194330504, 7.357716242010813, 18.55706001666108, 12.783655577970045, 19.44840544523491, 25.59775263258966, 48.0279165494029, 268.06676315213565, 3167.493164994116, 122.88765098643262, 55.05926758791405, 193.93690490839793, 33.30498330006705, 43.97315184062848, 2154.2305218191414, 1660.0751700718065, 63.26926020062585, 201.99644586529135, 266.74911401128145, 95.4601514582291, 70.04406855799294, 316.4818222365456, 476.52549809019115, 159.87249761329423, 391.2614858799801, 581.9265800112638, 155.86393746029168, 344.618320722891, 116.55553675498864, 371.7758333580956, 336.3996614733422, 356.4752114437216, 102.5898151392492, 120.20832564207251, 246.2134919879179, 333.7758909229304, 112.3350149917423, 528.7388827132205, 320.7794254615988, 120.64602958762477], \"Freq\": [3167.0, 2154.0, 179.0, 1660.0, 153.0, 266.0, 341.0, 320.0, 112.0, 371.0, 201.0, 528.0, 333.0, 151.0, 268.0, 148.0, 98.0, 344.0, 159.0, 476.0, 316.0, 248.0, 167.0, 189.0, 581.0, 76.0, 402.0, 220.0, 131.0, 64.0, 31.597798785537016, 46.965343018636666, 8.176195997198317, 8.404530470477491, 25.685356597666257, 15.45562804521469, 59.209982899669406, 15.088122023750223, 23.70094074262071, 10.968707874853004, 132.21022600517944, 86.1456992804095, 102.2927876001474, 5.384155623863213, 20.788518511279147, 29.05526926247348, 40.56742475259979, 6.1395213416599095, 9.648725051022081, 116.93723216061906, 22.068858515745564, 22.492319623713367, 24.274085838723817, 18.791634526545664, 19.00361541529718, 19.003511716752666, 19.00306937764873, 6.781097350330637, 8.473571017066565, 11.26635429325572, 991.8883999013339, 110.62371478807725, 31.426598969705015, 115.71292825714387, 97.79246520305229, 30.95431042987939, 135.6568026798872, 45.90479531984516, 146.85400300627077, 93.35362956169438, 290.31835983877147, 38.8050647480211, 36.16490304529854, 34.5848094355991, 52.05620270209744, 72.06346286017435, 60.39294348967904, 71.93578402724266, 40.965309586737305, 36.26929831440752, 53.79050900980583, 65.12267947303218, 44.99157084701153, 39.77344064363809, 40.844999831625074, 46.43126634917885, 42.25933455849993, 50.89076068495147, 40.68154176025688, 10.313711647321625, 14.606518702656341, 17.23466158628059, 16.767334354009442, 31.150013896034356, 37.35315557803801, 12.786789045889996, 15.549089436262548, 10.156948753017831, 10.943781877246918, 11.347005485539988, 8.965113782235953, 7.3684168612678675, 11.346892324923461, 7.211166505846725, 26.634915244763473, 27.666581932798028, 4.563002275998246, 6.896266002276816, 10.83801649353775, 7.93160419273223, 9.841808871220653, 18.992333214829166, 9.978592699091006, 82.48798126247877, 9.279729518979655, 6.380799497620809, 6.334792867624359, 7.210235106926073, 8.730100321603226, 77.98103514969092, 17.375478160078412, 28.177247194152788, 124.2503768438341, 38.64049313507627, 44.01054138410965, 157.10366444347193, 27.98435435333355, 95.69831681727626, 321.93478137927394, 140.13753051316513, 35.269224482714336, 98.71932227340338, 58.16979958931801, 55.34452966817917, 70.45926140432442, 29.534505576972606, 47.46220878922966, 54.931088029270626, 34.74833994722084, 50.8277298770906, 37.01917258830407, 116.47779937949785, 41.13122048101483, 29.74565831332034, 39.604701173381194, 35.23585329254798, 34.94249372062424, 28.973209022622864, 28.93319493120935, 31.05104969803835, 40.239625724658445, 18.240502432010388, 11.265812061041057, 2127.543146905573, 63.557915880995175, 32.42828831913324, 13.926439564651906, 6.815365908329111, 18.2073503469723, 26.788893644240808, 28.387946148807913, 14.534076378892246, 22.38862692669183, 9.646882119795457, 25.468462416831493, 4.656262030319809, 6.478063520694186, 14.094501600096764, 14.266730182283995, 20.84563022182081, 12.400715473053427, 8.702325153804255, 7.670419386031088, 8.872093494918404, 26.5409167974085, 3.4777620694418476, 6.308590783135093, 7.977116562030016, 31.72506794902668, 23.880264708947525, 10.792426089082745, 10.758498995912193, 60.94114189646907, 13.492067408425434, 46.15313445418601, 26.06508053538787, 27.210619821846564, 20.044992968453098, 34.33815654744855, 52.25777751564585, 35.01365223085859, 29.4761512233641, 30.898309877756233, 45.18429468051559, 26.099752198305023, 49.16316301846046, 25.87116928609878, 21.815547046068065, 38.84748634297436, 23.859283295427765, 20.141913471883182, 31.99352868774141, 30.652484754919964, 5.44092194026713, 7.260509431810009, 12.761986862961153, 15.035190986303576, 4.770634203428566, 18.950546845491466, 5.237158547304741, 6.779497565940884, 16.94210322937309, 16.941885042922312, 26.639387199646436, 10.287843519405566, 14.934038814305527, 4.9642673861649875, 38.15039096274097, 5.702988369871693, 8.555878306367655, 9.909337864979017, 9.153254723621068, 7.144590587506986, 16.171709040357378, 49.0982146593446, 14.678969519167852, 4.198405524785864, 6.475069128484185, 3.4316370812021764, 5.059647534783399, 90.28932434000244, 23.70389268962714, 62.90460989095786, 20.568518388792032, 105.57614380944722, 134.01231159928182, 350.5175272629086, 42.296206552254866, 47.78188996794644, 22.44994832124677, 101.08687007678179, 53.89538097691246, 39.77145095275387, 61.287925297685135, 29.791745040468204, 46.87874274151645, 59.268956227168594, 20.068743071542343, 44.996822764626806, 49.53165662846831, 29.547252537717107, 103.78650153319408, 97.40593630720781, 34.77850021571899, 39.26156671887568, 40.893344680743304, 30.572917873506775, 32.75142674366718, 27.434547300983997, 26.703559685168994, 10.433397904766027, 25.0377516368714, 30.349874518532726, 20.111996100671526, 7.184954124688351, 8.777431889107477, 9.403549471649422, 13.927740681188105, 21.26466119292634, 8.934270997849834, 13.460878263189043, 17.893117461626918, 11.55584419622052, 11.555816796640764, 7.120174178974771, 36.68753235661211, 5.843086127218617, 7.902087729115549, 7.746750704477608, 13.929600916942174, 4.654669965444049, 17.582780035759452, 11.556348152776724, 6.155904682888524, 6.541821892396864, 18.73638454217729, 5.581190179801282, 5.165112393599597, 7.028949235293886, 48.86174103286038, 124.79114331140617, 40.55668572717762, 67.07804632325978, 27.03663905006443, 84.85910537502794, 32.0042513585655, 75.20736072439502, 25.34572487042859, 24.688557692685897, 39.754171607286885, 78.10771583976337, 171.17485069433653, 37.53518141281042, 31.87003647424927, 30.95072968854071, 34.75747073065038, 122.00873164420535, 42.51056150217198, 21.350490376508365, 51.44554488909544, 38.63894216942853, 29.437196474011994, 30.54381461537597, 22.783214401888713, 25.255472611829, 23.790542337559682, 23.205140530533424, 28.090750704228626, 21.87168742409245, 6.836754900925078, 12.470500663297816, 7.677360288823208, 12.927636657906302, 11.041476032240512, 7.2950005537885865, 7.422981416165864, 5.867965497191525, 7.880824501133783, 25.974845536077677, 4.312890169332698, 4.947725615487315, 9.48657186844049, 5.154317310891795, 10.559975747843879, 33.702037000137544, 7.55015880453894, 5.417230290578232, 8.721689543247335, 4.257547262134449, 15.32537175781567, 4.37463469541963, 4.34080569789432, 10.276592045260378, 17.112066954765115, 7.167321305747944, 27.688217706166128, 11.245307499473377, 39.941924132903765, 95.40833533941053, 15.450544200198951, 16.707838933984345, 29.443867398779577, 31.095799980691687, 72.4821825912174, 19.260704341035435, 204.2090119401303, 56.582683373706075, 27.298074991816783, 34.34673722924445, 60.50622890188595, 30.54613402532244, 29.261652456565585, 37.252976651954256, 29.319522526311687, 39.524443360967894, 45.95833415277497, 35.63793906454315, 28.707692443643392, 57.41176883882114, 64.66667213460077, 28.164221630130726, 29.677534589427946, 22.422360422370783, 32.29534429339345, 30.25046888607289, 27.051730028307944, 25.897171950906458, 27.980564444977468, 11.706075858541082, 120.9121120345409, 7.217245901022212, 11.49947296280374, 15.40847203006053, 66.55910453845493, 7.306472681961911, 6.530765098202535, 8.963046467944437, 4.6807298667659705, 7.113341606006918, 7.528407655642115, 16.44740845920677, 5.386117376383839, 6.635598750406733, 11.499305462380159, 4.681194545360423, 18.609540977582963, 26.011753659720434, 7.868439690643581, 6.260565302007537, 5.158713552468263, 99.381184590901, 6.948454034654923, 54.70975097887794, 6.2620311236867146, 11.49990290628731, 6.94814836567917, 5.367611281197808, 14.035366852629535, 35.59339540167012, 9.42616584186373, 17.986042649704025, 20.453519949464592, 28.21529043026675, 163.48466190564525, 30.478763020583873, 33.974254486846995, 39.620445216766996, 103.54324746631816, 44.082838667340035, 27.137066275040073, 21.575731105328234, 23.083366139092604, 38.80973699150124, 34.90084212957709, 28.407414188006197, 27.054523301325226, 27.481484196708777, 28.44031837259807, 30.46894147500944, 29.291671308942686, 19.526021474938055, 19.98559014863396, 19.033207440672292, 18.44355713879749, 19.585452793853722, 13.86677488886057, 7.005702823037873, 12.723977601538705, 8.148614863557182, 13.880287450434945, 10.88636833245779, 88.3707637356364, 9.206717584809505, 12.827015540734772, 34.72364691105723, 14.936949795514153, 5.862649576473656, 13.17114547685739, 11.434615891109665, 21.386434183581574, 3.5748195499316604, 5.621216673132621, 8.94640070155788, 4.718854905029848, 5.048747993163052, 6.832611782555261, 15.807047286369276, 6.48517039702068, 33.46310837225378, 9.292904687596456, 4.718841864893775, 5.8626622440344125, 30.50303027026318, 22.515642903964523, 13.566151317581975, 47.96106906579436, 14.783816869579246, 42.23701266353398, 9.883877693229225, 67.24066435032502, 9.798588496954743, 26.600563143630122, 19.15927581185974, 19.16432644284855, 54.12357508097019, 139.05612437900004, 19.404281339909517, 46.05707209138942, 75.5750549535862, 39.43476342676592, 17.74887704870044, 26.86138374870949, 29.997198175928975, 24.39958340393823, 25.89748371560066, 24.390942637200805, 25.878023361675638, 25.74195885613461, 21.878869959840113, 20.856521801399264, 25.09225605823064, 20.304169953062175, 8.40321184545153, 11.990588351264519, 20.629894126229672, 5.682315184658429, 13.48166475169692, 23.4696804000656, 18.179159298785002, 11.650022887250621, 9.184614255827034, 16.188648190181436, 17.222513156210837, 17.1505114247525, 17.127522514034705, 25.59566297450551, 14.524860398834258, 4.475349011289766, 14.373114830013204, 3.268044679500237, 9.725099124804704, 11.125990909241827, 12.689629585427172, 12.68948157242389, 12.689298388013887, 6.98301608788824, 6.34241141325434, 5.567612800859461, 3.211457549774878, 12.719872598781109, 8.369578455037248, 8.268547123756841, 14.100968743135613, 15.12524510440779, 15.836238022216714, 20.807329476709615, 14.882172581610675, 336.3085455585699, 25.033433383322787, 61.03536890944392, 164.78303482609743, 33.02153396821596, 58.6458997415561, 43.72510455894029, 25.302705673176245, 21.88479379779513, 16.478472305362004, 72.16318580088466, 33.584338025708455, 22.794052331714312, 27.24366026971039, 32.48556569405134, 27.11862298786784, 27.152261507445605, 18.184531731161588, 21.895497629240452, 17.748828344705917, 19.34845469734291, 18.008772884401996, 18.331214082890146, 6.868238762145626, 7.293960049363808, 10.675903563016199, 4.753147688543536, 7.586341885958257, 11.111576872666655, 3.7042605729376703, 10.73826723489362, 3.035331811370683, 3.0353678523373198, 3.0353530317529085, 4.90631809160415, 2.420250780195165, 3.6661147464829096, 3.08400496839805, 9.784331561634188, 8.560711776806405, 10.09458230738832, 5.067900186812638, 13.39671293200762, 3.4899555960113924, 7.771549340044413, 2.18326020417549, 2.464795393969559, 3.03540591429274, 9.590085572045846, 1.7574900763950418, 4.409194933837823, 3.035382672921731, 4.544665853965093, 5.781016183970825, 10.485823504973323, 49.01623738858123, 452.1073275525492, 23.87937022122032, 11.557018968433022, 31.364668057313192, 7.132701986023588, 8.673400764041602, 153.14249994214447, 124.81950084336368, 11.242997057609111, 25.299723832828782, 30.173707451224768, 14.720831099729276, 11.73764281995848, 31.093890590813036, 39.394390630478775, 19.775721508080395, 33.41115632983212, 37.9880276505547, 18.318430958141096, 27.33828444001345, 15.141102453861622, 21.32215922058027, 18.3311955232969, 18.20766999420524, 12.886531828880438, 13.279810856822012, 15.867086086603566, 16.21393357091, 12.425945790497304, 14.854943915394117, 13.776400136718063, 11.601826984412183], \"Term\": [\"exhibit\", \"motion\", \"pennsylvania\", \"order\", \"djc\", \"case\", \"sign_judge\", \"request\", \"mro\", \"party\", \"summary_judgment\", \"defendant\", \"judge\", \"ex\", \"attachment\", \"sign_magistrate_judge\", \"sign_judge_iii\", \"dismiss\", \"l.p.\", \"notice\", \"letter\", \"stipulation\", \"llc\", \"claim\", \"'s\", \"rjm\", \"shall\", \"memorandum_law_support\", \"memorandum_law_opposition\", \"sac\", \"associate_case_rjm\", \"dismiss_second_amend\", \"kco\", \"sign_judge_sr\", \"tp\", \"summary_judgment_favor\", \"reply_memorandum_law_support\", \"rule_disclosure_statement\", \"dismiss.._document\", \"support_paper_review\", \"summary_judgment\", \"memorandum_law_opposition\", \"l.p.\", \"date_dec_dkt\", \"jco\", \"withdraw_attorney\", \"certificate_service\", \"certify_class\", \"memorandum_opinion\", \"memorandum_law_support\", \"answer_amend_complaint\", \"limine\", \"date_november\", \"statement\", \"court_notice_intent\", \"request_redaction_transcript\", \"party_calendar_day\", \"pa\", \"b_rule_..\", \"dismiss_pursuant_rule\", \"motion\", \"inc..\", \"associated_case\", \"complaint\", \"grant\", \"appear_pro_hac_vice\", \"notice\", \"declaration_opposition\", \"'s\", \"sign_judge\", \"order\", \"support\", \"leave\", \"dismissal\", \"declaration_support\", \"plaintiff\", \"stipulation\", \"dismiss\", \"seal\", \"plaintiff_'\", \"magistrate_judge\", \"defendant\", \"claim\", \"opposition\", \"plaintiff_'s\", \"letter\", \"date\", \"exhibit\", \"shall\", \"cote\", \"genesys_id_inc.._basile\", \"magistrate_judge_designate\", \"text\", \"judge_d._kan._gr\", \"judge_d._kan._magistrate\", \"ago\", \"otherwise\", \"unless\", \"judgment_favor\", \"date_purs\", \"telephone_conference_set\", \"third_party_complaint\", \"set_answer_due\", \"certify_copy_docket_sheet\", \"transcript_proceeding_hold\", \"amount\", \"hereby_stipulate_agree_undersigned\", \"nm\", \"vacate\", \"fax\", \"usa\", \"transmit\", \"total\", \"hereby\", \"affidavit_service_summons\", \"could\", \"custodian\", \"court_reporter\", \"r\", \"judgment\", \"telephone_conference_hold\", \"information\", \"judge\", \"letter_address_judge\", \"clerk\", \"defendant\", \"notice_appeal\", \"date\", \"order\", \"'s\", \"june\", \"shall\", \"grant\", \"magistrate_judge\", \"court\", \"answer\", \"stipulation\", \"party\", \"discovery\", \"sign_judge\", \"may\", \"motion\", \"complaint\", \"april\", \"plaintiff\", \"case\", \"letter\", \"counsel\", \"dismiss\", \"lmb\", \"court_reportertranscriber\", \"cyr\", \"associate_case_thk\", \"exhibit\", \"sign_judge_iii\", \"release_transcript_restriction_set\", \"kkc\", \"associate_case_j\", \"summons_issue\", \"cotton\", \"kw\", \"magistrate_judge_discovery_hear\", \"sign_judge_s.d.n.y\", \"conference_hold\", \"new_york\", \"q\", \"advance\", \"mp\", \"shall_submit\", \"f\", \"return_date\", \"mbe\", \"n\", \"ft\", \"set\", \"aim_exploration_inc.._basile\", \"copy_mail_chamber\", \"k\", \"serve_answer_due\", \"e\", \"h\", \"new_address\", \"attachment\", \"oral_argument\", \"schedule\", \"c\", \"minute_entry_proceeding_hold\", \"keely\", \"b\", \"court\", \"conference\", \"llc\", \"declaration_support\", \"shall\", \"sign_magistrate_judge\", \"order\", \"magistrate_judge\", \"hold\", \"motion\", \"notice\", \"june\", \"date_may_obtain\", \"pacer\", \"see_attached\", \"local_civil_rule\", \"service_make\", \"redaction_calendar_day_mcguirk\", \"goodwin\", \"mail\", \"withdrawal\", \"jr\", \"electronically_available_public_without\", \"transcript_may_make_remotely\", \"extend\", \"gr\", \"revise_schedule_order\", \"substitute\", \"endorsement\", \"notice_case_reassignment\", \"individual_rule\", \"plan\", \"discuss\", \"change\", \"deadline\", \"minute_entry_proceeding_hold\", \"shall_serve\", \"endorse\", \"relevant\", \"rule_certificate\", \"approval\", \"stipulation\", \"docket\", \"may\", \"consent\", \"judge\", \"notice\", \"order\", \"ex\", \"b\", \"set_forth\", \"'s\", \"schedule\", \"amend_complaint\", \"letter\", \"endorsed_letter_address\", \"magistrate_judge\", \"party\", \"pursuant\", \"attachment\", \"date\", \"hold\", \"motion\", \"exhibit\", \"counsel\", \"request\", \"court\", \"action\", \"sign_judge\", \"hereby\", \"defendant\", \"nonecf_case_error\", \"ja\", \"document_place_vault\", \"note_attorney_refile_document\", \"sn\", \"usca\", \"memoendorsement_letter_address\", \"district_judge\", \"material\", \"fact_discovery\", \"marshal\", \"associated_case_et_al\", \"discovery_ruling_conference\", \"party_shall_comply\", \"permit\", \"rjm\", \"attorney_record\", \"corporate_parent\", \"summons_complaint\", \"error\", \"allege\", \"filing\", \"pro_se\", \"pdf\", \"mc\", \"page\", \"connection\", \"counsel_write\", \"note_attorney\", \"seal\", \"request\", \"deny\", \"claim\", \"matter\", \"plaintiff\", \"notice_appearance_behalf\", \"dismiss\", \"judge_date\", \"service\", \"llc\", \"defendant\", \"motion\", \"plaintiff_'s\", \"defendant_'\", \"serve\", \"amend_complaint\", \"order\", \"grant\", \"number\", \"'s\", \"party\", \"action\", \"date\", \"opposition\", \"shall\", \"counsel\", \"declaration_support\", \"sc\", \"worcester\", \"judge_iii\", \"associate_case_et_al\", \"substitution\", \"transmission\", \"g.c\", \"either\", \"service_process\", \"conference_call\", \"judge_jury_trial\", \"form\", \"line\", \"individual_practice\", \"friday\", \"support_[_]\", \"jury\", \"p.c\", \"setreset_deadline\", \"settlement_conference\", \"ft\", \"reason_state\", \"dkt\", \"applicable\", \"proposed\", \"ama\", \"chamber\", \"however\", \"pl\", \"redact_transcript_deadline_set\", \"declaration\", \"sign_judge\", \"nd\", \"december\", \"notice_appearance_behalf\", \"reply\", \"party\", \"october\", \"motion\", \"dismiss\", \"april\", \"amend_complaint\", \"shall\", \"modify\", \"propose\", \"counsel\", \"djc\", \"case\", \"defendant\", \"date\", \"schedule\", \"order\", \"exhibit\", \"attachment\", \"plaintiff\", \"opposition\", \"'s\", \"notice\", \"letter\", \"court\", \"reiter\", \"jar\", \"pennsylvania\", \"additional_attachment_add\", \"york_ny_magistrate_judge\", \"courtroom_pearl_street_new\", \"mro\", \"bond\", \"judge_longer_assigned\", \"jpo\", \"modify_ldi\", \"iv\", \"corporate_parent\", \"sign_judge_gr\", \"process\", \"return\", \"transcript_proceeding_conference_hold\", \"york_ny_judge\", \"judge_c.d\", \"rule_statement\", \"transfer\", \"office_p.c\", \"rule_deposition_objection\", \"case\", \"distribution\", \"ex\", \"error_electronic_filing_nonecf\", \"limine_preclude_plaintiff_introduce\", \"agent\", \"pretrial_conference\", \"copy_send_chamber\", \"sign_magistrate_judge\", \"complete\", \"rjm\", \"direct\", \"discovery\", \"motion\", \"declaration_support\", \"inc..\", \"request\", \"order\", \"shall\", \"plaintiff_'s\", \"declaration_opposition\", \"serve\", \"party\", \"sign_judge\", \"schedule\", \"memorandum_law_support\", \"magistrate_judge\", \"dismiss\", \"defendant\", \"notice\", \"hold\", \"llc\", \"court\", \"han_kook\", \"l.p._balentine_global_hedge\", \"stillwater_market_neutral_fund\", \"transfer_new_york_eastern\", \"alternative_investment_sgr_spa\", \"fund_l.p.\", \"select\", \"propose_finding_fact_conclusion\", \"djc\", \"tape\", \"master\", \"sac\", \"wellington\", \"defts\", \"jp\", \"oppose\", \"agreement\", \"new_york_observer_l.p.\", \"dismiss_counterclaim\", \"reset\", \"telephone\", \"person\", \"entirety\", \"fee_receipt_number\", \"new_york_ny\", \"submit\", \"]\", \"client\", \"a.m\", \"august\", \"first\", \"address_judge\", \"sign_magistrate_judge\", \"loan\", \"llc\", \"disclose\", \"letter\", \"event\", \"march\", \"settlement\", \"keely\", \"court\", \"motion\", \"answer_complaint\", \"defendant\", \"order\", \"shall\", \"pl\", \"counsel\", \"plaintiff\", \"schedule\", \"request\", \"complaint\", \"dismiss\", \"date\", \"inc..\", \"claim\", \"'s\", \"action\", \"associated_case_ft\", \"case_designate\", \"tro\", \"scileppi\", \"conference_proceed_hold\", \"affidavit_service_summons_complaint\", \"yv\", \"ae\", \"attorney_terminate\", \"redact_transcript_deadline_set\", \"official_transcript_notice\", \"court_reportertranscriber_abovecaptioned_matter\", \"hereby_give_official_transcript\", \"service_accept\", \"erratum\", \"corp..\", \"proceeding\", \"opportunity\", \"ltd..\", \"answer_due_answer_due\", \"reportertranscriber_deadline_release_transcript\", \"transcript_may_view_court\", \"public_terminal_purchase_court\", \"period\", \"crossclaims\", \"associate\", \"final\", \"restriction\", \"mail_copy\", \"g\", \"sign_judge_s.d.n.y\", \"v.\", \"see\", \"trial\", \"kw\", \"exhibit\", \"follow\", \"party\", \"order\", \"action\", \"defendant\", \"court\", \"discovery\", \"march\", \"e\", \"motion\", \"date\", \"modify\", \"attachment\", \"notice\", \"request\", \"'s\", \"due\", \"shall\", \"c\", \"stipulation\", \"counsel\", \"plaintiff\", \"langer\", \"merrill\", \"complaint_pursuant_frcp\", \"ruling\", \"evidence\", \"supplemental_amend\", \"officer\", \"sign_judge_copy_mail\", \"absolute_return_fund_l.p.\", \"magnum_growth_fund_l.p.\", \"magnum_special_situation_fund\", \"attachment_text_propose\", \"stock\", \"reason_set_forth\", \"expert_discovery\", \"note\", \"rule_corporate_disclosure_statement\", \"affidavit\", \"mdl\", \"service_accept\", \"consistent\", \"upon\", \"new_york_observer_l.p.\", \"q\", \"estate_m.l\", \"answer_due\", \"pursuant_federal_rule\", \"send\", \"hedge_strategy_fund_ibex\", \"response_due_reply\", \"g\", \"f\", \"attachment\", \"exhibit\", \"due\", \"motion_dismiss_thirdparty\", \"b\", \"honor\", \"fee_receipt_number\", \"motion\", \"order\", \"amend\", \"summary_judgment\", \"case\", \"answer\", \"january\", \"letter\", \"notice\", \"l.p.\", \"court\", \"'s\", \"discovery\", \"dismiss\", \"c\", \"party\", \"plaintiff\", \"date\", \"june\", \"march\", \"schedule\", \"judge\", \"endorsed_letter_address\", \"defendant\", \"request\", \"regard\"], \"logprob\": [30.0, 29.0, 28.0, 27.0, 26.0, 25.0, 24.0, 23.0, 22.0, 21.0, 20.0, 19.0, 18.0, 17.0, 16.0, 15.0, 14.0, 13.0, 12.0, 11.0, 10.0, 9.0, 8.0, 7.0, 6.0, 5.0, 4.0, 3.0, 2.0, 1.0, -5.394700050354004, -4.9984002113342285, -6.746600151062012, -6.718999862670898, -5.601900100708008, -6.109799861907959, -4.76669979095459, -6.133900165557861, -5.682300090789795, -6.4527997970581055, -3.963399887084961, -4.3917999267578125, -4.21999979019165, -7.164299964904785, -5.813399791717529, -5.478600025177002, -5.144800186157227, -7.033100128173828, -6.580999851226807, -4.08620023727417, -5.753600120544434, -5.734600067138672, -5.658400058746338, -5.914400100708008, -5.903200149536133, -5.903200149536133, -5.903200149536133, -6.933700084686279, -6.710899829864502, -6.426000118255615, -1.948199987411499, -4.14169979095459, -5.400100231170654, -4.096700191497803, -4.264999866485596, -5.415299892425537, -3.937700033187866, -5.021200180053711, -3.8584001064300537, -4.311399936676025, -3.176800012588501, -5.189300060272217, -5.259699821472168, -5.3043999671936035, -4.895500183105469, -4.570300102233887, -4.7469000816345215, -4.572000026702881, -5.1350998878479, -5.256800174713135, -4.86269998550415, -4.671500205993652, -5.041299819946289, -5.164599895477295, -5.138000011444092, -5.009799957275391, -5.104000091552734, -4.918099880218506, -5.142000198364258, -6.24970006942749, -5.901700019836426, -5.736199855804443, -5.763700008392334, -5.1442999839782715, -4.962699890136719, -6.0346999168396, -5.839099884033203, -6.264999866485596, -6.190400123596191, -6.154200077056885, -6.389800071716309, -6.585899829864502, -6.154200077056885, -6.607500076293945, -5.300899982452393, -5.262899875640869, -7.065199851989746, -6.652200222015381, -6.200099945068359, -6.51230001449585, -6.296500205993652, -5.639100074768066, -6.282700061798096, -4.170499801635742, -6.355299949645996, -6.729899883270264, -6.737100124359131, -6.607600212097168, -6.416399955749512, -4.2266998291015625, -5.728099822998047, -5.24459981918335, -3.7607998847961426, -4.928800106048584, -4.798699855804443, -3.52620005607605, -5.251500129699707, -4.021900177001953, -2.808799982070923, -3.640500068664551, -5.020100116729736, -3.9909000396728516, -4.519800186157227, -4.5696001052856445, -4.328100204467773, -5.1975998878479, -4.723199844360352, -4.577099800109863, -5.034999847412109, -4.654699802398682, -4.971700191497803, -3.8254001140594482, -4.866399765014648, -5.190499782562256, -4.904200077056885, -5.021100044250488, -5.029399871826172, -5.216800212860107, -5.218200206756592, -5.087200164794922, -4.828000068664551, -5.619200229644775, -6.10099983215332, -0.8600999712944031, -4.3709001541137695, -5.043799877166748, -5.888999938964844, -6.603600025177002, -5.620999813079834, -5.234799861907959, -5.176799774169922, -5.84630012512207, -5.414299964904785, -6.256199836730957, -5.285399913787842, -6.984600067138672, -6.654399871826172, -5.876999855041504, -5.8649001121521, -5.4857001304626465, -6.005099773406982, -6.3592000007629395, -6.485400199890137, -6.339900016784668, -5.244100093841553, -7.276400089263916, -6.6809000968933105, -6.446199893951416, -5.065700054168701, -5.349800109863281, -6.144000053405762, -6.14709997177124, -4.412899971008301, -5.9207000732421875, -4.690800189971924, -5.262199878692627, -5.219200134277344, -5.524799823760986, -4.986599922180176, -4.5665998458862305, -4.967100143432617, -5.139200210571289, -5.092100143432617, -4.712100028991699, -5.260900020599365, -4.627699851989746, -5.269700050354004, -5.440199851989746, -4.8632001876831055, -5.350599765777588, -5.519999980926514, -5.053899765014648, -5.096700191497803, -6.825500011444092, -6.5370001792907715, -5.9730000495910645, -5.809000015258789, -6.956999778747559, -5.577600002288818, -6.863699913024902, -6.605500221252441, -5.689599990844727, -5.689700126647949, -5.236999988555908, -6.188499927520752, -5.815800189971924, -6.917200088500977, -4.877900123596191, -6.778500080108643, -6.372799873352051, -6.22599983215332, -6.305300235748291, -6.553100109100342, -5.736199855804443, -4.6255998611450195, -5.833000183105469, -7.084700107574463, -6.651500225067139, -7.286399841308594, -6.898099899291992, -4.01639986038208, -5.353799819946289, -4.377799987792969, -5.495699882507324, -3.859999895095825, -3.621500015258789, -2.6600000858306885, -4.774700164794922, -4.6528000831604, -5.408199787139893, -3.9035000801086426, -4.532400131225586, -4.836299896240234, -4.403900146484375, -5.125199794769287, -4.671899795532227, -4.437399864196777, -5.520299911499023, -4.712800025939941, -4.616799831390381, -5.133399963378906, -3.8770999908447266, -3.9405999183654785, -4.970399856567383, -4.8491997718811035, -4.808499813079834, -5.099299907684326, -5.0304999351501465, -5.207600116729736, -5.234600067138672, -5.998499870300293, -5.1230998039245605, -4.930699825286865, -5.342199802398682, -6.371500015258789, -6.171299934387207, -6.102399826049805, -5.70959997177124, -5.286499977111816, -6.153600215911865, -5.74370002746582, -5.459099769592285, -5.896299839019775, -5.896299839019775, -6.3805999755859375, -4.741099834442139, -6.5782999992370605, -6.276400089263916, -6.296199798583984, -5.709499835968018, -6.805699825286865, -5.476600170135498, -5.896299839019775, -6.526100158691406, -6.4653000831604, -5.413099765777588, -6.624100208282471, -6.701600074768066, -6.393499851226807, -4.454500198364258, -3.516900062561035, -4.6407999992370605, -4.137700080871582, -5.046299934387207, -3.9024999141693115, -4.877699851989746, -4.0233001708984375, -5.110899925231934, -5.137199878692627, -4.660799980163574, -3.9853999614715576, -3.2007999420166016, -4.718200206756592, -4.881899833679199, -4.911099910736084, -4.795100212097168, -3.539400100708008, -4.593800067901611, -5.282400131225586, -4.4029998779296875, -4.689300060272217, -4.961299896240234, -4.9243998527526855, -5.21750020980835, -5.114500045776367, -5.174200057983398, -5.199100017547607, -4.8445000648498535, -5.094799995422363, -6.257599830627441, -5.656599998474121, -6.14169979095459, -5.62060022354126, -5.778299808502197, -6.192800045013428, -6.1753997802734375, -6.410399913787842, -6.115499973297119, -4.922800064086914, -6.718299865722656, -6.580999851226807, -5.930099964141846, -6.54010009765625, -5.82289981842041, -4.662399768829346, -6.158400058746338, -6.4903998374938965, -6.014100074768066, -6.731299877166748, -5.450399875640869, -6.704100131988525, -6.711900234222412, -5.850100040435791, -5.340199947357178, -6.210400104522705, -4.85890007019043, -5.760000228881836, -4.492499828338623, -3.621799945831299, -5.442299842834473, -5.364099979400635, -4.797500133514404, -4.7428998947143555, -3.8966000080108643, -5.22189998626709, -2.86080002784729, -4.144199848175049, -4.8730998039245605, -4.643400192260742, -4.077199935913086, -4.760700225830078, -4.803699970245361, -4.56220006942749, -4.801700115203857, -4.502999782562256, -4.352200031280518, -4.606500148773193, -4.822800159454346, -4.129700183868408, -4.010700225830078, -4.841899871826172, -4.789599895477295, -5.069900035858154, -4.704999923706055, -4.770400047302246, -4.882199764251709, -4.92579984664917, -4.774799823760986, -5.646200180053711, -3.311199903488159, -6.129799842834473, -5.664000034332275, -5.371399879455566, -3.9082000255584717, -6.117499828338623, -6.229800224304199, -5.9131999015808105, -6.56279993057251, -6.1442999839782715, -6.087600231170654, -5.306099891662598, -6.422500133514404, -6.213799953460693, -5.664000034332275, -6.562699794769287, -5.182600021362305, -4.847700119018555, -6.043399810791016, -6.271999835968018, -6.46560001373291, -3.5072999000549316, -6.167799949645996, -4.1041998863220215, -6.2718000411987305, -5.663899898529053, -6.167799949645996, -6.425899982452393, -5.464700222015381, -4.53410005569458, -5.862800121307373, -5.216700077056885, -5.088099956512451, -4.76639986038208, -3.0095999240875244, -4.689300060272217, -4.580699920654297, -4.4268999099731445, -3.4663000106811523, -4.320199966430664, -4.8053998947143555, -5.0346999168396, -4.967199802398682, -4.4475998878479, -4.553800106048584, -4.7596001625061035, -4.8084001541137695, -4.792799949645996, -4.758500099182129, -4.689599990844727, -4.729000091552734, -5.134500026702881, -5.111299991607666, -5.160099983215332, -5.156300067901611, -5.096199989318848, -5.441500186920166, -6.124300003051758, -5.527500152587891, -5.973199844360352, -5.4405999183654785, -5.683499813079834, -3.5894999504089355, -5.851099967956543, -5.519499778747559, -4.523600101470947, -5.367199897766113, -6.3024001121521, -5.493000030517578, -5.634399890899658, -5.008299827575684, -6.797100067138672, -6.3445000648498535, -5.879799842834473, -6.519499778747559, -6.451900005340576, -6.1493000984191895, -5.3105998039245605, -6.201499938964844, -4.5605998039245605, -5.841800212860107, -6.519499778747559, -6.3024001121521, -4.653200149536133, -4.9567999839782715, -5.463500022888184, -4.2006001472473145, -5.377500057220459, -4.327700138092041, -5.780099868774414, -3.862799882888794, -5.78879976272583, -4.79010009765625, -5.118199825286865, -5.118000030517578, -4.079800128936768, -3.136199951171875, -5.105500221252441, -4.241099834442139, -3.7458999156951904, -4.396399974822998, -5.194699764251709, -4.780300140380859, -4.669899940490723, -4.876500129699707, -4.81689977645874, -4.876800060272217, -4.817599773406982, -4.82289981842041, -4.985499858856201, -5.033400058746338, -4.848499774932861, -5.060200214385986, -5.925600051879883, -5.570099830627441, -5.027500152587891, -6.31689977645874, -5.452899932861328, -4.898499965667725, -5.1539998054504395, -5.598899841308594, -5.836699962615967, -5.269899845123291, -5.208000183105469, -5.212200164794922, -5.213500022888184, -4.811800003051758, -5.378399848937988, -6.555600166320801, -5.388899803161621, -6.869999885559082, -5.7795000076293945, -5.644899845123291, -5.513400077819824, -5.513500213623047, -5.513500213623047, -6.110799789428711, -6.206999778747559, -6.337299823760986, -6.887499809265137, -5.511099815368652, -5.929599761962891, -5.941800117492676, -5.4079999923706055, -5.337900161743164, -5.291900157928467, -5.018899917602539, -5.354100227355957, -2.2362000942230225, -4.834000110626221, -3.9428000450134277, -2.9495999813079834, -4.55709981918335, -3.9827001094818115, -4.276299953460693, -4.823299884796143, -4.968400001525879, -5.252200126647949, -3.7753000259399414, -4.540200233459473, -4.927700042724609, -4.7494001388549805, -4.573400020599365, -4.754000186920166, -4.752799987792969, -5.15369987487793, -4.9679999351501465, -5.1778998374938965, -5.091599941253662, -5.163400173187256, -5.145599842071533, -6.043300151824951, -5.983099937438965, -5.602200031280518, -6.411399841308594, -5.94379997253418, -5.56220006942749, -6.660699844360352, -5.596399784088135, -6.859899997711182, -6.859799861907959, -6.859799861907959, -6.3796000480651855, -7.086299896240234, -6.671000003814697, -6.843900203704834, -5.6894001960754395, -5.822999954223633, -5.658199787139893, -6.3471999168396, -5.375199794769287, -6.720300197601318, -5.9197001457214355, -7.1894001960754395, -7.0680999755859375, -6.859799861907959, -5.709400177001953, -7.406300067901611, -6.486499786376953, -6.859799861907959, -6.456200122833252, -6.21560001373291, -5.620100021362305, -4.078000068664551, -1.8562999963760376, -4.7972002029418945, -5.522900104522705, -4.524499893188477, -6.005499839782715, -5.809899806976318, -2.938800096511841, -3.1433000564575195, -5.5503997802734375, -4.7393999099731445, -4.563199996948242, -5.280900001525879, -5.507400035858154, -4.533199787139893, -4.296599864959717, -4.9857001304626465, -4.461299896240234, -4.332900047302246, -5.062300205230713, -4.661900043487549, -5.252799987792969, -4.910399913787842, -5.061600208282471, -5.068299770355225, -5.414000034332275, -5.383900165557861, -5.205900192260742, -5.184299945831299, -5.450399875640869, -5.2718000411987305, -5.3471999168396, -5.519000053405762], \"Category\": [\"Default\", \"Default\", \"Default\", \"Default\", \"Default\", \"Default\", \"Default\", \"Default\", \"Default\", \"Default\", \"Default\", \"Default\", \"Default\", \"Default\", \"Default\", \"Default\", \"Default\", \"Default\", \"Default\", \"Default\", \"Default\", \"Default\", \"Default\", \"Default\", \"Default\", \"Default\", \"Default\", \"Default\", \"Default\", \"Default\", \"Topic1\", \"Topic1\", \"Topic1\", \"Topic1\", \"Topic1\", \"Topic1\", \"Topic1\", \"Topic1\", \"Topic1\", \"Topic1\", \"Topic1\", \"Topic1\", \"Topic1\", \"Topic1\", \"Topic1\", \"Topic1\", \"Topic1\", \"Topic1\", \"Topic1\", \"Topic1\", \"Topic1\", \"Topic1\", \"Topic1\", \"Topic1\", \"Topic1\", \"Topic1\", \"Topic1\", \"Topic1\", \"Topic1\", \"Topic1\", \"Topic1\", \"Topic1\", \"Topic1\", \"Topic1\", \"Topic1\", \"Topic1\", \"Topic1\", \"Topic1\", \"Topic1\", \"Topic1\", \"Topic1\", \"Topic1\", \"Topic1\", \"Topic1\", \"Topic1\", \"Topic1\", \"Topic1\", \"Topic1\", \"Topic1\", \"Topic1\", \"Topic1\", \"Topic1\", \"Topic1\", \"Topic1\", \"Topic1\", \"Topic1\", \"Topic1\", \"Topic1\", \"Topic1\", \"Topic2\", \"Topic2\", \"Topic2\", \"Topic2\", \"Topic2\", \"Topic2\", \"Topic2\", \"Topic2\", \"Topic2\", \"Topic2\", \"Topic2\", \"Topic2\", \"Topic2\", \"Topic2\", \"Topic2\", \"Topic2\", \"Topic2\", \"Topic2\", \"Topic2\", \"Topic2\", \"Topic2\", \"Topic2\", \"Topic2\", \"Topic2\", \"Topic2\", \"Topic2\", \"Topic2\", \"Topic2\", \"Topic2\", \"Topic2\", \"Topic2\", \"Topic2\", \"Topic2\", \"Topic2\", \"Topic2\", \"Topic2\", \"Topic2\", \"Topic2\", \"Topic2\", \"Topic2\", \"Topic2\", \"Topic2\", \"Topic2\", \"Topic2\", \"Topic2\", \"Topic2\", \"Topic2\", \"Topic2\", \"Topic2\", \"Topic2\", \"Topic2\", \"Topic2\", \"Topic2\", \"Topic2\", \"Topic2\", \"Topic2\", \"Topic2\", \"Topic2\", \"Topic2\", \"Topic2\", \"Topic3\", \"Topic3\", \"Topic3\", \"Topic3\", \"Topic3\", \"Topic3\", \"Topic3\", \"Topic3\", \"Topic3\", \"Topic3\", \"Topic3\", \"Topic3\", \"Topic3\", \"Topic3\", \"Topic3\", \"Topic3\", \"Topic3\", \"Topic3\", \"Topic3\", \"Topic3\", \"Topic3\", \"Topic3\", \"Topic3\", \"Topic3\", \"Topic3\", \"Topic3\", \"Topic3\", \"Topic3\", \"Topic3\", \"Topic3\", \"Topic3\", \"Topic3\", \"Topic3\", \"Topic3\", \"Topic3\", \"Topic3\", \"Topic3\", \"Topic3\", \"Topic3\", \"Topic3\", \"Topic3\", \"Topic3\", \"Topic3\", \"Topic3\", \"Topic3\", \"Topic3\", \"Topic3\", \"Topic3\", \"Topic3\", \"Topic3\", \"Topic3\", \"Topic3\", \"Topic4\", \"Topic4\", \"Topic4\", \"Topic4\", \"Topic4\", \"Topic4\", \"Topic4\", \"Topic4\", \"Topic4\", \"Topic4\", \"Topic4\", \"Topic4\", \"Topic4\", \"Topic4\", \"Topic4\", \"Topic4\", \"Topic4\", \"Topic4\", \"Topic4\", \"Topic4\", \"Topic4\", \"Topic4\", \"Topic4\", \"Topic4\", \"Topic4\", \"Topic4\", \"Topic4\", \"Topic4\", \"Topic4\", \"Topic4\", \"Topic4\", \"Topic4\", \"Topic4\", \"Topic4\", \"Topic4\", \"Topic4\", \"Topic4\", \"Topic4\", \"Topic4\", \"Topic4\", \"Topic4\", \"Topic4\", \"Topic4\", \"Topic4\", \"Topic4\", \"Topic4\", \"Topic4\", \"Topic4\", \"Topic4\", \"Topic4\", \"Topic4\", \"Topic4\", \"Topic4\", \"Topic4\", \"Topic4\", \"Topic4\", \"Topic4\", \"Topic4\", \"Topic4\", \"Topic5\", \"Topic5\", \"Topic5\", \"Topic5\", \"Topic5\", \"Topic5\", \"Topic5\", \"Topic5\", \"Topic5\", \"Topic5\", \"Topic5\", \"Topic5\", \"Topic5\", \"Topic5\", \"Topic5\", \"Topic5\", \"Topic5\", \"Topic5\", \"Topic5\", \"Topic5\", \"Topic5\", \"Topic5\", \"Topic5\", \"Topic5\", \"Topic5\", \"Topic5\", \"Topic5\", \"Topic5\", \"Topic5\", \"Topic5\", \"Topic5\", \"Topic5\", \"Topic5\", \"Topic5\", \"Topic5\", \"Topic5\", \"Topic5\", \"Topic5\", \"Topic5\", \"Topic5\", \"Topic5\", \"Topic5\", \"Topic5\", \"Topic5\", \"Topic5\", \"Topic5\", \"Topic5\", \"Topic5\", \"Topic5\", \"Topic5\", \"Topic5\", \"Topic5\", \"Topic5\", \"Topic5\", \"Topic5\", \"Topic5\", \"Topic5\", \"Topic6\", \"Topic6\", \"Topic6\", \"Topic6\", \"Topic6\", \"Topic6\", \"Topic6\", \"Topic6\", \"Topic6\", \"Topic6\", \"Topic6\", \"Topic6\", \"Topic6\", \"Topic6\", \"Topic6\", \"Topic6\", \"Topic6\", \"Topic6\", \"Topic6\", \"Topic6\", \"Topic6\", \"Topic6\", \"Topic6\", \"Topic6\", \"Topic6\", \"Topic6\", \"Topic6\", \"Topic6\", \"Topic6\", \"Topic6\", \"Topic6\", \"Topic6\", \"Topic6\", \"Topic6\", \"Topic6\", \"Topic6\", \"Topic6\", \"Topic6\", \"Topic6\", \"Topic6\", \"Topic6\", \"Topic6\", \"Topic6\", \"Topic6\", \"Topic6\", \"Topic6\", \"Topic6\", \"Topic6\", \"Topic6\", \"Topic6\", \"Topic6\", \"Topic6\", \"Topic6\", \"Topic6\", \"Topic6\", \"Topic6\", \"Topic6\", \"Topic6\", \"Topic6\", \"Topic6\", \"Topic7\", \"Topic7\", \"Topic7\", \"Topic7\", \"Topic7\", \"Topic7\", \"Topic7\", \"Topic7\", \"Topic7\", \"Topic7\", \"Topic7\", \"Topic7\", \"Topic7\", \"Topic7\", \"Topic7\", \"Topic7\", \"Topic7\", \"Topic7\", \"Topic7\", \"Topic7\", \"Topic7\", \"Topic7\", \"Topic7\", \"Topic7\", \"Topic7\", \"Topic7\", \"Topic7\", \"Topic7\", \"Topic7\", \"Topic7\", \"Topic7\", \"Topic7\", \"Topic7\", \"Topic7\", \"Topic7\", \"Topic7\", \"Topic7\", \"Topic7\", \"Topic7\", \"Topic7\", \"Topic7\", \"Topic7\", \"Topic7\", \"Topic7\", \"Topic7\", \"Topic7\", \"Topic7\", \"Topic7\", \"Topic7\", \"Topic7\", \"Topic7\", \"Topic7\", \"Topic7\", \"Topic7\", \"Topic7\", \"Topic7\", \"Topic8\", \"Topic8\", \"Topic8\", \"Topic8\", \"Topic8\", \"Topic8\", \"Topic8\", \"Topic8\", \"Topic8\", \"Topic8\", \"Topic8\", \"Topic8\", \"Topic8\", \"Topic8\", \"Topic8\", \"Topic8\", \"Topic8\", \"Topic8\", \"Topic8\", \"Topic8\", \"Topic8\", \"Topic8\", \"Topic8\", \"Topic8\", \"Topic8\", \"Topic8\", \"Topic8\", \"Topic8\", \"Topic8\", \"Topic8\", \"Topic8\", \"Topic8\", \"Topic8\", \"Topic8\", \"Topic8\", \"Topic8\", \"Topic8\", \"Topic8\", \"Topic8\", \"Topic8\", \"Topic8\", \"Topic8\", \"Topic8\", \"Topic8\", \"Topic8\", \"Topic8\", \"Topic8\", \"Topic8\", \"Topic8\", \"Topic8\", \"Topic8\", \"Topic8\", \"Topic8\", \"Topic8\", \"Topic8\", \"Topic8\", \"Topic8\", \"Topic8\", \"Topic8\", \"Topic9\", \"Topic9\", \"Topic9\", \"Topic9\", \"Topic9\", \"Topic9\", \"Topic9\", \"Topic9\", \"Topic9\", \"Topic9\", \"Topic9\", \"Topic9\", \"Topic9\", \"Topic9\", \"Topic9\", \"Topic9\", \"Topic9\", \"Topic9\", \"Topic9\", \"Topic9\", \"Topic9\", \"Topic9\", \"Topic9\", \"Topic9\", \"Topic9\", \"Topic9\", \"Topic9\", \"Topic9\", \"Topic9\", \"Topic9\", \"Topic9\", \"Topic9\", \"Topic9\", \"Topic9\", \"Topic9\", \"Topic9\", \"Topic9\", \"Topic9\", \"Topic9\", \"Topic9\", \"Topic9\", \"Topic9\", \"Topic9\", \"Topic9\", \"Topic9\", \"Topic9\", \"Topic9\", \"Topic9\", \"Topic9\", \"Topic9\", \"Topic9\", \"Topic9\", \"Topic9\", \"Topic9\", \"Topic9\", \"Topic9\", \"Topic9\", \"Topic9\", \"Topic10\", \"Topic10\", \"Topic10\", \"Topic10\", \"Topic10\", \"Topic10\", \"Topic10\", \"Topic10\", \"Topic10\", \"Topic10\", \"Topic10\", \"Topic10\", \"Topic10\", \"Topic10\", \"Topic10\", \"Topic10\", \"Topic10\", \"Topic10\", \"Topic10\", \"Topic10\", \"Topic10\", \"Topic10\", \"Topic10\", \"Topic10\", \"Topic10\", \"Topic10\", \"Topic10\", \"Topic10\", \"Topic10\", \"Topic10\", \"Topic10\", \"Topic10\", \"Topic10\", \"Topic10\", \"Topic10\", \"Topic10\", \"Topic10\", \"Topic10\", \"Topic10\", \"Topic10\", \"Topic10\", \"Topic10\", \"Topic10\", \"Topic10\", \"Topic10\", \"Topic10\", \"Topic10\", \"Topic10\", \"Topic10\", \"Topic10\", \"Topic10\", \"Topic10\", \"Topic10\", \"Topic10\", \"Topic10\", \"Topic10\", \"Topic10\", \"Topic10\", \"Topic10\", \"Topic10\", \"Topic10\", \"Topic10\", \"Topic10\", \"Topic10\", \"Topic10\"]}, \"plot.opts\": {\"ylab\": \"PC2\", \"xlab\": \"PC1\"}, \"mdsDat\": {\"y\": [-0.09473230666739027, 0.09127407346111545, -0.012182384455846993, 0.055935494170711315, 0.025454565872587664, -0.031020109300786188, -0.05078614083039629, 0.007061338910004484, 0.05442421642513588, -0.04542874758513495], \"Freq\": [16.310243296385696, 12.517617167710181, 11.78463193409493, 11.745024410584968, 9.850394478807315, 8.363982366486427, 7.770052055233262, 7.500873255883551, 7.375920956063464, 6.781260078750206], \"x\": [0.06997438269483025, 0.0691960674553128, -0.2631727675327166, 0.010247324668929527, 0.07455611764490883, 0.03576529985103151, 0.08783198068102537, 0.08194449789398552, -0.07940999790742684, -0.08693290544988026], \"topics\": [1, 2, 3, 4, 5, 6, 7, 8, 9, 10], \"cluster\": [1, 1, 1, 1, 1, 1, 1, 1, 1, 1]}, \"topic.order\": [7, 10, 4, 9, 3, 6, 1, 2, 8, 5], \"token.table\": {\"Topic\": [1, 2, 3, 4, 5, 6, 7, 8, 9, 10, 1, 2, 4, 5, 6, 7, 8, 10, 1, 3, 5, 8, 10, 1, 3, 7, 8, 10, 1, 2, 3, 4, 5, 6, 7, 8, 9, 10, 1, 3, 7, 9, 10, 1, 2, 3, 4, 6, 7, 8, 10, 2, 3, 5, 6, 7, 1, 2, 8, 9, 10, 1, 3, 4, 5, 6, 7, 8, 9, 10, 2, 4, 5, 6, 7, 10, 3, 4, 5, 9, 1, 5, 6, 7, 9, 10, 2, 3, 4, 7, 8, 1, 2, 3, 4, 6, 8, 9, 10, 1, 3, 8, 9, 10, 3, 4, 5, 9, 1, 7, 8, 10, 1, 3, 5, 6, 7, 1, 2, 4, 5, 6, 8, 9, 10, 1, 2, 3, 4, 5, 6, 7, 8, 9, 10, 1, 2, 3, 4, 5, 6, 7, 8, 9, 10, 1, 2, 3, 4, 5, 6, 7, 9, 10, 1, 2, 4, 5, 7, 8, 10, 1, 2, 3, 4, 5, 6, 7, 8, 9, 10, 1, 2, 3, 4, 5, 6, 7, 8, 9, 10, 2, 4, 5, 6, 9, 1, 2, 4, 6, 7, 8, 9, 10, 2, 5, 6, 7, 9, 10, 2, 4, 6, 9, 10, 1, 2, 3, 4, 5, 6, 7, 8, 9, 10, 1, 3, 4, 5, 6, 7, 8, 9, 1, 2, 3, 6, 3, 5, 9, 10, 1, 2, 3, 1, 3, 9, 1, 3, 4, 5, 6, 7, 9, 10, 1, 3, 4, 5, 7, 9, 10, 2, 9, 1, 2, 3, 4, 5, 6, 8, 9, 10, 1, 3, 4, 8, 9, 10, 1, 2, 4, 5, 7, 1, 2, 3, 6, 9, 10, 1, 2, 3, 4, 5, 6, 7, 8, 9, 10, 1, 2, 3, 4, 5, 6, 7, 9, 10, 1, 6, 7, 10, 1, 2, 4, 7, 9, 10, 1, 2, 3, 4, 5, 6, 7, 9, 10, 1, 2, 3, 4, 5, 6, 7, 8, 9, 10, 6, 9, 1, 2, 4, 5, 7, 8, 9, 10, 1, 4, 5, 6, 2, 4, 5, 6, 10, 1, 2, 3, 4, 5, 6, 7, 8, 10, 4, 5, 6, 7, 8, 9, 10, 1, 2, 3, 4, 5, 6, 7, 8, 9, 10, 1, 2, 3, 4, 5, 6, 7, 8, 9, 10, 2, 4, 5, 8, 10, 1, 2, 3, 4, 5, 6, 7, 8, 9, 10, 1, 4, 10, 1, 2, 3, 4, 5, 6, 7, 9, 10, 1, 2, 3, 4, 5, 6, 7, 8, 9, 10, 1, 2, 3, 4, 6, 3, 4, 6, 7, 1, 4, 7, 9, 4, 5, 6, 7, 9, 10, 1, 2, 3, 4, 5, 6, 7, 8, 9, 10, 1, 2, 4, 6, 7, 9, 10, 1, 3, 7, 8, 10, 1, 3, 4, 5, 6, 7, 8, 10, 1, 2, 7, 9, 5, 7, 9, 2, 4, 10, 1, 3, 4, 7, 8, 9, 10, 1, 2, 4, 5, 7, 10, 1, 2, 3, 4, 5, 6, 7, 8, 9, 10, 3, 4, 5, 6, 7, 8, 9, 10, 1, 2, 3, 4, 5, 6, 7, 8, 9, 10, 1, 2, 7, 8, 10, 1, 2, 3, 4, 6, 1, 2, 3, 7, 8, 10, 1, 4, 7, 9, 1, 2, 6, 7, 10, 1, 2, 6, 7, 9, 10, 1, 2, 4, 9, 1, 3, 6, 10, 1, 2, 3, 4, 5, 6, 7, 8, 9, 10, 1, 5, 6, 10, 1, 4, 1, 2, 3, 5, 8, 9, 10, 2, 3, 8, 9, 1, 2, 3, 4, 5, 6, 7, 8, 9, 10, 1, 2, 3, 4, 5, 6, 7, 8, 9, 10, 1, 2, 3, 4, 5, 6, 7, 8, 9, 10, 1, 4, 6, 7, 8, 9, 10, 1, 2, 3, 4, 5, 6, 7, 8, 9, 10, 1, 2, 3, 4, 5, 6, 7, 8, 9, 10, 1, 2, 3, 4, 5, 6, 7, 8, 9, 10, 4, 5, 6, 8, 9, 1, 2, 3, 4, 5, 6, 7, 9, 10, 1, 2, 3, 4, 5, 6, 7, 8, 9, 10, 2, 4, 5, 7, 8, 9, 1, 2, 4, 5, 6, 7, 8, 9, 10, 2, 5, 6, 8, 10, 1, 4, 5, 6, 7, 8, 9, 10, 1, 2, 3, 4, 5, 6, 7, 8, 9, 10, 1, 3, 5, 6, 8, 9, 10, 1, 4, 6, 7, 8, 1, 5, 6, 7, 10, 1, 2, 5, 8, 9, 1, 2, 4, 5, 6, 7, 8, 9, 10, 1, 3, 4, 5, 7, 8, 9, 10, 1, 3, 4, 5, 6, 10, 1, 3, 4, 6, 7, 8, 9, 10, 1, 2, 3, 4, 5, 6, 7, 8, 9, 10, 1, 2, 3, 4, 5, 6, 7, 8, 9, 10, 1, 3, 5, 9, 1, 2, 3, 4, 5, 6, 7, 8, 9, 10, 1, 2, 3, 4, 6, 8, 9, 10, 1, 6, 8, 9, 10, 1, 4, 6, 7, 9, 10, 1, 2, 4, 5, 7, 10, 1, 2, 3, 4, 5, 6, 7, 8, 9, 10, 1, 2, 3, 4, 5, 6, 7, 8, 9, 10, 1, 2, 4, 5, 6, 7, 8, 9, 3, 4, 6, 9, 10, 2, 4, 5, 6, 7, 9, 3, 6, 7, 8, 10, 1, 3, 4, 6, 10, 1, 2, 3, 4, 5, 6, 7, 8, 9, 10, 1, 4, 5, 6, 7, 9, 10, 1, 2, 3, 4, 5, 6, 7, 9, 10, 1, 2, 3, 4, 5, 6, 7, 8, 9, 10, 1, 5, 6, 9, 10, 1, 2, 4, 5, 6, 7, 9, 10, 3, 4, 6, 7, 8, 9, 10, 1, 2, 4, 5, 6, 7, 10, 2, 3, 4, 7, 8, 1, 2, 3, 7, 8, 9, 10, 1, 2, 3, 4, 5, 6, 7, 9, 10, 1, 5, 7, 9, 10, 1, 2, 3, 4, 5, 6, 7, 8, 9, 10, 1, 2, 3, 4, 5, 6, 7, 8, 9, 10, 1, 2, 3, 4, 5, 6, 7, 8, 9, 10, 1, 4, 5, 6, 8, 10, 3, 6, 7, 10, 1, 4, 8, 10, 3, 4, 9, 10, 1, 2, 4, 6, 9, 1, 2, 3, 5, 9, 2, 4, 9, 10, 1, 2, 3, 4, 6, 8, 9, 1, 2, 3, 4, 5, 6, 7, 8, 9, 10, 1, 3, 4, 5, 6, 9, 10, 1, 2, 4, 5, 8, 1, 3, 4, 7, 8, 10, 1, 2, 3, 4, 5, 6, 7, 8, 9, 10, 1, 4, 7, 9, 1, 2, 5, 9, 10, 1, 2, 3, 4, 5, 6, 7, 8, 9, 10, 1, 2, 3, 4, 5, 6, 9, 10, 1, 2, 4, 5, 6, 7, 8, 9, 10, 1, 2, 3, 4, 5, 6, 7, 8, 9, 10, 1, 2, 6, 9, 10, 1, 2, 3, 4, 5, 6, 10, 1, 2, 3, 4, 5, 6, 8, 9, 10, 1, 2, 4, 7, 8, 5, 8, 9, 1, 2, 3, 4, 5, 6, 7, 8, 9, 10, 3, 6, 7, 9, 10, 1, 2, 3, 6, 8, 2, 4, 6, 7, 8, 9, 1, 2, 3, 7, 9, 1, 2, 4, 5, 1, 2, 3, 4, 5, 6, 7, 8, 9, 10, 3, 4, 6, 7, 2, 7, 8, 9, 2, 3, 6, 7, 8, 9, 1, 2, 3, 4, 5, 6, 7, 8, 9, 10, 3, 6, 9, 3, 4, 6, 10, 6, 7, 10, 1, 2, 3, 4, 5, 6, 7, 8, 9, 10, 1, 2, 5, 6, 7, 1, 2, 3, 4, 5, 6, 7, 8, 9, 10, 1, 2, 4, 6, 7, 8, 9, 10, 1, 2, 3, 4, 6, 7, 9, 10, 1, 7, 1, 2, 3, 4, 5, 6, 8, 9, 10, 1, 3, 4, 5, 6, 10, 2, 3, 5, 6, 7, 9, 1, 2, 3, 4, 5, 6, 7, 8, 9, 10, 1, 4, 8, 10, 2, 10, 1, 2, 4, 5, 6, 7, 8, 9, 10, 1, 2, 3, 4, 5, 6, 7, 8, 9, 10, 1, 2, 4, 5, 6, 7, 8, 9, 10, 1, 2, 4, 5, 6, 7, 8, 9, 10, 1, 4, 5, 7, 8, 10, 2, 3, 4, 5, 6, 9, 1, 2, 3, 4, 5, 6, 7, 8, 9, 10, 2, 3, 5, 1, 2, 4, 5, 6, 7, 8, 9, 2, 4, 5, 10, 1, 4, 5, 6, 7, 8, 9, 10, 1, 2, 3, 4, 5, 6, 7, 8, 9, 10, 1, 2, 8, 3, 4, 7, 1, 3, 7, 8, 10, 1, 3, 7, 8, 10, 1, 2, 4, 5, 6, 7, 8, 9, 10, 2, 5, 6, 7, 8, 9, 10, 1, 2, 3, 4, 5, 6, 7, 8, 9, 10, 1, 2, 5, 6, 9, 1, 4, 5, 6, 8, 9, 10, 1, 2, 4, 5, 7, 9, 10, 1, 2, 3, 4, 5, 6, 8, 9, 10, 1, 2, 3, 4, 5, 6, 7, 8, 9, 10, 2, 3, 6, 7, 8, 1, 3, 4, 5, 6, 7, 9, 1, 3, 5, 6, 7, 8, 9, 10, 1, 4, 5, 8, 10, 1, 3, 4, 5, 6, 7, 8, 9, 10, 1, 2, 3, 4, 5, 6, 7, 8, 9, 10, 1, 2, 6, 7, 8, 10, 1, 6, 7, 10, 1, 2, 3, 4, 5, 6, 7, 8, 9, 10, 1, 2, 3, 4, 5, 6, 7, 8, 9, 10, 1, 3, 7, 10, 1, 2, 3, 4, 5, 6, 7, 8, 9, 10, 1, 2, 4, 5, 6, 8, 9, 10, 1, 2, 3, 8, 1, 2, 5, 6, 7, 8, 10, 1, 2, 3, 5, 9, 10, 1, 2, 4, 6, 9, 1, 2, 3, 4, 5, 7, 8, 9, 2, 3, 4, 5, 6, 7, 8, 9, 1, 4, 7, 8, 3, 5, 8, 10, 2, 4, 10, 1, 5, 1, 2, 3, 4, 6, 8, 9, 10, 1, 4, 5, 8, 9, 10, 1, 2, 5, 7, 9, 10, 1, 2, 3, 4, 5, 6, 7, 8, 9, 10, 1, 2, 3, 4, 5, 6, 7, 9, 10, 1, 2, 3, 4, 5, 6, 7, 8, 10, 1, 4, 5, 9, 10, 1, 2, 3, 4, 5, 6, 7, 8, 9, 10, 1, 2, 4, 5, 6, 7, 8, 9, 10, 1, 2, 4, 7, 1, 2, 6, 8, 10, 1, 4, 7, 9, 1, 5, 7, 9, 10, 1, 4, 5, 7, 8, 1, 2, 3, 4, 5, 6, 7, 8, 10, 1, 2, 3, 4, 5, 6, 8, 9, 10, 1, 2, 3, 4, 5, 6, 7, 8, 9, 10, 2, 3, 4, 5, 7, 9, 10, 1, 2, 3, 4, 5, 6, 7, 8, 9, 1, 2, 4, 7, 8, 9, 1, 4, 1, 2, 4, 5, 6, 7, 8, 9, 10, 1, 2, 3, 4, 5, 6, 7, 8, 9, 10, 1, 2, 7, 8, 10, 2, 5, 6, 8, 10, 1, 4, 5, 6, 8, 9, 1, 2, 4, 5, 6, 7, 8, 9, 10, 1, 2, 3, 4, 5, 6, 7, 9, 1, 5, 6, 9, 1, 3, 4, 8, 10, 1, 2, 3, 5, 6, 7, 8, 9, 10, 1, 2, 3, 4, 5, 6, 7, 8, 9, 10, 1, 2, 3, 4, 5, 6, 7, 8, 9, 10, 1, 2, 3, 4, 5, 6, 7, 8, 9, 10, 1, 4, 6, 7, 8, 10, 1, 3, 4, 5, 7, 8, 10, 1, 3, 4, 5, 6, 7, 9, 1, 2, 3, 4, 5, 6, 7, 9, 10, 1, 2, 4, 5, 7, 1, 2, 3, 4, 5, 6, 7, 8, 9, 10, 1, 8, 1, 6, 7, 1, 3, 4, 9, 1, 2, 3, 4, 5, 6, 7, 9, 10, 1, 5, 9, 10, 3, 9, 10, 1, 2, 3, 4, 9, 10, 1, 2, 5, 9, 10, 1, 2, 4, 6, 8, 6, 9, 10, 4, 6, 7, 9, 10, 1, 2, 3, 4, 5, 6, 7, 8, 9, 10, 1, 4, 6, 7, 2, 3, 4, 5, 10, 2, 4, 5, 8, 10, 1, 2, 3, 4, 5, 6, 7, 8, 9, 10, 1, 4, 5, 6, 7, 8, 9, 1, 3, 4, 9, 1, 2, 3, 4, 5, 6, 7, 8, 9, 10, 1, 2, 7, 8, 10, 1, 2, 4, 5, 6, 7, 8, 9, 10, 1, 4, 5, 8, 9, 10, 1, 2, 3, 4, 9, 2, 4, 7, 8, 9, 1, 2, 3, 8, 1, 2, 4, 5, 7, 8, 2, 3, 5, 6, 7, 3, 4, 9, 10, 1, 2, 4, 5, 7, 10, 7, 8, 9, 10, 1, 2, 4, 8, 1, 2, 3, 4, 5, 6, 7, 10, 1, 2, 8, 9, 10, 1, 2, 3, 4, 5, 6, 7, 8, 1, 4, 6, 1, 2, 3, 4, 5, 6, 7, 8, 9, 10, 4, 7, 9, 1, 2, 3, 4, 5, 6, 7, 8, 9, 10, 2, 3, 4, 6, 9, 10, 2, 4, 5, 4, 5, 6, 8, 9, 10, 2, 4, 6, 7, 10, 1, 2, 3, 4, 5, 6, 7, 8, 9, 10, 2, 3, 4, 7, 8, 9, 10, 1, 2, 3, 4, 5, 6, 7, 8, 9, 10, 1, 3, 5, 7, 9, 10, 1, 4, 5, 6, 3, 4, 5, 6, 9, 10, 1, 2, 3, 4, 5, 6, 7, 8, 9, 10, 2, 3, 8, 9, 1, 2, 3, 4, 5, 6, 7, 8, 9, 10, 1, 3, 5, 6, 7, 9, 1, 2, 3, 4, 5, 6, 7, 8, 9, 10, 1, 3, 4, 5, 6, 7, 8, 10, 1, 2, 3, 4, 5, 6, 7, 8, 9, 10, 1, 2, 3, 4, 5, 6, 9, 10, 1, 2, 3, 4, 6, 7, 8, 9, 1, 2, 3, 4, 5, 6, 7, 8, 9, 10, 1, 2, 5, 6, 7, 8, 10, 1, 4, 5, 7, 10, 1, 2, 3, 4, 7, 9, 3, 4, 7, 9, 1, 9, 1, 2, 3, 4, 5, 6, 7, 8, 10, 1, 5, 6, 7, 1, 2, 3, 4, 6, 7, 8, 9, 10, 1, 7, 8, 10, 1, 2, 3, 4, 5, 6, 7, 8, 9, 10, 1, 2, 3, 9, 10, 1, 2, 3, 4, 5, 6, 7, 8, 9, 10, 1, 2, 4, 5, 10, 1, 4, 5, 6, 7, 1, 2, 3, 4, 5, 7, 9, 10, 1, 3, 10, 1, 3, 4, 5, 6, 7, 9, 1, 2, 3, 4, 5, 7, 1, 2, 3, 4, 5, 10, 1, 2, 3, 4, 5, 6, 7, 8, 9, 10, 1, 2, 6, 7, 8, 10, 1, 4, 8, 9, 10, 5, 6, 8, 9, 1, 3, 4, 5, 6, 8, 9, 2, 3, 4, 5, 6, 9, 10, 1, 2, 4, 7, 8, 2, 4, 9, 1, 2, 8, 10, 2, 3, 4, 5, 6, 7, 9, 1, 9, 1, 4, 6, 7, 9, 10, 1, 3, 4, 9, 1, 2, 4, 5, 6, 7, 1, 2, 4, 5, 6, 7, 8, 9, 3, 4, 6, 7, 8, 10, 1, 7, 8, 10, 2, 4, 6, 1, 2, 4, 5, 7, 9, 10, 1, 2, 3, 4, 5, 6, 7, 9, 10, 1, 3, 7, 9, 1, 2, 5, 6, 9, 1, 2, 4, 5, 7, 8, 9, 10, 1, 2, 3, 4, 7, 8, 9, 4, 5, 6, 10, 1, 2, 4, 5, 6, 7, 8, 9, 10, 2, 4, 7, 8, 9, 10, 4, 6, 7, 8, 9, 1, 2, 4, 5, 6, 8, 1, 4, 7, 3, 6, 7, 1, 4, 6, 7, 10, 1, 2, 6, 7, 10, 1, 2, 4, 5, 6, 7, 9], \"Freq\": [0.2526091865354469, 0.24058017765280656, 0.022339587924903467, 0.17356141387809618, 0.08763992185923668, 0.05498975489207007, 0.012029008882640328, 0.04296074600942974, 0.04639760569018412, 0.06530033393433321, 0.07567982406813901, 0.11351973610220852, 0.15135964813627803, 0.03783991203406951, 0.03783991203406951, 0.11351973610220852, 0.34055920830662556, 0.11351973610220852, 0.1182810216754343, 0.1182810216754343, 0.29570255418858576, 0.3548430650263029, 0.1182810216754343, 0.30042855493136994, 0.10014285164378998, 0.10014285164378998, 0.10014285164378998, 0.30042855493136994, 0.026781891335905833, 0.14997859148107268, 0.058920160938992834, 0.16604772628261616, 0.15533496974825384, 0.058920160938992834, 0.06963291747335516, 0.10712756534362333, 0.1767604828169785, 0.03749464787026817, 0.08781072063012844, 0.08781072063012844, 0.6146750444108992, 0.08781072063012844, 0.08781072063012844, 0.10067571577843554, 0.07550678683382665, 0.025168928944608884, 0.1258446447230444, 0.17618250261226218, 0.07550678683382665, 0.35236500522452435, 0.07550678683382665, 0.07149679518229825, 0.4289807710937895, 0.21449038554689476, 0.07149679518229825, 0.07149679518229825, 0.13993235315550176, 0.09328823543700117, 0.046644117718500584, 0.559729412622007, 0.13993235315550176, 0.12862071791207727, 0.18006900507690818, 0.15434486149449272, 0.05144828716483091, 0.025724143582415454, 0.025724143582415454, 0.12862071791207727, 0.07717243074724636, 0.25724143582415454, 0.4335032891933847, 0.0481670321325983, 0.0963340642651966, 0.24083516066299152, 0.0481670321325983, 0.0481670321325983, 0.05796314743145035, 0.08694472114717552, 0.14490786857862586, 0.666576195461679, 0.340890415396903, 0.0973972615419723, 0.0973972615419723, 0.340890415396903, 0.0973972615419723, 0.04869863077098615, 0.6690841093273356, 0.051468008409795055, 0.051468008409795055, 0.051468008409795055, 0.10293601681959011, 0.06044271739308955, 0.18132815217926865, 0.06044271739308955, 0.06044271739308955, 0.020147572464363182, 0.42309902175162684, 0.06044271739308955, 0.10073786232181592, 0.22543315569137098, 0.3381497335370565, 0.11271657784568549, 0.11271657784568549, 0.11271657784568549, 0.09836047236655553, 0.19672094473311105, 0.49180236183277765, 0.09836047236655553, 0.10638377020632325, 0.053191885103161626, 0.6914945063411012, 0.1595756553094849, 0.3566518524667625, 0.03566518524667625, 0.0713303704933525, 0.3566518524667625, 0.142660740986705, 0.1422491739505273, 0.07902731886140404, 0.3003038116733354, 0.01580546377228081, 0.03161092754456162, 0.18966556526736972, 0.06322185508912324, 0.1738601014950889, 0.029607025195212935, 0.1361923158979795, 0.05329264535138328, 0.23685620156170348, 0.20724917636649054, 0.20132777132744795, 0.035528430234255524, 0.07105686046851105, 0.017764215117127762, 0.011842810078085174, 0.0917772711056152, 0.5139527181914452, 0.055066362663369124, 0.055066362663369124, 0.07342181688449216, 0.07342181688449216, 0.07342181688449216, 0.01835545422112304, 0.055066362663369124, 0.01835545422112304, 0.14665805350336195, 0.3142672575072042, 0.01047557525024014, 0.13618247825312182, 0.03142672575072042, 0.06285345150144084, 0.06285345150144084, 0.07332902675168097, 0.1571336287536021, 0.5226999690504394, 0.09503635800917079, 0.09503635800917079, 0.023759089502292698, 0.1663136265160489, 0.023759089502292698, 0.047518179004585395, 0.23095478725452662, 0.13371066630525225, 0.012155515118659296, 0.23095478725452662, 0.03646654535597789, 0.03646654535597789, 0.012155515118659296, 0.23095478725452662, 0.03646654535597789, 0.012155515118659296, 0.05019945725964761, 0.07529918588947142, 0.025099728629823806, 0.12549864314911904, 0.17569810040876666, 0.05019945725964761, 0.17569810040876666, 0.025099728629823806, 0.025099728629823806, 0.2509972862982381, 0.03280679657086884, 0.3280679657086884, 0.06561359314173767, 0.1640339828543442, 0.3608747622795572, 0.4309744232324882, 0.18073120974265633, 0.09731680524604572, 0.013902400749435101, 0.0695120037471755, 0.09731680524604572, 0.08341440449661061, 0.013902400749435101, 0.2565193656904577, 0.08550645523015256, 0.34202582092061024, 0.08550645523015256, 0.08550645523015256, 0.08550645523015256, 0.07336230401340821, 0.36681152006704104, 0.29344921605363283, 0.07336230401340821, 0.14672460802681642, 0.11766893750880829, 0.2521477232331606, 0.03361969643108808, 0.10926401340103627, 0.06723939286217616, 0.22693295090984456, 0.0420246205388601, 0.0420246205388601, 0.0840492410777202, 0.02521477232331606, 0.11644217094238049, 0.058221085471190245, 0.11644217094238049, 0.058221085471190245, 0.058221085471190245, 0.058221085471190245, 0.11644217094238049, 0.34932651282714144, 0.10393310603803858, 0.05196655301901929, 0.10393310603803858, 0.6235986362282315, 0.5820132858552901, 0.1662895102443686, 0.0831447551221843, 0.0831447551221843, 0.8686314748123233, 0.054289467175770205, 0.054289467175770205, 0.2423425609627675, 0.6664420426476105, 0.06058564024069187, 0.4720674047440461, 0.10659586558736525, 0.030455961596390073, 0.16750778878014538, 0.045683942394585106, 0.045683942394585106, 0.060911923192780146, 0.060911923192780146, 0.22994601765928824, 0.02874325220741103, 0.02874325220741103, 0.5173785397333985, 0.02874325220741103, 0.08622975662223309, 0.05748650441482206, 0.09606705710645391, 0.7685364568516313, 0.14921655907524367, 0.007460827953762183, 0.22755525258974657, 0.16786862895964913, 0.04103455374569201, 0.10445159135267057, 0.014921655907524365, 0.10072117737578948, 0.1827902848671735, 0.061767378375430226, 0.12353475675086045, 0.12353475675086045, 0.12353475675086045, 0.18530213512629068, 0.30883689187715113, 0.16218256301808814, 0.08109128150904407, 0.08109128150904407, 0.48654768905426443, 0.08109128150904407, 0.05867935464710122, 0.05867935464710122, 0.05867935464710122, 0.11735870929420245, 0.5281141918239111, 0.11735870929420245, 0.034084588805266325, 0.284038240043886, 0.022723059203510882, 0.14769988482282073, 0.06816917761053265, 0.011361529601755441, 0.011361529601755441, 0.35220741765441865, 0.06816917761053265, 0.011361529601755441, 0.10312632353005007, 0.09797000735354756, 0.17531475000108512, 0.24750317647212017, 0.05156316176502503, 0.07734474264753755, 0.02062526470601001, 0.06703211029453254, 0.1598458014715776, 0.46271034022455104, 0.05783879252806888, 0.2891939626403444, 0.11567758505613776, 0.07664543758255879, 0.15329087516511758, 0.07664543758255879, 0.5365180630779116, 0.07664543758255879, 0.07664543758255879, 0.034318404010342286, 0.23164922706981045, 0.22306962606722489, 0.09437561102844129, 0.017159202005171143, 0.08579601002585573, 0.025738803007756716, 0.1544328180465403, 0.12869401503878358, 0.04498609131085058, 0.13120943298998086, 0.02249304565542529, 0.06747913696627587, 0.06373029602370499, 0.1499536377028353, 0.3711352533145173, 0.029990727540567055, 0.007497681885141764, 0.11246522827712646, 0.13382025632767575, 0.8029215379660544, 0.5891204264663129, 0.014368790889422266, 0.028737581778844532, 0.11495032711537813, 0.0431063726682668, 0.028737581778844532, 0.0862127453365336, 0.0862127453365336, 0.563036818804236, 0.093839469800706, 0.187678939601412, 0.093839469800706, 0.5369081255465296, 0.07670116079236136, 0.15340232158472272, 0.15340232158472272, 0.07670116079236136, 0.1492443479928987, 0.0852824845673707, 0.12792372685105605, 0.06396186342552802, 0.04264124228368535, 0.3624505594113255, 0.06396186342552802, 0.021320621141842674, 0.06396186342552802, 0.40622480923971543, 0.05803211560567363, 0.11606423121134726, 0.05803211560567363, 0.29016057802836814, 0.05803211560567363, 0.05803211560567363, 0.2372222721515231, 0.05798766652592787, 0.021086424191246497, 0.04744445443030462, 0.35319760520337884, 0.010543212095623249, 0.10016051490842087, 0.11070372700404411, 0.02635803023905812, 0.031629636286869746, 0.08401936355782912, 0.3696851996544481, 0.008401936355782912, 0.15963679075987533, 0.09242129991361203, 0.11762710898096077, 0.016803872711565825, 0.008401936355782912, 0.10082323626939495, 0.04200968177891456, 0.22120302631218194, 0.07373434210406064, 0.1474686842081213, 0.36867171052030323, 0.1474686842081213, 0.4401153166079058, 0.15555799983555293, 0.026558682898752937, 0.0682937560253647, 0.053117365797505874, 0.026558682898752937, 0.06070556091143529, 0.09105834136715293, 0.049323268240541174, 0.026558682898752937, 0.052597253704607445, 0.3681807759322521, 0.5785697907506819, 0.032102220924755086, 0.2247155464732856, 0.06420444184951017, 0.09630666277426526, 0.06420444184951017, 0.09630666277426526, 0.28891998832279575, 0.06420444184951017, 0.032102220924755086, 0.14412847088132072, 0.124248681794242, 0.17394815451193882, 0.08945905089185424, 0.10436889270716329, 0.11927873452247233, 0.06460931453300585, 0.05963936726123616, 0.054669419989466485, 0.05963936726123616, 0.24171761677956627, 0.0805725389265221, 0.0805725389265221, 0.0805725389265221, 0.48343523355913254, 0.49318625673854555, 0.24659312836927277, 0.14795587702156365, 0.04931862567385455, 0.1009758428192297, 0.15146376422884456, 0.05048792140961485, 0.656342978324993, 0.0778511366850198, 0.46710682011011884, 0.1557022733700396, 0.0778511366850198, 0.0778511366850198, 0.0778511366850198, 0.017563006624282496, 0.08781503312141249, 0.07025202649712999, 0.3688231391099324, 0.14050405299425997, 0.05268901987284749, 0.10537803974569498, 0.07025202649712999, 0.05268901987284749, 0.03512601324856499, 0.07321092287601576, 0.07321092287601576, 0.07321092287601576, 0.07321092287601576, 0.14642184575203152, 0.21963276862804726, 0.21963276862804726, 0.18488244993413355, 0.3697648998682671, 0.18488244993413355, 0.1232549666227557, 0.1232549666227557, 0.022038966220985442, 0.022038966220985442, 0.3085455270937962, 0.044077932441970884, 0.044077932441970884, 0.3085455270937962, 0.19835069598886898, 0.044077932441970884, 0.10125710710129364, 0.10125710710129364, 0.3037713213038809, 0.40502842840517456, 0.47563495397642397, 0.47563495397642397, 0.059454369247052996, 0.7100096744023552, 0.14200193488047103, 0.07100096744023551, 0.06282315538770285, 0.5654083984893257, 0.2094105179590095, 0.06282315538770285, 0.0418821035918019, 0.02094105179590095, 0.02094105179590095, 0.06990027997554878, 0.41940167985329263, 0.06990027997554878, 0.13980055995109755, 0.20970083992664632, 0.06990027997554878, 0.10989163188909591, 0.12747429299135127, 0.052747983306766034, 0.15384828464473427, 0.10549596661353207, 0.16263961519586195, 0.06153931385789371, 0.11868296244022358, 0.07912197496014906, 0.030769656928946856, 0.08043520298480722, 0.08043520298480722, 0.4021760149240361, 0.08043520298480722, 0.08043520298480722, 0.08043520298480722, 0.08043520298480722, 0.16087040596961444, 0.09456591393549477, 0.178908485823909, 0.1329034466120467, 0.10478925598257528, 0.03833753267655193, 0.06645172330602335, 0.04856087472363245, 0.13801511763558696, 0.11245676251788567, 0.08434257188841425, 0.49832589869632876, 0.10491071551501659, 0.18359375215127902, 0.05245535775750829, 0.13113839439377073, 0.061217766127031815, 0.4285243628892227, 0.18365329838109543, 0.061217766127031815, 0.18365329838109543, 0.07691097425540895, 0.038455487127704475, 0.7691097425540896, 0.05768323069155672, 0.019227743563852238, 0.019227743563852238, 0.20559689764949135, 0.23496788302799013, 0.029370985378498766, 0.499306751434479, 0.07831857693310482, 0.07831857693310482, 0.11747786539965722, 0.5873893269982862, 0.07831857693310482, 0.16264184019602407, 0.16264184019602407, 0.05421394673200802, 0.05421394673200802, 0.32528368039204814, 0.2168557869280321, 0.27961991555204535, 0.419429873328068, 0.06990497888801134, 0.13980995777602268, 0.040621740787733236, 0.7311913341791983, 0.12186522236319972, 0.040621740787733236, 0.11782025412061713, 0.26930343798998196, 0.019636709020102852, 0.14026220728644895, 0.08696256851759836, 0.10098878924624324, 0.05049439462312162, 0.07293634778895346, 0.09537830095478529, 0.05049439462312162, 0.5834368814699609, 0.11668737629399217, 0.11668737629399217, 0.11668737629399217, 0.029112861867005502, 0.9316115797441761, 0.4947930264568325, 0.10308188051184011, 0.020616376102368023, 0.020616376102368023, 0.12369825661420812, 0.020616376102368023, 0.16493100881894418, 0.5615715580844941, 0.1531558794775893, 0.20420783930345238, 0.051051959825863094, 0.04961573023956262, 0.1984629209582505, 0.02480786511978131, 0.396925841916501, 0.07442359535934392, 0.02480786511978131, 0.07442359535934392, 0.02480786511978131, 0.04961573023956262, 0.07442359535934392, 0.11307066737816836, 0.03769022245938945, 0.13191577860786308, 0.0753804449187789, 0.09422555614847362, 0.32036689090481035, 0.0753804449187789, 0.018845111229694726, 0.05653533368908418, 0.05653533368908418, 0.18338480445352282, 0.10479131683058446, 0.06112826815117427, 0.03493043894352815, 0.08732609735882038, 0.3493043894352815, 0.03493043894352815, 0.008732609735882038, 0.03493043894352815, 0.09605870709470242, 0.3862903420958387, 0.10916900972273702, 0.1595547065178464, 0.1847475549154011, 0.06718092906014586, 0.05038569679510939, 0.04198808066259116, 0.28298167771933186, 0.08162933011134574, 0.16870061556344784, 0.02176782136302553, 0.1251649728373968, 0.054419553407563825, 0.16325866022269148, 0.027209776703781913, 0.016325866022269146, 0.054419553407563825, 0.12293402684223426, 0.29693295714201196, 0.011347756323898547, 0.05106490345754346, 0.1475208322106811, 0.08699946514988886, 0.05673878161949274, 0.08699946514988886, 0.11158627051833571, 0.02836939080974637, 0.15353485861581914, 0.04187314325885977, 0.04885200046866973, 0.11864057256676934, 0.22332343071391875, 0.13259828698638926, 0.027915428839239843, 0.09770400093733946, 0.11166171535695937, 0.04187314325885977, 0.15073516245276564, 0.15073516245276564, 0.07536758122638282, 0.4522054873582969, 0.15073516245276564, 0.15268962447987397, 0.04771550764996061, 0.09543101529992122, 0.14314652294988184, 0.39126716272967704, 0.009543101529992123, 0.03817240611996849, 0.03817240611996849, 0.09543101529992122, 0.1292183643194083, 0.04307278810646943, 0.03230459107985208, 0.13998656134602566, 0.15075475837264302, 0.06460918215970415, 0.21536394053234717, 0.05384098513308679, 0.13998656134602566, 0.021536394053234716, 0.17023283823224214, 0.06809313529289686, 0.03404656764644843, 0.17023283823224214, 0.3404656764644843, 0.20427940587869056, 0.032079261447336485, 0.2245548301313554, 0.05774267060520567, 0.06415852289467297, 0.08340607976307486, 0.17964386410508432, 0.08340607976307486, 0.16039630723668244, 0.11548534121041135, 0.17310869133138754, 0.5193260739941626, 0.08655434566569377, 0.08655434566569377, 0.12983151849854066, 0.04644602028632668, 0.4180141825769402, 0.13933806085898007, 0.04644602028632668, 0.04644602028632668, 0.04644602028632668, 0.04644602028632668, 0.18578408114530673, 0.20892679138174866, 0.0841510687509821, 0.002901760991413176, 0.05513345883685034, 0.2176320743559882, 0.16540037651055103, 0.08124930775956893, 0.07544578577674257, 0.02901760991413176, 0.07834754676815575, 0.6960191471649175, 0.08700239339561469, 0.02900079779853823, 0.02900079779853823, 0.02900079779853823, 0.02900079779853823, 0.08700239339561469, 0.14463766626777913, 0.07231883313388957, 0.28927533253555826, 0.07231883313388957, 0.4339129988033374, 0.47266299485213903, 0.08593872633675255, 0.042969363168376275, 0.25781617901025766, 0.08593872633675255, 0.8581684112575626, 0.03651780473436436, 0.03651780473436436, 0.03651780473436436, 0.01825890236718218, 0.3921205417304765, 0.1568482166921906, 0.24647576908772809, 0.044813776197768745, 0.03361033214832656, 0.022406888098884373, 0.05601722024721093, 0.03361033214832656, 0.022406888098884373, 0.10537090358079727, 0.05268545179039864, 0.10537090358079727, 0.10537090358079727, 0.3687981625327904, 0.10537090358079727, 0.05268545179039864, 0.05268545179039864, 0.040013460063106396, 0.040013460063106396, 0.20006730031553197, 0.5601884408834895, 0.08002692012621279, 0.08002692012621279, 0.03261581992242101, 0.019569491953452606, 0.11741695172071563, 0.18917175555004187, 0.026092655937936807, 0.5740384306346098, 0.013046327968968404, 0.013046327968968404, 0.0734596097998289, 0.04897307319988594, 0.02448653659994297, 0.04897307319988594, 0.02448653659994297, 0.36729804899914453, 0.02448653659994297, 0.2938384391993156, 0.02448653659994297, 0.0734596097998289, 0.13732310351026508, 0.07629061306125838, 0.04577436783675502, 0.3661949426940402, 0.03051624522450335, 0.09154873567351005, 0.04577436783675502, 0.03051624522450335, 0.07629061306125838, 0.10680685828576172, 0.2110318796713011, 0.02344798663014457, 0.703439598904337, 0.02344798663014457, 0.22785039648199748, 0.048825084960428033, 0.024412542480214017, 0.08137514160071338, 0.15461276904135543, 0.03255005664028535, 0.008137514160071338, 0.07323762744064205, 0.1464752548812841, 0.19530033984171213, 0.030246321314510726, 0.045369481971766094, 0.36295585577412875, 0.07561580328627682, 0.06049264262902145, 0.030246321314510726, 0.2419705705160858, 0.13610844591529828, 0.07677963184434655, 0.5374574229104259, 0.1535592636886931, 0.07677963184434655, 0.07677963184434655, 0.08589996845629141, 0.4867664879189847, 0.05726664563752761, 0.20043325973134662, 0.05726664563752761, 0.11453329127505522, 0.09029920687427258, 0.09029920687427258, 0.3611968274970903, 0.18059841374854516, 0.09029920687427258, 0.09029920687427258, 0.053411663321904196, 0.08901943886984033, 0.062313607208888226, 0.26705831660952095, 0.1958427655136487, 0.07121555109587226, 0.044509719434920166, 0.044509719434920166, 0.062313607208888226, 0.10682332664380839, 0.1167791233600038, 0.1167791233600038, 0.04671164934400152, 0.44376066876801445, 0.02335582467200076, 0.0583895616800019, 0.02335582467200076, 0.0583895616800019, 0.08174538635200267, 0.02335582467200076, 0.16009590189647557, 0.10673060126431705, 0.10673060126431705, 0.053365300632158524, 0.053365300632158524, 0.053365300632158524, 0.37355710442510964, 0.10673060126431705, 0.33581220500118125, 0.03358122050011812, 0.06716244100023624, 0.5037183075017718, 0.03358122050011812, 0.16532469204855552, 0.16532469204855552, 0.46290913773595543, 0.0661298768194222, 0.0661298768194222, 0.0661298768194222, 0.055809503595278635, 0.3348570215716718, 0.3348570215716718, 0.055809503595278635, 0.1674285107858359, 0.3231694338122951, 0.16158471690614756, 0.08079235845307378, 0.16158471690614756, 0.24237707535922134, 0.20259391588169035, 0.03376565264694839, 0.03376565264694839, 0.03376565264694839, 0.06753130529389678, 0.13506261058779356, 0.03376565264694839, 0.3376565264694839, 0.06753130529389678, 0.03376565264694839, 0.17402629311439707, 0.05800876437146569, 0.17402629311439707, 0.05800876437146569, 0.05800876437146569, 0.05800876437146569, 0.4640701149717255, 0.013204064683067797, 0.013204064683067797, 0.052816258732271186, 0.2772853583444237, 0.019806097024601694, 0.14524471151374577, 0.3631117787843644, 0.07922438809840678, 0.03301016170766949, 0.01610106078953283, 0.0006314141486091306, 0.6718246541201149, 0.03062358620754283, 0.006945555634700436, 0.020520959829796744, 0.0003157070743045653, 0.0037884848916547834, 0.10607757696633394, 0.1426995975856635, 0.0874600629088253, 0.1749201258176506, 0.2623801887264759, 0.0874600629088253, 0.2623801887264759, 0.12654652877551478, 0.10846845323615553, 0.4881080395626999, 0.18078075539359253, 0.018078075539359254, 0.018078075539359254, 0.03615615107871851, 0.03615615107871851, 0.43724570018353376, 0.12492734290958107, 0.020821223818263512, 0.020821223818263512, 0.020821223818263512, 0.1457485667278446, 0.20821223818263512, 0.058799804819514724, 0.11759960963902945, 0.058799804819514724, 0.5291982433756325, 0.11759960963902945, 0.058799804819514724, 0.058799804819514724, 0.4937032211956464, 0.1851387079483674, 0.0617129026494558, 0.1234258052989116, 0.0617129026494558, 0.18192919236252, 0.09096459618126, 0.13644689427189, 0.022741149045315, 0.36385838472504, 0.022741149045315, 0.20467034140783502, 0.10174533782703613, 0.10174533782703613, 0.02543633445675903, 0.07630900337027709, 0.45785402022166255, 0.10174533782703613, 0.07630900337027709, 0.02543633445675903, 0.05087266891351806, 0.20186784447132877, 0.20186784447132877, 0.20186784447132877, 0.30280176670699316, 0.10093392223566439, 0.10631452863757061, 0.18225347766440678, 0.045563369416101694, 0.045563369416101694, 0.060751159221468926, 0.045563369416101694, 0.060751159221468926, 0.34931916552344633, 0.060751159221468926, 0.060751159221468926, 0.1659225824882199, 0.1290508974908377, 0.1659225824882199, 0.06452544874541885, 0.0737433699947644, 0.04608960624672775, 0.00921792124934555, 0.0368716849973822, 0.23044803123363874, 0.0737433699947644, 0.017198996676791662, 0.06879598670716665, 0.017198996676791662, 0.06879598670716665, 0.05159699003037499, 0.44717391359658326, 0.017198996676791662, 0.22358695679829163, 0.017198996676791662, 0.06879598670716665, 0.04669743542754479, 0.18678974171017915, 0.09339487085508957, 0.4202769188479031, 0.18678974171017915, 0.04669743542754479, 0.40180465916435415, 0.40180465916435415, 0.13393488638811804, 0.04464496212937268, 0.08213921266508757, 0.08213921266508757, 0.6571137013207006, 0.16427842533017514, 0.3906592951159527, 0.03906592951159527, 0.3125274360927622, 0.23439557706957165, 0.15375773320321434, 0.05125257773440478, 0.15375773320321434, 0.5637783550784525, 0.05125257773440478, 0.050089181341533305, 0.7513377201229996, 0.050089181341533305, 0.050089181341533305, 0.050089181341533305, 0.10914796666546846, 0.5457398333273423, 0.10914796666546846, 0.10914796666546846, 0.04572164593320034, 0.09144329186640068, 0.18288658373280137, 0.45721645933200344, 0.04572164593320034, 0.09144329186640068, 0.04572164593320034, 0.3829515854547098, 0.22664481588135885, 0.007815338478667546, 0.035169023154003956, 0.16802977729135224, 0.05079970011133905, 0.035169023154003956, 0.04689203087200528, 0.031261353914670185, 0.015630676957335093, 0.034464750113644464, 0.37911225125008907, 0.10339425034093339, 0.06892950022728893, 0.034464750113644464, 0.20678850068186677, 0.20678850068186677, 0.04300089203607907, 0.04300089203607907, 0.04300089203607907, 0.04300089203607907, 0.7740160566494233, 0.3128995439217842, 0.07822488598044605, 0.07822488598044605, 0.1564497719608921, 0.07822488598044605, 0.23467465794133818, 0.07198192827995299, 0.45403985530431884, 0.04429657124920184, 0.1495009279660562, 0.0553707140615023, 0.00553707140615023, 0.07198192827995299, 0.08859314249840368, 0.03322242843690138, 0.02214828562460092, 0.20554847385070657, 0.23491254154366467, 0.029364067692958084, 0.4991891507802874, 0.11082993747233236, 0.5541496873616618, 0.11082993747233236, 0.11082993747233236, 0.11082993747233236, 0.0844144628734869, 0.1074365891117106, 0.1688289257469738, 0.230221262382237, 0.0383702103970395, 0.1074365891117106, 0.153480841588158, 0.0460442524764474, 0.0460442524764474, 0.0306961683176316, 0.09007661024691042, 0.060051073497940276, 0.060051073497940276, 0.27022983074073126, 0.1501276837448507, 0.1501276837448507, 0.030025536748970138, 0.21017875724279098, 0.10164521024366323, 0.050822605121831614, 0.10164521024366323, 0.050822605121831614, 0.3557582358528213, 0.050822605121831614, 0.10164521024366323, 0.050822605121831614, 0.050822605121831614, 0.4684427231927273, 0.10550511783619984, 0.04642225184792793, 0.029541432994135954, 0.021101023567239967, 0.05064245656137592, 0.1434869602572318, 0.09284450369585585, 0.021101023567239967, 0.021101023567239967, 0.08953882309834459, 0.17907764619668917, 0.44769411549172294, 0.08953882309834459, 0.17907764619668917, 0.049756179018195734, 0.049756179018195734, 0.1492685370545872, 0.4478056111637616, 0.1492685370545872, 0.049756179018195734, 0.09951235803639147, 0.07416204641631506, 0.4153074599313643, 0.059329637133052046, 0.17798891139915615, 0.04449722784978904, 0.029664818566526023, 0.04449722784978904, 0.08899445569957808, 0.07416204641631506, 0.06345186764731481, 0.19035560294194442, 0.06345186764731481, 0.44416307353120366, 0.12690373529462962, 0.8294084323277933, 0.06635267458622346, 0.06635267458622346, 0.11421381088644794, 0.08566035816483596, 0.11421381088644794, 0.05710690544322397, 0.1427672636080599, 0.028553452721611985, 0.09993708452564194, 0.1570439899688659, 0.028553452721611985, 0.1713207163296719, 0.06289051471444536, 0.06289051471444536, 0.7546861765733442, 0.06289051471444536, 0.06289051471444536, 0.6085663509535629, 0.057958700090815524, 0.057958700090815524, 0.17387610027244657, 0.057958700090815524, 0.033185507536115946, 0.3318550753611595, 0.09955652260834784, 0.09955652260834784, 0.4314115979695073, 0.033185507536115946, 0.1677456805903736, 0.11183045372691573, 0.11183045372691573, 0.5032370417711207, 0.055915226863457866, 0.07321625613219805, 0.2928650245287922, 0.5125137929253863, 0.07321625613219805, 0.044940333942404286, 0.3715067605905421, 0.03595226715392343, 0.317578359859657, 0.053928400730885145, 0.02097215583978867, 0.044940333942404286, 0.04194431167957734, 0.02097215583978867, 0.04793635620523124, 0.2779180651776792, 0.10689156352987662, 0.1924048143537779, 0.40618794141353115, 0.6715699272339821, 0.06499063811941762, 0.15164482227864112, 0.10831773019902936, 0.6623988489842385, 0.03580534318833722, 0.01790267159416861, 0.05370801478250582, 0.12531870115918026, 0.08951335797084305, 0.023921435986258906, 0.04784287197251781, 0.023921435986258906, 0.16745005190381235, 0.2990179498282363, 0.05980358996564726, 0.011960717993129453, 0.09568574394503562, 0.13156789792442397, 0.11960717993129452, 0.10130646128148557, 0.709145228970399, 0.10130646128148557, 0.11802258583521129, 0.23604517167042258, 0.47209034334084515, 0.11802258583521129, 0.24650762145812705, 0.5751844500689631, 0.16433841430541804, 0.11707226667875305, 0.4348398476639399, 0.01672460952553615, 0.1337968762042892, 0.10592252699506229, 0.0668984381021446, 0.04459895873476307, 0.03902408889291768, 0.0334492190510723, 0.011149739683690768, 0.053818470092708875, 0.5920031710197976, 0.053818470092708875, 0.2152738803708355, 0.053818470092708875, 0.06823289417666485, 0.34116447088332424, 0.19495112621904243, 0.07798045048761697, 0.06823289417666485, 0.019495112621904242, 0.048737781554760606, 0.038990225243808484, 0.019495112621904242, 0.1267182320423776, 0.0784849177002017, 0.0784849177002017, 0.03924245885010085, 0.43166704735110933, 0.1569698354004034, 0.03924245885010085, 0.11772737655030255, 0.03924245885010085, 0.19099478109359386, 0.047748695273398464, 0.3819895621871877, 0.047748695273398464, 0.047748695273398464, 0.047748695273398464, 0.1432460858201954, 0.09549739054679693, 0.8156565931538573, 0.10195707414423216, 0.1254212497706264, 0.22575824958712754, 0.2508424995412528, 0.05016849990825056, 0.02508424995412528, 0.03762637493118792, 0.23830037456419018, 0.01254212497706264, 0.03762637493118792, 0.17650965534360344, 0.617783793702612, 0.04412741383590086, 0.04412741383590086, 0.08825482767180172, 0.04412741383590086, 0.018836806027361205, 0.5274305687661137, 0.05651041808208362, 0.03767361205472241, 0.05651041808208362, 0.28255209041041807, 0.6380084224787776, 0.025019938136422653, 0.01876495360231699, 0.03752990720463398, 0.01876495360231699, 0.006254984534105663, 0.01876495360231699, 0.09382476801158496, 0.012509969068211326, 0.12509969068211327, 0.07338625199136646, 0.03669312599568323, 0.7338625199136646, 0.14677250398273292, 0.201525080954578, 0.7053377833410229, 0.38297413964619154, 0.23403975200600594, 0.06382902327436525, 0.05319085272863771, 0.031914511637182626, 0.031914511637182626, 0.09574353491154788, 0.08510536436582034, 0.021276341091455084, 0.14534800032091122, 0.11059086980938897, 0.04423634792375559, 0.19274408738207793, 0.02527791309928891, 0.08531295671010007, 0.0473960870611667, 0.21170252220654462, 0.03475713051152225, 0.09795191325974452, 0.07142875920411826, 0.397960229851516, 0.010204108457731181, 0.09183697611958062, 0.09183697611958062, 0.07142875920411826, 0.1020410845773118, 0.13265340995050534, 0.03061232537319354, 0.5102453379378928, 0.023192969906267857, 0.023192969906267857, 0.04638593981253571, 0.18554375925014285, 0.023192969906267857, 0.023192969906267857, 0.09277187962507143, 0.04638593981253571, 0.3004169752102428, 0.03004169752102428, 0.06008339504204856, 0.33045867273126706, 0.18025018512614566, 0.06008339504204856, 0.1035738757047061, 0.1035738757047061, 0.1035738757047061, 0.1035738757047061, 0.4142955028188244, 0.1035738757047061, 0.04777906754196408, 0.04777906754196408, 0.1731991198396198, 0.04180668409921857, 0.2388953377098204, 0.02986191721372755, 0.1194476688549102, 0.2508401045953114, 0.03583430065647306, 0.00597238344274551, 0.15035421754518283, 0.7768301239834445, 0.05011807251506094, 0.044775342005444224, 0.26865205203266534, 0.06716301300816634, 0.06716301300816634, 0.044775342005444224, 0.022387671002722112, 0.3358150650408317, 0.13432602601633267, 0.16126089436434843, 0.5644131302752194, 0.16126089436434843, 0.08063044718217421, 0.0778978995683522, 0.1168468493525283, 0.0778978995683522, 0.1557957991367044, 0.0778978995683522, 0.0389489497841761, 0.389489497841761, 0.0389489497841761, 0.21603771092158644, 0.22003840927198617, 0.10401815711039347, 0.1880328224687882, 0.004000698350399749, 0.052009078555196736, 0.10801885546079322, 0.040006983503997486, 0.03200558680319799, 0.03200558680319799, 0.1239786505594824, 0.7025456865037336, 0.1239786505594824, 0.537604638858662, 0.3225627833151973, 0.14336123702897655, 0.30041904810026365, 0.10013968270008788, 0.10013968270008788, 0.10013968270008788, 0.30041904810026365, 0.3004192956364084, 0.10013976521213613, 0.10013976521213613, 0.10013976521213613, 0.3004192956364084, 0.02653281121581682, 0.21226248972653455, 0.5041234131005196, 0.02653281121581682, 0.05306562243163364, 0.07959843364745046, 0.02653281121581682, 0.02653281121581682, 0.05306562243163364, 0.231890756818006, 0.15459383787867068, 0.07729691893933534, 0.115945378409003, 0.07729691893933534, 0.30918767575734135, 0.03864845946966767, 0.10814558750870783, 0.09982669616188415, 0.01663778269364736, 0.049913348080942076, 0.13310226154917887, 0.0415944567341184, 0.0415944567341184, 0.22461006636423933, 0.18301560963012095, 0.10814558750870783, 0.2306281350861567, 0.0768760450287189, 0.49969429268667287, 0.11531406754307835, 0.03843802251435945, 0.0856398619230141, 0.0856398619230141, 0.12845979288452114, 0.04281993096150705, 0.5566591024995916, 0.04281993096150705, 0.04281993096150705, 0.024984580100685952, 0.049969160201371904, 0.049969160201371904, 0.5246761821144049, 0.07495374030205786, 0.09993832040274381, 0.1499074806041157, 0.041810800329961456, 0.041810800329961456, 0.02787386688664097, 0.12543240098988437, 0.37629720296965313, 0.05574773377328194, 0.1811801347631663, 0.05574773377328194, 0.11149546754656388, 0.1181719235803472, 0.20820767487965935, 0.033763406737242055, 0.35451577074104157, 0.07315404793069112, 0.039390641193449066, 0.0618995790182771, 0.056272344562070094, 0.039390641193449066, 0.016881703368621027, 0.09284613280631893, 0.41780759762843517, 0.18569226561263785, 0.18569226561263785, 0.09284613280631893, 0.06664735096517856, 0.1332947019303571, 0.06664735096517856, 0.46653145675624985, 0.06664735096517856, 0.1332947019303571, 0.06664735096517856, 0.05063291162899832, 0.10126582325799664, 0.20253164651599329, 0.05063291162899832, 0.05063291162899832, 0.05063291162899832, 0.20253164651599329, 0.2531645581449916, 0.1213131999284081, 0.06065659996420405, 0.5459093996778365, 0.1213131999284081, 0.1213131999284081, 0.6521934539614792, 0.015167289627011145, 0.007583644813505572, 0.045501868881033435, 0.07583644813505572, 0.09100373776206687, 0.053085513694539004, 0.007583644813505572, 0.045501868881033435, 0.5296462831502833, 0.013580673926930341, 0.004526891308976781, 0.07695715225260527, 0.09506471748851239, 0.040742021780791025, 0.12222606534237308, 0.036215130471814246, 0.054322695707721365, 0.027161347853860682, 0.5675067554011767, 0.2270027021604707, 0.05675067554011767, 0.05675067554011767, 0.05675067554011767, 0.05675067554011767, 0.08887197169558116, 0.08887197169558116, 0.08887197169558116, 0.6221038018690681, 0.007927208401834081, 0.198180210045852, 0.21403462684952018, 0.38843321168987, 0.015854416803668163, 0.08719929242017489, 0.031708833607336326, 0.007927208401834081, 0.015854416803668163, 0.031708833607336326, 0.09485696262919392, 0.04742848131459696, 0.10163245995985064, 0.10163245995985064, 0.0813059679678805, 0.21004041725035796, 0.0813059679678805, 0.12195895195182076, 0.1558364386051043, 0.013550994661313417, 0.10107291267015361, 0.20214582534030723, 0.5053645633507681, 0.10107291267015361, 0.46048925124424706, 0.05384753341162566, 0.018103912095287937, 0.048277098920767834, 0.07937869149472404, 0.09469738634458306, 0.07566506850081882, 0.06452419951910317, 0.03342260694514696, 0.0710230397584373, 0.4177316736601248, 0.05448674004262498, 0.21794696017049991, 0.018162246680874992, 0.018162246680874992, 0.036324493361749983, 0.018162246680874992, 0.21794696017049991, 0.3887473253650952, 0.06479122089418254, 0.45353854625927775, 0.06479122089418254, 0.21303454038988806, 0.017752878365824003, 0.053258635097472015, 0.026629317548736008, 0.5947214252551042, 0.06213507428038401, 0.035505756731648005, 0.10387502114944885, 0.10387502114944885, 0.4155000845977954, 0.05193751057472443, 0.15581253172417328, 0.15581253172417328, 0.2990381342739722, 0.21359866733855157, 0.10679933366927578, 0.32039800100782734, 0.06407960020156547, 0.034337968395860737, 0.13735187358344295, 0.3777176523544681, 0.034337968395860737, 0.13735187358344295, 0.1030139051875822, 0.1030139051875822, 0.034337968395860737, 0.14889219902307171, 0.4652881219470991, 0.13028067414518776, 0.0558345746336519, 0.03722304975576793, 0.0558345746336519, 0.03722304975576793, 0.0558345746336519, 0.16343250015611382, 0.16343250015611382, 0.2723875002601897, 0.32686500031222765, 0.11436545132076727, 0.11436545132076727, 0.45746180528306907, 0.22873090264153453, 0.5085604397223376, 0.29060596555562146, 0.14530298277781073, 0.08264511094533139, 0.8264511094533138, 0.05506632998419019, 0.1376658249604755, 0.24779848492885587, 0.05506632998419019, 0.11013265996838038, 0.027533164992095096, 0.05506632998419019, 0.275331649920951, 0.2885822461465442, 0.1731493476879265, 0.40401514460516186, 0.05771644922930884, 0.05771644922930884, 0.05771644922930884, 0.06788260494230829, 0.06788260494230829, 0.6788260494230829, 0.10182390741346242, 0.03394130247115414, 0.03394130247115414, 0.28539920853145934, 0.050364566211434, 0.050364566211434, 0.2812021613471732, 0.04616751902714784, 0.0629557077642925, 0.06085718417214942, 0.0125911415528585, 0.06715275494857867, 0.08184242009358025, 0.06519906295760738, 0.36511475256260134, 0.10431850073217182, 0.20863700146434364, 0.10431850073217182, 0.026079625183042954, 0.06519906295760738, 0.026079625183042954, 0.03911943777456443, 0.03861736738748447, 0.019308683693742234, 0.11585210216245341, 0.03861736738748447, 0.30893893909987574, 0.27997591355926243, 0.1061977603155823, 0.009654341846871117, 0.06758039292809782, 0.22758942295033907, 0.45517884590067814, 0.15172628196689272, 0.07586314098344636, 0.07586314098344636, 0.13587182831856734, 0.10869746265485386, 0.027174365663713465, 0.0407615484955702, 0.2853308394689914, 0.05434873132742693, 0.09511027982299713, 0.14945901115042406, 0.06793591415928367, 0.027174365663713465, 0.04285430081663505, 0.15713243632766183, 0.15713243632766183, 0.04285430081663505, 0.2714105718386886, 0.12856290244990515, 0.12856290244990515, 0.0285695338777567, 0.0285695338777567, 0.12184105227254882, 0.36552315681764647, 0.06092052613627441, 0.36552315681764647, 0.18520308530089555, 0.09260154265044777, 0.18520308530089555, 0.09260154265044777, 0.3704061706017911, 0.20578266791493888, 0.2351801919027873, 0.029397523987848413, 0.499757907793423, 0.1184429514595744, 0.1184429514595744, 0.2368859029191488, 0.3553288543787232, 0.1184429514595744, 0.1511910189158094, 0.03779775472895235, 0.26458428310266646, 0.11339326418685705, 0.4157753020184759, 0.28876178830683225, 0.13716184944574533, 0.05775235766136645, 0.07219044707670806, 0.16603802827642855, 0.15881898356875776, 0.02165713412301242, 0.03609522353835403, 0.06497140236903726, 0.02516202632432834, 0.1258101316216417, 0.3271063422162684, 0.15097215794597002, 0.07548607897298501, 0.10064810529731336, 0.05032405264865668, 0.05032405264865668, 0.05032405264865668, 0.17469088462268612, 0.1939671201672584, 0.029516735677626277, 0.211436208629527, 0.07349064801368176, 0.03433579456376934, 0.06264776551985986, 0.045781059418359124, 0.09939308952670073, 0.0752977950959854, 0.6469252918372017, 0.04043283073982511, 0.04043283073982511, 0.08086566147965021, 0.12129849221947532, 0.04043283073982511, 0.04043283073982511, 0.07325041274243026, 0.024416804247476755, 0.06104201061869188, 0.13429242336112215, 0.12208402123738377, 0.4150856722071048, 0.012208402123738377, 0.10987561911364539, 0.04883360849495351, 0.5142426705022614, 0.07346323864318019, 0.07346323864318019, 0.07346323864318019, 0.07346323864318019, 0.14692647728636038, 0.030293613615524437, 0.9391020220812576, 0.06975137423381224, 0.02325045807793741, 0.06975137423381224, 0.4417587034808108, 0.1860036646234993, 0.06975137423381224, 0.04650091615587482, 0.04650091615587482, 0.02325045807793741, 0.013448964540909212, 0.14793860995000133, 0.013448964540909212, 0.1586977815827287, 0.10490192341909185, 0.19366508938909266, 0.10490192341909185, 0.040346893622727635, 0.16407736739909237, 0.05648565107181869, 0.49832502942725604, 0.10491053251100127, 0.18359343189425223, 0.052455266255500635, 0.13113816563875158, 0.1731085623820359, 0.5193256871461077, 0.08655428119101795, 0.08655428119101795, 0.12983142178652693, 0.0716745622349595, 0.143349124469919, 0.43004737340975696, 0.143349124469919, 0.0716745622349595, 0.0716745622349595, 0.10014790971849333, 0.011127545524277036, 0.03894640933496963, 0.03338263657283111, 0.10014790971849333, 0.6732165042187607, 0.011127545524277036, 0.016691318286415555, 0.011127545524277036, 0.10015912777599704, 0.05007956388799852, 0.05007956388799852, 0.10015912777599704, 0.15023869166399556, 0.10015912777599704, 0.05007956388799852, 0.3505569472159896, 0.06740008878249891, 0.4718006214774924, 0.33700044391249456, 0.06740008878249891, 0.14778248525400822, 0.14778248525400822, 0.07389124262700411, 0.3694562131350206, 0.14778248525400822, 0.012946006857641941, 0.025892013715283883, 0.051784027430567765, 0.038838020572925826, 0.36248819201397436, 0.19419010286462912, 0.23302812343755494, 0.012946006857641941, 0.06473003428820971, 0.2140311309608901, 0.11890618386716117, 0.04161716435350641, 0.05648043733690156, 0.2526756407177175, 0.08917963790037088, 0.029726545966790294, 0.08917963790037088, 0.053507782740222526, 0.053507782740222526, 0.35626857976774623, 0.019792698875985903, 0.039585397751971806, 0.15834159100788722, 0.18803063932186606, 0.07917079550394361, 0.009896349437992951, 0.06927444606595065, 0.029689048313978852, 0.029689048313978852, 0.22701414555187116, 0.09412781644833682, 0.022147721517255723, 0.038758512655197516, 0.21040335441392935, 0.09966474682765075, 0.14949712024147613, 0.09412781644833682, 0.011073860758627862, 0.049832373413825376, 0.12871339707348617, 0.4290446569116206, 0.2145223284558103, 0.04290446569116206, 0.04290446569116206, 0.12871339707348617, 0.060120323538426904, 0.060120323538426904, 0.060120323538426904, 0.24048129415370761, 0.3006016176921345, 0.12024064707685381, 0.060120323538426904, 0.11548188514209741, 0.07698792342806494, 0.1539758468561299, 0.46192754056838964, 0.11548188514209741, 0.03849396171403247, 0.03849396171403247, 0.06275951556256236, 0.03137975778128118, 0.06275951556256236, 0.03137975778128118, 0.06275951556256236, 0.09413927334384355, 0.03137975778128118, 0.43931660893793656, 0.1568987889064059, 0.16219757856767067, 0.16219757856767067, 0.08109878928383533, 0.08109878928383533, 0.4054939464191767, 0.10840045758182013, 0.08807537178522885, 0.10162542898295637, 0.13550057197727516, 0.10840045758182013, 0.196475829367049, 0.04742520019204631, 0.05420022879091006, 0.08807537178522885, 0.07452531458750133, 0.3707761966522897, 0.5826483090250267, 0.2545577649313934, 0.3394103532418579, 0.3394103532418579, 0.08291554346355906, 0.2763851448785302, 0.24874663039067718, 0.3593006883420893, 0.09339905516205338, 0.14009858274308007, 0.07783254596837781, 0.31133018387351125, 0.07783254596837781, 0.07783254596837781, 0.1245320735494045, 0.04669952758102669, 0.04669952758102669, 0.40773521311826516, 0.1359117377060884, 0.1359117377060884, 0.2718234754121768, 0.4985592762837994, 0.1994237105135198, 0.1994237105135198, 0.10085807906686936, 0.45386135580091214, 0.15128711860030405, 0.10085807906686936, 0.10085807906686936, 0.10085807906686936, 0.15930995364728073, 0.15930995364728073, 0.2389649304709211, 0.07965497682364037, 0.31861990729456147, 0.08826479535240782, 0.08826479535240782, 0.17652959070481564, 0.3530591814096313, 0.17652959070481564, 0.34897748946177376, 0.5076036210353073, 0.09517567894412012, 0.5787516837141962, 0.07716689116189283, 0.2315006734856785, 0.03858344558094642, 0.07716689116189283, 0.1989290495678425, 0.10775323518258136, 0.08288710398660104, 0.16577420797320208, 0.008288710398660104, 0.15748549757454197, 0.07459839358794093, 0.04144355199330052, 0.07459839358794093, 0.09946452478392125, 0.11134550197156969, 0.02783637549289242, 0.05567275098578484, 0.7794185138009878, 0.03841909115469389, 0.6147054584751023, 0.019209545577346946, 0.2689336380828572, 0.019209545577346946, 0.058365142210589915, 0.3501908532635395, 0.2918257110529496, 0.11673028442117983, 0.058365142210589915, 0.1539146364162157, 0.11341078472773787, 0.12151155506543344, 0.048604622026173376, 0.1701161770916068, 0.25112388046856243, 0.07290693303926006, 0.03240308135078225, 0.008100770337695563, 0.024302311013086688, 0.7233007360906872, 0.04903733804004659, 0.03677800353003494, 0.03677800353003494, 0.06129667255005824, 0.024518669020023295, 0.04903733804004659, 0.08291583786356656, 0.2763861262118885, 0.2487475135906997, 0.3593019640754551, 0.02493925534185389, 0.07793517294329341, 0.037408883012780836, 0.12157886979153772, 0.38967586471646704, 0.012469627670926945, 0.12469627670926946, 0.08105257986102514, 0.08416998677875688, 0.04364369684824431, 0.49832792363446354, 0.1049111418177818, 0.18359449818111814, 0.0524555709088909, 0.13113892727222726, 0.09079666797275135, 0.045398333986375675, 0.1815933359455027, 0.09079666797275135, 0.09079666797275135, 0.045398333986375675, 0.40858500587738106, 0.045398333986375675, 0.045398333986375675, 0.10283619423874278, 0.05141809711937139, 0.20567238847748556, 0.25709048559685693, 0.10283619423874278, 0.25709048559685693, 0.10182944584612269, 0.050914722923061345, 0.2545736146153067, 0.22911625315377604, 0.33094569899989873, 0.06366263038823569, 0.25465052155294277, 0.4456384127176498, 0.06366263038823569, 0.12732526077647138, 0.3268061712004717, 0.06536123424009434, 0.39216740544056605, 0.19608370272028303, 0.030108438254701237, 0.12043375301880495, 0.4516265738205186, 0.12043375301880495, 0.060216876509402474, 0.18065062952820743, 0.18303959351235805, 0.06537128339727073, 0.4837474971398034, 0.03922277003836244, 0.23533662023017463, 0.21644621663913444, 0.32466932495870165, 0.10822310831956722, 0.21644621663913444, 0.15592826583421504, 0.24948522533474407, 0.15592826583421504, 0.06237130633368602, 0.09355695950052903, 0.28067087850158706, 0.363913171564917, 0.2911305372519336, 0.0727826343129834, 0.1455652686259668, 0.7214246340055082, 0.04809497560036721, 0.14428492680110164, 0.04809497560036721, 0.10500326622214429, 0.030000933206326942, 0.04500139980949041, 0.255007932253779, 0.04500139980949041, 0.030000933206326942, 0.39001213168225024, 0.10500326622214429, 0.09755684940503978, 0.19511369881007956, 0.09755684940503978, 0.09755684940503978, 0.4877842470251989, 0.015570486004281566, 0.0934229160256894, 0.12456388803425253, 0.015570486004281566, 0.062281944017126264, 0.10899340202997096, 0.0467114580128447, 0.5449670101498548, 0.11608274287001105, 0.029020685717502763, 0.8125792000900773, 0.07716880113512366, 0.03655364264295331, 0.1868297290639836, 0.21932185585771988, 0.028430610944519243, 0.11778395962729402, 0.11372244377807697, 0.09747638038120884, 0.056861221889038485, 0.06498425358747256, 0.1248506611383394, 0.1248506611383394, 0.7491039668300363, 0.3277954242545284, 0.015990020695342846, 0.05596507243369997, 0.039975051738357116, 0.3917555070358998, 0.007995010347671423, 0.023985031043014273, 0.015990020695342846, 0.06396008278137139, 0.06396008278137139, 0.11838035664327473, 0.03946011888109158, 0.3354110104892784, 0.1578404755243663, 0.3156809510487326, 0.01973005944054579, 0.11819126737067803, 0.5909563368533902, 0.11819126737067803, 0.047438657750885654, 0.047438657750885654, 0.047438657750885654, 0.6641412085123992, 0.047438657750885654, 0.09487731550177131, 0.21555138564021895, 0.21555138564021895, 0.16166353923016422, 0.10777569282010947, 0.21555138564021895, 0.13170856854159732, 0.16097713932861896, 0.007317142696755407, 0.12439142584484192, 0.2268314235994176, 0.0951228550578203, 0.16829428202537436, 0.007317142696755407, 0.05121999887728785, 0.02926857078702163, 0.27213674338038624, 0.37862503426836347, 0.011832032320886358, 0.011832032320886358, 0.10648829088797722, 0.0828242262462045, 0.13015235552974994, 0.13113008790318614, 0.03576275124632349, 0.09536733665686264, 0.16689283914950964, 0.2980229270526958, 0.02384183416421566, 0.03576275124632349, 0.1192091708210783, 0.09536733665686264, 0.01192091708210783, 0.09560908704553318, 0.038243634818213273, 0.019121817409106637, 0.09560908704553318, 0.4971672526367726, 0.2485836263183863, 0.0915596272097805, 0.5951375768635733, 0.0915596272097805, 0.183119254419561, 0.13922419713116166, 0.06961209856558083, 0.06961209856558083, 0.48728468995906576, 0.06961209856558083, 0.06961209856558083, 0.1336227903605559, 0.10392883694709905, 0.40086837108166773, 0.10392883694709905, 0.014846976706728434, 0.059387906826913736, 0.044540930120185306, 0.059387906826913736, 0.059387906826913736, 0.029693953413456868, 0.545928429857896, 0.1488895717794262, 0.19851942903923495, 0.049629857259808736, 0.09609473824908774, 0.08236691849921805, 0.08236691849921805, 0.3020120344971329, 0.19218947649817547, 0.02745563949973935, 0.0549112789994787, 0.0549112789994787, 0.0549112789994787, 0.06863909874934838, 0.1075577321288056, 0.1075577321288056, 0.1613365981932084, 0.4302309285152224, 0.1075577321288056, 0.0537788660644028, 0.14469864269778965, 0.10523537650748338, 0.026308844126870845, 0.1710074868246605, 0.14469864269778965, 0.026308844126870845, 0.07892653238061254, 0.24993401920527303, 0.026308844126870845, 0.026308844126870845, 0.07427896330839107, 0.07427896330839107, 0.07427896330839107, 0.07427896330839107, 0.37139481654195533, 0.07427896330839107, 0.07427896330839107, 0.07427896330839107, 0.10175854754599366, 0.2457096635866676, 0.11168621072121254, 0.05212023166989919, 0.06204789484511808, 0.1513968634220881, 0.10920429492740782, 0.09679471595838421, 0.05460214746370391, 0.01489149476282834, 0.07815033047724045, 0.1042004406363206, 0.07815033047724045, 0.39075165238620224, 0.1042004406363206, 0.1563006609544809, 0.0521002203181603, 0.0521002203181603, 0.09246751649232468, 0.06164501099488312, 0.43151507696418184, 0.09246751649232468, 0.09246751649232468, 0.03082250549744156, 0.12329002198976624, 0.09246751649232468, 0.27197945299342136, 0.14915002260929558, 0.032169612719651984, 0.09650883815895596, 0.011698040988964358, 0.2778284734879035, 0.10235785865343813, 0.0029245102472410895, 0.043867653708616346, 0.00877353074172327, 0.31308389957026017, 0.03130838995702602, 0.06261677991405204, 0.03130838995702602, 0.15654194978513009, 0.03130838995702602, 0.3443922895272862, 0.2966579939514905, 0.02696890854104459, 0.02696890854104459, 0.43150253665671345, 0.18878235978731214, 0.27357837979671906, 0.030397597755191005, 0.6484820854440748, 0.030397597755191005, 0.010132532585063669, 0.010132532585063669, 0.4947607562546525, 0.13493475170581432, 0.022489125284302386, 0.3148477539802334, 0.724914111290713, 0.18122852782267826, 0.06045424489342231, 0.013434276642982735, 0.17464559635877555, 0.08060565985789642, 0.04030282992894821, 0.020151414964474104, 0.24181697957368925, 0.32242263943158567, 0.04030282992894821, 0.15925465797123953, 0.5573913028993384, 0.15925465797123953, 0.07962732898561976, 0.5058810399265822, 0.026625317890872746, 0.07987595367261824, 0.07987595367261824, 0.10650127156349098, 0.05325063578174549, 0.026625317890872746, 0.07987595367261824, 0.026625317890872746, 0.10028449814004804, 0.05014224907002402, 0.7019914869803363, 0.15042674721007207, 0.24120193079265406, 0.18894151245424567, 0.008040064359755135, 0.3618028961889811, 0.028140225259142972, 0.020100160899387837, 0.03216025743902054, 0.0040200321798775675, 0.07638061141767379, 0.03216025743902054, 0.2463136853703413, 0.12315684268517064, 0.2463136853703413, 0.12315684268517064, 0.2463136853703413, 0.04204510297798267, 0.10511275744495667, 0.052556378722478335, 0.094601481700461, 0.11562403318945233, 0.04204510297798267, 0.126135308933948, 0.346872099568357, 0.031533827233487, 0.04204510297798267, 0.09003044101727496, 0.18006088203454992, 0.4501522050863748, 0.18006088203454992, 0.09003044101727496, 0.07760971939437548, 0.15521943878875097, 0.07760971939437548, 0.6208777551550039, 0.07760971939437548, 0.6534768442808592, 0.07920931445828597, 0.014851746460928619, 0.019802328614571492, 0.049505821536428726, 0.029703492921857238, 0.029703492921857238, 0.12376455384107182, 0.7095719040409466, 0.047304793602729774, 0.14191438080818933, 0.06034777890747141, 0.06034777890747141, 0.1810433367224142, 0.48278223125977127, 0.06034777890747141, 0.06034777890747141, 0.12069555781494282, 0.06206384315601629, 0.06206384315601629, 0.5585745884041466, 0.09309576473402444, 0.12412768631203258, 0.06206384315601629, 0.3418497010284449, 0.12430898219216178, 0.06215449109608089, 0.06215449109608089, 0.06215449109608089, 0.3418497010284449, 0.38241361849257755, 0.039221909588982314, 0.019610954794491157, 0.029416432191736733, 0.1764985931504204, 0.06863834178071905, 0.1372766835614381, 0.009805477397245578, 0.06863834178071905, 0.0882492965752102, 0.0845448673003714, 0.0845448673003714, 0.42272433650185703, 0.1690897346007428, 0.0845448673003714, 0.0845448673003714, 0.6718537313706449, 0.0610776119427859, 0.0610776119427859, 0.0610776119427859, 0.0610776119427859, 0.24204327992769734, 0.12102163996384867, 0.5445973798373189, 0.060510819981924334, 0.08344072053028107, 0.08344072053028107, 0.16688144106056213, 0.08344072053028107, 0.08344072053028107, 0.4172036026514053, 0.16688144106056213, 0.4287558778928308, 0.0756628019810878, 0.3278721419180471, 0.050441867987391864, 0.050441867987391864, 0.025220933993695932, 0.025220933993695932, 0.12607126642119199, 0.567320698895364, 0.06303563321059599, 0.06303563321059599, 0.12607126642119199, 0.6853810763935959, 0.2015826695275282, 0.08063306781101129, 0.2295867694146356, 0.5357024619674831, 0.07652892313821187, 0.07652892313821187, 0.45831551887493344, 0.04583155188749335, 0.0916631037749867, 0.1833262075499734, 0.04583155188749335, 0.0916631037749867, 0.04583155188749335, 0.759364707039883, 0.23365067908919476, 0.08589983815635562, 0.4867657495526818, 0.057266558770903746, 0.2004329556981631, 0.057266558770903746, 0.11453311754180749, 0.08291569737099397, 0.2763856579033132, 0.2487470921129819, 0.3593013552743072, 0.25538352572678497, 0.07296672163622428, 0.10945008245433642, 0.07296672163622428, 0.07296672163622428, 0.4013169689992335, 0.08275955858309247, 0.5586270204358742, 0.02068988964577312, 0.02068988964577312, 0.16551911716618495, 0.04137977929154624, 0.062069668937319356, 0.04137977929154624, 0.09794741295984394, 0.09794741295984394, 0.09794741295984394, 0.39178965183937575, 0.24486853239960985, 0.04897370647992197, 0.09808083939062985, 0.09808083939062985, 0.686565875734409, 0.09808083939062985, 0.2208886484674061, 0.1767109187739249, 0.5743104860152559, 0.0484605368229423, 0.4603750998179519, 0.21807241570324035, 0.12115134205735575, 0.07269080523441346, 0.0484605368229423, 0.02423026841147115, 0.026086054719683286, 0.15651632831809972, 0.07825816415904986, 0.10434421887873314, 0.11738724623857479, 0.15651632831809972, 0.03912908207952493, 0.2739035745566745, 0.05217210943936657, 0.07214360541415026, 0.07214360541415026, 0.07214360541415026, 0.7575078568485777, 0.12145129271674696, 0.6072564635837348, 0.12145129271674696, 0.06072564635837348, 0.06072564635837348, 0.06488661611704173, 0.06488661611704173, 0.16221654029260435, 0.1946598483511252, 0.0973299241755626, 0.06488661611704173, 0.06488661611704173, 0.2595464644681669, 0.04825071680503982, 0.48250716805039817, 0.09650143361007964, 0.14475215041511943, 0.04825071680503982, 0.09650143361007964, 0.04825071680503982, 0.19548130876809747, 0.5864439263042924, 0.19548130876809747, 0.06516043625603249, 0.062409607766603245, 0.0416064051777355, 0.083212810355471, 0.12481921553320649, 0.062409607766603245, 0.02080320258886775, 0.24963843106641298, 0.31204803883301624, 0.0416064051777355, 0.5053480617333621, 0.0459407328848511, 0.0459407328848511, 0.1837629315394044, 0.0459407328848511, 0.1378221986545533, 0.20367980806735878, 0.06789326935578625, 0.1357865387115725, 0.509199520168397, 0.06789326935578625, 0.5958742974258064, 0.02054738956640712, 0.04109477913281424, 0.18492650609766406, 0.06164216869922136, 0.1027369478320356, 0.37941381743343866, 0.4742672717917983, 0.09485345435835967, 0.07298263789868382, 0.8028090168855221, 0.10947395684802573, 0.17123485578146455, 0.08561742789073228, 0.17123485578146455, 0.42808713945366134, 0.17123485578146455, 0.052935027910294336, 0.10587005582058867, 0.10587005582058867, 0.5822853070132377, 0.10587005582058867, 0.06837674010944736, 0.13675348021889472, 0.03418837005472368, 0.06837674010944736, 0.03418837005472368, 0.03418837005472368, 0.6153906609850261], \"Term\": [\"'s\", \"'s\", \"'s\", \"'s\", \"'s\", \"'s\", \"'s\", \"'s\", \"'s\", \"'s\", \"]\", \"]\", \"]\", \"]\", \"]\", \"]\", \"]\", \"]\", \"a.m\", \"a.m\", \"a.m\", \"a.m\", \"a.m\", \"absolute_return_fund_l.p.\", \"absolute_return_fund_l.p.\", \"absolute_return_fund_l.p.\", \"absolute_return_fund_l.p.\", \"absolute_return_fund_l.p.\", \"action\", \"action\", \"action\", \"action\", \"action\", \"action\", \"action\", \"action\", \"action\", \"action\", \"additional_attachment_add\", \"additional_attachment_add\", \"additional_attachment_add\", \"additional_attachment_add\", \"additional_attachment_add\", \"address_judge\", \"address_judge\", \"address_judge\", \"address_judge\", \"address_judge\", \"address_judge\", \"address_judge\", \"address_judge\", \"advance\", \"advance\", \"advance\", \"advance\", \"advance\", \"ae\", \"ae\", \"ae\", \"ae\", \"ae\", \"affidavit\", \"affidavit\", \"affidavit\", \"affidavit\", \"affidavit\", \"affidavit\", \"affidavit\", \"affidavit\", \"affidavit\", \"affidavit_service_summons\", \"affidavit_service_summons\", \"affidavit_service_summons\", \"affidavit_service_summons\", \"affidavit_service_summons\", \"affidavit_service_summons\", \"affidavit_service_summons_complaint\", \"affidavit_service_summons_complaint\", \"affidavit_service_summons_complaint\", \"affidavit_service_summons_complaint\", \"agent\", \"agent\", \"agent\", \"agent\", \"agent\", \"agent\", \"ago\", \"ago\", \"ago\", \"ago\", \"ago\", \"agreement\", \"agreement\", \"agreement\", \"agreement\", \"agreement\", \"agreement\", \"agreement\", \"agreement\", \"aim_exploration_inc.._basile\", \"aim_exploration_inc.._basile\", \"aim_exploration_inc.._basile\", \"aim_exploration_inc.._basile\", \"aim_exploration_inc.._basile\", \"allege\", \"allege\", \"allege\", \"allege\", \"alternative_investment_sgr_spa\", \"alternative_investment_sgr_spa\", \"alternative_investment_sgr_spa\", \"alternative_investment_sgr_spa\", \"ama\", \"ama\", \"ama\", \"ama\", \"ama\", \"amend\", \"amend\", \"amend\", \"amend\", \"amend\", \"amend\", \"amend\", \"amend\", \"amend_complaint\", \"amend_complaint\", \"amend_complaint\", \"amend_complaint\", \"amend_complaint\", \"amend_complaint\", \"amend_complaint\", \"amend_complaint\", \"amend_complaint\", \"amend_complaint\", \"amount\", \"amount\", \"amount\", \"amount\", \"amount\", \"amount\", \"amount\", \"amount\", \"amount\", \"amount\", \"answer\", \"answer\", \"answer\", \"answer\", \"answer\", \"answer\", \"answer\", \"answer\", \"answer\", \"answer_amend_complaint\", \"answer_amend_complaint\", \"answer_amend_complaint\", \"answer_amend_complaint\", \"answer_amend_complaint\", \"answer_amend_complaint\", \"answer_amend_complaint\", \"answer_complaint\", \"answer_complaint\", \"answer_complaint\", \"answer_complaint\", \"answer_complaint\", \"answer_complaint\", \"answer_complaint\", \"answer_complaint\", \"answer_complaint\", \"answer_complaint\", \"answer_due\", \"answer_due\", \"answer_due\", \"answer_due\", \"answer_due\", \"answer_due\", \"answer_due\", \"answer_due\", \"answer_due\", \"answer_due\", \"answer_due_answer_due\", \"answer_due_answer_due\", \"answer_due_answer_due\", \"answer_due_answer_due\", \"answer_due_answer_due\", \"appear_pro_hac_vice\", \"appear_pro_hac_vice\", \"appear_pro_hac_vice\", \"appear_pro_hac_vice\", \"appear_pro_hac_vice\", \"appear_pro_hac_vice\", \"appear_pro_hac_vice\", \"appear_pro_hac_vice\", \"applicable\", \"applicable\", \"applicable\", \"applicable\", \"applicable\", \"applicable\", \"approval\", \"approval\", \"approval\", \"approval\", \"approval\", \"april\", \"april\", \"april\", \"april\", \"april\", \"april\", \"april\", \"april\", \"april\", \"april\", \"associate\", \"associate\", \"associate\", \"associate\", \"associate\", \"associate\", \"associate\", \"associate\", \"associate_case_et_al\", \"associate_case_et_al\", \"associate_case_et_al\", \"associate_case_et_al\", \"associate_case_j\", \"associate_case_j\", \"associate_case_j\", \"associate_case_j\", \"associate_case_rjm\", \"associate_case_rjm\", \"associate_case_rjm\", \"associate_case_thk\", \"associate_case_thk\", \"associate_case_thk\", \"associated_case\", \"associated_case\", \"associated_case\", \"associated_case\", \"associated_case\", \"associated_case\", \"associated_case\", \"associated_case\", \"associated_case_et_al\", \"associated_case_et_al\", \"associated_case_et_al\", \"associated_case_et_al\", \"associated_case_et_al\", \"associated_case_et_al\", \"associated_case_et_al\", \"associated_case_ft\", \"associated_case_ft\", \"attachment\", \"attachment\", \"attachment\", \"attachment\", \"attachment\", \"attachment\", \"attachment\", \"attachment\", \"attachment\", \"attachment_text_propose\", \"attachment_text_propose\", \"attachment_text_propose\", \"attachment_text_propose\", \"attachment_text_propose\", \"attachment_text_propose\", \"attorney_record\", \"attorney_record\", \"attorney_record\", \"attorney_record\", \"attorney_record\", \"attorney_terminate\", \"attorney_terminate\", \"attorney_terminate\", \"attorney_terminate\", \"attorney_terminate\", \"attorney_terminate\", \"august\", \"august\", \"august\", \"august\", \"august\", \"august\", \"august\", \"august\", \"august\", \"august\", \"b\", \"b\", \"b\", \"b\", \"b\", \"b\", \"b\", \"b\", \"b\", \"b_rule_..\", \"b_rule_..\", \"b_rule_..\", \"b_rule_..\", \"bond\", \"bond\", \"bond\", \"bond\", \"bond\", \"bond\", \"c\", \"c\", \"c\", \"c\", \"c\", \"c\", \"c\", \"c\", \"c\", \"case\", \"case\", \"case\", \"case\", \"case\", \"case\", \"case\", \"case\", \"case\", \"case\", \"case_designate\", \"case_designate\", \"certificate_service\", \"certificate_service\", \"certificate_service\", \"certificate_service\", \"certificate_service\", \"certificate_service\", \"certificate_service\", \"certificate_service\", \"certify_class\", \"certify_class\", \"certify_class\", \"certify_class\", \"certify_copy_docket_sheet\", \"certify_copy_docket_sheet\", \"certify_copy_docket_sheet\", \"certify_copy_docket_sheet\", \"certify_copy_docket_sheet\", \"chamber\", \"chamber\", \"chamber\", \"chamber\", \"chamber\", \"chamber\", \"chamber\", \"chamber\", \"chamber\", \"change\", \"change\", \"change\", \"change\", \"change\", \"change\", \"change\", \"claim\", \"claim\", \"claim\", \"claim\", \"claim\", \"claim\", \"claim\", \"claim\", \"claim\", \"claim\", \"clerk\", \"clerk\", \"clerk\", \"clerk\", \"clerk\", \"clerk\", \"clerk\", \"clerk\", \"clerk\", \"clerk\", \"client\", \"client\", \"client\", \"client\", \"client\", \"complaint\", \"complaint\", \"complaint\", \"complaint\", \"complaint\", \"complaint\", \"complaint\", \"complaint\", \"complaint\", \"complaint\", \"complaint_pursuant_frcp\", \"complaint_pursuant_frcp\", \"complaint_pursuant_frcp\", \"complete\", \"complete\", \"complete\", \"complete\", \"complete\", \"complete\", \"complete\", \"complete\", \"complete\", \"conference\", \"conference\", \"conference\", \"conference\", \"conference\", \"conference\", \"conference\", \"conference\", \"conference\", \"conference\", \"conference_call\", \"conference_call\", \"conference_call\", \"conference_call\", \"conference_call\", \"conference_hold\", \"conference_hold\", \"conference_hold\", \"conference_hold\", \"conference_proceed_hold\", \"conference_proceed_hold\", \"conference_proceed_hold\", \"conference_proceed_hold\", \"connection\", \"connection\", \"connection\", \"connection\", \"connection\", \"connection\", \"consent\", \"consent\", \"consent\", \"consent\", \"consent\", \"consent\", \"consent\", \"consent\", \"consent\", \"consent\", \"consistent\", \"consistent\", \"consistent\", \"consistent\", \"consistent\", \"consistent\", \"consistent\", \"copy_mail_chamber\", \"copy_mail_chamber\", \"copy_mail_chamber\", \"copy_mail_chamber\", \"copy_mail_chamber\", \"copy_send_chamber\", \"copy_send_chamber\", \"copy_send_chamber\", \"copy_send_chamber\", \"copy_send_chamber\", \"copy_send_chamber\", \"copy_send_chamber\", \"copy_send_chamber\", \"corp..\", \"corp..\", \"corp..\", \"corp..\", \"corporate_parent\", \"corporate_parent\", \"corporate_parent\", \"cote\", \"cote\", \"cote\", \"cotton\", \"cotton\", \"cotton\", \"cotton\", \"cotton\", \"cotton\", \"cotton\", \"could\", \"could\", \"could\", \"could\", \"could\", \"could\", \"counsel\", \"counsel\", \"counsel\", \"counsel\", \"counsel\", \"counsel\", \"counsel\", \"counsel\", \"counsel\", \"counsel\", \"counsel_write\", \"counsel_write\", \"counsel_write\", \"counsel_write\", \"counsel_write\", \"counsel_write\", \"counsel_write\", \"counsel_write\", \"court\", \"court\", \"court\", \"court\", \"court\", \"court\", \"court\", \"court\", \"court\", \"court\", \"court_notice_intent\", \"court_notice_intent\", \"court_notice_intent\", \"court_notice_intent\", \"court_notice_intent\", \"court_reporter\", \"court_reporter\", \"court_reporter\", \"court_reporter\", \"court_reporter\", \"court_reportertranscriber\", \"court_reportertranscriber\", \"court_reportertranscriber\", \"court_reportertranscriber\", \"court_reportertranscriber\", \"court_reportertranscriber\", \"court_reportertranscriber_abovecaptioned_matter\", \"court_reportertranscriber_abovecaptioned_matter\", \"court_reportertranscriber_abovecaptioned_matter\", \"court_reportertranscriber_abovecaptioned_matter\", \"courtroom_pearl_street_new\", \"courtroom_pearl_street_new\", \"courtroom_pearl_street_new\", \"courtroom_pearl_street_new\", \"courtroom_pearl_street_new\", \"crossclaims\", \"crossclaims\", \"crossclaims\", \"crossclaims\", \"crossclaims\", \"crossclaims\", \"custodian\", \"custodian\", \"custodian\", \"custodian\", \"cyr\", \"cyr\", \"cyr\", \"cyr\", \"date\", \"date\", \"date\", \"date\", \"date\", \"date\", \"date\", \"date\", \"date\", \"date\", \"date_dec_dkt\", \"date_dec_dkt\", \"date_dec_dkt\", \"date_dec_dkt\", \"date_may_obtain\", \"date_may_obtain\", \"date_november\", \"date_november\", \"date_november\", \"date_november\", \"date_november\", \"date_november\", \"date_november\", \"date_purs\", \"date_purs\", \"date_purs\", \"date_purs\", \"deadline\", \"deadline\", \"deadline\", \"deadline\", \"deadline\", \"deadline\", \"deadline\", \"deadline\", \"deadline\", \"deadline\", \"december\", \"december\", \"december\", \"december\", \"december\", \"december\", \"december\", \"december\", \"december\", \"december\", \"declaration\", \"declaration\", \"declaration\", \"declaration\", \"declaration\", \"declaration\", \"declaration\", \"declaration\", \"declaration\", \"declaration\", \"declaration_opposition\", \"declaration_opposition\", \"declaration_opposition\", \"declaration_opposition\", \"declaration_opposition\", \"declaration_opposition\", \"declaration_opposition\", \"declaration_support\", \"declaration_support\", \"declaration_support\", \"declaration_support\", \"declaration_support\", \"declaration_support\", \"declaration_support\", \"declaration_support\", \"declaration_support\", \"declaration_support\", \"defendant\", \"defendant\", \"defendant\", \"defendant\", \"defendant\", \"defendant\", \"defendant\", \"defendant\", \"defendant\", \"defendant\", \"defendant_'\", \"defendant_'\", \"defendant_'\", \"defendant_'\", \"defendant_'\", \"defendant_'\", \"defendant_'\", \"defendant_'\", \"defendant_'\", \"defendant_'\", \"defts\", \"defts\", \"defts\", \"defts\", \"defts\", \"deny\", \"deny\", \"deny\", \"deny\", \"deny\", \"deny\", \"deny\", \"deny\", \"deny\", \"direct\", \"direct\", \"direct\", \"direct\", \"direct\", \"direct\", \"direct\", \"direct\", \"direct\", \"direct\", \"disclose\", \"disclose\", \"disclose\", \"disclose\", \"disclose\", \"disclose\", \"discovery\", \"discovery\", \"discovery\", \"discovery\", \"discovery\", \"discovery\", \"discovery\", \"discovery\", \"discovery\", \"discovery_ruling_conference\", \"discovery_ruling_conference\", \"discovery_ruling_conference\", \"discovery_ruling_conference\", \"discovery_ruling_conference\", \"discuss\", \"discuss\", \"discuss\", \"discuss\", \"discuss\", \"discuss\", \"discuss\", \"discuss\", \"dismiss\", \"dismiss\", \"dismiss\", \"dismiss\", \"dismiss\", \"dismiss\", \"dismiss\", \"dismiss\", \"dismiss\", \"dismiss\", \"dismiss.._document\", \"dismiss.._document\", \"dismiss.._document\", \"dismiss.._document\", \"dismiss.._document\", \"dismiss.._document\", \"dismiss.._document\", \"dismiss_counterclaim\", \"dismiss_counterclaim\", \"dismiss_counterclaim\", \"dismiss_counterclaim\", \"dismiss_counterclaim\", \"dismiss_pursuant_rule\", \"dismiss_pursuant_rule\", \"dismiss_pursuant_rule\", \"dismiss_pursuant_rule\", \"dismiss_pursuant_rule\", \"dismiss_second_amend\", \"dismiss_second_amend\", \"dismiss_second_amend\", \"dismiss_second_amend\", \"dismiss_second_amend\", \"dismissal\", \"dismissal\", \"dismissal\", \"dismissal\", \"dismissal\", \"dismissal\", \"dismissal\", \"dismissal\", \"dismissal\", \"distribution\", \"distribution\", \"distribution\", \"distribution\", \"distribution\", \"distribution\", \"distribution\", \"distribution\", \"district_judge\", \"district_judge\", \"district_judge\", \"district_judge\", \"district_judge\", \"district_judge\", \"djc\", \"djc\", \"djc\", \"djc\", \"djc\", \"djc\", \"djc\", \"djc\", \"dkt\", \"dkt\", \"dkt\", \"dkt\", \"dkt\", \"dkt\", \"dkt\", \"dkt\", \"dkt\", \"dkt\", \"docket\", \"docket\", \"docket\", \"docket\", \"docket\", \"docket\", \"docket\", \"docket\", \"docket\", \"docket\", \"document_place_vault\", \"document_place_vault\", \"document_place_vault\", \"document_place_vault\", \"due\", \"due\", \"due\", \"due\", \"due\", \"due\", \"due\", \"due\", \"due\", \"due\", \"e\", \"e\", \"e\", \"e\", \"e\", \"e\", \"e\", \"e\", \"either\", \"either\", \"either\", \"either\", \"either\", \"electronically_available_public_without\", \"electronically_available_public_without\", \"electronically_available_public_without\", \"electronically_available_public_without\", \"electronically_available_public_without\", \"electronically_available_public_without\", \"endorse\", \"endorse\", \"endorse\", \"endorse\", \"endorse\", \"endorse\", \"endorsed_letter_address\", \"endorsed_letter_address\", \"endorsed_letter_address\", \"endorsed_letter_address\", \"endorsed_letter_address\", \"endorsed_letter_address\", \"endorsed_letter_address\", \"endorsed_letter_address\", \"endorsed_letter_address\", \"endorsed_letter_address\", \"endorsement\", \"endorsement\", \"endorsement\", \"endorsement\", \"endorsement\", \"endorsement\", \"endorsement\", \"endorsement\", \"endorsement\", \"endorsement\", \"entirety\", \"entirety\", \"entirety\", \"entirety\", \"entirety\", \"entirety\", \"entirety\", \"entirety\", \"erratum\", \"erratum\", \"erratum\", \"erratum\", \"erratum\", \"error\", \"error\", \"error\", \"error\", \"error\", \"error\", \"error_electronic_filing_nonecf\", \"error_electronic_filing_nonecf\", \"error_electronic_filing_nonecf\", \"error_electronic_filing_nonecf\", \"error_electronic_filing_nonecf\", \"estate_m.l\", \"estate_m.l\", \"estate_m.l\", \"estate_m.l\", \"estate_m.l\", \"event\", \"event\", \"event\", \"event\", \"event\", \"event\", \"event\", \"event\", \"event\", \"event\", \"evidence\", \"evidence\", \"evidence\", \"evidence\", \"evidence\", \"evidence\", \"evidence\", \"ex\", \"ex\", \"ex\", \"ex\", \"ex\", \"ex\", \"ex\", \"ex\", \"ex\", \"exhibit\", \"exhibit\", \"exhibit\", \"exhibit\", \"exhibit\", \"exhibit\", \"exhibit\", \"exhibit\", \"exhibit\", \"exhibit\", \"expert_discovery\", \"expert_discovery\", \"expert_discovery\", \"expert_discovery\", \"expert_discovery\", \"extend\", \"extend\", \"extend\", \"extend\", \"extend\", \"extend\", \"extend\", \"extend\", \"f\", \"f\", \"f\", \"f\", \"f\", \"f\", \"f\", \"fact_discovery\", \"fact_discovery\", \"fact_discovery\", \"fact_discovery\", \"fact_discovery\", \"fact_discovery\", \"fact_discovery\", \"fax\", \"fax\", \"fax\", \"fax\", \"fax\", \"fee_receipt_number\", \"fee_receipt_number\", \"fee_receipt_number\", \"fee_receipt_number\", \"fee_receipt_number\", \"fee_receipt_number\", \"fee_receipt_number\", \"filing\", \"filing\", \"filing\", \"filing\", \"filing\", \"filing\", \"filing\", \"filing\", \"filing\", \"final\", \"final\", \"final\", \"final\", \"final\", \"first\", \"first\", \"first\", \"first\", \"first\", \"first\", \"first\", \"first\", \"first\", \"first\", \"follow\", \"follow\", \"follow\", \"follow\", \"follow\", \"follow\", \"follow\", \"follow\", \"follow\", \"follow\", \"form\", \"form\", \"form\", \"form\", \"form\", \"form\", \"form\", \"form\", \"form\", \"form\", \"friday\", \"friday\", \"friday\", \"friday\", \"friday\", \"friday\", \"ft\", \"ft\", \"ft\", \"ft\", \"fund_l.p.\", \"fund_l.p.\", \"fund_l.p.\", \"fund_l.p.\", \"g\", \"g\", \"g\", \"g\", \"g.c\", \"g.c\", \"g.c\", \"g.c\", \"g.c\", \"genesys_id_inc.._basile\", \"genesys_id_inc.._basile\", \"genesys_id_inc.._basile\", \"genesys_id_inc.._basile\", \"genesys_id_inc.._basile\", \"goodwin\", \"goodwin\", \"goodwin\", \"goodwin\", \"gr\", \"gr\", \"gr\", \"gr\", \"gr\", \"gr\", \"gr\", \"grant\", \"grant\", \"grant\", \"grant\", \"grant\", \"grant\", \"grant\", \"grant\", \"grant\", \"grant\", \"h\", \"h\", \"h\", \"h\", \"h\", \"h\", \"h\", \"han_kook\", \"han_kook\", \"han_kook\", \"han_kook\", \"han_kook\", \"hedge_strategy_fund_ibex\", \"hedge_strategy_fund_ibex\", \"hedge_strategy_fund_ibex\", \"hedge_strategy_fund_ibex\", \"hedge_strategy_fund_ibex\", \"hedge_strategy_fund_ibex\", \"hereby\", \"hereby\", \"hereby\", \"hereby\", \"hereby\", \"hereby\", \"hereby\", \"hereby\", \"hereby\", \"hereby\", \"hereby_give_official_transcript\", \"hereby_give_official_transcript\", \"hereby_give_official_transcript\", \"hereby_give_official_transcript\", \"hereby_stipulate_agree_undersigned\", \"hereby_stipulate_agree_undersigned\", \"hereby_stipulate_agree_undersigned\", \"hereby_stipulate_agree_undersigned\", \"hereby_stipulate_agree_undersigned\", \"hold\", \"hold\", \"hold\", \"hold\", \"hold\", \"hold\", \"hold\", \"hold\", \"hold\", \"hold\", \"honor\", \"honor\", \"honor\", \"honor\", \"honor\", \"honor\", \"honor\", \"honor\", \"however\", \"however\", \"however\", \"however\", \"however\", \"however\", \"however\", \"however\", \"however\", \"inc..\", \"inc..\", \"inc..\", \"inc..\", \"inc..\", \"inc..\", \"inc..\", \"inc..\", \"inc..\", \"inc..\", \"individual_practice\", \"individual_practice\", \"individual_practice\", \"individual_practice\", \"individual_practice\", \"individual_rule\", \"individual_rule\", \"individual_rule\", \"individual_rule\", \"individual_rule\", \"individual_rule\", \"individual_rule\", \"information\", \"information\", \"information\", \"information\", \"information\", \"information\", \"information\", \"information\", \"information\", \"iv\", \"iv\", \"iv\", \"iv\", \"iv\", \"ja\", \"ja\", \"ja\", \"january\", \"january\", \"january\", \"january\", \"january\", \"january\", \"january\", \"january\", \"january\", \"january\", \"jar\", \"jar\", \"jar\", \"jar\", \"jar\", \"jco\", \"jco\", \"jco\", \"jco\", \"jco\", \"jp\", \"jp\", \"jp\", \"jp\", \"jp\", \"jp\", \"jpo\", \"jpo\", \"jpo\", \"jpo\", \"jpo\", \"jr\", \"jr\", \"jr\", \"jr\", \"judge\", \"judge\", \"judge\", \"judge\", \"judge\", \"judge\", \"judge\", \"judge\", \"judge\", \"judge\", \"judge_c.d\", \"judge_c.d\", \"judge_c.d\", \"judge_c.d\", \"judge_d._kan._gr\", \"judge_d._kan._gr\", \"judge_d._kan._gr\", \"judge_d._kan._gr\", \"judge_d._kan._magistrate\", \"judge_d._kan._magistrate\", \"judge_d._kan._magistrate\", \"judge_d._kan._magistrate\", \"judge_d._kan._magistrate\", \"judge_d._kan._magistrate\", \"judge_date\", \"judge_date\", \"judge_date\", \"judge_date\", \"judge_date\", \"judge_date\", \"judge_date\", \"judge_date\", \"judge_date\", \"judge_date\", \"judge_iii\", \"judge_iii\", \"judge_iii\", \"judge_jury_trial\", \"judge_jury_trial\", \"judge_jury_trial\", \"judge_jury_trial\", \"judge_longer_assigned\", \"judge_longer_assigned\", \"judge_longer_assigned\", \"judgment\", \"judgment\", \"judgment\", \"judgment\", \"judgment\", \"judgment\", \"judgment\", \"judgment\", \"judgment\", \"judgment\", \"judgment_favor\", \"judgment_favor\", \"judgment_favor\", \"judgment_favor\", \"judgment_favor\", \"june\", \"june\", \"june\", \"june\", \"june\", \"june\", \"june\", \"june\", \"june\", \"june\", \"jury\", \"jury\", \"jury\", \"jury\", \"jury\", \"jury\", \"jury\", \"jury\", \"k\", \"k\", \"k\", \"k\", \"k\", \"k\", \"k\", \"k\", \"kco\", \"kco\", \"keely\", \"keely\", \"keely\", \"keely\", \"keely\", \"keely\", \"keely\", \"keely\", \"keely\", \"kkc\", \"kkc\", \"kkc\", \"kkc\", \"kkc\", \"kkc\", \"kw\", \"kw\", \"kw\", \"kw\", \"kw\", \"kw\", \"l.p.\", \"l.p.\", \"l.p.\", \"l.p.\", \"l.p.\", \"l.p.\", \"l.p.\", \"l.p.\", \"l.p.\", \"l.p.\", \"l.p._balentine_global_hedge\", \"l.p._balentine_global_hedge\", \"l.p._balentine_global_hedge\", \"l.p._balentine_global_hedge\", \"langer\", \"langer\", \"leave\", \"leave\", \"leave\", \"leave\", \"leave\", \"leave\", \"leave\", \"leave\", \"leave\", \"letter\", \"letter\", \"letter\", \"letter\", \"letter\", \"letter\", \"letter\", \"letter\", \"letter\", \"letter\", \"letter_address_judge\", \"letter_address_judge\", \"letter_address_judge\", \"letter_address_judge\", \"letter_address_judge\", \"letter_address_judge\", \"letter_address_judge\", \"letter_address_judge\", \"letter_address_judge\", \"limine\", \"limine\", \"limine\", \"limine\", \"limine\", \"limine\", \"limine\", \"limine\", \"limine\", \"limine_preclude_plaintiff_introduce\", \"limine_preclude_plaintiff_introduce\", \"limine_preclude_plaintiff_introduce\", \"limine_preclude_plaintiff_introduce\", \"limine_preclude_plaintiff_introduce\", \"limine_preclude_plaintiff_introduce\", \"line\", \"line\", \"line\", \"line\", \"line\", \"line\", \"llc\", \"llc\", \"llc\", \"llc\", \"llc\", \"llc\", \"llc\", \"llc\", \"llc\", \"llc\", \"lmb\", \"lmb\", \"lmb\", \"loan\", \"loan\", \"loan\", \"loan\", \"loan\", \"loan\", \"loan\", \"loan\", \"local_civil_rule\", \"local_civil_rule\", \"local_civil_rule\", \"local_civil_rule\", \"ltd..\", \"ltd..\", \"ltd..\", \"ltd..\", \"ltd..\", \"ltd..\", \"ltd..\", \"ltd..\", \"magistrate_judge\", \"magistrate_judge\", \"magistrate_judge\", \"magistrate_judge\", \"magistrate_judge\", \"magistrate_judge\", \"magistrate_judge\", \"magistrate_judge\", \"magistrate_judge\", \"magistrate_judge\", \"magistrate_judge_designate\", \"magistrate_judge_designate\", \"magistrate_judge_designate\", \"magistrate_judge_discovery_hear\", \"magistrate_judge_discovery_hear\", \"magistrate_judge_discovery_hear\", \"magnum_growth_fund_l.p.\", \"magnum_growth_fund_l.p.\", \"magnum_growth_fund_l.p.\", \"magnum_growth_fund_l.p.\", \"magnum_growth_fund_l.p.\", \"magnum_special_situation_fund\", \"magnum_special_situation_fund\", \"magnum_special_situation_fund\", \"magnum_special_situation_fund\", \"magnum_special_situation_fund\", \"mail\", \"mail\", \"mail\", \"mail\", \"mail\", \"mail\", \"mail\", \"mail\", \"mail\", \"mail_copy\", \"mail_copy\", \"mail_copy\", \"mail_copy\", \"mail_copy\", \"mail_copy\", \"mail_copy\", \"march\", \"march\", \"march\", \"march\", \"march\", \"march\", \"march\", \"march\", \"march\", \"march\", \"marshal\", \"marshal\", \"marshal\", \"marshal\", \"marshal\", \"master\", \"master\", \"master\", \"master\", \"master\", \"master\", \"master\", \"material\", \"material\", \"material\", \"material\", \"material\", \"material\", \"material\", \"matter\", \"matter\", \"matter\", \"matter\", \"matter\", \"matter\", \"matter\", \"matter\", \"matter\", \"may\", \"may\", \"may\", \"may\", \"may\", \"may\", \"may\", \"may\", \"may\", \"may\", \"mbe\", \"mbe\", \"mbe\", \"mbe\", \"mbe\", \"mc\", \"mc\", \"mc\", \"mc\", \"mc\", \"mc\", \"mc\", \"mdl\", \"mdl\", \"mdl\", \"mdl\", \"mdl\", \"mdl\", \"mdl\", \"mdl\", \"memoendorsement_letter_address\", \"memoendorsement_letter_address\", \"memoendorsement_letter_address\", \"memoendorsement_letter_address\", \"memoendorsement_letter_address\", \"memorandum_law_opposition\", \"memorandum_law_opposition\", \"memorandum_law_opposition\", \"memorandum_law_opposition\", \"memorandum_law_opposition\", \"memorandum_law_opposition\", \"memorandum_law_opposition\", \"memorandum_law_opposition\", \"memorandum_law_opposition\", \"memorandum_law_support\", \"memorandum_law_support\", \"memorandum_law_support\", \"memorandum_law_support\", \"memorandum_law_support\", \"memorandum_law_support\", \"memorandum_law_support\", \"memorandum_law_support\", \"memorandum_law_support\", \"memorandum_law_support\", \"memorandum_opinion\", \"memorandum_opinion\", \"memorandum_opinion\", \"memorandum_opinion\", \"memorandum_opinion\", \"memorandum_opinion\", \"merrill\", \"merrill\", \"merrill\", \"merrill\", \"minute_entry_proceeding_hold\", \"minute_entry_proceeding_hold\", \"minute_entry_proceeding_hold\", \"minute_entry_proceeding_hold\", \"minute_entry_proceeding_hold\", \"minute_entry_proceeding_hold\", \"minute_entry_proceeding_hold\", \"minute_entry_proceeding_hold\", \"minute_entry_proceeding_hold\", \"minute_entry_proceeding_hold\", \"modify\", \"modify\", \"modify\", \"modify\", \"modify\", \"modify\", \"modify\", \"modify\", \"modify\", \"modify\", \"modify_ldi\", \"modify_ldi\", \"modify_ldi\", \"modify_ldi\", \"motion\", \"motion\", \"motion\", \"motion\", \"motion\", \"motion\", \"motion\", \"motion\", \"motion\", \"motion\", \"motion_dismiss_thirdparty\", \"motion_dismiss_thirdparty\", \"motion_dismiss_thirdparty\", \"motion_dismiss_thirdparty\", \"motion_dismiss_thirdparty\", \"motion_dismiss_thirdparty\", \"motion_dismiss_thirdparty\", \"motion_dismiss_thirdparty\", \"mp\", \"mp\", \"mp\", \"mp\", \"mro\", \"mro\", \"mro\", \"mro\", \"mro\", \"mro\", \"mro\", \"n\", \"n\", \"n\", \"n\", \"n\", \"n\", \"nd\", \"nd\", \"nd\", \"nd\", \"nd\", \"new_address\", \"new_address\", \"new_address\", \"new_address\", \"new_address\", \"new_address\", \"new_address\", \"new_address\", \"new_york\", \"new_york\", \"new_york\", \"new_york\", \"new_york\", \"new_york\", \"new_york\", \"new_york\", \"new_york_ny\", \"new_york_ny\", \"new_york_ny\", \"new_york_ny\", \"new_york_observer_l.p.\", \"new_york_observer_l.p.\", \"new_york_observer_l.p.\", \"new_york_observer_l.p.\", \"nm\", \"nm\", \"nm\", \"nonecf_case_error\", \"nonecf_case_error\", \"note\", \"note\", \"note\", \"note\", \"note\", \"note\", \"note\", \"note\", \"note_attorney\", \"note_attorney\", \"note_attorney\", \"note_attorney\", \"note_attorney\", \"note_attorney\", \"note_attorney_refile_document\", \"note_attorney_refile_document\", \"note_attorney_refile_document\", \"note_attorney_refile_document\", \"note_attorney_refile_document\", \"note_attorney_refile_document\", \"notice\", \"notice\", \"notice\", \"notice\", \"notice\", \"notice\", \"notice\", \"notice\", \"notice\", \"notice\", \"notice_appeal\", \"notice_appeal\", \"notice_appeal\", \"notice_appeal\", \"notice_appeal\", \"notice_appeal\", \"notice_appeal\", \"notice_appeal\", \"notice_appeal\", \"notice_appearance_behalf\", \"notice_appearance_behalf\", \"notice_appearance_behalf\", \"notice_appearance_behalf\", \"notice_appearance_behalf\", \"notice_appearance_behalf\", \"notice_appearance_behalf\", \"notice_appearance_behalf\", \"notice_appearance_behalf\", \"notice_case_reassignment\", \"notice_case_reassignment\", \"notice_case_reassignment\", \"notice_case_reassignment\", \"notice_case_reassignment\", \"number\", \"number\", \"number\", \"number\", \"number\", \"number\", \"number\", \"number\", \"number\", \"number\", \"october\", \"october\", \"october\", \"october\", \"october\", \"october\", \"october\", \"october\", \"october\", \"office_p.c\", \"office_p.c\", \"office_p.c\", \"office_p.c\", \"officer\", \"officer\", \"officer\", \"officer\", \"officer\", \"official_transcript_notice\", \"official_transcript_notice\", \"official_transcript_notice\", \"official_transcript_notice\", \"opportunity\", \"opportunity\", \"opportunity\", \"opportunity\", \"opportunity\", \"oppose\", \"oppose\", \"oppose\", \"oppose\", \"oppose\", \"opposition\", \"opposition\", \"opposition\", \"opposition\", \"opposition\", \"opposition\", \"opposition\", \"opposition\", \"opposition\", \"oral_argument\", \"oral_argument\", \"oral_argument\", \"oral_argument\", \"oral_argument\", \"oral_argument\", \"oral_argument\", \"oral_argument\", \"oral_argument\", \"order\", \"order\", \"order\", \"order\", \"order\", \"order\", \"order\", \"order\", \"order\", \"order\", \"otherwise\", \"otherwise\", \"otherwise\", \"otherwise\", \"otherwise\", \"otherwise\", \"otherwise\", \"p.c\", \"p.c\", \"p.c\", \"p.c\", \"p.c\", \"p.c\", \"p.c\", \"p.c\", \"p.c\", \"pa\", \"pa\", \"pa\", \"pa\", \"pa\", \"pa\", \"pacer\", \"pacer\", \"page\", \"page\", \"page\", \"page\", \"page\", \"page\", \"page\", \"page\", \"page\", \"party\", \"party\", \"party\", \"party\", \"party\", \"party\", \"party\", \"party\", \"party\", \"party\", \"party_calendar_day\", \"party_calendar_day\", \"party_calendar_day\", \"party_calendar_day\", \"party_calendar_day\", \"party_shall_comply\", \"party_shall_comply\", \"party_shall_comply\", \"party_shall_comply\", \"party_shall_comply\", \"pdf\", \"pdf\", \"pdf\", \"pdf\", \"pdf\", \"pdf\", \"pennsylvania\", \"pennsylvania\", \"pennsylvania\", \"pennsylvania\", \"pennsylvania\", \"pennsylvania\", \"pennsylvania\", \"pennsylvania\", \"pennsylvania\", \"period\", \"period\", \"period\", \"period\", \"period\", \"period\", \"period\", \"period\", \"permit\", \"permit\", \"permit\", \"permit\", \"person\", \"person\", \"person\", \"person\", \"person\", \"pl\", \"pl\", \"pl\", \"pl\", \"pl\", \"pl\", \"pl\", \"pl\", \"pl\", \"plaintiff\", \"plaintiff\", \"plaintiff\", \"plaintiff\", \"plaintiff\", \"plaintiff\", \"plaintiff\", \"plaintiff\", \"plaintiff\", \"plaintiff\", \"plaintiff_'\", \"plaintiff_'\", \"plaintiff_'\", \"plaintiff_'\", \"plaintiff_'\", \"plaintiff_'\", \"plaintiff_'\", \"plaintiff_'\", \"plaintiff_'\", \"plaintiff_'\", \"plaintiff_'s\", \"plaintiff_'s\", \"plaintiff_'s\", \"plaintiff_'s\", \"plaintiff_'s\", \"plaintiff_'s\", \"plaintiff_'s\", \"plaintiff_'s\", \"plaintiff_'s\", \"plaintiff_'s\", \"plan\", \"plan\", \"plan\", \"plan\", \"plan\", \"plan\", \"pretrial_conference\", \"pretrial_conference\", \"pretrial_conference\", \"pretrial_conference\", \"pretrial_conference\", \"pretrial_conference\", \"pretrial_conference\", \"pro_se\", \"pro_se\", \"pro_se\", \"pro_se\", \"pro_se\", \"pro_se\", \"pro_se\", \"proceeding\", \"proceeding\", \"proceeding\", \"proceeding\", \"proceeding\", \"proceeding\", \"proceeding\", \"proceeding\", \"proceeding\", \"process\", \"process\", \"process\", \"process\", \"process\", \"propose\", \"propose\", \"propose\", \"propose\", \"propose\", \"propose\", \"propose\", \"propose\", \"propose\", \"propose\", \"propose_finding_fact_conclusion\", \"propose_finding_fact_conclusion\", \"proposed\", \"proposed\", \"proposed\", \"public_terminal_purchase_court\", \"public_terminal_purchase_court\", \"public_terminal_purchase_court\", \"public_terminal_purchase_court\", \"pursuant\", \"pursuant\", \"pursuant\", \"pursuant\", \"pursuant\", \"pursuant\", \"pursuant\", \"pursuant\", \"pursuant\", \"pursuant_federal_rule\", \"pursuant_federal_rule\", \"pursuant_federal_rule\", \"pursuant_federal_rule\", \"q\", \"q\", \"q\", \"r\", \"r\", \"r\", \"r\", \"r\", \"r\", \"reason_set_forth\", \"reason_set_forth\", \"reason_set_forth\", \"reason_set_forth\", \"reason_set_forth\", \"reason_state\", \"reason_state\", \"reason_state\", \"reason_state\", \"reason_state\", \"redact_transcript_deadline_set\", \"redact_transcript_deadline_set\", \"redact_transcript_deadline_set\", \"redaction_calendar_day_mcguirk\", \"redaction_calendar_day_mcguirk\", \"redaction_calendar_day_mcguirk\", \"redaction_calendar_day_mcguirk\", \"redaction_calendar_day_mcguirk\", \"regard\", \"regard\", \"regard\", \"regard\", \"regard\", \"regard\", \"regard\", \"regard\", \"regard\", \"regard\", \"reiter\", \"reiter\", \"reiter\", \"reiter\", \"release_transcript_restriction_set\", \"release_transcript_restriction_set\", \"release_transcript_restriction_set\", \"release_transcript_restriction_set\", \"release_transcript_restriction_set\", \"relevant\", \"relevant\", \"relevant\", \"relevant\", \"relevant\", \"reply\", \"reply\", \"reply\", \"reply\", \"reply\", \"reply\", \"reply\", \"reply\", \"reply\", \"reply\", \"reply_memorandum_law_support\", \"reply_memorandum_law_support\", \"reply_memorandum_law_support\", \"reply_memorandum_law_support\", \"reply_memorandum_law_support\", \"reply_memorandum_law_support\", \"reply_memorandum_law_support\", \"reportertranscriber_deadline_release_transcript\", \"reportertranscriber_deadline_release_transcript\", \"reportertranscriber_deadline_release_transcript\", \"reportertranscriber_deadline_release_transcript\", \"request\", \"request\", \"request\", \"request\", \"request\", \"request\", \"request\", \"request\", \"request\", \"request\", \"request_redaction_transcript\", \"request_redaction_transcript\", \"request_redaction_transcript\", \"request_redaction_transcript\", \"request_redaction_transcript\", \"reset\", \"reset\", \"reset\", \"reset\", \"reset\", \"reset\", \"reset\", \"reset\", \"reset\", \"response_due_reply\", \"response_due_reply\", \"response_due_reply\", \"response_due_reply\", \"response_due_reply\", \"response_due_reply\", \"restriction\", \"restriction\", \"restriction\", \"restriction\", \"restriction\", \"return\", \"return\", \"return\", \"return\", \"return\", \"return_date\", \"return_date\", \"return_date\", \"return_date\", \"revise_schedule_order\", \"revise_schedule_order\", \"revise_schedule_order\", \"revise_schedule_order\", \"revise_schedule_order\", \"revise_schedule_order\", \"rjm\", \"rjm\", \"rjm\", \"rjm\", \"rjm\", \"rule_certificate\", \"rule_certificate\", \"rule_certificate\", \"rule_certificate\", \"rule_corporate_disclosure_statement\", \"rule_corporate_disclosure_statement\", \"rule_corporate_disclosure_statement\", \"rule_corporate_disclosure_statement\", \"rule_corporate_disclosure_statement\", \"rule_corporate_disclosure_statement\", \"rule_deposition_objection\", \"rule_deposition_objection\", \"rule_deposition_objection\", \"rule_deposition_objection\", \"rule_disclosure_statement\", \"rule_disclosure_statement\", \"rule_disclosure_statement\", \"rule_disclosure_statement\", \"rule_statement\", \"rule_statement\", \"rule_statement\", \"rule_statement\", \"rule_statement\", \"rule_statement\", \"rule_statement\", \"rule_statement\", \"ruling\", \"ruling\", \"ruling\", \"ruling\", \"ruling\", \"sac\", \"sac\", \"sac\", \"sac\", \"sac\", \"sac\", \"sac\", \"sac\", \"sc\", \"sc\", \"sc\", \"schedule\", \"schedule\", \"schedule\", \"schedule\", \"schedule\", \"schedule\", \"schedule\", \"schedule\", \"schedule\", \"schedule\", \"scileppi\", \"scileppi\", \"scileppi\", \"seal\", \"seal\", \"seal\", \"seal\", \"seal\", \"seal\", \"seal\", \"seal\", \"seal\", \"seal\", \"see\", \"see\", \"see\", \"see\", \"see\", \"see\", \"see_attached\", \"see_attached\", \"see_attached\", \"select\", \"select\", \"select\", \"select\", \"select\", \"select\", \"send\", \"send\", \"send\", \"send\", \"send\", \"serve\", \"serve\", \"serve\", \"serve\", \"serve\", \"serve\", \"serve\", \"serve\", \"serve\", \"serve\", \"serve_answer_due\", \"serve_answer_due\", \"serve_answer_due\", \"serve_answer_due\", \"serve_answer_due\", \"serve_answer_due\", \"serve_answer_due\", \"service\", \"service\", \"service\", \"service\", \"service\", \"service\", \"service\", \"service\", \"service\", \"service\", \"service_accept\", \"service_accept\", \"service_accept\", \"service_accept\", \"service_accept\", \"service_accept\", \"service_make\", \"service_make\", \"service_make\", \"service_make\", \"service_process\", \"service_process\", \"service_process\", \"service_process\", \"service_process\", \"service_process\", \"set\", \"set\", \"set\", \"set\", \"set\", \"set\", \"set\", \"set\", \"set\", \"set\", \"set_answer_due\", \"set_answer_due\", \"set_answer_due\", \"set_answer_due\", \"set_forth\", \"set_forth\", \"set_forth\", \"set_forth\", \"set_forth\", \"set_forth\", \"set_forth\", \"set_forth\", \"set_forth\", \"set_forth\", \"setreset_deadline\", \"setreset_deadline\", \"setreset_deadline\", \"setreset_deadline\", \"setreset_deadline\", \"setreset_deadline\", \"settlement\", \"settlement\", \"settlement\", \"settlement\", \"settlement\", \"settlement\", \"settlement\", \"settlement\", \"settlement\", \"settlement\", \"settlement_conference\", \"settlement_conference\", \"settlement_conference\", \"settlement_conference\", \"settlement_conference\", \"settlement_conference\", \"settlement_conference\", \"settlement_conference\", \"shall\", \"shall\", \"shall\", \"shall\", \"shall\", \"shall\", \"shall\", \"shall\", \"shall\", \"shall\", \"shall_serve\", \"shall_serve\", \"shall_serve\", \"shall_serve\", \"shall_serve\", \"shall_serve\", \"shall_serve\", \"shall_serve\", \"shall_submit\", \"shall_submit\", \"shall_submit\", \"shall_submit\", \"shall_submit\", \"shall_submit\", \"shall_submit\", \"shall_submit\", \"sign_judge\", \"sign_judge\", \"sign_judge\", \"sign_judge\", \"sign_judge\", \"sign_judge\", \"sign_judge\", \"sign_judge\", \"sign_judge\", \"sign_judge\", \"sign_judge_copy_mail\", \"sign_judge_copy_mail\", \"sign_judge_copy_mail\", \"sign_judge_copy_mail\", \"sign_judge_copy_mail\", \"sign_judge_copy_mail\", \"sign_judge_copy_mail\", \"sign_judge_gr\", \"sign_judge_gr\", \"sign_judge_gr\", \"sign_judge_gr\", \"sign_judge_gr\", \"sign_judge_iii\", \"sign_judge_iii\", \"sign_judge_iii\", \"sign_judge_iii\", \"sign_judge_iii\", \"sign_judge_iii\", \"sign_judge_s.d.n.y\", \"sign_judge_s.d.n.y\", \"sign_judge_s.d.n.y\", \"sign_judge_s.d.n.y\", \"sign_judge_sr\", \"sign_judge_sr\", \"sign_magistrate_judge\", \"sign_magistrate_judge\", \"sign_magistrate_judge\", \"sign_magistrate_judge\", \"sign_magistrate_judge\", \"sign_magistrate_judge\", \"sign_magistrate_judge\", \"sign_magistrate_judge\", \"sign_magistrate_judge\", \"sn\", \"sn\", \"sn\", \"sn\", \"statement\", \"statement\", \"statement\", \"statement\", \"statement\", \"statement\", \"statement\", \"statement\", \"statement\", \"stillwater_market_neutral_fund\", \"stillwater_market_neutral_fund\", \"stillwater_market_neutral_fund\", \"stillwater_market_neutral_fund\", \"stipulation\", \"stipulation\", \"stipulation\", \"stipulation\", \"stipulation\", \"stipulation\", \"stipulation\", \"stipulation\", \"stipulation\", \"stipulation\", \"stock\", \"stock\", \"stock\", \"stock\", \"stock\", \"submit\", \"submit\", \"submit\", \"submit\", \"submit\", \"submit\", \"submit\", \"submit\", \"submit\", \"submit\", \"substitute\", \"substitute\", \"substitute\", \"substitute\", \"substitute\", \"substitution\", \"substitution\", \"substitution\", \"substitution\", \"substitution\", \"summary_judgment\", \"summary_judgment\", \"summary_judgment\", \"summary_judgment\", \"summary_judgment\", \"summary_judgment\", \"summary_judgment\", \"summary_judgment\", \"summary_judgment_favor\", \"summary_judgment_favor\", \"summary_judgment_favor\", \"summons_complaint\", \"summons_complaint\", \"summons_complaint\", \"summons_complaint\", \"summons_complaint\", \"summons_complaint\", \"summons_complaint\", \"summons_issue\", \"summons_issue\", \"summons_issue\", \"summons_issue\", \"summons_issue\", \"summons_issue\", \"supplemental_amend\", \"supplemental_amend\", \"supplemental_amend\", \"supplemental_amend\", \"supplemental_amend\", \"supplemental_amend\", \"support\", \"support\", \"support\", \"support\", \"support\", \"support\", \"support\", \"support\", \"support\", \"support\", \"support_[_]\", \"support_[_]\", \"support_[_]\", \"support_[_]\", \"support_[_]\", \"support_[_]\", \"support_paper_review\", \"support_paper_review\", \"support_paper_review\", \"support_paper_review\", \"support_paper_review\", \"tape\", \"tape\", \"tape\", \"tape\", \"telephone\", \"telephone\", \"telephone\", \"telephone\", \"telephone\", \"telephone\", \"telephone\", \"telephone_conference_hold\", \"telephone_conference_hold\", \"telephone_conference_hold\", \"telephone_conference_hold\", \"telephone_conference_hold\", \"telephone_conference_hold\", \"telephone_conference_hold\", \"telephone_conference_set\", \"telephone_conference_set\", \"telephone_conference_set\", \"telephone_conference_set\", \"telephone_conference_set\", \"text\", \"text\", \"text\", \"third_party_complaint\", \"third_party_complaint\", \"third_party_complaint\", \"third_party_complaint\", \"total\", \"total\", \"total\", \"total\", \"total\", \"total\", \"total\", \"tp\", \"tp\", \"transcript_may_make_remotely\", \"transcript_may_make_remotely\", \"transcript_may_make_remotely\", \"transcript_may_make_remotely\", \"transcript_may_make_remotely\", \"transcript_may_make_remotely\", \"transcript_may_view_court\", \"transcript_may_view_court\", \"transcript_may_view_court\", \"transcript_may_view_court\", \"transcript_proceeding_conference_hold\", \"transcript_proceeding_conference_hold\", \"transcript_proceeding_conference_hold\", \"transcript_proceeding_conference_hold\", \"transcript_proceeding_conference_hold\", \"transcript_proceeding_conference_hold\", \"transcript_proceeding_hold\", \"transcript_proceeding_hold\", \"transcript_proceeding_hold\", \"transcript_proceeding_hold\", \"transcript_proceeding_hold\", \"transcript_proceeding_hold\", \"transcript_proceeding_hold\", \"transcript_proceeding_hold\", \"transfer\", \"transfer\", \"transfer\", \"transfer\", \"transfer\", \"transfer\", \"transfer_new_york_eastern\", \"transfer_new_york_eastern\", \"transfer_new_york_eastern\", \"transfer_new_york_eastern\", \"transmission\", \"transmission\", \"transmission\", \"transmit\", \"transmit\", \"transmit\", \"transmit\", \"transmit\", \"transmit\", \"transmit\", \"trial\", \"trial\", \"trial\", \"trial\", \"trial\", \"trial\", \"trial\", \"trial\", \"trial\", \"tro\", \"tro\", \"tro\", \"tro\", \"unless\", \"unless\", \"unless\", \"unless\", \"unless\", \"upon\", \"upon\", \"upon\", \"upon\", \"upon\", \"upon\", \"upon\", \"upon\", \"usa\", \"usa\", \"usa\", \"usa\", \"usa\", \"usa\", \"usa\", \"usca\", \"usca\", \"usca\", \"usca\", \"v.\", \"v.\", \"v.\", \"v.\", \"v.\", \"v.\", \"v.\", \"v.\", \"v.\", \"vacate\", \"vacate\", \"vacate\", \"vacate\", \"vacate\", \"vacate\", \"wellington\", \"wellington\", \"wellington\", \"wellington\", \"wellington\", \"withdraw_attorney\", \"withdraw_attorney\", \"withdraw_attorney\", \"withdraw_attorney\", \"withdraw_attorney\", \"withdraw_attorney\", \"withdrawal\", \"withdrawal\", \"withdrawal\", \"worcester\", \"worcester\", \"worcester\", \"york_ny_judge\", \"york_ny_judge\", \"york_ny_judge\", \"york_ny_judge\", \"york_ny_judge\", \"york_ny_magistrate_judge\", \"york_ny_magistrate_judge\", \"york_ny_magistrate_judge\", \"york_ny_magistrate_judge\", \"york_ny_magistrate_judge\", \"yv\", \"yv\", \"yv\", \"yv\", \"yv\", \"yv\", \"yv\"]}, \"R\": 30, \"lambda.step\": 0.01};\n",
       "\n",
       "function LDAvis_load_lib(url, callback){\n",
       "  var s = document.createElement('script');\n",
       "  s.src = url;\n",
       "  s.async = true;\n",
       "  s.onreadystatechange = s.onload = callback;\n",
       "  s.onerror = function(){console.warn(\"failed to load library \" + url);};\n",
       "  document.getElementsByTagName(\"head\")[0].appendChild(s);\n",
       "}\n",
       "\n",
       "if(typeof(LDAvis) !== \"undefined\"){\n",
       "   // already loaded: just create the visualization\n",
       "   !function(LDAvis){\n",
       "       new LDAvis(\"#\" + \"ldavis_el1345219840189057528304745235\", ldavis_el1345219840189057528304745235_data);\n",
       "   }(LDAvis);\n",
       "}else if(typeof define === \"function\" && define.amd){\n",
       "   // require.js is available: use it to load d3/LDAvis\n",
       "   require.config({paths: {d3: \"https://cdnjs.cloudflare.com/ajax/libs/d3/3.5.5/d3.min\"}});\n",
       "   require([\"d3\"], function(d3){\n",
       "      window.d3 = d3;\n",
       "      LDAvis_load_lib(\"https://cdn.rawgit.com/bmabey/pyLDAvis/files/ldavis.v1.0.0.js\", function(){\n",
       "        new LDAvis(\"#\" + \"ldavis_el1345219840189057528304745235\", ldavis_el1345219840189057528304745235_data);\n",
       "      });\n",
       "    });\n",
       "}else{\n",
       "    // require.js not available: dynamically load d3 & LDAvis\n",
       "    LDAvis_load_lib(\"https://cdnjs.cloudflare.com/ajax/libs/d3/3.5.5/d3.min.js\", function(){\n",
       "         LDAvis_load_lib(\"https://cdn.rawgit.com/bmabey/pyLDAvis/files/ldavis.v1.0.0.js\", function(){\n",
       "                 new LDAvis(\"#\" + \"ldavis_el1345219840189057528304745235\", ldavis_el1345219840189057528304745235_data);\n",
       "            })\n",
       "         });\n",
       "}\n",
       "</script>"
      ],
      "text/plain": [
       "<IPython.core.display.HTML object>"
      ]
     },
     "execution_count": 348,
     "metadata": {},
     "output_type": "execute_result"
    }
   ],
   "source": [
    "#for topics = 10\n",
    "lda10_model_filepath = 'docket_texts/lda_model_noorgnomodel_10'\n",
    "LDAvis_prepared = topic_modeling_pipeline(10, lda10_model_filepath, trigram_bow_corpus, trigram_dictionary, export = True)\n",
    "pyLDAvis.display(LDAvis_prepared)"
   ]
  },
  {
   "cell_type": "markdown",
   "metadata": {},
   "source": [
    "### export results for examination"
   ]
  },
  {
   "cell_type": "code",
   "execution_count": null,
   "metadata": {},
   "outputs": [],
   "source": []
  },
  {
   "cell_type": "code",
   "execution_count": 349,
   "metadata": {},
   "outputs": [
    {
     "data": {
      "text/plain": [
       "0    [complaint file fee_receipt_number disclosure_...\n",
       "1    [case_assign judge magistrate_judge ., please_...\n",
       "2                          [summons_issue inc.. enter]\n",
       "3    [notice email attorney regard miss second page...\n",
       "4    [accordance_rule_federal rule_civil_procedure_...\n",
       "Name: Phrase Model, dtype: object"
      ]
     },
     "execution_count": 349,
     "metadata": {},
     "output_type": "execute_result"
    }
   ],
   "source": [
    ".head()"
   ]
  },
  {
   "cell_type": "code",
   "execution_count": null,
   "metadata": {},
   "outputs": [],
   "source": []
  },
  {
   "cell_type": "code",
   "execution_count": null,
   "metadata": {},
   "outputs": [],
   "source": []
  },
  {
   "cell_type": "code",
   "execution_count": null,
   "metadata": {},
   "outputs": [],
   "source": []
  },
  {
   "cell_type": "code",
   "execution_count": null,
   "metadata": {},
   "outputs": [],
   "source": []
  }
 ],
 "metadata": {
  "kernelspec": {
   "display_name": "Python 3",
   "language": "python",
   "name": "python3"
  }
 },
 "nbformat": 4,
 "nbformat_minor": 2
}
