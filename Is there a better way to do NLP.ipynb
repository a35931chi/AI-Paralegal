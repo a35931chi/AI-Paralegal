{
 "cells": [
  {
   "cell_type": "markdown",
   "metadata": {},
   "source": [
    "## Notebook Goal:  \n",
    "Using existing NLP and LDA methodologies to perform topic modeling on docket texts. Three hyperparameters to consider:\n",
    "1. to remove organization or not in docket texts, so organizations themselves won't become topics.\n",
    "2. to remove names or not in docket texts, so names themselves won't become topics.\n",
    "3. variations in topic numbers: [2, 3, 5, 10]\n",
    "\n",
    "Will then perform visualizations and model summary output on every permutation/iteration."
   ]
  },
  {
   "cell_type": "code",
   "execution_count": 1,
   "metadata": {},
   "outputs": [],
   "source": [
    "import nltk\n",
    "from nltk.tag.stanford import StanfordNERTagger\n",
    "from nltk.stem import WordNetLemmatizer\n",
    "from nltk.corpus import wordnet, stopwords\n",
    "from nltk import pos_tag, ne_chunk\n",
    "from nltk.tokenize import word_tokenize\n",
    "from nltk.chunk import conlltags2tree, tree2conlltags\n",
    "\n",
    "path_to_model = r'C:\\Users\\inves\\AppData\\Local\\Programs\\Python\\Python35\\Lib\\site-packages\\nltk\\stanford-ner-2018-02-27\\classifiers\\english.all.3class.distsim.crf.ser.gz'\n",
    "path_to_jar = r'C:\\Users\\inves\\AppData\\Local\\Programs\\Python\\Python35\\Lib\\site-packages\\nltk\\stanford-ner-2018-02-27\\stanford-ner.jar'\n",
    "tagger = StanfordNERTagger(path_to_model, path_to_jar = path_to_jar)"
   ]
  },
  {
   "cell_type": "code",
   "execution_count": 2,
   "metadata": {},
   "outputs": [
    {
     "name": "stderr",
     "output_type": "stream",
     "text": [
      "c:\\users\\inves\\appdata\\local\\programs\\python\\python35\\lib\\site-packages\\gensim\\utils.py:1197: UserWarning: detected Windows; aliasing chunkize to chunkize_serial\n",
      "  warnings.warn(\"detected Windows; aliasing chunkize to chunkize_serial\")\n"
     ]
    }
   ],
   "source": [
    "from gensim.models.word2vec import LineSentence\n",
    "from gensim.models import Phrases\n",
    "from gensim.corpora import Dictionary, MmCorpus\n",
    "from gensim.models.ldamulticore import LdaMulticore\n",
    "\n",
    "#visualization libraries\n",
    "import pyLDAvis\n",
    "import pyLDAvis.gensim"
   ]
  },
  {
   "cell_type": "code",
   "execution_count": 10,
   "metadata": {},
   "outputs": [],
   "source": [
    "import os\n",
    "import pandas as pd\n",
    "import numpy as np\n",
    "import codecs\n",
    "import itertools as it\n",
    "from bs4 import BeautifulSoup\n",
    "import warnings\n",
    "import pickle\n",
    "from collections import Counter\n",
    "import re\n",
    "import datetime\n",
    "import string\n",
    "\n",
    "java_path = 'C:/Program Files/Java/jdk-10.0.1/bin/java.exe'\n",
    "os.environ['JAVAHOME'] = java_path"
   ]
  },
  {
   "cell_type": "code",
   "execution_count": 4,
   "metadata": {},
   "outputs": [
    {
     "name": "stdout",
     "output_type": "stream",
     "text": [
      "[nltk_data] Downloading package words to\n",
      "[nltk_data]     C:\\Users\\inves\\AppData\\Roaming\\nltk_data...\n",
      "[nltk_data]   Package words is already up-to-date!\n",
      "[nltk_data] Downloading package averaged_perceptron_tagger to\n",
      "[nltk_data]     C:\\Users\\inves\\AppData\\Roaming\\nltk_data...\n",
      "[nltk_data]   Package averaged_perceptron_tagger is already up-to-\n",
      "[nltk_data]       date!\n",
      "[nltk_data] Downloading package maxent_ne_chunker to\n",
      "[nltk_data]     C:\\Users\\inves\\AppData\\Roaming\\nltk_data...\n",
      "[nltk_data]   Package maxent_ne_chunker is already up-to-date!\n"
     ]
    },
    {
     "data": {
      "text/plain": [
       "True"
      ]
     },
     "execution_count": 4,
     "metadata": {},
     "output_type": "execute_result"
    }
   ],
   "source": [
    "nltk.download('words')\n",
    "nltk.download('averaged_perceptron_tagger')\n",
    "nltk.download('maxent_ne_chunker')"
   ]
  },
  {
   "cell_type": "code",
   "execution_count": 5,
   "metadata": {},
   "outputs": [],
   "source": [
    "filename = 'docket_texts/train/DT/basic_df.pickle'"
   ]
  },
  {
   "cell_type": "code",
   "execution_count": 6,
   "metadata": {},
   "outputs": [],
   "source": [
    "#to load\n",
    "with open(filename, 'rb') as handle:\n",
    "    NER_df = pickle.load(handle)"
   ]
  },
  {
   "cell_type": "code",
   "execution_count": 7,
   "metadata": {},
   "outputs": [],
   "source": [
    "new_df = NER_df.copy()"
   ]
  },
  {
   "cell_type": "code",
   "execution_count": 8,
   "metadata": {},
   "outputs": [],
   "source": [
    "docket_original = list(new_df['Original Docket Text'])"
   ]
  },
  {
   "cell_type": "markdown",
   "metadata": {},
   "source": [
    "### Actually we can do some deduping... but can wait as well"
   ]
  },
  {
   "cell_type": "code",
   "execution_count": 9,
   "metadata": {},
   "outputs": [
    {
     "data": {
      "text/plain": [
       "3203"
      ]
     },
     "execution_count": 9,
     "metadata": {},
     "output_type": "execute_result"
    }
   ],
   "source": [
    "len(set(docket_original))"
   ]
  },
  {
   "cell_type": "code",
   "execution_count": 11,
   "metadata": {},
   "outputs": [
    {
     "data": {
      "text/plain": [
       "False"
      ]
     },
     "execution_count": 11,
     "metadata": {},
     "output_type": "execute_result"
    }
   ],
   "source": [
    "def valid_date(datestring):\n",
    "    try:\n",
    "        mat = re.match('(\\d{1,2})[/.-](\\d{2})[/.-](\\d{4})$', datestring)\n",
    "        if mat is not None:\n",
    "            datetime.datetime(*(map(int, mat.groups()[-1::-1])))\n",
    "            return True\n",
    "    except ValueError:\n",
    "        pass\n",
    "    return False\n",
    "    \n",
    "valid_date('003/11/2016')"
   ]
  },
  {
   "cell_type": "markdown",
   "metadata": {},
   "source": [
    "### 1. Normalize"
   ]
  },
  {
   "cell_type": "code",
   "execution_count": 78,
   "metadata": {},
   "outputs": [
    {
     "name": "stdout",
     "output_type": "stream",
     "text": [
      "COMPLAINT against Cardiogenics Holdings, Inc. filing fee $ 400, receipt number 0207-8445206 Was the Disclosure Statement on Civil Cover Sheet completed -YES,, filed by LG Capital Funding, LLC. (Steinmetz, Michael) (Additional attachment(s) added on 3/11/2016: # 1 Civil Cover Sheet, # 2 Proposed Summons) (Bowens, Priscilla). (Entered: 03/10/2016) \n",
      "\n",
      "complaint against cardiogenics holdings inc filing fee receipt number was the disclosure statement on civil cover sheet completed yes filed by lg capital funding llc steinmetz michael additional attachment s added on date civil cover sheet proposed summons bowens priscilla entered date \n"
     ]
    }
   ],
   "source": [
    "url_regex = r\"\"\"(?i)\\b((?:https?:(?:/{1,3}|[a-z0-9%])|[a-z0-9.\\-]+[.](?:com|net|org|edu|gov|mil|aero|asia|biz|cat|coop|info|int|jobs|mobi|museum|name|post|pro|tel|travel|xxx|ac|ad|ae|af|ag|ai|al|am|an|ao|aq|ar|as|at|au|aw|ax|az|ba|bb|bd|be|bf|bg|bh|bi|bj|bm|bn|bo|br|bs|bt|bv|bw|by|bz|ca|cc|cd|cf|cg|ch|ci|ck|cl|cm|cn|co|cr|cs|cu|cv|cx|cy|cz|dd|de|dj|dk|dm|do|dz|ec|ee|eg|eh|er|es|et|eu|fi|fj|fk|fm|fo|fr|ga|gb|gd|ge|gf|gg|gh|gi|gl|gm|gn|gp|gq|gr|gs|gt|gu|gw|gy|hk|hm|hn|hr|ht|hu|id|ie|il|im|in|io|iq|ir|is|it|je|jm|jo|jp|ke|kg|kh|ki|km|kn|kp|kr|kw|ky|kz|la|lb|lc|li|lk|lr|ls|lt|lu|lv|ly|ma|mc|md|me|mg|mh|mk|ml|mm|mn|mo|mp|mq|mr|ms|mt|mu|mv|mw|mx|my|mz|na|nc|ne|nf|ng|ni|nl|no|np|nr|nu|nz|om|pa|pe|pf|pg|ph|pk|pl|pm|pn|pr|ps|pt|pw|py|qa|re|ro|rs|ru|rw|sa|sb|sc|sd|se|sg|sh|si|sj|Ja|sk|sl|sm|sn|so|sr|ss|st|su|sv|sx|sy|sz|tc|td|tf|tg|th|tj|tk|tl|tm|tn|to|tp|tr|tt|tv|tw|tz|ua|ug|uk|us|uy|uz|va|vc|ve|vg|vi|vn|vu|wf|ws|ye|yt|yu|za|zm|zw)/)(?:[^\\s()<>{}\\[\\]]+|\\([^\\s()]*?\\([^\\s()]+\\)[^\\s()]*?\\)|\\([^\\s]+?\\))+(?:\\([^\\s()]*?\\([^\\s()]+\\)[^\\s()]*?\\)|\\([^\\s]+?\\)|[^\\s`!()\\[\\]{};:'\".,<>?«»“”‘’])|(?:(?<!@)[a-z0-9]+(?:[.\\-][a-z0-9]+)*[.](?:com|net|org|edu|gov|mil|aero|asia|biz|cat|coop|info|int|jobs|mobi|museum|name|post|pro|tel|travel|xxx|ac|ad|ae|af|ag|ai|al|am|an|ao|aq|ar|as|at|au|aw|ax|az|ba|bb|bd|be|bf|bg|bh|bi|bj|bm|bn|bo|br|bs|bt|bv|bw|by|bz|ca|cc|cd|cf|cg|ch|ci|ck|cl|cm|cn|co|cr|cs|cu|cv|cx|cy|cz|dd|de|dj|dk|dm|do|dz|ec|ee|eg|eh|er|es|et|eu|fi|fj|fk|fm|fo|fr|ga|gb|gd|ge|gf|gg|gh|gi|gl|gm|gn|gp|gq|gr|gs|gt|gu|gw|gy|hk|hm|hn|hr|ht|hu|id|ie|il|im|in|io|iq|ir|is|it|je|jm|jo|jp|ke|kg|kh|ki|km|kn|kp|kr|kw|ky|kz|la|lb|lc|li|lk|lr|ls|lt|lu|lv|ly|ma|mc|md|me|mg|mh|mk|ml|mm|mn|mo|mp|mq|mr|ms|mt|mu|mv|mw|mx|my|mz|na|nc|ne|nf|ng|ni|nl|no|np|nr|nu|nz|om|pa|pe|pf|pg|ph|pk|pl|pm|pn|pr|ps|pt|pw|py|qa|re|ro|rs|ru|rw|sa|sb|sc|sd|se|sg|sh|si|sj|Ja|sk|sl|sm|sn|so|sr|ss|st|su|sv|sx|sy|sz|tc|td|tf|tg|th|tj|tk|tl|tm|tn|to|tp|tr|tt|tv|tw|tz|ua|ug|uk|us|uy|uz|va|vc|ve|vg|vi|vn|vu|wf|ws|ye|yt|yu|za|zm|zw)\\b/?(?!@)))\"\"\"\n",
    "date_regex = '(\\d{1,2}[\\/ ](\\d{2}|January|Jan|February|Feb|March|Mar|April|Apr|May|May|June|Jun|July|Jul|August|Aug|September|Sep|October|Oct|November|Nov|December|Dec)[\\/ ]\\d{2,4})'\n",
    "punct_regex = r\"[^a-zA-Z0-9]\"\n",
    "num_regex = \"\\d+\"\n",
    "extraspace_regex = \" +\"\n",
    "\n",
    "docket_normalized = [text.lower() for text in docket_original]\n",
    "docket_nourl = [re.sub(url_regex, \"url\", text) for text in docket_normalized]\n",
    "docket_nodate = [re.sub(date_regex, \"date\", text) for text in docket_nourl]\n",
    "docket_nopunct = [re.sub(punct_regex, \" \", text) for text in docket_nodate]\n",
    "docket_nonum = [re.sub(num_regex, \" \", text) for text in docket_nopunct]\n",
    "docket_noextraspace = [re.sub(extraspace_regex, \" \", text) for text in docket_nonum]"
   ]
  },
  {
   "cell_type": "code",
   "execution_count": 13,
   "metadata": {},
   "outputs": [
    {
     "name": "stdout",
     "output_type": "stream",
     "text": [
      "COMPLAINT against Cardiogenics Holdings, Inc. filing fee $ 400, receipt number 0207-8445206 Was the Disclosure Statement on Civil Cover Sheet completed -YES,, filed by LG Capital Funding, LLC. (Steinmetz, Michael) (Additional attachment(s) added on 3/11/2016: # 1 Civil Cover Sheet, # 2 Proposed Summons) (Bowens, Priscilla). (Entered: 03/10/2016) \n",
      "\n",
      "complaint against cardiogenics holdings inc filing fee receipt number was the disclosure statement on civil cover sheet completed yes filed by lg capital funding llc steinmetz michael additional attachment s added on date civil cover sheet proposed summons bowens priscilla entered date \n"
     ]
    }
   ],
   "source": [
    "print(docket_original[0], '\\n')\n",
    "\n",
    "print(docket_noextraspace[0])"
   ]
  },
  {
   "cell_type": "markdown",
   "metadata": {},
   "source": [
    "### 2. Split and tokenize"
   ]
  },
  {
   "cell_type": "code",
   "execution_count": 14,
   "metadata": {},
   "outputs": [
    {
     "data": {
      "text/plain": [
       "['complaint',\n",
       " 'against',\n",
       " 'cardiogenics',\n",
       " 'holdings',\n",
       " 'inc',\n",
       " 'filing',\n",
       " 'fee',\n",
       " 'receipt',\n",
       " 'number',\n",
       " 'was',\n",
       " 'the',\n",
       " 'disclosure',\n",
       " 'statement',\n",
       " 'on',\n",
       " 'civil',\n",
       " 'cover',\n",
       " 'sheet',\n",
       " 'completed',\n",
       " 'yes',\n",
       " 'filed',\n",
       " 'by',\n",
       " 'lg',\n",
       " 'capital',\n",
       " 'funding',\n",
       " 'llc',\n",
       " 'steinmetz',\n",
       " 'michael',\n",
       " 'additional',\n",
       " 'attachment',\n",
       " 's',\n",
       " 'added',\n",
       " 'on',\n",
       " 'date',\n",
       " 'civil',\n",
       " 'cover',\n",
       " 'sheet',\n",
       " 'proposed',\n",
       " 'summons',\n",
       " 'bowens',\n",
       " 'priscilla',\n",
       " 'entered',\n",
       " 'date']"
      ]
     },
     "execution_count": 14,
     "metadata": {},
     "output_type": "execute_result"
    }
   ],
   "source": [
    "docket_tokenized = [word_tokenize(text) for text in docket_noextraspace]\n",
    "docket_tokenized[0]"
   ]
  },
  {
   "cell_type": "markdown",
   "metadata": {},
   "source": [
    "### 3. Remove Stop words"
   ]
  },
  {
   "cell_type": "code",
   "execution_count": 79,
   "metadata": {},
   "outputs": [
    {
     "name": "stdout",
     "output_type": "stream",
     "text": [
      "['complaint', 'cardiogenics', 'holdings', 'inc', 'filing', 'fee', 'receipt', 'number', 'disclosure', 'statement', 'civil', 'cover', 'sheet', 'completed', 'yes', 'filed', 'lg', 'capital', 'funding', 'llc', 'steinmetz', 'michael', 'additional', 'attachment', 'added', 'date', 'civil', 'cover', 'sheet', 'proposed', 'summons', 'bowens', 'priscilla', 'entered', 'date']\n"
     ]
    }
   ],
   "source": [
    "docket_nostop = [[w for w in words if w not in stopwords.words(\"english\")] for words in docket_tokenized]\n",
    "print(docket_nostop[0])"
   ]
  },
  {
   "cell_type": "markdown",
   "metadata": {},
   "source": [
    "### 4. Lemmatization"
   ]
  },
  {
   "cell_type": "code",
   "execution_count": 80,
   "metadata": {},
   "outputs": [
    {
     "name": "stdout",
     "output_type": "stream",
     "text": [
      "['complaint', 'cardiogenics', 'hold', 'inc', 'file', 'fee', 'receipt', 'number', 'disclosure', 'statement', 'civil', 'cover', 'sheet', 'complete', 'yes', 'file', 'lg', 'capital', 'fund', 'llc', 'steinmetz', 'michael', 'additional', 'attachment', 'add', 'date', 'civil', 'cover', 'sheet', 'propose', 'summon', 'bowens', 'priscilla', 'enter', 'date']\n"
     ]
    }
   ],
   "source": [
    "docket_lemmed = [[WordNetLemmatizer().lemmatize(w, pos='v') for w in words] for words in docket_nostop]\n",
    "print(docket_lemmed[0])"
   ]
  },
  {
   "cell_type": "markdown",
   "metadata": {},
   "source": [
    "### 5. Phrase Modeling"
   ]
  },
  {
   "cell_type": "code",
   "execution_count": 81,
   "metadata": {},
   "outputs": [
    {
     "data": {
      "text/plain": [
       "['complaint cardiogenics hold inc file fee receipt number disclosure statement civil cover sheet complete yes file lg capital fund llc steinmetz michael additional attachment add date civil cover sheet propose summon bowens priscilla enter date',\n",
       " 'case assign judge ann donnelly magistrate judge vera scanlon please download review individual practice assign judge locate website attorneys responsible provide courtesy copy judge individual practice require bowens priscilla enter date',\n",
       " 'summon issue cardiogenics hold inc bowens priscilla enter date',\n",
       " 'notice email attorney regard miss second page civil cover sheet bowens priscilla enter date',\n",
       " 'accordance rule federal rule civil procedure local rule party notify party consent unite state magistrate judge court available conduct proceed civil action include jury nonjury trial order entry final judgment attach notice blank copy consent form fill sign file electronically party wish consent form may also access follow link url may withhold consent without adverse substantive consequences return file consent unless party sign consent bowens priscilla enter date']"
      ]
     },
     "execution_count": 81,
     "metadata": {},
     "output_type": "execute_result"
    }
   ],
   "source": [
    "docket_phrase1 = [' '.join(text) for text in docket_lemmed]\n",
    "docket_phrase1[:5]"
   ]
  },
  {
   "cell_type": "code",
   "execution_count": 82,
   "metadata": {},
   "outputs": [],
   "source": [
    "unigram_sentences_filepath = 'docket_texts/train/DT/unigram_nltk_newsop.txt'"
   ]
  },
  {
   "cell_type": "code",
   "execution_count": 83,
   "metadata": {},
   "outputs": [
    {
     "name": "stdout",
     "output_type": "stream",
     "text": [
      "Wall time: 15.4 ms\n"
     ]
    }
   ],
   "source": [
    "%%time\n",
    "# turn the lemmatized corpus into unigram sentences\n",
    "with codecs.open(unigram_sentences_filepath, 'w', encoding = 'utf_8') as f:\n",
    "    for sentence in docket_phrase1:\n",
    "        f.write(sentence + '\\n')"
   ]
  },
  {
   "cell_type": "code",
   "execution_count": 84,
   "metadata": {},
   "outputs": [],
   "source": [
    "unigram_sentences = LineSentence(unigram_sentences_filepath)"
   ]
  },
  {
   "cell_type": "code",
   "execution_count": 85,
   "metadata": {},
   "outputs": [],
   "source": [
    "bigram_model_filepath = 'docket_texts/train/DT/bigram_model_newsop' "
   ]
  },
  {
   "cell_type": "code",
   "execution_count": 86,
   "metadata": {},
   "outputs": [
    {
     "name": "stdout",
     "output_type": "stream",
     "text": [
      "Wall time: 250 ms\n"
     ]
    }
   ],
   "source": [
    "%%time\n",
    "\n",
    "# store our bigram model\n",
    "bigram_model = Phrases(unigram_sentences)\n",
    "bigram_model.save(bigram_model_filepath)\n",
    "    \n",
    "# load the finished model from disk if we don't want to run this again\n",
    "#bigram_model = Phrases.load(bigram_model_filepath)"
   ]
  },
  {
   "cell_type": "code",
   "execution_count": 87,
   "metadata": {},
   "outputs": [],
   "source": [
    "bigram_sentences_filepath = 'docket_texts/train/DT/bigram_sentences_newsop.txt'"
   ]
  },
  {
   "cell_type": "code",
   "execution_count": 88,
   "metadata": {},
   "outputs": [
    {
     "name": "stderr",
     "output_type": "stream",
     "text": [
      "c:\\users\\inves\\appdata\\local\\programs\\python\\python35\\lib\\site-packages\\gensim\\models\\phrases.py:494: UserWarning: For a faster implementation, use the gensim.models.phrases.Phraser class\n",
      "  warnings.warn(\"For a faster implementation, use the gensim.models.phrases.Phraser class\")\n"
     ]
    },
    {
     "name": "stdout",
     "output_type": "stream",
     "text": [
      "Wall time: 484 ms\n"
     ]
    }
   ],
   "source": [
    "%%time\n",
    "\n",
    "# apply the bigram model, and write it to file\n",
    "with codecs.open(bigram_sentences_filepath, 'w', encoding = 'utf_8') as f:\n",
    "    for unigram_sentence in unigram_sentences:\n",
    "        bigram_sentence = ' '.join(bigram_model[unigram_sentence])\n",
    "        f.write(bigram_sentence + '\\n')"
   ]
  },
  {
   "cell_type": "code",
   "execution_count": 89,
   "metadata": {},
   "outputs": [],
   "source": [
    "bigram_sentences = LineSentence(bigram_sentences_filepath)"
   ]
  },
  {
   "cell_type": "code",
   "execution_count": 90,
   "metadata": {},
   "outputs": [
    {
     "name": "stdout",
     "output_type": "stream",
     "text": [
      "\n",
      "Unigram sentence:\n",
      "complaint cardiogenics hold inc file fee receipt number disclosure statement civil cover sheet complete yes file lg capital fund llc steinmetz michael additional attachment add date civil cover sheet propose summon bowens priscilla enter date\n",
      "case assign judge ann donnelly magistrate judge vera scanlon please download review individual practice assign judge locate website attorneys responsible provide courtesy copy judge individual practice require bowens priscilla enter date\n",
      "summon issue cardiogenics hold inc bowens priscilla enter date\n",
      "notice email attorney regard miss second page civil cover sheet bowens priscilla enter date\n",
      "accordance rule federal rule civil procedure local rule party notify party consent unite state magistrate judge court available conduct proceed civil action include jury nonjury trial order entry final judgment attach notice blank copy consent form fill sign file electronically party wish consent form may also access follow link url may withhold consent without adverse substantive consequences return file consent unless party sign consent bowens priscilla enter date\n",
      "attorney case open file check quality control see attachment corrections make bowens priscilla enter date\n",
      "notice appearance kevin kehrli behalf lg capital fund llc aty notice kehrli kevin enter date\n",
      "exhibit backend note lg capital fund llc relate document complaint file lg capital fund llc kehrli kevin enter date\n",
      "exhibit b ta letter lg capital fund llc relate document complaint file lg capital fund llc kehrli kevin enter date\n",
      "exhibit c notice conversion lg capital fund llc relate document complaint file lg capital fund llc kehrli kevin enter date\n",
      "\n",
      "Bigram sentence:\n",
      "complaint cardiogenics_hold inc file fee_receipt number disclosure_statement civil_cover sheet_complete yes file lg_capital fund_llc steinmetz michael additional_attachment add date civil_cover sheet propose summon bowens_priscilla enter date\n",
      "case assign judge ann_donnelly magistrate_judge vera_scanlon please_download review_individual practice_assign judge locate_website attorneys_responsible provide_courtesy copy judge individual_practice require bowens_priscilla enter date\n",
      "summon_issue cardiogenics_hold inc bowens_priscilla enter date\n",
      "notice email attorney regard miss second page civil_cover sheet bowens_priscilla enter date\n",
      "accordance rule_federal rule_civil procedure_local rule party notify party consent unite_state magistrate_judge court available_conduct proceed civil action include jury_nonjury trial order entry final judgment attach notice blank_copy consent_form fill sign file electronically party_wish consent_form may also_access follow_link url may_withhold consent without_adverse substantive_consequences return file consent_unless party sign consent bowens_priscilla enter date\n",
      "attorney case_open file check_quality control_see attachment_corrections make bowens_priscilla enter date\n",
      "notice_appearance kevin_kehrli behalf lg_capital fund_llc aty_notice kehrli_kevin enter date\n",
      "exhibit backend note lg_capital fund_llc relate document complaint file lg_capital fund_llc kehrli_kevin enter date\n",
      "exhibit b ta letter lg_capital fund_llc relate document complaint file lg_capital fund_llc kehrli_kevin enter date\n",
      "exhibit c notice_conversion lg_capital fund_llc relate document complaint file lg_capital fund_llc kehrli_kevin enter date\n"
     ]
    }
   ],
   "source": [
    "print('\\nUnigram sentence:')\n",
    "for unigram_sentence in it.islice(unigram_sentences, 0, 10):\n",
    "    print(' '.join(unigram_sentence))\n",
    "print('\\nBigram sentence:')\n",
    "for bigram_sentence in it.islice(bigram_sentences, 0, 10):\n",
    "    print(' '.join(bigram_sentence))"
   ]
  },
  {
   "cell_type": "code",
   "execution_count": 91,
   "metadata": {},
   "outputs": [],
   "source": [
    "trigram_model_filepath = 'docket_texts/train/DT/trigram_model_newsop'"
   ]
  },
  {
   "cell_type": "code",
   "execution_count": 92,
   "metadata": {},
   "outputs": [
    {
     "name": "stdout",
     "output_type": "stream",
     "text": [
      "Wall time: 250 ms\n"
     ]
    }
   ],
   "source": [
    "%%time\n",
    "\n",
    "# again, using Phrases to attach more words to phrases already formed\n",
    "trigram_model = Phrases(bigram_sentences)\n",
    "trigram_model.save(trigram_model_filepath)\n",
    "\n",
    "# load the finished model from disk\n",
    "#trigram_model = Phrases.load(trigram_model_filepath)"
   ]
  },
  {
   "cell_type": "code",
   "execution_count": 93,
   "metadata": {},
   "outputs": [],
   "source": [
    "trigram_sentences_filepath = 'docket_texts/train/DT/trigram_sentences_newsop.txt'"
   ]
  },
  {
   "cell_type": "code",
   "execution_count": 94,
   "metadata": {},
   "outputs": [
    {
     "name": "stderr",
     "output_type": "stream",
     "text": [
      "c:\\users\\inves\\appdata\\local\\programs\\python\\python35\\lib\\site-packages\\gensim\\models\\phrases.py:494: UserWarning: For a faster implementation, use the gensim.models.phrases.Phraser class\n",
      "  warnings.warn(\"For a faster implementation, use the gensim.models.phrases.Phraser class\")\n"
     ]
    },
    {
     "name": "stdout",
     "output_type": "stream",
     "text": [
      "Wall time: 437 ms\n"
     ]
    }
   ],
   "source": [
    "%%time\n",
    "\n",
    "with codecs.open(trigram_sentences_filepath, 'w', encoding = 'utf_8') as f:\n",
    "    for bigram_sentence in bigram_sentences:\n",
    "        #print('Bi', bigram_sentence)\n",
    "        trigram_sentence = ' '.join(trigram_model[bigram_sentence])\n",
    "        #print('Tri', trigram_sentence)\n",
    "        f.write(trigram_sentence + '\\n')"
   ]
  },
  {
   "cell_type": "code",
   "execution_count": 95,
   "metadata": {},
   "outputs": [],
   "source": [
    "trigram_sentences = LineSentence(trigram_sentences_filepath)"
   ]
  },
  {
   "cell_type": "code",
   "execution_count": 96,
   "metadata": {},
   "outputs": [
    {
     "name": "stdout",
     "output_type": "stream",
     "text": [
      "Original text:\n",
      "['complaint cardiogenics hold inc file fee receipt number disclosure statement civil cover sheet complete yes file lg capital fund llc steinmetz michael additional attachment add date civil cover sheet propose summon bowens priscilla enter date', 'case assign judge ann donnelly magistrate judge vera scanlon please download review individual practice assign judge locate website attorneys responsible provide courtesy copy judge individual practice require bowens priscilla enter date', 'summon issue cardiogenics hold inc bowens priscilla enter date', 'notice email attorney regard miss second page civil cover sheet bowens priscilla enter date', 'accordance rule federal rule civil procedure local rule party notify party consent unite state magistrate judge court available conduct proceed civil action include jury nonjury trial order entry final judgment attach notice blank copy consent form fill sign file electronically party wish consent form may also access follow link url may withhold consent without adverse substantive consequences return file consent unless party sign consent bowens priscilla enter date'] \n",
      "\n",
      "\n",
      "UNIGRAM Sentence:\n",
      "complaint cardiogenics hold inc file fee receipt number disclosure statement civil cover sheet complete yes file lg capital fund llc steinmetz michael additional attachment add date civil cover sheet propose summon bowens priscilla enter date\n",
      "case assign judge ann donnelly magistrate judge vera scanlon please download review individual practice assign judge locate website attorneys responsible provide courtesy copy judge individual practice require bowens priscilla enter date\n",
      "summon issue cardiogenics hold inc bowens priscilla enter date\n",
      "notice email attorney regard miss second page civil cover sheet bowens priscilla enter date\n",
      "accordance rule federal rule civil procedure local rule party notify party consent unite state magistrate judge court available conduct proceed civil action include jury nonjury trial order entry final judgment attach notice blank copy consent form fill sign file electronically party wish consent form may also access follow link url may withhold consent without adverse substantive consequences return file consent unless party sign consent bowens priscilla enter date\n",
      "\n",
      "BIGRAM Sentence:\n",
      "complaint cardiogenics_hold inc file fee_receipt number disclosure_statement civil_cover sheet_complete yes file lg_capital fund_llc steinmetz michael additional_attachment add date civil_cover sheet propose summon bowens_priscilla enter date\n",
      "case assign judge ann_donnelly magistrate_judge vera_scanlon please_download review_individual practice_assign judge locate_website attorneys_responsible provide_courtesy copy judge individual_practice require bowens_priscilla enter date\n",
      "summon_issue cardiogenics_hold inc bowens_priscilla enter date\n",
      "notice email attorney regard miss second page civil_cover sheet bowens_priscilla enter date\n",
      "accordance rule_federal rule_civil procedure_local rule party notify party consent unite_state magistrate_judge court available_conduct proceed civil action include jury_nonjury trial order entry final judgment attach notice blank_copy consent_form fill sign file electronically party_wish consent_form may also_access follow_link url may_withhold consent without_adverse substantive_consequences return file consent_unless party sign consent bowens_priscilla enter date\n",
      "\n",
      "TRIGRAM Sentence:\n",
      "complaint cardiogenics_hold_inc file fee_receipt_number disclosure_statement_civil_cover sheet_complete_yes file lg_capital_fund_llc steinmetz michael additional_attachment_add date civil_cover_sheet propose summon bowens_priscilla enter date\n",
      "case_assign judge_ann_donnelly magistrate_judge_vera_scanlon please_download_review_individual practice_assign_judge locate_website_attorneys_responsible provide_courtesy_copy judge_individual_practice require bowens_priscilla enter date\n",
      "summon_issue cardiogenics_hold_inc bowens_priscilla enter date\n",
      "notice email attorney regard miss second page civil_cover_sheet bowens_priscilla enter date\n",
      "accordance_rule_federal rule_civil_procedure_local rule party_notify party consent_unite_state magistrate_judge court available_conduct_proceed civil_action include_jury_nonjury trial order entry_final judgment attach notice blank_copy_consent_form fill_sign file electronically_party_wish consent_form_may also_access_follow_link url_may_withhold consent_without_adverse substantive_consequences_return file consent_unless party sign consent bowens_priscilla enter date\n"
     ]
    }
   ],
   "source": [
    "start = 0\n",
    "finish = 5\n",
    "print('Original text:')\n",
    "print(docket_phrase1[start:finish], '\\n')\n",
    "\n",
    "print('\\nUNIGRAM Sentence:')\n",
    "for unigram_sentence in it.islice(unigram_sentences, start, finish):\n",
    "    print(' '.join(unigram_sentence))\n",
    "print('\\nBIGRAM Sentence:')\n",
    "for bigram_sentence in it.islice(bigram_sentences, start, finish):\n",
    "    print(' '.join(bigram_sentence))\n",
    "print('\\nTRIGRAM Sentence:')\n",
    "for trigram_sentence in it.islice(trigram_sentences, start, finish):\n",
    "    print(' '.join(trigram_sentence))"
   ]
  },
  {
   "cell_type": "code",
   "execution_count": 64,
   "metadata": {},
   "outputs": [],
   "source": [
    "def trigram_transform(texts):\n",
    "    display = False\n",
    "    texts = str(texts)\n",
    "    trigram_output = ''\n",
    "    #print(texts)\n",
    "\n",
    "    remove_trigram = ['calendar_day', 'court_notice_intend', 'minute_entry_proceeding_hold', 'court_reportertranscriber_abovecaptioned_matter',\n",
    "                      'redaction_calendar_day', 'rule_statement', 'obtain_pacer', 'may_obtain_pacer', 'reportertranscriber_abovecaptioned_matter',\n",
    "                      'redact_transcript_deadline', 'send_chamber', \"official_transcript_notice_give\", \"notice_intent_request\", \"proceed_hold\", \n",
    "                      \"fee_receipt_number\", \"civil_procedure\", \"pursuant_frcp\", \"official_transcript_conference\", \n",
    "                      \"purchase_reportertranscriber_deadline_release\", \"et_al\", \"mail_chamber\", \"transcript_restriction\", \"redaction_transcript\", \n",
    "                      \"transcript_view_public_terminal\", \"transcript_make_remotely\", \"associated_et_al\", \"electronically_available_public_without\", \n",
    "                      \"genesys_id\", \"release_transcript_restriction\", \"adar_bay\", \"redaction_request_due\", \"new_york\", \"official_transcript_conference\", \n",
    "                      \"transcript_make_remotely\", \"transcript_proceeding_conference_hold\", \"redaction_transcript\",\n",
    "                      'affidavit_jr._c.p.a', 'corporate_parent', 'certain_underwriter', 'federal_rule_civil_procedure', 'redaction_request', \n",
    "                      'official_transcript', 'rule_disclosure', 'rule_corporate_disclosure', 'place_vault', 'public_without_redaction_calendar', \n",
    "                      'purchase_deadline_release_transcript', 'transcript_proceeding_hold', 'transcript_remotely_electronically_available',\n",
    "                      'minute_entry_hold', 'discovery_hear_hold', 'jury_trial_hold', \"sign_judge\",'place_vault']\n",
    "\n",
    "    if texts == None:\n",
    "        return None\n",
    "    \n",
    "    unigram_review = []\n",
    "    for word in texts.split():\n",
    "        unigram_review.append(word)\n",
    "    if display:\n",
    "        print('Uni: ', unigram_review)\n",
    "    bigram_review = bigram_model[unigram_review]\n",
    "    if display:\n",
    "        print('Bi: ', bigram_review)\n",
    "    trigram_review = trigram_model[bigram_review]\n",
    "    if display:\n",
    "        print('Tri: ', trigram_review)\n",
    "    trigram_review = [phrase for phrase in trigram_review if phrase not in remove_trigram]\n",
    "    if display:\n",
    "        print('Tri removed: ', trigram_review)\n",
    "    trigram_output += ' '.join(trigram_review)\n",
    "    \n",
    "    return trigram_output"
   ]
  },
  {
   "cell_type": "code",
   "execution_count": 97,
   "metadata": {},
   "outputs": [
    {
     "name": "stderr",
     "output_type": "stream",
     "text": [
      "c:\\users\\inves\\appdata\\local\\programs\\python\\python35\\lib\\site-packages\\gensim\\models\\phrases.py:494: UserWarning: For a faster implementation, use the gensim.models.phrases.Phraser class\n",
      "  warnings.warn(\"For a faster implementation, use the gensim.models.phrases.Phraser class\")\n"
     ]
    }
   ],
   "source": [
    "docket_phrase2 = [trigram_transform(text) for text in docket_phrase1]"
   ]
  },
  {
   "cell_type": "code",
   "execution_count": 99,
   "metadata": {},
   "outputs": [
    {
     "name": "stdout",
     "output_type": "stream",
     "text": [
      "['COMPLAINT against Cardiogenics Holdings, Inc. filing fee $ 400, receipt number 0207-8445206 Was the Disclosure Statement on Civil Cover Sheet completed -YES,, filed by LG Capital Funding, LLC. (Steinmetz, Michael) (Additional attachment(s) added on 3/11/2016: # 1 Civil Cover Sheet, # 2 Proposed Summons) (Bowens, Priscilla). (Entered: 03/10/2016)', 'Case assigned to Judge Ann M Donnelly and Magistrate Judge Vera M. Scanlon. Please download and review the Individual Practices of the assigned Judges, located on our website. Attorneys are responsible for providing courtesy copies to judges where their Individual Practices require such. (Bowens, Priscilla) (Entered: 03/11/2016)', 'Summons Issued as to Cardiogenics Holdings, Inc.. (Bowens, Priscilla) (Entered: 03/11/2016)', 'NOTICE - emailed attorney regarding missing second page of the civil cover sheet. (Bowens, Priscilla) (Entered: 03/11/2016)', 'In accordance with Rule 73 of the Federal Rules of Civil Procedure and Local Rule 73.1, the parties are notified that if all parties consent a United States magistrate judge of this court is available to conduct all proceedings in this civil action including a (jury or nonjury) trial and to order the entry of a final judgment. Attached to the Notice is a blank copy of the consent form that should be filled out, signed and filed electronically only if all parties wish to consent. The form may also be accessed at the following link: http://www.uscourts.gov/uscourts/FormsAndFees/Forms/AO085.pdf. You may withhold your consent without adverse substantive consequences. Do NOT return or file the consent unless all parties have signed the consent. (Bowens, Priscilla) (Entered: 03/11/2016)']\n",
      "['complaint cardiogenics_hold_inc file disclosure_statement_civil_cover sheet_complete_yes file lg_capital_fund_llc steinmetz michael additional_attachment_add date civil_cover_sheet propose summon bowens_priscilla enter date', 'case_assign judge_ann_donnelly magistrate_judge_vera_scanlon please_download_review_individual practice_assign_judge locate_website_attorneys_responsible provide_courtesy_copy judge_individual_practice require bowens_priscilla enter date', 'summon_issue cardiogenics_hold_inc bowens_priscilla enter date', 'notice email attorney regard miss second page civil_cover_sheet bowens_priscilla enter date', 'accordance_rule_federal rule_civil_procedure_local rule party_notify party consent_unite_state magistrate_judge court available_conduct_proceed civil_action include_jury_nonjury trial order entry_final judgment attach notice blank_copy_consent_form fill_sign file electronically_party_wish consent_form_may also_access_follow_link url_may_withhold consent_without_adverse substantive_consequences_return file consent_unless party sign consent bowens_priscilla enter date']\n"
     ]
    },
    {
     "data": {
      "text/plain": [
       "3049"
      ]
     },
     "execution_count": 99,
     "metadata": {},
     "output_type": "execute_result"
    }
   ],
   "source": [
    "print(docket_original[:5])\n",
    "print(docket_phrase2[:5])\n",
    "len(set(docket_phrase2))"
   ]
  },
  {
   "cell_type": "markdown",
   "metadata": {},
   "source": [
    "### 6. Use NER (named entity recognition) and GPE (geo-political entity)\n",
    "This did not work as well as I thought. Also, the standford version worked better than the nltk version.\n",
    "Seems like after some text treatments, it's hard for the NER to be identified."
   ]
  },
  {
   "cell_type": "code",
   "execution_count": 106,
   "metadata": {},
   "outputs": [
    {
     "name": "stdout",
     "output_type": "stream",
     "text": [
      "orignal text: \n",
      "[('COMPLAINT', 'NNP', 'B-ORGANIZATION'), ('against', 'IN', 'O'), ('Cardiogenics', 'NNP', 'B-ORGANIZATION'), ('Holdings', 'NNPS', 'I-ORGANIZATION'), (',', ',', 'O'), ('Inc.', 'NNP', 'O'), ('filing', 'VBG', 'O'), ('fee', 'JJ', 'O'), ('$', '$', 'O'), ('400', 'CD', 'O'), (',', ',', 'O'), ('receipt', 'JJ', 'O'), ('number', 'NN', 'O'), ('0207-8445206', 'NN', 'O'), ('Was', 'NNP', 'O'), ('the', 'DT', 'O'), ('Disclosure', 'NNP', 'B-ORGANIZATION'), ('Statement', 'NNP', 'O'), ('on', 'IN', 'O'), ('Civil', 'NNP', 'B-PERSON'), ('Cover', 'NNP', 'I-PERSON'), ('Sheet', 'NNP', 'I-PERSON'), ('completed', 'VBD', 'O'), ('-YES', 'NNP', 'O'), (',', ',', 'O'), (',', ',', 'O'), ('filed', 'VBN', 'O'), ('by', 'IN', 'O'), ('LG', 'NNP', 'B-ORGANIZATION'), ('Capital', 'NNP', 'I-ORGANIZATION'), ('Funding', 'NNP', 'I-ORGANIZATION'), (',', ',', 'O'), ('LLC', 'NNP', 'B-ORGANIZATION'), ('.', '.', 'O'), ('(', '(', 'O'), ('Steinmetz', 'NNP', 'B-PERSON'), (',', ',', 'O'), ('Michael', 'NNP', 'B-GPE'), (')', ')', 'O'), ('(', '(', 'O'), ('Additional', 'JJ', 'B-ORGANIZATION'), ('attachment', 'NN', 'O'), ('(', '(', 'O'), ('s', 'PRP', 'O'), (')', ')', 'O'), ('added', 'VBD', 'O'), ('on', 'IN', 'O'), ('3/11/2016', 'CD', 'O'), (':', ':', 'O'), ('#', '#', 'O'), ('1', 'CD', 'O'), ('Civil', 'NNP', 'O'), ('Cover', 'NNP', 'O'), ('Sheet', 'NNP', 'O'), (',', ',', 'O'), ('#', '#', 'O'), ('2', 'CD', 'O'), ('Proposed', 'VBN', 'O'), ('Summons', 'NNS', 'O'), (')', ')', 'O'), ('(', '(', 'O'), ('Bowens', 'NNP', 'B-GPE'), (',', ',', 'O'), ('Priscilla', 'NNP', 'B-GPE'), (')', ')', 'O'), ('.', '.', 'O'), ('(', '(', 'O'), ('Entered', 'VBD', 'O'), (':', ':', 'O'), ('03/10/2016', 'CD', 'O'), (')', ')', 'O')] \n",
      "\n",
      "normalized: \n",
      "[('complaint', 'NN', 'O'), ('against', 'IN', 'O'), ('cardiogenics', 'NNS', 'O'), ('holdings', 'NNS', 'O'), (',', ',', 'O'), ('inc.', 'JJ', 'O'), ('filing', 'VBG', 'O'), ('fee', 'JJ', 'O'), ('$', '$', 'O'), ('400', 'CD', 'O'), (',', ',', 'O'), ('receipt', 'JJ', 'O'), ('number', 'NN', 'O'), ('0207-8445206', 'NN', 'O'), ('was', 'VBD', 'O'), ('the', 'DT', 'O'), ('disclosure', 'NN', 'O'), ('statement', 'NN', 'O'), ('on', 'IN', 'O'), ('civil', 'JJ', 'O'), ('cover', 'NN', 'O'), ('sheet', 'NN', 'O'), ('completed', 'VBD', 'O'), ('-yes', 'NNP', 'O'), (',', ',', 'O'), (',', ',', 'O'), ('filed', 'VBN', 'O'), ('by', 'IN', 'O'), ('lg', 'JJ', 'O'), ('capital', 'NN', 'O'), ('funding', 'NN', 'O'), (',', ',', 'O'), ('llc', 'NN', 'O'), ('.', '.', 'O'), ('(', '(', 'O'), ('steinmetz', 'JJ', 'O'), (',', ',', 'O'), ('michael', 'NN', 'O'), (')', ')', 'O'), ('(', '(', 'O'), ('additional', 'JJ', 'O'), ('attachment', 'NN', 'O'), ('(', '(', 'O'), ('s', 'PRP', 'O'), (')', ')', 'O'), ('added', 'VBD', 'O'), ('on', 'IN', 'O'), ('3/11/2016', 'CD', 'O'), (':', ':', 'O'), ('#', '#', 'O'), ('1', 'CD', 'O'), ('civil', 'JJ', 'O'), ('cover', 'NN', 'O'), ('sheet', 'NN', 'O'), (',', ',', 'O'), ('#', '#', 'O'), ('2', 'CD', 'O'), ('proposed', 'JJ', 'O'), ('summons', 'NNS', 'O'), (')', ')', 'O'), ('(', '(', 'O'), ('bowens', 'UH', 'O'), (',', ',', 'O'), ('priscilla', 'NN', 'O'), (')', ')', 'O'), ('.', '.', 'O'), ('(', '(', 'O'), ('entered', 'VBN', 'O'), (':', ':', 'O'), ('03/10/2016', 'CD', 'O'), (')', ')', 'O')] \n",
      "\n",
      "no url: \n",
      "[('complaint', 'NN', 'O'), ('against', 'IN', 'O'), ('cardiogenics', 'NNS', 'O'), ('holdings', 'NNS', 'O'), (',', ',', 'O'), ('inc.', 'JJ', 'O'), ('filing', 'VBG', 'O'), ('fee', 'JJ', 'O'), ('$', '$', 'O'), ('400', 'CD', 'O'), (',', ',', 'O'), ('receipt', 'JJ', 'O'), ('number', 'NN', 'O'), ('0207-8445206', 'NN', 'O'), ('was', 'VBD', 'O'), ('the', 'DT', 'O'), ('disclosure', 'NN', 'O'), ('statement', 'NN', 'O'), ('on', 'IN', 'O'), ('civil', 'JJ', 'O'), ('cover', 'NN', 'O'), ('sheet', 'NN', 'O'), ('completed', 'VBD', 'O'), ('-yes', 'NNP', 'O'), (',', ',', 'O'), (',', ',', 'O'), ('filed', 'VBN', 'O'), ('by', 'IN', 'O'), ('lg', 'JJ', 'O'), ('capital', 'NN', 'O'), ('funding', 'NN', 'O'), (',', ',', 'O'), ('llc', 'NN', 'O'), ('.', '.', 'O'), ('(', '(', 'O'), ('steinmetz', 'JJ', 'O'), (',', ',', 'O'), ('michael', 'NN', 'O'), (')', ')', 'O'), ('(', '(', 'O'), ('additional', 'JJ', 'O'), ('attachment', 'NN', 'O'), ('(', '(', 'O'), ('s', 'PRP', 'O'), (')', ')', 'O'), ('added', 'VBD', 'O'), ('on', 'IN', 'O'), ('3/11/2016', 'CD', 'O'), (':', ':', 'O'), ('#', '#', 'O'), ('1', 'CD', 'O'), ('civil', 'JJ', 'O'), ('cover', 'NN', 'O'), ('sheet', 'NN', 'O'), (',', ',', 'O'), ('#', '#', 'O'), ('2', 'CD', 'O'), ('proposed', 'JJ', 'O'), ('summons', 'NNS', 'O'), (')', ')', 'O'), ('(', '(', 'O'), ('bowens', 'UH', 'O'), (',', ',', 'O'), ('priscilla', 'NN', 'O'), (')', ')', 'O'), ('.', '.', 'O'), ('(', '(', 'O'), ('entered', 'VBN', 'O'), (':', ':', 'O'), ('03/10/2016', 'CD', 'O'), (')', ')', 'O')] \n",
      "\n",
      "no date: \n",
      "[('complaint', 'NN', 'O'), ('against', 'IN', 'O'), ('cardiogenics', 'NNS', 'O'), ('holdings', 'NNS', 'O'), (',', ',', 'O'), ('inc.', 'JJ', 'O'), ('filing', 'VBG', 'O'), ('fee', 'JJ', 'O'), ('$', '$', 'O'), ('400', 'CD', 'O'), (',', ',', 'O'), ('receipt', 'JJ', 'O'), ('number', 'NN', 'O'), ('0207-8445206', 'NN', 'O'), ('was', 'VBD', 'O'), ('the', 'DT', 'O'), ('disclosure', 'NN', 'O'), ('statement', 'NN', 'O'), ('on', 'IN', 'O'), ('civil', 'JJ', 'O'), ('cover', 'NN', 'O'), ('sheet', 'NN', 'O'), ('completed', 'VBD', 'O'), ('-yes', 'NNP', 'O'), (',', ',', 'O'), (',', ',', 'O'), ('filed', 'VBN', 'O'), ('by', 'IN', 'O'), ('lg', 'JJ', 'O'), ('capital', 'NN', 'O'), ('funding', 'NN', 'O'), (',', ',', 'O'), ('llc', 'NN', 'O'), ('.', '.', 'O'), ('(', '(', 'O'), ('steinmetz', 'JJ', 'O'), (',', ',', 'O'), ('michael', 'NN', 'O'), (')', ')', 'O'), ('(', '(', 'O'), ('additional', 'JJ', 'O'), ('attachment', 'NN', 'O'), ('(', '(', 'O'), ('s', 'PRP', 'O'), (')', ')', 'O'), ('added', 'VBD', 'O'), ('on', 'IN', 'O'), ('date', 'NN', 'O'), (':', ':', 'O'), ('#', '#', 'O'), ('1', 'CD', 'O'), ('civil', 'JJ', 'O'), ('cover', 'NN', 'O'), ('sheet', 'NN', 'O'), (',', ',', 'O'), ('#', '#', 'O'), ('2', 'CD', 'O'), ('proposed', 'JJ', 'O'), ('summons', 'NNS', 'O'), (')', ')', 'O'), ('(', '(', 'O'), ('bowens', 'UH', 'O'), (',', ',', 'O'), ('priscilla', 'NN', 'O'), (')', ')', 'O'), ('.', '.', 'O'), ('(', '(', 'O'), ('entered', 'VBN', 'O'), (':', ':', 'O'), ('date', 'NN', 'O'), (')', ')', 'O')] \n",
      "\n",
      "no punctuation: \n",
      "[('complaint', 'NN', 'O'), ('against', 'IN', 'O'), ('cardiogenics', 'NNS', 'O'), ('holdings', 'NNS', 'O'), ('inc', 'VBP', 'O'), ('filing', 'VBG', 'O'), ('fee', 'NN', 'O'), ('400', 'CD', 'O'), ('receipt', 'NN', 'O'), ('number', 'NN', 'O'), ('0207', 'CD', 'O'), ('8445206', 'CD', 'O'), ('was', 'VBD', 'O'), ('the', 'DT', 'O'), ('disclosure', 'NN', 'O'), ('statement', 'NN', 'O'), ('on', 'IN', 'O'), ('civil', 'JJ', 'O'), ('cover', 'NN', 'O'), ('sheet', 'NN', 'O'), ('completed', 'VBD', 'O'), ('yes', 'NNS', 'O'), ('filed', 'VBN', 'O'), ('by', 'IN', 'O'), ('lg', 'JJ', 'O'), ('capital', 'NN', 'O'), ('funding', 'NN', 'O'), ('llc', 'NN', 'O'), ('steinmetz', 'NN', 'O'), ('michael', 'VBD', 'O'), ('additional', 'JJ', 'O'), ('attachment', 'NN', 'O'), ('s', 'NN', 'O'), ('added', 'VBD', 'O'), ('on', 'IN', 'O'), ('date', 'NN', 'O'), ('1', 'CD', 'O'), ('civil', 'JJ', 'O'), ('cover', 'NN', 'O'), ('sheet', 'NN', 'O'), ('2', 'CD', 'O'), ('proposed', 'VBN', 'O'), ('summons', 'NNS', 'O'), ('bowens', 'VBZ', 'O'), ('priscilla', 'NN', 'O'), ('entered', 'VBD', 'O'), ('date', 'NN', 'O')] \n",
      "\n",
      "no numbers: \n",
      "[('complaint', 'NN', 'O'), ('against', 'IN', 'O'), ('cardiogenics', 'NNS', 'O'), ('holdings', 'NNS', 'O'), ('inc', 'VBP', 'O'), ('filing', 'VBG', 'O'), ('fee', 'NN', 'O'), ('receipt', 'NN', 'O'), ('number', 'NN', 'O'), ('was', 'VBD', 'O'), ('the', 'DT', 'O'), ('disclosure', 'NN', 'O'), ('statement', 'NN', 'O'), ('on', 'IN', 'O'), ('civil', 'JJ', 'O'), ('cover', 'NN', 'O'), ('sheet', 'NN', 'O'), ('completed', 'VBD', 'O'), ('yes', 'NNS', 'O'), ('filed', 'VBN', 'O'), ('by', 'IN', 'O'), ('lg', 'JJ', 'O'), ('capital', 'NN', 'O'), ('funding', 'NN', 'O'), ('llc', 'NN', 'O'), ('steinmetz', 'NN', 'O'), ('michael', 'VBD', 'O'), ('additional', 'JJ', 'O'), ('attachment', 'NN', 'O'), ('s', 'NN', 'O'), ('added', 'VBD', 'O'), ('on', 'IN', 'O'), ('date', 'NN', 'O'), ('civil', 'JJ', 'O'), ('cover', 'NN', 'O'), ('sheet', 'NN', 'O'), ('proposed', 'VBD', 'O'), ('summons', 'NNS', 'O'), ('bowens', 'VBZ', 'O'), ('priscilla', 'NN', 'O'), ('entered', 'VBD', 'O'), ('date', 'NN', 'O')] \n",
      "\n",
      "no extra spaces: \n",
      "[('complaint', 'NN', 'O'), ('against', 'IN', 'O'), ('cardiogenics', 'NNS', 'O'), ('holdings', 'NNS', 'O'), ('inc', 'VBP', 'O'), ('filing', 'VBG', 'O'), ('fee', 'NN', 'O'), ('receipt', 'NN', 'O'), ('number', 'NN', 'O'), ('was', 'VBD', 'O'), ('the', 'DT', 'O'), ('disclosure', 'NN', 'O'), ('statement', 'NN', 'O'), ('on', 'IN', 'O'), ('civil', 'JJ', 'O'), ('cover', 'NN', 'O'), ('sheet', 'NN', 'O'), ('completed', 'VBD', 'O'), ('yes', 'NNS', 'O'), ('filed', 'VBN', 'O'), ('by', 'IN', 'O'), ('lg', 'JJ', 'O'), ('capital', 'NN', 'O'), ('funding', 'NN', 'O'), ('llc', 'NN', 'O'), ('steinmetz', 'NN', 'O'), ('michael', 'VBD', 'O'), ('additional', 'JJ', 'O'), ('attachment', 'NN', 'O'), ('s', 'NN', 'O'), ('added', 'VBD', 'O'), ('on', 'IN', 'O'), ('date', 'NN', 'O'), ('civil', 'JJ', 'O'), ('cover', 'NN', 'O'), ('sheet', 'NN', 'O'), ('proposed', 'VBD', 'O'), ('summons', 'NNS', 'O'), ('bowens', 'VBZ', 'O'), ('priscilla', 'NN', 'O'), ('entered', 'VBD', 'O'), ('date', 'NN', 'O')] \n",
      "\n",
      ": \n",
      "[('complaint', 'NN', 'O'), ('cardiogenics', 'NNS', 'O'), ('hold', 'VBP', 'O'), ('inc', 'JJ', 'O'), ('file', 'JJ', 'O'), ('fee', 'NN', 'O'), ('receipt', 'NN', 'O'), ('number', 'NN', 'O'), ('disclosure', 'NN', 'O'), ('statement', 'NN', 'O'), ('civil', 'JJ', 'O'), ('cover', 'NN', 'O'), ('sheet', 'NN', 'O'), ('complete', 'JJ', 'O'), ('yes', 'RB', 'O'), ('file', 'JJ', 'O'), ('lg', 'JJ', 'O'), ('capital', 'NN', 'O'), ('fund', 'NN', 'O'), ('llc', 'VBD', 'O'), ('steinmetz', 'JJ', 'O'), ('michael', 'JJ', 'O'), ('additional', 'JJ', 'O'), ('attachment', 'NN', 'O'), ('add', 'NN', 'O'), ('date', 'NN', 'O'), ('civil', 'JJ', 'O'), ('cover', 'NN', 'O'), ('sheet', 'NN', 'O'), ('propose', 'JJ', 'O'), ('summon', 'NN', 'O'), ('bowens', 'NNS', 'O'), ('priscilla', 'VBP', 'O'), ('enter', 'NN', 'O'), ('date', 'NN', 'O')] \n",
      "\n",
      ": \n",
      "[('complaint', 'NN', 'O'), ('cardiogenics_hold_inc', 'NN', 'O'), ('file', 'NN', 'O'), ('disclosure_statement_civil_cover', 'NN', 'O'), ('sheet_complete_yes', 'NNS', 'O'), ('file', 'VBP', 'O'), ('lg_capital_fund_llc', 'JJ', 'O'), ('steinmetz', 'NN', 'O'), ('michael', 'NN', 'O'), ('additional_attachment_add', 'VBP', 'O'), ('date', 'NN', 'O'), ('civil_cover_sheet', 'NN', 'O'), ('propose', 'JJ', 'O'), ('summon', 'JJ', 'O'), ('bowens_priscilla', 'NN', 'O'), ('enter', 'NN', 'O'), ('date', 'NN', 'O')]\n"
     ]
    }
   ],
   "source": [
    "#after the inital normalization, there's no sense of the NER or GEP by NLTK NER and GPE. Seems that it heavily depend on the cases\n",
    "iob_tagged = tree2conlltags(ne_chunk(pos_tag(word_tokenize(docket_original[0]))))\n",
    "print('orignal text: ')\n",
    "print(iob_tagged, '\\n')\n",
    "iob_tagged = tree2conlltags(ne_chunk(pos_tag(word_tokenize(docket_normalized[0]))))\n",
    "print('normalized: ')\n",
    "print(iob_tagged, '\\n')\n",
    "iob_tagged = tree2conlltags(ne_chunk(pos_tag(word_tokenize(docket_nourl[0]))))\n",
    "print('no url: ')\n",
    "print(iob_tagged, '\\n')\n",
    "iob_tagged = tree2conlltags(ne_chunk(pos_tag(word_tokenize(docket_nodate[0]))))\n",
    "print('no date: ')\n",
    "print(iob_tagged, '\\n')\n",
    "iob_tagged = tree2conlltags(ne_chunk(pos_tag(word_tokenize(docket_nopunct[0]))))\n",
    "print('no punctuation: ')\n",
    "print(iob_tagged, '\\n')\n",
    "iob_tagged = tree2conlltags(ne_chunk(pos_tag(word_tokenize(docket_nonum[0]))))\n",
    "print('no numbers: ')\n",
    "print(iob_tagged, '\\n')\n",
    "iob_tagged = tree2conlltags(ne_chunk(pos_tag(word_tokenize(docket_noextraspace[0]))))\n",
    "print('no extra spaces: ')\n",
    "print(iob_tagged, '\\n')\n",
    "iob_tagged = tree2conlltags(ne_chunk(pos_tag(word_tokenize(docket_phrase1[0]))))\n",
    "print('lemmentized: ')\n",
    "print(iob_tagged, '\\n')\n",
    "iob_tagged = tree2conlltags(ne_chunk(pos_tag(word_tokenize(docket_phrase2[0]))))\n",
    "print('phrase modeled: ')\n",
    "print(iob_tagged)"
   ]
  },
  {
   "cell_type": "code",
   "execution_count": 108,
   "metadata": {
    "scrolled": true
   },
   "outputs": [
    {
     "name": "stdout",
     "output_type": "stream",
     "text": [
      "orignal text: \n",
      "[('COMPLAINT', 'O'), ('against', 'O'), ('Cardiogenics', 'ORGANIZATION'), ('Holdings', 'ORGANIZATION'), (',', 'ORGANIZATION'), ('Inc.', 'ORGANIZATION'), ('filing', 'O'), ('fee', 'O'), ('$', 'O'), ('400', 'O'), (',', 'O'), ('receipt', 'O'), ('number', 'O'), ('0207-8445206', 'O'), ('Was', 'O'), ('the', 'O'), ('Disclosure', 'O'), ('Statement', 'O'), ('on', 'O'), ('Civil', 'O'), ('Cover', 'O'), ('Sheet', 'O'), ('completed', 'O'), ('-YES', 'O'), (',', 'O'), (',', 'O'), ('filed', 'O'), ('by', 'O'), ('LG', 'ORGANIZATION'), ('Capital', 'ORGANIZATION'), ('Funding', 'ORGANIZATION'), (',', 'O'), ('LLC', 'O'), ('.', 'O'), ('(', 'PERSON'), ('Steinmetz', 'PERSON'), (',', 'O'), ('Michael', 'PERSON'), (')', 'O'), ('(', 'O'), ('Additional', 'O'), ('attachment', 'O'), ('(', 'O'), ('s', 'O'), (')', 'O'), ('added', 'O'), ('on', 'O'), ('3112016', 'O'), (':', 'O'), ('#', 'O'), ('1', 'O'), ('Civil', 'O'), ('Cover', 'O'), ('Sheet', 'O'), (',', 'O'), ('#', 'O'), ('2', 'O'), ('Proposed', 'O'), ('Summons', 'O'), (')', 'O'), ('(', 'O'), ('Bowens', 'PERSON'), (',', 'O'), ('Priscilla', 'PERSON'), (')', 'O'), ('.', 'O'), ('(', 'O'), ('Entered', 'O'), (':', 'O'), ('03102016', 'O'), (')', 'O')] \n",
      "\n",
      "normalized: \n",
      "[('complaint', 'O'), ('against', 'O'), ('cardiogenics', 'O'), ('holdings', 'O'), (',', 'O'), ('inc.', 'O'), ('filing', 'O'), ('fee', 'O'), ('$', 'O'), ('400', 'O'), (',', 'O'), ('receipt', 'O'), ('number', 'O'), ('0207-8445206', 'O'), ('was', 'O'), ('the', 'O'), ('disclosure', 'O'), ('statement', 'O'), ('on', 'O'), ('civil', 'O'), ('cover', 'O'), ('sheet', 'O'), ('completed', 'O'), ('-yes', 'O'), (',', 'O'), (',', 'O'), ('filed', 'O'), ('by', 'O'), ('lg', 'O'), ('capital', 'O'), ('funding', 'O'), (',', 'O'), ('llc', 'O'), ('.', 'O'), ('(', 'O'), ('steinmetz', 'O'), (',', 'O'), ('michael', 'O'), (')', 'O'), ('(', 'O'), ('additional', 'O'), ('attachment', 'O'), ('(', 'O'), ('s', 'O'), (')', 'O'), ('added', 'O'), ('on', 'O'), ('3112016', 'O'), (':', 'O'), ('#', 'O'), ('1', 'O'), ('civil', 'O'), ('cover', 'O'), ('sheet', 'O'), (',', 'O'), ('#', 'O'), ('2', 'O'), ('proposed', 'O'), ('summons', 'O'), (')', 'O'), ('(', 'O'), ('bowens', 'O'), (',', 'O'), ('priscilla', 'O'), (')', 'O'), ('.', 'O'), ('(', 'O'), ('entered', 'O'), (':', 'O'), ('03102016', 'O'), (')', 'O')] \n",
      "\n",
      "no url: \n",
      "[('complaint', 'O'), ('against', 'O'), ('cardiogenics', 'O'), ('holdings', 'O'), (',', 'O'), ('inc.', 'O'), ('filing', 'O'), ('fee', 'O'), ('$', 'O'), ('400', 'O'), (',', 'O'), ('receipt', 'O'), ('number', 'O'), ('0207-8445206', 'O'), ('was', 'O'), ('the', 'O'), ('disclosure', 'O'), ('statement', 'O'), ('on', 'O'), ('civil', 'O'), ('cover', 'O'), ('sheet', 'O'), ('completed', 'O'), ('-yes', 'O'), (',', 'O'), (',', 'O'), ('filed', 'O'), ('by', 'O'), ('lg', 'O'), ('capital', 'O'), ('funding', 'O'), (',', 'O'), ('llc', 'O'), ('.', 'O'), ('(', 'O'), ('steinmetz', 'O'), (',', 'O'), ('michael', 'O'), (')', 'O'), ('(', 'O'), ('additional', 'O'), ('attachment', 'O'), ('(', 'O'), ('s', 'O'), (')', 'O'), ('added', 'O'), ('on', 'O'), ('3112016', 'O'), (':', 'O'), ('#', 'O'), ('1', 'O'), ('civil', 'O'), ('cover', 'O'), ('sheet', 'O'), (',', 'O'), ('#', 'O'), ('2', 'O'), ('proposed', 'O'), ('summons', 'O'), (')', 'O'), ('(', 'O'), ('bowens', 'O'), (',', 'O'), ('priscilla', 'O'), (')', 'O'), ('.', 'O'), ('(', 'O'), ('entered', 'O'), (':', 'O'), ('03102016', 'O'), (')', 'O')] \n",
      "\n",
      "no date: \n",
      "[('complaint', 'O'), ('against', 'O'), ('cardiogenics', 'O'), ('holdings', 'O'), (',', 'O'), ('inc.', 'O'), ('filing', 'O'), ('fee', 'O'), ('$', 'O'), ('400', 'O'), (',', 'O'), ('receipt', 'O'), ('number', 'O'), ('0207-8445206', 'O'), ('was', 'O'), ('the', 'O'), ('disclosure', 'O'), ('statement', 'O'), ('on', 'O'), ('civil', 'O'), ('cover', 'O'), ('sheet', 'O'), ('completed', 'O'), ('-yes', 'O'), (',', 'O'), (',', 'O'), ('filed', 'O'), ('by', 'O'), ('lg', 'O'), ('capital', 'O'), ('funding', 'O'), (',', 'O'), ('llc', 'O'), ('.', 'O'), ('(', 'O'), ('steinmetz', 'O'), (',', 'O'), ('michael', 'O'), (')', 'O'), ('(', 'O'), ('additional', 'O'), ('attachment', 'O'), ('(', 'O'), ('s', 'O'), (')', 'O'), ('added', 'O'), ('on', 'O'), ('date', 'O'), (':', 'O'), ('#', 'O'), ('1', 'O'), ('civil', 'O'), ('cover', 'O'), ('sheet', 'O'), (',', 'O'), ('#', 'O'), ('2', 'O'), ('proposed', 'O'), ('summons', 'O'), (')', 'O'), ('(', 'O'), ('bowens', 'O'), (',', 'O'), ('priscilla', 'O'), (')', 'O'), ('.', 'O'), ('(', 'O'), ('entered', 'O'), (':', 'O'), ('date', 'O'), (')', 'O')] \n",
      "\n",
      "no punctuation: \n",
      "[('complaint', 'O'), ('against', 'O'), ('cardiogenics', 'O'), ('holdings', 'O'), ('inc', 'O'), ('filing', 'O'), ('fee', 'O'), ('400', 'O'), ('receipt', 'O'), ('number', 'O'), ('0207', 'O'), ('8445206', 'O'), ('was', 'O'), ('the', 'O'), ('disclosure', 'O'), ('statement', 'O'), ('on', 'O'), ('civil', 'O'), ('cover', 'O'), ('sheet', 'O'), ('completed', 'O'), ('yes', 'O'), ('filed', 'O'), ('by', 'O'), ('lg', 'O'), ('capital', 'O'), ('funding', 'O'), ('llc', 'O'), ('steinmetz', 'O'), ('michael', 'O'), ('additional', 'O'), ('attachment', 'O'), ('s', 'O'), ('added', 'O'), ('on', 'O'), ('date', 'O'), ('1', 'O'), ('civil', 'O'), ('cover', 'O'), ('sheet', 'O'), ('2', 'O'), ('proposed', 'O'), ('summons', 'O'), ('bowens', 'O'), ('priscilla', 'O'), ('entered', 'O'), ('date', 'O')] \n",
      "\n",
      "no numbers: \n",
      "[('complaint', 'O'), ('against', 'O'), ('cardiogenics', 'O'), ('holdings', 'O'), ('inc', 'O'), ('filing', 'O'), ('fee', 'O'), ('receipt', 'O'), ('number', 'O'), ('was', 'O'), ('the', 'O'), ('disclosure', 'O'), ('statement', 'O'), ('on', 'O'), ('civil', 'O'), ('cover', 'O'), ('sheet', 'O'), ('completed', 'O'), ('yes', 'O'), ('filed', 'O'), ('by', 'O'), ('lg', 'O'), ('capital', 'O'), ('funding', 'O'), ('llc', 'O'), ('steinmetz', 'O'), ('michael', 'O'), ('additional', 'O'), ('attachment', 'O'), ('s', 'O'), ('added', 'O'), ('on', 'O'), ('date', 'O'), ('civil', 'O'), ('cover', 'O'), ('sheet', 'O'), ('proposed', 'O'), ('summons', 'O'), ('bowens', 'O'), ('priscilla', 'O'), ('entered', 'O'), ('date', 'O')] \n",
      "\n",
      "no extra spaces: \n",
      "[('complaint', 'O'), ('against', 'O'), ('cardiogenics', 'O'), ('holdings', 'O'), ('inc', 'O'), ('filing', 'O'), ('fee', 'O'), ('receipt', 'O'), ('number', 'O'), ('was', 'O'), ('the', 'O'), ('disclosure', 'O'), ('statement', 'O'), ('on', 'O'), ('civil', 'O'), ('cover', 'O'), ('sheet', 'O'), ('completed', 'O'), ('yes', 'O'), ('filed', 'O'), ('by', 'O'), ('lg', 'O'), ('capital', 'O'), ('funding', 'O'), ('llc', 'O'), ('steinmetz', 'O'), ('michael', 'O'), ('additional', 'O'), ('attachment', 'O'), ('s', 'O'), ('added', 'O'), ('on', 'O'), ('date', 'O'), ('civil', 'O'), ('cover', 'O'), ('sheet', 'O'), ('proposed', 'O'), ('summons', 'O'), ('bowens', 'O'), ('priscilla', 'O'), ('entered', 'O'), ('date', 'O')] \n",
      "\n",
      "lemmentized: \n",
      "[('complaint', 'O'), ('cardiogenics', 'O'), ('hold', 'O'), ('inc', 'O'), ('file', 'O'), ('fee', 'O'), ('receipt', 'O'), ('number', 'O'), ('disclosure', 'O'), ('statement', 'O'), ('civil', 'O'), ('cover', 'O'), ('sheet', 'O'), ('complete', 'O'), ('yes', 'O'), ('file', 'O'), ('lg', 'O'), ('capital', 'O'), ('fund', 'O'), ('llc', 'O'), ('steinmetz', 'O'), ('michael', 'O'), ('additional', 'O'), ('attachment', 'O'), ('add', 'O'), ('date', 'O'), ('civil', 'O'), ('cover', 'O'), ('sheet', 'O'), ('propose', 'O'), ('summon', 'O'), ('bowens', 'O'), ('priscilla', 'O'), ('enter', 'O'), ('date', 'O')] \n",
      "\n",
      "phrase modeled: \n",
      "[('complaint', 'O'), ('cardiogenics_hold_inc', 'O'), ('file', 'O'), ('disclosure_statement_civil_cover', 'O'), ('sheet_complete_yes', 'O'), ('file', 'O'), ('lg_capital_fund_llc', 'O'), ('steinmetz', 'O'), ('michael', 'O'), ('additional_attachment_add', 'O'), ('date', 'O'), ('civil_cover_sheet', 'O'), ('propose', 'O'), ('summon', 'O'), ('bowens_priscilla', 'O'), ('enter', 'O'), ('date', 'O')]\n"
     ]
    }
   ],
   "source": [
    "#after the inital normalization, there's no sense of the NER or GEP by NLTK NER and GPE. Seems that it heavily depend on the cases\n",
    "iob_tagged = tagger.tag(word_tokenize(docket_original[0]))\n",
    "print('orignal text: ')\n",
    "print(iob_tagged, '\\n')\n",
    "iob_tagged = tagger.tag(word_tokenize(docket_normalized[0]))\n",
    "print('normalized: ')\n",
    "print(iob_tagged, '\\n')\n",
    "iob_tagged = tagger.tag(word_tokenize(docket_nourl[0]))\n",
    "print('no url: ')\n",
    "print(iob_tagged, '\\n')\n",
    "iob_tagged = tagger.tag(word_tokenize(docket_nodate[0]))\n",
    "print('no date: ')\n",
    "print(iob_tagged, '\\n')\n",
    "iob_tagged = tagger.tag(word_tokenize(docket_nopunct[0]))\n",
    "print('no punctuation: ')\n",
    "print(iob_tagged, '\\n')\n",
    "iob_tagged = tagger.tag(word_tokenize(docket_nonum[0]))\n",
    "print('no numbers: ')\n",
    "print(iob_tagged, '\\n')\n",
    "iob_tagged = tagger.tag(word_tokenize(docket_noextraspace[0]))\n",
    "print('no extra spaces: ')\n",
    "print(iob_tagged, '\\n')\n",
    "iob_tagged = tagger.tag(word_tokenize(docket_phrase1[0]))\n",
    "print('lemmentized: ')\n",
    "print(iob_tagged, '\\n')\n",
    "iob_tagged = tagger.tag(word_tokenize(docket_phrase2[0]))\n",
    "print('phrase modeled: ')\n",
    "print(iob_tagged)"
   ]
  },
  {
   "cell_type": "markdown",
   "metadata": {},
   "source": [
    "### So let's start over"
   ]
  },
  {
   "cell_type": "code",
   "execution_count": null,
   "metadata": {},
   "outputs": [],
   "source": [
    "docket_original = list(new_df['Original Docket Text'])"
   ]
  },
  {
   "cell_type": "markdown",
   "metadata": {},
   "source": [
    "### 1. NER\n",
    "Stanford is much better at knowing what's going on"
   ]
  },
  {
   "cell_type": "code",
   "execution_count": 130,
   "metadata": {
    "scrolled": true
   },
   "outputs": [
    {
     "name": "stdout",
     "output_type": "stream",
     "text": [
      "('COMPLAINT', 'O') ('COMPLAINT', 'NNP', 'B-ORGANIZATION') COMPLAINT\n",
      "('against', 'O') ('against', 'IN', 'O') against\n",
      "('Cardiogenics', 'ORGANIZATION') ('Cardiogenics', 'NNP', 'B-ORGANIZATION') Cardiogenics\n",
      "('Holdings', 'ORGANIZATION') ('Holdings', 'NNPS', 'I-ORGANIZATION') Holdings\n",
      "(',', 'ORGANIZATION') (',', ',', 'O') ,\n",
      "('Inc.', 'ORGANIZATION') ('Inc.', 'NNP', 'O') Inc.\n",
      "('filing', 'O') ('filing', 'VBG', 'O') filing\n",
      "('fee', 'O') ('fee', 'JJ', 'O') fee\n",
      "('$', 'O') ('$', '$', 'O') $\n",
      "('400', 'O') ('400', 'CD', 'O') 400\n",
      "(',', 'O') (',', ',', 'O') ,\n",
      "('receipt', 'O') ('receipt', 'JJ', 'O') receipt\n",
      "('number', 'O') ('number', 'NN', 'O') number\n",
      "('0207-8445206', 'O') ('0207-8445206', 'NN', 'O') 0207-8445206\n",
      "('Was', 'O') ('Was', 'NNP', 'O') Was\n",
      "('the', 'O') ('the', 'DT', 'O') the\n",
      "('Disclosure', 'O') ('Disclosure', 'NNP', 'B-ORGANIZATION') Disclosure\n",
      "('Statement', 'O') ('Statement', 'NNP', 'O') Statement\n",
      "('on', 'O') ('on', 'IN', 'O') on\n",
      "('Civil', 'O') ('Civil', 'NNP', 'B-PERSON') Civil\n",
      "('Cover', 'O') ('Cover', 'NNP', 'I-PERSON') Cover\n",
      "('Sheet', 'O') ('Sheet', 'NNP', 'I-PERSON') Sheet\n",
      "('completed', 'O') ('completed', 'VBD', 'O') completed\n",
      "('-YES', 'O') ('-YES', 'NNP', 'O') -YES\n",
      "(',', 'O') (',', ',', 'O') ,\n",
      "(',', 'O') (',', ',', 'O') ,\n",
      "('filed', 'O') ('filed', 'VBN', 'O') filed\n",
      "('by', 'O') ('by', 'IN', 'O') by\n",
      "('LG', 'ORGANIZATION') ('LG', 'NNP', 'B-ORGANIZATION') LG\n",
      "('Capital', 'ORGANIZATION') ('Capital', 'NNP', 'I-ORGANIZATION') Capital\n",
      "('Funding', 'ORGANIZATION') ('Funding', 'NNP', 'I-ORGANIZATION') Funding\n",
      "(',', 'O') (',', ',', 'O') ,\n",
      "('LLC', 'O') ('LLC', 'NNP', 'B-ORGANIZATION') LLC\n",
      "('.', 'O') ('.', '.', 'O') .\n",
      "('(', 'PERSON') ('(', '(', 'O') (\n",
      "('Steinmetz', 'PERSON') ('Steinmetz', 'NNP', 'B-PERSON') Steinmetz\n",
      "(',', 'O') (',', ',', 'O') ,\n",
      "('Michael', 'PERSON') ('Michael', 'NNP', 'B-GPE') Michael\n",
      "(')', 'O') (')', ')', 'O') )\n",
      "('(', 'O') ('(', '(', 'O') (\n",
      "('Additional', 'O') ('Additional', 'JJ', 'B-ORGANIZATION') Additional\n",
      "('attachment', 'O') ('attachment', 'NN', 'O') attachment\n",
      "('(', 'O') ('(', '(', 'O') (\n",
      "('s', 'O') ('s', 'PRP', 'O') s\n",
      "(')', 'O') (')', ')', 'O') )\n",
      "('added', 'O') ('added', 'VBD', 'O') added\n",
      "('on', 'O') ('on', 'IN', 'O') on\n",
      "('3112016', 'O') ('3/11/2016', 'CD', 'O') 3/11/2016\n",
      "(':', 'O') (':', ':', 'O') :\n",
      "('#', 'O') ('#', '#', 'O') #\n",
      "('1', 'O') ('1', 'CD', 'O') 1\n",
      "('Civil', 'O') ('Civil', 'NNP', 'O') Civil\n",
      "('Cover', 'O') ('Cover', 'NNP', 'O') Cover\n",
      "('Sheet', 'O') ('Sheet', 'NNP', 'O') Sheet\n",
      "(',', 'O') (',', ',', 'O') ,\n",
      "('#', 'O') ('#', '#', 'O') #\n",
      "('2', 'O') ('2', 'CD', 'O') 2\n",
      "('Proposed', 'O') ('Proposed', 'VBN', 'O') Proposed\n",
      "('Summons', 'O') ('Summons', 'NNS', 'O') Summons\n",
      "(')', 'O') (')', ')', 'O') )\n",
      "('(', 'O') ('(', '(', 'O') (\n",
      "('Bowens', 'PERSON') ('Bowens', 'NNP', 'B-GPE') Bowens\n",
      "(',', 'O') (',', ',', 'O') ,\n",
      "('Priscilla', 'PERSON') ('Priscilla', 'NNP', 'B-GPE') Priscilla\n",
      "(')', 'O') (')', ')', 'O') )\n",
      "('.', 'O') ('.', '.', 'O') .\n",
      "('(', 'O') ('(', '(', 'O') (\n",
      "('Entered', 'O') ('Entered', 'VBD', 'O') Entered\n",
      "(':', 'O') (':', ':', 'O') :\n",
      "('03102016', 'O') ('03/10/2016', 'CD', 'O') 03/10/2016\n",
      "(')', 'O') (')', ')', 'O') )\n",
      "('Case', 'O') ('Case', 'NN', 'B-PERSON') Case\n",
      "('assigned', 'O') ('assigned', 'VBD', 'O') assigned\n",
      "('to', 'O') ('to', 'TO', 'O') to\n",
      "('Judge', 'O') ('Judge', 'NNP', 'O') Judge\n",
      "('Ann', 'PERSON') ('Ann', 'NNP', 'B-PERSON') Ann\n",
      "('M', 'PERSON') ('M', 'NNP', 'I-PERSON') M\n",
      "('Donnelly', 'PERSON') ('Donnelly', 'NNP', 'I-PERSON') Donnelly\n",
      "('and', 'O') ('and', 'CC', 'O') and\n",
      "('Magistrate', 'O') ('Magistrate', 'NNP', 'B-ORGANIZATION') Magistrate\n",
      "('Judge', 'O') ('Judge', 'NNP', 'O') Judge\n",
      "('Vera', 'PERSON') ('Vera', 'NNP', 'B-PERSON') Vera\n",
      "('M.', 'PERSON') ('M.', 'NNP', 'I-PERSON') M.\n",
      "('Scanlon', 'PERSON') ('Scanlon', 'NNP', 'I-PERSON') Scanlon\n",
      "('.', 'O') ('.', '.', 'O') .\n",
      "('Please', 'O') ('Please', 'NNP', 'O') Please\n",
      "('download', 'O') ('download', 'NN', 'O') download\n",
      "('and', 'O') ('and', 'CC', 'O') and\n",
      "('review', 'O') ('review', 'VB', 'O') review\n",
      "('the', 'O') ('the', 'DT', 'O') the\n",
      "('Individual', 'ORGANIZATION') ('Individual', 'NNP', 'B-ORGANIZATION') Individual\n",
      "('Practices', 'ORGANIZATION') ('Practices', 'NNPS', 'I-ORGANIZATION') Practices\n",
      "('of', 'ORGANIZATION') ('of', 'IN', 'O') of\n",
      "('the', 'ORGANIZATION') ('the', 'DT', 'O') the\n",
      "('assigned', 'ORGANIZATION') ('assigned', 'JJ', 'O') assigned\n",
      "('Judges', 'ORGANIZATION') ('Judges', 'NNP', 'O') Judges\n",
      "(',', 'O') (',', ',', 'O') ,\n",
      "('located', 'O') ('located', 'VBN', 'O') located\n",
      "('on', 'O') ('on', 'IN', 'O') on\n",
      "('our', 'O') ('our', 'PRP$', 'O') our\n",
      "('website', 'O') ('website', 'NN', 'O') website\n",
      "('.', 'O') ('.', '.', 'O') .\n",
      "('Attorneys', 'O') ('Attorneys', 'NNS', 'O') Attorneys\n",
      "('are', 'O') ('are', 'VBP', 'O') are\n",
      "('responsible', 'O') ('responsible', 'JJ', 'O') responsible\n",
      "('for', 'O') ('for', 'IN', 'O') for\n",
      "('providing', 'O') ('providing', 'VBG', 'O') providing\n",
      "('courtesy', 'O') ('courtesy', 'NN', 'O') courtesy\n",
      "('copies', 'O') ('copies', 'NNS', 'O') copies\n",
      "('to', 'O') ('to', 'TO', 'O') to\n",
      "('judges', 'O') ('judges', 'NNS', 'O') judges\n",
      "('where', 'O') ('where', 'WRB', 'O') where\n",
      "('their', 'O') ('their', 'PRP$', 'O') their\n",
      "('Individual', 'O') ('Individual', 'JJ', 'B-ORGANIZATION') Individual\n",
      "('Practices', 'O') ('Practices', 'NNPS', 'I-ORGANIZATION') Practices\n",
      "('require', 'O') ('require', 'VBP', 'O') require\n",
      "('such', 'O') ('such', 'JJ', 'O') such\n",
      "('.', 'O') ('.', '.', 'O') .\n",
      "('(', 'O') ('(', '(', 'O') (\n",
      "('Bowens', 'PERSON') ('Bowens', 'NNP', 'B-GPE') Bowens\n",
      "(',', 'O') (',', ',', 'O') ,\n",
      "('Priscilla', 'PERSON') ('Priscilla', 'NNP', 'B-GPE') Priscilla\n",
      "(')', 'O') (')', ')', 'O') )\n",
      "('(', 'O') ('(', '(', 'O') (\n",
      "('Entered', 'O') ('Entered', 'VBN', 'O') Entered\n",
      "(':', 'O') (':', ':', 'O') :\n",
      "('03112016', 'O') ('03/11/2016', 'CD', 'O') 03/11/2016\n",
      "(')', 'O') (')', ')', 'O') )\n",
      "('Summons', 'O') ('Summons', 'NNS', 'O') Summons\n",
      "('Issued', 'O') ('Issued', 'VBN', 'O') Issued\n",
      "('as', 'O') ('as', 'IN', 'O') as\n",
      "('to', 'O') ('to', 'TO', 'O') to\n",
      "('Cardiogenics', 'ORGANIZATION') ('Cardiogenics', 'NNP', 'B-ORGANIZATION') Cardiogenics\n",
      "('Holdings', 'ORGANIZATION') ('Holdings', 'NNPS', 'I-ORGANIZATION') Holdings\n",
      "(',', 'O') (',', ',', 'O') ,\n",
      "('Inc..', 'O') ('Inc..', 'NNP', 'O') Inc..\n",
      "('(', 'O') ('(', '(', 'O') (\n",
      "('Bowens', 'PERSON') ('Bowens', 'NNP', 'B-GPE') Bowens\n",
      "(',', 'O') (',', ',', 'O') ,\n",
      "('Priscilla', 'PERSON') ('Priscilla', 'NNP', 'B-GPE') Priscilla\n",
      "(')', 'O') (')', ')', 'O') )\n",
      "('(', 'O') ('(', '(', 'O') (\n",
      "('Entered', 'O') ('Entered', 'VBN', 'O') Entered\n",
      "(':', 'O') (':', ':', 'O') :\n",
      "('03112016', 'O') ('03/11/2016', 'CD', 'O') 03/11/2016\n",
      "(')', 'O') (')', ')', 'O') )\n",
      "('NOTICE', 'O') ('NOTICE', 'NNP', 'B-ORGANIZATION') NOTICE\n",
      "('-', 'O') ('-', ':', 'O') -\n",
      "('emailed', 'O') ('emailed', 'VBD', 'O') emailed\n",
      "('attorney', 'O') ('attorney', 'NN', 'O') attorney\n",
      "('regarding', 'O') ('regarding', 'VBG', 'O') regarding\n",
      "('missing', 'O') ('missing', 'VBG', 'O') missing\n",
      "('second', 'O') ('second', 'JJ', 'O') second\n",
      "('page', 'O') ('page', 'NN', 'O') page\n",
      "('of', 'O') ('of', 'IN', 'O') of\n",
      "('the', 'O') ('the', 'DT', 'O') the\n",
      "('civil', 'O') ('civil', 'JJ', 'O') civil\n",
      "('cover', 'O') ('cover', 'NN', 'O') cover\n",
      "('sheet', 'O') ('sheet', 'NN', 'O') sheet\n",
      "('.', 'O') ('.', '.', 'O') .\n",
      "('(', 'O') ('(', '(', 'O') (\n",
      "('Bowens', 'PERSON') ('Bowens', 'NNP', 'B-GPE') Bowens\n",
      "(',', 'O') (',', ',', 'O') ,\n",
      "('Priscilla', 'PERSON') ('Priscilla', 'NNP', 'B-GPE') Priscilla\n",
      "(')', 'O') (')', ')', 'O') )\n",
      "('(', 'O') ('(', '(', 'O') (\n",
      "('Entered', 'O') ('Entered', 'VBN', 'O') Entered\n",
      "(':', 'O') (':', ':', 'O') :\n",
      "('03112016', 'O') ('03/11/2016', 'CD', 'O') 03/11/2016\n",
      "(')', 'O') (')', ')', 'O') )\n",
      "('In', 'O') ('In', 'IN', 'O') In\n",
      "('accordance', 'O') ('accordance', 'NN', 'O') accordance\n",
      "('with', 'O') ('with', 'IN', 'O') with\n",
      "('Rule', 'O') ('Rule', 'NNP', 'O') Rule\n",
      "('73', 'O') ('73', 'CD', 'O') 73\n",
      "('of', 'O') ('of', 'IN', 'O') of\n",
      "('the', 'O') ('the', 'DT', 'O') the\n",
      "('Federal', 'O') ('Federal', 'NNP', 'B-ORGANIZATION') Federal\n",
      "('Rules', 'O') ('Rules', 'NNP', 'I-ORGANIZATION') Rules\n",
      "('of', 'O') ('of', 'IN', 'O') of\n",
      "('Civil', 'O') ('Civil', 'NNP', 'B-PERSON') Civil\n",
      "('Procedure', 'O') ('Procedure', 'NNP', 'I-PERSON') Procedure\n",
      "('and', 'O') ('and', 'CC', 'O') and\n",
      "('Local', 'O') ('Local', 'NNP', 'B-PERSON') Local\n",
      "('Rule', 'O') ('Rule', 'NNP', 'I-PERSON') Rule\n",
      "('73.1', 'O') ('73.1', 'CD', 'O') 73.1\n",
      "(',', 'O') (',', ',', 'O') ,\n",
      "('the', 'O') ('the', 'DT', 'O') the\n",
      "('parties', 'O') ('parties', 'NNS', 'O') parties\n",
      "('are', 'O') ('are', 'VBP', 'O') are\n",
      "('notified', 'O') ('notified', 'VBN', 'O') notified\n",
      "('that', 'O') ('that', 'IN', 'O') that\n",
      "('if', 'O') ('if', 'IN', 'O') if\n",
      "('all', 'O') ('all', 'DT', 'O') all\n",
      "('parties', 'O') ('parties', 'NNS', 'O') parties\n",
      "('consent', 'O') ('consent', 'VBP', 'O') consent\n",
      "('a', 'O') ('a', 'DT', 'O') a\n",
      "('United', 'LOCATION') ('United', 'NNP', 'B-GPE') United\n",
      "('States', 'LOCATION') ('States', 'NNPS', 'I-GPE') States\n",
      "('magistrate', 'O') ('magistrate', 'VBP', 'O') magistrate\n",
      "('judge', 'O') ('judge', 'NN', 'O') judge\n",
      "('of', 'O') ('of', 'IN', 'O') of\n",
      "('this', 'O') ('this', 'DT', 'O') this\n",
      "('court', 'O') ('court', 'NN', 'O') court\n",
      "('is', 'O') ('is', 'VBZ', 'O') is\n",
      "('available', 'O') ('available', 'JJ', 'O') available\n",
      "('to', 'O') ('to', 'TO', 'O') to\n",
      "('conduct', 'O') ('conduct', 'VB', 'O') conduct\n",
      "('all', 'O') ('all', 'DT', 'O') all\n",
      "('proceedings', 'O') ('proceedings', 'NNS', 'O') proceedings\n",
      "('in', 'O') ('in', 'IN', 'O') in\n",
      "('this', 'O') ('this', 'DT', 'O') this\n",
      "('civil', 'O') ('civil', 'JJ', 'O') civil\n",
      "('action', 'O') ('action', 'NN', 'O') action\n",
      "('including', 'O') ('including', 'VBG', 'O') including\n",
      "('a', 'O') ('a', 'DT', 'O') a\n",
      "('(', 'O') ('(', '(', 'O') (\n",
      "('jury', 'O') ('jury', 'NN', 'O') jury\n",
      "('or', 'O') ('or', 'CC', 'O') or\n",
      "('nonjury', 'O') ('nonjury', 'NN', 'O') nonjury\n",
      "(')', 'O') (')', ')', 'O') )\n",
      "('trial', 'O') ('trial', 'NN', 'O') trial\n",
      "('and', 'O') ('and', 'CC', 'O') and\n",
      "('to', 'O') ('to', 'TO', 'O') to\n",
      "('order', 'O') ('order', 'NN', 'O') order\n",
      "('the', 'O') ('the', 'DT', 'O') the\n",
      "('entry', 'O') ('entry', 'NN', 'O') entry\n",
      "('of', 'O') ('of', 'IN', 'O') of\n",
      "('a', 'O') ('a', 'DT', 'O') a\n",
      "('final', 'O') ('final', 'JJ', 'O') final\n",
      "('judgment', 'O') ('judgment', 'NN', 'O') judgment\n",
      "('.', 'O') ('.', '.', 'O') .\n",
      "('Attached', 'O') ('Attached', 'VBN', 'O') Attached\n",
      "('to', 'O') ('to', 'TO', 'O') to\n",
      "('the', 'O') ('the', 'DT', 'O') the\n",
      "('Notice', 'O') ('Notice', 'NNP', 'B-ORGANIZATION') Notice\n",
      "('is', 'O') ('is', 'VBZ', 'O') is\n",
      "('a', 'O') ('a', 'DT', 'O') a\n",
      "('blank', 'O') ('blank', 'JJ', 'O') blank\n",
      "('copy', 'O') ('copy', 'NN', 'O') copy\n",
      "('of', 'O') ('of', 'IN', 'O') of\n",
      "('the', 'O') ('the', 'DT', 'O') the\n",
      "('consent', 'O') ('consent', 'NN', 'O') consent\n",
      "('form', 'O') ('form', 'NN', 'O') form\n",
      "('that', 'O') ('that', 'WDT', 'O') that\n",
      "('should', 'O') ('should', 'MD', 'O') should\n",
      "('be', 'O') ('be', 'VB', 'O') be\n",
      "('filled', 'O') ('filled', 'VBN', 'O') filled\n",
      "('out', 'O') ('out', 'RP', 'O') out\n",
      "(',', 'O') (',', ',', 'O') ,\n",
      "('signed', 'O') ('signed', 'VBN', 'O') signed\n",
      "('and', 'O') ('and', 'CC', 'O') and\n",
      "('filed', 'O') ('filed', 'VBN', 'O') filed\n",
      "('electronically', 'O') ('electronically', 'RB', 'O') electronically\n",
      "('only', 'O') ('only', 'RB', 'O') only\n",
      "('if', 'O') ('if', 'IN', 'O') if\n",
      "('all', 'O') ('all', 'DT', 'O') all\n",
      "('parties', 'O') ('parties', 'NNS', 'O') parties\n",
      "('wish', 'O') ('wish', 'VBP', 'O') wish\n",
      "('to', 'O') ('to', 'TO', 'O') to\n",
      "('consent', 'O') ('consent', 'NN', 'O') consent\n",
      "('.', 'O') ('.', '.', 'O') .\n",
      "('The', 'O') ('The', 'DT', 'O') The\n",
      "('form', 'O') ('form', 'NN', 'O') form\n",
      "('may', 'O') ('may', 'MD', 'O') may\n",
      "('also', 'O') ('also', 'RB', 'O') also\n",
      "('be', 'O') ('be', 'VB', 'O') be\n",
      "('accessed', 'O') ('accessed', 'VBN', 'O') accessed\n",
      "('at', 'O') ('at', 'IN', 'O') at\n",
      "('the', 'O') ('the', 'DT', 'O') the\n",
      "('following', 'O') ('following', 'JJ', 'O') following\n",
      "('link', 'O') ('link', 'NN', 'O') link\n",
      "(':', 'O') (':', ':', 'O') :\n",
      "('http', 'O') ('http', 'NN', 'O') http\n",
      "(':', 'O') (':', ':', 'O') :\n",
      "('www.uscourts.govuscourtsFormsAndFeesFormsAO085.pdf', 'O') ('//www.uscourts.gov/uscourts/FormsAndFees/Forms/AO085.pdf', 'NN', 'O') //www.uscourts.gov/uscourts/FormsAndFees/Forms/AO085.pdf\n",
      "('.', 'O') ('.', '.', 'O') .\n",
      "('You', 'O') ('You', 'PRP', 'O') You\n",
      "('may', 'O') ('may', 'MD', 'O') may\n",
      "('withhold', 'O') ('withhold', 'VB', 'O') withhold\n",
      "('your', 'O') ('your', 'PRP$', 'O') your\n",
      "('consent', 'O') ('consent', 'NN', 'O') consent\n",
      "('without', 'O') ('without', 'IN', 'O') without\n",
      "('adverse', 'O') ('adverse', 'JJ', 'O') adverse\n",
      "('substantive', 'O') ('substantive', 'JJ', 'O') substantive\n",
      "('consequences', 'O') ('consequences', 'NNS', 'O') consequences\n",
      "('.', 'O') ('.', '.', 'O') .\n",
      "('Do', 'O') ('Do', 'VBP', 'O') Do\n",
      "('NOT', 'O') ('NOT', 'NNP', 'B-ORGANIZATION') NOT\n",
      "('return', 'O') ('return', 'VB', 'O') return\n",
      "('or', 'O') ('or', 'CC', 'O') or\n",
      "('file', 'O') ('file', 'VB', 'O') file\n",
      "('the', 'O') ('the', 'DT', 'O') the\n",
      "('consent', 'O') ('consent', 'NN', 'O') consent\n",
      "('unless', 'O') ('unless', 'IN', 'O') unless\n",
      "('all', 'O') ('all', 'DT', 'O') all\n",
      "('parties', 'O') ('parties', 'NNS', 'O') parties\n",
      "('have', 'O') ('have', 'VBP', 'O') have\n",
      "('signed', 'O') ('signed', 'VBN', 'O') signed\n",
      "('the', 'O') ('the', 'DT', 'O') the\n",
      "('consent', 'O') ('consent', 'NN', 'O') consent\n",
      "('.', 'O') ('.', '.', 'O') .\n",
      "('(', 'O') ('(', '(', 'O') (\n",
      "('Bowens', 'PERSON') ('Bowens', 'NNP', 'B-GPE') Bowens\n",
      "(',', 'O') (',', ',', 'O') ,\n",
      "('Priscilla', 'PERSON') ('Priscilla', 'NNP', 'B-GPE') Priscilla\n",
      "(')', 'O') (')', ')', 'O') )\n",
      "('(', 'O') ('(', '(', 'O') (\n",
      "('Entered', 'O') ('Entered', 'VBN', 'O') Entered\n",
      "(':', 'O') (':', ':', 'O') :\n",
      "('03112016', 'O') ('03/11/2016', 'CD', 'O') 03/11/2016\n",
      "(')', 'O') (')', ')', 'O') )\n",
      "docket text: 0\n",
      "['COMPLAINT against Cardiogenics Holdings, Inc. filing fee $ 400, receipt number 0207-8445206 Was the Disclosure Statement on Civil Cover Sheet completed -YES,, filed by LG Capital Funding, LLC. (Steinmetz, Michael) (Additional attachment(s) added on 3/11/2016: # 1 Civil Cover Sheet, # 2 Proposed Summons) (Bowens, Priscilla). (Entered: 03/10/2016)', 'Cardiogenics Holdings , Inc. LG Capital Funding', '( Steinmetz Michael Bowens Priscilla', 'COMPLAINT against -ORG- -ORG- -ORG- -ORG- filing fee $ 400 , receipt number 0207-8445206 Was the Disclosure Statement on Civil Cover Sheet completed -YES , , filed by -ORG- -ORG- -ORG- , LLC . -NAME- -NAME- , -NAME- ) ( Additional attachment ( s ) added on 3/11/2016 : # 1 Civil Cover Sheet , # 2 Proposed Summons ) ( -NAME- , -NAME- ) . ( Entered : 03/10/2016 )', 'COMPLAINT against filing fee $ 400 , receipt number 0207-8445206 Was the Disclosure Statement on Civil Cover Sheet completed -YES , , filed by , LLC . , ) ( Additional attachment ( s ) added on 3/11/2016 : # 1 Civil Cover Sheet , # 2 Proposed Summons ) ( , ) . ( Entered : 03/10/2016 )'] \n",
      "\n",
      "docket text: 1\n",
      "['Case assigned to Judge Ann M Donnelly and Magistrate Judge Vera M. Scanlon. Please download and review the Individual Practices of the assigned Judges, located on our website. Attorneys are responsible for providing courtesy copies to judges where their Individual Practices require such. (Bowens, Priscilla) (Entered: 03/11/2016)', 'Individual Practices of the assigned Judges', 'Ann M Donnelly Vera M. Scanlon Bowens Priscilla', 'Case assigned to Judge -NAME- -NAME- -NAME- and Magistrate Judge -NAME- -NAME- -NAME- . Please download and review the -ORG- -ORG- -ORG- -ORG- -ORG- -ORG- , located on our website . Attorneys are responsible for providing courtesy copies to judges where their Individual Practices require such . ( -NAME- , -NAME- ) ( Entered : 03/11/2016 )', 'Case assigned to Judge and Magistrate Judge . Please download and review the , located on our website . Attorneys are responsible for providing courtesy copies to judges where their Individual Practices require such . ( , ) ( Entered : 03/11/2016 )'] \n",
      "\n",
      "docket text: 2\n",
      "['Summons Issued as to Cardiogenics Holdings, Inc.. (Bowens, Priscilla) (Entered: 03/11/2016)', 'Cardiogenics Holdings', 'Bowens Priscilla', 'Summons Issued as to -ORG- -ORG- , Inc.. ( -NAME- , -NAME- ) ( Entered : 03/11/2016 )', 'Summons Issued as to , Inc.. ( , ) ( Entered : 03/11/2016 )'] \n",
      "\n",
      "docket text: 3\n",
      "['NOTICE - emailed attorney regarding missing second page of the civil cover sheet. (Bowens, Priscilla) (Entered: 03/11/2016)', '', 'Bowens Priscilla', 'NOTICE - emailed attorney regarding missing second page of the civil cover sheet . ( -NAME- , -NAME- ) ( Entered : 03/11/2016 )', 'NOTICE - emailed attorney regarding missing second page of the civil cover sheet . ( , ) ( Entered : 03/11/2016 )'] \n",
      "\n",
      "docket text: 4\n",
      "['In accordance with Rule 73 of the Federal Rules of Civil Procedure and Local Rule 73.1, the parties are notified that if all parties consent a United States magistrate judge of this court is available to conduct all proceedings in this civil action including a (jury or nonjury) trial and to order the entry of a final judgment. Attached to the Notice is a blank copy of the consent form that should be filled out, signed and filed electronically only if all parties wish to consent. The form may also be accessed at the following link: http://www.uscourts.gov/uscourts/FormsAndFees/Forms/AO085.pdf. You may withhold your consent without adverse substantive consequences. Do NOT return or file the consent unless all parties have signed the consent. (Bowens, Priscilla) (Entered: 03/11/2016)', '', 'Bowens Priscilla', 'In accordance with Rule 73 of the Federal Rules of Civil Procedure and Local Rule 73.1 , the parties are notified that if all parties consent a United States magistrate judge of this court is available to conduct all proceedings in this civil action including a ( jury or nonjury ) trial and to order the entry of a final judgment . Attached to the Notice is a blank copy of the consent form that should be filled out , signed and filed electronically only if all parties wish to consent . The form may also be accessed at the following link : http : //www.uscourts.gov/uscourts/FormsAndFees/Forms/AO085.pdf . You may withhold your consent without adverse substantive consequences . Do NOT return or file the consent unless all parties have signed the consent . ( -NAME- , -NAME- ) ( Entered : 03/11/2016 )', 'In accordance with Rule 73 of the Federal Rules of Civil Procedure and Local Rule 73.1 , the parties are notified that if all parties consent a United States magistrate judge of this court is available to conduct all proceedings in this civil action including a ( jury or nonjury ) trial and to order the entry of a final judgment . Attached to the Notice is a blank copy of the consent form that should be filled out , signed and filed electronically only if all parties wish to consent . The form may also be accessed at the following link : http : //www.uscourts.gov/uscourts/FormsAndFees/Forms/AO085.pdf . You may withhold your consent without adverse substantive consequences . Do NOT return or file the consent unless all parties have signed the consent . ( , ) ( Entered : 03/11/2016 )'] \n",
      "\n"
     ]
    }
   ],
   "source": [
    "output = []\n",
    "for i in range(5):\n",
    "    org_str = []\n",
    "    name_str = []\n",
    "    stripped_str1 = []\n",
    "    stripped_str2 = []\n",
    "\n",
    "    tokens = word_tokenize(docket_original[i])\n",
    "    for SFlabel, NLlabel, token in zip(tagger.tag(tokens), tree2conlltags(ne_chunk(pos_tag(tokens))), tokens):\n",
    "        print(SFlabel, NLlabel, token)\n",
    "        if SFlabel[1] == 'ORGANIZATION':\n",
    "            org_str.append(SFlabel[0])\n",
    "            stripped_str1.append('-ORG-')\n",
    "        elif SFlabel[1] == 'PERSON':\n",
    "            name_str.append(SFlabel[0])\n",
    "            stripped_str1.append('-NAME-')\n",
    "        else:\n",
    "            stripped_str1.append(token)\n",
    "            stripped_str2.append(token)\n",
    "\n",
    "    output.append([docket_original[i],\n",
    "                   ' '.join(org_str),\n",
    "                   ' '.join(name_str),\n",
    "                   ' '.join(stripped_str1),\n",
    "                   ' '.join(stripped_str2)])\n",
    "    \n",
    "for i in range(5):\n",
    "    print('docket text:', i)\n",
    "    print(output[i], '\\n')"
   ]
  },
  {
   "cell_type": "code",
   "execution_count": null,
   "metadata": {},
   "outputs": [],
   "source": []
  },
  {
   "cell_type": "code",
   "execution_count": null,
   "metadata": {},
   "outputs": [],
   "source": []
  },
  {
   "cell_type": "code",
   "execution_count": null,
   "metadata": {},
   "outputs": [],
   "source": []
  },
  {
   "cell_type": "code",
   "execution_count": null,
   "metadata": {},
   "outputs": [],
   "source": []
  },
  {
   "cell_type": "code",
   "execution_count": null,
   "metadata": {},
   "outputs": [],
   "source": []
  },
  {
   "cell_type": "code",
   "execution_count": null,
   "metadata": {},
   "outputs": [],
   "source": []
  },
  {
   "cell_type": "code",
   "execution_count": null,
   "metadata": {},
   "outputs": [],
   "source": []
  },
  {
   "cell_type": "code",
   "execution_count": null,
   "metadata": {},
   "outputs": [],
   "source": []
  },
  {
   "cell_type": "code",
   "execution_count": null,
   "metadata": {},
   "outputs": [],
   "source": []
  },
  {
   "cell_type": "code",
   "execution_count": null,
   "metadata": {},
   "outputs": [],
   "source": []
  },
  {
   "cell_type": "code",
   "execution_count": null,
   "metadata": {},
   "outputs": [],
   "source": []
  },
  {
   "cell_type": "code",
   "execution_count": null,
   "metadata": {},
   "outputs": [],
   "source": []
  },
  {
   "cell_type": "code",
   "execution_count": null,
   "metadata": {},
   "outputs": [],
   "source": []
  },
  {
   "cell_type": "code",
   "execution_count": null,
   "metadata": {},
   "outputs": [],
   "source": []
  },
  {
   "cell_type": "code",
   "execution_count": null,
   "metadata": {},
   "outputs": [],
   "source": []
  },
  {
   "cell_type": "code",
   "execution_count": null,
   "metadata": {},
   "outputs": [],
   "source": []
  },
  {
   "cell_type": "code",
   "execution_count": null,
   "metadata": {},
   "outputs": [],
   "source": []
  },
  {
   "cell_type": "code",
   "execution_count": null,
   "metadata": {},
   "outputs": [],
   "source": []
  },
  {
   "cell_type": "code",
   "execution_count": null,
   "metadata": {},
   "outputs": [],
   "source": []
  },
  {
   "cell_type": "code",
   "execution_count": null,
   "metadata": {},
   "outputs": [],
   "source": []
  },
  {
   "cell_type": "code",
   "execution_count": null,
   "metadata": {},
   "outputs": [],
   "source": []
  },
  {
   "cell_type": "code",
   "execution_count": null,
   "metadata": {},
   "outputs": [],
   "source": []
  },
  {
   "cell_type": "code",
   "execution_count": null,
   "metadata": {},
   "outputs": [],
   "source": []
  },
  {
   "cell_type": "code",
   "execution_count": 109,
   "metadata": {},
   "outputs": [
    {
     "data": {
      "text/plain": [
       "[('In', 'O'),\n",
       " ('accordance', 'O'),\n",
       " ('with', 'O'),\n",
       " ('Rule', 'O'),\n",
       " ('73', 'O'),\n",
       " ('of', 'O'),\n",
       " ('the', 'O'),\n",
       " ('Federal', 'O'),\n",
       " ('Rules', 'O'),\n",
       " ('of', 'O'),\n",
       " ('Civil', 'O'),\n",
       " ('Procedure', 'O'),\n",
       " ('and', 'O'),\n",
       " ('Local', 'O'),\n",
       " ('Rule', 'O'),\n",
       " ('73.1', 'O'),\n",
       " (',', 'O'),\n",
       " ('the', 'O'),\n",
       " ('parties', 'O'),\n",
       " ('are', 'O'),\n",
       " ('notified', 'O'),\n",
       " ('that', 'O'),\n",
       " ('if', 'O'),\n",
       " ('all', 'O'),\n",
       " ('parties', 'O'),\n",
       " ('consent', 'O'),\n",
       " ('a', 'O'),\n",
       " ('United', 'LOCATION'),\n",
       " ('States', 'LOCATION'),\n",
       " ('magistrate', 'O'),\n",
       " ('judge', 'O'),\n",
       " ('of', 'O'),\n",
       " ('this', 'O'),\n",
       " ('court', 'O'),\n",
       " ('is', 'O'),\n",
       " ('available', 'O'),\n",
       " ('to', 'O'),\n",
       " ('conduct', 'O'),\n",
       " ('all', 'O'),\n",
       " ('proceedings', 'O'),\n",
       " ('in', 'O'),\n",
       " ('this', 'O'),\n",
       " ('civil', 'O'),\n",
       " ('action', 'O'),\n",
       " ('including', 'O'),\n",
       " ('a', 'O'),\n",
       " ('(', 'O'),\n",
       " ('jury', 'O'),\n",
       " ('or', 'O'),\n",
       " ('nonjury', 'O'),\n",
       " (')', 'O'),\n",
       " ('trial', 'O'),\n",
       " ('and', 'O'),\n",
       " ('to', 'O'),\n",
       " ('order', 'O'),\n",
       " ('the', 'O'),\n",
       " ('entry', 'O'),\n",
       " ('of', 'O'),\n",
       " ('a', 'O'),\n",
       " ('final', 'O'),\n",
       " ('judgment', 'O'),\n",
       " ('.', 'O'),\n",
       " ('Attached', 'O'),\n",
       " ('to', 'O'),\n",
       " ('the', 'O'),\n",
       " ('Notice', 'O'),\n",
       " ('is', 'O'),\n",
       " ('a', 'O'),\n",
       " ('blank', 'O'),\n",
       " ('copy', 'O'),\n",
       " ('of', 'O'),\n",
       " ('the', 'O'),\n",
       " ('consent', 'O'),\n",
       " ('form', 'O'),\n",
       " ('that', 'O'),\n",
       " ('should', 'O'),\n",
       " ('be', 'O'),\n",
       " ('filled', 'O'),\n",
       " ('out', 'O'),\n",
       " (',', 'O'),\n",
       " ('signed', 'O'),\n",
       " ('and', 'O'),\n",
       " ('filed', 'O'),\n",
       " ('electronically', 'O'),\n",
       " ('only', 'O'),\n",
       " ('if', 'O'),\n",
       " ('all', 'O'),\n",
       " ('parties', 'O'),\n",
       " ('wish', 'O'),\n",
       " ('to', 'O'),\n",
       " ('consent', 'O'),\n",
       " ('.', 'O'),\n",
       " ('The', 'O'),\n",
       " ('form', 'O'),\n",
       " ('may', 'O'),\n",
       " ('also', 'O'),\n",
       " ('be', 'O'),\n",
       " ('accessed', 'O'),\n",
       " ('at', 'O'),\n",
       " ('the', 'O'),\n",
       " ('following', 'O'),\n",
       " ('link', 'O'),\n",
       " (':', 'O'),\n",
       " ('http', 'O'),\n",
       " (':', 'O'),\n",
       " ('www.uscourts.govuscourtsFormsAndFeesFormsAO085.pdf', 'O'),\n",
       " ('.', 'O'),\n",
       " ('You', 'O'),\n",
       " ('may', 'O'),\n",
       " ('withhold', 'O'),\n",
       " ('your', 'O'),\n",
       " ('consent', 'O'),\n",
       " ('without', 'O'),\n",
       " ('adverse', 'O'),\n",
       " ('substantive', 'O'),\n",
       " ('consequences', 'O'),\n",
       " ('.', 'O'),\n",
       " ('Do', 'O'),\n",
       " ('NOT', 'O'),\n",
       " ('return', 'O'),\n",
       " ('or', 'O'),\n",
       " ('file', 'O'),\n",
       " ('the', 'O'),\n",
       " ('consent', 'O'),\n",
       " ('unless', 'O'),\n",
       " ('all', 'O'),\n",
       " ('parties', 'O'),\n",
       " ('have', 'O'),\n",
       " ('signed', 'O'),\n",
       " ('the', 'O'),\n",
       " ('consent', 'O'),\n",
       " ('.', 'O'),\n",
       " ('(', 'O'),\n",
       " ('Bowens', 'PERSON'),\n",
       " (',', 'O'),\n",
       " ('Priscilla', 'PERSON'),\n",
       " (')', 'O'),\n",
       " ('(', 'O'),\n",
       " ('Entered', 'O'),\n",
       " (':', 'O'),\n",
       " ('03112016', 'O'),\n",
       " (')', 'O')]"
      ]
     },
     "execution_count": 109,
     "metadata": {},
     "output_type": "execute_result"
    }
   ],
   "source": [
    "tagger.tag(word_tokenize(docket_original[4]))"
   ]
  },
  {
   "cell_type": "markdown",
   "metadata": {},
   "source": [
    "### Used Stanford NER to identy Names and Entities"
   ]
  },
  {
   "cell_type": "code",
   "execution_count": 110,
   "metadata": {},
   "outputs": [
    {
     "ename": "NameError",
     "evalue": "name 'label' is not defined",
     "output_type": "error",
     "traceback": [
      "\u001b[1;31m---------------------------------------------------------------------------\u001b[0m",
      "\u001b[1;31mNameError\u001b[0m                                 Traceback (most recent call last)",
      "\u001b[1;32m<timed exec>\u001b[0m in \u001b[0;36m<module>\u001b[1;34m()\u001b[0m\n",
      "\u001b[1;31mNameError\u001b[0m: name 'label' is not defined"
     ]
    }
   ],
   "source": [
    "%%time\n",
    "\n",
    "output = []\n",
    "#length = 10\n",
    "length = len(docket_original)\n",
    "for i in range(length):\n",
    "    org_str = []\n",
    "    name_str = []\n",
    "    stripped_str1 = []\n",
    "    stripped_str2 = []\n",
    "    tokens = word_tokenize(docket_original[i])\n",
    "    #print(tokens)\n",
    "    for STlabel, token in zip(tagger.tag(tokens), tokens):\n",
    "        #print(label)\n",
    "        if label[1] == 'ORGANIZATION':\n",
    "            org_str.append(label[0])\n",
    "            stripped_str1.append('-ORG-')\n",
    "        elif label[1] == 'PERSON':\n",
    "            name_str.append(label[0])\n",
    "            stripped_str1.append('-NAME-')\n",
    "        else:\n",
    "            stripped_str1.append(token)\n",
    "            stripped_str2.append(token)\n",
    "    \n",
    "    output.append([docket_original[i],\n",
    "                   ' '.join(org_str),\n",
    "                   ' '.join(name_str),\n",
    "                   ' '.join(stripped_str1),\n",
    "                   ' '.join(stripped_str2)])"
   ]
  },
  {
   "cell_type": "code",
   "execution_count": 111,
   "metadata": {},
   "outputs": [],
   "source": [
    "NER_df = pd.DataFrame(output, columns = ['Original Docket Text', 'Organization Portion', 'Name Portion', \n",
    "                                         'Identifying Org and Name', 'Stripped Org and Name'])"
   ]
  },
  {
   "cell_type": "markdown",
   "metadata": {},
   "source": [
    "### To re-build new_df, start here"
   ]
  },
  {
   "cell_type": "code",
   "execution_count": 112,
   "metadata": {},
   "outputs": [],
   "source": [
    "new_df = NER_df.copy()"
   ]
  },
  {
   "cell_type": "code",
   "execution_count": 113,
   "metadata": {},
   "outputs": [
    {
     "name": "stdout",
     "output_type": "stream",
     "text": [
      "shape before dedupe: (0, 5)\n",
      "shape after dedupe: (0, 5)\n"
     ]
    }
   ],
   "source": [
    "print('shape before dedupe: {}'.format(new_df.shape))\n",
    "new_df.drop_duplicates(inplace = True)\n",
    "print('shape after dedupe: {}'.format(new_df.shape))"
   ]
  },
  {
   "cell_type": "code",
   "execution_count": 114,
   "metadata": {},
   "outputs": [
    {
     "name": "stdout",
     "output_type": "stream",
     "text": [
      "Empty DataFrame\n",
      "Columns: [Original Docket Text, Organization Portion, Name Portion, Identifying Org and Name, Stripped Org and Name]\n",
      "Index: []\n"
     ]
    }
   ],
   "source": [
    "print(new_df.head())\n",
    "docket_text_list = list(new_df['Stripped Org and Name'])"
   ]
  },
  {
   "cell_type": "code",
   "execution_count": 127,
   "metadata": {},
   "outputs": [],
   "source": [
    "def text_preprocess1(text):\n",
    "    text = text.replace('/', ' ')\n",
    "    text = re.sub(\"[\\(\\[].*?[\\)\\]]\", \"\", text)\n",
    "    text = text.replace('-', '')\n",
    "    text = text.replace('(', ' ')\n",
    "    text = text.replace(')', ' ')\n",
    "    text = text.replace('(s)', 's')\n",
    "    text = text.replace(\"'s\", 's')\n",
    "    text = text.replace('*', '')\n",
    "    text = text.replace('', '')\n",
    "    text = text.replace('<', '')\n",
    "    text = text.replace('>', '')\n",
    "    text = text.replace('\\\\', '')\n",
    "    text = text.replace('&', ' ')\n",
    "    \n",
    "    table = text.maketrans(string.punctuation, len(string.punctuation) * ' ')\n",
    "    text = text.translate(table)\n",
    "    return text\n",
    "\n",
    "def text_preprocess2(text):\n",
    "    text = text.replace('.', '')\n",
    "    return text\n",
    "\n",
    "def remove_stop(sentence):\n",
    "    output = []\n",
    "    for word in sentence.split():\n",
    "        if word not in set(stopwords.words('english')):\n",
    "            output.append(word)\n",
    "    return ' '.join(output)\n",
    "\n",
    "keywords = pd.read_csv('docket_texts/keywords.csv', header = None)\n",
    "keywords.columns = ['keywords']\n",
    "keyword_list = list(keywords['keywords'])"
   ]
  },
  {
   "cell_type": "code",
   "execution_count": 128,
   "metadata": {},
   "outputs": [
    {
     "name": "stdout",
     "output_type": "stream",
     "text": [
      "This attorney case opening filing has been checked for quality control . See the attachment for corrections that were made , if any . ( , ) ( Entered : 03/11/2016 ) \n",
      "\n",
      "this attorney case opening filing has been checked for quality control   see the attachment for corrections that were made   if any    \n",
      "\n",
      "length of docket text dataset: 3203\n"
     ]
    }
   ],
   "source": [
    "print(docket_text_list[5], '\\n')\n",
    "docket_text_list = [text_preprocess1(sentence).lower() for sentence in docket_text_list]\n",
    "docket_text_list = [text_preprocess2(sentence) for sentence in docket_text_list]\n",
    "print(docket_text_list[5])\n",
    "print('\\nlength of docket text dataset: {}'.format(len(docket_text_list)))"
   ]
  },
  {
   "cell_type": "code",
   "execution_count": 129,
   "metadata": {},
   "outputs": [],
   "source": [
    "class Splitter(object):\n",
    "\n",
    "    def __init__(self):\n",
    "        self.splitter = nltk.data.load('tokenizers/punkt/english.pickle')\n",
    "        self.tokenizer = nltk.tokenize.TreebankWordTokenizer()\n",
    "\n",
    "    def split(self,text):\n",
    "\n",
    "        # split into single sentence\n",
    "        sentences = self.splitter.tokenize(text)\n",
    "        # tokenization in each sentences\n",
    "        tokens = [self.tokenizer.tokenize(remove_stop(sent)) for sent in sentences]\n",
    "        return tokens\n",
    "\n",
    "\n",
    "class LemmatizationWithPOSTagger(object):\n",
    "    def __init__(self):\n",
    "        pass\n",
    "    def get_wordnet_pos(self,treebank_tag):\n",
    "        \"\"\"\n",
    "        return WORDNET POS compliance to WORDENT lemmatization (a,n,r,v) \n",
    "        \"\"\"\n",
    "        if treebank_tag.startswith('J'):\n",
    "            return wordnet.ADJ\n",
    "        elif treebank_tag.startswith('V'):\n",
    "            return wordnet.VERB\n",
    "        elif treebank_tag.startswith('N'):\n",
    "            return wordnet.NOUN\n",
    "        elif treebank_tag.startswith('R'):\n",
    "            return wordnet.ADV\n",
    "        else:\n",
    "            # As default pos in lemmatization is Noun\n",
    "            return wordnet.NOUN\n",
    "\n",
    "    def pos_tag(self,tokens):\n",
    "        # find the pos tagginf for each tokens [('What', 'WP'), ('can', 'MD'), ('I', 'PRP') ....\n",
    "        pos_tokens = [nltk.pos_tag(token) for token in tokens]\n",
    "\n",
    "        # lemmatization using pos tagg   \n",
    "        # convert into feature set of [('What', 'What', ['WP']), ('can', 'can', ['MD']), ... ie [original WORD, Lemmatized word, POS tag]\n",
    "        pos_tokens = [ [(word, lemmatizer.lemmatize(word,self.get_wordnet_pos(pos_tag)), [pos_tag]) for (word,pos_tag) in pos] for pos in pos_tokens]\n",
    "        return pos_tokens"
   ]
  },
  {
   "cell_type": "code",
   "execution_count": 130,
   "metadata": {},
   "outputs": [
    {
     "name": "stdout",
     "output_type": "stream",
     "text": [
      "Wall time: 1min 12s\n"
     ]
    }
   ],
   "source": [
    "%%time\n",
    "lemmatizer = WordNetLemmatizer()\n",
    "splitter = Splitter()\n",
    "lemmatization_using_pos_tagger = LemmatizationWithPOSTagger()\n",
    "\n",
    "lemma_docket_text_list = []\n",
    "for docket_text in docket_text_list:\n",
    "    #step 1 split document into sentence followed by tokenization\n",
    "    tokens = splitter.split(docket_text)\n",
    "\n",
    "    #step 2 lemmatization using pos tagger \n",
    "    lemma_pos_token = lemmatization_using_pos_tagger.pos_tag(tokens)\n",
    "    lemma_docket_text_list.append(lemma_pos_token)"
   ]
  },
  {
   "cell_type": "code",
   "execution_count": 138,
   "metadata": {},
   "outputs": [
    {
     "name": "stdout",
     "output_type": "stream",
     "text": [
      "3203\n",
      "1\n",
      "[[('accordance', 'accordance', ['NN']), ('rule', 'rule', ['NN']), ('73', '73', ['CD']), ('federal', 'federal', ['JJ']), ('rules', 'rule', ['NNS']), ('civil', 'civil', ['JJ']), ('procedure', 'procedure', ['NN']), ('local', 'local', ['JJ']), ('rule', 'rule', ['NN']), ('73', '73', ['CD']), ('1', '1', ['CD']), ('parties', 'party', ['NNS']), ('notified', 'notify', ['VBN']), ('parties', 'party', ['NNS']), ('consent', 'consent', ['NN']), ('united', 'united', ['JJ']), ('states', 'state', ['NNS']), ('magistrate', 'magistrate', ['VBP']), ('judge', 'judge', ['NN']), ('court', 'court', ['NN']), ('available', 'available', ['JJ']), ('conduct', 'conduct', ['NN']), ('proceedings', 'proceeding', ['NNS']), ('civil', 'civil', ['JJ']), ('action', 'action', ['NN']), ('including', 'include', ['VBG']), ('trial', 'trial', ['NN']), ('order', 'order', ['NN']), ('entry', 'entry', ['NN']), ('final', 'final', ['JJ']), ('judgment', 'judgment', ['NN']), ('attached', 'attach', ['VBN']), ('notice', 'notice', ['RB']), ('blank', 'blank', ['JJ']), ('copy', 'copy', ['NN']), ('consent', 'consent', ['NN']), ('form', 'form', ['NN']), ('filled', 'fill', ['VBN']), ('signed', 'sign', ['VBD']), ('filed', 'file', ['VBN']), ('electronically', 'electronically', ['RB']), ('parties', 'party', ['NNS']), ('wish', 'wish', ['JJ']), ('consent', 'consent', ['NN']), ('form', 'form', ['NN']), ('may', 'may', ['MD']), ('also', 'also', ['RB']), ('accessed', 'access', ['VBD']), ('following', 'follow', ['VBG']), ('link', 'link', ['NN']), ('http', 'http', ['NN']), ('www', 'www', ['NN']), ('uscourts', 'uscourts', ['NNS']), ('gov', 'gov', ['NN']), ('uscourts', 'uscourts', ['NNS']), ('formsandfees', 'formsandfees', ['NNS']), ('forms', 'form', ['NNS']), ('ao085', 'ao085', ['VBP']), ('pdf', 'pdf', ['NN']), ('may', 'may', ['MD']), ('withhold', 'withhold', ['VB']), ('consent', 'consent', ['NN']), ('without', 'without', ['IN']), ('adverse', 'adverse', ['JJ']), ('substantive', 'substantive', ['JJ']), ('consequences', 'consequence', ['NNS']), ('return', 'return', ['VBP']), ('file', 'file', ['JJ']), ('consent', 'consent', ['NN']), ('unless', 'unless', ['IN']), ('parties', 'party', ['NNS']), ('signed', 'sign', ['VBN']), ('consent', 'consent', ['NN'])]]\n",
      "27\n",
      "('complaint', 'complaint', ['NN'])\n",
      "complaint\n"
     ]
    }
   ],
   "source": [
    "print(len(lemma_docket_text_list)) #docket text document level\n",
    "print(len(lemma_docket_text_list[4])) #docket text sentence level\n",
    "print(lemma_docket_text_list[4]) #docket text sentence level\n",
    "print(len(lemma_docket_text_list[0][0])) #docket text word level\n",
    "print(lemma_docket_text_list[0][0][0]) #docket text token level\n",
    "print(lemma_docket_text_list[0][0][0][0]) #docket text tuple level"
   ]
  },
  {
   "cell_type": "code",
   "execution_count": 133,
   "metadata": {},
   "outputs": [],
   "source": [
    "#let's do a collection of what we have, this is to see for seeing what we have from a POS perspective, and potentially remove those POS\n",
    "\n",
    "pos_collection = {}\n",
    "for lemma_pos_token in lemma_docket_text_list:\n",
    "    for sentence in lemma_pos_token:\n",
    "        for token in sentence:\n",
    "            #print(token[2][0])\n",
    "            if token[2][0] not in list(pos_collection.keys()):\n",
    "                pos_collection[token[2][0]] = []\n",
    "                pos_collection[token[2][0]].append(token[1])\n",
    "            else:\n",
    "                if token[1] not in pos_collection[token[2][0]]:\n",
    "                    pos_collection[token[2][0]].append(token[1])"
   ]
  },
  {
   "cell_type": "code",
   "execution_count": 16,
   "metadata": {},
   "outputs": [],
   "source": [
    "pd.DataFrame(dict([ (k, pd.Series(v)) for k, v in collection.items()])).to_csv('NLP_train_pos.csv', index = False)"
   ]
  },
  {
   "cell_type": "code",
   "execution_count": 134,
   "metadata": {},
   "outputs": [],
   "source": [
    "remove_pos = list(pd.read_excel('NLP_to_be_removed.xlsx', sheetname = 0, header = None)[0])\n",
    "remove_word = list(pd.read_excel('NLP_to_be_removed.xlsx', sheetname = 1, header = None)[0])\n",
    "remove_trigram = list(pd.read_excel('NLP_to_be_removed.xlsx', sheetname = 2, header = None)[0])"
   ]
  },
  {
   "cell_type": "code",
   "execution_count": 135,
   "metadata": {},
   "outputs": [
    {
     "name": "stdout",
     "output_type": "stream",
     "text": [
      "['complaint fee receipt number disclosure civil cover sheet complete yes civil cover sheet propose summons', 'please download locate website responsible courtesy individual practice', 'summons inc', 'notice email miss civil cover sheet', 'accordance rule federal rule civil procedure local rule notify consent united available conduct civil trial order entry final judgment notice blank consent fill electronically wish consent also access link http www uscourts gov uscourts formsandfees ao085 pdf withhold consent without adverse substantive consequence consent unless consent', 'open check quality control correction', 'notice appearance', 'backend note complaint', 'ta letter complaint', 'c notice conversion complaint']\n",
      "Wall time: 159 ms\n"
     ]
    }
   ],
   "source": [
    "%%time\n",
    "'''\n",
    "remove_pos = [\"``\", \"NNPS\", \"NNP\", \"CD\", '#', '$', \"''\", \",\", \"0\", \":\"]\n",
    "remove_word = [\"'s\", \"judge\", \"party\", \"defendant\", \"ex\", \"plantiff\", \"shall\", \"date\", \"b\", \"exhibit\", \"pennsylvania\",  \n",
    "               \"Inc..\", \"inc..\", \"llc\", \"'\", \"[_]\", \"action\", \"clerk\", \"july\", \"kw\", \"regard\", \"sac\", \"attachment\", \"c.d\", \"cal\", \"case\", \"cd\", \"l.p.\", \n",
    "               \"claim\", \"copy\", \"court\", \"direct\", \"form\", \"hereby\", \"magistrate\", \"p.c\", \"pl\", \"plaintiff\", \"regard\", \"sign\", \"time\", \"mr.\", \n",
    "               \"docket\", \"follow\", \"set\", \"matter\" \"agreement\" \"proceeding\", \"cotton\", \"january\", \"february\", \"march\", \"april\", \"may\", \"june\", \n",
    "               \"july\", \"august\", \"september\", \"october\", \"november\", \"december\",\n",
    "               \"agreement\", \"v.\", \"modify\", \"fund\", \"associated\", \"provide\", \"material\", \"amount\", \"accordingly\", \"additional\", \n",
    "               \"second\", \"esq\", \"transmission\", \"g.c.\", \"seal\", \"review\", \"honor\", \"submit\", \"counsel\", \"witness\", \"civ\", \"first\", \"ltd..\", \"enter\", \n",
    "               \"stay\", \"forth\", \"matter\", \"whether\", \"class\", \"master\", \"information\", \"statement\", \"submission\", \"related\", \"see\", \"make\", \"paper\", \n",
    "               \"brookfield\", \"designate\", \"remain\", \"reportertranscriber\", \"submit\", \"include\", \"mail\", \"fact\", \"refer\", \"take\", \"pursuant\", \"amount\", \n",
    "               \"behalf\", \"I.p..\", \"must\", \"attorney\",\n",
    "               'abovecapitoned', 'attach', 'add', 'concern', 'chamber', 'close', 'district', 'damage', 'later', \n",
    "               'relate', 'return', 'require', 'restriction', 'respect', 'ny', 'seek', 'write', 'expert', 'transcript', \n",
    "               'day', 'h.o', 'damage', 'pre', 'proceeding', 'present', 'page', 'pending', 'p.m.', 'frcp', 'g.c.', 'record', 'r.',\n",
    "              'application', 'filing', 'issue', 'assign', 'iii', 'state', 'protocol', 'loan', 'error', 'file', 'document']\n",
    "'''\n",
    "    \n",
    "#rebuild corpus\n",
    "docket_texts_output = [] #ultimate output after cleaning\n",
    "\n",
    "for lemma_pos_token in lemma_docket_text_list:\n",
    "    docket_text_output = ''\n",
    "    for sentence in lemma_pos_token:\n",
    "        sentence_output = []\n",
    "        for token in sentence:\n",
    "            #print(token[1])\n",
    "            \n",
    "            if token[2][0] not in remove_pos: #if the pos is not in the remove_pos list\n",
    "                if token[1] not in remove_word: #these are the intentionally left out words\n",
    "                    sentence_output.append(token[1]) #append the the sentence\n",
    "        docket_text_output += ' '.join(sentence_output)\n",
    "    docket_texts_output.append(docket_text_output)\n",
    "print(docket_texts_output[:10])"
   ]
  },
  {
   "cell_type": "code",
   "execution_count": 139,
   "metadata": {},
   "outputs": [
    {
     "data": {
      "text/html": [
       "<div>\n",
       "<table border=\"1\" class=\"dataframe\">\n",
       "  <thead>\n",
       "    <tr style=\"text-align: right;\">\n",
       "      <th></th>\n",
       "      <th>Original Docket Text</th>\n",
       "      <th>Organization Portion</th>\n",
       "      <th>Name Portion</th>\n",
       "      <th>Identifying Org and Name</th>\n",
       "      <th>Stripped Org and Name</th>\n",
       "      <th>Removed unnecessary POS &amp; vocab</th>\n",
       "    </tr>\n",
       "  </thead>\n",
       "  <tbody>\n",
       "    <tr>\n",
       "      <th>0</th>\n",
       "      <td>COMPLAINT against Cardiogenics Holdings, Inc. ...</td>\n",
       "      <td>Cardiogenics Holdings , Inc. LG Capital Funding</td>\n",
       "      <td>( Steinmetz Michael Bowens Priscilla</td>\n",
       "      <td>COMPLAINT against -ORG- -ORG- -ORG- -ORG- fili...</td>\n",
       "      <td>COMPLAINT against filing fee $ 400 , receipt n...</td>\n",
       "      <td>complaint fee receipt number disclosure civil ...</td>\n",
       "    </tr>\n",
       "    <tr>\n",
       "      <th>1</th>\n",
       "      <td>Case assigned to Judge Ann M Donnelly and Magi...</td>\n",
       "      <td>Individual Practices of the assigned Judges</td>\n",
       "      <td>Ann M Donnelly Vera M. Scanlon Bowens Priscilla</td>\n",
       "      <td>Case assigned to Judge -NAME- -NAME- -NAME- an...</td>\n",
       "      <td>Case assigned to Judge and Magistrate Judge . ...</td>\n",
       "      <td>please download locate website responsible cou...</td>\n",
       "    </tr>\n",
       "    <tr>\n",
       "      <th>2</th>\n",
       "      <td>Summons Issued as to Cardiogenics Holdings, In...</td>\n",
       "      <td>Cardiogenics Holdings</td>\n",
       "      <td>Bowens Priscilla</td>\n",
       "      <td>Summons Issued as to -ORG- -ORG- , Inc.. ( -NA...</td>\n",
       "      <td>Summons Issued as to , Inc.. ( , ) ( Entered :...</td>\n",
       "      <td>summons inc</td>\n",
       "    </tr>\n",
       "    <tr>\n",
       "      <th>3</th>\n",
       "      <td>NOTICE - emailed attorney regarding missing se...</td>\n",
       "      <td></td>\n",
       "      <td>Bowens Priscilla</td>\n",
       "      <td>NOTICE - emailed attorney regarding missing se...</td>\n",
       "      <td>NOTICE - emailed attorney regarding missing se...</td>\n",
       "      <td>notice email miss civil cover sheet</td>\n",
       "    </tr>\n",
       "    <tr>\n",
       "      <th>4</th>\n",
       "      <td>In accordance with Rule 73 of the Federal Rule...</td>\n",
       "      <td></td>\n",
       "      <td>Bowens Priscilla</td>\n",
       "      <td>In accordance with Rule 73 of the Federal Rule...</td>\n",
       "      <td>In accordance with Rule 73 of the Federal Rule...</td>\n",
       "      <td>accordance rule federal rule civil procedure l...</td>\n",
       "    </tr>\n",
       "  </tbody>\n",
       "</table>\n",
       "</div>"
      ],
      "text/plain": [
       "                                Original Docket Text  \\\n",
       "0  COMPLAINT against Cardiogenics Holdings, Inc. ...   \n",
       "1  Case assigned to Judge Ann M Donnelly and Magi...   \n",
       "2  Summons Issued as to Cardiogenics Holdings, In...   \n",
       "3  NOTICE - emailed attorney regarding missing se...   \n",
       "4  In accordance with Rule 73 of the Federal Rule...   \n",
       "\n",
       "                              Organization Portion  \\\n",
       "0  Cardiogenics Holdings , Inc. LG Capital Funding   \n",
       "1      Individual Practices of the assigned Judges   \n",
       "2                            Cardiogenics Holdings   \n",
       "3                                                    \n",
       "4                                                    \n",
       "\n",
       "                                      Name Portion  \\\n",
       "0             ( Steinmetz Michael Bowens Priscilla   \n",
       "1  Ann M Donnelly Vera M. Scanlon Bowens Priscilla   \n",
       "2                                 Bowens Priscilla   \n",
       "3                                 Bowens Priscilla   \n",
       "4                                 Bowens Priscilla   \n",
       "\n",
       "                            Identifying Org and Name  \\\n",
       "0  COMPLAINT against -ORG- -ORG- -ORG- -ORG- fili...   \n",
       "1  Case assigned to Judge -NAME- -NAME- -NAME- an...   \n",
       "2  Summons Issued as to -ORG- -ORG- , Inc.. ( -NA...   \n",
       "3  NOTICE - emailed attorney regarding missing se...   \n",
       "4  In accordance with Rule 73 of the Federal Rule...   \n",
       "\n",
       "                               Stripped Org and Name  \\\n",
       "0  COMPLAINT against filing fee $ 400 , receipt n...   \n",
       "1  Case assigned to Judge and Magistrate Judge . ...   \n",
       "2  Summons Issued as to , Inc.. ( , ) ( Entered :...   \n",
       "3  NOTICE - emailed attorney regarding missing se...   \n",
       "4  In accordance with Rule 73 of the Federal Rule...   \n",
       "\n",
       "                     Removed unnecessary POS & vocab  \n",
       "0  complaint fee receipt number disclosure civil ...  \n",
       "1  please download locate website responsible cou...  \n",
       "2                                        summons inc  \n",
       "3                notice email miss civil cover sheet  \n",
       "4  accordance rule federal rule civil procedure l...  "
      ]
     },
     "execution_count": 139,
     "metadata": {},
     "output_type": "execute_result"
    }
   ],
   "source": [
    "new_df['Removed unnecessary POS & vocab'] = pd.Series(docket_texts_output)\n",
    "new_df.head()"
   ]
  },
  {
   "cell_type": "markdown",
   "metadata": {},
   "source": [
    "#### Decision tree to identify keywords and topics based on Chris' feedback"
   ]
  },
  {
   "cell_type": "code",
   "execution_count": 140,
   "metadata": {},
   "outputs": [],
   "source": [
    "manual_topics_df = pd.read_csv('mannual_topics.csv')\n",
    "manual_topics_df = manual_topics_df.apply(lambda x: x.astype(str).str.lower())\n",
    "manual_topics_dict = manual_topics_df.to_dict('list')\n",
    "for topic in manual_topics_dict.keys():\n",
    "    manual_topics_dict[topic] = [keyword for keyword in manual_topics_dict[topic] if keyword != 'nan']"
   ]
  },
  {
   "cell_type": "code",
   "execution_count": 141,
   "metadata": {},
   "outputs": [],
   "source": [
    "def mannual_topic_assignment(text):\n",
    "    text = text.split()\n",
    "    #print(text)\n",
    "    output = []\n",
    "    for topic in manual_topics_dict.keys():\n",
    "        if set(text).intersection(manual_topics_dict[topic]):\n",
    "            output.append(topic)\n",
    "    #print(output)\n",
    "    return ', '.join(output)"
   ]
  },
  {
   "cell_type": "code",
   "execution_count": 142,
   "metadata": {},
   "outputs": [],
   "source": [
    "docket_texts_output_DT = []\n",
    "topics_DT = []\n",
    "\n",
    "for text in docket_texts_output:\n",
    "    topic = mannual_topic_assignment(text)\n",
    "    #print(topic)\n",
    "    if topic != '':\n",
    "        docket_texts_output_DT.append('')\n",
    "        topics_DT.append(topic)\n",
    "    else:\n",
    "        docket_texts_output_DT.append(text)\n",
    "        topics_DT.append('')"
   ]
  },
  {
   "cell_type": "code",
   "execution_count": 143,
   "metadata": {},
   "outputs": [
    {
     "name": "stdout",
     "output_type": "stream",
     "text": [
      "['Complaints, Service of Process', '', 'Service of Process', 'Notices', 'Notices, Motions']\n",
      "['', 'please download locate website responsible courtesy individual practice', '', '', '']\n"
     ]
    }
   ],
   "source": [
    "print(topics_DT[:5])\n",
    "print(docket_texts_output_DT[:5])"
   ]
  },
  {
   "cell_type": "code",
   "execution_count": 144,
   "metadata": {
    "scrolled": true
   },
   "outputs": [
    {
     "data": {
      "text/html": [
       "<div>\n",
       "<table border=\"1\" class=\"dataframe\">\n",
       "  <thead>\n",
       "    <tr style=\"text-align: right;\">\n",
       "      <th></th>\n",
       "      <th>Original Docket Text</th>\n",
       "      <th>Organization Portion</th>\n",
       "      <th>Name Portion</th>\n",
       "      <th>Identifying Org and Name</th>\n",
       "      <th>Stripped Org and Name</th>\n",
       "      <th>Removed unnecessary POS &amp; vocab</th>\n",
       "      <th>DT Topics</th>\n",
       "      <th>Removed unnecessary POS &amp; vocab DT</th>\n",
       "    </tr>\n",
       "  </thead>\n",
       "  <tbody>\n",
       "    <tr>\n",
       "      <th>0</th>\n",
       "      <td>COMPLAINT against Cardiogenics Holdings, Inc. ...</td>\n",
       "      <td>Cardiogenics Holdings , Inc. LG Capital Funding</td>\n",
       "      <td>( Steinmetz Michael Bowens Priscilla</td>\n",
       "      <td>COMPLAINT against -ORG- -ORG- -ORG- -ORG- fili...</td>\n",
       "      <td>COMPLAINT against filing fee $ 400 , receipt n...</td>\n",
       "      <td>complaint fee receipt number disclosure civil ...</td>\n",
       "      <td>Complaints, Service of Process</td>\n",
       "      <td></td>\n",
       "    </tr>\n",
       "    <tr>\n",
       "      <th>1</th>\n",
       "      <td>Case assigned to Judge Ann M Donnelly and Magi...</td>\n",
       "      <td>Individual Practices of the assigned Judges</td>\n",
       "      <td>Ann M Donnelly Vera M. Scanlon Bowens Priscilla</td>\n",
       "      <td>Case assigned to Judge -NAME- -NAME- -NAME- an...</td>\n",
       "      <td>Case assigned to Judge and Magistrate Judge . ...</td>\n",
       "      <td>please download locate website responsible cou...</td>\n",
       "      <td></td>\n",
       "      <td>please download locate website responsible cou...</td>\n",
       "    </tr>\n",
       "    <tr>\n",
       "      <th>2</th>\n",
       "      <td>Summons Issued as to Cardiogenics Holdings, In...</td>\n",
       "      <td>Cardiogenics Holdings</td>\n",
       "      <td>Bowens Priscilla</td>\n",
       "      <td>Summons Issued as to -ORG- -ORG- , Inc.. ( -NA...</td>\n",
       "      <td>Summons Issued as to , Inc.. ( , ) ( Entered :...</td>\n",
       "      <td>summons inc</td>\n",
       "      <td>Service of Process</td>\n",
       "      <td></td>\n",
       "    </tr>\n",
       "    <tr>\n",
       "      <th>3</th>\n",
       "      <td>NOTICE - emailed attorney regarding missing se...</td>\n",
       "      <td></td>\n",
       "      <td>Bowens Priscilla</td>\n",
       "      <td>NOTICE - emailed attorney regarding missing se...</td>\n",
       "      <td>NOTICE - emailed attorney regarding missing se...</td>\n",
       "      <td>notice email miss civil cover sheet</td>\n",
       "      <td>Notices</td>\n",
       "      <td></td>\n",
       "    </tr>\n",
       "    <tr>\n",
       "      <th>4</th>\n",
       "      <td>In accordance with Rule 73 of the Federal Rule...</td>\n",
       "      <td></td>\n",
       "      <td>Bowens Priscilla</td>\n",
       "      <td>In accordance with Rule 73 of the Federal Rule...</td>\n",
       "      <td>In accordance with Rule 73 of the Federal Rule...</td>\n",
       "      <td>accordance rule federal rule civil procedure l...</td>\n",
       "      <td>Notices, Motions</td>\n",
       "      <td></td>\n",
       "    </tr>\n",
       "  </tbody>\n",
       "</table>\n",
       "</div>"
      ],
      "text/plain": [
       "                                Original Docket Text  \\\n",
       "0  COMPLAINT against Cardiogenics Holdings, Inc. ...   \n",
       "1  Case assigned to Judge Ann M Donnelly and Magi...   \n",
       "2  Summons Issued as to Cardiogenics Holdings, In...   \n",
       "3  NOTICE - emailed attorney regarding missing se...   \n",
       "4  In accordance with Rule 73 of the Federal Rule...   \n",
       "\n",
       "                              Organization Portion  \\\n",
       "0  Cardiogenics Holdings , Inc. LG Capital Funding   \n",
       "1      Individual Practices of the assigned Judges   \n",
       "2                            Cardiogenics Holdings   \n",
       "3                                                    \n",
       "4                                                    \n",
       "\n",
       "                                      Name Portion  \\\n",
       "0             ( Steinmetz Michael Bowens Priscilla   \n",
       "1  Ann M Donnelly Vera M. Scanlon Bowens Priscilla   \n",
       "2                                 Bowens Priscilla   \n",
       "3                                 Bowens Priscilla   \n",
       "4                                 Bowens Priscilla   \n",
       "\n",
       "                            Identifying Org and Name  \\\n",
       "0  COMPLAINT against -ORG- -ORG- -ORG- -ORG- fili...   \n",
       "1  Case assigned to Judge -NAME- -NAME- -NAME- an...   \n",
       "2  Summons Issued as to -ORG- -ORG- , Inc.. ( -NA...   \n",
       "3  NOTICE - emailed attorney regarding missing se...   \n",
       "4  In accordance with Rule 73 of the Federal Rule...   \n",
       "\n",
       "                               Stripped Org and Name  \\\n",
       "0  COMPLAINT against filing fee $ 400 , receipt n...   \n",
       "1  Case assigned to Judge and Magistrate Judge . ...   \n",
       "2  Summons Issued as to , Inc.. ( , ) ( Entered :...   \n",
       "3  NOTICE - emailed attorney regarding missing se...   \n",
       "4  In accordance with Rule 73 of the Federal Rule...   \n",
       "\n",
       "                     Removed unnecessary POS & vocab  \\\n",
       "0  complaint fee receipt number disclosure civil ...   \n",
       "1  please download locate website responsible cou...   \n",
       "2                                        summons inc   \n",
       "3                notice email miss civil cover sheet   \n",
       "4  accordance rule federal rule civil procedure l...   \n",
       "\n",
       "                        DT Topics  \\\n",
       "0  Complaints, Service of Process   \n",
       "1                                   \n",
       "2              Service of Process   \n",
       "3                         Notices   \n",
       "4                Notices, Motions   \n",
       "\n",
       "                  Removed unnecessary POS & vocab DT  \n",
       "0                                                     \n",
       "1  please download locate website responsible cou...  \n",
       "2                                                     \n",
       "3                                                     \n",
       "4                                                     "
      ]
     },
     "execution_count": 144,
     "metadata": {},
     "output_type": "execute_result"
    }
   ],
   "source": [
    "new_df['DT Topics'] = pd.Series(topics_DT)\n",
    "new_df['Removed unnecessary POS & vocab DT'] = pd.Series(docket_texts_output_DT)\n",
    "new_df.head()"
   ]
  },
  {
   "cell_type": "code",
   "execution_count": 145,
   "metadata": {},
   "outputs": [
    {
     "name": "stdout",
     "output_type": "stream",
     "text": [
      "0\n",
      "Complaints, Service of Process\n",
      "complaint fee receipt number disclosure civil cover sheet complete yes civil cover sheet propose summons\n",
      "\n",
      "1\n",
      "\n",
      "please download locate website responsible courtesy individual practice\n",
      "please download locate website responsible courtesy individual practice\n",
      "2\n",
      "Service of Process\n",
      "summons inc\n",
      "\n",
      "3\n",
      "Notices\n",
      "notice email miss civil cover sheet\n",
      "\n",
      "4\n",
      "Notices, Motions\n",
      "accordance rule federal rule civil procedure local rule notify consent united available conduct civil trial order entry final judgment notice blank consent fill electronically wish consent also access link http www uscourts gov uscourts formsandfees ao085 pdf withhold consent without adverse substantive consequence consent unless consent\n",
      "\n",
      "5\n",
      "\n",
      "open check quality control correction\n",
      "open check quality control correction\n",
      "6\n",
      "Notices\n",
      "notice appearance\n",
      "\n",
      "7\n",
      "Complaints\n",
      "backend note complaint\n",
      "\n",
      "8\n",
      "Complaints\n",
      "ta letter complaint\n",
      "\n",
      "9\n",
      "Notices, Complaints\n",
      "c notice conversion complaint\n",
      "\n"
     ]
    }
   ],
   "source": [
    "#print some examples\n",
    "for i in range(10):\n",
    "    print(i)\n",
    "    if new_df['DT Topics'].iloc[i] != []:\n",
    "        print(new_df['DT Topics'].iloc[i])\n",
    "        print(new_df['Removed unnecessary POS & vocab'].iloc[i])\n",
    "        print(new_df['Removed unnecessary POS & vocab DT'].iloc[i])"
   ]
  },
  {
   "cell_type": "code",
   "execution_count": 182,
   "metadata": {},
   "outputs": [
    {
     "name": "stderr",
     "output_type": "stream",
     "text": [
      "c:\\users\\inves\\appdata\\local\\programs\\python\\python35\\lib\\site-packages\\gensim\\models\\phrases.py:494: UserWarning: For a faster implementation, use the gensim.models.phrases.Phraser class\n",
      "  warnings.warn(\"For a faster implementation, use the gensim.models.phrases.Phraser class\")\n"
     ]
    }
   ],
   "source": [
    "new_df['Apply Trigram Phrase Model'] = new_df['Removed unnecessary POS & vocab DT'].apply(trigram_transform)"
   ]
  },
  {
   "cell_type": "code",
   "execution_count": 171,
   "metadata": {},
   "outputs": [
    {
     "data": {
      "text/html": [
       "<div>\n",
       "<table border=\"1\" class=\"dataframe\">\n",
       "  <thead>\n",
       "    <tr style=\"text-align: right;\">\n",
       "      <th></th>\n",
       "      <th>DT Topics</th>\n",
       "      <th>Apply Trigram Phrase Model</th>\n",
       "    </tr>\n",
       "  </thead>\n",
       "  <tbody>\n",
       "    <tr>\n",
       "      <th>0</th>\n",
       "      <td>Complaints, Service of Process</td>\n",
       "      <td></td>\n",
       "    </tr>\n",
       "    <tr>\n",
       "      <th>1</th>\n",
       "      <td></td>\n",
       "      <td>please_download_locate_website responsible_cou...</td>\n",
       "    </tr>\n",
       "    <tr>\n",
       "      <th>2</th>\n",
       "      <td>Service of Process</td>\n",
       "      <td></td>\n",
       "    </tr>\n",
       "    <tr>\n",
       "      <th>3</th>\n",
       "      <td>Notices</td>\n",
       "      <td></td>\n",
       "    </tr>\n",
       "    <tr>\n",
       "      <th>4</th>\n",
       "      <td>Notices, Motions</td>\n",
       "      <td></td>\n",
       "    </tr>\n",
       "  </tbody>\n",
       "</table>\n",
       "</div>"
      ],
      "text/plain": [
       "                        DT Topics  \\\n",
       "0  Complaints, Service of Process   \n",
       "1                                   \n",
       "2              Service of Process   \n",
       "3                         Notices   \n",
       "4                Notices, Motions   \n",
       "\n",
       "                          Apply Trigram Phrase Model  \n",
       "0                                                     \n",
       "1  please_download_locate_website responsible_cou...  \n",
       "2                                                     \n",
       "3                                                     \n",
       "4                                                     "
      ]
     },
     "execution_count": 171,
     "metadata": {},
     "output_type": "execute_result"
    }
   ],
   "source": [
    "new_df[['DT Topics','Apply Trigram Phrase Model']].head()"
   ]
  },
  {
   "cell_type": "code",
   "execution_count": 177,
   "metadata": {},
   "outputs": [],
   "source": [
    "#write trigram to file\n",
    "trigram_dockets_filepath = 'docket_texts/train/DT/trigram_transformed_dockets_noorgnoname.txt'"
   ]
  },
  {
   "cell_type": "code",
   "execution_count": 189,
   "metadata": {},
   "outputs": [],
   "source": [
    "with codecs.open(trigram_dockets_filepath, 'w', encoding = 'utf_8') as f:\n",
    "    for i in range(len(new_df['Apply Trigram Phrase Model'])):\n",
    "        text = new_df['Apply Trigram Phrase Model'].iloc[i]\n",
    "        if text != '':\n",
    "            #print(text)\n",
    "            f.write(text + '\\n')"
   ]
  },
  {
   "cell_type": "code",
   "execution_count": 190,
   "metadata": {},
   "outputs": [],
   "source": [
    "trigram_dictionary_filepath = 'docket_texts/train/DT/trigram_dict_noorgnoname.dict'"
   ]
  },
  {
   "cell_type": "code",
   "execution_count": 191,
   "metadata": {},
   "outputs": [
    {
     "name": "stdout",
     "output_type": "stream",
     "text": [
      "Wall time: 13 ms\n"
     ]
    }
   ],
   "source": [
    "%%time\n",
    "\n",
    "#some dictionary hyperparameters:\n",
    "no_below = 10 #reference is 10\n",
    "no_above = 0.4 #reference is 0.4\n",
    "\n",
    "trigram_reviews = LineSentence(trigram_dockets_filepath)\n",
    "\n",
    "# learn the dictionary by iterating over all of the reviews\n",
    "trigram_dictionary = Dictionary(trigram_reviews)\n",
    "\n",
    "# filter tokens that are very rare otrigram_reviewsr too common from\n",
    "# the dictionary (filter_extremes) and reassign integer ids (compactify)\n",
    "trigram_dictionary.filter_extremes(no_below = no_below, no_above = no_above) #this step is questionable. May need to change the parameters\n",
    "trigram_dictionary.compactify()\n",
    "\n",
    "trigram_dictionary.save(trigram_dictionary_filepath)\n",
    "    \n",
    "# load the finished dictionary from disk\n",
    "#trigram_dictionary = Dictionary.load(trigram_dictionary_filepath)"
   ]
  },
  {
   "cell_type": "code",
   "execution_count": 192,
   "metadata": {},
   "outputs": [],
   "source": [
    "trigram_bow_filepath = 'docket_texts/train/DT/trigram_bow_corpus_noorgnoname.mm'"
   ]
  },
  {
   "cell_type": "code",
   "execution_count": 193,
   "metadata": {},
   "outputs": [],
   "source": [
    "def trigram_bow_generator(filepath):\n",
    "    \"\"\"\n",
    "    generator function to read reviews from a file\n",
    "    and yield a bag-of-words representation\n",
    "    \"\"\"\n",
    "    \n",
    "    for review in LineSentence(filepath):\n",
    "        #print(review)\n",
    "        #print(trigram_dictionary.doc2bow(review))\n",
    "        yield trigram_dictionary.doc2bow(review)"
   ]
  },
  {
   "cell_type": "code",
   "execution_count": 194,
   "metadata": {},
   "outputs": [
    {
     "name": "stdout",
     "output_type": "stream",
     "text": [
      "MmCorpus(552 documents, 32 features, 832 non-zero entries)\n",
      "Wall time: 12 ms\n"
     ]
    }
   ],
   "source": [
    "%%time\n",
    "\n",
    "# generate bag-of-words representations for\n",
    "# all reviews and save them as a matrix\n",
    "MmCorpus.serialize(trigram_bow_filepath, trigram_bow_generator(trigram_sentences_filepath))\n",
    "    \n",
    "# load the finished bag-of-words corpus from disk\n",
    "trigram_bow_corpus = MmCorpus(trigram_bow_filepath)\n",
    "print(trigram_bow_corpus)"
   ]
  },
  {
   "cell_type": "code",
   "execution_count": 195,
   "metadata": {},
   "outputs": [
    {
     "data": {
      "text/html": [
       "<div>\n",
       "<table border=\"1\" class=\"dataframe\">\n",
       "  <thead>\n",
       "    <tr style=\"text-align: right;\">\n",
       "      <th></th>\n",
       "      <th>Original Docket Text</th>\n",
       "      <th>Organization Portion</th>\n",
       "      <th>Name Portion</th>\n",
       "      <th>Identifying Org and Name</th>\n",
       "      <th>Stripped Org and Name</th>\n",
       "      <th>Removed unnecessary POS &amp; vocab</th>\n",
       "      <th>DT Topics</th>\n",
       "      <th>Removed unnecessary POS &amp; vocab DT</th>\n",
       "      <th>Apply Trigram Phrase Model</th>\n",
       "    </tr>\n",
       "  </thead>\n",
       "  <tbody>\n",
       "    <tr>\n",
       "      <th>0</th>\n",
       "      <td>COMPLAINT against Cardiogenics Holdings, Inc. ...</td>\n",
       "      <td>Cardiogenics Holdings , Inc. LG Capital Funding</td>\n",
       "      <td>( Steinmetz Michael Bowens Priscilla</td>\n",
       "      <td>COMPLAINT against -ORG- -ORG- -ORG- -ORG- fili...</td>\n",
       "      <td>COMPLAINT against filing fee $ 400 , receipt n...</td>\n",
       "      <td>complaint fee receipt number disclosure civil ...</td>\n",
       "      <td>Complaints, Service of Process</td>\n",
       "      <td></td>\n",
       "      <td></td>\n",
       "    </tr>\n",
       "    <tr>\n",
       "      <th>1</th>\n",
       "      <td>Case assigned to Judge Ann M Donnelly and Magi...</td>\n",
       "      <td>Individual Practices of the assigned Judges</td>\n",
       "      <td>Ann M Donnelly Vera M. Scanlon Bowens Priscilla</td>\n",
       "      <td>Case assigned to Judge -NAME- -NAME- -NAME- an...</td>\n",
       "      <td>Case assigned to Judge and Magistrate Judge . ...</td>\n",
       "      <td>please download locate website responsible cou...</td>\n",
       "      <td></td>\n",
       "      <td>please download locate website responsible cou...</td>\n",
       "      <td>please_download_locate_website responsible_cou...</td>\n",
       "    </tr>\n",
       "    <tr>\n",
       "      <th>2</th>\n",
       "      <td>Summons Issued as to Cardiogenics Holdings, In...</td>\n",
       "      <td>Cardiogenics Holdings</td>\n",
       "      <td>Bowens Priscilla</td>\n",
       "      <td>Summons Issued as to -ORG- -ORG- , Inc.. ( -NA...</td>\n",
       "      <td>Summons Issued as to , Inc.. ( , ) ( Entered :...</td>\n",
       "      <td>summons inc</td>\n",
       "      <td>Service of Process</td>\n",
       "      <td></td>\n",
       "      <td></td>\n",
       "    </tr>\n",
       "    <tr>\n",
       "      <th>3</th>\n",
       "      <td>NOTICE - emailed attorney regarding missing se...</td>\n",
       "      <td></td>\n",
       "      <td>Bowens Priscilla</td>\n",
       "      <td>NOTICE - emailed attorney regarding missing se...</td>\n",
       "      <td>NOTICE - emailed attorney regarding missing se...</td>\n",
       "      <td>notice email miss civil cover sheet</td>\n",
       "      <td>Notices</td>\n",
       "      <td></td>\n",
       "      <td></td>\n",
       "    </tr>\n",
       "    <tr>\n",
       "      <th>4</th>\n",
       "      <td>In accordance with Rule 73 of the Federal Rule...</td>\n",
       "      <td></td>\n",
       "      <td>Bowens Priscilla</td>\n",
       "      <td>In accordance with Rule 73 of the Federal Rule...</td>\n",
       "      <td>In accordance with Rule 73 of the Federal Rule...</td>\n",
       "      <td>accordance rule federal rule civil procedure l...</td>\n",
       "      <td>Notices, Motions</td>\n",
       "      <td></td>\n",
       "      <td></td>\n",
       "    </tr>\n",
       "  </tbody>\n",
       "</table>\n",
       "</div>"
      ],
      "text/plain": [
       "                                Original Docket Text  \\\n",
       "0  COMPLAINT against Cardiogenics Holdings, Inc. ...   \n",
       "1  Case assigned to Judge Ann M Donnelly and Magi...   \n",
       "2  Summons Issued as to Cardiogenics Holdings, In...   \n",
       "3  NOTICE - emailed attorney regarding missing se...   \n",
       "4  In accordance with Rule 73 of the Federal Rule...   \n",
       "\n",
       "                              Organization Portion  \\\n",
       "0  Cardiogenics Holdings , Inc. LG Capital Funding   \n",
       "1      Individual Practices of the assigned Judges   \n",
       "2                            Cardiogenics Holdings   \n",
       "3                                                    \n",
       "4                                                    \n",
       "\n",
       "                                      Name Portion  \\\n",
       "0             ( Steinmetz Michael Bowens Priscilla   \n",
       "1  Ann M Donnelly Vera M. Scanlon Bowens Priscilla   \n",
       "2                                 Bowens Priscilla   \n",
       "3                                 Bowens Priscilla   \n",
       "4                                 Bowens Priscilla   \n",
       "\n",
       "                            Identifying Org and Name  \\\n",
       "0  COMPLAINT against -ORG- -ORG- -ORG- -ORG- fili...   \n",
       "1  Case assigned to Judge -NAME- -NAME- -NAME- an...   \n",
       "2  Summons Issued as to -ORG- -ORG- , Inc.. ( -NA...   \n",
       "3  NOTICE - emailed attorney regarding missing se...   \n",
       "4  In accordance with Rule 73 of the Federal Rule...   \n",
       "\n",
       "                               Stripped Org and Name  \\\n",
       "0  COMPLAINT against filing fee $ 400 , receipt n...   \n",
       "1  Case assigned to Judge and Magistrate Judge . ...   \n",
       "2  Summons Issued as to , Inc.. ( , ) ( Entered :...   \n",
       "3  NOTICE - emailed attorney regarding missing se...   \n",
       "4  In accordance with Rule 73 of the Federal Rule...   \n",
       "\n",
       "                     Removed unnecessary POS & vocab  \\\n",
       "0  complaint fee receipt number disclosure civil ...   \n",
       "1  please download locate website responsible cou...   \n",
       "2                                        summons inc   \n",
       "3                notice email miss civil cover sheet   \n",
       "4  accordance rule federal rule civil procedure l...   \n",
       "\n",
       "                        DT Topics  \\\n",
       "0  Complaints, Service of Process   \n",
       "1                                   \n",
       "2              Service of Process   \n",
       "3                         Notices   \n",
       "4                Notices, Motions   \n",
       "\n",
       "                  Removed unnecessary POS & vocab DT  \\\n",
       "0                                                      \n",
       "1  please download locate website responsible cou...   \n",
       "2                                                      \n",
       "3                                                      \n",
       "4                                                      \n",
       "\n",
       "                          Apply Trigram Phrase Model  \n",
       "0                                                     \n",
       "1  please_download_locate_website responsible_cou...  \n",
       "2                                                     \n",
       "3                                                     \n",
       "4                                                     "
      ]
     },
     "execution_count": 195,
     "metadata": {},
     "output_type": "execute_result"
    }
   ],
   "source": [
    "new_df.head()"
   ]
  },
  {
   "cell_type": "code",
   "execution_count": 196,
   "metadata": {},
   "outputs": [
    {
     "data": {
      "text/plain": [
       "Index(['Original Docket Text', 'Organization Portion', 'Name Portion',\n",
       "       'Identifying Org and Name', 'Stripped Org and Name',\n",
       "       'Removed unnecessary POS & vocab', 'DT Topics',\n",
       "       'Removed unnecessary POS & vocab DT', 'Apply Trigram Phrase Model'],\n",
       "      dtype='object')"
      ]
     },
     "execution_count": 196,
     "metadata": {},
     "output_type": "execute_result"
    }
   ],
   "source": [
    "new_df.columns"
   ]
  },
  {
   "cell_type": "code",
   "execution_count": 197,
   "metadata": {},
   "outputs": [],
   "source": [
    "new_df[['Original Docket Text', 'Removed unnecessary POS & vocab', \n",
    "        'Removed unnecessary POS & vocab DT', 'DT Topics',\n",
    "        'Apply Trigram Phrase Model']].to_csv('NEW_NLP_output.csv', index = False)"
   ]
  },
  {
   "cell_type": "code",
   "execution_count": 198,
   "metadata": {},
   "outputs": [
    {
     "data": {
      "text/plain": [
       "(3203, 9)"
      ]
     },
     "execution_count": 198,
     "metadata": {},
     "output_type": "execute_result"
    }
   ],
   "source": [
    "new_df.shape"
   ]
  },
  {
   "cell_type": "code",
   "execution_count": 199,
   "metadata": {},
   "outputs": [
    {
     "data": {
      "text/plain": [
       "3203"
      ]
     },
     "execution_count": 199,
     "metadata": {},
     "output_type": "execute_result"
    }
   ],
   "source": [
    "new_df['Original Docket Text'].nunique()"
   ]
  },
  {
   "cell_type": "markdown",
   "metadata": {},
   "source": [
    "### Stop here if you don't need to compare with previous NLP results"
   ]
  },
  {
   "cell_type": "code",
   "execution_count": 76,
   "metadata": {},
   "outputs": [
    {
     "data": {
      "text/html": [
       "<div>\n",
       "<table border=\"1\" class=\"dataframe\">\n",
       "  <thead>\n",
       "    <tr style=\"text-align: right;\">\n",
       "      <th></th>\n",
       "      <th>Original Docket Text</th>\n",
       "      <th>Removed unnecessary POS &amp; vocab</th>\n",
       "      <th>Removed unnecessary POS &amp; vocab DT</th>\n",
       "      <th>Apply Trigram Phrase Model</th>\n",
       "      <th>New Topocs</th>\n",
       "      <th>Action [Y/N]</th>\n",
       "      <th>If Y</th>\n",
       "    </tr>\n",
       "  </thead>\n",
       "  <tbody>\n",
       "    <tr>\n",
       "      <th>0</th>\n",
       "      <td>(REDACTED) RULE 56.1 STATEMENT. Document filed...</td>\n",
       "      <td>['rule .', 'document file .']</td>\n",
       "      <td>['rule .', 'document file .']</td>\n",
       "      <td>['rule .', 'document file .']</td>\n",
       "      <td>System Msg</td>\n",
       "      <td>N</td>\n",
       "      <td>NaN</td>\n",
       "    </tr>\n",
       "    <tr>\n",
       "      <th>1</th>\n",
       "      <td>***DELETED DOCUMENT. Deleted document number 1...</td>\n",
       "      <td>['delete document .', 'delete document number ...</td>\n",
       "      <td>['delete document .', 'delete document number ...</td>\n",
       "      <td>['delete document .', 'delete document number ...</td>\n",
       "      <td>System Msg</td>\n",
       "      <td>N</td>\n",
       "      <td>NaN</td>\n",
       "    </tr>\n",
       "    <tr>\n",
       "      <th>2</th>\n",
       "      <td>***DELETED DOCUMENT. Deleted document number 2...</td>\n",
       "      <td>['delete document .', 'delete document number ...</td>\n",
       "      <td>['delete document .', 'delete document number ...</td>\n",
       "      <td>['delete document .', 'delete document number ...</td>\n",
       "      <td>System Msg</td>\n",
       "      <td>N</td>\n",
       "      <td>NaN</td>\n",
       "    </tr>\n",
       "    <tr>\n",
       "      <th>3</th>\n",
       "      <td>***NOTE TO ATTORNEY OF NON-ECF CASE ERROR. Not...</td>\n",
       "      <td>['note nonecf error .', 'note manually refile ...</td>\n",
       "      <td>['note nonecf error .', 'note manually refile ...</td>\n",
       "      <td>['note nonecf error .', 'note manually refile ...</td>\n",
       "      <td>System Msg</td>\n",
       "      <td>N</td>\n",
       "      <td>NaN</td>\n",
       "    </tr>\n",
       "    <tr>\n",
       "      <th>4</th>\n",
       "      <td>***NOTE TO ATTORNEY TO RE-FILE DOCUMENT - NON-...</td>\n",
       "      <td>['note refile document nonecf error .', 'note ...</td>\n",
       "      <td>['note refile document nonecf error .', 'note ...</td>\n",
       "      <td>['note refile document nonecf error .', 'note ...</td>\n",
       "      <td>System Msg</td>\n",
       "      <td>N</td>\n",
       "      <td>NaN</td>\n",
       "    </tr>\n",
       "  </tbody>\n",
       "</table>\n",
       "</div>"
      ],
      "text/plain": [
       "                                Original Docket Text  \\\n",
       "0  (REDACTED) RULE 56.1 STATEMENT. Document filed...   \n",
       "1  ***DELETED DOCUMENT. Deleted document number 1...   \n",
       "2  ***DELETED DOCUMENT. Deleted document number 2...   \n",
       "3  ***NOTE TO ATTORNEY OF NON-ECF CASE ERROR. Not...   \n",
       "4  ***NOTE TO ATTORNEY TO RE-FILE DOCUMENT - NON-...   \n",
       "\n",
       "                     Removed unnecessary POS & vocab  \\\n",
       "0                      ['rule .', 'document file .']   \n",
       "1  ['delete document .', 'delete document number ...   \n",
       "2  ['delete document .', 'delete document number ...   \n",
       "3  ['note nonecf error .', 'note manually refile ...   \n",
       "4  ['note refile document nonecf error .', 'note ...   \n",
       "\n",
       "                  Removed unnecessary POS & vocab DT  \\\n",
       "0                      ['rule .', 'document file .']   \n",
       "1  ['delete document .', 'delete document number ...   \n",
       "2  ['delete document .', 'delete document number ...   \n",
       "3  ['note nonecf error .', 'note manually refile ...   \n",
       "4  ['note refile document nonecf error .', 'note ...   \n",
       "\n",
       "                          Apply Trigram Phrase Model  New Topocs Action [Y/N]  \\\n",
       "0                      ['rule .', 'document file .']  System Msg            N   \n",
       "1  ['delete document .', 'delete document number ...  System Msg            N   \n",
       "2  ['delete document .', 'delete document number ...  System Msg            N   \n",
       "3  ['note nonecf error .', 'note manually refile ...  System Msg            N   \n",
       "4  ['note refile document nonecf error .', 'note ...  System Msg            N   \n",
       "\n",
       "  If Y  \n",
       "0  NaN  \n",
       "1  NaN  \n",
       "2  NaN  \n",
       "3  NaN  \n",
       "4  NaN  "
      ]
     },
     "execution_count": 76,
     "metadata": {},
     "output_type": "execute_result"
    }
   ],
   "source": [
    "noDT_data = pd.read_excel(r'E:\\WinUser\\Documents\\Python Code\\AI Paralegal\\docket_texts\\Train\\DT\\New Topics - Classification -5.27.2018.xlsx')\n",
    "noDT_data.drop('DT Topics', axis = 1, inplace = True)\n",
    "noDT_data.head()"
   ]
  },
  {
   "cell_type": "code",
   "execution_count": 105,
   "metadata": {},
   "outputs": [
    {
     "name": "stdout",
     "output_type": "stream",
     "text": [
      "old data shape: (624, 7)\n",
      "old data no duplicates shape: (602, 7)\n",
      "new data shape: (3244, 9)\n",
      "new data no duplicates shape: (3203, 9)\n",
      "new data no DT: 596\n"
     ]
    }
   ],
   "source": [
    "print('old data shape: {}'.format(noDT_data.shape))\n",
    "print('old data no duplicates shape: {}'.format(noDT_data.drop_duplicates().shape))\n",
    "print('new data shape: {}'.format(new_df.shape))\n",
    "print('new data no duplicates shape: {}'.format(new_df.drop_duplicates().shape))\n",
    "print('new data no DT: {}'.format((new_df.drop_duplicates()['DT Topics'] == '').sum()))"
   ]
  },
  {
   "cell_type": "code",
   "execution_count": 111,
   "metadata": {},
   "outputs": [
    {
     "data": {
      "text/plain": [
       "(603, 15)"
      ]
     },
     "execution_count": 111,
     "metadata": {},
     "output_type": "execute_result"
    }
   ],
   "source": [
    "combined_df = new_df[new_df['DT Topics'] == ''].drop_duplicates().merge(noDT_data.drop_duplicates(), how = 'outer', on = 'Original Docket Text')\n",
    "combined_df.shape"
   ]
  },
  {
   "cell_type": "code",
   "execution_count": 112,
   "metadata": {},
   "outputs": [],
   "source": [
    "combined_df.to_csv('old_v_new_study.csv', index = False)"
   ]
  },
  {
   "cell_type": "code",
   "execution_count": 101,
   "metadata": {},
   "outputs": [
    {
     "data": {
      "text/plain": [
       "Index(['Original Docket Text', 'Removed unnecessary POS & vocab',\n",
       "       'Removed unnecessary POS & vocab DT', 'Apply Trigram Phrase Model',\n",
       "       'New Topocs', 'Action [Y/N]', 'If Y'],\n",
       "      dtype='object')"
      ]
     },
     "execution_count": 101,
     "metadata": {},
     "output_type": "execute_result"
    }
   ],
   "source": [
    "noDT_data.columns"
   ]
  },
  {
   "cell_type": "code",
   "execution_count": 96,
   "metadata": {},
   "outputs": [
    {
     "data": {
      "text/plain": [
       "Index(['Original Docket Text', 'Organization Portion', 'Name Portion',\n",
       "       'Identifying Org and Name', 'Stripped Org and Name',\n",
       "       'Removed unnecessary POS & vocab_x', 'DT Topics',\n",
       "       'Removed unnecessary POS & vocab DT_x', 'Apply Trigram Phrase Model_x',\n",
       "       'Removed unnecessary POS & vocab_y',\n",
       "       'Removed unnecessary POS & vocab DT_y', 'Apply Trigram Phrase Model_y',\n",
       "       'New Topocs', 'Action [Y/N]', 'If Y'],\n",
       "      dtype='object')"
      ]
     },
     "execution_count": 96,
     "metadata": {},
     "output_type": "execute_result"
    }
   ],
   "source": [
    "combined_df.columns"
   ]
  },
  {
   "cell_type": "code",
   "execution_count": 99,
   "metadata": {},
   "outputs": [
    {
     "data": {
      "text/html": [
       "<div>\n",
       "<table border=\"1\" class=\"dataframe\">\n",
       "  <thead>\n",
       "    <tr style=\"text-align: right;\">\n",
       "      <th></th>\n",
       "      <th>Original Docket Text</th>\n",
       "      <th>Organization Portion</th>\n",
       "      <th>Name Portion</th>\n",
       "      <th>Identifying Org and Name</th>\n",
       "      <th>Stripped Org and Name</th>\n",
       "      <th>Removed unnecessary POS &amp; vocab_x</th>\n",
       "      <th>DT Topics</th>\n",
       "      <th>Removed unnecessary POS &amp; vocab DT_x</th>\n",
       "      <th>Apply Trigram Phrase Model_x</th>\n",
       "      <th>Removed unnecessary POS &amp; vocab_y</th>\n",
       "      <th>Removed unnecessary POS &amp; vocab DT_y</th>\n",
       "      <th>Apply Trigram Phrase Model_y</th>\n",
       "      <th>New Topocs</th>\n",
       "      <th>Action [Y/N]</th>\n",
       "      <th>If Y</th>\n",
       "    </tr>\n",
       "  </thead>\n",
       "  <tbody>\n",
       "  </tbody>\n",
       "</table>\n",
       "</div>"
      ],
      "text/plain": [
       "Empty DataFrame\n",
       "Columns: [Original Docket Text, Organization Portion, Name Portion, Identifying Org and Name, Stripped Org and Name, Removed unnecessary POS & vocab_x, DT Topics, Removed unnecessary POS & vocab DT_x, Apply Trigram Phrase Model_x, Removed unnecessary POS & vocab_y, Removed unnecessary POS & vocab DT_y, Apply Trigram Phrase Model_y, New Topocs, Action [Y/N], If Y]\n",
       "Index: []"
      ]
     },
     "execution_count": 99,
     "metadata": {},
     "output_type": "execute_result"
    }
   ],
   "source": [
    "combined_df[(combined_df['DT Topics'] != '') & (combined_df['Action [Y/N]'] == '')].head()"
   ]
  },
  {
   "cell_type": "code",
   "execution_count": null,
   "metadata": {},
   "outputs": [],
   "source": [
    ".to_csv('old_v_new_study.csv', index = False)"
   ]
  },
  {
   "cell_type": "code",
   "execution_count": 113,
   "metadata": {},
   "outputs": [
    {
     "data": {
      "text/html": [
       "<div>\n",
       "<table border=\"1\" class=\"dataframe\">\n",
       "  <thead>\n",
       "    <tr style=\"text-align: right;\">\n",
       "      <th></th>\n",
       "      <th>Original Docket Text</th>\n",
       "      <th>Removed unnecessary POS &amp; vocab</th>\n",
       "      <th>Removed unnecessary POS &amp; vocab DT</th>\n",
       "      <th>Apply Trigram Phrase Model</th>\n",
       "      <th>New Topocs</th>\n",
       "      <th>Action [Y/N]</th>\n",
       "      <th>If Y</th>\n",
       "    </tr>\n",
       "  </thead>\n",
       "  <tbody>\n",
       "    <tr>\n",
       "      <th>242</th>\n",
       "      <td>MEMO ENDORSEMENT on re: (37 in 1:04-cv-07900-L...</td>\n",
       "      <td>['memo endorsement motion entry order hereto a...</td>\n",
       "      <td>['memo endorsement motion entry order hereto a...</td>\n",
       "      <td>['memo_endorsement motion entry order hereto a...</td>\n",
       "      <td>NaN</td>\n",
       "      <td>NaN</td>\n",
       "      <td>NaN</td>\n",
       "    </tr>\n",
       "  </tbody>\n",
       "</table>\n",
       "</div>"
      ],
      "text/plain": [
       "                                  Original Docket Text  \\\n",
       "242  MEMO ENDORSEMENT on re: (37 in 1:04-cv-07900-L...   \n",
       "\n",
       "                       Removed unnecessary POS & vocab  \\\n",
       "242  ['memo endorsement motion entry order hereto a...   \n",
       "\n",
       "                    Removed unnecessary POS & vocab DT  \\\n",
       "242  ['memo endorsement motion entry order hereto a...   \n",
       "\n",
       "                            Apply Trigram Phrase Model New Topocs  \\\n",
       "242  ['memo_endorsement motion entry order hereto a...        NaN   \n",
       "\n",
       "    Action [Y/N] If Y  \n",
       "242          NaN  NaN  "
      ]
     },
     "execution_count": 113,
     "metadata": {},
     "output_type": "execute_result"
    }
   ],
   "source": [
    "text1 = \"MEMO ENDORSEMENT on re: (37 in 1:04-cv-07900-LAK, (72 in 1:03-cv-02387-LAK) MOTION for an entry of an order in the form attached hereto as Exhibit 1 attached to this motion. ENDORSED: Granted. So Ordered (Signed by Judge Lewis A. Kaplan on 7/29/2008) Filed In Associated Cases: 1:03-cv-02387-LAK, 1:04-cv-07900-LAK(jfe) (Entered: 07/29/2008)\"\n",
    "noDT_data[noDT_data['Original Docket Text'] == text1]\n",
    "#Chris' input: 1) Y, 2) Court's Order, 3) Triage"
   ]
  },
  {
   "cell_type": "code",
   "execution_count": 114,
   "metadata": {},
   "outputs": [
    {
     "data": {
      "text/html": [
       "<div>\n",
       "<table border=\"1\" class=\"dataframe\">\n",
       "  <thead>\n",
       "    <tr style=\"text-align: right;\">\n",
       "      <th></th>\n",
       "      <th>Original Docket Text</th>\n",
       "      <th>Organization Portion</th>\n",
       "      <th>Name Portion</th>\n",
       "      <th>Identifying Org and Name</th>\n",
       "      <th>Stripped Org and Name</th>\n",
       "      <th>Removed unnecessary POS &amp; vocab</th>\n",
       "      <th>DT Topics</th>\n",
       "      <th>Removed unnecessary POS &amp; vocab DT</th>\n",
       "      <th>Apply Trigram Phrase Model</th>\n",
       "    </tr>\n",
       "  </thead>\n",
       "  <tbody>\n",
       "    <tr>\n",
       "      <th>679</th>\n",
       "      <td>MEMO ENDORSEMENT on re: (37 in 1:04-cv-07900-L...</td>\n",
       "      <td></td>\n",
       "      <td>Lewis A. Kaplan</td>\n",
       "      <td>MEMO ENDORSEMENT on re : ( 37 in 1:04-cv-07900...</td>\n",
       "      <td>MEMO ENDORSEMENT on re : ( 37 in 1:04-cv-07900...</td>\n",
       "      <td>memo endorsement motion entry order hereto att...</td>\n",
       "      <td></td>\n",
       "      <td>memo endorsement motion entry order hereto att...</td>\n",
       "      <td>memo_endorsement motion entry order hereto att...</td>\n",
       "    </tr>\n",
       "  </tbody>\n",
       "</table>\n",
       "</div>"
      ],
      "text/plain": [
       "                                  Original Docket Text Organization Portion  \\\n",
       "679  MEMO ENDORSEMENT on re: (37 in 1:04-cv-07900-L...                        \n",
       "\n",
       "        Name Portion                           Identifying Org and Name  \\\n",
       "679  Lewis A. Kaplan  MEMO ENDORSEMENT on re : ( 37 in 1:04-cv-07900...   \n",
       "\n",
       "                                 Stripped Org and Name  \\\n",
       "679  MEMO ENDORSEMENT on re : ( 37 in 1:04-cv-07900...   \n",
       "\n",
       "                       Removed unnecessary POS & vocab DT Topics  \\\n",
       "679  memo endorsement motion entry order hereto att...             \n",
       "\n",
       "                    Removed unnecessary POS & vocab DT  \\\n",
       "679  memo endorsement motion entry order hereto att...   \n",
       "\n",
       "                            Apply Trigram Phrase Model  \n",
       "679  memo_endorsement motion entry order hereto att...  "
      ]
     },
     "execution_count": 114,
     "metadata": {},
     "output_type": "execute_result"
    }
   ],
   "source": [
    "new_df[new_df['Original Docket Text'] == text1]\n",
    "#Chris' input: 1) Y, 2) Court's Order, 3) Triage"
   ]
  },
  {
   "cell_type": "code",
   "execution_count": 115,
   "metadata": {},
   "outputs": [
    {
     "data": {
      "text/html": [
       "<div>\n",
       "<table border=\"1\" class=\"dataframe\">\n",
       "  <thead>\n",
       "    <tr style=\"text-align: right;\">\n",
       "      <th></th>\n",
       "      <th>Original Docket Text</th>\n",
       "      <th>Removed unnecessary POS &amp; vocab</th>\n",
       "      <th>Removed unnecessary POS &amp; vocab DT</th>\n",
       "      <th>Apply Trigram Phrase Model</th>\n",
       "      <th>New Topocs</th>\n",
       "      <th>Action [Y/N]</th>\n",
       "      <th>If Y</th>\n",
       "    </tr>\n",
       "  </thead>\n",
       "  <tbody>\n",
       "  </tbody>\n",
       "</table>\n",
       "</div>"
      ],
      "text/plain": [
       "Empty DataFrame\n",
       "Columns: [Original Docket Text, Removed unnecessary POS & vocab, Removed unnecessary POS & vocab DT, Apply Trigram Phrase Model, New Topocs, Action [Y/N], If Y]\n",
       "Index: []"
      ]
     },
     "execution_count": 115,
     "metadata": {},
     "output_type": "execute_result"
    }
   ],
   "source": [
    "text2 = \"DECISION and ORDER: Pursuant to 28 U.S.C. § 1404, this Court hereby transfers this matter to the United States District Court for the Southern District of New York. Case transferred to District of Southern District of New York. Original file, certified copy of transfer order, and docket sheet sent. ALL FILINGS ARE TO BE MADE IN THE TRANSFER COURT, DO NOT DOCKET TO THIS CASE.. So Ordered by Judge William F. Kuntz, II on 4/17/2017. (Tavarez, Jennifer) [Transferred from New York Eastern on 4/28/2017.] (Entered: 04/19/2017)\"\n",
    "noDT_data[noDT_data['Original Docket Text'] == text1]\n",
    "#Chris' input: 1) Y, 2) Court's Order, 3) Triage"
   ]
  },
  {
   "cell_type": "code",
   "execution_count": 116,
   "metadata": {},
   "outputs": [
    {
     "data": {
      "text/html": [
       "<div>\n",
       "<table border=\"1\" class=\"dataframe\">\n",
       "  <thead>\n",
       "    <tr style=\"text-align: right;\">\n",
       "      <th></th>\n",
       "      <th>Original Docket Text</th>\n",
       "      <th>Organization Portion</th>\n",
       "      <th>Name Portion</th>\n",
       "      <th>Identifying Org and Name</th>\n",
       "      <th>Stripped Org and Name</th>\n",
       "      <th>Removed unnecessary POS &amp; vocab</th>\n",
       "      <th>DT Topics</th>\n",
       "      <th>Removed unnecessary POS &amp; vocab DT</th>\n",
       "      <th>Apply Trigram Phrase Model</th>\n",
       "    </tr>\n",
       "  </thead>\n",
       "  <tbody>\n",
       "    <tr>\n",
       "      <th>733</th>\n",
       "      <td>DECISION and ORDER: Pursuant to 28 U.S.C. § 14...</td>\n",
       "      <td>United States District Court for the Southern ...</td>\n",
       "      <td>William F. Kuntz Tavarez Jennifer</td>\n",
       "      <td>DECISION and ORDER : Pursuant to 28 U.S.C . § ...</td>\n",
       "      <td>DECISION and ORDER : Pursuant to 28 U.S.C . § ...</td>\n",
       "      <td>decision order u c § transfer transfer origina...</td>\n",
       "      <td></td>\n",
       "      <td>decision order u c § transfer transfer origina...</td>\n",
       "      <td>decision order u_c § transfer transfer origina...</td>\n",
       "    </tr>\n",
       "  </tbody>\n",
       "</table>\n",
       "</div>"
      ],
      "text/plain": [
       "                                  Original Docket Text  \\\n",
       "733  DECISION and ORDER: Pursuant to 28 U.S.C. § 14...   \n",
       "\n",
       "                                  Organization Portion  \\\n",
       "733  United States District Court for the Southern ...   \n",
       "\n",
       "                          Name Portion  \\\n",
       "733  William F. Kuntz Tavarez Jennifer   \n",
       "\n",
       "                              Identifying Org and Name  \\\n",
       "733  DECISION and ORDER : Pursuant to 28 U.S.C . § ...   \n",
       "\n",
       "                                 Stripped Org and Name  \\\n",
       "733  DECISION and ORDER : Pursuant to 28 U.S.C . § ...   \n",
       "\n",
       "                       Removed unnecessary POS & vocab DT Topics  \\\n",
       "733  decision order u c § transfer transfer origina...             \n",
       "\n",
       "                    Removed unnecessary POS & vocab DT  \\\n",
       "733  decision order u c § transfer transfer origina...   \n",
       "\n",
       "                            Apply Trigram Phrase Model  \n",
       "733  decision order u_c § transfer transfer origina...  "
      ]
     },
     "execution_count": 116,
     "metadata": {},
     "output_type": "execute_result"
    }
   ],
   "source": [
    "new_df[new_df['Original Docket Text'] == text2]\n",
    "#Chris' input: 1) Y, 2) Court's Order, 3) Triage"
   ]
  },
  {
   "cell_type": "code",
   "execution_count": 118,
   "metadata": {},
   "outputs": [
    {
     "data": {
      "text/html": [
       "<div>\n",
       "<table border=\"1\" class=\"dataframe\">\n",
       "  <thead>\n",
       "    <tr style=\"text-align: right;\">\n",
       "      <th></th>\n",
       "      <th>Original Docket Text</th>\n",
       "      <th>Removed unnecessary POS &amp; vocab</th>\n",
       "      <th>Removed unnecessary POS &amp; vocab DT</th>\n",
       "      <th>Apply Trigram Phrase Model</th>\n",
       "      <th>New Topocs</th>\n",
       "      <th>Action [Y/N]</th>\n",
       "      <th>If Y</th>\n",
       "    </tr>\n",
       "  </thead>\n",
       "  <tbody>\n",
       "    <tr>\n",
       "      <th>6</th>\n",
       "      <td>***NOTE TO ATTORNEY TO RE-FILE DOCUMENT - NON-...</td>\n",
       "      <td>['note refile document nonecf document error ....</td>\n",
       "      <td>['note refile document nonecf document error ....</td>\n",
       "      <td>['note refile document nonecf document error ....</td>\n",
       "      <td>System Msg</td>\n",
       "      <td>NaN</td>\n",
       "      <td>NaN</td>\n",
       "    </tr>\n",
       "  </tbody>\n",
       "</table>\n",
       "</div>"
      ],
      "text/plain": [
       "                                Original Docket Text  \\\n",
       "6  ***NOTE TO ATTORNEY TO RE-FILE DOCUMENT - NON-...   \n",
       "\n",
       "                     Removed unnecessary POS & vocab  \\\n",
       "6  ['note refile document nonecf document error ....   \n",
       "\n",
       "                  Removed unnecessary POS & vocab DT  \\\n",
       "6  ['note refile document nonecf document error ....   \n",
       "\n",
       "                          Apply Trigram Phrase Model  New Topocs Action [Y/N]  \\\n",
       "6  ['note refile document nonecf document error ....  System Msg          NaN   \n",
       "\n",
       "  If Y  \n",
       "6  NaN  "
      ]
     },
     "execution_count": 118,
     "metadata": {},
     "output_type": "execute_result"
    }
   ],
   "source": [
    "text3 = \"***NOTE TO ATTORNEY TO RE-FILE DOCUMENT - NON-ECF DOCUMENT ERROR. Note to Attorney Gary A. Bornstein: Document No. 329 is an Exhibit. This document is not filed via ECF. Exhibits are ONLY filed as attachments to a supporting or opposing document. (ldi) (Entered: 01/02/2013)\"\n",
    "noDT_data[noDT_data['Original Docket Text'] == text3]\n",
    "#Chris' input: 1) Y, 2) Court's Order, 3) Triage"
   ]
  },
  {
   "cell_type": "code",
   "execution_count": 119,
   "metadata": {},
   "outputs": [
    {
     "data": {
      "text/html": [
       "<div>\n",
       "<table border=\"1\" class=\"dataframe\">\n",
       "  <thead>\n",
       "    <tr style=\"text-align: right;\">\n",
       "      <th></th>\n",
       "      <th>Original Docket Text</th>\n",
       "      <th>Organization Portion</th>\n",
       "      <th>Name Portion</th>\n",
       "      <th>Identifying Org and Name</th>\n",
       "      <th>Stripped Org and Name</th>\n",
       "      <th>Removed unnecessary POS &amp; vocab</th>\n",
       "      <th>DT Topics</th>\n",
       "      <th>Removed unnecessary POS &amp; vocab DT</th>\n",
       "      <th>Apply Trigram Phrase Model</th>\n",
       "    </tr>\n",
       "  </thead>\n",
       "  <tbody>\n",
       "    <tr>\n",
       "      <th>1391</th>\n",
       "      <td>***NOTE TO ATTORNEY TO RE-FILE DOCUMENT - NON-...</td>\n",
       "      <td>ECF</td>\n",
       "      <td>Gary A. Bornstein</td>\n",
       "      <td>***NOTE TO ATTORNEY TO RE-FILE DOCUMENT - NON-...</td>\n",
       "      <td>***NOTE TO ATTORNEY TO RE-FILE DOCUMENT - NON-...</td>\n",
       "      <td>note refile nonecf note via support oppose</td>\n",
       "      <td></td>\n",
       "      <td>note refile nonecf note via support oppose</td>\n",
       "      <td>note refile nonecf note via support oppose</td>\n",
       "    </tr>\n",
       "  </tbody>\n",
       "</table>\n",
       "</div>"
      ],
      "text/plain": [
       "                                   Original Docket Text Organization Portion  \\\n",
       "1391  ***NOTE TO ATTORNEY TO RE-FILE DOCUMENT - NON-...                  ECF   \n",
       "\n",
       "           Name Portion                           Identifying Org and Name  \\\n",
       "1391  Gary A. Bornstein  ***NOTE TO ATTORNEY TO RE-FILE DOCUMENT - NON-...   \n",
       "\n",
       "                                  Stripped Org and Name  \\\n",
       "1391  ***NOTE TO ATTORNEY TO RE-FILE DOCUMENT - NON-...   \n",
       "\n",
       "                 Removed unnecessary POS & vocab DT Topics  \\\n",
       "1391  note refile nonecf note via support oppose             \n",
       "\n",
       "              Removed unnecessary POS & vocab DT  \\\n",
       "1391  note refile nonecf note via support oppose   \n",
       "\n",
       "                      Apply Trigram Phrase Model  \n",
       "1391  note refile nonecf note via support oppose  "
      ]
     },
     "execution_count": 119,
     "metadata": {},
     "output_type": "execute_result"
    }
   ],
   "source": [
    "new_df[new_df['Original Docket Text'] == text3]\n",
    "#Chris' input: 1) Y, 2) Court's Order, 3) Triage"
   ]
  },
  {
   "cell_type": "code",
   "execution_count": null,
   "metadata": {},
   "outputs": [],
   "source": []
  }
 ],
 "metadata": {
  "kernelspec": {
   "display_name": "Python 3",
   "language": "python",
   "name": "python3"
  },
  "language_info": {
   "codemirror_mode": {
    "name": "ipython",
    "version": 3
   },
   "file_extension": ".py",
   "mimetype": "text/x-python",
   "name": "python",
   "nbconvert_exporter": "python",
   "pygments_lexer": "ipython3",
   "version": "3.5.3"
  }
 },
 "nbformat": 4,
 "nbformat_minor": 2
}
