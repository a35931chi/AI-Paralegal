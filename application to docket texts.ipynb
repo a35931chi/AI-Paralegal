{
 "cells": [
  {
   "cell_type": "markdown",
   "metadata": {},
   "source": [
    "### LDA background\n",
    "LDA assumes that documents are probability distribution over laten topics.\n",
    "Topics are probability distribution over words.\n",
    "LDA takes a number of documents. It assumes that the words in each document are related. It then tries to figure out the 'recipe' for how each document could have been created. We just need to tell the model how many topics to construct and it uses that 'recipe' to generate topic and word distributions over a corpus. Based on that output, we can identify similar documents within the corpus.\n",
    "\n",
    "### In order to understand the LDA process, we have to know how LDA assumes topics are generated:\n",
    "1. determine the number of words in the document\n",
    "2. choose a topic mixture for the document over a fixed set of topics (ie. topic A 20%, topic B 50%, etc)\n",
    "3. generate words in the document by:\n",
    "    - pick a topic based on the document's multinomial distribution\n",
    "    - pick a word based on the topic's multinomial distribution"
   ]
  },
  {
   "cell_type": "markdown",
   "metadata": {},
   "source": [
    "### Working backwards\n",
    "Suppose you have a corpus of documents, and you want LDA to learn the topic representatino of K topics in each document and the word distribution of each topic. LDA would backtrack from the document level to identify topics that are likely to have generated the corpus."
   ]
  },
  {
   "cell_type": "markdown",
   "metadata": {},
   "source": [
    "### LDA's Magic\n",
    "1. randomly assign each word in each documen tto one of the K topics\n",
    "2. for each document\n",
    "    - assume that all topic assignments except for the current one are correct\n",
    "    - claculate two proportions:\n",
    "        1. proportion of words in document d that are currently assigned to topic t = p(topic t | document d)\n",
    "        2. proportion of assignments to topic t over all documents that come from this word w = p(word w | topic t)\n",
    "    - multiply those two proportions and assign w a new topic based on that probability. p(topic t | document d) * p(word w | topic t)\n",
    "3. eventually we'll reach a steady state where assignments make sense"
   ]
  },
  {
   "cell_type": "markdown",
   "metadata": {},
   "source": [
    "### alpha (parameter of the Dirichlet pior of the per-document topic distribution)\n",
    "high: each document will contain many topics\n",
    "low: each document iwll have distinct topics\n",
    "\n",
    "### beta (parameter of the Dirichlet prior on the per-topic word distribution)\n",
    "high: each topic will contain many words\n",
    "low: each topic will contain few words\n",
    "\n",
    "### theta (topic distribution for document m)\n",
    "### z (topic for the n-th word in document m)\n",
    "### w (specific word)"
   ]
  },
  {
   "cell_type": "code",
   "execution_count": null,
   "metadata": {},
   "outputs": [],
   "source": []
  },
  {
   "cell_type": "code",
   "execution_count": null,
   "metadata": {},
   "outputs": [],
   "source": []
  },
  {
   "cell_type": "code",
   "execution_count": null,
   "metadata": {},
   "outputs": [],
   "source": []
  },
  {
   "cell_type": "code",
   "execution_count": null,
   "metadata": {},
   "outputs": [],
   "source": []
  },
  {
   "cell_type": "code",
   "execution_count": null,
   "metadata": {},
   "outputs": [],
   "source": []
  },
  {
   "cell_type": "code",
   "execution_count": null,
   "metadata": {},
   "outputs": [],
   "source": []
  },
  {
   "cell_type": "code",
   "execution_count": null,
   "metadata": {},
   "outputs": [],
   "source": []
  },
  {
   "cell_type": "code",
   "execution_count": null,
   "metadata": {},
   "outputs": [],
   "source": []
  },
  {
   "cell_type": "code",
   "execution_count": null,
   "metadata": {},
   "outputs": [],
   "source": []
  },
  {
   "cell_type": "code",
   "execution_count": null,
   "metadata": {},
   "outputs": [],
   "source": []
  },
  {
   "cell_type": "code",
   "execution_count": null,
   "metadata": {},
   "outputs": [],
   "source": []
  },
  {
   "cell_type": "code",
   "execution_count": null,
   "metadata": {},
   "outputs": [],
   "source": []
  },
  {
   "cell_type": "code",
   "execution_count": null,
   "metadata": {},
   "outputs": [],
   "source": []
  },
  {
   "cell_type": "code",
   "execution_count": null,
   "metadata": {},
   "outputs": [],
   "source": []
  },
  {
   "cell_type": "code",
   "execution_count": null,
   "metadata": {},
   "outputs": [],
   "source": []
  }
 ],
 "metadata": {
  "kernelspec": {
   "display_name": "Python 3",
   "language": "python",
   "name": "python3"
  },
  "language_info": {
   "codemirror_mode": {
    "name": "ipython",
    "version": 3
   },
   "file_extension": ".py",
   "mimetype": "text/x-python",
   "name": "python",
   "nbconvert_exporter": "python",
   "pygments_lexer": "ipython3",
   "version": "3.5.3"
  }
 },
 "nbformat": 4,
 "nbformat_minor": 2
}
