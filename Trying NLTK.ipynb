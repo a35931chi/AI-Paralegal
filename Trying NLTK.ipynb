{
 "cells": [
  {
   "cell_type": "markdown",
   "metadata": {},
   "source": [
    "## Notebook Goal:  \n",
    "Using existing NLP and LDA methodologies to perform topic modeling on docket texts. Three hyperparameters to consider:\n",
    "1. to remove organization or not in docket texts, so organizations themselves won't become topics.\n",
    "2. to remove names or not in docket texts, so names themselves won't become topics.\n",
    "3. variations in topic numbers: [2, 3, 5, 10]\n",
    "\n",
    "Will then perform visualizations and model summary output on every permutation/iteration."
   ]
  },
  {
   "cell_type": "code",
   "execution_count": 2,
   "metadata": {},
   "outputs": [],
   "source": [
    "import nltk\n",
    "from nltk.tag.stanford import StanfordNERTagger\n",
    "from nltk.stem import WordNetLemmatizer\n",
    "from nltk.corpus import wordnet\n",
    "from nltk.corpus import stopwords"
   ]
  },
  {
   "cell_type": "code",
   "execution_count": 3,
   "metadata": {},
   "outputs": [
    {
     "name": "stderr",
     "output_type": "stream",
     "text": [
      "c:\\users\\inves\\appdata\\local\\programs\\python\\python35\\lib\\site-packages\\gensim\\utils.py:1197: UserWarning: detected Windows; aliasing chunkize to chunkize_serial\n",
      "  warnings.warn(\"detected Windows; aliasing chunkize to chunkize_serial\")\n"
     ]
    }
   ],
   "source": [
    "from gensim.models.word2vec import LineSentence\n",
    "from gensim.models import Phrases\n",
    "from gensim.corpora import Dictionary, MmCorpus\n",
    "from gensim.models.ldamulticore import LdaMulticore\n",
    "\n",
    "#visualization libraries\n",
    "import pyLDAvis\n",
    "import pyLDAvis.gensim"
   ]
  },
  {
   "cell_type": "code",
   "execution_count": 57,
   "metadata": {},
   "outputs": [],
   "source": [
    "import os\n",
    "java_path = 'C:/Program Files/Java/jdk-10.0.1/bin/java.exe'\n",
    "os.environ['JAVAHOME'] = java_path\n",
    "\n",
    "import pandas as pd\n",
    "import numpy as np\n",
    "import codecs\n",
    "import itertools as it\n",
    "from bs4 import BeautifulSoup\n",
    "import warnings\n",
    "import pickle\n",
    "from collections import Counter"
   ]
  },
  {
   "cell_type": "code",
   "execution_count": 13,
   "metadata": {},
   "outputs": [],
   "source": [
    "#import corpus/docket texts from html to pandas DataFrame\n",
    "def grab_dockets():\n",
    "    files = []\n",
    "    #get all .html files in the folder (all docket files are in .html)\n",
    "    for file in os.listdir('docket_texts/'):\n",
    "        if file.endswith('.html'):\n",
    "            files.append(os.path.join('docket_texts/', file))\n",
    "\n",
    "    df_docket_texts = pd.DataFrame()\n",
    "    \n",
    "    for i in range(len(files)): #gather all docket texts\n",
    "    #for i in [0, 1]: #for testing purposes\n",
    "        \n",
    "        content = codecs.open(files[i], 'r', 'utf-8').read()\n",
    "        #use beautiful soup to get the case ID\n",
    "        soup = BeautifulSoup(content, 'lxml')\n",
    "        case_id = str(soup.find_all('h3'))    \n",
    "        bookmark1 = case_id.find('CASE #:') + len('CASE #:')\n",
    "        bookmark2 = case_id.find('</h3>')\n",
    "        case_id = case_id[bookmark1:bookmark2]\n",
    "\n",
    "        #use pandas to grab tables in the html files\n",
    "        docket_tables = pd.read_html(content)\n",
    "\n",
    "        #error checking: gotta do this because there's different length of docket_list/\n",
    "        #usually docket texts are in docket_list[3], but not always\n",
    "        n = 0\n",
    "        while docket_tables[n].isin(['Docket Text']).sum().sum() == 0:\n",
    "            #print(n, docket_tables[n].isin(['Docket Text']).sum().sum())\n",
    "            n += 1\n",
    "                        \n",
    "        #print(i, files[i])\n",
    "        #print(docket_tables[n].head())\n",
    "\n",
    "        #docket_tables[n] is the docket text table\n",
    "        new_header = docket_tables[n].iloc[0]\n",
    "        docket_tables[n] = docket_tables[n][1:]\n",
    "        docket_tables[n].columns = new_header\n",
    "        \n",
    "        docket_tables[n]['#'] = pd.to_numeric(docket_tables[n]['#'],\n",
    "                                              downcast = 'signed', errors = 'coerce')\n",
    "        docket_tables[n]['Date Filed'] = pd.to_datetime(docket_tables[n]['Date Filed'])\n",
    "        docket_tables[n]['Case ID'] = case_id\n",
    "\n",
    "        df_docket_texts = pd.concat([df_docket_texts, docket_tables[n]])\n",
    "    #reorder a column\n",
    "    cols = list(df_docket_texts.columns)\n",
    "    df_docket_texts = df_docket_texts[[cols[-1]] + cols[:-1]]\n",
    "    \n",
    "    print('current docket text table size/shape: {}'.format(df_docket_texts.shape))\n",
    "    return df_docket_texts"
   ]
  },
  {
   "cell_type": "markdown",
   "metadata": {},
   "source": [
    "### Pull from dir .html files"
   ]
  },
  {
   "cell_type": "code",
   "execution_count": 14,
   "metadata": {
    "scrolled": true
   },
   "outputs": [
    {
     "name": "stderr",
     "output_type": "stream",
     "text": [
      "c:\\users\\inves\\appdata\\local\\programs\\python\\python35\\lib\\site-packages\\bs4\\builder\\_lxml.py:250: DeprecationWarning: inspect.getargspec() is deprecated, use inspect.signature() instead\n",
      "  self.parser.feed(markup)\n",
      "c:\\users\\inves\\appdata\\local\\programs\\python\\python35\\lib\\site-packages\\bs4\\builder\\_lxml.py:250: DeprecationWarning: inspect.getargspec() is deprecated, use inspect.signature() instead\n",
      "  self.parser.feed(markup)\n",
      "c:\\users\\inves\\appdata\\local\\programs\\python\\python35\\lib\\site-packages\\bs4\\builder\\_lxml.py:250: DeprecationWarning: inspect.getargspec() is deprecated, use inspect.signature() instead\n",
      "  self.parser.feed(markup)\n",
      "c:\\users\\inves\\appdata\\local\\programs\\python\\python35\\lib\\site-packages\\bs4\\builder\\_lxml.py:250: DeprecationWarning: inspect.getargspec() is deprecated, use inspect.signature() instead\n",
      "  self.parser.feed(markup)\n",
      "c:\\users\\inves\\appdata\\local\\programs\\python\\python35\\lib\\site-packages\\bs4\\builder\\_lxml.py:250: DeprecationWarning: inspect.getargspec() is deprecated, use inspect.signature() instead\n",
      "  self.parser.feed(markup)\n",
      "c:\\users\\inves\\appdata\\local\\programs\\python\\python35\\lib\\site-packages\\bs4\\builder\\_lxml.py:250: DeprecationWarning: inspect.getargspec() is deprecated, use inspect.signature() instead\n",
      "  self.parser.feed(markup)\n",
      "c:\\users\\inves\\appdata\\local\\programs\\python\\python35\\lib\\site-packages\\bs4\\builder\\_lxml.py:250: DeprecationWarning: inspect.getargspec() is deprecated, use inspect.signature() instead\n",
      "  self.parser.feed(markup)\n",
      "c:\\users\\inves\\appdata\\local\\programs\\python\\python35\\lib\\site-packages\\bs4\\builder\\_lxml.py:250: DeprecationWarning: inspect.getargspec() is deprecated, use inspect.signature() instead\n",
      "  self.parser.feed(markup)\n",
      "c:\\users\\inves\\appdata\\local\\programs\\python\\python35\\lib\\site-packages\\bs4\\builder\\_lxml.py:250: DeprecationWarning: inspect.getargspec() is deprecated, use inspect.signature() instead\n",
      "  self.parser.feed(markup)\n",
      "c:\\users\\inves\\appdata\\local\\programs\\python\\python35\\lib\\site-packages\\bs4\\builder\\_lxml.py:250: DeprecationWarning: inspect.getargspec() is deprecated, use inspect.signature() instead\n",
      "  self.parser.feed(markup)\n",
      "c:\\users\\inves\\appdata\\local\\programs\\python\\python35\\lib\\site-packages\\bs4\\builder\\_lxml.py:250: DeprecationWarning: inspect.getargspec() is deprecated, use inspect.signature() instead\n",
      "  self.parser.feed(markup)\n",
      "c:\\users\\inves\\appdata\\local\\programs\\python\\python35\\lib\\site-packages\\bs4\\builder\\_lxml.py:250: DeprecationWarning: inspect.getargspec() is deprecated, use inspect.signature() instead\n",
      "  self.parser.feed(markup)\n",
      "c:\\users\\inves\\appdata\\local\\programs\\python\\python35\\lib\\site-packages\\bs4\\builder\\_lxml.py:250: DeprecationWarning: inspect.getargspec() is deprecated, use inspect.signature() instead\n",
      "  self.parser.feed(markup)\n",
      "c:\\users\\inves\\appdata\\local\\programs\\python\\python35\\lib\\site-packages\\bs4\\builder\\_lxml.py:250: DeprecationWarning: inspect.getargspec() is deprecated, use inspect.signature() instead\n",
      "  self.parser.feed(markup)\n",
      "c:\\users\\inves\\appdata\\local\\programs\\python\\python35\\lib\\site-packages\\bs4\\builder\\_lxml.py:250: DeprecationWarning: inspect.getargspec() is deprecated, use inspect.signature() instead\n",
      "  self.parser.feed(markup)\n",
      "c:\\users\\inves\\appdata\\local\\programs\\python\\python35\\lib\\site-packages\\bs4\\builder\\_lxml.py:250: DeprecationWarning: inspect.getargspec() is deprecated, use inspect.signature() instead\n",
      "  self.parser.feed(markup)\n",
      "c:\\users\\inves\\appdata\\local\\programs\\python\\python35\\lib\\site-packages\\bs4\\builder\\_lxml.py:250: DeprecationWarning: inspect.getargspec() is deprecated, use inspect.signature() instead\n",
      "  self.parser.feed(markup)\n",
      "c:\\users\\inves\\appdata\\local\\programs\\python\\python35\\lib\\site-packages\\bs4\\builder\\_lxml.py:250: DeprecationWarning: inspect.getargspec() is deprecated, use inspect.signature() instead\n",
      "  self.parser.feed(markup)\n",
      "c:\\users\\inves\\appdata\\local\\programs\\python\\python35\\lib\\site-packages\\bs4\\builder\\_lxml.py:250: DeprecationWarning: inspect.getargspec() is deprecated, use inspect.signature() instead\n",
      "  self.parser.feed(markup)\n",
      "c:\\users\\inves\\appdata\\local\\programs\\python\\python35\\lib\\site-packages\\bs4\\builder\\_lxml.py:250: DeprecationWarning: inspect.getargspec() is deprecated, use inspect.signature() instead\n",
      "  self.parser.feed(markup)\n",
      "c:\\users\\inves\\appdata\\local\\programs\\python\\python35\\lib\\site-packages\\bs4\\builder\\_lxml.py:250: DeprecationWarning: inspect.getargspec() is deprecated, use inspect.signature() instead\n",
      "  self.parser.feed(markup)\n",
      "c:\\users\\inves\\appdata\\local\\programs\\python\\python35\\lib\\site-packages\\bs4\\builder\\_lxml.py:250: DeprecationWarning: inspect.getargspec() is deprecated, use inspect.signature() instead\n",
      "  self.parser.feed(markup)\n",
      "c:\\users\\inves\\appdata\\local\\programs\\python\\python35\\lib\\site-packages\\bs4\\builder\\_lxml.py:250: DeprecationWarning: inspect.getargspec() is deprecated, use inspect.signature() instead\n",
      "  self.parser.feed(markup)\n"
     ]
    },
    {
     "name": "stdout",
     "output_type": "stream",
     "text": [
      "current docket text table size/shape: (3244, 4)\n",
      "docket text 0\n",
      "COMPLAINT against Cardiogenics Holdings, Inc. filing fee $ 400, receipt number 0207-8445206 Was the Disclosure Statement on Civil Cover Sheet completed -YES,, filed by LG Capital Funding, LLC. (Steinmetz, Michael) (Additional attachment(s) added on 3/11/2016: # 1 Civil Cover Sheet, # 2 Proposed Summons) (Bowens, Priscilla). (Entered: 03/10/2016) \n",
      "\n",
      "docket text 1\n",
      "Case assigned to Judge Ann M Donnelly and Magistrate Judge Vera M. Scanlon. Please download and review the Individual Practices of the assigned Judges, located on our website. Attorneys are responsible for providing courtesy copies to judges where their Individual Practices require such. (Bowens, Priscilla) (Entered: 03/11/2016) \n",
      "\n",
      "docket text 2\n",
      "Summons Issued as to Cardiogenics Holdings, Inc.. (Bowens, Priscilla) (Entered: 03/11/2016) \n",
      "\n",
      "docket text 3\n",
      "NOTICE - emailed attorney regarding missing second page of the civil cover sheet. (Bowens, Priscilla) (Entered: 03/11/2016) \n",
      "\n",
      "docket text 4\n",
      "In accordance with Rule 73 of the Federal Rules of Civil Procedure and Local Rule 73.1, the parties are notified that if all parties consent a United States magistrate judge of this court is available to conduct all proceedings in this civil action including a (jury or nonjury) trial and to order the entry of a final judgment. Attached to the Notice is a blank copy of the consent form that should be filled out, signed and filed electronically only if all parties wish to consent. The form may also be accessed at the following link: http://www.uscourts.gov/uscourts/FormsAndFees/Forms/AO085.pdf. You may withhold your consent without adverse substantive consequences. Do NOT return or file the consent unless all parties have signed the consent. (Bowens, Priscilla) (Entered: 03/11/2016) \n",
      "\n"
     ]
    }
   ],
   "source": [
    "df = grab_dockets()\n",
    "docket_original = list(df['Docket Text'])\n",
    "for i in range(5):\n",
    "    print('docket text {}'.format(i))\n",
    "    print(docket_original[i], '\\n')"
   ]
  },
  {
   "cell_type": "markdown",
   "metadata": {},
   "source": [
    "### Used Stanford NER to identy Names and Entities"
   ]
  },
  {
   "cell_type": "code",
   "execution_count": 104,
   "metadata": {},
   "outputs": [
    {
     "name": "stdout",
     "output_type": "stream",
     "text": [
      "Wall time: 1h 34min 53s\n"
     ]
    }
   ],
   "source": [
    "%%time\n",
    "path_to_model = r'C:\\Users\\inves\\AppData\\Local\\Programs\\Python\\Python35\\Lib\\site-packages\\nltk\\stanford-ner-2018-02-27\\classifiers\\english.all.3class.distsim.crf.ser.gz'\n",
    "path_to_jar = r'C:\\Users\\inves\\AppData\\Local\\Programs\\Python\\Python35\\Lib\\site-packages\\nltk\\stanford-ner-2018-02-27\\stanford-ner.jar'\n",
    "tagger = StanfordNERTagger(path_to_model, path_to_jar = path_to_jar)\n",
    "\n",
    "output = []\n",
    "#length = 100 \n",
    "length = len(docket_original)\n",
    "for i in range(length):\n",
    "    org_str = []\n",
    "    name_str = []\n",
    "    stripped_str1 = []\n",
    "    stripped_str2 = []\n",
    "    tokens = nltk.tokenize.word_tokenize(docket_original[i])\n",
    "    for label in tagger.tag(tokens):\n",
    "        #print(label)\n",
    "        if label[1] == 'ORGANIZATION':\n",
    "            org_str.append(label[0])\n",
    "            stripped_str1.append('-ORG-')\n",
    "        elif label[1] == 'PERSON':\n",
    "            name_str.append(label[0])\n",
    "            stripped_str1.append('-NAME-')\n",
    "        else:\n",
    "            stripped_str1.append(label[0])\n",
    "            stripped_str2.append(label[0])\n",
    "    \n",
    "    output.append([docket_original[i],\n",
    "                   ' '.join(org_str),\n",
    "                   ' '.join(name_str),\n",
    "                   ' '.join(stripped_str1),\n",
    "                   ' '.join(stripped_str2)])\n",
    "    "
   ]
  },
  {
   "cell_type": "code",
   "execution_count": 107,
   "metadata": {},
   "outputs": [],
   "source": [
    "NER_df = pd.DataFrame(output, columns = ['Original Docket Text', 'Organization Portion', 'Name Portion', \n",
    "                                         'Identifying Org and Name', 'Stripped Org and Name'])"
   ]
  },
  {
   "cell_type": "markdown",
   "metadata": {},
   "source": [
    "### To re-build new_df, start here"
   ]
  },
  {
   "cell_type": "code",
   "execution_count": 108,
   "metadata": {},
   "outputs": [],
   "source": [
    "new_df = NER_df.copy()"
   ]
  },
  {
   "cell_type": "code",
   "execution_count": 109,
   "metadata": {},
   "outputs": [
    {
     "name": "stdout",
     "output_type": "stream",
     "text": [
      "                                Original Docket Text  \\\n",
      "0  COMPLAINT against Cardiogenics Holdings, Inc. ...   \n",
      "1  Case assigned to Judge Ann M Donnelly and Magi...   \n",
      "2  Summons Issued as to Cardiogenics Holdings, In...   \n",
      "3  NOTICE - emailed attorney regarding missing se...   \n",
      "4  In accordance with Rule 73 of the Federal Rule...   \n",
      "\n",
      "                              Organization Portion  \\\n",
      "0  Cardiogenics Holdings , Inc. LG Capital Funding   \n",
      "1      Individual Practices of the assigned Judges   \n",
      "2                            Cardiogenics Holdings   \n",
      "3                                                    \n",
      "4                                                    \n",
      "\n",
      "                                      Name Portion  \\\n",
      "0             ( Steinmetz Michael Bowens Priscilla   \n",
      "1  Ann M Donnelly Vera M. Scanlon Bowens Priscilla   \n",
      "2                                 Bowens Priscilla   \n",
      "3                                 Bowens Priscilla   \n",
      "4                                 Bowens Priscilla   \n",
      "\n",
      "                            Identifying Org and Name  \\\n",
      "0  COMPLAINT against -ORG- -ORG- -ORG- -ORG- fili...   \n",
      "1  Case assigned to Judge -NAME- -NAME- -NAME- an...   \n",
      "2  Summons Issued as to -ORG- -ORG- , Inc.. ( -NA...   \n",
      "3  NOTICE - emailed attorney regarding missing se...   \n",
      "4  In accordance with Rule 73 of the Federal Rule...   \n",
      "\n",
      "                               Stripped Org and Name  \n",
      "0  COMPLAINT against filing fee $ 400 , receipt n...  \n",
      "1  Case assigned to Judge and Magistrate Judge . ...  \n",
      "2  Summons Issued as to , Inc.. ( , ) ( Entered :...  \n",
      "3  NOTICE - emailed attorney regarding missing se...  \n",
      "4  In accordance with Rule 73 of the Federal Rule...  \n"
     ]
    }
   ],
   "source": [
    "print(new_df.head())\n",
    "docket_text_list = list(new_df['Stripped Org and Name'])"
   ]
  },
  {
   "cell_type": "code",
   "execution_count": 110,
   "metadata": {},
   "outputs": [],
   "source": [
    "def text_preprocess1(text):\n",
    "    text = text.replace('-', '')\n",
    "    text = text.replace('(', ' ')\n",
    "    text = text.replace(')', ' ')\n",
    "    text = text.replace('(s)', 's')\n",
    "    text = text.replace('*', '')\n",
    "    return text\n",
    "\n",
    "def text_preprocess2(text):\n",
    "    text = text.replace('.', '')\n",
    "    return text\n",
    "\n",
    "def remove_stop(sentence):\n",
    "    output = []\n",
    "    for word in sentence.split():\n",
    "        if word not in set(stopwords.words('english')):\n",
    "            output.append(word)\n",
    "    return ' '.join(output)\n",
    "\n",
    "keywords = pd.read_csv('docket_texts/keywords.csv', header = None)\n",
    "keywords.columns = ['keywords']\n",
    "keyword_list = list(keywords['keywords'])"
   ]
  },
  {
   "cell_type": "code",
   "execution_count": 111,
   "metadata": {},
   "outputs": [
    {
     "name": "stdout",
     "output_type": "stream",
     "text": [
      "case assigned to judge and magistrate judge . please download and review the , located on our website . attorneys are responsible for providing courtesy copies to judges where their individual practices require such .   ,     entered : 03112016  \n",
      "3244\n"
     ]
    }
   ],
   "source": [
    "docket_text_list = [text_preprocess1(sentence).lower() for sentence in docket_text_list]\n",
    "print(docket_text_list[1])\n",
    "print(len(docket_text_list))"
   ]
  },
  {
   "cell_type": "code",
   "execution_count": 112,
   "metadata": {},
   "outputs": [],
   "source": [
    "class Splitter(object):\n",
    "\n",
    "    def __init__(self):\n",
    "        self.splitter = nltk.data.load('tokenizers/punkt/english.pickle')\n",
    "        self.tokenizer = nltk.tokenize.TreebankWordTokenizer()\n",
    "\n",
    "    def split(self,text):\n",
    "\n",
    "        # split into single sentence\n",
    "        sentences = self.splitter.tokenize(text)\n",
    "        # tokenization in each sentences\n",
    "        tokens = [self.tokenizer.tokenize(remove_stop(sent)) for sent in sentences]\n",
    "        return tokens\n",
    "\n",
    "\n",
    "class LemmatizationWithPOSTagger(object):\n",
    "    def __init__(self):\n",
    "        pass\n",
    "    def get_wordnet_pos(self,treebank_tag):\n",
    "        \"\"\"\n",
    "        return WORDNET POS compliance to WORDENT lemmatization (a,n,r,v) \n",
    "        \"\"\"\n",
    "        if treebank_tag.startswith('J'):\n",
    "            return wordnet.ADJ\n",
    "        elif treebank_tag.startswith('V'):\n",
    "            return wordnet.VERB\n",
    "        elif treebank_tag.startswith('N'):\n",
    "            return wordnet.NOUN\n",
    "        elif treebank_tag.startswith('R'):\n",
    "            return wordnet.ADV\n",
    "        else:\n",
    "            # As default pos in lemmatization is Noun\n",
    "            return wordnet.NOUN\n",
    "\n",
    "    def pos_tag(self,tokens):\n",
    "        # find the pos tagginf for each tokens [('What', 'WP'), ('can', 'MD'), ('I', 'PRP') ....\n",
    "        pos_tokens = [nltk.pos_tag(token) for token in tokens]\n",
    "\n",
    "        # lemmatization using pos tagg   \n",
    "        # convert into feature set of [('What', 'What', ['WP']), ('can', 'can', ['MD']), ... ie [original WORD, Lemmatized word, POS tag]\n",
    "        pos_tokens = [ [(word, lemmatizer.lemmatize(word,self.get_wordnet_pos(pos_tag)), [pos_tag]) for (word,pos_tag) in pos] for pos in pos_tokens]\n",
    "        return pos_tokens"
   ]
  },
  {
   "cell_type": "code",
   "execution_count": 113,
   "metadata": {},
   "outputs": [
    {
     "name": "stdout",
     "output_type": "stream",
     "text": [
      "Wall time: 2min 19s\n"
     ]
    }
   ],
   "source": [
    "%%time\n",
    "lemmatizer = WordNetLemmatizer()\n",
    "splitter = Splitter()\n",
    "lemmatization_using_pos_tagger = LemmatizationWithPOSTagger()\n",
    "\n",
    "lemma_docket_text_list = []\n",
    "for docket_text in docket_text_list:\n",
    "    #step 1 split document into sentence followed by tokenization\n",
    "    tokens = splitter.split(docket_text)\n",
    "\n",
    "    #step 2 lemmatization using pos tagger \n",
    "    lemma_pos_token = lemmatization_using_pos_tagger.pos_tag(tokens)\n",
    "    lemma_docket_text_list.append(lemma_pos_token)"
   ]
  },
  {
   "cell_type": "code",
   "execution_count": 114,
   "metadata": {},
   "outputs": [
    {
     "name": "stdout",
     "output_type": "stream",
     "text": [
      "3244\n",
      "3\n",
      "22\n",
      "('complaint', 'complaint', ['NN'])\n",
      "complaint\n"
     ]
    }
   ],
   "source": [
    "print(len(lemma_docket_text_list)) #docket text document level\n",
    "print(len(lemma_docket_text_list[0])) #docket text sentence level\n",
    "print(len(lemma_docket_text_list[0][0])) #docket text word level\n",
    "print(lemma_docket_text_list[0][0][0]) #docket text token level\n",
    "print(lemma_docket_text_list[0][0][0][0]) #docket text tuple level"
   ]
  },
  {
   "cell_type": "code",
   "execution_count": 115,
   "metadata": {},
   "outputs": [],
   "source": [
    "#lets do a collection of what we have\n",
    "collection = {}\n",
    "for lemma_pos_token in lemma_docket_text_list:\n",
    "    for sentence in lemma_pos_token:\n",
    "        for token in sentence:\n",
    "            #print(token[2][0])\n",
    "            if token[2][0] not in list(collection.keys()):\n",
    "                collection[token[2][0]] = []\n",
    "                collection[token[2][0]].append(token[1])\n",
    "            else:\n",
    "                if token[1] not in collection[token[2][0]]:\n",
    "                    collection[token[2][0]].append(token[1])"
   ]
  },
  {
   "cell_type": "code",
   "execution_count": 116,
   "metadata": {},
   "outputs": [],
   "source": [
    "pd.DataFrame(dict([ (k, pd.Series(v)) for k, v in collection.items()])).to_csv('NLP_pos.csv', index = False)"
   ]
  },
  {
   "cell_type": "code",
   "execution_count": 120,
   "metadata": {},
   "outputs": [
    {
     "name": "stdout",
     "output_type": "stream",
     "text": [
      "[['complaint file fee receipt number disclosure statement civil cover sheet complete yes file .', 'additional attachment add civil cover sheet proposed summons .', 'enter'], ['case assign magistrate .', 'please download review locate website .', 'attorney responsible provide courtesy copy individual practice require .', 'enter'], ['summons issue enter'], ['notice email attorney regard miss second page civil cover sheet .', 'enter'], ['accordance rule federal rule civil procedure local rule notify consent united state magistrate court available conduct proceeding civil action include jury nonjury trial order entry final judgment .', 'attach notice blank copy consent form fill sign file electronically wish consent .', 'form may also access follow link http www.uscourts.govuscourtsformsandfeesformsao085.pdf .', 'may withhold consent without adverse substantive consequence .', 'return file consent unless sign consent .', 'enter'], ['attorney case open filing check quality control .', 'see attachment correction make .', 'enter'], ['notice appearance behalf aty notice kehrli enter'], ['backend note .', 'related document complaint file .', 'enter'], ['ta letter .', 'related document complaint file .', 'enter'], ['c notice conversion .', 'related document complaint file .', 'enter']]\n",
      "Wall time: 85.7 ms\n"
     ]
    }
   ],
   "source": [
    "%%time\n",
    "remove_pos = [\"``\", \"NNPS\", \"NNP\", \"CD\", '#', '$', \"''\", \",\", \"0\", \":\"]\n",
    "remove_word = [\"'s\", \"judge\", \"party\", \"defendant\", \"ex\", \"plantiff\", \"shall\", \"date\", \"b\", \"exhibit\", \"pennsylvania\", \"sign_judge\", \n",
    "               \"Inc..\", \"inc..\", \"llc\"]\n",
    "#rebuild corpus\n",
    "docket_texts_output = [] #ultimate output after cleaning\n",
    "\n",
    "for lemma_pos_token in lemma_docket_text_list:\n",
    "    docket_text_output = [] \n",
    "    for sentence in lemma_pos_token:\n",
    "        sentence_output = []\n",
    "        for token in sentence:\n",
    "            #print(token[1])\n",
    "            \n",
    "            if token[2][0] not in remove_pos: #if the pos is not in the remove_pos list\n",
    "                if token[1] not in remove_word: #these are the intentionally left out words\n",
    "                    sentence_output.append(token[1]) #append the the sentence\n",
    "        docket_text_output.append(' '.join(sentence_output))\n",
    "    docket_texts_output.append(docket_text_output)\n",
    "print(docket_texts_output[:10])"
   ]
  },
  {
   "cell_type": "code",
   "execution_count": 121,
   "metadata": {},
   "outputs": [
    {
     "data": {
      "text/html": [
       "<div>\n",
       "<table border=\"1\" class=\"dataframe\">\n",
       "  <thead>\n",
       "    <tr style=\"text-align: right;\">\n",
       "      <th></th>\n",
       "      <th>Original Docket Text</th>\n",
       "      <th>Organization Portion</th>\n",
       "      <th>Name Portion</th>\n",
       "      <th>Identifying Org and Name</th>\n",
       "      <th>Stripped Org and Name</th>\n",
       "      <th>Removed unnecessary POS &amp; vocab</th>\n",
       "    </tr>\n",
       "  </thead>\n",
       "  <tbody>\n",
       "    <tr>\n",
       "      <th>0</th>\n",
       "      <td>COMPLAINT against Cardiogenics Holdings, Inc. ...</td>\n",
       "      <td>Cardiogenics Holdings , Inc. LG Capital Funding</td>\n",
       "      <td>( Steinmetz Michael Bowens Priscilla</td>\n",
       "      <td>COMPLAINT against -ORG- -ORG- -ORG- -ORG- fili...</td>\n",
       "      <td>COMPLAINT against filing fee $ 400 , receipt n...</td>\n",
       "      <td>[complaint file fee receipt number disclosure ...</td>\n",
       "    </tr>\n",
       "    <tr>\n",
       "      <th>1</th>\n",
       "      <td>Case assigned to Judge Ann M Donnelly and Magi...</td>\n",
       "      <td>Individual Practices of the assigned Judges</td>\n",
       "      <td>Ann M Donnelly Vera M. Scanlon Bowens Priscilla</td>\n",
       "      <td>Case assigned to Judge -NAME- -NAME- -NAME- an...</td>\n",
       "      <td>Case assigned to Judge and Magistrate Judge . ...</td>\n",
       "      <td>[case assign magistrate ., please download rev...</td>\n",
       "    </tr>\n",
       "    <tr>\n",
       "      <th>2</th>\n",
       "      <td>Summons Issued as to Cardiogenics Holdings, In...</td>\n",
       "      <td>Cardiogenics Holdings</td>\n",
       "      <td>Bowens Priscilla</td>\n",
       "      <td>Summons Issued as to -ORG- -ORG- , Inc.. ( -NA...</td>\n",
       "      <td>Summons Issued as to , Inc.. ( , ) ( Entered :...</td>\n",
       "      <td>[summons issue enter]</td>\n",
       "    </tr>\n",
       "    <tr>\n",
       "      <th>3</th>\n",
       "      <td>NOTICE - emailed attorney regarding missing se...</td>\n",
       "      <td></td>\n",
       "      <td>Bowens Priscilla</td>\n",
       "      <td>NOTICE - emailed attorney regarding missing se...</td>\n",
       "      <td>NOTICE - emailed attorney regarding missing se...</td>\n",
       "      <td>[notice email attorney regard miss second page...</td>\n",
       "    </tr>\n",
       "    <tr>\n",
       "      <th>4</th>\n",
       "      <td>In accordance with Rule 73 of the Federal Rule...</td>\n",
       "      <td></td>\n",
       "      <td>Bowens Priscilla</td>\n",
       "      <td>In accordance with Rule 73 of the Federal Rule...</td>\n",
       "      <td>In accordance with Rule 73 of the Federal Rule...</td>\n",
       "      <td>[accordance rule federal rule civil procedure ...</td>\n",
       "    </tr>\n",
       "  </tbody>\n",
       "</table>\n",
       "</div>"
      ],
      "text/plain": [
       "                                Original Docket Text  \\\n",
       "0  COMPLAINT against Cardiogenics Holdings, Inc. ...   \n",
       "1  Case assigned to Judge Ann M Donnelly and Magi...   \n",
       "2  Summons Issued as to Cardiogenics Holdings, In...   \n",
       "3  NOTICE - emailed attorney regarding missing se...   \n",
       "4  In accordance with Rule 73 of the Federal Rule...   \n",
       "\n",
       "                              Organization Portion  \\\n",
       "0  Cardiogenics Holdings , Inc. LG Capital Funding   \n",
       "1      Individual Practices of the assigned Judges   \n",
       "2                            Cardiogenics Holdings   \n",
       "3                                                    \n",
       "4                                                    \n",
       "\n",
       "                                      Name Portion  \\\n",
       "0             ( Steinmetz Michael Bowens Priscilla   \n",
       "1  Ann M Donnelly Vera M. Scanlon Bowens Priscilla   \n",
       "2                                 Bowens Priscilla   \n",
       "3                                 Bowens Priscilla   \n",
       "4                                 Bowens Priscilla   \n",
       "\n",
       "                            Identifying Org and Name  \\\n",
       "0  COMPLAINT against -ORG- -ORG- -ORG- -ORG- fili...   \n",
       "1  Case assigned to Judge -NAME- -NAME- -NAME- an...   \n",
       "2  Summons Issued as to -ORG- -ORG- , Inc.. ( -NA...   \n",
       "3  NOTICE - emailed attorney regarding missing se...   \n",
       "4  In accordance with Rule 73 of the Federal Rule...   \n",
       "\n",
       "                               Stripped Org and Name  \\\n",
       "0  COMPLAINT against filing fee $ 400 , receipt n...   \n",
       "1  Case assigned to Judge and Magistrate Judge . ...   \n",
       "2  Summons Issued as to , Inc.. ( , ) ( Entered :...   \n",
       "3  NOTICE - emailed attorney regarding missing se...   \n",
       "4  In accordance with Rule 73 of the Federal Rule...   \n",
       "\n",
       "                     Removed unnecessary POS & vocab  \n",
       "0  [complaint file fee receipt number disclosure ...  \n",
       "1  [case assign magistrate ., please download rev...  \n",
       "2                              [summons issue enter]  \n",
       "3  [notice email attorney regard miss second page...  \n",
       "4  [accordance rule federal rule civil procedure ...  "
      ]
     },
     "execution_count": 121,
     "metadata": {},
     "output_type": "execute_result"
    }
   ],
   "source": [
    "new_df['Removed unnecessary POS & vocab'] = pd.Series(docket_texts_output)\n",
    "new_df.head()"
   ]
  },
  {
   "cell_type": "code",
   "execution_count": 122,
   "metadata": {},
   "outputs": [],
   "source": [
    "unigram_sentences_filepath = 'docket_texts/unigram_nltk_noorgnoname.txt'"
   ]
  },
  {
   "cell_type": "code",
   "execution_count": 123,
   "metadata": {},
   "outputs": [
    {
     "name": "stdout",
     "output_type": "stream",
     "text": [
      "Wall time: 15 ms\n"
     ]
    }
   ],
   "source": [
    "%%time\n",
    "# turn the lemmatized corpus into unigram sentences\n",
    "with codecs.open(unigram_sentences_filepath, 'w', encoding = 'utf_8') as f:\n",
    "    for docket_text in docket_texts_output:\n",
    "        for sentence in docket_text:\n",
    "            f.write(sentence + '\\n')"
   ]
  },
  {
   "cell_type": "code",
   "execution_count": 124,
   "metadata": {},
   "outputs": [],
   "source": [
    "unigram_sentences = LineSentence(unigram_sentences_filepath)"
   ]
  },
  {
   "cell_type": "code",
   "execution_count": 125,
   "metadata": {},
   "outputs": [
    {
     "name": "stdout",
     "output_type": "stream",
     "text": [
      "Original text:\n",
      "['complaint file fee receipt number disclosure statement civil cover sheet complete yes file .', 'additional attachment add civil cover sheet proposed summons .', 'enter']\n",
      "\n",
      "Unigram_sentence:\n",
      "complaint file fee receipt number disclosure statement civil cover sheet complete yes file .\n",
      "\n",
      "additional attachment add civil cover sheet proposed summons .\n",
      "\n",
      "enter\n",
      "\n",
      "case assign magistrate .\n",
      "\n",
      "please download review locate website .\n",
      "\n",
      "attorney responsible provide courtesy copy individual practice require .\n",
      "\n",
      "enter\n",
      "\n",
      "summons issue enter\n",
      "\n",
      "notice email attorney regard miss second page civil cover sheet .\n",
      "\n",
      "enter\n",
      "\n"
     ]
    }
   ],
   "source": [
    "#let's do some comparision between the original text and unigram sentences, shouldn't be that different.\n",
    "print('Original text:')\n",
    "print(new_df['Removed unnecessary POS & vocab'].iloc[0])\n",
    "#print(df['Docket Text'].iloc[1])\n",
    "\n",
    "print('\\nUnigram_sentence:')\n",
    "for unigram_sentence in it.islice(unigram_sentences, 0, 10):\n",
    "    print(' '.join(unigram_sentence))\n",
    "    print('')"
   ]
  },
  {
   "cell_type": "code",
   "execution_count": 126,
   "metadata": {},
   "outputs": [],
   "source": [
    "bigram_model_filepath = 'docket_texts/bigram_model_noorgnoname' "
   ]
  },
  {
   "cell_type": "code",
   "execution_count": 127,
   "metadata": {},
   "outputs": [
    {
     "name": "stdout",
     "output_type": "stream",
     "text": [
      "Wall time: 300 ms\n"
     ]
    }
   ],
   "source": [
    "%%time\n",
    "\n",
    "# store our bigram model\n",
    "bigram_model = Phrases(unigram_sentences)\n",
    "bigram_model.save(bigram_model_filepath)\n",
    "    \n",
    "# load the finished model from disk if we don't want to run this again\n",
    "#bigram_model = Phrases.load(bigram_model_filepath)"
   ]
  },
  {
   "cell_type": "code",
   "execution_count": 128,
   "metadata": {},
   "outputs": [],
   "source": [
    "bigram_sentences_filepath = 'docket_texts/bigram_sentences_noorgnoname.txt'"
   ]
  },
  {
   "cell_type": "code",
   "execution_count": 129,
   "metadata": {},
   "outputs": [
    {
     "name": "stderr",
     "output_type": "stream",
     "text": [
      "c:\\users\\inves\\appdata\\local\\programs\\python\\python35\\lib\\site-packages\\gensim\\models\\phrases.py:494: UserWarning: For a faster implementation, use the gensim.models.phrases.Phraser class\n",
      "  warnings.warn(\"For a faster implementation, use the gensim.models.phrases.Phraser class\")\n"
     ]
    },
    {
     "name": "stdout",
     "output_type": "stream",
     "text": [
      "Wall time: 436 ms\n"
     ]
    }
   ],
   "source": [
    "%%time\n",
    "\n",
    "# apply the bigram model, and write it to file\n",
    "with codecs.open(bigram_sentences_filepath, 'w', encoding = 'utf_8') as f:\n",
    "    for unigram_sentence in unigram_sentences:\n",
    "        bigram_sentence = ' '.join(bigram_model[unigram_sentence])\n",
    "        f.write(bigram_sentence + '\\n')"
   ]
  },
  {
   "cell_type": "code",
   "execution_count": 130,
   "metadata": {},
   "outputs": [
    {
     "name": "stdout",
     "output_type": "stream",
     "text": [
      "unigram length = 11502, bigram length = 11502\n"
     ]
    }
   ],
   "source": [
    "bigram_sentences = LineSentence(bigram_sentences_filepath)\n",
    "print('unigram length = {}, bigram length = {}'.format(len(list(unigram_sentences)), len(list(bigram_sentences))))"
   ]
  },
  {
   "cell_type": "code",
   "execution_count": 131,
   "metadata": {},
   "outputs": [
    {
     "name": "stdout",
     "output_type": "stream",
     "text": [
      "Original text:\n",
      "['complaint file fee receipt number disclosure statement civil cover sheet complete yes file .', 'additional attachment add civil cover sheet proposed summons .', 'enter']\n",
      "['case assign magistrate .', 'please download review locate website .', 'attorney responsible provide courtesy copy individual practice require .', 'enter']\n",
      "\n",
      "Unigram sentence:\n",
      "complaint file fee receipt number disclosure statement civil cover sheet complete yes file .\n",
      "additional attachment add civil cover sheet proposed summons .\n",
      "enter\n",
      "case assign magistrate .\n",
      "please download review locate website .\n",
      "attorney responsible provide courtesy copy individual practice require .\n",
      "enter\n",
      "summons issue enter\n",
      "notice email attorney regard miss second page civil cover sheet .\n",
      "enter\n",
      "\n",
      "Bigram sentence:\n",
      "complaint file fee_receipt number disclosure_statement civil_cover sheet complete_yes file .\n",
      "additional attachment_add civil_cover sheet proposed summons .\n",
      "enter\n",
      "case assign magistrate .\n",
      "please_download review_locate website .\n",
      "attorney_responsible provide_courtesy copy_individual practice_require .\n",
      "enter\n",
      "summons_issue enter\n",
      "notice email attorney regard miss second page civil_cover sheet .\n",
      "enter\n"
     ]
    }
   ],
   "source": [
    "#original v. unigram v. bigram. Some phrases should be combined already\n",
    "start = 0\n",
    "finish = 10\n",
    "print('Original text:')\n",
    "print(new_df['Removed unnecessary POS & vocab'].iloc[0])\n",
    "print(new_df['Removed unnecessary POS & vocab'].iloc[1])\n",
    "\n",
    "print('\\nUnigram sentence:')\n",
    "for unigram_sentence in it.islice(unigram_sentences, 0, 10):\n",
    "    print(' '.join(unigram_sentence))\n",
    "print('\\nBigram sentence:')\n",
    "for bigram_sentence in it.islice(bigram_sentences, start, finish):\n",
    "    print(' '.join(bigram_sentence))"
   ]
  },
  {
   "cell_type": "code",
   "execution_count": 132,
   "metadata": {},
   "outputs": [],
   "source": [
    "trigram_model_filepath = 'docket_texts/trigram_model_nonamenoorg'"
   ]
  },
  {
   "cell_type": "code",
   "execution_count": 133,
   "metadata": {},
   "outputs": [
    {
     "name": "stdout",
     "output_type": "stream",
     "text": [
      "Wall time: 167 ms\n"
     ]
    }
   ],
   "source": [
    "%%time\n",
    "\n",
    "# again, using Phrases to attach more words to phrases already formed\n",
    "trigram_model = Phrases(bigram_sentences)\n",
    "trigram_model.save(trigram_model_filepath)\n",
    "\n",
    "# load the finished model from disk\n",
    "#trigram_model = Phrases.load(trigram_model_filepath)"
   ]
  },
  {
   "cell_type": "code",
   "execution_count": 134,
   "metadata": {},
   "outputs": [],
   "source": [
    "trigram_sentences_filepath = 'docket_texts/trigram_sentences_nonamenoorg.txt'"
   ]
  },
  {
   "cell_type": "code",
   "execution_count": 135,
   "metadata": {},
   "outputs": [
    {
     "name": "stderr",
     "output_type": "stream",
     "text": [
      "c:\\users\\inves\\appdata\\local\\programs\\python\\python35\\lib\\site-packages\\gensim\\models\\phrases.py:494: UserWarning: For a faster implementation, use the gensim.models.phrases.Phraser class\n",
      "  warnings.warn(\"For a faster implementation, use the gensim.models.phrases.Phraser class\")\n"
     ]
    },
    {
     "name": "stdout",
     "output_type": "stream",
     "text": [
      "Wall time: 420 ms\n"
     ]
    }
   ],
   "source": [
    "%%time\n",
    "\n",
    "with codecs.open(trigram_sentences_filepath, 'w', encoding = 'utf_8') as f:\n",
    "    for bigram_sentence in bigram_sentences:\n",
    "        #print('Bi', bigram_sentence)\n",
    "        trigram_sentence = ' '.join(trigram_model[bigram_sentence])\n",
    "        #print('Tri', trigram_sentence)\n",
    "        f.write(trigram_sentence + '\\n')"
   ]
  },
  {
   "cell_type": "code",
   "execution_count": 136,
   "metadata": {},
   "outputs": [],
   "source": [
    "trigram_sentences = LineSentence(trigram_sentences_filepath)"
   ]
  },
  {
   "cell_type": "code",
   "execution_count": 137,
   "metadata": {},
   "outputs": [
    {
     "name": "stdout",
     "output_type": "stream",
     "text": [
      "Original text:\n",
      "['complaint file fee receipt number disclosure statement civil cover sheet complete yes file .', 'additional attachment add civil cover sheet proposed summons .', 'enter'] \n",
      "\n",
      "['case assign magistrate .', 'please download review locate website .', 'attorney responsible provide courtesy copy individual practice require .', 'enter'] \n",
      "\n",
      "['summons issue enter'] \n",
      "\n",
      "['notice email attorney regard miss second page civil cover sheet .', 'enter'] \n",
      "\n",
      "\n",
      "UNIGRAM Sentence:\n",
      "complaint file fee receipt number disclosure statement civil cover sheet complete yes file .\n",
      "additional attachment add civil cover sheet proposed summons .\n",
      "enter\n",
      "case assign magistrate .\n",
      "please download review locate website .\n",
      "attorney responsible provide courtesy copy individual practice require .\n",
      "enter\n",
      "summons issue enter\n",
      "notice email attorney regard miss second page civil cover sheet .\n",
      "enter\n",
      "accordance rule federal rule civil procedure local rule notify consent united state magistrate court available conduct proceeding civil action include jury nonjury trial order entry final judgment .\n",
      "attach notice blank copy consent form fill sign file electronically wish consent .\n",
      "form may also access follow link http www.uscourts.govuscourtsformsandfeesformsao085.pdf .\n",
      "may withhold consent without adverse substantive consequence .\n",
      "return file consent unless sign consent .\n",
      "\n",
      "BIGRAM Sentence:\n",
      "complaint file fee_receipt number disclosure_statement civil_cover sheet complete_yes file .\n",
      "additional attachment_add civil_cover sheet proposed summons .\n",
      "enter\n",
      "case assign magistrate .\n",
      "please_download review_locate website .\n",
      "attorney_responsible provide_courtesy copy_individual practice_require .\n",
      "enter\n",
      "summons_issue enter\n",
      "notice email attorney regard miss second page civil_cover sheet .\n",
      "enter\n",
      "accordance rule_federal rule_civil procedure_local rule notify_consent united_state magistrate court available_conduct proceeding civil action include jury_nonjury trial order entry final judgment .\n",
      "attach notice blank copy consent form_fill sign file electronically_wish consent .\n",
      "form may also_access follow_link http_www.uscourts.govuscourtsformsandfeesformsao085.pdf .\n",
      "may_withhold consent without_adverse substantive_consequence .\n",
      "return file consent_unless sign consent .\n",
      "\n",
      "TRIGRAM Sentence:\n",
      "complaint file fee_receipt_number disclosure_statement_civil_cover sheet_complete_yes file .\n",
      "additional_attachment_add civil_cover_sheet proposed summons .\n",
      "enter\n",
      "case_assign magistrate .\n",
      "please_download_review_locate website .\n",
      "attorney_responsible_provide_courtesy copy_individual_practice_require .\n",
      "enter\n",
      "summons_issue enter\n",
      "notice email attorney regard miss second page civil_cover_sheet .\n",
      "enter\n",
      "accordance_rule_federal rule_civil_procedure_local rule_notify_consent united_state_magistrate court available_conduct_proceeding civil_action include_jury_nonjury trial order entry_final judgment .\n",
      "attach notice blank_copy consent_form_fill sign file electronically_wish_consent .\n",
      "form may_also_access follow_link_http_www.uscourts.govuscourtsformsandfeesformsao085.pdf .\n",
      "may_withhold_consent without_adverse_substantive_consequence .\n",
      "return file consent_unless sign consent .\n"
     ]
    }
   ],
   "source": [
    "start = 0\n",
    "finish = 15\n",
    "print('Original text:')\n",
    "print(new_df['Removed unnecessary POS & vocab'].iloc[0],'\\n')\n",
    "print(new_df['Removed unnecessary POS & vocab'].iloc[1],'\\n')\n",
    "print(new_df['Removed unnecessary POS & vocab'].iloc[2],'\\n')\n",
    "print(new_df['Removed unnecessary POS & vocab'].iloc[3],'\\n')\n",
    "\n",
    "print('\\nUNIGRAM Sentence:')\n",
    "for unigram_sentence in it.islice(unigram_sentences, start, finish):\n",
    "    print(' '.join(unigram_sentence))\n",
    "print('\\nBIGRAM Sentence:')\n",
    "for bigram_sentence in it.islice(bigram_sentences, start, finish):\n",
    "    print(' '.join(bigram_sentence))\n",
    "print('\\nTRIGRAM Sentence:')\n",
    "for trigram_sentence in it.islice(trigram_sentences, start, finish):\n",
    "    print(' '.join(trigram_sentence))"
   ]
  },
  {
   "cell_type": "code",
   "execution_count": 138,
   "metadata": {},
   "outputs": [],
   "source": [
    "def trigram_transform(texts):\n",
    "    trigram_output = []\n",
    "    #print(texts)\n",
    "    \n",
    "    for sentence in texts:\n",
    "        unigram_review = []\n",
    "        for word in sentence.split():\n",
    "            unigram_review.append(word)\n",
    "    \n",
    "        #print('Uni: ', unigram_review)\n",
    "        bigram_review = bigram_model[unigram_review]\n",
    "        #print('Bi: ', bigram_review)\n",
    "        trigram_review = trigram_model[bigram_review]\n",
    "        #print('Tri: ', trigram_review)\n",
    "        trigram_output.append(' '.join(trigram_review))\n",
    "    return trigram_output"
   ]
  },
  {
   "cell_type": "code",
   "execution_count": 139,
   "metadata": {},
   "outputs": [
    {
     "name": "stderr",
     "output_type": "stream",
     "text": [
      "c:\\users\\inves\\appdata\\local\\programs\\python\\python35\\lib\\site-packages\\gensim\\models\\phrases.py:494: UserWarning: For a faster implementation, use the gensim.models.phrases.Phraser class\n",
      "  warnings.warn(\"For a faster implementation, use the gensim.models.phrases.Phraser class\")\n"
     ]
    }
   ],
   "source": [
    "new_df['Apply Trigram Phrase Model'] = new_df['Removed unnecessary POS & vocab'].apply(trigram_transform)"
   ]
  },
  {
   "cell_type": "code",
   "execution_count": 140,
   "metadata": {},
   "outputs": [
    {
     "data": {
      "text/plain": [
       "['complaint file fee_receipt_number disclosure_statement_civil_cover sheet_complete_yes file .',\n",
       " 'additional_attachment_add civil_cover_sheet proposed summons .',\n",
       " 'enter']"
      ]
     },
     "execution_count": 140,
     "metadata": {},
     "output_type": "execute_result"
    }
   ],
   "source": [
    "new_df['Apply Trigram Phrase Model'].iloc[0]"
   ]
  },
  {
   "cell_type": "code",
   "execution_count": 141,
   "metadata": {},
   "outputs": [],
   "source": [
    "#write trigram to file\n",
    "trigram_dockets_filepath = 'docket_texts/trigram_transformed_dockets_noorgnoname.txt'"
   ]
  },
  {
   "cell_type": "code",
   "execution_count": 143,
   "metadata": {},
   "outputs": [],
   "source": [
    "with codecs.open(trigram_dockets_filepath, 'w', encoding= 'utf_8') as f:\n",
    "    for i in range(len(new_df['Apply Trigram Phrase Model'])):\n",
    "        f.write(' '.join(new_df['Apply Trigram Phrase Model'][i]) + '\\n')"
   ]
  },
  {
   "cell_type": "code",
   "execution_count": 144,
   "metadata": {},
   "outputs": [],
   "source": [
    "trigram_dictionary_filepath = 'docket_texts/trigram_dict_noorgnoname.dict'"
   ]
  },
  {
   "cell_type": "code",
   "execution_count": 145,
   "metadata": {},
   "outputs": [
    {
     "name": "stdout",
     "output_type": "stream",
     "text": [
      "Wall time: 99.8 ms\n"
     ]
    }
   ],
   "source": [
    "%%time\n",
    "\n",
    "#some dictionary hyperparameters:\n",
    "no_below = 10 #reference is 10\n",
    "no_above = 0.4 #reference is 0.4\n",
    "\n",
    "trigram_reviews = LineSentence(trigram_dockets_filepath)\n",
    "\n",
    "# learn the dictionary by iterating over all of the reviews\n",
    "trigram_dictionary = Dictionary(trigram_reviews)\n",
    "\n",
    "# filter tokens that are very rare otrigram_reviewsr too common from\n",
    "# the dictionary (filter_extremes) and reassign integer ids (compactify)\n",
    "trigram_dictionary.filter_extremes(no_below = no_below, no_above = no_above) #this step is questionable. May need to change the parameters\n",
    "trigram_dictionary.compactify()\n",
    "\n",
    "trigram_dictionary.save(trigram_dictionary_filepath)\n",
    "    \n",
    "# load the finished dictionary from disk\n",
    "#trigram_dictionary = Dictionary.load(trigram_dictionary_filepath)"
   ]
  },
  {
   "cell_type": "code",
   "execution_count": 146,
   "metadata": {},
   "outputs": [],
   "source": [
    "trigram_bow_filepath = 'docket_texts/trigram_bow_corpus_noorgnoname.mm'"
   ]
  },
  {
   "cell_type": "code",
   "execution_count": 147,
   "metadata": {},
   "outputs": [],
   "source": [
    "def trigram_bow_generator(filepath):\n",
    "    \"\"\"\n",
    "    generator function to read reviews from a file\n",
    "    and yield a bag-of-words representation\n",
    "    \"\"\"\n",
    "    \n",
    "    for review in LineSentence(filepath):\n",
    "        #print(review)\n",
    "        #print(trigram_dictionary.doc2bow(review))\n",
    "        yield trigram_dictionary.doc2bow(review)"
   ]
  },
  {
   "cell_type": "code",
   "execution_count": 148,
   "metadata": {},
   "outputs": [
    {
     "name": "stdout",
     "output_type": "stream",
     "text": [
      "MmCorpus(11502 documents, 816 features, 32623 non-zero entries)\n",
      "Wall time: 201 ms\n"
     ]
    }
   ],
   "source": [
    "%%time\n",
    "\n",
    "# generate bag-of-words representations for\n",
    "# all reviews and save them as a matrix\n",
    "MmCorpus.serialize(trigram_bow_filepath, trigram_bow_generator(trigram_sentences_filepath))\n",
    "    \n",
    "# load the finished bag-of-words corpus from disk\n",
    "trigram_bow_corpus = MmCorpus(trigram_bow_filepath)\n",
    "print(trigram_bow_corpus)"
   ]
  },
  {
   "cell_type": "code",
   "execution_count": 149,
   "metadata": {},
   "outputs": [],
   "source": [
    "def explore_topic(model, topic_number, topn = 10):\n",
    "    topics = []\n",
    "    print('{:20} {}'.format('term', 'frequency') + '\\n')\n",
    "    for term, frequency in model.show_topic(topic_number, topn = topn):\n",
    "        print('{:20} {:.3f}'.format(term, round(frequency, 3)))\n",
    "        topics.append((term, round(frequency, 3)))\n",
    "    return topics"
   ]
  },
  {
   "cell_type": "code",
   "execution_count": 150,
   "metadata": {},
   "outputs": [],
   "source": [
    "def topic_modeling_pipeline(num_topics, model_file_path, trigram_bow_corpus, trigram_dictionary, export = False):\n",
    "\n",
    "    with warnings.catch_warnings():\n",
    "        warnings.simplefilter('ignore')\n",
    "\n",
    "        # workers => sets the parallelism, and should be\n",
    "        # set to your number of physical cores minus one\n",
    "        lda = LdaMulticore(trigram_bow_corpus, num_topics = num_topics, id2word = trigram_dictionary, workers = 4)\n",
    "\n",
    "        lda.save(model_file_path)\n",
    "    \n",
    "    topic_dict = {}\n",
    "    for i in range(num_topics):\n",
    "        print(\"\\n Topic {}'s make-up:\".format(i + 1))\n",
    "        topic_dict[i] = explore_topic(lda, topic_number = i)\n",
    "    \n",
    "    if export:\n",
    "        pd.DataFrame(topic_dict).to_csv(model_file_path + 'topics.csv', index = False)\n",
    "    \n",
    "    LDAvis_data_filepath = model_file_path + '_ldavis'\n",
    "    \n",
    "    LDAvis_prepared = pyLDAvis.gensim.prepare(lda, trigram_bow_corpus, trigram_dictionary)\n",
    "\n",
    "    with open(LDAvis_data_filepath, 'wb') as f:\n",
    "        pickle.dump(LDAvis_prepared, f)\n",
    "        \n",
    "    with open(LDAvis_data_filepath, 'rb') as f:\n",
    "        LDAvis_prepared = pickle.load(f)\n",
    "        \n",
    "    return LDAvis_prepared, lda"
   ]
  },
  {
   "cell_type": "code",
   "execution_count": 151,
   "metadata": {},
   "outputs": [],
   "source": [
    "def lda_description(docket_text, lda, trigram_dictionary, topic_names, min_topic_freq = 0.05):\n",
    "    '''\n",
    "    accept the processed texts (trigram) of a review and \n",
    "    1) create a bag-of-words representation, \n",
    "    4) create an LDA representation, and\n",
    "    5) print a sorted list of the top topics in the LDA representation\n",
    "    '''\n",
    "    output = []\n",
    "    analyze_this = []\n",
    "    for sentence in docket_text:\n",
    "        analyze_this += sentence.split()\n",
    "    \n",
    "    # create a bag-of-words representation\n",
    "    review_bow = trigram_dictionary.doc2bow(analyze_this)\n",
    "    \n",
    "    # create an LDA representation\n",
    "    review_lda = lda[review_bow]\n",
    "    \n",
    "    # sort with the most highly related topics first\n",
    "    review_lda.sort(key = lambda tup: tup[1], reverse = True)\n",
    "    #print(review_lda)\n",
    "    for topic_number, freq in review_lda:\n",
    "        if freq < min_topic_freq:\n",
    "            break\n",
    "            \n",
    "        # print the most highly related topic names and frequencies\n",
    "        #print('{:25} {}'.format(topic_names[topic_number], round(freq, 3)))\n",
    "        output.append((topic_names[topic_number], round(freq, 5)))\n",
    "    return output"
   ]
  },
  {
   "cell_type": "markdown",
   "metadata": {},
   "source": [
    "### Providing topic visualizations, topic constituents for each topic, and classifying each docket text. For some reason when I use a pipeline functionality it doesn't work with pyLADvis.display\n",
    "### 2 Topics:"
   ]
  },
  {
   "cell_type": "code",
   "execution_count": 156,
   "metadata": {},
   "outputs": [
    {
     "name": "stdout",
     "output_type": "stream",
     "text": [
      "\n",
      " Topic 1's make-up:\n",
      "term                 frequency\n",
      "\n",
      "motion               0.061\n",
      "order                0.059\n",
      "notice               0.021\n",
      "sign                 0.012\n",
      "schedule             0.010\n",
      "summary_judgment     0.009\n",
      "memorandum_law_support 0.009\n",
      "court                0.009\n",
      "grant                0.008\n",
      "request              0.008\n",
      "\n",
      " Topic 2's make-up:\n",
      "term                 frequency\n",
      "\n",
      "motion               0.068\n",
      "order                0.042\n",
      "plaintiff            0.020\n",
      "complaint            0.014\n",
      "dismiss              0.014\n",
      "court                0.013\n",
      "case                 0.012\n",
      "letter               0.012\n",
      "attachment           0.011\n",
      "request              0.009\n"
     ]
    },
    {
     "data": {
      "text/html": [
       "\n",
       "<link rel=\"stylesheet\" type=\"text/css\" href=\"https://cdn.rawgit.com/bmabey/pyLDAvis/files/ldavis.v1.0.0.css\">\n",
       "\n",
       "\n",
       "<div id=\"ldavis_el2506819944928687921257364532\"></div>\n",
       "<script type=\"text/javascript\">\n",
       "\n",
       "var ldavis_el2506819944928687921257364532_data = {\"topic.order\": [2, 1], \"mdsDat\": {\"cluster\": [1, 1], \"topics\": [1, 2], \"Freq\": [50.09467687807515, 49.90532312192485], \"x\": [0.032833591103553765, -0.032833591103553765], \"y\": [0.0, 0.0]}, \"R\": 30, \"tinfo\": {\"Category\": [\"Default\", \"Default\", \"Default\", \"Default\", \"Default\", \"Default\", \"Default\", \"Default\", \"Default\", \"Default\", \"Default\", \"Default\", \"Default\", \"Default\", \"Default\", \"Default\", \"Default\", \"Default\", \"Default\", \"Default\", \"Default\", \"Default\", \"Default\", \"Default\", \"Default\", \"Default\", \"Default\", \"Default\", \"Default\", \"Default\", \"Topic1\", \"Topic1\", \"Topic1\", \"Topic1\", \"Topic1\", \"Topic1\", \"Topic1\", \"Topic1\", \"Topic1\", \"Topic1\", \"Topic1\", \"Topic1\", \"Topic1\", \"Topic1\", \"Topic1\", \"Topic1\", \"Topic1\", \"Topic1\", \"Topic1\", \"Topic1\", \"Topic1\", \"Topic1\", \"Topic1\", \"Topic1\", \"Topic1\", \"Topic1\", \"Topic1\", \"Topic1\", \"Topic1\", \"Topic1\", \"Topic1\", \"Topic1\", \"Topic1\", \"Topic1\", \"Topic1\", \"Topic1\", \"Topic1\", \"Topic1\", \"Topic1\", \"Topic1\", \"Topic1\", \"Topic1\", \"Topic1\", \"Topic1\", \"Topic1\", \"Topic1\", \"Topic1\", \"Topic1\", \"Topic1\", \"Topic1\", \"Topic1\", \"Topic1\", \"Topic1\", \"Topic1\", \"Topic1\", \"Topic1\", \"Topic1\", \"Topic1\", \"Topic1\", \"Topic1\", \"Topic1\", \"Topic1\", \"Topic1\", \"Topic1\", \"Topic1\", \"Topic1\", \"Topic1\", \"Topic1\", \"Topic1\", \"Topic1\", \"Topic1\", \"Topic1\", \"Topic1\", \"Topic2\", \"Topic2\", \"Topic2\", \"Topic2\", \"Topic2\", \"Topic2\", \"Topic2\", \"Topic2\", \"Topic2\", \"Topic2\", \"Topic2\", \"Topic2\", \"Topic2\", \"Topic2\", \"Topic2\", \"Topic2\", \"Topic2\", \"Topic2\", \"Topic2\", \"Topic2\", \"Topic2\", \"Topic2\", \"Topic2\", \"Topic2\", \"Topic2\", \"Topic2\", \"Topic2\", \"Topic2\", \"Topic2\", \"Topic2\", \"Topic2\", \"Topic2\", \"Topic2\", \"Topic2\", \"Topic2\", \"Topic2\", \"Topic2\", \"Topic2\", \"Topic2\", \"Topic2\", \"Topic2\", \"Topic2\", \"Topic2\", \"Topic2\", \"Topic2\", \"Topic2\", \"Topic2\", \"Topic2\", \"Topic2\", \"Topic2\", \"Topic2\", \"Topic2\", \"Topic2\", \"Topic2\", \"Topic2\", \"Topic2\", \"Topic2\", \"Topic2\", \"Topic2\", \"Topic2\", \"Topic2\", \"Topic2\", \"Topic2\", \"Topic2\", \"Topic2\", \"Topic2\", \"Topic2\", \"Topic2\", \"Topic2\", \"Topic2\", \"Topic2\", \"Topic2\", \"Topic2\"], \"Total\": [288.0, 466.0, 532.0, 271.0, 338.0, 143.0, 125.0, 1781.0, 154.0, 225.0, 252.0, 133.0, 79.0, 129.0, 277.0, 120.0, 74.0, 73.0, 307.0, 90.0, 166.0, 40.0, 40.0, 41.0, 90.0, 43.0, 40.0, 41.0, 73.0, 56.0, 12.988771519213866, 41.26640930519248, 29.85588770964749, 24.950185365506286, 41.495649083383576, 11.258504373592036, 41.31028092483492, 12.140066805196179, 288.9937609076666, 8.57203810412452, 8.573669720821039, 20.66293253616745, 12.565116808534704, 32.66512302769902, 13.558302864325299, 13.744577280713834, 46.25265387996275, 41.799602580615776, 48.10950155551502, 8.579306004874528, 41.388741953610854, 16.684218685952995, 56.095107442947594, 21.42975435297347, 16.094379493211537, 38.71172625644642, 13.57571494927763, 13.161306174463505, 14.639491941109117, 27.974140674804175, 47.50932427183406, 125.49975840591729, 53.6028163732351, 271.1373028122106, 466.9676868505717, 39.03749263463577, 133.50836354275162, 120.04074581662942, 64.49942944476861, 338.9317423973263, 34.268205567451886, 54.36751138649607, 72.50378651220143, 277.2889714041519, 307.2801552112669, 2289.8259592947948, 87.8787588460066, 126.26948952972504, 131.16169355152212, 386.9095695703668, 262.65021642069996, 215.84114911049807, 1781.5553874979587, 111.91631631996407, 303.87900558818444, 250.12562993466838, 71.58009687256758, 177.2011020410614, 157.03390911802893, 115.13654947723705, 90.00768484566278, 87.15484414227423, 377.49782004576196, 176.57753717529354, 161.89218841063803, 124.1181931104798, 149.03867562180994, 214.63697740141038, 186.6866631045649, 532.0208988158092, 238.58605801622514, 161.437517618929, 232.35868679683773, 24.483108348530923, 40.31643993066047, 40.3132211955856, 40.26972487546093, 17.533854715806694, 15.271032434953675, 43.29528423201137, 38.57972346128445, 13.070743189538202, 11.173407781260046, 11.172408308143947, 12.872602998643076, 12.076792747202452, 12.075859534487119, 12.071030169883034, 15.903906366507844, 79.49409511223162, 27.781157553895092, 74.13922711237836, 73.16918699469498, 18.147091555703103, 16.444944241448383, 39.26470115215895, 13.710583677455613, 25.494511119640073, 19.238396409174282, 38.34151420837947, 11.022953141455496, 45.772853092163984, 31.076229580898367, 143.3037080485073, 44.679780939266195, 90.63602213592011, 47.39954588473237, 154.15245274101042, 73.57313857083209, 129.3884064192276, 532.0208988158092, 90.04020603272863, 225.73770662812962, 41.93253758164416, 72.84700082542864, 40.8544409458211, 252.42991753093509, 166.60903782926619, 76.61354278753299, 1781.5553874979587, 115.60415951764129, 104.6424840589925, 166.37606051192233, 232.35868679683773, 122.22917523660993, 2289.8259592947948, 377.49782004576196, 238.58605801622514, 174.52471789363813, 107.06731564451135, 150.7571679888786, 214.63697740141038, 134.97686346941796, 303.87900558818444, 386.9095695703668, 186.6866631045649, 250.12562993466838, 114.66918719727765, 262.65021642069996, 307.2801552112669, 466.9676868505717, 161.437517618929, 338.9317423973263, 277.2889714041519, 176.57753717529354, 215.84114911049807], \"loglift\": [30.0, 29.0, 28.0, 27.0, 26.0, 25.0, 24.0, 23.0, 22.0, 21.0, 20.0, 19.0, 18.0, 17.0, 16.0, 15.0, 14.0, 13.0, 12.0, 11.0, 10.0, 9.0, 8.0, 7.0, 6.0, 5.0, 4.0, 3.0, 2.0, 1.0, 0.6008, 0.5859, 0.5813, 0.5808, 0.5768, 0.5653, 0.5633, 0.5556, 0.5438, 0.5418, 0.5376, 0.5369, 0.5368, 0.5367, 0.5363, 0.5315, 0.5255, 0.5239, 0.5231, 0.523, 0.5218, 0.5204, 0.5159, 0.5111, 0.5086, 0.5077, 0.5076, 0.5064, 0.5047, 0.5029, 0.5011, 0.4902, 0.4927, 0.4568, 0.4197, 0.4923, 0.4425, 0.445, 0.4644, 0.3622, 0.4839, 0.4544, 0.4301, 0.3192, 0.2901, 0.0583, 0.3818, 0.3409, 0.3343, 0.192, 0.2323, 0.2211, -0.1837, 0.3125, 0.0956, 0.1005, 0.3978, 0.146, 0.1663, 0.2482, 0.324, 0.328, -0.1782, 0.0849, 0.1078, 0.1988, 0.1038, -0.0909, -0.0272, -0.5566, -0.2589, -0.0022, -0.4001, 0.6094, 0.6093, 0.6078, 0.5862, 0.5837, 0.5787, 0.5735, 0.5687, 0.5595, 0.5558, 0.554, 0.5473, 0.5402, 0.5385, 0.53, 0.5266, 0.5212, 0.5204, 0.5184, 0.5156, 0.515, 0.5138, 0.5107, 0.5096, 0.5083, 0.5042, 0.5034, 0.4971, 0.4938, 0.4936, 0.4804, 0.4871, 0.4698, 0.483, 0.4412, 0.4685, 0.4326, 0.3566, 0.4451, 0.3799, 0.477, 0.4374, 0.4774, 0.3466, 0.3695, 0.4272, 0.1557, 0.3772, 0.387, 0.3334, 0.2859, 0.35, -0.0621, 0.1517, 0.2061, 0.2201, 0.3117, 0.2146, 0.0837, 0.2, -0.1062, -0.2388, 0.0265, -0.1121, 0.2295, -0.3044, -0.4122, -0.7412, 0.0022, -0.5766, -0.474, -0.0932, -0.2855], \"Freq\": [288.0, 466.0, 532.0, 271.0, 338.0, 143.0, 125.0, 1781.0, 154.0, 225.0, 252.0, 133.0, 79.0, 129.0, 277.0, 120.0, 74.0, 73.0, 307.0, 90.0, 166.0, 40.0, 40.0, 41.0, 90.0, 43.0, 40.0, 41.0, 73.0, 56.0, 11.86549575741612, 37.139737031687076, 26.746935409979262, 22.34076626638544, 37.00721631484744, 9.92597366726301, 36.3493999464622, 10.59978566154143, 249.363905461355, 7.381721938828435, 7.352325829293013, 17.70722504186511, 10.766473167578114, 27.98668168123106, 11.6121278130735, 11.714804910782076, 39.18771043689484, 35.358264375514366, 40.661209676471515, 7.2507881757627155, 34.93601788508249, 14.063661857698808, 47.07220527238892, 17.896834754187562, 13.407265531309898, 32.22144948214681, 11.298427720566485, 10.940020075892567, 12.148017970080815, 23.170750841467154, 39.28384335271057, 102.64479433693431, 43.94945644275504, 214.4618445630494, 355.91466276595827, 31.9938769003853, 104.10527549136847, 93.8340187160483, 51.41082010372055, 243.90456124102306, 27.851746686295765, 42.90177136826187, 55.839800868088055, 191.14802087316872, 205.736279730019, 1215.9118068369755, 64.49194105513055, 88.94805727535903, 91.78323829915055, 234.8364996414363, 165.97252419311576, 134.87865626768078, 742.6604505487086, 76.62893044577697, 167.50595457918683, 138.54124015992605, 53.373888639872526, 102.72429188450188, 92.89464956687068, 73.92298771278406, 62.33944263730195, 60.609628917915735, 158.2429152191488, 96.29695443702262, 90.33074410581365, 75.85522872880024, 82.8303096532693, 98.17451040055704, 91.01452223180287, 152.75997391085457, 92.26009956342098, 80.6908871971129, 78.01437881350539, 22.473080243101418, 37.00461933037743, 36.94350210353617, 36.116339743365536, 15.686707184322543, 13.593294931797939, 38.34073910363899, 34.00125743906654, 11.413357942210352, 9.721322986857496, 9.702342257800579, 11.104101273743806, 10.344094761294214, 10.326377354968669, 10.23452339340888, 13.43782386760898, 66.81029240310828, 23.33052528312136, 62.135088128088924, 61.1521839181724, 15.15783313315855, 13.71891060133198, 32.653709073858586, 11.390388531603856, 21.152523946944513, 15.895528151240724, 31.65431062583565, 9.043200791299498, 37.430504264855486, 25.407081906929353, 115.62352186534626, 36.290832720726534, 72.35868640535878, 38.341760469694016, 119.59437892990073, 58.65622473960658, 99.52106824608586, 379.2609249049546, 70.12891251806188, 164.71362801513888, 33.71732385338572, 56.30121407663477, 32.86230661695223, 178.16472243424312, 120.31907933005898, 58.6114864353494, 1038.89493694925, 84.12367844089347, 76.89975401742532, 115.8888299349631, 154.34430798333236, 86.55910932546429, 1073.9141524578192, 219.25490482661317, 146.32595845280417, 108.5448208686218, 72.97429008455849, 93.24509507403006, 116.46246700085335, 82.27331733257081, 136.3730510089976, 152.0730699289305, 95.67214087276201, 111.58438977474232, 71.98601134761853, 96.6776922275842, 101.54387548124794, 111.05302408461344, 80.74663042181609, 95.02718115630324, 86.14095053098315, 80.28058273827092, 80.96249284281728], \"logprob\": [30.0, 29.0, 28.0, 27.0, 26.0, 25.0, 24.0, 23.0, 22.0, 21.0, 20.0, 19.0, 18.0, 17.0, 16.0, 15.0, 14.0, 13.0, 12.0, 11.0, 10.0, 9.0, 8.0, 7.0, 6.0, 5.0, 4.0, 3.0, 2.0, 1.0, -7.310800075531006, -6.1697998046875, -6.498000144958496, -6.677999973297119, -6.173299789428711, -7.489299774169922, -6.191299915313721, -7.423600196838379, -4.265500068664551, -7.785399913787842, -7.789400100708008, -6.9105000495910645, -7.4079999923706055, -6.452700138092041, -7.332399845123291, -7.323599815368652, -6.116099834442139, -6.218900203704834, -6.07919979095459, -7.803299903869629, -6.230899810791016, -7.140900135040283, -5.932799816131592, -6.899799823760986, -7.188700199127197, -6.311800003051758, -7.359799861907959, -7.392000198364258, -7.287300109863281, -6.641600131988525, -6.11359977722168, -5.153200149536133, -6.001399993896484, -4.416299819946289, -3.9098000526428223, -6.318900108337402, -5.139100074768066, -5.2428998947143555, -5.844600200653076, -4.287700176239014, -6.457600116729736, -6.0254998207092285, -5.76200008392334, -4.531400203704834, -4.457900047302246, -2.6812000274658203, -5.6178998947143555, -5.29640007019043, -5.264999866485596, -4.3256001472473145, -4.672599792480469, -4.880099773406982, -3.1742000579833984, -5.445499897003174, -4.663400173187256, -4.853300094604492, -5.80709981918335, -5.152400016784668, -5.252999782562256, -5.481400012969971, -5.651899814605713, -5.679999828338623, -4.720300197601318, -5.2170000076293945, -5.281000137329102, -5.455599784851074, -5.367700099945068, -5.197700023651123, -5.273399829864502, -4.7555999755859375, -5.259799957275391, -5.393799781799316, -5.427599906921387, -6.668300151824951, -6.169600009918213, -6.171299934387207, -6.193900108337402, -7.027900218963623, -7.17110013961792, -6.134200096130371, -6.254300117492676, -7.345900058746338, -7.50629997253418, -7.508299827575684, -7.3734002113342285, -7.444300174713135, -7.446000099182129, -7.454899787902832, -7.182600021362305, -5.578800201416016, -6.630899906158447, -5.651400089263916, -5.667300224304199, -7.062099933624268, -7.161900043487549, -6.2947001457214355, -7.347899913787842, -6.728899955749512, -7.014599800109863, -6.325799942016602, -7.578700065612793, -6.158199787139893, -6.545599937438965, -5.030300140380859, -6.1890997886657715, -5.499000072479248, -6.134099960327148, -4.996600151062012, -5.709000110626221, -5.180300235748291, -3.842400074005127, -5.530300140380859, -4.676499843597412, -6.262700080871582, -5.75, -6.288300037384033, -4.5980000495910645, -4.990499973297119, -5.709700107574463, -2.8348000049591064, -5.348400115966797, -5.438199996948242, -5.0279998779296875, -4.741499900817871, -5.319799900054932, -2.8015999794006348, -4.390399932861328, -4.7947998046875, -5.093500137329102, -5.490600109100342, -5.2453999519348145, -5.023099899291992, -5.37060022354126, -4.865300178527832, -4.75629997253418, -5.219699859619141, -5.065899848937988, -5.504199981689453, -5.2093000411987305, -5.160200119018555, -5.070700168609619, -5.389400005340576, -5.226500034332275, -5.324699878692627, -5.395100116729736, -5.38670015335083], \"Term\": [\"complaint\", \"plaintiff\", \"notice\", \"case\", \"dismiss\", \"due\", \"djc\", \"order\", \"judgment\", \"summary_judgment\", \"schedule\", \"sign_magistrate\", \"serve_answer_due\", \"declaration_opposition\", \"attachment\", \"minute_entry_proceeding_hold\", \"service_accept\", \"notice_appeal\", \"letter\", \"service\", \"conference\", \"public_terminal_purchase_court\", \"reportertranscriber_deadline_release_transcript\", \"court_reportertranscriber_abovecaptioned_matter\", \"trial\", \"restriction\", \"transcript_may_view_court\", \"respond\", \"sign_iii\", \"see\", \"claim_assert\", \"court_reportertranscriber_abovecaptioned_matter\", \"would\", \"conference_proceed_hold\", \"respond\", \"conference_call\", \"official_transcript_notice\", \"deny_part\", \"complaint\", \"new_york_observer_l.p.\", \"line\", \"york_ny_magistrate\", \"unredacted\", \"complete\", \"grant_part\", \"usca\", \"copy_send_chamber\", \"cotton\", \"extension_time\", \"hereby_stipulate_agree_undersigned\", \"hereby_give_official_transcript\", \"kgo\", \"see\", \"reply_due\", \"dismissal_without_prejudice\", \"release_transcript_restriction_set\", \"award\", \".._document\", \"summons_return_execute\", \"courtroom_pearl_street_new\", \"sac\", \"djc\", \"dismiss_second_amend\", \"case\", \"plaintiff\", \"supplemental_amend\", \"sign_magistrate\", \"minute_entry_proceeding_hold\", \"keely\", \"dismiss\", \"counterclaim\", \"v.\", \"pl\", \"attachment\", \"letter\", \"motion\", \"notice_appearance_behalf\", \"submit\", \"opposition\", \"court\", \"stipulation\", \"counsel\", \"order\", \"response\", \"request\", \"magistrate\", \"han\", \"declaration_support\", \"amend_complaint\", \"declaration\", \"leave\", \"address\", \"sign\", \"may\", \"hereby\", \"march\", \"propose\", \"'\", \"action\", \"notice\", \"grant\", \"discovery\", \"memorandum_law_support\", \"summary_judgment_favor_november\", \"public_terminal_purchase_court\", \"reportertranscriber_deadline_release_transcript\", \"transcript_may_view_court\", \"p.m\", \"hedge_strategy_fund_ibex\", \"restriction\", \"tp\", \"specific\", \"telephone\", \"cross\", \"tape\", \"magnum_special_situation_fund\", \"absolute_return_fund_l.p.\", \"magnum_growth_fund_l.p.\", \"set_answer_due\", \"serve_answer_due\", \"notice_adoption_master\", \"service_accept\", \"notice_appeal\", \"international\", \"office_p.c\", \"transmit\", \"confidential\", \"memorandum_support\", \"contact\", \"rule_corporate_disclosure_statement\", \"modify_ldi\", \"sign_gr\", \"email\", \"due\", \"fee_receipt_number\", \"service\", \"submission\", \"judgment\", \"sign_iii\", \"declaration_opposition\", \"notice\", \"trial\", \"summary_judgment\", \"transcript\", \"december\", \"court_reportertranscriber\", \"schedule\", \"conference\", \"p.c\", \"order\", \"follow\", \"deny\", \"serve\", \"memorandum_law_support\", \"mro\", \"motion\", \"sign\", \"grant\", \"l.p.\", \"endorsed_letter_address\", \"claim\", \"'\", \"regard\", \"request\", \"court\", \"action\", \"magistrate\", \"april\", \"stipulation\", \"letter\", \"plaintiff\", \"discovery\", \"dismiss\", \"attachment\", \"may\", \"counsel\"]}, \"token.table\": {\"Freq\": [0.45658488666061525, 0.5404474168635854, 0.8357833070810994, 0.1519606012874726, 0.1656196806768292, 0.828098403384146, 0.4874477827536618, 0.5142306279599069, 0.6999037242315727, 0.30979345170905676, 0.5922287773534305, 0.40755528764107046, 0.37499175716683597, 0.6278931747909812, 0.68881210468921, 0.31014576441503694, 0.8102704013084272, 0.14732189114698677, 0.7892680121119896, 0.2102255920111374, 0.3847246586927043, 0.6168860906624396, 0.9238749008902644, 0.0769895750741887, 0.8616102964228193, 0.13841129259804325, 0.8571833627032986, 0.15306845762558904, 0.2760954663644288, 0.7202490426898142, 0.8882174459563221, 0.0888217445956322, 0.8817569760589864, 0.12023958764440724, 0.14587271023979897, 0.8022999063188944, 0.15593815285817583, 0.8316701485769377, 0.8431948597201534, 0.1513426671292583, 0.8373285351815991, 0.14354203460255985, 0.6254599762665639, 0.3752759857599383, 0.8170839276916951, 0.1750894130767918, 0.607377068137522, 0.3928566568378866, 0.1958171453284395, 0.8077457244798129, 0.8966130231094362, 0.09693113763345255, 0.8221879008678791, 0.17873650018866938, 0.08950621678148535, 0.8950621678148535, 0.23336581887206295, 0.7687344621667956, 0.6427151094590523, 0.35609891199758303, 0.23186003159199498, 0.7728667719733167, 0.5812604933807501, 0.4176046263123836, 0.2675777458055652, 0.7358388009653043, 0.9060905657695221, 0.1647437392308222, 0.5017421055197303, 0.5017421055197303, 0.7199089653690838, 0.28029242504124163, 0.8208523912928208, 0.18655736165745926, 0.8077353964148343, 0.186400476095731, 0.8207187114006712, 0.1832672850700528, 0.1953892218233613, 0.8094696332682111, 0.19307361545842167, 0.8044733977434236, 0.31755722832248817, 0.6818140490453423, 0.8522225064562112, 0.14550140354130436, 0.17905190741365773, 0.8057335833614597, 0.2681564411639477, 0.7266174534765034, 0.3856050968147665, 0.6119385232060426, 0.8850665249243314, 0.14751108748738856, 0.7404292857322433, 0.25146654987132794, 0.1309669145500749, 0.9167684018505242, 0.5559255260155965, 0.4447404208124772, 0.8456405860131856, 0.1449669576022604, 0.815916811455704, 0.11655954449367201, 0.16531574719791323, 0.8265787359895661, 0.22704796049403803, 0.7784501502652733, 0.7907046688478341, 0.20155217049062438, 0.8391163088618031, 0.1798106376132435, 0.37816992799967086, 0.6245533659388504, 0.6888300716356844, 0.31108454848063166, 0.6703979951401908, 0.33194463837038574, 0.8164531907498834, 0.11663617010712621, 0.5557207393592817, 0.44777498423193923, 0.1656859416183018, 0.828429708091509, 0.16560688271008817, 0.8280344135504408, 0.6123195810009179, 0.38672815642163233, 0.543670511752002, 0.453058759793335, 0.3356879016457823, 0.662768421198083, 0.15689651710632493, 0.8237067148082059, 0.7830674439793263, 0.21659312280279236, 0.18143958105730598, 0.8164781147578769, 0.5310447263749667, 0.46903127970946895, 0.2945286993085864, 0.7117776899957504, 0.8166085958754525, 0.11665837083935036, 0.28758268771123985, 0.7123780303435288, 0.1439824813721333, 0.8278992678897664, 0.16400346228898294, 0.8336842666356633, 0.728276102671747, 0.2617242243976591, 0.18242688792089065, 0.8513254769641563, 0.8714537687483388, 0.12103524565949149, 0.7014243069670424, 0.29734291273602886, 0.4170513054008832, 0.583198258831114, 0.23494540710534884, 0.7700988344008656, 0.11406504915299708, 0.9125203932239766, 0.7723734537723205, 0.23447051275231157, 0.7623653842110899, 0.23770381361637916, 0.5569024258549838, 0.44283807357143296, 0.07441133208089917, 0.9177397623310898, 0.3926598873147496, 0.60751152376999, 0.826622914928038, 0.1549917965490071, 0.8399536319231032, 0.18665636264957852, 0.07441727331698583, 0.9178130375761586, 0.5528516182775486, 0.4475465481294441, 0.8916597478846571, 0.09639564841996293, 0.6880140674024708, 0.3127336670011231, 0.11548601859745118, 0.877693741340629, 0.18256973269120816, 0.8346044923026659, 0.8208914902020861, 0.1683879979901715, 0.2931506721699553, 0.7051462114358384, 0.8378627324638265, 0.16044179983349868, 0.30052400475257707, 0.6972156910259788, 0.16353415913026365, 0.8428298970559742, 0.1985965356357623, 0.7943861425430492, 0.1618576355241835, 0.8362644502082813, 0.12575526753677418, 0.8174092389890322, 0.4185454633376334, 0.5801358004489983, 0.17477608362956837, 0.8083393867867538, 0.2038787564507506, 0.8019231087062857, 0.7789774156485518, 0.2172148562866154, 0.15301348752692168, 0.8415741813980692, 0.6320192774336402, 0.3693124693437536, 0.18987523681949334, 0.8016954443489719, 0.7048416868672662, 0.293024072068414, 0.2702251250407568, 0.730936813634834, 0.0816889739459903, 0.8985787134058932, 0.8197005776069887, 0.13661676293449812, 0.8197247784200208, 0.17931479527937955, 0.15536873157750794, 0.8545280236762937, 0.0894982103559482, 0.8949821035594819, 0.12960175842156058, 0.8812919572666118, 0.19078263471233314, 0.8108261975274159, 0.09933020432522177, 0.8939718389269959, 0.17827717503498963, 0.8404495394506654, 0.22212299239664354, 0.7774304733882524, 0.875439533719924, 0.15917082431271345, 0.8730715943398422, 0.1455119323899737, 0.7909135235989566, 0.20232671533926797, 0.9043442373101955, 0.10048269303446616, 0.8711251400784291, 0.14518752334640486], \"Topic\": [1, 2, 1, 2, 1, 2, 1, 2, 1, 2, 1, 2, 1, 2, 1, 2, 1, 2, 1, 2, 1, 2, 1, 2, 1, 2, 1, 2, 1, 2, 1, 2, 1, 2, 1, 2, 1, 2, 1, 2, 1, 2, 1, 2, 1, 2, 1, 2, 1, 2, 1, 2, 1, 2, 1, 2, 1, 2, 1, 2, 1, 2, 1, 2, 1, 2, 1, 2, 1, 2, 1, 2, 1, 2, 1, 2, 1, 2, 1, 2, 1, 2, 1, 2, 1, 2, 1, 2, 1, 2, 1, 2, 1, 2, 1, 2, 1, 2, 1, 2, 1, 2, 1, 2, 1, 2, 1, 2, 1, 2, 1, 2, 1, 2, 1, 2, 1, 2, 1, 2, 1, 2, 1, 2, 1, 2, 1, 2, 1, 2, 1, 2, 1, 2, 1, 2, 1, 2, 1, 2, 1, 2, 1, 2, 1, 2, 1, 2, 1, 2, 1, 2, 1, 2, 1, 2, 1, 2, 1, 2, 1, 2, 1, 2, 1, 2, 1, 2, 1, 2, 1, 2, 1, 2, 1, 2, 1, 2, 1, 2, 1, 2, 1, 2, 1, 2, 1, 2, 1, 2, 1, 2, 1, 2, 1, 2, 1, 2, 1, 2, 1, 2, 1, 2, 1, 2, 1, 2, 1, 2, 1, 2, 1, 2, 1, 2, 1, 2, 1, 2, 1, 2, 1, 2, 1, 2, 1, 2, 1, 2, 1, 2, 1, 2, 1, 2, 1, 2, 1, 2, 1, 2, 1, 2, 1, 2, 1, 2, 1, 2, 1, 2, 1, 2], \"Term\": [\"'\", \"'\", \".._document\", \".._document\", \"absolute_return_fund_l.p.\", \"absolute_return_fund_l.p.\", \"action\", \"action\", \"address\", \"address\", \"amend_complaint\", \"amend_complaint\", \"april\", \"april\", \"attachment\", \"attachment\", \"award\", \"award\", \"case\", \"case\", \"claim\", \"claim\", \"claim_assert\", \"claim_assert\", \"complaint\", \"complaint\", \"complete\", \"complete\", \"conference\", \"conference\", \"conference_call\", \"conference_call\", \"conference_proceed_hold\", \"conference_proceed_hold\", \"confidential\", \"confidential\", \"contact\", \"contact\", \"copy_send_chamber\", \"copy_send_chamber\", \"cotton\", \"cotton\", \"counsel\", \"counsel\", \"counterclaim\", \"counterclaim\", \"court\", \"court\", \"court_reportertranscriber\", \"court_reportertranscriber\", \"court_reportertranscriber_abovecaptioned_matter\", \"court_reportertranscriber_abovecaptioned_matter\", \"courtroom_pearl_street_new\", \"courtroom_pearl_street_new\", \"cross\", \"cross\", \"december\", \"december\", \"declaration\", \"declaration\", \"declaration_opposition\", \"declaration_opposition\", \"declaration_support\", \"declaration_support\", \"deny\", \"deny\", \"deny_part\", \"deny_part\", \"discovery\", \"discovery\", \"dismiss\", \"dismiss\", \"dismiss_second_amend\", \"dismiss_second_amend\", \"dismissal_without_prejudice\", \"dismissal_without_prejudice\", \"djc\", \"djc\", \"due\", \"due\", \"email\", \"email\", \"endorsed_letter_address\", \"endorsed_letter_address\", \"extension_time\", \"extension_time\", \"fee_receipt_number\", \"fee_receipt_number\", \"follow\", \"follow\", \"grant\", \"grant\", \"grant_part\", \"grant_part\", \"han\", \"han\", \"hedge_strategy_fund_ibex\", \"hedge_strategy_fund_ibex\", \"hereby\", \"hereby\", \"hereby_give_official_transcript\", \"hereby_give_official_transcript\", \"hereby_stipulate_agree_undersigned\", \"hereby_stipulate_agree_undersigned\", \"international\", \"international\", \"judgment\", \"judgment\", \"keely\", \"keely\", \"kgo\", \"kgo\", \"l.p.\", \"l.p.\", \"leave\", \"leave\", \"letter\", \"letter\", \"line\", \"line\", \"magistrate\", \"magistrate\", \"magnum_growth_fund_l.p.\", \"magnum_growth_fund_l.p.\", \"magnum_special_situation_fund\", \"magnum_special_situation_fund\", \"march\", \"march\", \"may\", \"may\", \"memorandum_law_support\", \"memorandum_law_support\", \"memorandum_support\", \"memorandum_support\", \"minute_entry_proceeding_hold\", \"minute_entry_proceeding_hold\", \"modify_ldi\", \"modify_ldi\", \"motion\", \"motion\", \"mro\", \"mro\", \"new_york_observer_l.p.\", \"new_york_observer_l.p.\", \"notice\", \"notice\", \"notice_adoption_master\", \"notice_adoption_master\", \"notice_appeal\", \"notice_appeal\", \"notice_appearance_behalf\", \"notice_appearance_behalf\", \"office_p.c\", \"office_p.c\", \"official_transcript_notice\", \"official_transcript_notice\", \"opposition\", \"opposition\", \"order\", \"order\", \"p.c\", \"p.c\", \"p.m\", \"p.m\", \"pl\", \"pl\", \"plaintiff\", \"plaintiff\", \"propose\", \"propose\", \"public_terminal_purchase_court\", \"public_terminal_purchase_court\", \"regard\", \"regard\", \"release_transcript_restriction_set\", \"release_transcript_restriction_set\", \"reply_due\", \"reply_due\", \"reportertranscriber_deadline_release_transcript\", \"reportertranscriber_deadline_release_transcript\", \"request\", \"request\", \"respond\", \"respond\", \"response\", \"response\", \"restriction\", \"restriction\", \"rule_corporate_disclosure_statement\", \"rule_corporate_disclosure_statement\", \"sac\", \"sac\", \"schedule\", \"schedule\", \"see\", \"see\", \"serve\", \"serve\", \"serve_answer_due\", \"serve_answer_due\", \"service\", \"service\", \"service_accept\", \"service_accept\", \"set_answer_due\", \"set_answer_due\", \"sign\", \"sign\", \"sign_gr\", \"sign_gr\", \"sign_iii\", \"sign_iii\", \"sign_magistrate\", \"sign_magistrate\", \"specific\", \"specific\", \"stipulation\", \"stipulation\", \"submission\", \"submission\", \"submit\", \"submit\", \"summary_judgment\", \"summary_judgment\", \"summary_judgment_favor_november\", \"summary_judgment_favor_november\", \"summons_return_execute\", \"summons_return_execute\", \"supplemental_amend\", \"supplemental_amend\", \"tape\", \"tape\", \"telephone\", \"telephone\", \"tp\", \"tp\", \"transcript\", \"transcript\", \"transcript_may_view_court\", \"transcript_may_view_court\", \"transmit\", \"transmit\", \"trial\", \"trial\", \"unredacted\", \"unredacted\", \"usca\", \"usca\", \"v.\", \"v.\", \"would\", \"would\", \"york_ny_magistrate\", \"york_ny_magistrate\"]}, \"lambda.step\": 0.01, \"plot.opts\": {\"ylab\": \"PC2\", \"xlab\": \"PC1\"}};\n",
       "\n",
       "function LDAvis_load_lib(url, callback){\n",
       "  var s = document.createElement('script');\n",
       "  s.src = url;\n",
       "  s.async = true;\n",
       "  s.onreadystatechange = s.onload = callback;\n",
       "  s.onerror = function(){console.warn(\"failed to load library \" + url);};\n",
       "  document.getElementsByTagName(\"head\")[0].appendChild(s);\n",
       "}\n",
       "\n",
       "if(typeof(LDAvis) !== \"undefined\"){\n",
       "   // already loaded: just create the visualization\n",
       "   !function(LDAvis){\n",
       "       new LDAvis(\"#\" + \"ldavis_el2506819944928687921257364532\", ldavis_el2506819944928687921257364532_data);\n",
       "   }(LDAvis);\n",
       "}else if(typeof define === \"function\" && define.amd){\n",
       "   // require.js is available: use it to load d3/LDAvis\n",
       "   require.config({paths: {d3: \"https://cdnjs.cloudflare.com/ajax/libs/d3/3.5.5/d3.min\"}});\n",
       "   require([\"d3\"], function(d3){\n",
       "      window.d3 = d3;\n",
       "      LDAvis_load_lib(\"https://cdn.rawgit.com/bmabey/pyLDAvis/files/ldavis.v1.0.0.js\", function(){\n",
       "        new LDAvis(\"#\" + \"ldavis_el2506819944928687921257364532\", ldavis_el2506819944928687921257364532_data);\n",
       "      });\n",
       "    });\n",
       "}else{\n",
       "    // require.js not available: dynamically load d3 & LDAvis\n",
       "    LDAvis_load_lib(\"https://cdnjs.cloudflare.com/ajax/libs/d3/3.5.5/d3.min.js\", function(){\n",
       "         LDAvis_load_lib(\"https://cdn.rawgit.com/bmabey/pyLDAvis/files/ldavis.v1.0.0.js\", function(){\n",
       "                 new LDAvis(\"#\" + \"ldavis_el2506819944928687921257364532\", ldavis_el2506819944928687921257364532_data);\n",
       "            })\n",
       "         });\n",
       "}\n",
       "</script>"
      ],
      "text/plain": [
       "<IPython.core.display.HTML object>"
      ]
     },
     "execution_count": 156,
     "metadata": {},
     "output_type": "execute_result"
    }
   ],
   "source": [
    "num_topics = 2\n",
    "pretrained_model_file_path = 'docket_texts/lda_model_noorgnomodel_' + str(num_topics)\n",
    "column_name = str(num_topics) + '-topic Model Classificaiton'\n",
    "\n",
    "topic_names = {}\n",
    "for i in range(num_topics):\n",
    "    topic_names[i] = 'Topic ' + str(i)\n",
    "\n",
    "LDAvis_prepared, model = topic_modeling_pipeline(num_topics, pretrained_model_file_path, trigram_bow_corpus, trigram_dictionary, export = True)\n",
    "topic_summary = []\n",
    "\n",
    "for docket_text in list(new_df['Apply Trigram Phrase Model']):\n",
    "    #print(docket_text)\n",
    "    topic_summary.append(lda_description(docket_text, model, trigram_dictionary, topic_names))\n",
    "\n",
    "new_df[column_name] = topic_summary\n",
    "pyLDAvis.display(LDAvis_prepared)"
   ]
  },
  {
   "cell_type": "markdown",
   "metadata": {},
   "source": [
    "### 3 Topics:"
   ]
  },
  {
   "cell_type": "code",
   "execution_count": 157,
   "metadata": {},
   "outputs": [
    {
     "name": "stdout",
     "output_type": "stream",
     "text": [
      "\n",
      " Topic 1's make-up:\n",
      "term                 frequency\n",
      "\n",
      "motion               0.090\n",
      "order                0.068\n",
      "plaintiff            0.020\n",
      "notice               0.015\n",
      "court                0.014\n",
      "case                 0.013\n",
      "complaint            0.011\n",
      "schedule             0.011\n",
      "dismiss              0.011\n",
      "letter               0.011\n",
      "\n",
      " Topic 2's make-up:\n",
      "term                 frequency\n",
      "\n",
      "sign                 0.035\n",
      "motion               0.033\n",
      "attachment           0.015\n",
      "request              0.015\n",
      "order                0.012\n",
      "letter               0.012\n",
      "serve                0.012\n",
      "notice               0.011\n",
      "mro                  0.011\n",
      "sign_magistrate      0.011\n",
      "\n",
      " Topic 3's make-up:\n",
      "term                 frequency\n",
      "\n",
      "order                0.053\n",
      "motion               0.051\n",
      "notice               0.018\n",
      "magistrate           0.015\n",
      "stipulation          0.014\n",
      "counsel              0.011\n",
      "dismiss              0.011\n",
      "plaintiff            0.010\n",
      "may                  0.009\n",
      "hereby               0.009\n"
     ]
    },
    {
     "data": {
      "text/html": [
       "\n",
       "<link rel=\"stylesheet\" type=\"text/css\" href=\"https://cdn.rawgit.com/bmabey/pyLDAvis/files/ldavis.v1.0.0.css\">\n",
       "\n",
       "\n",
       "<div id=\"ldavis_el2506819942981137449981974358\"></div>\n",
       "<script type=\"text/javascript\">\n",
       "\n",
       "var ldavis_el2506819942981137449981974358_data = {\"topic.order\": [1, 3, 2], \"mdsDat\": {\"cluster\": [1, 1, 1], \"topics\": [1, 2, 3], \"Freq\": [50.60288566640728, 26.727764268693733, 22.669350064898993], \"x\": [-0.06403391654505781, -0.0341938070553762, 0.09822772360043396], \"y\": [0.05281167472569703, -0.06471235393053382, 0.011900679204836744]}, \"R\": 30, \"tinfo\": {\"Category\": [\"Default\", \"Default\", \"Default\", \"Default\", \"Default\", \"Default\", \"Default\", \"Default\", \"Default\", \"Default\", \"Default\", \"Default\", \"Default\", \"Default\", \"Default\", \"Default\", \"Default\", \"Default\", \"Default\", \"Default\", \"Default\", \"Default\", \"Default\", \"Default\", \"Default\", \"Default\", \"Default\", \"Default\", \"Default\", \"Default\", \"Topic1\", \"Topic1\", \"Topic1\", \"Topic1\", \"Topic1\", \"Topic1\", \"Topic1\", \"Topic1\", \"Topic1\", \"Topic1\", \"Topic1\", \"Topic1\", \"Topic1\", \"Topic1\", \"Topic1\", \"Topic1\", \"Topic1\", \"Topic1\", \"Topic1\", \"Topic1\", \"Topic1\", \"Topic1\", \"Topic1\", \"Topic1\", \"Topic1\", \"Topic1\", \"Topic1\", \"Topic1\", \"Topic1\", \"Topic1\", \"Topic1\", \"Topic1\", \"Topic1\", \"Topic1\", \"Topic1\", \"Topic1\", \"Topic1\", \"Topic1\", \"Topic1\", \"Topic1\", \"Topic1\", \"Topic1\", \"Topic1\", \"Topic1\", \"Topic1\", \"Topic1\", \"Topic1\", \"Topic1\", \"Topic1\", \"Topic1\", \"Topic1\", \"Topic1\", \"Topic1\", \"Topic1\", \"Topic1\", \"Topic1\", \"Topic1\", \"Topic1\", \"Topic1\", \"Topic1\", \"Topic1\", \"Topic1\", \"Topic1\", \"Topic1\", \"Topic1\", \"Topic1\", \"Topic1\", \"Topic2\", \"Topic2\", \"Topic2\", \"Topic2\", \"Topic2\", \"Topic2\", \"Topic2\", \"Topic2\", \"Topic2\", \"Topic2\", \"Topic2\", \"Topic2\", \"Topic2\", \"Topic2\", \"Topic2\", \"Topic2\", \"Topic2\", \"Topic2\", \"Topic2\", \"Topic2\", \"Topic2\", \"Topic2\", \"Topic2\", \"Topic2\", \"Topic2\", \"Topic2\", \"Topic2\", \"Topic2\", \"Topic2\", \"Topic2\", \"Topic2\", \"Topic2\", \"Topic2\", \"Topic2\", \"Topic2\", \"Topic2\", \"Topic2\", \"Topic2\", \"Topic2\", \"Topic2\", \"Topic2\", \"Topic2\", \"Topic2\", \"Topic2\", \"Topic2\", \"Topic2\", \"Topic2\", \"Topic2\", \"Topic2\", \"Topic2\", \"Topic2\", \"Topic2\", \"Topic2\", \"Topic2\", \"Topic2\", \"Topic2\", \"Topic2\", \"Topic2\", \"Topic2\", \"Topic2\", \"Topic2\", \"Topic2\", \"Topic3\", \"Topic3\", \"Topic3\", \"Topic3\", \"Topic3\", \"Topic3\", \"Topic3\", \"Topic3\", \"Topic3\", \"Topic3\", \"Topic3\", \"Topic3\", \"Topic3\", \"Topic3\", \"Topic3\", \"Topic3\", \"Topic3\", \"Topic3\", \"Topic3\", \"Topic3\", \"Topic3\", \"Topic3\", \"Topic3\", \"Topic3\", \"Topic3\", \"Topic3\", \"Topic3\", \"Topic3\", \"Topic3\", \"Topic3\", \"Topic3\", \"Topic3\", \"Topic3\", \"Topic3\", \"Topic3\", \"Topic3\", \"Topic3\", \"Topic3\", \"Topic3\", \"Topic3\", \"Topic3\", \"Topic3\", \"Topic3\", \"Topic3\", \"Topic3\", \"Topic3\", \"Topic3\", \"Topic3\", \"Topic3\", \"Topic3\", \"Topic3\", \"Topic3\", \"Topic3\", \"Topic3\", \"Topic3\", \"Topic3\", \"Topic3\", \"Topic3\", \"Topic3\", \"Topic3\", \"Topic3\", \"Topic3\", \"Topic3\", \"Topic3\", \"Topic3\"], \"Total\": [357.0, 1813.0, 116.0, 234.0, 127.0, 158.0, 274.0, 254.0, 87.0, 133.0, 308.0, 143.0, 204.0, 74.0, 69.0, 154.0, 45.0, 118.0, 163.0, 169.0, 40.0, 40.0, 68.0, 44.0, 40.0, 144.0, 116.0, 47.0, 320.0, 73.0, 37.21064790813878, 11.841044378267267, 79.24615289049082, 14.501334451674916, 68.37991621088058, 15.06515776801405, 19.33118485610643, 13.955649259580039, 32.613788430329365, 10.93654337620644, 9.495976346064326, 15.26683459423021, 11.617618424636428, 11.034850459618173, 36.75020419685698, 16.770701134581962, 11.959908446303533, 29.008241493913697, 47.5307531095291, 21.29446750834129, 19.087450923423674, 26.93754694701185, 15.180969017943632, 58.5896209758348, 190.89903184792155, 11.93066184515531, 27.938523601826805, 64.34480336414943, 81.62497440472046, 29.87523410131003, 144.66342205287322, 79.87645734073872, 102.20879928819454, 144.82029832940327, 291.6048382689864, 58.86995358482967, 70.50695463257959, 48.41577527546089, 2367.103153799514, 263.12145835682105, 242.774568502277, 134.0390094253519, 1813.883069335748, 492.0229601038027, 77.01320482357576, 164.50130312763338, 92.52489204550578, 81.84725487180731, 303.26514057129185, 82.77931818204698, 398.42839209537925, 220.81557017260602, 320.00664646527997, 154.4030635543042, 345.32516450312767, 522.4687205240048, 132.93981681039773, 176.91919769096185, 123.47075263598542, 226.8245474288555, 308.0476145723869, 240.60528053538553, 120.88587702516092, 254.89346378521122, 117.10794873186735, 274.6292295522776, 164.81788174523527, 37.08547853197357, 22.427504899223702, 37.1003031061676, 26.993135692414704, 17.021926715492114, 13.845057604463092, 13.643891753200174, 13.65246574273938, 7.78240597450992, 14.94668390322367, 40.27336150457069, 69.5947570420528, 35.06655768579368, 36.51816692874293, 43.95872677172933, 16.018831707385324, 10.30410403052614, 21.491765541059745, 87.47095709518699, 35.71401060656103, 31.549517348735332, 33.93261829306487, 16.013741650717293, 35.742766150819435, 16.22775234928224, 12.596012178863953, 45.5653268735001, 11.435560406560013, 7.925542248615669, 36.072287021774976, 34.54478556867716, 39.136621656875995, 234.83966976919424, 58.611678369892715, 73.3952754180147, 254.89346378521122, 154.98767782588973, 204.98564218332936, 169.66293936629327, 118.03488416067587, 98.8358201445788, 145.43213794650612, 114.99665918736729, 1813.883069335748, 101.82493357469745, 133.33427297034967, 180.33010214059067, 2367.103153799514, 522.4687205240048, 115.6032502495101, 116.50781397354322, 85.7613118774511, 114.25785709582605, 345.32516450312767, 492.0229601038027, 82.41642418790163, 398.42839209537925, 303.26514057129185, 274.6292295522776, 128.53637393470376, 357.0834267615966, 144.24614697736652, 22.84948505826737, 13.4701608046926, 45.18594599470826, 40.47985748221565, 35.15304424112564, 40.52618245447225, 12.895907490873311, 40.454672022827246, 17.249765710490745, 17.055346223900393, 16.511612617763504, 16.94341993594085, 44.19003082806224, 19.31405118196136, 36.826949152316175, 31.43729825546029, 24.384995557503714, 23.382367350772185, 15.872147993992451, 16.9929379505888, 15.137960403417209, 38.73832589132496, 22.663758884546763, 12.800083159782428, 38.16497002726261, 37.91711392844867, 24.796627182088265, 47.56703180669027, 34.06005509274125, 13.694127308864376, 357.0834267615966, 116.8912313320607, 47.125027496774166, 74.07680096091175, 43.20162900652881, 127.99688272409259, 33.90990984726608, 50.39100327659732, 41.98823353082362, 158.82492251390357, 45.92666825383506, 68.57188657556122, 45.106321634417846, 35.67053462166916, 274.6292295522776, 143.4499446062614, 308.0476145723869, 163.1364789512765, 144.24614697736652, 320.00664646527997, 101.23570311620287, 2367.103153799514, 240.60528053538553, 133.33427297034967, 522.4687205240048, 226.8245474288555, 114.16648090476616, 398.42839209537925, 111.47181768641599, 1813.883069335748, 113.7102259691782, 204.98564218332936, 164.81788174523527, 345.32516450312767, 492.0229601038027], \"loglift\": [30.0, 29.0, 28.0, 27.0, 26.0, 25.0, 24.0, 23.0, 22.0, 21.0, 20.0, 19.0, 18.0, 17.0, 16.0, 15.0, 14.0, 13.0, 12.0, 11.0, 10.0, 9.0, 8.0, 7.0, 6.0, 5.0, 4.0, 3.0, 2.0, 1.0, 0.6307, 0.6193, 0.6178, 0.6114, 0.6102, 0.6068, 0.6023, 0.6015, 0.5954, 0.5942, 0.589, 0.5844, 0.5842, 0.5842, 0.5823, 0.5803, 0.569, 0.563, 0.5601, 0.5592, 0.5572, 0.5552, 0.5537, 0.5529, 0.5458, 0.5427, 0.5395, 0.5393, 0.5373, 0.5347, 0.5336, 0.5209, 0.5131, 0.4973, 0.4606, 0.5176, 0.5101, 0.5243, 0.2995, 0.4214, 0.422, 0.4566, 0.2848, 0.3575, 0.4822, 0.3633, 0.4241, 0.4372, 0.2916, 0.4253, 0.1978, 0.273, 0.1764, 0.3102, 0.1299, -0.0088, 0.2914, 0.1917, 0.3044, 0.0911, -0.0434, 0.0354, 0.2901, -0.1759, 0.2599, -0.4032, -0.0186, 1.2611, 1.2571, 1.2565, 1.2322, 1.1919, 1.1848, 1.1751, 1.1744, 1.1737, 1.1733, 1.1733, 1.1682, 1.1672, 1.1537, 1.1433, 1.1421, 1.1332, 1.1312, 1.124, 1.1073, 1.1055, 1.1031, 1.0986, 1.0968, 1.0963, 1.0943, 1.0574, 1.0458, 1.0453, 1.0425, 1.0293, 0.9904, 0.8243, 0.9249, 0.8776, 0.6628, 0.7335, 0.6532, 0.6731, 0.7342, 0.7702, 0.6804, 0.7217, 0.0287, 0.741, 0.6608, 0.5746, -0.2676, 0.1909, 0.696, 0.6714, 0.78, 0.6368, 0.0951, -0.3057, 0.6898, -0.336, -0.1829, -0.1251, 0.3867, -0.4563, 0.1321, 1.4036, 1.3955, 1.3924, 1.3864, 1.3857, 1.3853, 1.3817, 1.3739, 1.3622, 1.3531, 1.3517, 1.3485, 1.3284, 1.3264, 1.3175, 1.3154, 1.3024, 1.2946, 1.2882, 1.2874, 1.2872, 1.2826, 1.2769, 1.2753, 1.2721, 1.2652, 1.2651, 1.2643, 1.2623, 1.2481, 1.2329, 1.2297, 1.2145, 1.1685, 1.2104, 1.073, 1.2292, 1.1727, 1.1975, 0.9587, 1.1623, 1.0687, 1.1258, 1.1738, 0.6309, 0.7717, 0.5159, 0.6319, 0.6219, 0.2654, 0.7694, -0.6984, 0.3524, 0.5503, -0.2594, 0.2052, 0.6133, -0.1646, 0.5632, -1.4689, 0.508, -0.0006, 0.1404, -0.5575, -1.0465], \"Freq\": [357.0, 1813.0, 116.0, 234.0, 127.0, 158.0, 274.0, 254.0, 87.0, 133.0, 308.0, 143.0, 204.0, 74.0, 69.0, 154.0, 45.0, 118.0, 163.0, 169.0, 40.0, 40.0, 68.0, 44.0, 40.0, 144.0, 116.0, 47.0, 320.0, 73.0, 35.377808263659304, 11.13108058875354, 74.37707433829618, 13.52402532309495, 63.69653578743944, 13.985957339658373, 17.86583194709916, 12.887447662972859, 29.93412090512224, 10.025767200705019, 8.659930235537987, 13.858133799969503, 10.544302504467993, 10.014812567694122, 33.29047931162146, 15.162065030489893, 10.691380432474789, 25.776438349636763, 42.10936708719626, 18.85025809410785, 16.86197393272824, 23.74974667907599, 13.364679417149427, 51.534836476417496, 166.73510605975784, 10.387744063512375, 24.248134979327638, 55.83728346836758, 70.68637046819855, 25.805711952002678, 124.81936652190544, 68.04568273591707, 86.39816013450141, 120.50309286840991, 233.8950305573539, 49.98550288335306, 59.42190080572573, 41.38807137126855, 1616.0701569617695, 202.93217847179912, 187.35282575634258, 107.08393156063752, 1220.3078905158864, 355.98992253415764, 63.11624612821467, 119.71374959890835, 71.54898543914267, 64.12956795162435, 205.41813788527003, 64.09247691935416, 245.71526853909532, 146.82103857410848, 193.17024639838039, 106.54528892514959, 198.9862138002437, 262.06500558614454, 90.02708459327216, 108.44206802327064, 84.70680572219838, 125.72924520634135, 149.2670088269152, 126.14183178462277, 81.7576635868989, 108.17893132822338, 76.84463439484496, 92.86098645312373, 81.86228017555382, 34.981554047133535, 21.07176731191501, 34.83687146979282, 24.737575403892496, 14.983652608309319, 12.100256441376736, 11.809502801560214, 11.808747350950576, 6.726902233587171, 12.914073054830467, 34.7956889345153, 59.82604611497049, 30.11309284725988, 30.93846399507445, 36.85737651053055, 13.414962174515297, 8.55257104786127, 17.803118905257246, 71.93889045891424, 28.886768218363315, 25.47289683903823, 27.329867225470068, 12.840252847521386, 28.607330897824887, 12.98250474874, 10.056698577145191, 35.06132080873045, 8.697438903599682, 6.0248426822176055, 27.346041588449555, 25.844849839490973, 28.16356046131431, 143.12672405305017, 39.50358214014134, 47.182785009557314, 132.183476062881, 86.26313394129417, 105.28947847367706, 88.89606349143224, 65.73880474078895, 57.06488185667731, 76.75503477408716, 63.25536397785555, 498.92988003426206, 57.09720852568418, 69.00873024497366, 85.62315588732277, 484.1276182858362, 169.02180639526784, 61.972650750899454, 60.941166208433145, 50.001963463280255, 57.732828125919404, 101.5096050595775, 96.86611374271118, 43.9089554248498, 76.10131082756315, 67.50671356600631, 64.76826355699211, 50.57664852762685, 60.47633358835634, 43.99632742353294, 21.080027097161924, 12.327029900100921, 41.22275394373291, 36.70987198704931, 31.855498463642352, 36.71033968120775, 11.64039220450019, 36.230137510198915, 15.269731612551753, 14.960839264059675, 14.463686921360821, 14.79344123548408, 37.81476763315071, 16.495183846484785, 31.173856677042032, 26.555827719658936, 20.331592972407094, 19.34515490275427, 13.04761657927418, 13.957568881644756, 12.432124519054675, 31.666082329475923, 18.42199585273779, 10.38749380657352, 30.873239708989313, 30.46049961416987, 19.91812701625376, 38.177717007863095, 27.28236440391581, 10.815144926552206, 277.74633458367606, 90.6327223656308, 35.98735560177835, 54.02448593153946, 32.855106800796726, 84.85051097984638, 26.2776974867438, 36.906318499805344, 31.524898558480643, 93.9088264066407, 33.287286135617386, 45.26226206412083, 31.52228321274667, 26.15314866157576, 116.99997954216177, 70.35138593671257, 116.97931120191217, 69.57329251920639, 60.90356733166653, 94.5975640490128, 49.53520195131389, 266.90537855190814, 77.59051326621646, 52.403899481687134, 91.3819085425924, 63.12858674566799, 47.79117043450743, 76.61181272872079, 44.38028067858966, 94.64529878559938, 42.84305229398364, 46.4393921376043, 42.99308483845652, 44.82934564330648, 39.16692382693385], \"logprob\": [30.0, 29.0, 28.0, 27.0, 26.0, 25.0, 24.0, 23.0, 22.0, 21.0, 20.0, 19.0, 18.0, 17.0, 16.0, 15.0, 14.0, 13.0, 12.0, 11.0, 10.0, 9.0, 8.0, 7.0, 6.0, 5.0, 4.0, 3.0, 2.0, 1.0, -6.228499889373779, -7.384799957275391, -5.485400199890137, -7.190100193023682, -5.640399932861328, -7.156499862670898, -6.9116997718811035, -7.23829984664917, -6.395500183105469, -7.4893999099731445, -7.635799884796143, -7.1656999588012695, -7.439000129699707, -7.490499973297119, -6.289299964904785, -7.075799942016602, -7.425099849700928, -6.545100212097168, -6.054299831390381, -6.857999801635742, -6.9695000648498535, -6.626999855041504, -7.201900005340576, -5.85230016708374, -4.678100109100342, -7.45389986038208, -6.606200218200684, -5.77209997177124, -5.536300182342529, -6.544000148773193, -4.967700004577637, -5.574399948120117, -5.335599899291992, -5.002900123596191, -4.339700222015381, -5.882800102233887, -5.70989990234375, -6.071599960327148, -2.4068000316619873, -4.4816999435424805, -4.561600208282471, -5.1209001541137695, -2.687700033187866, -3.919600009918213, -5.649600028991699, -5.009399890899658, -5.524199962615967, -5.633600234985352, -4.4695000648498535, -5.634200096130371, -4.29040002822876, -4.805300235748291, -4.531000137329102, -5.125999927520752, -4.501299858093262, -4.22599983215332, -5.294400215148926, -5.10830020904541, -5.355400085449219, -4.960400104522705, -4.78879976272583, -4.957099914550781, -5.3907999992370605, -5.110799789428711, -5.4527997970581055, -5.263400077819824, -5.389500141143799, -5.601399898529053, -6.10830020904541, -5.605599880218506, -5.94789981842041, -6.4492998123168945, -6.663000106811523, -6.687300205230713, -6.687399864196777, -7.250100135803223, -6.597899913787842, -5.6066999435424805, -5.064799785614014, -5.751299858093262, -5.7241997718811035, -5.549200057983398, -6.559899806976318, -7.010000228881836, -6.276899814605713, -4.88040018081665, -5.792900085449219, -5.918600082397461, -5.848299980163574, -6.603700160980225, -5.802599906921387, -6.592599868774414, -6.8480000495910645, -5.599100112915039, -6.993199825286865, -7.360400199890137, -5.847700119018555, -5.904099941253662, -5.81820011138916, -4.192500114440918, -5.479899883270264, -5.302199840545654, -4.27209997177124, -4.698800086975098, -4.499499797821045, -4.668799877166748, -4.970600128173828, -5.112100124359131, -4.8155999183654785, -5.009099960327148, -2.9437999725341797, -5.111499786376953, -4.921999931335449, -4.706299781799316, -2.973900079727173, -4.026199817657471, -5.0295000076293945, -5.046299934387207, -5.244200229644775, -5.100399971008301, -4.536099910736084, -4.582900047302246, -5.374100208282471, -4.82420015335083, -4.943999767303467, -4.985400199890137, -5.232800006866455, -5.053999900817871, -5.372099876403809, -5.94320011138916, -6.479800224304199, -5.272600173950195, -5.388500213623047, -5.530300140380859, -5.388500213623047, -6.537099838256836, -5.401700019836426, -6.265699863433838, -6.286099910736084, -6.319900035858154, -6.297399997711182, -5.35890007019043, -6.188499927520752, -5.552000045776367, -5.712299823760986, -5.979400157928467, -6.029099941253662, -6.422900199890137, -6.355500221252441, -6.47130012512207, -5.536300182342529, -6.078000068664551, -6.651000022888184, -5.561699867248535, -5.575099945068359, -5.999899864196777, -5.349299907684326, -5.685299873352051, -6.610599994659424, -3.364799976348877, -4.4847002029418945, -5.408400058746338, -5.002099990844727, -5.4994001388549805, -4.5507001876831055, -5.722799777984619, -5.383200168609619, -5.540800094604492, -4.44920015335083, -5.486400127410889, -5.179100036621094, -5.540900230407715, -5.72760009765625, -4.229400157928467, -4.738100051879883, -4.229599952697754, -4.749199867248535, -4.882299900054932, -4.44189977645874, -5.088900089263916, -3.4047000408172607, -4.640100002288818, -5.032599925994873, -4.476500034332275, -4.846399784088135, -5.12470006942749, -4.6528000831604, -5.198800086975098, -4.441400051116943, -5.234000205993652, -5.15339994430542, -5.230500221252441, -5.188700199127197, -5.323699951171875], \"Term\": [\"sign\", \"order\", \"mro\", \"magistrate\", \"sign_magistrate\", \"serve\", \"attachment\", \"stipulation\", \"affidavit_service\", \"modify\", \"request\", \"due\", \"counsel\", \"p.c\", \"serve_answer_due\", \"hereby\", \"copy_send_chamber\", \"djc\", \"discovery\", \"may\", \"request_redaction_transcript\", \"court_notice_intent\", \"sign_iii\", \"d._kan._magistrate_d.\", \"calendar_day\", \"propose\", \"march\", \"kw\", \"letter\", \"cd\", \"limine_preclude_plaintiff_introduce\", \"comply\", \"appear_pro_hac_vice\", \"claim_assert\", \"summary_judgment.._document\", \"custodian\", \"amend_notice_appeal\", \"firm\", \"proceed\", \"incorrectly\", \"dec_dkt\", \"copy_individual_practice_require\", \"civil_action\", \"united_state_magistrate\", \"dismiss_thirdparty_complaint\", \"reconsideration\", \"administration\", \"mail_copy\", \"answer_amend_complaint\", \"case_designate\", \"setreset_deadline\", \"memorandum_support\", \"attorney_responsible_provide_courtesy\", \"dismiss_second_amend\", \"declaration_support\", \"goodwin\", \"civ\", \"affidavit_service_summons\", \"rule_statement\", \"endorsement_application_grant\", \"regard\", \"set_forth\", \"july\", \"memorandum_law_opposition\", \"case\", \"v.\", \"keely\", \"limine\", \"motion\", \"schedule\", \"memorandum_law_support\", \"declaration_opposition\", \"order\", \"plaintiff\", \"notice_appeal\", \"amend_complaint\", \"address\", \"answer_complaint\", \"complaint\", \"september\", \"court\", \"'\", \"letter\", \"claim\", \"dismiss\", \"notice\", \"submit\", \"l.p.\", \"attorney\", \"summary_judgment\", \"request\", \"grant\", \"declaration\", \"stipulation\", \"follow\", \"attachment\", \"conference\", \"transcript_may_make_remotely\", \"conference_proceed_hold\", \"electronically_available_public_without\", \"redaction_calendar_day_mcguirk\", \"lb\", \"ml\", \"copy_mail_chamber\", \"rule_deposition_objection\", \"transfer_new_york_eastern\", \"jury_trial_hold\", \"nd\", \"serve_answer_due\", \"redaction_request_due\", \"transcript_proceeding_hold\", \"cal\", \"jar\", \"conference_call\", \"ja\", \"affidavit_service\", \"public_terminal_purchase_court\", \"answer_due_answer_due\", \"tp\", \"longer_assigned_case\", \"transcript_may_view_court\", \"account\", \"court_reporter\", \"associate_case\", \"tape\", \"service_accept_legal_clerk\", \"reportertranscriber_deadline_release_transcript\", \"may_obtain_pacer\", \"restriction\", \"magistrate\", \"rjm\", \"cd\", \"stipulation\", \"hereby\", \"counsel\", \"may\", \"djc\", \"answer\", \"judgment\", \"minute_entry_proceeding_hold\", \"order\", \"clerk\", \"modify\", \"action\", \"motion\", \"notice\", \"seal\", \"march\", \"dismissal\", \"support\", \"dismiss\", \"plaintiff\", \"notice_appearance_behalf\", \"court\", \"complaint\", \"attachment\", \"opposition\", \"sign\", \"propose\", \"new_address\", \"usca\", \"copy_send_chamber\", \"court_notice_intent\", \"associate_case_rjm\", \"request_redaction_transcript\", \"associate_case_thk\", \"calendar_day\", \"stillwater_market_neutral_fund\", \"associate_case_et_al\", \"alternative_investment_sgr_spa\", \"support_paper_review\", \"d._kan._magistrate_d.\", \"ft\", \"kan._gr\", \"sc\", \"worcester\", \"l.p._balentine_global_hedge\", \"genesys_id_basile_mark\", \"usa\", \"propose_finding_fact_conclusion\", \"court_reportertranscriber\", \"haas\", \"associated_case_ft\", \"redact_transcript_deadline_set\", \"release_transcript_restriction_set\", \"mp\", \"kw\", \"yv\", \"pa\", \"sign\", \"mro\", \"c.d\", \"p.c\", \"sign_s.d.n.y\", \"sign_magistrate\", \"tro\", \"jmi\", \"fee_receipt_number\", \"serve\", \"sac\", \"sign_iii\", \"conference_hold\", \"dle\", \"attachment\", \"due\", \"request\", \"discovery\", \"propose\", \"letter\", \"issue\", \"motion\", \"grant\", \"modify\", \"notice\", \"summary_judgment\", \"april\", \"court\", \"reply\", \"order\", \"response\", \"counsel\", \"conference\", \"dismiss\", \"plaintiff\"]}, \"token.table\": {\"Freq\": [0.6657139253590395, 0.1902039786740113, 0.144917317084961, 0.18486848550734084, 0.8010967705318103, 0.4159039401060605, 0.4769031846549494, 0.11090771736161614, 0.7781689706224009, 0.16211853554633351, 0.0648474142185334, 0.9197394820693453, 0.0836126801881223, 0.12575602651780365, 0.8231303553892603, 0.057161830235365294, 0.8703111529159036, 0.031082541175567985, 0.10878889411448794, 0.06056343636139944, 0.06056343636139944, 0.8478881090595922, 0.7294775039374267, 0.17021141758539957, 0.0972636671916569, 0.9311379583809666, 0.05172988657672037, 0.05172988657672037, 0.3338870457262054, 0.5767139880725367, 0.0910601033798742, 0.8836384288550169, 0.0631170306325012, 0.0631170306325012, 0.7819443682044016, 0.1588324497915191, 0.06108940376596888, 0.0950886178967253, 0.7924051491393775, 0.0950886178967253, 0.9337992735402512, 0.012618909101895285, 0.03785672730568586, 0.4379569169843145, 0.14890535177466693, 0.42043864030494194, 0.06583953646000817, 0.768127925366762, 0.15362558507335242, 0.05863264145283998, 0.05863264145283998, 0.8794896217925997, 0.056894076833897494, 0.028447038416948747, 0.9103052293423599, 0.07754398057738238, 0.07754398057738238, 0.9305277669285886, 0.07812449243626615, 0.07812449243626615, 0.7812449243626615, 0.33863838948103225, 0.23668274533620537, 0.42602894160516963, 0.6884221419674641, 0.14578351241663945, 0.17008076448607937, 0.8563353225103242, 0.06587194788540955, 0.06587194788540955, 0.16976117415629352, 0.06366044030861007, 0.7639252837033208, 0.09099444623979587, 0.8416986277181118, 0.0682458346798469, 0.04943804757263798, 0.04943804757263798, 0.8898848563074836, 0.8024558213404892, 0.12688404012648763, 0.06858596763593926, 0.8922505337387506, 0.046960554407302665, 0.09392110881460533, 0.05449942080356591, 0.6403681944418994, 0.2997468144196125, 0.8590289287308912, 0.0715857440609076, 0.0357928720304538, 0.9468377767230932, 0.0860761615202812, 0.6929914312378113, 0.2266794401245177, 0.08419522061767801, 0.9654283918941673, 0.06895917084958338, 0.18659476940450784, 0.5597843082135235, 0.2553402107640634, 0.6759761429019515, 0.2242262327674766, 0.09892333798565145, 0.9289721116313949, 0.4975188318871265, 0.24269211311567146, 0.2608940215993468, 0.09704870962458041, 0.8734383866212236, 0.09704870962458041, 0.26603809765865594, 0.044339682943109325, 0.7094349270897492, 0.04458810752660291, 0.9363502580586611, 0.04458810752660291, 0.9170204808068738, 0.0655014629147767, 0.0655014629147767, 0.07329287113154134, 0.8795144535784961, 0.07329287113154134, 0.04426154982423563, 0.04426154982423563, 0.9073617713968304, 0.2585546940531539, 0.5122309976524747, 0.22440596087632225, 0.6174258784778329, 0.19074945839152563, 0.19325931968615095, 0.049407288572561714, 0.049407288572561714, 0.9140348385923917, 0.15878041173665983, 0.7939020586832991, 0.07939020586832991, 0.10325691438554803, 0.07744268578916103, 0.8260553150843842, 0.929296607150337, 0.06637832908216693, 0.06637832908216693, 0.06788861523253098, 0.06788861523253098, 0.8599224596120592, 0.9477698418794096, 0.6783257235494324, 0.10753944397734905, 0.2150788879546981, 0.7982750727473088, 0.18651286746432447, 0.014921029397145959, 0.8748079986756531, 0.10476742499109618, 0.020953484998219234, 0.4658676004813044, 0.11033706327188787, 0.4290885793906751, 0.5762684578354776, 0.2953737824081343, 0.13031196282711804, 0.887529209677723, 0.10240721650127572, 0.017067869416879287, 0.8979541943013827, 0.08163219948194388, 0.02721073316064796, 0.349808081794138, 0.5830134696568967, 0.06996161635882761, 0.13555314696814444, 0.5591567312435958, 0.30499458067832497, 0.19624040049423971, 0.05606868585549706, 0.7288929161214618, 0.46706187432766383, 0.04182643650695497, 0.4879750925811413, 0.0269539576843446, 0.943388518952061, 0.0269539576843446, 0.8702860674440672, 0.10041762316662314, 0.033472541055541045, 0.09526478405107455, 0.16671337208938047, 0.7621182724085964, 0.9315224077501073, 0.07165556982693133, 0.6575130111475243, 0.23055651040237865, 0.11954782020864077, 0.051775776639442925, 0.051775776639442925, 0.8284124262310868, 0.06300344480019317, 0.06300344480019317, 0.8190447824025111, 0.8381764674740744, 0.08381764674740744, 0.08381764674740744, 0.5236792796884162, 0.15377883609897935, 0.3241824112356862, 0.08824661479096903, 0.08824661479096903, 0.7942195331187212, 0.38067542418616984, 0.554882821695095, 0.06452125833663895, 0.9143656872203345, 0.3457278304258472, 0.15804700819467302, 0.4938969006083532, 0.09305889719385899, 0.8375300747447308, 0.09305889719385899, 0.1248530502432284, 0.8115448265809846, 0.0624265251216142, 0.03968962453519642, 0.2381377472111785, 0.7342580539011337, 0.38505931901103124, 0.5294565636401679, 0.08938877048470369, 0.8414148351112983, 0.07827114745221381, 0.07827114745221381, 0.06690447235485605, 0.8697581406131287, 0.06690447235485605, 0.08146208331273946, 0.08146208331273946, 0.8417748608983078, 0.8367968848953448, 0.04254899414722092, 0.11346398439258912, 0.08409185623050382, 0.10511482028812977, 0.7988726341897863, 0.6104481673529392, 0.2147873181427008, 0.1695689353758164, 0.08553453848350182, 0.08553453848350182, 0.8125781155932673, 0.058747756156761796, 0.881216342351427, 0.058747756156761796, 0.6031124732308961, 0.09999792302273926, 0.29686883397375713, 0.8468314256403221, 0.12392655009370566, 0.020654425015617612, 0.9405909858490998, 0.026874028167117137, 0.026874028167117137, 0.12489273547824567, 0.8118027806085969, 0.062446367739122835, 0.2725263583571747, 0.6089260819543123, 0.11497205743193309, 0.8962970059889751, 0.03447296176880673, 0.06894592353761346, 0.1802454211763746, 0.5235700329408977, 0.2918259199998446, 0.38900658120457, 0.5245694807152534, 0.08841058663740227, 0.17368757400654955, 0.7526461540283814, 0.057895858002183186, 0.8355182346384729, 0.10357664065766192, 0.062145984394597155, 0.7702618983266615, 0.12769047512367115, 0.09885714203122928, 0.8909497233437691, 0.07424581027864743, 0.03712290513932372, 0.2869648582245522, 0.5478420020650542, 0.15652628630430118, 0.07222794072576773, 0.8667352887092128, 0.07222794072576773, 0.08999936574948371, 0.5174963530595313, 0.3899972515810961, 0.6826909919012638, 0.20446933173280424, 0.11279609829061722, 0.12098419587350319, 0.08065613058233545, 0.8065613058233546, 0.12832442458740556, 0.09410457803076407, 0.7785015091635937, 0.07449092620837039, 0.8690608057643213, 0.04966061747224693, 0.043764662417990964, 0.043764662417990964, 0.9190579107778103, 0.5014654269393003, 0.32346434027764026, 0.17417310630334476, 0.8180415312454838, 0.038954358630737325, 0.14283264831270354, 0.13346854232502303, 0.5338741693000921, 0.33973810773642227, 0.3734351493716783, 0.3967748462074082, 0.23339696835729895, 0.6725902130211566, 0.27510042319471895, 0.052373828063122845, 0.21599204869069266, 0.06749751521584145, 0.7289731643310877, 0.14604800692230863, 0.07302400346115431, 0.8032640380726974, 0.7235434702577583, 0.19714527139045665, 0.07926459365183308, 0.919856338189198, 0.030661877939639932, 0.061323755879279865, 0.2703711732842295, 0.30503414421810504, 0.422888245393282, 0.13211819470399225, 0.06605909735199612, 0.7927091682239535, 0.1680012941167055, 0.81200625489741, 0.028000215686117585, 0.8944169882718442, 0.05962779921812295, 0.05962779921812295, 0.13101019066511307, 0.07860611439906784, 0.812263182123701, 0.0370464554913125, 0.9261613872828124, 0.0370464554913125, 0.057034397784937095, 0.8555159667740564, 0.08555159667740564, 0.8640746791840276, 0.04838818203430554, 0.08986376663513887, 0.10549326110495073, 0.10549326110495073, 0.7911994582871306, 0.4395729881954833, 0.16147579158201428, 0.3947186016449238, 0.22177690023287996, 0.7484970382859699, 0.027722112529109996, 0.4836914585650429, 0.13634255879014634, 0.3798114137725505, 0.049350811718987635, 0.049350811718987635, 0.9129900168012712, 0.46609704226923226, 0.15829710869521096, 0.37815420410522615, 0.25551515630739374, 0.7154424376607024, 0.02555151563073937, 0.06824578499111357, 0.6824578499111357, 0.2559216937166759, 0.07324684191438587, 0.8789621029726303, 0.07324684191438587, 0.8698318194620346, 0.08575806670752453, 0.04900460954715687, 0.06532152481471347, 0.1959645744441404, 0.7185367729618481, 0.09542804778012166, 0.0636186985200811, 0.8588524300210949, 0.7715068214797979, 0.12921789128233066, 0.0988136815688411, 0.35466130849702254, 0.5363171006540342, 0.11245358562100716, 0.7731399751234023, 0.1449637453356379, 0.08456218477912213, 0.20147971422557256, 0.20777595529512172, 0.5918466605376195, 0.08621339099401533, 0.8621339099401533, 0.05747559399601022, 0.1261743321316175, 0.7570459927897051, 0.1261743321316175, 0.851314670979011, 0.1001546671740013, 0.03755800019025049, 0.8906375224330242, 0.052390442496060244, 0.052390442496060244, 0.05320885422298014, 0.1680279607041478, 0.7785295512625515, 0.08749941557154677, 0.24791501078604916, 0.6562456167866008, 0.07812690268055818, 0.257818778845842, 0.6640786727847445, 0.16203092709634007, 0.09258910119790861, 0.763860084882746, 0.057971801865797666, 0.057971801865797666, 0.869577027986965, 0.4237064316839736, 0.5178634165026345, 0.058848115511663, 0.6769980744622236, 0.1128330124103706, 0.2106216231660251, 0.5554954321666637, 0.16753036843121605, 0.2777477160833319, 0.9359473299532407, 0.043872531091558156, 0.014624177030519386, 0.4201024001329138, 0.5076237334939375, 0.07876920002492134, 0.05901996195459763, 0.05901996195459763, 0.8852994293189645, 0.17489304668030956, 0.787018710061393, 0.08744652334015478, 0.08841050737935947, 0.7956945664142353, 0.08841050737935947, 0.02696473227756361, 0.9437656297147263, 0.02696473227756361, 0.16786613477766452, 0.8113529847587118, 0.02797768912961075, 0.08215089234500275, 0.8488925542316951, 0.08215089234500275, 0.12849496714452407, 0.8994647700116686, 0.08846971323463632, 0.14744952205772718, 0.7667375147001814, 0.9062198021255304, 0.09062198021255305, 0.05884797572425375, 0.1176959514485075, 0.8238716601395525, 0.07423816348589023, 0.07423816348589023, 0.8908579618306828, 0.8493296997075366, 0.13589275195320585, 0.01698659399415073, 0.08201764873336477, 0.08201764873336477, 0.8201764873336477, 0.1467995276691605, 0.0587198110676642, 0.7927174494134667], \"Topic\": [1, 2, 3, 1, 2, 1, 2, 3, 1, 2, 3, 1, 2, 1, 2, 3, 1, 2, 3, 1, 2, 3, 1, 2, 3, 1, 2, 3, 1, 2, 3, 1, 2, 3, 1, 2, 3, 1, 2, 3, 1, 2, 3, 1, 2, 3, 1, 2, 3, 1, 2, 3, 1, 2, 3, 1, 2, 3, 1, 2, 3, 1, 2, 3, 1, 2, 3, 1, 2, 3, 1, 2, 3, 1, 2, 3, 1, 2, 3, 1, 2, 3, 1, 2, 3, 1, 2, 3, 1, 2, 3, 1, 2, 1, 2, 3, 1, 3, 1, 2, 3, 1, 2, 3, 1, 1, 2, 3, 1, 2, 3, 1, 2, 3, 1, 2, 3, 1, 2, 3, 1, 2, 3, 1, 2, 3, 1, 2, 3, 1, 2, 3, 1, 2, 3, 1, 2, 3, 1, 2, 3, 1, 2, 3, 1, 2, 3, 1, 1, 2, 3, 1, 2, 3, 1, 2, 3, 1, 2, 3, 1, 2, 3, 1, 2, 3, 1, 2, 3, 1, 2, 3, 1, 2, 3, 1, 2, 3, 1, 2, 3, 1, 2, 3, 1, 2, 3, 1, 2, 3, 1, 3, 1, 2, 3, 1, 2, 3, 1, 2, 3, 1, 2, 3, 1, 2, 3, 1, 2, 3, 1, 2, 3, 1, 1, 2, 3, 1, 2, 3, 1, 2, 3, 1, 2, 3, 1, 2, 3, 1, 2, 3, 1, 2, 3, 1, 2, 3, 1, 2, 3, 1, 2, 3, 1, 2, 3, 1, 2, 3, 1, 2, 3, 1, 2, 3, 1, 2, 3, 1, 2, 3, 1, 2, 3, 1, 2, 3, 1, 2, 3, 1, 2, 3, 1, 2, 3, 1, 2, 3, 1, 2, 3, 1, 2, 3, 1, 2, 3, 1, 2, 3, 1, 2, 3, 1, 2, 3, 1, 2, 3, 1, 2, 3, 1, 2, 3, 1, 2, 3, 1, 2, 3, 1, 2, 3, 1, 2, 3, 1, 2, 3, 1, 2, 3, 1, 2, 3, 1, 2, 3, 1, 2, 3, 1, 2, 3, 1, 2, 3, 1, 2, 3, 1, 2, 3, 1, 2, 3, 1, 2, 3, 1, 2, 3, 1, 2, 3, 1, 2, 3, 1, 2, 3, 1, 2, 3, 1, 2, 3, 1, 2, 3, 1, 2, 3, 1, 2, 3, 1, 2, 3, 1, 2, 3, 1, 2, 3, 1, 2, 3, 1, 2, 3, 1, 2, 3, 1, 2, 3, 1, 2, 3, 1, 2, 3, 1, 2, 3, 1, 2, 3, 1, 2, 3, 1, 2, 3, 1, 2, 3, 1, 2, 3, 1, 2, 3, 1, 2, 3, 1, 2, 3, 1, 2, 3, 1, 2, 3, 1, 2, 3, 1, 2, 3, 1, 2, 3, 1, 2, 3, 1, 2, 3, 1, 2, 3, 1, 2, 3, 1, 2, 3, 1, 2, 3, 1, 2, 3, 1, 2, 3, 1, 2, 1, 2, 3, 1, 2, 1, 2, 3, 1, 2, 3, 1, 2, 3, 1, 2, 3, 1, 2, 3], \"Term\": [\"'\", \"'\", \"'\", \"account\", \"account\", \"action\", \"action\", \"action\", \"address\", \"address\", \"address\", \"administration\", \"administration\", \"affidavit_service\", \"affidavit_service\", \"affidavit_service\", \"affidavit_service_summons\", \"affidavit_service_summons\", \"affidavit_service_summons\", \"alternative_investment_sgr_spa\", \"alternative_investment_sgr_spa\", \"alternative_investment_sgr_spa\", \"amend_complaint\", \"amend_complaint\", \"amend_complaint\", \"amend_notice_appeal\", \"amend_notice_appeal\", \"amend_notice_appeal\", \"answer\", \"answer\", \"answer\", \"answer_amend_complaint\", \"answer_amend_complaint\", \"answer_amend_complaint\", \"answer_complaint\", \"answer_complaint\", \"answer_complaint\", \"answer_due_answer_due\", \"answer_due_answer_due\", \"answer_due_answer_due\", \"appear_pro_hac_vice\", \"appear_pro_hac_vice\", \"appear_pro_hac_vice\", \"april\", \"april\", \"april\", \"associate_case\", \"associate_case\", \"associate_case\", \"associate_case_et_al\", \"associate_case_et_al\", \"associate_case_et_al\", \"associate_case_rjm\", \"associate_case_rjm\", \"associate_case_rjm\", \"associate_case_thk\", \"associate_case_thk\", \"associate_case_thk\", \"associated_case_ft\", \"associated_case_ft\", \"associated_case_ft\", \"attachment\", \"attachment\", \"attachment\", \"attorney\", \"attorney\", \"attorney\", \"attorney_responsible_provide_courtesy\", \"attorney_responsible_provide_courtesy\", \"attorney_responsible_provide_courtesy\", \"c.d\", \"c.d\", \"c.d\", \"cal\", \"cal\", \"cal\", \"calendar_day\", \"calendar_day\", \"calendar_day\", \"case\", \"case\", \"case\", \"case_designate\", \"case_designate\", \"case_designate\", \"cd\", \"cd\", \"cd\", \"civ\", \"civ\", \"civ\", \"civil_action\", \"civil_action\", \"claim\", \"claim\", \"claim\", \"claim_assert\", \"claim_assert\", \"clerk\", \"clerk\", \"clerk\", \"complaint\", \"complaint\", \"complaint\", \"comply\", \"conference\", \"conference\", \"conference\", \"conference_call\", \"conference_call\", \"conference_call\", \"conference_hold\", \"conference_hold\", \"conference_hold\", \"conference_proceed_hold\", \"conference_proceed_hold\", \"conference_proceed_hold\", \"copy_individual_practice_require\", \"copy_individual_practice_require\", \"copy_individual_practice_require\", \"copy_mail_chamber\", \"copy_mail_chamber\", \"copy_mail_chamber\", \"copy_send_chamber\", \"copy_send_chamber\", \"copy_send_chamber\", \"counsel\", \"counsel\", \"counsel\", \"court\", \"court\", \"court\", \"court_notice_intent\", \"court_notice_intent\", \"court_notice_intent\", \"court_reporter\", \"court_reporter\", \"court_reporter\", \"court_reportertranscriber\", \"court_reportertranscriber\", \"court_reportertranscriber\", \"custodian\", \"custodian\", \"custodian\", \"d._kan._magistrate_d.\", \"d._kan._magistrate_d.\", \"d._kan._magistrate_d.\", \"dec_dkt\", \"declaration\", \"declaration\", \"declaration\", \"declaration_opposition\", \"declaration_opposition\", \"declaration_opposition\", \"declaration_support\", \"declaration_support\", \"declaration_support\", \"discovery\", \"discovery\", \"discovery\", \"dismiss\", \"dismiss\", \"dismiss\", \"dismiss_second_amend\", \"dismiss_second_amend\", \"dismiss_second_amend\", \"dismiss_thirdparty_complaint\", \"dismiss_thirdparty_complaint\", \"dismiss_thirdparty_complaint\", \"dismissal\", \"dismissal\", \"dismissal\", \"djc\", \"djc\", \"djc\", \"dle\", \"dle\", \"dle\", \"due\", \"due\", \"due\", \"electronically_available_public_without\", \"electronically_available_public_without\", \"electronically_available_public_without\", \"endorsement_application_grant\", \"endorsement_application_grant\", \"endorsement_application_grant\", \"fee_receipt_number\", \"fee_receipt_number\", \"fee_receipt_number\", \"firm\", \"firm\", \"follow\", \"follow\", \"follow\", \"ft\", \"ft\", \"ft\", \"genesys_id_basile_mark\", \"genesys_id_basile_mark\", \"genesys_id_basile_mark\", \"goodwin\", \"goodwin\", \"goodwin\", \"grant\", \"grant\", \"grant\", \"haas\", \"haas\", \"haas\", \"hereby\", \"hereby\", \"hereby\", \"incorrectly\", \"issue\", \"issue\", \"issue\", \"ja\", \"ja\", \"ja\", \"jar\", \"jar\", \"jar\", \"jmi\", \"jmi\", \"jmi\", \"judgment\", \"judgment\", \"judgment\", \"july\", \"july\", \"july\", \"jury_trial_hold\", \"jury_trial_hold\", \"jury_trial_hold\", \"kan._gr\", \"kan._gr\", \"kan._gr\", \"keely\", \"keely\", \"keely\", \"kw\", \"kw\", \"kw\", \"l.p.\", \"l.p.\", \"l.p.\", \"l.p._balentine_global_hedge\", \"l.p._balentine_global_hedge\", \"l.p._balentine_global_hedge\", \"lb\", \"lb\", \"lb\", \"letter\", \"letter\", \"letter\", \"limine\", \"limine\", \"limine\", \"limine_preclude_plaintiff_introduce\", \"limine_preclude_plaintiff_introduce\", \"limine_preclude_plaintiff_introduce\", \"longer_assigned_case\", \"longer_assigned_case\", \"longer_assigned_case\", \"magistrate\", \"magistrate\", \"magistrate\", \"mail_copy\", \"mail_copy\", \"mail_copy\", \"march\", \"march\", \"march\", \"may\", \"may\", \"may\", \"may_obtain_pacer\", \"may_obtain_pacer\", \"may_obtain_pacer\", \"memorandum_law_opposition\", \"memorandum_law_opposition\", \"memorandum_law_opposition\", \"memorandum_law_support\", \"memorandum_law_support\", \"memorandum_law_support\", \"memorandum_support\", \"memorandum_support\", \"memorandum_support\", \"minute_entry_proceeding_hold\", \"minute_entry_proceeding_hold\", \"minute_entry_proceeding_hold\", \"ml\", \"ml\", \"ml\", \"modify\", \"modify\", \"modify\", \"motion\", \"motion\", \"motion\", \"mp\", \"mp\", \"mp\", \"mro\", \"mro\", \"mro\", \"nd\", \"nd\", \"nd\", \"new_address\", \"new_address\", \"new_address\", \"notice\", \"notice\", \"notice\", \"notice_appeal\", \"notice_appeal\", \"notice_appeal\", \"notice_appearance_behalf\", \"notice_appearance_behalf\", \"notice_appearance_behalf\", \"opposition\", \"opposition\", \"opposition\", \"order\", \"order\", \"order\", \"p.c\", \"p.c\", \"p.c\", \"pa\", \"pa\", \"pa\", \"plaintiff\", \"plaintiff\", \"plaintiff\", \"proceed\", \"proceed\", \"proceed\", \"propose\", \"propose\", \"propose\", \"propose_finding_fact_conclusion\", \"propose_finding_fact_conclusion\", \"propose_finding_fact_conclusion\", \"public_terminal_purchase_court\", \"public_terminal_purchase_court\", \"public_terminal_purchase_court\", \"reconsideration\", \"reconsideration\", \"reconsideration\", \"redact_transcript_deadline_set\", \"redact_transcript_deadline_set\", \"redact_transcript_deadline_set\", \"redaction_calendar_day_mcguirk\", \"redaction_calendar_day_mcguirk\", \"redaction_calendar_day_mcguirk\", \"redaction_request_due\", \"redaction_request_due\", \"redaction_request_due\", \"regard\", \"regard\", \"regard\", \"release_transcript_restriction_set\", \"release_transcript_restriction_set\", \"release_transcript_restriction_set\", \"reply\", \"reply\", \"reply\", \"reportertranscriber_deadline_release_transcript\", \"reportertranscriber_deadline_release_transcript\", \"reportertranscriber_deadline_release_transcript\", \"request\", \"request\", \"request\", \"request_redaction_transcript\", \"request_redaction_transcript\", \"request_redaction_transcript\", \"response\", \"response\", \"response\", \"restriction\", \"restriction\", \"restriction\", \"rjm\", \"rjm\", \"rjm\", \"rule_deposition_objection\", \"rule_deposition_objection\", \"rule_deposition_objection\", \"rule_statement\", \"rule_statement\", \"rule_statement\", \"sac\", \"sac\", \"sac\", \"sc\", \"sc\", \"sc\", \"schedule\", \"schedule\", \"schedule\", \"seal\", \"seal\", \"seal\", \"september\", \"september\", \"september\", \"serve\", \"serve\", \"serve\", \"serve_answer_due\", \"serve_answer_due\", \"serve_answer_due\", \"service_accept_legal_clerk\", \"service_accept_legal_clerk\", \"service_accept_legal_clerk\", \"set_forth\", \"set_forth\", \"set_forth\", \"setreset_deadline\", \"setreset_deadline\", \"setreset_deadline\", \"sign\", \"sign\", \"sign\", \"sign_iii\", \"sign_iii\", \"sign_iii\", \"sign_magistrate\", \"sign_magistrate\", \"sign_magistrate\", \"sign_s.d.n.y\", \"sign_s.d.n.y\", \"sign_s.d.n.y\", \"stillwater_market_neutral_fund\", \"stillwater_market_neutral_fund\", \"stillwater_market_neutral_fund\", \"stipulation\", \"stipulation\", \"stipulation\", \"submit\", \"submit\", \"submit\", \"summary_judgment\", \"summary_judgment\", \"summary_judgment\", \"summary_judgment.._document\", \"summary_judgment.._document\", \"summary_judgment.._document\", \"support\", \"support\", \"support\", \"support_paper_review\", \"support_paper_review\", \"support_paper_review\", \"tape\", \"tape\", \"tape\", \"tp\", \"tp\", \"tp\", \"transcript_may_make_remotely\", \"transcript_may_make_remotely\", \"transcript_may_make_remotely\", \"transcript_may_view_court\", \"transcript_may_view_court\", \"transcript_may_view_court\", \"transcript_proceeding_hold\", \"transcript_proceeding_hold\", \"transcript_proceeding_hold\", \"transfer_new_york_eastern\", \"transfer_new_york_eastern\", \"tro\", \"tro\", \"tro\", \"united_state_magistrate\", \"united_state_magistrate\", \"usa\", \"usa\", \"usa\", \"usca\", \"usca\", \"usca\", \"v.\", \"v.\", \"v.\", \"worcester\", \"worcester\", \"worcester\", \"yv\", \"yv\", \"yv\"]}, \"lambda.step\": 0.01, \"plot.opts\": {\"ylab\": \"PC2\", \"xlab\": \"PC1\"}};\n",
       "\n",
       "function LDAvis_load_lib(url, callback){\n",
       "  var s = document.createElement('script');\n",
       "  s.src = url;\n",
       "  s.async = true;\n",
       "  s.onreadystatechange = s.onload = callback;\n",
       "  s.onerror = function(){console.warn(\"failed to load library \" + url);};\n",
       "  document.getElementsByTagName(\"head\")[0].appendChild(s);\n",
       "}\n",
       "\n",
       "if(typeof(LDAvis) !== \"undefined\"){\n",
       "   // already loaded: just create the visualization\n",
       "   !function(LDAvis){\n",
       "       new LDAvis(\"#\" + \"ldavis_el2506819942981137449981974358\", ldavis_el2506819942981137449981974358_data);\n",
       "   }(LDAvis);\n",
       "}else if(typeof define === \"function\" && define.amd){\n",
       "   // require.js is available: use it to load d3/LDAvis\n",
       "   require.config({paths: {d3: \"https://cdnjs.cloudflare.com/ajax/libs/d3/3.5.5/d3.min\"}});\n",
       "   require([\"d3\"], function(d3){\n",
       "      window.d3 = d3;\n",
       "      LDAvis_load_lib(\"https://cdn.rawgit.com/bmabey/pyLDAvis/files/ldavis.v1.0.0.js\", function(){\n",
       "        new LDAvis(\"#\" + \"ldavis_el2506819942981137449981974358\", ldavis_el2506819942981137449981974358_data);\n",
       "      });\n",
       "    });\n",
       "}else{\n",
       "    // require.js not available: dynamically load d3 & LDAvis\n",
       "    LDAvis_load_lib(\"https://cdnjs.cloudflare.com/ajax/libs/d3/3.5.5/d3.min.js\", function(){\n",
       "         LDAvis_load_lib(\"https://cdn.rawgit.com/bmabey/pyLDAvis/files/ldavis.v1.0.0.js\", function(){\n",
       "                 new LDAvis(\"#\" + \"ldavis_el2506819942981137449981974358\", ldavis_el2506819942981137449981974358_data);\n",
       "            })\n",
       "         });\n",
       "}\n",
       "</script>"
      ],
      "text/plain": [
       "<IPython.core.display.HTML object>"
      ]
     },
     "execution_count": 157,
     "metadata": {},
     "output_type": "execute_result"
    }
   ],
   "source": [
    "num_topics = 3\n",
    "pretrained_model_file_path = 'docket_texts/lda_model_noorgnomodel_' + str(num_topics)\n",
    "column_name = str(num_topics) + '-topic Model Classificaiton'\n",
    "\n",
    "topic_names = {}\n",
    "for i in range(num_topics):\n",
    "    topic_names[i] = 'Topic ' + str(i)\n",
    "\n",
    "LDAvis_prepared, model = topic_modeling_pipeline(num_topics, pretrained_model_file_path, trigram_bow_corpus, trigram_dictionary, export = True)\n",
    "topic_summary = []\n",
    "\n",
    "for docket_text in list(new_df['Apply Trigram Phrase Model']):\n",
    "    #print(docket_text)\n",
    "    topic_summary.append(lda_description(docket_text, model, trigram_dictionary, topic_names))\n",
    "\n",
    "new_df[column_name] = topic_summary\n",
    "pyLDAvis.display(LDAvis_prepared)"
   ]
  },
  {
   "cell_type": "markdown",
   "metadata": {},
   "source": [
    "### 5 Topics:"
   ]
  },
  {
   "cell_type": "code",
   "execution_count": 158,
   "metadata": {
    "scrolled": false
   },
   "outputs": [
    {
     "name": "stdout",
     "output_type": "stream",
     "text": [
      "\n",
      " Topic 1's make-up:\n",
      "term                 frequency\n",
      "\n",
      "motion               0.117\n",
      "order                0.076\n",
      "notice               0.022\n",
      "plaintiff            0.018\n",
      "letter               0.017\n",
      "dismiss              0.014\n",
      "memorandum_law_support 0.011\n",
      "'                    0.010\n",
      "summary_judgment     0.010\n",
      "grant                0.010\n",
      "\n",
      " Topic 2's make-up:\n",
      "term                 frequency\n",
      "\n",
      "motion               0.046\n",
      "order                0.044\n",
      "stipulation          0.017\n",
      "schedule             0.016\n",
      "request              0.013\n",
      "claim                0.012\n",
      "plaintiff            0.011\n",
      "dismiss              0.010\n",
      "court                0.010\n",
      "complaint            0.009\n",
      "\n",
      " Topic 3's make-up:\n",
      "term                 frequency\n",
      "\n",
      "order                0.054\n",
      "motion               0.026\n",
      "sign                 0.024\n",
      "court                0.022\n",
      "case                 0.019\n",
      "attachment           0.016\n",
      "judgment             0.014\n",
      "may                  0.014\n",
      "magistrate           0.010\n",
      "notice               0.010\n",
      "\n",
      " Topic 4's make-up:\n",
      "term                 frequency\n",
      "\n",
      "order                0.027\n",
      "motion               0.023\n",
      "request              0.018\n",
      "plaintiff            0.018\n",
      "cd                   0.015\n",
      "modify               0.014\n",
      "counsel              0.014\n",
      "sign                 0.014\n",
      "stipulation          0.013\n",
      "l.p.                 0.012\n",
      "\n",
      " Topic 5's make-up:\n",
      "term                 frequency\n",
      "\n",
      "motion               0.055\n",
      "notice               0.022\n",
      "order                0.021\n",
      "complaint            0.017\n",
      "due                  0.015\n",
      "dismiss              0.014\n",
      "sign                 0.013\n",
      "mro                  0.013\n",
      "plaintiff            0.012\n",
      "court                0.012\n"
     ]
    },
    {
     "data": {
      "text/html": [
       "\n",
       "<link rel=\"stylesheet\" type=\"text/css\" href=\"https://cdn.rawgit.com/bmabey/pyLDAvis/files/ldavis.v1.0.0.css\">\n",
       "\n",
       "\n",
       "<div id=\"ldavis_el2506819944928675921674450027\"></div>\n",
       "<script type=\"text/javascript\">\n",
       "\n",
       "var ldavis_el2506819944928675921674450027_data = {\"topic.order\": [1, 3, 2, 5, 4], \"mdsDat\": {\"cluster\": [1, 1, 1, 1, 1], \"topics\": [1, 2, 3, 4, 5], \"Freq\": [31.911802760372797, 20.94251765838396, 17.567253923974892, 16.072085785725996, 13.506339871542353], \"x\": [0.05989373502131794, 0.00042229423157533983, 0.014854683637940005, 0.055826382186844964, -0.1309970950776782], \"y\": [-0.010306363273288797, -0.03320481401007846, -0.07597388351165471, 0.09320066685904814, 0.026284393935973815]}, \"R\": 30, \"tinfo\": {\"Category\": [\"Default\", \"Default\", \"Default\", \"Default\", \"Default\", \"Default\", \"Default\", \"Default\", \"Default\", \"Default\", \"Default\", \"Default\", \"Default\", \"Default\", \"Default\", \"Default\", \"Default\", \"Default\", \"Default\", \"Default\", \"Default\", \"Default\", \"Default\", \"Default\", \"Default\", \"Default\", \"Default\", \"Default\", \"Default\", \"Default\", \"Topic1\", \"Topic1\", \"Topic1\", \"Topic1\", \"Topic1\", \"Topic1\", \"Topic1\", \"Topic1\", \"Topic1\", \"Topic1\", \"Topic1\", \"Topic1\", \"Topic1\", \"Topic1\", \"Topic1\", \"Topic1\", \"Topic1\", \"Topic1\", \"Topic1\", \"Topic1\", \"Topic1\", \"Topic1\", \"Topic1\", \"Topic1\", \"Topic1\", \"Topic1\", \"Topic1\", \"Topic1\", \"Topic1\", \"Topic1\", \"Topic1\", \"Topic1\", \"Topic1\", \"Topic1\", \"Topic1\", \"Topic1\", \"Topic1\", \"Topic1\", \"Topic1\", \"Topic1\", \"Topic1\", \"Topic1\", \"Topic1\", \"Topic1\", \"Topic1\", \"Topic1\", \"Topic1\", \"Topic1\", \"Topic1\", \"Topic1\", \"Topic1\", \"Topic1\", \"Topic1\", \"Topic1\", \"Topic1\", \"Topic1\", \"Topic1\", \"Topic1\", \"Topic1\", \"Topic1\", \"Topic1\", \"Topic1\", \"Topic1\", \"Topic1\", \"Topic1\", \"Topic2\", \"Topic2\", \"Topic2\", \"Topic2\", \"Topic2\", \"Topic2\", \"Topic2\", \"Topic2\", \"Topic2\", \"Topic2\", \"Topic2\", \"Topic2\", \"Topic2\", \"Topic2\", \"Topic2\", \"Topic2\", \"Topic2\", \"Topic2\", \"Topic2\", \"Topic2\", \"Topic2\", \"Topic2\", \"Topic2\", \"Topic2\", \"Topic2\", \"Topic2\", \"Topic2\", \"Topic2\", \"Topic2\", \"Topic2\", \"Topic2\", \"Topic2\", \"Topic2\", \"Topic2\", \"Topic2\", \"Topic2\", \"Topic2\", \"Topic2\", \"Topic2\", \"Topic2\", \"Topic2\", \"Topic2\", \"Topic2\", \"Topic2\", \"Topic2\", \"Topic2\", \"Topic2\", \"Topic2\", \"Topic2\", \"Topic2\", \"Topic2\", \"Topic2\", \"Topic2\", \"Topic2\", \"Topic2\", \"Topic2\", \"Topic2\", \"Topic2\", \"Topic2\", \"Topic2\", \"Topic2\", \"Topic2\", \"Topic2\", \"Topic3\", \"Topic3\", \"Topic3\", \"Topic3\", \"Topic3\", \"Topic3\", \"Topic3\", \"Topic3\", \"Topic3\", \"Topic3\", \"Topic3\", \"Topic3\", \"Topic3\", \"Topic3\", \"Topic3\", \"Topic3\", \"Topic3\", \"Topic3\", \"Topic3\", \"Topic3\", \"Topic3\", \"Topic3\", \"Topic3\", \"Topic3\", \"Topic3\", \"Topic3\", \"Topic3\", \"Topic3\", \"Topic3\", \"Topic3\", \"Topic3\", \"Topic3\", \"Topic3\", \"Topic3\", \"Topic3\", \"Topic3\", \"Topic3\", \"Topic3\", \"Topic3\", \"Topic3\", \"Topic3\", \"Topic3\", \"Topic3\", \"Topic3\", \"Topic3\", \"Topic3\", \"Topic3\", \"Topic3\", \"Topic3\", \"Topic3\", \"Topic3\", \"Topic3\", \"Topic3\", \"Topic3\", \"Topic3\", \"Topic3\", \"Topic3\", \"Topic3\", \"Topic3\", \"Topic3\", \"Topic3\", \"Topic3\", \"Topic3\", \"Topic4\", \"Topic4\", \"Topic4\", \"Topic4\", \"Topic4\", \"Topic4\", \"Topic4\", \"Topic4\", \"Topic4\", \"Topic4\", \"Topic4\", \"Topic4\", \"Topic4\", \"Topic4\", \"Topic4\", \"Topic4\", \"Topic4\", \"Topic4\", \"Topic4\", \"Topic4\", \"Topic4\", \"Topic4\", \"Topic4\", \"Topic4\", \"Topic4\", \"Topic4\", \"Topic4\", \"Topic4\", \"Topic4\", \"Topic4\", \"Topic4\", \"Topic4\", \"Topic4\", \"Topic4\", \"Topic4\", \"Topic4\", \"Topic4\", \"Topic4\", \"Topic4\", \"Topic4\", \"Topic4\", \"Topic4\", \"Topic4\", \"Topic4\", \"Topic4\", \"Topic4\", \"Topic4\", \"Topic4\", \"Topic4\", \"Topic4\", \"Topic4\", \"Topic4\", \"Topic4\", \"Topic4\", \"Topic4\", \"Topic4\", \"Topic5\", \"Topic5\", \"Topic5\", \"Topic5\", \"Topic5\", \"Topic5\", \"Topic5\", \"Topic5\", \"Topic5\", \"Topic5\", \"Topic5\", \"Topic5\", \"Topic5\", \"Topic5\", \"Topic5\", \"Topic5\", \"Topic5\", \"Topic5\", \"Topic5\", \"Topic5\", \"Topic5\", \"Topic5\", \"Topic5\", \"Topic5\", \"Topic5\", \"Topic5\", \"Topic5\", \"Topic5\", \"Topic5\", \"Topic5\", \"Topic5\", \"Topic5\", \"Topic5\", \"Topic5\", \"Topic5\", \"Topic5\", \"Topic5\", \"Topic5\", \"Topic5\", \"Topic5\", \"Topic5\", \"Topic5\", \"Topic5\", \"Topic5\", \"Topic5\", \"Topic5\", \"Topic5\", \"Topic5\", \"Topic5\", \"Topic5\", \"Topic5\", \"Topic5\", \"Topic5\", \"Topic5\", \"Topic5\", \"Topic5\"], \"Total\": [2235.0, 388.0, 87.0, 276.0, 128.0, 112.0, 53.0, 77.0, 311.0, 146.0, 282.0, 393.0, 284.0, 161.0, 40.0, 113.0, 154.0, 43.0, 223.0, 328.0, 75.0, 81.0, 81.0, 95.0, 508.0, 175.0, 125.0, 248.0, 168.0, 184.0, 23.258554414059315, 17.109898537036873, 20.359001553763882, 29.480285817212344, 14.2811966380773, 10.551830991171132, 9.912634563063277, 76.2885408993572, 17.135251292620747, 9.311564842339731, 17.19451879945117, 125.59219968018424, 25.281011595632744, 24.096159173348028, 15.879677309104673, 41.91752509964805, 21.865987306751382, 20.545077352567205, 16.439818231662326, 21.65676735507664, 48.67945055488317, 19.756740541323193, 18.465795412046678, 22.575639103643773, 33.08431081018007, 19.09090738319895, 20.569638162298922, 12.753800437565191, 47.82338494387487, 39.01491916570865, 60.84670609346078, 2235.5498314273254, 309.7594051808001, 96.48649247549417, 87.5664577832585, 130.1825047830727, 1783.6911713552165, 112.50745331928717, 228.64013276305508, 508.1186549195596, 214.02524297602824, 44.58860041261596, 328.3481878972291, 467.42756345799165, 221.8202106361914, 119.35980298658065, 156.44159571859367, 163.47851292610284, 229.8264879157643, 172.73842762961067, 99.53221860109139, 248.03462147192775, 74.61446067356576, 127.8025460190691, 76.09614636826755, 393.6742267695274, 248.01636963651205, 132.8415580767196, 175.37250135712452, 95.86406828401864, 124.28200987451964, 284.69773713248895, 287.6543808657077, 135.987037167464, 158.89526063699108, 25.906327934328683, 13.115958229585733, 10.335579323813187, 53.32169431535437, 27.944328221458886, 18.669747059731193, 39.26557399450509, 51.71357375649138, 15.817918277524418, 11.101183913275033, 49.505287232975846, 15.485643235064503, 58.140684239145784, 29.35917024459972, 14.196133892894725, 9.381528700192407, 12.966843013796696, 16.00060203197362, 28.387415040147363, 37.84096726751546, 39.237613508712414, 44.72240823595142, 44.72014075402588, 14.294469178446793, 44.724938227518024, 11.551616002594043, 14.427962473877967, 49.05615990024609, 22.06453630539115, 161.75449242567237, 42.60362114713587, 22.385041322544886, 30.268018730483238, 184.07342236280545, 282.289175236202, 60.717520643886296, 388.25623767365744, 42.1902148211836, 62.950028546446454, 393.6742267695274, 287.6543808657077, 1783.6911713552165, 133.78259597650003, 107.24442373930995, 78.1106668746697, 248.03462147192775, 89.27544411890992, 117.21280209577786, 192.2213963823879, 2235.5498314273254, 276.110193897436, 116.89754895188918, 311.5589801896091, 508.1186549195596, 106.86629930066634, 228.64013276305508, 93.03290401012264, 154.085342704112, 124.28200987451964, 223.13540807720904, 111.52015673622859, 221.8202106361914, 309.7594051808001, 17.17456014935343, 12.753256419003334, 10.400737990851598, 15.659077883502492, 19.80524380498967, 10.712725174823673, 26.66219141745735, 37.2547103591141, 10.464164072517674, 41.02483285510704, 8.720632024035071, 29.024412270461088, 11.038956514399066, 17.96165401823322, 19.327612743995665, 12.699810850799867, 16.172174776762425, 10.094855567789129, 21.5389057820746, 45.69085194383373, 11.34403446255908, 49.23035816636205, 18.93043250196586, 11.239802617837308, 75.94946181539808, 12.664210257256324, 45.14033628984234, 13.978650417432295, 13.976782787611397, 10.412711371618968, 46.97341941723851, 26.411490603681557, 74.11381833531654, 95.2858286574324, 76.17161445126246, 154.085342704112, 248.01636963651205, 276.110193897436, 58.358245285218786, 92.20952443519236, 40.89053530634263, 1783.6911713552165, 55.19075728481476, 2235.5498314273254, 311.5589801896091, 158.89526063699108, 192.2213963823879, 50.43958715641223, 135.0440091037321, 328.3481878972291, 284.69773713248895, 467.42756345799165, 223.13540807720904, 393.6742267695274, 152.99996176937503, 168.9124397311591, 172.73842762961067, 82.71197659937913, 108.23372622536156, 309.7594051808001, 221.8202106361914, 388.25623767365744, 508.1186549195596, 36.84145155851354, 36.86157489404793, 15.530234568143792, 29.437834901758414, 19.026643549897518, 26.84393211901561, 22.194800160544045, 24.222903633447327, 38.60498329526313, 16.15889609919222, 11.390074394481847, 14.631203078064152, 28.962364642547914, 36.56935647471488, 36.246432808120886, 12.014265624486685, 33.96806613852432, 11.53684046125848, 15.426387760072815, 7.963105068629248, 15.940374192241405, 128.41929100492692, 81.31387191567094, 112.82940477786931, 81.35921808421612, 13.064561507266657, 21.736851392325143, 10.157452764103601, 13.674222739180886, 16.052503077315563, 68.58201866192125, 113.32049408462491, 55.342872461023155, 59.52492826880315, 70.14454988095392, 68.3889564210018, 284.69773713248895, 41.69413659317831, 508.1186549195596, 2235.5498314273254, 144.7989653886482, 328.3481878972291, 388.25623767365744, 229.8264879157643, 282.289175236202, 248.03462147192775, 393.6742267695274, 467.42756345799165, 1783.6911713552165, 156.44159571859367, 152.99996176937503, 116.89754895188918, 311.5589801896091, 287.6543808657077, 93.10264982606593, 248.01636963651205, 53.41751149108656, 26.116056043310984, 15.36585301795743, 40.921528290089725, 14.391315144011624, 43.21403614800902, 27.375137578857853, 25.299278102712194, 11.909021765613332, 11.907807244958668, 15.109426173064413, 87.43230193275409, 20.969231916341915, 27.958026614951468, 9.170739863491015, 77.38349465185098, 12.198976726923194, 36.46202292425593, 37.39264208475524, 14.506593789820183, 17.289764829497397, 20.209975515986947, 24.53113194445328, 41.673260203420185, 31.727068195131977, 17.996002381198032, 37.48062776475701, 14.050570318143507, 12.196336481660381, 8.978718448126694, 14.783069763882121, 40.68052984321391, 37.35689230116909, 64.996286794208, 146.00835546605236, 55.825559714839386, 168.9124397311591, 311.5589801896091, 175.37250135712452, 223.13540807720904, 467.42756345799165, 118.83201705915539, 276.110193897436, 388.25623767365744, 1783.6911713552165, 78.92848319776381, 2235.5498314273254, 284.69773713248895, 214.02524297602824, 80.48266242712738, 106.74125499976947, 229.8264879157643, 287.6543808657077, 69.81857627963527, 163.47851292610284, 309.7594051808001], \"loglift\": [30.0, 29.0, 28.0, 27.0, 26.0, 25.0, 24.0, 23.0, 22.0, 21.0, 20.0, 19.0, 18.0, 17.0, 16.0, 15.0, 14.0, 13.0, 12.0, 11.0, 10.0, 9.0, 8.0, 7.0, 6.0, 5.0, 4.0, 3.0, 2.0, 1.0, 1.1035, 1.0797, 1.0767, 1.0756, 1.0598, 1.0534, 1.0524, 1.0518, 1.0435, 1.0139, 1.0111, 0.9879, 0.9798, 0.966, 0.9655, 0.9499, 0.9472, 0.9336, 0.9264, 0.9239, 0.8992, 0.8772, 0.8726, 0.8722, 0.8645, 0.8623, 0.8544, 0.8488, 0.8436, 0.8327, 0.832, 0.6221, 0.6794, 0.7382, 0.7451, 0.7061, 0.4105, 0.6975, 0.5755, 0.4424, 0.5438, 0.7977, 0.4103, 0.3316, 0.4649, 0.5876, 0.5213, 0.4929, 0.4034, 0.4533, 0.5421, 0.2035, 0.5837, 0.3547, 0.5669, -0.2238, -0.111, 0.2449, 0.0664, 0.4306, 0.2187, -0.395, -0.4389, 0.144, -0.0054, 1.5213, 1.4807, 1.403, 1.3943, 1.3929, 1.3831, 1.3577, 1.3496, 1.3446, 1.3437, 1.3336, 1.3263, 1.3115, 1.267, 1.266, 1.2436, 1.2168, 1.2154, 1.1925, 1.1798, 1.167, 1.1621, 1.1619, 1.1608, 1.1604, 1.1602, 1.1439, 1.1434, 1.1398, 1.1375, 1.1147, 1.1312, 1.1154, 0.9791, 0.8925, 1.0336, 0.8041, 1.0664, 1.0037, 0.6665, 0.6984, 0.0671, 0.735, 0.7721, 0.8481, 0.3926, 0.7697, 0.6526, 0.4348, -0.8673, 0.1243, 0.5631, -0.0323, -0.403, 0.5824, 0.0518, 0.6596, 0.3084, 0.4565, -0.0127, 0.5202, -0.0805, -0.4671, 1.6812, 1.6587, 1.6426, 1.6305, 1.5949, 1.5884, 1.5845, 1.573, 1.5592, 1.5482, 1.5292, 1.528, 1.5116, 1.5001, 1.4872, 1.4845, 1.453, 1.442, 1.4419, 1.4379, 1.4341, 1.4103, 1.4088, 1.3884, 1.3774, 1.3573, 1.3476, 1.3436, 1.3382, 1.3331, 1.3314, 1.3298, 1.298, 1.187, 1.1256, 1.026, 0.8573, 0.8013, 1.1181, 0.9885, 1.1567, -0.124, 1.037, -0.311, 0.3968, 0.5676, 0.4752, 1.0336, 0.5432, 0.0751, 0.1236, -0.1728, 0.2219, -0.1169, 0.3737, 0.2045, 0.1864, 0.7337, 0.5172, -0.3657, -0.1028, -0.6196, -0.8769, 1.7556, 1.7524, 1.747, 1.7333, 1.7296, 1.7283, 1.7134, 1.6897, 1.6801, 1.6683, 1.6679, 1.6227, 1.5987, 1.598, 1.5925, 1.5852, 1.5286, 1.4992, 1.4759, 1.4744, 1.4686, 1.4363, 1.3949, 1.3786, 1.3721, 1.3675, 1.3655, 1.3168, 1.3153, 1.2616, 1.2568, 1.1622, 1.2105, 1.1846, 1.1519, 1.1499, 0.7317, 1.1803, 0.4201, -0.1362, 0.7339, 0.4323, 0.209, 0.4345, 0.2906, 0.3119, 0.0421, -0.0604, -0.8519, 0.5422, 0.5069, 0.6699, -0.1326, -0.0804, 0.7026, -0.2679, 1.9678, 1.9468, 1.9301, 1.9276, 1.9259, 1.8804, 1.8777, 1.8772, 1.8613, 1.8609, 1.8447, 1.8144, 1.7971, 1.7855, 1.7274, 1.7225, 1.7109, 1.7039, 1.6983, 1.6927, 1.663, 1.6446, 1.6292, 1.6052, 1.5993, 1.5771, 1.5287, 1.5238, 1.5214, 1.5201, 1.518, 1.4854, 1.478, 1.3705, 1.2447, 1.3101, 0.9241, 0.7326, 0.9097, 0.8178, 0.2975, 0.868, 0.495, 0.2609, -0.6405, 1.0205, -1.0216, 0.2172, 0.3473, 0.9588, 0.7287, 0.1138, -0.0987, 1.0376, 0.2392, -0.4123], \"Freq\": [2235.0, 388.0, 87.0, 276.0, 128.0, 112.0, 53.0, 77.0, 311.0, 146.0, 282.0, 393.0, 284.0, 161.0, 40.0, 113.0, 154.0, 43.0, 223.0, 328.0, 75.0, 81.0, 81.0, 95.0, 508.0, 175.0, 125.0, 248.0, 168.0, 184.0, 22.37558093146899, 16.0741003356085, 19.068954233964742, 27.581041365759255, 13.151491389814845, 9.65567366719135, 9.061324426077753, 69.69314380509998, 15.525442412504633, 8.190547319639673, 15.08119112618202, 107.63685232071398, 21.492039882923493, 20.204437473366422, 13.308107270373787, 34.58336094225498, 17.992524718773446, 16.67738374365858, 13.249335331237006, 17.409500867463933, 38.179847040800084, 15.157173022851572, 14.101949809578048, 17.233502387449565, 25.063520848067885, 14.429448585988018, 15.425704980728062, 9.510557646166642, 35.479721894896805, 28.629416148342038, 44.62130898060808, 1328.8931822450043, 194.99152082280028, 64.41764792924482, 58.86917342171149, 84.1675529113601, 858.155405222211, 72.11644803500367, 129.7250730477295, 252.3698721267785, 117.65311607592633, 31.59590719396256, 157.93122168046372, 207.8128364780059, 112.6804785835729, 68.54599940396072, 84.0805734963039, 85.40396261020875, 109.78422312592468, 86.73850725282193, 54.61790571778603, 97.019169679247, 42.68679387968869, 58.14949434372515, 42.805212081742035, 100.43406768264947, 70.8343470181453, 54.15468265884427, 59.80487894444354, 47.057127627986254, 49.35441862637609, 61.208305553273576, 59.1870849218555, 50.1158229632988, 50.433181427317045, 24.83898422364761, 12.07492246901719, 8.803602501924518, 45.027202462143066, 23.565132950706037, 15.58908088286624, 31.964569852543466, 41.757812109245904, 12.709452722348729, 8.911727435293407, 39.34171046128575, 12.216750408589903, 45.19300237995024, 21.82850955535161, 10.54445324732123, 6.814032436772091, 9.169231122762701, 11.297730385517925, 19.591318486449953, 25.784906507863568, 26.396695311672875, 29.939638073418173, 29.932763012719807, 9.557098266360113, 29.891809911083698, 7.718748859767437, 9.484655209104456, 32.23127312475318, 14.445934399508772, 105.65607107412208, 27.201822298037406, 14.529376171265282, 19.338009311880338, 102.62611533891005, 144.32699821250887, 35.74515501529611, 181.69591536403792, 25.666119008637825, 35.969055936260055, 160.55901306480663, 121.11565954927448, 399.45696814358797, 58.4273075710707, 48.6077783175804, 38.198794702061825, 76.91861461751164, 40.36934711073031, 47.14598279482357, 62.18344116047984, 196.6707308312344, 65.48026262534393, 42.99052189904908, 63.176180568692274, 71.11430746509795, 40.06818557803693, 50.42976272926286, 37.68197609946816, 43.92568569838637, 41.08411492200871, 46.14137708023733, 39.289972950711025, 42.86314143808571, 40.663115101526344, 16.208496385797716, 11.767371290043895, 9.443992530694716, 14.046631904590773, 17.1459257780376, 9.213447969202504, 22.841602627457583, 31.552380354156092, 8.740644313191169, 33.89481724742914, 7.069405728174553, 23.499505473503774, 8.792244507984424, 14.142833003854417, 15.023867948381051, 9.844856297788969, 12.148046134802552, 7.500251335195739, 16.000645877891706, 33.805310995454434, 8.361620709459386, 35.43515692568676, 13.605583831611181, 7.914359099130206, 52.897690411450434, 8.644686043490301, 30.516549174435887, 9.41176796041785, 9.36034245793692, 6.937963898005061, 31.24532780850915, 17.539161797403235, 47.67641699369864, 54.8592429741629, 41.24148287092335, 75.5199940231976, 102.68934281138817, 108.09001146147489, 31.360070938267715, 43.5274441316741, 22.83895687251988, 276.81477640840086, 27.3477379087848, 287.74876968655764, 81.38933677699971, 49.23925936134971, 54.312741633145734, 24.909343470675253, 40.84065607191179, 62.17977578751627, 56.595310528661294, 69.08418426426758, 48.93791294799581, 61.53087720663067, 39.05701131985419, 36.408177158321514, 36.562979192430014, 30.26230734707425, 31.892744766629637, 37.750454897078264, 35.16148873330308, 36.70730258725647, 37.13920867084584, 34.264882965778455, 34.174293893262394, 14.321035480997677, 26.774922743839415, 17.242282391240877, 24.294219910261077, 19.78953967679262, 21.0929373742989, 33.293452439310244, 13.772902622557044, 9.703716423387345, 11.914557327889964, 23.025325640755277, 29.053605314003242, 28.63832007038371, 9.423542195061078, 25.177891775351576, 8.303675571059008, 10.847560635280267, 5.5911078179135885, 11.126958954273858, 86.7959024669995, 52.72629399563384, 71.9814085455298, 51.566854669324464, 8.242885395939995, 13.686461017533775, 6.091643612572209, 8.188614848726584, 9.109929590348244, 38.73401726742509, 58.22550961125469, 29.844072562639145, 31.27883104699741, 35.67119674663483, 34.71019391106151, 95.11305100729156, 21.81457682293369, 124.29887127158311, 313.5348546186768, 48.48176488751598, 81.30915445433106, 76.90314070848297, 57.03730460698443, 60.66686787313294, 54.45488735476609, 65.99268300581879, 70.72395794392546, 122.29415499191376, 43.24019361324783, 40.82253971306808, 36.712902110851076, 43.85653354422344, 42.66227512081755, 30.21088005222556, 30.49269032185415, 51.61849503757929, 24.712127337401906, 14.29922502272521, 37.98652872874817, 13.336648672975867, 38.26591087325279, 24.174232891020424, 22.33063575577475, 10.345930227295167, 10.340398448350413, 12.910562368747563, 72.4762553595271, 17.08344415553912, 22.514382660098466, 6.968494957538724, 58.51397842673464, 9.118032460703517, 27.064106438090278, 27.59773641011298, 10.647682471219744, 12.318985256777477, 14.137247446342258, 16.897693193479626, 28.024241805391704, 21.210215895349908, 11.766700159991856, 23.348868734544318, 8.709545751385082, 7.542116915968399, 5.5453431163985645, 9.110535635157996, 24.26640617161995, 22.12066445189186, 34.563335069528, 68.46629856239737, 27.946293099221545, 57.48158329135172, 87.54677399099741, 58.82946481939128, 68.27373068314543, 85.01122855181025, 38.23268230305311, 61.17982551527857, 68.07433251145476, 126.96986658910299, 29.576951855115674, 108.70229404585226, 47.78041461369094, 40.90835573920473, 28.356645655397433, 29.876136051752578, 34.78312603339543, 35.20157730119989, 26.615810537397497, 28.047844656678045, 27.702573819741378], \"logprob\": [30.0, 29.0, 28.0, 27.0, 26.0, 25.0, 24.0, 23.0, 22.0, 21.0, 20.0, 19.0, 18.0, 17.0, 16.0, 15.0, 14.0, 13.0, 12.0, 11.0, 10.0, 9.0, 8.0, 7.0, 6.0, 5.0, 4.0, 3.0, 2.0, 1.0, -6.225500106811523, -6.556300163269043, -6.385499954223633, -6.01639986038208, -6.756999969482422, -7.065999984741211, -7.129499912261963, -5.089399814605713, -6.591000080108643, -7.230500221252441, -6.620100021362305, -4.654799938201904, -6.2657999992370605, -6.327600002288818, -6.745100021362305, -5.79010009765625, -6.443600177764893, -6.519499778747559, -6.749599933624268, -6.476500034332275, -5.691199779510498, -6.614999771118164, -6.68720006942749, -6.486700057983398, -6.112100124359131, -6.6641998291015625, -6.597499847412109, -7.081099987030029, -5.764599800109863, -5.979100227355957, -5.535299777984619, -2.141400098800659, -4.0605998039245605, -5.168099880218506, -5.258200168609619, -4.900700092315674, -2.578700065612793, -5.055200099945068, -4.468100070953369, -3.8025999069213867, -4.565800189971924, -5.880499839782715, -4.271399974822998, -3.9969000816345215, -4.609000205993652, -5.105999946594238, -4.901700019836426, -4.886099815368652, -4.635000228881836, -4.87060022354126, -5.333199977874756, -4.758600234985352, -5.579599857330322, -5.270500183105469, -5.576900005340576, -4.723999977111816, -5.073200225830078, -5.341700077056885, -5.242400169372559, -5.4822001457214355, -5.434500217437744, -5.219200134277344, -5.252799987792969, -5.4191999435424805, -5.412899971008301, -5.699900150299072, -6.421199798583984, -6.737199783325195, -5.105100154876709, -5.752600193023682, -6.1656999588012695, -5.447700023651123, -5.1803998947143555, -6.369999885559082, -6.724999904632568, -5.239999771118164, -6.4095001220703125, -5.101399898529053, -5.829100131988525, -6.556700229644775, -6.993299961090088, -6.696499824523926, -6.48769998550415, -5.93720006942749, -5.662499904632568, -5.639100074768066, -5.5131001472473145, -5.513400077819824, -6.65500020980835, -5.514699935913086, -6.86870002746582, -6.662600040435791, -5.4394001960754395, -6.2418999671936035, -4.252099990844727, -5.609000205993652, -6.236100196838379, -5.950200080871582, -4.281199932098389, -3.940200090408325, -5.335899829864502, -3.7100000381469727, -5.667099952697754, -5.329699993133545, -3.833699941635132, -4.115600109100342, -2.9221999645233154, -4.8445000648498535, -5.028500080108643, -5.269499778747559, -4.5696001052856445, -5.214200019836426, -5.059100151062012, -4.782199859619141, -3.6308000087738037, -4.730599880218506, -5.151299953460693, -4.76639986038208, -4.6479997634887695, -5.221700191497803, -4.991700172424316, -5.283100128173828, -5.129799842834473, -5.196700096130371, -5.080599784851074, -5.241399765014648, -5.154300212860107, -5.206999778747559, -5.951000213623047, -6.271200180053711, -6.491199970245361, -6.094200134277344, -5.894800186157227, -6.515900135040283, -5.607999801635742, -5.284900188446045, -6.568600177764893, -5.2133002281188965, -6.780799865722656, -5.579599857330322, -6.562699794769287, -6.087399959564209, -6.026899814605713, -6.4496002197265625, -6.2393999099731445, -6.72160005569458, -5.963900089263916, -5.216000080108643, -6.6128997802734375, -5.168900012969971, -6.126100063323975, -6.667900085449219, -4.768199920654297, -6.579599857330322, -5.318299770355225, -6.49459981918335, -6.500100135803223, -6.799600124359131, -5.2947001457214355, -5.872099876403809, -4.872099876403809, -4.731800079345703, -5.017099857330322, -4.412199974060059, -4.104899883270264, -4.053599834442139, -5.290999889373779, -4.963200092315674, -5.608099937438965, -3.1131999492645264, -5.4278998374938965, -3.07450008392334, -4.337299823760986, -4.839900016784668, -4.741799831390381, -5.521299839019775, -5.026899814605713, -4.606500148773193, -4.7006001472473145, -4.501200199127197, -4.8460001945495605, -4.617000102996826, -5.071599960327148, -5.1417999267578125, -5.137499809265137, -5.326700210571289, -5.274199962615967, -5.105599880218506, -5.176599979400635, -5.133600234985352, -5.1219000816345215, -5.113500118255615, -5.116099834442139, -5.985899925231934, -5.360199928283691, -5.800300121307373, -5.457399845123291, -5.662499904632568, -5.598700046539307, -5.142300128936768, -6.024899959564209, -6.375100135803223, -6.169899940490723, -5.511000156402588, -5.278500080108643, -5.292900085449219, -6.404399871826172, -5.4217000007629395, -6.530900001525879, -6.263700008392334, -6.926400184631348, -6.23829984664917, -4.184100151062012, -4.682499885559082, -4.371200084686279, -4.704699993133545, -6.538300037384033, -6.031199932098389, -6.840700149536133, -6.544899940490723, -6.438300132751465, -4.990900039672852, -4.5833001136779785, -5.2515997886657715, -5.204699993133545, -5.073299884796143, -5.100599765777588, -4.092599868774414, -5.565000057220459, -3.824899911880493, -2.8996999263763428, -4.76639986038208, -4.2494001388549805, -4.305099964141846, -4.603899955749512, -4.542200088500977, -4.650300025939941, -4.458099842071533, -4.388800144195557, -3.841200113296509, -4.880899906158447, -4.938399791717529, -5.04449987411499, -4.866700172424316, -4.8942999839782715, -5.2393999099731445, -5.230100154876709, -4.529799938201904, -5.26639986038208, -5.813499927520752, -4.83650016784668, -5.883200168609619, -4.829100131988525, -5.288400173187256, -5.367700099945068, -6.1371002197265625, -6.137599945068359, -5.9156999588012695, -4.190400123596191, -5.6356000900268555, -5.359499931335449, -6.532299995422363, -4.404399871826172, -6.263400077819824, -5.17549991607666, -5.156000137329102, -6.108399868011475, -5.962600231170654, -5.824900150299072, -5.646500110626221, -5.140600204467773, -5.4191999435424805, -6.008399963378906, -5.3231000900268555, -6.309299945831299, -6.453199863433838, -6.760700225830078, -6.2642998695373535, -5.284599781036377, -5.377200126647949, -4.9309000968933105, -4.247399806976318, -5.143400192260742, -4.4222002029418945, -4.001500129699707, -4.399099826812744, -4.250199794769287, -4.030900001525879, -4.829999923706055, -4.359899997711182, -4.2530999183654785, -3.629699945449829, -5.086699962615967, -3.785099983215332, -4.607100009918213, -4.762400150299072, -5.128799915313721, -5.076600074768066, -4.924600124359131, -4.912600040435791, -5.192200183868408, -5.139800071716309, -5.152200222015381], \"Term\": [\"motion\", \"sign\", \"cd\", \"stipulation\", \"due\", \"mro\", \"cal\", \"han\", \"request\", \"modify\", \"case\", \"court\", \"complaint\", \"judgment\", \"tp\", \"minute_entry_proceeding_hold\", \"claim\", \"sign_copy_mail\", \"counsel\", \"dismiss\", \"pl\", \"service\", \"hold\", \"letter_address\", \"notice\", \"l.p.\", \"djc\", \"schedule\", \"conference\", \"may\", \"summary_judgment_favor_november\", \"support_paper_review\", \"rule_disclosure_statement\", \"partial_summary_judgment\", \"notice_case_reassignment\", \"dismiss_subrogation_claim_assert\", \"case_assign\", \"serve_answer_due\", \"associate_case_et_al\", \"responsereply\", \"error_deficient_docket_entry\", \"djc\", \"civ\", \"s.d.n.y\", \"attachment_erratum\", \"cotton\", \"adar_bay\", \"comply_discovery_ruling_conference\", \"adjourn_conference\", \"text\", \"kw\", \"report_recommendation\", \"provision\", \"attachment_text_propose\", \"limine_preclude_plaintiff_introduce\", \"pro_hac_vice\", \"status_conference_hold\", \"unredacted\", \"extension_time\", \"show_cause\", \"summary_judgment.._document\", \"motion\", \"letter\", \"affidavit_service\", \"leave\", \"opposition\", \"order\", \"response\", \"memorandum_law_support\", \"notice\", \"'\", \"withdraw_attorney\", \"dismiss\", \"plaintiff\", \"summary_judgment\", \"attorney\", \"serve\", \"hereby\", \"grant\", \"declaration_support\", \"plaintiff_'\", \"magistrate\", \"rule_statement\", \"declaration_opposition\", \"p.c\", \"court\", \"schedule\", \"memorandum_law_opposition\", \"l.p.\", \"july\", \"seal\", \"complaint\", \"attachment\", \"sign_magistrate\", \"discovery\", \"cf\", \"sign_sr\", \"nonecf_case_error\", \"sac\", \"note_attorney_refile_document\", \"a.m._courtroom\", \"document_place_vault\", \"copy_send_chamber\", \"united_state_courthouse_pearl\", \"fee_cost\", \"conference_hold\", \"modify_gf\", \"form\", \"ama\", \"jr\", \"transfer_new_york_eastern\", \"immediately\", \"langer\", \"error\", \"associate_case_rjm\", \"dismiss.._document\", \"request_redaction_transcript\", \"court_notice_intent\", \"person\", \"calendar_day\", \"modify_ldi\", \"permit\", \"attach\", \"vacate\", \"judgment\", \"redaction_request_due\", \"appendix\", \"transcript_proceeding_conference_hold\", \"may\", \"case\", \"opinion\", \"sign\", \"kan._gr\", \"extend\", \"court\", \"attachment\", \"order\", \"submit\", \"issue\", \"august\", \"magistrate\", \"notice_appearance_behalf\", \"april\", \"action\", \"motion\", \"stipulation\", \"support\", \"request\", \"notice\", \"answer\", \"memorandum_law_support\", \"deposition\", \"claim\", \"seal\", \"counsel\", \"clerk\", \"summary_judgment\", \"letter\", \"kgo\", \"tape\", \"oral_argument_set_pm\", \"set_answer_due\", \"case_designate\", \"civil_action\", \"wellington\", \"dle\", \"rj\", \"court_reportertranscriber\", \"sign_iii_cd\", \"courtroom_pearl_street_new\", \"administration\", \"mbe\", \"r\", \"additional_attachment_add\", \"usca_case\", \"united_state_magistrate\", \"york_ny_magistrate\", \"sign_gr\", \"certify_copy_docket_sheet\", \"c.d\", \"kkc\", \"goodwin\", \"pl\", \"pleading\", \"crossclaim\", \"attorney_responsible_provide_courtesy\", \"copy_individual_practice_require\", \"kco\", \"answer_due\", \"rule_.._document\", \"notice_appeal\", \"letter_address\", \"certificate_service\", \"claim\", \"schedule\", \"stipulation\", \"set\", \"dismissal\", \"reiter\", \"order\", \"v.\", \"motion\", \"request\", \"discovery\", \"action\", \"supplemental\", \"regard\", \"dismiss\", \"complaint\", \"plaintiff\", \"counsel\", \"court\", \"amend_complaint\", \"conference\", \"declaration_support\", \"reply_memorandum_law_support\", \"endorsed_letter_address\", \"letter\", \"summary_judgment\", \"sign\", \"notice\", \"transcript_may_make_remotely\", \"electronically_available_public_without\", \"longer_assigned_case\", \"associated_case_et_al\", \"response_due_reply\", \"redaction_calendar_day_mcguirk\", \"magistrate_discovery_hear\", \"ae\", \"fee_receipt_number\", \"jpo\", \"copy_mail\", \"genesys_id_basile_mark\", \"response_due\", \"transcript_proceeding_hold\", \"refer\", \"expert_discovery_due\", \"may_obtain_pacer\", \"transcript_proceeding\", \"respectfully\", \"aim_exploration_basile_mark\", \"setreset_deadline\", \"due\", \"service\", \"mro\", \"hold\", \"new_jersey\", \"pretrial_conference_hold\", \"p\", \"execute\", \"opposition_paper\", \"service_accept\", \"minute_entry_proceeding_hold\", \"affidavit_service_summons\", \"rjm\", \"set_forth\", \"sign_iii\", \"complaint\", \"nd\", \"notice\", \"motion\", \"propose\", \"dismiss\", \"sign\", \"grant\", \"case\", \"magistrate\", \"court\", \"plaintiff\", \"order\", \"serve\", \"amend_complaint\", \"support\", \"request\", \"attachment\", \"november\", \"schedule\", \"cal\", \"ja\", \"jv\", \"tp\", \"associated_case_ft\", \"sign_copy_mail\", \"mp\", \"haas\", \"global_hedge_fund_select\", \"master_account_l.p._balentine\", \"receive_night_deposit_box\", \"cd\", \"cyr\", \"summons_issue\", \"line\", \"han\", \"conference_call\", \"answer_due_answer_due\", \"yv\", \"initiate\", \"dismissal_without_prejudice\", \"g.c\", \"new_address\", \"supplemental_amend\", \"ltd..\", \"civil_cover_sheet\", \"notice_change_address\", \"nm\", \"corp..\", \"new_york_observer_l.p.\", \"estate_m.l\", \"release_transcript_restriction_set\", \"db\", \"behalf\", \"modify\", \"related\", \"conference\", \"request\", \"l.p.\", \"counsel\", \"plaintiff\", \"declaration\", \"stipulation\", \"sign\", \"order\", \"c\", \"motion\", \"complaint\", \"'\", \"answer_complaint\", \"deny\", \"grant\", \"attachment\", \"must\", \"hereby\", \"letter\"]}, \"token.table\": {\"Freq\": [0.5513368346612111, 0.12148099746772446, 0.06074049873386223, 0.07942988295966599, 0.19156618831448857, 0.8570014338603668, 0.10712517923254584, 0.05356258961627292, 0.2341050520228303, 0.3225447383425662, 0.2809260624273964, 0.05722567938335851, 0.10404668978792457, 0.8231963070079295, 0.045733128167107194, 0.09146625633421439, 0.07874133022516767, 0.7874133022516767, 0.07874133022516767, 0.7907630009535388, 0.06082792315027222, 0.06082792315027222, 0.06082792315027222, 0.06082792315027222, 0.09058827242372171, 0.8152944518134954, 0.09058827242372171, 0.8669480883787567, 0.08256648460750064, 0.6633052809568639, 0.08291316011960799, 0.093277305134559, 0.041456580059803995, 0.11400559516446099, 0.21683008970037385, 0.03613834828339564, 0.5420752242509346, 0.19876091555867603, 0.12557915428486716, 0.12557915428486716, 0.7534749257092029, 0.1362436324553741, 0.7493399785045576, 0.034060908113843526, 0.06812181622768705, 0.2875817712054303, 0.07843139214693555, 0.2549020244775405, 0.26797392316869645, 0.1045751895292474, 0.15907727797489102, 0.3742994775879788, 0.22457968655278732, 0.14036230409549205, 0.0935748693969947, 0.22365065291295513, 0.11182532645647757, 0.27335079800472295, 0.0248500725458839, 0.34790101564237463, 0.1703090832911373, 0.021288635411392164, 0.6599476977531571, 0.021288635411392164, 0.127731812468353, 0.027425795932314048, 0.027425795932314048, 0.19198057152619835, 0.7404964901724793, 0.04467268948004395, 0.6700903422006592, 0.0893453789600879, 0.0893453789600879, 0.13401806844013184, 0.23888175608258572, 0.40098009056719747, 0.20475579092793061, 0.09384640417530153, 0.05972043902064643, 0.9337476134295363, 0.05835922583934602, 0.6870860307611554, 0.23783747218655377, 0.052852771597011954, 0.06793977908614922, 0.9171870176630145, 0.9033225851780082, 0.06115439949030643, 0.6523135945632685, 0.06115439949030643, 0.08153919932040857, 0.142693598810715, 0.20510725344226313, 0.42064368926294643, 0.10081542965806155, 0.1494849474240223, 0.12167379441490186, 0.8186564340666042, 0.12594714370255447, 0.7530240859164049, 0.08859106893134176, 0.08859106893134176, 0.04429553446567088, 0.5780840640944884, 0.2429628675179734, 0.09215832905854164, 0.05026817948647726, 0.041890149572064383, 0.14307532846703633, 0.6438389781016635, 0.14307532846703633, 0.07153766423351816, 0.3200587192542224, 0.48648925326641806, 0.10241879016135116, 0.03840704631050669, 0.05120939508067558, 0.20001142590130958, 0.09231296580060441, 0.15385494300100735, 0.015385494300100735, 0.5384923005035258, 0.27873334325805593, 0.22805455357477303, 0.012669697420820724, 0.1013575793665658, 0.38009092262462174, 0.020312669605627134, 0.7109434361969497, 0.04062533921125427, 0.20312669605627134, 0.973463543105652, 0.6707667173823356, 0.04471778115882237, 0.1565122340558783, 0.13415334347646712, 0.10273153398721224, 0.510115203246847, 0.09564660060878381, 0.21609046804206714, 0.07793426716271273, 0.9079321892422061, 0.05049167835783285, 0.8583585320831585, 0.05049167835783285, 0.03431226141463551, 0.06862452282927102, 0.05718710235772585, 0.011437420471545171, 0.8234942739512523, 0.2625650006774738, 0.03938475010162107, 0.5382582513888213, 0.03938475010162107, 0.10502600027098952, 0.7052164753557435, 0.08815205941946794, 0.08815205941946794, 0.9650151910133238, 0.8306629630132252, 0.07911075838221192, 0.03955537919110596, 0.8401223641162003, 0.09334692934624449, 0.11113579325203755, 0.05556789662601878, 0.16670368987805634, 0.6668147595122254, 0.14277801907639134, 0.2855560381527827, 0.49323315680935187, 0.038939459748106725, 0.038939459748106725, 0.07173591065624023, 0.3497125644491711, 0.11657085481639036, 0.23314170963278072, 0.22417472080075068, 0.21426232823063363, 0.08429993241860995, 0.20021233949419864, 0.33368723249033105, 0.1685998648372199, 0.8274488194066483, 0.09734691993019391, 0.048673459965096956, 0.17168658534656403, 0.165766358265648, 0.21312817491297603, 0.11248431453740401, 0.33745294361221206, 0.08197408867851971, 0.08197408867851971, 0.08197408867851971, 0.7377667981066774, 0.06059958779517347, 0.7877946413372551, 0.04039972519678231, 0.06059958779517347, 0.06059958779517347, 0.14309444672580449, 0.6439250102661201, 0.14309444672580449, 0.07154722336290224, 0.0877957391116313, 0.877957391116313, 0.058011848380976054, 0.8121658773336647, 0.07734913117463474, 0.058011848380976054, 0.08199183431054882, 0.16398366862109764, 0.08199183431054882, 0.6559346744843906, 0.8349729598013378, 0.09542548112015288, 0.07156911084011466, 0.1478922609565461, 0.20615284860609454, 0.2195975996021442, 0.1210027589644468, 0.3047476892437919, 0.25401713701350326, 0.40896759059174026, 0.15749062494837202, 0.16765131042891215, 0.012700856850675162, 0.6708386756877389, 0.044722578379182594, 0.15652902432713908, 0.1341677351375478, 0.02437548017640524, 0.8287663259977781, 0.14625288105843143, 0.06890751073142153, 0.10336126609713228, 0.7924363734113475, 0.13291881481508025, 0.022153135802513373, 0.6867472098779146, 0.08861254321005349, 0.11076567901256687, 0.14306675666370094, 0.8107116210943053, 0.3747635078189271, 0.026768821987066222, 0.5889140837154568, 0.1430590881204792, 0.16830480955350496, 0.2440419738525822, 0.1262286071651287, 0.3197791381516594, 0.4538250747473056, 0.19561425635659724, 0.14084226457675003, 0.09389484305116667, 0.10954398355969445, 0.503651684190082, 0.06368009800104485, 0.21419669327624175, 0.17367299454830412, 0.052101898364491236, 0.25294812207387213, 0.15926363241688243, 0.281053468970969, 0.028105346897096904, 0.281053468970969, 0.20422881777325436, 0.4084576355465087, 0.17198216233537209, 0.13973550689748981, 0.07524219602172529, 0.3146726957088355, 0.09440180871265065, 0.30837924179465875, 0.17621670959694788, 0.10069526262682736, 0.4811965036623044, 0.05177430735607073, 0.18882394447508147, 0.24668934681421933, 0.03045547491533572, 0.12742874891944658, 0.6626294943811223, 0.05097149956777863, 0.025485749783889317, 0.10194299913555727, 0.9477028212797517, 0.2711216672369973, 0.11929353358427883, 0.4771741343371153, 0.010844866689479893, 0.11929353358427883, 0.05783768662335643, 0.05783768662335643, 0.11567537324671286, 0.05783768662335643, 0.6940522394802772, 0.8599260167034091, 0.0875850572568287, 0.02388683379731692, 0.007962277932438973, 0.015924555864877947, 0.13421121656302948, 0.8589517860033886, 0.8149632552036079, 0.15280561035067647, 0.05450894445236767, 0.06229593651699162, 0.163526833357103, 0.6774683096222839, 0.046721952387743716, 0.9223697060618538, 0.05425704153305022, 0.21250307831137563, 0.26793866395782145, 0.29565645678104435, 0.09239264274407637, 0.1293496998417069, 0.10568063332843801, 0.7045375555229201, 0.17613438888073002, 0.035226877776146005, 0.8723710256130449, 0.058158068374202995, 0.058158068374202995, 0.33822474491840393, 0.6088045408531271, 0.07313029918217509, 0.29252119672870036, 0.5850423934574007, 0.749109457148741, 0.1664687682552758, 0.09531369784166209, 0.5718821870499725, 0.12708493045554944, 0.03177123261388736, 0.1588561630694368, 0.7318595294138153, 0.0418205445379323, 0.02091027226896615, 0.0836410890758646, 0.0836410890758646, 0.09008048220912533, 0.810724339882128, 0.09008048220912533, 0.07771017479932708, 0.051806783199551384, 0.8548119227925979, 0.10319795988847745, 0.7739846991635809, 0.051598979944238725, 0.06879863992565163, 0.049480515164848055, 0.19792206065939222, 0.049480515164848055, 0.6927272123078727, 0.06834707950293241, 0.06834707950293241, 0.820164954035189, 0.08396995317343754, 0.8396995317343755, 0.17793906779341892, 0.7117562711736757, 0.08896953389670946, 0.4786219421336546, 0.09137327986187951, 0.030457759953959836, 0.2480131881965301, 0.1522887997697992, 0.07905363907540078, 0.8695900298294086, 0.06461326181371162, 0.10338121890193859, 0.012922652362742324, 0.06461326181371162, 0.7624364894017971, 0.519946006839581, 0.17127633166480316, 0.06728713029688696, 0.06728713029688696, 0.17127633166480316, 0.12291170239184025, 0.12291170239184025, 0.11062053215265623, 0.6391408524375694, 0.1542395475808571, 0.6940779641138569, 0.07711977379042854, 0.07711977379042854, 0.20680250949779896, 0.06893416983259966, 0.7582758681585963, 0.11189392960112904, 0.4569002125379436, 0.1305429178679839, 0.10256943546770163, 0.19581437680197583, 0.9572655212004404, 0.12377083110893818, 0.8663958177625672, 0.774858851219034, 0.07044171374718491, 0.14088342749436983, 0.08655091917421165, 0.6553141023190311, 0.14219079578620486, 0.07418650214932428, 0.04945766809954952, 0.4902775444575546, 0.3025116763674273, 0.05215718558059092, 0.10431437116118183, 0.05215718558059092, 0.9111111490939543, 0.616256639369977, 0.023702178437306806, 0.3555326765596021, 0.2881093975366341, 0.6722552609188129, 0.9316104669267092, 0.10564998976078897, 0.7395499283255228, 0.10564998976078897, 0.10564998976078897, 0.7806168633139619, 0.020542549034577945, 0.04108509806915589, 0.14379784324204561, 0.34212889441439504, 0.068425778882879, 0.15395800248647776, 0.09693652008407859, 0.3364267461741551, 0.1249952968021733, 0.6874741324119532, 0.1249952968021733, 0.06249764840108665, 0.6737739711481168, 0.03425969344820933, 0.045679591264279104, 0.17129846724104664, 0.06851938689641866, 0.6295208369417631, 0.13236079135698608, 0.12267585540403589, 0.029054807858850604, 0.09039273556086855, 0.31484220080464154, 0.08395792021457107, 0.5772107014751762, 0.010494740026821384, 0.010494740026821384, 0.7556451800805679, 0.18135484321933631, 0.030225807203222717, 0.10904245621239671, 0.10904245621239671, 0.7632971934867769, 0.9014673885684465, 0.06303765566043915, 0.1260753113208783, 0.06303765566043915, 0.09455648349065872, 0.661895384434611, 0.39107443720705876, 0.31044053262828375, 0.05241203797620375, 0.21771154236269252, 0.02822186660257125, 0.09011119656555518, 0.9011119656555517, 0.08397851757496021, 0.8397851757496021, 0.19014151826337874, 0.559559325175086, 0.07605660730535149, 0.12495014057307746, 0.04889353326772596, 0.20607590586562907, 0.7359853780915323, 0.16702248005415551, 0.7794382402527257, 0.40649929722153316, 0.11291647145042588, 0.10538870668706415, 0.22583294290085176, 0.15055529526723452, 0.5685790960186413, 0.21868426769947744, 0.06997896566383278, 0.10496844849574917, 0.03498948283191639, 0.1588415241691238, 0.08824529120506878, 0.23826228625368573, 0.511822688989399, 0.205467693299067, 0.0479424617697823, 0.1027338466495335, 0.1780720008591914, 0.4657267714778852, 0.7749113044802763, 0.19372782612006909, 0.25970392361781386, 0.6925437963141704, 0.5944846235663989, 0.08812149800043685, 0.12882736763515643, 0.14045761610221916, 0.04875758011191684, 0.07305899355715473, 0.8767079226858566, 0.017725875661025254, 0.14180700528820203, 0.008862937830512627, 0.6381315237969091, 0.19498463227127777, 0.08593701446974485, 0.272133879154192, 0.014322835744957473, 0.24348820766427706, 0.3867165651138518, 0.3357786284580499, 0.09593675098801425, 0.023984187747003564, 0.5276521304340783, 0.08152905477532271, 0.08152905477532271, 0.16305810955064542, 0.692996965590243, 0.07654294401260912, 0.22962883203782739, 0.612343552100873, 0.07654294401260912, 0.22274893812014754, 0.11137446906007377, 0.6682468143604426, 0.2846859529135838, 0.6405433940555635, 0.870778474822789, 0.09675316386919879, 0.035785437104624486, 0.8588504905109877, 0.07157087420924897, 0.035785437104624486, 0.49594715242229037, 0.13973114215072466, 0.07281763745882835, 0.24403748769985717, 0.045265017879812214, 0.06746380246364142, 0.18889864689819597, 0.6476525036509576, 0.013492760492728283, 0.0809565629563697, 0.011201288437927632, 0.44805153751710525, 0.22402576875855262, 0.2912334993861184, 0.011201288437927632, 0.9102878651876198, 0.26680449598560324, 0.02668044959856032, 0.05336089919712064, 0.05336089919712064, 0.6136503407668874, 0.12888999424203673, 0.22555748992356428, 0.22555748992356428, 0.32222498560509183, 0.09666749568152755, 0.26351537135123543, 0.5929095855402797, 0.08234855354726107, 0.04940913212835664, 0.016469710709452214, 0.6452479934993716, 0.11522285598203065, 0.09217828478562452, 0.0998598085177599, 0.04608914239281226, 0.18688674193368762, 0.12459116128912508, 0.06229558064456254, 0.5606602258010629, 0.8653232114794475, 0.48102497437833197, 0.22369343214097256, 0.15529594161165264, 0.06839749052931994, 0.0712006663706855, 0.196899758871436, 0.098449879435718, 0.590699276614308, 0.5650746069571165, 0.06570634964617635, 0.11827142936311742, 0.02628253985847054, 0.23654285872623484, 0.9497872637195375, 0.03392097370426919, 0.6237887031030632, 0.2772394236013614, 0.06930985590034035, 0.0699571272998231, 0.699571272998231, 0.1399142545996462, 0.1399142545996462, 0.21066640391592797, 0.6978324629715114, 0.026333300489490997, 0.06583325122372749, 0.44498873464207517, 0.07487791207919534, 0.14761645524184225, 0.15189519307493912, 0.18184635790661727, 0.5525848893254441, 0.3014099396320605, 0.08037598390188279, 0.060281987926412095, 0.07896268142160869, 0.7106641327944782, 0.15792536284321737, 0.23002411479729776, 0.04600482295945955, 0.6440675214324337, 0.04600482295945955, 0.7333333989310938, 0.1571428711995201, 0.0523809570665067, 0.21408992748528508, 0.19337154740606394, 0.19337154740606394, 0.3314940812675382, 0.06906126693073712, 0.7581585134895792, 0.10830835906993988, 0.05415417953496994, 0.05415417953496994, 0.10347889449623425, 0.7760917087217569, 0.10347889449623425, 0.1323677006056922, 0.8603900539369993, 0.8940567981469065, 0.07450473317890888, 0.04694436637422908, 0.6337489460520925, 0.1173609159355727, 0.04694436637422908, 0.1643052823098018, 0.055177843584980506, 0.027588921792490253, 0.11035568716996101, 0.8000787319822174, 0.3702496714355779, 0.10366990800196181, 0.3036047305771739, 0.06664494085840403, 0.1629098554316543, 0.17118875914823775, 0.5624773514870669, 0.07336661106353046, 0.19564429616941456, 0.0716517670477871, 0.10747765057168066, 0.23286824290530808, 0.08956470880973388, 0.5015623693345097, 0.19665427246972086, 0.07374535217614533, 0.12290892029357554, 0.5899628174091627, 0.31434383591064086, 0.13299162288527114, 0.3627044260507395, 0.18135221302536975, 0.012090147535024649, 0.759234549273247, 0.10123127323643293, 0.10123127323643293, 0.11554794529784075, 0.20220890427122132, 0.25998287692014166, 0.1412252664751387, 0.2824505329502774, 0.6708046633294587, 0.04472031088863058, 0.156521088110207, 0.1341609326658917, 0.06482398961785722, 0.12964797923571444, 0.7130638857964295, 0.06482398961785722, 0.6399576017036822, 0.17776600047324506, 0.05332980014197352, 0.062218100165635774, 0.062218100165635774, 0.03452756749464179, 0.13811026997856715, 0.7941340523767612, 0.03452756749464179, 0.052557877451032936, 0.8934839166675599, 0.8591466778627757, 0.10739333473284696, 0.8600782573389643, 0.09556425081544047, 0.3023943165242544, 0.01679968425134747, 0.10079810550808481, 0.5207902117917715, 0.050399052754042405, 0.3028984664305491, 0.6815215494687353, 0.9332481236776252, 0.5762957959064086, 0.10721782249421555, 0.13402227811776943, 0.12062005030599249, 0.06701113905888471, 0.8300077973472778, 0.08300077973472779, 0.041500389867363895, 0.8439341730940069, 0.11252455641253425, 0.03750818547084475, 0.2862714267774188, 0.12095975779327556, 0.4152951684235794, 0.12095975779327556, 0.05644788697019526, 0.39426462485980446, 0.32989489018881596, 0.19310920401296544, 0.03218486733549424, 0.0402310841693678, 0.5369415954507314, 0.04474513295422762, 0.10866675146026707, 0.2748629595759696, 0.03196080925301973, 0.9175689975817825, 0.013108128536882606, 0.013108128536882606, 0.06554064268441304, 0.14757629562204305, 0.012298024635170254, 0.08608617244619178, 0.6517953056640235, 0.11068222171653229, 0.029162162896649448, 0.23329730317319558, 0.13122973303492252, 0.5686621764846642, 0.043743244344974175, 0.18849093125125413, 0.06854215681863787, 0.5312017153444435, 0.1028132352279568, 0.1028132352279568, 0.8940500905707608, 0.06386072075505433, 0.17107530122248762, 0.15681902612061366, 0.11405020081499175, 0.5132259036674629, 0.05702510040749587, 0.12546756907208942, 0.18820135360813411, 0.6900716298964917, 0.7433053975282601, 0.05126244120884552, 0.07689366181326829, 0.15378732362653658, 0.06439046581658103, 0.4687625911447099, 0.09529788940853992, 0.19832263471506958, 0.1751420670211004, 0.02314062950692636, 0.06942188852077909, 0.8793439212632017, 0.13131731505850677, 0.10943109588208898, 0.744131451998205, 0.1169779511000588, 0.10235570721255145, 0.10235570721255145, 0.5117785360627572, 0.16084468276258085, 0.8026941144526211, 0.11467058777894587, 0.36768210442313326, 0.23531654683080527, 0.11765827341540264, 0.1470728417692533, 0.13236555759232796, 0.914915996982328, 0.7292301343196577, 0.04861534228797718, 0.09723068457595437, 0.09723068457595437, 0.13762621170776296, 0.2354132568685419, 0.39114818064311574, 0.010865227240086548, 0.22092628721509314, 0.3139421812937285, 0.43353920273895835, 0.022424441520980602, 0.03737406920163434, 0.17939553216784482, 0.5094215701802391, 0.1938506859977901, 0.1577854420912245, 0.0946712652547347, 0.045081554883207, 0.7395634519784822, 0.06573897350919841, 0.09860846026379762, 0.09860846026379762, 0.9458885366797111, 0.07153580714206899, 0.07153580714206899, 0.035767903571034494, 0.8226617821337934, 0.2577340682763172, 0.19825697559716704, 0.4956424389929176, 0.019825697559716703, 0.03965139511943341, 0.3119506354084836, 0.6718936762644263, 0.21386248235443414, 0.3678434696496267, 0.07699049364759629, 0.3165164738845625, 0.03421799717670946, 0.9351312028745036, 0.9409361504030512, 0.7849740324247871, 0.046174943083811, 0.092349886167622, 0.04887402996833711, 0.928606569398405, 0.9228735177819855, 0.054286677516587376, 0.08667884446855881, 0.6934307557484705, 0.17335768893711762, 0.29734354534860935, 0.6277252624026197, 0.06607634341080208, 0.08203589806329481, 0.10938119741772642, 0.7930136812785166, 0.10659243626036032, 0.7461470538225221, 0.10659243626036032, 0.10659243626036032, 0.12643888815899293, 0.821852773033454, 0.06321944407949646, 0.09906035735576252, 0.7924828588461001, 0.19812071471152504, 0.784080011989672, 0.07840800119896721, 0.15681600239793442, 0.061834602569153914, 0.18550380770746175, 0.742015230829847, 0.23554668642999094, 0.10871385527538044, 0.48921234873921193, 0.09059487939615037, 0.07247590351692029, 0.18128638393468788, 0.6345023437714076, 0.09064319196734394, 0.09064319196734394, 0.8626447706372893, 0.11251888312660295, 0.7176722234803736, 0.20184531285385507, 0.06728177095128503, 0.022427256983761676, 0.09285522766270082, 0.13928284149405123, 0.7428418213016066, 0.10697291704965606, 0.08022968778724204, 0.05348645852482803, 0.7488104193475924], \"Topic\": [1, 2, 3, 4, 5, 2, 3, 4, 1, 2, 3, 4, 5, 1, 3, 4, 1, 3, 4, 1, 2, 3, 4, 5, 1, 3, 4, 4, 5, 1, 2, 3, 4, 5, 1, 3, 4, 5, 1, 2, 4, 1, 2, 4, 5, 1, 2, 3, 4, 5, 1, 2, 3, 4, 5, 1, 2, 3, 4, 5, 1, 2, 3, 4, 5, 2, 3, 4, 5, 1, 2, 3, 4, 5, 1, 2, 3, 4, 5, 1, 4, 2, 4, 5, 1, 4, 5, 1, 2, 3, 4, 5, 1, 2, 3, 4, 5, 1, 2, 1, 3, 4, 5, 1, 2, 3, 4, 5, 1, 3, 4, 5, 1, 2, 3, 4, 5, 1, 2, 3, 4, 5, 1, 2, 3, 4, 5, 2, 3, 4, 5, 5, 2, 3, 4, 5, 1, 2, 3, 4, 5, 1, 2, 3, 4, 1, 2, 3, 4, 5, 1, 2, 3, 4, 5, 3, 4, 5, 2, 1, 3, 4, 3, 4, 2, 3, 4, 5, 1, 2, 3, 4, 5, 1, 2, 3, 4, 5, 1, 2, 3, 4, 5, 1, 2, 4, 1, 2, 3, 4, 5, 1, 2, 4, 5, 1, 2, 3, 4, 5, 1, 3, 4, 5, 1, 4, 1, 2, 3, 5, 1, 2, 4, 5, 1, 2, 3, 1, 2, 3, 4, 5, 1, 2, 3, 4, 5, 2, 3, 4, 5, 2, 3, 5, 1, 2, 3, 1, 2, 3, 4, 5, 1, 5, 2, 4, 5, 1, 2, 3, 4, 5, 1, 2, 3, 4, 5, 1, 2, 3, 4, 5, 1, 2, 3, 4, 5, 1, 2, 3, 4, 5, 1, 2, 3, 4, 5, 1, 2, 3, 4, 5, 1, 2, 3, 4, 5, 1, 1, 2, 3, 4, 5, 1, 2, 3, 4, 5, 1, 2, 3, 4, 5, 2, 3, 2, 3, 1, 2, 3, 4, 5, 4, 5, 1, 2, 3, 4, 5, 1, 2, 4, 5, 1, 2, 3, 1, 5, 2, 3, 4, 4, 5, 1, 2, 3, 4, 5, 1, 2, 3, 4, 5, 1, 2, 4, 1, 3, 4, 1, 2, 3, 4, 1, 3, 4, 5, 1, 3, 4, 1, 5, 2, 3, 4, 1, 2, 3, 4, 5, 1, 5, 1, 2, 3, 4, 5, 1, 2, 3, 4, 5, 1, 2, 3, 4, 1, 2, 3, 4, 3, 4, 5, 1, 2, 3, 4, 5, 5, 3, 4, 2, 3, 4, 1, 2, 3, 4, 5, 1, 2, 3, 4, 5, 5, 2, 3, 5, 2, 3, 3, 1, 3, 4, 5, 1, 3, 4, 5, 1, 2, 3, 4, 5, 1, 2, 3, 4, 1, 2, 3, 4, 5, 1, 2, 3, 4, 5, 1, 2, 3, 4, 5, 1, 3, 4, 1, 4, 5, 4, 1, 2, 3, 4, 5, 1, 2, 3, 4, 5, 1, 4, 1, 5, 1, 2, 3, 4, 5, 3, 4, 1, 3, 1, 2, 3, 4, 5, 1, 2, 3, 4, 5, 1, 2, 3, 4, 1, 2, 3, 4, 5, 2, 3, 1, 2, 1, 2, 3, 4, 5, 4, 5, 1, 2, 3, 4, 5, 1, 2, 3, 4, 5, 1, 2, 3, 4, 1, 3, 4, 5, 1, 3, 4, 5, 1, 4, 5, 4, 5, 2, 4, 1, 2, 3, 4, 1, 2, 3, 4, 5, 1, 2, 3, 4, 5, 1, 2, 3, 4, 5, 1, 1, 2, 3, 4, 5, 1, 2, 3, 4, 5, 1, 2, 3, 4, 5, 1, 2, 3, 4, 5, 1, 2, 3, 4, 3, 1, 2, 3, 4, 5, 1, 2, 4, 1, 2, 3, 4, 5, 1, 5, 2, 3, 4, 1, 2, 3, 5, 2, 3, 4, 5, 1, 2, 3, 4, 5, 1, 2, 3, 4, 2, 3, 4, 1, 2, 4, 5, 1, 2, 5, 1, 2, 3, 4, 5, 1, 3, 4, 5, 1, 3, 4, 4, 5, 4, 5, 1, 2, 3, 4, 5, 1, 2, 3, 4, 1, 2, 3, 4, 5, 2, 3, 4, 5, 1, 2, 3, 4, 5, 1, 2, 4, 5, 1, 2, 3, 4, 5, 1, 4, 5, 1, 2, 3, 4, 5, 2, 3, 4, 5, 1, 2, 4, 5, 1, 2, 3, 4, 5, 1, 2, 4, 5, 1, 4, 1, 2, 3, 5, 1, 2, 3, 4, 5, 2, 3, 1, 1, 2, 3, 4, 5, 1, 2, 5, 2, 3, 5, 1, 2, 3, 4, 5, 1, 2, 3, 4, 5, 1, 2, 3, 4, 5, 1, 2, 3, 5, 1, 2, 3, 4, 5, 1, 2, 3, 4, 5, 1, 2, 3, 4, 5, 3, 4, 1, 2, 3, 4, 5, 1, 3, 4, 1, 2, 3, 4, 1, 2, 3, 4, 5, 1, 4, 5, 1, 2, 3, 1, 2, 3, 4, 5, 3, 4, 1, 2, 3, 4, 5, 2, 1, 2, 3, 5, 1, 2, 3, 4, 5, 1, 2, 3, 4, 5, 1, 2, 3, 4, 5, 1, 2, 3, 4, 1, 2, 3, 4, 5, 1, 2, 3, 4, 5, 1, 5, 1, 2, 3, 4, 5, 1, 3, 1, 4, 5, 1, 5, 4, 5, 3, 4, 5, 1, 2, 5, 1, 2, 4, 1, 2, 3, 4, 1, 2, 4, 2, 3, 4, 1, 2, 5, 1, 2, 3, 1, 2, 3, 4, 5, 1, 2, 3, 4, 3, 4, 1, 3, 4, 5, 1, 2, 3, 2, 3, 4, 5], \"Term\": [\"'\", \"'\", \"'\", \"'\", \"'\", \"a.m._courtroom\", \"a.m._courtroom\", \"a.m._courtroom\", \"action\", \"action\", \"action\", \"action\", \"action\", \"adar_bay\", \"adar_bay\", \"adar_bay\", \"additional_attachment_add\", \"additional_attachment_add\", \"additional_attachment_add\", \"adjourn_conference\", \"adjourn_conference\", \"adjourn_conference\", \"adjourn_conference\", \"adjourn_conference\", \"administration\", \"administration\", \"administration\", \"ae\", \"ae\", \"affidavit_service\", \"affidavit_service\", \"affidavit_service\", \"affidavit_service\", \"affidavit_service\", \"affidavit_service_summons\", \"affidavit_service_summons\", \"affidavit_service_summons\", \"affidavit_service_summons\", \"aim_exploration_basile_mark\", \"aim_exploration_basile_mark\", \"aim_exploration_basile_mark\", \"ama\", \"ama\", \"ama\", \"ama\", \"amend_complaint\", \"amend_complaint\", \"amend_complaint\", \"amend_complaint\", \"amend_complaint\", \"answer\", \"answer\", \"answer\", \"answer\", \"answer\", \"answer_complaint\", \"answer_complaint\", \"answer_complaint\", \"answer_complaint\", \"answer_complaint\", \"answer_due\", \"answer_due\", \"answer_due\", \"answer_due\", \"answer_due\", \"answer_due_answer_due\", \"answer_due_answer_due\", \"answer_due_answer_due\", \"answer_due_answer_due\", \"appendix\", \"appendix\", \"appendix\", \"appendix\", \"appendix\", \"april\", \"april\", \"april\", \"april\", \"april\", \"associate_case_et_al\", \"associate_case_et_al\", \"associate_case_rjm\", \"associate_case_rjm\", \"associate_case_rjm\", \"associated_case_et_al\", \"associated_case_et_al\", \"associated_case_ft\", \"attach\", \"attach\", \"attach\", \"attach\", \"attach\", \"attachment\", \"attachment\", \"attachment\", \"attachment\", \"attachment\", \"attachment_erratum\", \"attachment_erratum\", \"attachment_text_propose\", \"attachment_text_propose\", \"attachment_text_propose\", \"attachment_text_propose\", \"attorney\", \"attorney\", \"attorney\", \"attorney\", \"attorney\", \"attorney_responsible_provide_courtesy\", \"attorney_responsible_provide_courtesy\", \"attorney_responsible_provide_courtesy\", \"attorney_responsible_provide_courtesy\", \"august\", \"august\", \"august\", \"august\", \"august\", \"behalf\", \"behalf\", \"behalf\", \"behalf\", \"behalf\", \"c\", \"c\", \"c\", \"c\", \"c\", \"c.d\", \"c.d\", \"c.d\", \"c.d\", \"cal\", \"calendar_day\", \"calendar_day\", \"calendar_day\", \"calendar_day\", \"case\", \"case\", \"case\", \"case\", \"case\", \"case_assign\", \"case_designate\", \"case_designate\", \"case_designate\", \"cd\", \"cd\", \"cd\", \"cd\", \"cd\", \"certificate_service\", \"certificate_service\", \"certificate_service\", \"certificate_service\", \"certificate_service\", \"certify_copy_docket_sheet\", \"certify_copy_docket_sheet\", \"certify_copy_docket_sheet\", \"cf\", \"civ\", \"civ\", \"civ\", \"civil_action\", \"civil_action\", \"civil_cover_sheet\", \"civil_cover_sheet\", \"civil_cover_sheet\", \"civil_cover_sheet\", \"claim\", \"claim\", \"claim\", \"claim\", \"claim\", \"clerk\", \"clerk\", \"clerk\", \"clerk\", \"clerk\", \"complaint\", \"complaint\", \"complaint\", \"complaint\", \"complaint\", \"comply_discovery_ruling_conference\", \"comply_discovery_ruling_conference\", \"comply_discovery_ruling_conference\", \"conference\", \"conference\", \"conference\", \"conference\", \"conference\", \"conference_call\", \"conference_call\", \"conference_call\", \"conference_call\", \"conference_hold\", \"conference_hold\", \"conference_hold\", \"conference_hold\", \"conference_hold\", \"copy_individual_practice_require\", \"copy_individual_practice_require\", \"copy_individual_practice_require\", \"copy_individual_practice_require\", \"copy_mail\", \"copy_mail\", \"copy_send_chamber\", \"copy_send_chamber\", \"copy_send_chamber\", \"copy_send_chamber\", \"corp..\", \"corp..\", \"corp..\", \"corp..\", \"cotton\", \"cotton\", \"cotton\", \"counsel\", \"counsel\", \"counsel\", \"counsel\", \"counsel\", \"court\", \"court\", \"court\", \"court\", \"court\", \"court_notice_intent\", \"court_notice_intent\", \"court_notice_intent\", \"court_notice_intent\", \"court_reportertranscriber\", \"court_reportertranscriber\", \"court_reportertranscriber\", \"courtroom_pearl_street_new\", \"courtroom_pearl_street_new\", \"courtroom_pearl_street_new\", \"crossclaim\", \"crossclaim\", \"crossclaim\", \"crossclaim\", \"crossclaim\", \"cyr\", \"cyr\", \"db\", \"db\", \"db\", \"declaration\", \"declaration\", \"declaration\", \"declaration\", \"declaration\", \"declaration_opposition\", \"declaration_opposition\", \"declaration_opposition\", \"declaration_opposition\", \"declaration_opposition\", \"declaration_support\", \"declaration_support\", \"declaration_support\", \"declaration_support\", \"declaration_support\", \"deny\", \"deny\", \"deny\", \"deny\", \"deny\", \"deposition\", \"deposition\", \"deposition\", \"deposition\", \"deposition\", \"discovery\", \"discovery\", \"discovery\", \"discovery\", \"discovery\", \"dismiss\", \"dismiss\", \"dismiss\", \"dismiss\", \"dismiss\", \"dismiss.._document\", \"dismiss.._document\", \"dismiss.._document\", \"dismiss.._document\", \"dismiss.._document\", \"dismiss_subrogation_claim_assert\", \"dismissal\", \"dismissal\", \"dismissal\", \"dismissal\", \"dismissal\", \"dismissal_without_prejudice\", \"dismissal_without_prejudice\", \"dismissal_without_prejudice\", \"dismissal_without_prejudice\", \"dismissal_without_prejudice\", \"djc\", \"djc\", \"djc\", \"djc\", \"djc\", \"dle\", \"dle\", \"document_place_vault\", \"document_place_vault\", \"due\", \"due\", \"due\", \"due\", \"due\", \"electronically_available_public_without\", \"electronically_available_public_without\", \"endorsed_letter_address\", \"endorsed_letter_address\", \"endorsed_letter_address\", \"endorsed_letter_address\", \"endorsed_letter_address\", \"error\", \"error\", \"error\", \"error\", \"error_deficient_docket_entry\", \"error_deficient_docket_entry\", \"error_deficient_docket_entry\", \"estate_m.l\", \"estate_m.l\", \"execute\", \"execute\", \"execute\", \"expert_discovery_due\", \"expert_discovery_due\", \"extend\", \"extend\", \"extend\", \"extend\", \"extend\", \"extension_time\", \"extension_time\", \"extension_time\", \"extension_time\", \"extension_time\", \"fee_cost\", \"fee_cost\", \"fee_cost\", \"fee_receipt_number\", \"fee_receipt_number\", \"fee_receipt_number\", \"form\", \"form\", \"form\", \"form\", \"g.c\", \"g.c\", \"g.c\", \"g.c\", \"genesys_id_basile_mark\", \"genesys_id_basile_mark\", \"genesys_id_basile_mark\", \"global_hedge_fund_select\", \"global_hedge_fund_select\", \"goodwin\", \"goodwin\", \"goodwin\", \"grant\", \"grant\", \"grant\", \"grant\", \"grant\", \"haas\", \"haas\", \"han\", \"han\", \"han\", \"han\", \"han\", \"hereby\", \"hereby\", \"hereby\", \"hereby\", \"hereby\", \"hold\", \"hold\", \"hold\", \"hold\", \"immediately\", \"immediately\", \"immediately\", \"immediately\", \"initiate\", \"initiate\", \"initiate\", \"issue\", \"issue\", \"issue\", \"issue\", \"issue\", \"ja\", \"jpo\", \"jpo\", \"jr\", \"jr\", \"jr\", \"judgment\", \"judgment\", \"judgment\", \"judgment\", \"judgment\", \"july\", \"july\", \"july\", \"july\", \"july\", \"jv\", \"kan._gr\", \"kan._gr\", \"kan._gr\", \"kco\", \"kco\", \"kgo\", \"kkc\", \"kkc\", \"kkc\", \"kkc\", \"kw\", \"kw\", \"kw\", \"kw\", \"l.p.\", \"l.p.\", \"l.p.\", \"l.p.\", \"l.p.\", \"langer\", \"langer\", \"langer\", \"langer\", \"leave\", \"leave\", \"leave\", \"leave\", \"leave\", \"letter\", \"letter\", \"letter\", \"letter\", \"letter\", \"letter_address\", \"letter_address\", \"letter_address\", \"letter_address\", \"letter_address\", \"limine_preclude_plaintiff_introduce\", \"limine_preclude_plaintiff_introduce\", \"limine_preclude_plaintiff_introduce\", \"line\", \"line\", \"line\", \"longer_assigned_case\", \"ltd..\", \"ltd..\", \"ltd..\", \"ltd..\", \"ltd..\", \"magistrate\", \"magistrate\", \"magistrate\", \"magistrate\", \"magistrate\", \"magistrate_discovery_hear\", \"magistrate_discovery_hear\", \"master_account_l.p._balentine\", \"master_account_l.p._balentine\", \"may\", \"may\", \"may\", \"may\", \"may\", \"may_obtain_pacer\", \"may_obtain_pacer\", \"mbe\", \"mbe\", \"memorandum_law_opposition\", \"memorandum_law_opposition\", \"memorandum_law_opposition\", \"memorandum_law_opposition\", \"memorandum_law_opposition\", \"memorandum_law_support\", \"memorandum_law_support\", \"memorandum_law_support\", \"memorandum_law_support\", \"memorandum_law_support\", \"minute_entry_proceeding_hold\", \"minute_entry_proceeding_hold\", \"minute_entry_proceeding_hold\", \"minute_entry_proceeding_hold\", \"modify\", \"modify\", \"modify\", \"modify\", \"modify\", \"modify_gf\", \"modify_gf\", \"modify_ldi\", \"modify_ldi\", \"motion\", \"motion\", \"motion\", \"motion\", \"motion\", \"mp\", \"mp\", \"mro\", \"mro\", \"mro\", \"mro\", \"mro\", \"must\", \"must\", \"must\", \"must\", \"must\", \"nd\", \"nd\", \"nd\", \"nd\", \"new_address\", \"new_address\", \"new_address\", \"new_address\", \"new_jersey\", \"new_jersey\", \"new_jersey\", \"new_jersey\", \"new_york_observer_l.p.\", \"new_york_observer_l.p.\", \"new_york_observer_l.p.\", \"nm\", \"nm\", \"nonecf_case_error\", \"nonecf_case_error\", \"note_attorney_refile_document\", \"note_attorney_refile_document\", \"note_attorney_refile_document\", \"note_attorney_refile_document\", \"notice\", \"notice\", \"notice\", \"notice\", \"notice\", \"notice_appeal\", \"notice_appeal\", \"notice_appeal\", \"notice_appeal\", \"notice_appeal\", \"notice_appearance_behalf\", \"notice_appearance_behalf\", \"notice_appearance_behalf\", \"notice_appearance_behalf\", \"notice_appearance_behalf\", \"notice_case_reassignment\", \"notice_change_address\", \"notice_change_address\", \"notice_change_address\", \"notice_change_address\", \"notice_change_address\", \"november\", \"november\", \"november\", \"november\", \"november\", \"opinion\", \"opinion\", \"opinion\", \"opinion\", \"opinion\", \"opposition\", \"opposition\", \"opposition\", \"opposition\", \"opposition\", \"opposition_paper\", \"opposition_paper\", \"opposition_paper\", \"opposition_paper\", \"oral_argument_set_pm\", \"order\", \"order\", \"order\", \"order\", \"order\", \"p\", \"p\", \"p\", \"p.c\", \"p.c\", \"p.c\", \"p.c\", \"p.c\", \"partial_summary_judgment\", \"partial_summary_judgment\", \"permit\", \"permit\", \"permit\", \"person\", \"person\", \"person\", \"person\", \"pl\", \"pl\", \"pl\", \"pl\", \"plaintiff\", \"plaintiff\", \"plaintiff\", \"plaintiff\", \"plaintiff\", \"plaintiff_'\", \"plaintiff_'\", \"plaintiff_'\", \"plaintiff_'\", \"pleading\", \"pleading\", \"pleading\", \"pretrial_conference_hold\", \"pretrial_conference_hold\", \"pretrial_conference_hold\", \"pretrial_conference_hold\", \"pro_hac_vice\", \"pro_hac_vice\", \"pro_hac_vice\", \"propose\", \"propose\", \"propose\", \"propose\", \"propose\", \"provision\", \"provision\", \"provision\", \"provision\", \"r\", \"r\", \"r\", \"receive_night_deposit_box\", \"receive_night_deposit_box\", \"redaction_calendar_day_mcguirk\", \"redaction_calendar_day_mcguirk\", \"redaction_request_due\", \"redaction_request_due\", \"redaction_request_due\", \"redaction_request_due\", \"redaction_request_due\", \"refer\", \"refer\", \"refer\", \"refer\", \"regard\", \"regard\", \"regard\", \"regard\", \"regard\", \"reiter\", \"reiter\", \"reiter\", \"reiter\", \"related\", \"related\", \"related\", \"related\", \"related\", \"release_transcript_restriction_set\", \"release_transcript_restriction_set\", \"release_transcript_restriction_set\", \"release_transcript_restriction_set\", \"reply_memorandum_law_support\", \"reply_memorandum_law_support\", \"reply_memorandum_law_support\", \"reply_memorandum_law_support\", \"reply_memorandum_law_support\", \"report_recommendation\", \"report_recommendation\", \"report_recommendation\", \"request\", \"request\", \"request\", \"request\", \"request\", \"request_redaction_transcript\", \"request_redaction_transcript\", \"request_redaction_transcript\", \"request_redaction_transcript\", \"respectfully\", \"respectfully\", \"respectfully\", \"respectfully\", \"response\", \"response\", \"response\", \"response\", \"response\", \"response_due\", \"response_due\", \"response_due\", \"response_due\", \"response_due_reply\", \"response_due_reply\", \"responsereply\", \"responsereply\", \"rj\", \"rj\", \"rjm\", \"rjm\", \"rjm\", \"rjm\", \"rjm\", \"rule_.._document\", \"rule_.._document\", \"rule_disclosure_statement\", \"rule_statement\", \"rule_statement\", \"rule_statement\", \"rule_statement\", \"rule_statement\", \"s.d.n.y\", \"s.d.n.y\", \"s.d.n.y\", \"sac\", \"sac\", \"sac\", \"schedule\", \"schedule\", \"schedule\", \"schedule\", \"schedule\", \"seal\", \"seal\", \"seal\", \"seal\", \"seal\", \"serve\", \"serve\", \"serve\", \"serve\", \"serve\", \"serve_answer_due\", \"serve_answer_due\", \"serve_answer_due\", \"serve_answer_due\", \"service\", \"service\", \"service\", \"service\", \"service\", \"service_accept\", \"service_accept\", \"service_accept\", \"service_accept\", \"service_accept\", \"set\", \"set\", \"set\", \"set\", \"set\", \"set_answer_due\", \"set_answer_due\", \"set_forth\", \"set_forth\", \"set_forth\", \"set_forth\", \"set_forth\", \"setreset_deadline\", \"setreset_deadline\", \"setreset_deadline\", \"show_cause\", \"show_cause\", \"show_cause\", \"show_cause\", \"sign\", \"sign\", \"sign\", \"sign\", \"sign\", \"sign_copy_mail\", \"sign_copy_mail\", \"sign_copy_mail\", \"sign_gr\", \"sign_gr\", \"sign_gr\", \"sign_iii\", \"sign_iii\", \"sign_iii\", \"sign_iii\", \"sign_iii\", \"sign_iii_cd\", \"sign_iii_cd\", \"sign_magistrate\", \"sign_magistrate\", \"sign_magistrate\", \"sign_magistrate\", \"sign_magistrate\", \"sign_sr\", \"status_conference_hold\", \"status_conference_hold\", \"status_conference_hold\", \"status_conference_hold\", \"stipulation\", \"stipulation\", \"stipulation\", \"stipulation\", \"stipulation\", \"submit\", \"submit\", \"submit\", \"submit\", \"submit\", \"summary_judgment\", \"summary_judgment\", \"summary_judgment\", \"summary_judgment\", \"summary_judgment\", \"summary_judgment.._document\", \"summary_judgment.._document\", \"summary_judgment.._document\", \"summary_judgment.._document\", \"summary_judgment_favor_november\", \"summons_issue\", \"summons_issue\", \"summons_issue\", \"summons_issue\", \"supplemental\", \"supplemental\", \"supplemental\", \"supplemental\", \"supplemental\", \"supplemental_amend\", \"supplemental_amend\", \"support\", \"support\", \"support\", \"support\", \"support\", \"support_paper_review\", \"tape\", \"text\", \"text\", \"text\", \"tp\", \"tp\", \"transcript_may_make_remotely\", \"transcript_may_make_remotely\", \"transcript_proceeding\", \"transcript_proceeding\", \"transcript_proceeding\", \"transcript_proceeding_conference_hold\", \"transcript_proceeding_conference_hold\", \"transcript_proceeding_conference_hold\", \"transcript_proceeding_hold\", \"transcript_proceeding_hold\", \"transcript_proceeding_hold\", \"transfer_new_york_eastern\", \"transfer_new_york_eastern\", \"transfer_new_york_eastern\", \"transfer_new_york_eastern\", \"united_state_courthouse_pearl\", \"united_state_courthouse_pearl\", \"united_state_courthouse_pearl\", \"united_state_magistrate\", \"united_state_magistrate\", \"united_state_magistrate\", \"unredacted\", \"unredacted\", \"unredacted\", \"usca_case\", \"usca_case\", \"usca_case\", \"v.\", \"v.\", \"v.\", \"v.\", \"v.\", \"vacate\", \"vacate\", \"vacate\", \"vacate\", \"wellington\", \"wellington\", \"withdraw_attorney\", \"withdraw_attorney\", \"withdraw_attorney\", \"withdraw_attorney\", \"york_ny_magistrate\", \"york_ny_magistrate\", \"york_ny_magistrate\", \"yv\", \"yv\", \"yv\", \"yv\"]}, \"lambda.step\": 0.01, \"plot.opts\": {\"ylab\": \"PC2\", \"xlab\": \"PC1\"}};\n",
       "\n",
       "function LDAvis_load_lib(url, callback){\n",
       "  var s = document.createElement('script');\n",
       "  s.src = url;\n",
       "  s.async = true;\n",
       "  s.onreadystatechange = s.onload = callback;\n",
       "  s.onerror = function(){console.warn(\"failed to load library \" + url);};\n",
       "  document.getElementsByTagName(\"head\")[0].appendChild(s);\n",
       "}\n",
       "\n",
       "if(typeof(LDAvis) !== \"undefined\"){\n",
       "   // already loaded: just create the visualization\n",
       "   !function(LDAvis){\n",
       "       new LDAvis(\"#\" + \"ldavis_el2506819944928675921674450027\", ldavis_el2506819944928675921674450027_data);\n",
       "   }(LDAvis);\n",
       "}else if(typeof define === \"function\" && define.amd){\n",
       "   // require.js is available: use it to load d3/LDAvis\n",
       "   require.config({paths: {d3: \"https://cdnjs.cloudflare.com/ajax/libs/d3/3.5.5/d3.min\"}});\n",
       "   require([\"d3\"], function(d3){\n",
       "      window.d3 = d3;\n",
       "      LDAvis_load_lib(\"https://cdn.rawgit.com/bmabey/pyLDAvis/files/ldavis.v1.0.0.js\", function(){\n",
       "        new LDAvis(\"#\" + \"ldavis_el2506819944928675921674450027\", ldavis_el2506819944928675921674450027_data);\n",
       "      });\n",
       "    });\n",
       "}else{\n",
       "    // require.js not available: dynamically load d3 & LDAvis\n",
       "    LDAvis_load_lib(\"https://cdnjs.cloudflare.com/ajax/libs/d3/3.5.5/d3.min.js\", function(){\n",
       "         LDAvis_load_lib(\"https://cdn.rawgit.com/bmabey/pyLDAvis/files/ldavis.v1.0.0.js\", function(){\n",
       "                 new LDAvis(\"#\" + \"ldavis_el2506819944928675921674450027\", ldavis_el2506819944928675921674450027_data);\n",
       "            })\n",
       "         });\n",
       "}\n",
       "</script>"
      ],
      "text/plain": [
       "<IPython.core.display.HTML object>"
      ]
     },
     "execution_count": 158,
     "metadata": {},
     "output_type": "execute_result"
    }
   ],
   "source": [
    "num_topics = 5\n",
    "pretrained_model_file_path = 'docket_texts/lda_model_noorgnomodel_' + str(num_topics)\n",
    "column_name = str(num_topics) + '-topic Model Classificaiton'\n",
    "\n",
    "topic_names = {}\n",
    "for i in range(num_topics):\n",
    "    topic_names[i] = 'Topic ' + str(i)\n",
    "\n",
    "LDAvis_prepared, model = topic_modeling_pipeline(num_topics, pretrained_model_file_path, trigram_bow_corpus, trigram_dictionary, export = True)\n",
    "topic_summary = []\n",
    "\n",
    "for docket_text in list(new_df['Apply Trigram Phrase Model']):\n",
    "    #print(docket_text)\n",
    "    topic_summary.append(lda_description(docket_text, model, trigram_dictionary, topic_names))\n",
    "\n",
    "new_df[column_name] = topic_summary\n",
    "pyLDAvis.display(LDAvis_prepared)"
   ]
  },
  {
   "cell_type": "markdown",
   "metadata": {},
   "source": [
    "### 10 Topics:"
   ]
  },
  {
   "cell_type": "code",
   "execution_count": 159,
   "metadata": {
    "scrolled": false
   },
   "outputs": [
    {
     "name": "stdout",
     "output_type": "stream",
     "text": [
      "\n",
      " Topic 1's make-up:\n",
      "term                 frequency\n",
      "\n",
      "motion               0.108\n",
      "plaintiff            0.025\n",
      "modify               0.021\n",
      "notice               0.020\n",
      "order                0.020\n",
      "mro                  0.019\n",
      "opposition           0.013\n",
      "sign                 0.012\n",
      "'                    0.011\n",
      "memorandum_law_support 0.010\n",
      "\n",
      " Topic 2's make-up:\n",
      "term                 frequency\n",
      "\n",
      "motion               0.051\n",
      "sign                 0.043\n",
      "notice               0.030\n",
      "order                0.026\n",
      "case                 0.022\n",
      "complaint            0.022\n",
      "serve_answer_due     0.018\n",
      "attorney             0.013\n",
      "redact_transcript_deadline_set 0.012\n",
      "rule_statement       0.011\n",
      "\n",
      " Topic 3's make-up:\n",
      "term                 frequency\n",
      "\n",
      "motion               0.108\n",
      "letter               0.032\n",
      "notice               0.027\n",
      "grant                0.025\n",
      "order                0.025\n",
      "dismiss              0.016\n",
      "summary_judgment     0.013\n",
      "complaint            0.012\n",
      "amend_complaint      0.012\n",
      "'                    0.011\n",
      "\n",
      " Topic 4's make-up:\n",
      "term                 frequency\n",
      "\n",
      "order                0.079\n",
      "motion               0.036\n",
      "stipulation          0.023\n",
      "court                0.019\n",
      "schedule             0.019\n",
      "sign                 0.018\n",
      "magistrate           0.015\n",
      "sign_magistrate      0.014\n",
      "plaintiff            0.011\n",
      "attachment           0.011\n",
      "\n",
      " Topic 5's make-up:\n",
      "term                 frequency\n",
      "\n",
      "order                0.046\n",
      "request              0.033\n",
      "motion               0.024\n",
      "plaintiff            0.022\n",
      "court                0.020\n",
      "minute_entry_proceeding_hold 0.016\n",
      "judgment             0.014\n",
      "dismiss              0.013\n",
      "conference           0.012\n",
      "clerk                0.011\n",
      "\n",
      " Topic 6's make-up:\n",
      "term                 frequency\n",
      "\n",
      "motion               0.054\n",
      "order                0.044\n",
      "sign                 0.024\n",
      "pl                   0.020\n",
      "summary_judgment     0.016\n",
      "service_accept       0.014\n",
      "march                0.011\n",
      "memorandum_law_support 0.011\n",
      "stipulation          0.011\n",
      "notice               0.010\n",
      "\n",
      " Topic 7's make-up:\n",
      "term                 frequency\n",
      "\n",
      "order                0.104\n",
      "motion               0.033\n",
      "plaintiff            0.013\n",
      "dismiss              0.013\n",
      "magistrate           0.013\n",
      "case                 0.013\n",
      "claim                0.013\n",
      "hereby               0.012\n",
      "letter               0.011\n",
      "propose              0.011\n",
      "\n",
      " Topic 8's make-up:\n",
      "term                 frequency\n",
      "\n",
      "motion               0.131\n",
      "order                0.049\n",
      "plaintiff            0.018\n",
      "djc                  0.017\n",
      "l.p.                 0.017\n",
      "dismiss              0.017\n",
      "notice               0.016\n",
      "memorandum_law_support 0.013\n",
      "declaration_support  0.013\n",
      "declaration_opposition 0.013\n",
      "\n",
      " Topic 9's make-up:\n",
      "term                 frequency\n",
      "\n",
      "magistrate           0.025\n",
      "order                0.023\n",
      "counsel              0.016\n",
      "notice               0.015\n",
      "court                0.014\n",
      "attachment           0.014\n",
      "complaint            0.013\n",
      "motion               0.013\n",
      "plaintiff            0.011\n",
      "reiter               0.011\n",
      "\n",
      " Topic 10's make-up:\n",
      "term                 frequency\n",
      "\n",
      "order                0.073\n",
      "motion               0.048\n",
      "attachment           0.024\n",
      "schedule             0.018\n",
      "court                0.013\n",
      "serve                0.010\n",
      "regard               0.010\n",
      "dismiss              0.009\n",
      "submit               0.009\n",
      "letter_address       0.008\n"
     ]
    },
    {
     "data": {
      "text/html": [
       "\n",
       "<link rel=\"stylesheet\" type=\"text/css\" href=\"https://cdn.rawgit.com/bmabey/pyLDAvis/files/ldavis.v1.0.0.css\">\n",
       "\n",
       "\n",
       "<div id=\"ldavis_el2506819944928668727701416606\"></div>\n",
       "<script type=\"text/javascript\">\n",
       "\n",
       "var ldavis_el2506819944928668727701416606_data = {\"topic.order\": [7, 8, 3, 10, 5, 4, 6, 1, 2, 9], \"mdsDat\": {\"cluster\": [1, 1, 1, 1, 1, 1, 1, 1, 1, 1], \"topics\": [1, 2, 3, 4, 5, 6, 7, 8, 9, 10], \"Freq\": [13.235280555703774, 12.709436260297958, 11.64696231195466, 11.254487991980755, 10.99448996841677, 8.921532466576023, 8.637380345036336, 8.314219156033113, 7.5142095997120535, 6.772001344288558], \"x\": [0.053493751732313924, -0.07028496892345042, -0.0632710470076794, 0.019946287234072668, 0.0695572035123362, 0.046500139573045364, -0.00850570337800633, -0.0904658861025289, -0.06622979620575063, 0.10926001956564775], \"y\": [-0.053437591189297654, -0.03150432305836716, -0.03626478956330618, -0.07580836037454827, -0.023777008412258997, -0.009197381755322587, 0.017907074886918756, 0.01658378128828919, 0.10122626834069078, 0.09427232983720263]}, \"R\": 30, \"tinfo\": {\"Category\": [\"Default\", \"Default\", \"Default\", \"Default\", \"Default\", \"Default\", \"Default\", \"Default\", \"Default\", \"Default\", \"Default\", \"Default\", \"Default\", \"Default\", \"Default\", \"Default\", \"Default\", \"Default\", \"Default\", \"Default\", \"Default\", \"Default\", \"Default\", \"Default\", \"Default\", \"Default\", \"Default\", \"Default\", \"Default\", \"Default\", \"Topic1\", \"Topic1\", \"Topic1\", \"Topic1\", \"Topic1\", \"Topic1\", \"Topic1\", \"Topic1\", \"Topic1\", \"Topic1\", \"Topic1\", \"Topic1\", \"Topic1\", \"Topic1\", \"Topic1\", \"Topic1\", \"Topic1\", \"Topic1\", \"Topic1\", \"Topic1\", \"Topic1\", \"Topic1\", \"Topic1\", \"Topic1\", \"Topic1\", \"Topic1\", \"Topic1\", \"Topic1\", \"Topic1\", \"Topic1\", \"Topic1\", \"Topic1\", \"Topic1\", \"Topic1\", \"Topic1\", \"Topic1\", \"Topic1\", \"Topic1\", \"Topic1\", \"Topic1\", \"Topic1\", \"Topic1\", \"Topic1\", \"Topic1\", \"Topic1\", \"Topic1\", \"Topic1\", \"Topic1\", \"Topic1\", \"Topic1\", \"Topic1\", \"Topic1\", \"Topic1\", \"Topic1\", \"Topic1\", \"Topic1\", \"Topic2\", \"Topic2\", \"Topic2\", \"Topic2\", \"Topic2\", \"Topic2\", \"Topic2\", \"Topic2\", \"Topic2\", \"Topic2\", \"Topic2\", \"Topic2\", \"Topic2\", \"Topic2\", \"Topic2\", \"Topic2\", \"Topic2\", \"Topic2\", \"Topic2\", \"Topic2\", \"Topic2\", \"Topic2\", \"Topic2\", \"Topic2\", \"Topic2\", \"Topic2\", \"Topic2\", \"Topic2\", \"Topic2\", \"Topic2\", \"Topic2\", \"Topic2\", \"Topic2\", \"Topic2\", \"Topic2\", \"Topic2\", \"Topic2\", \"Topic2\", \"Topic2\", \"Topic2\", \"Topic2\", \"Topic2\", \"Topic2\", \"Topic2\", \"Topic2\", \"Topic2\", \"Topic2\", \"Topic2\", \"Topic2\", \"Topic2\", \"Topic2\", \"Topic2\", \"Topic2\", \"Topic2\", \"Topic2\", \"Topic2\", \"Topic2\", \"Topic2\", \"Topic3\", \"Topic3\", \"Topic3\", \"Topic3\", \"Topic3\", \"Topic3\", \"Topic3\", \"Topic3\", \"Topic3\", \"Topic3\", \"Topic3\", \"Topic3\", \"Topic3\", \"Topic3\", \"Topic3\", \"Topic3\", \"Topic3\", \"Topic3\", \"Topic3\", \"Topic3\", \"Topic3\", \"Topic3\", \"Topic3\", \"Topic3\", \"Topic3\", \"Topic3\", \"Topic3\", \"Topic3\", \"Topic3\", \"Topic3\", \"Topic3\", \"Topic3\", \"Topic3\", \"Topic3\", \"Topic3\", \"Topic3\", \"Topic3\", \"Topic3\", \"Topic3\", \"Topic3\", \"Topic3\", \"Topic3\", \"Topic3\", \"Topic3\", \"Topic3\", \"Topic3\", \"Topic3\", \"Topic3\", \"Topic3\", \"Topic3\", \"Topic3\", \"Topic3\", \"Topic3\", \"Topic3\", \"Topic3\", \"Topic3\", \"Topic3\", \"Topic3\", \"Topic3\", \"Topic4\", \"Topic4\", \"Topic4\", \"Topic4\", \"Topic4\", \"Topic4\", \"Topic4\", \"Topic4\", \"Topic4\", \"Topic4\", \"Topic4\", \"Topic4\", \"Topic4\", \"Topic4\", \"Topic4\", \"Topic4\", \"Topic4\", \"Topic4\", \"Topic4\", \"Topic4\", \"Topic4\", \"Topic4\", \"Topic4\", \"Topic4\", \"Topic4\", \"Topic4\", \"Topic4\", \"Topic4\", \"Topic4\", \"Topic4\", \"Topic4\", \"Topic4\", \"Topic4\", \"Topic4\", \"Topic4\", \"Topic4\", \"Topic4\", \"Topic4\", \"Topic4\", \"Topic4\", \"Topic4\", \"Topic4\", \"Topic4\", \"Topic4\", \"Topic4\", \"Topic4\", \"Topic4\", \"Topic4\", \"Topic4\", \"Topic4\", \"Topic4\", \"Topic4\", \"Topic4\", \"Topic4\", \"Topic4\", \"Topic4\", \"Topic4\", \"Topic4\", \"Topic4\", \"Topic4\", \"Topic4\", \"Topic4\", \"Topic5\", \"Topic5\", \"Topic5\", \"Topic5\", \"Topic5\", \"Topic5\", \"Topic5\", \"Topic5\", \"Topic5\", \"Topic5\", \"Topic5\", \"Topic5\", \"Topic5\", \"Topic5\", \"Topic5\", \"Topic5\", \"Topic5\", \"Topic5\", \"Topic5\", \"Topic5\", \"Topic5\", \"Topic5\", \"Topic5\", \"Topic5\", \"Topic5\", \"Topic5\", \"Topic5\", \"Topic5\", \"Topic5\", \"Topic5\", \"Topic5\", \"Topic5\", \"Topic5\", \"Topic5\", \"Topic5\", \"Topic5\", \"Topic5\", \"Topic5\", \"Topic5\", \"Topic5\", \"Topic5\", \"Topic5\", \"Topic5\", \"Topic5\", \"Topic5\", \"Topic5\", \"Topic5\", \"Topic5\", \"Topic5\", \"Topic5\", \"Topic5\", \"Topic5\", \"Topic5\", \"Topic5\", \"Topic5\", \"Topic5\", \"Topic5\", \"Topic6\", \"Topic6\", \"Topic6\", \"Topic6\", \"Topic6\", \"Topic6\", \"Topic6\", \"Topic6\", \"Topic6\", \"Topic6\", \"Topic6\", \"Topic6\", \"Topic6\", \"Topic6\", \"Topic6\", \"Topic6\", \"Topic6\", \"Topic6\", \"Topic6\", \"Topic6\", \"Topic6\", \"Topic6\", \"Topic6\", \"Topic6\", \"Topic6\", \"Topic6\", \"Topic6\", \"Topic6\", \"Topic6\", \"Topic6\", \"Topic6\", \"Topic6\", \"Topic6\", \"Topic6\", \"Topic6\", \"Topic6\", \"Topic6\", \"Topic6\", \"Topic6\", \"Topic6\", \"Topic6\", \"Topic6\", \"Topic6\", \"Topic6\", \"Topic6\", \"Topic6\", \"Topic6\", \"Topic6\", \"Topic6\", \"Topic6\", \"Topic6\", \"Topic6\", \"Topic6\", \"Topic7\", \"Topic7\", \"Topic7\", \"Topic7\", \"Topic7\", \"Topic7\", \"Topic7\", \"Topic7\", \"Topic7\", \"Topic7\", \"Topic7\", \"Topic7\", \"Topic7\", \"Topic7\", \"Topic7\", \"Topic7\", \"Topic7\", \"Topic7\", \"Topic7\", \"Topic7\", \"Topic7\", \"Topic7\", \"Topic7\", \"Topic7\", \"Topic7\", \"Topic7\", \"Topic7\", \"Topic7\", \"Topic7\", \"Topic7\", \"Topic7\", \"Topic7\", \"Topic7\", \"Topic7\", \"Topic7\", \"Topic7\", \"Topic7\", \"Topic7\", \"Topic7\", \"Topic7\", \"Topic7\", \"Topic7\", \"Topic7\", \"Topic7\", \"Topic7\", \"Topic7\", \"Topic7\", \"Topic7\", \"Topic7\", \"Topic7\", \"Topic7\", \"Topic7\", \"Topic7\", \"Topic7\", \"Topic7\", \"Topic7\", \"Topic7\", \"Topic7\", \"Topic7\", \"Topic7\", \"Topic8\", \"Topic8\", \"Topic8\", \"Topic8\", \"Topic8\", \"Topic8\", \"Topic8\", \"Topic8\", \"Topic8\", \"Topic8\", \"Topic8\", \"Topic8\", \"Topic8\", \"Topic8\", \"Topic8\", \"Topic8\", \"Topic8\", \"Topic8\", \"Topic8\", \"Topic8\", \"Topic8\", \"Topic8\", \"Topic8\", \"Topic8\", \"Topic8\", \"Topic8\", \"Topic8\", \"Topic8\", \"Topic8\", \"Topic8\", \"Topic8\", \"Topic8\", \"Topic8\", \"Topic8\", \"Topic8\", \"Topic8\", \"Topic8\", \"Topic8\", \"Topic8\", \"Topic8\", \"Topic8\", \"Topic8\", \"Topic8\", \"Topic8\", \"Topic8\", \"Topic8\", \"Topic8\", \"Topic8\", \"Topic8\", \"Topic8\", \"Topic8\", \"Topic8\", \"Topic8\", \"Topic8\", \"Topic8\", \"Topic9\", \"Topic9\", \"Topic9\", \"Topic9\", \"Topic9\", \"Topic9\", \"Topic9\", \"Topic9\", \"Topic9\", \"Topic9\", \"Topic9\", \"Topic9\", \"Topic9\", \"Topic9\", \"Topic9\", \"Topic9\", \"Topic9\", \"Topic9\", \"Topic9\", \"Topic9\", \"Topic9\", \"Topic9\", \"Topic9\", \"Topic9\", \"Topic9\", \"Topic9\", \"Topic9\", \"Topic9\", \"Topic9\", \"Topic9\", \"Topic9\", \"Topic9\", \"Topic9\", \"Topic9\", \"Topic9\", \"Topic9\", \"Topic9\", \"Topic9\", \"Topic9\", \"Topic9\", \"Topic9\", \"Topic9\", \"Topic9\", \"Topic9\", \"Topic9\", \"Topic9\", \"Topic9\", \"Topic9\", \"Topic9\", \"Topic9\", \"Topic9\", \"Topic9\", \"Topic10\", \"Topic10\", \"Topic10\", \"Topic10\", \"Topic10\", \"Topic10\", \"Topic10\", \"Topic10\", \"Topic10\", \"Topic10\", \"Topic10\", \"Topic10\", \"Topic10\", \"Topic10\", \"Topic10\", \"Topic10\", \"Topic10\", \"Topic10\", \"Topic10\", \"Topic10\", \"Topic10\", \"Topic10\", \"Topic10\", \"Topic10\", \"Topic10\", \"Topic10\", \"Topic10\", \"Topic10\", \"Topic10\", \"Topic10\", \"Topic10\", \"Topic10\", \"Topic10\", \"Topic10\", \"Topic10\", \"Topic10\", \"Topic10\", \"Topic10\", \"Topic10\", \"Topic10\", \"Topic10\", \"Topic10\", \"Topic10\", \"Topic10\", \"Topic10\", \"Topic10\", \"Topic10\", \"Topic10\", \"Topic10\", \"Topic10\", \"Topic10\", \"Topic10\", \"Topic10\"], \"Total\": [2240.0, 340.0, 1848.0, 126.0, 79.0, 255.0, 108.0, 509.0, 68.0, 298.0, 121.0, 119.0, 266.0, 287.0, 326.0, 260.0, 79.0, 285.0, 240.0, 31.0, 255.0, 227.0, 45.0, 130.0, 66.0, 62.0, 85.0, 460.0, 47.0, 59.0, 14.066442653074555, 24.961316101664103, 21.698997654813933, 40.99659235373827, 12.998704564403964, 63.21178551650404, 68.5005462247738, 23.454071049754965, 14.55950604713281, 9.988646668976738, 15.462303023575348, 39.508420674630315, 14.523582376880112, 30.55564716210855, 12.691824366620057, 80.47089145255056, 12.718431152039555, 29.737572262729785, 21.554051090067645, 18.294300657308447, 17.313661056804012, 84.47259129782604, 16.30418159354882, 41.51301544227105, 16.039158002827683, 19.524762540923533, 12.659727712759679, 16.66476972396662, 13.023749252118536, 84.62286369469558, 33.8589465421604, 157.41248370394158, 130.43144671736002, 70.9512934367847, 1848.3036408124538, 158.93877764721123, 170.92024368056113, 81.5471214678688, 72.78922221445247, 255.075640593784, 266.43465559532166, 61.84948888976154, 181.68093940386018, 349.00458854821164, 326.6279916725596, 152.971593132354, 2240.4992287268697, 460.28123931468696, 164.36490219671708, 509.4361393262843, 285.83612065166443, 260.413716376477, 115.58180678705035, 183.65304299624808, 385.32263078560584, 103.10569005461247, 36.62441279695751, 11.711300498259044, 121.39678422854888, 17.731909239159382, 18.12473252729096, 9.155761717883715, 13.407585075710735, 27.270447277628612, 7.956929827095114, 34.86738761288855, 15.437779195190533, 31.77900986513535, 8.541915540776182, 19.524762540923533, 15.870678021001662, 118.92428984019725, 164.70803286197292, 26.338963106963547, 79.36194595036483, 9.560712569212996, 10.096130818597086, 14.785851232817492, 14.38006690904389, 41.5965028351696, 43.22670197048672, 34.45996069872041, 51.66217691310984, 22.792719891043575, 39.48941459363897, 39.5041793837533, 39.510235066986446, 164.13474266464027, 2240.4992287268697, 84.79512309139314, 223.05526862846818, 165.67637143282488, 96.18192185789293, 349.00458854821164, 126.0193018451736, 125.08789824632902, 1848.3036408124538, 460.28123931468696, 71.29132984788829, 260.413716376477, 509.4361393262843, 107.12116156330195, 108.60342998728626, 111.4035036892497, 240.24683569921012, 144.91701646426367, 298.77355430588193, 227.6532047890979, 128.21546820561403, 266.43465559532166, 164.36490219671708, 340.42749590187117, 385.32263078560584, 326.6279916725596, 9.406710778034777, 16.30781141700969, 22.104976903126634, 13.46830778909201, 9.779866755364795, 16.440192261268635, 41.80452018500269, 11.682741040518579, 13.07805497016564, 17.877013573520617, 23.146706509306956, 17.42998780367063, 54.47013446894445, 72.38084562468214, 40.60108938870449, 28.274428203699173, 21.71919403643774, 53.23037539979417, 240.24683569921012, 11.503479482178257, 18.88557422282847, 42.76619732772968, 16.52045415064291, 39.949200388278086, 15.643860210876172, 14.53592262481573, 326.6279916725596, 23.865176980154544, 17.35005347583456, 76.28046264436196, 75.62771981751571, 39.7046993124464, 158.08301156731537, 62.882378709174205, 2240.4992287268697, 58.470322643577134, 509.4361393262843, 95.30234308507522, 227.6532047890979, 144.91701646426367, 349.00458854821164, 69.3333200267113, 215.98604149093464, 89.1741704749169, 67.8955652921614, 285.83612065166443, 98.59702401177012, 88.83465756572653, 1848.3036408124538, 114.68645686105269, 223.05526862846818, 218.98287880393892, 91.39131127441412, 287.99176021286644, 266.43465559532166, 260.413716376477, 125.08789824632902, 460.28123931468696, 385.32263078560584, 13.341852532253395, 15.123254959036291, 38.78686066784302, 45.052475846323375, 11.404785279644917, 15.182886554620719, 42.56556785143005, 32.90033796372755, 17.235436606780823, 12.470211385637532, 25.515002060264678, 43.69422304404447, 54.47013446894445, 16.929111226341973, 43.54190640025201, 10.27789845861864, 23.41325069961409, 26.100986399290996, 16.286873453278233, 31.350099293976413, 10.726476581912777, 16.617548040631984, 16.075998803491522, 25.42552768636633, 23.571167679723786, 10.057377060762882, 14.648661123322848, 9.925498385674038, 16.768844319725908, 22.839390907424566, 287.99176021286644, 47.088671202271314, 100.09406853133984, 47.42349229033756, 255.7524088445769, 24.329511192286645, 69.3333200267113, 137.97805360632822, 39.355482504316285, 42.89732774048277, 76.79474313873645, 1848.3036408124538, 165.67637143282488, 135.9552402769515, 125.25937092106257, 95.0110877513018, 107.12116156330195, 2240.4992287268697, 97.22848240920467, 385.32263078560584, 97.418988981107, 158.93877764721123, 215.98604149093464, 218.98287880393892, 114.68645686105269, 144.91701646426367, 349.00458854821164, 164.36490219671708, 326.6279916725596, 128.21546820561403, 460.28123931468696, 509.4361393262843, 24.550182187470593, 18.79087804665625, 16.25879956558394, 42.73951305513381, 14.703316361676757, 13.339470050564403, 16.718226513924304, 10.873740969668628, 13.638311382142621, 13.979943703288964, 10.78140340039056, 119.99940421455081, 26.349873367907115, 12.053731807533016, 28.301109418927314, 31.121113555297963, 86.24434416925256, 12.161934559651538, 41.65124164942863, 30.099722118923818, 13.085675974899392, 18.954503938904473, 16.330315524332452, 8.907822663677734, 298.77355430588193, 23.032492262957444, 13.892368669250414, 106.51253032722718, 22.095719782593388, 33.44057431370103, 152.971593132354, 85.3421274095636, 162.37313721382972, 385.32263078560584, 460.28123931468696, 111.4035036892497, 44.044641494346216, 1848.3036408124538, 40.372378987917145, 349.00458854821164, 266.43465559532166, 107.8485096347234, 130.34613144647048, 165.67637143282488, 2240.4992287268697, 215.98604149093464, 157.41248370394158, 255.7524088445769, 144.91701646426367, 326.6279916725596, 164.36490219671708, 183.65304299624808, 509.4361393262843, 240.24683569921012, 285.83612065166443, 181.68093940386018, 170.92024368056113, 22.920541091341253, 16.366039760166352, 11.85198847336377, 48.26572096435256, 59.15388250732566, 25.41555928532503, 13.449573001690448, 10.345975250349596, 40.19793775071126, 40.19791879805991, 40.1979684068755, 24.803704809482298, 14.706718720344163, 46.13139617686932, 9.324065870683118, 12.94088806383478, 34.59557205761995, 26.032295536778378, 45.555562539853625, 9.120116893943749, 17.657326968129524, 21.33710514762368, 15.643860210876172, 12.494586434477519, 13.562064936609547, 13.562049840692048, 22.792719891043575, 13.083923955755974, 40.93536126271894, 17.10065597276769, 130.34613144647048, 37.076579666437844, 260.413716376477, 58.0859237782559, 255.7524088445769, 62.608829408063045, 1848.3036408124538, 255.075640593784, 340.42749590187117, 385.32263078560584, 158.93877764721123, 158.08301156731537, 2240.4992287268697, 76.18199598694538, 287.99176021286644, 137.97805360632822, 460.28123931468696, 89.44467789456291, 298.77355430588193, 218.98287880393892, 326.6279916725596, 266.43465559532166, 164.70803286197292, 79.0877607357707, 12.047848375337525, 38.787797398587045, 18.855077927665942, 11.023348049793386, 79.97246277456864, 10.841297422309, 13.71245632185387, 15.44932231509638, 25.46828472097519, 36.17501863891022, 13.840423284202478, 21.1997584954037, 36.44857131429432, 29.405269185329946, 9.336817448884508, 20.849638775358745, 10.480797682737718, 23.42136054209716, 37.354350907855284, 10.309105888646515, 19.573981488786444, 16.984249015064396, 18.805510682253928, 14.306039986200236, 42.12795047954568, 12.819460226905584, 39.510235066986446, 39.5041793837533, 32.81496835318317, 39.48941459363897, 58.23054657907947, 42.54870155063431, 126.0193018451736, 42.88554859373333, 340.42749590187117, 227.6532047890979, 68.87660292866573, 2240.4992287268697, 1848.3036408124538, 223.05526862846818, 38.81544348490044, 73.82656860693218, 260.413716376477, 215.98604149093464, 181.68093940386018, 97.418988981107, 91.39131127441412, 162.37313721382972, 72.80186743293896, 509.4361393262843, 135.9552402769515, 385.32263078560584, 130.43144671736002, 298.77355430588193, 460.28123931468696, 125.25937092106257, 255.7524088445769, 285.83612065166443, 218.98287880393892, 7.455593926176033, 22.984192535485384, 15.508519286585127, 12.441771628478367, 13.414095835538555, 10.793008665432135, 10.788793724185153, 12.776213568973347, 10.150195604748163, 18.37777250326168, 108.60342998728626, 126.84527080084658, 42.10171386309299, 8.628643513509134, 14.437291894412192, 15.600175569407337, 61.84948888976154, 13.370877843842116, 37.21388667623941, 37.21396318414337, 37.21389963605554, 15.25902292504428, 22.368801374694684, 10.939820141059299, 20.650460600102107, 22.598655758076568, 10.642639241136216, 13.51167858524402, 58.470322643577134, 25.41555928532503, 58.57707836326715, 128.21546820561403, 45.35640933313223, 85.3421274095636, 111.74207523959298, 103.10569005461247, 2240.4992287268697, 460.28123931468696, 64.57524671452364, 509.4361393262843, 215.98604149093464, 164.13474266464027, 223.05526862846818, 227.6532047890979, 340.42749590187117, 218.98287880393892, 1848.3036408124538, 285.83612065166443, 89.1741704749169, 118.92428984019725, 385.32263078560584, 97.22848240920467, 287.99176021286644, 349.00458854821164, 125.08789824632902, 31.73661102080906, 9.899267137437532, 8.518056640632738, 7.3449028184403025, 68.41377781998581, 15.085064312391177, 33.317678165195865, 47.40155742980271, 16.153615717334418, 12.698783780549523, 21.430025172311826, 37.40510267522806, 10.322707148606604, 13.03704397481688, 33.08892610237503, 29.53543440508729, 66.70501921686306, 24.50779512699771, 62.608829408063045, 15.25902292504428, 38.0856327546942, 22.134343029680128, 21.15511942145576, 10.007927541308367, 8.628643513509134, 17.64943133847565, 15.977539645266127, 27.70995353483571, 38.46393639804181, 38.463912618576515, 340.42749590187117, 110.62903459221275, 24.91553224602292, 47.75780970608423, 266.43465559532166, 285.83612065166443, 509.4361393262843, 126.84527080084658, 59.15388250732566, 2240.4992287268697, 125.08789824632902, 183.65304299624808, 1848.3036408124538, 287.99176021286644, 164.13474266464027, 95.0110877513018, 385.32263078560584, 223.05526862846818, 164.36490219671708, 260.413716376477, 349.00458854821164, 255.7524088445769, 40.17866088902265, 37.27397029594686, 32.34381313228038, 40.53195441507928, 45.603966585404905, 45.38399840685143, 16.144867035617878, 40.372378987917145, 17.843196908369816, 27.275205147197084, 12.37084277225392, 14.577020102779315, 12.595929233540279, 45.6370362274057, 11.656396295504967, 15.099696037924915, 26.349873367907115, 14.498704775054788, 29.737572262729785, 10.716871398427582, 46.50588080338746, 18.51610372551823, 51.39031058570507, 16.923434304583736, 22.77913291434588, 8.115133553596737, 30.012289322061772, 20.396459487608297, 12.698783780549523, 17.287324460317645, 72.51285004151562, 89.8024642694807, 255.075640593784, 74.94197442435544, 51.09514434829873, 119.99940421455081, 218.98287880393892, 45.54507595075764, 111.74207523959298, 287.99176021286644, 285.83612065166443, 385.32263078560584, 40.60108938870449, 509.4361393262843, 121.39678422854888, 1848.3036408124538, 181.68093940386018, 460.28123931468696, 115.9131197656384, 2240.4992287268697, 298.77355430588193, 135.9552402769515, 183.65304299624808], \"loglift\": [30.0, 29.0, 28.0, 27.0, 26.0, 25.0, 24.0, 23.0, 22.0, 21.0, 20.0, 19.0, 18.0, 17.0, 16.0, 15.0, 14.0, 13.0, 12.0, 11.0, 10.0, 9.0, 8.0, 7.0, 6.0, 5.0, 4.0, 3.0, 2.0, 1.0, 1.8045, 1.7829, 1.7307, 1.5684, 1.5202, 1.5093, 1.507, 1.4999, 1.469, 1.464, 1.4255, 1.4106, 1.3842, 1.3617, 1.3382, 1.331, 1.33, 1.3217, 1.2995, 1.2859, 1.2613, 1.2591, 1.2565, 1.2542, 1.2541, 1.2501, 1.2414, 1.2347, 1.2232, 1.2197, 1.1783, 1.0611, 1.0681, 1.0913, 0.6873, 0.9321, 0.8831, 0.9254, 0.9456, 0.5957, 0.5434, 0.9356, 0.5971, 0.3097, 0.2176, 0.5275, -0.6492, 0.0363, 0.4746, -0.2466, 0.015, 0.0084, 0.4574, 0.0905, -0.505, 0.5295, 1.9884, 1.6634, 1.6244, 1.6152, 1.5367, 1.5338, 1.5236, 1.5097, 1.4611, 1.458, 1.4556, 1.4435, 1.39, 1.366, 1.3456, 1.3268, 1.2978, 1.2972, 1.2827, 1.2267, 1.223, 1.1711, 1.1519, 1.1395, 1.1053, 1.0959, 1.0894, 1.0884, 1.0796, 1.0792, 1.0791, 1.0456, 0.7297, 0.9717, 0.7572, 0.7695, 0.8556, 0.5425, 0.7658, 0.7577, -0.0627, 0.3522, 0.8918, 0.3967, 0.134, 0.7072, 0.6866, 0.5976, 0.2184, 0.4672, 0.048, 0.1969, 0.5042, -0.0178, 0.2856, -0.2837, -0.4627, -0.4354, 2.0523, 1.8935, 1.809, 1.6934, 1.6622, 1.6496, 1.6046, 1.597, 1.5593, 1.5391, 1.4747, 1.4206, 1.3691, 1.3543, 1.3479, 1.3388, 1.3378, 1.3204, 1.302, 1.2978, 1.2937, 1.2925, 1.2693, 1.2556, 1.2461, 1.2444, 1.2428, 1.2237, 1.2012, 1.1903, 1.1594, 1.1692, 0.9747, 1.083, 0.5395, 1.0809, 0.6256, 0.9569, 0.7146, 0.8184, 0.4627, 1.0029, 0.5963, 0.9049, 1.0008, 0.3957, 0.8078, 0.8449, -0.7448, 0.6526, 0.1772, 0.1864, 0.7436, -0.1337, -0.0837, -0.0771, 0.4787, -0.684, -0.5919, 1.711, 1.6948, 1.6424, 1.5433, 1.5204, 1.5167, 1.4876, 1.4699, 1.4422, 1.4061, 1.3979, 1.3934, 1.3883, 1.3503, 1.3479, 1.3426, 1.3313, 1.3238, 1.3017, 1.2871, 1.2814, 1.2735, 1.2623, 1.2592, 1.251, 1.2509, 1.2492, 1.2267, 1.2177, 1.1936, 1.0992, 1.1603, 1.0967, 1.1401, 0.9234, 1.1874, 1.044, 0.9005, 1.113, 1.0954, 0.9815, 0.336, 0.7965, 0.8114, 0.8149, 0.8344, 0.7894, -0.268, 0.8147, 0.1881, 0.7527, 0.5291, 0.2649, 0.2514, 0.5616, 0.4214, -0.1229, 0.3029, -0.2418, 0.4526, -0.7082, -0.9223, 2.0405, 1.9745, 1.9447, 1.9379, 1.8913, 1.8262, 1.8003, 1.7053, 1.6545, 1.6051, 1.5937, 1.5738, 1.5664, 1.5013, 1.495, 1.4946, 1.4779, 1.4732, 1.4662, 1.4448, 1.3999, 1.3817, 1.3671, 1.3618, 1.3525, 1.3474, 1.3371, 1.3096, 1.2764, 1.2733, 1.1766, 1.1505, 0.9465, 0.6085, 0.5489, 0.9026, 1.1175, -0.1227, 1.138, 0.313, 0.3804, 0.6646, 0.5555, 0.4304, -0.974, 0.2444, 0.404, 0.0457, 0.4079, -0.1292, 0.3079, 0.206, -0.5615, -0.0488, -0.2092, 0.1262, 0.1088, 2.1203, 2.056, 2.0276, 1.7249, 1.6935, 1.6758, 1.6607, 1.6575, 1.6356, 1.6356, 1.6356, 1.6213, 1.6143, 1.6085, 1.5978, 1.5621, 1.543, 1.5083, 1.5046, 1.4894, 1.4668, 1.4622, 1.4575, 1.4379, 1.422, 1.4219, 1.4197, 1.4143, 1.4141, 1.4037, 1.3243, 1.3547, 1.1365, 1.2642, 0.9518, 1.1403, 0.4207, 0.7611, 0.6497, 0.5624, 0.7844, 0.6237, -0.5764, 0.8837, 0.2636, 0.5978, -0.1286, 0.7941, 0.0181, 0.0637, -0.2394, -0.1455, 0.0786, 2.1884, 2.0344, 2.0206, 1.9354, 1.8546, 1.8301, 1.8276, 1.8023, 1.7904, 1.7856, 1.7643, 1.7582, 1.7517, 1.7067, 1.6956, 1.6521, 1.6064, 1.5756, 1.5594, 1.5423, 1.5311, 1.5026, 1.4793, 1.4516, 1.4427, 1.4229, 1.3909, 1.3852, 1.3806, 1.3697, 1.3694, 1.3436, 1.3282, 1.141, 1.3133, 0.899, 0.9285, 1.1605, -0.1629, -0.1813, 0.5692, 1.2968, 0.9987, 0.3979, 0.4823, 0.5567, 0.8597, 0.8901, 0.5498, 0.9717, -0.3653, 0.5109, -0.2693, 0.5109, -0.1183, -0.5362, 0.4694, -0.1562, -0.288, -0.1223, 2.3584, 2.3515, 2.1247, 2.1058, 2.0374, 1.9887, 1.9739, 1.9488, 1.9461, 1.8474, 1.8302, 1.7484, 1.6673, 1.6589, 1.6444, 1.639, 1.585, 1.5544, 1.5474, 1.5473, 1.5473, 1.5216, 1.5146, 1.4725, 1.4418, 1.4297, 1.4236, 1.4126, 1.3503, 1.3442, 1.3089, 1.2598, 1.3137, 1.2352, 1.1477, 1.1461, 0.5345, 0.6642, 1.124, 0.3424, 0.5686, 0.6447, 0.4807, 0.4227, 0.1952, 0.2949, -0.9692, 0.0834, 0.8202, 0.6188, -0.2809, 0.7036, -0.1996, -0.3962, 0.4688, 2.5592, 2.3941, 2.3791, 2.3293, 2.2131, 2.1788, 2.1144, 2.0926, 2.0719, 1.9877, 1.9578, 1.8813, 1.8728, 1.8672, 1.8438, 1.7884, 1.7753, 1.7085, 1.694, 1.687, 1.6645, 1.6585, 1.6297, 1.6214, 1.5914, 1.5819, 1.5782, 1.5574, 1.5285, 1.5285, 1.4879, 1.4351, 1.5119, 1.4103, 1.0916, 1.0106, 0.7476, 1.0672, 1.29, -0.2173, 0.8984, 0.6638, -0.6822, 0.2526, 0.5782, 0.8551, -0.1681, 0.0908, 0.1846, -0.2601, -0.5558, -0.3654, 2.2503, 2.2226, 2.2195, 2.1344, 2.0535, 2.0435, 2.0213, 1.9875, 1.9843, 1.9484, 1.8827, 1.8668, 1.8443, 1.7979, 1.7671, 1.7382, 1.7336, 1.7251, 1.7079, 1.6678, 1.6463, 1.5542, 1.5352, 1.5045, 1.4869, 1.4815, 1.4774, 1.4771, 1.4671, 1.4633, 1.4385, 1.37, 1.2324, 1.2924, 1.2989, 1.1014, 0.9402, 1.2922, 0.9333, 0.523, 0.5025, 0.2726, 1.3014, 0.0553, 0.7234, -0.8152, 0.4372, -0.151, 0.6127, -1.5796, -0.1242, 0.4871, 0.2206], \"Freq\": [2240.0, 340.0, 1848.0, 126.0, 79.0, 255.0, 108.0, 509.0, 68.0, 298.0, 121.0, 119.0, 266.0, 287.0, 326.0, 260.0, 79.0, 285.0, 240.0, 31.0, 255.0, 227.0, 45.0, 130.0, 66.0, 62.0, 85.0, 460.0, 47.0, 59.0, 11.313261277933464, 19.646399156414464, 16.210283008828323, 26.038559294501976, 7.867602820799051, 37.84587115081006, 40.91726606117557, 13.91112761005054, 8.372731937003252, 5.715423455124734, 8.513314027441398, 21.430156247163765, 7.673133140801803, 15.782846740193252, 6.403883094463818, 40.30948543941705, 6.365005541986743, 14.75916494178608, 10.462768602311412, 8.76031747193221, 8.088900518684405, 39.37799262917589, 7.5810845048108, 19.257937103038476, 7.4401583604027905, 9.020527127691624, 5.798120922661833, 7.581389238326964, 5.857138739193777, 37.92546885591392, 14.559721770513372, 60.198780145145655, 50.232093677983286, 27.965881915113805, 486.3919151607803, 53.429864526536086, 54.706298201317836, 27.228289184408673, 24.801339034405974, 61.25240665351396, 60.71547712038102, 20.863819383603573, 43.689493484044945, 62.96110755156158, 53.73651600705284, 34.31278639546388, 154.93716235397625, 63.169540907678545, 34.96576587874893, 52.69175407652392, 38.401442947935436, 34.75670994878174, 24.17027851958824, 26.61045344885157, 30.778439016660045, 23.173397979315965, 33.99885083422637, 7.85490226219433, 78.30849324156073, 11.333686213995328, 10.709758692287634, 5.394113296197979, 7.819459867983881, 15.685158886984626, 4.359325860922855, 19.043358252458145, 8.411300758391766, 17.107485283078915, 4.358634675500722, 9.726681156378145, 7.746412371914371, 56.964725164356054, 76.6397555715371, 12.249129315995585, 36.37481697982198, 4.143479876176783, 4.359483186891474, 6.061632172870682, 5.782927646202749, 16.52120901218108, 16.591576722585117, 13.104044922509017, 19.51712967435687, 8.60231021689188, 14.773600687569463, 14.773108781707581, 14.773286035632225, 59.35213624974879, 590.6940847852736, 28.476430344321304, 60.448316473338146, 45.45319662659421, 28.76074563945008, 76.3100171227487, 34.44787593010114, 33.91655676656123, 220.6419766991949, 83.19518885979126, 22.10338400264715, 49.210459604508124, 74.03405994888469, 27.61387289109216, 27.425364915493088, 25.737133509117793, 37.9886290076814, 29.387307846712243, 39.83875303112463, 35.23042788408866, 26.979008068046085, 33.26568664830767, 27.794793559644646, 32.57776521560458, 30.833364243073206, 26.85824465453428, 8.530329523517679, 12.616694077775781, 15.716656029431931, 8.5300209912648, 6.003910767927875, 9.966342433655358, 24.22820929886871, 6.719117845468656, 7.2432915558560405, 9.703458536808398, 11.780064180172888, 8.40334303072727, 24.944530841042546, 32.65766415424998, 18.20202846147298, 12.561032360341477, 9.639259799218138, 23.21759604543267, 102.87967795739337, 4.905451365631937, 8.02053380057827, 18.14096983251248, 6.847058769807688, 16.33144258677862, 6.334793347105757, 5.876181779295258, 131.82487827916728, 9.4496787443205, 6.717310384716204, 29.21157418936914, 28.08114277193386, 14.888239241177454, 48.80024463356134, 21.630431166174812, 447.5881890726852, 20.071835796837647, 110.92018609757658, 28.899005065892847, 54.181354694845034, 38.26209774167595, 64.56443193081046, 22.01434717167954, 45.66810978439559, 25.671838438202037, 21.512585301810784, 49.452229992312645, 25.75706062117298, 24.0838719517825, 102.21897680278819, 25.652865146389548, 31.015805445341762, 30.72938563174645, 22.390470094610016, 29.345011985839665, 28.540327190905465, 28.079180083895302, 23.514923098921, 27.049626218075428, 24.83087178818486, 8.31024840935801, 9.268297905692505, 22.55838008990548, 23.728921227895793, 5.871155259927578, 7.787203170195868, 21.20572740711129, 16.102149767261782, 8.205236925085169, 5.7258778411112, 11.62011120090356, 19.809857155784094, 24.571689819875147, 7.351378343914109, 18.863426583681267, 4.42913345272543, 9.975797514308756, 11.038135911138935, 6.737560607481176, 12.780215740045653, 4.34779494609278, 6.6827385106657955, 6.393205321047016, 10.080010255588853, 9.268087074693257, 3.95449343207998, 5.749844774748141, 3.808953635478195, 6.377566676265818, 8.479752817669432, 97.29174098539494, 16.91081017590911, 33.73174876234157, 16.69068960990166, 72.4760444689456, 8.976912746855664, 22.16510876094764, 38.21463251023863, 13.480796005294524, 14.436818923477661, 23.06302777026323, 291.07285404176173, 41.35384107507157, 34.443733405739174, 31.845277562077868, 24.631411647688463, 26.549215863769867, 192.8719280557698, 24.714415904969353, 52.33989708554173, 23.273444537679755, 30.361476852500576, 31.679740863144357, 31.690068795794726, 22.63342478038658, 24.858499853151223, 34.73733646953726, 25.043137654862385, 28.86496869917128, 22.688868689334104, 25.51472480548789, 22.795506451491008, 20.768646174046243, 14.881785961725617, 12.498138640649096, 32.630143853627835, 10.714748053190702, 9.107731280802048, 11.123232933684099, 6.578651391120429, 7.843152321428425, 7.652098154244503, 5.8340835298868905, 63.655531055826, 13.874579524114536, 5.947343172299594, 13.875035903416974, 15.252624539998882, 41.56762206443816, 5.833963764344303, 19.840287199934966, 14.035137936359654, 5.833529614252422, 8.297708828600069, 7.044876872861944, 3.8228585049214154, 127.02279733841952, 9.742688265755588, 5.816383634395945, 43.3851730509756, 8.705840763668718, 13.13491751355352, 54.54524205483793, 29.64868047552077, 45.99878382354165, 77.84909067827324, 87.61818452422531, 30.20555758522473, 14.805176843631603, 179.75514474584546, 13.850711703180313, 52.47392240059218, 42.8514977932039, 23.0484812671964, 24.976325430680703, 28.012984392255895, 93.00558703868043, 30.322178375004984, 25.923028493731696, 29.43354526844423, 23.957505364697465, 31.559537892881355, 24.58662831602343, 24.81129395688287, 31.94417400604958, 25.155590857752166, 25.49349118986961, 22.66193979312337, 20.951515455171943, 17.040505661304035, 11.410521526550268, 8.031877996428628, 24.16512888622615, 28.70246514521949, 12.115136655882663, 6.315381798438645, 4.842100806105772, 18.407180961941606, 18.406488891689953, 18.40649919911923, 11.19639425444365, 6.592139955830031, 20.558653620525252, 4.1109620843787456, 5.505697888741084, 14.439657063422638, 10.495273343637155, 18.29919297035537, 3.607990825927526, 6.829759331755551, 8.214529324494075, 5.994815225995103, 4.694924336519642, 5.0154574098180245, 5.015395933364819, 8.409874251717781, 4.801574202911857, 15.020323146928796, 6.209746109463083, 43.71787459336154, 12.819100944680526, 72.38892269413576, 18.346838325956988, 59.10357696589589, 17.46973204884938, 251.14530883307364, 48.71457174564512, 58.158945247085434, 60.32818202378812, 31.069345405875314, 26.315544297063653, 112.31647576817943, 16.4470274432029, 33.44230115984672, 22.381568135871124, 36.11007295106303, 17.654925630722232, 27.142998214839846, 20.821582889047686, 22.93720630859567, 20.551251413812352, 15.896494392951723, 60.93811946257833, 7.958691096751132, 25.26960476709799, 11.28087097009372, 6.083389023676713, 43.065917162457374, 5.823724416935281, 7.181366999841858, 7.995402200227627, 13.11746041009993, 18.240160135867015, 6.936135431539813, 10.555012129445439, 17.34865262484588, 13.842570102742197, 4.207998563967903, 8.977022023397607, 4.375775997918267, 9.621610066517988, 15.085170709431067, 4.116617119540553, 7.596720029894248, 6.439703345932517, 6.9356400387099555, 5.229649335369864, 15.097054434984143, 4.449532149534262, 13.636011963759236, 13.571213156022964, 11.151204926259068, 13.41450793001878, 19.278188451664985, 13.870441829984065, 34.06900743352615, 13.774228701675865, 72.24970977769131, 49.762661671519396, 18.986151883679803, 164.42963620895654, 133.1775820930437, 34.04205236121838, 12.262838637437758, 17.310352700336647, 33.484805994376835, 30.218976877231707, 27.38223350705989, 19.879321633663857, 19.224624725632623, 24.303761245371525, 16.615791994603796, 30.537165909860747, 19.57226646578644, 25.4255301948923, 18.777384078837045, 22.927482982119315, 23.256217110467656, 17.30063587291705, 18.895683886607074, 18.51124336913781, 16.737193888122807, 6.5546159484274655, 20.068409432379408, 10.792505111595887, 8.496434857525232, 8.554643790509674, 6.555960070682102, 6.4569897212079255, 7.457424237931567, 5.908412192874955, 9.692560949792075, 56.298591511114516, 60.59468892114065, 18.54435593307809, 3.769070436004473, 6.21537088106108, 6.679491012410967, 25.091572004774445, 5.260538061809984, 14.538963555245193, 14.538779673282844, 14.538619119629152, 5.809769125848692, 8.45758773459876, 3.9657400851944224, 7.259794354389723, 7.849206714772023, 3.6738490829567025, 4.613481793801433, 18.75867447695659, 8.103612898696124, 18.030088857764675, 37.572903262597876, 14.028449593118536, 24.401712750205373, 29.274804313014705, 26.966888081033748, 317.9191783899738, 74.35556418622535, 16.5201654522418, 59.64982655239657, 31.709481085219966, 26.002193905424942, 29.991578946759297, 28.885828094480253, 34.40513027410935, 24.45172041044369, 58.30088494364328, 25.83219914799334, 16.836796468872844, 18.358337372106536, 24.19094285374953, 16.33705744083848, 19.61219965604417, 19.524884541250692, 16.620584215232842, 30.82388885231385, 8.151576909590991, 6.909582040551123, 5.668393309755472, 47.00905131722121, 10.01551611553458, 20.741438458255423, 28.87294500599073, 9.637740510996979, 6.964550747105389, 11.406863596974558, 18.44319413355789, 5.04687002505777, 6.338606104191316, 15.714431059428868, 13.271409266920339, 29.581768721792955, 10.16630427411574, 25.597888088220863, 6.1951544237388925, 15.11972055284023, 8.734489893028655, 8.110777632944728, 3.805220555250232, 3.183798037833057, 6.450721330771925, 5.818303397756774, 9.883269756676802, 13.327377584897436, 13.327349060005718, 113.26550896192194, 34.91303625802874, 8.491468977501038, 14.703050018231744, 59.642071027055756, 59.005876646419615, 80.84213269436151, 27.70872759496579, 16.147668355062393, 135.47268781921923, 23.08201744290129, 26.80254635442656, 70.20665906264203, 27.859252208351723, 21.988072962943946, 16.78822580391879, 24.474548087241242, 18.3539881156653, 14.855324571713975, 15.087195975217703, 15.04271698753975, 13.335593993925052, 25.823366817045958, 23.301348132031684, 20.156602933311763, 23.19935915086593, 24.073240013421632, 23.719334403847313, 8.252234518010798, 19.95098864066697, 8.78956224921196, 12.961680900035192, 5.504895719594643, 6.384797696493016, 5.393853830387594, 18.657380111057865, 4.620881121529786, 5.815176472411664, 10.101884071355341, 5.511200173919839, 11.11105726071522, 3.8468130549486035, 16.33743704261471, 5.932623968876526, 16.155915031324334, 5.159328241261519, 6.823158739675366, 2.4178504449493867, 8.905117459324096, 6.05040845549812, 3.729187003997712, 5.057709781611375, 20.69441016294489, 23.93224735560806, 59.241014151614976, 18.480513370091828, 12.682026013850123, 24.447834471424173, 37.96993614952036, 11.229780625385422, 19.24291364149515, 32.90223234639515, 31.99437080475168, 34.27176481420156, 10.102945897719836, 36.461709039695535, 16.947188038146226, 55.392338429680656, 19.049328164992144, 26.80285134125455, 14.486184131459781, 31.264299234155366, 17.869589894711517, 14.985394531599487, 15.50737831297771], \"logprob\": [30.0, 29.0, 28.0, 27.0, 26.0, 25.0, 24.0, 23.0, 22.0, 21.0, 20.0, 19.0, 18.0, 17.0, 16.0, 15.0, 14.0, 13.0, 12.0, 11.0, 10.0, 9.0, 8.0, 7.0, 6.0, 5.0, 4.0, 3.0, 2.0, 1.0, -6.027400016784668, -5.475500106811523, -5.667799949645996, -5.19379997253418, -6.390699863433838, -4.819900035858154, -4.7418999671936035, -5.820700168609619, -6.328400135040283, -6.710299968719482, -6.311800003051758, -5.388599872589111, -6.4156999588012695, -5.694499969482422, -6.596499919891357, -4.756800174713135, -6.60260009765625, -5.761600017547607, -6.105599880218506, -6.283199787139893, -6.3628997802734375, -4.780200004577637, -6.427800178527832, -5.495500087738037, -6.446499824523926, -6.253900051116943, -6.695899963378906, -6.427700042724609, -6.685800075531006, -4.817800045013428, -5.775199890136719, -4.355800151824951, -4.536799907684326, -5.122399806976318, -2.266400098800659, -4.475100040435791, -4.451399803161621, -5.149199962615967, -5.242499828338623, -4.338399887084961, -4.3471999168396, -5.41540002822876, -4.676300048828125, -4.3109002113342285, -4.469299793243408, -4.917900085449219, -3.410399913787842, -4.307600021362305, -4.899099826812744, -4.488999843597412, -4.805300235748291, -4.905099868774414, -5.2683000564575195, -5.172100067138672, -5.026599884033203, -5.310400009155273, -4.886600017547607, -6.3516998291015625, -4.052199840545654, -5.985099792480469, -6.0416998863220215, -6.72760009765625, -6.356299877166748, -5.660200119018555, -6.9405999183654785, -5.46619987487793, -6.283299922943115, -5.573400020599365, -6.940700054168701, -6.138000011444092, -6.365699768066406, -4.370500087738037, -4.073800086975098, -5.907400131225586, -4.818999767303467, -6.991300106048584, -6.940499782562256, -6.610899925231934, -6.6579999923706055, -5.6082000732421875, -5.604000091552734, -5.840000152587891, -5.4415998458862305, -6.260900020599365, -5.71999979019165, -5.720099925994873, -5.720099925994873, -4.329400062561035, -2.031599998474121, -5.063799858093262, -4.311100006103516, -4.596199989318848, -5.053899765014648, -4.078100204467773, -4.8734002113342285, -4.888999938964844, -3.0162999629974365, -3.9916999340057373, -5.317200183868408, -4.5167999267578125, -4.108399868011475, -5.094600200653076, -5.101399898529053, -5.164899826049805, -4.775599956512451, -5.032299995422363, -4.728000164031982, -4.85099983215332, -5.117800235748291, -4.908400058746338, -5.0879998207092285, -4.929299831390381, -4.984300136566162, -5.122300148010254, -6.182000160217285, -5.790599822998047, -5.570899963378906, -6.182000160217285, -6.533199787139893, -6.026400089263916, -5.1381001472473145, -6.420599937438965, -6.3454999923706055, -6.053100109100342, -5.8592000007629395, -6.197000026702881, -5.10890007019043, -4.8394999504089355, -5.424099922180176, -5.795000076293945, -6.059700012207031, -5.180699825286865, -3.691999912261963, -6.735199928283691, -6.243599891662598, -5.4274001121521, -6.401800155639648, -5.53249979019165, -6.479499816894531, -6.554699897766113, -3.4440999031066895, -6.079599857330322, -6.420899868011475, -4.951000213623047, -4.990499973297119, -5.625, -4.43779993057251, -5.251500129699707, -2.2216999530792236, -5.326300144195557, -3.61680006980896, -4.9618000984191895, -4.333199977874756, -4.681099891662598, -4.157899856567383, -5.23390007019043, -4.504199981689453, -5.0802001953125, -5.256899833679199, -4.424600124359131, -5.076900005340576, -5.144000053405762, -3.698499917984009, -5.080900192260742, -4.89109992980957, -4.900400161743164, -5.216899871826172, -4.946499824523926, -4.974299907684326, -4.990600109100342, -5.167900085449219, -5.027900218963623, -5.113500118255615, -6.173799991607666, -6.064700126647949, -5.17519998550415, -5.124599933624268, -6.521299839019775, -6.238800048828125, -5.236999988555908, -5.512400150299072, -6.186500072479248, -6.546299934387207, -5.838600158691406, -5.305099964141846, -5.089700222015381, -6.29640007019043, -5.354100227355957, -6.803100109100342, -5.991099834442139, -5.889900207519531, -6.383600234985352, -5.7434000968933105, -6.821599960327148, -6.3917999267578125, -6.436100006103516, -5.980800151824951, -6.064700126647949, -6.916500091552734, -6.542099952697754, -6.953999996185303, -6.438499927520752, -6.153600215911865, -3.713599920272827, -5.463399887084961, -4.772900104522705, -5.476500034332275, -4.007999897003174, -6.09660005569458, -5.192800045013428, -4.648099899291992, -5.690000057220459, -5.621500015258789, -5.15310001373291, -2.6177000999450684, -4.5690999031066895, -4.751999855041504, -4.830399990081787, -5.087299823760986, -5.01230001449585, -3.0292999744415283, -5.083899974822998, -4.333499908447266, -5.144000053405762, -4.8780999183654785, -4.835599899291992, -4.835299968719482, -5.171899795532227, -5.078100204467773, -4.743500232696533, -5.070700168609619, -4.928699970245361, -5.169400215148926, -5.052000045776367, -5.164700031280518, -5.234499931335449, -5.567800045013428, -5.742400169372559, -4.782700061798096, -5.896299839019775, -6.058800220489502, -5.85890007019043, -6.384099960327148, -6.2083001136779785, -6.232999801635742, -6.504199981689453, -4.1143999099731445, -5.637899875640869, -6.485000133514404, -5.637800216674805, -5.5432000160217285, -4.540599822998047, -6.504199981689453, -5.280200004577637, -5.626399993896484, -6.504300117492676, -6.1519999504089355, -6.3155999183654785, -6.9268999099731445, -3.4235999584198, -5.991399765014648, -6.507299900054932, -4.497799873352051, -6.103899955749512, -5.692699909210205, -4.268899917602539, -4.878499984741211, -4.439300060272217, -3.9131999015808105, -3.7948999404907227, -4.859899997711182, -5.572999954223633, -3.0762999057769775, -5.639599800109863, -4.307600021362305, -4.510200023651123, -5.130300045013428, -5.050000190734863, -4.935299873352051, -3.735300064086914, -4.856100082397461, -5.012800216674805, -4.885799884796143, -5.091700077056885, -4.816100120544434, -5.065700054168701, -5.056600093841553, -4.803899765014648, -5.042900085449219, -5.0295000076293945, -5.147200107574463, -5.2256999015808105, -5.223400115966797, -5.624499797821045, -5.975599765777588, -4.874100208282471, -4.702000141143799, -5.564599990844727, -6.216000080108643, -6.4816999435424805, -5.146299839019775, -5.146299839019775, -5.146299839019775, -5.643400192260742, -6.173099994659424, -5.035699844360352, -6.645299911499023, -6.3531999588012695, -5.388999938964844, -5.708099842071533, -5.152100086212158, -6.775899887084961, -6.137700080871582, -5.953100204467773, -6.268099784851074, -6.512499809265137, -6.446499824523926, -6.446499824523926, -5.929599761962891, -6.490099906921387, -5.349599838256836, -6.232900142669678, -4.281199932098389, -5.5081000328063965, -3.7769999504089355, -5.149499893188477, -3.9797000885009766, -5.198500156402588, -2.5329999923706055, -4.172999858856201, -3.995800018310547, -3.959199905395508, -4.622799873352051, -4.78879976272583, -3.3376998901367188, -5.258900165557861, -4.549200057983398, -4.950799942016602, -4.472400188446045, -5.188000202178955, -4.757900238037109, -5.0229997634887695, -4.926199913024902, -5.036099910736084, -5.292900085449219, -3.916800022125244, -5.952400207519531, -4.796999931335449, -5.603499889373779, -6.221099853515625, -4.263899803161621, -6.264699935913086, -6.055099964141846, -5.947800159454346, -5.452700138092041, -5.123000144958496, -6.089900016784668, -5.670000076293945, -5.173099994659424, -5.398900032043457, -6.589700222015381, -5.831999778747559, -6.550600051879883, -5.762599945068359, -5.312900066375732, -6.611599922180176, -5.998899936676025, -6.1641998291015625, -6.090000152587891, -6.372300148010254, -5.312099933624268, -6.53380012512207, -5.413899898529053, -5.418700218200684, -5.615099906921387, -5.430300235748291, -5.067699909210205, -5.396900177001953, -4.498300075531006, -5.403800010681152, -3.746500015258789, -4.1194000244140625, -5.082900047302246, -2.9242000579833984, -3.134999990463257, -4.499000072479248, -5.520100116729736, -5.175300121307373, -4.515500068664551, -4.618199825286865, -4.716700077056885, -5.0370001792907715, -5.070400238037109, -4.835999965667725, -5.216300010681152, -4.607699871063232, -5.052499771118164, -4.790900230407715, -5.093999862670898, -4.8942999839782715, -4.880099773406982, -5.175899982452393, -5.087699890136719, -5.10830020904541, -5.209000110626221, -6.10830020904541, -4.9893999099731445, -5.6097002029418945, -5.848899841308594, -5.8420000076293945, -6.108099937438965, -6.123300075531006, -5.979300022125244, -6.212100028991699, -5.717100143432617, -3.9577999114990234, -3.8842999935150146, -5.068299770355225, -6.6616997718811035, -6.161499977111816, -6.0894999504089355, -4.765999794006348, -6.3282999992370605, -5.311699867248535, -5.311699867248535, -5.311699867248535, -6.229000091552734, -5.853400230407715, -6.610799789428711, -6.006199836730957, -5.928100109100342, -6.687300205230713, -6.459499835968018, -5.05679988861084, -5.896200180053711, -5.096499919891357, -4.362199783325195, -5.347400188446045, -4.793900012969971, -4.611800193786621, -4.693900108337402, -2.2267000675201416, -3.6796000003814697, -5.183899879455566, -3.9000000953674316, -4.531899929046631, -4.730299949645996, -4.587600231170654, -4.625199794769287, -4.450300216674805, -4.791800022125244, -3.9228999614715576, -4.7368998527526855, -5.164899826049805, -5.078400135040283, -4.802499771118164, -5.195099830627441, -5.012400150299072, -5.0167999267578125, -5.1778998374938965, -4.459000110626221, -5.789100170135498, -5.954400062561035, -6.152400016784668, -4.0370001792907715, -5.583199977874756, -4.855199813842773, -4.524400234222412, -5.621600151062012, -5.946499824523926, -5.453100204467773, -4.972599983215332, -6.268599987030029, -6.0406999588012695, -5.132800102233887, -5.301700115203857, -4.500199794769287, -5.568299770355225, -4.644800186157227, -6.063600063323975, -5.171299934387207, -5.720099925994873, -5.794099807739258, -6.551000118255615, -6.729300022125244, -6.023099899291992, -6.126299858093262, -5.596499919891357, -5.297500133514404, -5.297500133514404, -3.157599925994873, -4.334499835968018, -5.748300075531006, -5.1992998123168945, -3.7990000247955322, -3.8097000122070312, -3.494800090789795, -4.5655999183654785, -5.105599880218506, -2.978600025177002, -4.748300075531006, -4.598800182342529, -3.6359000205993652, -4.560200214385986, -4.796800136566162, -5.066699981689453, -4.689700126647949, -4.977499961853027, -5.189000129699707, -5.173500061035156, -5.176400184631348, -5.296899795532227, -4.532100200653076, -4.634799957275391, -4.779799938201904, -4.639200210571289, -4.602200031280518, -4.617000102996826, -5.672900199890137, -4.79010009765625, -5.609799861907959, -5.22130012512207, -6.077700138092041, -5.9293999671936035, -6.098100185394287, -4.857100009918213, -6.252799987792969, -6.022900104522705, -5.470600128173828, -6.076600074768066, -5.375400066375732, -6.436100006103516, -4.9899001121521, -6.002900123596191, -5.000999927520752, -6.142499923706055, -5.86299991607666, -6.9004998207092285, -5.596700191497803, -5.9832000732421875, -6.467100143432617, -6.162399768829346, -4.753499984741211, -4.608099937438965, -3.70169997215271, -4.866600036621094, -5.243199825286865, -4.5868000984191895, -4.146500110626221, -5.364799976348877, -4.826200008392334, -4.28980016708374, -4.317800045013428, -4.249000072479248, -5.4704999923706055, -4.187099933624268, -4.953199863433838, -3.768899917602539, -4.836299896240234, -4.494800090789795, -5.110099792480469, -4.34089994430542, -4.900199890136719, -5.076300144195557, -5.041999816894531], \"Term\": [\"motion\", \"sign\", \"order\", \"modify\", \"pl\", \"magistrate\", \"mro\", \"notice\", \"serve_answer_due\", \"request\", \"djc\", \"minute_entry_proceeding_hold\", \"case\", \"attachment\", \"letter\", \"stipulation\", \"service_accept\", \"complaint\", \"grant\", \"redact_transcript_deadline_set\", \"schedule\", \"summary_judgment\", \"d._kan._magistrate_d.\", \"sign_magistrate\", \"rule_statement\", \"han\", \"notice_appearance_behalf\", \"plaintiff\", \"dismiss_second_amend\", \"keely\", \"dismiss_lack_jurisdiction\", \"attorney_terminate\", \"bar\", \"document_place_vault\", \"compel\", \"opinion\", \"[_]\", \"comply_discovery_ruling_conference\", \"claim_assert\", \"allege\", \"estate_m.l\", \"dle\", \"dismissal_prejudice\", \"herein\", \"safe_harbor_asset\", \"p.c\", \"final\", \"endorsement_application_grant\", \"york_ny_magistrate\", \"entirety\", \"usca_case\", \"cd\", \"appearance\", \"refer\", \"right\", \"magistrate_designate\", \"administration\", \"interrogatory\", \"stipulate\", \"september\", \"cost\", \"claim\", \"seal\", \"number\", \"order\", \"propose\", \"hereby\", \"copy\", \"sign_iii\", \"magistrate\", \"case\", \"rjm\", \"may\", \"dismiss\", \"letter\", \"judgment\", \"motion\", \"plaintiff\", \"discovery\", \"notice\", \"complaint\", \"stipulation\", \"response\", \"action\", \"court\", \"deny\", \"redaction_request_due\", \"deny_part\", \"djc\", \"pro_hac_vice\", \"class_certification\", \"incorrectly\", \"grant_part\", \"notice_adoption_master\", \"transfer_new_york_eastern\", \"rule_corporate_disclosure_statement\", \"corporate_parent\", \"dismiss_thirdparty_complaint\", \"aim_exploration_basile_mark\", \"magistrate_designate\", \"admit\", \"declaration_opposition\", \"l.p.\", \"ae\", \"reply_memorandum_law_support\", \"new_york_new_jersey\", \"certify_class\", \"ago\", \"reconsideration\", \"pursuant_frcp\", \"default_judgment\", \"approve\", \"form\", \"answer_crossclaim\", \"reportertranscriber_deadline_release_transcript\", \"public_terminal_purchase_court\", \"transcript_may_view_court\", \"declaration_support\", \"motion\", \"dismissal\", \"memorandum_law_support\", \"serve\", \"plaintiff_'\", \"dismiss\", \"march\", \"memorandum_law_opposition\", \"order\", \"plaintiff\", \"notice_appeal\", \"stipulation\", \"notice\", \"answer\", \"mro\", \"april\", \"grant\", \"due\", \"request\", \"summary_judgment\", \"opposition\", \"case\", \"discovery\", \"sign\", \"court\", \"letter\", \"service_accept_legal_clerk\", \"set_answer_due\", \"master\", \"associated_case_ft\", \"nonecf_case_error\", \"mark\", \"extension\", \"dismiss_subrogation_claim_assert\", \"firm\", \"mbe\", \"permission\", \"civil_cover_sheet\", \"c.d\", \"appear_pro_hac_vice\", \"release_transcript_restriction_set\", \"worcester\", \"section\", \"agreement\", \"grant\", \"certify_copy_docket_sheet\", \"settle\", \"e\", \"notice_conversion\", \"page\", \"attachment_erratum\", \"fact_discovery\", \"letter\", \"summary_judgment_favor_november\", \"r._civ\", \"c\", \"answer_complaint\", \"purs\", \"amend_complaint\", \"first\", \"motion\", \"affidavit_service_summons\", \"notice\", \"time\", \"summary_judgment\", \"due\", \"dismiss\", \"kehrli\", \"'\", \"leave\", \"brief\", \"complaint\", \"june\", \"endorsement\", \"order\", \"reply\", \"memorandum_law_support\", \"counsel\", \"address\", \"attachment\", \"case\", \"stipulation\", \"memorandum_law_opposition\", \"plaintiff\", \"court\", \"dispositive\", \"fax\", \"revise_schedule\", \"proceeding\", \"case_assign\", \"modify_gf\", \"status_report\", \"would\", \"thereafter\", \"submit_joint_letter\", \"haas\", \"esq\", \"c.d\", \"via\", \"show_cause\", \"stock\", \"period\", \"pretrial_conference_hold\", \"discovery_dispute\", \"litigation\", \"adopt\", \"office_p.c\", \"enclose\", \"reply_paper\", \"response_due_reply\", \"genesys_id\", \"initial\", \"completion\", \"conduct\", \"andor\", \"attachment\", \"fund\", \"letter_address\", \"new_york\", \"schedule\", \"service_make\", \"kehrli\", \"regard\", \"application\", \"mail\", \"certificate_service\", \"order\", \"serve\", \"submit\", \"support\", \"july\", \"answer\", \"motion\", \"direct\", \"court\", \"deposition\", \"propose\", \"'\", \"counsel\", \"reply\", \"due\", \"dismiss\", \"discovery\", \"letter\", \"opposition\", \"plaintiff\", \"notice\", \"magistrate_discovery_hear\", \"case_designate\", \"jury_trial_hold\", \"fee_receipt_number\", \"forward\", \"nm\", \"a.m._courtroom\", \"modify_ldi\", \"expert_discovery_due\", \"a.m\", \"meet_confer\", \"minute_entry_proceeding_hold\", \"wellington\", \"pdf\", \"ltd..\", \"sc\", \"hold\", \"u\", \"nd\", \"jco\", \"telephone_conference_set\", \"select\", \"defts\", \"note_attorney_manually_refile\", \"request\", \"pro_se\", \"confer\", \"clerk\", \"certificate\", \"default\", \"judgment\", \"notice_appearance_behalf\", \"conference\", \"court\", \"plaintiff\", \"april\", \"attach\", \"order\", \"telephone_conference_hold\", \"dismiss\", \"case\", \"issue\", \"sign_magistrate\", \"serve\", \"motion\", \"'\", \"claim\", \"schedule\", \"due\", \"letter\", \"discovery\", \"action\", \"notice\", \"grant\", \"complaint\", \"may\", \"hereby\", \"mp\", \"longer_assigned_case\", \"website\", \"deadline\", \"keely\", \"jp\", \"court_reporter\", \"answer_otherwise_respond\", \"request_redaction_transcript\", \"calendar_day\", \"court_notice_intent\", \"ja\", \"copy_mail_chamber\", \"kw\", \"protocol\", \"office\", \"tro\", \"mail_copy\", \"copy_send_chamber\", \"united_state_magistrate\", \"effect\", \"pm\", \"attachment_erratum\", \"usca\", \"attorney_responsible_provide_courtesy\", \"copy_individual_practice_require\", \"answer_crossclaim\", \"cancel\", \"transcript\", \"initial_conference\", \"sign_magistrate\", \"transcript_proceeding_hold\", \"stipulation\", \"extend\", \"schedule\", \"han\", \"order\", \"magistrate\", \"sign\", \"court\", \"propose\", \"amend_complaint\", \"motion\", \"set_forth\", \"attachment\", \"regard\", \"plaintiff\", \"trial\", \"request\", \"counsel\", \"letter\", \"case\", \"l.p.\", \"pl\", \"g\", \"tp\", \"usa\", \"fee_cost\", \"service_accept\", \"associate_case_j\", \"tape\", \"bond\", \"new_address\", \"dismiss.._document\", \"anc\", \"transmission\", \"yv\", \"prior\", \"pursuant_federal_rule\", \"gr\", \"rj\", \"agent\", \"answer_due_answer_due\", \"opportunity\", \"per\", \"dismissal_without_prejudice\", \"gf\", \"jurisdiction\", \"testimony\", \"k\", \"transcript_may_view_court\", \"public_terminal_purchase_court\", \"limine_preclude_plaintiff_introduce\", \"reportertranscriber_deadline_release_transcript\", \"set\", \"material\", \"march\", \"restriction\", \"sign\", \"summary_judgment\", \"matter\", \"motion\", \"order\", \"memorandum_law_support\", \"terminate\", \"rule\", \"stipulation\", \"'\", \"may\", \"deposition\", \"address\", \"conference\", \"january\", \"notice\", \"submit\", \"court\", \"seal\", \"request\", \"plaintiff\", \"support\", \"schedule\", \"complaint\", \"counsel\", \"sign_iii_cd\", \"ama\", \"support_paper_review\", \"jv\", \"ml\", \"calculation\", \"corp..\", \"receive_night_deposit_box\", \"third_complaint\", \"rule_disclosure_statement\", \"mro\", \"modify\", \"withdraw_attorney\", \"kco\", \"consider\", \"confirm\", \"rjm\", \"pa\", \"court_reportertranscriber_abovecaptioned_matter\", \"hereby_give_official_transcript\", \"official_transcript_notice\", \"associate_case_et_al\", \"conference_proceed_hold\", \"affidavit_jr._c.p.a\", \"cf\", \"adar_bay\", \"p\", \"associate_case_thk\", \"affidavit_service_summons\", \"jp\", \"summary_judgment.._document\", \"opposition\", \"sac\", \"notice_appearance_behalf\", \"declaration\", \"deny\", \"motion\", \"plaintiff\", \"associated_case\", \"notice\", \"'\", \"declaration_support\", \"memorandum_law_support\", \"summary_judgment\", \"sign\", \"counsel\", \"order\", \"complaint\", \"leave\", \"declaration_opposition\", \"court\", \"direct\", \"attachment\", \"dismiss\", \"memorandum_law_opposition\", \"redact_transcript_deadline_set\", \"sign_sr\", \"oral_argument_set_pm\", \"notice_appearance_behalf_aty\", \"serve_answer_due\", \"merrill\", \"supplemental_amend\", \"dismiss_second_amend\", \"kkc\", \"notice_case_reassignment\", \"s.d.n.y\", \"cotton\", \"goodwin\", \"government\", \"may_obtain_pacer\", \"db\", \"rule_statement\", \"error\", \"han\", \"associate_case_et_al\", \"relate\", \"dt\", \"dismiss_without_prejudice\", \"docket_entry\", \"kco\", \"lb\", \"notice_right_appeal\", \"redaction_calendar_day_mcguirk\", \"electronically_available_public_without\", \"transcript_may_make_remotely\", \"sign\", \"attorney\", \"l.p..\", \"associate_case\", \"case\", \"complaint\", \"notice\", \"modify\", \"keely\", \"motion\", \"memorandum_law_opposition\", \"action\", \"order\", \"attachment\", \"declaration_support\", \"july\", \"court\", \"memorandum_law_support\", \"discovery\", \"stipulation\", \"dismiss\", \"schedule\", \"reiter\", \"kan._gr\", \"associated_case_et_al\", \"court_reportertranscriber\", \"d._kan._magistrate_d.\", \"answer_due\", \"note_attorney\", \"telephone_conference_hold\", \"jar\", \"transcript_proceeding_conference_hold\", \"longer\", \"ecf\", \"copy_mail\", \"sign_s.d.n.y\", \"conference_call\", \"rule_deposition_objection\", \"wellington\", \"memoendorsement_letter_address\", \"endorsement_application_grant\", \"n\", \"cal\", \"today\", \"related\", \"judgment_favor\", \"request_issuance_summons\", \"line\", \"redact\", \"send\", \"notice_case_reassignment\", \"stillwater_market_neutral_fund\", \"docket\", \"service\", \"magistrate\", \"august\", \"appear\", \"minute_entry_proceeding_hold\", \"counsel\", \"chamber\", \"declaration\", \"attachment\", \"complaint\", \"court\", \"release_transcript_restriction_set\", \"notice\", \"djc\", \"order\", \"may\", \"plaintiff\", \"follow\", \"motion\", \"request\", \"submit\", \"action\"]}, \"token.table\": {\"Freq\": [0.04166935945431338, 0.08796864773688381, 0.21297672609982396, 0.14815772250422538, 0.13889786484771127, 0.018519715313028172, 0.13889786484771127, 0.14815772250422538, 0.04166935945431338, 0.023149644141285213, 0.5985353732138855, 0.014598423736924037, 0.029196847473848073, 0.014598423736924037, 0.043795271210772105, 0.043795271210772105, 0.10218896615846826, 0.05839369494769615, 0.029196847473848073, 0.07299211868462017, 0.5722483702218268, 0.1430620925554567, 0.21459313883318507, 0.1196299139944202, 0.6579645269693112, 0.0598149569972101, 0.1196299139944202, 0.1470163497402632, 0.10890099980760236, 0.04900544991342106, 0.1197910997883626, 0.13612624975950297, 0.08167574985570177, 0.07078564987494154, 0.0598955498941813, 0.1470163497402632, 0.08712079984608188, 0.13275125884104083, 0.3097529372957619, 0.13275125884104083, 0.04425041961368027, 0.3540033569094422, 0.04425041961368027, 0.05470979604381492, 0.06565175525257791, 0.24072310259278568, 0.09847763287886686, 0.1641293881314448, 0.010941959208762985, 0.2078972249664967, 0.06565175525257791, 0.010941959208762985, 0.05470979604381492, 0.47394384272203804, 0.31596256181469207, 0.07899064045367302, 0.07899064045367302, 0.06300928030149061, 0.5040742424119249, 0.12601856060298122, 0.06300928030149061, 0.06300928030149061, 0.06300928030149061, 0.12601856060298122, 0.09322725802489722, 0.09322725802489722, 0.37290903209958887, 0.18645451604979443, 0.09322725802489722, 0.09322725802489722, 0.09322725802489722, 0.4555988005779702, 0.11389970014449255, 0.11389970014449255, 0.15186626685932342, 0.07593313342966171, 0.07593313342966171, 0.09140918105653338, 0.27422754316960013, 0.3656367242261335, 0.09140918105653338, 0.18281836211306676, 0.017102693379952613, 0.34205386759905226, 0.17102693379952613, 0.017102693379952613, 0.017102693379952613, 0.05130808013985784, 0.32495117421909964, 0.05130808013985784, 0.034205386759905226, 0.08539213579865412, 0.08539213579865412, 0.08539213579865412, 0.08539213579865412, 0.12808820369798118, 0.04269606789932706, 0.4269606789932706, 0.04269606789932706, 0.20289667147072601, 0.40579334294145203, 0.06763222382357534, 0.06763222382357534, 0.27052889529430135, 0.11271759695354695, 0.056358798476773476, 0.43208412165526333, 0.07514506463569796, 0.03757253231784898, 0.09393133079462246, 0.03757253231784898, 0.03757253231784898, 0.09393133079462246, 0.46827903892345557, 0.23413951946172779, 0.11706975973086389, 0.11706975973086389, 0.6006819741291995, 0.10011366235486659, 0.10011366235486659, 0.20022732470973317, 0.04350816320634698, 0.04350816320634698, 0.8701632641269396, 0.056932113772184774, 0.14549317964002775, 0.3099637305374504, 0.08856106586784299, 0.08223527544871134, 0.16447055089742268, 0.012651580838263283, 0.056932113772184774, 0.018977371257394925, 0.06325790419131641, 0.07225212549253494, 0.07225212549253494, 0.5057648784477445, 0.07225212549253494, 0.21675637647760482, 0.08756800950194542, 0.13135201425291812, 0.35027203800778167, 0.08756800950194542, 0.13135201425291812, 0.04378400475097271, 0.08756800950194542, 0.04378400475097271, 0.1120226837057657, 0.26138626198011994, 0.0466761182107357, 0.2520510383379728, 0.08401701277932427, 0.037340894568588565, 0.037340894568588565, 0.08401701277932427, 0.0933522364214714, 0.03966799484684697, 0.18511730928528589, 0.37023461857057177, 0.05289065979579596, 0.07933598969369395, 0.07933598969369395, 0.01322266494894899, 0.1718946443363369, 0.02644532989789798, 0.39486292303081216, 0.13162097434360404, 0.04387365811453468, 0.35098926491627747, 0.04387365811453468, 0.04406839569468318, 0.17627358277873273, 0.04406839569468318, 0.02203419784734159, 0.08813679138936636, 0.08813679138936636, 0.5288207483361982, 0.21416514557391686, 0.18739450237717725, 0.026770643196739607, 0.4015596479510941, 0.10708257278695843, 0.053541286393479215, 0.0966559435724737, 0.1933118871449474, 0.0966559435724737, 0.48327971786236845, 0.0966559435724737, 0.03914266268369183, 0.17614198207661322, 0.05871399402553774, 0.07828532536738365, 0.1369993193929214, 0.019571331341845914, 0.1369993193929214, 0.09785665670922956, 0.019571331341845914, 0.2544273074439969, 0.041447429552784736, 0.13815809850928246, 0.45592172508063206, 0.02763161970185649, 0.013815809850928245, 0.09671066895649771, 0.013815809850928245, 0.02763161970185649, 0.06907904925464123, 0.11052647880742596, 0.4906716693566153, 0.061333958669576916, 0.18400187600873075, 0.061333958669576916, 0.12266791733915383, 0.12266791733915383, 0.025409420400075787, 0.050818840800151574, 0.17786594280053053, 0.33032246520098524, 0.050818840800151574, 0.10163768160030315, 0.07622826120022737, 0.050818840800151574, 0.025409420400075787, 0.07622826120022737, 0.1450959286841457, 0.3772494145787788, 0.1450959286841457, 0.11607674294731656, 0.05803837147365828, 0.08705755721048743, 0.02901918573682914, 0.02901918573682914, 0.13464567543442066, 0.23338583741966248, 0.01795275672458942, 0.05385827017376826, 0.2692913508688413, 0.08976378362294711, 0.05385827017376826, 0.0807874052606524, 0.00897637836229471, 0.05385827017376826, 0.06281695116385974, 0.1046949186064329, 0.1046949186064329, 0.02093898372128658, 0.02093898372128658, 0.16751186977029264, 0.06281695116385974, 0.31408475581929873, 0.12563390232771948, 0.19660498675024402, 0.39320997350048803, 0.39320997350048803, 0.0922398824648257, 0.5534392947889543, 0.27671964739447713, 0.0922398824648257, 0.44406029659057644, 0.07401004943176274, 0.3700502471588137, 0.1480200988635255, 0.12388647983594489, 0.17034390977442423, 0.12388647983594489, 0.09291485987695867, 0.015485809979493111, 0.04645742993847934, 0.2632587696513829, 0.061943239917972445, 0.12388647983594489, 0.0927534421414859, 0.030917814047161964, 0.030917814047161964, 0.06183562809432393, 0.030917814047161964, 0.12367125618864785, 0.6183562809432392, 0.07424837742495762, 0.07424837742495762, 0.6682353968246185, 0.07424837742495762, 0.14849675484991523, 0.13622542485151545, 0.0908169499010103, 0.0908169499010103, 0.34056356212878863, 0.15892966232676803, 0.06811271242575773, 0.06811271242575773, 0.04540847495050515, 0.055557145066142684, 0.041667858799607015, 0.10069732543238362, 0.33681519196349, 0.05208482349950877, 0.11458661169891929, 0.01736160783316959, 0.06944643133267836, 0.0972250038657497, 0.11458661169891929, 0.3835370502626062, 0.06392284171043437, 0.3835370502626062, 0.06392284171043437, 0.045196091771300274, 0.05423531012556033, 0.11750983860538071, 0.09039218354260055, 0.027117655062780164, 0.0994314018968606, 0.10847062025112066, 0.10847062025112066, 0.3163726423991019, 0.027117655062780164, 0.14747016839605184, 0.3686754209901296, 0.2949403367921037, 0.07373508419802592, 0.80123980316353, 0.12018597047452952, 0.040061990158176505, 0.040061990158176505, 0.09340559884855483, 0.16012388374037972, 0.1734675407187447, 0.18681119769710966, 0.06671828489182488, 0.013343656978364976, 0.053374627913459906, 0.2401858256105696, 0.7373612484100339, 0.04608507802562712, 0.04608507802562712, 0.04608507802562712, 0.04608507802562712, 0.04608507802562712, 0.04608507802562712, 0.19418327476206096, 0.06472775825402032, 0.06472775825402032, 0.5178220660321625, 0.12945551650804063, 0.1030995171758023, 0.11782801962948834, 0.32402705398109294, 0.04418550736105813, 0.1767420294442325, 0.029457004907372086, 0.14728502453686043, 0.05891400981474417, 0.014728502453686043, 0.026219033428316836, 0.07865710028495052, 0.38017598471059416, 0.026219033428316836, 0.06554758357079209, 0.05243806685663367, 0.10487613371326734, 0.09176661699910893, 0.06554758357079209, 0.09176661699910893, 0.45896710635538224, 0.45896710635538224, 0.01835868425421529, 0.01835868425421529, 0.05507605276264587, 0.08601062770772513, 0.10751328463465641, 0.10751328463465641, 0.08601062770772513, 0.021502656926931284, 0.21502656926931282, 0.34404251083090054, 0.09265257084456918, 0.09265257084456918, 0.09265257084456918, 0.09265257084456918, 0.6485679959119843, 0.22389218818050777, 0.44778437636101553, 0.07463072939350258, 0.22389218818050777, 0.07642967074568427, 0.07642967074568427, 0.15285934149136854, 0.07642967074568427, 0.3821483537284214, 0.07642967074568427, 0.07642967074568427, 0.07642967074568427, 0.22894919530532387, 0.12385776139468341, 0.10884469940744905, 0.011259796490425765, 0.1613904163627693, 0.07881857543298035, 0.015013061987234353, 0.011259796490425765, 0.22519592980851527, 0.04128592046489447, 0.08768249252222086, 0.08768249252222086, 0.5260949551333252, 0.17536498504444173, 0.08768249252222086, 0.053217310948273935, 0.7982596642241091, 0.10643462189654787, 0.4616882162700233, 0.03551447817461718, 0.047352637566156236, 0.03551447817461718, 0.07102895634923435, 0.15389607209000777, 0.047352637566156236, 0.10654343452385154, 0.023676318783078118, 0.362061072402912, 0.045257634050364, 0.090515268100728, 0.135772902151092, 0.407318706453276, 0.13021724653644745, 0.10417379722915796, 0.02604344930728949, 0.29949966703382913, 0.13021724653644745, 0.02604344930728949, 0.02604344930728949, 0.07813034792186846, 0.14323897119009218, 0.02604344930728949, 0.3961913798335492, 0.2971435348751619, 0.0990478449583873, 0.0990478449583873, 0.17386043962598413, 0.4346510990649603, 0.26079065943897617, 0.17386043962598413, 0.09685013999107171, 0.048425069995535856, 0.09685013999107171, 0.048425069995535856, 0.048425069995535856, 0.33897548996875104, 0.2421253499776793, 0.10978135167467704, 0.13173762200961245, 0.10978135167467704, 0.08782508133974162, 0.10978135167467704, 0.06586881100480622, 0.06586881100480622, 0.04391254066987081, 0.24151897368428946, 0.4589790933941593, 0.057372386674269915, 0.2868619333713496, 0.057372386674269915, 0.11474477334853983, 0.3811641782671244, 0.13340746239349355, 0.06988009934897281, 0.0952910445667811, 0.1651711439157539, 0.025410945217808293, 0.025410945217808293, 0.06988009934897281, 0.025410945217808293, 0.012705472608904146, 0.5494691903765123, 0.13736729759412808, 0.06868364879706404, 0.13736729759412808, 0.06868364879706404, 0.05517322799077281, 0.606905507898501, 0.05517322799077281, 0.05517322799077281, 0.11034645598154562, 0.11034645598154562, 0.08449710069181768, 0.15960563464010008, 0.04694283371767649, 0.018777133487070597, 0.4037083699720178, 0.05633140046121179, 0.12205136766595888, 0.028165700230605894, 0.06571996720474708, 0.018777133487070597, 0.6154459438910117, 0.07693074298637646, 0.15386148597275293, 0.07693074298637646, 0.07693074298637646, 0.1329433100105248, 0.05247762237257559, 0.17142689975041359, 0.04548060605623218, 0.08746270395429265, 0.03498508158171706, 0.0664716550052624, 0.09096121211246436, 0.20641198133213065, 0.11195226106149458, 0.10075060829623925, 0.2015012165924785, 0.403002433184957, 0.10075060829623925, 0.10075060829623925, 0.10075060829623925, 0.596911298268889, 0.2131826065246032, 0.04263652130492064, 0.1279095639147619, 0.23853760722762685, 0.05963440180690671, 0.35780641084144027, 0.11926880361381342, 0.05963440180690671, 0.05963440180690671, 0.14396393067417157, 0.14396393067417157, 0.14396393067417157, 0.43189179202251476, 0.07198196533708578, 0.07198196533708578, 0.07198196533708578, 0.049269233429078685, 0.0862211585008877, 0.1354903919299664, 0.05542788760771352, 0.2832980922172025, 0.08006250432225287, 0.14780770028723605, 0.05542788760771352, 0.0677451959649832, 0.04311057925044385, 0.25736942395797613, 0.08578980798599203, 0.17157961597198407, 0.08578980798599203, 0.4289490399299602, 0.22352561124068035, 0.35764097798508854, 0.17882048899254427, 0.17882048899254427, 0.06410184267163288, 0.2564073706865315, 0.12820368534326576, 0.06410184267163288, 0.44871289870143016, 0.06410184267163288, 0.27706027066947087, 0.06926506766736772, 0.06926506766736772, 0.06926506766736772, 0.4155904060042063, 0.06926506766736772, 0.3310969107675804, 0.12262848546947423, 0.024525697093894846, 0.012262848546947423, 0.18394272820421134, 0.061314242734737116, 0.03678854564084227, 0.12262848546947423, 0.09810278837557938, 0.14747033254509434, 0.36867583136273585, 0.2949406650901887, 0.07373516627254717, 0.0793907286599557, 0.1587814573199114, 0.0793907286599557, 0.0793907286599557, 0.0793907286599557, 0.3969536432997785, 0.06799613285706455, 0.1359922657141291, 0.1359922657141291, 0.4759729299994518, 0.06799613285706455, 0.1359922657141291, 0.021951216146769443, 0.21951216146769442, 0.19756094532092497, 0.39512189064184994, 0.043902432293538886, 0.043902432293538886, 0.043902432293538886, 0.18537753627790807, 0.18537753627790807, 0.5561326088337242, 0.1295523128497056, 0.5182092513988223, 0.1295523128497056, 0.19432846927455838, 0.4430143738028688, 0.1476714579342896, 0.059068583173715834, 0.11813716634743167, 0.029534291586857917, 0.08860287476057375, 0.08860287476057375, 0.029534291586857917, 0.05346864082596202, 0.13367160206490505, 0.05346864082596202, 0.10693728165192404, 0.08020296123894302, 0.05346864082596202, 0.02673432041298101, 0.48121776743365813, 0.09133134110409848, 0.050232237607254156, 0.14156357871135264, 0.14613014576655756, 0.059365371717664005, 0.0958979081593034, 0.0776316399384837, 0.10959760932491816, 0.05479880466245908, 0.1735295480977871, 0.08045206152775504, 0.08045206152775504, 0.06488069478044761, 0.13495184514333103, 0.20242776771499657, 0.15571366747307427, 0.06488069478044761, 0.06228546698922971, 0.06228546698922971, 0.08823774490140876, 0.22389191187235796, 0.4477838237447159, 0.07463063729078599, 0.22389191187235796, 0.2230554084968301, 0.2230554084968301, 0.4461108169936602, 0.024671891953672132, 0.024671891953672132, 0.14803135172203277, 0.12335945976836066, 0.07401567586101639, 0.5674535149344591, 0.13435844644500505, 0.05374337857800202, 0.40307533933501516, 0.18810182502300707, 0.24184520360100908, 0.021927917128157007, 0.021927917128157007, 0.24120708840972707, 0.17542333702525606, 0.5262700110757682, 0.3047187279036535, 0.10157290930121783, 0.03385763643373928, 0.10157290930121783, 0.4401492736386106, 0.1243118279416441, 0.08287455196109607, 0.041437275980548034, 0.4972473117665764, 0.041437275980548034, 0.06215591397082205, 0.06215591397082205, 0.08287455196109607, 0.04474590246582763, 0.12528852690431735, 0.026847541479496577, 0.15213606838381394, 0.017898360986331054, 0.008949180493165527, 0.11633934641115183, 0.2595262343018003, 0.08054262443848974, 0.17003442937014498, 0.47929653459854926, 0.06726968906646305, 0.05886097793315517, 0.08408711133307882, 0.06726968906646305, 0.15135680039954189, 0.05045226679984729, 0.033634844533231525, 0.00609255532232562, 0.35946076401721155, 0.018277665966976858, 0.06092555322325619, 0.09138832983488429, 0.04264788725627933, 0.07920321919023306, 0.1584064383804661, 0.13403621709116362, 0.04264788725627933, 0.02990379263882102, 0.11961517055528408, 0.1794227558329261, 0.02990379263882102, 0.38874930430467325, 0.11961517055528408, 0.08971137791646305, 0.06940154726697094, 0.3932754345128353, 0.16193694362293218, 0.13880309453394188, 0.023133849088990313, 0.023133849088990313, 0.023133849088990313, 0.11566924544495157, 0.046267698177980626, 0.18370741187026965, 0.06123580395675655, 0.42865062769729584, 0.06123580395675655, 0.06123580395675655, 0.06123580395675655, 0.1224716079135131, 0.22307207281981706, 0.04849392887387327, 0.03879514309909862, 0.12608421507207052, 0.19397571549549308, 0.03879514309909862, 0.03879514309909862, 0.2618672159189157, 0.009698785774774656, 0.009698785774774656, 0.6831009076395271, 0.08538761345494089, 0.08538761345494089, 0.08538761345494089, 0.19503384503081606, 0.04105975684859285, 0.03079481763644464, 0.2360936018794089, 0.14370914897007497, 0.03079481763644464, 0.20529878424296427, 0.020529878424296426, 0.06158963527288928, 0.020529878424296426, 0.11313557228739203, 0.12342062431351858, 0.020570104052253096, 0.2571263006531637, 0.18513093647027787, 0.030855156078379645, 0.010285052026126548, 0.16456083241802477, 0.04114020810450619, 0.06171031215675929, 0.21294083792968707, 0.17035267034374965, 0.04867219152678562, 0.15210059852120505, 0.15210059852120505, 0.05475621546763382, 0.05475621546763382, 0.03042011970424101, 0.09126035911272304, 0.036504143645089214, 0.06139913856816511, 0.06139913856816511, 0.42979396997715574, 0.24559655427266044, 0.06139913856816511, 0.12279827713633022, 0.18051338597600458, 0.21776217990756108, 0.1862439696577825, 0.10028521443111366, 0.148995175726226, 0.005730583681777923, 0.022922334727111693, 0.05730583681777923, 0.042979377613334424, 0.0372487939315565, 0.055286771790319954, 0.055286771790319954, 0.027643385895159977, 0.22114708716127982, 0.4975809461128796, 0.055286771790319954, 0.055286771790319954, 0.782002974831429, 0.0710911795301299, 0.0710911795301299, 0.0843854129882468, 0.0843854129882468, 0.1265781194823702, 0.0210963532470617, 0.0210963532470617, 0.0632890597411851, 0.6117942441647893, 0.08559635076492388, 0.5991744553544671, 0.2567890522947716, 0.08559635076492388, 0.5349442941156781, 0.2517384913485544, 0.0314673114185693, 0.1573365570928465, 0.0314673114185693, 0.04726988205917613, 0.1418096461775284, 0.04726988205917613, 0.09453976411835226, 0.2836192923550568, 0.378159056473409, 0.035379393184753874, 0.3302076697243695, 0.12972444167743086, 0.035379393184753874, 0.058965655307923116, 0.16510383486218475, 0.011793131061584625, 0.07075878636950775, 0.10613817955426162, 0.02358626212316925, 0.5508282868787998, 0.13770707171969995, 0.06885353585984998, 0.06885353585984998, 0.06885353585984998, 0.06885353585984998, 0.13770707171969995, 0.05887808163393255, 0.1177561632678651, 0.1177561632678651, 0.1177561632678651, 0.05887808163393255, 0.35326848980359526, 0.05887808163393255, 0.22485633031452118, 0.5996168808387231, 0.07495211010484039, 0.06589960393793232, 0.6425211383948402, 0.06589960393793232, 0.00823745049224154, 0.01647490098448308, 0.01647490098448308, 0.00823745049224154, 0.02471235147672462, 0.1400366583681062, 0.5315322567040703, 0.05062211968610193, 0.0759331795291529, 0.0759331795291529, 0.12655529921525485, 0.05062211968610193, 0.025311059843050966, 0.05062211968610193, 0.1103252733194155, 0.23444120580375793, 0.027581318329853874, 0.05516263665970775, 0.1792785691440502, 0.06895329582463469, 0.027581318329853874, 0.027581318329853874, 0.28960384246346565, 0.09992078738304563, 0.19984157476609127, 0.09992078738304563, 0.09992078738304563, 0.39968314953218254, 0.6341990518543474, 0.024392271225167208, 0.17074589857617045, 0.12196135612583603, 0.048784542450334416, 0.024392271225167208, 0.22589330947367436, 0.09035732378946974, 0.04517866189473487, 0.04517866189473487, 0.4066079570526138, 0.1355359856842046, 0.07590550970743028, 0.2001145255923162, 0.26221903353475917, 0.17251252206234155, 0.16561202117984788, 0.055204007059949295, 0.006900500882493662, 0.020701502647480986, 0.013801001764987324, 0.027602003529974647, 0.18706362734787238, 0.023382953418484047, 0.42089316153271283, 0.023382953418484047, 0.046765906836968095, 0.023382953418484047, 0.14029772051090428, 0.11691476709242024, 0.023382953418484047, 0.06860112649562278, 0.13720225299124555, 0.06860112649562278, 0.20580337948686836, 0.06860112649562278, 0.4116067589737367, 0.11326742737504306, 0.05663371368752153, 0.11326742737504306, 0.05663371368752153, 0.39643599581265065, 0.05663371368752153, 0.05663371368752153, 0.16990114106256457, 0.05199675819196237, 0.12999189547990592, 0.1559902745758871, 0.10399351638392473, 0.3379789282477554, 0.18198865367186828, 0.12440906623889664, 0.24881813247779327, 0.3732271987166899, 0.06220453311944832, 0.12440906623889664, 0.1013118105773203, 0.22513735683848957, 0.2701648282061875, 0.07879807489347135, 0.05628433920962239, 0.07879807489347135, 0.022513735683848957, 0.04502747136769791, 0.12382554626116926, 0.504412393435343, 0.03362749289568953, 0.06725498579137906, 0.3699024218525849, 0.49195649336858155, 0.05466183259650906, 0.05466183259650906, 0.21864733038603623, 0.16398549778952717, 0.05466183259650906, 0.04080334419388071, 0.20401672096940357, 0.16321337677552283, 0.16321337677552283, 0.40803344193880714, 0.0686589620091414, 0.1830905653577104, 0.0228863206697138, 0.457726413394276, 0.0457726413394276, 0.114431603348569, 0.114431603348569, 0.582060769749352, 0.12934683772207822, 0.06467341886103911, 0.06467341886103911, 0.06467341886103911, 0.12934683772207822, 0.14664572057056185, 0.14664572057056185, 0.5865828822822474, 0.14664572057056185, 0.12051112463533559, 0.06886349979162033, 0.06886349979162033, 0.051647624843715254, 0.051647624843715254, 0.3098857490622915, 0.12051112463533559, 0.06886349979162033, 0.017215874947905083, 0.10329524968743051, 0.07176257463842979, 0.5741005971074383, 0.1674460074896695, 0.07176257463842979, 0.02392085821280993, 0.07176257463842979, 0.06879508276225961, 0.41277049657355763, 0.20638524828677882, 0.13759016552451922, 0.06879508276225961, 0.06612333143285998, 0.5951099828957398, 0.06612333143285998, 0.06612333143285998, 0.06612333143285998, 0.13224666286571995, 0.09071654051771896, 0.09071654051771896, 0.18143308103543793, 0.5442992431063138, 0.09071654051771896, 0.02339755248755417, 0.04679510497510834, 0.7721192320892876, 0.07019265746266251, 0.04679510497510834, 0.02339755248755417, 0.04679510497510834, 0.4717562982630784, 0.2358781491315392, 0.15725209942102614, 0.07862604971051307, 0.07862604971051307, 0.07646396977847651, 0.5352477884493355, 0.07646396977847651, 0.07646396977847651, 0.07646396977847651, 0.07646396977847651, 0.19083247558905184, 0.031805412598175306, 0.3498595385799284, 0.12722165039270122, 0.19083247558905184, 0.015902706299087653, 0.015902706299087653, 0.031805412598175306, 0.04770811889726296, 0.06901720889037397, 0.08627151111296745, 0.13803441778074793, 0.1725430222259349, 0.13803441778074793, 0.11215296444685768, 0.06901720889037397, 0.08627151111296745, 0.008627151111296746, 0.12078011555815443, 0.0580695622843318, 0.38713041522887864, 0.0580695622843318, 0.01935652076144393, 0.07742608304577572, 0.0580695622843318, 0.09678260380721966, 0.21292172837588325, 0.0680118672142861, 0.0680118672142861, 0.7481305393571472, 0.1360237344285722, 0.021236530453460006, 0.04247306090692001, 0.21236530453460006, 0.3610210177088201, 0.021236530453460006, 0.10618265226730003, 0.08494612181384002, 0.06370959136038003, 0.021236530453460006, 0.06370959136038003, 0.08300237261012049, 0.08300237261012049, 0.08300237261012049, 0.6640189808809639, 0.19885900547595597, 0.09942950273797799, 0.39771801095191195, 0.19885900547595597, 0.09942950273797799, 0.21270360946776382, 0.26587951183470476, 0.053175902366940954, 0.37223131656858666, 0.10635180473388191, 0.09687381280936402, 0.09687381280936402, 0.19374762561872805, 0.4843690640468201, 0.09687381280936402, 0.07670450463553384, 0.15340900927106768, 0.15340900927106768, 0.15340900927106768, 0.46022702781320307, 0.0959249232827818, 0.0959249232827818, 0.0479624616413909, 0.431662154772518, 0.0479624616413909, 0.1918498465655636, 0.0959249232827818, 0.06243578591303509, 0.15817065764635557, 0.4287257299361743, 0.05827340018549942, 0.10405964318839182, 0.03329908582028538, 0.008324771455071345, 0.049948628730428074, 0.04162385727535673, 0.05827340018549942, 0.07458464700042115, 0.5966771760033692, 0.07458464700042115, 0.22375394100126345, 0.15677051448211823, 0.4703115434463547, 0.03919262862052956, 0.07838525724105912, 0.07838525724105912, 0.19596314310264779, 0.03194437619915684, 0.04791656429873526, 0.03194437619915684, 0.03194437619915684, 0.2715271976928331, 0.17569406909536261, 0.41527689058903894, 0.01597218809957842, 0.32178751220827556, 0.03510409224090279, 0.12286432284315976, 0.08776023060225698, 0.12286432284315976, 0.07020818448180557, 0.05850682040150465, 0.08776023060225698, 0.01170136408030093, 0.08190954856210651, 0.13435817021849658, 0.05374326808739864, 0.40307451065548977, 0.18810143830589524, 0.24184470639329386, 0.5236347937621587, 0.03272717461013492, 0.03272717461013492, 0.09818152383040475, 0.06545434922026984, 0.13090869844053968, 0.03272717461013492, 0.06545434922026984, 0.03272717461013492, 0.023189926473033938, 0.12754459560168666, 0.034784889709550904, 0.05797481618258484, 0.4869884559337127, 0.10435466912865272, 0.10435466912865272, 0.034784889709550904, 0.023189926473033938, 0.023189926473033938, 0.5461042078272557, 0.10922084156545114, 0.10922084156545114, 0.10922084156545114, 0.0682656245223566, 0.0682656245223566, 0.4095937471341396, 0.0682656245223566, 0.1365312490447132, 0.0682656245223566, 0.0682656245223566, 0.0682656245223566, 0.1754318667527968, 0.11695457783519786, 0.3508637335055936, 0.1754318667527968, 0.11695457783519786, 0.05847728891759893, 0.4800546381684898, 0.060006829771061226, 0.18002048931318368, 0.060006829771061226, 0.060006829771061226, 0.060006829771061226, 0.12001365954212245, 0.19471757255733782, 0.06490585751911261, 0.055633592159239374, 0.20398983791721104, 0.21326210327708428, 0.01854453071974646, 0.11126718431847875, 0.055633592159239374, 0.01854453071974646, 0.06490585751911261, 0.2822159049935131, 0.040316557856216156, 0.16126623142486463, 0.44348213641837775, 0.08063311571243231, 0.15109502527710006, 0.05494364555530911, 0.06867955694413638, 0.013735911388827278, 0.21977458222123644, 0.05494364555530911, 0.23351049361006374, 0.04120773416648183, 0.10988729111061822, 0.06867955694413638, 0.11208753735502677, 0.2802188433875669, 0.056043768677513386, 0.5043939180976205, 0.13289159229430839, 0.033222898073577097, 0.4651205730300793, 0.13289159229430839, 0.06644579614715419, 0.19933738844146257, 0.15738390625578733, 0.472151718767362, 0.31476781251157465, 0.22226348895106648, 0.026148645758948996, 0.0392229686384235, 0.058834452957635244, 0.3595438791855487, 0.08498309871658424, 0.078445937276847, 0.078445937276847, 0.045760130078160745, 0.013074322879474498, 0.2363586449422145, 0.2363586449422145, 0.05908966123555363, 0.11817932247110725, 0.2954483061777681, 0.06315052423887012, 0.042100349492580076, 0.06315052423887012, 0.2631271843286255, 0.11577596110459522, 0.11577596110459522, 0.07367561161201513, 0.0526254368657251, 0.17892648534346534, 0.0526254368657251, 0.12170752738508099, 0.081138351590054, 0.2636996426676755, 0.081138351590054, 0.12170752738508099, 0.050711469743783745, 0.030426881846270248, 0.060853763692540495, 0.10142293948756749, 0.081138351590054, 0.1398010911425679, 0.06990054557128395, 0.1398010911425679, 0.1398010911425679, 0.06990054557128395, 0.3495027278564197, 0.06990054557128395, 0.12301031155052372, 0.7380618693031423, 0.06150515577526186, 0.08037440566028942, 0.08037440566028942, 0.6429952452823153, 0.08037440566028942, 0.1560128090106621, 0.07800640450533106, 0.1560128090106621, 0.3120256180213242, 0.07800640450533106, 0.07800640450533106, 0.07800640450533106, 0.026828373582428355, 0.13414186791214178, 0.1877986150769985, 0.6170525923958522, 0.11589307153950501, 0.46357228615802004, 0.34767921461851503, 0.03381012226462597, 0.03381012226462597, 0.06762024452925194, 0.49024677283707657, 0.05071518339693895, 0.2704809781170078, 0.05071518339693895, 0.04326923907356841, 0.04326923907356841, 0.31730775320616833, 0.31730775320616833, 0.05769231876475788, 0.04326923907356841, 0.02884615938237894, 0.01442307969118947, 0.04326923907356841, 0.08653847814713682, 0.12381128999211015, 0.061905644996055074, 0.18571693498816522, 0.6190564499605508, 0.043354421624958686, 0.2818037405622315, 0.45522142706206625, 0.06503163243743804, 0.021677210812479343, 0.08670884324991737, 0.043354421624958686, 0.012142698599746019, 0.46749389609022174, 0.09107023949809515, 0.09107023949809515, 0.03035674649936505, 0.09714158879796815, 0.01821404789961903, 0.07285619159847612, 0.048570794398984075, 0.07285619159847612, 0.16054242632679422, 0.040135606581698555, 0.20067803290849276, 0.040135606581698555, 0.16054242632679422, 0.32108485265358844, 0.056659049281661905, 0.22663619712664762, 0.056659049281661905, 0.056659049281661905, 0.11331809856332381, 0.11331809856332381, 0.33995429568997143, 0.04485603823054489, 0.12335410513399844, 0.2915642484985418, 0.05607004778818111, 0.13456811469163465, 0.011214009557636222, 0.07849806690345355, 0.19063816247981577, 0.04485603823054489, 0.04485603823054489, 0.16532569582748535, 0.08266284791374268, 0.4041294786894086, 0.08878602183327916, 0.0979707827125839, 0.07041650007466968, 0.03367745655745072, 0.02143110871837773, 0.024492695678145975, 0.015307934798841235, 0.06993421391206885, 0.05994361192463044, 0.07992481589950726, 0.3396804675729059, 0.04995300993719204, 0.1398684278241377, 0.14985902981157612, 0.009990601987438407, 0.07992481589950726, 0.03996240794975363, 0.36568677656018395, 0.09142169414004599, 0.33521287851350196, 0.06094779609336399, 0.12189559218672798, 0.12322656101658198, 0.12322656101658198, 0.24645312203316397, 0.12322656101658198, 0.24645312203316397, 0.22328477923975748, 0.031897825605679636, 0.031897825605679636, 0.4146717328738353, 0.12759130242271854, 0.1594891280283982, 0.24250570920912382, 0.24250570920912382, 0.48501141841824763, 0.18330641034502207, 0.6721235045984143, 0.12220427356334805, 0.03533430386765038, 0.07066860773530076, 0.4946802541471053, 0.1766715193382519, 0.07066860773530076, 0.07066860773530076, 0.10600291160295114, 0.23914474882038786, 0.04704486862040417, 0.07448770864897326, 0.054885680057138196, 0.05880608577550521, 0.1920998801999837, 0.031363245746936115, 0.023522434310202085, 0.043124462902037156, 0.23130393738365382, 0.46095310921893007, 0.5121701213543668, 0.040732895274005705, 0.8553908007541199, 0.08146579054801141, 0.18649180313510053, 0.023311475391887566, 0.0699344261756627, 0.3263606554864259, 0.2098032785269881, 0.023311475391887566, 0.0699344261756627, 0.04662295078377513, 0.07682764653522021, 0.19206911633805054, 0.19206911633805054, 0.3841382326761011, 0.03841382326761011, 0.03841382326761011, 0.1269646773607545, 0.2697999393916033, 0.055547046345330094, 0.04761175401028293, 0.08728821568551871, 0.06348233868037725, 0.2697999393916033, 0.015870584670094313, 0.03967646167523578, 0.015870584670094313, 0.06082653925866152, 0.06082653925866152, 0.6082653925866153, 0.06082653925866152, 0.12165307851732304, 0.06082653925866152, 0.06082653925866152, 0.13571604318553554, 0.723818896989523, 0.045238681061845185, 0.09047736212369037, 0.04700495966063585, 0.11751239915158963, 0.11751239915158963, 0.16451735881222548, 0.04700495966063585, 0.0940099193212717, 0.32903471762445097, 0.023502479830317925, 0.023502479830317925, 0.04700495966063585, 0.04355615510113132, 0.08711231020226264, 0.04355615510113132, 0.13066846530339393, 0.07259359183521885, 0.17422462040452527, 0.27585564897383164, 0.05807487346817509, 0.05807487346817509, 0.05807487346817509, 0.24218280764275446, 0.13209971325968425, 0.0550415471915351, 0.0550415471915351, 0.12659555854053076, 0.04403323775322809, 0.14861217741714478, 0.0550415471915351, 0.038529083034074575, 0.1045789396639167, 0.03022159126307284, 0.30221591263072844, 0.12088636505229136, 0.48354546020916545, 0.06044318252614568, 0.11187550939505883, 0.5593775469752942, 0.055937754697529415, 0.22375101879011766, 0.055937754697529415, 0.09275230346763341, 0.5565138208058005, 0.18550460693526682, 0.09275230346763341, 0.09275230346763341, 0.20691503458719562, 0.13794335639146377, 0.06897167819573188, 0.06897167819573188, 0.06897167819573188, 0.41383006917439125, 0.023983135395658002, 0.27180886781745733, 0.19186508316526402, 0.015988756930438667, 0.10392692004785134, 0.03997189232609667, 0.13590443390872867, 0.18387070470004468, 0.03997189232609667, 0.07173110098847468, 0.26899162870678006, 0.1389790081651697, 0.05379832574135601, 0.01793277524711867, 0.06724790717669502, 0.1524285896005087, 0.13449581435339003, 0.08069748861203402, 0.008966387623559335, 0.0662907349475852, 0.1325814698951704, 0.0662907349475852, 0.662907349475852, 0.08333374707528278, 0.05833362295269795, 0.03333349883011311, 0.016666749415056557, 0.5333359812818098, 0.03333349883011311, 0.016666749415056557, 0.008333374707528278, 0.016666749415056557, 0.2000009929806787, 0.07454844607197869, 0.07454844607197869, 0.6709360146478083, 0.14909689214395738, 0.07883620679639292, 0.11037068951495008, 0.00788362067963929, 0.03153448271855716, 0.00788362067963929, 0.023650862038917874, 0.03941810339819646, 0.48090086145799676, 0.22074137902990015, 0.01576724135927858, 0.13172725705385221, 0.5269090282154089, 0.06586362852692611, 0.06586362852692611, 0.13172725705385221, 0.06586362852692611, 0.09196467000542083, 0.18392934001084166, 0.6437526900379458, 0.09196467000542083, 0.06918101020194345, 0.2637804969635392, 0.19995543593852041, 0.08614151592887152, 0.04150860612116607, 0.049988858984630104, 0.07319797208463694, 0.14193265318850334, 0.060254428240402357, 0.01383620204038869, 0.7416927869308517, 0.21814493733260346, 0.2486109324830788, 0.06445468619931673, 0.08287031082769293, 0.02762343694256431, 0.02762343694256431, 0.5156374895945338, 0.018415624628376207, 0.009207812314188104, 0.1866216291718726, 0.1866216291718726, 0.0933108145859363, 0.0933108145859363, 0.0933108145859363, 0.3732432583437452, 0.1200444405015376, 0.048017776200615044, 0.4801777620061504, 0.024008888100307522, 0.26409776910338273, 0.048017776200615044, 0.07852904197952673, 0.039264520989763366, 0.1177935629692901, 0.039264520989763366, 0.5104387728669237, 0.19632260494881681, 0.02108659551847783, 0.06325978655543349, 0.12651957311086698, 0.35847212381412313, 0.2108659551847783, 0.02108659551847783, 0.02108659551847783, 0.02108659551847783, 0.06325978655543349, 0.10543297759238915, 0.41837885733335733, 0.20918942866667867, 0.20918942866667867, 0.10459471433333933, 0.22489649053734842, 0.6746894716120453, 0.6135052910315644, 0.10225088183859407, 0.20450176367718814, 0.12387838162975978, 0.06193919081487989, 0.06193919081487989, 0.18581757244463967, 0.4955135265190391, 0.11226087875296052, 0.33678263625888155, 0.11226087875296052, 0.4490435150118421, 0.10403659243745661, 0.14525863849758092, 0.21788795774637137, 0.04514795520870758, 0.06281454637733229, 0.01962954574291634, 0.06085159180304066, 0.11777727445749804, 0.15899932051762236, 0.07066636467449883, 0.11000919674907783, 0.5867157159950818, 0.2566881257478483, 0.03666973224969261, 0.1542964624656364, 0.3085929249312728, 0.08416170679943803, 0.08416170679943803, 0.18235036473211574, 0.08416170679943803, 0.05610780453295869, 0.05610780453295869, 0.03515262732557349, 0.11717542441857831, 0.07030525465114698, 0.35152627325573493, 0.02343508488371566, 0.2812210186045879, 0.12889296686043614, 0.8168930411082153, 0.13614884018470255, 0.07874769877818381, 0.5512338914472866, 0.31499079511273526, 0.18159307078632897, 0.12106204719088598, 0.42371716516810093, 0.06053102359544299, 0.18159307078632897, 0.06258785909483147, 0.3129392954741574, 0.12517571818966294, 0.06258785909483147, 0.06258785909483147, 0.37552715456898883, 0.39463692124157107, 0.09865923031039277, 0.028188351517255076, 0.08456505455176523, 0.09865923031039277, 0.12684758182764785, 0.08456505455176523, 0.028188351517255076, 0.014094175758627538, 0.05637670303451015, 0.23182334822785017, 0.0772744494092834, 0.0772744494092834, 0.46364669645570034, 0.0772744494092834, 0.0772744494092834, 0.3008867486210586, 0.06017734972421171, 0.421241448069482, 0.06017734972421171, 0.12035469944842342, 0.06017734972421171, 0.13435839965440322, 0.053743359861761285, 0.40307519896320965, 0.1881017595161645, 0.24184511937792577, 0.6011537198245814, 0.07909917366112913, 0.015819834732225826, 0.14237851259003242, 0.04745950419667748, 0.04745950419667748, 0.015819834732225826, 0.04745950419667748, 0.09700162272087111, 0.09700162272087111, 0.09700162272087111, 0.09700162272087111, 0.38800649088348443, 0.09700162272087111, 0.09700162272087111, 0.08579308061613704, 0.21058301605779092, 0.07019433868593031, 0.17938553219737743, 0.10919119351144714, 0.015598741930206734, 0.29637609667392795, 0.031197483860413468, 0.007799370965103367, 0.11739766970200824, 0.8217836879140576, 0.2629438092684654, 0.11956909845335566, 0.055185737747702614, 0.15744166357432804, 0.09738659602535756, 0.13580019779091526, 0.07195787372984752, 0.031380125385948546, 0.03787256512097238, 0.029757015452192587, 0.28188496594005735, 0.09396165531335245, 0.1879233106267049, 0.09396165531335245, 0.3758466212534098, 0.49707415039121183, 0.08698797631846207, 0.03728056127934089, 0.07456112255868177, 0.012426853759780296, 0.012426853759780296, 0.07456112255868177, 0.02485370751956059, 0.12426853759780296, 0.03728056127934089, 0.14957881025897554, 0.2991576205179511, 0.07478940512948777, 0.37394702564743887, 0.07478940512948777, 0.07478940512948777, 0.025031790130483324, 0.1001271605219333, 0.4005086420877332, 0.025031790130483324, 0.22528611117434993, 0.07509537039144998, 0.025031790130483324, 0.025031790130483324, 0.1251589506524166, 0.33184743645119, 0.497771154676785, 0.165923718225595, 0.10217645301982949, 0.10217645301982949, 0.1532646795297442, 0.05108822650991474, 0.05108822650991474, 0.40870581207931794, 0.10217645301982949, 0.08542171378333915, 0.04271085689166958, 0.04271085689166958, 0.4271085689166958, 0.1708434275666783, 0.12813257067500874, 0.04271085689166958, 0.04271085689166958, 0.04271085689166958, 0.0864053812232781, 0.04320269061163905, 0.5184322873396685, 0.1728107624465562, 0.04320269061163905, 0.12960807183491713, 0.01264418148518534, 0.07586508891111204, 0.05057672594074136, 0.01264418148518534, 0.7712950705963058, 0.03793254445555602, 0.02528836297037068, 0.02528836297037068, 0.13687283907943054, 0.18032453402528148, 0.0586597881768988, 0.05648720342960625, 0.19118745776174423, 0.07821305090253174, 0.0499694491877286, 0.16077127129964855, 0.028243601714803127, 0.0586597881768988, 0.12476357061912098, 0.30151196232954236, 0.1143666064008609, 0.1143666064008609, 0.06238178530956049, 0.051984821091300405, 0.010396964218260082, 0.09357267796434073, 0.1143666064008609, 0.020793928436520163, 0.09373342757429962, 0.18746685514859923, 0.14060014136144944, 0.37493371029719846, 0.04686671378714981, 0.09373342757429962, 0.09373342757429962, 0.19156364144673932, 0.07662545657869572, 0.42144001118282653, 0.19156364144673932, 0.07662545657869572, 0.10202253144129271, 0.0340075104804309, 0.0340075104804309, 0.0680150209608618, 0.0680150209608618, 0.47610514672603266, 0.10202253144129271, 0.1360300419217236, 0.05639550634466292, 0.6203505697912921, 0.11279101268932584, 0.05639550634466292, 0.11279101268932584, 0.1736677018853533, 0.08683385094267665, 0.4341692547133833, 0.1736677018853533, 0.08683385094267665, 0.08683385094267665, 0.22196338407928087, 0.04439267681585617, 0.532712121790274, 0.08878535363171235, 0.022196338407928087, 0.06658901522378426, 0.04439267681585617, 0.3334617315205579, 0.031458653917033765, 0.037750384700440516, 0.1887519235022026, 0.050333846267254026, 0.19504365428560935, 0.050333846267254026, 0.031458653917033765, 0.037750384700440516, 0.04404211548384727, 0.10724934957229512, 0.21449869914459024, 0.4289973982891805, 0.10724934957229512, 0.10724934957229512, 0.37970665975076495, 0.05062755463343533, 0.075941331950153, 0.3543928824340473, 0.151882663900306, 0.17630154921751745, 0.025185935602502492, 0.3777890340375374, 0.025185935602502492, 0.050371871205004984, 0.22667342042252242, 0.07555780680750747, 0.025185935602502492, 0.050371871205004984, 0.21420575168672112, 0.21420575168672112, 0.10710287584336056, 0.42841150337344225, 0.02404048253677965, 0.40868820312525406, 0.3365667555149151, 0.02404048253677965, 0.07212144761033895, 0.02404048253677965, 0.0961619301471186, 0.02404048253677965, 0.17291012988394816, 0.40345696972921236, 0.057636709961316056, 0.23054683984526422, 0.17291012988394816, 0.07827045114747222, 0.23481135344241666, 0.07827045114747222, 0.5478931580323055, 0.4172442338377778, 0.06954070563962964, 0.06954070563962964, 0.06954070563962964, 0.2086221169188889, 0.06954070563962964, 0.13908141127925927, 0.16659842061180397, 0.06663936824472158, 0.09995905236708238, 0.06663936824472158, 0.06663936824472158, 0.03331968412236079, 0.09995905236708238, 0.09995905236708238, 0.2998771571012471, 0.9767898651709825, 0.07217623073548968, 0.1804405768387242, 0.10826434610323452, 0.10826434610323452, 0.3608811536774484, 0.14435246147097935, 0.05460838406032125, 0.9283425290254612, 0.4576877829176692, 0.12044415339938663, 0.04817766135975465, 0.12044415339938663, 0.024088830679877327, 0.024088830679877327, 0.12044415339938663, 0.07226649203963198, 0.07247529399517026, 0.0797228233946873, 0.1594456467893746, 0.275406117181647, 0.1087129409927554, 0.1594456467893746, 0.014495058799034052, 0.06522776459565324, 0.04348517639710216, 0.014495058799034052, 0.12444416736064161, 0.02488883347212832, 0.04977766694425664, 0.07466650041638496, 0.02488883347212832, 0.02488883347212832, 0.6471096702753363, 0.026256620349224633, 0.0787698610476739, 0.052513240698449266, 0.10502648139689853, 0.18379634244457244, 0.026256620349224633, 0.0787698610476739, 0.3938493052383695, 0.052513240698449266, 0.09729460559809926, 0.0389178422392397, 0.0778356844784794, 0.01945892111961985, 0.01945892111961985, 0.17513029007657865, 0.05837676335885955, 0.01945892111961985, 0.1945892111961985, 0.3113427379139176, 0.44333785794939107, 0.04925976199437679, 0.07388964299156518, 0.07388964299156518, 0.07388964299156518, 0.04925976199437679, 0.24629880997188394, 0.05231655213892643, 0.19182735784273025, 0.2267050592686812, 0.20054678319921798, 0.13079138034731608, 0.03487770142595095, 0.026158276069463214, 0.03487770142595095, 0.1133525296343406, 0.4536179093002004, 0.06300248740280562, 0.025200994961122245, 0.012600497480561123, 0.05040198992224449, 0.17640696472785572, 0.13860547228617234, 0.05040198992224449, 0.11799165142238756, 0.039330550474129186, 0.11799165142238756, 0.39330550474129183, 0.11799165142238756, 0.07866110094825837, 0.039330550474129186, 0.07866110094825837, 0.039330550474129186, 0.3798486291669725, 0.050646483888929665, 0.0759697258333945, 0.3292021452780428, 0.151939451666789, 0.04685823024907658, 0.1338806578545045, 0.05020524669543919, 0.06359331248088965, 0.4250710886880518, 0.09036944405179054, 0.07698137826634009, 0.030123148017263512, 0.02342911512453829, 0.060246296034527025, 0.08779965451364642, 0.2633989635409393, 0.17559930902729284, 0.04389982725682321, 0.04389982725682321, 0.04389982725682321, 0.04389982725682321, 0.30729879079776246, 0.22389208261910784, 0.4477841652382157, 0.07463069420636928, 0.22389208261910784, 0.20764513609151272, 0.19034137475055332, 0.13843009072767515, 0.12112632938671576, 0.11247444871623606, 0.02595564201143909, 0.06921504536383757, 0.06921504536383757, 0.06056316469335788, 0.008651880670479697, 0.2545482719195653, 0.381822407879348, 0.2545482719195653, 0.04242471198659422, 0.04242471198659422, 0.023317878231505832, 0.3497681734725875, 0.046635756463011664, 0.0699536346945175, 0.0699536346945175, 0.32645029524108166, 0.139907269389035, 0.23203734061059547, 0.592984314893744, 0.02578192673451061, 0.10312770693804243, 0.02578192673451061, 0.4364318874323645, 0.24938964996135116, 0.12469482498067558, 0.06234741249033779, 0.06234741249033779, 0.1908251700435052, 0.1908251700435052, 0.3816503400870104, 0.1908251700435052, 0.33953392949503103, 0.01616828235690624, 0.06467312942762496, 0.03233656471381248, 0.404207058922656, 0.0808414117845312, 0.06467312942762496, 0.18963362735357342, 0.027090518193367632, 0.21672414554694105, 0.054181036386735264, 0.027090518193367632, 0.013545259096683816, 0.23026940464362486, 0.040635777290051446, 0.06772629548341907, 0.12190733187015435, 0.05736019062296225, 0.5449218109181414, 0.05736019062296225, 0.028680095311481125, 0.229440762491849, 0.08604028593444338, 0.1324529973965523, 0.1324529973965523, 0.06622649869827615, 0.1324529973965523, 0.06622649869827615, 0.06622649869827615, 0.3973589921896569, 0.054413558543208666, 0.326481351259252, 0.5441355854320866, 0.054413558543208666, 0.2548533858409022, 0.07495687818850065, 0.11993100510160104, 0.01499137563770013, 0.07495687818850065, 0.44974126913100393, 0.02998275127540026, 0.13999050285186232, 0.04666350095062077, 0.27998100570372464, 0.5132985104568285, 0.0220476006523187, 0.220476006523187, 0.1322856039139122, 0.1984284058708683, 0.0220476006523187, 0.3086664091324618, 0.0881904026092748, 0.0220476006523187, 0.4727452749645835, 0.07879087916076392, 0.07879087916076392, 0.07879087916076392, 0.07879087916076392, 0.15758175832152785, 0.06426505261279528, 0.35345778937037403, 0.4819878945959646, 0.03213252630639764, 0.06426505261279528, 0.0782006319719717, 0.05865047397897878, 0.04692037918318302, 0.28152227509909816, 0.11339091635935897, 0.23069186431731653, 0.07429060037337312, 0.03128025278878868, 0.05083041078178161, 0.027370221190190096, 0.38334313739805476, 0.04600117648776657, 0.06900176473164986, 0.12266980396737752, 0.05366803923572767, 0.05366803923572767, 0.1456703922112608, 0.10733607847145533, 0.007666862747961095, 0.01533372549592219, 0.46042224141573823, 0.1841688965662953, 0.04604222414157382, 0.23021112070786912, 0.04604222414157382, 0.052757909319245296, 0.052757909319245296, 0.1582737279577359, 0.052757909319245296, 0.42206327455396236, 0.10551581863849059, 0.052757909319245296, 0.10551581863849059, 0.04902811689487295, 0.1961124675794918, 0.0980562337897459, 0.0980562337897459, 0.04902811689487295, 0.04902811689487295, 0.0980562337897459, 0.2941687013692377, 0.44905121784931934, 0.04726854924729677, 0.035451411935472577, 0.1890741969891871, 0.04726854924729677, 0.04726854924729677, 0.011817137311824193, 0.07090282387094515, 0.07090282387094515, 0.023634274623648387, 0.07243036466950581, 0.27161386751064676, 0.06639450094704699, 0.24747041262081151, 0.1690041842288469, 0.030179318612294087, 0.006035863722458817, 0.060358637224588174, 0.04828690977967054, 0.018107591167376452, 0.043850816247770576, 0.043850816247770576, 0.05846775499702744, 0.01461693874925686, 0.14616938749256858, 0.01461693874925686, 0.6869961212150724, 0.0668133112917158, 0.08908441505562108, 0.10021996693757372, 0.1336266225834316, 0.1336266225834316, 0.1558977263473369, 0.011135551881952635, 0.011135551881952635, 0.02227110376390527, 0.2672532451668632, 0.2500860834607188, 0.07502582503821564, 0.05001721669214376, 0.03751291251910782, 0.01250430417303594, 0.01250430417303594, 0.5376850794405454, 0.01250430417303594, 0.01250430417303594, 0.9567637628463639, 0.12330703959852309, 0.3288187722627282, 0.36992111879556927, 0.12330703959852309, 0.08220469306568205, 0.08586558591219463, 0.15455805464195035, 0.03434623436487785, 0.12021182027707249, 0.15455805464195035, 0.3262892264663396, 0.08586558591219463, 0.017173117182438927, 0.7971639889360314, 0.18396092052369956, 0.13126461010175697, 0.06563230505087848, 0.026252922020351396, 0.21002337616281117, 0.05250584404070279, 0.21002337616281117, 0.06563230505087848, 0.07875876606105418, 0.013126461010175698, 0.13126461010175697, 0.26475234170831347, 0.4236037467333016, 0.0529504683416627, 0.0529504683416627, 0.0529504683416627, 0.0529504683416627, 0.0529504683416627, 0.16076466509421108, 0.02296638072774444, 0.4363612338271443, 0.1148319036387222, 0.09186552291097776, 0.02296638072774444, 0.06889914218323331, 0.06889914218323331, 0.02296638072774444, 0.029374830530382652, 0.09693694075026275, 0.002937483053038265, 0.014687415265191326, 0.04112476274253571, 0.17037401707621938, 0.2114987798187551, 0.09987442380330101, 0.33193558499332393, 0.3434574410802839, 0.013738297643211356, 0.02747659528642271, 0.05495319057284542, 0.013738297643211356, 0.09616808350247949, 0.20607446464817034, 0.10990638114569085, 0.1511212740753249, 0.9388923363199172, 0.015343761857798935, 0.115078213933492, 0.0230156427866984, 0.13809385672019042, 0.19179702322248668, 0.33756276087157655, 0.015343761857798935, 0.07671880928899467, 0.007671880928899468, 0.07671880928899467, 0.021912027657034518, 0.043824055314069035, 0.15338419359924163, 0.021912027657034518, 0.17529622125627614, 0.19720824891331068, 0.41632852548365584, 0.1010175789900801, 0.8081406319206408, 0.04698633428269434, 0.02349316714134717, 0.2349316714134717, 0.49335650996829056, 0.11746583570673585, 0.07047950142404151, 0.02349316714134717, 0.11569170258769187, 0.11569170258769187, 0.05784585129384594, 0.2892292564692297, 0.17353755388153783, 0.2892292564692297, 0.46069683037117726, 0.07678280506186287, 0.07678280506186287, 0.07678280506186287, 0.07678280506186287, 0.07678280506186287, 0.15356561012372574, 0.13440152265021602, 0.1881621317103024, 0.1075212181201728, 0.03456039153862697, 0.03456039153862697, 0.2764831323090158, 0.12672143564163224, 0.015360174017167544, 0.05760065256437829, 0.023040261025751314, 0.19459230970732921, 0.19459230970732921, 0.38918461941465843, 0.09729615485366461, 0.09729615485366461, 0.16181796269996118, 0.09561970523179525, 0.05884289552725861, 0.2500823059908491, 0.05148753358635128, 0.03677680970453663, 0.14710723881814652, 0.05148753358635128, 0.029421447763629305, 0.11033042911360989, 0.08019110254632429, 0.4811466152779457, 0.08019110254632429, 0.16038220509264858, 0.08019110254632429, 0.08019110254632429, 0.07906763279118134, 0.15374261931618594, 0.23720289837354402, 0.09224557158971157, 0.02635587759706045, 0.03953381639559067, 0.21963231330883706, 0.1273867417191255, 0.017570585064706965, 0.008785292532353483, 0.18778676416367573, 0.034143048029759225, 0.08535762007439805, 0.051214572044638834, 0.08535762007439805, 0.08535762007439805, 0.307287432267833, 0.034143048029759225, 0.11950066810415728, 0.1257061702284754, 0.37711851068542623, 0.08380411348565028, 0.1257061702284754, 0.2514123404569508, 0.12005638508683533, 0.030014096271708833, 0.060028192543417666, 0.15007048135854417, 0.6302960217058855, 0.14370182340563928, 0.11176808487105276, 0.127734954138346, 0.255469908276692, 0.03991717316823313, 0.023950303900939877, 0.13571838877199263, 0.0319337385345865, 0.07983434633646626, 0.047900607801879755, 0.06448068842168576, 0.1934420652650573, 0.06448068842168576, 0.7092875726385435, 0.29170557820666343, 0.07292639455166586, 0.5104847618616609, 0.07292639455166586, 0.07292639455166586, 0.04953881961225447, 0.09907763922450893, 0.34677173728578126, 0.49538819612254464, 0.15283887541127786, 0.45851662623383355, 0.07641943770563893, 0.07641943770563893, 0.15283887541127786, 0.3091552980624351, 0.15457764903121754, 0.051525883010405844, 0.07728882451560877, 0.3091552980624351, 0.025762941505202922, 0.025762941505202922, 0.025762941505202922, 0.047474419648566975, 0.09494883929713395, 0.11868604912141743, 0.09494883929713395, 0.023737209824283487, 0.09494883929713395, 0.3560581473642523, 0.07121162947285047, 0.07121162947285047, 0.023737209824283487, 0.174059994443061, 0.058019998147687, 0.464159985181496, 0.232079992590748, 0.058019998147687, 0.29556080659141476, 0.5911216131828295, 0.11542213595084894, 0.06295752870046306, 0.3042947220522381, 0.11542213595084894, 0.0419716858003087, 0.07345045015054023, 0.07345045015054023, 0.15739382175115763, 0.06295752870046306, 0.10801408490943328, 0.16202112736414992, 0.05400704245471664, 0.21602816981886655, 0.05400704245471664, 0.05400704245471664, 0.32404225472829984, 0.02578130409736614, 0.05156260819473228, 0.05156260819473228, 0.02578130409736614, 0.6445326024341536, 0.10312521638946456, 0.07734391229209843, 0.19543005736914895, 0.12214378585571808, 0.12214378585571808, 0.02442875717114362, 0.3664313575671543, 0.04885751434228724, 0.04885751434228724, 0.04885751434228724, 0.05199679033781084, 0.12999197584452712, 0.15599037101343255, 0.10399358067562169, 0.3379791371957705, 0.18198876618233795, 0.3796484625963044, 0.05061979501284059, 0.07592969251926089, 0.35433856508988415, 0.15185938503852178, 0.036663335604746654, 0.3299700204427199, 0.036663335604746654, 0.036663335604746654, 0.036663335604746654, 0.4766233628617065, 0.05394240833413292, 0.16182722500239877, 0.350625654171864, 0.02697120416706646, 0.02697120416706646, 0.2697120416706646, 0.10788481666826584, 0.5027064567515867, 0.12567661418789666, 0.2513532283757933, 0.09434069734490694, 0.33019244070717424, 0.5188738353969882, 0.04717034867245347, 0.0894407603483169, 0.04472038017415845, 0.13416114052247535, 0.0782606653047773, 0.11180095043539613, 0.20124171078371303, 0.1565213306095546, 0.055900475217698066, 0.03354028513061884, 0.11180095043539613, 0.20233803298125244, 0.17343259969821637, 0.4046760659625049, 0.02890543328303606, 0.11562173313214424, 0.02890543328303606, 0.08222376095638619, 0.16444752191277237, 0.49334256573831714, 0.16444752191277237, 0.10964771741731229, 0.21929543483462458, 0.43859086966924915, 0.10964771741731229, 0.21929543483462458, 0.05303611068786441, 0.10607222137572882, 0.05303611068786441, 0.5833972175665085, 0.05303611068786441, 0.10607222137572882, 0.08003466183087128, 0.4001733091543564, 0.16006932366174256, 0.16006932366174256, 0.16006932366174256, 0.4620628747295546, 0.11551571868238865, 0.17327357802358298, 0.057757859341194324, 0.11551571868238865, 0.057757859341194324, 0.1181396928202567, 0.05906984641012835, 0.17720953923038504, 0.41348892487089844, 0.17720953923038504, 0.05906984641012835, 0.08437402738345604, 0.08437402738345604, 0.08437402738345604, 0.6749922190676483, 0.5313118512763454, 0.07590169303947791, 0.37950846519738957, 0.0712560065786264, 0.1900160175430037, 0.0712560065786264, 0.11876001096437731, 0.4512880416646338, 0.0712560065786264, 0.023752002192875463, 0.17683823573648236, 0.45977941291485414, 0.2475735300310753, 0.035367647147296476, 0.07073529429459295, 0.060789649097373694, 0.09118447364606054, 0.060789649097373694, 0.48631719277898955, 0.060789649097373694, 0.060789649097373694, 0.12157929819474739, 0.030394824548686847, 0.060789649097373694, 0.4639499070598434, 0.13918497211795303, 0.04639499070598434, 0.09278998141196867, 0.04639499070598434, 0.18557996282393735, 0.05487183524298096, 0.08230775286447145, 0.19205142335043338, 0.05487183524298096, 0.10974367048596192, 0.4664105995653382, 0.02743591762149048, 0.02743591762149048], \"Topic\": [1, 2, 3, 4, 5, 6, 7, 8, 9, 10, 1, 2, 3, 4, 5, 6, 7, 8, 9, 10, 5, 6, 10, 4, 5, 9, 10, 1, 2, 3, 4, 5, 6, 7, 8, 9, 10, 3, 4, 5, 7, 8, 10, 1, 2, 3, 4, 5, 6, 7, 8, 9, 10, 1, 4, 5, 10, 1, 2, 3, 6, 7, 9, 10, 2, 3, 4, 6, 7, 9, 10, 2, 3, 4, 5, 6, 8, 2, 3, 8, 9, 10, 2, 3, 4, 5, 6, 7, 8, 9, 10, 1, 2, 3, 4, 5, 6, 7, 10, 1, 2, 6, 7, 8, 1, 2, 3, 4, 5, 6, 7, 8, 9, 2, 3, 4, 8, 1, 3, 6, 9, 2, 6, 8, 1, 2, 3, 4, 5, 6, 7, 8, 9, 10, 3, 6, 7, 8, 9, 1, 3, 4, 5, 7, 8, 9, 10, 1, 2, 3, 4, 5, 6, 7, 8, 10, 1, 2, 3, 4, 5, 6, 8, 9, 10, 2, 3, 4, 6, 8, 1, 2, 3, 6, 7, 9, 10, 1, 3, 6, 7, 8, 10, 1, 2, 3, 6, 9, 1, 2, 3, 4, 5, 6, 7, 8, 9, 10, 1, 2, 3, 4, 5, 6, 7, 8, 9, 10, 1, 3, 4, 5, 6, 10, 1, 2, 3, 4, 5, 6, 7, 8, 9, 10, 1, 2, 3, 4, 5, 6, 8, 9, 1, 2, 3, 4, 5, 6, 7, 8, 9, 10, 1, 2, 3, 4, 6, 7, 8, 9, 10, 7, 8, 9, 1, 7, 8, 9, 1, 7, 8, 10, 2, 3, 4, 5, 6, 7, 8, 9, 10, 2, 3, 6, 7, 8, 9, 10, 1, 2, 3, 8, 9, 1, 2, 3, 5, 6, 8, 9, 10, 1, 2, 3, 4, 5, 6, 7, 8, 9, 10, 3, 5, 6, 9, 1, 2, 3, 4, 5, 6, 7, 8, 9, 10, 5, 6, 7, 9, 1, 7, 9, 10, 1, 2, 4, 5, 6, 8, 9, 10, 1, 2, 3, 4, 7, 9, 10, 3, 4, 6, 7, 10, 1, 2, 3, 4, 5, 6, 7, 8, 9, 1, 2, 3, 4, 5, 6, 7, 8, 9, 10, 3, 4, 5, 7, 8, 2, 3, 5, 6, 7, 8, 10, 1, 3, 4, 6, 8, 3, 6, 9, 10, 2, 3, 4, 5, 6, 8, 9, 10, 1, 2, 3, 4, 5, 6, 7, 8, 9, 10, 1, 3, 4, 5, 10, 1, 5, 9, 1, 2, 3, 4, 5, 6, 7, 8, 9, 1, 2, 3, 4, 5, 1, 2, 3, 4, 5, 6, 7, 8, 9, 10, 2, 3, 7, 9, 2, 3, 5, 10, 1, 2, 3, 5, 6, 8, 9, 1, 3, 4, 5, 6, 7, 8, 9, 10, 3, 4, 5, 7, 9, 1, 2, 3, 4, 5, 6, 7, 8, 9, 10, 1, 2, 4, 5, 6, 1, 2, 4, 7, 8, 9, 1, 2, 3, 4, 5, 6, 7, 8, 9, 10, 1, 3, 5, 6, 10, 1, 2, 3, 4, 5, 6, 7, 8, 9, 10, 2, 3, 4, 7, 9, 10, 1, 3, 9, 10, 1, 3, 4, 6, 8, 9, 2, 3, 4, 5, 7, 8, 10, 1, 2, 3, 4, 5, 6, 7, 8, 9, 10, 1, 3, 6, 8, 10, 2, 8, 9, 10, 2, 3, 4, 6, 8, 9, 3, 4, 6, 7, 8, 9, 1, 2, 3, 4, 5, 6, 7, 8, 10, 5, 6, 7, 9, 3, 5, 6, 7, 8, 10, 2, 3, 4, 6, 9, 10, 2, 4, 5, 6, 8, 9, 10, 1, 7, 8, 1, 2, 4, 8, 1, 2, 3, 4, 5, 6, 8, 10, 1, 2, 3, 5, 6, 7, 8, 9, 1, 2, 3, 4, 5, 6, 7, 8, 9, 10, 1, 2, 3, 4, 5, 6, 7, 8, 9, 10, 3, 6, 9, 10, 3, 5, 6, 1, 2, 4, 5, 8, 10, 2, 3, 8, 9, 10, 1, 3, 7, 8, 10, 2, 5, 7, 8, 9, 2, 3, 5, 6, 7, 8, 9, 10, 1, 2, 3, 4, 5, 6, 7, 8, 9, 10, 2, 3, 4, 6, 7, 8, 9, 10, 1, 2, 3, 4, 5, 6, 7, 8, 9, 10, 1, 2, 3, 4, 5, 6, 10, 1, 2, 3, 4, 5, 6, 7, 8, 9, 1, 4, 5, 6, 7, 9, 10, 1, 2, 3, 4, 5, 6, 7, 8, 9, 10, 2, 4, 5, 9, 1, 2, 3, 4, 5, 6, 7, 8, 9, 10, 1, 2, 3, 4, 5, 6, 7, 8, 9, 10, 1, 2, 3, 4, 5, 6, 7, 8, 9, 10, 2, 3, 4, 5, 6, 10, 1, 2, 3, 4, 5, 6, 7, 8, 9, 10, 2, 3, 5, 6, 7, 8, 9, 1, 8, 9, 1, 2, 3, 5, 6, 8, 9, 2, 3, 4, 8, 2, 3, 6, 8, 9, 1, 3, 4, 5, 7, 9, 1, 2, 3, 4, 5, 6, 7, 8, 9, 10, 1, 3, 5, 6, 8, 9, 10, 2, 3, 4, 5, 6, 7, 9, 2, 4, 8, 1, 2, 3, 5, 6, 7, 8, 9, 10, 1, 2, 3, 4, 5, 6, 8, 9, 1, 2, 3, 4, 5, 6, 8, 9, 10, 1, 2, 5, 7, 9, 1, 3, 4, 6, 7, 8, 1, 4, 5, 8, 9, 10, 1, 2, 3, 4, 5, 6, 7, 8, 9, 10, 1, 2, 3, 5, 6, 7, 8, 9, 10, 1, 2, 4, 5, 9, 10, 1, 2, 3, 4, 6, 7, 9, 10, 3, 5, 7, 8, 9, 10, 2, 3, 4, 6, 10, 1, 2, 3, 4, 5, 6, 7, 8, 9, 1, 6, 8, 10, 1, 2, 4, 5, 7, 8, 1, 2, 5, 7, 9, 1, 2, 3, 4, 5, 8, 9, 1, 3, 6, 7, 8, 10, 3, 4, 5, 7, 1, 2, 3, 4, 5, 6, 7, 8, 9, 10, 2, 3, 5, 6, 8, 9, 2, 3, 6, 9, 10, 2, 4, 5, 7, 9, 10, 1, 2, 4, 7, 9, 3, 4, 5, 6, 7, 9, 10, 1, 4, 5, 8, 9, 1, 3, 5, 8, 9, 10, 1, 2, 3, 4, 5, 6, 7, 8, 9, 1, 2, 3, 4, 5, 6, 7, 8, 9, 10, 1, 2, 3, 4, 5, 6, 8, 10, 2, 3, 5, 10, 1, 2, 3, 4, 5, 6, 7, 8, 9, 10, 1, 3, 4, 7, 2, 3, 4, 5, 10, 1, 2, 3, 7, 10, 1, 4, 7, 9, 10, 1, 5, 7, 8, 9, 3, 5, 6, 7, 8, 9, 10, 1, 2, 3, 4, 5, 6, 7, 8, 9, 10, 1, 2, 4, 5, 1, 4, 7, 8, 9, 10, 2, 3, 4, 5, 6, 8, 9, 10, 1, 2, 3, 4, 5, 6, 7, 8, 9, 10, 2, 3, 8, 9, 10, 1, 2, 4, 5, 6, 7, 8, 9, 10, 1, 2, 3, 4, 5, 6, 7, 8, 9, 10, 2, 6, 9, 10, 1, 2, 4, 5, 6, 7, 8, 9, 3, 4, 6, 8, 9, 10, 1, 2, 5, 6, 7, 9, 10, 1, 2, 3, 4, 5, 6, 7, 8, 9, 10, 1, 3, 4, 6, 10, 1, 2, 3, 4, 5, 6, 7, 8, 9, 10, 2, 7, 9, 10, 2, 3, 5, 6, 8, 9, 1, 6, 8, 1, 2, 3, 4, 5, 6, 7, 8, 9, 10, 1, 4, 5, 7, 10, 1, 2, 3, 4, 5, 6, 7, 8, 9, 10, 1, 2, 3, 4, 5, 6, 7, 8, 9, 10, 1, 3, 4, 5, 6, 7, 8, 1, 5, 9, 3, 4, 8, 9, 1, 3, 5, 7, 8, 9, 10, 3, 7, 8, 10, 7, 8, 9, 3, 4, 5, 6, 7, 9, 10, 1, 2, 3, 4, 5, 6, 7, 8, 9, 10, 1, 6, 8, 9, 4, 5, 6, 7, 8, 9, 10, 1, 2, 3, 4, 5, 6, 7, 8, 9, 10, 2, 3, 4, 6, 7, 9, 2, 3, 4, 6, 7, 8, 9, 1, 2, 3, 4, 5, 6, 7, 8, 9, 10, 1, 2, 3, 4, 5, 6, 7, 8, 9, 10, 1, 2, 3, 4, 5, 6, 7, 8, 9, 10, 2, 3, 7, 8, 9, 3, 6, 8, 9, 10, 1, 2, 3, 4, 6, 9, 3, 5, 10, 2, 6, 10, 2, 4, 5, 6, 7, 8, 9, 1, 2, 3, 4, 5, 6, 7, 8, 9, 10, 1, 2, 2, 5, 7, 1, 2, 3, 4, 5, 6, 9, 10, 1, 2, 4, 6, 8, 9, 1, 2, 3, 4, 5, 6, 7, 8, 9, 10, 1, 2, 3, 4, 5, 6, 10, 1, 3, 6, 7, 1, 2, 3, 4, 5, 6, 7, 8, 9, 10, 1, 2, 3, 4, 5, 6, 7, 8, 9, 10, 1, 2, 3, 4, 5, 6, 7, 8, 9, 10, 2, 5, 6, 9, 10, 2, 3, 5, 6, 9, 4, 5, 7, 9, 10, 3, 5, 6, 8, 9, 10, 1, 2, 3, 5, 6, 7, 8, 9, 10, 1, 2, 3, 4, 5, 6, 7, 8, 9, 10, 3, 4, 6, 9, 1, 2, 3, 4, 5, 6, 7, 8, 9, 10, 4, 6, 8, 9, 1, 2, 3, 4, 5, 6, 7, 8, 9, 10, 2, 4, 5, 6, 7, 9, 3, 4, 5, 8, 1, 2, 3, 4, 5, 6, 7, 8, 9, 10, 6, 8, 2, 3, 4, 5, 6, 8, 9, 10, 3, 5, 6, 7, 9, 10, 2, 3, 5, 6, 8, 10, 1, 2, 4, 6, 7, 10, 1, 2, 3, 4, 5, 6, 7, 8, 9, 10, 2, 5, 7, 9, 2, 5, 3, 4, 8, 1, 4, 6, 9, 10, 2, 3, 4, 5, 1, 2, 3, 4, 5, 6, 7, 8, 9, 10, 1, 2, 4, 8, 1, 2, 3, 4, 5, 6, 8, 10, 1, 3, 4, 5, 7, 8, 10, 9, 10, 8, 9, 10, 1, 2, 3, 6, 10, 2, 4, 5, 6, 8, 9, 1, 2, 3, 4, 5, 6, 7, 8, 9, 10, 1, 2, 5, 6, 8, 9, 2, 3, 4, 7, 8, 9, 2, 3, 8, 9, 10, 1, 3, 4, 5, 6, 7, 8, 9, 3, 4, 5, 6, 7, 8, 10, 1, 2, 3, 4, 5, 7, 8, 9, 10, 6, 9, 1, 2, 3, 4, 5, 6, 7, 8, 9, 10, 3, 4, 5, 6, 8, 1, 2, 3, 4, 5, 6, 7, 8, 9, 10, 2, 4, 6, 8, 9, 10, 1, 2, 3, 4, 5, 7, 8, 9, 10, 2, 5, 9, 1, 2, 3, 5, 6, 7, 9, 1, 2, 3, 4, 5, 7, 8, 9, 10, 1, 2, 3, 4, 8, 10, 1, 4, 5, 6, 7, 8, 9, 10, 1, 2, 3, 4, 5, 6, 7, 8, 9, 10, 1, 2, 3, 4, 5, 6, 7, 8, 9, 10, 3, 4, 5, 6, 7, 9, 10, 1, 2, 4, 5, 6, 1, 2, 3, 5, 6, 7, 8, 9, 1, 2, 6, 8, 10, 1, 3, 5, 6, 7, 8, 1, 2, 4, 6, 7, 8, 9, 1, 2, 3, 4, 5, 6, 7, 8, 9, 10, 4, 5, 6, 7, 10, 2, 4, 5, 7, 10, 1, 2, 3, 4, 5, 6, 7, 8, 10, 2, 3, 4, 7, 1, 2, 3, 4, 5, 6, 8, 9, 2, 3, 5, 6, 10, 2, 3, 6, 8, 2, 4, 6, 7, 8, 9, 10, 1, 2, 3, 4, 5, 6, 7, 9, 10, 9, 3, 5, 7, 8, 9, 10, 1, 2, 1, 2, 5, 6, 7, 8, 9, 10, 1, 2, 3, 4, 5, 6, 7, 8, 9, 10, 1, 2, 4, 5, 6, 9, 10, 1, 2, 3, 4, 5, 6, 7, 9, 10, 1, 2, 3, 4, 5, 6, 7, 8, 9, 10, 3, 4, 5, 6, 7, 8, 10, 1, 2, 3, 4, 5, 7, 8, 9, 10, 2, 3, 4, 5, 6, 7, 8, 9, 1, 2, 3, 4, 5, 6, 7, 8, 9, 2, 4, 5, 7, 10, 1, 2, 3, 4, 5, 6, 7, 8, 9, 10, 2, 3, 5, 6, 7, 8, 9, 10, 3, 6, 9, 10, 1, 2, 3, 4, 5, 6, 7, 8, 9, 10, 3, 4, 5, 6, 10, 1, 2, 3, 4, 5, 7, 10, 1, 4, 5, 6, 7, 1, 5, 6, 8, 9, 1, 2, 7, 8, 1, 3, 6, 7, 8, 9, 10, 1, 2, 3, 4, 5, 6, 7, 8, 9, 10, 1, 2, 3, 5, 6, 9, 3, 4, 5, 6, 8, 9, 10, 1, 6, 8, 9, 2, 4, 5, 6, 8, 9, 10, 3, 4, 6, 9, 3, 4, 5, 6, 7, 8, 9, 10, 1, 2, 4, 6, 8, 10, 1, 2, 5, 6, 10, 1, 2, 3, 4, 5, 6, 7, 8, 9, 10, 1, 2, 3, 4, 5, 6, 7, 8, 9, 10, 3, 6, 8, 9, 10, 1, 2, 3, 4, 5, 7, 8, 10, 1, 2, 5, 6, 7, 8, 9, 10, 1, 2, 3, 4, 5, 6, 7, 8, 9, 10, 1, 2, 3, 4, 5, 6, 7, 8, 9, 10, 1, 3, 4, 6, 7, 8, 9, 1, 2, 3, 4, 5, 6, 7, 8, 9, 10, 1, 2, 3, 4, 5, 6, 7, 9, 10, 3, 1, 2, 4, 7, 9, 1, 2, 4, 5, 6, 7, 8, 9, 3, 6, 1, 2, 3, 4, 5, 6, 7, 8, 9, 10, 1, 3, 6, 7, 8, 9, 10, 1, 2, 4, 5, 6, 7, 8, 9, 10, 1, 2, 3, 4, 5, 6, 7, 8, 9, 1, 2, 3, 4, 6, 7, 8, 9, 10, 8, 1, 2, 3, 4, 5, 6, 7, 8, 9, 10, 1, 2, 4, 5, 6, 7, 10, 3, 9, 1, 2, 3, 4, 5, 7, 10, 1, 2, 4, 6, 8, 10, 1, 2, 4, 5, 6, 7, 8, 1, 2, 3, 4, 5, 6, 7, 8, 9, 10, 1, 2, 4, 5, 6, 1, 2, 3, 4, 5, 6, 7, 8, 9, 10, 1, 4, 5, 7, 8, 9, 1, 2, 3, 4, 5, 6, 7, 8, 9, 10, 2, 3, 4, 5, 6, 7, 8, 9, 10, 2, 3, 4, 7, 8, 2, 5, 7, 8, 9, 1, 2, 3, 4, 5, 6, 7, 8, 9, 10, 2, 3, 6, 8, 4, 6, 7, 9, 10, 1, 2, 5, 10, 3, 5, 6, 8, 10, 2, 3, 4, 6, 7, 8, 9, 10, 1, 2, 3, 4, 5, 6, 7, 8, 9, 10, 1, 3, 4, 5, 6, 2, 8, 1, 2, 3, 4, 5, 6, 7, 8, 10, 1, 2, 4, 5, 6, 8, 10, 2, 3, 4, 5, 7, 8, 9, 1, 2, 4, 5, 6, 7, 9, 10, 3, 5, 7, 8, 9, 10, 2, 4, 5, 7, 10, 2, 5, 6, 8, 9, 10, 1, 5, 6, 7, 8, 9, 10, 2, 3, 9, 2, 5, 7, 9, 1, 2, 3, 4, 5, 6, 7, 8, 9, 10, 1, 3, 6, 8, 9, 10, 2, 4, 5, 7, 2, 5, 6, 8, 9, 1, 4, 6, 7, 9, 10, 2, 6, 8, 9, 10, 1, 2, 4, 5, 6, 7, 1, 2, 3, 4, 5, 7, 1, 2, 5, 6, 5, 7, 10, 2, 3, 4, 5, 8, 9, 10, 1, 3, 4, 9, 10, 1, 2, 3, 4, 5, 7, 8, 9, 10, 1, 2, 5, 7, 8, 9, 1, 2, 3, 5, 6, 7, 8, 9], \"Term\": [\"'\", \"'\", \"'\", \"'\", \"'\", \"'\", \"'\", \"'\", \"'\", \"'\", \"[_]\", \"[_]\", \"[_]\", \"[_]\", \"[_]\", \"[_]\", \"[_]\", \"[_]\", \"[_]\", \"[_]\", \"a.m\", \"a.m\", \"a.m\", \"a.m._courtroom\", \"a.m._courtroom\", \"a.m._courtroom\", \"a.m._courtroom\", \"action\", \"action\", \"action\", \"action\", \"action\", \"action\", \"action\", \"action\", \"action\", \"action\", \"adar_bay\", \"adar_bay\", \"adar_bay\", \"adar_bay\", \"adar_bay\", \"adar_bay\", \"address\", \"address\", \"address\", \"address\", \"address\", \"address\", \"address\", \"address\", \"address\", \"address\", \"administration\", \"administration\", \"administration\", \"administration\", \"admit\", \"admit\", \"admit\", \"admit\", \"admit\", \"admit\", \"admit\", \"adopt\", \"adopt\", \"adopt\", \"adopt\", \"adopt\", \"adopt\", \"adopt\", \"ae\", \"ae\", \"ae\", \"ae\", \"ae\", \"ae\", \"affidavit_jr._c.p.a\", \"affidavit_jr._c.p.a\", \"affidavit_jr._c.p.a\", \"affidavit_jr._c.p.a\", \"affidavit_jr._c.p.a\", \"affidavit_service_summons\", \"affidavit_service_summons\", \"affidavit_service_summons\", \"affidavit_service_summons\", \"affidavit_service_summons\", \"affidavit_service_summons\", \"affidavit_service_summons\", \"affidavit_service_summons\", \"affidavit_service_summons\", \"agent\", \"agent\", \"agent\", \"agent\", \"agent\", \"agent\", \"agent\", \"agent\", \"ago\", \"ago\", \"ago\", \"ago\", \"ago\", \"agreement\", \"agreement\", \"agreement\", \"agreement\", \"agreement\", \"agreement\", \"agreement\", \"agreement\", \"agreement\", \"aim_exploration_basile_mark\", \"aim_exploration_basile_mark\", \"aim_exploration_basile_mark\", \"aim_exploration_basile_mark\", \"allege\", \"allege\", \"allege\", \"allege\", \"ama\", \"ama\", \"ama\", \"amend_complaint\", \"amend_complaint\", \"amend_complaint\", \"amend_complaint\", \"amend_complaint\", \"amend_complaint\", \"amend_complaint\", \"amend_complaint\", \"amend_complaint\", \"amend_complaint\", \"anc\", \"anc\", \"anc\", \"anc\", \"anc\", \"andor\", \"andor\", \"andor\", \"andor\", \"andor\", \"andor\", \"andor\", \"andor\", \"answer\", \"answer\", \"answer\", \"answer\", \"answer\", \"answer\", \"answer\", \"answer\", \"answer\", \"answer_complaint\", \"answer_complaint\", \"answer_complaint\", \"answer_complaint\", \"answer_complaint\", \"answer_complaint\", \"answer_complaint\", \"answer_complaint\", \"answer_complaint\", \"answer_crossclaim\", \"answer_crossclaim\", \"answer_crossclaim\", \"answer_crossclaim\", \"answer_crossclaim\", \"answer_due\", \"answer_due\", \"answer_due\", \"answer_due\", \"answer_due\", \"answer_due\", \"answer_due\", \"answer_due_answer_due\", \"answer_due_answer_due\", \"answer_due_answer_due\", \"answer_due_answer_due\", \"answer_due_answer_due\", \"answer_due_answer_due\", \"answer_otherwise_respond\", \"answer_otherwise_respond\", \"answer_otherwise_respond\", \"answer_otherwise_respond\", \"answer_otherwise_respond\", \"appear\", \"appear\", \"appear\", \"appear\", \"appear\", \"appear\", \"appear\", \"appear\", \"appear\", \"appear\", \"appear_pro_hac_vice\", \"appear_pro_hac_vice\", \"appear_pro_hac_vice\", \"appear_pro_hac_vice\", \"appear_pro_hac_vice\", \"appear_pro_hac_vice\", \"appear_pro_hac_vice\", \"appear_pro_hac_vice\", \"appear_pro_hac_vice\", \"appear_pro_hac_vice\", \"appearance\", \"appearance\", \"appearance\", \"appearance\", \"appearance\", \"appearance\", \"application\", \"application\", \"application\", \"application\", \"application\", \"application\", \"application\", \"application\", \"application\", \"application\", \"approve\", \"approve\", \"approve\", \"approve\", \"approve\", \"approve\", \"approve\", \"approve\", \"april\", \"april\", \"april\", \"april\", \"april\", \"april\", \"april\", \"april\", \"april\", \"april\", \"associate_case\", \"associate_case\", \"associate_case\", \"associate_case\", \"associate_case\", \"associate_case\", \"associate_case\", \"associate_case\", \"associate_case\", \"associate_case_et_al\", \"associate_case_et_al\", \"associate_case_et_al\", \"associate_case_j\", \"associate_case_j\", \"associate_case_j\", \"associate_case_j\", \"associate_case_thk\", \"associate_case_thk\", \"associate_case_thk\", \"associate_case_thk\", \"associated_case\", \"associated_case\", \"associated_case\", \"associated_case\", \"associated_case\", \"associated_case\", \"associated_case\", \"associated_case\", \"associated_case\", \"associated_case_et_al\", \"associated_case_et_al\", \"associated_case_et_al\", \"associated_case_et_al\", \"associated_case_et_al\", \"associated_case_et_al\", \"associated_case_et_al\", \"associated_case_ft\", \"associated_case_ft\", \"associated_case_ft\", \"associated_case_ft\", \"associated_case_ft\", \"attach\", \"attach\", \"attach\", \"attach\", \"attach\", \"attach\", \"attach\", \"attach\", \"attachment\", \"attachment\", \"attachment\", \"attachment\", \"attachment\", \"attachment\", \"attachment\", \"attachment\", \"attachment\", \"attachment\", \"attachment_erratum\", \"attachment_erratum\", \"attachment_erratum\", \"attachment_erratum\", \"attorney\", \"attorney\", \"attorney\", \"attorney\", \"attorney\", \"attorney\", \"attorney\", \"attorney\", \"attorney\", \"attorney\", \"attorney_responsible_provide_courtesy\", \"attorney_responsible_provide_courtesy\", \"attorney_responsible_provide_courtesy\", \"attorney_responsible_provide_courtesy\", \"attorney_terminate\", \"attorney_terminate\", \"attorney_terminate\", \"attorney_terminate\", \"august\", \"august\", \"august\", \"august\", \"august\", \"august\", \"august\", \"august\", \"bar\", \"bar\", \"bar\", \"bar\", \"bar\", \"bar\", \"bar\", \"bond\", \"bond\", \"bond\", \"bond\", \"bond\", \"brief\", \"brief\", \"brief\", \"brief\", \"brief\", \"brief\", \"brief\", \"brief\", \"brief\", \"c\", \"c\", \"c\", \"c\", \"c\", \"c\", \"c\", \"c\", \"c\", \"c\", \"c.d\", \"c.d\", \"c.d\", \"c.d\", \"c.d\", \"cal\", \"cal\", \"cal\", \"cal\", \"cal\", \"cal\", \"cal\", \"calculation\", \"calculation\", \"calculation\", \"calculation\", \"calculation\", \"calendar_day\", \"calendar_day\", \"calendar_day\", \"calendar_day\", \"cancel\", \"cancel\", \"cancel\", \"cancel\", \"cancel\", \"cancel\", \"cancel\", \"cancel\", \"case\", \"case\", \"case\", \"case\", \"case\", \"case\", \"case\", \"case\", \"case\", \"case\", \"case_assign\", \"case_assign\", \"case_assign\", \"case_assign\", \"case_assign\", \"case_designate\", \"case_designate\", \"case_designate\", \"cd\", \"cd\", \"cd\", \"cd\", \"cd\", \"cd\", \"cd\", \"cd\", \"cd\", \"certificate\", \"certificate\", \"certificate\", \"certificate\", \"certificate\", \"certificate_service\", \"certificate_service\", \"certificate_service\", \"certificate_service\", \"certificate_service\", \"certificate_service\", \"certificate_service\", \"certificate_service\", \"certificate_service\", \"certificate_service\", \"certify_class\", \"certify_class\", \"certify_class\", \"certify_class\", \"certify_copy_docket_sheet\", \"certify_copy_docket_sheet\", \"certify_copy_docket_sheet\", \"certify_copy_docket_sheet\", \"cf\", \"cf\", \"cf\", \"cf\", \"cf\", \"cf\", \"cf\", \"chamber\", \"chamber\", \"chamber\", \"chamber\", \"chamber\", \"chamber\", \"chamber\", \"chamber\", \"chamber\", \"civil_cover_sheet\", \"civil_cover_sheet\", \"civil_cover_sheet\", \"civil_cover_sheet\", \"civil_cover_sheet\", \"claim\", \"claim\", \"claim\", \"claim\", \"claim\", \"claim\", \"claim\", \"claim\", \"claim\", \"claim\", \"claim_assert\", \"claim_assert\", \"claim_assert\", \"claim_assert\", \"claim_assert\", \"class_certification\", \"class_certification\", \"class_certification\", \"class_certification\", \"class_certification\", \"class_certification\", \"clerk\", \"clerk\", \"clerk\", \"clerk\", \"clerk\", \"clerk\", \"clerk\", \"clerk\", \"clerk\", \"clerk\", \"compel\", \"compel\", \"compel\", \"compel\", \"compel\", \"complaint\", \"complaint\", \"complaint\", \"complaint\", \"complaint\", \"complaint\", \"complaint\", \"complaint\", \"complaint\", \"complaint\", \"completion\", \"completion\", \"completion\", \"completion\", \"completion\", \"completion\", \"comply_discovery_ruling_conference\", \"comply_discovery_ruling_conference\", \"comply_discovery_ruling_conference\", \"comply_discovery_ruling_conference\", \"conduct\", \"conduct\", \"conduct\", \"conduct\", \"conduct\", \"conduct\", \"confer\", \"confer\", \"confer\", \"confer\", \"confer\", \"confer\", \"confer\", \"conference\", \"conference\", \"conference\", \"conference\", \"conference\", \"conference\", \"conference\", \"conference\", \"conference\", \"conference\", \"conference_call\", \"conference_call\", \"conference_call\", \"conference_call\", \"conference_call\", \"conference_proceed_hold\", \"conference_proceed_hold\", \"conference_proceed_hold\", \"conference_proceed_hold\", \"confirm\", \"confirm\", \"confirm\", \"confirm\", \"confirm\", \"confirm\", \"consider\", \"consider\", \"consider\", \"consider\", \"consider\", \"consider\", \"copy\", \"copy\", \"copy\", \"copy\", \"copy\", \"copy\", \"copy\", \"copy\", \"copy\", \"copy_individual_practice_require\", \"copy_individual_practice_require\", \"copy_individual_practice_require\", \"copy_individual_practice_require\", \"copy_mail\", \"copy_mail\", \"copy_mail\", \"copy_mail\", \"copy_mail\", \"copy_mail\", \"copy_mail_chamber\", \"copy_mail_chamber\", \"copy_mail_chamber\", \"copy_mail_chamber\", \"copy_mail_chamber\", \"copy_mail_chamber\", \"copy_send_chamber\", \"copy_send_chamber\", \"copy_send_chamber\", \"copy_send_chamber\", \"copy_send_chamber\", \"copy_send_chamber\", \"copy_send_chamber\", \"corp..\", \"corp..\", \"corp..\", \"corporate_parent\", \"corporate_parent\", \"corporate_parent\", \"corporate_parent\", \"cost\", \"cost\", \"cost\", \"cost\", \"cost\", \"cost\", \"cost\", \"cost\", \"cotton\", \"cotton\", \"cotton\", \"cotton\", \"cotton\", \"cotton\", \"cotton\", \"cotton\", \"counsel\", \"counsel\", \"counsel\", \"counsel\", \"counsel\", \"counsel\", \"counsel\", \"counsel\", \"counsel\", \"counsel\", \"court\", \"court\", \"court\", \"court\", \"court\", \"court\", \"court\", \"court\", \"court\", \"court\", \"court_notice_intent\", \"court_notice_intent\", \"court_notice_intent\", \"court_notice_intent\", \"court_reporter\", \"court_reporter\", \"court_reporter\", \"court_reportertranscriber\", \"court_reportertranscriber\", \"court_reportertranscriber\", \"court_reportertranscriber\", \"court_reportertranscriber\", \"court_reportertranscriber\", \"court_reportertranscriber_abovecaptioned_matter\", \"court_reportertranscriber_abovecaptioned_matter\", \"court_reportertranscriber_abovecaptioned_matter\", \"court_reportertranscriber_abovecaptioned_matter\", \"court_reportertranscriber_abovecaptioned_matter\", \"d._kan._magistrate_d.\", \"d._kan._magistrate_d.\", \"d._kan._magistrate_d.\", \"d._kan._magistrate_d.\", \"d._kan._magistrate_d.\", \"db\", \"db\", \"db\", \"db\", \"db\", \"deadline\", \"deadline\", \"deadline\", \"deadline\", \"deadline\", \"deadline\", \"deadline\", \"deadline\", \"declaration\", \"declaration\", \"declaration\", \"declaration\", \"declaration\", \"declaration\", \"declaration\", \"declaration\", \"declaration\", \"declaration\", \"declaration_opposition\", \"declaration_opposition\", \"declaration_opposition\", \"declaration_opposition\", \"declaration_opposition\", \"declaration_opposition\", \"declaration_opposition\", \"declaration_opposition\", \"declaration_support\", \"declaration_support\", \"declaration_support\", \"declaration_support\", \"declaration_support\", \"declaration_support\", \"declaration_support\", \"declaration_support\", \"declaration_support\", \"declaration_support\", \"default\", \"default\", \"default\", \"default\", \"default\", \"default\", \"default\", \"default_judgment\", \"default_judgment\", \"default_judgment\", \"default_judgment\", \"default_judgment\", \"default_judgment\", \"default_judgment\", \"default_judgment\", \"default_judgment\", \"defts\", \"defts\", \"defts\", \"defts\", \"defts\", \"defts\", \"defts\", \"deny\", \"deny\", \"deny\", \"deny\", \"deny\", \"deny\", \"deny\", \"deny\", \"deny\", \"deny\", \"deny_part\", \"deny_part\", \"deny_part\", \"deny_part\", \"deposition\", \"deposition\", \"deposition\", \"deposition\", \"deposition\", \"deposition\", \"deposition\", \"deposition\", \"deposition\", \"deposition\", \"direct\", \"direct\", \"direct\", \"direct\", \"direct\", \"direct\", \"direct\", \"direct\", \"direct\", \"direct\", \"discovery\", \"discovery\", \"discovery\", \"discovery\", \"discovery\", \"discovery\", \"discovery\", \"discovery\", \"discovery\", \"discovery\", \"discovery_dispute\", \"discovery_dispute\", \"discovery_dispute\", \"discovery_dispute\", \"discovery_dispute\", \"discovery_dispute\", \"dismiss\", \"dismiss\", \"dismiss\", \"dismiss\", \"dismiss\", \"dismiss\", \"dismiss\", \"dismiss\", \"dismiss\", \"dismiss\", \"dismiss.._document\", \"dismiss.._document\", \"dismiss.._document\", \"dismiss.._document\", \"dismiss.._document\", \"dismiss.._document\", \"dismiss.._document\", \"dismiss_lack_jurisdiction\", \"dismiss_lack_jurisdiction\", \"dismiss_lack_jurisdiction\", \"dismiss_second_amend\", \"dismiss_second_amend\", \"dismiss_second_amend\", \"dismiss_second_amend\", \"dismiss_second_amend\", \"dismiss_second_amend\", \"dismiss_second_amend\", \"dismiss_subrogation_claim_assert\", \"dismiss_subrogation_claim_assert\", \"dismiss_subrogation_claim_assert\", \"dismiss_subrogation_claim_assert\", \"dismiss_thirdparty_complaint\", \"dismiss_thirdparty_complaint\", \"dismiss_thirdparty_complaint\", \"dismiss_thirdparty_complaint\", \"dismiss_thirdparty_complaint\", \"dismiss_without_prejudice\", \"dismiss_without_prejudice\", \"dismiss_without_prejudice\", \"dismiss_without_prejudice\", \"dismiss_without_prejudice\", \"dismiss_without_prejudice\", \"dismissal\", \"dismissal\", \"dismissal\", \"dismissal\", \"dismissal\", \"dismissal\", \"dismissal\", \"dismissal\", \"dismissal\", \"dismissal\", \"dismissal_prejudice\", \"dismissal_prejudice\", \"dismissal_prejudice\", \"dismissal_prejudice\", \"dismissal_prejudice\", \"dismissal_prejudice\", \"dismissal_prejudice\", \"dismissal_without_prejudice\", \"dismissal_without_prejudice\", \"dismissal_without_prejudice\", \"dismissal_without_prejudice\", \"dismissal_without_prejudice\", \"dismissal_without_prejudice\", \"dismissal_without_prejudice\", \"dispositive\", \"dispositive\", \"dispositive\", \"djc\", \"djc\", \"djc\", \"djc\", \"djc\", \"djc\", \"djc\", \"djc\", \"djc\", \"dle\", \"dle\", \"dle\", \"dle\", \"dle\", \"dle\", \"dle\", \"dle\", \"docket\", \"docket\", \"docket\", \"docket\", \"docket\", \"docket\", \"docket\", \"docket\", \"docket\", \"docket_entry\", \"docket_entry\", \"docket_entry\", \"docket_entry\", \"docket_entry\", \"document_place_vault\", \"document_place_vault\", \"document_place_vault\", \"document_place_vault\", \"document_place_vault\", \"document_place_vault\", \"dt\", \"dt\", \"dt\", \"dt\", \"dt\", \"dt\", \"due\", \"due\", \"due\", \"due\", \"due\", \"due\", \"due\", \"due\", \"due\", \"due\", \"e\", \"e\", \"e\", \"e\", \"e\", \"e\", \"e\", \"e\", \"e\", \"ecf\", \"ecf\", \"ecf\", \"ecf\", \"ecf\", \"ecf\", \"effect\", \"effect\", \"effect\", \"effect\", \"effect\", \"effect\", \"effect\", \"effect\", \"electronically_available_public_without\", \"electronically_available_public_without\", \"electronically_available_public_without\", \"electronically_available_public_without\", \"electronically_available_public_without\", \"electronically_available_public_without\", \"enclose\", \"enclose\", \"enclose\", \"enclose\", \"enclose\", \"endorsement\", \"endorsement\", \"endorsement\", \"endorsement\", \"endorsement\", \"endorsement\", \"endorsement\", \"endorsement\", \"endorsement\", \"endorsement_application_grant\", \"endorsement_application_grant\", \"endorsement_application_grant\", \"endorsement_application_grant\", \"entirety\", \"entirety\", \"entirety\", \"entirety\", \"entirety\", \"entirety\", \"error\", \"error\", \"error\", \"error\", \"error\", \"esq\", \"esq\", \"esq\", \"esq\", \"esq\", \"esq\", \"esq\", \"estate_m.l\", \"estate_m.l\", \"estate_m.l\", \"estate_m.l\", \"estate_m.l\", \"estate_m.l\", \"expert_discovery_due\", \"expert_discovery_due\", \"expert_discovery_due\", \"expert_discovery_due\", \"extend\", \"extend\", \"extend\", \"extend\", \"extend\", \"extend\", \"extend\", \"extend\", \"extend\", \"extend\", \"extension\", \"extension\", \"extension\", \"extension\", \"extension\", \"extension\", \"fact_discovery\", \"fact_discovery\", \"fact_discovery\", \"fact_discovery\", \"fact_discovery\", \"fax\", \"fax\", \"fax\", \"fax\", \"fax\", \"fax\", \"fee_cost\", \"fee_cost\", \"fee_cost\", \"fee_cost\", \"fee_cost\", \"fee_receipt_number\", \"fee_receipt_number\", \"fee_receipt_number\", \"fee_receipt_number\", \"fee_receipt_number\", \"fee_receipt_number\", \"fee_receipt_number\", \"final\", \"final\", \"final\", \"final\", \"final\", \"firm\", \"firm\", \"firm\", \"firm\", \"firm\", \"firm\", \"first\", \"first\", \"first\", \"first\", \"first\", \"first\", \"first\", \"first\", \"first\", \"follow\", \"follow\", \"follow\", \"follow\", \"follow\", \"follow\", \"follow\", \"follow\", \"follow\", \"follow\", \"form\", \"form\", \"form\", \"form\", \"form\", \"form\", \"form\", \"form\", \"forward\", \"forward\", \"forward\", \"forward\", \"fund\", \"fund\", \"fund\", \"fund\", \"fund\", \"fund\", \"fund\", \"fund\", \"fund\", \"fund\", \"g\", \"g\", \"g\", \"g\", \"genesys_id\", \"genesys_id\", \"genesys_id\", \"genesys_id\", \"genesys_id\", \"gf\", \"gf\", \"gf\", \"gf\", \"gf\", \"goodwin\", \"goodwin\", \"goodwin\", \"goodwin\", \"goodwin\", \"government\", \"government\", \"government\", \"government\", \"government\", \"gr\", \"gr\", \"gr\", \"gr\", \"gr\", \"gr\", \"gr\", \"grant\", \"grant\", \"grant\", \"grant\", \"grant\", \"grant\", \"grant\", \"grant\", \"grant\", \"grant\", \"grant_part\", \"grant_part\", \"grant_part\", \"grant_part\", \"haas\", \"haas\", \"haas\", \"haas\", \"haas\", \"haas\", \"han\", \"han\", \"han\", \"han\", \"han\", \"han\", \"han\", \"han\", \"hereby\", \"hereby\", \"hereby\", \"hereby\", \"hereby\", \"hereby\", \"hereby\", \"hereby\", \"hereby\", \"hereby\", \"hereby_give_official_transcript\", \"hereby_give_official_transcript\", \"hereby_give_official_transcript\", \"hereby_give_official_transcript\", \"hereby_give_official_transcript\", \"herein\", \"herein\", \"herein\", \"herein\", \"herein\", \"herein\", \"herein\", \"herein\", \"herein\", \"hold\", \"hold\", \"hold\", \"hold\", \"hold\", \"hold\", \"hold\", \"hold\", \"hold\", \"hold\", \"incorrectly\", \"incorrectly\", \"incorrectly\", \"incorrectly\", \"initial\", \"initial\", \"initial\", \"initial\", \"initial\", \"initial\", \"initial\", \"initial\", \"initial_conference\", \"initial_conference\", \"initial_conference\", \"initial_conference\", \"initial_conference\", \"initial_conference\", \"interrogatory\", \"interrogatory\", \"interrogatory\", \"interrogatory\", \"interrogatory\", \"interrogatory\", \"interrogatory\", \"issue\", \"issue\", \"issue\", \"issue\", \"issue\", \"issue\", \"issue\", \"issue\", \"issue\", \"issue\", \"ja\", \"ja\", \"ja\", \"ja\", \"ja\", \"january\", \"january\", \"january\", \"january\", \"january\", \"january\", \"january\", \"january\", \"january\", \"january\", \"jar\", \"jar\", \"jar\", \"jar\", \"jco\", \"jco\", \"jco\", \"jco\", \"jco\", \"jco\", \"jp\", \"jp\", \"jp\", \"judgment\", \"judgment\", \"judgment\", \"judgment\", \"judgment\", \"judgment\", \"judgment\", \"judgment\", \"judgment\", \"judgment\", \"judgment_favor\", \"judgment_favor\", \"judgment_favor\", \"judgment_favor\", \"judgment_favor\", \"july\", \"july\", \"july\", \"july\", \"july\", \"july\", \"july\", \"july\", \"july\", \"july\", \"june\", \"june\", \"june\", \"june\", \"june\", \"june\", \"june\", \"june\", \"june\", \"june\", \"jurisdiction\", \"jurisdiction\", \"jurisdiction\", \"jurisdiction\", \"jurisdiction\", \"jurisdiction\", \"jurisdiction\", \"jury_trial_hold\", \"jury_trial_hold\", \"jury_trial_hold\", \"jv\", \"jv\", \"jv\", \"jv\", \"k\", \"k\", \"k\", \"k\", \"k\", \"k\", \"k\", \"kan._gr\", \"kan._gr\", \"kan._gr\", \"kan._gr\", \"kco\", \"kco\", \"kco\", \"keely\", \"keely\", \"keely\", \"keely\", \"keely\", \"keely\", \"keely\", \"kehrli\", \"kehrli\", \"kehrli\", \"kehrli\", \"kehrli\", \"kehrli\", \"kehrli\", \"kehrli\", \"kehrli\", \"kehrli\", \"kkc\", \"kkc\", \"kkc\", \"kkc\", \"kw\", \"kw\", \"kw\", \"kw\", \"kw\", \"kw\", \"kw\", \"l.p.\", \"l.p.\", \"l.p.\", \"l.p.\", \"l.p.\", \"l.p.\", \"l.p.\", \"l.p.\", \"l.p.\", \"l.p.\", \"l.p..\", \"l.p..\", \"l.p..\", \"l.p..\", \"l.p..\", \"l.p..\", \"lb\", \"lb\", \"lb\", \"lb\", \"lb\", \"lb\", \"lb\", \"leave\", \"leave\", \"leave\", \"leave\", \"leave\", \"leave\", \"leave\", \"leave\", \"leave\", \"leave\", \"letter\", \"letter\", \"letter\", \"letter\", \"letter\", \"letter\", \"letter\", \"letter\", \"letter\", \"letter\", \"letter_address\", \"letter_address\", \"letter_address\", \"letter_address\", \"letter_address\", \"letter_address\", \"letter_address\", \"letter_address\", \"letter_address\", \"letter_address\", \"limine_preclude_plaintiff_introduce\", \"limine_preclude_plaintiff_introduce\", \"limine_preclude_plaintiff_introduce\", \"limine_preclude_plaintiff_introduce\", \"limine_preclude_plaintiff_introduce\", \"line\", \"line\", \"line\", \"line\", \"line\", \"litigation\", \"litigation\", \"litigation\", \"litigation\", \"litigation\", \"litigation\", \"longer\", \"longer\", \"longer\", \"longer_assigned_case\", \"longer_assigned_case\", \"longer_assigned_case\", \"ltd..\", \"ltd..\", \"ltd..\", \"ltd..\", \"ltd..\", \"ltd..\", \"ltd..\", \"magistrate\", \"magistrate\", \"magistrate\", \"magistrate\", \"magistrate\", \"magistrate\", \"magistrate\", \"magistrate\", \"magistrate\", \"magistrate\", \"magistrate_designate\", \"magistrate_designate\", \"magistrate_discovery_hear\", \"magistrate_discovery_hear\", \"magistrate_discovery_hear\", \"mail\", \"mail\", \"mail\", \"mail\", \"mail\", \"mail\", \"mail\", \"mail\", \"mail_copy\", \"mail_copy\", \"mail_copy\", \"mail_copy\", \"mail_copy\", \"mail_copy\", \"march\", \"march\", \"march\", \"march\", \"march\", \"march\", \"march\", \"march\", \"march\", \"march\", \"mark\", \"mark\", \"mark\", \"mark\", \"mark\", \"mark\", \"mark\", \"master\", \"master\", \"master\", \"master\", \"material\", \"material\", \"material\", \"material\", \"material\", \"material\", \"material\", \"material\", \"material\", \"material\", \"matter\", \"matter\", \"matter\", \"matter\", \"matter\", \"matter\", \"matter\", \"matter\", \"matter\", \"matter\", \"may\", \"may\", \"may\", \"may\", \"may\", \"may\", \"may\", \"may\", \"may\", \"may\", \"may_obtain_pacer\", \"may_obtain_pacer\", \"may_obtain_pacer\", \"may_obtain_pacer\", \"may_obtain_pacer\", \"mbe\", \"mbe\", \"mbe\", \"mbe\", \"mbe\", \"meet_confer\", \"meet_confer\", \"meet_confer\", \"meet_confer\", \"meet_confer\", \"memoendorsement_letter_address\", \"memoendorsement_letter_address\", \"memoendorsement_letter_address\", \"memoendorsement_letter_address\", \"memoendorsement_letter_address\", \"memoendorsement_letter_address\", \"memorandum_law_opposition\", \"memorandum_law_opposition\", \"memorandum_law_opposition\", \"memorandum_law_opposition\", \"memorandum_law_opposition\", \"memorandum_law_opposition\", \"memorandum_law_opposition\", \"memorandum_law_opposition\", \"memorandum_law_opposition\", \"memorandum_law_support\", \"memorandum_law_support\", \"memorandum_law_support\", \"memorandum_law_support\", \"memorandum_law_support\", \"memorandum_law_support\", \"memorandum_law_support\", \"memorandum_law_support\", \"memorandum_law_support\", \"memorandum_law_support\", \"merrill\", \"merrill\", \"merrill\", \"merrill\", \"minute_entry_proceeding_hold\", \"minute_entry_proceeding_hold\", \"minute_entry_proceeding_hold\", \"minute_entry_proceeding_hold\", \"minute_entry_proceeding_hold\", \"minute_entry_proceeding_hold\", \"minute_entry_proceeding_hold\", \"minute_entry_proceeding_hold\", \"minute_entry_proceeding_hold\", \"minute_entry_proceeding_hold\", \"ml\", \"ml\", \"ml\", \"ml\", \"modify\", \"modify\", \"modify\", \"modify\", \"modify\", \"modify\", \"modify\", \"modify\", \"modify\", \"modify\", \"modify_gf\", \"modify_gf\", \"modify_gf\", \"modify_gf\", \"modify_gf\", \"modify_gf\", \"modify_ldi\", \"modify_ldi\", \"modify_ldi\", \"modify_ldi\", \"motion\", \"motion\", \"motion\", \"motion\", \"motion\", \"motion\", \"motion\", \"motion\", \"motion\", \"motion\", \"mp\", \"mp\", \"mro\", \"mro\", \"mro\", \"mro\", \"mro\", \"mro\", \"mro\", \"mro\", \"n\", \"n\", \"n\", \"n\", \"n\", \"n\", \"nd\", \"nd\", \"nd\", \"nd\", \"nd\", \"nd\", \"new_address\", \"new_address\", \"new_address\", \"new_address\", \"new_address\", \"new_address\", \"new_york\", \"new_york\", \"new_york\", \"new_york\", \"new_york\", \"new_york\", \"new_york\", \"new_york\", \"new_york\", \"new_york\", \"new_york_new_jersey\", \"new_york_new_jersey\", \"new_york_new_jersey\", \"new_york_new_jersey\", \"nm\", \"nm\", \"nonecf_case_error\", \"nonecf_case_error\", \"nonecf_case_error\", \"note_attorney\", \"note_attorney\", \"note_attorney\", \"note_attorney\", \"note_attorney\", \"note_attorney_manually_refile\", \"note_attorney_manually_refile\", \"note_attorney_manually_refile\", \"note_attorney_manually_refile\", \"notice\", \"notice\", \"notice\", \"notice\", \"notice\", \"notice\", \"notice\", \"notice\", \"notice\", \"notice\", \"notice_adoption_master\", \"notice_adoption_master\", \"notice_adoption_master\", \"notice_adoption_master\", \"notice_appeal\", \"notice_appeal\", \"notice_appeal\", \"notice_appeal\", \"notice_appeal\", \"notice_appeal\", \"notice_appeal\", \"notice_appeal\", \"notice_appearance_behalf\", \"notice_appearance_behalf\", \"notice_appearance_behalf\", \"notice_appearance_behalf\", \"notice_appearance_behalf\", \"notice_appearance_behalf\", \"notice_appearance_behalf\", \"notice_appearance_behalf_aty\", \"notice_appearance_behalf_aty\", \"notice_case_reassignment\", \"notice_case_reassignment\", \"notice_case_reassignment\", \"notice_conversion\", \"notice_conversion\", \"notice_conversion\", \"notice_conversion\", \"notice_conversion\", \"notice_right_appeal\", \"notice_right_appeal\", \"notice_right_appeal\", \"notice_right_appeal\", \"notice_right_appeal\", \"notice_right_appeal\", \"number\", \"number\", \"number\", \"number\", \"number\", \"number\", \"number\", \"number\", \"number\", \"number\", \"office\", \"office\", \"office\", \"office\", \"office\", \"office\", \"office_p.c\", \"office_p.c\", \"office_p.c\", \"office_p.c\", \"office_p.c\", \"office_p.c\", \"official_transcript_notice\", \"official_transcript_notice\", \"official_transcript_notice\", \"official_transcript_notice\", \"official_transcript_notice\", \"opinion\", \"opinion\", \"opinion\", \"opinion\", \"opinion\", \"opinion\", \"opinion\", \"opinion\", \"opportunity\", \"opportunity\", \"opportunity\", \"opportunity\", \"opportunity\", \"opportunity\", \"opportunity\", \"opposition\", \"opposition\", \"opposition\", \"opposition\", \"opposition\", \"opposition\", \"opposition\", \"opposition\", \"opposition\", \"oral_argument_set_pm\", \"oral_argument_set_pm\", \"order\", \"order\", \"order\", \"order\", \"order\", \"order\", \"order\", \"order\", \"order\", \"order\", \"p\", \"p\", \"p\", \"p\", \"p\", \"p.c\", \"p.c\", \"p.c\", \"p.c\", \"p.c\", \"p.c\", \"p.c\", \"p.c\", \"p.c\", \"p.c\", \"pa\", \"pa\", \"pa\", \"pa\", \"pa\", \"pa\", \"page\", \"page\", \"page\", \"page\", \"page\", \"page\", \"page\", \"page\", \"page\", \"pdf\", \"pdf\", \"pdf\", \"per\", \"per\", \"per\", \"per\", \"per\", \"per\", \"per\", \"period\", \"period\", \"period\", \"period\", \"period\", \"period\", \"period\", \"period\", \"period\", \"permission\", \"permission\", \"permission\", \"permission\", \"permission\", \"permission\", \"pl\", \"pl\", \"pl\", \"pl\", \"pl\", \"pl\", \"pl\", \"pl\", \"plaintiff\", \"plaintiff\", \"plaintiff\", \"plaintiff\", \"plaintiff\", \"plaintiff\", \"plaintiff\", \"plaintiff\", \"plaintiff\", \"plaintiff\", \"plaintiff_'\", \"plaintiff_'\", \"plaintiff_'\", \"plaintiff_'\", \"plaintiff_'\", \"plaintiff_'\", \"plaintiff_'\", \"plaintiff_'\", \"plaintiff_'\", \"plaintiff_'\", \"pm\", \"pm\", \"pm\", \"pm\", \"pm\", \"pm\", \"pm\", \"pretrial_conference_hold\", \"pretrial_conference_hold\", \"pretrial_conference_hold\", \"pretrial_conference_hold\", \"pretrial_conference_hold\", \"prior\", \"prior\", \"prior\", \"prior\", \"prior\", \"prior\", \"prior\", \"prior\", \"pro_hac_vice\", \"pro_hac_vice\", \"pro_hac_vice\", \"pro_hac_vice\", \"pro_hac_vice\", \"pro_se\", \"pro_se\", \"pro_se\", \"pro_se\", \"pro_se\", \"pro_se\", \"proceeding\", \"proceeding\", \"proceeding\", \"proceeding\", \"proceeding\", \"proceeding\", \"proceeding\", \"propose\", \"propose\", \"propose\", \"propose\", \"propose\", \"propose\", \"propose\", \"propose\", \"propose\", \"propose\", \"protocol\", \"protocol\", \"protocol\", \"protocol\", \"protocol\", \"public_terminal_purchase_court\", \"public_terminal_purchase_court\", \"public_terminal_purchase_court\", \"public_terminal_purchase_court\", \"public_terminal_purchase_court\", \"purs\", \"purs\", \"purs\", \"purs\", \"purs\", \"purs\", \"purs\", \"purs\", \"purs\", \"pursuant_federal_rule\", \"pursuant_federal_rule\", \"pursuant_federal_rule\", \"pursuant_federal_rule\", \"pursuant_frcp\", \"pursuant_frcp\", \"pursuant_frcp\", \"pursuant_frcp\", \"pursuant_frcp\", \"pursuant_frcp\", \"pursuant_frcp\", \"pursuant_frcp\", \"r._civ\", \"r._civ\", \"r._civ\", \"r._civ\", \"r._civ\", \"receive_night_deposit_box\", \"receive_night_deposit_box\", \"receive_night_deposit_box\", \"receive_night_deposit_box\", \"reconsideration\", \"reconsideration\", \"reconsideration\", \"reconsideration\", \"reconsideration\", \"reconsideration\", \"reconsideration\", \"redact\", \"redact\", \"redact\", \"redact\", \"redact\", \"redact\", \"redact\", \"redact\", \"redact\", \"redact_transcript_deadline_set\", \"redaction_calendar_day_mcguirk\", \"redaction_calendar_day_mcguirk\", \"redaction_calendar_day_mcguirk\", \"redaction_calendar_day_mcguirk\", \"redaction_calendar_day_mcguirk\", \"redaction_calendar_day_mcguirk\", \"redaction_request_due\", \"redaction_request_due\", \"refer\", \"refer\", \"refer\", \"refer\", \"refer\", \"refer\", \"refer\", \"refer\", \"regard\", \"regard\", \"regard\", \"regard\", \"regard\", \"regard\", \"regard\", \"regard\", \"regard\", \"regard\", \"reiter\", \"reiter\", \"reiter\", \"reiter\", \"reiter\", \"reiter\", \"reiter\", \"relate\", \"relate\", \"relate\", \"relate\", \"relate\", \"relate\", \"relate\", \"relate\", \"relate\", \"related\", \"related\", \"related\", \"related\", \"related\", \"related\", \"related\", \"related\", \"related\", \"related\", \"release_transcript_restriction_set\", \"release_transcript_restriction_set\", \"release_transcript_restriction_set\", \"release_transcript_restriction_set\", \"release_transcript_restriction_set\", \"release_transcript_restriction_set\", \"release_transcript_restriction_set\", \"reply\", \"reply\", \"reply\", \"reply\", \"reply\", \"reply\", \"reply\", \"reply\", \"reply\", \"reply_memorandum_law_support\", \"reply_memorandum_law_support\", \"reply_memorandum_law_support\", \"reply_memorandum_law_support\", \"reply_memorandum_law_support\", \"reply_memorandum_law_support\", \"reply_memorandum_law_support\", \"reply_memorandum_law_support\", \"reply_paper\", \"reply_paper\", \"reply_paper\", \"reply_paper\", \"reply_paper\", \"reply_paper\", \"reply_paper\", \"reply_paper\", \"reply_paper\", \"reportertranscriber_deadline_release_transcript\", \"reportertranscriber_deadline_release_transcript\", \"reportertranscriber_deadline_release_transcript\", \"reportertranscriber_deadline_release_transcript\", \"reportertranscriber_deadline_release_transcript\", \"request\", \"request\", \"request\", \"request\", \"request\", \"request\", \"request\", \"request\", \"request\", \"request\", \"request_issuance_summons\", \"request_issuance_summons\", \"request_issuance_summons\", \"request_issuance_summons\", \"request_issuance_summons\", \"request_issuance_summons\", \"request_issuance_summons\", \"request_issuance_summons\", \"request_redaction_transcript\", \"request_redaction_transcript\", \"request_redaction_transcript\", \"request_redaction_transcript\", \"response\", \"response\", \"response\", \"response\", \"response\", \"response\", \"response\", \"response\", \"response\", \"response\", \"response_due_reply\", \"response_due_reply\", \"response_due_reply\", \"response_due_reply\", \"response_due_reply\", \"restriction\", \"restriction\", \"restriction\", \"restriction\", \"restriction\", \"restriction\", \"restriction\", \"revise_schedule\", \"revise_schedule\", \"revise_schedule\", \"revise_schedule\", \"revise_schedule\", \"right\", \"right\", \"right\", \"right\", \"right\", \"rj\", \"rj\", \"rj\", \"rj\", \"rjm\", \"rjm\", \"rjm\", \"rjm\", \"rjm\", \"rjm\", \"rjm\", \"rule\", \"rule\", \"rule\", \"rule\", \"rule\", \"rule\", \"rule\", \"rule\", \"rule\", \"rule\", \"rule_corporate_disclosure_statement\", \"rule_corporate_disclosure_statement\", \"rule_corporate_disclosure_statement\", \"rule_corporate_disclosure_statement\", \"rule_corporate_disclosure_statement\", \"rule_corporate_disclosure_statement\", \"rule_deposition_objection\", \"rule_deposition_objection\", \"rule_deposition_objection\", \"rule_deposition_objection\", \"rule_deposition_objection\", \"rule_deposition_objection\", \"rule_deposition_objection\", \"rule_disclosure_statement\", \"rule_disclosure_statement\", \"rule_disclosure_statement\", \"rule_disclosure_statement\", \"rule_statement\", \"rule_statement\", \"rule_statement\", \"rule_statement\", \"rule_statement\", \"rule_statement\", \"rule_statement\", \"s.d.n.y\", \"s.d.n.y\", \"s.d.n.y\", \"s.d.n.y\", \"sac\", \"sac\", \"sac\", \"sac\", \"sac\", \"sac\", \"sac\", \"sac\", \"safe_harbor_asset\", \"safe_harbor_asset\", \"safe_harbor_asset\", \"safe_harbor_asset\", \"safe_harbor_asset\", \"safe_harbor_asset\", \"sc\", \"sc\", \"sc\", \"sc\", \"sc\", \"schedule\", \"schedule\", \"schedule\", \"schedule\", \"schedule\", \"schedule\", \"schedule\", \"schedule\", \"schedule\", \"schedule\", \"seal\", \"seal\", \"seal\", \"seal\", \"seal\", \"seal\", \"seal\", \"seal\", \"seal\", \"seal\", \"section\", \"section\", \"section\", \"section\", \"section\", \"select\", \"select\", \"select\", \"select\", \"select\", \"select\", \"select\", \"select\", \"send\", \"send\", \"send\", \"send\", \"send\", \"send\", \"send\", \"send\", \"september\", \"september\", \"september\", \"september\", \"september\", \"september\", \"september\", \"september\", \"september\", \"september\", \"serve\", \"serve\", \"serve\", \"serve\", \"serve\", \"serve\", \"serve\", \"serve\", \"serve\", \"serve\", \"serve_answer_due\", \"serve_answer_due\", \"serve_answer_due\", \"serve_answer_due\", \"serve_answer_due\", \"serve_answer_due\", \"serve_answer_due\", \"service\", \"service\", \"service\", \"service\", \"service\", \"service\", \"service\", \"service\", \"service\", \"service\", \"service_accept\", \"service_accept\", \"service_accept\", \"service_accept\", \"service_accept\", \"service_accept\", \"service_accept\", \"service_accept\", \"service_accept\", \"service_accept_legal_clerk\", \"service_make\", \"service_make\", \"service_make\", \"service_make\", \"service_make\", \"set\", \"set\", \"set\", \"set\", \"set\", \"set\", \"set\", \"set\", \"set_answer_due\", \"set_answer_due\", \"set_forth\", \"set_forth\", \"set_forth\", \"set_forth\", \"set_forth\", \"set_forth\", \"set_forth\", \"set_forth\", \"set_forth\", \"set_forth\", \"settle\", \"settle\", \"settle\", \"settle\", \"settle\", \"settle\", \"settle\", \"show_cause\", \"show_cause\", \"show_cause\", \"show_cause\", \"show_cause\", \"show_cause\", \"show_cause\", \"show_cause\", \"show_cause\", \"sign\", \"sign\", \"sign\", \"sign\", \"sign\", \"sign\", \"sign\", \"sign\", \"sign\", \"sign_iii\", \"sign_iii\", \"sign_iii\", \"sign_iii\", \"sign_iii\", \"sign_iii\", \"sign_iii\", \"sign_iii\", \"sign_iii\", \"sign_iii_cd\", \"sign_magistrate\", \"sign_magistrate\", \"sign_magistrate\", \"sign_magistrate\", \"sign_magistrate\", \"sign_magistrate\", \"sign_magistrate\", \"sign_magistrate\", \"sign_magistrate\", \"sign_magistrate\", \"sign_s.d.n.y\", \"sign_s.d.n.y\", \"sign_s.d.n.y\", \"sign_s.d.n.y\", \"sign_s.d.n.y\", \"sign_s.d.n.y\", \"sign_s.d.n.y\", \"sign_sr\", \"sign_sr\", \"status_report\", \"status_report\", \"status_report\", \"status_report\", \"status_report\", \"status_report\", \"status_report\", \"stillwater_market_neutral_fund\", \"stillwater_market_neutral_fund\", \"stillwater_market_neutral_fund\", \"stillwater_market_neutral_fund\", \"stillwater_market_neutral_fund\", \"stillwater_market_neutral_fund\", \"stipulate\", \"stipulate\", \"stipulate\", \"stipulate\", \"stipulate\", \"stipulate\", \"stipulate\", \"stipulation\", \"stipulation\", \"stipulation\", \"stipulation\", \"stipulation\", \"stipulation\", \"stipulation\", \"stipulation\", \"stipulation\", \"stipulation\", \"stock\", \"stock\", \"stock\", \"stock\", \"stock\", \"submit\", \"submit\", \"submit\", \"submit\", \"submit\", \"submit\", \"submit\", \"submit\", \"submit\", \"submit\", \"submit_joint_letter\", \"submit_joint_letter\", \"submit_joint_letter\", \"submit_joint_letter\", \"submit_joint_letter\", \"submit_joint_letter\", \"summary_judgment\", \"summary_judgment\", \"summary_judgment\", \"summary_judgment\", \"summary_judgment\", \"summary_judgment\", \"summary_judgment\", \"summary_judgment\", \"summary_judgment\", \"summary_judgment\", \"summary_judgment.._document\", \"summary_judgment.._document\", \"summary_judgment.._document\", \"summary_judgment.._document\", \"summary_judgment.._document\", \"summary_judgment.._document\", \"summary_judgment.._document\", \"summary_judgment.._document\", \"summary_judgment.._document\", \"summary_judgment_favor_november\", \"summary_judgment_favor_november\", \"summary_judgment_favor_november\", \"summary_judgment_favor_november\", \"summary_judgment_favor_november\", \"supplemental_amend\", \"supplemental_amend\", \"supplemental_amend\", \"supplemental_amend\", \"supplemental_amend\", \"support\", \"support\", \"support\", \"support\", \"support\", \"support\", \"support\", \"support\", \"support\", \"support\", \"support_paper_review\", \"support_paper_review\", \"support_paper_review\", \"support_paper_review\", \"tape\", \"tape\", \"tape\", \"tape\", \"tape\", \"telephone_conference_hold\", \"telephone_conference_hold\", \"telephone_conference_hold\", \"telephone_conference_hold\", \"telephone_conference_set\", \"telephone_conference_set\", \"telephone_conference_set\", \"telephone_conference_set\", \"telephone_conference_set\", \"terminate\", \"terminate\", \"terminate\", \"terminate\", \"terminate\", \"terminate\", \"terminate\", \"terminate\", \"testimony\", \"testimony\", \"testimony\", \"testimony\", \"testimony\", \"testimony\", \"testimony\", \"testimony\", \"testimony\", \"testimony\", \"thereafter\", \"thereafter\", \"thereafter\", \"thereafter\", \"thereafter\", \"third_complaint\", \"third_complaint\", \"time\", \"time\", \"time\", \"time\", \"time\", \"time\", \"time\", \"time\", \"time\", \"today\", \"today\", \"today\", \"today\", \"today\", \"today\", \"today\", \"tp\", \"tp\", \"tp\", \"tp\", \"tp\", \"tp\", \"tp\", \"transcript\", \"transcript\", \"transcript\", \"transcript\", \"transcript\", \"transcript\", \"transcript\", \"transcript\", \"transcript_may_make_remotely\", \"transcript_may_make_remotely\", \"transcript_may_make_remotely\", \"transcript_may_make_remotely\", \"transcript_may_make_remotely\", \"transcript_may_make_remotely\", \"transcript_may_view_court\", \"transcript_may_view_court\", \"transcript_may_view_court\", \"transcript_may_view_court\", \"transcript_may_view_court\", \"transcript_proceeding_conference_hold\", \"transcript_proceeding_conference_hold\", \"transcript_proceeding_conference_hold\", \"transcript_proceeding_conference_hold\", \"transcript_proceeding_conference_hold\", \"transcript_proceeding_conference_hold\", \"transcript_proceeding_hold\", \"transcript_proceeding_hold\", \"transcript_proceeding_hold\", \"transcript_proceeding_hold\", \"transcript_proceeding_hold\", \"transcript_proceeding_hold\", \"transcript_proceeding_hold\", \"transfer_new_york_eastern\", \"transfer_new_york_eastern\", \"transfer_new_york_eastern\", \"transmission\", \"transmission\", \"transmission\", \"transmission\", \"trial\", \"trial\", \"trial\", \"trial\", \"trial\", \"trial\", \"trial\", \"trial\", \"trial\", \"trial\", \"tro\", \"tro\", \"tro\", \"tro\", \"tro\", \"tro\", \"u\", \"u\", \"u\", \"u\", \"united_state_magistrate\", \"united_state_magistrate\", \"united_state_magistrate\", \"united_state_magistrate\", \"united_state_magistrate\", \"usa\", \"usa\", \"usa\", \"usa\", \"usa\", \"usa\", \"usca\", \"usca\", \"usca\", \"usca\", \"usca\", \"usca_case\", \"usca_case\", \"usca_case\", \"usca_case\", \"usca_case\", \"usca_case\", \"via\", \"via\", \"via\", \"via\", \"via\", \"via\", \"website\", \"website\", \"website\", \"website\", \"wellington\", \"wellington\", \"wellington\", \"withdraw_attorney\", \"withdraw_attorney\", \"withdraw_attorney\", \"withdraw_attorney\", \"withdraw_attorney\", \"withdraw_attorney\", \"withdraw_attorney\", \"worcester\", \"worcester\", \"worcester\", \"worcester\", \"worcester\", \"would\", \"would\", \"would\", \"would\", \"would\", \"would\", \"would\", \"would\", \"would\", \"york_ny_magistrate\", \"york_ny_magistrate\", \"york_ny_magistrate\", \"york_ny_magistrate\", \"york_ny_magistrate\", \"york_ny_magistrate\", \"yv\", \"yv\", \"yv\", \"yv\", \"yv\", \"yv\", \"yv\", \"yv\"]}, \"lambda.step\": 0.01, \"plot.opts\": {\"ylab\": \"PC2\", \"xlab\": \"PC1\"}};\n",
       "\n",
       "function LDAvis_load_lib(url, callback){\n",
       "  var s = document.createElement('script');\n",
       "  s.src = url;\n",
       "  s.async = true;\n",
       "  s.onreadystatechange = s.onload = callback;\n",
       "  s.onerror = function(){console.warn(\"failed to load library \" + url);};\n",
       "  document.getElementsByTagName(\"head\")[0].appendChild(s);\n",
       "}\n",
       "\n",
       "if(typeof(LDAvis) !== \"undefined\"){\n",
       "   // already loaded: just create the visualization\n",
       "   !function(LDAvis){\n",
       "       new LDAvis(\"#\" + \"ldavis_el2506819944928668727701416606\", ldavis_el2506819944928668727701416606_data);\n",
       "   }(LDAvis);\n",
       "}else if(typeof define === \"function\" && define.amd){\n",
       "   // require.js is available: use it to load d3/LDAvis\n",
       "   require.config({paths: {d3: \"https://cdnjs.cloudflare.com/ajax/libs/d3/3.5.5/d3.min\"}});\n",
       "   require([\"d3\"], function(d3){\n",
       "      window.d3 = d3;\n",
       "      LDAvis_load_lib(\"https://cdn.rawgit.com/bmabey/pyLDAvis/files/ldavis.v1.0.0.js\", function(){\n",
       "        new LDAvis(\"#\" + \"ldavis_el2506819944928668727701416606\", ldavis_el2506819944928668727701416606_data);\n",
       "      });\n",
       "    });\n",
       "}else{\n",
       "    // require.js not available: dynamically load d3 & LDAvis\n",
       "    LDAvis_load_lib(\"https://cdnjs.cloudflare.com/ajax/libs/d3/3.5.5/d3.min.js\", function(){\n",
       "         LDAvis_load_lib(\"https://cdn.rawgit.com/bmabey/pyLDAvis/files/ldavis.v1.0.0.js\", function(){\n",
       "                 new LDAvis(\"#\" + \"ldavis_el2506819944928668727701416606\", ldavis_el2506819944928668727701416606_data);\n",
       "            })\n",
       "         });\n",
       "}\n",
       "</script>"
      ],
      "text/plain": [
       "<IPython.core.display.HTML object>"
      ]
     },
     "execution_count": 159,
     "metadata": {},
     "output_type": "execute_result"
    }
   ],
   "source": [
    "num_topics = 10\n",
    "pretrained_model_file_path = 'docket_texts/lda_model_noorgnomodel_' + str(num_topics)\n",
    "column_name = str(num_topics) + '-topic Model Classificaiton'\n",
    "\n",
    "topic_names = {}\n",
    "for i in range(num_topics):\n",
    "    topic_names[i] = 'Topic ' + str(i)\n",
    "\n",
    "LDAvis_prepared, model = topic_modeling_pipeline(num_topics, pretrained_model_file_path, trigram_bow_corpus, trigram_dictionary, export = True)\n",
    "topic_summary = []\n",
    "\n",
    "for docket_text in list(new_df['Apply Trigram Phrase Model']):\n",
    "    #print(docket_text)\n",
    "    topic_summary.append(lda_description(docket_text, model, trigram_dictionary, topic_names))\n",
    "\n",
    "new_df[column_name] = topic_summary\n",
    "pyLDAvis.display(LDAvis_prepared)"
   ]
  },
  {
   "cell_type": "markdown",
   "metadata": {},
   "source": [
    "### Export DataFrame to .csv"
   ]
  },
  {
   "cell_type": "code",
   "execution_count": 160,
   "metadata": {},
   "outputs": [],
   "source": [
    "new_df.to_csv('examine_this.csv', index = False)"
   ]
  },
  {
   "cell_type": "code",
   "execution_count": null,
   "metadata": {},
   "outputs": [],
   "source": []
  },
  {
   "cell_type": "code",
   "execution_count": null,
   "metadata": {},
   "outputs": [],
   "source": []
  },
  {
   "cell_type": "code",
   "execution_count": null,
   "metadata": {},
   "outputs": [],
   "source": []
  },
  {
   "cell_type": "code",
   "execution_count": null,
   "metadata": {},
   "outputs": [],
   "source": []
  }
 ],
 "metadata": {
  "kernelspec": {
   "display_name": "Python 3",
   "language": "python",
   "name": "python3"
  }
 },
 "nbformat": 4,
 "nbformat_minor": 2
}
