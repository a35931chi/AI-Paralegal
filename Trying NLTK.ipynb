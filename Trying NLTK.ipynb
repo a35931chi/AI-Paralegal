{
 "cells": [
  {
   "cell_type": "markdown",
   "metadata": {},
   "source": [
    "## Notebook Goal:  \n",
    "Using existing NLP and LDA methodologies to perform topic modeling on docket texts. Three hyperparameters to consider:\n",
    "1. to remove organization or not in docket texts, so organizations themselves won't become topics.\n",
    "2. to remove names or not in docket texts, so names themselves won't become topics.\n",
    "3. variations in topic numbers: [2, 3, 5, 10]\n",
    "\n",
    "Will then perform visualizations and model summary output on every permutation/iteration."
   ]
  },
  {
   "cell_type": "code",
   "execution_count": 99,
   "metadata": {},
   "outputs": [],
   "source": [
    "import nltk\n",
    "from nltk.tag.stanford import StanfordNERTagger\n",
    "from nltk.stem import WordNetLemmatizer\n",
    "from nltk.corpus import wordnet\n",
    "from nltk.corpus import stopwords"
   ]
  },
  {
   "cell_type": "code",
   "execution_count": 302,
   "metadata": {},
   "outputs": [],
   "source": [
    "from gensim.models.word2vec import LineSentence\n",
    "from gensim.models import Phrases\n",
    "from gensim.corpora import Dictionary, MmCorpus\n",
    "from gensim.models.ldamulticore import LdaMulticore\n",
    "\n",
    "#visualization libraries\n",
    "import pyLDAvis\n",
    "import pyLDAvis.gensim"
   ]
  },
  {
   "cell_type": "code",
   "execution_count": 26,
   "metadata": {},
   "outputs": [],
   "source": [
    "import os\n",
    "java_path = 'C:/Program Files/Java/jdk-10.0.1/bin/java.exe'\n",
    "os.environ['JAVAHOME'] = java_path"
   ]
  },
  {
   "cell_type": "code",
   "execution_count": 39,
   "metadata": {},
   "outputs": [],
   "source": [
    "#import corpus/docket texts from html to pandas DataFrame\n",
    "def grab_dockets():\n",
    "    files = []\n",
    "    #get all .html files in the folder (all docket files are in .html)\n",
    "    for file in os.listdir('docket_texts/'):\n",
    "        if file.endswith('.html'):\n",
    "            files.append(os.path.join('docket_texts/', file))\n",
    "\n",
    "    df_docket_texts = pd.DataFrame()\n",
    "    \n",
    "    for i in range(len(files)): #gather all docket texts\n",
    "    #for i in [0, 1]: #for testing purposes\n",
    "        \n",
    "        content = codecs.open(files[i], 'r', 'utf-8').read()\n",
    "        #use beautiful soup to get the case ID\n",
    "        soup = BeautifulSoup(content, 'lxml')\n",
    "        case_id = str(soup.find_all('h3'))    \n",
    "        bookmark1 = case_id.find('CASE #:') + len('CASE #:')\n",
    "        bookmark2 = case_id.find('</h3>')\n",
    "        case_id = case_id[bookmark1:bookmark2]\n",
    "\n",
    "        #use pandas to grab tables in the html files\n",
    "        docket_tables = pd.read_html(content)\n",
    "\n",
    "        #error checking: gotta do this because there's different length of docket_list/\n",
    "        #usually docket texts are in docket_list[3], but not always\n",
    "        n = 0\n",
    "        while docket_tables[n].isin(['Docket Text']).sum().sum() == 0:\n",
    "            #print(n, docket_tables[n].isin(['Docket Text']).sum().sum())\n",
    "            n += 1\n",
    "                        \n",
    "        #print(i, files[i])\n",
    "        #print(docket_tables[n].head())\n",
    "\n",
    "        #docket_tables[n] is the docket text table\n",
    "        new_header = docket_tables[n].iloc[0]\n",
    "        docket_tables[n] = docket_tables[n][1:]\n",
    "        docket_tables[n].columns = new_header\n",
    "        \n",
    "        docket_tables[n]['#'] = pd.to_numeric(docket_tables[n]['#'],\n",
    "                                              downcast = 'signed', errors = 'coerce')\n",
    "        docket_tables[n]['Date Filed'] = pd.to_datetime(docket_tables[n]['Date Filed'])\n",
    "        docket_tables[n]['Case ID'] = case_id\n",
    "\n",
    "        df_docket_texts = pd.concat([df_docket_texts, docket_tables[n]])\n",
    "    #reorder a column\n",
    "    cols = list(df_docket_texts.columns)\n",
    "    df_docket_texts = df_docket_texts[[cols[-1]] + cols[:-1]]\n",
    "    \n",
    "    print('current docket text table size/shape: {}'.format(df_docket_texts.shape))\n",
    "    return df_docket_texts"
   ]
  },
  {
   "cell_type": "code",
   "execution_count": 40,
   "metadata": {
    "scrolled": true
   },
   "outputs": [
    {
     "name": "stderr",
     "output_type": "stream",
     "text": [
      "c:\\users\\inves\\appdata\\local\\programs\\python\\python35\\lib\\site-packages\\bs4\\builder\\_lxml.py:250: DeprecationWarning: inspect.getargspec() is deprecated, use inspect.signature() instead\n",
      "  self.parser.feed(markup)\n",
      "c:\\users\\inves\\appdata\\local\\programs\\python\\python35\\lib\\site-packages\\bs4\\builder\\_lxml.py:250: DeprecationWarning: inspect.getargspec() is deprecated, use inspect.signature() instead\n",
      "  self.parser.feed(markup)\n",
      "c:\\users\\inves\\appdata\\local\\programs\\python\\python35\\lib\\site-packages\\bs4\\builder\\_lxml.py:250: DeprecationWarning: inspect.getargspec() is deprecated, use inspect.signature() instead\n",
      "  self.parser.feed(markup)\n",
      "c:\\users\\inves\\appdata\\local\\programs\\python\\python35\\lib\\site-packages\\bs4\\builder\\_lxml.py:250: DeprecationWarning: inspect.getargspec() is deprecated, use inspect.signature() instead\n",
      "  self.parser.feed(markup)\n",
      "c:\\users\\inves\\appdata\\local\\programs\\python\\python35\\lib\\site-packages\\bs4\\builder\\_lxml.py:250: DeprecationWarning: inspect.getargspec() is deprecated, use inspect.signature() instead\n",
      "  self.parser.feed(markup)\n",
      "c:\\users\\inves\\appdata\\local\\programs\\python\\python35\\lib\\site-packages\\bs4\\builder\\_lxml.py:250: DeprecationWarning: inspect.getargspec() is deprecated, use inspect.signature() instead\n",
      "  self.parser.feed(markup)\n",
      "c:\\users\\inves\\appdata\\local\\programs\\python\\python35\\lib\\site-packages\\bs4\\builder\\_lxml.py:250: DeprecationWarning: inspect.getargspec() is deprecated, use inspect.signature() instead\n",
      "  self.parser.feed(markup)\n",
      "c:\\users\\inves\\appdata\\local\\programs\\python\\python35\\lib\\site-packages\\bs4\\builder\\_lxml.py:250: DeprecationWarning: inspect.getargspec() is deprecated, use inspect.signature() instead\n",
      "  self.parser.feed(markup)\n",
      "c:\\users\\inves\\appdata\\local\\programs\\python\\python35\\lib\\site-packages\\bs4\\builder\\_lxml.py:250: DeprecationWarning: inspect.getargspec() is deprecated, use inspect.signature() instead\n",
      "  self.parser.feed(markup)\n",
      "c:\\users\\inves\\appdata\\local\\programs\\python\\python35\\lib\\site-packages\\bs4\\builder\\_lxml.py:250: DeprecationWarning: inspect.getargspec() is deprecated, use inspect.signature() instead\n",
      "  self.parser.feed(markup)\n",
      "c:\\users\\inves\\appdata\\local\\programs\\python\\python35\\lib\\site-packages\\bs4\\builder\\_lxml.py:250: DeprecationWarning: inspect.getargspec() is deprecated, use inspect.signature() instead\n",
      "  self.parser.feed(markup)\n",
      "c:\\users\\inves\\appdata\\local\\programs\\python\\python35\\lib\\site-packages\\bs4\\builder\\_lxml.py:250: DeprecationWarning: inspect.getargspec() is deprecated, use inspect.signature() instead\n",
      "  self.parser.feed(markup)\n",
      "c:\\users\\inves\\appdata\\local\\programs\\python\\python35\\lib\\site-packages\\bs4\\builder\\_lxml.py:250: DeprecationWarning: inspect.getargspec() is deprecated, use inspect.signature() instead\n",
      "  self.parser.feed(markup)\n",
      "c:\\users\\inves\\appdata\\local\\programs\\python\\python35\\lib\\site-packages\\bs4\\builder\\_lxml.py:250: DeprecationWarning: inspect.getargspec() is deprecated, use inspect.signature() instead\n",
      "  self.parser.feed(markup)\n",
      "c:\\users\\inves\\appdata\\local\\programs\\python\\python35\\lib\\site-packages\\bs4\\builder\\_lxml.py:250: DeprecationWarning: inspect.getargspec() is deprecated, use inspect.signature() instead\n",
      "  self.parser.feed(markup)\n",
      "c:\\users\\inves\\appdata\\local\\programs\\python\\python35\\lib\\site-packages\\bs4\\builder\\_lxml.py:250: DeprecationWarning: inspect.getargspec() is deprecated, use inspect.signature() instead\n",
      "  self.parser.feed(markup)\n",
      "c:\\users\\inves\\appdata\\local\\programs\\python\\python35\\lib\\site-packages\\bs4\\builder\\_lxml.py:250: DeprecationWarning: inspect.getargspec() is deprecated, use inspect.signature() instead\n",
      "  self.parser.feed(markup)\n",
      "c:\\users\\inves\\appdata\\local\\programs\\python\\python35\\lib\\site-packages\\bs4\\builder\\_lxml.py:250: DeprecationWarning: inspect.getargspec() is deprecated, use inspect.signature() instead\n",
      "  self.parser.feed(markup)\n",
      "c:\\users\\inves\\appdata\\local\\programs\\python\\python35\\lib\\site-packages\\bs4\\builder\\_lxml.py:250: DeprecationWarning: inspect.getargspec() is deprecated, use inspect.signature() instead\n",
      "  self.parser.feed(markup)\n",
      "c:\\users\\inves\\appdata\\local\\programs\\python\\python35\\lib\\site-packages\\bs4\\builder\\_lxml.py:250: DeprecationWarning: inspect.getargspec() is deprecated, use inspect.signature() instead\n",
      "  self.parser.feed(markup)\n",
      "c:\\users\\inves\\appdata\\local\\programs\\python\\python35\\lib\\site-packages\\bs4\\builder\\_lxml.py:250: DeprecationWarning: inspect.getargspec() is deprecated, use inspect.signature() instead\n",
      "  self.parser.feed(markup)\n",
      "c:\\users\\inves\\appdata\\local\\programs\\python\\python35\\lib\\site-packages\\bs4\\builder\\_lxml.py:250: DeprecationWarning: inspect.getargspec() is deprecated, use inspect.signature() instead\n",
      "  self.parser.feed(markup)\n",
      "c:\\users\\inves\\appdata\\local\\programs\\python\\python35\\lib\\site-packages\\bs4\\builder\\_lxml.py:250: DeprecationWarning: inspect.getargspec() is deprecated, use inspect.signature() instead\n",
      "  self.parser.feed(markup)\n"
     ]
    },
    {
     "name": "stdout",
     "output_type": "stream",
     "text": [
      "current docket text table size/shape: (3244, 4)\n",
      "docket text 0\n",
      "COMPLAINT against Cardiogenics Holdings, Inc. filing fee $ 400, receipt number 0207-8445206 Was the Disclosure Statement on Civil Cover Sheet completed -YES,, filed by LG Capital Funding, LLC. (Steinmetz, Michael) (Additional attachment(s) added on 3/11/2016: # 1 Civil Cover Sheet, # 2 Proposed Summons) (Bowens, Priscilla). (Entered: 03/10/2016) \n",
      "\n",
      "docket text 1\n",
      "Case assigned to Judge Ann M Donnelly and Magistrate Judge Vera M. Scanlon. Please download and review the Individual Practices of the assigned Judges, located on our website. Attorneys are responsible for providing courtesy copies to judges where their Individual Practices require such. (Bowens, Priscilla) (Entered: 03/11/2016) \n",
      "\n",
      "docket text 2\n",
      "Summons Issued as to Cardiogenics Holdings, Inc.. (Bowens, Priscilla) (Entered: 03/11/2016) \n",
      "\n",
      "docket text 3\n",
      "NOTICE - emailed attorney regarding missing second page of the civil cover sheet. (Bowens, Priscilla) (Entered: 03/11/2016) \n",
      "\n",
      "docket text 4\n",
      "In accordance with Rule 73 of the Federal Rules of Civil Procedure and Local Rule 73.1, the parties are notified that if all parties consent a United States magistrate judge of this court is available to conduct all proceedings in this civil action including a (jury or nonjury) trial and to order the entry of a final judgment. Attached to the Notice is a blank copy of the consent form that should be filled out, signed and filed electronically only if all parties wish to consent. The form may also be accessed at the following link: http://www.uscourts.gov/uscourts/FormsAndFees/Forms/AO085.pdf. You may withhold your consent without adverse substantive consequences. Do NOT return or file the consent unless all parties have signed the consent. (Bowens, Priscilla) (Entered: 03/11/2016) \n",
      "\n"
     ]
    }
   ],
   "source": [
    "df = grab_dockets()\n",
    "docket_original = list(df['Docket Text'])\n",
    "for i in range(5):\n",
    "    print('docket text {}'.format(i))\n",
    "    print(docket_original[i], '\\n')"
   ]
  },
  {
   "cell_type": "code",
   "execution_count": 143,
   "metadata": {},
   "outputs": [
    {
     "name": "stdout",
     "output_type": "stream",
     "text": [
      "Wall time: 1h 36min 51s\n"
     ]
    }
   ],
   "source": [
    "%%time\n",
    "path_to_model = r'C:\\Users\\inves\\AppData\\Local\\Programs\\Python\\Python35\\Lib\\site-packages\\nltk\\stanford-ner-2018-02-27\\classifiers\\english.all.3class.distsim.crf.ser.gz'\n",
    "path_to_jar = r'C:\\Users\\inves\\AppData\\Local\\Programs\\Python\\Python35\\Lib\\site-packages\\nltk\\stanford-ner-2018-02-27\\stanford-ner.jar'\n",
    "tagger = StanfordNERTagger(path_to_model, path_to_jar = path_to_jar)\n",
    "\n",
    "output = []\n",
    "#length = 100 \n",
    "length = len(docket_original)\n",
    "for i in range(length):\n",
    "    org_str = []\n",
    "    name_str = []\n",
    "    stripped_str1 = []\n",
    "    stripped_str2 = []\n",
    "    tokens = nltk.tokenize.word_tokenize(docket_original[i])\n",
    "    for label in tagger.tag(tokens):\n",
    "        #print(label)\n",
    "        if label[1] == 'ORGANIZATION':\n",
    "            org_str.append(label[0])\n",
    "            stripped_str1.append('-ORG-')\n",
    "        elif label[1] == 'PERSON':\n",
    "            name_str.append(label[0])\n",
    "            stripped_str1.append('-NAME-')\n",
    "        else:\n",
    "            stripped_str1.append(label[0])\n",
    "            stripped_str2.append(label[0])\n",
    "    \n",
    "    output.append([docket_original[i],\n",
    "                   ' '.join(org_str),\n",
    "                   ' '.join(name_str),\n",
    "                   ' '.join(stripped_str1),\n",
    "                   ' '.join(stripped_str2)])\n",
    "    \n",
    "new_df = pd.DataFrame(output, columns = ['Original Text', 'Org Part', 'Name Part', 'Stripped Txt', 'RTW Txt'])"
   ]
  },
  {
   "cell_type": "code",
   "execution_count": 144,
   "metadata": {},
   "outputs": [
    {
     "name": "stdout",
     "output_type": "stream",
     "text": [
      "                                       Original Text  \\\n",
      "0  COMPLAINT against Cardiogenics Holdings, Inc. ...   \n",
      "1  Case assigned to Judge Ann M Donnelly and Magi...   \n",
      "2  Summons Issued as to Cardiogenics Holdings, In...   \n",
      "3  NOTICE - emailed attorney regarding missing se...   \n",
      "4  In accordance with Rule 73 of the Federal Rule...   \n",
      "\n",
      "                                          Org Part  \\\n",
      "0  Cardiogenics Holdings , Inc. LG Capital Funding   \n",
      "1      Individual Practices of the assigned Judges   \n",
      "2                            Cardiogenics Holdings   \n",
      "3                                                    \n",
      "4                                                    \n",
      "\n",
      "                                         Name Part  \\\n",
      "0             ( Steinmetz Michael Bowens Priscilla   \n",
      "1  Ann M Donnelly Vera M. Scanlon Bowens Priscilla   \n",
      "2                                 Bowens Priscilla   \n",
      "3                                 Bowens Priscilla   \n",
      "4                                 Bowens Priscilla   \n",
      "\n",
      "                                        Stripped Txt  \\\n",
      "0  COMPLAINT against -ORG- -ORG- -ORG- -ORG- fili...   \n",
      "1  Case assigned to Judge -NAME- -NAME- -NAME- an...   \n",
      "2  Summons Issued as to -ORG- -ORG- , Inc.. ( -NA...   \n",
      "3  NOTICE - emailed attorney regarding missing se...   \n",
      "4  In accordance with Rule 73 of the Federal Rule...   \n",
      "\n",
      "                                             RTW Txt  \n",
      "0  COMPLAINT against filing fee $ 400 , receipt n...  \n",
      "1  Case assigned to Judge and Magistrate Judge . ...  \n",
      "2  Summons Issued as to , Inc.. ( , ) ( Entered :...  \n",
      "3  NOTICE - emailed attorney regarding missing se...  \n",
      "4  In accordance with Rule 73 of the Federal Rule...  \n"
     ]
    }
   ],
   "source": [
    "print(new_df.head())\n",
    "docket_text_list = list(new_df['RTW Txt'])"
   ]
  },
  {
   "cell_type": "code",
   "execution_count": 145,
   "metadata": {},
   "outputs": [],
   "source": [
    "def text_preprocess1(text):\n",
    "    text = text.replace('-', '')\n",
    "    text = text.replace('(', ' ')\n",
    "    text = text.replace(')', ' ')\n",
    "    text = text.replace('(s)', 's')\n",
    "    text = text.replace('*', '')\n",
    "    return text\n",
    "\n",
    "def text_preprocess2(text):\n",
    "    text = text.replace('.', '')\n",
    "    return text\n",
    "\n",
    "def remove_stop(sentence):\n",
    "    output = []\n",
    "    for word in sentence.split():\n",
    "        if word not in set(stopwords.words('english')):\n",
    "            output.append(word)\n",
    "    return ' '.join(output)\n",
    "\n",
    "keywords = pd.read_csv('docket_texts/keywords.csv', header = None)\n",
    "keywords.columns = ['keywords']\n",
    "keyword_list = list(keywords['keywords'])"
   ]
  },
  {
   "cell_type": "code",
   "execution_count": 146,
   "metadata": {},
   "outputs": [
    {
     "name": "stdout",
     "output_type": "stream",
     "text": [
      "case assigned to judge and magistrate judge . please download and review the , located on our website . attorneys are responsible for providing courtesy copies to judges where their individual practices require such .   ,     entered : 03112016  \n",
      "3244\n"
     ]
    }
   ],
   "source": [
    "docket_text_list = [text_preprocess1(sentence).lower() for sentence in docket_text_list]\n",
    "print(docket_text_list[1])\n",
    "print(len(docket_text_list))"
   ]
  },
  {
   "cell_type": "code",
   "execution_count": 147,
   "metadata": {},
   "outputs": [],
   "source": [
    "class Splitter(object):\n",
    "\n",
    "    def __init__(self):\n",
    "        self.splitter = nltk.data.load('tokenizers/punkt/english.pickle')\n",
    "        self.tokenizer = nltk.tokenize.TreebankWordTokenizer()\n",
    "\n",
    "    def split(self,text):\n",
    "\n",
    "        # split into single sentence\n",
    "        sentences = self.splitter.tokenize(text)\n",
    "        # tokenization in each sentences\n",
    "        tokens = [self.tokenizer.tokenize(remove_stop(sent)) for sent in sentences]\n",
    "        return tokens\n",
    "\n",
    "\n",
    "class LemmatizationWithPOSTagger(object):\n",
    "    def __init__(self):\n",
    "        pass\n",
    "    def get_wordnet_pos(self,treebank_tag):\n",
    "        \"\"\"\n",
    "        return WORDNET POS compliance to WORDENT lemmatization (a,n,r,v) \n",
    "        \"\"\"\n",
    "        if treebank_tag.startswith('J'):\n",
    "            return wordnet.ADJ\n",
    "        elif treebank_tag.startswith('V'):\n",
    "            return wordnet.VERB\n",
    "        elif treebank_tag.startswith('N'):\n",
    "            return wordnet.NOUN\n",
    "        elif treebank_tag.startswith('R'):\n",
    "            return wordnet.ADV\n",
    "        else:\n",
    "            # As default pos in lemmatization is Noun\n",
    "            return wordnet.NOUN\n",
    "\n",
    "    def pos_tag(self,tokens):\n",
    "        # find the pos tagginf for each tokens [('What', 'WP'), ('can', 'MD'), ('I', 'PRP') ....\n",
    "        pos_tokens = [nltk.pos_tag(token) for token in tokens]\n",
    "\n",
    "        # lemmatization using pos tagg   \n",
    "        # convert into feature set of [('What', 'What', ['WP']), ('can', 'can', ['MD']), ... ie [original WORD, Lemmatized word, POS tag]\n",
    "        pos_tokens = [ [(word, lemmatizer.lemmatize(word,self.get_wordnet_pos(pos_tag)), [pos_tag]) for (word,pos_tag) in pos] for pos in pos_tokens]\n",
    "        return pos_tokens"
   ]
  },
  {
   "cell_type": "code",
   "execution_count": 148,
   "metadata": {},
   "outputs": [
    {
     "name": "stdout",
     "output_type": "stream",
     "text": [
      "Wall time: 2min 4s\n"
     ]
    }
   ],
   "source": [
    "%%time\n",
    "lemmatizer = WordNetLemmatizer()\n",
    "splitter = Splitter()\n",
    "lemmatization_using_pos_tagger = LemmatizationWithPOSTagger()\n",
    "\n",
    "lemma_docket_text_list = []\n",
    "for docket_text in docket_text_list:\n",
    "    #step 1 split document into sentence followed by tokenization\n",
    "    tokens = splitter.split(docket_text)\n",
    "\n",
    "    #step 2 lemmatization using pos tagger \n",
    "    lemma_pos_token = lemmatization_using_pos_tagger.pos_tag(tokens)\n",
    "    lemma_docket_text_list.append(lemma_pos_token)"
   ]
  },
  {
   "cell_type": "code",
   "execution_count": 149,
   "metadata": {},
   "outputs": [
    {
     "name": "stdout",
     "output_type": "stream",
     "text": [
      "3244\n",
      "3\n",
      "22\n",
      "('complaint', 'complaint', ['NN'])\n",
      "complaint\n"
     ]
    }
   ],
   "source": [
    "print(len(lemma_docket_text_list)) #docket text document level\n",
    "print(len(lemma_docket_text_list[0])) #docket text sentence level\n",
    "print(len(lemma_docket_text_list[0][0])) #docket text word level\n",
    "print(lemma_docket_text_list[0][0][0]) #docket text token level\n",
    "print(lemma_docket_text_list[0][0][0][0]) #docket text tuple level"
   ]
  },
  {
   "cell_type": "code",
   "execution_count": 150,
   "metadata": {},
   "outputs": [],
   "source": [
    "#lets do a collection of what we have\n",
    "collection = {}\n",
    "for lemma_pos_token in lemma_docket_text_list:\n",
    "    for sentence in lemma_pos_token:\n",
    "        for token in sentence:\n",
    "            #print(token[2][0])\n",
    "            if token[2][0] not in list(collection.keys()):\n",
    "                collection[token[2][0]] = []\n",
    "                collection[token[2][0]].append(token[1])\n",
    "            else:\n",
    "                if token[1] not in collection[token[2][0]]:\n",
    "                    collection[token[2][0]].append(token[1])"
   ]
  },
  {
   "cell_type": "code",
   "execution_count": 153,
   "metadata": {},
   "outputs": [],
   "source": [
    "pd.DataFrame(dict([ (k, pd.Series(v)) for k, v in collection.items()])).to_csv('NLP_pos.csv', index = False)"
   ]
  },
  {
   "cell_type": "code",
   "execution_count": 175,
   "metadata": {},
   "outputs": [
    {
     "name": "stdout",
     "output_type": "stream",
     "text": [
      "[['complaint file fee receipt number disclosure statement civil cover sheet complete yes file llc .', 'additional attachment add civil cover sheet proposed summons .', 'enter'], ['case assign judge magistrate judge .', 'please download review locate website .', 'attorney responsible provide courtesy copy judge individual practice require .', 'enter'], ['summons issue inc.. enter'], ['notice email attorney regard miss second page civil cover sheet .', 'enter'], ['accordance rule federal rule civil procedure local rule party notify party consent united state magistrate judge court available conduct proceeding civil action include jury nonjury trial order entry final judgment .', 'attach notice blank copy consent form fill sign file electronically party wish consent .', 'form may also access follow link http www.uscourts.govuscourtsformsandfeesformsao085.pdf .', 'may withhold consent without adverse substantive consequence .', 'return file consent unless party sign consent .', 'enter'], ['attorney case open filing check quality control .', 'see attachment correction make .', 'enter'], ['notice appearance behalf llc aty notice kehrli enter'], ['exhibit backend note llc .', 'related document complaint file llc .', 'enter'], ['exhibit b ta letter llc .', 'related document complaint file llc .', 'enter'], ['exhibit c notice conversion llc .', 'related document complaint file llc .', 'enter']]\n",
      "Wall time: 61.8 ms\n"
     ]
    }
   ],
   "source": [
    "%%time\n",
    "remove_pos = [\"``\", \"NNPS\", \"NNP\", \"CD\", '#', '$', \"''\", \",\", \"0\", \":\"]\n",
    "#rebuild corpus\n",
    "docket_texts_output = [] #ultimate output after cleaning\n",
    "\n",
    "for lemma_pos_token in lemma_docket_text_list:\n",
    "    docket_text_output = [] \n",
    "    for sentence in lemma_pos_token:\n",
    "        sentence_output = []\n",
    "        for token in sentence:\n",
    "            if token[2][0] not in remove_pos: #if the pos is not in the remove_pos list\n",
    "                sentence_output.append(token[1]) #append the the sentence\n",
    "        docket_text_output.append(' '.join(sentence_output))\n",
    "    docket_texts_output.append(docket_text_output)\n",
    "print(docket_texts_output[:10])"
   ]
  },
  {
   "cell_type": "code",
   "execution_count": 179,
   "metadata": {},
   "outputs": [
    {
     "data": {
      "text/html": [
       "<div>\n",
       "<table border=\"1\" class=\"dataframe\">\n",
       "  <thead>\n",
       "    <tr style=\"text-align: right;\">\n",
       "      <th></th>\n",
       "      <th>Original Text</th>\n",
       "      <th>Org Part</th>\n",
       "      <th>Name Part</th>\n",
       "      <th>Stripped Txt</th>\n",
       "      <th>RTW Txt</th>\n",
       "      <th>POS treat</th>\n",
       "    </tr>\n",
       "  </thead>\n",
       "  <tbody>\n",
       "    <tr>\n",
       "      <th>0</th>\n",
       "      <td>COMPLAINT against Cardiogenics Holdings, Inc. ...</td>\n",
       "      <td>Cardiogenics Holdings , Inc. LG Capital Funding</td>\n",
       "      <td>( Steinmetz Michael Bowens Priscilla</td>\n",
       "      <td>COMPLAINT against -ORG- -ORG- -ORG- -ORG- fili...</td>\n",
       "      <td>COMPLAINT against filing fee $ 400 , receipt n...</td>\n",
       "      <td>[complaint file fee receipt number disclosure ...</td>\n",
       "    </tr>\n",
       "    <tr>\n",
       "      <th>1</th>\n",
       "      <td>Case assigned to Judge Ann M Donnelly and Magi...</td>\n",
       "      <td>Individual Practices of the assigned Judges</td>\n",
       "      <td>Ann M Donnelly Vera M. Scanlon Bowens Priscilla</td>\n",
       "      <td>Case assigned to Judge -NAME- -NAME- -NAME- an...</td>\n",
       "      <td>Case assigned to Judge and Magistrate Judge . ...</td>\n",
       "      <td>[case assign judge magistrate judge ., please ...</td>\n",
       "    </tr>\n",
       "    <tr>\n",
       "      <th>2</th>\n",
       "      <td>Summons Issued as to Cardiogenics Holdings, In...</td>\n",
       "      <td>Cardiogenics Holdings</td>\n",
       "      <td>Bowens Priscilla</td>\n",
       "      <td>Summons Issued as to -ORG- -ORG- , Inc.. ( -NA...</td>\n",
       "      <td>Summons Issued as to , Inc.. ( , ) ( Entered :...</td>\n",
       "      <td>[summons issue inc.. enter]</td>\n",
       "    </tr>\n",
       "    <tr>\n",
       "      <th>3</th>\n",
       "      <td>NOTICE - emailed attorney regarding missing se...</td>\n",
       "      <td></td>\n",
       "      <td>Bowens Priscilla</td>\n",
       "      <td>NOTICE - emailed attorney regarding missing se...</td>\n",
       "      <td>NOTICE - emailed attorney regarding missing se...</td>\n",
       "      <td>[notice email attorney regard miss second page...</td>\n",
       "    </tr>\n",
       "    <tr>\n",
       "      <th>4</th>\n",
       "      <td>In accordance with Rule 73 of the Federal Rule...</td>\n",
       "      <td></td>\n",
       "      <td>Bowens Priscilla</td>\n",
       "      <td>In accordance with Rule 73 of the Federal Rule...</td>\n",
       "      <td>In accordance with Rule 73 of the Federal Rule...</td>\n",
       "      <td>[accordance rule federal rule civil procedure ...</td>\n",
       "    </tr>\n",
       "  </tbody>\n",
       "</table>\n",
       "</div>"
      ],
      "text/plain": [
       "                                       Original Text  \\\n",
       "0  COMPLAINT against Cardiogenics Holdings, Inc. ...   \n",
       "1  Case assigned to Judge Ann M Donnelly and Magi...   \n",
       "2  Summons Issued as to Cardiogenics Holdings, In...   \n",
       "3  NOTICE - emailed attorney regarding missing se...   \n",
       "4  In accordance with Rule 73 of the Federal Rule...   \n",
       "\n",
       "                                          Org Part  \\\n",
       "0  Cardiogenics Holdings , Inc. LG Capital Funding   \n",
       "1      Individual Practices of the assigned Judges   \n",
       "2                            Cardiogenics Holdings   \n",
       "3                                                    \n",
       "4                                                    \n",
       "\n",
       "                                         Name Part  \\\n",
       "0             ( Steinmetz Michael Bowens Priscilla   \n",
       "1  Ann M Donnelly Vera M. Scanlon Bowens Priscilla   \n",
       "2                                 Bowens Priscilla   \n",
       "3                                 Bowens Priscilla   \n",
       "4                                 Bowens Priscilla   \n",
       "\n",
       "                                        Stripped Txt  \\\n",
       "0  COMPLAINT against -ORG- -ORG- -ORG- -ORG- fili...   \n",
       "1  Case assigned to Judge -NAME- -NAME- -NAME- an...   \n",
       "2  Summons Issued as to -ORG- -ORG- , Inc.. ( -NA...   \n",
       "3  NOTICE - emailed attorney regarding missing se...   \n",
       "4  In accordance with Rule 73 of the Federal Rule...   \n",
       "\n",
       "                                             RTW Txt  \\\n",
       "0  COMPLAINT against filing fee $ 400 , receipt n...   \n",
       "1  Case assigned to Judge and Magistrate Judge . ...   \n",
       "2  Summons Issued as to , Inc.. ( , ) ( Entered :...   \n",
       "3  NOTICE - emailed attorney regarding missing se...   \n",
       "4  In accordance with Rule 73 of the Federal Rule...   \n",
       "\n",
       "                                           POS treat  \n",
       "0  [complaint file fee receipt number disclosure ...  \n",
       "1  [case assign judge magistrate judge ., please ...  \n",
       "2                        [summons issue inc.. enter]  \n",
       "3  [notice email attorney regard miss second page...  \n",
       "4  [accordance rule federal rule civil procedure ...  "
      ]
     },
     "execution_count": 179,
     "metadata": {},
     "output_type": "execute_result"
    }
   ],
   "source": [
    "new_df['POS treat'] = pd.Series(docket_texts_output)\n",
    "new_df.head()"
   ]
  },
  {
   "cell_type": "code",
   "execution_count": 180,
   "metadata": {},
   "outputs": [],
   "source": [
    "unigram_sentences_filepath = 'docket_texts/unigram_nltk_noorgnoname.txt'"
   ]
  },
  {
   "cell_type": "code",
   "execution_count": 181,
   "metadata": {},
   "outputs": [
    {
     "name": "stdout",
     "output_type": "stream",
     "text": [
      "Wall time: 22.1 ms\n"
     ]
    }
   ],
   "source": [
    "%%time\n",
    "# turn the lemmatized corpus into unigram sentences\n",
    "with codecs.open(unigram_sentences_filepath, 'w', encoding = 'utf_8') as f:\n",
    "    for docket_text in docket_texts_output:\n",
    "        for sentence in docket_text:\n",
    "            f.write(sentence + '\\n')"
   ]
  },
  {
   "cell_type": "code",
   "execution_count": 183,
   "metadata": {},
   "outputs": [],
   "source": [
    "unigram_sentences = LineSentence(unigram_sentences_filepath)"
   ]
  },
  {
   "cell_type": "code",
   "execution_count": 184,
   "metadata": {},
   "outputs": [
    {
     "name": "stdout",
     "output_type": "stream",
     "text": [
      "original text:\n",
      "['complaint file fee receipt number disclosure statement civil cover sheet complete yes file llc .', 'additional attachment add civil cover sheet proposed summons .', 'enter']\n",
      "\n",
      "unigram_sentence:\n",
      "complaint file fee receipt number disclosure statement civil cover sheet complete yes file llc .\n",
      "\n",
      "additional attachment add civil cover sheet proposed summons .\n",
      "\n",
      "enter\n",
      "\n",
      "case assign judge magistrate judge .\n",
      "\n",
      "please download review locate website .\n",
      "\n",
      "attorney responsible provide courtesy copy judge individual practice require .\n",
      "\n",
      "enter\n",
      "\n",
      "summons issue inc.. enter\n",
      "\n",
      "notice email attorney regard miss second page civil cover sheet .\n",
      "\n",
      "enter\n",
      "\n"
     ]
    }
   ],
   "source": [
    "#let's do some comparision between the original text and unigram sentences, shouldn't be that different.\n",
    "print('original text:')\n",
    "print(new_df['POS treat'].iloc[0])\n",
    "#print(df['Docket Text'].iloc[1])\n",
    "\n",
    "print('\\nunigram_sentence:')\n",
    "for unigram_sentence in it.islice(unigram_sentences, 0, 10):\n",
    "    print(' '.join(unigram_sentence))\n",
    "    print('')"
   ]
  },
  {
   "cell_type": "code",
   "execution_count": 185,
   "metadata": {},
   "outputs": [],
   "source": [
    "bigram_model_filepath = 'docket_texts/bigram_model_noorgnoname' "
   ]
  },
  {
   "cell_type": "code",
   "execution_count": 187,
   "metadata": {},
   "outputs": [
    {
     "name": "stdout",
     "output_type": "stream",
     "text": [
      "Wall time: 206 ms\n"
     ]
    }
   ],
   "source": [
    "%%time\n",
    "\n",
    "# store our bigram model\n",
    "bigram_model = Phrases(unigram_sentences)\n",
    "bigram_model.save(bigram_model_filepath)\n",
    "    \n",
    "# load the finished model from disk if we don't want to run this again\n",
    "#bigram_model = Phrases.load(bigram_model_filepath)"
   ]
  },
  {
   "cell_type": "code",
   "execution_count": 188,
   "metadata": {},
   "outputs": [],
   "source": [
    "bigram_sentences_filepath = 'docket_texts/bigram_sentences_noorgnoname.txt'"
   ]
  },
  {
   "cell_type": "code",
   "execution_count": 189,
   "metadata": {},
   "outputs": [
    {
     "name": "stderr",
     "output_type": "stream",
     "text": [
      "c:\\users\\inves\\appdata\\local\\programs\\python\\python35\\lib\\site-packages\\gensim\\models\\phrases.py:494: UserWarning: For a faster implementation, use the gensim.models.phrases.Phraser class\n",
      "  warnings.warn(\"For a faster implementation, use the gensim.models.phrases.Phraser class\")\n"
     ]
    },
    {
     "name": "stdout",
     "output_type": "stream",
     "text": [
      "Wall time: 567 ms\n"
     ]
    }
   ],
   "source": [
    "%%time\n",
    "\n",
    "# apply the bigram model, and write it to file\n",
    "with codecs.open(bigram_sentences_filepath, 'w', encoding = 'utf_8') as f:\n",
    "    for unigram_sentence in unigram_sentences:\n",
    "        bigram_sentence = ' '.join(bigram_model[unigram_sentence])\n",
    "        f.write(bigram_sentence + '\\n')"
   ]
  },
  {
   "cell_type": "code",
   "execution_count": 190,
   "metadata": {},
   "outputs": [
    {
     "name": "stdout",
     "output_type": "stream",
     "text": [
      "unigram length = 11502, bigram length = 11502\n"
     ]
    }
   ],
   "source": [
    "bigram_sentences = LineSentence(bigram_sentences_filepath)\n",
    "print('unigram length = {}, bigram length = {}'.format(len(list(unigram_sentences)), len(list(bigram_sentences))))"
   ]
  },
  {
   "cell_type": "code",
   "execution_count": 226,
   "metadata": {},
   "outputs": [
    {
     "name": "stdout",
     "output_type": "stream",
     "text": [
      "original text:\n",
      "['complaint file fee receipt number disclosure statement civil cover sheet complete yes file llc .', 'additional attachment add civil cover sheet proposed summons .', 'enter']\n",
      "['case assign judge magistrate judge .', 'please download review locate website .', 'attorney responsible provide courtesy copy judge individual practice require .', 'enter']\n",
      "\n",
      "unigram sentence:\n",
      "complaint file fee receipt number disclosure statement civil cover sheet complete yes file llc .\n",
      "additional attachment add civil cover sheet proposed summons .\n",
      "enter\n",
      "case assign judge magistrate judge .\n",
      "please download review locate website .\n",
      "attorney responsible provide courtesy copy judge individual practice require .\n",
      "enter\n",
      "summons issue inc.. enter\n",
      "notice email attorney regard miss second page civil cover sheet .\n",
      "enter\n",
      "\n",
      "bigram sentence:\n",
      "complaint file fee_receipt number disclosure_statement civil_cover sheet complete_yes file llc .\n",
      "additional attachment_add civil_cover sheet proposed summons .\n",
      "enter\n",
      "case assign judge magistrate_judge .\n",
      "please_download review_locate website .\n",
      "attorney_responsible provide_courtesy copy judge individual_practice require .\n",
      "enter\n",
      "summons_issue inc.. enter\n",
      "notice email attorney regard miss second page civil_cover sheet .\n",
      "enter\n"
     ]
    }
   ],
   "source": [
    "#original v. unigram v. bigram. Some phrases should be combined already\n",
    "start = 0\n",
    "finish = 10\n",
    "print('original text:')\n",
    "print(new_df['POS treat'].iloc[0])\n",
    "print(new_df['POS treat'].iloc[1])\n",
    "\n",
    "print('\\nunigram sentence:')\n",
    "for unigram_sentence in it.islice(unigram_sentences, 0, 10):\n",
    "    print(' '.join(unigram_sentence))\n",
    "print('\\nbigram sentence:')\n",
    "for bigram_sentence in it.islice(bigram_sentences, start, finish):\n",
    "    print(' '.join(bigram_sentence))"
   ]
  },
  {
   "cell_type": "code",
   "execution_count": 227,
   "metadata": {},
   "outputs": [],
   "source": [
    "trigram_model_filepath = 'docket_texts/trigram_model_nonamenoorg'"
   ]
  },
  {
   "cell_type": "code",
   "execution_count": 260,
   "metadata": {},
   "outputs": [
    {
     "name": "stdout",
     "output_type": "stream",
     "text": [
      "Wall time: 213 ms\n"
     ]
    }
   ],
   "source": [
    "%%time\n",
    "\n",
    "# again, using Phrases to attach more words to phrases already formed\n",
    "trigram_model = Phrases(bigram_sentences)\n",
    "trigram_model.save(trigram_model_filepath)\n",
    "\n",
    "# load the finished model from disk\n",
    "#trigram_model = Phrases.load(trigram_model_filepath)"
   ]
  },
  {
   "cell_type": "code",
   "execution_count": 261,
   "metadata": {},
   "outputs": [],
   "source": [
    "trigram_sentences_filepath = 'docket_texts/trigram_sentences_nonamenoorg.txt'"
   ]
  },
  {
   "cell_type": "code",
   "execution_count": 263,
   "metadata": {},
   "outputs": [
    {
     "name": "stderr",
     "output_type": "stream",
     "text": [
      "c:\\users\\inves\\appdata\\local\\programs\\python\\python35\\lib\\site-packages\\gensim\\models\\phrases.py:494: UserWarning: For a faster implementation, use the gensim.models.phrases.Phraser class\n",
      "  warnings.warn(\"For a faster implementation, use the gensim.models.phrases.Phraser class\")\n"
     ]
    },
    {
     "name": "stdout",
     "output_type": "stream",
     "text": [
      "Wall time: 455 ms\n"
     ]
    }
   ],
   "source": [
    "%%time\n",
    "\n",
    "with codecs.open(trigram_sentences_filepath, 'w', encoding = 'utf_8') as f:\n",
    "    for bigram_sentence in bigram_sentences:\n",
    "        #print('Bi', bigram_sentence)\n",
    "        trigram_sentence = ' '.join(trigram_model[bigram_sentence])\n",
    "        #print('Tri', trigram_sentence)\n",
    "        f.write(trigram_sentence + '\\n')"
   ]
  },
  {
   "cell_type": "code",
   "execution_count": 264,
   "metadata": {},
   "outputs": [],
   "source": [
    "trigram_sentences = LineSentence(trigram_sentences_filepath)"
   ]
  },
  {
   "cell_type": "code",
   "execution_count": 265,
   "metadata": {},
   "outputs": [
    {
     "name": "stdout",
     "output_type": "stream",
     "text": [
      "original text:\n",
      "['complaint file fee receipt number disclosure statement civil cover sheet complete yes file llc .', 'additional attachment add civil cover sheet proposed summons .', 'enter'] \n",
      "\n",
      "['case assign judge magistrate judge .', 'please download review locate website .', 'attorney responsible provide courtesy copy judge individual practice require .', 'enter'] \n",
      "\n",
      "['summons issue inc.. enter'] \n",
      "\n",
      "['notice email attorney regard miss second page civil cover sheet .', 'enter'] \n",
      "\n",
      "\n",
      "UNIGRAM Sentence:\n",
      "complaint file fee receipt number disclosure statement civil cover sheet complete yes file llc .\n",
      "additional attachment add civil cover sheet proposed summons .\n",
      "enter\n",
      "case assign judge magistrate judge .\n",
      "please download review locate website .\n",
      "attorney responsible provide courtesy copy judge individual practice require .\n",
      "enter\n",
      "summons issue inc.. enter\n",
      "notice email attorney regard miss second page civil cover sheet .\n",
      "enter\n",
      "accordance rule federal rule civil procedure local rule party notify party consent united state magistrate judge court available conduct proceeding civil action include jury nonjury trial order entry final judgment .\n",
      "attach notice blank copy consent form fill sign file electronically party wish consent .\n",
      "form may also access follow link http www.uscourts.govuscourtsformsandfeesformsao085.pdf .\n",
      "may withhold consent without adverse substantive consequence .\n",
      "return file consent unless party sign consent .\n",
      "\n",
      "BIGRAM Sentence:\n",
      "complaint file fee_receipt number disclosure_statement civil_cover sheet complete_yes file llc .\n",
      "additional attachment_add civil_cover sheet proposed summons .\n",
      "enter\n",
      "case assign judge magistrate_judge .\n",
      "please_download review_locate website .\n",
      "attorney_responsible provide_courtesy copy judge individual_practice require .\n",
      "enter\n",
      "summons_issue inc.. enter\n",
      "notice email attorney regard miss second page civil_cover sheet .\n",
      "enter\n",
      "accordance rule_federal rule_civil procedure_local rule party notify party consent united_state magistrate_judge court available_conduct proceeding civil action include jury_nonjury trial order entry final judgment .\n",
      "attach notice blank copy consent form_fill sign file electronically party_wish consent .\n",
      "form may also_access follow_link http_www.uscourts.govuscourtsformsandfeesformsao085.pdf .\n",
      "may_withhold consent without_adverse substantive_consequence .\n",
      "return file consent_unless party sign consent .\n",
      "\n",
      "TRIGRAM Sentence:\n",
      "complaint file fee_receipt_number disclosure_statement_civil_cover sheet_complete_yes file llc .\n",
      "additional_attachment_add civil_cover_sheet proposed summons .\n",
      "enter\n",
      "case_assign judge magistrate_judge .\n",
      "please_download_review_locate website .\n",
      "attorney_responsible_provide_courtesy copy judge_individual_practice require .\n",
      "enter\n",
      "summons_issue inc.. enter\n",
      "notice email attorney regard miss second page civil_cover_sheet .\n",
      "enter\n",
      "accordance_rule_federal rule_civil_procedure_local rule party notify party consent united_state_magistrate_judge court available_conduct_proceeding civil_action include_jury_nonjury trial order entry_final judgment .\n",
      "attach notice blank_copy consent_form_fill sign file electronically_party_wish consent .\n",
      "form may_also_access follow_link_http_www.uscourts.govuscourtsformsandfeesformsao085.pdf .\n",
      "may_withhold_consent without_adverse_substantive_consequence .\n",
      "return file consent_unless party sign consent .\n"
     ]
    }
   ],
   "source": [
    "start = 0\n",
    "finish = 15\n",
    "print('original text:')\n",
    "print(new_df['POS treat'].iloc[0],'\\n')\n",
    "print(new_df['POS treat'].iloc[1],'\\n')\n",
    "print(new_df['POS treat'].iloc[2],'\\n')\n",
    "print(new_df['POS treat'].iloc[3],'\\n')\n",
    "\n",
    "print('\\nUNIGRAM Sentence:')\n",
    "for unigram_sentence in it.islice(unigram_sentences, start, finish):\n",
    "    print(' '.join(unigram_sentence))\n",
    "print('\\nBIGRAM Sentence:')\n",
    "for bigram_sentence in it.islice(bigram_sentences, start, finish):\n",
    "    print(' '.join(bigram_sentence))\n",
    "print('\\nTRIGRAM Sentence:')\n",
    "for trigram_sentence in it.islice(trigram_sentences, start, finish):\n",
    "    print(' '.join(trigram_sentence))"
   ]
  },
  {
   "cell_type": "code",
   "execution_count": 284,
   "metadata": {},
   "outputs": [],
   "source": [
    "def trigram_transform(texts):\n",
    "    trigram_output = []\n",
    "    #print(texts)\n",
    "    \n",
    "    for sentence in texts:\n",
    "        unigram_review = []\n",
    "        for word in sentence.split():\n",
    "            unigram_review.append(word)\n",
    "    \n",
    "        #print('Uni: ', unigram_review)\n",
    "        bigram_review = bigram_model[unigram_review]\n",
    "        #print('Bi: ', bigram_review)\n",
    "        trigram_review = trigram_model[bigram_review]\n",
    "        #print('Tri: ', trigram_review)\n",
    "        trigram_output.append(' '.join(trigram_review))\n",
    "    return trigram_output"
   ]
  },
  {
   "cell_type": "code",
   "execution_count": 287,
   "metadata": {},
   "outputs": [
    {
     "name": "stderr",
     "output_type": "stream",
     "text": [
      "c:\\users\\inves\\appdata\\local\\programs\\python\\python35\\lib\\site-packages\\gensim\\models\\phrases.py:494: UserWarning: For a faster implementation, use the gensim.models.phrases.Phraser class\n",
      "  warnings.warn(\"For a faster implementation, use the gensim.models.phrases.Phraser class\")\n"
     ]
    }
   ],
   "source": [
    "new_df['Phrase Model'] = new_df['POS treat'].apply(trigram_transform)"
   ]
  },
  {
   "cell_type": "code",
   "execution_count": 289,
   "metadata": {},
   "outputs": [
    {
     "data": {
      "text/plain": [
       "['complaint file fee_receipt_number disclosure_statement_civil_cover sheet_complete_yes file llc .',\n",
       " 'additional_attachment_add civil_cover_sheet proposed summons .',\n",
       " 'enter']"
      ]
     },
     "execution_count": 289,
     "metadata": {},
     "output_type": "execute_result"
    }
   ],
   "source": [
    "new_df['Phrase Model'].iloc[0]"
   ]
  },
  {
   "cell_type": "code",
   "execution_count": 290,
   "metadata": {},
   "outputs": [],
   "source": [
    "#write trigram to file\n",
    "trigram_dockets_filepath = 'docket_texts/trigram_transformed_dockets_noorgnoname.txt'"
   ]
  },
  {
   "cell_type": "code",
   "execution_count": 299,
   "metadata": {},
   "outputs": [],
   "source": [
    "with codecs.open(trigram_dockets_filepath, 'w', encoding= 'utf_8') as f:\n",
    "    for i in range(len(new_df['Phrase Model'])):\n",
    "        f.write(' '.join(new_df['Phrase Model'][i]) + '\\n')"
   ]
  },
  {
   "cell_type": "code",
   "execution_count": 300,
   "metadata": {},
   "outputs": [],
   "source": [
    "trigram_dictionary_filepath = 'docket_texts/trigram_dict_noorgnoname.dict'"
   ]
  },
  {
   "cell_type": "code",
   "execution_count": 303,
   "metadata": {},
   "outputs": [
    {
     "name": "stdout",
     "output_type": "stream",
     "text": [
      "Wall time: 104 ms\n"
     ]
    }
   ],
   "source": [
    "%%time\n",
    "\n",
    "#some dictionary hyperparameters:\n",
    "no_below = 10 #reference is 10\n",
    "no_above = 0.4 #reference is 0.4\n",
    "\n",
    "trigram_reviews = LineSentence(trigram_dockets_filepath)\n",
    "\n",
    "# learn the dictionary by iterating over all of the reviews\n",
    "trigram_dictionary = Dictionary(trigram_reviews)\n",
    "\n",
    "# filter tokens that are very rare otrigram_reviewsr too common from\n",
    "# the dictionary (filter_extremes) and reassign integer ids (compactify)\n",
    "trigram_dictionary.filter_extremes(no_below = no_below, no_above = no_above) #this step is questionable. May need to change the parameters\n",
    "trigram_dictionary.compactify()\n",
    "\n",
    "trigram_dictionary.save(trigram_dictionary_filepath)\n",
    "    \n",
    "# load the finished dictionary from disk\n",
    "#trigram_dictionary = Dictionary.load(trigram_dictionary_filepath)"
   ]
  },
  {
   "cell_type": "code",
   "execution_count": 305,
   "metadata": {},
   "outputs": [],
   "source": [
    "trigram_bow_filepath = 'docket_texts/trigram_bow_corpus_noorgnoname.mm'"
   ]
  },
  {
   "cell_type": "code",
   "execution_count": 306,
   "metadata": {},
   "outputs": [],
   "source": [
    "def trigram_bow_generator(filepath):\n",
    "    \"\"\"\n",
    "    generator function to read reviews from a file\n",
    "    and yield a bag-of-words representation\n",
    "    \"\"\"\n",
    "    \n",
    "    for review in LineSentence(filepath):\n",
    "        yield trigram_dictionary.doc2bow(review)"
   ]
  },
  {
   "cell_type": "code",
   "execution_count": 307,
   "metadata": {},
   "outputs": [
    {
     "name": "stdout",
     "output_type": "stream",
     "text": [
      "Wall time: 212 ms\n"
     ]
    }
   ],
   "source": [
    "%%time\n",
    "\n",
    "# generate bag-of-words representations for\n",
    "# all reviews and save them as a matrix\n",
    "MmCorpus.serialize(trigram_bow_filepath, trigram_bow_generator(trigram_sentences_filepath))\n",
    "    \n",
    "# load the finished bag-of-words corpus from disk\n",
    "trigram_bow_corpus = MmCorpus(trigram_bow_filepath)"
   ]
  },
  {
   "cell_type": "code",
   "execution_count": 337,
   "metadata": {},
   "outputs": [],
   "source": [
    "def explore_topic(model, topic_number, topn = 10):\n",
    "    topics = []\n",
    "    print('{:20} {}'.format('term', 'frequency') + '\\n')\n",
    "    for term, frequency in model.show_topic(topic_number, topn = topn):\n",
    "        print('{:20} {:.3f}'.format(term, round(frequency, 3)))\n",
    "        topics.append((term, round(frequency, 3)))\n",
    "    return topics"
   ]
  },
  {
   "cell_type": "code",
   "execution_count": 342,
   "metadata": {},
   "outputs": [],
   "source": [
    "def topic_modeling_pipeline(num_topics, model_file_path, trigram_bow_corpus, trigram_dictionary, export = False):\n",
    "\n",
    "    with warnings.catch_warnings():\n",
    "        warnings.simplefilter('ignore')\n",
    "\n",
    "        # workers => sets the parallelism, and should be\n",
    "        # set to your number of physical cores minus one\n",
    "        lda = LdaMulticore(trigram_bow_corpus, num_topics = num_topics, id2word = trigram_dictionary, workers = 4)\n",
    "\n",
    "    lda.save(model_file_path)\n",
    "    \n",
    "    topic_dict = {}\n",
    "    for i in range(num_topics):\n",
    "        print(\"\\n Topic {}'s make-up:\".format(i + 1))\n",
    "        topic_dict[i] = explore_topic(lda, topic_number = i)\n",
    "    \n",
    "    if export:\n",
    "        pd.DataFrame(topic_dict).to_csv(model_file_path + 'topics.csv')\n",
    "    \n",
    "    LDAvis_data_filepath = model_file_path + '_ldavis'\n",
    "    \n",
    "    LDAvis_prepared = pyLDAvis.gensim.prepare(lda, trigram_bow_corpus, trigram_dictionary)\n",
    "\n",
    "    with open(LDAvis_data_filepath, 'wb') as f:\n",
    "        pickle.dump(LDAvis_prepared, f)\n",
    "        \n",
    "    with open(LDAvis_data_filepath, 'rb') as f:\n",
    "        LDAvis_prepared = pickle.load(f)\n",
    "        \n",
    "    return LDAvis_prepared"
   ]
  },
  {
   "cell_type": "code",
   "execution_count": 343,
   "metadata": {},
   "outputs": [
    {
     "name": "stdout",
     "output_type": "stream",
     "text": [
      "\n",
      " Topic 1's make-up:\n",
      "term                 frequency\n",
      "\n",
      "motion               0.066\n",
      "order                0.031\n",
      "notice               0.022\n",
      "'s                   0.020\n",
      "party                0.013\n",
      "sign_judge           0.013\n",
      "court                0.011\n",
      "case                 0.010\n",
      "request              0.009\n",
      "stipulation          0.009\n",
      "\n",
      " Topic 2's make-up:\n",
      "term                 frequency\n",
      "\n",
      "exhibit              0.122\n",
      "order                0.049\n",
      "motion               0.042\n",
      "defendant            0.014\n",
      "shall                0.012\n",
      "letter               0.010\n",
      "attachment           0.009\n",
      "'s                   0.009\n",
      "dismiss              0.008\n",
      "date                 0.008\n",
      "                      0                    1\n",
      "0       (motion, 0.066)     (exhibit, 0.122)\n",
      "1        (order, 0.031)       (order, 0.049)\n",
      "2       (notice, 0.022)      (motion, 0.042)\n",
      "3            ('s, 0.02)   (defendant, 0.014)\n",
      "4        (party, 0.013)       (shall, 0.012)\n",
      "5   (sign_judge, 0.013)       (letter, 0.01)\n",
      "6        (court, 0.011)  (attachment, 0.009)\n",
      "7          (case, 0.01)          ('s, 0.009)\n",
      "8      (request, 0.009)     (dismiss, 0.008)\n",
      "9  (stipulation, 0.009)        (date, 0.008)\n"
     ]
    },
    {
     "data": {
      "text/html": [
       "\n",
       "<link rel=\"stylesheet\" type=\"text/css\" href=\"https://cdn.rawgit.com/bmabey/pyLDAvis/files/ldavis.v1.0.0.css\">\n",
       "\n",
       "\n",
       "<div id=\"ldavis_el1345219840189045526042676527\"></div>\n",
       "<script type=\"text/javascript\">\n",
       "\n",
       "var ldavis_el1345219840189045526042676527_data = {\"tinfo\": {\"loglift\": [30.0, 29.0, 28.0, 27.0, 26.0, 25.0, 24.0, 23.0, 22.0, 21.0, 20.0, 19.0, 18.0, 17.0, 16.0, 15.0, 14.0, 13.0, 12.0, 11.0, 10.0, 9.0, 8.0, 7.0, 6.0, 5.0, 4.0, 3.0, 2.0, 1.0, 0.6498, 0.6247, 0.6181, 0.6032, 0.6008, 0.5867, 0.5839, 0.5664, 0.5655, 0.5469, 0.5467, 0.5417, 0.5377, 0.5358, 0.5262, 0.5224, 0.5193, 0.5094, 0.5041, 0.4937, 0.4908, 0.4836, 0.4826, 0.4745, 0.4716, 0.4703, 0.468, 0.4645, 0.4637, 0.4634, 0.456, 0.4285, 0.4559, 0.4489, 0.4314, 0.4124, 0.4321, 0.3508, 0.2005, 0.408, 0.2945, 0.3635, 0.3111, 0.1977, 0.2998, 0.2836, 0.2494, 0.374, 0.3072, 0.2397, 0.1747, -0.2445, 0.3842, 0.1911, 0.0933, -0.0, -0.0528, 0.1862, -0.0329, -0.0315, 0.0535, -0.1969, 0.2335, -0.4856, -0.1223, -0.4296, -0.3182, -0.0373, -0.9675, 0.6076, 0.5982, 0.5923, 0.5914, 0.5888, 0.5854, 0.5843, 0.584, 0.5787, 0.575, 0.5731, 0.5713, 0.5699, 0.5679, 0.5673, 0.5658, 0.5652, 0.5648, 0.5615, 0.5459, 0.5395, 0.5387, 0.5348, 0.5332, 0.5279, 0.526, 0.5255, 0.5251, 0.5233, 0.523, 0.5144, 0.5224, 0.4856, 0.4512, 0.4852, 0.4091, 0.495, 0.3277, 0.4396, 0.1978, 0.3556, 0.4557, 0.3415, 0.3017, 0.4073, 0.3085, 0.3448, 0.2428, 0.3958, 0.4559, 0.2711, 0.1657, 0.337, 0.2943, 0.3108, -0.2535, 0.0505, 0.1098, 0.0321, 0.0308, 0.0, 0.1845, -0.249, 0.139, -0.057, -0.1039, 0.0362, -0.2138, -2.5611], \"Total\": [2717.0, 576.0, 193.0, 2303.0, 342.0, 363.0, 615.0, 249.0, 1707.0, 149.0, 140.0, 112.0, 305.0, 281.0, 412.0, 305.0, 123.0, 65.0, 47.0, 111.0, 74.0, 290.0, 50.0, 47.0, 78.0, 234.0, 46.0, 46.0, 46.0, 111.0, 2717.7095452928925, 27.745339271922983, 10.282925610755202, 30.2185418499021, 14.271416499107676, 33.47352894018579, 19.442152577946054, 65.22532845702752, 17.216926610648308, 8.733575183274072, 15.705559995534367, 17.861261599818825, 14.306770427253877, 112.39425104869215, 29.86315632731143, 31.53507077861193, 15.230532985358249, 30.24520333606373, 74.20421984184338, 32.544569013534215, 36.339121594129026, 13.45683120998601, 13.7882803306578, 18.32050901667633, 18.55044573113309, 12.484295409640135, 16.50228838114975, 36.763623568152774, 123.70379998712785, 8.154691239989143, 36.914593095376496, 342.62734313084553, 36.823671482260266, 50.32362821090536, 70.34028935390562, 111.64171579920487, 61.51442119317272, 305.3874759066106, 1707.7167784748997, 71.66416408435026, 290.16257543811014, 108.23052001103868, 169.76042096398163, 483.38540421043547, 184.69960840240867, 179.74316853730238, 225.50657858281164, 82.99242738859417, 135.99120627177652, 208.45681057711676, 253.04715591569214, 2303.891191091622, 68.00944338300177, 158.78009036583111, 244.4161141586875, 342.3087473997994, 355.10630840497345, 146.26631202876172, 327.98982031765945, 320.3939773504519, 236.48410534520377, 400.1205468424223, 117.8516913473687, 615.5570024329944, 254.51690129361953, 412.62651459593815, 317.2644662912845, 197.8846628851194, 576.0534330576996, 47.439917714946866, 32.277935063635965, 19.70679658864299, 20.38488589487023, 17.158193617850838, 15.461245525766495, 47.15295292254696, 34.18182662876692, 10.627756113455133, 50.199030457005264, 15.1498289439431, 46.99721371353601, 46.98065007287577, 46.95748114279209, 26.65073478762827, 193.01302923843087, 12.658855702366338, 20.378482382437035, 20.416163815387513, 10.541035285612322, 18.795585955062386, 30.02728649154906, 16.722234067697908, 35.206908797543875, 10.49514372142072, 26.95625407950438, 43.439237652771375, 33.09206492122338, 20.097131693771253, 140.47254679325712, 149.0007819805588, 42.789782608470546, 576.0534330576996, 249.59972630661957, 78.45498936346014, 363.0506143673256, 46.3781973583626, 615.5570024329944, 111.69542471960816, 2303.891191091622, 281.1133697698813, 78.96370844722254, 305.6853635527091, 412.62651459593815, 104.41670064161121, 234.82445184499124, 149.74788695564567, 317.2644662912845, 96.88742988661534, 61.97467851920339, 230.47473463493122, 400.1205468424223, 135.1785377417483, 168.5815087950238, 143.143442162677, 1707.7167784748997, 355.10630840497345, 254.51690129361953, 327.98982031765945, 320.3939773504519, 342.3087473997994, 183.52550708574586, 483.38540421043547, 173.6952263207946, 236.48410534520377, 244.4161141586875, 197.8846628851194, 253.04715591569214, 2717.7095452928925], \"Freq\": [2717.0, 576.0, 193.0, 2303.0, 342.0, 363.0, 615.0, 249.0, 1707.0, 149.0, 140.0, 112.0, 305.0, 281.0, 412.0, 305.0, 123.0, 65.0, 47.0, 111.0, 74.0, 290.0, 50.0, 47.0, 78.0, 234.0, 46.0, 46.0, 46.0, 111.0, 2613.215823696678, 26.01686755382496, 9.578416651687508, 27.733558473189294, 13.066617073641455, 30.215870405431048, 17.501134907911727, 57.694648308279426, 15.216279351599523, 7.576241294029001, 13.622220612262003, 15.414653433342936, 12.297947432075306, 96.42633240701215, 25.37509193803536, 26.695825217671008, 12.85287266639865, 25.272333824540123, 61.67355139050509, 26.77096986247885, 29.80497261480322, 10.957847567248084, 11.216407439656711, 14.783457618953703, 14.925576084930425, 10.031196615460608, 13.229236788248093, 29.368381555152887, 98.74184382628599, 6.507696315186673, 29.240598501869155, 264.04303497066826, 29.165877797247063, 39.57961185179144, 54.36325650318003, 84.66473539470965, 47.57438809420634, 217.7508215493203, 1047.753186546753, 54.10501707967652, 195.5657224018405, 78.15725853091325, 116.33171066195898, 295.7334117361712, 125.14485854518813, 119.83286806756077, 145.29313956397735, 60.56382561014833, 92.82632212515567, 133.01001632269154, 151.30258646014443, 905.7636682119423, 50.14071748996719, 96.50341969537708, 134.7170488871181, 171.8556754934814, 169.11736104565747, 88.45985791264505, 159.34819313083128, 155.8646417117673, 125.25347700830996, 164.98412378569085, 74.73301883760209, 190.1675573532783, 113.07622908776759, 134.81515363363323, 115.87033406403681, 95.71223758306448, 109.9099345535957, 43.36920072215364, 29.232557933783667, 17.743103154463427, 18.33665457942148, 15.393827351530826, 13.824981358892066, 42.114477119101444, 30.52056509480779, 9.439382259064288, 44.42245702208025, 13.380900488954994, 41.433545533662596, 41.36112652664632, 41.259804223318845, 23.40231836366491, 169.24203220018933, 11.09293474597536, 17.849879143257805, 17.82396362565137, 9.06020395617346, 16.052830422071924, 25.62406572977137, 14.214532794140348, 29.87865023872965, 8.859550377546102, 22.712403655497813, 36.583428465025634, 27.858924200939075, 16.88781440032198, 118.00829550228713, 124.09439083059596, 35.92442292115779, 466.1434985041039, 195.15003089333004, 63.46300678908001, 272.1544669702511, 37.88685187163488, 425.3894450797161, 86.32784899168963, 1398.1275228796796, 199.7580760537121, 62.01712470876438, 214.16619365865014, 277.8113609623049, 78.13240663108087, 159.18764240667704, 105.26240186781887, 201.39413222724772, 71.67160230130466, 48.68610132689579, 150.4943836793267, 235.13642305673142, 94.28899310999475, 112.6631000396124, 97.26251555942144, 659.9635919281466, 185.98894735931597, 141.44067220585194, 168.6416271868282, 164.52933563868459, 170.453071906318, 109.90286739513976, 187.65199247426423, 99.38685589843358, 111.23062833689383, 109.69906527156938, 102.17242530205493, 101.74456945554773, 104.4937215962146], \"Term\": [\"exhibit\", \"notice\", \"l.p.\", \"motion\", \"shall\", \"sign_judge\", \"'s\", \"memorandum_law_support\", \"order\", \"sign_magistrate_judge\", \"declaration_opposition\", \"c\", \"letter\", \"stipulation\", \"party\", \"case\", \"opposition\", \"e\", \"electronically_available_public_without\", \"deny\", \"sign_judge_iii\", \"attachment\", \"sign_judge_gr\", \"transcript_may_make_remotely\", \"notice_appeal\", \"summary_judgment\", \"court_notice_intent\", \"party_calendar_day\", \"request_redaction_transcript\", \"endorsed_letter_address\", \"exhibit\", \"g\", \"q\", \"erratum\", \"notice_conversion\", \"telephone_conference_hold\", \"k\", \"e\", \"bar\", \"stock\", \"a.m._courtroom\", \"r\", \"propose_finding_fact_conclusion\", \"c\", \"h\", \"db\", \"accordingly_hereby\", \"agree\", \"sign_judge_iii\", \"answer_due_answer_due\", \"page\", \"a.m\", \"reply_memorandum\", \"n\", \"doc\", \"associate_case_thk\", \"associate_case_et_al\", \"reportertranscriber_deadline_release_transcript\", \"opposition\", \"aim_exploration_inc.._basile\", \"shall_serve\", \"shall\", \"transcript_may_view_court\", \"f\", \"august\", \"endorsed_letter_address\", \"keely\", \"letter\", \"order\", \"february\", \"attachment\", \"april\", \"may\", \"defendant\", \"conference\", \"action\", \"inc..\", \"judge_date\", \"due\", \"b\", \"complaint\", \"motion\", \"amend\", \"hereby\", \"magistrate_judge\", \"dismiss\", \"date\", \"propose\", \"judge\", \"plaintiff\", \"grant\", \"court\", \"seal\", \"'s\", \"schedule\", \"party\", \"request\", \"pennsylvania\", \"notice\", \"electronically_available_public_without\", \"complaint_pursuant_frcp\", \"error_deficient_docket_entry\", \"judge_jury_trial\", \"copy_mail_chamber\", \"award\", \"transcript_may_make_remotely\", \"redaction_calendar_day_mcguirk\", \"nonecf_case_error\", \"sign_judge_gr\", \"telephone_conference_set\", \"court_notice_intent\", \"party_calendar_day\", \"request_redaction_transcript\", \"summary_judgment_favor\", \"l.p.\", \"attorney_record\", \"result\", \"scheduling\", \"judge_iii\", \"notice_right_appeal\", \"ama\", \"via\", \"revise_schedule_order\", \"class_plaintiff_'\", \"s.d.n.y\", \"redaction_request_due\", \"ltd..\", \"begin\", \"declaration_opposition\", \"sign_magistrate_judge\", \"sign\", \"notice\", \"memorandum_law_support\", \"notice_appeal\", \"sign_judge\", \"esq\", \"'s\", \"deny\", \"motion\", \"stipulation\", \"service_accept\", \"case\", \"party\", \"affidavit_service\", \"summary_judgment\", \"defendant_'\", \"request\", \"dismissal\", \"see\", \"counsel\", \"court\", \"djc\", \"judgment\", \"memorandum_law_opposition\", \"order\", \"date\", \"schedule\", \"judge\", \"plaintiff\", \"dismiss\", \"declaration_support\", \"defendant\", \"discovery\", \"grant\", \"magistrate_judge\", \"pennsylvania\", \"complaint\", \"exhibit\"], \"logprob\": [30.0, 29.0, 28.0, 27.0, 26.0, 25.0, 24.0, 23.0, 22.0, 21.0, 20.0, 19.0, 18.0, 17.0, 16.0, 15.0, 14.0, 13.0, 12.0, 11.0, 10.0, 9.0, 8.0, 7.0, 6.0, 5.0, 4.0, 3.0, 2.0, 1.0, -2.103800058364868, -6.713399887084961, -7.712600231170654, -6.649499893188477, -7.402100086212158, -6.563799858093262, -7.109899997711182, -5.916999816894531, -7.249800205230713, -7.9471001625061035, -7.360400199890137, -7.236800193786621, -7.462699890136719, -5.40339994430542, -6.738399982452393, -6.687600135803223, -7.418600082397461, -6.742400169372559, -5.850299835205078, -6.684800148010254, -6.577499866485596, -7.578100204467773, -7.554800033569336, -7.278600215911865, -7.269100189208984, -7.666399955749512, -7.389699935913086, -6.592199802398682, -5.3796000480651855, -8.099200248718262, -6.59660005569458, -4.395999908447266, -6.599100112915039, -6.293799877166748, -5.976500034332275, -5.533400058746338, -6.109799861907959, -4.588799953460693, -3.017699956893921, -5.981200218200684, -4.696199893951416, -5.613399982452393, -5.215700149536133, -4.282700061798096, -5.1427001953125, -5.185999870300293, -4.9934000968933105, -5.8684000968933105, -5.441400051116943, -5.081699848175049, -4.952899932861328, -3.1633999347686768, -6.057300090789795, -5.402599811553955, -5.068999767303467, -4.825500011444092, -4.8414998054504395, -5.48960018157959, -4.901000022888184, -4.9232001304626465, -5.1417999267578125, -4.866300106048584, -5.658199787139893, -4.7241997718811035, -5.244100093841553, -5.06820011138916, -5.219699859619141, -5.410799980163574, -5.272500038146973, -6.194200038909912, -6.588600158691406, -7.087900161743164, -7.054999828338623, -7.229899883270264, -7.337399959564209, -6.223499774932861, -6.545499801635742, -7.718999862670898, -6.170199871063232, -7.370100021362305, -6.239799976348877, -6.241600036621094, -6.24399995803833, -6.811100006103516, -4.832600116729736, -7.557600021362305, -7.081900119781494, -7.083399772644043, -7.760000228881836, -7.188000202178955, -6.720399856567383, -7.309599876403809, -6.566800117492676, -7.782400131225586, -6.841000080108643, -6.364299774169922, -6.6367998123168945, -7.13730001449585, -5.19320011138916, -5.142899990081787, -6.382500171661377, -3.8194000720977783, -4.690100193023682, -5.813499927520752, -4.357500076293945, -6.3292999267578125, -3.910900115966797, -5.505799770355225, -2.7209999561309814, -4.666800022125244, -5.83650016784668, -4.5971999168396, -4.336999893188477, -5.605500221252441, -4.893799781799316, -5.307499885559082, -4.658599853515625, -5.691800117492676, -6.078499794006348, -4.949999809265137, -4.503699779510498, -5.417500019073486, -5.239500045776367, -5.386499881744385, -3.4716999530792236, -4.7382001876831055, -5.01200008392334, -4.836100101470947, -4.860799789428711, -4.825500011444092, -5.2642998695373535, -4.729300022125244, -5.3649001121521, -5.252299785614014, -5.266200065612793, -5.337200164794922, -5.341400146484375, -5.314799785614014], \"Category\": [\"Default\", \"Default\", \"Default\", \"Default\", \"Default\", \"Default\", \"Default\", \"Default\", \"Default\", \"Default\", \"Default\", \"Default\", \"Default\", \"Default\", \"Default\", \"Default\", \"Default\", \"Default\", \"Default\", \"Default\", \"Default\", \"Default\", \"Default\", \"Default\", \"Default\", \"Default\", \"Default\", \"Default\", \"Default\", \"Default\", \"Topic1\", \"Topic1\", \"Topic1\", \"Topic1\", \"Topic1\", \"Topic1\", \"Topic1\", \"Topic1\", \"Topic1\", \"Topic1\", \"Topic1\", \"Topic1\", \"Topic1\", \"Topic1\", \"Topic1\", \"Topic1\", \"Topic1\", \"Topic1\", \"Topic1\", \"Topic1\", \"Topic1\", \"Topic1\", \"Topic1\", \"Topic1\", \"Topic1\", \"Topic1\", \"Topic1\", \"Topic1\", \"Topic1\", \"Topic1\", \"Topic1\", \"Topic1\", \"Topic1\", \"Topic1\", \"Topic1\", \"Topic1\", \"Topic1\", \"Topic1\", \"Topic1\", \"Topic1\", \"Topic1\", \"Topic1\", \"Topic1\", \"Topic1\", \"Topic1\", \"Topic1\", \"Topic1\", \"Topic1\", \"Topic1\", \"Topic1\", \"Topic1\", \"Topic1\", \"Topic1\", \"Topic1\", \"Topic1\", \"Topic1\", \"Topic1\", \"Topic1\", \"Topic1\", \"Topic1\", \"Topic1\", \"Topic1\", \"Topic1\", \"Topic1\", \"Topic1\", \"Topic1\", \"Topic1\", \"Topic1\", \"Topic1\", \"Topic2\", \"Topic2\", \"Topic2\", \"Topic2\", \"Topic2\", \"Topic2\", \"Topic2\", \"Topic2\", \"Topic2\", \"Topic2\", \"Topic2\", \"Topic2\", \"Topic2\", \"Topic2\", \"Topic2\", \"Topic2\", \"Topic2\", \"Topic2\", \"Topic2\", \"Topic2\", \"Topic2\", \"Topic2\", \"Topic2\", \"Topic2\", \"Topic2\", \"Topic2\", \"Topic2\", \"Topic2\", \"Topic2\", \"Topic2\", \"Topic2\", \"Topic2\", \"Topic2\", \"Topic2\", \"Topic2\", \"Topic2\", \"Topic2\", \"Topic2\", \"Topic2\", \"Topic2\", \"Topic2\", \"Topic2\", \"Topic2\", \"Topic2\", \"Topic2\", \"Topic2\", \"Topic2\", \"Topic2\", \"Topic2\", \"Topic2\", \"Topic2\", \"Topic2\", \"Topic2\", \"Topic2\", \"Topic2\", \"Topic2\", \"Topic2\", \"Topic2\", \"Topic2\", \"Topic2\", \"Topic2\", \"Topic2\", \"Topic2\", \"Topic2\", \"Topic2\", \"Topic2\", \"Topic2\", \"Topic2\", \"Topic2\"]}, \"plot.opts\": {\"ylab\": \"PC2\", \"xlab\": \"PC1\"}, \"mdsDat\": {\"y\": [0.0, 0.0], \"Freq\": [50.20574466880946, 49.794255331190534], \"x\": [0.047049496322870255, -0.047049496322870255], \"topics\": [1, 2], \"cluster\": [1, 1]}, \"topic.order\": [2, 1], \"token.table\": {\"Topic\": [1, 2, 1, 2, 1, 2, 1, 2, 1, 2, 1, 2, 1, 2, 1, 2, 1, 2, 1, 2, 1, 2, 1, 2, 1, 2, 1, 2, 1, 2, 1, 2, 1, 2, 1, 2, 1, 2, 1, 2, 1, 2, 1, 2, 1, 2, 1, 2, 1, 2, 1, 2, 1, 2, 1, 2, 1, 2, 1, 2, 1, 2, 1, 2, 1, 2, 1, 2, 1, 2, 1, 2, 1, 2, 1, 2, 1, 2, 1, 2, 1, 2, 1, 2, 1, 2, 1, 2, 1, 2, 1, 2, 1, 2, 1, 2, 1, 2, 1, 2, 1, 2, 1, 2, 1, 2, 1, 2, 1, 2, 1, 2, 1, 2, 1, 2, 1, 2, 1, 2, 1, 2, 1, 2, 1, 2, 1, 2, 1, 2, 1, 2, 1, 2, 1, 2, 1, 2, 1, 2, 1, 2, 1, 2, 1, 2, 1, 2, 1, 2, 1, 2, 1, 2, 1, 2, 1, 2, 1, 2, 1, 2, 1, 2, 1, 2, 1, 2, 1, 2, 1, 2, 1, 2, 1, 2, 1, 2, 1, 2, 1, 2, 1, 2, 1, 2, 1, 2, 1, 2, 1, 2, 1, 2, 1, 2, 1, 2, 1, 2, 1, 2, 1, 2, 1, 2, 1, 2, 1, 2, 1, 2, 1, 2, 1, 2, 1, 2, 1, 2, 1, 2, 1, 2, 1, 2, 1, 2, 1, 2, 1, 2, 1, 2, 1, 2, 1, 2, 1, 2], \"Freq\": [0.30866353440708716, 0.690431590121116, 0.8174286968716045, 0.14862339943120081, 0.8914040635278643, 0.12734343764683775, 0.8535485929807871, 0.1313151681508903, 0.6676192534966703, 0.33380962674833514, 0.249002313233777, 0.747006939701331, 0.8265773492152567, 0.16531546984305134, 0.8584015990296795, 0.24525759972276556, 0.13321217024141585, 0.8658791065692031, 0.7351920191203472, 0.26466912688332495, 0.8296315120587889, 0.18436255823528644, 0.7206839622690957, 0.27718613933426756, 0.7877695323061772, 0.18179296899373318, 0.8010063581384169, 0.16020127162768338, 0.6754833896275696, 0.32740266333989343, 0.157992163511757, 0.8689568993146635, 0.7676965860675931, 0.22746565513113867, 0.12935568461589705, 0.9054897923112794, 0.638021850338144, 0.35978675770947965, 0.8712356356751161, 0.11616475142334881, 0.14927503315957255, 0.8458918545709111, 0.8541362134119321, 0.14235603556865536, 0.3009630521094168, 0.7000662299066869, 0.19056432699611106, 0.8575394714824999, 0.5967267225493289, 0.4030869251657718, 0.0929427484777294, 0.8984465686180508, 0.6767745805267764, 0.3248517986528527, 0.11656238672579518, 0.8742179004434638, 0.34710963059234623, 0.6508305573606492, 0.41237572352159463, 0.5873230001671197, 0.12766714291983433, 0.8723921432855346, 0.47591382073468413, 0.5237868086192382, 0.8561896115455128, 0.15855363176768755, 0.1566142317642954, 0.8400217885539479, 0.4032137067760619, 0.5993717262887407, 0.6123478231277755, 0.3889236173919655, 0.29382718443988803, 0.70117850832246, 0.22382295481447098, 0.7699509645617801, 0.42603358519094087, 0.5699638504581506, 0.5024703613522112, 0.49662768273183666, 0.2580314085042487, 0.7431304564922364, 0.30330258549125905, 0.6953766594189841, 0.808605907233032, 0.21562824192880856, 0.6838677481405732, 0.31619691580693166, 0.889225111962636, 0.12265173958105324, 0.0843171782892811, 0.9064096666097718, 0.7613641495162813, 0.24184508278752465, 0.9265834248084579, 0.06618453034346128, 0.10148782888197051, 0.9133904599377346, 0.1724948457609143, 0.819350517364343, 0.9614713995194039, 0.038267518388831995, 0.7948552483608846, 0.21858519329924325, 0.7535146846398828, 0.25117156154662756, 0.9370943258318998, 0.07208417891014614, 0.5285767507187568, 0.46937615463825605, 0.8371519649828905, 0.13394431439726245, 0.6109078271495558, 0.3904771678687882, 0.6429967627164029, 0.35475683460215335, 0.4847711427324417, 0.5152598938476897, 0.7350068183254918, 0.2650844262813249, 0.09486734204987633, 0.853806078448887, 0.09811190557133762, 0.8830071501420385, 0.3321835259410907, 0.6702989005597009, 0.9258234101309368, 0.10286926779232632, 0.7803048304602654, 0.22758890888424407, 0.12434393727043457, 0.87558855827931, 0.7138472177119202, 0.2881585099020595, 0.15109362355908115, 0.8461242919308544, 0.5523367412360998, 0.4500521595257109, 0.6833159304229808, 0.3122046923484309, 0.3213559720585927, 0.6776419410800758, 0.2163463910760221, 0.7812508566634131, 0.3932477382192351, 0.6067994900998793, 0.8187545436835941, 0.21833454498229177, 0.09409323937476914, 0.8468391543729222, 0.19095450818879503, 0.8089527346907135, 0.1911924292094308, 0.8030082026796094, 0.9109116814587275, 0.07007012934297904, 0.1596119433133173, 0.8512636976710255, 0.800298778293808, 0.20209565108429495, 0.6136848997501395, 0.38648094831592755, 0.8255565540375314, 0.1926298626087573, 0.32717238283196093, 0.6737327587206307, 0.12771215363544094, 0.8726997165088465, 0.48513107888372403, 0.5154517713139568, 0.48690053817511303, 0.5149909538390618, 0.6016422973917311, 0.3965369687354592, 0.8387637210659673, 0.13979395351099455, 0.9724858837392267, 0.09724858837392267, 0.8398062990215737, 0.11197417320287649, 0.11702124767766679, 0.9069146695019177, 0.16114463278462732, 0.8517644875758873, 0.7977789641788652, 0.21757608113969049, 0.7888232221244326, 0.19040560534038029, 0.3656255658126521, 0.6335408511064058, 0.12777516710819128, 0.8731303085726404, 0.14721410278252695, 0.8832846166951616, 0.14201758037754264, 0.8521054822652557, 0.14838857017011559, 0.8532342784781646, 0.44397837403198337, 0.5539907145000854, 0.14694239462062517, 0.8816543677237509, 0.6363930728744228, 0.3648653617813358, 0.20976308890366957, 0.7906454889446006, 0.21528877422673726, 0.7851708236504535, 0.770516438027485, 0.23057120683398227, 0.7855971735912812, 0.21671646168035344, 0.1635904548534514, 0.8413223392463214, 0.2506537556990014, 0.7492068302211911, 0.11952422079424248, 0.8765109524911114, 0.8355319971309572, 0.1751921929468136, 0.16778435433487812, 0.8322103975009955, 0.2881399773561336, 0.7114567342126755, 0.9160051676570022, 0.11450064595712528, 0.323646023243644, 0.67710154862815, 0.11256725279457029, 0.8630156047583722, 0.8962305723309701, 0.08962305723309702, 0.1320146918754221, 0.8580954971902437, 0.10603789773702949, 0.8907183409910476, 0.787536897671127, 0.21725155797824192, 0.1794018662730631, 0.8372087092742945], \"Term\": [\"'s\", \"'s\", \"a.m\", \"a.m\", \"a.m._courtroom\", \"a.m._courtroom\", \"accordingly_hereby\", \"accordingly_hereby\", \"action\", \"action\", \"affidavit_service\", \"affidavit_service\", \"agree\", \"agree\", \"aim_exploration_inc.._basile\", \"aim_exploration_inc.._basile\", \"ama\", \"ama\", \"amend\", \"amend\", \"answer_due_answer_due\", \"answer_due_answer_due\", \"april\", \"april\", \"associate_case_et_al\", \"associate_case_et_al\", \"associate_case_thk\", \"associate_case_thk\", \"attachment\", \"attachment\", \"attorney_record\", \"attorney_record\", \"august\", \"august\", \"award\", \"award\", \"b\", \"b\", \"bar\", \"bar\", \"begin\", \"begin\", \"c\", \"c\", \"case\", \"case\", \"class_plaintiff_'\", \"class_plaintiff_'\", \"complaint\", \"complaint\", \"complaint_pursuant_frcp\", \"complaint_pursuant_frcp\", \"conference\", \"conference\", \"copy_mail_chamber\", \"copy_mail_chamber\", \"counsel\", \"counsel\", \"court\", \"court\", \"court_notice_intent\", \"court_notice_intent\", \"date\", \"date\", \"db\", \"db\", \"declaration_opposition\", \"declaration_opposition\", \"declaration_support\", \"declaration_support\", \"defendant\", \"defendant\", \"defendant_'\", \"defendant_'\", \"deny\", \"deny\", \"discovery\", \"discovery\", \"dismiss\", \"dismiss\", \"dismissal\", \"dismissal\", \"djc\", \"djc\", \"doc\", \"doc\", \"due\", \"due\", \"e\", \"e\", \"electronically_available_public_without\", \"electronically_available_public_without\", \"endorsed_letter_address\", \"endorsed_letter_address\", \"erratum\", \"erratum\", \"error_deficient_docket_entry\", \"error_deficient_docket_entry\", \"esq\", \"esq\", \"exhibit\", \"exhibit\", \"f\", \"f\", \"february\", \"february\", \"g\", \"g\", \"grant\", \"grant\", \"h\", \"h\", \"hereby\", \"hereby\", \"inc..\", \"inc..\", \"judge\", \"judge\", \"judge_date\", \"judge_date\", \"judge_iii\", \"judge_iii\", \"judge_jury_trial\", \"judge_jury_trial\", \"judgment\", \"judgment\", \"k\", \"k\", \"keely\", \"keely\", \"l.p.\", \"l.p.\", \"letter\", \"letter\", \"ltd..\", \"ltd..\", \"magistrate_judge\", \"magistrate_judge\", \"may\", \"may\", \"memorandum_law_opposition\", \"memorandum_law_opposition\", \"memorandum_law_support\", \"memorandum_law_support\", \"motion\", \"motion\", \"n\", \"n\", \"nonecf_case_error\", \"nonecf_case_error\", \"notice\", \"notice\", \"notice_appeal\", \"notice_appeal\", \"notice_conversion\", \"notice_conversion\", \"notice_right_appeal\", \"notice_right_appeal\", \"opposition\", \"opposition\", \"order\", \"order\", \"page\", \"page\", \"party\", \"party\", \"party_calendar_day\", \"party_calendar_day\", \"pennsylvania\", \"pennsylvania\", \"plaintiff\", \"plaintiff\", \"propose\", \"propose\", \"propose_finding_fact_conclusion\", \"propose_finding_fact_conclusion\", \"q\", \"q\", \"r\", \"r\", \"redaction_calendar_day_mcguirk\", \"redaction_calendar_day_mcguirk\", \"redaction_request_due\", \"redaction_request_due\", \"reply_memorandum\", \"reply_memorandum\", \"reportertranscriber_deadline_release_transcript\", \"reportertranscriber_deadline_release_transcript\", \"request\", \"request\", \"request_redaction_transcript\", \"request_redaction_transcript\", \"result\", \"result\", \"revise_schedule_order\", \"revise_schedule_order\", \"s.d.n.y\", \"s.d.n.y\", \"schedule\", \"schedule\", \"scheduling\", \"scheduling\", \"seal\", \"seal\", \"see\", \"see\", \"service_accept\", \"service_accept\", \"shall\", \"shall\", \"shall_serve\", \"shall_serve\", \"sign\", \"sign\", \"sign_judge\", \"sign_judge\", \"sign_judge_gr\", \"sign_judge_gr\", \"sign_judge_iii\", \"sign_judge_iii\", \"sign_magistrate_judge\", \"sign_magistrate_judge\", \"stipulation\", \"stipulation\", \"stock\", \"stock\", \"summary_judgment\", \"summary_judgment\", \"summary_judgment_favor\", \"summary_judgment_favor\", \"telephone_conference_hold\", \"telephone_conference_hold\", \"telephone_conference_set\", \"telephone_conference_set\", \"transcript_may_make_remotely\", \"transcript_may_make_remotely\", \"transcript_may_view_court\", \"transcript_may_view_court\", \"via\", \"via\"]}, \"R\": 30, \"lambda.step\": 0.01};\n",
       "\n",
       "function LDAvis_load_lib(url, callback){\n",
       "  var s = document.createElement('script');\n",
       "  s.src = url;\n",
       "  s.async = true;\n",
       "  s.onreadystatechange = s.onload = callback;\n",
       "  s.onerror = function(){console.warn(\"failed to load library \" + url);};\n",
       "  document.getElementsByTagName(\"head\")[0].appendChild(s);\n",
       "}\n",
       "\n",
       "if(typeof(LDAvis) !== \"undefined\"){\n",
       "   // already loaded: just create the visualization\n",
       "   !function(LDAvis){\n",
       "       new LDAvis(\"#\" + \"ldavis_el1345219840189045526042676527\", ldavis_el1345219840189045526042676527_data);\n",
       "   }(LDAvis);\n",
       "}else if(typeof define === \"function\" && define.amd){\n",
       "   // require.js is available: use it to load d3/LDAvis\n",
       "   require.config({paths: {d3: \"https://cdnjs.cloudflare.com/ajax/libs/d3/3.5.5/d3.min\"}});\n",
       "   require([\"d3\"], function(d3){\n",
       "      window.d3 = d3;\n",
       "      LDAvis_load_lib(\"https://cdn.rawgit.com/bmabey/pyLDAvis/files/ldavis.v1.0.0.js\", function(){\n",
       "        new LDAvis(\"#\" + \"ldavis_el1345219840189045526042676527\", ldavis_el1345219840189045526042676527_data);\n",
       "      });\n",
       "    });\n",
       "}else{\n",
       "    // require.js not available: dynamically load d3 & LDAvis\n",
       "    LDAvis_load_lib(\"https://cdnjs.cloudflare.com/ajax/libs/d3/3.5.5/d3.min.js\", function(){\n",
       "         LDAvis_load_lib(\"https://cdn.rawgit.com/bmabey/pyLDAvis/files/ldavis.v1.0.0.js\", function(){\n",
       "                 new LDAvis(\"#\" + \"ldavis_el1345219840189045526042676527\", ldavis_el1345219840189045526042676527_data);\n",
       "            })\n",
       "         });\n",
       "}\n",
       "</script>"
      ],
      "text/plain": [
       "<IPython.core.display.HTML object>"
      ]
     },
     "execution_count": 343,
     "metadata": {},
     "output_type": "execute_result"
    }
   ],
   "source": [
    "lda2_model_filepath = 'docket_texts/lda_model_noorgnomodel_2'\n",
    "LDAvis_prepared = topic_modeling_pipeline(2, lda2_model_filepath, trigram_bow_corpus, trigram_dictionary, True)\n",
    "pyLDAvis.display(LDAvis_prepared)"
   ]
  },
  {
   "cell_type": "code",
   "execution_count": 330,
   "metadata": {},
   "outputs": [
    {
     "name": "stdout",
     "output_type": "stream",
     "text": [
      "\n",
      " Topic 1's make-up:\n",
      "term                 frequency\n",
      "\n",
      "motion               0.066\n",
      "sign_judge           0.019\n",
      "'s                   0.019\n",
      "order                0.019\n",
      "notice               0.017\n",
      "ex                   0.012\n",
      "attachment           0.012\n",
      "defendant            0.012\n",
      "exhibit              0.011\n",
      "date                 0.011\n",
      "\n",
      " Topic 2's make-up:\n",
      "term                 frequency\n",
      "\n",
      "motion               0.065\n",
      "exhibit              0.052\n",
      "order                0.050\n",
      "notice               0.015\n",
      "judge                0.014\n",
      "stipulation          0.012\n",
      "shall                0.012\n",
      "court                0.011\n",
      "plaintiff            0.011\n",
      "inc..                0.011\n",
      "\n",
      " Topic 3's make-up:\n",
      "term                 frequency\n",
      "\n",
      "exhibit              0.131\n",
      "order                0.048\n",
      "motion               0.030\n",
      "defendant            0.016\n",
      "'s                   0.014\n",
      "party                0.014\n",
      "case                 0.012\n",
      "b                    0.009\n",
      "shall                0.009\n",
      "magistrate_judge     0.009\n"
     ]
    },
    {
     "data": {
      "text/html": [
       "\n",
       "<link rel=\"stylesheet\" type=\"text/css\" href=\"https://cdn.rawgit.com/bmabey/pyLDAvis/files/ldavis.v1.0.0.css\">\n",
       "\n",
       "\n",
       "<div id=\"ldavis_el134521984012240600568429951\"></div>\n",
       "<script type=\"text/javascript\">\n",
       "\n",
       "var ldavis_el134521984012240600568429951_data = {\"tinfo\": {\"loglift\": [30.0, 29.0, 28.0, 27.0, 26.0, 25.0, 24.0, 23.0, 22.0, 21.0, 20.0, 19.0, 18.0, 17.0, 16.0, 15.0, 14.0, 13.0, 12.0, 11.0, 10.0, 9.0, 8.0, 7.0, 6.0, 5.0, 4.0, 3.0, 2.0, 1.0, 0.9105, 0.9047, 0.9037, 0.8991, 0.8941, 0.8817, 0.8745, 0.8694, 0.8677, 0.866, 0.8609, 0.8579, 0.8526, 0.8477, 0.8387, 0.8358, 0.8201, 0.8159, 0.8126, 0.8111, 0.8081, 0.8074, 0.8046, 0.7994, 0.7954, 0.7853, 0.779, 0.7786, 0.778, 0.7615, 0.7543, 0.7397, 0.7159, 0.6723, 0.658, 0.7384, 0.7094, 0.6013, 0.6764, 0.6934, 0.7162, 0.5446, 0.6231, 0.6905, 0.2117, 0.1879, 0.589, 0.5703, 0.3729, 0.422, 0.4915, 0.6543, 0.2929, 0.2976, 0.1989, 0.3147, -0.3058, 0.206, 0.2923, 0.1888, 0.0454, 0.1571, 0.2067, -0.3706, 0.4398, -0.1132, -0.4019, -0.204, -0.3891, -0.0127, 0.2511, -0.3095, 0.9535, 0.948, 0.9413, 0.9015, 0.8956, 0.895, 0.8878, 0.8873, 0.8514, 0.8513, 0.8483, 0.848, 0.8416, 0.8317, 0.8288, 0.8232, 0.8206, 0.8176, 0.8172, 0.8148, 0.8145, 0.8066, 0.806, 0.7984, 0.7966, 0.7818, 0.7803, 0.7796, 0.7722, 0.7708, 0.7706, 0.7234, 0.6227, 0.7395, 0.6345, 0.7393, 0.5734, 0.6905, 0.6, 0.7325, 0.4246, 0.5567, 0.1532, 0.5653, 0.627, 0.4353, 0.4952, 0.2999, 0.4462, 0.5016, 0.6024, 0.0486, 0.202, 0.3564, 0.4364, 0.1525, -0.5562, 0.475, 0.0374, 0.317, 0.1876, 0.0302, 0.343, 0.4266, 0.2066, -0.2323, -0.2924, 0.1537, -0.0041, -0.6973, -0.3929, -0.1753, 1.2796, 1.2756, 1.2658, 1.2578, 1.2481, 1.2418, 1.2389, 1.2387, 1.2374, 1.2335, 1.2272, 1.2257, 1.2132, 1.1916, 1.1911, 1.186, 1.1846, 1.1815, 1.1812, 1.1626, 1.1579, 1.1497, 1.1433, 1.1329, 1.1316, 1.13, 1.1266, 1.1265, 1.1119, 1.1059, 1.0824, 1.0595, 1.0503, 0.9514, 0.8665, 0.8824, 0.8893, 0.9568, 0.2278, 0.5382, 0.9936, 0.6945, 0.3336, 0.3276, 0.9634, 0.658, 0.2572, 0.5978, 0.74, 0.6852, -0.002, 0.4859, -0.7967, -0.0493, 0.0414, 0.3988, -0.059, -0.0334, 0.4445, 0.1264, 0.3961, -0.3173, -1.8378, 0.228, -0.0923], \"Total\": [2999.0, 2254.0, 343.0, 170.0, 175.0, 301.0, 136.0, 533.0, 65.0, 236.0, 124.0, 74.0, 123.0, 584.0, 73.0, 268.0, 329.0, 50.0, 49.0, 170.0, 286.0, 1752.0, 73.0, 120.0, 141.0, 37.0, 212.0, 41.0, 226.0, 35.0, 43.00435260720492, 25.98913973107507, 42.99150527313699, 31.167286172644502, 29.309311745048607, 15.860871931447212, 73.77813225817702, 14.325214714610977, 14.324788851370974, 9.696256389737737, 10.487288553430863, 16.881628611142766, 12.736529929538795, 22.575583701073064, 9.690194036449595, 123.08201338254239, 16.424930414523512, 8.902881619918839, 11.709843345309352, 13.93208138658485, 24.739405551989336, 10.232364965417759, 19.455460622382294, 46.658570252717496, 12.712050072724864, 27.850217568951322, 27.247629849395974, 26.482515212940832, 19.438800605558683, 10.482159063419912, 22.097235511032665, 92.24207830507348, 95.03946819138787, 236.87376571227466, 268.2538195043282, 51.667682503570965, 66.41867083852142, 329.31978325936916, 91.87705847618489, 69.06560577223141, 45.974936082331716, 239.1381882356322, 114.56293216745271, 54.2682272848088, 2254.223768562532, 1752.6214983893494, 97.97549055162703, 106.15410593508162, 321.43076432372084, 226.23769720141036, 142.77716398331614, 57.69695058100412, 366.24137733735256, 344.09838512814497, 533.9649606086823, 260.0095392914458, 2999.731265658514, 392.15819916934765, 251.71778708554632, 321.90635589584986, 354.12966865816713, 221.28935637323838, 194.01424481253744, 584.3162062197565, 114.99071218450638, 343.92828290891464, 494.3209190876615, 305.25211917373116, 390.7019904573216, 230.57683272499932, 160.98531053297165, 286.24423232268794, 24.853630506942185, 19.81289625472864, 19.240294362495014, 35.159319714303564, 37.17368618565463, 27.843374252583647, 13.343092671785051, 13.758800740506928, 38.76007552909171, 18.590009720137033, 37.16923300273369, 12.298759511898275, 10.541892004053564, 20.732178947676058, 20.734254859571667, 19.372992328308076, 15.021340171751081, 17.664044008851526, 30.262208961014764, 12.082050595087903, 13.610760924128199, 19.33641369577633, 23.693196873222938, 43.79863835577632, 48.393361862287236, 120.47038079825522, 17.638978270142587, 20.632571834106706, 11.682742126784149, 31.96010709574222, 53.04877372640601, 170.5401534905542, 2999.731265658514, 70.4565034930274, 212.81801838810802, 45.42370869728957, 286.24423232268794, 74.67204806544339, 194.43562363060903, 41.3620238382451, 390.7019904573216, 123.97382791766469, 1752.6214983893494, 115.13555175951282, 77.30173172103767, 245.38979073866608, 161.51845560606876, 494.3209190876615, 185.73522254053685, 120.61898717956166, 75.36693329906787, 584.3162062197565, 301.8739144514479, 174.2745951354324, 127.09081657943173, 305.25211917373116, 2254.223768562532, 111.41415835352144, 366.24137733735256, 169.3741286483515, 230.57683272499932, 321.90635589584986, 149.1973243924196, 118.28772353375223, 178.07588981002158, 392.15819916934765, 354.12966865816713, 177.30888010040786, 221.28935637323838, 533.9649606086823, 344.09838512814497, 260.0095392914458, 14.962832729829234, 65.8598999335425, 37.44110232284342, 18.067082376730276, 35.554645828220615, 23.661528712609524, 49.216434060733825, 50.308631836064635, 18.638324775559894, 15.575583977064934, 12.030169293988667, 25.81021879744025, 8.883374293164644, 36.6030926279662, 18.513735389433123, 14.416417315189744, 41.0808438792841, 16.743063961692556, 21.380867915834006, 20.552859848382163, 74.52519647998255, 40.37071091673341, 13.150965670490073, 10.43153696960352, 170.56025659828867, 24.11604415239984, 45.82903408326128, 73.45644203374749, 11.510324681200672, 13.189453524009597, 25.751024576950442, 39.763558778764065, 45.677613593454026, 136.88215132414274, 343.92828290891464, 175.96469692044045, 124.00686296401325, 61.270498391933685, 2254.223768562532, 301.8739144514479, 42.81421116050304, 141.57437009414352, 584.3162062197565, 533.9649606086823, 44.5091928419127, 119.86115635112628, 354.12966865816713, 128.79399918207645, 85.58495544991032, 96.32361311287943, 494.3209190876615, 143.74804666122145, 1752.6214983893494, 392.15819916934765, 305.25211917373116, 157.056805009913, 344.09838512814497, 321.43076432372084, 137.35950797408088, 226.23769720141036, 146.29998169680744, 390.7019904573216, 2999.731265658514, 178.07588981002158, 245.38979073866608], \"Freq\": [2999.0, 2254.0, 343.0, 170.0, 175.0, 301.0, 136.0, 533.0, 65.0, 236.0, 124.0, 74.0, 123.0, 584.0, 73.0, 268.0, 329.0, 50.0, 49.0, 170.0, 286.0, 1752.0, 73.0, 120.0, 141.0, 37.0, 212.0, 41.0, 226.0, 35.0, 40.91262288616713, 24.58216181271492, 40.624606881535065, 29.314178150323844, 27.430569982412603, 14.660545449732336, 67.70897094926245, 13.07966093974068, 13.057067124892058, 8.823325775889748, 9.494915705207843, 15.23698526556706, 11.43596471189571, 20.170392457786576, 8.580422303707664, 108.66344296471667, 14.276057049706164, 7.7053663641994365, 10.100982810986483, 12.00029771075332, 21.245667164489188, 8.781027964315182, 16.650190930784525, 39.723451321508335, 10.779135669356872, 23.378702759114073, 22.727446122442053, 22.08132271533006, 16.19817774769049, 8.592010094140376, 17.982269705198142, 73.98055310129713, 74.4299046098045, 177.58339980307184, 198.26062643445735, 41.3817050081463, 51.679294313673815, 229.97931577767807, 69.16505143908094, 52.8842382014548, 36.01434694669754, 157.7972409850296, 81.7674494098807, 41.431763502337155, 1066.2313098695017, 809.4919588748751, 67.58268589730142, 71.87053718945474, 178.63818341784932, 132.0622850944712, 89.3395257649658, 42.48452424442875, 187.89011865243168, 177.3544653694795, 249.3640636489113, 136.3294057439866, 845.6342753333079, 184.4392499460203, 129.0610872975176, 148.8148193143096, 141.84434985887432, 99.10746083970592, 91.31031328157138, 154.3872403907005, 68.32381017400031, 117.55400644305814, 126.58998100646205, 95.28047469984347, 101.34408880924427, 87.1403133353316, 79.20596025464613, 80.39657292597398, 23.449141739234634, 18.589780190196876, 17.93172998299955, 31.490187002818978, 33.098026536896505, 24.775876199320553, 11.788891675196242, 12.150071763422499, 33.0190225126576, 15.83484174063096, 31.56741025785755, 10.44176325384236, 8.892736060778816, 17.317528959793087, 17.268478340409754, 16.044241054418716, 12.408126170777287, 14.547435008457768, 24.91375397040794, 9.922922782524761, 11.17487667554722, 15.750939698064148, 19.28763040841635, 35.38610906917922, 39.02658286404277, 95.72909525906705, 13.99567830077024, 16.358787023454394, 9.194929523784362, 25.117832649242153, 41.68463193704631, 127.82489911064096, 2032.9905013166833, 53.66706667532609, 145.94681560544734, 34.59438919661133, 184.66618507951466, 54.16077319676894, 128.81989035592485, 31.286106517930808, 217.20275278687353, 78.65213268617553, 742.7278704717471, 73.67758101584211, 52.61514860935797, 137.89282635316238, 96.3604917219859, 242.59968579021645, 105.50833561309075, 72.42149938650387, 50.05501655761762, 223.04600196147544, 134.33414874195327, 90.49735428122362, 71.49105650959731, 129.27328214096818, 469.99352425095964, 65.13993773843181, 138.23753703536644, 84.55852873128515, 101.14270587025122, 120.63012919146487, 76.44906472569636, 65.8957424220363, 79.61101730077674, 113.03718216877965, 96.11478169341844, 75.1796182970858, 80.13256956210884, 96.67186987238324, 84.4642888358758, 79.33614311293235, 13.644714973173217, 59.813888317242565, 33.67375721653198, 16.11992997928821, 31.416162358050716, 20.77529480801851, 43.091404664430506, 44.036986983850774, 16.294258160376813, 13.562482535949078, 10.409862836074948, 22.300935053948997, 7.579987058605603, 30.56565782960408, 15.453155836229172, 11.971765127608789, 34.06702711999767, 13.841302050892478, 17.668971798962996, 16.671606174799134, 60.16894215944528, 32.329888300959624, 10.464083306062598, 8.213987659840445, 134.1329476317177, 18.93442056060329, 35.8610604246504, 57.47650763559969, 8.875850307058716, 10.109154818184923, 19.278430623778135, 29.09583742366762, 33.11774842279189, 89.90085640472624, 207.4842614781691, 107.86067669446632, 76.54033795412714, 40.45910494101363, 717.9989344420704, 131.15608099475747, 29.32982796426143, 71.9127954863427, 206.88296386758051, 187.92902708738782, 29.58560622040485, 58.70276773759581, 116.17053710587435, 59.39065684032939, 45.49761305949459, 48.47776032622764, 125.13125229098297, 59.273042987383306, 200.40166904272732, 94.68176705454766, 80.6983623329195, 59.35741715679401, 82.27963092278969, 78.85064210156207, 54.3418835254625, 65.11696839225647, 55.14309797739919, 72.15514886120378, 121.1064890085232, 56.73344247237053, 56.75153381013463], \"Term\": [\"exhibit\", \"motion\", \"sign_judge\", \"ex\", \"l.p.\", \"attachment\", \"sign_magistrate_judge\", \"notice\", \"rjm\", \"inc..\", \"minute_entry_proceeding_hold\", \"pl\", \"mro\", \"'s\", \"han\", \"stipulation\", \"judge\", \"kw\", \"sac\", \"plaintiff_'s\", \"case\", \"order\", \"appear_pro_hac_vice\", \"c\", \"llc\", \"telephone_conference_hold\", \"b\", \"sign_judge_copy_mail\", \"summary_judgment\", \"yv\", \"electronically_available_public_without\", \"conference_proceed_hold\", \"transcript_may_make_remotely\", \"redaction_calendar_day_mcguirk\", \"complaint_pursuant_frcp\", \"propose_finding_fact_conclusion\", \"appear_pro_hac_vice\", \"judge_individual_practice\", \"attorney_responsible_provide_courtesy\", \"responsereply\", \"certify_class\", \"note_attorney\", \"application_grant\", \"text\", \"nonecf_case_error\", \"mro\", \"pretrial_conference\", \"transfer_new_york_eastern\", \"withdrawal\", \"cancel\", \"l.p._balentine_global_hedge\", \"kco\", \"g.c\", \"withdraw_attorney\", \"cote\", \"ae\", \"wellington\", \"summons_issue\", \"lb\", \"oral_argument_set_pm\", \"attorney_terminate\", \"deposition\", \"copy\", \"inc..\", \"stipulation\", \"associate_case\", \"motion_dismiss_thirdparty\", \"judge\", \"dismissal\", \"make\", \"judge_c.d\", \"grant\", \"response\", \"extension_time\", \"motion\", \"order\", \"notice_appearance_behalf\", \"answer\", \"plaintiff\", \"summary_judgment\", \"defendant_'\", \"second_amend_complaint\", \"shall\", \"dismiss\", \"notice\", \"complaint\", \"exhibit\", \"court\", \"schedule\", \"letter\", \"date\", \"counsel\", \"conference\", \"'s\", \"april\", \"sign_judge\", \"defendant\", \"request\", \"party\", \"memorandum_law_support\", \"judgment\", \"case\", \"dismiss_pursuant_rule\", \"attachment_text_propose\", \"b_rule_..\", \"document_place_vault\", \"pacer\", \"transcript_proceeding_conference_hold\", \"telephone_conference_set\", \"judge_longer_assigned\", \"date_may_obtain\", \"magistrate_judge_designate\", \"tp\", \"member\", \"civil_action\", \"discovery_ruling_conference\", \"party_shall_comply\", \"case_designate\", \".._document\", \"gf\", \"g\", \"position\", \"custodian\", \"cyr\", \"ja\", \"sign_judge_s.d.n.y\", \"cal\", \"c\", \"settle\", \"rule_disclosure_statement\", \"affidavit_jr._c.p.a\", \"h\", \"f\", \"plaintiff_'s\", \"exhibit\", \"e\", \"b\", \"judge_d._kan._magistrate\", \"case\", \"p.c\", \"pennsylvania\", \"affidavit_service_summons_complaint\", \"party\", \"march\", \"order\", \"declaration\", \"serve_answer_due\", \"magistrate_judge\", \"hereby\", \"defendant\", \"action\", \"seal\", \"rule_statement\", \"'s\", \"attachment\", \"claim\", \"djc\", \"request\", \"motion\", \"reply\", \"shall\", \"discovery\", \"memorandum_law_support\", \"letter\", \"propose\", \"attorney\", \"declaration_support\", \"court\", \"date\", \"may\", \"counsel\", \"notice\", \"dismiss\", \"complaint\", \"certification\", \"rjm\", \"telephone_conference_hold\", \"usa\", \"yv\", \"cf\", \"sac\", \"kw\", \"jpo\", \"copy_mail_chamber\", \"dismiss_pursuant_frcp\", \"magistrate_judge_discovery_hear\", \"new_york_observer_l.p.\", \"notice_change_address\", \"judge_jury_trial\", \"anc\", \"sign_judge_copy_mail\", \"genesys_id_inc.._basile\", \"york_ny_magistrate_judge\", \"date_december\", \"pl\", \"reiter\", \"copy_mail\", \"scileppi\", \"ex\", \"new_address\", \"nd\", \"han\", \"certify_copy_docket_sheet\", \"pdf\", \"worcester\", \"public_terminal_purchase_court\", \"sign_judge_gr\", \"sign_magistrate_judge\", \"sign_judge\", \"l.p.\", \"minute_entry_proceeding_hold\", \"address\", \"motion\", \"attachment\", \"restriction\", \"llc\", \"'s\", \"notice\", \"mr.\", \"endorsed_letter_address\", \"date\", \"declaration_opposition\", \"reply_memorandum_law_support\", \"july\", \"defendant\", \"due\", \"order\", \"court\", \"request\", \"amend_complaint\", \"dismiss\", \"plaintiff\", \"memorandum_law_opposition\", \"summary_judgment\", \"modify\", \"party\", \"exhibit\", \"declaration_support\", \"magistrate_judge\"], \"logprob\": [30.0, 29.0, 28.0, 27.0, 26.0, 25.0, 24.0, 23.0, 22.0, 21.0, 20.0, 19.0, 18.0, 17.0, 16.0, 15.0, 14.0, 13.0, 12.0, 11.0, 10.0, 9.0, 8.0, 7.0, 6.0, 5.0, 4.0, 3.0, 2.0, 1.0, -5.9893999099731445, -6.498799800872803, -5.996500015258789, -6.322800159454346, -6.389200210571289, -7.015699863433838, -5.485599994659424, -7.129799842834473, -7.131499767303467, -7.523399829864502, -7.450099945068359, -6.977099895477295, -7.264100074768066, -6.696599960327148, -7.551300048828125, -5.012599945068359, -7.042200088500977, -7.658899784088135, -7.388199806213379, -7.21589994430542, -6.644700050354004, -7.528200149536133, -6.888400077819824, -6.018899917602539, -7.323200225830078, -6.548999786376953, -6.577300071716309, -6.606100082397461, -6.915900230407715, -7.550000190734863, -6.811399936676025, -5.396999835968018, -5.390999794006348, -4.521399974822998, -4.411200046539307, -5.978000164031982, -5.755799770355225, -4.262800216674805, -5.464300155639648, -5.732699871063232, -6.1168999671936035, -4.639500141143799, -5.296999931335449, -5.976799964904785, -2.7288999557495117, -3.0044000148773193, -5.487500190734863, -5.426000118255615, -4.515500068664551, -4.817599773406982, -5.208399772644043, -5.951700210571289, -4.465000152587891, -4.52269983291626, -4.1819000244140625, -4.785799980163574, -2.960700035095215, -4.483500003814697, -4.8404998779296875, -4.6981000900268555, -4.746099948883057, -5.104599952697754, -5.186600208282471, -4.661399841308594, -5.476600170135498, -4.933899879455566, -4.859899997711182, -5.144000053405762, -5.082300186157227, -5.23330020904541, -5.328800201416016, -5.313899993896484, -6.494699954986572, -6.726900100708008, -6.762899875640869, -6.19980001449585, -6.150000095367432, -6.439599990844727, -7.182300090789795, -7.152200222015381, -6.152400016784668, -6.88730001449585, -6.197400093078613, -7.303699970245361, -7.464300155639648, -6.797800064086914, -6.800600051879883, -6.874100208282471, -7.131100177764893, -6.972099781036377, -6.434100151062012, -7.354599952697754, -7.235799789428711, -6.892600059509277, -6.690000057220459, -6.083199977874756, -5.985199928283691, -5.0879998207092285, -7.010700225830078, -6.854700088500977, -7.430799961090088, -6.425899982452393, -5.919400215148926, -4.798799991607666, -2.0322000980377197, -5.6666998863220215, -4.666200160980225, -6.105800151824951, -4.4309000968933105, -5.65749979019165, -4.791100025177002, -6.206299781799316, -4.268700122833252, -5.2845001220703125, -3.0392000675201416, -5.349800109863281, -5.686500072479248, -4.7230000495910645, -5.081399917602539, -4.158100128173828, -4.990699768066406, -5.367000102996826, -5.736400127410889, -4.242099761962891, -4.749199867248535, -5.144199848175049, -5.379899978637695, -4.787600040435791, -3.496799945831299, -5.4730000495910645, -4.7204999923706055, -5.211999893188477, -5.0329999923706055, -4.856800079345703, -5.312900066375732, -5.461400032043457, -5.272299766540527, -4.921800136566162, -5.083899974822998, -5.329599857330322, -5.2657999992370605, -5.078199863433838, -5.213200092315674, -5.2758002281188965, -6.676000118255615, -5.1981000900268555, -5.772600173950195, -6.509300231933594, -5.8420000076293945, -6.2555999755859375, -5.526000022888184, -5.504300117492676, -6.498499870300293, -6.682000160217285, -6.946599960327148, -6.184700012207031, -7.263800144195557, -5.869500160217285, -6.551499843597412, -6.80679988861084, -5.761000156402588, -6.6616997718811035, -6.417500019073486, -6.475599765777588, -5.192200183868408, -5.813300132751465, -6.941400051116943, -7.183499813079834, -4.390500068664551, -6.348400115966797, -5.709700107574463, -5.23799991607666, -7.105999946594238, -6.975900173187256, -6.3302998542785645, -5.918700218200684, -5.789299964904785, -4.790599822998047, -3.9542999267578125, -4.608500003814697, -4.951499938964844, -5.589000225067139, -2.712899923324585, -4.412899971008301, -5.910699844360352, -5.013899803161621, -3.957200050354004, -4.053299903869629, -5.9019999504089355, -5.216800212860107, -4.534299850463867, -5.2052001953125, -5.471700191497803, -5.408199787139893, -4.460000038146973, -5.207200050354004, -3.989000082015991, -4.738800048828125, -4.898600101470947, -5.2058000564575195, -4.879199981689453, -4.921800136566162, -5.294000148773193, -5.113100051879883, -5.279399871826172, -5.010499954223633, -4.492700099945068, -5.250999927520752, -5.250699996948242], \"Category\": [\"Default\", \"Default\", \"Default\", \"Default\", \"Default\", \"Default\", \"Default\", \"Default\", \"Default\", \"Default\", \"Default\", \"Default\", \"Default\", \"Default\", \"Default\", \"Default\", \"Default\", \"Default\", \"Default\", \"Default\", \"Default\", \"Default\", \"Default\", \"Default\", \"Default\", \"Default\", \"Default\", \"Default\", \"Default\", \"Default\", \"Topic1\", \"Topic1\", \"Topic1\", \"Topic1\", \"Topic1\", \"Topic1\", \"Topic1\", \"Topic1\", \"Topic1\", \"Topic1\", \"Topic1\", \"Topic1\", \"Topic1\", \"Topic1\", \"Topic1\", \"Topic1\", \"Topic1\", \"Topic1\", \"Topic1\", \"Topic1\", \"Topic1\", \"Topic1\", \"Topic1\", \"Topic1\", \"Topic1\", \"Topic1\", \"Topic1\", \"Topic1\", \"Topic1\", \"Topic1\", \"Topic1\", \"Topic1\", \"Topic1\", \"Topic1\", \"Topic1\", \"Topic1\", \"Topic1\", \"Topic1\", \"Topic1\", \"Topic1\", \"Topic1\", \"Topic1\", \"Topic1\", \"Topic1\", \"Topic1\", \"Topic1\", \"Topic1\", \"Topic1\", \"Topic1\", \"Topic1\", \"Topic1\", \"Topic1\", \"Topic1\", \"Topic1\", \"Topic1\", \"Topic1\", \"Topic1\", \"Topic1\", \"Topic1\", \"Topic1\", \"Topic1\", \"Topic1\", \"Topic1\", \"Topic1\", \"Topic1\", \"Topic1\", \"Topic1\", \"Topic1\", \"Topic1\", \"Topic1\", \"Topic1\", \"Topic1\", \"Topic2\", \"Topic2\", \"Topic2\", \"Topic2\", \"Topic2\", \"Topic2\", \"Topic2\", \"Topic2\", \"Topic2\", \"Topic2\", \"Topic2\", \"Topic2\", \"Topic2\", \"Topic2\", \"Topic2\", \"Topic2\", \"Topic2\", \"Topic2\", \"Topic2\", \"Topic2\", \"Topic2\", \"Topic2\", \"Topic2\", \"Topic2\", \"Topic2\", \"Topic2\", \"Topic2\", \"Topic2\", \"Topic2\", \"Topic2\", \"Topic2\", \"Topic2\", \"Topic2\", \"Topic2\", \"Topic2\", \"Topic2\", \"Topic2\", \"Topic2\", \"Topic2\", \"Topic2\", \"Topic2\", \"Topic2\", \"Topic2\", \"Topic2\", \"Topic2\", \"Topic2\", \"Topic2\", \"Topic2\", \"Topic2\", \"Topic2\", \"Topic2\", \"Topic2\", \"Topic2\", \"Topic2\", \"Topic2\", \"Topic2\", \"Topic2\", \"Topic2\", \"Topic2\", \"Topic2\", \"Topic2\", \"Topic2\", \"Topic2\", \"Topic2\", \"Topic2\", \"Topic2\", \"Topic2\", \"Topic2\", \"Topic2\", \"Topic2\", \"Topic2\", \"Topic2\", \"Topic3\", \"Topic3\", \"Topic3\", \"Topic3\", \"Topic3\", \"Topic3\", \"Topic3\", \"Topic3\", \"Topic3\", \"Topic3\", \"Topic3\", \"Topic3\", \"Topic3\", \"Topic3\", \"Topic3\", \"Topic3\", \"Topic3\", \"Topic3\", \"Topic3\", \"Topic3\", \"Topic3\", \"Topic3\", \"Topic3\", \"Topic3\", \"Topic3\", \"Topic3\", \"Topic3\", \"Topic3\", \"Topic3\", \"Topic3\", \"Topic3\", \"Topic3\", \"Topic3\", \"Topic3\", \"Topic3\", \"Topic3\", \"Topic3\", \"Topic3\", \"Topic3\", \"Topic3\", \"Topic3\", \"Topic3\", \"Topic3\", \"Topic3\", \"Topic3\", \"Topic3\", \"Topic3\", \"Topic3\", \"Topic3\", \"Topic3\", \"Topic3\", \"Topic3\", \"Topic3\", \"Topic3\", \"Topic3\", \"Topic3\", \"Topic3\", \"Topic3\", \"Topic3\", \"Topic3\", \"Topic3\", \"Topic3\", \"Topic3\", \"Topic3\", \"Topic3\"]}, \"plot.opts\": {\"ylab\": \"PC2\", \"xlab\": \"PC1\"}, \"mdsDat\": {\"y\": [-0.060605881620532216, 0.036927445280863905, 0.023678436339668305], \"Freq\": [38.27583467666425, 36.36038460940252, 25.363780713933227], \"x\": [-0.010687254705091265, -0.0679875738391853, 0.07867482854427656], \"topics\": [1, 2, 3], \"cluster\": [1, 1, 1]}, \"topic.order\": [2, 3, 1], \"token.table\": {\"Topic\": [1, 2, 3, 1, 2, 3, 1, 2, 3, 1, 2, 3, 1, 2, 3, 1, 2, 3, 1, 2, 3, 1, 2, 3, 1, 2, 3, 1, 2, 3, 1, 2, 3, 1, 2, 3, 1, 2, 3, 1, 2, 3, 1, 2, 3, 1, 2, 3, 1, 2, 3, 1, 2, 3, 1, 2, 3, 1, 2, 3, 1, 2, 3, 1, 2, 3, 1, 2, 3, 1, 2, 3, 1, 2, 3, 1, 2, 3, 2, 3, 1, 3, 1, 2, 3, 1, 2, 3, 2, 3, 1, 2, 3, 1, 2, 3, 1, 2, 3, 1, 2, 3, 1, 2, 3, 1, 2, 3, 1, 2, 3, 1, 2, 3, 1, 2, 3, 1, 2, 3, 1, 2, 3, 1, 2, 3, 1, 2, 3, 1, 2, 3, 1, 2, 3, 1, 2, 3, 1, 2, 3, 1, 2, 3, 1, 2, 3, 1, 2, 3, 1, 2, 3, 1, 2, 3, 1, 2, 3, 1, 2, 3, 1, 2, 3, 1, 2, 3, 1, 2, 3, 1, 2, 3, 1, 2, 3, 1, 2, 3, 1, 2, 3, 1, 2, 3, 1, 2, 3, 1, 2, 3, 1, 2, 3, 1, 2, 3, 1, 2, 3, 1, 2, 3, 1, 2, 3, 1, 2, 3, 1, 2, 3, 1, 2, 3, 1, 2, 3, 1, 2, 3, 1, 2, 3, 1, 2, 3, 1, 2, 3, 1, 2, 3, 1, 2, 3, 1, 2, 3, 1, 2, 3, 1, 2, 3, 1, 2, 3, 1, 2, 3, 1, 2, 3, 1, 2, 3, 1, 2, 3, 1, 2, 3, 1, 2, 3, 1, 2, 3, 1, 2, 3, 1, 2, 3, 1, 2, 3, 1, 2, 3, 1, 2, 3, 1, 2, 3, 1, 2, 3, 1, 2, 3, 1, 2, 3, 1, 2, 3, 1, 2, 3, 1, 2, 3, 1, 2, 3, 1, 2, 3, 1, 2, 3, 1, 2, 3, 1, 2, 3, 1, 2, 3, 1, 2, 3, 1, 2, 3, 1, 2, 3, 1, 2, 3, 1, 2, 3, 1, 2, 3, 1, 2, 3, 1, 2, 3, 1, 2, 3, 1, 2, 3, 1, 2, 3, 1, 2, 3, 1, 2, 3, 1, 2, 3, 1, 2, 3, 1, 2, 3, 1, 2, 3, 1, 2, 3, 1, 2, 3, 1, 2, 3, 1, 2, 3, 1, 2, 3, 1, 2, 3, 1, 2, 3, 1, 2, 3, 1, 2, 3, 1, 2, 3, 1, 2, 3, 1, 2, 3, 1, 2, 3, 1, 2, 3, 1, 1, 2, 3, 1, 2, 3, 1, 2, 3, 1, 2, 3, 1, 2, 3, 1, 2, 3, 1, 2, 3, 1, 2, 3, 1, 2, 3, 1, 2, 3, 1, 2, 3, 1, 2, 3, 1, 2, 3, 1, 2, 3, 1, 2, 3, 1, 2, 3, 1, 2, 3, 1, 2, 3, 1, 2, 3, 1, 2, 3, 1, 2, 3, 1, 2, 3, 1, 2, 3, 1, 2, 3, 1, 2, 3, 1, 2, 3, 1, 3, 1, 2, 3, 1, 2, 3, 1, 2, 3, 1, 3, 1, 2, 3, 1, 2, 3, 1, 2, 3], \"Freq\": [0.2635559280416088, 0.3816426750212907, 0.3542602409390456, 0.13314391240278092, 0.7988634744166855, 0.06657195620139046, 0.2422803784036101, 0.570704891350726, 0.18844029431391895, 0.22849495870663772, 0.11424747935331886, 0.652842739161822, 0.8258463311123801, 0.10771908666683219, 0.07181272444455479, 0.1711926856122887, 0.7703670852552992, 0.08559634280614435, 0.1208838334302391, 0.7494797672674824, 0.14506060011628694, 0.3947616277822965, 0.22921642903488185, 0.37566025869605635, 0.1387307231938074, 0.0693653615969037, 0.8323843391628443, 0.6782592097194196, 0.09420266801658604, 0.2260864032398065, 0.9216823185770385, 0.054216606975119916, 0.027108303487559958, 0.8636575315925413, 0.0785143210538674, 0.0785143210538674, 0.5913521075588415, 0.24349792664187592, 0.1565343814126345, 0.7935327851634593, 0.05806337452415555, 0.15483566539774815, 0.11925508722877771, 0.44389393579600595, 0.4339560118602745, 0.05047217666429436, 0.9589713566215929, 0.05047217666429436, 0.1775332162344629, 0.5579615367368834, 0.26207284301277856, 0.9075177396946983, 0.06980905689959219, 0.06980905689959219, 0.8145815340119353, 0.13576358900198923, 0.04525452966732974, 0.20674941122588078, 0.6860321372495135, 0.10807355586807404, 0.05197425679459945, 0.9355366223027901, 0.05197425679459945, 0.09960954651663055, 0.7968763721330444, 0.09960954651663055, 0.10331995562177466, 0.8058956538498424, 0.08265596449741973, 0.8613214111392399, 0.07177678426160332, 0.07177678426160332, 0.27948161383323405, 0.6463012319893537, 0.07336392363122393, 0.10323650400034347, 0.8258920320027477, 0.10323650400034347, 0.06683226485626914, 0.935651707987768, 0.8581817839898851, 0.09535353155443169, 0.0868785223437926, 0.1737570446875852, 0.7819067010941334, 0.0422626962165419, 0.0845253924330838, 0.8875166205473799, 0.853736691339593, 0.09485963237106589, 0.21230862691860813, 0.5164263898020198, 0.26968933689661034, 0.5230577323071098, 0.30383500626662996, 0.16922456045230025, 0.9212089398367148, 0.034118849623582026, 0.034118849623582026, 0.46903772497698304, 0.25255877498760626, 0.27833007855777014, 0.9619402665378585, 0.03847761066151434, 0.03847761066151434, 0.7786238855101844, 0.11574138838664903, 0.09469749958907649, 0.15208008674890486, 0.07604004337445243, 0.7604004337445243, 0.06420305020168111, 0.06420305020168111, 0.8988427028235356, 0.8653206947006714, 0.07866551770006104, 0.07866551770006104, 0.44737804665589676, 0.3615176134593105, 0.189796747066138, 0.46919840102729143, 0.2881490180221953, 0.2422491744434385, 0.07347127802585014, 0.8081840582843517, 0.07347127802585014, 0.1034317961679141, 0.8274543693433128, 0.05171589808395705, 0.40098306515252524, 0.2710871426383269, 0.32756363068797834, 0.09731005878276507, 0.04865502939138253, 0.827135499653503, 0.05159948665473788, 0.8513915298031751, 0.10319897330947576, 0.11291038954808243, 0.6427206789660077, 0.25187702283803004, 0.310573475891931, 0.22516577002164997, 0.4580958769405982, 0.235854500262822, 0.44924666716728007, 0.32008825035668703, 0.2569181175548797, 0.4915834847703604, 0.25287216294771625, 0.6233489832477683, 0.2171215559627058, 0.16109018668200753, 0.802236911393722, 0.15177455080421767, 0.05420519671579203, 0.3011085601265845, 0.5018476002109741, 0.20073904008438964, 0.14470259047885944, 0.8199813460468702, 0.048234196826286484, 0.5143877671326001, 0.24411622846970854, 0.23830393731566787, 0.08312434975455317, 0.08312434975455317, 0.8312434975455317, 0.04023557040170358, 0.9254181192391823, 0.04023557040170358, 0.7510035817906081, 0.10884109881023306, 0.14149342845330298, 0.10228905872105246, 0.5586556283995943, 0.33047234356032335, 0.05688392199426877, 0.8817007909111659, 0.028441960997134384, 0.45218005746672096, 0.1321757091056569, 0.41044035985440824, 0.18451100119219685, 0.76643031264451, 0.05677261575144518, 0.9533918665044823, 0.02325346015864591, 0.02325346015864591, 0.31703348404783627, 0.20023167413547552, 0.4922361989163773, 0.0469042446321007, 0.16416485621235247, 0.7856460975876868, 0.28202526329113764, 0.6777273762067173, 0.040336946640931036, 0.7555065284300718, 0.2211238619795332, 0.018426988498294435, 0.11310346269160579, 0.7917242388412405, 0.11310346269160579, 0.06608902881400681, 0.8261128601750852, 0.09913354322101023, 0.8737906714191367, 0.10279890251989844, 0.05139945125994922, 0.059726224679542465, 0.11945244935908493, 0.8361671455135945, 0.11322435558911605, 0.8491826669183703, 0.05661217779455802, 0.6607058503107686, 0.28017273399254106, 0.06272523895355397, 0.12515602616778737, 0.782225163548671, 0.06257801308389369, 0.06806754944246947, 0.14974860877343282, 0.775970063644152, 0.36528333420854714, 0.594359323457975, 0.03714745771612344, 0.751455102952231, 0.0675465261080657, 0.18153128891542658, 0.12661862458039483, 0.801917955675834, 0.0844124163869299, 0.10730578118386287, 0.053652890591931436, 0.858446249470903, 0.6984093021185253, 0.18219373098744135, 0.12146248732496091, 0.7830353463794133, 0.08700392737549036, 0.13050589106323554, 0.19813441610365534, 0.7705227292919931, 0.044029870245256744, 0.9074907608010003, 0.06980698160007695, 0.06980698160007695, 0.10802790241571227, 0.05401395120785613, 0.810209268117842, 0.07268075313104332, 0.8721690375725198, 0.07268075313104332, 0.490728003309469, 0.3975518001494432, 0.1118114437920309, 0.2699234295699768, 0.2180150777295966, 0.4983201776676494, 0.8795620592519156, 0.0977291176946573, 0.0977291176946573, 0.05963191385875449, 0.05963191385875449, 0.8746014032617325, 0.27278198888781885, 0.1136591620365912, 0.6137594749975924, 0.8488482051789379, 0.04042134310375895, 0.12126402931127685, 0.8230960502483199, 0.10288700628103999, 0.05144350314051999, 0.4628675304820875, 0.3758857126733731, 0.1615376616447554, 0.3037272916800269, 0.19071248547350525, 0.5085666279293473, 0.20783260724287309, 0.5623705843042448, 0.23228350221262284, 0.05379233335831891, 0.8606773337331025, 0.05379233335831891, 0.07748868832519745, 0.038744344162598726, 0.8523755715771719, 0.7673863047663189, 0.13031088194145038, 0.10135290817668362, 0.2823176519421882, 0.6372312715266535, 0.08066218626919663, 0.2876336479657382, 0.4229906587731444, 0.2876336479657382, 0.08130901324093401, 0.8130901324093401, 0.08130901324093401, 0.4004091221000752, 0.20384464397822008, 0.39312895624371014, 0.3773145765418756, 0.438031864721028, 0.1821518645374572, 0.3306268622559881, 0.05644848867785163, 0.6209333754563678, 0.43745733429163247, 0.18455231290428245, 0.37593989665687166, 0.4728900541580947, 0.2084974910453138, 0.31851318844794746, 0.7829123850795445, 0.09033604443225514, 0.13550406664838271, 0.08986907523142824, 0.24713995688642768, 0.6740180642357119, 0.8855883731867865, 0.05687264781933492, 0.05687264781933492, 0.08728091438132603, 0.13092137157198905, 0.7855282294319342, 0.12439851167304582, 0.08293234111536388, 0.7878572405959569, 0.11256983742871837, 0.11256983742871837, 0.900558699429747, 0.9287739715166244, 0.1031971079462916, 0.1031971079462916, 0.8885398645779476, 0.059235990971863176, 0.059235990971863176, 0.46632273345456526, 0.18165986002045315, 0.35208302766850713, 0.6940511307179238, 0.18371941695474453, 0.1326862455784266, 0.10928038350901101, 0.054640191754505504, 0.8469229721948354, 0.8586017389688091, 0.09540019321875656, 0.09540019321875656, 0.4615942465292518, 0.4239363722759383, 0.11411477046458635, 0.08035135175000872, 0.7231621657500785, 0.187486487416687, 0.05380149792010141, 0.8877247156816732, 0.05380149792010141, 0.2585090490114428, 0.555410531044387, 0.18428367850320673, 0.14468810286737135, 0.8198992495817711, 0.04822936762245712, 0.07581815260045738, 0.22745445780137213, 0.7581815260045738, 0.20572361819865093, 0.6634586686906492, 0.12857726137415681, 0.04025484187493285, 0.1476010868747538, 0.805096837498657, 0.5568850896292077, 0.1991097527165882, 0.24577610100953856, 0.14072932097677104, 0.7505563785427789, 0.11141071243994374, 0.08276740708291368, 0.8276740708291368, 0.08276740708291368, 0.8523628196087027, 0.060883058543478766, 0.060883058543478766, 0.341829186332186, 0.5093925129656105, 0.1407531943720766, 0.9457235431212095, 0.06304823620808064, 0.06304823620808064, 0.025148654464349787, 0.25148654464349784, 0.7293109794661438, 0.9304627884301737, 0.03208492373897151, 0.03208492373897151, 0.12385216624777175, 0.07431129974866305, 0.7926538639857392, 0.33209423781309344, 0.5834087961581371, 0.08077967946804976, 0.31547600694612843, 0.15189585519628404, 0.525793344910214, 0.3112181506131714, 0.42260148872735903, 0.26535442315438823, 0.7157638029039219, 0.16584771042895752, 0.12220357610554765, 0.9281932777195705, 0.09342692278049208, 0.2335673069512302, 0.6773451901585676, 0.04555123835637803, 0.04555123835637803, 0.9110247671275606, 0.09693411059371168, 0.7754728847496934, 0.09693411059371168, 0.22556311177663713, 0.6634209169901092, 0.10614734671841747, 0.08127366552123504, 0.04063683276061752, 0.8736919043532766, 0.5124786829472616, 0.27411650483225625, 0.21055325733492145, 0.09586315064730176, 0.09586315064730176, 0.7669052051784141, 0.1575208053414949, 0.5969209465572438, 0.2404264923633343, 0.7279414176496858, 0.20798326218562452, 0.05199581554640613, 0.07761792480474405, 0.6856250024419058, 0.24579009521502285, 0.17007787832462412, 0.7936967655149126, 0.05669262610820804, 0.5133226654148072, 0.3768006799321458, 0.1092175883861292, 0.343094784185722, 0.055244075419734896, 0.6018696637834275, 0.07302673744520653, 0.09736898326027538, 0.8276363577123407, 0.1751404981705626, 0.10946281135660162, 0.7224545549535707, 0.06849528005028378, 0.7991116005866442, 0.11415880008380631, 0.12419442444138154, 0.2191666313671439, 0.6574998941014317, 0.7381069181637704, 0.1491125087199536, 0.11183438153996521, 0.5834571410196316, 0.12818376583007057, 0.2873084406536065, 0.8307368021164989, 0.1132822911977044, 0.037760763732568134, 0.0801258460323069, 0.0267086153441023, 0.9080929216994782, 0.07494514387317218, 0.8993417264780661, 0.07494514387317218, 0.8859128634201985, 0.08859128634201985, 0.044295643171009924, 0.05380794378654264, 0.8609271005846822, 0.08071191567981396, 0.9536767726441677, 0.02326040908888214, 0.02326040908888214, 0.07183037450334942, 0.8978796812918677, 0.03591518725167471, 0.8985854627226786, 0.11232318284033482, 0.05534927993066343, 0.05534927993066343, 0.8855884788906149, 0.8441101162606209, 0.1101013195122549, 0.0734008796748366, 0.8572915925916164, 0.04286457962958082, 0.10716144907395204, 0.853982389440396, 0.0853982389440396, 0.155333625194097, 0.11650021889557274, 0.7378347196719607, 0.09354157220712551, 0.09354157220712551, 0.8418741498641297, 0.05625143925389772, 0.05625143925389772, 0.8718973084354147], \"Term\": [\"'s\", \"'s\", \"'s\", \".._document\", \".._document\", \".._document\", \"action\", \"action\", \"action\", \"address\", \"address\", \"address\", \"ae\", \"ae\", \"ae\", \"affidavit_jr._c.p.a\", \"affidavit_jr._c.p.a\", \"affidavit_jr._c.p.a\", \"affidavit_service_summons_complaint\", \"affidavit_service_summons_complaint\", \"affidavit_service_summons_complaint\", \"amend_complaint\", \"amend_complaint\", \"amend_complaint\", \"anc\", \"anc\", \"anc\", \"answer\", \"answer\", \"answer\", \"appear_pro_hac_vice\", \"appear_pro_hac_vice\", \"appear_pro_hac_vice\", \"application_grant\", \"application_grant\", \"application_grant\", \"april\", \"april\", \"april\", \"associate_case\", \"associate_case\", \"associate_case\", \"attachment\", \"attachment\", \"attachment\", \"attachment_text_propose\", \"attachment_text_propose\", \"attachment_text_propose\", \"attorney\", \"attorney\", \"attorney\", \"attorney_responsible_provide_courtesy\", \"attorney_responsible_provide_courtesy\", \"attorney_responsible_provide_courtesy\", \"attorney_terminate\", \"attorney_terminate\", \"attorney_terminate\", \"b\", \"b\", \"b\", \"b_rule_..\", \"b_rule_..\", \"b_rule_..\", \"c\", \"c\", \"c\", \"cal\", \"cal\", \"cal\", \"cancel\", \"cancel\", \"cancel\", \"case\", \"case\", \"case\", \"case_designate\", \"case_designate\", \"case_designate\", \"certification\", \"certification\", \"certify_class\", \"certify_class\", \"certify_copy_docket_sheet\", \"certify_copy_docket_sheet\", \"certify_copy_docket_sheet\", \"cf\", \"cf\", \"cf\", \"civil_action\", \"civil_action\", \"claim\", \"claim\", \"claim\", \"complaint\", \"complaint\", \"complaint\", \"complaint_pursuant_frcp\", \"complaint_pursuant_frcp\", \"complaint_pursuant_frcp\", \"conference\", \"conference\", \"conference\", \"conference_proceed_hold\", \"conference_proceed_hold\", \"conference_proceed_hold\", \"copy\", \"copy\", \"copy\", \"copy_mail\", \"copy_mail\", \"copy_mail\", \"copy_mail_chamber\", \"copy_mail_chamber\", \"copy_mail_chamber\", \"cote\", \"cote\", \"cote\", \"counsel\", \"counsel\", \"counsel\", \"court\", \"court\", \"court\", \"custodian\", \"custodian\", \"custodian\", \"cyr\", \"cyr\", \"cyr\", \"date\", \"date\", \"date\", \"date_december\", \"date_december\", \"date_december\", \"date_may_obtain\", \"date_may_obtain\", \"date_may_obtain\", \"declaration\", \"declaration\", \"declaration\", \"declaration_opposition\", \"declaration_opposition\", \"declaration_opposition\", \"declaration_support\", \"declaration_support\", \"declaration_support\", \"defendant\", \"defendant\", \"defendant\", \"defendant_'\", \"defendant_'\", \"defendant_'\", \"deposition\", \"deposition\", \"deposition\", \"discovery\", \"discovery\", \"discovery\", \"discovery_ruling_conference\", \"discovery_ruling_conference\", \"discovery_ruling_conference\", \"dismiss\", \"dismiss\", \"dismiss\", \"dismiss_pursuant_frcp\", \"dismiss_pursuant_frcp\", \"dismiss_pursuant_frcp\", \"dismiss_pursuant_rule\", \"dismiss_pursuant_rule\", \"dismiss_pursuant_rule\", \"dismissal\", \"dismissal\", \"dismissal\", \"djc\", \"djc\", \"djc\", \"document_place_vault\", \"document_place_vault\", \"document_place_vault\", \"due\", \"due\", \"due\", \"e\", \"e\", \"e\", \"electronically_available_public_without\", \"electronically_available_public_without\", \"electronically_available_public_without\", \"endorsed_letter_address\", \"endorsed_letter_address\", \"endorsed_letter_address\", \"ex\", \"ex\", \"ex\", \"exhibit\", \"exhibit\", \"exhibit\", \"extension_time\", \"extension_time\", \"extension_time\", \"f\", \"f\", \"f\", \"g\", \"g\", \"g\", \"g.c\", \"g.c\", \"g.c\", \"genesys_id_inc.._basile\", \"genesys_id_inc.._basile\", \"genesys_id_inc.._basile\", \"gf\", \"gf\", \"gf\", \"grant\", \"grant\", \"grant\", \"h\", \"h\", \"h\", \"han\", \"han\", \"han\", \"hereby\", \"hereby\", \"hereby\", \"inc..\", \"inc..\", \"inc..\", \"ja\", \"ja\", \"ja\", \"jpo\", \"jpo\", \"jpo\", \"judge\", \"judge\", \"judge\", \"judge_c.d\", \"judge_c.d\", \"judge_c.d\", \"judge_d._kan._magistrate\", \"judge_d._kan._magistrate\", \"judge_d._kan._magistrate\", \"judge_individual_practice\", \"judge_individual_practice\", \"judge_individual_practice\", \"judge_jury_trial\", \"judge_jury_trial\", \"judge_jury_trial\", \"judge_longer_assigned\", \"judge_longer_assigned\", \"judge_longer_assigned\", \"judgment\", \"judgment\", \"judgment\", \"july\", \"july\", \"july\", \"kco\", \"kco\", \"kco\", \"kw\", \"kw\", \"kw\", \"l.p.\", \"l.p.\", \"l.p.\", \"l.p._balentine_global_hedge\", \"l.p._balentine_global_hedge\", \"l.p._balentine_global_hedge\", \"lb\", \"lb\", \"lb\", \"letter\", \"letter\", \"letter\", \"llc\", \"llc\", \"llc\", \"magistrate_judge\", \"magistrate_judge\", \"magistrate_judge\", \"magistrate_judge_designate\", \"magistrate_judge_designate\", \"magistrate_judge_designate\", \"magistrate_judge_discovery_hear\", \"magistrate_judge_discovery_hear\", \"magistrate_judge_discovery_hear\", \"make\", \"make\", \"make\", \"march\", \"march\", \"march\", \"may\", \"may\", \"may\", \"member\", \"member\", \"member\", \"memorandum_law_opposition\", \"memorandum_law_opposition\", \"memorandum_law_opposition\", \"memorandum_law_support\", \"memorandum_law_support\", \"memorandum_law_support\", \"minute_entry_proceeding_hold\", \"minute_entry_proceeding_hold\", \"minute_entry_proceeding_hold\", \"modify\", \"modify\", \"modify\", \"motion\", \"motion\", \"motion\", \"motion_dismiss_thirdparty\", \"motion_dismiss_thirdparty\", \"motion_dismiss_thirdparty\", \"mr.\", \"mr.\", \"mr.\", \"mro\", \"mro\", \"mro\", \"nd\", \"nd\", \"nd\", \"new_address\", \"new_address\", \"new_address\", \"new_york_observer_l.p.\", \"new_york_observer_l.p.\", \"new_york_observer_l.p.\", \"nonecf_case_error\", \"nonecf_case_error\", \"nonecf_case_error\", \"note_attorney\", \"note_attorney\", \"note_attorney\", \"notice\", \"notice\", \"notice\", \"notice_appearance_behalf\", \"notice_appearance_behalf\", \"notice_appearance_behalf\", \"notice_change_address\", \"notice_change_address\", \"notice_change_address\", \"oral_argument_set_pm\", \"oral_argument_set_pm\", \"oral_argument_set_pm\", \"order\", \"order\", \"order\", \"p.c\", \"p.c\", \"p.c\", \"pacer\", \"pacer\", \"pacer\", \"party\", \"party\", \"party\", \"party_shall_comply\", \"party_shall_comply\", \"party_shall_comply\", \"pdf\", \"pdf\", \"pdf\", \"pennsylvania\", \"pennsylvania\", \"pennsylvania\", \"pl\", \"pl\", \"pl\", \"plaintiff\", \"plaintiff\", \"plaintiff\", \"plaintiff_'s\", \"plaintiff_'s\", \"plaintiff_'s\", \"position\", \"position\", \"position\", \"pretrial_conference\", \"pretrial_conference\", \"pretrial_conference\", \"propose\", \"propose\", \"propose\", \"propose_finding_fact_conclusion\", \"propose_finding_fact_conclusion\", \"propose_finding_fact_conclusion\", \"public_terminal_purchase_court\", \"public_terminal_purchase_court\", \"public_terminal_purchase_court\", \"redaction_calendar_day_mcguirk\", \"redaction_calendar_day_mcguirk\", \"redaction_calendar_day_mcguirk\", \"reiter\", \"reiter\", \"reiter\", \"reply\", \"reply\", \"reply\", \"reply_memorandum_law_support\", \"reply_memorandum_law_support\", \"reply_memorandum_law_support\", \"request\", \"request\", \"request\", \"response\", \"response\", \"response\", \"responsereply\", \"restriction\", \"restriction\", \"restriction\", \"rjm\", \"rjm\", \"rjm\", \"rule_disclosure_statement\", \"rule_disclosure_statement\", \"rule_disclosure_statement\", \"rule_statement\", \"rule_statement\", \"rule_statement\", \"sac\", \"sac\", \"sac\", \"schedule\", \"schedule\", \"schedule\", \"scileppi\", \"scileppi\", \"scileppi\", \"seal\", \"seal\", \"seal\", \"second_amend_complaint\", \"second_amend_complaint\", \"second_amend_complaint\", \"serve_answer_due\", \"serve_answer_due\", \"serve_answer_due\", \"settle\", \"settle\", \"settle\", \"shall\", \"shall\", \"shall\", \"sign_judge\", \"sign_judge\", \"sign_judge\", \"sign_judge_copy_mail\", \"sign_judge_copy_mail\", \"sign_judge_copy_mail\", \"sign_judge_gr\", \"sign_judge_gr\", \"sign_judge_gr\", \"sign_judge_s.d.n.y\", \"sign_judge_s.d.n.y\", \"sign_judge_s.d.n.y\", \"sign_magistrate_judge\", \"sign_magistrate_judge\", \"sign_magistrate_judge\", \"stipulation\", \"stipulation\", \"stipulation\", \"summary_judgment\", \"summary_judgment\", \"summary_judgment\", \"summons_issue\", \"summons_issue\", \"summons_issue\", \"telephone_conference_hold\", \"telephone_conference_hold\", \"telephone_conference_hold\", \"telephone_conference_set\", \"telephone_conference_set\", \"telephone_conference_set\", \"text\", \"text\", \"text\", \"tp\", \"tp\", \"tp\", \"transcript_may_make_remotely\", \"transcript_may_make_remotely\", \"transcript_may_make_remotely\", \"transcript_proceeding_conference_hold\", \"transcript_proceeding_conference_hold\", \"transcript_proceeding_conference_hold\", \"transfer_new_york_eastern\", \"transfer_new_york_eastern\", \"usa\", \"usa\", \"usa\", \"wellington\", \"wellington\", \"wellington\", \"withdraw_attorney\", \"withdraw_attorney\", \"withdraw_attorney\", \"withdrawal\", \"withdrawal\", \"worcester\", \"worcester\", \"worcester\", \"york_ny_magistrate_judge\", \"york_ny_magistrate_judge\", \"york_ny_magistrate_judge\", \"yv\", \"yv\", \"yv\"]}, \"R\": 30, \"lambda.step\": 0.01};\n",
       "\n",
       "function LDAvis_load_lib(url, callback){\n",
       "  var s = document.createElement('script');\n",
       "  s.src = url;\n",
       "  s.async = true;\n",
       "  s.onreadystatechange = s.onload = callback;\n",
       "  s.onerror = function(){console.warn(\"failed to load library \" + url);};\n",
       "  document.getElementsByTagName(\"head\")[0].appendChild(s);\n",
       "}\n",
       "\n",
       "if(typeof(LDAvis) !== \"undefined\"){\n",
       "   // already loaded: just create the visualization\n",
       "   !function(LDAvis){\n",
       "       new LDAvis(\"#\" + \"ldavis_el134521984012240600568429951\", ldavis_el134521984012240600568429951_data);\n",
       "   }(LDAvis);\n",
       "}else if(typeof define === \"function\" && define.amd){\n",
       "   // require.js is available: use it to load d3/LDAvis\n",
       "   require.config({paths: {d3: \"https://cdnjs.cloudflare.com/ajax/libs/d3/3.5.5/d3.min\"}});\n",
       "   require([\"d3\"], function(d3){\n",
       "      window.d3 = d3;\n",
       "      LDAvis_load_lib(\"https://cdn.rawgit.com/bmabey/pyLDAvis/files/ldavis.v1.0.0.js\", function(){\n",
       "        new LDAvis(\"#\" + \"ldavis_el134521984012240600568429951\", ldavis_el134521984012240600568429951_data);\n",
       "      });\n",
       "    });\n",
       "}else{\n",
       "    // require.js not available: dynamically load d3 & LDAvis\n",
       "    LDAvis_load_lib(\"https://cdnjs.cloudflare.com/ajax/libs/d3/3.5.5/d3.min.js\", function(){\n",
       "         LDAvis_load_lib(\"https://cdn.rawgit.com/bmabey/pyLDAvis/files/ldavis.v1.0.0.js\", function(){\n",
       "                 new LDAvis(\"#\" + \"ldavis_el134521984012240600568429951\", ldavis_el134521984012240600568429951_data);\n",
       "            })\n",
       "         });\n",
       "}\n",
       "</script>"
      ],
      "text/plain": [
       "<IPython.core.display.HTML object>"
      ]
     },
     "execution_count": 330,
     "metadata": {},
     "output_type": "execute_result"
    }
   ],
   "source": [
    "lda3_model_filepath = 'docket_texts/lda_model_noorgnomodel_3'\n",
    "LDAvis_prepared = topic_modeling_pipeline(3, lda3_model_filepath, trigram_bow_corpus, trigram_dictionary)\n",
    "pyLDAvis.display(LDAvis_prepared)"
   ]
  },
  {
   "cell_type": "code",
   "execution_count": 331,
   "metadata": {
    "scrolled": false
   },
   "outputs": [
    {
     "name": "stdout",
     "output_type": "stream",
     "text": [
      "\n",
      " Topic 1's make-up:\n",
      "term                 frequency\n",
      "\n",
      "motion               0.050\n",
      "exhibit              0.038\n",
      "order                0.023\n",
      "'s                   0.020\n",
      "shall                0.015\n",
      "dismiss              0.014\n",
      "letter               0.014\n",
      "ex                   0.013\n",
      "notice               0.012\n",
      "schedule             0.011\n",
      "\n",
      " Topic 2's make-up:\n",
      "term                 frequency\n",
      "\n",
      "exhibit              0.255\n",
      "order                0.050\n",
      "judge                0.015\n",
      "shall                0.015\n",
      "attachment           0.013\n",
      "magistrate_judge     0.013\n",
      "case                 0.012\n",
      "minute_entry_proceeding_hold 0.011\n",
      "defendant            0.010\n",
      "request              0.010\n",
      "\n",
      " Topic 3's make-up:\n",
      "term                 frequency\n",
      "\n",
      "motion               0.070\n",
      "inc..                0.029\n",
      "notice               0.025\n",
      "'s                   0.022\n",
      "serve_answer_due     0.014\n",
      "dismiss              0.014\n",
      "sign_judge_iii       0.013\n",
      "defendant            0.012\n",
      "mro                  0.011\n",
      "summary_judgment     0.009\n",
      "\n",
      " Topic 4's make-up:\n",
      "term                 frequency\n",
      "\n",
      "motion               0.110\n",
      "order                0.036\n",
      "pennsylvania         0.016\n",
      "party                0.013\n",
      "memorandum_law_support 0.013\n",
      "defendant            0.013\n",
      "sign_judge           0.011\n",
      "date                 0.011\n",
      "summary_judgment     0.011\n",
      "letter               0.011\n",
      "\n",
      " Topic 5's make-up:\n",
      "term                 frequency\n",
      "\n",
      "order                0.069\n",
      "motion               0.042\n",
      "notice               0.021\n",
      "court                0.020\n",
      "complaint            0.018\n",
      "'s                   0.016\n",
      "defendant            0.015\n",
      "stipulation          0.013\n",
      "plaintiff            0.011\n",
      "grant                0.011\n"
     ]
    },
    {
     "data": {
      "text/html": [
       "\n",
       "<link rel=\"stylesheet\" type=\"text/css\" href=\"https://cdn.rawgit.com/bmabey/pyLDAvis/files/ldavis.v1.0.0.css\">\n",
       "\n",
       "\n",
       "<div id=\"ldavis_el1345219840122420409733813517\"></div>\n",
       "<script type=\"text/javascript\">\n",
       "\n",
       "var ldavis_el1345219840122420409733813517_data = {\"tinfo\": {\"loglift\": [30.0, 29.0, 28.0, 27.0, 26.0, 25.0, 24.0, 23.0, 22.0, 21.0, 20.0, 19.0, 18.0, 17.0, 16.0, 15.0, 14.0, 13.0, 12.0, 11.0, 10.0, 9.0, 8.0, 7.0, 6.0, 5.0, 4.0, 3.0, 2.0, 1.0, 1.3691, 1.3691, 1.3688, 1.3575, 1.3557, 1.3454, 1.3296, 1.2948, 1.2814, 1.2601, 1.2565, 1.2464, 1.2436, 1.2315, 1.2282, 1.1639, 1.13, 1.1288, 1.1248, 1.1035, 1.0763, 1.0738, 1.0679, 1.0677, 1.0674, 1.0617, 1.0283, 1.0243, 1.0073, 1.0054, 0.9994, 0.9728, 0.9858, 0.8802, 0.7662, 0.5179, 0.7339, 0.911, 0.8241, 0.4866, 0.6363, 0.7757, 0.9484, 0.4042, 0.2322, -0.2532, 0.3677, 0.1176, 0.3635, 0.2231, 0.4046, 0.0797, 0.0664, 0.046, 0.1272, 0.236, -2.0265, 0.2591, 0.1619, -0.3998, -0.3901, 1.5039, 1.4742, 1.4647, 1.4524, 1.438, 1.4155, 1.3971, 1.3928, 1.3779, 1.3712, 1.3226, 1.3123, 1.3042, 1.3027, 1.2975, 1.2927, 1.2811, 1.2726, 1.2337, 1.2309, 1.227, 1.2249, 1.2175, 1.2127, 1.2119, 1.1951, 1.1887, 1.1878, 1.1859, 1.1815, 1.1796, 1.1766, 1.0835, 1.1021, 1.0349, 0.7099, 1.1364, 0.8623, 0.9077, 0.9802, 0.7956, 0.7571, 0.6815, 0.8969, 0.9011, 0.7672, 0.7356, 0.8415, -0.1391, 0.3604, 0.4973, 0.3496, 0.341, 0.2563, 0.071, 0.5871, 0.5126, 0.2095, 0.3549, -0.4953, -0.1312, -0.3166, -0.079, -0.2809, 1.5176, 1.5158, 1.5022, 1.4494, 1.4327, 1.4313, 1.4298, 1.4281, 1.4113, 1.3996, 1.3979, 1.3799, 1.3797, 1.3712, 1.3609, 1.3426, 1.3295, 1.318, 1.3174, 1.2842, 1.2795, 1.2647, 1.2565, 1.2532, 1.2502, 1.2471, 1.2356, 1.2237, 1.1904, 1.1593, 1.1481, 1.1394, 1.0906, 1.0968, 0.8321, 1.0982, 0.7142, 1.0758, 0.669, 0.6003, 0.2091, 0.5825, 0.9466, 0.7579, 0.8159, 0.571, 0.3177, 0.5598, 0.1207, -0.1606, 0.6894, 0.1991, 0.498, 0.638, 0.2794, 0.2243, -0.2946, -0.5708, 0.036, -0.6901, -0.3261, 0.4401, -0.4089, -2.3124, -0.3102, 1.5665, 1.5652, 1.5645, 1.5255, 1.5177, 1.4872, 1.4868, 1.4866, 1.4489, 1.4412, 1.43, 1.4202, 1.4195, 1.3461, 1.343, 1.311, 1.2775, 1.2647, 1.2555, 1.2221, 1.2136, 1.2124, 1.2076, 1.2055, 1.2027, 1.2015, 1.1898, 1.1593, 1.1545, 1.1521, 1.1219, 1.0747, 1.113, 1.0902, 1.0338, 0.9135, 0.8982, 0.9774, 0.8634, 0.6147, 0.5822, 0.549, 0.6247, 0.6504, 0.3658, -0.0781, 0.7867, 0.7921, 0.7191, 0.5459, -0.5404, 0.184, 0.1253, -0.5892, -0.0821, 0.1728, 0.291, -0.131, 0.0256, -0.3272, -0.1798, -0.1085, 0.1946, 0.1105, 2.0498, 2.0454, 2.0379, 2.0344, 2.0225, 1.9905, 1.9778, 1.956, 1.9452, 1.9448, 1.9249, 1.9203, 1.9072, 1.884, 1.8155, 1.8114, 1.7982, 1.7799, 1.7696, 1.7658, 1.7352, 1.7309, 1.7309, 1.7098, 1.6877, 1.6461, 1.6251, 1.6225, 1.6041, 1.5845, 1.5437, 1.4587, 1.4763, 1.3095, 1.4555, 1.4477, 0.263, 0.6972, 1.2628, 0.4399, 1.3734, 0.5318, 0.7394, 0.544, 0.5076, 0.0556, 0.7577, 0.9861, 0.1571, 0.112, -0.0861, -0.2132, -1.6449, 0.6014, -0.3357, -2.38], \"Total\": [2761.0, 2311.0, 242.0, 540.0, 1742.0, 83.0, 85.0, 126.0, 110.0, 203.0, 353.0, 267.0, 169.0, 594.0, 238.0, 354.0, 69.0, 66.0, 47.0, 43.0, 130.0, 134.0, 100.0, 39.0, 91.0, 230.0, 132.0, 166.0, 292.0, 66.0, 43.95177146058039, 43.951566469278845, 43.9506069850737, 26.55547079131625, 51.160385975376464, 27.91742557182354, 15.440779056940634, 9.089744800331216, 16.131423689096714, 13.307421821008344, 12.867095387149691, 15.861876492182699, 9.77434452176653, 100.40640274273461, 16.154765352476883, 15.69800331422779, 26.857341601632193, 47.086856799266876, 22.112528488707152, 19.13852673798589, 30.990008678720955, 13.962650056769297, 11.10063677708115, 46.54601090054413, 121.74221516722305, 267.7428569693371, 10.573928239569922, 32.70683097802395, 16.93395890926342, 10.728005395270067, 97.543585918555, 76.82008095826636, 40.18120488924982, 166.39585939434127, 397.98521047726325, 1742.4425557670397, 271.6754893117385, 73.5544784104632, 118.38729108248144, 540.5845338780903, 242.39136485395363, 106.5597465347355, 43.817371555269695, 317.34198419314595, 500.52765531251947, 2311.9161714297306, 301.87745876080345, 594.9576938519965, 251.1859292416393, 359.5422192548342, 180.1930831300554, 395.8546671214238, 353.31675493602125, 342.8260755994447, 292.5250244615335, 181.3772936247763, 2761.4850554877526, 157.47115485482337, 175.5274914720029, 322.8885273687627, 316.7615367047494, 37.15369911335785, 15.883887682638521, 16.61578366395957, 10.661424437670128, 43.335462609649326, 14.865685246604736, 13.813319066181657, 66.94648955980597, 11.81403857305083, 39.74960008598532, 17.23861114143273, 91.97002202385207, 45.53758215242647, 40.935519674159096, 14.513566599951504, 14.51192030529324, 10.551478449129018, 14.506053332325926, 12.245918069277806, 13.886684283919807, 34.51252155931223, 19.368495451130006, 9.059716673252506, 9.08257498310235, 26.994250538909753, 21.050499002314474, 74.50678615310562, 203.53747603141346, 21.399876081125647, 39.034037257080904, 47.8631689752624, 50.976107820697074, 134.89032733776162, 66.19985541864698, 121.25909824534092, 2311.9161714297306, 36.19696429143099, 238.65431137006522, 132.82197649793397, 80.34378043128248, 180.1930831300554, 179.43912597881726, 230.6672473818083, 94.60914231842774, 85.64826289981033, 126.85178910444836, 140.20795920600423, 94.0040288254209, 1742.4425557670397, 395.8546671214238, 242.39136485395363, 342.8260755994447, 322.8885273687627, 359.5422192548342, 500.52765531251947, 153.16419658041113, 171.40397288398208, 271.6754893117385, 189.9594308669155, 594.9576938519965, 316.7615367047494, 397.98521047726325, 282.8373016628089, 353.31675493602125, 25.448715321514474, 22.772725199561176, 16.363522146750572, 110.484164785914, 23.029611597991657, 21.126455363435866, 23.29654234123339, 7.938741565292747, 12.363213935709886, 38.886143132801394, 35.92140781420877, 10.370332130373626, 33.56403666505876, 2761.4850554877526, 19.944013343719302, 28.170684994559984, 8.060176143772445, 23.83688404822781, 15.904929723796212, 18.701771756227913, 10.237744337233945, 20.560417522252724, 13.21505623440519, 9.48581064820562, 16.739361519216633, 43.691028183400924, 30.925084079457147, 25.970808234754788, 11.665749978470096, 10.173680023709338, 33.82918366186688, 35.27473175826308, 50.50235672027082, 46.73586275832497, 236.68491709519247, 38.89747198956831, 316.7615367047494, 43.92523842361448, 292.5250244615335, 354.7210733957075, 1742.4425557670397, 282.8373016628089, 67.73830836088025, 124.00976905908902, 87.69508994480141, 159.2452354976619, 301.87745876080345, 138.28801251829486, 317.34198419314595, 500.52765531251947, 87.60074311834505, 219.0677813813458, 122.87608628992514, 94.78303620813294, 171.40397288398208, 175.5274914720029, 395.8546671214238, 540.5845338780903, 214.56099153643103, 594.9576938519965, 342.8260755994447, 119.59010055468886, 322.8885273687627, 2311.9161714297306, 251.1859292416393, 42.69276086057923, 42.691863648949045, 42.6960305927939, 13.99534608543035, 12.850833255903492, 39.99216393679748, 39.996086888309854, 39.99470433254724, 13.355090804655196, 27.826879948345336, 23.437160778536317, 42.87192305306262, 17.303159438004307, 23.83927849089631, 20.137803327511435, 16.44194350808894, 17.091445726637005, 8.893896580691502, 15.440927055042755, 8.88310332293742, 9.356277539165477, 20.163980464820284, 12.080787370907881, 17.99819862710972, 12.080929628344894, 12.081354210750384, 130.58906246069571, 40.40199430962766, 169.50654211040967, 8.82778941796142, 61.65181038203927, 70.99559739848759, 35.568454651184595, 40.14825665173767, 53.393695654211534, 135.70385015314608, 142.83700990505415, 69.91201022823962, 114.74784660612336, 322.8885273687627, 354.7210733957075, 353.31675493602125, 251.1859292416393, 214.56099153643103, 594.9576938519965, 2311.9161714297306, 124.00976905908902, 119.59010055468886, 135.80427750958526, 194.16858148415326, 2761.4850554877526, 359.5422192548342, 395.8546671214238, 1742.4425557670397, 540.5845338780903, 292.5250244615335, 219.0677813813458, 397.98521047726325, 317.34198419314595, 500.52765531251947, 342.8260755994447, 301.87745876080345, 175.5274914720029, 189.9594308669155, 25.82596110225134, 39.143368748282214, 14.375395859229988, 20.27213411948217, 43.095852745599466, 83.59627764053133, 47.600407224320804, 12.545588907775862, 12.40973391245913, 25.416993869130565, 14.978087233662167, 10.159150501049721, 85.3403582274826, 11.338805610341936, 26.035877923690958, 42.90206107868674, 30.574267735950514, 34.63890788785345, 24.3703689351619, 37.1920397596575, 27.21863886665931, 12.347812466785172, 69.3153785602552, 66.05710804375563, 13.339218643512844, 22.979445419728343, 242.7533951370193, 18.169258971502042, 22.283044638438454, 18.760234542921765, 41.81034720505771, 66.26684170909724, 55.91021060253021, 126.85178910444836, 53.555463099017786, 47.47123623833388, 2311.9161714297306, 540.5845338780903, 77.92065912144616, 594.9576938519965, 52.83062188290586, 353.31675493602125, 181.3772936247763, 230.6672473818083, 238.65431137006522, 500.52765531251947, 142.92481039823315, 99.23532490628547, 316.7615367047494, 282.8373016628089, 342.8260755994447, 354.7210733957075, 1742.4425557670397, 132.82197649793397, 359.5422192548342, 2761.4850554877526], \"Freq\": [2761.0, 2311.0, 242.0, 540.0, 1742.0, 83.0, 85.0, 126.0, 110.0, 203.0, 353.0, 267.0, 169.0, 594.0, 238.0, 354.0, 69.0, 66.0, 47.0, 43.0, 130.0, 134.0, 100.0, 39.0, 91.0, 230.0, 132.0, 166.0, 292.0, 66.0, 42.990275946968765, 42.98795793894764, 42.97427230097219, 25.67275433782118, 49.374114519170746, 26.667036447896407, 14.517098556226006, 8.25415040394652, 14.453070380508226, 11.671114783814632, 11.245317962859971, 13.722512342925711, 8.432677796767363, 85.57684287222891, 13.723483533919635, 12.505086128070834, 20.68207441906049, 36.21709110638307, 16.94040172102455, 14.352365535232355, 22.616060423698684, 10.164331108725998, 8.033300830560915, 33.67831382665169, 88.06240975887842, 192.56361838898667, 7.355239002352288, 22.65974919108187, 11.534304121702286, 7.293817967852296, 65.91876579506668, 50.553595090993284, 26.78740235054547, 99.81256540362226, 213.01111805710366, 727.5684892930642, 140.78892731564238, 45.5041086926221, 67.1421056487217, 218.77100719090356, 113.9255274164044, 57.57571620023544, 28.139982271885653, 118.25981690497484, 157.05784437087647, 446.4653864282548, 108.46715725347148, 166.4633620857177, 89.87505249181386, 111.79260418072954, 67.18115592883873, 106.6399639541945, 93.92053498527495, 89.29206111838201, 82.64175541515485, 57.13132589063373, 90.53304056825748, 50.756912566398235, 51.33666663651701, 53.85428035474211, 53.34362170495445, 36.03493785586944, 14.954902766375016, 15.496144343582776, 9.8213635094422, 39.35127712751232, 13.198223360085333, 12.040730880129358, 58.106548879044, 10.102490807620576, 33.762450078182574, 13.94752209550372, 73.65104329736452, 36.171890829226335, 32.46684496834002, 11.451237740095884, 11.395832285049707, 8.190184531344926, 11.164312159269132, 9.065689340064727, 10.251135645841307, 25.37888077422063, 14.212209682971006, 6.598517931616346, 6.583695636591382, 19.551053118485825, 14.993461613682147, 52.728153981630165, 143.9099873796073, 15.10194464446193, 27.425135945927046, 33.56602160871827, 35.642224401682284, 85.92681824569289, 42.96105768633752, 73.58088568349162, 1013.5887545074721, 24.31069255486621, 121.85932084555596, 70.971930470261, 46.15647144439837, 86.06993463824168, 82.47800186800063, 98.30398336713476, 50.00833860235118, 45.46261349982069, 58.89669150981599, 63.07297980972174, 47.009691680756816, 326.8565962734449, 122.36259678849208, 85.91838905252428, 104.8322821149332, 97.89293170636661, 100.14960832217241, 115.8446546408368, 59.390433212918104, 61.69302922911044, 72.2128379117297, 58.395163082536776, 78.15693532242139, 59.88907909598875, 62.515239628812, 56.34196496259544, 57.51223936313751, 24.32270914901842, 21.726591186532954, 15.400335454386983, 98.6316671373875, 20.217913286941297, 18.522173299121626, 20.394369909987184, 6.9381312287728365, 10.62389204777899, 33.02773741681495, 30.458896003053045, 8.63668130059562, 27.947101376098054, 2279.746898899027, 16.29615692988032, 22.601805379336792, 6.382764439904881, 18.659072265578498, 12.443328811100162, 14.153592770128519, 7.711361228472561, 15.25912144782755, 9.728077857688623, 6.959560721226211, 12.24492335044625, 31.860790710526388, 22.294149056501084, 18.50068136035707, 8.038091777058291, 6.7953846856598545, 22.343850075569488, 23.097687373332167, 31.49243449167972, 29.32565157090849, 113.97224459429049, 24.440447505661467, 135.5680773682993, 26.988423525314328, 119.65898869441082, 135.4662482502013, 449.9957118367061, 106.11414234033312, 36.576415573132174, 55.44257437739051, 41.54988958077627, 59.06211244454772, 86.90685599044643, 50.71771162381744, 75.02213232983485, 89.3151521012512, 36.57302681997879, 56.015456836158606, 42.36506789001136, 37.59090169221774, 47.490278107648756, 46.026478290358675, 61.78183663538348, 64.00666964702792, 46.60775353334941, 62.5211052087478, 51.84472599564991, 38.910567097128855, 44.949754014463416, 47.97036118491552, 38.59465537195511, 41.63183052005477, 41.578898366419146, 41.551926671444186, 13.099992069505634, 11.934075026099844, 36.025034820374096, 36.01301324306972, 36.00635930812164, 11.577792202901072, 23.94066176335275, 19.939256296908685, 36.11759934763969, 14.566168433061765, 18.648862130630683, 15.704342208184785, 12.41865643420256, 12.483757805644444, 6.41337649183667, 11.033066503769161, 6.138429933487682, 6.410956097718397, 13.799930408046535, 8.227994552210504, 12.233094570528856, 8.188005717779742, 8.178809029119357, 87.37249216269412, 26.220085494466886, 109.48043170193816, 5.687782076765711, 38.53993908458095, 42.33880605210687, 22.03955771719857, 24.31607920009067, 30.56395625111115, 68.87470671494694, 71.39750671229584, 37.82384220097388, 55.39455855533459, 121.55455284520514, 129.26632187694776, 124.54564424486972, 95.50819572706204, 83.70446299445734, 174.61975282022556, 435.3344503830041, 55.44446913486309, 53.75949864863647, 56.74837341830011, 68.23639817358094, 327.49145297063, 87.98153148017907, 91.3505744747852, 196.80292834125336, 101.37869758784012, 70.78466514626912, 59.66076636304076, 71.07496277748731, 66.27992287180105, 73.46763688591233, 58.31089127675574, 55.13761149776195, 43.4137098047532, 43.19285579371049, 24.578595028599768, 37.089337898684505, 13.519901043620663, 18.99818253230265, 39.90928538674941, 74.9821719668941, 42.15498669418038, 10.870580535987369, 10.637570055493427, 21.778315556829597, 12.581045437118929, 8.494504360329362, 70.42761646683128, 9.142800817093988, 19.604031937931076, 32.16900793861212, 22.625094509923812, 25.169370815896837, 17.526537456413635, 26.644213953113304, 18.91165835613704, 8.542761973595717, 47.954592390397956, 44.74891999350956, 8.838550994464425, 14.60558138652116, 151.0898472618975, 11.279066827619888, 13.580546122831993, 11.212037799569146, 23.98797506614088, 34.921247099722315, 29.987818114189952, 57.586505461688446, 28.134047926715834, 24.743559967450114, 368.5572189260843, 133.0236908256105, 33.75705538600727, 113.19653841488406, 25.564583996507977, 73.69022336397171, 46.55587942568751, 48.70045284789917, 48.584860035122674, 64.84236731364267, 37.36524038327056, 32.60085213001234, 45.421830079108986, 38.768428442552654, 38.54611509372384, 35.12388025844091, 41.21883002257128, 29.700822848935566, 31.494488474605813, 31.319721179528358], \"Term\": [\"exhibit\", \"motion\", \"inc..\", \"notice\", \"order\", \"serve_answer_due\", \"sign_judge_iii\", \"mro\", \"minute_entry_proceeding_hold\", \"pennsylvania\", \"dismiss\", \"complaint\", \"ex\", \"'s\", \"memorandum_law_support\", \"shall\", \"motion_dismiss_thirdparty\", \"summary_judgment.._document\", \"sign_judge_s.d.n.y\", \"court_reportertranscriber\", \"djc\", \"sign_magistrate_judge\", \"notice_appearance_behalf\", \"dle\", \"cd\", \"summary_judgment\", \"declaration_opposition\", \"judgment\", \"attachment\", \"rjm\", \"court_reportertranscriber_abovecaptioned_matter\", \"official_transcript_notice\", \"hereby_give_official_transcript\", \"conference_proceed_hold\", \"cal\", \"wellington\", \"date_purs\", \"hereby_stipulate_agree_undersigned\", \"set_answer_due\", \"firm\", \"substitution\", \"judgment_favor\", \"without_cost_either_party\", \"notice_appearance_behalf\", \"propose_finding_fact_conclusion\", \"forward\", \"et_al\", \"nd\", \"status_conference_set_pm\", \"jpo\", \"ltd..\", \"jurisdiction\", \"civil_action\", \"sign_judge_gr\", \"attorney\", \"complaint\", \"united_state_magistrate_judge\", \"response_due\", \"dismissal_without_prejudice\", \"scileppi\", \"july\", \"set_forth\", \"partial_summary_judgment\", \"judgment\", \"court\", \"order\", \"stipulation\", \"amend\", \"clerk\", \"notice\", \"grant\", \"answer\", \"fee_receipt_number\", \"plaintiff\", \"defendant\", \"motion\", \"request\", \"'s\", \"schedule\", \"date\", \"l.p.\", \"party\", \"dismiss\", \"sign_judge\", \"attachment\", \"claim\", \"exhibit\", \"amend_complaint\", \"may\", \"letter\", \"judge\", \"document_place_vault\", \"copy_mail_chamber\", \"corporate_parent\", \"certify_class\", \"affidavit_service_summons_complaint\", \"bond\", \"expert_discovery_due\", \"rjm\", \"certify_copy_docket_sheet\", \"judge_d._kan._gr\", \"note_attorney\", \"cd\", \"answer_amend_complaint\", \"redaction_request_due\", \"judge_individual_practice\", \"attorney_responsible_provide_courtesy\", \"oral_argument_set_pm\", \"nm\", \"dismiss_counterclaim\", \"ruling\", \"limine_preclude_plaintiff_introduce\", \"h.o\", \"transfer_new_york_eastern\", \"new_york_observer_l.p.\", \"]\", \"[\", \"notice_appeal\", \"pennsylvania\", \"reply_due\", \"tp\", \"judge_d._kan._magistrate\", \"kw\", \"sign_magistrate_judge\", \"stay\", \"seal\", \"motion\", \"counterclaim\", \"memorandum_law_support\", \"declaration_opposition\", \"answer_complaint\", \"l.p.\", \"declaration_support\", \"summary_judgment\", \"leave\", \"submit\", \"mro\", \"memorandum_law_opposition\", \"dismissal\", \"order\", \"party\", \"grant\", \"sign_judge\", \"letter\", \"date\", \"defendant\", \"propose\", \"plaintiff_'s\", \"stipulation\", \"action\", \"'s\", \"judge\", \"court\", \"case\", \"dismiss\", \"transcript_proceeding_conference_hold\", \"magistrate_judge_discovery_hear\", \"judge_jury_trial\", \"minute_entry_proceeding_hold\", \"worcester\", \"cf\", \"mp\", \"service_accept_legal_clerk\", \"telephone_conference_set\", \"cotton\", \"release_transcript_restriction_set\", \"q\", \"telephone_conference_hold\", \"exhibit\", \"attorney_terminate\", \"g\", \"see_attached\", \"civ\", \"merrill\", \"attachment_text_propose\", \"goodwin\", \"text\", \"anc\", \"case_assign\", \"gf\", \"copy_send_chamber\", \"erratum\", \"endorsement_application_grant\", \"cote\", \"modify_ldi\", \"objection\", \"pacer\", \"f\", \"part\", \"magistrate_judge\", \"production\", \"judge\", \"answer_due\", \"attachment\", \"shall\", \"order\", \"case\", \"e\", \"hold\", \"deposition\", \"hereby\", \"request\", \"due\", \"plaintiff\", \"defendant\", \"endorsement\", \"counsel\", \"march\", \"affidavit_service\", \"plaintiff_'s\", \"may\", \"party\", \"notice\", \"b\", \"'s\", \"sign_judge\", \"c\", \"letter\", \"motion\", \"schedule\", \"court_notice_intent\", \"request_redaction_transcript\", \"party_calendar_day\", \"pursuant_u.s.c\", \"transcript_proceeding\", \"public_terminal_purchase_court\", \"transcript_may_view_court\", \"reportertranscriber_deadline_release_transcript\", \"associated_case_ft\", \"ae\", \"service_make\", \"restriction\", \"civil_cover_sheet\", \"new_address\", \"distribution\", \"office_p.c\", \"a.m._courtroom\", \"aim_exploration_inc.._basile\", \"subpoena\", \"pursuant_federal_rule\", \"jsa\", \"b_rule_..\", \"absolute_return_fund_l.p.\", \"claim_administrator\", \"magnum_special_situation_fund\", \"magnum_growth_fund_l.p.\", \"djc\", \"note\", \"ex\", \"date_dec_dkt\", \"address\", \"settlement\", \"oral_argument\", \"reiter\", \"brookfield\", \"serve\", \"defendant_'\", \"matter\", \"april\", \"letter\", \"shall\", \"dismiss\", \"schedule\", \"b\", \"'s\", \"motion\", \"hold\", \"c\", \"opposition\", \"conference\", \"exhibit\", \"date\", \"party\", \"order\", \"notice\", \"attachment\", \"counsel\", \"court\", \"plaintiff\", \"defendant\", \"sign_judge\", \"request\", \"may\", \"action\", \"ja\", \"dle\", \"associate_case_thk\", \"magistrate_judge_designate\", \"court_reportertranscriber\", \"serve_answer_due\", \"sign_judge_s.d.n.y\", \"sign_judge_sr\", \"corp..\", \"summary_judgment_favor\", \"judge_longer_assigned\", \"nonecf_case_error\", \"sign_judge_iii\", \"sn\", \"s.d.n.y\", \"sign_judge_copy_mail\", \"complaint_pursuant_frcp\", \"jco\", \"district_judge\", \"tro\", \"note_attorney_refile_document\", \"calculation\", \"motion_dismiss_thirdparty\", \"summary_judgment.._document\", \"additional_attachment_add\", \"marshal\", \"inc..\", \"r._civ\", \"gr\", \"jar\", \"redact_transcript_deadline_set\", \"keely\", \"form\", \"mro\", \"date_november\", \"judge_c.d\", \"motion\", \"notice\", \"rule_statement\", \"'s\", \"associate_case\", \"dismiss\", \"claim\", \"summary_judgment\", \"memorandum_law_support\", \"defendant\", \"llc\", \"june\", \"judge\", \"case\", \"sign_judge\", \"shall\", \"order\", \"declaration_opposition\", \"date\", \"exhibit\"], \"logprob\": [30.0, 29.0, 28.0, 27.0, 26.0, 25.0, 24.0, 23.0, 22.0, 21.0, 20.0, 19.0, 18.0, 17.0, 16.0, 15.0, 14.0, 13.0, 12.0, 11.0, 10.0, 9.0, 8.0, 7.0, 6.0, 5.0, 4.0, 3.0, 2.0, 1.0, -5.508900165557861, -5.508999824523926, -5.509300231933594, -6.024499893188477, -5.370500087738037, -5.986499786376953, -6.594600200653076, -7.159200191497803, -6.598999977111816, -6.81279993057251, -6.849999904632568, -6.650899887084961, -7.137800216674805, -4.820499897003174, -6.6508002281188965, -6.743800163269043, -6.240600109100342, -5.6803998947143555, -6.440199851989746, -6.605999946594238, -6.151299953460693, -6.951000213623047, -7.186299800872803, -5.7530999183654785, -4.791900157928467, -4.009500026702881, -7.274499893188477, -6.1493000984191895, -6.8246002197265625, -7.282899856567383, -5.081500053405762, -5.34689998626709, -5.98199987411499, -4.666600227355957, -3.908600091934204, -2.6802000999450684, -4.322700023651123, -5.452099800109863, -5.0630998611450195, -3.8819000720977783, -4.53439998626709, -5.216800212860107, -5.932700157165527, -4.497000217437744, -4.2133002281188965, -3.168600082397461, -4.583499908447266, -4.155099868774414, -4.771500110626221, -4.553299903869629, -5.0625, -4.600500106811523, -4.727499961853027, -4.7779998779296875, -4.855400085449219, -5.224599838256836, -4.764200210571289, -5.342899799346924, -5.331500053405762, -5.283599853515625, -5.2932000160217285, -5.542200088500977, -6.4217000007629395, -6.386099815368652, -6.842199802398682, -5.45419979095459, -6.5467000007629395, -6.638400077819824, -5.064499855041504, -6.814000129699707, -5.607399940490723, -6.491399765014648, -4.827400207519531, -5.53849983215332, -5.646500110626221, -6.688600063323975, -6.69350004196167, -7.023799896240234, -6.714000225067139, -6.9222002029418945, -6.799300193786621, -5.8927998542785645, -6.472599983215332, -7.2399001121521, -7.242099761962891, -6.15369987487793, -6.419099807739258, -5.161600112915039, -4.15749979019165, -6.411900043487549, -5.815299987792969, -5.6132001876831055, -5.553199768066406, -4.6732001304626465, -5.366399765014648, -4.828400135040283, -2.2054998874664307, -5.935800075531006, -4.32390022277832, -4.864500045776367, -5.2947001457214355, -4.671599864959717, -4.714200019836426, -4.538700103759766, -5.2144999504089355, -5.309800148010254, -5.051000118255615, -4.982399940490723, -5.276400089263916, -3.3371999263763428, -4.319699764251709, -4.673299789428711, -4.474400043487549, -4.542900085449219, -4.520100116729736, -4.374499797821045, -5.042600154876709, -5.0046000480651855, -4.847099781036377, -5.059500217437744, -4.76800012588501, -5.034200191497803, -4.991300106048584, -5.095300197601318, -5.074699878692627, -5.906899929046631, -6.019800186157227, -6.363900184631348, -4.506899833679199, -6.091700077056885, -6.179299831390381, -6.083099842071533, -7.161300182342529, -6.735199928283691, -5.60099983215332, -5.6819000244140625, -6.942299842834473, -5.76800012588501, -1.3665000200271606, -6.307400226593018, -5.980299949645996, -7.244699954986572, -6.171999931335449, -6.577099800109863, -6.448299884796143, -7.055600166320801, -6.3730998039245605, -6.823299884796143, -7.158199787139893, -6.593200206756592, -5.636899948120117, -5.99399995803833, -6.180500030517578, -7.014100074768066, -7.18209981918335, -5.991799831390381, -5.958600044250488, -5.648600101470947, -5.719799995422363, -4.362400054931641, -5.902100086212158, -4.188799858093262, -5.8028998374938965, -4.313700199127197, -4.189599990844727, -2.9890999794006348, -4.433800220489502, -5.498899936676025, -5.083000183105469, -5.371399879455566, -5.019700050354004, -4.633500099182129, -5.171999931335449, -4.7804999351501465, -4.606100082397461, -5.499000072479248, -5.072700023651123, -5.3520002365112305, -5.471499919891357, -5.237800121307373, -5.269100189208984, -4.974699974060059, -4.939300060272217, -5.256499767303467, -4.962800025939941, -5.150100231170654, -5.436999797821045, -5.292799949645996, -5.227700233459473, -5.445199966430664, -5.340700149536133, -5.341899871826172, -5.342599868774414, -6.4969000816345215, -6.590099811553955, -5.485300064086914, -5.485599994659424, -5.485799789428711, -6.6203999519348145, -5.893899917602539, -6.0767998695373535, -5.482699871063232, -6.3907999992370605, -6.143700122833252, -6.3155999183654785, -6.550300121307373, -6.545100212097168, -7.211100101470947, -6.668600082397461, -7.255000114440918, -7.21150016784668, -6.444900035858154, -6.961999893188477, -6.565400123596191, -6.966800212860107, -6.9679999351501465, -4.599299907684326, -5.802999973297119, -4.373799800872803, -7.331200122833252, -5.417799949645996, -5.323800086975098, -5.9766998291015625, -5.878399848937988, -5.649700164794922, -4.837200164794922, -4.801300048828125, -5.436600208282471, -5.054999828338623, -4.269199848175049, -4.207600116729736, -4.244800090789795, -4.510300159454346, -4.642199993133545, -3.906899929046631, -2.9934000968933105, -5.054100036621094, -5.085000038146973, -5.030900001525879, -4.846499919891357, -3.27810001373291, -4.592400074005127, -4.554800033569336, -3.7873001098632812, -4.450699806213379, -4.809899806976318, -4.980800151824951, -4.805799961090088, -4.8755998611450195, -4.77269983291626, -5.003699779510498, -5.059700012207031, -5.298699855804443, -5.303800106048584, -5.360000133514404, -4.948599815368652, -5.957699775695801, -5.617599964141846, -4.87529993057251, -4.244699954986572, -4.820499897003174, -6.17579984664917, -6.197500228881836, -5.480999946594238, -6.029699802398682, -6.422500133514404, -4.307300090789795, -6.348899841308594, -5.58620023727417, -5.09089994430542, -5.442800045013428, -5.336299896240234, -5.698200225830078, -5.279300212860107, -5.622099876403809, -6.416800022125244, -4.6915998458862305, -4.760799884796143, -6.382800102233887, -5.880499839782715, -3.5439999103546143, -6.138999938964844, -5.9532999992370605, -6.144899845123291, -5.384300231933594, -5.008800029754639, -5.161099910736084, -4.508600234985352, -5.224899768829346, -5.353300094604492, -2.6522998809814453, -3.6714000701904297, -5.042699813842773, -3.8327999114990234, -5.320700168609619, -4.26200008392334, -4.721199989318848, -4.676199913024902, -4.678599834442139, -4.389900207519531, -4.941199779510498, -5.077600002288818, -4.7459001541137695, -4.904300212860107, -4.909999847412109, -5.002999782562256, -4.8429999351501465, -5.1707000732421875, -5.112100124359131, -5.117700099945068], \"Category\": [\"Default\", \"Default\", \"Default\", \"Default\", \"Default\", \"Default\", \"Default\", \"Default\", \"Default\", \"Default\", \"Default\", \"Default\", \"Default\", \"Default\", \"Default\", \"Default\", \"Default\", \"Default\", \"Default\", \"Default\", \"Default\", \"Default\", \"Default\", \"Default\", \"Default\", \"Default\", \"Default\", \"Default\", \"Default\", \"Default\", \"Topic1\", \"Topic1\", \"Topic1\", \"Topic1\", \"Topic1\", \"Topic1\", \"Topic1\", \"Topic1\", \"Topic1\", \"Topic1\", \"Topic1\", \"Topic1\", \"Topic1\", \"Topic1\", \"Topic1\", \"Topic1\", \"Topic1\", \"Topic1\", \"Topic1\", \"Topic1\", \"Topic1\", \"Topic1\", \"Topic1\", \"Topic1\", \"Topic1\", \"Topic1\", \"Topic1\", \"Topic1\", \"Topic1\", \"Topic1\", \"Topic1\", \"Topic1\", \"Topic1\", \"Topic1\", \"Topic1\", \"Topic1\", \"Topic1\", \"Topic1\", \"Topic1\", \"Topic1\", \"Topic1\", \"Topic1\", \"Topic1\", \"Topic1\", \"Topic1\", \"Topic1\", \"Topic1\", \"Topic1\", \"Topic1\", \"Topic1\", \"Topic1\", \"Topic1\", \"Topic1\", \"Topic1\", \"Topic1\", \"Topic1\", \"Topic1\", \"Topic1\", \"Topic1\", \"Topic1\", \"Topic1\", \"Topic2\", \"Topic2\", \"Topic2\", \"Topic2\", \"Topic2\", \"Topic2\", \"Topic2\", \"Topic2\", \"Topic2\", \"Topic2\", \"Topic2\", \"Topic2\", \"Topic2\", \"Topic2\", \"Topic2\", \"Topic2\", \"Topic2\", \"Topic2\", \"Topic2\", \"Topic2\", \"Topic2\", \"Topic2\", \"Topic2\", \"Topic2\", \"Topic2\", \"Topic2\", \"Topic2\", \"Topic2\", \"Topic2\", \"Topic2\", \"Topic2\", \"Topic2\", \"Topic2\", \"Topic2\", \"Topic2\", \"Topic2\", \"Topic2\", \"Topic2\", \"Topic2\", \"Topic2\", \"Topic2\", \"Topic2\", \"Topic2\", \"Topic2\", \"Topic2\", \"Topic2\", \"Topic2\", \"Topic2\", \"Topic2\", \"Topic2\", \"Topic2\", \"Topic2\", \"Topic2\", \"Topic2\", \"Topic2\", \"Topic2\", \"Topic2\", \"Topic2\", \"Topic2\", \"Topic2\", \"Topic2\", \"Topic2\", \"Topic2\", \"Topic2\", \"Topic3\", \"Topic3\", \"Topic3\", \"Topic3\", \"Topic3\", \"Topic3\", \"Topic3\", \"Topic3\", \"Topic3\", \"Topic3\", \"Topic3\", \"Topic3\", \"Topic3\", \"Topic3\", \"Topic3\", \"Topic3\", \"Topic3\", \"Topic3\", \"Topic3\", \"Topic3\", \"Topic3\", \"Topic3\", \"Topic3\", \"Topic3\", \"Topic3\", \"Topic3\", \"Topic3\", \"Topic3\", \"Topic3\", \"Topic3\", \"Topic3\", \"Topic3\", \"Topic3\", \"Topic3\", \"Topic3\", \"Topic3\", \"Topic3\", \"Topic3\", \"Topic3\", \"Topic3\", \"Topic3\", \"Topic3\", \"Topic3\", \"Topic3\", \"Topic3\", \"Topic3\", \"Topic3\", \"Topic3\", \"Topic3\", \"Topic3\", \"Topic3\", \"Topic3\", \"Topic3\", \"Topic3\", \"Topic3\", \"Topic3\", \"Topic3\", \"Topic3\", \"Topic3\", \"Topic3\", \"Topic3\", \"Topic3\", \"Topic3\", \"Topic3\", \"Topic3\", \"Topic4\", \"Topic4\", \"Topic4\", \"Topic4\", \"Topic4\", \"Topic4\", \"Topic4\", \"Topic4\", \"Topic4\", \"Topic4\", \"Topic4\", \"Topic4\", \"Topic4\", \"Topic4\", \"Topic4\", \"Topic4\", \"Topic4\", \"Topic4\", \"Topic4\", \"Topic4\", \"Topic4\", \"Topic4\", \"Topic4\", \"Topic4\", \"Topic4\", \"Topic4\", \"Topic4\", \"Topic4\", \"Topic4\", \"Topic4\", \"Topic4\", \"Topic4\", \"Topic4\", \"Topic4\", \"Topic4\", \"Topic4\", \"Topic4\", \"Topic4\", \"Topic4\", \"Topic4\", \"Topic4\", \"Topic4\", \"Topic4\", \"Topic4\", \"Topic4\", \"Topic4\", \"Topic4\", \"Topic4\", \"Topic4\", \"Topic4\", \"Topic4\", \"Topic4\", \"Topic4\", \"Topic4\", \"Topic4\", \"Topic4\", \"Topic4\", \"Topic4\", \"Topic4\", \"Topic4\", \"Topic4\", \"Topic4\", \"Topic4\", \"Topic4\", \"Topic5\", \"Topic5\", \"Topic5\", \"Topic5\", \"Topic5\", \"Topic5\", \"Topic5\", \"Topic5\", \"Topic5\", \"Topic5\", \"Topic5\", \"Topic5\", \"Topic5\", \"Topic5\", \"Topic5\", \"Topic5\", \"Topic5\", \"Topic5\", \"Topic5\", \"Topic5\", \"Topic5\", \"Topic5\", \"Topic5\", \"Topic5\", \"Topic5\", \"Topic5\", \"Topic5\", \"Topic5\", \"Topic5\", \"Topic5\", \"Topic5\", \"Topic5\", \"Topic5\", \"Topic5\", \"Topic5\", \"Topic5\", \"Topic5\", \"Topic5\", \"Topic5\", \"Topic5\", \"Topic5\", \"Topic5\", \"Topic5\", \"Topic5\", \"Topic5\", \"Topic5\", \"Topic5\", \"Topic5\", \"Topic5\", \"Topic5\", \"Topic5\", \"Topic5\", \"Topic5\", \"Topic5\", \"Topic5\", \"Topic5\"]}, \"plot.opts\": {\"ylab\": \"PC2\", \"xlab\": \"PC1\"}, \"mdsDat\": {\"y\": [-0.04803510685363759, -0.07602773002543259, 0.026828247673451225, -0.006995821258147678, 0.10423041046376665], \"Freq\": [24.875959934898848, 21.557513629945483, 20.953341284924363, 20.358716996446873, 12.254468153784435], \"x\": [-0.01745230079850919, -0.07273679792623529, 0.17634258720319634, 0.019055629903183966, -0.10520911838163562], \"topics\": [1, 2, 3, 4, 5], \"cluster\": [1, 1, 1, 1, 1]}, \"topic.order\": [5, 4, 2, 1, 3], \"token.table\": {\"Topic\": [1, 2, 3, 4, 5, 1, 2, 4, 5, 1, 2, 3, 4, 5, 3, 4, 5, 1, 2, 4, 1, 2, 3, 4, 5, 2, 3, 4, 5, 1, 2, 3, 4, 5, 1, 4, 5, 1, 2, 3, 4, 5, 1, 2, 3, 1, 2, 4, 1, 2, 3, 4, 5, 1, 2, 3, 4, 5, 3, 5, 1, 2, 3, 4, 5, 1, 2, 3, 4, 5, 1, 2, 3, 4, 5, 1, 2, 3, 4, 5, 1, 2, 3, 4, 5, 1, 2, 3, 4, 5, 5, 3, 4, 1, 2, 3, 4, 5, 2, 3, 5, 1, 2, 3, 4, 5, 2, 4, 1, 3, 1, 2, 3, 4, 5, 1, 4, 5, 2, 4, 1, 2, 3, 4, 5, 1, 2, 3, 4, 5, 1, 2, 3, 5, 1, 2, 3, 4, 5, 3, 5, 1, 2, 3, 4, 5, 2, 2, 5, 2, 3, 3, 4, 1, 2, 4, 3, 4, 5, 1, 2, 3, 4, 5, 1, 2, 3, 4, 5, 1, 2, 3, 4, 5, 1, 2, 3, 4, 5, 1, 2, 4, 5, 1, 2, 3, 4, 5, 1, 2, 1, 2, 3, 4, 5, 1, 5, 2, 2, 3, 1, 3, 4, 5, 1, 2, 3, 4, 5, 1, 2, 4, 1, 2, 3, 4, 5, 4, 4, 5, 1, 1, 2, 3, 4, 5, 2, 3, 4, 5, 1, 2, 3, 4, 5, 1, 1, 2, 3, 4, 5, 1, 2, 3, 4, 5, 1, 2, 3, 4, 5, 1, 2, 3, 4, 5, 1, 2, 3, 4, 5, 1, 2, 3, 4, 5, 1, 2, 4, 1, 2, 4, 5, 1, 2, 3, 5, 3, 4, 5, 1, 2, 3, 4, 5, 1, 2, 3, 4, 5, 4, 5, 2, 1, 2, 3, 4, 5, 1, 2, 3, 4, 5, 1, 2, 3, 4, 5, 1, 2, 3, 5, 1, 3, 4, 1, 2, 3, 4, 5, 1, 2, 3, 4, 5, 1, 2, 3, 4, 5, 2, 4, 1, 2, 3, 4, 5, 1, 3, 4, 5, 1, 4, 1, 2, 3, 4, 5, 1, 3, 5, 1, 2, 3, 4, 3, 5, 1, 3, 2, 4, 5, 1, 2, 3, 4, 5, 1, 2, 5, 1, 2, 3, 4, 5, 1, 1, 1, 2, 3, 4, 5, 1, 2, 3, 4, 5, 5, 1, 3, 5, 3, 4, 5, 1, 2, 5, 3, 4, 1, 2, 3, 4, 5, 1, 2, 3, 4, 5, 1, 2, 5, 1, 2, 5, 2, 4, 3, 1, 5, 1, 2, 3, 4, 5, 1, 3, 1, 2, 3, 4, 5, 1, 2, 3, 4, 5, 1, 2, 4, 5, 1, 3, 4, 5, 2, 4, 5, 1, 2, 3, 4, 5, 1, 2, 3, 4, 5, 1, 2, 3, 4, 5, 2, 3, 4, 1, 2, 3, 4, 5, 1, 2, 3, 4, 1, 2, 3, 4, 5, 5, 3, 1, 2, 4, 1, 2, 4, 1, 2, 3, 4, 5, 1, 3, 4, 5, 1, 2, 3, 4, 5, 1, 2, 3, 4, 5, 1, 2, 3, 4, 5, 1, 2, 3, 4, 5, 1, 2, 3, 1, 2, 3, 5, 1, 3, 5, 1, 2, 3, 4, 5, 1, 2, 3, 4, 5, 1, 3, 1, 2, 3, 4, 5, 1, 2, 3, 4, 5, 2, 3, 4, 1, 2, 5, 2, 4, 5, 2, 5, 1, 2, 3, 4, 1, 2, 5, 2, 4, 5, 1, 2, 3, 4, 5, 1, 2, 3, 4, 5, 1, 2, 3, 4, 5, 1, 2, 3, 4, 1, 4, 1, 1, 2, 3, 4, 5, 1, 2, 3, 4, 5, 1, 2, 3, 1, 2, 3, 4, 5, 2, 3, 4, 1, 3, 4, 5, 1, 2, 4, 5, 1, 2, 3, 4, 5, 4, 1, 2, 3, 4, 5, 1, 2, 3, 4, 5, 1, 2, 3, 4, 5, 1, 2, 3, 4, 5, 1, 2, 3, 4, 5, 1, 4, 1, 4, 2, 4, 5, 4, 3, 4, 3, 4, 5, 1, 5, 1, 2, 4, 5, 1, 3, 4, 5, 2, 3, 1, 2, 3, 5, 1, 4, 1, 2, 3, 4, 5, 4, 1, 2, 3, 1, 2, 3, 4, 2, 3, 4, 5, 1, 2, 3, 4, 5, 2, 4, 1, 2, 4, 5, 1, 2, 3, 4, 5, 1, 4, 5, 1, 2, 3, 4, 3, 5, 1, 2, 3, 4, 5, 1, 2, 3, 4, 5, 3, 2, 4, 1, 3, 1, 2, 3, 4, 5, 1, 2, 3, 4, 5, 1, 2, 3, 4, 5, 1, 2, 3, 4, 5, 1, 2, 3, 4, 5, 1, 3, 4, 5, 1, 2, 3, 4, 5, 1, 4, 5, 3, 5, 1, 2, 3, 4, 5, 3, 5, 1, 3, 4, 1, 2, 3, 4, 5, 1, 2, 3, 4, 5, 1, 2, 3, 4, 5, 1, 2, 3, 4, 5, 1, 4, 1, 2, 3, 4, 5, 2, 3, 4, 5, 1, 3, 5, 1, 2, 3, 4, 2, 3, 1, 3, 1, 2, 3, 1, 4, 4, 3, 2, 4, 5, 3, 4, 5, 1, 2, 1, 1, 2, 1, 3], \"Freq\": [0.2790114351244858, 0.13110175867295115, 0.10588988200507593, 0.2941385611252109, 0.18992947089799334, 0.095009624226965, 0.7125721817022376, 0.095009624226965, 0.095009624226965, 0.11113477648419146, 0.7408985098946097, 0.07408985098946097, 0.07408985098946097, 0.037044925494730485, 0.1755264035578045, 0.702105614231218, 0.11701760237186966, 0.16555212326774843, 0.16555212326774843, 0.6622084930709937, 0.23689268700497815, 0.3053283521397496, 0.11581420253576709, 0.22636412313809023, 0.11054992060232313, 0.07496690973622522, 0.07496690973622522, 0.14993381947245044, 0.674702187626027, 0.21086161005561044, 0.12976099080345257, 0.016220123850431572, 0.6325848301668313, 0.016220123850431572, 0.1078094276314434, 0.8624754210515472, 0.0359364758771478, 0.12660493354158167, 0.379814800624745, 0.40091562288167526, 0.06330246677079084, 0.021100822256930277, 0.0461515783970117, 0.899955778741728, 0.02307578919850585, 0.11243665708582479, 0.11243665708582479, 0.6746199425149487, 0.6253868016479123, 0.14954901778537033, 0.10876292202572388, 0.05438146101286194, 0.06797682626607743, 0.32386883837245106, 0.2032118201552634, 0.15875923449629953, 0.19686145077541142, 0.12065701821718765, 0.7567126331226014, 0.22701378993678042, 0.5442955889642026, 0.2064569475381458, 0.11261288047535226, 0.1032284737690729, 0.037537626825117416, 0.1317593011398013, 0.7905558068388078, 0.02195988352330022, 0.04391976704660044, 0.02195988352330022, 0.29871633959926797, 0.5725396508985969, 0.037339542449908496, 0.0622325707498475, 0.024893028299939, 0.09106381988013468, 0.04553190994006734, 0.6146807841909091, 0.11382977485016835, 0.11382977485016835, 0.1307214073610297, 0.21786901226838282, 0.12200664687029437, 0.4793118269904422, 0.04357380245367656, 0.2460694108203626, 0.07571366486780387, 0.07571366486780387, 0.11357049730170582, 0.4921388216407252, 0.9738862245668902, 0.07487781360883215, 0.8985337633059858, 0.28373640905690906, 0.03760362047742168, 0.4102213142991456, 0.2427142776269945, 0.02734808761994304, 0.16041260898187168, 0.7485921752487346, 0.05347086966062389, 0.722838826935461, 0.041070387894060284, 0.09035485336693262, 0.12321116368218085, 0.024642232736436172, 0.7579975474360714, 0.1378177358974675, 0.15042107866141943, 0.8022457528609037, 0.16312378009335043, 0.08855290919353309, 0.21905193326821346, 0.39149707222404106, 0.1398203829371575, 0.0991867654052414, 0.6943073578366898, 0.1983735308104828, 0.8744971916426892, 0.06726901474174533, 0.16855922576114296, 0.13110162003644452, 0.07491521144939688, 0.5805928887328258, 0.056186408587047654, 0.09198085752064128, 0.033447584552960465, 0.32611394939136457, 0.4515423914649663, 0.1003427536588814, 0.9577722893565295, 0.1619720096478524, 0.1619720096478524, 0.7288740434153358, 0.16617327249159006, 0.19799368637295836, 0.3747737634916712, 0.12374605398309897, 0.137888460152596, 0.7379443106767214, 0.2108412316219204, 0.021746216386479802, 0.8046100062997527, 0.010873108193239901, 0.0761117573526793, 0.08698486554591921, 0.9379609693304105, 0.8464505967342227, 0.08464505967342227, 0.09466803425346282, 0.8993463254078968, 0.7970840467889336, 0.16780716774503865, 0.7206793772873591, 0.09008492216091989, 0.18016984432183977, 0.057792913692029005, 0.8668937053804351, 0.057792913692029005, 0.31426204934956503, 0.1709144478918687, 0.03308021572100685, 0.22053477147337897, 0.2591283564812203, 0.05556111590488582, 0.05556111590488582, 0.16668334771465748, 0.6667333908586299, 0.05556111590488582, 0.5659391256221964, 0.07602167359104131, 0.0675748209698145, 0.24495872601557755, 0.04223426310613406, 0.7208408925811346, 0.13445736856435672, 0.029879415236523713, 0.07469853809130929, 0.04481912285478557, 0.06541448571304018, 0.06541448571304018, 0.13082897142608035, 0.752266585699962, 0.2111567159146504, 0.21630687971744675, 0.1390544226755015, 0.3502111385901519, 0.07725245704194528, 0.9790826230993468, 0.9443531898299286, 0.045775988415851454, 0.1602159594554801, 0.7324158146536233, 0.045775988415851454, 0.022887994207925727, 0.08058190506373546, 0.88640095570109, 0.902756096453983, 0.2571630632866893, 0.6857681687645049, 0.05143220280730161, 0.8486313463204765, 0.025716101403650805, 0.07714830421095241, 0.14607351112163536, 0.21911026668245304, 0.2556286444628619, 0.27388783335306627, 0.10955513334122652, 0.30389288757577004, 0.6630390274380438, 0.02762662614325182, 0.535195767060215, 0.15829733955302133, 0.09045562260172647, 0.17839858902007164, 0.03768984275071936, 0.9837733412734407, 0.04640817787749242, 0.9281635575498484, 0.978345094430744, 0.3115072278079735, 0.27813145339997636, 0.07787680695199338, 0.2447556789919792, 0.08622075055399267, 0.11327864232526376, 0.11327864232526376, 0.6796718539515826, 0.11327864232526376, 0.112033388431479, 0.0560166942157395, 0.20539454545771152, 0.112033388431479, 0.5228224793469021, 0.9714535739864432, 0.17316411490351344, 0.534550093832585, 0.030115498244089295, 0.03764437280511162, 0.2258662368306697, 0.08916672945614322, 0.456979488462734, 0.16718761773026855, 0.20619806186733122, 0.07244796768311637, 0.3136689817907711, 0.23175542603649327, 0.17781235273489568, 0.1458460870746897, 0.12986295424458674, 0.21703058626476537, 0.15402170638144638, 0.09801381315182953, 0.49707005241284974, 0.03500493326851054, 0.1596440577096406, 0.11403146979260044, 0.47893217312892183, 0.14824091073038057, 0.10262832281334039, 0.26605021892330455, 0.16415864571863473, 0.01132128591162998, 0.35379018473843693, 0.20944378936515465, 0.08165986366581776, 0.7349387729923599, 0.16331972733163552, 0.4255136774433976, 0.4999785709959922, 0.0531892096804247, 0.02127568387216988, 0.7086352378849587, 0.059052936490413224, 0.059052936490413224, 0.1771588094712397, 0.14897354747235633, 0.7945255865192338, 0.04965784915745211, 0.08206687413395589, 0.08206687413395589, 0.08206687413395589, 0.04103343706697794, 0.738601867205603, 0.06126087322518159, 0.16846740136924937, 0.007657609153147699, 0.6662119963238498, 0.08423370068462468, 0.02554711134932362, 0.9452431199249739, 0.9689479340983557, 0.25309496725444414, 0.07231284778698405, 0.3687955237136186, 0.26755753681184097, 0.043387708672190425, 0.029525390408996776, 0.07381347602249194, 0.5462197225664404, 0.29525390408996777, 0.05905078081799355, 0.35387827655891296, 0.06849256965656379, 0.42237084621547677, 0.12556971103703363, 0.034246284828281896, 0.11551431025490091, 0.07700954016993394, 0.7315906316143724, 0.07700954016993394, 0.1940172574659439, 0.7113966107084609, 0.06467241915531463, 0.7819091074421072, 0.11170130106315816, 0.07446753404210545, 0.03723376702105272, 0.03723376702105272, 0.23007961530238158, 0.005899477315445682, 0.10619059167802226, 0.6430430273835793, 0.011798954630891364, 0.03295328353096119, 0.011587967835063275, 0.8256427082482584, 0.11841454631455284, 0.011225843840217548, 0.8687267659934751, 0.07239389716612292, 0.07920422451086259, 0.09900528063857823, 0.6138327399591851, 0.17820950514944084, 0.019801056127715648, 0.6390159657267844, 0.27386398531147904, 0.022821998775956587, 0.045643997551913174, 0.901752432695541, 0.07514603605796175, 0.089429103308971, 0.0357716413235884, 0.1252007446325594, 0.2146298479415304, 0.5365746198538259, 0.8281307972598992, 0.06370236901999225, 0.1274047380399845, 0.10649368308151994, 0.03549789436050664, 0.8164515702916528, 0.07099578872101328, 0.7168732204166873, 0.23895774013889579, 0.19535553283218285, 0.7814221313287314, 0.17950868316710922, 0.17950868316710922, 0.6282803910848822, 0.4703137839447689, 0.3547981177127204, 0.11139010672376105, 0.033004476066299575, 0.028878916558012127, 0.10326047291831927, 0.7228233104282349, 0.15489070937747892, 0.226066418172546, 0.188388681810455, 0.3704977408938948, 0.113033209086273, 0.10047396363224266, 0.9783710157769485, 0.8801127177639236, 0.024191642503346163, 0.06451104667558977, 0.44351344589467967, 0.44351344589467967, 0.016127761668897442, 0.10710457822978997, 0.0576716959698869, 0.09886576451980612, 0.1153433919397738, 0.6220304351037802, 0.9680181853065929, 0.26652118813122727, 0.10660847525249091, 0.5863466138887, 0.05773854090536509, 0.17321562271609528, 0.7217317613170637, 0.7315087619682338, 0.1045012517097477, 0.15675187756462153, 0.21376022586204596, 0.6412806775861379, 0.16731829423280273, 0.18941693686732383, 0.4293450568992674, 0.0726098257991408, 0.14206270265049287, 0.21065387785129597, 0.021065387785129598, 0.021065387785129598, 0.21065387785129597, 0.52663469462824, 0.07547245742121875, 0.8553545174404791, 0.05031497161414583, 0.22982180736267674, 0.7103583136664553, 0.06267867473527547, 0.7579115666880086, 0.1378021030341834, 0.9166730649720581, 0.13352839843963152, 0.8679345898576049, 0.6009764928285275, 0.2884687165576932, 0.018029294784855824, 0.07812694406770856, 0.01201952985657055, 0.8826194055223985, 0.0630442432515999, 0.6766206037894421, 0.07176279131100143, 0.11277010063157368, 0.0820146186411445, 0.06151096398085837, 0.19146407811878446, 0.09069351068784527, 0.22169524834806623, 0.17130996463259662, 0.33254287252209935, 0.7161964211193458, 0.14323928422386914, 0.07161964211193457, 0.07161964211193457, 0.0754525169910669, 0.27162906116784086, 0.12072402718570704, 0.5281676189374683, 0.7062131955351729, 0.27463846493034505, 0.01961703320931036, 0.3718233732181737, 0.4772658223397454, 0.01664880775603763, 0.04994642326811289, 0.08324403878018816, 0.2431054698983368, 0.5284901519529062, 0.010569803039058122, 0.07398862127340686, 0.1374074395077556, 0.16724037995418767, 0.30351031917611837, 0.1393669832951564, 0.3778393769335351, 0.015485220366128488, 0.7243747738639066, 0.11589996381822505, 0.1448749547727813, 0.20290388994882655, 0.33584092129460946, 0.16092377478700037, 0.03498342930152182, 0.25887737683126144, 0.7421746872821229, 0.09680539399332039, 0.032268464664440125, 0.1290738586577605, 0.1901261835873615, 0.13097581536018235, 0.4816529984213158, 0.1647760257757133, 0.03380021041553093, 0.9372471535564867, 0.9660679522196111, 0.1655443557991483, 0.1655443557991483, 0.6621774231965932, 0.16555017382995907, 0.16555017382995907, 0.6622006953198363, 0.10579764047274914, 0.3743608816728047, 0.3418077615273434, 0.08952108040001851, 0.08952108040001851, 0.04351715116420863, 0.21758575582104317, 0.08703430232841726, 0.6527572674631295, 0.2145554097361806, 0.1859480217713565, 0.028607387964824076, 0.5435403713316574, 0.028607387964824076, 0.29055277650415595, 0.1766105112084085, 0.2620672101802191, 0.24497587038585697, 0.022788453059149488, 0.2068356187781821, 0.44933255113880943, 0.04279357629893423, 0.17117430519573693, 0.1283807288968027, 0.0963737041579586, 0.5111996481422152, 0.037711449453114235, 0.15084579781245694, 0.20531789146695528, 0.06287358808658217, 0.12574717617316433, 0.754483057038986, 0.036204283281236094, 0.02715321246092707, 0.8960560112105933, 0.036204283281236094, 0.1965856991117357, 0.6880499468910749, 0.09829284955586785, 0.19291356906084772, 0.4385972175508959, 0.020761998463947738, 0.18815561107952636, 0.15960786319159823, 0.10098769054424145, 0.10098769054424145, 0.014426812934891635, 0.08656087760934982, 0.6924870208747985, 0.08584964973364859, 0.8584964973364858, 0.03153286231309236, 0.46510971911811233, 0.039416077891365454, 0.01576643115654618, 0.45722650353983924, 0.7645445554684064, 0.04247469752602257, 0.021237348763011286, 0.04247469752602257, 0.12742409257806772, 0.12584273476001523, 0.08389515650667681, 0.7970039868134297, 0.11010093523702771, 0.770706546659194, 0.11010093523702771, 0.7583041195283018, 0.13787347627787305, 0.06893673813893653, 0.09843342707608006, 0.7874674166086405, 0.04950250684836631, 0.09900501369673262, 0.19801002739346524, 0.6435325890287621, 0.05800931361555663, 0.8121303906177929, 0.11601862723111327, 0.18369765014681194, 0.11021859008808717, 0.6980510705578854, 0.4051170284671661, 0.042546537236277715, 0.11839036448355539, 0.18683479395061084, 0.24602997619238853, 0.05368638491237983, 0.7113446000890328, 0.026843192456189914, 0.0939511735966647, 0.12079436605285461, 0.8565190829548263, 0.009959524220404956, 0.02987857266121487, 0.07967619376323964, 0.03983809688161982, 0.059120551651219745, 0.029560275825609873, 0.6503260681634172, 0.23648220660487898, 0.182460181700788, 0.729840726803152, 0.9783496574588765, 0.11045307463854574, 0.250360302514037, 0.058908306473891066, 0.41972168362647383, 0.16199784280320043, 0.08434440094236947, 0.02811480031412316, 0.25303320282710845, 0.6185256069107095, 0.02811480031412316, 0.09477344855711153, 0.7581875884568923, 0.09477344855711153, 0.41780430441767274, 0.1876675927810151, 0.2582581552032318, 0.11305968127785924, 0.02353018747407223, 0.056697808893514876, 0.652024802275421, 0.2834890444675744, 0.04279368951295852, 0.6205084979378985, 0.12838106853887557, 0.19257160280831334, 0.6719559573790592, 0.0248872576807059, 0.1493235460842354, 0.1493235460842354, 0.27030122134995316, 0.3081939159317223, 0.15662313760464575, 0.22988234712939942, 0.035366514942984525, 0.9836980022936517, 0.1179144031259182, 0.7074864187555092, 0.014739300390739774, 0.06878340182345229, 0.08843580234443865, 0.3718386027616846, 0.10713993638895998, 0.236338094975647, 0.20797752357856938, 0.07562819039220704, 0.2275326490034036, 0.36171857021053905, 0.2742060129015377, 0.10501506877080166, 0.035005022923600554, 0.07712583483071991, 0.15425166966143983, 0.6170066786457593, 0.07712583483071991, 0.07712583483071991, 0.26115763927243935, 0.38520751792684804, 0.06528940981810984, 0.2350418753451954, 0.05223152785448787, 0.8666173537366478, 0.1238024791052354, 0.07501469549737588, 0.9001763459685105, 0.11257327125959007, 0.6754396275575404, 0.11257327125959007, 0.9288802092242263, 0.8678603430298953, 0.0964289270033217, 0.11007603574460258, 0.27519008936150646, 0.6054181965953143, 0.4065979150238567, 0.574020585916033, 0.07328598791171023, 0.7817172043915759, 0.04885732527447349, 0.07328598791171023, 0.14944609057490202, 0.09963072704993468, 0.5977843622996081, 0.12453840881241834, 0.11135421029956943, 0.8351565772467707, 0.09345848510608752, 0.7009386382956564, 0.1401877276591313, 0.04672924255304376, 0.07500993069121488, 0.9001191682945785, 0.3577610612045572, 0.11594108464962502, 0.2881964104147822, 0.1821931330208393, 0.056314241115532154, 0.9837940162407017, 0.703217013456728, 0.12229861103595271, 0.1528732637949409, 0.09330115644799035, 0.023325289111997587, 0.046650578223995175, 0.8397104080319132, 0.8663635745707964, 0.029874606019682635, 0.014937303009841318, 0.07468651504920659, 0.10266853604935888, 0.2181706391048876, 0.16683637108020818, 0.07700140203701916, 0.4363412782097752, 0.7201143048653865, 0.21603429145961595, 0.038408537746678593, 0.11522561324003577, 0.07681707549335719, 0.7681707549335719, 0.35830032467073647, 0.07564117965271104, 0.15526347402398583, 0.38218701298211893, 0.03184891774850991, 0.6524978075688022, 0.0932139725098289, 0.1864279450196578, 0.049480823186234896, 0.6102634859635637, 0.22266370433805702, 0.11545525410121475, 0.7444006052691288, 0.1240667675448548, 0.19159367969779914, 0.06632088912616124, 0.11790380289095331, 0.5084601499672362, 0.1252727905716379, 0.07177353070432557, 0.011962255117387594, 0.011962255117387594, 0.011962255117387594, 0.8971691338040696, 0.8817518422067276, 0.1280018526283009, 0.8533456841886727, 0.8678713218265198, 0.06199080870189427, 0.663888912427813, 0.1041394372435785, 0.06508714827723656, 0.13017429655447313, 0.03905228896634194, 0.22536608728277066, 0.07042690227586583, 0.056341521820692665, 0.591585979117273, 0.0422561413655195, 0.10994554010185272, 0.045105862605888294, 0.3805807157371825, 0.3636660172599744, 0.09866907445038064, 0.25960685704662356, 0.30627775269545476, 0.1516804108587014, 0.1691819967270131, 0.11376030814402605, 0.023308903461908236, 0.0699267103857247, 0.023308903461908236, 0.1398534207714494, 0.7458849107810636, 0.7304600188542157, 0.02148411820159458, 0.19335706381435122, 0.04296823640318916, 0.07030671214206116, 0.011717785357010194, 0.023435570714020387, 0.05858892678505097, 0.8202449749907136, 0.04201644726640335, 0.06302467089960502, 0.8823453925944703, 0.07970929123783034, 0.8768022036161337, 0.051894010031365664, 0.6375549803853496, 0.26688348016130914, 0.02224029001344243, 0.02224029001344243, 0.08819271044632043, 0.793734394016884, 0.7687949394245839, 0.09044646346171575, 0.13566969519257363, 0.12084618537922945, 0.6495482464133583, 0.030211546344807362, 0.0906346390344221, 0.12084618537922945, 0.5190015498166904, 0.2650220679915015, 0.08465982727506298, 0.0699363790533129, 0.06257465494243786, 0.19848622055401483, 0.5254047014665099, 0.16345924045624752, 0.05837830016294554, 0.04670264013035643, 0.12952590170723155, 0.06476295085361577, 0.06476295085361577, 0.7123924593897735, 0.06476295085361577, 0.8548937945222392, 0.07771761768383993, 0.16040422045162026, 0.4248544217367239, 0.0520229904167417, 0.15173372204882996, 0.21242721086836194, 0.2270762442410306, 0.07569208141367686, 0.015138416282735372, 0.6812287327230917, 0.07868751160337017, 0.03934375580168509, 0.8655626276370719, 0.029793794172589264, 0.0893813825177678, 0.8342262368324994, 0.05958758834517853, 0.08088511654009332, 0.8897362819410265, 0.24318572298390612, 0.7295571689517183, 0.23056800250318382, 0.6917040075095514, 0.0512373338895964, 0.07500733780226002, 0.9000880536271202, 0.9337915885327801, 0.9430731452172864, 0.7726510941193647, 0.11037872773133782, 0.11037872773133782, 0.08066242183506493, 0.1882123176151515, 0.7259617965155843, 0.66200562755897, 0.28371669752527284, 0.967137887787566, 0.8184692060101592, 0.1023086507512699, 0.08684471257754142, 0.8684471257754143], \"Term\": [\"'s\", \"'s\", \"'s\", \"'s\", \"'s\", \"[\", \"[\", \"[\", \"[\", \"]\", \"]\", \"]\", \"]\", \"]\", \"a.m._courtroom\", \"a.m._courtroom\", \"a.m._courtroom\", \"absolute_return_fund_l.p.\", \"absolute_return_fund_l.p.\", \"absolute_return_fund_l.p.\", \"action\", \"action\", \"action\", \"action\", \"action\", \"additional_attachment_add\", \"additional_attachment_add\", \"additional_attachment_add\", \"additional_attachment_add\", \"address\", \"address\", \"address\", \"address\", \"address\", \"ae\", \"ae\", \"ae\", \"affidavit_service\", \"affidavit_service\", \"affidavit_service\", \"affidavit_service\", \"affidavit_service\", \"affidavit_service_summons_complaint\", \"affidavit_service_summons_complaint\", \"affidavit_service_summons_complaint\", \"aim_exploration_inc.._basile\", \"aim_exploration_inc.._basile\", \"aim_exploration_inc.._basile\", \"amend\", \"amend\", \"amend\", \"amend\", \"amend\", \"amend_complaint\", \"amend_complaint\", \"amend_complaint\", \"amend_complaint\", \"amend_complaint\", \"anc\", \"anc\", \"answer\", \"answer\", \"answer\", \"answer\", \"answer\", \"answer_amend_complaint\", \"answer_amend_complaint\", \"answer_amend_complaint\", \"answer_amend_complaint\", \"answer_amend_complaint\", \"answer_complaint\", \"answer_complaint\", \"answer_complaint\", \"answer_complaint\", \"answer_complaint\", \"answer_due\", \"answer_due\", \"answer_due\", \"answer_due\", \"answer_due\", \"april\", \"april\", \"april\", \"april\", \"april\", \"associate_case\", \"associate_case\", \"associate_case\", \"associate_case\", \"associate_case\", \"associate_case_thk\", \"associated_case_ft\", \"associated_case_ft\", \"attachment\", \"attachment\", \"attachment\", \"attachment\", \"attachment\", \"attachment_text_propose\", \"attachment_text_propose\", \"attachment_text_propose\", \"attorney\", \"attorney\", \"attorney\", \"attorney\", \"attorney\", \"attorney_responsible_provide_courtesy\", \"attorney_responsible_provide_courtesy\", \"attorney_terminate\", \"attorney_terminate\", \"b\", \"b\", \"b\", \"b\", \"b\", \"b_rule_..\", \"b_rule_..\", \"b_rule_..\", \"bond\", \"bond\", \"brookfield\", \"brookfield\", \"brookfield\", \"brookfield\", \"brookfield\", \"c\", \"c\", \"c\", \"c\", \"c\", \"cal\", \"calculation\", \"calculation\", \"calculation\", \"case\", \"case\", \"case\", \"case\", \"case\", \"case_assign\", \"case_assign\", \"cd\", \"cd\", \"cd\", \"cd\", \"cd\", \"certify_class\", \"certify_copy_docket_sheet\", \"certify_copy_docket_sheet\", \"cf\", \"cf\", \"civ\", \"civ\", \"civil_action\", \"civil_action\", \"civil_action\", \"civil_cover_sheet\", \"civil_cover_sheet\", \"civil_cover_sheet\", \"claim\", \"claim\", \"claim\", \"claim\", \"claim\", \"claim_administrator\", \"claim_administrator\", \"claim_administrator\", \"claim_administrator\", \"claim_administrator\", \"clerk\", \"clerk\", \"clerk\", \"clerk\", \"clerk\", \"complaint\", \"complaint\", \"complaint\", \"complaint\", \"complaint\", \"complaint_pursuant_frcp\", \"complaint_pursuant_frcp\", \"complaint_pursuant_frcp\", \"complaint_pursuant_frcp\", \"conference\", \"conference\", \"conference\", \"conference\", \"conference\", \"conference_proceed_hold\", \"copy_mail_chamber\", \"copy_send_chamber\", \"copy_send_chamber\", \"copy_send_chamber\", \"copy_send_chamber\", \"copy_send_chamber\", \"corp..\", \"corp..\", \"corporate_parent\", \"cote\", \"cote\", \"cotton\", \"cotton\", \"cotton\", \"cotton\", \"counsel\", \"counsel\", \"counsel\", \"counsel\", \"counsel\", \"counterclaim\", \"counterclaim\", \"counterclaim\", \"court\", \"court\", \"court\", \"court\", \"court\", \"court_notice_intent\", \"court_reportertranscriber\", \"court_reportertranscriber\", \"court_reportertranscriber_abovecaptioned_matter\", \"date\", \"date\", \"date\", \"date\", \"date\", \"date_dec_dkt\", \"date_dec_dkt\", \"date_dec_dkt\", \"date_dec_dkt\", \"date_november\", \"date_november\", \"date_november\", \"date_november\", \"date_november\", \"date_purs\", \"declaration_opposition\", \"declaration_opposition\", \"declaration_opposition\", \"declaration_opposition\", \"declaration_opposition\", \"declaration_support\", \"declaration_support\", \"declaration_support\", \"declaration_support\", \"declaration_support\", \"defendant\", \"defendant\", \"defendant\", \"defendant\", \"defendant\", \"defendant_'\", \"defendant_'\", \"defendant_'\", \"defendant_'\", \"defendant_'\", \"deposition\", \"deposition\", \"deposition\", \"deposition\", \"deposition\", \"dismiss\", \"dismiss\", \"dismiss\", \"dismiss\", \"dismiss\", \"dismiss_counterclaim\", \"dismiss_counterclaim\", \"dismiss_counterclaim\", \"dismissal\", \"dismissal\", \"dismissal\", \"dismissal\", \"dismissal_without_prejudice\", \"dismissal_without_prejudice\", \"dismissal_without_prejudice\", \"dismissal_without_prejudice\", \"distribution\", \"distribution\", \"distribution\", \"district_judge\", \"district_judge\", \"district_judge\", \"district_judge\", \"district_judge\", \"djc\", \"djc\", \"djc\", \"djc\", \"djc\", \"dle\", \"dle\", \"document_place_vault\", \"due\", \"due\", \"due\", \"due\", \"due\", \"e\", \"e\", \"e\", \"e\", \"e\", \"endorsement\", \"endorsement\", \"endorsement\", \"endorsement\", \"endorsement\", \"endorsement_application_grant\", \"endorsement_application_grant\", \"endorsement_application_grant\", \"endorsement_application_grant\", \"erratum\", \"erratum\", \"erratum\", \"et_al\", \"et_al\", \"et_al\", \"et_al\", \"et_al\", \"ex\", \"ex\", \"ex\", \"ex\", \"ex\", \"exhibit\", \"exhibit\", \"exhibit\", \"exhibit\", \"exhibit\", \"expert_discovery_due\", \"expert_discovery_due\", \"f\", \"f\", \"f\", \"f\", \"f\", \"fee_receipt_number\", \"fee_receipt_number\", \"fee_receipt_number\", \"fee_receipt_number\", \"firm\", \"firm\", \"form\", \"form\", \"form\", \"form\", \"form\", \"forward\", \"forward\", \"forward\", \"g\", \"g\", \"g\", \"g\", \"gf\", \"gf\", \"goodwin\", \"goodwin\", \"gr\", \"gr\", \"gr\", \"grant\", \"grant\", \"grant\", \"grant\", \"grant\", \"h.o\", \"h.o\", \"h.o\", \"hereby\", \"hereby\", \"hereby\", \"hereby\", \"hereby\", \"hereby_give_official_transcript\", \"hereby_stipulate_agree_undersigned\", \"hold\", \"hold\", \"hold\", \"hold\", \"hold\", \"inc..\", \"inc..\", \"inc..\", \"inc..\", \"inc..\", \"ja\", \"jar\", \"jar\", \"jar\", \"jco\", \"jco\", \"jco\", \"jpo\", \"jpo\", \"jpo\", \"jsa\", \"jsa\", \"judge\", \"judge\", \"judge\", \"judge\", \"judge\", \"judge_c.d\", \"judge_c.d\", \"judge_c.d\", \"judge_c.d\", \"judge_c.d\", \"judge_d._kan._gr\", \"judge_d._kan._gr\", \"judge_d._kan._gr\", \"judge_d._kan._magistrate\", \"judge_d._kan._magistrate\", \"judge_d._kan._magistrate\", \"judge_individual_practice\", \"judge_individual_practice\", \"judge_jury_trial\", \"judge_longer_assigned\", \"judge_longer_assigned\", \"judgment\", \"judgment\", \"judgment\", \"judgment\", \"judgment\", \"judgment_favor\", \"judgment_favor\", \"july\", \"july\", \"july\", \"july\", \"july\", \"june\", \"june\", \"june\", \"june\", \"june\", \"jurisdiction\", \"jurisdiction\", \"jurisdiction\", \"jurisdiction\", \"keely\", \"keely\", \"keely\", \"keely\", \"kw\", \"kw\", \"kw\", \"l.p.\", \"l.p.\", \"l.p.\", \"l.p.\", \"l.p.\", \"leave\", \"leave\", \"leave\", \"leave\", \"leave\", \"letter\", \"letter\", \"letter\", \"letter\", \"letter\", \"limine_preclude_plaintiff_introduce\", \"limine_preclude_plaintiff_introduce\", \"limine_preclude_plaintiff_introduce\", \"llc\", \"llc\", \"llc\", \"llc\", \"llc\", \"ltd..\", \"ltd..\", \"ltd..\", \"ltd..\", \"magistrate_judge\", \"magistrate_judge\", \"magistrate_judge\", \"magistrate_judge\", \"magistrate_judge\", \"magistrate_judge_designate\", \"magistrate_judge_discovery_hear\", \"magnum_growth_fund_l.p.\", \"magnum_growth_fund_l.p.\", \"magnum_growth_fund_l.p.\", \"magnum_special_situation_fund\", \"magnum_special_situation_fund\", \"magnum_special_situation_fund\", \"march\", \"march\", \"march\", \"march\", \"march\", \"marshal\", \"marshal\", \"marshal\", \"marshal\", \"matter\", \"matter\", \"matter\", \"matter\", \"matter\", \"may\", \"may\", \"may\", \"may\", \"may\", \"memorandum_law_opposition\", \"memorandum_law_opposition\", \"memorandum_law_opposition\", \"memorandum_law_opposition\", \"memorandum_law_opposition\", \"memorandum_law_support\", \"memorandum_law_support\", \"memorandum_law_support\", \"memorandum_law_support\", \"memorandum_law_support\", \"merrill\", \"merrill\", \"merrill\", \"minute_entry_proceeding_hold\", \"minute_entry_proceeding_hold\", \"minute_entry_proceeding_hold\", \"minute_entry_proceeding_hold\", \"modify_ldi\", \"modify_ldi\", \"modify_ldi\", \"motion\", \"motion\", \"motion\", \"motion\", \"motion\", \"motion_dismiss_thirdparty\", \"motion_dismiss_thirdparty\", \"motion_dismiss_thirdparty\", \"motion_dismiss_thirdparty\", \"motion_dismiss_thirdparty\", \"mp\", \"mp\", \"mro\", \"mro\", \"mro\", \"mro\", \"mro\", \"nd\", \"nd\", \"nd\", \"nd\", \"nd\", \"new_address\", \"new_address\", \"new_address\", \"new_york_observer_l.p.\", \"new_york_observer_l.p.\", \"new_york_observer_l.p.\", \"nm\", \"nm\", \"nm\", \"nonecf_case_error\", \"nonecf_case_error\", \"note\", \"note\", \"note\", \"note\", \"note_attorney\", \"note_attorney\", \"note_attorney\", \"note_attorney_refile_document\", \"note_attorney_refile_document\", \"note_attorney_refile_document\", \"notice\", \"notice\", \"notice\", \"notice\", \"notice\", \"notice_appeal\", \"notice_appeal\", \"notice_appeal\", \"notice_appeal\", \"notice_appeal\", \"notice_appearance_behalf\", \"notice_appearance_behalf\", \"notice_appearance_behalf\", \"notice_appearance_behalf\", \"notice_appearance_behalf\", \"objection\", \"objection\", \"objection\", \"objection\", \"office_p.c\", \"office_p.c\", \"official_transcript_notice\", \"opposition\", \"opposition\", \"opposition\", \"opposition\", \"opposition\", \"oral_argument\", \"oral_argument\", \"oral_argument\", \"oral_argument\", \"oral_argument\", \"oral_argument_set_pm\", \"oral_argument_set_pm\", \"oral_argument_set_pm\", \"order\", \"order\", \"order\", \"order\", \"order\", \"pacer\", \"pacer\", \"pacer\", \"part\", \"part\", \"part\", \"part\", \"partial_summary_judgment\", \"partial_summary_judgment\", \"partial_summary_judgment\", \"partial_summary_judgment\", \"party\", \"party\", \"party\", \"party\", \"party\", \"party_calendar_day\", \"pennsylvania\", \"pennsylvania\", \"pennsylvania\", \"pennsylvania\", \"pennsylvania\", \"plaintiff\", \"plaintiff\", \"plaintiff\", \"plaintiff\", \"plaintiff\", \"plaintiff_'s\", \"plaintiff_'s\", \"plaintiff_'s\", \"plaintiff_'s\", \"plaintiff_'s\", \"production\", \"production\", \"production\", \"production\", \"production\", \"propose\", \"propose\", \"propose\", \"propose\", \"propose\", \"propose_finding_fact_conclusion\", \"propose_finding_fact_conclusion\", \"public_terminal_purchase_court\", \"public_terminal_purchase_court\", \"pursuant_federal_rule\", \"pursuant_federal_rule\", \"pursuant_federal_rule\", \"pursuant_u.s.c\", \"q\", \"q\", \"r._civ\", \"r._civ\", \"r._civ\", \"redact_transcript_deadline_set\", \"redact_transcript_deadline_set\", \"redaction_request_due\", \"redaction_request_due\", \"redaction_request_due\", \"redaction_request_due\", \"reiter\", \"reiter\", \"reiter\", \"reiter\", \"release_transcript_restriction_set\", \"release_transcript_restriction_set\", \"reply_due\", \"reply_due\", \"reply_due\", \"reply_due\", \"reportertranscriber_deadline_release_transcript\", \"reportertranscriber_deadline_release_transcript\", \"request\", \"request\", \"request\", \"request\", \"request\", \"request_redaction_transcript\", \"response_due\", \"response_due\", \"response_due\", \"restriction\", \"restriction\", \"restriction\", \"restriction\", \"rjm\", \"rjm\", \"rjm\", \"rjm\", \"rule_statement\", \"rule_statement\", \"rule_statement\", \"rule_statement\", \"rule_statement\", \"ruling\", \"ruling\", \"s.d.n.y\", \"s.d.n.y\", \"s.d.n.y\", \"s.d.n.y\", \"schedule\", \"schedule\", \"schedule\", \"schedule\", \"schedule\", \"scileppi\", \"scileppi\", \"scileppi\", \"seal\", \"seal\", \"seal\", \"seal\", \"see_attached\", \"see_attached\", \"serve\", \"serve\", \"serve\", \"serve\", \"serve\", \"serve_answer_due\", \"serve_answer_due\", \"serve_answer_due\", \"serve_answer_due\", \"serve_answer_due\", \"service_accept_legal_clerk\", \"service_make\", \"service_make\", \"set_answer_due\", \"set_answer_due\", \"set_forth\", \"set_forth\", \"set_forth\", \"set_forth\", \"set_forth\", \"settlement\", \"settlement\", \"settlement\", \"settlement\", \"settlement\", \"shall\", \"shall\", \"shall\", \"shall\", \"shall\", \"sign_judge\", \"sign_judge\", \"sign_judge\", \"sign_judge\", \"sign_judge\", \"sign_judge_copy_mail\", \"sign_judge_copy_mail\", \"sign_judge_copy_mail\", \"sign_judge_copy_mail\", \"sign_judge_copy_mail\", \"sign_judge_gr\", \"sign_judge_gr\", \"sign_judge_gr\", \"sign_judge_gr\", \"sign_judge_iii\", \"sign_judge_iii\", \"sign_judge_iii\", \"sign_judge_iii\", \"sign_judge_iii\", \"sign_judge_s.d.n.y\", \"sign_judge_s.d.n.y\", \"sign_judge_s.d.n.y\", \"sign_judge_sr\", \"sign_judge_sr\", \"sign_magistrate_judge\", \"sign_magistrate_judge\", \"sign_magistrate_judge\", \"sign_magistrate_judge\", \"sign_magistrate_judge\", \"sn\", \"sn\", \"status_conference_set_pm\", \"status_conference_set_pm\", \"status_conference_set_pm\", \"stay\", \"stay\", \"stay\", \"stay\", \"stay\", \"stipulation\", \"stipulation\", \"stipulation\", \"stipulation\", \"stipulation\", \"submit\", \"submit\", \"submit\", \"submit\", \"submit\", \"subpoena\", \"subpoena\", \"subpoena\", \"subpoena\", \"subpoena\", \"substitution\", \"substitution\", \"summary_judgment\", \"summary_judgment\", \"summary_judgment\", \"summary_judgment\", \"summary_judgment\", \"summary_judgment.._document\", \"summary_judgment.._document\", \"summary_judgment.._document\", \"summary_judgment.._document\", \"summary_judgment_favor\", \"summary_judgment_favor\", \"summary_judgment_favor\", \"telephone_conference_hold\", \"telephone_conference_hold\", \"telephone_conference_hold\", \"telephone_conference_hold\", \"telephone_conference_set\", \"telephone_conference_set\", \"text\", \"text\", \"tp\", \"tp\", \"tp\", \"transcript_may_view_court\", \"transcript_may_view_court\", \"transcript_proceeding\", \"transcript_proceeding_conference_hold\", \"transfer_new_york_eastern\", \"transfer_new_york_eastern\", \"transfer_new_york_eastern\", \"tro\", \"tro\", \"tro\", \"united_state_magistrate_judge\", \"united_state_magistrate_judge\", \"wellington\", \"without_cost_either_party\", \"without_cost_either_party\", \"worcester\", \"worcester\"]}, \"R\": 30, \"lambda.step\": 0.01};\n",
       "\n",
       "function LDAvis_load_lib(url, callback){\n",
       "  var s = document.createElement('script');\n",
       "  s.src = url;\n",
       "  s.async = true;\n",
       "  s.onreadystatechange = s.onload = callback;\n",
       "  s.onerror = function(){console.warn(\"failed to load library \" + url);};\n",
       "  document.getElementsByTagName(\"head\")[0].appendChild(s);\n",
       "}\n",
       "\n",
       "if(typeof(LDAvis) !== \"undefined\"){\n",
       "   // already loaded: just create the visualization\n",
       "   !function(LDAvis){\n",
       "       new LDAvis(\"#\" + \"ldavis_el1345219840122420409733813517\", ldavis_el1345219840122420409733813517_data);\n",
       "   }(LDAvis);\n",
       "}else if(typeof define === \"function\" && define.amd){\n",
       "   // require.js is available: use it to load d3/LDAvis\n",
       "   require.config({paths: {d3: \"https://cdnjs.cloudflare.com/ajax/libs/d3/3.5.5/d3.min\"}});\n",
       "   require([\"d3\"], function(d3){\n",
       "      window.d3 = d3;\n",
       "      LDAvis_load_lib(\"https://cdn.rawgit.com/bmabey/pyLDAvis/files/ldavis.v1.0.0.js\", function(){\n",
       "        new LDAvis(\"#\" + \"ldavis_el1345219840122420409733813517\", ldavis_el1345219840122420409733813517_data);\n",
       "      });\n",
       "    });\n",
       "}else{\n",
       "    // require.js not available: dynamically load d3 & LDAvis\n",
       "    LDAvis_load_lib(\"https://cdnjs.cloudflare.com/ajax/libs/d3/3.5.5/d3.min.js\", function(){\n",
       "         LDAvis_load_lib(\"https://cdn.rawgit.com/bmabey/pyLDAvis/files/ldavis.v1.0.0.js\", function(){\n",
       "                 new LDAvis(\"#\" + \"ldavis_el1345219840122420409733813517\", ldavis_el1345219840122420409733813517_data);\n",
       "            })\n",
       "         });\n",
       "}\n",
       "</script>"
      ],
      "text/plain": [
       "<IPython.core.display.HTML object>"
      ]
     },
     "execution_count": 331,
     "metadata": {},
     "output_type": "execute_result"
    }
   ],
   "source": [
    "lda5_model_filepath = 'docket_texts/lda_model_noorgnomodel_5'\n",
    "LDAvis_prepared = topic_modeling_pipeline(5, lda5_model_filepath, trigram_bow_corpus, trigram_dictionary)\n",
    "pyLDAvis.display(LDAvis_prepared)"
   ]
  },
  {
   "cell_type": "code",
   "execution_count": 332,
   "metadata": {
    "scrolled": false
   },
   "outputs": [
    {
     "name": "stdout",
     "output_type": "stream",
     "text": [
      "\n",
      " Topic 1's make-up:\n",
      "term                 frequency\n",
      "\n",
      "motion               0.033\n",
      "order                0.031\n",
      "magistrate_judge     0.020\n",
      "sign_judge           0.017\n",
      "judge                0.015\n",
      "due                  0.015\n",
      "case                 0.014\n",
      "request              0.014\n",
      "discovery            0.013\n",
      "'s                   0.012\n",
      "\n",
      " Topic 2's make-up:\n",
      "term                 frequency\n",
      "\n",
      "order                0.077\n",
      "motion               0.070\n",
      "party                0.017\n",
      "grant                0.017\n",
      "defendant            0.017\n",
      "plaintiff            0.015\n",
      "sign_judge           0.013\n",
      "letter               0.011\n",
      "ex                   0.011\n",
      "dismiss              0.011\n",
      "\n",
      " Topic 3's make-up:\n",
      "term                 frequency\n",
      "\n",
      "motion               0.104\n",
      "order                0.041\n",
      "stipulation          0.024\n",
      "defendant            0.023\n",
      "'s                   0.018\n",
      "memorandum_law_support 0.016\n",
      "court                0.016\n",
      "exhibit              0.015\n",
      "dismiss              0.014\n",
      "shall                0.013\n",
      "\n",
      " Topic 4's make-up:\n",
      "term                 frequency\n",
      "\n",
      "exhibit              0.093\n",
      "motion               0.049\n",
      "notice               0.021\n",
      "order                0.020\n",
      "'s                   0.017\n",
      "djc                  0.016\n",
      "judge                0.015\n",
      "b                    0.013\n",
      "sign_judge           0.012\n",
      "attachment           0.010\n",
      "\n",
      " Topic 5's make-up:\n",
      "term                 frequency\n",
      "\n",
      "'s                   0.030\n",
      "exhibit              0.023\n",
      "shall                0.020\n",
      "party                0.018\n",
      "amend_complaint      0.017\n",
      "order                0.015\n",
      "date                 0.015\n",
      "judge                0.015\n",
      "reiter               0.014\n",
      "motion               0.014\n",
      "\n",
      " Topic 6's make-up:\n",
      "term                 frequency\n",
      "\n",
      "exhibit              0.376\n",
      "order                0.038\n",
      "motion               0.020\n",
      "'s                   0.016\n",
      "claim                0.011\n",
      "attachment           0.011\n",
      "court                0.010\n",
      "defendant            0.009\n",
      "dismiss              0.009\n",
      "sign_judge           0.008\n",
      "\n",
      " Topic 7's make-up:\n",
      "term                 frequency\n",
      "\n",
      "motion               0.060\n",
      "order                0.031\n",
      "party                0.018\n",
      "judge                0.017\n",
      "complaint            0.016\n",
      "pennsylvania         0.015\n",
      "shall                0.014\n",
      "letter               0.014\n",
      "request              0.014\n",
      "schedule             0.012\n",
      "\n",
      " Topic 8's make-up:\n",
      "term                 frequency\n",
      "\n",
      "motion               0.072\n",
      "notice               0.035\n",
      "'s                   0.018\n",
      "date                 0.017\n",
      "exhibit              0.013\n",
      "sign_magistrate_judge 0.012\n",
      "declaration_opposition 0.010\n",
      "plaintiff_'s         0.010\n",
      "djc                  0.010\n",
      "summary_judgment     0.010\n",
      "\n",
      " Topic 9's make-up:\n",
      "term                 frequency\n",
      "\n",
      "order                0.076\n",
      "motion               0.053\n",
      "magistrate_judge     0.018\n",
      "notice               0.016\n",
      "counsel              0.015\n",
      "mro                  0.014\n",
      "ex                   0.012\n",
      "summary_judgment     0.010\n",
      "modify               0.010\n",
      "follow               0.010\n",
      "\n",
      " Topic 10's make-up:\n",
      "term                 frequency\n",
      "\n",
      "order                0.033\n",
      "inc..                0.031\n",
      "motion               0.029\n",
      "date                 0.023\n",
      "letter               0.022\n",
      "case                 0.019\n",
      "defendant            0.019\n",
      "exhibit              0.017\n",
      "'s                   0.017\n",
      "notice               0.016\n"
     ]
    },
    {
     "data": {
      "text/html": [
       "\n",
       "<link rel=\"stylesheet\" type=\"text/css\" href=\"https://cdn.rawgit.com/bmabey/pyLDAvis/files/ldavis.v1.0.0.css\">\n",
       "\n",
       "\n",
       "<div id=\"ldavis_el134521984018905872492288947\"></div>\n",
       "<script type=\"text/javascript\">\n",
       "\n",
       "var ldavis_el134521984018905872492288947_data = {\"tinfo\": {\"loglift\": [30.0, 29.0, 28.0, 27.0, 26.0, 25.0, 24.0, 23.0, 22.0, 21.0, 20.0, 19.0, 18.0, 17.0, 16.0, 15.0, 14.0, 13.0, 12.0, 11.0, 10.0, 9.0, 8.0, 7.0, 6.0, 5.0, 4.0, 3.0, 2.0, 1.0, 1.5662, 1.4433, 1.4192, 1.4117, 1.3408, 1.3024, 1.2901, 1.2819, 1.2267, 1.2193, 1.211, 1.1815, 1.1514, 1.1348, 1.1328, 1.1295, 1.1145, 1.0971, 1.0937, 1.0869, 1.0805, 1.0631, 1.052, 1.0281, 1.0175, 1.0169, 1.0139, 1.0061, 0.9948, 0.9902, 0.9778, 0.9724, 0.9041, 0.6071, 0.8317, 0.6461, 0.5635, 0.2558, 0.6492, 0.4588, 0.3273, 0.6178, 0.3814, 0.695, 0.3488, 0.4909, 0.4432, 0.263, 0.1424, 0.5761, 0.0842, 0.4329, 0.1027, 0.5601, 0.3233, -0.3198, 0.0233, -0.3309, -0.7471, -0.1066, -0.1368, -2.4203, 1.9114, 1.7345, 1.694, 1.6829, 1.5906, 1.5878, 1.5563, 1.5139, 1.4129, 1.3645, 1.3461, 1.3374, 1.3071, 1.3066, 1.2926, 1.2861, 1.2759, 1.2745, 1.2722, 1.2684, 1.2548, 1.2369, 1.2303, 1.2293, 1.2031, 1.1875, 1.1679, 1.1489, 1.1136, 1.1128, 1.0626, 1.0879, 1.07, 0.9893, 0.6567, 1.0048, 0.868, 1.1127, 0.6348, 0.7693, 0.5388, 0.5339, -0.0211, 0.2935, 0.3466, 0.9845, 0.7255, 0.8589, 0.2742, -0.0846, 0.3058, -1.3754, -0.0108, 0.3354, -0.1259, 0.172, 0.2672, -0.5549, -0.2357, 1.8923, 1.8529, 1.8409, 1.7141, 1.7016, 1.6987, 1.5268, 1.4959, 1.4689, 1.376, 1.3735, 1.3009, 1.281, 1.2666, 1.2558, 1.2384, 1.2284, 1.2139, 1.2094, 1.2082, 1.1399, 1.1218, 1.1097, 1.0654, 1.0536, 1.0495, 1.0383, 1.0131, 1.007, 1.0011, 0.9857, 0.8714, 0.9554, 0.8989, 0.4587, -0.1107, 0.1475, 0.4092, 0.3191, 0.08, 0.0968, 0.3703, 0.4434, 0.0018, -0.0643, 0.0294, -0.2873, -1.007, -0.0693, 0.1254, -0.1924, -0.1997, -0.3513, 0.1162, 0.299, 0.3192, -0.3503, 2.1733, 2.0251, 1.9403, 1.9013, 1.8006, 1.7686, 1.7516, 1.729, 1.7168, 1.6978, 1.6435, 1.6407, 1.6392, 1.6336, 1.6119, 1.5787, 1.56, 1.5474, 1.515, 1.4874, 1.4685, 1.4638, 1.4417, 1.4325, 1.429, 1.417, 1.415, 1.4148, 1.4066, 1.3982, 1.3926, 1.348, 1.3068, 1.2358, 1.3925, 1.1424, 1.1733, 1.2858, 1.0279, 1.2156, 1.0099, 1.264, 0.774, 0.7262, 0.7518, 0.6272, 0.9844, 0.701, 0.8347, 0.6882, -0.2896, -0.4848, 0.7536, -0.1293, 0.6824, 0.0136, 0.5836, -0.2699, 0.1931, -0.2675, 0.7205, 0.1986, 0.1943, 0.1202, 0.2922, 2.2674, 2.1842, 2.1103, 2.0112, 1.9889, 1.9465, 1.9373, 1.8397, 1.8247, 1.8035, 1.7822, 1.7678, 1.7582, 1.7404, 1.7404, 1.7157, 1.7027, 1.6976, 1.6304, 1.605, 1.5518, 1.5491, 1.5305, 1.5183, 1.5116, 1.5015, 1.464, 1.4571, 1.4438, 1.4398, 1.4109, 1.3939, 1.0754, 1.0776, 1.0085, 1.2727, 1.3597, 1.3227, 1.2945, 1.0059, 0.6422, 0.4301, 1.0325, -0.2342, 0.2953, 0.1829, 0.7113, -0.6237, 0.5691, 0.2043, -1.2431, -0.0973, 0.1664, 0.5983, -0.1437, 0.4537, 2.2876, 2.1652, 2.0021, 1.9728, 1.8628, 1.8371, 1.8104, 1.8075, 1.7322, 1.7193, 1.7115, 1.6959, 1.6312, 1.6264, 1.6187, 1.6105, 1.5964, 1.5605, 1.5556, 1.5139, 1.5044, 1.4836, 1.4812, 1.4551, 1.4339, 1.4334, 1.4288, 1.4282, 1.423, 1.4208, 1.391, 1.3902, 1.3547, 1.3564, 1.2943, 1.3451, 1.147, 0.9739, 1.1578, 0.7929, 0.098, 0.6251, 0.6193, 1.0064, 0.627, 0.7018, 0.943, 0.457, -0.2915, 1.1985, 0.6304, 1.0163, 0.6318, 0.5874, 0.5704, 0.6442, -0.3271, -0.109, 0.6005, 0.355, -0.1678, -0.6713, 0.5528, 1.8472, 1.8343, 1.829, 1.8288, 1.811, 1.7595, 1.7057, 1.6862, 1.6464, 1.5757, 1.5612, 1.5483, 1.5466, 1.5378, 1.514, 1.4845, 1.4842, 1.4561, 1.4377, 1.4375, 1.4343, 1.4142, 1.4106, 1.3837, 1.3777, 1.3428, 1.3408, 1.3227, 1.3132, 1.3111, 1.3109, 1.2945, 1.2172, 1.1106, 1.0218, 0.4602, 0.9328, 0.7252, 1.1442, 0.5548, 0.8804, -0.0991, 0.8262, 0.8185, 0.2264, 0.4041, 0.8317, 0.3997, 0.5325, 0.6475, -0.7416, 0.0403, 0.1655, 0.2786, 0.1302, -0.0277, -0.1881, -0.0245, 0.1028, 0.3571, 0.0626, -0.221, 2.3582, 2.2025, 2.1323, 2.0896, 2.0866, 2.0866, 2.0782, 2.0345, 1.9946, 1.9229, 1.8178, 1.8161, 1.7968, 1.7833, 1.7461, 1.6696, 1.6648, 1.6564, 1.6487, 1.6458, 1.6254, 1.5792, 1.5586, 1.5568, 1.4842, 1.4763, 1.4517, 1.4232, 1.4069, 1.3957, 1.3117, 1.3612, 1.1524, 1.3061, 1.1589, 1.0483, 0.5991, 1.0446, 1.0709, 0.8729, 0.9423, -0.0269, 0.8851, 0.6463, 0.2842, 1.0886, 0.9521, 0.3823, 1.1267, 0.0925, 0.2816, -0.3957, 0.2926, -0.3711, 0.4648, -0.092, -0.3971, -2.0679, -0.1848, 2.4574, 2.289, 2.1304, 2.0701, 2.0229, 2.0139, 1.9765, 1.9678, 1.9477, 1.9096, 1.8343, 1.8327, 1.8273, 1.7979, 1.7898, 1.7534, 1.7136, 1.6961, 1.6911, 1.6717, 1.6616, 1.6523, 1.6458, 1.6457, 1.6449, 1.5814, 1.5737, 1.5567, 1.5298, 1.5281, 1.4851, 1.4293, 1.4599, 1.2522, 0.7855, 0.7821, 1.1088, 1.4077, 0.8626, 0.8306, 0.5998, 0.6659, 0.5595, 0.6822, 1.2001, 1.1419, 0.82, -0.9488, 0.1651, -1.022, -0.2696, -1.3421, 0.0048, -0.1296, -0.1976, -0.5842, -0.1051, 0.1661, 2.5841, 2.5394, 2.3182, 2.211, 2.164, 2.1639, 2.1631, 2.1095, 2.0888, 2.0854, 2.0744, 2.0114, 2.0114, 2.0114, 2.0089, 1.9048, 1.7835, 1.7583, 1.7534, 1.7052, 1.69, 1.69, 1.6897, 1.6854, 1.669, 1.6552, 1.6409, 1.6351, 1.631, 1.6284, 1.6111, 1.5692, 1.5972, 1.6038, 1.4104, 1.3689, 1.4115, 1.0609, 1.1793, 0.2898, 0.6964, 0.9239, 0.2901, 1.1699, 0.6173, 1.089, 0.8738, -0.027, -1.5179, -0.0776, -1.5243, -0.552], \"Total\": [2517.0, 2305.0, 235.0, 1788.0, 520.0, 586.0, 108.0, 245.0, 319.0, 356.0, 69.0, 207.0, 123.0, 175.0, 167.0, 52.0, 321.0, 279.0, 419.0, 50.0, 185.0, 288.0, 129.0, 54.0, 52.0, 221.0, 230.0, 132.0, 69.0, 207.0, 40.26799974703373, 41.500257097550346, 12.798114940819234, 14.247277174161562, 18.801956566470142, 12.998048370453557, 17.331897634645372, 56.271852942793686, 16.99809469570797, 12.161015905706192, 26.033065689068188, 21.69843735614671, 23.052636492180792, 10.572821189172997, 27.203814336778677, 123.57286405297191, 13.716485191019963, 17.904970892973548, 129.02904606028778, 16.460914882178216, 10.59054844978454, 248.02299855456178, 48.766524782203206, 16.975977266584387, 22.52270677269302, 34.56157069131265, 16.04473385959999, 24.899368077694827, 12.432823231143034, 32.86655374863687, 175.67716290311847, 42.627402813105434, 123.88410891204276, 1788.23999317847, 88.92801936433898, 326.4192174474151, 419.39847498348433, 2305.9927472275967, 194.96121258607036, 339.1150895022162, 514.9246305119493, 137.7377884609831, 321.2193785848231, 100.05939263402921, 308.28690172781774, 180.30730773261715, 207.99865919370765, 348.1563692098944, 387.68180707212343, 116.8759483117871, 389.9705216724329, 156.15056659120765, 291.52469958106, 101.54374949261614, 162.97654811866224, 520.9252751857472, 230.6618047739934, 356.2478603290284, 586.6248391923968, 258.3305095807595, 252.3777960770298, 2517.751873153607, 15.813670397177942, 41.464781836208246, 36.461680362238184, 11.54555786532597, 22.76883589297716, 16.11691410034229, 83.94071301235597, 49.61647790317205, 17.498742162324906, 39.62401250718872, 19.70875835966248, 17.263063989478947, 98.84724854830822, 14.845492720341108, 16.374362007492667, 14.200381417708837, 57.14716528241003, 288.6122848748394, 16.17341611153557, 17.745740650825795, 47.2724929650326, 19.311615098363873, 9.473835779946645, 15.75774931074627, 18.93837075155629, 9.366755227471586, 92.86655886092602, 38.34121489731575, 44.561951153180054, 44.59578014346405, 238.06563351913115, 69.08077694136469, 69.00959237700737, 144.43985987159988, 2305.9927472275967, 118.30086634518277, 230.6618047739934, 44.602678176304536, 514.9246305119493, 185.0105296197794, 387.68180707212343, 348.1563692098944, 1788.23999317847, 586.6248391923968, 389.9705216724329, 61.95375493315895, 114.8084595906435, 80.91893719807213, 252.3777960770298, 520.9252751857472, 199.12945557921978, 2517.751873153607, 291.52469958106, 174.09993667806444, 326.4192174474151, 207.3741906914488, 180.0117651343326, 419.39847498348433, 279.044832510007, 15.877237594893506, 2517.751873153607, 9.667921653584957, 9.142210330194905, 13.229661823960399, 15.758759281347539, 29.746261581365015, 36.04634975088651, 20.720880438083128, 58.450870469771495, 26.79721978439411, 52.573716328812345, 11.96419084644525, 8.876629446989197, 22.9733164469796, 12.556470585566816, 17.43097154699641, 11.354492837992305, 16.399571856121494, 17.170871873124035, 10.34098884382838, 13.55200032866753, 37.71251861660115, 11.721599842043336, 17.25374580754076, 85.6106156701392, 168.00430128291828, 26.464871767727914, 8.369673261648666, 18.167096198529595, 23.052636492180792, 99.63535449656254, 32.502809477217994, 50.88479123606434, 291.52469958106, 1788.23999317847, 586.6248391923968, 162.97654811866224, 199.12945557921978, 387.68180707212343, 348.1563692098944, 156.15056659120765, 123.57286405297191, 339.1150895022162, 326.4192174474151, 258.3305095807595, 514.9246305119493, 2305.9927472275967, 279.044832510007, 194.96121258607036, 319.1546300221481, 308.28690172781774, 389.9705216724329, 180.30730773261715, 129.88467188066093, 118.25744016328424, 248.02299855456178, 24.97190342844043, 27.718346475749335, 23.69995832480774, 16.44128050944048, 49.40559438353577, 42.459894374914654, 35.79942713727595, 14.012281070321256, 19.169879650048863, 10.300170216737746, 14.238965851594713, 81.72867089551889, 16.681596798003078, 40.393152182729395, 17.59655638546613, 13.545199878712463, 27.348501013488843, 11.165484999027399, 13.805880541195522, 19.498930937394743, 10.653052687677295, 12.353173385228942, 54.94643347642425, 14.995305815908653, 17.645861726605442, 13.98459437710906, 150.2955711208271, 20.534433232279227, 18.394734225243525, 16.22088506945901, 21.912175849988934, 56.442281500659135, 118.25744016328424, 245.6932445234181, 21.912127286799407, 174.5394062053523, 84.8477444847649, 41.42003252579451, 180.0117651343326, 61.49961795101269, 185.0105296197794, 45.308352304613656, 339.1150895022162, 319.1546300221481, 279.044832510007, 308.28690172781774, 101.39488170240212, 207.3741906914488, 135.64457125506257, 180.30730773261715, 1788.23999317847, 2305.9927472275967, 132.97454049785455, 586.6248391923968, 140.49169597981916, 387.68180707212343, 162.97654811866224, 520.9252751857472, 258.3305095807595, 419.39847498348433, 129.02904606028778, 238.06563351913115, 235.6411849317457, 252.3777960770298, 207.99865919370765, 37.792580335497576, 69.8977688542192, 20.422046365312823, 13.365833658755522, 21.384019612451716, 16.766897999955116, 13.48751870521641, 15.070343035270355, 53.10141819379306, 27.754789873433538, 17.561970580415636, 71.05649279777722, 10.114994552084523, 10.298286450271766, 235.6411849317457, 10.555916369311579, 18.78500402281996, 54.39177659465096, 35.87316567342075, 72.61862259768262, 31.987171562225956, 12.20423360899721, 65.25137297945275, 17.236158689569105, 12.669391110823709, 94.01944656116659, 15.579480859464805, 25.05969118637095, 21.80324856208112, 23.372427808918946, 140.49169597981916, 38.96588283596657, 321.2193785848231, 279.044832510007, 356.2478603290284, 60.469633794206196, 38.92846363537438, 44.15889865927034, 44.25785370615158, 110.5178526081607, 291.52469958106, 514.9246305119493, 94.5625394283734, 1788.23999317847, 520.9252751857472, 586.6248391923968, 167.2336419401692, 2305.9927472275967, 207.3741906914488, 387.68180707212343, 2517.751873153607, 389.9705216724329, 258.3305095807595, 135.64457125506257, 348.1563692098944, 156.15056659120765, 50.61565131234489, 14.135330078750584, 28.27031717720396, 13.731524865534329, 48.079204627374665, 19.531175273343994, 25.11511504589331, 13.58630099335826, 24.754975545314917, 19.370335566221215, 25.27354559262186, 35.3271805425893, 35.853099289699436, 25.95782439905854, 15.84312870346616, 16.710847276078514, 16.775879652723823, 25.75497366277263, 28.738513570427834, 37.07252847658263, 40.03173825982793, 23.87842753045129, 8.805201813108068, 11.228951611275958, 37.48349840613214, 12.800175792332615, 9.656185246378898, 38.05260229538178, 15.345332657779927, 13.545199878712463, 43.17971182506041, 39.52939934467456, 71.22839531787356, 46.77946379447848, 94.5625394283734, 41.35521619804365, 207.3741906914488, 258.3305095807595, 86.3227188014612, 319.1546300221481, 2305.9927472275967, 419.39847498348433, 321.2193785848231, 114.8084595906435, 308.28690172781774, 252.3777960770298, 129.88467188066093, 389.9705216724329, 1788.23999317847, 65.01640123582075, 207.99865919370765, 88.92801936433898, 174.5394062053523, 185.0105296197794, 175.67716290311847, 133.54730910008487, 514.9246305119493, 356.2478603290284, 131.7448877115389, 180.0117651343326, 326.4192174474151, 520.9252751857472, 132.55726343155658, 15.982985497314077, 8.669747234694588, 108.89553857639747, 25.246594790264226, 7.618625356189664, 25.108457017233473, 18.769886539737318, 69.08077694136469, 15.38046645193604, 26.464871767727914, 17.25374580754076, 9.897759396224162, 20.960309100609145, 40.55820821008834, 31.92968257872947, 50.651111618867965, 17.763884356898448, 13.205715993135003, 24.542807168638834, 62.09686916143005, 23.56263716324929, 15.11922395491656, 48.91720654938823, 14.232895599078411, 10.064608007870659, 27.14409709227594, 16.399571856121494, 16.417498892185474, 9.007469538509708, 10.78518613039949, 20.97493250814607, 39.49654767681161, 49.68684554104856, 112.61273619952752, 199.12945557921978, 2517.751873153607, 142.69610160864025, 319.1546300221481, 49.40559438353577, 520.9252751857472, 132.55726343155658, 2305.9927472275967, 135.61432884585477, 131.7448877115389, 586.6248391923968, 339.1150895022162, 112.64802802921403, 291.52469958106, 174.09993667806444, 129.25583369671838, 1788.23999317847, 387.68180707212343, 308.28690172781774, 221.12336807336408, 279.044832510007, 356.2478603290284, 419.39847498348433, 326.4192174474151, 252.3777960770298, 180.0117651343326, 238.06563351913115, 321.2193785848231, 31.209761147889925, 23.459369882597457, 38.51524551366232, 38.05260229538178, 13.915683152713623, 13.915662157119135, 17.652738264277016, 45.74380962457167, 20.851557147832914, 12.076782245967172, 16.22088506945901, 18.466036444908063, 32.70490064132702, 9.641743476617124, 10.00553196147487, 36.385912019593306, 10.047454956651858, 23.6145765630091, 27.39359748745912, 23.8657545715508, 22.793502153744235, 13.16873220383623, 123.88410891204276, 11.982357706134714, 18.10704786226982, 31.130262382368922, 27.452504921996088, 13.137517458808187, 15.297588594568017, 13.151398039587308, 111.3483666863043, 27.65048375025501, 245.6932445234181, 46.96920681616907, 132.55726343155658, 221.12336807336408, 1788.23999317847, 175.67716290311847, 92.29439587604503, 168.00430128291828, 129.25583369671838, 2305.9927472275967, 135.61432884585477, 230.6618047739934, 520.9252751857472, 72.44176907734033, 93.75768294623819, 252.3777960770298, 65.01835349903494, 348.1563692098944, 248.02299855456178, 586.6248391923968, 207.99865919370765, 514.9246305119493, 156.15056659120765, 321.2193785848231, 387.68180707212343, 2517.751873153607, 288.6122848748394, 52.45446585679624, 52.155618192002486, 10.451966036737087, 11.10281776791051, 12.963370567240123, 36.027101157319635, 15.868046954975691, 24.429028939080197, 19.500815956048996, 17.289746285936854, 38.248906578755424, 54.39177659465096, 29.980788413195256, 24.414186295376687, 9.897759396224162, 23.680496584592547, 22.448729362940536, 13.505402597078517, 9.150938460627321, 16.0059654816731, 23.938677686524528, 27.452504921996088, 44.02517516055452, 14.200381417708837, 20.84421995425318, 39.49654767681161, 45.308352304613656, 21.121049858492302, 15.00428571090434, 15.340371632775335, 167.2336419401692, 62.39875495928637, 39.49798255068392, 93.90096593336074, 586.6248391923968, 389.9705216724329, 115.79418149232279, 39.07831581297973, 207.99865919370765, 221.12336807336408, 419.39847498348433, 319.1546300221481, 356.2478603290284, 235.6411849317457, 71.4139293750108, 74.36279804151437, 133.54730910008487, 2517.751873153607, 291.52469958106, 1788.23999317847, 520.9252751857472, 2305.9927472275967, 326.4192174474151, 348.1563692098944, 339.1150895022162, 514.9246305119493, 288.6122848748394, 199.12945557921978, 19.888862683130238, 15.005747121742605, 15.840337271889702, 11.665956986172187, 36.66555937859252, 36.671498069897865, 36.700145234267765, 26.762787715629415, 39.52939934467456, 41.35521619804365, 40.10438141649952, 44.257913589130254, 44.25783868603513, 44.25785370615158, 27.221837753942026, 48.9256318621501, 25.73865464264035, 23.749929087770298, 15.69819749834759, 10.20480190741013, 12.872878548238067, 12.873131602818045, 12.87608142505347, 32.502809477217994, 66.66422762316198, 13.49046086440461, 18.394251131569316, 18.095838396178074, 28.728647192496098, 10.614674260188435, 77.90047726409864, 85.6106156701392, 41.42003252579451, 29.56495055380008, 129.88467188066093, 108.89553857639747, 74.70305694212168, 520.9252751857472, 137.7377884609831, 2305.9927472275967, 356.2478603290284, 174.09993667806444, 586.6248391923968, 92.81747424074199, 230.6618047739934, 92.86655886092602, 121.92024550640107, 419.39847498348433, 2517.751873153607, 348.1563692098944, 1788.23999317847, 514.9246305119493], \"Freq\": [2517.0, 2305.0, 235.0, 1788.0, 520.0, 586.0, 108.0, 245.0, 319.0, 356.0, 69.0, 207.0, 123.0, 175.0, 167.0, 52.0, 321.0, 279.0, 419.0, 50.0, 185.0, 288.0, 129.0, 54.0, 52.0, 221.0, 230.0, 132.0, 69.0, 207.0, 35.667583983126114, 32.509704897242614, 9.786255559165754, 10.813561634104294, 13.293390502348526, 8.844202505641274, 11.648264646125186, 37.511046421555164, 10.722318738934002, 7.614585894823802, 16.16559698970423, 13.082651509349498, 13.4869068854861, 6.08333609304371, 15.622292744833443, 70.72811323496406, 7.733584903880928, 9.921842264329838, 71.25481048823028, 9.029062561020378, 5.771925138378537, 132.83255771940298, 25.831378812495977, 8.779785865139942, 11.525013276929412, 17.67457840899941, 8.180490680388262, 12.59716576363267, 6.219075324522189, 16.365582877538483, 86.40206278338323, 20.85205436978288, 56.59942064133569, 607.0376189382952, 37.789250743676966, 115.20942478234888, 136.30076353675295, 550.933045115514, 69.02730149148861, 99.24946082944435, 132.13889009353628, 47.25984850103821, 87.0072357442384, 37.088651440004305, 80.8307285845138, 54.49069105251175, 59.93445812255462, 83.77669165204443, 82.69139525613994, 38.46443512050542, 78.47465644373594, 44.53425104214461, 59.76306999983603, 32.88702192105751, 41.65658301013374, 69.98576214980908, 43.67513463148848, 47.3362586715503, 51.41087971226785, 42.95304198115134, 40.71604327492135, 41.40181996110121, 14.918253624329619, 32.77463955408478, 27.676010032189275, 8.666944267341986, 15.585013390434302, 11.001082960504114, 55.51850766855738, 31.453964285814493, 10.0280779969098, 21.634438580309563, 10.565046669932205, 9.173432759209433, 50.95938158001494, 7.64984223487871, 8.320174086687208, 7.1682994433676965, 28.55635765649022, 144.01563033952513, 8.051666190347893, 8.800886047789128, 23.128756711144256, 9.28123005981079, 4.523033817743408, 7.515783348227116, 8.79936713181187, 4.284499566254589, 41.6559851866291, 16.87455088117079, 18.931348821259064, 18.930198547298183, 96.1120028138608, 28.603499486674913, 28.067918071766776, 54.192499563899794, 620.3496764637803, 45.075272932274004, 76.6504151151866, 18.93127259828575, 135.52300524040166, 55.70408150525338, 92.69821143752776, 82.84281935839924, 244.24945002770215, 109.75509460022045, 76.93752349582225, 23.13254014236498, 33.08716205989466, 26.648596417309218, 46.315218370701906, 66.77591462958506, 37.71631904457106, 88.77328820438036, 40.23088721666679, 33.96616538812084, 40.149395157091284, 34.35944544121795, 32.80587157093103, 33.591062435350125, 30.754423097696975, 12.096039175128798, 1844.1591343843934, 6.996420023203469, 5.828490297681427, 8.328960069268756, 9.892865916114228, 15.723787170303169, 18.47517135186402, 10.33705106488288, 26.571844457809274, 12.152641333734989, 22.17248622676513, 4.94626526654768, 3.6172855279718097, 9.260903921811916, 4.974439721649775, 6.836879233734549, 4.389442187195451, 6.311570180191005, 6.600605319217352, 3.712581932000677, 4.777981418227185, 13.137149059555105, 3.906245376932696, 5.682235923249112, 28.07781688080019, 54.49172787796226, 8.36987508643287, 2.6308807206538076, 5.677285031065815, 7.093439828238308, 27.348826525773777, 9.70329123507806, 14.35637926824051, 52.96105346894897, 183.827238212439, 78.06571357658218, 28.17793897875956, 31.460236760706476, 48.22726133016449, 44.04125689249773, 25.96758692607921, 22.108599183946374, 39.01048423126371, 35.15004772575004, 30.550239962244994, 44.36214315148948, 96.7344100564019, 29.897251506025043, 25.379142589612943, 30.235951850808124, 28.992931122195838, 31.514139884541773, 23.255677553990903, 20.113752395301855, 18.68558198813704, 20.06390809045001, 19.927571212759823, 19.07317620906967, 14.981761626579631, 9.995925336915125, 27.159144107776402, 22.60707238425536, 18.738437270684894, 7.17113497258917, 9.691352130345289, 5.109331652473762, 6.6897783618878695, 38.28873654886771, 7.8034073040089105, 18.791397815875722, 8.010345162540322, 5.964664937091285, 11.819074647671023, 4.76520764933229, 5.704361448622516, 7.837162862564239, 4.2014907236515056, 4.84937595948336, 21.098370784636664, 5.704771946528241, 6.689915495254177, 5.238646161419109, 56.19005762001724, 7.674910633198814, 6.819107757021007, 5.963326533479984, 8.010251334447586, 19.734270906630453, 39.67593798593761, 76.78127493270574, 8.009867902337843, 49.68044137579257, 24.908843307028594, 13.607635675548552, 45.696940828461656, 18.83480593947137, 46.129196025382534, 14.564526142042265, 66.78341529357111, 59.918926767523985, 53.74550740589431, 52.42437538120243, 24.64400810211927, 37.9628318862914, 28.38487641917795, 32.58752149902808, 121.5672857228304, 128.96905195175347, 25.65678492634945, 46.81197944745675, 25.24465405093425, 35.68889001494667, 26.530470625029043, 36.1178070970298, 28.45722148745096, 29.149183823135807, 24.086658404943208, 26.37086543051064, 25.990612649602834, 25.84755006958852, 25.30096353728123, 31.894872355906685, 54.278094638573464, 14.728506479704938, 8.729985576071119, 13.659379715870973, 10.265877706109348, 8.182532642744253, 8.292685639287376, 28.783709964843727, 14.728556846475927, 9.123077382209145, 36.38678940683173, 5.130270282584919, 5.1311026368951245, 117.40256725061543, 5.131126951888015, 9.01263521092914, 25.962978006363816, 16.011608654547537, 31.597704933507707, 13.197727445314584, 5.021788073410428, 26.355027741377953, 6.877281680359727, 5.021357350679221, 36.888925272158545, 5.88782255653586, 9.405574179968996, 8.074907537069157, 8.621401764962048, 50.349785228573346, 13.728794678610925, 82.30140183074612, 71.65856965824474, 85.37272584274285, 18.87323669428441, 13.254983174823975, 14.488945617427058, 14.118377310239257, 26.416615881584907, 48.43579582747723, 69.2033597775352, 23.21199186820569, 123.67765556731419, 61.180294410486844, 61.57402361679565, 29.77230199865326, 108.03245127742193, 32.02468662937976, 41.56979760640769, 63.49069808782098, 30.92890368619675, 26.670622454817675, 21.569673882677442, 26.359939369941877, 21.487612518456512, 42.64190872007224, 10.537141189690182, 17.901613534990428, 8.444065604046356, 26.488012836067252, 10.487285484456901, 13.129460297279783, 7.082329086412754, 11.968567116907137, 9.245244459265544, 11.968663970293125, 16.470698212027674, 15.667673195336965, 11.28929523977694, 6.83800325159391, 7.153235110458702, 7.08081341588114, 10.487448605949092, 11.644543264490547, 14.408645445588943, 15.410712666397663, 9.003234185003828, 3.312174677426863, 4.114974127679153, 13.447215866522468, 4.589790630964784, 3.4467530944516103, 13.573923883946744, 5.445748996667235, 4.796177125391389, 14.840774668591123, 13.575810825791315, 23.60943335109453, 15.531233961394129, 29.506968560164143, 13.575922971817198, 55.84381704925384, 58.50668365344301, 23.497363788412244, 60.31602044810385, 217.5260849169229, 67.015399742228, 51.02910269553887, 26.861544061364004, 49.35601652559552, 43.5449730893961, 28.52103167607808, 52.674532975826885, 114.26477016345689, 18.43392144356701, 33.41321854349083, 21.012167074499555, 28.07868017289856, 28.46956854447383, 26.577174024189876, 21.75226797557734, 31.750911985489815, 27.322039432185427, 20.539673778090997, 21.95533384316941, 23.603943293372957, 22.768064588645522, 19.704330315759815, 8.47278859515798, 4.537134318651869, 56.687317897991086, 13.14012448196346, 3.895336906239517, 12.192886545416654, 8.637448616636052, 31.174759362358248, 6.670206913354892, 10.694206233534677, 6.871379392984349, 3.8912944985186892, 8.226481570408083, 15.780035119972782, 12.130153658960214, 18.684292483908514, 6.550722542005924, 4.734963175707803, 8.63925889782574, 21.852674855845134, 8.26602043672269, 5.198383119407005, 16.75881596064359, 4.746595893159984, 3.33637023830812, 8.689255044425554, 5.2395881917799185, 5.15132618852779, 2.799332677297367, 3.3448482501457932, 6.503959159016872, 12.048363826163332, 14.028802313236481, 28.581207700485052, 46.24483541590371, 333.4616075835312, 30.3177357093741, 55.09550609253756, 12.968034833969725, 75.83756845608333, 26.725951818487314, 174.5813920987938, 25.89976439563982, 24.96741311546345, 61.49630828788971, 42.46035788762935, 21.632048081458137, 36.34342106928785, 24.787172219690824, 20.643908585279167, 71.20703525370254, 33.74013374839267, 30.409003775886173, 24.42341365311139, 26.569385746897268, 28.96567488738947, 29.04709768152312, 26.626500948836163, 23.381556969043157, 21.504366790098427, 21.18457978753569, 21.52753672851801, 25.380708898201227, 16.32731570666852, 24.988876210014375, 23.65643660138478, 8.625520161422982, 8.625481188151321, 10.850087761458274, 26.913043181360838, 11.788094935426702, 6.35509859682427, 7.684592284625387, 8.732982462482347, 15.1709573394024, 4.4124567663469945, 4.411733850366777, 14.862801029653072, 4.084598703591337, 9.519153590969303, 10.957899293598993, 9.519336994600648, 8.908249086049931, 4.914036277076153, 45.287653887279234, 4.372356326535225, 6.144873330667852, 10.481094174646445, 9.017638653602013, 4.194157537411515, 4.804924871698278, 4.0847205905880015, 31.79836265276826, 8.297046550229624, 59.834438233216254, 13.337975596833441, 32.492331426505544, 48.52448344234193, 250.4136938603248, 38.40855353952119, 20.716224210932626, 30.93700749815685, 25.511892930611463, 172.6831877895497, 25.279951528231113, 33.86386351915631, 53.24244710014712, 16.550597400922204, 18.688461698420983, 28.45356643666, 15.431697696994688, 29.377236031748037, 25.284761288463134, 30.380392760660964, 21.438261382083656, 27.329999110314755, 19.119062857546965, 22.537920516719495, 20.048465344478124, 24.48980589021655, 18.454674032818428, 45.488575176447874, 38.21981004936146, 6.535957055030885, 6.536742222876752, 7.279946389492967, 20.051771415095452, 8.507686193894427, 12.983503029913592, 10.157866223744488, 8.669632965622183, 17.78857823104189, 25.256582650775925, 13.845345762864463, 10.948011472920347, 4.402759329368274, 10.157545219972917, 9.252677650475576, 5.470227116201937, 3.688100884351385, 6.3266795685793715, 9.367350528836841, 10.643226140179955, 16.95652759985169, 5.469201380012318, 8.021640731473237, 14.264157538784747, 16.23678991584692, 7.441987617502932, 5.146280810057536, 5.252379935959017, 54.850426578604825, 19.355452985561026, 12.632143370646823, 24.39875726157778, 95.58092003020307, 63.32420001542719, 26.069449801401124, 11.862906167125999, 36.60902050301192, 37.69029698657095, 56.75494859679683, 46.13958853574812, 46.306241886912844, 34.62825750628267, 17.614663553182297, 17.30424331285634, 22.52381481851147, 72.41760666354448, 25.543272226076134, 47.80187151469599, 29.55062722695919, 44.75931659437226, 24.364879925611547, 22.7182501236811, 20.67320372339059, 21.326092925420337, 19.300491236350318, 17.464454450398495, 16.37325216415827, 11.814280287248184, 9.996430988640173, 6.613686984736709, 19.832332103763576, 19.832490103177726, 19.832662915036952, 13.706836769784829, 19.831380404167408, 20.676878472246365, 19.83256663414395, 20.549925942977218, 20.549840771418026, 20.549459350957306, 12.607995281710055, 20.420349142188677, 9.515425225299957, 8.561890120314564, 5.631357720892986, 3.4885064047128376, 4.334293006878181, 4.334311831027133, 4.334268628062326, 10.893231343056442, 21.979296033600697, 4.387001241127339, 5.896625159175398, 5.767281654396814, 9.118454783175313, 3.3602667356850593, 24.23831487607126, 25.544794750487828, 12.710192512145074, 9.131900163008313, 33.065031147242, 26.59469098254809, 19.037445691770234, 93.50177217715188, 27.828967593439167, 191.42413096308647, 44.41051482900429, 27.24782846701126, 48.71310056282576, 18.578321612919307, 26.567715051322903, 17.14317713745683, 18.14845458183535, 25.362962112210177, 34.28393984636619, 20.01565092403057, 24.193373917709103, 18.421194898658865], \"Term\": [\"exhibit\", \"motion\", \"inc..\", \"order\", \"notice\", \"'s\", \"djc\", \"magistrate_judge\", \"judge\", \"date\", \"service_accept\", \"pennsylvania\", \"mro\", \"ex\", \"amend_complaint\", \"reiter\", \"letter\", \"case\", \"party\", \"cal\", \"l.p.\", \"stipulation\", \"sign_magistrate_judge\", \"kw\", \"affidavit_service_summons_complaint\", \"counsel\", \"summary_judgment\", \"modify\", \"serve_answer_due\", \"conference\", \"document_place_vault\", \"transmit\", \"support_[_]\", \"dismiss_lack_jurisdiction\", \"han_kook\", \"calculation\", \"rule_deposition_objection\", \"[_]\", \"abovecaptioned_action\", \"defts\", \"l.p._balentine_global_hedge\", \"certificate\", \"adar_bay\", \"kco\", \"certify\", \"seal\", \"respective\", \"master_discovery_protocol\", \"attorney\", \"limit\", \"fee_cost\", \"grant\", \"sign_judge_gr\", \"prejudice\", \"vacate\", \"complete\", \"portion\", \"mdl\", \"appeal_bond\", \"new\", \"ex\", \"witness\", \"mro\", \"order\", \"submit\", \"plaintiff\", \"party\", \"motion\", \"action\", \"sign_judge\", \"defendant\", \"declaration_opposition\", \"letter\", \"direct\", \"request\", \"may\", \"conference\", \"dismiss\", \"court\", \"april\", \"shall\", \"judgment\", \"attachment\", \"affidavit_service\", \"hereby\", \"notice\", \"summary_judgment\", \"date\", \"'s\", \"complaint\", \"schedule\", \"exhibit\", \"nm\", \"tp\", \"answer_due_answer_due\", \"dismiss_subrogation_claim_assert\", \"master\", \"execute\", \"answer_complaint\", \"crossclaim\", \"kgo\", \"partial_summary_judgment\", \"setreset_deadline\", \"set_answer_due\", \"dismissal\", \"receive_night_deposit_box\", \"date_purs\", \"sign_judge_sr\", \"jmi\", \"stipulation\", \"genesys_id_inc.._basile\", \"dismissal_without_prejudice\", \"answer_amend_complaint\", \"affidavit_support\", \"hereby_stipulate_agree_undersigned\", \"usca\", \"lb\", \"class_plaintiff_'\", \"reply_memorandum_law_support\", \"judge_d._kan._gr\", \"party_calendar_day\", \"request_redaction_transcript\", \"memorandum_law_support\", \"serve_answer_due\", \"matter\", \"memorandum_law_opposition\", \"motion\", \"clerk\", \"summary_judgment\", \"court_notice_intent\", \"defendant\", \"l.p.\", \"court\", \"dismiss\", \"order\", \"'s\", \"shall\", \"rule\", \"reply\", \"trial\", \"schedule\", \"notice\", \"b\", \"exhibit\", \"attachment\", \"plaintiff_'s\", \"plaintiff\", \"pennsylvania\", \"declaration_support\", \"party\", \"case\", \"gf\", \"exhibit\", \"rule_certificate\", \"q\", \"copy_mail_chamber\", \"r._civ\", \"erratum\", \"supplemental_amend\", \"attorney_terminate\", \"respect\", \"jp\", \"opinion\", \"affect\", \"allege\", \"previously\", \"specific\", \"total\", \"security\", \"n\", \"result\", \"occur\", \"reason_set_forth\", \"redaction_request_due\", \"cote\", \"k\", \"cd\", \"claim\", \"h\", \"date_dec_dkt\", \"select\", \"adar_bay\", \"deny\", \"appeal\", \"produce\", \"attachment\", \"order\", \"'s\", \"hereby\", \"b\", \"court\", \"dismiss\", \"judgment\", \"seal\", \"sign_judge\", \"plaintiff\", \"complaint\", \"defendant\", \"motion\", \"case\", \"action\", \"judge\", \"request\", \"shall\", \"may\", \"sign_magistrate_judge\", \"minute_entry_proceeding_hold\", \"grant\", \"cf\", \"transcript_proceeding_conference_hold\", \"response_due_reply\", \"determine\", \"j\", \"refer\", \"telephone_conference_hold\", \"tape\", \"settle\", \"comply\", \"civil\", \"service\", \"pc\", \"associate_case_rjm\", \"judge_jury_trial\", \"person\", \"civ\", \"attempt\", \"judge_longer_assigned\", \"adjournment\", \"assignment\", \"transcript_proceeding\", \"associate_case\", \"responsive\", \"please\", \"ecf\", \"due\", \"within_day\", \"associate_case_et_al\", \"corporate_parent\", \"party_shall_comply\", \"form\", \"minute_entry_proceeding_hold\", \"magistrate_judge\", \"discovery_ruling_conference\", \"discovery\", \"sign_judge_iii\", \"expert\", \"declaration_support\", \"extend\", \"l.p.\", \"mail\", \"sign_judge\", \"judge\", \"case\", \"request\", \"time\", \"pennsylvania\", \"regard\", \"may\", \"order\", \"motion\", \"hold\", \"'s\", \"llc\", \"court\", \"hereby\", \"notice\", \"complaint\", \"party\", \"attorney\", \"memorandum_law_support\", \"inc..\", \"schedule\", \"conference\", \"sign_judge_copy_mail\", \"service_accept\", \"york_ny_magistrate_judge\", \"modify_gf\", \"rule_disclosure_statement\", \"request_issuance_summons\", \"expert_discovery_due\", \"summons_return_execute\", \"related\", \"courtroom_pearl_street_new\", \"jury_demand\", \"pl\", \"goodwin\", \"edt\", \"inc..\", \"administration\", \"mbe\", \"kw\", \"address_judge\", \"rule_statement\", \"revise_schedule_order\", \"jr.\", \"associated_case\", \"claim_administrator\", \"member\", \"notice_appearance_behalf\", \"judgment_favor\", \"magistrate_judge_discovery_hear\", \"status_conference_set_pm\", \"agent\", \"llc\", \"kehrli\", \"letter\", \"case\", \"date\", \"rjm\", \"show_cause\", \"sign_judge_s.d.n.y\", \"official_transcript_notice\", \"response\", \"attachment\", \"defendant\", \"july\", \"order\", \"notice\", \"'s\", \"amend_complaint\", \"motion\", \"pennsylvania\", \"court\", \"exhibit\", \"shall\", \"complaint\", \"regard\", \"dismiss\", \"judgment\", \"cal\", \"anc\", \"wellington\", \"copy_mail\", \"nd\", \"b_rule_..\", \"return_date\", \"york_ny_judge\", \"ja\", \"magistrate_judge_designate\", \"worcester\", \"db\", \"yv\", \"ama\", \"ml\", \"office_p.c\", \"pretrial_conference\", \"dismiss_pursuant_rule\", \"notice_adoption_master\", \"counterclaim\", \"proceeding\", \"marshal\", \"new_york_observer_l.p.\", \"sign_judge_jr\", \"status_report\", \"process\", \"coordinate_action\", \"redact_transcript_deadline_set\", \"certification\", \"person\", \"extension\", \"pacer\", \"settlement\", \"fee_receipt_number\", \"july\", \"date_may_obtain\", \"pennsylvania\", \"complaint\", \"judge_date\", \"judge\", \"motion\", \"party\", \"letter\", \"reply\", \"request\", \"schedule\", \"sign_magistrate_judge\", \"shall\", \"order\", \"must\", \"conference\", \"submit\", \"discovery\", \"l.p.\", \"ex\", \"march\", \"defendant\", \"date\", \"serve\", \"declaration_support\", \"plaintiff\", \"notice\", \"modify\", \"case_designate\", \"united_state_magistrate_judge\", \"djc\", \"lmb\", \"transfer_new_york_eastern\", \"g\", \"pm\", \"serve_answer_due\", \"jpo\", \"h\", \"k\", \"oral_argument_set_pm\", \"accompany\", \"part\", \"tro\", \"see\", \"notify\", \"forward\", \"endorsement_application_grant\", \"e\", \"]\", \"light\", \"f\", \"summons_complaint\", \"reasonable\", \"redaction_calendar_day_mcguirk\", \"n\", \"account\", \"case_assign\", \"corp..\", \"pro_se\", \"transcript_proceeding_hold\", \"dismiss_second_amend\", \"c\", \"b\", \"exhibit\", \"propose\", \"judge\", \"j\", \"notice\", \"modify\", \"motion\", \"defendant_'\", \"serve\", \"'s\", \"sign_judge\", \"declaration\", \"attachment\", \"plaintiff_'s\", \"opposition\", \"order\", \"court\", \"request\", \"counsel\", \"case\", \"date\", \"party\", \"plaintiff\", \"schedule\", \"declaration_support\", \"memorandum_law_support\", \"letter\", \"sc\", \"s.d.n.y\", \"release_transcript_restriction_set\", \"redact_transcript_deadline_set\", \"judge_individual_practice\", \"attorney_responsible_provide_courtesy\", \"usa\", \"answer_due\", \"transmission\", \"office\", \"corporate_parent\", \"h.o\", \"associated_case_et_al\", \"rj\", \"scileppi\", \"court_reportertranscriber\", \"civil_action\", \"new_address\", \"ae\", \"decision\", \"pretrial_conference_hold\", \"telephone_conference_set\", \"mro\", \"website\", \"new_york_ny\", \"certain_underwriter_syndicate\", \"note_attorney_refile_document\", \"reach\", \"iv\", \"award\", \"follow\", \"error\", \"magistrate_judge\", \"sac\", \"modify\", \"counsel\", \"order\", \"ex\", \"endorsement\", \"claim\", \"opposition\", \"motion\", \"defendant_'\", \"summary_judgment\", \"notice\", \"notice_appeal\", \"copy\", \"schedule\", \"motion_dismiss_thirdparty\", \"dismiss\", \"grant\", \"'s\", \"conference\", \"defendant\", \"judgment\", \"letter\", \"court\", \"exhibit\", \"stipulation\", \"reiter\", \"affidavit_service_summons_complaint\", \"service_accept_legal_clerk\", \"nonecf_case_error\", \"modify_ldi\", \"ltd..\", \"associated_case_ft\", \"status_conference_hold\", \"act\", \"jv\", \"response_due\", \"kw\", \"first_amend_complaint\", \"call\", \"oral_argument_set_pm\", \"need\", \"street_new_york_ny\", \"local_civil_rule\", \"line\", \"affirmative_defense\", \"name\", \"note_attorney_refile_document\", \"sign\", \"sign_judge_sr\", \"cyr\", \"transcript_proceeding_hold\", \"mail\", \"affidavit_service_summons\", \"via\", \"initial\", \"amend_complaint\", \"second_amend_complaint\", \"note\", \"letter_address_judge\", \"'s\", \"shall\", \"answer\", \"record\", \"conference\", \"counsel\", \"party\", \"judge\", \"date\", \"inc..\", \"october\", \"docket\", \"march\", \"exhibit\", \"attachment\", \"order\", \"notice\", \"motion\", \"plaintiff\", \"dismiss\", \"sign_judge\", \"defendant\", \"stipulation\", \"b\", \"kkc\", \"pa\", \"strike\", \"certify_copy_docket_sheet\", \"public_terminal_purchase_court\", \"reportertranscriber_deadline_release_transcript\", \"transcript_may_view_court\", \"mp\", \"pacer\", \"date_may_obtain\", \"restriction\", \"court_reportertranscriber_abovecaptioned_matter\", \"hereby_give_official_transcript\", \"official_transcript_notice\", \"conference_proceed_hold\", \"copy_send_chamber\", \"summary_judgment_favor\", \"llc_kehrli\", \"notice_conversion\", \"judge_iii\", \"magnum_growth_fund_l.p.\", \"magnum_special_situation_fund\", \"absolute_return_fund_l.p.\", \"appeal\", \"keely\", \"counsel_write\", \"support_paper_review\", \"note_attorney\", \"expert_report\", \"opportunity\", \"p.c\", \"cd\", \"expert\", \"disclose\", \"sign_magistrate_judge\", \"djc\", \"han\", \"notice\", \"declaration_opposition\", \"motion\", \"date\", \"plaintiff_'s\", \"'s\", \"deposition\", \"summary_judgment\", \"reply_memorandum_law_support\", \"endorsed_letter_address\", \"party\", \"exhibit\", \"dismiss\", \"order\", \"defendant\"], \"logprob\": [30.0, 29.0, 28.0, 27.0, 26.0, 25.0, 24.0, 23.0, 22.0, 21.0, 20.0, 19.0, 18.0, 17.0, 16.0, 15.0, 14.0, 13.0, 12.0, 11.0, 10.0, 9.0, 8.0, 7.0, 6.0, 5.0, 4.0, 3.0, 2.0, 1.0, -5.399499893188477, -5.492199897766113, -6.692699909210205, -6.592899799346924, -6.38640022277832, -6.793900012969971, -6.518499851226807, -5.349100112915039, -6.601399898529053, -6.943600177764893, -6.190800189971924, -6.402400016784668, -6.372000217437744, -7.168099880218506, -6.224999904632568, -4.714900016784668, -6.928100109100342, -6.678999900817871, -4.707399845123291, -6.773200035095215, -7.220699787139893, -4.08459997177124, -5.722099781036377, -6.801199913024902, -6.529200077056885, -6.101600170135498, -6.8719000816345215, -6.440199851989746, -7.146100044250488, -6.178500175476074, -4.514699935913086, -5.936200141906738, -4.937699794769287, -2.5650999546051025, -5.341700077056885, -4.226900100708008, -4.058800220489502, -2.662100076675415, -4.739200115203857, -4.376100063323975, -4.089799880981445, -5.118000030517578, -4.507699966430664, -5.360400199890137, -4.581299781799316, -4.9756999015808105, -4.88040018081665, -4.545499801635742, -4.558599948883057, -5.323999881744385, -4.610899925231934, -5.1774001121521, -4.883299827575684, -5.480599880218506, -5.244200229644775, -4.725399971008301, -5.196899890899658, -5.116399765014648, -5.03380012512207, -5.213600158691406, -5.267099857330322, -5.250400066375732, -5.988900184631348, -5.201900005340576, -5.370999813079834, -6.5320000648498535, -5.945199966430664, -6.293499946594238, -4.674799919128418, -5.243000030517578, -6.386099815368652, -5.617199897766113, -6.334000110626221, -6.475200176239014, -4.760499954223633, -6.656799793243408, -6.572800159454346, -6.72189998626709, -5.339600086212158, -3.72160005569458, -6.605599880218506, -6.51669979095459, -5.55049991607666, -6.463500022888184, -7.182300090789795, -6.674499988555908, -6.5167999267578125, -7.236499786376953, -4.962100028991699, -5.865699768066406, -5.750699996948242, -5.750800132751465, -4.125999927520752, -5.3379998207092285, -5.356900215148926, -4.698999881744385, -2.261199951171875, -4.883200168609619, -4.35230016708374, -5.750699996948242, -3.782399892807007, -4.671500205993652, -4.162199974060059, -4.274600028991699, -3.1933000087738037, -3.993299961090088, -4.348499774932861, -5.550300121307373, -5.192399978637695, -5.40880012512207, -4.856100082397461, -4.490200042724609, -5.061399936676025, -4.205399990081787, -4.9969000816345215, -5.166200160980225, -4.998899936676025, -5.154699802398682, -5.200900077819824, -5.177299976348877, -5.265500068664551, -6.004000186920166, -0.9771000146865845, -6.551499843597412, -6.734099864959717, -6.377200126647949, -6.205100059509277, -5.741700172424316, -5.58050012588501, -6.161200046539307, -5.2170000076293945, -5.999300003051758, -5.3979997634887695, -6.8983001708984375, -7.21120023727417, -6.271100044250488, -6.892600059509277, -6.5746002197265625, -7.0177001953125, -6.6545000076293945, -6.6097002029418945, -7.185200214385986, -6.9328999519348145, -5.92140007019043, -7.134300231933594, -6.759500026702881, -5.161900043487549, -4.498799800872803, -6.372300148010254, -7.529600143432617, -6.76039981842041, -6.537700176239014, -5.188199996948242, -6.224400043487549, -5.832699775695801, -4.527299880981445, -3.282900094985962, -4.1392998695373535, -5.158400058746338, -5.0482001304626465, -4.620999813079834, -4.7118000984191895, -5.239999771118164, -5.400899887084961, -4.833099842071533, -4.937300205230713, -5.077499866485596, -4.704500198364258, -3.9249000549316406, -5.099100112915039, -5.263000011444092, -5.087900161743164, -5.129799842834473, -5.046500205993652, -5.350299835205078, -5.495500087738037, -5.5690999031066895, -5.498000144958496, -5.270199775695801, -5.314000129699707, -5.5553998947143555, -5.960100173950195, -4.960599899291992, -5.144000053405762, -5.331699848175049, -6.292200088500977, -5.991000175476074, -6.631199836730957, -6.361700057983398, -4.617099761962891, -6.207699775695801, -5.32889986038208, -6.18149995803833, -6.476399898529053, -5.792600154876709, -6.700900077819824, -6.520999908447266, -6.203400135040283, -6.8267998695373535, -6.6834001541137695, -5.213099956512451, -6.520999908447266, -6.361700057983398, -6.606200218200684, -4.233500003814697, -6.224299907684326, -6.34250020980835, -6.476600170135498, -6.181600093841553, -5.279900074005127, -4.581500053405762, -3.921299934387207, -6.181600093841553, -4.3566999435424805, -5.046999931335449, -5.651599884033203, -4.440199851989746, -5.326600074768066, -4.430799961090088, -5.583700180053711, -4.060800075531006, -4.169300079345703, -4.2779998779296875, -4.3028998374938965, -5.057700157165527, -4.625699996948242, -4.916399955749512, -4.778299808502197, -3.4618000984191895, -3.4026999473571777, -5.017499923706055, -4.416100025177002, -5.033699989318848, -4.687399864196777, -4.984000205993652, -4.67549991607666, -4.913899898529053, -4.889800071716309, -5.080599784851074, -4.989999771118164, -5.004499912261963, -5.0100998878479, -5.031400203704834, -4.761600017547607, -4.230000019073486, -5.534299850463867, -6.057300090789795, -5.6097002029418945, -5.895299911499023, -6.122099876403809, -6.108699798583984, -4.864299774169922, -5.534299850463867, -6.013299942016602, -4.629899978637695, -6.588900089263916, -6.588799953460693, -3.4584999084472656, -6.588799953460693, -6.0254998207092285, -4.967400074005127, -5.450799942016602, -4.770999908447266, -5.644000053405762, -6.610300064086914, -4.952400207519531, -6.295899868011475, -6.610400199890137, -4.616199970245361, -6.451200008392334, -5.982800006866455, -6.135300159454346, -6.069799900054932, -4.305099964141846, -5.604599952697754, -3.813699960708618, -3.952199935913086, -3.777100086212158, -5.286300182342529, -5.639699935913086, -5.5507001876831055, -5.576600074768066, -4.950099945068359, -4.343800067901611, -3.986999988555908, -5.079400062561035, -3.406399965286255, -4.110300064086914, -4.103799819946289, -4.83050012588501, -3.5416998863220215, -4.757599830627441, -4.496699810028076, -4.073200225830078, -4.792399883270264, -4.940499782562256, -5.1528000831604, -4.952199935913086, -5.156599998474121, -4.449399948120117, -5.847300052642822, -5.317299842834473, -6.068699836730957, -4.92549991607666, -5.8520002365112305, -5.627299785614014, -6.24459981918335, -5.719900131225586, -5.978099822998047, -5.719900131225586, -5.400599956512451, -5.4506001472473145, -5.778299808502197, -6.279699802398682, -6.234600067138672, -6.244800090789795, -5.8520002365112305, -5.747399806976318, -5.53439998626709, -5.467100143432617, -6.0046000480651855, -7.0046000480651855, -6.787600040435791, -5.603400230407715, -6.678400039672852, -6.964799880981445, -5.593999862670898, -6.507400035858154, -6.634399890899658, -5.504799842834473, -5.593900203704834, -5.040599822998047, -5.4593000411987305, -4.817599773406982, -5.593900203704834, -4.179599761962891, -4.1331000328063965, -5.045300006866455, -4.10260009765625, -2.8199000358581543, -3.997299909591675, -4.269800186157227, -4.911499977111816, -4.303100109100342, -4.428400039672852, -4.851600170135498, -4.238100051879883, -3.46370005607605, -5.288000106811523, -4.69320011138916, -5.157100200653076, -4.867199897766113, -4.853400230407715, -4.922100067138672, -5.122499942779541, -4.74429988861084, -4.894499778747559, -5.179800033569336, -5.1132001876831055, -5.040800094604492, -5.0767998695373535, -5.221399784088135, -6.042500019073486, -6.667099952697754, -4.1417999267578125, -5.603700160980225, -6.8196001052856445, -5.678500175476074, -6.023200035095215, -4.739699840545654, -6.281700134277344, -5.809700012207031, -6.251999855041504, -6.8206000328063965, -6.072000026702881, -5.420599937438965, -5.683700084686279, -5.251699924468994, -6.299799919128418, -6.6244001388549805, -6.0229997634887695, -5.09499979019165, -6.067200183868408, -6.531000137329102, -5.360400199890137, -6.6219000816345215, -6.9745001792907715, -6.017300128936768, -6.523099899291992, -6.54010009765625, -7.150000095367432, -6.97189998626709, -6.3069000244140625, -5.690400123596191, -5.5381999015808105, -4.826600074768066, -4.345399856567383, -2.369800090789795, -4.767600059509277, -4.170300006866455, -5.6168999671936035, -3.850800037384033, -4.893700122833252, -3.0169999599456787, -4.925099849700928, -4.9618000984191895, -4.060400009155273, -4.430799961090088, -5.105199813842773, -4.586299896240234, -4.968999862670898, -5.151899814605713, -3.913800001144409, -4.660699844360352, -4.764599800109863, -4.983799934387207, -4.899600028991699, -4.813199996948242, -4.810400009155273, -4.89739990234375, -5.027400016784668, -5.111100196838379, -5.126100063323975, -5.110000133514404, -4.862299919128418, -5.303400039672852, -4.877799987792969, -4.932600021362305, -5.941500186920166, -5.941500186920166, -5.712100028991699, -4.803599834442139, -5.629199981689453, -6.247000217437744, -6.057000160217285, -5.929100036621094, -5.3769001960754395, -6.611800193786621, -6.611999988555908, -5.39739990234375, -6.689000129699707, -5.842899799346924, -5.702199935913086, -5.842899799346924, -5.909299850463867, -6.504199981689453, -4.283199787139893, -6.6209001541137695, -6.280600070953369, -5.746699810028076, -5.89709997177124, -6.662600040435791, -6.526599884033203, -6.689000129699707, -4.6367998123168945, -5.980400085449219, -4.004700183868408, -5.5055999755859375, -4.615200042724609, -4.214200019836426, -2.5731000900268555, -4.447999954223633, -5.065299987792969, -4.664299964904785, -4.857100009918213, -2.9447999000549316, -4.866199970245361, -4.57390022277832, -4.121399879455566, -5.28980016708374, -5.168300151824951, -4.748000144958496, -5.359799861907959, -4.716000080108643, -4.866000175476074, -4.682499885559082, -5.031099796295166, -4.788300037384033, -5.145599842071533, -4.981100082397461, -5.098100185394287, -4.8979997634887695, -5.1809000968933105, -4.243800163269043, -4.418000221252441, -6.184000015258789, -6.183899879455566, -6.076200008392334, -5.063000202178955, -5.920300006866455, -5.497600078582764, -5.743100166320801, -5.901500225067139, -5.182700157165527, -4.832200050354004, -5.4334001541137695, -5.668099880218506, -6.579100131988525, -5.743100166320801, -5.836400032043457, -6.361999988555908, -6.756199836730957, -6.2164998054504395, -5.824100017547607, -5.696400165557861, -5.2307000160217285, -6.362199783325195, -5.9791998863220215, -5.403600215911865, -5.27400016784668, -6.054200172424316, -6.422999858856201, -6.402599811553955, -4.056700229644775, -5.098299980163574, -5.525100231170654, -4.866799831390381, -3.501300096511841, -3.9130001068115234, -4.80049991607666, -5.587900161743164, -4.460999965667725, -4.4319000244140625, -4.022600173950195, -4.229599952697754, -4.22599983215332, -4.516600131988525, -5.192599773406982, -5.210400104522705, -4.946700096130371, -3.778899908065796, -4.820899963378906, -4.194200038909912, -4.67519998550415, -4.260000228881836, -4.868199825286865, -4.9380998611450195, -5.03249979019165, -5.001399993896484, -5.101200103759766, -5.201099872589111, -5.086999893188477, -5.413300037384033, -5.580399990081787, -5.993500232696533, -4.895299911499023, -4.895299911499023, -4.895299911499023, -5.264699935913086, -4.895299911499023, -4.853600025177002, -4.895299911499023, -4.859799861907959, -4.859799861907959, -4.859799861907959, -5.348299980163574, -4.866099834442139, -5.629700183868408, -5.735300064086914, -6.154300212860107, -6.6331000328063965, -6.416100025177002, -6.416100025177002, -6.416100025177002, -5.494500160217285, -4.792500019073486, -6.4039998054504395, -6.1082000732421875, -6.13040018081665, -5.672299861907959, -6.670599937438965, -4.694699764251709, -4.642199993133545, -5.340199947357178, -5.67080020904541, -4.384099960327148, -4.601900100708008, -4.936200141906738, -3.344599962234497, -4.55649995803833, -2.6280999183654785, -4.089099884033203, -4.577600002288818, -3.9967000484466553, -4.960599899291992, -4.60290002822876, -5.040999889373779, -4.984000205993652, -4.6493000984191895, -4.347899913787842, -4.886099815368652, -4.696499824523926, -4.969099998474121], \"Category\": [\"Default\", \"Default\", \"Default\", \"Default\", \"Default\", \"Default\", \"Default\", \"Default\", \"Default\", \"Default\", \"Default\", \"Default\", \"Default\", \"Default\", \"Default\", \"Default\", \"Default\", \"Default\", \"Default\", \"Default\", \"Default\", \"Default\", \"Default\", \"Default\", \"Default\", \"Default\", \"Default\", \"Default\", \"Default\", \"Default\", \"Topic1\", \"Topic1\", \"Topic1\", \"Topic1\", \"Topic1\", \"Topic1\", \"Topic1\", \"Topic1\", \"Topic1\", \"Topic1\", \"Topic1\", \"Topic1\", \"Topic1\", \"Topic1\", \"Topic1\", \"Topic1\", \"Topic1\", \"Topic1\", \"Topic1\", \"Topic1\", \"Topic1\", \"Topic1\", \"Topic1\", \"Topic1\", \"Topic1\", \"Topic1\", \"Topic1\", \"Topic1\", \"Topic1\", \"Topic1\", \"Topic1\", \"Topic1\", \"Topic1\", \"Topic1\", \"Topic1\", \"Topic1\", \"Topic1\", \"Topic1\", \"Topic1\", \"Topic1\", \"Topic1\", \"Topic1\", \"Topic1\", \"Topic1\", \"Topic1\", \"Topic1\", \"Topic1\", \"Topic1\", \"Topic1\", \"Topic1\", \"Topic1\", \"Topic1\", \"Topic1\", \"Topic1\", \"Topic1\", \"Topic1\", \"Topic1\", \"Topic1\", \"Topic1\", \"Topic1\", \"Topic1\", \"Topic1\", \"Topic2\", \"Topic2\", \"Topic2\", \"Topic2\", \"Topic2\", \"Topic2\", \"Topic2\", \"Topic2\", \"Topic2\", \"Topic2\", \"Topic2\", \"Topic2\", \"Topic2\", \"Topic2\", \"Topic2\", \"Topic2\", \"Topic2\", \"Topic2\", \"Topic2\", \"Topic2\", \"Topic2\", \"Topic2\", \"Topic2\", \"Topic2\", \"Topic2\", \"Topic2\", \"Topic2\", \"Topic2\", \"Topic2\", \"Topic2\", \"Topic2\", \"Topic2\", \"Topic2\", \"Topic2\", \"Topic2\", \"Topic2\", \"Topic2\", \"Topic2\", \"Topic2\", \"Topic2\", \"Topic2\", \"Topic2\", \"Topic2\", \"Topic2\", \"Topic2\", \"Topic2\", \"Topic2\", \"Topic2\", \"Topic2\", \"Topic2\", \"Topic2\", \"Topic2\", \"Topic2\", \"Topic2\", \"Topic2\", \"Topic2\", \"Topic2\", \"Topic2\", \"Topic2\", \"Topic3\", \"Topic3\", \"Topic3\", \"Topic3\", \"Topic3\", \"Topic3\", \"Topic3\", \"Topic3\", \"Topic3\", \"Topic3\", \"Topic3\", \"Topic3\", \"Topic3\", \"Topic3\", \"Topic3\", \"Topic3\", \"Topic3\", \"Topic3\", \"Topic3\", \"Topic3\", \"Topic3\", \"Topic3\", \"Topic3\", \"Topic3\", \"Topic3\", \"Topic3\", \"Topic3\", \"Topic3\", \"Topic3\", \"Topic3\", \"Topic3\", \"Topic3\", \"Topic3\", \"Topic3\", \"Topic3\", \"Topic3\", \"Topic3\", \"Topic3\", \"Topic3\", \"Topic3\", \"Topic3\", \"Topic3\", \"Topic3\", \"Topic3\", \"Topic3\", \"Topic3\", \"Topic3\", \"Topic3\", \"Topic3\", \"Topic3\", \"Topic3\", \"Topic3\", \"Topic3\", \"Topic3\", \"Topic3\", \"Topic3\", \"Topic3\", \"Topic4\", \"Topic4\", \"Topic4\", \"Topic4\", \"Topic4\", \"Topic4\", \"Topic4\", \"Topic4\", \"Topic4\", \"Topic4\", \"Topic4\", \"Topic4\", \"Topic4\", \"Topic4\", \"Topic4\", \"Topic4\", \"Topic4\", \"Topic4\", \"Topic4\", \"Topic4\", \"Topic4\", \"Topic4\", \"Topic4\", \"Topic4\", \"Topic4\", \"Topic4\", \"Topic4\", \"Topic4\", \"Topic4\", \"Topic4\", \"Topic4\", \"Topic4\", \"Topic4\", \"Topic4\", \"Topic4\", \"Topic4\", \"Topic4\", \"Topic4\", \"Topic4\", \"Topic4\", \"Topic4\", \"Topic4\", \"Topic4\", \"Topic4\", \"Topic4\", \"Topic4\", \"Topic4\", \"Topic4\", \"Topic4\", \"Topic4\", \"Topic4\", \"Topic4\", \"Topic4\", \"Topic4\", \"Topic4\", \"Topic4\", \"Topic4\", \"Topic4\", \"Topic4\", \"Topic4\", \"Topic4\", \"Topic4\", \"Topic4\", \"Topic4\", \"Topic4\", \"Topic5\", \"Topic5\", \"Topic5\", \"Topic5\", \"Topic5\", \"Topic5\", \"Topic5\", \"Topic5\", \"Topic5\", \"Topic5\", \"Topic5\", \"Topic5\", \"Topic5\", \"Topic5\", \"Topic5\", \"Topic5\", \"Topic5\", \"Topic5\", \"Topic5\", \"Topic5\", \"Topic5\", \"Topic5\", \"Topic5\", \"Topic5\", \"Topic5\", \"Topic5\", \"Topic5\", \"Topic5\", \"Topic5\", \"Topic5\", \"Topic5\", \"Topic5\", \"Topic5\", \"Topic5\", \"Topic5\", \"Topic5\", \"Topic5\", \"Topic5\", \"Topic5\", \"Topic5\", \"Topic5\", \"Topic5\", \"Topic5\", \"Topic5\", \"Topic5\", \"Topic5\", \"Topic5\", \"Topic5\", \"Topic5\", \"Topic5\", \"Topic5\", \"Topic5\", \"Topic5\", \"Topic5\", \"Topic5\", \"Topic5\", \"Topic6\", \"Topic6\", \"Topic6\", \"Topic6\", \"Topic6\", \"Topic6\", \"Topic6\", \"Topic6\", \"Topic6\", \"Topic6\", \"Topic6\", \"Topic6\", \"Topic6\", \"Topic6\", \"Topic6\", \"Topic6\", \"Topic6\", \"Topic6\", \"Topic6\", \"Topic6\", \"Topic6\", \"Topic6\", \"Topic6\", \"Topic6\", \"Topic6\", \"Topic6\", \"Topic6\", \"Topic6\", \"Topic6\", \"Topic6\", \"Topic6\", \"Topic6\", \"Topic6\", \"Topic6\", \"Topic6\", \"Topic6\", \"Topic6\", \"Topic6\", \"Topic6\", \"Topic6\", \"Topic6\", \"Topic6\", \"Topic6\", \"Topic6\", \"Topic6\", \"Topic6\", \"Topic6\", \"Topic6\", \"Topic6\", \"Topic6\", \"Topic6\", \"Topic6\", \"Topic6\", \"Topic6\", \"Topic6\", \"Topic6\", \"Topic6\", \"Topic6\", \"Topic6\", \"Topic6\", \"Topic6\", \"Topic6\", \"Topic6\", \"Topic7\", \"Topic7\", \"Topic7\", \"Topic7\", \"Topic7\", \"Topic7\", \"Topic7\", \"Topic7\", \"Topic7\", \"Topic7\", \"Topic7\", \"Topic7\", \"Topic7\", \"Topic7\", \"Topic7\", \"Topic7\", \"Topic7\", \"Topic7\", \"Topic7\", \"Topic7\", \"Topic7\", \"Topic7\", \"Topic7\", \"Topic7\", \"Topic7\", \"Topic7\", \"Topic7\", \"Topic7\", \"Topic7\", \"Topic7\", \"Topic7\", \"Topic7\", \"Topic7\", \"Topic7\", \"Topic7\", \"Topic7\", \"Topic7\", \"Topic7\", \"Topic7\", \"Topic7\", \"Topic7\", \"Topic7\", \"Topic7\", \"Topic7\", \"Topic7\", \"Topic7\", \"Topic7\", \"Topic7\", \"Topic7\", \"Topic7\", \"Topic7\", \"Topic7\", \"Topic7\", \"Topic7\", \"Topic7\", \"Topic7\", \"Topic7\", \"Topic7\", \"Topic7\", \"Topic7\", \"Topic7\", \"Topic7\", \"Topic8\", \"Topic8\", \"Topic8\", \"Topic8\", \"Topic8\", \"Topic8\", \"Topic8\", \"Topic8\", \"Topic8\", \"Topic8\", \"Topic8\", \"Topic8\", \"Topic8\", \"Topic8\", \"Topic8\", \"Topic8\", \"Topic8\", \"Topic8\", \"Topic8\", \"Topic8\", \"Topic8\", \"Topic8\", \"Topic8\", \"Topic8\", \"Topic8\", \"Topic8\", \"Topic8\", \"Topic8\", \"Topic8\", \"Topic8\", \"Topic8\", \"Topic8\", \"Topic8\", \"Topic8\", \"Topic8\", \"Topic8\", \"Topic8\", \"Topic8\", \"Topic8\", \"Topic8\", \"Topic8\", \"Topic8\", \"Topic8\", \"Topic8\", \"Topic8\", \"Topic8\", \"Topic8\", \"Topic8\", \"Topic8\", \"Topic8\", \"Topic8\", \"Topic8\", \"Topic8\", \"Topic8\", \"Topic8\", \"Topic8\", \"Topic8\", \"Topic8\", \"Topic8\", \"Topic9\", \"Topic9\", \"Topic9\", \"Topic9\", \"Topic9\", \"Topic9\", \"Topic9\", \"Topic9\", \"Topic9\", \"Topic9\", \"Topic9\", \"Topic9\", \"Topic9\", \"Topic9\", \"Topic9\", \"Topic9\", \"Topic9\", \"Topic9\", \"Topic9\", \"Topic9\", \"Topic9\", \"Topic9\", \"Topic9\", \"Topic9\", \"Topic9\", \"Topic9\", \"Topic9\", \"Topic9\", \"Topic9\", \"Topic9\", \"Topic9\", \"Topic9\", \"Topic9\", \"Topic9\", \"Topic9\", \"Topic9\", \"Topic9\", \"Topic9\", \"Topic9\", \"Topic9\", \"Topic9\", \"Topic9\", \"Topic9\", \"Topic9\", \"Topic9\", \"Topic9\", \"Topic9\", \"Topic9\", \"Topic9\", \"Topic9\", \"Topic9\", \"Topic9\", \"Topic9\", \"Topic9\", \"Topic9\", \"Topic9\", \"Topic9\", \"Topic9\", \"Topic10\", \"Topic10\", \"Topic10\", \"Topic10\", \"Topic10\", \"Topic10\", \"Topic10\", \"Topic10\", \"Topic10\", \"Topic10\", \"Topic10\", \"Topic10\", \"Topic10\", \"Topic10\", \"Topic10\", \"Topic10\", \"Topic10\", \"Topic10\", \"Topic10\", \"Topic10\", \"Topic10\", \"Topic10\", \"Topic10\", \"Topic10\", \"Topic10\", \"Topic10\", \"Topic10\", \"Topic10\", \"Topic10\", \"Topic10\", \"Topic10\", \"Topic10\", \"Topic10\", \"Topic10\", \"Topic10\", \"Topic10\", \"Topic10\", \"Topic10\", \"Topic10\", \"Topic10\", \"Topic10\", \"Topic10\", \"Topic10\", \"Topic10\", \"Topic10\", \"Topic10\", \"Topic10\", \"Topic10\", \"Topic10\", \"Topic10\", \"Topic10\", \"Topic10\"]}, \"plot.opts\": {\"ylab\": \"PC2\", \"xlab\": \"PC1\"}, \"mdsDat\": {\"y\": [0.03412161741418685, 0.05202728082666382, 0.01726850917922417, -0.020359266452191258, -0.061417268506065485, -0.018039404177910973, 0.017207764953366542, 0.07338712489025118, -0.13344789335394044, 0.03925153522641543], \"Freq\": [18.498411523222753, 13.950537766118384, 11.483162009080369, 9.081703146099459, 8.741457863112714, 8.55219726534785, 8.359057218657908, 7.692445739033111, 7.4282862505214196, 6.212741218806027], \"x\": [0.026270345141432457, 0.018020654232783657, -0.21102034447226956, 0.06477722941678639, 0.01769745852976858, 0.08029257962626438, -0.07262338207729965, 0.03690454128735248, -0.015333357790747175, 0.0550142761059284], \"topics\": [1, 2, 3, 4, 5, 6, 7, 8, 9, 10], \"cluster\": [1, 1, 1, 1, 1, 1, 1, 1, 1, 1]}, \"topic.order\": [2, 3, 6, 1, 10, 7, 4, 9, 5, 8], \"token.table\": {\"Topic\": [1, 2, 3, 4, 5, 6, 7, 8, 9, 10, 1, 2, 3, 5, 6, 7, 8, 9, 10, 1, 2, 3, 5, 7, 8, 9, 10, 1, 2, 3, 5, 9, 10, 2, 4, 6, 7, 8, 9, 10, 1, 3, 4, 5, 6, 7, 8, 1, 3, 4, 7, 9, 1, 3, 4, 5, 7, 9, 10, 1, 2, 3, 4, 5, 6, 7, 8, 9, 10, 1, 3, 4, 6, 1, 4, 5, 6, 7, 8, 9, 10, 1, 2, 3, 4, 6, 8, 9, 2, 5, 6, 7, 8, 10, 1, 2, 3, 5, 6, 8, 1, 2, 3, 4, 6, 7, 8, 9, 1, 2, 3, 4, 5, 6, 7, 9, 10, 1, 2, 4, 5, 6, 7, 9, 10, 1, 3, 4, 5, 6, 8, 9, 10, 1, 2, 3, 5, 6, 7, 1, 2, 5, 6, 7, 9, 10, 4, 5, 6, 8, 9, 10, 1, 3, 7, 8, 3, 5, 6, 7, 9, 1, 2, 3, 4, 5, 6, 7, 8, 9, 2, 6, 7, 8, 1, 2, 3, 4, 5, 6, 7, 8, 9, 10, 1, 2, 3, 4, 5, 6, 7, 1, 2, 4, 5, 6, 7, 8, 9, 10, 1, 2, 7, 8, 2, 3, 7, 8, 1, 3, 5, 8, 9, 10, 1, 7, 8, 9, 1, 2, 3, 4, 5, 6, 7, 8, 9, 10, 1, 4, 6, 7, 8, 10, 1, 2, 3, 4, 6, 7, 8, 9, 10, 1, 3, 4, 9, 10, 1, 2, 3, 4, 7, 8, 9, 10, 1, 2, 3, 4, 5, 6, 7, 8, 10, 2, 3, 5, 7, 8, 9, 10, 2, 3, 6, 9, 1, 2, 3, 4, 5, 6, 7, 8, 9, 10, 1, 4, 5, 6, 7, 8, 1, 2, 3, 4, 5, 7, 8, 9, 10, 5, 6, 8, 9, 1, 3, 6, 8, 9, 1, 3, 5, 8, 1, 2, 3, 4, 5, 6, 7, 8, 9, 10, 2, 4, 5, 6, 7, 1, 2, 3, 4, 5, 6, 7, 8, 9, 10, 6, 7, 8, 10, 1, 2, 3, 4, 8, 1, 3, 4, 6, 7, 9, 10, 1, 2, 3, 4, 5, 6, 7, 8, 9, 10, 1, 3, 4, 7, 1, 3, 4, 7, 8, 1, 2, 3, 4, 5, 6, 7, 8, 10, 2, 3, 4, 5, 6, 8, 9, 1, 3, 4, 6, 7, 9, 1, 2, 6, 7, 9, 10, 1, 2, 4, 7, 8, 9, 10, 3, 4, 6, 10, 3, 4, 6, 1, 2, 3, 4, 5, 6, 8, 1, 2, 3, 4, 6, 8, 9, 2, 4, 7, 8, 1, 2, 3, 4, 5, 6, 7, 8, 9, 10, 2, 3, 5, 7, 8, 9, 10, 2, 3, 6, 7, 1, 2, 3, 4, 5, 6, 7, 8, 9, 10, 1, 2, 3, 4, 5, 6, 7, 8, 9, 10, 1, 3, 4, 5, 6, 7, 8, 9, 10, 1, 2, 4, 7, 9, 1, 2, 3, 4, 5, 6, 7, 8, 9, 10, 5, 9, 10, 1, 6, 9, 1, 2, 3, 4, 5, 6, 7, 8, 9, 10, 2, 4, 6, 3, 6, 7, 1, 2, 3, 4, 7, 10, 1, 4, 5, 7, 10, 2, 4, 8, 1, 3, 5, 6, 7, 10, 1, 2, 3, 4, 5, 6, 7, 8, 9, 10, 1, 2, 4, 9, 10, 1, 2, 3, 4, 5, 6, 9, 10, 1, 2, 3, 4, 5, 6, 7, 8, 9, 10, 2, 4, 5, 7, 8, 9, 2, 6, 7, 8, 10, 5, 6, 9, 10, 1, 5, 6, 7, 8, 10, 1, 2, 3, 4, 5, 6, 8, 9, 10, 2, 3, 5, 7, 8, 9, 1, 2, 3, 4, 5, 6, 7, 8, 9, 10, 1, 2, 3, 7, 9, 2, 5, 6, 9, 10, 2, 3, 5, 6, 9, 10, 1, 2, 3, 4, 6, 7, 8, 10, 1, 4, 5, 6, 7, 8, 9, 1, 2, 3, 4, 5, 6, 7, 8, 9, 10, 1, 2, 3, 4, 5, 6, 7, 8, 10, 1, 2, 3, 4, 5, 6, 7, 8, 9, 10, 1, 2, 3, 4, 5, 6, 7, 8, 9, 10, 1, 2, 3, 4, 5, 6, 7, 8, 9, 10, 1, 5, 7, 10, 1, 2, 3, 4, 5, 6, 7, 8, 9, 10, 1, 2, 3, 4, 5, 6, 7, 8, 9, 10, 2, 3, 4, 5, 6, 8, 1, 2, 3, 4, 5, 6, 7, 8, 9, 10, 1, 3, 6, 9, 10, 1, 2, 3, 4, 5, 6, 7, 8, 9, 10, 1, 3, 4, 7, 8, 10, 1, 2, 3, 4, 5, 6, 7, 8, 9, 10, 1, 2, 10, 2, 4, 5, 6, 7, 8, 1, 2, 3, 4, 5, 6, 7, 8, 10, 2, 3, 6, 7, 1, 2, 3, 4, 5, 7, 8, 9, 10, 1, 2, 3, 5, 6, 7, 9, 1, 2, 4, 6, 7, 10, 1, 2, 3, 4, 5, 6, 7, 8, 9, 10, 1, 3, 4, 5, 1, 2, 3, 4, 5, 6, 7, 8, 9, 10, 2, 3, 4, 5, 7, 8, 9, 10, 3, 4, 5, 6, 7, 1, 3, 4, 5, 6, 9, 1, 2, 3, 4, 5, 6, 7, 8, 9, 10, 1, 2, 4, 5, 6, 7, 8, 9, 10, 1, 2, 3, 5, 6, 7, 1, 2, 3, 7, 1, 3, 4, 5, 6, 8, 9, 1, 2, 3, 6, 7, 8, 9, 10, 1, 2, 4, 6, 7, 1, 2, 3, 5, 6, 7, 8, 9, 10, 1, 2, 3, 4, 5, 7, 9, 10, 4, 5, 9, 10, 1, 2, 3, 4, 8, 9, 10, 1, 2, 3, 4, 5, 6, 7, 10, 1, 3, 4, 5, 6, 7, 8, 10, 1, 2, 3, 4, 5, 7, 8, 9, 10, 1, 2, 3, 7, 10, 1, 2, 3, 4, 5, 6, 9, 10, 2, 3, 6, 7, 8, 9, 1, 2, 3, 4, 5, 6, 7, 8, 9, 10, 1, 2, 3, 4, 5, 6, 7, 8, 9, 10, 1, 3, 4, 6, 7, 10, 2, 3, 6, 7, 8, 9, 2, 3, 4, 7, 9, 10, 3, 5, 9, 1, 3, 5, 7, 8, 1, 2, 3, 4, 5, 6, 7, 8, 9, 10, 1, 2, 3, 5, 6, 7, 8, 2, 5, 6, 7, 8, 10, 2, 3, 5, 6, 7, 8, 9, 10, 1, 2, 3, 7, 8, 10, 1, 2, 3, 4, 5, 6, 7, 8, 9, 10, 5, 6, 9, 10, 1, 2, 3, 4, 6, 1, 2, 3, 4, 5, 6, 7, 8, 9, 10, 1, 2, 3, 4, 5, 6, 7, 8, 9, 1, 2, 3, 5, 6, 7, 8, 9, 10, 1, 3, 5, 6, 8, 10, 3, 4, 5, 7, 8, 1, 5, 6, 8, 1, 2, 3, 4, 5, 6, 7, 1, 3, 7, 9, 10, 1, 3, 5, 7, 10, 3, 4, 5, 6, 8, 10, 1, 2, 3, 4, 5, 6, 7, 8, 9, 10, 1, 2, 3, 7, 8, 9, 1, 2, 3, 4, 5, 6, 7, 8, 9, 10, 2, 4, 7, 9, 10, 5, 6, 8, 9, 3, 4, 5, 6, 7, 4, 5, 6, 7, 1, 2, 3, 4, 5, 6, 7, 8, 9, 1, 3, 5, 8, 9, 1, 2, 3, 4, 5, 6, 7, 8, 10, 2, 5, 6, 10, 1, 2, 6, 9, 2, 3, 5, 6, 7, 8, 1, 2, 3, 6, 1, 3, 7, 8, 9, 10, 1, 2, 3, 5, 6, 7, 9, 10, 2, 4, 5, 7, 1, 3, 7, 10, 1, 3, 4, 5, 9, 1, 2, 3, 4, 5, 6, 7, 8, 10, 1, 3, 6, 8, 10, 2, 6, 7, 8, 10, 1, 2, 3, 4, 5, 6, 7, 8, 9, 10, 1, 2, 3, 4, 5, 7, 8, 9, 10, 1, 2, 3, 4, 5, 6, 7, 1, 2, 3, 5, 7, 9, 6, 7, 8, 9, 1, 2, 3, 4, 5, 6, 7, 8, 9, 10, 1, 2, 3, 4, 5, 6, 8, 10, 1, 2, 3, 4, 7, 9, 2, 3, 4, 7, 8, 9, 1, 2, 4, 7, 8, 9, 10, 1, 2, 3, 4, 5, 6, 7, 8, 9, 10, 2, 5, 6, 7, 8, 9, 4, 5, 6, 7, 8, 9, 2, 4, 6, 7, 8, 9, 10, 2, 4, 6, 7, 8, 9, 10, 1, 2, 3, 4, 5, 6, 7, 8, 9, 1, 2, 3, 4, 5, 6, 7, 8, 9, 10, 1, 2, 4, 6, 7, 1, 2, 6, 7, 9, 10, 1, 3, 5, 6, 7, 9, 1, 2, 3, 4, 5, 6, 7, 8, 1, 2, 3, 4, 5, 6, 7, 8, 9, 10, 1, 2, 5, 9, 1, 3, 4, 5, 8, 9, 10, 4, 5, 7, 9, 10, 1, 2, 3, 4, 5, 6, 7, 8, 9, 10, 1, 2, 3, 4, 5, 6, 7, 8, 9, 10, 3, 4, 5, 6, 7, 8, 9, 4, 5, 6, 8, 9, 1, 2, 3, 4, 5, 6, 7, 8, 10, 1, 2, 4, 5, 7, 1, 2, 3, 9, 1, 2, 3, 4, 5, 6, 7, 8, 9, 10, 2, 3, 4, 5, 6, 7, 8, 9, 10, 1, 2, 5, 6, 7, 10, 1, 2, 3, 4, 6, 7, 8, 1, 2, 3, 4, 6, 7, 8, 9, 10, 3, 4, 7, 8, 10, 2, 3, 4, 5, 6, 7, 8, 9, 10, 2, 3, 4, 6, 8, 9, 1, 2, 3, 5, 6, 7, 8, 9, 10, 1, 2, 3, 5, 6, 7, 8, 9, 10, 1, 2, 4, 5, 7, 8, 10, 2, 4, 5, 6, 8, 9, 4, 5, 6, 2, 4, 5, 7, 9, 2, 3, 4, 5, 6, 7, 8, 9, 10, 2, 3, 4, 6, 8, 9, 10, 4, 5, 7, 8, 9, 1, 2, 3, 4, 5, 6, 7, 8, 9, 10, 1, 2, 4, 5, 6, 7, 8, 9, 1, 2, 3, 4, 5, 6, 7, 8, 10, 1, 3, 4, 5, 6, 7, 9, 10, 1, 3, 7, 9, 10, 1, 2, 3, 5, 7, 10, 1, 2, 3, 5, 6, 1, 2, 3, 4, 5, 6, 7, 8, 9, 10, 1, 3, 5, 7, 8, 1, 4, 5, 6, 8, 10, 5, 6, 9, 10, 1, 2, 3, 4, 5, 6, 7, 8, 9, 1, 4, 6, 7, 8, 10, 1, 2, 3, 4, 5, 6, 7, 8, 9, 10, 6, 7, 9, 1, 2, 3, 4, 5, 6, 7, 8, 9, 10, 1, 2, 3, 4, 5, 6, 7, 8, 9, 10, 1, 4, 7, 10, 5, 6, 10, 1, 2, 3, 4, 5, 7, 8, 1, 2, 3, 4, 5, 6, 7, 10, 1, 2, 3, 4, 5, 6, 7, 8, 9, 10, 2, 4, 5, 7, 8, 9, 1, 3, 4, 7, 8, 10, 1, 2, 4, 5, 6, 7, 9, 1, 2, 4, 5, 6, 7, 8, 10, 3, 4, 6, 7, 10, 1, 2, 4, 5, 6, 7, 8, 10, 1, 2, 3, 4, 5, 6, 7, 8, 9, 10, 1, 2, 3, 4, 5, 6, 7, 8, 9, 10, 1, 4, 5, 7, 8, 9, 1, 2, 5, 7, 8, 1, 3, 5, 7, 8, 9, 10, 1, 2, 3, 4, 5, 7, 2, 4, 6, 7, 8, 9, 1, 3, 4, 6, 7, 8, 9, 1, 2, 3, 4, 5, 7, 1, 2, 3, 4, 5, 6, 7, 8, 1, 2, 3, 4, 5, 6, 7, 8, 1, 2, 5, 6, 8, 1, 2, 3, 4, 5, 6, 7, 8, 9, 1, 2, 3, 4, 5, 6, 7, 8, 9, 10, 7, 8, 10, 3, 7, 3, 4, 6, 10, 1, 2, 4, 6, 8, 9, 1, 2, 3, 4, 5, 7, 8, 1, 2, 3, 5, 7, 1, 2, 3, 4, 8, 1, 2, 3, 6, 7, 8, 9, 10, 6, 8, 3, 5, 7, 8, 9, 10, 2, 3, 4, 7, 9, 1, 2, 4, 6, 7, 8, 10, 1, 2, 3, 4, 5, 6, 7, 8, 9, 10, 1, 2, 6, 9, 1, 2, 3, 4, 5, 6, 8, 9, 1, 2, 3, 4, 8, 10, 1, 2, 3, 4, 5, 6, 7, 8, 9, 10, 1, 2, 4, 5, 6, 7, 9, 10, 7, 8, 10, 1, 2, 3, 4, 5, 6, 7, 8, 9, 10, 3, 4, 5, 6, 7, 2, 4, 5, 7, 8, 9, 1, 2, 3, 4, 5, 6, 7, 8, 9, 1, 3, 6, 7, 9, 1, 2, 3, 4, 5, 6, 7, 8, 9, 10, 1, 2, 3, 4, 5, 6, 7, 9, 10, 2, 3, 4, 9, 1, 2, 3, 4, 7, 8, 9, 7, 8, 9, 10, 1, 3, 4, 5, 6, 7, 8, 9, 1, 2, 4, 6, 7, 8, 1, 3, 5, 7, 8, 10, 1, 3, 6, 7, 8, 1, 2, 3, 4, 5, 7, 1, 2, 3, 4, 5, 6, 7, 8, 9, 10, 1, 3, 4, 1, 2, 4, 1, 5, 9, 1, 2, 3, 4, 5, 6, 7, 8, 9, 10, 4, 5, 6, 7, 8, 9, 1, 3, 4, 5, 8, 9, 1, 2, 8, 1, 2, 3, 4, 5, 6, 7, 8, 9, 10, 1, 3, 4, 5, 8, 1, 2, 3, 4, 5, 6, 7, 8, 9, 10, 1, 2, 3, 4, 5, 6, 7, 9, 10, 1, 3, 5, 6, 9, 10, 1, 2, 3, 4, 5, 6, 7, 8, 9, 10, 1, 2, 3, 5, 8, 10, 1, 2, 3, 4, 5, 6, 7, 8, 9, 10, 2, 3, 4, 5, 6, 7, 9, 1, 2, 3, 4, 5, 6, 7, 8, 9, 10, 2, 4, 5, 7, 3, 6, 9, 2, 3, 5, 6, 9, 10, 1, 2, 3, 5, 6, 9, 10, 1, 2, 3, 4, 5, 7, 8, 9, 1, 2, 3, 4, 5, 6, 7, 8, 9, 1, 2, 3, 4, 5, 6, 7, 8, 9, 10, 1, 2, 3, 4, 5, 6, 7, 8, 9, 10, 2, 4, 5, 6, 7, 8, 9, 10, 1, 2, 3, 4, 5, 6, 7, 8, 9, 10, 1, 2, 3, 5, 10, 1, 2, 5, 6, 7, 9, 10, 1, 2, 3, 4, 5, 6, 7, 8, 9, 10, 2, 5, 6, 8, 10, 1, 5, 7, 8, 9, 10, 2, 6, 9, 1, 2, 3, 4, 5, 6, 7, 8, 10, 1, 3, 4, 9, 1, 2, 3, 4, 5, 6, 7, 8, 9, 1, 2, 4, 5, 6, 7, 1, 2, 3, 4, 5, 6, 7, 8, 10, 1, 2, 3, 4, 5, 6, 7, 8, 9, 10, 1, 4, 5, 6, 9, 10, 2, 3, 5, 7, 10, 1, 2, 3, 4, 5, 6, 7, 8, 9, 10, 1, 2, 3, 4, 5, 6, 7, 8, 9, 10, 1, 2, 3, 8, 10, 2, 3, 6, 7, 9, 1, 5, 6, 9, 2, 3, 4, 6, 7, 8, 10, 1, 3, 10, 1, 2, 7, 8, 10, 1, 4, 5, 6, 9, 1, 3, 4, 5, 6, 7, 4, 5, 6, 7, 8, 10, 1, 2, 3, 4, 5, 6, 7, 8, 9, 10, 1, 3, 5, 6, 7, 9, 1, 2, 4, 5, 8, 7, 8, 10, 4, 5, 6, 7, 8, 4, 7, 10, 2, 3, 4, 6, 7, 8, 9, 10, 2, 7, 9, 10, 1, 2, 5, 6, 8, 1, 5, 7, 8, 10, 1, 2, 3, 5, 6, 7, 8, 9, 1, 4, 5, 6, 7, 8, 10, 2, 7, 10, 1, 2, 8, 10, 1, 2, 4, 1, 2, 3, 4, 5, 8, 9, 2, 3, 5, 7, 9, 10, 2, 4, 6, 7, 8, 9, 10, 1, 6, 10, 1, 2, 3, 4, 6, 10, 1, 2, 3, 4, 5, 6, 9, 10, 1, 4, 6, 7, 9, 6, 7, 8, 10, 1, 5, 6, 1, 2, 3, 4, 6, 8, 9, 10], \"Freq\": [0.08693801658690657, 0.18751336910901417, 0.13296402536821006, 0.08011934861930606, 0.10568935349780799, 0.005114000975700386, 0.10398468650590786, 0.05114000975700387, 0.16364803122241237, 0.08352868260310632, 0.6752932063323209, 0.07108349540340221, 0.053312621552551655, 0.017770873850850553, 0.035541747701701105, 0.035541747701701105, 0.017770873850850553, 0.035541747701701105, 0.053312621552551655, 0.08488014249607874, 0.04244007124803937, 0.1273202137441181, 0.04244007124803937, 0.33952056998431496, 0.04244007124803937, 0.1273202137441181, 0.16976028499215748, 0.6471313518907215, 0.17649036869746948, 0.0588301228991565, 0.0588301228991565, 0.0588301228991565, 0.0588301228991565, 0.15532675928163406, 0.07766337964081703, 0.15532675928163406, 0.07766337964081703, 0.07766337964081703, 0.15532675928163406, 0.3106535185632681, 0.19083688035324597, 0.047709220088311494, 0.09541844017662299, 0.09541844017662299, 0.09541844017662299, 0.38167376070649195, 0.09541844017662299, 0.18273185335361666, 0.12182123556907777, 0.18273185335361666, 0.30455308892269445, 0.12182123556907777, 0.10255981106162976, 0.20511962212325952, 0.05127990553081488, 0.05127990553081488, 0.05127990553081488, 0.5127990553081488, 0.05127990553081488, 0.35391655132191113, 0.1333598599184013, 0.12823063453692432, 0.07180915534067762, 0.04103380305181579, 0.09745528224806249, 0.025646126907384867, 0.06155070457772368, 0.0564214791962467, 0.03077535228886184, 0.5639268204489087, 0.3036529033186432, 0.0433789861883776, 0.0433789861883776, 0.08362796936604813, 0.02787598978868271, 0.44601583661892336, 0.19513192852077899, 0.08362796936604813, 0.05575197957736542, 0.05575197957736542, 0.02787598978868271, 0.10256972581837456, 0.05128486290918728, 0.10256972581837456, 0.41027890327349825, 0.15385458872756183, 0.10256972581837456, 0.05128486290918728, 0.09473360388750567, 0.4736680194375283, 0.09473360388750567, 0.09473360388750567, 0.18946720777501133, 0.09473360388750567, 0.14601952159920628, 0.18252440199900785, 0.03650488039980157, 0.10951464119940471, 0.07300976079960314, 0.40155368439781725, 0.08358275230097284, 0.08358275230097284, 0.41791376150486426, 0.08358275230097284, 0.08358275230097284, 0.08358275230097284, 0.08358275230097284, 0.08358275230097284, 0.32498307542208327, 0.19695943964974744, 0.029543915947462113, 0.029543915947462113, 0.16741552370228532, 0.0689358038774116, 0.0689358038774116, 0.059087831894924225, 0.04923985991243686, 0.14203839392925666, 0.14203839392925666, 0.04734613130975222, 0.04734613130975222, 0.14203839392925666, 0.04734613130975222, 0.3314229191682655, 0.09469226261950443, 0.019173389841122417, 0.038346779682244835, 0.038346779682244835, 0.019173389841122417, 0.09586694920561209, 0.038346779682244835, 0.7285888139626518, 0.019173389841122417, 0.20712923179267848, 0.4660407715335266, 0.05178230794816962, 0.05178230794816962, 0.15534692384450885, 0.05178230794816962, 0.2499068240888072, 0.0624767060222018, 0.0624767060222018, 0.0624767060222018, 0.0624767060222018, 0.3748602361332108, 0.1249534120444036, 0.2567127407153823, 0.38506911107307346, 0.0855709135717941, 0.04278545678589705, 0.1711418271435882, 0.04278545678589705, 0.3379661185493723, 0.4506214913991631, 0.11265537284979077, 0.11265537284979077, 0.07704805954664434, 0.03852402977332217, 0.4237643275065439, 0.23114417863993303, 0.19262014886661086, 0.10763384562562966, 0.1793897427093828, 0.029898290451563798, 0.01793897427093828, 0.1793897427093828, 0.059796580903127595, 0.0896948713546914, 0.0059796580903127595, 0.32888119496720175, 0.07074472222642214, 0.7781919444906437, 0.07074472222642214, 0.07074472222642214, 0.2504443628017934, 0.07772411259366002, 0.008636012510406669, 0.09499613761447336, 0.10363215012488003, 0.1640842376977267, 0.017272025020813337, 0.034544050041626674, 0.2245363252705734, 0.034544050041626674, 0.2115395100359312, 0.48654087308264177, 0.04230790200718624, 0.06346185301077936, 0.06346185301077936, 0.1057697550179656, 0.02115395100359312, 0.04765268076066027, 0.6671375306492436, 0.011913170190165067, 0.19061072304264107, 0.023826340380330133, 0.011913170190165067, 0.011913170190165067, 0.011913170190165067, 0.023826340380330133, 0.08744352586347261, 0.26233057759041783, 0.043721762931736304, 0.5902437995784401, 0.7679295008300937, 0.05485210720214955, 0.08227816080322432, 0.08227816080322432, 0.21536599797338965, 0.30766571139055665, 0.030766571139055662, 0.030766571139055662, 0.09229971341716699, 0.33843228252961227, 0.4825935258992964, 0.0804322543165494, 0.1608645086330988, 0.1608645086330988, 0.32513105175949747, 0.05989256216622321, 0.09411688340406506, 0.08556080309460459, 0.07700472278514413, 0.042780401547302296, 0.08556080309460459, 0.06844864247568368, 0.12834120464190688, 0.025668240928381377, 0.1877396140463531, 0.3754792280927062, 0.1877396140463531, 0.09386980702317654, 0.09386980702317654, 0.09386980702317654, 0.14559634709380262, 0.2729931508008799, 0.018199543386725327, 0.38219041112123187, 0.036399086773450655, 0.018199543386725327, 0.07279817354690131, 0.018199543386725327, 0.018199543386725327, 0.10872676797120304, 0.21745353594240607, 0.3805436878992106, 0.05436338398560152, 0.21745353594240607, 0.024756671513929598, 0.024756671513929598, 0.024756671513929598, 0.4703767587646624, 0.024756671513929598, 0.024756671513929598, 0.14854002908357758, 0.24756671513929598, 0.16857882827176418, 0.06130139209882334, 0.07662674012352919, 0.09195208814823501, 0.3984590486423517, 0.06130139209882334, 0.06130139209882334, 0.03065069604941167, 0.045976044074117504, 0.18345874417420477, 0.06115291472473493, 0.09172937208710238, 0.06115291472473493, 0.45864686043551195, 0.09172937208710238, 0.030576457362367464, 0.31509863905665886, 0.06301972781133178, 0.06301972781133178, 0.5671775503019859, 0.2058144647305148, 0.13720964315367654, 0.1818027771786214, 0.017151205394209567, 0.16465157178441184, 0.04116289294610296, 0.12348867883830889, 0.02058144647305148, 0.08918626804988974, 0.017151205394209567, 0.1791234326295916, 0.447808581573979, 0.0895617163147958, 0.0895617163147958, 0.0895617163147958, 0.0895617163147958, 0.5502636977322596, 0.05425135048064531, 0.015500385851612947, 0.18600463021935537, 0.0077501929258064735, 0.05425135048064531, 0.05425135048064531, 0.04650115755483884, 0.031000771703225894, 0.14372294881970937, 0.07186147440985469, 0.6467532696886922, 0.14372294881970937, 0.24130248784267133, 0.48260497568534266, 0.04826049756853426, 0.09652099513706852, 0.09652099513706852, 0.22811263038116822, 0.1520750869207788, 0.22811263038116822, 0.3041501738415576, 0.08537159884533949, 0.1908306327131118, 0.15567762142385436, 0.015065576266824615, 0.1054590338677723, 0.01004371751121641, 0.23100550275797743, 0.05021858755608205, 0.08537159884533949, 0.07030602257851487, 0.10240039178438921, 0.15360058767658383, 0.05120019589219461, 0.512001958921946, 0.10240039178438921, 0.14207984407421875, 0.07103992203710938, 0.15095983432885743, 0.09767989280102539, 0.07991991229174805, 0.017759980509277344, 0.2575197173845215, 0.03551996101855469, 0.08879990254638673, 0.044399951273193364, 0.8495395966486858, 0.01975673480578339, 0.03951346961156678, 0.09878367402891695, 0.6924116408474291, 0.07693462676082546, 0.07693462676082546, 0.07693462676082546, 0.07693462676082546, 0.16383916922750277, 0.12287937692062707, 0.08191958461375139, 0.04095979230687569, 0.08191958461375139, 0.4505577153756326, 0.08191958461375139, 0.10750960600183898, 0.11109325953523361, 0.10750960600183898, 0.19351729080331018, 0.25802305440441353, 0.06808941713449802, 0.09675864540165509, 0.02508557473376243, 0.0071673070667892655, 0.028669228267157062, 0.1110189710578195, 0.222037942115639, 0.3330569131734585, 0.3330569131734585, 0.06256653365343094, 0.12513306730686188, 0.18769960096029284, 0.5005322692274475, 0.06256653365343094, 0.11680794398828251, 0.023361588797656502, 0.327062243167191, 0.058403971994141254, 0.011680794398828251, 0.058403971994141254, 0.011680794398828251, 0.09344635519062601, 0.30370065436953453, 0.32123082925454705, 0.0321230829254547, 0.0321230829254547, 0.16061541462727352, 0.0642461658509094, 0.32123082925454705, 0.0642461658509094, 0.5991214844933235, 0.04608626803794796, 0.04608626803794796, 0.04608626803794796, 0.09217253607589591, 0.09217253607589591, 0.32583197194262525, 0.06516639438852505, 0.32583197194262525, 0.06516639438852505, 0.06516639438852505, 0.1303327887770501, 0.5881528157016025, 0.07351910196270031, 0.07351910196270031, 0.036759550981350156, 0.07351910196270031, 0.036759550981350156, 0.07351910196270031, 0.17143900002122642, 0.08571950001061321, 0.17143900002122642, 0.6000365000742924, 0.04004500509404913, 0.8009001018809826, 0.12013501528214739, 0.21939045204125363, 0.10969522602062681, 0.14626030136083576, 0.43878090408250725, 0.03656507534020894, 0.03656507534020894, 0.03656507534020894, 0.0702298193859355, 0.21068945815780651, 0.0702298193859355, 0.4916087357015485, 0.0702298193859355, 0.0702298193859355, 0.0702298193859355, 0.29858307531041656, 0.09952769177013886, 0.1990553835402777, 0.3981107670805554, 0.11904457116440201, 0.0833311998150814, 0.32142034214388543, 0.029761142791100502, 0.0892834283733015, 0.053570057023980905, 0.0059522285582201, 0.1845190853048231, 0.0833311998150814, 0.0238089142328804, 0.11603513497530922, 0.17405270246296384, 0.40612297241358225, 0.05801756748765461, 0.05801756748765461, 0.11603513497530922, 0.05801756748765461, 0.4270422257078388, 0.1067605564269597, 0.2135211128539194, 0.1067605564269597, 0.21977861027776593, 0.3803860562499795, 0.0507181408333306, 0.0507181408333306, 0.042265117361108835, 0.008453023472221767, 0.11834232861110473, 0.06762418777777414, 0.0507181408333306, 0.008453023472221767, 0.1664534323482891, 0.10064626141989573, 0.12000131169295261, 0.10838828152911849, 0.10451727147450711, 0.22838959322207109, 0.07354919103761612, 0.027097070382279622, 0.050323130709947865, 0.023226060327668246, 0.5208096634486712, 0.028933870191592843, 0.17360322114955706, 0.057867740383185685, 0.057867740383185685, 0.028933870191592843, 0.028933870191592843, 0.08680161057477853, 0.057867740383185685, 0.19417154842256937, 0.09708577421128468, 0.4854288710564234, 0.09708577421128468, 0.09708577421128468, 0.28846339794970716, 0.05288495629077964, 0.019230893196647142, 0.12019308247904464, 0.019230893196647142, 0.15865486887233893, 0.04326950969245607, 0.1009621892823975, 0.17788576206898607, 0.009615446598323571, 0.33061691430795115, 0.18367606350441731, 0.477557765111485, 0.4142422600581335, 0.31068169504360016, 0.10356056501453338, 0.2346474369744725, 0.03199737776924625, 0.0639947555384925, 0.18131847402572873, 0.042663170358995, 0.042663170358995, 0.08532634071799, 0.20265005920522625, 0.042663170358995, 0.07466054812824124, 0.29130049569657535, 0.07282512392414384, 0.5826009913931507, 0.6047017759373943, 0.22676316597652285, 0.07558772199217428, 0.12263510498761135, 0.2043918416460189, 0.08175673665840756, 0.10219592082300945, 0.08175673665840756, 0.4087836832920378, 0.18543954418762718, 0.27815931628144075, 0.09271977209381359, 0.27815931628144075, 0.09271977209381359, 0.12329783433122513, 0.3698935029936754, 0.4931913373249005, 0.3412503458489256, 0.3412503458489256, 0.0853125864622314, 0.0853125864622314, 0.0853125864622314, 0.0853125864622314, 0.14471559599880496, 0.08140252274932779, 0.07235779799940248, 0.06783543562443982, 0.027134174249775926, 0.07688016037436513, 0.1085366969991037, 0.22159575637317008, 0.17184977024858086, 0.027134174249775926, 0.07412645202052065, 0.2965058080820826, 0.1482529040410413, 0.07412645202052065, 0.2965058080820826, 0.21579321208299318, 0.10789660604149659, 0.026974151510374147, 0.026974151510374147, 0.053948303020748295, 0.37763812114523804, 0.026974151510374147, 0.10789660604149659, 0.21409310028458176, 0.2398874497164591, 0.12381287727301114, 0.09285965795475835, 0.10833626761388475, 0.03869152414781598, 0.08770078806838288, 0.05158869886375464, 0.01289717471593866, 0.03611208920462825, 0.4259833888202228, 0.2690421403075091, 0.022420178358959094, 0.06726053507687728, 0.11210089179479546, 0.06726053507687728, 0.16489898609025064, 0.13741582174187553, 0.24734847913537594, 0.4122474652256266, 0.054966328696750215, 0.3163276093394154, 0.09037931695411869, 0.11297414619264837, 0.47449141400912315, 0.10808945099856636, 0.5404472549928317, 0.1801490849976106, 0.03602981699952212, 0.03602981699952212, 0.07205963399904423, 0.04030918929600477, 0.624792434088074, 0.020154594648002386, 0.06046378394400716, 0.06046378394400716, 0.06046378394400716, 0.020154594648002386, 0.04030918929600477, 0.020154594648002386, 0.1439247909772638, 0.09594986065150919, 0.1439247909772638, 0.047974930325754596, 0.1439247909772638, 0.38379944260603677, 0.13193061694908448, 0.06736882567612824, 0.04491255045075217, 0.06736882567612824, 0.2385979242696209, 0.07578992888564429, 0.0814039976919883, 0.03368441283806412, 0.12912358254591247, 0.12350951373956846, 0.11947897710442033, 0.23895795420884067, 0.358436931313261, 0.11947897710442033, 0.11947897710442033, 0.024180746516017634, 0.12090373258008817, 0.33853045122424685, 0.024180746516017634, 0.5077956768363703, 0.48856865362689045, 0.061071081703361306, 0.061071081703361306, 0.12214216340672261, 0.18321324511008394, 0.061071081703361306, 0.08492044804943596, 0.14153408008239327, 0.028306816016478654, 0.14153408008239327, 0.45290905626365846, 0.05661363203295731, 0.028306816016478654, 0.05661363203295731, 0.2514062558555055, 0.0838020852851685, 0.04190104264258425, 0.0838020852851685, 0.04190104264258425, 0.4190104264258425, 0.04190104264258425, 0.1331581232483707, 0.21305299719739312, 0.044386041082790234, 0.08877208216558047, 0.11540370681525461, 0.08877208216558047, 0.19529858076427703, 0.008877208216558047, 0.02663162464967414, 0.08877208216558047, 0.34122807201390243, 0.1669839501344629, 0.036300858724883235, 0.08712206093971978, 0.014520343489953295, 0.11616274791962636, 0.021780515234929944, 0.014520343489953295, 0.20328480885934613, 0.13887981144645692, 0.18332135110932316, 0.044441539662866215, 0.2555388530614808, 0.055551924578582774, 0.1222142340728821, 0.1222142340728821, 0.03888634720500794, 0.03333115474714966, 0.011110384915716554, 0.2563481957908339, 0.26411632293601073, 0.08544939859694464, 0.03884063572588393, 0.13400019325429954, 0.06214501716141428, 0.029130476794412948, 0.0524348582299433, 0.04078266751217812, 0.034956572153295534, 0.14010318940262012, 0.18434630184555278, 0.007373852073822112, 0.09586007695968744, 0.10323392903350956, 0.022121556221466335, 0.19172015391937489, 0.18434630184555278, 0.036869260369110556, 0.036869260369110556, 0.6578397776986905, 0.16445994442467263, 0.08222997221233631, 0.08222997221233631, 0.2709881460895641, 0.12043917603980628, 0.2709881460895641, 0.03010979400995157, 0.02007319600663438, 0.02007319600663438, 0.11040257803648909, 0.08029278402653751, 0.08029278402653751, 0.01003659800331719, 0.28011966725751913, 0.02154766671211686, 0.18315516705299328, 0.08619066684846743, 0.02154766671211686, 0.04309533342423372, 0.03232150006817529, 0.06464300013635058, 0.053869166780292146, 0.20470283376511014, 0.12164502630142539, 0.060822513150712694, 0.608225131507127, 0.060822513150712694, 0.060822513150712694, 0.060822513150712694, 0.36978037769356464, 0.0899465783578941, 0.09994064261988234, 0.06995844983391764, 0.0899465783578941, 0.06995844983391764, 0.0599643855719294, 0.06995844983391764, 0.0899465783578941, 0.009994064261988234, 0.2705906774794769, 0.16911917342467306, 0.13529533873973845, 0.06764766936986923, 0.3044145121644115, 0.20625714721204347, 0.022917460801338163, 0.07448174760434903, 0.28646826001672704, 0.10885793880635627, 0.16042222560936714, 0.040105556402341785, 0.040105556402341785, 0.028646826001672704, 0.034376191202007245, 0.3194578010788132, 0.04563682872554475, 0.365094629804358, 0.04563682872554475, 0.13691048617663423, 0.0912736574510895, 0.24127089844896268, 0.2383986258483798, 0.12637999442564712, 0.011489090402331557, 0.07467908761515513, 0.04308408900874334, 0.05744545201165779, 0.08329590541690379, 0.06606226981340645, 0.05744545201165779, 0.7720773496250408, 0.1403776999318256, 0.0701888499659128, 0.2717921630072605, 0.11648235557454022, 0.038827451858180075, 0.38827451858180073, 0.07765490371636015, 0.038827451858180075, 0.060378153761473215, 0.060378153761473215, 0.04025210250764881, 0.08050420501529762, 0.020126051253824405, 0.26163866629971727, 0.28176471755354165, 0.08050420501529762, 0.12075630752294643, 0.7795205831525145, 0.08661339812805717, 0.08661339812805717, 0.08661339812805717, 0.16186591164629682, 0.5159475933725711, 0.020233238955787103, 0.11128281425682907, 0.030349858433680654, 0.010116619477893551, 0.08093295582314841, 0.020233238955787103, 0.05058309738946776, 0.11270310094985697, 0.5071639542743563, 0.11270310094985697, 0.056351550474928486, 0.11270310094985697, 0.056351550474928486, 0.11270310094985697, 0.15611291538884642, 0.03673245067972857, 0.009183112669932143, 0.027549338009796427, 0.5234374221861321, 0.24794404208816784, 0.1210282592510248, 0.16137101233469972, 0.14792342797347474, 0.05379033744489991, 0.08068550616734986, 0.013447584361224977, 0.1210282592510248, 0.05379033744489991, 0.22860893414082462, 0.013447584361224977, 0.8940101377310622, 0.02483361493697395, 0.0496672298739479, 0.02483361493697395, 0.039921336039745445, 0.1796460121788545, 0.05988200405961817, 0.3725991363709575, 0.07318911607286666, 0.05988200405961817, 0.026614224026496963, 0.05988200405961817, 0.09314978409273937, 0.039921336039745445, 0.1610387147539357, 0.17714258622932927, 0.01610387147539357, 0.08051935737696785, 0.35428517245865854, 0.04831161442618071, 0.06441548590157428, 0.09662322885236142, 0.14301451626467884, 0.3575362906616971, 0.21452177439701828, 0.14301451626467884, 0.14301451626467884, 0.09710353317795026, 0.09710353317795026, 0.09710353317795026, 0.4855176658897513, 0.09710353317795026, 0.09710353317795026, 0.18044583086772864, 0.18044583086772864, 0.03280833288504157, 0.06561666577008314, 0.06561666577008314, 0.14763749798268708, 0.08202083221260392, 0.05741458254882275, 0.03280833288504157, 0.14763749798268708, 0.32504682126411194, 0.06500936425282239, 0.14085362254778183, 0.08667915233709653, 0.02166978808427413, 0.07584425829495946, 0.22753277488487836, 0.054174470210685326, 0.010834894042137066, 0.040745135351827846, 0.24447081211096705, 0.08149027070365569, 0.12223540605548353, 0.12223540605548353, 0.3667062181664506, 0.06723533962509526, 0.26894135850038103, 0.5378827170007621, 0.10085300943764289, 0.07233146508626832, 0.03616573254313416, 0.10849719762940249, 0.07233146508626832, 0.3254915928882075, 0.2893258603450733, 0.10849719762940249, 0.4895343172602738, 0.056922595030264395, 0.00569225950302644, 0.15369100658171386, 0.051230335527237957, 0.2163058611150047, 0.01138451900605288, 0.017076778509079318, 0.06204661722300562, 0.6825127894530618, 0.06204661722300562, 0.12409323444601124, 0.06204661722300562, 0.016284368780409446, 0.03534899564527904, 0.7323994153920736, 0.025022322760141342, 0.005957695895271748, 0.1322608488750328, 0.009532313432434797, 0.02859694029730439, 0.013504110695949296, 0.12071453581998584, 0.024142907163997168, 0.09657162865598867, 0.33800070029596035, 0.024142907163997168, 0.048285814327994336, 0.0724287214919915, 0.31385779313196316, 0.07414262192001571, 0.5931409753601257, 0.14828524384003142, 0.14828524384003142, 0.13923384464287608, 0.17404230580359512, 0.06961692232143804, 0.06961692232143804, 0.17404230580359512, 0.03480846116071902, 0.3132761504464712, 0.2926847450391942, 0.0975615816797314, 0.06504105445315427, 0.30894500865248276, 0.08130131806644283, 0.0487807908398657, 0.0487807908398657, 0.0487807908398657, 0.37054439049577, 0.023159024405985624, 0.04631804881197125, 0.11579512202992812, 0.3473853660897843, 0.04631804881197125, 0.023159024405985624, 0.023159024405985624, 0.08177081812636794, 0.08177081812636794, 0.1430989317211439, 0.04088540906318397, 0.04088540906318397, 0.3475259770370638, 0.020442704531591985, 0.20442704531591985, 0.020442704531591985, 0.566542897041566, 0.09442381617359434, 0.09442381617359434, 0.09442381617359434, 0.09442381617359434, 0.3206535257843313, 0.021376901718955423, 0.08550760687582169, 0.08550760687582169, 0.042753803437910846, 0.34203042750328677, 0.06413070515686627, 0.042753803437910846, 0.30019223897523944, 0.1334187728778842, 0.03335469321947105, 0.03335469321947105, 0.03335469321947105, 0.46696570507259466, 0.08082740921880974, 0.12573152545148183, 0.07184658597227532, 0.09878905571187857, 0.06286576272574092, 0.07184658597227532, 0.09878905571187857, 0.2873863438891013, 0.07184658597227532, 0.026942469739603247, 0.08858607177212724, 0.1063032861265527, 0.01771721435442545, 0.35434428708850896, 0.0708688574177018, 0.12402050048097814, 0.08858607177212724, 0.05315164306327635, 0.08858607177212724, 0.0354344287088509, 0.22717435401151678, 0.15144956934101117, 0.07572478467050558, 0.07572478467050558, 0.3786239233525279, 0.07572478467050558, 0.0796544366954639, 0.2389633100863917, 0.03982721834773195, 0.4779266201727834, 0.03982721834773195, 0.0796544366954639, 0.4946388533399607, 0.06182985666749509, 0.06182985666749509, 0.24731942666998036, 0.06182985666749509, 0.06182985666749509, 0.7557989812950512, 0.06298324844125426, 0.12596649688250852, 0.09886312788907212, 0.19772625577814423, 0.4943156394453606, 0.09886312788907212, 0.09886312788907212, 0.5362405937155129, 0.06854203077566706, 0.08063768326549066, 0.024191304979647197, 0.06854203077566706, 0.0362869574694708, 0.032255073306196265, 0.10079710408186332, 0.016127536653098132, 0.032255073306196265, 0.037785937856665945, 0.07557187571333189, 0.30228750285332756, 0.037785937856665945, 0.037785937856665945, 0.4156453164233254, 0.07557187571333189, 0.27076736336555485, 0.05415347267311097, 0.05415347267311097, 0.05415347267311097, 0.4873812540579987, 0.1624604180193329, 0.22756766183171373, 0.1070906643913947, 0.13386333048924337, 0.013386333048924337, 0.08031799829354602, 0.013386333048924337, 0.17402232963601638, 0.2543403279295624, 0.6914174040367228, 0.05318595415667098, 0.05318595415667098, 0.05318595415667098, 0.05318595415667098, 0.10637190831334196, 0.25770578948217787, 0.11658119048003283, 0.17180385965478523, 0.1656680075242572, 0.07363022556633653, 0.03681511278316826, 0.04908681704422435, 0.08590192982739261, 0.03067926065264022, 0.012271704261056088, 0.3163281447003304, 0.0903794699143801, 0.11297433739297513, 0.47449221705049555, 0.1055538667998351, 0.5277693339991755, 0.1055538667998351, 0.1055538667998351, 0.1055538667998351, 0.23312733312660075, 0.04512141931482595, 0.03760118276235496, 0.19552615036424578, 0.10528331173459389, 0.14288449449694884, 0.07520236552470992, 0.06768212897223892, 0.06768212897223892, 0.03008094620988397, 0.07214358561693751, 0.06365610495612133, 0.02546244198244853, 0.11033724859061031, 0.49651761865774635, 0.012731220991224266, 0.016974961321632353, 0.05092488396489706, 0.1485309115642831, 0.1303749379660997, 0.06518746898304985, 0.06518746898304985, 0.1303749379660997, 0.1303749379660997, 0.06518746898304985, 0.06518746898304985, 0.3259373449152493, 0.06518746898304985, 0.13073955987482727, 0.06536977993741364, 0.06536977993741364, 0.26147911974965454, 0.32684889968706815, 0.13073955987482727, 0.1214437367845832, 0.5464968155306243, 0.02024062279743053, 0.2631280963665969, 0.04048124559486106, 0.24237551715681455, 0.040395919526135755, 0.4847510343136291, 0.2019795976306788, 0.2274828495124222, 0.5074617412200187, 0.10499208439034871, 0.06999472292689915, 0.017498680731724787, 0.052496042195174356, 0.034997361463449575, 0.2239038246607291, 0.4478076493214582, 0.03731730411012152, 0.1865865205506076, 0.07463460822024304, 0.13003506793828393, 0.06501753396914196, 0.1950526019074259, 0.4551227377839938, 0.13003506793828393, 0.08193877895477021, 0.08193877895477021, 0.4096938947738511, 0.08193877895477021, 0.08193877895477021, 0.24581633686431065, 0.07206538096722546, 0.04073260663364918, 0.09399832300072887, 0.18799664600145774, 0.012533109733430517, 0.18799664600145774, 0.1723302588346696, 0.05639899380043732, 0.14413076193445093, 0.03133277433357629, 0.10432637595633512, 0.44338709781442426, 0.1564895639345027, 0.07824478196725135, 0.1564895639345027, 0.05216318797816756, 0.11584435869078219, 0.16218210216709508, 0.09267548695262576, 0.04633774347631288, 0.04633774347631288, 0.26644202498879904, 0.12742879455986042, 0.02316887173815644, 0.02316887173815644, 0.09267548695262576, 0.09799308296948503, 0.19598616593897006, 0.09799308296948503, 0.19598616593897006, 0.29397924890845506, 0.1437227319745341, 0.07186136598726706, 0.6467522938854036, 0.1437227319745341, 0.22731720413795273, 0.45463440827590546, 0.17048790310346457, 0.11365860206897636, 0.05682930103448818, 0.4345974153619925, 0.3621645128016604, 0.14486580512066416, 0.07243290256033208, 0.28818339236518536, 0.14729373387553918, 0.16650596003321821, 0.03842445231535805, 0.13448558310375316, 0.019212226157679025, 0.0768489046307161, 0.12167743233196715, 0.006404075385893008, 0.19256097344074516, 0.1283739822938301, 0.3851219468814903, 0.06418699114691505, 0.19256097344074516, 0.12690014536982086, 0.09517510902736563, 0.09517510902736563, 0.06345007268491043, 0.24322527862548995, 0.31725036342455215, 0.031725036342455215, 0.010575012114151737, 0.010575012114151737, 0.2847060913298527, 0.5124709643937349, 0.05694121826597054, 0.11388243653194108, 0.28918874327652244, 0.057837748655304486, 0.17351324596591347, 0.5205397378977403, 0.05795842892057384, 0.347750573523443, 0.05795842892057384, 0.05795842892057384, 0.40570900244401686, 0.11591685784114768, 0.5674928094068447, 0.09458213490114077, 0.18916426980228154, 0.09458213490114077, 0.1950071344632702, 0.13500493924380244, 0.04500164641460082, 0.1950071344632702, 0.09000329282920164, 0.33001207370707264, 0.025663476026185985, 0.025663476026185985, 0.05132695205237197, 0.3592886643666038, 0.07699042807855795, 0.2566347602618599, 0.12831738013092994, 0.10265390410474394, 0.5714696466315261, 0.057146964663152604, 0.28573482331576305, 0.057146964663152604, 0.0502793958574716, 0.0502793958574716, 0.0502793958574716, 0.8044703337195456, 0.018385132139595212, 0.018385132139595212, 0.018385132139595212, 0.4780134356294755, 0.45962830348988026, 0.0648611731703139, 0.3026854747947982, 0.016215293292578474, 0.24863449715286995, 0.10269685751966368, 0.1513427373973991, 0.005405097764192825, 0.0432407821135426, 0.07026627093450673, 0.6146029895633354, 0.03841268684770846, 0.07682537369541692, 0.1920634342385423, 0.07682537369541692, 0.4752256737428383, 0.052802852638093145, 0.15840855791427944, 0.21121141055237258, 0.10560570527618629, 0.2708429372576794, 0.04358392093801737, 0.031131372098583833, 0.0373576465183006, 0.25527725120838746, 0.15876999770277755, 0.06848901861688443, 0.07160215582674281, 0.04358392093801737, 0.021791960469008685, 0.06389710627958882, 0.12779421255917764, 0.03194855313979441, 0.09584565941938322, 0.17039228341223683, 0.13844373027244244, 0.021299035426529604, 0.2555884251183553, 0.08519614170611842, 0.1322819217417325, 0.06614096087086625, 0.1322819217417325, 0.19842288261259877, 0.06614096087086625, 0.1322819217417325, 0.3307048043543313, 0.5467496833814538, 0.12149992964032306, 0.12149992964032306, 0.12149992964032306, 0.06074996482016153, 0.06074996482016153, 0.10927840945522513, 0.10927840945522513, 0.21855681891045026, 0.4371136378209005, 0.12100359299842145, 0.00711785841167185, 0.04982500888170295, 0.17794646029179625, 0.3558929205835925, 0.06406072570504664, 0.0284714336466874, 0.04982500888170295, 0.06406072570504664, 0.07829644252839035, 0.12631616662572728, 0.08421077775048486, 0.08421077775048486, 0.12631616662572728, 0.08421077775048486, 0.12631616662572728, 0.04210538887524243, 0.3789484998771818, 0.07921860419652532, 0.03960930209826266, 0.03960930209826266, 0.03960930209826266, 0.5149209272774146, 0.27726511468783865, 0.07404444205286555, 0.07404444205286555, 0.07404444205286555, 0.1480888841057311, 0.1480888841057311, 0.3702222102643277, 0.05551376424282917, 0.11102752848565833, 0.05551376424282917, 0.05551376424282917, 0.027756882121414583, 0.5551376424282917, 0.13878441060707292, 0.11396324735876569, 0.00814023195419755, 0.020350579885493873, 0.31339893023660564, 0.08547243551907427, 0.07733220356487672, 0.07326208758777794, 0.24420695862592648, 0.028490811839691422, 0.040701159770987747, 0.20650132705885405, 0.15487599529414053, 0.4646279858824216, 0.05162533176471351, 0.10325066352942702, 0.05162533176471351, 0.11971416477915699, 0.3591424943374709, 0.23942832955831397, 0.03990472159305233, 0.11971416477915699, 0.07980944318610465, 0.15536540584186148, 0.07768270292093074, 0.15536540584186148, 0.07768270292093074, 0.07768270292093074, 0.15536540584186148, 0.31073081168372296, 0.15536235173438154, 0.07768117586719077, 0.15536235173438154, 0.07768117586719077, 0.07768117586719077, 0.15536235173438154, 0.3107247034687631, 0.04414197158514511, 0.06621295737771767, 0.04414197158514511, 0.3310647868885883, 0.04414197158514511, 0.04414197158514511, 0.022070985792572554, 0.06621295737771767, 0.35313577268116086, 0.14227167981168948, 0.1048317640717712, 0.04492789888790194, 0.1722236124036241, 0.09734378092378754, 0.16473562925564045, 0.04492789888790194, 0.007487983147983657, 0.1722236124036241, 0.04492789888790194, 0.08375760914111588, 0.3350304365644635, 0.1256364137116738, 0.37690924113502144, 0.04187880457055794, 0.08783936119531177, 0.7027148895624942, 0.08783936119531177, 0.043919680597655886, 0.043919680597655886, 0.043919680597655886, 0.5585041193183007, 0.055850411931830074, 0.055850411931830074, 0.055850411931830074, 0.055850411931830074, 0.16755123579549022, 0.14490739121264254, 0.4057406953953991, 0.04347221736379276, 0.04347221736379276, 0.028981478242528506, 0.14490739121264254, 0.1304166520913783, 0.05796295648505701, 0.29948869338162454, 0.11092173828949058, 0.12755999903291418, 0.18302086817765945, 0.04991478223027076, 0.027730434572372644, 0.07209912988816887, 0.05546086914474529, 0.04436869531579623, 0.027730434572372644, 0.21293580747391977, 0.10646790373695988, 0.4791055668163195, 0.15970185560543984, 0.5221016035200333, 0.1204849854277, 0.040161661809233334, 0.040161661809233334, 0.1204849854277, 0.08032332361846667, 0.08032332361846667, 0.31572156585984007, 0.39465195732480013, 0.07893039146496002, 0.07893039146496002, 0.15786078292992003, 0.2353920865765473, 0.37385801985686923, 0.006923296664016097, 0.034616483320080486, 0.05538637331212878, 0.04846307664811268, 0.04846307664811268, 0.11077274662425755, 0.034616483320080486, 0.04846307664811268, 0.1596198470072174, 0.4032501398077071, 0.054606789765627, 0.109213579531254, 0.03360417831730893, 0.050406267475963384, 0.08821096808293592, 0.042005222896636156, 0.008401044579327232, 0.050406267475963384, 0.16066642381033874, 0.33824510275860786, 0.15221029624137353, 0.13529804110344315, 0.09301740325861717, 0.05073676541379118, 0.07610514812068676, 0.1262376918999869, 0.18935653784998036, 0.44183192164995416, 0.18935653784998036, 0.06311884594999345, 0.0075439095083335884, 0.16596600918333895, 0.030175638033334354, 0.030175638033334354, 0.1357903711500046, 0.15087819016667178, 0.2036855567250069, 0.24140510426667483, 0.030175638033334354, 0.07481763020033791, 0.07481763020033791, 0.07481763020033791, 0.6733586718030412, 0.07481763020033791, 0.07714043155775482, 0.23142129467326447, 0.07714043155775482, 0.5399830209042837, 0.2389426422361672, 0.2688646791042172, 0.04206431269856301, 0.05594119936200648, 0.0468344924891217, 0.09453629039470862, 0.07588922394070646, 0.07502191852424124, 0.019514371870467374, 0.0828276672724282, 0.2768449065734519, 0.046140817762241985, 0.07690136293706998, 0.16918299846155396, 0.061521090349655985, 0.046140817762241985, 0.23070408881120993, 0.046140817762241985, 0.030760545174827993, 0.14946126100548218, 0.07473063050274109, 0.07473063050274109, 0.14946126100548218, 0.07473063050274109, 0.5231144135191876, 0.4601074383193875, 0.06457648257114211, 0.008072060321392764, 0.02421618096417829, 0.040360301606963814, 0.040360301606963814, 0.36324271446267437, 0.19994954738955403, 0.046142203243743234, 0.046142203243743234, 0.16918807856039186, 0.2768532194624594, 0.06152293765832431, 0.06152293765832431, 0.09228440648748647, 0.030761468829162156, 0.36586320988376114, 0.12195440329458704, 0.3048860082364676, 0.06097720164729352, 0.12195440329458704, 0.04177340173483836, 0.04177340173483836, 0.04177340173483836, 0.12532020520451506, 0.16709360693935343, 0.04177340173483836, 0.08354680346967672, 0.3759606156135452, 0.08354680346967672, 0.02079901295685399, 0.02079901295685399, 0.2287891425253939, 0.5407743368782038, 0.06239703887056197, 0.10399506478426995, 0.12668653249239362, 0.04222884416413121, 0.08445768832826242, 0.08445768832826242, 0.04222884416413121, 0.04222884416413121, 0.04222884416413121, 0.4222884416413121, 0.12668653249239362, 0.48681708834969034, 0.06085213604371129, 0.06085213604371129, 0.09127820406556694, 0.030426068021855646, 0.030426068021855646, 0.030426068021855646, 0.2129824761529895, 0.030426068021855646, 0.08469345171883738, 0.08469345171883738, 0.29642708101593085, 0.04234672585941869, 0.04234672585941869, 0.42346725859418693, 0.04234672585941869, 0.22090845677471896, 0.11045422838735948, 0.16568134258103923, 0.11045422838735948, 0.33136268516207845, 0.05522711419367974, 0.22713846229198897, 0.34070769343798346, 0.34070769343798346, 0.9485463920303318, 0.1801344525153266, 0.1801344525153266, 0.0900672262576633, 0.630470583803643, 0.02531774879177176, 0.1265887439588588, 0.05063549758354352, 0.05063549758354352, 0.05063549758354352, 0.2531774879177176, 0.02531774879177176, 0.3291307342930329, 0.10127099516708704, 0.05526132462650665, 0.05526132462650665, 0.2210452985060266, 0.05526132462650665, 0.1105226492530133, 0.16578397387951996, 0.3315679477590399, 0.1457061937103974, 0.0728530968551987, 0.0728530968551987, 0.32783893584839413, 0.4006920327035928, 0.13437627877633695, 0.12861729540020822, 0.023035933504514904, 0.06910780051354472, 0.11709932864795077, 0.04415220588365357, 0.1458942455285944, 0.10174203964494083, 0.05758983376128726, 0.18044814578536675, 0.1739825543776572, 0.10438953262659433, 0.06959302175106288, 0.03479651087553144, 0.4175581305063773, 0.03479651087553144, 0.06959302175106288, 0.06959302175106288, 0.179454479999252, 0.12423771692255907, 0.0966293353842126, 0.11043352615338584, 0.01380419076917323, 0.02760838153834646, 0.041412572307519685, 0.2346712430759449, 0.179454479999252, 0.0638165849667766, 0.042544389977851066, 0.021272194988925533, 0.3935356072951224, 0.20208585239479257, 0.10636097494462768, 0.13826926742801599, 0.0319082924833883, 0.06370158103217016, 0.06370158103217016, 0.25480632412868065, 0.25480632412868065, 0.38220948619302103, 0.28146997016777436, 0.16888198210066463, 0.056293994033554874, 0.056293994033554874, 0.39405795823488415, 0.056293994033554874, 0.09670255089742325, 0.09670255089742325, 0.386810203589693, 0.09670255089742325, 0.29010765269226974, 0.08401722258542356, 0.12602583387813535, 0.07001435215451964, 0.09802009301632748, 0.028005740861807852, 0.12602583387813535, 0.08401722258542356, 0.07001435215451964, 0.2520516677562707, 0.07001435215451964, 0.08280351335588024, 0.08280351335588024, 0.08280351335588024, 0.16560702671176047, 0.4968210801352814, 0.11968274061501293, 0.11968274061501293, 0.17952411092251938, 0.41888959215254523, 0.05984137030750646, 0.11968274061501293, 0.31632803734569903, 0.09037943924162829, 0.11297429905203536, 0.4744920560185485, 0.11412546837043319, 0.095104556975361, 0.41846005069158837, 0.057062734185216596, 0.11412546837043319, 0.0380418227901444, 0.0760836455802888, 0.0760836455802888, 0.0190209113950722, 0.3768368111871754, 0.09420920279679385, 0.09420920279679385, 0.09420920279679385, 0.09420920279679385, 0.28262760839038154, 0.12378551545721234, 0.20115146261797004, 0.046419568296454626, 0.046419568296454626, 0.03868297358037885, 0.06189275772860617, 0.16246848903759117, 0.20115146261797004, 0.06962935244468194, 0.06189275772860617, 0.1010329671563328, 0.4041318686253312, 0.4041318686253312, 0.3394398975056477, 0.13644700987047453, 0.1028944664597021, 0.06822350493523727, 0.06934192304892968, 0.0637498324804676, 0.039703843036080703, 0.13980226421155176, 0.026842034728617938, 0.013421017364308969, 0.012836891828143675, 0.2952485120473045, 0.038510675484431024, 0.0513475673125747, 0.0513475673125747, 0.02567378365628735, 0.0513475673125747, 0.12836891828143676, 0.02567378365628735, 0.3080854038754482, 0.06664113368610938, 0.06664113368610938, 0.06664113368610938, 0.7996936042333126, 0.12648813498031575, 0.35416677794488405, 0.505952539921263, 0.07396776466209344, 0.024655921554031145, 0.2712151370943426, 0.04931184310806229, 0.09862368621612458, 0.3944947448644983, 0.09862368621612458, 0.05047444399118219, 0.5552188839030041, 0.025237221995591096, 0.07571166598677329, 0.025237221995591096, 0.15142333197354657, 0.12618610997795549, 0.025237221995591096, 0.32427394974518114, 0.08106848743629529, 0.026228040052919063, 0.0691466510486048, 0.04530297827322383, 0.15975260759505247, 0.0691466510486048, 0.030996774607995253, 0.1359089348196715, 0.05960918193845241, 0.42637271278109445, 0.26928802912490174, 0.022440669093741813, 0.06732200728122543, 0.13464401456245087, 0.06732200728122543, 0.3194570930756534, 0.045636727582236206, 0.36509382065788964, 0.045636727582236206, 0.1369101827467086, 0.09127345516447241, 0.11989259926480277, 0.05994629963240138, 0.47957039705921106, 0.17983889889720414, 0.05994629963240138, 0.05994629963240138, 0.05994629963240138, 0.16877702998285044, 0.16395482912619758, 0.18324363255280907, 0.15431042741289183, 0.2700432479725607, 0.00482220085665287, 0.01928880342661148, 0.02893320513991722, 0.07382689136773778, 0.4429613482064267, 0.3691344568386889, 0.07382689136773778, 0.07382689136773778, 0.08443985572262427, 0.028146618574208093, 0.056293237148416185, 0.5066391343357457, 0.028146618574208093, 0.07036654643552023, 0.04221992786131214, 0.16887971144524855, 0.3523076885585821, 0.12254180471602855, 0.10722407912652497, 0.06433444747591498, 0.045953176768510705, 0.07352508282961713, 0.08271571818331927, 0.049016721886411416, 0.07352508282961713, 0.030635451179007137, 0.16657099682709894, 0.19529013421108152, 0.04020679233757561, 0.10338889458233728, 0.04595061981437212, 0.028719137383982577, 0.1435956869199129, 0.057438274767965154, 0.06318210224476167, 0.15508334187350592, 0.17001153281603515, 0.3966935765707487, 0.056670510938678385, 0.17001153281603515, 0.056670510938678385, 0.17001153281603515, 0.1598304813217046, 0.1598304813217046, 0.053276827107234866, 0.47949144396511384, 0.10655365421446973, 0.49860596442448235, 0.062325745553060294, 0.12465149110612059, 0.062325745553060294, 0.12465149110612059, 0.062325745553060294, 0.12465149110612059, 0.530160936166877, 0.11781354137041711, 0.11781354137041711, 0.058906770685208554, 0.11781354137041711, 0.058906770685208554, 0.11921878562566281, 0.059609392812831404, 0.41726574968981983, 0.11921878562566281, 0.059609392812831404, 0.1788281784384942, 0.04387215239040098, 0.04387215239040098, 0.08774430478080196, 0.26323291434240587, 0.08774430478080196, 0.3948493715136088, 0.04387215239040098, 0.3047013266959251, 0.043528760956560726, 0.3917588486090466, 0.043528760956560726, 0.043528760956560726, 0.13058628286968219, 0.1430278738124609, 0.09535191587497394, 0.04767595793748697, 0.1430278738124609, 0.1430278738124609, 0.09535191587497394, 0.3337317055624088, 0.04767595793748697, 0.12490089657229617, 0.0749405379433777, 0.04996035862891847, 0.024980179314459235, 0.0749405379433777, 0.3747026897168885, 0.04996035862891847, 0.19984143451567388, 0.1562478541269732, 0.1562478541269732, 0.0781239270634866, 0.390619635317433, 0.2343717811904598, 0.33408803666175474, 0.15721789960553165, 0.2751313243096804, 0.019652237450691456, 0.03930447490138291, 0.03930447490138291, 0.019652237450691456, 0.019652237450691456, 0.11791342470414874, 0.15417379838685025, 0.10511849890012517, 0.07708689919342512, 0.05606319941340009, 0.11212639882680019, 0.0630710993400751, 0.21023699780025035, 0.04204739956005007, 0.08409479912010014, 0.08409479912010014, 0.2454619581026963, 0.19091485630209712, 0.5454710180059917, 0.6562964297794803, 0.21876547659316012, 0.6345677233509271, 0.19037031700527815, 0.06345677233509271, 0.06345677233509271, 0.15223576343634687, 0.07611788171817344, 0.07611788171817344, 0.15223576343634687, 0.30447152687269374, 0.2283536451545203, 0.07378984472754382, 0.2213695341826315, 0.36894922363771915, 0.07378984472754382, 0.07378984472754382, 0.07378984472754382, 0.07378984472754382, 0.09935806732045467, 0.19871613464090934, 0.19871613464090934, 0.19871613464090934, 0.29807420196136397, 0.06736051263760431, 0.5388841011008345, 0.06736051263760431, 0.06736051263760431, 0.26944205055041726, 0.23030675229383044, 0.07676891743127681, 0.07676891743127681, 0.025589639143758936, 0.12794819571879468, 0.07676891743127681, 0.30707566972510725, 0.07676891743127681, 0.36791176307274776, 0.630705879553282, 0.1473616892248087, 0.07368084461240434, 0.33156380075581954, 0.11052126691860652, 0.1473616892248087, 0.18420211153101085, 0.10606557574861068, 0.3447131211829847, 0.07954918181145801, 0.15909836362291602, 0.2916803333086794, 0.07065490963096703, 0.11775818271827837, 0.5416876405040805, 0.0942065461746227, 0.07065490963096703, 0.07065490963096703, 0.023551636543655673, 0.1769329931742791, 0.051605456342498066, 0.02948883219571318, 0.20642182536999226, 0.1621885770764225, 0.03686104024464148, 0.044233248293569775, 0.08846649658713955, 0.11058312073392443, 0.10321091268499613, 0.019064153712480048, 0.019064153712480048, 0.09532076856240024, 0.8578869170616021, 0.0564956662560599, 0.0564956662560599, 0.07532755500807987, 0.01883188875201997, 0.546124773808579, 0.07532755500807987, 0.0564956662560599, 0.13182322126413978, 0.12981872329559407, 0.05192748931823763, 0.025963744659118815, 0.07789123397735645, 0.6490936164779704, 0.05192748931823763, 0.07839143589322638, 0.28743526494183, 0.026130478631075458, 0.04355079771845909, 0.12194223361168546, 0.23517430767967912, 0.07839143589322638, 0.03484063817476728, 0.06968127634953455, 0.01742031908738364, 0.19382649923484538, 0.45226183154797256, 0.0215362776927606, 0.032304416539140894, 0.0861451107710424, 0.0215362776927606, 0.0107681388463803, 0.18305836038846507, 0.24542220726422226, 0.19088393898328399, 0.5453826828093827, 0.2627422687958173, 0.061630902557043565, 0.09406821969232965, 0.16867404910348766, 0.03243731713528609, 0.15894285396290184, 0.09731195140585826, 0.029193585421757477, 0.04541224398940052, 0.04865597570292913, 0.05964132423318117, 0.11928264846636234, 0.5964132423318117, 0.11928264846636234, 0.05964132423318117, 0.42604927952548977, 0.269083755489783, 0.022423646290815252, 0.06727093887244576, 0.11211823145407625, 0.06727093887244576, 0.11975869552909613, 0.03421677015117032, 0.4619263970407993, 0.1710838507558516, 0.01710838507558516, 0.05132515522675548, 0.03421677015117032, 0.06843354030234064, 0.05132515522675548, 0.5832397942030744, 0.0729049742753843, 0.0729049742753843, 0.1458099485507686, 0.1458099485507686, 0.1447729902672625, 0.1447729902672625, 0.018096623783407813, 0.02714493567511172, 0.23525610918430157, 0.09048311891703906, 0.09953143080874297, 0.1447729902672625, 0.018096623783407813, 0.07238649513363125, 0.026144538222052854, 0.13072269111026427, 0.026144538222052854, 0.026144538222052854, 0.026144538222052854, 0.05228907644410571, 0.026144538222052854, 0.47060168799695135, 0.23530084399847567, 0.042194167023207725, 0.12658250106962315, 0.6329125053481158, 0.1687766680928309, 0.06668753623811334, 0.06668753623811334, 0.20006260871434, 0.40012521742868, 0.06668753623811334, 0.06668753623811334, 0.06668753623811334, 0.22441438272121733, 0.19947945130774875, 0.049869862826937186, 0.4986986282693719, 0.11647632192343206, 0.4076671267320122, 0.05823816096171603, 0.05823816096171603, 0.11647632192343206, 0.05823816096171603, 0.05823816096171603, 0.11647632192343206, 0.11944998040096749, 0.07963332026731167, 0.07963332026731167, 0.5176165817375258, 0.11944998040096749, 0.07963332026731167, 0.37515039354623486, 0.03126253279551957, 0.40641292634175447, 0.03126253279551957, 0.03126253279551957, 0.09378759838655872, 0.2074313639281466, 0.1037156819640733, 0.1037156819640733, 0.1037156819640733, 0.4148627278562932, 0.0496116779904733, 0.3472817459333131, 0.016537225996824435, 0.0496116779904733, 0.31420729393966423, 0.23152116395554206, 0.064564286770278, 0.37124464892909853, 0.0161410716925695, 0.0807053584628475, 0.032282143385139, 0.048423215077708505, 0.1129875018479865, 0.0807053584628475, 0.048423215077708505, 0.129128573540556, 0.10343484730548996, 0.7240439311384297, 0.10343484730548996, 0.6923650400526689, 0.11539417334211148, 0.17309126001316721, 0.14029167828919908, 0.6546944986829291, 0.18705557105226545, 0.0688528619952034, 0.12393515159136612, 0.013770572399040679, 0.027541144798081358, 0.44065831676930173, 0.12393515159136612, 0.11016457919232543, 0.013770572399040679, 0.013770572399040679, 0.0688528619952034, 0.08525378175155644, 0.04262689087577822, 0.04262689087577822, 0.04262689087577822, 0.6820302540124515, 0.08525378175155644, 0.08516217903477576, 0.2554865371043273, 0.04258108951738788, 0.1703243580695515, 0.2767770818630212, 0.1703243580695515, 0.06408251541954588, 0.09612377312931882, 0.8010314427443235, 0.1624548618670326, 0.18226643038740242, 0.015849254816295864, 0.10302015630592311, 0.08320858778555328, 0.1743418029792545, 0.09113321519370121, 0.11094478371407104, 0.023773882224443797, 0.051510078152961554, 0.09994471097092918, 0.09994471097092918, 0.19988942194185835, 0.19988942194185835, 0.3997788438837167, 0.5745597995492318, 0.040461957714734625, 0.17803261394483236, 0.032369566171787705, 0.024277174628840777, 0.032369566171787705, 0.06473913234357541, 0.016184783085893852, 0.016184783085893852, 0.008092391542946926, 0.048077882354502506, 0.2083374902028442, 0.08012980392417085, 0.14423364706350753, 0.06410384313933667, 0.08012980392417085, 0.06410384313933667, 0.3044932549118492, 0.01602596078483417, 0.08807086448229416, 0.35228345792917665, 0.17614172896458832, 0.08807086448229416, 0.17614172896458832, 0.08807086448229416, 0.09871451662548425, 0.019742903325096848, 0.05922870997529055, 0.1974290332509685, 0.1184574199505811, 0.019742903325096848, 0.3751151631768401, 0.039485806650193696, 0.05922870997529055, 0.039485806650193696, 0.11008914017650634, 0.11008914017650634, 0.330267420529519, 0.11008914017650634, 0.05504457008825317, 0.2752228504412658, 0.22771282074858412, 0.04554256414971682, 0.08349470094114751, 0.007590427358286138, 0.02277128207485841, 0.1593989745240089, 0.18976068395715345, 0.030361709433144552, 0.11385641037429206, 0.12903726509086433, 0.4197984053453106, 0.01447580708087278, 0.01447580708087278, 0.01447580708087278, 0.043427421242618336, 0.4487500195070562, 0.043427421242618336, 0.08564925776107053, 0.03670682475474451, 0.04894243300632602, 0.46495311356009716, 0.04894243300632602, 0.13459169076739655, 0.03670682475474451, 0.02447121650316301, 0.03670682475474451, 0.07341364950948902, 0.12875947469468818, 0.08583964979645879, 0.7725568481681291, 0.014306608299409797, 0.09567577970356492, 0.2870273391106947, 0.6697304579249544, 0.5213442993367279, 0.057927144370747544, 0.057927144370747544, 0.11585428874149509, 0.17378143311224262, 0.057927144370747544, 0.050738863491607875, 0.5581274984076866, 0.050738863491607875, 0.050738863491607875, 0.050738863491607875, 0.1522165904748236, 0.050738863491607875, 0.10433033678408629, 0.10433033678408629, 0.052165168392043146, 0.5216516839204315, 0.052165168392043146, 0.052165168392043146, 0.052165168392043146, 0.10433033678408629, 0.18251148214113802, 0.1403934478008754, 0.02807868956017508, 0.04211803434026262, 0.08423606868052524, 0.336944274722101, 0.0701967239004377, 0.08423606868052524, 0.04211803434026262, 0.20001511823377865, 0.1974508218461661, 0.0820574844036015, 0.05128592775225094, 0.07949318801598895, 0.13590770854346498, 0.0384644458141882, 0.02307866748851292, 0.16155067241959045, 0.030771556651350562, 0.1798170116746936, 0.02568814452495623, 0.02568814452495623, 0.10275257809982492, 0.333945878824431, 0.02568814452495623, 0.15412886714973736, 0.07706443357486868, 0.05137628904991246, 0.05137628904991246, 0.18171421171693156, 0.13628565878769866, 0.06814282939384933, 0.11357138232308223, 0.04542855292923289, 0.06814282939384933, 0.38614269989847955, 0.022714276464616445, 0.2919362867200075, 0.06192587900121371, 0.11500520385939689, 0.19757304252768185, 0.0029488513810101767, 0.04128391933414247, 0.12385175800242743, 0.05307932485818318, 0.06192587900121371, 0.050130473477173004, 0.02646022026341309, 0.02646022026341309, 0.05292044052682618, 0.8467270484292189, 0.02646022026341309, 0.5331526106508292, 0.041011739280833015, 0.2460704356849981, 0.06151760892124952, 0.020505869640416508, 0.08202347856166603, 0.020505869640416508, 0.03535745137619627, 0.2357163425079751, 0.03535745137619627, 0.2946454281349689, 0.047143268501595025, 0.03535745137619627, 0.03535745137619627, 0.09428653700319005, 0.08250071987779128, 0.11785817125398755, 0.17811101777227606, 0.17811101777227606, 0.3562220355445521, 0.17811101777227606, 0.08905550888613803, 0.09058196923940434, 0.3170368923379152, 0.06793647692955326, 0.2038094307886598, 0.18116393847880868, 0.11322746154925543, 0.49294450579126886, 0.07042064368446697, 0.3521032184223349, 0.01539827580145574, 0.09238965480873444, 0.1539827580145574, 0.03849568950363935, 0.03849568950363935, 0.22327499912110824, 0.10778793061019018, 0.06929224110655083, 0.2540715507240197, 0.07964021364008625, 0.3982010682004312, 0.318560854560345, 0.07964021364008625, 0.08186981173044139, 0.040934905865220694, 0.040934905865220694, 0.08186981173044139, 0.08186981173044139, 0.12280471759566208, 0.040934905865220694, 0.040934905865220694, 0.532153776247869, 0.2751883501633254, 0.0458647250272209, 0.0458647250272209, 0.3669178002177672, 0.2293236251361045, 0.0458647250272209, 0.08003521889806349, 0.053356812598708996, 0.10671362519741799, 0.10671362519741799, 0.053356812598708996, 0.3468192818916085, 0.053356812598708996, 0.026678406299354498, 0.18674884409548148, 0.12819967111256386, 0.4989392605461945, 0.04504312768819811, 0.08662139940038098, 0.034648559760152395, 0.051972839640228585, 0.010394567928045717, 0.06236740756827431, 0.06583226354428955, 0.013859423904060957, 0.08909190215913504, 0.04454595107956752, 0.04454595107956752, 0.35636760863654016, 0.40091355971610765, 0.08909190215913504, 0.06312996894167161, 0.06312996894167161, 0.06312996894167161, 0.12625993788334322, 0.6312996894167161, 0.427311889679153, 0.04498019891359505, 0.10120544755558887, 0.04498019891359505, 0.022490099456797526, 0.23614604429637404, 0.022490099456797526, 0.022490099456797526, 0.022490099456797526, 0.05622524864199382, 0.19075546574827157, 0.33382206505947526, 0.06069492091990459, 0.021676757471394498, 0.03901816344851009, 0.04768886643706789, 0.043353514942788995, 0.14740195080548257, 0.004335351494278899, 0.11705449034553028, 0.3885206953837184, 0.07770413907674367, 0.038852069538371836, 0.11655620861511552, 0.3885206953837184, 0.21077931606511974, 0.07025977202170658, 0.2810390880868263, 0.3512988601085329, 0.07025977202170658, 0.06635549022737029, 0.5308439218189623, 0.1990664706821109, 0.13271098045474058, 0.16645236040446615, 0.4993570812133984, 0.05548412013482205, 0.05548412013482205, 0.05548412013482205, 0.027742060067411024, 0.1109682402696441, 0.7813650718282953, 0.07813650718282952, 0.07813650718282952, 0.21745924698912913, 0.21745924698912913, 0.054364811747282284, 0.16309443524184686, 0.3261888704836937, 0.07136596782361526, 0.49956177476530683, 0.14273193564723052, 0.07136596782361526, 0.21409790347084579, 0.055866815754644056, 0.22346726301857622, 0.5307347496691186, 0.08380022363196608, 0.055866815754644056, 0.08380022363196608, 0.2278123629187371, 0.0759374543062457, 0.1518749086124914, 0.0759374543062457, 0.3796872715312285, 0.1518749086124914, 0.14793646136918012, 0.1873861844009615, 0.0690370153056174, 0.24656076894863355, 0.0690370153056174, 0.029587292273836024, 0.03944972303178137, 0.029587292273836024, 0.08876187682150807, 0.10848673833739876, 0.2294765951063269, 0.40158404143607207, 0.17210744632974517, 0.057369148776581724, 0.057369148776581724, 0.057369148776581724, 0.024116851837063594, 0.7958561106230986, 0.024116851837063594, 0.07235055551119078, 0.07235055551119078, 0.2452306371691547, 0.19073494002045366, 0.5449569714870104, 0.40475429625060144, 0.24285257775036084, 0.08095085925012029, 0.08095085925012029, 0.08095085925012029, 0.6854665741559663, 0.21646312868083148, 0.07215437622694383, 0.025318668562698182, 0.025318668562698182, 0.050637337125396364, 0.025318668562698182, 0.3038240227523782, 0.17723067993888728, 0.35446135987777455, 0.050637337125396364, 0.1312572745406836, 0.5250290981627344, 0.1312572745406836, 0.1312572745406836, 0.19183219611086536, 0.14387414708314902, 0.04795804902771634, 0.09591609805543268, 0.5754965883325961, 0.7951757966807368, 0.024096236263052632, 0.0722887087891579, 0.024096236263052632, 0.0722887087891579, 0.09886437312464601, 0.33366725929568025, 0.06179023320290375, 0.16065460632754974, 0.0741482798434845, 0.13593851304638827, 0.049432186562323004, 0.0741482798434845, 0.34450702642837566, 0.03131882058439779, 0.06263764116879558, 0.06263764116879558, 0.3758258470127735, 0.03131882058439779, 0.09395646175319337, 0.230687232956043, 0.5767180823901075, 0.1153436164780215, 0.11329687043778938, 0.22659374087557876, 0.6231327874078416, 0.05664843521889469, 0.2538433580277947, 0.5076867160555893, 0.190382518520846, 0.5327956413546635, 0.08879927355911058, 0.08879927355911058, 0.13319891033866588, 0.13319891033866588, 0.04439963677955529, 0.04439963677955529, 0.0666476245032612, 0.1332952490065224, 0.19994287350978363, 0.19994287350978363, 0.333238122516306, 0.0666476245032612, 0.08345602964999294, 0.08345602964999294, 0.08345602964999294, 0.16691205929998587, 0.33382411859997174, 0.08345602964999294, 0.08345602964999294, 0.07074558051342696, 0.6367102246208427, 0.2829823220537078, 0.29219214049542225, 0.04869869008257038, 0.04869869008257038, 0.389589520660563, 0.14609607024771112, 0.09739738016514075, 0.4926408510523594, 0.023459088145350446, 0.09383635258140179, 0.09383635258140179, 0.023459088145350446, 0.07037726443605134, 0.09383635258140179, 0.11729544072675224, 0.07913412831889573, 0.1978353207972393, 0.4748047699133744, 0.15826825663779145, 0.07913412831889573, 0.5152248579964473, 0.07360355114234961, 0.29441420456939843, 0.14720710228469921, 0.1469000680115754, 0.734500340057877, 0.0979333786743836, 0.027891591516812024, 0.027891591516812024, 0.1115663660672481, 0.16734954910087213, 0.4462654642689924, 0.08367477455043607, 0.027891591516812024, 0.1115663660672481], \"Term\": [\"'s\", \"'s\", \"'s\", \"'s\", \"'s\", \"'s\", \"'s\", \"'s\", \"'s\", \"'s\", \"[_]\", \"[_]\", \"[_]\", \"[_]\", \"[_]\", \"[_]\", \"[_]\", \"[_]\", \"[_]\", \"]\", \"]\", \"]\", \"]\", \"]\", \"]\", \"]\", \"]\", \"abovecaptioned_action\", \"abovecaptioned_action\", \"abovecaptioned_action\", \"abovecaptioned_action\", \"abovecaptioned_action\", \"abovecaptioned_action\", \"absolute_return_fund_l.p.\", \"absolute_return_fund_l.p.\", \"absolute_return_fund_l.p.\", \"absolute_return_fund_l.p.\", \"absolute_return_fund_l.p.\", \"absolute_return_fund_l.p.\", \"absolute_return_fund_l.p.\", \"accompany\", \"accompany\", \"accompany\", \"accompany\", \"accompany\", \"accompany\", \"accompany\", \"account\", \"account\", \"account\", \"account\", \"account\", \"act\", \"act\", \"act\", \"act\", \"act\", \"act\", \"act\", \"action\", \"action\", \"action\", \"action\", \"action\", \"action\", \"action\", \"action\", \"action\", \"action\", \"adar_bay\", \"adar_bay\", \"adar_bay\", \"adar_bay\", \"address_judge\", \"address_judge\", \"address_judge\", \"address_judge\", \"address_judge\", \"address_judge\", \"address_judge\", \"address_judge\", \"adjournment\", \"adjournment\", \"adjournment\", \"adjournment\", \"adjournment\", \"adjournment\", \"adjournment\", \"administration\", \"administration\", \"administration\", \"administration\", \"administration\", \"administration\", \"ae\", \"ae\", \"ae\", \"ae\", \"ae\", \"ae\", \"affect\", \"affect\", \"affect\", \"affect\", \"affect\", \"affect\", \"affect\", \"affect\", \"affidavit_service\", \"affidavit_service\", \"affidavit_service\", \"affidavit_service\", \"affidavit_service\", \"affidavit_service\", \"affidavit_service\", \"affidavit_service\", \"affidavit_service\", \"affidavit_service_summons\", \"affidavit_service_summons\", \"affidavit_service_summons\", \"affidavit_service_summons\", \"affidavit_service_summons\", \"affidavit_service_summons\", \"affidavit_service_summons\", \"affidavit_service_summons\", \"affidavit_service_summons_complaint\", \"affidavit_service_summons_complaint\", \"affidavit_service_summons_complaint\", \"affidavit_service_summons_complaint\", \"affidavit_service_summons_complaint\", \"affidavit_service_summons_complaint\", \"affidavit_service_summons_complaint\", \"affidavit_service_summons_complaint\", \"affidavit_support\", \"affidavit_support\", \"affidavit_support\", \"affidavit_support\", \"affidavit_support\", \"affidavit_support\", \"affirmative_defense\", \"affirmative_defense\", \"affirmative_defense\", \"affirmative_defense\", \"affirmative_defense\", \"affirmative_defense\", \"affirmative_defense\", \"agent\", \"agent\", \"agent\", \"agent\", \"agent\", \"agent\", \"allege\", \"allege\", \"allege\", \"allege\", \"ama\", \"ama\", \"ama\", \"ama\", \"ama\", \"amend_complaint\", \"amend_complaint\", \"amend_complaint\", \"amend_complaint\", \"amend_complaint\", \"amend_complaint\", \"amend_complaint\", \"amend_complaint\", \"amend_complaint\", \"anc\", \"anc\", \"anc\", \"anc\", \"answer\", \"answer\", \"answer\", \"answer\", \"answer\", \"answer\", \"answer\", \"answer\", \"answer\", \"answer\", \"answer_amend_complaint\", \"answer_amend_complaint\", \"answer_amend_complaint\", \"answer_amend_complaint\", \"answer_amend_complaint\", \"answer_amend_complaint\", \"answer_amend_complaint\", \"answer_complaint\", \"answer_complaint\", \"answer_complaint\", \"answer_complaint\", \"answer_complaint\", \"answer_complaint\", \"answer_complaint\", \"answer_complaint\", \"answer_complaint\", \"answer_due\", \"answer_due\", \"answer_due\", \"answer_due\", \"answer_due_answer_due\", \"answer_due_answer_due\", \"answer_due_answer_due\", \"answer_due_answer_due\", \"appeal\", \"appeal\", \"appeal\", \"appeal\", \"appeal\", \"appeal\", \"appeal_bond\", \"appeal_bond\", \"appeal_bond\", \"appeal_bond\", \"april\", \"april\", \"april\", \"april\", \"april\", \"april\", \"april\", \"april\", \"april\", \"april\", \"assignment\", \"assignment\", \"assignment\", \"assignment\", \"assignment\", \"assignment\", \"associate_case\", \"associate_case\", \"associate_case\", \"associate_case\", \"associate_case\", \"associate_case\", \"associate_case\", \"associate_case\", \"associate_case\", \"associate_case_et_al\", \"associate_case_et_al\", \"associate_case_et_al\", \"associate_case_et_al\", \"associate_case_et_al\", \"associate_case_rjm\", \"associate_case_rjm\", \"associate_case_rjm\", \"associate_case_rjm\", \"associate_case_rjm\", \"associate_case_rjm\", \"associate_case_rjm\", \"associate_case_rjm\", \"associated_case\", \"associated_case\", \"associated_case\", \"associated_case\", \"associated_case\", \"associated_case\", \"associated_case\", \"associated_case\", \"associated_case\", \"associated_case_et_al\", \"associated_case_et_al\", \"associated_case_et_al\", \"associated_case_et_al\", \"associated_case_et_al\", \"associated_case_et_al\", \"associated_case_et_al\", \"associated_case_ft\", \"associated_case_ft\", \"associated_case_ft\", \"associated_case_ft\", \"attachment\", \"attachment\", \"attachment\", \"attachment\", \"attachment\", \"attachment\", \"attachment\", \"attachment\", \"attachment\", \"attachment\", \"attempt\", \"attempt\", \"attempt\", \"attempt\", \"attempt\", \"attempt\", \"attorney\", \"attorney\", \"attorney\", \"attorney\", \"attorney\", \"attorney\", \"attorney\", \"attorney\", \"attorney\", \"attorney_responsible_provide_courtesy\", \"attorney_responsible_provide_courtesy\", \"attorney_responsible_provide_courtesy\", \"attorney_responsible_provide_courtesy\", \"attorney_terminate\", \"attorney_terminate\", \"attorney_terminate\", \"attorney_terminate\", \"attorney_terminate\", \"award\", \"award\", \"award\", \"award\", \"b\", \"b\", \"b\", \"b\", \"b\", \"b\", \"b\", \"b\", \"b\", \"b\", \"b_rule_..\", \"b_rule_..\", \"b_rule_..\", \"b_rule_..\", \"b_rule_..\", \"c\", \"c\", \"c\", \"c\", \"c\", \"c\", \"c\", \"c\", \"c\", \"c\", \"cal\", \"cal\", \"cal\", \"cal\", \"calculation\", \"calculation\", \"calculation\", \"calculation\", \"calculation\", \"call\", \"call\", \"call\", \"call\", \"call\", \"call\", \"call\", \"case\", \"case\", \"case\", \"case\", \"case\", \"case\", \"case\", \"case\", \"case\", \"case\", \"case_assign\", \"case_assign\", \"case_assign\", \"case_assign\", \"case_designate\", \"case_designate\", \"case_designate\", \"case_designate\", \"case_designate\", \"cd\", \"cd\", \"cd\", \"cd\", \"cd\", \"cd\", \"cd\", \"cd\", \"cd\", \"certain_underwriter_syndicate\", \"certain_underwriter_syndicate\", \"certain_underwriter_syndicate\", \"certain_underwriter_syndicate\", \"certain_underwriter_syndicate\", \"certain_underwriter_syndicate\", \"certain_underwriter_syndicate\", \"certificate\", \"certificate\", \"certificate\", \"certificate\", \"certificate\", \"certificate\", \"certification\", \"certification\", \"certification\", \"certification\", \"certification\", \"certification\", \"certify\", \"certify\", \"certify\", \"certify\", \"certify\", \"certify\", \"certify\", \"certify_copy_docket_sheet\", \"certify_copy_docket_sheet\", \"certify_copy_docket_sheet\", \"certify_copy_docket_sheet\", \"cf\", \"cf\", \"cf\", \"civ\", \"civ\", \"civ\", \"civ\", \"civ\", \"civ\", \"civ\", \"civil\", \"civil\", \"civil\", \"civil\", \"civil\", \"civil\", \"civil\", \"civil_action\", \"civil_action\", \"civil_action\", \"civil_action\", \"claim\", \"claim\", \"claim\", \"claim\", \"claim\", \"claim\", \"claim\", \"claim\", \"claim\", \"claim\", \"claim_administrator\", \"claim_administrator\", \"claim_administrator\", \"claim_administrator\", \"claim_administrator\", \"claim_administrator\", \"claim_administrator\", \"class_plaintiff_'\", \"class_plaintiff_'\", \"class_plaintiff_'\", \"class_plaintiff_'\", \"clerk\", \"clerk\", \"clerk\", \"clerk\", \"clerk\", \"clerk\", \"clerk\", \"clerk\", \"clerk\", \"clerk\", \"complaint\", \"complaint\", \"complaint\", \"complaint\", \"complaint\", \"complaint\", \"complaint\", \"complaint\", \"complaint\", \"complaint\", \"complete\", \"complete\", \"complete\", \"complete\", \"complete\", \"complete\", \"complete\", \"complete\", \"complete\", \"comply\", \"comply\", \"comply\", \"comply\", \"comply\", \"conference\", \"conference\", \"conference\", \"conference\", \"conference\", \"conference\", \"conference\", \"conference\", \"conference\", \"conference\", \"conference_proceed_hold\", \"conference_proceed_hold\", \"conference_proceed_hold\", \"coordinate_action\", \"coordinate_action\", \"coordinate_action\", \"copy\", \"copy\", \"copy\", \"copy\", \"copy\", \"copy\", \"copy\", \"copy\", \"copy\", \"copy\", \"copy_mail\", \"copy_mail\", \"copy_mail\", \"copy_mail_chamber\", \"copy_mail_chamber\", \"copy_mail_chamber\", \"copy_send_chamber\", \"copy_send_chamber\", \"copy_send_chamber\", \"copy_send_chamber\", \"copy_send_chamber\", \"copy_send_chamber\", \"corp..\", \"corp..\", \"corp..\", \"corp..\", \"corp..\", \"corporate_parent\", \"corporate_parent\", \"corporate_parent\", \"cote\", \"cote\", \"cote\", \"cote\", \"cote\", \"cote\", \"counsel\", \"counsel\", \"counsel\", \"counsel\", \"counsel\", \"counsel\", \"counsel\", \"counsel\", \"counsel\", \"counsel\", \"counsel_write\", \"counsel_write\", \"counsel_write\", \"counsel_write\", \"counsel_write\", \"counterclaim\", \"counterclaim\", \"counterclaim\", \"counterclaim\", \"counterclaim\", \"counterclaim\", \"counterclaim\", \"counterclaim\", \"court\", \"court\", \"court\", \"court\", \"court\", \"court\", \"court\", \"court\", \"court\", \"court\", \"court_notice_intent\", \"court_notice_intent\", \"court_notice_intent\", \"court_notice_intent\", \"court_notice_intent\", \"court_notice_intent\", \"court_reportertranscriber\", \"court_reportertranscriber\", \"court_reportertranscriber\", \"court_reportertranscriber\", \"court_reportertranscriber\", \"court_reportertranscriber_abovecaptioned_matter\", \"court_reportertranscriber_abovecaptioned_matter\", \"court_reportertranscriber_abovecaptioned_matter\", \"court_reportertranscriber_abovecaptioned_matter\", \"courtroom_pearl_street_new\", \"courtroom_pearl_street_new\", \"courtroom_pearl_street_new\", \"courtroom_pearl_street_new\", \"courtroom_pearl_street_new\", \"courtroom_pearl_street_new\", \"crossclaim\", \"crossclaim\", \"crossclaim\", \"crossclaim\", \"crossclaim\", \"crossclaim\", \"crossclaim\", \"crossclaim\", \"crossclaim\", \"cyr\", \"cyr\", \"cyr\", \"cyr\", \"cyr\", \"cyr\", \"date\", \"date\", \"date\", \"date\", \"date\", \"date\", \"date\", \"date\", \"date\", \"date\", \"date_dec_dkt\", \"date_dec_dkt\", \"date_dec_dkt\", \"date_dec_dkt\", \"date_dec_dkt\", \"date_may_obtain\", \"date_may_obtain\", \"date_may_obtain\", \"date_may_obtain\", \"date_may_obtain\", \"date_purs\", \"date_purs\", \"date_purs\", \"date_purs\", \"date_purs\", \"date_purs\", \"db\", \"db\", \"db\", \"db\", \"db\", \"db\", \"db\", \"db\", \"decision\", \"decision\", \"decision\", \"decision\", \"decision\", \"decision\", \"decision\", \"declaration\", \"declaration\", \"declaration\", \"declaration\", \"declaration\", \"declaration\", \"declaration\", \"declaration\", \"declaration\", \"declaration\", \"declaration_opposition\", \"declaration_opposition\", \"declaration_opposition\", \"declaration_opposition\", \"declaration_opposition\", \"declaration_opposition\", \"declaration_opposition\", \"declaration_opposition\", \"declaration_opposition\", \"declaration_support\", \"declaration_support\", \"declaration_support\", \"declaration_support\", \"declaration_support\", \"declaration_support\", \"declaration_support\", \"declaration_support\", \"declaration_support\", \"declaration_support\", \"defendant\", \"defendant\", \"defendant\", \"defendant\", \"defendant\", \"defendant\", \"defendant\", \"defendant\", \"defendant\", \"defendant\", \"defendant_'\", \"defendant_'\", \"defendant_'\", \"defendant_'\", \"defendant_'\", \"defendant_'\", \"defendant_'\", \"defendant_'\", \"defendant_'\", \"defendant_'\", \"defts\", \"defts\", \"defts\", \"defts\", \"deny\", \"deny\", \"deny\", \"deny\", \"deny\", \"deny\", \"deny\", \"deny\", \"deny\", \"deny\", \"deposition\", \"deposition\", \"deposition\", \"deposition\", \"deposition\", \"deposition\", \"deposition\", \"deposition\", \"deposition\", \"deposition\", \"determine\", \"determine\", \"determine\", \"determine\", \"determine\", \"determine\", \"direct\", \"direct\", \"direct\", \"direct\", \"direct\", \"direct\", \"direct\", \"direct\", \"direct\", \"direct\", \"disclose\", \"disclose\", \"disclose\", \"disclose\", \"disclose\", \"discovery\", \"discovery\", \"discovery\", \"discovery\", \"discovery\", \"discovery\", \"discovery\", \"discovery\", \"discovery\", \"discovery\", \"discovery_ruling_conference\", \"discovery_ruling_conference\", \"discovery_ruling_conference\", \"discovery_ruling_conference\", \"discovery_ruling_conference\", \"discovery_ruling_conference\", \"dismiss\", \"dismiss\", \"dismiss\", \"dismiss\", \"dismiss\", \"dismiss\", \"dismiss\", \"dismiss\", \"dismiss\", \"dismiss\", \"dismiss_lack_jurisdiction\", \"dismiss_lack_jurisdiction\", \"dismiss_lack_jurisdiction\", \"dismiss_pursuant_rule\", \"dismiss_pursuant_rule\", \"dismiss_pursuant_rule\", \"dismiss_pursuant_rule\", \"dismiss_pursuant_rule\", \"dismiss_pursuant_rule\", \"dismiss_second_amend\", \"dismiss_second_amend\", \"dismiss_second_amend\", \"dismiss_second_amend\", \"dismiss_second_amend\", \"dismiss_second_amend\", \"dismiss_second_amend\", \"dismiss_second_amend\", \"dismiss_second_amend\", \"dismiss_subrogation_claim_assert\", \"dismiss_subrogation_claim_assert\", \"dismiss_subrogation_claim_assert\", \"dismiss_subrogation_claim_assert\", \"dismissal\", \"dismissal\", \"dismissal\", \"dismissal\", \"dismissal\", \"dismissal\", \"dismissal\", \"dismissal\", \"dismissal\", \"dismissal_without_prejudice\", \"dismissal_without_prejudice\", \"dismissal_without_prejudice\", \"dismissal_without_prejudice\", \"dismissal_without_prejudice\", \"dismissal_without_prejudice\", \"dismissal_without_prejudice\", \"djc\", \"djc\", \"djc\", \"djc\", \"djc\", \"djc\", \"docket\", \"docket\", \"docket\", \"docket\", \"docket\", \"docket\", \"docket\", \"docket\", \"docket\", \"docket\", \"document_place_vault\", \"document_place_vault\", \"document_place_vault\", \"document_place_vault\", \"due\", \"due\", \"due\", \"due\", \"due\", \"due\", \"due\", \"due\", \"due\", \"due\", \"e\", \"e\", \"e\", \"e\", \"e\", \"e\", \"e\", \"e\", \"ecf\", \"ecf\", \"ecf\", \"ecf\", \"ecf\", \"edt\", \"edt\", \"edt\", \"edt\", \"edt\", \"edt\", \"endorsed_letter_address\", \"endorsed_letter_address\", \"endorsed_letter_address\", \"endorsed_letter_address\", \"endorsed_letter_address\", \"endorsed_letter_address\", \"endorsed_letter_address\", \"endorsed_letter_address\", \"endorsed_letter_address\", \"endorsed_letter_address\", \"endorsement\", \"endorsement\", \"endorsement\", \"endorsement\", \"endorsement\", \"endorsement\", \"endorsement\", \"endorsement\", \"endorsement\", \"endorsement_application_grant\", \"endorsement_application_grant\", \"endorsement_application_grant\", \"endorsement_application_grant\", \"endorsement_application_grant\", \"endorsement_application_grant\", \"erratum\", \"erratum\", \"erratum\", \"erratum\", \"error\", \"error\", \"error\", \"error\", \"error\", \"error\", \"error\", \"ex\", \"ex\", \"ex\", \"ex\", \"ex\", \"ex\", \"ex\", \"ex\", \"execute\", \"execute\", \"execute\", \"execute\", \"execute\", \"exhibit\", \"exhibit\", \"exhibit\", \"exhibit\", \"exhibit\", \"exhibit\", \"exhibit\", \"exhibit\", \"exhibit\", \"expert\", \"expert\", \"expert\", \"expert\", \"expert\", \"expert\", \"expert\", \"expert\", \"expert_discovery_due\", \"expert_discovery_due\", \"expert_discovery_due\", \"expert_discovery_due\", \"expert_report\", \"expert_report\", \"expert_report\", \"expert_report\", \"expert_report\", \"expert_report\", \"expert_report\", \"extend\", \"extend\", \"extend\", \"extend\", \"extend\", \"extend\", \"extend\", \"extend\", \"extension\", \"extension\", \"extension\", \"extension\", \"extension\", \"extension\", \"extension\", \"extension\", \"f\", \"f\", \"f\", \"f\", \"f\", \"f\", \"f\", \"f\", \"f\", \"fee_cost\", \"fee_cost\", \"fee_cost\", \"fee_cost\", \"fee_cost\", \"fee_receipt_number\", \"fee_receipt_number\", \"fee_receipt_number\", \"fee_receipt_number\", \"fee_receipt_number\", \"fee_receipt_number\", \"fee_receipt_number\", \"fee_receipt_number\", \"first_amend_complaint\", \"first_amend_complaint\", \"first_amend_complaint\", \"first_amend_complaint\", \"first_amend_complaint\", \"first_amend_complaint\", \"follow\", \"follow\", \"follow\", \"follow\", \"follow\", \"follow\", \"follow\", \"follow\", \"follow\", \"follow\", \"form\", \"form\", \"form\", \"form\", \"form\", \"form\", \"form\", \"form\", \"form\", \"form\", \"forward\", \"forward\", \"forward\", \"forward\", \"forward\", \"forward\", \"g\", \"g\", \"g\", \"g\", \"g\", \"g\", \"genesys_id_inc.._basile\", \"genesys_id_inc.._basile\", \"genesys_id_inc.._basile\", \"genesys_id_inc.._basile\", \"genesys_id_inc.._basile\", \"genesys_id_inc.._basile\", \"gf\", \"gf\", \"gf\", \"goodwin\", \"goodwin\", \"goodwin\", \"goodwin\", \"goodwin\", \"grant\", \"grant\", \"grant\", \"grant\", \"grant\", \"grant\", \"grant\", \"grant\", \"grant\", \"grant\", \"h\", \"h\", \"h\", \"h\", \"h\", \"h\", \"h\", \"h.o\", \"h.o\", \"h.o\", \"h.o\", \"h.o\", \"h.o\", \"han\", \"han\", \"han\", \"han\", \"han\", \"han\", \"han\", \"han\", \"han_kook\", \"han_kook\", \"han_kook\", \"han_kook\", \"han_kook\", \"han_kook\", \"hereby\", \"hereby\", \"hereby\", \"hereby\", \"hereby\", \"hereby\", \"hereby\", \"hereby\", \"hereby\", \"hereby\", \"hereby_give_official_transcript\", \"hereby_give_official_transcript\", \"hereby_give_official_transcript\", \"hereby_give_official_transcript\", \"hereby_stipulate_agree_undersigned\", \"hereby_stipulate_agree_undersigned\", \"hereby_stipulate_agree_undersigned\", \"hereby_stipulate_agree_undersigned\", \"hereby_stipulate_agree_undersigned\", \"hold\", \"hold\", \"hold\", \"hold\", \"hold\", \"hold\", \"hold\", \"hold\", \"hold\", \"hold\", \"inc..\", \"inc..\", \"inc..\", \"inc..\", \"inc..\", \"inc..\", \"inc..\", \"inc..\", \"inc..\", \"initial\", \"initial\", \"initial\", \"initial\", \"initial\", \"initial\", \"initial\", \"initial\", \"initial\", \"iv\", \"iv\", \"iv\", \"iv\", \"iv\", \"iv\", \"j\", \"j\", \"j\", \"j\", \"j\", \"ja\", \"ja\", \"ja\", \"ja\", \"jmi\", \"jmi\", \"jmi\", \"jmi\", \"jmi\", \"jmi\", \"jmi\", \"jp\", \"jp\", \"jp\", \"jp\", \"jp\", \"jpo\", \"jpo\", \"jpo\", \"jpo\", \"jpo\", \"jr.\", \"jr.\", \"jr.\", \"jr.\", \"jr.\", \"jr.\", \"judge\", \"judge\", \"judge\", \"judge\", \"judge\", \"judge\", \"judge\", \"judge\", \"judge\", \"judge\", \"judge_d._kan._gr\", \"judge_d._kan._gr\", \"judge_d._kan._gr\", \"judge_d._kan._gr\", \"judge_d._kan._gr\", \"judge_d._kan._gr\", \"judge_date\", \"judge_date\", \"judge_date\", \"judge_date\", \"judge_date\", \"judge_date\", \"judge_date\", \"judge_date\", \"judge_date\", \"judge_date\", \"judge_iii\", \"judge_iii\", \"judge_iii\", \"judge_iii\", \"judge_iii\", \"judge_individual_practice\", \"judge_individual_practice\", \"judge_individual_practice\", \"judge_individual_practice\", \"judge_jury_trial\", \"judge_jury_trial\", \"judge_jury_trial\", \"judge_jury_trial\", \"judge_jury_trial\", \"judge_longer_assigned\", \"judge_longer_assigned\", \"judge_longer_assigned\", \"judge_longer_assigned\", \"judgment\", \"judgment\", \"judgment\", \"judgment\", \"judgment\", \"judgment\", \"judgment\", \"judgment\", \"judgment\", \"judgment_favor\", \"judgment_favor\", \"judgment_favor\", \"judgment_favor\", \"judgment_favor\", \"july\", \"july\", \"july\", \"july\", \"july\", \"july\", \"july\", \"july\", \"july\", \"jury_demand\", \"jury_demand\", \"jury_demand\", \"jury_demand\", \"jv\", \"jv\", \"jv\", \"jv\", \"k\", \"k\", \"k\", \"k\", \"k\", \"k\", \"kco\", \"kco\", \"kco\", \"kco\", \"keely\", \"keely\", \"keely\", \"keely\", \"keely\", \"keely\", \"kehrli\", \"kehrli\", \"kehrli\", \"kehrli\", \"kehrli\", \"kehrli\", \"kehrli\", \"kehrli\", \"kgo\", \"kgo\", \"kgo\", \"kgo\", \"kkc\", \"kkc\", \"kkc\", \"kkc\", \"kw\", \"kw\", \"kw\", \"kw\", \"kw\", \"l.p.\", \"l.p.\", \"l.p.\", \"l.p.\", \"l.p.\", \"l.p.\", \"l.p.\", \"l.p.\", \"l.p.\", \"l.p._balentine_global_hedge\", \"l.p._balentine_global_hedge\", \"l.p._balentine_global_hedge\", \"l.p._balentine_global_hedge\", \"l.p._balentine_global_hedge\", \"lb\", \"lb\", \"lb\", \"lb\", \"lb\", \"letter\", \"letter\", \"letter\", \"letter\", \"letter\", \"letter\", \"letter\", \"letter\", \"letter\", \"letter\", \"letter_address_judge\", \"letter_address_judge\", \"letter_address_judge\", \"letter_address_judge\", \"letter_address_judge\", \"letter_address_judge\", \"letter_address_judge\", \"letter_address_judge\", \"letter_address_judge\", \"light\", \"light\", \"light\", \"light\", \"light\", \"light\", \"light\", \"limit\", \"limit\", \"limit\", \"limit\", \"limit\", \"limit\", \"line\", \"line\", \"line\", \"line\", \"llc\", \"llc\", \"llc\", \"llc\", \"llc\", \"llc\", \"llc\", \"llc\", \"llc\", \"llc\", \"llc_kehrli\", \"llc_kehrli\", \"llc_kehrli\", \"llc_kehrli\", \"llc_kehrli\", \"llc_kehrli\", \"llc_kehrli\", \"llc_kehrli\", \"lmb\", \"lmb\", \"lmb\", \"lmb\", \"lmb\", \"lmb\", \"local_civil_rule\", \"local_civil_rule\", \"local_civil_rule\", \"local_civil_rule\", \"local_civil_rule\", \"local_civil_rule\", \"ltd..\", \"ltd..\", \"ltd..\", \"ltd..\", \"ltd..\", \"ltd..\", \"ltd..\", \"magistrate_judge\", \"magistrate_judge\", \"magistrate_judge\", \"magistrate_judge\", \"magistrate_judge\", \"magistrate_judge\", \"magistrate_judge\", \"magistrate_judge\", \"magistrate_judge\", \"magistrate_judge\", \"magistrate_judge_designate\", \"magistrate_judge_designate\", \"magistrate_judge_designate\", \"magistrate_judge_designate\", \"magistrate_judge_designate\", \"magistrate_judge_designate\", \"magistrate_judge_discovery_hear\", \"magistrate_judge_discovery_hear\", \"magistrate_judge_discovery_hear\", \"magistrate_judge_discovery_hear\", \"magistrate_judge_discovery_hear\", \"magistrate_judge_discovery_hear\", \"magnum_growth_fund_l.p.\", \"magnum_growth_fund_l.p.\", \"magnum_growth_fund_l.p.\", \"magnum_growth_fund_l.p.\", \"magnum_growth_fund_l.p.\", \"magnum_growth_fund_l.p.\", \"magnum_growth_fund_l.p.\", \"magnum_special_situation_fund\", \"magnum_special_situation_fund\", \"magnum_special_situation_fund\", \"magnum_special_situation_fund\", \"magnum_special_situation_fund\", \"magnum_special_situation_fund\", \"magnum_special_situation_fund\", \"mail\", \"mail\", \"mail\", \"mail\", \"mail\", \"mail\", \"mail\", \"mail\", \"mail\", \"march\", \"march\", \"march\", \"march\", \"march\", \"march\", \"march\", \"march\", \"march\", \"march\", \"marshal\", \"marshal\", \"marshal\", \"marshal\", \"marshal\", \"master\", \"master\", \"master\", \"master\", \"master\", \"master\", \"master_discovery_protocol\", \"master_discovery_protocol\", \"master_discovery_protocol\", \"master_discovery_protocol\", \"master_discovery_protocol\", \"master_discovery_protocol\", \"matter\", \"matter\", \"matter\", \"matter\", \"matter\", \"matter\", \"matter\", \"matter\", \"may\", \"may\", \"may\", \"may\", \"may\", \"may\", \"may\", \"may\", \"may\", \"may\", \"mbe\", \"mbe\", \"mbe\", \"mbe\", \"mdl\", \"mdl\", \"mdl\", \"mdl\", \"mdl\", \"mdl\", \"mdl\", \"member\", \"member\", \"member\", \"member\", \"member\", \"memorandum_law_opposition\", \"memorandum_law_opposition\", \"memorandum_law_opposition\", \"memorandum_law_opposition\", \"memorandum_law_opposition\", \"memorandum_law_opposition\", \"memorandum_law_opposition\", \"memorandum_law_opposition\", \"memorandum_law_opposition\", \"memorandum_law_opposition\", \"memorandum_law_support\", \"memorandum_law_support\", \"memorandum_law_support\", \"memorandum_law_support\", \"memorandum_law_support\", \"memorandum_law_support\", \"memorandum_law_support\", \"memorandum_law_support\", \"memorandum_law_support\", \"memorandum_law_support\", \"minute_entry_proceeding_hold\", \"minute_entry_proceeding_hold\", \"minute_entry_proceeding_hold\", \"minute_entry_proceeding_hold\", \"minute_entry_proceeding_hold\", \"minute_entry_proceeding_hold\", \"minute_entry_proceeding_hold\", \"ml\", \"ml\", \"ml\", \"ml\", \"ml\", \"modify\", \"modify\", \"modify\", \"modify\", \"modify\", \"modify\", \"modify\", \"modify\", \"modify\", \"modify_gf\", \"modify_gf\", \"modify_gf\", \"modify_gf\", \"modify_gf\", \"modify_ldi\", \"modify_ldi\", \"modify_ldi\", \"modify_ldi\", \"motion\", \"motion\", \"motion\", \"motion\", \"motion\", \"motion\", \"motion\", \"motion\", \"motion\", \"motion\", \"motion_dismiss_thirdparty\", \"motion_dismiss_thirdparty\", \"motion_dismiss_thirdparty\", \"motion_dismiss_thirdparty\", \"motion_dismiss_thirdparty\", \"motion_dismiss_thirdparty\", \"motion_dismiss_thirdparty\", \"motion_dismiss_thirdparty\", \"motion_dismiss_thirdparty\", \"mp\", \"mp\", \"mp\", \"mp\", \"mp\", \"mp\", \"mro\", \"mro\", \"mro\", \"mro\", \"mro\", \"mro\", \"mro\", \"must\", \"must\", \"must\", \"must\", \"must\", \"must\", \"must\", \"must\", \"must\", \"n\", \"n\", \"n\", \"n\", \"n\", \"name\", \"name\", \"name\", \"name\", \"name\", \"name\", \"name\", \"name\", \"name\", \"nd\", \"nd\", \"nd\", \"nd\", \"nd\", \"nd\", \"need\", \"need\", \"need\", \"need\", \"need\", \"need\", \"need\", \"need\", \"need\", \"new\", \"new\", \"new\", \"new\", \"new\", \"new\", \"new\", \"new\", \"new\", \"new_address\", \"new_address\", \"new_address\", \"new_address\", \"new_address\", \"new_address\", \"new_address\", \"new_york_ny\", \"new_york_ny\", \"new_york_ny\", \"new_york_ny\", \"new_york_ny\", \"new_york_ny\", \"new_york_observer_l.p.\", \"new_york_observer_l.p.\", \"new_york_observer_l.p.\", \"nm\", \"nonecf_case_error\", \"nonecf_case_error\", \"nonecf_case_error\", \"nonecf_case_error\", \"note\", \"note\", \"note\", \"note\", \"note\", \"note\", \"note\", \"note\", \"note\", \"note_attorney\", \"note_attorney\", \"note_attorney\", \"note_attorney\", \"note_attorney\", \"note_attorney\", \"note_attorney\", \"note_attorney_refile_document\", \"note_attorney_refile_document\", \"note_attorney_refile_document\", \"note_attorney_refile_document\", \"note_attorney_refile_document\", \"notice\", \"notice\", \"notice\", \"notice\", \"notice\", \"notice\", \"notice\", \"notice\", \"notice\", \"notice\", \"notice_adoption_master\", \"notice_adoption_master\", \"notice_adoption_master\", \"notice_adoption_master\", \"notice_adoption_master\", \"notice_adoption_master\", \"notice_adoption_master\", \"notice_adoption_master\", \"notice_appeal\", \"notice_appeal\", \"notice_appeal\", \"notice_appeal\", \"notice_appeal\", \"notice_appeal\", \"notice_appeal\", \"notice_appeal\", \"notice_appeal\", \"notice_appearance_behalf\", \"notice_appearance_behalf\", \"notice_appearance_behalf\", \"notice_appearance_behalf\", \"notice_appearance_behalf\", \"notice_appearance_behalf\", \"notice_appearance_behalf\", \"notice_appearance_behalf\", \"notice_conversion\", \"notice_conversion\", \"notice_conversion\", \"notice_conversion\", \"notice_conversion\", \"notify\", \"notify\", \"notify\", \"notify\", \"notify\", \"notify\", \"occur\", \"occur\", \"occur\", \"occur\", \"occur\", \"october\", \"october\", \"october\", \"october\", \"october\", \"october\", \"october\", \"october\", \"october\", \"october\", \"office\", \"office\", \"office\", \"office\", \"office\", \"office_p.c\", \"office_p.c\", \"office_p.c\", \"office_p.c\", \"office_p.c\", \"office_p.c\", \"official_transcript_notice\", \"official_transcript_notice\", \"official_transcript_notice\", \"official_transcript_notice\", \"opinion\", \"opinion\", \"opinion\", \"opinion\", \"opinion\", \"opinion\", \"opinion\", \"opinion\", \"opinion\", \"opportunity\", \"opportunity\", \"opportunity\", \"opportunity\", \"opportunity\", \"opportunity\", \"opposition\", \"opposition\", \"opposition\", \"opposition\", \"opposition\", \"opposition\", \"opposition\", \"opposition\", \"opposition\", \"opposition\", \"oral_argument_set_pm\", \"oral_argument_set_pm\", \"oral_argument_set_pm\", \"order\", \"order\", \"order\", \"order\", \"order\", \"order\", \"order\", \"order\", \"order\", \"order\", \"p.c\", \"p.c\", \"p.c\", \"p.c\", \"p.c\", \"p.c\", \"p.c\", \"p.c\", \"p.c\", \"p.c\", \"pa\", \"pa\", \"pa\", \"pa\", \"pacer\", \"pacer\", \"pacer\", \"part\", \"part\", \"part\", \"part\", \"part\", \"part\", \"part\", \"partial_summary_judgment\", \"partial_summary_judgment\", \"partial_summary_judgment\", \"partial_summary_judgment\", \"partial_summary_judgment\", \"partial_summary_judgment\", \"partial_summary_judgment\", \"partial_summary_judgment\", \"party\", \"party\", \"party\", \"party\", \"party\", \"party\", \"party\", \"party\", \"party\", \"party\", \"party_calendar_day\", \"party_calendar_day\", \"party_calendar_day\", \"party_calendar_day\", \"party_calendar_day\", \"party_calendar_day\", \"party_shall_comply\", \"party_shall_comply\", \"party_shall_comply\", \"party_shall_comply\", \"party_shall_comply\", \"party_shall_comply\", \"pc\", \"pc\", \"pc\", \"pc\", \"pc\", \"pc\", \"pc\", \"pennsylvania\", \"pennsylvania\", \"pennsylvania\", \"pennsylvania\", \"pennsylvania\", \"pennsylvania\", \"pennsylvania\", \"pennsylvania\", \"person\", \"person\", \"person\", \"person\", \"person\", \"pl\", \"pl\", \"pl\", \"pl\", \"pl\", \"pl\", \"pl\", \"pl\", \"plaintiff\", \"plaintiff\", \"plaintiff\", \"plaintiff\", \"plaintiff\", \"plaintiff\", \"plaintiff\", \"plaintiff\", \"plaintiff\", \"plaintiff\", \"plaintiff_'s\", \"plaintiff_'s\", \"plaintiff_'s\", \"plaintiff_'s\", \"plaintiff_'s\", \"plaintiff_'s\", \"plaintiff_'s\", \"plaintiff_'s\", \"plaintiff_'s\", \"plaintiff_'s\", \"please\", \"please\", \"please\", \"please\", \"please\", \"please\", \"pm\", \"pm\", \"pm\", \"pm\", \"pm\", \"portion\", \"portion\", \"portion\", \"portion\", \"portion\", \"portion\", \"portion\", \"prejudice\", \"prejudice\", \"prejudice\", \"prejudice\", \"prejudice\", \"prejudice\", \"pretrial_conference\", \"pretrial_conference\", \"pretrial_conference\", \"pretrial_conference\", \"pretrial_conference\", \"pretrial_conference\", \"pretrial_conference_hold\", \"pretrial_conference_hold\", \"pretrial_conference_hold\", \"pretrial_conference_hold\", \"pretrial_conference_hold\", \"pretrial_conference_hold\", \"pretrial_conference_hold\", \"previously\", \"previously\", \"previously\", \"previously\", \"previously\", \"previously\", \"pro_se\", \"pro_se\", \"pro_se\", \"pro_se\", \"pro_se\", \"pro_se\", \"pro_se\", \"pro_se\", \"proceeding\", \"proceeding\", \"proceeding\", \"proceeding\", \"proceeding\", \"proceeding\", \"proceeding\", \"proceeding\", \"process\", \"process\", \"process\", \"process\", \"process\", \"produce\", \"produce\", \"produce\", \"produce\", \"produce\", \"produce\", \"produce\", \"produce\", \"produce\", \"propose\", \"propose\", \"propose\", \"propose\", \"propose\", \"propose\", \"propose\", \"propose\", \"propose\", \"propose\", \"public_terminal_purchase_court\", \"public_terminal_purchase_court\", \"public_terminal_purchase_court\", \"q\", \"q\", \"r._civ\", \"r._civ\", \"r._civ\", \"r._civ\", \"reach\", \"reach\", \"reach\", \"reach\", \"reach\", \"reach\", \"reason_set_forth\", \"reason_set_forth\", \"reason_set_forth\", \"reason_set_forth\", \"reason_set_forth\", \"reason_set_forth\", \"reason_set_forth\", \"reasonable\", \"reasonable\", \"reasonable\", \"reasonable\", \"reasonable\", \"receive_night_deposit_box\", \"receive_night_deposit_box\", \"receive_night_deposit_box\", \"receive_night_deposit_box\", \"receive_night_deposit_box\", \"record\", \"record\", \"record\", \"record\", \"record\", \"record\", \"record\", \"record\", \"redact_transcript_deadline_set\", \"redact_transcript_deadline_set\", \"redaction_calendar_day_mcguirk\", \"redaction_calendar_day_mcguirk\", \"redaction_calendar_day_mcguirk\", \"redaction_calendar_day_mcguirk\", \"redaction_calendar_day_mcguirk\", \"redaction_calendar_day_mcguirk\", \"redaction_request_due\", \"redaction_request_due\", \"redaction_request_due\", \"redaction_request_due\", \"redaction_request_due\", \"refer\", \"refer\", \"refer\", \"refer\", \"refer\", \"refer\", \"refer\", \"regard\", \"regard\", \"regard\", \"regard\", \"regard\", \"regard\", \"regard\", \"regard\", \"regard\", \"regard\", \"reiter\", \"reiter\", \"reiter\", \"reiter\", \"related\", \"related\", \"related\", \"related\", \"related\", \"related\", \"related\", \"related\", \"release_transcript_restriction_set\", \"release_transcript_restriction_set\", \"release_transcript_restriction_set\", \"release_transcript_restriction_set\", \"release_transcript_restriction_set\", \"release_transcript_restriction_set\", \"reply\", \"reply\", \"reply\", \"reply\", \"reply\", \"reply\", \"reply\", \"reply\", \"reply\", \"reply\", \"reply_memorandum_law_support\", \"reply_memorandum_law_support\", \"reply_memorandum_law_support\", \"reply_memorandum_law_support\", \"reply_memorandum_law_support\", \"reply_memorandum_law_support\", \"reply_memorandum_law_support\", \"reply_memorandum_law_support\", \"reportertranscriber_deadline_release_transcript\", \"reportertranscriber_deadline_release_transcript\", \"reportertranscriber_deadline_release_transcript\", \"request\", \"request\", \"request\", \"request\", \"request\", \"request\", \"request\", \"request\", \"request\", \"request\", \"request_issuance_summons\", \"request_issuance_summons\", \"request_issuance_summons\", \"request_issuance_summons\", \"request_issuance_summons\", \"request_redaction_transcript\", \"request_redaction_transcript\", \"request_redaction_transcript\", \"request_redaction_transcript\", \"request_redaction_transcript\", \"request_redaction_transcript\", \"respect\", \"respect\", \"respect\", \"respect\", \"respect\", \"respect\", \"respect\", \"respect\", \"respect\", \"respective\", \"respective\", \"respective\", \"respective\", \"respective\", \"response\", \"response\", \"response\", \"response\", \"response\", \"response\", \"response\", \"response\", \"response\", \"response\", \"response_due\", \"response_due\", \"response_due\", \"response_due\", \"response_due\", \"response_due\", \"response_due\", \"response_due\", \"response_due\", \"response_due_reply\", \"response_due_reply\", \"response_due_reply\", \"response_due_reply\", \"responsive\", \"responsive\", \"responsive\", \"responsive\", \"responsive\", \"responsive\", \"responsive\", \"restriction\", \"restriction\", \"restriction\", \"restriction\", \"result\", \"result\", \"result\", \"result\", \"result\", \"result\", \"result\", \"result\", \"return_date\", \"return_date\", \"return_date\", \"return_date\", \"return_date\", \"return_date\", \"revise_schedule_order\", \"revise_schedule_order\", \"revise_schedule_order\", \"revise_schedule_order\", \"revise_schedule_order\", \"revise_schedule_order\", \"rj\", \"rj\", \"rj\", \"rj\", \"rj\", \"rjm\", \"rjm\", \"rjm\", \"rjm\", \"rjm\", \"rjm\", \"rule\", \"rule\", \"rule\", \"rule\", \"rule\", \"rule\", \"rule\", \"rule\", \"rule\", \"rule\", \"rule_certificate\", \"rule_certificate\", \"rule_certificate\", \"rule_deposition_objection\", \"rule_deposition_objection\", \"rule_deposition_objection\", \"rule_disclosure_statement\", \"rule_disclosure_statement\", \"rule_disclosure_statement\", \"rule_statement\", \"rule_statement\", \"rule_statement\", \"rule_statement\", \"rule_statement\", \"rule_statement\", \"rule_statement\", \"rule_statement\", \"rule_statement\", \"rule_statement\", \"s.d.n.y\", \"s.d.n.y\", \"s.d.n.y\", \"s.d.n.y\", \"s.d.n.y\", \"s.d.n.y\", \"sac\", \"sac\", \"sac\", \"sac\", \"sac\", \"sac\", \"sc\", \"sc\", \"sc\", \"schedule\", \"schedule\", \"schedule\", \"schedule\", \"schedule\", \"schedule\", \"schedule\", \"schedule\", \"schedule\", \"schedule\", \"scileppi\", \"scileppi\", \"scileppi\", \"scileppi\", \"scileppi\", \"seal\", \"seal\", \"seal\", \"seal\", \"seal\", \"seal\", \"seal\", \"seal\", \"seal\", \"seal\", \"second_amend_complaint\", \"second_amend_complaint\", \"second_amend_complaint\", \"second_amend_complaint\", \"second_amend_complaint\", \"second_amend_complaint\", \"second_amend_complaint\", \"second_amend_complaint\", \"second_amend_complaint\", \"security\", \"security\", \"security\", \"security\", \"security\", \"security\", \"see\", \"see\", \"see\", \"see\", \"see\", \"see\", \"see\", \"see\", \"see\", \"see\", \"select\", \"select\", \"select\", \"select\", \"select\", \"select\", \"serve\", \"serve\", \"serve\", \"serve\", \"serve\", \"serve\", \"serve\", \"serve\", \"serve\", \"serve\", \"serve_answer_due\", \"serve_answer_due\", \"serve_answer_due\", \"serve_answer_due\", \"serve_answer_due\", \"serve_answer_due\", \"serve_answer_due\", \"service\", \"service\", \"service\", \"service\", \"service\", \"service\", \"service\", \"service\", \"service\", \"service\", \"service_accept\", \"service_accept\", \"service_accept\", \"service_accept\", \"service_accept_legal_clerk\", \"service_accept_legal_clerk\", \"service_accept_legal_clerk\", \"set_answer_due\", \"set_answer_due\", \"set_answer_due\", \"set_answer_due\", \"set_answer_due\", \"set_answer_due\", \"setreset_deadline\", \"setreset_deadline\", \"setreset_deadline\", \"setreset_deadline\", \"setreset_deadline\", \"setreset_deadline\", \"setreset_deadline\", \"settle\", \"settle\", \"settle\", \"settle\", \"settle\", \"settle\", \"settle\", \"settle\", \"settlement\", \"settlement\", \"settlement\", \"settlement\", \"settlement\", \"settlement\", \"settlement\", \"settlement\", \"settlement\", \"shall\", \"shall\", \"shall\", \"shall\", \"shall\", \"shall\", \"shall\", \"shall\", \"shall\", \"shall\", \"show_cause\", \"show_cause\", \"show_cause\", \"show_cause\", \"show_cause\", \"show_cause\", \"show_cause\", \"show_cause\", \"show_cause\", \"show_cause\", \"sign\", \"sign\", \"sign\", \"sign\", \"sign\", \"sign\", \"sign\", \"sign\", \"sign_judge\", \"sign_judge\", \"sign_judge\", \"sign_judge\", \"sign_judge\", \"sign_judge\", \"sign_judge\", \"sign_judge\", \"sign_judge\", \"sign_judge\", \"sign_judge_copy_mail\", \"sign_judge_copy_mail\", \"sign_judge_copy_mail\", \"sign_judge_copy_mail\", \"sign_judge_copy_mail\", \"sign_judge_gr\", \"sign_judge_gr\", \"sign_judge_gr\", \"sign_judge_gr\", \"sign_judge_gr\", \"sign_judge_gr\", \"sign_judge_gr\", \"sign_judge_iii\", \"sign_judge_iii\", \"sign_judge_iii\", \"sign_judge_iii\", \"sign_judge_iii\", \"sign_judge_iii\", \"sign_judge_iii\", \"sign_judge_iii\", \"sign_judge_iii\", \"sign_judge_iii\", \"sign_judge_jr\", \"sign_judge_jr\", \"sign_judge_jr\", \"sign_judge_jr\", \"sign_judge_jr\", \"sign_judge_s.d.n.y\", \"sign_judge_s.d.n.y\", \"sign_judge_s.d.n.y\", \"sign_judge_s.d.n.y\", \"sign_judge_s.d.n.y\", \"sign_judge_s.d.n.y\", \"sign_judge_sr\", \"sign_judge_sr\", \"sign_judge_sr\", \"sign_magistrate_judge\", \"sign_magistrate_judge\", \"sign_magistrate_judge\", \"sign_magistrate_judge\", \"sign_magistrate_judge\", \"sign_magistrate_judge\", \"sign_magistrate_judge\", \"sign_magistrate_judge\", \"sign_magistrate_judge\", \"specific\", \"specific\", \"specific\", \"specific\", \"status_conference_hold\", \"status_conference_hold\", \"status_conference_hold\", \"status_conference_hold\", \"status_conference_hold\", \"status_conference_hold\", \"status_conference_hold\", \"status_conference_hold\", \"status_conference_hold\", \"status_conference_set_pm\", \"status_conference_set_pm\", \"status_conference_set_pm\", \"status_conference_set_pm\", \"status_conference_set_pm\", \"status_conference_set_pm\", \"status_report\", \"status_report\", \"status_report\", \"status_report\", \"status_report\", \"status_report\", \"status_report\", \"status_report\", \"status_report\", \"stipulation\", \"stipulation\", \"stipulation\", \"stipulation\", \"stipulation\", \"stipulation\", \"stipulation\", \"stipulation\", \"stipulation\", \"stipulation\", \"street_new_york_ny\", \"street_new_york_ny\", \"street_new_york_ny\", \"street_new_york_ny\", \"street_new_york_ny\", \"street_new_york_ny\", \"strike\", \"strike\", \"strike\", \"strike\", \"strike\", \"submit\", \"submit\", \"submit\", \"submit\", \"submit\", \"submit\", \"submit\", \"submit\", \"submit\", \"submit\", \"summary_judgment\", \"summary_judgment\", \"summary_judgment\", \"summary_judgment\", \"summary_judgment\", \"summary_judgment\", \"summary_judgment\", \"summary_judgment\", \"summary_judgment\", \"summary_judgment\", \"summary_judgment_favor\", \"summary_judgment_favor\", \"summary_judgment_favor\", \"summary_judgment_favor\", \"summary_judgment_favor\", \"summons_complaint\", \"summons_complaint\", \"summons_complaint\", \"summons_complaint\", \"summons_complaint\", \"summons_return_execute\", \"summons_return_execute\", \"summons_return_execute\", \"summons_return_execute\", \"supplemental_amend\", \"supplemental_amend\", \"supplemental_amend\", \"supplemental_amend\", \"supplemental_amend\", \"supplemental_amend\", \"supplemental_amend\", \"support_[_]\", \"support_[_]\", \"support_[_]\", \"support_paper_review\", \"support_paper_review\", \"support_paper_review\", \"support_paper_review\", \"support_paper_review\", \"tape\", \"tape\", \"tape\", \"tape\", \"tape\", \"telephone_conference_hold\", \"telephone_conference_hold\", \"telephone_conference_hold\", \"telephone_conference_hold\", \"telephone_conference_hold\", \"telephone_conference_hold\", \"telephone_conference_set\", \"telephone_conference_set\", \"telephone_conference_set\", \"telephone_conference_set\", \"telephone_conference_set\", \"telephone_conference_set\", \"time\", \"time\", \"time\", \"time\", \"time\", \"time\", \"time\", \"time\", \"time\", \"time\", \"total\", \"total\", \"total\", \"total\", \"total\", \"total\", \"tp\", \"tp\", \"tp\", \"tp\", \"tp\", \"transcript_may_view_court\", \"transcript_may_view_court\", \"transcript_may_view_court\", \"transcript_proceeding\", \"transcript_proceeding\", \"transcript_proceeding\", \"transcript_proceeding\", \"transcript_proceeding\", \"transcript_proceeding_conference_hold\", \"transcript_proceeding_conference_hold\", \"transcript_proceeding_conference_hold\", \"transcript_proceeding_hold\", \"transcript_proceeding_hold\", \"transcript_proceeding_hold\", \"transcript_proceeding_hold\", \"transcript_proceeding_hold\", \"transcript_proceeding_hold\", \"transcript_proceeding_hold\", \"transcript_proceeding_hold\", \"transfer_new_york_eastern\", \"transfer_new_york_eastern\", \"transfer_new_york_eastern\", \"transfer_new_york_eastern\", \"transmission\", \"transmission\", \"transmission\", \"transmission\", \"transmission\", \"transmit\", \"transmit\", \"transmit\", \"transmit\", \"transmit\", \"trial\", \"trial\", \"trial\", \"trial\", \"trial\", \"trial\", \"trial\", \"trial\", \"tro\", \"tro\", \"tro\", \"tro\", \"tro\", \"tro\", \"tro\", \"united_state_magistrate_judge\", \"united_state_magistrate_judge\", \"united_state_magistrate_judge\", \"usa\", \"usa\", \"usa\", \"usa\", \"usca\", \"usca\", \"usca\", \"vacate\", \"vacate\", \"vacate\", \"vacate\", \"vacate\", \"vacate\", \"vacate\", \"via\", \"via\", \"via\", \"via\", \"via\", \"via\", \"website\", \"website\", \"website\", \"website\", \"website\", \"website\", \"website\", \"wellington\", \"wellington\", \"wellington\", \"within_day\", \"within_day\", \"within_day\", \"within_day\", \"within_day\", \"within_day\", \"witness\", \"witness\", \"witness\", \"witness\", \"witness\", \"witness\", \"witness\", \"witness\", \"worcester\", \"worcester\", \"worcester\", \"worcester\", \"worcester\", \"york_ny_judge\", \"york_ny_judge\", \"york_ny_judge\", \"york_ny_judge\", \"york_ny_magistrate_judge\", \"york_ny_magistrate_judge\", \"york_ny_magistrate_judge\", \"yv\", \"yv\", \"yv\", \"yv\", \"yv\", \"yv\", \"yv\", \"yv\"]}, \"R\": 30, \"lambda.step\": 0.01};\n",
       "\n",
       "function LDAvis_load_lib(url, callback){\n",
       "  var s = document.createElement('script');\n",
       "  s.src = url;\n",
       "  s.async = true;\n",
       "  s.onreadystatechange = s.onload = callback;\n",
       "  s.onerror = function(){console.warn(\"failed to load library \" + url);};\n",
       "  document.getElementsByTagName(\"head\")[0].appendChild(s);\n",
       "}\n",
       "\n",
       "if(typeof(LDAvis) !== \"undefined\"){\n",
       "   // already loaded: just create the visualization\n",
       "   !function(LDAvis){\n",
       "       new LDAvis(\"#\" + \"ldavis_el134521984018905872492288947\", ldavis_el134521984018905872492288947_data);\n",
       "   }(LDAvis);\n",
       "}else if(typeof define === \"function\" && define.amd){\n",
       "   // require.js is available: use it to load d3/LDAvis\n",
       "   require.config({paths: {d3: \"https://cdnjs.cloudflare.com/ajax/libs/d3/3.5.5/d3.min\"}});\n",
       "   require([\"d3\"], function(d3){\n",
       "      window.d3 = d3;\n",
       "      LDAvis_load_lib(\"https://cdn.rawgit.com/bmabey/pyLDAvis/files/ldavis.v1.0.0.js\", function(){\n",
       "        new LDAvis(\"#\" + \"ldavis_el134521984018905872492288947\", ldavis_el134521984018905872492288947_data);\n",
       "      });\n",
       "    });\n",
       "}else{\n",
       "    // require.js not available: dynamically load d3 & LDAvis\n",
       "    LDAvis_load_lib(\"https://cdnjs.cloudflare.com/ajax/libs/d3/3.5.5/d3.min.js\", function(){\n",
       "         LDAvis_load_lib(\"https://cdn.rawgit.com/bmabey/pyLDAvis/files/ldavis.v1.0.0.js\", function(){\n",
       "                 new LDAvis(\"#\" + \"ldavis_el134521984018905872492288947\", ldavis_el134521984018905872492288947_data);\n",
       "            })\n",
       "         });\n",
       "}\n",
       "</script>"
      ],
      "text/plain": [
       "<IPython.core.display.HTML object>"
      ]
     },
     "execution_count": 332,
     "metadata": {},
     "output_type": "execute_result"
    }
   ],
   "source": [
    "lda10_model_filepath = 'docket_texts/lda_model_noorgnomodel_10'\n",
    "LDAvis_prepared = topic_modeling_pipeline(10, lda10_model_filepath, trigram_bow_corpus, trigram_dictionary)\n",
    "pyLDAvis.display(LDAvis_prepared)"
   ]
  },
  {
   "cell_type": "code",
   "execution_count": null,
   "metadata": {},
   "outputs": [],
   "source": []
  },
  {
   "cell_type": "code",
   "execution_count": null,
   "metadata": {},
   "outputs": [],
   "source": []
  }
 ],
 "metadata": {
  "kernelspec": {
   "display_name": "Python 3",
   "language": "python",
   "name": "python3"
  },
  "language_info": {
   "codemirror_mode": {
    "name": "ipython",
    "version": 3
   },
   "file_extension": ".py",
   "mimetype": "text/x-python",
   "name": "python",
   "nbconvert_exporter": "python",
   "pygments_lexer": "ipython3",
   "version": "3.5.3"
  }
 },
 "nbformat": 4,
 "nbformat_minor": 2
}
