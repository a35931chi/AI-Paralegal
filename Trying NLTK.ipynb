{
 "cells": [
  {
   "cell_type": "markdown",
   "metadata": {},
   "source": [
    "## Notebook Goal:  \n",
    "Using existing NLP and LDA methodologies to perform topic modeling on docket texts. Three hyperparameters to consider:\n",
    "1. to remove organization or not in docket texts, so organizations themselves won't become topics.\n",
    "2. to remove names or not in docket texts, so names themselves won't become topics.\n",
    "3. variations in topic numbers: [2, 3, 5, 10]\n",
    "\n",
    "Will then perform visualizations and model summary output on every permutation/iteration."
   ]
  },
  {
   "cell_type": "code",
   "execution_count": 2,
   "metadata": {},
   "outputs": [],
   "source": [
    "import nltk\n",
    "from nltk.tag.stanford import StanfordNERTagger\n",
    "from nltk.stem import WordNetLemmatizer\n",
    "from nltk.corpus import wordnet\n",
    "from nltk.corpus import stopwords"
   ]
  },
  {
   "cell_type": "code",
   "execution_count": 3,
   "metadata": {},
   "outputs": [
    {
     "name": "stderr",
     "output_type": "stream",
     "text": [
      "c:\\users\\inves\\appdata\\local\\programs\\python\\python35\\lib\\site-packages\\gensim\\utils.py:1197: UserWarning: detected Windows; aliasing chunkize to chunkize_serial\n",
      "  warnings.warn(\"detected Windows; aliasing chunkize to chunkize_serial\")\n"
     ]
    }
   ],
   "source": [
    "from gensim.models.word2vec import LineSentence\n",
    "from gensim.models import Phrases\n",
    "from gensim.corpora import Dictionary, MmCorpus\n",
    "from gensim.models.ldamulticore import LdaMulticore\n",
    "\n",
    "#visualization libraries\n",
    "import pyLDAvis\n",
    "import pyLDAvis.gensim"
   ]
  },
  {
   "cell_type": "code",
   "execution_count": 57,
   "metadata": {},
   "outputs": [],
   "source": [
    "import os\n",
    "java_path = 'C:/Program Files/Java/jdk-10.0.1/bin/java.exe'\n",
    "os.environ['JAVAHOME'] = java_path\n",
    "\n",
    "import pandas as pd\n",
    "import numpy as np\n",
    "import codecs\n",
    "import itertools as it\n",
    "from bs4 import BeautifulSoup\n",
    "import warnings\n",
    "import pickle\n",
    "from collections import Counter"
   ]
  },
  {
   "cell_type": "code",
   "execution_count": 13,
   "metadata": {},
   "outputs": [],
   "source": [
    "#import corpus/docket texts from html to pandas DataFrame\n",
    "def grab_dockets():\n",
    "    files = []\n",
    "    #get all .html files in the folder (all docket files are in .html)\n",
    "    for file in os.listdir('docket_texts/'):\n",
    "        if file.endswith('.html'):\n",
    "            files.append(os.path.join('docket_texts/', file))\n",
    "\n",
    "    df_docket_texts = pd.DataFrame()\n",
    "    \n",
    "    for i in range(len(files)): #gather all docket texts\n",
    "    #for i in [0, 1]: #for testing purposes\n",
    "        \n",
    "        content = codecs.open(files[i], 'r', 'utf-8').read()\n",
    "        #use beautiful soup to get the case ID\n",
    "        soup = BeautifulSoup(content, 'lxml')\n",
    "        case_id = str(soup.find_all('h3'))    \n",
    "        bookmark1 = case_id.find('CASE #:') + len('CASE #:')\n",
    "        bookmark2 = case_id.find('</h3>')\n",
    "        case_id = case_id[bookmark1:bookmark2]\n",
    "\n",
    "        #use pandas to grab tables in the html files\n",
    "        docket_tables = pd.read_html(content)\n",
    "\n",
    "        #error checking: gotta do this because there's different length of docket_list/\n",
    "        #usually docket texts are in docket_list[3], but not always\n",
    "        n = 0\n",
    "        while docket_tables[n].isin(['Docket Text']).sum().sum() == 0:\n",
    "            #print(n, docket_tables[n].isin(['Docket Text']).sum().sum())\n",
    "            n += 1\n",
    "                        \n",
    "        #print(i, files[i])\n",
    "        #print(docket_tables[n].head())\n",
    "\n",
    "        #docket_tables[n] is the docket text table\n",
    "        new_header = docket_tables[n].iloc[0]\n",
    "        docket_tables[n] = docket_tables[n][1:]\n",
    "        docket_tables[n].columns = new_header\n",
    "        \n",
    "        docket_tables[n]['#'] = pd.to_numeric(docket_tables[n]['#'],\n",
    "                                              downcast = 'signed', errors = 'coerce')\n",
    "        docket_tables[n]['Date Filed'] = pd.to_datetime(docket_tables[n]['Date Filed'])\n",
    "        docket_tables[n]['Case ID'] = case_id\n",
    "\n",
    "        df_docket_texts = pd.concat([df_docket_texts, docket_tables[n]])\n",
    "    #reorder a column\n",
    "    cols = list(df_docket_texts.columns)\n",
    "    df_docket_texts = df_docket_texts[[cols[-1]] + cols[:-1]]\n",
    "    \n",
    "    print('current docket text table size/shape: {}'.format(df_docket_texts.shape))\n",
    "    return df_docket_texts"
   ]
  },
  {
   "cell_type": "code",
   "execution_count": 14,
   "metadata": {
    "scrolled": true
   },
   "outputs": [
    {
     "name": "stderr",
     "output_type": "stream",
     "text": [
      "c:\\users\\inves\\appdata\\local\\programs\\python\\python35\\lib\\site-packages\\bs4\\builder\\_lxml.py:250: DeprecationWarning: inspect.getargspec() is deprecated, use inspect.signature() instead\n",
      "  self.parser.feed(markup)\n",
      "c:\\users\\inves\\appdata\\local\\programs\\python\\python35\\lib\\site-packages\\bs4\\builder\\_lxml.py:250: DeprecationWarning: inspect.getargspec() is deprecated, use inspect.signature() instead\n",
      "  self.parser.feed(markup)\n",
      "c:\\users\\inves\\appdata\\local\\programs\\python\\python35\\lib\\site-packages\\bs4\\builder\\_lxml.py:250: DeprecationWarning: inspect.getargspec() is deprecated, use inspect.signature() instead\n",
      "  self.parser.feed(markup)\n",
      "c:\\users\\inves\\appdata\\local\\programs\\python\\python35\\lib\\site-packages\\bs4\\builder\\_lxml.py:250: DeprecationWarning: inspect.getargspec() is deprecated, use inspect.signature() instead\n",
      "  self.parser.feed(markup)\n",
      "c:\\users\\inves\\appdata\\local\\programs\\python\\python35\\lib\\site-packages\\bs4\\builder\\_lxml.py:250: DeprecationWarning: inspect.getargspec() is deprecated, use inspect.signature() instead\n",
      "  self.parser.feed(markup)\n",
      "c:\\users\\inves\\appdata\\local\\programs\\python\\python35\\lib\\site-packages\\bs4\\builder\\_lxml.py:250: DeprecationWarning: inspect.getargspec() is deprecated, use inspect.signature() instead\n",
      "  self.parser.feed(markup)\n",
      "c:\\users\\inves\\appdata\\local\\programs\\python\\python35\\lib\\site-packages\\bs4\\builder\\_lxml.py:250: DeprecationWarning: inspect.getargspec() is deprecated, use inspect.signature() instead\n",
      "  self.parser.feed(markup)\n",
      "c:\\users\\inves\\appdata\\local\\programs\\python\\python35\\lib\\site-packages\\bs4\\builder\\_lxml.py:250: DeprecationWarning: inspect.getargspec() is deprecated, use inspect.signature() instead\n",
      "  self.parser.feed(markup)\n",
      "c:\\users\\inves\\appdata\\local\\programs\\python\\python35\\lib\\site-packages\\bs4\\builder\\_lxml.py:250: DeprecationWarning: inspect.getargspec() is deprecated, use inspect.signature() instead\n",
      "  self.parser.feed(markup)\n",
      "c:\\users\\inves\\appdata\\local\\programs\\python\\python35\\lib\\site-packages\\bs4\\builder\\_lxml.py:250: DeprecationWarning: inspect.getargspec() is deprecated, use inspect.signature() instead\n",
      "  self.parser.feed(markup)\n",
      "c:\\users\\inves\\appdata\\local\\programs\\python\\python35\\lib\\site-packages\\bs4\\builder\\_lxml.py:250: DeprecationWarning: inspect.getargspec() is deprecated, use inspect.signature() instead\n",
      "  self.parser.feed(markup)\n",
      "c:\\users\\inves\\appdata\\local\\programs\\python\\python35\\lib\\site-packages\\bs4\\builder\\_lxml.py:250: DeprecationWarning: inspect.getargspec() is deprecated, use inspect.signature() instead\n",
      "  self.parser.feed(markup)\n",
      "c:\\users\\inves\\appdata\\local\\programs\\python\\python35\\lib\\site-packages\\bs4\\builder\\_lxml.py:250: DeprecationWarning: inspect.getargspec() is deprecated, use inspect.signature() instead\n",
      "  self.parser.feed(markup)\n",
      "c:\\users\\inves\\appdata\\local\\programs\\python\\python35\\lib\\site-packages\\bs4\\builder\\_lxml.py:250: DeprecationWarning: inspect.getargspec() is deprecated, use inspect.signature() instead\n",
      "  self.parser.feed(markup)\n",
      "c:\\users\\inves\\appdata\\local\\programs\\python\\python35\\lib\\site-packages\\bs4\\builder\\_lxml.py:250: DeprecationWarning: inspect.getargspec() is deprecated, use inspect.signature() instead\n",
      "  self.parser.feed(markup)\n",
      "c:\\users\\inves\\appdata\\local\\programs\\python\\python35\\lib\\site-packages\\bs4\\builder\\_lxml.py:250: DeprecationWarning: inspect.getargspec() is deprecated, use inspect.signature() instead\n",
      "  self.parser.feed(markup)\n",
      "c:\\users\\inves\\appdata\\local\\programs\\python\\python35\\lib\\site-packages\\bs4\\builder\\_lxml.py:250: DeprecationWarning: inspect.getargspec() is deprecated, use inspect.signature() instead\n",
      "  self.parser.feed(markup)\n",
      "c:\\users\\inves\\appdata\\local\\programs\\python\\python35\\lib\\site-packages\\bs4\\builder\\_lxml.py:250: DeprecationWarning: inspect.getargspec() is deprecated, use inspect.signature() instead\n",
      "  self.parser.feed(markup)\n",
      "c:\\users\\inves\\appdata\\local\\programs\\python\\python35\\lib\\site-packages\\bs4\\builder\\_lxml.py:250: DeprecationWarning: inspect.getargspec() is deprecated, use inspect.signature() instead\n",
      "  self.parser.feed(markup)\n",
      "c:\\users\\inves\\appdata\\local\\programs\\python\\python35\\lib\\site-packages\\bs4\\builder\\_lxml.py:250: DeprecationWarning: inspect.getargspec() is deprecated, use inspect.signature() instead\n",
      "  self.parser.feed(markup)\n",
      "c:\\users\\inves\\appdata\\local\\programs\\python\\python35\\lib\\site-packages\\bs4\\builder\\_lxml.py:250: DeprecationWarning: inspect.getargspec() is deprecated, use inspect.signature() instead\n",
      "  self.parser.feed(markup)\n",
      "c:\\users\\inves\\appdata\\local\\programs\\python\\python35\\lib\\site-packages\\bs4\\builder\\_lxml.py:250: DeprecationWarning: inspect.getargspec() is deprecated, use inspect.signature() instead\n",
      "  self.parser.feed(markup)\n",
      "c:\\users\\inves\\appdata\\local\\programs\\python\\python35\\lib\\site-packages\\bs4\\builder\\_lxml.py:250: DeprecationWarning: inspect.getargspec() is deprecated, use inspect.signature() instead\n",
      "  self.parser.feed(markup)\n"
     ]
    },
    {
     "name": "stdout",
     "output_type": "stream",
     "text": [
      "current docket text table size/shape: (3244, 4)\n",
      "docket text 0\n",
      "COMPLAINT against Cardiogenics Holdings, Inc. filing fee $ 400, receipt number 0207-8445206 Was the Disclosure Statement on Civil Cover Sheet completed -YES,, filed by LG Capital Funding, LLC. (Steinmetz, Michael) (Additional attachment(s) added on 3/11/2016: # 1 Civil Cover Sheet, # 2 Proposed Summons) (Bowens, Priscilla). (Entered: 03/10/2016) \n",
      "\n",
      "docket text 1\n",
      "Case assigned to Judge Ann M Donnelly and Magistrate Judge Vera M. Scanlon. Please download and review the Individual Practices of the assigned Judges, located on our website. Attorneys are responsible for providing courtesy copies to judges where their Individual Practices require such. (Bowens, Priscilla) (Entered: 03/11/2016) \n",
      "\n",
      "docket text 2\n",
      "Summons Issued as to Cardiogenics Holdings, Inc.. (Bowens, Priscilla) (Entered: 03/11/2016) \n",
      "\n",
      "docket text 3\n",
      "NOTICE - emailed attorney regarding missing second page of the civil cover sheet. (Bowens, Priscilla) (Entered: 03/11/2016) \n",
      "\n",
      "docket text 4\n",
      "In accordance with Rule 73 of the Federal Rules of Civil Procedure and Local Rule 73.1, the parties are notified that if all parties consent a United States magistrate judge of this court is available to conduct all proceedings in this civil action including a (jury or nonjury) trial and to order the entry of a final judgment. Attached to the Notice is a blank copy of the consent form that should be filled out, signed and filed electronically only if all parties wish to consent. The form may also be accessed at the following link: http://www.uscourts.gov/uscourts/FormsAndFees/Forms/AO085.pdf. You may withhold your consent without adverse substantive consequences. Do NOT return or file the consent unless all parties have signed the consent. (Bowens, Priscilla) (Entered: 03/11/2016) \n",
      "\n"
     ]
    }
   ],
   "source": [
    "df = grab_dockets()\n",
    "docket_original = list(df['Docket Text'])\n",
    "for i in range(5):\n",
    "    print('docket text {}'.format(i))\n",
    "    print(docket_original[i], '\\n')"
   ]
  },
  {
   "cell_type": "code",
   "execution_count": 15,
   "metadata": {},
   "outputs": [
    {
     "name": "stdout",
     "output_type": "stream",
     "text": [
      "Wall time: 1h 40min 2s\n"
     ]
    }
   ],
   "source": [
    "%%time\n",
    "path_to_model = r'C:\\Users\\inves\\AppData\\Local\\Programs\\Python\\Python35\\Lib\\site-packages\\nltk\\stanford-ner-2018-02-27\\classifiers\\english.all.3class.distsim.crf.ser.gz'\n",
    "path_to_jar = r'C:\\Users\\inves\\AppData\\Local\\Programs\\Python\\Python35\\Lib\\site-packages\\nltk\\stanford-ner-2018-02-27\\stanford-ner.jar'\n",
    "tagger = StanfordNERTagger(path_to_model, path_to_jar = path_to_jar)\n",
    "\n",
    "output = []\n",
    "#length = 100 \n",
    "length = len(docket_original)\n",
    "for i in range(length):\n",
    "    org_str = []\n",
    "    name_str = []\n",
    "    stripped_str1 = []\n",
    "    stripped_str2 = []\n",
    "    tokens = nltk.tokenize.word_tokenize(docket_original[i])\n",
    "    for label in tagger.tag(tokens):\n",
    "        #print(label)\n",
    "        if label[1] == 'ORGANIZATION':\n",
    "            org_str.append(label[0])\n",
    "            stripped_str1.append('-ORG-')\n",
    "        elif label[1] == 'PERSON':\n",
    "            name_str.append(label[0])\n",
    "            stripped_str1.append('-NAME-')\n",
    "        else:\n",
    "            stripped_str1.append(label[0])\n",
    "            stripped_str2.append(label[0])\n",
    "    \n",
    "    output.append([docket_original[i],\n",
    "                   ' '.join(org_str),\n",
    "                   ' '.join(name_str),\n",
    "                   ' '.join(stripped_str1),\n",
    "                   ' '.join(stripped_str2)])\n",
    "    \n",
    "new_df = pd.DataFrame(output, columns = ['Original Text', 'Org Part', 'Name Part', 'Stripped Txt', 'RTW Txt'])"
   ]
  },
  {
   "cell_type": "code",
   "execution_count": 16,
   "metadata": {},
   "outputs": [
    {
     "name": "stdout",
     "output_type": "stream",
     "text": [
      "                                       Original Text  \\\n",
      "0  COMPLAINT against Cardiogenics Holdings, Inc. ...   \n",
      "1  Case assigned to Judge Ann M Donnelly and Magi...   \n",
      "2  Summons Issued as to Cardiogenics Holdings, In...   \n",
      "3  NOTICE - emailed attorney regarding missing se...   \n",
      "4  In accordance with Rule 73 of the Federal Rule...   \n",
      "\n",
      "                                          Org Part  \\\n",
      "0  Cardiogenics Holdings , Inc. LG Capital Funding   \n",
      "1      Individual Practices of the assigned Judges   \n",
      "2                            Cardiogenics Holdings   \n",
      "3                                                    \n",
      "4                                                    \n",
      "\n",
      "                                         Name Part  \\\n",
      "0             ( Steinmetz Michael Bowens Priscilla   \n",
      "1  Ann M Donnelly Vera M. Scanlon Bowens Priscilla   \n",
      "2                                 Bowens Priscilla   \n",
      "3                                 Bowens Priscilla   \n",
      "4                                 Bowens Priscilla   \n",
      "\n",
      "                                        Stripped Txt  \\\n",
      "0  COMPLAINT against -ORG- -ORG- -ORG- -ORG- fili...   \n",
      "1  Case assigned to Judge -NAME- -NAME- -NAME- an...   \n",
      "2  Summons Issued as to -ORG- -ORG- , Inc.. ( -NA...   \n",
      "3  NOTICE - emailed attorney regarding missing se...   \n",
      "4  In accordance with Rule 73 of the Federal Rule...   \n",
      "\n",
      "                                             RTW Txt  \n",
      "0  COMPLAINT against filing fee $ 400 , receipt n...  \n",
      "1  Case assigned to Judge and Magistrate Judge . ...  \n",
      "2  Summons Issued as to , Inc.. ( , ) ( Entered :...  \n",
      "3  NOTICE - emailed attorney regarding missing se...  \n",
      "4  In accordance with Rule 73 of the Federal Rule...  \n"
     ]
    }
   ],
   "source": [
    "print(new_df.head())\n",
    "docket_text_list = list(new_df['RTW Txt'])"
   ]
  },
  {
   "cell_type": "code",
   "execution_count": 17,
   "metadata": {},
   "outputs": [],
   "source": [
    "def text_preprocess1(text):\n",
    "    text = text.replace('-', '')\n",
    "    text = text.replace('(', ' ')\n",
    "    text = text.replace(')', ' ')\n",
    "    text = text.replace('(s)', 's')\n",
    "    text = text.replace('*', '')\n",
    "    return text\n",
    "\n",
    "def text_preprocess2(text):\n",
    "    text = text.replace('.', '')\n",
    "    return text\n",
    "\n",
    "def remove_stop(sentence):\n",
    "    output = []\n",
    "    for word in sentence.split():\n",
    "        if word not in set(stopwords.words('english')):\n",
    "            output.append(word)\n",
    "    return ' '.join(output)\n",
    "\n",
    "keywords = pd.read_csv('docket_texts/keywords.csv', header = None)\n",
    "keywords.columns = ['keywords']\n",
    "keyword_list = list(keywords['keywords'])"
   ]
  },
  {
   "cell_type": "code",
   "execution_count": 18,
   "metadata": {},
   "outputs": [
    {
     "name": "stdout",
     "output_type": "stream",
     "text": [
      "case assigned to judge and magistrate judge . please download and review the , located on our website . attorneys are responsible for providing courtesy copies to judges where their individual practices require such .   ,     entered : 03112016  \n",
      "3244\n"
     ]
    }
   ],
   "source": [
    "docket_text_list = [text_preprocess1(sentence).lower() for sentence in docket_text_list]\n",
    "print(docket_text_list[1])\n",
    "print(len(docket_text_list))"
   ]
  },
  {
   "cell_type": "code",
   "execution_count": 19,
   "metadata": {},
   "outputs": [],
   "source": [
    "class Splitter(object):\n",
    "\n",
    "    def __init__(self):\n",
    "        self.splitter = nltk.data.load('tokenizers/punkt/english.pickle')\n",
    "        self.tokenizer = nltk.tokenize.TreebankWordTokenizer()\n",
    "\n",
    "    def split(self,text):\n",
    "\n",
    "        # split into single sentence\n",
    "        sentences = self.splitter.tokenize(text)\n",
    "        # tokenization in each sentences\n",
    "        tokens = [self.tokenizer.tokenize(remove_stop(sent)) for sent in sentences]\n",
    "        return tokens\n",
    "\n",
    "\n",
    "class LemmatizationWithPOSTagger(object):\n",
    "    def __init__(self):\n",
    "        pass\n",
    "    def get_wordnet_pos(self,treebank_tag):\n",
    "        \"\"\"\n",
    "        return WORDNET POS compliance to WORDENT lemmatization (a,n,r,v) \n",
    "        \"\"\"\n",
    "        if treebank_tag.startswith('J'):\n",
    "            return wordnet.ADJ\n",
    "        elif treebank_tag.startswith('V'):\n",
    "            return wordnet.VERB\n",
    "        elif treebank_tag.startswith('N'):\n",
    "            return wordnet.NOUN\n",
    "        elif treebank_tag.startswith('R'):\n",
    "            return wordnet.ADV\n",
    "        else:\n",
    "            # As default pos in lemmatization is Noun\n",
    "            return wordnet.NOUN\n",
    "\n",
    "    def pos_tag(self,tokens):\n",
    "        # find the pos tagginf for each tokens [('What', 'WP'), ('can', 'MD'), ('I', 'PRP') ....\n",
    "        pos_tokens = [nltk.pos_tag(token) for token in tokens]\n",
    "\n",
    "        # lemmatization using pos tagg   \n",
    "        # convert into feature set of [('What', 'What', ['WP']), ('can', 'can', ['MD']), ... ie [original WORD, Lemmatized word, POS tag]\n",
    "        pos_tokens = [ [(word, lemmatizer.lemmatize(word,self.get_wordnet_pos(pos_tag)), [pos_tag]) for (word,pos_tag) in pos] for pos in pos_tokens]\n",
    "        return pos_tokens"
   ]
  },
  {
   "cell_type": "code",
   "execution_count": 20,
   "metadata": {},
   "outputs": [
    {
     "name": "stdout",
     "output_type": "stream",
     "text": [
      "Wall time: 2min 29s\n"
     ]
    }
   ],
   "source": [
    "%%time\n",
    "lemmatizer = WordNetLemmatizer()\n",
    "splitter = Splitter()\n",
    "lemmatization_using_pos_tagger = LemmatizationWithPOSTagger()\n",
    "\n",
    "lemma_docket_text_list = []\n",
    "for docket_text in docket_text_list:\n",
    "    #step 1 split document into sentence followed by tokenization\n",
    "    tokens = splitter.split(docket_text)\n",
    "\n",
    "    #step 2 lemmatization using pos tagger \n",
    "    lemma_pos_token = lemmatization_using_pos_tagger.pos_tag(tokens)\n",
    "    lemma_docket_text_list.append(lemma_pos_token)"
   ]
  },
  {
   "cell_type": "code",
   "execution_count": 21,
   "metadata": {},
   "outputs": [
    {
     "name": "stdout",
     "output_type": "stream",
     "text": [
      "3244\n",
      "3\n",
      "22\n",
      "('complaint', 'complaint', ['NN'])\n",
      "complaint\n"
     ]
    }
   ],
   "source": [
    "print(len(lemma_docket_text_list)) #docket text document level\n",
    "print(len(lemma_docket_text_list[0])) #docket text sentence level\n",
    "print(len(lemma_docket_text_list[0][0])) #docket text word level\n",
    "print(lemma_docket_text_list[0][0][0]) #docket text token level\n",
    "print(lemma_docket_text_list[0][0][0][0]) #docket text tuple level"
   ]
  },
  {
   "cell_type": "code",
   "execution_count": 22,
   "metadata": {},
   "outputs": [],
   "source": [
    "#lets do a collection of what we have\n",
    "collection = {}\n",
    "for lemma_pos_token in lemma_docket_text_list:\n",
    "    for sentence in lemma_pos_token:\n",
    "        for token in sentence:\n",
    "            #print(token[2][0])\n",
    "            if token[2][0] not in list(collection.keys()):\n",
    "                collection[token[2][0]] = []\n",
    "                collection[token[2][0]].append(token[1])\n",
    "            else:\n",
    "                if token[1] not in collection[token[2][0]]:\n",
    "                    collection[token[2][0]].append(token[1])"
   ]
  },
  {
   "cell_type": "code",
   "execution_count": 23,
   "metadata": {},
   "outputs": [],
   "source": [
    "pd.DataFrame(dict([ (k, pd.Series(v)) for k, v in collection.items()])).to_csv('NLP_pos.csv', index = False)"
   ]
  },
  {
   "cell_type": "code",
   "execution_count": 24,
   "metadata": {},
   "outputs": [
    {
     "name": "stdout",
     "output_type": "stream",
     "text": [
      "[['complaint file fee receipt number disclosure statement civil cover sheet complete yes file llc .', 'additional attachment add civil cover sheet proposed summons .', 'enter'], ['case assign judge magistrate judge .', 'please download review locate website .', 'attorney responsible provide courtesy copy judge individual practice require .', 'enter'], ['summons issue inc.. enter'], ['notice email attorney regard miss second page civil cover sheet .', 'enter'], ['accordance rule federal rule civil procedure local rule party notify party consent united state magistrate judge court available conduct proceeding civil action include jury nonjury trial order entry final judgment .', 'attach notice blank copy consent form fill sign file electronically party wish consent .', 'form may also access follow link http www.uscourts.govuscourtsformsandfeesformsao085.pdf .', 'may withhold consent without adverse substantive consequence .', 'return file consent unless party sign consent .', 'enter'], ['attorney case open filing check quality control .', 'see attachment correction make .', 'enter'], ['notice appearance behalf llc aty notice kehrli enter'], ['exhibit backend note llc .', 'related document complaint file llc .', 'enter'], ['exhibit b ta letter llc .', 'related document complaint file llc .', 'enter'], ['exhibit c notice conversion llc .', 'related document complaint file llc .', 'enter']]\n",
      "Wall time: 61.2 ms\n"
     ]
    }
   ],
   "source": [
    "%%time\n",
    "remove_pos = [\"``\", \"NNPS\", \"NNP\", \"CD\", '#', '$', \"''\", \",\", \"0\", \":\"]\n",
    "remove_word = []\n",
    "#rebuild corpus\n",
    "docket_texts_output = [] #ultimate output after cleaning\n",
    "\n",
    "for lemma_pos_token in lemma_docket_text_list:\n",
    "    docket_text_output = [] \n",
    "    for sentence in lemma_pos_token:\n",
    "        sentence_output = []\n",
    "        for token in sentence:\n",
    "            if token[2][0] not in remove_pos: #if the pos is not in the remove_pos list\n",
    "                sentence_output.append(token[1]) #append the the sentence\n",
    "        docket_text_output.append(' '.join(sentence_output))\n",
    "    docket_texts_output.append(docket_text_output)\n",
    "print(docket_texts_output[:10])"
   ]
  },
  {
   "cell_type": "code",
   "execution_count": 25,
   "metadata": {},
   "outputs": [
    {
     "data": {
      "text/html": [
       "<div>\n",
       "<table border=\"1\" class=\"dataframe\">\n",
       "  <thead>\n",
       "    <tr style=\"text-align: right;\">\n",
       "      <th></th>\n",
       "      <th>Original Text</th>\n",
       "      <th>Org Part</th>\n",
       "      <th>Name Part</th>\n",
       "      <th>Stripped Txt</th>\n",
       "      <th>RTW Txt</th>\n",
       "      <th>POS treat</th>\n",
       "    </tr>\n",
       "  </thead>\n",
       "  <tbody>\n",
       "    <tr>\n",
       "      <th>0</th>\n",
       "      <td>COMPLAINT against Cardiogenics Holdings, Inc. ...</td>\n",
       "      <td>Cardiogenics Holdings , Inc. LG Capital Funding</td>\n",
       "      <td>( Steinmetz Michael Bowens Priscilla</td>\n",
       "      <td>COMPLAINT against -ORG- -ORG- -ORG- -ORG- fili...</td>\n",
       "      <td>COMPLAINT against filing fee $ 400 , receipt n...</td>\n",
       "      <td>[complaint file fee receipt number disclosure ...</td>\n",
       "    </tr>\n",
       "    <tr>\n",
       "      <th>1</th>\n",
       "      <td>Case assigned to Judge Ann M Donnelly and Magi...</td>\n",
       "      <td>Individual Practices of the assigned Judges</td>\n",
       "      <td>Ann M Donnelly Vera M. Scanlon Bowens Priscilla</td>\n",
       "      <td>Case assigned to Judge -NAME- -NAME- -NAME- an...</td>\n",
       "      <td>Case assigned to Judge and Magistrate Judge . ...</td>\n",
       "      <td>[case assign judge magistrate judge ., please ...</td>\n",
       "    </tr>\n",
       "    <tr>\n",
       "      <th>2</th>\n",
       "      <td>Summons Issued as to Cardiogenics Holdings, In...</td>\n",
       "      <td>Cardiogenics Holdings</td>\n",
       "      <td>Bowens Priscilla</td>\n",
       "      <td>Summons Issued as to -ORG- -ORG- , Inc.. ( -NA...</td>\n",
       "      <td>Summons Issued as to , Inc.. ( , ) ( Entered :...</td>\n",
       "      <td>[summons issue inc.. enter]</td>\n",
       "    </tr>\n",
       "    <tr>\n",
       "      <th>3</th>\n",
       "      <td>NOTICE - emailed attorney regarding missing se...</td>\n",
       "      <td></td>\n",
       "      <td>Bowens Priscilla</td>\n",
       "      <td>NOTICE - emailed attorney regarding missing se...</td>\n",
       "      <td>NOTICE - emailed attorney regarding missing se...</td>\n",
       "      <td>[notice email attorney regard miss second page...</td>\n",
       "    </tr>\n",
       "    <tr>\n",
       "      <th>4</th>\n",
       "      <td>In accordance with Rule 73 of the Federal Rule...</td>\n",
       "      <td></td>\n",
       "      <td>Bowens Priscilla</td>\n",
       "      <td>In accordance with Rule 73 of the Federal Rule...</td>\n",
       "      <td>In accordance with Rule 73 of the Federal Rule...</td>\n",
       "      <td>[accordance rule federal rule civil procedure ...</td>\n",
       "    </tr>\n",
       "  </tbody>\n",
       "</table>\n",
       "</div>"
      ],
      "text/plain": [
       "                                       Original Text  \\\n",
       "0  COMPLAINT against Cardiogenics Holdings, Inc. ...   \n",
       "1  Case assigned to Judge Ann M Donnelly and Magi...   \n",
       "2  Summons Issued as to Cardiogenics Holdings, In...   \n",
       "3  NOTICE - emailed attorney regarding missing se...   \n",
       "4  In accordance with Rule 73 of the Federal Rule...   \n",
       "\n",
       "                                          Org Part  \\\n",
       "0  Cardiogenics Holdings , Inc. LG Capital Funding   \n",
       "1      Individual Practices of the assigned Judges   \n",
       "2                            Cardiogenics Holdings   \n",
       "3                                                    \n",
       "4                                                    \n",
       "\n",
       "                                         Name Part  \\\n",
       "0             ( Steinmetz Michael Bowens Priscilla   \n",
       "1  Ann M Donnelly Vera M. Scanlon Bowens Priscilla   \n",
       "2                                 Bowens Priscilla   \n",
       "3                                 Bowens Priscilla   \n",
       "4                                 Bowens Priscilla   \n",
       "\n",
       "                                        Stripped Txt  \\\n",
       "0  COMPLAINT against -ORG- -ORG- -ORG- -ORG- fili...   \n",
       "1  Case assigned to Judge -NAME- -NAME- -NAME- an...   \n",
       "2  Summons Issued as to -ORG- -ORG- , Inc.. ( -NA...   \n",
       "3  NOTICE - emailed attorney regarding missing se...   \n",
       "4  In accordance with Rule 73 of the Federal Rule...   \n",
       "\n",
       "                                             RTW Txt  \\\n",
       "0  COMPLAINT against filing fee $ 400 , receipt n...   \n",
       "1  Case assigned to Judge and Magistrate Judge . ...   \n",
       "2  Summons Issued as to , Inc.. ( , ) ( Entered :...   \n",
       "3  NOTICE - emailed attorney regarding missing se...   \n",
       "4  In accordance with Rule 73 of the Federal Rule...   \n",
       "\n",
       "                                           POS treat  \n",
       "0  [complaint file fee receipt number disclosure ...  \n",
       "1  [case assign judge magistrate judge ., please ...  \n",
       "2                        [summons issue inc.. enter]  \n",
       "3  [notice email attorney regard miss second page...  \n",
       "4  [accordance rule federal rule civil procedure ...  "
      ]
     },
     "execution_count": 25,
     "metadata": {},
     "output_type": "execute_result"
    }
   ],
   "source": [
    "new_df['POS treat'] = pd.Series(docket_texts_output)\n",
    "new_df.head()"
   ]
  },
  {
   "cell_type": "code",
   "execution_count": 26,
   "metadata": {},
   "outputs": [],
   "source": [
    "unigram_sentences_filepath = 'docket_texts/unigram_nltk_noorgnoname.txt'"
   ]
  },
  {
   "cell_type": "code",
   "execution_count": 27,
   "metadata": {},
   "outputs": [
    {
     "name": "stdout",
     "output_type": "stream",
     "text": [
      "Wall time: 14 ms\n"
     ]
    }
   ],
   "source": [
    "%%time\n",
    "# turn the lemmatized corpus into unigram sentences\n",
    "with codecs.open(unigram_sentences_filepath, 'w', encoding = 'utf_8') as f:\n",
    "    for docket_text in docket_texts_output:\n",
    "        for sentence in docket_text:\n",
    "            f.write(sentence + '\\n')"
   ]
  },
  {
   "cell_type": "code",
   "execution_count": 28,
   "metadata": {},
   "outputs": [],
   "source": [
    "unigram_sentences = LineSentence(unigram_sentences_filepath)"
   ]
  },
  {
   "cell_type": "code",
   "execution_count": 29,
   "metadata": {},
   "outputs": [
    {
     "name": "stdout",
     "output_type": "stream",
     "text": [
      "original text:\n",
      "['complaint file fee receipt number disclosure statement civil cover sheet complete yes file llc .', 'additional attachment add civil cover sheet proposed summons .', 'enter']\n",
      "\n",
      "unigram_sentence:\n",
      "complaint file fee receipt number disclosure statement civil cover sheet complete yes file llc .\n",
      "\n",
      "additional attachment add civil cover sheet proposed summons .\n",
      "\n",
      "enter\n",
      "\n",
      "case assign judge magistrate judge .\n",
      "\n",
      "please download review locate website .\n",
      "\n",
      "attorney responsible provide courtesy copy judge individual practice require .\n",
      "\n",
      "enter\n",
      "\n",
      "summons issue inc.. enter\n",
      "\n",
      "notice email attorney regard miss second page civil cover sheet .\n",
      "\n",
      "enter\n",
      "\n"
     ]
    }
   ],
   "source": [
    "#let's do some comparision between the original text and unigram sentences, shouldn't be that different.\n",
    "print('original text:')\n",
    "print(new_df['POS treat'].iloc[0])\n",
    "#print(df['Docket Text'].iloc[1])\n",
    "\n",
    "print('\\nunigram_sentence:')\n",
    "for unigram_sentence in it.islice(unigram_sentences, 0, 10):\n",
    "    print(' '.join(unigram_sentence))\n",
    "    print('')"
   ]
  },
  {
   "cell_type": "code",
   "execution_count": 30,
   "metadata": {},
   "outputs": [],
   "source": [
    "bigram_model_filepath = 'docket_texts/bigram_model_noorgnoname' "
   ]
  },
  {
   "cell_type": "code",
   "execution_count": 31,
   "metadata": {},
   "outputs": [
    {
     "name": "stdout",
     "output_type": "stream",
     "text": [
      "Wall time: 207 ms\n"
     ]
    }
   ],
   "source": [
    "%%time\n",
    "\n",
    "# store our bigram model\n",
    "bigram_model = Phrases(unigram_sentences)\n",
    "bigram_model.save(bigram_model_filepath)\n",
    "    \n",
    "# load the finished model from disk if we don't want to run this again\n",
    "#bigram_model = Phrases.load(bigram_model_filepath)"
   ]
  },
  {
   "cell_type": "code",
   "execution_count": 32,
   "metadata": {},
   "outputs": [],
   "source": [
    "bigram_sentences_filepath = 'docket_texts/bigram_sentences_noorgnoname.txt'"
   ]
  },
  {
   "cell_type": "code",
   "execution_count": 33,
   "metadata": {},
   "outputs": [
    {
     "name": "stderr",
     "output_type": "stream",
     "text": [
      "c:\\users\\inves\\appdata\\local\\programs\\python\\python35\\lib\\site-packages\\gensim\\models\\phrases.py:494: UserWarning: For a faster implementation, use the gensim.models.phrases.Phraser class\n",
      "  warnings.warn(\"For a faster implementation, use the gensim.models.phrases.Phraser class\")\n"
     ]
    },
    {
     "name": "stdout",
     "output_type": "stream",
     "text": [
      "Wall time: 523 ms\n"
     ]
    }
   ],
   "source": [
    "%%time\n",
    "\n",
    "# apply the bigram model, and write it to file\n",
    "with codecs.open(bigram_sentences_filepath, 'w', encoding = 'utf_8') as f:\n",
    "    for unigram_sentence in unigram_sentences:\n",
    "        bigram_sentence = ' '.join(bigram_model[unigram_sentence])\n",
    "        f.write(bigram_sentence + '\\n')"
   ]
  },
  {
   "cell_type": "code",
   "execution_count": 34,
   "metadata": {},
   "outputs": [
    {
     "name": "stdout",
     "output_type": "stream",
     "text": [
      "unigram length = 11502, bigram length = 11502\n"
     ]
    }
   ],
   "source": [
    "bigram_sentences = LineSentence(bigram_sentences_filepath)\n",
    "print('unigram length = {}, bigram length = {}'.format(len(list(unigram_sentences)), len(list(bigram_sentences))))"
   ]
  },
  {
   "cell_type": "code",
   "execution_count": 35,
   "metadata": {},
   "outputs": [
    {
     "name": "stdout",
     "output_type": "stream",
     "text": [
      "original text:\n",
      "['complaint file fee receipt number disclosure statement civil cover sheet complete yes file llc .', 'additional attachment add civil cover sheet proposed summons .', 'enter']\n",
      "['case assign judge magistrate judge .', 'please download review locate website .', 'attorney responsible provide courtesy copy judge individual practice require .', 'enter']\n",
      "\n",
      "unigram sentence:\n",
      "complaint file fee receipt number disclosure statement civil cover sheet complete yes file llc .\n",
      "additional attachment add civil cover sheet proposed summons .\n",
      "enter\n",
      "case assign judge magistrate judge .\n",
      "please download review locate website .\n",
      "attorney responsible provide courtesy copy judge individual practice require .\n",
      "enter\n",
      "summons issue inc.. enter\n",
      "notice email attorney regard miss second page civil cover sheet .\n",
      "enter\n",
      "\n",
      "bigram sentence:\n",
      "complaint file fee_receipt number disclosure_statement civil_cover sheet complete_yes file llc .\n",
      "additional attachment_add civil_cover sheet proposed summons .\n",
      "enter\n",
      "case assign judge magistrate_judge .\n",
      "please_download review_locate website .\n",
      "attorney_responsible provide_courtesy copy judge individual_practice require .\n",
      "enter\n",
      "summons_issue inc.. enter\n",
      "notice email attorney regard miss second page civil_cover sheet .\n",
      "enter\n"
     ]
    }
   ],
   "source": [
    "#original v. unigram v. bigram. Some phrases should be combined already\n",
    "start = 0\n",
    "finish = 10\n",
    "print('original text:')\n",
    "print(new_df['POS treat'].iloc[0])\n",
    "print(new_df['POS treat'].iloc[1])\n",
    "\n",
    "print('\\nunigram sentence:')\n",
    "for unigram_sentence in it.islice(unigram_sentences, 0, 10):\n",
    "    print(' '.join(unigram_sentence))\n",
    "print('\\nbigram sentence:')\n",
    "for bigram_sentence in it.islice(bigram_sentences, start, finish):\n",
    "    print(' '.join(bigram_sentence))"
   ]
  },
  {
   "cell_type": "code",
   "execution_count": 36,
   "metadata": {},
   "outputs": [],
   "source": [
    "trigram_model_filepath = 'docket_texts/trigram_model_nonamenoorg'"
   ]
  },
  {
   "cell_type": "code",
   "execution_count": 37,
   "metadata": {},
   "outputs": [
    {
     "name": "stdout",
     "output_type": "stream",
     "text": [
      "Wall time: 186 ms\n"
     ]
    }
   ],
   "source": [
    "%%time\n",
    "\n",
    "# again, using Phrases to attach more words to phrases already formed\n",
    "trigram_model = Phrases(bigram_sentences)\n",
    "trigram_model.save(trigram_model_filepath)\n",
    "\n",
    "# load the finished model from disk\n",
    "#trigram_model = Phrases.load(trigram_model_filepath)"
   ]
  },
  {
   "cell_type": "code",
   "execution_count": 38,
   "metadata": {},
   "outputs": [],
   "source": [
    "trigram_sentences_filepath = 'docket_texts/trigram_sentences_nonamenoorg.txt'"
   ]
  },
  {
   "cell_type": "code",
   "execution_count": 39,
   "metadata": {},
   "outputs": [
    {
     "name": "stderr",
     "output_type": "stream",
     "text": [
      "c:\\users\\inves\\appdata\\local\\programs\\python\\python35\\lib\\site-packages\\gensim\\models\\phrases.py:494: UserWarning: For a faster implementation, use the gensim.models.phrases.Phraser class\n",
      "  warnings.warn(\"For a faster implementation, use the gensim.models.phrases.Phraser class\")\n"
     ]
    },
    {
     "name": "stdout",
     "output_type": "stream",
     "text": [
      "Wall time: 438 ms\n"
     ]
    }
   ],
   "source": [
    "%%time\n",
    "\n",
    "with codecs.open(trigram_sentences_filepath, 'w', encoding = 'utf_8') as f:\n",
    "    for bigram_sentence in bigram_sentences:\n",
    "        #print('Bi', bigram_sentence)\n",
    "        trigram_sentence = ' '.join(trigram_model[bigram_sentence])\n",
    "        #print('Tri', trigram_sentence)\n",
    "        f.write(trigram_sentence + '\\n')"
   ]
  },
  {
   "cell_type": "code",
   "execution_count": 40,
   "metadata": {},
   "outputs": [],
   "source": [
    "trigram_sentences = LineSentence(trigram_sentences_filepath)"
   ]
  },
  {
   "cell_type": "code",
   "execution_count": 41,
   "metadata": {},
   "outputs": [
    {
     "name": "stdout",
     "output_type": "stream",
     "text": [
      "original text:\n",
      "['complaint file fee receipt number disclosure statement civil cover sheet complete yes file llc .', 'additional attachment add civil cover sheet proposed summons .', 'enter'] \n",
      "\n",
      "['case assign judge magistrate judge .', 'please download review locate website .', 'attorney responsible provide courtesy copy judge individual practice require .', 'enter'] \n",
      "\n",
      "['summons issue inc.. enter'] \n",
      "\n",
      "['notice email attorney regard miss second page civil cover sheet .', 'enter'] \n",
      "\n",
      "\n",
      "UNIGRAM Sentence:\n",
      "complaint file fee receipt number disclosure statement civil cover sheet complete yes file llc .\n",
      "additional attachment add civil cover sheet proposed summons .\n",
      "enter\n",
      "case assign judge magistrate judge .\n",
      "please download review locate website .\n",
      "attorney responsible provide courtesy copy judge individual practice require .\n",
      "enter\n",
      "summons issue inc.. enter\n",
      "notice email attorney regard miss second page civil cover sheet .\n",
      "enter\n",
      "accordance rule federal rule civil procedure local rule party notify party consent united state magistrate judge court available conduct proceeding civil action include jury nonjury trial order entry final judgment .\n",
      "attach notice blank copy consent form fill sign file electronically party wish consent .\n",
      "form may also access follow link http www.uscourts.govuscourtsformsandfeesformsao085.pdf .\n",
      "may withhold consent without adverse substantive consequence .\n",
      "return file consent unless party sign consent .\n",
      "\n",
      "BIGRAM Sentence:\n",
      "complaint file fee_receipt number disclosure_statement civil_cover sheet complete_yes file llc .\n",
      "additional attachment_add civil_cover sheet proposed summons .\n",
      "enter\n",
      "case assign judge magistrate_judge .\n",
      "please_download review_locate website .\n",
      "attorney_responsible provide_courtesy copy judge individual_practice require .\n",
      "enter\n",
      "summons_issue inc.. enter\n",
      "notice email attorney regard miss second page civil_cover sheet .\n",
      "enter\n",
      "accordance rule_federal rule_civil procedure_local rule party notify party consent united_state magistrate_judge court available_conduct proceeding civil action include jury_nonjury trial order entry final judgment .\n",
      "attach notice blank copy consent form_fill sign file electronically party_wish consent .\n",
      "form may also_access follow_link http_www.uscourts.govuscourtsformsandfeesformsao085.pdf .\n",
      "may_withhold consent without_adverse substantive_consequence .\n",
      "return file consent_unless party sign consent .\n",
      "\n",
      "TRIGRAM Sentence:\n",
      "complaint file fee_receipt_number disclosure_statement_civil_cover sheet_complete_yes file llc .\n",
      "additional_attachment_add civil_cover_sheet proposed summons .\n",
      "enter\n",
      "case_assign judge magistrate_judge .\n",
      "please_download_review_locate website .\n",
      "attorney_responsible_provide_courtesy copy judge_individual_practice require .\n",
      "enter\n",
      "summons_issue inc.. enter\n",
      "notice email attorney regard miss second page civil_cover_sheet .\n",
      "enter\n",
      "accordance_rule_federal rule_civil_procedure_local rule party notify party consent united_state_magistrate_judge court available_conduct_proceeding civil_action include_jury_nonjury trial order entry_final judgment .\n",
      "attach notice blank_copy consent_form_fill sign file electronically_party_wish consent .\n",
      "form may_also_access follow_link_http_www.uscourts.govuscourtsformsandfeesformsao085.pdf .\n",
      "may_withhold_consent without_adverse_substantive_consequence .\n",
      "return file consent_unless party sign consent .\n"
     ]
    }
   ],
   "source": [
    "start = 0\n",
    "finish = 15\n",
    "print('original text:')\n",
    "print(new_df['POS treat'].iloc[0],'\\n')\n",
    "print(new_df['POS treat'].iloc[1],'\\n')\n",
    "print(new_df['POS treat'].iloc[2],'\\n')\n",
    "print(new_df['POS treat'].iloc[3],'\\n')\n",
    "\n",
    "print('\\nUNIGRAM Sentence:')\n",
    "for unigram_sentence in it.islice(unigram_sentences, start, finish):\n",
    "    print(' '.join(unigram_sentence))\n",
    "print('\\nBIGRAM Sentence:')\n",
    "for bigram_sentence in it.islice(bigram_sentences, start, finish):\n",
    "    print(' '.join(bigram_sentence))\n",
    "print('\\nTRIGRAM Sentence:')\n",
    "for trigram_sentence in it.islice(trigram_sentences, start, finish):\n",
    "    print(' '.join(trigram_sentence))"
   ]
  },
  {
   "cell_type": "code",
   "execution_count": 42,
   "metadata": {},
   "outputs": [],
   "source": [
    "def trigram_transform(texts):\n",
    "    trigram_output = []\n",
    "    #print(texts)\n",
    "    \n",
    "    for sentence in texts:\n",
    "        unigram_review = []\n",
    "        for word in sentence.split():\n",
    "            unigram_review.append(word)\n",
    "    \n",
    "        #print('Uni: ', unigram_review)\n",
    "        bigram_review = bigram_model[unigram_review]\n",
    "        #print('Bi: ', bigram_review)\n",
    "        trigram_review = trigram_model[bigram_review]\n",
    "        #print('Tri: ', trigram_review)\n",
    "        trigram_output.append(' '.join(trigram_review))\n",
    "    return trigram_output"
   ]
  },
  {
   "cell_type": "code",
   "execution_count": 43,
   "metadata": {},
   "outputs": [
    {
     "name": "stderr",
     "output_type": "stream",
     "text": [
      "c:\\users\\inves\\appdata\\local\\programs\\python\\python35\\lib\\site-packages\\gensim\\models\\phrases.py:494: UserWarning: For a faster implementation, use the gensim.models.phrases.Phraser class\n",
      "  warnings.warn(\"For a faster implementation, use the gensim.models.phrases.Phraser class\")\n"
     ]
    }
   ],
   "source": [
    "new_df['Phrase Model'] = new_df['POS treat'].apply(trigram_transform)"
   ]
  },
  {
   "cell_type": "code",
   "execution_count": 44,
   "metadata": {},
   "outputs": [
    {
     "data": {
      "text/plain": [
       "['complaint file fee_receipt_number disclosure_statement_civil_cover sheet_complete_yes file llc .',\n",
       " 'additional_attachment_add civil_cover_sheet proposed summons .',\n",
       " 'enter']"
      ]
     },
     "execution_count": 44,
     "metadata": {},
     "output_type": "execute_result"
    }
   ],
   "source": [
    "new_df['Phrase Model'].iloc[0]"
   ]
  },
  {
   "cell_type": "code",
   "execution_count": 45,
   "metadata": {},
   "outputs": [],
   "source": [
    "#write trigram to file\n",
    "trigram_dockets_filepath = 'docket_texts/trigram_transformed_dockets_noorgnoname.txt'"
   ]
  },
  {
   "cell_type": "code",
   "execution_count": 46,
   "metadata": {},
   "outputs": [],
   "source": [
    "with codecs.open(trigram_dockets_filepath, 'w', encoding= 'utf_8') as f:\n",
    "    for i in range(len(new_df['Phrase Model'])):\n",
    "        f.write(' '.join(new_df['Phrase Model'][i]) + '\\n')"
   ]
  },
  {
   "cell_type": "code",
   "execution_count": 47,
   "metadata": {},
   "outputs": [],
   "source": [
    "trigram_dictionary_filepath = 'docket_texts/trigram_dict_noorgnoname.dict'"
   ]
  },
  {
   "cell_type": "code",
   "execution_count": 48,
   "metadata": {},
   "outputs": [
    {
     "name": "stdout",
     "output_type": "stream",
     "text": [
      "Wall time: 101 ms\n"
     ]
    }
   ],
   "source": [
    "%%time\n",
    "\n",
    "#some dictionary hyperparameters:\n",
    "no_below = 10 #reference is 10\n",
    "no_above = 0.4 #reference is 0.4\n",
    "\n",
    "trigram_reviews = LineSentence(trigram_dockets_filepath)\n",
    "\n",
    "# learn the dictionary by iterating over all of the reviews\n",
    "trigram_dictionary = Dictionary(trigram_reviews)\n",
    "\n",
    "# filter tokens that are very rare otrigram_reviewsr too common from\n",
    "# the dictionary (filter_extremes) and reassign integer ids (compactify)\n",
    "trigram_dictionary.filter_extremes(no_below = no_below, no_above = no_above) #this step is questionable. May need to change the parameters\n",
    "trigram_dictionary.compactify()\n",
    "\n",
    "trigram_dictionary.save(trigram_dictionary_filepath)\n",
    "    \n",
    "# load the finished dictionary from disk\n",
    "#trigram_dictionary = Dictionary.load(trigram_dictionary_filepath)"
   ]
  },
  {
   "cell_type": "code",
   "execution_count": 49,
   "metadata": {},
   "outputs": [],
   "source": [
    "trigram_bow_filepath = 'docket_texts/trigram_bow_corpus_noorgnoname.mm'"
   ]
  },
  {
   "cell_type": "code",
   "execution_count": 50,
   "metadata": {},
   "outputs": [],
   "source": [
    "def trigram_bow_generator(filepath):\n",
    "    \"\"\"\n",
    "    generator function to read reviews from a file\n",
    "    and yield a bag-of-words representation\n",
    "    \"\"\"\n",
    "    \n",
    "    for review in LineSentence(filepath):\n",
    "        #print(review)\n",
    "        #print(trigram_dictionary.doc2bow(review))\n",
    "        yield trigram_dictionary.doc2bow(review)"
   ]
  },
  {
   "cell_type": "code",
   "execution_count": 51,
   "metadata": {},
   "outputs": [
    {
     "name": "stdout",
     "output_type": "stream",
     "text": [
      "MmCorpus(11502 documents, 850 features, 36759 non-zero entries)\n",
      "Wall time: 214 ms\n"
     ]
    }
   ],
   "source": [
    "%%time\n",
    "\n",
    "# generate bag-of-words representations for\n",
    "# all reviews and save them as a matrix\n",
    "MmCorpus.serialize(trigram_bow_filepath, trigram_bow_generator(trigram_sentences_filepath))\n",
    "    \n",
    "# load the finished bag-of-words corpus from disk\n",
    "trigram_bow_corpus = MmCorpus(trigram_bow_filepath)\n",
    "print(trigram_bow_corpus)"
   ]
  },
  {
   "cell_type": "code",
   "execution_count": 52,
   "metadata": {},
   "outputs": [],
   "source": [
    "def explore_topic(model, topic_number, topn = 10):\n",
    "    topics = []\n",
    "    print('{:20} {}'.format('term', 'frequency') + '\\n')\n",
    "    for term, frequency in model.show_topic(topic_number, topn = topn):\n",
    "        print('{:20} {:.3f}'.format(term, round(frequency, 3)))\n",
    "        topics.append((term, round(frequency, 3)))\n",
    "    return topics"
   ]
  },
  {
   "cell_type": "code",
   "execution_count": 53,
   "metadata": {},
   "outputs": [],
   "source": [
    "def topic_modeling_pipeline(num_topics, model_file_path, trigram_bow_corpus, trigram_dictionary, export = False):\n",
    "\n",
    "    with warnings.catch_warnings():\n",
    "        warnings.simplefilter('ignore')\n",
    "\n",
    "        # workers => sets the parallelism, and should be\n",
    "        # set to your number of physical cores minus one\n",
    "        lda = LdaMulticore(trigram_bow_corpus, num_topics = num_topics, id2word = trigram_dictionary, workers = 4)\n",
    "\n",
    "        lda.save(model_file_path)\n",
    "    \n",
    "    topic_dict = {}\n",
    "    for i in range(num_topics):\n",
    "        print(\"\\n Topic {}'s make-up:\".format(i + 1))\n",
    "        topic_dict[i] = explore_topic(lda, topic_number = i)\n",
    "    \n",
    "    if export:\n",
    "        pd.DataFrame(topic_dict).to_csv(model_file_path + 'topics.csv', index = False)\n",
    "    \n",
    "    LDAvis_data_filepath = model_file_path + '_ldavis'\n",
    "    \n",
    "    LDAvis_prepared = pyLDAvis.gensim.prepare(lda, trigram_bow_corpus, trigram_dictionary)\n",
    "\n",
    "    with open(LDAvis_data_filepath, 'wb') as f:\n",
    "        pickle.dump(LDAvis_prepared, f)\n",
    "        \n",
    "    with open(LDAvis_data_filepath, 'rb') as f:\n",
    "        LDAvis_prepared = pickle.load(f)\n",
    "        \n",
    "    return LDAvis_prepared, lda"
   ]
  },
  {
   "cell_type": "code",
   "execution_count": 92,
   "metadata": {},
   "outputs": [],
   "source": [
    "def lda_description(docket_text, lda, trigram_dictionary, topic_names, min_topic_freq = 0.05):\n",
    "    '''\n",
    "    accept the processed texts (trigram) of a review and \n",
    "    1) create a bag-of-words representation, \n",
    "    4) create an LDA representation, and\n",
    "    5) print a sorted list of the top topics in the LDA representation\n",
    "    '''\n",
    "    output = []\n",
    "    analyze_this = []\n",
    "    for sentence in docket_text:\n",
    "        analyze_this += sentence.split()\n",
    "    \n",
    "    # create a bag-of-words representation\n",
    "    review_bow = trigram_dictionary.doc2bow(analyze_this)\n",
    "    \n",
    "    # create an LDA representation\n",
    "    review_lda = lda[review_bow]\n",
    "    \n",
    "    # sort with the most highly related topics first\n",
    "    review_lda.sort(key = lambda tup: tup[1], reverse = True)\n",
    "    #print(review_lda)\n",
    "    for topic_number, freq in review_lda:\n",
    "        if freq < min_topic_freq:\n",
    "            break\n",
    "            \n",
    "        # print the most highly related topic names and frequencies\n",
    "        #print('{:25} {}'.format(topic_names[topic_number], round(freq, 3)))\n",
    "        output.append((topic_names[topic_number], round(freq, 5)))\n",
    "    return output"
   ]
  },
  {
   "cell_type": "markdown",
   "metadata": {},
   "source": [
    "### Providing topic visualizations, topic constituents for each topic, and classifying each docket text\n",
    "### 2 Topics:"
   ]
  },
  {
   "cell_type": "code",
   "execution_count": 98,
   "metadata": {},
   "outputs": [
    {
     "name": "stdout",
     "output_type": "stream",
     "text": [
      "\n",
      " Topic 1's make-up:\n",
      "term                 frequency\n",
      "\n",
      "exhibit              0.120\n",
      "motion               0.051\n",
      "order                0.041\n",
      "defendant            0.015\n",
      "party                0.011\n",
      "attachment           0.009\n",
      "court                0.009\n",
      "date                 0.009\n",
      "request              0.009\n",
      "plaintiff            0.008\n",
      "\n",
      " Topic 2's make-up:\n",
      "term                 frequency\n",
      "\n",
      "motion               0.055\n",
      "order                0.041\n",
      "'s                   0.024\n",
      "notice               0.022\n",
      "sign_judge           0.014\n",
      "shall                0.012\n",
      "dismiss              0.010\n",
      "stipulation          0.009\n",
      "magistrate_judge     0.009\n",
      "summary_judgment     0.009\n"
     ]
    },
    {
     "data": {
      "text/html": [
       "\n",
       "<link rel=\"stylesheet\" type=\"text/css\" href=\"https://cdn.rawgit.com/bmabey/pyLDAvis/files/ldavis.v1.0.0.css\">\n",
       "\n",
       "\n",
       "<div id=\"ldavis_el2506819944969363601693346400\"></div>\n",
       "<script type=\"text/javascript\">\n",
       "\n",
       "var ldavis_el2506819944969363601693346400_data = {\"topic.order\": [1, 2], \"mdsDat\": {\"cluster\": [1, 1], \"topics\": [1, 2], \"Freq\": [51.03840538908031, 48.96159461091968], \"x\": [0.04743736237287521, -0.04743736237287521], \"y\": [0.0, 0.0]}, \"R\": 30, \"tinfo\": {\"Category\": [\"Default\", \"Default\", \"Default\", \"Default\", \"Default\", \"Default\", \"Default\", \"Default\", \"Default\", \"Default\", \"Default\", \"Default\", \"Default\", \"Default\", \"Default\", \"Default\", \"Default\", \"Default\", \"Default\", \"Default\", \"Default\", \"Default\", \"Default\", \"Default\", \"Default\", \"Default\", \"Default\", \"Default\", \"Default\", \"Default\", \"Topic1\", \"Topic1\", \"Topic1\", \"Topic1\", \"Topic1\", \"Topic1\", \"Topic1\", \"Topic1\", \"Topic1\", \"Topic1\", \"Topic1\", \"Topic1\", \"Topic1\", \"Topic1\", \"Topic1\", \"Topic1\", \"Topic1\", \"Topic1\", \"Topic1\", \"Topic1\", \"Topic1\", \"Topic1\", \"Topic1\", \"Topic1\", \"Topic1\", \"Topic1\", \"Topic1\", \"Topic1\", \"Topic1\", \"Topic1\", \"Topic1\", \"Topic1\", \"Topic1\", \"Topic1\", \"Topic1\", \"Topic1\", \"Topic1\", \"Topic1\", \"Topic1\", \"Topic1\", \"Topic1\", \"Topic1\", \"Topic1\", \"Topic1\", \"Topic1\", \"Topic1\", \"Topic1\", \"Topic1\", \"Topic1\", \"Topic1\", \"Topic1\", \"Topic1\", \"Topic1\", \"Topic1\", \"Topic1\", \"Topic1\", \"Topic1\", \"Topic1\", \"Topic1\", \"Topic1\", \"Topic1\", \"Topic1\", \"Topic1\", \"Topic1\", \"Topic1\", \"Topic1\", \"Topic1\", \"Topic1\", \"Topic1\", \"Topic1\", \"Topic1\", \"Topic2\", \"Topic2\", \"Topic2\", \"Topic2\", \"Topic2\", \"Topic2\", \"Topic2\", \"Topic2\", \"Topic2\", \"Topic2\", \"Topic2\", \"Topic2\", \"Topic2\", \"Topic2\", \"Topic2\", \"Topic2\", \"Topic2\", \"Topic2\", \"Topic2\", \"Topic2\", \"Topic2\", \"Topic2\", \"Topic2\", \"Topic2\", \"Topic2\", \"Topic2\", \"Topic2\", \"Topic2\", \"Topic2\", \"Topic2\", \"Topic2\", \"Topic2\", \"Topic2\", \"Topic2\", \"Topic2\", \"Topic2\", \"Topic2\", \"Topic2\", \"Topic2\", \"Topic2\", \"Topic2\", \"Topic2\", \"Topic2\", \"Topic2\", \"Topic2\", \"Topic2\", \"Topic2\", \"Topic2\", \"Topic2\", \"Topic2\", \"Topic2\", \"Topic2\", \"Topic2\", \"Topic2\", \"Topic2\", \"Topic2\", \"Topic2\", \"Topic2\", \"Topic2\", \"Topic2\", \"Topic2\", \"Topic2\", \"Topic2\", \"Topic2\", \"Topic2\", \"Topic2\", \"Topic2\", \"Topic2\", \"Topic2\", \"Topic2\"], \"Total\": [2716.0, 632.0, 574.0, 370.0, 180.0, 241.0, 141.0, 263.0, 174.0, 80.0, 98.0, 476.0, 280.0, 80.0, 86.0, 287.0, 72.0, 166.0, 166.0, 59.0, 105.0, 112.0, 381.0, 114.0, 50.0, 246.0, 53.0, 43.0, 56.0, 40.0, 2716.797561930207, 29.96689803673574, 10.285092755702212, 27.79576914077699, 14.316427672615823, 59.706984724005046, 29.620564266886017, 33.222039245873134, 18.026596142534544, 22.123401323242142, 10.887447261232591, 12.929384438255749, 8.753918582254208, 14.965251075249427, 19.65868707257121, 18.947264710474506, 180.65503032208807, 18.904592301471986, 9.515543145605609, 18.137152010973608, 10.849751338570687, 10.256587627065233, 31.506615426066382, 24.839395981700186, 10.988365931570945, 35.09505969521311, 12.116944848307066, 37.86959815276923, 16.842721337876714, 18.97138636939325, 174.35055568105352, 112.8658561270666, 114.17860339443094, 66.58764907094823, 45.784325543772404, 50.19555361605924, 166.38152173880204, 287.3873376741611, 476.03040418316857, 109.66993813769092, 133.86847898123844, 246.70236357364206, 79.868882420431, 47.338013181292716, 60.10305514479376, 1755.0182174424071, 296.79181702925496, 2251.5781964500075, 384.2242031871612, 230.87018118395605, 345.19301908877, 167.12848477203846, 91.25986434847948, 214.62646640317416, 313.5807550947495, 92.27747343553294, 317.66884058073003, 165.10854613361113, 285.75645788147517, 389.1848527337165, 109.34388998763094, 248.70520090012988, 331.7672474022478, 214.9365344092854, 166.5783455746411, 235.18051547448678, 351.8903943555388, 381.0735650493956, 632.6006278693458, 235.256057132784, 574.3113574288491, 40.45291621958193, 43.454968314573115, 35.90443519172924, 21.362822161109392, 9.814536565404342, 50.565975314778136, 80.3295899120838, 53.90278777532434, 33.316799060405934, 12.66895300043754, 15.6018604827908, 72.08182965128056, 56.386884794829, 38.71746285914797, 80.43185788561206, 46.792287148311146, 19.64547541719424, 50.06396012492352, 13.999183429605514, 9.691538825126266, 15.711556047968834, 141.44659528051548, 36.02990434235987, 98.10924107394776, 16.95606747304484, 86.02686535249246, 28.04792857555277, 10.38476370714202, 13.943185231439564, 20.53840234789614, 23.31161425549408, 19.285204549328462, 370.2525539240693, 574.3113574288491, 632.6006278693458, 241.41933270953885, 82.41806407232616, 105.25269948465093, 263.76978424206584, 57.42177190963682, 166.80406964024684, 46.08693447953851, 31.624079254682137, 280.1854800648101, 138.4924169504249, 144.43817757657456, 381.0735650493956, 2251.5781964500075, 141.18950204586065, 1755.0182174424071, 351.8903943555388, 126.0040429537373, 93.86108894488538, 331.7672474022478, 125.68615153914618, 184.52985864231826, 142.47968903908705, 235.256057132784, 389.1848527337165, 197.06035534350357, 235.18051547448678, 317.66884058073003, 384.2242031871612, 345.19301908877, 313.5807550947495, 285.75645788147517, 476.03040418316857, 248.70520090012988, 214.9365344092854, 296.79181702925496], \"loglift\": [30.0, 29.0, 28.0, 27.0, 26.0, 25.0, 24.0, 23.0, 22.0, 21.0, 20.0, 19.0, 18.0, 17.0, 16.0, 15.0, 14.0, 13.0, 12.0, 11.0, 10.0, 9.0, 8.0, 7.0, 6.0, 5.0, 4.0, 3.0, 2.0, 1.0, 0.6361, 0.6267, 0.6025, 0.6017, 0.5719, 0.5684, 0.5524, 0.5448, 0.5421, 0.5322, 0.5262, 0.5226, 0.5223, 0.5219, 0.5171, 0.5162, 0.5152, 0.4991, 0.4978, 0.4954, 0.4943, 0.4866, 0.4827, 0.482, 0.4809, 0.4751, 0.4741, 0.4727, 0.4722, 0.4646, 0.4438, 0.4474, 0.444, 0.451, 0.4556, 0.4505, 0.4137, 0.3415, 0.2855, 0.3835, 0.3676, 0.3235, 0.3945, 0.4341, 0.4055, 0.0078, 0.2097, -0.0422, 0.1733, 0.2121, 0.1514, 0.2468, 0.3362, 0.2076, 0.1237, 0.3302, 0.0974, 0.2135, 0.098, 0.0316, 0.2957, 0.0588, -0.1233, 0.0287, 0.1121, -0.0453, -0.2276, -0.34, -0.8298, -0.134, -0.8665, 0.6226, 0.6135, 0.6113, 0.6015, 0.6005, 0.5862, 0.5836, 0.5722, 0.572, 0.569, 0.5688, 0.5682, 0.5604, 0.5585, 0.5562, 0.5543, 0.5541, 0.5526, 0.5518, 0.5508, 0.5493, 0.5474, 0.5447, 0.5441, 0.542, 0.5417, 0.539, 0.5363, 0.5354, 0.5343, 0.5334, 0.5332, 0.4994, 0.4726, 0.4623, 0.4478, 0.483, 0.4686, 0.3921, 0.4823, 0.4034, 0.4903, 0.5162, 0.3388, 0.3893, 0.3706, 0.2627, 0.0422, 0.3668, -0.0082, 0.1924, 0.3586, 0.4037, 0.1142, 0.3338, 0.2185, 0.2855, 0.1228, -0.034, 0.1466, 0.0452, -0.1128, -0.2197, -0.1867, -0.1476, -0.1136, -0.4223, -0.0652, -0.0309, -0.2787], \"Freq\": [2716.0, 632.0, 574.0, 370.0, 180.0, 241.0, 141.0, 263.0, 174.0, 80.0, 98.0, 476.0, 280.0, 80.0, 86.0, 287.0, 72.0, 166.0, 166.0, 59.0, 105.0, 112.0, 381.0, 114.0, 50.0, 246.0, 53.0, 43.0, 56.0, 40.0, 2619.554466931873, 28.622451714761688, 9.588615960655137, 25.894403883280876, 12.945497070191065, 53.8006270603178, 26.264816042702236, 29.235275045722894, 15.820790022151451, 19.225309296182605, 9.40508116198981, 11.128697324369528, 7.532408532438209, 12.872378999792803, 16.827907656011817, 16.20450398156517, 154.34548796792927, 15.89381049024369, 7.989941524266179, 15.191537814717883, 9.077949921259052, 8.515477338363082, 26.05735156696851, 20.52847754033608, 9.071626686147379, 28.806937819020142, 9.93570433784289, 31.007753204110383, 13.784378749964702, 15.409165605902224, 138.68995639574962, 90.1056782430518, 90.8481047607882, 53.35081479116502, 36.85530256259716, 40.20051892900085, 128.42885611012332, 206.38049691765437, 323.24030071744033, 82.14068614981761, 98.6747348109534, 173.99857676335162, 60.47826755322401, 37.294350691714186, 46.01587727237366, 902.7392940788752, 186.82756583408607, 1101.6736629026163, 233.21438764209574, 145.67092964502822, 204.97066329620367, 109.17229125988968, 65.1931636988678, 134.81663042976356, 181.1216488297013, 65.5205852113918, 178.71822880317987, 104.32571058998377, 160.8701488879864, 205.0038632910007, 75.01145880037637, 134.6253501909559, 149.68025998798973, 112.89742396870908, 95.10483286583367, 114.71097114937143, 143.0467813696532, 138.4417879557168, 140.81628727815726, 105.01695800761617, 123.234304205807, 36.91620476254111, 39.29631563322299, 32.39687671958211, 19.087782598967724, 8.760617120575283, 44.49168692646159, 70.50118283140247, 46.769881325970985, 28.902671709257792, 10.956950878693423, 13.491125688348276, 62.29605449733288, 48.3519055103638, 33.13627272892447, 68.6829562143336, 39.881451930191034, 16.740806072464373, 42.59489802421947, 11.901675490527513, 8.23121787576001, 13.323863460567864, 119.72495363272661, 30.414560376621395, 82.76554253170147, 14.275089938096935, 72.39796200577372, 23.54109487821239, 8.692587687590157, 11.660651681849846, 17.15836033789705, 19.4568640998223, 16.09351597651871, 298.71723294178435, 451.0770532230421, 491.7843405911885, 184.96451107433973, 65.41186235445751, 82.34021083350554, 191.15046416270945, 45.53831341766185, 122.25302298742457, 36.84550259703353, 25.94605559504026, 192.4994669282018, 100.08208656188637, 102.44428599032267, 242.63177709367883, 1149.904533547391, 99.75925743908304, 852.2789233635318, 208.8436129858856, 88.30728682722466, 68.80994870464988, 182.08698741425806, 85.92414329279802, 112.4113068412335, 92.81203035977678, 130.23909912516783, 184.18098944271583, 111.72032644522785, 120.46954432511535, 138.9506117775502, 151.00981554506546, 140.2223557925663, 132.45910626504823, 124.8863089934888, 152.79010346572824, 114.07985070917397, 102.03911044057634, 109.96425119516888], \"logprob\": [30.0, 29.0, 28.0, 27.0, 26.0, 25.0, 24.0, 23.0, 22.0, 21.0, 20.0, 19.0, 18.0, 17.0, 16.0, 15.0, 14.0, 13.0, 12.0, 11.0, 10.0, 9.0, 8.0, 7.0, 6.0, 5.0, 4.0, 3.0, 2.0, 1.0, -2.117799997329712, -6.634399890899658, -7.728000164031982, -6.734600067138672, -7.427800178527832, -6.003300189971924, -6.720399856567383, -6.6132001876831055, -7.22730016708374, -7.032400131225586, -7.747300148010254, -7.579100131988525, -7.969399929046631, -7.433499813079834, -7.165599822998047, -7.2032999992370605, -4.949399948120117, -7.222700119018555, -7.910399913787842, -7.267899990081787, -7.782700061798096, -7.846700191497803, -6.728300094604492, -6.966800212860107, -7.783400058746338, -6.627999782562256, -7.692500114440918, -6.5543999671936035, -7.365099906921387, -7.253600120544434, -5.056300163269043, -5.487599849700928, -5.479400157928467, -6.01170015335083, -6.3815999031066895, -6.2947001457214355, -5.133200168609619, -4.658899784088135, -4.21019983291626, -5.5802001953125, -5.3968000411987305, -4.829500198364258, -5.886300086975098, -6.369699954986572, -6.159599781036377, -3.183199882507324, -4.758399963378906, -2.9839999675750732, -4.536600112915039, -5.007199764251709, -4.6656999588012695, -5.2957000732421875, -5.811200141906738, -5.084700107574463, -4.789400100708008, -5.80620002746582, -4.802800178527832, -5.341100215911865, -4.9079999923706055, -4.665599822998047, -5.670899868011475, -5.086100101470947, -4.980100154876709, -5.2621002197265625, -5.433599948883057, -5.246200084686279, -5.025400161743164, -5.05810022354126, -5.041100025177002, -5.334499835968018, -5.174499988555908, -6.338399887084961, -6.275899887084961, -6.468999862670898, -6.998000144958496, -7.776800155639648, -6.151700019836426, -5.691400051116943, -6.101799964904785, -6.583099842071533, -7.553100109100342, -7.34499979019165, -5.815100193023682, -6.06850004196167, -6.446400165557861, -5.71750020980835, -6.261099815368652, -7.129199981689453, -6.195300102233887, -7.470399856567383, -7.839099884033203, -7.357500076293945, -5.161799907684326, -6.532100200653076, -5.531000137329102, -7.28849983215332, -5.664899826049805, -6.788300037384033, -7.784599781036377, -7.490799903869629, -7.104599952697754, -6.978799819946289, -7.168600082397461, -4.247499942779541, -3.835400104522705, -3.749000072479248, -4.726900100708008, -5.766300201416016, -5.536200046539307, -4.693999767303467, -6.128499984741211, -5.140999794006348, -6.3403000831604, -6.690999984741211, -4.686999797821045, -5.341100215911865, -5.317699909210205, -4.45550012588501, -2.899600028991699, -5.344299793243408, -3.1991000175476074, -4.605500221252441, -5.46619987487793, -5.715700149536133, -4.742599964141846, -5.493599891662598, -5.224899768829346, -5.416500091552734, -5.077700138092041, -4.731100082397461, -5.230999946594238, -5.155600070953369, -5.012899875640869, -4.929699897766113, -5.003799915313721, -5.060800075531006, -5.11959981918335, -4.918000221252441, -5.210100173950195, -5.321700096130371, -5.2469000816345215], \"Term\": [\"exhibit\", \"'s\", \"notice\", \"sign_judge\", \"pennsylvania\", \"summary_judgment\", \"djc\", \"magistrate_judge\", \"action\", \"notice_appeal\", \"cd\", \"defendant\", \"stipulation\", \"appear_pro_hac_vice\", \"answer_complaint\", \"attachment\", \"rjm\", \"may\", \"amend_complaint\", \"keely\", \"notice_appearance_behalf\", \"mro\", \"shall\", \"c\", \"nd\", \"complaint\", \"sac\", \"transmit\", \"associate_case\", \"document_place_vault\", \"exhibit\", \"erratum\", \"q\", \"g\", \"notice_conversion\", \"keely\", \"h\", \"objection\", \"n\", \"accompany\", \"calculation\", \"attorney_responsible_provide_courtesy\", \"stock\", \"extent\", \"k\", \"certificate\", \"pennsylvania\", \"master\", \"oral_argument_set_pm\", \"class_certification\", \"compel\", \"goodwin\", \"limine_preclude_plaintiff_introduce\", \"without\", \"magnum_special_situation_fund\", \"tp\", \"officer\", \"note\", \"without_prejudice\", \"report_recommendation\", \"action\", \"mro\", \"c\", \"e\", \"cal\", \"f\", \"may\", \"attachment\", \"defendant\", \"declaration\", \"defendant_'\", \"complaint\", \"submit\", \"v.\", \"stay\", \"order\", \"request\", \"motion\", \"party\", \"grant\", \"date\", \"plaintiff_'s\", \"time\", \"counsel\", \"plaintiff\", \"direct\", \"letter\", \"discovery\", \"case\", \"court\", \"april\", \"schedule\", \"judge\", \"b\", \"ex\", \"inc..\", \"dismiss\", \"shall\", \"'s\", \"memorandum_law_support\", \"notice\", \"document_place_vault\", \"transmit\", \"revise_schedule_order\", \"provision\", \"transfer_new_york_eastern\", \"nd\", \"notice_appeal\", \"sac\", \"accordance\", \"attorney_record\", \"usca\", \"rjm\", \"associate_case\", \"counterclaim\", \"appear_pro_hac_vice\", \"electronically_available_public_without\", \"associate_case_et_al\", \"crossclaim\", \"tape\", \"note_attorney_manually_refile\", \"anc\", \"djc\", \"sc\", \"cd\", \"copy_mail_chamber\", \"answer_complaint\", \"worcester\", \"comply\", \"dismiss_lack_jurisdiction\", \"h.o\", \"gr\", \"jury_demand\", \"sign_judge\", \"notice\", \"'s\", \"summary_judgment\", \"p.c\", \"notice_appearance_behalf\", \"magistrate_judge\", \"brookfield\", \"amend_complaint\", \"court_notice_intent\", \"complaint_pursuant_frcp\", \"stipulation\", \"hold\", \"sign_magistrate_judge\", \"shall\", \"motion\", \"opposition\", \"order\", \"dismiss\", \"endorsed_letter_address\", \"judge_date\", \"judge\", \"attorney\", \"declaration_support\", \"memorandum_law_opposition\", \"memorandum_law_support\", \"court\", \"conference\", \"inc..\", \"letter\", \"party\", \"date\", \"plaintiff\", \"case\", \"defendant\", \"schedule\", \"b\", \"request\"]}, \"token.table\": {\"Freq\": [0.222889440490915, 0.7777418774576608, 0.8588191174762627, 0.1356030185488836, 0.12005955292246685, 0.8704317586878847, 0.7972443761766856, 0.20648055785870995, 0.26977759054112616, 0.7313970232448308, 0.1272948391549389, 0.8274164545071028, 0.16273985972446428, 0.8369478500115306, 0.14919461411753118, 0.8578690311758044, 0.6859093819369702, 0.3109455864780931, 0.14187696357245197, 0.8512617814347118, 0.1527069178165228, 0.8653392009602959, 0.7168026318318944, 0.28184957853584197, 0.31825304148597156, 0.6842440391948389, 0.15786624197997476, 0.8682643308898612, 0.8507752285138152, 0.15468640518433002, 0.5257365868978965, 0.4745586890582783, 0.20897996702163937, 0.8010898735829509, 0.7969969617305595, 0.20143879252530625, 0.8081368363639191, 0.19657382506149385, 0.8266400547396168, 0.09184889497106853, 0.5634168382181546, 0.43743543339918833, 0.1528907963796608, 0.8459957399674564, 0.8444490666325474, 0.15833419999360263, 0.8270317187022791, 0.16540634374045582, 0.8295120984022138, 0.18433602186715864, 0.7053033358882271, 0.29590312367724475, 0.18972884401406448, 0.8221583240609461, 0.1925898418492199, 0.8666542883214895, 0.4313399306107674, 0.5683537909224229, 0.17692781682834877, 0.8256631451989609, 0.6289997793021647, 0.3727406099568383, 0.15496883207010942, 0.8523285763856018, 0.526741980218492, 0.47278304565952445, 0.19528311226679185, 0.8028305726523666, 0.1398211404478002, 0.8589012913222012, 0.593870642405089, 0.4055701948132316, 0.7476980601288273, 0.25531153272691665, 0.3901807573567838, 0.6069478447772193, 0.6785280880414415, 0.32140804170384074, 0.739531820734848, 0.2614506436941382, 0.7152341470002324, 0.29259578740918596, 0.6298886546783585, 0.3694539224555756, 0.4063765373928263, 0.5939349392664385, 0.1434392476899993, 0.8606354861399959, 0.15553573386739936, 0.8483767301858146, 0.0988803867263278, 0.9146435772185323, 0.7959434030105076, 0.1952314007384264, 0.14959730388499823, 0.8548417364857042, 0.30157762488582845, 0.6983902892092869, 0.9677344636888863, 0.03337015392030643, 0.5703022182882229, 0.42622586840488236, 0.9643707123097405, 0.035703801180933144, 0.86867904418258, 0.1336429298742431, 0.7968833316583375, 0.19922083291458437, 0.9353941554312826, 0.07195339657163713, 0.8774848250943295, 0.19499662779873989, 0.17158828883149008, 0.8150443719495779, 0.6323900265130733, 0.36817227570966593, 0.8777685585506018, 0.10128098752506944, 0.14606783668873377, 0.827717741236158, 0.274383253875933, 0.7220611944103499, 0.4889860869978219, 0.5102463516499012, 0.45212419602750614, 0.5485773578467075, 0.26635105431900363, 0.7351289099204501, 0.15555966711820354, 0.8296515579637522, 0.8647576482215465, 0.15260429086262586, 0.9044167989660585, 0.10049075544067317, 0.5634798794643199, 0.4375625879639132, 0.8252235172962885, 0.15869683024928624, 0.27675649130837027, 0.7241162991766948, 0.8190480783081566, 0.18201068406847926, 0.8463552000935867, 0.15869160001754748, 0.769316199673566, 0.22839074677808993, 0.35092721171144114, 0.6527246137832805, 0.4463221958222974, 0.5525893853037968, 0.4894344783305722, 0.5107528585119401, 0.7974067896909073, 0.20378173514323186, 0.8875774368876717, 0.11094717961095896, 0.11865686289346569, 0.8701503278854151, 0.818598599196731, 0.184844844979907, 0.103182788414096, 0.825462307312768, 0.21416954132800406, 0.7852883182026815, 0.12448712872733989, 0.8838586139641131, 0.21852171120185002, 0.7790774051544218, 0.908047754459455, 0.06984982726611193, 0.8729145067036305, 0.1204020009246387, 0.8252905435479607, 0.16505810870959214, 0.2903898618941409, 0.7082679558393681, 0.8407297279393342, 0.21018243198483355, 0.5145245736058195, 0.4854650461928663, 0.20626546123531378, 0.7886620576644351, 0.6064167693426182, 0.39299970888727614, 0.8524534286448316, 0.1439207087322443, 0.5772037890058342, 0.420944199716962, 0.6521928332484728, 0.3470383883340497, 0.09362058930776299, 0.8893955984237483, 0.9722809737866338, 0.09722809737866338, 0.790664409439242, 0.2108438425171312, 0.6300712798344008, 0.3706301646084711, 0.11140684928310525, 0.891254794264842, 0.13873121767827307, 0.860133549605293, 0.12986341317219338, 0.8719400598704413, 0.1665283355455896, 0.832641677727948, 0.5428113264676384, 0.4583740090171169, 0.3621348019302051, 0.6376721512249264, 0.19446185917401027, 0.8075568874031815, 0.290781846632851, 0.706184484679781, 0.7653521087935014, 0.23293325050236996, 0.3140776601972543, 0.6852603495212821, 0.9138764457116909, 0.11423455571396136, 0.7512312452822251, 0.23788989433937127, 0.2319615391671048, 0.7663015133198998, 0.14286547569413185, 0.8571928541647911, 0.7122517709624778, 0.2849007083849911, 0.826327131278695, 0.17096423405766104, 0.10188968101916707, 0.9170071291725036, 0.09204931346500499, 0.8974808062837986, 0.12818984006465411, 0.8332339604202518, 0.7816128627599828, 0.21124671966486022, 0.8454311858255826, 0.16103451158582527, 0.8312195944556853, 0.17811848452621828, 0.17826628396216457, 0.85567816301839], \"Topic\": [1, 2, 1, 2, 1, 2, 1, 2, 1, 2, 1, 2, 1, 2, 1, 2, 1, 2, 1, 2, 1, 2, 1, 2, 1, 2, 1, 2, 1, 2, 1, 2, 1, 2, 1, 2, 1, 2, 1, 2, 1, 2, 1, 2, 1, 2, 1, 2, 1, 2, 1, 2, 1, 2, 1, 2, 1, 2, 1, 2, 1, 2, 1, 2, 1, 2, 1, 2, 1, 2, 1, 2, 1, 2, 1, 2, 1, 2, 1, 2, 1, 2, 1, 2, 1, 2, 1, 2, 1, 2, 1, 2, 1, 2, 1, 2, 1, 2, 1, 2, 1, 2, 1, 2, 1, 2, 1, 2, 1, 2, 1, 2, 1, 2, 1, 2, 1, 2, 1, 2, 1, 2, 1, 2, 1, 2, 1, 2, 1, 2, 1, 2, 1, 2, 1, 2, 1, 2, 1, 2, 1, 2, 1, 2, 1, 2, 1, 2, 1, 2, 1, 2, 1, 2, 1, 2, 1, 2, 1, 2, 1, 2, 1, 2, 1, 2, 1, 2, 1, 2, 1, 2, 1, 2, 1, 2, 1, 2, 1, 2, 1, 2, 1, 2, 1, 2, 1, 2, 1, 2, 1, 2, 1, 2, 1, 2, 1, 2, 1, 2, 1, 2, 1, 2, 1, 2, 1, 2, 1, 2, 1, 2, 1, 2, 1, 2, 1, 2, 1, 2, 1, 2, 1, 2, 1, 2, 1, 2, 1, 2, 1, 2, 1, 2, 1, 2, 1, 2, 1, 2, 1, 2, 1, 2], \"Term\": [\"'s\", \"'s\", \"accompany\", \"accompany\", \"accordance\", \"accordance\", \"action\", \"action\", \"amend_complaint\", \"amend_complaint\", \"anc\", \"anc\", \"answer_complaint\", \"answer_complaint\", \"appear_pro_hac_vice\", \"appear_pro_hac_vice\", \"april\", \"april\", \"associate_case\", \"associate_case\", \"associate_case_et_al\", \"associate_case_et_al\", \"attachment\", \"attachment\", \"attorney\", \"attorney\", \"attorney_record\", \"attorney_record\", \"attorney_responsible_provide_courtesy\", \"attorney_responsible_provide_courtesy\", \"b\", \"b\", \"brookfield\", \"brookfield\", \"c\", \"c\", \"cal\", \"cal\", \"calculation\", \"calculation\", \"case\", \"case\", \"cd\", \"cd\", \"certificate\", \"certificate\", \"class_certification\", \"class_certification\", \"compel\", \"compel\", \"complaint\", \"complaint\", \"complaint_pursuant_frcp\", \"complaint_pursuant_frcp\", \"comply\", \"comply\", \"conference\", \"conference\", \"copy_mail_chamber\", \"copy_mail_chamber\", \"counsel\", \"counsel\", \"counterclaim\", \"counterclaim\", \"court\", \"court\", \"court_notice_intent\", \"court_notice_intent\", \"crossclaim\", \"crossclaim\", \"date\", \"date\", \"declaration\", \"declaration\", \"declaration_support\", \"declaration_support\", \"defendant\", \"defendant\", \"defendant_'\", \"defendant_'\", \"direct\", \"direct\", \"discovery\", \"discovery\", \"dismiss\", \"dismiss\", \"dismiss_lack_jurisdiction\", \"dismiss_lack_jurisdiction\", \"djc\", \"djc\", \"document_place_vault\", \"document_place_vault\", \"e\", \"e\", \"electronically_available_public_without\", \"electronically_available_public_without\", \"endorsed_letter_address\", \"endorsed_letter_address\", \"erratum\", \"erratum\", \"ex\", \"ex\", \"exhibit\", \"exhibit\", \"extent\", \"extent\", \"f\", \"f\", \"g\", \"g\", \"goodwin\", \"goodwin\", \"gr\", \"gr\", \"grant\", \"grant\", \"h\", \"h\", \"h.o\", \"h.o\", \"hold\", \"hold\", \"inc..\", \"inc..\", \"judge\", \"judge\", \"judge_date\", \"judge_date\", \"jury_demand\", \"jury_demand\", \"k\", \"k\", \"keely\", \"keely\", \"letter\", \"letter\", \"limine_preclude_plaintiff_introduce\", \"limine_preclude_plaintiff_introduce\", \"magistrate_judge\", \"magistrate_judge\", \"magnum_special_situation_fund\", \"magnum_special_situation_fund\", \"master\", \"master\", \"may\", \"may\", \"memorandum_law_opposition\", \"memorandum_law_opposition\", \"memorandum_law_support\", \"memorandum_law_support\", \"motion\", \"motion\", \"mro\", \"mro\", \"n\", \"n\", \"nd\", \"nd\", \"note\", \"note\", \"note_attorney_manually_refile\", \"note_attorney_manually_refile\", \"notice\", \"notice\", \"notice_appeal\", \"notice_appeal\", \"notice_appearance_behalf\", \"notice_appearance_behalf\", \"notice_conversion\", \"notice_conversion\", \"objection\", \"objection\", \"officer\", \"officer\", \"opposition\", \"opposition\", \"oral_argument_set_pm\", \"oral_argument_set_pm\", \"order\", \"order\", \"p.c\", \"p.c\", \"party\", \"party\", \"pennsylvania\", \"pennsylvania\", \"plaintiff\", \"plaintiff\", \"plaintiff_'s\", \"plaintiff_'s\", \"provision\", \"provision\", \"q\", \"q\", \"report_recommendation\", \"report_recommendation\", \"request\", \"request\", \"revise_schedule_order\", \"revise_schedule_order\", \"rjm\", \"rjm\", \"sac\", \"sac\", \"sc\", \"sc\", \"schedule\", \"schedule\", \"shall\", \"shall\", \"sign_judge\", \"sign_judge\", \"sign_magistrate_judge\", \"sign_magistrate_judge\", \"stay\", \"stay\", \"stipulation\", \"stipulation\", \"stock\", \"stock\", \"submit\", \"submit\", \"summary_judgment\", \"summary_judgment\", \"tape\", \"tape\", \"time\", \"time\", \"tp\", \"tp\", \"transfer_new_york_eastern\", \"transfer_new_york_eastern\", \"transmit\", \"transmit\", \"usca\", \"usca\", \"v.\", \"v.\", \"without\", \"without\", \"without_prejudice\", \"without_prejudice\", \"worcester\", \"worcester\"]}, \"lambda.step\": 0.01, \"plot.opts\": {\"ylab\": \"PC2\", \"xlab\": \"PC1\"}};\n",
       "\n",
       "function LDAvis_load_lib(url, callback){\n",
       "  var s = document.createElement('script');\n",
       "  s.src = url;\n",
       "  s.async = true;\n",
       "  s.onreadystatechange = s.onload = callback;\n",
       "  s.onerror = function(){console.warn(\"failed to load library \" + url);};\n",
       "  document.getElementsByTagName(\"head\")[0].appendChild(s);\n",
       "}\n",
       "\n",
       "if(typeof(LDAvis) !== \"undefined\"){\n",
       "   // already loaded: just create the visualization\n",
       "   !function(LDAvis){\n",
       "       new LDAvis(\"#\" + \"ldavis_el2506819944969363601693346400\", ldavis_el2506819944969363601693346400_data);\n",
       "   }(LDAvis);\n",
       "}else if(typeof define === \"function\" && define.amd){\n",
       "   // require.js is available: use it to load d3/LDAvis\n",
       "   require.config({paths: {d3: \"https://cdnjs.cloudflare.com/ajax/libs/d3/3.5.5/d3.min\"}});\n",
       "   require([\"d3\"], function(d3){\n",
       "      window.d3 = d3;\n",
       "      LDAvis_load_lib(\"https://cdn.rawgit.com/bmabey/pyLDAvis/files/ldavis.v1.0.0.js\", function(){\n",
       "        new LDAvis(\"#\" + \"ldavis_el2506819944969363601693346400\", ldavis_el2506819944969363601693346400_data);\n",
       "      });\n",
       "    });\n",
       "}else{\n",
       "    // require.js not available: dynamically load d3 & LDAvis\n",
       "    LDAvis_load_lib(\"https://cdnjs.cloudflare.com/ajax/libs/d3/3.5.5/d3.min.js\", function(){\n",
       "         LDAvis_load_lib(\"https://cdn.rawgit.com/bmabey/pyLDAvis/files/ldavis.v1.0.0.js\", function(){\n",
       "                 new LDAvis(\"#\" + \"ldavis_el2506819944969363601693346400\", ldavis_el2506819944969363601693346400_data);\n",
       "            })\n",
       "         });\n",
       "}\n",
       "</script>"
      ],
      "text/plain": [
       "<IPython.core.display.HTML object>"
      ]
     },
     "execution_count": 98,
     "metadata": {},
     "output_type": "execute_result"
    }
   ],
   "source": [
    "num_topics = 2\n",
    "pretrained_model_file_path = 'docket_texts/lda_model_noorgnomodel_' + str(num_topics)\n",
    "column_name = str(num_topics) + ' Topics Clfier'\n",
    "\n",
    "topic_names = {}\n",
    "for i in range(num_topics):\n",
    "    topic_names[i] = 'Topic ' + str(i)\n",
    "\n",
    "LDAvis_prepared, model = topic_modeling_pipeline(num_topics, pretrained_model_file_path, trigram_bow_corpus, trigram_dictionary, export = True)\n",
    "topic_summary = []\n",
    "\n",
    "for docket_text in list(new_df['Phrase Model']):\n",
    "    #print(docket_text)\n",
    "    topic_summary.append(lda_description(docket_text, model, trigram_dictionary, topic_names))\n",
    "\n",
    "new_df[column_name] = topic_summary\n",
    "pyLDAvis.display(LDAvis_prepared)"
   ]
  },
  {
   "cell_type": "markdown",
   "metadata": {},
   "source": [
    "### 3 Topics:"
   ]
  },
  {
   "cell_type": "code",
   "execution_count": 99,
   "metadata": {},
   "outputs": [
    {
     "name": "stdout",
     "output_type": "stream",
     "text": [
      "\n",
      " Topic 1's make-up:\n",
      "term                 frequency\n",
      "\n",
      "exhibit              0.181\n",
      "motion               0.031\n",
      "order                0.025\n",
      "attachment           0.017\n",
      "notice               0.016\n",
      "'s                   0.014\n",
      "judge                0.009\n",
      "defendant            0.009\n",
      "sign_judge           0.008\n",
      "b                    0.008\n",
      "\n",
      " Topic 2's make-up:\n",
      "term                 frequency\n",
      "\n",
      "order                0.065\n",
      "motion               0.057\n",
      "dismiss              0.014\n",
      "'s                   0.014\n",
      "notice               0.013\n",
      "party                0.013\n",
      "date                 0.012\n",
      "court                0.011\n",
      "judge                0.011\n",
      "magistrate_judge     0.010\n",
      "\n",
      " Topic 3's make-up:\n",
      "term                 frequency\n",
      "\n",
      "motion               0.077\n",
      "order                0.035\n",
      "defendant            0.019\n",
      "'s                   0.014\n",
      "letter               0.012\n",
      "request              0.012\n",
      "complaint            0.011\n",
      "inc..                0.011\n",
      "party                0.011\n",
      "plaintiff_'s         0.010\n"
     ]
    },
    {
     "data": {
      "text/html": [
       "\n",
       "<link rel=\"stylesheet\" type=\"text/css\" href=\"https://cdn.rawgit.com/bmabey/pyLDAvis/files/ldavis.v1.0.0.css\">\n",
       "\n",
       "\n",
       "<div id=\"ldavis_el2506819944969351603309249541\"></div>\n",
       "<script type=\"text/javascript\">\n",
       "\n",
       "var ldavis_el2506819944969351603309249541_data = {\"topic.order\": [2, 3, 1], \"mdsDat\": {\"cluster\": [1, 1, 1], \"topics\": [1, 2, 3], \"Freq\": [37.33789474417707, 34.36432647681709, 28.29777877900584], \"x\": [-0.046364301429784344, -0.06968610307758738, 0.1160504045073717], \"y\": [-0.05735935666839889, 0.05015709171650678, 0.007202264951892075]}, \"R\": 30, \"tinfo\": {\"Category\": [\"Default\", \"Default\", \"Default\", \"Default\", \"Default\", \"Default\", \"Default\", \"Default\", \"Default\", \"Default\", \"Default\", \"Default\", \"Default\", \"Default\", \"Default\", \"Default\", \"Default\", \"Default\", \"Default\", \"Default\", \"Default\", \"Default\", \"Default\", \"Default\", \"Default\", \"Default\", \"Default\", \"Default\", \"Default\", \"Default\", \"Topic1\", \"Topic1\", \"Topic1\", \"Topic1\", \"Topic1\", \"Topic1\", \"Topic1\", \"Topic1\", \"Topic1\", \"Topic1\", \"Topic1\", \"Topic1\", \"Topic1\", \"Topic1\", \"Topic1\", \"Topic1\", \"Topic1\", \"Topic1\", \"Topic1\", \"Topic1\", \"Topic1\", \"Topic1\", \"Topic1\", \"Topic1\", \"Topic1\", \"Topic1\", \"Topic1\", \"Topic1\", \"Topic1\", \"Topic1\", \"Topic1\", \"Topic1\", \"Topic1\", \"Topic1\", \"Topic1\", \"Topic1\", \"Topic1\", \"Topic1\", \"Topic1\", \"Topic1\", \"Topic1\", \"Topic1\", \"Topic1\", \"Topic1\", \"Topic1\", \"Topic1\", \"Topic1\", \"Topic1\", \"Topic1\", \"Topic1\", \"Topic1\", \"Topic1\", \"Topic1\", \"Topic1\", \"Topic1\", \"Topic1\", \"Topic1\", \"Topic1\", \"Topic1\", \"Topic1\", \"Topic1\", \"Topic1\", \"Topic1\", \"Topic1\", \"Topic1\", \"Topic1\", \"Topic1\", \"Topic1\", \"Topic1\", \"Topic1\", \"Topic1\", \"Topic2\", \"Topic2\", \"Topic2\", \"Topic2\", \"Topic2\", \"Topic2\", \"Topic2\", \"Topic2\", \"Topic2\", \"Topic2\", \"Topic2\", \"Topic2\", \"Topic2\", \"Topic2\", \"Topic2\", \"Topic2\", \"Topic2\", \"Topic2\", \"Topic2\", \"Topic2\", \"Topic2\", \"Topic2\", \"Topic2\", \"Topic2\", \"Topic2\", \"Topic2\", \"Topic2\", \"Topic2\", \"Topic2\", \"Topic2\", \"Topic2\", \"Topic2\", \"Topic2\", \"Topic2\", \"Topic2\", \"Topic2\", \"Topic2\", \"Topic2\", \"Topic2\", \"Topic2\", \"Topic2\", \"Topic2\", \"Topic2\", \"Topic2\", \"Topic2\", \"Topic2\", \"Topic2\", \"Topic2\", \"Topic2\", \"Topic2\", \"Topic2\", \"Topic2\", \"Topic2\", \"Topic2\", \"Topic2\", \"Topic2\", \"Topic2\", \"Topic2\", \"Topic2\", \"Topic2\", \"Topic2\", \"Topic2\", \"Topic2\", \"Topic2\", \"Topic2\", \"Topic2\", \"Topic2\", \"Topic2\", \"Topic3\", \"Topic3\", \"Topic3\", \"Topic3\", \"Topic3\", \"Topic3\", \"Topic3\", \"Topic3\", \"Topic3\", \"Topic3\", \"Topic3\", \"Topic3\", \"Topic3\", \"Topic3\", \"Topic3\", \"Topic3\", \"Topic3\", \"Topic3\", \"Topic3\", \"Topic3\", \"Topic3\", \"Topic3\", \"Topic3\", \"Topic3\", \"Topic3\", \"Topic3\", \"Topic3\", \"Topic3\", \"Topic3\", \"Topic3\", \"Topic3\", \"Topic3\", \"Topic3\", \"Topic3\", \"Topic3\", \"Topic3\", \"Topic3\", \"Topic3\", \"Topic3\", \"Topic3\", \"Topic3\", \"Topic3\", \"Topic3\", \"Topic3\", \"Topic3\", \"Topic3\", \"Topic3\", \"Topic3\", \"Topic3\", \"Topic3\", \"Topic3\", \"Topic3\", \"Topic3\", \"Topic3\", \"Topic3\", \"Topic3\", \"Topic3\", \"Topic3\", \"Topic3\", \"Topic3\", \"Topic3\", \"Topic3\", \"Topic3\", \"Topic3\", \"Topic3\", \"Topic3\"], \"Total\": [2242.0, 234.0, 2407.0, 1856.0, 111.0, 198.0, 310.0, 140.0, 108.0, 97.0, 245.0, 181.0, 139.0, 69.0, 100.0, 139.0, 55.0, 197.0, 86.0, 206.0, 86.0, 154.0, 47.0, 136.0, 47.0, 499.0, 47.0, 191.0, 146.0, 56.0, 32.45894149657181, 28.483675800739356, 45.87324557246999, 15.964792777601645, 16.43760846154316, 17.191632328254325, 29.587341331429176, 31.761332745842992, 15.681094581445421, 25.938767889634494, 29.830725861215175, 15.201529577999265, 15.15884737305885, 42.32743580875031, 12.001853983972731, 19.946483462329187, 17.30538601468028, 26.930714741079083, 50.909870511329785, 22.877694838033857, 34.885713678945365, 86.51509579411086, 71.94584008038086, 31.505438511345528, 17.073959240424585, 20.46250427767954, 52.72479917549549, 14.20478092124048, 10.732933730546652, 54.6361426802652, 26.397910944452263, 24.374646405534747, 48.91983811314395, 42.27881128547624, 139.5946263638419, 181.75888931949314, 97.88779675927795, 81.39974244886243, 197.10911082953356, 72.22516171258054, 1856.0469197057428, 136.58489229384364, 245.5596900054474, 362.7700916206373, 67.94631329355508, 185.9579527961233, 86.48873333938383, 124.39042283627732, 253.05757617649613, 353.09774184895866, 310.96198935268, 2407.167102587954, 121.5812182169849, 154.71654074982206, 288.65178751009245, 420.5603152330953, 398.65133580781765, 334.0884656254721, 499.919784420278, 314.2328440621657, 585.2152481914181, 379.14725490970244, 281.9732285755126, 139.90221509520387, 350.2417302843062, 524.4474214739797, 253.40922019246474, 196.501592268524, 181.04799789796283, 267.51925792228434, 323.6660967799003, 47.59087449028543, 47.581552170637664, 47.49230857197046, 55.22390263342009, 46.95119868071304, 26.858124914803383, 20.953582842916127, 50.389778597433725, 45.03090240475707, 27.346930270614532, 53.221724315575976, 52.08078370600375, 11.245752246061807, 10.318784196746266, 11.816838608682062, 111.56701776857767, 15.469183976757368, 13.111847288529184, 45.96094328458553, 13.828054382803813, 21.40518780751248, 45.41837493067042, 20.34046085578401, 15.784222496868477, 12.673420935205703, 45.636314654334086, 18.749324057158283, 86.37609850472738, 21.744984296768624, 50.32522226500132, 50.23347954270407, 139.80367250583302, 198.86409228615975, 50.87745056759752, 42.89866722339161, 52.53747144525662, 51.65355277138647, 121.30711381020762, 50.15988898019037, 92.3000574694536, 146.8105773781701, 214.45405561911252, 2407.167102587954, 86.63465902372391, 256.3740567818428, 284.13107409895673, 524.4474214739797, 115.06534046334865, 323.6660967799003, 123.25279164968694, 97.94875842184165, 350.2417302843062, 253.40922019246474, 145.68136016420533, 1856.0469197057428, 267.51925792228434, 192.13810512412198, 585.2152481914181, 420.5603152330953, 379.14725490970244, 139.32176084232964, 398.65133580781765, 206.4842489153059, 288.65178751009245, 230.74651090474998, 499.919784420278, 362.7700916206373, 334.0884656254721, 2242.2618289203315, 22.95107587067151, 31.85166552723699, 24.521698174777853, 31.966001217541315, 23.251057787878995, 8.675841577191768, 32.188247576871696, 37.80457961211825, 25.521016823231847, 32.26943648590645, 16.44234486425963, 32.519897036248366, 15.156966431547382, 17.390981293267174, 12.064448952507082, 234.22274580153282, 41.77586610256024, 33.1309196329752, 16.374678373925157, 12.294124146771493, 13.836764625534993, 50.73319170115626, 28.1110682517808, 6.868539727396338, 33.68337418064505, 69.78993512281524, 22.431431396543594, 11.731433077566372, 8.13472211437373, 97.6206176728372, 56.81655146490741, 108.42809554675269, 43.212017309627925, 140.48181832316902, 61.84311937174417, 100.19930521734469, 33.58802851737734, 31.68080307708557, 67.47882101873145, 61.62317381540088, 98.19090954282034, 191.43524000789898, 122.60222340219097, 499.919784420278, 61.21342555106168, 206.4842489153059, 585.2152481914181, 310.96198935268, 2407.167102587954, 1856.0469197057428, 334.0884656254721, 281.9732285755126, 314.2328440621657, 113.95133819103202, 353.09774184895866, 398.65133580781765, 524.4474214739797, 141.9838809639823, 379.14725490970244, 230.74651090474998, 245.5596900054474, 190.066871517504, 323.6660967799003, 133.8597548248211, 420.5603152330953], \"loglift\": [30.0, 29.0, 28.0, 27.0, 26.0, 25.0, 24.0, 23.0, 22.0, 21.0, 20.0, 19.0, 18.0, 17.0, 16.0, 15.0, 14.0, 13.0, 12.0, 11.0, 10.0, 9.0, 8.0, 7.0, 6.0, 5.0, 4.0, 3.0, 2.0, 1.0, 0.9484, 0.9178, 0.9112, 0.9078, 0.9003, 0.8949, 0.8943, 0.8876, 0.8876, 0.8861, 0.8858, 0.8775, 0.8755, 0.8644, 0.8637, 0.8608, 0.8604, 0.86, 0.8584, 0.8563, 0.8476, 0.8446, 0.8419, 0.8409, 0.8223, 0.8127, 0.811, 0.8064, 0.8063, 0.805, 0.8028, 0.8027, 0.7912, 0.7934, 0.7569, 0.7389, 0.7511, 0.7332, 0.6457, 0.7292, 0.4014, 0.655, 0.5812, 0.5124, 0.7253, 0.575, 0.6726, 0.6103, 0.4727, 0.4042, 0.4256, 0.0136, 0.5776, 0.5116, 0.3574, 0.2471, 0.1844, 0.2375, 0.0828, 0.2161, -0.0081, 0.0905, 0.1736, 0.4312, -0.0609, -0.3317, 0.0164, 0.1646, 0.2227, -0.1153, -0.3803, 1.0265, 1.0241, 1.0165, 1.006, 0.9952, 0.9892, 0.9889, 0.9821, 0.9817, 0.9662, 0.9593, 0.9583, 0.9517, 0.9413, 0.9327, 0.9324, 0.9084, 0.8998, 0.899, 0.8967, 0.8953, 0.8866, 0.886, 0.8858, 0.877, 0.8716, 0.8603, 0.8399, 0.8396, 0.8357, 0.831, 0.798, 0.7683, 0.8194, 0.8294, 0.8159, 0.8149, 0.7253, 0.8037, 0.7418, 0.6853, 0.6234, 0.3067, 0.7286, 0.5619, 0.5424, 0.4384, 0.6854, 0.4668, 0.6562, 0.6972, 0.3965, 0.4728, 0.5857, -0.2121, 0.3644, 0.4471, 0.0108, 0.065, 0.0846, 0.5018, -0.0953, 0.2407, 0.0102, 0.0769, -0.5134, -0.4219, -0.4219, 1.2372, 1.2156, 1.1836, 1.1765, 1.1737, 1.1654, 1.1563, 1.155, 1.1547, 1.1491, 1.1456, 1.1328, 1.1252, 1.1249, 1.1194, 1.1084, 1.1075, 1.1028, 1.0998, 1.0979, 1.0909, 1.0856, 1.081, 1.0714, 1.0694, 1.0668, 1.0635, 1.0539, 1.0512, 1.0494, 1.0134, 1.0167, 0.9804, 1.0045, 0.886, 0.9549, 0.8983, 1.0087, 0.9986, 0.8495, 0.8649, 0.7582, 0.6168, 0.7008, 0.3175, 0.8515, 0.4474, -0.0026, 0.2205, -0.6051, -0.5442, 0.0622, 0.1389, 0.0624, 0.5428, -0.0843, -0.1706, -0.3506, 0.3661, -0.2641, 0.0297, -0.0683, 0.0834, -0.3638, 0.3374, -0.6004], \"Freq\": [2242.0, 234.0, 2407.0, 1856.0, 111.0, 198.0, 310.0, 140.0, 108.0, 97.0, 245.0, 181.0, 139.0, 69.0, 100.0, 139.0, 55.0, 197.0, 86.0, 206.0, 86.0, 154.0, 47.0, 136.0, 47.0, 499.0, 47.0, 191.0, 146.0, 56.0, 31.286432185776896, 26.629426719225155, 42.602121304006936, 14.776815664238484, 15.099852175981685, 15.708260897214176, 27.01629233988933, 28.810211796828696, 14.223029778869458, 23.492628419283953, 27.00835461855852, 13.650096922701538, 13.584356640455471, 37.51312946392718, 10.629591804080045, 17.61354769718946, 15.276160465307225, 23.763599599302747, 44.846764236952154, 20.11194177684587, 30.40364815193152, 75.17148955448354, 62.34504435092844, 27.272367310158344, 14.507487666719477, 17.22056001621851, 44.29788564378905, 11.87996930176504, 8.975302058251405, 45.6287484829352, 21.996321583231854, 20.31012701963361, 40.29365018944463, 34.90144110374356, 111.10218605131156, 142.07825333305385, 77.45774617696631, 63.27072360829257, 140.3665393662986, 55.91533057670379, 1035.3462811435388, 98.17584425388667, 163.96085963979073, 226.095962389166, 52.39688737702043, 123.38921487063575, 63.2740173917233, 85.50505999115806, 151.57920131271345, 197.5184148485038, 177.70402263588042, 911.1127820421199, 80.88227203828703, 96.35380337906435, 154.0738861767947, 201.04642782437102, 178.99696616420187, 158.18875640409897, 202.77596086274926, 145.62417440171788, 216.7542139419916, 154.96771810923065, 125.24285084372715, 80.4003410770397, 123.04454714096221, 140.5411395618518, 96.18608748761864, 86.49416683485715, 84.4656265105354, 89.00906692382296, 82.6192160893844, 45.6487289687265, 45.52987355785166, 45.10067156646151, 51.89716575152279, 43.6499910253655, 24.82019556357099, 19.357504814986676, 46.235594629000026, 41.29998850531657, 24.695198698072875, 47.730644534041936, 46.660515695377626, 10.010003489056787, 9.089334066455747, 10.32038676809194, 97.40242569746017, 13.185418875999797, 11.079755101075254, 38.80727141577021, 11.648747728730582, 18.006852490631353, 37.87698612751597, 16.953140692146764, 13.153585897123557, 10.468086362110574, 37.49347464678612, 15.230988397952071, 68.74706070553785, 17.302053149748843, 39.8854875840635, 39.62635848198785, 106.70447974710548, 147.338938034681, 39.67181343935798, 33.786695416837595, 40.82487410523916, 40.09643067612942, 86.09827792352297, 38.5035408102743, 66.59627482028363, 100.1111383264557, 137.4572248899149, 1124.1137200541903, 61.69417188485631, 154.52293103732595, 167.94869022669496, 279.39064505611344, 78.47203191168646, 177.38911988595657, 81.63686446965107, 67.59205757846676, 178.91942426675973, 139.7187686149676, 89.92749365712, 515.9031628391248, 132.35133080652156, 103.24747235012622, 203.28445576978552, 154.22416753381827, 141.79507869474025, 79.07424950161027, 124.53665581781672, 90.26574818179608, 100.2064588912089, 85.6361565063784, 102.8068101790972, 81.75299565551792, 75.29048531156758, 2186.563042291531, 21.90194181442955, 29.43785641501917, 22.504585704779135, 29.25335477392397, 21.101112992241973, 7.802743689593062, 28.909497261778622, 33.946612458129344, 22.78696469059691, 28.711381203206827, 14.444146364626047, 28.35095193986913, 13.209784226555056, 15.074232737611716, 10.34235261241709, 200.6219884674504, 35.612901337731515, 28.160240460201603, 13.891569122068779, 10.356863787931067, 11.594318897884905, 42.31827884359738, 23.2230280448303, 5.663251898356701, 27.700414423554484, 57.204611255263764, 18.209630552433755, 9.498372580593799, 6.573894926759729, 76.10558322028984, 44.44155730574098, 81.78931437351275, 33.38813460390918, 96.41479139783536, 45.47345874716252, 69.61981304320197, 26.061849141960614, 24.335932880756932, 44.652672139124206, 41.41040550439915, 59.30616793259595, 100.37762982155614, 69.92237751832197, 194.33701337843158, 40.59032168479139, 91.3955157830057, 165.17657847964108, 109.70828756550685, 371.9406004916441, 304.79747572307906, 100.60922390980558, 91.68157878577641, 94.64813870804333, 55.487974612497055, 91.83782833196354, 95.11771382579903, 104.51563685601444, 57.942522240418, 82.38445810573153, 67.26761389999875, 64.89776071142013, 58.46418241433855, 63.65776080455928, 53.082121789351994, 65.28971987490598], \"logprob\": [30.0, 29.0, 28.0, 27.0, 26.0, 25.0, 24.0, 23.0, 22.0, 21.0, 20.0, 19.0, 18.0, 17.0, 16.0, 15.0, 14.0, 13.0, 12.0, 11.0, 10.0, 9.0, 8.0, 7.0, 6.0, 5.0, 4.0, 3.0, 2.0, 1.0, -6.232800006866455, -6.394000053405762, -5.924099922180176, -6.982999801635742, -6.961299896240234, -6.921800136566162, -6.3796000480651855, -6.315299987792969, -7.021200180053711, -6.5192999839782715, -6.379899978637695, -7.062300205230713, -7.0671000480651855, -6.051300048828125, -7.312399864196777, -6.807400226593018, -6.949699878692627, -6.507900238037109, -5.872799873352051, -6.674699783325195, -6.261499881744385, -5.356200218200684, -5.543300151824951, -6.370100021362305, -7.001399993896484, -6.829899787902832, -5.8850998878479, -7.201200008392334, -7.481500148773193, -5.855500221252441, -6.585100173950195, -6.664899826049805, -5.979800224304199, -6.123499870300293, -4.96560001373291, -4.719600200653076, -5.326300144195557, -5.528600215911865, -4.731800079345703, -5.652200222015381, -2.7335000038146973, -5.089300155639648, -4.576399803161621, -4.255099773406982, -5.717199802398682, -4.8607001304626465, -5.528500080108643, -5.227399826049805, -4.654900074005127, -4.390200138092041, -4.4959001541137695, -2.8613998889923096, -5.2829999923706055, -5.107999801635742, -4.638599872589111, -4.372499942779541, -4.488699913024902, -4.612199783325195, -4.363900184631348, -4.695000171661377, -4.297299861907959, -4.632800102233887, -4.845799922943115, -5.289000034332275, -4.863500118255615, -4.730500221252441, -5.1097002029418945, -5.21589994430542, -5.239699840545654, -5.187300205230713, -5.2617998123168945, -5.77209997177124, -5.774700164794922, -5.78410005569458, -5.643799781799316, -5.816800117492676, -6.381400108337402, -6.629899978637695, -5.759300231933594, -5.872200012207031, -6.38640022277832, -5.727499961853027, -5.750100135803223, -7.289400100708008, -7.385900020599365, -7.258900165557861, -5.014200210571289, -7.013899803161621, -7.187900066375732, -5.9344000816345215, -7.137800216674805, -6.702300071716309, -5.958700180053711, -6.762599945068359, -7.016300201416016, -7.244699954986572, -5.968900203704834, -6.869699954986572, -5.362599849700928, -6.742199897766113, -5.9070000648498535, -5.91349983215332, -4.922999858856201, -4.600299835205078, -5.912399768829346, -6.072999954223633, -5.883699893951416, -5.901700019836426, -5.137499809265137, -5.942299842834473, -5.394400119781494, -4.986700057983398, -4.6697001457214355, -2.5683000087738037, -5.470799922943115, -4.552700042724609, -4.469399929046631, -3.960400104522705, -5.230299949645996, -4.414700031280518, -5.190700054168701, -5.379499912261963, -4.406099796295166, -4.65339994430542, -5.093999862670898, -3.347100019454956, -4.707600116729736, -4.955900192260742, -4.27839994430542, -4.554599761962891, -4.638599872589111, -5.222599983215332, -4.768400192260742, -5.0903000831604, -4.985799789428711, -5.142899990081787, -4.96019983291626, -5.189300060272217, -5.271699905395508, -1.7086999416351318, -6.31220006942749, -6.016499996185303, -6.285099983215332, -6.022799968719482, -6.3495001792907715, -7.344299793243408, -6.034599781036377, -5.874000072479248, -6.272600173950195, -6.041500091552734, -6.728499889373779, -6.054100036621094, -6.817800045013428, -6.685800075531006, -7.0625, -4.097400188446045, -5.826099872589111, -6.0609002113342285, -6.767499923706055, -7.061100006103516, -6.948299884796143, -5.653600215911865, -6.253600120544434, -7.66480016708374, -6.077300071716309, -5.352200031280518, -6.496799945831299, -7.14769983291626, -7.515699863433838, -5.066699981689453, -5.604599952697754, -4.99459981918335, -5.890600204467773, -4.830100059509277, -5.581699848175049, -5.155700206756592, -6.138299942016602, -6.2067999839782715, -5.599899768829346, -5.675300121307373, -5.316100120544434, -4.789899826049805, -5.151400089263916, -4.129199981689453, -5.695300102233887, -4.883600234985352, -4.291800022125244, -4.701000213623047, -3.48009991645813, -3.6791000366210938, -4.787600040435791, -4.880499839782715, -4.848599910736084, -5.382599830627441, -4.878799915313721, -4.843699932098389, -4.749499797821045, -5.339300155639648, -4.987400054931641, -5.190100193023682, -5.22599983215332, -5.330399990081787, -5.245299816131592, -5.427000045776367, -5.21999979019165], \"Term\": [\"exhibit\", \"attachment\", \"motion\", \"order\", \"notice_appearance_behalf\", \"plaintiff_'s\", \"judge\", \"ex\", \"serve\", \"c\", \"magistrate_judge\", \"discovery\", \"mro\", \"cd\", \"seal\", \"hold\", \"withdraw_attorney\", \"may\", \"appear_pro_hac_vice\", \"counsel\", \"serve_answer_due\", \"judgment\", \"transcript_may_view_court\", \"sign_magistrate_judge\", \"public_terminal_purchase_court\", \"notice\", \"reportertranscriber_deadline_release_transcript\", \"b\", \"djc\", \"e\", \"complaint_pursuant_frcp\", \"magistrate_judge_discovery_hear\", \"transcript_proceeding_hold\", \"receive_night_deposit_box\", \"notice_case_reassignment\", \"copy_mail_chamber\", \"mail_copy\", \"transcript_proceeding_conference_hold\", \"judge_longer_assigned\", \"district_judge\", \"wellington\", \"confidential\", \"telephone_conference_set\", \"judge_d._kan._gr\", \"attached\", \"gf\", \"ago\", \"pretrial_conference_hold\", \"judge_d._kan._magistrate\", \"date_december\", \"response_due\", \"serve_answer_due\", \"number\", \"memorandum_law\", \"usca_case\", \"judge_jury_trial\", \"sac\", \"transcript_proceeding\", \"responsereply\", \"cal\", \"ja\", \"response_due_reply\", \"sign_judge_gr\", \"tp\", \"hold\", \"discovery\", \"letter_address_judge\", \"service_accept\", \"may\", \"joint\", \"order\", \"sign_magistrate_judge\", \"magistrate_judge\", \"dismiss\", \"motion_dismiss_thirdparty\", \"claim\", \"answer_complaint\", \"minute_entry_proceeding_hold\", \"grant\", \"date\", \"judge\", \"motion\", \"clerk\", \"judgment\", \"stipulation\", \"party\", \"court\", \"sign_judge\", \"notice\", \"plaintiff\", \"'s\", \"shall\", \"case\", \"memorandum_law_opposition\", \"letter\", \"defendant\", \"summary_judgment\", \"action\", \"declaration_support\", \"schedule\", \"request\", \"transcript_may_view_court\", \"public_terminal_purchase_court\", \"reportertranscriber_deadline_release_transcript\", \"withdraw_attorney\", \"date_may_obtain\", \"llc_kehrli\", \"support_paper_review\", \"restriction\", \"pacer\", \"service_make\", \"judge_c.d\", \"fee_receipt_number\", \"nonecf_case_error\", \"service_accept_legal_clerk\", \"previously_schedule\", \"notice_appearance_behalf\", \"officer\", \"certify_copy_docket_sheet\", \"redact_transcript_deadline_set\", \"sign_judge_sr\", \"h.o\", \"redaction_request_due\", \"r._civ\", \"cancel\", \"answer_otherwise_respond\", \"proceeding\", \"corporate_parent\", \"appear_pro_hac_vice\", \"kkc\", \"hereby_give_official_transcript\", \"official_transcript_notice\", \"mro\", \"plaintiff_'s\", \"later\", \"dle\", \"nd\", \"respond\", \"response\", \"court_reportertranscriber_abovecaptioned_matter\", \"submit\", \"djc\", \"pennsylvania\", \"motion\", \"set_forth\", \"inc..\", \"complaint\", \"defendant\", \"deny\", \"request\", \"reply\", \"reply_memorandum_law_support\", \"letter\", \"summary_judgment\", \"opposition\", \"order\", \"schedule\", \"l.p.\", \"'s\", \"party\", \"shall\", \"declaration_opposition\", \"court\", \"counsel\", \"stipulation\", \"memorandum_law_support\", \"notice\", \"dismiss\", \"sign_judge\", \"exhibit\", \"g\", \"transcript_may_make_remotely\", \"h\", \"electronically_available_public_without\", \"redaction_calendar_day_mcguirk\", \"q\", \"party_calendar_day\", \"part\", \"erratum\", \"court_notice_intent\", \"k\", \"request_redaction_transcript\", \"n\", \"marshal\", \"propose_finding_fact_conclusion\", \"attachment\", \"j\", \"cotton\", \"york_ny_magistrate_judge\", \"notice_conversion\", \"associate_case_et_al\", \"rjm\", \"document_place_vault\", \"aim_exploration_inc.._basile\", \"kehrli\", \"cd\", \"courtroom_pearl_street_new\", \"date_purs\", \"oral_argument_set_pm\", \"c\", \"e\", \"serve\", \"f\", \"ex\", \"certificate_service\", \"seal\", \"affidavit_service_summons_complaint\", \"release_transcript_restriction_set\", \"sign_judge_iii\", \"pl\", \"follow\", \"b\", \"llc\", \"notice\", \"han\", \"counsel\", \"'s\", \"judge\", \"motion\", \"order\", \"sign_judge\", \"case\", \"plaintiff\", \"march\", \"date\", \"court\", \"defendant\", \"propose\", \"shall\", \"memorandum_law_support\", \"magistrate_judge\", \"conference\", \"request\", \"defendant_'\", \"party\"]}, \"token.table\": {\"Freq\": [0.3708037353275208, 0.34688091369348717, 0.28194754068682454, 0.4376554866918279, 0.37149826195934227, 0.1882936396232283, 0.08931753759968075, 0.11909005013290767, 0.7740853258638999, 0.8667821675445665, 0.05778547783630443, 0.05778547783630443, 0.14559135415805052, 0.14559135415805052, 0.8735481249483031, 0.7284185762414455, 0.20811959321184154, 0.06937319773728051, 0.07890529361508727, 0.7890529361508728, 0.07890529361508727, 0.18523642856043465, 0.7988320981668744, 0.011577276785027166, 0.07227123009338142, 0.07227123009338142, 0.867254761120577, 0.9165250647682761, 0.08332046043347964, 0.08332046043347964, 0.0597721624007551, 0.08111936325816764, 0.858157474467984, 0.297750821623271, 0.17760575324896866, 0.5223698624969666, 0.14341232757734826, 0.07170616378867413, 0.778524063991319, 0.8419335213540868, 0.10981741582879394, 0.05490870791439697, 0.06335440343662134, 0.8236072446760774, 0.06335440343662134, 0.4433044960739062, 0.23051833795843124, 0.326272109110395, 0.08597228224157673, 0.08597228224157673, 0.8167366812949789, 0.1455295284492402, 0.11318963323829792, 0.7276476422462009, 0.07626690412073694, 0.8389359453281064, 0.07626690412073694, 0.6614398478286765, 0.18821459084555836, 0.14519411293800216, 0.6662213225684253, 0.16449909199220378, 0.16449909199220378, 0.2745211879670517, 0.5912764048521114, 0.13374109157369185, 0.9550527087666769, 0.030808151895699253, 0.4103818796892054, 0.27884922594266526, 0.30515575669197326, 0.9209599552575154, 0.06578285394696538, 0.9306853296125996, 0.05816783310078748, 0.05816783310078748, 0.16000576825352983, 0.8000288412676492, 0.053335256084509945, 0.060366570628163314, 0.09054985594224498, 0.8451319887942864, 0.12107461044282514, 0.43586859759417046, 0.4407115820118835, 0.44901392249765987, 0.3135572084480865, 0.23830347842054572, 0.061978150776617745, 0.030989075388308873, 0.8986831862609572, 0.21929873099089647, 0.7775136826040875, 0.01993624827189968, 0.13374090787903364, 0.04458030262634455, 0.8024454472742019, 0.5607512496771974, 0.18125292918858904, 0.26055108570859675, 0.8742139512565869, 0.08742139512565869, 0.042597421497176276, 0.937143272937878, 0.042597421497176276, 0.08524107782810154, 0.08524107782810154, 0.767169700452914, 0.2871051855658642, 0.5670327414925818, 0.1435525927829321, 0.46396536264014204, 0.2816932558886577, 0.24855287284293323, 0.26885440604076966, 0.5319885055700335, 0.2002107279027008, 0.3361727358524627, 0.26893818868197017, 0.3959367777817894, 0.1911957146383935, 0.6778757155361224, 0.12167000022443222, 0.78125477401215, 0.09903229529731479, 0.12103947203005141, 0.622984102659535, 0.22603847972602595, 0.151611175425993, 0.8867036436680993, 0.03855233233339562, 0.03855233233339562, 0.25202543754522205, 0.6811498312033029, 0.061303484808297254, 0.18648598005016323, 0.7925654152131938, 0.04662149501254081, 0.10671953029781975, 0.07114635353187983, 0.8181830656166181, 0.19360555535993978, 0.0176005050327218, 0.7744222214397591, 0.03128323724930758, 0.03128323724930758, 0.9072138802299199, 0.039183391748313784, 0.07836678349662757, 0.9012180102112171, 0.12101210108836033, 0.1921956899638664, 0.6833624532048583, 0.016055216895581866, 0.008919564941989925, 0.9753544264065983, 0.0925668424905674, 0.1388502637358511, 0.763676450547181, 0.057602819821894635, 0.9024441772096826, 0.03840187988126309, 0.2546060538231157, 0.14257939014094478, 0.6008702870225531, 0.04357094219177193, 0.04357094219177193, 0.9585607282189825, 0.9024147055291574, 0.050134150307175405, 0.050134150307175405, 0.6006538207494208, 0.25290687189449296, 0.1501634551873552, 0.0407802099541607, 0.0407802099541607, 0.937944828945696, 0.09343529325624834, 0.8409176393062351, 0.09343529325624834, 0.09801771336902312, 0.2450442834225578, 0.669787708021658, 0.19870751781963814, 0.7948300712785525, 0.019870751781963812, 0.7951595479806481, 0.09312679390764347, 0.10745399297035786, 0.2613368951641333, 0.6045853544841889, 0.1326187229191124, 0.11968632769276266, 0.04787453107710506, 0.8617415593878911, 0.8333992809617944, 0.07576357099652677, 0.07576357099652677, 0.7753530580222382, 0.17999267418373388, 0.05538236128730273, 0.5724172281330497, 0.07717985098423141, 0.3537409836777273, 0.056367959486085535, 0.9018873517773686, 0.056367959486085535, 0.8977628640604848, 0.04725067705581499, 0.04725067705581499, 0.8839150354936659, 0.05892766903291106, 0.05892766903291106, 0.8307878532024825, 0.14660962115337928, 0.04886987371779309, 0.8927948190916106, 0.06377105850654362, 0.06377105850654362, 0.6204895710228734, 0.045244031220417855, 0.3296350846059015, 0.06081857595467897, 0.06081857595467897, 0.8514600633655055, 0.11875294851839567, 0.059376474259197835, 0.8312706396287697, 0.13796284968786157, 0.7817894815645489, 0.09197523312524104, 0.3487075088864738, 0.5360727375418926, 0.11450097306720035, 0.03931014580502086, 0.7862029161004173, 0.1768956561225939, 0.3511860220087299, 0.5110755930045744, 0.13704820371072388, 0.7866149055265341, 0.09194200194465983, 0.12258933592621311, 0.203911473269034, 0.22838085006131809, 0.5709521251532952, 0.03723268110384096, 0.930817027596024, 0.03723268110384096, 0.6678620582896235, 0.06922960360319268, 0.2647014255416191, 0.947911364701713, 0.035107828322285664, 0.035107828322285664, 0.9125524222522565, 0.03379823786119469, 0.06759647572238937, 0.20184054321013759, 0.31592432850282404, 0.4826621685459812, 0.057501068118976394, 0.057501068118976394, 0.8625160217846459, 0.7102665087920599, 0.2232266170489331, 0.06595331867354841, 0.856994895985242, 0.12696220681262846, 0.031740551703157115, 0.5718279724560456, 0.20728764001531652, 0.21443548967101708, 0.3380332803047136, 0.37270336033596624, 0.2903619202617412, 0.691371554490117, 0.09647044946373726, 0.21705851129340883, 0.37845316140312013, 0.4669389170330483, 0.15453850279029713, 0.7653101026296943, 0.05887000789459187, 0.1766100236837756, 0.17166931003903813, 0.7653590072573784, 0.0643759912646393, 0.0659762627644686, 0.0659762627644686, 0.8576914159380918, 0.17130630295707866, 0.7803953801378027, 0.057102100985692884, 0.08892246406639394, 0.8892246406639395, 0.4060651455021027, 0.20603305412175654, 0.3880622572778715, 0.04481611232426638, 0.8694325790907678, 0.08066900218367948, 0.9125415071841785, 0.06083610047894523, 0.06083610047894523, 0.08133966991561621, 0.8133966991561621, 0.8617593446783169, 0.027798688538010225, 0.1111947541520409, 0.12928930207340114, 0.8403804634771074, 0.1990704225754237, 0.7962816903016948, 0.01990704225754237, 0.2402503653216143, 0.6177866536841511, 0.13728592304092246, 0.12292982918654834, 0.12292982918654834, 0.8605088043058384, 0.5576367650038118, 0.27801021327726266, 0.16432774234411845, 0.04441394449578518, 0.9104858621635962, 0.04441394449578518, 0.026451821717373366, 0.0793554651521201, 0.8993619383906944, 0.4779338247561372, 0.3661781542907718, 0.1545557144733777, 0.031067239606996578, 0.062134479213993156, 0.9009499486029008, 0.20517215155001547, 0.638831471871639, 0.15387911366251159, 0.16227661415097053, 0.1785042755660676, 0.6653341180189792, 0.4646236151276292, 0.235494161092086, 0.3023235851857861, 0.19108527619616258, 0.7391983052851553, 0.07039983859858621, 0.8911757534378142, 0.11139696917972677, 0.03713232305990893, 0.08462500277064633, 0.8462500277064633, 0.08462500277064633, 0.0657371223492318, 0.8107578423071922, 0.109561870582053, 0.19720548424157308, 0.39441096848314616, 0.4084970745004014, 0.08288816206497295, 0.08288816206497295, 0.8288816206497294, 0.02101654852312899, 0.9667612320639335, 0.02101654852312899, 0.9221007470942632, 0.09832618907605922, 0.8357726071465035, 0.04916309453802961, 0.9395674725602932, 0.06263783150401954, 0.08703041569952999, 0.8485465530704174, 0.06527281177464749, 0.04300879594911634, 0.04300879594911634, 0.903184714931443, 0.08807008190200248, 0.8366657780690235, 0.08807008190200248, 0.1262594256296856, 0.09469456922226419, 0.7575565537781135, 0.19472175582207968, 0.6652993323921055, 0.14604131686655974, 0.2552354966290745, 0.6942405508310827, 0.05104709932581491, 0.04211208214840039, 0.9475218483390088, 0.021056041074200196, 0.2564371147480477, 0.5468598712096921, 0.1977346426972898, 0.06150080972798579, 0.06150080972798579, 0.8610113361918011, 0.13551826785238394, 0.7743901020136225, 0.09679876275170281, 0.09067893592135223, 0.7089444081123902, 0.19784495110113215, 0.8599508749080272, 0.02866502916360091, 0.08599508749080273, 0.820524723405161, 0.12307870851077415, 0.04102623617025805, 0.8385405356957897, 0.09317117063286552, 0.03969058915654487, 0.9128835506005321, 0.03969058915654487, 0.059132885186319296, 0.11826577037263859, 0.8278603926084701, 0.834521907870055, 0.07586562798818682, 0.09483203498523353, 0.3326863295421331, 0.4934224213433885, 0.1719502377408778, 0.2395226189237643, 0.06986076385276459, 0.6986076385276458, 0.13834052811092867, 0.11067242248874294, 0.7562615536730768, 0.8669007334683585, 0.08091073512371345, 0.0577933822312239, 0.7739582227742102, 0.1719907161720467, 0.04914020462058478, 0.09691064188698911, 0.872195776982902, 0.07313435110298604, 0.9141793887873254, 0.03656717555149302, 0.23085448970859604, 0.7156489180966478, 0.05771362242714901, 0.4088121382730695, 0.3745246686114572, 0.21627480863478515, 0.4729286289611835, 0.22449143779803013, 0.3023151362346806, 0.8176641939714976, 0.08176641939714976, 0.1022080242464372, 0.14819464609827873, 0.19265303992776237, 0.6668759074422543, 0.07231675348656225, 0.867801041838747, 0.07231675348656225, 0.7175024876775278, 0.04392872373535884, 0.23428652658858048, 0.5335147976335173, 0.34643818028150475, 0.11778898129571161, 0.10834229440549879, 0.7258933725168418, 0.17334767104879806, 0.3788338874453259, 0.5524660858577669, 0.07103135389599861, 0.04772453510680034, 0.9067661670292064, 0.04772453510680034, 0.9235530680836316, 0.06596807629168798, 0.06596807629168798, 0.8278378444387182, 0.1419150590466374, 0.04730501968221247, 0.03139553249248082, 0.03139553249248082, 0.9104704422819436, 0.02101243170482456, 0.9665718584219298, 0.02101243170482456, 0.8447859961047579, 0.14079766601745966, 0.07039883300872983, 0.9130599220146264, 0.06296964979411217, 0.031484824897056084, 0.9373655485542031, 0.04359839760717223, 0.021799198803586117, 0.878530854430398, 0.0585687236286932, 0.1171374472573864, 0.9051070404929173, 0.06704496596243832, 0.03352248298121916, 0.05432430264688459, 0.9416212458793329, 0.018108100882294864, 0.1221398035630902, 0.0610699017815451, 0.8549786249416315], \"Topic\": [1, 2, 3, 1, 2, 3, 1, 2, 3, 1, 2, 3, 1, 2, 3, 1, 2, 3, 1, 2, 3, 1, 2, 3, 1, 2, 3, 1, 2, 3, 1, 2, 3, 1, 2, 3, 1, 2, 3, 1, 2, 3, 1, 2, 3, 1, 2, 3, 1, 2, 3, 1, 2, 3, 1, 2, 3, 1, 2, 3, 1, 2, 3, 1, 2, 3, 1, 2, 1, 2, 3, 1, 2, 1, 2, 3, 1, 2, 3, 1, 2, 3, 1, 2, 3, 1, 2, 3, 1, 2, 3, 1, 2, 3, 1, 2, 3, 1, 2, 3, 1, 2, 1, 2, 3, 1, 2, 3, 1, 2, 3, 1, 2, 3, 1, 2, 3, 1, 2, 3, 1, 2, 3, 1, 2, 3, 1, 2, 3, 1, 2, 3, 1, 2, 3, 1, 2, 3, 1, 2, 3, 1, 2, 3, 1, 2, 3, 1, 2, 3, 1, 2, 3, 1, 2, 3, 1, 2, 3, 1, 2, 3, 1, 2, 3, 1, 2, 3, 1, 2, 3, 1, 2, 3, 1, 2, 3, 1, 2, 3, 1, 2, 3, 1, 2, 3, 1, 2, 3, 1, 2, 3, 1, 2, 3, 1, 2, 3, 1, 2, 3, 1, 2, 3, 1, 2, 3, 1, 2, 3, 1, 2, 3, 1, 2, 3, 1, 2, 3, 1, 2, 3, 1, 2, 3, 1, 2, 3, 1, 2, 3, 1, 2, 3, 1, 2, 3, 1, 2, 3, 1, 2, 3, 1, 2, 3, 1, 2, 3, 1, 2, 3, 1, 2, 3, 1, 2, 3, 1, 2, 3, 1, 2, 3, 1, 2, 3, 1, 2, 3, 1, 2, 3, 1, 2, 3, 1, 2, 3, 1, 2, 3, 1, 2, 3, 1, 2, 3, 1, 2, 3, 1, 2, 3, 1, 2, 1, 2, 3, 1, 2, 3, 1, 2, 3, 2, 3, 1, 2, 3, 1, 2, 1, 2, 3, 1, 2, 3, 1, 2, 3, 1, 2, 3, 1, 2, 3, 1, 2, 3, 1, 2, 3, 1, 2, 3, 1, 2, 3, 1, 2, 3, 1, 2, 3, 1, 2, 3, 1, 2, 3, 1, 2, 3, 1, 2, 3, 1, 2, 3, 1, 2, 3, 1, 2, 3, 3, 1, 2, 3, 1, 2, 1, 2, 3, 1, 2, 3, 1, 2, 3, 1, 2, 3, 1, 2, 3, 1, 2, 3, 1, 2, 3, 1, 2, 3, 1, 2, 3, 1, 2, 3, 1, 2, 3, 1, 2, 3, 1, 2, 3, 1, 2, 1, 2, 3, 1, 2, 3, 1, 2, 3, 1, 2, 3, 1, 2, 3, 1, 2, 3, 1, 2, 3, 1, 2, 3, 1, 2, 1, 2, 3, 1, 2, 3, 1, 2, 3, 1, 2, 3, 1, 2, 3, 1, 2, 3, 1, 2, 3, 1, 2, 3, 1, 2, 3, 1, 2, 3, 1, 2, 3, 1, 2, 3, 1, 2, 3, 1, 2, 3, 1, 2, 3, 1, 2, 3, 1, 2, 3, 1, 2, 3, 1, 2, 3, 1, 2, 3, 1, 2, 3, 1, 2, 3, 1, 2, 3], \"Term\": [\"'s\", \"'s\", \"'s\", \"action\", \"action\", \"action\", \"affidavit_service_summons_complaint\", \"affidavit_service_summons_complaint\", \"affidavit_service_summons_complaint\", \"ago\", \"ago\", \"ago\", \"aim_exploration_inc.._basile\", \"aim_exploration_inc.._basile\", \"aim_exploration_inc.._basile\", \"answer_complaint\", \"answer_complaint\", \"answer_complaint\", \"answer_otherwise_respond\", \"answer_otherwise_respond\", \"answer_otherwise_respond\", \"appear_pro_hac_vice\", \"appear_pro_hac_vice\", \"appear_pro_hac_vice\", \"associate_case_et_al\", \"associate_case_et_al\", \"associate_case_et_al\", \"attached\", \"attached\", \"attached\", \"attachment\", \"attachment\", \"attachment\", \"b\", \"b\", \"b\", \"c\", \"c\", \"c\", \"cal\", \"cal\", \"cal\", \"cancel\", \"cancel\", \"cancel\", \"case\", \"case\", \"case\", \"cd\", \"cd\", \"cd\", \"certificate_service\", \"certificate_service\", \"certificate_service\", \"certify_copy_docket_sheet\", \"certify_copy_docket_sheet\", \"certify_copy_docket_sheet\", \"claim\", \"claim\", \"claim\", \"clerk\", \"clerk\", \"clerk\", \"complaint\", \"complaint\", \"complaint\", \"complaint_pursuant_frcp\", \"complaint_pursuant_frcp\", \"conference\", \"conference\", \"conference\", \"confidential\", \"confidential\", \"copy_mail_chamber\", \"copy_mail_chamber\", \"copy_mail_chamber\", \"corporate_parent\", \"corporate_parent\", \"corporate_parent\", \"cotton\", \"cotton\", \"cotton\", \"counsel\", \"counsel\", \"counsel\", \"court\", \"court\", \"court\", \"court_notice_intent\", \"court_notice_intent\", \"court_notice_intent\", \"court_reportertranscriber_abovecaptioned_matter\", \"court_reportertranscriber_abovecaptioned_matter\", \"court_reportertranscriber_abovecaptioned_matter\", \"courtroom_pearl_street_new\", \"courtroom_pearl_street_new\", \"courtroom_pearl_street_new\", \"date\", \"date\", \"date\", \"date_december\", \"date_december\", \"date_may_obtain\", \"date_may_obtain\", \"date_may_obtain\", \"date_purs\", \"date_purs\", \"date_purs\", \"declaration_opposition\", \"declaration_opposition\", \"declaration_opposition\", \"declaration_support\", \"declaration_support\", \"declaration_support\", \"defendant\", \"defendant\", \"defendant\", \"defendant_'\", \"defendant_'\", \"defendant_'\", \"deny\", \"deny\", \"deny\", \"discovery\", \"discovery\", \"discovery\", \"dismiss\", \"dismiss\", \"dismiss\", \"district_judge\", \"district_judge\", \"district_judge\", \"djc\", \"djc\", \"djc\", \"dle\", \"dle\", \"dle\", \"document_place_vault\", \"document_place_vault\", \"document_place_vault\", \"e\", \"e\", \"e\", \"electronically_available_public_without\", \"electronically_available_public_without\", \"electronically_available_public_without\", \"erratum\", \"erratum\", \"erratum\", \"ex\", \"ex\", \"ex\", \"exhibit\", \"exhibit\", \"exhibit\", \"f\", \"f\", \"f\", \"fee_receipt_number\", \"fee_receipt_number\", \"fee_receipt_number\", \"follow\", \"follow\", \"follow\", \"g\", \"g\", \"g\", \"gf\", \"gf\", \"gf\", \"grant\", \"grant\", \"grant\", \"h\", \"h\", \"h\", \"h.o\", \"h.o\", \"h.o\", \"han\", \"han\", \"han\", \"hereby_give_official_transcript\", \"hereby_give_official_transcript\", \"hereby_give_official_transcript\", \"hold\", \"hold\", \"hold\", \"inc..\", \"inc..\", \"inc..\", \"j\", \"j\", \"j\", \"ja\", \"ja\", \"ja\", \"joint\", \"joint\", \"joint\", \"judge\", \"judge\", \"judge\", \"judge_c.d\", \"judge_c.d\", \"judge_c.d\", \"judge_d._kan._gr\", \"judge_d._kan._gr\", \"judge_d._kan._gr\", \"judge_d._kan._magistrate\", \"judge_d._kan._magistrate\", \"judge_d._kan._magistrate\", \"judge_jury_trial\", \"judge_jury_trial\", \"judge_jury_trial\", \"judge_longer_assigned\", \"judge_longer_assigned\", \"judge_longer_assigned\", \"judgment\", \"judgment\", \"judgment\", \"k\", \"k\", \"k\", \"kehrli\", \"kehrli\", \"kehrli\", \"kkc\", \"kkc\", \"kkc\", \"l.p.\", \"l.p.\", \"l.p.\", \"later\", \"later\", \"later\", \"letter\", \"letter\", \"letter\", \"letter_address_judge\", \"letter_address_judge\", \"letter_address_judge\", \"llc\", \"llc\", \"llc\", \"llc_kehrli\", \"llc_kehrli\", \"llc_kehrli\", \"magistrate_judge\", \"magistrate_judge\", \"magistrate_judge\", \"magistrate_judge_discovery_hear\", \"magistrate_judge_discovery_hear\", \"magistrate_judge_discovery_hear\", \"mail_copy\", \"mail_copy\", \"mail_copy\", \"march\", \"march\", \"march\", \"marshal\", \"marshal\", \"marshal\", \"may\", \"may\", \"may\", \"memorandum_law\", \"memorandum_law\", \"memorandum_law\", \"memorandum_law_opposition\", \"memorandum_law_opposition\", \"memorandum_law_opposition\", \"memorandum_law_support\", \"memorandum_law_support\", \"memorandum_law_support\", \"minute_entry_proceeding_hold\", \"minute_entry_proceeding_hold\", \"minute_entry_proceeding_hold\", \"motion\", \"motion\", \"motion\", \"motion_dismiss_thirdparty\", \"motion_dismiss_thirdparty\", \"motion_dismiss_thirdparty\", \"mro\", \"mro\", \"mro\", \"n\", \"n\", \"n\", \"nd\", \"nd\", \"nd\", \"nonecf_case_error\", \"nonecf_case_error\", \"notice\", \"notice\", \"notice\", \"notice_appearance_behalf\", \"notice_appearance_behalf\", \"notice_appearance_behalf\", \"notice_case_reassignment\", \"notice_case_reassignment\", \"notice_case_reassignment\", \"notice_conversion\", \"notice_conversion\", \"number\", \"number\", \"number\", \"officer\", \"officer\", \"official_transcript_notice\", \"official_transcript_notice\", \"official_transcript_notice\", \"opposition\", \"opposition\", \"opposition\", \"oral_argument_set_pm\", \"oral_argument_set_pm\", \"oral_argument_set_pm\", \"order\", \"order\", \"order\", \"pacer\", \"pacer\", \"pacer\", \"part\", \"part\", \"part\", \"party\", \"party\", \"party\", \"party_calendar_day\", \"party_calendar_day\", \"party_calendar_day\", \"pennsylvania\", \"pennsylvania\", \"pennsylvania\", \"pl\", \"pl\", \"pl\", \"plaintiff\", \"plaintiff\", \"plaintiff\", \"plaintiff_'s\", \"plaintiff_'s\", \"plaintiff_'s\", \"pretrial_conference_hold\", \"pretrial_conference_hold\", \"pretrial_conference_hold\", \"previously_schedule\", \"previously_schedule\", \"previously_schedule\", \"proceeding\", \"proceeding\", \"proceeding\", \"propose\", \"propose\", \"propose\", \"propose_finding_fact_conclusion\", \"propose_finding_fact_conclusion\", \"propose_finding_fact_conclusion\", \"public_terminal_purchase_court\", \"public_terminal_purchase_court\", \"public_terminal_purchase_court\", \"q\", \"r._civ\", \"r._civ\", \"r._civ\", \"receive_night_deposit_box\", \"receive_night_deposit_box\", \"redact_transcript_deadline_set\", \"redact_transcript_deadline_set\", \"redact_transcript_deadline_set\", \"redaction_calendar_day_mcguirk\", \"redaction_calendar_day_mcguirk\", \"redaction_calendar_day_mcguirk\", \"redaction_request_due\", \"redaction_request_due\", \"redaction_request_due\", \"release_transcript_restriction_set\", \"release_transcript_restriction_set\", \"release_transcript_restriction_set\", \"reply\", \"reply\", \"reply\", \"reply_memorandum_law_support\", \"reply_memorandum_law_support\", \"reply_memorandum_law_support\", \"reportertranscriber_deadline_release_transcript\", \"reportertranscriber_deadline_release_transcript\", \"reportertranscriber_deadline_release_transcript\", \"request\", \"request\", \"request\", \"request_redaction_transcript\", \"request_redaction_transcript\", \"request_redaction_transcript\", \"respond\", \"respond\", \"respond\", \"response\", \"response\", \"response\", \"response_due\", \"response_due\", \"response_due\", \"response_due_reply\", \"response_due_reply\", \"response_due_reply\", \"responsereply\", \"responsereply\", \"restriction\", \"restriction\", \"restriction\", \"rjm\", \"rjm\", \"rjm\", \"sac\", \"sac\", \"sac\", \"schedule\", \"schedule\", \"schedule\", \"seal\", \"seal\", \"seal\", \"serve\", \"serve\", \"serve\", \"serve_answer_due\", \"serve_answer_due\", \"serve_answer_due\", \"service_accept\", \"service_accept\", \"service_accept\", \"service_accept_legal_clerk\", \"service_accept_legal_clerk\", \"service_make\", \"service_make\", \"service_make\", \"set_forth\", \"set_forth\", \"set_forth\", \"shall\", \"shall\", \"shall\", \"sign_judge\", \"sign_judge\", \"sign_judge\", \"sign_judge_gr\", \"sign_judge_gr\", \"sign_judge_gr\", \"sign_judge_iii\", \"sign_judge_iii\", \"sign_judge_iii\", \"sign_judge_sr\", \"sign_judge_sr\", \"sign_judge_sr\", \"sign_magistrate_judge\", \"sign_magistrate_judge\", \"sign_magistrate_judge\", \"stipulation\", \"stipulation\", \"stipulation\", \"submit\", \"submit\", \"submit\", \"summary_judgment\", \"summary_judgment\", \"summary_judgment\", \"support_paper_review\", \"support_paper_review\", \"support_paper_review\", \"telephone_conference_set\", \"telephone_conference_set\", \"telephone_conference_set\", \"tp\", \"tp\", \"tp\", \"transcript_may_make_remotely\", \"transcript_may_make_remotely\", \"transcript_may_make_remotely\", \"transcript_may_view_court\", \"transcript_may_view_court\", \"transcript_may_view_court\", \"transcript_proceeding\", \"transcript_proceeding\", \"transcript_proceeding\", \"transcript_proceeding_conference_hold\", \"transcript_proceeding_conference_hold\", \"transcript_proceeding_conference_hold\", \"transcript_proceeding_hold\", \"transcript_proceeding_hold\", \"transcript_proceeding_hold\", \"usca_case\", \"usca_case\", \"usca_case\", \"wellington\", \"wellington\", \"wellington\", \"withdraw_attorney\", \"withdraw_attorney\", \"withdraw_attorney\", \"york_ny_magistrate_judge\", \"york_ny_magistrate_judge\", \"york_ny_magistrate_judge\"]}, \"lambda.step\": 0.01, \"plot.opts\": {\"ylab\": \"PC2\", \"xlab\": \"PC1\"}};\n",
       "\n",
       "function LDAvis_load_lib(url, callback){\n",
       "  var s = document.createElement('script');\n",
       "  s.src = url;\n",
       "  s.async = true;\n",
       "  s.onreadystatechange = s.onload = callback;\n",
       "  s.onerror = function(){console.warn(\"failed to load library \" + url);};\n",
       "  document.getElementsByTagName(\"head\")[0].appendChild(s);\n",
       "}\n",
       "\n",
       "if(typeof(LDAvis) !== \"undefined\"){\n",
       "   // already loaded: just create the visualization\n",
       "   !function(LDAvis){\n",
       "       new LDAvis(\"#\" + \"ldavis_el2506819944969351603309249541\", ldavis_el2506819944969351603309249541_data);\n",
       "   }(LDAvis);\n",
       "}else if(typeof define === \"function\" && define.amd){\n",
       "   // require.js is available: use it to load d3/LDAvis\n",
       "   require.config({paths: {d3: \"https://cdnjs.cloudflare.com/ajax/libs/d3/3.5.5/d3.min\"}});\n",
       "   require([\"d3\"], function(d3){\n",
       "      window.d3 = d3;\n",
       "      LDAvis_load_lib(\"https://cdn.rawgit.com/bmabey/pyLDAvis/files/ldavis.v1.0.0.js\", function(){\n",
       "        new LDAvis(\"#\" + \"ldavis_el2506819944969351603309249541\", ldavis_el2506819944969351603309249541_data);\n",
       "      });\n",
       "    });\n",
       "}else{\n",
       "    // require.js not available: dynamically load d3 & LDAvis\n",
       "    LDAvis_load_lib(\"https://cdnjs.cloudflare.com/ajax/libs/d3/3.5.5/d3.min.js\", function(){\n",
       "         LDAvis_load_lib(\"https://cdn.rawgit.com/bmabey/pyLDAvis/files/ldavis.v1.0.0.js\", function(){\n",
       "                 new LDAvis(\"#\" + \"ldavis_el2506819944969351603309249541\", ldavis_el2506819944969351603309249541_data);\n",
       "            })\n",
       "         });\n",
       "}\n",
       "</script>"
      ],
      "text/plain": [
       "<IPython.core.display.HTML object>"
      ]
     },
     "execution_count": 99,
     "metadata": {},
     "output_type": "execute_result"
    }
   ],
   "source": [
    "num_topics = 3\n",
    "pretrained_model_file_path = 'docket_texts/lda_model_noorgnomodel_' + str(num_topics)\n",
    "\n",
    "column_name = str(num_topics) + ' Topics Clfier'\n",
    "\n",
    "topic_names = {}\n",
    "for i in range(num_topics):\n",
    "    topic_names[i] = 'Topic ' + str(i)\n",
    "\n",
    "LDAvis_prepared, model = topic_modeling_pipeline(num_topics, pretrained_model_file_path, trigram_bow_corpus, trigram_dictionary, export = True)\n",
    "topic_summary = []\n",
    "\n",
    "for docket_text in list(new_df['Phrase Model']):\n",
    "    #print(docket_text)\n",
    "    topic_summary.append(lda_description(docket_text, model, trigram_dictionary, topic_names))\n",
    "\n",
    "new_df[column_name] = topic_summary\n",
    "pyLDAvis.display(LDAvis_prepared)"
   ]
  },
  {
   "cell_type": "markdown",
   "metadata": {},
   "source": [
    "### 5 Topics:"
   ]
  },
  {
   "cell_type": "code",
   "execution_count": 100,
   "metadata": {
    "scrolled": false
   },
   "outputs": [
    {
     "name": "stdout",
     "output_type": "stream",
     "text": [
      "\n",
      " Topic 1's make-up:\n",
      "term                 frequency\n",
      "\n",
      "order                0.058\n",
      "'s                   0.034\n",
      "motion               0.021\n",
      "request              0.020\n",
      "judge                0.015\n",
      "defendant            0.014\n",
      "party                0.013\n",
      "schedule             0.012\n",
      "grant                0.010\n",
      "letter               0.010\n",
      "\n",
      " Topic 2's make-up:\n",
      "term                 frequency\n",
      "\n",
      "motion               0.031\n",
      "court                0.031\n",
      "order                0.027\n",
      "case                 0.022\n",
      "ex                   0.021\n",
      "defendant            0.019\n",
      "party                0.018\n",
      "shall                0.015\n",
      "plaintiff            0.015\n",
      "date                 0.014\n",
      "\n",
      " Topic 3's make-up:\n",
      "term                 frequency\n",
      "\n",
      "exhibit              0.158\n",
      "motion               0.024\n",
      "attachment           0.024\n",
      "order                0.013\n",
      "b                    0.012\n",
      "notice_appearance_behalf 0.011\n",
      "judge                0.010\n",
      "service_accept       0.010\n",
      "party                0.009\n",
      "inc..                0.009\n",
      "\n",
      " Topic 4's make-up:\n",
      "term                 frequency\n",
      "\n",
      "motion               0.109\n",
      "exhibit              0.066\n",
      "notice               0.038\n",
      "order                0.017\n",
      "inc..                0.016\n",
      "summary_judgment     0.014\n",
      "memorandum_law_support 0.013\n",
      "'s                   0.013\n",
      "stipulation          0.010\n",
      "pennsylvania         0.009\n",
      "\n",
      " Topic 5's make-up:\n",
      "term                 frequency\n",
      "\n",
      "exhibit              0.105\n",
      "order                0.075\n",
      "motion               0.063\n",
      "sign_judge           0.015\n",
      "defendant            0.015\n",
      "dismiss              0.014\n",
      "shall                0.013\n",
      "complaint            0.010\n",
      "stipulation          0.009\n",
      "memorandum_law_support 0.009\n"
     ]
    },
    {
     "data": {
      "text/html": [
       "\n",
       "<link rel=\"stylesheet\" type=\"text/css\" href=\"https://cdn.rawgit.com/bmabey/pyLDAvis/files/ldavis.v1.0.0.css\">\n",
       "\n",
       "\n",
       "<div id=\"ldavis_el2506819944969350406315349837\"></div>\n",
       "<script type=\"text/javascript\">\n",
       "\n",
       "var ldavis_el2506819944969350406315349837_data = {\"topic.order\": [1, 2, 5, 3, 4], \"mdsDat\": {\"cluster\": [1, 1, 1, 1, 1], \"topics\": [1, 2, 3, 4, 5], \"Freq\": [23.32557264015743, 20.485458353800635, 19.063999735688416, 18.59855307730476, 18.526416193048764], \"x\": [-0.10970552296258756, -0.09127456390941172, 0.02507861046958204, 0.08201897045199168, 0.09388250595042552], \"y\": [-0.04496607922558072, 0.049506269252214005, -0.015561970945398544, 0.08925196924586036, -0.07823018832709515]}, \"R\": 30, \"tinfo\": {\"Category\": [\"Default\", \"Default\", \"Default\", \"Default\", \"Default\", \"Default\", \"Default\", \"Default\", \"Default\", \"Default\", \"Default\", \"Default\", \"Default\", \"Default\", \"Default\", \"Default\", \"Default\", \"Default\", \"Default\", \"Default\", \"Default\", \"Default\", \"Default\", \"Default\", \"Default\", \"Default\", \"Default\", \"Default\", \"Default\", \"Default\", \"Topic1\", \"Topic1\", \"Topic1\", \"Topic1\", \"Topic1\", \"Topic1\", \"Topic1\", \"Topic1\", \"Topic1\", \"Topic1\", \"Topic1\", \"Topic1\", \"Topic1\", \"Topic1\", \"Topic1\", \"Topic1\", \"Topic1\", \"Topic1\", \"Topic1\", \"Topic1\", \"Topic1\", \"Topic1\", \"Topic1\", \"Topic1\", \"Topic1\", \"Topic1\", \"Topic1\", \"Topic1\", \"Topic1\", \"Topic1\", \"Topic1\", \"Topic1\", \"Topic1\", \"Topic1\", \"Topic1\", \"Topic1\", \"Topic1\", \"Topic1\", \"Topic1\", \"Topic1\", \"Topic1\", \"Topic1\", \"Topic1\", \"Topic1\", \"Topic1\", \"Topic1\", \"Topic1\", \"Topic1\", \"Topic1\", \"Topic1\", \"Topic1\", \"Topic1\", \"Topic1\", \"Topic1\", \"Topic1\", \"Topic1\", \"Topic1\", \"Topic1\", \"Topic1\", \"Topic1\", \"Topic1\", \"Topic2\", \"Topic2\", \"Topic2\", \"Topic2\", \"Topic2\", \"Topic2\", \"Topic2\", \"Topic2\", \"Topic2\", \"Topic2\", \"Topic2\", \"Topic2\", \"Topic2\", \"Topic2\", \"Topic2\", \"Topic2\", \"Topic2\", \"Topic2\", \"Topic2\", \"Topic2\", \"Topic2\", \"Topic2\", \"Topic2\", \"Topic2\", \"Topic2\", \"Topic2\", \"Topic2\", \"Topic2\", \"Topic2\", \"Topic2\", \"Topic2\", \"Topic2\", \"Topic2\", \"Topic2\", \"Topic2\", \"Topic2\", \"Topic2\", \"Topic2\", \"Topic2\", \"Topic2\", \"Topic2\", \"Topic2\", \"Topic2\", \"Topic2\", \"Topic2\", \"Topic2\", \"Topic2\", \"Topic2\", \"Topic2\", \"Topic2\", \"Topic2\", \"Topic2\", \"Topic2\", \"Topic2\", \"Topic2\", \"Topic2\", \"Topic2\", \"Topic2\", \"Topic2\", \"Topic2\", \"Topic2\", \"Topic2\", \"Topic3\", \"Topic3\", \"Topic3\", \"Topic3\", \"Topic3\", \"Topic3\", \"Topic3\", \"Topic3\", \"Topic3\", \"Topic3\", \"Topic3\", \"Topic3\", \"Topic3\", \"Topic3\", \"Topic3\", \"Topic3\", \"Topic3\", \"Topic3\", \"Topic3\", \"Topic3\", \"Topic3\", \"Topic3\", \"Topic3\", \"Topic3\", \"Topic3\", \"Topic3\", \"Topic3\", \"Topic3\", \"Topic3\", \"Topic3\", \"Topic3\", \"Topic3\", \"Topic3\", \"Topic3\", \"Topic3\", \"Topic3\", \"Topic3\", \"Topic3\", \"Topic3\", \"Topic3\", \"Topic3\", \"Topic3\", \"Topic3\", \"Topic3\", \"Topic3\", \"Topic3\", \"Topic3\", \"Topic3\", \"Topic3\", \"Topic3\", \"Topic3\", \"Topic3\", \"Topic3\", \"Topic3\", \"Topic3\", \"Topic3\", \"Topic3\", \"Topic3\", \"Topic3\", \"Topic3\", \"Topic3\", \"Topic3\", \"Topic3\", \"Topic3\", \"Topic3\", \"Topic3\", \"Topic3\", \"Topic4\", \"Topic4\", \"Topic4\", \"Topic4\", \"Topic4\", \"Topic4\", \"Topic4\", \"Topic4\", \"Topic4\", \"Topic4\", \"Topic4\", \"Topic4\", \"Topic4\", \"Topic4\", \"Topic4\", \"Topic4\", \"Topic4\", \"Topic4\", \"Topic4\", \"Topic4\", \"Topic4\", \"Topic4\", \"Topic4\", \"Topic4\", \"Topic4\", \"Topic4\", \"Topic4\", \"Topic4\", \"Topic4\", \"Topic4\", \"Topic4\", \"Topic4\", \"Topic4\", \"Topic4\", \"Topic4\", \"Topic4\", \"Topic4\", \"Topic4\", \"Topic4\", \"Topic4\", \"Topic4\", \"Topic4\", \"Topic4\", \"Topic4\", \"Topic4\", \"Topic4\", \"Topic4\", \"Topic4\", \"Topic4\", \"Topic4\", \"Topic4\", \"Topic4\", \"Topic4\", \"Topic4\", \"Topic4\", \"Topic4\", \"Topic4\", \"Topic4\", \"Topic4\", \"Topic4\", \"Topic4\", \"Topic5\", \"Topic5\", \"Topic5\", \"Topic5\", \"Topic5\", \"Topic5\", \"Topic5\", \"Topic5\", \"Topic5\", \"Topic5\", \"Topic5\", \"Topic5\", \"Topic5\", \"Topic5\", \"Topic5\", \"Topic5\", \"Topic5\", \"Topic5\", \"Topic5\", \"Topic5\", \"Topic5\", \"Topic5\", \"Topic5\", \"Topic5\", \"Topic5\", \"Topic5\", \"Topic5\", \"Topic5\", \"Topic5\", \"Topic5\", \"Topic5\", \"Topic5\", \"Topic5\", \"Topic5\", \"Topic5\", \"Topic5\", \"Topic5\", \"Topic5\", \"Topic5\", \"Topic5\", \"Topic5\", \"Topic5\", \"Topic5\", \"Topic5\", \"Topic5\", \"Topic5\", \"Topic5\", \"Topic5\", \"Topic5\", \"Topic5\", \"Topic5\", \"Topic5\", \"Topic5\", \"Topic5\", \"Topic5\", \"Topic5\", \"Topic5\", \"Topic5\", \"Topic5\", \"Topic5\", \"Topic5\", \"Topic5\", \"Topic5\", \"Topic5\"], \"Total\": [2761.0, 2039.0, 1663.0, 193.0, 503.0, 433.0, 321.0, 223.0, 194.0, 108.0, 316.0, 80.0, 74.0, 649.0, 77.0, 340.0, 218.0, 217.0, 150.0, 119.0, 85.0, 58.0, 73.0, 63.0, 355.0, 431.0, 371.0, 321.0, 499.0, 54.0, 58.89481522363698, 32.797782941326545, 63.260376950157074, 54.044715992835506, 54.0451720207438, 54.03763470728781, 19.586074207770586, 50.59605667947282, 33.6007757925255, 49.375237049132735, 16.05988493498634, 22.256368662005798, 13.319175101127541, 26.021909579291787, 25.080467528765666, 10.294845067536947, 49.68697683944708, 10.593032349008517, 20.155170241584514, 20.44685511593591, 17.941968857792723, 41.401196769368525, 17.50880848478626, 40.08028165482613, 18.221180454383017, 19.857095892853657, 25.166827894517997, 42.339423123787995, 43.66619429437586, 17.602083896456985, 44.32797048114425, 340.11278443602174, 649.0507562979591, 115.37310439811579, 74.06244545779766, 50.965982793117696, 1663.2974185544954, 152.8596543305163, 269.45905346018, 371.9421736068276, 139.23691870926595, 242.69900231874504, 147.4425312341949, 144.46537288094336, 202.34753164374393, 431.0650976172557, 100.08685973925685, 499.730449325693, 323.5016991795829, 249.01045540633447, 360.16033929645135, 2039.4455441323018, 176.42312746489011, 170.49138022703374, 433.2655259648093, 247.819625821469, 503.96470024876004, 193.54921224510895, 193.15950807647266, 355.6424724980236, 241.1173953975192, 74.01938121364914, 23.922461257463855, 17.52265477673909, 193.68685152573622, 15.99448405781019, 11.736378915073312, 23.501265402126112, 24.422041801322653, 40.76023447321883, 17.092328951835686, 24.399861082911844, 12.30695021684879, 30.023819895384197, 43.368691547669464, 31.825997206783033, 16.58151575815996, 9.733133771434202, 50.60096975543164, 47.166442057155955, 12.263839920258341, 11.321774772228622, 26.381743107783144, 24.218218856059735, 16.16681291071014, 25.494428082155764, 17.576722376544772, 12.139823760458746, 20.968229806858634, 24.34042010414605, 28.9269868644052, 433.2655259648093, 316.59330491921804, 35.64471418119528, 40.10772813769637, 82.27015282748376, 56.81953449800209, 31.248626212879486, 127.70815175299738, 247.819625821469, 119.59067062474284, 321.6138471022969, 431.0650976172557, 355.6424724980236, 499.730449325693, 360.16033929645135, 155.86046523790148, 181.21762104832754, 193.54921224510895, 371.9421736068276, 1663.2974185544954, 2039.4455441323018, 120.56666091788102, 321.1231372881208, 649.0507562979591, 242.69900231874504, 269.45905346018, 309.1183513548411, 303.3223282255858, 2761.5267034769427, 323.5016991795829, 144.46537288094336, 160.5645345132344, 13.148847137488929, 9.840441728732529, 14.465900396358842, 8.945021064121095, 13.53235064700438, 16.266934358191527, 7.9981896927088645, 14.508957552600167, 17.514630697733804, 6.74414951342931, 14.986037394239153, 18.60493826079245, 34.77179484764221, 10.604086623823616, 16.428992382490776, 10.135573584688993, 17.342749785344584, 17.36595749413691, 13.126227072067215, 26.706685597073076, 19.919322841475868, 12.671227283462407, 10.178013265515862, 99.74153950090545, 11.331181768517853, 10.498779142786777, 11.706370843774417, 21.14213468969469, 14.455017285480658, 20.34499841349841, 66.1858086550449, 120.63000992625216, 19.797301944141832, 1663.2974185544954, 44.5311539964309, 2761.5267034769427, 303.3223282255858, 309.1183513548411, 150.02078777501305, 160.38745950163357, 2039.4455441323018, 65.37638129453754, 148.50612809001186, 194.72075898235425, 98.29927143749043, 241.1173953975192, 355.6424724980236, 499.730449325693, 243.736499642855, 181.21762104832754, 40.45782649142487, 43.504904795211814, 242.69900231874504, 323.5016991795829, 249.01045540633447, 321.6138471022969, 93.47844074305713, 82.99495344258298, 360.16033929645135, 193.15950807647266, 164.85512380873325, 170.968751354981, 340.11278443602174, 649.0507562979591, 503.96470024876004, 431.0650976172557, 269.45905346018, 16.124537825335402, 80.49370805059374, 9.581983900225076, 77.94230127287054, 17.263366114477698, 24.487593353830196, 54.09141456952763, 25.982080301098485, 16.164051226258504, 108.08378294417204, 28.67573987522728, 31.56239400867921, 37.397991415929475, 39.44265340979413, 26.74368068699073, 15.45867914230542, 42.66245711762636, 19.189370562215927, 40.95865395127248, 20.1214619975035, 85.88223802712788, 18.919707269998288, 9.867344929496358, 10.3151254340959, 37.682016999054326, 11.352268559959702, 38.05543791585523, 78.75215538054124, 17.312961407607855, 10.233637377642347, 321.1231372881208, 51.297205300599586, 2761.5267034769427, 37.232845096314264, 124.77028368986356, 218.71201930322167, 134.74706724595563, 52.87829764476023, 72.29385867252624, 223.13549672691434, 66.26347910109543, 371.9421736068276, 193.15950807647266, 150.02078777501305, 2039.4455441323018, 164.85512380873325, 126.82816246948565, 321.6138471022969, 431.0650976172557, 249.01045540633447, 114.34329816226271, 147.4425312341949, 1663.2974185544954, 323.5016991795829, 160.5645345132344, 142.2507407761701, 355.6424724980236, 649.0507562979591, 309.1183513548411, 503.96470024876004, 340.11278443602174, 13.082525724198607, 32.835356871260615, 41.68149609591735, 43.55091563578025, 23.241377698963618, 37.49336115292164, 22.154968516699448, 39.28455869114242, 29.167596561111388, 25.717619686707938, 37.31884243099054, 9.493500883212768, 18.011693479204133, 32.92939642986214, 11.316433113197927, 11.319344030000536, 11.32337088804481, 26.73803366559808, 40.335908000472244, 40.32870399985857, 73.41920530085149, 69.78676609820945, 59.811968008895214, 15.708505844375914, 9.762194715061106, 17.02228985845804, 24.63179564156841, 17.60550850214891, 10.267294105416763, 15.009186755868814, 48.11344267533269, 44.41843686871578, 503.96470024876004, 119.4030825380548, 50.22051434192356, 223.13549672691434, 194.72075898235425, 2039.4455441323018, 217.71595566472183, 68.5775270498415, 89.72723998117456, 87.92255518081859, 2761.5267034769427, 55.039282161234, 109.0695698835874, 202.34753164374393, 243.736499642855, 146.95821870865046, 218.71201930322167, 164.85512380873325, 649.0507562979591, 119.9554445791643, 1663.2974185544954, 106.96988742038005, 78.89970397644763, 360.16033929645135, 176.42312746489011, 144.0808401063365, 152.8596543305163, 303.3223282255858, 241.1173953975192, 309.1183513548411, 323.5016991795829, 170.49138022703374], \"loglift\": [30.0, 29.0, 28.0, 27.0, 26.0, 25.0, 24.0, 23.0, 22.0, 21.0, 20.0, 19.0, 18.0, 17.0, 16.0, 15.0, 14.0, 13.0, 12.0, 11.0, 10.0, 9.0, 8.0, 7.0, 6.0, 5.0, 4.0, 3.0, 2.0, 1.0, 1.4089, 1.3728, 1.3536, 1.3488, 1.3486, 1.3484, 1.3212, 1.299, 1.2848, 1.2788, 1.2714, 1.2708, 1.2641, 1.2593, 1.2563, 1.2528, 1.2222, 1.2205, 1.2167, 1.1996, 1.1967, 1.1953, 1.1774, 1.1577, 1.14, 1.1379, 1.1115, 1.1085, 1.1019, 1.1006, 1.046, 0.9096, 0.8111, 0.9224, 0.9717, 1.0133, 0.3935, 0.7876, 0.6701, 0.5413, 0.7284, 0.5644, 0.6778, 0.684, 0.5478, 0.2844, 0.7747, 0.1571, 0.24, 0.291, 0.1045, -0.8197, 0.3982, 0.4086, -0.1505, 0.1781, -0.3398, 0.3056, 0.1533, -0.4365, -0.0936, 1.5561, 1.5318, 1.5292, 1.5245, 1.5153, 1.5074, 1.5001, 1.4588, 1.4305, 1.3996, 1.3597, 1.3506, 1.3325, 1.3234, 1.3139, 1.3119, 1.3059, 1.2922, 1.2725, 1.2604, 1.2502, 1.2437, 1.2334, 1.2262, 1.2252, 1.2051, 1.1962, 1.1874, 1.1841, 1.1689, 1.1035, 1.086, 1.1563, 1.13, 1.0073, 1.035, 1.1257, 0.8929, 0.7725, 0.897, 0.6901, 0.5745, 0.6083, 0.4989, 0.481, 0.6909, 0.6034, 0.5792, 0.2676, -0.3541, -0.4405, 0.612, 0.1333, -0.3175, 0.1324, 0.0682, -0.0561, -0.0622, -1.6779, -0.1833, 0.4057, 0.2626, 1.5597, 1.5275, 1.4463, 1.4363, 1.4279, 1.3986, 1.3769, 1.3583, 1.3582, 1.3492, 1.3068, 1.3063, 1.2987, 1.2717, 1.2586, 1.2248, 1.2241, 1.2191, 1.206, 1.2051, 1.1959, 1.1855, 1.185, 1.1824, 1.1362, 1.1244, 1.1047, 1.1027, 1.0925, 1.0706, 1.0418, 0.9357, 1.069, 0.6597, 0.9895, 0.4851, 0.7407, 0.691, 0.7795, 0.7463, 0.272, 0.9062, 0.7307, 0.6385, 0.7775, 0.5329, 0.4199, 0.2377, 0.4444, 0.4873, 0.9694, 0.9404, 0.2419, 0.1105, 0.2187, 0.1045, 0.6127, 0.6232, -0.1085, 0.1604, 0.2394, 0.2191, -0.2732, -0.773, -0.6038, -0.5476, -0.2399, 1.6224, 1.621, 1.5867, 1.5312, 1.5273, 1.5256, 1.5229, 1.5219, 1.5196, 1.5095, 1.4806, 1.4665, 1.4534, 1.4475, 1.4465, 1.4392, 1.4161, 1.4046, 1.4028, 1.3651, 1.356, 1.3406, 1.3388, 1.3197, 1.3178, 1.3032, 1.3003, 1.2858, 1.2409, 1.2319, 1.1516, 1.1832, 0.8901, 1.2, 0.9777, 0.8253, 0.8893, 1.0834, 0.9832, 0.5913, 0.922, 0.1736, 0.458, 0.5701, -0.6842, 0.5111, 0.6228, 0.1136, -0.0628, 0.2367, 0.6682, 0.4654, -1.1026, -0.057, 0.3457, 0.4368, -0.3275, -0.8298, -0.2534, -0.6794, -0.3391, 1.5982, 1.5898, 1.5794, 1.5328, 1.5225, 1.5174, 1.5153, 1.5148, 1.5076, 1.4891, 1.4845, 1.4707, 1.4691, 1.4683, 1.4569, 1.4554, 1.4519, 1.3865, 1.3803, 1.3799, 1.3624, 1.3548, 1.3536, 1.3364, 1.3204, 1.3166, 1.3011, 1.2836, 1.2745, 1.2667, 1.2589, 1.2538, 1.1686, 1.1723, 1.2225, 1.0876, 1.0801, 0.8216, 1.0263, 1.1101, 1.0507, 1.0456, 0.022, 1.1454, 0.8934, 0.6594, 0.573, 0.7228, 0.4761, 0.5953, -0.1665, 0.7368, -0.8395, 0.7836, 0.9646, -0.0588, 0.3455, 0.4873, 0.424, -0.1455, 0.0426, -0.1756, -0.2498, 0.3086], \"Freq\": [2761.0, 2039.0, 1663.0, 193.0, 503.0, 433.0, 321.0, 223.0, 194.0, 108.0, 316.0, 80.0, 74.0, 649.0, 77.0, 340.0, 218.0, 217.0, 150.0, 119.0, 85.0, 58.0, 73.0, 63.0, 355.0, 431.0, 371.0, 321.0, 499.0, 54.0, 56.209071629598405, 30.19000459776663, 57.12697699899768, 48.57096890138932, 48.55874795926936, 48.541656251063664, 17.12178321664933, 43.25972521088082, 28.324473380463996, 41.37165221789693, 13.357224417081014, 18.500566868568043, 10.997422826546059, 21.38266543357554, 20.548429722512935, 8.404986542483904, 39.34165038440343, 8.373426202765689, 15.871130604737122, 15.827990030236101, 13.84968157696315, 31.9110348763888, 13.256957773925576, 29.75394822119884, 13.289084670403051, 14.452025258880326, 17.840239751939492, 29.921774151039624, 30.65670833506226, 12.342235086362061, 29.428207049694564, 197.01048504312192, 340.69687962536875, 67.68974072392822, 45.651174036342475, 32.748470648328855, 575.0239025231308, 78.37518657999249, 122.83870007895064, 149.07691914376258, 67.2875896991047, 99.5470581410404, 67.73430058683434, 66.77811961600588, 81.62402000005456, 133.62894387364165, 50.65665781888489, 136.39114558859774, 95.93133693035685, 77.69852548137615, 93.26640223595962, 209.59185458460513, 61.282713696463254, 59.84069813924126, 86.93878120860212, 69.07612017567045, 83.6851928827323, 61.281555093683586, 52.52166998214223, 53.611882756934044, 51.218543091735974, 71.87943061067905, 22.67299487635906, 16.563883261173448, 182.23676451780625, 14.910590673423167, 10.85564859986358, 21.579579759502504, 21.517347522278754, 34.910827977164814, 14.193724345632303, 19.469033875440548, 9.730994243062513, 23.31447329990417, 33.370545509800095, 24.257546076762633, 12.613616706052081, 7.359240855387135, 37.73887818137766, 34.49084788362853, 8.86020284624699, 8.096920793583685, 18.74446178027729, 17.030934369980667, 11.288056825274465, 17.782397792242506, 12.015886039328388, 8.225728601984576, 14.082273083772355, 16.294394067259766, 19.07292914511908, 267.5674754526202, 192.1206439125219, 23.206616977450885, 25.434205459925185, 46.14622957333766, 32.76651835707345, 19.730806109133418, 63.891977909721355, 109.91959178067762, 60.077365624874, 131.3731156461934, 156.85701735311022, 133.85450094909442, 168.5908344544308, 119.3498067132982, 63.71718224851723, 67.87100703269105, 70.76003180497774, 99.57706608878766, 239.12656971729433, 268.9293724070325, 45.54753835671307, 75.16030276076033, 96.78824783582397, 56.75656960200478, 59.09798324773607, 59.86987056577219, 58.38909742086976, 105.65137201550898, 55.170677294853974, 44.40036500641954, 42.768911701003034, 11.925891691130198, 8.641575572815459, 11.713326575173665, 7.1706204062104755, 10.757886249289738, 12.55829940136999, 6.042365045391508, 10.759011197983186, 12.986082921363055, 4.955400888488463, 10.55412660294631, 13.096389443544018, 24.292416694989218, 7.210882301010425, 11.026232912075896, 6.576255941958556, 11.245345077920051, 11.20421816575355, 8.358222965631102, 16.990300865554914, 12.556862913854873, 7.904436843683438, 6.3460576340028405, 62.03061788319485, 6.728997555279084, 6.161376189512298, 6.735769973675999, 12.141513485859836, 8.216986982865905, 11.314025657663935, 35.76311891908447, 58.61703493319671, 10.992340518443012, 613.336208838887, 22.836433856891343, 855.1589373867132, 121.28021866335847, 117.61168143219994, 62.36124674329928, 64.49239197047352, 510.3341792728969, 30.84645300639917, 58.79079973542092, 70.29468037056078, 40.77962876294577, 78.32168548779846, 103.17334751011349, 120.83693585025568, 72.46449807638855, 56.23846159676068, 20.33473734796643, 21.24144599488497, 58.92839573268307, 68.88097969497117, 59.07338911983851, 68.0660244391303, 32.88533350218053, 29.506084213568766, 61.603724474120845, 43.22863449316851, 39.928739539917245, 40.57622137326393, 49.33904520407919, 57.11858812270073, 52.52557411559686, 47.527779327272, 40.412971243002715, 15.189619100644691, 75.72542652402242, 8.710189593904927, 67.02882983136779, 14.788163838667234, 20.941304591729907, 46.13176452569703, 22.13721015001173, 13.739866065323218, 90.9481382513212, 23.443011829860442, 25.441053761543433, 29.75286726065183, 31.195695436127423, 21.13035437409114, 12.124928886549048, 32.697865300111516, 14.539766824953444, 30.978347587224185, 14.654812248652263, 61.98382924373774, 13.446174777564163, 7.000269315507832, 7.179249597826367, 26.176602101634742, 7.771946836990864, 25.978341960060146, 52.98362142007098, 11.137085989562287, 6.523940854061525, 188.92566699703517, 31.1474431309687, 1250.815750354647, 22.9904995836298, 61.68763074284879, 92.85156568251126, 60.98684896831774, 29.058156747981386, 35.939856314775454, 74.9661899160325, 30.987352861207324, 82.28972066855322, 56.79124858539018, 49.34408284849203, 191.36042406937725, 51.11407185177685, 43.970095989742255, 67.00849867935499, 75.29555310054832, 58.67887521577931, 41.484222809477025, 43.672840653252486, 102.70691240209752, 56.83330029566022, 42.194978008087055, 40.947220991236755, 47.6698815810262, 52.64649825387089, 44.62188641323988, 47.51215071521979, 45.06257946831949, 11.98269346790377, 29.824364474418775, 37.46870402485399, 37.36748672051557, 19.737037543921936, 31.67712923074756, 18.67892690659836, 33.105416631668575, 24.403030859606414, 21.120832102956605, 30.507947527949696, 7.654700815238098, 14.499358601546163, 26.487182319574366, 8.999278638052512, 8.988269995498502, 8.959938131672303, 19.81847738894658, 29.711360938045598, 29.69595822475721, 53.1225170605, 50.11477150180749, 42.899959497395805, 11.07443214542554, 6.772767568308767, 11.765713794927942, 16.762916978870102, 11.773537541395733, 6.8040639345162885, 9.869381022071568, 31.391009429906404, 28.831902634203203, 300.407894362242, 71.44010687752699, 31.593609678946017, 122.65941985078871, 106.23421964576012, 859.2297137983901, 112.56089379132068, 38.55627288047055, 47.53770929078088, 46.341392015665654, 522.9686463591783, 32.05641989519386, 49.374826554174085, 72.48747665754969, 80.09009692195059, 56.08902553065869, 65.22956503074734, 55.391554452934415, 101.80054246019476, 46.43118013497351, 133.10382507308546, 43.38811268914623, 38.35007639511053, 62.91197660753891, 46.17174315612483, 43.45411853325841, 43.27171536578491, 48.58404105786361, 46.61395507303898, 48.04725953650321, 46.6854049637406, 43.00554234551724], \"logprob\": [30.0, 29.0, 28.0, 27.0, 26.0, 25.0, 24.0, 23.0, 22.0, 21.0, 20.0, 19.0, 18.0, 17.0, 16.0, 15.0, 14.0, 13.0, 12.0, 11.0, 10.0, 9.0, 8.0, 7.0, 6.0, 5.0, 4.0, 3.0, 2.0, 1.0, -5.176499843597412, -5.798099994659424, -5.160299777984619, -5.322500228881836, -5.322800159454346, -5.3231000900268555, -6.365200042724609, -5.438300132751465, -5.861800193786621, -5.482999801635742, -6.613500118255615, -6.287799835205078, -6.8078999519348145, -6.14300012588501, -6.182799816131592, -7.076700210571289, -5.533299922943115, -7.08050012588501, -6.441100120544434, -6.44379997253418, -6.577300071716309, -5.742599964141846, -6.620999813079834, -5.812600135803223, -6.618599891662598, -6.5346999168396, -6.324100017547607, -5.807000160217285, -5.782700061798096, -6.692500114440918, -5.823599815368652, -3.922300100326538, -3.3745999336242676, -4.990600109100342, -5.384500026702881, -5.716700077056885, -2.851099967956543, -4.844099998474121, -4.394700050354004, -4.201099872589111, -4.996600151062012, -4.604899883270264, -4.989999771118164, -5.004199981689453, -4.803400039672852, -4.310500144958496, -5.2804999351501465, -4.289999961853027, -4.641900062561035, -4.852700233459473, -4.670100212097168, -3.8603999614715576, -5.090099811553955, -5.113900184631348, -4.7403998374938965, -4.970399856567383, -4.778500080108643, -5.090099811553955, -5.24429988861084, -5.223800182342529, -5.269499778747559, -4.8007001876831055, -5.954599857330322, -6.268499851226807, -3.8703999519348145, -6.373700141906738, -6.690999984741211, -6.004000186920166, -6.006899833679199, -5.522900104522705, -6.422900199890137, -6.106900215148926, -6.8003997802734375, -5.926700115203857, -5.5680999755859375, -5.88700008392334, -6.540900230407715, -7.079800128936768, -5.445000171661377, -5.534999847412109, -6.894199848175049, -6.9842000007629395, -6.144800186157227, -6.240699768066406, -6.6519999504089355, -6.197500228881836, -6.5894999504089355, -6.968500137329102, -6.430799961090088, -6.284900188446045, -6.127500057220459, -3.4863998889923096, -3.8176000118255615, -5.931300163269043, -5.839600086212158, -5.243899822235107, -5.586299896240234, -6.093500137329102, -4.918499946594238, -4.375999927520752, -4.980100154876709, -4.197700023651123, -4.020400047302246, -4.178999900817871, -3.9482998847961426, -4.293700218200684, -4.921299934387207, -4.858099937438965, -4.816400051116943, -4.474800109863281, -3.5987000465393066, -3.481300115585327, -5.256999969482422, -4.756100177764893, -4.503200054168701, -5.0370001792907715, -4.996500015258789, -4.98360013961792, -5.008600234985352, -4.415599822998047, -5.065299987792969, -5.28249979019165, -5.319900035858154, -6.525100231170654, -6.8471999168396, -6.543099880218506, -7.03380012512207, -6.628200054168701, -6.473400115966797, -7.204999923706055, -6.6280999183654785, -6.439899921417236, -7.403299808502197, -6.647299766540527, -6.43149995803833, -5.813600063323975, -7.028200149536133, -6.603499889373779, -7.120299816131592, -6.583899974822998, -6.587500095367432, -6.8805999755859375, -6.171199798583984, -6.473499774932861, -6.936399936676025, -7.156000137329102, -4.876200199127197, -7.097400188446045, -7.185500144958496, -7.096399784088135, -6.507199764251709, -6.897600173950195, -6.5777997970581055, -5.4268999099731445, -4.932799816131592, -6.606599807739258, -2.58489990234375, -5.875500202178955, -2.252500057220459, -4.205699920654297, -4.236400127410889, -4.8709001541137695, -4.837299823760986, -2.768699884414673, -5.57480001449585, -4.929800033569336, -4.751100063323975, -5.295599937438965, -4.64300012588501, -4.367400169372559, -4.209400177001953, -4.720699787139893, -4.9741997718811035, -5.991499900817871, -5.94789981842041, -4.927499771118164, -4.771399974822998, -4.925000190734863, -4.783299922943115, -5.510799884796143, -5.619200229644775, -4.8831000328063965, -5.237299919128418, -5.316699981689453, -5.300600051879883, -5.105100154876709, -4.958700180053711, -5.042500019073486, -5.142499923706055, -5.304699897766113, -6.258500099182129, -4.6519999504089355, -6.814599990844727, -4.77400016784668, -6.285299777984619, -5.937399864196777, -5.147600173950195, -5.881800174713135, -6.358799934387207, -4.468800067901611, -5.82450008392334, -5.742700099945068, -5.58620023727417, -5.53879976272583, -5.928400039672852, -6.483799934387207, -5.491799831390381, -6.302199840545654, -5.54580020904541, -6.294300079345703, -4.852200031280518, -6.38040018081665, -7.033100128173828, -7.007900238037109, -5.714200019836426, -6.928599834442139, -5.721799850463867, -5.009099960327148, -6.56879997253418, -7.103600025177002, -3.7376999855041504, -5.54040002822876, -1.847499966621399, -5.843999862670898, -4.85699987411499, -4.4481000900268555, -4.8684000968933105, -5.609799861907959, -5.397200107574463, -4.662099838256836, -5.545499801635742, -4.56879997253418, -4.939700126647949, -5.0802998542785645, -3.724900007247925, -5.045000076293945, -5.1956000328063965, -4.7743000984191895, -4.657700061798096, -4.9070000648498535, -5.253799915313721, -5.202400207519531, -4.3471999168396, -4.939000129699707, -5.236800193786621, -5.2667999267578125, -5.114799976348877, -5.015500068664551, -5.1809000968933105, -5.118100166320801, -5.171000003814697, -6.491700172424316, -5.579899787902832, -5.3516998291015625, -5.354400157928467, -5.992700099945068, -5.519599914550781, -6.047800064086914, -5.475500106811523, -5.7804999351501465, -5.924900054931641, -5.557199954986572, -6.939899921417236, -6.30109977722168, -5.698500156402588, -6.77810001373291, -6.779300212860107, -6.782400131225586, -5.98859977722168, -5.583700180053711, -5.584199905395508, -5.002600193023682, -5.0609002113342285, -5.216300010681152, -6.5706000328063965, -7.062300205230713, -6.510000228881836, -6.156000137329102, -6.509399890899658, -7.057700157165527, -6.685800075531006, -5.52869987487793, -5.613699913024902, -3.2701001167297363, -4.706299781799316, -5.522299766540527, -4.165800094604492, -4.309599876403809, -2.2191998958587646, -4.251699924468994, -5.3231000900268555, -5.113699913024902, -5.139200210571289, -2.7156999111175537, -5.507699966430664, -5.075799942016602, -4.691800117492676, -4.592100143432617, -4.948299884796143, -4.797299861907959, -4.9608001708984375, -4.352200031280518, -5.137199878692627, -4.084099769592285, -5.204999923706055, -5.328499794006348, -4.833499908447266, -5.1427998542785645, -5.203499794006348, -5.207699775695801, -5.091899871826172, -5.133299827575684, -5.103000164031982, -5.131800174713135, -5.213900089263916], \"Term\": [\"exhibit\", \"motion\", \"order\", \"ex\", \"notice\", \"court\", \"attachment\", \"inc..\", \"memorandum_law_support\", \"notice_appearance_behalf\", \"case\", \"service_accept\", \"rjm\", \"'s\", \"han\", \"request\", \"b\", \"summary_judgment\", \"l.p.\", \"memorandum_law_opposition\", \"sign_judge_iii\", \"judge_c.d\", \"reply_memorandum_law_support\", \"cal\", \"shall\", \"party\", \"judge\", \"plaintiff\", \"defendant\", \"kw\", \"judge_c.d\", \"mp\", \"cal\", \"court_notice_intent\", \"request_redaction_transcript\", \"party_calendar_day\", \"copy_mail_chamber\", \"redact_transcript_deadline_set\", \"ama\", \"release_transcript_restriction_set\", \"tape\", \"r._civ\", \"sn\", \"mediation\", \"case_designate\", \"see_attached\", \"extension\", \"aim_exploration_inc.._basile\", \"pretrial_conference\", \"party_shall_submit\", \"enclose\", \"approve\", \"date_purs\", \"telephone_conference_hold\", \"set_answer_due\", \"kgo\", \"individual_rule\", \"pretrial\", \"status_report\", \"judge_individual_practice\", \"tp\", \"request\", \"'s\", \"deny\", \"must\", \"production\", \"order\", \"sign_magistrate_judge\", \"schedule\", \"judge\", \"minute_entry_proceeding_hold\", \"grant\", \"regard\", \"djc\", \"pennsylvania\", \"party\", \"copy\", \"defendant\", \"letter\", \"magistrate_judge\", \"date\", \"motion\", \"discovery\", \"judgment\", \"court\", \"counsel\", \"notice\", \"may\", \"conference\", \"shall\", \"complaint\", \"rjm\", \"rule_disclosure_statement\", \"rule_deposition_objection\", \"ex\", \"nm\", \"oral_argument_set_pm\", \"york_ny_magistrate_judge\", \"gr\", \"document_place_vault\", \"appearance\", \"status_conference_set_pm\", \"attempt\", \"jp\", \"judge_d._kan._gr\", \"courtroom_pearl_street_new\", \"anc\", \"line\", \"judge_d._kan._magistrate\", \"court_reportertranscriber\", \"conference_call\", \"reason_state\", \"haas\", \"district_judge\", \"inform\", \"state\", \"note_attorney\", \"affidavit_jr._c.p.a\", \"confer\", \"call\", \"civ\", \"court\", \"case\", \"associated_case_et_al\", \"record\", \"service\", \"p.m.\", \"courtroom\", \"seal\", \"counsel\", \"follow\", \"plaintiff\", \"party\", \"shall\", \"defendant\", \"date\", \"amend_complaint\", \"action\", \"may\", \"judge\", \"order\", \"motion\", \"clerk\", \"attachment\", \"'s\", \"grant\", \"schedule\", \"dismiss\", \"sign_judge\", \"exhibit\", \"letter\", \"djc\", \"propose\", \"gf\", \"associated_case_ft\", \"lb\", \"support_[_]\", \"associate_case_et_al\", \"transmission\", \"scileppi\", \"jpo\", \"text\", \"service_accept_legal_clerk\", \"bar\", \"cf\", \"fee_receipt_number\", \"dismissal_prejudice\", \"attachment_text_propose\", \"application_grant\", \"party_shall_comply\", \"discovery_ruling_conference\", \"propose_finding_fact_conclusion\", \"sc\", \"base\", \"reconsideration\", \"additional_attachment_add\", \"mro\", \"grant_part\", \"dismiss_lack_jurisdiction\", \"usca\", \"summons_issue\", \"mbe\", \"purs\", \"serve_answer_due\", \"due\", \"answer_crossclaim\", \"order\", \"[_]\", \"exhibit\", \"sign_judge\", \"dismiss\", \"l.p.\", \"plaintiff_'s\", \"motion\", \"p.c\", \"hereby\", \"memorandum_law_support\", \"response\", \"complaint\", \"shall\", \"defendant\", \"stipulation\", \"action\", \"respond\", \"law\", \"grant\", \"letter\", \"magistrate_judge\", \"plaintiff\", \"direct\", \"judge_date\", \"date\", \"conference\", \"declaration_support\", \"claim\", \"request\", \"'s\", \"notice\", \"party\", \"schedule\", \"notice_case_reassignment\", \"service_accept\", \"new_york_observer_l.p.\", \"han\", \"usca_case\", \"adar_bay\", \"kw\", \"dt\", \"langer\", \"notice_appearance_behalf\", \"wellington\", \"transcript_proceeding_conference_hold\", \"db\", \"dle\", \"ja\", \"modify_gf\", \"date_may_obtain\", \"merrill\", \"pacer\", \"magistrate_judge_designate\", \"sign_judge_iii\", \"return\", \"nonecf_case_error\", \"stock\", \"filing\", \"case_assign\", \"redaction_request_due\", \"pl\", \"pc\", \"genesys_id\", \"attachment\", \"inc.._attachment\", \"exhibit\", \"yv\", \"c\", \"b\", \"opposition\", \"associate_case\", \"number\", \"inc..\", \"rule\", \"judge\", \"conference\", \"l.p.\", \"motion\", \"declaration_support\", \"attorney\", \"plaintiff\", \"party\", \"magistrate_judge\", \"declaration\", \"regard\", \"order\", \"letter\", \"propose\", \"serve\", \"shall\", \"'s\", \"dismiss\", \"notice\", \"request\", \"jv\", \"dismiss.._document\", \"sign_judge_gr\", \"sac\", \"dismiss_pursuant_rule\", \"reiter\", \"summary_judgment_favor\", \"affidavit_service_summons_complaint\", \"redaction_calendar_day_mcguirk\", \"complaint_pursuant_frcp\", \"sign_judge_copy_mail\", \"kco\", \"b_rule_..\", \"answer_due_answer_due\", \"magnum_growth_fund_l.p.\", \"magnum_special_situation_fund\", \"absolute_return_fund_l.p.\", \"ltd..\", \"transcript_may_make_remotely\", \"electronically_available_public_without\", \"reply_memorandum_law_support\", \"rule_statement\", \"motion_dismiss_thirdparty\", \"civil_cover_sheet\", \"rj\", \"g.c\", \"worcester\", \"cyr\", \"dismiss_subrogation_claim_assert\", \"support_paper_review\", \"date_november\", \"answer_due\", \"notice\", \"memorandum_law_opposition\", \"jmi\", \"inc..\", \"memorandum_law_support\", \"motion\", \"summary_judgment\", \"appear_pro_hac_vice\", \"affidavit_service\", \"cd\", \"exhibit\", \"dismiss_second_amend\", \"support\", \"pennsylvania\", \"stipulation\", \"modify\", \"b\", \"declaration_support\", \"'s\", \"declaration_opposition\", \"order\", \"reply\", \"dismissal\", \"date\", \"discovery\", \"defendant_'\", \"sign_magistrate_judge\", \"sign_judge\", \"complaint\", \"dismiss\", \"letter\", \"judgment\"]}, \"token.table\": {\"Freq\": [0.5253826402498751, 0.1494490208335422, 0.08782055863414334, 0.08165771241420346, 0.15715257860846704, 0.11228094381746186, 0.1571933213444466, 0.5164923415603245, 0.11228094381746186, 0.11228094381746186, 0.08831292464824214, 0.08831292464824214, 0.7948163218341793, 0.19313795092071162, 0.37523944750309685, 0.3090207214731386, 0.07725518036828465, 0.044145817353305514, 0.8575771288163486, 0.12251101840233551, 0.5895060109941699, 0.09825100183236164, 0.19650200366472328, 0.6589881498986185, 0.16474703747465463, 0.16474703747465463, 0.089159100421215, 0.089159100421215, 0.17831820084243, 0.11144887552651875, 0.53495460252729, 0.025455294225450273, 0.07636588267635082, 0.050910588450900546, 0.840024709439859, 0.7552134022085547, 0.09440167527606934, 0.09440167527606934, 0.8333140928915279, 0.029761217603268855, 0.029761217603268855, 0.08928365280980656, 0.08340793786389081, 0.4106236940991548, 0.1924798566089788, 0.19889585182927808, 0.11548791396538727, 0.18092435237856133, 0.7840055269737658, 0.10102386707254393, 0.5556312688989916, 0.050511933536271966, 0.25255966768135985, 0.18010539235419284, 0.09005269617709642, 0.09005269617709642, 0.652882047283949, 0.030368002709370845, 0.030368002709370845, 0.12147201083748338, 0.789568070443642, 0.029164072926491192, 0.16040240109570156, 0.10207425524271917, 0.13123832816921036, 0.5686994220665782, 0.11701155563035215, 0.819080889412465, 0.6906367894733008, 0.29598719548855745, 0.772924516609042, 0.09661556457613026, 0.0724616734320977, 0.04830778228806513, 0.11346810066217301, 0.13237945077253518, 0.11346810066217301, 0.5484291532005029, 0.07564540044144867, 0.8128669059011592, 0.14779398289111986, 0.1122186021654296, 0.6452569624512202, 0.1122186021654296, 0.1122186021654296, 0.9145930892229591, 0.031140702237932222, 0.23355526678449168, 0.062281404475864444, 0.5885592722969191, 0.084079896042417, 0.060868005579316695, 0.18260401673795007, 0.6695480613724836, 0.060868005579316695, 0.08125489925448412, 0.8125489925448413, 0.08125489925448412, 0.18134773501534968, 0.197117103277554, 0.0394234206555108, 0.34692610176849503, 0.22865583980196263, 0.03200555699819689, 0.18288889713255366, 0.059438891568079945, 0.4252166858331873, 0.2971944578403997, 0.05551948800120188, 0.11103897600240376, 0.7772728320168263, 0.13345756102068906, 0.7340165856137899, 0.13345756102068906, 0.2510125489602004, 0.050202509792040086, 0.6526326272965212, 0.050202509792040086, 0.016029457823237135, 0.1923534938788456, 0.08816201802780424, 0.49691319252035115, 0.20036822279046418, 0.9010379442555387, 0.015807683232553313, 0.07903841616276656, 0.6573428039261583, 0.04108392524538489, 0.24650355147230937, 0.04108392524538489, 0.13897956563303523, 0.6064562863986992, 0.06948978281651762, 0.1137105536997561, 0.07264840930817751, 0.17617624084882463, 0.7047049633952985, 0.08808812042441232, 0.8373049655439782, 0.1594866601036149, 0.045494583179182334, 0.022747291589591167, 0.022747291589591167, 0.3753303112282543, 0.5231877065605969, 0.10749834113745739, 0.10749834113745739, 0.698739217393473, 0.053749170568728695, 0.06913958959413813, 0.6568261011443122, 0.034569794797069064, 0.1728489739853453, 0.034569794797069064, 0.06365977833327974, 0.12731955666655947, 0.06365977833327974, 0.7002575616660771, 0.23980990488064124, 0.22811186074012216, 0.23980990488064124, 0.09358435312415268, 0.20471577245908398, 0.21564833762551341, 0.38153167426052376, 0.14100083613975878, 0.12441250247625774, 0.13270666930800826, 0.21151522442384812, 0.14101014961589875, 0.3234938726482383, 0.1285680775909665, 0.1949257950572718, 0.11665154227125225, 0.03888384742375075, 0.8165607958987657, 0.19076479210904176, 0.6676767723816461, 0.04769119802726044, 0.04769119802726044, 0.04769119802726044, 0.27438462919991014, 0.10354136950940006, 0.22261394444521013, 0.29509290310179015, 0.10354136950940006, 0.7338647649120987, 0.08154052943467764, 0.08154052943467764, 0.08154052943467764, 0.5095573997711947, 0.15986114502625717, 0.1898351097186804, 0.06993925094898751, 0.06993925094898751, 0.8679636265880895, 0.10211336783389288, 0.27842831160478015, 0.44387122139892493, 0.05245750798350931, 0.14930213810691112, 0.07666866551435976, 0.2008006517626014, 0.6185583295675537, 0.0669335505875338, 0.05308522977631991, 0.06000939018192685, 0.906656628679402, 0.055509589510983795, 0.03700639300732253, 0.21201514390002266, 0.720851489260077, 0.04240302878000453, 0.03200140681985688, 0.6400281363971375, 0.22400984773899815, 0.06400281363971376, 0.09600422045957063, 0.12568341453720372, 0.7541004872232224, 0.06284170726860186, 0.06284170726860186, 0.1704012127587126, 0.11360080850580839, 0.6816048510348504, 0.25821832626454416, 0.33040839597291133, 0.17214555084302943, 0.06386044628047867, 0.17492209198565895, 0.07031943780754542, 0.7735138158829995, 0.14063887561509084, 0.1247052729210779, 0.06235263646053895, 0.16627369722810387, 0.6443105767589025, 0.742483419776734, 0.05711410921359492, 0.05711410921359492, 0.11422821842718985, 0.02673940396633321, 0.10695761586533284, 0.02673940396633321, 0.8021821189899964, 0.05347880793266642, 0.13992949527566242, 0.08745593454728902, 0.17491186909457804, 0.35856933164388494, 0.22738542982295143, 0.05835500026328832, 0.16672857218082376, 0.19173785800794735, 0.20007428661698853, 0.3834757160158947, 0.08492305047335354, 0.030329660883340548, 0.24263728706672438, 0.3093625410100736, 0.333626269716746, 0.2721467146608946, 0.33818231454184694, 0.24213053289682532, 0.07003775744949493, 0.07804207258658007, 0.24291918324580025, 0.1110487694837944, 0.1110487694837944, 0.23597863515306308, 0.29844356798769744, 0.5893921322022652, 0.13001297033873496, 0.10401037627098797, 0.03467012542366266, 0.1473480330505663, 0.3316272688502503, 0.18186011517594372, 0.3530225765180084, 0.11767419217266946, 0.032092961501637124, 0.3457596567782168, 0.13603658627339676, 0.12470020408394704, 0.1303683951786719, 0.2607367903573438, 0.11516785070303434, 0.11516785070303434, 0.6334231788666889, 0.11516785070303434, 0.12616526915683302, 0.1941004140874354, 0.3817308143719563, 0.14557531056557654, 0.1552803312699483, 0.06090995166708587, 0.9136492750062881, 0.5714950203636125, 0.3809966802424084, 0.04302670921460014, 0.08605341842920028, 0.8605341842920027, 0.27253262417301294, 0.03633768322306839, 0.03633768322306839, 0.07267536644613679, 0.5814029315690943, 0.09739664508805933, 0.09739664508805933, 0.09739664508805933, 0.6817765156164153, 0.050697275127851445, 0.038022956345888585, 0.3041836507671087, 0.11406886903766575, 0.48162411371458874, 0.09430326585161566, 0.6601228609613097, 0.09430326585161566, 0.09430326585161566, 0.08258245628577975, 0.7019508784291278, 0.1651649125715595, 0.04129122814288987, 0.46377895729529567, 0.3045712555372091, 0.07614281388430227, 0.0553765919158562, 0.09690903585274835, 0.05070652775868709, 0.10141305551737417, 0.05070652775868709, 0.7859511802596498, 0.025353263879343543, 0.8586800456949397, 0.09813486236513597, 0.02453371559128399, 0.038488065174585785, 0.07697613034917157, 0.8467374338408873, 0.0663184891130395, 0.016579622278259876, 0.4890988572086663, 0.265273956452158, 0.17408603392172867, 0.19836987571006634, 0.049592468927516585, 0.7438870339127488, 0.7802934065354478, 0.05573524332396055, 0.05573524332396055, 0.1114704866479211, 0.05573524332396055, 0.03097783846831104, 0.9396611002054348, 0.00516297307805184, 0.01548891923415552, 0.00516297307805184, 0.009777200403677152, 0.03838456454776956, 0.30961134611644314, 0.45301028537037474, 0.18938799300456113, 0.7849139247497433, 0.08050399228202496, 0.10062999035253119, 0.04025199614101248, 0.028758941101017323, 0.6902145864244158, 0.23007152880813858, 0.028758941101017323, 0.13268928784054954, 0.10615143027243963, 0.6899842967708576, 0.053075715136219816, 0.14215155673257648, 0.5017113767032111, 0.15051341301096333, 0.13378970045418964, 0.07525670650548166, 0.0587465028685973, 0.17623950860579188, 0.7049580344231675, 0.2931508992642407, 0.09771696642141356, 0.6840187649498949, 0.9126275387130003, 0.08189323465541214, 0.9008255812095335, 0.4120330081483669, 0.23485881464456915, 0.2430994748075365, 0.020601650407418345, 0.09064726179264072, 0.08825204823545978, 0.17650409647091955, 0.6177643376482185, 0.17650409647091955, 0.7201950198049885, 0.2274300062542069, 0.03790500104236781, 0.01283000352400515, 0.03849001057201545, 0.0256600070480103, 0.859610236108345, 0.06415001762002574, 0.27608288309253654, 0.07407101741507077, 0.39729000249901597, 0.09427220398281735, 0.1616094925419726, 0.017926327539429653, 0.022407909424287067, 0.07170531015771861, 0.336118641364306, 0.5512345718374618, 0.09747119693363797, 0.03898847877345519, 0.07797695754691038, 0.6043214209885555, 0.15595391509382076, 0.7152272060445439, 0.15893937912100978, 0.039734844780252444, 0.039734844780252444, 0.12371022112064192, 0.6804062161635306, 0.06185511056032096, 0.06185511056032096, 0.06185511056032096, 0.14956804363678225, 0.03739201090919556, 0.7852322290931069, 0.07964872627082678, 0.09956090783853347, 0.19912181567706694, 0.6371898101666142, 0.7660584189534115, 0.03330688778058311, 0.06661377556116622, 0.09992066334174933, 0.1378458785029375, 0.7581523317661563, 0.06892293925146875, 0.40059990657984595, 0.2688589977045946, 0.05377179954091892, 0.2204643781177676, 0.05646038951796487, 0.9508477068372706, 0.016979423336379834, 0.016979423336379834, 0.16140676027326825, 0.7609175841454074, 0.046116217220933786, 0.13833726969725915, 0.7509737497851211, 0.09881233549804225, 0.2289295820033739, 0.16868495516038076, 0.3614677610579588, 0.192782805897578, 0.0481957014743945, 0.681737461915825, 0.2840572757982604, 0.35192395017332484, 0.16423117674755158, 0.08798098754333121, 0.14663497923888535, 0.2522121642908828, 0.9172540725682449, 0.10533521956776629, 0.8426817565421303, 0.7050376387132441, 0.05035983133666029, 0.20143932534664116, 0.05546166658562574, 0.05546166658562574, 0.03697444439041716, 0.8504122209795947, 0.026662971574304892, 0.41327605940172585, 0.32662140178523497, 0.2266352583815916, 0.06186567872140245, 0.06186567872140245, 0.8661195020996344, 0.20687322595843372, 0.13791548397228914, 0.482704193903012, 0.0919436559815261, 0.06895774198614457, 0.06912808553912803, 0.8295370264695363, 0.06912808553912803, 0.2967526916967082, 0.17001456295123907, 0.21329099715700903, 0.1761969106949205, 0.1452851719765134, 0.7191928277554673, 0.10274183253649533, 0.10274183253649533, 0.07479981606026838, 0.14959963212053676, 0.7479981606026838, 0.3132398592369138, 0.13654045146224444, 0.23693784224330655, 0.23693784224330655, 0.0763020169936072, 0.049698178001383375, 0.7454726700207507, 0.1987927120055335, 0.08836706672473837, 0.08836706672473837, 0.7953036005226454, 0.08834434198215217, 0.08834434198215217, 0.7950990778393696, 0.3151653230329357, 0.36683176943177764, 0.12399947135722061, 0.16016598383640995, 0.030999867839305154, 0.5534410538571684, 0.1383602634642921, 0.2767205269285842, 0.8070122577288402, 0.07685831025988954, 0.07685831025988954, 0.04187496581929915, 0.02512497949157949, 0.24287480175193507, 0.09212492480245812, 0.5946245146340479, 0.07189782986244775, 0.0051355592758891245, 0.35948914931223874, 0.020542237103556498, 0.5443692832442473, 0.1563365505019238, 0.052112183500641264, 0.7816827525096189, 0.4811942164556194, 0.251370113073831, 0.06463802907612798, 0.10773004846021329, 0.10054804522953241, 0.18372568909213846, 0.2653815509108667, 0.0816558618187282, 0.08846051697028888, 0.38106068848739827, 0.0646885798453066, 0.7762629581436792, 0.1293771596906132, 0.102969162674724, 0.13189859409286075, 0.2500679664957583, 0.09365290509939184, 0.4211929082742282, 0.10031437185126031, 0.016719061975210052, 0.13375249580168042, 0.033438123950420104, 0.7189196649340321, 0.9146959736171305, 0.06097973157447537, 0.21054417352169869, 0.02005182604968559, 0.6216066075402532, 0.04010365209937118, 0.11028504327327074, 0.6210975038113178, 0.22953603401722614, 0.0540084785922885, 0.0540084785922885, 0.0540084785922885, 0.93926269274869, 0.9378233111980515, 0.10134438464907715, 0.10134438464907715, 0.7094106925435401, 0.05689342862548983, 0.682721143505878, 0.11378685725097966, 0.11378685725097966, 0.16667834068246662, 0.0396853192101111, 0.10516609590679442, 0.09524476610426665, 0.5952797881516665, 0.07401665432206604, 0.07401665432206604, 0.8419394429135013, 0.009252081790258255, 0.9302592212244067, 0.12449190242794801, 0.22131893764968535, 0.05532973441242134, 0.49796760971179205, 0.11065946882484268, 0.1410049241763388, 0.06679180618879206, 0.11874098878007479, 0.4527000197240351, 0.2226393539626402, 0.9372567194360466, 0.3456988471128088, 0.1436904773216718, 0.36854503179156833, 0.06192518478716401, 0.07996164637565838, 0.1376643953334258, 0.015296043925936201, 0.47417736170402225, 0.22944065888904303, 0.152960439259362, 0.24639413405423574, 0.5807861731278414, 0.05279874301162195, 0.03519916200774796, 0.08799790501936991, 0.07324459450178776, 0.7568608098518069, 0.14648918900357552, 0.31085792085857783, 0.3642141311551994, 0.11135209105381894, 0.17398764227159208, 0.0417570341451821, 0.9067754402172528, 0.05551686368677058, 0.03701124245784705, 0.11532196593703332, 0.11532196593703332, 0.6342708126536832, 0.11532196593703332, 0.7825164265740744, 0.0978145533217593, 0.0978145533217593, 0.04890727666087965, 0.28880096722232884, 0.6353621278891234, 0.057760193444465764, 0.405243391574306, 0.029651955481046783, 0.1087238367638382, 0.10378184418366374, 0.35582346577256135, 0.02539613030698303, 0.1777729121488812, 0.05079226061396606, 0.6729974531350503, 0.07618839092094909, 0.12437275434623016, 0.40732077048390375, 0.21143368238859125, 0.20832436352993552, 0.046639782879836306, 0.21198664849263796, 0.218221549918892, 0.3990336912802597, 0.1309329299513352, 0.031174507131270287, 0.7085594886895091, 0.09447459849193454, 0.09447459849193454, 0.023618649622983635, 0.04723729924596727, 0.7938409752048885, 0.09923012190061106, 0.04961506095030553, 0.04961506095030553, 0.6474907024545051, 0.13734651264186473, 0.19620930377409246, 0.019620930377409248, 0.2553490415819105, 0.2678050923907842, 0.09964840647098948, 0.26157706698634736, 0.11210445727986315, 0.3047334148677081, 0.6094668297354162, 0.04915212966232155, 0.04915212966232155, 0.540673426285537, 0.24576064831160774, 0.0983042593246431, 0.8536882313795963, 0.13479287863888362, 0.08832537478602007, 0.7066029982881605, 0.17665074957204013, 0.2367568612643693, 0.6313516300383181, 0.07891895375478976, 0.1246642538025137, 0.6233212690125685, 0.04986570152100547, 0.024932850760502737, 0.14959710456301642, 0.8498686028519177, 0.11858631667701176, 0.13713848488062008, 0.8228309092837204, 0.026277453493272377, 0.2364970814394514, 0.6832137908250817, 0.052554906986544754, 0.461196640011491, 0.07460533882538825, 0.040693821177484504, 0.298421355301553, 0.12886376706203426, 0.05334277692103236, 0.08001416538154854, 0.8534844307365178, 0.8303757602054926, 0.10126533661042593, 0.04050613464417037, 0.11218110338698686, 0.12152952866923578, 0.1682716550804803, 0.19631693092722702, 0.4019822871367029, 0.013620414384795887, 0.013620414384795887, 0.2179266301567342, 0.027240828769591774, 0.721881962394182, 0.5792196265914181, 0.10878744255777904, 0.14406985636030198, 0.132309051759461, 0.032342212652312685, 0.9066489783988967, 0.055509121126463064, 0.037006080750975376, 0.3460393504571318, 0.0247170964612237, 0.49434192922447395, 0.07415128938367109, 0.0494341929224474, 0.11190316916026197, 0.11190316916026197, 0.417093630506431, 0.07121110764743943, 0.2848444305897577, 0.15856482117760967, 0.6871142251029753, 0.10570988078507311, 0.10243598178360454, 0.10243598178360454, 0.10243598178360454, 0.7170518724852317, 0.013509975138992388, 0.9727182100074518, 0.013509975138992388, 0.19618649935609994, 0.16600396099362302, 0.030182538362476915, 0.46782934461839215, 0.1358214226311461, 0.9701726260433493, 0.9614395338533135, 0.04298809312611166, 0.10030555062759387, 0.14329364375370554, 0.7164682187685276, 0.02296162974765167, 0.09184651899060668, 0.8495803006631117, 0.26210665395211624, 0.6365447310265681, 0.07488761541489036, 0.45647009599614974, 0.21895720051847833, 0.14844555967354464, 0.0705116408449337, 0.10391189177148125, 0.7501697547220704, 0.12502829245367839, 0.08613389082065252, 0.5011426375019783, 0.0783035371096841, 0.1409463667974314, 0.19575884277421027, 0.7770879452306326, 0.09713599315382908, 0.34446217807119145, 0.056238722950398605, 0.09841776516319757, 0.2882234551207929, 0.21792505143279461, 0.01510897910474917, 0.01510897910474917, 0.5439232477709701, 0.4230514149329767, 0.01510897910474917, 0.17017107078137164, 0.5591335182816497, 0.14586091781260427, 0.06077538242191844, 0.048620305937534754, 0.02484666253346056, 0.02484666253346056, 0.9441731762715012, 0.7413833263992344, 0.14827666527984687, 0.7134554225257624, 0.054881186348135574, 0.054881186348135574, 0.10976237269627115, 0.1518378826373166, 0.37678289395185965, 0.28961670206747425, 0.13496700678872586, 0.047800814904340405, 0.11868562466402476, 0.19121572862537323, 0.39891557178741655, 0.12857609338602682, 0.16154432245936703, 0.08038834552672838, 0.05359223035115226, 0.02679611517557613, 0.83067957044286, 0.02399146128773311, 0.04798292257546622, 0.02399146128773311, 0.02399146128773311, 0.8876840676461252, 0.12808236316018448, 0.023287702392760817, 0.7219187741755854, 0.11643851196380409, 0.5102719899611103, 0.14392286896339007, 0.013083897178490008, 0.04579364012471503, 0.28130378933753514, 0.8258769718455604, 0.07507972471323276, 0.07507972471323276, 0.07844851406570104, 0.7060366265913094, 0.1961212851642526, 0.040983839891627016, 0.7786929579409133, 0.08196767978325403, 0.040983839891627016, 0.7099313439365325, 0.11450505547363427, 0.0916040443789074, 0.02290101109472685, 0.06870303328418055, 0.20513956700479646, 0.10256978350239823, 0.2954009764869069, 0.06564466144153487, 0.32822330720767434, 0.09694501597572167, 0.6786151118300516, 0.09694501597572167, 0.19750504674181588, 0.12860793741327545, 0.10564223430376199, 0.05052454684092964, 0.5190248902750045, 0.09027320433755016, 0.04513660216877508, 0.04513660216877508, 0.8575954412067266, 0.14189674051515194, 0.5675869620606078, 0.23649456752525325, 0.0916846010365058, 0.1833692020730116, 0.0458423005182529, 0.22004304248761392, 0.44925454507887846, 0.7825582466292151, 0.11179403523274502, 0.2665034465265709, 0.6662586163164271, 0.8094703077031142, 0.1245338934927868, 0.7484977340818575, 0.2494992446939525, 0.05709512334333083, 0.17128537002999247, 0.7422366034633008, 0.6542144764406868, 0.1127955993863253, 0.045118239754530116, 0.022559119877265058, 0.13535471926359036, 0.19833444681365145, 0.04958361170341286, 0.7437541755511929, 0.1267330988549239, 0.7920818678432744, 0.06336654942746195, 0.18442319455781736, 0.7991671764172086, 0.5979649964465871, 0.34169428368376403, 0.05792613059172527, 0.8688919588758791, 0.05792613059172527, 0.8020717198606443, 0.1394907338888077, 0.2029896672072921, 0.08119586688291686, 0.6901648685047932, 0.936119805617348, 0.042550900255334, 0.18800604632528983, 0.0537160132357971, 0.13429003308949275, 0.6177341522116666], \"Topic\": [1, 2, 3, 4, 5, 1, 2, 3, 4, 5, 1, 4, 5, 1, 2, 3, 4, 5, 4, 5, 3, 4, 5, 2, 3, 5, 1, 2, 3, 4, 5, 1, 2, 4, 5, 1, 3, 4, 1, 2, 3, 5, 1, 2, 3, 4, 5, 1, 2, 1, 3, 4, 5, 1, 2, 3, 5, 1, 3, 4, 5, 1, 2, 3, 4, 5, 1, 2, 3, 4, 1, 2, 3, 5, 1, 2, 3, 4, 5, 3, 4, 1, 2, 3, 5, 3, 1, 2, 3, 4, 5, 1, 2, 3, 4, 1, 2, 5, 1, 2, 3, 4, 5, 1, 2, 3, 4, 5, 3, 4, 5, 2, 3, 4, 1, 2, 3, 5, 1, 2, 3, 4, 5, 1, 2, 4, 2, 3, 4, 5, 1, 2, 3, 4, 5, 1, 4, 5, 1, 2, 1, 2, 3, 4, 5, 1, 2, 3, 5, 1, 2, 3, 4, 5, 2, 3, 4, 5, 1, 2, 3, 4, 5, 1, 2, 3, 4, 5, 1, 2, 3, 4, 5, 3, 4, 5, 1, 2, 3, 4, 5, 1, 2, 3, 4, 5, 2, 3, 4, 5, 1, 2, 3, 4, 5, 1, 4, 1, 2, 3, 4, 5, 1, 2, 3, 4, 5, 1, 4, 5, 1, 2, 4, 1, 2, 3, 4, 5, 1, 2, 3, 5, 3, 4, 5, 1, 2, 3, 4, 5, 1, 4, 5, 1, 2, 3, 5, 1, 3, 4, 5, 1, 2, 3, 4, 5, 1, 2, 3, 4, 5, 1, 2, 3, 4, 5, 1, 2, 3, 4, 5, 1, 2, 3, 4, 5, 1, 2, 3, 4, 5, 1, 2, 3, 4, 5, 1, 2, 3, 4, 5, 1, 2, 3, 4, 5, 1, 2, 3, 4, 1, 2, 3, 4, 5, 3, 5, 3, 4, 3, 4, 5, 1, 2, 3, 4, 5, 2, 3, 4, 5, 1, 2, 3, 4, 5, 2, 3, 4, 5, 1, 2, 3, 4, 1, 2, 3, 4, 5, 1, 2, 3, 4, 5, 2, 4, 5, 1, 2, 4, 1, 2, 3, 4, 5, 1, 3, 5, 1, 2, 3, 4, 5, 1, 2, 3, 4, 5, 1, 2, 3, 4, 5, 1, 2, 3, 5, 1, 3, 4, 5, 2, 3, 4, 5, 1, 2, 3, 4, 5, 1, 3, 5, 2, 3, 4, 3, 1, 2, 1, 2, 3, 4, 5, 1, 2, 3, 5, 2, 4, 5, 1, 2, 3, 4, 5, 1, 2, 3, 4, 5, 1, 2, 3, 4, 5, 1, 2, 3, 4, 5, 1, 2, 3, 5, 1, 2, 3, 4, 5, 1, 3, 4, 1, 3, 4, 5, 2, 3, 4, 5, 1, 3, 4, 1, 2, 3, 4, 5, 1, 2, 4, 1, 2, 3, 1, 2, 3, 1, 2, 3, 4, 5, 1, 2, 1, 2, 3, 4, 5, 5, 2, 5, 1, 3, 5, 1, 2, 3, 4, 1, 3, 4, 5, 2, 3, 4, 1, 2, 3, 4, 5, 2, 3, 5, 1, 2, 3, 4, 5, 2, 4, 5, 2, 3, 5, 1, 2, 3, 4, 5, 2, 4, 5, 1, 4, 5, 1, 4, 5, 1, 2, 3, 4, 5, 3, 4, 5, 1, 3, 4, 1, 2, 3, 4, 5, 1, 2, 3, 4, 5, 1, 3, 4, 1, 2, 3, 4, 5, 1, 2, 3, 4, 5, 1, 4, 5, 1, 2, 3, 4, 5, 1, 2, 3, 4, 5, 1, 5, 1, 2, 3, 4, 5, 1, 2, 3, 4, 5, 4, 2, 2, 3, 4, 1, 2, 3, 5, 1, 2, 3, 4, 5, 1, 2, 4, 5, 4, 1, 2, 3, 4, 5, 1, 2, 3, 4, 5, 2, 1, 2, 3, 4, 5, 1, 2, 3, 4, 5, 1, 2, 3, 4, 5, 1, 4, 5, 1, 2, 3, 4, 5, 1, 4, 5, 1, 2, 3, 4, 1, 2, 3, 5, 2, 4, 5, 1, 2, 3, 4, 5, 1, 2, 3, 4, 5, 1, 2, 3, 4, 5, 1, 2, 3, 4, 5, 1, 2, 3, 4, 5, 1, 2, 4, 5, 1, 2, 4, 5, 1, 2, 3, 4, 5, 1, 3, 1, 2, 3, 4, 5, 1, 2, 1, 2, 3, 2, 3, 5, 1, 2, 3, 4, 5, 1, 2, 1, 5, 1, 3, 4, 5, 1, 2, 3, 4, 5, 1, 2, 5, 1, 2, 3, 1, 2, 3, 4, 5, 1, 2, 3, 4, 5, 1, 2, 3, 4, 5, 1, 4, 5, 1, 2, 3, 4, 5, 1, 2, 3, 4, 5, 2, 4, 5, 1, 3, 4, 5, 1, 2, 3, 1, 2, 3, 4, 5, 2, 2, 1, 3, 4, 5, 1, 3, 5, 2, 3, 4, 1, 2, 3, 4, 5, 3, 4, 1, 2, 3, 4, 5, 1, 3, 1, 2, 3, 4, 5, 1, 2, 3, 4, 5, 1, 2, 3, 4, 5, 1, 2, 4, 3, 5, 1, 3, 4, 5, 1, 2, 3, 4, 5, 1, 2, 3, 4, 5, 1, 3, 4, 5, 1, 2, 3, 4, 5, 2, 3, 4, 5, 1, 2, 3, 4, 5, 1, 3, 4, 1, 2, 3, 1, 2, 4, 5, 1, 2, 3, 4, 5, 1, 2, 3, 4, 5, 1, 4, 5, 1, 2, 3, 4, 5, 2, 3, 4, 5, 2, 3, 5, 1, 2, 3, 4, 5, 3, 4, 3, 5, 1, 2, 1, 3, 1, 2, 3, 1, 2, 3, 4, 5, 1, 3, 5, 1, 4, 5, 2, 3, 3, 4, 2, 4, 5, 4, 5, 2, 4, 5, 2, 3, 1, 2, 3, 4], \"Term\": [\"'s\", \"'s\", \"'s\", \"'s\", \"'s\", \"[_]\", \"[_]\", \"[_]\", \"[_]\", \"[_]\", \"absolute_return_fund_l.p.\", \"absolute_return_fund_l.p.\", \"absolute_return_fund_l.p.\", \"action\", \"action\", \"action\", \"action\", \"action\", \"adar_bay\", \"adar_bay\", \"additional_attachment_add\", \"additional_attachment_add\", \"additional_attachment_add\", \"affidavit_jr._c.p.a\", \"affidavit_jr._c.p.a\", \"affidavit_jr._c.p.a\", \"affidavit_service\", \"affidavit_service\", \"affidavit_service\", \"affidavit_service\", \"affidavit_service\", \"affidavit_service_summons_complaint\", \"affidavit_service_summons_complaint\", \"affidavit_service_summons_complaint\", \"affidavit_service_summons_complaint\", \"aim_exploration_inc.._basile\", \"aim_exploration_inc.._basile\", \"aim_exploration_inc.._basile\", \"ama\", \"ama\", \"ama\", \"ama\", \"amend_complaint\", \"amend_complaint\", \"amend_complaint\", \"amend_complaint\", \"amend_complaint\", \"anc\", \"anc\", \"answer_crossclaim\", \"answer_crossclaim\", \"answer_crossclaim\", \"answer_crossclaim\", \"answer_due\", \"answer_due\", \"answer_due\", \"answer_due\", \"answer_due_answer_due\", \"answer_due_answer_due\", \"answer_due_answer_due\", \"answer_due_answer_due\", \"appear_pro_hac_vice\", \"appear_pro_hac_vice\", \"appear_pro_hac_vice\", \"appear_pro_hac_vice\", \"appear_pro_hac_vice\", \"appearance\", \"appearance\", \"application_grant\", \"application_grant\", \"approve\", \"approve\", \"approve\", \"approve\", \"associate_case\", \"associate_case\", \"associate_case\", \"associate_case\", \"associate_case\", \"associate_case_et_al\", \"associate_case_et_al\", \"associated_case_et_al\", \"associated_case_et_al\", \"associated_case_et_al\", \"associated_case_et_al\", \"associated_case_ft\", \"attachment\", \"attachment\", \"attachment\", \"attachment\", \"attachment\", \"attachment_text_propose\", \"attachment_text_propose\", \"attachment_text_propose\", \"attachment_text_propose\", \"attempt\", \"attempt\", \"attempt\", \"attorney\", \"attorney\", \"attorney\", \"attorney\", \"attorney\", \"b\", \"b\", \"b\", \"b\", \"b\", \"b_rule_..\", \"b_rule_..\", \"b_rule_..\", \"bar\", \"bar\", \"bar\", \"base\", \"base\", \"base\", \"base\", \"c\", \"c\", \"c\", \"c\", \"c\", \"cal\", \"cal\", \"cal\", \"call\", \"call\", \"call\", \"call\", \"case\", \"case\", \"case\", \"case\", \"case\", \"case_assign\", \"case_assign\", \"case_assign\", \"case_designate\", \"case_designate\", \"cd\", \"cd\", \"cd\", \"cd\", \"cd\", \"cf\", \"cf\", \"cf\", \"cf\", \"civ\", \"civ\", \"civ\", \"civ\", \"civ\", \"civil_cover_sheet\", \"civil_cover_sheet\", \"civil_cover_sheet\", \"civil_cover_sheet\", \"claim\", \"claim\", \"claim\", \"claim\", \"claim\", \"clerk\", \"clerk\", \"clerk\", \"clerk\", \"clerk\", \"complaint\", \"complaint\", \"complaint\", \"complaint\", \"complaint\", \"complaint_pursuant_frcp\", \"complaint_pursuant_frcp\", \"complaint_pursuant_frcp\", \"confer\", \"confer\", \"confer\", \"confer\", \"confer\", \"conference\", \"conference\", \"conference\", \"conference\", \"conference\", \"conference_call\", \"conference_call\", \"conference_call\", \"conference_call\", \"copy\", \"copy\", \"copy\", \"copy\", \"copy\", \"copy_mail_chamber\", \"copy_mail_chamber\", \"counsel\", \"counsel\", \"counsel\", \"counsel\", \"counsel\", \"court\", \"court\", \"court\", \"court\", \"court\", \"court_notice_intent\", \"court_notice_intent\", \"court_notice_intent\", \"court_reportertranscriber\", \"court_reportertranscriber\", \"court_reportertranscriber\", \"courtroom\", \"courtroom\", \"courtroom\", \"courtroom\", \"courtroom\", \"courtroom_pearl_street_new\", \"courtroom_pearl_street_new\", \"courtroom_pearl_street_new\", \"courtroom_pearl_street_new\", \"cyr\", \"cyr\", \"cyr\", \"date\", \"date\", \"date\", \"date\", \"date\", \"date_may_obtain\", \"date_may_obtain\", \"date_may_obtain\", \"date_november\", \"date_november\", \"date_november\", \"date_november\", \"date_purs\", \"date_purs\", \"date_purs\", \"date_purs\", \"db\", \"db\", \"db\", \"db\", \"db\", \"declaration\", \"declaration\", \"declaration\", \"declaration\", \"declaration\", \"declaration_opposition\", \"declaration_opposition\", \"declaration_opposition\", \"declaration_opposition\", \"declaration_opposition\", \"declaration_support\", \"declaration_support\", \"declaration_support\", \"declaration_support\", \"declaration_support\", \"defendant\", \"defendant\", \"defendant\", \"defendant\", \"defendant\", \"defendant_'\", \"defendant_'\", \"defendant_'\", \"defendant_'\", \"defendant_'\", \"deny\", \"deny\", \"deny\", \"deny\", \"deny\", \"direct\", \"direct\", \"direct\", \"direct\", \"direct\", \"discovery\", \"discovery\", \"discovery\", \"discovery\", \"discovery\", \"discovery_ruling_conference\", \"discovery_ruling_conference\", \"discovery_ruling_conference\", \"discovery_ruling_conference\", \"dismiss\", \"dismiss\", \"dismiss\", \"dismiss\", \"dismiss\", \"dismiss.._document\", \"dismiss.._document\", \"dismiss_lack_jurisdiction\", \"dismiss_lack_jurisdiction\", \"dismiss_pursuant_rule\", \"dismiss_pursuant_rule\", \"dismiss_pursuant_rule\", \"dismiss_second_amend\", \"dismiss_second_amend\", \"dismiss_second_amend\", \"dismiss_second_amend\", \"dismiss_second_amend\", \"dismiss_subrogation_claim_assert\", \"dismiss_subrogation_claim_assert\", \"dismiss_subrogation_claim_assert\", \"dismiss_subrogation_claim_assert\", \"dismissal\", \"dismissal\", \"dismissal\", \"dismissal\", \"dismissal\", \"dismissal_prejudice\", \"dismissal_prejudice\", \"dismissal_prejudice\", \"dismissal_prejudice\", \"district_judge\", \"district_judge\", \"district_judge\", \"district_judge\", \"djc\", \"djc\", \"djc\", \"djc\", \"djc\", \"dle\", \"dle\", \"dle\", \"dle\", \"dle\", \"document_place_vault\", \"document_place_vault\", \"document_place_vault\", \"dt\", \"dt\", \"dt\", \"due\", \"due\", \"due\", \"due\", \"due\", \"electronically_available_public_without\", \"electronically_available_public_without\", \"electronically_available_public_without\", \"enclose\", \"enclose\", \"enclose\", \"enclose\", \"enclose\", \"ex\", \"ex\", \"ex\", \"ex\", \"ex\", \"exhibit\", \"exhibit\", \"exhibit\", \"exhibit\", \"exhibit\", \"extension\", \"extension\", \"extension\", \"extension\", \"fee_receipt_number\", \"fee_receipt_number\", \"fee_receipt_number\", \"fee_receipt_number\", \"filing\", \"filing\", \"filing\", \"filing\", \"follow\", \"follow\", \"follow\", \"follow\", \"follow\", \"g.c\", \"g.c\", \"g.c\", \"genesys_id\", \"genesys_id\", \"genesys_id\", \"gf\", \"gr\", \"gr\", \"grant\", \"grant\", \"grant\", \"grant\", \"grant\", \"grant_part\", \"grant_part\", \"grant_part\", \"grant_part\", \"haas\", \"haas\", \"haas\", \"han\", \"han\", \"han\", \"han\", \"han\", \"hereby\", \"hereby\", \"hereby\", \"hereby\", \"hereby\", \"inc..\", \"inc..\", \"inc..\", \"inc..\", \"inc..\", \"inc.._attachment\", \"inc.._attachment\", \"inc.._attachment\", \"inc.._attachment\", \"inc.._attachment\", \"individual_rule\", \"individual_rule\", \"individual_rule\", \"individual_rule\", \"inform\", \"inform\", \"inform\", \"inform\", \"inform\", \"ja\", \"ja\", \"ja\", \"jmi\", \"jmi\", \"jmi\", \"jmi\", \"jp\", \"jp\", \"jp\", \"jp\", \"jpo\", \"jpo\", \"jpo\", \"judge\", \"judge\", \"judge\", \"judge\", \"judge\", \"judge_c.d\", \"judge_c.d\", \"judge_c.d\", \"judge_d._kan._gr\", \"judge_d._kan._gr\", \"judge_d._kan._gr\", \"judge_d._kan._magistrate\", \"judge_d._kan._magistrate\", \"judge_d._kan._magistrate\", \"judge_date\", \"judge_date\", \"judge_date\", \"judge_date\", \"judge_date\", \"judge_individual_practice\", \"judge_individual_practice\", \"judgment\", \"judgment\", \"judgment\", \"judgment\", \"judgment\", \"jv\", \"kco\", \"kco\", \"kgo\", \"kgo\", \"kgo\", \"kw\", \"kw\", \"kw\", \"kw\", \"l.p.\", \"l.p.\", \"l.p.\", \"l.p.\", \"langer\", \"langer\", \"langer\", \"law\", \"law\", \"law\", \"law\", \"law\", \"lb\", \"lb\", \"lb\", \"letter\", \"letter\", \"letter\", \"letter\", \"letter\", \"line\", \"line\", \"line\", \"ltd..\", \"ltd..\", \"ltd..\", \"magistrate_judge\", \"magistrate_judge\", \"magistrate_judge\", \"magistrate_judge\", \"magistrate_judge\", \"magistrate_judge_designate\", \"magistrate_judge_designate\", \"magistrate_judge_designate\", \"magnum_growth_fund_l.p.\", \"magnum_growth_fund_l.p.\", \"magnum_growth_fund_l.p.\", \"magnum_special_situation_fund\", \"magnum_special_situation_fund\", \"magnum_special_situation_fund\", \"may\", \"may\", \"may\", \"may\", \"may\", \"mbe\", \"mbe\", \"mbe\", \"mediation\", \"mediation\", \"mediation\", \"memorandum_law_opposition\", \"memorandum_law_opposition\", \"memorandum_law_opposition\", \"memorandum_law_opposition\", \"memorandum_law_opposition\", \"memorandum_law_support\", \"memorandum_law_support\", \"memorandum_law_support\", \"memorandum_law_support\", \"memorandum_law_support\", \"merrill\", \"merrill\", \"merrill\", \"minute_entry_proceeding_hold\", \"minute_entry_proceeding_hold\", \"minute_entry_proceeding_hold\", \"minute_entry_proceeding_hold\", \"minute_entry_proceeding_hold\", \"modify\", \"modify\", \"modify\", \"modify\", \"modify\", \"modify_gf\", \"modify_gf\", \"modify_gf\", \"motion\", \"motion\", \"motion\", \"motion\", \"motion\", \"motion_dismiss_thirdparty\", \"motion_dismiss_thirdparty\", \"motion_dismiss_thirdparty\", \"motion_dismiss_thirdparty\", \"motion_dismiss_thirdparty\", \"mp\", \"mp\", \"mro\", \"mro\", \"mro\", \"mro\", \"mro\", \"must\", \"must\", \"must\", \"must\", \"must\", \"new_york_observer_l.p.\", \"nm\", \"nonecf_case_error\", \"nonecf_case_error\", \"nonecf_case_error\", \"note_attorney\", \"note_attorney\", \"note_attorney\", \"note_attorney\", \"notice\", \"notice\", \"notice\", \"notice\", \"notice\", \"notice_appearance_behalf\", \"notice_appearance_behalf\", \"notice_appearance_behalf\", \"notice_appearance_behalf\", \"notice_case_reassignment\", \"number\", \"number\", \"number\", \"number\", \"number\", \"opposition\", \"opposition\", \"opposition\", \"opposition\", \"opposition\", \"oral_argument_set_pm\", \"order\", \"order\", \"order\", \"order\", \"order\", \"p.c\", \"p.c\", \"p.c\", \"p.c\", \"p.c\", \"p.m.\", \"p.m.\", \"p.m.\", \"p.m.\", \"p.m.\", \"pacer\", \"pacer\", \"pacer\", \"party\", \"party\", \"party\", \"party\", \"party\", \"party_calendar_day\", \"party_calendar_day\", \"party_calendar_day\", \"party_shall_comply\", \"party_shall_comply\", \"party_shall_comply\", \"party_shall_comply\", \"party_shall_submit\", \"party_shall_submit\", \"party_shall_submit\", \"party_shall_submit\", \"pc\", \"pc\", \"pc\", \"pennsylvania\", \"pennsylvania\", \"pennsylvania\", \"pennsylvania\", \"pennsylvania\", \"pl\", \"pl\", \"pl\", \"pl\", \"pl\", \"plaintiff\", \"plaintiff\", \"plaintiff\", \"plaintiff\", \"plaintiff\", \"plaintiff_'s\", \"plaintiff_'s\", \"plaintiff_'s\", \"plaintiff_'s\", \"plaintiff_'s\", \"pretrial\", \"pretrial\", \"pretrial\", \"pretrial\", \"pretrial\", \"pretrial_conference\", \"pretrial_conference\", \"pretrial_conference\", \"pretrial_conference\", \"production\", \"production\", \"production\", \"production\", \"propose\", \"propose\", \"propose\", \"propose\", \"propose\", \"propose_finding_fact_conclusion\", \"propose_finding_fact_conclusion\", \"purs\", \"purs\", \"purs\", \"purs\", \"purs\", \"r._civ\", \"r._civ\", \"reason_state\", \"reason_state\", \"reason_state\", \"reconsideration\", \"reconsideration\", \"reconsideration\", \"record\", \"record\", \"record\", \"record\", \"record\", \"redact_transcript_deadline_set\", \"redact_transcript_deadline_set\", \"redaction_calendar_day_mcguirk\", \"redaction_calendar_day_mcguirk\", \"redaction_request_due\", \"redaction_request_due\", \"redaction_request_due\", \"redaction_request_due\", \"regard\", \"regard\", \"regard\", \"regard\", \"regard\", \"reiter\", \"reiter\", \"reiter\", \"release_transcript_restriction_set\", \"release_transcript_restriction_set\", \"release_transcript_restriction_set\", \"reply\", \"reply\", \"reply\", \"reply\", \"reply\", \"reply_memorandum_law_support\", \"reply_memorandum_law_support\", \"reply_memorandum_law_support\", \"reply_memorandum_law_support\", \"reply_memorandum_law_support\", \"request\", \"request\", \"request\", \"request\", \"request\", \"request_redaction_transcript\", \"request_redaction_transcript\", \"request_redaction_transcript\", \"respond\", \"respond\", \"respond\", \"respond\", \"respond\", \"response\", \"response\", \"response\", \"response\", \"response\", \"return\", \"return\", \"return\", \"rj\", \"rj\", \"rj\", \"rj\", \"rjm\", \"rjm\", \"rjm\", \"rule\", \"rule\", \"rule\", \"rule\", \"rule\", \"rule_deposition_objection\", \"rule_disclosure_statement\", \"rule_statement\", \"rule_statement\", \"rule_statement\", \"rule_statement\", \"sac\", \"sac\", \"sac\", \"sc\", \"sc\", \"sc\", \"schedule\", \"schedule\", \"schedule\", \"schedule\", \"schedule\", \"scileppi\", \"scileppi\", \"seal\", \"seal\", \"seal\", \"seal\", \"seal\", \"see_attached\", \"see_attached\", \"serve\", \"serve\", \"serve\", \"serve\", \"serve\", \"serve_answer_due\", \"serve_answer_due\", \"serve_answer_due\", \"serve_answer_due\", \"serve_answer_due\", \"service\", \"service\", \"service\", \"service\", \"service\", \"service_accept\", \"service_accept\", \"service_accept\", \"service_accept_legal_clerk\", \"service_accept_legal_clerk\", \"set_answer_due\", \"set_answer_due\", \"set_answer_due\", \"set_answer_due\", \"shall\", \"shall\", \"shall\", \"shall\", \"shall\", \"sign_judge\", \"sign_judge\", \"sign_judge\", \"sign_judge\", \"sign_judge\", \"sign_judge_copy_mail\", \"sign_judge_copy_mail\", \"sign_judge_copy_mail\", \"sign_judge_copy_mail\", \"sign_judge_gr\", \"sign_judge_gr\", \"sign_judge_gr\", \"sign_judge_gr\", \"sign_judge_gr\", \"sign_judge_iii\", \"sign_judge_iii\", \"sign_judge_iii\", \"sign_judge_iii\", \"sign_magistrate_judge\", \"sign_magistrate_judge\", \"sign_magistrate_judge\", \"sign_magistrate_judge\", \"sign_magistrate_judge\", \"sn\", \"sn\", \"sn\", \"state\", \"state\", \"state\", \"status_conference_set_pm\", \"status_conference_set_pm\", \"status_conference_set_pm\", \"status_conference_set_pm\", \"status_report\", \"status_report\", \"status_report\", \"status_report\", \"status_report\", \"stipulation\", \"stipulation\", \"stipulation\", \"stipulation\", \"stipulation\", \"stock\", \"stock\", \"stock\", \"summary_judgment\", \"summary_judgment\", \"summary_judgment\", \"summary_judgment\", \"summary_judgment\", \"summary_judgment_favor\", \"summary_judgment_favor\", \"summary_judgment_favor\", \"summary_judgment_favor\", \"summons_issue\", \"summons_issue\", \"summons_issue\", \"support\", \"support\", \"support\", \"support\", \"support\", \"support_[_]\", \"support_[_]\", \"support_paper_review\", \"support_paper_review\", \"tape\", \"tape\", \"telephone_conference_hold\", \"telephone_conference_hold\", \"text\", \"text\", \"text\", \"tp\", \"tp\", \"tp\", \"tp\", \"tp\", \"transcript_may_make_remotely\", \"transcript_may_make_remotely\", \"transcript_may_make_remotely\", \"transcript_proceeding_conference_hold\", \"transcript_proceeding_conference_hold\", \"transcript_proceeding_conference_hold\", \"transmission\", \"transmission\", \"usca\", \"usca\", \"usca_case\", \"usca_case\", \"usca_case\", \"wellington\", \"wellington\", \"worcester\", \"worcester\", \"worcester\", \"york_ny_magistrate_judge\", \"york_ny_magistrate_judge\", \"yv\", \"yv\", \"yv\", \"yv\"]}, \"lambda.step\": 0.01, \"plot.opts\": {\"ylab\": \"PC2\", \"xlab\": \"PC1\"}};\n",
       "\n",
       "function LDAvis_load_lib(url, callback){\n",
       "  var s = document.createElement('script');\n",
       "  s.src = url;\n",
       "  s.async = true;\n",
       "  s.onreadystatechange = s.onload = callback;\n",
       "  s.onerror = function(){console.warn(\"failed to load library \" + url);};\n",
       "  document.getElementsByTagName(\"head\")[0].appendChild(s);\n",
       "}\n",
       "\n",
       "if(typeof(LDAvis) !== \"undefined\"){\n",
       "   // already loaded: just create the visualization\n",
       "   !function(LDAvis){\n",
       "       new LDAvis(\"#\" + \"ldavis_el2506819944969350406315349837\", ldavis_el2506819944969350406315349837_data);\n",
       "   }(LDAvis);\n",
       "}else if(typeof define === \"function\" && define.amd){\n",
       "   // require.js is available: use it to load d3/LDAvis\n",
       "   require.config({paths: {d3: \"https://cdnjs.cloudflare.com/ajax/libs/d3/3.5.5/d3.min\"}});\n",
       "   require([\"d3\"], function(d3){\n",
       "      window.d3 = d3;\n",
       "      LDAvis_load_lib(\"https://cdn.rawgit.com/bmabey/pyLDAvis/files/ldavis.v1.0.0.js\", function(){\n",
       "        new LDAvis(\"#\" + \"ldavis_el2506819944969350406315349837\", ldavis_el2506819944969350406315349837_data);\n",
       "      });\n",
       "    });\n",
       "}else{\n",
       "    // require.js not available: dynamically load d3 & LDAvis\n",
       "    LDAvis_load_lib(\"https://cdnjs.cloudflare.com/ajax/libs/d3/3.5.5/d3.min.js\", function(){\n",
       "         LDAvis_load_lib(\"https://cdn.rawgit.com/bmabey/pyLDAvis/files/ldavis.v1.0.0.js\", function(){\n",
       "                 new LDAvis(\"#\" + \"ldavis_el2506819944969350406315349837\", ldavis_el2506819944969350406315349837_data);\n",
       "            })\n",
       "         });\n",
       "}\n",
       "</script>"
      ],
      "text/plain": [
       "<IPython.core.display.HTML object>"
      ]
     },
     "execution_count": 100,
     "metadata": {},
     "output_type": "execute_result"
    }
   ],
   "source": [
    "num_topics = 5\n",
    "pretrained_model_file_path = 'docket_texts/lda_model_noorgnomodel_' + str(num_topics)\n",
    "\n",
    "column_name = str(num_topics) + ' Topics Clfier'\n",
    "\n",
    "topic_names = {}\n",
    "for i in range(num_topics):\n",
    "    topic_names[i] = 'Topic ' + str(i)\n",
    "\n",
    "LDAvis_prepared, model = topic_modeling_pipeline(num_topics, pretrained_model_file_path, trigram_bow_corpus, trigram_dictionary, export = True)\n",
    "topic_summary = []\n",
    "\n",
    "for docket_text in list(new_df['Phrase Model']):\n",
    "    #print(docket_text)\n",
    "    topic_summary.append(lda_description(docket_text, model, trigram_dictionary, topic_names))\n",
    "\n",
    "new_df[column_name] = topic_summary\n",
    "pyLDAvis.display(LDAvis_prepared)"
   ]
  },
  {
   "cell_type": "markdown",
   "metadata": {},
   "source": [
    "### 10 Topics:"
   ]
  },
  {
   "cell_type": "code",
   "execution_count": 101,
   "metadata": {
    "scrolled": false
   },
   "outputs": [
    {
     "name": "stdout",
     "output_type": "stream",
     "text": [
      "\n",
      " Topic 1's make-up:\n",
      "term                 frequency\n",
      "\n",
      "motion               0.075\n",
      "exhibit              0.042\n",
      "order                0.032\n",
      "defendant            0.030\n",
      "case                 0.020\n",
      "dismiss              0.016\n",
      "plaintiff            0.012\n",
      "l.p.                 0.011\n",
      "stipulation          0.011\n",
      "party                0.010\n",
      "\n",
      " Topic 2's make-up:\n",
      "term                 frequency\n",
      "\n",
      "motion               0.057\n",
      "order                0.023\n",
      "'s                   0.019\n",
      "date                 0.018\n",
      "dismiss              0.017\n",
      "party                0.017\n",
      "request              0.014\n",
      "defendant            0.014\n",
      "inc..                0.012\n",
      "sign_judge           0.011\n",
      "\n",
      " Topic 3's make-up:\n",
      "term                 frequency\n",
      "\n",
      "order                0.094\n",
      "motion               0.046\n",
      "shall                0.025\n",
      "defendant            0.021\n",
      "stipulation          0.017\n",
      "notice               0.011\n",
      "letter               0.011\n",
      "l.p.                 0.011\n",
      "plaintiff            0.011\n",
      "date                 0.010\n",
      "\n",
      " Topic 4's make-up:\n",
      "term                 frequency\n",
      "\n",
      "motion               0.127\n",
      "pennsylvania         0.032\n",
      "order                0.027\n",
      "declaration_support  0.018\n",
      "summary_judgment     0.017\n",
      "memorandum_law_opposition 0.014\n",
      "serve_answer_due     0.014\n",
      "inc..                0.014\n",
      "dismiss              0.014\n",
      "memorandum_law_support 0.014\n",
      "\n",
      " Topic 5's make-up:\n",
      "term                 frequency\n",
      "\n",
      "order                0.050\n",
      "sign_judge           0.036\n",
      "'s                   0.026\n",
      "court                0.023\n",
      "motion               0.022\n",
      "cal                  0.014\n",
      "discovery            0.010\n",
      "conference           0.010\n",
      "april                0.009\n",
      "request              0.009\n",
      "\n",
      " Topic 6's make-up:\n",
      "term                 frequency\n",
      "\n",
      "exhibit              0.398\n",
      "order                0.026\n",
      "motion               0.014\n",
      "notice               0.012\n",
      "attachment           0.012\n",
      "inc..                0.011\n",
      "'s                   0.010\n",
      "march                0.008\n",
      "party                0.008\n",
      "plaintiff            0.007\n",
      "\n",
      " Topic 7's make-up:\n",
      "term                 frequency\n",
      "\n",
      "order                0.062\n",
      "motion               0.058\n",
      "'s                   0.020\n",
      "notice               0.015\n",
      "dismiss              0.015\n",
      "schedule             0.014\n",
      "date                 0.014\n",
      "mro                  0.013\n",
      "magistrate_judge     0.012\n",
      "request              0.011\n",
      "\n",
      " Topic 8's make-up:\n",
      "term                 frequency\n",
      "\n",
      "order                0.066\n",
      "ex                   0.040\n",
      "judge                0.038\n",
      "motion               0.036\n",
      "exhibit              0.029\n",
      "complaint            0.020\n",
      "notice               0.014\n",
      "party                0.014\n",
      "stipulation          0.013\n",
      "'s                   0.013\n",
      "\n",
      " Topic 9's make-up:\n",
      "term                 frequency\n",
      "\n",
      "exhibit              0.067\n",
      "motion               0.061\n",
      "notice               0.028\n",
      "attachment           0.020\n",
      "order                0.017\n",
      "'s                   0.017\n",
      "letter               0.016\n",
      "due                  0.012\n",
      "case                 0.011\n",
      "judge                0.010\n",
      "\n",
      " Topic 10's make-up:\n",
      "term                 frequency\n",
      "\n",
      "court                0.029\n",
      "notice_appearance_behalf 0.022\n",
      "judge                0.020\n",
      "motion               0.018\n",
      "exhibit              0.017\n",
      "llc                  0.017\n",
      "minute_entry_proceeding_hold 0.016\n",
      "party                0.015\n",
      "'s                   0.014\n",
      "magistrate_judge     0.013\n"
     ]
    },
    {
     "data": {
      "text/html": [
       "\n",
       "<link rel=\"stylesheet\" type=\"text/css\" href=\"https://cdn.rawgit.com/bmabey/pyLDAvis/files/ldavis.v1.0.0.css\">\n",
       "\n",
       "\n",
       "<div id=\"ldavis_el2506819944969366002128518707\"></div>\n",
       "<script type=\"text/javascript\">\n",
       "\n",
       "var ldavis_el2506819944969366002128518707_data = {\"topic.order\": [3, 6, 2, 4, 7, 1, 9, 5, 10, 8], \"mdsDat\": {\"cluster\": [1, 1, 1, 1, 1, 1, 1, 1, 1, 1], \"topics\": [1, 2, 3, 4, 5, 6, 7, 8, 9, 10], \"Freq\": [13.898468489620743, 12.071545498317215, 11.468172451089039, 10.80443383421197, 10.309350970924028, 9.292554760291203, 8.482256516576198, 8.47476202474822, 8.306636352859064, 6.891819101362322], \"x\": [-0.06566180416955127, 0.22257693740801598, -0.04999469589236465, -0.04487575747455242, -0.048783520969177444, 0.025157624140019853, 0.05906630962071852, -0.0796987987825803, -0.021916149251170632, 0.004129855370642559], \"y\": [0.014400042968890628, 0.00256122850144838, 0.004299161840111897, 0.10906509040553765, 0.004518512804542775, 0.060831417181689815, 0.0060073428296689895, -0.01268570288199136, -0.13781365459080291, -0.051183439059095684]}, \"R\": 30, \"tinfo\": {\"Category\": [\"Default\", \"Default\", \"Default\", \"Default\", \"Default\", \"Default\", \"Default\", \"Default\", \"Default\", \"Default\", \"Default\", \"Default\", \"Default\", \"Default\", \"Default\", \"Default\", \"Default\", \"Default\", \"Default\", \"Default\", \"Default\", \"Default\", \"Default\", \"Default\", \"Default\", \"Default\", \"Default\", \"Default\", \"Default\", \"Default\", \"Topic1\", \"Topic1\", \"Topic1\", \"Topic1\", \"Topic1\", \"Topic1\", \"Topic1\", \"Topic1\", \"Topic1\", \"Topic1\", \"Topic1\", \"Topic1\", \"Topic1\", \"Topic1\", \"Topic1\", \"Topic1\", \"Topic1\", \"Topic1\", \"Topic1\", \"Topic1\", \"Topic1\", \"Topic1\", \"Topic1\", \"Topic1\", \"Topic1\", \"Topic1\", \"Topic1\", \"Topic1\", \"Topic1\", \"Topic1\", \"Topic1\", \"Topic1\", \"Topic1\", \"Topic1\", \"Topic1\", \"Topic1\", \"Topic1\", \"Topic1\", \"Topic1\", \"Topic1\", \"Topic1\", \"Topic1\", \"Topic1\", \"Topic1\", \"Topic1\", \"Topic1\", \"Topic1\", \"Topic1\", \"Topic1\", \"Topic1\", \"Topic1\", \"Topic1\", \"Topic1\", \"Topic1\", \"Topic1\", \"Topic1\", \"Topic1\", \"Topic1\", \"Topic1\", \"Topic2\", \"Topic2\", \"Topic2\", \"Topic2\", \"Topic2\", \"Topic2\", \"Topic2\", \"Topic2\", \"Topic2\", \"Topic2\", \"Topic2\", \"Topic2\", \"Topic2\", \"Topic2\", \"Topic2\", \"Topic2\", \"Topic2\", \"Topic2\", \"Topic2\", \"Topic2\", \"Topic2\", \"Topic2\", \"Topic2\", \"Topic2\", \"Topic2\", \"Topic2\", \"Topic2\", \"Topic2\", \"Topic2\", \"Topic2\", \"Topic2\", \"Topic2\", \"Topic2\", \"Topic2\", \"Topic2\", \"Topic2\", \"Topic2\", \"Topic2\", \"Topic2\", \"Topic2\", \"Topic2\", \"Topic2\", \"Topic2\", \"Topic2\", \"Topic2\", \"Topic2\", \"Topic2\", \"Topic2\", \"Topic2\", \"Topic2\", \"Topic2\", \"Topic2\", \"Topic2\", \"Topic2\", \"Topic2\", \"Topic2\", \"Topic2\", \"Topic2\", \"Topic2\", \"Topic3\", \"Topic3\", \"Topic3\", \"Topic3\", \"Topic3\", \"Topic3\", \"Topic3\", \"Topic3\", \"Topic3\", \"Topic3\", \"Topic3\", \"Topic3\", \"Topic3\", \"Topic3\", \"Topic3\", \"Topic3\", \"Topic3\", \"Topic3\", \"Topic3\", \"Topic3\", \"Topic3\", \"Topic3\", \"Topic3\", \"Topic3\", \"Topic3\", \"Topic3\", \"Topic3\", \"Topic3\", \"Topic3\", \"Topic3\", \"Topic3\", \"Topic3\", \"Topic3\", \"Topic3\", \"Topic3\", \"Topic3\", \"Topic3\", \"Topic3\", \"Topic3\", \"Topic3\", \"Topic3\", \"Topic3\", \"Topic3\", \"Topic3\", \"Topic3\", \"Topic3\", \"Topic3\", \"Topic3\", \"Topic3\", \"Topic3\", \"Topic3\", \"Topic3\", \"Topic3\", \"Topic3\", \"Topic3\", \"Topic3\", \"Topic3\", \"Topic3\", \"Topic3\", \"Topic3\", \"Topic3\", \"Topic4\", \"Topic4\", \"Topic4\", \"Topic4\", \"Topic4\", \"Topic4\", \"Topic4\", \"Topic4\", \"Topic4\", \"Topic4\", \"Topic4\", \"Topic4\", \"Topic4\", \"Topic4\", \"Topic4\", \"Topic4\", \"Topic4\", \"Topic4\", \"Topic4\", \"Topic4\", \"Topic4\", \"Topic4\", \"Topic4\", \"Topic4\", \"Topic4\", \"Topic4\", \"Topic4\", \"Topic4\", \"Topic4\", \"Topic4\", \"Topic4\", \"Topic4\", \"Topic4\", \"Topic4\", \"Topic4\", \"Topic4\", \"Topic4\", \"Topic4\", \"Topic4\", \"Topic4\", \"Topic4\", \"Topic4\", \"Topic4\", \"Topic4\", \"Topic4\", \"Topic4\", \"Topic4\", \"Topic4\", \"Topic4\", \"Topic4\", \"Topic4\", \"Topic5\", \"Topic5\", \"Topic5\", \"Topic5\", \"Topic5\", \"Topic5\", \"Topic5\", \"Topic5\", \"Topic5\", \"Topic5\", \"Topic5\", \"Topic5\", \"Topic5\", \"Topic5\", \"Topic5\", \"Topic5\", \"Topic5\", \"Topic5\", \"Topic5\", \"Topic5\", \"Topic5\", \"Topic5\", \"Topic5\", \"Topic5\", \"Topic5\", \"Topic5\", \"Topic5\", \"Topic5\", \"Topic5\", \"Topic5\", \"Topic5\", \"Topic5\", \"Topic5\", \"Topic5\", \"Topic5\", \"Topic5\", \"Topic5\", \"Topic5\", \"Topic5\", \"Topic5\", \"Topic5\", \"Topic5\", \"Topic5\", \"Topic5\", \"Topic5\", \"Topic5\", \"Topic5\", \"Topic5\", \"Topic5\", \"Topic5\", \"Topic5\", \"Topic5\", \"Topic5\", \"Topic5\", \"Topic5\", \"Topic5\", \"Topic5\", \"Topic5\", \"Topic5\", \"Topic5\", \"Topic5\", \"Topic5\", \"Topic5\", \"Topic5\", \"Topic5\", \"Topic5\", \"Topic5\", \"Topic5\", \"Topic6\", \"Topic6\", \"Topic6\", \"Topic6\", \"Topic6\", \"Topic6\", \"Topic6\", \"Topic6\", \"Topic6\", \"Topic6\", \"Topic6\", \"Topic6\", \"Topic6\", \"Topic6\", \"Topic6\", \"Topic6\", \"Topic6\", \"Topic6\", \"Topic6\", \"Topic6\", \"Topic6\", \"Topic6\", \"Topic6\", \"Topic6\", \"Topic6\", \"Topic6\", \"Topic6\", \"Topic6\", \"Topic6\", \"Topic6\", \"Topic6\", \"Topic6\", \"Topic6\", \"Topic6\", \"Topic6\", \"Topic6\", \"Topic6\", \"Topic6\", \"Topic6\", \"Topic6\", \"Topic6\", \"Topic6\", \"Topic6\", \"Topic6\", \"Topic6\", \"Topic6\", \"Topic6\", \"Topic6\", \"Topic6\", \"Topic6\", \"Topic6\", \"Topic6\", \"Topic6\", \"Topic6\", \"Topic6\", \"Topic6\", \"Topic6\", \"Topic6\", \"Topic6\", \"Topic7\", \"Topic7\", \"Topic7\", \"Topic7\", \"Topic7\", \"Topic7\", \"Topic7\", \"Topic7\", \"Topic7\", \"Topic7\", \"Topic7\", \"Topic7\", \"Topic7\", \"Topic7\", \"Topic7\", \"Topic7\", \"Topic7\", \"Topic7\", \"Topic7\", \"Topic7\", \"Topic7\", \"Topic7\", \"Topic7\", \"Topic7\", \"Topic7\", \"Topic7\", \"Topic7\", \"Topic7\", \"Topic7\", \"Topic7\", \"Topic7\", \"Topic7\", \"Topic7\", \"Topic7\", \"Topic7\", \"Topic7\", \"Topic7\", \"Topic7\", \"Topic7\", \"Topic7\", \"Topic7\", \"Topic7\", \"Topic7\", \"Topic7\", \"Topic7\", \"Topic7\", \"Topic7\", \"Topic7\", \"Topic7\", \"Topic7\", \"Topic7\", \"Topic7\", \"Topic7\", \"Topic7\", \"Topic7\", \"Topic7\", \"Topic7\", \"Topic7\", \"Topic7\", \"Topic7\", \"Topic7\", \"Topic7\", \"Topic7\", \"Topic7\", \"Topic8\", \"Topic8\", \"Topic8\", \"Topic8\", \"Topic8\", \"Topic8\", \"Topic8\", \"Topic8\", \"Topic8\", \"Topic8\", \"Topic8\", \"Topic8\", \"Topic8\", \"Topic8\", \"Topic8\", \"Topic8\", \"Topic8\", \"Topic8\", \"Topic8\", \"Topic8\", \"Topic8\", \"Topic8\", \"Topic8\", \"Topic8\", \"Topic8\", \"Topic8\", \"Topic8\", \"Topic8\", \"Topic8\", \"Topic8\", \"Topic8\", \"Topic8\", \"Topic8\", \"Topic8\", \"Topic8\", \"Topic8\", \"Topic8\", \"Topic8\", \"Topic8\", \"Topic8\", \"Topic8\", \"Topic8\", \"Topic8\", \"Topic8\", \"Topic8\", \"Topic8\", \"Topic8\", \"Topic8\", \"Topic8\", \"Topic8\", \"Topic8\", \"Topic8\", \"Topic8\", \"Topic8\", \"Topic8\", \"Topic8\", \"Topic8\", \"Topic8\", \"Topic8\", \"Topic9\", \"Topic9\", \"Topic9\", \"Topic9\", \"Topic9\", \"Topic9\", \"Topic9\", \"Topic9\", \"Topic9\", \"Topic9\", \"Topic9\", \"Topic9\", \"Topic9\", \"Topic9\", \"Topic9\", \"Topic9\", \"Topic9\", \"Topic9\", \"Topic9\", \"Topic9\", \"Topic9\", \"Topic9\", \"Topic9\", \"Topic9\", \"Topic9\", \"Topic9\", \"Topic9\", \"Topic9\", \"Topic9\", \"Topic9\", \"Topic9\", \"Topic9\", \"Topic9\", \"Topic9\", \"Topic9\", \"Topic9\", \"Topic9\", \"Topic9\", \"Topic9\", \"Topic9\", \"Topic9\", \"Topic9\", \"Topic9\", \"Topic9\", \"Topic9\", \"Topic9\", \"Topic9\", \"Topic9\", \"Topic9\", \"Topic9\", \"Topic9\", \"Topic9\", \"Topic9\", \"Topic9\", \"Topic9\", \"Topic9\", \"Topic9\", \"Topic9\", \"Topic10\", \"Topic10\", \"Topic10\", \"Topic10\", \"Topic10\", \"Topic10\", \"Topic10\", \"Topic10\", \"Topic10\", \"Topic10\", \"Topic10\", \"Topic10\", \"Topic10\", \"Topic10\", \"Topic10\", \"Topic10\", \"Topic10\", \"Topic10\", \"Topic10\", \"Topic10\", \"Topic10\", \"Topic10\", \"Topic10\", \"Topic10\", \"Topic10\", \"Topic10\", \"Topic10\", \"Topic10\", \"Topic10\", \"Topic10\", \"Topic10\", \"Topic10\", \"Topic10\", \"Topic10\", \"Topic10\", \"Topic10\", \"Topic10\", \"Topic10\", \"Topic10\", \"Topic10\", \"Topic10\", \"Topic10\", \"Topic10\", \"Topic10\", \"Topic10\", \"Topic10\", \"Topic10\", \"Topic10\", \"Topic10\", \"Topic10\", \"Topic10\", \"Topic10\", \"Topic10\", \"Topic10\", \"Topic10\", \"Topic10\", \"Topic10\"], \"Total\": [2707.0, 2231.0, 1799.0, 146.0, 309.0, 221.0, 381.0, 108.0, 422.0, 333.0, 131.0, 81.0, 265.0, 64.0, 239.0, 143.0, 116.0, 74.0, 489.0, 246.0, 506.0, 178.0, 276.0, 281.0, 42.0, 586.0, 185.0, 230.0, 129.0, 129.0, 48.150129660875294, 43.17862913197923, 13.426086708297344, 36.32202081878416, 77.43088450707823, 45.39205934998995, 43.25576916386571, 9.552824431844847, 10.93489105525964, 74.3032931813618, 29.87820699290374, 14.466305033090604, 16.423440348281428, 28.87408910224817, 15.626029507818194, 24.327072236636372, 40.42098261092777, 26.565314228950673, 15.215476503167533, 12.183835416624454, 33.330539996359896, 32.7348825305351, 14.256663358019086, 12.044720534525473, 12.326335903565893, 40.354864751496926, 24.765208411456047, 81.79270055307717, 13.277609162477296, 18.87387814352137, 377.00537221196805, 276.3272661200389, 1799.5342342333763, 178.7967249895521, 65.04395214147257, 127.58711879807015, 68.73041440181818, 506.84164149976857, 181.32732710175443, 94.17625392017555, 86.81578533684262, 119.76476207883846, 2231.3135235008635, 309.4555374562637, 159.17992135967017, 317.872362243743, 242.49568912736729, 98.5883437695205, 354.35548521543643, 489.6494652248135, 246.67663682976237, 381.3844837634679, 586.3948850637171, 422.9926998937982, 251.70773396683904, 401.5208140989187, 281.7116089762868, 256.48582330313934, 242.91438784428513, 36.46911422011226, 2707.984995449395, 9.871112087587392, 20.23467673925143, 20.234690399327985, 23.101979856266578, 17.094372546956162, 27.543616750790093, 19.58013268083318, 17.283443648436293, 34.708865307873566, 20.94919942750304, 42.87731708365294, 28.800761535789416, 18.023064858862515, 11.938829423356108, 26.659086888857516, 26.445771015077927, 35.958755258275055, 34.086599437632934, 17.755811147930288, 42.40108674005626, 64.87376578521828, 20.451712798743817, 8.31649272097893, 16.088125356038415, 15.551713192928032, 15.787497729324043, 10.580411550525527, 10.373833519076992, 17.861681109447435, 125.74205781126126, 48.1245380390237, 53.201746020476406, 265.1641486039445, 239.12496756604403, 39.86958964940837, 39.86955927642906, 39.869627389767196, 115.11510762807413, 489.6494652248135, 1799.5342342333763, 164.22826641087624, 317.872362243743, 586.3948850637171, 309.4555374562637, 401.5208140989187, 196.13712695226687, 2231.3135235008635, 192.92938946216225, 377.00537221196805, 506.84164149976857, 178.7967249895521, 219.64831182950707, 251.70773396683904, 246.67663682976237, 309.0200200734547, 144.5816266643811, 422.9926998937982, 40.10037299684517, 12.269843564605816, 18.262276782516537, 22.91408857645925, 45.1593774660219, 45.15934610852097, 45.15929865637862, 43.17115011638487, 73.1208367590736, 14.560512119254353, 21.076065545468634, 22.669418466451383, 64.87376578521828, 24.244961157834247, 16.74124977719973, 13.339914656521202, 42.77083238658866, 36.82290307698782, 19.531399134502916, 17.240085301352277, 12.816244113944324, 19.37758849558955, 9.40310781272007, 16.088125356038415, 12.916482681685645, 30.26134658967096, 22.716899534969325, 104.5264241077256, 15.275832900594999, 14.780486615191213, 58.39806673444604, 91.65055001568926, 34.81704117895999, 175.67656474952116, 95.02907042875812, 50.63082676362877, 333.7132101177369, 354.35548521543643, 239.12496756604403, 92.507431300928, 401.5208140989187, 312.84904382610165, 2231.3135235008635, 116.04752304819633, 586.3948850637171, 230.30963307456943, 256.48582330313934, 251.70773396683904, 506.84164149976857, 381.3844837634679, 1799.5342342333763, 309.4555374562637, 137.068492812009, 129.6035195864236, 422.9926998937982, 317.872362243743, 377.00537221196805, 174.15349013923102, 489.6494652248135, 242.91438784428513, 219.64831182950707, 81.58875968214741, 21.627228603637402, 42.08625086881516, 40.30508154319537, 26.961224075662027, 221.69423352179493, 18.53952473551803, 11.398327504766712, 11.874300480292042, 37.39135620562259, 76.05558112444189, 19.2356248530859, 143.75268632037455, 81.10200426814734, 10.24210574174516, 185.9676709036001, 18.265248764665593, 42.77083238658866, 14.245873908663892, 22.549340766204203, 12.941147169851714, 109.57465516126148, 17.701970876589705, 15.16903529921947, 38.497715665280296, 24.995380447820004, 20.53593078353448, 13.040786805789189, 129.4830891726649, 13.562555940622122, 79.00581937021094, 230.30963307456943, 2231.3135235008635, 127.58711879807015, 239.12496756604403, 242.49568912736729, 88.32678652923936, 137.62068743939065, 178.83103526495339, 333.7132101177369, 146.8423738655219, 151.32310676677207, 1799.5342342333763, 489.6494652248135, 242.91438784428513, 312.84904382610165, 281.7116089762868, 219.64831182950707, 381.3844837634679, 586.3948850637171, 2707.984995449395, 12.54573935424483, 17.371578845972067, 13.296015039487237, 29.9698294966305, 10.464917609702876, 13.952345280889313, 116.04752304819633, 22.95245963612538, 30.4044285322383, 18.56178413624574, 40.70271604094703, 17.500663323294646, 22.394569712914738, 15.453435990899255, 11.323732475169933, 10.16812472925195, 18.033185383240316, 8.781082289528772, 10.799357741548018, 63.14860587910338, 12.063271947344159, 10.979109191479564, 33.176694764943065, 22.214746368862986, 12.720109553152795, 13.277609162477296, 34.93067072085441, 20.23967745412422, 30.78285100190001, 14.031252518379699, 20.260075256197158, 59.46562404263738, 256.48582330313934, 42.79394032985449, 57.74156780584137, 38.22277787874777, 1799.5342342333763, 43.66512203948818, 174.15349013923102, 333.7132101177369, 251.70773396683904, 81.30768184643232, 2231.3135235008635, 354.35548521543643, 586.3948850637171, 179.9299766302997, 68.73041440181818, 489.6494652248135, 312.84904382610165, 422.9926998937982, 401.5208140989187, 159.17992135967017, 246.67663682976237, 72.8315300154346, 99.95986997306018, 506.84164149976857, 119.76054692254506, 101.4361798771413, 317.872362243743, 377.00537221196805, 242.91438784428513, 309.4555374562637, 132.53559517710713, 265.1641486039445, 381.3844837634679, 144.5816266643811, 2707.984995449395, 127.58711879807015, 13.603311452291965, 34.43094912474767, 14.466065628034363, 16.798314545443063, 16.665578070580356, 8.943201639790354, 43.9419559833852, 25.30945689902001, 10.317782041261532, 13.409401238150684, 14.396144677524335, 45.028213279625895, 17.584256455308854, 10.882347393398168, 9.15148836721228, 14.24632107008103, 9.223560622055091, 12.740445170728801, 49.35156653608711, 10.11365785718252, 62.66999669496288, 23.95043362451611, 41.691046838021286, 20.453985232933587, 17.755811147930288, 43.83100842402042, 10.669357693359657, 27.86632994948794, 17.470981922603524, 15.551713192928032, 281.7116089762868, 506.84164149976857, 151.32310676677207, 129.4830891726649, 178.7967249895521, 2231.3135235008635, 137.62068743939065, 333.7132101177369, 132.53559517710713, 181.32732710175443, 196.13712695226687, 317.872362243743, 276.3272661200389, 2707.984995449395, 1799.5342342333763, 256.48582330313934, 265.1641486039445, 83.01414884440075, 242.49568912736729, 401.5208140989187, 377.00537221196805, 108.87619658402164, 125.74205781126126, 246.67663682976237, 219.64831182950707, 354.35548521543643, 242.91438784428513, 185.9676709036001, 586.3948850637171, 16.96576996509199, 8.740604548949007, 11.59893564994456, 19.0207289842754, 15.715834290116922, 32.73655659789871, 36.39978715177749, 14.628595000488012, 15.053574662981486, 25.970494626030895, 24.193796978568663, 45.915275393025034, 10.768988094410252, 10.371992038761192, 12.70150427070072, 10.013057826364726, 22.11730207903883, 18.908606601606785, 13.251375960747188, 36.45521568261979, 36.45544905708482, 14.649826544841185, 42.02846275672954, 9.50661917310771, 13.562555940622122, 32.544418337287496, 126.60710208967973, 27.543616750790093, 22.870421234008006, 13.756052861039187, 17.549304136726754, 76.88055487368356, 36.09961676985649, 265.1641486039445, 36.09972949526852, 36.09981679811949, 489.6494652248135, 309.4555374562637, 55.49569260666738, 2231.3135235008635, 2707.984995449395, 108.87619658402164, 196.13712695226687, 74.23488528234074, 586.3948850637171, 281.7116089762868, 309.0200200734547, 219.64831182950707, 192.92938946216225, 179.9299766302997, 143.6837545198366, 92.68467993127388, 377.00537221196805, 1799.5342342333763, 317.872362243743, 146.8423738655219, 230.30963307456943, 422.9926998937982, 242.91438784428513, 312.84904382610165, 506.84164149976857, 333.7132101177369, 246.67663682976237, 354.35548521543643, 64.398511183275, 22.693952011951374, 29.919281894471006, 23.918584959063267, 47.11482707487503, 29.093265239362303, 28.63572700010566, 20.991897442660804, 16.01669646537871, 57.516147080790795, 19.676621162212367, 28.27366629244446, 55.47358416801332, 13.716032254132706, 15.75320825023347, 12.047847594930742, 15.094373008732887, 12.29955018229988, 20.034441479698604, 43.0715988202272, 13.163127006242316, 13.254545912602115, 43.9419559833852, 21.05891431399383, 11.119405808972052, 17.049072168424193, 18.80645173740662, 29.002684155340397, 22.923226450791013, 8.999108263106505, 381.3844837634679, 91.09377880100001, 52.52265692332895, 29.87820699290374, 123.82403847399446, 61.34158243075156, 422.9926998937982, 98.83938326797015, 586.3948850637171, 175.67656474952116, 1799.5342342333763, 76.77507656508884, 192.92938946216225, 143.6837545198366, 104.7662037353238, 119.28087103862597, 64.87433327229704, 2231.3135235008635, 312.84904382610165, 125.74205781126126, 256.48582330313934, 489.6494652248135, 354.35548521543643, 401.5208140989187, 506.84164149976857, 377.00537221196805, 239.12496756604403, 137.62068743939065, 230.30963307456943, 42.923852235129154, 108.63697585115116, 10.972454942847405, 30.38363406574898, 50.87095627090417, 20.903750232813763, 74.23488528234074, 10.96916391851053, 30.5168086274957, 19.82295203070203, 11.674709795341991, 30.011878910892083, 14.85342189551142, 12.31583539055624, 14.57647049992, 30.16359615460335, 29.258197525845805, 9.048478119128127, 22.89500051459814, 131.4643422197117, 20.64834918554315, 29.973068244474707, 11.284640985431153, 17.5493490777977, 15.619270522726035, 143.66908375259086, 22.502662889270983, 13.440140593148147, 15.834479530844032, 27.762930586487485, 119.76054692254506, 136.55076076205813, 86.50893115258499, 39.90152980480503, 120.59962420211102, 422.9926998937982, 309.0200200734547, 141.5433017514688, 251.70773396683904, 129.6035195864236, 219.64831182950707, 401.5208140989187, 47.80439938047942, 312.84904382610165, 178.83103526495339, 221.69423352179493, 586.3948850637171, 242.91438784428513, 317.872362243743, 2231.3135235008635, 2707.984995449395, 506.84164149976857, 137.068492812009, 99.95986997306018, 265.1641486039445, 1799.5342342333763, 281.7116089762868, 354.35548521543643, 146.10474746115196, 34.086599437632934, 9.569645313838087, 11.467298990458993, 14.96333431435595, 44.69416124794654, 42.40108674005626, 14.79305882884604, 27.824382542167918, 8.918466597578346, 12.436525493470134, 309.0200200734547, 20.568256753148262, 43.80553637449168, 16.805449714025308, 22.5172166256149, 37.39267425083972, 8.538805583285855, 23.451297029292487, 30.4044285322383, 9.040063989267432, 29.002684155340397, 53.20747369209057, 23.701581485004326, 13.207412936024415, 16.610836447725738, 11.52204804074799, 12.090995770870094, 13.339914656521202, 59.46562404263738, 39.90152980480503, 246.67663682976237, 129.6035195864236, 51.1742697634276, 39.275056476103686, 45.827749671956155, 1799.5342342333763, 64.13942214327027, 94.17625392017555, 276.3272661200389, 196.13712695226687, 119.76476207883846, 159.17992135967017, 401.5208140989187, 2231.3135235008635, 489.6494652248135, 131.4643422197117, 2707.984995449395, 381.3844837634679, 586.3948850637171, 354.35548521543643, 175.67656474952116, 178.83103526495339, 144.5816266643811, 506.84164149976857, 242.49568912736729, 281.7116089762868], \"loglift\": [30.0, 29.0, 28.0, 27.0, 26.0, 25.0, 24.0, 23.0, 22.0, 21.0, 20.0, 19.0, 18.0, 17.0, 16.0, 15.0, 14.0, 13.0, 12.0, 11.0, 10.0, 9.0, 8.0, 7.0, 6.0, 5.0, 4.0, 3.0, 2.0, 1.0, 1.7202, 1.695, 1.5844, 1.5419, 1.5137, 1.4994, 1.4605, 1.4375, 1.4059, 1.3645, 1.3609, 1.3522, 1.3522, 1.3232, 1.3044, 1.2941, 1.2874, 1.2671, 1.2546, 1.2524, 1.2471, 1.2249, 1.2228, 1.2057, 1.1826, 1.1477, 1.1222, 1.1101, 1.1082, 1.104, 1.0444, 0.9848, 0.8035, 0.9785, 0.9848, 0.8801, 0.9492, 0.5799, 0.7636, 0.8883, 0.8906, 0.8029, -0.1191, 0.4391, 0.6633, 0.3833, 0.4563, 0.8058, 0.206, -0.01, 0.3144, 0.0749, -0.3999, -0.2369, 0.0965, -0.345, -0.0615, -0.0001, 0.0085, 2.0327, 1.8363, 1.7784, 1.7735, 1.7735, 1.7302, 1.656, 1.6489, 1.6286, 1.5238, 1.4761, 1.4625, 1.4086, 1.397, 1.3533, 1.347, 1.3123, 1.2985, 1.27, 1.2358, 1.1551, 1.1122, 1.0985, 1.0655, 1.0617, 1.0606, 1.0476, 1.0414, 1.0379, 1.0277, 1.0223, 1.0, 0.988, 0.982, 0.6619, 0.659, 0.9051, 0.9051, 0.9051, 0.5671, 0.0791, -0.4819, 0.3361, -0.0373, -0.3426, -0.0241, -0.189, 0.1872, -1.3436, 0.1275, -0.3182, -0.57, 0.1197, -0.2242, -0.3851, -0.3712, -0.6613, -0.0281, -1.0376, 1.8976, 1.7817, 1.7814, 1.7804, 1.7582, 1.7582, 1.7582, 1.7138, 1.6345, 1.6343, 1.6201, 1.5492, 1.5098, 1.508, 1.484, 1.4783, 1.4761, 1.4578, 1.419, 1.3965, 1.387, 1.3684, 1.3673, 1.3557, 1.3357, 1.3344, 1.3337, 1.3168, 1.3047, 1.298, 1.2403, 1.1769, 1.2163, 1.003, 1.08, 1.153, 0.8012, 0.7887, 0.7841, 0.99, 0.6138, 0.6729, 0.0856, 0.9051, 0.3178, 0.6182, 0.5624, 0.474, 0.1355, 0.2385, -0.5926, 0.2654, 0.6819, 0.7117, -0.0821, 0.0988, -0.0241, 0.4857, -0.4195, 0.1004, 0.1935, 1.9998, 1.9587, 1.8658, 1.8465, 1.833, 1.8318, 1.5983, 1.5958, 1.5768, 1.5566, 1.5451, 1.4523, 1.446, 1.4398, 1.4167, 1.413, 1.3985, 1.3861, 1.3813, 1.3751, 1.3612, 1.326, 1.3247, 1.31, 1.3092, 1.3077, 1.2955, 1.2488, 1.2393, 1.2361, 1.2004, 1.1175, 0.8883, 1.0295, 0.9011, 0.8724, 1.0428, 0.9121, 0.7902, 0.5663, 0.7847, 0.7665, -0.4626, 0.0415, 0.3498, 0.2249, 0.2545, 0.2249, -0.2074, -0.6062, -2.3158, 1.9114, 1.8774, 1.8533, 1.7356, 1.7242, 1.6376, 1.5641, 1.5487, 1.5321, 1.5265, 1.4894, 1.4856, 1.477, 1.4247, 1.4147, 1.3712, 1.3626, 1.3393, 1.3109, 1.3076, 1.2842, 1.2693, 1.2651, 1.2623, 1.259, 1.2555, 1.2547, 1.2234, 1.2069, 1.2002, 1.1938, 1.1159, 0.8707, 1.0851, 1.0295, 1.0811, 0.3792, 1.0539, 0.7779, 0.6223, 0.6805, 0.9156, 0.111, 0.5443, 0.3793, 0.6417, 0.9457, 0.2502, 0.4049, 0.0839, 0.0738, 0.4982, 0.2455, 0.8593, 0.6681, -0.2532, 0.5431, 0.6437, -0.1044, -0.2426, 0.0492, -0.1654, 0.4424, -0.0969, -0.4171, 0.3533, -2.3584, 0.4313, 2.306, 2.0661, 1.991, 1.86, 1.745, 1.71, 1.6964, 1.676, 1.6746, 1.6346, 1.6325, 1.5589, 1.5403, 1.5225, 1.5089, 1.5082, 1.5009, 1.4859, 1.469, 1.4599, 1.4278, 1.4032, 1.4014, 1.373, 1.3717, 1.3628, 1.3564, 1.3536, 1.3229, 1.3227, 1.1048, 0.9235, 1.0205, 1.0201, 0.945, 0.357, 0.9187, 0.6982, 0.819, 0.7142, 0.6734, 0.4846, 0.4869, -0.4202, -0.2917, 0.4578, 0.3999, 0.8897, 0.4197, 0.0924, 0.0777, 0.7615, 0.6443, 0.1432, 0.2056, -0.1569, 0.0896, 0.2754, -0.8537, 2.1172, 2.068, 2.0471, 2.0159, 2.0102, 1.9124, 1.9006, 1.8837, 1.7692, 1.7462, 1.7303, 1.6942, 1.6193, 1.5916, 1.55, 1.5157, 1.5097, 1.4847, 1.4814, 1.4491, 1.449, 1.4226, 1.4199, 1.4151, 1.4069, 1.393, 1.3927, 1.3903, 1.3896, 1.3752, 1.371, 1.2973, 1.3342, 1.192, 1.3342, 1.3342, 0.8932, 0.7993, 1.1575, 0.1461, 0.0594, 0.9612, 0.7695, 1.0514, 0.2151, 0.5076, 0.3581, 0.503, 0.529, 0.5563, 0.6425, 0.8645, 0.0361, -0.8899, 0.1029, 0.5374, 0.1821, -0.2767, 0.1022, -0.0903, -0.5184, -0.2237, 0.0294, -0.4105, 2.2482, 2.1903, 2.0938, 2.0879, 2.0482, 2.009, 1.9282, 1.8552, 1.8439, 1.8429, 1.8183, 1.7795, 1.7442, 1.7295, 1.7272, 1.7061, 1.6587, 1.6554, 1.6393, 1.6267, 1.6176, 1.6107, 1.5966, 1.5895, 1.5693, 1.5372, 1.5345, 1.5318, 1.5234, 1.5033, 1.3876, 1.3855, 1.4195, 1.4555, 1.1763, 1.2988, 0.821, 1.1484, 0.6502, 0.9121, 0.1615, 1.1515, 0.8137, 0.8536, 0.903, 0.8358, 1.1105, -0.851, 0.2005, 0.6882, 0.2006, -0.3441, -0.1041, -0.2379, -0.4457, -0.2682, 0.1271, 0.5676, 0.0836, 2.3292, 2.1742, 2.1531, 2.0576, 2.0243, 2.0175, 1.9195, 1.8709, 1.8631, 1.8341, 1.8086, 1.754, 1.7384, 1.7301, 1.7163, 1.7009, 1.6925, 1.6682, 1.6612, 1.6461, 1.637, 1.6346, 1.6342, 1.6259, 1.6125, 1.5988, 1.5931, 1.5905, 1.589, 1.5737, 1.4609, 1.4188, 1.4077, 1.4893, 1.3214, 1.0874, 0.9963, 1.0082, 0.822, 0.9463, 0.7252, 0.4554, 1.2945, 0.4988, 0.7349, 0.5605, 0.0073, 0.3947, 0.2101, -1.0908, -1.3256, -0.2343, 0.627, 0.8551, 0.1198, -1.3909, -0.0739, -0.3139, 2.4553, 2.0168, 1.9879, 1.9476, 1.9159, 1.8418, 1.7986, 1.7307, 1.669, 1.6639, 1.6558, 1.6514, 1.6406, 1.6218, 1.6211, 1.607, 1.5718, 1.5536, 1.5449, 1.5332, 1.5096, 1.4967, 1.4792, 1.4704, 1.4578, 1.4197, 1.4118, 1.3636, 1.3264, 1.3184, 1.3087, 1.2297, 1.2032, 1.2366, 1.2602, 1.2222, 0.4532, 1.1401, 1.0227, 0.6783, 0.7723, 0.881, 0.7739, 0.3821, -0.3767, 0.2078, 0.7818, -0.7719, 0.1559, -0.0871, -0.0011, 0.3299, 0.2435, 0.373, -0.6749, -0.104, -0.2751], \"Freq\": [2707.0, 2231.0, 1799.0, 146.0, 309.0, 221.0, 381.0, 108.0, 422.0, 333.0, 131.0, 81.0, 265.0, 64.0, 239.0, 143.0, 116.0, 74.0, 489.0, 246.0, 506.0, 178.0, 276.0, 281.0, 42.0, 586.0, 185.0, 230.0, 129.0, 129.0, 37.380718179418025, 32.68529577793615, 9.099731198741514, 23.59313219362581, 48.897613910177924, 28.25743086503879, 25.89943345238172, 5.589988018535304, 6.199277629216323, 40.4188702993603, 16.193927213755497, 7.772751181828737, 8.82397787741415, 15.069956289429276, 8.003751887473227, 12.332988596489958, 20.35597293884717, 13.108705664224944, 7.414996041036051, 5.924442473113687, 16.122458061082412, 15.486291061909409, 6.730689570095573, 5.589969033915995, 5.589988018535304, 17.67202411001245, 10.572269398465004, 34.49809082224842, 5.589659757208719, 7.911778655597399, 148.89901741670798, 102.81932851969785, 558.6023781497807, 66.11079012675596, 24.20364993658863, 42.75758762299766, 24.680761724147416, 125.80554659628045, 54.082273402983354, 31.8190144822529, 29.401122321552666, 37.153609665906636, 275.310569629704, 66.71797209951886, 42.947886685544766, 64.81813499190235, 53.1916614191946, 30.67346460409619, 60.516819480264665, 67.37386515367785, 46.94918169993055, 57.129416638630026, 54.637253885796596, 46.3878334306264, 38.52699706695618, 39.52069208183996, 36.819334011924646, 35.64229313760914, 34.05031061669583, 33.6121035235772, 2050.708714830352, 7.054857575957795, 14.391192447489557, 14.39102575734481, 15.733497816327743, 10.809667610899266, 17.294667345218237, 12.047367119046065, 9.575944682032898, 18.333445550198597, 10.916507599214127, 21.171847733363354, 14.056242392532486, 8.420504961504042, 5.542593616405317, 11.954748558260341, 11.696624671886344, 15.456834148386962, 14.159051837131566, 6.803741870921202, 15.566217660421302, 23.492162556139526, 7.16507633753038, 2.9026009736784344, 5.609162944642939, 5.3519714437908155, 5.399568675374021, 3.606107435706557, 3.499526176878956, 5.9932374247036115, 41.260175948002804, 15.60360901807022, 17.145955751910765, 62.05019292260636, 55.79158958430483, 11.898023542240166, 11.897974374643512, 11.897796891611696, 24.501266317725968, 63.97480932594755, 134.16500727036865, 27.743989237884897, 36.96893843951677, 50.25133202834531, 36.46621295505771, 40.12304216315422, 28.551301987553977, 70.27656982201269, 26.457035789989657, 33.10621932083568, 34.60014436644184, 24.327675920512643, 21.189006025385183, 20.673168382345846, 20.54400390673168, 19.25578169500089, 16.97031590536383, 18.09221732892773, 30.671841280868648, 8.358672062910301, 12.436345382400566, 15.588571875729944, 30.04765604013637, 30.047592241045542, 30.04735299445494, 27.478560072591478, 42.99157331793049, 8.55928545584514, 12.214340496091953, 12.238627442846784, 33.670375764393455, 12.561572744270551, 8.468119403225677, 6.709175620924963, 21.46286860663697, 18.144217627804927, 9.257600683041598, 7.989477547348914, 5.883222337640808, 8.730984189401164, 4.232264782548562, 7.157450248837092, 5.633072368486489, 13.180052523451643, 9.886771936649028, 44.7291051000068, 6.4586081095065655, 6.207526787553106, 23.14891452241512, 34.09920363193259, 13.475131293417338, 54.92821915703789, 32.090359380493474, 18.393673212211755, 85.27188702884331, 89.4229475310974, 60.07031195082401, 28.551309885318307, 85.06504126222322, 70.31727532597607, 278.7664087972165, 32.90049162852177, 92.40927360288448, 49.010639300082, 51.62053250767242, 46.37015442843957, 66.55790022770444, 55.51906709427359, 114.1052937084133, 46.275317079923795, 31.085705983069662, 30.283560014089648, 44.6865374351908, 40.23816861260047, 42.2073457793173, 32.459774344699056, 36.91453902614489, 30.80111874573673, 30.566493032138972, 65.12122249402552, 16.56814977496635, 29.381239511646122, 27.599917647221393, 18.213380597262105, 149.58771691374173, 9.904556273335821, 6.074178886593464, 6.208692130011709, 19.16013925030189, 38.5261823056865, 8.880286380299628, 65.94614717995309, 36.97778861092869, 4.563020168076425, 82.54685649498066, 7.9904739173939525, 18.480116592636893, 6.126338013972567, 9.636377719139793, 5.454388426377476, 44.58571503424781, 7.193373765396738, 6.07391162681185, 15.403837366363392, 9.985964246814753, 8.104918527210922, 4.911721733141183, 48.31221798920263, 5.0440802616534475, 28.352450352302768, 76.07241207879034, 586.0391776619107, 38.59470384969535, 63.61845830864904, 62.69081999998541, 27.075214782639613, 37.01743751186363, 42.58259760439269, 63.51803732403958, 34.77447750465825, 35.18762248706422, 122.42352716380643, 55.147108910860545, 37.23830786471671, 42.32632016047188, 39.26052631896377, 29.715636238399824, 33.48959980790639, 34.55594916322477, 28.87373143301393, 8.746529880614025, 11.705597282052196, 8.746354750962617, 17.52520373338646, 6.050356665539282, 7.397410417793351, 57.169864156792926, 11.13458346911177, 14.505815944763368, 8.806765263348263, 18.608568046795707, 7.970469458300216, 10.111563098337632, 6.622078166135395, 4.804257988271799, 4.130142481927533, 7.2622272253816025, 3.455004361800045, 4.130127887789915, 24.070632464605662, 4.491849733535325, 4.0277336260042595, 12.120080007734254, 8.092257792754282, 4.6184531092531, 4.8039681538194685, 12.628856224674346, 7.091708297310787, 10.609011192036656, 4.803480146340545, 6.891999557780314, 18.712566383531758, 63.15845023873563, 13.057182386017692, 16.66568993557676, 11.615785471230192, 271.06258561269294, 12.91385361651546, 39.08292438539063, 64.09969325550236, 51.24794614378617, 20.94084028094502, 257.04603582721285, 62.95739320571932, 88.33632200174247, 35.239543393693396, 18.243268076959033, 64.83245210339307, 48.34984741648814, 47.42651063846536, 44.56288070384442, 27.008853292626245, 32.50681621652479, 17.731688761446406, 20.099697685983013, 40.56479161190347, 21.25266937885184, 19.905774881924053, 29.520736858619472, 30.495770680757843, 26.30470919596558, 27.038942819868137, 21.267095555867815, 24.8109208633569, 25.91000383109251, 21.22188547790437, 26.403236523357645, 20.246155233760398, 12.68464417611016, 25.25768077572136, 9.843948873496942, 10.027012993142952, 8.86784045636797, 4.594865000100536, 22.272066404483752, 12.56907817704687, 5.116877360073644, 6.389046336861586, 6.8450832950066065, 19.890495500376186, 7.624543131844653, 4.63502526484835, 3.8452761141338985, 5.981719300782371, 3.8448521622769327, 5.231605148388703, 19.925419717366335, 4.046326223992625, 24.280579983532537, 9.054624828563945, 15.732933263569805, 7.502641625771336, 6.504048759204838, 15.913811388665364, 3.848924131010902, 10.0252377957103, 6.0949276013313645, 5.424551015781885, 79.02114774841966, 118.59375660311528, 39.01563073645078, 33.3718432993063, 42.74550240094974, 296.3024037689048, 32.04961569351074, 62.33299210095736, 27.93496467743205, 34.41850635220234, 35.740265003085895, 47.95407383184453, 41.78420760483051, 165.30465681114163, 124.91620672677412, 37.67045757299221, 36.75715865046549, 18.779240370328512, 34.28513114415793, 40.92211708167146, 37.86431319445189, 21.666741619602004, 22.254827695769595, 26.450818387451896, 25.070023113472715, 28.146361797391588, 24.689026787935102, 22.759452721554464, 23.20437092490096, 11.955375119972361, 5.863809405859051, 7.620279911538427, 12.11224997904008, 9.951306168509063, 18.79704947058256, 20.65565042212408, 8.162181137524742, 7.490247447247537, 12.628153138598847, 11.578573791993227, 21.194999282272097, 4.6123622738285075, 4.321217719826821, 5.075808374776638, 3.8666497061921, 8.490156355852376, 7.078583447816459, 4.944632865170577, 13.170298731073478, 13.16978893202027, 5.154373886056097, 14.746894013954767, 3.319619943862653, 4.697675249436187, 11.11653827553282, 43.23475160593015, 9.382529684666457, 7.785378966902546, 4.615840283071683, 5.864093376571335, 23.862950469544145, 11.62686398065656, 74.07943465754082, 11.626820163217277, 11.62662888324194, 101.45876833535671, 58.37583067425695, 14.978364692831416, 219.04591365156185, 243.76404571304158, 24.148967119184995, 35.91207215822178, 18.019861235286562, 61.67646355263828, 39.69919995325774, 37.49765001615631, 30.809706623345193, 27.775246150467396, 26.619470183898375, 23.171448922054335, 18.661663694911443, 33.15336662776173, 62.68932725569608, 29.885499082248145, 21.31912903190558, 23.43811848696513, 27.206775546056715, 22.821261632581916, 24.246486200884018, 25.599324359488786, 22.63278934393198, 21.547082518636618, 19.936673654917012, 51.6872600569318, 17.189786861494937, 20.578665926407446, 16.353973557723595, 30.960246555245906, 18.383002936211685, 16.68959978086613, 11.372684645200948, 8.58034542386455, 30.780912062066264, 10.274758015567318, 14.201653188496955, 26.897429387685104, 6.553217052294378, 7.509773761802666, 5.623268125397848, 6.719092955310229, 5.456831097000778, 8.746270998894643, 18.56928309239967, 5.623361155187233, 5.623497963701033, 18.38195393062279, 8.747602040496604, 4.526171607731032, 6.720682880715229, 7.393662481868373, 11.370970539760345, 8.912696661661336, 3.4292287365489456, 129.45127690123698, 30.854497362621508, 18.406084426761574, 10.85430834647576, 34.024740426408286, 19.05256821780964, 81.47155282525767, 26.412554757819404, 95.21721018782979, 37.0659541189638, 179.23579572924467, 20.579145808578932, 36.88857619800614, 28.59224188119744, 21.902822482055925, 23.317201937334893, 16.690564596600378, 80.74448924053034, 32.39924985921189, 21.206540391984444, 26.565520988523758, 29.414948508397416, 27.062416245835887, 26.8246203175897, 27.507261967411353, 24.43362844562855, 23.012830355831333, 20.57363474069377, 21.220194302611016, 36.615750341342526, 79.3671479082244, 7.849092936951238, 19.754793097821103, 31.99186334382502, 13.057175413806833, 42.040378442519525, 5.917041497828611, 16.334414126809293, 10.307102015776293, 5.91754858115837, 14.403520025961667, 7.018062165753667, 5.770907426441937, 6.736931701909146, 13.728372199149598, 13.204925220197037, 3.985602767204514, 10.013736361483693, 56.63838081047911, 8.815552503641308, 12.76565819996771, 4.804423929049568, 7.409417444389558, 6.506900714243677, 59.040481992356185, 9.194930878374628, 5.477428720210888, 6.443600293276734, 11.12610472088017, 42.87654358715528, 46.871617548692285, 29.366133874942538, 14.696765201546139, 37.552203282938954, 104.23711541941161, 69.5180366242352, 32.2237435971406, 47.56599080661377, 27.733073042947833, 37.67937268535161, 52.59233280265097, 14.490301004465865, 42.79563800866392, 30.975343223514347, 32.25414714181376, 49.06551171820437, 29.943167472720035, 32.578987446006586, 62.26987910547884, 59.75380836649885, 33.308335837937065, 21.313109269371612, 19.525348824960286, 24.830452145314357, 37.19885408553778, 21.73483756040532, 21.50521834585873, 117.30895493958519, 17.653178449494085, 4.814587580565933, 5.541614607770485, 7.00498224494389, 19.42929001353875, 17.653188034539014, 5.754869876148585, 10.176752346456022, 3.2452384439286446, 4.488684413975391, 111.04851844539294, 7.312137748298142, 15.28275849821692, 5.858860082528338, 7.739963490147901, 12.409516674976308, 2.7826853996527694, 7.576367312581113, 9.707784853184025, 2.8191196958839417, 8.928687754045326, 16.09608516209146, 7.107139653803884, 3.9106261011289463, 4.734608938704002, 3.2582361071762556, 3.2584473204877407, 3.4636004873160386, 15.317398850592602, 10.178083298409108, 58.14523224843416, 29.750035066742267, 12.145654080984928, 9.544628218391868, 10.722067461176785, 195.13525853106174, 13.822575492221384, 18.047277156820744, 37.526984506689345, 29.260981427174166, 19.919640372756618, 23.785275299954982, 40.55138933493088, 105.51207599633109, 41.53790132917824, 19.800970670067137, 86.25176621702532, 30.7178918249723, 37.04119799815011, 24.39441859815428, 16.83864817783481, 15.722988657497753, 14.468929304129642, 17.786695386779563, 15.060875662433054, 14.74620959173037], \"logprob\": [30.0, 29.0, 28.0, 27.0, 26.0, 25.0, 24.0, 23.0, 22.0, 21.0, 20.0, 19.0, 18.0, 17.0, 16.0, 15.0, 14.0, 13.0, 12.0, 11.0, 10.0, 9.0, 8.0, 7.0, 6.0, 5.0, 4.0, 3.0, 2.0, 1.0, -5.0665998458862305, -5.200900077819824, -6.479499816894531, -5.526800155639648, -4.798099994659424, -5.346399784088135, -5.433599948883057, -6.966800212860107, -6.863399982452393, -4.988500118255615, -5.903200149536133, -6.637199878692627, -6.510300159454346, -5.975100040435791, -6.607900142669678, -6.17549991607666, -5.6743998527526855, -6.114500045776367, -6.684299945831299, -6.908699989318848, -5.907599925994873, -5.947800159454346, -6.781099796295166, -6.966800212860107, -6.966800212860107, -5.815800189971924, -6.329599857330322, -5.146900177001953, -6.966899871826172, -6.6194000244140625, -3.684499979019165, -4.054800033569336, -2.3624000549316406, -4.496500015258789, -5.501299858093262, -4.932199954986572, -5.481800079345703, -3.853100061416626, -4.697299957275391, -5.227700233459473, -5.30679988861084, -5.072700023651123, -3.0699000358581543, -4.487299919128418, -4.927800178527832, -4.516200065612793, -4.713900089263916, -5.264400005340576, -4.58489990234375, -4.477499961853027, -4.838699817657471, -4.642499923706055, -4.687099933624268, -4.850800037384033, -5.036399841308594, -5.011000156402588, -5.0817999839782715, -5.114299774169922, -5.159999847412109, -5.0320000648498535, -0.9208999872207642, -6.593100070953369, -5.880199909210205, -5.880300045013428, -5.791100025177002, -6.166399955749512, -5.696499824523926, -6.058000087738037, -6.287600040435791, -5.6381001472473145, -6.156599998474121, -5.494200229644775, -5.903800010681152, -6.416200160980225, -6.834400177001953, -6.065700054168701, -6.087600231170654, -5.808800220489502, -5.896500110626221, -6.62939977645874, -5.801799774169922, -5.390200138092041, -6.577600002288818, -7.481299877166748, -6.822500228881836, -6.8694000244140625, -6.860499858856201, -7.264200210571289, -7.2941999435424805, -6.756199836730957, -4.827000141143799, -5.7993998527526855, -5.705100059509277, -4.418900012969971, -4.525199890136719, -6.070499897003174, -6.070499897003174, -6.070499897003174, -5.348100185394287, -4.388400077819824, -3.6477999687194824, -5.223800182342529, -4.936800003051758, -4.629799842834473, -4.950500011444092, -4.854899883270264, -5.195199966430664, -4.294400215148926, -5.271299839019775, -5.047100067138672, -5.002999782562256, -5.355199813842773, -5.4934000968933105, -5.51800012588501, -5.5243000984191895, -5.589099884033203, -5.715400218963623, -5.651400089263916, -5.072199821472168, -6.372300148010254, -5.974999904632568, -5.749000072479248, -5.092800140380859, -5.092800140380859, -5.092800140380859, -5.182199954986572, -4.734600067138672, -6.348599910736084, -5.993000030517578, -5.991000175476074, -4.979000091552734, -5.964900016784668, -6.359300136566162, -6.592100143432617, -5.429299831390381, -5.5971999168396, -6.270100116729736, -6.417500019073486, -6.723499774932861, -6.328700065612793, -7.052800178527832, -6.527400016784668, -6.766900062561035, -5.916900157928467, -6.204400062561035, -4.695000171661377, -6.630199909210205, -6.6697998046875, -5.353600025177002, -4.966300010681152, -5.894700050354004, -4.48960018157959, -5.0269999504089355, -5.583600044250488, -4.049699783325195, -4.002200126647949, -4.400100231170654, -5.143899917602539, -4.052199840545654, -4.242599964141846, -2.8652000427246094, -5.002099990844727, -3.969399929046631, -4.603499889373779, -4.551700115203857, -4.658899784088135, -4.297500133514404, -4.478899955749512, -3.758500099182129, -4.660999774932861, -5.058800220489502, -5.085000038146973, -4.695899963378906, -4.80079984664917, -4.752999782562256, -5.015600204467773, -4.88700008392334, -5.067999839782715, -5.075699806213379, -4.259699821472168, -5.628499984741211, -5.055600166320801, -5.118199825286865, -5.53380012512207, -3.428100109100342, -6.14300012588501, -6.631899833679199, -6.610000133514404, -5.483099937438965, -4.784599781036377, -6.252099990844727, -4.247099876403809, -4.825699806213379, -6.918000221252441, -4.022600173950195, -6.357699871063232, -5.5192999839782715, -6.6234002113342285, -6.170400142669678, -6.739500045776367, -4.638599872589111, -6.462800025939941, -6.631999969482422, -5.701399803161621, -6.134799957275391, -6.343500137329102, -6.844299793243408, -4.558300018310547, -6.817800045013428, -5.091300010681152, -4.104300022125244, -2.0625998973846436, -4.782899856567383, -4.283100128173828, -4.297800064086914, -5.13730001449585, -4.8246002197265625, -4.684500217437744, -4.284599781036377, -4.8871002197265625, -4.87529993057251, -3.628499984741211, -4.426000118255615, -4.818600177764893, -4.6905999183654785, -4.765699863433838, -5.044300079345703, -4.924699783325195, -4.893400192260742, -5.072999954223633, -6.220399856567383, -5.928999900817871, -6.220399856567383, -5.525400161743164, -6.588900089263916, -6.387899875640869, -4.3429999351501465, -5.979000091552734, -5.7144999504089355, -6.213500022888184, -5.465400218963623, -6.313300132751465, -6.075399875640869, -6.498700141906738, -6.8196001052856445, -6.970799922943115, -6.406400203704834, -7.149199962615967, -6.970799922943115, -5.208099842071533, -6.8867998123168945, -6.9959001541137695, -5.894199848175049, -6.2982001304626465, -6.859000205993652, -6.8196001052856445, -5.853099822998047, -6.430099964141846, -6.027400016784668, -6.819699764251709, -6.458700180053711, -5.45989990234375, -4.2434000968933105, -5.819699764251709, -5.575699806213379, -5.936699867248535, -2.7867000102996826, -5.8308000564575195, -4.723400115966797, -4.228600025177002, -4.452400207519531, -5.347400188446045, -2.8397998809814453, -4.246600151062012, -3.907900094985962, -4.826900005340576, -5.485300064086914, -4.217299938201904, -4.5106000900268555, -4.529900074005127, -4.592199802398682, -5.092899799346924, -4.907599925994873, -5.513700008392334, -5.388400077819824, -4.686200141906738, -5.332600116729736, -5.398099899291992, -5.004000186920166, -4.971499919891357, -5.11929988861084, -5.091800212860107, -5.331900119781494, -5.177800178527832, -5.134399890899658, -5.334000110626221, -5.115600109100342, -5.381100177764893, -5.744800090789795, -5.056099891662598, -5.9984002113342285, -5.979899883270264, -6.102799892425537, -6.760300159454346, -5.1819000244140625, -5.754000186920166, -6.652699947357178, -6.430600166320801, -6.361700057983398, -5.295000076293945, -6.253900051116943, -6.7515997886657715, -6.938399791717529, -6.496500015258789, -6.938499927520752, -6.630499839782715, -5.2932000160217285, -6.887400150299072, -5.0954999923706055, -6.081900119781494, -5.5295000076293945, -6.269999980926514, -6.412799835205078, -5.51800012588501, -6.937399864196777, -5.980100154876709, -6.477799892425537, -6.594299793243408, -3.9154999256134033, -3.509500026702881, -4.621300220489502, -4.777500152587891, -4.53000020980835, -2.5938000679016113, -4.81790018081665, -4.152699947357178, -4.9552998542785645, -4.746600151062012, -4.708899974822998, -4.414999961853027, -4.552700042724609, -3.1774001121520996, -3.4576001167297363, -4.656300067901611, -4.6809000968933105, -5.352499961853027, -4.750500202178955, -4.573599815368652, -4.651199817657471, -5.209400177001953, -5.182700157165527, -5.009900093078613, -5.063600063323975, -4.947800159454346, -5.07889986038208, -5.160200119018555, -5.140900135040283, -5.712800025939941, -6.42519998550415, -6.1631999015808105, -5.69980001449585, -5.896299839019775, -5.260300159454346, -5.165999889373779, -6.0945000648498535, -6.1803998947143555, -5.658100128173828, -5.744800090789795, -5.140200138092041, -6.665200233459473, -6.730400085449219, -6.569499969482422, -6.841599941253662, -6.055099964141846, -6.2368998527526855, -6.595699787139893, -5.616000175476074, -5.616099834442139, -6.554100036621094, -5.502999782562256, -6.994100093841553, -6.646900177001953, -5.785600185394287, -4.427299976348877, -5.955100059509277, -6.14169979095459, -6.6645002365112305, -6.425099849700928, -5.021699905395508, -5.740699768066406, -3.8887999057769775, -5.740699768066406, -5.740699768066406, -3.5743000507354736, -4.127099990844727, -5.487400054931641, -2.8046998977661133, -2.6977999210357666, -5.009699821472168, -4.6128997802734375, -5.302499771118164, -4.0721001625061035, -4.512700080871582, -4.569699764251709, -4.766200065612793, -4.869800090789795, -4.912300109863281, -5.05109977722168, -5.267499923706055, -4.692800045013428, -4.055799961090088, -4.796599864959717, -5.134399890899658, -5.039599895477295, -4.890500068664551, -5.066299915313721, -5.00570011138916, -4.951399803161621, -5.0746002197265625, -5.123700141906738, -5.201399803161621, -4.247900009155273, -5.348800182342529, -5.168799877166748, -5.398600101470947, -4.76039981842041, -5.281700134277344, -5.378300189971924, -5.761899948120117, -6.043600082397461, -4.766200065612793, -5.863399982452393, -5.539700031280518, -4.901100158691406, -6.3130998611450195, -6.1768999099731445, -6.46619987487793, -6.2881999015808105, -6.496200084686279, -6.024499893188477, -5.271599769592285, -6.46619987487793, -6.46619987487793, -5.281700134277344, -6.0243000984191895, -6.683199882507324, -6.287899971008301, -6.192500114440918, -5.76200008392334, -6.0055999755859375, -6.9608001708984375, -3.3297998905181885, -4.763800144195557, -5.280399799346924, -5.808499813079834, -4.665999889373779, -5.2459001541137695, -3.792799949645996, -4.919300079345703, -3.636899948120117, -4.580399990081787, -3.0044000148773193, -5.168799877166748, -4.58519983291626, -4.840000152587891, -5.106500148773193, -5.043900012969971, -5.378300189971924, -3.801800012588501, -4.715000152587891, -5.138800144195557, -4.91349983215332, -4.811600208282471, -4.894999980926514, -4.903800010681152, -4.878699779510498, -4.997099876403809, -5.05709981918335, -5.169099807739258, -5.138199806213379, -4.5725998878479, -3.7990000247955322, -6.11269998550415, -5.189700126647949, -4.707600116729736, -5.603700160980225, -4.4344000816345215, -6.395199775695801, -5.379799842834473, -5.840199947357178, -6.395100116729736, -5.5055999755859375, -6.224599838256836, -6.420199871063232, -6.265500068664551, -5.553599834442139, -5.59250020980835, -6.79040002822876, -5.869100093841553, -4.13640022277832, -5.996500015258789, -5.626299858093262, -6.603499889373779, -6.170300006866455, -6.30019998550415, -4.094799995422363, -5.954400062561035, -6.472400188446045, -6.309999942779541, -5.763800144195557, -4.414700031280518, -4.325699806213379, -4.7932000160217285, -5.485400199890137, -4.547299861907959, -3.526400089263916, -3.93149995803833, -4.700399875640869, -4.3109002113342285, -4.850399971008301, -4.544000148773193, -4.2104997634887695, -5.499599933624268, -4.416600227355957, -4.7399001121521, -4.699399948120117, -4.279900074005127, -4.773799896240234, -4.6894001960754395, -4.041600227355957, -4.082799911499023, -4.667300224304199, -5.113699913024902, -5.201399803161621, -4.960999965667725, -4.55679988861084, -5.094099998474121, -5.104800224304199, -3.2214999198913574, -5.1153998374938965, -6.414700031280518, -6.274099826812744, -6.039700031280518, -5.019599914550781, -5.1153998374938965, -6.236299991607666, -5.666200160980225, -6.809199810028076, -6.484799861907959, -3.276400089263916, -5.996799945831299, -5.2596001625061035, -6.218400001525879, -5.939899921417236, -5.467899799346924, -6.962900161743164, -5.961299896240234, -5.713399887084961, -6.949900150299072, -5.797100067138672, -5.207799911499023, -6.025199890136719, -6.622600078582764, -6.431399822235107, -6.805200099945068, -6.805099964141846, -6.74399995803833, -5.257400035858154, -5.666100025177002, -3.9233999252319336, -4.593500137329102, -5.4893999099731445, -5.730400085449219, -5.613999843597412, -2.7126998901367188, -5.360000133514404, -5.093400001525879, -4.361299991607666, -4.610099792480469, -4.99459981918335, -4.817299842834473, -4.28380012512207, -3.327500104904175, -4.259699821472168, -5.0005998611450195, -3.529099941253662, -4.561500072479248, -4.374300003051758, -4.791999816894531, -5.162700176239014, -5.231200218200684, -5.314300060272217, -5.107900142669678, -5.274199962615967, -5.295400142669678], \"Term\": [\"exhibit\", \"motion\", \"order\", \"ex\", \"judge\", \"pennsylvania\", \"sign_judge\", \"notice_appearance_behalf\", \"court\", \"dismiss\", \"minute_entry_proceeding_hold\", \"serve_answer_due\", \"attachment\", \"cal\", \"inc..\", \"llc\", \"mro\", \"han\", \"notice\", \"complaint\", \"defendant\", \"l.p.\", \"stipulation\", \"case\", \"tro\", \"'s\", \"declaration_support\", \"summary_judgment\", \"declaration_opposition\", \"djc\", \"sign_judge_gr\", \"associate_case_rjm\", \"application_grant\", \"revise_schedule_order\", \"notice_appeal\", \"affidavit_service_summons_complaint\", \"transmit\", \"see_attached\", \"edt\", \"service_accept\", \"s.d.n.y\", \"usca\", \"usca_case\", \"endorsement_application_grant\", \"strike\", \"attorney_terminate\", \"loan\", \"dated\", \"custodian\", \"applicable\", \"jco\", \"db\", \"office\", \"answer_otherwise_respond\", \"compel\", \"notice_change_address\", \"purpose\", \"august\", \"jr\", \"effect\", \"shall\", \"stipulation\", \"order\", \"l.p.\", \"provide\", \"attorney\", \"number\", \"defendant\", \"may\", \"dismissal\", \"submit\", \"clerk\", \"motion\", \"letter\", \"judgment\", \"plaintiff\", \"memorandum_law_support\", \"time\", \"date\", \"notice\", \"complaint\", \"sign_judge\", \"'s\", \"court\", \"magistrate_judge\", \"party\", \"case\", \"schedule\", \"grant\", \"court_reportertranscriber\", \"exhibit\", \"q\", \"party_shall_comply\", \"discovery_ruling_conference\", \"mp\", \"mbe\", \"erratum\", \"k\", \"n\", \"yv\", \"gr\", \"fund\", \"h\", \"p\", \"u\", \"g\", \"l\", \"dle\", \"judge_d._kan._gr\", \"initial_pretrial_conference\", \"judge_d._kan._magistrate\", \"keely\", \"haas\", \"new_york_observer_l.p.\", \"corporate_parent\", \"notice_conversion\", \"confirm\", \"rj\", \"attempt\", \"new_york_ny\", \"march\", \"f\", \"j\", \"attachment\", \"inc..\", \"public_terminal_purchase_court\", \"reportertranscriber_deadline_release_transcript\", \"transcript_may_view_court\", \"seal\", \"notice\", \"order\", \"hereby\", \"plaintiff\", \"'s\", \"letter\", \"party\", \"b\", \"motion\", \"conference\", \"shall\", \"defendant\", \"l.p.\", \"counsel\", \"magistrate_judge\", \"complaint\", \"judge\", \"propose\", \"court\", \"tp\", \"sign_judge_sr\", \"usa\", \"period\", \"request_redaction_transcript\", \"party_calendar_day\", \"court_notice_intent\", \"supplemental_amend\", \"november\", \"receive_night_deposit_box\", \"designate\", \"status_conference_hold\", \"keely\", \"new_address\", \"ago\", \"associate_case_thk\", \"redaction_request_due\", \"address_judge\", \"jar\", \"light\", \"anc\", \"settle\", \"flasr\", \"corporate_parent\", \"position\", \"would\", \"name\", \"deny\", \"subpoena\", \"copy_mail_chamber\", \"opinion\", \"cd\", \"also\", \"discovery\", \"deposition\", \"p.m.\", \"dismiss\", \"date\", \"inc..\", \"letter_address_judge\", \"party\", \"request\", \"motion\", \"mro\", \"'s\", \"summary_judgment\", \"schedule\", \"magistrate_judge\", \"defendant\", \"sign_judge\", \"order\", \"letter\", \"serve\", \"djc\", \"court\", \"plaintiff\", \"shall\", \"claim\", \"notice\", \"grant\", \"counsel\", \"serve_answer_due\", \"b_rule_..\", \"date_may_obtain\", \"pacer\", \"dismiss_pursuant_rule\", \"pennsylvania\", \"h.o\", \"associate_case_j\", \"rule_certificate\", \"dismiss.._document\", \"appear_pro_hac_vice\", \"affidavit_service_summons\", \"memorandum_law_opposition\", \"p.c\", \"scileppi\", \"declaration_support\", \"error_deficient_docket_entry\", \"redaction_request_due\", \"firm\", \"oppose\", \"calculation\", \"support\", \"admit\", \"york_ny_judge\", \"electronic\", \"pro_se\", \"pro_hac_vice\", \"dispositive\", \"declaration_opposition\", \"summons_return_execute\", \"rule_statement\", \"summary_judgment\", \"motion\", \"attorney\", \"inc..\", \"memorandum_law_support\", \"reply_memorandum_law_support\", \"opposition\", \"plaintiff_'s\", \"dismiss\", \"defendant_'\", \"amend_complaint\", \"order\", \"notice\", \"grant\", \"request\", \"case\", \"counsel\", \"sign_judge\", \"'s\", \"exhibit\", \"date_purs\", \"magistrate_judge_designate\", \"set_answer_due\", \"sc\", \"attached\", \"pa\", \"mro\", \"district_judge\", \"associated_case_et_al\", \"judge_jury_trial\", \"sign_judge_copy_mail\", \"conference_hold\", \"base\", \"general\", \"international_inc..\", \"dismiss_pursuant_frcp\", \"within_day\", \"service_accept_legal_clerk\", \"deft\", \"stay\", \"affect\", \"telephone\", \"default\", \"agent\", \"claim_assert\", \"jr\", \"counterclaim\", \"appendix\", \"certain_underwriter_syndicate\", \"court_reporter\", \"certificate\", \"rjm\", \"schedule\", \"'\", \"second_amend_complaint\", \"honor\", \"order\", \"limine\", \"claim\", \"dismiss\", \"magistrate_judge\", \"answer_complaint\", \"motion\", \"date\", \"'s\", \"action\", \"number\", \"notice\", \"request\", \"court\", \"party\", \"judgment\", \"complaint\", \"set_forth\", \"affidavit_service\", \"defendant\", \"declaration\", \"june\", \"plaintiff\", \"shall\", \"grant\", \"letter\", \"sign_magistrate_judge\", \"attachment\", \"sign_judge\", \"propose\", \"exhibit\", \"attorney\", \"judge_longer_assigned\", \"answer_due_answer_due\", \"jv\", \"p.\", \"support_paper_review\", \"aim_exploration_inc.._basile\", \"reiter\", \"worcester\", \"modify_ldi\", \"expert_discovery_due\", \"modify_gf\", \"answer_due\", \"amendment\", \"reasonable\", \"stock\", \"grant_part\", \"jsa\", \"deny_part\", \"inc.._attachment\", \"new_york_new_jersey\", \"e\", \"reply_paper\", \"mark\", \"master\", \"initial_pretrial_conference\", \"withdraw_attorney\", \"available\", \"lmb\", \"merrill\", \"notice_conversion\", \"case\", \"defendant\", \"amend_complaint\", \"declaration_opposition\", \"l.p.\", \"motion\", \"opposition\", \"dismiss\", \"sign_magistrate_judge\", \"may\", \"b\", \"plaintiff\", \"stipulation\", \"exhibit\", \"order\", \"schedule\", \"attachment\", \"service\", \"memorandum_law_support\", \"party\", \"shall\", \"c\", \"march\", \"complaint\", \"counsel\", \"date\", \"grant\", \"declaration_support\", \"'s\", \"response_due_reply\", \"sn\", \"notice_case_reassignment\", \"summary_judgment_favor\", \"case_designate\", \"release_transcript_restriction_set\", \"judge_c.d\", \"kgo\", \"bank\", \"redaction_calendar_day_mcguirk\", \"redact\", \"date_november\", \"unredacted\", \"appeal_bond\", \"united_state_courthouse_pearl\", \"cross\", \"civ\", \"york_ny_magistrate_judge\", \"pc\", \"electronically_available_public_without\", \"transcript_may_make_remotely\", \"summons_complaint\", \"second\", \"assignment\", \"summons_return_execute\", \"rule_corporate_disclosure_statement\", \"due\", \"erratum\", \"represent\", \"execute\", \"doc\", \"trial\", \"court_reportertranscriber_abovecaptioned_matter\", \"attachment\", \"official_transcript_notice\", \"hereby_give_official_transcript\", \"notice\", \"letter\", \"rule\", \"motion\", \"exhibit\", \"c\", \"b\", \"han\", \"'s\", \"case\", \"judge\", \"counsel\", \"conference\", \"action\", \"modify\", \"plaintiff_'\", \"shall\", \"order\", \"plaintiff\", \"defendant_'\", \"summary_judgment\", \"court\", \"grant\", \"request\", \"defendant\", \"dismiss\", \"complaint\", \"date\", \"cal\", \"associate_case_et_al\", \"return_date\", \"cyr\", \"mail\", \"cf\", \"service_make\", \"jpo\", \"pursuant_u.s.c\", \"sac\", \"rule_deposition_objection\", \"jp\", \"associate_case\", \"corp..\", \"via\", \"certify_class\", \"associated_case_ft\", \"conclude\", \"office_p.c\", \"dkt\", \"counsel_record\", \"post\", \"reiter\", \"jury_demand\", \"certify_copy_docket_sheet\", \"place\", \"a.m._courtroom\", \"ae\", \"rule_disclosure_statement\", \"note_attorney_manually_refile\", \"sign_judge\", \"sign_judge_iii\", \"memorandum\", \"s.d.n.y\", \"april\", \"require\", \"court\", \"leave\", \"'s\", \"discovery\", \"order\", \"amend\", \"conference\", \"modify\", \"issue\", \"follow\", \"set\", \"motion\", \"request\", \"march\", \"schedule\", \"notice\", \"date\", \"party\", \"defendant\", \"shall\", \"inc..\", \"opposition\", \"summary_judgment\", \"tro\", \"notice_appearance_behalf\", \"judge_iii\", \"wellington\", \"sign_judge_s.d.n.y\", \"note_attorney\", \"han\", \"nonecf_case_error\", \"transcript_proceeding_conference_hold\", \"street_new_york_ny\", \"contempt\", \"magistrate_judge_discovery_hear\", \"award\", \"conference_call\", \"local_civil_rule\", \"ama\", \"note_attorney_refile_document\", \"line\", \"status_conference_set_pm\", \"minute_entry_proceeding_hold\", \"report_recommendation\", \"respectfully_request\", \"kco\", \"propose_finding_fact_conclusion\", \"inform\", \"llc\", \"individual_rule\", \"transcript_proceeding\", \"enclose\", \"correct\", \"declaration\", \"hold\", \"judge_date\", \"telephone_conference_hold\", \"endorsed_letter_address\", \"court\", \"judge\", \"regard\", \"magistrate_judge\", \"djc\", \"counsel\", \"party\", \"chamber\", \"request\", \"plaintiff_'s\", \"pennsylvania\", \"'s\", \"grant\", \"plaintiff\", \"motion\", \"exhibit\", \"defendant\", \"serve\", \"affidavit_service\", \"attachment\", \"order\", \"case\", \"date\", \"ex\", \"judge_d._kan._gr\", \"oral_argument_set_pm\", \"cote\", \"iv\", \"nd\", \"judge_d._kan._magistrate\", \"nm\", \"ltd..\", \"comply\", \"transaction\", \"judge\", \"lb\", \"crossclaim\", \"amend_notice_appeal\", \"call\", \"terminate\", \"hereby_stipulate_agree_undersigned\", \"ja\", \"associated_case_et_al\", \"without_cost_either_party\", \"ae\", \"jmi\", \"pretrial_conference_hold\", \"demand\", \"dismissal_without_prejudice\", \"copy_mail\", \"telephone_conference_set\", \"associate_case_thk\", \"rjm\", \"telephone_conference_hold\", \"complaint\", \"djc\", \"related\", \"show_cause\", \"report\", \"order\", \"motion_dismiss_thirdparty\", \"dismissal\", \"stipulation\", \"b\", \"clerk\", \"judgment\", \"party\", \"motion\", \"notice\", \"minute_entry_proceeding_hold\", \"exhibit\", \"sign_judge\", \"'s\", \"date\", \"discovery\", \"plaintiff_'s\", \"propose\", \"defendant\", \"memorandum_law_support\", \"case\"]}, \"token.table\": {\"Freq\": [0.04673558883767318, 0.04673558883767318, 0.09347117767534636, 0.18694235535069273, 0.3037813274448757, 0.09347117767534636, 0.02336779441883659, 0.09347117767534636, 0.07010338325650978, 0.02336779441883659, 0.0937934511383464, 0.08526677376213308, 0.15689086372232489, 0.05968674163349316, 0.15006952182135425, 0.03922271593058122, 0.10573079946504503, 0.16200687014805287, 0.08356143828689043, 0.06309741258397848, 0.21269296600186816, 0.05317324150046704, 0.05317324150046704, 0.21269296600186816, 0.10634648300093408, 0.3722126905032693, 0.12782750507025223, 0.08336576417625145, 0.172289245964253, 0.061134893729251065, 0.19452011641125339, 0.011115435223500194, 0.15005837551725262, 0.10003891701150174, 0.044461740894000776, 0.061134893729251065, 0.05431402287371209, 0.027157011436856046, 0.48882620586340886, 0.05431402287371209, 0.10862804574742418, 0.13578505718428024, 0.08147103431056814, 0.027157011436856046, 0.027157011436856046, 0.22596353975985087, 0.395436194579739, 0.2824544246998136, 0.13791826917038855, 0.13791826917038855, 0.03447956729259714, 0.3792752402185685, 0.31031610563337425, 0.08289624940604604, 0.08289624940604604, 0.16579249881209207, 0.08289624940604604, 0.33158499762418414, 0.08289624940604604, 0.16579249881209207, 0.10004014613759565, 0.040016058455038264, 0.08003211691007653, 0.1400562045926339, 0.2000802922751913, 0.10004014613759565, 0.05002007306879783, 0.05002007306879783, 0.2000802922751913, 0.040016058455038264, 0.051986873711543286, 0.051986873711543286, 0.4678818634038896, 0.051986873711543286, 0.10397374742308657, 0.051986873711543286, 0.15596062113462986, 0.6168479773986328, 0.0660908547212821, 0.02203028490709403, 0.08812113962837612, 0.17624227925675223, 0.1350454310927858, 0.09003028739519053, 0.04501514369759527, 0.36012114958076213, 0.09003028739519053, 0.04501514369759527, 0.09003028739519053, 0.09003028739519053, 0.04501514369759527, 0.4778615758361943, 0.17919809093857286, 0.23893078791809716, 0.05973269697952429, 0.11181677885364574, 0.5590838942682287, 0.11181677885364574, 0.11181677885364574, 0.11181677885364574, 0.11488627018706024, 0.3733803781079458, 0.08616470264029519, 0.02872156754676506, 0.14360783773382532, 0.14360783773382532, 0.08616470264029519, 0.0663050914005416, 0.09945763710081239, 0.1326101828010832, 0.09945763710081239, 0.46413563980379113, 0.1326101828010832, 0.10420048221271015, 0.052100241106355076, 0.169325783595654, 0.03907518082976631, 0.07815036165953262, 0.1302506027658877, 0.052100241106355076, 0.27352626580836414, 0.03907518082976631, 0.052100241106355076, 0.05286700868711388, 0.09251726520244928, 0.11234239346011698, 0.2312931630061232, 0.09912564128833852, 0.25772666734968014, 0.09912564128833852, 0.019825128257667704, 0.01321675217177847, 0.02643350434355694, 0.23801802796516203, 0.29752253495645253, 0.05950450699129051, 0.35702704194774304, 0.05686905229922819, 0.17060715689768455, 0.05686905229922819, 0.4549524183938255, 0.17060715689768455, 0.05686905229922819, 0.4681558767651658, 0.15605195892172194, 0.07802597946086097, 0.2340779383825829, 0.295175061629839, 0.03689688270372987, 0.08609272630870304, 0.2582781789261091, 0.08609272630870304, 0.012298960901243291, 0.13528856991367622, 0.03689688270372987, 0.06149480450621646, 0.02220829846811786, 0.08883319387247143, 0.4441659693623572, 0.08883319387247143, 0.13324979080870716, 0.02220829846811786, 0.17766638774494287, 0.058087274700263064, 0.029043637350131532, 0.7260909337532883, 0.029043637350131532, 0.058087274700263064, 0.0871309120503946, 0.49814356280009636, 0.0830239271333494, 0.0830239271333494, 0.0830239271333494, 0.0830239271333494, 0.1660478542666988, 0.09641349475230004, 0.1928269895046001, 0.3856539790092002, 0.1928269895046001, 0.17092762697755795, 0.013148278998273689, 0.03944483699482106, 0.5127828809326739, 0.013148278998273689, 0.09203795298791582, 0.07888967398964213, 0.013148278998273689, 0.06574139499136844, 0.09881580398369748, 0.04940790199184874, 0.09881580398369748, 0.34585531394294117, 0.09881580398369748, 0.19763160796739496, 0.09881580398369748, 0.4924557657610174, 0.08207596096016957, 0.16415192192033914, 0.08207596096016957, 0.08207596096016957, 0.08207596096016957, 0.6703367999580984, 0.07448186666201093, 0.07448186666201093, 0.07448186666201093, 0.07448186666201093, 0.19382343118327935, 0.02422792889790992, 0.05653183409512314, 0.02422792889790992, 0.16151952598606611, 0.05653183409512314, 0.04037988149651653, 0.2745831941763124, 0.09691171559163968, 0.06460781039442645, 0.21037973264539644, 0.21037973264539644, 0.31556959896809467, 0.10518986632269822, 0.10518986632269822, 0.054079793923426225, 0.054079793923426225, 0.09013298987237704, 0.01802659797447541, 0.01802659797447541, 0.18026597974475408, 0.48671814531083607, 0.09013298987237704, 0.01802659797447541, 0.044064603620972115, 0.08812920724194423, 0.08812920724194423, 0.749098261556526, 0.17546433888336793, 0.5263930166501039, 0.17546433888336793, 0.08773216944168397, 0.7642669687157653, 0.046319210225197895, 0.046319210225197895, 0.1389576306755937, 0.023159605112598947, 0.0749629983210688, 0.5247409882474816, 0.0749629983210688, 0.0749629983210688, 0.2248889949632064, 0.06577989117208265, 0.06577989117208265, 0.06577989117208265, 0.49334918379061987, 0.32889945586041325, 0.13249970693336482, 0.19874956040004726, 0.13249970693336482, 0.06624985346668241, 0.4637489742667769, 0.2866721088390085, 0.573344217678017, 0.09555736961300285, 0.007542497771775503, 0.23381743092504062, 0.07165372883186728, 0.026398742201214263, 0.0942812221471938, 0.1395362087778468, 0.2790724175556936, 0.015084995543551007, 0.0942812221471938, 0.04148373774476527, 0.19279276039297277, 0.28918914058945916, 0.09639638019648639, 0.09639638019648639, 0.19279276039297277, 0.09639638019648639, 0.3370246181987645, 0.031351127274303676, 0.04702669091145551, 0.30567349092446083, 0.15675563637151838, 0.015675563637151838, 0.023513345455727756, 0.015675563637151838, 0.06270225454860735, 0.4932776078959513, 0.08221293464932522, 0.12331940197398783, 0.04110646732466261, 0.20553233662331305, 0.41568501553432163, 0.02445205973731304, 0.036678089605969556, 0.06113014934328259, 0.07335617921193911, 0.08558220908059563, 0.02445205973731304, 0.15893838829253473, 0.01222602986865652, 0.07335617921193911, 0.09372635436361601, 0.09372635436361601, 0.09372635436361601, 0.37490541745446404, 0.18745270872723202, 0.13464910739554117, 0.06732455369777059, 0.06732455369777059, 0.06732455369777059, 0.06732455369777059, 0.4712718758843941, 0.06732455369777059, 0.04078779027872132, 0.14785573976036478, 0.05098473784840165, 0.06118168541808198, 0.08157558055744264, 0.18354505625424594, 0.18354505625424594, 0.02039389513936066, 0.0866740543422828, 0.14785573976036478, 0.7860461602158695, 0.18495203769785165, 0.19928821340869643, 0.06642940446956548, 0.13285880893913096, 0.4650058312869584, 0.06642940446956548, 0.13396104673848358, 0.044653682246161196, 0.4465368224616119, 0.22326841123080596, 0.08930736449232239, 0.044653682246161196, 0.03673897624549303, 0.1285864168592256, 0.0642932084296128, 0.009184744061373257, 0.15614064904334535, 0.20206436935021163, 0.22043385747295816, 0.045923720306866284, 0.045923720306866284, 0.09184744061373257, 0.015528309298239038, 0.06211323719295615, 0.09316985578943424, 0.80747208350843, 0.015528309298239038, 0.23181870669000168, 0.23181870669000168, 0.3863645111500028, 0.07727290223000056, 0.04441046229765496, 0.2220523114882748, 0.08882092459530992, 0.04441046229765496, 0.08882092459530992, 0.13323138689296488, 0.08882092459530992, 0.3552836983812397, 0.1313399903342801, 0.04969621255891679, 0.07809404830686924, 0.1384394492712682, 0.02839783574795245, 0.28042862801103047, 0.14198917873976225, 0.024848106279458396, 0.07809404830686924, 0.05324594202741084, 0.19089027948624934, 0.06363009316208311, 0.06363009316208311, 0.6363009316208311, 0.37097431487513916, 0.16366513891550258, 0.13093211113240205, 0.010911009261033505, 0.10911009261033505, 0.16366513891550258, 0.04364403704413402, 0.010911009261033505, 0.1949137199679673, 0.032485619994661215, 0.032485619994661215, 0.3573418199412734, 0.06497123998932243, 0.16242809997330607, 0.16242809997330607, 0.2961489493068254, 0.04935815821780423, 0.04935815821780423, 0.34550710752462965, 0.04935815821780423, 0.09871631643560846, 0.1480744746534127, 0.08300237798665053, 0.2490071339599516, 0.16600475597330105, 0.4980142679199032, 0.08300237798665053, 0.0899328630665784, 0.0899328630665784, 0.2697985891997352, 0.449664315332892, 0.10311664831423223, 0.10311664831423223, 0.13748886441897631, 0.6186998898853934, 0.06275573041139448, 0.10459288401899082, 0.10459288401899082, 0.10459288401899082, 0.10459288401899082, 0.02091857680379816, 0.06275573041139448, 0.29286007525317426, 0.12551146082278897, 0.09042694234824665, 0.1808538846964933, 0.045213471174123325, 0.09042694234824665, 0.3617077693929866, 0.045213471174123325, 0.13564041352236997, 0.11484122416387141, 0.07464679570651642, 0.18374595866219426, 0.08613091812290356, 0.22394038711954925, 0.057420612081935704, 0.045936489665548565, 0.08613091812290356, 0.045936489665548565, 0.08038885691471, 0.15723135022090134, 0.15723135022090134, 0.07861567511045067, 0.07861567511045067, 0.39307837555225333, 0.15723135022090134, 0.3089389513055913, 0.058447909706463214, 0.050098208319825616, 0.04174850693318801, 0.14194492357283925, 0.033398805546550406, 0.025049104159912808, 0.10854611802628883, 0.07514731247973842, 0.16699402773275204, 0.48676265574299793, 0.08112710929049965, 0.08112710929049965, 0.08112710929049965, 0.08112710929049965, 0.08112710929049965, 0.19053283928317807, 0.08513169414780297, 0.020269450987572137, 0.06486224316023083, 0.13377837651797608, 0.1054011451353751, 0.0891855843453174, 0.05270057256768755, 0.024323341185086562, 0.2351256314558368, 0.22425379723270647, 0.11212689861635323, 0.22425379723270647, 0.3363806958490597, 0.08130378633188445, 0.1626075726637689, 0.1626075726637689, 0.4065189316594223, 0.1626075726637689, 0.08811513915734481, 0.1347643304759391, 0.11403135655656388, 0.06219892175812575, 0.05701567827828194, 0.09329838263718862, 0.14513081743562675, 0.19178000875422105, 0.07256540871781338, 0.041465947838750496, 0.08119627847306227, 0.2435888354191868, 0.08119627847306227, 0.08119627847306227, 0.4871776708383736, 0.28570345635668787, 0.4571255301707006, 0.05714069127133758, 0.17142207381401273, 0.19002378029975797, 0.31670630049959664, 0.06334126009991933, 0.06334126009991933, 0.12668252019983867, 0.06334126009991933, 0.12668252019983867, 0.2569657021536371, 0.08565523405121238, 0.08565523405121238, 0.5139314043072742, 0.08565523405121238, 0.08679012589285141, 0.08679012589285141, 0.08679012589285141, 0.08679012589285141, 0.26037037767855425, 0.08679012589285141, 0.26037037767855425, 0.4059406267337145, 0.06765677112228576, 0.06765677112228576, 0.20297031336685725, 0.1353135422445715, 0.1458147635514192, 0.1458147635514192, 0.1458147635514192, 0.5103516724299673, 0.0729073817757096, 0.12431529191493605, 0.37294587574480814, 0.4351035217022762, 0.062157645957468026, 0.03601925225021852, 0.03601925225021852, 0.18009626125109263, 0.03601925225021852, 0.03601925225021852, 0.10805775675065557, 0.07203850450043704, 0.39621177475240377, 0.10805775675065557, 0.17440898695185653, 0.17440898695185653, 0.08720449347592826, 0.08720449347592826, 0.5232269608555696, 0.05918552203620264, 0.09560738175078888, 0.14113470639402168, 0.1365819739296984, 0.05918552203620264, 0.113818311608082, 0.14113470639402168, 0.054632789571879364, 0.17300383364428465, 0.027316394785939682, 0.30387916169942675, 0.07596979042485669, 0.4558187425491401, 0.15193958084971337, 0.08588440868983747, 0.17176881737967495, 0.057256272459891656, 0.14314068114972914, 0.37216577098929576, 0.11451254491978331, 0.028628136229945828, 0.028628136229945828, 0.10874892169900173, 0.04255392588221807, 0.10638481470554517, 0.061466781829870545, 0.11111302869245829, 0.03309749790839183, 0.0638308888233271, 0.1914926664699813, 0.24586712731948218, 0.03309749790839183, 0.06643150113617317, 0.08857533484823091, 0.6643150113617318, 0.022143833712057727, 0.11071916856028863, 0.022143833712057727, 0.21380842487655793, 0.14253894991770527, 0.3563473747942632, 0.14253894991770527, 0.14253894991770527, 0.9322957446893356, 0.02742046307909811, 0.02742046307909811, 0.3047123760378836, 0.027701125094353057, 0.33241350113223667, 0.1385056254717653, 0.16620675056611833, 0.0998695920208276, 0.3994783680833104, 0.3994783680833104, 0.0998695920208276, 0.09131265887955735, 0.06848449415966801, 0.06848449415966801, 0.1826253177591147, 0.06848449415966801, 0.15979715303922534, 0.34242247079834004, 0.4600578889884094, 0.3943353334186366, 0.06572255556977276, 0.16723397336615073, 0.04180849334153768, 0.6689358934646029, 0.08361698668307536, 0.1721435184301268, 0.03950834849216024, 0.2511602154144473, 0.016932149353782962, 0.1777875682147211, 0.07901669698432048, 0.05644049784594321, 0.07619467209202332, 0.06208454763053753, 0.06772859741513185, 0.11880364481942658, 0.6890611399526742, 0.09504291585554127, 0.07128218689165595, 0.06533773290741775, 0.02177924430247258, 0.17423395441978065, 0.17423395441978065, 0.4573641303519242, 0.06533773290741775, 0.02177924430247258, 0.07970833537695422, 0.717375018392588, 0.15941667075390845, 0.4893599182739085, 0.075286141272909, 0.0376430706364545, 0.075286141272909, 0.075286141272909, 0.075286141272909, 0.150572282545818, 0.4582267856317492, 0.09164535712634984, 0.06109690475089989, 0.30548452375449947, 0.06109690475089989, 0.050099971603173206, 0.050099971603173206, 0.016699990534391067, 0.16699990534391068, 0.17534990061110622, 0.05844996687036874, 0.08349995267195534, 0.008349995267195534, 0.359049796489408, 0.025049985801586603, 0.13901429225245862, 0.015446032472495402, 0.37070477933988966, 0.07723016236247701, 0.25485953579617415, 0.07723016236247701, 0.030892064944990805, 0.038615081181238506, 0.10754557446905588, 0.02688639361726397, 0.02688639361726397, 0.4463141340465819, 0.09679101702215029, 0.12367741063941426, 0.048395508511075144, 0.05377278723452794, 0.021509114893811177, 0.05377278723452794, 0.06028328060314637, 0.12056656120629274, 0.15070820150786593, 0.3616996836188782, 0.09042492090471956, 0.030141640301573184, 0.030141640301573184, 0.15070820150786593, 0.030141640301573184, 0.2485983583100236, 0.06905509953056212, 0.1321911905299332, 0.03354104834341588, 0.0808931165929442, 0.2347873384039112, 0.051298073936989, 0.05524407962444969, 0.06510909384310143, 0.03551405118714623, 0.1362004677091095, 0.04767016369818833, 0.14982051448002046, 0.23835081849094164, 0.020430070156366425, 0.04767016369818833, 0.14301049109456498, 0.12939044432365404, 0.07491025724001023, 0.006810023385455475, 0.09259809925110013, 0.18519619850220026, 0.09259809925110013, 0.3703923970044005, 0.09259809925110013, 0.09259809925110013, 0.07571505523783613, 0.22714516571350837, 0.07571505523783613, 0.3028602209513445, 0.3028602209513445, 0.1339374241442672, 0.019133917734895315, 0.43051314903514454, 0.009566958867447658, 0.15307134187916252, 0.0669687120721336, 0.02870087660234297, 0.03826783546979063, 0.03826783546979063, 0.09566958867447657, 0.0784901929720244, 0.3139607718880976, 0.39245096486012204, 0.0784901929720244, 0.0784901929720244, 0.157846435120559, 0.10523095674703933, 0.33673906159052586, 0.021046191349407866, 0.04209238269881573, 0.0947078610723354, 0.0315692870241118, 0.08418476539763146, 0.0631385740482236, 0.04209238269881573, 0.047447185901118086, 0.569366230813417, 0.047447185901118086, 0.14234155770335424, 0.047447185901118086, 0.047447185901118086, 0.047447185901118086, 0.10246101991841836, 0.01138455776871315, 0.3130753386396116, 0.0455382310748526, 0.09676874103406179, 0.017076836653069725, 0.0910764621497052, 0.2106143187211933, 0.01138455776871315, 0.09676874103406179, 0.6918811073316424, 0.09884015819023463, 0.049420079095117316, 0.09884015819023463, 0.02097609500543997, 0.038955605010102805, 0.25470972506605677, 0.19178144004973688, 0.19178144004973688, 0.1857882700481826, 0.0689214550178742, 0.026969265006994248, 0.02097609500543997, 0.02674414895519699, 0.16046489373118195, 0.02674414895519699, 0.5081388301487428, 0.05348829791039398, 0.08023244686559097, 0.08023244686559097, 0.02674414895519699, 0.02674414895519699, 0.1966931025389906, 0.3933862050779812, 0.0983465512694953, 0.2950396538084859, 0.037090304104653124, 0.6676254738837563, 0.22254182462791877, 0.037090304104653124, 0.3397884144672331, 0.010618387952101035, 0.031855163856303104, 0.13803904337731346, 0.04247355180840414, 0.15927581928151552, 0.010618387952101035, 0.02123677590420207, 0.05309193976050518, 0.19113098313781862, 0.12040332865199144, 0.06020166432599572, 0.06020166432599572, 0.18060499297798716, 0.06020166432599572, 0.24080665730398287, 0.3010083216299786, 0.2300474691195942, 0.1533649794130628, 0.383412448532657, 0.1533649794130628, 0.0766824897065314, 0.2178415768622196, 0.04356831537244392, 0.04356831537244392, 0.47925146909688315, 0.04356831537244392, 0.17427326148977568, 0.0771583984131827, 0.2314751952395481, 0.046295039047909624, 0.01543167968263654, 0.05401087888922789, 0.05401087888922789, 0.0771583984131827, 0.21604351555691156, 0.2314751952395481, 0.04643431065439725, 0.023217155327198626, 0.04643431065439725, 0.13930293196319174, 0.185737242617589, 0.06965146598159587, 0.4411259512167739, 0.023217155327198626, 0.04643431065439725, 0.13904819463541826, 0.4171445839062548, 0.13904819463541826, 0.08342891678125096, 0.11123855570833462, 0.027809638927083654, 0.027809638927083654, 0.11396463269529013, 0.1709469490429352, 0.056982316347645064, 0.3418938980858704, 0.22792926539058025, 0.11396463269529013, 0.0710860595610586, 0.09478141274807814, 0.09478141274807814, 0.1421721191221172, 0.10267986381041798, 0.023695353187019534, 0.3396333956806133, 0.0868829616857383, 0.03159380424935938, 0.23934898342200853, 0.01595659889480057, 0.03191319778960114, 0.3829583734752136, 0.23934898342200853, 0.0478697966844017, 0.01595659889480057, 0.5487023116809219, 0.27435115584046094, 0.09145038528015365, 0.4238662525616693, 0.052983281570208665, 0.158949844710626, 0.21193312628083466, 0.052983281570208665, 0.052983281570208665, 0.1558534031516884, 0.389633507879221, 0.05195113438389613, 0.0779267015758442, 0.05195113438389613, 0.12987783595974034, 0.05195113438389613, 0.05195113438389613, 0.05486183424100575, 0.219447336964023, 0.1097236684820115, 0.027430917120502874, 0.3566019225665374, 0.1097236684820115, 0.1097236684820115, 0.2526132919120194, 0.06315332297800486, 0.06315332297800486, 0.06315332297800486, 0.37891993786802913, 0.18945996893401457, 0.07462709821480903, 0.016583799603290896, 0.18242179563619987, 0.04145949900822724, 0.07462709821480903, 0.024875699404936346, 0.14096229662797263, 0.04975139880987269, 0.31509219246252707, 0.08291899801645448, 0.5194969076559399, 0.207798763062376, 0.03463312717706266, 0.103899381531188, 0.13853250870825065, 0.6172028950959155, 0.3267544738743082, 0.16424632583179194, 0.4379902022181118, 0.16424632583179194, 0.054748775277263975, 0.054748775277263975, 0.054748775277263975, 0.054748775277263975, 0.02053321368491243, 0.013688809123274952, 0.013688809123274952, 0.03422202280818738, 0.08897725930128719, 0.027377618246549905, 0.8007953337115847, 0.2180858150448666, 0.0726952716816222, 0.0726952716816222, 0.363476358408111, 0.2180858150448666, 0.004062060911890145, 0.7573897209351534, 0.010709069676801292, 0.010709069676801292, 0.009601234882649435, 0.06093091367835218, 0.09010389659101778, 0.0025849478530210017, 0.022156695883037158, 0.031757930765686594, 0.29829818117603346, 0.14914909058801673, 0.4474472717640502, 0.33247072391688753, 0.04155884048961094, 0.02077942024480547, 0.20779420244805472, 0.20779420244805472, 0.12467652146883283, 0.062338260734416416, 0.07019576379879591, 0.14039152759759183, 0.4211745827927754, 0.07019576379879591, 0.2105872913963877, 0.4253912727225135, 0.10634781818062837, 0.3190434545418851, 0.10634781818062837, 0.20958934808502871, 0.050301443540406894, 0.11737003492761608, 0.050301443540406894, 0.06706859138720919, 0.16767147846802297, 0.08383573923401148, 0.1928222002382264, 0.025150721770203447, 0.033534295693604596, 0.16325648329029344, 0.48976944987088034, 0.09328941902302483, 0.046644709511512415, 0.046644709511512415, 0.06996706426726862, 0.023322354755756208, 0.023322354755756208, 0.023322354755756208, 0.03751066209315526, 0.45012794511786314, 0.03751066209315526, 0.1875533104657763, 0.22506397255893157, 0.07502132418631052, 0.12942105569129272, 0.06471052784564636, 0.12942105569129272, 0.12942105569129272, 0.45297369491952455, 0.06471052784564636, 0.06471052784564636, 0.5250797309972004, 0.14320356299923648, 0.04773452099974549, 0.14320356299923648, 0.09546904199949098, 0.13996700772535114, 0.028816736884631117, 0.1276169776319378, 0.1523170378187645, 0.10703359414291558, 0.10291691744511114, 0.09468356404950225, 0.07410018056048001, 0.12350030093413336, 0.0452834436758489, 0.07019356050455153, 0.07019356050455153, 0.2807742420182061, 0.4211613630273091, 0.07019356050455153, 0.48609825759651626, 0.03472130411403687, 0.24304912879825813, 0.1388852164561475, 0.06944260822807374, 0.05393881527524811, 0.05393881527524811, 0.5393881527524811, 0.16181644582574434, 0.05393881527524811, 0.10787763055049622, 0.3422696215658746, 0.14668698067108912, 0.04889566022369637, 0.04889566022369637, 0.29337396134217825, 0.04889566022369637, 0.04889566022369637, 0.05388302258145382, 0.013470755645363455, 0.013470755645363455, 0.05388302258145382, 0.2424736016165422, 0.05388302258145382, 0.5657717371052651, 0.14004897270520536, 0.17049440155416304, 0.14004897270520536, 0.08524720077708152, 0.10960354385624767, 0.06089085769791537, 0.0487126861583323, 0.07915811500728998, 0.09133628654687305, 0.08524720077708152, 0.3047106876335453, 0.027700971603049573, 0.3324116592365949, 0.13850485801524787, 0.16620582961829744, 0.11711239824425018, 0.11711239824425018, 0.23422479648850036, 0.11711239824425018, 0.35133719473275055, 0.19772866770803224, 0.007323283989186379, 0.06590955590267741, 0.02196985196755914, 0.08787940787023656, 0.0732328398918638, 0.11717254382698207, 0.058586271913491035, 0.3441943474917598, 0.02196985196755914, 0.05232482072193971, 0.05232482072193971, 0.15697446216581912, 0.05232482072193971, 0.31394892433163823, 0.026162410360969855, 0.05232482072193971, 0.18313687252678898, 0.10464964144387942, 0.025091482755111538, 0.23418717238104103, 0.2509148275511154, 0.26764248272118973, 0.01672765517007436, 0.012545741377555769, 0.04600105171770449, 0.09618401722792756, 0.05436487930274167, 0.0810511252378402, 0.0810511252378402, 0.0405255626189201, 0.18236503178514044, 0.02026278130946005, 0.405255626189201, 0.06078834392838015, 0.10131390654730026, 0.0405255626189201, 0.13331755511612656, 0.044439185038708855, 0.17775674015483542, 0.17775674015483542, 0.3999526653483797, 0.19207042964234475, 0.06402347654744825, 0.1280469530948965, 0.06402347654744825, 0.06402347654744825, 0.4481643358321377, 0.06402347654744825, 0.39423712843532677, 0.11263917955295051, 0.39423712843532677, 0.056319589776475255, 0.056319589776475255, 0.08831010465787194, 0.4415505232893597, 0.17662020931574388, 0.08831010465787194, 0.17662020931574388, 0.1049956914329917, 0.095450628575447, 0.1240858171480811, 0.095450628575447, 0.1240858171480811, 0.0190901257150894, 0.1049956914329917, 0.2099913828659834, 0.0572703771452682, 0.0668154400028129, 0.20049007373455355, 0.13366004915636903, 0.06683002457818452, 0.13366004915636903, 0.46781017204729164, 0.0563891267562037, 0.31953838495182096, 0.09398187792700617, 0.018796375585401235, 0.0563891267562037, 0.20676013143941357, 0.03759275117080247, 0.03759275117080247, 0.15037100468320988, 0.03759275117080247, 0.12792469415456073, 0.2984909530273084, 0.08528312943637383, 0.04264156471818691, 0.12792469415456073, 0.3411325177454953, 0.0511996090558338, 0.46079648150250424, 0.2047984362233352, 0.0511996090558338, 0.2047984362233352, 0.48004022742347996, 0.24002011371173998, 0.24002011371173998, 0.018794352195463333, 0.07517740878185333, 0.03758870439092667, 0.30070963512741333, 0.16914916975917, 0.11276611317278, 0.30070963512741333, 0.03536860022526434, 0.03536860022526434, 0.07073720045052868, 0.03536860022526434, 0.28294880180211474, 0.4951604031537008, 0.09527485571340007, 0.04763742785670003, 0.2381871392835002, 0.5240117064237004, 0.04763742785670003, 0.4518885837486527, 0.07531476395810878, 0.07531476395810878, 0.37657381979054394, 0.07531476395810878, 0.10841800048549918, 0.10841800048549918, 0.43367200194199673, 0.21683600097099837, 0.10841800048549918, 0.04854054438425856, 0.06148468955339418, 0.019416217753703426, 0.05824865326111028, 0.06148468955339418, 0.009708108876851713, 0.11973334281450446, 0.032360362922839045, 0.2265225404598733, 0.35920002844351334, 0.08241806435545332, 0.05494537623696888, 0.16483612871090664, 0.5769264504881733, 0.08241806435545332, 0.02747268811848444, 0.41071858827147933, 0.02933704201939138, 0.02933704201939138, 0.5280667563490449, 0.37734881886611693, 0.16509010825392614, 0.023584301179132308, 0.023584301179132308, 0.4245174212243815, 0.01155950011954481, 0.12715450131499292, 0.06935700071726886, 0.1040355010759033, 0.01155950011954481, 0.19651150203226178, 0.05779750059772405, 0.3352255034667995, 0.09247600095635848, 0.09113730748576628, 0.09113730748576628, 0.7290984598861302, 0.10774826306133925, 0.48486718377602667, 0.3771189207146874, 0.9556496626275277, 0.27013457245553385, 0.006282199359431019, 0.17590158206406853, 0.06282199359431019, 0.16961938270463753, 0.025128797437724077, 0.07538639231317223, 0.025128797437724077, 0.04397539551601713, 0.15077278462634447, 0.2760356318023153, 0.06900890795057882, 0.03943366168604504, 0.20702672385173648, 0.1971683084302252, 0.059150492529067566, 0.03943366168604504, 0.01971683084302252, 0.06900890795057882, 0.029575246264533783, 0.23742914404079496, 0.09497165761631798, 0.4273724592734309, 0.14245748642447698, 0.04748582880815899, 0.6912729595682604, 0.06912729595682604, 0.13825459191365208, 0.06912729595682604, 0.6128661227993972, 0.1532165306998493, 0.10214435379989954, 0.10214435379989954, 0.05107217689994977, 0.08861602254702061, 0.35446409018808245, 0.08861602254702061, 0.44308011273510306, 0.3545346831899287, 0.5240947490633728, 0.10790186010128265, 0.015414551443040379, 0.06835926484851347, 0.5468741187881078, 0.2734370593940539, 0.1512529166844642, 0.4537587500533926, 0.03781322917111605, 0.0756264583422321, 0.0756264583422321, 0.11343968751334815, 0.0756264583422321, 0.03781322917111605, 0.3691342780683297, 0.1342306465703017, 0.005592943607095904, 0.08948709771353447, 0.10626592853482218, 0.2404965751051239, 0.022371774428383617, 0.022371774428383617, 0.0486186074007918, 0.1944744296031672, 0.0486186074007918, 0.243093037003959, 0.0972372148015836, 0.3403302518055426, 0.07082197165295767, 0.010117424521851095, 0.13152651878406424, 0.06070454713110657, 0.030352273565553284, 0.12140909426221314, 0.10117424521851096, 0.2630530375681285, 0.17199621687146863, 0.030352273565553284, 0.21650929419697107, 0.1163333521058352, 0.14864817213523387, 0.032314820029398665, 0.08725001407937641, 0.04200926603821827, 0.18742595617051228, 0.06462964005879733, 0.06786112206173721, 0.035546302032338536, 0.21619884714925997, 0.03242982707238899, 0.3134883283664269, 0.08647953885970398, 0.09728948121716698, 0.07566959650224099, 0.05404971178731499, 0.021619884714925996, 0.021619884714925996, 0.08647953885970398, 0.05800435337298256, 0.4640348269838605, 0.05800435337298256, 0.17401306011894768, 0.17401306011894768, 0.13740944075626196, 0.06870472037813098, 0.06870472037813098, 0.2977204549719009, 0.045803146918753986, 0.11450786729688497, 0.045803146918753986, 0.13740944075626196, 0.09160629383750797, 0.11051582231116185, 0.11051582231116185, 0.11051582231116185, 0.11051582231116185, 0.4420632892446474, 0.11051582231116185, 0.11136703584435202, 0.020881319220816003, 0.08352527688326401, 0.041762638441632007, 0.08352527688326401, 0.03480219870136001, 0.12528791532489603, 0.4106659446760481, 0.06960439740272002, 0.03588560107529967, 0.10765680322589903, 0.3588560107529968, 0.10765680322589903, 0.1794280053764984, 0.21531360645179806, 0.4947925237867181, 0.04947925237867181, 0.07421887856800773, 0.04947925237867181, 0.04947925237867181, 0.09895850475734362, 0.09895850475734362, 0.024739626189335905, 0.04947925237867181, 0.06860371308716251, 0.06860371308716251, 0.06860371308716251, 0.13720742617432502, 0.06860371308716251, 0.13720742617432502, 0.4802259916101376, 0.14375880557054557, 0.17969850696318196, 0.07187940278527279, 0.03593970139263639, 0.03593970139263639, 0.10781910417790917, 0.07187940278527279, 0.3593970139263639, 0.15494160384097697, 0.08343009437591069, 0.18275163529961388, 0.027810031458636895, 0.20261594348435452, 0.027810031458636895, 0.03972861636948127, 0.03972861636948127, 0.19069735857351014, 0.05562006291727379, 0.05756529149518664, 0.6907834979422397, 0.11513058299037328, 0.05756529149518664, 0.05756529149518664, 0.3998416772115154, 0.06664027953525258, 0.03332013976762629, 0.466481956746768, 0.06367422287749015, 0.10612370479581691, 0.10612370479581691, 0.06367422287749015, 0.6579669697340649, 0.021224740959163383, 0.0874806742586557, 0.3260643313277167, 0.0159055771379374, 0.0477167314138122, 0.0477167314138122, 0.1749613485173114, 0.0397639428448435, 0.1670085599483427, 0.0477167314138122, 0.0477167314138122, 0.0239859652333801, 0.0239859652333801, 0.16790175663366072, 0.0239859652333801, 0.3837754437340816, 0.0479719304667602, 0.1439157914002806, 0.1918877218670408, 0.14667068377313622, 0.29334136754627244, 0.39112182339502993, 0.04889022792437874, 0.14667068377313622, 0.297803981689407, 0.02757444274901917, 0.13787221374509587, 0.011029777099607669, 0.05514888549803834, 0.18750621069333037, 0.09926799389646902, 0.08823821679686135, 0.04963399694823451, 0.03860421984862684, 0.6434866193412094, 0.11699756715294717, 0.17549635072942074, 0.05849878357647358, 0.13327581676262867, 0.0951970119733062, 0.05711820718398372, 0.07615760957864495, 0.019039402394661238, 0.07615760957864495, 0.13327581676262867, 0.34270924310390233, 0.038078804789322476, 0.13217144309676157, 0.055651133935478554, 0.06260752567741337, 0.4591218549676981, 0.048694742193543736, 0.0695639174193482, 0.055651133935478554, 0.06260752567741337, 0.006956391741934819, 0.055651133935478554, 0.21856058633752673, 0.02886649253514504, 0.12371353943633588, 0.2597984328163054, 0.03711406183090077, 0.14020867802784734, 0.04948541577453435, 0.04948541577453435, 0.0329902771830229, 0.06185676971816794, 0.4006643719860744, 0.11447553485316411, 0.34342660455949237, 0.11447553485316411, 0.18255900873781916, 0.007606625364075799, 0.07606625364075799, 0.12931263118928857, 0.007606625364075799, 0.43357764575232055, 0.15213250728151598, 0.0626375614284041, 0.2018321423804132, 0.020879187142801365, 0.06959729047600455, 0.15311403904721, 0.16007376809481047, 0.2018321423804132, 0.09743620666640637, 0.04175837428560273, 0.3473152091758386, 0.48624129284617407, 0.06946304183516772, 0.06946304183516772, 0.09692005471727645, 0.09692005471727645, 0.48460027358638225, 0.09692005471727645, 0.09692005471727645, 0.12324579092252948, 0.03137165587118932, 0.12503845697231172, 0.2626255762930992, 0.11517879369850936, 0.13265728768388627, 0.09814846622557802, 0.0363014875080905, 0.027786323771624828, 0.04750565031922954, 0.1403193184356481, 0.09354621229043207, 0.2026834599626028, 0.062364141526954714, 0.0779551769086934, 0.062364141526954714, 0.062364141526954714, 0.0779551769086934, 0.2182744953443415, 0.6925813328358472, 0.1731453332089618, 0.12985899990672134, 0.02585147809448767, 0.034468637459316886, 0.28436625903936436, 0.06893727491863377, 0.4911780837952657, 0.034468637459316886, 0.034468637459316886, 0.017234318729658443, 0.05785883995927364, 0.5785883995927364, 0.05785883995927364, 0.05785883995927364, 0.23143535983709457, 0.05785883995927364, 0.044020091670548926, 0.08804018334109785, 0.4402009167054893, 0.044020091670548926, 0.13206027501164677, 0.044020091670548926, 0.044020091670548926, 0.08804018334109785, 0.08804018334109785, 0.2684914464202265, 0.02237428720168554, 0.04474857440337108, 0.04474857440337108, 0.02237428720168554, 0.04474857440337108, 0.02237428720168554, 0.02237428720168554, 0.06712286160505662, 0.4251114568320252, 0.12373705119468147, 0.5361938885102864, 0.16498273492624196, 0.04124568373156049, 0.08249136746312098, 0.04124568373156049, 0.19775238872448503, 0.19775238872448503, 0.39550477744897006, 0.09887619436224251, 0.09887619436224251, 0.33591462994076565, 0.33591462994076565, 0.11197154331358856, 0.05598577165679428, 0.05598577165679428, 0.11197154331358856, 0.05598577165679428, 0.36072898764551214, 0.12024299588183737, 0.24048599176367474, 0.12024299588183737, 0.12024299588183737, 0.135198542988287, 0.0675992714941435, 0.135198542988287, 0.270397085976574, 0.40559562896486107, 0.09116465096419007, 0.09116465096419007, 0.09116465096419007, 0.09116465096419007, 0.5469879057851404, 0.04783830599115393, 0.04783830599115393, 0.23919152995576964, 0.6218979778850011, 0.2222442425989436, 0.1111221212994718, 0.2222442425989436, 0.3333663638984154, 0.10253536627982264, 0.034178455426607544, 0.17089227713303773, 0.06835691085321509, 0.10253536627982264, 0.06835691085321509, 0.4443199205458981, 0.13683258077130378, 0.1307057487964693, 0.07556426102295881, 0.11232525287196579, 0.13274802612141412, 0.04493010114878632, 0.20627000981942809, 0.05922604242340015, 0.014295941274613828, 0.08577564764768297, 0.6328224236612038, 0.012914743340024567, 0.0387442300200737, 0.05165897336009827, 0.0387442300200737, 0.10331794672019654, 0.09040320338017196, 0.025829486680049134, 0.025829486680049134, 0.08284472141723956, 0.009204969046359951, 0.009204969046359951, 0.046024845231799755, 0.027614907139079853, 0.08284472141723956, 0.7271925546624362, 0.009204969046359951, 0.689718457058449, 0.17242961426461226, 0.08621480713230613, 0.44604287762684935, 0.024780159868158298, 0.19824127894526639, 0.22302143881342468, 0.049560319736316596, 0.024780159868158298, 0.32150798680326065, 0.06430159736065212, 0.32150798680326065, 0.19290479208195638, 0.09573194605341229, 0.05470396917337845, 0.5880676686138183, 0.08205595376006768, 0.027351984586689224, 0.12308393064010152, 0.027351984586689224, 0.3637399864031469, 0.043648798368377636, 0.08729759673675527, 0.08729759673675527, 0.2618927902102658, 0.05819839782450351, 0.029099198912251757, 0.043648798368377636, 0.014549599456125878, 0.014549599456125878, 0.490998477288351, 0.14028527922524314, 0.07014263961262157, 0.07014263961262157, 0.2104279188378647, 0.19965617729115628, 0.04991404432278907, 0.44922639890510163, 0.24957022161394538, 0.30471142453966965, 0.027701038594515424, 0.33241246313418504, 0.1385051929725771, 0.16620623156709252, 0.22261010898040506, 0.06849541814781694, 0.3938486543499474, 0.11986698175867964, 0.03424770907390847, 0.0513715636108627, 0.017123854536954235, 0.017123854536954235, 0.06849541814781694, 0.044347194464272266, 0.044347194464272266, 0.1330415833928168, 0.44347194464272266, 0.044347194464272266, 0.17738877785708906, 0.044347194464272266, 0.044347194464272266, 0.043598096417316996, 0.1089952410432925, 0.050864445820203164, 0.26885492790678817, 0.021799048208658498, 0.23252318089235732, 0.08719619283463399, 0.1525933374606095, 0.03633174701443083, 0.10449708084310713, 0.10449708084310713, 0.10449708084310713, 0.10449708084310713, 0.5224854042155357, 0.3106359353247541, 0.0744637125823203, 0.06334972562973519, 0.06779532041076923, 0.1505945232075284, 0.069462418453657, 0.03500905890064313, 0.09947018322563683, 0.020560875862282474, 0.10836137278770493, 0.4438756705725411, 0.05548445882156764, 0.05548445882156764, 0.11096891764313528, 0.22193783528627056, 0.05548445882156764, 0.05548445882156764, 0.11905956365976889, 0.05952978182988444, 0.05952978182988444, 0.05952978182988444, 0.5952978182988444, 0.05952978182988444, 0.05952978182988444, 0.16029196956733813, 0.08631106053625899, 0.14796181806215827, 0.45621560569165465, 0.04932060602071942, 0.03699045451553957, 0.02466030301035971, 0.03699045451553957, 0.019750813168991375, 0.11850487901394825, 0.3555146370418447, 0.059252439506974126, 0.17775731852092236, 0.03950162633798275, 0.019750813168991375, 0.09875406584495687, 0.09875406584495687, 0.2150176145733101, 0.07167253819110336, 0.5017077673377235, 0.07167253819110336, 0.07167253819110336, 0.12405383660225197, 0.694701484972611, 0.09924306928180157, 0.07443230196135119, 0.099621236547268, 0.099621236547268, 0.2116951276629445, 0.052301149187315696, 0.11207389111567649, 0.1021117674609497, 0.024905309136817, 0.0672443346694059, 0.13199813842513008, 0.1021117674609497, 0.066431431331862, 0.088575241775816, 0.6643143133186199, 0.022143810443954, 0.11071905221976999, 0.022143810443954, 0.6918815744084835, 0.09884022491549765, 0.04942011245774883, 0.09884022491549765, 0.2263915844578334, 0.2263915844578334, 0.07546386148594446, 0.3773193074297223, 0.07546386148594446, 0.040596455113097035, 0.004510717234788559, 0.013532151704365678, 0.6766075852182839, 0.045107172347885596, 0.045107172347885596, 0.004510717234788559, 0.018042868939154237, 0.1443429515132339, 0.004510717234788559, 0.08728254642668601, 0.6982603714134881, 0.043641273213343004, 0.13092381964002903, 0.11730843650859245, 0.058654218254296224, 0.058654218254296224, 0.11730843650859245, 0.11730843650859245, 0.11730843650859245, 0.41057952778007356, 0.20448459105154387, 0.11639892106010959, 0.1258366714163347, 0.037751001424900406, 0.09437750356225101, 0.15100400569960162, 0.09437750356225101, 0.047188751781125506, 0.10381525391847611, 0.028313251068675306, 0.10789269604658555, 0.06473561762795133, 0.06473561762795133, 0.07552488723260989, 0.15104977446521978, 0.17262831367453688, 0.20499612248851254, 0.09710342644192699, 0.010789269604658555, 0.04315707841863422, 0.08946992884257836, 0.08946992884257836, 0.1062455405005618, 0.24045043376442934, 0.04473496442128918, 0.07828618773725605, 0.06151057607927262, 0.027959352763305738, 0.17334798713249555, 0.08946992884257836, 0.4645227456935652, 0.3096818304623768, 0.0774204576155942, 0.0774204576155942, 0.0774204576155942, 0.0754458135792659, 0.0754458135792659, 0.2263374407377977, 0.4526748814755954, 0.1508916271585318, 0.12657383229461122, 0.08438255486307415, 0.042191277431537076, 0.042191277431537076, 0.08438255486307415, 0.042191277431537076, 0.042191277431537076, 0.25314766458922244, 0.29533894202075955, 0.048695138805288085, 0.3895611104423047, 0.3895611104423047, 0.09739027761057617, 0.1200221779485516, 0.0400073926495172, 0.0800147852990344, 0.40007392649517204, 0.1200221779485516, 0.0800147852990344, 0.1200221779485516, 0.0400073926495172, 0.06916508155779094, 0.1175806386482446, 0.08299809786934913, 0.09683111418090731, 0.14524667127136096, 0.14524667127136096, 0.09683111418090731, 0.041499048934674564, 0.10374762233668641, 0.09683111418090731, 0.1709465112751906, 0.11396434085012705, 0.3988751929754447, 0.2279286817002541, 0.3689812689702383, 0.12299375632341278, 0.13836797586383937, 0.04612265862127979, 0.06149687816170639, 0.09224531724255958, 0.09224531724255958, 0.06149687816170639, 0.025081773070489557, 0.30098127684587467, 0.15049063842293733, 0.20065418456391645, 0.15049063842293733, 0.025081773070489557, 0.12540886535244777, 0.4441715093708458, 0.20189614062311176, 0.04037922812462235, 0.0807584562492447, 0.0807584562492447, 0.12113768437386704, 0.04037922812462235, 0.18730454226217777, 0.12486969484145184, 0.12486969484145184, 0.5619136267865333, 0.709139956864868, 0.20261141624710513, 0.09189193873802036, 0.09189193873802036, 0.09189193873802036, 0.45945969369010176, 0.18378387747604072, 0.09189193873802036, 0.09189193873802036, 0.13735780607299275, 0.06867890303649637, 0.6181101273284674, 0.20603670910948912, 0.041332908632978095, 0.16533163453191238, 0.08266581726595619, 0.041332908632978095, 0.041332908632978095, 0.041332908632978095, 0.4959949035957371, 0.041332908632978095, 0.07701047010461436, 0.1925261752615359, 0.11551570515692153, 0.5005680556799933, 0.1540209402092287, 0.490988807750789, 0.4208475495006763, 0.04676083883340848, 0.22607922525495233, 0.04945483052452082, 0.09184468525982438, 0.07064975789217261, 0.13423453999512794, 0.035324878946086304, 0.13423453999512794, 0.22607922525495233, 0.035324878946086304, 0.022757293744004203, 0.5006604623680925, 0.022757293744004203, 0.40963128739207566, 0.022757293744004203, 0.17586963217268953, 0.039082140482819896, 0.09770535120704973, 0.039082140482819896, 0.15632856193127959, 0.019541070241409948, 0.11724642144845969, 0.058623210724229845, 0.058623210724229845, 0.23449284289691938, 0.09164067060713904, 0.03054689020237968, 0.09164067060713904, 0.03054689020237968, 0.5803909138452139, 0.09164067060713904, 0.03054689020237968, 0.13585912577072604, 0.01132159381422717, 0.21511028247031622, 0.3056830329841336, 0.12453753195649887, 0.04528637525690868, 0.01132159381422717, 0.04528637525690868, 0.09057275051381736, 0.12525869247432517, 0.08350579498288344, 0.12525869247432517, 0.08350579498288344, 0.3757760774229755, 0.08350579498288344, 0.04175289749144172, 0.12525869247432517, 0.10910420074716654, 0.043641680298866614, 0.043641680298866614, 0.10910420074716654, 0.10910420074716654, 0.283670921942633, 0.06546252044829992, 0.24002924164376638, 0.19372008696949886, 0.09686004348474943, 0.048430021742374714, 0.048430021742374714, 0.14529006522712415, 0.048430021742374714, 0.4358701956813724, 0.02508179217800387, 0.30098150613604646, 0.15049075306802323, 0.20065433742403097, 0.15049075306802323, 0.02508179217800387, 0.12540896089001935, 0.13117379733867957, 0.08744919822578638, 0.13117379733867957, 0.13117379733867957, 0.3497967929031455, 0.17489839645157276, 0.031964297789442944, 0.047946446684164416, 0.22375008452610062, 0.13425005071566037, 0.15342862938932614, 0.07032145513677449, 0.07671431469466307, 0.10228575292621743, 0.13744648049460467, 0.019178578673665767, 0.06643138520359834, 0.08857518027146447, 0.6643138520359835, 0.022143795067866116, 0.11071897533933057, 0.022143795067866116, 0.04890646574673382, 0.08151077624455637, 0.06520862099564509, 0.08151077624455637, 0.04890646574673382, 0.032604310497822545, 0.19562586298693527, 0.30974094972931415, 0.11411508674237891, 0.016302155248911272, 0.06672656878792127, 0.06672656878792127, 0.06672656878792127, 0.16681642196980317, 0.033363284393960635, 0.4337226971214882, 0.2001797063637638, 0.05894221140906397, 0.05894221140906397, 0.17682663422719191, 0.7073065369087677, 0.16711631039928085, 0.7018885036769795, 0.1336930483194247, 0.6607561875408718, 0.027531507814202997, 0.08259452344260898, 0.08259452344260898, 0.027531507814202997, 0.08259452344260898, 0.3780571276361476, 0.28354284572711075, 0.28354284572711075, 0.0945142819090369, 0.13453150671157388, 0.31951232843998795, 0.11771506837262714, 0.050449315016840204, 0.11771506837262714, 0.252246575084201, 0.0900970825868977, 0.07207766606951817, 0.018019416517379542, 0.14415533213903634, 0.1261359156216568, 0.27029124776069313, 0.19821358169117498, 0.0900970825868977, 0.08421548719098992, 0.5052929231459395, 0.08421548719098992, 0.16843097438197985, 0.08421548719098992, 0.06145447060298253, 0.1536361765074563, 0.12290894120596506, 0.21509064711043885, 0.3379995883164039, 0.09218170590447379, 0.050821733658237674, 0.5082173365823768, 0.3557521356076637, 0.08724775302871843, 0.2617432590861553, 0.21811938257179608, 0.39261488862923294, 0.043623876514359214, 0.2278313185469839, 0.012657295474832438, 0.037971886424497316, 0.35440427329530827, 0.202516727597319, 0.05062918189932975, 0.012657295474832438, 0.025314590949664876, 0.0632864773741622, 0.5355073684240859, 0.06693842105301073, 0.033469210526505366, 0.36816131579155903, 0.1564777972237611, 0.13909137531000984, 0.03477284382750246, 0.01738642191375123, 0.03477284382750246, 0.052159265741253694, 0.5389790793262882, 0.01738642191375123, 0.16683444931050237, 0.6006040175178086, 0.10010066958630143, 0.1334675594484019, 0.14035863478291263, 0.03508965869572816, 0.20274025024198494, 0.05848276449288027, 0.24562761087009713, 0.14815633671529668, 0.011696552898576055, 0.10526897608718448, 0.04678621159430422, 0.011696552898576055, 0.09763617221057994, 0.4881808610528997, 0.29290851663173983, 0.052121742520412045, 0.21717392716838352, 0.07818261378061807, 0.19111305590817748, 0.06080869960714738, 0.0868695708673534, 0.13899131338776544, 0.052121742520412045, 0.01737391417347068, 0.10424348504082409, 0.16655379571024567, 0.047586798774355905, 0.11896699693588976, 0.023793399387177953, 0.09517359754871181, 0.14276039632306772, 0.3569009908076693, 0.047586798774355905, 0.047586798774355905, 0.19050400635098785, 0.05195563809572396, 0.034637092063815975, 0.034637092063815975, 0.29441528254243576, 0.06927418412763195, 0.017318546031907987, 0.15586691428717186, 0.05195563809572396, 0.1385483682552639, 0.6280864934561847, 0.10468108224269745, 0.10468108224269745, 0.10468108224269745, 0.10468108224269745, 0.05836498115560438, 0.10213871702230767, 0.226164301977967, 0.1532080755334615, 0.02918249057780219, 0.10943433966675822, 0.08754747173340657, 0.03647811322225274, 0.1532080755334615, 0.04377373586670329, 0.02451318058751693, 0.7966783690943002, 0.012256590293758465, 0.1470790835251016, 0.012256590293758465, 0.22887664650532086, 0.024092278579507458, 0.024092278579507458, 0.2047843679258134, 0.06023069644876865, 0.22887664650532086, 0.03613841786926119, 0.13250753218729103, 0.024092278579507458, 0.03613841786926119, 0.5383341476180168, 0.040375061071351255, 0.01345835369045042, 0.21533365904720672, 0.10766682952360336, 0.0672917684522521, 0.01345835369045042, 0.34164353562401156, 0.22776235708267437, 0.34164353562401156, 0.13968564513781126, 0.034921411284452815, 0.06984282256890563, 0.5936639918356978, 0.17460705642226407, 0.07707208302262622, 0.07707208302262622, 0.07707208302262622, 0.1387297494407272, 0.09248649962715147, 0.06165766641810098, 0.2620450822769292, 0.12331533283620195, 0.09248649962715147, 0.07521050457826235, 0.6768945412043612, 0.07521050457826235, 0.1504210091565247, 0.13730317072675505, 0.027460634145351007, 0.05492126829070201, 0.027460634145351007, 0.24714570730815907, 0.12357285365407954, 0.09611221950872853, 0.09611221950872853, 0.08238190243605302, 0.10984253658140403, 0.1548180260243847, 0.051606008674794895, 0.46445407807315403, 0.10321201734958979, 0.051606008674794895, 0.1548180260243847, 0.39521983234824043, 0.08753190917779823, 0.11140424804447047, 0.03713474934815682, 0.07957446288890747, 0.1007943196592828, 0.08753190917779823, 0.06365957031112597, 0.031829785155562985, 0.0026524820962969156, 0.10184581153775653, 0.12730726442219567, 0.025461452884439132, 0.10184581153775653, 0.25461452884439134, 0.050922905768878264, 0.0763843586533174, 0.025461452884439132, 0.25461452884439134, 0.1494554771539972, 0.015732155489894442, 0.1468334512390148, 0.08652685519441944, 0.06817267378954259, 0.031464310979788884, 0.02884228506480648, 0.3382413430327305, 0.052440518299648145, 0.08128280336445462, 0.29482062051898383, 0.46679931582172435, 0.024568385043248653, 0.22111546538923788, 0.7684299141164015, 0.02076837605720004, 0.02076837605720004, 0.04153675211440008, 0.02076837605720004, 0.12461025634320025, 0.13173237687520617, 0.021955396145867695, 0.23053165953161078, 0.03293309421880154, 0.021955396145867695, 0.03293309421880154, 0.34030864026094926, 0.08782158458347078, 0.08782158458347078, 0.05897274633533596, 0.11794549267067192, 0.07863032844711461, 0.019657582111778652, 0.019657582111778652, 0.6290426275769169, 0.05897274633533596, 0.163001263175783, 0.652005052703132, 0.0815006315878915, 0.06036114290134369, 0.02263542858800388, 0.2263542858800388, 0.15844800011602717, 0.15844800011602717, 0.2112640001547029, 0.09054171435201552, 0.030180571450671843, 0.015090285725335922, 0.030180571450671843, 0.686451373746391, 0.22881712458213035, 0.04411229169728841, 0.529347500367461, 0.08822458339457682, 0.3087860418810189, 0.04367765789576582, 0.04367765789576582, 0.17471063158306327, 0.04367765789576582, 0.08735531579153163, 0.04367765789576582, 0.4367765789576582, 0.13103297368729747, 0.07917831170449574, 0.30087758447708385, 0.1266852987271932, 0.3800558961815796, 0.0316713246817983, 0.01583566234089915, 0.0316713246817983, 0.01583566234089915, 0.3727464229145448, 0.04704566502804935, 0.04704566502804935, 0.072377946196999, 0.06875904888714904, 0.1519936870136979, 0.01809448654924975, 0.06514015157729909, 0.025332281168949648, 0.13751809777429808, 0.21854368598287782, 0.10927184299143891, 0.43708737196575564, 0.10927184299143891, 0.15133971950058514, 0.10089314633372343, 0.5044657316686172, 0.20178629266744685, 0.5119662673104097, 0.19198735024140365, 0.06399578341380122, 0.12799156682760243, 0.06399578341380122, 0.3340406342865053, 0.14974235330084723, 0.034555927684810896, 0.11518642561603633, 0.08063049793122543, 0.034555927684810896, 0.04607457024641453, 0.034555927684810896, 0.06911185536962179, 0.11518642561603633, 0.0654628789479001, 0.39277727368740056, 0.0654628789479001, 0.19638863684370028, 0.1309257578958002, 0.0654628789479001, 0.06512971168315532, 0.03473584623101617, 0.21275705816497406, 0.32999053919465365, 0.021709903894385107, 0.06512971168315532, 0.0998655579141715, 0.09118159635641745, 0.013025942336631064, 0.0607877309042783, 0.052574220516296115, 0.15772266154888837, 0.10514844103259223, 0.6308906461955535, 0.06826019386230492, 0.13652038772460984, 0.20478058158691478, 0.34130096931152465, 0.2730407754492197, 0.07373241477329748, 0.07373241477329748, 0.36866207386648736, 0.07373241477329748, 0.36866207386648736, 0.6254176672896331, 0.06949085192107035, 0.0463272346140469, 0.1853089384561876, 0.0463272346140469, 0.1277667721554418, 0.05475718806661792, 0.03650479204441194, 0.41067891049963434, 0.1277667721554418, 0.02737859403330896, 0.1277667721554418, 0.04563099005551493, 0.03650479204441194, 0.01825239602220597, 0.06000391920189639, 0.24001567680758557, 0.5400352728170675, 0.18001175760568916, 0.09108207073630882, 0.09108207073630882, 0.3643282829452353, 0.09108207073630882, 0.18216414147261764, 0.09108207073630882, 0.20049356601451965, 0.07518508725544486, 0.025061695751814956, 0.05012339150362991, 0.3759254362772243, 0.25061695751814955, 0.08270617399513305, 0.2481185219853992, 0.1654123479902661, 0.08270617399513305, 0.1654123479902661, 0.2481185219853992, 0.320918475086882, 0.05348641251448033, 0.0802296187717205, 0.10697282502896066, 0.026743206257240165, 0.0802296187717205, 0.320918475086882, 0.3144387948383806, 0.040572747721081374, 0.2130069255356772, 0.03042956079081103, 0.0710023085118924, 0.03042956079081103, 0.1420046170237848, 0.13186143009351445, 0.03042956079081103, 0.07481227170221136, 0.7730601409228507, 0.09974969560294847, 0.049874847801474234, 0.08040831022499456, 0.08040831022499456, 0.08040831022499456, 0.16081662044998912, 0.24122493067498366, 0.32163324089997825, 0.05486148303558796, 0.21944593214235183, 0.10972296607117592, 0.02743074151779398, 0.35659963973132175, 0.10972296607117592, 0.10972296607117592, 0.02508174932822815, 0.3009809919387378, 0.1504904959693689, 0.2006539946258252, 0.1504904959693689, 0.02508174932822815, 0.12540874664114074, 0.44642390147755084, 0.14880796715918362, 0.372019917897959, 0.09830647878746386, 0.06553765252497591, 0.032768826262487956, 0.06553765252497591, 0.06553765252497591, 0.5243012201998073, 0.13107530504995182, 0.6010758912066567, 0.023118303507948336, 0.023118303507948336, 0.069354910523845, 0.04623660701589667, 0.09247321403179334, 0.04623660701589667, 0.069354910523845, 0.0910503314069618, 0.03902157060298363, 0.07804314120596725, 0.1560862824119345, 0.05202876080397817, 0.013007190200994542, 0.312172564823869, 0.05202876080397817, 0.16909347261292904, 0.026014380401989085, 0.046594140457020476, 0.06989121068553071, 0.023297070228510238, 0.8619915984548787, 0.023297070228510238, 0.16752061103137722, 0.5025618330941316, 0.08376030551568861, 0.16752061103137722, 0.1574616641757554, 0.0787308320878777, 0.0787308320878777, 0.23619249626363312, 0.39365416043938856, 0.0787308320878777, 0.1857184707111079, 0.2785777060666618, 0.09285923535555395, 0.46429617677776974, 0.6570922203680676, 0.1642730550920169, 0.1095153700613446, 0.5530092156705247, 0.2073784558764468, 0.2073784558764468, 0.5479972410860781, 0.12177716468579514, 0.30444291171448784, 0.06088858234289757, 0.06347913289251284, 0.12695826578502567, 0.12695826578502567, 0.1904373986775385, 0.5078330631401027, 0.06582491072898256, 0.09873736609347385, 0.6582491072898257, 0.16456227682245642, 0.15970428816700089, 0.022814898309571556, 0.11407449154785777, 0.3650383729531449, 0.11407449154785777, 0.15970428816700089, 0.06844469492871466, 0.05545332001795868, 0.05545332001795868, 0.38817324012571075, 0.11090664003591735, 0.16635996005387604, 0.11090664003591735, 0.11090664003591735, 0.11061868601673866, 0.11061868601673866, 0.33185605805021595, 0.11061868601673866, 0.33185605805021595, 0.27657646025075483, 0.03951092289296498, 0.07902184578592995, 0.03951092289296498, 0.5136419976085447, 0.03951092289296498, 0.033045456091545106, 0.4295909291900864, 0.09913636827463532, 0.06609091218309021, 0.033045456091545106, 0.033045456091545106, 0.09913636827463532, 0.19827273654927063, 0.19777131114952093, 0.39554262229904186, 0.06592377038317364, 0.13184754076634728, 0.19777131114952093, 0.10577193984405214, 0.05288596992202607, 0.3702017894541825, 0.26442984961013033, 0.15865790976607821, 0.11524433208977927, 0.5185994944040067, 0.14405541511222408, 0.057622166044889636, 0.057622166044889636, 0.028811083022444818, 0.057622166044889636], \"Topic\": [1, 2, 3, 4, 5, 6, 7, 8, 9, 10, 1, 2, 3, 4, 5, 6, 7, 8, 9, 10, 1, 4, 5, 6, 7, 8, 1, 2, 3, 4, 5, 6, 7, 8, 9, 10, 1, 2, 3, 4, 5, 6, 7, 9, 10, 3, 4, 6, 4, 5, 7, 8, 10, 1, 2, 3, 4, 5, 6, 10, 1, 2, 3, 4, 5, 6, 7, 8, 9, 10, 2, 3, 4, 5, 6, 8, 10, 1, 5, 8, 9, 10, 1, 3, 4, 5, 6, 7, 8, 9, 10, 3, 5, 8, 10, 3, 6, 7, 8, 9, 1, 3, 5, 6, 7, 8, 10, 1, 3, 4, 6, 9, 10, 1, 2, 3, 4, 5, 6, 7, 8, 9, 10, 1, 2, 3, 4, 5, 6, 7, 8, 9, 10, 1, 5, 6, 10, 2, 3, 5, 6, 7, 9, 3, 5, 6, 7, 1, 2, 4, 5, 6, 7, 8, 9, 10, 2, 3, 6, 7, 8, 9, 10, 3, 5, 6, 8, 9, 10, 1, 3, 5, 6, 7, 8, 4, 5, 7, 8, 1, 2, 3, 4, 5, 6, 7, 8, 10, 2, 3, 4, 5, 6, 9, 10, 1, 2, 5, 6, 7, 8, 1, 2, 4, 6, 7, 1, 2, 3, 4, 5, 6, 7, 8, 9, 10, 1, 4, 7, 8, 10, 1, 2, 3, 5, 6, 7, 8, 9, 10, 3, 4, 5, 8, 3, 4, 5, 6, 1, 3, 4, 8, 10, 2, 3, 5, 9, 10, 1, 2, 4, 5, 10, 1, 2, 3, 5, 8, 1, 5, 6, 1, 2, 3, 4, 5, 6, 7, 8, 9, 10, 1, 2, 3, 4, 5, 10, 1, 2, 3, 4, 5, 6, 7, 8, 9, 1, 3, 5, 7, 8, 1, 2, 3, 4, 5, 6, 7, 8, 9, 10, 1, 3, 5, 6, 9, 1, 2, 4, 5, 7, 9, 10, 1, 2, 3, 4, 5, 6, 7, 8, 9, 10, 4, 6, 3, 4, 6, 7, 8, 1, 4, 5, 6, 7, 8, 1, 2, 3, 4, 5, 6, 7, 8, 9, 10, 1, 4, 6, 8, 10, 1, 3, 4, 7, 2, 3, 4, 5, 6, 8, 9, 10, 1, 2, 3, 4, 5, 6, 7, 8, 9, 10, 3, 4, 6, 7, 3, 4, 5, 6, 7, 8, 9, 10, 1, 3, 4, 5, 6, 8, 10, 1, 3, 4, 5, 7, 8, 10, 2, 4, 6, 8, 10, 5, 6, 7, 8, 2, 3, 4, 8, 1, 2, 3, 4, 5, 7, 8, 9, 10, 2, 3, 5, 6, 7, 8, 10, 1, 2, 3, 4, 5, 6, 7, 8, 9, 10, 1, 2, 3, 4, 5, 6, 1, 2, 3, 4, 5, 6, 7, 8, 9, 10, 1, 2, 5, 6, 9, 10, 1, 2, 3, 4, 5, 6, 7, 8, 9, 10, 1, 5, 6, 10, 1, 4, 7, 8, 9, 1, 2, 3, 4, 5, 6, 7, 8, 9, 10, 2, 4, 6, 7, 9, 3, 5, 7, 9, 1, 2, 3, 6, 7, 8, 10, 1, 2, 6, 9, 10, 1, 2, 5, 6, 7, 8, 10, 3, 5, 6, 7, 8, 1, 3, 6, 8, 10, 1, 2, 3, 5, 2, 3, 4, 5, 6, 7, 8, 9, 10, 1, 2, 5, 7, 10, 1, 2, 3, 4, 5, 6, 7, 8, 9, 10, 2, 6, 8, 9, 1, 2, 3, 4, 5, 8, 9, 10, 1, 2, 3, 4, 5, 6, 7, 8, 9, 10, 1, 2, 3, 8, 9, 10, 2, 3, 5, 8, 9, 2, 5, 10, 5, 6, 7, 8, 10, 4, 7, 9, 10, 1, 2, 3, 4, 5, 6, 10, 1, 3, 5, 2, 7, 8, 9, 1, 2, 3, 4, 5, 6, 7, 8, 9, 10, 1, 4, 5, 7, 1, 2, 3, 4, 7, 8, 10, 2, 5, 7, 1, 2, 3, 4, 6, 9, 10, 1, 3, 6, 7, 9, 1, 2, 3, 4, 5, 6, 7, 8, 9, 10, 1, 2, 4, 5, 6, 7, 9, 10, 1, 2, 3, 4, 5, 6, 7, 8, 9, 10, 1, 2, 4, 5, 6, 7, 8, 9, 10, 1, 2, 3, 4, 5, 6, 7, 8, 9, 10, 1, 2, 3, 4, 5, 6, 7, 8, 9, 10, 1, 2, 3, 5, 7, 10, 1, 2, 4, 5, 10, 1, 2, 3, 4, 5, 6, 7, 8, 9, 10, 3, 4, 6, 7, 9, 1, 2, 3, 4, 5, 6, 7, 8, 9, 10, 1, 3, 5, 6, 7, 9, 10, 1, 2, 3, 4, 5, 6, 7, 8, 9, 10, 2, 4, 5, 8, 1, 2, 3, 4, 5, 6, 7, 8, 10, 1, 2, 3, 4, 5, 6, 7, 8, 9, 3, 5, 6, 7, 2, 4, 6, 7, 1, 2, 3, 4, 5, 6, 7, 8, 9, 10, 1, 2, 5, 6, 8, 9, 10, 1, 3, 4, 5, 6, 1, 3, 4, 5, 7, 9, 2, 3, 4, 5, 6, 7, 8, 9, 10, 1, 2, 3, 4, 6, 7, 8, 9, 10, 1, 2, 4, 5, 6, 8, 10, 3, 5, 6, 7, 9, 10, 1, 2, 3, 4, 5, 6, 7, 8, 10, 2, 3, 5, 6, 7, 9, 10, 1, 2, 6, 1, 3, 4, 5, 6, 7, 1, 4, 5, 6, 7, 8, 9, 10, 1, 2, 4, 5, 7, 9, 10, 1, 2, 5, 7, 9, 10, 1, 2, 3, 4, 5, 6, 7, 8, 9, 10, 1, 3, 4, 6, 7, 2, 7, 1, 4, 5, 6, 7, 9, 10, 2, 3, 4, 6, 7, 9, 10, 1, 3, 5, 7, 9, 1, 2, 3, 4, 5, 6, 7, 8, 9, 10, 4, 5, 6, 2, 3, 5, 6, 7, 9, 10, 2, 3, 4, 5, 8, 3, 4, 5, 10, 1, 2, 3, 4, 5, 6, 7, 8, 9, 10, 1, 2, 3, 4, 5, 6, 7, 9, 10, 1, 2, 3, 6, 7, 10, 1, 2, 3, 4, 5, 7, 8, 2, 4, 6, 8, 10, 1, 2, 3, 4, 5, 6, 7, 8, 9, 10, 2, 3, 4, 6, 9, 2, 4, 6, 7, 10, 1, 2, 4, 5, 6, 7, 2, 3, 5, 6, 7, 9, 10, 1, 2, 4, 5, 7, 8, 9, 1, 2, 3, 4, 5, 6, 7, 8, 9, 10, 5, 6, 7, 8, 10, 1, 2, 6, 8, 10, 1, 2, 3, 4, 5, 6, 7, 8, 9, 10, 1, 2, 3, 4, 5, 7, 8, 9, 10, 1, 2, 3, 4, 5, 6, 7, 8, 10, 1, 2, 3, 4, 5, 6, 7, 9, 10, 2, 3, 4, 5, 9, 1, 2, 3, 5, 7, 9, 10, 2, 3, 6, 7, 9, 4, 5, 6, 7, 8, 1, 2, 3, 4, 5, 6, 7, 8, 9, 10, 1, 4, 7, 9, 10, 1, 2, 3, 4, 5, 6, 7, 8, 9, 10, 1, 2, 4, 5, 9, 10, 1, 3, 6, 8, 9, 1, 2, 5, 1, 2, 3, 4, 5, 8, 10, 1, 2, 3, 6, 7, 8, 1, 3, 5, 8, 10, 1, 2, 3, 5, 7, 1, 3, 6, 7, 8, 1, 2, 3, 4, 5, 6, 7, 8, 9, 10, 2, 3, 5, 7, 8, 9, 2, 4, 7, 10, 2, 4, 5, 7, 10, 1, 3, 4, 5, 6, 7, 8, 9, 10, 2, 3, 9, 1, 5, 9, 6, 1, 2, 3, 4, 5, 6, 7, 8, 9, 10, 1, 2, 3, 4, 5, 6, 7, 8, 9, 10, 1, 6, 8, 9, 10, 6, 7, 8, 9, 2, 4, 6, 7, 10, 1, 3, 5, 9, 2, 3, 6, 10, 2, 7, 8, 1, 2, 4, 5, 6, 7, 9, 10, 1, 2, 3, 4, 5, 6, 9, 10, 1, 4, 6, 8, 9, 10, 1, 2, 3, 4, 5, 6, 7, 8, 9, 10, 1, 2, 3, 4, 5, 6, 7, 8, 9, 10, 1, 2, 3, 4, 5, 6, 7, 8, 9, 10, 1, 3, 4, 7, 8, 1, 3, 4, 5, 6, 7, 8, 9, 10, 2, 3, 6, 7, 9, 10, 1, 2, 3, 4, 5, 6, 7, 9, 10, 2, 3, 6, 7, 8, 10, 1, 2, 3, 4, 5, 6, 7, 8, 9, 2, 3, 4, 5, 6, 8, 9, 1, 2, 4, 5, 6, 7, 9, 10, 1, 2, 3, 4, 5, 6, 7, 8, 9, 10, 3, 5, 6, 8, 10, 1, 3, 6, 9, 2, 3, 5, 7, 8, 10, 1, 2, 3, 4, 5, 6, 7, 8, 9, 10, 1, 3, 4, 5, 6, 7, 8, 9, 1, 2, 6, 7, 8, 1, 2, 3, 4, 5, 6, 7, 8, 9, 10, 2, 3, 4, 7, 1, 2, 3, 4, 5, 6, 7, 8, 10, 1, 2, 3, 4, 5, 6, 7, 8, 9, 10, 1, 2, 3, 4, 5, 6, 7, 8, 9, 10, 1, 3, 6, 7, 1, 2, 3, 5, 6, 9, 10, 2, 3, 4, 5, 6, 7, 8, 9, 10, 4, 6, 7, 8, 2, 3, 6, 7, 9, 1, 2, 3, 4, 5, 6, 7, 8, 9, 10, 1, 2, 3, 4, 5, 6, 7, 8, 10, 2, 5, 10, 1, 2, 3, 4, 5, 6, 8, 10, 1, 2, 3, 6, 7, 10, 1, 2, 3, 4, 5, 6, 7, 8, 9, 1, 2, 3, 4, 5, 6, 7, 8, 9, 10, 2, 3, 4, 5, 6, 7, 1, 5, 6, 9, 10, 2, 3, 4, 5, 6, 9, 10, 2, 5, 6, 9, 10, 1, 3, 8, 9, 10, 3, 4, 5, 8, 9, 1, 4, 8, 9, 1, 2, 7, 8, 1, 2, 3, 4, 5, 8, 9, 1, 2, 3, 4, 5, 6, 7, 8, 9, 10, 1, 3, 4, 5, 6, 7, 8, 9, 10, 1, 2, 3, 5, 6, 7, 9, 10, 7, 9, 10, 1, 2, 3, 4, 9, 10, 2, 5, 6, 9, 1, 2, 3, 4, 5, 8, 9, 1, 2, 3, 4, 5, 6, 7, 8, 9, 10, 1, 3, 5, 9, 10, 1, 2, 8, 9, 5, 6, 7, 8, 10, 1, 2, 3, 5, 6, 7, 8, 9, 10, 1, 2, 3, 4, 5, 6, 7, 10, 1, 2, 3, 4, 5, 6, 7, 8, 9, 1, 2, 7, 9, 10, 1, 2, 3, 4, 5, 6, 7, 8, 9, 10, 2, 4, 5, 6, 7, 8, 9, 1, 2, 3, 4, 6, 9, 10, 1, 2, 3, 4, 6, 7, 8, 10, 1, 2, 3, 4, 5, 6, 8, 9, 10, 1, 3, 5, 8, 9, 1, 4, 5, 7, 1, 2, 3, 4, 5, 6, 7, 8, 9, 10, 1, 2, 3, 8, 9, 10, 2, 4, 5, 8, 2, 3, 5, 7, 10, 1, 2, 3, 4, 5, 6, 7, 8, 9, 10, 2, 3, 7, 8, 1, 2, 3, 5, 6, 7, 8, 1, 2, 3, 4, 5, 6, 7, 8, 9, 10, 1, 2, 3, 4, 5, 6, 7, 8, 9, 10, 1, 2, 3, 4, 5, 6, 7, 8, 9, 10, 3, 6, 8, 9, 10, 1, 4, 7, 8, 9, 2, 3, 4, 5, 6, 7, 8, 9, 10, 2, 3, 4, 6, 1, 2, 3, 4, 5, 7, 8, 9, 1, 2, 3, 4, 5, 6, 7, 8, 9, 10, 1, 8, 9, 10, 1, 2, 3, 5, 6, 7, 8, 10, 1, 2, 3, 4, 5, 6, 9, 1, 2, 3, 4, 6, 7, 8, 1, 3, 7, 8, 2, 7, 3, 4, 5, 6, 7, 9, 10, 1, 2, 3, 10, 1, 2, 3, 4, 5, 6, 7, 10, 1, 2, 4, 7, 9, 3, 4, 5, 1, 2, 3, 4, 5, 7, 8, 9, 10, 4, 6, 7, 8, 10, 1, 2, 3, 4, 5, 6, 7, 8, 9, 10, 1, 2, 4, 5, 7, 8, 10, 1, 2, 3, 4, 5, 6, 7, 8, 10, 1, 2, 4, 5, 6, 7, 8, 9, 1, 3, 4, 5, 6, 8, 9, 10, 2, 3, 5, 6, 7, 8, 9, 1, 2, 3, 4, 5, 6, 9, 1, 3, 5, 6, 7, 10, 1, 2, 3, 4, 5, 6, 7, 8, 9, 10, 1, 2, 3, 8, 9, 10, 1, 2, 3, 4, 5, 6, 7, 8, 9, 10, 1, 3, 4, 5, 7, 9, 10, 2, 3, 4, 7, 5, 8, 10, 1, 3, 4, 5, 6, 8, 2, 3, 9, 10, 3, 5, 7, 8, 9, 10, 1, 2, 3, 4, 5, 7, 9, 10, 2, 4, 6, 9, 10, 1, 4, 5, 6, 7, 10, 6, 8, 9, 1, 2, 6, 8, 10, 1, 2, 3, 4, 5, 6, 7, 9, 10, 1, 3, 7, 8, 1, 2, 3, 4, 5, 6, 8, 10, 4, 5, 7, 9, 1, 2, 3, 4, 5, 6, 7, 8, 9, 10, 2, 4, 5, 1, 2, 3, 4, 5, 6, 7, 8, 9, 10, 1, 2, 3, 4, 5, 6, 7, 8, 10, 1, 2, 3, 4, 5, 6, 7, 8, 9, 10, 1, 5, 6, 9, 10, 1, 2, 3, 4, 5, 6, 7, 8, 9, 10, 3, 4, 6, 7, 8, 1, 2, 3, 4, 5, 6, 7, 8, 9, 10, 1, 2, 4, 5, 7, 8, 10, 5, 6, 9, 4, 5, 7, 8, 9, 1, 3, 4, 5, 6, 7, 8, 9, 10, 2, 5, 6, 7, 1, 2, 3, 4, 5, 6, 7, 8, 9, 10, 1, 2, 3, 4, 6, 9, 1, 2, 3, 4, 5, 6, 7, 8, 9, 10, 1, 2, 3, 4, 5, 6, 8, 9, 10, 1, 2, 3, 4, 5, 6, 7, 8, 9, 10, 3, 5, 7, 8, 1, 2, 3, 4, 5, 7, 1, 2, 3, 4, 5, 7, 8, 9, 10, 3, 4, 5, 6, 8, 9, 10, 2, 3, 4, 1, 2, 3, 4, 5, 6, 7, 8, 9, 10, 7, 9, 2, 3, 6, 9, 1, 2, 4, 5, 7, 8, 9, 10, 1, 3, 4, 5, 6, 7, 8, 10, 1, 2, 3, 4, 5, 6, 7, 8, 9, 10, 1, 2, 6, 7, 6, 7, 9, 10, 1, 5, 6, 7, 10, 1, 2, 3, 4, 5, 6, 7, 8, 9, 10, 1, 3, 6, 7, 8, 9, 1, 2, 3, 4, 5, 6, 7, 8, 9, 10, 2, 3, 4, 7, 1, 3, 4, 7, 9, 1, 3, 4, 5, 7, 3, 6, 7, 8, 9, 1, 2, 3, 4, 5, 6, 7, 8, 9, 10, 3, 4, 6, 7, 1, 2, 5, 8, 9, 10, 1, 3, 5, 8, 9, 10, 1, 2, 3, 5, 7, 10, 1, 3, 4, 5, 6, 7, 10, 1, 2, 3, 4, 5, 6, 7, 8, 9, 2, 3, 4, 9, 1, 4, 6, 7, 8, 10, 1, 2, 4, 5, 7, 9, 10, 1, 2, 3, 4, 5, 6, 9, 3, 7, 9, 2, 3, 6, 7, 8, 9, 10, 1, 3, 4, 5, 6, 8, 9, 10, 1, 2, 3, 4, 5, 6, 7, 8, 9, 10, 3, 4, 5, 9, 10, 1, 2, 6, 9, 3, 4, 5, 6, 7, 9, 1, 2, 5, 7, 3, 4, 7, 1, 2, 5, 1, 4, 5, 7, 2, 3, 5, 7, 8, 1, 3, 9, 10, 3, 4, 5, 6, 7, 9, 10, 2, 3, 5, 7, 8, 9, 10, 3, 5, 6, 8, 10, 1, 2, 3, 5, 6, 7, 2, 3, 5, 6, 7, 8, 9, 10, 2, 4, 7, 8, 9, 4, 6, 7, 9, 10, 1, 2, 3, 4, 8, 9, 10], \"Term\": [\"'\", \"'\", \"'\", \"'\", \"'\", \"'\", \"'\", \"'\", \"'\", \"'\", \"'s\", \"'s\", \"'s\", \"'s\", \"'s\", \"'s\", \"'s\", \"'s\", \"'s\", \"'s\", \"a.m._courtroom\", \"a.m._courtroom\", \"a.m._courtroom\", \"a.m._courtroom\", \"a.m._courtroom\", \"a.m._courtroom\", \"action\", \"action\", \"action\", \"action\", \"action\", \"action\", \"action\", \"action\", \"action\", \"action\", \"address_judge\", \"address_judge\", \"address_judge\", \"address_judge\", \"address_judge\", \"address_judge\", \"address_judge\", \"address_judge\", \"address_judge\", \"admit\", \"admit\", \"admit\", \"ae\", \"ae\", \"ae\", \"ae\", \"ae\", \"affect\", \"affect\", \"affect\", \"affect\", \"affect\", \"affect\", \"affect\", \"affidavit_service\", \"affidavit_service\", \"affidavit_service\", \"affidavit_service\", \"affidavit_service\", \"affidavit_service\", \"affidavit_service\", \"affidavit_service\", \"affidavit_service\", \"affidavit_service\", \"affidavit_service_summons\", \"affidavit_service_summons\", \"affidavit_service_summons\", \"affidavit_service_summons\", \"affidavit_service_summons\", \"affidavit_service_summons\", \"affidavit_service_summons\", \"affidavit_service_summons_complaint\", \"affidavit_service_summons_complaint\", \"affidavit_service_summons_complaint\", \"affidavit_service_summons_complaint\", \"affidavit_service_summons_complaint\", \"agent\", \"agent\", \"agent\", \"agent\", \"agent\", \"agent\", \"agent\", \"agent\", \"agent\", \"ago\", \"ago\", \"ago\", \"ago\", \"aim_exploration_inc.._basile\", \"aim_exploration_inc.._basile\", \"aim_exploration_inc.._basile\", \"aim_exploration_inc.._basile\", \"aim_exploration_inc.._basile\", \"also\", \"also\", \"also\", \"also\", \"also\", \"also\", \"also\", \"ama\", \"ama\", \"ama\", \"ama\", \"ama\", \"ama\", \"amend\", \"amend\", \"amend\", \"amend\", \"amend\", \"amend\", \"amend\", \"amend\", \"amend\", \"amend\", \"amend_complaint\", \"amend_complaint\", \"amend_complaint\", \"amend_complaint\", \"amend_complaint\", \"amend_complaint\", \"amend_complaint\", \"amend_complaint\", \"amend_complaint\", \"amend_complaint\", \"amend_notice_appeal\", \"amend_notice_appeal\", \"amend_notice_appeal\", \"amend_notice_appeal\", \"amendment\", \"amendment\", \"amendment\", \"amendment\", \"amendment\", \"amendment\", \"anc\", \"anc\", \"anc\", \"anc\", \"answer_complaint\", \"answer_complaint\", \"answer_complaint\", \"answer_complaint\", \"answer_complaint\", \"answer_complaint\", \"answer_complaint\", \"answer_complaint\", \"answer_complaint\", \"answer_due\", \"answer_due\", \"answer_due\", \"answer_due\", \"answer_due\", \"answer_due\", \"answer_due\", \"answer_due_answer_due\", \"answer_due_answer_due\", \"answer_due_answer_due\", \"answer_due_answer_due\", \"answer_due_answer_due\", \"answer_due_answer_due\", \"answer_otherwise_respond\", \"answer_otherwise_respond\", \"answer_otherwise_respond\", \"answer_otherwise_respond\", \"answer_otherwise_respond\", \"answer_otherwise_respond\", \"appeal_bond\", \"appeal_bond\", \"appeal_bond\", \"appeal_bond\", \"appear_pro_hac_vice\", \"appear_pro_hac_vice\", \"appear_pro_hac_vice\", \"appear_pro_hac_vice\", \"appear_pro_hac_vice\", \"appear_pro_hac_vice\", \"appear_pro_hac_vice\", \"appear_pro_hac_vice\", \"appear_pro_hac_vice\", \"appendix\", \"appendix\", \"appendix\", \"appendix\", \"appendix\", \"appendix\", \"appendix\", \"applicable\", \"applicable\", \"applicable\", \"applicable\", \"applicable\", \"applicable\", \"application_grant\", \"application_grant\", \"application_grant\", \"application_grant\", \"application_grant\", \"april\", \"april\", \"april\", \"april\", \"april\", \"april\", \"april\", \"april\", \"april\", \"april\", \"assignment\", \"assignment\", \"assignment\", \"assignment\", \"assignment\", \"associate_case\", \"associate_case\", \"associate_case\", \"associate_case\", \"associate_case\", \"associate_case\", \"associate_case\", \"associate_case\", \"associate_case\", \"associate_case_et_al\", \"associate_case_et_al\", \"associate_case_et_al\", \"associate_case_et_al\", \"associate_case_j\", \"associate_case_j\", \"associate_case_j\", \"associate_case_j\", \"associate_case_rjm\", \"associate_case_rjm\", \"associate_case_rjm\", \"associate_case_rjm\", \"associate_case_rjm\", \"associate_case_thk\", \"associate_case_thk\", \"associate_case_thk\", \"associate_case_thk\", \"associate_case_thk\", \"associated_case_et_al\", \"associated_case_et_al\", \"associated_case_et_al\", \"associated_case_et_al\", \"associated_case_et_al\", \"associated_case_ft\", \"associated_case_ft\", \"associated_case_ft\", \"associated_case_ft\", \"associated_case_ft\", \"attached\", \"attached\", \"attached\", \"attachment\", \"attachment\", \"attachment\", \"attachment\", \"attachment\", \"attachment\", \"attachment\", \"attachment\", \"attachment\", \"attachment\", \"attempt\", \"attempt\", \"attempt\", \"attempt\", \"attempt\", \"attempt\", \"attorney\", \"attorney\", \"attorney\", \"attorney\", \"attorney\", \"attorney\", \"attorney\", \"attorney\", \"attorney\", \"attorney_terminate\", \"attorney_terminate\", \"attorney_terminate\", \"attorney_terminate\", \"attorney_terminate\", \"august\", \"august\", \"august\", \"august\", \"august\", \"august\", \"august\", \"august\", \"august\", \"august\", \"available\", \"available\", \"available\", \"available\", \"available\", \"award\", \"award\", \"award\", \"award\", \"award\", \"award\", \"award\", \"b\", \"b\", \"b\", \"b\", \"b\", \"b\", \"b\", \"b\", \"b\", \"b\", \"b_rule_..\", \"b_rule_..\", \"bank\", \"bank\", \"bank\", \"bank\", \"bank\", \"base\", \"base\", \"base\", \"base\", \"base\", \"base\", \"c\", \"c\", \"c\", \"c\", \"c\", \"c\", \"c\", \"c\", \"c\", \"c\", \"cal\", \"cal\", \"cal\", \"cal\", \"cal\", \"calculation\", \"calculation\", \"calculation\", \"calculation\", \"call\", \"call\", \"call\", \"call\", \"call\", \"call\", \"call\", \"call\", \"case\", \"case\", \"case\", \"case\", \"case\", \"case\", \"case\", \"case\", \"case\", \"case\", \"case_designate\", \"case_designate\", \"case_designate\", \"case_designate\", \"cd\", \"cd\", \"cd\", \"cd\", \"cd\", \"cd\", \"cd\", \"cd\", \"certain_underwriter_syndicate\", \"certain_underwriter_syndicate\", \"certain_underwriter_syndicate\", \"certain_underwriter_syndicate\", \"certain_underwriter_syndicate\", \"certain_underwriter_syndicate\", \"certain_underwriter_syndicate\", \"certificate\", \"certificate\", \"certificate\", \"certificate\", \"certificate\", \"certificate\", \"certificate\", \"certify_class\", \"certify_class\", \"certify_class\", \"certify_class\", \"certify_class\", \"certify_copy_docket_sheet\", \"certify_copy_docket_sheet\", \"certify_copy_docket_sheet\", \"certify_copy_docket_sheet\", \"cf\", \"cf\", \"cf\", \"cf\", \"chamber\", \"chamber\", \"chamber\", \"chamber\", \"chamber\", \"chamber\", \"chamber\", \"chamber\", \"chamber\", \"civ\", \"civ\", \"civ\", \"civ\", \"civ\", \"civ\", \"civ\", \"claim\", \"claim\", \"claim\", \"claim\", \"claim\", \"claim\", \"claim\", \"claim\", \"claim\", \"claim\", \"claim_assert\", \"claim_assert\", \"claim_assert\", \"claim_assert\", \"claim_assert\", \"claim_assert\", \"clerk\", \"clerk\", \"clerk\", \"clerk\", \"clerk\", \"clerk\", \"clerk\", \"clerk\", \"clerk\", \"clerk\", \"compel\", \"compel\", \"compel\", \"compel\", \"compel\", \"compel\", \"complaint\", \"complaint\", \"complaint\", \"complaint\", \"complaint\", \"complaint\", \"complaint\", \"complaint\", \"complaint\", \"complaint\", \"comply\", \"comply\", \"comply\", \"comply\", \"conclude\", \"conclude\", \"conclude\", \"conclude\", \"conclude\", \"conference\", \"conference\", \"conference\", \"conference\", \"conference\", \"conference\", \"conference\", \"conference\", \"conference\", \"conference\", \"conference_call\", \"conference_call\", \"conference_call\", \"conference_call\", \"conference_call\", \"conference_hold\", \"conference_hold\", \"conference_hold\", \"conference_hold\", \"confirm\", \"confirm\", \"confirm\", \"confirm\", \"confirm\", \"confirm\", \"confirm\", \"contempt\", \"contempt\", \"contempt\", \"contempt\", \"contempt\", \"copy_mail\", \"copy_mail\", \"copy_mail\", \"copy_mail\", \"copy_mail\", \"copy_mail\", \"copy_mail\", \"copy_mail_chamber\", \"copy_mail_chamber\", \"copy_mail_chamber\", \"copy_mail_chamber\", \"copy_mail_chamber\", \"corp..\", \"corp..\", \"corp..\", \"corp..\", \"corp..\", \"corporate_parent\", \"corporate_parent\", \"corporate_parent\", \"corporate_parent\", \"correct\", \"correct\", \"correct\", \"correct\", \"correct\", \"correct\", \"correct\", \"correct\", \"correct\", \"cote\", \"cote\", \"cote\", \"cote\", \"cote\", \"counsel\", \"counsel\", \"counsel\", \"counsel\", \"counsel\", \"counsel\", \"counsel\", \"counsel\", \"counsel\", \"counsel\", \"counsel_record\", \"counsel_record\", \"counsel_record\", \"counsel_record\", \"counterclaim\", \"counterclaim\", \"counterclaim\", \"counterclaim\", \"counterclaim\", \"counterclaim\", \"counterclaim\", \"counterclaim\", \"court\", \"court\", \"court\", \"court\", \"court\", \"court\", \"court\", \"court\", \"court\", \"court\", \"court_notice_intent\", \"court_notice_intent\", \"court_notice_intent\", \"court_notice_intent\", \"court_notice_intent\", \"court_notice_intent\", \"court_reporter\", \"court_reporter\", \"court_reporter\", \"court_reporter\", \"court_reporter\", \"court_reportertranscriber\", \"court_reportertranscriber\", \"court_reportertranscriber\", \"court_reportertranscriber_abovecaptioned_matter\", \"court_reportertranscriber_abovecaptioned_matter\", \"court_reportertranscriber_abovecaptioned_matter\", \"court_reportertranscriber_abovecaptioned_matter\", \"court_reportertranscriber_abovecaptioned_matter\", \"cross\", \"cross\", \"cross\", \"cross\", \"crossclaim\", \"crossclaim\", \"crossclaim\", \"crossclaim\", \"crossclaim\", \"crossclaim\", \"crossclaim\", \"custodian\", \"custodian\", \"custodian\", \"cyr\", \"cyr\", \"cyr\", \"cyr\", \"date\", \"date\", \"date\", \"date\", \"date\", \"date\", \"date\", \"date\", \"date\", \"date\", \"date_may_obtain\", \"date_may_obtain\", \"date_may_obtain\", \"date_may_obtain\", \"date_november\", \"date_november\", \"date_november\", \"date_november\", \"date_november\", \"date_november\", \"date_november\", \"date_purs\", \"date_purs\", \"date_purs\", \"dated\", \"dated\", \"dated\", \"dated\", \"dated\", \"dated\", \"dated\", \"db\", \"db\", \"db\", \"db\", \"db\", \"declaration\", \"declaration\", \"declaration\", \"declaration\", \"declaration\", \"declaration\", \"declaration\", \"declaration\", \"declaration\", \"declaration\", \"declaration_opposition\", \"declaration_opposition\", \"declaration_opposition\", \"declaration_opposition\", \"declaration_opposition\", \"declaration_opposition\", \"declaration_opposition\", \"declaration_opposition\", \"declaration_support\", \"declaration_support\", \"declaration_support\", \"declaration_support\", \"declaration_support\", \"declaration_support\", \"declaration_support\", \"declaration_support\", \"declaration_support\", \"declaration_support\", \"default\", \"default\", \"default\", \"default\", \"default\", \"default\", \"default\", \"default\", \"default\", \"defendant\", \"defendant\", \"defendant\", \"defendant\", \"defendant\", \"defendant\", \"defendant\", \"defendant\", \"defendant\", \"defendant\", \"defendant_'\", \"defendant_'\", \"defendant_'\", \"defendant_'\", \"defendant_'\", \"defendant_'\", \"defendant_'\", \"defendant_'\", \"defendant_'\", \"defendant_'\", \"deft\", \"deft\", \"deft\", \"deft\", \"deft\", \"deft\", \"demand\", \"demand\", \"demand\", \"demand\", \"demand\", \"deny\", \"deny\", \"deny\", \"deny\", \"deny\", \"deny\", \"deny\", \"deny\", \"deny\", \"deny\", \"deny_part\", \"deny_part\", \"deny_part\", \"deny_part\", \"deny_part\", \"deposition\", \"deposition\", \"deposition\", \"deposition\", \"deposition\", \"deposition\", \"deposition\", \"deposition\", \"deposition\", \"deposition\", \"designate\", \"designate\", \"designate\", \"designate\", \"designate\", \"designate\", \"designate\", \"discovery\", \"discovery\", \"discovery\", \"discovery\", \"discovery\", \"discovery\", \"discovery\", \"discovery\", \"discovery\", \"discovery\", \"discovery_ruling_conference\", \"discovery_ruling_conference\", \"discovery_ruling_conference\", \"discovery_ruling_conference\", \"dismiss\", \"dismiss\", \"dismiss\", \"dismiss\", \"dismiss\", \"dismiss\", \"dismiss\", \"dismiss\", \"dismiss\", \"dismiss.._document\", \"dismiss.._document\", \"dismiss.._document\", \"dismiss.._document\", \"dismiss.._document\", \"dismiss.._document\", \"dismiss.._document\", \"dismiss.._document\", \"dismiss.._document\", \"dismiss_pursuant_frcp\", \"dismiss_pursuant_frcp\", \"dismiss_pursuant_frcp\", \"dismiss_pursuant_frcp\", \"dismiss_pursuant_rule\", \"dismiss_pursuant_rule\", \"dismiss_pursuant_rule\", \"dismiss_pursuant_rule\", \"dismissal\", \"dismissal\", \"dismissal\", \"dismissal\", \"dismissal\", \"dismissal\", \"dismissal\", \"dismissal\", \"dismissal\", \"dismissal\", \"dismissal_without_prejudice\", \"dismissal_without_prejudice\", \"dismissal_without_prejudice\", \"dismissal_without_prejudice\", \"dismissal_without_prejudice\", \"dismissal_without_prejudice\", \"dismissal_without_prejudice\", \"dispositive\", \"dispositive\", \"dispositive\", \"dispositive\", \"dispositive\", \"district_judge\", \"district_judge\", \"district_judge\", \"district_judge\", \"district_judge\", \"district_judge\", \"djc\", \"djc\", \"djc\", \"djc\", \"djc\", \"djc\", \"djc\", \"djc\", \"djc\", \"dkt\", \"dkt\", \"dkt\", \"dkt\", \"dkt\", \"dkt\", \"dkt\", \"dkt\", \"dkt\", \"dle\", \"dle\", \"dle\", \"dle\", \"dle\", \"dle\", \"dle\", \"doc\", \"doc\", \"doc\", \"doc\", \"doc\", \"doc\", \"due\", \"due\", \"due\", \"due\", \"due\", \"due\", \"due\", \"due\", \"due\", \"e\", \"e\", \"e\", \"e\", \"e\", \"e\", \"e\", \"edt\", \"edt\", \"edt\", \"effect\", \"effect\", \"effect\", \"effect\", \"effect\", \"effect\", \"electronic\", \"electronic\", \"electronic\", \"electronic\", \"electronic\", \"electronic\", \"electronic\", \"electronic\", \"electronically_available_public_without\", \"electronically_available_public_without\", \"electronically_available_public_without\", \"electronically_available_public_without\", \"electronically_available_public_without\", \"electronically_available_public_without\", \"electronically_available_public_without\", \"enclose\", \"enclose\", \"enclose\", \"enclose\", \"enclose\", \"enclose\", \"endorsed_letter_address\", \"endorsed_letter_address\", \"endorsed_letter_address\", \"endorsed_letter_address\", \"endorsed_letter_address\", \"endorsed_letter_address\", \"endorsed_letter_address\", \"endorsed_letter_address\", \"endorsed_letter_address\", \"endorsed_letter_address\", \"endorsement_application_grant\", \"endorsement_application_grant\", \"endorsement_application_grant\", \"endorsement_application_grant\", \"endorsement_application_grant\", \"erratum\", \"erratum\", \"error_deficient_docket_entry\", \"error_deficient_docket_entry\", \"error_deficient_docket_entry\", \"error_deficient_docket_entry\", \"error_deficient_docket_entry\", \"error_deficient_docket_entry\", \"error_deficient_docket_entry\", \"ex\", \"ex\", \"ex\", \"ex\", \"ex\", \"ex\", \"ex\", \"execute\", \"execute\", \"execute\", \"execute\", \"execute\", \"exhibit\", \"exhibit\", \"exhibit\", \"exhibit\", \"exhibit\", \"exhibit\", \"exhibit\", \"exhibit\", \"exhibit\", \"exhibit\", \"expert_discovery_due\", \"expert_discovery_due\", \"expert_discovery_due\", \"f\", \"f\", \"f\", \"f\", \"f\", \"f\", \"f\", \"firm\", \"firm\", \"firm\", \"firm\", \"firm\", \"flasr\", \"flasr\", \"flasr\", \"flasr\", \"follow\", \"follow\", \"follow\", \"follow\", \"follow\", \"follow\", \"follow\", \"follow\", \"follow\", \"follow\", \"fund\", \"fund\", \"fund\", \"fund\", \"fund\", \"fund\", \"fund\", \"fund\", \"fund\", \"g\", \"g\", \"g\", \"g\", \"g\", \"g\", \"general\", \"general\", \"general\", \"general\", \"general\", \"general\", \"general\", \"gr\", \"gr\", \"gr\", \"gr\", \"gr\", \"grant\", \"grant\", \"grant\", \"grant\", \"grant\", \"grant\", \"grant\", \"grant\", \"grant\", \"grant\", \"grant_part\", \"grant_part\", \"grant_part\", \"grant_part\", \"grant_part\", \"h\", \"h\", \"h\", \"h\", \"h\", \"h.o\", \"h.o\", \"h.o\", \"h.o\", \"h.o\", \"h.o\", \"haas\", \"haas\", \"haas\", \"haas\", \"haas\", \"haas\", \"haas\", \"han\", \"han\", \"han\", \"han\", \"han\", \"han\", \"han\", \"hereby\", \"hereby\", \"hereby\", \"hereby\", \"hereby\", \"hereby\", \"hereby\", \"hereby\", \"hereby\", \"hereby\", \"hereby_give_official_transcript\", \"hereby_give_official_transcript\", \"hereby_give_official_transcript\", \"hereby_give_official_transcript\", \"hereby_give_official_transcript\", \"hereby_stipulate_agree_undersigned\", \"hereby_stipulate_agree_undersigned\", \"hereby_stipulate_agree_undersigned\", \"hereby_stipulate_agree_undersigned\", \"hereby_stipulate_agree_undersigned\", \"hold\", \"hold\", \"hold\", \"hold\", \"hold\", \"hold\", \"hold\", \"hold\", \"hold\", \"hold\", \"honor\", \"honor\", \"honor\", \"honor\", \"honor\", \"honor\", \"honor\", \"honor\", \"honor\", \"inc..\", \"inc..\", \"inc..\", \"inc..\", \"inc..\", \"inc..\", \"inc..\", \"inc..\", \"inc..\", \"inc.._attachment\", \"inc.._attachment\", \"inc.._attachment\", \"inc.._attachment\", \"inc.._attachment\", \"inc.._attachment\", \"inc.._attachment\", \"inc.._attachment\", \"inc.._attachment\", \"individual_rule\", \"individual_rule\", \"individual_rule\", \"individual_rule\", \"individual_rule\", \"inform\", \"inform\", \"inform\", \"inform\", \"inform\", \"inform\", \"inform\", \"initial_pretrial_conference\", \"initial_pretrial_conference\", \"initial_pretrial_conference\", \"initial_pretrial_conference\", \"initial_pretrial_conference\", \"international_inc..\", \"international_inc..\", \"international_inc..\", \"international_inc..\", \"international_inc..\", \"issue\", \"issue\", \"issue\", \"issue\", \"issue\", \"issue\", \"issue\", \"issue\", \"issue\", \"issue\", \"iv\", \"iv\", \"iv\", \"iv\", \"iv\", \"j\", \"j\", \"j\", \"j\", \"j\", \"j\", \"j\", \"j\", \"j\", \"j\", \"ja\", \"ja\", \"ja\", \"ja\", \"ja\", \"ja\", \"jar\", \"jar\", \"jar\", \"jar\", \"jar\", \"jco\", \"jco\", \"jco\", \"jmi\", \"jmi\", \"jmi\", \"jmi\", \"jmi\", \"jmi\", \"jmi\", \"jp\", \"jp\", \"jp\", \"jp\", \"jp\", \"jp\", \"jpo\", \"jpo\", \"jpo\", \"jpo\", \"jpo\", \"jr\", \"jr\", \"jr\", \"jr\", \"jr\", \"jsa\", \"jsa\", \"jsa\", \"jsa\", \"jsa\", \"judge\", \"judge\", \"judge\", \"judge\", \"judge\", \"judge\", \"judge\", \"judge\", \"judge\", \"judge\", \"judge_c.d\", \"judge_c.d\", \"judge_c.d\", \"judge_c.d\", \"judge_c.d\", \"judge_c.d\", \"judge_d._kan._gr\", \"judge_d._kan._gr\", \"judge_d._kan._gr\", \"judge_d._kan._gr\", \"judge_d._kan._magistrate\", \"judge_d._kan._magistrate\", \"judge_d._kan._magistrate\", \"judge_d._kan._magistrate\", \"judge_d._kan._magistrate\", \"judge_date\", \"judge_date\", \"judge_date\", \"judge_date\", \"judge_date\", \"judge_date\", \"judge_date\", \"judge_date\", \"judge_date\", \"judge_iii\", \"judge_iii\", \"judge_iii\", \"judge_jury_trial\", \"judge_jury_trial\", \"judge_jury_trial\", \"judge_longer_assigned\", \"judgment\", \"judgment\", \"judgment\", \"judgment\", \"judgment\", \"judgment\", \"judgment\", \"judgment\", \"judgment\", \"judgment\", \"june\", \"june\", \"june\", \"june\", \"june\", \"june\", \"june\", \"june\", \"june\", \"june\", \"jury_demand\", \"jury_demand\", \"jury_demand\", \"jury_demand\", \"jury_demand\", \"jv\", \"jv\", \"jv\", \"jv\", \"k\", \"k\", \"k\", \"k\", \"k\", \"kco\", \"kco\", \"kco\", \"kco\", \"keely\", \"keely\", \"keely\", \"keely\", \"kgo\", \"kgo\", \"kgo\", \"l\", \"l\", \"l\", \"l\", \"l\", \"l\", \"l\", \"l\", \"l.p.\", \"l.p.\", \"l.p.\", \"l.p.\", \"l.p.\", \"l.p.\", \"l.p.\", \"l.p.\", \"lb\", \"lb\", \"lb\", \"lb\", \"lb\", \"lb\", \"leave\", \"leave\", \"leave\", \"leave\", \"leave\", \"leave\", \"leave\", \"leave\", \"leave\", \"leave\", \"letter\", \"letter\", \"letter\", \"letter\", \"letter\", \"letter\", \"letter\", \"letter\", \"letter\", \"letter\", \"letter_address_judge\", \"letter_address_judge\", \"letter_address_judge\", \"letter_address_judge\", \"letter_address_judge\", \"letter_address_judge\", \"letter_address_judge\", \"letter_address_judge\", \"letter_address_judge\", \"letter_address_judge\", \"light\", \"light\", \"light\", \"light\", \"light\", \"limine\", \"limine\", \"limine\", \"limine\", \"limine\", \"limine\", \"limine\", \"limine\", \"limine\", \"line\", \"line\", \"line\", \"line\", \"line\", \"line\", \"llc\", \"llc\", \"llc\", \"llc\", \"llc\", \"llc\", \"llc\", \"llc\", \"llc\", \"lmb\", \"lmb\", \"lmb\", \"lmb\", \"lmb\", \"lmb\", \"loan\", \"loan\", \"loan\", \"loan\", \"loan\", \"loan\", \"loan\", \"loan\", \"loan\", \"local_civil_rule\", \"local_civil_rule\", \"local_civil_rule\", \"local_civil_rule\", \"local_civil_rule\", \"local_civil_rule\", \"local_civil_rule\", \"ltd..\", \"ltd..\", \"ltd..\", \"ltd..\", \"ltd..\", \"ltd..\", \"ltd..\", \"ltd..\", \"magistrate_judge\", \"magistrate_judge\", \"magistrate_judge\", \"magistrate_judge\", \"magistrate_judge\", \"magistrate_judge\", \"magistrate_judge\", \"magistrate_judge\", \"magistrate_judge\", \"magistrate_judge\", \"magistrate_judge_designate\", \"magistrate_judge_designate\", \"magistrate_judge_designate\", \"magistrate_judge_designate\", \"magistrate_judge_designate\", \"magistrate_judge_discovery_hear\", \"magistrate_judge_discovery_hear\", \"magistrate_judge_discovery_hear\", \"magistrate_judge_discovery_hear\", \"mail\", \"mail\", \"mail\", \"mail\", \"mail\", \"mail\", \"march\", \"march\", \"march\", \"march\", \"march\", \"march\", \"march\", \"march\", \"march\", \"march\", \"mark\", \"mark\", \"mark\", \"mark\", \"mark\", \"mark\", \"mark\", \"mark\", \"master\", \"master\", \"master\", \"master\", \"master\", \"may\", \"may\", \"may\", \"may\", \"may\", \"may\", \"may\", \"may\", \"may\", \"may\", \"mbe\", \"mbe\", \"mbe\", \"mbe\", \"memorandum\", \"memorandum\", \"memorandum\", \"memorandum\", \"memorandum\", \"memorandum\", \"memorandum\", \"memorandum\", \"memorandum\", \"memorandum_law_opposition\", \"memorandum_law_opposition\", \"memorandum_law_opposition\", \"memorandum_law_opposition\", \"memorandum_law_opposition\", \"memorandum_law_opposition\", \"memorandum_law_opposition\", \"memorandum_law_opposition\", \"memorandum_law_opposition\", \"memorandum_law_opposition\", \"memorandum_law_support\", \"memorandum_law_support\", \"memorandum_law_support\", \"memorandum_law_support\", \"memorandum_law_support\", \"memorandum_law_support\", \"memorandum_law_support\", \"memorandum_law_support\", \"memorandum_law_support\", \"memorandum_law_support\", \"merrill\", \"merrill\", \"merrill\", \"merrill\", \"minute_entry_proceeding_hold\", \"minute_entry_proceeding_hold\", \"minute_entry_proceeding_hold\", \"minute_entry_proceeding_hold\", \"minute_entry_proceeding_hold\", \"minute_entry_proceeding_hold\", \"minute_entry_proceeding_hold\", \"modify\", \"modify\", \"modify\", \"modify\", \"modify\", \"modify\", \"modify\", \"modify\", \"modify\", \"modify_gf\", \"modify_gf\", \"modify_gf\", \"modify_gf\", \"modify_ldi\", \"modify_ldi\", \"modify_ldi\", \"modify_ldi\", \"modify_ldi\", \"motion\", \"motion\", \"motion\", \"motion\", \"motion\", \"motion\", \"motion\", \"motion\", \"motion\", \"motion\", \"motion_dismiss_thirdparty\", \"motion_dismiss_thirdparty\", \"motion_dismiss_thirdparty\", \"motion_dismiss_thirdparty\", \"motion_dismiss_thirdparty\", \"motion_dismiss_thirdparty\", \"motion_dismiss_thirdparty\", \"motion_dismiss_thirdparty\", \"motion_dismiss_thirdparty\", \"mp\", \"mp\", \"mp\", \"mro\", \"mro\", \"mro\", \"mro\", \"mro\", \"mro\", \"mro\", \"mro\", \"n\", \"n\", \"n\", \"n\", \"n\", \"n\", \"name\", \"name\", \"name\", \"name\", \"name\", \"name\", \"name\", \"name\", \"name\", \"nd\", \"nd\", \"nd\", \"nd\", \"nd\", \"nd\", \"nd\", \"nd\", \"nd\", \"nd\", \"new_address\", \"new_address\", \"new_address\", \"new_address\", \"new_address\", \"new_address\", \"new_york_new_jersey\", \"new_york_new_jersey\", \"new_york_new_jersey\", \"new_york_new_jersey\", \"new_york_new_jersey\", \"new_york_ny\", \"new_york_ny\", \"new_york_ny\", \"new_york_ny\", \"new_york_ny\", \"new_york_ny\", \"new_york_ny\", \"new_york_observer_l.p.\", \"new_york_observer_l.p.\", \"new_york_observer_l.p.\", \"new_york_observer_l.p.\", \"new_york_observer_l.p.\", \"nm\", \"nm\", \"nm\", \"nm\", \"nm\", \"nonecf_case_error\", \"nonecf_case_error\", \"nonecf_case_error\", \"nonecf_case_error\", \"nonecf_case_error\", \"note_attorney\", \"note_attorney\", \"note_attorney\", \"note_attorney\", \"note_attorney_manually_refile\", \"note_attorney_manually_refile\", \"note_attorney_manually_refile\", \"note_attorney_manually_refile\", \"note_attorney_refile_document\", \"note_attorney_refile_document\", \"note_attorney_refile_document\", \"note_attorney_refile_document\", \"note_attorney_refile_document\", \"note_attorney_refile_document\", \"note_attorney_refile_document\", \"notice\", \"notice\", \"notice\", \"notice\", \"notice\", \"notice\", \"notice\", \"notice\", \"notice\", \"notice\", \"notice_appeal\", \"notice_appeal\", \"notice_appeal\", \"notice_appeal\", \"notice_appeal\", \"notice_appeal\", \"notice_appeal\", \"notice_appeal\", \"notice_appeal\", \"notice_appearance_behalf\", \"notice_appearance_behalf\", \"notice_appearance_behalf\", \"notice_appearance_behalf\", \"notice_appearance_behalf\", \"notice_appearance_behalf\", \"notice_appearance_behalf\", \"notice_appearance_behalf\", \"notice_case_reassignment\", \"notice_case_reassignment\", \"notice_case_reassignment\", \"notice_change_address\", \"notice_change_address\", \"notice_change_address\", \"notice_change_address\", \"notice_change_address\", \"notice_change_address\", \"notice_conversion\", \"notice_conversion\", \"notice_conversion\", \"notice_conversion\", \"november\", \"november\", \"november\", \"november\", \"november\", \"november\", \"november\", \"number\", \"number\", \"number\", \"number\", \"number\", \"number\", \"number\", \"number\", \"number\", \"number\", \"office\", \"office\", \"office\", \"office\", \"office\", \"office_p.c\", \"office_p.c\", \"office_p.c\", \"office_p.c\", \"official_transcript_notice\", \"official_transcript_notice\", \"official_transcript_notice\", \"official_transcript_notice\", \"official_transcript_notice\", \"opinion\", \"opinion\", \"opinion\", \"opinion\", \"opinion\", \"opinion\", \"opinion\", \"opinion\", \"opinion\", \"oppose\", \"oppose\", \"oppose\", \"oppose\", \"oppose\", \"oppose\", \"oppose\", \"oppose\", \"opposition\", \"opposition\", \"opposition\", \"opposition\", \"opposition\", \"opposition\", \"opposition\", \"opposition\", \"opposition\", \"oral_argument_set_pm\", \"oral_argument_set_pm\", \"oral_argument_set_pm\", \"oral_argument_set_pm\", \"oral_argument_set_pm\", \"order\", \"order\", \"order\", \"order\", \"order\", \"order\", \"order\", \"order\", \"order\", \"order\", \"p\", \"p\", \"p\", \"p\", \"p\", \"p\", \"p\", \"p.\", \"p.\", \"p.\", \"p.\", \"p.\", \"p.\", \"p.\", \"p.c\", \"p.c\", \"p.c\", \"p.c\", \"p.c\", \"p.c\", \"p.c\", \"p.c\", \"p.m.\", \"p.m.\", \"p.m.\", \"p.m.\", \"p.m.\", \"p.m.\", \"p.m.\", \"p.m.\", \"p.m.\", \"pa\", \"pa\", \"pa\", \"pa\", \"pa\", \"pacer\", \"pacer\", \"pacer\", \"pacer\", \"party\", \"party\", \"party\", \"party\", \"party\", \"party\", \"party\", \"party\", \"party\", \"party\", \"party_calendar_day\", \"party_calendar_day\", \"party_calendar_day\", \"party_calendar_day\", \"party_calendar_day\", \"party_calendar_day\", \"party_shall_comply\", \"party_shall_comply\", \"party_shall_comply\", \"party_shall_comply\", \"pc\", \"pc\", \"pc\", \"pc\", \"pc\", \"pennsylvania\", \"pennsylvania\", \"pennsylvania\", \"pennsylvania\", \"pennsylvania\", \"pennsylvania\", \"pennsylvania\", \"pennsylvania\", \"pennsylvania\", \"pennsylvania\", \"period\", \"period\", \"period\", \"period\", \"place\", \"place\", \"place\", \"place\", \"place\", \"place\", \"place\", \"plaintiff\", \"plaintiff\", \"plaintiff\", \"plaintiff\", \"plaintiff\", \"plaintiff\", \"plaintiff\", \"plaintiff\", \"plaintiff\", \"plaintiff\", \"plaintiff_'\", \"plaintiff_'\", \"plaintiff_'\", \"plaintiff_'\", \"plaintiff_'\", \"plaintiff_'\", \"plaintiff_'\", \"plaintiff_'\", \"plaintiff_'\", \"plaintiff_'\", \"plaintiff_'s\", \"plaintiff_'s\", \"plaintiff_'s\", \"plaintiff_'s\", \"plaintiff_'s\", \"plaintiff_'s\", \"plaintiff_'s\", \"plaintiff_'s\", \"plaintiff_'s\", \"plaintiff_'s\", \"position\", \"position\", \"position\", \"position\", \"position\", \"post\", \"post\", \"post\", \"post\", \"post\", \"pretrial_conference_hold\", \"pretrial_conference_hold\", \"pretrial_conference_hold\", \"pretrial_conference_hold\", \"pretrial_conference_hold\", \"pretrial_conference_hold\", \"pretrial_conference_hold\", \"pretrial_conference_hold\", \"pretrial_conference_hold\", \"pro_hac_vice\", \"pro_hac_vice\", \"pro_hac_vice\", \"pro_hac_vice\", \"pro_se\", \"pro_se\", \"pro_se\", \"pro_se\", \"pro_se\", \"pro_se\", \"pro_se\", \"pro_se\", \"propose\", \"propose\", \"propose\", \"propose\", \"propose\", \"propose\", \"propose\", \"propose\", \"propose\", \"propose\", \"propose_finding_fact_conclusion\", \"propose_finding_fact_conclusion\", \"propose_finding_fact_conclusion\", \"propose_finding_fact_conclusion\", \"provide\", \"provide\", \"provide\", \"provide\", \"provide\", \"provide\", \"provide\", \"provide\", \"public_terminal_purchase_court\", \"public_terminal_purchase_court\", \"public_terminal_purchase_court\", \"public_terminal_purchase_court\", \"public_terminal_purchase_court\", \"public_terminal_purchase_court\", \"public_terminal_purchase_court\", \"purpose\", \"purpose\", \"purpose\", \"purpose\", \"purpose\", \"purpose\", \"purpose\", \"pursuant_u.s.c\", \"pursuant_u.s.c\", \"pursuant_u.s.c\", \"pursuant_u.s.c\", \"q\", \"q\", \"reasonable\", \"reasonable\", \"reasonable\", \"reasonable\", \"reasonable\", \"reasonable\", \"reasonable\", \"receive_night_deposit_box\", \"receive_night_deposit_box\", \"receive_night_deposit_box\", \"receive_night_deposit_box\", \"redact\", \"redact\", \"redact\", \"redact\", \"redact\", \"redact\", \"redact\", \"redact\", \"redaction_calendar_day_mcguirk\", \"redaction_calendar_day_mcguirk\", \"redaction_calendar_day_mcguirk\", \"redaction_calendar_day_mcguirk\", \"redaction_calendar_day_mcguirk\", \"redaction_request_due\", \"redaction_request_due\", \"redaction_request_due\", \"regard\", \"regard\", \"regard\", \"regard\", \"regard\", \"regard\", \"regard\", \"regard\", \"regard\", \"reiter\", \"reiter\", \"reiter\", \"reiter\", \"reiter\", \"related\", \"related\", \"related\", \"related\", \"related\", \"related\", \"related\", \"related\", \"related\", \"related\", \"release_transcript_restriction_set\", \"release_transcript_restriction_set\", \"release_transcript_restriction_set\", \"release_transcript_restriction_set\", \"release_transcript_restriction_set\", \"release_transcript_restriction_set\", \"release_transcript_restriction_set\", \"reply_memorandum_law_support\", \"reply_memorandum_law_support\", \"reply_memorandum_law_support\", \"reply_memorandum_law_support\", \"reply_memorandum_law_support\", \"reply_memorandum_law_support\", \"reply_memorandum_law_support\", \"reply_memorandum_law_support\", \"reply_memorandum_law_support\", \"reply_paper\", \"reply_paper\", \"reply_paper\", \"reply_paper\", \"reply_paper\", \"reply_paper\", \"reply_paper\", \"reply_paper\", \"report\", \"report\", \"report\", \"report\", \"report\", \"report\", \"report\", \"report\", \"report_recommendation\", \"report_recommendation\", \"report_recommendation\", \"report_recommendation\", \"report_recommendation\", \"report_recommendation\", \"report_recommendation\", \"reportertranscriber_deadline_release_transcript\", \"reportertranscriber_deadline_release_transcript\", \"reportertranscriber_deadline_release_transcript\", \"reportertranscriber_deadline_release_transcript\", \"reportertranscriber_deadline_release_transcript\", \"reportertranscriber_deadline_release_transcript\", \"reportertranscriber_deadline_release_transcript\", \"represent\", \"represent\", \"represent\", \"represent\", \"represent\", \"represent\", \"request\", \"request\", \"request\", \"request\", \"request\", \"request\", \"request\", \"request\", \"request\", \"request\", \"request_redaction_transcript\", \"request_redaction_transcript\", \"request_redaction_transcript\", \"request_redaction_transcript\", \"request_redaction_transcript\", \"request_redaction_transcript\", \"require\", \"require\", \"require\", \"require\", \"require\", \"require\", \"require\", \"require\", \"require\", \"require\", \"respectfully_request\", \"respectfully_request\", \"respectfully_request\", \"respectfully_request\", \"respectfully_request\", \"respectfully_request\", \"respectfully_request\", \"response_due_reply\", \"response_due_reply\", \"response_due_reply\", \"response_due_reply\", \"return_date\", \"return_date\", \"return_date\", \"revise_schedule_order\", \"revise_schedule_order\", \"revise_schedule_order\", \"revise_schedule_order\", \"revise_schedule_order\", \"revise_schedule_order\", \"rj\", \"rj\", \"rj\", \"rj\", \"rjm\", \"rjm\", \"rjm\", \"rjm\", \"rjm\", \"rjm\", \"rule\", \"rule\", \"rule\", \"rule\", \"rule\", \"rule\", \"rule\", \"rule\", \"rule_certificate\", \"rule_certificate\", \"rule_certificate\", \"rule_certificate\", \"rule_certificate\", \"rule_corporate_disclosure_statement\", \"rule_corporate_disclosure_statement\", \"rule_corporate_disclosure_statement\", \"rule_corporate_disclosure_statement\", \"rule_corporate_disclosure_statement\", \"rule_corporate_disclosure_statement\", \"rule_deposition_objection\", \"rule_deposition_objection\", \"rule_deposition_objection\", \"rule_disclosure_statement\", \"rule_disclosure_statement\", \"rule_disclosure_statement\", \"rule_disclosure_statement\", \"rule_disclosure_statement\", \"rule_statement\", \"rule_statement\", \"rule_statement\", \"rule_statement\", \"rule_statement\", \"rule_statement\", \"rule_statement\", \"rule_statement\", \"rule_statement\", \"s.d.n.y\", \"s.d.n.y\", \"s.d.n.y\", \"s.d.n.y\", \"sac\", \"sac\", \"sac\", \"sac\", \"sac\", \"sac\", \"sac\", \"sac\", \"sc\", \"sc\", \"sc\", \"sc\", \"schedule\", \"schedule\", \"schedule\", \"schedule\", \"schedule\", \"schedule\", \"schedule\", \"schedule\", \"schedule\", \"schedule\", \"scileppi\", \"scileppi\", \"scileppi\", \"seal\", \"seal\", \"seal\", \"seal\", \"seal\", \"seal\", \"seal\", \"seal\", \"seal\", \"seal\", \"second\", \"second\", \"second\", \"second\", \"second\", \"second\", \"second\", \"second\", \"second\", \"second_amend_complaint\", \"second_amend_complaint\", \"second_amend_complaint\", \"second_amend_complaint\", \"second_amend_complaint\", \"second_amend_complaint\", \"second_amend_complaint\", \"second_amend_complaint\", \"second_amend_complaint\", \"second_amend_complaint\", \"see_attached\", \"see_attached\", \"see_attached\", \"see_attached\", \"see_attached\", \"serve\", \"serve\", \"serve\", \"serve\", \"serve\", \"serve\", \"serve\", \"serve\", \"serve\", \"serve\", \"serve_answer_due\", \"serve_answer_due\", \"serve_answer_due\", \"serve_answer_due\", \"serve_answer_due\", \"service\", \"service\", \"service\", \"service\", \"service\", \"service\", \"service\", \"service\", \"service\", \"service\", \"service_accept\", \"service_accept\", \"service_accept\", \"service_accept\", \"service_accept\", \"service_accept\", \"service_accept\", \"service_accept_legal_clerk\", \"service_accept_legal_clerk\", \"service_accept_legal_clerk\", \"service_make\", \"service_make\", \"service_make\", \"service_make\", \"service_make\", \"set\", \"set\", \"set\", \"set\", \"set\", \"set\", \"set\", \"set\", \"set\", \"set_answer_due\", \"set_answer_due\", \"set_answer_due\", \"set_answer_due\", \"set_forth\", \"set_forth\", \"set_forth\", \"set_forth\", \"set_forth\", \"set_forth\", \"set_forth\", \"set_forth\", \"set_forth\", \"set_forth\", \"settle\", \"settle\", \"settle\", \"settle\", \"settle\", \"settle\", \"shall\", \"shall\", \"shall\", \"shall\", \"shall\", \"shall\", \"shall\", \"shall\", \"shall\", \"shall\", \"show_cause\", \"show_cause\", \"show_cause\", \"show_cause\", \"show_cause\", \"show_cause\", \"show_cause\", \"show_cause\", \"show_cause\", \"sign_judge\", \"sign_judge\", \"sign_judge\", \"sign_judge\", \"sign_judge\", \"sign_judge\", \"sign_judge\", \"sign_judge\", \"sign_judge\", \"sign_judge\", \"sign_judge_copy_mail\", \"sign_judge_copy_mail\", \"sign_judge_copy_mail\", \"sign_judge_copy_mail\", \"sign_judge_gr\", \"sign_judge_gr\", \"sign_judge_gr\", \"sign_judge_gr\", \"sign_judge_gr\", \"sign_judge_gr\", \"sign_judge_iii\", \"sign_judge_iii\", \"sign_judge_iii\", \"sign_judge_iii\", \"sign_judge_iii\", \"sign_judge_iii\", \"sign_judge_iii\", \"sign_judge_iii\", \"sign_judge_iii\", \"sign_judge_s.d.n.y\", \"sign_judge_s.d.n.y\", \"sign_judge_s.d.n.y\", \"sign_judge_s.d.n.y\", \"sign_judge_s.d.n.y\", \"sign_judge_s.d.n.y\", \"sign_judge_s.d.n.y\", \"sign_judge_sr\", \"sign_judge_sr\", \"sign_judge_sr\", \"sign_magistrate_judge\", \"sign_magistrate_judge\", \"sign_magistrate_judge\", \"sign_magistrate_judge\", \"sign_magistrate_judge\", \"sign_magistrate_judge\", \"sign_magistrate_judge\", \"sign_magistrate_judge\", \"sign_magistrate_judge\", \"sign_magistrate_judge\", \"sn\", \"sn\", \"status_conference_hold\", \"status_conference_hold\", \"status_conference_hold\", \"status_conference_hold\", \"status_conference_set_pm\", \"status_conference_set_pm\", \"status_conference_set_pm\", \"status_conference_set_pm\", \"status_conference_set_pm\", \"status_conference_set_pm\", \"status_conference_set_pm\", \"status_conference_set_pm\", \"stay\", \"stay\", \"stay\", \"stay\", \"stay\", \"stay\", \"stay\", \"stay\", \"stipulation\", \"stipulation\", \"stipulation\", \"stipulation\", \"stipulation\", \"stipulation\", \"stipulation\", \"stipulation\", \"stipulation\", \"stipulation\", \"stock\", \"stock\", \"stock\", \"stock\", \"street_new_york_ny\", \"street_new_york_ny\", \"street_new_york_ny\", \"street_new_york_ny\", \"strike\", \"strike\", \"strike\", \"strike\", \"strike\", \"submit\", \"submit\", \"submit\", \"submit\", \"submit\", \"submit\", \"submit\", \"submit\", \"submit\", \"submit\", \"subpoena\", \"subpoena\", \"subpoena\", \"subpoena\", \"subpoena\", \"subpoena\", \"summary_judgment\", \"summary_judgment\", \"summary_judgment\", \"summary_judgment\", \"summary_judgment\", \"summary_judgment\", \"summary_judgment\", \"summary_judgment\", \"summary_judgment\", \"summary_judgment\", \"summary_judgment_favor\", \"summary_judgment_favor\", \"summary_judgment_favor\", \"summary_judgment_favor\", \"summons_complaint\", \"summons_complaint\", \"summons_complaint\", \"summons_complaint\", \"summons_complaint\", \"summons_return_execute\", \"summons_return_execute\", \"summons_return_execute\", \"summons_return_execute\", \"summons_return_execute\", \"supplemental_amend\", \"supplemental_amend\", \"supplemental_amend\", \"supplemental_amend\", \"supplemental_amend\", \"support\", \"support\", \"support\", \"support\", \"support\", \"support\", \"support\", \"support\", \"support\", \"support\", \"support_paper_review\", \"support_paper_review\", \"support_paper_review\", \"support_paper_review\", \"telephone\", \"telephone\", \"telephone\", \"telephone\", \"telephone\", \"telephone\", \"telephone_conference_hold\", \"telephone_conference_hold\", \"telephone_conference_hold\", \"telephone_conference_hold\", \"telephone_conference_hold\", \"telephone_conference_hold\", \"telephone_conference_set\", \"telephone_conference_set\", \"telephone_conference_set\", \"telephone_conference_set\", \"telephone_conference_set\", \"telephone_conference_set\", \"terminate\", \"terminate\", \"terminate\", \"terminate\", \"terminate\", \"terminate\", \"terminate\", \"time\", \"time\", \"time\", \"time\", \"time\", \"time\", \"time\", \"time\", \"time\", \"tp\", \"tp\", \"tp\", \"tp\", \"transaction\", \"transaction\", \"transaction\", \"transaction\", \"transaction\", \"transaction\", \"transcript_may_make_remotely\", \"transcript_may_make_remotely\", \"transcript_may_make_remotely\", \"transcript_may_make_remotely\", \"transcript_may_make_remotely\", \"transcript_may_make_remotely\", \"transcript_may_make_remotely\", \"transcript_may_view_court\", \"transcript_may_view_court\", \"transcript_may_view_court\", \"transcript_may_view_court\", \"transcript_may_view_court\", \"transcript_may_view_court\", \"transcript_may_view_court\", \"transcript_proceeding\", \"transcript_proceeding\", \"transcript_proceeding\", \"transcript_proceeding_conference_hold\", \"transcript_proceeding_conference_hold\", \"transcript_proceeding_conference_hold\", \"transcript_proceeding_conference_hold\", \"transcript_proceeding_conference_hold\", \"transcript_proceeding_conference_hold\", \"transcript_proceeding_conference_hold\", \"transmit\", \"transmit\", \"transmit\", \"transmit\", \"transmit\", \"transmit\", \"transmit\", \"transmit\", \"trial\", \"trial\", \"trial\", \"trial\", \"trial\", \"trial\", \"trial\", \"trial\", \"trial\", \"trial\", \"tro\", \"tro\", \"tro\", \"tro\", \"tro\", \"u\", \"u\", \"u\", \"u\", \"united_state_courthouse_pearl\", \"united_state_courthouse_pearl\", \"united_state_courthouse_pearl\", \"united_state_courthouse_pearl\", \"united_state_courthouse_pearl\", \"united_state_courthouse_pearl\", \"unredacted\", \"unredacted\", \"unredacted\", \"unredacted\", \"usa\", \"usa\", \"usa\", \"usca\", \"usca\", \"usca\", \"usca_case\", \"usca_case\", \"usca_case\", \"usca_case\", \"via\", \"via\", \"via\", \"via\", \"via\", \"wellington\", \"wellington\", \"wellington\", \"wellington\", \"withdraw_attorney\", \"withdraw_attorney\", \"withdraw_attorney\", \"withdraw_attorney\", \"withdraw_attorney\", \"withdraw_attorney\", \"withdraw_attorney\", \"within_day\", \"within_day\", \"within_day\", \"within_day\", \"within_day\", \"within_day\", \"within_day\", \"without_cost_either_party\", \"without_cost_either_party\", \"without_cost_either_party\", \"without_cost_either_party\", \"without_cost_either_party\", \"worcester\", \"worcester\", \"worcester\", \"worcester\", \"worcester\", \"worcester\", \"would\", \"would\", \"would\", \"would\", \"would\", \"would\", \"would\", \"would\", \"york_ny_judge\", \"york_ny_judge\", \"york_ny_judge\", \"york_ny_judge\", \"york_ny_judge\", \"york_ny_magistrate_judge\", \"york_ny_magistrate_judge\", \"york_ny_magistrate_judge\", \"york_ny_magistrate_judge\", \"york_ny_magistrate_judge\", \"yv\", \"yv\", \"yv\", \"yv\", \"yv\", \"yv\", \"yv\"]}, \"lambda.step\": 0.01, \"plot.opts\": {\"ylab\": \"PC2\", \"xlab\": \"PC1\"}};\n",
       "\n",
       "function LDAvis_load_lib(url, callback){\n",
       "  var s = document.createElement('script');\n",
       "  s.src = url;\n",
       "  s.async = true;\n",
       "  s.onreadystatechange = s.onload = callback;\n",
       "  s.onerror = function(){console.warn(\"failed to load library \" + url);};\n",
       "  document.getElementsByTagName(\"head\")[0].appendChild(s);\n",
       "}\n",
       "\n",
       "if(typeof(LDAvis) !== \"undefined\"){\n",
       "   // already loaded: just create the visualization\n",
       "   !function(LDAvis){\n",
       "       new LDAvis(\"#\" + \"ldavis_el2506819944969366002128518707\", ldavis_el2506819944969366002128518707_data);\n",
       "   }(LDAvis);\n",
       "}else if(typeof define === \"function\" && define.amd){\n",
       "   // require.js is available: use it to load d3/LDAvis\n",
       "   require.config({paths: {d3: \"https://cdnjs.cloudflare.com/ajax/libs/d3/3.5.5/d3.min\"}});\n",
       "   require([\"d3\"], function(d3){\n",
       "      window.d3 = d3;\n",
       "      LDAvis_load_lib(\"https://cdn.rawgit.com/bmabey/pyLDAvis/files/ldavis.v1.0.0.js\", function(){\n",
       "        new LDAvis(\"#\" + \"ldavis_el2506819944969366002128518707\", ldavis_el2506819944969366002128518707_data);\n",
       "      });\n",
       "    });\n",
       "}else{\n",
       "    // require.js not available: dynamically load d3 & LDAvis\n",
       "    LDAvis_load_lib(\"https://cdnjs.cloudflare.com/ajax/libs/d3/3.5.5/d3.min.js\", function(){\n",
       "         LDAvis_load_lib(\"https://cdn.rawgit.com/bmabey/pyLDAvis/files/ldavis.v1.0.0.js\", function(){\n",
       "                 new LDAvis(\"#\" + \"ldavis_el2506819944969366002128518707\", ldavis_el2506819944969366002128518707_data);\n",
       "            })\n",
       "         });\n",
       "}\n",
       "</script>"
      ],
      "text/plain": [
       "<IPython.core.display.HTML object>"
      ]
     },
     "execution_count": 101,
     "metadata": {},
     "output_type": "execute_result"
    }
   ],
   "source": [
    "num_topics = 10\n",
    "pretrained_model_file_path = 'docket_texts/lda_model_noorgnomodel_' + str(num_topics)\n",
    "\n",
    "column_name = str(num_topics) + ' Topics Clfier'\n",
    "\n",
    "topic_names = {}\n",
    "for i in range(num_topics):\n",
    "    topic_names[i] = 'Topic ' + str(i)\n",
    "\n",
    "LDAvis_prepared, model = topic_modeling_pipeline(num_topics, pretrained_model_file_path, trigram_bow_corpus, trigram_dictionary, export = True)\n",
    "topic_summary = []\n",
    "\n",
    "for docket_text in list(new_df['Phrase Model']):\n",
    "    #print(docket_text)\n",
    "    topic_summary.append(lda_description(docket_text, model, trigram_dictionary, topic_names))\n",
    "\n",
    "new_df[column_name] = topic_summary\n",
    "pyLDAvis.display(LDAvis_prepared)"
   ]
  },
  {
   "cell_type": "markdown",
   "metadata": {},
   "source": [
    "### Export DataFrame to .csv"
   ]
  },
  {
   "cell_type": "code",
   "execution_count": 103,
   "metadata": {},
   "outputs": [],
   "source": [
    "new_df.to_csv('examine_this.csv', index = False)"
   ]
  },
  {
   "cell_type": "code",
   "execution_count": null,
   "metadata": {},
   "outputs": [],
   "source": []
  },
  {
   "cell_type": "code",
   "execution_count": null,
   "metadata": {},
   "outputs": [],
   "source": []
  },
  {
   "cell_type": "code",
   "execution_count": null,
   "metadata": {},
   "outputs": [],
   "source": []
  },
  {
   "cell_type": "code",
   "execution_count": null,
   "metadata": {},
   "outputs": [],
   "source": []
  }
 ],
 "metadata": {
  "kernelspec": {
   "display_name": "Python 3",
   "language": "python",
   "name": "python3"
  }
 },
 "nbformat": 4,
 "nbformat_minor": 2
}
