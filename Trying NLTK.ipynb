{
 "cells": [
  {
   "cell_type": "markdown",
   "metadata": {},
   "source": [
    "## Notebook Goal:  \n",
    "Using existing NLP and LDA methodologies to perform topic modeling on docket texts. Three hyperparameters to consider:\n",
    "1. to remove organization or not in docket texts, so organizations themselves won't become topics.\n",
    "2. to remove names or not in docket texts, so names themselves won't become topics.\n",
    "3. variations in topic numbers: [2, 3, 5, 10]\n",
    "\n",
    "Will then perform visualizations and model summary output on every permutation/iteration."
   ]
  },
  {
   "cell_type": "code",
   "execution_count": 2,
   "metadata": {},
   "outputs": [],
   "source": [
    "import nltk\n",
    "from nltk.tag.stanford import StanfordNERTagger\n",
    "from nltk.stem import WordNetLemmatizer\n",
    "from nltk.corpus import wordnet\n",
    "from nltk.corpus import stopwords"
   ]
  },
  {
   "cell_type": "code",
   "execution_count": 3,
   "metadata": {},
   "outputs": [
    {
     "name": "stderr",
     "output_type": "stream",
     "text": [
      "c:\\users\\inves\\appdata\\local\\programs\\python\\python35\\lib\\site-packages\\gensim\\utils.py:1197: UserWarning: detected Windows; aliasing chunkize to chunkize_serial\n",
      "  warnings.warn(\"detected Windows; aliasing chunkize to chunkize_serial\")\n"
     ]
    }
   ],
   "source": [
    "from gensim.models.word2vec import LineSentence\n",
    "from gensim.models import Phrases\n",
    "from gensim.corpora import Dictionary, MmCorpus\n",
    "from gensim.models.ldamulticore import LdaMulticore\n",
    "\n",
    "#visualization libraries\n",
    "import pyLDAvis\n",
    "import pyLDAvis.gensim"
   ]
  },
  {
   "cell_type": "code",
   "execution_count": 163,
   "metadata": {},
   "outputs": [],
   "source": [
    "import os\n",
    "java_path = 'C:/Program Files/Java/jdk-10.0.1/bin/java.exe'\n",
    "os.environ['JAVAHOME'] = java_path\n",
    "\n",
    "import pandas as pd\n",
    "import numpy as np\n",
    "import codecs\n",
    "import itertools as it\n",
    "from bs4 import BeautifulSoup\n",
    "import warnings\n",
    "import pickle\n",
    "from collections import Counter\n",
    "import re"
   ]
  },
  {
   "cell_type": "code",
   "execution_count": 13,
   "metadata": {},
   "outputs": [],
   "source": [
    "#import corpus/docket texts from html to pandas DataFrame\n",
    "def grab_dockets():\n",
    "    files = []\n",
    "    #get all .html files in the folder (all docket files are in .html)\n",
    "    for file in os.listdir('docket_texts/'):\n",
    "        if file.endswith('.html'):\n",
    "            files.append(os.path.join('docket_texts/', file))\n",
    "\n",
    "    df_docket_texts = pd.DataFrame()\n",
    "    \n",
    "    for i in range(len(files)): #gather all docket texts\n",
    "    #for i in [0, 1]: #for testing purposes\n",
    "        \n",
    "        content = codecs.open(files[i], 'r', 'utf-8').read()\n",
    "        #use beautiful soup to get the case ID\n",
    "        soup = BeautifulSoup(content, 'lxml')\n",
    "        case_id = str(soup.find_all('h3'))    \n",
    "        bookmark1 = case_id.find('CASE #:') + len('CASE #:')\n",
    "        bookmark2 = case_id.find('</h3>')\n",
    "        case_id = case_id[bookmark1:bookmark2]\n",
    "\n",
    "        #use pandas to grab tables in the html files\n",
    "        docket_tables = pd.read_html(content)\n",
    "\n",
    "        #error checking: gotta do this because there's different length of docket_list/\n",
    "        #usually docket texts are in docket_list[3], but not always\n",
    "        n = 0\n",
    "        while docket_tables[n].isin(['Docket Text']).sum().sum() == 0:\n",
    "            #print(n, docket_tables[n].isin(['Docket Text']).sum().sum())\n",
    "            n += 1\n",
    "                        \n",
    "        #print(i, files[i])\n",
    "        #print(docket_tables[n].head())\n",
    "\n",
    "        #docket_tables[n] is the docket text table\n",
    "        new_header = docket_tables[n].iloc[0]\n",
    "        docket_tables[n] = docket_tables[n][1:]\n",
    "        docket_tables[n].columns = new_header\n",
    "        \n",
    "        docket_tables[n]['#'] = pd.to_numeric(docket_tables[n]['#'],\n",
    "                                              downcast = 'signed', errors = 'coerce')\n",
    "        docket_tables[n]['Date Filed'] = pd.to_datetime(docket_tables[n]['Date Filed'])\n",
    "        docket_tables[n]['Case ID'] = case_id\n",
    "\n",
    "        df_docket_texts = pd.concat([df_docket_texts, docket_tables[n]])\n",
    "    #reorder a column\n",
    "    cols = list(df_docket_texts.columns)\n",
    "    df_docket_texts = df_docket_texts[[cols[-1]] + cols[:-1]]\n",
    "    \n",
    "    print('current docket text table size/shape: {}'.format(df_docket_texts.shape))\n",
    "    return df_docket_texts"
   ]
  },
  {
   "cell_type": "markdown",
   "metadata": {},
   "source": [
    "### Pull from dir .html files"
   ]
  },
  {
   "cell_type": "code",
   "execution_count": 14,
   "metadata": {
    "scrolled": true
   },
   "outputs": [
    {
     "name": "stderr",
     "output_type": "stream",
     "text": [
      "c:\\users\\inves\\appdata\\local\\programs\\python\\python35\\lib\\site-packages\\bs4\\builder\\_lxml.py:250: DeprecationWarning: inspect.getargspec() is deprecated, use inspect.signature() instead\n",
      "  self.parser.feed(markup)\n",
      "c:\\users\\inves\\appdata\\local\\programs\\python\\python35\\lib\\site-packages\\bs4\\builder\\_lxml.py:250: DeprecationWarning: inspect.getargspec() is deprecated, use inspect.signature() instead\n",
      "  self.parser.feed(markup)\n",
      "c:\\users\\inves\\appdata\\local\\programs\\python\\python35\\lib\\site-packages\\bs4\\builder\\_lxml.py:250: DeprecationWarning: inspect.getargspec() is deprecated, use inspect.signature() instead\n",
      "  self.parser.feed(markup)\n",
      "c:\\users\\inves\\appdata\\local\\programs\\python\\python35\\lib\\site-packages\\bs4\\builder\\_lxml.py:250: DeprecationWarning: inspect.getargspec() is deprecated, use inspect.signature() instead\n",
      "  self.parser.feed(markup)\n",
      "c:\\users\\inves\\appdata\\local\\programs\\python\\python35\\lib\\site-packages\\bs4\\builder\\_lxml.py:250: DeprecationWarning: inspect.getargspec() is deprecated, use inspect.signature() instead\n",
      "  self.parser.feed(markup)\n",
      "c:\\users\\inves\\appdata\\local\\programs\\python\\python35\\lib\\site-packages\\bs4\\builder\\_lxml.py:250: DeprecationWarning: inspect.getargspec() is deprecated, use inspect.signature() instead\n",
      "  self.parser.feed(markup)\n",
      "c:\\users\\inves\\appdata\\local\\programs\\python\\python35\\lib\\site-packages\\bs4\\builder\\_lxml.py:250: DeprecationWarning: inspect.getargspec() is deprecated, use inspect.signature() instead\n",
      "  self.parser.feed(markup)\n",
      "c:\\users\\inves\\appdata\\local\\programs\\python\\python35\\lib\\site-packages\\bs4\\builder\\_lxml.py:250: DeprecationWarning: inspect.getargspec() is deprecated, use inspect.signature() instead\n",
      "  self.parser.feed(markup)\n",
      "c:\\users\\inves\\appdata\\local\\programs\\python\\python35\\lib\\site-packages\\bs4\\builder\\_lxml.py:250: DeprecationWarning: inspect.getargspec() is deprecated, use inspect.signature() instead\n",
      "  self.parser.feed(markup)\n",
      "c:\\users\\inves\\appdata\\local\\programs\\python\\python35\\lib\\site-packages\\bs4\\builder\\_lxml.py:250: DeprecationWarning: inspect.getargspec() is deprecated, use inspect.signature() instead\n",
      "  self.parser.feed(markup)\n",
      "c:\\users\\inves\\appdata\\local\\programs\\python\\python35\\lib\\site-packages\\bs4\\builder\\_lxml.py:250: DeprecationWarning: inspect.getargspec() is deprecated, use inspect.signature() instead\n",
      "  self.parser.feed(markup)\n",
      "c:\\users\\inves\\appdata\\local\\programs\\python\\python35\\lib\\site-packages\\bs4\\builder\\_lxml.py:250: DeprecationWarning: inspect.getargspec() is deprecated, use inspect.signature() instead\n",
      "  self.parser.feed(markup)\n",
      "c:\\users\\inves\\appdata\\local\\programs\\python\\python35\\lib\\site-packages\\bs4\\builder\\_lxml.py:250: DeprecationWarning: inspect.getargspec() is deprecated, use inspect.signature() instead\n",
      "  self.parser.feed(markup)\n",
      "c:\\users\\inves\\appdata\\local\\programs\\python\\python35\\lib\\site-packages\\bs4\\builder\\_lxml.py:250: DeprecationWarning: inspect.getargspec() is deprecated, use inspect.signature() instead\n",
      "  self.parser.feed(markup)\n",
      "c:\\users\\inves\\appdata\\local\\programs\\python\\python35\\lib\\site-packages\\bs4\\builder\\_lxml.py:250: DeprecationWarning: inspect.getargspec() is deprecated, use inspect.signature() instead\n",
      "  self.parser.feed(markup)\n",
      "c:\\users\\inves\\appdata\\local\\programs\\python\\python35\\lib\\site-packages\\bs4\\builder\\_lxml.py:250: DeprecationWarning: inspect.getargspec() is deprecated, use inspect.signature() instead\n",
      "  self.parser.feed(markup)\n",
      "c:\\users\\inves\\appdata\\local\\programs\\python\\python35\\lib\\site-packages\\bs4\\builder\\_lxml.py:250: DeprecationWarning: inspect.getargspec() is deprecated, use inspect.signature() instead\n",
      "  self.parser.feed(markup)\n",
      "c:\\users\\inves\\appdata\\local\\programs\\python\\python35\\lib\\site-packages\\bs4\\builder\\_lxml.py:250: DeprecationWarning: inspect.getargspec() is deprecated, use inspect.signature() instead\n",
      "  self.parser.feed(markup)\n",
      "c:\\users\\inves\\appdata\\local\\programs\\python\\python35\\lib\\site-packages\\bs4\\builder\\_lxml.py:250: DeprecationWarning: inspect.getargspec() is deprecated, use inspect.signature() instead\n",
      "  self.parser.feed(markup)\n",
      "c:\\users\\inves\\appdata\\local\\programs\\python\\python35\\lib\\site-packages\\bs4\\builder\\_lxml.py:250: DeprecationWarning: inspect.getargspec() is deprecated, use inspect.signature() instead\n",
      "  self.parser.feed(markup)\n",
      "c:\\users\\inves\\appdata\\local\\programs\\python\\python35\\lib\\site-packages\\bs4\\builder\\_lxml.py:250: DeprecationWarning: inspect.getargspec() is deprecated, use inspect.signature() instead\n",
      "  self.parser.feed(markup)\n",
      "c:\\users\\inves\\appdata\\local\\programs\\python\\python35\\lib\\site-packages\\bs4\\builder\\_lxml.py:250: DeprecationWarning: inspect.getargspec() is deprecated, use inspect.signature() instead\n",
      "  self.parser.feed(markup)\n",
      "c:\\users\\inves\\appdata\\local\\programs\\python\\python35\\lib\\site-packages\\bs4\\builder\\_lxml.py:250: DeprecationWarning: inspect.getargspec() is deprecated, use inspect.signature() instead\n",
      "  self.parser.feed(markup)\n"
     ]
    },
    {
     "name": "stdout",
     "output_type": "stream",
     "text": [
      "current docket text table size/shape: (3244, 4)\n",
      "docket text 0\n",
      "COMPLAINT against Cardiogenics Holdings, Inc. filing fee $ 400, receipt number 0207-8445206 Was the Disclosure Statement on Civil Cover Sheet completed -YES,, filed by LG Capital Funding, LLC. (Steinmetz, Michael) (Additional attachment(s) added on 3/11/2016: # 1 Civil Cover Sheet, # 2 Proposed Summons) (Bowens, Priscilla). (Entered: 03/10/2016) \n",
      "\n",
      "docket text 1\n",
      "Case assigned to Judge Ann M Donnelly and Magistrate Judge Vera M. Scanlon. Please download and review the Individual Practices of the assigned Judges, located on our website. Attorneys are responsible for providing courtesy copies to judges where their Individual Practices require such. (Bowens, Priscilla) (Entered: 03/11/2016) \n",
      "\n",
      "docket text 2\n",
      "Summons Issued as to Cardiogenics Holdings, Inc.. (Bowens, Priscilla) (Entered: 03/11/2016) \n",
      "\n",
      "docket text 3\n",
      "NOTICE - emailed attorney regarding missing second page of the civil cover sheet. (Bowens, Priscilla) (Entered: 03/11/2016) \n",
      "\n",
      "docket text 4\n",
      "In accordance with Rule 73 of the Federal Rules of Civil Procedure and Local Rule 73.1, the parties are notified that if all parties consent a United States magistrate judge of this court is available to conduct all proceedings in this civil action including a (jury or nonjury) trial and to order the entry of a final judgment. Attached to the Notice is a blank copy of the consent form that should be filled out, signed and filed electronically only if all parties wish to consent. The form may also be accessed at the following link: http://www.uscourts.gov/uscourts/FormsAndFees/Forms/AO085.pdf. You may withhold your consent without adverse substantive consequences. Do NOT return or file the consent unless all parties have signed the consent. (Bowens, Priscilla) (Entered: 03/11/2016) \n",
      "\n"
     ]
    }
   ],
   "source": [
    "df = grab_dockets()\n",
    "docket_original = list(df['Docket Text'])\n",
    "for i in range(5):\n",
    "    print('docket text {}'.format(i))\n",
    "    print(docket_original[i], '\\n')"
   ]
  },
  {
   "cell_type": "markdown",
   "metadata": {},
   "source": [
    "### Used Stanford NER to identy Names and Entities"
   ]
  },
  {
   "cell_type": "code",
   "execution_count": 104,
   "metadata": {},
   "outputs": [
    {
     "name": "stdout",
     "output_type": "stream",
     "text": [
      "Wall time: 1h 34min 53s\n"
     ]
    }
   ],
   "source": [
    "%%time\n",
    "path_to_model = r'C:\\Users\\inves\\AppData\\Local\\Programs\\Python\\Python35\\Lib\\site-packages\\nltk\\stanford-ner-2018-02-27\\classifiers\\english.all.3class.distsim.crf.ser.gz'\n",
    "path_to_jar = r'C:\\Users\\inves\\AppData\\Local\\Programs\\Python\\Python35\\Lib\\site-packages\\nltk\\stanford-ner-2018-02-27\\stanford-ner.jar'\n",
    "tagger = StanfordNERTagger(path_to_model, path_to_jar = path_to_jar)\n",
    "\n",
    "output = []\n",
    "#length = 100 \n",
    "length = len(docket_original)\n",
    "for i in range(length):\n",
    "    org_str = []\n",
    "    name_str = []\n",
    "    stripped_str1 = []\n",
    "    stripped_str2 = []\n",
    "    tokens = nltk.tokenize.word_tokenize(docket_original[i])\n",
    "    for label in tagger.tag(tokens):\n",
    "        #print(label)\n",
    "        if label[1] == 'ORGANIZATION':\n",
    "            org_str.append(label[0])\n",
    "            stripped_str1.append('-ORG-')\n",
    "        elif label[1] == 'PERSON':\n",
    "            name_str.append(label[0])\n",
    "            stripped_str1.append('-NAME-')\n",
    "        else:\n",
    "            stripped_str1.append(label[0])\n",
    "            stripped_str2.append(label[0])\n",
    "    \n",
    "    output.append([docket_original[i],\n",
    "                   ' '.join(org_str),\n",
    "                   ' '.join(name_str),\n",
    "                   ' '.join(stripped_str1),\n",
    "                   ' '.join(stripped_str2)])\n",
    "    "
   ]
  },
  {
   "cell_type": "code",
   "execution_count": 107,
   "metadata": {},
   "outputs": [],
   "source": [
    "NER_df = pd.DataFrame(output, columns = ['Original Docket Text', 'Organization Portion', 'Name Portion', \n",
    "                                         'Identifying Org and Name', 'Stripped Org and Name'])"
   ]
  },
  {
   "cell_type": "markdown",
   "metadata": {},
   "source": [
    "### To re-build new_df, start here"
   ]
  },
  {
   "cell_type": "code",
   "execution_count": 312,
   "metadata": {},
   "outputs": [],
   "source": [
    "new_df = NER_df.copy()"
   ]
  },
  {
   "cell_type": "code",
   "execution_count": 313,
   "metadata": {},
   "outputs": [
    {
     "name": "stdout",
     "output_type": "stream",
     "text": [
      "                                Original Docket Text  \\\n",
      "0  COMPLAINT against Cardiogenics Holdings, Inc. ...   \n",
      "1  Case assigned to Judge Ann M Donnelly and Magi...   \n",
      "2  Summons Issued as to Cardiogenics Holdings, In...   \n",
      "3  NOTICE - emailed attorney regarding missing se...   \n",
      "4  In accordance with Rule 73 of the Federal Rule...   \n",
      "\n",
      "                              Organization Portion  \\\n",
      "0  Cardiogenics Holdings , Inc. LG Capital Funding   \n",
      "1      Individual Practices of the assigned Judges   \n",
      "2                            Cardiogenics Holdings   \n",
      "3                                                    \n",
      "4                                                    \n",
      "\n",
      "                                      Name Portion  \\\n",
      "0             ( Steinmetz Michael Bowens Priscilla   \n",
      "1  Ann M Donnelly Vera M. Scanlon Bowens Priscilla   \n",
      "2                                 Bowens Priscilla   \n",
      "3                                 Bowens Priscilla   \n",
      "4                                 Bowens Priscilla   \n",
      "\n",
      "                            Identifying Org and Name  \\\n",
      "0  COMPLAINT against -ORG- -ORG- -ORG- -ORG- fili...   \n",
      "1  Case assigned to Judge -NAME- -NAME- -NAME- an...   \n",
      "2  Summons Issued as to -ORG- -ORG- , Inc.. ( -NA...   \n",
      "3  NOTICE - emailed attorney regarding missing se...   \n",
      "4  In accordance with Rule 73 of the Federal Rule...   \n",
      "\n",
      "                               Stripped Org and Name  \n",
      "0  COMPLAINT against filing fee $ 400 , receipt n...  \n",
      "1  Case assigned to Judge and Magistrate Judge . ...  \n",
      "2  Summons Issued as to , Inc.. ( , ) ( Entered :...  \n",
      "3  NOTICE - emailed attorney regarding missing se...  \n",
      "4  In accordance with Rule 73 of the Federal Rule...  \n"
     ]
    }
   ],
   "source": [
    "print(new_df.head())\n",
    "docket_text_list = list(new_df['Stripped Org and Name'])"
   ]
  },
  {
   "cell_type": "code",
   "execution_count": 314,
   "metadata": {},
   "outputs": [],
   "source": [
    "def text_preprocess1(text):\n",
    "    text = re.sub(\"[\\(\\[].*?[\\)\\]]\", \"\", text)\n",
    "    text = text.replace('-', '')\n",
    "    text = text.replace('(', ' ')\n",
    "    text = text.replace(')', ' ')\n",
    "    text = text.replace('(s)', 's')\n",
    "    text = text.replace(\"'s\", 's')\n",
    "    text = text.replace('*', '')\n",
    "    text = text.replace('', '')\n",
    "    text = text.replace('<', '')\n",
    "    text = text.replace('/', ' ')\n",
    "    text = text.replace('\\\\', '')\n",
    "    text = text.replace('&', ' ')\n",
    "    return text\n",
    "\n",
    "def text_preprocess2(text):\n",
    "    text = text.replace('.', '')\n",
    "    return text\n",
    "\n",
    "def remove_stop(sentence):\n",
    "    output = []\n",
    "    for word in sentence.split():\n",
    "        if word not in set(stopwords.words('english')):\n",
    "            output.append(word)\n",
    "    return ' '.join(output)\n",
    "\n",
    "keywords = pd.read_csv('docket_texts/keywords.csv', header = None)\n",
    "keywords.columns = ['keywords']\n",
    "keyword_list = list(keywords['keywords'])"
   ]
  },
  {
   "cell_type": "code",
   "execution_count": 315,
   "metadata": {},
   "outputs": [
    {
     "name": "stdout",
     "output_type": "stream",
     "text": [
      "Case assigned to Judge and Magistrate Judge . Please download and review the , located on our website . Attorneys are responsible for providing courtesy copies to judges where their Individual Practices require such . ( , ) ( Entered : 03112016 )\n",
      "case assigned to judge and magistrate judge . please download and review the , located on our website . attorneys are responsible for providing courtesy copies to judges where their individual practices require such .  \n",
      "3244\n"
     ]
    }
   ],
   "source": [
    "print(docket_text_list[1])\n",
    "docket_text_list = [text_preprocess1(sentence).lower() for sentence in docket_text_list]\n",
    "print(docket_text_list[1])\n",
    "print(len(docket_text_list))"
   ]
  },
  {
   "cell_type": "code",
   "execution_count": 316,
   "metadata": {},
   "outputs": [],
   "source": [
    "class Splitter(object):\n",
    "\n",
    "    def __init__(self):\n",
    "        self.splitter = nltk.data.load('tokenizers/punkt/english.pickle')\n",
    "        self.tokenizer = nltk.tokenize.TreebankWordTokenizer()\n",
    "\n",
    "    def split(self,text):\n",
    "\n",
    "        # split into single sentence\n",
    "        sentences = self.splitter.tokenize(text)\n",
    "        # tokenization in each sentences\n",
    "        tokens = [self.tokenizer.tokenize(remove_stop(sent)) for sent in sentences]\n",
    "        return tokens\n",
    "\n",
    "\n",
    "class LemmatizationWithPOSTagger(object):\n",
    "    def __init__(self):\n",
    "        pass\n",
    "    def get_wordnet_pos(self,treebank_tag):\n",
    "        \"\"\"\n",
    "        return WORDNET POS compliance to WORDENT lemmatization (a,n,r,v) \n",
    "        \"\"\"\n",
    "        if treebank_tag.startswith('J'):\n",
    "            return wordnet.ADJ\n",
    "        elif treebank_tag.startswith('V'):\n",
    "            return wordnet.VERB\n",
    "        elif treebank_tag.startswith('N'):\n",
    "            return wordnet.NOUN\n",
    "        elif treebank_tag.startswith('R'):\n",
    "            return wordnet.ADV\n",
    "        else:\n",
    "            # As default pos in lemmatization is Noun\n",
    "            return wordnet.NOUN\n",
    "\n",
    "    def pos_tag(self,tokens):\n",
    "        # find the pos tagginf for each tokens [('What', 'WP'), ('can', 'MD'), ('I', 'PRP') ....\n",
    "        pos_tokens = [nltk.pos_tag(token) for token in tokens]\n",
    "\n",
    "        # lemmatization using pos tagg   \n",
    "        # convert into feature set of [('What', 'What', ['WP']), ('can', 'can', ['MD']), ... ie [original WORD, Lemmatized word, POS tag]\n",
    "        pos_tokens = [ [(word, lemmatizer.lemmatize(word,self.get_wordnet_pos(pos_tag)), [pos_tag]) for (word,pos_tag) in pos] for pos in pos_tokens]\n",
    "        return pos_tokens"
   ]
  },
  {
   "cell_type": "code",
   "execution_count": 317,
   "metadata": {},
   "outputs": [
    {
     "name": "stdout",
     "output_type": "stream",
     "text": [
      "Wall time: 1min 48s\n"
     ]
    }
   ],
   "source": [
    "%%time\n",
    "lemmatizer = WordNetLemmatizer()\n",
    "splitter = Splitter()\n",
    "lemmatization_using_pos_tagger = LemmatizationWithPOSTagger()\n",
    "\n",
    "lemma_docket_text_list = []\n",
    "for docket_text in docket_text_list:\n",
    "    #step 1 split document into sentence followed by tokenization\n",
    "    tokens = splitter.split(docket_text)\n",
    "\n",
    "    #step 2 lemmatization using pos tagger \n",
    "    lemma_pos_token = lemmatization_using_pos_tagger.pos_tag(tokens)\n",
    "    lemma_docket_text_list.append(lemma_pos_token)"
   ]
  },
  {
   "cell_type": "code",
   "execution_count": 318,
   "metadata": {},
   "outputs": [
    {
     "name": "stdout",
     "output_type": "stream",
     "text": [
      "3244\n",
      "2\n",
      "22\n",
      "('complaint', 'complaint', ['NN'])\n",
      "complaint\n"
     ]
    }
   ],
   "source": [
    "print(len(lemma_docket_text_list)) #docket text document level\n",
    "print(len(lemma_docket_text_list[0])) #docket text sentence level\n",
    "print(len(lemma_docket_text_list[0][0])) #docket text word level\n",
    "print(lemma_docket_text_list[0][0][0]) #docket text token level\n",
    "print(lemma_docket_text_list[0][0][0][0]) #docket text tuple level"
   ]
  },
  {
   "cell_type": "code",
   "execution_count": 319,
   "metadata": {},
   "outputs": [],
   "source": [
    "#lets do a collection of what we have\n",
    "collection = {}\n",
    "for lemma_pos_token in lemma_docket_text_list:\n",
    "    for sentence in lemma_pos_token:\n",
    "        for token in sentence:\n",
    "            #print(token[2][0])\n",
    "            if token[2][0] not in list(collection.keys()):\n",
    "                collection[token[2][0]] = []\n",
    "                collection[token[2][0]].append(token[1])\n",
    "            else:\n",
    "                if token[1] not in collection[token[2][0]]:\n",
    "                    collection[token[2][0]].append(token[1])"
   ]
  },
  {
   "cell_type": "code",
   "execution_count": 320,
   "metadata": {},
   "outputs": [],
   "source": [
    "pd.DataFrame(dict([ (k, pd.Series(v)) for k, v in collection.items()])).to_csv('NLP_pos.csv', index = False)"
   ]
  },
  {
   "cell_type": "code",
   "execution_count": 362,
   "metadata": {},
   "outputs": [
    {
     "name": "stdout",
     "output_type": "stream",
     "text": [
      "[['complaint file fee receipt number disclosure civil cover sheet complete yes file .', 'civil cover sheet propose summons .'], ['assign .', 'please download locate website .', 'responsible courtesy individual practice .'], ['summons issue'], ['notice email miss civil cover sheet .'], ['accordance rule federal rule civil procedure local rule notify consent united state available conduct civil trial order entry final judgment .', 'notice blank consent fill file electronically wish consent .', 'also access link http www.uscourts.govuscourtsformsandfeesformsao085.pdf .', 'withhold consent without adverse substantive consequence .', 'file consent unless consent .'], ['open filing check quality control .', 'correction .'], ['notice appearance'], ['backend note .', 'document complaint file .', ''], ['ta letter .', 'document complaint file .', ''], ['c notice conversion .', 'document complaint file .', '']]\n",
      "Wall time: 767 ms\n"
     ]
    }
   ],
   "source": [
    "%%time\n",
    "remove_pos = [\"``\", \"NNPS\", \"NNP\", \"CD\", '#', '$', \"''\", \",\", \"0\", \":\"]\n",
    "remove_word = [\"'s\", \"judge\", \"party\", \"defendant\", \"ex\", \"plantiff\", \"shall\", \"date\", \"b\", \"exhibit\", \"pennsylvania\", \"sign_judge\", \n",
    "               \"Inc..\", \"inc..\", \"llc\", \"'\", \"[_]\", \"action\", \"clerk\", \"july\", \"kw\", \"regard\", \"sac\", \"attachment\", \"c.d\", \"cal\", \"case\", \"cd\", \"l.p.\", \n",
    "               \"claim\", \"copy\", \"court\", \"direct\", \"form\", \"hereby\", \"magistrate\", \"p.c\", \"pl\", \"plaintiff\", \"regard\", \"sign\", \"time\", \"mr.\", \n",
    "               \"docket\", \"follow\", \"set\", \"matter\" \"agreement\" \"proceeding\", \"cotton\", \"january\", \"february\", \"march\", \"april\", \"may\", \"june\", \n",
    "               \"july\", \"august\", \"september\", \"october\", \"november\", \"december\",\n",
    "               \"agreement\", \"v.\", \"place_vault\", \"modify\", \"fund\", \"associated\", \"provide\", \"material\", \"amount\", \"accordingly\", \"additional\", \n",
    "               \"second\", \"esq\", \"transmission\", \"g.c.\", \"seal\", \"review\", \"honor\", \"submit\", \"counsel\", \"witness\", \"civ\", \"first\", \"ltd..\", \"enter\", \n",
    "               \"stay\", \"forth\", \"matter\", \"whether\", \"class\", \"master\", \"information\", \"statement\", \"submission\", \"related\", \"see\", \"make\", \"paper\", \n",
    "               \"brookfield\", \"designate\", \"remain\", \"reportertranscriber\", \"submit\", \"include\", \"mail\", \"fact\", \"refer\", \"take\", \"pursuant\", \"amount\", \n",
    "               \"behalf\", \"I.p..\", \"must\", \"attorney\",\n",
    "               'abovecapitoned', 'attach', 'add', 'concern', 'chamber', 'close', 'district', 'damage', 'later', \n",
    "               'relate', 'return', 'require', 'restriction', 'respect', 'ny', 'seek', 'write', 'expert', 'transcript', \n",
    "               'day', 'h.o', 'damage', 'pre', 'proceeding', 'present', 'page', 'pending', 'p.m.', 'frcp', 'g.c.', 'record', 'r.']\n",
    "\n",
    "    \n",
    "#rebuild corpus\n",
    "docket_texts_output = [] #ultimate output after cleaning\n",
    "\n",
    "for lemma_pos_token in lemma_docket_text_list:\n",
    "    docket_text_output = [] \n",
    "    for sentence in lemma_pos_token:\n",
    "        sentence_output = []\n",
    "        for token in sentence:\n",
    "            #print(token[1])\n",
    "            \n",
    "            if token[2][0] not in remove_pos: #if the pos is not in the remove_pos list\n",
    "                if token[1] not in remove_word: #these are the intentionally left out words\n",
    "                    sentence_output.append(token[1]) #append the the sentence\n",
    "        docket_text_output.append(' '.join(sentence_output))\n",
    "    docket_texts_output.append(docket_text_output)\n",
    "print(docket_texts_output[:10])"
   ]
  },
  {
   "cell_type": "code",
   "execution_count": 363,
   "metadata": {},
   "outputs": [
    {
     "data": {
      "text/html": [
       "<div>\n",
       "<table border=\"1\" class=\"dataframe\">\n",
       "  <thead>\n",
       "    <tr style=\"text-align: right;\">\n",
       "      <th></th>\n",
       "      <th>Original Docket Text</th>\n",
       "      <th>Organization Portion</th>\n",
       "      <th>Name Portion</th>\n",
       "      <th>Identifying Org and Name</th>\n",
       "      <th>Stripped Org and Name</th>\n",
       "      <th>Removed unnecessary POS &amp; vocab</th>\n",
       "      <th>Apply Trigram Phrase Model</th>\n",
       "      <th>2-topic Model Classification</th>\n",
       "      <th>3-topic Model Classificaiton</th>\n",
       "      <th>4-topic Model Classificaiton</th>\n",
       "      <th>5-topic Model Classificaiton</th>\n",
       "      <th>6-topic Model Classificaiton</th>\n",
       "      <th>10-topic Model Classificaiton</th>\n",
       "    </tr>\n",
       "  </thead>\n",
       "  <tbody>\n",
       "    <tr>\n",
       "      <th>0</th>\n",
       "      <td>COMPLAINT against Cardiogenics Holdings, Inc. ...</td>\n",
       "      <td>Cardiogenics Holdings , Inc. LG Capital Funding</td>\n",
       "      <td>( Steinmetz Michael Bowens Priscilla</td>\n",
       "      <td>COMPLAINT against -ORG- -ORG- -ORG- -ORG- fili...</td>\n",
       "      <td>COMPLAINT against filing fee $ 400 , receipt n...</td>\n",
       "      <td>[complaint file fee receipt number disclosure ...</td>\n",
       "      <td>[complaint file disclosure_civil_cover sheet_c...</td>\n",
       "      <td>[(Topic 1, 0.80828), (Topic 0, 0.19172)]</td>\n",
       "      <td>[(Topic 2, 0.71253), (Topic 0, 0.20244), (Topi...</td>\n",
       "      <td>[(Topic 0, 0.75665), (Topic 2, 0.15427)]</td>\n",
       "      <td>[(Topic 4, 0.86251)]</td>\n",
       "      <td>[(Topic 0, 0.69796), (Topic 2, 0.19017)]</td>\n",
       "      <td>[(Topic 2, 0.63153), (Topic 0, 0.23512)]</td>\n",
       "    </tr>\n",
       "    <tr>\n",
       "      <th>1</th>\n",
       "      <td>Case assigned to Judge Ann M Donnelly and Magi...</td>\n",
       "      <td>Individual Practices of the assigned Judges</td>\n",
       "      <td>Ann M Donnelly Vera M. Scanlon Bowens Priscilla</td>\n",
       "      <td>Case assigned to Judge -NAME- -NAME- -NAME- an...</td>\n",
       "      <td>Case assigned to Judge and Magistrate Judge . ...</td>\n",
       "      <td>[assign ., please download locate website ., r...</td>\n",
       "      <td>[assign ., please_download_locate_website ., r...</td>\n",
       "      <td>[(Topic 0, 0.85987), (Topic 1, 0.14013)]</td>\n",
       "      <td>[(Topic 1, 0.82983), (Topic 2, 0.08536), (Topi...</td>\n",
       "      <td>[(Topic 2, 0.80178), (Topic 3, 0.06892), (Topi...</td>\n",
       "      <td>[(Topic 2, 0.79781), (Topic 4, 0.05165), (Topi...</td>\n",
       "      <td>[(Topic 1, 0.79004)]</td>\n",
       "      <td>[(Topic 4, 0.77496)]</td>\n",
       "    </tr>\n",
       "    <tr>\n",
       "      <th>2</th>\n",
       "      <td>Summons Issued as to Cardiogenics Holdings, In...</td>\n",
       "      <td>Cardiogenics Holdings</td>\n",
       "      <td>Bowens Priscilla</td>\n",
       "      <td>Summons Issued as to -ORG- -ORG- , Inc.. ( -NA...</td>\n",
       "      <td>Summons Issued as to , Inc.. ( , ) ( Entered :...</td>\n",
       "      <td>[summons issue]</td>\n",
       "      <td>[summons_issue]</td>\n",
       "      <td>[(Topic 1, 0.72046), (Topic 0, 0.27954)]</td>\n",
       "      <td>[(Topic 0, 0.6382), (Topic 2, 0.18141), (Topic...</td>\n",
       "      <td>[(Topic 3, 0.61475), (Topic 1, 0.13016), (Topi...</td>\n",
       "      <td>[(Topic 4, 0.59926), (Topic 1, 0.10025), (Topi...</td>\n",
       "      <td>[(Topic 2, 0.58153), (Topic 1, 0.08402), (Topi...</td>\n",
       "      <td>[(Topic 1, 0.54995), (Topic 3, 0.05002), (Topi...</td>\n",
       "    </tr>\n",
       "    <tr>\n",
       "      <th>3</th>\n",
       "      <td>NOTICE - emailed attorney regarding missing se...</td>\n",
       "      <td></td>\n",
       "      <td>Bowens Priscilla</td>\n",
       "      <td>NOTICE - emailed attorney regarding missing se...</td>\n",
       "      <td>NOTICE - emailed attorney regarding missing se...</td>\n",
       "      <td>[notice email miss civil cover sheet .]</td>\n",
       "      <td>[notice email miss page civil_cover_sheet .]</td>\n",
       "      <td>[(Topic 0, 0.64896), (Topic 1, 0.35104)]</td>\n",
       "      <td>[(Topic 2, 0.85621), (Topic 0, 0.07284), (Topi...</td>\n",
       "      <td>[(Topic 2, 0.70144), (Topic 0, 0.19483), (Topi...</td>\n",
       "      <td>[(Topic 1, 0.47259), (Topic 2, 0.4039)]</td>\n",
       "      <td>[(Topic 2, 0.83176)]</td>\n",
       "      <td>[(Topic 8, 0.5112), (Topic 2, 0.32877)]</td>\n",
       "    </tr>\n",
       "    <tr>\n",
       "      <th>4</th>\n",
       "      <td>In accordance with Rule 73 of the Federal Rule...</td>\n",
       "      <td></td>\n",
       "      <td>Bowens Priscilla</td>\n",
       "      <td>In accordance with Rule 73 of the Federal Rule...</td>\n",
       "      <td>In accordance with Rule 73 of the Federal Rule...</td>\n",
       "      <td>[accordance rule federal rule civil procedure ...</td>\n",
       "      <td>[accordance rule_federal_rule civil_procedure_...</td>\n",
       "      <td>[(Topic 1, 0.9371), (Topic 0, 0.0629)]</td>\n",
       "      <td>[(Topic 0, 0.66904), (Topic 2, 0.29073)]</td>\n",
       "      <td>[(Topic 3, 0.49938), (Topic 2, 0.44613)]</td>\n",
       "      <td>[(Topic 3, 0.77662), (Topic 4, 0.16245)]</td>\n",
       "      <td>[(Topic 0, 0.48542), (Topic 4, 0.4474)]</td>\n",
       "      <td>[(Topic 8, 0.90998)]</td>\n",
       "    </tr>\n",
       "  </tbody>\n",
       "</table>\n",
       "</div>"
      ],
      "text/plain": [
       "                                Original Docket Text  \\\n",
       "0  COMPLAINT against Cardiogenics Holdings, Inc. ...   \n",
       "1  Case assigned to Judge Ann M Donnelly and Magi...   \n",
       "2  Summons Issued as to Cardiogenics Holdings, In...   \n",
       "3  NOTICE - emailed attorney regarding missing se...   \n",
       "4  In accordance with Rule 73 of the Federal Rule...   \n",
       "\n",
       "                              Organization Portion  \\\n",
       "0  Cardiogenics Holdings , Inc. LG Capital Funding   \n",
       "1      Individual Practices of the assigned Judges   \n",
       "2                            Cardiogenics Holdings   \n",
       "3                                                    \n",
       "4                                                    \n",
       "\n",
       "                                      Name Portion  \\\n",
       "0             ( Steinmetz Michael Bowens Priscilla   \n",
       "1  Ann M Donnelly Vera M. Scanlon Bowens Priscilla   \n",
       "2                                 Bowens Priscilla   \n",
       "3                                 Bowens Priscilla   \n",
       "4                                 Bowens Priscilla   \n",
       "\n",
       "                            Identifying Org and Name  \\\n",
       "0  COMPLAINT against -ORG- -ORG- -ORG- -ORG- fili...   \n",
       "1  Case assigned to Judge -NAME- -NAME- -NAME- an...   \n",
       "2  Summons Issued as to -ORG- -ORG- , Inc.. ( -NA...   \n",
       "3  NOTICE - emailed attorney regarding missing se...   \n",
       "4  In accordance with Rule 73 of the Federal Rule...   \n",
       "\n",
       "                               Stripped Org and Name  \\\n",
       "0  COMPLAINT against filing fee $ 400 , receipt n...   \n",
       "1  Case assigned to Judge and Magistrate Judge . ...   \n",
       "2  Summons Issued as to , Inc.. ( , ) ( Entered :...   \n",
       "3  NOTICE - emailed attorney regarding missing se...   \n",
       "4  In accordance with Rule 73 of the Federal Rule...   \n",
       "\n",
       "                     Removed unnecessary POS & vocab  \\\n",
       "0  [complaint file fee receipt number disclosure ...   \n",
       "1  [assign ., please download locate website ., r...   \n",
       "2                                    [summons issue]   \n",
       "3            [notice email miss civil cover sheet .]   \n",
       "4  [accordance rule federal rule civil procedure ...   \n",
       "\n",
       "                          Apply Trigram Phrase Model  \\\n",
       "0  [complaint file disclosure_civil_cover sheet_c...   \n",
       "1  [assign ., please_download_locate_website ., r...   \n",
       "2                                    [summons_issue]   \n",
       "3       [notice email miss page civil_cover_sheet .]   \n",
       "4  [accordance rule_federal_rule civil_procedure_...   \n",
       "\n",
       "               2-topic Model Classification  \\\n",
       "0  [(Topic 1, 0.80828), (Topic 0, 0.19172)]   \n",
       "1  [(Topic 0, 0.85987), (Topic 1, 0.14013)]   \n",
       "2  [(Topic 1, 0.72046), (Topic 0, 0.27954)]   \n",
       "3  [(Topic 0, 0.64896), (Topic 1, 0.35104)]   \n",
       "4    [(Topic 1, 0.9371), (Topic 0, 0.0629)]   \n",
       "\n",
       "                        3-topic Model Classificaiton  \\\n",
       "0  [(Topic 2, 0.71253), (Topic 0, 0.20244), (Topi...   \n",
       "1  [(Topic 1, 0.82983), (Topic 2, 0.08536), (Topi...   \n",
       "2  [(Topic 0, 0.6382), (Topic 2, 0.18141), (Topic...   \n",
       "3  [(Topic 2, 0.85621), (Topic 0, 0.07284), (Topi...   \n",
       "4           [(Topic 0, 0.66904), (Topic 2, 0.29073)]   \n",
       "\n",
       "                        4-topic Model Classificaiton  \\\n",
       "0           [(Topic 0, 0.75665), (Topic 2, 0.15427)]   \n",
       "1  [(Topic 2, 0.80178), (Topic 3, 0.06892), (Topi...   \n",
       "2  [(Topic 3, 0.61475), (Topic 1, 0.13016), (Topi...   \n",
       "3  [(Topic 2, 0.70144), (Topic 0, 0.19483), (Topi...   \n",
       "4           [(Topic 3, 0.49938), (Topic 2, 0.44613)]   \n",
       "\n",
       "                        5-topic Model Classificaiton  \\\n",
       "0                               [(Topic 4, 0.86251)]   \n",
       "1  [(Topic 2, 0.79781), (Topic 4, 0.05165), (Topi...   \n",
       "2  [(Topic 4, 0.59926), (Topic 1, 0.10025), (Topi...   \n",
       "3            [(Topic 1, 0.47259), (Topic 2, 0.4039)]   \n",
       "4           [(Topic 3, 0.77662), (Topic 4, 0.16245)]   \n",
       "\n",
       "                        6-topic Model Classificaiton  \\\n",
       "0           [(Topic 0, 0.69796), (Topic 2, 0.19017)]   \n",
       "1                               [(Topic 1, 0.79004)]   \n",
       "2  [(Topic 2, 0.58153), (Topic 1, 0.08402), (Topi...   \n",
       "3                               [(Topic 2, 0.83176)]   \n",
       "4            [(Topic 0, 0.48542), (Topic 4, 0.4474)]   \n",
       "\n",
       "                       10-topic Model Classificaiton  \n",
       "0           [(Topic 2, 0.63153), (Topic 0, 0.23512)]  \n",
       "1                               [(Topic 4, 0.77496)]  \n",
       "2  [(Topic 1, 0.54995), (Topic 3, 0.05002), (Topi...  \n",
       "3            [(Topic 8, 0.5112), (Topic 2, 0.32877)]  \n",
       "4                               [(Topic 8, 0.90998)]  "
      ]
     },
     "execution_count": 363,
     "metadata": {},
     "output_type": "execute_result"
    }
   ],
   "source": [
    "new_df['Removed unnecessary POS & vocab'] = pd.Series(docket_texts_output)\n",
    "new_df.head()"
   ]
  },
  {
   "cell_type": "code",
   "execution_count": 364,
   "metadata": {},
   "outputs": [],
   "source": [
    "unigram_sentences_filepath = 'docket_texts/unigram_nltk_noorgnoname.txt'"
   ]
  },
  {
   "cell_type": "code",
   "execution_count": 365,
   "metadata": {},
   "outputs": [
    {
     "name": "stdout",
     "output_type": "stream",
     "text": [
      "Wall time: 186 ms\n"
     ]
    }
   ],
   "source": [
    "%%time\n",
    "# turn the lemmatized corpus into unigram sentences\n",
    "with codecs.open(unigram_sentences_filepath, 'w', encoding = 'utf_8') as f:\n",
    "    for docket_text in docket_texts_output:\n",
    "        for sentence in docket_text:\n",
    "            f.write(sentence + '\\n')"
   ]
  },
  {
   "cell_type": "code",
   "execution_count": 366,
   "metadata": {},
   "outputs": [],
   "source": [
    "unigram_sentences = LineSentence(unigram_sentences_filepath)"
   ]
  },
  {
   "cell_type": "code",
   "execution_count": 367,
   "metadata": {},
   "outputs": [
    {
     "name": "stdout",
     "output_type": "stream",
     "text": [
      "Original text:\n",
      "['complaint file fee receipt number disclosure civil cover sheet complete yes file .', 'civil cover sheet propose summons .']\n",
      "\n",
      "Unigram_sentence:\n",
      "complaint file fee receipt number disclosure civil cover sheet complete yes file .\n",
      "\n",
      "civil cover sheet propose summons .\n",
      "\n",
      "assign .\n",
      "\n",
      "please download locate website .\n",
      "\n",
      "responsible courtesy individual practice .\n",
      "\n",
      "summons issue\n",
      "\n",
      "notice email miss civil cover sheet .\n",
      "\n",
      "accordance rule federal rule civil procedure local rule notify consent united state available conduct civil trial order entry final judgment .\n",
      "\n",
      "notice blank consent fill file electronically wish consent .\n",
      "\n",
      "also access link http www.uscourts.govuscourtsformsandfeesformsao085.pdf .\n",
      "\n"
     ]
    }
   ],
   "source": [
    "#let's do some comparision between the original text and unigram sentences, shouldn't be that different.\n",
    "print('Original text:')\n",
    "print(new_df['Removed unnecessary POS & vocab'].iloc[0])\n",
    "#print(df['Docket Text'].iloc[1])\n",
    "\n",
    "print('\\nUnigram_sentence:')\n",
    "for unigram_sentence in it.islice(unigram_sentences, 0, 10):\n",
    "    print(' '.join(unigram_sentence))\n",
    "    print('')"
   ]
  },
  {
   "cell_type": "code",
   "execution_count": 368,
   "metadata": {},
   "outputs": [],
   "source": [
    "bigram_model_filepath = 'docket_texts/bigram_model_noorgnoname' "
   ]
  },
  {
   "cell_type": "code",
   "execution_count": 369,
   "metadata": {},
   "outputs": [
    {
     "name": "stdout",
     "output_type": "stream",
     "text": [
      "Wall time: 418 ms\n"
     ]
    }
   ],
   "source": [
    "%%time\n",
    "\n",
    "# store our bigram model\n",
    "bigram_model = Phrases(unigram_sentences)\n",
    "bigram_model.save(bigram_model_filepath)\n",
    "    \n",
    "# load the finished model from disk if we don't want to run this again\n",
    "#bigram_model = Phrases.load(bigram_model_filepath)"
   ]
  },
  {
   "cell_type": "code",
   "execution_count": 370,
   "metadata": {},
   "outputs": [],
   "source": [
    "bigram_sentences_filepath = 'docket_texts/bigram_sentences_noorgnoname.txt'"
   ]
  },
  {
   "cell_type": "code",
   "execution_count": 371,
   "metadata": {},
   "outputs": [
    {
     "name": "stderr",
     "output_type": "stream",
     "text": [
      "c:\\users\\inves\\appdata\\local\\programs\\python\\python35\\lib\\site-packages\\gensim\\models\\phrases.py:494: UserWarning: For a faster implementation, use the gensim.models.phrases.Phraser class\n",
      "  warnings.warn(\"For a faster implementation, use the gensim.models.phrases.Phraser class\")\n"
     ]
    },
    {
     "name": "stdout",
     "output_type": "stream",
     "text": [
      "Wall time: 436 ms\n"
     ]
    }
   ],
   "source": [
    "%%time\n",
    "\n",
    "# apply the bigram model, and write it to file\n",
    "with codecs.open(bigram_sentences_filepath, 'w', encoding = 'utf_8') as f:\n",
    "    for unigram_sentence in unigram_sentences:\n",
    "        bigram_sentence = ' '.join(bigram_model[unigram_sentence])\n",
    "        f.write(bigram_sentence + '\\n')"
   ]
  },
  {
   "cell_type": "code",
   "execution_count": 372,
   "metadata": {},
   "outputs": [
    {
     "name": "stdout",
     "output_type": "stream",
     "text": [
      "unigram length = 8627, bigram length = 8627\n"
     ]
    }
   ],
   "source": [
    "bigram_sentences = LineSentence(bigram_sentences_filepath)\n",
    "print('unigram length = {}, bigram length = {}'.format(len(list(unigram_sentences)), len(list(bigram_sentences))))"
   ]
  },
  {
   "cell_type": "code",
   "execution_count": 373,
   "metadata": {},
   "outputs": [
    {
     "name": "stdout",
     "output_type": "stream",
     "text": [
      "Original text:\n",
      "['complaint file fee receipt number disclosure civil cover sheet complete yes file .', 'civil cover sheet propose summons .']\n",
      "['assign .', 'please download locate website .', 'responsible courtesy individual practice .']\n",
      "\n",
      "Unigram sentence:\n",
      "complaint file fee receipt number disclosure civil cover sheet complete yes file .\n",
      "civil cover sheet propose summons .\n",
      "assign .\n",
      "please download locate website .\n",
      "responsible courtesy individual practice .\n",
      "summons issue\n",
      "notice email miss civil cover sheet .\n",
      "accordance rule federal rule civil procedure local rule notify consent united state available conduct civil trial order entry final judgment .\n",
      "notice blank consent fill file electronically wish consent .\n",
      "also access link http www.uscourts.govuscourtsformsandfeesformsao085.pdf .\n",
      "\n",
      "Bigram sentence:\n",
      "complaint file fee_receipt number disclosure civil_cover sheet complete_yes file .\n",
      "civil_cover sheet propose summons .\n",
      "assign .\n",
      "please_download locate_website .\n",
      "responsible_courtesy individual_practice .\n",
      "summons_issue\n",
      "notice email miss civil_cover sheet .\n",
      "accordance rule federal_rule civil_procedure local_rule notify_consent united_state available_conduct civil trial order entry final judgment .\n",
      "notice blank_consent fill file electronically_wish consent .\n",
      "also_access link_http www.uscourts.govuscourtsformsandfeesformsao085.pdf .\n"
     ]
    }
   ],
   "source": [
    "#original v. unigram v. bigram. Some phrases should be combined already\n",
    "start = 0\n",
    "finish = 10\n",
    "print('Original text:')\n",
    "print(new_df['Removed unnecessary POS & vocab'].iloc[0])\n",
    "print(new_df['Removed unnecessary POS & vocab'].iloc[1])\n",
    "\n",
    "print('\\nUnigram sentence:')\n",
    "for unigram_sentence in it.islice(unigram_sentences, 0, 10):\n",
    "    print(' '.join(unigram_sentence))\n",
    "print('\\nBigram sentence:')\n",
    "for bigram_sentence in it.islice(bigram_sentences, start, finish):\n",
    "    print(' '.join(bigram_sentence))"
   ]
  },
  {
   "cell_type": "code",
   "execution_count": 374,
   "metadata": {},
   "outputs": [],
   "source": [
    "trigram_model_filepath = 'docket_texts/trigram_model_nonamenoorg'"
   ]
  },
  {
   "cell_type": "code",
   "execution_count": 375,
   "metadata": {},
   "outputs": [
    {
     "name": "stdout",
     "output_type": "stream",
     "text": [
      "Wall time: 177 ms\n"
     ]
    }
   ],
   "source": [
    "%%time\n",
    "\n",
    "# again, using Phrases to attach more words to phrases already formed\n",
    "trigram_model = Phrases(bigram_sentences)\n",
    "trigram_model.save(trigram_model_filepath)\n",
    "\n",
    "# load the finished model from disk\n",
    "#trigram_model = Phrases.load(trigram_model_filepath)"
   ]
  },
  {
   "cell_type": "code",
   "execution_count": 376,
   "metadata": {},
   "outputs": [],
   "source": [
    "trigram_sentences_filepath = 'docket_texts/trigram_sentences_nonamenoorg.txt'"
   ]
  },
  {
   "cell_type": "code",
   "execution_count": 377,
   "metadata": {},
   "outputs": [
    {
     "name": "stderr",
     "output_type": "stream",
     "text": [
      "c:\\users\\inves\\appdata\\local\\programs\\python\\python35\\lib\\site-packages\\gensim\\models\\phrases.py:494: UserWarning: For a faster implementation, use the gensim.models.phrases.Phraser class\n",
      "  warnings.warn(\"For a faster implementation, use the gensim.models.phrases.Phraser class\")\n"
     ]
    },
    {
     "name": "stdout",
     "output_type": "stream",
     "text": [
      "Wall time: 309 ms\n"
     ]
    }
   ],
   "source": [
    "%%time\n",
    "\n",
    "with codecs.open(trigram_sentences_filepath, 'w', encoding = 'utf_8') as f:\n",
    "    for bigram_sentence in bigram_sentences:\n",
    "        #print('Bi', bigram_sentence)\n",
    "        trigram_sentence = ' '.join(trigram_model[bigram_sentence])\n",
    "        #print('Tri', trigram_sentence)\n",
    "        f.write(trigram_sentence + '\\n')"
   ]
  },
  {
   "cell_type": "code",
   "execution_count": 378,
   "metadata": {},
   "outputs": [],
   "source": [
    "trigram_sentences = LineSentence(trigram_sentences_filepath)"
   ]
  },
  {
   "cell_type": "code",
   "execution_count": 379,
   "metadata": {},
   "outputs": [
    {
     "name": "stdout",
     "output_type": "stream",
     "text": [
      "Original text:\n",
      "['complaint file fee receipt number disclosure civil cover sheet complete yes file .', 'civil cover sheet propose summons .'] \n",
      "\n",
      "['assign .', 'please download locate website .', 'responsible courtesy individual practice .'] \n",
      "\n",
      "['summons issue'] \n",
      "\n",
      "['notice email miss civil cover sheet .'] \n",
      "\n",
      "\n",
      "UNIGRAM Sentence:\n",
      "complaint file fee receipt number disclosure civil cover sheet complete yes file .\n",
      "civil cover sheet propose summons .\n",
      "assign .\n",
      "please download locate website .\n",
      "responsible courtesy individual practice .\n",
      "summons issue\n",
      "notice email miss civil cover sheet .\n",
      "accordance rule federal rule civil procedure local rule notify consent united state available conduct civil trial order entry final judgment .\n",
      "notice blank consent fill file electronically wish consent .\n",
      "also access link http www.uscourts.govuscourtsformsandfeesformsao085.pdf .\n",
      "withhold consent without adverse substantive consequence .\n",
      "file consent unless consent .\n",
      "open filing check quality control .\n",
      "correction .\n",
      "notice appearance\n",
      "\n",
      "BIGRAM Sentence:\n",
      "complaint file fee_receipt number disclosure civil_cover sheet complete_yes file .\n",
      "civil_cover sheet propose summons .\n",
      "assign .\n",
      "please_download locate_website .\n",
      "responsible_courtesy individual_practice .\n",
      "summons_issue\n",
      "notice email miss civil_cover sheet .\n",
      "accordance rule federal_rule civil_procedure local_rule notify_consent united_state available_conduct civil trial order entry final judgment .\n",
      "notice blank_consent fill file electronically_wish consent .\n",
      "also_access link_http www.uscourts.govuscourtsformsandfeesformsao085.pdf .\n",
      "withhold_consent without_adverse substantive_consequence .\n",
      "file consent unless consent .\n",
      "open filing check_quality control .\n",
      "correction .\n",
      "notice_appearance\n",
      "\n",
      "TRIGRAM Sentence:\n",
      "complaint file fee_receipt_number disclosure_civil_cover sheet_complete_yes file .\n",
      "civil_cover_sheet propose summons .\n",
      "assign .\n",
      "please_download_locate_website .\n",
      "responsible_courtesy_individual_practice .\n",
      "summons_issue\n",
      "notice email miss civil_cover_sheet .\n",
      "accordance rule_federal_rule civil_procedure_local_rule notify_consent_united_state available_conduct_civil trial order entry final_judgment .\n",
      "notice blank_consent_fill file electronically_wish_consent .\n",
      "also_access_link_http www.uscourts.govuscourtsformsandfeesformsao085.pdf .\n",
      "withhold_consent_without_adverse substantive_consequence .\n",
      "file consent_unless consent .\n",
      "open_filing check_quality_control .\n",
      "correction .\n",
      "notice_appearance\n"
     ]
    }
   ],
   "source": [
    "start = 0\n",
    "finish = 15\n",
    "print('Original text:')\n",
    "print(new_df['Removed unnecessary POS & vocab'].iloc[0],'\\n')\n",
    "print(new_df['Removed unnecessary POS & vocab'].iloc[1],'\\n')\n",
    "print(new_df['Removed unnecessary POS & vocab'].iloc[2],'\\n')\n",
    "print(new_df['Removed unnecessary POS & vocab'].iloc[3],'\\n')\n",
    "\n",
    "print('\\nUNIGRAM Sentence:')\n",
    "for unigram_sentence in it.islice(unigram_sentences, start, finish):\n",
    "    print(' '.join(unigram_sentence))\n",
    "print('\\nBIGRAM Sentence:')\n",
    "for bigram_sentence in it.islice(bigram_sentences, start, finish):\n",
    "    print(' '.join(bigram_sentence))\n",
    "print('\\nTRIGRAM Sentence:')\n",
    "for trigram_sentence in it.islice(trigram_sentences, start, finish):\n",
    "    print(' '.join(trigram_sentence))"
   ]
  },
  {
   "cell_type": "code",
   "execution_count": 380,
   "metadata": {},
   "outputs": [],
   "source": [
    "def trigram_transform(texts):\n",
    "    trigram_output = []\n",
    "    #print(texts)\n",
    "    remove_trigram = ['calendar_day', 'court_notice_intend', 'minute_entry_proceeding_hold', 'court_reportertranscriber_abovecaptioned_matter',\n",
    "                      'redaction_calendar_day', 'rule_statement', 'obtain_pacer', 'may_obtain_pacer', 'reportertranscriber_abovecaptioned_matter',\n",
    "                      'redact_transcript_deadline', 'send_chamber', \"official_transcript_notice_give\", \"notice_intent_request\", \"proceed_hold\", \n",
    "                      \"fee_receipt_number\", \"civil_procedure\", \"pursuant_frcp\", \"official_transcript_conference\", \n",
    "                      \"purchase_reportertranscriber_deadline_release\", \"et_al\", \"mail_chamber\", \"transcript_restriction\", \"redaction_transcript\", \n",
    "                      \"transcript_view_public_terminal\", \"transcript_make_remotely\", \"associated_et_al\", \"electronically_available_public_without\", \n",
    "                      \"genesys_id\", \"release_transcript_restriction\", \"adar_bay\", \"redaction_request_due\", \"new_york\", \"official_transcript_conference\", \n",
    "                      \"transcript_make_remotely\", \"transcript_proceeding_conference_hold\", \"redaction_transcript\",\n",
    "                      'affidavit_jr._c.p.a', 'corporate_parent', 'certain_underwriter', 'federal_rule_civil_procedure', 'redaction_request', \n",
    "                      'official_transcript', 'rule_disclosure', 'rule_corporate_disclosure', 'place_vault', 'public_without_redaction_calendar', \n",
    "                      'purchase_deadline_release_transcript', 'transcript_proceeding_hold', 'transcript_remotely_electronically_available']\n",
    "  \n",
    "    \n",
    "    for sentence in texts:\n",
    "        unigram_review = []\n",
    "        for word in sentence.split():\n",
    "            unigram_review.append(word)\n",
    "    \n",
    "        #print('Uni: ', unigram_review)\n",
    "        bigram_review = bigram_model[unigram_review]\n",
    "        #print('Bi: ', bigram_review)\n",
    "        trigram_review = trigram_model[bigram_review]\n",
    "        trigram_review = [phrase for phrase in trigram_review if phrase not in remove_trigram]\n",
    "        #print('Tri: ', trigram_review)\n",
    "        trigram_output.append(' '.join(trigram_review))\n",
    "    return trigram_output"
   ]
  },
  {
   "cell_type": "code",
   "execution_count": 381,
   "metadata": {},
   "outputs": [
    {
     "name": "stderr",
     "output_type": "stream",
     "text": [
      "c:\\users\\inves\\appdata\\local\\programs\\python\\python35\\lib\\site-packages\\gensim\\models\\phrases.py:494: UserWarning: For a faster implementation, use the gensim.models.phrases.Phraser class\n",
      "  warnings.warn(\"For a faster implementation, use the gensim.models.phrases.Phraser class\")\n"
     ]
    }
   ],
   "source": [
    "new_df['Apply Trigram Phrase Model'] = new_df['Removed unnecessary POS & vocab'].apply(trigram_transform)"
   ]
  },
  {
   "cell_type": "code",
   "execution_count": 382,
   "metadata": {},
   "outputs": [
    {
     "data": {
      "text/plain": [
       "['complaint file disclosure_civil_cover sheet_complete_yes file .',\n",
       " 'civil_cover_sheet propose summons .']"
      ]
     },
     "execution_count": 382,
     "metadata": {},
     "output_type": "execute_result"
    }
   ],
   "source": [
    "new_df['Apply Trigram Phrase Model'].iloc[0]"
   ]
  },
  {
   "cell_type": "code",
   "execution_count": 383,
   "metadata": {},
   "outputs": [],
   "source": [
    "#write trigram to file\n",
    "trigram_dockets_filepath = 'docket_texts/trigram_transformed_dockets_noorgnoname.txt'"
   ]
  },
  {
   "cell_type": "code",
   "execution_count": 384,
   "metadata": {},
   "outputs": [],
   "source": [
    "with codecs.open(trigram_dockets_filepath, 'w', encoding= 'utf_8') as f:\n",
    "    for i in range(len(new_df['Apply Trigram Phrase Model'])):\n",
    "        f.write(' '.join(new_df['Apply Trigram Phrase Model'][i]) + '\\n')"
   ]
  },
  {
   "cell_type": "code",
   "execution_count": 385,
   "metadata": {},
   "outputs": [],
   "source": [
    "trigram_dictionary_filepath = 'docket_texts/trigram_dict_noorgnoname.dict'"
   ]
  },
  {
   "cell_type": "code",
   "execution_count": 386,
   "metadata": {},
   "outputs": [
    {
     "name": "stdout",
     "output_type": "stream",
     "text": [
      "Wall time: 107 ms\n"
     ]
    }
   ],
   "source": [
    "%%time\n",
    "\n",
    "#some dictionary hyperparameters:\n",
    "no_below = 10 #reference is 10\n",
    "no_above = 0.4 #reference is 0.4\n",
    "\n",
    "trigram_reviews = LineSentence(trigram_dockets_filepath)\n",
    "\n",
    "# learn the dictionary by iterating over all of the reviews\n",
    "trigram_dictionary = Dictionary(trigram_reviews)\n",
    "\n",
    "# filter tokens that are very rare otrigram_reviewsr too common from\n",
    "# the dictionary (filter_extremes) and reassign integer ids (compactify)\n",
    "trigram_dictionary.filter_extremes(no_below = no_below, no_above = no_above) #this step is questionable. May need to change the parameters\n",
    "trigram_dictionary.compactify()\n",
    "\n",
    "trigram_dictionary.save(trigram_dictionary_filepath)\n",
    "    \n",
    "# load the finished dictionary from disk\n",
    "#trigram_dictionary = Dictionary.load(trigram_dictionary_filepath)"
   ]
  },
  {
   "cell_type": "code",
   "execution_count": 387,
   "metadata": {},
   "outputs": [],
   "source": [
    "trigram_bow_filepath = 'docket_texts/trigram_bow_corpus_noorgnoname.mm'"
   ]
  },
  {
   "cell_type": "code",
   "execution_count": 388,
   "metadata": {},
   "outputs": [],
   "source": [
    "def trigram_bow_generator(filepath):\n",
    "    \"\"\"\n",
    "    generator function to read reviews from a file\n",
    "    and yield a bag-of-words representation\n",
    "    \"\"\"\n",
    "    \n",
    "    for review in LineSentence(filepath):\n",
    "        #print(review)\n",
    "        #print(trigram_dictionary.doc2bow(review))\n",
    "        yield trigram_dictionary.doc2bow(review)"
   ]
  },
  {
   "cell_type": "code",
   "execution_count": 389,
   "metadata": {},
   "outputs": [
    {
     "name": "stdout",
     "output_type": "stream",
     "text": [
      "MmCorpus(8627 documents, 503 features, 19901 non-zero entries)\n",
      "Wall time: 260 ms\n"
     ]
    }
   ],
   "source": [
    "%%time\n",
    "\n",
    "# generate bag-of-words representations for\n",
    "# all reviews and save them as a matrix\n",
    "MmCorpus.serialize(trigram_bow_filepath, trigram_bow_generator(trigram_sentences_filepath))\n",
    "    \n",
    "# load the finished bag-of-words corpus from disk\n",
    "trigram_bow_corpus = MmCorpus(trigram_bow_filepath)\n",
    "print(trigram_bow_corpus)"
   ]
  },
  {
   "cell_type": "code",
   "execution_count": 390,
   "metadata": {},
   "outputs": [],
   "source": [
    "def explore_topic(model, topic_number, topn = 10):\n",
    "    topics = []\n",
    "    print('{:20} {}'.format('term', 'frequency') + '\\n')\n",
    "    for term, frequency in model.show_topic(topic_number, topn = topn):\n",
    "        print('{:20} {:.3f}'.format(term, round(frequency, 3)))\n",
    "        topics.append((term, round(frequency, 3)))\n",
    "    return topics"
   ]
  },
  {
   "cell_type": "code",
   "execution_count": 391,
   "metadata": {},
   "outputs": [],
   "source": [
    "def topic_modeling_pipeline(num_topics, model_file_path, trigram_bow_corpus, trigram_dictionary, export = False):\n",
    "\n",
    "    with warnings.catch_warnings():\n",
    "        warnings.simplefilter('ignore')\n",
    "\n",
    "        # workers => sets the parallelism, and should be\n",
    "        # set to your number of physical cores minus one\n",
    "        lda = LdaMulticore(trigram_bow_corpus, num_topics = num_topics, id2word = trigram_dictionary, workers = 4)\n",
    "\n",
    "        lda.save(model_file_path)\n",
    "    \n",
    "    topic_dict = {}\n",
    "    for i in range(num_topics):\n",
    "        print(\"\\n Topic {}'s make-up:\".format(i + 1))\n",
    "        topic_dict[i] = explore_topic(lda, topic_number = i)\n",
    "    \n",
    "    if export:\n",
    "        pd.DataFrame(topic_dict).to_csv(model_file_path + 'topics.csv', index = False)\n",
    "    \n",
    "    LDAvis_data_filepath = model_file_path + '_ldavis'\n",
    "    \n",
    "    LDAvis_prepared = pyLDAvis.gensim.prepare(lda, trigram_bow_corpus, trigram_dictionary)\n",
    "\n",
    "    with open(LDAvis_data_filepath, 'wb') as f:\n",
    "        pickle.dump(LDAvis_prepared, f)\n",
    "        \n",
    "    with open(LDAvis_data_filepath, 'rb') as f:\n",
    "        LDAvis_prepared = pickle.load(f)\n",
    "        \n",
    "    return LDAvis_prepared, lda"
   ]
  },
  {
   "cell_type": "code",
   "execution_count": 392,
   "metadata": {},
   "outputs": [],
   "source": [
    "def lda_description(docket_text, lda, trigram_dictionary, topic_names, min_topic_freq = 0.05):\n",
    "    '''\n",
    "    accept the processed texts (trigram) of a review and \n",
    "    1) create a bag-of-words representation, \n",
    "    4) create an LDA representation, and\n",
    "    5) print a sorted list of the top topics in the LDA representation\n",
    "    '''\n",
    "    output = []\n",
    "    analyze_this = []\n",
    "    for sentence in docket_text:\n",
    "        analyze_this += sentence.split()\n",
    "    \n",
    "    # create a bag-of-words representation\n",
    "    review_bow = trigram_dictionary.doc2bow(analyze_this)\n",
    "    \n",
    "    # create an LDA representation\n",
    "    review_lda = lda[review_bow]\n",
    "    \n",
    "    # sort with the most highly related topics first\n",
    "    review_lda.sort(key = lambda tup: tup[1], reverse = True)\n",
    "    #print(review_lda)\n",
    "    for topic_number, freq in review_lda:\n",
    "        if freq < min_topic_freq:\n",
    "            break\n",
    "            \n",
    "        # print the most highly related topic names and frequencies\n",
    "        #print('{:25} {}'.format(topic_names[topic_number], round(freq, 3)))\n",
    "        output.append((topic_names[topic_number], round(freq, 5)))\n",
    "    return output"
   ]
  },
  {
   "cell_type": "markdown",
   "metadata": {},
   "source": [
    "### Providing topic visualizations, topic constituents for each topic, and classifying each docket text. For some reason when I use a pipeline functionality it doesn't work with pyLADvis.display\n",
    "### 2 Topics:"
   ]
  },
  {
   "cell_type": "code",
   "execution_count": 393,
   "metadata": {},
   "outputs": [
    {
     "name": "stdout",
     "output_type": "stream",
     "text": [
      "\n",
      " Topic 1's make-up:\n",
      "term                 frequency\n",
      "\n",
      "motion               0.043\n",
      "order                0.040\n",
      "notice               0.039\n",
      "due                  0.028\n",
      "request              0.025\n",
      "abovecaptioned       0.018\n",
      "redaction            0.016\n",
      "dismiss              0.016\n",
      "endorsed_letter_address 0.016\n",
      "calendar             0.014\n",
      "\n",
      " Topic 2's make-up:\n",
      "term                 frequency\n",
      "\n",
      "order                0.097\n",
      "motion               0.091\n",
      "notice               0.016\n",
      "request              0.015\n",
      "letter               0.015\n",
      "amend_complaint      0.015\n",
      "schedule             0.015\n",
      "dismiss              0.014\n",
      "discovery            0.013\n",
      "complaint            0.013\n"
     ]
    },
    {
     "data": {
      "text/html": [
       "\n",
       "<link rel=\"stylesheet\" type=\"text/css\" href=\"https://cdn.rawgit.com/bmabey/pyLDAvis/files/ldavis.v1.0.0.css\">\n",
       "\n",
       "\n",
       "<div id=\"ldavis_el2506819944779844084251819616\"></div>\n",
       "<script type=\"text/javascript\">\n",
       "\n",
       "var ldavis_el2506819944779844084251819616_data = {\"topic.order\": [2, 1], \"mdsDat\": {\"cluster\": [1, 1], \"topics\": [1, 2], \"Freq\": [64.99956899772918, 35.000431002270815], \"x\": [0.043601758778095245, -0.043601758778095245], \"y\": [0.0, 0.0]}, \"R\": 30, \"tinfo\": {\"Category\": [\"Default\", \"Default\", \"Default\", \"Default\", \"Default\", \"Default\", \"Default\", \"Default\", \"Default\", \"Default\", \"Default\", \"Default\", \"Default\", \"Default\", \"Default\", \"Default\", \"Default\", \"Default\", \"Default\", \"Default\", \"Default\", \"Default\", \"Default\", \"Default\", \"Default\", \"Default\", \"Default\", \"Default\", \"Default\", \"Default\", \"Topic1\", \"Topic1\", \"Topic1\", \"Topic1\", \"Topic1\", \"Topic1\", \"Topic1\", \"Topic1\", \"Topic1\", \"Topic1\", \"Topic1\", \"Topic1\", \"Topic1\", \"Topic1\", \"Topic1\", \"Topic1\", \"Topic1\", \"Topic1\", \"Topic1\", \"Topic1\", \"Topic1\", \"Topic1\", \"Topic1\", \"Topic1\", \"Topic1\", \"Topic1\", \"Topic1\", \"Topic1\", \"Topic1\", \"Topic1\", \"Topic1\", \"Topic1\", \"Topic1\", \"Topic1\", \"Topic1\", \"Topic1\", \"Topic1\", \"Topic1\", \"Topic1\", \"Topic1\", \"Topic1\", \"Topic1\", \"Topic1\", \"Topic1\", \"Topic1\", \"Topic1\", \"Topic1\", \"Topic1\", \"Topic1\", \"Topic1\", \"Topic1\", \"Topic1\", \"Topic1\", \"Topic1\", \"Topic1\", \"Topic1\", \"Topic1\", \"Topic1\", \"Topic1\", \"Topic1\", \"Topic1\", \"Topic2\", \"Topic2\", \"Topic2\", \"Topic2\", \"Topic2\", \"Topic2\", \"Topic2\", \"Topic2\", \"Topic2\", \"Topic2\", \"Topic2\", \"Topic2\", \"Topic2\", \"Topic2\", \"Topic2\", \"Topic2\", \"Topic2\", \"Topic2\", \"Topic2\", \"Topic2\", \"Topic2\", \"Topic2\", \"Topic2\", \"Topic2\", \"Topic2\", \"Topic2\", \"Topic2\", \"Topic2\", \"Topic2\", \"Topic2\", \"Topic2\", \"Topic2\", \"Topic2\", \"Topic2\", \"Topic2\", \"Topic2\", \"Topic2\", \"Topic2\", \"Topic2\", \"Topic2\", \"Topic2\", \"Topic2\", \"Topic2\", \"Topic2\", \"Topic2\", \"Topic2\", \"Topic2\", \"Topic2\", \"Topic2\", \"Topic2\", \"Topic2\", \"Topic2\", \"Topic2\", \"Topic2\", \"Topic2\", \"Topic2\", \"Topic2\", \"Topic2\", \"Topic2\", \"Topic2\", \"Topic2\", \"Topic2\", \"Topic2\"], \"Total\": [258.0, 525.0, 164.0, 148.0, 127.0, 124.0, 182.0, 94.0, 411.0, 146.0, 141.0, 147.0, 49.0, 72.0, 144.0, 128.0, 320.0, 55.0, 34.0, 67.0, 134.0, 32.0, 33.0, 60.0, 41.0, 22.0, 33.0, 28.0, 32.0, 213.0, 60.449192829905066, 22.930880839853803, 65.26263636011191, 134.77450218521696, 17.71976039892747, 31.041658130353017, 23.379266861882908, 14.454896553099784, 39.25706429914574, 137.5360599768485, 19.101347471841514, 30.34029761114616, 12.516314222244846, 13.119664052106229, 155.91873851401704, 28.956319889006302, 13.739284143063145, 11.193751810734232, 11.826626237272382, 20.462710339400715, 18.357665169293515, 30.156659356690987, 8.65585867408717, 214.06688267933964, 32.06335945856336, 99.04130981398707, 43.42258811379154, 8.014378603807394, 23.366471898756988, 8.636783394943933, 194.32164910033327, 50.222277654663074, 1694.2965921109007, 53.99636580271662, 1626.5911589004281, 43.249775315506476, 97.34795492247898, 46.3419064191025, 279.0189607539291, 143.31488565280867, 130.11163313853535, 105.94522569791576, 291.16891829623546, 228.9196744171395, 137.93940559727847, 310.83493711857636, 181.71493019079432, 128.77516796711257, 241.11079797819025, 103.54397166999645, 190.87990078819902, 281.08296469381213, 248.41197349097888, 320.75191559356256, 135.79870050954162, 213.7392784071106, 411.79810248473825, 525.735328726578, 146.50732460286866, 138.3557563136852, 136.64150275885652, 127.03642165627753, 7.4416499094992306, 22.11784671714853, 164.53127254448182, 258.2490631708256, 148.47270764622658, 124.71277350644404, 6.379940645172065, 94.61603351710448, 7.494328157412039, 16.61883892456047, 34.07960945110745, 22.346358634643344, 49.28960884739985, 13.641913779782488, 8.668436108424572, 32.78387339156832, 19.535886538109352, 33.386161758764246, 7.57975954622102, 22.524901851747366, 8.141579696304166, 12.773310748560984, 18.337710936414798, 12.602734908487355, 28.162589262832803, 19.483335523762854, 12.09934282928359, 13.414986335592754, 8.763300363157779, 21.42365898786596, 22.553326179375336, 33.235406751953974, 182.35188312719134, 146.3196525341259, 55.57172119404353, 525.735328726578, 72.40515557753132, 27.257128767455526, 141.5182982956282, 41.562185560294154, 32.41930127452218, 411.79810248473825, 147.82324148269603, 67.49254671290824, 128.81652985187202, 144.18766274560878, 320.75191559356256, 1626.5911589004281, 213.7392784071106, 1694.2965921109007, 248.41197349097888, 281.08296469381213, 129.33658009257567, 310.83493711857636, 241.11079797819025, 136.64150275885652, 115.24128129321053, 291.16891829623546, 190.87990078819902, 279.0189607539291, 228.9196744171395, 146.50732460286866], \"loglift\": [30.0, 29.0, 28.0, 27.0, 26.0, 25.0, 24.0, 23.0, 22.0, 21.0, 20.0, 19.0, 18.0, 17.0, 16.0, 15.0, 14.0, 13.0, 12.0, 11.0, 10.0, 9.0, 8.0, 7.0, 6.0, 5.0, 4.0, 3.0, 2.0, 1.0, 0.4069, 0.3715, 0.3652, 0.3619, 0.3532, 0.3375, 0.3322, 0.3321, 0.3276, 0.3269, 0.3267, 0.324, 0.3217, 0.3094, 0.3081, 0.3049, 0.3039, 0.2993, 0.2991, 0.2982, 0.2977, 0.2971, 0.2963, 0.2954, 0.2951, 0.2927, 0.2916, 0.2909, 0.2856, 0.2851, 0.2648, 0.2757, 0.231, 0.2749, 0.2061, 0.2735, 0.2567, 0.2693, 0.1833, 0.2135, 0.2137, 0.2155, 0.1532, 0.1656, 0.1975, 0.0824, 0.1311, 0.1538, 0.0772, 0.1751, 0.0955, 0.0335, 0.0064, -0.0534, 0.0976, -0.0364, -0.1928, -0.4309, 0.0289, 0.037, -0.0534, 0.913, 0.8884, 0.8873, 0.8814, 0.8757, 0.8705, 0.8677, 0.8629, 0.8504, 0.8447, 0.8431, 0.8246, 0.8231, 0.8203, 0.7875, 0.7862, 0.7859, 0.7843, 0.776, 0.7711, 0.7709, 0.7648, 0.7566, 0.7526, 0.7521, 0.7478, 0.7406, 0.7221, 0.712, 0.7118, 0.711, 0.7073, 0.6956, 0.6333, 0.6095, 0.6579, 0.5009, 0.6207, 0.6946, 0.5433, 0.6454, 0.6679, 0.2819, 0.4072, 0.5097, 0.3688, 0.3366, 0.0921, -0.5534, 0.0643, -0.6588, -0.012, -0.0653, 0.1773, -0.1739, -0.1615, 0.0921, 0.1464, -0.3675, -0.2059, -0.4679, -0.4072, -0.0559], \"Freq\": [258.0, 525.0, 164.0, 148.0, 127.0, 124.0, 182.0, 94.0, 411.0, 146.0, 141.0, 147.0, 49.0, 72.0, 144.0, 128.0, 320.0, 55.0, 34.0, 67.0, 134.0, 32.0, 33.0, 60.0, 41.0, 22.0, 33.0, 28.0, 32.0, 213.0, 59.02196314477817, 21.611750046951318, 61.12249404719584, 125.80291830767783, 16.39710171188213, 28.277705893692442, 21.183923039297074, 13.095849898694834, 35.4077300445917, 123.96735820669635, 17.213176504112493, 27.267741829137616, 11.22326144275003, 11.619598624155975, 137.91234351284595, 25.53223133490038, 12.10246065298644, 9.814392688960721, 10.36774720103687, 17.921685530906775, 16.07049574681872, 26.383440882671593, 7.566948090049688, 186.9544919185882, 27.994088629050434, 86.26707829118575, 37.78164811565019, 6.967817309509521, 20.209158625166648, 7.46549409146663, 164.5960679974315, 43.00738681992041, 1387.436902343377, 46.204361707090364, 1299.2260791884228, 36.95491725074715, 81.79476918489527, 39.42986500768858, 217.85519908610593, 115.32615519015332, 104.72320313958613, 85.4230321401753, 220.59812943266866, 175.5943996138795, 109.23743101270517, 219.40546131135866, 134.66552269922647, 97.61536971091716, 169.3044014591535, 80.183026545353, 136.50244060084833, 188.91992165728942, 162.50502838772542, 197.65397427644572, 97.31508943694595, 133.95744297704644, 220.72976953592928, 222.09393320282595, 98.01736522697699, 93.31747808394432, 84.2003592870674, 110.79474319049027, 6.332343634030103, 18.80034019160768, 139.03689156640303, 216.98812412897712, 124.10110466384913, 103.95408667137345, 5.292188414886644, 77.51419167358792, 6.104856005923136, 13.515339501236477, 27.206691340949902, 17.813539625366634, 39.18296537832832, 10.494852833891937, 6.6596332919147825, 25.17898425825722, 14.980957925206773, 25.39059294671539, 5.735928259537208, 17.042515946841533, 6.122286372273312, 9.527502669518402, 13.623407145406476, 9.357398565329015, 20.82193295965397, 14.30118662957253, 8.718738509278658, 9.569013525798109, 6.249967490594767, 15.266361302158046, 16.01305674632224, 23.321451167875612, 120.23665710297945, 94.20815584552265, 37.55175153001926, 303.641395523752, 47.143301287058, 19.107046901652833, 85.28089806116519, 27.737462953142288, 22.127392896752433, 191.06833294880894, 77.741353157127, 39.32597081133284, 65.19325988408308, 70.66392284973392, 123.09794131711682, 327.36507971200547, 79.78183543006415, 306.8596897675239, 85.90694510325345, 92.1630430365227, 54.04807209381216, 91.42947580721767, 71.80639651903675, 52.441143471789125, 46.694712729964735, 70.57078886356678, 54.377460187350685, 61.16376166782319, 53.32527480326001, 48.48995937589168], \"logprob\": [30.0, 29.0, 28.0, 27.0, 26.0, 25.0, 24.0, 23.0, 22.0, 21.0, 20.0, 19.0, 18.0, 17.0, 16.0, 15.0, 14.0, 13.0, 12.0, 11.0, 10.0, 9.0, 8.0, 7.0, 6.0, 5.0, 4.0, 3.0, 2.0, 1.0, -5.48960018157959, -6.49429988861084, -5.454699993133545, -4.732800006866455, -6.770400047302246, -6.225500106811523, -6.5142998695373535, -6.995299816131592, -6.0005998611450195, -4.747499942779541, -6.72189998626709, -6.2617998123168945, -7.149600028991699, -7.1149001121521, -4.640900135040283, -6.327600002288818, -7.074100017547607, -7.283699989318848, -7.228899955749512, -6.68149995803833, -6.790599822998047, -6.2947998046875, -7.543799877166748, -4.336699962615967, -6.235599994659424, -5.110099792480469, -5.935699939727783, -7.626299858093262, -6.561399936676025, -7.557300090789795, -4.464099884033203, -5.80620002746582, -2.3322999477386475, -5.734499931335449, -2.3980000019073486, -5.957900047302246, -5.163300037384033, -5.89300012588501, -4.183700084686279, -4.819799900054932, -4.916200160980225, -5.119900226593018, -4.171199798583984, -4.399400234222412, -4.874000072479248, -4.176599979400635, -4.66480016708374, -4.986499786376953, -4.4359002113342285, -5.183199882507324, -4.651199817657471, -4.326200008392334, -4.476799964904785, -4.281000137329102, -4.98960018157959, -4.670000076293945, -4.170599937438965, -4.1645002365112305, -4.982399940490723, -5.031499862670898, -5.134399890899658, -4.240900039672852, -7.10290002822876, -6.014699935913086, -4.013800144195557, -3.568700075149536, -4.127399921417236, -4.304599761962891, -7.282299995422363, -4.598100185394287, -7.139400005340576, -6.344699859619141, -5.645100116729736, -6.068600177764893, -5.280300140380859, -6.597599983215332, -7.052499771118164, -5.722499847412109, -6.241799831390381, -5.714200019836426, -7.2017998695373535, -6.112800121307373, -7.136600017547607, -6.694399833679199, -6.336699962615967, -6.712399959564209, -5.912499904632568, -6.2881999015808105, -6.783100128173828, -6.690000057220459, -7.116000175476074, -6.222899913787842, -6.175099849700928, -5.799200057983398, -4.15910005569458, -4.4029998779296875, -5.322800159454346, -3.2327001094818115, -5.095300197601318, -5.998499870300293, -4.502600193023682, -5.625699996948242, -5.8516998291015625, -3.6958999633789062, -4.595099925994873, -5.276599884033203, -4.771200180053711, -4.6905999183654785, -4.1356000900268555, -3.1575000286102295, -4.569200038909912, -3.222100019454956, -4.495299816131592, -4.425000190734863, -4.958700180053711, -4.433000087738037, -4.674600124359131, -4.988800048828125, -5.104899883270264, -4.69189977645874, -4.952600002288818, -4.835000038146973, -4.972099781036377, -5.067200183868408], \"Term\": [\"due\", \"notice\", \"abovecaptioned\", \"redaction\", \"calendar\", \"official_notice_give\", \"endorsed_letter_address\", \"official_conference\", \"request\", \"hold\", \"rule\", \"answer\", \"note\", \"deadline\", \"issue\", \"reply\", \"dismiss\", \"settlement\", \"number\", \"report\", \"revise_schedule\", \"official\", \"appendix\", \"dismissal\", \"service_accept\", \"conference_call\", \"response_due\", \"reach\", \"proceed\", \"grant\", \"dismissal\", \"endorsed_letter\", \"declaration_opposition\", \"revise_schedule\", \"supplemental_amend\", \"third\", \"purs\", \"crossclaims\", \"protective\", \"summary_judgment\", \"thirdparty\", \"crossclaim\", \"per\", \"counter_rule\", \"withdraw\", \"summary_judgment..\", \"g.c\", \"summary_judgment_favor\", \"assignment\", \"result\", \"advise\", \"relevant\", \"enclose\", \"complaint\", \"show_cause\", \"leave\", \"appear\", \"without_cost_either\", \"error\", \"substitution\", \"stipulation\", \"notice_appeal\", \"order\", \"declaration\", \"motion\", \"application\", \"opposition\", \"disclosure\", \"schedule\", \"support\", \"view_public_terminal_purchase\", \"propose\", \"letter\", \"serve\", \"memorandum_law_support\", \"amend_complaint\", \"send\", \"deadline_release\", \"conference\", \"response\", \"endorsement\", \"discovery\", \"conference_hold\", \"dismiss\", \"deposition\", \"grant\", \"request\", \"notice\", \"notice_appearance\", \"without_redaction_calendar\", \"remotely_electronically_available_public\", \"calendar\", \"administration\", \"conference_call\", \"abovecaptioned\", \"due\", \"redaction\", \"official_notice_give\", \"line\", \"official_conference\", \"exceed\", \"applicable\", \"number\", \"notice_reassignment\", \"note\", \"bar\", \"person\", \"official\", \"stipulate\", \"appendix\", \"fee_cost\", \"endorse\", \"forward\", \"longer\", \"decision\", \"cross\", \"reach\", \"state\", \"net_settlement\", \"connection\", \"update\", \"week\", \"correct\", \"response_due\", \"endorsed_letter_address\", \"hold\", \"settlement\", \"notice\", \"deadline\", \"business\", \"rule\", \"service_accept\", \"proceed\", \"request\", \"answer\", \"report\", \"reply\", \"issue\", \"dismiss\", \"motion\", \"grant\", \"order\", \"conference_hold\", \"discovery\", \"release\", \"amend_complaint\", \"conference\", \"remotely_electronically_available_public\", \"minute_entry_hold\", \"letter\", \"endorsement\", \"schedule\", \"serve\", \"notice_appearance\"]}, \"token.table\": {\"Freq\": [0.15194679779335646, 0.8448241957310619, 0.13437880203468114, 0.8062728122080869, 0.8715705321155365, 0.10894631651444206, 0.704554005512117, 0.2927598835689619, 0.47353852681003544, 0.5276572155883252, 0.8751205685948217, 0.1381769318833929, 0.23962023720501233, 0.7488132412656635, 0.18051802617608817, 0.8424174554884114, 0.8554957737950207, 0.13872904439919256, 0.8455496774290836, 0.08455496774290837, 0.21991049411601202, 0.7330349803867067, 0.29350119993386253, 0.6970653498429235, 0.12594813197187815, 0.8737651655549046, 0.8735587572418461, 0.12612880452154995, 0.7009225692798999, 0.2986178993381822, 0.13563707346222015, 0.859034798594061, 0.6561680490248968, 0.34619909335055904, 0.2981739898897375, 0.7454349747243436, 0.3103755048956544, 0.7094297254757814, 0.9146575668660908, 0.15244292781101512, 0.23804356925572082, 0.7141307077671625, 0.8899055752861492, 0.09887839725401658, 0.8993492241362468, 0.06918070954894207, 0.34527928019200294, 0.6491250467609655, 0.7610162855701176, 0.24072964135381272, 0.2726621669049795, 0.7634540673339427, 0.8519091852971648, 0.1481581191821156, 0.9346848886613902, 0.0612908123712387, 0.7142925494576768, 0.2798259472102239, 0.8415709023123807, 0.15105118759452987, 0.6723993401943819, 0.32730549893059857, 0.6172995089790629, 0.38347393739608454, 0.9760262666536693, 0.01654281807887575, 0.15876146653387654, 0.8402741033622247, 0.9242295075761117, 0.11552868844701396, 0.2219765499050166, 0.7547202696770564, 0.9594049244616921, 0.04360931474825873, 0.3400019727613928, 0.6580683343768894, 0.7177287888053528, 0.2829003985072194, 0.8559272485232967, 0.1283890872784945, 0.1334342424025001, 0.8006054544150006, 0.26386061296589863, 0.791581838897696, 0.24565257291627213, 0.7369577187488164, 0.8734079501557368, 0.1455679916926228, 0.6269320313918593, 0.3742877799354384, 0.35538630046891423, 0.6424290816168835, 0.5132200535808579, 0.4924138351924447, 0.8683245421685112, 0.13125836102547261, 0.7590095855463338, 0.24384470847868642, 0.15674127011773012, 0.7837063505886507, 0.2348647158950528, 0.7828823863168427, 0.7902020421795305, 0.21023724057987508, 0.5987437767586253, 0.4078399638790637, 0.7986026438740274, 0.20103392189900457, 0.24794735072215754, 0.7438420521664726, 0.20288251892929204, 0.7912418238242389, 0.4222657064681623, 0.5782377241726187, 0.8561937452473843, 0.13938037713329512, 0.6689085359086622, 0.32762867064914064, 0.22375010093360573, 0.8055003633609806, 0.20540141488541994, 0.7922626002723341, 0.24402241627914287, 0.7625700508723214, 0.17967356449080882, 0.8243845900166522, 0.1683869214801394, 0.8339161825683093, 0.8423392157061645, 0.1643588713573004, 0.8186288082371433, 0.1811961385211269, 0.8788529757786083, 0.07989572507078258, 0.23072212507354872, 0.8075274377574205, 0.3084582210863022, 0.6786080863898648, 0.80230137262025, 0.1982156332355912, 0.8915592804722696, 0.10189248919683082, 0.8982317591078095, 0.08554588181979138, 0.24855669110077727, 0.7456700733023318, 0.1616458700085541, 0.8351703283775296, 0.5798823499609855, 0.41751529197190956, 0.8621644623323064, 0.1326406865126625, 0.614747337404817, 0.38055787553631526, 0.4968306480045264, 0.5045936268795972, 0.41486062333820456, 0.577841582506785, 0.5366707584773063, 0.46381952429486656, 0.7726186151615556, 0.22212785185894723, 0.3008839360575023, 0.6920330529322553, 0.8796488686711851, 0.14660814477853085, 0.9348949390059078, 0.06677820992899342, 0.3957085456399242, 0.6006290424891707, 0.7813089096559906, 0.218623135270713, 0.7429218934198457, 0.25864688141283515, 0.7688286314757342, 0.2315222583421245, 0.33684465365013677, 0.6736893073002735, 0.3239057494215121, 0.6838010265565256, 0.8732709383177834, 0.12475299118825477, 0.2566295690951762, 0.7185627934664933, 0.25593924239098753, 0.7678177271729626, 0.8491076561150747, 0.15438321020274084, 0.8104869231869212, 0.11578384616956017, 0.90158173806108, 0.10179148655528322, 0.8979041570082698, 0.10360432580864651, 0.8933555227131724, 0.08933555227131723, 0.9029467464451967, 0.05643417165282479, 0.8024288577991566, 0.1953739827684903, 0.9020136708683472, 0.09664432187875148, 0.8899895688019266, 0.10470465515316783, 0.3423367767482269, 0.6846735534964538, 0.806999324097347, 0.19214269621365404, 0.2800642039437946, 0.7001605098594865, 0.8850764270876516, 0.1154447513592589, 0.873430161718902, 0.12477573738841456, 0.6721802003607789, 0.32524848404553813], \"Topic\": [1, 2, 1, 2, 1, 2, 1, 2, 1, 2, 1, 2, 1, 2, 1, 2, 1, 2, 1, 2, 1, 2, 1, 2, 1, 2, 1, 2, 1, 2, 1, 2, 1, 2, 1, 2, 1, 2, 1, 2, 1, 2, 1, 2, 1, 2, 1, 2, 1, 2, 1, 2, 1, 2, 1, 2, 1, 2, 1, 2, 1, 2, 1, 2, 1, 2, 1, 2, 1, 2, 1, 2, 1, 2, 1, 2, 1, 2, 1, 2, 1, 2, 1, 2, 1, 2, 1, 2, 1, 2, 1, 2, 1, 2, 1, 2, 1, 2, 1, 2, 1, 2, 1, 2, 1, 2, 1, 2, 1, 2, 1, 2, 1, 2, 1, 2, 1, 2, 1, 2, 1, 2, 1, 2, 1, 2, 1, 2, 1, 2, 1, 2, 1, 2, 1, 2, 1, 2, 1, 2, 1, 2, 1, 2, 1, 2, 1, 2, 1, 2, 1, 2, 1, 2, 1, 2, 1, 2, 1, 2, 1, 2, 1, 2, 1, 2, 1, 2, 1, 2, 1, 2, 1, 2, 1, 2, 1, 2, 1, 2, 1, 2, 1, 2, 1, 2, 1, 2, 1, 2, 1, 2, 1, 2, 1, 2, 1, 2, 1, 2, 1, 2, 1, 2, 1, 2, 1, 2, 1, 2, 1, 2, 1, 2, 1, 2], \"Term\": [\"abovecaptioned\", \"abovecaptioned\", \"administration\", \"administration\", \"advise\", \"advise\", \"amend_complaint\", \"amend_complaint\", \"answer\", \"answer\", \"appear\", \"appear\", \"appendix\", \"appendix\", \"applicable\", \"applicable\", \"application\", \"application\", \"assignment\", \"assignment\", \"bar\", \"bar\", \"business\", \"business\", \"calendar\", \"calendar\", \"complaint\", \"complaint\", \"conference\", \"conference\", \"conference_call\", \"conference_call\", \"conference_hold\", \"conference_hold\", \"connection\", \"connection\", \"correct\", \"correct\", \"counter_rule\", \"counter_rule\", \"cross\", \"cross\", \"crossclaim\", \"crossclaim\", \"crossclaims\", \"crossclaims\", \"deadline\", \"deadline\", \"deadline_release\", \"deadline_release\", \"decision\", \"decision\", \"declaration\", \"declaration\", \"declaration_opposition\", \"declaration_opposition\", \"deposition\", \"deposition\", \"disclosure\", \"disclosure\", \"discovery\", \"discovery\", \"dismiss\", \"dismiss\", \"dismissal\", \"dismissal\", \"due\", \"due\", \"enclose\", \"enclose\", \"endorse\", \"endorse\", \"endorsed_letter\", \"endorsed_letter\", \"endorsed_letter_address\", \"endorsed_letter_address\", \"endorsement\", \"endorsement\", \"error\", \"error\", \"exceed\", \"exceed\", \"fee_cost\", \"fee_cost\", \"forward\", \"forward\", \"g.c\", \"g.c\", \"grant\", \"grant\", \"hold\", \"hold\", \"issue\", \"issue\", \"leave\", \"leave\", \"letter\", \"letter\", \"line\", \"line\", \"longer\", \"longer\", \"memorandum_law_support\", \"memorandum_law_support\", \"minute_entry_hold\", \"minute_entry_hold\", \"motion\", \"motion\", \"net_settlement\", \"net_settlement\", \"note\", \"note\", \"notice\", \"notice\", \"notice_appeal\", \"notice_appeal\", \"notice_appearance\", \"notice_appearance\", \"notice_reassignment\", \"notice_reassignment\", \"number\", \"number\", \"official\", \"official\", \"official_conference\", \"official_conference\", \"official_notice_give\", \"official_notice_give\", \"opposition\", \"opposition\", \"order\", \"order\", \"per\", \"per\", \"person\", \"person\", \"proceed\", \"proceed\", \"propose\", \"propose\", \"protective\", \"protective\", \"purs\", \"purs\", \"reach\", \"reach\", \"redaction\", \"redaction\", \"release\", \"release\", \"relevant\", \"relevant\", \"remotely_electronically_available_public\", \"remotely_electronically_available_public\", \"reply\", \"reply\", \"report\", \"report\", \"request\", \"request\", \"response\", \"response\", \"response_due\", \"response_due\", \"result\", \"result\", \"revise_schedule\", \"revise_schedule\", \"rule\", \"rule\", \"schedule\", \"schedule\", \"send\", \"send\", \"serve\", \"serve\", \"service_accept\", \"service_accept\", \"settlement\", \"settlement\", \"show_cause\", \"show_cause\", \"state\", \"state\", \"stipulate\", \"stipulate\", \"stipulation\", \"stipulation\", \"substitution\", \"substitution\", \"summary_judgment\", \"summary_judgment\", \"summary_judgment..\", \"summary_judgment..\", \"summary_judgment_favor\", \"summary_judgment_favor\", \"supplemental_amend\", \"supplemental_amend\", \"support\", \"support\", \"third\", \"third\", \"thirdparty\", \"thirdparty\", \"update\", \"update\", \"view_public_terminal_purchase\", \"view_public_terminal_purchase\", \"week\", \"week\", \"withdraw\", \"withdraw\", \"without_cost_either\", \"without_cost_either\", \"without_redaction_calendar\", \"without_redaction_calendar\"]}, \"lambda.step\": 0.01, \"plot.opts\": {\"ylab\": \"PC2\", \"xlab\": \"PC1\"}};\n",
       "\n",
       "function LDAvis_load_lib(url, callback){\n",
       "  var s = document.createElement('script');\n",
       "  s.src = url;\n",
       "  s.async = true;\n",
       "  s.onreadystatechange = s.onload = callback;\n",
       "  s.onerror = function(){console.warn(\"failed to load library \" + url);};\n",
       "  document.getElementsByTagName(\"head\")[0].appendChild(s);\n",
       "}\n",
       "\n",
       "if(typeof(LDAvis) !== \"undefined\"){\n",
       "   // already loaded: just create the visualization\n",
       "   !function(LDAvis){\n",
       "       new LDAvis(\"#\" + \"ldavis_el2506819944779844084251819616\", ldavis_el2506819944779844084251819616_data);\n",
       "   }(LDAvis);\n",
       "}else if(typeof define === \"function\" && define.amd){\n",
       "   // require.js is available: use it to load d3/LDAvis\n",
       "   require.config({paths: {d3: \"https://cdnjs.cloudflare.com/ajax/libs/d3/3.5.5/d3.min\"}});\n",
       "   require([\"d3\"], function(d3){\n",
       "      window.d3 = d3;\n",
       "      LDAvis_load_lib(\"https://cdn.rawgit.com/bmabey/pyLDAvis/files/ldavis.v1.0.0.js\", function(){\n",
       "        new LDAvis(\"#\" + \"ldavis_el2506819944779844084251819616\", ldavis_el2506819944779844084251819616_data);\n",
       "      });\n",
       "    });\n",
       "}else{\n",
       "    // require.js not available: dynamically load d3 & LDAvis\n",
       "    LDAvis_load_lib(\"https://cdnjs.cloudflare.com/ajax/libs/d3/3.5.5/d3.min.js\", function(){\n",
       "         LDAvis_load_lib(\"https://cdn.rawgit.com/bmabey/pyLDAvis/files/ldavis.v1.0.0.js\", function(){\n",
       "                 new LDAvis(\"#\" + \"ldavis_el2506819944779844084251819616\", ldavis_el2506819944779844084251819616_data);\n",
       "            })\n",
       "         });\n",
       "}\n",
       "</script>"
      ],
      "text/plain": [
       "<IPython.core.display.HTML object>"
      ]
     },
     "execution_count": 393,
     "metadata": {},
     "output_type": "execute_result"
    }
   ],
   "source": [
    "num_topics = 2\n",
    "pretrained_model_file_path = 'docket_texts/lda_model_noorgnomodel_' + str(num_topics)\n",
    "column_name = str(num_topics) + '-topic Model Classification'\n",
    "\n",
    "topic_names = {}\n",
    "for i in range(num_topics):\n",
    "    topic_names[i] = 'Topic ' + str(i)\n",
    "\n",
    "LDAvis_prepared, model = topic_modeling_pipeline(num_topics, pretrained_model_file_path, trigram_bow_corpus, trigram_dictionary, export = True)\n",
    "topic_summary = []\n",
    "\n",
    "for docket_text in list(new_df['Apply Trigram Phrase Model']):\n",
    "    #print(docket_text)\n",
    "    topic_summary.append(lda_description(docket_text, model, trigram_dictionary, topic_names))\n",
    "\n",
    "new_df[column_name] = topic_summary\n",
    "pyLDAvis.display(LDAvis_prepared)"
   ]
  },
  {
   "cell_type": "markdown",
   "metadata": {},
   "source": [
    "### 3 Topics:"
   ]
  },
  {
   "cell_type": "code",
   "execution_count": 394,
   "metadata": {},
   "outputs": [
    {
     "name": "stdout",
     "output_type": "stream",
     "text": [
      "\n",
      " Topic 1's make-up:\n",
      "term                 frequency\n",
      "\n",
      "order                0.145\n",
      "motion               0.058\n",
      "request              0.024\n",
      "conference_hold      0.022\n",
      "discovery            0.017\n",
      "serve                0.016\n",
      "stipulation          0.016\n",
      "complaint            0.016\n",
      "grant                0.015\n",
      "notice_appearance    0.015\n",
      "\n",
      " Topic 2's make-up:\n",
      "term                 frequency\n",
      "\n",
      "motion               0.076\n",
      "notice               0.047\n",
      "order                0.036\n",
      "amend_complaint      0.023\n",
      "letter               0.023\n",
      "abovecaptioned       0.022\n",
      "conference           0.020\n",
      "schedule             0.019\n",
      "answer               0.018\n",
      "official_notice_give 0.018\n",
      "\n",
      " Topic 3's make-up:\n",
      "term                 frequency\n",
      "\n",
      "motion               0.084\n",
      "due                  0.029\n",
      "order                0.028\n",
      "dismiss              0.027\n",
      "request              0.024\n",
      "notice               0.021\n",
      "send                 0.021\n",
      "endorsement          0.021\n",
      "redaction            0.021\n",
      "calendar             0.018\n"
     ]
    },
    {
     "data": {
      "text/html": [
       "\n",
       "<link rel=\"stylesheet\" type=\"text/css\" href=\"https://cdn.rawgit.com/bmabey/pyLDAvis/files/ldavis.v1.0.0.css\">\n",
       "\n",
       "\n",
       "<div id=\"ldavis_el2506819944813628884987590261\"></div>\n",
       "<script type=\"text/javascript\">\n",
       "\n",
       "var ldavis_el2506819944813628884987590261_data = {\"topic.order\": [1, 2, 3], \"mdsDat\": {\"cluster\": [1, 1, 1], \"topics\": [1, 2, 3], \"Freq\": [42.90814051137286, 30.218850578288574, 26.87300891033857], \"x\": [0.0879752748803548, -0.0982651863136242, 0.010289911433269556], \"y\": [-0.05746563662430716, -0.041124175276284286, 0.09858981190059145]}, \"R\": 30, \"tinfo\": {\"Category\": [\"Default\", \"Default\", \"Default\", \"Default\", \"Default\", \"Default\", \"Default\", \"Default\", \"Default\", \"Default\", \"Default\", \"Default\", \"Default\", \"Default\", \"Default\", \"Default\", \"Default\", \"Default\", \"Default\", \"Default\", \"Default\", \"Default\", \"Default\", \"Default\", \"Default\", \"Default\", \"Default\", \"Default\", \"Default\", \"Default\", \"Topic1\", \"Topic1\", \"Topic1\", \"Topic1\", \"Topic1\", \"Topic1\", \"Topic1\", \"Topic1\", \"Topic1\", \"Topic1\", \"Topic1\", \"Topic1\", \"Topic1\", \"Topic1\", \"Topic1\", \"Topic1\", \"Topic1\", \"Topic1\", \"Topic1\", \"Topic1\", \"Topic1\", \"Topic1\", \"Topic1\", \"Topic1\", \"Topic1\", \"Topic1\", \"Topic1\", \"Topic1\", \"Topic1\", \"Topic1\", \"Topic1\", \"Topic1\", \"Topic1\", \"Topic1\", \"Topic1\", \"Topic1\", \"Topic1\", \"Topic1\", \"Topic1\", \"Topic1\", \"Topic1\", \"Topic1\", \"Topic1\", \"Topic1\", \"Topic1\", \"Topic1\", \"Topic1\", \"Topic1\", \"Topic1\", \"Topic1\", \"Topic1\", \"Topic1\", \"Topic1\", \"Topic1\", \"Topic1\", \"Topic1\", \"Topic1\", \"Topic1\", \"Topic1\", \"Topic1\", \"Topic1\", \"Topic1\", \"Topic1\", \"Topic1\", \"Topic1\", \"Topic1\", \"Topic2\", \"Topic2\", \"Topic2\", \"Topic2\", \"Topic2\", \"Topic2\", \"Topic2\", \"Topic2\", \"Topic2\", \"Topic2\", \"Topic2\", \"Topic2\", \"Topic2\", \"Topic2\", \"Topic2\", \"Topic2\", \"Topic2\", \"Topic2\", \"Topic2\", \"Topic2\", \"Topic2\", \"Topic2\", \"Topic2\", \"Topic2\", \"Topic2\", \"Topic2\", \"Topic2\", \"Topic2\", \"Topic2\", \"Topic2\", \"Topic2\", \"Topic2\", \"Topic2\", \"Topic2\", \"Topic2\", \"Topic2\", \"Topic2\", \"Topic2\", \"Topic2\", \"Topic2\", \"Topic2\", \"Topic2\", \"Topic2\", \"Topic2\", \"Topic2\", \"Topic2\", \"Topic2\", \"Topic2\", \"Topic2\", \"Topic2\", \"Topic2\", \"Topic2\", \"Topic2\", \"Topic2\", \"Topic2\", \"Topic2\", \"Topic3\", \"Topic3\", \"Topic3\", \"Topic3\", \"Topic3\", \"Topic3\", \"Topic3\", \"Topic3\", \"Topic3\", \"Topic3\", \"Topic3\", \"Topic3\", \"Topic3\", \"Topic3\", \"Topic3\", \"Topic3\", \"Topic3\", \"Topic3\", \"Topic3\", \"Topic3\", \"Topic3\", \"Topic3\", \"Topic3\", \"Topic3\", \"Topic3\", \"Topic3\", \"Topic3\", \"Topic3\", \"Topic3\", \"Topic3\", \"Topic3\", \"Topic3\", \"Topic3\", \"Topic3\", \"Topic3\", \"Topic3\", \"Topic3\", \"Topic3\", \"Topic3\", \"Topic3\", \"Topic3\", \"Topic3\", \"Topic3\", \"Topic3\", \"Topic3\", \"Topic3\", \"Topic3\", \"Topic3\", \"Topic3\", \"Topic3\", \"Topic3\", \"Topic3\"], \"Total\": [1766.0, 527.0, 266.0, 173.0, 130.0, 148.0, 170.0, 129.0, 129.0, 164.0, 105.0, 147.0, 128.0, 98.0, 1547.0, 118.0, 315.0, 138.0, 119.0, 178.0, 119.0, 118.0, 289.0, 225.0, 132.0, 98.0, 273.0, 61.0, 162.0, 268.0, 24.427167054135435, 21.20686371844864, 67.64767732793511, 20.36695147103707, 49.44452784959239, 8.503407492788236, 13.208749200792063, 57.29043872394279, 13.851445069328982, 162.02854107108044, 65.93365175478029, 18.042160678772362, 38.63535666118891, 38.82976312583626, 40.18872297704597, 15.992956248518594, 68.93338977292088, 10.415383180636072, 17.29808326323262, 18.37626023016286, 9.727417835565916, 19.05035978892762, 17.75015314762341, 12.392313534965435, 14.337794622689591, 15.008763125875221, 9.03619642260331, 26.906757661469516, 56.469005560511626, 8.401726639829253, 28.828322194080624, 28.089936320539785, 1766.8693158728113, 268.55209602918046, 31.55727752437868, 40.44349045267122, 52.562488183945476, 200.35402163135575, 76.82868924698523, 41.82956720493216, 31.290880107261188, 38.45483666089844, 35.41805485184957, 217.14081111669174, 58.54766075048665, 233.92318453077866, 224.56542764383764, 63.914691781991216, 48.4964625860965, 47.64009877507625, 427.54263506532766, 285.7058201373499, 98.68108873278527, 110.36427170072196, 60.01882773454561, 1547.4180452111732, 155.08964003057798, 276.287269261391, 136.3071137902337, 315.8332011581688, 84.48347412223288, 125.97576261477207, 77.16712024805086, 527.6080229829766, 273.55435609050045, 266.5291327319044, 98.3203774718394, 130.1726625988071, 33.73317738462354, 26.11601431883059, 38.9340202951295, 129.46471690903005, 129.39464425834743, 18.5920165795688, 33.75354213517679, 118.63910114801465, 29.818419351624637, 19.82909762546844, 119.28966157776291, 118.76009783703167, 11.778832450460376, 7.276697367854622, 173.76824686768924, 28.240993371914033, 26.36210740809194, 147.984273592152, 6.696586233809699, 11.792392265090555, 11.428758317510662, 23.575045297635114, 7.887943873021628, 10.065436232516385, 36.37211586252004, 6.798341967608109, 12.88498496987354, 7.265271647453597, 15.624088926106515, 132.33137026591626, 26.008749937680502, 527.6080229829766, 125.60007777413394, 225.47836411491954, 273.55435609050045, 289.95009394962847, 33.58003969153848, 37.31523824135014, 131.27684162057963, 276.287269261391, 1547.4180452111732, 135.66779306391152, 141.26376063285565, 71.64865022226475, 178.58738742439846, 59.9350872109402, 1766.8693158728113, 155.08964003057798, 101.744469330729, 217.14081111669174, 427.54263506532766, 285.7058201373499, 170.9180301896681, 266.5291327319044, 23.205271957107016, 105.2881726326159, 61.01897725882398, 23.303774649015814, 22.20098063054597, 6.941984363625429, 21.297838763470395, 148.92163656314457, 33.08028901183965, 128.47313744187454, 12.978423114263693, 13.177368680545003, 6.996102181016638, 119.51512387082494, 20.3496471861413, 164.15598913600044, 98.6658484956547, 17.93148696131664, 56.85456859088029, 138.0913045699493, 13.57507949297531, 19.7547312150584, 39.14427399009053, 17.31597675873949, 22.478454135437595, 170.9180301896681, 8.25897753002754, 7.5780917532777785, 12.487741767492519, 21.935080739827, 41.13324104346469, 85.69681798193328, 266.5291327319044, 96.67906821171525, 146.71207638860074, 72.89195033197358, 315.8332011581688, 178.58738742439846, 91.49239041721414, 1547.4180452111732, 54.24616816365247, 125.97576261477207, 427.54263506532766, 289.95009394962847, 527.6080229829766, 285.7058201373499, 225.47836411491954, 1766.8693158728113, 273.55435609050045, 141.26376063285565, 224.56542764383764, 233.92318453077866], \"loglift\": [30.0, 29.0, 28.0, 27.0, 26.0, 25.0, 24.0, 23.0, 22.0, 21.0, 20.0, 19.0, 18.0, 17.0, 16.0, 15.0, 14.0, 13.0, 12.0, 11.0, 10.0, 9.0, 8.0, 7.0, 6.0, 5.0, 4.0, 3.0, 2.0, 1.0, 0.79, 0.7763, 0.7632, 0.7501, 0.7482, 0.7371, 0.7325, 0.7245, 0.7234, 0.7194, 0.7165, 0.7148, 0.7123, 0.7075, 0.7057, 0.7017, 0.7015, 0.6998, 0.6959, 0.6905, 0.6879, 0.6877, 0.6832, 0.6813, 0.6763, 0.6751, 0.6741, 0.6724, 0.6714, 0.6676, 0.6676, 0.6672, 0.5877, 0.6079, 0.6602, 0.6522, 0.6304, 0.5484, 0.6057, 0.6392, 0.6461, 0.6274, 0.6338, 0.4607, 0.5746, 0.4146, 0.4153, 0.5542, 0.5869, 0.5837, 0.1943, 0.2422, 0.4366, 0.4134, 0.5355, -0.1967, 0.269, 0.0713, 0.2606, -0.0963, 0.3199, 0.0921, 0.331, -0.8804, -0.7232, -0.8542, 1.1437, 1.1098, 1.0962, 1.0937, 1.0901, 1.0856, 1.0802, 1.0673, 1.0516, 1.051, 1.0403, 1.0343, 1.0288, 1.0284, 1.0281, 1.0237, 1.0187, 1.0144, 1.0, 0.9946, 0.9875, 0.9866, 0.977, 0.966, 0.9623, 0.9505, 0.9458, 0.9408, 0.94, 0.932, 0.9138, 0.8337, 0.8935, 0.6666, 0.7367, 0.6636, 0.5988, 0.5496, 0.8291, 0.8139, 0.5948, 0.4319, 0.0815, 0.5063, 0.4535, 0.6433, 0.293, 0.648, -0.8096, 0.2207, 0.4168, -0.1062, -0.7179, -0.6086, -0.2187, -0.5895, 1.2035, 1.1922, 1.1879, 1.1503, 1.1394, 1.1365, 1.1329, 1.1105, 1.1096, 1.1034, 1.1033, 1.094, 1.0705, 1.0701, 1.0452, 1.0191, 1.0167, 1.0117, 1.0069, 1.0007, 0.9918, 0.9901, 0.9893, 0.9852, 0.9815, 0.9783, 0.9752, 0.9688, 0.9547, 0.9422, 0.9379, 0.923, 0.8829, 0.8292, 0.7408, 0.8156, 0.6443, 0.7054, 0.7663, 0.1737, 0.7994, 0.5536, 0.2099, 0.2304, -0.1402, 0.0724, 0.0549, -1.0583, -0.1053, 0.2439, -0.1172, -0.3004], \"Freq\": [1766.0, 527.0, 266.0, 173.0, 130.0, 148.0, 170.0, 129.0, 129.0, 164.0, 105.0, 147.0, 128.0, 98.0, 1547.0, 118.0, 315.0, 138.0, 119.0, 178.0, 119.0, 118.0, 289.0, 225.0, 132.0, 98.0, 273.0, 61.0, 162.0, 268.0, 23.095050797551217, 19.77670402817155, 62.26438384161541, 18.502176842888495, 44.831805423769055, 7.625548621873712, 11.789776844076172, 50.731210617864505, 12.252205549058411, 142.74025201862764, 57.91974561585455, 15.822451334015845, 33.79610103842208, 33.805490476054956, 34.92367495694374, 13.842042308607876, 59.653447936364515, 8.998198615886972, 14.884972885398849, 15.72752882085693, 8.3036773582045, 16.26005426923433, 15.08198960548189, 10.509329084525312, 12.098854986464797, 12.65007033672841, 7.608394334612062, 22.616562946781354, 47.419006306983086, 7.028240667263979, 24.114914201870224, 23.4878957291166, 1364.4613718668163, 211.61901355729094, 26.202921700928847, 33.314581502127325, 42.3640705252241, 148.7732974256578, 60.41305651648699, 34.011950457173306, 25.61942329357233, 30.900916055856662, 28.644291919775124, 147.6936131540615, 44.62641092633155, 151.94020491244868, 145.9693573898972, 47.73448613895107, 37.424180618513866, 36.646201781609435, 222.78927205497723, 156.19018864362602, 65.52030425166524, 71.5973837925076, 43.99212080206534, 545.3819830889942, 87.08663421391307, 127.31667932943377, 75.89880072767671, 123.07683636664983, 49.915797055348435, 59.26757588150637, 46.10042521602572, 93.86322466153095, 56.950594840996764, 48.67674278758012, 93.24265079538608, 119.3322084544339, 30.50829171839545, 23.559696659726633, 34.99708248627539, 115.845302883628, 115.16819118040188, 16.336057849384048, 29.194617035821643, 102.55613939554596, 25.500830662792037, 16.85630936405364, 100.8485504463572, 100.35929840633763, 9.951054931439616, 6.120710581190965, 145.4367614672603, 23.533607962304554, 21.65379988141439, 120.90581085417705, 5.432615771522854, 9.557947523780044, 9.174786992868576, 18.718829157374454, 6.239770626759257, 7.869001425948616, 28.299880851395507, 5.263598547027891, 9.96771428676474, 5.575508713253505, 11.773798048089562, 92.05073987079577, 19.206880578890903, 310.51106196666376, 79.29207028719082, 132.3095081919541, 150.4405556854251, 151.80830771068048, 23.25107272249666, 25.44590546065209, 71.90907103120276, 128.5867862941239, 507.30973838674964, 68.02095465143564, 67.18275583987142, 41.198032599037646, 72.34222819435512, 34.62424711977184, 237.62698350209328, 58.44163426167359, 46.64601543644654, 59.006228207141234, 63.02275506794518, 46.9749818119226, 41.50180455221379, 44.66758799472251, 20.775872651167344, 93.20688390119236, 53.788514775785835, 19.784470156621, 18.644100754412204, 5.812781058772386, 17.769649734126652, 121.49023878463936, 26.962875450319643, 104.07311654764364, 10.511972911980862, 10.574365789465142, 5.484003374854863, 93.64293991035136, 15.552462989050783, 122.22023854694334, 73.28393657279159, 13.252159121116426, 41.820832343982204, 100.94500686219062, 9.834910267736488, 14.28856401351835, 28.28859975138835, 12.462774850623488, 16.119896611076296, 122.16818612198087, 5.885198623512864, 5.36546275513965, 8.717916438426288, 15.12266312221321, 28.238712967071134, 57.95936804897281, 173.18480194960176, 59.53634518962826, 82.69801223064376, 44.28158073982211, 161.66182157893599, 97.17056213892924, 52.90487285365134, 494.72632373542945, 32.4242276549441, 58.890318349726186, 141.73060794240521, 98.10902476364896, 123.23373635478193, 82.54064968180133, 64.01348113928077, 164.7809605039017, 66.16320556407858, 48.44510055389908, 53.67505942152477, 46.55277091267807], \"logprob\": [30.0, 29.0, 28.0, 27.0, 26.0, 25.0, 24.0, 23.0, 22.0, 21.0, 20.0, 19.0, 18.0, 17.0, 16.0, 15.0, 14.0, 13.0, 12.0, 11.0, 10.0, 9.0, 8.0, 7.0, 6.0, 5.0, 4.0, 3.0, 2.0, 1.0, -6.012599945068359, -6.167699813842773, -5.0208001136779785, -6.234300136566162, -5.349299907684326, -7.120699882507324, -6.684999942779541, -5.2256999015808105, -6.646500110626221, -4.191199779510498, -5.093200206756592, -6.3907999992370605, -5.631899833679199, -5.6315999031066895, -5.599100112915039, -6.524499893188477, -5.063700199127197, -6.9552001953125, -6.451900005340576, -6.3968000411987305, -7.0355000495910645, -6.363500118255615, -6.438700199127197, -6.800000190734863, -6.65910005569458, -6.61460018157959, -7.123000144958496, -6.033599853515625, -5.2932000160217285, -7.202300071716309, -5.969399929046631, -5.995699882507324, -1.9336999654769897, -3.7973999977111816, -5.88640022277832, -5.646200180053711, -5.405900001525879, -4.149799823760986, -5.051000118255615, -5.625500202178955, -5.908899784088135, -5.721399784088135, -5.797299861907959, -4.157100200653076, -5.353899955749512, -4.128699779510498, -4.168799877166748, -5.286600112915039, -5.529900074005127, -5.550899982452393, -3.746000051498413, -4.101200103759766, -4.969900131225586, -4.881199836730957, -5.368199825286865, -2.8506999015808105, -4.685299873352051, -4.305600166320801, -4.822800159454346, -4.339399814605713, -5.2418999671936035, -5.070199966430664, -5.321400165557861, -4.610400199890137, -5.110099792480469, -5.267000198364258, -4.26639986038208, -4.019700050354004, -5.383600234985352, -5.642099857330322, -5.246399879455566, -4.0493998527526855, -4.055200099945068, -6.008299827575684, -5.427700042724609, -4.171199798583984, -5.562900066375732, -5.976900100708008, -4.188000202178955, -4.19290018081665, -6.504000186920166, -6.989999771118164, -3.821899890899658, -5.643199920654297, -5.726500034332275, -4.0065999031066895, -7.1092000007629395, -6.544300079345703, -6.58519983291626, -5.872099876403809, -6.970699787139893, -6.738699913024902, -5.458799839019775, -7.1407999992370605, -6.502299785614014, -7.0833001136779785, -6.3358001708984375, -4.279300212860107, -5.846399784088135, -3.0634000301361084, -4.428500175476074, -3.9165000915527344, -3.788100004196167, -3.7790000438690186, -5.655300140380859, -5.565100193023682, -4.526199817657471, -3.944999933242798, -2.572499990463257, -4.5817999839782715, -4.594200134277344, -5.083199977874756, -4.520199775695801, -5.2571001052856445, -3.330899953842163, -4.73360013961792, -4.959099769592285, -4.723999977111816, -4.658100128173828, -4.952000141143799, -5.075900077819824, -5.002399921417236, -5.6504998207092285, -4.149499893188477, -4.69920015335083, -5.699399948120117, -5.758800029754639, -6.924200057983398, -5.80679988861084, -3.884500026702881, -5.389800071716309, -4.0391998291015625, -6.3317999839782715, -6.325900077819824, -6.982500076293945, -4.144800186157227, -5.940100193023682, -3.878499984741211, -4.389999866485596, -6.100100040435791, -4.950900077819824, -4.069699764251709, -6.398399829864502, -6.024799823760986, -5.341800212860107, -6.161499977111816, -5.904200077056885, -3.8789000511169434, -6.911900043487549, -7.004300117492676, -6.518899917602539, -5.968100070953369, -5.343599796295166, -4.624599933624268, -3.529900074005127, -4.597700119018555, -4.269100189208984, -4.893700122833252, -3.59879994392395, -4.107800006866455, -4.715799808502197, -2.480299949645996, -5.205399990081787, -4.60860013961792, -3.7304000854492188, -4.098199844360352, -3.8701999187469482, -4.270999908447266, -4.525199890136719, -3.579699993133545, -4.492199897766113, -4.803899765014648, -4.701300144195557, -4.843699932098389], \"Term\": [\"order\", \"notice\", \"due\", \"abovecaptioned\", \"official_notice_give\", \"redaction\", \"endorsement\", \"remotely_electronically_available_public\", \"without_redaction_calendar\", \"send\", \"minute_entry_hold\", \"answer\", \"calendar\", \"official_conference\", \"motion\", \"view_public_terminal_purchase\", \"dismiss\", \"withdraw\", \"release\", \"endorsed_letter_address\", \"redact_deadline\", \"deadline_release\", \"amend_complaint\", \"conference\", \"deposition\", \"terminate\", \"letter\", \"discovery_hear_hold\", \"notice_appearance\", \"conference_hold\", \"paragraph\", \"electronic_filing\", \"minute_entry_hold_telephone\", \"applicable\", \"disclosure\", \"without_cost_either\", \"vacate\", \"serve_answer_due\", \"original\", \"notice_appearance\", \"appear_pro_hac_vice\", \"hereto\", \"period\", \"upon\", \"appendix\", \"undersigned\", \"production\", \"notice_appeal_certify\", \"bank\", \"evidence\", \"final_judgment\", \"base\", \"dismiss_without_prejudice\", \"assignment\", \"account\", \"crossclaims\", \"sheet\", \"notice_reassignment\", \"declaration\", \"dismissal_without_prejudice\", \"longer_assigned\", \"instruction\", \"order\", \"conference_hold\", \"crossclaim\", \"protective\", \"notice_appeal\", \"stipulation\", \"report\", \"default\", \"rule_federal_rule\", \"answer_due_answer_due\", \"establish\", \"complaint\", \"disclose\", \"serve\", \"grant\", \"settlement\", \"affidavit_service_summons\", \"supplemental\", \"request\", \"discovery\", \"opposition\", \"deny\", \"endorsement_application_grant\", \"motion\", \"rule\", \"schedule\", \"reply\", \"dismiss\", \"comply_discovery_ruling_conference\", \"revise_schedule\", \"respond\", \"notice\", \"letter\", \"due\", \"official_conference\", \"official_notice_give\", \"adjourn\", \"jury_demand\", \"dismiss..\", \"remotely_electronically_available_public\", \"without_redaction_calendar\", \"dispositive\", \"official\", \"view_public_terminal_purchase\", \"initiate\", \"light\", \"redact_deadline\", \"deadline_release\", \"magnum_growth_magnum_special\", \"nonecf_error\", \"abovecaptioned\", \"dispute\", \"status_report\", \"answer\", \"rule_deposition_objection\", \"hedge_strategy_ibex_absolute\", \"adopt\", \"conference_call\", \"notice_termination\", \"summary_judgment_favor\", \"resolve\", \"line\", \"occur\", \"responsereply\", \"note_refile\", \"deposition\", \"previously\", \"notice\", \"summary_judgment\", \"conference\", \"letter\", \"amend_complaint\", \"response_due\", \"section\", \"memorandum_law_support\", \"schedule\", \"motion\", \"support\", \"issue\", \"address\", \"endorsed_letter_address\", \"declaration_opposition\", \"order\", \"rule\", \"declaration_support\", \"complaint\", \"request\", \"discovery\", \"endorsement\", \"due\", \"courtroom_pearl_street_new\", \"minute_entry_hold\", \"discovery_hear_hold\", \"conference_pm\", \"endorse\", \"jury_trial_hold\", \"dismiss_thirdparty\", \"redaction\", \"york\", \"calendar\", \"correction\", \"cancel\", \"service_execute\", \"release\", \"today\", \"send\", \"terminate\", \"adjournment\", \"telephone_conference\", \"withdraw\", \"summons_issue\", \"believe\", \"respectfully_request\", \"fax\", \"office\", \"endorsement\", \"rule_rule_..\", \"rule_certificate\", \"deficiency\", \"plan\", \"service_accept\", \"memorandum_law_opposition\", \"due\", \"propose\", \"hold\", \"deadline\", \"dismiss\", \"endorsed_letter_address\", \"leave\", \"motion\", \"approve\", \"revise_schedule\", \"request\", \"amend_complaint\", \"notice\", \"discovery\", \"conference\", \"order\", \"letter\", \"issue\", \"grant\", \"serve\"]}, \"token.table\": {\"Freq\": [0.10358624388784664, 0.8344447424298757, 0.05754791327102591, 0.8369487997135887, 0.06974573330946572, 0.06974573330946572, 0.22331195284720123, 0.5722368791709531, 0.1953979587413011, 0.05928881164072176, 0.9189765804311872, 0.02964440582036088, 0.16730347050815475, 0.05576782350271825, 0.7249817055353373, 0.1749971383099146, 0.7874871223946156, 0.7629422441753013, 0.08248024261354608, 0.14434042457370566, 0.1379547750963964, 0.5242281453663062, 0.3379891989861712, 0.1554219204629035, 0.8176544511309272, 0.02702989921093974, 0.8061404674102114, 0.1820317184474671, 0.026004531206781013, 0.8796721925203379, 0.07583380970002913, 0.04550028582001748, 0.8708910711094369, 0.07464780609509458, 0.04976520406339639, 0.9328838450378325, 0.04909914973883329, 0.2949517088788728, 0.1106068908295773, 0.5899034177577456, 0.887647005457297, 0.08069518231429973, 0.08069518231429973, 0.8671480979561917, 0.05780987319707945, 0.05780987319707945, 0.8398791506971676, 0.10498489383714595, 0.05249244691857297, 0.15186235476153662, 0.10124156984102442, 0.7086909888871709, 0.08562101166850354, 0.10897219666900451, 0.8095077466840336, 0.07588768472998669, 0.07588768472998669, 0.8347645320298537, 0.6815853695990138, 0.2717130865293366, 0.046053065513446886, 0.5918317223515064, 0.03550990334109038, 0.3669356678579339, 0.12861544438569536, 0.5854220227210961, 0.2838409807132587, 0.16967093591973936, 0.805936945618762, 0.04241773397993484, 0.7894185267389029, 0.07447344591876442, 0.1377758749497142, 0.08582300636366932, 0.08582300636366932, 0.8582300636366932, 0.07705096306353032, 0.07705096306353032, 0.8475605936988335, 0.08618731138755155, 0.043093655693775774, 0.9049667695692912, 0.8238987022855326, 0.12675364650546656, 0.03168841162636664, 0.866160648347358, 0.066627742180566, 0.066627742180566, 0.23322191164561365, 0.15090829577069118, 0.6036331830827647, 0.05894235629214231, 0.8420336613163187, 0.10104403935795825, 0.832314993569973, 0.03541765930084991, 0.14167063720339965, 0.26695548041314027, 0.5839651134037442, 0.1501624577323914, 0.36365613033695593, 0.46194157096856564, 0.17691379313689748, 0.8128221799051039, 0.02390653470309129, 0.16734574292163903, 0.24023558909661744, 0.08007852969887248, 0.7207067672898523, 0.6523850417392734, 0.14497445371983853, 0.20840077722226788, 0.2871579121688232, 0.6952244189350456, 0.022670361487012354, 0.768604576565016, 0.15372091531300322, 0.085400508507224, 0.9101108243340414, 0.04044936997040184, 0.06067405495560276, 0.5460161781968765, 0.164504874200341, 0.29050860763038944, 0.0819417208320539, 0.03277668833282156, 0.8849705849861821, 0.3894460732720807, 0.09815307537751627, 0.5129289745534722, 0.02568447831535898, 0.8989567410375643, 0.07705343494607693, 0.14085936292961035, 0.04695312097653678, 0.845156177577662, 0.8450631313008343, 0.11267508417344457, 0.8331620749020537, 0.11902315355743624, 0.10757305381266961, 0.8605844305013569, 0.07081903861034226, 0.8498284633241072, 0.07081903861034226, 0.18384481837971534, 0.1688370781038202, 0.6490847669324643, 0.9430908910213468, 0.04715454455106734, 0.04715454455106734, 0.0900861107571182, 0.0900861107571182, 0.8558180521926229, 0.05039549617584264, 0.4031639694067411, 0.5431514587840818, 0.04095530466991742, 0.24573182801950452, 0.7137924528185607, 0.7331032887647437, 0.14995294542915213, 0.11663006866711832, 0.8187914362125279, 0.08470256236681323, 0.11293674982241764, 0.8706885840535465, 0.05441803650334666, 0.05441803650334666, 0.11550027052274636, 0.17325040578411954, 0.6930016231364782, 0.8224176379830178, 0.10280220474787723, 0.6501445994240798, 0.11132613003836983, 0.24046444088287883, 0.08480043552828005, 0.8480043552828005, 0.08480043552828005, 0.8868117452708931, 0.05542573407943082, 0.05542573407943082, 0.21129821595523846, 0.22493035892009255, 0.5657339330414449, 0.10060895464053318, 0.8719442735512876, 0.06707263642702212, 0.8187985810128752, 0.14239975321963047, 0.03559993830490762, 0.18405286595458809, 0.47429007765220776, 0.3397899063777011, 0.07658136404673081, 0.9189763685607697, 0.038290682023365406, 0.14405103031343522, 0.14405103031343522, 0.8643061818806114, 0.371615604805566, 0.05464935364787735, 0.5792831486674999, 0.20836809478969728, 0.548337091551835, 0.24126832028280737, 0.10086187671148512, 0.8573259520476235, 0.05043093835574256, 0.14709468937642078, 0.7354734468821039, 0.8325146305228949, 0.06937621921024124, 0.10406432881536186, 0.0848980579531815, 0.8489805795318152, 0.0848980579531815, 0.2567189834824214, 0.07001426822247855, 0.6768045928172927, 0.28946461181499755, 0.5484592644915743, 0.1599672854767092, 0.06648420069389217, 0.04748871478135155, 0.8832900949331388, 0.9165133593492514, 0.04434742061367345, 0.04434742061367345, 0.3521995893007858, 0.32764255371651085, 0.3198877003741082, 0.1374249813407904, 0.8245498880447424, 0.19201119592882354, 0.7680447837152942, 0.06400373197627451, 0.17816256748437073, 0.5894527498685032, 0.2331276148997617, 0.7990489311125943, 0.17122477095269878, 0.019024974550299865, 0.8641064705840583, 0.09601183006489537, 0.8825605603476193, 0.07406102604315687, 0.043202265191841505, 0.8548038485118556, 0.07433076943581353, 0.07433076943581353, 0.12677574994165505, 0.7606544996499303, 0.12677574994165505, 0.2328291423710868, 0.776097141236956, 0.17794817988368447, 0.08897408994184224, 0.7117927195347379, 0.05925304052506147, 0.8591690876133913, 0.08887956078759221, 0.03051249473548096, 0.9458873367999097, 0.020341663156987305, 0.046092627132411315, 0.9141704381261577, 0.038410522610342765, 0.6688211576051706, 0.21280673196528155, 0.12160384683730374, 0.7719869193190448, 0.13470152991050782, 0.09338551443375542, 0.8663356018045651, 0.07219463348371376, 0.9415745980296221, 0.04093802600128792, 0.880022935938227, 0.05176605505518982, 0.07764908258278475, 0.1367672193954122, 0.18235629252721627, 0.683836096977061, 0.19224299560649732, 0.7305233833046898, 0.07689719824259893, 0.8704054769053272, 0.05802703179368848, 0.0725337897421106, 0.2275570131874121, 0.15515250899141733, 0.6206100359656693, 0.8159533124030942, 0.024725857951608917, 0.1483551477096535, 0.07544660518743321, 0.8466785693256395, 0.07544660518743321, 0.08057929174658146, 0.10743905566210862, 0.8125078584446964, 0.08367141894785016, 0.13387427031656024, 0.7865113381097915, 0.030896448820188195, 0.8959970157854577, 0.07724112205047048, 0.5575644431658807, 0.1614002335480181, 0.27878222158294036, 0.7809582668671444, 0.10412776891561924, 0.10412776891561924, 0.5215854085895458, 0.14735372529659815, 0.33213061892249107, 0.13746794436977733, 0.769820488470753, 0.08248076662186639, 0.0766395616574587, 0.20437216441988984, 0.7153025754696145, 0.5961088071206324, 0.27213662933768, 0.12958887111318096, 0.08933878659934824, 0.6849306972616699, 0.23823676426492862, 0.13764110256641124, 0.8258466153984674, 0.13764110256641124, 0.46834405901093223, 0.06350427918792302, 0.46834405901093223, 0.5609659032211745, 0.37397726881411636, 0.06447883945070972, 0.13195934181813865, 0.13195934181813865, 0.6597967090906932, 0.14932981747494029, 0.7466490873747014, 0.14932981747494029, 0.8309130299587382, 0.06391638691990294, 0.12783277383980587, 0.24216072664303895, 0.12108036332151947, 0.7264821799291168, 0.4596664925586829, 0.46690533496118186, 0.07238842402498943, 0.26798703348271, 0.669967583706775, 0.053597406696542, 0.1340188689781728, 0.11574356866296741, 0.7431955461516855, 0.6497859556114262, 0.1496217660947363, 0.2009206573272173, 0.8902008980197617, 0.0523647587070448, 0.06981967827605974, 0.1458674261447066, 0.17017866383549102, 0.6807146553419641, 0.14293673450245192, 0.14293673450245192, 0.7146836725122596, 0.7510010400069647, 0.14081269500130586, 0.10952098500101567, 0.8853282538202304, 0.1106660317275288, 0.1137997032467571, 0.8345311571428855, 0.0379332344155857, 0.7436835995942955, 0.17968194352613853, 0.07985864156717268, 0.19904446273478738, 0.6289805022419281, 0.16719734869722142, 0.09934989173837301, 0.7947991339069841, 0.09934989173837301, 0.07366439367942336, 0.22099318103827006, 0.7366439367942336, 0.7766566600688326, 0.16792576433920706, 0.06297216162720264, 0.2948378468952942, 0.5012243397220001, 0.20638649282670593, 0.2110648325616677, 0.05276620814041692, 0.7387269139658369, 0.1520282876872093, 0.10135219179147287, 0.739871000077752, 0.049140901110119935, 0.19656360444047974, 0.786254417761919, 0.8753853748144157, 0.06252752677245826, 0.06252752677245826, 0.8756169819994944, 0.05150688129408791, 0.07726032194113186, 0.9084887461774518, 0.07570739551478765, 0.05057354566867777, 0.868179200645635, 0.08428924278112962, 0.20276439626085777, 0.06517427022670429, 0.731400143655237, 0.9407993215407849, 0.030913180548753312, 0.8887539407766577, 0.0850112465090716, 0.12091792785027887, 0.060458963925139435, 0.8161960129893824], \"Topic\": [1, 2, 3, 1, 2, 3, 1, 2, 3, 1, 2, 3, 1, 2, 3, 1, 2, 1, 2, 3, 1, 2, 3, 1, 2, 3, 1, 2, 3, 1, 2, 3, 1, 2, 3, 1, 3, 1, 2, 3, 1, 2, 3, 1, 2, 3, 1, 2, 3, 1, 2, 3, 1, 2, 3, 1, 2, 3, 1, 2, 3, 1, 2, 3, 1, 2, 3, 1, 2, 3, 1, 2, 3, 1, 2, 3, 1, 2, 3, 1, 2, 3, 1, 2, 3, 1, 2, 3, 1, 2, 3, 1, 2, 3, 1, 2, 3, 1, 2, 3, 1, 2, 3, 1, 2, 3, 1, 2, 3, 1, 2, 3, 1, 2, 3, 1, 2, 3, 1, 2, 3, 1, 2, 3, 1, 2, 3, 1, 2, 3, 1, 2, 3, 1, 2, 3, 1, 2, 1, 2, 1, 2, 1, 2, 3, 1, 2, 3, 1, 2, 3, 1, 2, 3, 1, 2, 3, 1, 2, 3, 1, 2, 3, 1, 2, 3, 1, 2, 3, 1, 2, 3, 1, 3, 1, 2, 3, 1, 2, 3, 1, 2, 3, 1, 2, 3, 1, 2, 3, 1, 2, 3, 1, 2, 3, 1, 2, 3, 1, 2, 3, 1, 2, 3, 1, 2, 3, 1, 2, 3, 1, 2, 1, 2, 3, 1, 2, 3, 1, 2, 3, 1, 2, 3, 1, 2, 3, 1, 2, 3, 1, 2, 3, 1, 2, 1, 2, 3, 1, 2, 3, 1, 2, 3, 1, 3, 1, 2, 3, 1, 2, 3, 1, 2, 3, 1, 2, 1, 2, 3, 1, 2, 3, 1, 2, 3, 1, 2, 3, 1, 2, 3, 1, 2, 3, 1, 2, 1, 3, 1, 2, 3, 1, 2, 3, 1, 2, 3, 1, 2, 3, 1, 2, 3, 1, 2, 3, 1, 2, 3, 1, 2, 3, 1, 2, 3, 1, 2, 3, 1, 2, 3, 1, 2, 3, 1, 2, 3, 1, 2, 3, 1, 2, 3, 1, 2, 3, 1, 2, 3, 1, 2, 3, 1, 2, 3, 1, 2, 3, 1, 2, 3, 1, 2, 3, 1, 2, 3, 1, 2, 3, 1, 2, 3, 1, 2, 3, 1, 2, 3, 1, 2, 3, 1, 2, 3, 1, 2, 3, 1, 2, 3, 1, 2, 3, 1, 3, 1, 2, 3, 1, 2, 3, 1, 2, 3, 1, 2, 3, 1, 2, 3, 1, 2, 3, 1, 2, 3, 1, 2, 3, 1, 2, 3, 1, 2, 3, 1, 2, 3, 1, 2, 3, 1, 2, 1, 2, 3, 1, 2, 3, 1, 1, 2, 3, 1, 2, 3], \"Term\": [\"abovecaptioned\", \"abovecaptioned\", \"abovecaptioned\", \"account\", \"account\", \"account\", \"address\", \"address\", \"address\", \"adjourn\", \"adjourn\", \"adjourn\", \"adjournment\", \"adjournment\", \"adjournment\", \"adopt\", \"adopt\", \"affidavit_service_summons\", \"affidavit_service_summons\", \"affidavit_service_summons\", \"amend_complaint\", \"amend_complaint\", \"amend_complaint\", \"answer\", \"answer\", \"answer\", \"answer_due_answer_due\", \"answer_due_answer_due\", \"answer_due_answer_due\", \"appear_pro_hac_vice\", \"appear_pro_hac_vice\", \"appear_pro_hac_vice\", \"appendix\", \"appendix\", \"appendix\", \"applicable\", \"applicable\", \"approve\", \"approve\", \"approve\", \"assignment\", \"assignment\", \"assignment\", \"bank\", \"bank\", \"bank\", \"base\", \"base\", \"base\", \"believe\", \"believe\", \"believe\", \"calendar\", \"calendar\", \"calendar\", \"cancel\", \"cancel\", \"cancel\", \"complaint\", \"complaint\", \"complaint\", \"comply_discovery_ruling_conference\", \"comply_discovery_ruling_conference\", \"comply_discovery_ruling_conference\", \"conference\", \"conference\", \"conference\", \"conference_call\", \"conference_call\", \"conference_call\", \"conference_hold\", \"conference_hold\", \"conference_hold\", \"conference_pm\", \"conference_pm\", \"conference_pm\", \"correction\", \"correction\", \"correction\", \"courtroom_pearl_street_new\", \"courtroom_pearl_street_new\", \"courtroom_pearl_street_new\", \"crossclaim\", \"crossclaim\", \"crossclaim\", \"crossclaims\", \"crossclaims\", \"crossclaims\", \"deadline\", \"deadline\", \"deadline\", \"deadline_release\", \"deadline_release\", \"deadline_release\", \"declaration\", \"declaration\", \"declaration\", \"declaration_opposition\", \"declaration_opposition\", \"declaration_opposition\", \"declaration_support\", \"declaration_support\", \"declaration_support\", \"default\", \"default\", \"default\", \"deficiency\", \"deficiency\", \"deficiency\", \"deny\", \"deny\", \"deny\", \"deposition\", \"deposition\", \"deposition\", \"disclose\", \"disclose\", \"disclose\", \"disclosure\", \"disclosure\", \"disclosure\", \"discovery\", \"discovery\", \"discovery\", \"discovery_hear_hold\", \"discovery_hear_hold\", \"discovery_hear_hold\", \"dismiss\", \"dismiss\", \"dismiss\", \"dismiss..\", \"dismiss..\", \"dismiss..\", \"dismiss_thirdparty\", \"dismiss_thirdparty\", \"dismiss_thirdparty\", \"dismiss_without_prejudice\", \"dismiss_without_prejudice\", \"dismissal_without_prejudice\", \"dismissal_without_prejudice\", \"dispositive\", \"dispositive\", \"dispute\", \"dispute\", \"dispute\", \"due\", \"due\", \"due\", \"electronic_filing\", \"electronic_filing\", \"electronic_filing\", \"endorse\", \"endorse\", \"endorse\", \"endorsed_letter_address\", \"endorsed_letter_address\", \"endorsed_letter_address\", \"endorsement\", \"endorsement\", \"endorsement\", \"endorsement_application_grant\", \"endorsement_application_grant\", \"endorsement_application_grant\", \"establish\", \"establish\", \"establish\", \"evidence\", \"evidence\", \"evidence\", \"fax\", \"fax\", \"fax\", \"final_judgment\", \"final_judgment\", \"grant\", \"grant\", \"grant\", \"hedge_strategy_ibex_absolute\", \"hedge_strategy_ibex_absolute\", \"hedge_strategy_ibex_absolute\", \"hereto\", \"hereto\", \"hereto\", \"hold\", \"hold\", \"hold\", \"initiate\", \"initiate\", \"initiate\", \"instruction\", \"instruction\", \"instruction\", \"issue\", \"issue\", \"issue\", \"jury_demand\", \"jury_demand\", \"jury_demand\", \"jury_trial_hold\", \"jury_trial_hold\", \"jury_trial_hold\", \"leave\", \"leave\", \"leave\", \"letter\", \"letter\", \"letter\", \"light\", \"light\", \"light\", \"line\", \"line\", \"longer_assigned\", \"longer_assigned\", \"longer_assigned\", \"magnum_growth_magnum_special\", \"magnum_growth_magnum_special\", \"magnum_growth_magnum_special\", \"memorandum_law_opposition\", \"memorandum_law_opposition\", \"memorandum_law_opposition\", \"memorandum_law_support\", \"memorandum_law_support\", \"memorandum_law_support\", \"minute_entry_hold\", \"minute_entry_hold\", \"minute_entry_hold\", \"minute_entry_hold_telephone\", \"minute_entry_hold_telephone\", \"minute_entry_hold_telephone\", \"motion\", \"motion\", \"motion\", \"nonecf_error\", \"nonecf_error\", \"note_refile\", \"note_refile\", \"note_refile\", \"notice\", \"notice\", \"notice\", \"notice_appeal\", \"notice_appeal\", \"notice_appeal\", \"notice_appeal_certify\", \"notice_appeal_certify\", \"notice_appearance\", \"notice_appearance\", \"notice_appearance\", \"notice_reassignment\", \"notice_reassignment\", \"notice_reassignment\", \"notice_termination\", \"notice_termination\", \"notice_termination\", \"occur\", \"occur\", \"office\", \"office\", \"office\", \"official\", \"official\", \"official\", \"official_conference\", \"official_conference\", \"official_conference\", \"official_notice_give\", \"official_notice_give\", \"official_notice_give\", \"opposition\", \"opposition\", \"opposition\", \"order\", \"order\", \"order\", \"original\", \"original\", \"paragraph\", \"paragraph\", \"period\", \"period\", \"period\", \"plan\", \"plan\", \"plan\", \"previously\", \"previously\", \"previously\", \"production\", \"production\", \"production\", \"propose\", \"propose\", \"propose\", \"protective\", \"protective\", \"protective\", \"redact_deadline\", \"redact_deadline\", \"redact_deadline\", \"redaction\", \"redaction\", \"redaction\", \"release\", \"release\", \"release\", \"remotely_electronically_available_public\", \"remotely_electronically_available_public\", \"remotely_electronically_available_public\", \"reply\", \"reply\", \"reply\", \"report\", \"report\", \"report\", \"request\", \"request\", \"request\", \"resolve\", \"resolve\", \"resolve\", \"respectfully_request\", \"respectfully_request\", \"respectfully_request\", \"respond\", \"respond\", \"respond\", \"response_due\", \"response_due\", \"response_due\", \"responsereply\", \"responsereply\", \"responsereply\", \"revise_schedule\", \"revise_schedule\", \"revise_schedule\", \"rule\", \"rule\", \"rule\", \"rule_certificate\", \"rule_certificate\", \"rule_certificate\", \"rule_deposition_objection\", \"rule_deposition_objection\", \"rule_deposition_objection\", \"rule_federal_rule\", \"rule_federal_rule\", \"rule_federal_rule\", \"rule_rule_..\", \"rule_rule_..\", \"rule_rule_..\", \"schedule\", \"schedule\", \"schedule\", \"section\", \"section\", \"section\", \"send\", \"send\", \"send\", \"serve\", \"serve\", \"serve\", \"serve_answer_due\", \"serve_answer_due\", \"serve_answer_due\", \"service_accept\", \"service_accept\", \"service_accept\", \"service_execute\", \"service_execute\", \"service_execute\", \"settlement\", \"settlement\", \"settlement\", \"sheet\", \"sheet\", \"status_report\", \"status_report\", \"status_report\", \"stipulation\", \"stipulation\", \"stipulation\", \"summary_judgment\", \"summary_judgment\", \"summary_judgment\", \"summary_judgment_favor\", \"summary_judgment_favor\", \"summary_judgment_favor\", \"summons_issue\", \"summons_issue\", \"summons_issue\", \"supplemental\", \"supplemental\", \"supplemental\", \"support\", \"support\", \"support\", \"telephone_conference\", \"telephone_conference\", \"telephone_conference\", \"terminate\", \"terminate\", \"terminate\", \"today\", \"today\", \"today\", \"undersigned\", \"undersigned\", \"undersigned\", \"upon\", \"upon\", \"upon\", \"vacate\", \"vacate\", \"view_public_terminal_purchase\", \"view_public_terminal_purchase\", \"view_public_terminal_purchase\", \"withdraw\", \"withdraw\", \"withdraw\", \"without_cost_either\", \"without_redaction_calendar\", \"without_redaction_calendar\", \"without_redaction_calendar\", \"york\", \"york\", \"york\"]}, \"lambda.step\": 0.01, \"plot.opts\": {\"ylab\": \"PC2\", \"xlab\": \"PC1\"}};\n",
       "\n",
       "function LDAvis_load_lib(url, callback){\n",
       "  var s = document.createElement('script');\n",
       "  s.src = url;\n",
       "  s.async = true;\n",
       "  s.onreadystatechange = s.onload = callback;\n",
       "  s.onerror = function(){console.warn(\"failed to load library \" + url);};\n",
       "  document.getElementsByTagName(\"head\")[0].appendChild(s);\n",
       "}\n",
       "\n",
       "if(typeof(LDAvis) !== \"undefined\"){\n",
       "   // already loaded: just create the visualization\n",
       "   !function(LDAvis){\n",
       "       new LDAvis(\"#\" + \"ldavis_el2506819944813628884987590261\", ldavis_el2506819944813628884987590261_data);\n",
       "   }(LDAvis);\n",
       "}else if(typeof define === \"function\" && define.amd){\n",
       "   // require.js is available: use it to load d3/LDAvis\n",
       "   require.config({paths: {d3: \"https://cdnjs.cloudflare.com/ajax/libs/d3/3.5.5/d3.min\"}});\n",
       "   require([\"d3\"], function(d3){\n",
       "      window.d3 = d3;\n",
       "      LDAvis_load_lib(\"https://cdn.rawgit.com/bmabey/pyLDAvis/files/ldavis.v1.0.0.js\", function(){\n",
       "        new LDAvis(\"#\" + \"ldavis_el2506819944813628884987590261\", ldavis_el2506819944813628884987590261_data);\n",
       "      });\n",
       "    });\n",
       "}else{\n",
       "    // require.js not available: dynamically load d3 & LDAvis\n",
       "    LDAvis_load_lib(\"https://cdnjs.cloudflare.com/ajax/libs/d3/3.5.5/d3.min.js\", function(){\n",
       "         LDAvis_load_lib(\"https://cdn.rawgit.com/bmabey/pyLDAvis/files/ldavis.v1.0.0.js\", function(){\n",
       "                 new LDAvis(\"#\" + \"ldavis_el2506819944813628884987590261\", ldavis_el2506819944813628884987590261_data);\n",
       "            })\n",
       "         });\n",
       "}\n",
       "</script>"
      ],
      "text/plain": [
       "<IPython.core.display.HTML object>"
      ]
     },
     "execution_count": 394,
     "metadata": {},
     "output_type": "execute_result"
    }
   ],
   "source": [
    "num_topics = 3\n",
    "pretrained_model_file_path = 'docket_texts/lda_model_noorgnomodel_' + str(num_topics)\n",
    "column_name = str(num_topics) + '-topic Model Classificaiton'\n",
    "\n",
    "topic_names = {}\n",
    "for i in range(num_topics):\n",
    "    topic_names[i] = 'Topic ' + str(i)\n",
    "\n",
    "LDAvis_prepared, model = topic_modeling_pipeline(num_topics, pretrained_model_file_path, trigram_bow_corpus, trigram_dictionary, export = True)\n",
    "topic_summary = []\n",
    "\n",
    "for docket_text in list(new_df['Apply Trigram Phrase Model']):\n",
    "    #print(docket_text)\n",
    "    topic_summary.append(lda_description(docket_text, model, trigram_dictionary, topic_names))\n",
    "\n",
    "new_df[column_name] = topic_summary\n",
    "pyLDAvis.display(LDAvis_prepared)"
   ]
  },
  {
   "cell_type": "markdown",
   "metadata": {},
   "source": [
    "### 4 Topics:"
   ]
  },
  {
   "cell_type": "code",
   "execution_count": 395,
   "metadata": {
    "scrolled": false
   },
   "outputs": [
    {
     "name": "stdout",
     "output_type": "stream",
     "text": [
      "\n",
      " Topic 1's make-up:\n",
      "term                 frequency\n",
      "\n",
      "order                0.123\n",
      "motion               0.101\n",
      "notice               0.037\n",
      "dismiss              0.034\n",
      "letter               0.024\n",
      "stipulation          0.020\n",
      "complaint            0.020\n",
      "answer               0.014\n",
      "amend_complaint      0.013\n",
      "rule                 0.012\n",
      "\n",
      " Topic 2's make-up:\n",
      "term                 frequency\n",
      "\n",
      "request              0.038\n",
      "motion               0.032\n",
      "order                0.031\n",
      "amend_complaint      0.030\n",
      "due                  0.027\n",
      "service_accept       0.018\n",
      "deny                 0.015\n",
      "deposition           0.013\n",
      "redaction            0.012\n",
      "grant                0.012\n",
      "\n",
      " Topic 3's make-up:\n",
      "term                 frequency\n",
      "\n",
      "order                0.073\n",
      "motion               0.064\n",
      "schedule             0.046\n",
      "serve                0.023\n",
      "memorandum_law_support 0.018\n",
      "complaint            0.018\n",
      "affidavit_service_summons 0.016\n",
      "declaration_support  0.014\n",
      "discovery            0.012\n",
      "minute_entry_hold    0.012\n",
      "\n",
      " Topic 4's make-up:\n",
      "term                 frequency\n",
      "\n",
      "motion               0.170\n",
      "summary_judgment     0.031\n",
      "order                0.029\n",
      "opposition           0.019\n",
      "grant                0.017\n",
      "support              0.017\n",
      "serve_answer_due     0.015\n",
      "dismiss              0.014\n",
      "request              0.013\n",
      "discovery            0.012\n"
     ]
    },
    {
     "data": {
      "text/html": [
       "\n",
       "<link rel=\"stylesheet\" type=\"text/css\" href=\"https://cdn.rawgit.com/bmabey/pyLDAvis/files/ldavis.v1.0.0.css\">\n",
       "\n",
       "\n",
       "<div id=\"ldavis_el2506819944779838085617922651\"></div>\n",
       "<script type=\"text/javascript\">\n",
       "\n",
       "var ldavis_el2506819944779838085617922651_data = {\"topic.order\": [1, 4, 3, 2], \"mdsDat\": {\"cluster\": [1, 1, 1, 1], \"topics\": [1, 2, 3, 4], \"Freq\": [33.691323351037525, 25.051303044164886, 21.317164887002537, 19.940208717795045], \"x\": [0.05184375994296155, 0.07233328665333578, -0.00921439380093137, -0.11496265279536606], \"y\": [0.025814797566111623, -0.07207886102721661, 0.08694236955144236, -0.04067830609033735]}, \"R\": 30, \"tinfo\": {\"Category\": [\"Default\", \"Default\", \"Default\", \"Default\", \"Default\", \"Default\", \"Default\", \"Default\", \"Default\", \"Default\", \"Default\", \"Default\", \"Default\", \"Default\", \"Default\", \"Default\", \"Default\", \"Default\", \"Default\", \"Default\", \"Default\", \"Default\", \"Default\", \"Default\", \"Default\", \"Default\", \"Default\", \"Default\", \"Default\", \"Default\", \"Topic1\", \"Topic1\", \"Topic1\", \"Topic1\", \"Topic1\", \"Topic1\", \"Topic1\", \"Topic1\", \"Topic1\", \"Topic1\", \"Topic1\", \"Topic1\", \"Topic1\", \"Topic1\", \"Topic1\", \"Topic1\", \"Topic1\", \"Topic1\", \"Topic1\", \"Topic1\", \"Topic1\", \"Topic1\", \"Topic1\", \"Topic1\", \"Topic1\", \"Topic1\", \"Topic1\", \"Topic1\", \"Topic1\", \"Topic1\", \"Topic1\", \"Topic1\", \"Topic1\", \"Topic1\", \"Topic1\", \"Topic1\", \"Topic1\", \"Topic1\", \"Topic1\", \"Topic1\", \"Topic1\", \"Topic1\", \"Topic1\", \"Topic1\", \"Topic1\", \"Topic1\", \"Topic1\", \"Topic1\", \"Topic1\", \"Topic1\", \"Topic1\", \"Topic1\", \"Topic1\", \"Topic1\", \"Topic1\", \"Topic1\", \"Topic1\", \"Topic1\", \"Topic1\", \"Topic1\", \"Topic1\", \"Topic2\", \"Topic2\", \"Topic2\", \"Topic2\", \"Topic2\", \"Topic2\", \"Topic2\", \"Topic2\", \"Topic2\", \"Topic2\", \"Topic2\", \"Topic2\", \"Topic2\", \"Topic2\", \"Topic2\", \"Topic2\", \"Topic2\", \"Topic2\", \"Topic2\", \"Topic2\", \"Topic2\", \"Topic2\", \"Topic2\", \"Topic2\", \"Topic2\", \"Topic2\", \"Topic2\", \"Topic2\", \"Topic2\", \"Topic2\", \"Topic2\", \"Topic2\", \"Topic2\", \"Topic2\", \"Topic2\", \"Topic2\", \"Topic2\", \"Topic2\", \"Topic2\", \"Topic2\", \"Topic2\", \"Topic2\", \"Topic2\", \"Topic2\", \"Topic2\", \"Topic2\", \"Topic2\", \"Topic2\", \"Topic2\", \"Topic2\", \"Topic2\", \"Topic2\", \"Topic2\", \"Topic2\", \"Topic2\", \"Topic2\", \"Topic3\", \"Topic3\", \"Topic3\", \"Topic3\", \"Topic3\", \"Topic3\", \"Topic3\", \"Topic3\", \"Topic3\", \"Topic3\", \"Topic3\", \"Topic3\", \"Topic3\", \"Topic3\", \"Topic3\", \"Topic3\", \"Topic3\", \"Topic3\", \"Topic3\", \"Topic3\", \"Topic3\", \"Topic3\", \"Topic3\", \"Topic3\", \"Topic3\", \"Topic3\", \"Topic3\", \"Topic3\", \"Topic3\", \"Topic3\", \"Topic3\", \"Topic3\", \"Topic3\", \"Topic3\", \"Topic3\", \"Topic3\", \"Topic3\", \"Topic3\", \"Topic3\", \"Topic3\", \"Topic3\", \"Topic3\", \"Topic3\", \"Topic3\", \"Topic3\", \"Topic3\", \"Topic3\", \"Topic3\", \"Topic3\", \"Topic3\", \"Topic3\", \"Topic3\", \"Topic3\", \"Topic3\", \"Topic3\", \"Topic3\", \"Topic3\", \"Topic4\", \"Topic4\", \"Topic4\", \"Topic4\", \"Topic4\", \"Topic4\", \"Topic4\", \"Topic4\", \"Topic4\", \"Topic4\", \"Topic4\", \"Topic4\", \"Topic4\", \"Topic4\", \"Topic4\", \"Topic4\", \"Topic4\", \"Topic4\", \"Topic4\", \"Topic4\", \"Topic4\", \"Topic4\", \"Topic4\", \"Topic4\", \"Topic4\", \"Topic4\", \"Topic4\", \"Topic4\", \"Topic4\", \"Topic4\", \"Topic4\", \"Topic4\", \"Topic4\", \"Topic4\", \"Topic4\", \"Topic4\", \"Topic4\", \"Topic4\", \"Topic4\", \"Topic4\", \"Topic4\", \"Topic4\", \"Topic4\", \"Topic4\", \"Topic4\", \"Topic4\", \"Topic4\", \"Topic4\", \"Topic4\", \"Topic4\", \"Topic4\", \"Topic4\", \"Topic4\", \"Topic4\", \"Topic4\", \"Topic4\", \"Topic4\", \"Topic4\"], \"Total\": [2121.0, 320.0, 1549.0, 210.0, 339.0, 210.0, 89.0, 84.0, 90.0, 306.0, 181.0, 155.0, 66.0, 83.0, 98.0, 80.0, 121.0, 45.0, 156.0, 112.0, 200.0, 270.0, 210.0, 91.0, 51.0, 399.0, 425.0, 88.0, 205.0, 97.0, 40.96336891056807, 30.4182506054167, 19.523268311036865, 25.053049275541557, 25.098728688741662, 88.2748641886882, 25.700642309838038, 12.001836576531833, 13.65622360601118, 24.734125088765072, 11.251063051139274, 24.80475819512881, 12.935623865555153, 11.288627612317923, 16.15564212005604, 38.02999045892473, 36.59393724565102, 18.82663827552093, 14.036198187754124, 9.846055726324941, 9.890667190640961, 18.971385723902642, 70.17351498895884, 21.45866405130198, 11.491423650922505, 200.7849599844518, 9.194075378813285, 31.509941375153197, 11.70537716797503, 18.216732307694958, 28.77977261571614, 88.59087808020806, 425.14632913149757, 270.0775975089456, 1549.094437717978, 399.90104488483166, 171.947998091328, 52.63001782597788, 42.53259890043575, 46.232706951579885, 290.13852227976054, 2121.2333518991554, 63.65440928303644, 174.42732152120576, 74.33263335626715, 85.01094148852893, 205.7477480886862, 306.05607373470275, 174.59520146789322, 239.2025377682221, 112.75207233655905, 91.03276787285684, 112.01414746054836, 158.76366520347818, 210.0017296779023, 156.02252547806438, 182.896630592382, 78.72826650589813, 72.77034296062467, 339.14320981192094, 181.6712371204696, 25.717562430446247, 18.204857997252045, 90.69133469786124, 15.753600127945564, 11.774454566892281, 17.59058232574114, 51.87364898587365, 14.758137956993913, 13.293867746968932, 210.71345377743714, 42.353712140151856, 80.63013511764743, 19.498028015361708, 19.325032493469063, 33.51037013682114, 15.172825369945475, 40.29378114577044, 14.075905492314368, 15.351686464688457, 22.204129239656652, 28.596433367609258, 23.476135673023744, 20.16565377748443, 28.75721483610616, 15.560935355015395, 18.07819159997663, 14.250744773829622, 21.099570861799563, 23.732797368164196, 24.033051889156578, 155.7844969495163, 72.74458546134895, 71.21626260780009, 2121.2333518991554, 112.01414746054836, 65.62966458804556, 205.7477480886862, 48.91775422411907, 91.03276787285684, 239.2025377682221, 174.59520146789322, 182.896630592382, 98.86557937820876, 210.64713331127768, 67.96898345111295, 339.14320981192094, 1549.094437717978, 399.90104488483166, 210.0017296779023, 306.05607373470275, 425.14632913149757, 156.02252547806438, 158.76366520347818, 320.1509982381284, 112.75207233655905, 290.13852227976054, 20.6170413967532, 84.33820372531636, 13.81517151855411, 12.451279382339969, 14.37276055796051, 28.726081394210667, 36.25225971594032, 21.12751391665202, 26.95133724205781, 22.77328147760678, 22.773400603587156, 16.243594393639487, 19.96874527496445, 18.537648809142645, 83.24009080250639, 17.56065314880537, 21.34003404785752, 320.1509982381284, 15.251407340102784, 26.74869518940743, 30.25743278697154, 21.05688618959606, 20.447314967985122, 30.54944305531004, 13.474562332964279, 20.617043034817385, 20.0672159645155, 19.23626069792955, 181.6712371204696, 19.9211039764427, 42.059035497197904, 69.25633881585789, 50.94806077774018, 32.72844585415663, 210.0017296779023, 156.02252547806438, 72.2605354454202, 1549.094437717978, 41.40241987446462, 95.73643116818187, 290.13852227976054, 2121.2333518991554, 182.896630592382, 142.50988777351716, 53.201919840614025, 113.77331762575646, 174.42732152120576, 339.14320981192094, 51.8266375576214, 425.14632913149757, 104.93216067472147, 85.01094148852893, 155.7844969495163, 121.95057395951395, 108.172817810897, 399.90104488483166, 174.59520146789322, 25.45107726621207, 89.10048749237117, 14.599119326721636, 45.72841197890052, 14.497572122070313, 66.49332274780691, 28.551593781803618, 12.67992627800525, 14.951151692962027, 22.266807333242927, 18.28422690792904, 15.110129977045673, 14.204098552292209, 37.35977113478473, 26.29264751066711, 13.980450426805579, 27.388183170709297, 29.274308132225624, 18.74528241599757, 28.333264195620377, 22.052375071567273, 21.248419918552177, 11.979861189485543, 31.412972295009318, 25.956059236631766, 18.194996093379277, 28.947036589729375, 23.96496152987335, 17.66714551998455, 12.118540147926511, 26.283931540439305, 98.36163394709804, 210.64713331127768, 339.14320981192094, 121.95057395951395, 306.05607373470275, 45.84590703935934, 84.85634748230275, 63.84026153916579, 97.68274591724452, 65.56023432214576, 106.67541497899546, 49.53842912374326, 108.172817810897, 142.50988777351716, 71.56649560609515, 104.93216067472147, 89.51948425552192, 239.2025377682221, 1549.094437717978, 158.76366520347818, 2121.2333518991554, 270.0775975089456, 399.90104488483166, 95.84031730743685, 320.1509982381284, 425.14632913149757, 171.947998091328], \"loglift\": [30.0, 29.0, 28.0, 27.0, 26.0, 25.0, 24.0, 23.0, 22.0, 21.0, 20.0, 19.0, 18.0, 17.0, 16.0, 15.0, 14.0, 13.0, 12.0, 11.0, 10.0, 9.0, 8.0, 7.0, 6.0, 5.0, 4.0, 3.0, 2.0, 1.0, 1.0273, 0.9999, 0.996, 0.9812, 0.9752, 0.9348, 0.9228, 0.9212, 0.9164, 0.9136, 0.9057, 0.9048, 0.8969, 0.878, 0.8766, 0.8675, 0.8664, 0.8663, 0.8394, 0.8352, 0.82, 0.8167, 0.814, 0.8043, 0.8043, 0.7981, 0.7959, 0.7912, 0.7891, 0.7886, 0.7845, 0.735, 0.6515, 0.6699, 0.5611, 0.6127, 0.6168, 0.7152, 0.7197, 0.7063, 0.4132, 0.0469, 0.603, 0.3853, 0.4969, 0.4376, 0.158, -0.0833, 0.0816, -0.0768, 0.2338, 0.3122, 0.2055, 0.0181, -0.1657, -0.0741, -0.2416, 0.3358, 0.3905, -0.9409, -0.5113, 1.3367, 1.3316, 1.2942, 1.2695, 1.2637, 1.2333, 1.2087, 1.1752, 1.1727, 1.1589, 1.1567, 1.1415, 1.1253, 1.1116, 1.1026, 1.0881, 1.0814, 1.0799, 1.0785, 1.0681, 1.0521, 1.0488, 1.0237, 1.0102, 1.01, 1.0086, 1.0041, 0.9976, 0.9958, 0.9917, 0.9702, 0.9376, 0.9201, 0.565, 0.7736, 0.8313, 0.6069, 0.8593, 0.7265, 0.4712, 0.3898, 0.3571, 0.499, 0.197, 0.6271, -0.1338, -0.8978, -0.2819, 0.0232, -0.182, -0.5054, 0.0663, -0.0327, -0.7079, 0.1053, -0.7834, 1.4804, 1.4467, 1.3624, 1.3362, 1.3278, 1.2791, 1.2627, 1.2611, 1.2466, 1.2403, 1.2383, 1.1928, 1.1889, 1.1825, 1.1728, 1.1714, 1.1581, 1.145, 1.1301, 1.1183, 1.1105, 1.1031, 1.0966, 1.0781, 1.0615, 1.0479, 1.0468, 1.04, 1.0157, 1.0022, 0.9804, 0.9405, 0.9389, 0.9764, 0.6523, 0.6619, 0.8061, 0.0325, 0.9204, 0.6654, 0.3108, -0.4138, 0.3906, 0.393, 0.762, 0.4057, 0.1065, -0.3266, 0.7099, -0.6086, 0.2371, 0.3618, -0.1531, -0.0173, 0.0105, -1.3018, -0.4985, 1.5348, 1.5176, 1.5069, 1.4519, 1.4465, 1.4049, 1.397, 1.3539, 1.3465, 1.3395, 1.3095, 1.2717, 1.2684, 1.2594, 1.2519, 1.2463, 1.2309, 1.2189, 1.2175, 1.1997, 1.1801, 1.1783, 1.1778, 1.1658, 1.165, 1.1638, 1.146, 1.1452, 1.1421, 1.1196, 1.1153, 1.073, 1.0295, 0.9105, 0.9857, 0.7572, 1.0368, 0.8951, 0.947, 0.8424, 0.8932, 0.7595, 0.9231, 0.666, 0.5526, 0.7965, 0.6352, 0.6783, 0.1236, -0.8269, 0.3155, -1.118, -0.0827, -0.4179, 0.3697, -0.5661, -0.8347, -0.2588], \"Freq\": [2121.0, 320.0, 1549.0, 210.0, 339.0, 210.0, 89.0, 84.0, 90.0, 306.0, 181.0, 155.0, 66.0, 83.0, 98.0, 80.0, 121.0, 45.0, 156.0, 112.0, 200.0, 270.0, 210.0, 91.0, 51.0, 399.0, 425.0, 88.0, 205.0, 97.0, 38.55346831132644, 27.85535439576143, 17.809059459679194, 22.516200533906403, 22.42350886700816, 75.7378771663619, 21.787814977358178, 10.1592007520183, 11.503750865253103, 20.777902740102874, 9.377121820285527, 20.65403727950992, 10.685696664905901, 9.15107300400476, 13.078750212415596, 30.506734538857746, 29.321436937496884, 15.083979652151365, 10.947987258827537, 7.6469046836623225, 7.565740179024198, 14.464113293712415, 53.357760108804285, 16.159927478728314, 8.653341091220037, 150.27103003456182, 6.8653514388279815, 23.42048722283789, 8.682005905115666, 13.504726510430928, 21.247414020702703, 62.24419223701994, 274.7935000643458, 177.7957786892907, 914.7179315753352, 248.63365022013588, 107.3477313776509, 36.25472187216005, 29.429734475995172, 31.564594251187092, 147.75955936794793, 748.9898196014705, 39.19403526246312, 86.38878534718535, 41.16337654494908, 44.365086615291105, 81.18311369558286, 94.87397735498539, 63.82450623991358, 74.63335336223146, 47.99213819192206, 41.90984331583484, 46.34894875851867, 54.469035474937876, 59.94655668337476, 48.81298254340368, 48.39408210316478, 37.109820827182475, 36.23097928161036, 44.59268704884879, 36.70624853716331, 24.524374131545017, 17.27149943778008, 82.88228762864935, 14.046142920086675, 10.43747553715757, 15.125690195003662, 43.52398957733131, 11.973982607272793, 10.759149785932136, 168.20566513534996, 33.73460884770226, 63.25126224855893, 15.050373867939868, 14.712752889811506, 25.284501991613595, 11.283327488734678, 29.766247355557034, 10.381980072481683, 11.307429072526775, 16.185346705115805, 20.514617582441343, 16.785887988623045, 14.061368820847465, 19.783566562592377, 10.703012373372266, 12.41685995133776, 9.743685070762512, 14.333800985382439, 16.093705277817545, 16.2296327721252, 102.96758893591158, 46.5415473725871, 44.773767835381435, 935.0025800418882, 60.82555346746022, 37.754233822419074, 94.57149035454579, 28.93825643346728, 47.15694516426654, 95.99288225270993, 64.58781698221111, 65.48412244615253, 40.79330617073369, 64.2577647043093, 31.8792935279069, 74.31657628369105, 158.12775288086672, 75.57319343508264, 53.84417206540093, 63.913885856598604, 64.24739605956579, 41.76287193285175, 38.4911104712172, 39.51542585846161, 31.383478891103323, 33.20682636062812, 19.31361814091617, 76.39316179356734, 11.501848371191098, 10.09786466627296, 11.558804504975793, 22.003962430354314, 27.317519498704026, 15.895429360502948, 19.98585222797063, 16.78011304628486, 16.747636535469542, 11.414428318537027, 13.977033047909499, 12.892172863417551, 57.33297307230828, 12.0779266214617, 14.483647407507938, 214.47316606635076, 10.065787617850383, 17.446524368680095, 19.5808934073337, 13.526828017017168, 13.049996525651302, 19.140888856011202, 8.302936067282914, 12.533057263770537, 12.185284868079147, 11.600997993065905, 106.93855352822598, 11.568888201824251, 23.897975165581013, 37.81199247532194, 27.772186284409273, 18.52333964252479, 85.95308704523076, 64.47023967761685, 34.49288783114537, 341.13955622536486, 22.15439603832235, 39.700074394586466, 84.39472094836388, 298.95314931559153, 57.62153335398056, 45.00492623877087, 24.298417660039895, 36.38873634709499, 41.36184667980818, 52.15146561044209, 22.468831878483996, 49.31416063471269, 28.35259640964378, 26.020803451937223, 28.494645673073464, 25.550387370255873, 23.302440040787467, 23.192024706295516, 22.60755010578623, 23.550883042533933, 81.04111722848323, 13.136718186608407, 38.946197962973216, 12.281376631186228, 54.033478519808924, 23.018967359616582, 9.79107520760443, 11.459950300339518, 16.94837595309486, 13.5050148608988, 10.746552433467182, 10.0696037341985, 26.246030584881357, 18.33337796172075, 9.693752193506588, 18.701281578772683, 19.751238534553785, 12.628650358322554, 18.752076825116088, 14.312395265806037, 13.764620489012847, 7.756633912226366, 20.097049272020737, 16.592223216080964, 11.617799024520343, 18.156826859484596, 15.020228054738551, 11.038524538544387, 7.403015628704602, 15.988487297810359, 57.35383821956511, 117.59845418416133, 168.082480868939, 65.15992638934861, 130.1359877490421, 25.782500735888245, 41.4139195243655, 32.8170328604982, 45.22919239651787, 31.935614764856076, 45.4602242947879, 24.862969360178347, 41.98611693819343, 49.38181659762327, 31.648021419508076, 39.49141837818038, 35.1736652160956, 53.97466490580099, 135.10919703641113, 43.399612023359865, 138.28780294020538, 49.57890876904842, 52.502176523317615, 27.659037666515363, 36.242474626332175, 36.791272372873244, 26.469793476559655], \"logprob\": [30.0, 29.0, 28.0, 27.0, 26.0, 25.0, 24.0, 23.0, 22.0, 21.0, 20.0, 19.0, 18.0, 17.0, 16.0, 15.0, 14.0, 13.0, 12.0, 11.0, 10.0, 9.0, 8.0, 7.0, 6.0, 5.0, 4.0, 3.0, 2.0, 1.0, -5.258399963378906, -5.583399772644043, -6.030700206756592, -5.796199798583984, -5.800300121307373, -4.583099842071533, -5.829100131988525, -6.5920000076293945, -6.467700004577637, -5.876500129699707, -6.672100067138672, -5.882500171661377, -6.541500091552734, -6.696499824523926, -6.339399814605713, -5.492499828338623, -5.532100200653076, -6.196800231933594, -6.517300128936768, -6.876100063323975, -6.8867998123168945, -6.238699913024902, -4.9334001541137695, -6.127900123596191, -6.752500057220459, -3.8980000019073486, -6.98390007019043, -5.756800174713135, -6.749199867248535, -6.307400226593018, -5.8541998863220215, -4.779300212860107, -3.2943999767303467, -3.72979998588562, -2.0917999744415283, -3.394399881362915, -4.234300136566162, -5.319799900054932, -5.52839994430542, -5.458399772644043, -3.914799928665161, -2.2916998863220215, -5.2418999671936035, -4.451600074768066, -5.19290018081665, -5.118000030517578, -4.513700008392334, -4.357900142669678, -4.754300117492676, -4.597799777984619, -5.039400100708008, -5.174900054931641, -5.07420015335083, -4.912799835205078, -4.816999912261963, -5.02239990234375, -5.031000137329102, -5.296500205993652, -5.320499897003174, -5.112800121307373, -5.307499885559082, -5.414400100708008, -5.764999866485596, -4.196700096130371, -5.971799850463867, -6.268700122833252, -5.89769983291626, -4.840799808502197, -6.131400108337402, -6.23829984664917, -3.4888999462127686, -5.095600128173828, -4.4670000076293945, -5.902699947357178, -5.9253997802734375, -5.383900165557861, -6.190800189971924, -5.220699787139893, -6.27400016784668, -6.188600063323975, -5.829999923706055, -5.5929999351501465, -5.793600082397461, -5.970699787139893, -5.629199981689453, -6.243599891662598, -6.09499979019165, -6.337500095367432, -5.951499938964844, -5.835700035095215, -5.827300071716309, -3.9797000885009766, -4.773799896240234, -4.8125, -1.7734999656677246, -4.506100177764893, -4.982999801635742, -4.064700126647949, -5.248899936676025, -4.7606000900268555, -4.049799919128418, -4.446100234985352, -4.432300090789795, -4.905600070953369, -4.451200008392334, -5.152100086212158, -4.305799961090088, -3.5506999492645264, -4.289000034332275, -4.627999782562256, -4.456600189208984, -4.451399803161621, -4.8821001052856445, -4.963699817657471, -4.937399864196777, -5.167799949645996, -5.111299991607666, -5.4918999671936035, -4.116799831390381, -6.010200023651123, -6.140399932861328, -6.005199909210205, -5.361499786376953, -5.145199775695801, -5.686699867248535, -5.457699775695801, -5.632500171661377, -5.634399890899658, -6.0177998542785645, -5.815299987792969, -5.896100044250488, -4.403800010681152, -5.961299896240234, -5.779699802398682, -3.0845000743865967, -6.143499851226807, -5.593500137329102, -5.478099822998047, -5.8480000495910645, -5.883900165557861, -5.500899791717529, -6.336100101470947, -5.924300193786621, -5.952499866485596, -6.0015997886657715, -3.780400037765503, -6.00439977645874, -5.278900146484375, -4.820099830627441, -5.128699779510498, -5.533699989318848, -3.9988999366760254, -4.286499977111816, -4.911900043487549, -2.6203999519348145, -5.354599952697754, -4.771299839019775, -4.017199993133545, -2.7523999214172363, -4.398799896240234, -4.645899772644043, -5.26230001449585, -4.858399868011475, -4.730299949645996, -4.498499870300293, -5.34060001373291, -4.554500102996826, -5.107999801635742, -5.19379997253418, -5.103000164031982, -5.211999893188477, -5.304100036621094, -5.308899879455566, -5.334400177001953, -5.2266998291015625, -3.990999937057495, -5.810500144958496, -4.723700046539307, -5.877799987792969, -4.396299839019775, -5.249599933624268, -6.104400157928467, -5.9471001625061035, -5.555699825286865, -5.782899856567383, -6.011300086975098, -6.076399803161621, -5.1184000968933105, -5.477200031280518, -6.1143999099731445, -5.457300186157227, -5.402699947357178, -5.849899768829346, -5.454599857330322, -5.724800109863281, -5.763800144195557, -6.337399959564209, -5.385300159454346, -5.577000141143799, -5.9334001541137695, -5.4868998527526855, -5.676499843597412, -5.984499931335449, -6.383999824523926, -5.613999843597412, -4.336699962615967, -3.6185998916625977, -3.2614998817443848, -4.209099769592285, -3.5172998905181885, -5.136199951171875, -4.662300109863281, -4.894999980926514, -4.57420015335083, -4.9222002029418945, -4.5690999031066895, -5.172500133514404, -4.648600101470947, -4.486299991607666, -4.93120002746582, -4.709799766540527, -4.8256001472473145, -4.39739990234375, -3.47979998588562, -4.615499973297119, -3.4565999507904053, -4.4822998046875, -4.425099849700928, -5.065999984741211, -4.7957000732421875, -4.780700206756592, -5.109899997711182], \"Term\": [\"motion\", \"schedule\", \"order\", \"summary_judgment\", \"request\", \"due\", \"service_accept\", \"affidavit_service_summons\", \"serve_answer_due\", \"amend_complaint\", \"serve\", \"opposition\", \"redaction\", \"minute_entry_hold\", \"deposition\", \"notice_appeal\", \"deny\", \"calendar\", \"declaration_support\", \"memorandum_law_opposition\", \"stipulation\", \"letter\", \"memorandum_law_support\", \"declaration_opposition\", \"limine\", \"dismiss\", \"notice\", \"notice_appearance\", \"support\", \"brief\", \"answer_due\", \"answer_due_answer_due\", \"minute_entry_hold_telephone\", \"remotely_electronically_available_public\", \"without_redaction_calendar\", \"notice_appearance\", \"official_notice_give\", \"longer_assigned\", \"stillwater_market_neutral_balentine\", \"deadline_release\", \"merrill\", \"view_public_terminal_purchase\", \"alternative_investment_sgr_spa\", \"rule_rule_..\", \"thk\", \"crossclaim\", \"memo_endorsement\", \"official_conference\", \"pro_se\", \"official\", \"jury_trial_hold\", \"revise_schedule\", \"conference_hold\", \"mdl\", \"confirm\", \"stipulation\", \"new_york_new_jersey\", \"dismiss_thirdparty\", \"stipulate_agree\", \"crossclaims\", \"endorsed_letter\", \"letter_address\", \"notice\", \"letter\", \"order\", \"dismiss\", \"answer\", \"send\", \"show_cause\", \"certificate_service\", \"complaint\", \"motion\", \"dismissal\", \"rule\", \"extend\", \"extension\", \"support\", \"amend_complaint\", \"reply\", \"grant\", \"response\", \"declaration_opposition\", \"memorandum_law_opposition\", \"conference\", \"memorandum_law_support\", \"declaration_support\", \"discovery\", \"address\", \"reply_memorandum_law\", \"request\", \"serve\", \"limine_preclude_introduce_evidence\", \"summary_judgment_favor\", \"serve_answer_due\", \"notice_appeal_certify\", \"rule_deposition_objection\", \"jury_demand\", \"limine\", \"appropriate\", \"sheet\", \"summary_judgment\", \"response_due\", \"notice_appeal\", \"newvest_portfolio_newvest\", \"aim_exploration\", \"redact_deadline\", \"bond\", \"upon\", \"brooklyn\", \"address_jr.\", \"international\", \"evidence\", \"p.m\", \"respectfully\", \"base\", \"usca_number\", \"..\", \"forward\", \"g.c\", \"redact\", \"adjournment\", \"opposition\", \"service\", \"appear_pro_hac_vice\", \"motion\", \"memorandum_law_opposition\", \"withdraw\", \"support\", \"summary_judgment..\", \"declaration_opposition\", \"grant\", \"reply\", \"discovery\", \"leave\", \"due\", \"appear\", \"request\", \"order\", \"dismiss\", \"memorandum_law_support\", \"amend_complaint\", \"notice\", \"declaration_support\", \"conference\", \"schedule\", \"response\", \"complaint\", \"discovery_hear_hold\", \"affidavit_service_summons\", \"nonecf_error\", \"oral_argument_pm\", \"dispositive\", \"represent\", \"litigation\", \"accept\", \"note_refile\", \"hedge_strategy_ibex_absolute\", \"magnum_growth_magnum_special\", \"application_grant\", \"adopt\", \"total\", \"minute_entry_hold\", \"subpoena\", \"wellington\", \"schedule\", \"inform\", \"a.m.\", \"error\", \"judgment_favor\", \"permission\", \"preliminary_injunction\", \"substitution\", \"confer\", \"answer_due_purs\", \"well\", \"serve\", \"extent\", \"objection\", \"affidavit_service\", \"status_report\", \"continue\", \"memorandum_law_support\", \"declaration_support\", \"joint\", \"order\", \"ordered\", \"endorsed_letter_address\", \"complaint\", \"motion\", \"discovery\", \"propose\", \"number\", \"judgment\", \"rule\", \"request\", \"production\", \"notice\", \"amend\", \"extension\", \"opposition\", \"deny\", \"issue\", \"dismiss\", \"reply\", \"u.s.c\", \"service_accept\", \"notice_reassignment\", \"calendar\", \"ambassador\", \"redaction\", \"summons_issue\", \"pdf\", \"client\", \"error_deficient_entry\", \"account_balentine_global_hedge\", \"corp..\", \"conference_call\", \"note\", \"instruction\", \"service_execute\", \"mediation\", \"default\", \"general\", \"section\", \"relief\", \"assignment\", \"united_state_courthouse_pearl\", \"supplemental_amend\", \"answer_crossclaim\", \"plead\", \"endorsement_application_grant\", \"email\", \"civil_cover_sheet\", \"new_york_observer\", \"subject\", \"deposition\", \"due\", \"request\", \"deny\", \"amend_complaint\", \"status_conference\", \"declaration\", \"deadline\", \"brief\", \"report\", \"hold\", \"within\", \"issue\", \"propose\", \"move\", \"amend\", \"endorsement\", \"grant\", \"order\", \"conference\", \"motion\", \"letter\", \"dismiss\", \"settlement\", \"schedule\", \"notice\", \"answer\"]}, \"token.table\": {\"Freq\": [0.2212610690554453, 0.6637832071663359, 0.05531526726386132, 0.05531526726386132, 0.11215500340323178, 0.6355450192849801, 0.26169500794087414, 0.189326582189461, 0.04733164554736525, 0.757306328757844, 0.10938389739260405, 0.10938389739260405, 0.7656872817482283, 0.469970972842747, 0.1524230182192693, 0.22863452732890394, 0.16512493640420842, 0.13027884621017677, 0.7165336541559723, 0.13027884621017677, 0.041609363829950695, 0.6657498212792111, 0.041609363829950695, 0.20804681914975348, 0.20031303644375426, 0.7010956275531399, 0.10015651822187713, 0.1299520037282022, 0.17326933830426963, 0.5486862379635205, 0.1588302267789138, 0.03557106824056617, 0.011857022746855388, 0.9011337287610096, 0.059285113734276945, 0.05174635542465205, 0.7761953313697808, 0.05174635542465205, 0.15523906627395614, 0.8503648617435985, 0.07730589652214531, 0.06897706675158764, 0.8277248010190517, 0.15247946765909354, 0.20012930130256026, 0.2668390684034137, 0.3716687024190405, 0.3104006361995888, 0.20911200754498616, 0.05554537700413695, 0.42475876532575313, 0.6222811616752194, 0.17447135374071573, 0.04652569433085753, 0.15120850657528695, 0.19263324815284377, 0.11557994889170627, 0.03852664963056875, 0.6549530437196689, 0.9520701308807259, 0.02441205463796733, 0.02441205463796733, 0.02441205463796733, 0.9205000104448455, 0.0657500007460604, 0.0328750003730302, 0.049832522945299544, 0.3488276606170968, 0.5979902753435945, 0.049832522945299544, 0.25011408346613484, 0.4708029806421361, 0.14712593145066755, 0.14712593145066755, 0.18254257558548365, 0.6318781462574433, 0.056166946333994966, 0.12637562925148868, 0.12312545804413468, 0.18468818706620202, 0.6771900192427407, 0.06156272902206734, 0.06775922564987935, 0.8131107077985522, 0.06775922564987935, 0.2823739375915359, 0.0941246458638453, 0.6588725210469171, 0.13909552864548602, 0.6954776432274301, 0.10432164648411452, 0.06954776432274301, 0.7249803337082452, 0.1977219091931578, 0.061423334731838086, 0.2559305613826587, 0.22521889401673964, 0.4606750104887856, 0.710433869100651, 0.2131301607301953, 0.0710433869100651, 0.04373648489964657, 0.021868242449823286, 0.08747296979929314, 0.8528614555431082, 0.6921506896300494, 0.06488912715281714, 0.06488912715281714, 0.19466738145845142, 0.16980671815978926, 0.16980671815978926, 0.05660223938659642, 0.6226246332525606, 0.1337689591459006, 0.0668844795729503, 0.7357292753024534, 0.5101011711133409, 0.11373877464013682, 0.28951688090216643, 0.08616573836374002, 0.14551068234827363, 0.04850356078275788, 0.6305462901758524, 0.19401424313103152, 0.34012820207187416, 0.23934947553205957, 0.13857074899224503, 0.2708428275757516, 0.21120664496627772, 0.7040221498875925, 0.7552707030328901, 0.014250390623262079, 0.21375585934893118, 0.014250390623262079, 0.7831927769260775, 0.17404283931690612, 0.18332676188588337, 0.09166338094294169, 0.5805347459719641, 0.15277230157156949, 0.06618076757242558, 0.13236153514485116, 0.13236153514485116, 0.7279884432966814, 0.8151461419240257, 0.13147518418129447, 0.026295036836258893, 0.052590073672517786, 0.7685242206741019, 0.10978917438201455, 0.1646837615730218, 0.29761782834087486, 0.0939845773708026, 0.10964867359926969, 0.5169151755394142, 0.849029424919452, 0.121289917845636, 0.040429972615212, 0.040429972615212, 0.3535386672901124, 0.07070773345802248, 0.08249235570102623, 0.4831695119631536, 0.4613723275849454, 0.5162976046783913, 0.010985055418689178, 0.010985055418689178, 0.3140572160965888, 0.26919189951136185, 0.4101971802077895, 0.006409330940746711, 0.1366385836322033, 0.10247893772415247, 0.10247893772415247, 0.6831929181610165, 0.11480060770068884, 0.139400737922265, 0.21320112858699355, 0.5330028214674839, 0.2134978767361109, 0.030499696676587272, 0.18299818005952365, 0.5794942368551582, 0.2624433257438002, 0.3553920036113961, 0.3171190186070919, 0.06014326214962088, 0.9215677280927488, 0.6226540370048547, 0.1900470153107187, 0.05751422831771749, 0.1325327869930012, 0.7299283653423864, 0.03173601588445158, 0.1904160953067095, 0.612683401499938, 0.28277695453843293, 0.06283932323076287, 0.031419661615381435, 0.06957605645535778, 0.06957605645535778, 0.8349126774642934, 0.052220031799554895, 0.3038256395610467, 0.08545096112654438, 0.5601785229406798, 0.29209310397908217, 0.08345517256545204, 0.6259137942408903, 0.7296791493249067, 0.24322638310830225, 0.034746626158328894, 0.11489878895397831, 0.31336033351084996, 0.4178137780144666, 0.15668016675542498, 0.26809805931740033, 0.3016103167320754, 0.03351225741467504, 0.39097633650454217, 0.20727510332193538, 0.13818340221462358, 0.034545850553655895, 0.6218253099658061, 0.09914919157621864, 0.03304973052540621, 0.6609946105081242, 0.23134811367784347, 0.08981979185736821, 0.13472968778605232, 0.7634682307876298, 0.06993879181679241, 0.7343573140763204, 0.06993879181679241, 0.13987758363358482, 0.5515747007574998, 0.14798345630079263, 0.12107737333701214, 0.1748895392645731, 0.5175804341131454, 0.105868725159507, 0.30584298379413133, 0.070579150106338, 0.20079208485283342, 0.15059406363962505, 0.6023762545585002, 0.10039604242641671, 0.1403435421615889, 0.7017177108079444, 0.1403435421615889, 0.1895773153965864, 0.6635206038880523, 0.0473943288491466, 0.0947886576982932, 0.053346755616046716, 0.10669351123209343, 0.16004026684814016, 0.6935078230086072, 0.31354182401138264, 0.4013335347345698, 0.06270836480227653, 0.2257501132881955, 0.1756444280519364, 0.7464888192207297, 0.0878222140259682, 0.15936192986310224, 0.2812269350525333, 0.14061346752626666, 0.4218404025788, 0.06556771960122998, 0.2622708784049199, 0.6556771960122998, 0.11410033922155915, 0.07606689281437277, 0.11410033922155915, 0.6846020353293549, 0.09007333628863919, 0.7205866903091135, 0.13511000443295879, 0.09007333628863919, 0.2865784642329725, 0.10168913246976445, 0.2126227315276893, 0.388267596702737, 0.41516437451061494, 0.05535524993474866, 0.4705196244453636, 0.05535524993474866, 0.2812610255882677, 0.19336695509193405, 0.3164186537868012, 0.21094576919120078, 0.1899616098973052, 0.0474904024743263, 0.6648656346405681, 0.0949808049486526, 0.11369720245550397, 0.8527290184162797, 0.8088433111539731, 0.20221082778849328, 0.2730980809479901, 0.4147044932913924, 0.21240961851510343, 0.1011474373881445, 0.659069843784819, 0.08145807058014617, 0.07405279143649653, 0.1851319785912413, 0.6998463198870959, 0.11287843869146708, 0.05643921934573354, 0.1241662825606138, 0.057832831478984, 0.8482148616917653, 0.09638805246497333, 0.019277610492994667, 0.972098349818848, 0.13792243681299327, 0.08275346208779596, 0.7447811587901637, 0.8332058128131667, 0.08332058128131667, 0.08332058128131667, 0.17564350926887656, 0.7464849143927255, 0.08782175463443828, 0.7456195763980572, 0.09320244704975715, 0.09320244704975715, 0.046601223524878575, 0.182560484893621, 0.03651209697872421, 0.1095362909361726, 0.6937298425957599, 0.7924810004817529, 0.08198079315328478, 0.05465386210218985, 0.08198079315328478, 0.41066241222968114, 0.5445740683915337, 0.017854887488247005, 0.017854887488247005, 0.2857119324304003, 0.25714073918736025, 0.4095204364835737, 0.04761865540506671, 0.7999244123948507, 0.08888049026609453, 0.08888049026609453, 0.08888049026609453, 0.2282553973310647, 0.048053767859171516, 0.6847661919931941, 0.024026883929585758, 0.921976777311628, 0.05122093207286822, 0.05122093207286822, 0.05122093207286822, 0.3530964659448782, 0.4407813026147679, 0.14095573206611292, 0.06505649172282135, 0.22356830335894382, 0.19562226543907585, 0.15370320855927389, 0.44713660671788763, 0.761359866173244, 0.21753139033521257, 0.1650363802559338, 0.1650363802559338, 0.5776273308957683, 0.1025744756559115, 0.7693085674193363, 0.1025744756559115, 0.8686102799291134, 0.14476837998818556, 0.1338337963035493, 0.08030027778212957, 0.10706703704283943, 0.6959357407784563, 0.2226234619125668, 0.03710391031876113, 0.7420782063752226, 0.03710391031876113, 0.6468361153718033, 0.15053640503198332, 0.11525443510261221, 0.08702885915911535, 0.13642541940367459, 0.7813455838574089, 0.062011554274397536, 0.012402310854879507, 0.06347755382124268, 0.8886857534973974, 0.8609472322443841, 0.05664126527923579, 0.03398475916754148, 0.045313012223388634, 0.06849728244700627, 0.06849728244700627, 0.8904646718110816, 0.20675945591727812, 0.2631483984401722, 0.4511115401831523, 0.05638894252289404, 0.047552207899138485, 0.1188805197478462, 0.5706264947896618, 0.26153714344526163, 0.8125080968829754, 0.20312702422074386, 0.7967434111433233, 0.15934868222866466, 0.8560097344951781, 0.11672860015843338, 0.05777211581532757, 0.6611697698865266, 0.17973547142546356, 0.09628685969221262, 0.16062606408435917, 0.8031303204217959, 0.5906676686205888, 0.10199507283284484, 0.2201286065569626, 0.08714768881287376, 0.1449190655568556, 0.04830635518561854, 0.5313699070418039, 0.26568495352090193, 0.04259644832216116, 0.7241396214767397, 0.21298224161080578, 0.07886481183527161, 0.07886481183527161, 0.7886481183527161, 0.09781235351103314, 0.19562470702206627, 0.6357802978217154, 0.04890617675551657, 0.10992033137768861, 0.16488049706653293, 0.054960165688844306, 0.6595219882661317, 0.26187056783706103, 0.6219425986130199, 0.09820146293889788, 0.7836879939182496, 0.14248872616695446, 0.11577058213219286, 0.11577058213219286, 0.4244921344847072, 0.32801664937454644, 0.15437525314007225, 0.18244348098372176, 0.31576756324105687, 0.34383579108470635, 0.04213578300472184, 0.6741725280755494, 0.16854313201888735, 0.1264073490141655, 0.02984150864096848, 0.746037716024212, 0.02984150864096848, 0.17904905184581085, 0.09023462435102768, 0.07519552029252306, 0.030078208117009224, 0.812111619159249, 0.18138635802350872, 0.13603976851763153, 0.6348522530822805, 0.9180519204284694, 0.07983060177638863, 0.03991530088819432, 0.3665621933588429, 0.3722897276300748, 0.13173328823833416, 0.13746082250956607, 0.4947070267276224, 0.39851399375280694, 0.013741861853545067, 0.09619303297481546, 0.1982909325204882, 0.09151889193253301, 0.21354408117591037, 0.48810075697350946, 0.03481157023392462, 0.7658545451463418, 0.1740578511696231, 0.1326873093669064, 0.21819690873669054, 0.1533275574906474, 0.4953659549697839, 0.0991785350511701, 0.6942497453581906, 0.04958926752558505, 0.14876780257675512, 0.42571279627324726, 0.2749395142598055, 0.07982114930123385, 0.21285639813662363, 0.07083204395574011, 0.8027631648317213, 0.02361068131858004, 0.11805340659290019, 0.7379534739184056, 0.210843849690973, 0.49304202604260405, 0.16052531080456878, 0.23505491939240425, 0.10319484266007992, 0.8492962407038591, 0.08492962407038591, 0.7972625467934987, 0.08858472742149986, 0.09370578309952977, 0.12494104413270636, 0.6684345861099791, 0.11244693971943573, 0.10588261131111487, 0.1411768150814865, 0.10588261131111487, 0.6705898716370609, 0.6840202889353878, 0.13300394507076985, 0.01900056358153855, 0.1520045086523084, 0.20366460088266258, 0.1045845247775835, 0.5889760079579702, 0.1045845247775835, 0.022052823532292393, 0.9151921765901344, 0.03307923529843859, 0.022052823532292393, 0.17870745867274523, 0.646096196739925, 0.12372054831190053, 0.05498691036084469, 0.022446566301573163, 0.05611641575393291, 0.022446566301573163, 0.9090859352137132, 0.07152845362425794, 0.21458536087277383, 0.7152845362425795, 0.3651907775693907, 0.1252082665952197, 0.21911446654163444, 0.29215262205551257, 0.15044530591603109, 0.827449182538171, 0.6818299551336114, 0.09404551105291192, 0.04702275552645596, 0.16457964434259587, 0.021812197960037878, 0.13087318776022727, 0.2835585734804924, 0.5671171469609848, 0.078511329753058, 0.039255664876529, 0.549579308271406, 0.3336731514504965, 0.8787202338073796, 0.07322668615061496, 0.7688774031667494, 0.08543082257408327, 0.17086164514816654, 0.7470679079330222, 0.11455041254973009, 0.08466769623240919, 0.0547849799150883, 0.19023029307115716, 0.03804605861423143, 0.19023029307115716, 0.6087369378277029, 0.11389098019603318, 0.6833458811761991, 0.17083647029404977, 0.22264173973656834, 0.14842782649104555, 0.5937113059641822, 0.13288188057310557, 0.7972912834386333, 0.047457814490394844, 0.023728907245197422, 0.0408849513172028, 0.5928317940994406, 0.3270796105376224, 0.0408849513172028, 0.9338166769862246, 0.03502431449684311, 0.14009725798737244, 0.03502431449684311, 0.8055592334273914, 0.03183398217171806, 0.3183398217171806, 0.03183398217171806, 0.6366796434343612, 0.393685961340804, 0.4617304484861282, 0.03888256408304237, 0.10692705122836653, 0.8046724421966155, 0.12379576033794085, 0.06189788016897042, 0.06189788016897042, 0.1078885472797183, 0.7012755573181689, 0.16183282091957746, 0.039291067703745644, 0.9429856248898953, 0.16694684256904038, 0.08347342128452019, 0.6677873702761615, 0.12408862752074684, 0.744531765124481, 0.12408862752074684, 0.25705395650980406, 0.7068983804019612, 0.8466117603244367, 0.12094453718920525, 0.04031484572973509, 0.04031484572973509, 0.15595546593537787, 0.15595546593537787, 0.6238218637415115, 0.10397031062358525, 0.2811616882402483, 0.656043939227246, 0.04686028137337471, 0.28950323179711707, 0.5790064635942341, 0.07618506099924134, 0.045711036599544806, 0.2826088805728792, 0.1413044402864396, 0.08074539444939405, 0.5046587153087129, 0.8765384204447122, 0.07968531094951929, 0.039842655474759646, 0.039842655474759646], \"Topic\": [1, 2, 3, 4, 2, 3, 4, 1, 2, 3, 1, 2, 4, 1, 2, 3, 4, 1, 2, 3, 1, 2, 3, 4, 1, 3, 4, 1, 2, 3, 4, 1, 2, 3, 4, 1, 2, 3, 4, 1, 4, 2, 4, 1, 2, 3, 4, 1, 2, 3, 4, 1, 2, 3, 4, 1, 2, 3, 4, 1, 2, 3, 4, 1, 3, 4, 1, 2, 3, 4, 1, 2, 3, 4, 1, 2, 3, 4, 1, 2, 3, 4, 1, 2, 3, 2, 3, 4, 1, 2, 3, 4, 2, 3, 1, 2, 3, 4, 2, 3, 4, 1, 2, 3, 4, 1, 2, 3, 4, 1, 2, 3, 4, 1, 3, 4, 1, 2, 3, 4, 1, 2, 3, 4, 1, 2, 3, 4, 2, 4, 1, 2, 3, 4, 1, 2, 1, 2, 3, 4, 1, 2, 3, 4, 1, 2, 3, 4, 1, 2, 3, 1, 2, 3, 4, 1, 2, 3, 4, 1, 2, 3, 4, 1, 2, 3, 4, 1, 2, 3, 4, 1, 2, 3, 4, 1, 2, 3, 4, 1, 2, 3, 4, 1, 2, 3, 4, 3, 1, 2, 3, 4, 1, 2, 3, 1, 2, 3, 4, 1, 2, 3, 1, 2, 3, 4, 1, 3, 4, 1, 2, 3, 1, 2, 3, 4, 1, 2, 3, 4, 1, 2, 3, 4, 1, 2, 3, 4, 1, 3, 4, 1, 2, 3, 4, 1, 2, 3, 4, 1, 2, 3, 4, 1, 2, 3, 4, 1, 2, 4, 1, 2, 3, 4, 1, 2, 3, 4, 1, 2, 3, 4, 2, 3, 4, 1, 2, 3, 4, 1, 2, 3, 1, 2, 3, 4, 1, 2, 3, 4, 1, 2, 3, 4, 1, 2, 3, 4, 1, 2, 3, 4, 1, 2, 3, 4, 1, 2, 1, 3, 1, 2, 3, 4, 1, 2, 3, 4, 1, 2, 3, 4, 1, 2, 3, 4, 2, 1, 2, 3, 1, 3, 4, 2, 3, 4, 1, 2, 3, 4, 1, 2, 3, 4, 1, 2, 3, 4, 1, 2, 3, 4, 1, 2, 3, 4, 1, 2, 3, 4, 1, 2, 3, 4, 1, 2, 3, 4, 1, 2, 3, 4, 1, 2, 3, 4, 1, 4, 1, 2, 4, 1, 2, 3, 3, 4, 1, 2, 3, 4, 1, 2, 3, 4, 1, 2, 3, 4, 1, 2, 3, 4, 1, 2, 1, 2, 3, 4, 2, 3, 4, 1, 2, 3, 4, 1, 2, 3, 4, 1, 3, 1, 4, 1, 4, 1, 2, 3, 4, 2, 3, 1, 2, 3, 4, 1, 2, 3, 4, 1, 2, 3, 1, 2, 4, 1, 2, 3, 4, 1, 2, 3, 4, 1, 3, 4, 1, 4, 1, 2, 3, 4, 1, 2, 3, 4, 1, 2, 3, 4, 1, 2, 3, 4, 1, 2, 3, 4, 1, 3, 4, 1, 2, 4, 1, 2, 3, 4, 1, 2, 3, 4, 1, 2, 3, 4, 1, 3, 4, 1, 2, 3, 4, 1, 2, 3, 4, 1, 2, 3, 4, 1, 2, 3, 4, 1, 3, 1, 2, 3, 4, 2, 4, 1, 2, 1, 2, 3, 4, 1, 2, 3, 4, 1, 2, 3, 4, 1, 2, 3, 4, 1, 2, 3, 4, 1, 2, 3, 4, 1, 2, 3, 4, 1, 3, 4, 1, 2, 3, 4, 1, 2, 1, 2, 3, 4, 1, 2, 3, 4, 1, 2, 3, 4, 1, 4, 1, 3, 4, 1, 2, 3, 4, 1, 2, 3, 4, 1, 3, 4, 1, 2, 3, 1, 2, 3, 4, 1, 2, 3, 4, 2, 1, 2, 3, 4, 1, 2, 3, 4, 1, 2, 3, 4, 1, 2, 3, 4, 1, 3, 4, 1, 4, 1, 3, 4, 1, 2, 4, 1, 2, 1, 2, 3, 4, 1, 2, 3, 4, 2, 3, 4, 1, 2, 3, 4, 1, 2, 3, 4, 1, 2, 3, 4], \"Term\": [\"..\", \"..\", \"..\", \"..\", \"a.m.\", \"a.m.\", \"a.m.\", \"accept\", \"accept\", \"accept\", \"account_balentine_global_hedge\", \"account_balentine_global_hedge\", \"account_balentine_global_hedge\", \"address\", \"address\", \"address\", \"address\", \"address_jr.\", \"address_jr.\", \"address_jr.\", \"adjournment\", \"adjournment\", \"adjournment\", \"adjournment\", \"adopt\", \"adopt\", \"adopt\", \"affidavit_service\", \"affidavit_service\", \"affidavit_service\", \"affidavit_service\", \"affidavit_service_summons\", \"affidavit_service_summons\", \"affidavit_service_summons\", \"affidavit_service_summons\", \"aim_exploration\", \"aim_exploration\", \"aim_exploration\", \"aim_exploration\", \"alternative_investment_sgr_spa\", \"alternative_investment_sgr_spa\", \"ambassador\", \"ambassador\", \"amend\", \"amend\", \"amend\", \"amend\", \"amend_complaint\", \"amend_complaint\", \"amend_complaint\", \"amend_complaint\", \"answer\", \"answer\", \"answer\", \"answer\", \"answer_crossclaim\", \"answer_crossclaim\", \"answer_crossclaim\", \"answer_crossclaim\", \"answer_due\", \"answer_due\", \"answer_due\", \"answer_due\", \"answer_due_answer_due\", \"answer_due_answer_due\", \"answer_due_answer_due\", \"answer_due_purs\", \"answer_due_purs\", \"answer_due_purs\", \"answer_due_purs\", \"appear\", \"appear\", \"appear\", \"appear\", \"appear_pro_hac_vice\", \"appear_pro_hac_vice\", \"appear_pro_hac_vice\", \"appear_pro_hac_vice\", \"application_grant\", \"application_grant\", \"application_grant\", \"application_grant\", \"appropriate\", \"appropriate\", \"appropriate\", \"assignment\", \"assignment\", \"assignment\", \"base\", \"base\", \"base\", \"base\", \"bond\", \"bond\", \"brief\", \"brief\", \"brief\", \"brief\", \"brooklyn\", \"brooklyn\", \"brooklyn\", \"calendar\", \"calendar\", \"calendar\", \"calendar\", \"certificate_service\", \"certificate_service\", \"certificate_service\", \"certificate_service\", \"civil_cover_sheet\", \"civil_cover_sheet\", \"civil_cover_sheet\", \"civil_cover_sheet\", \"client\", \"client\", \"client\", \"complaint\", \"complaint\", \"complaint\", \"complaint\", \"confer\", \"confer\", \"confer\", \"confer\", \"conference\", \"conference\", \"conference\", \"conference\", \"conference_call\", \"conference_call\", \"conference_hold\", \"conference_hold\", \"conference_hold\", \"conference_hold\", \"confirm\", \"confirm\", \"continue\", \"continue\", \"continue\", \"continue\", \"corp..\", \"corp..\", \"corp..\", \"corp..\", \"crossclaim\", \"crossclaim\", \"crossclaim\", \"crossclaim\", \"crossclaims\", \"crossclaims\", \"crossclaims\", \"deadline\", \"deadline\", \"deadline\", \"deadline\", \"deadline_release\", \"deadline_release\", \"deadline_release\", \"deadline_release\", \"declaration\", \"declaration\", \"declaration\", \"declaration\", \"declaration_opposition\", \"declaration_opposition\", \"declaration_opposition\", \"declaration_opposition\", \"declaration_support\", \"declaration_support\", \"declaration_support\", \"declaration_support\", \"default\", \"default\", \"default\", \"default\", \"deny\", \"deny\", \"deny\", \"deny\", \"deposition\", \"deposition\", \"deposition\", \"deposition\", \"discovery\", \"discovery\", \"discovery\", \"discovery\", \"discovery_hear_hold\", \"dismiss\", \"dismiss\", \"dismiss\", \"dismiss\", \"dismiss_thirdparty\", \"dismiss_thirdparty\", \"dismiss_thirdparty\", \"dismissal\", \"dismissal\", \"dismissal\", \"dismissal\", \"dispositive\", \"dispositive\", \"dispositive\", \"due\", \"due\", \"due\", \"due\", \"email\", \"email\", \"email\", \"endorsed_letter\", \"endorsed_letter\", \"endorsed_letter\", \"endorsed_letter_address\", \"endorsed_letter_address\", \"endorsed_letter_address\", \"endorsed_letter_address\", \"endorsement\", \"endorsement\", \"endorsement\", \"endorsement\", \"endorsement_application_grant\", \"endorsement_application_grant\", \"endorsement_application_grant\", \"endorsement_application_grant\", \"error\", \"error\", \"error\", \"error\", \"error_deficient_entry\", \"error_deficient_entry\", \"error_deficient_entry\", \"evidence\", \"evidence\", \"evidence\", \"evidence\", \"extend\", \"extend\", \"extend\", \"extend\", \"extension\", \"extension\", \"extension\", \"extension\", \"extent\", \"extent\", \"extent\", \"extent\", \"forward\", \"forward\", \"forward\", \"g.c\", \"g.c\", \"g.c\", \"g.c\", \"general\", \"general\", \"general\", \"general\", \"grant\", \"grant\", \"grant\", \"grant\", \"hedge_strategy_ibex_absolute\", \"hedge_strategy_ibex_absolute\", \"hedge_strategy_ibex_absolute\", \"hold\", \"hold\", \"hold\", \"hold\", \"inform\", \"inform\", \"inform\", \"instruction\", \"instruction\", \"instruction\", \"instruction\", \"international\", \"international\", \"international\", \"international\", \"issue\", \"issue\", \"issue\", \"issue\", \"joint\", \"joint\", \"joint\", \"joint\", \"judgment\", \"judgment\", \"judgment\", \"judgment\", \"judgment_favor\", \"judgment_favor\", \"judgment_favor\", \"judgment_favor\", \"jury_demand\", \"jury_demand\", \"jury_trial_hold\", \"jury_trial_hold\", \"leave\", \"leave\", \"leave\", \"leave\", \"letter\", \"letter\", \"letter\", \"letter\", \"letter_address\", \"letter_address\", \"letter_address\", \"letter_address\", \"limine\", \"limine\", \"limine\", \"limine\", \"limine_preclude_introduce_evidence\", \"litigation\", \"litigation\", \"litigation\", \"longer_assigned\", \"longer_assigned\", \"longer_assigned\", \"magnum_growth_magnum_special\", \"magnum_growth_magnum_special\", \"magnum_growth_magnum_special\", \"mdl\", \"mdl\", \"mdl\", \"mdl\", \"mediation\", \"mediation\", \"mediation\", \"mediation\", \"memo_endorsement\", \"memo_endorsement\", \"memo_endorsement\", \"memo_endorsement\", \"memorandum_law_opposition\", \"memorandum_law_opposition\", \"memorandum_law_opposition\", \"memorandum_law_opposition\", \"memorandum_law_support\", \"memorandum_law_support\", \"memorandum_law_support\", \"memorandum_law_support\", \"merrill\", \"merrill\", \"merrill\", \"merrill\", \"minute_entry_hold\", \"minute_entry_hold\", \"minute_entry_hold\", \"minute_entry_hold\", \"minute_entry_hold_telephone\", \"minute_entry_hold_telephone\", \"minute_entry_hold_telephone\", \"minute_entry_hold_telephone\", \"motion\", \"motion\", \"motion\", \"motion\", \"move\", \"move\", \"move\", \"move\", \"new_york_new_jersey\", \"new_york_new_jersey\", \"new_york_observer\", \"new_york_observer\", \"new_york_observer\", \"newvest_portfolio_newvest\", \"newvest_portfolio_newvest\", \"newvest_portfolio_newvest\", \"nonecf_error\", \"nonecf_error\", \"note\", \"note\", \"note\", \"note\", \"note_refile\", \"note_refile\", \"note_refile\", \"note_refile\", \"notice\", \"notice\", \"notice\", \"notice\", \"notice_appeal\", \"notice_appeal\", \"notice_appeal\", \"notice_appeal\", \"notice_appeal_certify\", \"notice_appeal_certify\", \"notice_appearance\", \"notice_appearance\", \"notice_appearance\", \"notice_appearance\", \"notice_reassignment\", \"notice_reassignment\", \"notice_reassignment\", \"number\", \"number\", \"number\", \"number\", \"objection\", \"objection\", \"objection\", \"objection\", \"official\", \"official\", \"official_conference\", \"official_conference\", \"official_notice_give\", \"official_notice_give\", \"opposition\", \"opposition\", \"opposition\", \"opposition\", \"oral_argument_pm\", \"oral_argument_pm\", \"order\", \"order\", \"order\", \"order\", \"ordered\", \"ordered\", \"ordered\", \"ordered\", \"p.m\", \"p.m\", \"p.m\", \"pdf\", \"pdf\", \"pdf\", \"permission\", \"permission\", \"permission\", \"permission\", \"plead\", \"plead\", \"plead\", \"plead\", \"preliminary_injunction\", \"preliminary_injunction\", \"preliminary_injunction\", \"pro_se\", \"pro_se\", \"production\", \"production\", \"production\", \"production\", \"propose\", \"propose\", \"propose\", \"propose\", \"redact\", \"redact\", \"redact\", \"redact\", \"redact_deadline\", \"redact_deadline\", \"redact_deadline\", \"redact_deadline\", \"redaction\", \"redaction\", \"redaction\", \"redaction\", \"relief\", \"relief\", \"relief\", \"remotely_electronically_available_public\", \"remotely_electronically_available_public\", \"remotely_electronically_available_public\", \"reply\", \"reply\", \"reply\", \"reply\", \"reply_memorandum_law\", \"reply_memorandum_law\", \"reply_memorandum_law\", \"reply_memorandum_law\", \"report\", \"report\", \"report\", \"report\", \"represent\", \"represent\", \"represent\", \"request\", \"request\", \"request\", \"request\", \"respectfully\", \"respectfully\", \"respectfully\", \"respectfully\", \"response\", \"response\", \"response\", \"response\", \"response_due\", \"response_due\", \"response_due\", \"response_due\", \"revise_schedule\", \"revise_schedule\", \"rule\", \"rule\", \"rule\", \"rule\", \"rule_deposition_objection\", \"rule_deposition_objection\", \"rule_rule_..\", \"rule_rule_..\", \"schedule\", \"schedule\", \"schedule\", \"schedule\", \"section\", \"section\", \"section\", \"section\", \"send\", \"send\", \"send\", \"send\", \"serve\", \"serve\", \"serve\", \"serve\", \"serve_answer_due\", \"serve_answer_due\", \"serve_answer_due\", \"serve_answer_due\", \"service\", \"service\", \"service\", \"service\", \"service_accept\", \"service_accept\", \"service_accept\", \"service_accept\", \"service_execute\", \"service_execute\", \"service_execute\", \"settlement\", \"settlement\", \"settlement\", \"settlement\", \"sheet\", \"sheet\", \"show_cause\", \"show_cause\", \"show_cause\", \"show_cause\", \"status_conference\", \"status_conference\", \"status_conference\", \"status_conference\", \"status_report\", \"status_report\", \"status_report\", \"status_report\", \"stillwater_market_neutral_balentine\", \"stillwater_market_neutral_balentine\", \"stipulate_agree\", \"stipulate_agree\", \"stipulate_agree\", \"stipulation\", \"stipulation\", \"stipulation\", \"stipulation\", \"subject\", \"subject\", \"subject\", \"subject\", \"subpoena\", \"subpoena\", \"subpoena\", \"substitution\", \"substitution\", \"substitution\", \"summary_judgment\", \"summary_judgment\", \"summary_judgment\", \"summary_judgment\", \"summary_judgment..\", \"summary_judgment..\", \"summary_judgment..\", \"summary_judgment..\", \"summary_judgment_favor\", \"summons_issue\", \"summons_issue\", \"summons_issue\", \"summons_issue\", \"supplemental_amend\", \"supplemental_amend\", \"supplemental_amend\", \"supplemental_amend\", \"support\", \"support\", \"support\", \"support\", \"thk\", \"thk\", \"thk\", \"thk\", \"total\", \"total\", \"total\", \"u.s.c\", \"u.s.c\", \"united_state_courthouse_pearl\", \"united_state_courthouse_pearl\", \"united_state_courthouse_pearl\", \"upon\", \"upon\", \"upon\", \"usca_number\", \"usca_number\", \"view_public_terminal_purchase\", \"view_public_terminal_purchase\", \"view_public_terminal_purchase\", \"view_public_terminal_purchase\", \"well\", \"well\", \"well\", \"well\", \"wellington\", \"wellington\", \"wellington\", \"withdraw\", \"withdraw\", \"withdraw\", \"withdraw\", \"within\", \"within\", \"within\", \"within\", \"without_redaction_calendar\", \"without_redaction_calendar\", \"without_redaction_calendar\", \"without_redaction_calendar\"]}, \"lambda.step\": 0.01, \"plot.opts\": {\"ylab\": \"PC2\", \"xlab\": \"PC1\"}};\n",
       "\n",
       "function LDAvis_load_lib(url, callback){\n",
       "  var s = document.createElement('script');\n",
       "  s.src = url;\n",
       "  s.async = true;\n",
       "  s.onreadystatechange = s.onload = callback;\n",
       "  s.onerror = function(){console.warn(\"failed to load library \" + url);};\n",
       "  document.getElementsByTagName(\"head\")[0].appendChild(s);\n",
       "}\n",
       "\n",
       "if(typeof(LDAvis) !== \"undefined\"){\n",
       "   // already loaded: just create the visualization\n",
       "   !function(LDAvis){\n",
       "       new LDAvis(\"#\" + \"ldavis_el2506819944779838085617922651\", ldavis_el2506819944779838085617922651_data);\n",
       "   }(LDAvis);\n",
       "}else if(typeof define === \"function\" && define.amd){\n",
       "   // require.js is available: use it to load d3/LDAvis\n",
       "   require.config({paths: {d3: \"https://cdnjs.cloudflare.com/ajax/libs/d3/3.5.5/d3.min\"}});\n",
       "   require([\"d3\"], function(d3){\n",
       "      window.d3 = d3;\n",
       "      LDAvis_load_lib(\"https://cdn.rawgit.com/bmabey/pyLDAvis/files/ldavis.v1.0.0.js\", function(){\n",
       "        new LDAvis(\"#\" + \"ldavis_el2506819944779838085617922651\", ldavis_el2506819944779838085617922651_data);\n",
       "      });\n",
       "    });\n",
       "}else{\n",
       "    // require.js not available: dynamically load d3 & LDAvis\n",
       "    LDAvis_load_lib(\"https://cdnjs.cloudflare.com/ajax/libs/d3/3.5.5/d3.min.js\", function(){\n",
       "         LDAvis_load_lib(\"https://cdn.rawgit.com/bmabey/pyLDAvis/files/ldavis.v1.0.0.js\", function(){\n",
       "                 new LDAvis(\"#\" + \"ldavis_el2506819944779838085617922651\", ldavis_el2506819944779838085617922651_data);\n",
       "            })\n",
       "         });\n",
       "}\n",
       "</script>"
      ],
      "text/plain": [
       "<IPython.core.display.HTML object>"
      ]
     },
     "execution_count": 395,
     "metadata": {},
     "output_type": "execute_result"
    }
   ],
   "source": [
    "num_topics = 4\n",
    "pretrained_model_file_path = 'docket_texts/lda_model_noorgnomodel_' + str(num_topics)\n",
    "column_name = str(num_topics) + '-topic Model Classificaiton'\n",
    "\n",
    "topic_names = {}\n",
    "for i in range(num_topics):\n",
    "    topic_names[i] = 'Topic ' + str(i)\n",
    "\n",
    "LDAvis_prepared, model = topic_modeling_pipeline(num_topics, pretrained_model_file_path, trigram_bow_corpus, trigram_dictionary, export = True)\n",
    "topic_summary = []\n",
    "\n",
    "for docket_text in list(new_df['Apply Trigram Phrase Model']):\n",
    "    #print(docket_text)\n",
    "    topic_summary.append(lda_description(docket_text, model, trigram_dictionary, topic_names))\n",
    "\n",
    "new_df[column_name] = topic_summary\n",
    "pyLDAvis.display(LDAvis_prepared)"
   ]
  },
  {
   "cell_type": "markdown",
   "metadata": {},
   "source": [
    "### 5 Topics:"
   ]
  },
  {
   "cell_type": "code",
   "execution_count": 396,
   "metadata": {
    "scrolled": false
   },
   "outputs": [
    {
     "name": "stdout",
     "output_type": "stream",
     "text": [
      "\n",
      " Topic 1's make-up:\n",
      "term                 frequency\n",
      "\n",
      "motion               0.113\n",
      "conference           0.033\n",
      "notice_appearance    0.030\n",
      "discovery            0.030\n",
      "redact_deadline      0.029\n",
      "order                0.026\n",
      "request              0.025\n",
      "complaint            0.019\n",
      "terminate            0.018\n",
      "release              0.018\n",
      "\n",
      " Topic 2's make-up:\n",
      "term                 frequency\n",
      "\n",
      "send                 0.046\n",
      "notice               0.032\n",
      "deposition           0.029\n",
      "motion               0.025\n",
      "hold                 0.024\n",
      "complaint            0.021\n",
      "order                0.020\n",
      "endorsed_letter_address 0.017\n",
      "rule                 0.016\n",
      "redaction            0.015\n",
      "\n",
      " Topic 3's make-up:\n",
      "term                 frequency\n",
      "\n",
      "order                0.114\n",
      "motion               0.097\n",
      "dismiss              0.037\n",
      "amend_complaint      0.025\n",
      "notice               0.019\n",
      "letter               0.018\n",
      "due                  0.018\n",
      "schedule             0.013\n",
      "rule                 0.012\n",
      "summary_judgment     0.011\n",
      "\n",
      " Topic 4's make-up:\n",
      "term                 frequency\n",
      "\n",
      "order                0.128\n",
      "motion               0.056\n",
      "conference_hold      0.029\n",
      "redaction            0.025\n",
      "calendar             0.021\n",
      "due                  0.019\n",
      "endorsement          0.018\n",
      "notice               0.016\n",
      "schedule             0.014\n",
      "grant                0.013\n",
      "\n",
      " Topic 5's make-up:\n",
      "term                 frequency\n",
      "\n",
      "notice               0.060\n",
      "request              0.043\n",
      "serve                0.043\n",
      "abovecaptioned       0.038\n",
      "motion               0.036\n",
      "official_notice_give 0.032\n",
      "order                0.031\n",
      "official_conference  0.026\n",
      "without_redaction_calendar 0.022\n",
      "remotely_electronically_available_public 0.022\n"
     ]
    },
    {
     "data": {
      "text/html": [
       "\n",
       "<link rel=\"stylesheet\" type=\"text/css\" href=\"https://cdn.rawgit.com/bmabey/pyLDAvis/files/ldavis.v1.0.0.css\">\n",
       "\n",
       "\n",
       "<div id=\"ldavis_el2506819944813619283655815461\"></div>\n",
       "<script type=\"text/javascript\">\n",
       "\n",
       "var ldavis_el2506819944813619283655815461_data = {\"topic.order\": [3, 1, 4, 5, 2], \"mdsDat\": {\"cluster\": [1, 1, 1, 1, 1], \"topics\": [1, 2, 3, 4, 5], \"Freq\": [34.72302551431731, 19.951528652063097, 19.863110988827202, 12.937451386228762, 12.524883458563629], \"x\": [-0.0026653573105041863, -0.02833711144417891, 0.008538823373600993, -0.12492490324809938, 0.1473885486291815], \"y\": [0.0348493476263807, 0.09783407042242193, 0.0727327343107736, -0.11942178135300055, -0.08599437100657562]}, \"R\": 30, \"tinfo\": {\"Category\": [\"Default\", \"Default\", \"Default\", \"Default\", \"Default\", \"Default\", \"Default\", \"Default\", \"Default\", \"Default\", \"Default\", \"Default\", \"Default\", \"Default\", \"Default\", \"Default\", \"Default\", \"Default\", \"Default\", \"Default\", \"Default\", \"Default\", \"Default\", \"Default\", \"Default\", \"Default\", \"Default\", \"Default\", \"Default\", \"Default\", \"Topic1\", \"Topic1\", \"Topic1\", \"Topic1\", \"Topic1\", \"Topic1\", \"Topic1\", \"Topic1\", \"Topic1\", \"Topic1\", \"Topic1\", \"Topic1\", \"Topic1\", \"Topic1\", \"Topic1\", \"Topic1\", \"Topic1\", \"Topic1\", \"Topic1\", \"Topic1\", \"Topic1\", \"Topic1\", \"Topic1\", \"Topic1\", \"Topic1\", \"Topic1\", \"Topic1\", \"Topic1\", \"Topic1\", \"Topic1\", \"Topic1\", \"Topic1\", \"Topic1\", \"Topic1\", \"Topic1\", \"Topic1\", \"Topic1\", \"Topic1\", \"Topic1\", \"Topic1\", \"Topic1\", \"Topic1\", \"Topic1\", \"Topic1\", \"Topic1\", \"Topic1\", \"Topic1\", \"Topic1\", \"Topic1\", \"Topic1\", \"Topic1\", \"Topic1\", \"Topic1\", \"Topic1\", \"Topic1\", \"Topic1\", \"Topic1\", \"Topic1\", \"Topic1\", \"Topic1\", \"Topic2\", \"Topic2\", \"Topic2\", \"Topic2\", \"Topic2\", \"Topic2\", \"Topic2\", \"Topic2\", \"Topic2\", \"Topic2\", \"Topic2\", \"Topic2\", \"Topic2\", \"Topic2\", \"Topic2\", \"Topic2\", \"Topic2\", \"Topic2\", \"Topic2\", \"Topic2\", \"Topic2\", \"Topic2\", \"Topic2\", \"Topic2\", \"Topic2\", \"Topic2\", \"Topic2\", \"Topic2\", \"Topic2\", \"Topic2\", \"Topic2\", \"Topic2\", \"Topic2\", \"Topic2\", \"Topic2\", \"Topic2\", \"Topic2\", \"Topic2\", \"Topic2\", \"Topic2\", \"Topic2\", \"Topic2\", \"Topic2\", \"Topic2\", \"Topic2\", \"Topic2\", \"Topic2\", \"Topic2\", \"Topic2\", \"Topic2\", \"Topic2\", \"Topic2\", \"Topic2\", \"Topic2\", \"Topic2\", \"Topic2\", \"Topic2\", \"Topic3\", \"Topic3\", \"Topic3\", \"Topic3\", \"Topic3\", \"Topic3\", \"Topic3\", \"Topic3\", \"Topic3\", \"Topic3\", \"Topic3\", \"Topic3\", \"Topic3\", \"Topic3\", \"Topic3\", \"Topic3\", \"Topic3\", \"Topic3\", \"Topic3\", \"Topic3\", \"Topic3\", \"Topic3\", \"Topic3\", \"Topic3\", \"Topic3\", \"Topic3\", \"Topic3\", \"Topic3\", \"Topic3\", \"Topic3\", \"Topic3\", \"Topic3\", \"Topic3\", \"Topic3\", \"Topic3\", \"Topic3\", \"Topic3\", \"Topic3\", \"Topic3\", \"Topic3\", \"Topic3\", \"Topic3\", \"Topic3\", \"Topic3\", \"Topic3\", \"Topic3\", \"Topic3\", \"Topic3\", \"Topic3\", \"Topic3\", \"Topic3\", \"Topic3\", \"Topic3\", \"Topic3\", \"Topic3\", \"Topic3\", \"Topic3\", \"Topic3\", \"Topic3\", \"Topic3\", \"Topic3\", \"Topic3\", \"Topic3\", \"Topic4\", \"Topic4\", \"Topic4\", \"Topic4\", \"Topic4\", \"Topic4\", \"Topic4\", \"Topic4\", \"Topic4\", \"Topic4\", \"Topic4\", \"Topic4\", \"Topic4\", \"Topic4\", \"Topic4\", \"Topic4\", \"Topic4\", \"Topic4\", \"Topic4\", \"Topic4\", \"Topic4\", \"Topic4\", \"Topic4\", \"Topic4\", \"Topic4\", \"Topic4\", \"Topic4\", \"Topic4\", \"Topic4\", \"Topic4\", \"Topic4\", \"Topic4\", \"Topic4\", \"Topic4\", \"Topic4\", \"Topic4\", \"Topic4\", \"Topic4\", \"Topic4\", \"Topic4\", \"Topic4\", \"Topic4\", \"Topic4\", \"Topic4\", \"Topic4\", \"Topic4\", \"Topic4\", \"Topic4\", \"Topic4\", \"Topic4\", \"Topic5\", \"Topic5\", \"Topic5\", \"Topic5\", \"Topic5\", \"Topic5\", \"Topic5\", \"Topic5\", \"Topic5\", \"Topic5\", \"Topic5\", \"Topic5\", \"Topic5\", \"Topic5\", \"Topic5\", \"Topic5\", \"Topic5\", \"Topic5\", \"Topic5\", \"Topic5\", \"Topic5\", \"Topic5\", \"Topic5\", \"Topic5\", \"Topic5\", \"Topic5\", \"Topic5\", \"Topic5\", \"Topic5\", \"Topic5\", \"Topic5\", \"Topic5\", \"Topic5\", \"Topic5\", \"Topic5\", \"Topic5\", \"Topic5\", \"Topic5\", \"Topic5\", \"Topic5\", \"Topic5\", \"Topic5\", \"Topic5\", \"Topic5\", \"Topic5\", \"Topic5\", \"Topic5\", \"Topic5\", \"Topic5\", \"Topic5\", \"Topic5\", \"Topic5\", \"Topic5\", \"Topic5\"], \"Total\": [1689.0, 507.0, 187.0, 178.0, 130.0, 140.0, 101.0, 149.0, 155.0, 385.0, 75.0, 143.0, 134.0, 113.0, 106.0, 113.0, 106.0, 167.0, 263.0, 219.0, 236.0, 1652.0, 244.0, 128.0, 181.0, 113.0, 66.0, 365.0, 164.0, 46.0, 28.4060528095765, 28.629331964187198, 11.498602528702754, 20.688272099737027, 65.7049477539108, 11.021957635069045, 13.686750357627382, 56.474294344316505, 23.54256831675428, 12.82922716333625, 18.246150877522677, 39.1431542329867, 47.178318395681885, 20.697445037491594, 51.06520699019745, 17.013408018748592, 9.97009795955672, 12.075101577284652, 17.110213838289727, 365.7090078971547, 24.64933299650867, 24.97221311090044, 28.90788210991203, 22.30292501768996, 10.638851557795421, 17.994391749273788, 8.734491760708075, 20.827986729853706, 13.576949276173615, 37.189798774475335, 27.545253448646427, 33.02167417134176, 76.90602304106125, 39.46096356136182, 1689.0749332789212, 319.93715690455844, 97.00810309894608, 95.29275870579683, 141.99475177484646, 1652.355084008506, 164.70339895328647, 301.9502443790216, 300.99018192296165, 111.3292790499705, 111.35264628789936, 157.87471881612078, 148.27095361371408, 167.85188415658143, 197.62138551081102, 121.5071344241954, 267.68831372538796, 507.52006157252197, 79.7679972784725, 156.4321873075232, 139.5714440504376, 219.74399901765602, 385.0132033834882, 244.07306540433666, 150.972037369831, 210.9372723278557, 130.04734000531155, 149.55345818708457, 8.282175927007566, 7.773940749987435, 12.869066459290517, 14.331105704880427, 9.685612923895546, 13.649304016186885, 22.484140456993867, 28.408641933678275, 9.47977780846267, 7.244228016251875, 14.646351885422934, 19.75458445700739, 21.48394104400424, 113.53561047173312, 8.474416327437325, 64.58637420774214, 14.399702709338262, 12.671228743572003, 18.739601201648032, 51.24345506257345, 23.216986292816884, 14.294941606563375, 15.226843325191513, 9.655276877461029, 25.603447687306442, 236.9953204152929, 14.831798408029917, 128.53662318938527, 77.23903260347484, 33.057477686912655, 263.76898274041673, 100.54985770800165, 1652.355084008506, 42.306893305306495, 32.35152878067717, 219.74399901765602, 59.87033779343213, 148.27095361371408, 385.0132033834882, 80.38110704804205, 157.87471881612078, 197.62138551081102, 91.5330020073135, 301.9502443790216, 156.4321873075232, 244.07306540433666, 181.83213449395615, 111.3292790499705, 267.68831372538796, 210.9372723278557, 1689.0749332789212, 365.7090078971547, 141.99475177484646, 300.99018192296165, 507.52006157252197, 46.90564558314423, 10.259205062774706, 17.483610544609693, 10.967446613603181, 18.777249294235432, 21.889678978530732, 13.755019859631222, 25.18477709691059, 7.291201646999131, 7.158840768390681, 12.515937727508147, 9.649178159500584, 7.491124437406001, 9.106154076850336, 8.419841938320172, 51.77027620708401, 11.842639175391367, 155.02382821578186, 13.842097535245738, 134.5245034289446, 6.650426486003382, 18.017057211076715, 9.455608810268274, 13.870381977617143, 33.755593631191076, 19.725387712006, 12.363623533871397, 14.01356232034638, 33.744560606632255, 8.189617347520057, 27.672702767602495, 77.71862100754409, 25.02900051881788, 244.07306540433666, 49.956274603116164, 60.3775979072595, 57.18888531098822, 1689.0749332789212, 35.43835625952863, 68.106153013486, 187.45184086645116, 61.87647783554085, 39.15397419879417, 34.99491001394525, 113.76978660465801, 128.53662318938527, 300.99018192296165, 1652.355084008506, 150.972037369831, 210.9372723278557, 57.270725974224035, 267.68831372538796, 263.76898274041673, 139.5714440504376, 121.11959061081521, 507.52006157252197, 319.93715690455844, 121.5071344241954, 197.62138551081102, 385.0132033834882, 156.4321873075232, 301.9502443790216, 236.9953204152929, 75.03708437412763, 101.53891716308881, 9.89053423245199, 33.02897171165304, 19.762681832519686, 7.762991120856378, 140.99597185649807, 12.512707362198984, 9.258075573910826, 178.90169687749568, 11.053651808196621, 28.539924436095056, 23.100322110051764, 17.981826190903902, 106.65047048015991, 106.72867429776866, 9.36368254230596, 113.51952856317168, 5.67093747735403, 113.71483350057102, 21.614004663796877, 27.329332118368686, 14.053688464044384, 30.44920412035045, 13.924679958162303, 11.458284913326281, 28.32586514294399, 33.05263012427662, 16.18578057660875, 15.449671011442916, 21.785857336108283, 507.52006157252197, 92.8552593444646, 385.0132033834882, 181.83213449395615, 47.43334825778245, 121.11959061081521, 32.621129911708096, 263.76898274041673, 121.5071344241954, 267.68831372538796, 1652.355084008506, 1689.0749332789212, 319.93715690455844, 71.7296995665588, 95.29275870579683, 210.9372723278557, 236.9953204152929, 301.9502443790216, 91.5330020073135, 15.253050063067345, 13.081983996926745, 46.99284071387877, 28.78631081694767, 7.057249741025705, 22.46966974868993, 55.1165067323408, 187.80715958667668, 13.834052262504493, 16.455698222610703, 66.8961665253325, 40.00289888935491, 22.05556115420937, 13.837226216707585, 13.841110690478523, 14.782447566125235, 40.15151951710066, 143.89972767994905, 27.099745007797967, 30.831139308886733, 23.62275485512947, 7.576841171895806, 23.833469510250517, 13.352106413703678, 38.235772692064685, 10.621965754491882, 30.47245804858034, 25.299110252491666, 12.339905692828065, 37.97694439944689, 42.672194815589805, 35.31512480043475, 167.85188415658143, 30.694553013771497, 68.97668886011732, 77.64652145628013, 219.74399901765602, 134.5245034289446, 164.70339895328647, 181.83213449395615, 155.02382821578186, 507.52006157252197, 77.71862100754409, 187.45184086645116, 210.9372723278557, 300.99018192296165, 121.11959061081521, 301.9502443790216, 71.7296995665588, 1652.355084008506, 1689.0749332789212, 385.0132033834882, 150.972037369831, 319.93715690455844], \"loglift\": [30.0, 29.0, 28.0, 27.0, 26.0, 25.0, 24.0, 23.0, 22.0, 21.0, 20.0, 19.0, 18.0, 17.0, 16.0, 15.0, 14.0, 13.0, 12.0, 11.0, 10.0, 9.0, 8.0, 7.0, 6.0, 5.0, 4.0, 3.0, 2.0, 1.0, 0.9834, 0.9589, 0.9374, 0.9347, 0.9326, 0.9169, 0.8997, 0.8943, 0.8942, 0.8841, 0.8827, 0.8742, 0.8668, 0.8594, 0.8512, 0.8489, 0.8345, 0.8265, 0.8152, 0.8064, 0.8061, 0.7981, 0.7877, 0.7875, 0.784, 0.7826, 0.7788, 0.7775, 0.7722, 0.7715, 0.7575, 0.7309, 0.6878, 0.7199, 0.3984, 0.5406, 0.6395, 0.6285, 0.5697, 0.2576, 0.5024, 0.2946, 0.2843, 0.4687, 0.4671, 0.3443, 0.3266, 0.2604, 0.2001, 0.3378, 0.0547, -0.1782, 0.4483, 0.1372, 0.1734, -0.1667, -0.6079, -0.4101, -0.0836, -0.4792, 1.5864, 1.4962, 1.4324, 1.4179, 1.3943, 1.3927, 1.3713, 1.3559, 1.331, 1.3246, 1.3142, 1.2648, 1.2413, 1.2377, 1.2315, 1.2292, 1.2287, 1.2267, 1.2185, 1.2087, 1.2053, 1.1707, 1.1676, 1.1614, 1.1454, 1.1273, 1.1134, 1.1111, 1.1021, 1.0994, 1.0482, 1.0575, 0.9078, 0.8699, 0.4098, 0.984, 1.0273, 0.6374, 0.882, 0.6283, 0.3538, 0.7354, 0.4432, 0.3433, 0.5883, 0.0776, 0.3499, 0.1384, 0.2419, 0.4131, -0.0724, 0.0489, -1.083, -0.4873, 0.1277, -0.563, -1.1952, 1.5322, 1.5034, 1.4622, 1.4495, 1.4003, 1.3962, 1.3797, 1.3747, 1.3531, 1.3491, 1.3476, 1.321, 1.3097, 1.2967, 1.2961, 1.2829, 1.2674, 1.2636, 1.2534, 1.2214, 1.2107, 1.2078, 1.1972, 1.1866, 1.1778, 1.1747, 1.1553, 1.1529, 1.1348, 1.1323, 1.131, 1.077, 1.1128, 0.9436, 1.0376, 1.0166, 1.0128, 0.5072, 1.055, 0.9391, 0.7232, 0.9128, 1.0083, 1.012, 0.6735, 0.6221, 0.3047, -0.2994, 0.5098, 0.3188, 0.8221, 0.1574, 0.0506, 0.3409, 0.4053, -0.3757, -0.1356, 0.3331, 0.0231, -0.4068, 0.1671, -0.4097, -0.4625, 2.0174, 1.9448, 1.8793, 1.8731, 1.8311, 1.8075, 1.768, 1.7457, 1.6834, 1.6669, 1.6666, 1.6661, 1.5637, 1.5131, 1.4971, 1.4934, 1.4582, 1.4538, 1.4424, 1.4404, 1.3812, 1.3792, 1.3491, 1.3469, 1.3063, 1.2971, 1.2518, 1.2271, 1.2115, 1.2093, 1.2024, 0.9554, 1.0726, 0.9031, 0.7812, 1.0081, 0.7208, 1.0684, 0.3228, 0.5786, 0.1406, -0.7457, -0.9014, -0.1028, 0.7252, 0.4766, -0.1362, -0.301, -0.8635, 0.264, 1.9224, 1.9071, 1.8876, 1.8244, 1.7927, 1.7743, 1.6978, 1.6946, 1.6636, 1.6511, 1.6031, 1.5895, 1.5308, 1.5246, 1.5239, 1.5213, 1.5107, 1.4841, 1.4819, 1.4736, 1.4604, 1.448, 1.4254, 1.4196, 1.4027, 1.3912, 1.3893, 1.3656, 1.3556, 1.34, 1.3377, 1.3085, 1.1517, 1.3124, 1.1773, 1.1497, 0.7614, 0.8794, 0.7679, 0.7253, 0.7759, 0.3419, 1.002, 0.5058, 0.4131, 0.066, 0.5909, 0.0509, 0.8801, -1.1031, -1.3374, -0.5091, 0.225, -0.416], \"Freq\": [1689.0, 507.0, 187.0, 178.0, 130.0, 140.0, 101.0, 149.0, 155.0, 385.0, 75.0, 143.0, 134.0, 113.0, 106.0, 113.0, 106.0, 167.0, 263.0, 219.0, 236.0, 1652.0, 244.0, 128.0, 181.0, 113.0, 66.0, 365.0, 164.0, 46.0, 26.36892677117255, 25.933134630594715, 10.194578719040953, 18.293209333455458, 57.972831298012835, 9.573917589688438, 11.685353888859469, 47.959976639354764, 19.99068132177988, 10.783488338457026, 15.31658172231865, 32.578506990878765, 38.97488955697757, 16.973724315183485, 41.53659995640965, 13.80625786250791, 7.97477839206108, 9.581778132867832, 13.424337509715578, 284.42802065212834, 19.165122507631185, 19.261598386115, 22.06545049371468, 17.021488470696497, 8.091030518950996, 13.666167213964144, 6.607929667750517, 15.73776567940557, 10.204411731440644, 27.930484163407893, 20.39988646173624, 23.815237805829675, 53.12578374840396, 28.14842467869952, 873.5693869791345, 190.7415674280342, 63.8499895644455, 62.03260851440813, 87.1566147594562, 742.3301349495923, 94.51974369091437, 140.7613058566675, 138.87541550165193, 61.77084522644387, 61.68449391957753, 77.34913868052364, 71.36753110212089, 75.6165444732572, 83.82358800498353, 59.14591625515625, 98.17928121330009, 147.46391093584202, 43.364182023469155, 62.306709735124855, 57.637819089981306, 64.58664592857227, 72.79181921458454, 56.23986730832385, 48.21663764100785, 45.35941419635319, 126.77831911538071, 133.21223077084383, 6.92143937315187, 6.403532023427816, 10.352497036687286, 11.510154082143279, 7.614516866140126, 10.567358874045759, 16.978917903140466, 21.31628865713693, 7.039382625162488, 5.120177462787703, 10.110578531080023, 13.58885231270339, 14.68638547173256, 77.43487495546421, 5.777128833491345, 43.94018450516892, 9.716985575431288, 8.46732237403086, 12.479083537247897, 32.964474957114845, 14.889682823069794, 9.111065142446929, 9.550842493643076, 5.947359477404279, 15.55362079408633, 143.62950670347996, 8.908282630872497, 76.99905901022076, 43.95921314624335, 18.99001174810111, 130.45185609212214, 47.879493208353416, 496.6379707327649, 22.58057371640398, 18.03136989468538, 82.92902425849601, 28.855068916741708, 55.44834051870894, 109.42462340260556, 33.45908887209441, 49.06289326345708, 55.57570615558484, 32.8883011453841, 65.10666500640454, 44.28534370583038, 55.92528235452877, 46.204621395235236, 33.57162222056572, 49.6793444169072, 44.196162018029106, 114.09995683716635, 44.82000071347248, 32.18780444367115, 34.20017823748654, 30.644958384488223, 43.12384304005834, 9.164147825721793, 14.986977646678806, 9.28282030067681, 15.128788462638498, 17.564640904002722, 10.857281080823167, 19.778908542720863, 5.603944593126196, 5.479984327908618, 9.566724653183364, 7.1819276853360945, 5.512986871558109, 6.614860867619176, 6.1126733397552035, 37.090776902182704, 8.354765565757448, 108.95275270005061, 9.628882503139664, 90.63722625613404, 4.432860495627777, 11.974544026254959, 6.218301005459739, 9.025056415697689, 21.77292667422801, 12.683169957250547, 7.796973101978298, 8.816237769637038, 20.848377471193455, 5.047212840039201, 17.032843479535302, 45.322286461739175, 15.127059595738535, 124.56092239369126, 28.00565456547767, 33.14481515763032, 31.276306661177276, 557.1489917227499, 20.21571591782116, 34.60024446869479, 76.74259553191698, 30.618641624509408, 21.31741702719223, 19.12289915035484, 44.31761139675506, 47.5616165686236, 81.08028597262394, 243.29588063243392, 49.927589226871866, 57.6318960799927, 25.882481940699087, 62.23726393187927, 55.111488826473426, 38.98467126661038, 36.08087455727753, 69.23734431177466, 55.48834926728832, 33.676641057552565, 40.171251604925374, 50.91577293559139, 36.722841482493735, 39.81351853390724, 29.642378961555384, 72.99300158030591, 91.85611861312486, 8.3797300833113, 27.810579370171173, 15.957061502863748, 6.121646806251027, 106.88227239473565, 9.27596828542463, 6.448823336575751, 122.57641255841223, 7.571303003547676, 19.53792471232647, 14.275499739482616, 10.56411314299381, 61.65977555892364, 61.47742740101552, 5.207119339847204, 62.8473145591087, 3.104166925955125, 62.11863201009978, 11.128430773970837, 14.043070884897553, 7.006905885709802, 15.14864700851976, 6.652152713795068, 5.42361737154217, 12.8136250868927, 14.586766312218215, 7.032881529444244, 6.6984789810779795, 9.380601477091687, 170.69963400537858, 35.11232719360346, 122.89753947623596, 51.37789575035038, 16.81628002431839, 32.21831392306666, 12.284074346459843, 47.12699142346896, 28.03595906498008, 39.861214054132176, 101.41243175763441, 88.7162922254173, 37.34735994340848, 19.16370984492374, 19.855580703893185, 23.81555649616785, 22.691042627948736, 16.47322268158685, 15.420001903642836, 13.062147091200442, 11.033363471741595, 38.86714148322833, 22.349538627187997, 5.308610391714034, 16.593545571686846, 37.70608864651213, 128.06579005451542, 9.146087014361049, 10.743917878309503, 41.62869990960323, 24.556485527413493, 12.767134656749255, 7.960993709615259, 7.957053763615798, 8.476808566987419, 22.780318881807464, 79.50217469943621, 14.938727210809013, 16.855680234101513, 12.745715047980699, 4.037590481467301, 12.416243476448289, 6.9156851231075125, 19.472260960027494, 5.3477296179192955, 15.311904993203935, 12.41451590247001, 5.99514469958563, 18.16497097397843, 20.36353522867903, 16.368204259152563, 66.50928447150756, 14.282608208724271, 28.038235814675566, 30.705058547301707, 58.9346254245071, 40.5955131979698, 44.458658466200546, 47.03751215712648, 42.18256500067071, 89.47421393503846, 26.512445555142065, 38.93500038388962, 39.934243537312845, 40.270677988673086, 27.390599495807116, 39.79553230045552, 21.66234381404631, 68.67866593608063, 55.54030551445312, 28.983448354470767, 23.680737621479885, 26.435249803284133], \"logprob\": [30.0, 29.0, 28.0, 27.0, 26.0, 25.0, 24.0, 23.0, 22.0, 21.0, 20.0, 19.0, 18.0, 17.0, 16.0, 15.0, 14.0, 13.0, 12.0, 11.0, 10.0, 9.0, 8.0, 7.0, 6.0, 5.0, 4.0, 3.0, 2.0, 1.0, -5.668399810791016, -5.685100078582764, -6.61870002746582, -6.033999919891357, -4.8805999755859375, -6.68149995803833, -6.4822001457214355, -5.070199966430664, -5.945300102233887, -6.562600135803223, -6.211599826812744, -5.456900119781494, -5.277699947357178, -6.10890007019043, -5.214000225067139, -6.315499782562256, -6.864299774169922, -6.680699825286865, -6.343500137329102, -3.29010009765625, -5.987500190734863, -5.982500076293945, -5.84660005569458, -6.106100082397461, -6.849800109863281, -6.325699806213379, -7.052299976348877, -6.184500217437744, -6.617800235748291, -5.610899925231934, -5.925000190734863, -5.770299911499023, -4.967899799346924, -5.603099822998047, -2.1679999828338623, -3.68969988822937, -4.783999919891357, -4.812900066375732, -4.472899913787842, -2.3308000564575195, -4.3917999267578125, -3.993499994277954, -4.006999969482422, -4.8171000480651855, -4.81850004196167, -4.592199802398682, -4.672699928283691, -4.6149001121521, -4.511899948120117, -4.860599994659424, -4.353799819946289, -3.947000026702881, -5.170899868011475, -4.808499813079834, -4.88640022277832, -4.772600173950195, -4.6529998779296875, -4.910999774932861, -5.064899921417236, -5.125999927520752, -3.5439999103546143, -3.494499921798706, -6.451900005340576, -6.529600143432617, -6.049300193786621, -5.94320011138916, -6.356400012969971, -6.02869987487793, -5.554500102996826, -5.327000141143799, -6.434999942779541, -6.753300189971924, -6.07289981842041, -5.777200222015381, -5.6996002197265625, -4.0370001792907715, -6.632599830627441, -4.603600025177002, -6.112599849700928, -6.25029993057251, -5.862400054931641, -4.890999794006348, -5.685800075531006, -6.177000045776367, -6.129799842834473, -6.603499889373779, -5.642199993133545, -3.4191999435424805, -6.19950008392334, -4.042699813842773, -4.6031999588012695, -5.442599773406982, -3.515500068664551, -4.5177998542785645, -2.1786000728607178, -5.269400119781494, -5.4944000244140625, -3.9684998989105225, -5.024199962615967, -4.370999813079834, -3.691200017929077, -4.876200199127197, -4.4934000968933105, -4.36870002746582, -4.893400192260742, -4.2104997634887695, -4.595799922943115, -4.362500190734863, -4.553400039672852, -4.872799873352051, -4.480899810791016, -4.597799777984619, -3.649399995803833, -4.583799839019775, -4.914899826049805, -4.8541998863220215, -4.964000225067139, -4.618000030517578, -6.1666998863220215, -5.674900054931641, -6.153900146484375, -5.66540002822876, -5.51609992980957, -5.997200012207031, -5.39739990234375, -6.658599853515625, -6.6809000968933105, -6.123700141906738, -6.4105000495910645, -6.674900054931641, -6.492700099945068, -6.571700096130371, -4.768700122833252, -6.259200096130371, -3.6910998821258545, -6.117300033569336, -3.875200033187866, -6.89300012588501, -5.8993000984191895, -6.554500102996826, -6.182000160217285, -5.301400184631348, -5.841800212860107, -6.3282999992370605, -6.205399990081787, -5.344799995422363, -6.763199806213379, -5.546899795532227, -4.56820011138916, -5.665599822998047, -3.5571999549865723, -5.049600124359131, -4.881199836730957, -4.939199924468994, -2.0592000484466553, -5.3755998611450195, -4.838200092315674, -4.041600227355957, -4.960400104522705, -5.322500228881836, -5.43120002746582, -4.590700149536133, -4.519999980926514, -3.986599922180176, -2.8877999782562256, -4.471499919891357, -4.328000068664551, -5.128499984741211, -4.251100063323975, -4.372700214385986, -4.718900203704834, -4.796299934387207, -4.144499778747559, -4.365900039672852, -4.865200042724609, -4.688899993896484, -4.451900005340576, -4.778600215911865, -4.697800159454346, -4.992800235748291, -3.662899971008301, -3.4330999851226807, -5.827499866485596, -4.627900123596191, -5.1834001541137695, -6.141499996185303, -3.281599998474121, -5.725900173187256, -6.089399814605713, -3.1445999145507812, -5.928899765014648, -4.980899810791016, -5.2947998046875, -5.595799922943115, -3.831700086593628, -3.8345999717712402, -6.303299903869629, -3.8125998973846436, -6.8206000328063965, -3.8243000507354736, -5.543799877166748, -5.311200141906738, -6.006400108337402, -5.235400199890137, -6.0584001541137695, -6.262499809265137, -5.4028000831604, -5.273200035095215, -6.002699851989746, -6.051400184631348, -5.714700222015381, -2.8134000301361084, -4.394700050354004, -3.141900062561035, -4.014100074768066, -5.13100004196167, -4.480800151824951, -5.445000171661377, -4.100500106811523, -4.619800090789795, -4.267899990081787, -3.3341000080108643, -3.467900037765503, -4.333000183105469, -5.00029993057251, -4.964799880981445, -4.7829999923706055, -4.831299781799316, -5.151599884033203, -5.217599868774414, -5.351200103759766, -5.519999980926514, -4.260700225830078, -4.8140997886657715, -6.2515997886657715, -5.1118998527526855, -4.291100025177002, -3.0683000087738037, -5.707600116729736, -5.546599864959717, -4.1921000480651855, -4.719900131225586, -5.374000072479248, -5.84630012512207, -5.846799850463867, -5.783599853515625, -4.795000076293945, -3.545099973678589, -5.216899871826172, -5.096199989318848, -5.375699996948242, -6.525199890136719, -5.401899814605713, -5.987100124359131, -4.951900005340576, -6.244200229644775, -5.192299842834473, -5.4019999504089355, -6.129899978637695, -5.021399974822998, -4.907100200653076, -5.125500202178955, -3.7235000133514404, -5.2617998123168945, -4.587299823760986, -4.496500015258789, -3.8445000648498535, -4.217199802398682, -4.126299858093262, -4.069900035858154, -4.178899765014648, -3.4268999099731445, -4.6433000564575195, -4.258999824523926, -4.233699798583984, -4.225299835205078, -4.6107001304626465, -4.237100124359131, -4.845300197601318, -3.691499948501587, -3.9038000106811523, -4.554200172424316, -4.756199836730957, -4.646200180053711], \"Term\": [\"order\", \"notice\", \"send\", \"serve\", \"redact_deadline\", \"abovecaptioned\", \"official_notice_give\", \"notice_appearance\", \"redaction\", \"request\", \"official_conference\", \"deposition\", \"calendar\", \"without_redaction_calendar\", \"view_public_terminal_purchase\", \"remotely_electronically_available_public\", \"deadline_release\", \"hold\", \"discovery\", \"complaint\", \"conference\", \"motion\", \"conference_hold\", \"release\", \"endorsed_letter_address\", \"terminate\", \"telephone_conference\", \"dismiss\", \"rule\", \"affidavit_service_summons\", \"notice_reassignment\", \"conference_call\", \"civil_cover_sheet\", \"accept\", \"endorsement_application_grant\", \"liability_complaint\", \"adopt\", \"service\", \"fee\", \"well\", \"refile\", \"proceed\", \"dismiss..\", \"relief\", \"memo_endorsement\", \"notice_adoption_answer\", \"merrill\", \"pro_se\", \"inc.\", \"dismiss\", \"stipulate\", \"reconsideration\", \"instruction\", \"effect\", \"usca_number\", \"say\", \"ambassador\", \"electronic_filing\", \"judgment_favor\", \"objection\", \"longer_assigned\", \"initiate\", \"judgment\", \"response_due\", \"order\", \"amend_complaint\", \"memorandum_law_opposition\", \"opposition\", \"summary_judgment\", \"motion\", \"rule\", \"letter\", \"due\", \"declaration_support\", \"deny\", \"withdraw\", \"support\", \"hold\", \"stipulation\", \"revise_schedule\", \"schedule\", \"notice\", \"brief\", \"answer\", \"memorandum_law_support\", \"complaint\", \"request\", \"conference_hold\", \"issue\", \"grant\", \"redact_deadline\", \"notice_appearance\", \"rule_certificate\", \"note_manually_refile\", \"united_state_courthouse_pearl\", \"pro_hac_vice\", \"application_grant\", \"member\", \"partial_summary_judgment\", \"summary_judgment..\", \"notice_appeal_certify\", \"incorrectly\", \"name\", \"unredacted\", \"prejudice\", \"terminate\", \"contempt\", \"declaration_opposition\", \"cancel\", \"counter_rule\", \"l.p..\", \"trial\", \"week\", \"officer\", \"united_state\", \"address_jr.\", \"endorse\", \"conference\", \"inform\", \"release\", \"extend\", \"consent\", \"discovery\", \"response\", \"motion\", \"reschedule\", \"york\", \"complaint\", \"minute_entry_hold_telephone\", \"support\", \"request\", \"deadline\", \"withdraw\", \"stipulation\", \"leave\", \"letter\", \"answer\", \"conference_hold\", \"endorsed_letter_address\", \"declaration_support\", \"schedule\", \"grant\", \"order\", \"dismiss\", \"summary_judgment\", \"due\", \"notice\", \"serve_answer_due\", \"answer_due_purs\", \"fax\", \"pretrial_conference_hold\", \"please\", \"setreset_deadline\", \"summons_issue\", \"discovery_complete\", \"discover\", \"service_accept_legal\", \"client\", \"stillwater_market_neutral_balentine\", \"corp..\", \"alternative_investment_sgr_spa\", \"final_judgment\", \"approve\", \"interrogatory\", \"redaction\", \"bar\", \"calendar\", \"service_execute\", \"u.s.c\", \"han_kook\", \"undersigned\", \"adjourn\", \"paragraph\", \"account\", \"mediation\", \"answer_due_answer_due\", \"appeal_bond\", \"ordered\", \"comply_discovery_ruling_conference\", \"however\", \"conference_hold\", \"note\", \"production\", \"appear_pro_hac_vice\", \"order\", \"default\", \"discovery_hear_hold\", \"endorsement\", \"extension\", \"event\", \"protective\", \"minute_entry_hold\", \"release\", \"due\", \"motion\", \"issue\", \"grant\", \"letter_address\", \"schedule\", \"discovery\", \"memorandum_law_support\", \"reply\", \"notice\", \"amend_complaint\", \"revise_schedule\", \"stipulation\", \"request\", \"answer\", \"letter\", \"conference\", \"official_conference\", \"official_notice_give\", \"deficiency\", \"disclosure\", \"conference_pm\", \"account_balentine_global_hedge\", \"abovecaptioned\", \"available\", \"wellington\", \"serve\", \"local_civil_rule\", \"official\", \"confidentiality\", \"hearing\", \"view_public_terminal_purchase\", \"deadline_release\", \"aim_exploration\", \"without_redaction_calendar\", \"oral_argument_pm\", \"remotely_electronically_available_public\", \"courtroom_pearl_street_new\", \"represent\", \"supplemental_amend\", \"period\", \"status_conference_hold\", \"withdrawal\", \"call\", \"certificate_service\", \"dispositive\", \"contact\", \"could\", \"notice\", \"propose\", \"request\", \"endorsed_letter_address\", \"declaration\", \"reply\", \"section\", \"discovery\", \"revise_schedule\", \"schedule\", \"motion\", \"order\", \"amend_complaint\", \"produce\", \"opposition\", \"grant\", \"conference\", \"letter\", \"leave\", \"correction\", \"thk\", \"affidavit_service_summons\", \"previously\", \"rule_deposition_objection\", \"agent\", \"disclose\", \"send\", \"g.c\", \"dated\", \"telephone_conference\", \"agree\", \"state\", \"magnum_growth_magnum_special\", \"hedge_strategy_ibex_absolute\", \"offer\", \"respectfully_request\", \"deposition\", \"resolution\", \"a.m\", \"limit\", \"new_york_observer\", \"without\", \"occur\", \"intend\", \"jr\", \"indicate\", \"pm\", \"assign\", \"testimony\", \"need\", \"upon\", \"hold\", \"permission\", \"report\", \"respond\", \"complaint\", \"calendar\", \"rule\", \"endorsed_letter_address\", \"redaction\", \"notice\", \"comply_discovery_ruling_conference\", \"endorsement\", \"grant\", \"due\", \"reply\", \"letter\", \"produce\", \"motion\", \"order\", \"request\", \"issue\", \"amend_complaint\"]}, \"token.table\": {\"Freq\": [0.06486948081816497, 0.12973896163632995, 0.22704318286357741, 0.03243474040908249, 0.5513905869544022, 0.028369604800278215, 0.12766322160125199, 0.014184802400139107, 0.7588869284074423, 0.07092401200069554, 0.8700581620941075, 0.04833656456078375, 0.04833656456078375, 0.16176487374601772, 0.08088243687300886, 0.6470594949840709, 0.08088243687300886, 0.08088243687300886, 0.12881632664931925, 0.7728979598959154, 0.20714061599504582, 0.6214218479851374, 0.10357030799752291, 0.10357030799752291, 0.10357030799752291, 0.02962471971092735, 0.0592494394218547, 0.6517438336404017, 0.02962471971092735, 0.2369977576874188, 0.8767603475219824, 0.07306336229349854, 0.07306336229349854, 0.06383951160275327, 0.021279837200917757, 0.042559674401835515, 0.06383951160275327, 0.8299136508357925, 0.178017747690004, 0.044504436922501, 0.044504436922501, 0.7565754276825171, 0.17498731827814498, 0.024998188325449283, 0.19998550660359427, 0.6249547081362321, 0.2135911796415374, 0.1067955898207687, 0.1067955898207687, 0.5339779491038434, 0.10981584448940963, 0.7687109114258674, 0.10981584448940963, 0.8014204136626875, 0.11448863052324106, 0.11448863052324106, 0.5969922401260128, 0.03125613822649282, 0.1719087602457105, 0.11564771143802344, 0.08126595938888133, 0.39633787053119, 0.2812720371511671, 0.23652421305893598, 0.07671055558668194, 0.006392546298890162, 0.11853762289658702, 0.2667096515173208, 0.6223225202070819, 0.8772609519870401, 0.24421165423627894, 0.6105291355906973, 0.12210582711813947, 0.052457745656105365, 0.3846901348114393, 0.5420633717797554, 0.825967345882991, 0.10324591823537388, 0.10324591823537388, 0.1352127226827921, 0.038632206480797744, 0.7146958198947582, 0.09658051620199436, 0.4051894823560923, 0.08103789647121845, 0.08103789647121845, 0.48622737882731076, 0.07991875547421577, 0.07991875547421577, 0.7192687992679418, 0.07991875547421577, 0.07224338634038147, 0.7224338634038147, 0.07224338634038147, 0.21673015902114443, 0.5390633019139955, 0.16297262616004515, 0.025072711716930027, 0.10029084686772011, 0.16297262616004515, 0.014867179948791958, 0.007433589974395979, 0.6764566876700341, 0.007433589974395979, 0.30477718895023515, 0.35303423035928044, 0.03530342303592804, 0.03530342303592804, 0.45894449946706456, 0.10591026910778413, 0.06944587816743579, 0.6944587816743579, 0.06944587816743579, 0.06944587816743579, 0.06944587816743579, 0.18152867040959314, 0.1512738920079943, 0.24203822721279086, 0.4538216760239829, 0.8696708991408347, 0.08696708991408347, 0.07989812843205112, 0.7989812843205112, 0.07989812843205112, 0.29579874895594926, 0.37771224866682757, 0.05460899980725217, 0.009101499967875362, 0.2684942490523232, 0.012866929276870864, 0.012866929276870864, 0.5790118174591888, 0.06433464638435432, 0.3474070904755133, 0.1350237631018435, 0.6076069339582957, 0.12658477790797829, 0.09704832972945, 0.03797543337239348, 0.9081595069184197, 0.034929211804554605, 0.06985842360910921, 0.2294394914376529, 0.2294394914376529, 0.5121417219590467, 0.020485668878361868, 0.01229140132701712, 0.1012008398935503, 0.8096067191484024, 0.05060041994677515, 0.1731577586210133, 0.04328943965525332, 0.04328943965525332, 0.6060521551735466, 0.08657887931050665, 0.12100136731192854, 0.5747564947316606, 0.21175239279587493, 0.06050068365596427, 0.06050068365596427, 0.2589051894397861, 0.12945259471989304, 0.4530840815196257, 0.12945259471989304, 0.23600445419759106, 0.7080133625927731, 0.11800222709879553, 0.1334913080613938, 0.800947848368363, 0.1334913080613938, 0.0655606580890552, 0.0655606580890552, 0.8522885551577175, 0.4590133794471249, 0.04590133794471249, 0.04590133794471249, 0.4131120415024124, 0.04590133794471249, 0.07891894466093438, 0.631351557287475, 0.15783788932186876, 0.46266298890690283, 0.508929287797593, 0.30384611654641464, 0.06076922330928293, 0.6684614564021122, 0.21149248404652435, 0.4105442337373708, 0.13684807791245693, 0.024881468711355804, 0.22393321840220226, 0.2904561515822005, 0.1218041925989873, 0.009369553276845176, 0.5715427498875558, 0.009369553276845176, 0.31623321040885893, 0.18973992624531538, 0.08432885610902906, 0.35839763846337347, 0.06324664208177179, 0.2477302712261875, 0.6812582458720156, 0.06193256780654687, 0.015483141951636718, 0.5569065076957078, 0.3054003429299043, 0.02694708908205038, 0.06287654119145089, 0.06287654119145089, 0.0282180130668764, 0.282180130668764, 0.564360261337528, 0.1128720522675056, 0.10110677305164001, 0.8088541844131201, 0.556789641439689, 0.224511952193423, 0.11674621514057995, 0.08082430278963228, 0.017960956175473837, 0.25712348867186613, 0.055594267820944024, 0.13203638607474205, 0.5559426782094402, 0.09071692486392904, 0.01814338497278581, 0.10886030983671485, 0.09071692486392904, 0.6894486289658608, 0.060552899359394056, 0.09082934903909108, 0.8477405910315168, 0.8229096231990023, 0.13715160386650038, 0.09098871198066207, 0.49285552322858617, 0.20851579828901723, 0.17818622762879655, 0.030329570660220687, 0.07941305147566065, 0.7941305147566065, 0.039706525737830324, 0.07941305147566065, 0.3817569903684272, 0.10278072817611501, 0.513903640880575, 0.7765737071476975, 0.12304865078044502, 0.03554738800323967, 0.03554738800323967, 0.02734414461787667, 0.82665091351729, 0.10598088634837052, 0.021196177269674103, 0.042392354539348205, 0.021196177269674103, 0.18534787283200407, 0.37069574566400815, 0.4324783699413428, 0.46180908331281384, 0.11296049519881778, 0.2691117679736541, 0.023256572540933072, 0.13289470023390326, 0.7622318591178577, 0.0896743363668068, 0.0448371681834034, 0.0448371681834034, 0.0448371681834034, 0.7681971477860828, 0.1920492869465207, 0.04801232173663018, 0.07811447991012362, 0.6249158392809889, 0.03905723995506181, 0.31245791964049446, 0.13748944909861885, 0.2529805863414587, 0.06599493556733704, 0.28047847616118243, 0.25848016430540344, 0.19204932762249033, 0.16004110635207527, 0.41077217297032653, 0.032008221270415055, 0.20805343825769784, 0.8827341316399997, 0.10653687795655169, 0.12770095762473035, 0.22986172372451466, 0.5363440220238676, 0.025540191524946073, 0.07662057457483822, 0.15536186297936805, 0.5696601642576828, 0.025893643829894675, 0.012946821914947337, 0.23304279446905207, 0.2585796826142205, 0.21009599212405414, 0.5009981350650522, 0.01616123016338878, 0.01616123016338878, 0.11439284779862662, 0.8579463584896996, 0.849524985163442, 0.0424762492581721, 0.0424762492581721, 0.0849524985163442, 0.23753415024308835, 0.7126024507292651, 0.2891415995905633, 0.6505685990787674, 0.213333563591632, 0.20859281773404018, 0.27496325974032565, 0.11377790058220373, 0.1896298343036729, 0.31727200862435895, 0.6345440172487179, 0.22244681699923213, 0.05561170424980803, 0.11122340849961607, 0.6117287467478884, 0.36124268577951363, 0.5779882972472218, 0.45278014233729447, 0.05361870106625855, 0.02978816725903253, 0.07149160142167807, 0.39916144127103587, 0.11986095880035125, 0.5993047940017562, 0.1997682646672521, 0.07990730586690083, 0.7597801011059386, 0.05844462316199528, 0.05844462316199528, 0.05844462316199528, 0.11688924632399056, 0.13804093379675184, 0.6902046689837592, 0.13804093379675184, 0.22971563333815528, 0.06563303809661579, 0.16408259524153948, 0.49224778572461847, 0.13484541422280946, 0.6068043640026426, 0.06742270711140473, 0.06742270711140473, 0.13484541422280946, 0.7267953731076626, 0.06056628109230522, 0.18169884327691566, 0.03028314054615261, 0.7610381112096956, 0.10377792425586757, 0.034592641418622526, 0.034592641418622526, 0.06918528283724505, 0.26153518801714615, 0.05230703760342923, 0.026153518801714615, 0.13076759400857307, 0.49691685723257767, 0.16888127472092007, 0.08444063736046004, 0.6755250988836803, 0.31793967171825366, 0.15234609269832988, 0.3311871580398476, 0.03974245896478171, 0.15896983585912683, 0.09414453248233397, 0.37657812992933587, 0.4707226624116698, 0.6891527854938296, 0.06501441372583298, 0.013002882745166597, 0.05201153098066639, 0.18204035843233235, 0.7365424880498851, 0.07365424880498851, 0.07365424880498851, 0.07365424880498851, 0.05336292855111859, 0.6403551426134231, 0.16008878565335577, 0.05336292855111859, 0.24035046942131535, 0.36052570413197305, 0.17480034139732026, 0.16387532005998773, 0.05462510668666258, 0.4669643513287256, 0.21526725415863235, 0.1324721564053122, 0.052988862562124886, 0.1324721564053122, 0.2095311312344961, 0.08730463801437337, 0.4539841176747415, 0.24445298644024543, 0.017460927602874675, 0.9072798436624872, 0.09072798436624872, 0.3386565220297696, 0.0423320652537212, 0.0423320652537212, 0.0423320652537212, 0.5503168482983756, 0.09046783971053525, 0.1809356794210705, 0.723742717684282, 0.7260779080245784, 0.036303895401228914, 0.1815194770061446, 0.36134409611391716, 0.5781505537822674, 0.14271888576798114, 0.6422349859559152, 0.14271888576798114, 0.07326380882234633, 0.8059018970458097, 0.14652761764469266, 0.8224778175884487, 0.09791402590338676, 0.019582805180677353, 0.019582805180677353, 0.058748415542032056, 0.6597387017734121, 0.15462625822814346, 0.06185050329125738, 0.1133925893673052, 0.020616834430419128, 0.4155577840051598, 0.14329578758798614, 0.279426785796573, 0.02865915751759723, 0.13613099820858685, 0.8023993377448909, 0.10029991721811136, 0.10029991721811136, 0.25490071543135573, 0.19337295653413195, 0.3867459130682639, 0.08789679842460543, 0.07031743873968434, 0.13362209559602006, 0.4843800965355727, 0.36746076288905516, 0.016702761949502508, 0.4490560214212288, 0.3007828068010117, 0.14706282103148058, 0.06112487623119152, 0.04175857881140807, 0.06827638771913362, 0.6827638771913362, 0.06827638771913362, 0.13655277543826724, 0.06827638771913362, 0.07030339107150832, 0.39838588273854714, 0.04686892738100555, 0.023434463690502776, 0.4686892738100555, 0.2639622442421581, 0.13198112212107904, 0.5279244884843162, 0.10008752733711875, 0.080070021869695, 0.560490153087865, 0.1201050328045425, 0.14012253827196625, 0.7718093297803559, 0.12863488829672598, 0.28964372274177475, 0.061081329285680386, 0.13595521679715958, 0.33693249380165635, 0.17536252601372757, 0.8228804002450392, 0.05877717144607422, 0.05877717144607422, 0.05877717144607422, 0.7384139313635649, 0.10548770448050929, 0.10548770448050929, 0.10548770448050929, 0.020059716681690747, 0.8893141062216231, 0.06686572227230249, 0.006686572227230249, 0.013373144454460499, 0.9152978829650928, 0.03520376472942665, 0.7528946356982545, 0.05377818826416104, 0.1344454706604026, 0.05377818826416104, 0.149789099789329, 0.0748945498946645, 0.22468364968399349, 0.0748945498946645, 0.5242618492626515, 0.2705911847214133, 0.06764779618035333, 0.06764779618035333, 0.5411823694428266, 0.06995481531319164, 0.6295933378187248, 0.13990963062638329, 0.06995481531319164, 0.13990963062638329, 0.7007727033329342, 0.28030908133317367, 0.9728522984185936, 0.013326743813953337, 0.9060565403926094, 0.07878752525153125, 0.6506265622072753, 0.06296386085876858, 0.06296386085876858, 0.20987953619589528, 0.010493976809794765, 0.3526753747482979, 0.5290130621224469, 0.5174429995851902, 0.06749256516328568, 0.3297663052276327, 0.05269156403098619, 0.03315424253635086, 0.2529568600070092, 0.6143238028741652, 0.0722733885734312, 0.0722733885734312, 0.10139217688393955, 0.050696088441969774, 0.659049149745607, 0.15208826532590933, 0.050696088441969774, 0.7560884985804301, 0.0889515880682859, 0.0889515880682859, 0.0889515880682859, 0.32841580884922345, 0.06568316176984468, 0.06568316176984468, 0.49262371327383514, 0.06568316176984468, 0.3909488434190929, 0.03257907028492441, 0.06515814056984882, 0.06515814056984882, 0.4561069839889418, 0.05325593670990977, 0.7988390506486465, 0.05325593670990977, 0.05325593670990977, 0.1581083271339966, 0.03952708178349915, 0.0790541635669983, 0.19763540891749576, 0.47432498140198986, 0.2792783683268618, 0.6981959208171545, 0.09117892570907768, 0.820610331381699, 0.10421620259285808, 0.03473873419761936, 0.03473873419761936, 0.03473873419761936, 0.7642521523476259, 0.06977828651835652, 0.8373394382202781, 0.06977828651835652, 0.06977828651835652, 0.828150383331907, 0.0828150383331907, 0.0828150383331907, 0.0828150383331907, 0.8430592947001254, 0.025547251354549258, 0.025547251354549258, 0.07664175406364777, 0.051094502709098516, 0.2648833065635481, 0.05576490664495749, 0.11152981328991499, 0.2648833065635481, 0.30670698654726625, 0.23187408054066871, 0.1656243432433348, 0.5465603327030049, 0.04968730297300044, 0.01656243432433348, 0.23692788276414944, 0.12923339059862696, 0.07538614451586573, 0.37693072257932864, 0.17231118746483595, 0.02857558426644064, 0.02857558426644064, 0.5429361010623722, 0.08572675279932193, 0.2857558426644064, 0.7608456613605643, 0.2002225424633064, 0.04004450849266128, 0.007689507528252071, 0.9765674560880131, 0.007689507528252071, 0.007689507528252071, 0.007689507528252071, 0.012901242492967892, 0.006450621246483946, 0.7031177158667502, 0.006450621246483946, 0.27092609235232573, 0.8220911961480275, 0.054806079743201834, 0.054806079743201834, 0.015559767717354837, 0.5990510571181612, 0.3734344252165161, 0.007779883858677419, 0.007779883858677419, 0.8213574172660443, 0.0966302843842405, 0.04831514219212025, 0.20226033220093934, 0.2374360421489288, 0.5452235041938365, 0.008793927486997363, 0.12384454013057566, 0.09081932942908882, 0.2972268963133816, 0.2642016856118948, 0.2229201722350362, 0.15947416702340805, 0.1159812123806604, 0.13047886392824296, 0.17397181857099062, 0.40593424333231143, 0.146362888879802, 0.2561350555396535, 0.073181444439901, 0.512270111079307, 0.189603887239392, 0.2831071740971744, 0.1324629897151917, 0.3194695634307564, 0.07532209219099135, 0.0945472401183919, 0.5436466306807535, 0.023636810029597975, 0.14182086017758785, 0.1890944802367838, 0.2583050134968335, 0.18450358106916678, 0.5535107432075004, 0.04981131533884275, 0.07471697300826412, 0.29886789203305647, 0.5728301263966916, 0.20606203214150431, 0.20606203214150431, 0.1931831551326603, 0.01287887700884402, 0.39924518727416464, 0.1989062983866204, 0.47737511612788897, 0.20885161330595142, 0.07956251935464816, 0.0497265745966551, 0.7095619942594656, 0.22807349815482825, 0.05068299958996183, 0.4855681954775117, 0.2798189601056847, 0.2304391436164462, 0.5767944110670363, 0.0910728017474268, 0.012143040232990239, 0.05464368104845608, 0.26714688512578527, 0.8451885182942703, 0.12074121689918148, 0.14169825876881315, 0.7084912938440657, 0.7780201851260133, 0.05557287036614381, 0.05557287036614381, 0.05557287036614381, 0.05557287036614381, 0.3660974161932775, 0.18678439601697833, 0.23161265106105314, 0.14942751681358266, 0.0672423825661122, 0.15327488696844443, 0.39851470611795553, 0.36785972872426664, 0.061309954787377774, 0.07454454894483789, 0.12779065533400782, 0.10649221277833984, 0.010649221277833984, 0.681550161781375, 0.15092087146880703, 0.12297256193754647, 0.02794830953126056, 0.6875284144690098, 0.011179323812504223, 0.021319395300239827, 0.021319395300239827, 0.9167339979103125, 0.021319395300239827, 0.021319395300239827, 0.8499442189990047, 0.035414342458291864, 0.10624302737487559, 0.017707171229145932, 0.1396874204012784, 0.698437102006392, 0.6014651854912582, 0.15036629637281454, 0.18273452086360775, 0.8223053438862349, 0.18136015547428444, 0.09068007773714222, 0.09068007773714222, 0.04534003886857111, 0.5894205052914244, 0.21544480799657262, 0.07181493599885753, 0.14362987199771507, 0.5027045519920027, 0.07181493599885753, 0.10363576912665869, 0.7254503838866109, 0.10363576912665869, 0.7708119324239386, 0.08113809814988827, 0.1217071472248324, 0.42505521243501615, 0.2833701416233441, 0.20240724401667434, 0.015180543301250576, 0.08096289760666973, 0.6126987012727856, 0.22536044184746137, 0.042255082846399006, 0.06338262426959851, 0.05634011046186534, 0.14080222522914845, 0.7392116824530294, 0.07040111261457423, 0.03520055630728711, 0.14540146218688343, 0.799708042027859, 0.07270073109344172, 0.42693418281974027, 0.07115569713662338, 0.49808987995636367, 0.4788530610315908, 0.3709425120667253, 0.06744409310304096, 0.053955274482432765, 0.026977637241216382, 0.31391933336041966, 0.014948539683829507, 0.029897079367659014, 0.014948539683829507, 0.6278386667208393, 0.25542646822003134, 0.6782013121704281, 0.05284685549379959, 0.008807809248966599, 0.13165882824614034, 0.10532706259691228, 0.10532706259691228, 0.1843223595445965, 0.47397178168610526, 0.07644100468513972, 0.07644100468513972, 0.8408510515365368, 0.13660281086535422, 0.6439846797938128, 0.1561174981318334, 0.03902937453295835, 0.019514687266479175, 0.1665088790502163, 0.055502959683405434, 0.6660355162008652, 0.11100591936681087, 0.14419213567639536, 0.07209606783819768, 0.6488646105437791, 0.14419213567639536, 0.2626939750133464, 0.656734937533366, 0.0656734937533366, 0.0656734937533366, 0.07770571417618827, 0.7770571417618827, 0.07770571417618827, 0.07770571417618827, 0.202484643942035, 0.7086962537971225, 0.05062116098550875, 0.05062116098550875, 0.05062116098550875, 0.11326591715600443, 0.11326591715600443, 0.22653183431200885, 0.05663295857800221, 0.4530636686240177, 0.7519608631194923, 0.18799021577987307, 0.2906691349830182, 0.12189350821868505, 0.5813382699660364, 0.08614382481755528, 0.6460786861316646, 0.2153595620438882, 0.04307191240877764, 0.04307191240877764, 0.8574171974626912, 0.07794701795115375, 0.10801380827112612, 0.6480828496267568, 0.10801380827112612, 0.48772850129147743, 0.3103726826400311, 0.019002409141226393, 0.08867790932572317, 0.09501204570613198, 0.08727309606667, 0.43636548033335, 0.34909238426668, 0.2517468133382538, 0.1258734066691269, 0.0839156044460846, 0.0419578022230423, 0.5034936266765077, 0.20260831146070954, 0.008809057020030849, 0.22903548252080208, 0.5549705922619436, 0.061820880662509965, 0.5563879259625897, 0.030910440331254983, 0.3709252839750598], \"Topic\": [1, 2, 3, 4, 5, 1, 2, 3, 4, 5, 1, 2, 4, 1, 2, 3, 4, 5, 1, 4, 1, 2, 3, 4, 5, 1, 2, 3, 4, 5, 1, 2, 3, 1, 2, 3, 4, 5, 1, 3, 4, 5, 1, 2, 4, 5, 1, 2, 3, 4, 1, 3, 4, 1, 2, 5, 1, 2, 3, 4, 5, 1, 2, 3, 4, 5, 1, 2, 3, 3, 2, 3, 4, 1, 2, 3, 2, 3, 5, 1, 2, 3, 4, 1, 2, 3, 5, 2, 3, 4, 5, 2, 3, 4, 5, 1, 2, 3, 4, 5, 1, 2, 3, 4, 5, 1, 2, 3, 4, 5, 1, 2, 3, 4, 5, 1, 2, 3, 4, 1, 4, 2, 3, 4, 1, 2, 3, 4, 5, 1, 2, 3, 4, 5, 1, 2, 3, 4, 5, 1, 4, 5, 1, 2, 3, 4, 5, 1, 4, 5, 1, 2, 3, 4, 5, 1, 2, 3, 4, 5, 1, 3, 4, 5, 1, 2, 4, 2, 3, 4, 1, 3, 5, 1, 2, 3, 4, 5, 1, 2, 3, 2, 4, 1, 3, 5, 1, 2, 3, 4, 5, 1, 2, 3, 4, 5, 1, 2, 3, 4, 5, 1, 2, 3, 4, 1, 2, 3, 4, 5, 1, 2, 3, 4, 3, 4, 1, 2, 3, 4, 5, 1, 2, 3, 5, 1, 2, 3, 4, 5, 2, 3, 4, 3, 4, 1, 2, 3, 4, 5, 2, 3, 4, 5, 1, 2, 3, 1, 2, 3, 4, 5, 1, 2, 3, 4, 5, 2, 3, 4, 1, 2, 3, 4, 5, 1, 2, 3, 4, 5, 1, 3, 4, 1, 2, 4, 5, 1, 2, 3, 4, 5, 1, 2, 3, 4, 5, 1, 2, 1, 2, 3, 4, 5, 1, 2, 3, 4, 5, 1, 2, 3, 4, 5, 1, 3, 1, 2, 4, 5, 1, 3, 2, 5, 1, 2, 3, 4, 5, 2, 3, 1, 2, 3, 4, 1, 5, 1, 2, 3, 4, 5, 1, 3, 4, 5, 1, 2, 3, 4, 5, 1, 2, 3, 1, 2, 4, 5, 1, 2, 3, 4, 5, 1, 2, 4, 5, 1, 2, 3, 4, 5, 1, 2, 3, 4, 5, 1, 2, 3, 1, 2, 3, 4, 5, 2, 3, 5, 1, 2, 3, 4, 5, 1, 3, 4, 5, 1, 2, 3, 4, 1, 2, 3, 4, 5, 1, 2, 3, 4, 5, 1, 2, 3, 4, 5, 1, 5, 1, 2, 3, 4, 5, 1, 2, 4, 1, 2, 4, 1, 5, 1, 3, 4, 1, 2, 5, 1, 2, 3, 4, 5, 1, 2, 3, 4, 5, 1, 2, 3, 4, 5, 1, 4, 5, 1, 2, 3, 4, 5, 1, 2, 3, 4, 1, 2, 3, 4, 5, 1, 2, 3, 4, 5, 1, 2, 3, 4, 5, 1, 2, 5, 1, 2, 3, 4, 5, 2, 3, 1, 2, 3, 4, 5, 1, 2, 3, 5, 2, 3, 4, 5, 1, 2, 3, 4, 5, 1, 4, 1, 2, 3, 4, 1, 2, 3, 4, 5, 1, 3, 4, 5, 1, 2, 3, 4, 5, 4, 5, 4, 5, 4, 5, 1, 2, 3, 4, 5, 3, 4, 1, 2, 3, 4, 5, 1, 3, 4, 5, 1, 2, 3, 4, 5, 2, 3, 4, 5, 1, 2, 3, 4, 5, 1, 2, 3, 4, 5, 2, 3, 4, 5, 1, 2, 3, 4, 5, 1, 2, 1, 3, 1, 2, 3, 4, 5, 1, 2, 3, 5, 1, 2, 4, 5, 1, 2, 3, 4, 5, 1, 2, 3, 4, 5, 1, 2, 3, 4, 5, 1, 2, 3, 4, 5, 1, 2, 3, 4, 5, 1, 3, 4, 1, 2, 3, 4, 5, 1, 2, 3, 4, 5, 1, 2, 4, 1, 2, 3, 4, 5, 1, 3, 5, 1, 3, 4, 5, 1, 2, 3, 4, 5, 1, 2, 3, 4, 5, 1, 2, 3, 4, 1, 2, 3, 4, 5, 1, 2, 3, 4, 5, 1, 4, 5, 1, 2, 4, 5, 1, 2, 3, 4, 5, 1, 2, 3, 4, 5, 1, 3, 5, 1, 3, 4, 1, 2, 3, 4, 5, 2, 4, 4, 5, 1, 2, 3, 4, 5, 1, 2, 3, 4, 5, 1, 3, 4, 5, 1, 2, 3, 4, 5, 1, 2, 3, 4, 5, 1, 2, 3, 4, 5, 1, 2, 3, 4, 1, 3, 3, 4, 2, 3, 1, 2, 3, 4, 5, 1, 2, 3, 4, 5, 1, 3, 4, 1, 2, 5, 1, 2, 3, 4, 5, 1, 2, 3, 4, 5, 1, 2, 3, 4, 1, 3, 4, 2, 3, 4, 1, 2, 3, 4, 5, 1, 2, 3, 4, 5, 1, 2, 3, 5, 1, 2, 3, 4, 5, 2, 4, 5, 1, 2, 3, 4, 5, 1, 2, 3, 5, 1, 2, 3, 5, 1, 2, 4, 5, 1, 2, 3, 4, 1, 2, 3, 4, 5, 1, 2, 3, 4, 5, 1, 4, 1, 2, 4, 1, 2, 3, 4, 5, 1, 3, 3, 4, 5, 1, 2, 3, 4, 5, 2, 4, 5, 1, 2, 3, 4, 5, 1, 2, 3, 4, 1, 2, 3, 4], \"Term\": [\"a.m\", \"a.m\", \"a.m\", \"a.m\", \"a.m\", \"abovecaptioned\", \"abovecaptioned\", \"abovecaptioned\", \"abovecaptioned\", \"abovecaptioned\", \"accept\", \"accept\", \"accept\", \"account\", \"account\", \"account\", \"account\", \"account\", \"account_balentine_global_hedge\", \"account_balentine_global_hedge\", \"address_jr.\", \"address_jr.\", \"address_jr.\", \"address_jr.\", \"address_jr.\", \"adjourn\", \"adjourn\", \"adjourn\", \"adjourn\", \"adjourn\", \"adopt\", \"adopt\", \"adopt\", \"affidavit_service_summons\", \"affidavit_service_summons\", \"affidavit_service_summons\", \"affidavit_service_summons\", \"affidavit_service_summons\", \"agent\", \"agent\", \"agent\", \"agent\", \"agree\", \"agree\", \"agree\", \"agree\", \"aim_exploration\", \"aim_exploration\", \"aim_exploration\", \"aim_exploration\", \"alternative_investment_sgr_spa\", \"alternative_investment_sgr_spa\", \"alternative_investment_sgr_spa\", \"ambassador\", \"ambassador\", \"ambassador\", \"amend_complaint\", \"amend_complaint\", \"amend_complaint\", \"amend_complaint\", \"amend_complaint\", \"answer\", \"answer\", \"answer\", \"answer\", \"answer\", \"answer_due_answer_due\", \"answer_due_answer_due\", \"answer_due_answer_due\", \"answer_due_purs\", \"appeal_bond\", \"appeal_bond\", \"appeal_bond\", \"appear_pro_hac_vice\", \"appear_pro_hac_vice\", \"appear_pro_hac_vice\", \"application_grant\", \"application_grant\", \"application_grant\", \"approve\", \"approve\", \"approve\", \"approve\", \"assign\", \"assign\", \"assign\", \"assign\", \"available\", \"available\", \"available\", \"available\", \"bar\", \"bar\", \"bar\", \"bar\", \"brief\", \"brief\", \"brief\", \"brief\", \"brief\", \"calendar\", \"calendar\", \"calendar\", \"calendar\", \"calendar\", \"call\", \"call\", \"call\", \"call\", \"call\", \"cancel\", \"cancel\", \"cancel\", \"cancel\", \"cancel\", \"certificate_service\", \"certificate_service\", \"certificate_service\", \"certificate_service\", \"civil_cover_sheet\", \"civil_cover_sheet\", \"client\", \"client\", \"client\", \"complaint\", \"complaint\", \"complaint\", \"complaint\", \"complaint\", \"comply_discovery_ruling_conference\", \"comply_discovery_ruling_conference\", \"comply_discovery_ruling_conference\", \"comply_discovery_ruling_conference\", \"comply_discovery_ruling_conference\", \"conference\", \"conference\", \"conference\", \"conference\", \"conference\", \"conference_call\", \"conference_call\", \"conference_call\", \"conference_hold\", \"conference_hold\", \"conference_hold\", \"conference_hold\", \"conference_hold\", \"conference_pm\", \"conference_pm\", \"conference_pm\", \"confidentiality\", \"confidentiality\", \"confidentiality\", \"confidentiality\", \"confidentiality\", \"consent\", \"consent\", \"consent\", \"consent\", \"consent\", \"contact\", \"contact\", \"contact\", \"contact\", \"contempt\", \"contempt\", \"contempt\", \"corp..\", \"corp..\", \"corp..\", \"correction\", \"correction\", \"correction\", \"could\", \"could\", \"could\", \"could\", \"could\", \"counter_rule\", \"counter_rule\", \"counter_rule\", \"courtroom_pearl_street_new\", \"courtroom_pearl_street_new\", \"dated\", \"dated\", \"dated\", \"deadline\", \"deadline\", \"deadline\", \"deadline\", \"deadline\", \"deadline_release\", \"deadline_release\", \"deadline_release\", \"deadline_release\", \"deadline_release\", \"declaration\", \"declaration\", \"declaration\", \"declaration\", \"declaration\", \"declaration_opposition\", \"declaration_opposition\", \"declaration_opposition\", \"declaration_opposition\", \"declaration_support\", \"declaration_support\", \"declaration_support\", \"declaration_support\", \"declaration_support\", \"default\", \"default\", \"default\", \"default\", \"deficiency\", \"deficiency\", \"deny\", \"deny\", \"deny\", \"deny\", \"deny\", \"deposition\", \"deposition\", \"deposition\", \"deposition\", \"disclose\", \"disclose\", \"disclose\", \"disclose\", \"disclose\", \"disclosure\", \"disclosure\", \"disclosure\", \"discover\", \"discover\", \"discovery\", \"discovery\", \"discovery\", \"discovery\", \"discovery\", \"discovery_complete\", \"discovery_complete\", \"discovery_complete\", \"discovery_complete\", \"discovery_hear_hold\", \"discovery_hear_hold\", \"discovery_hear_hold\", \"dismiss\", \"dismiss\", \"dismiss\", \"dismiss\", \"dismiss\", \"dismiss..\", \"dismiss..\", \"dismiss..\", \"dismiss..\", \"dismiss..\", \"dispositive\", \"dispositive\", \"dispositive\", \"due\", \"due\", \"due\", \"due\", \"due\", \"effect\", \"effect\", \"effect\", \"effect\", \"effect\", \"electronic_filing\", \"electronic_filing\", \"electronic_filing\", \"endorse\", \"endorse\", \"endorse\", \"endorse\", \"endorsed_letter_address\", \"endorsed_letter_address\", \"endorsed_letter_address\", \"endorsed_letter_address\", \"endorsed_letter_address\", \"endorsement\", \"endorsement\", \"endorsement\", \"endorsement\", \"endorsement\", \"endorsement_application_grant\", \"endorsement_application_grant\", \"event\", \"event\", \"event\", \"event\", \"event\", \"extend\", \"extend\", \"extend\", \"extend\", \"extend\", \"extension\", \"extension\", \"extension\", \"extension\", \"extension\", \"fax\", \"fax\", \"fee\", \"fee\", \"fee\", \"fee\", \"final_judgment\", \"final_judgment\", \"g.c\", \"g.c\", \"grant\", \"grant\", \"grant\", \"grant\", \"grant\", \"han_kook\", \"han_kook\", \"hearing\", \"hearing\", \"hearing\", \"hearing\", \"hedge_strategy_ibex_absolute\", \"hedge_strategy_ibex_absolute\", \"hold\", \"hold\", \"hold\", \"hold\", \"hold\", \"however\", \"however\", \"however\", \"however\", \"inc.\", \"inc.\", \"inc.\", \"inc.\", \"inc.\", \"incorrectly\", \"incorrectly\", \"incorrectly\", \"indicate\", \"indicate\", \"indicate\", \"indicate\", \"inform\", \"inform\", \"inform\", \"inform\", \"inform\", \"initiate\", \"initiate\", \"initiate\", \"initiate\", \"instruction\", \"instruction\", \"instruction\", \"instruction\", \"instruction\", \"intend\", \"intend\", \"intend\", \"intend\", \"intend\", \"interrogatory\", \"interrogatory\", \"interrogatory\", \"issue\", \"issue\", \"issue\", \"issue\", \"issue\", \"jr\", \"jr\", \"jr\", \"judgment\", \"judgment\", \"judgment\", \"judgment\", \"judgment\", \"judgment_favor\", \"judgment_favor\", \"judgment_favor\", \"judgment_favor\", \"l.p..\", \"l.p..\", \"l.p..\", \"l.p..\", \"leave\", \"leave\", \"leave\", \"leave\", \"leave\", \"letter\", \"letter\", \"letter\", \"letter\", \"letter\", \"letter_address\", \"letter_address\", \"letter_address\", \"letter_address\", \"letter_address\", \"liability_complaint\", \"liability_complaint\", \"limit\", \"limit\", \"limit\", \"limit\", \"limit\", \"local_civil_rule\", \"local_civil_rule\", \"local_civil_rule\", \"longer_assigned\", \"longer_assigned\", \"longer_assigned\", \"magnum_growth_magnum_special\", \"magnum_growth_magnum_special\", \"mediation\", \"mediation\", \"mediation\", \"member\", \"member\", \"member\", \"memo_endorsement\", \"memo_endorsement\", \"memo_endorsement\", \"memo_endorsement\", \"memo_endorsement\", \"memorandum_law_opposition\", \"memorandum_law_opposition\", \"memorandum_law_opposition\", \"memorandum_law_opposition\", \"memorandum_law_opposition\", \"memorandum_law_support\", \"memorandum_law_support\", \"memorandum_law_support\", \"memorandum_law_support\", \"memorandum_law_support\", \"merrill\", \"merrill\", \"merrill\", \"minute_entry_hold\", \"minute_entry_hold\", \"minute_entry_hold\", \"minute_entry_hold\", \"minute_entry_hold\", \"minute_entry_hold_telephone\", \"minute_entry_hold_telephone\", \"minute_entry_hold_telephone\", \"minute_entry_hold_telephone\", \"motion\", \"motion\", \"motion\", \"motion\", \"motion\", \"name\", \"name\", \"name\", \"name\", \"name\", \"need\", \"need\", \"need\", \"need\", \"need\", \"new_york_observer\", \"new_york_observer\", \"new_york_observer\", \"note\", \"note\", \"note\", \"note\", \"note\", \"note_manually_refile\", \"note_manually_refile\", \"notice\", \"notice\", \"notice\", \"notice\", \"notice\", \"notice_adoption_answer\", \"notice_adoption_answer\", \"notice_adoption_answer\", \"notice_adoption_answer\", \"notice_appeal_certify\", \"notice_appeal_certify\", \"notice_appeal_certify\", \"notice_appeal_certify\", \"notice_appearance\", \"notice_appearance\", \"notice_appearance\", \"notice_appearance\", \"notice_appearance\", \"notice_reassignment\", \"notice_reassignment\", \"objection\", \"objection\", \"objection\", \"objection\", \"occur\", \"occur\", \"occur\", \"occur\", \"occur\", \"offer\", \"offer\", \"offer\", \"offer\", \"officer\", \"officer\", \"officer\", \"officer\", \"officer\", \"official\", \"official\", \"official_conference\", \"official_conference\", \"official_notice_give\", \"official_notice_give\", \"opposition\", \"opposition\", \"opposition\", \"opposition\", \"opposition\", \"oral_argument_pm\", \"oral_argument_pm\", \"order\", \"order\", \"order\", \"order\", \"order\", \"ordered\", \"ordered\", \"ordered\", \"ordered\", \"paragraph\", \"paragraph\", \"paragraph\", \"paragraph\", \"paragraph\", \"partial_summary_judgment\", \"partial_summary_judgment\", \"partial_summary_judgment\", \"partial_summary_judgment\", \"period\", \"period\", \"period\", \"period\", \"period\", \"permission\", \"permission\", \"permission\", \"permission\", \"permission\", \"please\", \"please\", \"please\", \"please\", \"pm\", \"pm\", \"pm\", \"pm\", \"pm\", \"prejudice\", \"prejudice\", \"pretrial_conference_hold\", \"pretrial_conference_hold\", \"previously\", \"previously\", \"previously\", \"previously\", \"previously\", \"pro_hac_vice\", \"pro_hac_vice\", \"pro_hac_vice\", \"pro_hac_vice\", \"pro_se\", \"pro_se\", \"pro_se\", \"pro_se\", \"proceed\", \"proceed\", \"proceed\", \"proceed\", \"proceed\", \"produce\", \"produce\", \"produce\", \"produce\", \"produce\", \"production\", \"production\", \"production\", \"production\", \"production\", \"propose\", \"propose\", \"propose\", \"propose\", \"propose\", \"protective\", \"protective\", \"protective\", \"protective\", \"protective\", \"reconsideration\", \"reconsideration\", \"reconsideration\", \"redact_deadline\", \"redact_deadline\", \"redact_deadline\", \"redact_deadline\", \"redact_deadline\", \"redaction\", \"redaction\", \"redaction\", \"redaction\", \"redaction\", \"refile\", \"refile\", \"refile\", \"release\", \"release\", \"release\", \"release\", \"release\", \"relief\", \"relief\", \"relief\", \"remotely_electronically_available_public\", \"remotely_electronically_available_public\", \"remotely_electronically_available_public\", \"remotely_electronically_available_public\", \"reply\", \"reply\", \"reply\", \"reply\", \"reply\", \"report\", \"report\", \"report\", \"report\", \"report\", \"represent\", \"represent\", \"represent\", \"represent\", \"request\", \"request\", \"request\", \"request\", \"request\", \"reschedule\", \"reschedule\", \"reschedule\", \"reschedule\", \"reschedule\", \"resolution\", \"resolution\", \"resolution\", \"respectfully_request\", \"respectfully_request\", \"respectfully_request\", \"respectfully_request\", \"respond\", \"respond\", \"respond\", \"respond\", \"respond\", \"response\", \"response\", \"response\", \"response\", \"response\", \"response_due\", \"response_due\", \"response_due\", \"revise_schedule\", \"revise_schedule\", \"revise_schedule\", \"rule\", \"rule\", \"rule\", \"rule\", \"rule\", \"rule_certificate\", \"rule_certificate\", \"rule_deposition_objection\", \"rule_deposition_objection\", \"say\", \"say\", \"say\", \"say\", \"say\", \"schedule\", \"schedule\", \"schedule\", \"schedule\", \"schedule\", \"section\", \"section\", \"section\", \"section\", \"send\", \"send\", \"send\", \"send\", \"send\", \"serve\", \"serve\", \"serve\", \"serve\", \"serve\", \"serve_answer_due\", \"serve_answer_due\", \"serve_answer_due\", \"serve_answer_due\", \"serve_answer_due\", \"service\", \"service\", \"service\", \"service\", \"service_accept_legal\", \"service_accept_legal\", \"service_execute\", \"service_execute\", \"setreset_deadline\", \"setreset_deadline\", \"state\", \"state\", \"state\", \"state\", \"state\", \"status_conference_hold\", \"status_conference_hold\", \"status_conference_hold\", \"status_conference_hold\", \"status_conference_hold\", \"stillwater_market_neutral_balentine\", \"stillwater_market_neutral_balentine\", \"stillwater_market_neutral_balentine\", \"stipulate\", \"stipulate\", \"stipulate\", \"stipulation\", \"stipulation\", \"stipulation\", \"stipulation\", \"stipulation\", \"summary_judgment\", \"summary_judgment\", \"summary_judgment\", \"summary_judgment\", \"summary_judgment\", \"summary_judgment..\", \"summary_judgment..\", \"summary_judgment..\", \"summary_judgment..\", \"summons_issue\", \"summons_issue\", \"summons_issue\", \"supplemental_amend\", \"supplemental_amend\", \"supplemental_amend\", \"support\", \"support\", \"support\", \"support\", \"support\", \"telephone_conference\", \"telephone_conference\", \"telephone_conference\", \"telephone_conference\", \"telephone_conference\", \"terminate\", \"terminate\", \"terminate\", \"terminate\", \"testimony\", \"testimony\", \"testimony\", \"testimony\", \"testimony\", \"thk\", \"thk\", \"thk\", \"trial\", \"trial\", \"trial\", \"trial\", \"trial\", \"u.s.c\", \"u.s.c\", \"u.s.c\", \"u.s.c\", \"undersigned\", \"undersigned\", \"undersigned\", \"undersigned\", \"united_state\", \"united_state\", \"united_state\", \"united_state\", \"united_state_courthouse_pearl\", \"united_state_courthouse_pearl\", \"united_state_courthouse_pearl\", \"united_state_courthouse_pearl\", \"unredacted\", \"unredacted\", \"unredacted\", \"unredacted\", \"unredacted\", \"upon\", \"upon\", \"upon\", \"upon\", \"upon\", \"usca_number\", \"usca_number\", \"view_public_terminal_purchase\", \"view_public_terminal_purchase\", \"view_public_terminal_purchase\", \"week\", \"week\", \"week\", \"week\", \"week\", \"well\", \"well\", \"wellington\", \"wellington\", \"wellington\", \"withdraw\", \"withdraw\", \"withdraw\", \"withdraw\", \"withdraw\", \"withdrawal\", \"withdrawal\", \"withdrawal\", \"without\", \"without\", \"without\", \"without\", \"without\", \"without_redaction_calendar\", \"without_redaction_calendar\", \"without_redaction_calendar\", \"without_redaction_calendar\", \"york\", \"york\", \"york\", \"york\"]}, \"lambda.step\": 0.01, \"plot.opts\": {\"ylab\": \"PC2\", \"xlab\": \"PC1\"}};\n",
       "\n",
       "function LDAvis_load_lib(url, callback){\n",
       "  var s = document.createElement('script');\n",
       "  s.src = url;\n",
       "  s.async = true;\n",
       "  s.onreadystatechange = s.onload = callback;\n",
       "  s.onerror = function(){console.warn(\"failed to load library \" + url);};\n",
       "  document.getElementsByTagName(\"head\")[0].appendChild(s);\n",
       "}\n",
       "\n",
       "if(typeof(LDAvis) !== \"undefined\"){\n",
       "   // already loaded: just create the visualization\n",
       "   !function(LDAvis){\n",
       "       new LDAvis(\"#\" + \"ldavis_el2506819944813619283655815461\", ldavis_el2506819944813619283655815461_data);\n",
       "   }(LDAvis);\n",
       "}else if(typeof define === \"function\" && define.amd){\n",
       "   // require.js is available: use it to load d3/LDAvis\n",
       "   require.config({paths: {d3: \"https://cdnjs.cloudflare.com/ajax/libs/d3/3.5.5/d3.min\"}});\n",
       "   require([\"d3\"], function(d3){\n",
       "      window.d3 = d3;\n",
       "      LDAvis_load_lib(\"https://cdn.rawgit.com/bmabey/pyLDAvis/files/ldavis.v1.0.0.js\", function(){\n",
       "        new LDAvis(\"#\" + \"ldavis_el2506819944813619283655815461\", ldavis_el2506819944813619283655815461_data);\n",
       "      });\n",
       "    });\n",
       "}else{\n",
       "    // require.js not available: dynamically load d3 & LDAvis\n",
       "    LDAvis_load_lib(\"https://cdnjs.cloudflare.com/ajax/libs/d3/3.5.5/d3.min.js\", function(){\n",
       "         LDAvis_load_lib(\"https://cdn.rawgit.com/bmabey/pyLDAvis/files/ldavis.v1.0.0.js\", function(){\n",
       "                 new LDAvis(\"#\" + \"ldavis_el2506819944813619283655815461\", ldavis_el2506819944813619283655815461_data);\n",
       "            })\n",
       "         });\n",
       "}\n",
       "</script>"
      ],
      "text/plain": [
       "<IPython.core.display.HTML object>"
      ]
     },
     "execution_count": 396,
     "metadata": {},
     "output_type": "execute_result"
    }
   ],
   "source": [
    "num_topics = 5\n",
    "pretrained_model_file_path = 'docket_texts/lda_model_noorgnomodel_' + str(num_topics)\n",
    "column_name = str(num_topics) + '-topic Model Classificaiton'\n",
    "\n",
    "topic_names = {}\n",
    "for i in range(num_topics):\n",
    "    topic_names[i] = 'Topic ' + str(i)\n",
    "\n",
    "LDAvis_prepared, model = topic_modeling_pipeline(num_topics, pretrained_model_file_path, trigram_bow_corpus, trigram_dictionary, export = True)\n",
    "topic_summary = []\n",
    "\n",
    "for docket_text in list(new_df['Apply Trigram Phrase Model']):\n",
    "    #print(docket_text)\n",
    "    topic_summary.append(lda_description(docket_text, model, trigram_dictionary, topic_names))\n",
    "\n",
    "new_df[column_name] = topic_summary\n",
    "pyLDAvis.display(LDAvis_prepared)"
   ]
  },
  {
   "cell_type": "markdown",
   "metadata": {},
   "source": [
    "### 6 Topics:"
   ]
  },
  {
   "cell_type": "code",
   "execution_count": 397,
   "metadata": {
    "scrolled": false
   },
   "outputs": [
    {
     "name": "stdout",
     "output_type": "stream",
     "text": [
      "\n",
      " Topic 1's make-up:\n",
      "term                 frequency\n",
      "\n",
      "motion               0.120\n",
      "notice               0.061\n",
      "due                  0.037\n",
      "without_redaction_calendar 0.033\n",
      "remotely_electronically_available_public 0.033\n",
      "notice_appearance    0.029\n",
      "dismiss              0.025\n",
      "conference_hold      0.023\n",
      "amend_complaint      0.020\n",
      "memorandum_law_support 0.019\n",
      "\n",
      " Topic 2's make-up:\n",
      "term                 frequency\n",
      "\n",
      "order                0.117\n",
      "motion               0.111\n",
      "notice               0.035\n",
      "conference_hold      0.027\n",
      "grant                0.023\n",
      "abovecaptioned       0.019\n",
      "discovery            0.019\n",
      "official_notice_give 0.018\n",
      "schedule             0.017\n",
      "serve                0.017\n",
      "\n",
      " Topic 3's make-up:\n",
      "term                 frequency\n",
      "\n",
      "redact_deadline      0.054\n",
      "request              0.054\n",
      "view_public_terminal_purchase 0.039\n",
      "deadline_release     0.039\n",
      "amend_complaint      0.035\n",
      "minute_entry_hold    0.035\n",
      "discovery_hear_hold  0.032\n",
      "complaint            0.027\n",
      "answer               0.019\n",
      "affidavit_service_summons 0.019\n",
      "\n",
      " Topic 4's make-up:\n",
      "term                 frequency\n",
      "\n",
      "motion               0.077\n",
      "send                 0.052\n",
      "rule                 0.028\n",
      "notice               0.025\n",
      "request              0.021\n",
      "dismiss              0.019\n",
      "abovecaptioned       0.018\n",
      "answer               0.018\n",
      "amend_complaint      0.018\n",
      "declaration_support  0.017\n",
      "\n",
      " Topic 5's make-up:\n",
      "term                 frequency\n",
      "\n",
      "request              0.055\n",
      "motion               0.048\n",
      "order                0.046\n",
      "letter               0.038\n",
      "conference           0.032\n",
      "due                  0.030\n",
      "discovery            0.025\n",
      "endorsed_letter_address 0.024\n",
      "issue                0.020\n",
      "terminate            0.020\n",
      "\n",
      " Topic 6's make-up:\n",
      "term                 frequency\n",
      "\n",
      "order                0.181\n",
      "redaction            0.032\n",
      "calendar             0.031\n",
      "hold                 0.030\n",
      "schedule             0.026\n",
      "release              0.026\n",
      "revise_schedule      0.024\n",
      "endorsement          0.021\n",
      "stipulation          0.017\n",
      "judgment             0.011\n"
     ]
    },
    {
     "data": {
      "text/html": [
       "\n",
       "<link rel=\"stylesheet\" type=\"text/css\" href=\"https://cdn.rawgit.com/bmabey/pyLDAvis/files/ldavis.v1.0.0.css\">\n",
       "\n",
       "\n",
       "<div id=\"ldavis_el2506819944779817688010163063\"></div>\n",
       "<script type=\"text/javascript\">\n",
       "\n",
       "var ldavis_el2506819944779817688010163063_data = {\"topic.order\": [2, 5, 6, 1, 4, 3], \"mdsDat\": {\"cluster\": [1, 1, 1, 1, 1, 1], \"topics\": [1, 2, 3, 4, 5, 6], \"Freq\": [23.74087690316593, 18.725304582193832, 17.408995218203106, 17.389510396400894, 13.752904890970344, 8.982408009065889], \"x\": [-0.04789146487649815, 0.013199558998506748, 0.158874078224947, -0.1561161222555122, -0.08091551965768932, 0.11284946956624574], \"y\": [0.11517208944596763, -0.004815810775622957, 0.12477754145590776, -0.02367680620864215, -0.030562231498192066, -0.18089478241941837]}, \"R\": 30, \"tinfo\": {\"Category\": [\"Default\", \"Default\", \"Default\", \"Default\", \"Default\", \"Default\", \"Default\", \"Default\", \"Default\", \"Default\", \"Default\", \"Default\", \"Default\", \"Default\", \"Default\", \"Default\", \"Default\", \"Default\", \"Default\", \"Default\", \"Default\", \"Default\", \"Default\", \"Default\", \"Default\", \"Default\", \"Default\", \"Default\", \"Default\", \"Default\", \"Topic1\", \"Topic1\", \"Topic1\", \"Topic1\", \"Topic1\", \"Topic1\", \"Topic1\", \"Topic1\", \"Topic1\", \"Topic1\", \"Topic1\", \"Topic1\", \"Topic1\", \"Topic1\", \"Topic1\", \"Topic1\", \"Topic1\", \"Topic1\", \"Topic1\", \"Topic1\", \"Topic1\", \"Topic1\", \"Topic1\", \"Topic1\", \"Topic1\", \"Topic1\", \"Topic1\", \"Topic1\", \"Topic1\", \"Topic1\", \"Topic1\", \"Topic1\", \"Topic1\", \"Topic1\", \"Topic1\", \"Topic1\", \"Topic1\", \"Topic1\", \"Topic1\", \"Topic1\", \"Topic1\", \"Topic1\", \"Topic1\", \"Topic1\", \"Topic1\", \"Topic1\", \"Topic1\", \"Topic1\", \"Topic1\", \"Topic1\", \"Topic1\", \"Topic1\", \"Topic1\", \"Topic1\", \"Topic1\", \"Topic2\", \"Topic2\", \"Topic2\", \"Topic2\", \"Topic2\", \"Topic2\", \"Topic2\", \"Topic2\", \"Topic2\", \"Topic2\", \"Topic2\", \"Topic2\", \"Topic2\", \"Topic2\", \"Topic2\", \"Topic2\", \"Topic2\", \"Topic2\", \"Topic2\", \"Topic2\", \"Topic2\", \"Topic2\", \"Topic2\", \"Topic2\", \"Topic2\", \"Topic2\", \"Topic2\", \"Topic2\", \"Topic2\", \"Topic2\", \"Topic2\", \"Topic2\", \"Topic2\", \"Topic2\", \"Topic2\", \"Topic2\", \"Topic2\", \"Topic2\", \"Topic2\", \"Topic2\", \"Topic2\", \"Topic2\", \"Topic2\", \"Topic2\", \"Topic2\", \"Topic2\", \"Topic2\", \"Topic2\", \"Topic2\", \"Topic2\", \"Topic2\", \"Topic2\", \"Topic2\", \"Topic2\", \"Topic2\", \"Topic2\", \"Topic2\", \"Topic2\", \"Topic2\", \"Topic2\", \"Topic2\", \"Topic3\", \"Topic3\", \"Topic3\", \"Topic3\", \"Topic3\", \"Topic3\", \"Topic3\", \"Topic3\", \"Topic3\", \"Topic3\", \"Topic3\", \"Topic3\", \"Topic3\", \"Topic3\", \"Topic3\", \"Topic3\", \"Topic3\", \"Topic3\", \"Topic3\", \"Topic3\", \"Topic3\", \"Topic3\", \"Topic3\", \"Topic3\", \"Topic3\", \"Topic3\", \"Topic3\", \"Topic3\", \"Topic3\", \"Topic3\", \"Topic3\", \"Topic3\", \"Topic3\", \"Topic3\", \"Topic3\", \"Topic3\", \"Topic3\", \"Topic3\", \"Topic3\", \"Topic3\", \"Topic3\", \"Topic3\", \"Topic3\", \"Topic3\", \"Topic3\", \"Topic3\", \"Topic3\", \"Topic3\", \"Topic3\", \"Topic3\", \"Topic3\", \"Topic3\", \"Topic3\", \"Topic3\", \"Topic3\", \"Topic3\", \"Topic4\", \"Topic4\", \"Topic4\", \"Topic4\", \"Topic4\", \"Topic4\", \"Topic4\", \"Topic4\", \"Topic4\", \"Topic4\", \"Topic4\", \"Topic4\", \"Topic4\", \"Topic4\", \"Topic4\", \"Topic4\", \"Topic4\", \"Topic4\", \"Topic4\", \"Topic4\", \"Topic4\", \"Topic4\", \"Topic4\", \"Topic4\", \"Topic4\", \"Topic4\", \"Topic4\", \"Topic4\", \"Topic4\", \"Topic4\", \"Topic4\", \"Topic4\", \"Topic4\", \"Topic4\", \"Topic4\", \"Topic4\", \"Topic4\", \"Topic4\", \"Topic4\", \"Topic4\", \"Topic4\", \"Topic4\", \"Topic4\", \"Topic4\", \"Topic4\", \"Topic4\", \"Topic4\", \"Topic4\", \"Topic4\", \"Topic4\", \"Topic4\", \"Topic5\", \"Topic5\", \"Topic5\", \"Topic5\", \"Topic5\", \"Topic5\", \"Topic5\", \"Topic5\", \"Topic5\", \"Topic5\", \"Topic5\", \"Topic5\", \"Topic5\", \"Topic5\", \"Topic5\", \"Topic5\", \"Topic5\", \"Topic5\", \"Topic5\", \"Topic5\", \"Topic5\", \"Topic5\", \"Topic5\", \"Topic5\", \"Topic5\", \"Topic5\", \"Topic5\", \"Topic5\", \"Topic5\", \"Topic5\", \"Topic5\", \"Topic5\", \"Topic5\", \"Topic5\", \"Topic5\", \"Topic5\", \"Topic5\", \"Topic5\", \"Topic5\", \"Topic5\", \"Topic5\", \"Topic5\", \"Topic5\", \"Topic5\", \"Topic5\", \"Topic5\", \"Topic5\", \"Topic5\", \"Topic5\", \"Topic5\", \"Topic5\", \"Topic5\", \"Topic5\", \"Topic6\", \"Topic6\", \"Topic6\", \"Topic6\", \"Topic6\", \"Topic6\", \"Topic6\", \"Topic6\", \"Topic6\", \"Topic6\", \"Topic6\", \"Topic6\", \"Topic6\", \"Topic6\", \"Topic6\", \"Topic6\", \"Topic6\", \"Topic6\", \"Topic6\", \"Topic6\", \"Topic6\", \"Topic6\", \"Topic6\", \"Topic6\", \"Topic6\", \"Topic6\", \"Topic6\", \"Topic6\", \"Topic6\", \"Topic6\", \"Topic6\", \"Topic6\", \"Topic6\", \"Topic6\", \"Topic6\", \"Topic6\", \"Topic6\", \"Topic6\", \"Topic6\", \"Topic6\", \"Topic6\", \"Topic6\", \"Topic6\", \"Topic6\", \"Topic6\", \"Topic6\", \"Topic6\", \"Topic6\", \"Topic6\", \"Topic6\"], \"Total\": [1578.0, 448.0, 1534.0, 185.0, 141.0, 535.0, 135.0, 135.0, 136.0, 136.0, 287.0, 141.0, 233.0, 165.0, 126.0, 153.0, 76.0, 144.0, 128.0, 319.0, 149.0, 125.0, 130.0, 287.0, 174.0, 202.0, 96.0, 109.0, 59.0, 50.0, 96.00086269542932, 84.14119211436463, 18.128259474149626, 9.922506225670798, 15.68574520786525, 55.064013124966436, 12.414425286567608, 76.3890070842193, 18.549627176410254, 12.472292095540165, 7.702296562820509, 17.654521526922668, 20.036315395727417, 130.04324836292852, 36.40154188537283, 26.617876371275276, 13.728742797988595, 10.623033838411537, 11.416861135070532, 25.478429960681773, 9.534516998794805, 23.51675869835409, 7.476013747133806, 13.247624908872032, 233.9259461840728, 205.58894465166242, 9.57988295847417, 52.08576631077065, 20.12384766221063, 7.853050713164905, 29.49482931664805, 174.6757010600953, 50.56681974149535, 1578.9269193260134, 1534.6583509249358, 37.258614147668546, 134.8134872840024, 220.28205410150895, 535.0703508715362, 276.7279444097747, 265.3897889735204, 73.08540650986856, 127.2401495700156, 132.26787437512536, 62.113484924029606, 322.56069291225185, 207.8978003807146, 131.9408729513991, 52.35583898851237, 101.8128864103711, 149.48455368722176, 287.73819060766573, 146.99036407935503, 128.07560100733517, 153.4058039746753, 22.83256130970611, 11.116956570735656, 13.475752757550849, 14.286209750569768, 14.941261260250771, 109.94916288507932, 10.247913545064636, 7.807250610321643, 19.43642865706334, 21.39775051073017, 35.87404767716284, 20.216321377405333, 14.866637639347172, 17.965571911894624, 76.61863806938383, 23.439589173760265, 8.469424764672667, 59.857813210415074, 7.724455135381369, 21.12472152117441, 14.394706683461067, 14.784091114248548, 7.880653331647124, 20.478536243933217, 26.283224221753247, 14.903136382826611, 8.035297032819551, 12.702136111138369, 9.833586070454814, 18.48443426648672, 20.362110096913877, 287.73819060766573, 152.4335880361827, 245.1854442789345, 448.5894571010134, 28.82936378327358, 202.1169590115201, 36.76923139422768, 104.11697332730418, 287.59989832212597, 77.54604072107146, 187.5263056932437, 276.7279444097747, 75.41936622859184, 76.01553099856571, 70.49953673693467, 104.32113961396145, 132.26787437512536, 40.87355154173751, 146.99036407935503, 322.56069291225185, 319.7657156165755, 1534.6583509249358, 1578.9269193260134, 79.52561845539256, 265.3897889735204, 107.64272428517675, 220.28205410150895, 76.02246666888145, 131.9408729513991, 535.0703508715362, 11.906466464500232, 13.881146027552846, 141.89159522199972, 15.98763086883918, 128.07560100733517, 153.4058039746753, 8.115578014694057, 28.420410142471326, 165.77182345719135, 12.290493974506235, 36.59421581380364, 34.6594535085151, 125.1404106177146, 30.246512435119016, 8.230601315759664, 21.209996125585047, 29.857197916699963, 8.053328561783037, 9.526361547453376, 34.03773137473384, 26.562268661383968, 10.847087599133697, 16.785023092840515, 8.064357864983824, 11.045561435535884, 7.110500867908901, 68.27552079731718, 56.13153011394301, 14.308146006989006, 9.459704753886825, 34.96244172090839, 60.067197269860735, 1578.9269193260134, 25.945936806144164, 29.921093937207004, 188.3537158668555, 265.3897889735204, 26.116864837066064, 52.35583898851237, 187.5263056932437, 39.25275494713681, 42.7752545577451, 104.32113961396145, 48.778281200327626, 63.93195222656424, 245.1854442789345, 144.06002732991632, 76.02246666888145, 58.40478950511472, 448.5894571010134, 127.2401495700156, 107.64272428517675, 126.03090072177864, 1534.6583509249358, 220.28205410150895, 319.7657156165755, 59.39092713756911, 24.124269557511667, 135.74951743156325, 135.75774047721418, 23.34008937786451, 18.63951416221586, 24.200874408649458, 21.282989672638415, 11.167176585092426, 144.06002732991632, 16.69058991371673, 8.76459335753544, 13.807573834822618, 60.11258902907099, 15.065716565439367, 30.392787571668087, 10.828095835713407, 13.557738612831026, 17.23069517753963, 15.571457713583037, 7.6662062284168035, 9.908134583432165, 132.3709425270512, 53.57133083760587, 14.472357039996925, 50.63380017857228, 25.215909304736776, 10.505564047561682, 22.475218505862415, 32.55978995850753, 287.59989832212597, 36.94999327455072, 535.0703508715362, 55.81517635679678, 1534.6583509249358, 146.99036407935503, 233.9259461840728, 322.56069291225185, 93.71297602120154, 136.06981236295894, 136.08646935426427, 319.7657156165755, 287.73819060766573, 94.08368110268793, 207.8978003807146, 276.7279444097747, 134.8134872840024, 1578.9269193260134, 188.3537158668555, 104.11697332730418, 205.58894465166242, 54.0317430030158, 14.770150756720852, 185.45662050273918, 28.611917874357008, 32.199168800510975, 16.888955489480153, 23.319762516289096, 36.37843937746523, 17.22789720732729, 21.1064514586764, 7.165107394889844, 7.2443225026775515, 16.491880914515093, 24.562629978205074, 7.43697471145356, 8.507293626601479, 11.667610549192656, 18.37580002743107, 49.62067520110803, 19.118674031762215, 15.116299556216811, 14.681098982783897, 149.48455368722176, 15.283772228616293, 14.153587730561334, 28.995518393020358, 7.146215515489192, 8.468672929227997, 32.56710763025605, 16.517559531625125, 101.8128864103711, 21.539976920170915, 94.08368110268793, 159.4070225437478, 174.6757010600953, 1534.6583509249358, 131.9408729513991, 130.04324836292852, 62.2607555836451, 322.56069291225185, 202.1169590115201, 535.0703508715362, 319.7657156165755, 448.5894571010134, 132.3709425270512, 205.58894465166242, 220.28205410150895, 107.64272428517675, 245.1854442789345, 188.3537158668555, 93.71297602120154, 207.8978003807146, 1578.9269193260134, 76.81706211378155, 13.385976252277171, 141.7419485614416, 50.26352533355994, 13.961067187773244, 8.5221198213141, 24.644846828113554, 18.248731824590923, 22.894540104461935, 37.83429810793505, 136.08646935426427, 136.06981236295894, 126.03090072177864, 17.415234228000084, 35.153323943272426, 13.45646185255427, 15.38833213707965, 20.232614160973327, 14.386878657708895, 22.999209477794164, 21.076266847183344, 15.538660414687289, 10.741813969813553, 38.57529558173351, 7.57983731479307, 19.734938745570584, 16.53454485332857, 45.75388129816834, 24.227666823056076, 7.476753516330758, 42.8403530359018, 27.109901984480324, 448.5894571010134, 207.8978003807146, 319.7657156165755, 159.4070225437478, 59.59553564626326, 79.52561845539256, 34.5943795721638, 202.1169590115201, 76.02246666888145, 47.215544810019985, 165.77182345719135, 1534.6583509249358, 44.10341054507984, 220.28205410150895, 141.89159522199972, 276.7279444097747, 152.4335880361827, 104.11697332730418], \"loglift\": [30.0, 29.0, 28.0, 27.0, 26.0, 25.0, 24.0, 23.0, 22.0, 21.0, 20.0, 19.0, 18.0, 17.0, 16.0, 15.0, 14.0, 13.0, 12.0, 11.0, 10.0, 9.0, 8.0, 7.0, 6.0, 5.0, 4.0, 3.0, 2.0, 1.0, 1.3562, 1.2728, 1.2704, 1.2668, 1.2479, 1.2455, 1.2425, 1.2416, 1.1895, 1.1793, 1.1785, 1.1389, 1.1224, 1.1146, 1.0463, 1.0301, 1.0293, 0.9925, 0.9894, 0.9621, 0.9582, 0.95, 0.9407, 0.9332, 0.9273, 0.9174, 0.9096, 0.9069, 0.9021, 0.8912, 0.8843, 0.8626, 0.8566, 0.4856, 0.4617, 0.831, 0.6499, 0.5402, 0.352, 0.3885, 0.3693, 0.6669, 0.5143, 0.3223, 0.5853, -0.1515, 0.0133, 0.2209, 0.6317, 0.1542, -0.1128, -0.5712, -0.1707, -0.1315, -0.3324, 1.6079, 1.5859, 1.5066, 1.4204, 1.4025, 1.3956, 1.3881, 1.379, 1.3721, 1.3646, 1.3274, 1.2787, 1.2613, 1.2464, 1.2167, 1.1896, 1.1837, 1.1643, 1.1523, 1.1353, 1.1317, 1.1316, 1.1315, 1.1248, 1.1182, 1.1147, 1.1115, 1.1098, 1.1078, 1.1012, 1.1011, 1.0679, 1.0781, 1.0603, 0.9907, 1.0865, 0.9776, 1.0504, 0.9355, 0.814, 0.9549, 0.7669, 0.698, 0.9026, 0.8935, 0.9017, 0.782, 0.6806, 1.0026, 0.5813, 0.3004, 0.3021, -0.3799, -0.4557, 0.6029, -0.0617, 0.4345, -0.056, 0.592, 0.0708, -1.3449, 1.6006, 1.5964, 1.5737, 1.5309, 1.4777, 1.4699, 1.468, 1.4655, 1.4561, 1.4493, 1.4442, 1.4389, 1.4199, 1.3582, 1.3473, 1.3456, 1.3443, 1.3384, 1.3075, 1.2826, 1.2727, 1.2719, 1.2501, 1.25, 1.2497, 1.2478, 1.2359, 1.214, 1.1988, 1.1957, 1.183, 1.1293, 0.9246, 1.1644, 1.1397, 0.8803, 0.7527, 1.1435, 0.9698, 0.6633, 1.0088, 0.9178, 0.4728, 0.8188, 0.6414, -0.1789, 0.1168, 0.522, 0.6828, -0.7515, 0.1046, 0.2145, 0.0494, -2.0518, -0.458, -1.0092, 1.7209, 1.7031, 1.6905, 1.6897, 1.6813, 1.6267, 1.625, 1.6088, 1.5587, 1.4713, 1.4667, 1.3832, 1.346, 1.3179, 1.2865, 1.2802, 1.2142, 1.1865, 1.1849, 1.1719, 1.1701, 1.1584, 1.1583, 1.1404, 1.1369, 1.1322, 1.1197, 1.1, 1.0982, 1.0699, 1.032, 1.0637, 0.9194, 0.9857, 0.5409, 0.8256, 0.7514, 0.5428, 0.7966, 0.6478, 0.6457, 0.3017, 0.1939, 0.5368, 0.0963, -0.2126, 0.1867, -1.6104, -0.2075, 0.267, -0.3639, 1.8918, 1.8306, 1.8133, 1.8059, 1.7462, 1.7455, 1.7122, 1.6966, 1.6099, 1.5301, 1.5235, 1.5174, 1.5148, 1.5042, 1.4915, 1.4826, 1.4781, 1.4739, 1.4674, 1.4632, 1.4611, 1.4412, 1.4169, 1.4006, 1.4004, 1.3953, 1.3863, 1.3657, 1.3254, 1.3227, 1.3207, 1.3071, 1.125, 0.9185, 0.8306, 0.0953, 0.756, 0.6365, 0.8915, 0.2638, 0.4369, 0.0457, 0.2096, 0.0337, 0.5478, 0.3106, 0.2276, 0.5566, 0.0257, 0.0489, 0.5133, -0.1536, -2.007, 2.2148, 2.1852, 2.1326, 2.1168, 2.0341, 2.0241, 1.9732, 1.9727, 1.9705, 1.9615, 1.8316, 1.8306, 1.8142, 1.8134, 1.795, 1.7844, 1.7784, 1.7723, 1.7526, 1.6974, 1.6779, 1.6706, 1.664, 1.6626, 1.6394, 1.6124, 1.5847, 1.567, 1.554, 1.5026, 1.4628, 1.4402, 0.9702, 1.0503, 0.8855, 0.9699, 1.2663, 0.9846, 1.3176, 0.3445, 0.8623, 1.1304, 0.286, -1.3683, 1.1427, -0.0456, 0.1488, -0.573, -0.0401, 0.2696], \"Freq\": [1578.0, 448.0, 1534.0, 185.0, 141.0, 535.0, 135.0, 135.0, 136.0, 136.0, 287.0, 141.0, 233.0, 165.0, 126.0, 153.0, 76.0, 144.0, 128.0, 319.0, 149.0, 125.0, 130.0, 287.0, 174.0, 202.0, 96.0, 109.0, 59.0, 50.0, 88.4606966555016, 71.32708586869201, 15.331715360682441, 8.361784234858487, 12.970591980029594, 45.4242953248334, 10.210643101276695, 62.769362841077466, 14.46893801589085, 9.629814139997979, 5.941751282893887, 13.090407006570064, 14.613434176983107, 94.11439156664706, 24.60399035649251, 17.703074635650022, 9.123086319576853, 6.804080708548207, 7.290427296583364, 15.830584236240501, 5.901213689330621, 14.436884752254768, 4.546922884664619, 7.996518029732595, 140.378902968682, 122.15835470763648, 5.648211700214015, 30.62574230679149, 11.77621955093058, 4.545588547533162, 16.954584132225712, 98.25199263372686, 28.273783947292078, 609.1683152394164, 578.1506552349513, 20.306253031877322, 61.303095594773275, 89.75765654551672, 180.62625951723527, 96.88399775217238, 91.15490170147919, 33.80391881463265, 50.52328036946739, 43.34320345257951, 26.477279352572825, 65.81387104040392, 50.0172302014724, 39.06890013894802, 23.377832078167728, 28.20003105292792, 31.703077172657142, 38.584500814027955, 29.421606820675983, 26.65835780499582, 26.11968550998281, 21.345243857159605, 10.16662388843482, 11.384174542013081, 11.072049005439798, 11.374246939886254, 83.12457287721571, 7.689452270053927, 5.804963771634659, 14.35333290731998, 15.683874149855965, 25.33351492183782, 13.598111307959623, 9.827201520595963, 11.699422647405976, 48.434196598934335, 14.42178015273212, 5.180384335018422, 35.907106262866826, 4.578698303635069, 12.310736679210253, 8.358690097270816, 8.583969488150359, 4.57508918164507, 11.809817007821023, 15.057048898852274, 8.5080269271006, 4.572503019719709, 7.215928178652538, 5.575215761391219, 10.410512140471461, 11.466639312359684, 156.75719614592813, 83.89094732983936, 132.5604228261895, 226.21746922695323, 16.000940957444378, 100.60020520229325, 19.68400273100976, 49.68579734591061, 121.54049493032235, 37.732523371499184, 75.60699946934376, 104.13717351425628, 34.82680674598355, 34.783970892480255, 32.52374494392748, 42.69834159327846, 48.91545760478898, 20.859752954580326, 49.22363798609893, 81.5619884356877, 80.99163882529096, 196.5352369820103, 187.44582934938293, 27.21299264164619, 46.72259170697797, 31.125037362538812, 39.00340217000286, 25.732494273908515, 26.519287661355644, 26.10657360836086, 10.272588621771284, 11.926255661599804, 119.17259099952544, 12.865116134833647, 97.72409065498002, 116.13801494221977, 6.1325319974111645, 21.422453866207476, 123.78604250137741, 9.115401044421079, 27.001104676242516, 25.43859585394115, 90.12132132537846, 20.479889020789233, 5.512510029053993, 14.180904499810271, 19.937093318701216, 5.345547218413151, 6.13118876139531, 21.366934632660353, 16.51018895035487, 6.7367791873950225, 10.200029810974605, 4.900243978541515, 6.709711243579856, 4.310943520309386, 40.90524640292555, 32.900244290745036, 8.260360459505016, 5.44435706804256, 19.86847330017664, 32.349515741582636, 692.9513411586489, 14.471876873843112, 16.282179316152096, 79.0817716784885, 98.07775658684108, 14.266257477675012, 24.04013117848904, 63.37587537505191, 18.740349357046043, 18.645279978511876, 29.138375900348283, 19.25755672499794, 21.137848270450178, 35.691847046804696, 28.18694587549163, 22.306458256256366, 20.127039548245044, 36.83367431475795, 24.594385833609454, 23.22181076221607, 23.051441729654467, 34.333412052488626, 24.258444912638424, 20.29156144858103, 57.728270974894194, 23.034714161716067, 128.00047227577693, 127.90802004309916, 21.806160744657152, 16.489434414867585, 21.372176573851576, 18.493153149453153, 9.229288078442515, 109.09544371747751, 12.581933321940179, 6.077840848876269, 9.224725119154442, 39.04951177727204, 9.484050782748318, 19.012228275396243, 6.34087252574558, 7.722856227907798, 9.799150499345524, 8.740984659604674, 4.295621958303347, 5.487118358775227, 73.3012583880071, 29.138869262931586, 7.844633375721425, 27.318343772676837, 13.435748921923386, 5.488307844357445, 11.720469757023402, 16.50538384953813, 140.37307394191717, 18.615582911736666, 233.34376563483215, 26.008403187922042, 458.3818734038128, 58.36170053809781, 86.23405790469482, 96.51946850745065, 36.14659714320803, 45.22727253122192, 45.1350945212682, 75.18932814039461, 60.74478504339409, 27.984530486734457, 39.80816140800967, 38.906841172753396, 28.255977150864496, 54.86068477488886, 26.61661138318174, 23.64713185385655, 24.846127978730983, 49.2758072071623, 12.670147901405178, 156.36329268286428, 23.946910043492693, 25.38571291576923, 13.305714276010367, 17.771122005561665, 27.294237173798585, 11.851990649879593, 13.406736018056625, 4.521140864423413, 4.543667400380371, 10.316911243684395, 15.203525728511721, 4.545011606095696, 5.153253778090512, 7.035815642756978, 11.034051682152725, 29.603817775917243, 11.35771374505367, 8.961577279472122, 8.531734935462334, 84.78946026550142, 8.528916257893739, 7.896980435760114, 16.095795258690753, 3.9311102505838185, 4.563568897622434, 16.857829633142323, 8.52706154974593, 52.45512904314982, 10.946869132945128, 39.85539949521076, 54.92650723000785, 55.127778975250706, 232.1696676733071, 38.646642397695715, 33.80078149808887, 20.882471674911258, 57.75239520537327, 43.02634204989269, 77.02647721236085, 54.23001573475687, 63.81146900855414, 31.48404682050258, 38.57245970491365, 38.038131947870866, 25.829420505845267, 34.59662732882042, 27.201617245579076, 21.53403473125598, 24.52141328576, 29.181445666812582, 63.200583385271926, 10.691580593103122, 107.41759306229537, 37.49278654934258, 9.58791122810374, 5.793980411384661, 15.92504949381452, 11.785947213612387, 14.753187902816244, 24.162540520294467, 76.32130519206665, 76.24103337902122, 69.4670533533833, 9.591102895434243, 19.00772000529757, 7.199012616442159, 8.183236361016819, 10.693857070521853, 7.455850777450903, 11.278912686924457, 10.136065835390365, 7.418814099478655, 5.094930303212733, 18.270500039282737, 3.507853257818062, 8.88932055446541, 7.244236335022132, 19.6943663008512, 10.294091079593361, 3.0177869959465933, 16.616305771114686, 10.27965131434219, 106.31721654140065, 53.38251431150696, 69.63263742240535, 37.76732880625263, 18.991763508222768, 19.120223059436807, 11.60477824221339, 25.62155743278584, 16.174155909699284, 13.134173718814495, 19.82059076514503, 35.08750557836584, 12.420693503174384, 18.90463926819974, 14.789729274489506, 14.01498928145857, 13.1542030409439, 12.24638155769726], \"logprob\": [30.0, 29.0, 28.0, 27.0, 26.0, 25.0, 24.0, 23.0, 22.0, 21.0, 20.0, 19.0, 18.0, 17.0, 16.0, 15.0, 14.0, 13.0, 12.0, 11.0, 10.0, 9.0, 8.0, 7.0, 6.0, 5.0, 4.0, 3.0, 2.0, 1.0, -4.0777997970581055, -4.293099880218506, -5.830399990081787, -6.436699867248535, -5.997700214385986, -4.74429988861084, -6.2368998527526855, -4.420899868011475, -5.888400077819824, -6.295499801635742, -6.77839994430542, -5.988500118255615, -5.878399848937988, -4.015900135040283, -5.357500076293945, -5.686600208282471, -6.349599838256836, -6.6427998542785645, -6.573800086975098, -5.798399925231934, -6.785200119018555, -5.890600204467773, -7.045899868011475, -6.481400012969971, -3.615999937057495, -3.7551000118255615, -6.828999996185303, -5.138500213623047, -6.094299793243408, -7.046199798583984, -5.729800224304199, -3.9728000164031982, -5.218400001525879, -2.1482999324798584, -2.200500011444092, -5.5493998527526855, -4.444499969482422, -4.063300132751465, -3.3638999462127686, -3.9869000911712646, -4.047800064086914, -5.03980016708374, -4.637899875640869, -4.791200160980225, -5.28410005569458, -4.373499870300293, -4.6479997634887695, -4.894999980926514, -5.408599853515625, -5.2210001945495605, -5.104000091552734, -4.90749979019165, -5.178599834442139, -5.277299880981445, -5.297699928283691, -5.262199878692627, -6.003900051116943, -5.8907999992370605, -5.918600082397461, -5.89169979095459, -3.9026999473571777, -6.283199787139893, -6.564300060272217, -5.65910005569458, -5.570400238037109, -5.09089994430542, -5.713099956512451, -6.037899971008301, -5.863500118255615, -4.442800045013428, -5.654300212860107, -6.678199768066406, -4.742099761962891, -6.801599979400635, -5.812600135803223, -6.199699878692627, -6.1732001304626465, -6.8024001121521, -5.854100227355957, -5.611199855804443, -6.182000160217285, -6.802999973297119, -6.346799850463867, -6.604700088500977, -5.980199813842773, -5.883600234985352, -3.268399953842163, -3.8935000896453857, -3.436000108718872, -2.901599884033203, -5.5503997802734375, -3.711899995803833, -5.343200206756592, -4.417300224304199, -3.5227999687194824, -4.692500114440918, -3.997499942779541, -3.677299976348877, -4.77269983291626, -4.773900032043457, -4.841100215911865, -4.568900108337402, -4.433000087738037, -5.285200119018555, -4.426700115203857, -3.9217000007629395, -3.9286999702453613, -3.0422000885009766, -3.089600086212158, -5.019400119781494, -4.478799819946289, -4.885000228881836, -4.65939998626709, -5.075300216674805, -5.045199871063232, -5.0609002113342285, -5.9207000732421875, -5.771399974822998, -3.469599962234497, -5.6956000328063965, -3.6679999828338623, -3.4953999519348145, -6.436600208282471, -5.185699939727783, -3.4316000938415527, -6.040200233459473, -4.9542999267578125, -5.013899803161621, -3.749000072479248, -5.2307000160217285, -6.543099880218506, -5.598299980163574, -5.257599830627441, -6.57390022277832, -6.436800003051758, -5.188300132751465, -5.446199893951416, -6.342599868774414, -5.927800178527832, -6.660900115966797, -6.34660005569458, -6.789000034332275, -4.538899898529053, -4.756700038909912, -6.138700008392334, -6.555600166320801, -5.261000156402588, -4.773600101470947, -1.7092000246047974, -5.578000068664551, -5.460100173950195, -3.879699945449829, -3.664400100708008, -5.592299938201904, -5.070400238037109, -4.101099967956543, -5.319499969482422, -5.3246002197265625, -4.8780999183654785, -5.292300224304199, -5.199100017547607, -4.67519998550415, -4.911300182342529, -5.145299911499023, -5.2480998039245605, -4.643700122833252, -5.047599792480469, -5.105100154876709, -5.112400054931641, -4.714000225067139, -5.061399936676025, -5.239999771118164, -4.193299770355225, -5.111999988555908, -3.3970000743865967, -3.397700071334839, -5.166800022125244, -5.446300029754639, -5.186999797821045, -5.331600189208984, -6.026700019836426, -3.55679988861084, -5.716800212860107, -6.444399833679199, -6.027200222015381, -4.584199905395508, -5.9994001388549805, -5.303999900817871, -6.4019999504089355, -6.204899787902832, -5.966700077056885, -6.080999851226807, -6.791399955749512, -6.546599864959717, -3.9544999599456787, -4.876999855041504, -6.189199924468994, -4.941500186920166, -5.651100158691406, -6.54640007019043, -5.787700176239014, -5.445400238037109, -3.3046998977661133, -5.324999809265137, -2.7964999675750732, -4.990600109100342, -2.121299982070923, -4.182400226593018, -3.7920000553131104, -3.67930006980896, -4.661499977111816, -4.437300205230713, -4.4394001960754395, -3.928999900817871, -4.142399787902832, -4.917399883270264, -4.565000057220459, -4.587900161743164, -4.907700061798096, -4.244200229644775, -4.96750020980835, -5.0858001708984375, -5.036300182342529, -4.117000102996826, -5.475200176239014, -2.9621999263763428, -4.838600158691406, -4.780200004577637, -5.426199913024902, -5.1367998123168945, -4.707699775695801, -5.541900157928467, -5.418700218200684, -6.50570011138916, -6.500699996948242, -5.680600166320801, -5.292900085449219, -6.500400066375732, -6.374800205230713, -6.063399791717529, -5.613399982452393, -4.626500129699707, -5.584499835968018, -5.821499824523926, -5.87060022354126, -3.5743000507354736, -5.870999813079834, -5.94789981842041, -5.235899925231934, -6.645500183105469, -6.496300220489502, -5.189599990844727, -5.871200084686279, -4.054500102996826, -5.621399879455566, -4.32919979095459, -4.008399963378906, -4.004799842834473, -2.566999912261963, -4.360000133514404, -4.493899822235107, -4.975500106811523, -3.9583001136779785, -4.252600193023682, -3.670300006866455, -4.021200180053711, -3.8585000038146973, -4.564899921417236, -4.3618998527526855, -4.375800132751465, -4.762899875640869, -4.470699787139893, -4.711100101470947, -4.944799900054932, -4.814899921417236, -4.640900135040283, -3.4421000480651855, -5.218999862670898, -2.9117000102996826, -3.9642999172210693, -5.327899932861328, -5.831600189208984, -4.820499897003174, -5.121500015258789, -4.896999835968018, -4.403600215911865, -3.253499984741211, -3.254499912261963, -3.347599983215332, -5.327600002288818, -4.643599987030029, -5.614500045776367, -5.486400127410889, -5.218800067901611, -5.579400062561035, -5.165500164031982, -5.272299766540527, -5.584400177001953, -5.96019983291626, -4.683199882507324, -6.333399772644043, -5.403600215911865, -5.6082000732421875, -4.608099937438965, -5.256899833679199, -6.48390007019043, -4.77810001373291, -5.258299827575684, -2.921999931335449, -3.6110000610351562, -3.3452000617980957, -3.9570000171661377, -4.644400119781494, -4.637700080871582, -5.13700008392334, -4.34499979019165, -4.804999828338623, -5.013199806213379, -4.6016998291015625, -4.030600070953369, -5.0690999031066895, -4.64900016784668, -4.894499778747559, -4.948299884796143, -5.01170015335083, -5.083199977874756], \"Term\": [\"order\", \"request\", \"motion\", \"send\", \"redact_deadline\", \"notice\", \"without_redaction_calendar\", \"remotely_electronically_available_public\", \"view_public_terminal_purchase\", \"deadline_release\", \"due\", \"calendar\", \"conference_hold\", \"redaction\", \"minute_entry_hold\", \"hold\", \"discovery_hear_hold\", \"notice_appearance\", \"release\", \"amend_complaint\", \"rule\", \"revise_schedule\", \"official_notice_give\", \"letter\", \"abovecaptioned\", \"endorsed_letter_address\", \"official_conference\", \"terminate\", \"minute_entry_hold_telephone\", \"affidavit_service_summons\", \"official_conference\", \"memorandum_law_opposition\", \"dispositive\", \"jr\", \"conduct\", \"appear_pro_hac_vice\", \"withdrawal\", \"comply_discovery_ruling_conference\", \"effect\", \"deficiency\", \"summons_execute\", \"unredacted\", \"transfer\", \"official_notice_give\", \"certificate_service\", \"confidentiality\", \"compel\", \"assignment\", \"report_recommendation\", \"accordance\", \"han_kook\", \"pretrial\", \"failure_state\", \"pro_hac_vice\", \"conference_hold\", \"grant\", \"unless\", \"reply_memorandum_law\", \"litigation\", \"contempt\", \"redact\", \"abovecaptioned\", \"complete\", \"order\", \"motion\", \"testimony\", \"support\", \"serve\", \"notice\", \"discovery\", \"schedule\", \"produce\", \"summary_judgment\", \"deposition\", \"letter_address\", \"dismiss\", \"complaint\", \"reply\", \"disclose\", \"declaration_support\", \"rule\", \"letter\", \"withdraw\", \"release\", \"hold\", \"consider\", \"responsible_courtesy_individual_practice\", \"g.c\", \"confidential\", \"officer\", \"terminate\", \"admission\", \"service_execute\", \"fax\", \"via\", \"prior\", \"adjournment\", \"connection\", \"advise\", \"respond\", \"today\", \"rule_certificate\", \"move\", \"dismissal_without_prejudice\", \"argument\", \"crossclaims\", \"inform\", \"note_manually_refile\", \"decision\", \"endorse\", \"united_state\", \"jury_trial_hold\", \"counter_rule\", \"liability_complaint\", \"thirdparty\", \"associate\", \"letter\", \"issue\", \"conference\", \"request\", \"however\", \"endorsed_letter_address\", \"period\", \"response\", \"due\", \"amend\", \"stipulation\", \"discovery\", \"brief\", \"address\", \"report\", \"propose\", \"deposition\", \"application\", \"withdraw\", \"dismiss\", \"amend_complaint\", \"motion\", \"order\", \"deadline\", \"schedule\", \"deny\", \"serve\", \"extend\", \"reply\", \"notice\", \"pretrial_conference_hold\", \"offer\", \"calendar\", \"status_conference_hold\", \"release\", \"hold\", \"sheet\", \"relevant\", \"redaction\", \"judgment_favor\", \"protective\", \"answer_due_answer_due\", \"revise_schedule\", \"loan\", \"notice_termination\", \"stipulate\", \"third\", \"administration\", \"notice_appeal_certify\", \"purpose\", \"longer_assigned\", \"total\", \"right\", \"corp..\", \"assign\", \"oral_argument_pm\", \"judgment\", \"endorsement_application_grant\", \"undersigned\", \"certificate\", \"opinion\", \"telephone_conference\", \"order\", \"stipulate_agree\", \"show_cause\", \"endorsement\", \"schedule\", \"conference_pm\", \"disclose\", \"stipulation\", \"provision\", \"disclosure\", \"propose\", \"notice_appeal\", \"production\", \"conference\", \"notice_appearance\", \"extend\", \"joint\", \"request\", \"summary_judgment\", \"deny\", \"minute_entry_hold\", \"motion\", \"serve\", \"amend_complaint\", \"minute_entry_hold_telephone\", \"notice_reassignment\", \"without_redaction_calendar\", \"remotely_electronically_available_public\", \"setreset_deadline\", \"electronic_filing\", \"conference_call\", \"dismiss_thirdparty_complaint\", \"answer_due_purs\", \"notice_appearance\", \"supplemental_amend\", \"rule_rule_..\", \"client\", \"declaration_opposition\", \"dated\", \"initiate\", \"adjourn_conference\", \"respective\", \"reset\", \"error_electronic_filing_nonecf\", \"nonecf_error\", \"dismiss_lack_jurisdiction\", \"memorandum_law_support\", \"note\", \"limine_preclude_introduce_evidence\", \"declaration\", \"instruction\", \"civil\", \"partial_summary_judgment\", \"represent\", \"due\", \"response_due\", \"notice\", \"dismissal\", \"motion\", \"withdraw\", \"conference_hold\", \"dismiss\", \"leave\", \"deadline_release\", \"view_public_terminal_purchase\", \"amend_complaint\", \"letter\", \"opposition\", \"complaint\", \"discovery\", \"support\", \"order\", \"endorsement\", \"response\", \"grant\", \"serve_answer_due\", \"correction\", \"send\", \"jury_demand\", \"counterclaim\", \"request_issuance_summons\", \"question\", \"official\", \"change\", \"individual_rule\", \"rule_deposition_objection\", \"incorrectly\", \"mdl\", \"renew\", \"new_york_observer\", \"brooklyn\", \"aim_exploration\", \"promptly\", \"service\", \"international\", \"answer_crossclaim\", \"confirm\", \"rule\", \"inc.\", \"local_civil_rule\", \"discovery_complete\", \"conclude\", \"exceed\", \"amend_answer\", \"say\", \"declaration_support\", \"discovery_dispute\", \"opposition\", \"answer\", \"abovecaptioned\", \"motion\", \"reply\", \"official_notice_give\", \"extension\", \"dismiss\", \"endorsed_letter_address\", \"notice\", \"amend_complaint\", \"request\", \"memorandum_law_support\", \"grant\", \"serve\", \"deny\", \"conference\", \"endorsement\", \"leave\", \"complaint\", \"order\", \"discovery_hear_hold\", \"wellington\", \"redact_deadline\", \"affidavit_service_summons\", \"united_state_courthouse_pearl\", \"ambassador\", \"friday\", \"administrator\", \"light\", \"proceed\", \"view_public_terminal_purchase\", \"deadline_release\", \"minute_entry_hold\", \"government\", \"establish\", \"thk\", \"consistent\", \"l.p..\", \"immediately\", \"agent\", \"certain\", \"determine\", \"civil_cover_sheet\", \"york\", \"pdf\", \"applicable\", \"mediation\", \"respectfully_request\", \"would\", \"opportunity\", \"work\", \"courtroom_pearl_street_new\", \"request\", \"complaint\", \"amend_complaint\", \"answer\", \"courtroom\", \"deadline\", \"consent\", \"endorsed_letter_address\", \"extend\", \"status_conference\", \"redaction\", \"motion\", \"continue\", \"serve\", \"calendar\", \"discovery\", \"issue\", \"response\"]}, \"token.table\": {\"Freq\": [0.5610396832830467, 0.011449789454756054, 0.01717468418213408, 0.09159831563804843, 0.3148692100057915, 0.627982180404803, 0.07849777255060038, 0.11774665882590057, 0.03924888627530019, 0.07849777255060038, 0.06577603200712157, 0.460432224049851, 0.05262082560569726, 0.19732809602136472, 0.1841728896199404, 0.05262082560569726, 0.3694093643692304, 0.5541140465538456, 0.04946498333359722, 0.6925097666703611, 0.14839495000079167, 0.14839495000079167, 0.24834451800352134, 0.6208612950088034, 0.1095966568649399, 0.05479832843246995, 0.1095966568649399, 0.05479832843246995, 0.6575799411896394, 0.19516167766298087, 0.7806467106519235, 0.05566201871580393, 0.6679442245896472, 0.1669860561474118, 0.05566201871580393, 0.05566201871580393, 0.019895142518631104, 0.03979028503726221, 0.17905628266767992, 0.019895142518631104, 0.7361202731893508, 0.17391902116731522, 0.30435828704280166, 0.4782773082101169, 0.08570735162815281, 0.25712205488445844, 0.5999514613970697, 0.08570735162815281, 0.11734169678053193, 0.11734169678053193, 0.7040501806831916, 0.16764234355639424, 0.4900314657802293, 0.10316451911162723, 0.07737338933372041, 0.025791129777906808, 0.12895564888953404, 0.09211748350697528, 0.06141165567131685, 0.2456466226852674, 0.5219990732061932, 0.06141165567131685, 0.05941850258513176, 0.25331045838924593, 0.06254579219487554, 0.23454672073078328, 0.16887363892616397, 0.2189102726820644, 0.1254649869299904, 0.08782549085099328, 0.08782549085099328, 0.11291848823699135, 0.3450287140574736, 0.23838347516698175, 0.13230751299695362, 0.06615375649847681, 0.19846126949543044, 0.5953838084862914, 0.0577043143368848, 0.72130392921106, 0.17311294301065439, 0.08954814964911952, 0.8059333468420756, 0.8172306638434361, 0.018160681418743024, 0.12712476993120117, 0.018160681418743024, 0.05067155327373111, 0.05067155327373111, 0.10134310654746222, 0.35470087291611774, 0.45604397946357994, 0.36698548166735495, 0.5137796743342969, 0.04893139755564733, 0.04893139755564733, 0.024465698777823664, 0.1420137064052155, 0.568054825620862, 0.04733790213507183, 0.04733790213507183, 0.04733790213507183, 0.09467580427014366, 0.27160230989693035, 0.6337387230928375, 0.09053410329897678, 0.6589454676016273, 0.28240520040069744, 0.09822164748549926, 0.5402190611702459, 0.04911082374274963, 0.04911082374274963, 0.09822164748549926, 0.09822164748549926, 0.1325919389151397, 0.464071786202989, 0.039777581674541915, 0.2254062961557375, 0.11933274502362574, 0.013259193891513971, 0.11754619552252168, 0.11754619552252168, 0.11754619552252168, 0.5877309776126084, 0.04933343648049055, 0.0070476337829272215, 0.8386684201683394, 0.10571450674390832, 0.18978693091156057, 0.14234019818367044, 0.04744673272789014, 0.04744673272789014, 0.04744673272789014, 0.47446732727890145, 0.21142308898998516, 0.5285577224749629, 0.21142308898998516, 0.6867840949903748, 0.02747136379961499, 0.05494272759922998, 0.16482818279768996, 0.02747136379961499, 0.05494272759922998, 0.1160907785744954, 0.0580453892872477, 0.1160907785744954, 0.0580453892872477, 0.6965446714469724, 0.19037530883115175, 0.19037530883115175, 0.09518765441557588, 0.4759382720778794, 0.09309414618519568, 0.09309414618519568, 0.27928243855558704, 0.4654707309259784, 0.07242401974183227, 0.14484803948366454, 0.6518161776764905, 0.07242401974183227, 0.6555589344509094, 0.1456797632113132, 0.0728398816056566, 0.0728398816056566, 0.24050278506283893, 0.09620111402513558, 0.09620111402513558, 0.19240222805027116, 0.12025139253141946, 0.2549329521666093, 0.5537227799402832, 0.03955162713859166, 0.11865488141577497, 0.23730976283154995, 0.03955162713859166, 0.01977581356929583, 0.8247259966416653, 0.07854533301349194, 0.07854533301349194, 0.13993420683052898, 0.27986841366105797, 0.5597368273221159, 0.8287779654537201, 0.06375215118874769, 0.06375215118874769, 0.06375215118874769, 0.06117818308551504, 0.5424465566915666, 0.14682763940523608, 0.0693352741635837, 0.14274909386620174, 0.04078545539034335, 0.04132082102135108, 0.04132082102135108, 0.8677372414483727, 0.5984799988361962, 0.0042748571345442585, 0.36763771357080627, 0.008549714269088517, 0.012824571403632776, 0.038289435054270425, 0.268026045379893, 0.536052090759786, 0.038289435054270425, 0.038289435054270425, 0.07657887010854085, 0.06999757230640671, 0.7699732953704739, 0.06999757230640671, 0.06999757230640671, 0.676237268102452, 0.18784368558401443, 0.11270621135040866, 0.037568737116802885, 0.1362295835172382, 0.0681147917586191, 0.1362295835172382, 0.613033125827572, 0.06726470532606002, 0.6726470532606001, 0.06726470532606002, 0.06726470532606002, 0.13452941065212004, 0.1734385780061184, 0.11562571867074559, 0.028906429667686397, 0.1734385780061184, 0.1734385780061184, 0.3468771560122368, 0.9197391267300752, 0.04379710127286072, 0.1949529015409808, 0.06498430051366028, 0.1949529015409808, 0.5198744041092822, 0.636695238911162, 0.12733904778223237, 0.12733904778223237, 0.12733904778223237, 0.045347966864279596, 0.226739834321398, 0.09069593372855919, 0.022673983432139798, 0.3174357680499572, 0.2720878011856776, 0.24800486703153168, 0.6200121675788292, 0.12400243351576584, 0.06770411598845534, 0.06770411598845534, 0.8801535078499194, 0.07872691579199112, 0.5510884105439379, 0.2361807473759734, 0.07872691579199112, 0.062113404615844046, 0.062113404615844046, 0.031056702307922023, 0.031056702307922023, 0.7764175576980505, 0.031056702307922023, 0.2684764861410089, 0.13423824307050444, 0.05033934115143917, 0.21813714498956974, 0.016779780383813055, 0.31881582729244806, 0.03688689101762421, 0.03688689101762421, 0.4795295832291147, 0.03688689101762421, 0.03688689101762421, 0.3688689101762421, 0.5557598481108111, 0.13893996202770278, 0.06946998101385139, 0.13893996202770278, 0.06637586706589131, 0.19912760119767392, 0.5973828035930218, 0.06637586706589131, 0.18861846397854531, 0.33951323516138154, 0.037723692795709064, 0.1634693354480726, 0.037723692795709064, 0.23891672103949074, 0.10288836117930221, 0.33071258950489996, 0.5585368178304977, 0.04883161511586312, 0.5859793813903574, 0.04883161511586312, 0.19532646046345248, 0.09766323023172624, 0.04883161511586312, 0.2567454932111035, 0.019749653323931037, 0.533240639746138, 0.11849791994358623, 0.059248959971793115, 0.16635450512976424, 0.04990635153892928, 0.08317725256488212, 0.6487825700060805, 0.016635450512976425, 0.03327090102595285, 0.27501430307301256, 0.009821939395464734, 0.0294658181863942, 0.15715103032743574, 0.5107408485641661, 0.019643878790929468, 0.8017772453850559, 0.0801777245385056, 0.0801777245385056, 0.13005988182638284, 0.28798973832984776, 0.21366980585762896, 0.037159966236109385, 0.241539780534711, 0.09289991559027347, 0.3250978380286626, 0.37046032705591786, 0.09828539289238637, 0.08316456321663462, 0.120966637406014, 0.06435561195833783, 0.06435561195833783, 0.1930668358750135, 0.06435561195833783, 0.06435561195833783, 0.45048928370836483, 0.4393015267131243, 0.4584015930919558, 0.01910006637883149, 0.07640026551532596, 0.4208040416381539, 0.02337800231323077, 0.4441820439513846, 0.04675600462646154, 0.02337800231323077, 0.04675600462646154, 0.3505247733722324, 0.3758203755743523, 0.050591204404239726, 0.1409326408403821, 0.03252291711701125, 0.050591204404239726, 0.10346426504042582, 0.0344880883468086, 0.0344880883468086, 0.0344880883468086, 0.5518094135489376, 0.24141661842766024, 0.09285061016602661, 0.046425305083013305, 0.2785518304980798, 0.5106783559131464, 0.046425305083013305, 0.07810764737543323, 0.0911255886046721, 0.8201302974420488, 0.20461265569625492, 0.25421572374383183, 0.031001917529735593, 0.30071860003843526, 0.17981112167246643, 0.03410210928270915, 0.20185434333363714, 0.20185434333363714, 0.5046358583340929, 0.04698588005639114, 0.8457458410150406, 0.04698588005639114, 0.17916274126010656, 0.30457666014218115, 0.4658231272762771, 0.017916274126010656, 0.017916274126010656, 0.1294589692701514, 0.6472948463507571, 0.1294589692701514, 0.1294589692701514, 0.8274374062986889, 0.11032498750649185, 0.04520168496526853, 0.424200428135597, 0.013908210758544164, 0.48678737654904575, 0.024339368827452287, 0.006954105379272082, 0.7547321499703207, 0.10781887856718866, 0.05390943928359433, 0.053649467003120656, 0.053649467003120656, 0.8583914720499305, 0.07609416497480948, 0.5707062373110711, 0.34242374238664264, 0.10884786762869346, 0.4997106650226381, 0.004947630346758793, 0.04947630346758793, 0.21274810491062812, 0.12863838901572863, 0.12211067827437164, 0.1274198381993443, 0.41942363407284167, 0.14334731797426234, 0.14334731797426234, 0.04247327939978144, 0.017815299137045992, 0.035630598274091985, 0.5879048715225178, 0.12470709395932195, 0.2315988887815979, 0.25688025318983376, 0.06422006329745844, 0.5779805696771259, 0.12844012659491688, 0.08534043622279236, 0.08534043622279236, 0.19912768451984883, 0.028446812074264118, 0.028446812074264118, 0.5404894294110183, 0.11808225543209871, 0.23616451086419743, 0.11808225543209871, 0.5904112771604936, 0.06577003113800131, 0.34200416191760685, 0.2893881370072058, 0.013154006227600263, 0.07892403736560158, 0.2104640996416042, 0.3372911202753916, 0.1927377830145095, 0.09636889150725475, 0.3372911202753916, 0.03212296383575158, 0.6688056187586502, 0.13376112375173002, 0.26752224750346004, 0.10289956222349445, 0.7202969355644612, 0.05144978111174722, 0.10289956222349445, 0.04057643396911894, 0.08115286793823788, 0.08115286793823788, 0.12172930190735683, 0.04057643396911894, 0.649222943505903, 0.07420735731736185, 0.8162809304909803, 0.1722629716444825, 0.05742099054816084, 0.11484198109632168, 0.05742099054816084, 0.5742099054816084, 0.5934171227286054, 0.029184448658783866, 0.03404852343524785, 0.12160186941159945, 0.18969891628209515, 0.03404852343524785, 0.6292924959658072, 0.20976416532193573, 0.10488208266096787, 0.10488208266096787, 0.16948511285982476, 0.013037316373832675, 0.7561643496822952, 0.0065186581869163375, 0.0521492654953307, 0.554989701482174, 0.31218170708372284, 0.03468685634263587, 0.06937371268527175, 0.06950778023446885, 0.1390155604689377, 0.06950778023446885, 0.1390155604689377, 0.4865544616412819, 0.13085774703285202, 0.13085774703285202, 0.13085774703285202, 0.5888598616478341, 0.1380391333531042, 0.1380391333531042, 0.6901956667655209, 0.09475775707326889, 0.047378878536634444, 0.09475775707326889, 0.14213663560990333, 0.6159254209762478, 0.13528055154316848, 0.6087624819442582, 0.06764027577158424, 0.06764027577158424, 0.20292082731475272, 0.26322034400877187, 0.03290254300109648, 0.03290254300109648, 0.6251483170208332, 0.03290254300109648, 0.1189725091308309, 0.0396575030436103, 0.2379450182616618, 0.5155475395669339, 0.0396575030436103, 0.0793150060872206, 0.05230488256343934, 0.10460976512687868, 0.05230488256343934, 0.15691464769031802, 0.5753537081978327, 0.13120467908459033, 0.5510596521552794, 0.09840350931344276, 0.05904210558806565, 0.07216257349652469, 0.08528304140498372, 0.10273130082036437, 0.188340718170668, 0.34243766940121456, 0.15409695123054654, 0.08560941735030364, 0.13697506776048582, 0.8062479194321867, 0.10078098992902333, 0.1025257649924079, 0.05858615142423309, 0.6005080520983892, 0.1025257649924079, 0.08787922713634963, 0.043939613568174815, 0.0813636947444315, 0.7322732526998835, 0.0813636947444315, 0.034950470793019946, 0.06990094158603989, 0.8388112990324788, 0.034950470793019946, 0.622254532667291, 0.2489018130669164, 0.1244509065334582, 0.24712575252111987, 0.049425150504223976, 0.14827545151267194, 0.5436766555464637, 0.17073409339150827, 0.1280505700436312, 0.08536704669575414, 0.3841517101308936, 0.2347593784133239, 0.010670880836969267, 0.13553988060339525, 0.5456349039675142, 0.0590814864168646, 0.21199827478992592, 0.0312784339853989, 0.020852289323599272, 0.41858865320148025, 0.08049781792336158, 0.24149345377008474, 0.03219912716934464, 0.17709519943139548, 0.04829869075401695, 0.6101538093033129, 0.2033846031011043, 0.10169230155055214, 0.04367853625524931, 0.08735707251049862, 0.04367853625524931, 0.13103560876574794, 0.08735707251049862, 0.6551780438287397, 0.27638897996679396, 0.5527779599335879, 0.13819448998339698, 0.5963074359052162, 0.04969228632543469, 0.19876914530173875, 0.09938457265086938, 0.16530831482556432, 0.06612332593022573, 0.6612332593022573, 0.03306166296511286, 0.06612332593022573, 0.07065346391577705, 0.21196039174733114, 0.07065346391577705, 0.5652277113262164, 0.07065346391577705, 0.6400055739483758, 0.3388264803256107, 0.12127179491332178, 0.06063589745666089, 0.06063589745666089, 0.06063589745666089, 0.6063589745666089, 0.06063589745666089, 0.12095887838106291, 0.18143831757159437, 0.12095887838106291, 0.060479439190531455, 0.060479439190531455, 0.4233560743337202, 0.843819753629077, 0.0356543557871441, 0.0713087115742882, 0.04753914104952547, 0.14353603319034447, 0.03777264031324854, 0.007554528062649709, 0.5514805485734288, 0.23419036994214096, 0.015109056125299418, 0.08728018237593343, 0.039672810170878835, 0.18249492678604262, 0.06347649627340614, 0.0714110583075819, 0.5474847803581279, 0.016837588638474493, 0.9765801410315206, 0.37663105905730776, 0.1283673332773177, 0.022154768179841633, 0.2984377595990432, 0.1511737122859782, 0.022806379008660504, 0.10023754090227971, 0.6014252454136783, 0.0835312840852331, 0.06682502726818648, 0.0835312840852331, 0.06682502726818648, 0.13446327825478777, 0.6723163912739388, 0.26892655650957553, 0.13044261662218762, 0.13044261662218762, 0.13044261662218762, 0.5217704664887505, 0.13044261662218762, 0.1493336057722908, 0.0373334014430727, 0.0373334014430727, 0.5413343209245541, 0.16800030649382713, 0.05600010216460905, 0.12689303258451942, 0.6344651629225971, 0.12689303258451942, 0.12689303258451942, 0.3382732751033254, 0.04859174117506331, 0.024295870587531656, 0.43545675745345197, 0.1439063104030721, 0.0093445656105891, 0.041001854735024296, 0.26651205577765796, 0.3895176199827308, 0.10250463683756074, 0.10250463683756074, 0.06150278210253645, 0.10497187147671545, 0.6298312288602927, 0.10497187147671545, 0.10497187147671545, 0.006941550814160746, 0.013883101628321492, 0.1943634227965009, 0.7566290387435214, 0.013883101628321492, 0.006941550814160746, 0.9533967420306163, 0.7289868345963268, 0.12149780576605447, 0.12149780576605447, 0.8644819365909027, 0.07204016138257523, 0.07204016138257523, 0.06692875404437017, 0.7362162944880718, 0.13385750808874033, 0.06692875404437017, 0.1649328586568429, 0.02748880977614048, 0.02748880977614048, 0.742197863955793, 0.02748880977614048, 0.91665842919753, 0.0729160114134399, 0.7228364500528474, 0.007689749468647312, 0.2614514819340086, 0.17161272796378677, 0.14301060663648898, 0.5720424265459559, 0.028602121327297794, 0.08580636398189338, 0.1337478890825805, 0.267495778165161, 0.1337478890825805, 0.4012436672477415, 0.10628835822320205, 0.08503068657856164, 0.06377301493392123, 0.29760740302496574, 0.4251534328928082, 0.02125767164464041, 0.14063706883339233, 0.5625482753335693, 0.14063706883339233, 0.3857049953014672, 0.11843486719437497, 0.4389056843085661, 0.034833784468933815, 0.018366904538165103, 0.0031667076789939834, 0.17797379807260355, 0.08898689903630178, 0.5339213942178107, 0.22246724759075445, 0.13192895288773093, 0.13192895288773093, 0.26385790577546187, 0.5277158115509237, 0.08158995677214409, 0.5439330451476273, 0.10878660902952546, 0.05439330451476273, 0.21757321805905092, 0.5953201365705149, 0.12756860069368176, 0.12756860069368176, 0.04252286689789392, 0.04252286689789392, 0.8398797434835545, 0.08398797434835546, 0.027875304426174155, 0.6968826106543539, 0.08362591327852247, 0.05575060885234831, 0.13937652213087076, 0.6038818320287994, 0.07548522900359993, 0.07548522900359993, 0.2264556870107998, 0.1321552202643173, 0.05286208810572692, 0.1321552202643173, 0.02643104405286346, 0.6343450572687231, 0.46520915219112935, 0.23260457609556467, 0.2599698203421017, 0.04104786636980553, 0.01368262212326851, 0.12513304726953003, 0.20334120181298632, 0.3284742490825164, 0.2189828327216776, 0.1407746781782213, 0.1088387986925432, 0.0544193993462716, 0.2176775973850864, 0.5986133928089876, 0.07668627882712804, 0.41218874869581323, 0.27798776074833914, 0.12461520309408307, 0.05751470912034603, 0.06710049397373703, 0.1366336151440075, 0.0819801690864045, 0.7378215217776405, 0.0273267230288015, 0.38213878287526765, 0.05095183771670235, 0.4840424583086723, 0.05095183771670235, 0.05095183771670235, 0.029379161289882518, 0.058758322579765036, 0.6169623870875328, 0.029379161289882518, 0.26441245160894267, 0.04288208335318551, 0.08576416670637102, 0.04288208335318551, 0.7718775003573392, 0.08576416670637102, 0.5763722114643507, 0.37294672506516807, 0.0339042477331971, 0.09171596786934831, 0.14110148902976663, 0.7548929663092515, 0.042226717749821154, 0.7480161429968318, 0.0060323882499744505, 0.08445343549964231, 0.120647764999489, 0.21081298692054276, 0.007807888404464546, 0.7651730636375256, 0.007807888404464546, 0.007807888404464546, 0.10555794180875716, 0.07037196120583811, 0.7389055926613001, 0.035185980602919054, 0.035185980602919054, 0.05156243743740632, 0.9428559988554298, 0.16284901101996335, 0.08142450550998168, 0.08142450550998168, 0.04071225275499084, 0.6106837913248625, 0.04071225275499084, 0.2955869483625881, 0.20463711809717638, 0.10610813530964701, 0.09852898278752938, 0.2955869483625881, 0.007579152522117644, 0.5951721976218598, 0.11519461889455351, 0.05759730944727676, 0.2111901346400148, 0.03839820629818451, 0.29787429778950747, 0.46808818224065457, 0.14184490370928926, 0.07092245185464463, 0.028368980741857855, 0.6131282422711849, 0.08758974889588356, 0.08758974889588356, 0.08758974889588356, 0.1751794977917671, 0.030712728837450947, 0.09213818651235284, 0.5221163902366661, 0.36855274604941135, 0.030712728837450947, 0.024521307458019503, 0.5038014077738553, 0.08248076144970197, 0.01114604884455432, 0.1426694252102953, 0.23629623550455156, 0.059210292822601325, 0.7697338066938172, 0.11842058564520265, 0.17410789112621106, 0.05803596370873702, 0.11607192741747405, 0.5803596370873703, 0.05803596370873702, 0.05803596370873702, 0.17484855433063037, 0.327841039369932, 0.021856069291328797, 0.021856069291328797, 0.021856069291328797, 0.43712138582657595, 0.2212758399959713, 0.07375861333199044, 0.07375861333199044, 0.5900689066559235, 0.07375861333199044, 0.07830992759968608, 0.6264794207974886, 0.1435682005994245, 0.052206618399790725, 0.10441323679958145, 0.05762749154394146, 0.48022909619951215, 0.03841832769596097, 0.23050996617576583, 0.08644123731591219, 0.11525498308788291, 0.27063604384706325, 0.5142084833094202, 0.18944523069294425, 0.8995267667343472, 0.13584740465597864, 0.12785638085268577, 0.7191921422963575, 0.007991023803292861, 0.11915384262134737, 0.11915384262134737, 0.5957692131067368, 0.059576921310673686, 0.059576921310673686, 0.059576921310673686, 0.21406894030640855, 0.02675861753830107, 0.046827580692026874, 0.1404827420760806, 0.5686206226888977, 0.006689654384575267, 0.5903588660301706, 0.3542153196181024, 0.13956524932385525, 0.13956524932385525, 0.6978262466192762, 0.11409542453446977, 0.6845725472068187, 0.11409542453446977, 0.18162489405629748, 0.24216652540839664, 0.5448746821688925, 0.06054163135209916, 0.3428918661564618, 0.17709799680608465, 0.3692681635531127, 0.03768042485235844, 0.04144846733759428, 0.033912382367122594, 0.010784193061311932, 0.12401822020508721, 0.010784193061311932, 0.8411670587823307, 0.005392096530655966, 0.40856709988062295, 0.1770457432816033, 0.1089512266348328, 0.04539634443118033, 0.17250610883848524, 0.08625305441924262, 0.018507639110294568, 0.9068743164044338, 0.0555229173308837, 0.22168178799296892, 0.060458669452627886, 0.060458669452627886, 0.060458669452627886, 0.6045866945262789, 0.12808606382865967, 0.7685163829719579, 0.04284473738769781, 0.9425842225293518, 0.12321981233984826, 0.7393188740390896, 0.233948665603281, 0.10026371382997758, 0.5347398070932137, 0.033421237943325854, 0.06684247588665171, 0.2541535853982857, 0.148256258149, 0.3176919817478571, 0.27533305084814286, 0.1250967085997786, 0.813128605898561, 0.09429516102492136, 0.04714758051246068, 0.6600661271744495, 0.04714758051246068, 0.14144274153738204, 0.038541680243482035, 0.34687512219133837, 0.5395835234087485, 0.038541680243482035, 0.09598653337438681, 0.405276474247411, 0.33595286681035386, 0.10131911856185274, 0.05332585187465934, 0.005332585187465934, 0.40081688187529646, 0.10216900910546772, 0.19647886366436101, 0.1336056272917655, 0.10216900910546772, 0.07073239091916997, 0.7789884420917255, 0.1298314070152876, 0.7788819968140421, 0.17974199926477896, 0.05991399975492632, 0.45247698304469675, 0.11126483189623691, 0.044505932758494765, 0.20769435287297558, 0.11126483189623691, 0.06675889913774215, 0.11653615147967482, 0.11653615147967482, 0.5327366924785134, 0.23307230295934964, 0.018190224895940618, 0.7548943331815356, 0.018190224895940618, 0.1909973614073765, 0.018190224895940618, 0.5367886180826051, 0.10735772361652103, 0.24155487813717233, 0.026839430904130258, 0.08051829271239078, 0.033492761202506285, 0.13397104481002514, 0.6698552240501257, 0.033492761202506285, 0.13397104481002514, 0.10819914589575015, 0.5409957294787507, 0.2163982917915003, 0.054099572947875076, 0.054099572947875076, 0.054099572947875076, 0.07431373944780163, 0.29725495779120653, 0.07431373944780163, 0.5201961761346113, 0.5972800929323655, 0.12798859134264975, 0.04266286378088325, 0.12798859134264975, 0.0853257275617665, 0.09219064480311424, 0.6453345136217997, 0.09219064480311424, 0.09219064480311424, 0.7486406409433258, 0.04990937606288839, 0.14972812818866515, 0.09981875212577677, 0.20967077065991707, 0.20967077065991707, 0.5591220550931122, 0.0670999697186113, 0.6038997274675018, 0.2683998788744452, 0.0670999697186113, 0.0670999697186113, 0.07162776215816619, 0.07162776215816619, 0.07162776215816619, 0.07162776215816619, 0.07162776215816619, 0.7162776215816619, 0.6263124535036747, 0.10438540891727913, 0.10438540891727913, 0.10438540891727913, 0.7363552719440938, 0.05664271322646876, 0.05664271322646876, 0.11328542645293752, 0.7477421513058861, 0.04673388445661788, 0.18693553782647152, 0.10287576763825647, 0.3306721102658243, 0.5584684528933922, 0.14941009623110363, 0.82175552927107, 0.19729184413982334, 0.3333551849259084, 0.006803167039304253, 0.3945836882796467, 0.04762216927512977, 0.013606334078608506, 0.8055145340332417, 0.08055145340332417, 0.08055145340332417, 0.05156556083913138, 0.9429131124869737, 0.023342478040784657, 0.30345221453020055, 0.23342478040784656, 0.023342478040784657, 0.023342478040784657, 0.39682212669333916, 0.16510050386665506, 0.041275125966663766, 0.08255025193332753, 0.08255025193332753, 0.2063756298333188, 0.4127512596666376, 0.07776998088436124, 0.025923326961453746, 0.36292657746035245, 0.025923326961453746, 0.05184665392290749, 0.46661988530616744], \"Topic\": [1, 2, 3, 4, 5, 1, 2, 3, 5, 6, 1, 2, 3, 4, 5, 6, 1, 4, 1, 2, 4, 6, 1, 3, 1, 2, 3, 4, 6, 1, 2, 1, 2, 3, 4, 6, 1, 3, 4, 5, 6, 3, 5, 6, 2, 3, 5, 6, 4, 5, 6, 1, 2, 3, 4, 5, 6, 1, 2, 4, 5, 6, 1, 2, 3, 4, 5, 6, 1, 2, 3, 4, 5, 6, 1, 2, 4, 5, 1, 3, 4, 2, 4, 1, 3, 4, 5, 1, 2, 3, 5, 6, 1, 2, 3, 4, 5, 1, 2, 3, 4, 5, 6, 1, 3, 6, 1, 3, 1, 2, 3, 4, 5, 6, 1, 2, 3, 4, 5, 6, 2, 3, 4, 5, 1, 2, 3, 6, 1, 2, 3, 4, 5, 6, 2, 3, 4, 1, 2, 3, 4, 5, 6, 1, 2, 3, 4, 5, 1, 2, 3, 4, 1, 2, 4, 6, 1, 2, 4, 5, 1, 2, 3, 5, 1, 2, 3, 4, 5, 6, 1, 2, 3, 4, 5, 6, 1, 3, 4, 1, 3, 5, 1, 2, 3, 4, 1, 2, 3, 4, 5, 6, 2, 3, 4, 1, 3, 4, 5, 6, 1, 2, 3, 4, 5, 6, 1, 2, 3, 4, 1, 2, 3, 4, 1, 2, 3, 5, 1, 2, 3, 4, 5, 1, 2, 3, 4, 5, 6, 2, 4, 1, 2, 3, 6, 1, 3, 4, 5, 1, 2, 3, 4, 5, 6, 1, 3, 4, 1, 2, 5, 1, 2, 4, 5, 1, 2, 3, 4, 5, 6, 1, 2, 3, 4, 5, 6, 1, 2, 3, 4, 5, 6, 2, 3, 5, 6, 2, 3, 4, 6, 1, 2, 3, 4, 5, 6, 3, 4, 6, 1, 2, 3, 4, 5, 6, 1, 2, 4, 5, 6, 1, 2, 3, 4, 5, 6, 1, 2, 3, 4, 5, 6, 1, 3, 6, 1, 2, 3, 4, 5, 6, 1, 2, 3, 4, 5, 1, 2, 3, 4, 5, 6, 1, 3, 5, 6, 1, 2, 3, 4, 5, 6, 1, 2, 3, 4, 5, 6, 1, 2, 3, 4, 5, 6, 1, 3, 4, 5, 6, 4, 5, 6, 1, 2, 3, 4, 5, 6, 1, 2, 4, 2, 4, 5, 1, 2, 4, 5, 6, 1, 2, 3, 4, 1, 5, 1, 2, 3, 4, 5, 6, 1, 3, 5, 2, 3, 4, 1, 2, 6, 1, 2, 3, 4, 5, 6, 1, 2, 3, 4, 5, 6, 1, 2, 3, 4, 5, 2, 3, 4, 5, 1, 2, 3, 4, 5, 6, 1, 2, 3, 5, 1, 2, 3, 4, 5, 6, 1, 2, 4, 5, 6, 1, 5, 6, 1, 2, 3, 5, 1, 2, 3, 4, 5, 6, 1, 2, 1, 3, 4, 5, 6, 1, 2, 3, 4, 5, 6, 1, 3, 4, 5, 1, 2, 3, 5, 6, 2, 3, 4, 5, 1, 2, 3, 5, 6, 1, 2, 3, 5, 2, 4, 5, 1, 2, 3, 4, 5, 1, 2, 3, 4, 5, 1, 2, 3, 4, 6, 1, 2, 3, 4, 5, 6, 1, 2, 3, 4, 5, 1, 2, 3, 4, 5, 6, 1, 2, 3, 4, 5, 6, 1, 2, 1, 2, 3, 4, 5, 6, 1, 3, 4, 2, 4, 5, 6, 2, 5, 6, 1, 2, 4, 6, 1, 2, 3, 4, 5, 6, 1, 2, 3, 4, 5, 6, 1, 2, 3, 4, 5, 6, 2, 3, 6, 1, 2, 3, 4, 5, 6, 1, 4, 5, 1, 2, 3, 6, 1, 2, 3, 5, 6, 1, 3, 4, 5, 6, 3, 5, 1, 2, 3, 4, 5, 6, 1, 2, 3, 4, 5, 6, 1, 2, 4, 5, 1, 2, 3, 4, 5, 6, 1, 2, 3, 4, 5, 6, 1, 4, 1, 2, 3, 4, 5, 6, 1, 2, 3, 4, 5, 6, 3, 5, 6, 1, 2, 3, 4, 6, 1, 2, 3, 4, 5, 6, 1, 2, 5, 6, 1, 2, 3, 4, 5, 6, 1, 2, 3, 4, 5, 6, 1, 3, 5, 6, 1, 2, 3, 4, 5, 6, 4, 3, 4, 5, 3, 5, 6, 1, 2, 3, 6, 1, 3, 4, 5, 6, 1, 5, 1, 4, 5, 1, 2, 3, 4, 5, 1, 2, 5, 6, 1, 2, 3, 4, 5, 6, 2, 3, 5, 1, 2, 3, 4, 5, 6, 1, 2, 4, 5, 1, 2, 5, 6, 1, 2, 3, 5, 6, 1, 2, 3, 4, 5, 3, 6, 1, 2, 3, 4, 5, 1, 3, 4, 5, 1, 2, 3, 5, 6, 1, 2, 3, 5, 6, 1, 2, 3, 5, 6, 1, 2, 3, 5, 1, 2, 3, 4, 5, 6, 1, 2, 3, 4, 1, 2, 3, 4, 6, 1, 2, 3, 5, 6, 1, 3, 4, 5, 6, 1, 2, 6, 2, 4, 6, 1, 3, 4, 5, 6, 1, 2, 3, 4, 5, 1, 2, 3, 5, 6, 2, 4, 1, 2, 3, 4, 5, 6, 1, 2, 3, 4, 5, 6, 1, 2, 3, 4, 5, 1, 2, 3, 4, 6, 1, 3, 4, 5, 6, 1, 3, 4, 5, 6, 1, 2, 3, 4, 5, 6, 2, 5, 6, 1, 2, 3, 4, 5, 6, 1, 2, 3, 4, 5, 6, 1, 2, 3, 4, 5, 1, 2, 3, 4, 6, 1, 2, 3, 4, 5, 6, 2, 4, 6, 2, 1, 2, 3, 6, 1, 2, 3, 4, 5, 6, 1, 2, 3, 4, 5, 6, 2, 3, 1, 4, 5, 1, 4, 6, 1, 2, 5, 6, 1, 2, 3, 4, 5, 6, 1, 2, 3, 5, 6, 1, 2, 3, 4, 5, 6, 4, 5, 6, 1, 2, 3, 4, 5, 1, 2, 3, 4, 1, 3, 1, 2, 3, 4, 5, 1, 2, 4, 6, 1, 3, 1, 2, 3, 4, 5, 1, 2, 3, 5, 1, 2, 3, 4, 5, 6, 1, 2, 3, 4, 5, 6, 1, 4, 4, 5, 6, 1, 2, 3, 4, 5, 6, 1, 2, 3, 4, 1, 2, 3, 4, 5, 1, 2, 3, 4, 5, 1, 2, 3, 5, 6, 1, 2, 3, 4, 5, 6, 3, 4, 5, 6, 2, 3, 4, 5, 6, 2, 3, 5, 6, 1, 3, 5, 6, 1, 2, 3, 1, 2, 3, 5, 6, 1, 2, 3, 4, 5, 6, 1, 2, 3, 4, 1, 2, 3, 4, 2, 3, 6, 3, 4, 6, 4, 6, 1, 2, 3, 4, 5, 6, 1, 4, 6, 2, 4, 1, 2, 3, 4, 5, 6, 1, 2, 3, 4, 5, 6, 1, 2, 3, 4, 5, 6], \"Term\": [\"abovecaptioned\", \"abovecaptioned\", \"abovecaptioned\", \"abovecaptioned\", \"abovecaptioned\", \"accordance\", \"accordance\", \"accordance\", \"accordance\", \"accordance\", \"address\", \"address\", \"address\", \"address\", \"address\", \"address\", \"adjourn_conference\", \"adjourn_conference\", \"adjournment\", \"adjournment\", \"adjournment\", \"adjournment\", \"administration\", \"administration\", \"administrator\", \"administrator\", \"administrator\", \"administrator\", \"administrator\", \"admission\", \"admission\", \"advise\", \"advise\", \"advise\", \"advise\", \"advise\", \"affidavit_service_summons\", \"affidavit_service_summons\", \"affidavit_service_summons\", \"affidavit_service_summons\", \"affidavit_service_summons\", \"agent\", \"agent\", \"agent\", \"aim_exploration\", \"aim_exploration\", \"aim_exploration\", \"aim_exploration\", \"ambassador\", \"ambassador\", \"ambassador\", \"amend\", \"amend\", \"amend\", \"amend\", \"amend\", \"amend\", \"amend_answer\", \"amend_answer\", \"amend_answer\", \"amend_answer\", \"amend_answer\", \"amend_complaint\", \"amend_complaint\", \"amend_complaint\", \"amend_complaint\", \"amend_complaint\", \"amend_complaint\", \"answer\", \"answer\", \"answer\", \"answer\", \"answer\", \"answer\", \"answer_crossclaim\", \"answer_crossclaim\", \"answer_crossclaim\", \"answer_crossclaim\", \"answer_due_answer_due\", \"answer_due_answer_due\", \"answer_due_answer_due\", \"answer_due_purs\", \"answer_due_purs\", \"appear_pro_hac_vice\", \"appear_pro_hac_vice\", \"appear_pro_hac_vice\", \"appear_pro_hac_vice\", \"applicable\", \"applicable\", \"applicable\", \"applicable\", \"applicable\", \"application\", \"application\", \"application\", \"application\", \"application\", \"argument\", \"argument\", \"argument\", \"argument\", \"argument\", \"argument\", \"assign\", \"assign\", \"assign\", \"assignment\", \"assignment\", \"associate\", \"associate\", \"associate\", \"associate\", \"associate\", \"associate\", \"brief\", \"brief\", \"brief\", \"brief\", \"brief\", \"brief\", \"brooklyn\", \"brooklyn\", \"brooklyn\", \"brooklyn\", \"calendar\", \"calendar\", \"calendar\", \"calendar\", \"certain\", \"certain\", \"certain\", \"certain\", \"certain\", \"certain\", \"certificate\", \"certificate\", \"certificate\", \"certificate_service\", \"certificate_service\", \"certificate_service\", \"certificate_service\", \"certificate_service\", \"certificate_service\", \"change\", \"change\", \"change\", \"change\", \"change\", \"civil\", \"civil\", \"civil\", \"civil\", \"civil_cover_sheet\", \"civil_cover_sheet\", \"civil_cover_sheet\", \"civil_cover_sheet\", \"client\", \"client\", \"client\", \"client\", \"compel\", \"compel\", \"compel\", \"compel\", \"complaint\", \"complaint\", \"complaint\", \"complaint\", \"complaint\", \"complaint\", \"complete\", \"complete\", \"complete\", \"complete\", \"complete\", \"complete\", \"comply_discovery_ruling_conference\", \"comply_discovery_ruling_conference\", \"comply_discovery_ruling_conference\", \"conclude\", \"conclude\", \"conclude\", \"conduct\", \"conduct\", \"conduct\", \"conduct\", \"conference\", \"conference\", \"conference\", \"conference\", \"conference\", \"conference\", \"conference_call\", \"conference_call\", \"conference_call\", \"conference_hold\", \"conference_hold\", \"conference_hold\", \"conference_hold\", \"conference_hold\", \"conference_pm\", \"conference_pm\", \"conference_pm\", \"conference_pm\", \"conference_pm\", \"conference_pm\", \"confidential\", \"confidential\", \"confidential\", \"confidential\", \"confidentiality\", \"confidentiality\", \"confidentiality\", \"confidentiality\", \"confirm\", \"confirm\", \"confirm\", \"confirm\", \"connection\", \"connection\", \"connection\", \"connection\", \"connection\", \"consent\", \"consent\", \"consent\", \"consent\", \"consent\", \"consent\", \"consider\", \"consider\", \"consistent\", \"consistent\", \"consistent\", \"consistent\", \"contempt\", \"contempt\", \"contempt\", \"contempt\", \"continue\", \"continue\", \"continue\", \"continue\", \"continue\", \"continue\", \"corp..\", \"corp..\", \"corp..\", \"correction\", \"correction\", \"correction\", \"counter_rule\", \"counter_rule\", \"counter_rule\", \"counter_rule\", \"counterclaim\", \"counterclaim\", \"counterclaim\", \"counterclaim\", \"counterclaim\", \"counterclaim\", \"courtroom\", \"courtroom\", \"courtroom\", \"courtroom\", \"courtroom\", \"courtroom\", \"courtroom_pearl_street_new\", \"courtroom_pearl_street_new\", \"courtroom_pearl_street_new\", \"courtroom_pearl_street_new\", \"courtroom_pearl_street_new\", \"courtroom_pearl_street_new\", \"crossclaims\", \"crossclaims\", \"crossclaims\", \"crossclaims\", \"dated\", \"dated\", \"dated\", \"dated\", \"deadline\", \"deadline\", \"deadline\", \"deadline\", \"deadline\", \"deadline\", \"deadline_release\", \"deadline_release\", \"deadline_release\", \"decision\", \"decision\", \"decision\", \"decision\", \"decision\", \"decision\", \"declaration\", \"declaration\", \"declaration\", \"declaration\", \"declaration\", \"declaration_opposition\", \"declaration_opposition\", \"declaration_opposition\", \"declaration_opposition\", \"declaration_opposition\", \"declaration_opposition\", \"declaration_support\", \"declaration_support\", \"declaration_support\", \"declaration_support\", \"declaration_support\", \"declaration_support\", \"deficiency\", \"deficiency\", \"deficiency\", \"deny\", \"deny\", \"deny\", \"deny\", \"deny\", \"deny\", \"deposition\", \"deposition\", \"deposition\", \"deposition\", \"deposition\", \"determine\", \"determine\", \"determine\", \"determine\", \"determine\", \"determine\", \"disclose\", \"disclose\", \"disclose\", \"disclose\", \"disclosure\", \"disclosure\", \"disclosure\", \"disclosure\", \"disclosure\", \"disclosure\", \"discovery\", \"discovery\", \"discovery\", \"discovery\", \"discovery\", \"discovery\", \"discovery_complete\", \"discovery_complete\", \"discovery_complete\", \"discovery_complete\", \"discovery_complete\", \"discovery_complete\", \"discovery_dispute\", \"discovery_dispute\", \"discovery_dispute\", \"discovery_dispute\", \"discovery_dispute\", \"discovery_hear_hold\", \"discovery_hear_hold\", \"discovery_hear_hold\", \"dismiss\", \"dismiss\", \"dismiss\", \"dismiss\", \"dismiss\", \"dismiss\", \"dismiss_lack_jurisdiction\", \"dismiss_lack_jurisdiction\", \"dismiss_lack_jurisdiction\", \"dismiss_thirdparty_complaint\", \"dismiss_thirdparty_complaint\", \"dismiss_thirdparty_complaint\", \"dismissal\", \"dismissal\", \"dismissal\", \"dismissal\", \"dismissal\", \"dismissal_without_prejudice\", \"dismissal_without_prejudice\", \"dismissal_without_prejudice\", \"dismissal_without_prejudice\", \"dispositive\", \"dispositive\", \"due\", \"due\", \"due\", \"due\", \"due\", \"due\", \"effect\", \"effect\", \"effect\", \"electronic_filing\", \"electronic_filing\", \"electronic_filing\", \"endorse\", \"endorse\", \"endorse\", \"endorsed_letter_address\", \"endorsed_letter_address\", \"endorsed_letter_address\", \"endorsed_letter_address\", \"endorsed_letter_address\", \"endorsed_letter_address\", \"endorsement\", \"endorsement\", \"endorsement\", \"endorsement\", \"endorsement\", \"endorsement\", \"endorsement_application_grant\", \"endorsement_application_grant\", \"endorsement_application_grant\", \"endorsement_application_grant\", \"endorsement_application_grant\", \"error_electronic_filing_nonecf\", \"error_electronic_filing_nonecf\", \"error_electronic_filing_nonecf\", \"error_electronic_filing_nonecf\", \"establish\", \"establish\", \"establish\", \"establish\", \"establish\", \"establish\", \"exceed\", \"exceed\", \"exceed\", \"exceed\", \"extend\", \"extend\", \"extend\", \"extend\", \"extend\", \"extend\", \"extension\", \"extension\", \"extension\", \"extension\", \"extension\", \"failure_state\", \"failure_state\", \"failure_state\", \"fax\", \"fax\", \"fax\", \"fax\", \"friday\", \"friday\", \"friday\", \"friday\", \"friday\", \"friday\", \"g.c\", \"g.c\", \"government\", \"government\", \"government\", \"government\", \"government\", \"grant\", \"grant\", \"grant\", \"grant\", \"grant\", \"grant\", \"han_kook\", \"han_kook\", \"han_kook\", \"han_kook\", \"hold\", \"hold\", \"hold\", \"hold\", \"hold\", \"however\", \"however\", \"however\", \"however\", \"immediately\", \"immediately\", \"immediately\", \"immediately\", \"immediately\", \"inc.\", \"inc.\", \"inc.\", \"inc.\", \"incorrectly\", \"incorrectly\", \"incorrectly\", \"individual_rule\", \"individual_rule\", \"individual_rule\", \"individual_rule\", \"individual_rule\", \"inform\", \"inform\", \"inform\", \"inform\", \"inform\", \"initiate\", \"initiate\", \"initiate\", \"initiate\", \"initiate\", \"instruction\", \"instruction\", \"instruction\", \"instruction\", \"instruction\", \"instruction\", \"international\", \"international\", \"international\", \"international\", \"international\", \"issue\", \"issue\", \"issue\", \"issue\", \"issue\", \"issue\", \"joint\", \"joint\", \"joint\", \"joint\", \"joint\", \"joint\", \"jr\", \"jr\", \"judgment\", \"judgment\", \"judgment\", \"judgment\", \"judgment\", \"judgment\", \"judgment_favor\", \"judgment_favor\", \"judgment_favor\", \"jury_demand\", \"jury_demand\", \"jury_demand\", \"jury_demand\", \"jury_trial_hold\", \"jury_trial_hold\", \"jury_trial_hold\", \"l.p..\", \"l.p..\", \"l.p..\", \"l.p..\", \"leave\", \"leave\", \"leave\", \"leave\", \"leave\", \"leave\", \"letter\", \"letter\", \"letter\", \"letter\", \"letter\", \"letter\", \"letter_address\", \"letter_address\", \"letter_address\", \"letter_address\", \"letter_address\", \"letter_address\", \"liability_complaint\", \"liability_complaint\", \"liability_complaint\", \"light\", \"light\", \"light\", \"light\", \"light\", \"light\", \"limine_preclude_introduce_evidence\", \"limine_preclude_introduce_evidence\", \"limine_preclude_introduce_evidence\", \"litigation\", \"litigation\", \"litigation\", \"litigation\", \"loan\", \"loan\", \"loan\", \"loan\", \"loan\", \"local_civil_rule\", \"local_civil_rule\", \"local_civil_rule\", \"local_civil_rule\", \"local_civil_rule\", \"longer_assigned\", \"longer_assigned\", \"mdl\", \"mdl\", \"mdl\", \"mdl\", \"mdl\", \"mdl\", \"mediation\", \"mediation\", \"mediation\", \"mediation\", \"mediation\", \"mediation\", \"memorandum_law_opposition\", \"memorandum_law_opposition\", \"memorandum_law_opposition\", \"memorandum_law_opposition\", \"memorandum_law_support\", \"memorandum_law_support\", \"memorandum_law_support\", \"memorandum_law_support\", \"memorandum_law_support\", \"memorandum_law_support\", \"minute_entry_hold\", \"minute_entry_hold\", \"minute_entry_hold\", \"minute_entry_hold\", \"minute_entry_hold\", \"minute_entry_hold\", \"minute_entry_hold_telephone\", \"minute_entry_hold_telephone\", \"motion\", \"motion\", \"motion\", \"motion\", \"motion\", \"motion\", \"move\", \"move\", \"move\", \"move\", \"move\", \"move\", \"new_york_observer\", \"new_york_observer\", \"new_york_observer\", \"nonecf_error\", \"nonecf_error\", \"nonecf_error\", \"nonecf_error\", \"nonecf_error\", \"note\", \"note\", \"note\", \"note\", \"note\", \"note\", \"note_manually_refile\", \"note_manually_refile\", \"note_manually_refile\", \"note_manually_refile\", \"notice\", \"notice\", \"notice\", \"notice\", \"notice\", \"notice\", \"notice_appeal\", \"notice_appeal\", \"notice_appeal\", \"notice_appeal\", \"notice_appeal\", \"notice_appeal\", \"notice_appeal_certify\", \"notice_appeal_certify\", \"notice_appeal_certify\", \"notice_appeal_certify\", \"notice_appearance\", \"notice_appearance\", \"notice_appearance\", \"notice_appearance\", \"notice_appearance\", \"notice_appearance\", \"notice_reassignment\", \"notice_termination\", \"notice_termination\", \"notice_termination\", \"offer\", \"offer\", \"offer\", \"officer\", \"officer\", \"officer\", \"officer\", \"official\", \"official\", \"official\", \"official\", \"official\", \"official_conference\", \"official_conference\", \"official_notice_give\", \"official_notice_give\", \"official_notice_give\", \"opinion\", \"opinion\", \"opinion\", \"opinion\", \"opinion\", \"opportunity\", \"opportunity\", \"opportunity\", \"opportunity\", \"opposition\", \"opposition\", \"opposition\", \"opposition\", \"opposition\", \"opposition\", \"oral_argument_pm\", \"oral_argument_pm\", \"oral_argument_pm\", \"order\", \"order\", \"order\", \"order\", \"order\", \"order\", \"partial_summary_judgment\", \"partial_summary_judgment\", \"partial_summary_judgment\", \"partial_summary_judgment\", \"pdf\", \"pdf\", \"pdf\", \"pdf\", \"period\", \"period\", \"period\", \"period\", \"period\", \"pretrial\", \"pretrial\", \"pretrial\", \"pretrial\", \"pretrial\", \"pretrial_conference_hold\", \"pretrial_conference_hold\", \"prior\", \"prior\", \"prior\", \"prior\", \"prior\", \"pro_hac_vice\", \"pro_hac_vice\", \"pro_hac_vice\", \"pro_hac_vice\", \"proceed\", \"proceed\", \"proceed\", \"proceed\", \"proceed\", \"produce\", \"produce\", \"produce\", \"produce\", \"produce\", \"production\", \"production\", \"production\", \"production\", \"production\", \"promptly\", \"promptly\", \"promptly\", \"promptly\", \"propose\", \"propose\", \"propose\", \"propose\", \"propose\", \"propose\", \"protective\", \"protective\", \"protective\", \"protective\", \"provision\", \"provision\", \"provision\", \"provision\", \"provision\", \"purpose\", \"purpose\", \"purpose\", \"purpose\", \"purpose\", \"question\", \"question\", \"question\", \"question\", \"question\", \"redact\", \"redact\", \"redact\", \"redact_deadline\", \"redact_deadline\", \"redact_deadline\", \"redaction\", \"redaction\", \"redaction\", \"redaction\", \"redaction\", \"release\", \"release\", \"release\", \"release\", \"release\", \"relevant\", \"relevant\", \"relevant\", \"relevant\", \"relevant\", \"remotely_electronically_available_public\", \"remotely_electronically_available_public\", \"renew\", \"renew\", \"renew\", \"renew\", \"renew\", \"renew\", \"reply\", \"reply\", \"reply\", \"reply\", \"reply\", \"reply\", \"reply_memorandum_law\", \"reply_memorandum_law\", \"reply_memorandum_law\", \"reply_memorandum_law\", \"reply_memorandum_law\", \"report\", \"report\", \"report\", \"report\", \"report\", \"report_recommendation\", \"report_recommendation\", \"report_recommendation\", \"report_recommendation\", \"report_recommendation\", \"represent\", \"represent\", \"represent\", \"represent\", \"represent\", \"request\", \"request\", \"request\", \"request\", \"request\", \"request\", \"request_issuance_summons\", \"request_issuance_summons\", \"request_issuance_summons\", \"reset\", \"reset\", \"reset\", \"reset\", \"reset\", \"reset\", \"respectfully_request\", \"respectfully_request\", \"respectfully_request\", \"respectfully_request\", \"respectfully_request\", \"respectfully_request\", \"respective\", \"respective\", \"respective\", \"respective\", \"respective\", \"respond\", \"respond\", \"respond\", \"respond\", \"respond\", \"response\", \"response\", \"response\", \"response\", \"response\", \"response\", \"response_due\", \"response_due\", \"response_due\", \"responsible_courtesy_individual_practice\", \"revise_schedule\", \"revise_schedule\", \"revise_schedule\", \"revise_schedule\", \"right\", \"right\", \"right\", \"right\", \"right\", \"right\", \"rule\", \"rule\", \"rule\", \"rule\", \"rule\", \"rule\", \"rule_certificate\", \"rule_certificate\", \"rule_deposition_objection\", \"rule_deposition_objection\", \"rule_deposition_objection\", \"rule_rule_..\", \"rule_rule_..\", \"rule_rule_..\", \"say\", \"say\", \"say\", \"say\", \"schedule\", \"schedule\", \"schedule\", \"schedule\", \"schedule\", \"schedule\", \"send\", \"send\", \"send\", \"send\", \"send\", \"serve\", \"serve\", \"serve\", \"serve\", \"serve\", \"serve\", \"serve_answer_due\", \"serve_answer_due\", \"serve_answer_due\", \"service\", \"service\", \"service\", \"service\", \"service\", \"service_execute\", \"service_execute\", \"setreset_deadline\", \"setreset_deadline\", \"sheet\", \"sheet\", \"show_cause\", \"show_cause\", \"show_cause\", \"show_cause\", \"show_cause\", \"status_conference\", \"status_conference\", \"status_conference\", \"status_conference\", \"status_conference_hold\", \"status_conference_hold\", \"stipulate\", \"stipulate\", \"stipulate\", \"stipulate\", \"stipulate\", \"stipulate_agree\", \"stipulate_agree\", \"stipulate_agree\", \"stipulate_agree\", \"stipulation\", \"stipulation\", \"stipulation\", \"stipulation\", \"stipulation\", \"stipulation\", \"summary_judgment\", \"summary_judgment\", \"summary_judgment\", \"summary_judgment\", \"summary_judgment\", \"summary_judgment\", \"summons_execute\", \"summons_execute\", \"supplemental_amend\", \"supplemental_amend\", \"supplemental_amend\", \"support\", \"support\", \"support\", \"support\", \"support\", \"support\", \"telephone_conference\", \"telephone_conference\", \"telephone_conference\", \"telephone_conference\", \"terminate\", \"terminate\", \"terminate\", \"terminate\", \"terminate\", \"testimony\", \"testimony\", \"testimony\", \"testimony\", \"testimony\", \"third\", \"third\", \"third\", \"third\", \"third\", \"thirdparty\", \"thirdparty\", \"thirdparty\", \"thirdparty\", \"thirdparty\", \"thirdparty\", \"thk\", \"thk\", \"thk\", \"thk\", \"today\", \"today\", \"today\", \"today\", \"today\", \"total\", \"total\", \"total\", \"total\", \"transfer\", \"transfer\", \"transfer\", \"transfer\", \"undersigned\", \"undersigned\", \"undersigned\", \"united_state\", \"united_state\", \"united_state\", \"united_state\", \"united_state\", \"united_state_courthouse_pearl\", \"united_state_courthouse_pearl\", \"united_state_courthouse_pearl\", \"united_state_courthouse_pearl\", \"united_state_courthouse_pearl\", \"united_state_courthouse_pearl\", \"unless\", \"unless\", \"unless\", \"unless\", \"unredacted\", \"unredacted\", \"unredacted\", \"unredacted\", \"via\", \"via\", \"via\", \"view_public_terminal_purchase\", \"view_public_terminal_purchase\", \"view_public_terminal_purchase\", \"wellington\", \"wellington\", \"withdraw\", \"withdraw\", \"withdraw\", \"withdraw\", \"withdraw\", \"withdraw\", \"withdrawal\", \"withdrawal\", \"withdrawal\", \"without_redaction_calendar\", \"without_redaction_calendar\", \"work\", \"work\", \"work\", \"work\", \"work\", \"work\", \"would\", \"would\", \"would\", \"would\", \"would\", \"would\", \"york\", \"york\", \"york\", \"york\", \"york\", \"york\"]}, \"lambda.step\": 0.01, \"plot.opts\": {\"ylab\": \"PC2\", \"xlab\": \"PC1\"}};\n",
       "\n",
       "function LDAvis_load_lib(url, callback){\n",
       "  var s = document.createElement('script');\n",
       "  s.src = url;\n",
       "  s.async = true;\n",
       "  s.onreadystatechange = s.onload = callback;\n",
       "  s.onerror = function(){console.warn(\"failed to load library \" + url);};\n",
       "  document.getElementsByTagName(\"head\")[0].appendChild(s);\n",
       "}\n",
       "\n",
       "if(typeof(LDAvis) !== \"undefined\"){\n",
       "   // already loaded: just create the visualization\n",
       "   !function(LDAvis){\n",
       "       new LDAvis(\"#\" + \"ldavis_el2506819944779817688010163063\", ldavis_el2506819944779817688010163063_data);\n",
       "   }(LDAvis);\n",
       "}else if(typeof define === \"function\" && define.amd){\n",
       "   // require.js is available: use it to load d3/LDAvis\n",
       "   require.config({paths: {d3: \"https://cdnjs.cloudflare.com/ajax/libs/d3/3.5.5/d3.min\"}});\n",
       "   require([\"d3\"], function(d3){\n",
       "      window.d3 = d3;\n",
       "      LDAvis_load_lib(\"https://cdn.rawgit.com/bmabey/pyLDAvis/files/ldavis.v1.0.0.js\", function(){\n",
       "        new LDAvis(\"#\" + \"ldavis_el2506819944779817688010163063\", ldavis_el2506819944779817688010163063_data);\n",
       "      });\n",
       "    });\n",
       "}else{\n",
       "    // require.js not available: dynamically load d3 & LDAvis\n",
       "    LDAvis_load_lib(\"https://cdnjs.cloudflare.com/ajax/libs/d3/3.5.5/d3.min.js\", function(){\n",
       "         LDAvis_load_lib(\"https://cdn.rawgit.com/bmabey/pyLDAvis/files/ldavis.v1.0.0.js\", function(){\n",
       "                 new LDAvis(\"#\" + \"ldavis_el2506819944779817688010163063\", ldavis_el2506819944779817688010163063_data);\n",
       "            })\n",
       "         });\n",
       "}\n",
       "</script>"
      ],
      "text/plain": [
       "<IPython.core.display.HTML object>"
      ]
     },
     "execution_count": 397,
     "metadata": {},
     "output_type": "execute_result"
    }
   ],
   "source": [
    "num_topics = 6\n",
    "pretrained_model_file_path = 'docket_texts/lda_model_noorgnomodel_' + str(num_topics)\n",
    "column_name = str(num_topics) + '-topic Model Classificaiton'\n",
    "\n",
    "topic_names = {}\n",
    "\n",
    "for i in range(num_topics):\n",
    "    topic_names[i] = 'Topic ' + str(i)\n",
    "\n",
    "LDAvis_prepared, model = topic_modeling_pipeline(num_topics, pretrained_model_file_path, trigram_bow_corpus, trigram_dictionary, export = True)\n",
    "topic_summary = []\n",
    "\n",
    "for docket_text in list(new_df['Apply Trigram Phrase Model']):\n",
    "    #print(docket_text)\n",
    "    topic_summary.append(lda_description(docket_text, model, trigram_dictionary, topic_names))\n",
    "\n",
    "new_df[column_name] = topic_summary\n",
    "pyLDAvis.display(LDAvis_prepared)"
   ]
  },
  {
   "cell_type": "markdown",
   "metadata": {},
   "source": [
    "### 10 Topics:"
   ]
  },
  {
   "cell_type": "code",
   "execution_count": 398,
   "metadata": {
    "scrolled": false
   },
   "outputs": [
    {
     "name": "stdout",
     "output_type": "stream",
     "text": [
      "\n",
      " Topic 1's make-up:\n",
      "term                 frequency\n",
      "\n",
      "order                0.092\n",
      "notice               0.071\n",
      "motion               0.053\n",
      "without_redaction_calendar 0.032\n",
      "remotely_electronically_available_public 0.032\n",
      "serve                0.026\n",
      "request              0.024\n",
      "abovecaptioned       0.022\n",
      "endorsed_letter_address 0.020\n",
      "dismiss              0.019\n",
      "\n",
      " Topic 2's make-up:\n",
      "term                 frequency\n",
      "\n",
      "motion               0.077\n",
      "serve_answer_due     0.037\n",
      "amend_complaint      0.036\n",
      "letter               0.034\n",
      "request              0.021\n",
      "order                0.017\n",
      "conference           0.017\n",
      "notice               0.015\n",
      "terminate            0.015\n",
      "longer_assigned      0.014\n",
      "\n",
      " Topic 3's make-up:\n",
      "term                 frequency\n",
      "\n",
      "hold                 0.077\n",
      "motion               0.048\n",
      "terminate            0.045\n",
      "endorsement          0.032\n",
      "discovery            0.024\n",
      "due                  0.020\n",
      "complaint            0.020\n",
      "declaration_support  0.019\n",
      "reply                0.019\n",
      "a.m                  0.016\n",
      "\n",
      " Topic 4's make-up:\n",
      "term                 frequency\n",
      "\n",
      "order                0.084\n",
      "redaction            0.047\n",
      "calendar             0.043\n",
      "schedule             0.033\n",
      "due                  0.029\n",
      "request              0.021\n",
      "notice               0.021\n",
      "hold                 0.020\n",
      "rule                 0.018\n",
      "revise_schedule      0.017\n",
      "\n",
      " Topic 5's make-up:\n",
      "term                 frequency\n",
      "\n",
      "order                0.148\n",
      "send                 0.045\n",
      "motion               0.028\n",
      "conference           0.025\n",
      "revise_schedule      0.023\n",
      "request              0.023\n",
      "amend_complaint      0.022\n",
      "discovery            0.021\n",
      "letter               0.020\n",
      "answer               0.016\n",
      "\n",
      " Topic 6's make-up:\n",
      "term                 frequency\n",
      "\n",
      "motion               0.174\n",
      "dismiss              0.046\n",
      "memorandum_law_support 0.036\n",
      "order                0.035\n",
      "notice               0.022\n",
      "request              0.021\n",
      "support              0.015\n",
      "declaration_support  0.013\n",
      "summary_judgment     0.013\n",
      "declaration_opposition 0.012\n",
      "\n",
      " Topic 7's make-up:\n",
      "term                 frequency\n",
      "\n",
      "motion               0.193\n",
      "withdraw             0.048\n",
      "dismiss              0.026\n",
      "complaint            0.022\n",
      "redact_deadline      0.021\n",
      "memorandum_law_opposition 0.021\n",
      "order                0.020\n",
      "serve                0.020\n",
      "due                  0.016\n",
      "grant                0.016\n",
      "\n",
      " Topic 8's make-up:\n",
      "term                 frequency\n",
      "\n",
      "order                0.075\n",
      "due                  0.057\n",
      "motion               0.042\n",
      "notice_appearance    0.036\n",
      "request              0.028\n",
      "endorsement          0.025\n",
      "calendar             0.025\n",
      "redaction            0.023\n",
      "amend_complaint      0.020\n",
      "grant                0.020\n",
      "\n",
      " Topic 9's make-up:\n",
      "term                 frequency\n",
      "\n",
      "order                0.070\n",
      "conference_hold      0.067\n",
      "motion               0.049\n",
      "endorsement          0.037\n",
      "letter               0.035\n",
      "deadline_release     0.028\n",
      "view_public_terminal_purchase 0.028\n",
      "request              0.026\n",
      "issue                0.015\n",
      "notice               0.013\n",
      "\n",
      " Topic 10's make-up:\n",
      "term                 frequency\n",
      "\n",
      "order                0.109\n",
      "discovery            0.057\n",
      "minute_entry_hold    0.034\n",
      "release              0.024\n",
      "discovery_hear_hold  0.024\n",
      "notice               0.024\n",
      "motion               0.021\n",
      "schedule             0.019\n",
      "due                  0.019\n",
      "disclose             0.015\n"
     ]
    },
    {
     "data": {
      "text/html": [
       "\n",
       "<link rel=\"stylesheet\" type=\"text/css\" href=\"https://cdn.rawgit.com/bmabey/pyLDAvis/files/ldavis.v1.0.0.css\">\n",
       "\n",
       "\n",
       "<div id=\"ldavis_el2506819944779829686780103091\"></div>\n",
       "<script type=\"text/javascript\">\n",
       "\n",
       "var ldavis_el2506819944779829686780103091_data = {\"topic.order\": [6, 7, 5, 1, 10, 9, 4, 2, 8, 3], \"mdsDat\": {\"cluster\": [1, 1, 1, 1, 1, 1, 1, 1, 1, 1], \"topics\": [1, 2, 3, 4, 5, 6, 7, 8, 9, 10], \"Freq\": [19.629595505428394, 12.515773557077317, 11.036885439139455, 10.964342852668466, 9.64186391051857, 8.501437563799605, 8.040942851995329, 7.180366988239774, 6.302295645935511, 6.1864956851975785], \"x\": [0.10068271217205071, 0.09637488532499554, -0.09113274166440835, -0.03520400907397029, -0.10700157817888954, -0.03433269213625378, -0.11435547015598212, 0.09303417576025767, -0.04831527827995528, 0.14024999623215553], \"y\": [0.06390870612929633, 0.03717674983143873, 0.021054627658179465, 0.08770734763923685, -0.04097358751077354, 0.04051693519710799, -0.07861944680338663, 0.09061096873503423, -0.029826342940425275, -0.19155595793570837]}, \"R\": 30, \"tinfo\": {\"Category\": [\"Default\", \"Default\", \"Default\", \"Default\", \"Default\", \"Default\", \"Default\", \"Default\", \"Default\", \"Default\", \"Default\", \"Default\", \"Default\", \"Default\", \"Default\", \"Default\", \"Default\", \"Default\", \"Default\", \"Default\", \"Default\", \"Default\", \"Default\", \"Default\", \"Default\", \"Default\", \"Default\", \"Default\", \"Default\", \"Default\", \"Topic1\", \"Topic1\", \"Topic1\", \"Topic1\", \"Topic1\", \"Topic1\", \"Topic1\", \"Topic1\", \"Topic1\", \"Topic1\", \"Topic1\", \"Topic1\", \"Topic1\", \"Topic1\", \"Topic1\", \"Topic1\", \"Topic1\", \"Topic1\", \"Topic1\", \"Topic1\", \"Topic1\", \"Topic1\", \"Topic1\", \"Topic1\", \"Topic1\", \"Topic1\", \"Topic1\", \"Topic1\", \"Topic1\", \"Topic1\", \"Topic1\", \"Topic1\", \"Topic1\", \"Topic1\", \"Topic1\", \"Topic1\", \"Topic1\", \"Topic1\", \"Topic1\", \"Topic1\", \"Topic1\", \"Topic1\", \"Topic1\", \"Topic1\", \"Topic1\", \"Topic1\", \"Topic1\", \"Topic1\", \"Topic1\", \"Topic1\", \"Topic1\", \"Topic1\", \"Topic1\", \"Topic1\", \"Topic2\", \"Topic2\", \"Topic2\", \"Topic2\", \"Topic2\", \"Topic2\", \"Topic2\", \"Topic2\", \"Topic2\", \"Topic2\", \"Topic2\", \"Topic2\", \"Topic2\", \"Topic2\", \"Topic2\", \"Topic2\", \"Topic2\", \"Topic2\", \"Topic2\", \"Topic2\", \"Topic2\", \"Topic2\", \"Topic2\", \"Topic2\", \"Topic2\", \"Topic2\", \"Topic2\", \"Topic2\", \"Topic2\", \"Topic2\", \"Topic2\", \"Topic2\", \"Topic2\", \"Topic2\", \"Topic2\", \"Topic2\", \"Topic2\", \"Topic2\", \"Topic2\", \"Topic2\", \"Topic2\", \"Topic2\", \"Topic2\", \"Topic2\", \"Topic2\", \"Topic2\", \"Topic2\", \"Topic2\", \"Topic2\", \"Topic2\", \"Topic2\", \"Topic2\", \"Topic2\", \"Topic2\", \"Topic2\", \"Topic3\", \"Topic3\", \"Topic3\", \"Topic3\", \"Topic3\", \"Topic3\", \"Topic3\", \"Topic3\", \"Topic3\", \"Topic3\", \"Topic3\", \"Topic3\", \"Topic3\", \"Topic3\", \"Topic3\", \"Topic3\", \"Topic3\", \"Topic3\", \"Topic3\", \"Topic3\", \"Topic3\", \"Topic3\", \"Topic3\", \"Topic3\", \"Topic3\", \"Topic3\", \"Topic3\", \"Topic3\", \"Topic3\", \"Topic3\", \"Topic3\", \"Topic3\", \"Topic3\", \"Topic3\", \"Topic3\", \"Topic3\", \"Topic3\", \"Topic3\", \"Topic3\", \"Topic3\", \"Topic3\", \"Topic3\", \"Topic3\", \"Topic3\", \"Topic3\", \"Topic3\", \"Topic3\", \"Topic3\", \"Topic3\", \"Topic3\", \"Topic3\", \"Topic3\", \"Topic3\", \"Topic3\", \"Topic3\", \"Topic3\", \"Topic4\", \"Topic4\", \"Topic4\", \"Topic4\", \"Topic4\", \"Topic4\", \"Topic4\", \"Topic4\", \"Topic4\", \"Topic4\", \"Topic4\", \"Topic4\", \"Topic4\", \"Topic4\", \"Topic4\", \"Topic4\", \"Topic4\", \"Topic4\", \"Topic4\", \"Topic4\", \"Topic4\", \"Topic4\", \"Topic4\", \"Topic4\", \"Topic4\", \"Topic4\", \"Topic4\", \"Topic4\", \"Topic4\", \"Topic4\", \"Topic4\", \"Topic4\", \"Topic4\", \"Topic4\", \"Topic4\", \"Topic4\", \"Topic4\", \"Topic4\", \"Topic4\", \"Topic4\", \"Topic4\", \"Topic4\", \"Topic4\", \"Topic4\", \"Topic4\", \"Topic4\", \"Topic4\", \"Topic4\", \"Topic4\", \"Topic4\", \"Topic4\", \"Topic4\", \"Topic4\", \"Topic4\", \"Topic4\", \"Topic4\", \"Topic4\", \"Topic5\", \"Topic5\", \"Topic5\", \"Topic5\", \"Topic5\", \"Topic5\", \"Topic5\", \"Topic5\", \"Topic5\", \"Topic5\", \"Topic5\", \"Topic5\", \"Topic5\", \"Topic5\", \"Topic5\", \"Topic5\", \"Topic5\", \"Topic5\", \"Topic5\", \"Topic5\", \"Topic5\", \"Topic5\", \"Topic5\", \"Topic5\", \"Topic5\", \"Topic5\", \"Topic5\", \"Topic5\", \"Topic5\", \"Topic5\", \"Topic5\", \"Topic5\", \"Topic5\", \"Topic5\", \"Topic5\", \"Topic5\", \"Topic5\", \"Topic5\", \"Topic5\", \"Topic5\", \"Topic5\", \"Topic5\", \"Topic5\", \"Topic5\", \"Topic5\", \"Topic5\", \"Topic5\", \"Topic5\", \"Topic5\", \"Topic5\", \"Topic5\", \"Topic5\", \"Topic5\", \"Topic5\", \"Topic6\", \"Topic6\", \"Topic6\", \"Topic6\", \"Topic6\", \"Topic6\", \"Topic6\", \"Topic6\", \"Topic6\", \"Topic6\", \"Topic6\", \"Topic6\", \"Topic6\", \"Topic6\", \"Topic6\", \"Topic6\", \"Topic6\", \"Topic6\", \"Topic6\", \"Topic6\", \"Topic6\", \"Topic6\", \"Topic6\", \"Topic6\", \"Topic6\", \"Topic6\", \"Topic6\", \"Topic6\", \"Topic6\", \"Topic6\", \"Topic6\", \"Topic6\", \"Topic6\", \"Topic6\", \"Topic6\", \"Topic6\", \"Topic6\", \"Topic6\", \"Topic6\", \"Topic6\", \"Topic6\", \"Topic6\", \"Topic6\", \"Topic6\", \"Topic6\", \"Topic6\", \"Topic6\", \"Topic6\", \"Topic6\", \"Topic6\", \"Topic7\", \"Topic7\", \"Topic7\", \"Topic7\", \"Topic7\", \"Topic7\", \"Topic7\", \"Topic7\", \"Topic7\", \"Topic7\", \"Topic7\", \"Topic7\", \"Topic7\", \"Topic7\", \"Topic7\", \"Topic7\", \"Topic7\", \"Topic7\", \"Topic7\", \"Topic7\", \"Topic7\", \"Topic7\", \"Topic7\", \"Topic7\", \"Topic7\", \"Topic7\", \"Topic7\", \"Topic7\", \"Topic7\", \"Topic7\", \"Topic7\", \"Topic7\", \"Topic7\", \"Topic7\", \"Topic7\", \"Topic7\", \"Topic7\", \"Topic7\", \"Topic7\", \"Topic7\", \"Topic7\", \"Topic7\", \"Topic7\", \"Topic7\", \"Topic7\", \"Topic7\", \"Topic7\", \"Topic7\", \"Topic7\", \"Topic7\", \"Topic7\", \"Topic7\", \"Topic7\", \"Topic7\", \"Topic7\", \"Topic8\", \"Topic8\", \"Topic8\", \"Topic8\", \"Topic8\", \"Topic8\", \"Topic8\", \"Topic8\", \"Topic8\", \"Topic8\", \"Topic8\", \"Topic8\", \"Topic8\", \"Topic8\", \"Topic8\", \"Topic8\", \"Topic8\", \"Topic8\", \"Topic8\", \"Topic8\", \"Topic8\", \"Topic8\", \"Topic8\", \"Topic8\", \"Topic8\", \"Topic8\", \"Topic8\", \"Topic8\", \"Topic8\", \"Topic8\", \"Topic8\", \"Topic8\", \"Topic8\", \"Topic8\", \"Topic8\", \"Topic8\", \"Topic8\", \"Topic8\", \"Topic8\", \"Topic8\", \"Topic8\", \"Topic8\", \"Topic8\", \"Topic8\", \"Topic8\", \"Topic8\", \"Topic8\", \"Topic8\", \"Topic8\", \"Topic8\", \"Topic8\", \"Topic8\", \"Topic8\", \"Topic9\", \"Topic9\", \"Topic9\", \"Topic9\", \"Topic9\", \"Topic9\", \"Topic9\", \"Topic9\", \"Topic9\", \"Topic9\", \"Topic9\", \"Topic9\", \"Topic9\", \"Topic9\", \"Topic9\", \"Topic9\", \"Topic9\", \"Topic9\", \"Topic9\", \"Topic9\", \"Topic9\", \"Topic9\", \"Topic9\", \"Topic9\", \"Topic9\", \"Topic9\", \"Topic9\", \"Topic9\", \"Topic9\", \"Topic9\", \"Topic9\", \"Topic9\", \"Topic9\", \"Topic9\", \"Topic9\", \"Topic9\", \"Topic9\", \"Topic9\", \"Topic9\", \"Topic9\", \"Topic9\", \"Topic9\", \"Topic9\", \"Topic9\", \"Topic9\", \"Topic9\", \"Topic9\", \"Topic9\", \"Topic9\", \"Topic9\", \"Topic9\", \"Topic9\", \"Topic9\", \"Topic9\", \"Topic9\", \"Topic10\", \"Topic10\", \"Topic10\", \"Topic10\", \"Topic10\", \"Topic10\", \"Topic10\", \"Topic10\", \"Topic10\", \"Topic10\", \"Topic10\", \"Topic10\", \"Topic10\", \"Topic10\", \"Topic10\", \"Topic10\", \"Topic10\", \"Topic10\", \"Topic10\", \"Topic10\", \"Topic10\", \"Topic10\", \"Topic10\", \"Topic10\", \"Topic10\", \"Topic10\", \"Topic10\", \"Topic10\", \"Topic10\", \"Topic10\", \"Topic10\", \"Topic10\", \"Topic10\", \"Topic10\", \"Topic10\", \"Topic10\", \"Topic10\", \"Topic10\", \"Topic10\", \"Topic10\", \"Topic10\", \"Topic10\", \"Topic10\", \"Topic10\", \"Topic10\", \"Topic10\", \"Topic10\", \"Topic10\", \"Topic10\", \"Topic10\"], \"Total\": [1438.0, 1884.0, 185.0, 213.0, 265.0, 162.0, 127.0, 154.0, 262.0, 196.0, 188.0, 136.0, 84.0, 84.0, 62.0, 130.0, 465.0, 106.0, 283.0, 193.0, 103.0, 103.0, 58.0, 113.0, 296.0, 121.0, 134.0, 138.0, 188.0, 388.0, 17.727422080392124, 25.27478837067597, 193.25364230347532, 33.900235856148605, 12.2886175937736, 18.741873165093025, 26.74757779195654, 32.163035739545535, 16.275258857886328, 36.59445986104316, 82.03316435307073, 17.731895659104275, 57.84943189721439, 21.443035880722654, 37.52243497148721, 43.78415466540794, 29.91196152616488, 16.65339420577793, 38.831324546703016, 24.653898008556162, 15.25900664656029, 11.726283757543907, 26.450768146507336, 14.287348599483074, 20.461446246351453, 41.50104407263593, 90.42484121195493, 27.13756662731355, 25.127201236902476, 31.286651245885395, 388.2400348401101, 33.715091998066384, 1884.8984550544478, 152.29930785358997, 134.68448159793974, 92.38605542095286, 54.87078332042201, 147.81104911349047, 65.46290861482491, 85.79129192670696, 405.69658305589917, 465.34122855405116, 188.42056587291188, 158.3949697700314, 1438.0843589668232, 138.50518321700685, 182.9014860192672, 110.56085719399366, 283.2940294985335, 266.28637642037313, 228.49461067368324, 296.1415504405739, 209.69116346873346, 196.57440884578165, 18.84781277701845, 162.12414952765846, 14.763682904111997, 56.37388883281924, 20.574094429968312, 45.67095608435159, 32.41556415715837, 49.8547247281323, 102.06610861164047, 20.157433661367318, 8.207657981637208, 15.56857075848481, 7.146101382644875, 24.29241868413109, 121.34948523579695, 7.366707225401647, 11.676327263177903, 23.289915138930727, 18.383121875525557, 15.907032635939578, 25.555057470950096, 8.01973212906352, 26.700119653735648, 18.341002686813837, 19.915926390334068, 9.143100973690848, 57.1944033120807, 17.529221442352558, 8.65106406973295, 26.62671351991419, 43.81926740181933, 1884.8984550544478, 100.59727585668011, 209.69116346873346, 188.08818011254414, 95.1387864012193, 63.75060670461376, 388.2400348401101, 199.40493252633792, 265.26523848922466, 81.22913148981397, 266.28637642037313, 134.68448159793974, 296.1415504405739, 138.50518321700685, 213.31316607651, 1438.0843589668232, 50.544391722591946, 147.81104911349047, 77.47722518821, 262.68012553445124, 132.1076275422715, 465.34122855405116, 152.29930785358997, 162.11523822572755, 17.643553655157817, 11.871469580091201, 18.78270099764665, 188.42056587291188, 26.740945322417616, 14.173395942431634, 7.481651249205284, 15.383903253454996, 13.98711533591926, 113.7311026577725, 66.96765014341173, 27.18087635895003, 39.98007668409333, 8.757830046287175, 9.265876724010079, 14.459406967641652, 13.649430415318152, 26.606434797217972, 24.014517278036017, 36.78365299906933, 20.33810475187975, 12.914159504247912, 11.883472896678974, 17.152852212039356, 14.568350592641332, 18.343294352351766, 21.7193094373852, 20.663838221368398, 20.98678669719692, 19.915926390334068, 72.62660658343707, 1438.0843589668232, 48.81965211271703, 228.49461067368324, 141.69680797436376, 67.45282793539424, 36.92759217258768, 262.68012553445124, 130.8161266310274, 296.1415504405739, 283.2940294985335, 182.9014860192672, 209.69116346873346, 405.69658305589917, 121.34948523579695, 61.25601709452156, 162.11523822572755, 1884.8984550544478, 188.08818011254414, 266.28637642037313, 199.40493252633792, 110.56085719399366, 152.29930785358997, 158.3949697700314, 465.34122855405116, 95.1387864012193, 84.53532339508614, 84.53549265798995, 15.330328642785691, 6.645342440646512, 36.08484538489949, 5.974265366409411, 10.477006459680585, 38.376844184461305, 10.367253818365109, 10.367276928095484, 8.001735647791964, 12.853568516279521, 11.091158611952654, 11.563462731262733, 6.783273098565055, 11.487059542249868, 9.751191611702952, 10.091837702038678, 18.59006158753087, 140.17160682547924, 465.34122855405116, 28.687834131005683, 11.314455111470009, 61.25601709452156, 27.20038043084422, 25.372365603189753, 13.583691962110153, 42.491984051598955, 7.2163501641343375, 79.05307999613206, 188.08818011254414, 106.62416216353031, 162.11523822572755, 33.00971288209934, 81.22913148981397, 25.2524085224009, 1438.0843589668232, 36.92759217258768, 103.70015965032678, 103.70136274769816, 199.40493252633792, 95.35834800672228, 405.69658305589917, 36.40044670745247, 296.1415504405739, 1884.8984550544478, 388.2400348401101, 136.3443480221692, 136.06001713202755, 182.9014860192672, 50.544391722591946, 228.49461067368324, 147.81104911349047, 213.31316607651, 152.29930785358997, 141.69680797436376, 209.69116346873346, 58.82613589645373, 6.811432315399991, 46.22463499937639, 106.19873666522449, 9.978981208216092, 20.469018482845758, 30.180571874445224, 22.962602860898027, 14.72007474606743, 11.265558769530926, 6.676946054314223, 14.559810240018141, 14.114729301545434, 16.57822627925017, 10.170199598011132, 25.9958659044497, 10.07245987061276, 35.818717374752744, 16.804280549479724, 262.68012553445124, 37.77002484618873, 8.65106406973295, 6.3521102672434315, 14.514123027570578, 75.0145745706217, 20.129480781941066, 23.365408298701645, 29.13798414964346, 61.12340230569997, 27.955780876247253, 138.50518321700685, 55.10905316976218, 85.79129192670696, 1438.0843589668232, 132.1076275422715, 32.86964768028581, 38.19284315616555, 266.28637642037313, 265.26523848922466, 465.34122855405116, 66.45313130910169, 67.0688378138391, 92.38605542095286, 79.05307999613206, 35.91082000666846, 228.49461067368324, 158.3949697700314, 1884.8984550544478, 106.62416216353031, 405.69658305589917, 140.17160682547924, 185.36243441420146, 283.2940294985335, 162.11523822572755, 23.392060962307248, 26.313288784810666, 12.00002147488336, 8.27560567950841, 213.31316607651, 14.10672898504115, 31.003337797014424, 103.70136274769816, 103.70015965032678, 12.332667831788209, 26.048959384959804, 20.381801674198822, 14.232252101650134, 39.639425440245965, 9.217256592763064, 37.14326853109577, 13.88591114184582, 7.078128125861268, 20.04948399588065, 196.57440884578165, 6.3440774140306955, 12.585543359895732, 14.349057304803193, 61.813154066281434, 21.572289095780512, 8.290959858298692, 9.51878696835267, 6.721205372426897, 21.933708884215775, 36.78365299906933, 72.62660658343707, 35.52445593545324, 283.2940294985335, 16.103457246369626, 67.45282793539424, 158.3949697700314, 1438.0843589668232, 405.69658305589917, 130.8161266310274, 1884.8984550544478, 182.9014860192672, 162.11523822572755, 132.1076275422715, 136.3443480221692, 266.28637642037313, 465.34122855405116, 152.29930785358997, 110.56085719399366, 296.1415504405739, 228.49461067368324, 7.035248653877864, 11.046483891367298, 127.80378240046412, 36.840207101907986, 154.46400507062447, 12.798487157781597, 7.61445527070186, 42.96251341028596, 35.147772263446974, 25.902502645807044, 16.660276527255842, 9.021224975546938, 8.140775705716246, 17.152852212039356, 22.849884970896557, 15.81880149034238, 21.17531849844466, 12.635181353250829, 16.00373187426826, 17.739150231801464, 16.48456867828468, 21.773487588129516, 6.577766923827659, 18.533475348808224, 44.64964032331089, 53.466381899565086, 19.39762891524952, 26.606434797217972, 7.190817781905005, 19.98966109793754, 48.877131873422165, 113.7311026577725, 266.28637642037313, 136.3443480221692, 265.26523848922466, 106.62416216353031, 185.36243441420146, 1438.0843589668232, 79.05307999613206, 121.34948523579695, 140.17160682547924, 141.69680797436376, 405.69658305589917, 132.1076275422715, 465.34122855405116, 61.022952755426324, 42.38852468878994, 296.1415504405739, 64.3371411337421, 209.69116346873346, 1884.8984550544478, 110.56085719399366, 188.08818011254414, 283.2940294985335, 136.06001713202755, 62.79532469564286, 29.22533680158539, 26.805209658360422, 23.020859613204188, 13.669627087523578, 13.137601271665293, 27.780949712394825, 14.124165670256735, 31.313172262552495, 16.513509168997928, 16.67952545819579, 19.97777431847451, 17.26066345051463, 10.918105288730034, 25.258537231598904, 19.3375246213437, 17.332035805212012, 20.816335648408995, 27.20038043084422, 20.98678669719692, 21.319854072349713, 11.513089859991789, 37.76630044871531, 19.98966109793754, 22.22144726590508, 8.045484196603857, 25.2524085224009, 46.061730629136314, 9.289853637959931, 26.18198738717652, 58.39828288145151, 42.94964648906901, 32.008161109248, 296.1415504405739, 283.2940294985335, 1884.8984550544478, 136.63201504225617, 95.1387864012193, 228.49461067368324, 405.69658305589917, 147.81104911349047, 158.3949697700314, 100.59727585668011, 77.47722518821, 103.70136274769816, 103.70015965032678, 465.34122855405116, 388.2400348401101, 188.42056587291188, 1438.0843589668232, 182.9014860192672, 136.06001713202755, 136.3443480221692, 9.6232473045076, 30.209427439109824, 30.154441004711174, 13.286595184656488, 48.3099409797384, 11.885988907563842, 7.880968579352323, 130.8161266310274, 20.381801674198822, 34.81284273365064, 18.343294352351766, 16.188388287586168, 18.06734367736056, 12.062591300755255, 32.330538200437765, 15.96869975887361, 16.352124495927033, 20.157433661367318, 265.26523848922466, 18.873297678061626, 7.574445087577702, 127.80378240046412, 19.44128235545357, 9.763482238113529, 23.665392277152044, 13.88591114184582, 14.08856587050474, 26.2871481395263, 21.511027703990894, 12.748381434646909, 154.46400507062447, 100.59727585668011, 196.57440884578165, 27.708722617078415, 49.76957382428737, 199.40493252633792, 1438.0843589668232, 405.69658305589917, 228.49461067368324, 141.69680797436376, 296.1415504405739, 1884.8984550544478, 34.12979805313293, 106.62416216353031, 39.639425440245965, 140.17160682547924, 283.2940294985335, 213.31316607651, 465.34122855405116, 209.69116346873346, 266.28637642037313, 75.0145745706217, 388.2400348401101, 188.08818011254414, 110.56085719399366, 9.844107674415454, 8.464923717657683, 10.415858459068462, 185.36243441420146, 21.069871738461238, 8.800676562998625, 42.98467278611204, 9.2574590093271, 44.54575258912446, 7.999973136296024, 136.63201504225617, 42.38852468878994, 21.511027703990894, 21.7193094373852, 42.94964648906901, 12.635181353250829, 22.49956071009629, 16.48456867828468, 12.062591300755255, 29.32717562865231, 25.31860141642626, 33.06472741501288, 61.813154066281434, 7.894963868962998, 34.75542367134772, 11.93079490656466, 32.330538200437765, 8.235049418199775, 10.918686175924508, 28.086297274768437, 33.2163823311507, 67.0688378138391, 31.384325144724208, 196.57440884578165, 42.491984051598955, 134.68448159793974, 136.06001713202755, 262.68012553445124, 209.69116346873346, 265.26523848922466, 162.11523822572755, 1884.8984550544478, 154.46400507062447, 55.10905316976218, 95.35834800672228, 38.861180827638144, 199.40493252633792, 92.38605542095286, 44.95821742718897, 405.69658305589917], \"loglift\": [30.0, 29.0, 28.0, 27.0, 26.0, 25.0, 24.0, 23.0, 22.0, 21.0, 20.0, 19.0, 18.0, 17.0, 16.0, 15.0, 14.0, 13.0, 12.0, 11.0, 10.0, 9.0, 8.0, 7.0, 6.0, 5.0, 4.0, 3.0, 2.0, 1.0, 1.4892, 1.4869, 1.4116, 1.3172, 1.3048, 1.2923, 1.275, 1.2535, 1.2428, 1.2385, 1.2068, 1.1849, 1.1762, 1.1728, 1.1382, 1.1225, 1.1188, 1.1164, 1.1065, 1.0992, 1.0883, 1.0708, 1.0541, 1.0479, 1.0424, 1.04, 1.0273, 1.0143, 1.0143, 1.0133, 0.9673, 0.9981, 0.7101, 0.7675, 0.7696, 0.8106, 0.8785, 0.6692, 0.7959, 0.6995, 0.1282, 0.05, 0.313, 0.335, -0.6163, 0.2733, 0.0822, 0.3688, -0.2216, -0.2315, -0.1765, -0.3835, -0.4131, -0.4403, 1.8993, 1.8796, 1.8416, 1.6411, 1.6368, 1.5783, 1.5504, 1.5234, 1.5116, 1.4275, 1.4051, 1.3871, 1.3666, 1.3438, 1.3434, 1.3362, 1.3335, 1.3176, 1.3044, 1.2746, 1.2528, 1.2514, 1.2493, 1.226, 1.2241, 1.2236, 1.2081, 1.1775, 1.1755, 1.1522, 1.0871, 0.8122, 1.0199, 0.8536, 0.8426, 0.9042, 0.9637, 0.385, 0.5405, 0.3046, 0.7077, 0.2304, 0.429, 0.0187, 0.2903, -0.0197, -1.1838, 0.8505, 0.1516, 0.5462, -0.4183, 0.0962, -0.98, -0.0299, -0.1596, 1.7558, 1.7341, 1.7089, 1.6655, 1.6455, 1.6284, 1.5634, 1.5237, 1.4931, 1.4843, 1.47, 1.4697, 1.4185, 1.4059, 1.3495, 1.348, 1.343, 1.3377, 1.2892, 1.2752, 1.2672, 1.2493, 1.2313, 1.2056, 1.1958, 1.1857, 1.13, 1.1028, 1.0873, 1.0562, 1.0259, 0.8176, 1.0202, 0.8596, 0.8908, 0.9468, 1.0328, 0.565, 0.7238, 0.5015, 0.4505, 0.564, 0.4668, 0.2064, 0.6242, 0.8302, 0.2853, -1.1244, 0.1412, -0.0597, 0.0397, 0.3628, 0.0835, -0.0505, -1.0456, 0.3528, 2.1213, 2.1213, 1.6253, 1.6101, 1.5718, 1.5656, 1.4136, 1.3964, 1.345, 1.345, 1.321, 1.3048, 1.3037, 1.2621, 1.2401, 1.2286, 1.2267, 1.2236, 1.2214, 1.2213, 1.2174, 1.217, 1.2004, 1.1906, 1.1706, 1.1626, 1.1488, 1.1292, 1.1282, 1.1246, 1.1029, 1.091, 1.0105, 1.1056, 1.0114, 1.1081, 0.3398, 1.0143, 0.7347, 0.7345, 0.55, 0.6992, 0.2624, 0.9723, 0.2492, -0.4838, 0.0879, 0.4063, 0.3637, 0.1879, 0.8212, -0.0619, 0.1839, -0.1039, 0.1092, 0.1507, -0.1606, 2.1848, 2.0846, 1.9953, 1.956, 1.8823, 1.8587, 1.8361, 1.801, 1.7976, 1.7873, 1.755, 1.7459, 1.7103, 1.7051, 1.6838, 1.6834, 1.5898, 1.5756, 1.5707, 1.5697, 1.5532, 1.4958, 1.4777, 1.4504, 1.4402, 1.4221, 1.3945, 1.3796, 1.3699, 1.3575, 1.3386, 1.3158, 1.1982, 0.5129, 0.8856, 1.274, 1.2117, 0.4747, 0.4498, 0.1153, 0.9191, 0.9061, 0.7274, 0.7839, 1.2161, 0.1201, 0.3161, -1.4176, 0.4847, -0.5102, 0.2418, 0.0005, -0.3852, -0.1152, 2.1022, 1.9633, 1.9428, 1.9291, 1.9273, 1.92, 1.8848, 1.7809, 1.7809, 1.7559, 1.7369, 1.6737, 1.6126, 1.5861, 1.5752, 1.5727, 1.5463, 1.5121, 1.4273, 1.4161, 1.4064, 1.3943, 1.3786, 1.3695, 1.3572, 1.3539, 1.3145, 1.3104, 1.2636, 1.2572, 1.2413, 1.2263, 1.0116, 1.2492, 0.9661, 0.7103, 0.0619, 0.3403, 0.6428, -0.5648, 0.3446, 0.2976, 0.3746, 0.3091, -0.1217, -0.4587, -0.0139, 0.2091, -0.7205, -0.5911, 2.2849, 2.0924, 2.0104, 1.9273, 1.8965, 1.8925, 1.8564, 1.8487, 1.7686, 1.7301, 1.7058, 1.6869, 1.6393, 1.5996, 1.5906, 1.565, 1.5375, 1.5342, 1.5171, 1.4826, 1.4649, 1.4647, 1.4605, 1.4508, 1.4318, 1.4284, 1.3932, 1.3787, 1.3714, 1.3631, 1.3414, 1.2173, 0.9933, 1.0588, 0.8759, 1.0193, 0.859, 0.2488, 0.9851, 0.8427, 0.7908, 0.7857, 0.1208, 0.6222, -0.0244, 0.858, 1.0872, -0.2061, 0.7753, -0.0515, -1.724, 0.295, -0.1464, -0.612, 0.0563, 2.5684, 2.344, 2.2863, 2.1508, 2.122, 2.0993, 2.0355, 2.0268, 1.9627, 1.9616, 1.9517, 1.9317, 1.9174, 1.9033, 1.8979, 1.8872, 1.8222, 1.8135, 1.7934, 1.722, 1.7062, 1.7002, 1.6879, 1.6796, 1.6703, 1.6666, 1.6204, 1.5299, 1.5228, 1.5008, 1.4684, 1.4258, 1.4603, 0.99, 0.9666, -0.1111, 0.8857, 1.0073, 0.4711, 0.1086, 0.6609, 0.6201, 0.8119, 0.9479, 0.7184, 0.7184, -0.3134, -0.2999, 0.2131, -1.365, 0.1125, 0.2746, 0.2523, 2.4529, 2.1886, 2.0329, 2.0043, 1.9295, 1.8526, 1.821, 1.8131, 1.7919, 1.7672, 1.759, 1.7235, 1.6972, 1.6762, 1.6727, 1.6462, 1.6225, 1.5877, 1.5483, 1.5415, 1.469, 1.4514, 1.4494, 1.4302, 1.4273, 1.4049, 1.3905, 1.35, 1.3482, 1.3402, 1.2023, 1.1605, 1.0288, 1.2695, 1.1631, 0.7731, 0.1325, 0.4204, 0.556, 0.722, 0.4105, -0.7215, 1.2097, 0.5244, 1.1056, 0.2937, -0.1799, -0.0615, -0.6483, -0.1639, -0.4982, 0.5477, -0.9419, -0.3087, 0.101, 2.4611, 2.3312, 2.2741, 2.2176, 2.2021, 2.1154, 2.0985, 2.0649, 2.0628, 1.9959, 1.9901, 1.9836, 1.9297, 1.9203, 1.8577, 1.8548, 1.8535, 1.8151, 1.8002, 1.7944, 1.7669, 1.7515, 1.7352, 1.7346, 1.7014, 1.7, 1.6969, 1.6927, 1.6849, 1.6631, 1.5864, 1.4778, 1.5522, 1.268, 1.4763, 1.1518, 1.1189, 0.6829, 0.7439, 0.5274, 0.73, -0.5871, 0.7355, 1.2406, 0.7639, 1.4294, 0.1358, 0.724, 1.2837, -0.8324], \"Freq\": [1438.0, 1884.0, 185.0, 213.0, 265.0, 162.0, 127.0, 154.0, 262.0, 196.0, 188.0, 136.0, 84.0, 84.0, 62.0, 130.0, 465.0, 106.0, 283.0, 193.0, 103.0, 103.0, 58.0, 113.0, 296.0, 121.0, 134.0, 138.0, 188.0, 388.0, 15.427337594044381, 21.94472955697803, 155.62158838270895, 24.839900078303423, 8.893815990323665, 13.395625970163403, 18.79068478342921, 22.114343548944554, 11.070426039703747, 24.78563678679769, 53.82827261129541, 11.382782679271175, 36.816509618822465, 13.600429895616033, 22.988839627217907, 26.406902369205994, 17.9738188292765, 9.982736090106341, 23.049151157134546, 14.526627457533806, 8.893610965292787, 6.716153177611009, 14.899050401000544, 7.997502836705695, 11.391091218145043, 23.049313971129653, 49.58540020023275, 14.689441452642875, 13.600696227151241, 16.9181509754332, 200.4975153824883, 17.95620878716353, 752.6507798089444, 64.4049913414721, 57.07703090891261, 40.79102034486029, 25.929083494547324, 56.65840597674736, 28.481403923060824, 33.89650694816895, 90.53329685450393, 96.03003401274002, 50.58178968951109, 43.463533682652084, 152.42271548917344, 35.73253826047137, 38.97992972454939, 31.381786502279034, 44.55486584162156, 41.47056977955774, 37.59683086624582, 39.615233953563624, 27.232411535444744, 24.843950327687928, 15.760055525341704, 132.92628863342495, 11.653803811271002, 36.41339434328433, 13.232096253804732, 27.703624345209626, 19.1229769958379, 28.62606995498476, 57.91639917601499, 10.51628045195483, 4.186935907687465, 7.8006703471711285, 3.507773216354849, 11.655137958597578, 58.20125308705626, 3.5078231988195334, 5.545079623317593, 10.885366991205032, 8.479792988451914, 7.121951410412794, 11.195304409907905, 3.508389666752623, 11.655175125045677, 7.822424253723762, 8.477661684893706, 3.8898593616283814, 23.96062467883847, 7.1217777533880575, 3.5078895217053643, 10.547538716407447, 16.26393131502827, 531.4455943129921, 34.91099835097135, 61.624764839164854, 54.67333181102697, 29.41012565446377, 20.914672775345743, 71.40697397872754, 42.849072415962326, 45.022394566148684, 20.630367389814346, 41.964682685836884, 25.887635806263518, 37.76247489238544, 23.172990747528722, 26.178046742096356, 55.09711134185764, 14.80761274714599, 21.52823444298135, 16.74306834789938, 21.638206118100257, 18.203098434184888, 21.858075135441876, 18.499675155597128, 17.296979147938327, 11.271628331922717, 7.420631947367892, 11.44870486275711, 109.97904374924883, 15.298946862096452, 7.971030835500101, 3.942996628266135, 7.791905315308903, 6.870776668656877, 55.37831675745412, 32.14607301277813, 13.043816518148729, 18.227189987643815, 3.942995498101018, 3.9428152367648845, 6.143445910825228, 5.770651340636971, 11.188756714401281, 9.621044782101968, 14.531698107255982, 7.970969806583792, 4.971406481174065, 4.492928758205094, 6.320465368321222, 5.315845208581181, 6.626415757592301, 7.420800341970299, 6.8708037926196806, 6.870702642841724, 6.320463107990989, 22.36028067110121, 359.52197886617085, 14.945288812748835, 59.56959738244662, 38.11351209405204, 19.18806993194993, 11.448663046647786, 51.0101788536599, 29.775029543953472, 53.97098542671835, 49.059147688521904, 35.48290134251592, 36.910162004921794, 55.04276621360828, 25.002455272112684, 15.50760359679029, 23.80061734390875, 67.5807954163638, 23.90659744757391, 27.685889941209204, 22.899021340970812, 17.539062962467153, 18.272270013823732, 16.62149998675871, 18.05234553291515, 14.942391069389297, 77.3164547574119, 77.3160415902568, 8.538530391222496, 3.6454072109264217, 19.051636017120185, 3.1346921886886125, 4.72194033718809, 17.002512179369113, 4.363051332978361, 4.3629940733998005, 3.2876044546041, 5.195956460515656, 4.47876508209224, 4.478915248143858, 2.5702463497607573, 4.302837553121537, 3.6459180561861326, 3.761495954143033, 6.913926262080366, 52.1251143968815, 172.37292394332138, 10.622259223687417, 4.120444463404992, 22.091425787343955, 9.61459617827679, 8.897222355117764, 4.698240485348021, 14.410587746123063, 2.444840855607017, 26.68795305190467, 62.135727925117465, 34.80728045479813, 48.82600160903927, 10.933525660955354, 24.486055044868756, 8.385111770994635, 221.48461267632752, 11.164159384241099, 23.7037297730954, 23.701194633323034, 37.89584864953484, 21.038561356975197, 57.82735556008591, 10.552796618471953, 41.660600821182214, 127.39409237147858, 46.47923911371777, 22.443075945813057, 21.46200604506508, 24.198757916281174, 12.59835127582606, 23.549578005714594, 19.47879696413236, 21.079860108696504, 18.626080583781388, 18.06318075347468, 19.579434603032187, 50.417775204632555, 5.281068169128969, 32.77891709143062, 72.40190372857286, 6.319725539784243, 12.66182070776442, 18.251235200669775, 13.40779651701064, 8.565865465529427, 6.488097052322509, 3.723152953099407, 8.045476649192592, 7.5270461749807795, 8.794645439750797, 5.281330795297487, 13.494722816840918, 4.761240148520399, 16.692590357803617, 7.793417728349703, 121.70125873702695, 17.21255462807856, 3.7224966345072175, 2.6842045709284537, 5.968621997335162, 30.533504817889188, 8.046460510008112, 9.08541506290671, 11.1624997594907, 23.189558941845004, 10.476144039763819, 50.93068213711589, 19.80810484860738, 27.41303794790765, 231.56622065973687, 30.881893240175014, 11.330757236982109, 12.369668841616306, 41.275082954078286, 40.10526701418408, 50.34988337812131, 16.062628177525706, 16.003480025256565, 18.436037139461412, 16.69243633644163, 11.682915233370956, 24.841520983747525, 20.95001527712189, 44.035461702161435, 16.69315707743042, 23.48541620652864, 17.212491439827488, 17.881111994648005, 18.58250750544646, 13.930019767261411, 16.275005635783806, 15.933129693462252, 7.119331584167058, 4.8424868892379465, 124.60387860645572, 8.18044471636062, 17.356542895266614, 52.3268691826761, 52.32404167525179, 6.069214217452703, 12.578090169701701, 9.23851401243685, 6.068674483892643, 16.460329247396164, 3.7861268945249056, 15.218788844571781, 5.541219427055703, 2.7296813694533553, 7.103138706827279, 68.87071958687744, 2.2012626270503084, 4.314310591667926, 4.8420668546529, 20.67011695300661, 7.125687382105756, 2.7296361014773503, 3.0125494168799283, 2.118608961362229, 6.597633830393749, 10.993502950945635, 21.363566630970784, 10.294753437636878, 66.2340898066198, 4.774350315239462, 15.068882200955315, 27.398506896821722, 130.06716616593587, 48.472046828756646, 21.149832141187307, 91.08984400003821, 21.946652983434838, 18.559274714046733, 16.33375128110626, 15.789501369902474, 20.0446458463939, 25.007074590747024, 12.768937344924666, 11.584682695196577, 12.248201535641464, 10.756509426875601, 5.557824865966478, 7.198951955546759, 76.73080413593354, 20.35371094457181, 82.7492064557183, 6.829071055120174, 3.91898637177028, 21.94162479501381, 16.568582495409245, 11.749287236378947, 7.375828801966141, 3.9189270881337794, 3.372259090126404, 6.828606254942331, 9.015568078083616, 6.083720124759121, 7.922531793786729, 4.711828435271528, 5.866791418196557, 6.282279549536755, 5.735609904761699, 7.57426019055661, 2.2786742263459248, 6.358023452388789, 15.029796665181937, 17.937130423121424, 6.282170451177916, 8.492950710359164, 2.278628116850869, 6.282139162591986, 15.029842774676993, 30.892376920573707, 57.81244719033961, 31.60597405313401, 51.21230771971381, 23.760097648110516, 35.18783538041209, 148.3017449888164, 17.02302615130928, 22.662746009106673, 24.853490457610246, 24.997007907740315, 36.81147585568423, 19.79017716367187, 36.515140011564185, 11.572973584506324, 10.109663233999113, 19.377926989283612, 11.231999632252688, 16.015322898068437, 27.03073964497148, 11.940030690052637, 13.063795659269113, 12.352138419036528, 11.57367346077057, 58.816850364794895, 21.871587299645203, 18.937166263894966, 14.20134351521485, 8.193388439915308, 7.697810955239534, 15.271577362086703, 7.697097751289866, 16.00480837276614, 8.431586059653768, 8.431912515894647, 9.899541397736117, 8.431885311207907, 5.258732488018761, 12.100899062498183, 9.165197200685757, 7.697988888596049, 9.165613358866697, 11.737181223927168, 8.431970601577145, 8.431564001799654, 4.526037850825184, 14.665424590002036, 7.698018299068201, 8.478213422202373, 3.0583244138762784, 9.165766293321884, 15.272789073539334, 3.058490583043933, 8.431903692753002, 18.20838799869923, 12.832233097723861, 9.899532574594472, 57.22649084740441, 53.48032607504335, 121.10954797031421, 23.78744280599892, 18.705824960476768, 26.280362656956104, 32.47238758378512, 20.55354669652127, 21.143711935944513, 16.267985041764465, 14.35402945191172, 15.273293463136728, 15.273080237213632, 24.42328103814946, 20.65380846660852, 16.74190244896264, 26.369991070837067, 14.696498224353448, 12.85746287125882, 12.599535971539492, 7.048747845156176, 16.987076034289572, 14.512169370632606, 6.214159611383778, 20.966046815929214, 4.776668973442059, 3.0685179890823124, 50.53576549051805, 7.708411209237112, 12.844992191963883, 6.712929912755973, 5.717802912463654, 6.215265092934686, 4.063536248194638, 10.853585599406143, 5.2203504122163595, 5.220344604082117, 6.215557435691581, 78.62837366210101, 5.5567394778171195, 2.074046501274135, 34.3861862745601, 5.220212307691027, 2.571647108944625, 6.2154509532304605, 3.566264768131249, 3.5665842155146117, 6.390347427598957, 5.219912543429266, 3.068965538093144, 32.39412013609166, 20.233681099484507, 34.661272419271256, 6.215391581191533, 10.03626494873804, 27.226204914472415, 103.47331065318131, 38.92953087919432, 25.11014156339946, 18.38237703043874, 28.13634213173588, 57.73327772338719, 7.210987104312783, 11.353156132607367, 7.546879251761646, 11.850373726091947, 14.913961899898492, 12.641684260923617, 15.33660950318607, 11.217360663310668, 10.197305150847603, 8.17552911502997, 9.539815319670028, 8.705441341516371, 7.708701615949259, 7.136292822237964, 5.388825862830995, 6.262535269897051, 105.33308374256076, 11.789087659850546, 4.515238402678227, 21.682604625968636, 4.515401843216556, 21.682498199571587, 3.6419204927156104, 61.841115583811415, 19.061384548653965, 9.166041863034073, 9.167471650999223, 17.029205438458515, 4.995065297982652, 8.883797791072451, 6.263680620646272, 4.515602659691945, 10.91505580614104, 9.167318346308234, 11.788579600502716, 21.682353763747017, 2.767605785516323, 11.78633704427913, 4.04048544920228, 10.914708653369706, 2.7683729424617365, 3.642081399292105, 9.167103593042754, 10.04087761613559, 18.18761369301342, 9.167588846734072, 43.21829521269312, 11.50522945420031, 26.3628853476007, 25.770338644283367, 32.171275742131826, 27.296039598834174, 27.807213185758258, 20.81118655389148, 64.82832210379627, 19.939117253622847, 11.788571998617213, 12.663531282358166, 10.040666030322406, 14.13067998079778, 11.78922576077053, 10.040822502465689, 10.917963527346199], \"logprob\": [30.0, 29.0, 28.0, 27.0, 26.0, 25.0, 24.0, 23.0, 22.0, 21.0, 20.0, 19.0, 18.0, 17.0, 16.0, 15.0, 14.0, 13.0, 12.0, 11.0, 10.0, 9.0, 8.0, 7.0, 6.0, 5.0, 4.0, 3.0, 2.0, 1.0, -5.634099960327148, -5.281700134277344, -3.3227999210357666, -5.157800197601318, -6.184899806976318, -5.775300025939941, -5.436800003051758, -5.27400016784668, -5.96589994430542, -5.159900188446045, -4.384399890899658, -5.9380998611450195, -4.7642998695373535, -5.7600998878479, -5.235199928283691, -5.09660005569458, -5.481299877166748, -6.069399833679199, -5.232600212097168, -5.694200038909912, -6.184899806976318, -6.465700149536133, -5.668900012969971, -6.291100025177002, -5.937399864196777, -5.232600212097168, -4.4664998054504395, -5.68310022354126, -5.7600998878479, -5.541800022125244, -3.0694000720977783, -5.4822998046875, -1.7466000318527222, -4.204999923706055, -4.325799942016602, -4.6616997718811035, -5.114799976348877, -4.333199977874756, -5.020999908447266, -4.84689998626709, -3.864500045776367, -3.8055999279022217, -4.446599960327148, -4.598299980163574, -3.343600034713745, -4.794099807739258, -4.707200050354004, -4.923999786376953, -4.573500156402588, -4.645199775695801, -4.743299961090088, -4.690999984741211, -5.065800189971924, -5.157599925994873, -5.162700176239014, -3.030400037765503, -5.4644999504089355, -4.325200080871582, -5.337500095367432, -4.598599910736084, -4.969299793243408, -4.565800189971924, -3.8612000942230225, -5.567200183868408, -6.4882001876831055, -5.866000175476074, -6.665200233459473, -5.464399814605713, -3.856300115585327, -6.665200233459473, -6.207300186157227, -5.532700061798096, -5.78249979019165, -5.956999778747559, -5.504700183868408, -6.664999961853027, -5.464399814605713, -5.8632001876831055, -5.782700061798096, -6.561800003051758, -4.743800163269043, -5.956999778747559, -6.66510009765625, -5.564300060272217, -5.131199836730957, -1.6446000337600708, -4.367400169372559, -3.799099922180176, -3.918800115585327, -4.53879976272583, -4.879700183868408, -3.6517999172210693, -4.162499904632568, -4.11299991607666, -4.893400192260742, -4.183300018310547, -4.666399955749512, -4.28879976272583, -4.777200222015381, -4.655200004577637, -3.911099910736084, -5.224999904632568, -4.850800037384033, -5.102200031280518, -4.845699787139893, -5.018599987030029, -4.835599899291992, -5.002399921417236, -5.0696001052856445, -5.372099876403809, -5.790200233459473, -5.356500148773193, -3.094099998474121, -5.0665998458862305, -5.718599796295166, -6.422500133514404, -5.741300106048584, -5.867099761962891, -3.7802000045776367, -4.324100017547607, -5.226099967956543, -4.891499996185303, -6.422500133514404, -6.422500133514404, -5.979000091552734, -6.041600227355957, -5.379499912261963, -5.5304999351501465, -5.118100166320801, -5.718599796295166, -6.190700054168701, -6.291900157928467, -5.9506001472473145, -6.123700141906738, -5.90339994430542, -5.79010009765625, -5.867099761962891, -5.867099761962891, -5.9506001472473145, -4.687099933624268, -1.909600019454956, -5.090000152587891, -3.7072999477386475, -4.153800010681152, -4.840099811553955, -5.356500148773193, -3.8624000549316406, -4.400700092315674, -3.805999994277954, -3.901400089263916, -4.225399971008301, -4.1859002113342285, -3.78629994392395, -4.575399875640869, -5.053100109100342, -4.62470006942749, -3.5810999870300293, -4.620299816131592, -4.473499774932861, -4.663300037384033, -4.929999828338623, -4.888999938964844, -4.983699798583984, -4.901100158691406, -5.090199947357178, -3.4398999214172363, -3.4398999214172363, -5.643199920654297, -6.4944000244140625, -4.840700149536133, -6.645299911499023, -6.235599994659424, -4.954500198364258, -6.314599990844727, -6.314700126647949, -6.597700119018555, -6.139900207519531, -6.28849983215332, -6.288400173187256, -6.843800067901611, -6.328499794006348, -6.494200229644775, -6.4629998207092285, -5.854300022125244, -3.834199905395508, -2.638200044631958, -5.424900054931641, -6.3719000816345215, -4.692599773406982, -5.524499893188477, -5.602099895477295, -6.240600109100342, -5.119900226593018, -6.893799781799316, -4.503600120544434, -3.6584999561309814, -4.23799991607666, -3.899600028991699, -5.395999908447266, -4.589700222015381, -5.661399841308594, -2.387500047683716, -5.375100135803223, -4.622200012207031, -4.622300148010254, -4.1529998779296875, -4.741499900817871, -3.7304000854492188, -5.431399822235107, -4.058300018310547, -2.940500020980835, -3.9488000869750977, -4.676799774169922, -4.721499919891357, -4.601500034332275, -5.254300117492676, -4.628699779510498, -4.81850004196167, -4.739500045776367, -4.86329984664917, -4.893899917602539, -4.813300132751465, -3.7388999462127686, -5.995200157165527, -4.16949987411499, -3.3770999908447266, -5.8155999183654785, -5.120699882507324, -4.755099773406982, -5.063499927520752, -5.511499881744385, -5.789299964904785, -6.344699859619141, -5.57420015335083, -5.6407999992370605, -5.485099792480469, -5.995100021362305, -5.057000160217285, -6.098800182342529, -4.844299793243408, -5.605999946594238, -2.8577001094818115, -4.813600063323975, -6.344900131225586, -6.671899795532227, -5.872799873352051, -4.240499973297119, -5.574100017547607, -5.452600002288818, -5.246699810028076, -4.515600204467773, -5.310200214385986, -3.728800058364868, -4.6732001304626465, -4.348299980163574, -2.214400053024292, -4.229100227355957, -5.231800079345703, -5.144000053405762, -3.938999891281128, -3.9677999019622803, -3.740299940109253, -4.882800102233887, -4.886499881744385, -4.744999885559082, -4.844299793243408, -5.201200008392334, -4.446800231933594, -4.617099761962891, -3.874300003051758, -4.844299793243408, -4.502900123596191, -4.813700199127197, -4.7754998207092285, -4.737100124359131, -5.025199890136719, -4.743800163269043, -4.764999866485596, -5.5706000328063965, -5.955999851226807, -2.7083001136779785, -5.431700229644775, -4.6793999671936035, -3.575900077819824, -3.5759999752044678, -5.730199813842773, -5.001500129699707, -5.309999942779541, -5.730299949645996, -4.732500076293945, -6.202099800109863, -4.8109002113342285, -5.821199893951416, -6.529200077056885, -5.57289981842041, -3.3011999130249023, -6.7444000244140625, -6.071499824523926, -5.956099987030029, -4.504700183868408, -5.569699764251709, -6.529200077056885, -6.430600166320801, -6.782599925994873, -5.646699905395508, -5.136099815368652, -4.471700191497803, -5.2017998695373535, -3.3401999473571777, -5.970200061798096, -4.820799827575684, -4.222899913787842, -2.6654000282287598, -3.652400016784668, -4.481800079345703, -3.0216000080108643, -4.444799900054932, -4.612400054931641, -4.740200042724609, -4.774099826812744, -4.535399913787842, -4.314199924468994, -4.986400127410889, -5.083700180053711, -5.0279998779296875, -5.157899856567383, -5.762499809265137, -5.503799915313721, -3.137399911880493, -4.4644999504089355, -3.0618999004364014, -5.55649995803833, -6.1118998527526855, -4.3892998695373535, -4.670199871063232, -5.013899803161621, -5.479499816894531, -6.1118998527526855, -6.2621002197265625, -5.556600093841553, -5.278800010681152, -5.672100067138672, -5.4079999923706055, -5.927599906921387, -5.708399772644043, -5.639999866485596, -5.730999946594238, -5.453000068664551, -6.654099941253662, -5.627999782562256, -4.7677001953125, -4.590799808502197, -5.639999866485596, -5.338500022888184, -6.654099941253662, -5.639999866485596, -4.7677001953125, -4.0472002029418945, -3.4205000400543213, -4.024400234222412, -3.5416998863220215, -4.309700012207031, -3.9170000553131104, -2.4784998893737793, -4.643199920654297, -4.35699987411499, -4.264699935913086, -4.258999824523926, -3.8719000816345215, -4.492499828338623, -3.880000114440918, -5.0289998054504395, -5.1641998291015625, -4.513599872589111, -5.059000015258789, -4.70419979095459, -4.180699825286865, -4.997799873352051, -4.907899856567383, -4.963900089263916, -5.0289998054504395, -3.29010009765625, -4.279300212860107, -4.423399925231934, -4.71120023727417, -5.261199951171875, -5.323599815368652, -4.638500213623047, -5.323699951171875, -4.591599941253662, -5.232500076293945, -5.232500076293945, -5.072000026702881, -5.232500076293945, -5.704599857330322, -4.871200084686279, -5.149099826812744, -5.323599815368652, -5.149099826812744, -4.901800155639648, -5.232500076293945, -5.232500076293945, -5.854700088500977, -4.678999900817871, -5.323599815368652, -5.2270002365112305, -6.246699810028076, -5.14900016784668, -4.638500213623047, -6.246600151062012, -5.232500076293945, -4.462600231170654, -4.812600135803223, -5.072000026702881, -3.317500114440918, -3.385200023651123, -2.5678000450134277, -4.195400238037109, -4.435699939727783, -4.095699787139893, -3.8840999603271484, -4.3414998054504395, -4.313199996948242, -4.575300216674805, -4.700500011444092, -4.638400077819824, -4.638400077819824, -4.169000148773193, -4.336599826812744, -4.546599864959717, -4.092299938201904, -4.6768999099731445, -4.8105998039245605, -4.830900192260742, -5.281199932098389, -4.401599884033203, -4.559100151062012, -5.407299995422363, -4.191199779510498, -5.670300006866455, -6.1128997802734375, -3.3113999366760254, -5.191800117492676, -4.681099891662598, -5.330100059509277, -5.490499973297119, -5.407100200653076, -5.831999778747559, -4.849599838256836, -5.581500053405762, -5.581500053405762, -5.4070000648498535, -2.8694000244140625, -5.519100189208984, -6.5046000480651855, -3.6963999271392822, -5.581500053405762, -6.2895002365112305, -5.4070000648498535, -5.962600231170654, -5.962500095367432, -5.379300117492676, -5.581600189208984, -6.11269998550415, -3.7560999393463135, -4.2266998291015625, -3.688499927520752, -5.407100200653076, -4.9278998374938965, -3.9298999309539795, -2.5947999954223633, -3.5722999572753906, -4.010799884796143, -4.322700023651123, -3.8970000743865967, -3.178299903869629, -5.258500099182129, -4.804599761962891, -5.2129998207092285, -4.76170015335083, -4.531799793243408, -4.6971001625061035, -4.503799915313721, -4.8165998458862305, -4.9120001792907715, -5.132900238037109, -4.978600025177002, -5.070099830627441, -5.191699981689453, -5.25029993057251, -5.531199932098389, -5.38100004196167, -2.5583999156951904, -4.7484002113342285, -5.708099842071533, -4.138999938964844, -5.708000183105469, -4.138999938964844, -5.922999858856201, -3.0910000801086426, -4.267899990081787, -5.0, -4.999899864196777, -4.3805999755859375, -5.607100009918213, -5.031300067901611, -5.380799770355225, -5.708000183105469, -4.825399875640869, -4.999899864196777, -4.7484002113342285, -4.138999938964844, -6.1975998878479, -4.748600006103516, -5.819200038909912, -4.825399875640869, -6.197299957275391, -5.922999858856201, -4.999899864196777, -4.908899784088135, -4.314799785614014, -4.999899864196777, -3.4493000507354736, -4.77269983291626, -3.9435999393463135, -3.9663000106811523, -3.744499921798706, -3.908799886703491, -3.890199899673462, -4.180099964141846, -3.043800115585327, -4.222899913787842, -4.7484002113342285, -4.676799774169922, -4.908899784088135, -4.567200183868408, -4.7484002113342285, -4.908899784088135, -4.825099945068359], \"Term\": [\"order\", \"motion\", \"hold\", \"conference_hold\", \"due\", \"withdraw\", \"calendar\", \"redaction\", \"discovery\", \"endorsement\", \"send\", \"terminate\", \"without_redaction_calendar\", \"remotely_electronically_available_public\", \"serve_answer_due\", \"notice_appearance\", \"notice\", \"minute_entry_hold\", \"letter\", \"memorandum_law_support\", \"deadline_release\", \"view_public_terminal_purchase\", \"discovery_hear_hold\", \"revise_schedule\", \"amend_complaint\", \"redact_deadline\", \"declaration_support\", \"release\", \"serve\", \"dismiss\", \"summary_judgment_favor\", \"third_complaint\", \"memorandum_law_support\", \"could\", \"rule_rule_..\", \"cross\", \"notice_change_address\", \"renew\", \"assign\", \"previously\", \"declaration_opposition\", \"occur\", \"dismiss..\", \"say\", \"counterclaim\", \"objection\", \"dismiss_thirdparty\", \"wish\", \"summary_judgment..\", \"endorsed_letter\", \"newvest_portfolio_newvest\", \"jurisdiction\", \"memorandum_law\", \"pretrial_conference\", \"strike\", \"appeal\", \"address\", \"give\", \"adjournment\", \"office\", \"dismiss\", \"discuss\", \"motion\", \"support\", \"declaration_support\", \"brief\", \"status_conference\", \"summary_judgment\", \"joint\", \"comply_discovery_ruling_conference\", \"request\", \"notice\", \"send\", \"issue\", \"order\", \"release\", \"stipulation\", \"deny\", \"letter\", \"schedule\", \"conference\", \"amend_complaint\", \"complaint\", \"endorsement\", \"supplemental_amend\", \"withdraw\", \"new_address\", \"declaration\", \"international\", \"memo_endorsement\", \"limine\", \"affidavit_service_summons\", \"memorandum_law_opposition\", \"please\", \"incorrectly\", \"client\", \"oral_argument_pm\", \"premotion_conference\", \"redact_deadline\", \"service_execute\", \"..\", \"endorse\", \"comply\", \"inc.\", \"accordance\", \"contempt\", \"dismiss_thirdparty_complaint\", \"prejudice\", \"fax\", \"usca_number\", \"appear_pro_hac_vice\", \"applicable\", \"merrill\", \"cost\", \"certificate_service\", \"motion\", \"response\", \"complaint\", \"serve\", \"leave\", \"note\", \"dismiss\", \"grant\", \"due\", \"opposition\", \"schedule\", \"declaration_support\", \"amend_complaint\", \"release\", \"conference_hold\", \"order\", \"minute_entry_hold_telephone\", \"summary_judgment\", \"deadline\", \"discovery\", \"deposition\", \"notice\", \"support\", \"endorsed_letter_address\", \"thirdparty\", \"withdrawal\", \"via\", \"send\", \"jury_demand\", \"officer\", \"answer_otherwise_respond\", \"summons_issue\", \"cancel\", \"revise_schedule\", \"extend\", \"summary\", \"respectfully_request\", \"custodian\", \"p.\", \"defense\", \"connection\", \"relevant\", \"instruction\", \"reschedule\", \"a.m.\", \"inform\", \"cause\", \"electronic_filing\", \"ground\", \"believe\", \"limited\", \"would\", \"light\", \"fax\", \"respond\", \"order\", \"move\", \"conference\", \"answer\", \"judgment\", \"disclosure\", \"discovery\", \"notice_appearance\", \"amend_complaint\", \"letter\", \"stipulation\", \"complaint\", \"request\", \"redact_deadline\", \"amend\", \"endorsed_letter_address\", \"motion\", \"serve\", \"schedule\", \"grant\", \"deny\", \"support\", \"issue\", \"notice\", \"leave\", \"without_redaction_calendar\", \"remotely_electronically_available_public\", \"stipulate\", \"summons_execute\", \"service\", \"without_cost_either\", \"crossclaims\", \"notice_appeal\", \"hedge_strategy_ibex_absolute\", \"magnum_growth_magnum_special\", \"liability_complaint\", \"right\", \"longer\", \"confirm\", \"sheet\", \"respective\", \"original\", \"immediately\", \"plan\", \"abovecaptioned\", \"notice\", \"responsive\", \"local_civil_rule\", \"amend\", \"call\", \"represent\", \"andor\", \"affidavit_service\", \"dismissal_without_prejudice\", \"official_conference\", \"serve\", \"official_notice_give\", \"endorsed_letter_address\", \"number\", \"opposition\", \"filing\", \"order\", \"disclosure\", \"view_public_terminal_purchase\", \"deadline_release\", \"grant\", \"propose\", \"request\", \"continue\", \"amend_complaint\", \"motion\", \"dismiss\", \"rule\", \"reply\", \"stipulation\", \"minute_entry_hold_telephone\", \"conference\", \"summary_judgment\", \"conference_hold\", \"support\", \"answer\", \"complaint\", \"discovery_hear_hold\", \"jury_trial_hold\", \"disclose\", \"minute_entry_hold\", \"civil_cover_sheet\", \"limit\", \"proceed\", \"setreset_deadline\", \"general\", \"specific\", \"conclude\", \"status_conference_hold\", \"demand\", \"relief\", \"assignment\", \"confidentiality\", \"aim_exploration\", \"testimony\", \"hereto\", \"discovery\", \"need\", \"merrill\", \"right_appeal\", \"undersigned\", \"produce\", \"jury\", \"pretrial\", \"answer_due_answer_due\", \"report\", \"show_cause\", \"release\", \"complete\", \"comply_discovery_ruling_conference\", \"order\", \"deposition\", \"upon\", \"use\", \"schedule\", \"due\", \"notice\", \"production\", \"telephone_conference\", \"brief\", \"official_conference\", \"law\", \"conference\", \"issue\", \"motion\", \"official_notice_give\", \"request\", \"abovecaptioned\", \"hold\", \"letter\", \"endorsed_letter_address\", \"pm\", \"status_report\", \"offer\", \"dec\", \"conference_hold\", \"determine\", \"receive\", \"deadline_release\", \"view_public_terminal_purchase\", \"confidential\", \"necessary\", \"reconsideration\", \"deficiency\", \"service_accept\", \"pro_se\", \"application\", \"appearance\", \"separate\", \"without\", \"endorsement\", \"nonecf_error\", \"initial\", \"note_refile\", \"approve\", \"hearing\", \"flasr\", \"either\", \"final\", \"u.s.c\", \"reschedule\", \"respond\", \"entry\", \"letter\", \"failure\", \"judgment\", \"issue\", \"order\", \"request\", \"notice_appearance\", \"motion\", \"stipulation\", \"endorsed_letter_address\", \"deposition\", \"rule\", \"schedule\", \"notice\", \"support\", \"deny\", \"amend_complaint\", \"conference\", \"service_accept_legal\", \"\\u00a7\", \"calendar\", \"provision\", \"redaction\", \"compel\", \"allege\", \"section\", \"protective\", \"list\", \"conduct\", \"deft\", \"certificate\", \"electronic_filing\", \"week\", \"except\", \"transfer\", \"memoendorsement_letter_address\", \"amendment\", \"electronic\", \"bank\", \"select\", \"endorsed_letter_address_iii\", \"extent\", \"supplemental\", \"endorsement_application_grant\", \"agent\", \"relevant\", \"deficient\", \"transaction\", \"trial\", \"revise_schedule\", \"schedule\", \"rule\", \"due\", \"official_notice_give\", \"hold\", \"order\", \"official_conference\", \"redact_deadline\", \"abovecaptioned\", \"answer\", \"request\", \"deposition\", \"notice\", \"letter_address\", \"default\", \"amend_complaint\", \"extension\", \"complaint\", \"motion\", \"deny\", \"serve\", \"letter\", \"reply\", \"serve_answer_due\", \"longer_assigned\", \"notice_reassignment\", \"argument\", \"g.c\", \"united_state_courthouse_pearl\", \"conference_call\", \"pro_hac_vice\", \"initiate\", \"available\", \"consistent\", \"certain\", \"government\", \"wellington\", \"term\", \"contact\", \"without_prejudice\", \"discovery_dispute\", \"call\", \"light\", \"decision\", \"settle\", \"intend\", \"transaction\", \"individual_rule\", \"substitution\", \"filing\", \"practice\", \"address_jr.\", \"however\", \"dismissal\", \"response_due\", \"dispute\", \"amend_complaint\", \"letter\", \"motion\", \"terminate\", \"leave\", \"conference\", \"request\", \"summary_judgment\", \"issue\", \"response\", \"deadline\", \"deadline_release\", \"view_public_terminal_purchase\", \"notice\", \"dismiss\", \"send\", \"order\", \"stipulation\", \"reply\", \"rule\", \"answer_due_purs\", \"period\", \"answer_due\", \"united_state\", \"courtroom\", \"correction\", \"corp..\", \"notice_appearance\", \"reconsideration\", \"adjourn\", \"believe\", \"advise\", \"entirety\", \"thk\", \"redact\", \"next\", \"respectfully\", \"please\", \"due\", \"new\", \"safe_harbor_asset\", \"calendar\", \"result\", \"account_balentine_global_hedge\", \"today\", \"appearance\", \"memorandum_opinion\", \"loan\", \"unredacted\", \"find\", \"redaction\", \"response\", \"endorsement\", \"ordered\", \"memorandum\", \"grant\", \"order\", \"request\", \"conference\", \"answer\", \"amend_complaint\", \"motion\", \"prior\", \"official_notice_give\", \"service_accept\", \"abovecaptioned\", \"letter\", \"conference_hold\", \"notice\", \"complaint\", \"schedule\", \"produce\", \"dismiss\", \"serve\", \"deny\", \"brooklyn\", \"rule_certificate\", \"notice_termination\", \"hold\", \"promptly\", \"co\", \"a.m\", \"ambassador\", \"event\", \"line\", \"terminate\", \"default\", \"unredacted\", \"limited\", \"response_due\", \"memoendorsement_letter_address\", \"dated\", \"bank\", \"thk\", \"correct\", \"consider\", \"conference_pm\", \"approve\", \"new_york_observer\", \"discovery_complete\", \"alternative_investment_sgr_spa\", \"redact\", \"note_manually_refile\", \"newvest_portfolio\", \"resolution\", \"courtroom_pearl_street_new\", \"telephone_conference\", \"portion\", \"endorsement\", \"affidavit_service\", \"declaration_support\", \"reply\", \"discovery\", \"complaint\", \"due\", \"endorsed_letter_address\", \"motion\", \"redaction\", \"complete\", \"propose\", \"purpose\", \"grant\", \"brief\", \"york\", \"request\"]}, \"token.table\": {\"Freq\": [0.5138602117569461, 0.08564336862615768, 0.25693010587847304, 0.08564336862615768, 0.17128673725231536, 0.3256974891878966, 0.09305642548225616, 0.02326410637056404, 0.02326410637056404, 0.02326410637056404, 0.02326410637056404, 0.02326410637056404, 0.5118103401524089, 0.14750636977237147, 0.049168789924123824, 0.3933503193929906, 0.049168789924123824, 0.049168789924123824, 0.14750636977237147, 0.09833757984824765, 0.0071341124115460175, 0.06420701170391416, 0.04993878688082212, 0.3709738454003929, 0.12127991099628231, 0.05707289929236814, 0.17835281028865044, 0.06420701170391416, 0.08560934893855221, 0.07826239492020376, 0.4304431720611207, 0.15652478984040752, 0.11739359238030564, 0.07826239492020376, 0.03913119746010188, 0.03913119746010188, 0.03913119746010188, 0.3072674202539084, 0.10242247341796948, 0.3072674202539084, 0.3072674202539084, 0.5529454000676706, 0.07741235600947388, 0.06635344800812047, 0.08847126401082729, 0.06635344800812047, 0.033176724004060236, 0.0995301720121807, 0.011058908001353411, 0.10764432239425484, 0.10764432239425484, 0.10764432239425484, 0.21528864478850968, 0.32293296718276454, 0.10764432239425484, 0.17235018828842455, 0.02872503138140409, 0.17235018828842455, 0.3734254079582532, 0.25852528243263684, 0.5571651163217982, 0.07959501661739975, 0.039797508308699873, 0.07959501661739975, 0.039797508308699873, 0.11939252492609961, 0.039797508308699873, 0.07959501661739975, 0.06177267200631922, 0.12354534401263843, 0.06177267200631922, 0.12354534401263843, 0.06177267200631922, 0.12354534401263843, 0.37063603203791534, 0.06177267200631922, 0.2118046544748558, 0.0706015514916186, 0.023533850497206202, 0.3294739069608868, 0.023533850497206202, 0.023533850497206202, 0.023533850497206202, 0.023533850497206202, 0.2824062059664744, 0.16046623551981457, 0.5816901037593277, 0.06017483831993046, 0.02005827943997682, 0.04011655887995364, 0.06017483831993046, 0.04011655887995364, 0.04011655887995364, 0.05155269256717486, 0.15465807770152457, 0.20621077026869944, 0.10310538513434972, 0.30931615540304913, 0.05155269256717486, 0.05155269256717486, 0.09928061395584044, 0.19856122791168088, 0.09928061395584044, 0.4964030697792022, 0.09928061395584044, 0.09928061395584044, 0.13132915808799878, 0.13132915808799878, 0.13132915808799878, 0.5253166323519951, 0.0838167119484865, 0.335266847793946, 0.0838167119484865, 0.0838167119484865, 0.0838167119484865, 0.0838167119484865, 0.335266847793946, 0.21604200439720606, 0.10802100219860303, 0.10802100219860303, 0.10802100219860303, 0.5401050109930151, 0.01632492687954136, 0.11427448815678952, 0.26119883007266176, 0.3591483913499099, 0.03264985375908272, 0.01632492687954136, 0.04897478063862408, 0.06529970751816544, 0.03264985375908272, 0.06529970751816544, 0.13507054292277273, 0.1283170157766341, 0.18234523294574317, 0.14182407006891137, 0.013507054292277273, 0.040521162876831815, 0.06415850788831705, 0.19247552366495113, 0.0945493800459409, 0.006753527146138636, 0.06248542576546528, 0.31242712882732643, 0.06248542576546528, 0.12497085153093056, 0.3749125545927917, 0.06248542576546528, 0.07361768823890905, 0.1472353764778181, 0.36808844119454526, 0.22085306471672714, 0.07361768823890905, 0.07361768823890905, 0.07361768823890905, 0.12703179596859102, 0.056458575986040455, 0.26817823593369217, 0.12703179596859102, 0.007057321998255057, 0.04234393198953034, 0.17643304995637643, 0.014114643996510114, 0.12703179596859102, 0.056458575986040455, 0.03316261110075843, 0.06632522220151686, 0.06632522220151686, 0.03316261110075843, 0.0994878333022753, 0.03316261110075843, 0.06632522220151686, 0.4974391665113765, 0.13265044440303372, 0.03431946406670813, 0.03431946406670813, 0.3088751766003732, 0.20591678440024883, 0.3775141047337895, 0.03431946406670813, 0.10391502663883453, 0.10391502663883453, 0.7274051864718418, 0.13366033335304447, 0.5346413334121779, 0.13366033335304447, 0.13366033335304447, 0.5542029246238952, 0.04819155866294741, 0.07228733799442111, 0.07228733799442111, 0.024095779331473704, 0.024095779331473704, 0.19276623465178963, 0.024095779331473704, 0.13987382570193238, 0.4196214771057971, 0.22729496676564012, 0.17484228212741548, 0.017484228212741548, 0.07201543995096259, 0.07201543995096259, 0.07201543995096259, 0.4320926397057755, 0.07201543995096259, 0.28806175980385035, 0.39933319474687096, 0.057047599249552994, 0.34228559549731796, 0.057047599249552994, 0.057047599249552994, 0.05384555746152579, 0.026922778730762896, 0.21538222984610317, 0.08076833619228868, 0.08076833619228868, 0.40384168096144346, 0.05384555746152579, 0.05384555746152579, 0.05384555746152579, 0.11324450443822996, 0.016177786348318565, 0.03235557269663713, 0.016177786348318565, 0.03235557269663713, 0.33973351331468987, 0.08088893174159283, 0.03235557269663713, 0.35591129966300844, 0.04343886443868608, 0.04343886443868608, 0.04343886443868608, 0.04343886443868608, 0.04343886443868608, 0.04343886443868608, 0.6081441021416052, 0.04343886443868608, 0.04343886443868608, 0.6758725066096167, 0.12288591029265758, 0.06144295514632879, 0.06144295514632879, 0.06144295514632879, 0.09832648714146755, 0.4916324357073377, 0.09832648714146755, 0.09832648714146755, 0.09832648714146755, 0.09832648714146755, 0.12111296148699592, 0.06055648074349796, 0.06055648074349796, 0.24222592297399184, 0.4844518459479837, 0.060662794369458505, 0.060662794369458505, 0.060662794369458505, 0.363976766216751, 0.060662794369458505, 0.060662794369458505, 0.363976766216751, 0.3816108418443681, 0.10903166909839088, 0.05451583454919544, 0.05451583454919544, 0.10903166909839088, 0.3816108418443681, 0.4437899184372075, 0.05412072176063506, 0.021648288704254025, 0.19483459833828623, 0.0865931548170161, 0.032472433056381034, 0.04329657740850805, 0.12988973222552413, 0.10158361052865873, 0.10158361052865873, 0.10158361052865873, 0.7110852737006111, 0.11736741838358555, 0.007824494558905704, 0.007824494558905704, 0.6024860810357392, 0.2660328150027939, 0.036764191682629455, 0.36764191682629455, 0.036764191682629455, 0.036764191682629455, 0.036764191682629455, 0.44117030019155345, 0.036764191682629455, 0.036764191682629455, 0.14298874013456872, 0.5004605904709906, 0.07149437006728436, 0.07149437006728436, 0.14298874013456872, 0.08415048434868447, 0.33660193739473787, 0.08415048434868447, 0.16830096869736894, 0.16830096869736894, 0.16830096869736894, 0.05005562602012412, 0.05005562602012412, 0.05005562602012412, 0.10011125204024823, 0.05005562602012412, 0.10011125204024823, 0.5005562602012412, 0.05005562602012412, 0.12283841689654039, 0.24567683379308078, 0.36851525068962115, 0.12283841689654039, 0.2966731479280791, 0.3651361820653281, 0.06846303413724902, 0.022821011379083007, 0.06846303413724902, 0.022821011379083007, 0.06846303413724902, 0.06846303413724902, 0.022821011379083007, 0.2004212612759828, 0.6012637838279484, 0.1002106306379914, 0.12846394386652402, 0.5138557754660961, 0.06423197193326201, 0.06423197193326201, 0.12846394386652402, 0.06423197193326201, 0.11362762769903151, 0.11362762769903151, 0.11362762769903151, 0.11362762769903151, 0.5681381384951576, 0.15626846949516074, 0.07813423474758037, 0.07813423474758037, 0.07813423474758037, 0.5469396432330625, 0.07813423474758037, 0.1287607906473651, 0.29567292667172723, 0.17644997236861143, 0.09537836344249266, 0.009537836344249265, 0.03338242720487243, 0.07630269075399412, 0.009537836344249265, 0.05245809989337096, 0.1287607906473651, 0.05443751665916975, 0.14516671109111934, 0.018145838886389917, 0.36291677772779835, 0.07258335554555967, 0.036291677772779835, 0.05443751665916975, 0.036291677772779835, 0.217750066636679, 0.4351817963330174, 0.054397724541627175, 0.32638634724976306, 0.054397724541627175, 0.10879544908325435, 0.3963106189034525, 0.06993716804178572, 0.08159336271541669, 0.31471725618803575, 0.06993716804178572, 0.05828097336815477, 0.14976906985100813, 0.5990762794040325, 0.14976906985100813, 0.14976906985100813, 0.12004602665076083, 0.06002301332538042, 0.06002301332538042, 0.06002301332538042, 0.18006903997614127, 0.42016109327766293, 0.06002301332538042, 0.1663058918018351, 0.06127059171646556, 0.26258825021342386, 0.10503530008536953, 0.10941177092225993, 0.04814117920579437, 0.026258825021342382, 0.11378824175915032, 0.10941177092225993, 0.03599588964209662, 0.21597533785257972, 0.03599588964209662, 0.03599588964209662, 0.5399383446314493, 0.10798766892628986, 0.12188652242250468, 0.06094326121125234, 0.09844680657202301, 0.06094326121125234, 0.5859928962620418, 0.009375886340192667, 0.06094326121125234, 0.3326808009614954, 0.03024370917831776, 0.03024370917831776, 0.03024370917831776, 0.03024370917831776, 0.21170596424822433, 0.36292451013981314, 0.08108545641863787, 0.08108545641863787, 0.24325636925591362, 0.48651273851182725, 0.08108545641863787, 0.038467654960046185, 0.11540296488013856, 0.07693530992009237, 0.5000795144806004, 0.038467654960046185, 0.1923382748002309, 0.08647928594057047, 0.2594378578217114, 0.3459171437622819, 0.08647928594057047, 0.08647928594057047, 0.08647928594057047, 0.07326313037046178, 0.07326313037046178, 0.43957878222277064, 0.14652626074092356, 0.07326313037046178, 0.14652626074092356, 0.19748326211873962, 0.039496652423747926, 0.039496652423747926, 0.07899330484749585, 0.23697991454248757, 0.039496652423747926, 0.35546987181373135, 0.11990748807648262, 0.11990748807648262, 0.05995374403824131, 0.11990748807648262, 0.05995374403824131, 0.4796299523059305, 0.05995374403824131, 0.10342585409264377, 0.05171292704632188, 0.05171292704632188, 0.05171292704632188, 0.10342585409264377, 0.10342585409264377, 0.46541634341689697, 0.05171292704632188, 0.49876977630013286, 0.12469244407503322, 0.12469244407503322, 0.12469244407503322, 0.12469244407503322, 0.12469244407503322, 0.08241657098636081, 0.08241657098636081, 0.02747219032878694, 0.30219409361665633, 0.2197775226302955, 0.02747219032878694, 0.02747219032878694, 0.24724971295908243, 0.1268879567189167, 0.1268879567189167, 0.1268879567189167, 0.1268879567189167, 0.38066387015675013, 0.10229420105047671, 0.10229420105047671, 0.03409806701682557, 0.03409806701682557, 0.27278453613460457, 0.03409806701682557, 0.3750787371850813, 0.08413267148210392, 0.08413267148210392, 0.16826534296420784, 0.08413267148210392, 0.16826534296420784, 0.42066335741051963, 0.037556268416381815, 0.4131189525802, 0.037556268416381815, 0.15022507366552726, 0.07511253683276363, 0.07511253683276363, 0.2253376104982909, 0.7374579960471178, 0.029498319841884713, 0.029498319841884713, 0.14749159920942356, 0.029498319841884713, 0.6129666163050823, 0.05330144489609411, 0.10660288979218822, 0.13325361224023527, 0.026650722448047056, 0.026650722448047056, 0.026650722448047056, 0.026650722448047056, 0.026650722448047056, 0.020699673394745162, 0.041399346789490324, 0.20699673394745163, 0.062099020184235486, 0.020699673394745162, 0.1655973871579613, 0.4346931412896484, 0.041399346789490324, 0.3913731444441032, 0.21073938546990173, 0.030105626495700248, 0.030105626495700248, 0.030105626495700248, 0.3010562649570025, 0.6936339759364428, 0.16006937906225605, 0.05335645968741868, 0.05335645968741868, 0.05335645968741868, 0.09544711114270776, 0.09544711114270776, 0.4772355557135389, 0.09544711114270776, 0.09544711114270776, 0.09544711114270776, 0.09544711114270776, 0.1141835357291437, 0.4567341429165748, 0.1141835357291437, 0.1141835357291437, 0.1141835357291437, 0.1141835357291437, 0.48889843413982476, 0.044445312194529525, 0.044445312194529525, 0.4000078097507657, 0.09034913141242978, 0.21941931914447232, 0.10325615018563404, 0.07744211263922553, 0.12907018773204254, 0.038721056319612764, 0.02581403754640851, 0.18069826282485957, 0.06453509386602127, 0.06453509386602127, 0.009643074820848455, 0.2314337957003629, 0.04821537410424227, 0.5014398906841196, 0.14464612231272683, 0.04821537410424227, 0.12083707691343293, 0.12083707691343293, 0.6041853845671646, 0.12083707691343293, 0.0938092724843672, 0.0938092724843672, 0.1876185449687344, 0.0469046362421836, 0.0469046362421836, 0.0469046362421836, 0.3752370899374688, 0.0469046362421836, 0.12417096185716398, 0.6385935181225576, 0.03547741767347542, 0.03547741767347542, 0.03547741767347542, 0.01773870883673771, 0.08869354418368855, 0.03547741767347542, 0.658270352312438, 0.10971172538540633, 0.07314115025693756, 0.012190191709489593, 0.04876076683795837, 0.012190191709489593, 0.03657057512846878, 0.03657057512846878, 0.024380383418979187, 0.4232113404880338, 0.19304376934541895, 0.05197332251607433, 0.01484952071887838, 0.00742476035943919, 0.03712380179719595, 0.0742476035943919, 0.19304376934541895, 0.023591290504726147, 0.18873032403780918, 0.023591290504726147, 0.047182581009452294, 0.23591290504726145, 0.023591290504726147, 0.44823451958979676, 0.41495477742809583, 0.06915912957134931, 0.41495477742809583, 0.06915912957134931, 0.06915912957134931, 0.35131474374461674, 0.07026294874892335, 0.4215776924935401, 0.07026294874892335, 0.07026294874892335, 0.07026294874892335, 0.2781324823767341, 0.13906624118836705, 0.13906624118836705, 0.2781324823767341, 0.2216993817825438, 0.1108496908912719, 0.1108496908912719, 0.1108496908912719, 0.4433987635650876, 0.2125439274043695, 0.0708479758014565, 0.566783806411652, 0.0708479758014565, 0.0708479758014565, 0.2803885641516545, 0.009044792391988854, 0.16280626305579937, 0.054268754351933124, 0.09044792391988854, 0.10853750870386625, 0.10853750870386625, 0.08140313152789969, 0.07235833913591083, 0.036179169567955416, 0.17410046965411222, 0.13625254146843566, 0.09840461328275908, 0.04541751382281189, 0.23465715475119475, 0.12111337019416503, 0.1513917127427063, 0.015139171274270629, 0.015139171274270629, 0.007569585637135314, 0.14177631129943807, 0.5671052451977523, 0.07088815564971904, 0.07088815564971904, 0.07088815564971904, 0.02163348612733212, 0.02163348612733212, 0.71390504220196, 0.04326697225466424, 0.04326697225466424, 0.15143440289132484, 0.1895601523999792, 0.2978802394856816, 0.2978802394856816, 0.027080021771425603, 0.054160043542851206, 0.027080021771425603, 0.054160043542851206, 0.054160043542851206, 0.022841469212002044, 0.08375205377734082, 0.19415248830201737, 0.03806911535333674, 0.46444320731070826, 0.015227646141334697, 0.03806911535333674, 0.01903455767666837, 0.007613823070667348, 0.12182116913067757, 0.31649736467083756, 0.02877248769734887, 0.05754497539469774, 0.02877248769734887, 0.02877248769734887, 0.1726349261840932, 0.3452698523681864, 0.04803919464454017, 0.04803919464454017, 0.04803919464454017, 0.1921567785781607, 0.04803919464454017, 0.04803919464454017, 0.4323527518008615, 0.04803919464454017, 0.04803919464454017, 0.01699924675930115, 0.8499623379650574, 0.11899472731510805, 0.5338855371070121, 0.029660307617056233, 0.059320615234112466, 0.029660307617056233, 0.029660307617056233, 0.1779618457023374, 0.059320615234112466, 0.029660307617056233, 0.029660307617056233, 0.029660307617056233, 0.5151452247380065, 0.1828765547819923, 0.025757261236900326, 0.11848340168974149, 0.025757261236900326, 0.012878630618450163, 0.02318153511321029, 0.05409024859749068, 0.025757261236900326, 0.012878630618450163, 0.6395914149293773, 0.12100378120285515, 0.10371752674530442, 0.017286254457550738, 0.017286254457550738, 0.017286254457550738, 0.034572508915101476, 0.017286254457550738, 0.034572508915101476, 0.6017659518669435, 0.133725767081543, 0.03343144177038575, 0.20058865062231448, 0.2621711097470914, 0.44943618813787095, 0.03745301567815591, 0.03745301567815591, 0.14981206271262365, 0.11235904703446774, 0.27398065851490866, 0.05137137347154537, 0.05137137347154537, 0.18836170272899969, 0.10274274694309074, 0.3082282408292722, 0.03424758231436358, 0.2771484136038896, 0.2771484136038896, 0.1385742068019448, 0.1385742068019448, 0.312420321988155, 0.062484064397630996, 0.12496812879526199, 0.031242032198815498, 0.12496812879526199, 0.031242032198815498, 0.312420321988155, 0.0075396234025637025, 0.1696415265576833, 0.03769811701281851, 0.03015849361025481, 0.15079246805127405, 0.0037698117012818512, 0.1922603967653744, 0.0037698117012818512, 0.29781512440126623, 0.10555472763589184, 0.10505540289164188, 0.10505540289164188, 0.10505540289164188, 0.10505540289164188, 0.3151662086749256, 0.10505540289164188, 0.10505540289164188, 0.10505540289164188, 0.16911745832231678, 0.056372486107438925, 0.11274497221487785, 0.11274497221487785, 0.056372486107438925, 0.16911745832231678, 0.33823491664463357, 0.3497960529146681, 0.17489802645733404, 0.40809539506711273, 0.17174815692280987, 0.4723074315377272, 0.04293703923070247, 0.2576222353842148, 0.04293703923070247, 0.6084230572704663, 0.16224614860545766, 0.040561537151364416, 0.08112307430272883, 0.040561537151364416, 0.08112307430272883, 0.012336903192377395, 0.10486367713520785, 0.14804283830852874, 0.30225412821324615, 0.08635832234664176, 0.11720058032758525, 0.037010709577132185, 0.02467380638475479, 0.04317916117332088, 0.12953748351996264, 0.15202727788629083, 0.15202727788629083, 0.15202727788629083, 0.30405455577258167, 0.15202727788629083, 0.12717830437233174, 0.005087132174893269, 0.04578418957403943, 0.005087132174893269, 0.3510121200676356, 0.01526139652467981, 0.055958453923825965, 0.17804962612126443, 0.2187466835204106, 0.2618467811474238, 0.22444009812636326, 0.16833007359477245, 0.3366601471895449, 0.3874393560560543, 0.11069695887315838, 0.11069695887315838, 0.05534847943657919, 0.3320908766194751, 0.1125984872862759, 0.14074810910784488, 0.08444886546470692, 0.1125984872862759, 0.028149621821568976, 0.28149621821568976, 0.1125984872862759, 0.05629924364313795, 0.028149621821568976, 0.028149621821568976, 0.0224488293917419, 0.22448829391741898, 0.0224488293917419, 0.0224488293917419, 0.0448976587834838, 0.1571418057421933, 0.0224488293917419, 0.4938742466183218, 0.18964774302475101, 0.12643182868316732, 0.12643182868316732, 0.06321591434158366, 0.37929548604950203, 0.06321591434158366, 0.04479774926513738, 0.08959549853027476, 0.47784265882813204, 0.10452808161865389, 0.08959549853027476, 0.029865166176758252, 0.059730332353516505, 0.014932583088379126, 0.07466291544189563, 0.18651745770075118, 0.09325872885037559, 0.12434497180050079, 0.046629364425187794, 0.062172485900250395, 0.077715607375313, 0.17097433622568858, 0.12434497180050079, 0.062172485900250395, 0.031086242950125197, 0.26978210540105313, 0.05395642108021062, 0.10791284216042124, 0.05395642108021062, 0.05395642108021062, 0.05395642108021062, 0.3237385264812637, 0.05395642108021062, 0.12419693295679606, 0.06209846647839803, 0.18629539943519408, 0.06209846647839803, 0.12419693295679606, 0.31049233239199014, 0.06209846647839803, 0.06209846647839803, 0.06209846647839803, 0.10042214260094241, 0.40168857040376965, 0.30126642780282725, 0.050211071300471206, 0.050211071300471206, 0.050211071300471206, 0.1188005491570739, 0.03960018305235797, 0.31680146441886375, 0.07920036610471594, 0.3564016474712217, 0.03960018305235797, 0.14878283649870372, 0.29756567299740744, 0.14878283649870372, 0.14878283649870372, 0.14878283649870372, 0.15688266077170399, 0.07844133038585199, 0.07844133038585199, 0.07844133038585199, 0.07844133038585199, 0.07844133038585199, 0.23532399115755598, 0.23532399115755598, 0.24122659308236005, 0.12061329654118003, 0.3618398896235401, 0.12061329654118003, 0.12061329654118003, 0.14630977035397127, 0.07315488517698564, 0.07315488517698564, 0.5852390814158851, 0.6114099388255085, 0.06793443764727872, 0.13586887529455743, 0.20380331294183615, 0.5527393154293623, 0.03684928769529082, 0.29479430156232656, 0.07369857539058164, 0.03684928769529082, 0.05793520062927736, 0.05793520062927736, 0.05793520062927736, 0.05793520062927736, 0.23174080251710943, 0.46348160503421887, 0.05793520062927736, 0.12035810597027241, 0.21564160653007142, 0.11534318488817773, 0.19056700111959798, 0.03510444757466279, 0.030089526492568103, 0.05014921082094684, 0.03510444757466279, 0.13540286921655648, 0.07020889514932557, 0.06864195048306383, 0.13728390096612766, 0.3432097524153192, 0.2059258514491915, 0.06864195048306383, 0.13728390096612766, 0.13906730002922096, 0.13906730002922096, 0.13906730002922096, 0.3244903667348489, 0.09271153335281397, 0.09271153335281397, 0.046355766676406986, 0.38583023721423565, 0.09645755930355891, 0.19291511860711782, 0.09645755930355891, 0.19291511860711782, 0.11901729408236533, 0.178525941123548, 0.059508647041182666, 0.47606917632946133, 0.11901729408236533, 0.059508647041182666, 0.037763854483903445, 0.021579345419373397, 0.037763854483903445, 0.09710705438718029, 0.005394836354843349, 0.18881927241951724, 0.043158690838746794, 0.005394836354843349, 0.5664578172585517, 0.07638839521325128, 0.03819419760662564, 0.15277679042650255, 0.07638839521325128, 0.07638839521325128, 0.3055535808530051, 0.2291651856397538, 0.03819419760662564, 0.19817996078117417, 0.39635992156234834, 0.09908998039058708, 0.19817996078117417, 0.09908998039058708, 0.09908998039058708, 0.18859582856591026, 0.44005693332045726, 0.1257305523772735, 0.06286527618863676, 0.06286527618863676, 0.06286527618863676, 0.24367487101369853, 0.48734974202739706, 0.12183743550684926, 0.36001255473015925, 0.045001569341269906, 0.045001569341269906, 0.045001569341269906, 0.045001569341269906, 0.045001569341269906, 0.36001255473015925, 0.045001569341269906, 0.387171925385878, 0.0774343850771756, 0.0774343850771756, 0.1548687701543512, 0.1548687701543512, 0.0774343850771756, 0.0774343850771756, 0.15891248735220037, 0.07945624367610019, 0.07945624367610019, 0.31782497470440074, 0.07945624367610019, 0.07945624367610019, 0.23836873102830056, 0.0319354421077261, 0.0319354421077261, 0.22354809475408272, 0.1277417684309044, 0.0319354421077261, 0.5109670737236176, 0.0319354421077261, 0.08328295659014663, 0.041641478295073316, 0.4164147829507332, 0.12492443488521995, 0.041641478295073316, 0.2498488697704399, 0.041641478295073316, 0.041641478295073316, 0.10591453100977666, 0.026478632752444164, 0.10591453100977666, 0.05295726550488833, 0.21182906201955332, 0.026478632752444164, 0.39717949128666247, 0.05295726550488833, 0.14581443719001247, 0.6318625611567207, 0.048604812396670825, 0.048604812396670825, 0.048604812396670825, 0.048604812396670825, 0.27147326750609774, 0.012626663604934779, 0.10732664064194562, 0.04419332261727173, 0.1325799678518152, 0.17045995866661953, 0.04419332261727173, 0.1325799678518152, 0.03787999081480434, 0.04419332261727173, 0.427723127378105, 0.030551651955578924, 0.1680340857556841, 0.06110330391115785, 0.13748243380010516, 0.015275825977789462, 0.06110330391115785, 0.030551651955578924, 0.030551651955578924, 0.04582747793336839, 0.23720280512663855, 0.02965035064082982, 0.28167833108788326, 0.08895105192248945, 0.01482517532041491, 0.22237762980622364, 0.07412587660207455, 0.01482517532041491, 0.01482517532041491, 0.01482517532041491, 0.5969495660120512, 0.17055701886058605, 0.08527850943029303, 0.08527850943029303, 0.08527850943029303, 0.04967838022415057, 0.19871352089660227, 0.09935676044830113, 0.04967838022415057, 0.39742704179320454, 0.04967838022415057, 0.09935676044830113, 0.04967838022415057, 0.26177085049165116, 0.5609375367678239, 0.037395835784521596, 0.037395835784521596, 0.037395835784521596, 0.037395835784521596, 0.7340599992009731, 0.1468119998401946, 0.2227740830901227, 0.027846760386265337, 0.16708056231759202, 0.1392338019313267, 0.33416112463518405, 0.027846760386265337, 0.08354028115879601, 0.055693520772530675, 0.07357672159574959, 0.30481784661096256, 0.15766440341946342, 0.12613152273557074, 0.010510960227964227, 0.031532880683892685, 0.031532880683892685, 0.1997082443313203, 0.010510960227964227, 0.05255480113982114, 0.15884556437583852, 0.02823921144459351, 0.17296517009813528, 0.052948521458612834, 0.0670681271809096, 0.23297349441789647, 0.04235881716689027, 0.18708477582043204, 0.052948521458612834, 0.003529901430574189, 0.11471093554019379, 0.1638727650574197, 0.01638727650574197, 0.04916182951722591, 0.22942187108038758, 0.14748548855167773, 0.19664731806890365, 0.03277455301148394, 0.06554910602296787, 0.01638727650574197, 0.24994577277142233, 0.12497288638571116, 0.37491865915713346, 0.12497288638571116, 0.047649028621116356, 0.3335432003478145, 0.047649028621116356, 0.047649028621116356, 0.047649028621116356, 0.38119222896893085, 0.09529805724223271, 0.047649028621116356, 0.185096269523818, 0.5861381868254236, 0.030849378253969665, 0.06169875650793933, 0.06169875650793933, 0.092548134761909, 0.24427160511825685, 0.04885432102365137, 0.09770864204730274, 0.6351061733074678, 0.046041979505974134, 0.32229385654181897, 0.046041979505974134, 0.046041979505974134, 0.09208395901194827, 0.046041979505974134, 0.41437781555376724, 0.1250004197467841, 0.1250004197467841, 0.1250004197467841, 0.1250004197467841, 0.5000016789871364, 0.27024415732018553, 0.1544252327543917, 0.03860630818859793, 0.03860630818859793, 0.46327569826317516, 0.03860630818859793, 0.11412420944549297, 0.0760828062969953, 0.19020701574248827, 0.03804140314849765, 0.1521656125939906, 0.0760828062969953, 0.0760828062969953, 0.22824841889098593, 0.3535300604927061, 0.3535300604927061, 0.08838251512317652, 0.08838251512317652, 0.08838251512317652, 0.09016190598179039, 0.09016190598179039, 0.36064762392716154, 0.18032381196358077, 0.09016190598179039, 0.09016190598179039, 0.09016190598179039, 0.20530131237613378, 0.7527714787124905, 0.38582937715881177, 0.09645734428970294, 0.19291468857940589, 0.09645734428970294, 0.19291468857940589, 0.06568726072778452, 0.6130811001259889, 0.021895753575928177, 0.06568726072778452, 0.021895753575928177, 0.06568726072778452, 0.06568726072778452, 0.043791507151856354, 0.021895753575928177, 0.021895753575928177, 0.07914409552520717, 0.07914409552520717, 0.07914409552520717, 0.39572047762603585, 0.07914409552520717, 0.39572047762603585, 0.1808333748602049, 0.14064818044682603, 0.040185194413378866, 0.0602777916200683, 0.10046298603344717, 0.020092597206689433, 0.1205555832401366, 0.020092597206689433, 0.20092597206689433, 0.1205555832401366, 0.5670912813161783, 0.03780608542107856, 0.07561217084215711, 0.03780608542107856, 0.22683651252647133, 0.03780608542107856, 0.03780608542107856, 0.20574900214825065, 0.5682591487904065, 0.00979757153086908, 0.06858300071608354, 0.04898785765434539, 0.01959514306173816, 0.06858300071608354, 0.00979757153086908, 0.00979757153086908, 0.8072292875858238, 0.04139637372234994, 0.07244365401411239, 0.005174546715293742, 0.036221827007056194, 0.02069818686117497, 0.010349093430587484, 0.010349093430587484, 0.4258772720480628, 0.0709795453413438, 0.1419590906826876, 0.0709795453413438, 0.0709795453413438, 0.2839181813653752, 0.46237086764790036, 0.11559271691197509, 0.46237086764790036, 0.018832615742922616, 0.13182831020045832, 0.028248923614383924, 0.6779741667452142, 0.07533046297169047, 0.047081539357306544, 0.009416307871461308, 0.2967688301073255, 0.1384921207167519, 0.25719965275968215, 0.2374150640858604, 0.039569177347643404, 0.019784588673821702, 0.019784588673821702, 0.39949101660134184, 0.2817127885993526, 0.036076213982591296, 0.06737763493807492, 0.023343432576970836, 0.04827846282964423, 0.014324379081323014, 0.0641944395866698, 0.030770888396916104, 0.03448461630688874, 0.020483554403279126, 0.3072533160491869, 0.20483554403279125, 0.06145066320983738, 0.06145066320983738, 0.163868435226233, 0.020483554403279126, 0.12290132641967476, 0.06145066320983738, 0.1151677483796971, 0.07677849891979806, 0.03838924945989903, 0.07677849891979806, 0.4990602429786874, 0.03838924945989903, 0.07677849891979806, 0.1151677483796971, 0.0264760217678519, 0.0529520435357038, 0.4500923700534823, 0.0264760217678519, 0.1853321523749633, 0.2382841959106671, 0.37089437783503093, 0.05298491111929013, 0.05298491111929013, 0.10596982223858026, 0.10596982223858026, 0.3179094667157408, 0.8128053195085724, 0.13546755325142873, 0.1266630242516043, 0.1266630242516043, 0.1266630242516043, 0.2533260485032086, 0.3799890727548129, 0.5495166637566601, 0.09158611062611001, 0.36634444250444004, 0.589815589472123, 0.06553506549690255, 0.06553506549690255, 0.06553506549690255, 0.1310701309938051, 0.1310701309938051, 0.31311253110771037, 0.06262250622154207, 0.06262250622154207, 0.06262250622154207, 0.12524501244308414, 0.31311253110771037, 0.06262250622154207, 0.15762733250832955, 0.15762733250832955, 0.15762733250832955, 0.3152546650166591, 0.15762733250832955, 0.25097800361548633, 0.3294086297453258, 0.015686125225967896, 0.015686125225967896, 0.10980287658177527, 0.12548900180774317, 0.015686125225967896, 0.14117512703371107, 0.12143217960416383, 0.12143217960416383, 0.12143217960416383, 0.24286435920832766, 0.12143217960416383, 0.3642965388124915, 0.06969098936313124, 0.06969098936313124, 0.06969098936313124, 0.20907296808939374, 0.34845494681565625, 0.06969098936313124, 0.06969098936313124, 0.13938197872626248, 0.20630022467233253, 0.047277134820742875, 0.038681292126062354, 0.36962123587126244, 0.10744803368350653, 0.053724016841753264, 0.07951154492579483, 0.05157505616808313, 0.03223441010505196, 0.010744803368350653, 0.13028689842153535, 0.05211475936861414, 0.15634427810584242, 0.44297545463322024, 0.07817213905292121, 0.02605737968430707, 0.02605737968430707, 0.05211475936861414, 0.02605737968430707, 0.05211475936861414, 0.015288634906926172, 0.11466476180194629, 0.22932952360389258, 0.007644317453463086, 0.1605306665227248, 0.07644317453463086, 0.3898601901266174, 0.7103446954256033, 0.1869328145856851, 0.03738656291713702, 0.03738656291713702, 0.03738656291713702, 0.037306180878466086, 0.037306180878466086, 0.7088174366908556, 0.18653090439233042, 0.09600744901917903, 0.09600744901917903, 0.09600744901917903, 0.09600744901917903, 0.5760446941150742, 0.18176468306253302, 0.2120587969062885, 0.121176455375022, 0.3332352522813105, 0.0302941138437555, 0.060588227687511, 0.0302941138437555, 0.0302941138437555, 0.5938221303731491, 0.18271450165327666, 0.022839312706659582, 0.1141965635332979, 0.022839312706659582, 0.022839312706659582, 0.022839312706659582, 0.6203510448896733, 0.056395549535424846, 0.056395549535424846, 0.056395549535424846, 0.11279109907084969, 0.056395549535424846, 0.16666636840493154, 0.08333318420246577, 0.5833322894172605, 0.08333318420246577, 0.543362722536044, 0.31962513090355527, 0.03196251309035553, 0.06392502618071105, 0.03196251309035553, 0.03196251309035553, 0.07055472125817412, 0.07055472125817412, 0.564437770065393, 0.07055472125817412, 0.07055472125817412, 0.07055472125817412, 0.07055472125817412, 0.0758983710728737, 0.3415426698279317, 0.2150453847064755, 0.0758983710728737, 0.2150453847064755, 0.0758983710728737, 0.05627242341935361, 0.3282558032795627, 0.15943853302150188, 0.05627242341935361, 0.22508969367741444, 0.07502989789247147, 0.10316610960214828, 0.12310854266925146, 0.2585279396054281, 0.049243417067700586, 0.29546050240620353, 0.03693256280077544, 0.06155427133462573, 0.049243417067700586, 0.03693256280077544, 0.08617597986847603, 0.024621708533850293, 0.5597457670716033, 0.13993644176790082, 0.27987288353580164, 0.13993644176790082, 0.10569616382532859, 0.038245322436796535, 0.25033301958630455, 0.15367665924603696, 0.1613257237333963, 0.09039803485060999, 0.10291468582992522, 0.018079606970121998, 0.07162305838163714, 0.006953694988508461, 0.07217943705449957, 0.036089718527249785, 0.036089718527249785, 0.18044859263624893, 0.10826915558174935, 0.10826915558174935, 0.18044859263624893, 0.2165383111634987, 0.10255156906155387, 0.4102062762462155, 0.3076547071846616, 0.10255156906155387, 0.10255156906155387, 0.2158457380311921, 0.4316914760623842, 0.10792286901559606, 0.10792286901559606, 0.10792286901559606, 0.03310224935628461, 0.06620449871256923, 0.06620449871256923, 0.23171574549399232, 0.5627382390568385, 0.03310224935628461, 0.05379218327446219, 0.05379218327446219, 0.26896091637231095, 0.37654528292123535, 0.10758436654892438, 0.05379218327446219, 0.05379218327446219, 0.5457043880085799, 0.04960948981896181, 0.04960948981896181, 0.2976569389137709, 0.04274954659238227, 0.04274954659238227, 0.04274954659238227, 0.04274954659238227, 0.04274954659238227, 0.6839927454781163, 0.04274954659238227, 0.04274954659238227, 0.06372607952464467, 0.35049343738554567, 0.25490431809857866, 0.03186303976232233, 0.28676735786090096, 0.34735994026848854, 0.17367997013424427, 0.04341999253356107, 0.06512998880034161, 0.021709996266780534, 0.32564994400170805, 0.021709996266780534, 0.4361811694052886, 0.05452264617566108, 0.2180905847026443, 0.16356793852698323, 0.05452264617566108, 0.05452264617566108, 0.08233021281271143, 0.4939812768762686, 0.08233021281271143, 0.04116510640635571, 0.12349531921906715, 0.04116510640635571, 0.04116510640635571, 0.08233021281271143, 0.1283949315863957, 0.1283949315863957, 0.1283949315863957, 0.3851847947591871, 0.04279831052879857, 0.04279831052879857, 0.1283949315863957, 0.04279831052879857, 0.5599359422285983, 0.06999199277857479, 0.06999199277857479, 0.06999199277857479, 0.06999199277857479, 0.06999199277857479, 0.06999199277857479, 0.683163519694791, 0.02732654078779164, 0.05465308157558328, 0.16395924472674983, 0.02732654078779164, 0.02732654078779164, 0.02732654078779164, 0.20509936768751078, 0.029299909669644394, 0.17579945801786637, 0.029299909669644394, 0.146499548348222, 0.029299909669644394, 0.11719963867857758, 0.029299909669644394, 0.20509936768751078, 0.029299909669644394, 0.07080064220046939, 0.14160128440093878, 0.5664051376037551, 0.21240192660140816, 0.10849215164359759, 0.10849215164359759, 0.21698430328719517, 0.43396860657439035, 0.10849215164359759, 0.06626779665806991, 0.06626779665806991, 0.06626779665806991, 0.5964101699226292, 0.09940169498710487, 0.033133898329034954, 0.033133898329034954, 0.033133898329034954, 0.2399533704354223, 0.026661485603935813, 0.026661485603935813, 0.41325302686100507, 0.026661485603935813, 0.11997668521771115, 0.026661485603935813, 0.10664594241574325, 0.026661485603935813, 0.2558193972971084, 0.06019279936402551, 0.015048199841006377, 0.24077119745610204, 0.12038559872805102, 0.15048199841006377, 0.015048199841006377, 0.1354337985690574, 0.09492226743597931, 0.047461133717989656, 0.047461133717989656, 0.047461133717989656, 0.14238340115396897, 0.5695336046158759, 0.1677881416199878, 0.0838940708099939, 0.06292055310749543, 0.220221935876234, 0.12584110621499087, 0.020973517702498477, 0.11535434736374162, 0.020973517702498477, 0.06292055310749543, 0.1363278650662401, 0.14225652660211147, 0.056902610640844585, 0.056902610640844585, 0.056902610640844585, 0.028451305320422293, 0.17070783192253375, 0.48367219044717896, 0.028451305320422293, 0.08143276696847417, 0.2442983009054225, 0.05428851131231611, 0.027144255656158054, 0.5428851131231611, 0.027144255656158054, 0.3602566803642563, 0.051465240052036614, 0.12866310013009152, 0.051465240052036614, 0.025732620026018307, 0.10293048010407323, 0.25732620026018305, 0.09676377490841956, 0.06450918327227971, 0.06450918327227971, 0.032254591636139855, 0.5483280578143774, 0.032254591636139855, 0.06450918327227971, 0.06450918327227971, 0.09812675208844691, 0.4415703843980111, 0.39250700835378766, 0.1546525445695271, 0.06186101782781084, 0.03093050891390542, 0.06186101782781084, 0.06186101782781084, 0.3402355980529596, 0.3402355980529596, 0.47795835217017096, 0.2060165311078323, 0.06592528995450635, 0.057684628710193045, 0.18953520861920573, 0.09711000302718849, 0.0194220006054377, 0.0064740002018125655, 0.537342016750443, 0.2071680064580021, 0.12948000403625132, 0.25991807067318196, 0.1660587673745329, 0.0577595712607071, 0.007219946407588387, 0.3682172667870078, 0.05053962485311871, 0.07941941048347226, 0.007219946407588387, 0.037584892813394236, 0.41343382094733655, 0.11275467844018269, 0.037584892813394236, 0.3006791425071539, 0.037584892813394236, 0.06032008389532187, 0.12064016779064374, 0.06032008389532187, 0.06032008389532187, 0.5428807550578968, 0.06032008389532187, 0.06032008389532187, 0.06032008389532187, 0.07097610496308977, 0.9108600136929855, 0.01182935082718163, 0.6840150344685983, 0.09327477742753613, 0.06218318495169076, 0.03109159247584538, 0.09327477742753613, 0.03109159247584538, 0.03109159247584538, 0.16904304794906544, 0.11024546605373833, 0.044098186421495336, 0.15434365247523366, 0.05879758189532711, 0.05879758189532711, 0.08819637284299067, 0.09554607057990656, 0.029398790947663556, 0.19109214115981313, 0.016360345829550565, 0.03272069165910113, 0.16360345829550568, 0.37628795407966303, 0.11452242080685397, 0.08180172914775284, 0.17996380412505625, 0.016360345829550565, 0.016360345829550565, 0.07882591758604349, 0.23647775275813046, 0.3547166291371957, 0.03941295879302174, 0.15765183517208697, 0.07882591758604349, 0.03941295879302174, 0.03941295879302174, 0.22430556184265793, 0.02711385912383777, 0.13556929561918885, 0.1429639844711446, 0.056692614531660794, 0.1183150216312921, 0.09120116250745432, 0.07887668108752806, 0.09613095507542482, 0.02711385912383777, 0.05437197877140158, 0.4077898407855119, 0.13592994692850396, 0.02718598938570079, 0.2990458832427087, 0.02718598938570079, 0.05437197877140158, 0.03560455086752779, 0.07120910173505558, 0.03560455086752779, 0.03560455086752779, 0.21362730520516673, 0.21362730520516673, 0.03560455086752779, 0.03560455086752779, 0.03560455086752779, 0.3204409578077501, 0.12230826645786348, 0.1834623996867952, 0.12230826645786348, 0.12230826645786348, 0.06115413322893174, 0.06115413322893174, 0.06115413322893174, 0.3057706661446587, 0.02501245827769672, 0.2501245827769672, 0.45022424899854097, 0.07503737483309017, 0.1250622913884836, 0.02501245827769672, 0.02501245827769672, 0.08705448041963738, 0.17410896083927477, 0.08705448041963738, 0.34821792167854954, 0.08705448041963738, 0.17410896083927477, 0.08705448041963738, 0.19276682002092582, 0.013769058572923274, 0.302919288604312, 0.04130717571876982, 0.28915023003138873, 0.11015246858338619, 0.013769058572923274, 0.013769058572923274, 0.013769058572923274, 0.07952501627775206, 0.34792194621516526, 0.019881254069438015, 0.07952501627775206, 0.04970313517359504, 0.02982188110415702, 0.019881254069438015, 0.15905003255550412, 0.19881254069438015, 0.019881254069438015, 0.1396984722918975, 0.0465661574306325, 0.02328307871531625, 0.02328307871531625, 0.02328307871531625, 0.30268002329911126, 0.0465661574306325, 0.39581233816037625, 0.06971596359860464, 0.06971596359860464, 0.03485798179930232, 0.3834377997923255, 0.1742899089965116, 0.03485798179930232, 0.03485798179930232, 0.1742899089965116, 0.36005855334107606, 0.051436936191582294, 0.051436936191582294, 0.10287387238316459, 0.051436936191582294, 0.25718468095791147, 0.10287387238316459, 0.0615486866513873, 0.4835968236894716, 0.03517067808650703, 0.09671936473789432, 0.27257275517042945, 0.04396334760813378, 0.15559881269290515, 0.38899703173226285, 0.07779940634645258, 0.07779940634645258, 0.15559881269290515, 0.07779940634645258, 0.15559881269290515, 0.15742799761471413, 0.47228399284414235, 0.31485599522942825, 0.12468430299168579, 0.01466874152843362, 0.09534681993481854, 0.16135615681276982, 0.10268119069903535, 0.11734993222746896, 0.23469986445493793, 0.09534681993481854, 0.01466874152843362, 0.03667185382108405, 0.23626911082825647, 0.5906727770706411, 0.7323850653925567, 0.08137611837695075, 0.08137611837695075, 0.08137611837695075, 0.13202287275671554, 0.2640457455134311, 0.13202287275671554, 0.13202287275671554, 0.2640457455134311, 0.6528926257399046, 0.09327037510570065, 0.09327037510570065, 0.04663518755285032, 0.09327037510570065, 0.04663518755285032, 0.1539695742273924, 0.1577249296963532, 0.10514995313090214, 0.05633033203441186, 0.1539695742273924, 0.07510710937921582, 0.21781061719972586, 0.030042843751686327, 0.03755355468960791, 0.011266066406882373, 0.39569379560391155, 0.0232761056237595, 0.046552211247519, 0.0232761056237595, 0.512074323722709, 0.0232761056237595, 0.13778224493698207, 0.13778224493698207, 0.045927414978994024, 0.3674193198319522, 0.27556448987396415, 0.045927414978994024, 0.27067109030125236, 0.005307276280416713, 0.5838003908458385, 0.03715093396291699, 0.005307276280416713, 0.010614552560833426, 0.09022369676708412, 0.005307276280416713, 0.14128029080828766, 0.14128029080828766, 0.14128029080828766, 0.42384087242486296, 0.14128029080828766, 0.07974982793190206, 0.2924160357503076, 0.1275997246910433, 0.32963262211852856, 0.015949965586380413, 0.02658327597730069, 0.06911651754098179, 0.010633310390920275, 0.047849896759141246, 0.005316655195460138, 0.015924752437332112, 0.015924752437332112, 0.9395603938025946, 0.015924752437332112, 0.05542492918195916, 0.05542492918195916, 0.02771246459097958, 0.5265368272286121, 0.24941218131881623, 0.05542492918195916, 0.02771246459097958, 0.02522740904777844, 0.22704668143000598, 0.07568222714333532, 0.40363854476445504, 0.02522740904777844, 0.20181927238222752, 0.02522740904777844, 0.852848320676309, 0.14214138677938484, 0.5429834358296916, 0.1357458589574229, 0.2714917179148458, 0.043549070027372835, 0.13064721008211852, 0.043549070027372835, 0.5661379103558468, 0.043549070027372835, 0.17419628010949134, 0.0868576561254003, 0.0868576561254003, 0.0868576561254003, 0.0868576561254003, 0.43428828062700153, 0.0868576561254003, 0.1737153122508006, 0.14742145649591223, 0.4422643694877367, 0.14742145649591223, 0.29484291299182447, 0.071541553743516, 0.035770776871758, 0.143083107487032, 0.35770776871758003, 0.10731233061527402, 0.035770776871758, 0.21462466123054805, 0.08876612518365459, 0.5325967511019275, 0.17753225036730919, 0.08876612518365459, 0.47384051086296824, 0.05467390509957326, 0.1275724452323376, 0.07289854013276434, 0.018224635033191085, 0.14579708026552868, 0.03644927006638217, 0.09112317516595543, 0.0686822138142615, 0.0686822138142615, 0.549457710514092, 0.0686822138142615, 0.0686822138142615, 0.137364427628523, 0.0686822138142615, 0.1140108340137151, 0.07600722267581007, 0.07600722267581007, 0.03800361133790504, 0.6080577814064806, 0.03800361133790504, 0.03800361133790504, 0.2609206947355537, 0.5870715631549958, 0.06523017368388842, 0.06523017368388842, 0.06523017368388842, 0.21322954148055234, 0.08201136210790475, 0.1913598449184444, 0.1312181793726476, 0.0656090896863238, 0.12028333109159363, 0.05467424140526983, 0.08201136210790475, 0.027337120702634915, 0.0328045448431619, 0.5375964077789196, 0.09774480141434902, 0.19548960282869804, 0.04887240070717451, 0.04887240070717451, 0.04887240070717451, 0.1242933272334458, 0.1242933272334458, 0.1242933272334458, 0.1242933272334458, 0.3728799817003374, 0.2207434344928448, 0.47827744140116374, 0.036790572415474135, 0.2207434344928448, 0.036790572415474135, 0.38562746385917984, 0.14883867026143782, 0.027061576411170515, 0.12854248795305995, 0.027061576411170515, 0.05412315282234103, 0.020296182308377885, 0.1420732761586452, 0.020296182308377885, 0.05412315282234103, 0.5923053171245177, 0.18026683564659235, 0.025752405092370336, 0.025752405092370336, 0.025752405092370336, 0.025752405092370336, 0.025752405092370336, 0.12876202546185167, 0.84614671732734, 0.056409781155156, 0.056409781155156, 0.30096266939788047, 0.6019253387957609, 0.19500902668028966, 0.5200240711474391, 0.13000601778685977, 0.06500300889342989, 0.1791727759075211, 0.22396596988440137, 0.022396596988440137, 0.0671897909653204, 0.0671897909653204, 0.04479319397688027, 0.33594895482660203, 0.022396596988440137, 0.04479319397688027, 0.05305655419175862, 0.848904867068138, 0.05305655419175862, 0.4202251533639613, 0.11818832438361412, 0.11818832438361412, 0.12475434240492601, 0.03939610812787137, 0.08535823427705463, 0.006566018021311896, 0.032830090106559476, 0.03939610812787137, 0.013132036042623791, 0.16401059506252905, 0.01491005409659355, 0.1192804327727484, 0.2385608655454968, 0.1192804327727484, 0.0298201081931871, 0.0298201081931871, 0.2683809737386839, 0.11877172349659836, 0.03959057449886612, 0.1979528724943306, 0.03959057449886612, 0.03959057449886612, 0.4750868939863934, 0.03959057449886612, 0.11877172349659836, 0.1683353641010622, 0.08050821761355148, 0.007318928873959226, 0.036594644369796134, 0.05123250211771458, 0.029275715495836904, 0.007318928873959226, 0.17565429297502141, 0.45377359018547203, 0.08375509286422932, 0.02791836428807644, 0.08375509286422932, 0.02791836428807644, 0.47461219289729945, 0.02791836428807644, 0.05583672857615288, 0.05583672857615288, 0.16751018572845863, 0.02791836428807644, 0.8704326096563717, 0.03956511862074417, 0.03956511862074417, 0.11335584877569896, 0.6234571682663442, 0.05667792438784948, 0.05667792438784948, 0.11335584877569896, 0.08290092692914074, 0.08290092692914074, 0.08290092692914074, 0.33160370771656295, 0.41450463464570364, 0.21127898246703872, 0.2957905754538542, 0.08451159298681549, 0.04225579649340774, 0.08451159298681549, 0.04225579649340774, 0.25353477896044646, 0.050025860623678926, 0.050025860623678926, 0.15007758187103679, 0.30015516374207357, 0.4002068849894314, 0.050025860623678926, 0.14167437435334687, 0.09444958290223125, 0.047224791451115626, 0.047224791451115626, 0.09444958290223125, 0.377798331608925, 0.047224791451115626, 0.09444958290223125, 0.2045946563701231, 0.04091893127402462, 0.12275679382207387, 0.061378396911036935, 0.16367572509609848, 0.02045946563701231, 0.3068919845551847, 0.08183786254804924, 0.45591924524886585, 0.09118384904977317, 0.045591924524886585, 0.3191434716742061, 0.09118384904977317, 0.13779682011795422, 0.06889841005897711, 0.2066952301769313, 0.4133904603538626, 0.06889841005897711, 0.06889841005897711, 0.22579148068456503, 0.07526382689485502, 0.07526382689485502, 0.07526382689485502, 0.45158296136913006, 0.07526382689485502, 0.22835218834585064, 0.6089391689222684, 0.1522347922305671, 0.13946335067214927, 0.04648778355738309, 0.04648778355738309, 0.04648778355738309, 0.04648778355738309, 0.23243891778691544, 0.4183900520164478, 0.12169281639118619, 0.09126961229338965, 0.030423204097796547, 0.09126961229338965, 0.334655245075762, 0.09126961229338965, 0.060846408195593095, 0.060846408195593095, 0.09126961229338965, 0.43748833262477876, 0.21874416631238938, 0.10937208315619469, 0.10937208315619469, 0.10937208315619469, 0.15709749534662248, 0.10473166356441499, 0.20946332712882998, 0.026182915891103747, 0.31419499069324497, 0.13091457945551874, 0.026182915891103747, 0.026182915891103747, 0.026182915891103747, 0.05324047910496438, 0.5856452701546081, 0.05324047910496438, 0.05324047910496438, 0.05324047910496438, 0.05324047910496438, 0.15972143731489313, 0.009643186696837924, 0.23143648072411016, 0.048215933484189614, 0.501445708235572, 0.14464780045256884, 0.048215933484189614, 0.1312916893814144, 0.08752779292094293, 0.2625833787628288, 0.04376389646047146, 0.3938750681442432, 0.04376389646047146, 0.18318196675245974, 0.27477295012868963, 0.45795491688114937, 0.6004781893969987, 0.06004781893969987, 0.06004781893969987, 0.06004781893969987, 0.06004781893969987, 0.06004781893969987, 0.06004781893969987, 0.030840562708068345, 0.820358968034618, 0.037008675249682016, 0.06168112541613669, 0.037008675249682016, 0.00616811254161367, 0.0842355694257962, 0.5896489859805734, 0.0842355694257962, 0.0842355694257962, 0.09975319067617493, 0.09975319067617493, 0.09975319067617493, 0.24938297669043732, 0.34913616736661224, 0.049876595338087464, 0.049876595338087464, 0.16738459687822826, 0.5021537906346848, 0.16738459687822826, 0.057696626711288265, 0.057696626711288265, 0.057696626711288265, 0.057696626711288265, 0.057696626711288265, 0.057696626711288265, 0.1730898801338648, 0.4615730136903061, 0.07097624707671926, 0.9108618374845638, 0.011829374512786544, 0.24196859975556326, 0.33875603965778855, 0.0967874399022253, 0.04839371995111265, 0.14518115985333796, 0.04839371995111265, 0.0967874399022253, 0.3114002467440657, 0.15570012337203284, 0.0667286243022998, 0.17794299813946612, 0.0667286243022998, 0.22242874767433266, 0.09052654309137124, 0.1810530861827425, 0.6336858016395986, 0.09052654309137124], \"Topic\": [2, 5, 6, 7, 8, 1, 2, 4, 5, 6, 7, 8, 10, 1, 2, 3, 6, 8, 9, 10, 1, 2, 3, 4, 5, 6, 7, 8, 9, 1, 2, 3, 4, 5, 6, 7, 9, 3, 5, 8, 9, 1, 3, 4, 5, 6, 7, 8, 9, 1, 2, 4, 6, 8, 9, 2, 4, 6, 9, 10, 1, 2, 3, 4, 6, 8, 9, 10, 2, 3, 5, 6, 7, 8, 9, 10, 1, 2, 3, 4, 5, 6, 7, 8, 10, 1, 2, 4, 6, 7, 8, 9, 10, 2, 3, 5, 6, 7, 8, 9, 2, 3, 4, 5, 7, 8, 1, 3, 6, 7, 1, 2, 3, 5, 8, 9, 10, 2, 3, 8, 9, 10, 1, 2, 3, 4, 5, 6, 7, 8, 9, 10, 1, 2, 3, 4, 5, 6, 7, 8, 9, 10, 2, 3, 4, 6, 7, 8, 1, 3, 4, 5, 6, 7, 8, 1, 2, 3, 4, 5, 6, 7, 8, 9, 10, 1, 2, 3, 4, 5, 6, 8, 9, 10, 1, 2, 3, 4, 5, 6, 5, 7, 9, 2, 3, 6, 9, 1, 2, 3, 4, 5, 6, 7, 9, 1, 2, 3, 4, 9, 2, 3, 5, 6, 7, 9, 2, 3, 5, 7, 9, 1, 2, 3, 4, 5, 6, 7, 8, 9, 1, 2, 3, 4, 5, 6, 7, 9, 10, 1, 2, 4, 5, 6, 7, 8, 9, 10, 1, 2, 5, 6, 10, 3, 5, 6, 7, 9, 10, 3, 4, 5, 6, 8, 2, 4, 6, 7, 8, 9, 10, 3, 4, 5, 6, 8, 9, 1, 2, 4, 5, 6, 7, 8, 10, 4, 5, 7, 10, 2, 3, 6, 7, 9, 2, 4, 5, 6, 7, 8, 9, 10, 1, 3, 4, 6, 7, 2, 3, 5, 7, 8, 10, 2, 3, 4, 5, 6, 7, 8, 9, 4, 5, 7, 9, 1, 2, 4, 5, 6, 7, 8, 9, 10, 1, 5, 9, 1, 2, 3, 6, 8, 9, 2, 3, 5, 7, 10, 3, 4, 5, 6, 7, 9, 1, 2, 3, 4, 5, 6, 7, 8, 9, 10, 1, 2, 3, 5, 6, 7, 8, 9, 10, 2, 3, 5, 6, 8, 1, 3, 4, 5, 6, 9, 3, 5, 7, 10, 1, 2, 3, 4, 5, 7, 10, 1, 2, 3, 4, 5, 6, 7, 8, 9, 1, 3, 6, 7, 8, 10, 2, 3, 4, 5, 6, 7, 9, 1, 2, 3, 5, 8, 9, 10, 2, 3, 5, 6, 7, 1, 2, 3, 5, 6, 7, 1, 3, 4, 5, 6, 8, 1, 2, 3, 5, 6, 7, 1, 2, 3, 5, 6, 7, 10, 1, 2, 3, 5, 7, 8, 10, 1, 2, 3, 5, 6, 7, 8, 9, 2, 3, 4, 6, 8, 9, 1, 2, 3, 4, 5, 6, 7, 8, 1, 3, 7, 8, 9, 1, 3, 4, 5, 8, 9, 10, 2, 3, 4, 5, 8, 9, 1, 2, 3, 5, 6, 7, 10, 1, 6, 7, 9, 10, 1, 2, 3, 4, 5, 6, 7, 9, 10, 2, 3, 4, 5, 6, 8, 9, 10, 1, 3, 6, 8, 9, 10, 1, 5, 6, 7, 9, 2, 3, 4, 5, 6, 7, 10, 2, 3, 4, 5, 6, 10, 1, 4, 8, 10, 1, 2, 3, 4, 5, 6, 7, 8, 9, 10, 1, 4, 5, 6, 8, 9, 2, 5, 6, 8, 1, 2, 3, 4, 5, 7, 8, 9, 1, 2, 3, 4, 5, 6, 7, 8, 1, 2, 4, 5, 6, 7, 8, 9, 10, 1, 2, 4, 5, 6, 7, 8, 10, 1, 3, 4, 6, 7, 9, 10, 1, 2, 3, 4, 9, 1, 3, 6, 7, 8, 9, 1, 4, 5, 7, 1, 2, 3, 4, 7, 1, 4, 5, 6, 8, 1, 2, 3, 4, 5, 6, 7, 8, 9, 10, 1, 2, 3, 4, 5, 6, 7, 8, 9, 10, 1, 6, 7, 9, 10, 3, 4, 5, 6, 7, 9, 2, 3, 4, 5, 6, 7, 8, 10, 1, 2, 3, 4, 5, 6, 7, 8, 9, 10, 1, 2, 3, 5, 8, 9, 10, 1, 2, 3, 4, 5, 7, 8, 9, 10, 2, 5, 7, 1, 2, 3, 4, 5, 6, 7, 8, 9, 10, 1, 2, 3, 4, 5, 6, 7, 8, 9, 10, 1, 2, 3, 4, 6, 7, 8, 9, 10, 1, 2, 4, 6, 1, 2, 4, 7, 8, 10, 1, 2, 3, 4, 6, 8, 9, 1, 4, 6, 10, 1, 3, 4, 5, 6, 7, 8, 1, 2, 3, 4, 5, 6, 7, 8, 9, 10, 2, 3, 4, 5, 6, 8, 9, 10, 1, 2, 3, 4, 5, 6, 7, 3, 5, 7, 1, 2, 3, 4, 5, 1, 4, 5, 6, 8, 9, 1, 2, 3, 4, 5, 6, 7, 8, 9, 10, 1, 4, 5, 7, 9, 1, 2, 3, 5, 6, 7, 8, 9, 10, 2, 3, 6, 7, 1, 3, 6, 7, 9, 1, 2, 3, 4, 5, 6, 7, 8, 9, 10, 1, 3, 4, 5, 6, 7, 9, 10, 1, 3, 5, 6, 7, 9, 1, 2, 3, 4, 5, 6, 7, 9, 10, 1, 2, 3, 4, 5, 6, 7, 8, 9, 10, 1, 2, 3, 4, 5, 6, 7, 10, 1, 2, 3, 4, 5, 6, 7, 8, 9, 1, 2, 3, 5, 6, 9, 1, 3, 4, 5, 8, 9, 4, 6, 7, 8, 9, 1, 3, 4, 5, 6, 7, 8, 9, 1, 2, 6, 7, 9, 2, 4, 6, 8, 5, 6, 9, 10, 1, 2, 3, 8, 9, 1, 2, 4, 5, 7, 8, 9, 1, 2, 3, 4, 5, 6, 7, 8, 9, 10, 1, 2, 3, 5, 7, 8, 1, 2, 5, 6, 7, 9, 10, 4, 7, 8, 9, 10, 1, 2, 3, 5, 8, 10, 1, 2, 3, 5, 6, 7, 8, 9, 10, 1, 3, 4, 5, 6, 8, 9, 10, 3, 4, 5, 6, 7, 9, 1, 2, 4, 5, 9, 10, 1, 2, 6, 2, 3, 4, 5, 6, 7, 8, 10, 3, 4, 5, 6, 7, 9, 10, 2, 3, 5, 6, 7, 8, 9, 1, 2, 3, 4, 5, 8, 10, 1, 2, 3, 5, 6, 7, 8, 9, 1, 3, 4, 5, 6, 7, 8, 10, 1, 2, 4, 5, 6, 9, 1, 2, 3, 4, 5, 6, 7, 8, 9, 10, 1, 2, 3, 4, 5, 6, 7, 8, 9, 10, 1, 2, 3, 4, 5, 6, 7, 8, 9, 10, 1, 3, 5, 7, 9, 1, 2, 3, 4, 5, 7, 8, 9, 2, 3, 5, 7, 9, 10, 5, 7, 1, 2, 3, 4, 5, 6, 8, 9, 1, 2, 3, 4, 5, 6, 7, 8, 9, 10, 1, 2, 3, 4, 5, 6, 7, 8, 9, 10, 1, 2, 3, 4, 5, 6, 7, 8, 9, 10, 1, 3, 4, 5, 2, 3, 4, 5, 7, 8, 9, 10, 1, 2, 3, 4, 5, 9, 1, 3, 4, 5, 1, 3, 4, 6, 8, 9, 10, 1, 3, 4, 6, 10, 1, 2, 3, 5, 7, 8, 1, 3, 4, 5, 6, 7, 8, 9, 2, 4, 5, 7, 9, 1, 2, 4, 5, 7, 8, 9, 5, 8, 4, 7, 8, 9, 10, 1, 2, 3, 4, 5, 6, 7, 8, 9, 10, 3, 5, 6, 7, 9, 10, 1, 2, 3, 4, 5, 6, 7, 8, 9, 10, 1, 3, 4, 6, 7, 8, 9, 1, 2, 3, 4, 5, 6, 8, 9, 10, 1, 2, 4, 5, 6, 7, 8, 9, 1, 2, 3, 4, 6, 9, 2, 3, 5, 1, 2, 4, 5, 7, 8, 10, 2, 3, 4, 5, 6, 7, 9, 1, 2, 3, 4, 5, 6, 7, 8, 9, 10, 1, 3, 4, 5, 6, 7, 8, 9, 10, 1, 3, 4, 5, 6, 7, 8, 10, 2, 4, 5, 7, 9, 10, 1, 2, 3, 4, 5, 9, 2, 4, 1, 6, 7, 9, 10, 1, 3, 10, 1, 3, 4, 5, 6, 10, 1, 2, 3, 4, 8, 9, 10, 2, 3, 4, 6, 9, 1, 2, 3, 5, 6, 7, 9, 10, 2, 5, 6, 7, 9, 10, 1, 2, 3, 4, 6, 8, 9, 10, 1, 2, 3, 4, 5, 6, 7, 8, 9, 10, 1, 2, 3, 4, 5, 6, 7, 8, 9, 10, 1, 2, 3, 4, 6, 7, 9, 1, 2, 3, 4, 6, 2, 3, 8, 9, 1, 3, 8, 9, 10, 1, 2, 3, 4, 7, 8, 9, 10, 1, 3, 5, 6, 7, 8, 9, 1, 2, 3, 4, 6, 10, 3, 4, 6, 9, 1, 2, 3, 4, 6, 9, 1, 2, 3, 5, 6, 9, 10, 3, 4, 5, 6, 7, 9, 3, 4, 5, 6, 7, 8, 9, 1, 2, 3, 4, 5, 6, 7, 8, 9, 10, 2, 3, 6, 7, 1, 2, 3, 4, 5, 6, 7, 8, 9, 10, 1, 2, 4, 5, 6, 7, 8, 9, 3, 4, 5, 7, 10, 2, 3, 4, 7, 9, 2, 3, 5, 6, 9, 10, 1, 2, 3, 4, 5, 6, 9, 2, 3, 7, 9, 1, 2, 3, 4, 5, 6, 7, 9, 3, 5, 6, 9, 10, 1, 2, 3, 5, 6, 8, 10, 2, 3, 4, 6, 8, 10, 1, 2, 3, 4, 5, 6, 7, 8, 1, 2, 4, 5, 6, 7, 8, 9, 1, 3, 5, 6, 7, 9, 10, 1, 2, 3, 5, 7, 8, 9, 1, 2, 3, 4, 5, 6, 7, 8, 9, 10, 5, 6, 8, 9, 1, 3, 4, 6, 9, 2, 3, 4, 5, 6, 7, 8, 9, 1, 3, 4, 5, 6, 7, 8, 9, 10, 1, 3, 4, 5, 6, 7, 9, 10, 1, 3, 4, 6, 9, 10, 1, 2, 3, 4, 5, 6, 7, 8, 9, 10, 1, 2, 3, 4, 5, 6, 7, 9, 2, 3, 4, 5, 7, 10, 1, 4, 5, 6, 7, 9, 10, 1, 3, 4, 5, 6, 7, 8, 9, 1, 6, 9, 1, 4, 5, 6, 8, 9, 10, 2, 3, 4, 5, 7, 2, 4, 6, 7, 9, 10, 1, 2, 3, 4, 5, 6, 7, 10, 1, 3, 5, 6, 7, 8, 1, 2, 3, 4, 5, 6, 7, 9, 3, 4, 5, 1, 2, 4, 5, 6, 7, 9, 1, 2, 3, 4, 5, 6, 7, 8, 9, 10, 2, 3, 4, 5, 6, 7, 8, 9, 10, 2, 3, 4, 5, 6, 7, 9, 10, 1, 2, 3, 4, 5, 6, 7, 8, 9, 10, 2, 3, 4, 5, 6, 7, 8, 1, 2, 3, 4, 5, 6, 7, 8, 9, 10, 1, 2, 3, 4, 6, 7, 8, 9, 1, 2, 3, 4, 5, 7, 9, 1, 2, 3, 4, 5, 6, 8, 1, 2, 3, 4, 6, 7, 8, 9, 10, 1, 2, 3, 4, 5, 6, 7, 8, 9, 10, 2, 3, 5, 6, 7, 8, 9, 10, 1, 2, 3, 4, 5, 6, 8, 9, 2, 3, 5, 6, 8, 9, 10, 2, 3, 4, 5, 7, 9, 3, 4, 5, 6, 7, 8, 9, 3, 5, 6, 1, 2, 3, 4, 5, 6, 7, 8, 9, 10, 4, 10, 1, 4, 6, 8, 3, 4, 6, 8, 9, 1, 4, 5, 6, 8, 10, 1, 2, 3, 4, 5, 6, 7, 8, 9, 10, 1, 2, 3, 6, 7, 9, 3, 4, 6, 7, 8, 9, 1, 2, 3, 4, 6, 7, 8, 9, 2, 3, 5, 6, 9, 1, 2, 3, 4, 5, 6, 7, 8, 9, 10, 1, 6, 8, 10, 1, 2, 3, 4, 6, 7, 9, 2, 3, 5, 6, 7, 9, 10, 7, 9, 2, 4, 8, 1, 2, 3, 5, 7, 8, 1, 2, 3, 6, 8, 9, 10, 2, 4, 6, 8, 1, 2, 3, 5, 7, 8, 9, 4, 5, 6, 9, 1, 2, 3, 4, 5, 6, 7, 10, 2, 4, 5, 6, 7, 8, 10, 1, 2, 3, 5, 6, 7, 9, 3, 4, 5, 6, 10, 1, 2, 3, 4, 5, 6, 7, 8, 9, 10, 1, 2, 5, 6, 8, 10, 2, 3, 4, 6, 8, 1, 3, 6, 9, 10, 1, 2, 3, 4, 5, 6, 7, 8, 9, 10, 1, 2, 3, 4, 5, 8, 9, 10, 1, 2, 8, 1, 4, 1, 3, 6, 10, 1, 2, 3, 4, 5, 6, 7, 9, 10, 1, 2, 8, 1, 2, 3, 4, 5, 6, 7, 8, 9, 10, 1, 2, 3, 5, 6, 7, 8, 10, 2, 3, 4, 5, 6, 8, 9, 10, 1, 2, 3, 4, 5, 6, 7, 8, 10, 1, 2, 3, 4, 5, 6, 7, 8, 9, 10, 1, 4, 9, 1, 3, 5, 6, 7, 2, 4, 6, 9, 10, 1, 2, 3, 6, 7, 8, 9, 1, 3, 6, 7, 8, 10, 1, 2, 4, 5, 6, 7, 9, 10, 1, 2, 3, 4, 5, 6, 7, 9, 1, 2, 5, 6, 7, 1, 2, 3, 5, 9, 10, 2, 3, 5, 7, 9, 10, 6, 8, 9, 1, 2, 4, 6, 8, 9, 10, 1, 2, 3, 4, 5, 6, 7, 8, 9, 2, 4, 5, 7, 8, 1, 2, 3, 4, 5, 6, 7, 8, 9, 1, 3, 5, 6, 7, 8, 9, 1, 4, 5, 6, 8, 9, 1, 2, 3, 5, 7, 9, 3, 4, 8, 1, 2, 3, 4, 5, 6, 9, 1, 2, 4, 8, 9, 10, 2, 3, 4, 5, 1, 3, 4, 5, 6, 7, 8, 1, 4, 5, 1, 2, 3, 4, 5, 6, 7, 8, 3, 4, 5, 2, 3, 4, 5, 6, 8, 9, 1, 3, 6, 8, 9, 10, 3, 6, 7, 8], \"Term\": [\"..\", \"..\", \"..\", \"..\", \"..\", \"a.m\", \"a.m\", \"a.m\", \"a.m\", \"a.m\", \"a.m\", \"a.m\", \"a.m\", \"a.m.\", \"a.m.\", \"a.m.\", \"a.m.\", \"a.m.\", \"a.m.\", \"a.m.\", \"abovecaptioned\", \"abovecaptioned\", \"abovecaptioned\", \"abovecaptioned\", \"abovecaptioned\", \"abovecaptioned\", \"abovecaptioned\", \"abovecaptioned\", \"abovecaptioned\", \"accordance\", \"accordance\", \"accordance\", \"accordance\", \"accordance\", \"accordance\", \"accordance\", \"accordance\", \"account_balentine_global_hedge\", \"account_balentine_global_hedge\", \"account_balentine_global_hedge\", \"account_balentine_global_hedge\", \"address\", \"address\", \"address\", \"address\", \"address\", \"address\", \"address\", \"address\", \"address_jr.\", \"address_jr.\", \"address_jr.\", \"address_jr.\", \"address_jr.\", \"address_jr.\", \"adjourn\", \"adjourn\", \"adjourn\", \"adjourn\", \"adjourn\", \"adjournment\", \"adjournment\", \"adjournment\", \"adjournment\", \"adjournment\", \"adjournment\", \"adjournment\", \"adjournment\", \"advise\", \"advise\", \"advise\", \"advise\", \"advise\", \"advise\", \"advise\", \"advise\", \"affidavit_service\", \"affidavit_service\", \"affidavit_service\", \"affidavit_service\", \"affidavit_service\", \"affidavit_service\", \"affidavit_service\", \"affidavit_service\", \"affidavit_service\", \"affidavit_service_summons\", \"affidavit_service_summons\", \"affidavit_service_summons\", \"affidavit_service_summons\", \"affidavit_service_summons\", \"affidavit_service_summons\", \"affidavit_service_summons\", \"affidavit_service_summons\", \"agent\", \"agent\", \"agent\", \"agent\", \"agent\", \"agent\", \"agent\", \"aim_exploration\", \"aim_exploration\", \"aim_exploration\", \"aim_exploration\", \"aim_exploration\", \"aim_exploration\", \"allege\", \"allege\", \"allege\", \"allege\", \"alternative_investment_sgr_spa\", \"alternative_investment_sgr_spa\", \"alternative_investment_sgr_spa\", \"alternative_investment_sgr_spa\", \"alternative_investment_sgr_spa\", \"alternative_investment_sgr_spa\", \"alternative_investment_sgr_spa\", \"ambassador\", \"ambassador\", \"ambassador\", \"ambassador\", \"ambassador\", \"amend\", \"amend\", \"amend\", \"amend\", \"amend\", \"amend\", \"amend\", \"amend\", \"amend\", \"amend\", \"amend_complaint\", \"amend_complaint\", \"amend_complaint\", \"amend_complaint\", \"amend_complaint\", \"amend_complaint\", \"amend_complaint\", \"amend_complaint\", \"amend_complaint\", \"amend_complaint\", \"amendment\", \"amendment\", \"amendment\", \"amendment\", \"amendment\", \"amendment\", \"andor\", \"andor\", \"andor\", \"andor\", \"andor\", \"andor\", \"andor\", \"answer\", \"answer\", \"answer\", \"answer\", \"answer\", \"answer\", \"answer\", \"answer\", \"answer\", \"answer\", \"answer_due\", \"answer_due\", \"answer_due\", \"answer_due\", \"answer_due\", \"answer_due\", \"answer_due\", \"answer_due\", \"answer_due\", \"answer_due_answer_due\", \"answer_due_answer_due\", \"answer_due_answer_due\", \"answer_due_answer_due\", \"answer_due_answer_due\", \"answer_due_answer_due\", \"answer_due_purs\", \"answer_due_purs\", \"answer_due_purs\", \"answer_otherwise_respond\", \"answer_otherwise_respond\", \"answer_otherwise_respond\", \"answer_otherwise_respond\", \"appeal\", \"appeal\", \"appeal\", \"appeal\", \"appeal\", \"appeal\", \"appeal\", \"appeal\", \"appear_pro_hac_vice\", \"appear_pro_hac_vice\", \"appear_pro_hac_vice\", \"appear_pro_hac_vice\", \"appear_pro_hac_vice\", \"appearance\", \"appearance\", \"appearance\", \"appearance\", \"appearance\", \"appearance\", \"applicable\", \"applicable\", \"applicable\", \"applicable\", \"applicable\", \"application\", \"application\", \"application\", \"application\", \"application\", \"application\", \"application\", \"application\", \"application\", \"approve\", \"approve\", \"approve\", \"approve\", \"approve\", \"approve\", \"approve\", \"approve\", \"approve\", \"argument\", \"argument\", \"argument\", \"argument\", \"argument\", \"argument\", \"argument\", \"argument\", \"argument\", \"assign\", \"assign\", \"assign\", \"assign\", \"assign\", \"assignment\", \"assignment\", \"assignment\", \"assignment\", \"assignment\", \"assignment\", \"available\", \"available\", \"available\", \"available\", \"available\", \"bank\", \"bank\", \"bank\", \"bank\", \"bank\", \"bank\", \"bank\", \"believe\", \"believe\", \"believe\", \"believe\", \"believe\", \"believe\", \"brief\", \"brief\", \"brief\", \"brief\", \"brief\", \"brief\", \"brief\", \"brief\", \"brooklyn\", \"brooklyn\", \"brooklyn\", \"brooklyn\", \"calendar\", \"calendar\", \"calendar\", \"calendar\", \"calendar\", \"call\", \"call\", \"call\", \"call\", \"call\", \"call\", \"call\", \"call\", \"cancel\", \"cancel\", \"cancel\", \"cancel\", \"cancel\", \"cause\", \"cause\", \"cause\", \"cause\", \"cause\", \"cause\", \"certain\", \"certain\", \"certain\", \"certain\", \"certain\", \"certain\", \"certain\", \"certain\", \"certificate\", \"certificate\", \"certificate\", \"certificate\", \"certificate_service\", \"certificate_service\", \"certificate_service\", \"certificate_service\", \"certificate_service\", \"certificate_service\", \"certificate_service\", \"certificate_service\", \"certificate_service\", \"civil_cover_sheet\", \"civil_cover_sheet\", \"civil_cover_sheet\", \"client\", \"client\", \"client\", \"client\", \"client\", \"client\", \"co\", \"co\", \"co\", \"co\", \"co\", \"compel\", \"compel\", \"compel\", \"compel\", \"compel\", \"compel\", \"complaint\", \"complaint\", \"complaint\", \"complaint\", \"complaint\", \"complaint\", \"complaint\", \"complaint\", \"complaint\", \"complaint\", \"complete\", \"complete\", \"complete\", \"complete\", \"complete\", \"complete\", \"complete\", \"complete\", \"complete\", \"comply\", \"comply\", \"comply\", \"comply\", \"comply\", \"comply_discovery_ruling_conference\", \"comply_discovery_ruling_conference\", \"comply_discovery_ruling_conference\", \"comply_discovery_ruling_conference\", \"comply_discovery_ruling_conference\", \"comply_discovery_ruling_conference\", \"conclude\", \"conclude\", \"conclude\", \"conclude\", \"conduct\", \"conduct\", \"conduct\", \"conduct\", \"conduct\", \"conduct\", \"conduct\", \"conference\", \"conference\", \"conference\", \"conference\", \"conference\", \"conference\", \"conference\", \"conference\", \"conference\", \"conference_call\", \"conference_call\", \"conference_call\", \"conference_call\", \"conference_call\", \"conference_call\", \"conference_hold\", \"conference_hold\", \"conference_hold\", \"conference_hold\", \"conference_hold\", \"conference_hold\", \"conference_hold\", \"conference_pm\", \"conference_pm\", \"conference_pm\", \"conference_pm\", \"conference_pm\", \"conference_pm\", \"conference_pm\", \"confidential\", \"confidential\", \"confidential\", \"confidential\", \"confidential\", \"confidentiality\", \"confidentiality\", \"confidentiality\", \"confidentiality\", \"confidentiality\", \"confidentiality\", \"confirm\", \"confirm\", \"confirm\", \"confirm\", \"confirm\", \"confirm\", \"connection\", \"connection\", \"connection\", \"connection\", \"connection\", \"connection\", \"consider\", \"consider\", \"consider\", \"consider\", \"consider\", \"consider\", \"consider\", \"consistent\", \"consistent\", \"consistent\", \"consistent\", \"consistent\", \"consistent\", \"consistent\", \"contact\", \"contact\", \"contact\", \"contact\", \"contact\", \"contact\", \"contact\", \"contact\", \"contempt\", \"contempt\", \"contempt\", \"contempt\", \"contempt\", \"contempt\", \"continue\", \"continue\", \"continue\", \"continue\", \"continue\", \"continue\", \"continue\", \"continue\", \"corp..\", \"corp..\", \"corp..\", \"corp..\", \"corp..\", \"correct\", \"correct\", \"correct\", \"correct\", \"correct\", \"correct\", \"correct\", \"correction\", \"correction\", \"correction\", \"correction\", \"correction\", \"correction\", \"cost\", \"cost\", \"cost\", \"cost\", \"cost\", \"cost\", \"cost\", \"could\", \"could\", \"could\", \"could\", \"could\", \"counterclaim\", \"counterclaim\", \"counterclaim\", \"counterclaim\", \"counterclaim\", \"counterclaim\", \"counterclaim\", \"counterclaim\", \"counterclaim\", \"courtroom\", \"courtroom\", \"courtroom\", \"courtroom\", \"courtroom\", \"courtroom\", \"courtroom\", \"courtroom\", \"courtroom_pearl_street_new\", \"courtroom_pearl_street_new\", \"courtroom_pearl_street_new\", \"courtroom_pearl_street_new\", \"courtroom_pearl_street_new\", \"courtroom_pearl_street_new\", \"cross\", \"cross\", \"cross\", \"cross\", \"cross\", \"crossclaims\", \"crossclaims\", \"crossclaims\", \"crossclaims\", \"crossclaims\", \"crossclaims\", \"crossclaims\", \"custodian\", \"custodian\", \"custodian\", \"custodian\", \"custodian\", \"custodian\", \"dated\", \"dated\", \"dated\", \"dated\", \"deadline\", \"deadline\", \"deadline\", \"deadline\", \"deadline\", \"deadline\", \"deadline\", \"deadline\", \"deadline\", \"deadline\", \"deadline_release\", \"deadline_release\", \"deadline_release\", \"deadline_release\", \"deadline_release\", \"deadline_release\", \"dec\", \"dec\", \"dec\", \"dec\", \"decision\", \"decision\", \"decision\", \"decision\", \"decision\", \"decision\", \"decision\", \"decision\", \"declaration\", \"declaration\", \"declaration\", \"declaration\", \"declaration\", \"declaration\", \"declaration\", \"declaration\", \"declaration_opposition\", \"declaration_opposition\", \"declaration_opposition\", \"declaration_opposition\", \"declaration_opposition\", \"declaration_opposition\", \"declaration_opposition\", \"declaration_opposition\", \"declaration_opposition\", \"declaration_support\", \"declaration_support\", \"declaration_support\", \"declaration_support\", \"declaration_support\", \"declaration_support\", \"declaration_support\", \"declaration_support\", \"default\", \"default\", \"default\", \"default\", \"default\", \"default\", \"default\", \"defense\", \"defense\", \"defense\", \"defense\", \"defense\", \"deficiency\", \"deficiency\", \"deficiency\", \"deficiency\", \"deficiency\", \"deficiency\", \"deficient\", \"deficient\", \"deficient\", \"deficient\", \"deft\", \"deft\", \"deft\", \"deft\", \"deft\", \"demand\", \"demand\", \"demand\", \"demand\", \"demand\", \"deny\", \"deny\", \"deny\", \"deny\", \"deny\", \"deny\", \"deny\", \"deny\", \"deny\", \"deny\", \"deposition\", \"deposition\", \"deposition\", \"deposition\", \"deposition\", \"deposition\", \"deposition\", \"deposition\", \"deposition\", \"deposition\", \"determine\", \"determine\", \"determine\", \"determine\", \"determine\", \"disclose\", \"disclose\", \"disclose\", \"disclose\", \"disclose\", \"disclose\", \"disclosure\", \"disclosure\", \"disclosure\", \"disclosure\", \"disclosure\", \"disclosure\", \"disclosure\", \"disclosure\", \"discovery\", \"discovery\", \"discovery\", \"discovery\", \"discovery\", \"discovery\", \"discovery\", \"discovery\", \"discovery\", \"discovery\", \"discovery_complete\", \"discovery_complete\", \"discovery_complete\", \"discovery_complete\", \"discovery_complete\", \"discovery_complete\", \"discovery_complete\", \"discovery_dispute\", \"discovery_dispute\", \"discovery_dispute\", \"discovery_dispute\", \"discovery_dispute\", \"discovery_dispute\", \"discovery_dispute\", \"discovery_dispute\", \"discovery_dispute\", \"discovery_hear_hold\", \"discovery_hear_hold\", \"discovery_hear_hold\", \"discuss\", \"discuss\", \"discuss\", \"discuss\", \"discuss\", \"discuss\", \"discuss\", \"discuss\", \"discuss\", \"discuss\", \"dismiss\", \"dismiss\", \"dismiss\", \"dismiss\", \"dismiss\", \"dismiss\", \"dismiss\", \"dismiss\", \"dismiss\", \"dismiss\", \"dismiss..\", \"dismiss..\", \"dismiss..\", \"dismiss..\", \"dismiss..\", \"dismiss..\", \"dismiss..\", \"dismiss..\", \"dismiss..\", \"dismiss_thirdparty\", \"dismiss_thirdparty\", \"dismiss_thirdparty\", \"dismiss_thirdparty\", \"dismiss_thirdparty_complaint\", \"dismiss_thirdparty_complaint\", \"dismiss_thirdparty_complaint\", \"dismiss_thirdparty_complaint\", \"dismiss_thirdparty_complaint\", \"dismiss_thirdparty_complaint\", \"dismissal\", \"dismissal\", \"dismissal\", \"dismissal\", \"dismissal\", \"dismissal\", \"dismissal\", \"dismissal_without_prejudice\", \"dismissal_without_prejudice\", \"dismissal_without_prejudice\", \"dismissal_without_prejudice\", \"dispute\", \"dispute\", \"dispute\", \"dispute\", \"dispute\", \"dispute\", \"dispute\", \"due\", \"due\", \"due\", \"due\", \"due\", \"due\", \"due\", \"due\", \"due\", \"due\", \"either\", \"either\", \"either\", \"either\", \"either\", \"either\", \"either\", \"either\", \"electronic\", \"electronic\", \"electronic\", \"electronic\", \"electronic\", \"electronic\", \"electronic\", \"electronic_filing\", \"electronic_filing\", \"electronic_filing\", \"endorse\", \"endorse\", \"endorse\", \"endorse\", \"endorse\", \"endorsed_letter\", \"endorsed_letter\", \"endorsed_letter\", \"endorsed_letter\", \"endorsed_letter\", \"endorsed_letter\", \"endorsed_letter_address\", \"endorsed_letter_address\", \"endorsed_letter_address\", \"endorsed_letter_address\", \"endorsed_letter_address\", \"endorsed_letter_address\", \"endorsed_letter_address\", \"endorsed_letter_address\", \"endorsed_letter_address\", \"endorsed_letter_address\", \"endorsed_letter_address_iii\", \"endorsed_letter_address_iii\", \"endorsed_letter_address_iii\", \"endorsed_letter_address_iii\", \"endorsed_letter_address_iii\", \"endorsement\", \"endorsement\", \"endorsement\", \"endorsement\", \"endorsement\", \"endorsement\", \"endorsement\", \"endorsement\", \"endorsement\", \"endorsement_application_grant\", \"endorsement_application_grant\", \"endorsement_application_grant\", \"endorsement_application_grant\", \"entirety\", \"entirety\", \"entirety\", \"entirety\", \"entirety\", \"entry\", \"entry\", \"entry\", \"entry\", \"entry\", \"entry\", \"entry\", \"entry\", \"entry\", \"entry\", \"event\", \"event\", \"event\", \"event\", \"event\", \"event\", \"event\", \"event\", \"except\", \"except\", \"except\", \"except\", \"except\", \"except\", \"extend\", \"extend\", \"extend\", \"extend\", \"extend\", \"extend\", \"extend\", \"extend\", \"extend\", \"extension\", \"extension\", \"extension\", \"extension\", \"extension\", \"extension\", \"extension\", \"extension\", \"extension\", \"extension\", \"extent\", \"extent\", \"extent\", \"extent\", \"extent\", \"extent\", \"extent\", \"extent\", \"failure\", \"failure\", \"failure\", \"failure\", \"failure\", \"failure\", \"failure\", \"failure\", \"failure\", \"fax\", \"fax\", \"fax\", \"fax\", \"fax\", \"fax\", \"filing\", \"filing\", \"filing\", \"filing\", \"filing\", \"filing\", \"final\", \"final\", \"final\", \"final\", \"final\", \"find\", \"find\", \"find\", \"find\", \"find\", \"find\", \"find\", \"find\", \"flasr\", \"flasr\", \"flasr\", \"flasr\", \"flasr\", \"g.c\", \"g.c\", \"g.c\", \"g.c\", \"general\", \"general\", \"general\", \"general\", \"give\", \"give\", \"give\", \"give\", \"give\", \"government\", \"government\", \"government\", \"government\", \"government\", \"government\", \"government\", \"grant\", \"grant\", \"grant\", \"grant\", \"grant\", \"grant\", \"grant\", \"grant\", \"grant\", \"grant\", \"ground\", \"ground\", \"ground\", \"ground\", \"ground\", \"ground\", \"hearing\", \"hearing\", \"hearing\", \"hearing\", \"hearing\", \"hearing\", \"hearing\", \"hedge_strategy_ibex_absolute\", \"hedge_strategy_ibex_absolute\", \"hedge_strategy_ibex_absolute\", \"hedge_strategy_ibex_absolute\", \"hedge_strategy_ibex_absolute\", \"hereto\", \"hereto\", \"hereto\", \"hereto\", \"hereto\", \"hereto\", \"hold\", \"hold\", \"hold\", \"hold\", \"hold\", \"hold\", \"hold\", \"hold\", \"hold\", \"however\", \"however\", \"however\", \"however\", \"however\", \"however\", \"however\", \"however\", \"immediately\", \"immediately\", \"immediately\", \"immediately\", \"immediately\", \"immediately\", \"inc.\", \"inc.\", \"inc.\", \"inc.\", \"inc.\", \"inc.\", \"incorrectly\", \"incorrectly\", \"incorrectly\", \"individual_rule\", \"individual_rule\", \"individual_rule\", \"individual_rule\", \"individual_rule\", \"individual_rule\", \"individual_rule\", \"individual_rule\", \"inform\", \"inform\", \"inform\", \"inform\", \"inform\", \"inform\", \"inform\", \"initial\", \"initial\", \"initial\", \"initial\", \"initial\", \"initial\", \"initial\", \"initiate\", \"initiate\", \"initiate\", \"initiate\", \"initiate\", \"initiate\", \"initiate\", \"instruction\", \"instruction\", \"instruction\", \"instruction\", \"instruction\", \"instruction\", \"instruction\", \"instruction\", \"intend\", \"intend\", \"intend\", \"intend\", \"intend\", \"intend\", \"intend\", \"intend\", \"international\", \"international\", \"international\", \"international\", \"international\", \"international\", \"issue\", \"issue\", \"issue\", \"issue\", \"issue\", \"issue\", \"issue\", \"issue\", \"issue\", \"issue\", \"joint\", \"joint\", \"joint\", \"joint\", \"joint\", \"joint\", \"joint\", \"joint\", \"joint\", \"joint\", \"judgment\", \"judgment\", \"judgment\", \"judgment\", \"judgment\", \"judgment\", \"judgment\", \"judgment\", \"judgment\", \"judgment\", \"jurisdiction\", \"jurisdiction\", \"jurisdiction\", \"jurisdiction\", \"jurisdiction\", \"jury\", \"jury\", \"jury\", \"jury\", \"jury\", \"jury\", \"jury\", \"jury\", \"jury_demand\", \"jury_demand\", \"jury_demand\", \"jury_demand\", \"jury_demand\", \"jury_demand\", \"jury_trial_hold\", \"jury_trial_hold\", \"law\", \"law\", \"law\", \"law\", \"law\", \"law\", \"law\", \"law\", \"leave\", \"leave\", \"leave\", \"leave\", \"leave\", \"leave\", \"leave\", \"leave\", \"leave\", \"leave\", \"letter\", \"letter\", \"letter\", \"letter\", \"letter\", \"letter\", \"letter\", \"letter\", \"letter\", \"letter\", \"letter_address\", \"letter_address\", \"letter_address\", \"letter_address\", \"letter_address\", \"letter_address\", \"letter_address\", \"letter_address\", \"letter_address\", \"letter_address\", \"liability_complaint\", \"liability_complaint\", \"liability_complaint\", \"liability_complaint\", \"light\", \"light\", \"light\", \"light\", \"light\", \"light\", \"light\", \"light\", \"limine\", \"limine\", \"limine\", \"limine\", \"limine\", \"limine\", \"limit\", \"limit\", \"limit\", \"limit\", \"limited\", \"limited\", \"limited\", \"limited\", \"limited\", \"limited\", \"limited\", \"line\", \"line\", \"line\", \"line\", \"line\", \"list\", \"list\", \"list\", \"list\", \"list\", \"list\", \"loan\", \"loan\", \"loan\", \"loan\", \"loan\", \"loan\", \"loan\", \"loan\", \"local_civil_rule\", \"local_civil_rule\", \"local_civil_rule\", \"local_civil_rule\", \"local_civil_rule\", \"longer\", \"longer\", \"longer\", \"longer\", \"longer\", \"longer\", \"longer\", \"longer_assigned\", \"longer_assigned\", \"magnum_growth_magnum_special\", \"magnum_growth_magnum_special\", \"magnum_growth_magnum_special\", \"magnum_growth_magnum_special\", \"magnum_growth_magnum_special\", \"memo_endorsement\", \"memo_endorsement\", \"memo_endorsement\", \"memo_endorsement\", \"memo_endorsement\", \"memo_endorsement\", \"memo_endorsement\", \"memo_endorsement\", \"memo_endorsement\", \"memo_endorsement\", \"memoendorsement_letter_address\", \"memoendorsement_letter_address\", \"memoendorsement_letter_address\", \"memoendorsement_letter_address\", \"memoendorsement_letter_address\", \"memoendorsement_letter_address\", \"memorandum\", \"memorandum\", \"memorandum\", \"memorandum\", \"memorandum\", \"memorandum\", \"memorandum\", \"memorandum\", \"memorandum\", \"memorandum\", \"memorandum_law\", \"memorandum_law\", \"memorandum_law\", \"memorandum_law\", \"memorandum_law\", \"memorandum_law\", \"memorandum_law\", \"memorandum_law_opposition\", \"memorandum_law_opposition\", \"memorandum_law_opposition\", \"memorandum_law_opposition\", \"memorandum_law_opposition\", \"memorandum_law_opposition\", \"memorandum_law_opposition\", \"memorandum_law_opposition\", \"memorandum_law_opposition\", \"memorandum_law_support\", \"memorandum_law_support\", \"memorandum_law_support\", \"memorandum_law_support\", \"memorandum_law_support\", \"memorandum_law_support\", \"memorandum_law_support\", \"memorandum_law_support\", \"memorandum_opinion\", \"memorandum_opinion\", \"memorandum_opinion\", \"memorandum_opinion\", \"memorandum_opinion\", \"memorandum_opinion\", \"merrill\", \"merrill\", \"merrill\", \"minute_entry_hold\", \"minute_entry_hold\", \"minute_entry_hold\", \"minute_entry_hold\", \"minute_entry_hold\", \"minute_entry_hold\", \"minute_entry_hold\", \"minute_entry_hold_telephone\", \"minute_entry_hold_telephone\", \"minute_entry_hold_telephone\", \"minute_entry_hold_telephone\", \"minute_entry_hold_telephone\", \"minute_entry_hold_telephone\", \"minute_entry_hold_telephone\", \"motion\", \"motion\", \"motion\", \"motion\", \"motion\", \"motion\", \"motion\", \"motion\", \"motion\", \"motion\", \"move\", \"move\", \"move\", \"move\", \"move\", \"move\", \"move\", \"move\", \"move\", \"necessary\", \"necessary\", \"necessary\", \"necessary\", \"necessary\", \"necessary\", \"necessary\", \"necessary\", \"need\", \"need\", \"need\", \"need\", \"need\", \"need\", \"new\", \"new\", \"new\", \"new\", \"new\", \"new\", \"new_address\", \"new_address\", \"new_york_observer\", \"new_york_observer\", \"new_york_observer\", \"new_york_observer\", \"new_york_observer\", \"newvest_portfolio\", \"newvest_portfolio\", \"newvest_portfolio\", \"newvest_portfolio_newvest\", \"newvest_portfolio_newvest\", \"newvest_portfolio_newvest\", \"newvest_portfolio_newvest\", \"newvest_portfolio_newvest\", \"newvest_portfolio_newvest\", \"next\", \"next\", \"next\", \"next\", \"next\", \"next\", \"next\", \"nonecf_error\", \"nonecf_error\", \"nonecf_error\", \"nonecf_error\", \"nonecf_error\", \"note\", \"note\", \"note\", \"note\", \"note\", \"note\", \"note\", \"note\", \"note_manually_refile\", \"note_manually_refile\", \"note_manually_refile\", \"note_manually_refile\", \"note_manually_refile\", \"note_manually_refile\", \"note_refile\", \"note_refile\", \"note_refile\", \"note_refile\", \"note_refile\", \"note_refile\", \"note_refile\", \"note_refile\", \"notice\", \"notice\", \"notice\", \"notice\", \"notice\", \"notice\", \"notice\", \"notice\", \"notice\", \"notice\", \"notice_appeal\", \"notice_appeal\", \"notice_appeal\", \"notice_appeal\", \"notice_appeal\", \"notice_appeal\", \"notice_appeal\", \"notice_appeal\", \"notice_appeal\", \"notice_appeal\", \"notice_appearance\", \"notice_appearance\", \"notice_appearance\", \"notice_appearance\", \"notice_appearance\", \"notice_appearance\", \"notice_appearance\", \"notice_change_address\", \"notice_change_address\", \"notice_change_address\", \"notice_change_address\", \"notice_change_address\", \"notice_reassignment\", \"notice_reassignment\", \"notice_reassignment\", \"notice_reassignment\", \"notice_termination\", \"notice_termination\", \"notice_termination\", \"notice_termination\", \"notice_termination\", \"number\", \"number\", \"number\", \"number\", \"number\", \"number\", \"number\", \"number\", \"objection\", \"objection\", \"objection\", \"objection\", \"objection\", \"objection\", \"objection\", \"occur\", \"occur\", \"occur\", \"occur\", \"occur\", \"occur\", \"offer\", \"offer\", \"offer\", \"offer\", \"office\", \"office\", \"office\", \"office\", \"office\", \"office\", \"officer\", \"officer\", \"officer\", \"officer\", \"officer\", \"officer\", \"officer\", \"official_conference\", \"official_conference\", \"official_conference\", \"official_conference\", \"official_conference\", \"official_conference\", \"official_notice_give\", \"official_notice_give\", \"official_notice_give\", \"official_notice_give\", \"official_notice_give\", \"official_notice_give\", \"official_notice_give\", \"opposition\", \"opposition\", \"opposition\", \"opposition\", \"opposition\", \"opposition\", \"opposition\", \"opposition\", \"opposition\", \"opposition\", \"oral_argument_pm\", \"oral_argument_pm\", \"oral_argument_pm\", \"oral_argument_pm\", \"order\", \"order\", \"order\", \"order\", \"order\", \"order\", \"order\", \"order\", \"order\", \"order\", \"ordered\", \"ordered\", \"ordered\", \"ordered\", \"ordered\", \"ordered\", \"ordered\", \"ordered\", \"original\", \"original\", \"original\", \"original\", \"original\", \"p.\", \"p.\", \"p.\", \"p.\", \"p.\", \"period\", \"period\", \"period\", \"period\", \"period\", \"period\", \"plan\", \"plan\", \"plan\", \"plan\", \"plan\", \"plan\", \"plan\", \"please\", \"please\", \"please\", \"please\", \"pm\", \"pm\", \"pm\", \"pm\", \"pm\", \"pm\", \"pm\", \"pm\", \"portion\", \"portion\", \"portion\", \"portion\", \"portion\", \"practice\", \"practice\", \"practice\", \"practice\", \"practice\", \"practice\", \"practice\", \"prejudice\", \"prejudice\", \"prejudice\", \"prejudice\", \"prejudice\", \"prejudice\", \"premotion_conference\", \"premotion_conference\", \"premotion_conference\", \"premotion_conference\", \"premotion_conference\", \"premotion_conference\", \"premotion_conference\", \"premotion_conference\", \"pretrial\", \"pretrial\", \"pretrial\", \"pretrial\", \"pretrial\", \"pretrial\", \"pretrial\", \"pretrial\", \"pretrial_conference\", \"pretrial_conference\", \"pretrial_conference\", \"pretrial_conference\", \"pretrial_conference\", \"pretrial_conference\", \"pretrial_conference\", \"previously\", \"previously\", \"previously\", \"previously\", \"previously\", \"previously\", \"previously\", \"prior\", \"prior\", \"prior\", \"prior\", \"prior\", \"prior\", \"prior\", \"prior\", \"prior\", \"prior\", \"pro_hac_vice\", \"pro_hac_vice\", \"pro_hac_vice\", \"pro_hac_vice\", \"pro_se\", \"pro_se\", \"pro_se\", \"pro_se\", \"pro_se\", \"proceed\", \"proceed\", \"proceed\", \"proceed\", \"proceed\", \"proceed\", \"proceed\", \"proceed\", \"produce\", \"produce\", \"produce\", \"produce\", \"produce\", \"produce\", \"produce\", \"produce\", \"produce\", \"production\", \"production\", \"production\", \"production\", \"production\", \"production\", \"production\", \"production\", \"promptly\", \"promptly\", \"promptly\", \"promptly\", \"promptly\", \"promptly\", \"propose\", \"propose\", \"propose\", \"propose\", \"propose\", \"propose\", \"propose\", \"propose\", \"propose\", \"propose\", \"protective\", \"protective\", \"protective\", \"protective\", \"protective\", \"protective\", \"protective\", \"protective\", \"provision\", \"provision\", \"provision\", \"provision\", \"provision\", \"provision\", \"purpose\", \"purpose\", \"purpose\", \"purpose\", \"purpose\", \"purpose\", \"purpose\", \"receive\", \"receive\", \"receive\", \"receive\", \"receive\", \"receive\", \"receive\", \"receive\", \"reconsideration\", \"reconsideration\", \"reconsideration\", \"redact\", \"redact\", \"redact\", \"redact\", \"redact\", \"redact\", \"redact\", \"redact_deadline\", \"redact_deadline\", \"redact_deadline\", \"redact_deadline\", \"redact_deadline\", \"redaction\", \"redaction\", \"redaction\", \"redaction\", \"redaction\", \"redaction\", \"release\", \"release\", \"release\", \"release\", \"release\", \"release\", \"release\", \"release\", \"relevant\", \"relevant\", \"relevant\", \"relevant\", \"relevant\", \"relevant\", \"relief\", \"relief\", \"relief\", \"relief\", \"relief\", \"relief\", \"relief\", \"relief\", \"remotely_electronically_available_public\", \"remotely_electronically_available_public\", \"remotely_electronically_available_public\", \"renew\", \"renew\", \"renew\", \"renew\", \"renew\", \"renew\", \"renew\", \"reply\", \"reply\", \"reply\", \"reply\", \"reply\", \"reply\", \"reply\", \"reply\", \"reply\", \"reply\", \"report\", \"report\", \"report\", \"report\", \"report\", \"report\", \"report\", \"report\", \"report\", \"represent\", \"represent\", \"represent\", \"represent\", \"represent\", \"represent\", \"represent\", \"represent\", \"request\", \"request\", \"request\", \"request\", \"request\", \"request\", \"request\", \"request\", \"request\", \"request\", \"reschedule\", \"reschedule\", \"reschedule\", \"reschedule\", \"reschedule\", \"reschedule\", \"reschedule\", \"resolution\", \"resolution\", \"resolution\", \"resolution\", \"resolution\", \"resolution\", \"resolution\", \"resolution\", \"resolution\", \"resolution\", \"respectfully\", \"respectfully\", \"respectfully\", \"respectfully\", \"respectfully\", \"respectfully\", \"respectfully\", \"respectfully\", \"respectfully_request\", \"respectfully_request\", \"respectfully_request\", \"respectfully_request\", \"respectfully_request\", \"respectfully_request\", \"respectfully_request\", \"respective\", \"respective\", \"respective\", \"respective\", \"respective\", \"respective\", \"respective\", \"respond\", \"respond\", \"respond\", \"respond\", \"respond\", \"respond\", \"respond\", \"respond\", \"respond\", \"response\", \"response\", \"response\", \"response\", \"response\", \"response\", \"response\", \"response\", \"response\", \"response\", \"response_due\", \"response_due\", \"response_due\", \"response_due\", \"response_due\", \"response_due\", \"response_due\", \"response_due\", \"responsive\", \"responsive\", \"responsive\", \"responsive\", \"responsive\", \"responsive\", \"responsive\", \"responsive\", \"result\", \"result\", \"result\", \"result\", \"result\", \"result\", \"result\", \"revise_schedule\", \"revise_schedule\", \"revise_schedule\", \"revise_schedule\", \"revise_schedule\", \"revise_schedule\", \"right\", \"right\", \"right\", \"right\", \"right\", \"right\", \"right\", \"right_appeal\", \"right_appeal\", \"right_appeal\", \"rule\", \"rule\", \"rule\", \"rule\", \"rule\", \"rule\", \"rule\", \"rule\", \"rule\", \"rule\", \"rule_certificate\", \"rule_certificate\", \"rule_rule_..\", \"rule_rule_..\", \"rule_rule_..\", \"rule_rule_..\", \"safe_harbor_asset\", \"safe_harbor_asset\", \"safe_harbor_asset\", \"safe_harbor_asset\", \"safe_harbor_asset\", \"say\", \"say\", \"say\", \"say\", \"say\", \"say\", \"schedule\", \"schedule\", \"schedule\", \"schedule\", \"schedule\", \"schedule\", \"schedule\", \"schedule\", \"schedule\", \"schedule\", \"section\", \"section\", \"section\", \"section\", \"section\", \"section\", \"select\", \"select\", \"select\", \"select\", \"select\", \"select\", \"send\", \"send\", \"send\", \"send\", \"send\", \"send\", \"send\", \"send\", \"separate\", \"separate\", \"separate\", \"separate\", \"separate\", \"serve\", \"serve\", \"serve\", \"serve\", \"serve\", \"serve\", \"serve\", \"serve\", \"serve\", \"serve\", \"serve_answer_due\", \"serve_answer_due\", \"serve_answer_due\", \"serve_answer_due\", \"service\", \"service\", \"service\", \"service\", \"service\", \"service\", \"service\", \"service_accept\", \"service_accept\", \"service_accept\", \"service_accept\", \"service_accept\", \"service_accept\", \"service_accept\", \"service_accept_legal\", \"service_accept_legal\", \"service_execute\", \"service_execute\", \"service_execute\", \"setreset_deadline\", \"setreset_deadline\", \"setreset_deadline\", \"setreset_deadline\", \"setreset_deadline\", \"setreset_deadline\", \"settle\", \"settle\", \"settle\", \"settle\", \"settle\", \"settle\", \"settle\", \"sheet\", \"sheet\", \"sheet\", \"sheet\", \"show_cause\", \"show_cause\", \"show_cause\", \"show_cause\", \"show_cause\", \"show_cause\", \"show_cause\", \"specific\", \"specific\", \"specific\", \"specific\", \"status_conference\", \"status_conference\", \"status_conference\", \"status_conference\", \"status_conference\", \"status_conference\", \"status_conference\", \"status_conference\", \"status_conference_hold\", \"status_conference_hold\", \"status_conference_hold\", \"status_conference_hold\", \"status_conference_hold\", \"status_conference_hold\", \"status_conference_hold\", \"status_report\", \"status_report\", \"status_report\", \"status_report\", \"status_report\", \"status_report\", \"status_report\", \"stipulate\", \"stipulate\", \"stipulate\", \"stipulate\", \"stipulate\", \"stipulation\", \"stipulation\", \"stipulation\", \"stipulation\", \"stipulation\", \"stipulation\", \"stipulation\", \"stipulation\", \"stipulation\", \"stipulation\", \"strike\", \"strike\", \"strike\", \"strike\", \"strike\", \"strike\", \"substitution\", \"substitution\", \"substitution\", \"substitution\", \"substitution\", \"summary\", \"summary\", \"summary\", \"summary\", \"summary\", \"summary_judgment\", \"summary_judgment\", \"summary_judgment\", \"summary_judgment\", \"summary_judgment\", \"summary_judgment\", \"summary_judgment\", \"summary_judgment\", \"summary_judgment\", \"summary_judgment\", \"summary_judgment..\", \"summary_judgment..\", \"summary_judgment..\", \"summary_judgment..\", \"summary_judgment..\", \"summary_judgment..\", \"summary_judgment..\", \"summary_judgment..\", \"summary_judgment_favor\", \"summary_judgment_favor\", \"summary_judgment_favor\", \"summons_execute\", \"summons_execute\", \"summons_issue\", \"summons_issue\", \"summons_issue\", \"summons_issue\", \"supplemental\", \"supplemental\", \"supplemental\", \"supplemental\", \"supplemental\", \"supplemental\", \"supplemental\", \"supplemental\", \"supplemental\", \"supplemental_amend\", \"supplemental_amend\", \"supplemental_amend\", \"support\", \"support\", \"support\", \"support\", \"support\", \"support\", \"support\", \"support\", \"support\", \"support\", \"telephone_conference\", \"telephone_conference\", \"telephone_conference\", \"telephone_conference\", \"telephone_conference\", \"telephone_conference\", \"telephone_conference\", \"telephone_conference\", \"term\", \"term\", \"term\", \"term\", \"term\", \"term\", \"term\", \"term\", \"terminate\", \"terminate\", \"terminate\", \"terminate\", \"terminate\", \"terminate\", \"terminate\", \"terminate\", \"terminate\", \"testimony\", \"testimony\", \"testimony\", \"testimony\", \"testimony\", \"testimony\", \"testimony\", \"testimony\", \"testimony\", \"testimony\", \"third_complaint\", \"third_complaint\", \"third_complaint\", \"thirdparty\", \"thirdparty\", \"thirdparty\", \"thirdparty\", \"thirdparty\", \"thk\", \"thk\", \"thk\", \"thk\", \"thk\", \"today\", \"today\", \"today\", \"today\", \"today\", \"today\", \"today\", \"transaction\", \"transaction\", \"transaction\", \"transaction\", \"transaction\", \"transaction\", \"transfer\", \"transfer\", \"transfer\", \"transfer\", \"transfer\", \"transfer\", \"transfer\", \"transfer\", \"trial\", \"trial\", \"trial\", \"trial\", \"trial\", \"trial\", \"trial\", \"trial\", \"u.s.c\", \"u.s.c\", \"u.s.c\", \"u.s.c\", \"u.s.c\", \"undersigned\", \"undersigned\", \"undersigned\", \"undersigned\", \"undersigned\", \"undersigned\", \"united_state\", \"united_state\", \"united_state\", \"united_state\", \"united_state\", \"united_state\", \"united_state_courthouse_pearl\", \"united_state_courthouse_pearl\", \"united_state_courthouse_pearl\", \"unredacted\", \"unredacted\", \"unredacted\", \"unredacted\", \"unredacted\", \"unredacted\", \"unredacted\", \"upon\", \"upon\", \"upon\", \"upon\", \"upon\", \"upon\", \"upon\", \"upon\", \"upon\", \"usca_number\", \"usca_number\", \"usca_number\", \"usca_number\", \"usca_number\", \"use\", \"use\", \"use\", \"use\", \"use\", \"use\", \"use\", \"use\", \"use\", \"via\", \"via\", \"via\", \"via\", \"via\", \"via\", \"via\", \"view_public_terminal_purchase\", \"view_public_terminal_purchase\", \"view_public_terminal_purchase\", \"view_public_terminal_purchase\", \"view_public_terminal_purchase\", \"view_public_terminal_purchase\", \"week\", \"week\", \"week\", \"week\", \"week\", \"week\", \"wellington\", \"wellington\", \"wellington\", \"wish\", \"wish\", \"wish\", \"wish\", \"wish\", \"wish\", \"wish\", \"withdraw\", \"withdraw\", \"withdraw\", \"withdraw\", \"withdraw\", \"withdraw\", \"withdrawal\", \"withdrawal\", \"withdrawal\", \"withdrawal\", \"without\", \"without\", \"without\", \"without\", \"without\", \"without\", \"without\", \"without_cost_either\", \"without_cost_either\", \"without_cost_either\", \"without_prejudice\", \"without_prejudice\", \"without_prejudice\", \"without_prejudice\", \"without_prejudice\", \"without_prejudice\", \"without_prejudice\", \"without_prejudice\", \"without_redaction_calendar\", \"without_redaction_calendar\", \"without_redaction_calendar\", \"would\", \"would\", \"would\", \"would\", \"would\", \"would\", \"would\", \"york\", \"york\", \"york\", \"york\", \"york\", \"york\", \"\\u00a7\", \"\\u00a7\", \"\\u00a7\", \"\\u00a7\"]}, \"lambda.step\": 0.01, \"plot.opts\": {\"ylab\": \"PC2\", \"xlab\": \"PC1\"}};\n",
       "\n",
       "function LDAvis_load_lib(url, callback){\n",
       "  var s = document.createElement('script');\n",
       "  s.src = url;\n",
       "  s.async = true;\n",
       "  s.onreadystatechange = s.onload = callback;\n",
       "  s.onerror = function(){console.warn(\"failed to load library \" + url);};\n",
       "  document.getElementsByTagName(\"head\")[0].appendChild(s);\n",
       "}\n",
       "\n",
       "if(typeof(LDAvis) !== \"undefined\"){\n",
       "   // already loaded: just create the visualization\n",
       "   !function(LDAvis){\n",
       "       new LDAvis(\"#\" + \"ldavis_el2506819944779829686780103091\", ldavis_el2506819944779829686780103091_data);\n",
       "   }(LDAvis);\n",
       "}else if(typeof define === \"function\" && define.amd){\n",
       "   // require.js is available: use it to load d3/LDAvis\n",
       "   require.config({paths: {d3: \"https://cdnjs.cloudflare.com/ajax/libs/d3/3.5.5/d3.min\"}});\n",
       "   require([\"d3\"], function(d3){\n",
       "      window.d3 = d3;\n",
       "      LDAvis_load_lib(\"https://cdn.rawgit.com/bmabey/pyLDAvis/files/ldavis.v1.0.0.js\", function(){\n",
       "        new LDAvis(\"#\" + \"ldavis_el2506819944779829686780103091\", ldavis_el2506819944779829686780103091_data);\n",
       "      });\n",
       "    });\n",
       "}else{\n",
       "    // require.js not available: dynamically load d3 & LDAvis\n",
       "    LDAvis_load_lib(\"https://cdnjs.cloudflare.com/ajax/libs/d3/3.5.5/d3.min.js\", function(){\n",
       "         LDAvis_load_lib(\"https://cdn.rawgit.com/bmabey/pyLDAvis/files/ldavis.v1.0.0.js\", function(){\n",
       "                 new LDAvis(\"#\" + \"ldavis_el2506819944779829686780103091\", ldavis_el2506819944779829686780103091_data);\n",
       "            })\n",
       "         });\n",
       "}\n",
       "</script>"
      ],
      "text/plain": [
       "<IPython.core.display.HTML object>"
      ]
     },
     "execution_count": 398,
     "metadata": {},
     "output_type": "execute_result"
    }
   ],
   "source": [
    "num_topics = 10\n",
    "pretrained_model_file_path = 'docket_texts/lda_model_noorgnomodel_' + str(num_topics)\n",
    "column_name = str(num_topics) + '-topic Model Classificaiton'\n",
    "\n",
    "topic_names = {}\n",
    "for i in range(num_topics):\n",
    "    topic_names[i] = 'Topic ' + str(i)\n",
    "\n",
    "LDAvis_prepared, model = topic_modeling_pipeline(num_topics, pretrained_model_file_path, trigram_bow_corpus, trigram_dictionary, export = True)\n",
    "topic_summary = []\n",
    "\n",
    "for docket_text in list(new_df['Apply Trigram Phrase Model']):\n",
    "    #print(docket_text)\n",
    "    topic_summary.append(lda_description(docket_text, model, trigram_dictionary, topic_names))\n",
    "\n",
    "new_df[column_name] = topic_summary\n",
    "pyLDAvis.display(LDAvis_prepared)"
   ]
  },
  {
   "cell_type": "markdown",
   "metadata": {},
   "source": [
    "### Export DataFrame to .csv"
   ]
  },
  {
   "cell_type": "code",
   "execution_count": 399,
   "metadata": {},
   "outputs": [],
   "source": [
    "new_df.to_csv('examine_this.csv', index = False)"
   ]
  },
  {
   "cell_type": "code",
   "execution_count": null,
   "metadata": {},
   "outputs": [],
   "source": []
  },
  {
   "cell_type": "code",
   "execution_count": null,
   "metadata": {},
   "outputs": [],
   "source": []
  },
  {
   "cell_type": "code",
   "execution_count": null,
   "metadata": {},
   "outputs": [],
   "source": []
  },
  {
   "cell_type": "code",
   "execution_count": null,
   "metadata": {},
   "outputs": [],
   "source": []
  }
 ],
 "metadata": {
  "kernelspec": {
   "display_name": "Python 3",
   "language": "python",
   "name": "python3"
  }
 },
 "nbformat": 4,
 "nbformat_minor": 2
}
