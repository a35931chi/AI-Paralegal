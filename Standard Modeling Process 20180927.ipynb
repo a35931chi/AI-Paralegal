{
 "cells": [
  {
   "cell_type": "code",
   "execution_count": 1,
   "metadata": {},
   "outputs": [],
   "source": [
    "import pandas as pd\n",
    "import numpy as np\n",
    "import pickle\n",
    "from collections import Counter\n",
    "from ast import literal_eval\n",
    "from time import time\n",
    "\n",
    "import matplotlib.pyplot as plt\n",
    "import seaborn as sns\n",
    "%matplotlib inline\n",
    "import warnings\n",
    "warnings.filterwarnings('ignore')\n",
    "%config InlineBackend.figure_format = 'retina'"
   ]
  },
  {
   "cell_type": "code",
   "execution_count": 2,
   "metadata": {},
   "outputs": [],
   "source": [
    "import nltk\n",
    "from nltk.corpus import stopwords\n",
    "from nltk.stem import WordNetLemmatizer"
   ]
  },
  {
   "cell_type": "code",
   "execution_count": 3,
   "metadata": {},
   "outputs": [],
   "source": [
    "from wordcloud import WordCloud"
   ]
  },
  {
   "cell_type": "code",
   "execution_count": 155,
   "metadata": {},
   "outputs": [],
   "source": [
    "from sklearn.externals import joblib\n",
    "from sklearn.model_selection import train_test_split\n",
    "from sklearn.utils import resample, shuffle\n",
    "from sklearn.feature_extraction.text import CountVectorizer, TfidfVectorizer\n",
    "\n",
    "from sklearn.naive_bayes import MultinomialNB, GaussianNB, BernoulliNB\n",
    "from sklearn.linear_model import LogisticRegression\n",
    "from sklearn.neighbors import KNeighborsClassifier\n",
    "from sklearn.ensemble import RandomForestClassifier, AdaBoostClassifier, RandomForestRegressor, AdaBoostRegressor\n",
    "from sklearn.svm import SVC\n",
    "\n",
    "from sklearn.base import clone\n",
    "from sklearn.model_selection import GridSearchCV\n",
    "\n",
    "from sklearn.metrics import accuracy_score, confusion_matrix, classification_report\n",
    "\n",
    "from xgboost import XGBClassifier\n",
    "\n",
    "from keras.preprocessing.text import Tokenizer\n",
    "from keras.models import Sequential\n",
    "from keras.layers import Dense, Activation, Dropout\n",
    "from keras.wrappers.scikit_learn import KerasClassifier\n",
    "from keras.models import model_from_json\n",
    "\n",
    "from keras import utils"
   ]
  },
  {
   "cell_type": "markdown",
   "metadata": {},
   "source": [
    "Import Traning Data"
   ]
  },
  {
   "cell_type": "code",
   "execution_count": 145,
   "metadata": {
    "scrolled": true
   },
   "outputs": [
    {
     "name": "stdout",
     "output_type": "stream",
     "text": [
      "(3203, 10)\n"
     ]
    },
    {
     "data": {
      "text/html": [
       "<div>\n",
       "<table border=\"1\" class=\"dataframe\">\n",
       "  <thead>\n",
       "    <tr style=\"text-align: right;\">\n",
       "      <th></th>\n",
       "      <th>Original Docket Text</th>\n",
       "      <th>normalized</th>\n",
       "      <th>lemmed</th>\n",
       "      <th>phrases</th>\n",
       "      <th>DT Topics</th>\n",
       "      <th>NoAction</th>\n",
       "      <th>Action</th>\n",
       "      <th>If Action</th>\n",
       "      <th>Action revised</th>\n",
       "      <th>If Action revised</th>\n",
       "    </tr>\n",
       "  </thead>\n",
       "  <tbody>\n",
       "    <tr>\n",
       "      <th>3183</th>\n",
       "      <td>SEALED DOCUMENT placed in vault.(nm) (Entered:...</td>\n",
       "      <td>sealed document placed in vault nm</td>\n",
       "      <td></td>\n",
       "      <td></td>\n",
       "      <td>NoAction, Motions</td>\n",
       "      <td>1.0</td>\n",
       "      <td>N</td>\n",
       "      <td>NaN</td>\n",
       "      <td>N</td>\n",
       "      <td>NaN</td>\n",
       "    </tr>\n",
       "    <tr>\n",
       "      <th>3184</th>\n",
       "      <td>Please be advised that Judge Abrams Courtroom ...</td>\n",
       "      <td>please be advised that judge abrams courtroom ...</td>\n",
       "      <td>please advise judge abrams courtroom chamber m...</td>\n",
       "      <td>please advise judge abrams courtroom chamber m...</td>\n",
       "      <td></td>\n",
       "      <td>0.0</td>\n",
       "      <td>Y</td>\n",
       "      <td>Attorney; Assistant</td>\n",
       "      <td>Y</td>\n",
       "      <td>Attorney; Assistant</td>\n",
       "    </tr>\n",
       "    <tr>\n",
       "      <th>3185</th>\n",
       "      <td>MOTION for Andrew John Estes and Simona Gory t...</td>\n",
       "      <td>motion for and to withdraw as attorney for and...</td>\n",
       "      <td></td>\n",
       "      <td></td>\n",
       "      <td>Motions</td>\n",
       "      <td>0.0</td>\n",
       "      <td>Y</td>\n",
       "      <td>Attorney</td>\n",
       "      <td>Y</td>\n",
       "      <td>Attorney</td>\n",
       "    </tr>\n",
       "    <tr>\n",
       "      <th>3186</th>\n",
       "      <td>MEMO ENDORSEMENT granting 204 MOTION FOR LEAVE...</td>\n",
       "      <td>memo endorsement granting motion for leave to ...</td>\n",
       "      <td></td>\n",
       "      <td></td>\n",
       "      <td>Order, Motions</td>\n",
       "      <td>0.0</td>\n",
       "      <td>Y</td>\n",
       "      <td>Attorney</td>\n",
       "      <td>Y</td>\n",
       "      <td>Attorney</td>\n",
       "    </tr>\n",
       "    <tr>\n",
       "      <th>3187</th>\n",
       "      <td>SIXTH REVISED SCHEDULING ORDER: Expert Discove...</td>\n",
       "      <td>sixth revised scheduling order expert discover...</td>\n",
       "      <td></td>\n",
       "      <td></td>\n",
       "      <td>Order, Other Answers, Discovery, Motions</td>\n",
       "      <td>0.0</td>\n",
       "      <td>Y</td>\n",
       "      <td>Attorney; Assistant</td>\n",
       "      <td>Y</td>\n",
       "      <td>Attorney; Assistant</td>\n",
       "    </tr>\n",
       "    <tr>\n",
       "      <th>3188</th>\n",
       "      <td>ENDORSED LETTER addressed to Magistrate Judge ...</td>\n",
       "      <td>endorsed letter addressed to magistrate judge ...</td>\n",
       "      <td></td>\n",
       "      <td></td>\n",
       "      <td>Letter and Response, Service of Process, Notic...</td>\n",
       "      <td>0.0</td>\n",
       "      <td>Y</td>\n",
       "      <td>Attorney; Assistant</td>\n",
       "      <td>Y</td>\n",
       "      <td>Attorney; Assistant</td>\n",
       "    </tr>\n",
       "    <tr>\n",
       "      <th>3189</th>\n",
       "      <td>ENDORSED LETTER addressed to Magistrate Judge ...</td>\n",
       "      <td>endorsed letter addressed to magistrate judge ...</td>\n",
       "      <td></td>\n",
       "      <td></td>\n",
       "      <td>Letter and Response, Service of Process, Notic...</td>\n",
       "      <td>0.0</td>\n",
       "      <td>Y</td>\n",
       "      <td>Attorney; Assistant</td>\n",
       "      <td>Y</td>\n",
       "      <td>Attorney; Assistant</td>\n",
       "    </tr>\n",
       "    <tr>\n",
       "      <th>3190</th>\n",
       "      <td>MOTION for Randall T. Adams to Withdraw as Att...</td>\n",
       "      <td>motion for to withdraw as attorney for plainti...</td>\n",
       "      <td></td>\n",
       "      <td></td>\n",
       "      <td>Motions</td>\n",
       "      <td>0.0</td>\n",
       "      <td>Y</td>\n",
       "      <td>Attorney</td>\n",
       "      <td>Y</td>\n",
       "      <td>Attorney</td>\n",
       "    </tr>\n",
       "    <tr>\n",
       "      <th>3191</th>\n",
       "      <td>MEMO ENDORSEMENT ON MOTION FOR LEAVE TO WITHDR...</td>\n",
       "      <td>memo endorsement on motion for leave to withdr...</td>\n",
       "      <td></td>\n",
       "      <td></td>\n",
       "      <td>Motions</td>\n",
       "      <td>0.0</td>\n",
       "      <td>Y</td>\n",
       "      <td>Attorney</td>\n",
       "      <td>Y</td>\n",
       "      <td>Attorney</td>\n",
       "    </tr>\n",
       "    <tr>\n",
       "      <th>3192</th>\n",
       "      <td>MOTION for Joseph P. Fishman to Withdraw as At...</td>\n",
       "      <td>motion for to withdraw as attorney document fi...</td>\n",
       "      <td></td>\n",
       "      <td></td>\n",
       "      <td>Service of Process, Motions</td>\n",
       "      <td>0.0</td>\n",
       "      <td>Y</td>\n",
       "      <td>Attorney; Assistant</td>\n",
       "      <td>Y</td>\n",
       "      <td>Attorney; Assistant</td>\n",
       "    </tr>\n",
       "    <tr>\n",
       "      <th>3193</th>\n",
       "      <td>MEMO ENDORSED on MOTION FOR LEAVE TO WITHDRAW ...</td>\n",
       "      <td>memo endorsed on motion for leave to withdraw ...</td>\n",
       "      <td></td>\n",
       "      <td></td>\n",
       "      <td>Order, Notices, Motions</td>\n",
       "      <td>0.0</td>\n",
       "      <td>Y</td>\n",
       "      <td>Attorney</td>\n",
       "      <td>Y</td>\n",
       "      <td>Attorney</td>\n",
       "    </tr>\n",
       "    <tr>\n",
       "      <th>3194</th>\n",
       "      <td>ENDORSED LETTER addressed to Judge Ronnie Abra...</td>\n",
       "      <td>endorsed letter addressed to judge from dated ...</td>\n",
       "      <td></td>\n",
       "      <td></td>\n",
       "      <td>Letter and Response, Service of Process, Notic...</td>\n",
       "      <td>0.0</td>\n",
       "      <td>Y</td>\n",
       "      <td>Attorney</td>\n",
       "      <td>Y</td>\n",
       "      <td>Attorney</td>\n",
       "    </tr>\n",
       "    <tr>\n",
       "      <th>3195</th>\n",
       "      <td>Minute Entry for proceedings held before Magis...</td>\n",
       "      <td>minute entry for proceedings held before magis...</td>\n",
       "      <td></td>\n",
       "      <td></td>\n",
       "      <td>NoAction, Notices</td>\n",
       "      <td>1.0</td>\n",
       "      <td>N</td>\n",
       "      <td>NaN</td>\n",
       "      <td>N</td>\n",
       "      <td>NaN</td>\n",
       "    </tr>\n",
       "    <tr>\n",
       "      <th>3196</th>\n",
       "      <td>SEVENTH REVISED SCHEDULING ORDER: The parties'...</td>\n",
       "      <td>seventh revised scheduling order the parties p...</td>\n",
       "      <td></td>\n",
       "      <td></td>\n",
       "      <td>Letter and Response, Discovery, Motions, Order</td>\n",
       "      <td>0.0</td>\n",
       "      <td>Y</td>\n",
       "      <td>Attorney; Assistant</td>\n",
       "      <td>Y</td>\n",
       "      <td>Attorney; Assistant</td>\n",
       "    </tr>\n",
       "    <tr>\n",
       "      <th>3197</th>\n",
       "      <td>STIPULATION OF VOLUNTARY DISMISSAL It is hereb...</td>\n",
       "      <td>stipulation of voluntary dismissal it is hereb...</td>\n",
       "      <td></td>\n",
       "      <td></td>\n",
       "      <td>Notices, Motions</td>\n",
       "      <td>0.0</td>\n",
       "      <td>Y</td>\n",
       "      <td>Attorney; Assistant</td>\n",
       "      <td>Y</td>\n",
       "      <td>Attorney; Assistant</td>\n",
       "    </tr>\n",
       "    <tr>\n",
       "      <th>3198</th>\n",
       "      <td>STIPULATION OF DISMISSAL WITH PREJUDICE: that ...</td>\n",
       "      <td>stipulation of dismissal with prejudice that t...</td>\n",
       "      <td></td>\n",
       "      <td></td>\n",
       "      <td>Order, Notices, Motions</td>\n",
       "      <td>0.0</td>\n",
       "      <td>Y</td>\n",
       "      <td>Attorney</td>\n",
       "      <td>Y</td>\n",
       "      <td>Attorney</td>\n",
       "    </tr>\n",
       "    <tr>\n",
       "      <th>3199</th>\n",
       "      <td>Terminate Transcript Deadlines (tn) (Entered: ...</td>\n",
       "      <td>terminate transcript deadlines tn</td>\n",
       "      <td></td>\n",
       "      <td></td>\n",
       "      <td>NoAction, Notices</td>\n",
       "      <td>1.0</td>\n",
       "      <td>N</td>\n",
       "      <td>NaN</td>\n",
       "      <td>N</td>\n",
       "      <td>NaN</td>\n",
       "    </tr>\n",
       "    <tr>\n",
       "      <th>3200</th>\n",
       "      <td>STIPULATION AND ORDER MODIFYING STIPULATED CON...</td>\n",
       "      <td>stipulation and order modifying stipulated con...</td>\n",
       "      <td></td>\n",
       "      <td></td>\n",
       "      <td>Order, Notices</td>\n",
       "      <td>0.0</td>\n",
       "      <td>Y</td>\n",
       "      <td>Attorney; Assistant</td>\n",
       "      <td>Y</td>\n",
       "      <td>Attorney; Assistant</td>\n",
       "    </tr>\n",
       "    <tr>\n",
       "      <th>3201</th>\n",
       "      <td>NOTICE TO ATTORNEY TO RETRIEVE SEALED MATERIAL...</td>\n",
       "      <td>notice to attorney to retrieve sealed material...</td>\n",
       "      <td></td>\n",
       "      <td></td>\n",
       "      <td>Notices, Motions</td>\n",
       "      <td>0.0</td>\n",
       "      <td>Y</td>\n",
       "      <td>Attorney; Assistant</td>\n",
       "      <td>Y</td>\n",
       "      <td>Attorney; Assistant</td>\n",
       "    </tr>\n",
       "    <tr>\n",
       "      <th>3202</th>\n",
       "      <td>SEALED MATERIALS RETRIEVED: Document(s) 95 wer...</td>\n",
       "      <td>sealed materials retrieved document s were ret...</td>\n",
       "      <td></td>\n",
       "      <td></td>\n",
       "      <td>Motions</td>\n",
       "      <td>0.0</td>\n",
       "      <td>Y</td>\n",
       "      <td>Attorney</td>\n",
       "      <td>Y</td>\n",
       "      <td>Attorney</td>\n",
       "    </tr>\n",
       "  </tbody>\n",
       "</table>\n",
       "</div>"
      ],
      "text/plain": [
       "                                   Original Docket Text  \\\n",
       "3183  SEALED DOCUMENT placed in vault.(nm) (Entered:...   \n",
       "3184  Please be advised that Judge Abrams Courtroom ...   \n",
       "3185  MOTION for Andrew John Estes and Simona Gory t...   \n",
       "3186  MEMO ENDORSEMENT granting 204 MOTION FOR LEAVE...   \n",
       "3187  SIXTH REVISED SCHEDULING ORDER: Expert Discove...   \n",
       "3188  ENDORSED LETTER addressed to Magistrate Judge ...   \n",
       "3189  ENDORSED LETTER addressed to Magistrate Judge ...   \n",
       "3190  MOTION for Randall T. Adams to Withdraw as Att...   \n",
       "3191  MEMO ENDORSEMENT ON MOTION FOR LEAVE TO WITHDR...   \n",
       "3192  MOTION for Joseph P. Fishman to Withdraw as At...   \n",
       "3193  MEMO ENDORSED on MOTION FOR LEAVE TO WITHDRAW ...   \n",
       "3194  ENDORSED LETTER addressed to Judge Ronnie Abra...   \n",
       "3195  Minute Entry for proceedings held before Magis...   \n",
       "3196  SEVENTH REVISED SCHEDULING ORDER: The parties'...   \n",
       "3197  STIPULATION OF VOLUNTARY DISMISSAL It is hereb...   \n",
       "3198  STIPULATION OF DISMISSAL WITH PREJUDICE: that ...   \n",
       "3199  Terminate Transcript Deadlines (tn) (Entered: ...   \n",
       "3200  STIPULATION AND ORDER MODIFYING STIPULATED CON...   \n",
       "3201  NOTICE TO ATTORNEY TO RETRIEVE SEALED MATERIAL...   \n",
       "3202  SEALED MATERIALS RETRIEVED: Document(s) 95 wer...   \n",
       "\n",
       "                                             normalized  \\\n",
       "3183               sealed document placed in vault nm     \n",
       "3184  please be advised that judge abrams courtroom ...   \n",
       "3185  motion for and to withdraw as attorney for and...   \n",
       "3186  memo endorsement granting motion for leave to ...   \n",
       "3187  sixth revised scheduling order expert discover...   \n",
       "3188  endorsed letter addressed to magistrate judge ...   \n",
       "3189  endorsed letter addressed to magistrate judge ...   \n",
       "3190  motion for to withdraw as attorney for plainti...   \n",
       "3191  memo endorsement on motion for leave to withdr...   \n",
       "3192  motion for to withdraw as attorney document fi...   \n",
       "3193  memo endorsed on motion for leave to withdraw ...   \n",
       "3194  endorsed letter addressed to judge from dated ...   \n",
       "3195  minute entry for proceedings held before magis...   \n",
       "3196  seventh revised scheduling order the parties p...   \n",
       "3197  stipulation of voluntary dismissal it is hereb...   \n",
       "3198  stipulation of dismissal with prejudice that t...   \n",
       "3199                terminate transcript deadlines tn     \n",
       "3200  stipulation and order modifying stipulated con...   \n",
       "3201  notice to attorney to retrieve sealed material...   \n",
       "3202  sealed materials retrieved document s were ret...   \n",
       "\n",
       "                                                 lemmed  \\\n",
       "3183                                                      \n",
       "3184  please advise judge abrams courtroom chamber m...   \n",
       "3185                                                      \n",
       "3186                                                      \n",
       "3187                                                      \n",
       "3188                                                      \n",
       "3189                                                      \n",
       "3190                                                      \n",
       "3191                                                      \n",
       "3192                                                      \n",
       "3193                                                      \n",
       "3194                                                      \n",
       "3195                                                      \n",
       "3196                                                      \n",
       "3197                                                      \n",
       "3198                                                      \n",
       "3199                                                      \n",
       "3200                                                      \n",
       "3201                                                      \n",
       "3202                                                      \n",
       "\n",
       "                                                phrases  \\\n",
       "3183                                                      \n",
       "3184  please advise judge abrams courtroom chamber m...   \n",
       "3185                                                      \n",
       "3186                                                      \n",
       "3187                                                      \n",
       "3188                                                      \n",
       "3189                                                      \n",
       "3190                                                      \n",
       "3191                                                      \n",
       "3192                                                      \n",
       "3193                                                      \n",
       "3194                                                      \n",
       "3195                                                      \n",
       "3196                                                      \n",
       "3197                                                      \n",
       "3198                                                      \n",
       "3199                                                      \n",
       "3200                                                      \n",
       "3201                                                      \n",
       "3202                                                      \n",
       "\n",
       "                                              DT Topics  NoAction Action  \\\n",
       "3183                                  NoAction, Motions       1.0      N   \n",
       "3184                                                          0.0      Y   \n",
       "3185                                            Motions       0.0      Y   \n",
       "3186                                     Order, Motions       0.0      Y   \n",
       "3187           Order, Other Answers, Discovery, Motions       0.0      Y   \n",
       "3188  Letter and Response, Service of Process, Notic...       0.0      Y   \n",
       "3189  Letter and Response, Service of Process, Notic...       0.0      Y   \n",
       "3190                                            Motions       0.0      Y   \n",
       "3191                                            Motions       0.0      Y   \n",
       "3192                        Service of Process, Motions       0.0      Y   \n",
       "3193                            Order, Notices, Motions       0.0      Y   \n",
       "3194  Letter and Response, Service of Process, Notic...       0.0      Y   \n",
       "3195                                  NoAction, Notices       1.0      N   \n",
       "3196     Letter and Response, Discovery, Motions, Order       0.0      Y   \n",
       "3197                                   Notices, Motions       0.0      Y   \n",
       "3198                            Order, Notices, Motions       0.0      Y   \n",
       "3199                                  NoAction, Notices       1.0      N   \n",
       "3200                                     Order, Notices       0.0      Y   \n",
       "3201                                   Notices, Motions       0.0      Y   \n",
       "3202                                            Motions       0.0      Y   \n",
       "\n",
       "                If Action Action revised    If Action revised  \n",
       "3183                  NaN              N                  NaN  \n",
       "3184  Attorney; Assistant              Y  Attorney; Assistant  \n",
       "3185             Attorney              Y             Attorney  \n",
       "3186             Attorney              Y             Attorney  \n",
       "3187  Attorney; Assistant              Y  Attorney; Assistant  \n",
       "3188  Attorney; Assistant              Y  Attorney; Assistant  \n",
       "3189  Attorney; Assistant              Y  Attorney; Assistant  \n",
       "3190             Attorney              Y             Attorney  \n",
       "3191             Attorney              Y             Attorney  \n",
       "3192  Attorney; Assistant              Y  Attorney; Assistant  \n",
       "3193             Attorney              Y             Attorney  \n",
       "3194             Attorney              Y             Attorney  \n",
       "3195                  NaN              N                  NaN  \n",
       "3196  Attorney; Assistant              Y  Attorney; Assistant  \n",
       "3197  Attorney; Assistant              Y  Attorney; Assistant  \n",
       "3198             Attorney              Y             Attorney  \n",
       "3199                  NaN              N                  NaN  \n",
       "3200  Attorney; Assistant              Y  Attorney; Assistant  \n",
       "3201  Attorney; Assistant              Y  Attorney; Assistant  \n",
       "3202             Attorney              Y             Attorney  "
      ]
     },
     "execution_count": 145,
     "metadata": {},
     "output_type": "execute_result"
    }
   ],
   "source": [
    "filename = 'docket_texts/train/DT/basic_cleaned_with_labels.pickle'\n",
    "\n",
    "#to load\n",
    "with open(filename, 'rb') as handle:\n",
    "    NER_df = pickle.load(handle)\n",
    "    \n",
    "data = NER_df.copy()\n",
    "\n",
    "print(data.shape)\n",
    "data.tail(20)"
   ]
  },
  {
   "cell_type": "markdown",
   "metadata": {},
   "source": [
    "Examine the Data"
   ]
  },
  {
   "cell_type": "code",
   "execution_count": 146,
   "metadata": {},
   "outputs": [
    {
     "data": {
      "text/plain": [
       "386"
      ]
     },
     "execution_count": 146,
     "metadata": {},
     "output_type": "execute_result"
    }
   ],
   "source": [
    "data.groupby('DT Topics')['DT Topics'].count().index.nunique()"
   ]
  },
  {
   "cell_type": "code",
   "execution_count": 147,
   "metadata": {},
   "outputs": [
    {
     "data": {
      "text/plain": [
       "0"
      ]
     },
     "execution_count": 147,
     "metadata": {},
     "output_type": "execute_result"
    }
   ],
   "source": [
    "sum(data.duplicated())"
   ]
  },
  {
   "cell_type": "markdown",
   "metadata": {},
   "source": [
    "Get Data without DT Topics. This is our model train dataset."
   ]
  },
  {
   "cell_type": "code",
   "execution_count": 148,
   "metadata": {},
   "outputs": [],
   "source": [
    "train_data = data[data['DT Topics'] == ''].copy()"
   ]
  },
  {
   "cell_type": "code",
   "execution_count": 149,
   "metadata": {},
   "outputs": [
    {
     "name": "stdout",
     "output_type": "stream",
     "text": [
      "(156, 10)\n"
     ]
    },
    {
     "data": {
      "text/html": [
       "<div>\n",
       "<table border=\"1\" class=\"dataframe\">\n",
       "  <thead>\n",
       "    <tr style=\"text-align: right;\">\n",
       "      <th></th>\n",
       "      <th>Original Docket Text</th>\n",
       "      <th>normalized</th>\n",
       "      <th>lemmed</th>\n",
       "      <th>phrases</th>\n",
       "      <th>DT Topics</th>\n",
       "      <th>NoAction</th>\n",
       "      <th>Action</th>\n",
       "      <th>If Action</th>\n",
       "      <th>Action revised</th>\n",
       "      <th>If Action revised</th>\n",
       "    </tr>\n",
       "  </thead>\n",
       "  <tbody>\n",
       "    <tr>\n",
       "      <th>77</th>\n",
       "      <td>STATUS REPORT by LG Capital Funding, LLC (Kehr...</td>\n",
       "      <td>status report by llc kehrli</td>\n",
       "      <td>status report llc kehrli</td>\n",
       "      <td>status_report llc_kehrli</td>\n",
       "      <td></td>\n",
       "      <td>0.0</td>\n",
       "      <td>Y</td>\n",
       "      <td>Attorney; Assistant</td>\n",
       "      <td>Y</td>\n",
       "      <td>Attorney; Assistant</td>\n",
       "    </tr>\n",
       "    <tr>\n",
       "      <th>150</th>\n",
       "      <td>Corporate Disclosure Statement by 5Barz Intern...</td>\n",
       "      <td>corporate disclosure statement by</td>\n",
       "      <td>corporate disclosure statement</td>\n",
       "      <td>corporate_disclosure statement</td>\n",
       "      <td></td>\n",
       "      <td>0.0</td>\n",
       "      <td>Y</td>\n",
       "      <td>Assistant</td>\n",
       "      <td>Y</td>\n",
       "      <td>Assistant</td>\n",
       "    </tr>\n",
       "    <tr>\n",
       "      <th>173</th>\n",
       "      <td>STATUS REPORT and PROPOSED BRIEFING SCHEDULE b...</td>\n",
       "      <td>status report and proposed briefing schedule b...</td>\n",
       "      <td>status report propose brief schedule llc kehrli</td>\n",
       "      <td>status_report propose brief schedule llc_kehrli</td>\n",
       "      <td></td>\n",
       "      <td>0.0</td>\n",
       "      <td>Y</td>\n",
       "      <td>Attorney; Assistant</td>\n",
       "      <td>Y</td>\n",
       "      <td>Attorney; Assistant</td>\n",
       "    </tr>\n",
       "    <tr>\n",
       "      <th>194</th>\n",
       "      <td>STATUS REPORT by LG Capital Funding, LLC (Kehr...</td>\n",
       "      <td>status report by llc kehrli</td>\n",
       "      <td>status report llc kehrli</td>\n",
       "      <td>status_report llc_kehrli</td>\n",
       "      <td></td>\n",
       "      <td>0.0</td>\n",
       "      <td>Y</td>\n",
       "      <td>Attorney; Assistant</td>\n",
       "      <td>Y</td>\n",
       "      <td>Attorney; Assistant</td>\n",
       "    </tr>\n",
       "    <tr>\n",
       "      <th>234</th>\n",
       "      <td>Proposed Findings of Fact by LG Capital Fundin...</td>\n",
       "      <td>proposed findings of fact by llc kehrli</td>\n",
       "      <td>propose find fact llc kehrli</td>\n",
       "      <td>propose_find fact llc_kehrli</td>\n",
       "      <td></td>\n",
       "      <td>0.0</td>\n",
       "      <td>Y</td>\n",
       "      <td>Attorney; Assistant</td>\n",
       "      <td>Y</td>\n",
       "      <td>Attorney; Assistant</td>\n",
       "    </tr>\n",
       "  </tbody>\n",
       "</table>\n",
       "</div>"
      ],
      "text/plain": [
       "                                  Original Docket Text  \\\n",
       "77   STATUS REPORT by LG Capital Funding, LLC (Kehr...   \n",
       "150  Corporate Disclosure Statement by 5Barz Intern...   \n",
       "173  STATUS REPORT and PROPOSED BRIEFING SCHEDULE b...   \n",
       "194  STATUS REPORT by LG Capital Funding, LLC (Kehr...   \n",
       "234  Proposed Findings of Fact by LG Capital Fundin...   \n",
       "\n",
       "                                            normalized  \\\n",
       "77                       status report by llc kehrli     \n",
       "150                corporate disclosure statement by     \n",
       "173  status report and proposed briefing schedule b...   \n",
       "194                      status report by llc kehrli     \n",
       "234          proposed findings of fact by llc kehrli     \n",
       "\n",
       "                                              lemmed  \\\n",
       "77                          status report llc kehrli   \n",
       "150                   corporate disclosure statement   \n",
       "173  status report propose brief schedule llc kehrli   \n",
       "194                         status report llc kehrli   \n",
       "234                     propose find fact llc kehrli   \n",
       "\n",
       "                                             phrases DT Topics  NoAction  \\\n",
       "77                          status_report llc_kehrli                 0.0   \n",
       "150                   corporate_disclosure statement                 0.0   \n",
       "173  status_report propose brief schedule llc_kehrli                 0.0   \n",
       "194                         status_report llc_kehrli                 0.0   \n",
       "234                     propose_find fact llc_kehrli                 0.0   \n",
       "\n",
       "    Action            If Action Action revised    If Action revised  \n",
       "77       Y  Attorney; Assistant              Y  Attorney; Assistant  \n",
       "150      Y            Assistant              Y            Assistant  \n",
       "173      Y  Attorney; Assistant              Y  Attorney; Assistant  \n",
       "194      Y  Attorney; Assistant              Y  Attorney; Assistant  \n",
       "234      Y  Attorney; Assistant              Y  Attorney; Assistant  "
      ]
     },
     "execution_count": 149,
     "metadata": {},
     "output_type": "execute_result"
    }
   ],
   "source": [
    "print(train_data.shape)\n",
    "train_data.head()"
   ]
  },
  {
   "cell_type": "code",
   "execution_count": 150,
   "metadata": {},
   "outputs": [],
   "source": [
    "filename = 'docket_texts/train/DT/basic_cleaned_v2.pickle'"
   ]
  },
  {
   "cell_type": "code",
   "execution_count": 151,
   "metadata": {},
   "outputs": [],
   "source": [
    "#to save\n",
    "with open(filename, 'wb') as handle: \n",
    "    pickle.dump(train_data, handle, protocol = pickle.HIGHEST_PROTOCOL)"
   ]
  },
  {
   "cell_type": "code",
   "execution_count": 152,
   "metadata": {},
   "outputs": [],
   "source": [
    "#to load\n",
    "with open(filename, 'rb') as handle:\n",
    "    train_cleaned_df = pickle.load(handle)"
   ]
  },
  {
   "cell_type": "code",
   "execution_count": 153,
   "metadata": {},
   "outputs": [
    {
     "data": {
      "text/html": [
       "<div>\n",
       "<table border=\"1\" class=\"dataframe\">\n",
       "  <thead>\n",
       "    <tr style=\"text-align: right;\">\n",
       "      <th></th>\n",
       "      <th>Original Docket Text</th>\n",
       "      <th>normalized</th>\n",
       "      <th>lemmed</th>\n",
       "      <th>phrases</th>\n",
       "      <th>DT Topics</th>\n",
       "      <th>NoAction</th>\n",
       "      <th>Action</th>\n",
       "      <th>If Action</th>\n",
       "      <th>Action revised</th>\n",
       "      <th>If Action revised</th>\n",
       "    </tr>\n",
       "  </thead>\n",
       "  <tbody>\n",
       "    <tr>\n",
       "      <th>77</th>\n",
       "      <td>STATUS REPORT by LG Capital Funding, LLC (Kehr...</td>\n",
       "      <td>status report by llc kehrli</td>\n",
       "      <td>status report llc kehrli</td>\n",
       "      <td>status_report llc_kehrli</td>\n",
       "      <td></td>\n",
       "      <td>0.0</td>\n",
       "      <td>Y</td>\n",
       "      <td>Attorney; Assistant</td>\n",
       "      <td>Y</td>\n",
       "      <td>Attorney; Assistant</td>\n",
       "    </tr>\n",
       "    <tr>\n",
       "      <th>150</th>\n",
       "      <td>Corporate Disclosure Statement by 5Barz Intern...</td>\n",
       "      <td>corporate disclosure statement by</td>\n",
       "      <td>corporate disclosure statement</td>\n",
       "      <td>corporate_disclosure statement</td>\n",
       "      <td></td>\n",
       "      <td>0.0</td>\n",
       "      <td>Y</td>\n",
       "      <td>Assistant</td>\n",
       "      <td>Y</td>\n",
       "      <td>Assistant</td>\n",
       "    </tr>\n",
       "    <tr>\n",
       "      <th>173</th>\n",
       "      <td>STATUS REPORT and PROPOSED BRIEFING SCHEDULE b...</td>\n",
       "      <td>status report and proposed briefing schedule b...</td>\n",
       "      <td>status report propose brief schedule llc kehrli</td>\n",
       "      <td>status_report propose brief schedule llc_kehrli</td>\n",
       "      <td></td>\n",
       "      <td>0.0</td>\n",
       "      <td>Y</td>\n",
       "      <td>Attorney; Assistant</td>\n",
       "      <td>Y</td>\n",
       "      <td>Attorney; Assistant</td>\n",
       "    </tr>\n",
       "    <tr>\n",
       "      <th>194</th>\n",
       "      <td>STATUS REPORT by LG Capital Funding, LLC (Kehr...</td>\n",
       "      <td>status report by llc kehrli</td>\n",
       "      <td>status report llc kehrli</td>\n",
       "      <td>status_report llc_kehrli</td>\n",
       "      <td></td>\n",
       "      <td>0.0</td>\n",
       "      <td>Y</td>\n",
       "      <td>Attorney; Assistant</td>\n",
       "      <td>Y</td>\n",
       "      <td>Attorney; Assistant</td>\n",
       "    </tr>\n",
       "    <tr>\n",
       "      <th>234</th>\n",
       "      <td>Proposed Findings of Fact by LG Capital Fundin...</td>\n",
       "      <td>proposed findings of fact by llc kehrli</td>\n",
       "      <td>propose find fact llc kehrli</td>\n",
       "      <td>propose_find fact llc_kehrli</td>\n",
       "      <td></td>\n",
       "      <td>0.0</td>\n",
       "      <td>Y</td>\n",
       "      <td>Attorney; Assistant</td>\n",
       "      <td>Y</td>\n",
       "      <td>Attorney; Assistant</td>\n",
       "    </tr>\n",
       "  </tbody>\n",
       "</table>\n",
       "</div>"
      ],
      "text/plain": [
       "                                  Original Docket Text  \\\n",
       "77   STATUS REPORT by LG Capital Funding, LLC (Kehr...   \n",
       "150  Corporate Disclosure Statement by 5Barz Intern...   \n",
       "173  STATUS REPORT and PROPOSED BRIEFING SCHEDULE b...   \n",
       "194  STATUS REPORT by LG Capital Funding, LLC (Kehr...   \n",
       "234  Proposed Findings of Fact by LG Capital Fundin...   \n",
       "\n",
       "                                            normalized  \\\n",
       "77                       status report by llc kehrli     \n",
       "150                corporate disclosure statement by     \n",
       "173  status report and proposed briefing schedule b...   \n",
       "194                      status report by llc kehrli     \n",
       "234          proposed findings of fact by llc kehrli     \n",
       "\n",
       "                                              lemmed  \\\n",
       "77                          status report llc kehrli   \n",
       "150                   corporate disclosure statement   \n",
       "173  status report propose brief schedule llc kehrli   \n",
       "194                         status report llc kehrli   \n",
       "234                     propose find fact llc kehrli   \n",
       "\n",
       "                                             phrases DT Topics  NoAction  \\\n",
       "77                          status_report llc_kehrli                 0.0   \n",
       "150                   corporate_disclosure statement                 0.0   \n",
       "173  status_report propose brief schedule llc_kehrli                 0.0   \n",
       "194                         status_report llc_kehrli                 0.0   \n",
       "234                     propose_find fact llc_kehrli                 0.0   \n",
       "\n",
       "    Action            If Action Action revised    If Action revised  \n",
       "77       Y  Attorney; Assistant              Y  Attorney; Assistant  \n",
       "150      Y            Assistant              Y            Assistant  \n",
       "173      Y  Attorney; Assistant              Y  Attorney; Assistant  \n",
       "194      Y  Attorney; Assistant              Y  Attorney; Assistant  \n",
       "234      Y  Attorney; Assistant              Y  Attorney; Assistant  "
      ]
     },
     "execution_count": 153,
     "metadata": {},
     "output_type": "execute_result"
    }
   ],
   "source": [
    "train_cleaned_df.head()"
   ]
  },
  {
   "cell_type": "code",
   "execution_count": 154,
   "metadata": {},
   "outputs": [
    {
     "data": {
      "text/plain": [
       "Y    142\n",
       "N     14\n",
       "Name: Action revised, dtype: int64"
      ]
     },
     "execution_count": 154,
     "metadata": {},
     "output_type": "execute_result"
    }
   ],
   "source": [
    "train_cleaned_df['Action revised'].value_counts()\n",
    "#here we have a problem with imbalanced classes. We need to balance these out before going through the modeling pipeline"
   ]
  },
  {
   "cell_type": "markdown",
   "metadata": {},
   "source": [
    "Let's waste some time and stare at some wordcloud..."
   ]
  },
  {
   "cell_type": "code",
   "execution_count": 156,
   "metadata": {},
   "outputs": [],
   "source": [
    "action = train_cleaned_df[train_cleaned_df['Action revised'] == 'Y']['phrases']\n",
    "noaction = train_cleaned_df[train_cleaned_df['Action revised'] == 'N']['phrases']"
   ]
  },
  {
   "cell_type": "code",
   "execution_count": 157,
   "metadata": {},
   "outputs": [
    {
     "name": "stdout",
     "output_type": "stream",
     "text": [
      "Wall time: 792 ms\n"
     ]
    }
   ],
   "source": [
    "%%time\n",
    "action_words = ''\n",
    "noaction_words = ''\n",
    "\n",
    "for val in action:\n",
    "    text = val.lower()\n",
    "    tokens = nltk.word_tokenize(text)\n",
    "    for words in tokens:\n",
    "        action_words = action_words + words + ' '\n",
    "        \n",
    "for val in noaction:\n",
    "    text = val.lower()\n",
    "    tokens = nltk.word_tokenize(text)\n",
    "    for words in tokens:\n",
    "        noaction_words = noaction_words + words + ' '\n"
   ]
  },
  {
   "cell_type": "code",
   "execution_count": 158,
   "metadata": {},
   "outputs": [
    {
     "data": {
      "text/plain": [
       "[('file', 109),\n",
       " ('document', 100),\n",
       " ('statement', 85),\n",
       " ('rule', 75),\n",
       " ('inc', 24),\n",
       " ('disclosure', 23),\n",
       " ('corporate_disclosure', 19),\n",
       " ('date', 18),\n",
       " ('p', 16),\n",
       " ('case', 15)]"
      ]
     },
     "execution_count": 158,
     "metadata": {},
     "output_type": "execute_result"
    }
   ],
   "source": [
    "Counter(action_words.split()).most_common(10) \n",
    "#these are kind of wasted words that weren't cleaned out"
   ]
  },
  {
   "cell_type": "code",
   "execution_count": 159,
   "metadata": {},
   "outputs": [
    {
     "data": {
      "text/plain": [
       "[('case', 8),\n",
       " ('civil_cover_sheet', 7),\n",
       " ('file', 7),\n",
       " ('consolidate', 4),\n",
       " ('relate', 4),\n",
       " ('possibly', 4),\n",
       " ('judge', 4),\n",
       " ('refer', 4),\n",
       " ('cv', 3),\n",
       " ('member', 2)]"
      ]
     },
     "execution_count": 159,
     "metadata": {},
     "output_type": "execute_result"
    }
   ],
   "source": [
    "Counter(noaction_words.split()).most_common(10) "
   ]
  },
  {
   "cell_type": "code",
   "execution_count": 160,
   "metadata": {},
   "outputs": [],
   "source": [
    "# Generate a word cloud image\n",
    "action_wordcloud = WordCloud(width = 600, height = 400).generate(action_words)\n",
    "noaction_wordcloud = WordCloud(width = 600, height = 400).generate(noaction_words)"
   ]
  },
  {
   "cell_type": "code",
   "execution_count": 161,
   "metadata": {},
   "outputs": [
    {
     "data": {
      "image/png": "[encoded data removed]",
      "text/plain": [
       "<matplotlib.figure.Figure at 0x1fc0886add8>"
      ]
     },
     "metadata": {
      "image/png": {
       "height": 492,
       "width": 725
      }
     },
     "output_type": "display_data"
    }
   ],
   "source": [
    "#Action Word cloud\n",
    "plt.figure(figsize = (10, 8), facecolor = 'k')\n",
    "plt.imshow(action_wordcloud)\n",
    "plt.axis('off')\n",
    "plt.tight_layout(pad = 0)\n",
    "plt.show()"
   ]
  },
  {
   "cell_type": "code",
   "execution_count": 162,
   "metadata": {},
   "outputs": [
    {
     "data": {
      "image/png": "[encoded data removed]",
      "text/plain": [
       "<matplotlib.figure.Figure at 0x1fc191e0278>"
      ]
     },
     "metadata": {
      "image/png": {
       "height": 492,
       "width": 725
      }
     },
     "output_type": "display_data"
    }
   ],
   "source": [
    "#No-Action Spam Word cloud\n",
    "plt.figure(figsize = (10, 8), facecolor = 'k')\n",
    "plt.imshow(noaction_wordcloud)\n",
    "plt.axis('off')\n",
    "plt.tight_layout(pad = 0)\n",
    "plt.show()"
   ]
  },
  {
   "cell_type": "markdown",
   "metadata": {},
   "source": [
    "We need to balance the dataset first, then shuffle"
   ]
  },
  {
   "cell_type": "code",
   "execution_count": 163,
   "metadata": {},
   "outputs": [],
   "source": [
    "train_cleaned_df['label'] = train_cleaned_df['Action revised'].map({'Y': 1, 'N': 0})"
   ]
  },
  {
   "cell_type": "code",
   "execution_count": 164,
   "metadata": {},
   "outputs": [
    {
     "name": "stdout",
     "output_type": "stream",
     "text": [
      "10\n",
      "(142, 11)\n"
     ]
    },
    {
     "data": {
      "text/html": [
       "<div>\n",
       "<table border=\"1\" class=\"dataframe\">\n",
       "  <thead>\n",
       "    <tr style=\"text-align: right;\">\n",
       "      <th></th>\n",
       "      <th>Original Docket Text</th>\n",
       "      <th>normalized</th>\n",
       "      <th>lemmed</th>\n",
       "      <th>phrases</th>\n",
       "      <th>DT Topics</th>\n",
       "      <th>NoAction</th>\n",
       "      <th>Action</th>\n",
       "      <th>If Action</th>\n",
       "      <th>Action revised</th>\n",
       "      <th>If Action revised</th>\n",
       "      <th>label</th>\n",
       "    </tr>\n",
       "  </thead>\n",
       "  <tbody>\n",
       "    <tr>\n",
       "      <th>2841</th>\n",
       "      <td>Consolidated Lead Case. (pl) (Entered: 06/29/2...</td>\n",
       "      <td>consolidated lead case pl</td>\n",
       "      <td>consolidate lead case pl</td>\n",
       "      <td>consolidate lead case pl</td>\n",
       "      <td></td>\n",
       "      <td>0.0</td>\n",
       "      <td>N</td>\n",
       "      <td>NaN</td>\n",
       "      <td>N</td>\n",
       "      <td>NaN</td>\n",
       "      <td>0</td>\n",
       "    </tr>\n",
       "    <tr>\n",
       "      <th>465</th>\n",
       "      <td>CASE REFERRED TO Judge Lewis A. Kaplan as poss...</td>\n",
       "      <td>case referred to judge as possibly related to ...</td>\n",
       "      <td>case refer judge possibly relate cv laq</td>\n",
       "      <td>case refer judge possibly relate cv laq</td>\n",
       "      <td></td>\n",
       "      <td>0.0</td>\n",
       "      <td>N</td>\n",
       "      <td>NaN</td>\n",
       "      <td>N</td>\n",
       "      <td>NaN</td>\n",
       "      <td>0</td>\n",
       "    </tr>\n",
       "    <tr>\n",
       "      <th>2347</th>\n",
       "      <td>CIVIL COVER SHEET filed. (Sava, Matthew) (Ente...</td>\n",
       "      <td>civil cover sheet filed sava</td>\n",
       "      <td>civil cover sheet file sava</td>\n",
       "      <td>civil_cover_sheet file sava</td>\n",
       "      <td></td>\n",
       "      <td>0.0</td>\n",
       "      <td>N</td>\n",
       "      <td>NaN</td>\n",
       "      <td>N</td>\n",
       "      <td>NaN</td>\n",
       "      <td>0</td>\n",
       "    </tr>\n",
       "    <tr>\n",
       "      <th>465</th>\n",
       "      <td>CASE REFERRED TO Judge Lewis A. Kaplan as poss...</td>\n",
       "      <td>case referred to judge as possibly related to ...</td>\n",
       "      <td>case refer judge possibly relate cv laq</td>\n",
       "      <td>case refer judge possibly relate cv laq</td>\n",
       "      <td></td>\n",
       "      <td>0.0</td>\n",
       "      <td>N</td>\n",
       "      <td>NaN</td>\n",
       "      <td>N</td>\n",
       "      <td>NaN</td>\n",
       "      <td>0</td>\n",
       "    </tr>\n",
       "    <tr>\n",
       "      <th>973</th>\n",
       "      <td>CIVIL COVER SHEET filed. (Scileppi, Laura) (En...</td>\n",
       "      <td>civil cover sheet filed scileppi</td>\n",
       "      <td>civil cover sheet file scileppi</td>\n",
       "      <td>civil_cover_sheet file scileppi</td>\n",
       "      <td></td>\n",
       "      <td>0.0</td>\n",
       "      <td>N</td>\n",
       "      <td>NaN</td>\n",
       "      <td>N</td>\n",
       "      <td>NaN</td>\n",
       "      <td>0</td>\n",
       "    </tr>\n",
       "  </tbody>\n",
       "</table>\n",
       "</div>"
      ],
      "text/plain": [
       "                                   Original Docket Text  \\\n",
       "2841  Consolidated Lead Case. (pl) (Entered: 06/29/2...   \n",
       "465   CASE REFERRED TO Judge Lewis A. Kaplan as poss...   \n",
       "2347  CIVIL COVER SHEET filed. (Sava, Matthew) (Ente...   \n",
       "465   CASE REFERRED TO Judge Lewis A. Kaplan as poss...   \n",
       "973   CIVIL COVER SHEET filed. (Scileppi, Laura) (En...   \n",
       "\n",
       "                                             normalized  \\\n",
       "2841                        consolidated lead case pl     \n",
       "465   case referred to judge as possibly related to ...   \n",
       "2347                     civil cover sheet filed sava     \n",
       "465   case referred to judge as possibly related to ...   \n",
       "973                  civil cover sheet filed scileppi     \n",
       "\n",
       "                                       lemmed  \\\n",
       "2841                 consolidate lead case pl   \n",
       "465   case refer judge possibly relate cv laq   \n",
       "2347              civil cover sheet file sava   \n",
       "465   case refer judge possibly relate cv laq   \n",
       "973           civil cover sheet file scileppi   \n",
       "\n",
       "                                      phrases DT Topics  NoAction Action  \\\n",
       "2841                 consolidate lead case pl                 0.0      N   \n",
       "465   case refer judge possibly relate cv laq                 0.0      N   \n",
       "2347              civil_cover_sheet file sava                 0.0      N   \n",
       "465   case refer judge possibly relate cv laq                 0.0      N   \n",
       "973           civil_cover_sheet file scileppi                 0.0      N   \n",
       "\n",
       "     If Action Action revised If Action revised  label  \n",
       "2841       NaN              N               NaN      0  \n",
       "465        NaN              N               NaN      0  \n",
       "2347       NaN              N               NaN      0  \n",
       "465        NaN              N               NaN      0  \n",
       "973        NaN              N               NaN      0  "
      ]
     },
     "execution_count": 164,
     "metadata": {},
     "output_type": "execute_result"
    }
   ],
   "source": [
    "#since my dataset is tiny, i've decided to upsample the minority class\n",
    "action = train_cleaned_df[train_cleaned_df['label'] == 1]\n",
    "noaction = train_cleaned_df[train_cleaned_df['label'] == 0]\n",
    "n = round(action.shape[0] / noaction.shape[0]) #this is about 10 on 2018/9/28\n",
    "print(n)\n",
    "\n",
    "noaction_upsampled = resample(noaction, replace = True, n_samples = action.shape[0], random_state = 123)\n",
    "print(noaction_upsampled.shape)\n",
    "noaction_upsampled.head()"
   ]
  },
  {
   "cell_type": "code",
   "execution_count": 165,
   "metadata": {},
   "outputs": [
    {
     "name": "stdout",
     "output_type": "stream",
     "text": [
      "(284, 11)\n"
     ]
    },
    {
     "data": {
      "text/plain": [
       "N    142\n",
       "Y    142\n",
       "Name: Action revised, dtype: int64"
      ]
     },
     "execution_count": 165,
     "metadata": {},
     "output_type": "execute_result"
    }
   ],
   "source": [
    "train_cleaned_df_upsampled = pd.concat([action, noaction_upsampled])\n",
    "print(train_cleaned_df_upsampled.shape)\n",
    "train_cleaned_df_upsampled['Action revised'].value_counts()"
   ]
  },
  {
   "cell_type": "code",
   "execution_count": 166,
   "metadata": {},
   "outputs": [],
   "source": [
    "#reference: https://machinelearningmastery.com/tactics-to-combat-imbalanced-classes-in-your-machine-learning-dataset/\n",
    "train_cleaned_df_upsampled_shuffled = shuffle(train_cleaned_df_upsampled, random_state = 4)\n",
    "feature_choice = 'phrases'\n",
    "Xtrain, Xtest, ytrain, ytest = train_test_split(train_cleaned_df_upsampled_shuffled[feature_choice], train_cleaned_df_upsampled_shuffled.label, test_size = 0.2, random_state = 10)"
   ]
  },
  {
   "cell_type": "markdown",
   "metadata": {},
   "source": [
    "### let's make sure everything looks okay"
   ]
  },
  {
   "cell_type": "code",
   "execution_count": 168,
   "metadata": {},
   "outputs": [
    {
     "name": "stdout",
     "output_type": "stream",
     "text": [
      "(227,)\n"
     ]
    },
    {
     "data": {
      "text/plain": [
       "2865    bench trial conclude judge bai\n",
       "688             civil_cover_sheet file\n",
       "753             civil_cover_sheet file\n",
       "406             civil_cover_sheet file\n",
       "2347       civil_cover_sheet file sava\n",
       "Name: phrases, dtype: object"
      ]
     },
     "execution_count": 168,
     "metadata": {},
     "output_type": "execute_result"
    }
   ],
   "source": [
    "print(Xtrain.shape)\n",
    "Xtrain.head()"
   ]
  },
  {
   "cell_type": "code",
   "execution_count": 169,
   "metadata": {},
   "outputs": [
    {
     "name": "stdout",
     "output_type": "stream",
     "text": [
      "(227,)\n"
     ]
    },
    {
     "data": {
      "text/plain": [
       "2865    1\n",
       "688     0\n",
       "753     0\n",
       "406     0\n",
       "2347    0\n",
       "Name: label, dtype: int64"
      ]
     },
     "execution_count": 169,
     "metadata": {},
     "output_type": "execute_result"
    }
   ],
   "source": [
    "print(ytrain.shape)\n",
    "ytrain.head()"
   ]
  },
  {
   "cell_type": "code",
   "execution_count": 170,
   "metadata": {},
   "outputs": [
    {
     "name": "stdout",
     "output_type": "stream",
     "text": [
      "(57,)\n"
     ]
    },
    {
     "data": {
      "text/plain": [
       "940     defendant initial disclosures pursuant rule fr...\n",
       "1017              case refer judge possibly relate mdl gf\n",
       "777                            civil_cover_sheet file han\n",
       "1445              case refer judge possibly relate cv jom\n",
       "332     rule corporate_disclosure statement document file\n",
       "Name: phrases, dtype: object"
      ]
     },
     "execution_count": 170,
     "metadata": {},
     "output_type": "execute_result"
    }
   ],
   "source": [
    "print(Xtest.shape)\n",
    "Xtest.head()"
   ]
  },
  {
   "cell_type": "code",
   "execution_count": 171,
   "metadata": {},
   "outputs": [
    {
     "name": "stdout",
     "output_type": "stream",
     "text": [
      "(57,)\n"
     ]
    },
    {
     "data": {
      "text/plain": [
       "940     1\n",
       "1017    0\n",
       "777     0\n",
       "1445    0\n",
       "332     1\n",
       "Name: label, dtype: int64"
      ]
     },
     "execution_count": 171,
     "metadata": {},
     "output_type": "execute_result"
    }
   ],
   "source": [
    "print(ytest.shape)\n",
    "ytest.head()"
   ]
  },
  {
   "cell_type": "markdown",
   "metadata": {},
   "source": [
    "Note that we are going to try 3 types of vectorizors\n",
    "1. Count Vectorizer - this is a bag of words approach\n",
    "2. TFIDF Vectorizer - this is term frequency, inverse doc frequency approach. suppose to be better than BOW\n",
    "3. Keras - keras has a lib that does this as well. I think it's more on the TFIDF methodology"
   ]
  },
  {
   "cell_type": "code",
   "execution_count": 172,
   "metadata": {},
   "outputs": [
    {
     "data": {
      "text/plain": [
       "['Models/Keras_tokenizev2.pkl']"
      ]
     },
     "execution_count": 172,
     "metadata": {},
     "output_type": "execute_result"
    }
   ],
   "source": [
    "#reference: https://www.quora.com/What-is-the-difference-between-TfidfVectorizer-and-CountVectorizer-1\n",
    "\n",
    "CV_vect = CountVectorizer() #Convert a collection of text documents to a matrix of token counts, bag of words\n",
    "TV_vect = TfidfVectorizer() #term frequency, inverse document frequency - \n",
    "\n",
    "CV_vect.fit(Xtrain)\n",
    "TV_vect.fit(Xtrain)\n",
    "\n",
    "#we'll need to save these\n",
    "joblib.dump(CV_vect, 'Models/CountVectorizerv2.pkl')\n",
    "joblib.dump(TV_vect, 'Models/TfidfVectorizerv2.pkl')\n",
    "\n",
    "max_words = len(CV_vect.get_feature_names()) #218 on 2018/9/28\n",
    "Keras_tokenize = Tokenizer(num_words = max_words, char_level = False)\n",
    "Keras_tokenize.fit_on_texts(Xtrain)\n",
    "\n",
    "joblib.dump(Keras_tokenize, 'Models/Keras_tokenizev2.pkl')"
   ]
  },
  {
   "cell_type": "code",
   "execution_count": 173,
   "metadata": {},
   "outputs": [
    {
     "name": "stdout",
     "output_type": "stream",
     "text": [
      "CountVectorizer feature length: 217\n",
      "TfidfVectorizer feature length: 217\n"
     ]
    }
   ],
   "source": [
    "print('CountVectorizer feature length: {}'.format(len(CV_vect.get_feature_names())))\n",
    "print('TfidfVectorizer feature length: {}'.format(len(TV_vect.get_feature_names())))"
   ]
  },
  {
   "cell_type": "code",
   "execution_count": 175,
   "metadata": {},
   "outputs": [],
   "source": [
    "#transform the train and test data into vectors, according to countvectorizer results\n",
    "CV_vect = joblib.load('Models/CountVectorizerv2.pkl')\n",
    "Xtrain_CV = CV_vect.transform(Xtrain)\n",
    "Xtest_CV = CV_vect.transform(Xtest)\n",
    "\n",
    "TV_vect = joblib.load('Models/TfidfVectorizerv2.pkl')\n",
    "Xtrain_TV = TV_vect.transform(Xtrain)\n",
    "Xtest_TV = TV_vect.transform(Xtest)\n",
    "\n",
    "Keras_tokenize = joblib.load('Models/Keras_tokenizev2.pkl')\n",
    "Xtrain_Keras = Keras_tokenize.texts_to_matrix(Xtrain)\n",
    "Xtest_Keras = Keras_tokenize.texts_to_matrix(Xtest)"
   ]
  },
  {
   "cell_type": "code",
   "execution_count": 176,
   "metadata": {},
   "outputs": [
    {
     "name": "stdout",
     "output_type": "stream",
     "text": [
      "(227, 217)\n",
      "(227, 217)\n",
      "(227, 217)\n"
     ]
    }
   ],
   "source": [
    "#print(Xtrain_CV.toarray()[0])\n",
    "#print(Xtrain_TV.toarray()[0])\n",
    "print(Xtrain_CV.toarray().shape)\n",
    "print(Xtrain_TV.toarray().shape)\n",
    "print(Xtrain_Keras.shape)"
   ]
  },
  {
   "cell_type": "markdown",
   "metadata": {},
   "source": [
    "### Since we don't need to produce classification, we are going to leave this step for even keras"
   ]
  },
  {
   "cell_type": "code",
   "execution_count": 178,
   "metadata": {},
   "outputs": [],
   "source": [
    "#this is for keras only... we shouldn't be doing this as we can leverage a softmax activation at the last layer. Also, there's not enough datapoints to get decent neural network results\n",
    "num_classes = 2\n",
    "ytrain_Keras = utils.to_categorical(ytrain, num_classes)\n",
    "ytest_Keras = utils.to_categorical(ytest, num_classes)"
   ]
  },
  {
   "cell_type": "code",
   "execution_count": 179,
   "metadata": {},
   "outputs": [
    {
     "name": "stdout",
     "output_type": "stream",
     "text": [
      "[[0. 1.]\n",
      " [1. 0.]\n",
      " [1. 0.]\n",
      " [1. 0.]\n",
      " [1. 0.]\n",
      " [1. 0.]\n",
      " [1. 0.]\n",
      " [1. 0.]\n",
      " [0. 1.]\n",
      " [1. 0.]]\n",
      "2865    1\n",
      "688     0\n",
      "753     0\n",
      "406     0\n",
      "2347    0\n",
      "973     0\n",
      "465     0\n",
      "688     0\n",
      "2866    1\n",
      "973     0\n",
      "Name: label, dtype: int64\n"
     ]
    }
   ],
   "source": [
    "print(ytrain_Keras[:10])\n",
    "print(ytrain[:10])"
   ]
  },
  {
   "cell_type": "markdown",
   "metadata": {},
   "source": [
    "Let's generate some benchmark scores"
   ]
  },
  {
   "cell_type": "code",
   "execution_count": 181,
   "metadata": {},
   "outputs": [],
   "source": [
    "BMTR_pred = dict()\n",
    "BMTE_pred = dict()\n",
    "BMTR_acc_scores = dict()\n",
    "BMTE_acc_scores = dict()"
   ]
  },
  {
   "cell_type": "markdown",
   "metadata": {},
   "source": [
    "Multinomial Naive Bayes - Note this is a classifier. we'll use the predict_proba() method"
   ]
  },
  {
   "cell_type": "code",
   "execution_count": 182,
   "metadata": {},
   "outputs": [
    {
     "name": "stdout",
     "output_type": "stream",
     "text": [
      "Wall time: 0 ns\n",
      "updated train acc scores: [('MNB TV', 0.9823788546255506), ('MNB Keras', 0.9779735682819384), ('MNB CV', 0.9779735682819384)]\n",
      "updated test acc scores: [('MNB Keras', 1.0), ('MNB TV', 1.0), ('MNB CV', 0.9824561403508771)]\n"
     ]
    }
   ],
   "source": [
    "%time\n",
    "#remember to change 2 things: the id and the model algo\n",
    "id = 'MNB'\n",
    "for Xtrain, Xtest, label in zip([Xtrain_CV, Xtrain_TV, Xtrain_Keras], \n",
    "                                [Xtest_CV, Xtest_TV, Xtest_Keras], \n",
    "                                ['CV', 'TV', 'Keras']):\n",
    "    model = MultinomialNB()\n",
    "    model.fit(Xtrain, ytrain)\n",
    "    BMTR_pred[id + ' ' + label] = model.predict(Xtrain)\n",
    "    BMTE_pred[id + ' ' + label] = model.predict(Xtest)\n",
    "    BMTR_acc_scores[id + ' ' + label] = accuracy_score(ytrain, BMTR_pred[id + ' ' + label])\n",
    "    BMTE_acc_scores[id + ' ' + label] = accuracy_score(ytest, BMTE_pred[id + ' ' + label])\n",
    "\n",
    "print('updated train acc scores: {}'.format(sorted(BMTR_acc_scores.items(), key = lambda x: x[1], reverse = True)))\n",
    "print('updated test acc scores: {}'.format(sorted(BMTE_acc_scores.items(), key = lambda x: x[1], reverse = True)))\n",
    "#CPU time: \n",
    "#AWS c5.large time: 0 ns"
   ]
  },
  {
   "cell_type": "code",
   "execution_count": 185,
   "metadata": {},
   "outputs": [
    {
     "data": {
      "text/plain": [
       "array([2.30225082e-02, 9.99998245e-01, 9.99998245e-01, 9.99998245e-01,\n",
       "       9.99999598e-01, 9.99999906e-01, 9.99999712e-01, 9.99998245e-01,\n",
       "       2.26916210e-07, 9.99999906e-01, 3.86898809e-04, 9.99999424e-01,\n",
       "       9.99999906e-01, 2.47374519e-05, 9.99998245e-01, 1.36123539e-09,\n",
       "       2.17109037e-09, 6.66422992e-06, 9.99994057e-01, 9.99999589e-01,\n",
       "       5.08941135e-08, 9.99998245e-01, 5.55968308e-04, 2.77269977e-06,\n",
       "       9.99998245e-01, 3.97618078e-05, 9.99998245e-01, 3.96444539e-08,\n",
       "       9.99999598e-01, 9.99999906e-01, 9.99999486e-01, 3.09267947e-09,\n",
       "       9.99680422e-01, 9.99998245e-01, 4.15904388e-06, 9.99999589e-01,\n",
       "       9.99994057e-01, 9.99999906e-01, 4.55469470e-06, 9.99940994e-01,\n",
       "       6.12524060e-05, 9.99999531e-01, 2.53300424e-06, 1.13603487e-04,\n",
       "       9.99940994e-01, 9.99940994e-01, 9.99998245e-01, 9.99999712e-01,\n",
       "       2.64296369e-09, 2.15033134e-05, 9.99998245e-01, 9.99999989e-01,\n",
       "       9.99998245e-01, 9.99998245e-01, 9.99999989e-01, 9.99994057e-01,\n",
       "       9.99999531e-01, 9.99999598e-01, 7.71870832e-05, 2.38163291e-07,\n",
       "       9.99999906e-01, 8.24714528e-11, 9.99998245e-01, 6.66422992e-06,\n",
       "       2.18117635e-08, 9.99999598e-01, 2.96847954e-05, 4.58808122e-07,\n",
       "       6.03867332e-03, 9.99999712e-01, 9.99999486e-01, 5.62641660e-05,\n",
       "       3.66316698e-03, 5.76799649e-07, 5.61331572e-09, 9.99999906e-01,\n",
       "       1.22690800e-05, 9.99999989e-01, 9.99994057e-01, 2.65086812e-09,\n",
       "       6.44805783e-03, 6.50272552e-09, 9.99994057e-01, 9.03366867e-01,\n",
       "       3.13038663e-04, 9.99998245e-01, 9.99998245e-01, 9.99999589e-01,\n",
       "       5.14553943e-10, 6.86917672e-07, 9.99998245e-01, 1.63867853e-04,\n",
       "       9.99998245e-01, 9.99999989e-01, 4.15904388e-06, 9.99999486e-01,\n",
       "       9.99999531e-01, 9.99998245e-01, 9.99999486e-01, 6.10729355e-08,\n",
       "       5.08941135e-08, 9.99998245e-01, 1.88940729e-03, 3.81145909e-09,\n",
       "       9.99998245e-01, 9.99999989e-01, 6.66422992e-06, 1.36123539e-09,\n",
       "       9.90289635e-01, 9.99999424e-01, 9.99998245e-01, 9.99999598e-01,\n",
       "       9.99999712e-01, 1.52682325e-07, 9.99998245e-01, 9.99999589e-01,\n",
       "       9.82483952e-01, 9.99998245e-01, 6.66422992e-06, 4.62110307e-11,\n",
       "       2.44650598e-07, 5.55968308e-04, 9.99998245e-01, 7.26584581e-10,\n",
       "       1.18830178e-06, 2.72247078e-09, 6.66422992e-06, 4.69702824e-06,\n",
       "       9.99999712e-01, 9.99998245e-01, 9.99999906e-01, 1.89865321e-04,\n",
       "       2.59559318e-06, 3.86898809e-04, 9.99998245e-01, 9.99940994e-01,\n",
       "       9.99999589e-01, 9.99998245e-01, 9.99999906e-01, 9.99940994e-01,\n",
       "       9.99999486e-01, 9.99999989e-01, 2.94374850e-04, 9.99994057e-01,\n",
       "       6.66422992e-06, 9.47568341e-09, 9.99994057e-01, 4.76432366e-08,\n",
       "       6.35243181e-09, 6.10729355e-08, 9.99999712e-01, 1.36123538e-08,\n",
       "       9.99998245e-01, 9.99998245e-01, 4.55469470e-06, 7.41599922e-08,\n",
       "       9.99998245e-01, 9.99994057e-01, 9.99999486e-01, 6.26234155e-05,\n",
       "       2.97333407e-08, 6.66422992e-06, 9.99940994e-01, 9.99994057e-01,\n",
       "       9.99998245e-01, 7.25954231e-07, 9.99940994e-01, 1.04009023e-05,\n",
       "       6.66422992e-06, 4.58808312e-08, 8.51043183e-05, 9.99999906e-01,\n",
       "       9.99999424e-01, 9.99999906e-01, 6.44340532e-11, 1.36123539e-09,\n",
       "       1.26224803e-03, 2.77269977e-06, 9.99999906e-01, 9.99998245e-01,\n",
       "       1.18830178e-06, 9.99998245e-01, 9.99998245e-01, 5.08941135e-08,\n",
       "       9.99999712e-01, 8.82192229e-03, 6.66422992e-06, 9.99999531e-01,\n",
       "       6.66422992e-06, 4.36235261e-08, 2.96639903e-07, 3.07640390e-03,\n",
       "       9.99999712e-01, 1.58799237e-06, 9.99999424e-01, 6.12524060e-05,\n",
       "       9.99998245e-01, 3.84764723e-09, 9.99999906e-01, 1.02848886e-07,\n",
       "       2.72247078e-09, 9.99998245e-01, 9.99998245e-01, 9.99998245e-01,\n",
       "       9.99994057e-01, 5.62641660e-05, 5.08941135e-08, 5.55968308e-04,\n",
       "       6.80617693e-09, 6.66422992e-06, 6.35243181e-09, 6.65764626e-05,\n",
       "       9.99998245e-01, 9.99999589e-01, 1.36123539e-09, 9.99999989e-01,\n",
       "       3.34113335e-05, 6.29578463e-01, 5.55968308e-04, 3.40934788e-05,\n",
       "       1.01942884e-08, 6.35243181e-09, 9.99999712e-01, 9.99999598e-01,\n",
       "       9.99999906e-01, 9.99999486e-01, 9.99999531e-01])"
      ]
     },
     "execution_count": 185,
     "metadata": {},
     "output_type": "execute_result"
    }
   ],
   "source": [
    "#verifying that predict_proba works\n",
    "yhat_train = model.predict_proba(Xtrain)\n",
    "yhat_train[:, 0]"
   ]
  },
  {
   "cell_type": "markdown",
   "metadata": {},
   "source": [
    "Bernoulli Naive Bayes - Note this is a classifier. We won't use this for the second round"
   ]
  },
  {
   "cell_type": "code",
   "execution_count": 186,
   "metadata": {},
   "outputs": [
    {
     "name": "stdout",
     "output_type": "stream",
     "text": [
      "Wall time: 0 ns\n",
      "updated train acc scores: [('MNB TV', 0.9823788546255506), ('MNB Keras', 0.9779735682819384), ('BNB TV', 0.9779735682819384), ('BNB Keras', 0.9779735682819384), ('BNB CV', 0.9779735682819384), ('MNB CV', 0.9779735682819384)]\n",
      "updated test acc scores: [('MNB Keras', 1.0), ('MNB TV', 1.0), ('BNB Keras', 0.9824561403508771), ('MNB CV', 0.9824561403508771), ('BNB TV', 0.9649122807017544), ('BNB CV', 0.9649122807017544)]\n"
     ]
    }
   ],
   "source": [
    "%time\n",
    "#remember to change 2 things: the id and the model algo\n",
    "id = 'BNB'\n",
    "for Xtrain, Xtest, label in zip([Xtrain_CV, Xtrain_TV, Xtrain_Keras], \n",
    "                                [Xtest_CV, Xtest_TV, Xtest_Keras], \n",
    "                                ['CV', 'TV', 'Keras']):\n",
    "    model = BernoulliNB()\n",
    "    model.fit(Xtrain, ytrain)\n",
    "    BMTR_pred[id + ' ' + label] = model.predict(Xtrain)\n",
    "    BMTE_pred[id + ' ' + label] = model.predict(Xtest)\n",
    "    BMTR_acc_scores[id + ' ' + label] = accuracy_score(ytrain, BMTR_pred[id + ' ' + label])\n",
    "    BMTE_acc_scores[id + ' ' + label] = accuracy_score(ytest, BMTE_pred[id + ' ' + label])\n",
    "\n",
    "print('updated train acc scores: {}'.format(sorted(BMTR_acc_scores.items(), key = lambda x: x[1], reverse = True)))\n",
    "print('updated test acc scores: {}'.format(sorted(BMTE_acc_scores.items(), key = lambda x: x[1], reverse = True)))\n",
    "#CPU time: \n",
    "#AWS c5.large time: 0 ns"
   ]
  },
  {
   "cell_type": "code",
   "execution_count": 187,
   "metadata": {},
   "outputs": [
    {
     "data": {
      "text/plain": [
       "array([6.30753047e-02, 9.99999934e-01, 9.99999934e-01, 9.99999934e-01,\n",
       "       9.99999981e-01, 9.99999996e-01, 9.99999965e-01, 9.99999934e-01,\n",
       "       6.44675558e-08, 9.99999996e-01, 2.30364636e-04, 9.99999926e-01,\n",
       "       9.99999996e-01, 8.17719389e-06, 9.99999934e-01, 5.01223402e-11,\n",
       "       1.75612655e-10, 9.90430454e-07, 9.99999257e-01, 9.99999948e-01,\n",
       "       3.11739627e-09, 9.99999934e-01, 1.53484166e-03, 3.15913375e-07,\n",
       "       9.99999934e-01, 2.38812493e-05, 9.99999934e-01, 1.49341774e-09,\n",
       "       9.99999981e-01, 9.99999996e-01, 9.99999930e-01, 8.13342026e-11,\n",
       "       9.99885111e-01, 9.99999934e-01, 4.78139085e-07, 9.99999948e-01,\n",
       "       9.99999257e-01, 9.99999996e-01, 9.02560662e-07, 9.99992772e-01,\n",
       "       2.07917483e-05, 9.99999978e-01, 2.35501002e-07, 3.93333888e-05,\n",
       "       9.99992772e-01, 9.99992772e-01, 9.99999934e-01, 9.99999965e-01,\n",
       "       8.28142045e-11, 4.95726224e-06, 9.99999934e-01, 9.99999998e-01,\n",
       "       9.99999934e-01, 9.99999934e-01, 9.99999998e-01, 9.99999257e-01,\n",
       "       9.99999978e-01, 9.99999981e-01, 2.06497968e-05, 9.15773010e-09,\n",
       "       9.99999996e-01, 1.73936738e-12, 9.99999934e-01, 9.90430454e-07,\n",
       "       1.23706201e-09, 9.99999981e-01, 9.90347328e-06, 7.74996808e-08,\n",
       "       1.49791125e-02, 9.99999965e-01, 9.99999930e-01, 3.59009433e-06,\n",
       "       7.70444224e-03, 4.90210540e-08, 1.43637368e-09, 9.99999996e-01,\n",
       "       2.41068567e-06, 9.99999998e-01, 9.99999257e-01, 6.83480694e-11,\n",
       "       2.02016627e-02, 1.63302658e-10, 9.99999257e-01, 9.80910106e-01,\n",
       "       7.25282469e-05, 9.99999934e-01, 9.99999934e-01, 9.99999948e-01,\n",
       "       1.15562920e-10, 3.26326427e-08, 9.99999934e-01, 2.34723649e-04,\n",
       "       9.99999934e-01, 9.99999998e-01, 4.78139085e-07, 9.99999930e-01,\n",
       "       9.99999978e-01, 9.99999934e-01, 9.99999930e-01, 3.77551325e-09,\n",
       "       3.11739627e-09, 9.99999934e-01, 2.67075328e-03, 1.52973382e-10,\n",
       "       9.99999934e-01, 9.99999998e-01, 9.90430454e-07, 5.01223402e-11,\n",
       "       9.98454466e-01, 9.99999926e-01, 9.99999934e-01, 9.99999981e-01,\n",
       "       9.99999965e-01, 9.69856610e-09, 9.99999934e-01, 9.99999948e-01,\n",
       "       9.96933887e-01, 9.99999934e-01, 9.90430454e-07, 2.27138217e-14,\n",
       "       2.00898867e-08, 1.53484166e-03, 9.99999934e-01, 1.33524349e-10,\n",
       "       1.30512500e-07, 1.07261808e-10, 9.90430454e-07, 8.40280777e-07,\n",
       "       9.99999965e-01, 9.99999934e-01, 9.99999996e-01, 3.82989965e-04,\n",
       "       2.30825822e-07, 2.30364636e-04, 9.99999934e-01, 9.99992772e-01,\n",
       "       9.99999948e-01, 9.99999934e-01, 9.99999996e-01, 9.99992772e-01,\n",
       "       9.99999930e-01, 9.99999998e-01, 1.39479216e-04, 9.99999257e-01,\n",
       "       9.90430454e-07, 2.90147555e-10, 9.99999257e-01, 2.29922905e-09,\n",
       "       2.59633722e-10, 3.77551325e-09, 9.99999965e-01, 5.97202351e-10,\n",
       "       9.99999934e-01, 9.99999934e-01, 9.02560662e-07, 5.28800711e-09,\n",
       "       9.99999934e-01, 9.99999257e-01, 9.99999930e-01, 1.23964822e-05,\n",
       "       1.04510411e-09, 9.90430454e-07, 9.99992772e-01, 9.99999257e-01,\n",
       "       9.99999934e-01, 8.21651106e-08, 9.99992772e-01, 1.17828493e-05,\n",
       "       9.90430454e-07, 6.50443796e-09, 7.36132400e-05, 9.99999996e-01,\n",
       "       9.99999926e-01, 9.99999996e-01, 6.45395891e-13, 5.01223402e-11,\n",
       "       2.35413610e-03, 3.15913375e-07, 9.99999996e-01, 9.99999934e-01,\n",
       "       1.30512500e-07, 9.99999934e-01, 9.99999934e-01, 3.11739627e-09,\n",
       "       9.99999965e-01, 2.67245697e-02, 9.90430454e-07, 9.99999978e-01,\n",
       "       9.90430454e-07, 2.64731270e-09, 2.45273517e-08, 3.76586714e-03,\n",
       "       9.99999965e-01, 1.51977212e-07, 9.99999926e-01, 2.07917483e-05,\n",
       "       9.99999934e-01, 1.19137199e-09, 9.99999996e-01, 6.45967119e-09,\n",
       "       1.10909008e-10, 9.99999934e-01, 9.99999934e-01, 9.99999934e-01,\n",
       "       9.99999257e-01, 3.59009433e-06, 3.11739627e-09, 1.53484166e-03,\n",
       "       2.93269012e-10, 9.90430454e-07, 2.59633722e-10, 8.69186017e-05,\n",
       "       9.99999934e-01, 9.99999948e-01, 5.01223402e-11, 9.99999998e-01,\n",
       "       1.12603460e-05, 9.39498724e-01, 1.53484166e-03, 3.64298592e-05,\n",
       "       3.35724565e-10, 2.59633722e-10, 9.99999965e-01, 9.99999981e-01,\n",
       "       9.99999996e-01, 9.99999930e-01, 9.99999978e-01])"
      ]
     },
     "execution_count": 187,
     "metadata": {},
     "output_type": "execute_result"
    }
   ],
   "source": [
    "#verifying that predict_proba works\n",
    "yhat_train = model.predict_proba(Xtrain)\n",
    "yhat_train[:, 0]"
   ]
  },
  {
   "cell_type": "markdown",
   "metadata": {},
   "source": [
    "LogisticRegression (Classifier) - Even though this is a classifier, we can output proba"
   ]
  },
  {
   "cell_type": "code",
   "execution_count": 188,
   "metadata": {},
   "outputs": [
    {
     "name": "stdout",
     "output_type": "stream",
     "text": [
      "Wall time: 0 ns\n",
      "updated train acc scores: [('LR TV', 1.0), ('LR CV', 1.0), ('LR Keras', 1.0), ('MNB TV', 0.9823788546255506), ('MNB Keras', 0.9779735682819384), ('BNB TV', 0.9779735682819384), ('BNB Keras', 0.9779735682819384), ('BNB CV', 0.9779735682819384), ('MNB CV', 0.9779735682819384)]\n",
      "updated test acc scores: [('MNB Keras', 1.0), ('LR TV', 1.0), ('MNB TV', 1.0), ('LR CV', 1.0), ('LR Keras', 1.0), ('BNB Keras', 0.9824561403508771), ('MNB CV', 0.9824561403508771), ('BNB TV', 0.9649122807017544), ('BNB CV', 0.9649122807017544)]\n"
     ]
    }
   ],
   "source": [
    "%time\n",
    "#remember to change 2 things: the id and the model algo\n",
    "id = 'LR'\n",
    "for Xtrain, Xtest, label in zip([Xtrain_CV, Xtrain_TV, Xtrain_Keras], \n",
    "                                [Xtest_CV, Xtest_TV, Xtest_Keras], \n",
    "                                ['CV', 'TV', 'Keras']):\n",
    "    model = LogisticRegression()\n",
    "    model.fit(Xtrain, ytrain)\n",
    "    BMTR_pred[id + ' ' + label] = model.predict(Xtrain)\n",
    "    BMTE_pred[id + ' ' + label] = model.predict(Xtest)\n",
    "    BMTR_acc_scores[id + ' ' + label] = accuracy_score(ytrain, BMTR_pred[id + ' ' + label])\n",
    "    BMTE_acc_scores[id + ' ' + label] = accuracy_score(ytest, BMTE_pred[id + ' ' + label])\n",
    "\n",
    "print('updated train acc scores: {}'.format(sorted(BMTR_acc_scores.items(), key = lambda x: x[1], reverse = True)))\n",
    "print('updated test acc scores: {}'.format(sorted(BMTE_acc_scores.items(), key = lambda x: x[1], reverse = True)))\n",
    "#CPU time: \n",
    "#AWS c5.large time: 0 ns"
   ]
  },
  {
   "cell_type": "code",
   "execution_count": 189,
   "metadata": {},
   "outputs": [
    {
     "data": {
      "text/plain": [
       "array([0.14244713, 0.97464149, 0.97464149, 0.97464149, 0.97754783,\n",
       "       0.98056485, 0.95821386, 0.97464149, 0.02817889, 0.98056485,\n",
       "       0.03768476, 0.95047697, 0.98056485, 0.03793826, 0.97464149,\n",
       "       0.00707582, 0.02827282, 0.01589016, 0.94393927, 0.95401433,\n",
       "       0.00927031, 0.97464149, 0.0706304 , 0.01541516, 0.97464149,\n",
       "       0.07326622, 0.97464149, 0.01064743, 0.97754783, 0.98056485,\n",
       "       0.93707617, 0.00722211, 0.37887575, 0.97464149, 0.01564729,\n",
       "       0.95401433, 0.94393927, 0.98056485, 0.02920115, 0.92036537,\n",
       "       0.03622271, 0.97717291, 0.04043826, 0.09271968, 0.92036537,\n",
       "       0.92036537, 0.97464149, 0.95821386, 0.00739133, 0.03434423,\n",
       "       0.97464149, 0.97003119, 0.97464149, 0.97464149, 0.97003119,\n",
       "       0.94393927, 0.97717291, 0.97754783, 0.04329401, 0.01879384,\n",
       "       0.98056485, 0.00559774, 0.97464149, 0.01589016, 0.00926219,\n",
       "       0.97754783, 0.03822549, 0.01737138, 0.10556568, 0.95821386,\n",
       "       0.93707617, 0.05876916, 0.10571201, 0.01379472, 0.02373218,\n",
       "       0.98056485, 0.02457826, 0.97003119, 0.94393927, 0.00884788,\n",
       "       0.12408663, 0.01506043, 0.94393927, 0.2713209 , 0.05420131,\n",
       "       0.97464149, 0.97464149, 0.95401433, 0.0230653 , 0.02086311,\n",
       "       0.97464149, 0.06166134, 0.97464149, 0.97003119, 0.01564729,\n",
       "       0.93707617, 0.97717291, 0.97464149, 0.93707617, 0.01066261,\n",
       "       0.00927031, 0.97464149, 0.10974325, 0.00814839, 0.97464149,\n",
       "       0.97003119, 0.01589016, 0.00707582, 0.26265637, 0.95047697,\n",
       "       0.97464149, 0.97754783, 0.95821386, 0.01096045, 0.97464149,\n",
       "       0.95401433, 0.2435919 , 0.97464149, 0.01589016, 0.03534432,\n",
       "       0.01107993, 0.0706304 , 0.97464149, 0.01617987, 0.01432487,\n",
       "       0.00679395, 0.01589016, 0.03038673, 0.95821386, 0.97464149,\n",
       "       0.98056485, 0.09321054, 0.01541516, 0.03768476, 0.97464149,\n",
       "       0.92036537, 0.95401433, 0.97464149, 0.98056485, 0.92036537,\n",
       "       0.93707617, 0.97003119, 0.05128834, 0.94393927, 0.01589016,\n",
       "       0.01441546, 0.94393927, 0.01065896, 0.00832947, 0.00932265,\n",
       "       0.95821386, 0.00917841, 0.97464149, 0.97464149, 0.02920115,\n",
       "       0.01095666, 0.97464149, 0.94393927, 0.93707617, 0.04905423,\n",
       "       0.01000339, 0.01589016, 0.92036537, 0.94393927, 0.97464149,\n",
       "       0.03148263, 0.92036537, 0.04199288, 0.01589016, 0.01352642,\n",
       "       0.05656967, 0.98056485, 0.95047697, 0.98056485, 0.00657945,\n",
       "       0.00707582, 0.07834461, 0.01541516, 0.98056485, 0.97464149,\n",
       "       0.01432487, 0.97464149, 0.97464149, 0.00986552, 0.95821386,\n",
       "       0.11784411, 0.01589016, 0.97717291, 0.01589016, 0.00889401,\n",
       "       0.01285854, 0.10018527, 0.95821386, 0.05678845, 0.95047697,\n",
       "       0.03622271, 0.97464149, 0.03121622, 0.98056485, 0.01243324,\n",
       "       0.00572417, 0.97464149, 0.97464149, 0.97464149, 0.94393927,\n",
       "       0.05876916, 0.00927031, 0.0706304 , 0.0090043 , 0.01589016,\n",
       "       0.00831046, 0.08776288, 0.97464149, 0.95401433, 0.00707582,\n",
       "       0.97003119, 0.03030246, 0.39423881, 0.0706304 , 0.053179  ,\n",
       "       0.00637133, 0.00832947, 0.95821386, 0.97754783, 0.98056485,\n",
       "       0.93707617, 0.97717291])"
      ]
     },
     "execution_count": 189,
     "metadata": {},
     "output_type": "execute_result"
    }
   ],
   "source": [
    "#verifying that predict_proba works\n",
    "yhat_train = model.predict_proba(Xtrain)\n",
    "yhat_train[:, 0]"
   ]
  },
  {
   "cell_type": "markdown",
   "metadata": {},
   "source": [
    "KNN"
   ]
  },
  {
   "cell_type": "code",
   "execution_count": 190,
   "metadata": {},
   "outputs": [
    {
     "name": "stdout",
     "output_type": "stream",
     "text": [
      "Wall time: 0 ns\n",
      "updated train acc scores: [('LR TV', 1.0), ('LR CV', 1.0), ('LR Keras', 1.0), ('KNN Keras', 0.9911894273127754), ('KNN TV', 0.986784140969163), ('MNB TV', 0.9823788546255506), ('BNB CV', 0.9779735682819384), ('MNB CV', 0.9779735682819384), ('MNB Keras', 0.9779735682819384), ('BNB TV', 0.9779735682819384), ('BNB Keras', 0.9779735682819384), ('KNN CV', 0.9779735682819384)]\n",
      "updated test acc scores: [('LR TV', 1.0), ('MNB TV', 1.0), ('LR CV', 1.0), ('KNN TV', 1.0), ('MNB Keras', 1.0), ('LR Keras', 1.0), ('MNB CV', 0.9824561403508771), ('KNN Keras', 0.9824561403508771), ('BNB Keras', 0.9824561403508771), ('BNB CV', 0.9649122807017544), ('BNB TV', 0.9649122807017544), ('KNN CV', 0.8771929824561403)]\n"
     ]
    }
   ],
   "source": [
    "%time\n",
    "#remember to change 2 things: the id and the model algo\n",
    "id = 'KNN'\n",
    "for Xtrain, Xtest, label in zip([Xtrain_CV, Xtrain_TV, Xtrain_Keras], \n",
    "                                [Xtest_CV, Xtest_TV, Xtest_Keras], \n",
    "                                ['CV', 'TV', 'Keras']):\n",
    "    model = KNeighborsClassifier()\n",
    "    model.fit(Xtrain, ytrain)\n",
    "    BMTR_pred[id + ' ' + label] = model.predict(Xtrain)\n",
    "    BMTE_pred[id + ' ' + label] = model.predict(Xtest)\n",
    "    BMTR_acc_scores[id + ' ' + label] = accuracy_score(ytrain, BMTR_pred[id + ' ' + label])\n",
    "    BMTE_acc_scores[id + ' ' + label] = accuracy_score(ytest, BMTE_pred[id + ' ' + label])\n",
    "\n",
    "print('updated train acc scores: {}'.format(sorted(BMTR_acc_scores.items(), key = lambda x: x[1], reverse = True)))\n",
    "print('updated test acc scores: {}'.format(sorted(BMTE_acc_scores.items(), key = lambda x: x[1], reverse = True)))\n",
    "#CPU time: \n",
    "#AWS c5.large time: 0 ns"
   ]
  },
  {
   "cell_type": "code",
   "execution_count": 191,
   "metadata": {},
   "outputs": [
    {
     "data": {
      "text/plain": [
       "array([0. , 1. , 1. , 1. , 1. , 1. , 1. , 1. , 0. , 1. , 0. , 1. , 1. ,\n",
       "       0. , 1. , 0. , 0. , 0. , 1. , 1. , 0. , 1. , 0. , 0. , 1. , 0. ,\n",
       "       1. , 0. , 1. , 1. , 1. , 0. , 0.8, 1. , 0. , 1. , 1. , 1. , 0. ,\n",
       "       1. , 0. , 1. , 0. , 0. , 1. , 1. , 1. , 1. , 0. , 0. , 1. , 1. ,\n",
       "       1. , 1. , 1. , 1. , 1. , 1. , 0. , 0. , 1. , 0. , 1. , 0. , 0. ,\n",
       "       1. , 0. , 0. , 0. , 1. , 1. , 0. , 0. , 0. , 0. , 1. , 0. , 1. ,\n",
       "       1. , 0. , 0. , 0. , 1. , 0.2, 0. , 1. , 1. , 1. , 0. , 0. , 1. ,\n",
       "       0. , 1. , 1. , 0. , 1. , 1. , 1. , 1. , 0. , 0. , 1. , 0.2, 0. ,\n",
       "       1. , 1. , 0. , 0. , 0.2, 1. , 1. , 1. , 1. , 0. , 1. , 1. , 0.2,\n",
       "       1. , 0. , 0. , 0. , 0. , 1. , 0. , 0. , 0. , 0. , 0. , 1. , 1. ,\n",
       "       1. , 0. , 0. , 0. , 1. , 1. , 1. , 1. , 1. , 1. , 1. , 1. , 0. ,\n",
       "       1. , 0. , 0. , 1. , 0. , 0. , 0. , 1. , 0. , 1. , 1. , 0. , 0. ,\n",
       "       1. , 1. , 1. , 0. , 0. , 0. , 1. , 1. , 1. , 0. , 1. , 0. , 0. ,\n",
       "       0. , 0. , 1. , 1. , 1. , 0. , 0. , 0. , 0. , 1. , 1. , 0. , 1. ,\n",
       "       1. , 0. , 1. , 0. , 0. , 1. , 0. , 0. , 0. , 0. , 1. , 0. , 1. ,\n",
       "       0. , 1. , 0. , 1. , 0. , 0. , 1. , 1. , 1. , 1. , 0. , 0. , 0. ,\n",
       "       0. , 0. , 0. , 0. , 1. , 1. , 0. , 1. , 0. , 0.8, 0. , 0. , 0. ,\n",
       "       0. , 1. , 1. , 1. , 1. , 1. ])"
      ]
     },
     "execution_count": 191,
     "metadata": {},
     "output_type": "execute_result"
    }
   ],
   "source": [
    "#verifying that predict_proba works\n",
    "yhat_train = model.predict_proba(Xtrain)\n",
    "yhat_train[:, 0]"
   ]
  },
  {
   "cell_type": "markdown",
   "metadata": {},
   "source": [
    "SVM"
   ]
  },
  {
   "cell_type": "code",
   "execution_count": 194,
   "metadata": {},
   "outputs": [
    {
     "name": "stdout",
     "output_type": "stream",
     "text": [
      "Wall time: 0 ns\n",
      "updated train acc scores: [('LR TV', 1.0), ('LR CV', 1.0), ('LR Keras', 1.0), ('KNN Keras', 0.9911894273127754), ('KNN TV', 0.986784140969163), ('MNB TV', 0.9823788546255506), ('BNB CV', 0.9779735682819384), ('MNB CV', 0.9779735682819384), ('MNB Keras', 0.9779735682819384), ('BNB TV', 0.9779735682819384), ('BNB Keras', 0.9779735682819384), ('KNN CV', 0.9779735682819384), ('SVM Keras', 0.973568281938326), ('SVM CV', 0.9030837004405287), ('SVM TV', 0.5066079295154186)]\n",
      "updated test acc scores: [('LR TV', 1.0), ('MNB TV', 1.0), ('LR CV', 1.0), ('KNN TV', 1.0), ('MNB Keras', 1.0), ('LR Keras', 1.0), ('MNB CV', 0.9824561403508771), ('KNN Keras', 0.9824561403508771), ('BNB Keras', 0.9824561403508771), ('BNB CV', 0.9649122807017544), ('BNB TV', 0.9649122807017544), ('SVM Keras', 0.9473684210526315), ('KNN CV', 0.8771929824561403), ('SVM CV', 0.8421052631578947), ('SVM TV', 0.47368421052631576)]\n"
     ]
    }
   ],
   "source": [
    "%time\n",
    "#remember to change 2 things: the id and the model algo\n",
    "id = 'SVM'\n",
    "for Xtrain, Xtest, label in zip([Xtrain_CV, Xtrain_TV, Xtrain_Keras], \n",
    "                                [Xtest_CV, Xtest_TV, Xtest_Keras], \n",
    "                                ['CV', 'TV', 'Keras']):\n",
    "    model = SVC(probability = True)\n",
    "    model.fit(Xtrain, ytrain)\n",
    "    BMTR_pred[id + ' ' + label] = model.predict(Xtrain)\n",
    "    BMTE_pred[id + ' ' + label] = model.predict(Xtest)\n",
    "    BMTR_acc_scores[id + ' ' + label] = accuracy_score(ytrain, BMTR_pred[id + ' ' + label])\n",
    "    BMTE_acc_scores[id + ' ' + label] = accuracy_score(ytest, BMTE_pred[id + ' ' + label])\n",
    "\n",
    "print('updated train acc scores: {}'.format(sorted(BMTR_acc_scores.items(), key = lambda x: x[1], reverse = True)))\n",
    "print('updated test acc scores: {}'.format(sorted(BMTE_acc_scores.items(), key = lambda x: x[1], reverse = True)))\n",
    "#CPU time: \n",
    "#AWS c5.large time: 0 ns"
   ]
  },
  {
   "cell_type": "code",
   "execution_count": 195,
   "metadata": {},
   "outputs": [
    {
     "data": {
      "text/plain": [
       "array([5.06475268e-02, 9.82755329e-01, 9.82755329e-01, 9.82755329e-01,\n",
       "       9.82797489e-01, 9.82797489e-01, 9.82715483e-01, 9.82755329e-01,\n",
       "       1.84565515e-06, 9.82797489e-01, 2.28467610e-06, 9.82539681e-01,\n",
       "       9.82797489e-01, 8.55049041e-07, 9.82755329e-01, 2.83904202e-09,\n",
       "       7.77750324e-07, 1.07291524e-08, 9.58554371e-01, 9.82715483e-01,\n",
       "       5.20366048e-09, 9.82755329e-01, 1.48707519e-02, 8.46916508e-09,\n",
       "       9.82755329e-01, 4.35392958e-03, 9.82755329e-01, 6.20591907e-09,\n",
       "       9.82797489e-01, 9.82797489e-01, 9.82747966e-01, 1.89942477e-09,\n",
       "       9.18184690e-01, 9.82755329e-01, 9.63506341e-09, 9.82715483e-01,\n",
       "       9.58554371e-01, 9.82797489e-01, 5.77650375e-07, 8.59183233e-01,\n",
       "       1.11124384e-06, 9.82776885e-01, 2.05597117e-06, 2.09271754e-02,\n",
       "       8.59183233e-01, 8.59183233e-01, 9.82755329e-01, 9.82715483e-01,\n",
       "       2.58750532e-09, 8.69748921e-07, 9.82755329e-01, 9.82707466e-01,\n",
       "       9.82755329e-01, 9.82755329e-01, 9.82707466e-01, 9.58554371e-01,\n",
       "       9.82776885e-01, 9.82797489e-01, 1.40152169e-06, 1.08252114e-07,\n",
       "       9.82797489e-01, 6.19156709e-10, 9.82755329e-01, 1.07291524e-08,\n",
       "       5.84901559e-09, 9.82797489e-01, 8.55544794e-07, 6.48484431e-08,\n",
       "       3.46872579e-02, 9.82715483e-01, 9.82747966e-01, 4.47356738e-03,\n",
       "       3.45872146e-02, 6.74361596e-09, 2.56734004e-06, 9.82797489e-01,\n",
       "       1.23829745e-07, 9.82707466e-01, 9.58554371e-01, 6.02492556e-09,\n",
       "       4.00255648e-02, 2.44058254e-08, 9.58554371e-01, 5.77118419e-01,\n",
       "       4.23301038e-06, 9.82755329e-01, 9.82755329e-01, 9.82715483e-01,\n",
       "       6.00223415e-07, 2.51360115e-07, 9.82755329e-01, 1.38217385e-02,\n",
       "       9.82755329e-01, 9.82707466e-01, 9.63506341e-09, 9.82747966e-01,\n",
       "       9.82776885e-01, 9.82755329e-01, 9.82747966e-01, 5.86262054e-09,\n",
       "       5.20366048e-09, 9.82755329e-01, 2.10594660e-02, 2.84561526e-09,\n",
       "       9.82755329e-01, 9.82707466e-01, 1.07291524e-08, 2.83904202e-09,\n",
       "       6.95416329e-01, 9.82539681e-01, 9.82755329e-01, 9.82797489e-01,\n",
       "       9.82715483e-01, 6.23206628e-09, 9.82755329e-01, 9.82715483e-01,\n",
       "       6.60038564e-01, 9.82755329e-01, 1.07291524e-08, 5.68510565e-06,\n",
       "       6.48663497e-09, 1.48707519e-02, 9.82755329e-01, 8.49914512e-07,\n",
       "       7.47488957e-09, 1.96203148e-09, 1.07291524e-08, 1.24143710e-06,\n",
       "       9.82715483e-01, 9.82755329e-01, 9.82797489e-01, 9.92738102e-03,\n",
       "       8.66193503e-09, 2.28467610e-06, 9.82755329e-01, 8.59183233e-01,\n",
       "       9.82715483e-01, 9.82755329e-01, 9.82797489e-01, 8.59183233e-01,\n",
       "       9.82747966e-01, 9.82707466e-01, 3.83373245e-06, 9.58554371e-01,\n",
       "       1.07291524e-08, 2.08424549e-08, 9.58554371e-01, 6.23751568e-09,\n",
       "       3.22227133e-09, 4.58735433e-09, 9.82715483e-01, 5.99235255e-09,\n",
       "       9.82755329e-01, 9.82755329e-01, 5.77650375e-07, 3.61164300e-09,\n",
       "       9.82755329e-01, 9.58554371e-01, 9.82747966e-01, 3.24916746e-06,\n",
       "       6.03255866e-09, 1.07291524e-08, 8.59183233e-01, 9.58554371e-01,\n",
       "       9.82755329e-01, 4.15382386e-07, 8.59183233e-01, 5.40125514e-03,\n",
       "       1.07291524e-08, 3.49890937e-08, 1.26150786e-02, 9.82797489e-01,\n",
       "       9.82539681e-01, 9.82797489e-01, 2.88013944e-09, 2.83904202e-09,\n",
       "       2.52507271e-02, 8.46916508e-09, 9.82797489e-01, 9.82755329e-01,\n",
       "       7.47488957e-09, 9.82755329e-01, 9.82755329e-01, 4.55099130e-09,\n",
       "       9.82715483e-01, 3.13709213e-02, 1.07291524e-08, 9.82776885e-01,\n",
       "       1.07291524e-08, 4.03529013e-09, 5.26224216e-09, 9.69319346e-03,\n",
       "       9.82715483e-01, 1.00812014e-05, 9.82539681e-01, 1.11124384e-06,\n",
       "       9.82755329e-01, 1.61014942e-06, 9.82797489e-01, 4.72482404e-09,\n",
       "       2.52447056e-09, 9.82755329e-01, 9.82755329e-01, 9.82755329e-01,\n",
       "       9.58554371e-01, 4.47356738e-03, 5.20366048e-09, 1.48707519e-02,\n",
       "       5.73978686e-09, 1.07291524e-08, 3.10151724e-09, 9.29911213e-03,\n",
       "       9.82755329e-01, 9.82715483e-01, 2.83904202e-09, 9.82707466e-01,\n",
       "       1.11412764e-06, 3.40493686e-01, 1.48707519e-02, 1.00850960e-02,\n",
       "       2.87932640e-09, 3.22227133e-09, 9.82715483e-01, 9.82797489e-01,\n",
       "       9.82797489e-01, 9.82747966e-01, 9.82776885e-01])"
      ]
     },
     "execution_count": 195,
     "metadata": {},
     "output_type": "execute_result"
    }
   ],
   "source": [
    "#verifying that predict_proba works\n",
    "yhat_train = model.predict_proba(Xtrain)\n",
    "yhat_train[:, 0]"
   ]
  },
  {
   "cell_type": "markdown",
   "metadata": {},
   "source": [
    "RandomForest"
   ]
  },
  {
   "cell_type": "code",
   "execution_count": 196,
   "metadata": {},
   "outputs": [
    {
     "name": "stdout",
     "output_type": "stream",
     "text": [
      "Wall time: 0 ns\n",
      "updated train acc scores: [('LR TV', 1.0), ('RF Keras', 1.0), ('RF CV', 1.0), ('LR CV', 1.0), ('RF TV', 1.0), ('LR Keras', 1.0), ('KNN Keras', 0.9911894273127754), ('KNN TV', 0.986784140969163), ('MNB TV', 0.9823788546255506), ('BNB CV', 0.9779735682819384), ('MNB CV', 0.9779735682819384), ('MNB Keras', 0.9779735682819384), ('BNB TV', 0.9779735682819384), ('BNB Keras', 0.9779735682819384), ('KNN CV', 0.9779735682819384), ('SVM Keras', 0.973568281938326), ('SVM CV', 0.9030837004405287), ('SVM TV', 0.5066079295154186)]\n",
      "updated test acc scores: [('LR TV', 1.0), ('MNB TV', 1.0), ('RF Keras', 1.0), ('LR CV', 1.0), ('KNN TV', 1.0), ('MNB Keras', 1.0), ('RF TV', 1.0), ('LR Keras', 1.0), ('RF CV', 0.9824561403508771), ('MNB CV', 0.9824561403508771), ('KNN Keras', 0.9824561403508771), ('BNB Keras', 0.9824561403508771), ('BNB CV', 0.9649122807017544), ('BNB TV', 0.9649122807017544), ('SVM Keras', 0.9473684210526315), ('KNN CV', 0.8771929824561403), ('SVM CV', 0.8421052631578947), ('SVM TV', 0.47368421052631576)]\n"
     ]
    }
   ],
   "source": [
    "%time\n",
    "#remember to change 2 things: the id and the model algo\n",
    "id = 'RF'\n",
    "for Xtrain, Xtest, label in zip([Xtrain_CV, Xtrain_TV, Xtrain_Keras], \n",
    "                                [Xtest_CV, Xtest_TV, Xtest_Keras], \n",
    "                                ['CV', 'TV', 'Keras']):\n",
    "    model = RandomForestClassifier()\n",
    "    model.fit(Xtrain, ytrain)\n",
    "    BMTR_pred[id + ' ' + label] = model.predict(Xtrain)\n",
    "    BMTE_pred[id + ' ' + label] = model.predict(Xtest)\n",
    "    BMTR_acc_scores[id + ' ' + label] = accuracy_score(ytrain, BMTR_pred[id + ' ' + label])\n",
    "    BMTE_acc_scores[id + ' ' + label] = accuracy_score(ytest, BMTE_pred[id + ' ' + label])\n",
    "\n",
    "print('updated train acc scores: {}'.format(sorted(BMTR_acc_scores.items(), key = lambda x: x[1], reverse = True)))\n",
    "print('updated test acc scores: {}'.format(sorted(BMTE_acc_scores.items(), key = lambda x: x[1], reverse = True)))\n",
    "#CPU time: \n",
    "#AWS c5.large time: 0 ns"
   ]
  },
  {
   "cell_type": "code",
   "execution_count": 197,
   "metadata": {},
   "outputs": [
    {
     "data": {
      "text/plain": [
       "array([0.1, 1. , 1. , 1. , 1. , 1. , 1. , 1. , 0. , 1. , 0. , 1. , 1. ,\n",
       "       0. , 1. , 0. , 0. , 0. , 1. , 1. , 0. , 1. , 0. , 0. , 1. , 0. ,\n",
       "       1. , 0. , 1. , 1. , 1. , 0. , 0.1, 1. , 0. , 1. , 1. , 1. , 0. ,\n",
       "       1. , 0. , 1. , 0. , 0. , 1. , 1. , 1. , 1. , 0. , 0. , 1. , 1. ,\n",
       "       1. , 1. , 1. , 1. , 1. , 1. , 0. , 0. , 1. , 0. , 1. , 0. , 0. ,\n",
       "       1. , 0. , 0. , 0. , 1. , 1. , 0. , 0. , 0. , 0. , 1. , 0. , 1. ,\n",
       "       1. , 0. , 0. , 0. , 1. , 0. , 0. , 1. , 1. , 1. , 0. , 0. , 1. ,\n",
       "       0. , 1. , 1. , 0. , 1. , 1. , 1. , 1. , 0. , 0. , 1. , 0. , 0. ,\n",
       "       1. , 1. , 0. , 0. , 0.1, 1. , 1. , 1. , 1. , 0. , 1. , 1. , 0.1,\n",
       "       1. , 0. , 0. , 0. , 0. , 1. , 0. , 0. , 0. , 0. , 0. , 1. , 1. ,\n",
       "       1. , 0. , 0. , 0. , 1. , 1. , 1. , 1. , 1. , 1. , 1. , 1. , 0. ,\n",
       "       1. , 0. , 0. , 1. , 0. , 0. , 0. , 1. , 0. , 1. , 1. , 0. , 0. ,\n",
       "       1. , 1. , 1. , 0. , 0. , 0. , 1. , 1. , 1. , 0. , 1. , 0. , 0. ,\n",
       "       0. , 0. , 1. , 1. , 1. , 0. , 0. , 0. , 0. , 1. , 1. , 0. , 1. ,\n",
       "       1. , 0. , 1. , 0. , 0. , 1. , 0. , 0. , 0. , 0. , 1. , 0.1, 1. ,\n",
       "       0. , 1. , 0. , 1. , 0. , 0. , 1. , 1. , 1. , 1. , 0. , 0. , 0. ,\n",
       "       0. , 0. , 0. , 0. , 1. , 1. , 0. , 1. , 0. , 0. , 0. , 0. , 0. ,\n",
       "       0. , 1. , 1. , 1. , 1. , 1. ])"
      ]
     },
     "execution_count": 197,
     "metadata": {},
     "output_type": "execute_result"
    }
   ],
   "source": [
    "#verifying that predict_proba works\n",
    "yhat_train = model.predict_proba(Xtrain)\n",
    "yhat_train[:, 0]"
   ]
  },
  {
   "cell_type": "markdown",
   "metadata": {},
   "source": [
    "AdaBoost"
   ]
  },
  {
   "cell_type": "code",
   "execution_count": 198,
   "metadata": {},
   "outputs": [
    {
     "name": "stdout",
     "output_type": "stream",
     "text": [
      "Wall time: 0 ns\n",
      "updated train acc scores: [('LR TV', 1.0), ('RF Keras', 1.0), ('AB TV', 1.0), ('RF CV', 1.0), ('AB Keras', 1.0), ('LR CV', 1.0), ('AB CV', 1.0), ('RF TV', 1.0), ('LR Keras', 1.0), ('KNN Keras', 0.9911894273127754), ('KNN TV', 0.986784140969163), ('MNB TV', 0.9823788546255506), ('BNB CV', 0.9779735682819384), ('MNB CV', 0.9779735682819384), ('MNB Keras', 0.9779735682819384), ('BNB TV', 0.9779735682819384), ('BNB Keras', 0.9779735682819384), ('KNN CV', 0.9779735682819384), ('SVM Keras', 0.973568281938326), ('SVM CV', 0.9030837004405287), ('SVM TV', 0.5066079295154186)]\n",
      "updated test acc scores: [('LR TV', 1.0), ('MNB TV', 1.0), ('RF Keras', 1.0), ('AB TV', 1.0), ('AB Keras', 1.0), ('LR CV', 1.0), ('KNN TV', 1.0), ('MNB Keras', 1.0), ('AB CV', 1.0), ('RF TV', 1.0), ('LR Keras', 1.0), ('RF CV', 0.9824561403508771), ('MNB CV', 0.9824561403508771), ('KNN Keras', 0.9824561403508771), ('BNB Keras', 0.9824561403508771), ('BNB CV', 0.9649122807017544), ('BNB TV', 0.9649122807017544), ('SVM Keras', 0.9473684210526315), ('KNN CV', 0.8771929824561403), ('SVM CV', 0.8421052631578947), ('SVM TV', 0.47368421052631576)]\n"
     ]
    }
   ],
   "source": [
    "%time\n",
    "#remember to change 2 things: the id and the model algo\n",
    "id = 'AB'\n",
    "for Xtrain, Xtest, label in zip([Xtrain_CV, Xtrain_TV, Xtrain_Keras], \n",
    "                                [Xtest_CV, Xtest_TV, Xtest_Keras], \n",
    "                                ['CV', 'TV', 'Keras']):\n",
    "    model = AdaBoostClassifier()\n",
    "    model.fit(Xtrain, ytrain)\n",
    "    BMTR_pred[id + ' ' + label] = model.predict(Xtrain)\n",
    "    BMTE_pred[id + ' ' + label] = model.predict(Xtest)\n",
    "    BMTR_acc_scores[id + ' ' + label] = accuracy_score(ytrain, BMTR_pred[id + ' ' + label])\n",
    "    BMTE_acc_scores[id + ' ' + label] = accuracy_score(ytest, BMTE_pred[id + ' ' + label])\n",
    "\n",
    "print('updated train acc scores: {}'.format(sorted(BMTR_acc_scores.items(), key = lambda x: x[1], reverse = True)))\n",
    "print('updated test acc scores: {}'.format(sorted(BMTE_acc_scores.items(), key = lambda x: x[1], reverse = True)))\n",
    "#CPU time: \n",
    "#AWS c5.large time: 0 ns"
   ]
  },
  {
   "cell_type": "code",
   "execution_count": 199,
   "metadata": {},
   "outputs": [
    {
     "data": {
      "text/plain": [
       "array([1.03788559e-03, 9.98992383e-01, 9.98992383e-01, 9.98992383e-01,\n",
       "       9.98992383e-01, 9.98992383e-01, 9.99216423e-01, 9.98992383e-01,\n",
       "       1.03788559e-03, 9.98992383e-01, 4.92574148e-04, 9.99216423e-01,\n",
       "       9.98992383e-01, 4.92574148e-04, 9.98992383e-01, 4.92574148e-04,\n",
       "       1.03788559e-03, 4.92574148e-04, 9.98601502e-01, 9.99216423e-01,\n",
       "       4.92574148e-04, 9.98992383e-01, 1.03788559e-03, 4.92574148e-04,\n",
       "       9.98992383e-01, 1.03788559e-03, 9.98992383e-01, 4.92574148e-04,\n",
       "       9.98992383e-01, 9.98992383e-01, 9.99216423e-01, 4.92574148e-04,\n",
       "       1.54442555e-03, 9.98992383e-01, 4.92574148e-04, 9.99216423e-01,\n",
       "       9.98601502e-01, 9.98992383e-01, 4.92574148e-04, 9.98601502e-01,\n",
       "       4.92574148e-04, 9.98992383e-01, 7.33170244e-04, 1.03788559e-03,\n",
       "       9.98601502e-01, 9.98601502e-01, 9.98992383e-01, 9.99216423e-01,\n",
       "       4.92574148e-04, 4.92574148e-04, 9.98992383e-01, 9.98601502e-01,\n",
       "       9.98992383e-01, 9.98992383e-01, 9.98601502e-01, 9.98601502e-01,\n",
       "       9.98992383e-01, 9.98992383e-01, 4.92574148e-04, 7.33170244e-04,\n",
       "       9.98992383e-01, 4.92574148e-04, 9.98992383e-01, 4.92574148e-04,\n",
       "       4.92574148e-04, 9.98992383e-01, 4.92574148e-04, 4.92574148e-04,\n",
       "       1.03788559e-03, 9.99216423e-01, 9.99216423e-01, 7.33170244e-04,\n",
       "       1.03788559e-03, 4.92574148e-04, 1.03788559e-03, 9.98992383e-01,\n",
       "       4.92574148e-04, 9.98601502e-01, 9.98601502e-01, 4.92574148e-04,\n",
       "       1.03788559e-03, 7.33170244e-04, 9.98601502e-01, 7.38058977e-04,\n",
       "       4.92574148e-04, 9.98992383e-01, 9.98992383e-01, 9.99216423e-01,\n",
       "       1.03788559e-03, 7.33170244e-04, 9.98992383e-01, 1.03788559e-03,\n",
       "       9.98992383e-01, 9.98601502e-01, 4.92574148e-04, 9.99216423e-01,\n",
       "       9.98992383e-01, 9.98992383e-01, 9.99216423e-01, 4.92574148e-04,\n",
       "       4.92574148e-04, 9.98992383e-01, 1.03788559e-03, 4.92574148e-04,\n",
       "       9.98992383e-01, 9.98601502e-01, 4.92574148e-04, 4.92574148e-04,\n",
       "       7.38058977e-04, 9.99216423e-01, 9.98992383e-01, 9.98992383e-01,\n",
       "       9.99216423e-01, 4.92574148e-04, 9.98992383e-01, 9.99216423e-01,\n",
       "       7.38058977e-04, 9.98992383e-01, 4.92574148e-04, 1.03788559e-03,\n",
       "       4.92574148e-04, 1.03788559e-03, 9.98992383e-01, 1.03788559e-03,\n",
       "       4.92574148e-04, 4.92574148e-04, 4.92574148e-04, 4.92574148e-04,\n",
       "       9.99216423e-01, 9.98992383e-01, 9.98992383e-01, 1.03788559e-03,\n",
       "       4.92574148e-04, 4.92574148e-04, 9.98992383e-01, 9.98601502e-01,\n",
       "       9.99216423e-01, 9.98992383e-01, 9.98992383e-01, 9.98601502e-01,\n",
       "       9.99216423e-01, 9.98601502e-01, 4.92574148e-04, 9.98601502e-01,\n",
       "       4.92574148e-04, 4.92574148e-04, 9.98601502e-01, 4.92574148e-04,\n",
       "       4.92574148e-04, 4.92574148e-04, 9.99216423e-01, 4.92574148e-04,\n",
       "       9.98992383e-01, 9.98992383e-01, 4.92574148e-04, 4.92574148e-04,\n",
       "       9.98992383e-01, 9.98601502e-01, 9.99216423e-01, 4.92574148e-04,\n",
       "       4.92574148e-04, 4.92574148e-04, 9.98601502e-01, 9.98601502e-01,\n",
       "       9.98992383e-01, 4.92574148e-04, 9.98601502e-01, 1.03788559e-03,\n",
       "       4.92574148e-04, 4.92574148e-04, 1.03788559e-03, 9.98992383e-01,\n",
       "       9.99216423e-01, 9.98992383e-01, 4.92574148e-04, 4.92574148e-04,\n",
       "       1.03788559e-03, 4.92574148e-04, 9.98992383e-01, 9.98992383e-01,\n",
       "       4.92574148e-04, 9.98992383e-01, 9.98992383e-01, 4.92574148e-04,\n",
       "       9.99216423e-01, 1.03788559e-03, 4.92574148e-04, 9.98992383e-01,\n",
       "       4.92574148e-04, 4.92574148e-04, 4.92574148e-04, 1.03788559e-03,\n",
       "       9.99216423e-01, 1.03788559e-03, 9.99216423e-01, 4.92574148e-04,\n",
       "       9.98992383e-01, 1.03788559e-03, 9.98992383e-01, 4.92574148e-04,\n",
       "       4.92574148e-04, 9.98992383e-01, 9.98992383e-01, 9.98992383e-01,\n",
       "       9.98601502e-01, 7.33170244e-04, 4.92574148e-04, 1.03788559e-03,\n",
       "       4.92574148e-04, 4.92574148e-04, 4.92574148e-04, 1.03788559e-03,\n",
       "       9.98992383e-01, 9.99216423e-01, 4.92574148e-04, 9.98601502e-01,\n",
       "       4.92574148e-04, 1.54442555e-03, 1.03788559e-03, 1.03788559e-03,\n",
       "       4.92574148e-04, 4.92574148e-04, 9.99216423e-01, 9.98992383e-01,\n",
       "       9.98992383e-01, 9.99216423e-01, 9.98992383e-01])"
      ]
     },
     "execution_count": 199,
     "metadata": {},
     "output_type": "execute_result"
    }
   ],
   "source": [
    "#verifying that predict_proba works\n",
    "yhat_train = model.predict_proba(Xtrain)\n",
    "yhat_train[:, 0]"
   ]
  },
  {
   "cell_type": "markdown",
   "metadata": {},
   "source": [
    "XGBoost"
   ]
  },
  {
   "cell_type": "code",
   "execution_count": 200,
   "metadata": {},
   "outputs": [
    {
     "name": "stdout",
     "output_type": "stream",
     "text": [
      "Wall time: 0 ns\n",
      "updated train acc scores: [('XGB TV', 1.0), ('AB CV', 1.0), ('AB Keras', 1.0), ('RF CV', 1.0), ('XGB Keras', 1.0), ('LR TV', 1.0), ('RF Keras', 1.0), ('AB TV', 1.0), ('LR CV', 1.0), ('XGB CV', 1.0), ('RF TV', 1.0), ('LR Keras', 1.0), ('KNN Keras', 0.9911894273127754), ('KNN TV', 0.986784140969163), ('MNB TV', 0.9823788546255506), ('MNB CV', 0.9779735682819384), ('MNB Keras', 0.9779735682819384), ('BNB Keras', 0.9779735682819384), ('KNN CV', 0.9779735682819384), ('BNB CV', 0.9779735682819384), ('BNB TV', 0.9779735682819384), ('SVM Keras', 0.973568281938326), ('SVM CV', 0.9030837004405287), ('SVM TV', 0.5066079295154186)]\n",
      "updated test acc scores: [('XGB TV', 1.0), ('AB CV', 1.0), ('AB Keras', 1.0), ('KNN TV', 1.0), ('MNB Keras', 1.0), ('XGB Keras', 1.0), ('LR TV', 1.0), ('MNB TV', 1.0), ('RF Keras', 1.0), ('AB TV', 1.0), ('LR CV', 1.0), ('XGB CV', 1.0), ('RF TV', 1.0), ('LR Keras', 1.0), ('RF CV', 0.9824561403508771), ('MNB CV', 0.9824561403508771), ('KNN Keras', 0.9824561403508771), ('BNB Keras', 0.9824561403508771), ('BNB CV', 0.9649122807017544), ('BNB TV', 0.9649122807017544), ('SVM Keras', 0.9473684210526315), ('KNN CV', 0.8771929824561403), ('SVM CV', 0.8421052631578947), ('SVM TV', 0.47368421052631576)]\n"
     ]
    },
    {
     "name": "stderr",
     "output_type": "stream",
     "text": [
      "c:\\users\\inves\\appdata\\local\\programs\\python\\python35\\lib\\site-packages\\sklearn\\preprocessing\\label.py:171: DeprecationWarning: The truth value of an empty array is ambiguous. Returning False, but in future this will result in an error. Use `array.size > 0` to check that an array is not empty.\n",
      "  if diff:\n",
      "c:\\users\\inves\\appdata\\local\\programs\\python\\python35\\lib\\site-packages\\sklearn\\preprocessing\\label.py:171: DeprecationWarning: The truth value of an empty array is ambiguous. Returning False, but in future this will result in an error. Use `array.size > 0` to check that an array is not empty.\n",
      "  if diff:\n",
      "c:\\users\\inves\\appdata\\local\\programs\\python\\python35\\lib\\site-packages\\sklearn\\preprocessing\\label.py:171: DeprecationWarning: The truth value of an empty array is ambiguous. Returning False, but in future this will result in an error. Use `array.size > 0` to check that an array is not empty.\n",
      "  if diff:\n",
      "c:\\users\\inves\\appdata\\local\\programs\\python\\python35\\lib\\site-packages\\sklearn\\preprocessing\\label.py:171: DeprecationWarning: The truth value of an empty array is ambiguous. Returning False, but in future this will result in an error. Use `array.size > 0` to check that an array is not empty.\n",
      "  if diff:\n",
      "c:\\users\\inves\\appdata\\local\\programs\\python\\python35\\lib\\site-packages\\sklearn\\preprocessing\\label.py:171: DeprecationWarning: The truth value of an empty array is ambiguous. Returning False, but in future this will result in an error. Use `array.size > 0` to check that an array is not empty.\n",
      "  if diff:\n",
      "c:\\users\\inves\\appdata\\local\\programs\\python\\python35\\lib\\site-packages\\sklearn\\preprocessing\\label.py:171: DeprecationWarning: The truth value of an empty array is ambiguous. Returning False, but in future this will result in an error. Use `array.size > 0` to check that an array is not empty.\n",
      "  if diff:\n"
     ]
    }
   ],
   "source": [
    "%time\n",
    "#remember to change 2 things: the id and the model algo\n",
    "id = 'XGB'\n",
    "for Xtrain, Xtest, label in zip([Xtrain_CV.toarray(), Xtrain_TV.toarray(), Xtrain_Keras], \n",
    "                                [Xtest_CV.toarray(), Xtest_TV.toarray(), Xtest_Keras], \n",
    "                                ['CV', 'TV', 'Keras']):\n",
    "    model = XGBClassifier()\n",
    "    model.fit(Xtrain, ytrain)\n",
    "    BMTR_pred[id + ' ' + label] = model.predict(Xtrain)\n",
    "    BMTE_pred[id + ' ' + label] = model.predict(Xtest)\n",
    "    BMTR_acc_scores[id + ' ' + label] = accuracy_score(ytrain, BMTR_pred[id + ' ' + label])\n",
    "    BMTE_acc_scores[id + ' ' + label] = accuracy_score(ytest, BMTE_pred[id + ' ' + label])\n",
    "\n",
    "print('updated train acc scores: {}'.format(sorted(BMTR_acc_scores.items(), key = lambda x: x[1], reverse = True)))\n",
    "print('updated test acc scores: {}'.format(sorted(BMTE_acc_scores.items(), key = lambda x: x[1], reverse = True)))\n",
    "#CPU time: \n",
    "#AWS c5.large time: 0 ns"
   ]
  },
  {
   "cell_type": "code",
   "execution_count": 201,
   "metadata": {},
   "outputs": [
    {
     "data": {
      "text/plain": [
       "array([0.01503849, 0.9877539 , 0.9877539 , 0.9877539 , 0.9877539 ,\n",
       "       0.9877539 , 0.97351706, 0.9877539 , 0.01516026, 0.9877539 ,\n",
       "       0.00776976, 0.97351706, 0.9877539 , 0.00776976, 0.9877539 ,\n",
       "       0.00776976, 0.00739455, 0.00776976, 0.9684637 , 0.97351706,\n",
       "       0.00776976, 0.9877539 , 0.00756425, 0.00776976, 0.9877539 ,\n",
       "       0.02009797, 0.9877539 , 0.00776976, 0.9877539 , 0.9877539 ,\n",
       "       0.9713758 , 0.00776976, 0.3560722 , 0.9877539 , 0.00776976,\n",
       "       0.97351706, 0.9684637 , 0.9877539 , 0.00776976, 0.9684637 ,\n",
       "       0.00776976, 0.9877539 , 0.01405913, 0.01132929, 0.9684637 ,\n",
       "       0.9684637 , 0.9877539 , 0.97351706, 0.00776976, 0.00776976,\n",
       "       0.9877539 , 0.9684637 , 0.9877539 , 0.9877539 , 0.9684637 ,\n",
       "       0.9684637 , 0.9877539 , 0.9877539 , 0.00776976, 0.01405913,\n",
       "       0.9877539 , 0.00776976, 0.9877539 , 0.00776976, 0.00776976,\n",
       "       0.9877539 , 0.00776976, 0.00776976, 0.00982827, 0.97351706,\n",
       "       0.9713758 , 0.01405913, 0.01503849, 0.00776976, 0.00739455,\n",
       "       0.9877539 , 0.00776976, 0.9684637 , 0.9684637 , 0.00776976,\n",
       "       0.00982827, 0.01405913, 0.9684637 , 0.18445277, 0.00776976,\n",
       "       0.9877539 , 0.9877539 , 0.97351706, 0.00739455, 0.01405913,\n",
       "       0.9877539 , 0.01132929, 0.9877539 , 0.9684637 , 0.00776976,\n",
       "       0.9713758 , 0.9877539 , 0.9877539 , 0.9713758 , 0.00776976,\n",
       "       0.00776976, 0.9877539 , 0.00982827, 0.00776976, 0.9877539 ,\n",
       "       0.9684637 , 0.00776976, 0.00776976, 0.17272747, 0.97351706,\n",
       "       0.9877539 , 0.9877539 , 0.97351706, 0.00776976, 0.9877539 ,\n",
       "       0.97351706, 0.17272747, 0.9877539 , 0.00776976, 0.01503849,\n",
       "       0.00776976, 0.00756425, 0.9877539 , 0.00739455, 0.00776976,\n",
       "       0.00776976, 0.00776976, 0.00776976, 0.97351706, 0.9877539 ,\n",
       "       0.9877539 , 0.00982827, 0.00776976, 0.00776976, 0.9877539 ,\n",
       "       0.9684637 , 0.97351706, 0.9877539 , 0.9877539 , 0.9684637 ,\n",
       "       0.9713758 , 0.9684637 , 0.00776976, 0.9684637 , 0.00776976,\n",
       "       0.00776976, 0.9684637 , 0.00776976, 0.00776976, 0.00776976,\n",
       "       0.97351706, 0.00776976, 0.9877539 , 0.9877539 , 0.00776976,\n",
       "       0.00776976, 0.9877539 , 0.9684637 , 0.9713758 , 0.00776976,\n",
       "       0.00776976, 0.00776976, 0.9684637 , 0.9684637 , 0.9877539 ,\n",
       "       0.00776976, 0.9684637 , 0.00756425, 0.00776976, 0.00776976,\n",
       "       0.01132929, 0.9877539 , 0.97351706, 0.9877539 , 0.00776976,\n",
       "       0.00776976, 0.00982827, 0.00776976, 0.9877539 , 0.9877539 ,\n",
       "       0.00776976, 0.9877539 , 0.9877539 , 0.00776976, 0.97351706,\n",
       "       0.00756425, 0.00776976, 0.9877539 , 0.00776976, 0.00776976,\n",
       "       0.00776976, 0.00982827, 0.97351706, 0.02009797, 0.97351706,\n",
       "       0.00776976, 0.9877539 , 0.00739455, 0.9877539 , 0.00776976,\n",
       "       0.00776976, 0.9877539 , 0.9877539 , 0.9877539 , 0.9684637 ,\n",
       "       0.01405913, 0.00776976, 0.00756425, 0.00776976, 0.00776976,\n",
       "       0.00776976, 0.00982827, 0.9877539 , 0.97351706, 0.00776976,\n",
       "       0.9684637 , 0.00776976, 0.33587217, 0.00756425, 0.01132929,\n",
       "       0.00776976, 0.00776976, 0.97351706, 0.9877539 , 0.9877539 ,\n",
       "       0.9713758 , 0.9877539 ], dtype=float32)"
      ]
     },
     "execution_count": 201,
     "metadata": {},
     "output_type": "execute_result"
    }
   ],
   "source": [
    "#verifying that predict_proba works\n",
    "yhat_train = model.predict_proba(Xtrain)\n",
    "yhat_train[:, 0]"
   ]
  },
  {
   "cell_type": "markdown",
   "metadata": {},
   "source": [
    "Keras"
   ]
  },
  {
   "cell_type": "code",
   "execution_count": 210,
   "metadata": {},
   "outputs": [],
   "source": [
    "def keras_prelim():\n",
    "    model = Sequential()\n",
    "    model.add(Dense(512, input_shape = (Xtrain_CV.shape[1], )))\n",
    "    model.add(Activation('relu'))\n",
    "    model.add(Dropout(0.2))\n",
    "    model.add(Dense(512))\n",
    "    model.add(Activation('relu'))\n",
    "    model.add(Dropout(0.2))\n",
    "    model.add(Dense(num_classes))\n",
    "    model.add(Activation('softmax'))\n",
    "\n",
    "    model.compile(loss = 'categorical_crossentropy', optimizer = 'adam', metrics = ['accuracy'])\n",
    "    return model"
   ]
  },
  {
   "cell_type": "code",
   "execution_count": 211,
   "metadata": {
    "scrolled": true
   },
   "outputs": [
    {
     "name": "stdout",
     "output_type": "stream",
     "text": [
      "Train on 204 samples, validate on 23 samples\n",
      "Epoch 1/10\n",
      "204/204 [==============================] - 1s - loss: 0.3222 - acc: 0.9167 - val_loss: 0.0693 - val_acc: 0.9565\n",
      "Epoch 2/10\n",
      "204/204 [==============================] - 0s - loss: 0.0246 - acc: 0.9951 - val_loss: 0.0236 - val_acc: 1.0000\n",
      "Epoch 3/10\n",
      "204/204 [==============================] - 0s - loss: 0.0026 - acc: 1.0000 - val_loss: 0.0211 - val_acc: 1.0000\n",
      "Epoch 4/10\n",
      "204/204 [==============================] - 0s - loss: 8.6438e-04 - acc: 1.0000 - val_loss: 0.0210 - val_acc: 1.0000\n",
      "Epoch 5/10\n",
      "204/204 [==============================] - 0s - loss: 5.7826e-04 - acc: 1.0000 - val_loss: 0.0206 - val_acc: 1.0000\n",
      "Epoch 6/10\n",
      "204/204 [==============================] - 0s - loss: 3.8081e-04 - acc: 1.0000 - val_loss: 0.0217 - val_acc: 1.0000\n",
      "Epoch 7/10\n",
      "204/204 [==============================] - 0s - loss: 3.6333e-04 - acc: 1.0000 - val_loss: 0.0219 - val_acc: 1.0000\n",
      "Epoch 8/10\n",
      "204/204 [==============================] - 0s - loss: 2.7491e-04 - acc: 1.0000 - val_loss: 0.0206 - val_acc: 1.0000\n",
      "Epoch 9/10\n",
      "204/204 [==============================] - 0s - loss: 1.8337e-04 - acc: 1.0000 - val_loss: 0.0209 - val_acc: 1.0000\n",
      "Epoch 10/10\n",
      "204/204 [==============================] - 0s - loss: 1.8169e-04 - acc: 1.0000 - val_loss: 0.0218 - val_acc: 1.0000\n",
      "Train on 204 samples, validate on 23 samples\n",
      "Epoch 1/10\n",
      "204/204 [==============================] - 0s - loss: 0.4639 - acc: 0.8775 - val_loss: 0.1534 - val_acc: 1.0000\n",
      "Epoch 2/10\n",
      "204/204 [==============================] - 0s - loss: 0.0498 - acc: 1.0000 - val_loss: 0.0160 - val_acc: 1.0000\n",
      "Epoch 3/10\n",
      "204/204 [==============================] - 0s - loss: 0.0029 - acc: 1.0000 - val_loss: 0.0043 - val_acc: 1.0000\n",
      "Epoch 4/10\n",
      "204/204 [==============================] - 0s - loss: 8.9120e-04 - acc: 1.0000 - val_loss: 0.0041 - val_acc: 1.0000\n",
      "Epoch 5/10\n",
      "204/204 [==============================] - 0s - loss: 5.5739e-04 - acc: 1.0000 - val_loss: 0.0041 - val_acc: 1.0000\n",
      "Epoch 6/10\n",
      "204/204 [==============================] - 0s - loss: 3.8637e-04 - acc: 1.0000 - val_loss: 0.0041 - val_acc: 1.0000\n",
      "Epoch 7/10\n",
      "204/204 [==============================] - 0s - loss: 3.0860e-04 - acc: 1.0000 - val_loss: 0.0039 - val_acc: 1.0000\n",
      "Epoch 8/10\n",
      "204/204 [==============================] - 0s - loss: 3.3187e-04 - acc: 1.0000 - val_loss: 0.0034 - val_acc: 1.0000\n",
      "Epoch 9/10\n",
      "204/204 [==============================] - 0s - loss: 2.0026e-04 - acc: 1.0000 - val_loss: 0.0032 - val_acc: 1.0000\n",
      "Epoch 10/10\n",
      "204/204 [==============================] - 0s - loss: 1.7681e-04 - acc: 1.0000 - val_loss: 0.0031 - val_acc: 1.0000\n",
      "Train on 204 samples, validate on 23 samples\n",
      "Epoch 1/10\n",
      "204/204 [==============================] - 0s - loss: 0.3120 - acc: 0.9020 - val_loss: 0.0565 - val_acc: 1.0000\n",
      "Epoch 2/10\n",
      "204/204 [==============================] - 0s - loss: 0.0191 - acc: 1.0000 - val_loss: 0.0262 - val_acc: 1.0000\n",
      "Epoch 3/10\n",
      "204/204 [==============================] - 0s - loss: 0.0030 - acc: 1.0000 - val_loss: 0.0183 - val_acc: 1.0000\n",
      "Epoch 4/10\n",
      "204/204 [==============================] - 0s - loss: 9.6170e-04 - acc: 1.0000 - val_loss: 0.0196 - val_acc: 1.0000\n",
      "Epoch 5/10\n",
      "204/204 [==============================] - 0s - loss: 6.4621e-04 - acc: 1.0000 - val_loss: 0.0194 - val_acc: 1.0000\n",
      "Epoch 6/10\n",
      "204/204 [==============================] - 0s - loss: 4.4442e-04 - acc: 1.0000 - val_loss: 0.0196 - val_acc: 1.0000\n",
      "Epoch 7/10\n",
      "204/204 [==============================] - 0s - loss: 2.8923e-04 - acc: 1.0000 - val_loss: 0.0196 - val_acc: 1.0000\n",
      "Epoch 8/10\n",
      "204/204 [==============================] - 0s - loss: 2.3852e-04 - acc: 1.0000 - val_loss: 0.0190 - val_acc: 1.0000\n",
      "Epoch 9/10\n",
      "204/204 [==============================] - 0s - loss: 2.1140e-04 - acc: 1.0000 - val_loss: 0.0193 - val_acc: 1.0000\n",
      "Epoch 10/10\n",
      "204/204 [==============================] - 0s - loss: 1.5412e-04 - acc: 1.0000 - val_loss: 0.0198 - val_acc: 1.0000\n",
      "updated train acc scores: [('XGB TV', 1.0), ('AB CV', 1.0), ('AB Keras', 1.0), ('RF CV', 1.0), ('XGB Keras', 1.0), ('Keras TV', 1.0), ('LR TV', 1.0), ('RF Keras', 1.0), ('AB TV', 1.0), ('Keras Keras', 1.0), ('LR CV', 1.0), ('XGB CV', 1.0), ('Keras CV', 1.0), ('RF TV', 1.0), ('LR Keras', 1.0), ('KNN Keras', 0.9911894273127754), ('KNN TV', 0.986784140969163), ('MNB TV', 0.9823788546255506), ('MNB CV', 0.9779735682819384), ('MNB Keras', 0.9779735682819384), ('BNB Keras', 0.9779735682819384), ('KNN CV', 0.9779735682819384), ('BNB CV', 0.9779735682819384), ('BNB TV', 0.9779735682819384), ('SVM Keras', 0.973568281938326), ('SVM CV', 0.9030837004405287), ('SVM TV', 0.5066079295154186)]\n",
      "updated test acc scores: [('XGB TV', 1.0), ('AB CV', 1.0), ('AB Keras', 1.0), ('KNN TV', 1.0), ('MNB Keras', 1.0), ('XGB Keras', 1.0), ('Keras TV', 1.0), ('LR TV', 1.0), ('MNB TV', 1.0), ('RF Keras', 1.0), ('AB TV', 1.0), ('Keras Keras', 1.0), ('LR CV', 1.0), ('XGB CV', 1.0), ('Keras CV', 1.0), ('RF TV', 1.0), ('LR Keras', 1.0), ('RF CV', 0.9824561403508771), ('MNB CV', 0.9824561403508771), ('KNN Keras', 0.9824561403508771), ('BNB Keras', 0.9824561403508771), ('BNB CV', 0.9649122807017544), ('BNB TV', 0.9649122807017544), ('SVM Keras', 0.9473684210526315), ('KNN CV', 0.8771929824561403), ('SVM CV', 0.8421052631578947), ('SVM TV', 0.47368421052631576)]\n"
     ]
    }
   ],
   "source": [
    "id = 'Keras'\n",
    "\n",
    "for Xtrain, Xtest, label in zip([Xtrain_CV.toarray(), Xtrain_TV.toarray(), Xtrain_Keras], \n",
    "                                [Xtest_CV.toarray(), Xtest_TV.toarray(), Xtest_Keras], \n",
    "                                ['CV', 'TV', 'Keras']):\n",
    "    batch_size = 10\n",
    "    epochs = 10\n",
    "    model = keras_prelim()\n",
    "    model.fit(Xtrain, ytrain_Keras, batch_size = batch_size, epochs = epochs, verbose = 1, validation_split = 0.1)\n",
    "\n",
    "    # Evaluate the accuracy of our trained model\n",
    "    #score = model.evaluate(Xtest, ytest_Keras, batch_size = batch_size, verbose = 1)\n",
    "    #print('\\nTest score (loss value:', score[0])\n",
    "    #print('Test accuracy:', score[1])\n",
    "\n",
    "    BMTR_pred[id + ' ' + label] = np.argmax(model.predict(Xtrain), axis = 1)\n",
    "    BMTE_pred[id + ' ' + label] = np.argmax(model.predict(Xtest), axis = 1)\n",
    "    BMTR_acc_scores[id + ' ' + label] = accuracy_score(ytrain, BMTR_pred[id + ' ' + label])\n",
    "    BMTE_acc_scores[id + ' ' + label] = accuracy_score(ytest, BMTE_pred[id + ' ' + label])\n",
    "\n",
    "print('updated train acc scores: {}'.format(sorted(BMTR_acc_scores.items(), key = lambda x: x[1], reverse = True)))\n",
    "print('updated test acc scores: {}'.format(sorted(BMTE_acc_scores.items(), key = lambda x: x[1], reverse = True)))\n",
    "\n",
    "#CPU time: \n",
    "#AWS c5.large time: 0 ns"
   ]
  },
  {
   "cell_type": "code",
   "execution_count": 214,
   "metadata": {},
   "outputs": [
    {
     "name": "stdout",
     "output_type": "stream",
     "text": [
      "\r",
      " 32/227 [===>..........................] - ETA: 0s"
     ]
    },
    {
     "data": {
      "text/plain": [
       "array([2.61764711e-04, 9.99933004e-01, 9.99933004e-01, 9.99933004e-01,\n",
       "       9.99962687e-01, 9.99967098e-01, 9.99937177e-01, 9.99933004e-01,\n",
       "       1.63834375e-06, 9.99967098e-01, 1.09280336e-04, 9.99909759e-01,\n",
       "       9.99967098e-01, 3.05824396e-05, 9.99933004e-01, 4.94631593e-07,\n",
       "       3.09142206e-06, 1.86668531e-05, 9.99868751e-01, 9.99915838e-01,\n",
       "       9.30916315e-07, 9.99933004e-01, 3.76667507e-04, 7.65507411e-06,\n",
       "       9.99933004e-01, 2.43526229e-05, 9.99933004e-01, 4.46703922e-07,\n",
       "       9.99962687e-01, 9.99967098e-01, 9.99874830e-01, 2.53096431e-07,\n",
       "       8.28146236e-04, 9.99933004e-01, 5.96015070e-06, 9.99915838e-01,\n",
       "       9.99868751e-01, 9.99967098e-01, 1.17360310e-06, 9.99548852e-01,\n",
       "       1.85693425e-05, 9.99968529e-01, 4.50465268e-06, 2.71717226e-06,\n",
       "       9.99548852e-01, 9.99548852e-01, 9.99933004e-01, 9.99937177e-01,\n",
       "       1.95131562e-07, 4.99768112e-06, 9.99933004e-01, 9.99984026e-01,\n",
       "       9.99933004e-01, 9.99933004e-01, 9.99984026e-01, 9.99868751e-01,\n",
       "       9.99968529e-01, 9.99962687e-01, 1.52319926e-05, 4.92928336e-07,\n",
       "       9.99967098e-01, 3.24093250e-08, 9.99933004e-01, 1.86668531e-05,\n",
       "       2.25262897e-06, 9.99962687e-01, 1.96056717e-05, 1.19503272e-06,\n",
       "       4.58807684e-04, 9.99937177e-01, 9.99874830e-01, 7.42038594e-07,\n",
       "       5.47685449e-05, 5.50392542e-06, 1.07920118e-06, 9.99967098e-01,\n",
       "       1.31465767e-05, 9.99984026e-01, 9.99868751e-01, 1.30527553e-06,\n",
       "       8.36516323e-04, 1.60206838e-07, 9.99868751e-01, 1.55885518e-03,\n",
       "       5.55811221e-06, 9.99933004e-01, 9.99933004e-01, 9.99915838e-01,\n",
       "       9.65992285e-07, 8.20771277e-07, 9.99933004e-01, 1.77195961e-05,\n",
       "       9.99933004e-01, 9.99984026e-01, 5.06603328e-06, 9.99874830e-01,\n",
       "       9.99968529e-01, 9.99933004e-01, 9.99874830e-01, 1.21615642e-06,\n",
       "       9.30916315e-07, 9.99933004e-01, 8.06279349e-05, 2.35199678e-07,\n",
       "       9.99933004e-01, 9.99984026e-01, 1.86668531e-05, 4.94631593e-07,\n",
       "       1.48292794e-03, 9.99909759e-01, 9.99933004e-01, 9.99962687e-01,\n",
       "       9.99937177e-01, 1.24543624e-06, 9.99933004e-01, 9.99915838e-01,\n",
       "       7.99778383e-04, 9.99933004e-01, 1.86668531e-05, 1.15981912e-11,\n",
       "       3.39953181e-06, 3.76667507e-04, 9.99933004e-01, 9.78806156e-07,\n",
       "       7.23534004e-06, 4.04806912e-07, 1.86668531e-05, 5.43298484e-06,\n",
       "       9.99937177e-01, 9.99933004e-01, 9.99967098e-01, 2.67309952e-04,\n",
       "       4.32056368e-06, 1.09280336e-04, 9.99933004e-01, 9.99548852e-01,\n",
       "       9.99915838e-01, 9.99933004e-01, 9.99967098e-01, 9.99548852e-01,\n",
       "       9.99874830e-01, 9.99984026e-01, 5.79178086e-05, 9.99868751e-01,\n",
       "       1.86668531e-05, 9.53606332e-08, 9.99868751e-01, 5.56179600e-07,\n",
       "       3.77244163e-07, 1.43301497e-06, 9.99937177e-01, 1.03098967e-06,\n",
       "       9.99933004e-01, 9.99933004e-01, 1.17360310e-06, 1.49207767e-06,\n",
       "       9.99933004e-01, 9.99868751e-01, 9.99874830e-01, 7.46460682e-06,\n",
       "       4.10973513e-07, 1.86668531e-05, 9.99548852e-01, 9.99868751e-01,\n",
       "       9.99933004e-01, 3.73626176e-06, 9.99548852e-01, 1.00383422e-05,\n",
       "       1.86668531e-05, 7.37782898e-07, 6.03084300e-06, 9.99967098e-01,\n",
       "       9.99909759e-01, 9.99967098e-01, 2.17240892e-08, 4.94631593e-07,\n",
       "       1.92604173e-04, 7.65507411e-06, 9.99967098e-01, 9.99933004e-01,\n",
       "       7.23534004e-06, 9.99933004e-01, 9.99933004e-01, 1.69009877e-06,\n",
       "       9.99937177e-01, 8.46190727e-04, 1.86668531e-05, 9.99968529e-01,\n",
       "       1.86668531e-05, 1.90900914e-06, 2.74447575e-06, 4.15374961e-04,\n",
       "       9.99937177e-01, 1.28865690e-06, 9.99909759e-01, 1.85693425e-05,\n",
       "       9.99933004e-01, 4.99583211e-06, 9.99967098e-01, 2.03838317e-06,\n",
       "       7.72393093e-07, 9.99933004e-01, 9.99933004e-01, 9.99933004e-01,\n",
       "       9.99868751e-01, 7.42038594e-07, 9.30916315e-07, 3.76667507e-04,\n",
       "       1.61931348e-06, 1.86668531e-05, 2.69637724e-07, 1.72249088e-03,\n",
       "       9.99933004e-01, 9.99915838e-01, 4.94631593e-07, 9.99984026e-01,\n",
       "       1.43375728e-05, 3.64082813e-01, 3.76667507e-04, 1.26079804e-05,\n",
       "       8.15810381e-07, 3.77244163e-07, 9.99937177e-01, 9.99962687e-01,\n",
       "       9.99967098e-01, 9.99874830e-01, 9.99968529e-01], dtype=float32)"
      ]
     },
     "execution_count": 214,
     "metadata": {},
     "output_type": "execute_result"
    }
   ],
   "source": [
    "#verifying that predict_proba works\n",
    "yhat_train = model.predict_proba(Xtrain)\n",
    "yhat_train[:, 0]"
   ]
  },
  {
   "cell_type": "code",
   "execution_count": 215,
   "metadata": {
    "scrolled": false
   },
   "outputs": [
    {
     "data": {
      "text/html": [
       "<div>\n",
       "<table border=\"1\" class=\"dataframe\">\n",
       "  <thead>\n",
       "    <tr style=\"text-align: right;\">\n",
       "      <th></th>\n",
       "      <th>Test</th>\n",
       "      <th>Train</th>\n",
       "    </tr>\n",
       "  </thead>\n",
       "  <tbody>\n",
       "    <tr>\n",
       "      <th>AB CV</th>\n",
       "      <td>1.000000</td>\n",
       "      <td>1.000000</td>\n",
       "    </tr>\n",
       "    <tr>\n",
       "      <th>AB Keras</th>\n",
       "      <td>1.000000</td>\n",
       "      <td>1.000000</td>\n",
       "    </tr>\n",
       "    <tr>\n",
       "      <th>AB TV</th>\n",
       "      <td>1.000000</td>\n",
       "      <td>1.000000</td>\n",
       "    </tr>\n",
       "    <tr>\n",
       "      <th>BNB CV</th>\n",
       "      <td>0.964912</td>\n",
       "      <td>0.977974</td>\n",
       "    </tr>\n",
       "    <tr>\n",
       "      <th>BNB Keras</th>\n",
       "      <td>0.982456</td>\n",
       "      <td>0.977974</td>\n",
       "    </tr>\n",
       "    <tr>\n",
       "      <th>BNB TV</th>\n",
       "      <td>0.964912</td>\n",
       "      <td>0.977974</td>\n",
       "    </tr>\n",
       "    <tr>\n",
       "      <th>KNN CV</th>\n",
       "      <td>0.877193</td>\n",
       "      <td>0.977974</td>\n",
       "    </tr>\n",
       "    <tr>\n",
       "      <th>KNN Keras</th>\n",
       "      <td>0.982456</td>\n",
       "      <td>0.991189</td>\n",
       "    </tr>\n",
       "    <tr>\n",
       "      <th>KNN TV</th>\n",
       "      <td>1.000000</td>\n",
       "      <td>0.986784</td>\n",
       "    </tr>\n",
       "    <tr>\n",
       "      <th>Keras CV</th>\n",
       "      <td>1.000000</td>\n",
       "      <td>1.000000</td>\n",
       "    </tr>\n",
       "    <tr>\n",
       "      <th>Keras Keras</th>\n",
       "      <td>1.000000</td>\n",
       "      <td>1.000000</td>\n",
       "    </tr>\n",
       "    <tr>\n",
       "      <th>Keras TV</th>\n",
       "      <td>1.000000</td>\n",
       "      <td>1.000000</td>\n",
       "    </tr>\n",
       "    <tr>\n",
       "      <th>LR CV</th>\n",
       "      <td>1.000000</td>\n",
       "      <td>1.000000</td>\n",
       "    </tr>\n",
       "    <tr>\n",
       "      <th>LR Keras</th>\n",
       "      <td>1.000000</td>\n",
       "      <td>1.000000</td>\n",
       "    </tr>\n",
       "    <tr>\n",
       "      <th>LR TV</th>\n",
       "      <td>1.000000</td>\n",
       "      <td>1.000000</td>\n",
       "    </tr>\n",
       "    <tr>\n",
       "      <th>MNB CV</th>\n",
       "      <td>0.982456</td>\n",
       "      <td>0.977974</td>\n",
       "    </tr>\n",
       "    <tr>\n",
       "      <th>MNB Keras</th>\n",
       "      <td>1.000000</td>\n",
       "      <td>0.977974</td>\n",
       "    </tr>\n",
       "    <tr>\n",
       "      <th>MNB TV</th>\n",
       "      <td>1.000000</td>\n",
       "      <td>0.982379</td>\n",
       "    </tr>\n",
       "    <tr>\n",
       "      <th>RF CV</th>\n",
       "      <td>0.982456</td>\n",
       "      <td>1.000000</td>\n",
       "    </tr>\n",
       "    <tr>\n",
       "      <th>RF Keras</th>\n",
       "      <td>1.000000</td>\n",
       "      <td>1.000000</td>\n",
       "    </tr>\n",
       "    <tr>\n",
       "      <th>RF TV</th>\n",
       "      <td>1.000000</td>\n",
       "      <td>1.000000</td>\n",
       "    </tr>\n",
       "    <tr>\n",
       "      <th>SVM CV</th>\n",
       "      <td>0.842105</td>\n",
       "      <td>0.903084</td>\n",
       "    </tr>\n",
       "    <tr>\n",
       "      <th>SVM Keras</th>\n",
       "      <td>0.947368</td>\n",
       "      <td>0.973568</td>\n",
       "    </tr>\n",
       "    <tr>\n",
       "      <th>SVM TV</th>\n",
       "      <td>0.473684</td>\n",
       "      <td>0.506608</td>\n",
       "    </tr>\n",
       "    <tr>\n",
       "      <th>XGB CV</th>\n",
       "      <td>1.000000</td>\n",
       "      <td>1.000000</td>\n",
       "    </tr>\n",
       "    <tr>\n",
       "      <th>XGB Keras</th>\n",
       "      <td>1.000000</td>\n",
       "      <td>1.000000</td>\n",
       "    </tr>\n",
       "    <tr>\n",
       "      <th>XGB TV</th>\n",
       "      <td>1.000000</td>\n",
       "      <td>1.000000</td>\n",
       "    </tr>\n",
       "  </tbody>\n",
       "</table>\n",
       "</div>"
      ],
      "text/plain": [
       "                 Test     Train\n",
       "AB CV        1.000000  1.000000\n",
       "AB Keras     1.000000  1.000000\n",
       "AB TV        1.000000  1.000000\n",
       "BNB CV       0.964912  0.977974\n",
       "BNB Keras    0.982456  0.977974\n",
       "BNB TV       0.964912  0.977974\n",
       "KNN CV       0.877193  0.977974\n",
       "KNN Keras    0.982456  0.991189\n",
       "KNN TV       1.000000  0.986784\n",
       "Keras CV     1.000000  1.000000\n",
       "Keras Keras  1.000000  1.000000\n",
       "Keras TV     1.000000  1.000000\n",
       "LR CV        1.000000  1.000000\n",
       "LR Keras     1.000000  1.000000\n",
       "LR TV        1.000000  1.000000\n",
       "MNB CV       0.982456  0.977974\n",
       "MNB Keras    1.000000  0.977974\n",
       "MNB TV       1.000000  0.982379\n",
       "RF CV        0.982456  1.000000\n",
       "RF Keras     1.000000  1.000000\n",
       "RF TV        1.000000  1.000000\n",
       "SVM CV       0.842105  0.903084\n",
       "SVM Keras    0.947368  0.973568\n",
       "SVM TV       0.473684  0.506608\n",
       "XGB CV       1.000000  1.000000\n",
       "XGB Keras    1.000000  1.000000\n",
       "XGB TV       1.000000  1.000000"
      ]
     },
     "execution_count": 215,
     "metadata": {},
     "output_type": "execute_result"
    }
   ],
   "source": [
    "pd.DataFrame({'Train': BMTR_acc_scores, \n",
    "              'Test': BMTE_acc_scores})"
   ]
  },
  {
   "cell_type": "markdown",
   "metadata": {},
   "source": [
    "Let's not try to optimize the models yet, as there are plenty of models that are producing 100% accuracy for train and test datasets\n",
    "\n",
    "Pick a few models, save, and predict the dataset:\n",
    "1. LR, \n",
    "2. AB, \n",
    "3. Keras, \n",
    "4. XGB"
   ]
  },
  {
   "cell_type": "code",
   "execution_count": 216,
   "metadata": {},
   "outputs": [
    {
     "name": "stdout",
     "output_type": "stream",
     "text": [
      "1.0\n",
      "1.0\n"
     ]
    },
    {
     "data": {
      "text/plain": [
       "['Models/BM_LR']"
      ]
     },
     "execution_count": 216,
     "metadata": {},
     "output_type": "execute_result"
    }
   ],
   "source": [
    "model = LogisticRegression()\n",
    "\n",
    "model.fit(Xtrain_TV, ytrain)\n",
    "\n",
    "#make sure we are looking at the right thing\n",
    "print(accuracy_score(ytrain, model.predict(Xtrain_TV)))\n",
    "print(accuracy_score(ytest, model.predict(Xtest_TV)))\n",
    "\n",
    "#to save\n",
    "model_name = 'Models/BM_LR'\n",
    "joblib.dump(model, model_name) "
   ]
  },
  {
   "cell_type": "code",
   "execution_count": 217,
   "metadata": {},
   "outputs": [
    {
     "name": "stdout",
     "output_type": "stream",
     "text": [
      "1.0\n",
      "0.9824561403508771\n"
     ]
    },
    {
     "data": {
      "text/plain": [
       "['Models/BM_AB']"
      ]
     },
     "execution_count": 217,
     "metadata": {},
     "output_type": "execute_result"
    }
   ],
   "source": [
    "model = AdaBoostClassifier()\n",
    "\n",
    "model.fit(Xtrain_TV, ytrain)\n",
    "\n",
    "#make sure we are looking at the right thing\n",
    "print(accuracy_score(ytrain, model.predict(Xtrain_TV)))\n",
    "print(accuracy_score(ytest, model.predict(Xtest_TV)))\n",
    "\n",
    "#to save\n",
    "model_name = 'Models/BM_AB'\n",
    "joblib.dump(model, model_name) "
   ]
  },
  {
   "cell_type": "code",
   "execution_count": 218,
   "metadata": {
    "scrolled": true
   },
   "outputs": [
    {
     "name": "stdout",
     "output_type": "stream",
     "text": [
      "Train on 204 samples, validate on 23 samples\n",
      "Epoch 1/10\n",
      "204/204 [==============================] - 0s - loss: 0.4662 - acc: 0.9265 - val_loss: 0.1694 - val_acc: 1.0000\n",
      "Epoch 2/10\n",
      "204/204 [==============================] - 0s - loss: 0.0620 - acc: 0.9853 - val_loss: 0.0096 - val_acc: 1.0000\n",
      "Epoch 3/10\n",
      "204/204 [==============================] - 0s - loss: 0.0057 - acc: 1.0000 - val_loss: 0.0022 - val_acc: 1.0000\n",
      "Epoch 4/10\n",
      "204/204 [==============================] - 0s - loss: 0.0011 - acc: 1.0000 - val_loss: 0.0016 - val_acc: 1.0000\n",
      "Epoch 5/10\n",
      "204/204 [==============================] - 0s - loss: 6.3303e-04 - acc: 1.0000 - val_loss: 0.0013 - val_acc: 1.0000\n",
      "Epoch 6/10\n",
      "204/204 [==============================] - 0s - loss: 4.4567e-04 - acc: 1.0000 - val_loss: 0.0012 - val_acc: 1.0000\n",
      "Epoch 7/10\n",
      "204/204 [==============================] - 0s - loss: 4.0421e-04 - acc: 1.0000 - val_loss: 0.0011 - val_acc: 1.0000\n",
      "Epoch 8/10\n",
      "204/204 [==============================] - 0s - loss: 2.8520e-04 - acc: 1.0000 - val_loss: 0.0010 - val_acc: 1.0000\n",
      "Epoch 9/10\n",
      "204/204 [==============================] - 0s - loss: 2.8980e-04 - acc: 1.0000 - val_loss: 9.1253e-04 - val_acc: 1.0000\n",
      "Epoch 10/10\n",
      "204/204 [==============================] - 0s - loss: 1.8151e-04 - acc: 1.0000 - val_loss: 8.5528e-04 - val_acc: 1.0000\n",
      "1.0\n",
      "1.0\n"
     ]
    }
   ],
   "source": [
    "batch_size = 10\n",
    "epochs = 10\n",
    "model = keras_prelim()\n",
    "model.fit(Xtrain_TV.toarray(), ytrain_Keras, batch_size = batch_size, epochs = epochs, verbose = 1, validation_split = 0.1)\n",
    "\n",
    "#make sure we are looking at the right thing\n",
    "print(accuracy_score(ytrain, np.argmax(model.predict(Xtrain_TV.toarray()), axis = 1)))\n",
    "print(accuracy_score(ytest, np.argmax(model.predict(Xtest_TV.toarray()), axis = 1)))\n",
    "\n",
    "#to save\n",
    "model_name = 'Models/BM_Keras.json'\n",
    "model_weights = 'Models/BM_Keras.h5'\n",
    "model_json = model.to_json()\n",
    "with open(model_name, \"w\") as json_file:\n",
    "    json_file.write(model_json)\n",
    "    \n",
    "model.save_weights(model_weights)"
   ]
  },
  {
   "cell_type": "code",
   "execution_count": 219,
   "metadata": {},
   "outputs": [
    {
     "name": "stdout",
     "output_type": "stream",
     "text": [
      "1.0\n",
      "1.0\n"
     ]
    },
    {
     "name": "stderr",
     "output_type": "stream",
     "text": [
      "c:\\users\\inves\\appdata\\local\\programs\\python\\python35\\lib\\site-packages\\sklearn\\preprocessing\\label.py:171: DeprecationWarning: The truth value of an empty array is ambiguous. Returning False, but in future this will result in an error. Use `array.size > 0` to check that an array is not empty.\n",
      "  if diff:\n",
      "c:\\users\\inves\\appdata\\local\\programs\\python\\python35\\lib\\site-packages\\sklearn\\preprocessing\\label.py:171: DeprecationWarning: The truth value of an empty array is ambiguous. Returning False, but in future this will result in an error. Use `array.size > 0` to check that an array is not empty.\n",
      "  if diff:\n"
     ]
    },
    {
     "data": {
      "text/plain": [
       "['Models/BM_XGB']"
      ]
     },
     "execution_count": 219,
     "metadata": {},
     "output_type": "execute_result"
    }
   ],
   "source": [
    "model = XGBClassifier()\n",
    "\n",
    "model.fit(Xtrain_TV.toarray(), ytrain)\n",
    "\n",
    "#make sure we are looking at the right thing\n",
    "print(accuracy_score(ytrain, model.predict(Xtrain_TV.toarray())))\n",
    "print(accuracy_score(ytest, model.predict(Xtest_TV.toarray())))\n",
    "\n",
    "#to save\n",
    "model_name = 'Models/BM_XGB'\n",
    "joblib.dump(model, model_name) "
   ]
  },
  {
   "cell_type": "markdown",
   "metadata": {},
   "source": [
    "# BOOKMARK!!!!!!!!!"
   ]
  },
  {
   "cell_type": "code",
   "execution_count": null,
   "metadata": {},
   "outputs": [],
   "source": []
  },
  {
   "cell_type": "code",
   "execution_count": null,
   "metadata": {},
   "outputs": [],
   "source": []
  },
  {
   "cell_type": "code",
   "execution_count": null,
   "metadata": {},
   "outputs": [],
   "source": []
  },
  {
   "cell_type": "code",
   "execution_count": null,
   "metadata": {},
   "outputs": [],
   "source": []
  },
  {
   "cell_type": "code",
   "execution_count": null,
   "metadata": {},
   "outputs": [],
   "source": []
  },
  {
   "cell_type": "code",
   "execution_count": null,
   "metadata": {},
   "outputs": [],
   "source": []
  },
  {
   "cell_type": "code",
   "execution_count": null,
   "metadata": {},
   "outputs": [],
   "source": []
  },
  {
   "cell_type": "code",
   "execution_count": null,
   "metadata": {},
   "outputs": [],
   "source": []
  },
  {
   "cell_type": "code",
   "execution_count": null,
   "metadata": {},
   "outputs": [],
   "source": [
    "def gridsearch(model, param_grid, cvs, X, y, plot = False):\n",
    "\n",
    "    acc_by_cv = []\n",
    "    print('selecting best cv parameter:')\n",
    "    for cv in cvs:\n",
    "        cloned_model = clone(model, safe = True)\n",
    "        grid = GridSearchCV(cloned_model, param_grid = param_grid, n_jobs = 4, cv = cv)\n",
    "        grid.fit(X, y)\n",
    "        acc_by_cv.append(grid.best_score_)\n",
    "        print(cv, ': ')\n",
    "        print(grid.best_score_) #{'ABC': 0.92, 'KNNC': 0.8, 'LR': 0.928, 'MNB': 0.848, 'RFC': 0.944}\n",
    "        print(grid.best_estimator_)\n",
    "    \n",
    "    best_cv = cvs[np.argmax(acc_by_cv)]\n",
    "    print('\\nbest cv: ', best_cv)\n",
    "    \n",
    "    cloned_model = clone(model, safe = True)\n",
    "    grid = GridSearchCV(cloned_model, param_grid = param_grid, n_jobs = 4, cv = best_cv)\n",
    "    grid.fit(X, y)\n",
    "    print(grid.best_score_) #{'ABC': 0.92, 'KNNC': 0.8, 'LR': 0.928, 'MNB': 0.848, 'RFC': 0.944}\n",
    "    print(grid.best_estimator_)\n",
    "    print(grid.grid_scores_)\n",
    "    \n",
    "    if plot:\n",
    "        plt.plot(cvs, acc_by_cv)\n",
    "        plt.show()\n",
    "        \n",
    "    return grid.best_estimator_, pd.DataFrame(grid.grid_scores_), best_cv"
   ]
  },
  {
   "cell_type": "code",
   "execution_count": null,
   "metadata": {},
   "outputs": [],
   "source": [
    "t0 = time()\n",
    "cvs = range(2, 30)\n",
    "RF_dict = {}\n",
    "param_grid = {'n_estimators': range(5, 105, 5),\n",
    "              'max_features': ['auto', 'sqrt', 'log2', None]}\n",
    "for Xtrain, label in zip([Xtrain_Keras, Xtrain_CV, Xtrain_TV], ['Keras', 'CV', 'TV']):\n",
    "    model = RandomForestClassifier(n_jobs = 4)\n",
    "    RF_dict['opt model ' + label], RF_dict['summary df ' + label], RF_dict['cv ' + label] = gridsearch(model, param_grid, cvs, Xtrain, ytrain, plot = True)\n",
    "\n",
    "print('algo elapsed: {} seconds'.format(time() - t0))\n",
    "#CPU time: 10666.576189994812 seconds\n",
    "#AWS c5.large time: "
   ]
  },
  {
   "cell_type": "code",
   "execution_count": null,
   "metadata": {},
   "outputs": [],
   "source": [
    "print('top score was 0.944')\n",
    "for key in ['CV', 'TV', 'Keras']:\n",
    "    print('accuracy scores for {} is {}'.format(key, RF_dict['summary df ' + key]['mean_validation_score'].iloc[RF_dict['summary df ' + key]['mean_validation_score'].argmax()]))\n",
    "    print('parameters for model {} is {}'.format(key, RF_dict['summary df ' + key]['parameters'].iloc[RF_dict['summary df ' + key]['mean_validation_score'].argmax()]))"
   ]
  },
  {
   "cell_type": "code",
   "execution_count": null,
   "metadata": {},
   "outputs": [],
   "source": [
    "t0 = time()\n",
    "cvs = range(2, 30)\n",
    "AB_dict = {}\n",
    "param_grid = {'n_estimators': range(5, 105, 5),\n",
    "              'learning_rate': [0.01, 0.1, 0.5, 1, 2, 10, 100]}\n",
    "for Xtrain, label in zip([Xtrain_Keras, Xtrain_CV, Xtrain_TV], ['Keras', 'CV', 'TV']):\n",
    "    model = AdaBoostClassifier()\n",
    "    AB_dict['opt model ' + label], AB_dict['summary df ' + label], AB_dict['cv ' + label] = gridsearch(model, param_grid, cvs, Xtrain, ytrain, plot = True)\n",
    "\n",
    "print('algo elapsed: {} seconds'.format(time() - t0))\n",
    "#CPU time: 7522.84\n",
    "#AWS c5.large time: "
   ]
  },
  {
   "cell_type": "code",
   "execution_count": null,
   "metadata": {},
   "outputs": [],
   "source": [
    "print('top score was 0.944')\n",
    "for key in ['CV', 'TV', 'Keras']:\n",
    "    print('accuracy scores for {} is {}'.format(key, AB_dict['summary df ' + key]['mean_validation_score'].iloc[AB_dict['summary df ' + key]['mean_validation_score'].argmax()]))\n",
    "    print('parameters for model {} is {}'.format(key, AB_dict['summary df ' + key]['parameters'].iloc[AB_dict['summary df ' + key]['mean_validation_score'].argmax()]))"
   ]
  },
  {
   "cell_type": "code",
   "execution_count": null,
   "metadata": {},
   "outputs": [],
   "source": [
    "def keras1(input_shape):\n",
    "    model = Sequential()\n",
    "    model.add(Dense(1024, input_shape = (input_shape, )))\n",
    "    model.add(Activation('relu'))\n",
    "    model.add(Dense(num_classes))\n",
    "    model.add(Activation('softmax'))\n",
    "    \n",
    "    model.compile(loss = 'categorical_crossentropy', optimizer = 'adam', metrics = ['accuracy'])\n",
    "    return model\n",
    "\n",
    "def keras2(optimizer):\n",
    "    model = Sequential()\n",
    "    model.add(Dense(512, input_shape = (Xtrain_Keras.shape[1], )))\n",
    "    model.add(Activation('relu'))\n",
    "    model.add(Dense(num_classes))\n",
    "    model.add(Activation('softmax'))\n",
    "    model.compile(loss = 'categorical_crossentropy', optimizer = optimizer, metrics = ['accuracy'])\n",
    "    return model\n",
    "\n",
    "def keras3(optimizer):\n",
    "    model = Sequential()\n",
    "    model.add(Dense(512, input_shape = (Xtrain_Keras.shape[1], )))\n",
    "    model.add(Activation('relu'))\n",
    "    model.add(Dropout(0.2))\n",
    "    model.add(Dense(num_classes))\n",
    "    model.add(Activation('softmax'))\n",
    "    model.compile(loss = 'categorical_crossentropy', optimizer = optimizer, metrics = ['accuracy'])\n",
    "    return model\n",
    "\n",
    "def keras4(optimizer):\n",
    "    model = Sequential()\n",
    "    model.add(Dense(1024, input_shape = (Xtrain_Keras.shape[1], )))\n",
    "    model.add(Activation('relu'))\n",
    "    model.add(Dropout(0.2))\n",
    "    model.add(Dense(1024))\n",
    "    model.add(Activation('relu'))\n",
    "    model.add(Dropout(0.2))\n",
    "    model.add(Dense(num_classes))\n",
    "    model.add(Activation('softmax'))\n",
    "    model.compile(loss = 'categorical_crossentropy', optimizer = optimizer, metrics = ['accuracy'])\n",
    "    return model\n",
    "\n",
    "def keras5(optimizer):\n",
    "    model = Sequential()\n",
    "    model.add(Dense(512, input_shape = (Xtrain_Keras.shape[1], )))\n",
    "    model.add(Activation('relu'))\n",
    "    model.add(Dropout(0.2))\n",
    "    model.add(Dense(512))\n",
    "    model.add(Activation('relu'))\n",
    "    model.add(Dropout(0.2))\n",
    "    model.add(Dense(num_classes))\n",
    "    model.add(Activation('softmax'))\n",
    "    model.compile(loss = 'categorical_crossentropy', optimizer = optimizer, metrics = ['accuracy'])\n",
    "    return model"
   ]
  },
  {
   "cell_type": "code",
   "execution_count": null,
   "metadata": {},
   "outputs": [],
   "source": [
    "Xtrain = Xtrain_CV.toarray()\n",
    "param_grid = {'batch_size': [10, 20],\n",
    "              'epochs': [10, 20]}\n",
    "\n",
    "model = KerasClassifier(build_fn = keras1(Xtrain.shape[1]), verbose = 1)\n",
    "grid = GridSearchCV(estimator = model, param_grid = param_grid, n_jobs = 4)\n",
    "grid_result = grid.fit(Xtrain, ytrain_Keras)\n",
    "print(grid_result.best_params_)"
   ]
  },
  {
   "cell_type": "code",
   "execution_count": null,
   "metadata": {},
   "outputs": [],
   "source": []
  },
  {
   "cell_type": "code",
   "execution_count": null,
   "metadata": {},
   "outputs": [],
   "source": []
  },
  {
   "cell_type": "code",
   "execution_count": null,
   "metadata": {},
   "outputs": [],
   "source": []
  },
  {
   "cell_type": "code",
   "execution_count": null,
   "metadata": {},
   "outputs": [],
   "source": []
  },
  {
   "cell_type": "code",
   "execution_count": null,
   "metadata": {},
   "outputs": [],
   "source": []
  },
  {
   "cell_type": "code",
   "execution_count": null,
   "metadata": {},
   "outputs": [],
   "source": []
  },
  {
   "cell_type": "code",
   "execution_count": null,
   "metadata": {},
   "outputs": [],
   "source": []
  },
  {
   "cell_type": "code",
   "execution_count": null,
   "metadata": {},
   "outputs": [],
   "source": []
  },
  {
   "cell_type": "code",
   "execution_count": null,
   "metadata": {},
   "outputs": [],
   "source": []
  },
  {
   "cell_type": "code",
   "execution_count": null,
   "metadata": {},
   "outputs": [],
   "source": []
  },
  {
   "cell_type": "code",
   "execution_count": null,
   "metadata": {},
   "outputs": [],
   "source": []
  },
  {
   "cell_type": "code",
   "execution_count": null,
   "metadata": {},
   "outputs": [],
   "source": []
  },
  {
   "cell_type": "code",
   "execution_count": null,
   "metadata": {},
   "outputs": [],
   "source": []
  },
  {
   "cell_type": "code",
   "execution_count": null,
   "metadata": {},
   "outputs": [],
   "source": []
  },
  {
   "cell_type": "code",
   "execution_count": null,
   "metadata": {},
   "outputs": [],
   "source": []
  },
  {
   "cell_type": "code",
   "execution_count": null,
   "metadata": {},
   "outputs": [],
   "source": []
  },
  {
   "cell_type": "code",
   "execution_count": null,
   "metadata": {},
   "outputs": [],
   "source": []
  },
  {
   "cell_type": "code",
   "execution_count": null,
   "metadata": {},
   "outputs": [],
   "source": []
  },
  {
   "cell_type": "code",
   "execution_count": null,
   "metadata": {},
   "outputs": [],
   "source": []
  },
  {
   "cell_type": "code",
   "execution_count": null,
   "metadata": {},
   "outputs": [],
   "source": []
  },
  {
   "cell_type": "code",
   "execution_count": null,
   "metadata": {},
   "outputs": [],
   "source": []
  },
  {
   "cell_type": "code",
   "execution_count": null,
   "metadata": {},
   "outputs": [],
   "source": []
  },
  {
   "cell_type": "code",
   "execution_count": null,
   "metadata": {},
   "outputs": [],
   "source": []
  },
  {
   "cell_type": "code",
   "execution_count": null,
   "metadata": {},
   "outputs": [],
   "source": []
  },
  {
   "cell_type": "code",
   "execution_count": null,
   "metadata": {},
   "outputs": [],
   "source": []
  },
  {
   "cell_type": "code",
   "execution_count": null,
   "metadata": {},
   "outputs": [],
   "source": []
  },
  {
   "cell_type": "code",
   "execution_count": null,
   "metadata": {},
   "outputs": [],
   "source": []
  },
  {
   "cell_type": "code",
   "execution_count": null,
   "metadata": {},
   "outputs": [],
   "source": []
  },
  {
   "cell_type": "code",
   "execution_count": null,
   "metadata": {},
   "outputs": [],
   "source": []
  },
  {
   "cell_type": "code",
   "execution_count": null,
   "metadata": {},
   "outputs": [],
   "source": []
  },
  {
   "cell_type": "code",
   "execution_count": null,
   "metadata": {},
   "outputs": [],
   "source": []
  },
  {
   "cell_type": "code",
   "execution_count": null,
   "metadata": {},
   "outputs": [],
   "source": []
  },
  {
   "cell_type": "code",
   "execution_count": null,
   "metadata": {},
   "outputs": [],
   "source": []
  },
  {
   "cell_type": "code",
   "execution_count": null,
   "metadata": {},
   "outputs": [],
   "source": []
  },
  {
   "cell_type": "code",
   "execution_count": null,
   "metadata": {},
   "outputs": [],
   "source": []
  },
  {
   "cell_type": "code",
   "execution_count": null,
   "metadata": {},
   "outputs": [],
   "source": []
  },
  {
   "cell_type": "code",
   "execution_count": null,
   "metadata": {},
   "outputs": [],
   "source": []
  }
 ],
 "metadata": {
  "kernelspec": {
   "display_name": "Python 3",
   "language": "python",
   "name": "python3"
  },
  "language_info": {
   "codemirror_mode": {
    "name": "ipython",
    "version": 3
   },
   "file_extension": ".py",
   "mimetype": "text/x-python",
   "name": "python",
   "nbconvert_exporter": "python",
   "pygments_lexer": "ipython3",
   "version": "3.5.3"
  }
 },
 "nbformat": 4,
 "nbformat_minor": 2
}
