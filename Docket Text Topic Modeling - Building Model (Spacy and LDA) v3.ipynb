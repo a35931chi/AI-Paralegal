{
 "cells": [
  {
   "cell_type": "markdown",
   "metadata": {},
   "source": [
    "## Notebook Goal:  \n",
    "Using existing NLP and LDA methodologies to perform topic modeling on docket texts. Three hyperparameters to consider:\n",
    "1. to remove organization or not in docket texts, so organizations themselves won't become topics.\n",
    "2. to remove names or not in docket texts, so names themselves won't become topics.\n",
    "3. variations in topic numbers: [2, 3, 5, 10]\n",
    "\n",
    "Will then perform visualizations and model summary output on every permutation/iteration."
   ]
  },
  {
   "cell_type": "code",
   "execution_count": 2,
   "metadata": {},
   "outputs": [],
   "source": [
    "import nltk\n",
    "from nltk.tag.stanford import StanfordNERTagger\n",
    "from nltk.stem import WordNetLemmatizer\n",
    "from nltk.corpus import wordnet\n",
    "from nltk.corpus import stopwords"
   ]
  },
  {
   "cell_type": "code",
   "execution_count": 3,
   "metadata": {},
   "outputs": [
    {
     "name": "stderr",
     "output_type": "stream",
     "text": [
      "c:\\users\\inves\\appdata\\local\\programs\\python\\python35\\lib\\site-packages\\gensim\\utils.py:1197: UserWarning: detected Windows; aliasing chunkize to chunkize_serial\n",
      "  warnings.warn(\"detected Windows; aliasing chunkize to chunkize_serial\")\n"
     ]
    }
   ],
   "source": [
    "from gensim.models.word2vec import LineSentence\n",
    "from gensim.models import Phrases\n",
    "from gensim.corpora import Dictionary, MmCorpus\n",
    "from gensim.models.ldamulticore import LdaMulticore\n",
    "\n",
    "#visualization libraries\n",
    "import pyLDAvis\n",
    "import pyLDAvis.gensim"
   ]
  },
  {
   "cell_type": "code",
   "execution_count": 163,
   "metadata": {},
   "outputs": [],
   "source": [
    "import os\n",
    "java_path = 'C:/Program Files/Java/jdk-10.0.1/bin/java.exe'\n",
    "os.environ['JAVAHOME'] = java_path\n",
    "\n",
    "import pandas as pd\n",
    "import numpy as np\n",
    "import codecs\n",
    "import itertools as it\n",
    "from bs4 import BeautifulSoup\n",
    "import warnings\n",
    "import pickle\n",
    "from collections import Counter\n",
    "import re"
   ]
  },
  {
   "cell_type": "code",
   "execution_count": 401,
   "metadata": {},
   "outputs": [],
   "source": [
    "#import corpus/docket texts from html to pandas DataFrame\n",
    "def grab_docket_train():\n",
    "    files = []\n",
    "    #get all .html files in the folder (all docket files are in .html)\n",
    "    for file in os.listdir('docket_texts/train/'):\n",
    "        if file.endswith('.html'):\n",
    "            files.append(os.path.join('docket_texts/train/', file))\n",
    "\n",
    "    df_docket_texts = pd.DataFrame()\n",
    "    \n",
    "    for i in range(len(files)): #gather all docket texts\n",
    "    #for i in [0, 1]: #for testing purposes\n",
    "        \n",
    "        content = codecs.open(files[i], 'r', 'utf-8').read()\n",
    "        #use beautiful soup to get the case ID\n",
    "        soup = BeautifulSoup(content, 'lxml')\n",
    "        case_id = str(soup.find_all('h3'))    \n",
    "        bookmark1 = case_id.find('CASE #:') + len('CASE #:')\n",
    "        bookmark2 = case_id.find('</h3>')\n",
    "        case_id = case_id[bookmark1:bookmark2]\n",
    "\n",
    "        #use pandas to grab tables in the html files\n",
    "        docket_tables = pd.read_html(content)\n",
    "\n",
    "        #error checking: gotta do this because there's different length of docket_list/\n",
    "        #usually docket texts are in docket_list[3], but not always\n",
    "        n = 0\n",
    "        while docket_tables[n].isin(['Docket Text']).sum().sum() == 0:\n",
    "            #print(n, docket_tables[n].isin(['Docket Text']).sum().sum())\n",
    "            n += 1\n",
    "                        \n",
    "        #print(i, files[i])\n",
    "        #print(docket_tables[n].head())\n",
    "\n",
    "        #docket_tables[n] is the docket text table\n",
    "        new_header = docket_tables[n].iloc[0]\n",
    "        docket_tables[n] = docket_tables[n][1:]\n",
    "        docket_tables[n].columns = new_header\n",
    "        \n",
    "        docket_tables[n]['#'] = pd.to_numeric(docket_tables[n]['#'],\n",
    "                                              downcast = 'signed', errors = 'coerce')\n",
    "        docket_tables[n]['Date Filed'] = pd.to_datetime(docket_tables[n]['Date Filed'])\n",
    "        docket_tables[n]['Case ID'] = case_id\n",
    "\n",
    "        df_docket_texts = pd.concat([df_docket_texts, docket_tables[n]])\n",
    "    #reorder a column\n",
    "    cols = list(df_docket_texts.columns)\n",
    "    df_docket_texts = df_docket_texts[[cols[-1]] + cols[:-1]]\n",
    "    \n",
    "    print('current docket text table size/shape: {}'.format(df_docket_texts.shape))\n",
    "    return df_docket_texts"
   ]
  },
  {
   "cell_type": "markdown",
   "metadata": {},
   "source": [
    "### Pull from dir .html files"
   ]
  },
  {
   "cell_type": "code",
   "execution_count": 402,
   "metadata": {
    "scrolled": true
   },
   "outputs": [
    {
     "name": "stderr",
     "output_type": "stream",
     "text": [
      "c:\\users\\inves\\appdata\\local\\programs\\python\\python35\\lib\\site-packages\\bs4\\builder\\_lxml.py:250: DeprecationWarning: inspect.getargspec() is deprecated, use inspect.signature() instead\n",
      "  self.parser.feed(markup)\n",
      "c:\\users\\inves\\appdata\\local\\programs\\python\\python35\\lib\\site-packages\\bs4\\builder\\_lxml.py:250: DeprecationWarning: inspect.getargspec() is deprecated, use inspect.signature() instead\n",
      "  self.parser.feed(markup)\n",
      "c:\\users\\inves\\appdata\\local\\programs\\python\\python35\\lib\\site-packages\\bs4\\builder\\_lxml.py:250: DeprecationWarning: inspect.getargspec() is deprecated, use inspect.signature() instead\n",
      "  self.parser.feed(markup)\n",
      "c:\\users\\inves\\appdata\\local\\programs\\python\\python35\\lib\\site-packages\\bs4\\builder\\_lxml.py:250: DeprecationWarning: inspect.getargspec() is deprecated, use inspect.signature() instead\n",
      "  self.parser.feed(markup)\n",
      "c:\\users\\inves\\appdata\\local\\programs\\python\\python35\\lib\\site-packages\\bs4\\builder\\_lxml.py:250: DeprecationWarning: inspect.getargspec() is deprecated, use inspect.signature() instead\n",
      "  self.parser.feed(markup)\n",
      "c:\\users\\inves\\appdata\\local\\programs\\python\\python35\\lib\\site-packages\\bs4\\builder\\_lxml.py:250: DeprecationWarning: inspect.getargspec() is deprecated, use inspect.signature() instead\n",
      "  self.parser.feed(markup)\n",
      "c:\\users\\inves\\appdata\\local\\programs\\python\\python35\\lib\\site-packages\\bs4\\builder\\_lxml.py:250: DeprecationWarning: inspect.getargspec() is deprecated, use inspect.signature() instead\n",
      "  self.parser.feed(markup)\n",
      "c:\\users\\inves\\appdata\\local\\programs\\python\\python35\\lib\\site-packages\\bs4\\builder\\_lxml.py:250: DeprecationWarning: inspect.getargspec() is deprecated, use inspect.signature() instead\n",
      "  self.parser.feed(markup)\n",
      "c:\\users\\inves\\appdata\\local\\programs\\python\\python35\\lib\\site-packages\\bs4\\builder\\_lxml.py:250: DeprecationWarning: inspect.getargspec() is deprecated, use inspect.signature() instead\n",
      "  self.parser.feed(markup)\n",
      "c:\\users\\inves\\appdata\\local\\programs\\python\\python35\\lib\\site-packages\\bs4\\builder\\_lxml.py:250: DeprecationWarning: inspect.getargspec() is deprecated, use inspect.signature() instead\n",
      "  self.parser.feed(markup)\n",
      "c:\\users\\inves\\appdata\\local\\programs\\python\\python35\\lib\\site-packages\\bs4\\builder\\_lxml.py:250: DeprecationWarning: inspect.getargspec() is deprecated, use inspect.signature() instead\n",
      "  self.parser.feed(markup)\n",
      "c:\\users\\inves\\appdata\\local\\programs\\python\\python35\\lib\\site-packages\\bs4\\builder\\_lxml.py:250: DeprecationWarning: inspect.getargspec() is deprecated, use inspect.signature() instead\n",
      "  self.parser.feed(markup)\n",
      "c:\\users\\inves\\appdata\\local\\programs\\python\\python35\\lib\\site-packages\\bs4\\builder\\_lxml.py:250: DeprecationWarning: inspect.getargspec() is deprecated, use inspect.signature() instead\n",
      "  self.parser.feed(markup)\n",
      "c:\\users\\inves\\appdata\\local\\programs\\python\\python35\\lib\\site-packages\\bs4\\builder\\_lxml.py:250: DeprecationWarning: inspect.getargspec() is deprecated, use inspect.signature() instead\n",
      "  self.parser.feed(markup)\n",
      "c:\\users\\inves\\appdata\\local\\programs\\python\\python35\\lib\\site-packages\\bs4\\builder\\_lxml.py:250: DeprecationWarning: inspect.getargspec() is deprecated, use inspect.signature() instead\n",
      "  self.parser.feed(markup)\n",
      "c:\\users\\inves\\appdata\\local\\programs\\python\\python35\\lib\\site-packages\\bs4\\builder\\_lxml.py:250: DeprecationWarning: inspect.getargspec() is deprecated, use inspect.signature() instead\n",
      "  self.parser.feed(markup)\n",
      "c:\\users\\inves\\appdata\\local\\programs\\python\\python35\\lib\\site-packages\\bs4\\builder\\_lxml.py:250: DeprecationWarning: inspect.getargspec() is deprecated, use inspect.signature() instead\n",
      "  self.parser.feed(markup)\n",
      "c:\\users\\inves\\appdata\\local\\programs\\python\\python35\\lib\\site-packages\\bs4\\builder\\_lxml.py:250: DeprecationWarning: inspect.getargspec() is deprecated, use inspect.signature() instead\n",
      "  self.parser.feed(markup)\n",
      "c:\\users\\inves\\appdata\\local\\programs\\python\\python35\\lib\\site-packages\\bs4\\builder\\_lxml.py:250: DeprecationWarning: inspect.getargspec() is deprecated, use inspect.signature() instead\n",
      "  self.parser.feed(markup)\n",
      "c:\\users\\inves\\appdata\\local\\programs\\python\\python35\\lib\\site-packages\\bs4\\builder\\_lxml.py:250: DeprecationWarning: inspect.getargspec() is deprecated, use inspect.signature() instead\n",
      "  self.parser.feed(markup)\n",
      "c:\\users\\inves\\appdata\\local\\programs\\python\\python35\\lib\\site-packages\\bs4\\builder\\_lxml.py:250: DeprecationWarning: inspect.getargspec() is deprecated, use inspect.signature() instead\n",
      "  self.parser.feed(markup)\n",
      "c:\\users\\inves\\appdata\\local\\programs\\python\\python35\\lib\\site-packages\\bs4\\builder\\_lxml.py:250: DeprecationWarning: inspect.getargspec() is deprecated, use inspect.signature() instead\n",
      "  self.parser.feed(markup)\n",
      "c:\\users\\inves\\appdata\\local\\programs\\python\\python35\\lib\\site-packages\\bs4\\builder\\_lxml.py:250: DeprecationWarning: inspect.getargspec() is deprecated, use inspect.signature() instead\n",
      "  self.parser.feed(markup)\n"
     ]
    },
    {
     "name": "stdout",
     "output_type": "stream",
     "text": [
      "current docket text table size/shape: (3244, 4)\n",
      "docket text 0\n",
      "COMPLAINT against Cardiogenics Holdings, Inc. filing fee $ 400, receipt number 0207-8445206 Was the Disclosure Statement on Civil Cover Sheet completed -YES,, filed by LG Capital Funding, LLC. (Steinmetz, Michael) (Additional attachment(s) added on 3/11/2016: # 1 Civil Cover Sheet, # 2 Proposed Summons) (Bowens, Priscilla). (Entered: 03/10/2016) \n",
      "\n",
      "docket text 1\n",
      "Case assigned to Judge Ann M Donnelly and Magistrate Judge Vera M. Scanlon. Please download and review the Individual Practices of the assigned Judges, located on our website. Attorneys are responsible for providing courtesy copies to judges where their Individual Practices require such. (Bowens, Priscilla) (Entered: 03/11/2016) \n",
      "\n",
      "docket text 2\n",
      "Summons Issued as to Cardiogenics Holdings, Inc.. (Bowens, Priscilla) (Entered: 03/11/2016) \n",
      "\n",
      "docket text 3\n",
      "NOTICE - emailed attorney regarding missing second page of the civil cover sheet. (Bowens, Priscilla) (Entered: 03/11/2016) \n",
      "\n",
      "docket text 4\n",
      "In accordance with Rule 73 of the Federal Rules of Civil Procedure and Local Rule 73.1, the parties are notified that if all parties consent a United States magistrate judge of this court is available to conduct all proceedings in this civil action including a (jury or nonjury) trial and to order the entry of a final judgment. Attached to the Notice is a blank copy of the consent form that should be filled out, signed and filed electronically only if all parties wish to consent. The form may also be accessed at the following link: http://www.uscourts.gov/uscourts/FormsAndFees/Forms/AO085.pdf. You may withhold your consent without adverse substantive consequences. Do NOT return or file the consent unless all parties have signed the consent. (Bowens, Priscilla) (Entered: 03/11/2016) \n",
      "\n",
      "Wall time: 12.9 s\n"
     ]
    }
   ],
   "source": [
    "%%time\n",
    "df = grab_docket_train()\n",
    "docket_original = list(df['Docket Text'])\n",
    "for i in range(5):\n",
    "    print('docket text {}'.format(i))\n",
    "    print(docket_original[i], '\\n')"
   ]
  },
  {
   "cell_type": "markdown",
   "metadata": {},
   "source": [
    "### Used Stanford NER to identy Names and Entities"
   ]
  },
  {
   "cell_type": "code",
   "execution_count": 104,
   "metadata": {},
   "outputs": [
    {
     "name": "stdout",
     "output_type": "stream",
     "text": [
      "Wall time: 1h 34min 53s\n"
     ]
    }
   ],
   "source": [
    "%%time\n",
    "path_to_model = r'C:\\Users\\inves\\AppData\\Local\\Programs\\Python\\Python35\\Lib\\site-packages\\nltk\\stanford-ner-2018-02-27\\classifiers\\english.all.3class.distsim.crf.ser.gz'\n",
    "path_to_jar = r'C:\\Users\\inves\\AppData\\Local\\Programs\\Python\\Python35\\Lib\\site-packages\\nltk\\stanford-ner-2018-02-27\\stanford-ner.jar'\n",
    "tagger = StanfordNERTagger(path_to_model, path_to_jar = path_to_jar)\n",
    "\n",
    "output = []\n",
    "#length = 100 \n",
    "length = len(docket_original)\n",
    "for i in range(length):\n",
    "    org_str = []\n",
    "    name_str = []\n",
    "    stripped_str1 = []\n",
    "    stripped_str2 = []\n",
    "    tokens = nltk.tokenize.word_tokenize(docket_original[i])\n",
    "    for label in tagger.tag(tokens):\n",
    "        #print(label)\n",
    "        if label[1] == 'ORGANIZATION':\n",
    "            org_str.append(label[0])\n",
    "            stripped_str1.append('-ORG-')\n",
    "        elif label[1] == 'PERSON':\n",
    "            name_str.append(label[0])\n",
    "            stripped_str1.append('-NAME-')\n",
    "        else:\n",
    "            stripped_str1.append(label[0])\n",
    "            stripped_str2.append(label[0])\n",
    "    \n",
    "    output.append([docket_original[i],\n",
    "                   ' '.join(org_str),\n",
    "                   ' '.join(name_str),\n",
    "                   ' '.join(stripped_str1),\n",
    "                   ' '.join(stripped_str2)])\n",
    "    "
   ]
  },
  {
   "cell_type": "code",
   "execution_count": 107,
   "metadata": {},
   "outputs": [],
   "source": [
    "NER_df = pd.DataFrame(output, columns = ['Original Docket Text', 'Organization Portion', 'Name Portion', \n",
    "                                         'Identifying Org and Name', 'Stripped Org and Name'])"
   ]
  },
  {
   "cell_type": "markdown",
   "metadata": {},
   "source": [
    "### To re-build new_df, start here"
   ]
  },
  {
   "cell_type": "code",
   "execution_count": 312,
   "metadata": {},
   "outputs": [],
   "source": [
    "new_df = NER_df.copy()"
   ]
  },
  {
   "cell_type": "code",
   "execution_count": 313,
   "metadata": {},
   "outputs": [
    {
     "name": "stdout",
     "output_type": "stream",
     "text": [
      "                                Original Docket Text  \\\n",
      "0  COMPLAINT against Cardiogenics Holdings, Inc. ...   \n",
      "1  Case assigned to Judge Ann M Donnelly and Magi...   \n",
      "2  Summons Issued as to Cardiogenics Holdings, In...   \n",
      "3  NOTICE - emailed attorney regarding missing se...   \n",
      "4  In accordance with Rule 73 of the Federal Rule...   \n",
      "\n",
      "                              Organization Portion  \\\n",
      "0  Cardiogenics Holdings , Inc. LG Capital Funding   \n",
      "1      Individual Practices of the assigned Judges   \n",
      "2                            Cardiogenics Holdings   \n",
      "3                                                    \n",
      "4                                                    \n",
      "\n",
      "                                      Name Portion  \\\n",
      "0             ( Steinmetz Michael Bowens Priscilla   \n",
      "1  Ann M Donnelly Vera M. Scanlon Bowens Priscilla   \n",
      "2                                 Bowens Priscilla   \n",
      "3                                 Bowens Priscilla   \n",
      "4                                 Bowens Priscilla   \n",
      "\n",
      "                            Identifying Org and Name  \\\n",
      "0  COMPLAINT against -ORG- -ORG- -ORG- -ORG- fili...   \n",
      "1  Case assigned to Judge -NAME- -NAME- -NAME- an...   \n",
      "2  Summons Issued as to -ORG- -ORG- , Inc.. ( -NA...   \n",
      "3  NOTICE - emailed attorney regarding missing se...   \n",
      "4  In accordance with Rule 73 of the Federal Rule...   \n",
      "\n",
      "                               Stripped Org and Name  \n",
      "0  COMPLAINT against filing fee $ 400 , receipt n...  \n",
      "1  Case assigned to Judge and Magistrate Judge . ...  \n",
      "2  Summons Issued as to , Inc.. ( , ) ( Entered :...  \n",
      "3  NOTICE - emailed attorney regarding missing se...  \n",
      "4  In accordance with Rule 73 of the Federal Rule...  \n"
     ]
    }
   ],
   "source": [
    "print(new_df.head())\n",
    "docket_text_list = list(new_df['Stripped Org and Name'])"
   ]
  },
  {
   "cell_type": "code",
   "execution_count": 314,
   "metadata": {},
   "outputs": [],
   "source": [
    "def text_preprocess1(text):\n",
    "    text = re.sub(\"[\\(\\[].*?[\\)\\]]\", \"\", text)\n",
    "    text = text.replace('-', '')\n",
    "    text = text.replace('(', ' ')\n",
    "    text = text.replace(')', ' ')\n",
    "    text = text.replace('(s)', 's')\n",
    "    text = text.replace(\"'s\", 's')\n",
    "    text = text.replace('*', '')\n",
    "    text = text.replace('', '')\n",
    "    text = text.replace('<', '')\n",
    "    text = text.replace('/', ' ')\n",
    "    text = text.replace('\\\\', '')\n",
    "    text = text.replace('&', ' ')\n",
    "    return text\n",
    "\n",
    "def text_preprocess2(text):\n",
    "    text = text.replace('.', '')\n",
    "    return text\n",
    "\n",
    "def remove_stop(sentence):\n",
    "    output = []\n",
    "    for word in sentence.split():\n",
    "        if word not in set(stopwords.words('english')):\n",
    "            output.append(word)\n",
    "    return ' '.join(output)\n",
    "\n",
    "keywords = pd.read_csv('docket_texts/keywords.csv', header = None)\n",
    "keywords.columns = ['keywords']\n",
    "keyword_list = list(keywords['keywords'])"
   ]
  },
  {
   "cell_type": "code",
   "execution_count": 315,
   "metadata": {},
   "outputs": [
    {
     "name": "stdout",
     "output_type": "stream",
     "text": [
      "Case assigned to Judge and Magistrate Judge . Please download and review the , located on our website . Attorneys are responsible for providing courtesy copies to judges where their Individual Practices require such . ( , ) ( Entered : 03112016 )\n",
      "case assigned to judge and magistrate judge . please download and review the , located on our website . attorneys are responsible for providing courtesy copies to judges where their individual practices require such .  \n",
      "3244\n"
     ]
    }
   ],
   "source": [
    "print(docket_text_list[1])\n",
    "docket_text_list = [text_preprocess1(sentence).lower() for sentence in docket_text_list]\n",
    "print(docket_text_list[1])\n",
    "print(len(docket_text_list))"
   ]
  },
  {
   "cell_type": "code",
   "execution_count": 316,
   "metadata": {},
   "outputs": [],
   "source": [
    "class Splitter(object):\n",
    "\n",
    "    def __init__(self):\n",
    "        self.splitter = nltk.data.load('tokenizers/punkt/english.pickle')\n",
    "        self.tokenizer = nltk.tokenize.TreebankWordTokenizer()\n",
    "\n",
    "    def split(self,text):\n",
    "\n",
    "        # split into single sentence\n",
    "        sentences = self.splitter.tokenize(text)\n",
    "        # tokenization in each sentences\n",
    "        tokens = [self.tokenizer.tokenize(remove_stop(sent)) for sent in sentences]\n",
    "        return tokens\n",
    "\n",
    "\n",
    "class LemmatizationWithPOSTagger(object):\n",
    "    def __init__(self):\n",
    "        pass\n",
    "    def get_wordnet_pos(self,treebank_tag):\n",
    "        \"\"\"\n",
    "        return WORDNET POS compliance to WORDENT lemmatization (a,n,r,v) \n",
    "        \"\"\"\n",
    "        if treebank_tag.startswith('J'):\n",
    "            return wordnet.ADJ\n",
    "        elif treebank_tag.startswith('V'):\n",
    "            return wordnet.VERB\n",
    "        elif treebank_tag.startswith('N'):\n",
    "            return wordnet.NOUN\n",
    "        elif treebank_tag.startswith('R'):\n",
    "            return wordnet.ADV\n",
    "        else:\n",
    "            # As default pos in lemmatization is Noun\n",
    "            return wordnet.NOUN\n",
    "\n",
    "    def pos_tag(self,tokens):\n",
    "        # find the pos tagginf for each tokens [('What', 'WP'), ('can', 'MD'), ('I', 'PRP') ....\n",
    "        pos_tokens = [nltk.pos_tag(token) for token in tokens]\n",
    "\n",
    "        # lemmatization using pos tagg   \n",
    "        # convert into feature set of [('What', 'What', ['WP']), ('can', 'can', ['MD']), ... ie [original WORD, Lemmatized word, POS tag]\n",
    "        pos_tokens = [ [(word, lemmatizer.lemmatize(word,self.get_wordnet_pos(pos_tag)), [pos_tag]) for (word,pos_tag) in pos] for pos in pos_tokens]\n",
    "        return pos_tokens"
   ]
  },
  {
   "cell_type": "code",
   "execution_count": 317,
   "metadata": {},
   "outputs": [
    {
     "name": "stdout",
     "output_type": "stream",
     "text": [
      "Wall time: 1min 48s\n"
     ]
    }
   ],
   "source": [
    "%%time\n",
    "lemmatizer = WordNetLemmatizer()\n",
    "splitter = Splitter()\n",
    "lemmatization_using_pos_tagger = LemmatizationWithPOSTagger()\n",
    "\n",
    "lemma_docket_text_list = []\n",
    "for docket_text in docket_text_list:\n",
    "    #step 1 split document into sentence followed by tokenization\n",
    "    tokens = splitter.split(docket_text)\n",
    "\n",
    "    #step 2 lemmatization using pos tagger \n",
    "    lemma_pos_token = lemmatization_using_pos_tagger.pos_tag(tokens)\n",
    "    lemma_docket_text_list.append(lemma_pos_token)"
   ]
  },
  {
   "cell_type": "code",
   "execution_count": 318,
   "metadata": {},
   "outputs": [
    {
     "name": "stdout",
     "output_type": "stream",
     "text": [
      "3244\n",
      "2\n",
      "22\n",
      "('complaint', 'complaint', ['NN'])\n",
      "complaint\n"
     ]
    }
   ],
   "source": [
    "print(len(lemma_docket_text_list)) #docket text document level\n",
    "print(len(lemma_docket_text_list[0])) #docket text sentence level\n",
    "print(len(lemma_docket_text_list[0][0])) #docket text word level\n",
    "print(lemma_docket_text_list[0][0][0]) #docket text token level\n",
    "print(lemma_docket_text_list[0][0][0][0]) #docket text tuple level"
   ]
  },
  {
   "cell_type": "code",
   "execution_count": 319,
   "metadata": {},
   "outputs": [],
   "source": [
    "#lets do a collection of what we have\n",
    "collection = {}\n",
    "for lemma_pos_token in lemma_docket_text_list:\n",
    "    for sentence in lemma_pos_token:\n",
    "        for token in sentence:\n",
    "            #print(token[2][0])\n",
    "            if token[2][0] not in list(collection.keys()):\n",
    "                collection[token[2][0]] = []\n",
    "                collection[token[2][0]].append(token[1])\n",
    "            else:\n",
    "                if token[1] not in collection[token[2][0]]:\n",
    "                    collection[token[2][0]].append(token[1])"
   ]
  },
  {
   "cell_type": "code",
   "execution_count": 320,
   "metadata": {},
   "outputs": [],
   "source": [
    "pd.DataFrame(dict([ (k, pd.Series(v)) for k, v in collection.items()])).to_csv('NLP_pos.csv', index = False)"
   ]
  },
  {
   "cell_type": "code",
   "execution_count": 362,
   "metadata": {},
   "outputs": [
    {
     "name": "stdout",
     "output_type": "stream",
     "text": [
      "[['complaint file fee receipt number disclosure civil cover sheet complete yes file .', 'civil cover sheet propose summons .'], ['assign .', 'please download locate website .', 'responsible courtesy individual practice .'], ['summons issue'], ['notice email miss civil cover sheet .'], ['accordance rule federal rule civil procedure local rule notify consent united state available conduct civil trial order entry final judgment .', 'notice blank consent fill file electronically wish consent .', 'also access link http www.uscourts.govuscourtsformsandfeesformsao085.pdf .', 'withhold consent without adverse substantive consequence .', 'file consent unless consent .'], ['open filing check quality control .', 'correction .'], ['notice appearance'], ['backend note .', 'document complaint file .', ''], ['ta letter .', 'document complaint file .', ''], ['c notice conversion .', 'document complaint file .', '']]\n",
      "Wall time: 767 ms\n"
     ]
    }
   ],
   "source": [
    "%%time\n",
    "remove_pos = [\"``\", \"NNPS\", \"NNP\", \"CD\", '#', '$', \"''\", \",\", \"0\", \":\"]\n",
    "remove_word = [\"'s\", \"judge\", \"party\", \"defendant\", \"ex\", \"plantiff\", \"shall\", \"date\", \"b\", \"exhibit\", \"pennsylvania\", \"sign_judge\", \n",
    "               \"Inc..\", \"inc..\", \"llc\", \"'\", \"[_]\", \"action\", \"clerk\", \"july\", \"kw\", \"regard\", \"sac\", \"attachment\", \"c.d\", \"cal\", \"case\", \"cd\", \"l.p.\", \n",
    "               \"claim\", \"copy\", \"court\", \"direct\", \"form\", \"hereby\", \"magistrate\", \"p.c\", \"pl\", \"plaintiff\", \"regard\", \"sign\", \"time\", \"mr.\", \n",
    "               \"docket\", \"follow\", \"set\", \"matter\" \"agreement\" \"proceeding\", \"cotton\", \"january\", \"february\", \"march\", \"april\", \"may\", \"june\", \n",
    "               \"july\", \"august\", \"september\", \"october\", \"november\", \"december\",\n",
    "               \"agreement\", \"v.\", \"place_vault\", \"modify\", \"fund\", \"associated\", \"provide\", \"material\", \"amount\", \"accordingly\", \"additional\", \n",
    "               \"second\", \"esq\", \"transmission\", \"g.c.\", \"seal\", \"review\", \"honor\", \"submit\", \"counsel\", \"witness\", \"civ\", \"first\", \"ltd..\", \"enter\", \n",
    "               \"stay\", \"forth\", \"matter\", \"whether\", \"class\", \"master\", \"information\", \"statement\", \"submission\", \"related\", \"see\", \"make\", \"paper\", \n",
    "               \"brookfield\", \"designate\", \"remain\", \"reportertranscriber\", \"submit\", \"include\", \"mail\", \"fact\", \"refer\", \"take\", \"pursuant\", \"amount\", \n",
    "               \"behalf\", \"I.p..\", \"must\", \"attorney\",\n",
    "               'abovecapitoned', 'attach', 'add', 'concern', 'chamber', 'close', 'district', 'damage', 'later', \n",
    "               'relate', 'return', 'require', 'restriction', 'respect', 'ny', 'seek', 'write', 'expert', 'transcript', \n",
    "               'day', 'h.o', 'damage', 'pre', 'proceeding', 'present', 'page', 'pending', 'p.m.', 'frcp', 'g.c.', 'record', 'r.']\n",
    "\n",
    "    \n",
    "#rebuild corpus\n",
    "docket_texts_output = [] #ultimate output after cleaning\n",
    "\n",
    "for lemma_pos_token in lemma_docket_text_list:\n",
    "    docket_text_output = [] \n",
    "    for sentence in lemma_pos_token:\n",
    "        sentence_output = []\n",
    "        for token in sentence:\n",
    "            #print(token[1])\n",
    "            \n",
    "            if token[2][0] not in remove_pos: #if the pos is not in the remove_pos list\n",
    "                if token[1] not in remove_word: #these are the intentionally left out words\n",
    "                    sentence_output.append(token[1]) #append the the sentence\n",
    "        docket_text_output.append(' '.join(sentence_output))\n",
    "    docket_texts_output.append(docket_text_output)\n",
    "print(docket_texts_output[:10])"
   ]
  },
  {
   "cell_type": "code",
   "execution_count": 363,
   "metadata": {},
   "outputs": [
    {
     "data": {
      "text/html": [
       "<div>\n",
       "<table border=\"1\" class=\"dataframe\">\n",
       "  <thead>\n",
       "    <tr style=\"text-align: right;\">\n",
       "      <th></th>\n",
       "      <th>Original Docket Text</th>\n",
       "      <th>Organization Portion</th>\n",
       "      <th>Name Portion</th>\n",
       "      <th>Identifying Org and Name</th>\n",
       "      <th>Stripped Org and Name</th>\n",
       "      <th>Removed unnecessary POS &amp; vocab</th>\n",
       "      <th>Apply Trigram Phrase Model</th>\n",
       "      <th>2-topic Model Classification</th>\n",
       "      <th>3-topic Model Classificaiton</th>\n",
       "      <th>4-topic Model Classificaiton</th>\n",
       "      <th>5-topic Model Classificaiton</th>\n",
       "      <th>6-topic Model Classificaiton</th>\n",
       "      <th>10-topic Model Classificaiton</th>\n",
       "    </tr>\n",
       "  </thead>\n",
       "  <tbody>\n",
       "    <tr>\n",
       "      <th>0</th>\n",
       "      <td>COMPLAINT against Cardiogenics Holdings, Inc. ...</td>\n",
       "      <td>Cardiogenics Holdings , Inc. LG Capital Funding</td>\n",
       "      <td>( Steinmetz Michael Bowens Priscilla</td>\n",
       "      <td>COMPLAINT against -ORG- -ORG- -ORG- -ORG- fili...</td>\n",
       "      <td>COMPLAINT against filing fee $ 400 , receipt n...</td>\n",
       "      <td>[complaint file fee receipt number disclosure ...</td>\n",
       "      <td>[complaint file disclosure_civil_cover sheet_c...</td>\n",
       "      <td>[(Topic 1, 0.80828), (Topic 0, 0.19172)]</td>\n",
       "      <td>[(Topic 2, 0.71253), (Topic 0, 0.20244), (Topi...</td>\n",
       "      <td>[(Topic 0, 0.75665), (Topic 2, 0.15427)]</td>\n",
       "      <td>[(Topic 4, 0.86251)]</td>\n",
       "      <td>[(Topic 0, 0.69796), (Topic 2, 0.19017)]</td>\n",
       "      <td>[(Topic 2, 0.63153), (Topic 0, 0.23512)]</td>\n",
       "    </tr>\n",
       "    <tr>\n",
       "      <th>1</th>\n",
       "      <td>Case assigned to Judge Ann M Donnelly and Magi...</td>\n",
       "      <td>Individual Practices of the assigned Judges</td>\n",
       "      <td>Ann M Donnelly Vera M. Scanlon Bowens Priscilla</td>\n",
       "      <td>Case assigned to Judge -NAME- -NAME- -NAME- an...</td>\n",
       "      <td>Case assigned to Judge and Magistrate Judge . ...</td>\n",
       "      <td>[assign ., please download locate website ., r...</td>\n",
       "      <td>[assign ., please_download_locate_website ., r...</td>\n",
       "      <td>[(Topic 0, 0.85987), (Topic 1, 0.14013)]</td>\n",
       "      <td>[(Topic 1, 0.82983), (Topic 2, 0.08536), (Topi...</td>\n",
       "      <td>[(Topic 2, 0.80178), (Topic 3, 0.06892), (Topi...</td>\n",
       "      <td>[(Topic 2, 0.79781), (Topic 4, 0.05165), (Topi...</td>\n",
       "      <td>[(Topic 1, 0.79004)]</td>\n",
       "      <td>[(Topic 4, 0.77496)]</td>\n",
       "    </tr>\n",
       "    <tr>\n",
       "      <th>2</th>\n",
       "      <td>Summons Issued as to Cardiogenics Holdings, In...</td>\n",
       "      <td>Cardiogenics Holdings</td>\n",
       "      <td>Bowens Priscilla</td>\n",
       "      <td>Summons Issued as to -ORG- -ORG- , Inc.. ( -NA...</td>\n",
       "      <td>Summons Issued as to , Inc.. ( , ) ( Entered :...</td>\n",
       "      <td>[summons issue]</td>\n",
       "      <td>[summons_issue]</td>\n",
       "      <td>[(Topic 1, 0.72046), (Topic 0, 0.27954)]</td>\n",
       "      <td>[(Topic 0, 0.6382), (Topic 2, 0.18141), (Topic...</td>\n",
       "      <td>[(Topic 3, 0.61475), (Topic 1, 0.13016), (Topi...</td>\n",
       "      <td>[(Topic 4, 0.59926), (Topic 1, 0.10025), (Topi...</td>\n",
       "      <td>[(Topic 2, 0.58153), (Topic 1, 0.08402), (Topi...</td>\n",
       "      <td>[(Topic 1, 0.54995), (Topic 3, 0.05002), (Topi...</td>\n",
       "    </tr>\n",
       "    <tr>\n",
       "      <th>3</th>\n",
       "      <td>NOTICE - emailed attorney regarding missing se...</td>\n",
       "      <td></td>\n",
       "      <td>Bowens Priscilla</td>\n",
       "      <td>NOTICE - emailed attorney regarding missing se...</td>\n",
       "      <td>NOTICE - emailed attorney regarding missing se...</td>\n",
       "      <td>[notice email miss civil cover sheet .]</td>\n",
       "      <td>[notice email miss page civil_cover_sheet .]</td>\n",
       "      <td>[(Topic 0, 0.64896), (Topic 1, 0.35104)]</td>\n",
       "      <td>[(Topic 2, 0.85621), (Topic 0, 0.07284), (Topi...</td>\n",
       "      <td>[(Topic 2, 0.70144), (Topic 0, 0.19483), (Topi...</td>\n",
       "      <td>[(Topic 1, 0.47259), (Topic 2, 0.4039)]</td>\n",
       "      <td>[(Topic 2, 0.83176)]</td>\n",
       "      <td>[(Topic 8, 0.5112), (Topic 2, 0.32877)]</td>\n",
       "    </tr>\n",
       "    <tr>\n",
       "      <th>4</th>\n",
       "      <td>In accordance with Rule 73 of the Federal Rule...</td>\n",
       "      <td></td>\n",
       "      <td>Bowens Priscilla</td>\n",
       "      <td>In accordance with Rule 73 of the Federal Rule...</td>\n",
       "      <td>In accordance with Rule 73 of the Federal Rule...</td>\n",
       "      <td>[accordance rule federal rule civil procedure ...</td>\n",
       "      <td>[accordance rule_federal_rule civil_procedure_...</td>\n",
       "      <td>[(Topic 1, 0.9371), (Topic 0, 0.0629)]</td>\n",
       "      <td>[(Topic 0, 0.66904), (Topic 2, 0.29073)]</td>\n",
       "      <td>[(Topic 3, 0.49938), (Topic 2, 0.44613)]</td>\n",
       "      <td>[(Topic 3, 0.77662), (Topic 4, 0.16245)]</td>\n",
       "      <td>[(Topic 0, 0.48542), (Topic 4, 0.4474)]</td>\n",
       "      <td>[(Topic 8, 0.90998)]</td>\n",
       "    </tr>\n",
       "  </tbody>\n",
       "</table>\n",
       "</div>"
      ],
      "text/plain": [
       "                                Original Docket Text  \\\n",
       "0  COMPLAINT against Cardiogenics Holdings, Inc. ...   \n",
       "1  Case assigned to Judge Ann M Donnelly and Magi...   \n",
       "2  Summons Issued as to Cardiogenics Holdings, In...   \n",
       "3  NOTICE - emailed attorney regarding missing se...   \n",
       "4  In accordance with Rule 73 of the Federal Rule...   \n",
       "\n",
       "                              Organization Portion  \\\n",
       "0  Cardiogenics Holdings , Inc. LG Capital Funding   \n",
       "1      Individual Practices of the assigned Judges   \n",
       "2                            Cardiogenics Holdings   \n",
       "3                                                    \n",
       "4                                                    \n",
       "\n",
       "                                      Name Portion  \\\n",
       "0             ( Steinmetz Michael Bowens Priscilla   \n",
       "1  Ann M Donnelly Vera M. Scanlon Bowens Priscilla   \n",
       "2                                 Bowens Priscilla   \n",
       "3                                 Bowens Priscilla   \n",
       "4                                 Bowens Priscilla   \n",
       "\n",
       "                            Identifying Org and Name  \\\n",
       "0  COMPLAINT against -ORG- -ORG- -ORG- -ORG- fili...   \n",
       "1  Case assigned to Judge -NAME- -NAME- -NAME- an...   \n",
       "2  Summons Issued as to -ORG- -ORG- , Inc.. ( -NA...   \n",
       "3  NOTICE - emailed attorney regarding missing se...   \n",
       "4  In accordance with Rule 73 of the Federal Rule...   \n",
       "\n",
       "                               Stripped Org and Name  \\\n",
       "0  COMPLAINT against filing fee $ 400 , receipt n...   \n",
       "1  Case assigned to Judge and Magistrate Judge . ...   \n",
       "2  Summons Issued as to , Inc.. ( , ) ( Entered :...   \n",
       "3  NOTICE - emailed attorney regarding missing se...   \n",
       "4  In accordance with Rule 73 of the Federal Rule...   \n",
       "\n",
       "                     Removed unnecessary POS & vocab  \\\n",
       "0  [complaint file fee receipt number disclosure ...   \n",
       "1  [assign ., please download locate website ., r...   \n",
       "2                                    [summons issue]   \n",
       "3            [notice email miss civil cover sheet .]   \n",
       "4  [accordance rule federal rule civil procedure ...   \n",
       "\n",
       "                          Apply Trigram Phrase Model  \\\n",
       "0  [complaint file disclosure_civil_cover sheet_c...   \n",
       "1  [assign ., please_download_locate_website ., r...   \n",
       "2                                    [summons_issue]   \n",
       "3       [notice email miss page civil_cover_sheet .]   \n",
       "4  [accordance rule_federal_rule civil_procedure_...   \n",
       "\n",
       "               2-topic Model Classification  \\\n",
       "0  [(Topic 1, 0.80828), (Topic 0, 0.19172)]   \n",
       "1  [(Topic 0, 0.85987), (Topic 1, 0.14013)]   \n",
       "2  [(Topic 1, 0.72046), (Topic 0, 0.27954)]   \n",
       "3  [(Topic 0, 0.64896), (Topic 1, 0.35104)]   \n",
       "4    [(Topic 1, 0.9371), (Topic 0, 0.0629)]   \n",
       "\n",
       "                        3-topic Model Classificaiton  \\\n",
       "0  [(Topic 2, 0.71253), (Topic 0, 0.20244), (Topi...   \n",
       "1  [(Topic 1, 0.82983), (Topic 2, 0.08536), (Topi...   \n",
       "2  [(Topic 0, 0.6382), (Topic 2, 0.18141), (Topic...   \n",
       "3  [(Topic 2, 0.85621), (Topic 0, 0.07284), (Topi...   \n",
       "4           [(Topic 0, 0.66904), (Topic 2, 0.29073)]   \n",
       "\n",
       "                        4-topic Model Classificaiton  \\\n",
       "0           [(Topic 0, 0.75665), (Topic 2, 0.15427)]   \n",
       "1  [(Topic 2, 0.80178), (Topic 3, 0.06892), (Topi...   \n",
       "2  [(Topic 3, 0.61475), (Topic 1, 0.13016), (Topi...   \n",
       "3  [(Topic 2, 0.70144), (Topic 0, 0.19483), (Topi...   \n",
       "4           [(Topic 3, 0.49938), (Topic 2, 0.44613)]   \n",
       "\n",
       "                        5-topic Model Classificaiton  \\\n",
       "0                               [(Topic 4, 0.86251)]   \n",
       "1  [(Topic 2, 0.79781), (Topic 4, 0.05165), (Topi...   \n",
       "2  [(Topic 4, 0.59926), (Topic 1, 0.10025), (Topi...   \n",
       "3            [(Topic 1, 0.47259), (Topic 2, 0.4039)]   \n",
       "4           [(Topic 3, 0.77662), (Topic 4, 0.16245)]   \n",
       "\n",
       "                        6-topic Model Classificaiton  \\\n",
       "0           [(Topic 0, 0.69796), (Topic 2, 0.19017)]   \n",
       "1                               [(Topic 1, 0.79004)]   \n",
       "2  [(Topic 2, 0.58153), (Topic 1, 0.08402), (Topi...   \n",
       "3                               [(Topic 2, 0.83176)]   \n",
       "4            [(Topic 0, 0.48542), (Topic 4, 0.4474)]   \n",
       "\n",
       "                       10-topic Model Classificaiton  \n",
       "0           [(Topic 2, 0.63153), (Topic 0, 0.23512)]  \n",
       "1                               [(Topic 4, 0.77496)]  \n",
       "2  [(Topic 1, 0.54995), (Topic 3, 0.05002), (Topi...  \n",
       "3            [(Topic 8, 0.5112), (Topic 2, 0.32877)]  \n",
       "4                               [(Topic 8, 0.90998)]  "
      ]
     },
     "execution_count": 363,
     "metadata": {},
     "output_type": "execute_result"
    }
   ],
   "source": [
    "new_df['Removed unnecessary POS & vocab'] = pd.Series(docket_texts_output)\n",
    "new_df.head()"
   ]
  },
  {
   "cell_type": "code",
   "execution_count": 403,
   "metadata": {},
   "outputs": [],
   "source": [
    "unigram_sentences_filepath = 'docket_texts/train/unigram_nltk_noorgnoname.txt'"
   ]
  },
  {
   "cell_type": "code",
   "execution_count": 404,
   "metadata": {},
   "outputs": [
    {
     "name": "stdout",
     "output_type": "stream",
     "text": [
      "Wall time: 22.1 ms\n"
     ]
    }
   ],
   "source": [
    "%%time\n",
    "# turn the lemmatized corpus into unigram sentences\n",
    "with codecs.open(unigram_sentences_filepath, 'w', encoding = 'utf_8') as f:\n",
    "    for docket_text in docket_texts_output:\n",
    "        for sentence in docket_text:\n",
    "            f.write(sentence + '\\n')"
   ]
  },
  {
   "cell_type": "code",
   "execution_count": 405,
   "metadata": {},
   "outputs": [],
   "source": [
    "unigram_sentences = LineSentence(unigram_sentences_filepath)"
   ]
  },
  {
   "cell_type": "code",
   "execution_count": 406,
   "metadata": {},
   "outputs": [
    {
     "name": "stdout",
     "output_type": "stream",
     "text": [
      "Original text:\n",
      "['complaint file fee receipt number disclosure civil cover sheet complete yes file .', 'civil cover sheet propose summons .']\n",
      "\n",
      "Unigram_sentence:\n",
      "complaint file fee receipt number disclosure civil cover sheet complete yes file .\n",
      "\n",
      "civil cover sheet propose summons .\n",
      "\n",
      "assign .\n",
      "\n",
      "please download locate website .\n",
      "\n",
      "responsible courtesy individual practice .\n",
      "\n",
      "summons issue\n",
      "\n",
      "notice email miss civil cover sheet .\n",
      "\n",
      "accordance rule federal rule civil procedure local rule notify consent united state available conduct civil trial order entry final judgment .\n",
      "\n",
      "notice blank consent fill file electronically wish consent .\n",
      "\n",
      "also access link http www.uscourts.govuscourtsformsandfeesformsao085.pdf .\n",
      "\n"
     ]
    }
   ],
   "source": [
    "#let's do some comparision between the original text and unigram sentences, shouldn't be that different.\n",
    "print('Original text:')\n",
    "print(new_df['Removed unnecessary POS & vocab'].iloc[0])\n",
    "#print(df['Docket Text'].iloc[1])\n",
    "\n",
    "print('\\nUnigram_sentence:')\n",
    "for unigram_sentence in it.islice(unigram_sentences, 0, 10):\n",
    "    print(' '.join(unigram_sentence))\n",
    "    print('')"
   ]
  },
  {
   "cell_type": "code",
   "execution_count": 407,
   "metadata": {},
   "outputs": [],
   "source": [
    "bigram_model_filepath = 'docket_texts/train/bigram_model_noorgnoname' "
   ]
  },
  {
   "cell_type": "code",
   "execution_count": 408,
   "metadata": {},
   "outputs": [
    {
     "name": "stdout",
     "output_type": "stream",
     "text": [
      "Wall time: 166 ms\n"
     ]
    }
   ],
   "source": [
    "%%time\n",
    "\n",
    "# store our bigram model\n",
    "bigram_model = Phrases(unigram_sentences)\n",
    "bigram_model.save(bigram_model_filepath)\n",
    "    \n",
    "# load the finished model from disk if we don't want to run this again\n",
    "#bigram_model = Phrases.load(bigram_model_filepath)"
   ]
  },
  {
   "cell_type": "code",
   "execution_count": 409,
   "metadata": {},
   "outputs": [],
   "source": [
    "bigram_sentences_filepath = 'docket_texts/train/bigram_sentences_noorgnoname.txt'"
   ]
  },
  {
   "cell_type": "code",
   "execution_count": 410,
   "metadata": {},
   "outputs": [
    {
     "name": "stderr",
     "output_type": "stream",
     "text": [
      "c:\\users\\inves\\appdata\\local\\programs\\python\\python35\\lib\\site-packages\\gensim\\models\\phrases.py:494: UserWarning: For a faster implementation, use the gensim.models.phrases.Phraser class\n",
      "  warnings.warn(\"For a faster implementation, use the gensim.models.phrases.Phraser class\")\n"
     ]
    },
    {
     "name": "stdout",
     "output_type": "stream",
     "text": [
      "Wall time: 363 ms\n"
     ]
    }
   ],
   "source": [
    "%%time\n",
    "\n",
    "# apply the bigram model, and write it to file\n",
    "with codecs.open(bigram_sentences_filepath, 'w', encoding = 'utf_8') as f:\n",
    "    for unigram_sentence in unigram_sentences:\n",
    "        bigram_sentence = ' '.join(bigram_model[unigram_sentence])\n",
    "        f.write(bigram_sentence + '\\n')"
   ]
  },
  {
   "cell_type": "code",
   "execution_count": 411,
   "metadata": {},
   "outputs": [
    {
     "name": "stdout",
     "output_type": "stream",
     "text": [
      "unigram length = 8627, bigram length = 8627\n"
     ]
    }
   ],
   "source": [
    "bigram_sentences = LineSentence(bigram_sentences_filepath)\n",
    "print('unigram length = {}, bigram length = {}'.format(len(list(unigram_sentences)), len(list(bigram_sentences))))"
   ]
  },
  {
   "cell_type": "code",
   "execution_count": 412,
   "metadata": {},
   "outputs": [
    {
     "name": "stdout",
     "output_type": "stream",
     "text": [
      "Original text:\n",
      "['complaint file fee receipt number disclosure civil cover sheet complete yes file .', 'civil cover sheet propose summons .']\n",
      "['assign .', 'please download locate website .', 'responsible courtesy individual practice .']\n",
      "\n",
      "Unigram sentence:\n",
      "complaint file fee receipt number disclosure civil cover sheet complete yes file .\n",
      "civil cover sheet propose summons .\n",
      "assign .\n",
      "please download locate website .\n",
      "responsible courtesy individual practice .\n",
      "summons issue\n",
      "notice email miss civil cover sheet .\n",
      "accordance rule federal rule civil procedure local rule notify consent united state available conduct civil trial order entry final judgment .\n",
      "notice blank consent fill file electronically wish consent .\n",
      "also access link http www.uscourts.govuscourtsformsandfeesformsao085.pdf .\n",
      "\n",
      "Bigram sentence:\n",
      "complaint file fee_receipt number disclosure civil_cover sheet complete_yes file .\n",
      "civil_cover sheet propose summons .\n",
      "assign .\n",
      "please_download locate_website .\n",
      "responsible_courtesy individual_practice .\n",
      "summons_issue\n",
      "notice email miss civil_cover sheet .\n",
      "accordance rule federal_rule civil_procedure local_rule notify_consent united_state available_conduct civil trial order entry final judgment .\n",
      "notice blank_consent fill file electronically_wish consent .\n",
      "also_access link_http www.uscourts.govuscourtsformsandfeesformsao085.pdf .\n"
     ]
    }
   ],
   "source": [
    "#original v. unigram v. bigram. Some phrases should be combined already\n",
    "start = 0\n",
    "finish = 10\n",
    "print('Original text:')\n",
    "print(new_df['Removed unnecessary POS & vocab'].iloc[0])\n",
    "print(new_df['Removed unnecessary POS & vocab'].iloc[1])\n",
    "\n",
    "print('\\nUnigram sentence:')\n",
    "for unigram_sentence in it.islice(unigram_sentences, 0, 10):\n",
    "    print(' '.join(unigram_sentence))\n",
    "print('\\nBigram sentence:')\n",
    "for bigram_sentence in it.islice(bigram_sentences, start, finish):\n",
    "    print(' '.join(bigram_sentence))"
   ]
  },
  {
   "cell_type": "code",
   "execution_count": 413,
   "metadata": {},
   "outputs": [],
   "source": [
    "trigram_model_filepath = 'docket_texts/train/trigram_model_nonamenoorg'"
   ]
  },
  {
   "cell_type": "code",
   "execution_count": 414,
   "metadata": {},
   "outputs": [
    {
     "name": "stdout",
     "output_type": "stream",
     "text": [
      "Wall time: 142 ms\n"
     ]
    }
   ],
   "source": [
    "%%time\n",
    "\n",
    "# again, using Phrases to attach more words to phrases already formed\n",
    "trigram_model = Phrases(bigram_sentences)\n",
    "trigram_model.save(trigram_model_filepath)\n",
    "\n",
    "# load the finished model from disk\n",
    "#trigram_model = Phrases.load(trigram_model_filepath)"
   ]
  },
  {
   "cell_type": "code",
   "execution_count": 415,
   "metadata": {},
   "outputs": [],
   "source": [
    "trigram_sentences_filepath = 'docket_texts/train/trigram_sentences_nonamenoorg.txt'"
   ]
  },
  {
   "cell_type": "code",
   "execution_count": 440,
   "metadata": {},
   "outputs": [
    {
     "name": "stderr",
     "output_type": "stream",
     "text": [
      "c:\\users\\inves\\appdata\\local\\programs\\python\\python35\\lib\\site-packages\\gensim\\models\\phrases.py:494: UserWarning: For a faster implementation, use the gensim.models.phrases.Phraser class\n",
      "  warnings.warn(\"For a faster implementation, use the gensim.models.phrases.Phraser class\")\n"
     ]
    },
    {
     "name": "stdout",
     "output_type": "stream",
     "text": [
      "Wall time: 331 ms\n"
     ]
    }
   ],
   "source": [
    "%%time\n",
    "\n",
    "with codecs.open(trigram_sentences_filepath, 'w', encoding = 'utf_8') as f:\n",
    "    for bigram_sentence in bigram_sentences:\n",
    "        #print('Bi', bigram_sentence)\n",
    "        trigram_sentence = ' '.join(trigram_model[bigram_sentence])\n",
    "        #print('Tri', trigram_sentence)\n",
    "        f.write(trigram_sentence + '\\n')"
   ]
  },
  {
   "cell_type": "code",
   "execution_count": 417,
   "metadata": {},
   "outputs": [],
   "source": [
    "trigram_sentences = LineSentence(trigram_sentences_filepath)"
   ]
  },
  {
   "cell_type": "code",
   "execution_count": 418,
   "metadata": {},
   "outputs": [
    {
     "name": "stdout",
     "output_type": "stream",
     "text": [
      "Original text:\n",
      "['complaint file fee receipt number disclosure civil cover sheet complete yes file .', 'civil cover sheet propose summons .'] \n",
      "\n",
      "['assign .', 'please download locate website .', 'responsible courtesy individual practice .'] \n",
      "\n",
      "['summons issue'] \n",
      "\n",
      "['notice email miss civil cover sheet .'] \n",
      "\n",
      "\n",
      "UNIGRAM Sentence:\n",
      "complaint file fee receipt number disclosure civil cover sheet complete yes file .\n",
      "civil cover sheet propose summons .\n",
      "assign .\n",
      "please download locate website .\n",
      "responsible courtesy individual practice .\n",
      "summons issue\n",
      "notice email miss civil cover sheet .\n",
      "accordance rule federal rule civil procedure local rule notify consent united state available conduct civil trial order entry final judgment .\n",
      "notice blank consent fill file electronically wish consent .\n",
      "also access link http www.uscourts.govuscourtsformsandfeesformsao085.pdf .\n",
      "withhold consent without adverse substantive consequence .\n",
      "file consent unless consent .\n",
      "open filing check quality control .\n",
      "correction .\n",
      "notice appearance\n",
      "\n",
      "BIGRAM Sentence:\n",
      "complaint file fee_receipt number disclosure civil_cover sheet complete_yes file .\n",
      "civil_cover sheet propose summons .\n",
      "assign .\n",
      "please_download locate_website .\n",
      "responsible_courtesy individual_practice .\n",
      "summons_issue\n",
      "notice email miss civil_cover sheet .\n",
      "accordance rule federal_rule civil_procedure local_rule notify_consent united_state available_conduct civil trial order entry final judgment .\n",
      "notice blank_consent fill file electronically_wish consent .\n",
      "also_access link_http www.uscourts.govuscourtsformsandfeesformsao085.pdf .\n",
      "withhold_consent without_adverse substantive_consequence .\n",
      "file consent unless consent .\n",
      "open filing check_quality control .\n",
      "correction .\n",
      "notice_appearance\n",
      "\n",
      "TRIGRAM Sentence:\n",
      "complaint file fee_receipt_number disclosure_civil_cover sheet_complete_yes file .\n",
      "civil_cover_sheet propose summons .\n",
      "assign .\n",
      "please_download_locate_website .\n",
      "responsible_courtesy_individual_practice .\n",
      "summons_issue\n",
      "notice email miss civil_cover_sheet .\n",
      "accordance rule_federal_rule civil_procedure_local_rule notify_consent_united_state available_conduct_civil trial order entry final_judgment .\n",
      "notice blank_consent_fill file electronically_wish_consent .\n",
      "also_access_link_http www.uscourts.govuscourtsformsandfeesformsao085.pdf .\n",
      "withhold_consent_without_adverse substantive_consequence .\n",
      "file consent_unless consent .\n",
      "open_filing check_quality_control .\n",
      "correction .\n",
      "notice_appearance\n"
     ]
    }
   ],
   "source": [
    "start = 0\n",
    "finish = 15\n",
    "print('Original text:')\n",
    "print(new_df['Removed unnecessary POS & vocab'].iloc[0],'\\n')\n",
    "print(new_df['Removed unnecessary POS & vocab'].iloc[1],'\\n')\n",
    "print(new_df['Removed unnecessary POS & vocab'].iloc[2],'\\n')\n",
    "print(new_df['Removed unnecessary POS & vocab'].iloc[3],'\\n')\n",
    "\n",
    "print('\\nUNIGRAM Sentence:')\n",
    "for unigram_sentence in it.islice(unigram_sentences, start, finish):\n",
    "    print(' '.join(unigram_sentence))\n",
    "print('\\nBIGRAM Sentence:')\n",
    "for bigram_sentence in it.islice(bigram_sentences, start, finish):\n",
    "    print(' '.join(bigram_sentence))\n",
    "print('\\nTRIGRAM Sentence:')\n",
    "for trigram_sentence in it.islice(trigram_sentences, start, finish):\n",
    "    print(' '.join(trigram_sentence))"
   ]
  },
  {
   "cell_type": "code",
   "execution_count": 419,
   "metadata": {},
   "outputs": [],
   "source": [
    "def trigram_transform(texts):\n",
    "    trigram_output = []\n",
    "    #print(texts)\n",
    "    remove_trigram = ['calendar_day', 'court_notice_intend', 'minute_entry_proceeding_hold', 'court_reportertranscriber_abovecaptioned_matter',\n",
    "                      'redaction_calendar_day', 'rule_statement', 'obtain_pacer', 'may_obtain_pacer', 'reportertranscriber_abovecaptioned_matter',\n",
    "                      'redact_transcript_deadline', 'send_chamber', \"official_transcript_notice_give\", \"notice_intent_request\", \"proceed_hold\", \n",
    "                      \"fee_receipt_number\", \"civil_procedure\", \"pursuant_frcp\", \"official_transcript_conference\", \n",
    "                      \"purchase_reportertranscriber_deadline_release\", \"et_al\", \"mail_chamber\", \"transcript_restriction\", \"redaction_transcript\", \n",
    "                      \"transcript_view_public_terminal\", \"transcript_make_remotely\", \"associated_et_al\", \"electronically_available_public_without\", \n",
    "                      \"genesys_id\", \"release_transcript_restriction\", \"adar_bay\", \"redaction_request_due\", \"new_york\", \"official_transcript_conference\", \n",
    "                      \"transcript_make_remotely\", \"transcript_proceeding_conference_hold\", \"redaction_transcript\",\n",
    "                      'affidavit_jr._c.p.a', 'corporate_parent', 'certain_underwriter', 'federal_rule_civil_procedure', 'redaction_request', \n",
    "                      'official_transcript', 'rule_disclosure', 'rule_corporate_disclosure', 'place_vault', 'public_without_redaction_calendar', \n",
    "                      'purchase_deadline_release_transcript', 'transcript_proceeding_hold', 'transcript_remotely_electronically_available']\n",
    "  \n",
    "    \n",
    "    for sentence in texts:\n",
    "        unigram_review = []\n",
    "        for word in sentence.split():\n",
    "            unigram_review.append(word)\n",
    "    \n",
    "        #print('Uni: ', unigram_review)\n",
    "        bigram_review = bigram_model[unigram_review]\n",
    "        #print('Bi: ', bigram_review)\n",
    "        trigram_review = trigram_model[bigram_review]\n",
    "        trigram_review = [phrase for phrase in trigram_review if phrase not in remove_trigram]\n",
    "        #print('Tri: ', trigram_review)\n",
    "        trigram_output.append(' '.join(trigram_review))\n",
    "    return trigram_output"
   ]
  },
  {
   "cell_type": "code",
   "execution_count": 420,
   "metadata": {},
   "outputs": [
    {
     "name": "stderr",
     "output_type": "stream",
     "text": [
      "c:\\users\\inves\\appdata\\local\\programs\\python\\python35\\lib\\site-packages\\gensim\\models\\phrases.py:494: UserWarning: For a faster implementation, use the gensim.models.phrases.Phraser class\n",
      "  warnings.warn(\"For a faster implementation, use the gensim.models.phrases.Phraser class\")\n"
     ]
    }
   ],
   "source": [
    "new_df['Apply Trigram Phrase Model'] = new_df['Removed unnecessary POS & vocab'].apply(trigram_transform)"
   ]
  },
  {
   "cell_type": "code",
   "execution_count": 421,
   "metadata": {},
   "outputs": [
    {
     "data": {
      "text/plain": [
       "['complaint file disclosure_civil_cover sheet_complete_yes file .',\n",
       " 'civil_cover_sheet propose summons .']"
      ]
     },
     "execution_count": 421,
     "metadata": {},
     "output_type": "execute_result"
    }
   ],
   "source": [
    "new_df['Apply Trigram Phrase Model'].iloc[0]"
   ]
  },
  {
   "cell_type": "code",
   "execution_count": 422,
   "metadata": {},
   "outputs": [],
   "source": [
    "#write trigram to file\n",
    "trigram_dockets_filepath = 'docket_texts/train/trigram_transformed_dockets_noorgnoname.txt'"
   ]
  },
  {
   "cell_type": "code",
   "execution_count": 423,
   "metadata": {},
   "outputs": [],
   "source": [
    "with codecs.open(trigram_dockets_filepath, 'w', encoding= 'utf_8') as f:\n",
    "    for i in range(len(new_df['Apply Trigram Phrase Model'])):\n",
    "        f.write(' '.join(new_df['Apply Trigram Phrase Model'][i]) + '\\n')"
   ]
  },
  {
   "cell_type": "code",
   "execution_count": 424,
   "metadata": {},
   "outputs": [],
   "source": [
    "trigram_dictionary_filepath = 'docket_texts/train/trigram_dict_noorgnoname.dict'"
   ]
  },
  {
   "cell_type": "code",
   "execution_count": 425,
   "metadata": {},
   "outputs": [
    {
     "name": "stdout",
     "output_type": "stream",
     "text": [
      "Wall time: 84.3 ms\n"
     ]
    }
   ],
   "source": [
    "%%time\n",
    "\n",
    "#some dictionary hyperparameters:\n",
    "no_below = 10 #reference is 10\n",
    "no_above = 0.4 #reference is 0.4\n",
    "\n",
    "trigram_reviews = LineSentence(trigram_dockets_filepath)\n",
    "\n",
    "# learn the dictionary by iterating over all of the reviews\n",
    "trigram_dictionary = Dictionary(trigram_reviews)\n",
    "\n",
    "# filter tokens that are very rare otrigram_reviewsr too common from\n",
    "# the dictionary (filter_extremes) and reassign integer ids (compactify)\n",
    "trigram_dictionary.filter_extremes(no_below = no_below, no_above = no_above) #this step is questionable. May need to change the parameters\n",
    "trigram_dictionary.compactify()\n",
    "\n",
    "trigram_dictionary.save(trigram_dictionary_filepath)\n",
    "    \n",
    "# load the finished dictionary from disk\n",
    "#trigram_dictionary = Dictionary.load(trigram_dictionary_filepath)"
   ]
  },
  {
   "cell_type": "code",
   "execution_count": 426,
   "metadata": {},
   "outputs": [],
   "source": [
    "trigram_bow_filepath = 'docket_texts/train/trigram_bow_corpus_noorgnoname.mm'"
   ]
  },
  {
   "cell_type": "code",
   "execution_count": 427,
   "metadata": {},
   "outputs": [],
   "source": [
    "def trigram_bow_generator(filepath):\n",
    "    \"\"\"\n",
    "    generator function to read reviews from a file\n",
    "    and yield a bag-of-words representation\n",
    "    \"\"\"\n",
    "    \n",
    "    for review in LineSentence(filepath):\n",
    "        #print(review)\n",
    "        #print(trigram_dictionary.doc2bow(review))\n",
    "        yield trigram_dictionary.doc2bow(review)"
   ]
  },
  {
   "cell_type": "code",
   "execution_count": 428,
   "metadata": {},
   "outputs": [
    {
     "name": "stdout",
     "output_type": "stream",
     "text": [
      "MmCorpus(8627 documents, 503 features, 19901 non-zero entries)\n",
      "Wall time: 181 ms\n"
     ]
    }
   ],
   "source": [
    "%%time\n",
    "\n",
    "# generate bag-of-words representations for\n",
    "# all reviews and save them as a matrix\n",
    "MmCorpus.serialize(trigram_bow_filepath, trigram_bow_generator(trigram_sentences_filepath))\n",
    "    \n",
    "# load the finished bag-of-words corpus from disk\n",
    "trigram_bow_corpus = MmCorpus(trigram_bow_filepath)\n",
    "print(trigram_bow_corpus)"
   ]
  },
  {
   "cell_type": "code",
   "execution_count": 429,
   "metadata": {},
   "outputs": [],
   "source": [
    "def explore_topic(model, topic_number, topn = 10):\n",
    "    topics = []\n",
    "    print('{:20} {}'.format('term', 'frequency') + '\\n')\n",
    "    for term, frequency in model.show_topic(topic_number, topn = topn):\n",
    "        print('{:20} {:.3f}'.format(term, round(frequency, 3)))\n",
    "        topics.append((term, round(frequency, 3)))\n",
    "    return topics"
   ]
  },
  {
   "cell_type": "code",
   "execution_count": 430,
   "metadata": {},
   "outputs": [],
   "source": [
    "def topic_modeling_pipeline(num_topics, model_file_path, trigram_bow_corpus, trigram_dictionary, export = False):\n",
    "\n",
    "    with warnings.catch_warnings():\n",
    "        warnings.simplefilter('ignore')\n",
    "\n",
    "        # workers => sets the parallelism, and should be\n",
    "        # set to your number of physical cores minus one\n",
    "        lda = LdaMulticore(trigram_bow_corpus, num_topics = num_topics, id2word = trigram_dictionary, workers = 4)\n",
    "\n",
    "        lda.save(model_file_path)\n",
    "    \n",
    "    topic_dict = {}\n",
    "    for i in range(num_topics):\n",
    "        print(\"\\n Topic {}'s make-up:\".format(i + 1))\n",
    "        topic_dict[i] = explore_topic(lda, topic_number = i)\n",
    "    \n",
    "    if export:\n",
    "        pd.DataFrame(topic_dict).to_csv(model_file_path + 'topics.csv', index = False)\n",
    "    \n",
    "    LDAvis_data_filepath = model_file_path + '_ldavis'\n",
    "    \n",
    "    LDAvis_prepared = pyLDAvis.gensim.prepare(lda, trigram_bow_corpus, trigram_dictionary)\n",
    "\n",
    "    with open(LDAvis_data_filepath, 'wb') as f:\n",
    "        pickle.dump(LDAvis_prepared, f)\n",
    "        \n",
    "    with open(LDAvis_data_filepath, 'rb') as f:\n",
    "        LDAvis_prepared = pickle.load(f)\n",
    "        \n",
    "    return LDAvis_prepared, lda"
   ]
  },
  {
   "cell_type": "code",
   "execution_count": 431,
   "metadata": {},
   "outputs": [],
   "source": [
    "def lda_description(docket_text, lda, trigram_dictionary, topic_names, min_topic_freq = 0.05):\n",
    "    '''\n",
    "    accept the processed texts (trigram) of a review and \n",
    "    1) create a bag-of-words representation, \n",
    "    4) create an LDA representation, and\n",
    "    5) print a sorted list of the top topics in the LDA representation\n",
    "    '''\n",
    "    output = []\n",
    "    analyze_this = []\n",
    "    for sentence in docket_text:\n",
    "        analyze_this += sentence.split()\n",
    "    \n",
    "    # create a bag-of-words representation\n",
    "    review_bow = trigram_dictionary.doc2bow(analyze_this)\n",
    "    \n",
    "    # create an LDA representation\n",
    "    review_lda = lda[review_bow]\n",
    "    \n",
    "    # sort with the most highly related topics first\n",
    "    review_lda.sort(key = lambda tup: tup[1], reverse = True)\n",
    "    #print(review_lda)\n",
    "    for topic_number, freq in review_lda:\n",
    "        if freq < min_topic_freq:\n",
    "            break\n",
    "            \n",
    "        # print the most highly related topic names and frequencies\n",
    "        #print('{:25} {}'.format(topic_names[topic_number], round(freq, 3)))\n",
    "        output.append((topic_names[topic_number], round(freq, 5)))\n",
    "    return output"
   ]
  },
  {
   "cell_type": "markdown",
   "metadata": {},
   "source": [
    "### Providing topic visualizations, topic constituents for each topic, and classifying each docket text. For some reason when I use a pipeline functionality it doesn't work with pyLADvis.display\n",
    "### 2 Topics:"
   ]
  },
  {
   "cell_type": "code",
   "execution_count": 432,
   "metadata": {},
   "outputs": [
    {
     "name": "stdout",
     "output_type": "stream",
     "text": [
      "\n",
      " Topic 1's make-up:\n",
      "term                 frequency\n",
      "\n",
      "order                0.107\n",
      "motion               0.068\n",
      "notice               0.033\n",
      "complaint            0.020\n",
      "amend_complaint      0.013\n",
      "stipulation          0.012\n",
      "request              0.012\n",
      "answer               0.011\n",
      "letter               0.010\n",
      "support              0.009\n",
      "\n",
      " Topic 2's make-up:\n",
      "term                 frequency\n",
      "\n",
      "motion               0.123\n",
      "order                0.056\n",
      "dismiss              0.030\n",
      "schedule             0.018\n",
      "letter               0.017\n",
      "request              0.015\n",
      "notice               0.014\n",
      "memorandum_law_support 0.014\n",
      "amend_complaint      0.014\n",
      "grant                0.013\n"
     ]
    },
    {
     "data": {
      "text/html": [
       "\n",
       "<link rel=\"stylesheet\" type=\"text/css\" href=\"https://cdn.rawgit.com/bmabey/pyLDAvis/files/ldavis.v1.0.0.css\">\n",
       "\n",
       "\n",
       "<div id=\"ldavis_el2506819944820033048722538332\"></div>\n",
       "<script type=\"text/javascript\">\n",
       "\n",
       "var ldavis_el2506819944820033048722538332_data = {\"topic.order\": [2, 1], \"mdsDat\": {\"cluster\": [1, 1], \"topics\": [1, 2], \"Freq\": [54.943897662556694, 45.0561023374433], \"x\": [0.03245551884174347, -0.03245551884174347], \"y\": [0.0, 0.0]}, \"R\": 30, \"tinfo\": {\"Category\": [\"Default\", \"Default\", \"Default\", \"Default\", \"Default\", \"Default\", \"Default\", \"Default\", \"Default\", \"Default\", \"Default\", \"Default\", \"Default\", \"Default\", \"Default\", \"Default\", \"Default\", \"Default\", \"Default\", \"Default\", \"Default\", \"Default\", \"Default\", \"Default\", \"Default\", \"Default\", \"Default\", \"Default\", \"Default\", \"Default\", \"Topic1\", \"Topic1\", \"Topic1\", \"Topic1\", \"Topic1\", \"Topic1\", \"Topic1\", \"Topic1\", \"Topic1\", \"Topic1\", \"Topic1\", \"Topic1\", \"Topic1\", \"Topic1\", \"Topic1\", \"Topic1\", \"Topic1\", \"Topic1\", \"Topic1\", \"Topic1\", \"Topic1\", \"Topic1\", \"Topic1\", \"Topic1\", \"Topic1\", \"Topic1\", \"Topic1\", \"Topic1\", \"Topic1\", \"Topic1\", \"Topic1\", \"Topic1\", \"Topic1\", \"Topic1\", \"Topic1\", \"Topic1\", \"Topic1\", \"Topic1\", \"Topic1\", \"Topic1\", \"Topic1\", \"Topic1\", \"Topic1\", \"Topic1\", \"Topic1\", \"Topic1\", \"Topic1\", \"Topic1\", \"Topic1\", \"Topic1\", \"Topic1\", \"Topic1\", \"Topic1\", \"Topic1\", \"Topic1\", \"Topic1\", \"Topic1\", \"Topic1\", \"Topic1\", \"Topic1\", \"Topic1\", \"Topic2\", \"Topic2\", \"Topic2\", \"Topic2\", \"Topic2\", \"Topic2\", \"Topic2\", \"Topic2\", \"Topic2\", \"Topic2\", \"Topic2\", \"Topic2\", \"Topic2\", \"Topic2\", \"Topic2\", \"Topic2\", \"Topic2\", \"Topic2\", \"Topic2\", \"Topic2\", \"Topic2\", \"Topic2\", \"Topic2\", \"Topic2\", \"Topic2\", \"Topic2\", \"Topic2\", \"Topic2\", \"Topic2\", \"Topic2\", \"Topic2\", \"Topic2\", \"Topic2\", \"Topic2\", \"Topic2\", \"Topic2\", \"Topic2\", \"Topic2\", \"Topic2\", \"Topic2\", \"Topic2\", \"Topic2\", \"Topic2\", \"Topic2\", \"Topic2\", \"Topic2\", \"Topic2\", \"Topic2\", \"Topic2\", \"Topic2\", \"Topic2\", \"Topic2\", \"Topic2\", \"Topic2\", \"Topic2\", \"Topic2\", \"Topic2\", \"Topic2\", \"Topic2\", \"Topic2\", \"Topic2\", \"Topic2\", \"Topic2\", \"Topic2\"], \"Total\": [1736.0, 489.0, 443.0, 2163.0, 83.0, 315.0, 280.0, 72.0, 204.0, 84.0, 52.0, 56.0, 67.0, 127.0, 100.0, 82.0, 90.0, 46.0, 39.0, 32.0, 57.0, 143.0, 23.0, 31.0, 194.0, 31.0, 67.0, 21.0, 98.0, 39.0, 15.329209598970232, 10.546431897444348, 23.993493054497527, 82.54127113459806, 36.48688414019422, 12.488401081759037, 100.89580915038697, 18.26286242606353, 20.19225194960891, 18.26959584891624, 48.100976952076586, 127.0002957617146, 204.00745934247044, 33.68397980661251, 11.549239695478953, 19.25047979176227, 19.250916549625536, 58.72577300330646, 23.11022489696967, 443.98827848265614, 20.228479936786353, 19.268972559484894, 19.269043984769525, 81.89604622836144, 28.907991416207377, 10.599934269368976, 20.236606687013953, 280.42568721633324, 23.131862355367375, 38.560212743293, 76.1612850820159, 70.38931807763223, 115.79400082252968, 2163.4027658772447, 156.57213494339803, 49.21116021285681, 177.05573125891777, 97.66203950003367, 303.83062226776127, 185.21099350228457, 237.0030815980563, 52.16295721322236, 55.08185567558266, 200.14353871099735, 78.40682496457593, 300.0137280652067, 95.9390558016361, 118.37641229550476, 178.9883446370941, 155.63120274443023, 214.58936037574864, 71.6500544727661, 297.179749306398, 1736.2761026117532, 179.71010095551222, 109.86461655674296, 238.51328455168786, 489.9173395408071, 170.4245509022286, 315.11512375094634, 194.9446173668657, 23.0982010849413, 21.08826687683588, 13.046455282154339, 15.032515214052154, 16.03213926899378, 83.14049818176169, 32.0533429069148, 18.025376814467442, 12.00838901533101, 72.04593890744732, 17.008885076046763, 16.003406745229555, 12.001468889425437, 31.99490027060758, 21.995524107780934, 39.98462392370336, 52.97455826815552, 12.99293768860824, 11.992089968835277, 19.985109276988574, 31.975956683784723, 18.982030448973568, 46.935486642749694, 14.972491541661668, 25.952024581584567, 13.973248450226102, 13.972670401944034, 22.950482696418952, 56.876331710993206, 18.952804725140616, 84.7887370540355, 67.70662130983736, 1736.2761026117532, 489.9173395408071, 57.68846785244266, 39.823913491742275, 315.11512375094634, 90.28341465909791, 67.4058485344431, 143.06916076333675, 194.9446173668657, 98.79532542978818, 49.623536394251445, 84.00192283545151, 238.51328455168786, 2163.4027658772447, 48.57487498518458, 297.179749306398, 86.74951079664203, 170.4245509022286, 300.0137280652067, 96.38123361333241, 214.58936037574864, 179.71010095551222, 95.30717574392148, 303.83062226776127, 237.0030815980563, 200.14353871099735, 178.9883446370941, 443.98827848265614, 155.63120274443023, 185.21099350228457, 108.62517066366811, 280.42568721633324], \"loglift\": [30.0, 29.0, 28.0, 27.0, 26.0, 25.0, 24.0, 23.0, 22.0, 21.0, 20.0, 19.0, 18.0, 17.0, 16.0, 15.0, 14.0, 13.0, 12.0, 11.0, 10.0, 9.0, 8.0, 7.0, 6.0, 5.0, 4.0, 3.0, 2.0, 1.0, 0.488, 0.474, 0.454, 0.4531, 0.4448, 0.435, 0.4294, 0.4232, 0.416, 0.4156, 0.4056, 0.4033, 0.3995, 0.3973, 0.3965, 0.3946, 0.3941, 0.3903, 0.3858, 0.3819, 0.3783, 0.3741, 0.3741, 0.3734, 0.3708, 0.3701, 0.3697, 0.3694, 0.3657, 0.3617, 0.3603, 0.3564, 0.3401, 0.2249, 0.304, 0.3407, 0.2793, 0.293, 0.1989, 0.2251, 0.1825, 0.3161, 0.3074, 0.176, 0.2679, 0.1069, 0.2406, 0.2095, 0.1436, 0.1454, 0.0681, 0.2615, 0.0023, -0.3492, 0.0296, 0.1575, -0.1305, -0.4724, -0.0588, -0.3822, -0.2445, 0.6913, 0.6901, 0.6785, 0.6522, 0.6491, 0.6431, 0.6426, 0.6376, 0.6237, 0.6225, 0.6203, 0.6141, 0.6123, 0.6067, 0.6058, 0.6022, 0.6003, 0.599, 0.5966, 0.5949, 0.5948, 0.5908, 0.5821, 0.5725, 0.5723, 0.5709, 0.5701, 0.5659, 0.5655, 0.5589, 0.5589, 0.5194, 0.3071, 0.3778, 0.4958, 0.5175, 0.3274, 0.4374, 0.4164, 0.296, 0.2347, 0.331, 0.4457, 0.3392, 0.1391, -0.3675, 0.4179, -0.0028, 0.2706, 0.0673, -0.148, 0.2015, -0.0899, -0.0373, 0.1721, -0.3124, -0.28, -0.2674, -0.2086, -0.8375, -0.2118, -0.368, 0.0365, -0.7872], \"Freq\": [1736.0, 489.0, 443.0, 2163.0, 83.0, 315.0, 280.0, 72.0, 204.0, 84.0, 52.0, 56.0, 67.0, 127.0, 100.0, 82.0, 90.0, 46.0, 39.0, 32.0, 57.0, 143.0, 23.0, 31.0, 194.0, 31.0, 67.0, 21.0, 98.0, 39.0, 13.720952128837583, 9.308664460947242, 20.75757031322281, 71.34629325513559, 31.276657317031628, 10.600921425926257, 85.16472484961363, 15.320275599399226, 16.81855962902987, 15.209988099386704, 39.648155118007644, 104.44631618581641, 167.13641488825382, 27.535881416530373, 9.433558268112932, 15.693992831618678, 15.686836310765933, 47.67321992251531, 18.674717523960684, 357.410739379951, 16.22520697145708, 15.39105314053722, 15.389905396626874, 65.36440952789091, 23.012404650776364, 8.432337370792263, 16.092091182639518, 222.92278896039582, 18.320334713054486, 30.41743878454024, 59.99468401714221, 55.23454555148249, 89.39556208195218, 1488.4114965903716, 116.58517084858991, 38.014257268695744, 128.63173339810206, 71.9308381034356, 203.6694298739093, 127.45571222847485, 156.29648001264476, 39.31636148259184, 41.15737365886259, 131.1242505900698, 56.31480324513913, 183.4371802605931, 67.05202629316351, 80.19788558237451, 113.5274572951245, 98.89671557429483, 126.21370703639403, 51.13487181807478, 163.65483500774118, 672.7644511004909, 101.70523367051985, 70.66370632163124, 115.01034242729135, 167.8317451548804, 88.29460561453985, 118.13846219298257, 83.87726562296572, 20.776636199100295, 18.9457266571332, 11.586043988467287, 13.002029998885696, 13.824612797470339, 71.25953285503967, 27.45918283879975, 15.365347383368963, 10.095362238156143, 60.495738325613644, 14.249611487881952, 13.325302457366492, 9.975079720502748, 26.44351685834291, 18.16305809695171, 32.89791853264238, 43.50171930864035, 10.655929774831382, 9.812082450912236, 16.323768929439204, 26.114281197650172, 15.44114695005412, 37.84790002306273, 11.958881384172768, 20.723592535014642, 11.142912318950462, 11.13285676829597, 18.209377298968576, 45.11117951167561, 14.933245907808192, 66.80446485233787, 51.28211339061501, 1063.5116515112622, 322.08559438592675, 42.675341745011735, 30.10490456169156, 196.97666155796375, 62.997085963231, 46.0548833671802, 86.66717399057643, 111.06735174389998, 61.97660097719553, 34.91389149923223, 53.13024470670716, 123.50294212439651, 674.9912692868731, 33.239002164925274, 133.52491429865682, 51.230822931048145, 82.12994528768874, 116.57654780461363, 53.12174166479102, 88.37565333935461, 78.00486728499237, 51.005540764079505, 100.16119239385196, 80.70660158541153, 69.01928812092753, 65.4608873419696, 86.57753910270515, 56.734487170135395, 57.75528127380971, 50.76081186804058, 57.502898255937424], \"logprob\": [30.0, 29.0, 28.0, 27.0, 26.0, 25.0, 24.0, 23.0, 22.0, 21.0, 20.0, 19.0, 18.0, 17.0, 16.0, 15.0, 14.0, 13.0, 12.0, 11.0, 10.0, 9.0, 8.0, 7.0, 6.0, 5.0, 4.0, 3.0, 2.0, 1.0, -6.780600070953369, -7.168499946594238, -6.366600036621094, -5.131899833679199, -5.956600189208984, -7.03849983215332, -4.954899787902832, -6.670300006866455, -6.577000141143799, -6.677499771118164, -5.719399929046631, -4.750800132751465, -4.280700206756592, -6.084000110626221, -7.155200004577637, -6.646200180053711, -6.646699905395508, -5.535099983215332, -6.472300052642822, -3.5206000804901123, -6.6128997802734375, -6.6656999588012695, -6.665800094604492, -5.2195000648498535, -6.263500213623047, -7.267399787902832, -6.621200084686279, -3.9927000999450684, -6.491499900817871, -5.984499931335449, -5.305200099945068, -5.387899875640869, -4.906400203704834, -2.0940001010894775, -4.640900135040283, -5.761499881744385, -4.542500019073486, -5.123799800872803, -4.083000183105469, -4.551700115203857, -4.347700119018555, -5.727799892425537, -5.68209981918335, -4.5233001708984375, -5.368500232696533, -4.187600135803223, -5.193999767303467, -5.014999866485596, -4.667399883270264, -4.8053998947143555, -4.561500072479248, -5.465000152587891, -4.301700115203857, -2.8880999088287354, -4.777400016784668, -5.141600131988525, -4.6545000076293945, -4.276500225067139, -4.918799877166748, -4.627600193023682, -4.970099925994873, -6.167300224304199, -6.259500026702881, -6.751299858093262, -6.636000156402588, -6.5746002197265625, -4.934800148010254, -5.888400077819824, -6.468999862670898, -6.888999938964844, -5.098499774932861, -6.544400215148926, -6.611400127410889, -6.901000022888184, -5.92609977722168, -6.301700115203857, -5.707699775695801, -5.428299903869629, -6.835000038146973, -6.917500019073486, -6.4085001945495605, -5.938600063323975, -6.464000225067139, -5.567500114440918, -6.719600200653076, -6.1697998046875, -6.790299892425537, -6.791200160980225, -6.299099922180176, -5.392000198364258, -6.497499942779541, -4.999300003051758, -5.263700008392334, -2.2316999435424805, -3.426300048828125, -5.447500228881836, -5.79640007019043, -3.9179999828338623, -5.058000087738037, -5.371200084686279, -4.738999843597412, -4.490900039672852, -5.0742998123168945, -5.648200035095215, -5.228300094604492, -4.384799957275391, -2.6863999366760254, -5.697400093078613, -4.30679988861084, -5.264699935913086, -4.792799949645996, -4.442500114440918, -5.228499889373779, -4.7195000648498535, -4.844299793243408, -5.269100189208984, -4.594299793243408, -4.810299873352051, -4.966700077056885, -5.019599914550781, -4.739999771118164, -5.162700176239014, -5.144899845123291, -5.27400016784668, -5.149199962615967], \"Term\": [\"order\", \"notice\", \"dismiss\", \"motion\", \"extend\", \"complaint\", \"schedule\", \"service\", \"memorandum_law_support\", \"serve_answer_due\", \"entry\", \"respond\", \"withdraw\", \"propose\", \"letter_address\", \"brief\", \"deposition\", \"crossclaim\", \"courtroom\", \"official_notice_give\", \"opinion\", \"opposition\", \"official_conference\", \"remotely_electronically_available_public\", \"answer\", \"without_redaction_calendar\", \"appear\", \"defense\", \"leave\", \"release\", \"usca_number\", \"reason_state\", \"minute_entry_hold_telephone\", \"brief\", \"dismiss_thirdparty\", \"dispositive\", \"letter_address\", \"begin\", \"memorandum_opinion\", \"\\u00a7\", \"produce\", \"propose\", \"memorandum_law_support\", \"dismiss_thirdparty_complaint\", \"among\", \"hedge_strategy_ibex_absolute\", \"accept\", \"report\", \"accompany\", \"dismiss\", \"net_settlement\", \"counter_rule\", \"plan\", \"conference_hold\", \"select\", \"line\", \"g.c\", \"schedule\", \"limine_preclude_introduce_evidence\", \"dismiss..\", \"notice_appeal\", \"service_accept\", \"response\", \"motion\", \"conference\", \"counterclaim\", \"reply\", \"declaration_opposition\", \"letter\", \"rule\", \"grant\", \"certificate_service\", \"redaction\", \"summary_judgment\", \"reply_memorandum_law\", \"request\", \"hold\", \"memorandum_law_opposition\", \"discovery\", \"declaration_support\", \"support\", \"trial\", \"amend_complaint\", \"order\", \"due\", \"judgment\", \"stipulation\", \"notice\", \"serve\", \"complaint\", \"answer\", \"official_conference\", \"defense\", \"brooklyn\", \"liability_complaint\", \"settle\", \"extend\", \"official_notice_give\", \"contain\", \"without_cost_either\", \"service\", \"say\", \"dismiss_lack_jurisdiction\", \"fax\", \"remotely_electronically_available_public\", \"york\", \"courtroom\", \"entry\", \"notice_termination\", \"allege\", \"judgment_favor\", \"without_redaction_calendar\", \"newvest_portfolio_newvest\", \"crossclaim\", \"certificate\", \"dismiss_without_prejudice\", \"courtroom_pearl_street_new\", \"united_state\", \"certain\", \"respond\", \"vacate\", \"serve_answer_due\", \"withdraw\", \"order\", \"notice\", \"opinion\", \"release\", \"complaint\", \"deposition\", \"appear\", \"opposition\", \"answer\", \"leave\", \"show_cause\", \"declaration\", \"stipulation\", \"motion\", \"limine\", \"amend_complaint\", \"endorsement\", \"serve\", \"request\", \"settlement\", \"support\", \"due\", \"amend\", \"letter\", \"grant\", \"summary_judgment\", \"discovery\", \"dismiss\", \"declaration_support\", \"rule\", \"notice_appearance\", \"schedule\"]}, \"token.table\": {\"Freq\": [0.8311292586384011, 0.2077823146596003, 0.8221469104998358, 0.1730835601052286, 0.166776600675741, 0.8338830033787049, 0.461665133360184, 0.5351118591220314, 0.5518545606918622, 0.45090555568725327, 0.779272076543976, 0.173171572565328, 0.43089160980485364, 0.5693924843849852, 0.31154566638634335, 0.6824333644653235, 0.8213389363648169, 0.16426778727296337, 0.8601757523726768, 0.13326666586055555, 0.076649172389979, 0.919790068679748, 0.21786034159447845, 0.7842972297401225, 0.20036745331612696, 0.8014698132645078, 0.7476569980605741, 0.24921899935352468, 0.37446631756482185, 0.6251683437311009, 0.7472594024619793, 0.25547329998700147, 0.7936891094687527, 0.2075802286302892, 0.16643202696279583, 0.8321601348139791, 0.7784535451329215, 0.20758761203544573, 0.7721825666299206, 0.22352653244550333, 0.17506729620258643, 0.8253172535264789, 0.21469596069133495, 0.7872185225348948, 0.19175256599561144, 0.8096219453148038, 0.3690391714095026, 0.6309379382162463, 0.7372362933294586, 0.26622421703563787, 0.6361192245142052, 0.36625046259908783, 0.09483946744798041, 0.9009749407558139, 0.29905825008889597, 0.6978025835407572, 0.6369129801783434, 0.36315213782098527, 0.8040752814917967, 0.1959511190190093, 0.7780040063502521, 0.2074677350267339, 0.18746008570295622, 0.8123270380461436, 0.8496203699084891, 0.1370355435336273, 0.8312556936785513, 0.1781262200739753, 0.1926631960555392, 0.8091854234332646, 0.8808173222484788, 0.16014860404517794, 0.5675807840386802, 0.4340323642648731, 0.4149879309912318, 0.5878995689042451, 0.16989287488613475, 0.8305873883322142, 0.14433399200670666, 0.8539761193730143, 0.1666462679216051, 0.8332313396080255, 0.7906463888665372, 0.1976615972166343, 0.6582192895895215, 0.3417677080560977, 0.8311481154275839, 0.20778702885689598, 0.6983600103229014, 0.3022752283487185, 0.6462499230890217, 0.3549823521193218, 0.200149018179536, 0.800596072718144, 0.3745116465686946, 0.6275600564124072, 0.6714267261060274, 0.32913074809118986, 0.8424532269056489, 0.15857943094694568, 0.13304493436537035, 0.8647920733749073, 0.308801618214664, 0.6793635600722607, 0.7781474627278936, 0.21615207297997047, 0.7547216611633052, 0.1886804152908263, 0.6758103109282856, 0.32100989769093563, 0.8185975186311916, 0.1813659173015215, 0.8419070860657155, 0.1485718387174792, 0.8752372967246466, 0.12503389953209237, 0.6878053515830772, 0.31200847602054915, 0.7909640294278029, 0.19774100735695072, 0.21072561287648212, 0.790221048286808, 0.34291499083797305, 0.6572537324394483, 0.7878018331149182, 0.21008048883064487, 0.533946226695313, 0.4695044407148442, 0.15392977692439264, 0.8466137730841594, 0.08658682953902783, 0.9091617101597922, 0.15598997004837709, 0.8423458382612363, 0.2600173060301664, 0.7453829439531436, 0.39141908501605394, 0.6080975070785124, 0.3876111633326378, 0.6128057619404556, 0.778450659610107, 0.2075868425626952, 0.8315839414208227, 0.16631678828416455, 0.8188957307243669, 0.18110194044865807, 0.8533691856656197, 0.09481879840729109, 0.7443467453507556, 0.2541671813392824, 0.25110540685745414, 0.7533162205723624, 0.1875298859897356, 0.8126295059555209, 0.7285841530391163, 0.2711010802006014, 0.7142235388985678, 0.2805878188530088, 0.8173583342580683, 0.18731128493414065, 0.6099720875446931, 0.38998215433185296, 0.21098407086054408, 0.7911902657270402, 0.7686063126569468, 0.22453667560764737, 0.6857044368612679, 0.3131563569917602, 0.17637840379231168, 0.8230992176974545, 0.7952195899513569, 0.20682841352994935, 0.7956277442058793, 0.2075550637058816, 0.5163575290891335, 0.48115133392396525, 0.2122923471371991, 0.7901992921217967, 0.1665603944091229, 0.8328019720456146, 0.781368558498331, 0.21310051595409027, 0.12474941531153036, 0.8732459071807126, 0.4461449432418534, 0.5498995812050751, 0.3022759176376968, 0.7053104744879592, 0.4821534373490149, 0.5198871846198074, 0.6545302478595674, 0.3447525733000774, 0.5871679741221673, 0.4100855692281803, 0.71179289918593, 0.2930911937824418, 0.21470484264644263, 0.7872510897036229, 0.9132890974979216, 0.13046987107113164, 0.2110505573190473, 0.7914395899464274, 0.23631366756260364, 0.753249815355799, 0.1665502339611597, 0.8327511698057986, 0.1876409847353418, 0.8131109338531478, 0.1818551801902732, 0.8183483108562294, 0.8210362245582902, 0.16420724491165803], \"Topic\": [1, 2, 1, 2, 1, 2, 1, 2, 1, 2, 1, 2, 1, 2, 1, 2, 1, 2, 1, 2, 1, 2, 1, 2, 1, 2, 1, 2, 1, 2, 1, 2, 1, 2, 1, 2, 1, 2, 1, 2, 1, 2, 1, 2, 1, 2, 1, 2, 1, 2, 1, 2, 1, 2, 1, 2, 1, 2, 1, 2, 1, 2, 1, 2, 1, 2, 1, 2, 1, 2, 1, 2, 1, 2, 1, 2, 1, 2, 1, 2, 1, 2, 1, 2, 1, 2, 1, 2, 1, 2, 1, 2, 1, 2, 1, 2, 1, 2, 1, 2, 1, 2, 1, 2, 1, 2, 1, 2, 1, 2, 1, 2, 1, 2, 1, 2, 1, 2, 1, 2, 1, 2, 1, 2, 1, 2, 1, 2, 1, 2, 1, 2, 1, 2, 1, 2, 1, 2, 1, 2, 1, 2, 1, 2, 1, 2, 1, 2, 1, 2, 1, 2, 1, 2, 1, 2, 1, 2, 1, 2, 1, 2, 1, 2, 1, 2, 1, 2, 1, 2, 1, 2, 1, 2, 1, 2, 1, 2, 1, 2, 1, 2, 1, 2, 1, 2, 1, 2, 1, 2, 1, 2, 1, 2, 1, 2, 1, 2, 1, 2, 1, 2, 1, 2, 1, 2, 1, 2, 1, 2, 1, 2], \"Term\": [\"accept\", \"accept\", \"accompany\", \"accompany\", \"allege\", \"allege\", \"amend\", \"amend\", \"amend_complaint\", \"amend_complaint\", \"among\", \"among\", \"answer\", \"answer\", \"appear\", \"appear\", \"begin\", \"begin\", \"brief\", \"brief\", \"brooklyn\", \"brooklyn\", \"certain\", \"certain\", \"certificate\", \"certificate\", \"certificate_service\", \"certificate_service\", \"complaint\", \"complaint\", \"conference\", \"conference\", \"conference_hold\", \"conference_hold\", \"contain\", \"contain\", \"counter_rule\", \"counter_rule\", \"counterclaim\", \"counterclaim\", \"courtroom\", \"courtroom\", \"courtroom_pearl_street_new\", \"courtroom_pearl_street_new\", \"crossclaim\", \"crossclaim\", \"declaration\", \"declaration\", \"declaration_opposition\", \"declaration_opposition\", \"declaration_support\", \"declaration_support\", \"defense\", \"defense\", \"deposition\", \"deposition\", \"discovery\", \"discovery\", \"dismiss\", \"dismiss\", \"dismiss..\", \"dismiss..\", \"dismiss_lack_jurisdiction\", \"dismiss_lack_jurisdiction\", \"dismiss_thirdparty\", \"dismiss_thirdparty\", \"dismiss_thirdparty_complaint\", \"dismiss_thirdparty_complaint\", \"dismiss_without_prejudice\", \"dismiss_without_prejudice\", \"dispositive\", \"dispositive\", \"due\", \"due\", \"endorsement\", \"endorsement\", \"entry\", \"entry\", \"extend\", \"extend\", \"fax\", \"fax\", \"g.c\", \"g.c\", \"grant\", \"grant\", \"hedge_strategy_ibex_absolute\", \"hedge_strategy_ibex_absolute\", \"hold\", \"hold\", \"judgment\", \"judgment\", \"judgment_favor\", \"judgment_favor\", \"leave\", \"leave\", \"letter\", \"letter\", \"letter_address\", \"letter_address\", \"liability_complaint\", \"liability_complaint\", \"limine\", \"limine\", \"limine_preclude_introduce_evidence\", \"limine_preclude_introduce_evidence\", \"line\", \"line\", \"memorandum_law_opposition\", \"memorandum_law_opposition\", \"memorandum_law_support\", \"memorandum_law_support\", \"memorandum_opinion\", \"memorandum_opinion\", \"minute_entry_hold_telephone\", \"minute_entry_hold_telephone\", \"motion\", \"motion\", \"net_settlement\", \"net_settlement\", \"newvest_portfolio_newvest\", \"newvest_portfolio_newvest\", \"notice\", \"notice\", \"notice_appeal\", \"notice_appeal\", \"notice_appearance\", \"notice_appearance\", \"notice_termination\", \"notice_termination\", \"official_conference\", \"official_conference\", \"official_notice_give\", \"official_notice_give\", \"opinion\", \"opinion\", \"opposition\", \"opposition\", \"order\", \"order\", \"plan\", \"plan\", \"produce\", \"produce\", \"propose\", \"propose\", \"reason_state\", \"reason_state\", \"redaction\", \"redaction\", \"release\", \"release\", \"remotely_electronically_available_public\", \"remotely_electronically_available_public\", \"reply\", \"reply\", \"reply_memorandum_law\", \"reply_memorandum_law\", \"report\", \"report\", \"request\", \"request\", \"respond\", \"respond\", \"response\", \"response\", \"rule\", \"rule\", \"say\", \"say\", \"schedule\", \"schedule\", \"select\", \"select\", \"serve\", \"serve\", \"serve_answer_due\", \"serve_answer_due\", \"service\", \"service\", \"service_accept\", \"service_accept\", \"settle\", \"settle\", \"settlement\", \"settlement\", \"show_cause\", \"show_cause\", \"stipulation\", \"stipulation\", \"summary_judgment\", \"summary_judgment\", \"support\", \"support\", \"trial\", \"trial\", \"united_state\", \"united_state\", \"usca_number\", \"usca_number\", \"vacate\", \"vacate\", \"withdraw\", \"withdraw\", \"without_cost_either\", \"without_cost_either\", \"without_redaction_calendar\", \"without_redaction_calendar\", \"york\", \"york\", \"\\u00a7\", \"\\u00a7\"]}, \"lambda.step\": 0.01, \"plot.opts\": {\"ylab\": \"PC2\", \"xlab\": \"PC1\"}};\n",
       "\n",
       "function LDAvis_load_lib(url, callback){\n",
       "  var s = document.createElement('script');\n",
       "  s.src = url;\n",
       "  s.async = true;\n",
       "  s.onreadystatechange = s.onload = callback;\n",
       "  s.onerror = function(){console.warn(\"failed to load library \" + url);};\n",
       "  document.getElementsByTagName(\"head\")[0].appendChild(s);\n",
       "}\n",
       "\n",
       "if(typeof(LDAvis) !== \"undefined\"){\n",
       "   // already loaded: just create the visualization\n",
       "   !function(LDAvis){\n",
       "       new LDAvis(\"#\" + \"ldavis_el2506819944820033048722538332\", ldavis_el2506819944820033048722538332_data);\n",
       "   }(LDAvis);\n",
       "}else if(typeof define === \"function\" && define.amd){\n",
       "   // require.js is available: use it to load d3/LDAvis\n",
       "   require.config({paths: {d3: \"https://cdnjs.cloudflare.com/ajax/libs/d3/3.5.5/d3.min\"}});\n",
       "   require([\"d3\"], function(d3){\n",
       "      window.d3 = d3;\n",
       "      LDAvis_load_lib(\"https://cdn.rawgit.com/bmabey/pyLDAvis/files/ldavis.v1.0.0.js\", function(){\n",
       "        new LDAvis(\"#\" + \"ldavis_el2506819944820033048722538332\", ldavis_el2506819944820033048722538332_data);\n",
       "      });\n",
       "    });\n",
       "}else{\n",
       "    // require.js not available: dynamically load d3 & LDAvis\n",
       "    LDAvis_load_lib(\"https://cdnjs.cloudflare.com/ajax/libs/d3/3.5.5/d3.min.js\", function(){\n",
       "         LDAvis_load_lib(\"https://cdn.rawgit.com/bmabey/pyLDAvis/files/ldavis.v1.0.0.js\", function(){\n",
       "                 new LDAvis(\"#\" + \"ldavis_el2506819944820033048722538332\", ldavis_el2506819944820033048722538332_data);\n",
       "            })\n",
       "         });\n",
       "}\n",
       "</script>"
      ],
      "text/plain": [
       "<IPython.core.display.HTML object>"
      ]
     },
     "execution_count": 432,
     "metadata": {},
     "output_type": "execute_result"
    }
   ],
   "source": [
    "num_topics = 2\n",
    "pretrained_model_file_path = 'docket_texts/train/lda_model_noorgnomodel_' + str(num_topics)\n",
    "column_name = str(num_topics) + '-topic Model Classification'\n",
    "\n",
    "topic_names = {}\n",
    "for i in range(num_topics):\n",
    "    topic_names[i] = 'Topic ' + str(i)\n",
    "\n",
    "LDAvis_prepared, model = topic_modeling_pipeline(num_topics, pretrained_model_file_path, trigram_bow_corpus, trigram_dictionary, export = True)\n",
    "topic_summary = []\n",
    "\n",
    "for docket_text in list(new_df['Apply Trigram Phrase Model']):\n",
    "    #print(docket_text)\n",
    "    topic_summary.append(lda_description(docket_text, model, trigram_dictionary, topic_names))\n",
    "\n",
    "new_df[column_name] = topic_summary\n",
    "pyLDAvis.display(LDAvis_prepared)"
   ]
  },
  {
   "cell_type": "markdown",
   "metadata": {},
   "source": [
    "### 3 Topics:"
   ]
  },
  {
   "cell_type": "code",
   "execution_count": 433,
   "metadata": {},
   "outputs": [
    {
     "name": "stdout",
     "output_type": "stream",
     "text": [
      "\n",
      " Topic 1's make-up:\n",
      "term                 frequency\n",
      "\n",
      "motion               0.087\n",
      "order                0.062\n",
      "schedule             0.027\n",
      "request              0.026\n",
      "due                  0.022\n",
      "grant                0.020\n",
      "complaint            0.014\n",
      "opposition           0.013\n",
      "conference           0.011\n",
      "summary_judgment     0.011\n",
      "\n",
      " Topic 2's make-up:\n",
      "term                 frequency\n",
      "\n",
      "motion               0.165\n",
      "dismiss              0.046\n",
      "amend_complaint      0.030\n",
      "order                0.024\n",
      "support              0.021\n",
      "memorandum_law_support 0.021\n",
      "rule                 0.019\n",
      "complaint            0.019\n",
      "notice               0.018\n",
      "answer               0.012\n",
      "\n",
      " Topic 3's make-up:\n",
      "term                 frequency\n",
      "\n",
      "order                0.139\n",
      "motion               0.051\n",
      "notice               0.035\n",
      "letter               0.023\n",
      "stipulation          0.020\n",
      "discovery            0.015\n",
      "serve                0.014\n",
      "request              0.012\n",
      "schedule             0.012\n",
      "dismiss              0.010\n"
     ]
    },
    {
     "data": {
      "text/html": [
       "\n",
       "<link rel=\"stylesheet\" type=\"text/css\" href=\"https://cdn.rawgit.com/bmabey/pyLDAvis/files/ldavis.v1.0.0.css\">\n",
       "\n",
       "\n",
       "<div id=\"ldavis_el2506819944435177689890859123\"></div>\n",
       "<script type=\"text/javascript\">\n",
       "\n",
       "var ldavis_el2506819944435177689890859123_data = {\"topic.order\": [3, 2, 1], \"mdsDat\": {\"cluster\": [1, 1, 1], \"topics\": [1, 2, 3], \"Freq\": [34.996199776365366, 34.12996351652707, 30.873836707107564], \"x\": [-0.07903030089060589, 0.0956172510523782, -0.016586950161772217], \"y\": [-0.04065301392264291, -0.022624022800276505, 0.0632770367229194]}, \"R\": 30, \"tinfo\": {\"Category\": [\"Default\", \"Default\", \"Default\", \"Default\", \"Default\", \"Default\", \"Default\", \"Default\", \"Default\", \"Default\", \"Default\", \"Default\", \"Default\", \"Default\", \"Default\", \"Default\", \"Default\", \"Default\", \"Default\", \"Default\", \"Default\", \"Default\", \"Default\", \"Default\", \"Default\", \"Default\", \"Default\", \"Default\", \"Default\", \"Default\", \"Topic1\", \"Topic1\", \"Topic1\", \"Topic1\", \"Topic1\", \"Topic1\", \"Topic1\", \"Topic1\", \"Topic1\", \"Topic1\", \"Topic1\", \"Topic1\", \"Topic1\", \"Topic1\", \"Topic1\", \"Topic1\", \"Topic1\", \"Topic1\", \"Topic1\", \"Topic1\", \"Topic1\", \"Topic1\", \"Topic1\", \"Topic1\", \"Topic1\", \"Topic1\", \"Topic1\", \"Topic1\", \"Topic1\", \"Topic1\", \"Topic1\", \"Topic1\", \"Topic1\", \"Topic1\", \"Topic1\", \"Topic1\", \"Topic1\", \"Topic1\", \"Topic1\", \"Topic1\", \"Topic1\", \"Topic1\", \"Topic1\", \"Topic1\", \"Topic1\", \"Topic1\", \"Topic1\", \"Topic1\", \"Topic1\", \"Topic1\", \"Topic1\", \"Topic1\", \"Topic1\", \"Topic1\", \"Topic1\", \"Topic1\", \"Topic1\", \"Topic1\", \"Topic1\", \"Topic1\", \"Topic1\", \"Topic1\", \"Topic1\", \"Topic2\", \"Topic2\", \"Topic2\", \"Topic2\", \"Topic2\", \"Topic2\", \"Topic2\", \"Topic2\", \"Topic2\", \"Topic2\", \"Topic2\", \"Topic2\", \"Topic2\", \"Topic2\", \"Topic2\", \"Topic2\", \"Topic2\", \"Topic2\", \"Topic2\", \"Topic2\", \"Topic2\", \"Topic2\", \"Topic2\", \"Topic2\", \"Topic2\", \"Topic2\", \"Topic2\", \"Topic2\", \"Topic2\", \"Topic2\", \"Topic2\", \"Topic2\", \"Topic2\", \"Topic2\", \"Topic2\", \"Topic2\", \"Topic2\", \"Topic2\", \"Topic2\", \"Topic2\", \"Topic2\", \"Topic2\", \"Topic2\", \"Topic2\", \"Topic2\", \"Topic2\", \"Topic2\", \"Topic2\", \"Topic2\", \"Topic2\", \"Topic2\", \"Topic2\", \"Topic2\", \"Topic2\", \"Topic2\", \"Topic2\", \"Topic3\", \"Topic3\", \"Topic3\", \"Topic3\", \"Topic3\", \"Topic3\", \"Topic3\", \"Topic3\", \"Topic3\", \"Topic3\", \"Topic3\", \"Topic3\", \"Topic3\", \"Topic3\", \"Topic3\", \"Topic3\", \"Topic3\", \"Topic3\", \"Topic3\", \"Topic3\", \"Topic3\", \"Topic3\", \"Topic3\", \"Topic3\", \"Topic3\", \"Topic3\", \"Topic3\", \"Topic3\", \"Topic3\", \"Topic3\", \"Topic3\", \"Topic3\", \"Topic3\", \"Topic3\", \"Topic3\", \"Topic3\", \"Topic3\", \"Topic3\", \"Topic3\", \"Topic3\", \"Topic3\", \"Topic3\", \"Topic3\", \"Topic3\", \"Topic3\", \"Topic3\", \"Topic3\", \"Topic3\", \"Topic3\", \"Topic3\", \"Topic3\", \"Topic3\", \"Topic3\", \"Topic3\", \"Topic3\", \"Topic3\", \"Topic3\", \"Topic3\", \"Topic3\", \"Topic3\", \"Topic3\", \"Topic3\"], \"Total\": [1670.0, 2223.0, 461.0, 283.0, 184.0, 306.0, 300.0, 192.0, 212.0, 220.0, 81.0, 474.0, 230.0, 86.0, 81.0, 239.0, 144.0, 79.0, 68.0, 174.0, 45.0, 298.0, 88.0, 160.0, 165.0, 45.0, 99.0, 111.0, 58.0, 53.0, 29.635068902137697, 14.824116096538852, 23.195947564331554, 29.72251800543968, 13.012512747115933, 17.658906666292154, 25.11252245130577, 18.59448240406981, 17.675786456284154, 17.67490318514692, 13.963701925082125, 10.245532664291558, 12.120932680500292, 15.852525313547236, 79.25190846221525, 30.758304431001804, 13.080103956723871, 11.210789633154189, 13.073404270633292, 36.492234412936455, 18.679639454234806, 53.30054837860681, 20.558804632406904, 35.55254152699983, 58.08788680799834, 11.231873687430628, 12.180791222708818, 17.78963811049371, 18.74912785944811, 15.951417660262033, 1670.172379170694, 230.31036394076102, 24.464338072803436, 174.62506630151165, 165.22111825117486, 298.5274118511949, 474.2504245820655, 94.11587940031932, 28.23110088599614, 37.83271523349956, 108.00809680068025, 47.43043824959705, 70.58262885572185, 69.71808631248483, 28.242206216959627, 68.80188883870827, 2223.2636225943365, 300.55212707367787, 283.5744382997458, 33.1718600435062, 102.38336860169444, 65.50975313998512, 128.20181953077383, 315.27758963839835, 158.12493588931858, 239.4656246653021, 461.1416738987665, 195.95578580252123, 77.58870141727978, 88.20078287767599, 204.57509862617917, 181.52993315386468, 212.11413782599183, 23.392770863044497, 14.230315552107609, 31.441340823579587, 81.93563600788308, 18.252267708072207, 45.76503176831501, 32.494333368703856, 12.154873719044666, 13.167543014551512, 81.80976738809699, 86.0058938413837, 12.147198567982908, 14.14867840306676, 19.123144542558947, 68.2370657859021, 12.043252539518386, 13.121446544503156, 11.069029141460165, 19.104023160618894, 31.34200643031585, 31.408319863982303, 12.00331109324566, 27.21388097266075, 16.097118816283203, 25.96863403991223, 20.012554804627914, 192.31512804877406, 12.99361797653896, 461.1416738987665, 21.21721260335888, 306.58347987201654, 212.11413782599183, 220.9582965384511, 111.29683701694039, 2223.2636225943365, 100.14443708478231, 52.851908302512285, 69.6774812061285, 160.67931635353335, 315.27758963839835, 103.96100176655648, 195.95578580252123, 204.57509862617917, 119.23032643758998, 181.52993315386468, 62.37451820301379, 474.2504245820655, 121.40170501031614, 1670.172379170694, 58.341803225201346, 81.03825434847977, 298.5274118511949, 230.31036394076102, 144.83207379353553, 85.67564507205726, 239.4656246653021, 22.93753003544281, 16.9812292278434, 45.85742872803548, 15.980017873914571, 17.951169382244206, 15.896503059141828, 11.91025334727469, 11.958216182011709, 14.877452593930537, 17.951149853998565, 26.99692969628026, 184.06630546599706, 19.769540568544883, 24.734524707818487, 18.885298962993318, 16.927796536815528, 15.882576400088062, 16.008796498326333, 12.92799288725471, 21.990603823163124, 15.767863428585681, 18.799810266244958, 32.40698082510169, 23.98623315052479, 31.54994172693254, 15.945817493332525, 10.931672694982076, 17.021202372343097, 88.45356024485896, 12.910598989238089, 24.014261834324145, 61.62042743779089, 55.135533393075114, 283.5744382997458, 99.03162221697916, 144.83207379353553, 300.55212707367787, 239.4656246653021, 93.31559015055012, 84.619659387946, 78.70313349207106, 95.48290198788868, 85.02104271801579, 2223.2636225943365, 128.20181953077383, 158.12493588931858, 107.42627519731923, 1670.172379170694, 88.20078287767599, 102.38336860169444, 204.57509862617917, 181.52993315386468, 315.27758963839835, 121.40170501031614, 160.67931635353335, 72.57284761992314, 195.95578580252123, 95.62296176998896, 298.5274118511949, 474.2504245820655, 306.58347987201654, 174.62506630151165], \"loglift\": [30.0, 29.0, 28.0, 27.0, 26.0, 25.0, 24.0, 23.0, 22.0, 21.0, 20.0, 19.0, 18.0, 17.0, 16.0, 15.0, 14.0, 13.0, 12.0, 11.0, 10.0, 9.0, 8.0, 7.0, 6.0, 5.0, 4.0, 3.0, 2.0, 1.0, 0.971, 0.9671, 0.9467, 0.9372, 0.9261, 0.922, 0.9217, 0.9166, 0.9118, 0.9097, 0.9079, 0.9035, 0.8942, 0.8906, 0.8888, 0.884, 0.8709, 0.8617, 0.8584, 0.8551, 0.8542, 0.8497, 0.8463, 0.8304, 0.8299, 0.8264, 0.8161, 0.8157, 0.8106, 0.8089, 0.6042, 0.6651, 0.7809, 0.6069, 0.6073, 0.5478, 0.4931, 0.6312, 0.7601, 0.707, 0.4869, 0.6476, 0.553, 0.5439, 0.7481, 0.4619, -0.6758, -0.0922, -0.0837, 0.6757, 0.2133, 0.392, 0.075, -0.335, -0.0446, -0.2662, -0.694, -0.3972, 0.2389, 0.1164, -0.6025, -0.5602, -0.727, 1.0106, 0.9979, 0.9663, 0.9606, 0.9597, 0.9566, 0.9361, 0.9343, 0.9317, 0.9281, 0.9206, 0.9113, 0.902, 0.8965, 0.8857, 0.8634, 0.8571, 0.8324, 0.8308, 0.8264, 0.8251, 0.8207, 0.8095, 0.8048, 0.8032, 0.8005, 0.8002, 0.7906, 0.7771, 0.7699, 0.7665, 0.7573, 0.7428, 0.7156, 0.4894, 0.6342, 0.6992, 0.6086, 0.4709, 0.292, 0.4817, 0.2954, 0.2449, 0.3536, 0.1957, 0.516, -0.167, 0.1957, -1.1595, 0.4885, 0.2418, -0.583, -0.5562, -0.2064, 0.1974, -0.7363, 1.0759, 1.0732, 1.0648, 1.0618, 1.036, 1.0355, 0.9994, 0.9937, 0.9888, 0.9741, 0.9727, 0.9645, 0.9645, 0.9618, 0.9588, 0.9393, 0.9143, 0.9138, 0.9132, 0.9044, 0.89, 0.8832, 0.8817, 0.8769, 0.8764, 0.8677, 0.8573, 0.8552, 0.845, 0.8407, 0.8401, 0.8306, 0.8301, 0.7373, 0.7518, 0.7122, 0.6414, 0.6103, 0.7013, 0.6776, 0.6861, 0.5949, 0.6126, -0.152, 0.503, 0.4468, 0.5254, -0.2006, 0.5428, 0.4665, 0.1875, 0.2209, -0.0536, 0.3092, 0.1647, 0.5048, -0.0083, 0.3035, -0.4131, -0.8039, -0.5213, -0.1368], \"Freq\": [1670.0, 2223.0, 461.0, 283.0, 184.0, 306.0, 300.0, 192.0, 212.0, 220.0, 81.0, 474.0, 230.0, 86.0, 81.0, 239.0, 144.0, 79.0, 68.0, 174.0, 45.0, 298.0, 88.0, 160.0, 165.0, 45.0, 99.0, 111.0, 58.0, 53.0, 27.38547648139629, 13.646070265833346, 20.920115974596836, 26.55480964284853, 11.496405788112401, 15.53825592172004, 22.090156132115894, 16.273029931225764, 15.395262401377364, 15.36163594443518, 12.115011112724986, 8.849574314720977, 10.372635828858728, 13.517505106151773, 67.45692669341814, 26.054682615906753, 10.936307667556571, 9.286982543475737, 10.794611400628193, 30.03124811308252, 15.358846132879844, 43.63082510323324, 16.77039581519595, 28.544301847313005, 46.616951952883916, 8.982352860319295, 9.64063819250971, 14.075105476349133, 14.758420273932279, 12.535472624915608, 1069.458466931784, 156.7338994983001, 18.693887564528257, 112.12036551443305, 106.12490459659303, 180.675521146671, 271.74302618485206, 61.914207217168325, 21.12760305763877, 26.85058700488157, 61.50684814364077, 31.719859947607983, 42.94233473039153, 42.03287408121701, 20.8847102736762, 38.21346976011162, 395.8278524321719, 95.92229317897215, 91.27032093385967, 22.81666283878519, 44.34935656826298, 33.92822245464621, 48.36248884400091, 78.92451070004476, 52.925979088968525, 64.21941220008502, 80.62494474179059, 46.09669599658271, 34.481296772185395, 34.67594212149766, 39.19386723618128, 36.282070857026135, 35.882208618146954, 21.932970093379055, 13.17392352856284, 28.20349441383438, 73.07937377530577, 16.264687239803862, 40.6544015864169, 28.27971056741778, 10.559098382403196, 11.409653950909076, 70.6335230359529, 73.70297065334105, 10.312936247788135, 11.900787342739457, 15.997235222870769, 56.4685579755814, 9.746940091290128, 10.552006414792269, 8.684721136612884, 14.964998769183621, 24.443580798152883, 24.463973372261428, 9.307923967907678, 20.86878352615286, 12.285537725534606, 19.787610136912175, 15.207949990780305, 146.10419959916575, 9.777361198629944, 342.35885192797326, 15.637527340465471, 225.20564904075556, 154.38577247667655, 158.50233945723622, 77.69797203016606, 1237.8231393536128, 64.44376344409422, 36.29624463663679, 43.70656706516464, 87.81908440250618, 144.09765418379644, 57.4363053163743, 89.8630179511768, 89.19414152041654, 57.952109878517575, 75.34959325171933, 35.66329548296921, 136.97040934183997, 50.39319600639538, 178.77709446409335, 32.45333656446127, 35.223986664114335, 56.877097947400856, 45.0709857947997, 40.21280712172364, 35.622737501387434, 39.13864094946455, 20.768337096959282, 15.332860491785114, 41.062175707212354, 14.26612173089727, 15.617327533565822, 13.823435309182374, 9.989069024182434, 9.973179589285904, 12.347203744107711, 14.680649140152276, 22.047294340994643, 149.0946838387315, 16.012767703826043, 19.9802514759869, 15.20948026277806, 13.370146973435341, 12.234904388421853, 12.32561500981609, 9.947633513145549, 16.77331553676296, 11.854779850345528, 14.037794092255268, 24.161671977985737, 17.799162555575762, 23.398381589383728, 11.72450608516818, 7.954220759307762, 12.358628424839374, 63.57224430703541, 9.239807558651128, 17.17554965759872, 43.65769877417865, 39.043673706391104, 182.9976795920041, 64.84546036249694, 91.1512892317531, 176.2183981326478, 136.10757151575254, 58.092652864108324, 51.44634820750131, 48.258148586604925, 53.44148711164819, 48.43542991395428, 589.6126308085519, 65.45314114603684, 76.32088232577338, 56.088813656572015, 421.9368177748167, 46.86103856692531, 50.40022840689902, 76.18708986958134, 69.8982690451192, 92.25542475455718, 51.05962730931523, 58.48787805594177, 37.117523908553835, 59.996071854761745, 39.99167482385597, 60.97479275712306, 65.53698905537345, 56.2002420334847, 47.021162718949654], \"logprob\": [30.0, 29.0, 28.0, 27.0, 26.0, 25.0, 24.0, 23.0, 22.0, 21.0, 20.0, 19.0, 18.0, 17.0, 16.0, 15.0, 14.0, 13.0, 12.0, 11.0, 10.0, 9.0, 8.0, 7.0, 6.0, 5.0, 4.0, 3.0, 2.0, 1.0, -5.638400077819824, -6.335000038146973, -5.907700061798096, -5.6691999435424805, -6.506400108337402, -6.205100059509277, -5.853300094604492, -6.158899784088135, -6.214399814605713, -6.2164998054504395, -6.453999996185303, -6.76800012588501, -6.6092000007629395, -6.344399929046631, -4.7368998527526855, -5.688199996948242, -6.556300163269043, -6.719799995422363, -6.569399833679199, -5.546199798583984, -6.216700077056885, -5.172599792480469, -6.128799915313721, -5.5970001220703125, -5.106400012969971, -6.753200054168701, -6.682400226593018, -6.303999900817871, -6.2565999031066895, -6.4197998046875, -1.9735000133514404, -3.893899917602539, -6.020199775695801, -4.228799819946289, -4.28380012512207, -3.751699924468994, -3.343600034713745, -4.822700023651123, -5.897799968719482, -5.658100128173828, -4.8292999267578125, -5.491499900817871, -5.188600063323975, -5.210000038146973, -5.90939998626709, -5.305200099945068, -2.967400074005127, -4.384900093078613, -4.434599876403809, -5.820899963378906, -5.156300067901611, -5.424200057983398, -5.069699764251709, -4.579899787902832, -4.979499816894531, -4.786099910736084, -4.558599948883057, -5.117700099945068, -5.4079999923706055, -5.402400016784668, -5.279900074005127, -5.357100009918213, -5.368199825286865, -5.835400104522705, -6.345099925994873, -5.583899974822998, -4.631800174713135, -6.134399890899658, -5.218200206756592, -5.581200122833252, -6.566400051116943, -6.488900184631348, -4.665800094604492, -4.623300075531006, -6.589900016784668, -6.446700096130371, -6.150899887084961, -4.889699935913086, -6.646399974822998, -6.566999912261963, -6.7617998123168945, -6.217599868774414, -5.7270002365112305, -5.726099967956543, -6.692500114440918, -5.8850998878479, -6.414899826049805, -5.938300132751465, -6.201499938964844, -3.938999891281128, -6.6433000564575195, -3.0875000953674316, -6.173699855804443, -3.5062999725341797, -3.8838999271392822, -3.857599973678589, -4.570499897003174, -1.8021999597549438, -4.757599830627441, -5.331600189208984, -5.1458001136779785, -4.4481000900268555, -3.952899932861328, -4.872700214385986, -4.425099849700928, -4.432499885559082, -4.863699913024902, -4.601200103759766, -5.3491997718811035, -4.003600120544434, -5.003499984741211, -3.7372000217437744, -5.44350004196167, -5.361599922180176, -4.882500171661377, -5.115099906921387, -5.2291998863220215, -5.350399971008301, -5.256199836730957, -5.789700031280518, -6.093100070953369, -5.107999801635742, -6.165200233459473, -6.074699878692627, -6.196700096130371, -6.521599769592285, -6.523200035095215, -6.309700012207031, -6.136600017547607, -5.729899883270264, -3.81850004196167, -6.049699783325195, -5.8282999992370605, -6.101200103759766, -6.230100154876709, -6.31879997253418, -6.311399936676025, -6.525700092315674, -6.003300189971924, -6.350399971008301, -6.181300163269043, -5.638299942016602, -5.943900108337402, -5.670400142669678, -6.361400127410889, -6.7494001388549805, -6.308700084686279, -4.670899868011475, -6.599599838256836, -5.979599952697754, -5.0467000007629395, -5.158400058746338, -3.613600015640259, -4.651100158691406, -4.3105998039245605, -3.651400089263916, -3.909600019454956, -4.761000156402588, -4.882500171661377, -4.946499824523926, -4.8445000648498535, -4.94290018081665, -2.4435999393463135, -4.64169979095459, -4.488100051879883, -4.79610013961792, -2.7781999111175537, -4.975900173187256, -4.90310001373291, -4.4899001121521, -4.576000213623047, -4.298500061035156, -4.890100002288818, -4.754300117492676, -5.209000110626221, -4.728799819946289, -5.134399890899658, -4.712600231170654, -4.640500068664551, -4.7941999435424805, -4.972499847412109], \"Term\": [\"order\", \"motion\", \"dismiss\", \"schedule\", \"due\", \"amend_complaint\", \"request\", \"rule\", \"memorandum_law_support\", \"support\", \"minute_entry_hold\", \"notice\", \"stipulation\", \"serve_answer_due\", \"reply_memorandum_law\", \"grant\", \"opposition\", \"conference_hold\", \"withdraw\", \"discovery\", \"default_judgment\", \"letter\", \"endorsed_letter_address\", \"declaration_support\", \"serve\", \"summary_judgment..\", \"leave\", \"notice_appearance\", \"send\", \"redaction\", \"remotely_electronically_available_public\", \"award\", \"minute_entry_hold_telephone\", \"without_redaction_calendar\", \"officer\", \"rule_federal_rule\", \"administrator\", \"provision\", \"principal\", \"adopt\", \"comply_discovery_ruling_conference\", \"right_appeal\", \"substitution\", \"scheduling\", \"conference_hold\", \"note\", \"bond\", \"nonecf_error\", \"post\", \"answer_due_answer_due\", \"plan\", \"redaction\", \"distribution\", \"calendar\", \"send\", \"fax\", \"discover\", \"relevant\", \"judgment_favor\", \"discovery_complete\", \"order\", \"stipulation\", \"note_refile\", \"discovery\", \"serve\", \"letter\", \"notice\", \"hold\", \"office\", \"release\", \"judgment\", \"show_cause\", \"dismissal\", \"service_accept\", \"dispute\", \"service\", \"motion\", \"request\", \"schedule\", \"dismiss_thirdparty_complaint\", \"issue\", \"appear\", \"propose\", \"complaint\", \"conference\", \"grant\", \"dismiss\", \"answer\", \"memorandum\", \"deposition\", \"summary_judgment\", \"reply\", \"memorandum_law_support\", \"official_conference\", \"rule_rule_..\", \"l.p..\", \"minute_entry_hold\", \"discovery_hear_hold\", \"summary_judgment..\", \"official_notice_give\", \"jury_trial_hold\", \"rule_certificate\", \"reply_memorandum_law\", \"serve_answer_due\", \"ambassador\", \"merrill\", \"newvest_portfolio_newvest\", \"withdraw\", \"newvest_portfolio\", \"summons_execute\", \"rule_deposition_objection\", \"reset\", \"view_public_terminal_purchase\", \"deadline_release\", \"failure_state\", \"endorsement_application_grant\", \"appearance\", \"memorandum_law\", \"thk\", \"rule\", \"pro_hac_vice\", \"dismiss\", \"international\", \"amend_complaint\", \"memorandum_law_support\", \"support\", \"notice_appearance\", \"motion\", \"declaration_opposition\", \"answer_due\", \"appear_pro_hac_vice\", \"declaration_support\", \"complaint\", \"letter_address\", \"answer\", \"summary_judgment\", \"response\", \"reply\", \"supplemental\", \"notice\", \"memorandum_law_opposition\", \"order\", \"abovecaptioned\", \"extend\", \"letter\", \"stipulation\", \"opposition\", \"brief\", \"grant\", \"email\", \"stillwater_market_neutral_balentine\", \"default_judgment\", \"alternative_investment_sgr_spa\", \"assignment\", \"believe\", \"note_manually_refile\", \"service_accept_legal\", \"dated\", \"answer_due_purs\", \"supplemental_amend\", \"due\", \"promptly\", \"necessary\", \"respectfully\", \"responsible_courtesy_individual_practice\", \"give\", \"usca_number\", \"confidential\", \"p.m\", \"account_balentine_global_hedge\", \"report_recommendation\", \"protective\", \"reschedule\", \"associate\", \"stipulate\", \"new_york_observer\", \"jr\", \"endorsed_letter_address\", \"notice_termination\", \"new_address\", \"deadline\", \"appeal\", \"schedule\", \"leave\", \"opposition\", \"request\", \"grant\", \"extension\", \"address\", \"notice_appeal\", \"amend\", \"declaration\", \"motion\", \"propose\", \"conference\", \"deny\", \"order\", \"deposition\", \"issue\", \"summary_judgment\", \"reply\", \"complaint\", \"memorandum_law_opposition\", \"declaration_support\", \"affidavit_service_summons\", \"answer\", \"settlement\", \"letter\", \"notice\", \"amend_complaint\", \"discovery\"]}, \"token.table\": {\"Freq\": [0.2571055258970911, 0.5484917885804611, 0.1714036839313941, 0.19026039980542175, 0.06342013326847393, 0.761041599221687, 0.12999343272666186, 0.2599868654533237, 0.6026968244599777, 0.8760569569488257, 0.07964154154080234, 0.03982077077040117, 0.848660942743111, 0.056577396182874065, 0.11315479236574813, 0.2893644205609889, 0.20668887182927778, 0.5098325505122185, 0.06257815278369482, 0.06257815278369482, 0.8760941389717274, 0.08232350812439662, 0.8232350812439663, 0.08232350812439662, 0.24088082286101217, 0.19898850584170572, 0.5550732005058107, 0.08154385882251798, 0.7338947294026619, 0.18265824376244028, 0.23474683236124252, 0.4592872807067789, 0.3061915204711859, 0.1892079268502904, 0.6811485366610455, 0.11352475611017424, 0.8220927132202416, 0.1370154522033736, 0.02740309044067472, 0.05570673790443864, 0.11141347580887728, 0.8356010685665796, 0.2176454867036286, 0.0725484955678762, 0.707347831786793, 0.5190066878644282, 0.3358278568534535, 0.15264902584247886, 0.2009257475680482, 0.6314809209281516, 0.17222206934404133, 0.12424583696163563, 0.7454750217698138, 0.12424583696163563, 0.05570667730365891, 0.05570667730365891, 0.8913068368585425, 0.19017467771986762, 0.06339155923995587, 0.7290029312594926, 0.9444070667571696, 0.06745764762551211, 0.12581383418473482, 0.8806968392931438, 0.840971909427785, 0.15290398353232454, 0.07645199176616227, 0.15173506997311062, 0.42018942454092173, 0.4318613530003918, 0.8156941460282493, 0.0562547686916034, 0.14063692172900852, 0.25057283675191616, 0.4567403606617206, 0.291806341533877, 0.8593709651195827, 0.07161424709329856, 0.07161424709329856, 0.3351780015082376, 0.18339928384413, 0.4806326059363407, 0.8454055088394928, 0.07570795601547697, 0.07570795601547697, 0.07735152770588756, 0.15470305541177512, 0.7735152770588756, 0.13443161639217238, 0.06721580819608619, 0.8065896983530344, 0.12982707736126023, 0.16228384670157528, 0.7140489254869312, 0.03183869765497251, 0.7641287437193404, 0.1910321859298351, 0.09409435293016956, 0.3410920293718646, 0.5645661175810173, 0.24963942808760303, 0.6390769359042637, 0.09985577123504122, 0.0871300694931799, 0.5476747225285594, 0.36096743075745963, 0.06542015292204804, 0.04361343528136536, 0.8940754232679898, 0.2327177401811644, 0.24202644978841095, 0.5212877380058082, 0.396821874569309, 0.07936437491386181, 0.5328750887073578, 0.8209647318605101, 0.08209647318605101, 0.16419294637210202, 0.6413741301413064, 0.08589832100106783, 0.26914807247001254, 0.8149745857627083, 0.12538070550195513, 0.06269035275097756, 0.05478771273762012, 0.8766034038019219, 0.05478771273762012, 0.1756510083228387, 0.74163759069643, 0.08240417674404778, 0.693358767637226, 0.24116826700425256, 0.09043810012659471, 0.6092150532944363, 0.21251687905619868, 0.18418129518203885, 0.7435679719451013, 0.10622399599215732, 0.1770399933202622, 0.8268963251493159, 0.04864096030290093, 0.14592288090870278, 0.04889542372904632, 0.141253446328356, 0.8094909039586556, 0.043596673157694464, 0.043596673157694464, 0.9155301363115838, 0.12435904184692594, 0.15827514416881483, 0.7235435162002963, 0.11023785997351206, 0.7716650198145845, 0.14698381329801607, 0.38253538713573665, 0.43189479192744457, 0.1850977679689048, 0.15002852125152066, 0.22504278187728097, 0.621546730899157, 0.16662069194602586, 0.7497931137571163, 0.08331034597301293, 0.8012910624228018, 0.08903234026920019, 0.17806468053840038, 0.12592415421901643, 0.12592415421901643, 0.7555449253140986, 0.26726174201183134, 0.16286262403845972, 0.5679312017751416, 0.6587623724609181, 0.2550047893397102, 0.08500159644657007, 0.04713154450088749, 0.7541047120141998, 0.18852617800354995, 0.42975729946115293, 0.07813769081111871, 0.488360567569492, 0.058750256187826665, 0.23500102475130666, 0.70500307425392, 0.5740310387508792, 0.1388784771171482, 0.2870155193754396, 0.8000372130611484, 0.10667162840815313, 0.10667162840815313, 0.08227152524284694, 0.9049867776713163, 0.08227152524284694, 0.06361051875052638, 0.8905472625073694, 0.06361051875052638, 0.17166233996200578, 0.18176012466565317, 0.6563560057370809, 0.6063094805183985, 0.1909372397212636, 0.20433634426310668, 0.25009378091972195, 0.5482825197086212, 0.20199882305054465, 0.4382081331293922, 0.34798881160275263, 0.20621559206089046, 0.19253996926889955, 0.7701598770755982, 0.03850799385377991, 0.1647423320644508, 0.411855830161127, 0.4200929467643495, 0.1697199459167246, 0.7260242130882107, 0.10371774472688725, 0.07067797934987677, 0.8481357521985213, 0.07067797934987677, 0.08543291223523945, 0.8909432275960686, 0.0244094034957827, 0.9053305514576923, 0.04311097864084249, 0.04311097864084249, 0.17811652922108526, 0.5568390484234937, 0.26537563697080885, 0.16171727766151964, 0.04042931941537991, 0.8085863883075982, 0.04164192124242922, 0.20820960621214613, 0.7079126611212968, 0.09147730890799778, 0.18295461781599556, 0.7318184712639823, 0.16606809443190343, 0.8303404721595171, 0.10458530999172021, 0.8366824799337617, 0.052292654995860104, 0.8027980449641016, 0.08919978277378907, 0.08919978277378907, 0.8453001711561893, 0.03251154504446882, 0.09753463513340646, 0.08396127024693564, 0.08396127024693564, 0.8396127024693564, 0.7766406735983573, 0.20437912463114666, 0.040875824926229334, 0.5735366504725868, 0.2888769158630309, 0.13916698136467182, 0.11435376967432566, 0.26682546257342654, 0.6098867715964035, 0.13477471958809453, 0.7008285418580915, 0.16172966350571344, 0.1549114802238954, 0.1549114802238954, 0.6971016610075292, 0.7438604709324999, 0.10626578156178569, 0.14168770874904757, 0.8453401901518227, 0.07684910819562026, 0.07684910819562026, 0.04274824927130728, 0.9404614839687601, 0.04274824927130728, 0.03077459656283105, 0.8616887037592694, 0.09232378968849315, 0.08975912351108133, 0.27618191849563484, 0.6283138645775692, 0.6400536934581569, 0.10717456607016847, 0.25266853006486645, 0.04547396733811742, 0.18189586935246968, 0.7730574447479962, 0.8030133577658211, 0.05353422385105473, 0.1606026715531642, 0.8414028796393326, 0.07649117087630296, 0.15298234175260592, 0.8486185345754248, 0.05657456897169499, 0.05657456897169499, 0.15392171784726652, 0.7696085892363326, 0.07696085892363326, 0.15174859474343425, 0.05058286491447808, 0.8093258386316493, 0.3744096626372606, 0.10920281826920102, 0.5070130848212904, 0.2160028432694342, 0.0308575490384906, 0.7405811769237745, 0.8604703079284448, 0.0537793942455278, 0.1075587884910556, 0.8255074542096125, 0.09380766525109233, 0.09380766525109233, 0.7136680471744844, 0.2114571991628102, 0.07929644968605382, 0.7869749745916256, 0.05621249818511611, 0.16863749455534832, 0.9110827475772254, 0.03374380546582316, 0.03374380546582316, 0.1983144012369928, 0.41315500257706833, 0.38561133573859707, 0.09778783457541, 0.8678670318567637, 0.048893917287705, 0.1595760785621596, 0.10638405237477307, 0.7446883666234115, 0.3194121463544538, 0.09316187602004904, 0.5855889349831653, 0.08338116232961916, 0.2084529058240479, 0.7504304609665725, 0.10468999033265451, 0.7851749274949089, 0.10468999033265451, 0.10590248022650313, 0.10590248022650313, 0.7942686016987736, 0.19290394220332138, 0.48645341946924525, 0.3187108610315745, 0.11814886808512183, 0.11814886808512183, 0.7679676425532919, 0.8784316340493867, 0.09760351489437631, 0.09760351489437631, 0.103995978906702, 0.7591706460189246, 0.1351947725787126, 0.07594431238196035, 0.8353874362015639, 0.07594431238196035, 0.09034215984258269, 0.8130794385832442, 0.09034215984258269, 0.9060583592381332, 0.05662864745238332, 0.11325729490476664, 0.07027251056649218, 0.9135426373643984, 0.07027251056649218, 0.32090339505075755, 0.031737698411613384, 0.6453332010361388, 0.8831400501241208, 0.06308143215172292, 0.06308143215172292, 0.8091187781602754, 0.12050705206642401, 0.06886117260938515, 0.6415644750621717, 0.12104990095512674, 0.23604730686249714, 0.06976266081328676, 0.8604061500305368, 0.06976266081328676, 0.552310418236963, 0.05813793876178558, 0.3778966019516063, 0.6024261740597836, 0.2581826460256215, 0.14343480334756753, 0.08362451261788209, 0.08362451261788209, 0.836245126178821, 0.3451053950763212, 0.23007026338421413, 0.41830956978948025, 0.67467223961971, 0.18975156739304344, 0.14758455241681157, 0.058888551975986664, 0.058888551975986664, 0.8833282796398, 0.1254247391729064, 0.1881371087593596, 0.7525484350374384, 0.6816888190076524, 0.19538851500219337, 0.12591704300141351, 0.8250190198719303, 0.08250190198719302, 0.08250190198719302, 0.19063903799584545, 0.43504806106744215, 0.371501715068827, 0.02185074414593416, 0.8958805099833005, 0.08740297658373664, 0.07621110954561032, 0.8383222050017135, 0.07621110954561032, 0.25651500742537064, 0.577158766707084, 0.17635406760494232, 0.03704124918093126, 0.14816499672372505, 0.8149074819804877, 0.12219500431974714, 0.7195928032162887, 0.15840093152559814, 0.19987453071583833, 0.7495294901843937, 0.04996863267895958, 0.06246565755923918, 0.18739697267771754, 0.7495878907108702, 0.06381212397638593, 0.7657454877166312, 0.15953030994096484, 0.16120271106781117, 0.8206683472543114, 0.014654791915255561, 0.9084021749119163, 0.06728904999347528, 0.03364452499673764], \"Topic\": [1, 2, 3, 1, 2, 3, 1, 2, 3, 1, 2, 3, 1, 2, 3, 1, 2, 3, 1, 2, 3, 1, 2, 3, 1, 2, 3, 1, 2, 3, 1, 2, 3, 1, 2, 3, 1, 2, 3, 1, 2, 3, 1, 2, 3, 1, 2, 3, 1, 2, 3, 1, 2, 3, 1, 2, 3, 1, 2, 3, 1, 2, 1, 3, 1, 2, 3, 1, 2, 3, 1, 2, 3, 1, 2, 3, 1, 2, 3, 1, 2, 3, 1, 2, 3, 1, 2, 3, 1, 2, 3, 1, 2, 3, 1, 2, 3, 1, 2, 3, 1, 2, 3, 1, 2, 3, 1, 2, 3, 1, 2, 3, 1, 2, 3, 1, 2, 3, 1, 2, 3, 1, 2, 3, 1, 2, 3, 1, 2, 3, 1, 2, 3, 1, 2, 3, 1, 2, 3, 1, 2, 3, 1, 2, 3, 1, 2, 3, 1, 2, 3, 1, 2, 3, 1, 2, 3, 1, 2, 3, 1, 2, 3, 1, 2, 3, 1, 2, 3, 1, 2, 3, 1, 2, 3, 1, 2, 3, 1, 2, 3, 1, 2, 3, 1, 2, 3, 1, 2, 3, 1, 2, 3, 1, 2, 3, 1, 2, 3, 1, 2, 3, 1, 2, 3, 1, 2, 3, 1, 2, 3, 1, 2, 3, 1, 2, 3, 1, 2, 3, 1, 2, 3, 1, 2, 3, 1, 2, 3, 1, 2, 3, 1, 2, 3, 1, 2, 3, 1, 2, 1, 2, 3, 1, 2, 3, 1, 2, 3, 1, 2, 3, 1, 2, 3, 1, 2, 3, 1, 2, 3, 1, 2, 3, 1, 2, 3, 1, 2, 3, 1, 2, 3, 1, 2, 3, 1, 2, 3, 1, 2, 3, 1, 2, 3, 1, 2, 3, 1, 2, 3, 1, 2, 3, 1, 2, 3, 1, 2, 3, 1, 2, 3, 1, 2, 3, 1, 2, 3, 1, 2, 3, 1, 2, 3, 1, 2, 3, 1, 2, 3, 1, 2, 3, 1, 2, 3, 1, 2, 3, 1, 2, 3, 1, 2, 3, 1, 2, 3, 1, 2, 3, 1, 2, 3, 1, 2, 3, 1, 2, 3, 1, 2, 3, 1, 2, 3, 1, 2, 3, 1, 2, 3, 1, 2, 3, 1, 2, 3, 1, 2, 3, 1, 2, 3, 1, 2, 3, 1, 2, 3, 1, 2, 3, 1, 2, 3, 1, 2, 3, 1, 2, 3, 1, 2, 3, 1, 2, 3, 1, 2, 3, 1, 2, 3, 1, 2, 3, 1, 2, 3, 1, 2, 3, 1, 2, 3, 1, 2, 3, 1, 2, 3, 1, 2, 3, 1, 2, 3, 1, 2, 3, 1, 2, 3, 1, 2, 3, 1, 2, 3, 1, 2, 3], \"Term\": [\"abovecaptioned\", \"abovecaptioned\", \"abovecaptioned\", \"account_balentine_global_hedge\", \"account_balentine_global_hedge\", \"account_balentine_global_hedge\", \"address\", \"address\", \"address\", \"administrator\", \"administrator\", \"administrator\", \"adopt\", \"adopt\", \"adopt\", \"affidavit_service_summons\", \"affidavit_service_summons\", \"affidavit_service_summons\", \"alternative_investment_sgr_spa\", \"alternative_investment_sgr_spa\", \"alternative_investment_sgr_spa\", \"ambassador\", \"ambassador\", \"ambassador\", \"amend\", \"amend\", \"amend\", \"amend_complaint\", \"amend_complaint\", \"amend_complaint\", \"answer\", \"answer\", \"answer\", \"answer_due\", \"answer_due\", \"answer_due\", \"answer_due_answer_due\", \"answer_due_answer_due\", \"answer_due_answer_due\", \"answer_due_purs\", \"answer_due_purs\", \"answer_due_purs\", \"appeal\", \"appeal\", \"appeal\", \"appear\", \"appear\", \"appear\", \"appear_pro_hac_vice\", \"appear_pro_hac_vice\", \"appear_pro_hac_vice\", \"appearance\", \"appearance\", \"appearance\", \"assignment\", \"assignment\", \"assignment\", \"associate\", \"associate\", \"associate\", \"award\", \"award\", \"believe\", \"believe\", \"bond\", \"bond\", \"bond\", \"brief\", \"brief\", \"brief\", \"calendar\", \"calendar\", \"calendar\", \"complaint\", \"complaint\", \"complaint\", \"comply_discovery_ruling_conference\", \"comply_discovery_ruling_conference\", \"comply_discovery_ruling_conference\", \"conference\", \"conference\", \"conference\", \"conference_hold\", \"conference_hold\", \"conference_hold\", \"confidential\", \"confidential\", \"confidential\", \"dated\", \"dated\", \"dated\", \"deadline\", \"deadline\", \"deadline\", \"deadline_release\", \"deadline_release\", \"deadline_release\", \"declaration\", \"declaration\", \"declaration\", \"declaration_opposition\", \"declaration_opposition\", \"declaration_opposition\", \"declaration_support\", \"declaration_support\", \"declaration_support\", \"default_judgment\", \"default_judgment\", \"default_judgment\", \"deny\", \"deny\", \"deny\", \"deposition\", \"deposition\", \"deposition\", \"discover\", \"discover\", \"discover\", \"discovery\", \"discovery\", \"discovery\", \"discovery_complete\", \"discovery_complete\", \"discovery_complete\", \"discovery_hear_hold\", \"discovery_hear_hold\", \"discovery_hear_hold\", \"dismiss\", \"dismiss\", \"dismiss\", \"dismiss_thirdparty_complaint\", \"dismiss_thirdparty_complaint\", \"dismiss_thirdparty_complaint\", \"dismissal\", \"dismissal\", \"dismissal\", \"dispute\", \"dispute\", \"dispute\", \"distribution\", \"distribution\", \"distribution\", \"due\", \"due\", \"due\", \"email\", \"email\", \"email\", \"endorsed_letter_address\", \"endorsed_letter_address\", \"endorsed_letter_address\", \"endorsement_application_grant\", \"endorsement_application_grant\", \"endorsement_application_grant\", \"extend\", \"extend\", \"extend\", \"extension\", \"extension\", \"extension\", \"failure_state\", \"failure_state\", \"failure_state\", \"fax\", \"fax\", \"fax\", \"give\", \"give\", \"give\", \"grant\", \"grant\", \"grant\", \"hold\", \"hold\", \"hold\", \"international\", \"international\", \"international\", \"issue\", \"issue\", \"issue\", \"jr\", \"jr\", \"jr\", \"judgment\", \"judgment\", \"judgment\", \"judgment_favor\", \"judgment_favor\", \"judgment_favor\", \"jury_trial_hold\", \"jury_trial_hold\", \"jury_trial_hold\", \"l.p..\", \"l.p..\", \"l.p..\", \"leave\", \"leave\", \"leave\", \"letter\", \"letter\", \"letter\", \"letter_address\", \"letter_address\", \"letter_address\", \"memorandum\", \"memorandum\", \"memorandum\", \"memorandum_law\", \"memorandum_law\", \"memorandum_law\", \"memorandum_law_opposition\", \"memorandum_law_opposition\", \"memorandum_law_opposition\", \"memorandum_law_support\", \"memorandum_law_support\", \"memorandum_law_support\", \"merrill\", \"merrill\", \"merrill\", \"minute_entry_hold\", \"minute_entry_hold\", \"minute_entry_hold\", \"minute_entry_hold_telephone\", \"minute_entry_hold_telephone\", \"minute_entry_hold_telephone\", \"motion\", \"motion\", \"motion\", \"necessary\", \"necessary\", \"necessary\", \"new_address\", \"new_address\", \"new_address\", \"new_york_observer\", \"new_york_observer\", \"new_york_observer\", \"newvest_portfolio\", \"newvest_portfolio\", \"newvest_portfolio_newvest\", \"newvest_portfolio_newvest\", \"newvest_portfolio_newvest\", \"nonecf_error\", \"nonecf_error\", \"nonecf_error\", \"note\", \"note\", \"note\", \"note_manually_refile\", \"note_manually_refile\", \"note_manually_refile\", \"note_refile\", \"note_refile\", \"note_refile\", \"notice\", \"notice\", \"notice\", \"notice_appeal\", \"notice_appeal\", \"notice_appeal\", \"notice_appearance\", \"notice_appearance\", \"notice_appearance\", \"notice_termination\", \"notice_termination\", \"notice_termination\", \"office\", \"office\", \"office\", \"officer\", \"officer\", \"officer\", \"official_conference\", \"official_conference\", \"official_conference\", \"official_notice_give\", \"official_notice_give\", \"official_notice_give\", \"opposition\", \"opposition\", \"opposition\", \"order\", \"order\", \"order\", \"p.m\", \"p.m\", \"p.m\", \"plan\", \"plan\", \"plan\", \"post\", \"post\", \"post\", \"principal\", \"principal\", \"principal\", \"pro_hac_vice\", \"pro_hac_vice\", \"pro_hac_vice\", \"promptly\", \"promptly\", \"promptly\", \"propose\", \"propose\", \"propose\", \"protective\", \"protective\", \"protective\", \"provision\", \"provision\", \"provision\", \"redaction\", \"redaction\", \"redaction\", \"release\", \"release\", \"release\", \"relevant\", \"relevant\", \"relevant\", \"remotely_electronically_available_public\", \"remotely_electronically_available_public\", \"remotely_electronically_available_public\", \"reply\", \"reply\", \"reply\", \"reply_memorandum_law\", \"reply_memorandum_law\", \"reply_memorandum_law\", \"report_recommendation\", \"report_recommendation\", \"report_recommendation\", \"request\", \"request\", \"request\", \"reschedule\", \"reschedule\", \"reschedule\", \"reset\", \"reset\", \"reset\", \"respectfully\", \"respectfully\", \"respectfully\", \"response\", \"response\", \"response\", \"responsible_courtesy_individual_practice\", \"responsible_courtesy_individual_practice\", \"responsible_courtesy_individual_practice\", \"right_appeal\", \"right_appeal\", \"right_appeal\", \"rule\", \"rule\", \"rule\", \"rule_certificate\", \"rule_certificate\", \"rule_certificate\", \"rule_deposition_objection\", \"rule_deposition_objection\", \"rule_deposition_objection\", \"rule_federal_rule\", \"rule_federal_rule\", \"rule_federal_rule\", \"rule_rule_..\", \"rule_rule_..\", \"rule_rule_..\", \"schedule\", \"schedule\", \"schedule\", \"scheduling\", \"scheduling\", \"scheduling\", \"send\", \"send\", \"send\", \"serve\", \"serve\", \"serve\", \"serve_answer_due\", \"serve_answer_due\", \"serve_answer_due\", \"service\", \"service\", \"service\", \"service_accept\", \"service_accept\", \"service_accept\", \"service_accept_legal\", \"service_accept_legal\", \"service_accept_legal\", \"settlement\", \"settlement\", \"settlement\", \"show_cause\", \"show_cause\", \"show_cause\", \"stillwater_market_neutral_balentine\", \"stillwater_market_neutral_balentine\", \"stillwater_market_neutral_balentine\", \"stipulate\", \"stipulate\", \"stipulate\", \"stipulation\", \"stipulation\", \"stipulation\", \"substitution\", \"substitution\", \"substitution\", \"summary_judgment\", \"summary_judgment\", \"summary_judgment\", \"summary_judgment..\", \"summary_judgment..\", \"summary_judgment..\", \"summons_execute\", \"summons_execute\", \"summons_execute\", \"supplemental\", \"supplemental\", \"supplemental\", \"supplemental_amend\", \"supplemental_amend\", \"supplemental_amend\", \"support\", \"support\", \"support\", \"thk\", \"thk\", \"thk\", \"usca_number\", \"usca_number\", \"usca_number\", \"view_public_terminal_purchase\", \"view_public_terminal_purchase\", \"view_public_terminal_purchase\", \"withdraw\", \"withdraw\", \"withdraw\", \"without_redaction_calendar\", \"without_redaction_calendar\", \"without_redaction_calendar\"]}, \"lambda.step\": 0.01, \"plot.opts\": {\"ylab\": \"PC2\", \"xlab\": \"PC1\"}};\n",
       "\n",
       "function LDAvis_load_lib(url, callback){\n",
       "  var s = document.createElement('script');\n",
       "  s.src = url;\n",
       "  s.async = true;\n",
       "  s.onreadystatechange = s.onload = callback;\n",
       "  s.onerror = function(){console.warn(\"failed to load library \" + url);};\n",
       "  document.getElementsByTagName(\"head\")[0].appendChild(s);\n",
       "}\n",
       "\n",
       "if(typeof(LDAvis) !== \"undefined\"){\n",
       "   // already loaded: just create the visualization\n",
       "   !function(LDAvis){\n",
       "       new LDAvis(\"#\" + \"ldavis_el2506819944435177689890859123\", ldavis_el2506819944435177689890859123_data);\n",
       "   }(LDAvis);\n",
       "}else if(typeof define === \"function\" && define.amd){\n",
       "   // require.js is available: use it to load d3/LDAvis\n",
       "   require.config({paths: {d3: \"https://cdnjs.cloudflare.com/ajax/libs/d3/3.5.5/d3.min\"}});\n",
       "   require([\"d3\"], function(d3){\n",
       "      window.d3 = d3;\n",
       "      LDAvis_load_lib(\"https://cdn.rawgit.com/bmabey/pyLDAvis/files/ldavis.v1.0.0.js\", function(){\n",
       "        new LDAvis(\"#\" + \"ldavis_el2506819944435177689890859123\", ldavis_el2506819944435177689890859123_data);\n",
       "      });\n",
       "    });\n",
       "}else{\n",
       "    // require.js not available: dynamically load d3 & LDAvis\n",
       "    LDAvis_load_lib(\"https://cdnjs.cloudflare.com/ajax/libs/d3/3.5.5/d3.min.js\", function(){\n",
       "         LDAvis_load_lib(\"https://cdn.rawgit.com/bmabey/pyLDAvis/files/ldavis.v1.0.0.js\", function(){\n",
       "                 new LDAvis(\"#\" + \"ldavis_el2506819944435177689890859123\", ldavis_el2506819944435177689890859123_data);\n",
       "            })\n",
       "         });\n",
       "}\n",
       "</script>"
      ],
      "text/plain": [
       "<IPython.core.display.HTML object>"
      ]
     },
     "execution_count": 433,
     "metadata": {},
     "output_type": "execute_result"
    }
   ],
   "source": [
    "num_topics = 3\n",
    "pretrained_model_file_path = 'docket_texts/train/lda_model_noorgnomodel_' + str(num_topics)\n",
    "column_name = str(num_topics) + '-topic Model Classificaiton'\n",
    "\n",
    "topic_names = {}\n",
    "for i in range(num_topics):\n",
    "    topic_names[i] = 'Topic ' + str(i)\n",
    "\n",
    "LDAvis_prepared, model = topic_modeling_pipeline(num_topics, pretrained_model_file_path, trigram_bow_corpus, trigram_dictionary, export = True)\n",
    "topic_summary = []\n",
    "\n",
    "for docket_text in list(new_df['Apply Trigram Phrase Model']):\n",
    "    #print(docket_text)\n",
    "    topic_summary.append(lda_description(docket_text, model, trigram_dictionary, topic_names))\n",
    "\n",
    "new_df[column_name] = topic_summary\n",
    "pyLDAvis.display(LDAvis_prepared)"
   ]
  },
  {
   "cell_type": "markdown",
   "metadata": {},
   "source": [
    "### 4 Topics: with Chris' Feedback on 2018/5/10\n",
    "1. Topic 1 - inform attorney that he or she has 21 days to respond with an opposition; draft an email letting the client know that the other side seeks to dismiss his or her case\n",
    "\n",
    "2. Topic 2 - attorney takes action to prepare an opposition; calendar the due date\n",
    "3. Topic 3 - draft an email letting the client know that his or her complaint is filed, and based on the rules blah blah blah . . . etc.; calendar 21 days for a response date\n",
    "4. Topic 4 - same with topic 3\n",
    "\n",
    "These are my initial thoughts of what we are doing for each topic. Maybe we can draft a response/message to the attorney, providing (1) a sample client letter about the event; (2) a link for the attorney to click in order to add the due date on the calendar\n",
    "\n",
    "I guess the main goals is to ease the administrative work of an attorney when certain events occur.  Administrative work such as calendaring the due date for filing opposition paper or response, notify the client, and prompt client to schedule a time with the attorney to go over the updates."
   ]
  },
  {
   "cell_type": "code",
   "execution_count": 438,
   "metadata": {
    "scrolled": false
   },
   "outputs": [
    {
     "name": "stdout",
     "output_type": "stream",
     "text": [
      "docket_texts/train/lda_model_noorgnomodel_4\n",
      "\n",
      " Topic 1's make-up:\n",
      "term                 frequency\n",
      "\n",
      "motion               0.064\n",
      "order                0.063\n",
      "notice               0.050\n",
      "amend_complaint      0.032\n",
      "request              0.032\n",
      "redaction            0.025\n",
      "calendar             0.021\n",
      "remotely_electronically_available_public 0.019\n",
      "release              0.019\n",
      "without_redaction_calendar 0.019\n",
      "\n",
      " Topic 2's make-up:\n",
      "term                 frequency\n",
      "\n",
      "order                0.082\n",
      "motion               0.054\n",
      "endorsement          0.026\n",
      "revise_schedule      0.021\n",
      "schedule             0.019\n",
      "endorsed_letter_address 0.017\n",
      "withdraw             0.017\n",
      "letter               0.016\n",
      "notice               0.016\n",
      "request              0.016\n",
      "\n",
      " Topic 3's make-up:\n",
      "term                 frequency\n",
      "\n",
      "order                0.108\n",
      "motion               0.090\n",
      "schedule             0.022\n",
      "dismiss              0.022\n",
      "send                 0.021\n",
      "letter               0.019\n",
      "request              0.017\n",
      "notice               0.016\n",
      "serve                0.013\n",
      "conference           0.013\n",
      "\n",
      " Topic 4's make-up:\n",
      "term                 frequency\n",
      "\n",
      "motion               0.067\n",
      "due                  0.060\n",
      "conference_hold      0.045\n",
      "notice_appearance    0.033\n",
      "redact_deadline      0.025\n",
      "hold                 0.025\n",
      "rule                 0.022\n",
      "discovery            0.022\n",
      "order                0.019\n",
      "complaint            0.016\n"
     ]
    },
    {
     "data": {
      "text/html": [
       "\n",
       "<link rel=\"stylesheet\" type=\"text/css\" href=\"https://cdn.rawgit.com/bmabey/pyLDAvis/files/ldavis.v1.0.0.css\">\n",
       "\n",
       "\n",
       "<div id=\"ldavis_el2506819944779838082289983471\"></div>\n",
       "<script type=\"text/javascript\">\n",
       "\n",
       "var ldavis_el2506819944779838082289983471_data = {\"topic.order\": [3, 2, 1, 4], \"mdsDat\": {\"cluster\": [1, 1, 1, 1], \"topics\": [1, 2, 3, 4], \"Freq\": [40.54885176530392, 21.39543589658291, 19.257070150396483, 18.798642187716684], \"x\": [0.018957193871991237, 0.06978915328305876, 0.07327609662468489, -0.16202244377973493], \"y\": [-0.003051789727803911, -0.0986826895160118, 0.09956756900411963, 0.0021669102396960236]}, \"R\": 30, \"tinfo\": {\"Category\": [\"Default\", \"Default\", \"Default\", \"Default\", \"Default\", \"Default\", \"Default\", \"Default\", \"Default\", \"Default\", \"Default\", \"Default\", \"Default\", \"Default\", \"Default\", \"Default\", \"Default\", \"Default\", \"Default\", \"Default\", \"Default\", \"Default\", \"Default\", \"Default\", \"Default\", \"Default\", \"Default\", \"Default\", \"Default\", \"Default\", \"Topic1\", \"Topic1\", \"Topic1\", \"Topic1\", \"Topic1\", \"Topic1\", \"Topic1\", \"Topic1\", \"Topic1\", \"Topic1\", \"Topic1\", \"Topic1\", \"Topic1\", \"Topic1\", \"Topic1\", \"Topic1\", \"Topic1\", \"Topic1\", \"Topic1\", \"Topic1\", \"Topic1\", \"Topic1\", \"Topic1\", \"Topic1\", \"Topic1\", \"Topic1\", \"Topic1\", \"Topic1\", \"Topic1\", \"Topic1\", \"Topic1\", \"Topic1\", \"Topic1\", \"Topic1\", \"Topic1\", \"Topic1\", \"Topic1\", \"Topic1\", \"Topic1\", \"Topic1\", \"Topic1\", \"Topic1\", \"Topic1\", \"Topic1\", \"Topic1\", \"Topic1\", \"Topic1\", \"Topic1\", \"Topic1\", \"Topic1\", \"Topic1\", \"Topic1\", \"Topic1\", \"Topic1\", \"Topic1\", \"Topic1\", \"Topic1\", \"Topic1\", \"Topic1\", \"Topic1\", \"Topic1\", \"Topic1\", \"Topic2\", \"Topic2\", \"Topic2\", \"Topic2\", \"Topic2\", \"Topic2\", \"Topic2\", \"Topic2\", \"Topic2\", \"Topic2\", \"Topic2\", \"Topic2\", \"Topic2\", \"Topic2\", \"Topic2\", \"Topic2\", \"Topic2\", \"Topic2\", \"Topic2\", \"Topic2\", \"Topic2\", \"Topic2\", \"Topic2\", \"Topic2\", \"Topic2\", \"Topic2\", \"Topic2\", \"Topic2\", \"Topic2\", \"Topic2\", \"Topic2\", \"Topic2\", \"Topic2\", \"Topic2\", \"Topic2\", \"Topic2\", \"Topic2\", \"Topic2\", \"Topic2\", \"Topic2\", \"Topic2\", \"Topic2\", \"Topic2\", \"Topic2\", \"Topic2\", \"Topic2\", \"Topic2\", \"Topic2\", \"Topic2\", \"Topic2\", \"Topic2\", \"Topic2\", \"Topic2\", \"Topic2\", \"Topic2\", \"Topic2\", \"Topic2\", \"Topic2\", \"Topic2\", \"Topic3\", \"Topic3\", \"Topic3\", \"Topic3\", \"Topic3\", \"Topic3\", \"Topic3\", \"Topic3\", \"Topic3\", \"Topic3\", \"Topic3\", \"Topic3\", \"Topic3\", \"Topic3\", \"Topic3\", \"Topic3\", \"Topic3\", \"Topic3\", \"Topic3\", \"Topic3\", \"Topic3\", \"Topic3\", \"Topic3\", \"Topic3\", \"Topic3\", \"Topic3\", \"Topic3\", \"Topic3\", \"Topic3\", \"Topic3\", \"Topic3\", \"Topic3\", \"Topic3\", \"Topic3\", \"Topic3\", \"Topic3\", \"Topic3\", \"Topic3\", \"Topic3\", \"Topic3\", \"Topic3\", \"Topic3\", \"Topic3\", \"Topic3\", \"Topic3\", \"Topic3\", \"Topic3\", \"Topic3\", \"Topic3\", \"Topic3\", \"Topic3\", \"Topic3\", \"Topic3\", \"Topic3\", \"Topic3\", \"Topic4\", \"Topic4\", \"Topic4\", \"Topic4\", \"Topic4\", \"Topic4\", \"Topic4\", \"Topic4\", \"Topic4\", \"Topic4\", \"Topic4\", \"Topic4\", \"Topic4\", \"Topic4\", \"Topic4\", \"Topic4\", \"Topic4\", \"Topic4\", \"Topic4\", \"Topic4\", \"Topic4\", \"Topic4\", \"Topic4\", \"Topic4\", \"Topic4\", \"Topic4\", \"Topic4\", \"Topic4\", \"Topic4\", \"Topic4\", \"Topic4\", \"Topic4\", \"Topic4\", \"Topic4\", \"Topic4\", \"Topic4\", \"Topic4\", \"Topic4\", \"Topic4\", \"Topic4\", \"Topic4\", \"Topic4\", \"Topic4\", \"Topic4\", \"Topic4\", \"Topic4\", \"Topic4\", \"Topic4\", \"Topic4\", \"Topic4\", \"Topic4\", \"Topic4\", \"Topic4\"], \"Total\": [299.0, 249.0, 151.0, 115.0, 480.0, 126.0, 99.0, 163.0, 253.0, 101.0, 1695.0, 101.0, 157.0, 93.0, 130.0, 93.0, 93.0, 136.0, 62.0, 204.0, 201.0, 79.0, 388.0, 88.0, 88.0, 306.0, 129.0, 270.0, 187.0, 63.0, 77.99158698937865, 41.09187518735157, 34.65657860233807, 201.63413397948122, 50.53316303979857, 38.92817997210196, 42.48108738330482, 16.370424546221155, 21.70416249298278, 16.67459690020461, 12.837796014358814, 16.085583152216547, 102.70878481892483, 32.74613609738408, 24.80761567503545, 23.76354310108435, 49.71989793782175, 15.346341859138512, 22.958085109506253, 55.897216278039735, 7.952423772099939, 25.611271808466373, 114.44160980551011, 31.63650751324862, 20.35400746386024, 7.729626420534312, 10.242619688718259, 25.61288919264658, 53.38188849621667, 18.51392670047425, 26.851354507041865, 33.822786658084496, 26.571583995917663, 25.202768779235868, 1695.5827115720372, 306.9153715688229, 136.81670948152149, 1601.7441200407998, 327.20973533222946, 73.69016077052059, 129.87296140555372, 71.5682225052263, 304.2650640494262, 79.24348550509625, 182.84930593738991, 147.97135933920862, 225.36813870933133, 231.89934754454464, 100.05707353262619, 388.53015992126006, 68.76601247175502, 200.1087881083152, 480.99106602064154, 148.0691854768959, 270.79537004532466, 151.29455723300535, 142.8775159810438, 210.57442068755154, 148.41569770520596, 173.53334511844707, 253.2529754175888, 157.04405448940665, 50.87382597081313, 79.7491020664756, 7.675220232916667, 9.972856900791772, 17.2037652668594, 44.79349309056234, 88.58636750269918, 21.571410002730204, 30.059701437682854, 19.622684357114082, 130.4868777475108, 11.877172626993993, 29.44023167994311, 15.579845231315993, 26.024599501749215, 23.592399981244792, 13.126387741240965, 13.953314119601213, 32.516620191157315, 14.286600746519175, 38.870431838360105, 44.237533356472646, 31.383174647685298, 60.91292525793471, 28.020494835990004, 10.579682362485526, 44.52689460388338, 34.01956204948027, 44.66127756982807, 13.279799748336925, 27.15309357722226, 204.31880074618493, 55.45190843378838, 136.26622141367804, 115.19872941798566, 57.44014843220639, 148.41569770520596, 42.77070588584556, 187.04924168434852, 114.80244452222149, 1695.5827115720372, 88.81129107849502, 52.8891801178673, 58.167852373691396, 1601.7441200407998, 306.9153715688229, 173.53334511844707, 231.89934754454464, 304.2650640494262, 210.57442068755154, 388.53015992126006, 127.81990430862479, 480.99106602064154, 148.0691854768959, 104.49233640126798, 78.91658736201754, 270.79537004532466, 200.1087881083152, 142.8775159810438, 99.02218374809962, 115.03498624719818, 39.430590235508596, 18.61300513746989, 10.151384315591628, 17.429848924477607, 93.43252797759439, 7.186125684847671, 101.28504614664598, 101.55703935035218, 93.33124572681717, 93.3764271083282, 15.715445305341559, 7.922225591373879, 5.262136336949829, 26.516106095033333, 14.596785571053665, 9.570640574537363, 5.863115159903872, 5.865459613534779, 16.042190138287687, 12.125998627043552, 18.893195947583227, 18.04127711546896, 11.805667893005555, 17.43678589029221, 10.425084316504442, 8.571859550925451, 22.039098683371535, 22.643233292219993, 253.2529754175888, 15.852591341082574, 480.99106602064154, 88.81129107849502, 36.49602094715562, 388.53015992126006, 62.77118146421419, 200.1087881083152, 136.26622141367804, 225.36813870933133, 1601.7441200407998, 1695.5827115720372, 127.81990430862479, 66.89859268582049, 173.53334511844707, 270.79537004532466, 187.04924168434852, 86.81326479337308, 327.20973533222946, 182.84930593738991, 147.97135933920862, 68.2630634207958, 231.89934754454464, 151.29455723300535, 304.2650640494262, 62.62309301553533, 151.41632062579401, 7.890081302958167, 8.504201407433937, 18.97864837558201, 126.12112810054732, 299.92838869399986, 16.43787750692875, 34.32465378233762, 27.431342572436453, 24.982841342892954, 17.14535047923082, 18.281497238868674, 9.292029569936856, 34.985099541246456, 15.181402191266962, 249.6497409511254, 12.487676966434549, 7.743302217510391, 39.66407258159934, 11.630693133633029, 21.79107814559199, 19.20678975255572, 12.040253507757077, 34.586368381659106, 38.22035015242073, 17.810955663578955, 163.64860854186983, 63.50344883303178, 27.616168336556118, 157.04405448940665, 31.993876813963098, 33.53347043858761, 95.72163753361063, 55.23024849905569, 270.79537004532466, 151.29455723300535, 1601.7441200407998, 210.57442068755154, 129.87296140555372, 142.8775159810438, 131.3802604967639, 46.19869955480759, 327.20973533222946, 39.83989278983343, 148.0691854768959, 1695.5827115720372, 480.99106602064154, 253.2529754175888, 187.04924168434852, 304.2650640494262, 182.84930593738991, 204.31880074618493], \"loglift\": [30.0, 29.0, 28.0, 27.0, 26.0, 25.0, 24.0, 23.0, 22.0, 21.0, 20.0, 19.0, 18.0, 17.0, 16.0, 15.0, 14.0, 13.0, 12.0, 11.0, 10.0, 9.0, 8.0, 7.0, 6.0, 5.0, 4.0, 3.0, 2.0, 1.0, 0.8712, 0.8644, 0.8278, 0.8226, 0.8209, 0.8206, 0.8137, 0.8113, 0.8063, 0.8029, 0.7942, 0.7875, 0.7862, 0.7822, 0.782, 0.7782, 0.777, 0.7754, 0.7714, 0.7522, 0.7505, 0.75, 0.7442, 0.741, 0.7395, 0.7314, 0.7287, 0.7177, 0.7099, 0.6993, 0.6854, 0.6718, 0.6798, 0.6789, 0.3359, 0.4598, 0.5096, 0.208, 0.3856, 0.5575, 0.4705, 0.5563, 0.2998, 0.5271, 0.3688, 0.3909, 0.2282, 0.2171, 0.3943, -0.0126, 0.4808, 0.1014, -0.3236, 0.1067, -0.2985, 0.0238, -0.0196, -0.3828, -0.1215, -0.265, -0.6101, -0.1808, 1.3915, 1.3883, 1.3751, 1.3408, 1.3229, 1.3116, 1.3056, 1.2832, 1.2734, 1.2708, 1.2704, 1.269, 1.2496, 1.2458, 1.2416, 1.2147, 1.2048, 1.1975, 1.1883, 1.1843, 1.179, 1.1753, 1.1738, 1.1646, 1.1274, 1.1241, 1.1101, 1.1005, 1.0935, 1.0861, 1.0855, 1.0118, 1.0594, 0.9844, 0.9686, 1.0104, 0.7983, 1.0195, 0.6788, 0.7763, 0.0652, 0.8212, 0.9447, 0.9123, -0.2968, 0.2882, 0.4824, 0.3301, 0.1751, 0.2894, -0.0924, 0.4596, -0.2838, 0.3219, 0.4477, 0.6486, -0.4132, -0.1544, 0.129, 1.5471, 1.545, 1.5351, 1.5214, 1.5054, 1.5053, 1.5022, 1.4918, 1.4238, 1.4162, 1.3999, 1.3981, 1.3916, 1.3866, 1.3619, 1.3181, 1.298, 1.2922, 1.2893, 1.2614, 1.2543, 1.2484, 1.2357, 1.2265, 1.192, 1.1729, 1.1468, 1.1442, 1.1425, 1.1234, 1.0355, 1.1139, 0.8299, 0.9443, 1.0173, 0.6065, 0.8644, 0.5599, 0.6126, 0.4665, -0.1309, -0.2031, 0.5805, 0.7814, 0.416, 0.1393, 0.2846, 0.5657, -0.0808, 0.1869, 0.1697, 0.6163, -0.2114, -0.0271, -0.6184, 1.6327, 1.5561, 1.5466, 1.5459, 1.501, 1.4895, 1.4785, 1.4579, 1.4517, 1.451, 1.4288, 1.4147, 1.4084, 1.3987, 1.3972, 1.3947, 1.3876, 1.3769, 1.3451, 1.3301, 1.3195, 1.3089, 1.2844, 1.2627, 1.2535, 1.2178, 1.2177, 1.2175, 1.2095, 1.1997, 1.1415, 1.1947, 1.1781, 0.9977, 0.9738, 0.5815, 0.6605, -0.0842, 0.531, 0.5526, 0.4471, 0.4341, 0.9257, -0.1039, 0.9843, 0.1634, -1.3839, -0.5923, -0.2894, -0.1004, -0.692, -0.3182, -0.4575], \"Freq\": [299.0, 249.0, 151.0, 115.0, 480.0, 126.0, 99.0, 163.0, 253.0, 101.0, 1695.0, 101.0, 157.0, 93.0, 130.0, 93.0, 93.0, 136.0, 62.0, 204.0, 201.0, 79.0, 388.0, 88.0, 88.0, 306.0, 129.0, 270.0, 187.0, 63.0, 75.57283938647423, 39.54881583527061, 32.15709548082935, 186.1219674029711, 46.5668356943043, 35.86199386911733, 38.86358511403695, 14.941198857887139, 19.710352568083877, 15.091589001590723, 11.517748306918074, 14.33515083774787, 91.41447845601846, 29.02880734678433, 21.988446798811665, 20.98262376577306, 43.84675249300219, 13.51182451420052, 20.134437431102242, 48.09003844023947, 6.830016868319658, 21.985002583315918, 97.67498681823082, 26.913332404653257, 17.289546572803214, 6.512667911341849, 8.606881725750222, 21.286804671011474, 44.02214382121907, 15.10766512135644, 21.608302153374684, 26.848946958499166, 21.263710365300383, 20.148731236821483, 961.9601286489446, 197.0993278485709, 92.35279984793064, 799.6567694900114, 195.0996316947261, 52.17966130481653, 84.30441354682233, 50.61554318878479, 166.50893105029604, 54.431082069185436, 107.21160638618426, 88.6952298385797, 114.80372029139531, 116.82840413523822, 60.180256261312344, 155.57907129821203, 45.09766913940189, 89.8001358304791, 141.1104430964689, 66.80019207400565, 81.46938614109732, 62.82545113147363, 56.80923916818572, 58.22596811308717, 53.29619749274197, 53.98477070158752, 55.79404886551673, 53.14624228764378, 43.76491377271419, 68.39079055952783, 6.495703426044824, 8.1551473846085, 13.819373671064193, 35.57508875835515, 69.93792561940218, 16.65330058035776, 22.980152600613014, 14.962288931261774, 99.44774560007941, 9.039323698523244, 21.97703233980717, 11.58593888957251, 19.271834348192584, 17.007010979748085, 9.36885675783415, 9.887517719915735, 22.828967270826375, 9.990590460620403, 27.036672311131596, 30.656989909393175, 21.716288200238335, 41.76327845873668, 18.510653994260945, 6.9660036830765195, 28.910262258705988, 21.878140873493475, 28.519869036279122, 8.418064318978095, 17.201536089467762, 120.24433746733975, 34.22438486464279, 78.02392532939226, 64.92889254205578, 33.755694348957064, 70.55169332078125, 25.364458322121827, 78.89920397465605, 53.38574900135203, 387.23148229079663, 43.19338165305329, 29.104200215406653, 30.988851862954853, 254.69374679488794, 87.6016267198276, 60.147718653474705, 69.01846151858841, 77.55599942715291, 60.176537350534616, 75.78763474954131, 43.30522115795783, 77.48596171181072, 43.70967318979883, 34.98167204351928, 32.29741000059745, 38.32868305664858, 36.68994117146132, 34.77784231114388, 89.5856102669286, 103.8510516657118, 35.24537467314163, 16.412037405964323, 8.808282288666113, 15.121880340897283, 80.81112245421448, 6.151525854521266, 81.00059868278703, 80.59975810082764, 72.87810881071215, 72.78367831331516, 12.169137795144954, 6.104286450009348, 3.955770548637022, 19.077768464258813, 10.293638045207603, 6.709788886594873, 4.098623838915678, 3.987609143165589, 10.829125103079747, 8.137372810997029, 12.517913232641813, 11.844379151898151, 7.487972852740038, 10.85076772595355, 6.32021773106014, 5.1831222523211204, 13.303174359143599, 13.40947275556715, 137.36564357414653, 9.29976829995213, 212.3883232475187, 43.972450046843605, 19.43747120298616, 137.21517947722498, 28.690370323240234, 67.45244099368374, 48.41984488647408, 69.19627381334746, 270.5960642941896, 266.510186344172, 43.98429329708096, 28.143871172302738, 50.65828622604035, 59.94376118610813, 47.87839972327524, 29.43566491697301, 58.117625073336406, 42.44962418690382, 33.76437287872537, 24.346616740556975, 36.14734683057885, 28.35660599836939, 31.56936862144821, 60.24422941575202, 134.93034490561158, 6.964733186153941, 7.501108060256295, 16.004907889821375, 105.15028799816943, 247.31829229876612, 13.277734383770763, 27.55395931032047, 22.005552947966002, 19.601818060855596, 13.263686983724245, 14.054477164198392, 7.074215802049212, 26.595319302075684, 11.512519518055404, 187.96924656477262, 9.302561753162577, 5.587719832878623, 28.19465934960557, 8.180251006629991, 15.165877233997346, 13.04364281151218, 8.000682018669808, 22.772037613306562, 24.28286604705927, 11.31463164245662, 103.93859459318395, 40.0113726929095, 17.230905677094718, 92.45203124398462, 19.86296399199788, 20.47697445243475, 48.79909891870771, 27.492668564519697, 91.05353966147065, 55.05745000338577, 276.7975394617109, 67.31892164555204, 42.42730220547995, 42.00118137523705, 38.12310953264483, 21.917663096465635, 55.44149504463013, 20.041107546626858, 32.7751839678299, 79.88091428812425, 50.006337964843226, 35.64653606103833, 31.80529448978425, 28.630764950529016, 25.004529929572403, 24.30853924670578], \"logprob\": [30.0, 29.0, 28.0, 27.0, 26.0, 25.0, 24.0, 23.0, 22.0, 21.0, 20.0, 19.0, 18.0, 17.0, 16.0, 15.0, 14.0, 13.0, 12.0, 11.0, 10.0, 9.0, 8.0, 7.0, 6.0, 5.0, 4.0, 3.0, 2.0, 1.0, -4.770599842071533, -5.418099880218506, -5.625, -3.86929988861084, -5.254799842834473, -5.515999794006348, -5.4355998039245605, -6.391600131988525, -6.114500045776367, -6.381499767303467, -6.651800155639648, -6.433000087738037, -4.5802998542785645, -5.727399826049805, -6.005199909210205, -6.052000045776367, -5.315000057220459, -6.492099761962891, -6.093200206756592, -5.222599983215332, -7.1743998527526855, -6.005300045013428, -4.513999938964844, -5.803100109100342, -6.24560022354126, -7.22189998626709, -6.9430999755859375, -6.037600040435791, -5.310999870300293, -6.380499839782715, -6.022600173950195, -5.805500030517578, -6.038700103759766, -6.09250020980835, -2.2267000675201416, -3.812000036239624, -4.570099830627441, -2.4114999771118164, -3.822200059890747, -5.140999794006348, -4.661200046539307, -5.17140007019043, -3.980600118637085, -5.098700046539307, -4.420899868011475, -4.610499858856201, -4.352499961853027, -4.335000038146973, -4.998300075531006, -4.048500061035156, -5.286799907684326, -4.598100185394287, -4.146100044250488, -4.894000053405762, -4.695499897003174, -4.9552998542785645, -5.056000232696533, -5.031300067901611, -5.119800090789795, -5.10699987411499, -5.073999881744385, -5.122600078582764, -4.677499771118164, -4.231100082397461, -6.58519983291626, -6.357699871063232, -5.8302998542785645, -4.884699821472168, -4.208700180053711, -5.643700122833252, -5.321700096130371, -5.750800132751465, -3.8566999435424805, -6.254799842834473, -5.366399765014648, -6.0065999031066895, -5.497700214385986, -5.622700214385986, -6.218999862670898, -6.16510009765625, -5.3282999992370605, -6.154699802398682, -5.159200191497803, -5.0335001945495605, -5.378300189971924, -4.724299907684326, -5.538000106811523, -6.5152997970581055, -5.092199802398682, -5.3709001541137695, -5.1057000160217285, -6.326000213623047, -5.611400127410889, -3.666800022125244, -4.923399925231934, -4.099299907684326, -4.283100128173828, -4.93720006942749, -4.199999809265137, -5.2230000495910645, -4.088200092315674, -4.478799819946289, -2.497299909591675, -4.690700054168701, -5.0854997634887695, -5.02269983291626, -2.916300058364868, -3.983599901199341, -4.359499931335449, -4.2220001220703125, -4.105400085449219, -4.359099864959717, -4.128399848937988, -4.6880998611450195, -4.106299877166748, -4.678800106048584, -4.901500225067139, -4.981400012969971, -4.810200214385986, -4.853799819946289, -4.907400131225586, -3.8559000492095947, -3.7081000804901123, -4.788700103759766, -5.552999973297119, -6.1753997802734375, -5.634900093078613, -3.958899974822998, -6.53439998626709, -3.9565999507904053, -3.9616000652313232, -4.062300205230713, -4.063600063323975, -5.852099895477295, -6.542099952697754, -6.975900173187256, -5.402500152587891, -6.019499778747559, -6.447500228881836, -6.940400123596191, -6.967899799346924, -5.968800067901611, -6.2546000480651855, -5.82390022277832, -5.879199981689453, -6.337800025939941, -5.966800212860107, -6.507299900054932, -6.705599784851074, -5.763000011444092, -5.755099773406982, -3.4284000396728516, -6.121099948883057, -2.9925999641418457, -4.567500114440918, -5.383800029754639, -3.429500102996826, -4.994500160217285, -4.139599800109863, -4.471099853515625, -4.114099979400635, -2.7504000663757324, -2.7655999660491943, -4.567200183868408, -5.013700008392334, -4.425899982452393, -4.257599830627441, -4.482399940490723, -4.968800067901611, -4.288599967956543, -4.602700233459473, -4.831600189208984, -5.158699989318848, -4.763400077819824, -5.006199836730957, -4.898900032043457, -4.228600025177002, -3.4221999645233154, -6.386099815368652, -6.3119001388549805, -5.554100036621094, -3.671600103378296, -2.8162999153137207, -5.740900039672852, -5.010799884796143, -5.2357001304626465, -5.35129976272583, -5.7418999671936035, -5.684000015258789, -6.370500087738037, -5.046199798583984, -5.883500099182129, -3.0906999111175537, -6.096700191497803, -6.606400012969971, -4.987800121307373, -6.225200176239014, -5.607900142669678, -5.758699893951416, -6.247399806976318, -5.201399803161621, -5.137199878692627, -5.900899887084961, -3.683199882507324, -4.637800216674805, -5.480299949645996, -3.800299882888794, -5.338099956512451, -5.307700157165527, -4.439199924468994, -5.013000011444092, -3.815500020980835, -4.318600177764893, -2.703700065612793, -4.117499828338623, -4.57919979095459, -4.589300155639648, -4.686100006103516, -5.239699840545654, -4.311600208282471, -5.32919979095459, -4.837299823760986, -3.9463999271392822, -4.41480016708374, -4.753300189971924, -4.867300033569336, -4.972499847412109, -5.107900142669678, -5.136099815368652], \"Term\": [\"due\", \"conference_hold\", \"notice_appearance\", \"redaction\", \"notice\", \"redact_deadline\", \"calendar\", \"hold\", \"amend_complaint\", \"remotely_electronically_available_public\", \"order\", \"without_redaction_calendar\", \"rule\", \"release\", \"revise_schedule\", \"deadline_release\", \"view_public_terminal_purchase\", \"withdraw\", \"minute_entry_hold_telephone\", \"endorsement\", \"send\", \"report\", \"request\", \"comply_discovery_ruling_conference\", \"official_conference\", \"schedule\", \"minute_entry_hold\", \"discovery\", \"endorsed_letter_address\", \"appear_pro_hac_vice\", \"discovery_hear_hold\", \"official\", \"a.m\", \"send\", \"service_accept\", \"objection\", \"section\", \"undersigned\", \"fax\", \"compel\", \"answer_due_purs\", \"officer\", \"memorandum_law_opposition\", \"ordered\", \"error\", \"individual_rule\", \"affidavit_service\", \"pro_hac_vice\", \"via\", \"service\", \"oral_argument_pm\", \"contain\", \"deny\", \"discovery_complete\", \"notice_change_address\", \"new_york_new_jersey\", \"attached\", \"list\", \"notice_appeal\", \"andor\", \"office\", \"limine\", \"stipulate_agree\", \"confer\", \"order\", \"schedule\", \"memorandum_law_support\", \"motion\", \"dismiss\", \"address\", \"minute_entry_hold\", \"judgment\", \"letter\", \"brief\", \"stipulation\", \"issue\", \"conference\", \"serve\", \"declaration_support\", \"request\", \"production\", \"grant\", \"notice\", \"deposition\", \"discovery\", \"answer\", \"reply\", \"complaint\", \"support\", \"abovecaptioned\", \"amend_complaint\", \"rule\", \"affidavit_service_summons\", \"report\", \"completion\", \"merrill\", \"mediation\", \"testimony\", \"comply_discovery_ruling_conference\", \"effect\", \"relevant\", \"new\", \"revise_schedule\", \"jr\", \"pm\", \"determine\", \"plan\", \"hearing\", \"deficiency\", \"judgment_favor\", \"indicate\", \"defense\", \"upon\", \"disclosure\", \"third\", \"approve\", \"confidentiality\", \"civil_cover_sheet\", \"need\", \"call\", \"use\", \"newvest_portfolio_newvest\", \"could\", \"endorsement\", \"serve_answer_due\", \"withdraw\", \"terminate\", \"disclose\", \"support\", \"provision\", \"endorsed_letter_address\", \"propose\", \"order\", \"official_conference\", \"status_conference\", \"reply_memorandum_law\", \"motion\", \"schedule\", \"abovecaptioned\", \"serve\", \"letter\", \"complaint\", \"request\", \"official_notice_give\", \"notice\", \"deposition\", \"response\", \"produce\", \"discovery\", \"grant\", \"reply\", \"calendar\", \"redaction\", \"endorsement_application_grant\", \"longer_assigned\", \"correction\", \"notice_reassignment\", \"release\", \"alternative_investment_sgr_spa\", \"remotely_electronically_available_public\", \"without_redaction_calendar\", \"deadline_release\", \"view_public_terminal_purchase\", \"stipulate\", \"stillwater_market_neutral_balentine\", \"rule_deposition_objection\", \"period\", \"l.p..\", \"thk\", \"nonecf_error\", \"service_execute\", \"light\", \"appearance\", \"correct\", \"dismiss_thirdparty\", \"summons_issue\", \"consider\", \"net_settlement\", \"pro_se\", \"jury_demand\", \"however\", \"amend_complaint\", \"limited\", \"notice\", \"official_conference\", \"memo_endorsement\", \"request\", \"extend\", \"grant\", \"withdraw\", \"conference\", \"motion\", \"order\", \"official_notice_give\", \"amend\", \"abovecaptioned\", \"discovery\", \"endorsed_letter_address\", \"leave\", \"dismiss\", \"stipulation\", \"issue\", \"respond\", \"serve\", \"answer\", \"letter\", \"minute_entry_hold_telephone\", \"notice_appearance\", \"jury_trial_hold\", \"notice_termination\", \"electronic_filing\", \"redact_deadline\", \"due\", \"supplemental_amend\", \"answer_due_answer_due\", \"summary\", \"setreset_deadline\", \"status_conference_hold\", \"unredacted\", \"rule_rule_..\", \"proceed\", \"demand\", \"conference_hold\", \"pretrial_conference_hold\", \"ambassador\", \"continue\", \"assignment\", \"limit\", \"comply\", \"memoendorsement_letter_address\", \"answer_due\", \"adjourn\", \"entirety\", \"hold\", \"appear_pro_hac_vice\", \"redact\", \"rule\", \"establish\", \"counterclaim\", \"opposition\", \"declaration\", \"discovery\", \"answer\", \"motion\", \"complaint\", \"minute_entry_hold\", \"reply\", \"summary_judgment\", \"respectfully_request\", \"dismiss\", \"work\", \"deposition\", \"order\", \"notice\", \"amend_complaint\", \"endorsed_letter_address\", \"letter\", \"stipulation\", \"endorsement\"]}, \"token.table\": {\"Freq\": [0.9233456183652575, 0.028854550573914298, 0.028854550573914298, 0.31117938724192584, 0.3457548747132509, 0.2938916435062633, 0.05186323120698764, 0.7056573015484906, 0.013570332722086357, 0.23069565627546806, 0.05428133088834543, 0.340132938294827, 0.6279377322366037, 0.8849575687992183, 0.02011267201816405, 0.060338016054492155, 0.060338016054492155, 0.07862589305343073, 0.8648848235877381, 0.019656473263357684, 0.03931294652671537, 0.834942257223711, 0.12914386806944464, 0.12914386806944464, 0.7748632084166678, 0.4484399266945814, 0.029895995112972095, 0.4185439315816093, 0.10463598289540232, 0.22112277223065832, 0.09476690238456785, 0.5409610677785748, 0.14215035357685177, 0.8102008959350455, 0.05401339306233637, 0.05401339306233637, 0.05401339306233637, 0.4164062551369585, 0.0330481154870602, 0.1850694467275371, 0.3635292703576622, 0.31804437744418457, 0.028913125222198598, 0.6650018801105677, 0.05826715726493756, 0.11653431452987512, 0.8157402017091259, 0.9347398873278749, 0.07789499061065625, 0.07789499061065625, 0.33069070083445135, 0.01574717623021197, 0.01574717623021197, 0.6298870492084787, 0.164934869408576, 0.659739477634304, 0.164934869408576, 0.14775189275329756, 0.689508832848722, 0.09850126183553172, 0.06566750789035447, 0.1719587970399206, 0.0859793985199603, 0.6878351881596824, 0.8786814578220703, 0.09763127309134115, 0.681444028563423, 0.16405134020971293, 0.12619333862285612, 0.012619333862285611, 0.030296241573823848, 0.040394988765098463, 0.9088872472147155, 0.020197494382549232, 0.029394852248407394, 0.6466867494649626, 0.05878970449681479, 0.26455367023566656, 0.1890415923158332, 0.6616455731054163, 0.0945207961579166, 0.8995719710511226, 0.05997146473674151, 0.2754370631087234, 0.28493489287109314, 0.11872287202962215, 0.31817729703938735, 0.7817365258481886, 0.1302894209746981, 0.10412984292358764, 0.15619476438538146, 0.05206492146179382, 0.6768439790033197, 0.0903073489242715, 0.7901893030873756, 0.10159576753980544, 0.011288418615533938, 0.7935636030783118, 0.07935636030783118, 0.07935636030783118, 0.5102762114405236, 0.11536679563003141, 0.30616572686431415, 0.06655776670963351, 0.11215713620741002, 0.04406173208148251, 0.08812346416296502, 0.7530550573926101, 0.07137632692450405, 0.6780751057827885, 0.21412898077351214, 0.03568816346225202, 0.05735001887915261, 0.28675009439576304, 0.6308502076706787, 0.05735001887915261, 0.858996779407394, 0.11713592446464464, 0.039045308154881546, 0.05042346561577807, 0.05042346561577807, 0.17648212965522322, 0.7059285186208929, 0.052929107535557934, 0.1587873226066738, 0.6880783979622531, 0.10585821507111587, 0.8865785906831245, 0.33145394554783886, 0.6260796749236955, 0.03682821617198209, 0.2683885646874034, 0.11928380652773485, 0.5964190326386742, 0.18214693126200643, 0.02142905073670664, 0.7821603518897924, 0.01071452536835332, 0.4164384666926358, 0.03621204058196833, 0.03621204058196833, 0.4888625478565724, 0.5996577541360477, 0.029982887706802384, 0.23986310165441907, 0.11993155082720953, 0.13999131322314617, 0.699956566115731, 0.06999565661157309, 0.06999565661157309, 0.6856417909798193, 0.22854726365993977, 0.19761020505245144, 0.7904408202098058, 0.8563318898305249, 0.034952322033898975, 0.09611888559322218, 0.008738080508474744, 0.4524911769063145, 0.2971583848339976, 0.03376799827659063, 0.2228687886254982, 0.12837097996197905, 0.7702258797718743, 0.12837097996197905, 0.08704712881968331, 0.5919204759738464, 0.08704712881968331, 0.24373196069511327, 0.0226052386768912, 0.7007623989836271, 0.2034471480920208, 0.0904209547075648, 0.29911885120651266, 0.14032736229441334, 0.2215695194122316, 0.33604710444188457, 0.8534443945398537, 0.12643620659849683, 0.03160905164962421, 0.9744640791877992, 0.012821895778786832, 0.012821895778786832, 0.012821895778786832, 0.5959480386548051, 0.05806673197149382, 0.17725633970245483, 0.16808790833853474, 0.11085689705886502, 0.6651413823531902, 0.22171379411773004, 0.11002626374813773, 0.05668019647631338, 0.010002387613467067, 0.8235299135087885, 0.09271531159747408, 0.7880801485785297, 0.09271531159747408, 0.04635765579873704, 0.05269079126238532, 0.05269079126238532, 0.8430526601981652, 0.14969320243089188, 0.4223486782871592, 0.2566169184529575, 0.17107794563530498, 0.22024404918028692, 0.5873174644807652, 0.07341468306009565, 0.11746349289615303, 0.050722040630244776, 0.025361020315122388, 0.8876357110292836, 0.025361020315122388, 0.28072609322274256, 0.05614521864454851, 0.05614521864454851, 0.6175974050900336, 0.8868244448876711, 0.040310202040348686, 0.040310202040348686, 0.12502392327316453, 0.0937679424548734, 0.15627990409145567, 0.6251196163658227, 0.33454842668481694, 0.047792632383545273, 0.46199544637427103, 0.15930877461181758, 0.9214822274974326, 0.04607411137487163, 0.44975535982599957, 0.18489942570624426, 0.33481787898157744, 0.029983690655066637, 0.16954612515809636, 0.7205710319219095, 0.08477306257904818, 0.04238653128952409, 0.28109007714679596, 0.048885230808138426, 0.04277457695712112, 0.6355080005057995, 0.13248991260584558, 0.1766532168077941, 0.5741229546253309, 0.08832660840389706, 0.12301401487869806, 0.7073305855525139, 0.09226051115902355, 0.06150700743934903, 0.8837066051417961, 0.0841625338230282, 0.0420812669115141, 0.6014677461736156, 0.1554354849662153, 0.22977419516744868, 0.02027419369124547, 0.7577560992542229, 0.1683902442787162, 0.7126067717592917, 0.06986340899600899, 0.13972681799201797, 0.06986340899600899, 0.21500268497400818, 0.7166756165800273, 0.07166756165800273, 0.0907478127274323, 0.22686953181858077, 0.58986078272831, 0.0907478127274323, 0.8871898439595982, 0.20552470168152548, 0.06850823389384182, 0.6850823389384182, 0.06850823389384182, 0.4837970337824006, 0.02303795398963812, 0.3340503328497528, 0.16126567792746685, 0.5488635394988094, 0.25635542563417446, 0.10517145667043054, 0.09531163260757768, 0.12467125640324048, 0.12467125640324048, 0.6856919102178226, 0.06233562820162024, 0.7982783994986504, 0.11826346659239266, 0.029565866648098165, 0.05913173329619633, 0.18356136274097756, 0.09178068137048878, 0.6883551102786659, 0.37848701646971616, 0.5677305247045742, 0.06308116941161936, 0.8198996935507403, 0.039042842550035255, 0.07808568510007051, 0.039042842550035255, 0.053725875677479794, 0.053725875677479794, 0.8596140108396767, 0.053725875677479794, 0.11625362058692551, 0.8137753441084786, 0.058126810293462755, 0.21920197852756584, 0.02740024731594573, 0.5206046990029689, 0.24660222584351157, 0.16610945929929766, 0.08305472964964883, 0.08305472964964883, 0.6644378371971906, 0.8860001621130328, 0.009736265517725636, 0.029208796553176906, 0.07789012414180509, 0.6724324853933543, 0.021927146262826772, 0.16810812134833858, 0.13156287757696064, 0.10027216974512161, 0.8021773579609729, 0.6467858982416946, 0.015399664243849871, 0.007699832121924936, 0.3233929491208473, 0.01596855012817593, 0.01596855012817593, 0.9581130076905559, 0.4994555559720877, 0.15920145846610295, 0.1691905695855447, 0.17293648625533536, 0.06737501069159127, 0.6512917700187155, 0.04491667379439418, 0.247041705869168, 0.19184497115612828, 0.5755349134683848, 0.09592248557806414, 0.10192285436599363, 0.7644214077449523, 0.10192285436599363, 0.9056065091844534, 0.12937235845492193, 0.1506046806353738, 0.6024187225414952, 0.1506046806353738, 0.17055779610789623, 0.6822311844315849, 0.2931447379397875, 0.16008613348484851, 0.4407566272569855, 0.10395203473042111, 0.8242495954993876, 0.056198836056776426, 0.056198836056776426, 0.056198836056776426, 0.04623015518452334, 0.04623015518452334, 0.019812923650510003, 0.8915815642729502, 0.8352163587531606, 0.04913037404430356, 0.04913037404430356, 0.04913037404430356, 0.0573728438113798, 0.0573728438113798, 0.860592657170697, 0.0573728438113798, 0.9407114926754686, 0.9247799415693092, 0.05137666342051717, 0.025688331710258586, 0.8193255202165097, 0.037242069100750445, 0.037242069100750445, 0.14896827640300178, 0.8703445729955299, 0.06216746949968071, 0.973428440966168, 0.0243357110241542, 0.011259829553836342, 0.4841726708149627, 0.49543250036879904, 0.011259829553836342, 0.3051167985999535, 0.3364108292255898, 0.34423433688199884, 0.007823507656409065, 0.20893917525154562, 0.18804525772639108, 0.10446958762577281, 0.5119009793662868, 0.8802347813202063, 0.5673565750786019, 0.2282401190804771, 0.15746798913304233, 0.047181419964956506, 0.8856006679309153, 0.030537954066583287, 0.030537954066583287, 0.06107590813316657, 0.150851711999645, 0.03771292799991125, 0.7165456319983138, 0.0754258559998225, 0.03842518306315477, 0.7300784781999407, 0.03842518306315477, 0.15370073225261907, 0.16983561998957958, 0.7472767279541501, 0.03396712399791591, 0.06793424799583182, 0.24023683572722596, 0.7207105071816778, 0.9122695251092178, 0.0651621089363727, 0.23332160170357344, 0.11666080085178672, 0.5833040042589336, 0.05716719478365513, 0.0857507921754827, 0.0857507921754827, 0.7717571295793443, 0.4308346462579572, 0.405491431772195, 0.15205928691457313, 0.6543930407260901, 0.07271033785845445, 0.04362620271507267, 0.23267308114705426, 0.39197771604323, 0.4616626433398042, 0.02613184773621533, 0.12194862276900488, 0.25718537424560756, 0.5845122141945627, 0.14028293140669504, 0.023380488567782506, 0.03621067151000374, 0.03621067151000374, 0.2896853720800299, 0.6155814156700635, 0.03171554251252088, 0.055502199396911533, 0.0792888562813022, 0.8325329909536731, 0.0521580450933999, 0.017386015031133302, 0.9040727816189317, 0.02607902254669995, 0.032108731990205974, 0.04281164265360797, 0.8669357637355614, 0.05351455331700996, 0.06653426030016384, 0.7651439934518841, 0.13306852060032767, 0.03326713015008192, 0.17771626399753646, 0.009873125777640913, 0.7997231879889141, 0.009873125777640913, 0.39894310597870725, 0.2449650650746448, 0.06299101673348009, 0.29395807808957375, 0.2922576527458128, 0.5329404255953056, 0.12034138642474643, 0.0515748798963199, 0.10031460910157367, 0.8526741773633761, 0.03761797841309012, 0.012539326137696708, 0.40151323138367206, 0.19560901016127613, 0.352610978843353, 0.05147605530559898, 0.4329126185959651, 0.06493689278939477, 0.04329126185959651, 0.4762038804555616, 0.5859684285398524, 0.014649210713496312, 0.35158105712391147, 0.04394763214048893, 0.3253827139000351, 0.33495279372062436, 0.13398111748824973, 0.21054175605296388, 0.02299081755795348, 0.7586969794124647, 0.16093572290567434, 0.05364524096855811, 0.3374849189440349, 0.02547055992030452, 0.04457347986053291, 0.585822878167004, 0.7601475415816725, 0.21523823024312555, 0.7533338058509395, 0.6418707508620975, 0.28672399023281514, 0.02932404445562882, 0.042356953102574965, 0.9180555960845557, 0.02353988707909117, 0.04707977415818234, 0.02353988707909117, 0.9224628604744464, 0.019837910977945083, 0.039675821955890166, 0.019837910977945083, 0.5045292332162596, 0.29754288112753774, 0.1552397640665414, 0.04312215668515039, 0.23443737766974201, 0.613143910828556, 0.09016822218067001, 0.05410093330840201, 0.8587189702120764, 0.07155991418433971, 0.035779957092169856, 0.035779957092169856, 0.9300822899802265, 0.039577969786392615, 0.019788984893196308, 0.019788984893196308, 0.6819584932048364, 0.1704896233012091, 0.16010989082864702, 0.040027472707161754, 0.8005494541432351, 0.37814917825212224, 0.5483163084655772, 0.01890745891260611, 0.05672237673781833, 0.17497455089262118, 0.05832485029754039, 0.758223053868025, 0.12622715529444792, 0.7573629317666875, 0.06363166811824973, 0.06363166811824973, 0.7635800174189968, 0.12726333623649946, 0.7903179578314317, 0.18817094234081705, 0.5851813297920762, 0.04375187512464121, 0.22969734440436634, 0.1367246097645038, 0.10936395081932514, 0.036454650273108374, 0.07290930054621675, 0.8020023060083843, 0.365351688438632, 0.182675844219316, 0.15984136369190152, 0.28923675334725035, 0.25411522898906846, 0.08470507632968949, 0.5929355343078264, 0.08470507632968949, 0.06083510474989784, 0.12167020949979568, 0.7908563617486719, 0.357105082679815, 0.47838605415597857, 0.10106747623013632, 0.06064048573808179, 0.31250344671231606, 0.5642423343416818, 0.09548716427320769, 0.03472260519025734, 0.2009220397659997, 0.8036881590639988, 0.19118524710636745, 0.7010125727233474, 0.09559262355318372, 0.20897242816964512, 0.10448621408482256, 0.7314034985937579, 0.9162865604155944, 0.06108577069437296, 0.06108577069437296, 0.05470011492679489, 0.16410034478038468, 0.7658016089751285, 0.1800854703418011, 0.69461538560409, 0.05145299152622888, 0.07717948728934333, 0.2910798953226193, 0.6493320741812276, 0.02239076117866302, 0.04478152235732604, 0.8711527945211163, 0.08711527945211163, 0.18205879713386225, 0.0214186820157485, 0.7817818935748203, 0.0214186820157485, 0.0513700308658985, 0.572408915362869, 0.352251640223304, 0.014677151675971, 0.18708698206978708, 0.0098466832668309, 0.7975813446133028, 0.0098466832668309, 0.1757032840657217, 0.1757032840657217, 0.15060281491347574, 0.5020093830449192], \"Topic\": [1, 3, 4, 1, 2, 3, 4, 1, 2, 3, 4, 1, 4, 1, 2, 3, 4, 1, 2, 3, 4, 3, 2, 3, 4, 1, 2, 3, 4, 1, 2, 3, 4, 1, 2, 3, 4, 1, 2, 3, 4, 1, 2, 4, 1, 3, 4, 1, 2, 4, 1, 2, 3, 4, 1, 3, 4, 1, 2, 3, 4, 2, 3, 4, 1, 3, 1, 2, 3, 4, 1, 2, 3, 4, 1, 2, 3, 4, 1, 2, 3, 1, 2, 1, 2, 3, 4, 2, 3, 1, 2, 3, 4, 1, 2, 3, 4, 1, 2, 3, 1, 2, 3, 4, 1, 2, 3, 4, 1, 2, 3, 4, 1, 2, 3, 4, 1, 2, 3, 1, 2, 3, 4, 1, 2, 3, 4, 3, 1, 2, 3, 1, 2, 4, 1, 2, 3, 4, 1, 2, 3, 4, 1, 2, 3, 4, 1, 2, 3, 4, 2, 3, 1, 4, 1, 2, 3, 4, 1, 2, 3, 4, 1, 2, 3, 1, 2, 3, 4, 1, 2, 3, 4, 1, 2, 3, 4, 1, 2, 4, 1, 2, 3, 4, 1, 2, 3, 4, 1, 3, 4, 1, 2, 3, 4, 1, 2, 3, 4, 1, 3, 4, 1, 2, 3, 4, 1, 2, 3, 4, 1, 2, 3, 4, 1, 2, 3, 4, 1, 3, 4, 1, 2, 3, 4, 1, 2, 3, 4, 1, 2, 1, 2, 3, 4, 1, 2, 3, 4, 1, 2, 3, 4, 1, 2, 3, 4, 1, 2, 3, 4, 1, 2, 4, 1, 2, 3, 4, 2, 4, 1, 2, 3, 4, 1, 2, 3, 1, 2, 3, 4, 4, 1, 2, 3, 4, 1, 2, 3, 4, 1, 2, 3, 4, 1, 2, 3, 4, 1, 2, 3, 4, 1, 3, 4, 1, 3, 4, 1, 2, 3, 4, 1, 2, 3, 4, 1, 2, 3, 1, 2, 3, 4, 1, 2, 3, 4, 1, 2, 3, 4, 1, 2, 3, 4, 1, 2, 1, 2, 3, 4, 1, 2, 4, 1, 2, 3, 4, 1, 2, 3, 4, 2, 3, 4, 1, 2, 3, 1, 3, 1, 2, 4, 2, 3, 1, 2, 3, 4, 1, 2, 3, 4, 1, 2, 3, 4, 1, 2, 3, 4, 1, 2, 3, 4, 4, 1, 2, 3, 1, 2, 3, 4, 1, 3, 1, 3, 1, 2, 3, 4, 1, 2, 3, 4, 1, 2, 3, 4, 1, 1, 2, 3, 4, 1, 2, 3, 4, 1, 2, 3, 4, 1, 2, 3, 4, 1, 2, 3, 4, 1, 4, 1, 3, 1, 2, 3, 1, 2, 3, 4, 1, 2, 3, 1, 2, 3, 4, 1, 2, 3, 4, 1, 2, 3, 4, 1, 2, 3, 4, 1, 2, 3, 4, 1, 2, 3, 4, 1, 2, 3, 4, 1, 2, 3, 4, 1, 2, 3, 4, 1, 2, 3, 4, 1, 2, 3, 4, 1, 2, 3, 4, 1, 2, 3, 4, 1, 2, 3, 4, 1, 2, 3, 4, 1, 2, 3, 4, 1, 2, 3, 4, 1, 2, 3, 4, 3, 1, 4, 1, 2, 3, 4, 1, 2, 3, 4, 1, 2, 3, 4, 1, 2, 3, 4, 1, 2, 3, 4, 1, 2, 3, 4, 1, 2, 3, 4, 3, 4, 1, 2, 4, 1, 2, 3, 4, 1, 2, 4, 1, 3, 1, 2, 3, 4, 1, 3, 1, 2, 3, 4, 1, 2, 3, 4, 1, 2, 3, 4, 1, 2, 3, 4, 1, 3, 4, 1, 2, 3, 4, 1, 2, 3, 4, 1, 2, 1, 2, 3, 1, 2, 3, 1, 2, 3, 2, 3, 4, 1, 2, 3, 4, 1, 2, 3, 4, 1, 4, 1, 2, 3, 4, 1, 2, 3, 4, 1, 2, 3, 4, 1, 2, 3, 4], \"Term\": [\"a.m\", \"a.m\", \"a.m\", \"abovecaptioned\", \"abovecaptioned\", \"abovecaptioned\", \"abovecaptioned\", \"address\", \"address\", \"address\", \"address\", \"adjourn\", \"adjourn\", \"affidavit_service\", \"affidavit_service\", \"affidavit_service\", \"affidavit_service\", \"affidavit_service_summons\", \"affidavit_service_summons\", \"affidavit_service_summons\", \"affidavit_service_summons\", \"alternative_investment_sgr_spa\", \"ambassador\", \"ambassador\", \"ambassador\", \"amend\", \"amend\", \"amend\", \"amend\", \"amend_complaint\", \"amend_complaint\", \"amend_complaint\", \"amend_complaint\", \"andor\", \"andor\", \"andor\", \"andor\", \"answer\", \"answer\", \"answer\", \"answer\", \"answer_due\", \"answer_due\", \"answer_due\", \"answer_due_answer_due\", \"answer_due_answer_due\", \"answer_due_answer_due\", \"answer_due_purs\", \"answer_due_purs\", \"answer_due_purs\", \"appear_pro_hac_vice\", \"appear_pro_hac_vice\", \"appear_pro_hac_vice\", \"appear_pro_hac_vice\", \"appearance\", \"appearance\", \"appearance\", \"approve\", \"approve\", \"approve\", \"approve\", \"assignment\", \"assignment\", \"assignment\", \"attached\", \"attached\", \"brief\", \"brief\", \"brief\", \"brief\", \"calendar\", \"calendar\", \"calendar\", \"calendar\", \"call\", \"call\", \"call\", \"call\", \"civil_cover_sheet\", \"civil_cover_sheet\", \"civil_cover_sheet\", \"compel\", \"compel\", \"complaint\", \"complaint\", \"complaint\", \"complaint\", \"completion\", \"completion\", \"comply\", \"comply\", \"comply\", \"comply\", \"comply_discovery_ruling_conference\", \"comply_discovery_ruling_conference\", \"comply_discovery_ruling_conference\", \"comply_discovery_ruling_conference\", \"confer\", \"confer\", \"confer\", \"conference\", \"conference\", \"conference\", \"conference\", \"conference_hold\", \"conference_hold\", \"conference_hold\", \"conference_hold\", \"confidentiality\", \"confidentiality\", \"confidentiality\", \"confidentiality\", \"consider\", \"consider\", \"consider\", \"consider\", \"contain\", \"contain\", \"contain\", \"continue\", \"continue\", \"continue\", \"continue\", \"correct\", \"correct\", \"correct\", \"correct\", \"correction\", \"could\", \"could\", \"could\", \"counterclaim\", \"counterclaim\", \"counterclaim\", \"deadline_release\", \"deadline_release\", \"deadline_release\", \"deadline_release\", \"declaration\", \"declaration\", \"declaration\", \"declaration\", \"declaration_support\", \"declaration_support\", \"declaration_support\", \"declaration_support\", \"defense\", \"defense\", \"defense\", \"defense\", \"deficiency\", \"deficiency\", \"demand\", \"demand\", \"deny\", \"deny\", \"deny\", \"deny\", \"deposition\", \"deposition\", \"deposition\", \"deposition\", \"determine\", \"determine\", \"determine\", \"disclose\", \"disclose\", \"disclose\", \"disclose\", \"disclosure\", \"disclosure\", \"disclosure\", \"disclosure\", \"discovery\", \"discovery\", \"discovery\", \"discovery\", \"discovery_complete\", \"discovery_complete\", \"discovery_complete\", \"discovery_hear_hold\", \"discovery_hear_hold\", \"discovery_hear_hold\", \"discovery_hear_hold\", \"dismiss\", \"dismiss\", \"dismiss\", \"dismiss\", \"dismiss_thirdparty\", \"dismiss_thirdparty\", \"dismiss_thirdparty\", \"due\", \"due\", \"due\", \"due\", \"effect\", \"effect\", \"effect\", \"effect\", \"electronic_filing\", \"electronic_filing\", \"electronic_filing\", \"endorsed_letter_address\", \"endorsed_letter_address\", \"endorsed_letter_address\", \"endorsed_letter_address\", \"endorsement\", \"endorsement\", \"endorsement\", \"endorsement\", \"endorsement_application_grant\", \"endorsement_application_grant\", \"endorsement_application_grant\", \"endorsement_application_grant\", \"entirety\", \"entirety\", \"entirety\", \"entirety\", \"error\", \"error\", \"error\", \"establish\", \"establish\", \"establish\", \"establish\", \"extend\", \"extend\", \"extend\", \"extend\", \"fax\", \"fax\", \"grant\", \"grant\", \"grant\", \"grant\", \"hearing\", \"hearing\", \"hearing\", \"hearing\", \"hold\", \"hold\", \"hold\", \"hold\", \"however\", \"however\", \"however\", \"however\", \"indicate\", \"indicate\", \"indicate\", \"indicate\", \"individual_rule\", \"individual_rule\", \"individual_rule\", \"issue\", \"issue\", \"issue\", \"issue\", \"jr\", \"jr\", \"judgment\", \"judgment\", \"judgment\", \"judgment\", \"judgment_favor\", \"judgment_favor\", \"judgment_favor\", \"jury_demand\", \"jury_demand\", \"jury_demand\", \"jury_demand\", \"jury_trial_hold\", \"l.p..\", \"l.p..\", \"l.p..\", \"l.p..\", \"leave\", \"leave\", \"leave\", \"leave\", \"letter\", \"letter\", \"letter\", \"letter\", \"light\", \"light\", \"light\", \"light\", \"limine\", \"limine\", \"limine\", \"limine\", \"limit\", \"limit\", \"limit\", \"limited\", \"limited\", \"limited\", \"list\", \"list\", \"list\", \"list\", \"longer_assigned\", \"longer_assigned\", \"longer_assigned\", \"longer_assigned\", \"mediation\", \"mediation\", \"mediation\", \"memo_endorsement\", \"memo_endorsement\", \"memo_endorsement\", \"memo_endorsement\", \"memoendorsement_letter_address\", \"memoendorsement_letter_address\", \"memoendorsement_letter_address\", \"memoendorsement_letter_address\", \"memorandum_law_opposition\", \"memorandum_law_opposition\", \"memorandum_law_opposition\", \"memorandum_law_opposition\", \"memorandum_law_support\", \"memorandum_law_support\", \"memorandum_law_support\", \"memorandum_law_support\", \"merrill\", \"merrill\", \"minute_entry_hold\", \"minute_entry_hold\", \"minute_entry_hold\", \"minute_entry_hold\", \"minute_entry_hold_telephone\", \"minute_entry_hold_telephone\", \"minute_entry_hold_telephone\", \"motion\", \"motion\", \"motion\", \"motion\", \"need\", \"need\", \"need\", \"need\", \"net_settlement\", \"net_settlement\", \"net_settlement\", \"new\", \"new\", \"new\", \"new_york_new_jersey\", \"new_york_new_jersey\", \"newvest_portfolio_newvest\", \"newvest_portfolio_newvest\", \"newvest_portfolio_newvest\", \"nonecf_error\", \"nonecf_error\", \"notice\", \"notice\", \"notice\", \"notice\", \"notice_appeal\", \"notice_appeal\", \"notice_appeal\", \"notice_appeal\", \"notice_appearance\", \"notice_appearance\", \"notice_appearance\", \"notice_appearance\", \"notice_change_address\", \"notice_change_address\", \"notice_change_address\", \"notice_change_address\", \"notice_reassignment\", \"notice_reassignment\", \"notice_reassignment\", \"notice_reassignment\", \"notice_termination\", \"objection\", \"objection\", \"objection\", \"office\", \"office\", \"office\", \"office\", \"officer\", \"officer\", \"official\", \"official\", \"official_conference\", \"official_conference\", \"official_conference\", \"official_conference\", \"official_notice_give\", \"official_notice_give\", \"official_notice_give\", \"official_notice_give\", \"opposition\", \"opposition\", \"opposition\", \"opposition\", \"oral_argument_pm\", \"order\", \"order\", \"order\", \"order\", \"ordered\", \"ordered\", \"ordered\", \"ordered\", \"period\", \"period\", \"period\", \"period\", \"plan\", \"plan\", \"plan\", \"plan\", \"pm\", \"pm\", \"pm\", \"pm\", \"pretrial_conference_hold\", \"pretrial_conference_hold\", \"pro_hac_vice\", \"pro_hac_vice\", \"pro_se\", \"pro_se\", \"pro_se\", \"proceed\", \"proceed\", \"proceed\", \"proceed\", \"produce\", \"produce\", \"produce\", \"production\", \"production\", \"production\", \"production\", \"propose\", \"propose\", \"propose\", \"propose\", \"provision\", \"provision\", \"provision\", \"provision\", \"redact\", \"redact\", \"redact\", \"redact\", \"redact_deadline\", \"redact_deadline\", \"redact_deadline\", \"redact_deadline\", \"redaction\", \"redaction\", \"redaction\", \"redaction\", \"release\", \"release\", \"release\", \"release\", \"relevant\", \"relevant\", \"relevant\", \"relevant\", \"remotely_electronically_available_public\", \"remotely_electronically_available_public\", \"remotely_electronically_available_public\", \"remotely_electronically_available_public\", \"reply\", \"reply\", \"reply\", \"reply\", \"reply_memorandum_law\", \"reply_memorandum_law\", \"reply_memorandum_law\", \"reply_memorandum_law\", \"report\", \"report\", \"report\", \"report\", \"request\", \"request\", \"request\", \"request\", \"respectfully_request\", \"respectfully_request\", \"respectfully_request\", \"respectfully_request\", \"respond\", \"respond\", \"respond\", \"respond\", \"response\", \"response\", \"response\", \"response\", \"revise_schedule\", \"revise_schedule\", \"revise_schedule\", \"revise_schedule\", \"rule\", \"rule\", \"rule\", \"rule\", \"rule_deposition_objection\", \"rule_rule_..\", \"rule_rule_..\", \"schedule\", \"schedule\", \"schedule\", \"schedule\", \"section\", \"section\", \"section\", \"section\", \"send\", \"send\", \"send\", \"send\", \"serve\", \"serve\", \"serve\", \"serve\", \"serve_answer_due\", \"serve_answer_due\", \"serve_answer_due\", \"serve_answer_due\", \"service\", \"service\", \"service\", \"service\", \"service_accept\", \"service_accept\", \"service_accept\", \"service_accept\", \"service_execute\", \"service_execute\", \"setreset_deadline\", \"setreset_deadline\", \"setreset_deadline\", \"status_conference\", \"status_conference\", \"status_conference\", \"status_conference\", \"status_conference_hold\", \"status_conference_hold\", \"status_conference_hold\", \"stillwater_market_neutral_balentine\", \"stillwater_market_neutral_balentine\", \"stipulate\", \"stipulate\", \"stipulate\", \"stipulate\", \"stipulate_agree\", \"stipulate_agree\", \"stipulation\", \"stipulation\", \"stipulation\", \"stipulation\", \"summary\", \"summary\", \"summary\", \"summary\", \"summary_judgment\", \"summary_judgment\", \"summary_judgment\", \"summary_judgment\", \"summons_issue\", \"summons_issue\", \"summons_issue\", \"summons_issue\", \"supplemental_amend\", \"supplemental_amend\", \"supplemental_amend\", \"support\", \"support\", \"support\", \"support\", \"terminate\", \"terminate\", \"terminate\", \"terminate\", \"testimony\", \"testimony\", \"third\", \"third\", \"third\", \"thk\", \"thk\", \"thk\", \"undersigned\", \"undersigned\", \"undersigned\", \"unredacted\", \"unredacted\", \"unredacted\", \"upon\", \"upon\", \"upon\", \"upon\", \"use\", \"use\", \"use\", \"use\", \"via\", \"via\", \"view_public_terminal_purchase\", \"view_public_terminal_purchase\", \"view_public_terminal_purchase\", \"view_public_terminal_purchase\", \"withdraw\", \"withdraw\", \"withdraw\", \"withdraw\", \"without_redaction_calendar\", \"without_redaction_calendar\", \"without_redaction_calendar\", \"without_redaction_calendar\", \"work\", \"work\", \"work\", \"work\"]}, \"lambda.step\": 0.01, \"plot.opts\": {\"ylab\": \"PC2\", \"xlab\": \"PC1\"}};\n",
       "\n",
       "function LDAvis_load_lib(url, callback){\n",
       "  var s = document.createElement('script');\n",
       "  s.src = url;\n",
       "  s.async = true;\n",
       "  s.onreadystatechange = s.onload = callback;\n",
       "  s.onerror = function(){console.warn(\"failed to load library \" + url);};\n",
       "  document.getElementsByTagName(\"head\")[0].appendChild(s);\n",
       "}\n",
       "\n",
       "if(typeof(LDAvis) !== \"undefined\"){\n",
       "   // already loaded: just create the visualization\n",
       "   !function(LDAvis){\n",
       "       new LDAvis(\"#\" + \"ldavis_el2506819944779838082289983471\", ldavis_el2506819944779838082289983471_data);\n",
       "   }(LDAvis);\n",
       "}else if(typeof define === \"function\" && define.amd){\n",
       "   // require.js is available: use it to load d3/LDAvis\n",
       "   require.config({paths: {d3: \"https://cdnjs.cloudflare.com/ajax/libs/d3/3.5.5/d3.min\"}});\n",
       "   require([\"d3\"], function(d3){\n",
       "      window.d3 = d3;\n",
       "      LDAvis_load_lib(\"https://cdn.rawgit.com/bmabey/pyLDAvis/files/ldavis.v1.0.0.js\", function(){\n",
       "        new LDAvis(\"#\" + \"ldavis_el2506819944779838082289983471\", ldavis_el2506819944779838082289983471_data);\n",
       "      });\n",
       "    });\n",
       "}else{\n",
       "    // require.js not available: dynamically load d3 & LDAvis\n",
       "    LDAvis_load_lib(\"https://cdnjs.cloudflare.com/ajax/libs/d3/3.5.5/d3.min.js\", function(){\n",
       "         LDAvis_load_lib(\"https://cdn.rawgit.com/bmabey/pyLDAvis/files/ldavis.v1.0.0.js\", function(){\n",
       "                 new LDAvis(\"#\" + \"ldavis_el2506819944779838082289983471\", ldavis_el2506819944779838082289983471_data);\n",
       "            })\n",
       "         });\n",
       "}\n",
       "</script>"
      ],
      "text/plain": [
       "<IPython.core.display.HTML object>"
      ]
     },
     "execution_count": 438,
     "metadata": {},
     "output_type": "execute_result"
    }
   ],
   "source": [
    "num_topics = 4\n",
    "pretrained_model_file_path = 'docket_texts/train/lda_model_noorgnomodel_' + str(num_topics)\n",
    "print(pretrained_model_file_path)\n",
    "column_name = str(num_topics) + '-topic Model Classificaiton'\n",
    "\n",
    "#according to Chris' feedback on 2018-5-10\n",
    "topic_names = {0: 'motion to dismiss',\n",
    "               1: 'motion for summary judgment',\n",
    "               2: 'Complaint and motion',\n",
    "               3: 'Amended Complaint and motion'}\n",
    "'''\n",
    "for i in range(num_topics):\n",
    "    topic_names[i] = 'Topic ' + str(i)\n",
    "'''\n",
    "\n",
    "LDAvis_prepared, model = topic_modeling_pipeline(num_topics, pretrained_model_file_path, trigram_bow_corpus, trigram_dictionary, export = True)\n",
    "topic_summary = []\n",
    "\n",
    "for docket_text in list(new_df['Apply Trigram Phrase Model']):\n",
    "    #print(docket_text)\n",
    "    topic_summary.append(lda_description(docket_text, model, trigram_dictionary, topic_names))\n",
    "\n",
    "new_df[column_name] = topic_summary\n",
    "pyLDAvis.display(LDAvis_prepared)"
   ]
  },
  {
   "cell_type": "markdown",
   "metadata": {},
   "source": [
    "### 5 Topics:"
   ]
  },
  {
   "cell_type": "code",
   "execution_count": 435,
   "metadata": {
    "scrolled": false
   },
   "outputs": [
    {
     "name": "stdout",
     "output_type": "stream",
     "text": [
      "\n",
      " Topic 1's make-up:\n",
      "term                 frequency\n",
      "\n",
      "motion               0.186\n",
      "order                0.083\n",
      "notice               0.034\n",
      "dismiss              0.025\n",
      "summary_judgment     0.022\n",
      "support              0.021\n",
      "memorandum_law_support 0.019\n",
      "grant                0.017\n",
      "stipulation          0.016\n",
      "declaration_support  0.015\n",
      "\n",
      " Topic 2's make-up:\n",
      "term                 frequency\n",
      "\n",
      "order                0.090\n",
      "motion               0.083\n",
      "dismiss              0.044\n",
      "amend_complaint      0.042\n",
      "serve_answer_due     0.018\n",
      "serve                0.015\n",
      "amend                0.015\n",
      "schedule             0.015\n",
      "stipulation          0.014\n",
      "declaration          0.013\n",
      "\n",
      " Topic 3's make-up:\n",
      "term                 frequency\n",
      "\n",
      "motion               0.054\n",
      "order                0.047\n",
      "request              0.038\n",
      "complaint            0.029\n",
      "letter               0.028\n",
      "notice_appearance    0.024\n",
      "notice               0.022\n",
      "affidavit_service_summons 0.017\n",
      "propose              0.016\n",
      "letter_address       0.015\n",
      "\n",
      " Topic 4's make-up:\n",
      "term                 frequency\n",
      "\n",
      "order                0.065\n",
      "letter               0.034\n",
      "request              0.032\n",
      "motion               0.026\n",
      "complaint            0.024\n",
      "conference           0.022\n",
      "due                  0.020\n",
      "answer               0.019\n",
      "grant                0.017\n",
      "settlement           0.017\n",
      "\n",
      " Topic 5's make-up:\n",
      "term                 frequency\n",
      "\n",
      "order                0.106\n",
      "motion               0.033\n",
      "service_accept       0.026\n",
      "notice               0.023\n",
      "rule                 0.022\n",
      "minute_entry_hold    0.019\n",
      "abovecaptioned       0.013\n",
      "declaration_support  0.012\n",
      "release              0.012\n",
      "issue                0.012\n"
     ]
    },
    {
     "data": {
      "text/html": [
       "\n",
       "<link rel=\"stylesheet\" type=\"text/css\" href=\"https://cdn.rawgit.com/bmabey/pyLDAvis/files/ldavis.v1.0.0.css\">\n",
       "\n",
       "\n",
       "<div id=\"ldavis_el2506819944435172889770522098\"></div>\n",
       "<script type=\"text/javascript\">\n",
       "\n",
       "var ldavis_el2506819944435172889770522098_data = {\"topic.order\": [1, 4, 2, 3, 5], \"mdsDat\": {\"cluster\": [1, 1, 1, 1, 1], \"topics\": [1, 2, 3, 4, 5], \"Freq\": [31.911530627969853, 20.991790242754572, 17.72413504115772, 16.016990515424506, 13.355553572693351], \"x\": [-0.10386721779314505, 0.06016588802482075, -0.07988676676567649, 0.04001867728194511, 0.08356941925205574], \"y\": [0.025640844814433073, -0.07797241327699134, -0.0023702999084414707, -0.05955727994375801, 0.11425914831475761]}, \"R\": 30, \"tinfo\": {\"Category\": [\"Default\", \"Default\", \"Default\", \"Default\", \"Default\", \"Default\", \"Default\", \"Default\", \"Default\", \"Default\", \"Default\", \"Default\", \"Default\", \"Default\", \"Default\", \"Default\", \"Default\", \"Default\", \"Default\", \"Default\", \"Default\", \"Default\", \"Default\", \"Default\", \"Default\", \"Default\", \"Default\", \"Default\", \"Default\", \"Default\", \"Topic1\", \"Topic1\", \"Topic1\", \"Topic1\", \"Topic1\", \"Topic1\", \"Topic1\", \"Topic1\", \"Topic1\", \"Topic1\", \"Topic1\", \"Topic1\", \"Topic1\", \"Topic1\", \"Topic1\", \"Topic1\", \"Topic1\", \"Topic1\", \"Topic1\", \"Topic1\", \"Topic1\", \"Topic1\", \"Topic1\", \"Topic1\", \"Topic1\", \"Topic1\", \"Topic1\", \"Topic1\", \"Topic1\", \"Topic1\", \"Topic1\", \"Topic1\", \"Topic1\", \"Topic1\", \"Topic1\", \"Topic1\", \"Topic1\", \"Topic1\", \"Topic1\", \"Topic1\", \"Topic1\", \"Topic1\", \"Topic1\", \"Topic1\", \"Topic1\", \"Topic1\", \"Topic1\", \"Topic1\", \"Topic1\", \"Topic1\", \"Topic1\", \"Topic2\", \"Topic2\", \"Topic2\", \"Topic2\", \"Topic2\", \"Topic2\", \"Topic2\", \"Topic2\", \"Topic2\", \"Topic2\", \"Topic2\", \"Topic2\", \"Topic2\", \"Topic2\", \"Topic2\", \"Topic2\", \"Topic2\", \"Topic2\", \"Topic2\", \"Topic2\", \"Topic2\", \"Topic2\", \"Topic2\", \"Topic2\", \"Topic2\", \"Topic2\", \"Topic2\", \"Topic2\", \"Topic2\", \"Topic2\", \"Topic2\", \"Topic2\", \"Topic2\", \"Topic2\", \"Topic2\", \"Topic2\", \"Topic2\", \"Topic2\", \"Topic2\", \"Topic2\", \"Topic2\", \"Topic2\", \"Topic2\", \"Topic2\", \"Topic2\", \"Topic2\", \"Topic2\", \"Topic2\", \"Topic2\", \"Topic2\", \"Topic2\", \"Topic2\", \"Topic2\", \"Topic2\", \"Topic2\", \"Topic2\", \"Topic2\", \"Topic2\", \"Topic3\", \"Topic3\", \"Topic3\", \"Topic3\", \"Topic3\", \"Topic3\", \"Topic3\", \"Topic3\", \"Topic3\", \"Topic3\", \"Topic3\", \"Topic3\", \"Topic3\", \"Topic3\", \"Topic3\", \"Topic3\", \"Topic3\", \"Topic3\", \"Topic3\", \"Topic3\", \"Topic3\", \"Topic3\", \"Topic3\", \"Topic3\", \"Topic3\", \"Topic3\", \"Topic3\", \"Topic3\", \"Topic3\", \"Topic3\", \"Topic3\", \"Topic3\", \"Topic3\", \"Topic3\", \"Topic3\", \"Topic3\", \"Topic3\", \"Topic3\", \"Topic3\", \"Topic3\", \"Topic3\", \"Topic3\", \"Topic3\", \"Topic3\", \"Topic3\", \"Topic3\", \"Topic3\", \"Topic3\", \"Topic3\", \"Topic3\", \"Topic3\", \"Topic3\", \"Topic3\", \"Topic3\", \"Topic3\", \"Topic3\", \"Topic4\", \"Topic4\", \"Topic4\", \"Topic4\", \"Topic4\", \"Topic4\", \"Topic4\", \"Topic4\", \"Topic4\", \"Topic4\", \"Topic4\", \"Topic4\", \"Topic4\", \"Topic4\", \"Topic4\", \"Topic4\", \"Topic4\", \"Topic4\", \"Topic4\", \"Topic4\", \"Topic4\", \"Topic4\", \"Topic4\", \"Topic4\", \"Topic4\", \"Topic4\", \"Topic4\", \"Topic4\", \"Topic4\", \"Topic4\", \"Topic4\", \"Topic4\", \"Topic4\", \"Topic4\", \"Topic4\", \"Topic4\", \"Topic4\", \"Topic4\", \"Topic4\", \"Topic4\", \"Topic4\", \"Topic4\", \"Topic4\", \"Topic4\", \"Topic4\", \"Topic4\", \"Topic4\", \"Topic4\", \"Topic4\", \"Topic4\", \"Topic4\", \"Topic4\", \"Topic4\", \"Topic4\", \"Topic4\", \"Topic4\", \"Topic5\", \"Topic5\", \"Topic5\", \"Topic5\", \"Topic5\", \"Topic5\", \"Topic5\", \"Topic5\", \"Topic5\", \"Topic5\", \"Topic5\", \"Topic5\", \"Topic5\", \"Topic5\", \"Topic5\", \"Topic5\", \"Topic5\", \"Topic5\", \"Topic5\", \"Topic5\", \"Topic5\", \"Topic5\", \"Topic5\", \"Topic5\", \"Topic5\", \"Topic5\", \"Topic5\", \"Topic5\", \"Topic5\", \"Topic5\", \"Topic5\", \"Topic5\", \"Topic5\", \"Topic5\", \"Topic5\", \"Topic5\", \"Topic5\", \"Topic5\", \"Topic5\", \"Topic5\", \"Topic5\", \"Topic5\", \"Topic5\", \"Topic5\", \"Topic5\", \"Topic5\", \"Topic5\", \"Topic5\", \"Topic5\", \"Topic5\"], \"Total\": [2041.0, 329.0, 1708.0, 78.0, 274.0, 416.0, 336.0, 105.0, 73.0, 68.0, 84.0, 322.0, 150.0, 175.0, 103.0, 189.0, 186.0, 41.0, 111.0, 60.0, 75.0, 33.0, 128.0, 86.0, 463.0, 190.0, 52.0, 98.0, 115.0, 197.0, 34.16187895749649, 15.342786714597386, 29.374916647027185, 29.376973098053977, 28.501956399749474, 62.498819383239166, 73.54275015920058, 35.93218230400087, 44.85572553551822, 189.3354478684917, 22.180213659896644, 40.50718707035545, 15.032074372462343, 21.07400731827709, 18.58110377524316, 61.69680678291464, 48.905950306108785, 35.61769837774541, 33.62113124788968, 201.69120705735455, 31.409968352579707, 150.03142915477798, 190.48779660011004, 29.03535518239799, 10.922934742245811, 17.57533236911705, 36.050282554564546, 2041.096138390015, 21.829409412149474, 17.404457247287013, 111.21082887506265, 94.95052088508254, 463.4530173740497, 180.59566679193583, 227.7417923731608, 244.10255458445835, 1708.0538584561245, 416.0394416175869, 89.94307644878958, 71.39783360591899, 82.91610929649062, 286.3077765798044, 186.8862344904885, 322.9913210204884, 205.9400767613747, 197.33429385317686, 185.70477652380958, 149.81620687060865, 81.23067606271046, 100.23138101273432, 274.5289064125313, 22.870886933455633, 19.11233896609129, 18.267370112423702, 14.439109332407513, 25.829599890192522, 19.11634861159088, 26.046784049790443, 20.895775200292796, 20.941309780526247, 14.322580536348138, 16.111484165283624, 18.342027768262838, 24.04255616636339, 111.52648802415864, 71.60152551758006, 27.15774580728231, 15.758490017962023, 15.880567620392236, 15.840837073271054, 29.572396968988034, 35.3866106903549, 27.392615172631906, 18.026220854115984, 14.49968873807496, 22.703557627124113, 29.96572666199859, 19.086932513709385, 15.216103213529113, 25.42830755547165, 12.27646392138766, 175.85123990590617, 68.93378594371462, 99.5532249148421, 336.70187193024293, 329.16570575269117, 197.33429385317686, 98.79019680952368, 205.9400767613747, 33.328236625328046, 322.9913210204884, 149.81620687060865, 115.15450365234858, 244.10255458445835, 1708.0538584561245, 97.18118462035633, 286.3077765798044, 185.70477652380958, 180.59566679193583, 171.1590893743636, 102.29321995331317, 2041.096138390015, 81.15774184858, 69.8272392727132, 227.7417923731608, 107.32585210635733, 62.502279558933445, 416.0394416175869, 463.4530173740497, 73.5140400434822, 21.70399301385001, 13.963920238468168, 14.060871958680387, 17.282711710738443, 13.161413167935594, 12.58228250683807, 11.52854578252492, 10.521256498903696, 10.580996285023186, 29.21504085663008, 75.29541626689611, 29.241998119208297, 26.343993877049662, 24.399578840301675, 86.42844820537965, 22.116722681153288, 22.337831962332, 19.74091947783296, 65.03610647522552, 70.40757905406787, 23.967239446171515, 18.377504743079168, 19.279567922668004, 10.644238104783597, 11.341806367837323, 274.5289064125313, 14.692000345677009, 12.205691158893162, 23.80243922913321, 39.133388834487235, 416.0394416175869, 100.23138101273432, 79.62198274409751, 1708.0538584561245, 171.1590893743636, 2041.096138390015, 227.7417923731608, 107.32585210635733, 286.3077765798044, 33.10674304988565, 89.94307644878958, 66.3011670341297, 81.95000596535488, 463.4530173740497, 67.79726597380778, 74.67996755198786, 190.48779660011004, 111.21082887506265, 244.10255458445835, 322.9913210204884, 186.8862344904885, 175.85123990590617, 180.59566679193583, 117.03116326998861, 336.70187193024293, 10.352356355290093, 68.47396676936799, 24.230454775538682, 11.608692904007539, 13.991987609463662, 105.78450833016558, 15.283418963121633, 16.136102607583208, 11.698768454331592, 19.99845374722507, 18.838227314815477, 12.83352681482208, 11.149316405520475, 12.952806519802749, 11.84959363270437, 32.244657530295136, 15.599966725826214, 31.41840369791344, 11.476436765418423, 18.218742899371023, 18.33277579534804, 12.69144627346221, 36.09890096172064, 37.41285865022315, 10.454906973484865, 17.238979613007245, 21.13894125061788, 62.57843528561765, 11.469750837511638, 22.794882280476095, 30.635818954206982, 103.88851113737513, 329.16570575269117, 41.93269045277383, 128.18510565104225, 50.32694643566789, 47.91700945575433, 322.9913210204884, 48.35207956511243, 336.70187193024293, 71.47844264788036, 2041.096138390015, 463.4530173740497, 1708.0538584561245, 185.70477652380958, 117.03116326998861, 286.3077765798044, 175.85123990590617, 274.5289064125313, 205.9400767613747, 55.03752177097258, 171.1590893743636, 416.0394416175869, 190.48779660011004, 79.62198274409751, 149.81620687060865, 78.37626678161529, 33.2394667175555, 18.199616800174688, 12.838147105426946, 11.75832239309912, 20.989778199808924, 20.9881030055414, 12.612495708679715, 41.978022750160314, 24.350401300211942, 33.93812595649857, 20.142988041283036, 17.2271072295632, 33.34561969902808, 84.67164505160443, 28.0024363657444, 60.91401900284497, 11.041388440511833, 11.07347445168673, 16.326679946052046, 14.953612849640857, 24.022252452349203, 13.195085637551593, 17.10258962859019, 15.652201390021268, 13.84450470017715, 52.691640166268584, 14.152606214099002, 63.82274243177815, 14.762460787638625, 25.7116406316172, 25.676436987181923, 42.53523529144909, 186.8862344904885, 62.502279558933445, 1708.0538584561245, 115.15450365234858, 52.72234132908173, 81.95000596535488, 150.03142915477798, 463.4530173740497, 103.88851113737513, 98.79019680952368, 2041.096138390015, 128.18510565104225, 92.33098950308302, 52.30189424046115, 336.70187193024293, 197.33429385317686, 117.03116326998861], \"loglift\": [30.0, 29.0, 28.0, 27.0, 26.0, 25.0, 24.0, 23.0, 22.0, 21.0, 20.0, 19.0, 18.0, 17.0, 16.0, 15.0, 14.0, 13.0, 12.0, 11.0, 10.0, 9.0, 8.0, 7.0, 6.0, 5.0, 4.0, 3.0, 2.0, 1.0, 1.113, 1.0834, 1.0192, 1.0188, 1.0065, 1.0025, 0.966, 0.9457, 0.9407, 0.936, 0.9233, 0.9085, 0.8963, 0.88, 0.8793, 0.8668, 0.8663, 0.8635, 0.8476, 0.846, 0.8063, 0.8021, 0.797, 0.7318, 0.7218, 0.705, 0.701, 0.6978, 0.6871, 0.6814, 0.6686, 0.646, 0.4833, 0.5051, 0.4581, 0.4065, 0.0626, 0.2821, 0.5607, 0.5448, 0.434, -0.0785, 0.0789, -0.2589, -0.0579, -0.0542, -0.0444, 0.071, 0.395, 0.2209, -0.7845, 1.5118, 1.3545, 1.334, 1.3182, 1.2819, 1.2784, 1.2719, 1.2632, 1.2555, 1.2472, 1.2319, 1.2041, 1.1968, 1.1958, 1.1939, 1.1764, 1.1631, 1.1534, 1.1526, 1.1499, 1.1429, 1.1338, 1.1198, 1.0997, 1.0972, 1.0947, 1.0823, 1.0692, 1.0685, 1.0546, 0.9972, 1.0031, 0.9619, 0.798, 0.7673, 0.7829, 0.8577, 0.7204, 1.0251, 0.4793, 0.6476, 0.6799, 0.4296, -0.1761, 0.6672, 0.2485, 0.3879, 0.3494, 0.3006, 0.5259, -1.2901, 0.5005, 0.5158, -0.3166, 0.1782, 0.5803, -0.9641, -1.2602, 1.6591, 1.5342, 1.5038, 1.4995, 1.4798, 1.462, 1.4412, 1.4285, 1.4236, 1.4053, 1.3725, 1.3688, 1.3668, 1.3606, 1.3278, 1.3231, 1.296, 1.2919, 1.2832, 1.2796, 1.2789, 1.2753, 1.2731, 1.2603, 1.2579, 1.2397, 1.2203, 1.1824, 1.1642, 1.1138, 1.0854, 0.8506, 0.9444, 0.9307, 0.1472, 0.6577, -0.1086, 0.3347, 0.572, 0.1077, 1.0153, 0.5239, 0.6342, 0.5109, -0.466, 0.5704, 0.4832, -0.224, 0.1111, -0.4975, -0.7745, -0.3553, -0.3472, -0.4073, 0.0142, -1.0386, 1.7254, 1.7038, 1.6657, 1.6311, 1.6216, 1.6088, 1.607, 1.5491, 1.3977, 1.3846, 1.3191, 1.309, 1.3023, 1.2995, 1.2922, 1.2893, 1.2846, 1.2749, 1.2678, 1.2672, 1.264, 1.2575, 1.2528, 1.2453, 1.2356, 1.2193, 1.2125, 1.2106, 1.2007, 1.1951, 1.1723, 1.1222, 0.9322, 1.1277, 0.9805, 1.081, 1.0555, 0.6744, 1.0358, 0.587, 0.8514, -0.5343, 0.031, -0.5071, 0.3646, 0.5123, 0.0975, -0.0336, -0.3926, -0.2302, 0.6765, -0.1735, -0.8368, -0.3342, 0.3884, -0.2371, 1.9886, 1.967, 1.946, 1.9401, 1.9265, 1.8764, 1.8763, 1.8617, 1.8616, 1.7906, 1.7515, 1.6499, 1.646, 1.6265, 1.602, 1.591, 1.5726, 1.4999, 1.4988, 1.4908, 1.479, 1.4752, 1.4599, 1.4579, 1.4259, 1.4187, 1.4186, 1.4023, 1.3531, 1.3495, 1.3351, 1.3343, 1.2294, 0.9463, 1.1293, 0.3119, 0.8412, 1.0733, 0.9219, 0.5971, 0.0932, 0.7085, 0.7135, -1.0198, 0.5082, 0.6992, 0.9693, -0.3389, -0.0426, 0.2789], \"Freq\": [2041.0, 329.0, 1708.0, 78.0, 274.0, 416.0, 336.0, 105.0, 73.0, 68.0, 84.0, 322.0, 150.0, 175.0, 103.0, 189.0, 186.0, 41.0, 111.0, 60.0, 75.0, 33.0, 128.0, 86.0, 463.0, 190.0, 52.0, 98.0, 115.0, 197.0, 33.18005985094901, 14.46637545212054, 25.97523336378455, 25.96702815355701, 24.884806345660337, 54.3518582541627, 61.660321676799704, 29.52160136168175, 36.67013344056466, 154.05890975869823, 17.820213469373982, 32.064321180725024, 11.755126954353576, 16.214113006089285, 14.2856271861225, 46.84236881480403, 37.112306370532764, 26.953406505229513, 25.040943882535032, 149.9884588737765, 22.448463433724736, 106.77189436034494, 134.8792913043861, 19.261531679074725, 7.1742971252156895, 11.351379798327413, 23.19053173256487, 1308.7023146908082, 13.847703908046439, 10.978029662149572, 69.26018279837774, 57.80974820557403, 239.80514080407553, 95.50672563733838, 114.89973837627788, 116.96820946145279, 580.2723104417857, 176.0294891354251, 50.282312523853896, 39.28742231472243, 40.83829200808841, 84.4689958001372, 64.53229557092342, 79.56391393715973, 62.019579830059875, 59.648172775408895, 56.68955238411533, 51.327387047853044, 38.47929243381735, 39.891601581871335, 39.97988193213308, 21.771054733667796, 15.545301388702818, 14.557146520228882, 11.326543490302074, 19.53888135712377, 14.410173030532269, 19.506161111123262, 15.513909556316046, 15.42733589531266, 10.464871653963336, 11.59247233498937, 12.83546766364176, 16.70340076966173, 77.40414201560885, 49.60060844486025, 18.485657866479198, 10.585426264178325, 10.564470431944784, 10.529412564900682, 19.604115493611975, 23.293513464157808, 17.868880584508613, 11.59461112389822, 9.14091832865366, 14.277779847537893, 18.797317027388925, 11.825548737175762, 9.304553951241678, 15.539248293660284, 7.3984126120285065, 100.05912273795039, 39.45786097070386, 54.683299492094314, 156.98008982211738, 148.833346139163, 90.62464327172172, 48.89506604933093, 88.84983109488999, 19.500550820618642, 109.49692968682317, 60.09753936232211, 47.71168596851576, 78.74015639073517, 300.6517967341024, 39.75558038681571, 77.05676830422622, 57.456906743529444, 53.762893717920996, 48.52931380008834, 36.33072373508717, 117.9256151873055, 28.10163345483721, 24.551252464293412, 34.83319532998895, 26.92431721674753, 23.439585223254156, 33.30244583686434, 27.590127577913858, 68.46405718928986, 17.839974432370582, 11.134808918062923, 11.164006640429651, 13.45330862399335, 10.06432104855868, 9.423861408415757, 8.525332923594057, 7.74280311031771, 7.645473739230808, 20.42845619818508, 52.45601001963693, 20.33074206146388, 18.202893727327414, 16.316360598387686, 57.52185251010818, 14.32631371676263, 14.410826943856206, 12.624458110157958, 41.442126406677374, 44.83555965862718, 15.207285454587312, 11.634198412735149, 12.050728083581934, 6.636919978589598, 6.944427123677951, 164.8555801919158, 8.495238624702127, 6.929992967595117, 12.850642225292761, 20.534667847641074, 172.63477178612422, 45.68029808926744, 35.792921136780905, 350.7618479502348, 58.56227693456853, 324.5408104652752, 56.412827276944334, 33.70357840498989, 56.51739641272562, 16.196413541760197, 26.91775548712669, 22.157551215272488, 24.209564420807784, 51.54658377419668, 21.25588924994318, 21.459139881328117, 26.987864504519347, 22.026504033081995, 26.30639193314521, 26.3876900077805, 23.21852974731967, 22.026418731266844, 21.300845121459815, 21.039852420946833, 21.122553438201514, 9.310028183643293, 60.26199707545006, 20.527604105151887, 9.500717024505876, 11.342062038275381, 84.6612923629652, 12.209977135175905, 12.165939026359142, 7.5815178564983325, 12.791002006783492, 11.284520801029414, 7.610415174583379, 6.567621607556995, 7.6089407044682495, 6.910112395164055, 18.74975233313091, 9.027716360270695, 18.008110266445932, 6.531263372282048, 10.361728025800575, 10.393905588858098, 7.1488560048122, 20.236726742094906, 20.816985676501417, 5.760975746313662, 9.345882901314965, 11.383023277307958, 33.6328634210337, 6.103603894178945, 12.062205379410738, 15.84643867031778, 51.11185541231654, 133.924411549528, 20.744303648523736, 54.732655417837314, 23.759347375466927, 22.053938173540644, 101.54729806934832, 21.819182521717792, 97.00057019446625, 26.82358329613989, 191.61058969984967, 76.56950533897688, 164.75825505652602, 42.83071296704694, 31.286894541371836, 50.553446189671696, 27.236046219346747, 29.69245930710946, 26.202170408308664, 17.339240434475382, 23.046956893324023, 28.859733038151195, 21.841760447863358, 18.805988852939077, 18.93107935484204, 76.46519635656458, 31.73830348203358, 17.016806727562287, 11.933167695674243, 10.781669769356503, 18.304559434110818, 18.302372650945046, 10.839073169356574, 36.07210290870316, 19.490245848459285, 26.122020689364383, 14.005829226152862, 11.93216798429577, 22.65175854899693, 56.122024385394916, 18.358344179791544, 39.207340021395915, 6.6080655436234155, 6.6202555947479365, 9.683084063603939, 8.764504528731196, 14.025822086128109, 7.587509175682589, 9.815194349535874, 8.699390632490584, 7.639740334323719, 29.072575142724936, 7.6827210856269605, 32.982671996982496, 7.601607020750983, 13.050630304514454, 13.022332044810794, 19.424125402869077, 64.29812081502354, 25.821836492165737, 311.60964827347567, 35.66831250820711, 20.597110969649986, 27.515601939825945, 36.40475652799171, 67.94165987888671, 28.180255468363494, 26.931773229985787, 98.31680834677648, 28.45792085905332, 24.813088051053303, 18.41314094519877, 32.04209265760932, 25.255389904925305, 20.656995185574207], \"logprob\": [30.0, 29.0, 28.0, 27.0, 26.0, 25.0, 24.0, 23.0, 22.0, 21.0, 20.0, 19.0, 18.0, 17.0, 16.0, 15.0, 14.0, 13.0, 12.0, 11.0, 10.0, 9.0, 8.0, 7.0, 6.0, 5.0, 4.0, 3.0, 2.0, 1.0, -5.3541998863220215, -6.184299945831299, -5.598999977111816, -5.599299907684326, -5.641900062561035, -4.8607001304626465, -4.734499931335449, -5.4710001945495605, -5.254199981689453, -3.8187999725341797, -5.975800037384033, -5.388400077819824, -6.391900062561035, -6.070300102233887, -6.196899890899658, -5.009399890899658, -5.242199897766113, -5.561999797821045, -5.6356000900268555, -3.845599889755249, -5.744900226593018, -4.185400009155273, -3.9518001079559326, -5.8979997634887695, -6.8856000900268555, -6.426799774169922, -5.712399959564209, -1.6792999505996704, -6.228000164031982, -6.46019983291626, -4.618299961090088, -4.798999786376953, -3.376300096511841, -4.296899795532227, -4.112100124359131, -4.094200134277344, -2.4925999641418457, -3.685499906539917, -4.938499927520752, -5.185200214385986, -5.146500110626221, -4.4197998046875, -4.689000129699707, -4.479599952697754, -4.728700160980225, -4.7677001953125, -4.818600177764893, -4.917900085449219, -5.205999851226807, -5.170000076293945, -5.167799949645996, -5.3566999435424805, -5.69350004196167, -5.759200096130371, -6.010200023651123, -5.464900016784668, -5.769400119781494, -5.466599941253662, -5.6956000328063965, -5.701200008392334, -6.089300155639648, -5.9868998527526855, -5.8850998878479, -5.621699810028076, -4.0883002281188965, -4.533299922943115, -5.520299911499023, -6.0777997970581055, -6.079800128936768, -6.083099842071533, -5.461599826812744, -5.289100170135498, -5.554200172424316, -5.986800193786621, -6.2245001792907715, -5.778600215911865, -5.503600120544434, -5.9670000076293945, -6.2067999839782715, -5.693900108337402, -6.435999870300293, -3.8315000534057617, -4.7621002197265625, -4.435699939727783, -3.381200075149536, -3.434499979019165, -3.9305999279022217, -4.547599792480469, -3.9504001140594482, -5.466899871826172, -3.7414000034332275, -4.341300010681152, -4.5721001625061035, -4.071199893951416, -2.7314000129699707, -4.7546000480651855, -4.092800140380859, -4.386300086975098, -4.452700138092041, -4.555099964141846, -4.844600200653076, -3.6672000885009766, -5.101500034332275, -5.236499786376953, -4.88670015335083, -5.1442999839782715, -5.282899856567383, -4.931700229644775, -5.119800090789795, -4.041800022125244, -5.38670015335083, -5.857999801635742, -5.855400085449219, -5.668900012969971, -5.959099769592285, -6.024899959564209, -6.125100135803223, -6.22130012512207, -6.234000205993652, -5.251200199127197, -4.30810022354126, -5.25600004196167, -5.366499900817871, -5.475900173187256, -4.21589994430542, -5.605999946594238, -5.600100040435791, -5.732500076293945, -4.543799877166748, -4.465099811553955, -5.546299934387207, -5.814199924468994, -5.7789998054504395, -6.375500202178955, -6.3302001953125, -3.1630001068115234, -6.128600120544434, -6.332200050354004, -5.714700222015381, -5.245999813079834, -3.1168999671936035, -4.446400165557861, -4.690400123596191, -2.4079999923706055, -4.197999954223633, -2.4856998920440674, -4.235400199890137, -4.750500202178955, -4.23360013961792, -5.48330020904541, -4.975299835205078, -5.169899940490723, -5.081399917602539, -4.3256001472473145, -5.21150016784668, -5.201900005340576, -4.972700119018555, -5.175899982452393, -4.998300075531006, -4.995200157165527, -5.1230998039245605, -5.175899982452393, -5.209400177001953, -5.221700191497803, -5.217800140380859, -5.935699939727783, -4.0680999755859375, -5.145100116729736, -5.915500164031982, -5.73829984664917, -3.7281999588012695, -5.664599895477295, -5.6682000160217285, -6.14109992980957, -5.618100166320801, -5.7434000968933105, -6.13730001449585, -6.2846999168396, -6.137499809265137, -6.233799934387207, -5.235599994659424, -5.9664998054504395, -5.276000022888184, -6.290200233459473, -5.828700065612793, -5.8256001472473145, -6.199900150299072, -5.159299850463867, -5.131100177764893, -6.4156999588012695, -5.9319000244140625, -5.7347002029418945, -4.651299953460693, -6.357900142669678, -5.676700115203857, -5.403900146484375, -4.232800006866455, -3.2695000171661377, -5.1346001625061035, -4.164400100708008, -4.998799800872803, -5.073299884796143, -3.546299934387207, -5.084000110626221, -3.592099905014038, -4.877500057220459, -2.911400079727173, -3.8285999298095703, -3.062299966812134, -4.409599781036377, -4.723599910736084, -4.243800163269043, -4.862299919128418, -4.775899887084961, -4.901000022888184, -5.313899993896484, -5.029300212860107, -4.8043999671936035, -5.083000183105469, -5.232600212097168, -5.22599983215332, -3.6482999324798584, -4.527599811553955, -5.150899887084961, -5.505799770355225, -5.6072998046875, -5.078000068664551, -5.078100204467773, -5.601900100708008, -4.399600028991699, -5.015200138092041, -4.722300052642822, -5.345600128173828, -5.505899906158447, -4.8649001121521, -3.9576001167297363, -5.074999809265137, -4.316199779510498, -6.096799850463867, -6.09499979019165, -5.714700222015381, -5.8144001960754395, -5.344200134277344, -5.958600044250488, -5.701200008392334, -5.821899890899658, -5.951700210571289, -4.615300178527832, -5.946100234985352, -4.489099979400635, -5.956699848175049, -5.416299819946289, -5.418399810791016, -5.018599987030029, -3.8215999603271484, -4.73390007019043, -2.2434000968933105, -4.410799980163574, -4.960000038146973, -4.670400142669678, -4.390399932861328, -3.7664999961853027, -4.646500110626221, -4.691800117492676, -3.396899938583374, -4.63670015335083, -4.77370023727417, -5.072000026702881, -4.518099784851074, -4.756100177764893, -4.957099914550781], \"Term\": [\"motion\", \"request\", \"order\", \"service_accept\", \"amend_complaint\", \"dismiss\", \"letter\", \"notice_appearance\", \"serve_answer_due\", \"affidavit_service_summons\", \"minute_entry_hold\", \"complaint\", \"declaration_support\", \"conference\", \"letter_address\", \"summary_judgment\", \"rule\", \"release\", \"settlement\", \"abovecaptioned\", \"declaration\", \"redact_deadline\", \"propose\", \"amend\", \"notice\", \"memorandum_law_support\", \"certificate_service\", \"endorsement\", \"issue\", \"due\", \"dismiss_thirdparty\", \"summary_judgment_favor\", \"without_redaction_calendar\", \"remotely_electronically_available_public\", \"l.p..\", \"appear_pro_hac_vice\", \"reply_memorandum_law\", \"dismiss..\", \"limine\", \"summary_judgment\", \"summons_issue\", \"summary_judgment..\", \"stipulate\", \"instruction\", \"thirdparty\", \"withdraw\", \"answer_due\", \"certification\", \"purs\", \"support\", \"transmit\", \"declaration_support\", \"memorandum_law_support\", \"indicate\", \"service_execute\", \"\\u00a7\", \"response_due\", \"motion\", \"limine_preclude_introduce_evidence\", \"error_deficient_entry\", \"memorandum_law_opposition\", \"hold\", \"notice\", \"reply\", \"stipulation\", \"grant\", \"order\", \"dismiss\", \"declaration_opposition\", \"trial\", \"brief\", \"schedule\", \"rule\", \"complaint\", \"answer\", \"due\", \"discovery\", \"opposition\", \"extend\", \"judgment\", \"amend_complaint\", \"answer_due_purs\", \"appearance\", \"next\", \"allege\", \"p.m\", \"give\", \"distribution\", \"aim_exploration\", \"pretrial_conference\", \"fax\", \"merrill\", \"discovery_dispute\", \"g.c\", \"settlement\", \"deadline\", \"argument\", \"deft\", \"confirm\", \"via\", \"discuss\", \"continue\", \"respectfully_request\", \"subpoena\", \"rule_certificate\", \"pretrial_conference_hold\", \"friday\", \"jury_demand\", \"connection\", \"decision\", \"could\", \"conference\", \"supplemental\", \"endorsed_letter_address\", \"letter\", \"request\", \"due\", \"endorsement\", \"answer\", \"dispute\", \"complaint\", \"opposition\", \"issue\", \"grant\", \"order\", \"extension\", \"schedule\", \"discovery\", \"reply\", \"serve\", \"leave\", \"motion\", \"memorandum\", \"move\", \"stipulation\", \"deny\", \"redaction\", \"dismiss\", \"notice\", \"serve_answer_due\", \"minute_entry_hold_telephone\", \"account_balentine_global_hedge\", \"p.\", \"wellington\", \"liability_complaint\", \"forward\", \"brooklyn\", \"nonecf_error\", \"service_accept_legal\", \"view_public_terminal_purchase\", \"declaration\", \"deadline_release\", \"select\", \"herein\", \"amend\", \"new_address\", \"place\", \"account\", \"terminate\", \"notice_appeal\", \"endorsement_application_grant\", \"memorandum_opinion\", \"oppose\", \"without_cost_either\", \"withdrawal\", \"amend_complaint\", \"admission\", \"local_civil_rule\", \"supplemental_amend\", \"answer_due_answer_due\", \"dismiss\", \"judgment\", \"address\", \"order\", \"serve\", \"motion\", \"stipulation\", \"deny\", \"schedule\", \"telephone_conference\", \"declaration_opposition\", \"appear\", \"conference_hold\", \"notice\", \"dismissal\", \"joint\", \"memorandum_law_support\", \"memorandum_law_opposition\", \"grant\", \"complaint\", \"rule\", \"conference\", \"reply\", \"response\", \"letter\", \"rule_deposition_objection\", \"affidavit_service_summons\", \"request_issuance_summons\", \"deficiency\", \"update\", \"notice_appearance\", \"alternative_investment_sgr_spa\", \"stillwater_market_neutral_balentine\", \"jury_trial_hold\", \"york\", \"memoendorsement_letter_address\", \"conference_pm\", \"notice_reassignment\", \"cancel\", \"new_jersey\", \"status\", \"except\", \"associate\", \"final\", \"need\", \"report_recommendation\", \"courtroom_pearl_street_new\", \"ordered\", \"courtroom\", \"united_state_courthouse_pearl\", \"discovery_complete\", \"initial\", \"report\", \"dismissal_without_prejudice\", \"disclose\", \"note\", \"letter_address\", \"request\", \"memo_endorsement\", \"propose\", \"counterclaim\", \"produce\", \"complaint\", \"loan\", \"letter\", \"service\", \"motion\", \"notice\", \"order\", \"discovery\", \"response\", \"schedule\", \"conference\", \"amend_complaint\", \"answer\", \"respond\", \"serve\", \"dismiss\", \"memorandum_law_support\", \"address\", \"opposition\", \"service_accept\", \"redact_deadline\", \"responsible_courtesy_individual_practice\", \"conference_call\", \"oral_argument_pm\", \"magnum_growth_magnum_special\", \"hedge_strategy_ibex_absolute\", \"ambassador\", \"release\", \"official_conference\", \"protective\", \"rule_federal_rule\", \"status_conference_hold\", \"official_notice_give\", \"minute_entry_hold\", \"error\", \"abovecaptioned\", \"line\", \"conclude\", \"longer_assigned\", \"bond\", \"name\", \"notice_termination\", \"jr\", \"usca_number\", \"dec\", \"certificate_service\", \"confidential\", \"send\", \"dated\", \"mediation\", \"agent\", \"calendar\", \"rule\", \"redaction\", \"order\", \"issue\", \"within\", \"conference_hold\", \"declaration_support\", \"notice\", \"letter_address\", \"endorsement\", \"motion\", \"propose\", \"deposition\", \"show_cause\", \"letter\", \"due\", \"response\"]}, \"token.table\": {\"Freq\": [0.18058240418328414, 0.08208291099240188, 0.049249746595441124, 0.049249746595441124, 0.6402467057407346, 0.15196860528045283, 0.6585306228819622, 0.15196860528045283, 0.7877444021555577, 0.14322625493737412, 0.10047476493660981, 0.16327149302199095, 0.45213644221474414, 0.23862756672444832, 0.03767803685122868, 0.06806425105307333, 0.13612850210614666, 0.5445140084245866, 0.13612850210614666, 0.06806425105307333, 0.10222863272369184, 0.87624542334593, 0.0778924272475356, 0.1168386408713034, 0.0389462136237678, 0.2726234953663746, 0.5063007771089814, 0.19142625538697178, 0.7657050215478871, 0.047856563846742944, 0.0692563493342054, 0.7618198426762594, 0.0692563493342054, 0.13086077171776364, 0.06543038585888182, 0.7851646303065819, 0.07928644917689179, 0.8721509409458097, 0.1504134375883753, 0.06942158657925014, 0.6710753369327513, 0.08099185100912516, 0.023140528859750046, 0.145704146505769, 0.08013728057817295, 0.601029604336297, 0.10927810987932673, 0.06556686592759604, 0.3010584485303468, 0.43216454708388496, 0.10197140998608521, 0.1262503171256293, 0.038846251423270556, 0.7565541568748204, 0.06134222893579625, 0.08178963858106167, 0.020447409645265417, 0.08178963858106167, 0.025553626450023313, 0.4344116496503963, 0.5366261554504895, 0.9619215933343759, 0.33181919691813433, 0.31673650614912824, 0.33181919691813433, 0.8640163211544062, 0.11200211570520081, 0.10464443957112513, 0.837155516569001, 0.05232221978556256, 0.18410953675909497, 0.6627943323327419, 0.073643814703638, 0.036821907351819, 0.06365695785278945, 0.1273139157055789, 0.06365695785278945, 0.5729126206751051, 0.1591423946319736, 0.06687347131793753, 0.2006204139538126, 0.13374694263587505, 0.6018612418614379, 0.4944756857005024, 0.19296612124897655, 0.06030191289030517, 0.20502650382703758, 0.04824153031224414, 0.08674120907042843, 0.7806708816338558, 0.08674120907042843, 0.11754960248227793, 0.399668648439745, 0.023509920496455585, 0.44668848943265616, 0.3860167286800592, 0.6176267658880947, 0.20876176876046135, 0.24671845398963616, 0.5503719358230345, 0.7580501051373407, 0.11230371927960603, 0.056151859639803015, 0.056151859639803015, 0.2476846738396582, 0.3374703681065343, 0.08049751899788891, 0.3157979591455642, 0.018576350537974365, 0.27091767927843413, 0.09030589309281138, 0.6321412516496797, 0.14785224155321272, 0.5686624675123566, 0.12510574285271847, 0.1535388662283363, 0.9347143245404437, 0.07321536989925975, 0.07321536989925975, 0.292861479597039, 0.21964610969777923, 0.34167172619654546, 0.15584180629833574, 0.2337627094475036, 0.623367225193343, 0.07065836389934933, 0.28263345559739733, 0.07065836389934933, 0.5652669111947947, 0.06297004136778461, 0.6926704550456307, 0.12594008273556923, 0.06297004136778461, 0.06297004136778461, 0.0657198486344959, 0.5914786377104632, 0.2628793945379836, 0.6499633491677959, 0.056518552101547465, 0.25433348445696363, 0.028259276050773732, 0.08145668055585878, 0.5701967638910115, 0.24437004166757634, 0.05961021306617223, 0.2185707812426315, 0.15896056817645926, 0.47688170452937784, 0.09935035511028704, 0.1603726690893804, 0.053457556363126796, 0.1603726690893804, 0.5613043418128314, 0.0801863345446902, 0.39396613217005777, 0.5515525850380808, 0.2709575359786498, 0.1354787679893249, 0.06773938399466245, 0.5419150719572996, 0.04189854864563495, 0.6983091440939158, 0.09776328017314821, 0.09776328017314821, 0.06983091440939158, 0.27357911615297625, 0.6839477903824407, 0.21669247582122694, 0.14446165054748464, 0.07223082527374232, 0.5778466021899386, 0.6292200125822817, 0.2752837555047482, 0.07865250157278521, 0.18593429313644885, 0.053124083753271094, 0.6906130887925243, 0.013281020938317773, 0.039843062814953326, 0.5559071578841117, 0.3001898652574203, 0.11118143157682234, 0.022236286315364468, 0.7131839015518198, 0.013330540215921864, 0.013330540215921864, 0.0199958103238828, 0.23994972388659355, 0.08614234249015074, 0.8614234249015075, 0.06345785661317604, 0.6980364227449365, 0.1269157132263521, 0.06345785661317604, 0.18634839237223555, 0.251570329702518, 0.31679226703280045, 0.09317419618611777, 0.15839613351640022, 0.16245899757739665, 0.23827319644684844, 0.14079779790041044, 0.194950797092876, 0.2707649959623278, 0.13160848839169095, 0.0877389922611273, 0.13160848839169095, 0.5264339535667638, 0.13160848839169095, 0.3069387932124186, 0.3069387932124186, 0.08077336663484701, 0.2315503176865614, 0.0753884755258572, 0.17402422111668514, 0.5220726633500554, 0.29004036852780857, 0.7087547878699576, 0.10903919813383964, 0.16355879720075944, 0.23670722421793391, 0.6763063549083826, 0.033815317745419134, 0.033815317745419134, 0.4230368142878502, 0.07931940267897192, 0.41582595949885276, 0.06970492962697532, 0.012018091314995745, 0.8349061503191708, 0.11132082004255611, 0.027830205010639028, 0.9659890207168618, 0.4572455770115608, 0.07374928661476787, 0.3097470037820251, 0.07374928661476787, 0.08849914393772146, 0.26155755626256044, 0.1743717041750403, 0.08718585208752015, 0.5231151125251209, 0.18002752643205416, 0.6000917547735138, 0.09001376321602708, 0.030004587738675693, 0.09001376321602708, 0.03839245559407344, 0.7678491118814689, 0.07678491118814688, 0.03839245559407344, 0.07678491118814688, 0.3040525740783908, 0.46114640401889273, 0.02533771450653257, 0.08614822932221074, 0.12668857253266283, 0.04017951204917372, 0.5524682906761387, 0.1004487801229343, 0.14062829217210804, 0.18080780422128176, 0.08097969493293666, 0.49600063146423706, 0.020244923733234166, 0.13159200426602208, 0.27330647039866124, 0.2503417222277733, 0.08344724074259109, 0.6258543055694332, 0.10713353512589081, 0.14284471350118774, 0.07142235675059387, 0.6428012107553449, 0.6320220069898858, 0.11491309217997922, 0.17236963826996884, 0.05745654608998961, 0.12820540166210354, 0.12820540166210354, 0.06410270083105177, 0.576924307479466, 0.06410270083105177, 0.46780356685279617, 0.283144264147745, 0.16003806234437762, 0.07386372108202044, 0.012310620180336742, 0.22638127005699937, 0.41160230919454427, 0.1543508659479541, 0.1440608082180905, 0.061740346379181646, 0.6981982035026296, 0.06981982035026296, 0.13963964070052592, 0.0871350594649088, 0.1742701189298176, 0.1742701189298176, 0.6099454162543616, 0.07947683573759624, 0.1589536714751925, 0.7152915216383663, 0.2669716670060032, 0.6340577091392576, 0.0667429167515008, 0.0333714583757504, 0.12477874562261121, 0.7070795585281302, 0.12477874562261121, 0.04159291520753707, 0.05231124522356046, 0.7323574331298465, 0.05231124522356046, 0.10462249044712092, 0.47930674137831913, 0.3236344664007454, 0.10651260919518202, 0.02867647170639516, 0.06144958222798963, 0.09529208044538129, 0.8576287240084316, 0.12295294191901339, 0.12295294191901339, 0.6557490235680714, 0.08196862794600893, 0.04098431397300446, 0.610844463614862, 0.17904061864573542, 0.08425440877446373, 0.042127204387231866, 0.09478620987127169, 0.6543746367366055, 0.13776308141823274, 0.13776308141823274, 0.06888154070911637, 0.18922423562169094, 0.09461211781084547, 0.047306058905422735, 0.5203666479596502, 0.09461211781084547, 0.7592291185228688, 0.0474518199076793, 0.0474518199076793, 0.0949036398153586, 0.13025977729264498, 0.41683128733646396, 0.10420782183411599, 0.043419925764214995, 0.312623465502348, 0.26780943612592173, 0.30798085154481, 0.28119990793221783, 0.10712377445036869, 0.026780943612592173, 0.05847067734866959, 0.05847067734866959, 0.292353386743348, 0.584706773486696, 0.3990766124924292, 0.01995383062462146, 0.45893810436629356, 0.0997691531231073, 0.02993074593693219, 0.052391865444158706, 0.6287023853299044, 0.20956746177663482, 0.10478373088831741, 0.6838326642013259, 0.2564372490754972, 0.877132771146185, 0.0701706216916948, 0.0350853108458474, 0.2834987500954184, 0.35192948287707115, 0.17596474143853558, 0.05865491381284519, 0.12708564659449792, 0.089099593738568, 0.4662878738985059, 0.062369715616997605, 0.28808868642136987, 0.09503956665447254, 0.009625703449322396, 0.11550844139186875, 0.10588273794254636, 0.4909108759154422, 0.2695196965810271, 0.07597968297479206, 0.7597968297479205, 0.07597968297479206, 0.07597968297479206, 0.824866827105543, 0.06688109408963863, 0.11146849014939772, 0.6413366360799526, 0.045809759719996616, 0.2748585583199797, 0.3622732794476866, 0.6339782390334516, 0.14477143616074628, 0.06204490121174841, 0.08272653494899788, 0.45499594221948836, 0.24817960484699364, 0.16385798837313562, 0.24578698255970344, 0.5735029593059747, 0.12249887954002675, 0.2449977590800535, 0.6124943977001337, 0.09528447518412589, 0.857560276657133, 0.07778577915952323, 0.15557155831904645, 0.15557155831904645, 0.07778577915952323, 0.505607564536901, 0.26232516638512887, 0.07154322719594425, 0.1430864543918885, 0.5008025903716097, 0.02384774239864808, 0.2123342039117538, 0.1061671019558769, 0.583919060757323, 0.05308355097793845, 0.3819721852024694, 0.34500713502158525, 0.12321683393628044, 0.04928673357451218, 0.08625178375539631, 0.6204431771434464, 0.1978224622776206, 0.017983860207056418, 0.15286281175997957, 0.708706816969513, 0.1417413633939026, 0.11549296276540211, 0.031498080754200575, 0.2720717567428714, 0.6529722161828913, 0.05441435134857427, 0.1862025850147486, 0.7448103400589944, 0.062067528338249536, 0.023620658353585424, 0.08267230423754898, 0.023620658353585424, 0.21258592518226882, 0.6613784339003919, 0.09214894230401457, 0.8293404807361312, 0.04607447115200729, 0.6413220697348038, 0.05781207351314503, 0.15922816857434013, 0.09406710266545633, 0.048013416985493336, 0.4009896466140503, 0.35802647019111633, 0.07160529403822327, 0.04296317642293396, 0.12888952926880187, 0.08325613944684086, 0.08325613944684086, 0.24976841834052257, 0.5827929761278859, 0.16466558733333742, 0.2195541164444499, 0.5488852911111247, 0.1356439669317029, 0.18085862257560387, 0.6330051790146135, 0.08439107964344389, 0.33756431857377556, 0.5907375575041072, 0.821136261415016, 0.054742417427667736, 0.10948483485533547, 0.09504568205367857, 0.7603654564294285, 0.09504568205367857, 0.13056611954715547, 0.1958491793207332, 0.5222644781886219, 0.13056611954715547, 0.5178518447454571, 0.06041604855363666, 0.11220123302818237, 0.16614413352250082, 0.14672468934454616, 0.07101508200076537, 0.02840603280030615, 0.6391357380068884, 0.18463921320198998, 0.08521809840091844, 0.0567190800875428, 0.06617226010213327, 0.018906360029180933, 0.8035203012401897, 0.04726590007295233, 0.3587663901994421, 0.6278411828490237, 0.3789289541077789, 0.6062863265724463, 0.12320125500247457, 0.08213417000164971, 0.7802746150156723, 0.2099226244160647, 0.08996683903545631, 0.6897457659384983, 0.2593419116058735, 0.6224205878540964, 0.1037367646423494, 0.3404171088382115, 0.40049071628024885, 0.08009814325604978, 0.12682206015541214, 0.053398762170699846, 0.9355076032322286, 0.3395677467244799, 0.1762239513173594, 0.20549703293153873, 0.0966011693267917, 0.18266402927247885, 0.2216133950582933, 0.08310502314686, 0.055403348764573326, 0.5540334876457332, 0.08310502314686, 0.07111934472759754, 0.7823127920035728, 0.07111934472759754, 0.154861090260976, 0.77430545130488, 0.077430545130488, 0.22383550957100204, 0.08953420382840083, 0.6267394267988058, 0.04476710191420041, 0.19101001999978445, 0.7162875749991917, 0.04775250499994611, 0.6166434454868912, 0.35236768313536637, 0.12521649552316672, 0.27130240696686125, 0.4591271502516113, 0.1460859114436945, 0.21063289578667574, 0.08581340198716418, 0.0546085285372863, 0.4290670099358209, 0.2184341141491452, 0.11786154618929597, 0.05893077309464798, 0.02946538654732399, 0.7661000502304237, 0.7435799769994115, 0.08922959723992938, 0.029743199079976457, 0.059486398159952915, 0.059486398159952915, 0.03008471852142705, 0.9627109926856656, 0.04799824936259001, 0.36798657844652344, 0.07999708227098336, 0.07999708227098336, 0.41598482780911344, 0.02382198909061721, 0.04764397818123442, 0.04764397818123442, 0.8575916072622195, 0.8850469349996553, 0.06808053346151194, 0.03404026673075597, 0.5315742160668868, 0.29901049653762385, 0.1162818597646315, 0.016611694252090213, 0.03876061992154383, 0.8430470694362996, 0.04079260013401449, 0.08158520026802898, 0.02719506675600966, 0.01597994573427484, 0.31959891468549684, 0.06391978293709936, 0.5433181549653446, 0.07989972867137421, 0.2727355669330094, 0.16364134015980564, 0.5454711338660188, 0.05164572038610985, 0.45265954926649227, 0.03645580262548931, 0.40708979598463063, 0.05164572038610985, 0.12381113057063145, 0.8666779139944201, 0.14602475794265965, 0.6571114107419684, 0.14602475794265965, 0.07301237897132982, 0.32704960944468625, 0.21803307296312416, 0.14535538197541611, 0.30888018669775924, 0.21361831585255192, 0.16234992004793947, 0.17943938531614362, 0.2648867116571644, 0.17943938531614362, 0.6379977733929808, 0.05547806725156355, 0.24965130263203597, 0.05547806725156355, 0.9340856011779779, 0.34780517771793484, 0.0963152799834281, 0.12306952442326925, 0.09096443109545989, 0.3424543288299666, 0.34483498855188677, 0.6207029793933961, 0.8693672909937037, 0.0496450674522817, 0.1489352023568451, 0.0992901349045634, 0.6950309443319438, 0.29339056383117884, 0.2689413501785806, 0.19908645402829994, 0.17812998518321574, 0.06286940653525261, 0.6832676960072187, 0.2657152151139184, 0.10967877175573407, 0.17235235561615353, 0.18802075158125842, 0.015668395965104866, 0.5170570668484606, 0.15190545880465703, 0.2862833646703152, 0.3447085411336448, 0.13437790586565815, 0.08763776469499444, 0.013602843748058445, 0.02720568749611689, 0.9249933748679743, 0.013602843748058445, 0.02720568749611689, 0.23783394503635177, 0.23783394503635177, 0.06995116030480934, 0.37773626564597046, 0.08394139236577122, 0.01275896442970884, 0.9696812966578718, 0.756072470351734, 0.1890181175879335, 0.6408534121261961, 0.09155048744659944, 0.18310097489319888, 0.07173183825412897, 0.6904189431959914, 0.13449719672649182, 0.0806983180358951, 0.017932959563532243, 0.01911976639703409, 0.24855696316144318, 0.07647906558813636, 0.2867964959555114, 0.34415579514661365, 0.1550644473523188, 0.18607733682278255, 0.03101288947046376, 0.5892448999388115, 0.03101288947046376, 0.17414415316645512, 0.11609610211097007, 0.6965766126658205, 0.1239456669704179, 0.1239456669704179, 0.7436740018225073, 0.798293016829608, 0.13304883613826798, 0.06652441806913399, 0.5049578243925013, 0.1536828161194569, 0.24589250579113103, 0.04390937603413054, 0.05269125124095665, 0.05547474471176619, 0.6656969365411942, 0.05547474471176619, 0.22189897884706475, 0.8133711977007341, 0.042253049231206964, 0.021126524615603482, 0.0528163115390087, 0.06866120500071132, 0.7899832675228811, 0.024686977110090033, 0.09874790844036013, 0.09874790844036013, 0.9124809110903017, 0.8115341121598499, 0.09017045690665, 0.045085228453325, 0.045085228453325, 0.2901334915266408, 0.5657603084769496, 0.05802669830532817, 0.05802669830532817, 0.029013349152664084, 0.37811250827538584, 0.04201250091948732, 0.5461625119533351, 0.04201250091948732, 0.743711152253379, 0.0495807434835586, 0.10411956131547306, 0.03470652043849102, 0.06941304087698204, 0.15102663504126448, 0.2114372890577703, 0.4832852321320464, 0.0906159810247587, 0.0604106540165058, 0.23064111326704365, 0.03075214843560582, 0.6304190429299192, 0.09225644530681745, 0.01537607421780291, 0.753453625217525, 0.10763623217393214, 0.10763623217393214, 0.7004145866384847, 0.12734810666154267, 0.12734810666154267, 0.546235061070072, 0.1260542448623243, 0.028012054413849848, 0.1260542448623243, 0.16807232648309908, 0.19129773273662645, 0.2869465991049397, 0.5738931982098794, 0.14293894876288157, 0.7861642181958486, 0.31944388366914606, 0.06388877673382921, 0.5749989906044629, 0.6944077480956349, 0.12625595419920635, 0.1893839312988095, 0.27383155270119963, 0.6845788817529991, 0.17358387099265096, 0.7521967743014876, 0.7617898307990788, 0.0648331770892833, 0.11345805990624577, 0.0648331770892833, 0.26450813060142603, 0.617185638069994, 0.088169376867142, 0.09483645593034375, 0.3983131149074437, 0.07586916474427499, 0.037934582372137496, 0.3983131149074437, 0.6576327897864432, 0.28184262419419, 0.8851088945177064, 0.0680852995782851, 0.03404264978914255, 0.30002319558493584, 0.6500502571006943, 0.6258772106824526, 0.05689792824385933, 0.17069378473157798, 0.05689792824385933, 0.05689792824385933], \"Topic\": [1, 2, 3, 4, 5, 2, 3, 5, 3, 4, 1, 2, 3, 4, 5, 1, 2, 3, 4, 5, 3, 4, 1, 2, 3, 4, 5, 1, 2, 3, 1, 2, 5, 2, 3, 4, 3, 5, 1, 2, 3, 4, 5, 1, 2, 3, 4, 5, 1, 2, 3, 4, 5, 1, 2, 3, 4, 5, 1, 2, 3, 2, 1, 2, 3, 1, 3, 1, 2, 3, 1, 2, 3, 4, 1, 2, 3, 4, 5, 1, 2, 4, 5, 1, 2, 3, 4, 5, 1, 3, 5, 1, 2, 4, 5, 1, 4, 1, 3, 5, 1, 2, 3, 5, 1, 2, 3, 4, 5, 1, 4, 5, 1, 2, 3, 4, 5, 1, 2, 3, 4, 5, 1, 3, 4, 1, 2, 4, 5, 1, 2, 3, 4, 5, 1, 2, 3, 2, 3, 4, 5, 1, 2, 4, 1, 2, 3, 4, 5, 1, 2, 3, 4, 5, 3, 4, 1, 3, 4, 5, 1, 2, 3, 4, 5, 2, 3, 1, 3, 4, 5, 2, 3, 5, 1, 2, 3, 4, 5, 1, 3, 4, 5, 1, 2, 3, 4, 5, 2, 4, 1, 2, 3, 4, 1, 2, 3, 4, 5, 1, 2, 3, 4, 5, 1, 2, 3, 4, 5, 1, 2, 3, 4, 5, 2, 4, 5, 2, 3, 4, 1, 2, 4, 5, 1, 2, 3, 4, 5, 1, 3, 5, 1, 1, 2, 3, 4, 5, 1, 2, 3, 4, 1, 2, 3, 4, 5, 1, 2, 3, 4, 5, 1, 2, 3, 4, 5, 1, 2, 3, 4, 5, 1, 2, 3, 4, 5, 1, 2, 3, 2, 3, 4, 5, 1, 2, 3, 4, 1, 2, 3, 4, 5, 1, 2, 3, 4, 5, 1, 2, 3, 4, 5, 2, 3, 5, 1, 2, 3, 4, 1, 2, 3, 1, 2, 3, 4, 1, 2, 3, 5, 1, 2, 3, 5, 1, 2, 3, 4, 5, 3, 5, 1, 2, 3, 4, 5, 1, 2, 3, 4, 5, 1, 2, 3, 4, 1, 2, 3, 4, 5, 1, 3, 4, 5, 1, 2, 3, 4, 5, 1, 2, 3, 4, 5, 1, 3, 4, 5, 1, 2, 3, 4, 5, 1, 2, 3, 5, 4, 5, 1, 2, 5, 1, 2, 3, 4, 5, 1, 2, 3, 4, 5, 1, 2, 3, 4, 5, 1, 3, 4, 5, 1, 4, 5, 1, 3, 4, 1, 5, 1, 2, 3, 4, 5, 1, 2, 3, 1, 2, 5, 3, 5, 1, 2, 3, 4, 5, 1, 2, 3, 4, 5, 2, 3, 4, 5, 1, 2, 3, 4, 5, 1, 3, 4, 5, 1, 3, 4, 5, 1, 3, 4, 1, 2, 3, 1, 2, 3, 4, 5, 1, 3, 5, 1, 2, 3, 4, 5, 1, 2, 3, 4, 5, 1, 2, 3, 5, 1, 3, 4, 1, 2, 3, 1, 3, 4, 2, 3, 5, 1, 3, 4, 1, 3, 4, 5, 1, 2, 3, 4, 5, 1, 2, 3, 4, 5, 1, 2, 3, 4, 5, 1, 4, 4, 5, 1, 2, 5, 1, 2, 5, 1, 3, 4, 1, 2, 3, 4, 5, 5, 1, 2, 3, 4, 5, 1, 2, 3, 4, 5, 1, 3, 5, 1, 2, 4, 1, 2, 3, 5, 1, 2, 4, 2, 5, 2, 3, 4, 5, 1, 2, 3, 4, 5, 1, 3, 4, 5, 1, 2, 3, 4, 5, 2, 5, 1, 2, 3, 4, 5, 1, 3, 4, 5, 1, 2, 5, 1, 2, 3, 4, 5, 1, 2, 3, 5, 1, 2, 3, 4, 5, 1, 2, 4, 1, 2, 3, 4, 5, 1, 4, 1, 2, 4, 5, 1, 2, 3, 4, 1, 2, 3, 4, 5, 1, 2, 3, 4, 5, 1, 2, 3, 4, 5, 1, 2, 4, 1, 2, 3, 5, 1, 2, 3, 4, 5, 3, 4, 1, 2, 3, 4, 5, 1, 2, 3, 4, 5, 1, 2, 3, 4, 5, 1, 2, 3, 4, 5, 2, 5, 3, 4, 1, 3, 4, 1, 2, 3, 4, 5, 1, 2, 3, 4, 5, 1, 2, 3, 4, 5, 1, 3, 5, 2, 3, 4, 1, 2, 5, 1, 2, 3, 4, 5, 1, 2, 3, 4, 1, 2, 3, 4, 5, 1, 2, 3, 4, 1, 1, 2, 3, 5, 1, 2, 3, 4, 5, 1, 2, 3, 4, 1, 2, 3, 4, 5, 1, 2, 3, 4, 5, 1, 2, 3, 4, 5, 1, 2, 4, 1, 3, 4, 1, 2, 3, 4, 5, 2, 3, 4, 1, 4, 3, 4, 5, 2, 3, 4, 2, 3, 2, 3, 1, 3, 4, 5, 2, 3, 4, 1, 2, 3, 4, 5, 3, 4, 1, 2, 5, 3, 4, 1, 2, 3, 4, 5], \"Term\": [\"abovecaptioned\", \"abovecaptioned\", \"abovecaptioned\", \"abovecaptioned\", \"abovecaptioned\", \"account\", \"account\", \"account\", \"account_balentine_global_hedge\", \"account_balentine_global_hedge\", \"address\", \"address\", \"address\", \"address\", \"address\", \"admission\", \"admission\", \"admission\", \"admission\", \"admission\", \"affidavit_service_summons\", \"affidavit_service_summons\", \"agent\", \"agent\", \"agent\", \"agent\", \"agent\", \"aim_exploration\", \"aim_exploration\", \"aim_exploration\", \"allege\", \"allege\", \"allege\", \"alternative_investment_sgr_spa\", \"alternative_investment_sgr_spa\", \"alternative_investment_sgr_spa\", \"ambassador\", \"ambassador\", \"amend\", \"amend\", \"amend\", \"amend\", \"amend\", \"amend_complaint\", \"amend_complaint\", \"amend_complaint\", \"amend_complaint\", \"amend_complaint\", \"answer\", \"answer\", \"answer\", \"answer\", \"answer\", \"answer_due\", \"answer_due\", \"answer_due\", \"answer_due\", \"answer_due\", \"answer_due_answer_due\", \"answer_due_answer_due\", \"answer_due_answer_due\", \"answer_due_purs\", \"appear\", \"appear\", \"appear\", \"appear_pro_hac_vice\", \"appear_pro_hac_vice\", \"appearance\", \"appearance\", \"appearance\", \"argument\", \"argument\", \"argument\", \"argument\", \"associate\", \"associate\", \"associate\", \"associate\", \"associate\", \"bond\", \"bond\", \"bond\", \"bond\", \"brief\", \"brief\", \"brief\", \"brief\", \"brief\", \"brooklyn\", \"brooklyn\", \"brooklyn\", \"calendar\", \"calendar\", \"calendar\", \"calendar\", \"cancel\", \"cancel\", \"certificate_service\", \"certificate_service\", \"certificate_service\", \"certification\", \"certification\", \"certification\", \"certification\", \"complaint\", \"complaint\", \"complaint\", \"complaint\", \"complaint\", \"conclude\", \"conclude\", \"conclude\", \"conference\", \"conference\", \"conference\", \"conference\", \"conference_call\", \"conference_hold\", \"conference_hold\", \"conference_hold\", \"conference_hold\", \"conference_hold\", \"conference_pm\", \"conference_pm\", \"conference_pm\", \"confidential\", \"confidential\", \"confidential\", \"confidential\", \"confirm\", \"confirm\", \"confirm\", \"confirm\", \"confirm\", \"connection\", \"connection\", \"connection\", \"continue\", \"continue\", \"continue\", \"continue\", \"could\", \"could\", \"could\", \"counterclaim\", \"counterclaim\", \"counterclaim\", \"counterclaim\", \"counterclaim\", \"courtroom\", \"courtroom\", \"courtroom\", \"courtroom\", \"courtroom\", \"courtroom_pearl_street_new\", \"courtroom_pearl_street_new\", \"dated\", \"dated\", \"dated\", \"dated\", \"deadline\", \"deadline\", \"deadline\", \"deadline\", \"deadline\", \"deadline_release\", \"deadline_release\", \"dec\", \"dec\", \"dec\", \"dec\", \"decision\", \"decision\", \"decision\", \"declaration\", \"declaration\", \"declaration\", \"declaration\", \"declaration\", \"declaration_opposition\", \"declaration_opposition\", \"declaration_opposition\", \"declaration_opposition\", \"declaration_support\", \"declaration_support\", \"declaration_support\", \"declaration_support\", \"declaration_support\", \"deficiency\", \"deficiency\", \"deft\", \"deft\", \"deft\", \"deft\", \"deny\", \"deny\", \"deny\", \"deny\", \"deny\", \"deposition\", \"deposition\", \"deposition\", \"deposition\", \"deposition\", \"disclose\", \"disclose\", \"disclose\", \"disclose\", \"disclose\", \"discovery\", \"discovery\", \"discovery\", \"discovery\", \"discovery\", \"discovery_complete\", \"discovery_complete\", \"discovery_complete\", \"discovery_dispute\", \"discovery_dispute\", \"discovery_dispute\", \"discuss\", \"discuss\", \"discuss\", \"discuss\", \"dismiss\", \"dismiss\", \"dismiss\", \"dismiss\", \"dismiss\", \"dismiss..\", \"dismiss..\", \"dismiss..\", \"dismiss_thirdparty\", \"dismissal\", \"dismissal\", \"dismissal\", \"dismissal\", \"dismissal\", \"dismissal_without_prejudice\", \"dismissal_without_prejudice\", \"dismissal_without_prejudice\", \"dismissal_without_prejudice\", \"dispute\", \"dispute\", \"dispute\", \"dispute\", \"dispute\", \"distribution\", \"distribution\", \"distribution\", \"distribution\", \"distribution\", \"due\", \"due\", \"due\", \"due\", \"due\", \"endorsed_letter_address\", \"endorsed_letter_address\", \"endorsed_letter_address\", \"endorsed_letter_address\", \"endorsed_letter_address\", \"endorsement\", \"endorsement\", \"endorsement\", \"endorsement\", \"endorsement\", \"endorsement_application_grant\", \"endorsement_application_grant\", \"endorsement_application_grant\", \"error\", \"error\", \"error\", \"error\", \"error_deficient_entry\", \"error_deficient_entry\", \"error_deficient_entry\", \"error_deficient_entry\", \"except\", \"except\", \"except\", \"except\", \"except\", \"extend\", \"extend\", \"extend\", \"extend\", \"extend\", \"extension\", \"extension\", \"extension\", \"extension\", \"extension\", \"fax\", \"fax\", \"fax\", \"final\", \"final\", \"final\", \"final\", \"forward\", \"forward\", \"forward\", \"friday\", \"friday\", \"friday\", \"friday\", \"g.c\", \"g.c\", \"g.c\", \"g.c\", \"give\", \"give\", \"give\", \"give\", \"grant\", \"grant\", \"grant\", \"grant\", \"grant\", \"hedge_strategy_ibex_absolute\", \"hedge_strategy_ibex_absolute\", \"herein\", \"herein\", \"herein\", \"herein\", \"herein\", \"hold\", \"hold\", \"hold\", \"hold\", \"hold\", \"indicate\", \"indicate\", \"indicate\", \"indicate\", \"initial\", \"initial\", \"initial\", \"initial\", \"initial\", \"instruction\", \"instruction\", \"instruction\", \"instruction\", \"issue\", \"issue\", \"issue\", \"issue\", \"issue\", \"joint\", \"joint\", \"joint\", \"joint\", \"joint\", \"jr\", \"jr\", \"jr\", \"jr\", \"judgment\", \"judgment\", \"judgment\", \"judgment\", \"judgment\", \"jury_demand\", \"jury_demand\", \"jury_demand\", \"jury_demand\", \"jury_trial_hold\", \"jury_trial_hold\", \"l.p..\", \"l.p..\", \"l.p..\", \"leave\", \"leave\", \"leave\", \"leave\", \"leave\", \"letter\", \"letter\", \"letter\", \"letter\", \"letter\", \"letter_address\", \"letter_address\", \"letter_address\", \"letter_address\", \"letter_address\", \"liability_complaint\", \"liability_complaint\", \"liability_complaint\", \"liability_complaint\", \"limine\", \"limine\", \"limine\", \"limine_preclude_introduce_evidence\", \"limine_preclude_introduce_evidence\", \"limine_preclude_introduce_evidence\", \"line\", \"line\", \"loan\", \"loan\", \"loan\", \"loan\", \"loan\", \"local_civil_rule\", \"local_civil_rule\", \"local_civil_rule\", \"longer_assigned\", \"longer_assigned\", \"longer_assigned\", \"magnum_growth_magnum_special\", \"magnum_growth_magnum_special\", \"mediation\", \"mediation\", \"mediation\", \"mediation\", \"mediation\", \"memo_endorsement\", \"memo_endorsement\", \"memo_endorsement\", \"memo_endorsement\", \"memo_endorsement\", \"memoendorsement_letter_address\", \"memoendorsement_letter_address\", \"memoendorsement_letter_address\", \"memoendorsement_letter_address\", \"memorandum\", \"memorandum\", \"memorandum\", \"memorandum\", \"memorandum\", \"memorandum_law_opposition\", \"memorandum_law_opposition\", \"memorandum_law_opposition\", \"memorandum_law_opposition\", \"memorandum_law_support\", \"memorandum_law_support\", \"memorandum_law_support\", \"memorandum_law_support\", \"memorandum_opinion\", \"memorandum_opinion\", \"memorandum_opinion\", \"merrill\", \"merrill\", \"merrill\", \"minute_entry_hold\", \"minute_entry_hold\", \"minute_entry_hold\", \"minute_entry_hold\", \"minute_entry_hold\", \"minute_entry_hold_telephone\", \"minute_entry_hold_telephone\", \"minute_entry_hold_telephone\", \"motion\", \"motion\", \"motion\", \"motion\", \"motion\", \"move\", \"move\", \"move\", \"move\", \"move\", \"name\", \"name\", \"name\", \"name\", \"need\", \"need\", \"need\", \"new_address\", \"new_address\", \"new_address\", \"new_jersey\", \"new_jersey\", \"new_jersey\", \"next\", \"next\", \"next\", \"nonecf_error\", \"nonecf_error\", \"nonecf_error\", \"note\", \"note\", \"note\", \"note\", \"notice\", \"notice\", \"notice\", \"notice\", \"notice\", \"notice_appeal\", \"notice_appeal\", \"notice_appeal\", \"notice_appeal\", \"notice_appeal\", \"notice_appearance\", \"notice_appearance\", \"notice_appearance\", \"notice_appearance\", \"notice_appearance\", \"notice_reassignment\", \"notice_reassignment\", \"notice_termination\", \"notice_termination\", \"official_conference\", \"official_conference\", \"official_conference\", \"official_notice_give\", \"official_notice_give\", \"official_notice_give\", \"oppose\", \"oppose\", \"oppose\", \"opposition\", \"opposition\", \"opposition\", \"opposition\", \"opposition\", \"oral_argument_pm\", \"order\", \"order\", \"order\", \"order\", \"order\", \"ordered\", \"ordered\", \"ordered\", \"ordered\", \"ordered\", \"p.\", \"p.\", \"p.\", \"p.m\", \"p.m\", \"p.m\", \"place\", \"place\", \"place\", \"place\", \"pretrial_conference\", \"pretrial_conference\", \"pretrial_conference\", \"pretrial_conference_hold\", \"pretrial_conference_hold\", \"produce\", \"produce\", \"produce\", \"produce\", \"propose\", \"propose\", \"propose\", \"propose\", \"propose\", \"protective\", \"protective\", \"protective\", \"protective\", \"purs\", \"purs\", \"purs\", \"purs\", \"purs\", \"redact_deadline\", \"redact_deadline\", \"redaction\", \"redaction\", \"redaction\", \"redaction\", \"redaction\", \"release\", \"release\", \"release\", \"release\", \"remotely_electronically_available_public\", \"remotely_electronically_available_public\", \"remotely_electronically_available_public\", \"reply\", \"reply\", \"reply\", \"reply\", \"reply\", \"reply_memorandum_law\", \"reply_memorandum_law\", \"reply_memorandum_law\", \"reply_memorandum_law\", \"report\", \"report\", \"report\", \"report\", \"report\", \"report_recommendation\", \"report_recommendation\", \"report_recommendation\", \"request\", \"request\", \"request\", \"request\", \"request\", \"request_issuance_summons\", \"request_issuance_summons\", \"respectfully_request\", \"respectfully_request\", \"respectfully_request\", \"respectfully_request\", \"respond\", \"respond\", \"respond\", \"respond\", \"response\", \"response\", \"response\", \"response\", \"response\", \"response_due\", \"response_due\", \"response_due\", \"response_due\", \"responsible_courtesy_individual_practice\", \"rule\", \"rule\", \"rule\", \"rule\", \"rule\", \"rule_certificate\", \"rule_certificate\", \"rule_deposition_objection\", \"rule_federal_rule\", \"rule_federal_rule\", \"rule_federal_rule\", \"rule_federal_rule\", \"schedule\", \"schedule\", \"schedule\", \"schedule\", \"schedule\", \"select\", \"select\", \"send\", \"send\", \"send\", \"send\", \"send\", \"serve\", \"serve\", \"serve\", \"serve\", \"serve\", \"serve_answer_due\", \"serve_answer_due\", \"serve_answer_due\", \"serve_answer_due\", \"serve_answer_due\", \"service\", \"service\", \"service\", \"service\", \"service\", \"service_accept\", \"service_accept\", \"service_accept_legal\", \"service_accept_legal\", \"service_execute\", \"service_execute\", \"service_execute\", \"settlement\", \"settlement\", \"settlement\", \"settlement\", \"settlement\", \"show_cause\", \"show_cause\", \"show_cause\", \"show_cause\", \"show_cause\", \"status\", \"status\", \"status\", \"status\", \"status\", \"status_conference_hold\", \"status_conference_hold\", \"status_conference_hold\", \"stillwater_market_neutral_balentine\", \"stillwater_market_neutral_balentine\", \"stillwater_market_neutral_balentine\", \"stipulate\", \"stipulate\", \"stipulate\", \"stipulation\", \"stipulation\", \"stipulation\", \"stipulation\", \"stipulation\", \"subpoena\", \"subpoena\", \"subpoena\", \"subpoena\", \"summary_judgment\", \"summary_judgment\", \"summary_judgment\", \"summary_judgment\", \"summary_judgment\", \"summary_judgment..\", \"summary_judgment..\", \"summary_judgment..\", \"summary_judgment..\", \"summary_judgment_favor\", \"summons_issue\", \"summons_issue\", \"summons_issue\", \"summons_issue\", \"supplemental\", \"supplemental\", \"supplemental\", \"supplemental\", \"supplemental\", \"supplemental_amend\", \"supplemental_amend\", \"supplemental_amend\", \"supplemental_amend\", \"support\", \"support\", \"support\", \"support\", \"support\", \"telephone_conference\", \"telephone_conference\", \"telephone_conference\", \"telephone_conference\", \"telephone_conference\", \"terminate\", \"terminate\", \"terminate\", \"terminate\", \"terminate\", \"thirdparty\", \"thirdparty\", \"thirdparty\", \"transmit\", \"transmit\", \"transmit\", \"trial\", \"trial\", \"trial\", \"trial\", \"trial\", \"united_state_courthouse_pearl\", \"united_state_courthouse_pearl\", \"united_state_courthouse_pearl\", \"update\", \"update\", \"usca_number\", \"usca_number\", \"usca_number\", \"via\", \"via\", \"via\", \"view_public_terminal_purchase\", \"view_public_terminal_purchase\", \"wellington\", \"wellington\", \"withdraw\", \"withdraw\", \"withdraw\", \"withdraw\", \"withdrawal\", \"withdrawal\", \"withdrawal\", \"within\", \"within\", \"within\", \"within\", \"within\", \"without_cost_either\", \"without_cost_either\", \"without_redaction_calendar\", \"without_redaction_calendar\", \"without_redaction_calendar\", \"york\", \"york\", \"\\u00a7\", \"\\u00a7\", \"\\u00a7\", \"\\u00a7\", \"\\u00a7\"]}, \"lambda.step\": 0.01, \"plot.opts\": {\"ylab\": \"PC2\", \"xlab\": \"PC1\"}};\n",
       "\n",
       "function LDAvis_load_lib(url, callback){\n",
       "  var s = document.createElement('script');\n",
       "  s.src = url;\n",
       "  s.async = true;\n",
       "  s.onreadystatechange = s.onload = callback;\n",
       "  s.onerror = function(){console.warn(\"failed to load library \" + url);};\n",
       "  document.getElementsByTagName(\"head\")[0].appendChild(s);\n",
       "}\n",
       "\n",
       "if(typeof(LDAvis) !== \"undefined\"){\n",
       "   // already loaded: just create the visualization\n",
       "   !function(LDAvis){\n",
       "       new LDAvis(\"#\" + \"ldavis_el2506819944435172889770522098\", ldavis_el2506819944435172889770522098_data);\n",
       "   }(LDAvis);\n",
       "}else if(typeof define === \"function\" && define.amd){\n",
       "   // require.js is available: use it to load d3/LDAvis\n",
       "   require.config({paths: {d3: \"https://cdnjs.cloudflare.com/ajax/libs/d3/3.5.5/d3.min\"}});\n",
       "   require([\"d3\"], function(d3){\n",
       "      window.d3 = d3;\n",
       "      LDAvis_load_lib(\"https://cdn.rawgit.com/bmabey/pyLDAvis/files/ldavis.v1.0.0.js\", function(){\n",
       "        new LDAvis(\"#\" + \"ldavis_el2506819944435172889770522098\", ldavis_el2506819944435172889770522098_data);\n",
       "      });\n",
       "    });\n",
       "}else{\n",
       "    // require.js not available: dynamically load d3 & LDAvis\n",
       "    LDAvis_load_lib(\"https://cdnjs.cloudflare.com/ajax/libs/d3/3.5.5/d3.min.js\", function(){\n",
       "         LDAvis_load_lib(\"https://cdn.rawgit.com/bmabey/pyLDAvis/files/ldavis.v1.0.0.js\", function(){\n",
       "                 new LDAvis(\"#\" + \"ldavis_el2506819944435172889770522098\", ldavis_el2506819944435172889770522098_data);\n",
       "            })\n",
       "         });\n",
       "}\n",
       "</script>"
      ],
      "text/plain": [
       "<IPython.core.display.HTML object>"
      ]
     },
     "execution_count": 435,
     "metadata": {},
     "output_type": "execute_result"
    }
   ],
   "source": [
    "num_topics = 5\n",
    "pretrained_model_file_path = 'docket_texts/train/lda_model_noorgnomodel_' + str(num_topics)\n",
    "column_name = str(num_topics) + '-topic Model Classificaiton'\n",
    "\n",
    "topic_names = {}\n",
    "for i in range(num_topics):\n",
    "    topic_names[i] = 'Topic ' + str(i)\n",
    "\n",
    "LDAvis_prepared, model = topic_modeling_pipeline(num_topics, pretrained_model_file_path, trigram_bow_corpus, trigram_dictionary, export = True)\n",
    "topic_summary = []\n",
    "\n",
    "for docket_text in list(new_df['Apply Trigram Phrase Model']):\n",
    "    #print(docket_text)\n",
    "    topic_summary.append(lda_description(docket_text, model, trigram_dictionary, topic_names))\n",
    "\n",
    "new_df[column_name] = topic_summary\n",
    "pyLDAvis.display(LDAvis_prepared)"
   ]
  },
  {
   "cell_type": "markdown",
   "metadata": {},
   "source": [
    "### 6 Topics:"
   ]
  },
  {
   "cell_type": "code",
   "execution_count": 436,
   "metadata": {
    "scrolled": false
   },
   "outputs": [
    {
     "name": "stdout",
     "output_type": "stream",
     "text": [
      "\n",
      " Topic 1's make-up:\n",
      "term                 frequency\n",
      "\n",
      "motion               0.065\n",
      "order                0.054\n",
      "dismiss              0.039\n",
      "redaction            0.036\n",
      "calendar             0.034\n",
      "hold                 0.028\n",
      "amend_complaint      0.023\n",
      "request              0.021\n",
      "redact_deadline      0.021\n",
      "notice               0.021\n",
      "\n",
      " Topic 2's make-up:\n",
      "term                 frequency\n",
      "\n",
      "motion               0.115\n",
      "order                0.063\n",
      "due                  0.037\n",
      "conference_hold      0.035\n",
      "complaint            0.026\n",
      "discovery            0.024\n",
      "withdraw             0.024\n",
      "grant                0.021\n",
      "notice               0.018\n",
      "request              0.016\n",
      "\n",
      " Topic 3's make-up:\n",
      "term                 frequency\n",
      "\n",
      "notice               0.077\n",
      "abovecaptioned       0.045\n",
      "request              0.045\n",
      "official_notice_give 0.038\n",
      "endorsed_letter_address 0.032\n",
      "order                0.030\n",
      "official_conference  0.029\n",
      "deadline_release     0.027\n",
      "view_public_terminal_purchase 0.027\n",
      "motion               0.020\n",
      "\n",
      " Topic 4's make-up:\n",
      "term                 frequency\n",
      "\n",
      "order                0.165\n",
      "motion               0.033\n",
      "send                 0.033\n",
      "amend_complaint      0.030\n",
      "conference           0.022\n",
      "discovery            0.020\n",
      "release              0.018\n",
      "letter               0.017\n",
      "due                  0.015\n",
      "reply                0.014\n",
      "\n",
      " Topic 5's make-up:\n",
      "term                 frequency\n",
      "\n",
      "order                0.068\n",
      "notice               0.043\n",
      "motion               0.023\n",
      "disclose             0.019\n",
      "notice_appeal        0.018\n",
      "grant                0.017\n",
      "abovecaptioned       0.015\n",
      "response             0.015\n",
      "official_conference  0.015\n",
      "official_notice_give 0.015\n",
      "\n",
      " Topic 6's make-up:\n",
      "term                 frequency\n",
      "\n",
      "motion               0.109\n",
      "order                0.051\n",
      "letter               0.028\n",
      "notice_appearance    0.025\n",
      "schedule             0.023\n",
      "serve                0.021\n",
      "request              0.018\n",
      "notice               0.018\n",
      "endorsement          0.018\n",
      "summary_judgment     0.015\n"
     ]
    },
    {
     "data": {
      "text/html": [
       "\n",
       "<link rel=\"stylesheet\" type=\"text/css\" href=\"https://cdn.rawgit.com/bmabey/pyLDAvis/files/ldavis.v1.0.0.css\">\n",
       "\n",
       "\n",
       "<div id=\"ldavis_el2506819944435163281220006349\"></div>\n",
       "<script type=\"text/javascript\">\n",
       "\n",
       "var ldavis_el2506819944435163281220006349_data = {\"topic.order\": [2, 6, 4, 1, 5, 3], \"mdsDat\": {\"cluster\": [1, 1, 1, 1, 1, 1], \"topics\": [1, 2, 3, 4, 5, 6], \"Freq\": [23.732806417121886, 22.304666112480305, 18.689370616517525, 15.964607725092913, 9.872013221539005, 9.436535907248365], \"x\": [-0.033244662979558456, -0.04801957500497082, -0.1017963698664814, -0.08893314624000152, 0.10248018905188022, 0.16951356503913204], \"y\": [0.018076033435822498, 0.0697240011255718, -0.04356710491430236, 0.011703413913173455, -0.1497293803391263, 0.09379303677886092]}, \"R\": 30, \"tinfo\": {\"Category\": [\"Default\", \"Default\", \"Default\", \"Default\", \"Default\", \"Default\", \"Default\", \"Default\", \"Default\", \"Default\", \"Default\", \"Default\", \"Default\", \"Default\", \"Default\", \"Default\", \"Default\", \"Default\", \"Default\", \"Default\", \"Default\", \"Default\", \"Default\", \"Default\", \"Default\", \"Default\", \"Default\", \"Default\", \"Default\", \"Default\", \"Topic1\", \"Topic1\", \"Topic1\", \"Topic1\", \"Topic1\", \"Topic1\", \"Topic1\", \"Topic1\", \"Topic1\", \"Topic1\", \"Topic1\", \"Topic1\", \"Topic1\", \"Topic1\", \"Topic1\", \"Topic1\", \"Topic1\", \"Topic1\", \"Topic1\", \"Topic1\", \"Topic1\", \"Topic1\", \"Topic1\", \"Topic1\", \"Topic1\", \"Topic1\", \"Topic1\", \"Topic1\", \"Topic1\", \"Topic1\", \"Topic1\", \"Topic1\", \"Topic1\", \"Topic1\", \"Topic1\", \"Topic1\", \"Topic1\", \"Topic1\", \"Topic1\", \"Topic1\", \"Topic1\", \"Topic1\", \"Topic1\", \"Topic1\", \"Topic1\", \"Topic1\", \"Topic1\", \"Topic1\", \"Topic1\", \"Topic1\", \"Topic1\", \"Topic1\", \"Topic1\", \"Topic1\", \"Topic1\", \"Topic1\", \"Topic2\", \"Topic2\", \"Topic2\", \"Topic2\", \"Topic2\", \"Topic2\", \"Topic2\", \"Topic2\", \"Topic2\", \"Topic2\", \"Topic2\", \"Topic2\", \"Topic2\", \"Topic2\", \"Topic2\", \"Topic2\", \"Topic2\", \"Topic2\", \"Topic2\", \"Topic2\", \"Topic2\", \"Topic2\", \"Topic2\", \"Topic2\", \"Topic2\", \"Topic2\", \"Topic2\", \"Topic2\", \"Topic2\", \"Topic2\", \"Topic2\", \"Topic2\", \"Topic2\", \"Topic2\", \"Topic2\", \"Topic2\", \"Topic2\", \"Topic2\", \"Topic2\", \"Topic2\", \"Topic2\", \"Topic2\", \"Topic2\", \"Topic2\", \"Topic2\", \"Topic2\", \"Topic2\", \"Topic2\", \"Topic2\", \"Topic2\", \"Topic2\", \"Topic2\", \"Topic2\", \"Topic2\", \"Topic2\", \"Topic3\", \"Topic3\", \"Topic3\", \"Topic3\", \"Topic3\", \"Topic3\", \"Topic3\", \"Topic3\", \"Topic3\", \"Topic3\", \"Topic3\", \"Topic3\", \"Topic3\", \"Topic3\", \"Topic3\", \"Topic3\", \"Topic3\", \"Topic3\", \"Topic3\", \"Topic3\", \"Topic3\", \"Topic3\", \"Topic3\", \"Topic3\", \"Topic3\", \"Topic3\", \"Topic3\", \"Topic3\", \"Topic3\", \"Topic3\", \"Topic3\", \"Topic3\", \"Topic3\", \"Topic3\", \"Topic3\", \"Topic3\", \"Topic3\", \"Topic3\", \"Topic3\", \"Topic3\", \"Topic3\", \"Topic3\", \"Topic3\", \"Topic3\", \"Topic3\", \"Topic3\", \"Topic3\", \"Topic3\", \"Topic3\", \"Topic3\", \"Topic3\", \"Topic3\", \"Topic3\", \"Topic3\", \"Topic3\", \"Topic3\", \"Topic3\", \"Topic4\", \"Topic4\", \"Topic4\", \"Topic4\", \"Topic4\", \"Topic4\", \"Topic4\", \"Topic4\", \"Topic4\", \"Topic4\", \"Topic4\", \"Topic4\", \"Topic4\", \"Topic4\", \"Topic4\", \"Topic4\", \"Topic4\", \"Topic4\", \"Topic4\", \"Topic4\", \"Topic4\", \"Topic4\", \"Topic4\", \"Topic4\", \"Topic4\", \"Topic4\", \"Topic4\", \"Topic4\", \"Topic4\", \"Topic4\", \"Topic4\", \"Topic4\", \"Topic4\", \"Topic4\", \"Topic4\", \"Topic4\", \"Topic4\", \"Topic4\", \"Topic4\", \"Topic4\", \"Topic4\", \"Topic4\", \"Topic4\", \"Topic4\", \"Topic4\", \"Topic4\", \"Topic4\", \"Topic4\", \"Topic4\", \"Topic4\", \"Topic4\", \"Topic4\", \"Topic4\", \"Topic4\", \"Topic4\", \"Topic4\", \"Topic5\", \"Topic5\", \"Topic5\", \"Topic5\", \"Topic5\", \"Topic5\", \"Topic5\", \"Topic5\", \"Topic5\", \"Topic5\", \"Topic5\", \"Topic5\", \"Topic5\", \"Topic5\", \"Topic5\", \"Topic5\", \"Topic5\", \"Topic5\", \"Topic5\", \"Topic5\", \"Topic5\", \"Topic5\", \"Topic5\", \"Topic5\", \"Topic5\", \"Topic5\", \"Topic5\", \"Topic5\", \"Topic5\", \"Topic5\", \"Topic5\", \"Topic5\", \"Topic5\", \"Topic5\", \"Topic5\", \"Topic5\", \"Topic5\", \"Topic5\", \"Topic5\", \"Topic5\", \"Topic5\", \"Topic5\", \"Topic5\", \"Topic5\", \"Topic5\", \"Topic5\", \"Topic5\", \"Topic5\", \"Topic5\", \"Topic5\", \"Topic5\", \"Topic5\", \"Topic6\", \"Topic6\", \"Topic6\", \"Topic6\", \"Topic6\", \"Topic6\", \"Topic6\", \"Topic6\", \"Topic6\", \"Topic6\", \"Topic6\", \"Topic6\", \"Topic6\", \"Topic6\", \"Topic6\", \"Topic6\", \"Topic6\", \"Topic6\", \"Topic6\", \"Topic6\", \"Topic6\", \"Topic6\", \"Topic6\", \"Topic6\", \"Topic6\", \"Topic6\", \"Topic6\", \"Topic6\", \"Topic6\", \"Topic6\", \"Topic6\", \"Topic6\", \"Topic6\", \"Topic6\", \"Topic6\", \"Topic6\", \"Topic6\", \"Topic6\", \"Topic6\", \"Topic6\", \"Topic6\", \"Topic6\", \"Topic6\", \"Topic6\", \"Topic6\", \"Topic6\", \"Topic6\", \"Topic6\", \"Topic6\", \"Topic6\", \"Topic6\"], \"Total\": [521.0, 1661.0, 156.0, 131.0, 117.0, 149.0, 183.0, 385.0, 91.0, 172.0, 112.0, 112.0, 248.0, 277.0, 144.0, 147.0, 158.0, 1592.0, 317.0, 114.0, 125.0, 125.0, 68.0, 296.0, 140.0, 204.0, 59.0, 99.0, 116.0, 66.0, 53.787817503435654, 12.712273644882837, 144.14826622270095, 19.33547174490212, 61.70968994066658, 12.351024824253555, 13.12494095785562, 55.16268374481107, 13.288564811853064, 13.293772248038493, 41.276786949016746, 248.32824008254033, 7.375026739383186, 7.468566552021447, 28.51278140677281, 32.52377101200509, 277.3134708783199, 15.544633584530182, 57.252031896521494, 204.81411047516804, 21.859374035373857, 27.5321086657109, 20.78550906210368, 21.772571656959006, 36.541392039352466, 12.148528253526354, 36.34749129809358, 9.811880264525751, 14.86111628418703, 16.51701127397652, 31.968877381621574, 24.873247048572363, 32.421891048760926, 102.12212165885954, 218.5470409510916, 1592.2279445010477, 274.1953939192546, 149.9764596001, 91.81901531851365, 186.55183253570482, 125.19398064454492, 1661.5911005098478, 125.18853725866973, 87.59453868330922, 61.34235633697652, 282.8943085152976, 234.44511413946213, 385.962608113429, 521.5571597025188, 317.30919653865516, 138.1171278839014, 172.6744577951865, 114.93173366212913, 294.92536320863263, 296.28003643033855, 193.396296259822, 11.788712728596469, 11.112123897337888, 9.75575744146194, 54.55917501080658, 48.498636174714065, 158.8965939973035, 66.57211776756688, 8.609330196082002, 24.476798673941012, 36.25958297962677, 14.618597080592968, 28.11989016491494, 8.893972936894157, 37.03967135496741, 8.19789370037512, 37.5710060805573, 20.377252210936195, 64.9652284546568, 10.757647849323513, 10.016637329024446, 15.072797206019219, 21.482691116583727, 13.47209043828548, 60.010709853945194, 17.478263499128875, 26.989790580518555, 34.60627975652801, 116.05251731495699, 25.500837681573106, 12.230997366646742, 132.62310117228887, 294.92536320863263, 220.68173251172533, 56.56455412661343, 193.396296259822, 1592.2279445010477, 138.1171278839014, 282.8943085152976, 71.82768299194657, 140.45471344021817, 1661.5911005098478, 153.491508699005, 385.962608113429, 142.01347346758394, 186.55183253570482, 172.6744577951865, 521.5571597025188, 317.30919653865516, 100.9675294522951, 234.44511413946213, 125.18853725866973, 183.09414337100026, 125.19398064454492, 142.81608049887998, 296.28003643033855, 26.691472870033962, 7.110577616631982, 26.70940269063971, 8.148439300297415, 21.40358232661884, 183.09414337100026, 9.327186058412936, 22.979889142760484, 21.214383664999474, 44.27353187427699, 20.75576354978427, 15.176312027708633, 23.14197211210015, 10.086135890322977, 20.91076224652505, 22.671646256351277, 18.04665448685137, 33.76914922661786, 13.109844509364875, 13.612412906934402, 21.75308463080501, 16.605573994857114, 14.289333251457837, 21.477883681053207, 50.224675087836516, 18.716069754370142, 14.874094051384859, 51.2035753304896, 9.815472824385848, 29.19188111167092, 81.32172301248059, 140.45471344021817, 1661.5911005098478, 296.28003643033855, 33.66840832365406, 127.38784957170826, 234.44511413946213, 34.28019481350126, 142.81608049887998, 274.1953939192546, 142.01347346758394, 151.8666618088156, 294.92536320863263, 58.98505212338015, 277.3134708783199, 1592.2279445010477, 149.9764596001, 57.075665172469755, 78.58737905792633, 317.30919653865516, 68.875335045465, 153.491508699005, 385.962608113429, 220.68173251172533, 147.22031584318518, 158.8965939973035, 118.01745158902028, 131.53717251290237, 149.91993721615762, 10.266384717091423, 25.70907728215599, 27.716301657624392, 18.008202939808495, 18.12559978778958, 7.222231435645614, 17.007212217543984, 147.22031584318518, 27.365378830313713, 15.252587251568652, 14.121488190475423, 26.321194996042927, 114.93173366212913, 31.438108270717162, 7.319793748094077, 38.444812110867154, 17.227154997549473, 14.876486060795171, 118.01745158902028, 16.90372883988119, 9.402197609229306, 26.122264937600594, 17.73780849298562, 9.826586211255666, 13.98850648761291, 28.78834857901761, 16.521631400996252, 22.62648729111191, 317.30919653865516, 28.989601130985786, 28.61036246431551, 104.16925707704505, 153.491508699005, 30.142698503368408, 296.28003643033855, 73.79996764591712, 1592.2279445010477, 57.075665172469755, 385.962608113429, 1661.5911005098478, 193.396296259822, 59.81670309556626, 85.74066976039865, 282.8943085152976, 151.8666618088156, 521.5571597025188, 100.9675294522951, 149.9764596001, 142.01347346758394, 220.68173251172533, 138.1171278839014, 204.81411047516804, 218.5470409510916, 274.1953939192546, 27.67933229878992, 15.314736468995738, 15.341409143243142, 17.018871188817776, 17.019055370674888, 17.565665867722704, 22.31423262475805, 12.781842467775368, 14.272651261680977, 59.68048283241362, 8.059732357879255, 17.901607413047476, 68.875335045465, 47.46226074356348, 41.68467270685598, 33.06425417658627, 43.47850588225977, 29.598021942093037, 18.298845139780592, 25.556186463136175, 20.38546099957601, 8.76481349008267, 13.764979240288103, 33.765126270562625, 10.933473476141945, 27.55200944878626, 18.14531769020048, 14.58740541954028, 19.168802685370494, 21.046572671770022, 21.91710595684052, 33.81585727966094, 21.98159392289892, 45.6356622524908, 46.673296032975, 72.4859056820646, 91.92707101586488, 47.748474769035596, 521.5571597025188, 105.5864622170485, 117.75852013587644, 1661.5911005098478, 80.15702890780456, 112.67731120088658, 112.65296286107686, 156.05395746259188, 218.5470409510916, 248.32824008254033, 1592.2279445010477, 204.81411047516804, 282.8943085152976, 142.01347346758394, 17.978686979134505, 25.508155057766164, 18.828565499846007, 28.034184249726444, 117.75852013587644, 91.92707101586488, 10.660019066001237, 156.05395746259188, 20.03564744658804, 112.65296286107686, 112.67731120088658, 28.126979237330453, 20.259680137053977, 12.516028773665806, 18.68076112501006, 13.00899430146504, 14.568757864114248, 15.770689117377104, 46.809411638830994, 14.838514716645442, 9.809877395568021, 7.687234357164314, 17.203863122057268, 27.778576948941364, 12.717825771876104, 172.6744577951865, 99.3678672936888, 13.378844360094513, 24.511461314775694, 13.018079962629278, 15.830247179939473, 521.5571597025188, 125.19398064454492, 125.18853725866973, 385.962608113429, 33.765126270562625, 70.11408342546935, 116.05251731495699, 35.14119466535361, 105.5864622170485, 66.57211776756688, 85.74066976039865, 220.68173251172533, 71.82768299194657, 57.426102014472995, 1661.5911005098478, 1592.2279445010477, 296.28003643033855, 294.92536320863263, 234.44511413946213, 127.38784957170826], \"loglift\": [30.0, 29.0, 28.0, 27.0, 26.0, 25.0, 24.0, 23.0, 22.0, 21.0, 20.0, 19.0, 18.0, 17.0, 16.0, 15.0, 14.0, 13.0, 12.0, 11.0, 10.0, 9.0, 8.0, 7.0, 6.0, 5.0, 4.0, 3.0, 2.0, 1.0, 1.4045, 1.2968, 1.2961, 1.2542, 1.2462, 1.2422, 1.2196, 1.2132, 1.166, 1.1659, 1.1605, 1.1212, 1.1132, 1.1047, 1.0909, 1.0767, 1.0727, 1.034, 1.0269, 1.0098, 0.9919, 0.9715, 0.9672, 0.9513, 0.9491, 0.9404, 0.9386, 0.9347, 0.9299, 0.9278, 0.9267, 0.9206, 0.9031, 0.8046, 0.7329, 0.4617, 0.6542, 0.5735, 0.6686, 0.5084, 0.5227, -0.176, 0.522, 0.6055, 0.6886, 0.0792, 0.1405, -0.0696, -0.2995, -0.1851, 0.2218, -0.1518, 0.1091, -0.663, -0.703, -0.3579, 1.3672, 1.3599, 1.3413, 1.3267, 1.2678, 1.2441, 1.197, 1.1809, 1.1712, 1.1583, 1.1545, 1.1532, 1.1468, 1.1313, 1.1215, 1.1107, 1.0856, 1.0787, 1.0656, 1.0318, 1.0278, 1.0198, 1.0153, 1.0139, 0.9971, 0.9887, 0.9654, 0.9612, 0.9403, 0.9363, 0.8855, 0.7459, 0.7485, 0.8548, 0.6931, 0.4121, 0.7284, 0.6017, 0.7248, 0.537, -0.3872, 0.3905, 0.0509, 0.3668, 0.2249, 0.2444, -0.2518, -0.108, 0.4069, -0.1084, 0.2505, -0.0245, 0.2501, 0.1393, -0.5941, 1.5491, 1.535, 1.529, 1.4913, 1.4023, 1.367, 1.3632, 1.3309, 1.3206, 1.3143, 1.3011, 1.2937, 1.2867, 1.2778, 1.2637, 1.2604, 1.2566, 1.2563, 1.2517, 1.2434, 1.2108, 1.2057, 1.1956, 1.1935, 1.1926, 1.1491, 1.1316, 1.1232, 1.1179, 1.1167, 1.0699, 1.0319, 0.7822, 0.803, 1.0786, 0.8463, 0.7177, 1.0268, 0.6563, 0.4603, 0.5967, 0.5497, 0.2363, 0.8275, 0.1458, -0.7869, 0.3102, 0.77, 0.5972, -0.2139, 0.6356, 0.1335, -0.5832, -0.2365, 0.0006, -0.0823, 0.1007, 1.7418, 1.6648, 1.6349, 1.5785, 1.5727, 1.5683, 1.562, 1.4879, 1.483, 1.4396, 1.4305, 1.4232, 1.4076, 1.3972, 1.3915, 1.38, 1.3657, 1.3189, 1.3082, 1.2932, 1.2377, 1.219, 1.2076, 1.199, 1.1955, 1.1871, 1.1856, 1.1778, 1.163, 1.1578, 0.9937, 1.1208, 1.1208, 1.002, 0.811, 1.1029, 0.5342, 0.8446, -0.1008, 0.87, 0.1959, -0.3324, 0.4062, 0.8382, 0.6763, 0.1768, 0.4275, -0.1387, 0.5686, 0.2973, 0.2664, -0.0981, 0.1911, -0.2383, -0.3272, -0.5981, 2.1922, 2.1696, 2.0949, 2.0686, 2.0686, 1.9923, 1.9345, 1.9236, 1.9139, 1.8768, 1.8179, 1.8135, 1.8129, 1.8101, 1.8087, 1.7902, 1.7673, 1.7632, 1.7629, 1.7545, 1.7403, 1.7336, 1.7331, 1.7017, 1.6919, 1.6787, 1.6784, 1.6752, 1.6558, 1.6523, 1.6466, 1.6111, 1.6366, 1.5156, 1.494, 1.4057, 1.2487, 1.4229, 0.5861, 1.117, 1.0008, -0.1061, 1.1582, 0.9672, 0.967, 0.7563, 0.507, 0.1855, -1.1374, 0.0847, -0.2084, 0.1071, 2.2924, 2.0507, 1.9606, 1.9601, 1.9501, 1.9247, 1.8617, 1.8482, 1.6977, 1.6768, 1.6758, 1.5463, 1.5374, 1.5177, 1.5156, 1.4887, 1.4796, 1.4791, 1.4785, 1.474, 1.4653, 1.4639, 1.4225, 1.4122, 1.3942, 1.3927, 1.3855, 1.3777, 1.377, 1.3708, 1.3687, 1.1746, 1.1533, 1.1532, 0.9391, 1.217, 1.0582, 0.8919, 1.1874, 0.8131, 0.9576, 0.806, 0.3764, 0.8473, 0.925, -0.9189, -1.3074, -0.3717, -0.3868, -0.3173, 0.1753], \"Freq\": [521.0, 1661.0, 156.0, 131.0, 117.0, 149.0, 183.0, 385.0, 91.0, 172.0, 112.0, 112.0, 248.0, 277.0, 144.0, 147.0, 158.0, 1592.0, 317.0, 114.0, 125.0, 125.0, 68.0, 296.0, 140.0, 204.0, 59.0, 99.0, 116.0, 66.0, 51.99765871826534, 11.035264949279147, 125.04230937925199, 16.084261093491452, 50.92363064302235, 10.151508631415068, 10.546220899477987, 44.041775847452875, 10.121025853679244, 10.124224014881511, 31.263564077425148, 180.83729362204687, 5.328236809292139, 5.350108124854531, 20.14552726532789, 22.654553989596707, 192.39737293627624, 10.374868963147678, 37.94342680259274, 133.4273534045882, 13.988184783397047, 17.262399522765705, 12.97629970215344, 13.378766174514338, 22.404441258126358, 7.384171457381411, 22.05301048814253, 5.930037913396347, 8.938155190817518, 9.913440646493912, 19.165891119611707, 14.821388403852866, 18.983909428647113, 54.18643066873824, 107.9437147642348, 599.6246630579452, 125.17791530257003, 63.16008702853981, 42.52531279056853, 73.60857688489531, 50.10945073524993, 330.6932122884951, 50.07652133989223, 38.087689147037274, 28.983360197687116, 72.67368826366041, 64.03203311547477, 85.44169556644778, 91.743210474917, 62.582512724606886, 40.92009346968021, 35.209611388501166, 30.420906925755936, 36.069170676311536, 34.81422534369559, 32.09043699124578, 10.318627554272652, 9.65581383056729, 8.32060968160559, 45.8624925514476, 38.4356999733631, 122.97428529370049, 49.15327834249751, 6.254918240424324, 17.612216504607446, 25.75579310395266, 10.344636304311228, 19.872258687322855, 6.244861904405018, 25.60812735499599, 5.612399335656856, 25.445848742570888, 13.459515012114501, 42.61223358899787, 6.96480009328841, 6.26962760177984, 9.396222523458887, 13.28500229478651, 8.294389664003583, 36.89243724396108, 10.566145205627693, 16.180416257697864, 20.26790916024777, 67.68221107052828, 14.564993664522522, 6.958074361856919, 71.70953725498676, 138.69504956860902, 104.05205686958693, 29.659407855187027, 86.26595003047349, 536.276832347541, 63.82625599763024, 115.1714455886038, 33.073528223807344, 53.59805096050597, 251.63617660769188, 50.59009419556162, 90.58227653786335, 45.71027941093644, 52.10351909308623, 49.17881773594922, 90.43573678792043, 63.52772693659471, 33.828322134696336, 46.92099557563007, 35.87309751610454, 39.85124746371729, 35.858116932877046, 36.615788650576015, 36.48164174170525, 23.48150324142225, 6.168236134633179, 23.030727804686165, 6.765893041315878, 16.258227946349734, 134.26566361628028, 6.813370836972157, 16.25276030170415, 14.850742919314374, 30.7981495251589, 14.249968000717493, 10.342461307956377, 15.659723717417533, 6.76505050349466, 13.828475178864885, 14.944247871970527, 11.850474828372182, 22.166937553020798, 8.566420287399357, 8.821247549898667, 13.644825855980876, 10.363047745986673, 8.827380230076049, 13.240984703847747, 30.936145833335026, 11.037131588557573, 8.61897149081043, 29.42427414994915, 5.610396197034735, 16.665847839943385, 44.30504605495966, 73.66777906074778, 678.9347169972417, 123.59995580755917, 18.50274104698821, 55.49491286147214, 89.80773019854621, 17.888196543783355, 51.45142793238606, 81.19968634194169, 48.200569668634905, 49.18085309398645, 69.81461486134813, 25.217927281997383, 59.962171827817734, 135.46686897463744, 38.225526617153704, 23.038834539974474, 26.688159129121924, 47.88424623560046, 24.30529950015677, 32.782102661325425, 40.26000714356619, 32.5584899658516, 27.530385005615276, 27.350823498259082, 24.39416738491784, 119.85862633926577, 126.48625135343184, 8.406354291843641, 19.89631766201193, 21.326652920281553, 13.794921423409534, 13.798251426565244, 5.104992105837624, 11.963285637568081, 99.15703152237238, 18.264374171449155, 10.106168870289192, 9.211842330577376, 16.992407781963337, 73.7771827875492, 19.949949185590427, 4.578813599099198, 22.94983247028578, 10.174174008372638, 8.655066456845997, 64.95832088093, 9.131370523831462, 5.021452674682436, 13.832514330905221, 9.359653928679013, 5.14176599930238, 7.308725092607011, 14.924510152196552, 8.43939194465431, 11.497445660027733, 136.82906787066295, 14.195674306868861, 14.00961753261217, 45.29754086480807, 55.13645613868005, 14.498518231564413, 80.69893355909153, 27.417939812043052, 229.80899421670722, 21.749010772668655, 74.95385583194287, 190.25635125560785, 46.348187103467815, 22.079900614958397, 26.919199501409796, 53.89588038277104, 37.178450431348985, 72.4820159047959, 28.46295757703313, 32.2340316661928, 29.593720062455297, 31.93999745529505, 26.692017106442155, 25.76587898282825, 25.153841731249234, 24.069385416366416, 24.46818356145189, 13.235484060473055, 12.30454328202405, 13.296470659892144, 13.296248265529933, 12.714903337409162, 15.245108257488733, 8.638078053884799, 9.552378679623088, 38.487066926065744, 4.900310160570257, 10.836432171973659, 41.667225435008234, 28.632133858139404, 25.111578538396508, 19.55440843313321, 25.12981891963168, 17.03869756016902, 10.530816828539612, 14.584495913375115, 11.468617462179369, 4.898055890444207, 7.688604243437618, 18.277474593023793, 5.8605953696712945, 14.57506841418429, 9.59640871980704, 7.6899138429660026, 9.911131112373635, 10.843592259553393, 11.228050447925158, 16.719642521073165, 11.149118645242556, 20.508937166345106, 20.526362775507817, 29.183692094092386, 31.635276563596452, 19.55822148556167, 92.52634142998029, 31.849389768465645, 31.626083589369415, 147.51429367361365, 25.196033808329663, 29.2622438045923, 29.24776390984542, 32.82026853083392, 35.82004903788772, 29.51113948771132, 50.403579557554146, 22.006482170234143, 22.673930108335362, 15.603802058998333, 16.793947282259932, 18.711805057384918, 12.620821253687662, 18.78277333793255, 78.11259601020585, 59.449356741453414, 6.4728465696132655, 93.48620945787188, 10.325707022125597, 56.858533288517386, 56.809329747785874, 12.458659254433496, 8.89423668307508, 5.387893518971931, 8.024753493693135, 5.4399287756522625, 6.036781639316798, 6.531856032012955, 19.374580229686245, 6.114205710430558, 4.00724405031317, 3.1356826104357736, 6.732963909260316, 10.760329279870765, 4.838749343770418, 65.59765030157733, 37.477293380851535, 5.006970471110936, 9.166885368322614, 4.83813864782104, 5.871065621547106, 159.30894373360152, 37.43274349786085, 37.42819033439017, 93.15252209900046, 10.760562156016018, 19.062215049325854, 26.71997313133894, 10.872026728561238, 22.466663304388, 16.36799072273315, 18.114791789404567, 30.34109862833887, 15.814816147523956, 13.665939438561395, 62.55634968719773, 40.64700634666264, 19.280034447295545, 18.903194462304956, 16.107868068485274, 14.32392084091832], \"logprob\": [30.0, 29.0, 28.0, 27.0, 26.0, 25.0, 24.0, 23.0, 22.0, 21.0, 20.0, 19.0, 18.0, 17.0, 16.0, 15.0, 14.0, 13.0, 12.0, 11.0, 10.0, 9.0, 8.0, 7.0, 6.0, 5.0, 4.0, 3.0, 2.0, 1.0, -4.608799934387207, -6.158899784088135, -3.7314000129699707, -5.782199859619141, -4.629700183868408, -6.242400169372559, -6.2042999267578125, -4.774899959564209, -6.2453999519348145, -6.245100021362305, -5.117599964141846, -3.3624000549316406, -6.88700008392334, -6.882900238037109, -5.557000160217285, -5.439700126647949, -3.30049991607666, -6.220600128173828, -4.923900127410889, -3.6665000915527344, -5.921800136566162, -5.71150016784668, -5.9969000816345215, -5.966400146484375, -5.450799942016602, -6.560699939727783, -5.466599941253662, -6.78000020980835, -6.369699954986572, -6.26609992980957, -5.606900215148926, -5.863999843597412, -5.616399765014648, -4.567599773406982, -3.8784000873565674, -2.1637001037597656, -3.730299949645996, -4.414400100708008, -4.809899806976318, -4.261300086975098, -4.6458001136779785, -2.7588000297546387, -4.646500110626221, -4.920100212097168, -5.193299770355225, -4.274099826812744, -4.400599956512451, -4.112199783325195, -4.040999889373779, -4.423500061035156, -4.848400115966797, -4.998700141906738, -5.144899845123291, -4.974599838256836, -5.010000228881836, -5.0914998054504395, -6.164000034332275, -6.230400085449219, -6.379199981689453, -4.672299861907959, -4.848999977111816, -3.686000108718872, -4.603000164031982, -6.664599895477295, -5.62939977645874, -5.249300003051758, -6.161499977111816, -5.508600234985352, -6.666200160980225, -5.255099773406982, -6.7729997634887695, -5.26140022277832, -5.8983001708984375, -4.745800018310547, -6.55709981918335, -6.662300109863281, -6.257699966430664, -5.911300182342529, -6.382400035858154, -4.889999866485596, -6.1402997970581055, -5.714200019836426, -5.488900184631348, -4.283100128173828, -5.819300174713135, -6.55810022354126, -4.225299835205078, -3.565700054168701, -3.853100061416626, -5.1082000732421875, -4.040500164031982, -2.2132999897003174, -4.341800212860107, -3.751499891281128, -4.999199867248535, -4.516499996185303, -2.9700000286102295, -4.57420015335083, -3.9916999340057373, -4.675600051879883, -4.5447001457214355, -4.602499961853027, -3.993299961090088, -4.346499919891357, -4.9766998291015625, -4.649499893188477, -4.918000221252441, -4.81279993057251, -4.918399810791016, -4.897500038146973, -4.901199817657471, -5.164899826049805, -6.501699924468994, -5.184299945831299, -6.409200191497803, -5.53249979019165, -3.421299934387207, -6.402200222015381, -5.532899856567383, -5.6230998039245605, -4.893700122833252, -5.664400100708008, -5.984899997711182, -5.570000171661377, -6.40939998626709, -5.694399833679199, -5.616799831390381, -5.848800182342529, -5.222499847412109, -6.173299789428711, -6.144000053405762, -5.707799911499023, -5.982900142669678, -6.1433000564575195, -5.737800121307373, -4.889200210571289, -5.919899940490723, -6.167200088500977, -4.939300060272217, -6.596499919891357, -5.507800102233887, -4.53000020980835, -4.021599769592285, -1.8006000518798828, -3.5041000843048096, -5.403200149536133, -4.304800033569336, -3.823499917984009, -5.436999797821045, -4.380499839782715, -3.9242000579833984, -4.445799827575684, -4.425600051879883, -4.075300216674805, -5.093599796295166, -4.227399826049805, -3.412400007247925, -4.677599906921387, -5.183899879455566, -5.036900043487549, -4.452300071716309, -5.13040018081665, -4.831200122833252, -4.625800132751465, -4.838099956512451, -5.005799770355225, -5.012400150299072, -5.126800060272217, -3.37719988822937, -3.3234000205993652, -6.034599781036377, -5.172999858856201, -5.103600025177002, -5.5391998291015625, -5.539000034332275, -6.533299922943115, -5.681700229644775, -3.566800117492676, -5.258600234985352, -5.850399971008301, -5.9430999755859375, -5.3308000564575195, -3.862499952316284, -5.170300006866455, -6.642099857330322, -5.030200004577637, -5.843699932098389, -6.00540018081665, -3.989799976348877, -5.9517998695373535, -6.549799919128418, -5.536499977111816, -5.92710018157959, -6.526199817657471, -6.174499988555908, -5.4604997634887695, -6.030600070953369, -5.721399784088135, -3.244800090789795, -5.5106000900268555, -5.523799896240234, -4.350299835205078, -4.15369987487793, -5.489500045776367, -3.7727999687194824, -4.85230016708374, -2.726300001144409, -5.084000110626221, -3.8466999530792236, -2.9151999950408936, -4.327400207519531, -5.068900108337402, -4.870699882507324, -4.176499843597412, -4.547800064086914, -3.880199909210205, -4.814899921417236, -4.690499782562256, -4.776000022888184, -4.699699878692627, -4.879199981689453, -4.9145002365112305, -4.938499927520752, -4.982600212097168, -4.485499858856201, -5.099999904632568, -5.172900199890137, -5.095399856567383, -5.095399856567383, -5.140100002288818, -4.958600044250488, -5.526700019836426, -5.42609977722168, -4.032599925994873, -6.093599796295166, -5.300000190734863, -3.953200101852417, -4.3282999992370605, -4.459499835968018, -4.709700107574463, -4.458799839019775, -4.847400188446045, -5.32859992980957, -5.002900123596191, -5.243299961090088, -6.093999862670898, -5.643099784851074, -4.777200222015381, -5.914599895477295, -5.003600120544434, -5.421500205993652, -5.64300012588501, -5.389200210571289, -5.299300193786621, -5.264500141143799, -4.866300106048584, -5.271500110626221, -4.6620001792907715, -4.661200046539307, -4.309299945831299, -4.228600025177002, -4.709499835968018, -3.155400037765503, -4.22189998626709, -4.228899955749512, -2.688999891281128, -4.456200122833252, -4.306600093841553, -4.30709981918335, -4.191800117492676, -4.104400157928467, -4.298099994659424, -3.7627999782562256, -4.5914998054504395, -4.561699867248535, -4.935400009155273, -4.816699981689453, -4.708600044250488, -5.102399826049805, -4.704800128936768, -3.279599905014038, -3.5525999069213867, -5.770100116729736, -3.099900007247925, -5.303100109100342, -3.5971999168395996, -3.598099946975708, -5.115300178527832, -5.452400207519531, -5.95359992980957, -5.555200099945068, -5.943999767303467, -5.839900016784668, -5.761099815368652, -4.673799991607666, -5.827099800109863, -6.24970006942749, -6.494900226593018, -5.7307000160217285, -5.261899948120117, -6.061100006103516, -3.454200029373169, -4.013999938964844, -6.026899814605713, -5.4222002029418945, -6.061200141906738, -5.867700099945068, -2.5669000148773193, -4.015200138092041, -4.0152997970581055, -3.1034998893737793, -5.261899948120117, -4.690100193023682, -4.352399826049805, -5.2515997886657715, -4.525700092315674, -4.842400074005127, -4.741000175476074, -4.225299835205078, -4.876800060272217, -5.022900104522705, -3.501699924468994, -3.932800054550171, -4.678699970245361, -4.698400020599365, -4.858500003814697, -4.975800037384033], \"Term\": [\"notice\", \"order\", \"abovecaptioned\", \"calendar\", \"official_notice_give\", \"redaction\", \"send\", \"request\", \"official_conference\", \"endorsed_letter_address\", \"deadline_release\", \"view_public_terminal_purchase\", \"conference_hold\", \"due\", \"withdraw\", \"hold\", \"notice_appearance\", \"motion\", \"dismiss\", \"redact_deadline\", \"remotely_electronically_available_public\", \"without_redaction_calendar\", \"disclose\", \"amend_complaint\", \"release\", \"complaint\", \"notice_appeal\", \"terminate\", \"minute_entry_hold\", \"discovery_hear_hold\", \"endorsement_application_grant\", \"withdrawal\", \"withdraw\", \"prejudice\", \"minute_entry_hold_telephone\", \"united_state_courthouse_pearl\", \"crossclaims\", \"dismissal\", \"deficiency\", \"pro_hac_vice\", \"dismiss..\", \"conference_hold\", \"co\", \"flasr\", \"rule_federal_rule\", \"period\", \"due\", \"thereafter\", \"courtroom\", \"complaint\", \"cost\", \"however\", \"endorsed_letter\", \"without\", \"responsive\", \"discovery_protocol\", \"adjourn\", \"affect\", \"limine_preclude_introduce_evidence\", \"third_complaint\", \"appendix\", \"certify\", \"counterclaim\", \"declaration_support\", \"grant\", \"motion\", \"discovery\", \"answer\", \"leave\", \"stipulation\", \"remotely_electronically_available_public\", \"order\", \"without_redaction_calendar\", \"memorandum_law_opposition\", \"extension\", \"schedule\", \"conference\", \"request\", \"notice\", \"dismiss\", \"memorandum_law_support\", \"endorsed_letter_address\", \"redact_deadline\", \"letter\", \"amend_complaint\", \"endorsement\", \"stillwater_market_neutral_balentine\", \"alternative_investment_sgr_spa\", \"rule_rule_..\", \"service\", \"affidavit_service\", \"notice_appearance\", \"discovery_hear_hold\", \"brooklyn\", \"partial_summary_judgment\", \"consent\", \"initial_conference\", \"stipulate_agree\", \"corp..\", \"proceed\", \"dismissal_without_prejudice\", \"answer_due_answer_due\", \"adjournment\", \"declaration_opposition\", \"summary_judgment_favor\", \"application_grant\", \"offer\", \"effect\", \"meet_confer\", \"approve\", \"advise\", \"courtroom_pearl_street_new\", \"practice\", \"minute_entry_hold\", \"pretrial\", \"error_deficient_entry\", \"summary_judgment\", \"letter\", \"serve\", \"complete\", \"endorsement\", \"motion\", \"memorandum_law_support\", \"schedule\", \"brief\", \"release\", \"order\", \"rule\", \"request\", \"deposition\", \"stipulation\", \"endorsed_letter_address\", \"notice\", \"dismiss\", \"propose\", \"conference\", \"without_redaction_calendar\", \"send\", \"remotely_electronically_available_public\", \"support\", \"amend_complaint\", \"longer_assigned\", \"oral_argument_pm\", \"summary\", \"rule_certificate\", \"give\", \"send\", \"dec\", \"confer\", \"limit\", \"service_accept\", \"agent\", \"next\", \"week\", \"admission\", \"stipulate\", \"list\", \"thirdparty\", \"also\", \"g.c\", \"specific\", \"subject\", \"entirety\", \"connection\", \"via\", \"memorandum\", \"relief\", \"email\", \"note\", \"certificate\", \"ordered\", \"comply_discovery_ruling_conference\", \"release\", \"order\", \"amend_complaint\", \"show_cause\", \"reply\", \"conference\", \"herein\", \"support\", \"discovery\", \"deposition\", \"issue\", \"letter\", \"settlement\", \"due\", \"motion\", \"answer\", \"telephone_conference\", \"address\", \"dismiss\", \"disclose\", \"rule\", \"request\", \"serve\", \"hold\", \"notice_appearance\", \"revise_schedule\", \"calendar\", \"redaction\", \"answer_due_purs\", \"discovery_complete\", \"third\", \"unredacted\", \"electronic_filing\", \"service_accept_legal\", \"u.s.c\", \"hold\", \"relevant\", \"note_refile\", \"compel\", \"status_report\", \"redact_deadline\", \"redact\", \"nonecf_error\", \"provision\", \"extent\", \"appearance\", \"revise_schedule\", \"limited\", \"iii\", \"instruction\", \"reset\", \"p.\", \"united_state\", \"a.m\", \"amendment\", \"renew\", \"dismiss\", \"confidentiality\", \"reason\", \"deny\", \"rule\", \"indicate\", \"amend_complaint\", \"respond\", \"motion\", \"telephone_conference\", \"request\", \"order\", \"endorsement\", \"appear_pro_hac_vice\", \"opposition\", \"schedule\", \"issue\", \"notice\", \"propose\", \"answer\", \"deposition\", \"serve\", \"memorandum_law_support\", \"complaint\", \"grant\", \"discovery\", \"l.p..\", \"responsible_courtesy_individual_practice\", \"wellington\", \"hedge_strategy_ibex_absolute\", \"magnum_growth_magnum_special\", \"occur\", \"change\", \"civil_cover_sheet\", \"assign\", \"notice_appeal\", \"rule_deposition_objection\", \"client\", \"disclose\", \"use\", \"objection\", \"previously\", \"upon\", \"select\", \"name\", \"error\", \"say\", \"incorrectly\", \"aim_exploration\", \"call\", \"person\", \"question\", \"refile\", \"newvest_portfolio_newvest\", \"strike\", \"result\", \"notice_change_address\", \"crossclaim\", \"new\", \"testimony\", \"need\", \"letter_address\", \"official_conference\", \"agree\", \"notice\", \"response\", \"official_notice_give\", \"order\", \"report\", \"view_public_terminal_purchase\", \"deadline_release\", \"abovecaptioned\", \"grant\", \"conference_hold\", \"motion\", \"complaint\", \"schedule\", \"deposition\", \"notice_reassignment\", \"establish\", \"plan\", \"official\", \"official_notice_give\", \"official_conference\", \"find\", \"abovecaptioned\", \"endorse\", \"deadline_release\", \"view_public_terminal_purchase\", \"represent\", \"jointly\", \"determine\", \"please\", \"inform\", \"hereto\", \"transaction\", \"serve_answer_due\", \"new_address\", \"assignment\", \"bond\", \"certain\", \"portion\", \"dated\", \"endorsed_letter_address\", \"terminate\", \"undersigned\", \"affidavit\", \"consistent\", \"promptly\", \"notice\", \"remotely_electronically_available_public\", \"without_redaction_calendar\", \"request\", \"call\", \"deadline\", \"minute_entry_hold\", \"law\", \"response\", \"discovery_hear_hold\", \"opposition\", \"serve\", \"brief\", \"production\", \"order\", \"motion\", \"amend_complaint\", \"letter\", \"conference\", \"reply\"]}, \"token.table\": {\"Freq\": [0.10420882572564617, 0.03473627524188206, 0.2778902019350565, 0.5210441286282309, 0.03473627524188206, 0.1537929597572244, 0.0256321599595374, 0.00640803998988435, 0.00640803998988435, 0.21146531966618354, 0.5959477190592445, 0.21631972212063966, 0.35629130702223005, 0.3435666174857218, 0.012724689536508215, 0.07634813721904929, 0.6052687328424753, 0.27512215129203427, 0.027512215129203425, 0.027512215129203425, 0.05502443025840685, 0.19629732009957918, 0.6379662903236324, 0.09814866004978959, 0.049074330024894794, 0.09914599712655449, 0.09914599712655449, 0.6940219798858814, 0.09914599712655449, 0.05721392174055737, 0.6293531391461311, 0.05721392174055737, 0.11442784348111475, 0.17164176522167213, 0.6115035893469503, 0.30575179467347513, 0.10191726489115836, 0.20398620611762394, 0.2447834473411487, 0.04079724122352479, 0.12239172367057435, 0.04079724122352479, 0.3671751710117231, 0.06185740954019079, 0.7835271875090833, 0.04123827302679386, 0.08247654605358772, 0.1927175548326949, 0.048179388708173725, 0.6745114419144321, 0.048179388708173725, 0.18848769606849117, 0.2094307734094346, 0.12565846404566078, 0.06282923202283039, 0.4188615468188692, 0.1452962598117322, 0.2905925196234644, 0.5811850392469288, 0.17767696662226298, 0.05922565554075433, 0.6514822109482976, 0.029612827770377166, 0.05922565554075433, 0.029612827770377166, 0.8999179717925646, 0.08999179717925646, 0.11813148270700044, 0.12150666792720045, 0.41852296730480154, 0.273390002836201, 0.0033751852202000125, 0.06412851918380023, 0.42368697316282583, 0.4842136836146581, 0.420065923465485, 0.08001255685056857, 0.25337309669346714, 0.21336681826818285, 0.020003139212642143, 0.006667713070880714, 0.29277895769984225, 0.665406722045096, 0.02661626888180384, 0.7792421792533882, 0.09740527240667353, 0.16717738495255216, 0.2842015544193387, 0.13374190796204175, 0.3677902468956148, 0.033435476990510436, 0.33610087621274876, 0.06722017524254975, 0.6049815771829478, 0.5943280326422351, 0.06256084554128791, 0.031280422770643954, 0.31280422770643956, 0.5990034183042904, 0.2995017091521452, 0.09983390305071506, 0.16663692238165692, 0.6165566128121306, 0.04999107671449708, 0.11664584566715985, 0.033327384476331386, 0.016663692238165693, 0.07006406740174383, 0.07006406740174383, 0.14012813480348765, 0.7006406740174382, 0.07006406740174383, 0.1019380731966933, 0.1019380731966933, 0.3058142195900799, 0.4077522927867732, 0.13008579594923167, 0.13008579594923167, 0.13008579594923167, 0.13008579594923167, 0.390257387847695, 0.12529987917066868, 0.4594328902924518, 0.0417666263902229, 0.12529987917066868, 0.02784441759348193, 0.22275534074785544, 0.11615305456109552, 0.6969183273665731, 0.11615305456109552, 0.007602413681971998, 0.06842172313774798, 0.9122896418366397, 0.007602413681971998, 0.05923271199917459, 0.029616355999587295, 0.05923271199917459, 0.5330944079925714, 0.32577991599546025, 0.232505918677739, 0.05812647966943475, 0.232505918677739, 0.05812647966943475, 0.4068853576860432, 0.10187996216703597, 0.6112797730022159, 0.20375992433407195, 0.10187996216703597, 0.6030575730908019, 0.08040767641210692, 0.04020383820605346, 0.04020383820605346, 0.24122302923632075, 0.1344433416308229, 0.0896288944205486, 0.0448144472102743, 0.0448144472102743, 0.6722167081541144, 0.234707946648801, 0.704123839946403, 0.078235982216267, 0.11172181100018495, 0.2234436220003699, 0.05586090550009248, 0.6144699605010172, 0.6779636436163182, 0.13559272872326367, 0.13559272872326367, 0.28325626492382694, 0.07081406623095673, 0.6373265960786106, 0.6493693217300334, 0.053707237135566674, 0.05858971323880001, 0.1269443786840667, 0.10741447427113335, 0.004882476103233334, 0.17678915982641918, 0.5303674794792576, 0.15911024384377725, 0.08839457991320959, 0.053036747947925754, 0.01767891598264192, 0.07378102403313773, 0.2582335841159821, 0.5410608429096767, 0.1106715360497066, 0.0870326217665882, 0.6962609741327056, 0.2175815544164705, 0.27298500220366684, 0.20047336099331786, 0.38388515934890655, 0.06398085989148442, 0.008530781318864589, 0.06824625055091671, 0.7288740094152742, 0.01208078468644101, 0.08456549280508707, 0.03624235405932303, 0.12080784686441011, 0.02416156937288202, 0.2759610235357509, 0.48293179118756413, 0.2069707676518132, 0.20994681467688017, 0.6298404440306405, 0.06998227155896006, 0.06998227155896006, 0.08273674856342432, 0.7170518208830108, 0.08273674856342432, 0.08273674856342432, 0.05515783237561621, 0.15363248695209716, 0.3840812173802429, 0.07681624347604858, 0.3840812173802429, 0.22487138359771255, 0.6746141507931377, 0.6404574978837247, 0.09149392826910353, 0.04574696413455177, 0.18298785653820707, 0.5860238063049726, 0.12337343290631003, 0.061686716453155016, 0.21590350758604257, 0.030843358226577508, 0.6637319015800519, 0.17466628988948735, 0.017466628988948737, 0.10479977393369241, 0.017466628988948737, 0.017466628988948737, 0.3334594232271024, 0.5928167524037377, 0.037051047025233604, 0.037051047025233604, 0.3252911765338008, 0.029571925139436437, 0.11828770055774575, 0.5027227273704195, 0.029571925139436437, 0.8380990082409638, 0.0761908189309967, 0.0761908189309967, 0.0761908189309967, 0.07862979238254514, 0.4717787542952709, 0.39314896191272575, 0.09983728885853493, 0.24246198722787057, 0.1140997586954685, 0.2567244570648041, 0.014262469836933562, 0.2709869269017377, 0.16865956755554418, 0.01775363869005728, 0.05326091607017184, 0.2574277610058306, 0.5059787026666325, 0.10721347185928815, 0.750494303015017, 0.10721347185928815, 0.23089274611678487, 0.6618925388681166, 0.04617854922335698, 0.061571398964475964, 0.015392849741118991, 0.5287786732475829, 0.1762595577491943, 0.12729856948552923, 0.10771417418006318, 0.03916879061093207, 0.009792197652733018, 0.7525267131240728, 0.07525267131240729, 0.07525267131240729, 0.07525267131240729, 0.12479689655831007, 0.24959379311662014, 0.17279570292689087, 0.43198925731722715, 0.00959976127371616, 0.00959976127371616, 0.0211247561710036, 0.32391292795538856, 0.3379960987360576, 0.21124756171003603, 0.11266536624535255, 0.23969264167178272, 0.23969264167178272, 0.07989754722392757, 0.39948773611963784, 0.0290379712661984, 0.34845565519438076, 0.6097973965901664, 0.0145189856330992, 0.45587928452514465, 0.11670509683843704, 0.29540977637229376, 0.08752882262882777, 0.010941102828603472, 0.02917627420960926, 0.07779353486903043, 0.07779353486903043, 0.7779353486903042, 0.038896767434515214, 0.7360438820810985, 0.24034085945505257, 0.5762014833334326, 0.08231449761906179, 0.24694349285718536, 0.08231449761906179, 0.19854451332401024, 0.20169601353550246, 0.15127201015162683, 0.4317555289744349, 0.01575750105746113, 0.003151500211492226, 0.751027448873136, 0.09690676759653367, 0.02422669189913342, 0.09690676759653367, 0.02422669189913342, 0.7976406696155153, 0.1268973792570138, 0.018128197036716257, 0.036256394073432514, 0.018128197036716257, 0.1219825526591351, 0.7318953159548106, 0.1219825526591351, 0.6923572785407389, 0.028848219939197454, 0.2163616495439809, 0.018030137461998406, 0.02163616495439809, 0.02163616495439809, 0.09309820586006959, 0.6051383380904524, 0.1396473087901044, 0.09309820586006959, 0.046549102930034794, 0.05517058810233999, 0.05517058810233999, 0.05517058810233999, 0.7723882334327599, 0.05517058810233999, 0.0672309853995373, 0.1344619707990746, 0.6050788685958357, 0.1344619707990746, 0.0672309853995373, 0.09982207988694615, 0.3992883195477846, 0.49911039943473073, 0.6254357283797158, 0.09622088128918704, 0.04811044064459352, 0.24055220322296764, 0.20269355668986305, 0.28377097936580825, 0.12161613401391784, 0.00579124447685323, 0.3822221354723132, 0.16546335487732908, 0.4446827662328219, 0.015512189519749602, 0.23785357263616055, 0.077560947598748, 0.05687802823908187, 0.9667616648821741, 0.01859157047850335, 0.12044148552886018, 0.06022074276443009, 0.6022074276443009, 0.12044148552886018, 0.06022074276443009, 0.03912946876649464, 0.23477681259896782, 0.5869420314974195, 0.15651787506597856, 0.1635189625217229, 0.5723163688260301, 0.1635189625217229, 0.08175948126086145, 0.0392031488649565, 0.11760944659486951, 0.078406297729913, 0.7448598284341735, 0.47275653776147997, 0.16301949577982067, 0.048905848733946204, 0.244529243669731, 0.048905848733946204, 0.032603899155964136, 0.05804789009806018, 0.05804789009806018, 0.11609578019612037, 0.5804789009806018, 0.11609578019612037, 0.05804789009806018, 0.09380846261235795, 0.1876169252247159, 0.09380846261235795, 0.5628507756741478, 0.6694725105779096, 0.1338945021155819, 0.22883566604142275, 0.07627855534714091, 0.6865069981242682, 0.09344230182966495, 0.09344230182966495, 0.7475384146373196, 0.04672115091483248, 0.49417278554766253, 0.09151347880512269, 0.08236213092461042, 0.11439184850640335, 0.16472426184922084, 0.054908087283073614, 0.17627491075736829, 0.7638579466152626, 0.23337090245616687, 0.5250845305263755, 0.17502817684212515, 0.05834272561404172, 0.02917136280702086, 0.0686400315886366, 0.41184018953181967, 0.0686400315886366, 0.41184018953181967, 0.08830303022748046, 0.013585081573458531, 0.19019114202841944, 0.6724615378861973, 0.020377622360187798, 0.013585081573458531, 0.6174608783660722, 0.03632122813918071, 0.32689105325262646, 0.10635811344981608, 0.5317905672490804, 0.21271622689963215, 0.10635811344981608, 0.11409255897247483, 0.22818511794494967, 0.11409255897247483, 0.5704627948623742, 0.03317553005044493, 0.39810636060533916, 0.46445742070622903, 0.09952659015133479, 0.1537397860013487, 0.07686989300067434, 0.07686989300067434, 0.07686989300067434, 0.1537397860013487, 0.38434946500337175, 0.06840601697187193, 0.6840601697187193, 0.2052180509156158, 0.03828151970699111, 0.2679706379489378, 0.5359412758978755, 0.15312607882796445, 0.03828151970699111, 0.07901668382693997, 0.2172958805240849, 0.32265145896000486, 0.2436347751330649, 0.09877085478367495, 0.03292361826122499, 0.04935912083681165, 0.1974364833472466, 0.29615472502086987, 0.44423208753130483, 0.07225607823232917, 0.036128039116164586, 0.86707293878795, 0.036128039116164586, 0.08536989218974272, 0.4268494609487137, 0.05691326145982849, 0.11382652291965697, 0.028456630729914244, 0.3130229380290567, 0.46831258046969954, 0.2178198048696277, 0.11980089267829523, 0.0653459414608883, 0.03267297073044415, 0.09801891219133246, 0.12206478143601811, 0.47130568387795885, 0.23734818612559078, 0.057641702344786334, 0.047469637225118155, 0.06442307909123178, 0.11036628327566671, 0.12416206868512504, 0.0689789270472917, 0.2759157081891668, 0.4000777768742918, 0.013795785409458338, 0.6056072658267568, 0.20186908860891895, 0.06728969620297298, 0.06728969620297298, 0.18855131797203212, 0.7070674423951204, 0.04713782949300803, 0.04713782949300803, 0.11831708961642674, 0.5324269032739204, 0.2957927240410669, 0.08821591415928678, 0.04410795707964339, 0.661619356194651, 0.04410795707964339, 0.08821591415928678, 0.03746514869633448, 0.861698420015693, 0.03746514869633448, 0.03746514869633448, 0.1762730030932989, 0.763849680070962, 0.5938202416801854, 0.14845506042004636, 0.07422753021002318, 0.07422753021002318, 0.07422753021002318, 0.07964212795811049, 0.11946319193716573, 0.6172264916753563, 0.09955265994763811, 0.07964212795811049, 0.4338170001372556, 0.1484110789943243, 0.22832473691434507, 0.12557860530288978, 0.06849742107430352, 0.29684949743860745, 0.46337482527002133, 0.014480463289688167, 0.19548625441079026, 0.028960926579376333, 0.007240231644844083, 0.06893430823468187, 0.5859416199947959, 0.04308394264667617, 0.07755109676401711, 0.2326532902920513, 0.8264504334576326, 0.16204910459953578, 0.3768304670648275, 0.33663521724457923, 0.08478685508958618, 0.1444516790415172, 0.03140253892206896, 0.025750081916096543, 0.05464825743708055, 0.27324128718540275, 0.05464825743708055, 0.6011308318078861, 0.05464825743708055, 0.021425527764173613, 0.042851055528347226, 0.1714042221133889, 0.3213829164626042, 0.4499360830476458, 0.18197042553102002, 0.045492606382755006, 0.136477819148265, 0.09098521276551001, 0.5004186702103051, 0.045492606382755006, 0.06739218979095174, 0.06739218979095174, 0.4717453285366621, 0.4043531387457104, 0.06855228680080894, 0.13710457360161787, 0.20565686040242684, 0.5484182944064715, 0.06855228680080894, 0.06589216129545955, 0.19767648388637865, 0.6589216129545955, 0.06589216129545955, 0.27323174242727244, 0.683079356068181, 0.05858965864466938, 0.019529886214889797, 0.566366700231804, 0.15623908971911837, 0.03905977242977959, 0.15623908971911837, 0.06556264740574784, 0.13112529481149568, 0.6556264740574783, 0.06556264740574784, 0.06556264740574784, 0.17639485584374712, 0.17256018506453524, 0.028760030844089207, 0.13804814805162818, 0.17831219123335307, 0.3048563269473456, 0.13404717288337764, 0.18431486271464428, 0.6367240711960438, 0.03351179322084441, 0.031467005517341995, 0.774088335726613, 0.16992182979364676, 0.0062934011034683985, 0.0062934011034683985, 0.012586802206936797, 0.13687938571395528, 0.045626461904651756, 0.045626461904651756, 0.27375877142791055, 0.5018910809511693, 0.9455640459022209, 0.023989633000897417, 0.1439377980053845, 0.07196889900269225, 0.023989633000897417, 0.5997408250224354, 0.09595853200358967, 0.17078771864336587, 0.05692923954778862, 0.05692923954778862, 0.7400801141212521, 0.06634468614761545, 0.5971021753285389, 0.19903405844284633, 0.06634468614761545, 0.06634468614761545, 0.28536589218136654, 0.03567073652267082, 0.6777439939307455, 0.3481020296456242, 0.6418131171591196, 0.05944368179833616, 0.2717425453638224, 0.6623724543243171, 0.1749461491485585, 0.233261532198078, 0.0583153830495195, 0.3149030684674053, 0.2099353789782702, 0.8438133051196449, 0.19920665192443252, 0.15166186188808758, 0.4086444611984582, 0.11434822920133587, 0.08907125221998795, 0.037915465472021896, 0.10276830014906436, 0.1370244001987525, 0.5823537008446981, 0.1370244001987525, 0.034256100049688126, 0.034256100049688126, 0.20352948185699934, 0.20352948185699934, 0.5088237046424984, 0.2451300956439145, 0.7353902869317435, 0.04085501594065242, 0.7071750687062179, 0.09224022635298494, 0.03074674211766165, 0.03074674211766165, 0.15373371058830826, 0.09146224227662977, 0.09146224227662977, 0.09146224227662977, 0.09146224227662977, 0.5487734536597786, 0.09146224227662977, 0.053110790623331273, 0.1593323718699938, 0.053110790623331273, 0.6904402781033065, 0.053531009433078515, 0.3747170660315496, 0.053531009433078515, 0.053531009433078515, 0.4282480754646281, 0.07199792860793827, 0.2879917144317531, 0.21599378582381482, 0.035998964303969136, 0.3959886073436605, 0.0866894685330656, 0.5779297902204373, 0.028896489511021865, 0.28896489511021867, 0.8274946797829471, 0.051718417486434194, 0.051718417486434194, 0.051718417486434194, 0.15685759228569962, 0.5882159710713736, 0.15685759228569962, 0.039214398071424905, 0.07842879614284981, 0.06048828409431526, 0.03024414204715763, 0.1814648522829458, 0.0907324261414729, 0.6048828409431526, 0.06048828409431526, 0.7522319333758338, 0.15044638667516674, 0.07522319333758337, 0.1889865580316826, 0.7019500726891068, 0.0269980797188118, 0.0539961594376236, 0.0269980797188118, 0.0269980797188118, 0.0348273682148223, 0.19155052518152269, 0.1567231569667004, 0.3308599980408119, 0.0348273682148223, 0.24379157750375613, 0.18951062266429314, 0.06317020755476438, 0.3790212453285863, 0.3790212453285863, 0.21789183234788873, 0.3367419227194644, 0.05942504518578783, 0.27731687753367656, 0.029712522592893916, 0.07923339358105044, 0.026011311932444874, 0.1040452477297795, 0.208090495459559, 0.5982601744462321, 0.05202262386488975, 0.036294993360059716, 0.10888498008017916, 0.2903599468804777, 0.5444249004008958, 0.036294993360059716, 0.034952370884753996, 0.4543808215018019, 0.4893331923865559, 0.1272341187184528, 0.6361705935922639, 0.22265970775729238, 0.0318085296796132, 0.2610245146757516, 0.6438604695335206, 0.008700817155858387, 0.07830735440272547, 0.020010680738710148, 0.02668090765161353, 0.04669158839032368, 0.8404485910258263, 0.06670226912903383, 0.11022127218417982, 0.11022127218417982, 0.05511063609208991, 0.551106360920899, 0.22044254436835964, 0.007119732585020229, 0.38446555959109235, 0.526860211291497, 0.07119732585020229, 0.014239465170040457, 0.03654252353679316, 0.18271261768396577, 0.6577654236622767, 0.07308504707358632, 0.03654252353679316, 0.05343002099928075, 0.1068600419985615, 0.5877302309920882, 0.16029006299784224, 0.1068600419985615, 0.39938022373425225, 0.28755376108866165, 0.007987604474685045, 0.2955413655633467, 0.26517593839486114, 0.044195989732476855, 0.13258796919743057, 0.4861558870572454, 0.044195989732476855, 0.21195114047985678, 0.047100253439968175, 0.43175232319970824, 0.1491508025598992, 0.039250211199973475, 0.10990059135992573, 0.2619857582814589, 0.23703473368322472, 0.09980409839293673, 0.06237756149558546, 0.31188780747792727, 0.012475512299117092, 0.035553053584680305, 0.21331832150808183, 0.31997748226212275, 0.42663664301616366, 0.22022858746725976, 0.23577413481788986, 0.103636982337534, 0.19431934188287628, 0.005181849116876701, 0.24095598393476658, 0.056376750284312056, 0.16913025085293618, 0.11275350056862411, 0.5073907525588085, 0.11275350056862411, 0.2981031117188724, 0.1490515558594362, 0.12195127297590234, 0.365853818927707, 0.06775070720883464, 0.12312184466675839, 0.2841273338463655, 0.01894182225642437, 0.0568254667692731, 0.3030691561027899, 0.20836004482066806, 0.0652965855484665, 0.8488556121300646, 0.602056976272485, 0.27366226194203863, 0.08209867858261159, 0.027366226194203865, 0.047513674344769205, 0.047513674344769205, 0.14254102303430763, 0.5226504177924612, 0.28508204606861526, 0.10167987732685813, 0.05931326177400057, 0.20335975465371625, 0.5507660021871482, 0.0762599079951436, 0.03257509188866558, 0.3322659372643889, 0.2149956064651928, 0.35832601077532134, 0.06515018377733116, 0.8590602128857366, 0.12272288755510523, 0.12407359892321888, 0.6203679946160944, 0.24814719784643777, 0.7014398109631381, 0.24550393383709834, 0.035071990548156906, 0.8200285880417674, 0.10250357350522092, 0.14716370652900101, 0.14716370652900101, 0.04905456884300034, 0.04905456884300034, 0.5396002572730038, 0.2580469023329697, 0.40651224340125364, 0.04948844702276131, 0.19088400994493648, 0.08130244868025073, 0.014139556292217517, 0.0337860415792801, 0.0675720831585602, 0.0675720831585602, 0.2027162494756806, 0.5743627068477617, 0.0337860415792801, 0.02730835573406951, 0.21846684587255608, 0.7318639336730629, 0.010923342293627805, 0.010923342293627805, 0.005461671146813903, 0.08609684083838016, 0.47126691827323874, 0.14953661829823922, 0.145005205622535, 0.013594238027112657, 0.13594238027112657, 0.32044837725660863, 0.19226902635396517, 0.06408967545132171, 0.4059012778583709, 0.07331489156879145, 0.8431212530411016, 0.018328722892197863, 0.018328722892197863, 0.036657445784395726, 0.018328722892197863, 0.11293429252941552, 0.022586858505883104, 0.7001926136823763, 0.13552115103529863, 0.022586858505883104, 0.13846136182571772, 0.6923068091285886, 0.40688274632357274, 0.033906895526964395, 0.4238361940870549, 0.05086034329044659, 0.05086034329044659, 0.033906895526964395, 0.20791003639700079, 0.564327241649002, 0.20791003639700079, 0.02970143377100011, 0.07346236165746797, 0.6611612549172118, 0.14692472331493595, 0.07346236165746797, 0.03799219602872658, 0.15196878411490633, 0.15196878411490633, 0.6458673324883518, 0.03799219602872658, 0.8482690375296449, 0.08482690375296449, 0.23911132177072597, 0.047822264354145196, 0.6695117009580328, 0.047822264354145196, 0.047822264354145196, 0.03556201657030992, 0.7112403314061984, 0.21337209942185953, 0.03556201657030992, 0.3966725976054772, 0.27874290642547045, 0.1125692506718246, 0.09648792914727823, 0.05360440508182124, 0.06432528609818548, 0.05216809919814103, 0.15650429759442308, 0.10433619839628205, 0.15650429759442308, 0.5216809919814103, 0.04597049186228414, 0.18388196744913657, 0.643586886071978, 0.04597049186228414, 0.13791147558685243, 0.03743999862454615, 0.8611199683645615, 0.0748799972490923, 0.03743999862454615, 0.1809639481195808, 0.5428918443587424, 0.06032131603986027, 0.1357229610896856, 0.0075401645049825335, 0.0678614805448428, 0.0929571235279731, 0.6506998646958118, 0.1859142470559462, 0.18905434111960343, 0.2590744674601973, 0.3571026443370287, 0.04201207580435632, 0.09802817687683141, 0.056016101072475094, 0.07008240706285077, 0.4029738406113919, 0.3854532388456792, 0.01752060176571269, 0.12264421235998885, 0.1308270002573123, 0.3220356929410764, 0.04025446161763455, 0.010063615404408638, 0.12076338485290367, 0.37235376996311964, 0.043825374746059256, 0.21912687373029627, 0.043825374746059256, 0.19721418635726665, 0.4601664348336222, 0.043825374746059256, 0.6433088271666867, 0.06433088271666867, 0.06433088271666867, 0.192992648150006, 0.06433088271666867, 0.07215969954093159, 0.03607984977046579, 0.7576768451797816, 0.07215969954093159, 0.03607984977046579, 0.6054364094160039, 0.18163092282480114, 0.12108728188320077, 0.060543640941600384, 0.055411932484693546, 0.11082386496938709, 0.6649431898163226, 0.055411932484693546, 0.055411932484693546, 0.055411932484693546, 0.12681754012868585, 0.38045262038605754, 0.44386139045040046, 0.05879858422466432, 0.05879858422466432, 0.7055830106959718, 0.11759716844932865, 0.07474487131210902, 0.22423461393632707, 0.07474487131210902, 0.14948974262421805, 0.14948974262421805, 0.37372435656054515, 0.285949039916597, 0.07148725997914925, 0.5004108198540448, 0.07148725997914925, 0.07148725997914925, 0.8096494130886308, 0.08096494130886307, 0.08096494130886307, 0.05553024937260254, 0.05553024937260254, 0.7774234912164356, 0.05553024937260254, 0.05553024937260254, 0.13799922233408987, 0.13799922233408987, 0.04599974077802996, 0.02299987038901498, 0.5749967597253745, 0.04599974077802996, 0.08427748567671112, 0.06320811425753334, 0.08427748567671112, 0.04213874283835556, 0.6110117711561557, 0.12641622851506668, 0.6052737873549431, 0.09311904420845278, 0.23279761052113193, 0.04655952210422639, 0.16862312205982513, 0.017749802322086856, 0.05324940696626057, 0.2573721336702594, 0.5058693661794754, 0.08642305808303469, 0.17284611616606937, 0.6913844646642775, 0.043211529041517344, 0.7821967257346234, 0.13036612095577058, 0.8671627018175997, 0.10405952421811196, 0.013874603229081595, 0.0069373016145407975, 0.8653054762102222, 0.07866413420092928, 0.5970815117673481, 0.045929347059026786, 0.09185869411805357, 0.13778804117708035, 0.045929347059026786, 0.045929347059026786, 0.3993975893870214, 0.2875662643586554, 0.007987951787740429, 0.2955542161463958], \"Topic\": [1, 2, 3, 4, 6, 1, 2, 3, 4, 5, 6, 1, 2, 3, 4, 5, 1, 2, 3, 4, 5, 1, 2, 3, 6, 1, 2, 3, 4, 1, 2, 3, 4, 6, 1, 3, 4, 1, 2, 3, 4, 5, 6, 1, 2, 3, 4, 1, 2, 3, 6, 1, 2, 3, 4, 5, 2, 4, 5, 1, 2, 3, 4, 5, 6, 2, 4, 1, 2, 3, 4, 5, 6, 1, 4, 1, 2, 3, 4, 5, 6, 1, 2, 3, 4, 6, 1, 2, 3, 4, 5, 1, 2, 4, 1, 2, 3, 6, 2, 3, 6, 1, 2, 3, 4, 5, 6, 1, 3, 4, 5, 6, 1, 2, 3, 6, 1, 2, 3, 4, 6, 1, 2, 3, 4, 5, 6, 1, 2, 6, 1, 3, 4, 5, 1, 3, 4, 5, 6, 1, 2, 3, 4, 6, 1, 3, 5, 6, 1, 2, 3, 4, 5, 1, 2, 3, 4, 5, 1, 5, 6, 1, 2, 4, 5, 1, 2, 6, 2, 3, 4, 1, 2, 3, 4, 5, 6, 1, 2, 3, 4, 5, 6, 1, 2, 3, 6, 2, 3, 4, 1, 2, 3, 4, 5, 6, 1, 2, 3, 4, 5, 6, 3, 4, 5, 2, 3, 4, 6, 1, 2, 3, 4, 5, 2, 3, 5, 6, 1, 2, 1, 3, 4, 6, 1, 3, 4, 5, 6, 1, 2, 3, 4, 5, 6, 1, 2, 3, 6, 1, 2, 4, 5, 6, 1, 2, 4, 6, 1, 4, 6, 1, 2, 3, 4, 5, 6, 1, 2, 4, 5, 6, 2, 3, 5, 1, 2, 3, 4, 6, 1, 2, 3, 4, 5, 6, 1, 2, 3, 5, 1, 2, 3, 4, 5, 6, 1, 2, 3, 4, 5, 1, 2, 4, 6, 2, 3, 5, 6, 1, 2, 3, 4, 5, 6, 1, 2, 4, 6, 2, 6, 1, 2, 3, 4, 1, 2, 3, 4, 5, 6, 1, 2, 3, 5, 6, 1, 2, 3, 4, 5, 1, 2, 4, 1, 2, 3, 4, 5, 6, 1, 2, 3, 5, 6, 1, 2, 3, 4, 5, 1, 2, 3, 5, 6, 2, 4, 6, 1, 2, 3, 4, 1, 2, 3, 4, 6, 1, 2, 3, 4, 5, 6, 1, 4, 1, 2, 3, 4, 6, 1, 4, 5, 6, 1, 2, 4, 6, 1, 2, 3, 6, 1, 2, 3, 4, 5, 6, 1, 2, 3, 4, 5, 6, 1, 2, 4, 6, 1, 3, 1, 2, 3, 1, 2, 3, 4, 1, 2, 3, 4, 5, 6, 1, 5, 2, 3, 4, 5, 6, 1, 2, 3, 6, 1, 2, 3, 4, 5, 6, 1, 2, 3, 3, 4, 5, 6, 1, 2, 4, 5, 1, 3, 4, 5, 1, 2, 3, 4, 5, 6, 1, 2, 5, 1, 2, 4, 5, 6, 1, 2, 3, 4, 5, 6, 2, 3, 4, 6, 2, 4, 5, 6, 1, 2, 3, 4, 5, 6, 1, 2, 3, 4, 5, 6, 1, 2, 3, 4, 5, 6, 1, 2, 3, 4, 5, 6, 1, 2, 3, 4, 1, 3, 4, 6, 1, 4, 6, 1, 2, 3, 4, 6, 2, 3, 5, 6, 1, 5, 2, 3, 4, 5, 6, 1, 2, 3, 4, 5, 1, 2, 3, 4, 6, 1, 2, 3, 4, 5, 6, 1, 2, 4, 5, 6, 1, 5, 1, 2, 3, 4, 5, 6, 1, 3, 4, 5, 6, 1, 2, 3, 4, 5, 1, 2, 3, 4, 5, 6, 3, 4, 5, 6, 1, 2, 3, 5, 6, 1, 2, 3, 6, 3, 4, 1, 2, 3, 4, 5, 6, 1, 3, 4, 5, 6, 1, 2, 3, 4, 5, 6, 1, 4, 5, 6, 1, 2, 3, 4, 5, 6, 1, 2, 3, 4, 5, 6, 1, 2, 3, 4, 5, 6, 1, 3, 4, 5, 1, 2, 3, 5, 6, 1, 4, 6, 5, 6, 1, 5, 6, 1, 2, 3, 4, 6, 3, 1, 2, 3, 4, 5, 6, 1, 2, 3, 4, 5, 6, 1, 2, 4, 1, 2, 3, 1, 2, 3, 4, 6, 1, 2, 3, 4, 5, 6, 1, 4, 5, 6, 1, 2, 3, 5, 6, 2, 3, 4, 5, 6, 1, 2, 5, 6, 1, 2, 3, 6, 1, 2, 3, 4, 6, 1, 2, 3, 4, 5, 6, 1, 2, 6, 1, 2, 3, 4, 5, 6, 1, 2, 3, 4, 5, 6, 1, 2, 3, 6, 1, 2, 3, 4, 5, 6, 1, 2, 3, 4, 6, 1, 2, 3, 5, 6, 2, 3, 4, 2, 4, 5, 6, 1, 4, 5, 6, 1, 2, 3, 4, 6, 2, 3, 4, 5, 6, 1, 2, 3, 5, 6, 1, 3, 4, 5, 6, 1, 2, 3, 4, 5, 1, 2, 5, 6, 1, 2, 3, 4, 6, 1, 2, 3, 4, 5, 6, 1, 2, 3, 4, 5, 6, 1, 2, 3, 6, 1, 2, 3, 4, 5, 6, 1, 2, 3, 4, 5, 1, 2, 3, 4, 5, 1, 2, 3, 4, 5, 6, 3, 5, 1, 2, 4, 6, 1, 2, 3, 5, 6, 1, 2, 3, 4, 6, 1, 2, 3, 4, 5, 3, 6, 3, 5, 6, 1, 2, 6, 2, 4, 1, 2, 3, 4, 5, 1, 2, 3, 4, 5, 6, 1, 2, 3, 4, 5, 6, 1, 2, 3, 4, 5, 6, 1, 2, 3, 4, 5, 6, 2, 3, 5, 6, 1, 2, 3, 4, 5, 6, 1, 2, 3, 4, 5, 1, 4, 1, 2, 3, 4, 5, 6, 2, 3, 5, 6, 1, 3, 5, 6, 1, 2, 3, 4, 6, 2, 4, 1, 2, 3, 4, 6, 1, 2, 3, 5, 1, 2, 3, 4, 5, 6, 1, 2, 3, 4, 5, 1, 2, 3, 4, 5, 1, 3, 4, 6, 1, 2, 3, 4, 5, 6, 1, 2, 6, 1, 2, 3, 4, 5, 6, 2, 3, 4, 5, 6, 1, 2, 3, 4, 5, 6, 1, 2, 3, 4, 5, 6, 1, 2, 3, 4, 6, 1, 2, 4, 5, 6, 1, 3, 4, 5, 1, 2, 3, 4, 5, 6, 1, 4, 6, 1, 3, 4, 6, 1, 2, 3, 4, 5, 6, 1, 2, 4, 5, 6, 1, 2, 3, 2, 3, 4, 5, 6, 1, 2, 3, 4, 5, 6, 1, 2, 3, 4, 5, 6, 3, 4, 5, 6, 1, 2, 4, 5, 6, 1, 2, 3, 6, 5, 6, 1, 2, 4, 6, 1, 4, 1, 2, 3, 4, 5, 6, 1, 2, 5, 6], \"Term\": [\"a.m\", \"a.m\", \"a.m\", \"a.m\", \"a.m\", \"abovecaptioned\", \"abovecaptioned\", \"abovecaptioned\", \"abovecaptioned\", \"abovecaptioned\", \"abovecaptioned\", \"address\", \"address\", \"address\", \"address\", \"address\", \"adjourn\", \"adjourn\", \"adjourn\", \"adjourn\", \"adjourn\", \"adjournment\", \"adjournment\", \"adjournment\", \"adjournment\", \"admission\", \"admission\", \"admission\", \"admission\", \"advise\", \"advise\", \"advise\", \"advise\", \"advise\", \"affect\", \"affect\", \"affect\", \"affidavit\", \"affidavit\", \"affidavit\", \"affidavit\", \"affidavit\", \"affidavit\", \"affidavit_service\", \"affidavit_service\", \"affidavit_service\", \"affidavit_service\", \"agent\", \"agent\", \"agent\", \"agent\", \"agree\", \"agree\", \"agree\", \"agree\", \"agree\", \"aim_exploration\", \"aim_exploration\", \"aim_exploration\", \"also\", \"also\", \"also\", \"also\", \"also\", \"also\", \"alternative_investment_sgr_spa\", \"alternative_investment_sgr_spa\", \"amend_complaint\", \"amend_complaint\", \"amend_complaint\", \"amend_complaint\", \"amend_complaint\", \"amend_complaint\", \"amendment\", \"amendment\", \"answer\", \"answer\", \"answer\", \"answer\", \"answer\", \"answer\", \"answer_due_answer_due\", \"answer_due_answer_due\", \"answer_due_answer_due\", \"answer_due_purs\", \"answer_due_purs\", \"appear_pro_hac_vice\", \"appear_pro_hac_vice\", \"appear_pro_hac_vice\", \"appear_pro_hac_vice\", \"appear_pro_hac_vice\", \"appearance\", \"appearance\", \"appearance\", \"appendix\", \"appendix\", \"appendix\", \"appendix\", \"application_grant\", \"application_grant\", \"application_grant\", \"approve\", \"approve\", \"approve\", \"approve\", \"approve\", \"approve\", \"assign\", \"assign\", \"assign\", \"assign\", \"assign\", \"assignment\", \"assignment\", \"assignment\", \"assignment\", \"bond\", \"bond\", \"bond\", \"bond\", \"bond\", \"brief\", \"brief\", \"brief\", \"brief\", \"brief\", \"brief\", \"brooklyn\", \"brooklyn\", \"brooklyn\", \"calendar\", \"calendar\", \"calendar\", \"calendar\", \"call\", \"call\", \"call\", \"call\", \"call\", \"certain\", \"certain\", \"certain\", \"certain\", \"certain\", \"certificate\", \"certificate\", \"certificate\", \"certificate\", \"certify\", \"certify\", \"certify\", \"certify\", \"certify\", \"change\", \"change\", \"change\", \"change\", \"change\", \"civil_cover_sheet\", \"civil_cover_sheet\", \"civil_cover_sheet\", \"client\", \"client\", \"client\", \"client\", \"co\", \"co\", \"co\", \"compel\", \"compel\", \"compel\", \"complaint\", \"complaint\", \"complaint\", \"complaint\", \"complaint\", \"complaint\", \"complete\", \"complete\", \"complete\", \"complete\", \"complete\", \"complete\", \"comply_discovery_ruling_conference\", \"comply_discovery_ruling_conference\", \"comply_discovery_ruling_conference\", \"comply_discovery_ruling_conference\", \"confer\", \"confer\", \"confer\", \"conference\", \"conference\", \"conference\", \"conference\", \"conference\", \"conference\", \"conference_hold\", \"conference_hold\", \"conference_hold\", \"conference_hold\", \"conference_hold\", \"conference_hold\", \"confidentiality\", \"confidentiality\", \"confidentiality\", \"connection\", \"connection\", \"connection\", \"connection\", \"consent\", \"consent\", \"consent\", \"consent\", \"consent\", \"consistent\", \"consistent\", \"consistent\", \"consistent\", \"corp..\", \"corp..\", \"cost\", \"cost\", \"cost\", \"cost\", \"counterclaim\", \"counterclaim\", \"counterclaim\", \"counterclaim\", \"counterclaim\", \"courtroom\", \"courtroom\", \"courtroom\", \"courtroom\", \"courtroom\", \"courtroom\", \"courtroom_pearl_street_new\", \"courtroom_pearl_street_new\", \"courtroom_pearl_street_new\", \"courtroom_pearl_street_new\", \"crossclaim\", \"crossclaim\", \"crossclaim\", \"crossclaim\", \"crossclaim\", \"crossclaims\", \"crossclaims\", \"crossclaims\", \"crossclaims\", \"dated\", \"dated\", \"dated\", \"deadline\", \"deadline\", \"deadline\", \"deadline\", \"deadline\", \"deadline\", \"deadline_release\", \"deadline_release\", \"deadline_release\", \"deadline_release\", \"deadline_release\", \"dec\", \"dec\", \"dec\", \"declaration_opposition\", \"declaration_opposition\", \"declaration_opposition\", \"declaration_opposition\", \"declaration_opposition\", \"declaration_support\", \"declaration_support\", \"declaration_support\", \"declaration_support\", \"declaration_support\", \"declaration_support\", \"deficiency\", \"deficiency\", \"deficiency\", \"deficiency\", \"deny\", \"deny\", \"deny\", \"deny\", \"deny\", \"deny\", \"deposition\", \"deposition\", \"deposition\", \"deposition\", \"deposition\", \"determine\", \"determine\", \"determine\", \"determine\", \"disclose\", \"disclose\", \"disclose\", \"disclose\", \"discovery\", \"discovery\", \"discovery\", \"discovery\", \"discovery\", \"discovery\", \"discovery_complete\", \"discovery_complete\", \"discovery_complete\", \"discovery_complete\", \"discovery_hear_hold\", \"discovery_hear_hold\", \"discovery_protocol\", \"discovery_protocol\", \"discovery_protocol\", \"discovery_protocol\", \"dismiss\", \"dismiss\", \"dismiss\", \"dismiss\", \"dismiss\", \"dismiss\", \"dismiss..\", \"dismiss..\", \"dismiss..\", \"dismiss..\", \"dismiss..\", \"dismissal\", \"dismissal\", \"dismissal\", \"dismissal\", \"dismissal\", \"dismissal_without_prejudice\", \"dismissal_without_prejudice\", \"dismissal_without_prejudice\", \"due\", \"due\", \"due\", \"due\", \"due\", \"due\", \"effect\", \"effect\", \"effect\", \"effect\", \"effect\", \"electronic_filing\", \"electronic_filing\", \"electronic_filing\", \"electronic_filing\", \"electronic_filing\", \"email\", \"email\", \"email\", \"email\", \"email\", \"endorse\", \"endorse\", \"endorse\", \"endorsed_letter\", \"endorsed_letter\", \"endorsed_letter\", \"endorsed_letter\", \"endorsed_letter_address\", \"endorsed_letter_address\", \"endorsed_letter_address\", \"endorsed_letter_address\", \"endorsed_letter_address\", \"endorsement\", \"endorsement\", \"endorsement\", \"endorsement\", \"endorsement\", \"endorsement\", \"endorsement_application_grant\", \"endorsement_application_grant\", \"entirety\", \"entirety\", \"entirety\", \"entirety\", \"entirety\", \"error\", \"error\", \"error\", \"error\", \"error_deficient_entry\", \"error_deficient_entry\", \"error_deficient_entry\", \"error_deficient_entry\", \"establish\", \"establish\", \"establish\", \"establish\", \"extension\", \"extension\", \"extension\", \"extension\", \"extension\", \"extension\", \"extent\", \"extent\", \"extent\", \"extent\", \"extent\", \"extent\", \"find\", \"find\", \"find\", \"find\", \"flasr\", \"flasr\", \"g.c\", \"g.c\", \"g.c\", \"give\", \"give\", \"give\", \"give\", \"grant\", \"grant\", \"grant\", \"grant\", \"grant\", \"grant\", \"hedge_strategy_ibex_absolute\", \"hedge_strategy_ibex_absolute\", \"herein\", \"herein\", \"herein\", \"herein\", \"herein\", \"hereto\", \"hereto\", \"hereto\", \"hereto\", \"hold\", \"hold\", \"hold\", \"hold\", \"hold\", \"hold\", \"however\", \"however\", \"however\", \"iii\", \"iii\", \"iii\", \"iii\", \"incorrectly\", \"incorrectly\", \"incorrectly\", \"incorrectly\", \"indicate\", \"indicate\", \"indicate\", \"indicate\", \"inform\", \"inform\", \"inform\", \"inform\", \"inform\", \"inform\", \"initial_conference\", \"initial_conference\", \"initial_conference\", \"instruction\", \"instruction\", \"instruction\", \"instruction\", \"instruction\", \"issue\", \"issue\", \"issue\", \"issue\", \"issue\", \"issue\", \"jointly\", \"jointly\", \"jointly\", \"jointly\", \"l.p..\", \"l.p..\", \"l.p..\", \"l.p..\", \"law\", \"law\", \"law\", \"law\", \"law\", \"law\", \"leave\", \"leave\", \"leave\", \"leave\", \"leave\", \"leave\", \"letter\", \"letter\", \"letter\", \"letter\", \"letter\", \"letter\", \"letter_address\", \"letter_address\", \"letter_address\", \"letter_address\", \"letter_address\", \"letter_address\", \"limine_preclude_introduce_evidence\", \"limine_preclude_introduce_evidence\", \"limine_preclude_introduce_evidence\", \"limine_preclude_introduce_evidence\", \"limit\", \"limit\", \"limit\", \"limit\", \"limited\", \"limited\", \"limited\", \"list\", \"list\", \"list\", \"list\", \"list\", \"longer_assigned\", \"longer_assigned\", \"longer_assigned\", \"longer_assigned\", \"magnum_growth_magnum_special\", \"magnum_growth_magnum_special\", \"meet_confer\", \"meet_confer\", \"meet_confer\", \"meet_confer\", \"meet_confer\", \"memorandum\", \"memorandum\", \"memorandum\", \"memorandum\", \"memorandum\", \"memorandum_law_opposition\", \"memorandum_law_opposition\", \"memorandum_law_opposition\", \"memorandum_law_opposition\", \"memorandum_law_opposition\", \"memorandum_law_support\", \"memorandum_law_support\", \"memorandum_law_support\", \"memorandum_law_support\", \"memorandum_law_support\", \"memorandum_law_support\", \"minute_entry_hold\", \"minute_entry_hold\", \"minute_entry_hold\", \"minute_entry_hold\", \"minute_entry_hold\", \"minute_entry_hold_telephone\", \"minute_entry_hold_telephone\", \"motion\", \"motion\", \"motion\", \"motion\", \"motion\", \"motion\", \"name\", \"name\", \"name\", \"name\", \"name\", \"need\", \"need\", \"need\", \"need\", \"need\", \"new\", \"new\", \"new\", \"new\", \"new\", \"new\", \"new_address\", \"new_address\", \"new_address\", \"new_address\", \"newvest_portfolio_newvest\", \"newvest_portfolio_newvest\", \"newvest_portfolio_newvest\", \"newvest_portfolio_newvest\", \"newvest_portfolio_newvest\", \"next\", \"next\", \"next\", \"next\", \"nonecf_error\", \"nonecf_error\", \"note\", \"note\", \"note\", \"note\", \"note\", \"note\", \"note_refile\", \"note_refile\", \"note_refile\", \"note_refile\", \"note_refile\", \"notice\", \"notice\", \"notice\", \"notice\", \"notice\", \"notice\", \"notice_appeal\", \"notice_appeal\", \"notice_appeal\", \"notice_appeal\", \"notice_appearance\", \"notice_appearance\", \"notice_appearance\", \"notice_appearance\", \"notice_appearance\", \"notice_appearance\", \"notice_change_address\", \"notice_change_address\", \"notice_change_address\", \"notice_change_address\", \"notice_change_address\", \"notice_reassignment\", \"objection\", \"objection\", \"objection\", \"objection\", \"objection\", \"objection\", \"occur\", \"occur\", \"occur\", \"occur\", \"offer\", \"offer\", \"offer\", \"offer\", \"offer\", \"official\", \"official\", \"official\", \"official_conference\", \"official_conference\", \"official_notice_give\", \"official_notice_give\", \"official_notice_give\", \"opposition\", \"opposition\", \"opposition\", \"opposition\", \"opposition\", \"oral_argument_pm\", \"order\", \"order\", \"order\", \"order\", \"order\", \"order\", \"ordered\", \"ordered\", \"ordered\", \"ordered\", \"ordered\", \"ordered\", \"p.\", \"p.\", \"p.\", \"partial_summary_judgment\", \"partial_summary_judgment\", \"partial_summary_judgment\", \"period\", \"period\", \"period\", \"period\", \"period\", \"person\", \"person\", \"person\", \"person\", \"person\", \"person\", \"plan\", \"plan\", \"plan\", \"plan\", \"please\", \"please\", \"please\", \"please\", \"please\", \"portion\", \"portion\", \"portion\", \"portion\", \"portion\", \"practice\", \"practice\", \"practice\", \"practice\", \"prejudice\", \"prejudice\", \"prejudice\", \"prejudice\", \"pretrial\", \"pretrial\", \"pretrial\", \"pretrial\", \"pretrial\", \"previously\", \"previously\", \"previously\", \"previously\", \"previously\", \"previously\", \"pro_hac_vice\", \"pro_hac_vice\", \"pro_hac_vice\", \"proceed\", \"proceed\", \"proceed\", \"proceed\", \"proceed\", \"proceed\", \"production\", \"production\", \"production\", \"production\", \"production\", \"production\", \"promptly\", \"promptly\", \"promptly\", \"promptly\", \"propose\", \"propose\", \"propose\", \"propose\", \"propose\", \"propose\", \"provision\", \"provision\", \"provision\", \"provision\", \"provision\", \"question\", \"question\", \"question\", \"question\", \"question\", \"reason\", \"reason\", \"reason\", \"redact\", \"redact\", \"redact\", \"redact\", \"redact_deadline\", \"redact_deadline\", \"redact_deadline\", \"redact_deadline\", \"redaction\", \"redaction\", \"redaction\", \"redaction\", \"redaction\", \"refile\", \"refile\", \"refile\", \"refile\", \"refile\", \"release\", \"release\", \"release\", \"release\", \"release\", \"relevant\", \"relevant\", \"relevant\", \"relevant\", \"relevant\", \"relief\", \"relief\", \"relief\", \"relief\", \"relief\", \"remotely_electronically_available_public\", \"remotely_electronically_available_public\", \"remotely_electronically_available_public\", \"remotely_electronically_available_public\", \"renew\", \"renew\", \"renew\", \"renew\", \"renew\", \"reply\", \"reply\", \"reply\", \"reply\", \"reply\", \"reply\", \"report\", \"report\", \"report\", \"report\", \"report\", \"report\", \"represent\", \"represent\", \"represent\", \"represent\", \"request\", \"request\", \"request\", \"request\", \"request\", \"request\", \"reset\", \"reset\", \"reset\", \"reset\", \"reset\", \"respond\", \"respond\", \"respond\", \"respond\", \"respond\", \"response\", \"response\", \"response\", \"response\", \"response\", \"response\", \"responsible_courtesy_individual_practice\", \"responsible_courtesy_individual_practice\", \"responsive\", \"responsive\", \"responsive\", \"responsive\", \"result\", \"result\", \"result\", \"result\", \"result\", \"revise_schedule\", \"revise_schedule\", \"revise_schedule\", \"revise_schedule\", \"revise_schedule\", \"rule\", \"rule\", \"rule\", \"rule\", \"rule\", \"rule_certificate\", \"rule_certificate\", \"rule_deposition_objection\", \"rule_deposition_objection\", \"rule_deposition_objection\", \"rule_federal_rule\", \"rule_federal_rule\", \"rule_federal_rule\", \"rule_rule_..\", \"rule_rule_..\", \"say\", \"say\", \"say\", \"say\", \"say\", \"schedule\", \"schedule\", \"schedule\", \"schedule\", \"schedule\", \"schedule\", \"select\", \"select\", \"select\", \"select\", \"select\", \"select\", \"send\", \"send\", \"send\", \"send\", \"send\", \"send\", \"serve\", \"serve\", \"serve\", \"serve\", \"serve\", \"serve\", \"serve_answer_due\", \"serve_answer_due\", \"serve_answer_due\", \"serve_answer_due\", \"service\", \"service\", \"service\", \"service\", \"service\", \"service\", \"service_accept\", \"service_accept\", \"service_accept\", \"service_accept\", \"service_accept\", \"service_accept_legal\", \"service_accept_legal\", \"settlement\", \"settlement\", \"settlement\", \"settlement\", \"settlement\", \"settlement\", \"show_cause\", \"show_cause\", \"show_cause\", \"show_cause\", \"specific\", \"specific\", \"specific\", \"specific\", \"status_report\", \"status_report\", \"status_report\", \"status_report\", \"status_report\", \"stillwater_market_neutral_balentine\", \"stillwater_market_neutral_balentine\", \"stipulate\", \"stipulate\", \"stipulate\", \"stipulate\", \"stipulate\", \"stipulate_agree\", \"stipulate_agree\", \"stipulate_agree\", \"stipulate_agree\", \"stipulation\", \"stipulation\", \"stipulation\", \"stipulation\", \"stipulation\", \"stipulation\", \"strike\", \"strike\", \"strike\", \"strike\", \"strike\", \"subject\", \"subject\", \"subject\", \"subject\", \"subject\", \"summary\", \"summary\", \"summary\", \"summary\", \"summary_judgment\", \"summary_judgment\", \"summary_judgment\", \"summary_judgment\", \"summary_judgment\", \"summary_judgment\", \"summary_judgment_favor\", \"summary_judgment_favor\", \"summary_judgment_favor\", \"support\", \"support\", \"support\", \"support\", \"support\", \"support\", \"telephone_conference\", \"telephone_conference\", \"telephone_conference\", \"telephone_conference\", \"telephone_conference\", \"terminate\", \"terminate\", \"terminate\", \"terminate\", \"terminate\", \"terminate\", \"testimony\", \"testimony\", \"testimony\", \"testimony\", \"testimony\", \"testimony\", \"thereafter\", \"thereafter\", \"thereafter\", \"thereafter\", \"thereafter\", \"third\", \"third\", \"third\", \"third\", \"third\", \"third_complaint\", \"third_complaint\", \"third_complaint\", \"third_complaint\", \"thirdparty\", \"thirdparty\", \"thirdparty\", \"thirdparty\", \"thirdparty\", \"thirdparty\", \"transaction\", \"transaction\", \"transaction\", \"u.s.c\", \"u.s.c\", \"u.s.c\", \"u.s.c\", \"undersigned\", \"undersigned\", \"undersigned\", \"undersigned\", \"undersigned\", \"undersigned\", \"united_state\", \"united_state\", \"united_state\", \"united_state\", \"united_state\", \"united_state_courthouse_pearl\", \"united_state_courthouse_pearl\", \"united_state_courthouse_pearl\", \"unredacted\", \"unredacted\", \"unredacted\", \"unredacted\", \"unredacted\", \"upon\", \"upon\", \"upon\", \"upon\", \"upon\", \"upon\", \"use\", \"use\", \"use\", \"use\", \"use\", \"use\", \"via\", \"via\", \"via\", \"via\", \"view_public_terminal_purchase\", \"view_public_terminal_purchase\", \"view_public_terminal_purchase\", \"view_public_terminal_purchase\", \"view_public_terminal_purchase\", \"week\", \"week\", \"week\", \"week\", \"wellington\", \"wellington\", \"withdraw\", \"withdraw\", \"withdraw\", \"withdraw\", \"withdrawal\", \"withdrawal\", \"without\", \"without\", \"without\", \"without\", \"without\", \"without\", \"without_redaction_calendar\", \"without_redaction_calendar\", \"without_redaction_calendar\", \"without_redaction_calendar\"]}, \"lambda.step\": 0.01, \"plot.opts\": {\"ylab\": \"PC2\", \"xlab\": \"PC1\"}};\n",
       "\n",
       "function LDAvis_load_lib(url, callback){\n",
       "  var s = document.createElement('script');\n",
       "  s.src = url;\n",
       "  s.async = true;\n",
       "  s.onreadystatechange = s.onload = callback;\n",
       "  s.onerror = function(){console.warn(\"failed to load library \" + url);};\n",
       "  document.getElementsByTagName(\"head\")[0].appendChild(s);\n",
       "}\n",
       "\n",
       "if(typeof(LDAvis) !== \"undefined\"){\n",
       "   // already loaded: just create the visualization\n",
       "   !function(LDAvis){\n",
       "       new LDAvis(\"#\" + \"ldavis_el2506819944435163281220006349\", ldavis_el2506819944435163281220006349_data);\n",
       "   }(LDAvis);\n",
       "}else if(typeof define === \"function\" && define.amd){\n",
       "   // require.js is available: use it to load d3/LDAvis\n",
       "   require.config({paths: {d3: \"https://cdnjs.cloudflare.com/ajax/libs/d3/3.5.5/d3.min\"}});\n",
       "   require([\"d3\"], function(d3){\n",
       "      window.d3 = d3;\n",
       "      LDAvis_load_lib(\"https://cdn.rawgit.com/bmabey/pyLDAvis/files/ldavis.v1.0.0.js\", function(){\n",
       "        new LDAvis(\"#\" + \"ldavis_el2506819944435163281220006349\", ldavis_el2506819944435163281220006349_data);\n",
       "      });\n",
       "    });\n",
       "}else{\n",
       "    // require.js not available: dynamically load d3 & LDAvis\n",
       "    LDAvis_load_lib(\"https://cdnjs.cloudflare.com/ajax/libs/d3/3.5.5/d3.min.js\", function(){\n",
       "         LDAvis_load_lib(\"https://cdn.rawgit.com/bmabey/pyLDAvis/files/ldavis.v1.0.0.js\", function(){\n",
       "                 new LDAvis(\"#\" + \"ldavis_el2506819944435163281220006349\", ldavis_el2506819944435163281220006349_data);\n",
       "            })\n",
       "         });\n",
       "}\n",
       "</script>"
      ],
      "text/plain": [
       "<IPython.core.display.HTML object>"
      ]
     },
     "execution_count": 436,
     "metadata": {},
     "output_type": "execute_result"
    }
   ],
   "source": [
    "num_topics = 6\n",
    "pretrained_model_file_path = 'docket_texts/train/lda_model_noorgnomodel_' + str(num_topics)\n",
    "column_name = str(num_topics) + '-topic Model Classificaiton'\n",
    "\n",
    "topic_names = {}\n",
    "\n",
    "for i in range(num_topics):\n",
    "    topic_names[i] = 'Topic ' + str(i)\n",
    "\n",
    "LDAvis_prepared, model = topic_modeling_pipeline(num_topics, pretrained_model_file_path, trigram_bow_corpus, trigram_dictionary, export = True)\n",
    "topic_summary = []\n",
    "\n",
    "for docket_text in list(new_df['Apply Trigram Phrase Model']):\n",
    "    #print(docket_text)\n",
    "    topic_summary.append(lda_description(docket_text, model, trigram_dictionary, topic_names))\n",
    "\n",
    "new_df[column_name] = topic_summary\n",
    "pyLDAvis.display(LDAvis_prepared)"
   ]
  },
  {
   "cell_type": "markdown",
   "metadata": {},
   "source": [
    "### 10 Topics:"
   ]
  },
  {
   "cell_type": "code",
   "execution_count": 437,
   "metadata": {
    "scrolled": false
   },
   "outputs": [
    {
     "name": "stdout",
     "output_type": "stream",
     "text": [
      "\n",
      " Topic 1's make-up:\n",
      "term                 frequency\n",
      "\n",
      "order                0.081\n",
      "notice               0.047\n",
      "rule                 0.040\n",
      "schedule             0.023\n",
      "notice_appearance    0.022\n",
      "serve_answer_due     0.018\n",
      "serve                0.017\n",
      "conference_hold      0.016\n",
      "request              0.014\n",
      "appeal               0.013\n",
      "\n",
      " Topic 2's make-up:\n",
      "term                 frequency\n",
      "\n",
      "order                0.102\n",
      "motion               0.047\n",
      "serve_answer_due     0.027\n",
      "amend_complaint      0.020\n",
      "discovery            0.020\n",
      "stipulation          0.017\n",
      "complaint            0.015\n",
      "affidavit_service_summons 0.014\n",
      "request              0.012\n",
      "dismiss              0.012\n",
      "\n",
      " Topic 3's make-up:\n",
      "term                 frequency\n",
      "\n",
      "motion               0.131\n",
      "notice               0.044\n",
      "letter               0.027\n",
      "order                0.024\n",
      "dismiss              0.018\n",
      "service_accept       0.017\n",
      "summary_judgment     0.017\n",
      "letter_address       0.016\n",
      "leave                0.015\n",
      "conference_hold      0.014\n",
      "\n",
      " Topic 4's make-up:\n",
      "term                 frequency\n",
      "\n",
      "order                0.099\n",
      "motion               0.093\n",
      "complaint            0.052\n",
      "answer               0.030\n",
      "letter               0.027\n",
      "grant                0.026\n",
      "dismiss              0.022\n",
      "stipulation          0.020\n",
      "request              0.017\n",
      "schedule             0.016\n",
      "\n",
      " Topic 5's make-up:\n",
      "term                 frequency\n",
      "\n",
      "order                0.144\n",
      "motion               0.068\n",
      "notice_appeal        0.022\n",
      "dismiss              0.019\n",
      "rule                 0.017\n",
      "memorandum_law_support 0.016\n",
      "schedule             0.016\n",
      "request              0.013\n",
      "amend                0.012\n",
      "letter               0.011\n",
      "\n",
      " Topic 6's make-up:\n",
      "term                 frequency\n",
      "\n",
      "motion               0.171\n",
      "order                0.051\n",
      "dismiss              0.039\n",
      "support              0.033\n",
      "notice               0.027\n",
      "opposition           0.014\n",
      "schedule             0.014\n",
      "trial                0.013\n",
      "amend_complaint      0.012\n",
      "declaration_support  0.012\n",
      "\n",
      " Topic 7's make-up:\n",
      "term                 frequency\n",
      "\n",
      "order                0.101\n",
      "motion               0.065\n",
      "dismiss              0.038\n",
      "notice               0.034\n",
      "discovery            0.033\n",
      "amend_complaint      0.032\n",
      "letter               0.020\n",
      "response             0.017\n",
      "rule                 0.014\n",
      "support              0.013\n",
      "\n",
      " Topic 8's make-up:\n",
      "term                 frequency\n",
      "\n",
      "motion               0.179\n",
      "order                0.038\n",
      "summary_judgment     0.024\n",
      "dismiss              0.020\n",
      "support              0.020\n",
      "minute_entry_hold    0.018\n",
      "reply                0.018\n",
      "memorandum_law_support 0.017\n",
      "send                 0.016\n",
      "declaration_support  0.014\n",
      "\n",
      " Topic 9's make-up:\n",
      "term                 frequency\n",
      "\n",
      "order                0.090\n",
      "motion               0.032\n",
      "notice               0.028\n",
      "stipulation          0.026\n",
      "request              0.021\n",
      "letter               0.017\n",
      "endorsed_letter_address 0.016\n",
      "letter_address       0.015\n",
      "due                  0.014\n",
      "answer_due           0.014\n",
      "\n",
      " Topic 10's make-up:\n",
      "term                 frequency\n",
      "\n",
      "motion               0.102\n",
      "order                0.066\n",
      "amend_complaint      0.031\n",
      "request              0.028\n",
      "grant                0.020\n",
      "due                  0.020\n",
      "opposition           0.019\n",
      "serve                0.015\n",
      "letter               0.015\n",
      "notice_appearance    0.014\n"
     ]
    },
    {
     "data": {
      "text/html": [
       "\n",
       "<link rel=\"stylesheet\" type=\"text/css\" href=\"https://cdn.rawgit.com/bmabey/pyLDAvis/files/ldavis.v1.0.0.css\">\n",
       "\n",
       "\n",
       "<div id=\"ldavis_el2506819944820033042097336678\"></div>\n",
       "<script type=\"text/javascript\">\n",
       "\n",
       "var ldavis_el2506819944820033042097336678_data = {\"topic.order\": [4, 6, 8, 10, 5, 1, 3, 7, 2, 9], \"mdsDat\": {\"cluster\": [1, 1, 1, 1, 1, 1, 1, 1, 1, 1], \"topics\": [1, 2, 3, 4, 5, 6, 7, 8, 9, 10], \"Freq\": [15.304754507271499, 12.666130264432033, 11.597389101994867, 10.338242466420198, 9.109048633651911, 8.657846451340044, 8.648891651951057, 8.459774447767083, 8.10230145151268, 7.115621023658628], \"x\": [-0.006824505524623811, -0.08419129983798639, -0.09105801498810323, -0.039244865163632035, 0.04637193588604972, 0.1459183433070787, -0.09275650179011366, -0.0037643595468974216, 0.07189638752746894, 0.05365288013075954], \"y\": [-0.019065386281160793, -0.021924509538729754, -0.030374710401524854, -0.011579306894945273, -0.035577050306136726, 0.03371920871879191, 0.07885357604504904, -0.00444514272843663, -0.09465894787121673, 0.10505226925830997]}, \"R\": 30, \"tinfo\": {\"Category\": [\"Default\", \"Default\", \"Default\", \"Default\", \"Default\", \"Default\", \"Default\", \"Default\", \"Default\", \"Default\", \"Default\", \"Default\", \"Default\", \"Default\", \"Default\", \"Default\", \"Default\", \"Default\", \"Default\", \"Default\", \"Default\", \"Default\", \"Default\", \"Default\", \"Default\", \"Default\", \"Default\", \"Default\", \"Default\", \"Default\", \"Topic1\", \"Topic1\", \"Topic1\", \"Topic1\", \"Topic1\", \"Topic1\", \"Topic1\", \"Topic1\", \"Topic1\", \"Topic1\", \"Topic1\", \"Topic1\", \"Topic1\", \"Topic1\", \"Topic1\", \"Topic1\", \"Topic1\", \"Topic1\", \"Topic1\", \"Topic1\", \"Topic1\", \"Topic1\", \"Topic1\", \"Topic1\", \"Topic1\", \"Topic1\", \"Topic1\", \"Topic1\", \"Topic1\", \"Topic1\", \"Topic1\", \"Topic1\", \"Topic1\", \"Topic1\", \"Topic1\", \"Topic1\", \"Topic1\", \"Topic1\", \"Topic1\", \"Topic1\", \"Topic1\", \"Topic1\", \"Topic1\", \"Topic1\", \"Topic1\", \"Topic1\", \"Topic1\", \"Topic1\", \"Topic1\", \"Topic1\", \"Topic1\", \"Topic1\", \"Topic1\", \"Topic1\", \"Topic1\", \"Topic1\", \"Topic1\", \"Topic1\", \"Topic2\", \"Topic2\", \"Topic2\", \"Topic2\", \"Topic2\", \"Topic2\", \"Topic2\", \"Topic2\", \"Topic2\", \"Topic2\", \"Topic2\", \"Topic2\", \"Topic2\", \"Topic2\", \"Topic2\", \"Topic2\", \"Topic2\", \"Topic2\", \"Topic2\", \"Topic2\", \"Topic2\", \"Topic2\", \"Topic2\", \"Topic2\", \"Topic2\", \"Topic2\", \"Topic2\", \"Topic2\", \"Topic2\", \"Topic2\", \"Topic2\", \"Topic2\", \"Topic2\", \"Topic2\", \"Topic2\", \"Topic2\", \"Topic2\", \"Topic2\", \"Topic2\", \"Topic2\", \"Topic2\", \"Topic2\", \"Topic2\", \"Topic2\", \"Topic2\", \"Topic2\", \"Topic2\", \"Topic2\", \"Topic2\", \"Topic2\", \"Topic2\", \"Topic2\", \"Topic2\", \"Topic2\", \"Topic2\", \"Topic3\", \"Topic3\", \"Topic3\", \"Topic3\", \"Topic3\", \"Topic3\", \"Topic3\", \"Topic3\", \"Topic3\", \"Topic3\", \"Topic3\", \"Topic3\", \"Topic3\", \"Topic3\", \"Topic3\", \"Topic3\", \"Topic3\", \"Topic3\", \"Topic3\", \"Topic3\", \"Topic3\", \"Topic3\", \"Topic3\", \"Topic3\", \"Topic3\", \"Topic3\", \"Topic3\", \"Topic3\", \"Topic3\", \"Topic3\", \"Topic3\", \"Topic3\", \"Topic3\", \"Topic3\", \"Topic3\", \"Topic3\", \"Topic3\", \"Topic3\", \"Topic3\", \"Topic3\", \"Topic3\", \"Topic3\", \"Topic3\", \"Topic3\", \"Topic3\", \"Topic3\", \"Topic3\", \"Topic3\", \"Topic3\", \"Topic3\", \"Topic3\", \"Topic3\", \"Topic3\", \"Topic3\", \"Topic4\", \"Topic4\", \"Topic4\", \"Topic4\", \"Topic4\", \"Topic4\", \"Topic4\", \"Topic4\", \"Topic4\", \"Topic4\", \"Topic4\", \"Topic4\", \"Topic4\", \"Topic4\", \"Topic4\", \"Topic4\", \"Topic4\", \"Topic4\", \"Topic4\", \"Topic4\", \"Topic4\", \"Topic4\", \"Topic4\", \"Topic4\", \"Topic4\", \"Topic4\", \"Topic4\", \"Topic4\", \"Topic4\", \"Topic4\", \"Topic4\", \"Topic4\", \"Topic4\", \"Topic4\", \"Topic4\", \"Topic4\", \"Topic4\", \"Topic4\", \"Topic4\", \"Topic4\", \"Topic4\", \"Topic4\", \"Topic4\", \"Topic4\", \"Topic4\", \"Topic4\", \"Topic4\", \"Topic4\", \"Topic4\", \"Topic4\", \"Topic4\", \"Topic4\", \"Topic4\", \"Topic4\", \"Topic4\", \"Topic4\", \"Topic4\", \"Topic4\", \"Topic5\", \"Topic5\", \"Topic5\", \"Topic5\", \"Topic5\", \"Topic5\", \"Topic5\", \"Topic5\", \"Topic5\", \"Topic5\", \"Topic5\", \"Topic5\", \"Topic5\", \"Topic5\", \"Topic5\", \"Topic5\", \"Topic5\", \"Topic5\", \"Topic5\", \"Topic5\", \"Topic5\", \"Topic5\", \"Topic5\", \"Topic5\", \"Topic5\", \"Topic5\", \"Topic5\", \"Topic5\", \"Topic5\", \"Topic5\", \"Topic5\", \"Topic5\", \"Topic5\", \"Topic5\", \"Topic5\", \"Topic5\", \"Topic5\", \"Topic5\", \"Topic5\", \"Topic5\", \"Topic5\", \"Topic5\", \"Topic5\", \"Topic5\", \"Topic5\", \"Topic5\", \"Topic5\", \"Topic5\", \"Topic5\", \"Topic5\", \"Topic5\", \"Topic5\", \"Topic6\", \"Topic6\", \"Topic6\", \"Topic6\", \"Topic6\", \"Topic6\", \"Topic6\", \"Topic6\", \"Topic6\", \"Topic6\", \"Topic6\", \"Topic6\", \"Topic6\", \"Topic6\", \"Topic6\", \"Topic6\", \"Topic6\", \"Topic6\", \"Topic6\", \"Topic6\", \"Topic6\", \"Topic6\", \"Topic6\", \"Topic6\", \"Topic6\", \"Topic6\", \"Topic6\", \"Topic6\", \"Topic6\", \"Topic6\", \"Topic6\", \"Topic6\", \"Topic6\", \"Topic6\", \"Topic6\", \"Topic6\", \"Topic6\", \"Topic6\", \"Topic6\", \"Topic6\", \"Topic6\", \"Topic6\", \"Topic6\", \"Topic6\", \"Topic6\", \"Topic6\", \"Topic6\", \"Topic6\", \"Topic6\", \"Topic6\", \"Topic7\", \"Topic7\", \"Topic7\", \"Topic7\", \"Topic7\", \"Topic7\", \"Topic7\", \"Topic7\", \"Topic7\", \"Topic7\", \"Topic7\", \"Topic7\", \"Topic7\", \"Topic7\", \"Topic7\", \"Topic7\", \"Topic7\", \"Topic7\", \"Topic7\", \"Topic7\", \"Topic7\", \"Topic7\", \"Topic7\", \"Topic7\", \"Topic7\", \"Topic7\", \"Topic7\", \"Topic7\", \"Topic7\", \"Topic7\", \"Topic7\", \"Topic7\", \"Topic7\", \"Topic7\", \"Topic7\", \"Topic7\", \"Topic7\", \"Topic7\", \"Topic7\", \"Topic7\", \"Topic7\", \"Topic7\", \"Topic7\", \"Topic7\", \"Topic7\", \"Topic7\", \"Topic7\", \"Topic7\", \"Topic7\", \"Topic7\", \"Topic8\", \"Topic8\", \"Topic8\", \"Topic8\", \"Topic8\", \"Topic8\", \"Topic8\", \"Topic8\", \"Topic8\", \"Topic8\", \"Topic8\", \"Topic8\", \"Topic8\", \"Topic8\", \"Topic8\", \"Topic8\", \"Topic8\", \"Topic8\", \"Topic8\", \"Topic8\", \"Topic8\", \"Topic8\", \"Topic8\", \"Topic8\", \"Topic8\", \"Topic8\", \"Topic8\", \"Topic8\", \"Topic8\", \"Topic8\", \"Topic8\", \"Topic8\", \"Topic8\", \"Topic8\", \"Topic8\", \"Topic8\", \"Topic8\", \"Topic8\", \"Topic8\", \"Topic8\", \"Topic8\", \"Topic8\", \"Topic8\", \"Topic8\", \"Topic8\", \"Topic8\", \"Topic8\", \"Topic8\", \"Topic8\", \"Topic8\", \"Topic8\", \"Topic8\", \"Topic8\", \"Topic9\", \"Topic9\", \"Topic9\", \"Topic9\", \"Topic9\", \"Topic9\", \"Topic9\", \"Topic9\", \"Topic9\", \"Topic9\", \"Topic9\", \"Topic9\", \"Topic9\", \"Topic9\", \"Topic9\", \"Topic9\", \"Topic9\", \"Topic9\", \"Topic9\", \"Topic9\", \"Topic9\", \"Topic9\", \"Topic9\", \"Topic9\", \"Topic9\", \"Topic9\", \"Topic9\", \"Topic9\", \"Topic9\", \"Topic9\", \"Topic9\", \"Topic9\", \"Topic9\", \"Topic9\", \"Topic9\", \"Topic9\", \"Topic9\", \"Topic9\", \"Topic9\", \"Topic9\", \"Topic9\", \"Topic9\", \"Topic9\", \"Topic9\", \"Topic9\", \"Topic9\", \"Topic9\", \"Topic9\", \"Topic9\", \"Topic9\", \"Topic9\", \"Topic9\", \"Topic9\", \"Topic9\", \"Topic10\", \"Topic10\", \"Topic10\", \"Topic10\", \"Topic10\", \"Topic10\", \"Topic10\", \"Topic10\", \"Topic10\", \"Topic10\", \"Topic10\", \"Topic10\", \"Topic10\", \"Topic10\", \"Topic10\", \"Topic10\", \"Topic10\", \"Topic10\", \"Topic10\", \"Topic10\", \"Topic10\", \"Topic10\", \"Topic10\", \"Topic10\", \"Topic10\", \"Topic10\", \"Topic10\", \"Topic10\", \"Topic10\", \"Topic10\", \"Topic10\", \"Topic10\", \"Topic10\", \"Topic10\", \"Topic10\", \"Topic10\", \"Topic10\", \"Topic10\", \"Topic10\", \"Topic10\", \"Topic10\", \"Topic10\", \"Topic10\", \"Topic10\", \"Topic10\", \"Topic10\", \"Topic10\", \"Topic10\", \"Topic10\", \"Topic10\", \"Topic10\", \"Topic10\", \"Topic10\"], \"Total\": [2138.0, 1720.0, 274.0, 96.0, 202.0, 489.0, 178.0, 281.0, 291.0, 218.0, 121.0, 79.0, 68.0, 87.0, 231.0, 67.0, 102.0, 184.0, 79.0, 439.0, 192.0, 92.0, 170.0, 102.0, 221.0, 84.0, 52.0, 78.0, 58.0, 27.0, 12.583640194482392, 274.6884205812224, 14.62752972332152, 170.682966169285, 12.848325721836837, 10.295350775003437, 20.816656006644003, 31.891743372384003, 11.612804786445938, 16.742361507461766, 19.02834140025213, 24.046346650445553, 67.11422797128573, 10.732025475172783, 19.171654324234815, 66.0053099636648, 11.64166599292869, 11.288117072785965, 13.176246720265707, 23.345298378545696, 11.857722784674642, 13.939122849883903, 22.677544521380447, 16.42941474285809, 10.087799586864751, 221.46378875431114, 18.284411459766872, 62.77597652290953, 17.10862870697874, 12.792639013219395, 150.03549409603184, 98.71379251445373, 29.267606777853743, 281.19962103771127, 231.9863744889548, 29.90150544039724, 1720.625889523846, 45.438176771945656, 81.50809346254617, 2138.563499532694, 46.398285397597135, 286.3058794192257, 439.3803031544534, 302.71975464245594, 108.18674928865164, 79.38577996182265, 90.26237580256296, 81.66500881954336, 63.53693139574606, 291.9970305634839, 489.88529197079004, 170.6340827301476, 192.92773898271025, 115.74757665880963, 89.39829896329648, 207.1994475737156, 179.82471488038433, 158.87658991790386, 43.61820945522182, 16.461802538216578, 16.70958988099084, 17.590274927748602, 20.074439262607953, 75.83036532892666, 25.78619403256089, 12.585977568204667, 218.28557125234943, 40.6183691117636, 30.19260437078924, 78.48632355863595, 19.706298939336442, 11.682337154720834, 20.39402922790048, 21.421282528932633, 12.01652069447456, 12.180219735451326, 27.461445744273348, 12.540266994227858, 34.15906916930808, 15.946407227430068, 27.56090982204106, 20.749831630051833, 34.67665118522961, 45.24545432213726, 49.69505984631016, 25.775472774348998, 11.148596043452867, 38.73153407470524, 88.04947880390183, 2138.563499532694, 439.3803031544534, 147.24551218393944, 64.90519380221359, 46.242030506709554, 158.87658991790386, 115.74757665880963, 489.88529197079004, 1720.625889523846, 179.82471488038433, 114.54242520923233, 286.3058794192257, 291.9970305634839, 98.00468664735922, 231.9863744889548, 207.1994475737156, 302.71975464245594, 108.18674928865164, 90.26237580256296, 66.78930557928759, 192.92773898271025, 97.06558787438331, 70.29822437305819, 184.3390457507437, 17.21861374733318, 58.4014719716814, 25.382483531191294, 14.027939644114108, 79.81971804418036, 23.184454322280917, 15.64291358089924, 21.763763644463427, 45.24953693385871, 10.57726438284132, 44.16400046830213, 18.30442737615523, 18.3044189223943, 29.253720594241152, 16.373491549101836, 18.756873416944494, 18.172767337050075, 102.27109479097913, 97.06558787438331, 19.682422004584236, 10.60338745019888, 17.213012013758632, 192.92773898271025, 52.50037333438986, 20.59795097677873, 23.195547848875076, 21.004635053369782, 15.264437492818221, 28.64545245272027, 34.94797688560352, 2138.563499532694, 78.48632355863595, 179.82471488038433, 218.28557125234943, 70.29822437305819, 158.87658991790386, 207.1994475737156, 46.398285397597135, 104.06638728260116, 129.20510631779763, 98.71379251445373, 439.3803031544534, 184.3390457507437, 1720.625889523846, 108.18674928865164, 286.3058794192257, 202.54483128217976, 115.74757665880963, 489.88529197079004, 291.9970305634839, 66.07446906333848, 95.72854748118617, 147.24551218393944, 302.71975464245594, 24.616161467972866, 31.291433857542078, 17.476341221684695, 25.219291222123303, 10.646113768144122, 62.5980827727045, 11.968625607303771, 12.547193454603281, 12.686622331018961, 12.804261207539247, 13.089406204340358, 28.810831096438626, 16.014527647839127, 23.95756019007822, 12.507923830509874, 11.487283548449492, 76.28840232281699, 12.864406430827703, 24.54278440173631, 12.565835920180227, 18.83901290441057, 16.84908283219189, 13.679220469836597, 16.08559305823242, 92.94039784083934, 16.477549153936607, 13.34676111422419, 16.757119676188996, 13.5568515926034, 17.62343995633849, 147.24551218393944, 79.38577996182265, 291.9970305634839, 184.3390457507437, 121.13922802583416, 302.71975464245594, 63.06806900982221, 221.46378875431114, 81.66500881954336, 66.07446906333848, 170.6340827301476, 61.25212974477888, 2138.563499532694, 1720.625889523846, 43.01180532710564, 150.03549409603184, 102.27109479097913, 281.19962103771127, 38.80204847835411, 179.82471488038433, 286.3058794192257, 66.78930557928759, 439.3803031544534, 95.72854748118617, 192.92773898271025, 114.54242520923233, 489.88529197079004, 104.06638728260116, 25.024006727265455, 14.572534591996158, 79.24047192307114, 33.97934752553404, 21.09016614723558, 21.09538474593335, 18.4037280250571, 32.25737468280158, 15.024867611721621, 39.74441597484448, 13.187295332583805, 34.49043251983886, 18.454436187018313, 45.24545432213726, 49.69505984631016, 14.155841615000005, 27.56918451865575, 11.67297328964402, 14.665009670808628, 11.803011390682315, 27.461445744273348, 64.90519380221359, 19.84459118890768, 13.346562592796893, 16.623923546227356, 10.131866568114013, 37.723029479407046, 10.90854001573902, 45.79791166139409, 19.272583809800103, 25.89736237666381, 52.50037333438986, 95.72854748118617, 1720.625889523846, 68.2442499503078, 202.54483128217976, 55.80047982907146, 207.1994475737156, 121.13922802583416, 2138.563499532694, 76.28840232281699, 286.3058794192257, 439.3803031544534, 129.20510631779763, 302.71975464245594, 158.87658991790386, 281.19962103771127, 231.9863744889548, 150.03549409603184, 489.88529197079004, 87.54837544244766, 115.74757665880963, 13.989346955815817, 12.818946137112142, 21.440939896554507, 20.696859749101865, 22.669960952460528, 18.101055134011652, 22.403704464263452, 16.05789960702701, 43.690358429435086, 31.21370702581541, 58.22015261200731, 17.80477003504866, 18.67509006332182, 19.08715842823674, 16.030126280264223, 34.84634763687972, 202.54483128217976, 28.543899977166063, 96.01561994793798, 24.29746691398858, 55.02211906158683, 87.54837544244766, 121.13922802583416, 14.67150029295444, 11.288117072785965, 11.385702828751015, 29.93514370836349, 18.89792879508809, 11.803011390682315, 15.710150260136588, 28.310742680534318, 89.39829896329648, 33.48200191512679, 33.481969024118726, 489.88529197079004, 102.27109479097913, 170.6340827301476, 1720.625889523846, 286.3058794192257, 81.66500881954336, 179.82471488038433, 184.3390457507437, 302.71975464245594, 274.6884205812224, 150.03549409603184, 178.30431053691868, 104.06638728260116, 88.04947880390183, 2138.563499532694, 95.72854748118617, 11.387024931756786, 22.97363306573069, 20.81286466322586, 29.035776950427532, 36.37358377059193, 35.557129429903306, 68.2442499503078, 28.722928004081126, 11.67297328964402, 23.41440009785635, 40.90603185636829, 54.65714757787429, 21.351764490223562, 23.649506536003152, 23.755286098984307, 11.321379616525467, 23.610379509667812, 29.72632221965974, 14.57938316339118, 15.37833906485557, 15.714718926558401, 15.972385571381706, 18.756873416944494, 56.253760392178336, 34.94797688560352, 23.657005565292586, 92.94039784083934, 87.54837544244766, 84.70320647286633, 35.95226207363124, 102.16578649612717, 489.88529197079004, 2138.563499532694, 281.19962103771127, 34.67665118522961, 192.92773898271025, 39.792457538437915, 184.3390457507437, 129.20510631779763, 170.6340827301476, 439.3803031544534, 178.30431053691868, 1720.625889523846, 179.82471488038433, 286.3058794192257, 81.66500881954336, 207.1994475737156, 98.00468664735922, 291.9970305634839, 221.46378875431114, 12.644227694998609, 27.836041461682363, 27.836163592347752, 19.696644722743486, 35.61172722273061, 13.346562592796893, 11.161441297393665, 178.30431053691868, 28.64545245272027, 29.267606777853743, 17.968303118656813, 16.27899784306141, 23.89822873402168, 16.991247594580003, 11.747408008087774, 14.987177065121346, 28.14880662651321, 12.291031330674082, 15.264437492818221, 15.401246865865701, 48.10426954546085, 114.54242520923233, 51.78704847693579, 16.623923546227356, 33.15345869673688, 17.10862870697874, 14.027939644114108, 24.54278440173631, 17.71949701118092, 21.207661869103468, 71.52369946654485, 291.9970305634839, 54.72139552435825, 439.3803031544534, 68.2442499503078, 1720.625889523846, 489.88529197079004, 281.19962103771127, 102.16578649612717, 104.06638728260116, 2138.563499532694, 202.54483128217976, 88.04947880390183, 218.28557125234943, 115.74757665880963, 170.6340827301476, 302.71975464245594, 89.39829896329648, 207.1994475737156, 231.9863744889548, 158.87658991790386, 147.24551218393944, 221.46378875431114, 15.594674366690777, 23.25318533942899, 28.710772168626207, 12.976946157378139, 96.01561994793798, 22.56525826480653, 28.310742680534318, 14.763082904575475, 34.18751790019476, 32.74560045671663, 21.814268700473566, 67.11422797128573, 35.476869898154604, 14.987177065121346, 36.335943005404495, 12.547193454603281, 31.355401940452534, 11.342491780933026, 19.682422004584236, 24.03801380026595, 13.997958009937793, 26.653169419620912, 16.991247594580003, 14.112613810569083, 13.53347524014595, 10.784185246676643, 17.883884837470347, 24.919702598103925, 16.453084262626827, 30.869256790995067, 26.654253585748517, 40.17487476198495, 48.10426954546085, 32.652749695540535, 178.30431053691868, 37.723029479407046, 1720.625889523846, 81.50809346254617, 28.543899977166063, 231.9863744889548, 291.9970305634839, 50.0013809550931, 2138.563499532694, 274.6884205812224, 62.77597652290953, 79.38577996182265, 192.92773898271025, 302.71975464245594, 207.1994475737156, 286.3058794192257, 439.3803031544534, 489.88529197079004, 170.6340827301476, 121.13922802583416, 13.336268035271011, 17.4488795260397, 26.32446709049522, 25.41922918467846, 33.15345869673688, 52.07746359658933, 11.416647642757585, 11.519477643810895, 39.792457538437915, 11.91631595983763, 12.101365602022934, 15.11072444387981, 18.2254346313675, 15.605914634155033, 12.994705231551954, 13.773403196452644, 33.3965384477367, 18.910427207391045, 45.83608953054856, 14.967488091519666, 45.438176771945656, 11.511424003368914, 15.484044732909842, 15.714718926558401, 11.88972474818807, 20.39402922790048, 90.56932896516963, 12.507923830509874, 55.02211906158683, 12.585977568204667, 39.414397325084245, 54.72139552435825, 102.16578649612717, 50.364497389892, 79.81971804418036, 231.9863744889548, 84.70320647286633, 1720.625889523846, 90.26237580256296, 302.71975464245594, 489.88529197079004, 184.3390457507437, 281.19962103771127, 61.25212974477888, 71.52369946654485, 221.46378875431114, 54.144198324236974, 2138.563499532694, 158.87658991790386, 207.1994475737156, 202.54483128217976, 170.682966169285, 439.3803031544534], \"loglift\": [30.0, 29.0, 28.0, 27.0, 26.0, 25.0, 24.0, 23.0, 22.0, 21.0, 20.0, 19.0, 18.0, 17.0, 16.0, 15.0, 14.0, 13.0, 12.0, 11.0, 10.0, 9.0, 8.0, 7.0, 6.0, 5.0, 4.0, 3.0, 2.0, 1.0, 1.4944, 1.4315, 1.3439, 1.3369, 1.275, 1.2481, 1.2303, 1.2214, 1.2211, 1.1928, 1.1672, 1.1399, 1.1294, 1.0986, 1.0734, 1.0707, 1.0683, 1.0044, 1.0008, 0.984, 0.9552, 0.9537, 0.952, 0.9459, 0.9376, 0.9303, 0.9221, 0.9175, 0.8988, 0.8793, 0.8658, 0.8581, 0.874, 0.7342, 0.6601, 0.8681, 0.2349, 0.7883, 0.6562, -0.0438, 0.7463, 0.2357, 0.107, 0.2089, 0.4678, 0.5246, 0.4767, 0.506, 0.6005, -0.1456, -0.3967, 0.0402, -0.0852, 0.1193, 0.2853, -0.2835, -0.3399, -0.3168, 1.7325, 1.5796, 1.5646, 1.5133, 1.3812, 1.3434, 1.3295, 1.269, 1.2152, 1.1829, 1.1717, 1.1639, 1.1515, 1.1253, 1.1173, 1.116, 1.0971, 1.0834, 1.0678, 1.0544, 1.0496, 1.0324, 0.9531, 0.9482, 0.9389, 0.9338, 0.9127, 0.9106, 0.8925, 0.8891, 0.8832, 0.5663, 0.6576, 0.7387, 0.8246, 0.8587, 0.5122, 0.5838, 0.2005, -0.4287, 0.33, 0.4899, 0.0677, -0.0909, 0.4265, -0.1392, -0.0996, -0.3736, 0.2957, 0.3844, 0.5434, -0.3105, 0.2299, 0.4794, -0.4717, 1.9519, 1.7658, 1.688, 1.6503, 1.6174, 1.4224, 1.4221, 1.4098, 1.3657, 1.3537, 1.3446, 1.2679, 1.2679, 1.2543, 1.2476, 1.2436, 1.1223, 1.1081, 1.0995, 1.0636, 1.0476, 1.0459, 1.0219, 1.0183, 1.0181, 1.0109, 0.9986, 0.987, 0.9365, 0.9363, 0.6081, 0.8558, 0.7676, 0.7089, 0.8325, 0.6919, 0.5847, 0.8774, 0.6884, 0.6339, 0.6151, 0.0165, 0.3353, -0.7338, 0.4721, 0.0311, 0.1826, 0.3636, -0.5756, -0.3249, 0.6657, 0.3938, 0.06, -0.6646, 2.0033, 1.8724, 1.7625, 1.6557, 1.5747, 1.5099, 1.4578, 1.4106, 1.3957, 1.3904, 1.3684, 1.3571, 1.3457, 1.3428, 1.3095, 1.2806, 1.2759, 1.2391, 1.2023, 1.1907, 1.1832, 1.174, 1.1672, 1.1622, 1.1498, 1.1382, 1.1304, 1.1213, 1.115, 1.0709, 1.0348, 0.9859, 0.837, 0.8805, 0.9036, 0.7159, 0.9455, 0.7021, 0.8731, 0.8991, 0.6782, 0.9106, 0.0476, -0.1763, 0.9564, 0.4823, 0.5791, 0.1484, 0.9649, 0.2881, -0.0208, 0.682, -0.5826, 0.3956, -0.1133, 0.216, -1.1073, 0.2385, 2.0134, 1.8671, 1.7988, 1.7677, 1.7179, 1.6999, 1.6335, 1.5564, 1.5529, 1.5507, 1.5044, 1.4863, 1.4774, 1.4475, 1.4444, 1.4335, 1.4178, 1.4081, 1.3982, 1.3971, 1.3498, 1.3306, 1.2806, 1.2741, 1.2728, 1.2702, 1.2311, 1.1961, 1.1666, 1.125, 1.1098, 1.0662, 0.9885, 0.6084, 0.9459, 0.6321, 0.9395, 0.5317, 0.6581, -0.3528, 0.766, 0.2019, -0.0602, 0.4338, -0.0547, 0.2976, -0.1243, -0.0825, 0.2224, -0.8399, 0.5548, 0.2886, 2.3198, 2.1865, 2.1528, 2.1434, 1.9317, 1.7099, 1.6992, 1.6779, 1.6606, 1.6119, 1.6081, 1.5744, 1.5269, 1.5051, 1.5005, 1.4801, 1.4626, 1.4231, 1.4168, 1.4155, 1.414, 1.3964, 1.3779, 1.3709, 1.3535, 1.3447, 1.3386, 1.3358, 1.3088, 1.3025, 1.2626, 1.1733, 1.2266, 1.2266, 0.7434, 0.9677, 0.7649, 0.0384, 0.5759, 0.8893, 0.4609, 0.3787, -0.0177, 0.031, 0.3497, 0.1549, 0.4236, 0.5366, -2.2424, 0.4152, 2.203, 2.1382, 2.0661, 2.0037, 1.8246, 1.7525, 1.6859, 1.6798, 1.6739, 1.6627, 1.6608, 1.5838, 1.574, 1.5664, 1.562, 1.5255, 1.4737, 1.4571, 1.4514, 1.3983, 1.3766, 1.3603, 1.3514, 1.3422, 1.3416, 1.3105, 1.274, 1.2552, 1.2545, 1.2339, 1.2143, 0.6831, 0.3009, 0.7394, 1.1838, 0.6453, 1.1323, 0.4769, 0.6203, 0.4097, -0.1291, 0.2468, -1.1696, 0.1611, -0.2111, 0.6327, -0.1717, 0.4526, -0.5146, -0.3595, 2.2123, 2.1985, 2.1985, 1.8555, 1.8193, 1.5598, 1.5595, 1.398, 1.3947, 1.3731, 1.37, 1.3611, 1.338, 1.3183, 1.2901, 1.2875, 1.2552, 1.2467, 1.2465, 1.2375, 1.2217, 1.2044, 1.1744, 1.1611, 1.1541, 1.1323, 1.1126, 1.1024, 1.0973, 1.0967, 0.9986, 0.8945, 0.9866, 0.6523, 0.8983, 0.2572, 0.4275, 0.4353, 0.7168, 0.6341, -0.405, 0.3909, 0.6692, 0.2935, 0.541, 0.2525, -0.2429, 0.4844, -0.094, -0.3909, -0.0792, -0.0321, -0.5081, 2.0776, 1.9177, 1.9053, 1.8612, 1.8152, 1.8125, 1.7663, 1.7326, 1.7262, 1.7, 1.6257, 1.5498, 1.5407, 1.5385, 1.5107, 1.4978, 1.4834, 1.4556, 1.4448, 1.3964, 1.3885, 1.3877, 1.3843, 1.3804, 1.3781, 1.3698, 1.3617, 1.3606, 1.3511, 1.3383, 1.2956, 1.2357, 1.1498, 1.2222, 0.8971, 1.1944, 0.2689, 0.9305, 1.2247, 0.504, 0.4073, 1.0155, -0.7364, 0.2014, 0.8838, 0.7353, 0.2075, -0.1503, 0.0106, -0.2143, -0.5283, -0.9219, -0.1746, 0.1321, 2.3758, 2.3055, 2.0601, 1.835, 1.8249, 1.78, 1.7339, 1.725, 1.7203, 1.6909, 1.6757, 1.6718, 1.6634, 1.6394, 1.6045, 1.5461, 1.5424, 1.5153, 1.4739, 1.4631, 1.4603, 1.4461, 1.4292, 1.4145, 1.4138, 1.372, 1.3645, 1.3629, 1.3583, 1.3568, 1.2922, 1.2501, 1.1986, 1.2457, 1.1571, 0.9194, 1.0336, 0.1411, 0.9015, 0.416, 0.2159, 0.542, 0.2589, 0.931, 0.8523, 0.2538, 0.9747, -1.1019, 0.3534, 0.1249, 0.0342, -0.009, -1.0311], \"Freq\": [2138.0, 1720.0, 274.0, 96.0, 202.0, 489.0, 178.0, 281.0, 291.0, 218.0, 121.0, 79.0, 68.0, 87.0, 231.0, 67.0, 102.0, 184.0, 79.0, 439.0, 192.0, 92.0, 170.0, 102.0, 221.0, 84.0, 52.0, 78.0, 58.0, 27.0, 8.58320817679738, 175.93305825338803, 8.582803058106327, 99.45291187499494, 7.0368458415984705, 5.489189399014118, 10.903058848893407, 16.55599730119067, 6.026534677772554, 8.44645436812956, 9.356543712640812, 11.505971843383383, 31.77790819253303, 4.9273469769693286, 8.583253625315912, 29.47156513358279, 5.185408366765245, 4.71696186670869, 5.486105560312689, 9.558266178550213, 4.716917201785305, 5.5368116104842455, 8.992051295584579, 6.474930545205, 3.9430754634768417, 85.93407137794033, 7.036759646132289, 24.047655870881222, 6.432556462232605, 4.716941885032439, 54.57733303945359, 35.63413663046356, 10.734540443747413, 89.68288459310577, 68.70292693081414, 10.902974220617521, 333.07477770291433, 15.29749647923206, 24.04454186376663, 313.27306504761486, 14.977214500375458, 55.46572933591241, 74.83929814035633, 57.09630307438034, 26.43472333469587, 20.52976814556746, 22.251235786718922, 20.73094836363506, 17.728329299202787, 38.635685303924895, 50.4257644561988, 27.18595600222493, 27.11540736394082, 19.95960080867983, 18.20021343116969, 23.882257741611, 19.59138944905544, 17.713179270628668, 31.241354398601306, 10.119161105313376, 10.118679919044974, 10.118678622046945, 10.119301829599419, 36.80671068102587, 12.343418691049049, 5.6707620151655425, 93.20468552346645, 16.790840493182753, 12.342274738788316, 31.83600983648635, 7.895027382889383, 4.559259996594758, 7.895295861481188, 8.282432911877477, 4.559039831179498, 4.558411435634911, 10.118749308439472, 4.558922777107467, 12.359217424028634, 5.6711809455286, 9.054642840308428, 6.783210193797784, 11.231411491746341, 14.580906305169767, 15.680125103915977, 8.115691493891362, 3.447318295692467, 11.935790368807718, 26.974544759864617, 477.1904353749981, 107.4225127946621, 39.03933974053354, 18.752258186040564, 13.82290952962912, 33.58618935151098, 26.285351135715562, 75.82571089848365, 141.95214888775533, 31.682338916127833, 23.679264464013364, 38.803532529055154, 33.77232672650746, 19.015563052711478, 25.565862231627495, 23.75664596036243, 26.390480607876565, 18.41810091109375, 16.791767846772803, 14.566907805453106, 17.91376711888355, 15.472491283602725, 14.380767836460574, 14.568730087682505, 14.06199046683258, 39.596293551658626, 15.922239219442499, 8.473481722475075, 46.657183828998434, 11.150214257485585, 7.521015184418463, 10.336354389103667, 20.56389739740861, 4.749555137495597, 19.65103895725095, 7.543476102179105, 7.543427412215419, 11.893072283211556, 6.61199553225146, 7.543792586943068, 6.473974329701096, 35.922756922634456, 33.80120219807959, 6.612129132761575, 3.5057406230093875, 5.681329034765453, 62.16948324320208, 16.856902450411123, 6.611915965725435, 7.392730193265282, 6.612193261006431, 4.74987756006001, 8.474811789775782, 10.337803212413364, 455.5937288034098, 21.420092595435975, 44.934979436360635, 51.43587812842033, 18.743847553842375, 36.804627169805826, 43.12026886295867, 12.938734380664528, 24.024046104115975, 28.245717718482535, 21.17833386257106, 51.804739042588864, 29.896143604165584, 95.79894287619807, 20.11743655672454, 34.25314481613871, 28.196581232202135, 19.310116581757796, 31.949415998670414, 24.469088998052683, 14.91096767463343, 16.46020987797529, 18.132104474963857, 18.06238638476511, 18.865840035526325, 21.04055821836288, 10.527750883284199, 13.653594785831753, 5.315144113207637, 29.292629868062416, 5.316369471456992, 5.316513444434886, 5.296096276507305, 5.316735755650751, 5.316629893167006, 11.571245854562518, 6.358973609934592, 9.48572422465543, 4.790043433395838, 4.273982880383487, 28.25134318819503, 4.59145229495068, 8.443558886172953, 4.273308271705819, 6.358539573751236, 5.634610094218271, 4.543676026723907, 5.316574315363039, 30.339025471395363, 5.316789745517461, 4.273045997402339, 5.316481685689761, 4.274179255290836, 5.31666535709906, 42.84336443018767, 21.996390584101206, 69.71677188845553, 45.97003406010844, 30.913424721950197, 64.03264250021562, 16.783322782907934, 46.20408330817175, 20.214371401968343, 16.78562105743005, 34.75926690069683, 15.740718115117913, 231.86190895515318, 149.12912449621942, 11.571038364094377, 25.12392828638869, 18.86745973152763, 33.72087026663569, 10.528669769643109, 24.7973382895344, 28.989257631143197, 13.656450955643209, 25.367636427468934, 14.699059857932578, 17.808259002160824, 14.696574206814233, 16.735035728197087, 13.656664797860374, 17.070181115043876, 8.587995585899636, 43.61480502995099, 18.130121078848838, 10.706034251745113, 10.51786830594809, 8.586491982067677, 13.932730764859066, 6.467255190215903, 17.069311785781228, 5.407093696690043, 13.889128119245711, 7.36510722058978, 17.525948434390553, 19.19018603205422, 5.407190237010519, 10.366505209278703, 4.34687110759905, 5.407124011283429, 4.347101964887145, 9.647497154046395, 22.367838196852805, 6.505342911724758, 4.347079112347515, 5.407037731286868, 3.286890802065967, 11.768709058251874, 3.286381283707898, 13.396382592508116, 5.407333881545334, 7.156758751272906, 13.889157967460738, 23.431843114441683, 287.98865209356006, 16.007860756090555, 34.71620145643216, 13.006060282877133, 32.11879859174814, 21.308776889877688, 136.88618257573148, 14.94845712739935, 31.9143084706018, 37.68428557250302, 18.161801228072555, 26.10577866796701, 19.487636553387063, 22.620342902896105, 19.458236061585993, 17.070828448207262, 19.265925877683888, 13.88820375733661, 14.070761969735536, 12.321672041238092, 9.881906174956933, 15.981279615893968, 15.282047301215954, 13.545079470221241, 8.663733847961051, 10.609442615976267, 7.443696211129231, 19.90505105741523, 13.545252348271624, 25.168650439818702, 7.441911577716806, 7.443627059909077, 7.443719261535948, 6.2228212239456795, 13.254964391607967, 75.70274150714751, 10.255797070232157, 34.28290891985081, 8.663856192427476, 19.589767594328364, 30.625823591622332, 41.603384749099206, 5.003284046905868, 3.7829423220161935, 3.782402410566533, 9.88444437935821, 6.222232108743217, 3.7828009166365204, 5.0031931751101535, 8.663895200808076, 25.020452282596757, 9.884027698929081, 9.883966526695868, 89.20072633678186, 23.30438496461641, 31.74335695633394, 154.79750994256665, 44.08993141581426, 17.206064749955562, 24.68469828523623, 23.308406374034572, 25.74987353764233, 24.529920123450438, 18.427209692863944, 18.02360061745067, 13.762003301626585, 13.037488236995499, 19.66336399676207, 12.55325149854547, 8.914922670473775, 16.857578715421344, 14.210427894064496, 18.62381195434291, 19.505493841632404, 17.741269227750642, 31.85832705476442, 13.326829487998047, 5.383769592513375, 10.679323526146948, 18.621475643560284, 23.03728546397274, 8.912408346625453, 9.796407060680433, 9.796974754088948, 4.501502299072509, 8.914539189590956, 11.03805262209986, 5.383189500184861, 5.3843970664290275, 5.384113662543341, 5.384102592079056, 6.266616535464184, 18.622161126708786, 11.562538451330578, 7.586827410637229, 28.737301024337533, 26.566064148753377, 25.684098857578192, 10.679484712106932, 29.76022786570442, 83.88905928878066, 249.9025139764374, 50.94522095831844, 9.797576987346032, 31.81302140108892, 10.679048092995547, 25.6851881912638, 20.779047138031515, 22.23152039256141, 33.399073534588396, 19.738301277352118, 46.205939256606705, 18.271248664177957, 20.050814284646766, 13.297294374923842, 15.093841201968106, 13.328225252135052, 15.0958994226879, 13.369725323008069, 9.772879350878803, 21.22187671688309, 21.221235675791213, 10.65577052010086, 18.58144924996499, 5.371823862403974, 4.491036434116541, 61.04403543148441, 9.77513338996132, 9.774002039061333, 5.982146958175309, 5.371693921642107, 7.705902122872943, 5.371845519197619, 3.6106050435166237, 4.5944510888559265, 8.354692015515607, 3.6174394944549495, 4.491399835113896, 4.491257766547588, 13.808012991219005, 32.31342610496996, 14.178114600527016, 4.490886569104521, 8.89420259369996, 4.49089090046325, 3.610276726524974, 6.252633380620924, 4.491248237558384, 5.371840754703016, 16.424988749435368, 60.42456104099067, 12.416578726180711, 71.36293279390186, 14.176480812014477, 188.25820351344944, 63.548738906360796, 36.76529709405221, 17.70059641816075, 16.59775971895708, 120.66253407811443, 25.329924450065533, 14.544489508784686, 24.764619764378857, 16.82037423218744, 18.58178363085886, 20.0877242940695, 12.276682769411323, 15.955585543636932, 13.2761065464191, 12.41762344990612, 12.062901629172675, 11.2716342899582, 10.08983302374791, 12.82174691056802, 15.636282345751187, 6.762100076684032, 47.784336437951936, 11.199775504130473, 13.417358968920755, 6.764672458901051, 15.565115178580898, 14.52341694888723, 8.982384522060512, 25.616003638140164, 13.417598742654256, 5.655737608966018, 13.336591726074564, 4.546277994718047, 11.19820909302719, 3.939655012129489, 6.763139649307133, 7.869940595980701, 4.546772476189211, 8.649953589399553, 5.495649232676722, 4.546738459846396, 4.350479925475121, 3.4377733270695887, 5.655394126870277, 7.871086365966736, 5.147856602567216, 9.535334278854997, 7.889772123841824, 11.199629482756439, 12.306672277330751, 8.980893610644939, 35.43163838945874, 10.091425984191927, 182.4276619534258, 16.74563825163692, 7.87030481974889, 31.114937936899224, 35.55215912171905, 11.183981965061555, 82.97008147087098, 27.22070718743118, 12.30873648857279, 13.418474041231567, 19.23639783923829, 21.104772847357754, 16.966678106582343, 18.722392646632446, 20.989814201981137, 15.78811138807163, 11.610353591573974, 11.200780230743863, 10.209958004464927, 12.452537592936233, 14.698575996990279, 11.332436561629427, 14.632095623329224, 21.973724972026563, 4.600321997398963, 4.600399596695269, 15.817793926446173, 4.599519409371918, 4.600458251562428, 5.721920367240112, 6.843882688710412, 5.72116878344538, 4.600437485553559, 4.599792282014794, 11.11152120157855, 6.123462479921576, 14.240627939477491, 4.6004342067100525, 13.926409808623838, 3.4783680551954004, 4.600487761153982, 4.600545687389252, 3.4783381812879024, 5.72229342676789, 25.22275577546831, 3.4777760417846197, 15.227829428540966, 3.478267503994554, 10.210681535931887, 13.591696719962883, 24.103454781976932, 12.454877958567527, 18.06449101372895, 41.39703722598191, 16.942752017932996, 140.99292880115038, 15.82132487658604, 32.653609013647134, 43.25680309156129, 22.552918833330963, 25.920700604972303, 11.057133931399001, 11.934140776549397, 20.31043906742861, 10.21057588430781, 50.559685253602034, 16.0977095251734, 16.705072295352593, 14.913330045777698, 12.036300067977447, 11.149754702752556], \"logprob\": [30.0, 29.0, 28.0, 27.0, 26.0, 25.0, 24.0, 23.0, 22.0, 21.0, 20.0, 19.0, 18.0, 17.0, 16.0, 15.0, 14.0, 13.0, 12.0, 11.0, 10.0, 9.0, 8.0, 7.0, 6.0, 5.0, 4.0, 3.0, 2.0, 1.0, -5.971499919891357, -2.951200008392334, -5.97160005569458, -3.521699905395508, -6.170199871063232, -6.418600082397461, -5.7322998046875, -5.314599990844727, -6.325200080871582, -5.987599849700928, -5.885300159454346, -5.678500175476074, -4.662600040435791, -6.526500225067139, -5.971499919891357, -4.7378997802734375, -6.475500106811523, -6.570199966430664, -6.419099807739258, -5.863900184631348, -6.570199966430664, -6.409900188446045, -5.925000190734863, -6.253399848937988, -6.7494001388549805, -3.667799949645996, -6.170199871063232, -4.941299915313721, -6.260000228881836, -6.570199966430664, -4.121699810028076, -4.547999858856201, -5.747900009155273, -3.6250998973846436, -3.8914999961853027, -5.7322998046875, -2.312999963760376, -5.393599987030029, -4.941400051116943, -2.374300003051758, -5.41480016708374, -4.105599880218506, -3.805999994277954, -4.076600074768066, -4.846700191497803, -5.0995001792907715, -5.018899917602539, -5.089700222015381, -5.246200084686279, -4.467199802398682, -4.200799942016602, -4.818600177764893, -4.821199893951416, -5.127600193023682, -5.219900131225586, -4.948200225830078, -5.146200180053711, -5.247000217437744, -4.4903998374938965, -5.617700099945068, -5.617700099945068, -5.617700099945068, -5.617700099945068, -4.326399803161621, -5.419000148773193, -6.196800231933594, -3.3973000049591064, -5.111299991607666, -5.419099807739258, -4.471499919891357, -5.865900039672852, -6.414899826049805, -5.865799903869629, -5.817999839782715, -6.414999961853027, -6.41510009765625, -5.617700099945068, -6.414999961853027, -5.417699813842773, -6.196700096130371, -5.728799819946289, -6.0177001953125, -5.513400077819824, -5.252399921417236, -5.179699897766113, -5.8383002281188965, -6.694499969482422, -5.452600002288818, -4.637199878692627, -1.76419997215271, -3.2553000450134277, -4.267499923706055, -5.000800132751465, -5.305799961090088, -4.418000221252441, -4.663099765777588, -3.6036999225616455, -2.976599931716919, -4.47629976272583, -4.767499923706055, -4.273600101470947, -4.412499904632568, -4.986800193786621, -4.690800189971924, -4.764200210571289, -4.65910005569458, -5.018799781799316, -5.111199855804443, -5.253399848937988, -5.046500205993652, -5.192999839782715, -5.266200065612793, -5.253200054168701, -5.200500011444092, -4.165200233459473, -5.076200008392334, -5.706999778747559, -4.001100063323975, -5.432499885559082, -5.826300144195557, -5.508299827575684, -4.820400238037109, -6.285900115966797, -4.865799903869629, -5.823299884796143, -5.823299884796143, -5.368000030517578, -5.955100059509277, -5.823200225830078, -5.976200103759766, -4.262599945068359, -4.323500156402588, -5.954999923706055, -6.589600086212158, -6.106800079345703, -3.714099884033203, -5.019199848175049, -5.955100059509277, -5.843500137329102, -5.954999923706055, -6.285799980163574, -5.706900119781494, -5.5081000328063965, -1.7223999500274658, -4.779600143432617, -4.038700103759766, -3.903599977493286, -4.913099765777588, -4.23829984664917, -4.079999923706055, -5.283699989318848, -4.664899826049805, -4.502999782562256, -4.790999889373779, -3.8965001106262207, -4.446199893951416, -3.2816998958587646, -4.842400074005127, -4.310200214385986, -4.504799842834473, -4.883299827575684, -4.379799842834473, -4.646500110626221, -5.141900062561035, -5.043000221252441, -4.946300029754639, -4.950099945068359, -4.7916998863220215, -4.682600021362305, -5.375, -5.114999771118164, -6.058499813079834, -4.3516998291015625, -6.058199882507324, -6.058199882507324, -6.062099933624268, -6.058199882507324, -6.058199882507324, -5.2804999351501465, -5.879199981689453, -5.4791998863220215, -6.162499904632568, -6.276500225067139, -4.387899875640869, -6.204800128936768, -5.595600128173828, -6.276599884033203, -5.879199981689453, -6.000100135803223, -6.2153000831604, -6.058199882507324, -4.3165998458862305, -6.058199882507324, -6.276700019836426, -6.058199882507324, -6.276400089263916, -6.058199882507324, -3.9714999198913574, -4.6381001472473145, -3.484600067138672, -3.9010000228881836, -4.297800064086914, -3.5696001052856445, -4.908599853515625, -3.8959999084472656, -4.722599983215332, -4.9085001945495605, -4.180600166320801, -4.972799777984619, -2.282900094985962, -2.7242000102996826, -5.2804999351501465, -4.505199909210205, -4.791600227355957, -4.210899829864502, -5.374899864196777, -4.5183000564575195, -4.362100124359131, -5.114799976348877, -4.495500087738037, -5.041200160980225, -4.849400043487549, -5.041399955749512, -4.911499977111816, -5.114799976348877, -4.765100002288818, -5.452099800109863, -3.8269999027252197, -4.704899787902832, -5.231599807739258, -5.2494001388549805, -5.452300071716309, -4.968200206756592, -5.7357001304626465, -4.765200138092041, -5.914700031280518, -4.97130012512207, -5.6057000160217285, -4.738800048828125, -4.6479997634887695, -5.914700031280518, -5.263899803161621, -6.132999897003174, -5.914700031280518, -6.132900238037109, -5.335700035095215, -4.494800090789795, -5.729800224304199, -6.132900238037109, -5.914700031280518, -6.412499904632568, -5.13700008392334, -6.412700176239014, -5.007500171661377, -5.914700031280518, -5.634399890899658, -4.97130012512207, -4.448299884796143, -1.9394999742507935, -4.829400062561035, -4.055200099945068, -5.0370001792907715, -4.132999897003174, -4.543300151824951, -2.683300018310547, -4.897799968719482, -4.139400005340576, -3.9732000827789307, -4.703100204467773, -4.3403000831604, -4.632699966430664, -4.48360013961792, -4.634200096130371, -4.765100002288818, -4.644100189208984, -4.971399784088135, -4.9583001136779785, -5.040299892425537, -5.260900020599365, -4.780200004577637, -4.824999809265137, -4.9456000328063965, -5.392499923706055, -5.189899921417236, -5.544300079345703, -4.560699939727783, -4.9456000328063965, -4.326000213623047, -5.54449987411499, -5.544300079345703, -5.544300079345703, -5.723400115966797, -4.967299938201904, -3.2248001098632812, -5.223800182342529, -4.017000198364258, -5.392499923706055, -4.576600074768066, -4.129799842834473, -3.823499917984009, -5.941500186920166, -6.221099853515625, -6.22130012512207, -5.260700225830078, -5.723499774932861, -6.221199989318848, -5.9415998458862305, -5.392499923706055, -4.331900119781494, -5.260700225830078, -5.260700225830078, -3.060699939727783, -4.4029998779296875, -4.093999862670898, -2.509500026702881, -3.765399932861328, -4.706399917602539, -4.3454999923706055, -4.4028000831604, -4.303199768066406, -4.3516998291015625, -4.637800216674805, -4.659999847412109, -4.929699897766113, -4.983799934387207, -4.57289981842041, -5.021699905395508, -5.3628997802734375, -4.725800037384033, -4.896599769592285, -4.626200199127197, -4.579899787902832, -4.674699783325195, -4.089300155639648, -4.9608001708984375, -5.867199897766113, -5.182300090789795, -4.626299858093262, -4.41349983215332, -5.3632001876831055, -5.268599987030029, -5.268499851226807, -6.046199798583984, -5.3628997802734375, -5.1493000984191895, -5.867300033569336, -5.867099761962891, -5.867199897766113, -5.867199897766113, -5.715400218963623, -4.626299858093262, -5.102799892425537, -5.524199962615967, -4.192399978637695, -4.270999908447266, -4.304699897766113, -5.182300090789795, -4.157400131225586, -3.1210999488830566, -2.0295000076293945, -3.6198999881744385, -5.268499851226807, -4.090700149536133, -5.182300090789795, -4.304699897766113, -4.51669979095459, -4.449100017547607, -4.042099952697754, -4.567999839782715, -3.7174999713897705, -4.645299911499023, -4.552299976348877, -4.9629998207092285, -4.836299896240234, -4.960700035095215, -4.83620023727417, -4.957600116729736, -5.248899936676025, -4.473499774932861, -4.473499774932861, -5.162399768829346, -4.606299877166748, -5.847300052642822, -6.026400089263916, -3.4168999195098877, -5.248700141906738, -5.248799800872803, -5.739699840545654, -5.847400188446045, -5.486499786376953, -5.847300052642822, -6.24459981918335, -6.003600120544434, -5.405700206756592, -6.242700099945068, -6.026299953460693, -6.026400089263916, -4.903200149536133, -4.052999973297119, -4.876800060272217, -6.026400089263916, -5.343100070953369, -6.026400089263916, -6.244699954986572, -5.695499897003174, -6.026400089263916, -5.847300052642822, -4.729700088500977, -3.4270999431610107, -5.009500026702881, -3.260699987411499, -4.8769001960754395, -2.2906999588012695, -3.376699924468994, -3.9238998889923096, -4.654900074005127, -4.719200134277344, -2.7355000972747803, -4.296500205993652, -4.85129976272583, -4.3190999031066895, -4.705900192260742, -4.606299877166748, -4.52839994430542, -5.0208001136779785, -4.758699893951416, -4.942500114440918, -5.009399890899658, -5.038400173187256, -5.106200218200684, -5.173799991607666, -4.934199810028076, -4.7357001304626465, -5.573999881744385, -3.6185998916625977, -5.069399833679199, -4.888800144195557, -5.573599815368652, -4.740300178527832, -4.809599876403809, -5.29010009765625, -4.242099761962891, -4.888800144195557, -5.752699851989746, -4.894800186157227, -5.9710001945495605, -5.0696001052856445, -6.114200115203857, -5.573800086975098, -5.422299861907959, -5.970900058746338, -5.3277997970581055, -5.781400203704834, -5.970900058746338, -6.014999866485596, -6.250500202178955, -5.752699851989746, -5.422100067138672, -5.846700191497803, -5.230299949645996, -5.4197998046875, -5.069399833679199, -4.975200176239014, -5.290200233459473, -3.9177000522613525, -5.173600196838379, -2.2790000438690186, -4.667200088500977, -5.4222002029418945, -4.047599792480469, -3.914299964904785, -5.070799827575684, -3.066800117492676, -4.181300163269043, -4.974999904632568, -4.888700008392334, -4.528500080108643, -4.435800075531006, -4.654099941253662, -4.555600166320801, -4.441299915313721, -4.726099967956543, -5.033400058746338, -5.069300174713135, -5.032100200653076, -4.833499908447266, -4.667699813842773, -4.927800178527832, -4.6722002029418945, -4.265600204467773, -5.8292999267578125, -5.8292999267578125, -4.594299793243408, -5.829500198364258, -5.8292999267578125, -5.611199855804443, -5.43209981918335, -5.611299991607666, -5.8292999267578125, -5.829500198364258, -4.947500228881836, -5.543300151824951, -4.699399948120117, -5.8292999267578125, -4.721700191497803, -6.10890007019043, -5.8292999267578125, -5.8292999267578125, -6.10890007019043, -5.611100196838379, -4.127699851989746, -6.109099864959717, -4.632299900054932, -6.10890007019043, -5.0320000648498535, -4.745999813079834, -4.173099994659424, -4.833399772644043, -4.46150016784668, -3.6322999000549316, -4.525599956512451, -2.4068000316619873, -4.594099998474121, -3.869499921798706, -3.5882999897003174, -4.23960018157959, -4.100399971008301, -4.952400207519531, -4.876100063323975, -4.344299793243408, -5.0320000648498535, -3.432300090789795, -4.5767998695373535, -4.53980016708374, -4.653200149536133, -4.867499828338623, -4.943999767303467], \"Term\": [\"motion\", \"order\", \"complaint\", \"serve_answer_due\", \"rule\", \"notice\", \"discovery\", \"letter\", \"amend_complaint\", \"support\", \"notice_appearance\", \"minute_entry_hold\", \"service_accept\", \"conference_hold\", \"stipulation\", \"affidavit_service_summons\", \"letter_address\", \"due\", \"notice_appeal\", \"dismiss\", \"summary_judgment\", \"leave\", \"answer\", \"hold\", \"grant\", \"endorsement\", \"answer_due\", \"reply_memorandum_law\", \"send\", \"deadline_release\", \"person\", \"complaint\", \"jury_demand\", \"answer\", \"update\", \"ambassador\", \"term\", \"receive\", \"enclose\", \"begin\", \"adjournment\", \"failure\", \"affidavit_service_summons\", \"without_cost_either\", \"net_settlement\", \"dismissal\", \"new_jersey\", \"occur\", \"liability_complaint\", \"dismiss_without_prejudice\", \"telephone\", \"address_jr.\", \"section\", \"contain\", \"incorrectly\", \"grant\", \"thirdparty\", \"appear\", \"cause\", \"deft\", \"conference\", \"deny\", \"note\", \"letter\", \"stipulation\", \"status\", \"order\", \"crossclaim\", \"declaration\", \"motion\", \"counterclaim\", \"schedule\", \"dismiss\", \"request\", \"judgment\", \"extend\", \"extension\", \"address\", \"move\", \"amend_complaint\", \"notice\", \"serve\", \"summary_judgment\", \"memorandum_law_opposition\", \"deposition\", \"memorandum_law_support\", \"reply\", \"declaration_support\", \"release\", \"dismiss_lack_jurisdiction\", \"alternative_investment_sgr_spa\", \"stillwater_market_neutral_balentine\", \"period\", \"trial\", \"accompany\", \"nonecf_error\", \"support\", \"dismiss..\", \"new\", \"reply_memorandum_law\", \"judgment_favor\", \"immediately\", \"newvest_portfolio_newvest\", \"electronic\", \"transaction\", \"fax\", \"note_refile\", \"pro_hac_vice\", \"law\", \"han_kook\", \"base\", \"interrogatory\", \"dismiss_thirdparty_complaint\", \"consent\", \"limine\", \"notice_adoption_answer\", \"comply\", \"certify\", \"brief\", \"motion\", \"dismiss\", \"opposition\", \"affidavit_service\", \"affidavit\", \"declaration_support\", \"memorandum_law_opposition\", \"notice\", \"order\", \"reply\", \"response\", \"schedule\", \"amend_complaint\", \"settlement\", \"stipulation\", \"memorandum_law_support\", \"request\", \"judgment\", \"extension\", \"withdraw\", \"summary_judgment\", \"declaration_opposition\", \"service\", \"due\", \"discovery_hear_hold\", \"send\", \"endorsement_application_grant\", \"dated\", \"minute_entry_hold\", \"jury\", \"summary_judgment_favor\", \"correction\", \"summary_judgment..\", \"right_appeal\", \"default_judgment\", \"hedge_strategy_ibex_absolute\", \"magnum_growth_magnum_special\", \"renew\", \"status_conference_hold\", \"setreset_deadline\", \"per\", \"hold\", \"declaration_opposition\", \"pretrial_conference_hold\", \"could\", \"government\", \"summary_judgment\", \"number\", \"member\", \"instruction\", \"p.m\", \"bank\", \"cost\", \"partial_summary_judgment\", \"motion\", \"reply_memorandum_law\", \"reply\", \"support\", \"service\", \"declaration_support\", \"memorandum_law_support\", \"counterclaim\", \"issue\", \"propose\", \"deny\", \"dismiss\", \"due\", \"order\", \"judgment\", \"schedule\", \"rule\", \"memorandum_law_opposition\", \"notice\", \"amend_complaint\", \"appear_pro_hac_vice\", \"amend\", \"opposition\", \"request\", \"new_address\", \"notice_change_address\", \"discovery_complete\", \"summons_issue\", \"rule_deposition_objection\", \"report\", \"unredacted\", \"note_manually_refile\", \"attempt\", \"answer_otherwise_respond\", \"dispositive\", \"preliminary_injunction\", \"give\", \"email\", \"service_accept_legal\", \"failure_state\", \"terminate\", \"contempt\", \"default\", \"corp..\", \"expense\", \"sanction\", \"attached\", \"settle\", \"leave\", \"pro_se\", \"brooklyn\", \"either\", \"light\", \"thereafter\", \"opposition\", \"extend\", \"amend_complaint\", \"due\", \"notice_appearance\", \"request\", \"supplemental\", \"grant\", \"address\", \"appear_pro_hac_vice\", \"serve\", \"deadline\", \"motion\", \"order\", \"amend_answer\", \"conference\", \"hold\", \"letter\", \"ordered\", \"reply\", \"schedule\", \"withdraw\", \"dismiss\", \"amend\", \"summary_judgment\", \"response\", \"notice\", \"issue\", \"revise_schedule\", \"final_judgment\", \"notice_appeal\", \"accordance\", \"g.c\", \"memorandum_opinion\", \"aim_exploration\", \"pretrial\", \"notice_appeal_certify\", \"oral_argument\", \"sheet\", \"lead\", \"assign\", \"consent\", \"limine\", \"appeal_bond\", \"administrator\", \"deficiency\", \"post\", \"united_state_courthouse_pearl\", \"note_refile\", \"affidavit_service\", \"counter_rule\", \"rule_rule_..\", \"act\", \"new_york_new_jersey\", \"status_conference\", \"new_york_observer\", \"approve\", \"rule_federal_rule\", \"limit\", \"number\", \"amend\", \"order\", \"service_accept\", \"rule\", \"opinion\", \"memorandum_law_support\", \"notice_appearance\", \"motion\", \"terminate\", \"schedule\", \"dismiss\", \"propose\", \"request\", \"declaration_support\", \"letter\", \"stipulation\", \"conference\", \"notice\", \"conference_hold\", \"memorandum_law_opposition\", \"notice_reassignment\", \"oral_argument_pm\", \"wellington\", \"answer_due_purs\", \"initial_conference\", \"disclosure\", \"need\", \"courtroom_pearl_street_new\", \"courtroom\", \"assert\", \"appeal\", \"responsible_courtesy_individual_practice\", \"initial_pretrial_conference\", \"without_prejudice\", \"application_grant\", \"litigation\", \"rule\", \"purpose\", \"serve_answer_due\", \"york\", \"produce\", \"conference_hold\", \"notice_appearance\", \"cancel\", \"occur\", \"conclude\", \"dispute\", \"memoendorsement_letter_address\", \"united_state_courthouse_pearl\", \"unless\", \"request_issuance_summons\", \"deposition\", \"without_redaction_calendar\", \"remotely_electronically_available_public\", \"notice\", \"hold\", \"serve\", \"order\", \"schedule\", \"address\", \"reply\", \"due\", \"request\", \"complaint\", \"conference\", \"discovery\", \"issue\", \"brief\", \"motion\", \"amend\", \"client\", \"minute_entry_hold_telephone\", \"official_conference\", \"official_notice_give\", \"calendar\", \"dismiss_thirdparty\", \"service_accept\", \"office\", \"deficiency\", \"call\", \"status_report\", \"abovecaptioned\", \"answer_crossclaim\", \"mdl\", \"agent\", \"official\", \"limine_preclude_introduce_evidence\", \"indicate\", \"admission\", \"strike\", \"subpoena\", \"adjourn_conference\", \"setreset_deadline\", \"redaction\", \"partial_summary_judgment\", \"intend\", \"leave\", \"conference_hold\", \"endorsement\", \"objection\", \"letter_address\", \"notice\", \"motion\", \"letter\", \"dismiss_thirdparty_complaint\", \"summary_judgment\", \"response_due\", \"due\", \"propose\", \"serve\", \"dismiss\", \"discovery\", \"order\", \"reply\", \"schedule\", \"address\", \"memorandum_law_support\", \"settlement\", \"amend_complaint\", \"grant\", \"merrill\", \"deadline_release\", \"view_public_terminal_purchase\", \"account\", \"answer_due_answer_due\", \"rule_rule_..\", \"withdrawal\", \"discovery\", \"cost\", \"note\", \"work\", \"stipulate\", \"paragraph\", \"scheduling\", \"flasr\", \"plead\", \"management\", \"discover\", \"bank\", \"affect\", \"within\", \"response\", \"entry\", \"act\", \"protective\", \"cause\", \"dated\", \"default\", \"conduct\", \"cross\", \"joint\", \"amend_complaint\", \"certificate_service\", \"dismiss\", \"service_accept\", \"order\", \"notice\", \"letter\", \"letter_address\", \"issue\", \"motion\", \"rule\", \"brief\", \"support\", \"memorandum_law_opposition\", \"serve\", \"request\", \"deposition\", \"memorandum_law_support\", \"stipulation\", \"declaration_support\", \"opposition\", \"grant\", \"comply_discovery_ruling_conference\", \"summons\", \"supplemental_amend\", \"specific\", \"serve_answer_due\", \"correct\", \"request_issuance_summons\", \"certificate\", \"fee\", \"redact_deadline\", \"a.m\", \"affidavit_service_summons\", \"transmit\", \"plead\", \"telephone_conference\", \"note_manually_refile\", \"l.p..\", \"allege\", \"pretrial_conference_hold\", \"disclose\", \"demand\", \"without\", \"scheduling\", \"consistent\", \"prejudice\", \"applicable\", \"assignment\", \"subject\", \"account_balentine_global_hedge\", \"agree\", \"third_complaint\", \"complete\", \"within\", \"associate\", \"discovery\", \"status_conference\", \"order\", \"declaration\", \"purpose\", \"stipulation\", \"amend_complaint\", \"loan\", \"motion\", \"complaint\", \"appear\", \"extend\", \"summary_judgment\", \"request\", \"memorandum_law_support\", \"schedule\", \"dismiss\", \"notice\", \"serve\", \"notice_appearance\", \"jury_trial_hold\", \"civil_cover_sheet\", \"represent\", \"mediation\", \"protective\", \"answer_due\", \"dismissal_without_prejudice\", \"completion\", \"response_due\", \"service_execute\", \"line\", \"forward\", \"jr\", \"longer_assigned\", \"offer\", \"via\", \"identify\", \"confidentiality\", \"memo_endorsement\", \"connection\", \"crossclaim\", \"pdf\", \"iii\", \"subpoena\", \"responsereply\", \"newvest_portfolio_newvest\", \"endorsed_letter_address\", \"service_accept_legal\", \"produce\", \"nonecf_error\", \"premotion_conference\", \"certificate_service\", \"letter_address\", \"show_cause\", \"minute_entry_hold\", \"stipulation\", \"endorsement\", \"order\", \"extension\", \"request\", \"notice\", \"due\", \"letter\", \"deadline\", \"joint\", \"grant\", \"respond\", \"motion\", \"declaration_support\", \"memorandum_law_support\", \"rule\", \"answer\", \"dismiss\"]}, \"token.table\": {\"Freq\": [0.13752466521762763, 0.09168311014508508, 0.09168311014508508, 0.04584155507254254, 0.04584155507254254, 0.09168311014508508, 0.04584155507254254, 0.4125739956528829, 0.2012545565852562, 0.018295868780477835, 0.10977521268286701, 0.054887606341433505, 0.4208049819509902, 0.054887606341433505, 0.12807108146334484, 0.07756088383863663, 0.4653653030318197, 0.07756088383863663, 0.11634132575795493, 0.19390220959659155, 0.038780441919318315, 0.08828892308028068, 0.029429641026760222, 0.08828892308028068, 0.529733538481684, 0.029429641026760222, 0.058859282053520444, 0.11771856410704089, 0.029429641026760222, 0.050770068408926096, 0.050770068408926096, 0.2538503420446305, 0.5584707524981871, 0.050770068408926096, 0.060778877931811214, 0.3038943896590561, 0.060778877931811214, 0.12155775586362243, 0.12155775586362243, 0.3038943896590561, 0.060154270874696165, 0.18046281262408848, 0.3007713543734808, 0.060154270874696165, 0.24061708349878466, 0.060154270874696165, 0.25714807729224737, 0.0367354396131782, 0.012245146537726065, 0.24490293075452133, 0.012245146537726065, 0.20816749114134311, 0.15918690499043886, 0.012245146537726065, 0.012245146537726065, 0.02449029307545213, 0.4304431537490878, 0.07174052562484796, 0.07174052562484796, 0.07174052562484796, 0.07174052562484796, 0.2152215768745439, 0.31304027677360097, 0.18782416606416058, 0.31304027677360097, 0.0626080553547202, 0.47297869061150793, 0.2627659392286155, 0.21021275138289242, 0.03627238227969026, 0.03627238227969026, 0.03627238227969026, 0.36272382279690263, 0.07254476455938053, 0.07254476455938053, 0.14508952911876105, 0.07254476455938053, 0.1088171468390708, 0.13718001492834062, 0.13718001492834062, 0.34295003732085155, 0.20577002239251094, 0.13718001492834062, 0.06492980787265565, 0.1298596157453113, 0.19478942361796694, 0.06492980787265565, 0.2597192314906226, 0.1298596157453113, 0.08650139183268811, 0.3027548714144084, 0.08650139183268811, 0.08650139183268811, 0.021625347958172027, 0.06487604387451608, 0.043250695916344055, 0.08650139183268811, 0.17300278366537622, 0.08650139183268811, 0.10784961248757978, 0.29273466246628793, 0.04622126249467705, 0.338955924960965, 0.015407087498225683, 0.07703543749112841, 0.015407087498225683, 0.015407087498225683, 0.07703543749112841, 0.4767990479409364, 0.014899970248154263, 0.014899970248154263, 0.04469991074446279, 0.05959988099261705, 0.38739922645201086, 0.04209589376584088, 0.08419178753168176, 0.08419178753168176, 0.4209589376584088, 0.2104794688292044, 0.12628768129752263, 0.06478937972304613, 0.1943681391691384, 0.032394689861523066, 0.0971840695845692, 0.0971840695845692, 0.0971840695845692, 0.032394689861523066, 0.3239468986152307, 0.0971840695845692, 0.10867363380272486, 0.10867363380272486, 0.05433681690136243, 0.4890313521122619, 0.05433681690136243, 0.10867363380272486, 0.05433681690136243, 0.35265619559223194, 0.08816404889805798, 0.08816404889805798, 0.08816404889805798, 0.35265619559223194, 0.11969174673013606, 0.5984587336506803, 0.05984587336506803, 0.05984587336506803, 0.11969174673013606, 0.48565610917694363, 0.09713122183538872, 0.2913936655061662, 0.0940158420534773, 0.010446204672608587, 0.1671392747617374, 0.1566930700891288, 0.2402627074699975, 0.13580066074391164, 0.0835696373808687, 0.07312343270826012, 0.020892409345217175, 0.020892409345217175, 0.13949658598075296, 0.18599544797433729, 0.1162471549839608, 0.2789931719615059, 0.04649886199358432, 0.06974829299037648, 0.02324943099679216, 0.13949658598075296, 0.13356300207827249, 0.11643954027336577, 0.0821926166635523, 0.23972846526869424, 0.023972846526869422, 0.01712346180490673, 0.05137038541472019, 0.20548154165888077, 0.12328892499532845, 0.010274077082944038, 0.5800227299882452, 0.04101170818098704, 0.07030578545312063, 0.07030578545312063, 0.02343526181770688, 0.01757644636328016, 0.01757644636328016, 0.04687052363541376, 0.0585881545442672, 0.07030578545312063, 0.18733814724452866, 0.1405036104333965, 0.09366907362226433, 0.42151083130018946, 0.1405036104333965, 0.076808656254564, 0.019202164063641, 0.172819476572769, 0.019202164063641, 0.019202164063641, 0.172819476572769, 0.076808656254564, 0.42244760940010195, 0.14040318709418145, 0.056161274837672574, 0.16848382451301774, 0.5335321109578894, 0.056161274837672574, 0.09663301700089018, 0.7247476275066763, 0.04831650850044509, 0.04831650850044509, 0.04831650850044509, 0.15619800061735578, 0.07809900030867789, 0.39049500154338945, 0.23429700092603367, 0.12023328153482582, 0.01717618307640369, 0.08588091538201845, 0.03435236615280738, 0.1545856476876332, 0.4294045769100922, 0.05152854922921107, 0.06870473230561476, 0.03435236615280738, 0.21192664354347532, 0.14128442902898355, 0.3532110725724589, 0.21192664354347532, 0.38231185445982535, 0.01592966060249272, 0.06371864240997088, 0.01592966060249272, 0.20708558783240538, 0.01592966060249272, 0.06371864240997088, 0.19115592722991268, 0.03185932120498544, 0.1664788254212907, 0.10594107072263953, 0.22701658011994186, 0.25728545746926745, 0.03026887734932558, 0.01513443867466279, 0.1664788254212907, 0.01513443867466279, 0.18545675489173732, 0.278185132337606, 0.09272837744586866, 0.09272837744586866, 0.278185132337606, 0.12476508076310888, 0.18714762114466332, 0.24953016152621776, 0.37429524228932665, 0.13101034047929686, 0.06550517023964843, 0.021835056746549477, 0.043670113493098954, 0.2838557377051432, 0.021835056746549477, 0.06550517023964843, 0.1965155107189453, 0.06550517023964843, 0.06550517023964843, 0.2242604505197228, 0.03203720721710326, 0.12814882886841303, 0.03203720721710326, 0.03203720721710326, 0.4485209010394456, 0.03203720721710326, 0.03203720721710326, 0.16256253887129513, 0.16256253887129513, 0.37931259069968865, 0.10837502591419676, 0.05418751295709838, 0.10837502591419676, 0.05591626255078529, 0.05591626255078529, 0.11183252510157057, 0.05591626255078529, 0.11183252510157057, 0.22366505020314115, 0.3354975753047117, 0.09187587654860556, 0.06125058436573704, 0.1531264609143426, 0.1531264609143426, 0.27562762964581666, 0.24500233746294817, 0.2924143235223243, 0.21931074264174324, 0.3655179044029054, 0.14620716176116216, 0.07882318665347092, 0.07882318665347092, 0.3941159332673546, 0.07882318665347092, 0.15764637330694184, 0.15764637330694184, 0.06551174915357942, 0.06551174915357942, 0.32755874576789706, 0.13102349830715884, 0.06551174915357942, 0.2620469966143177, 0.2176996346906396, 0.3265494520359594, 0.036283272448439936, 0.18141636224219967, 0.1088498173453198, 0.07256654489687987, 0.036283272448439936, 0.036283272448439936, 0.4778298447584318, 0.2389149223792159, 0.05972873059480398, 0.05972873059480398, 0.05972873059480398, 0.03407175193712853, 0.3066457674341568, 0.11357250645709512, 0.045429002582838045, 0.07950075451996658, 0.14764425839422365, 0.05678625322854756, 0.17035875968564265, 0.022714501291419022, 0.03407175193712853, 0.14984908944451836, 0.2996981788890367, 0.07492454472225918, 0.2996981788890367, 0.07492454472225918, 0.027492479330796675, 0.05498495866159335, 0.05498495866159335, 0.08247743799239003, 0.027492479330796675, 0.5498495866159335, 0.19244735531557672, 0.04270876024244382, 0.12812628072733145, 0.04270876024244382, 0.04270876024244382, 0.469796362666882, 0.04270876024244382, 0.04270876024244382, 0.12812628072733145, 0.13631871042939225, 0.06815935521469613, 0.3407967760734807, 0.06815935521469613, 0.13631871042939225, 0.13631871042939225, 0.35070022868358547, 0.05845003811393091, 0.05845003811393091, 0.11690007622786182, 0.23380015245572364, 0.05845003811393091, 0.05845003811393091, 0.20320958836248354, 0.13547305890832237, 0.06773652945416118, 0.06773652945416118, 0.06773652945416118, 0.4741557061791282, 0.07309755099757044, 0.09137193874696305, 0.14619510199514088, 0.09137193874696305, 0.09137193874696305, 0.2192926529927113, 0.25584142849149655, 0.02581875528274206, 0.3098250633929047, 0.10327502113096824, 0.07745626584822618, 0.15491253169645236, 0.10327502113096824, 0.10327502113096824, 0.1290937764137103, 0.02581875528274206, 0.05731027018139805, 0.05731027018139805, 0.05731027018139805, 0.05731027018139805, 0.6877232421767766, 0.17563850189018956, 0.790373258505853, 0.6407259527998878, 0.040045372049992985, 0.05096683715453652, 0.007280976736362361, 0.014561953472724721, 0.09101220920452952, 0.007280976736362361, 0.02184293020908708, 0.09829318594089187, 0.02548341857726826, 0.22402061122331499, 0.04978235804962555, 0.024891179024812776, 0.024891179024812776, 0.024891179024812776, 0.12445589512406388, 0.024891179024812776, 0.0995647160992511, 0.2738029692729405, 0.07467353707443833, 0.08680949179473195, 0.1736189835894639, 0.1736189835894639, 0.08680949179473195, 0.43404745897365976, 0.17939478587301774, 0.2690921788095266, 0.17939478587301774, 0.08969739293650887, 0.08969739293650887, 0.08969739293650887, 0.12824891068401348, 0.06412445534200674, 0.06412445534200674, 0.6412445534200675, 0.08782944847943987, 0.17565889695887973, 0.08782944847943987, 0.35131779391775947, 0.17565889695887973, 0.056435010506731914, 0.16930503152019574, 0.056435010506731914, 0.16930503152019574, 0.056435010506731914, 0.22574004202692766, 0.16930503152019574, 0.366579923846531, 0.019995268573447144, 0.06665089524482382, 0.16662723811205954, 0.11330652191620048, 0.11997161144068287, 0.05332071619585905, 0.026660358097929524, 0.006665089524482381, 0.04665562667137667, 0.011422256494723624, 0.09137805195778899, 0.022844512989447247, 0.15991159092613072, 0.35408995133643234, 0.3084009253575378, 0.022844512989447247, 0.011422256494723624, 0.022844512989447247, 0.05288087831295292, 0.31728526987771755, 0.15864263493885877, 0.05288087831295292, 0.05288087831295292, 0.05288087831295292, 0.31728526987771755, 0.13362295582070097, 0.06681147791035048, 0.20043443373105144, 0.3340573895517524, 0.3340573895517524, 0.1105083389018739, 0.33152501670562173, 0.02210166778037478, 0.39783002004674606, 0.02210166778037478, 0.1105083389018739, 0.02210166778037478, 0.07085859596406512, 0.28343438385626046, 0.07085859596406512, 0.07085859596406512, 0.14171719192813023, 0.35429297982032554, 0.3651986448639758, 0.12173288162132527, 0.060866440810662635, 0.12173288162132527, 0.12173288162132527, 0.12173288162132527, 0.15546772490079971, 0.23320158735119956, 0.3886693122519993, 0.07773386245039986, 0.07773386245039986, 0.07958085768046996, 0.15916171536093993, 0.31832343072187985, 0.15916171536093993, 0.2387425730414099, 0.044315912021252186, 0.08863182404250437, 0.044315912021252186, 0.13294773606375657, 0.13294773606375657, 0.4874750322337741, 0.044315912021252186, 0.045947935124465204, 0.45947935124465206, 0.1378438053733956, 0.09189587024893041, 0.18379174049786082, 0.045947935124465204, 0.034909555073375585, 0.034909555073375585, 0.2792764405870047, 0.034909555073375585, 0.034909555073375585, 0.34909555073375587, 0.10472866522012675, 0.10472866522012675, 0.1886189681734668, 0.3772379363469336, 0.0943094840867334, 0.0943094840867334, 0.0943094840867334, 0.0943094840867334, 0.2015662586305047, 0.15117469397287853, 0.35274095260338323, 0.2519578232881309, 0.050391564657626176, 0.32328780840631705, 0.08621008224168454, 0.28018276728547475, 0.17242016448336908, 0.04310504112084227, 0.06465756168126341, 0.021552520560421135, 0.04577669014160706, 0.04577669014160706, 0.02288834507080353, 0.20599510563723178, 0.45776690141607057, 0.02288834507080353, 0.06866503521241059, 0.02288834507080353, 0.11444172535401764, 0.06227464515735267, 0.4359225161014687, 0.31137322578676335, 0.12454929031470534, 0.1414583096673458, 0.09430553977823053, 0.1414583096673458, 0.1414583096673458, 0.18861107955646106, 0.23576384944557632, 0.3301188794454726, 0.26409510355637805, 0.022007925296364837, 0.04401585059272967, 0.3081109541491077, 0.570290449129261, 0.2851452245646305, 0.07128630614115762, 0.13060770349265968, 0.11428174055607722, 0.04897788880974738, 0.26121540698531936, 0.01632596293658246, 0.0816298146829123, 0.0816298146829123, 0.09795577761949475, 0.17958559230240706, 0.07184929663052468, 0.7544176146205092, 0.10777394494578703, 0.2944492869414036, 0.11041848260302635, 0.06134360144612575, 0.11041848260302635, 0.0981497623138012, 0.06134360144612575, 0.01226872028922515, 0.03680616086767545, 0.20856824491682754, 0.01226872028922515, 0.12362774761669097, 0.15453468452086372, 0.3502786182472911, 0.0721161861097364, 0.08241849841112732, 0.08241849841112732, 0.02060462460278183, 0.09272081071251823, 0.02060462460278183, 0.11329548304946073, 0.21400257909342582, 0.23288515960166928, 0.069236128530226, 0.11958967655220855, 0.06294193502747818, 0.006294193502747818, 0.07553032203297382, 0.006294193502747818, 0.10070709604396509, 0.0814903462974033, 0.20372586574350826, 0.3259613851896132, 0.04074517314870165, 0.04074517314870165, 0.24447103889220992, 0.11321438155469306, 0.15850013417657027, 0.45285752621877223, 0.02264287631093861, 0.09057150524375444, 0.02264287631093861, 0.09057150524375444, 0.04528575262187722, 0.3426719054988932, 0.4283398818736165, 0.0856679763747233, 0.3908497687485125, 0.23450986124910753, 0.07816995374970251, 0.07816995374970251, 0.15633990749940502, 0.14287798253003103, 0.07143899126501552, 0.07143899126501552, 0.07143899126501552, 0.07143899126501552, 0.3571949563250776, 0.14287798253003103, 0.364690678809943, 0.12156355960331433, 0.21273622930580008, 0.050651483168047635, 0.07091207643526669, 0.04052118653443811, 0.07091207643526669, 0.030390889900828583, 0.010130296633609528, 0.020260593267219056, 0.20134611294326876, 0.02237179032702986, 0.1118589516351493, 0.07830126614460452, 0.2796473790878733, 0.05592947581757465, 0.13423074196217918, 0.02237179032702986, 0.07830126614460452, 0.16640309940897632, 0.04160077485224408, 0.12480232455673225, 0.16640309940897632, 0.08320154970448816, 0.04160077485224408, 0.33280619881795265, 0.04160077485224408, 0.1104907965415798, 0.0552453982707899, 0.0552453982707899, 0.49720858443710914, 0.0552453982707899, 0.0552453982707899, 0.1104907965415798, 0.16272027514962922, 0.16272027514962922, 0.08136013757481461, 0.08136013757481461, 0.08136013757481461, 0.32544055029925845, 0.08136013757481461, 0.044867114967159276, 0.011216778741789819, 0.07290906182163383, 0.06169228307984401, 0.0056083893708949095, 0.10095100867610837, 0.1121677874178982, 0.3421117516245895, 0.19629362798132186, 0.050475504338054186, 0.05722021487879838, 0.11444042975759676, 0.6294223636667822, 0.05722021487879838, 0.05722021487879838, 0.05722021487879838, 0.05807668460853186, 0.8130735845194461, 0.05807668460853186, 0.17069495255374612, 0.24352479897667778, 0.11834850043726397, 0.05689831751791537, 0.08648544262723136, 0.011379663503583074, 0.07510577912364828, 0.16159122175087964, 0.04779458671504891, 0.025035259707882764, 0.17233582128172426, 0.41852985168418744, 0.07385820912073897, 0.07385820912073897, 0.07385820912073897, 0.02461940304024632, 0.02461940304024632, 0.14771641824147794, 0.060746689050513725, 0.6074668905051372, 0.12149337810102745, 0.060746689050513725, 0.12149337810102745, 0.056247510191810186, 0.028123755095905093, 0.08437126528771527, 0.028123755095905093, 0.5062275917262916, 0.056247510191810186, 0.19686628567133566, 0.056247510191810186, 0.028837848114524573, 0.31721632925977034, 0.057675696229049146, 0.14418924057262286, 0.028837848114524573, 0.2883784811452457, 0.08651354434357372, 0.028837848114524573, 0.42835177507047795, 0.08567035501409559, 0.08567035501409559, 0.042835177507047795, 0.042835177507047795, 0.042835177507047795, 0.12850553252114338, 0.12850553252114338, 0.43935859124007115, 0.09090177749794576, 0.18180355499589151, 0.015150296249657627, 0.015150296249657627, 0.06060118499863051, 0.030300592499315254, 0.04545088874897288, 0.07575148124828814, 0.04545088874897288, 0.2627741604956267, 0.08759138683187558, 0.17518277366375115, 0.43795693415937786, 0.07639765963320833, 0.38198829816604163, 0.15279531926641665, 0.22919297889962498, 0.07639765963320833, 0.1670277600372122, 0.03340555200744244, 0.06681110401488488, 0.3340555200744244, 0.13362220802976976, 0.10021665602232732, 0.13362220802976976, 0.048823080120363974, 0.08137180020060662, 0.16274360040121325, 0.2495401872818603, 0.010849573360080883, 0.12477009364093015, 0.14104445368105148, 0.05967265348044486, 0.12477009364093015, 0.0596761268836045, 0.2983806344180225, 0.0596761268836045, 0.238704507534418, 0.0596761268836045, 0.119352253767209, 0.0596761268836045, 0.119352253767209, 0.04668254567154656, 0.3734603653723725, 0.04668254567154656, 0.18673018268618624, 0.09336509134309312, 0.14004763701463968, 0.04668254567154656, 0.04668254567154656, 0.08348095482728995, 0.04174047741364498, 0.04174047741364498, 0.3756642967228048, 0.2087023870682249, 0.04174047741364498, 0.04174047741364498, 0.12522143224093493, 0.5166710463438593, 0.08611184105730987, 0.17222368211461975, 0.08611184105730987, 0.1656189812973945, 0.12145391961808931, 0.0331237962594789, 0.110412654198263, 0.0220825308396526, 0.12145391961808931, 0.0441650616793052, 0.0331237962594789, 0.07728885793878411, 0.2760316354956575, 0.16528299910918642, 0.01180592850779903, 0.02361185701559806, 0.02361185701559806, 0.10625335657019128, 0.3069541412027748, 0.04722371403119612, 0.11805928507799031, 0.20070078463258353, 0.6303559689239385, 0.07879449611549232, 0.15758899223098463, 0.07879449611549232, 0.03939724805774616, 0.07723938933846491, 0.03861969466923246, 0.15447877867692983, 0.13516893134231361, 0.07723938933846491, 0.09654923667308114, 0.27033786268462723, 0.09654923667308114, 0.03861969466923246, 0.15924401215828263, 0.15924401215828263, 0.053081337386094204, 0.31848802431656525, 0.053081337386094204, 0.15924401215828263, 0.264531003034789, 0.025193428860456096, 0.03779014329068414, 0.2771277174650171, 0.012596714430228048, 0.03779014329068414, 0.012596714430228048, 0.08817700101159634, 0.16375728759296462, 0.08817700101159634, 0.24373389027696432, 0.188339824304927, 0.03323643958322241, 0.11078813194407469, 0.01107881319440747, 0.01107881319440747, 0.12186694513848216, 0.03323643958322241, 0.07755169236085228, 0.1772610111105195, 0.49903630578234437, 0.24951815289117218, 0.041586358815195366, 0.041586358815195366, 0.041586358815195366, 0.041586358815195366, 0.08317271763039073, 0.26115834847699293, 0.1741055656513286, 0.0870527828256643, 0.3482111313026572, 0.0870527828256643, 0.41050162547126906, 0.16420065018850763, 0.08210032509425381, 0.24630097528276143, 0.08210032509425381, 0.11700176689274105, 0.08775132516955579, 0.11700176689274105, 0.11700176689274105, 0.029250441723185264, 0.029250441723185264, 0.4680070675709642, 0.06862224232078623, 0.13724448464157246, 0.617600180887076, 0.2058667269623587, 0.08512516116844898, 0.08512516116844898, 0.08512516116844898, 0.17025032233689796, 0.3405006446737959, 0.08512516116844898, 0.08512516116844898, 0.06617816397313915, 0.06617816397313915, 0.06617816397313915, 0.1323563279462783, 0.19853449191941744, 0.06617816397313915, 0.3970689838388349, 0.14224639005004847, 0.04741546335001615, 0.5215700968501777, 0.14224639005004847, 0.0948309267000323, 0.04741546335001615, 0.04741546335001615, 0.12488660571077562, 0.12488660571077562, 0.06244330285538781, 0.3746598171323269, 0.06244330285538781, 0.06244330285538781, 0.06244330285538781, 0.06244330285538781, 0.1161911697035573, 0.3485735091106719, 0.05809558485177865, 0.17428675455533596, 0.17428675455533596, 0.1161911697035573, 0.3883253351878993, 0.05418493049133479, 0.07224657398844639, 0.20770890021678334, 0.027092465245667396, 0.027092465245667396, 0.05870034136561269, 0.04966951961705689, 0.013546232622833698, 0.09030821748555798, 0.12542010068322587, 0.37626030204967764, 0.06271005034161294, 0.06271005034161294, 0.12542010068322587, 0.18813015102483882, 0.2731579577579897, 0.05463159155159794, 0.43705273241278353, 0.10926318310319588, 0.05463159155159794, 0.05463159155159794, 0.009777933853585826, 0.009777933853585826, 0.35200561872908975, 0.1857807432181307, 0.039111735414343304, 0.22489247863247402, 0.009777933853585826, 0.029333801560757482, 0.08800140468227244, 0.048889669267929134, 0.029943223054836404, 0.029943223054836404, 0.14971611527418202, 0.029943223054836404, 0.05988644610967281, 0.05988644610967281, 0.05988644610967281, 0.05988644610967281, 0.20960256138385483, 0.3293754536032004, 0.06458260856574488, 0.19374782569723462, 0.06458260856574488, 0.12916521713148976, 0.06458260856574488, 0.12916521713148976, 0.06458260856574488, 0.3229130428287244, 0.2567979300946386, 0.427996550157731, 0.2567979300946386, 0.39651858322090083, 0.19825929161045042, 0.09912964580522521, 0.09912964580522521, 0.09912964580522521, 0.06728043870416248, 0.16820109676040618, 0.10092065805624371, 0.03364021935208124, 0.3700424128728936, 0.03364021935208124, 0.20184131611248743, 0.13233370830638283, 0.13233370830638283, 0.04411123610212761, 0.04411123610212761, 0.6175573054297865, 0.10709453037273604, 0.2141890607454721, 0.3748308563045762, 0.05354726518636802, 0.05354726518636802, 0.10709453037273604, 0.12933516464218767, 0.30178205083177123, 0.04311172154739589, 0.12933516464218767, 0.04311172154739589, 0.17244688618958356, 0.08622344309479178, 0.04311172154739589, 0.08454155343033856, 0.12681233014550786, 0.04227077671516928, 0.08454155343033856, 0.08454155343033856, 0.12681233014550786, 0.33816621372135425, 0.04227077671516928, 0.08454155343033856, 0.0963863242679721, 0.33735213493790234, 0.04819316213398605, 0.04819316213398605, 0.24096581066993022, 0.04819316213398605, 0.0963863242679721, 0.06726475457431709, 0.06726475457431709, 0.23062201568337287, 0.13452950914863418, 0.06726475457431709, 0.13452950914863418, 0.05765550392084322, 0.1633572611090558, 0.06726475457431709, 0.01921850130694774, 0.11185103762343826, 0.013981379702929782, 0.12583241732636805, 0.09786965792050849, 0.05592551881171913, 0.013981379702929782, 0.15379517673222762, 0.22370207524687652, 0.013981379702929782, 0.1677765564351574, 0.10973675198712861, 0.054868375993564304, 0.054868375993564304, 0.16460512798069293, 0.054868375993564304, 0.10973675198712861, 0.3840786319549501, 0.24032518003318265, 0.16637897079220337, 0.1848655231024482, 0.08318948539610169, 0.05545965693073446, 0.1016760377063465, 0.00924327615512241, 0.06470293308585687, 0.07394620924097928, 0.00924327615512241, 0.10149039178573147, 0.40596156714292586, 0.05074519589286573, 0.10149039178573147, 0.10149039178573147, 0.10149039178573147, 0.10149039178573147, 0.17252940027818064, 0.04313235006954516, 0.4744558507649968, 0.08626470013909032, 0.08626470013909032, 0.04313235006954516, 0.08626470013909032, 0.6152781891566269, 0.13672848647925043, 0.13672848647925043, 0.06836424323962521, 0.1499669918683782, 0.749834959341891, 0.06378486245522309, 0.031892431227611547, 0.25513944982089237, 0.19135458736566927, 0.06378486245522309, 0.350816743503727, 0.031892431227611547, 0.14637401198544658, 0.3512976287650718, 0.14637401198544658, 0.05854960479417863, 0.08782440719126795, 0.08782440719126795, 0.029274802397089315, 0.029274802397089315, 0.11597419074693262, 0.08698064306019947, 0.028993547686733154, 0.40590966761426417, 0.028993547686733154, 0.05798709537346631, 0.05798709537346631, 0.08698064306019947, 0.08698064306019947, 0.17215334097665516, 0.04303833524416379, 0.04303833524416379, 0.32278751433122843, 0.010759583811040948, 0.010759583811040948, 0.31202793052018746, 0.04303833524416379, 0.032278751433122845, 0.32005733033306694, 0.028449540474050395, 0.028449540474050395, 0.12091054701471418, 0.0817924288628949, 0.18136582052207129, 0.1315791246924831, 0.017780962796281496, 0.09246100654066379, 0.039152050184154644, 0.07830410036830929, 0.039152050184154644, 0.04894006273019331, 0.029364037638115986, 0.05872807527623197, 0.29364037638115986, 0.17618422582869592, 0.2349123011049279, 0.37947073291438577, 0.07589414658287716, 0.22768243974863148, 0.07589414658287716, 0.15178829316575432, 0.295053757332742, 0.147526878666371, 0.295053757332742, 0.0737634393331855, 0.147526878666371, 0.10061362267121303, 0.3219635925478817, 0.08049089813697043, 0.060368173602727816, 0.3823317661506095, 0.04024544906848521, 0.1270627606291369, 0.04235425354304564, 0.21177126771522817, 0.1270627606291369, 0.3811882818874107, 0.04235425354304564, 0.07722794201629607, 0.038613971008148035, 0.07722794201629607, 0.23168382604888818, 0.2702977970570362, 0.07722794201629607, 0.07722794201629607, 0.07722794201629607, 0.038613971008148035, 0.08263530190616125, 0.24790590571848375, 0.08263530190616125, 0.1652706038123225, 0.41317650953080626, 0.14348706074171852, 0.028697412148343704, 0.08609223644503111, 0.05739482429668741, 0.37306635792846815, 0.08609223644503111, 0.05739482429668741, 0.14348706074171852, 0.13999613343253045, 0.03999889526643727, 0.07999779053287454, 0.019999447633218634, 0.05999834289965591, 0.11999668579931182, 0.09999723816609318, 0.05999834289965591, 0.21999392396540499, 0.13999613343253045, 0.12815653852308082, 0.12815653852308082, 0.25631307704616163, 0.06407826926154041, 0.3844696155692424, 0.27315808391397856, 0.05463161678279572, 0.43705293426236574, 0.10926323356559144, 0.05463161678279572, 0.05463161678279572, 0.07105096946156896, 0.1776274236539224, 0.03552548473078448, 0.1776274236539224, 0.07105096946156896, 0.07105096946156896, 0.10657645419235344, 0.2842038778462758, 0.21142090184368884, 0.1268525411062133, 0.04228418036873777, 0.42284180368737767, 0.04228418036873777, 0.04228418036873777, 0.04228418036873777, 0.07868059198291928, 0.03934029599145964, 0.03934029599145964, 0.11802088797437893, 0.03934029599145964, 0.03934029599145964, 0.11802088797437893, 0.03934029599145964, 0.43274325590605606, 0.14564555490893608, 0.24274259151489347, 0.33983962812085083, 0.14564555490893608, 0.04854851830297869, 0.04854851830297869, 0.0654506095682656, 0.17453495884870823, 0.0654506095682656, 0.08726747942435412, 0.0654506095682656, 0.02181686985608853, 0.10908434928044265, 0.04363373971217706, 0.02181686985608853, 0.3054361779852394, 0.21166340731687333, 0.05291585182921833, 0.05291585182921833, 0.05291585182921833, 0.05291585182921833, 0.31749511097531, 0.158747555487655, 0.05291585182921833, 0.17278979463176333, 0.22462673302129232, 0.16415030490017515, 0.017278979463176334, 0.12095285624223433, 0.06911591785270534, 0.14687132543699882, 0.051836938389529, 0.0259184691947645, 0.11583042465140499, 0.11583042465140499, 0.20752951083376725, 0.05791521232570249, 0.1544405662018733, 0.033783873856659784, 0.07239401540712812, 0.07722028310093665, 0.0820465507947452, 0.0820465507947452, 0.18961493464920554, 0.09480746732460277, 0.047403733662301384, 0.5214410702853153, 0.047403733662301384, 0.047403733662301384, 0.047403733662301384, 0.07908747170027217, 0.07908747170027217, 0.7908747170027216, 0.10022586142902666, 0.5888269358955316, 0.025056465357256665, 0.06264116339314166, 0.22550818821531, 0.04352816105049053, 0.04352816105049053, 0.08705632210098106, 0.04352816105049053, 0.739978737858339, 0.14635992808649118, 0.2230469191605632, 0.21322724347424912, 0.10848403615356533, 0.06406169376309677, 0.009352072082203908, 0.11690090102754885, 0.05658003609733365, 0.03881109914114622, 0.023847783809619966, 0.28329980067632193, 0.03147775563070244, 0.03147775563070244, 0.12591102252280975, 0.0944332668921073, 0.1888665337842146, 0.04721663344605365, 0.15738877815351218, 0.03147775563070244, 0.044635475423054155, 0.044635475423054155, 0.17854190169221662, 0.49099022965359573, 0.08927095084610831, 0.08927095084610831, 0.4694430562845656, 0.26080169793586977, 0.10432067917434791, 0.10432067917434791, 0.052160339587173955, 0.0993620809638549, 0.3974483238554196, 0.1656034682730915, 0.033120693654618304, 0.06624138730923661, 0.0993620809638549, 0.06624138730923661, 0.06624138730923661, 0.040623717930233, 0.162494871720932, 0.771850640674427, 0.42949179293041645, 0.08589835858608329, 0.08589835858608329, 0.08589835858608329, 0.08589835858608329, 0.08589835858608329, 0.08589835858608329, 0.29609549038489086, 0.29609549038489086, 0.09869849679496362, 0.09869849679496362, 0.09869849679496362, 0.09167129593485322, 0.27501388780455965, 0.09167129593485322, 0.27501388780455965, 0.18334259186970644, 0.04903395934295951, 0.3922716747436761, 0.24516979671479755, 0.29420375605775706, 0.47672101491405033, 0.1589070049713501, 0.07945350248567505, 0.23836050745702517, 0.37584214122773774, 0.10250240215301938, 0.03416746738433979, 0.03416746738433979, 0.34167467384339795, 0.06833493476867958, 0.07969909793915887, 0.07969909793915887, 0.39849548969579435, 0.39849548969579435, 0.3641468877174954, 0.3641468877174954, 0.1456587550869982, 0.10924406631524863, 0.10206470947280717, 0.1551383583986669, 0.06532141406259659, 0.03470200122075444, 0.03878458959966673, 0.18167518286159676, 0.17146871191431604, 0.13064282812519318, 0.032660707031298294, 0.08777565014661416, 0.07759314513875151, 0.31037258055500605, 0.23277943541625454, 0.23277943541625454, 0.038796572569375756, 0.038796572569375756, 0.11357832407582644, 0.08833869650342056, 0.07571888271721762, 0.012619813786202938, 0.5552718065929293, 0.03785944135860881, 0.050479255144811754, 0.03785944135860881, 0.06309906893101469, 0.19966898062113744, 0.19966898062113744, 0.3993379612422749, 0.06655632687371248, 0.008254964277853412, 0.041274821389267066, 0.016509928555706824, 0.2559038926134558, 0.17335424983492168, 0.34670849966984335, 0.057784749944973894, 0.09080460705638754, 0.008254964277853412, 0.22370339537230288, 0.06391525582065796, 0.6711101861169086, 0.03195762791032898, 0.07148296508467596, 0.8577955810161115, 0.03809496719692695, 0.05714245079539042, 0.32380722117387906, 0.2666647703784886, 0.11428490159078084, 0.05714245079539042, 0.03809496719692695, 0.05714245079539042, 0.03809496719692695, 0.08344398452191731, 0.08344398452191731, 0.08344398452191731, 0.02781466150730577, 0.16688796904383463, 0.11125864602922308, 0.3059612765803635, 0.08344398452191731, 0.05562932301461154, 0.4429436696802414, 0.08858873393604828, 0.08858873393604828, 0.35435493574419313, 0.23086325903844382, 0.15390883935896255, 0.07695441967948127, 0.07695441967948127, 0.07695441967948127, 0.3847720983974064, 0.0348153920748579, 0.0696307841497158, 0.1740769603742895, 0.0348153920748579, 0.1044461762245737, 0.4526000969731527, 0.1044461762245737, 0.17665691530038105, 0.26498537295057156, 0.08832845765019053, 0.44164228825095264, 0.096094412391668, 0.048047206195834, 0.672660886741676, 0.096094412391668, 0.13776108029859702, 0.034440270074649254, 0.034440270074649254, 0.034440270074649254, 0.6543651314183359, 0.06888054014929851, 0.1612889356430067, 0.05376297854766889, 0.017920992849222966, 0.14336794279378373, 0.23297290703989854, 0.07168397139689187, 0.1612889356430067, 0.1612889356430067, 0.0475396492305693, 0.2648637599988861, 0.12224481230717822, 0.2920292738449257, 0.013582756923019803, 0.0407482707690594, 0.05433102769207921, 0.0814965415381188, 0.067913784615099, 0.013582756923019803, 0.15096460352562718, 0.025160767254271195, 0.07548230176281359, 0.42773304332261036, 0.07548230176281359, 0.07548230176281359, 0.025160767254271195, 0.07548230176281359, 0.05032153450854239, 0.07800953286673848, 0.07800953286673848, 0.7800953286673848, 0.1935342261368345, 0.08252810844273423, 0.05579365077818652, 0.08659639547864366, 0.16738095233455957, 0.09008349865228032, 0.026734457664547708, 0.10926256610728194, 0.10577546293364527, 0.08194692458046145, 0.10308734092302929, 0.025771835230757323, 0.051543670461514646, 0.28349018753833055, 0.10308734092302929, 0.12885917615378661, 0.051543670461514646, 0.025771835230757323, 0.15463101138454394, 0.07731550569227197, 0.1904341584529591, 0.3332597772926784, 0.1428256188397193, 0.1428256188397193, 0.09521707922647955, 0.09521707922647955, 0.04184410531548697, 0.04184410531548697, 0.20922052657743487, 0.12553231594646092, 0.20922052657743487, 0.33475284252389576, 0.057227919274030446, 0.17168375782209133, 0.28613959637015224, 0.028613959637015223, 0.028613959637015223, 0.34336751564418266, 0.028613959637015223, 0.028613959637015223, 0.08687022558697705, 0.08687022558697705, 0.1737404511739541, 0.26061067676093114, 0.26061067676093114, 0.11005478488256777, 0.33016435464770333, 0.16508217732385166, 0.055027392441283886, 0.055027392441283886, 0.16508217732385166, 0.09962918385099499, 0.4981459192549749, 0.049814591925497496, 0.19925836770198999, 0.049814591925497496, 0.7152143466360611, 0.15893652147468024, 0.07946826073734012, 0.07946826073734012, 0.20017111874801954, 0.06672370624933985, 0.33361853124669927, 0.4003422374960391, 0.0681895220287884, 0.0681895220287884, 0.0681895220287884, 0.34094761014394204, 0.2727580881151536, 0.1363790440575768, 0.14778170163323337, 0.07389085081661668, 0.07389085081661668, 0.22167255244985004, 0.29556340326646674, 0.07389085081661668, 0.2082550128427803, 0.0694183376142601, 0.0694183376142601, 0.4165100256855606, 0.10412750642139015, 0.0694183376142601, 0.03470916880713005, 0.126857197859978, 0.050742879143991206, 0.10148575828798241, 0.10148575828798241, 0.050742879143991206, 0.1776000770039692, 0.0761143187159868, 0.253714395719956, 0.1240026517760185, 0.031000662944004626, 0.43400928121606475, 0.15500331472002313, 0.09300198883201388, 0.06200132588800925, 0.09300198883201388, 0.05080675537629921, 0.3556472876340945, 0.05080675537629921, 0.10161351075259842, 0.05080675537629921, 0.3556472876340945, 0.3189724749753059, 0.3987155937191324, 0.07974311874382647, 0.07974311874382647, 0.07974311874382647, 0.12137727409067904, 0.18206591113601855, 0.18206591113601855, 0.3034431852266976, 0.12137727409067904, 0.05452352710447354, 0.09087254517412258, 0.03634901806964903, 0.018174509034824517, 0.03634901806964903, 0.3634901806964903, 0.018174509034824517, 0.018174509034824517, 0.10904705420894709, 0.27261763552236773, 0.09287558628282352, 0.08513595409258823, 0.2167097013265882, 0.1006152184730588, 0.13931337942423527, 0.04643779314141176, 0.16253227599494116, 0.007739632190235293, 0.08513595409258823, 0.06191705752188235, 0.060325530988923626, 0.030162765494461813, 0.12065106197784725, 0.030162765494461813, 0.27146488945015634, 0.030162765494461813, 0.4524414824169272, 0.03503375505099018, 0.03503375505099018, 0.1401350202039607, 0.07006751010198035, 0.3503375505099018, 0.2802700404079214, 0.07006751010198035, 0.5330533298697242, 0.15678039113815417, 0.06271215645526167, 0.12542431291052333, 0.09406823468289251, 0.06271215645526167, 0.18323072157222595, 0.030538453595370992, 0.21376917516759694, 0.061076907190741984, 0.061076907190741984, 0.4580768039305649, 0.03555317877519322, 0.01777658938759661, 0.08888294693798306, 0.12443612571317628, 0.05332976816278984, 0.3377551983643356, 0.1777658938759661, 0.1599893044883695, 0.022926204731686516, 0.7107123466822819, 0.022926204731686516, 0.022926204731686516, 0.022926204731686516, 0.04585240946337303, 0.13755722839011908, 0.029866821729619613, 0.14933410864809807, 0.14933410864809807, 0.29866821729619614, 0.14933410864809807, 0.11946728691847845, 0.08960046518885885, 0.10255105808970419, 0.23928580220930976, 0.41020423235881676, 0.10255105808970419, 0.03418368602990139, 0.03418368602990139, 0.03418368602990139, 0.11121941727144449, 0.1779510676343112, 0.2502436888607501, 0.13902427158930564, 0.016682912590716675, 0.13902427158930564, 0.10009747554430005, 0.0444877669085778, 0.027804854317861123, 0.08918751296549654, 0.40771434498512704, 0.2675625388964896, 0.08918751296549654, 0.14015180608863742, 0.01274107328078522, 0.01597493015290947, 0.04792479045872841, 0.03194986030581894, 0.46327297443437465, 0.09584958091745682, 0.01597493015290947, 0.09584958091745682, 0.04792479045872841, 0.1118245110703663, 0.04792479045872841, 0.07597494730376234, 0.18993736825940583, 0.07597494730376234, 0.03798747365188117, 0.07597494730376234, 0.5698121047782175, 0.18829296445262725, 0.08588801887312822, 0.05946093614293492, 0.2114166618415464, 0.08588801887312822, 0.08588801887312822, 0.03633723875401579, 0.06606770682548324, 0.06937109216675741, 0.10901171626204735, 0.07064456141502584, 0.10596684212253876, 0.3179005263676163, 0.45918964919766797, 0.27703799232881865, 0.055407598465763735, 0.09234599744293956, 0.12928439642011538, 0.09234599744293956, 0.018469199488587912, 0.07387679795435165, 0.09234599744293956, 0.18469199488587912, 0.08730389619159191, 0.20952935085982058, 0.07857350657243271, 0.13095584428738788, 0.00873038961915919, 0.00873038961915919, 0.11349506504906948, 0.2793724678130941, 0.052382337714955145, 0.026191168857477572, 0.05026078115602889, 0.025130390578014444, 0.10052156231205778, 0.12565195289007222, 0.27643429635815886, 0.025130390578014444, 0.4020862492482311, 0.16821247273237247, 0.16821247273237247, 0.08410623636618623, 0.08410623636618623, 0.16821247273237247, 0.2523187090985587, 0.2808236214316449, 0.05616472428632899, 0.3931530700043029, 0.16849417285898696, 0.05616472428632899, 0.0399616260856591, 0.6793476434562047, 0.1998081304282955, 0.0399616260856591, 0.47271201881945146, 0.0945424037638903, 0.0945424037638903, 0.0945424037638903, 0.1890848075277806, 0.019748714270705396, 0.03949742854141079, 0.13824099989493777, 0.019748714270705396, 0.1728012498686722, 0.3752255711434025, 0.019748714270705396, 0.12342946419190873, 0.019748714270705396, 0.07405767851514523, 0.18786197889266487, 0.09393098944633244, 0.4696549472316622, 0.18786197889266487, 0.10377435738445202, 0.10377435738445202, 0.25943589346113005, 0.05188717869222601, 0.10377435738445202, 0.15566153607667804, 0.10377435738445202, 0.07492565917607111, 0.29970263670428443, 0.14985131835214222, 0.37462829588035557, 0.059350411530377074, 0.2374016461215083, 0.35610246918226246, 0.11870082306075415, 0.11870082306075415, 0.059350411530377074, 0.19210223733989693, 0.1362179501137451, 0.11875411035557264, 0.1012902705974002, 0.11176857445230366, 0.15368178987191752, 0.06985535903268979, 0.020956607709806938, 0.0663625910810553, 0.027942143613075916, 0.05885383015188288, 0.17656149045564865, 0.05885383015188288, 0.2942691507594144, 0.2942691507594144, 0.39686836427615774, 0.13228945475871923, 0.2204824245978654, 0.08819296983914615, 0.044096484919573076, 0.044096484919573076, 0.044096484919573076, 0.0342457121794771, 0.6849142435895419, 0.05136856826921564, 0.01712285608973855, 0.05136856826921564, 0.0684914243589542, 0.05136856826921564, 0.0342457121794771, 0.15823333514617735, 0.05860493894302865, 0.017581481682908594, 0.20511728630060028, 0.029302469471514325, 0.18753580461769168, 0.12893086567466303, 0.11134938399175444, 0.07032592673163438, 0.03516296336581719, 0.010414972069567686, 0.020829944139135373, 0.05207486034783843, 0.05207486034783843, 0.3541090503653013, 0.49991865933924895, 0.18492643471350967, 0.19915154507608734, 0.27027709688897567, 0.07112555181288834, 0.028450220725155333, 0.07112555181288834, 0.014225110362577667, 0.09957577253804367, 0.05690044145031067, 0.0146532491855087, 0.0293064983710174, 0.2344519869681392, 0.0439597475565261, 0.4689039739362784, 0.2051454885971218, 0.15989863922272318, 0.3997465980568079, 0.07994931961136159, 0.23984795883408475, 0.2517556609031771, 0.2517556609031771, 0.08391855363439236, 0.41959276817196184, 0.05331378944513347, 0.4265103155610678, 0.10662757889026694, 0.31988273667080086, 0.05331378944513347, 0.12433486242998192, 0.06216743121499096, 0.06216743121499096, 0.3108371560749548, 0.06216743121499096, 0.3108371560749548, 0.09183234300196101, 0.19386827967080658, 0.010203593666884557, 0.09183234300196101, 0.11223953033573011, 0.0714251556681919, 0.13264671766949923, 0.11223953033573011, 0.0714251556681919, 0.10203593666884557, 0.1516611215234032, 0.22749168228510477, 0.37915280380850797, 0.0758305607617016, 0.0758305607617016, 0.15884204974922622, 0.13898679353057294, 0.05956576865595984, 0.039710512437306555, 0.11913153731191968, 0.15884204974922622, 0.05956576865595984, 0.23826307462383936, 0.23117919760299904, 0.07705973253433301, 0.07705973253433301, 0.5394181277403312, 0.36787445441254896, 0.2006587933159358, 0.03344313221932264, 0.13377252887729055, 0.13377252887729055, 0.1003293966579679, 0.03344313221932264, 0.2385810504671447, 0.02650900560746052, 0.3181080672895263, 0.02650900560746052, 0.05301801121492104, 0.07952701682238157, 0.26509005607460523, 0.12214865680922586, 0.06107432840461293, 0.42752029883229054, 0.12214865680922586, 0.18322298521383878, 0.06107432840461293, 0.17112390721688234, 0.02444627245955462, 0.04889254491910924, 0.17112390721688234, 0.04889254491910924, 0.46447917673153777, 0.02444627245955462, 0.02444627245955462, 0.11369918936542638, 0.5684959468271319, 0.05684959468271319, 0.11369918936542638, 0.11369918936542638, 0.18428652850265526, 0.12285768566843683, 0.061428842834218414, 0.30714421417109206, 0.12285768566843683, 0.061428842834218414, 0.29743126143507703, 0.11207554778713048, 0.05172717590175253, 0.05172717590175253, 0.08190136184444151, 0.01724239196725084, 0.01724239196725084, 0.05603777389356524, 0.13362853774619404, 0.17673451766432113, 0.13005305654696095, 0.1950795848204414, 0.13005305654696095, 0.06502652827348047, 0.3251326413674024, 0.06502652827348047, 0.0802577796475057, 0.2809022287662699, 0.04012888982375285, 0.12038666947125855, 0.04012888982375285, 0.04012888982375285, 0.3210311185900228, 0.04012888982375285, 0.06363460935403474, 0.12726921870806948, 0.06363460935403474, 0.06363460935403474, 0.3181730467701737, 0.3181730467701737, 0.13994877119468901, 0.09329918079645934, 0.3213638449655822, 0.09329918079645934, 0.025916439110127594, 0.005183287822025519, 0.1658652103048166, 0.05183287822025519, 0.09848246861848485, 0.26519608405143263, 0.46409314709000715, 0.11049836835476361, 0.02209967367095272, 0.02209967367095272, 0.06629902101285816, 0.02209967367095272, 0.06392670999736576, 0.06392670999736576, 0.5114136799789261, 0.3196335499868288, 0.06392670999736576, 0.17201944342728165, 0.12901458257046125, 0.04300486085682041, 0.04300486085682041, 0.5590631911386654, 0.04300486085682041, 0.03965218495604519, 0.07930436991209038, 0.5551305893846326, 0.07930436991209038, 0.19826092478022592, 0.03965218495604519, 0.06342353686739705, 0.11099118951794483, 0.14270295795164334, 0.26955003168643743, 0.09513530530109557, 0.06342353686739705, 0.07927942108424631, 0.06342353686739705, 0.07927942108424631, 0.03171176843369852, 0.03483013254142824, 0.10449039762428473, 0.10449039762428473, 0.13932053016571297, 0.10449039762428473, 0.5572821206628519, 0.07329847734875326, 0.42604739958962834, 0.23363889654915102, 0.018324619337188316, 0.018324619337188316, 0.013743464502891236, 0.050392703177267864, 0.11452887085742697, 0.018324619337188316, 0.03664923867437663, 0.4216661234872335, 0.0843332246974467, 0.1686664493948934, 0.1686664493948934, 0.0843332246974467, 0.05504191812780327, 0.05504191812780327, 0.19264671344731144, 0.027520959063901635, 0.0825628771917049, 0.13760479531950817, 0.027520959063901635, 0.05504191812780327, 0.35777246783072125, 0.5284230087910928, 0.048038455344644806, 0.048038455344644806, 0.048038455344644806, 0.09607691068928961, 0.1441153660339344, 0.0393244570427022, 0.18351413286594362, 0.0786489140854044, 0.36702826573188724, 0.19662228521351102, 0.026216304695134803, 0.052432609390269606, 0.026216304695134803, 0.026216304695134803, 0.11348522223555312, 0.05674261111777656, 0.28371305558888277, 0.11348522223555312, 0.28371305558888277, 0.05674261111777656, 0.05674261111777656, 0.05674261111777656, 0.15006985609751675, 0.07503492804875837, 0.18758732012189594, 0.03751746402437919, 0.03751746402437919, 0.07503492804875837, 0.03751746402437919, 0.3001397121950335, 0.07503492804875837, 0.38283977668096353, 0.10938279333741815, 0.05469139666870908, 0.10938279333741815, 0.10938279333741815, 0.10938279333741815, 0.05469139666870908, 0.16643752803751594, 0.41609382009378987, 0.16643752803751594, 0.08321876401875797, 0.08321876401875797, 0.08321876401875797, 0.14093689816361404, 0.02818737963272281, 0.05637475926544562, 0.08456213889816842, 0.08456213889816842, 0.02818737963272281, 0.05637475926544562, 0.02818737963272281, 0.3664359352253965, 0.08456213889816842, 0.1450606225129695, 0.48793118481635195, 0.03956198795808259, 0.07912397591616518, 0.13187329319360863, 0.052749317277443454, 0.026374658638721727, 0.013187329319360864, 0.026374658638721727, 0.3388965635632388, 0.3388965635632388, 0.1694482817816194, 0.0847241408908097, 0.25461245970063834, 0.12730622985031917, 0.12730622985031917, 0.06365311492515958, 0.3182655746257979, 0.06365311492515958, 0.08355178220210656, 0.4177589110105328, 0.08355178220210656, 0.25065534660631966, 0.08355178220210656, 0.5448180682486043, 0.07783115260694347, 0.07783115260694347, 0.15566230521388694, 0.07783115260694347, 0.14520739511314837, 0.07260369755657418, 0.07260369755657418, 0.07260369755657418, 0.29041479022629674, 0.36301848778287094, 0.07184898139303242, 0.7544143046268403, 0.10777347208954863, 0.09327949286035701, 0.7462359428828561, 0.09327949286035701, 0.13475211221227373, 0.22458685368712286, 0.11977965529979887, 0.20961439677464802, 0.04491737073742457, 0.04491737073742457, 0.14972456912474857, 0.014972456912474858, 0.014972456912474858, 0.07486228456237429, 0.17918832762817333, 0.17918832762817333, 0.08959416381408666, 0.08959416381408666, 0.35837665525634665, 0.02078817554967656, 0.02078817554967656, 0.1039408777483828, 0.04157635109935312, 0.1039408777483828, 0.02078817554967656, 0.2910344576954718, 0.2494581065961187, 0.1455172288477359, 0.18759495057721787, 0.03751899011544357, 0.07503798023088715, 0.18759495057721787, 0.03751899011544357, 0.07503798023088715, 0.33767091103899216, 0.11255697034633073, 0.46589527872132647, 0.0931790557442653, 0.0931790557442653, 0.0931790557442653, 0.0931790557442653, 0.0931790557442653, 0.10478249067400645, 0.05239124533700323, 0.2095649813480129, 0.3667387173590226, 0.15717373601100967, 0.05239124533700323, 0.029866792389979864, 0.1493339619498993, 0.1493339619498993, 0.2986679238997986, 0.1493339619498993, 0.11946716955991946, 0.0896003771699396, 0.1669606740374413, 0.11130711602496086, 0.05565355801248043, 0.05565355801248043, 0.11130711602496086, 0.3339213480748826, 0.11130711602496086, 0.04115655362511383, 0.04115655362511383, 0.1646262145004553, 0.37040898262602445, 0.04115655362511383, 0.20578276812556914, 0.12346966087534149], \"Topic\": [1, 2, 3, 4, 5, 7, 8, 9, 1, 2, 4, 6, 7, 9, 10, 1, 2, 3, 4, 6, 10, 1, 2, 4, 5, 6, 7, 8, 9, 1, 3, 5, 8, 9, 1, 2, 3, 4, 8, 9, 1, 4, 5, 7, 8, 10, 1, 2, 3, 4, 5, 6, 7, 8, 9, 10, 1, 4, 5, 6, 7, 9, 1, 4, 7, 10, 1, 4, 8, 1, 2, 4, 5, 6, 7, 8, 9, 10, 1, 3, 7, 8, 9, 1, 2, 3, 5, 8, 9, 1, 2, 3, 4, 5, 6, 7, 8, 9, 10, 1, 2, 3, 5, 6, 7, 8, 9, 10, 1, 2, 3, 6, 8, 9, 4, 5, 6, 7, 8, 9, 1, 2, 3, 4, 5, 6, 7, 9, 10, 1, 2, 4, 5, 6, 7, 9, 1, 6, 7, 8, 9, 1, 2, 4, 8, 9, 1, 6, 7, 1, 2, 3, 4, 5, 6, 7, 8, 9, 10, 1, 2, 3, 4, 5, 6, 8, 9, 1, 2, 3, 4, 5, 6, 7, 8, 9, 10, 1, 2, 3, 4, 5, 6, 7, 8, 9, 10, 1, 3, 5, 7, 8, 1, 2, 3, 4, 5, 7, 8, 10, 1, 4, 5, 8, 10, 5, 6, 7, 8, 9, 1, 3, 4, 9, 1, 2, 3, 4, 5, 6, 7, 8, 9, 2, 3, 5, 8, 1, 2, 3, 4, 5, 6, 8, 9, 10, 1, 2, 3, 4, 5, 6, 7, 9, 1, 3, 6, 7, 9, 1, 4, 5, 6, 1, 2, 3, 4, 5, 6, 7, 8, 9, 10, 1, 2, 3, 4, 5, 6, 7, 10, 2, 3, 5, 6, 7, 8, 1, 4, 5, 6, 7, 8, 9, 2, 3, 7, 8, 9, 10, 1, 3, 4, 7, 1, 2, 4, 5, 6, 10, 1, 2, 3, 4, 6, 8, 1, 2, 3, 5, 6, 7, 8, 9, 1, 3, 6, 9, 10, 1, 2, 3, 4, 5, 6, 7, 8, 9, 10, 1, 4, 5, 6, 10, 1, 2, 3, 4, 6, 7, 10, 2, 4, 5, 6, 7, 8, 9, 10, 1, 2, 6, 7, 9, 10, 1, 4, 5, 6, 8, 9, 10, 1, 3, 6, 7, 8, 9, 1, 2, 4, 5, 6, 8, 10, 1, 2, 3, 4, 5, 7, 8, 9, 10, 3, 5, 6, 8, 10, 1, 7, 1, 2, 3, 4, 5, 6, 7, 8, 9, 10, 1, 2, 3, 4, 5, 6, 7, 8, 9, 10, 3, 4, 5, 8, 10, 1, 2, 3, 5, 6, 9, 1, 5, 6, 9, 2, 3, 4, 6, 8, 2, 3, 4, 5, 7, 8, 9, 1, 2, 3, 4, 5, 6, 7, 8, 9, 10, 2, 3, 4, 5, 6, 7, 8, 9, 10, 1, 2, 3, 4, 7, 9, 10, 1, 4, 6, 9, 10, 1, 2, 3, 5, 7, 8, 9, 1, 2, 4, 7, 8, 9, 1, 2, 3, 5, 7, 9, 1, 2, 4, 5, 7, 2, 3, 4, 7, 8, 2, 4, 5, 6, 8, 9, 10, 1, 3, 6, 7, 8, 10, 1, 2, 3, 4, 5, 8, 9, 10, 1, 3, 6, 7, 9, 10, 1, 3, 5, 6, 10, 1, 2, 3, 4, 6, 7, 10, 1, 2, 3, 5, 6, 7, 8, 9, 10, 4, 6, 9, 10, 1, 2, 3, 4, 6, 8, 1, 2, 7, 9, 10, 3, 8, 9, 1, 2, 3, 4, 5, 7, 8, 9, 10, 1, 8, 10, 1, 2, 3, 4, 5, 6, 7, 8, 9, 10, 1, 2, 3, 4, 5, 7, 8, 9, 10, 1, 2, 3, 4, 5, 6, 7, 8, 9, 10, 1, 3, 4, 5, 7, 8, 1, 2, 3, 4, 5, 6, 7, 10, 5, 7, 10, 1, 2, 4, 5, 8, 1, 2, 3, 5, 8, 9, 10, 1, 2, 3, 4, 5, 6, 7, 8, 9, 10, 1, 3, 4, 5, 6, 7, 8, 9, 10, 1, 2, 3, 5, 6, 7, 9, 10, 1, 3, 5, 6, 8, 9, 10, 1, 2, 3, 5, 7, 8, 9, 1, 2, 3, 4, 5, 6, 7, 8, 9, 10, 2, 3, 4, 5, 8, 10, 2, 3, 10, 1, 2, 3, 4, 5, 6, 7, 8, 9, 10, 1, 2, 3, 4, 6, 7, 9, 10, 1, 2, 3, 4, 8, 1, 2, 3, 5, 7, 8, 9, 10, 1, 2, 3, 4, 6, 7, 8, 10, 1, 2, 3, 4, 5, 7, 8, 10, 1, 2, 3, 4, 5, 6, 7, 8, 9, 10, 1, 5, 8, 10, 3, 4, 5, 7, 9, 1, 4, 5, 6, 7, 8, 9, 1, 2, 3, 4, 5, 6, 7, 8, 10, 3, 4, 5, 6, 7, 8, 9, 10, 1, 2, 3, 4, 5, 7, 8, 9, 1, 2, 3, 4, 6, 7, 8, 9, 1, 2, 4, 9, 1, 2, 3, 4, 5, 6, 7, 8, 9, 10, 1, 2, 4, 5, 6, 7, 8, 9, 10, 3, 5, 7, 8, 10, 1, 2, 3, 4, 5, 6, 8, 9, 10, 1, 2, 3, 4, 8, 9, 1, 2, 3, 4, 5, 6, 7, 8, 9, 10, 1, 2, 3, 4, 5, 6, 7, 8, 9, 10, 1, 2, 3, 4, 6, 7, 8, 1, 2, 3, 4, 8, 2, 4, 7, 8, 9, 1, 2, 4, 6, 7, 8, 9, 1, 3, 5, 6, 2, 4, 5, 7, 8, 9, 10, 1, 2, 3, 5, 6, 9, 10, 1, 4, 5, 6, 7, 8, 10, 1, 2, 3, 4, 5, 6, 7, 8, 2, 3, 5, 6, 8, 10, 1, 2, 3, 4, 5, 6, 7, 8, 9, 10, 1, 2, 4, 7, 8, 10, 1, 2, 3, 4, 8, 10, 1, 2, 3, 4, 5, 6, 7, 8, 9, 10, 1, 2, 3, 4, 5, 6, 7, 8, 9, 10, 2, 3, 4, 5, 6, 8, 9, 10, 1, 2, 4, 1, 2, 4, 5, 8, 1, 2, 3, 6, 7, 8, 9, 2, 3, 4, 5, 6, 3, 5, 6, 7, 9, 10, 2, 3, 5, 6, 7, 8, 9, 10, 1, 2, 3, 4, 5, 6, 7, 8, 9, 1, 2, 3, 4, 5, 6, 10, 1, 2, 3, 4, 5, 6, 7, 8, 9, 10, 1, 2, 3, 4, 5, 6, 7, 8, 9, 10, 2, 3, 4, 5, 7, 9, 10, 1, 2, 3, 4, 5, 6, 7, 8, 9, 10, 1, 2, 3, 4, 5, 7, 8, 1, 2, 3, 5, 7, 8, 9, 1, 2, 8, 10, 2, 10, 1, 2, 3, 4, 7, 9, 10, 1, 2, 3, 4, 5, 6, 7, 9, 1, 2, 4, 5, 6, 7, 8, 9, 10, 1, 2, 3, 4, 5, 6, 7, 8, 9, 1, 2, 3, 4, 5, 7, 8, 9, 10, 1, 2, 3, 4, 5, 6, 7, 8, 10, 1, 2, 3, 5, 7, 1, 3, 4, 7, 8, 1, 2, 3, 4, 5, 8, 2, 3, 4, 5, 7, 9, 1, 2, 3, 4, 5, 6, 7, 8, 9, 5, 6, 8, 9, 10, 1, 3, 4, 5, 6, 7, 8, 9, 1, 2, 3, 4, 5, 6, 7, 8, 9, 10, 1, 5, 6, 8, 10, 1, 2, 3, 4, 8, 10, 1, 2, 3, 4, 5, 6, 7, 8, 1, 5, 6, 7, 8, 9, 10, 1, 2, 3, 4, 5, 7, 8, 9, 10, 1, 2, 3, 5, 6, 10, 1, 2, 3, 4, 5, 6, 7, 8, 9, 10, 1, 2, 3, 4, 5, 6, 7, 10, 1, 2, 3, 4, 5, 7, 8, 9, 10, 1, 2, 3, 4, 5, 6, 7, 8, 9, 10, 1, 2, 4, 5, 6, 9, 10, 5, 7, 8, 2, 3, 4, 7, 10, 2, 3, 4, 5, 7, 1, 2, 3, 4, 5, 6, 7, 8, 9, 10, 1, 2, 3, 4, 6, 7, 8, 9, 10, 1, 2, 5, 6, 9, 10, 1, 2, 3, 5, 6, 1, 2, 3, 4, 5, 6, 7, 8, 2, 3, 4, 1, 2, 3, 4, 7, 9, 10, 1, 5, 7, 8, 9, 2, 3, 4, 5, 7, 1, 2, 4, 10, 2, 7, 8, 10, 1, 2, 3, 6, 8, 9, 1, 2, 4, 9, 2, 5, 7, 10, 1, 2, 3, 4, 5, 6, 7, 8, 9, 10, 1, 2, 5, 6, 9, 10, 1, 2, 3, 4, 5, 6, 7, 8, 9, 1, 2, 5, 6, 1, 2, 3, 4, 5, 6, 8, 9, 10, 2, 3, 4, 7, 1, 6, 1, 2, 3, 5, 6, 7, 8, 9, 10, 1, 2, 3, 4, 5, 6, 7, 8, 10, 1, 3, 4, 6, 1, 2, 6, 7, 8, 10, 1, 2, 3, 4, 6, 7, 10, 1, 4, 6, 7, 1, 2, 7, 10, 1, 2, 4, 6, 7, 10, 1, 2, 3, 4, 5, 7, 8, 9, 1, 2, 3, 4, 5, 6, 7, 8, 9, 10, 1, 2, 3, 5, 6, 7, 8, 9, 10, 2, 3, 6, 1, 2, 3, 4, 5, 6, 7, 8, 9, 10, 1, 2, 3, 4, 5, 6, 7, 8, 9, 10, 1, 3, 5, 6, 7, 9, 1, 2, 3, 5, 7, 8, 1, 2, 3, 4, 5, 7, 9, 10, 2, 3, 8, 9, 10, 1, 3, 5, 7, 8, 9, 1, 2, 6, 8, 9, 1, 5, 6, 8, 1, 7, 8, 9, 1, 2, 4, 5, 6, 8, 1, 3, 5, 7, 9, 10, 1, 2, 3, 4, 7, 9, 10, 1, 2, 3, 4, 5, 6, 9, 10, 3, 4, 5, 6, 7, 8, 9, 2, 3, 4, 5, 6, 9, 1, 2, 6, 7, 9, 1, 2, 3, 4, 7, 1, 2, 3, 4, 5, 6, 7, 8, 9, 10, 1, 2, 3, 4, 5, 6, 7, 8, 9, 10, 1, 4, 5, 7, 8, 9, 10, 1, 2, 3, 5, 6, 9, 10, 1, 2, 3, 7, 8, 9, 2, 3, 4, 7, 8, 9, 1, 2, 3, 4, 5, 7, 9, 10, 1, 2, 4, 5, 6, 8, 10, 1, 2, 5, 6, 7, 8, 10, 1, 2, 3, 4, 5, 9, 10, 1, 2, 3, 4, 5, 6, 7, 8, 10, 1, 2, 3, 7, 8, 10, 1, 2, 3, 4, 5, 6, 7, 8, 9, 10, 1, 2, 4, 7, 8, 10, 1, 2, 3, 4, 5, 6, 7, 8, 9, 10, 1, 4, 6, 9, 1, 2, 3, 4, 5, 7, 8, 9, 10, 1, 2, 3, 4, 5, 6, 7, 8, 9, 10, 1, 2, 3, 4, 7, 8, 10, 1, 2, 3, 4, 7, 10, 3, 4, 6, 7, 10, 4, 5, 6, 10, 3, 4, 6, 7, 8, 1, 2, 3, 4, 5, 6, 7, 8, 9, 10, 1, 2, 4, 8, 1, 4, 5, 6, 8, 9, 10, 4, 5, 7, 8, 1, 2, 4, 7, 8, 10, 1, 2, 3, 4, 5, 6, 7, 8, 9, 10, 1, 5, 6, 8, 9, 1, 2, 3, 5, 6, 8, 10, 1, 3, 4, 5, 6, 7, 8, 10, 1, 2, 3, 4, 5, 6, 7, 8, 9, 10, 1, 3, 4, 5, 6, 9, 1, 2, 3, 4, 5, 6, 7, 9, 10, 3, 4, 5, 6, 7, 8, 3, 4, 9, 10, 1, 6, 8, 10, 2, 3, 5, 7, 8, 1, 2, 3, 4, 5, 9, 1, 2, 3, 4, 5, 6, 7, 8, 9, 10, 1, 2, 5, 8, 9, 1, 2, 4, 5, 6, 8, 9, 10, 2, 3, 4, 9, 1, 3, 4, 5, 6, 7, 8, 1, 3, 5, 6, 7, 8, 9, 1, 2, 3, 4, 6, 7, 1, 2, 3, 4, 5, 7, 8, 10, 1, 2, 4, 8, 9, 2, 4, 6, 8, 9, 10, 1, 2, 3, 4, 5, 6, 7, 8, 9, 10, 1, 2, 4, 6, 7, 8, 1, 2, 4, 5, 7, 8, 9, 10, 1, 3, 5, 6, 7, 10, 1, 2, 3, 4, 5, 6, 7, 8, 9, 2, 3, 5, 7, 8, 9, 10, 1, 2, 3, 7, 8, 1, 3, 6, 7, 9, 10, 2, 3, 4, 5, 9, 10, 1, 2, 3, 4, 5, 6, 7, 8, 9, 10, 1, 2, 3, 6, 7, 9, 1, 2, 3, 4, 5, 6, 7, 8, 9, 10, 1, 2, 3, 5, 9, 1, 2, 3, 4, 5, 6, 7, 8, 9, 1, 2, 5, 6, 9, 10, 1, 2, 3, 4, 5, 6, 7, 9, 10, 1, 3, 4, 5, 6, 7, 8, 10, 1, 2, 3, 5, 6, 7, 8, 9, 10, 1, 2, 6, 7, 8, 9, 10, 1, 2, 3, 4, 6, 7, 1, 2, 3, 4, 5, 6, 7, 8, 9, 10, 1, 2, 3, 4, 5, 6, 7, 8, 10, 5, 6, 7, 10, 1, 3, 4, 5, 6, 8, 3, 4, 5, 8, 9, 1, 3, 5, 8, 10, 1, 3, 4, 6, 7, 10, 1, 8, 10, 1, 6, 10, 1, 2, 3, 4, 5, 6, 7, 8, 9, 10, 1, 2, 3, 4, 8, 1, 2, 3, 4, 5, 6, 8, 9, 10, 1, 3, 4, 5, 7, 8, 9, 10, 1, 2, 3, 5, 7, 10, 1, 2, 3, 6, 9, 10, 1, 2, 5, 6, 7, 8, 10, 1, 2, 4, 6, 7, 8, 10, 1, 4, 5, 6, 7, 9, 10], \"Term\": [\"a.m\", \"a.m\", \"a.m\", \"a.m\", \"a.m\", \"a.m\", \"a.m\", \"a.m\", \"abovecaptioned\", \"abovecaptioned\", \"abovecaptioned\", \"abovecaptioned\", \"abovecaptioned\", \"abovecaptioned\", \"abovecaptioned\", \"accompany\", \"accompany\", \"accompany\", \"accompany\", \"accompany\", \"accompany\", \"accordance\", \"accordance\", \"accordance\", \"accordance\", \"accordance\", \"accordance\", \"accordance\", \"accordance\", \"account\", \"account\", \"account\", \"account\", \"account\", \"account_balentine_global_hedge\", \"account_balentine_global_hedge\", \"account_balentine_global_hedge\", \"account_balentine_global_hedge\", \"account_balentine_global_hedge\", \"account_balentine_global_hedge\", \"act\", \"act\", \"act\", \"act\", \"act\", \"act\", \"address\", \"address\", \"address\", \"address\", \"address\", \"address\", \"address\", \"address\", \"address\", \"address\", \"address_jr.\", \"address_jr.\", \"address_jr.\", \"address_jr.\", \"address_jr.\", \"address_jr.\", \"adjourn_conference\", \"adjourn_conference\", \"adjourn_conference\", \"adjourn_conference\", \"adjournment\", \"adjournment\", \"adjournment\", \"administrator\", \"administrator\", \"administrator\", \"administrator\", \"administrator\", \"administrator\", \"administrator\", \"administrator\", \"administrator\", \"admission\", \"admission\", \"admission\", \"admission\", \"admission\", \"affect\", \"affect\", \"affect\", \"affect\", \"affect\", \"affect\", \"affidavit\", \"affidavit\", \"affidavit\", \"affidavit\", \"affidavit\", \"affidavit\", \"affidavit\", \"affidavit\", \"affidavit\", \"affidavit\", \"affidavit_service\", \"affidavit_service\", \"affidavit_service\", \"affidavit_service\", \"affidavit_service\", \"affidavit_service\", \"affidavit_service\", \"affidavit_service\", \"affidavit_service\", \"affidavit_service_summons\", \"affidavit_service_summons\", \"affidavit_service_summons\", \"affidavit_service_summons\", \"affidavit_service_summons\", \"affidavit_service_summons\", \"agent\", \"agent\", \"agent\", \"agent\", \"agent\", \"agent\", \"agree\", \"agree\", \"agree\", \"agree\", \"agree\", \"agree\", \"agree\", \"agree\", \"agree\", \"aim_exploration\", \"aim_exploration\", \"aim_exploration\", \"aim_exploration\", \"aim_exploration\", \"aim_exploration\", \"aim_exploration\", \"allege\", \"allege\", \"allege\", \"allege\", \"allege\", \"alternative_investment_sgr_spa\", \"alternative_investment_sgr_spa\", \"alternative_investment_sgr_spa\", \"alternative_investment_sgr_spa\", \"alternative_investment_sgr_spa\", \"ambassador\", \"ambassador\", \"ambassador\", \"amend\", \"amend\", \"amend\", \"amend\", \"amend\", \"amend\", \"amend\", \"amend\", \"amend\", \"amend\", \"amend_answer\", \"amend_answer\", \"amend_answer\", \"amend_answer\", \"amend_answer\", \"amend_answer\", \"amend_answer\", \"amend_answer\", \"amend_complaint\", \"amend_complaint\", \"amend_complaint\", \"amend_complaint\", \"amend_complaint\", \"amend_complaint\", \"amend_complaint\", \"amend_complaint\", \"amend_complaint\", \"amend_complaint\", \"answer\", \"answer\", \"answer\", \"answer\", \"answer\", \"answer\", \"answer\", \"answer\", \"answer\", \"answer\", \"answer_crossclaim\", \"answer_crossclaim\", \"answer_crossclaim\", \"answer_crossclaim\", \"answer_crossclaim\", \"answer_due\", \"answer_due\", \"answer_due\", \"answer_due\", \"answer_due\", \"answer_due\", \"answer_due\", \"answer_due\", \"answer_due_answer_due\", \"answer_due_answer_due\", \"answer_due_answer_due\", \"answer_due_answer_due\", \"answer_due_answer_due\", \"answer_due_purs\", \"answer_due_purs\", \"answer_due_purs\", \"answer_due_purs\", \"answer_due_purs\", \"answer_otherwise_respond\", \"answer_otherwise_respond\", \"answer_otherwise_respond\", \"answer_otherwise_respond\", \"appeal\", \"appeal\", \"appeal\", \"appeal\", \"appeal\", \"appeal\", \"appeal\", \"appeal\", \"appeal\", \"appeal_bond\", \"appeal_bond\", \"appeal_bond\", \"appeal_bond\", \"appear\", \"appear\", \"appear\", \"appear\", \"appear\", \"appear\", \"appear\", \"appear\", \"appear\", \"appear_pro_hac_vice\", \"appear_pro_hac_vice\", \"appear_pro_hac_vice\", \"appear_pro_hac_vice\", \"appear_pro_hac_vice\", \"appear_pro_hac_vice\", \"appear_pro_hac_vice\", \"appear_pro_hac_vice\", \"applicable\", \"applicable\", \"applicable\", \"applicable\", \"applicable\", \"application_grant\", \"application_grant\", \"application_grant\", \"application_grant\", \"approve\", \"approve\", \"approve\", \"approve\", \"approve\", \"approve\", \"approve\", \"approve\", \"approve\", \"approve\", \"assert\", \"assert\", \"assert\", \"assert\", \"assert\", \"assert\", \"assert\", \"assert\", \"assign\", \"assign\", \"assign\", \"assign\", \"assign\", \"assign\", \"assignment\", \"assignment\", \"assignment\", \"assignment\", \"assignment\", \"assignment\", \"assignment\", \"associate\", \"associate\", \"associate\", \"associate\", \"associate\", \"associate\", \"attached\", \"attached\", \"attached\", \"attached\", \"attempt\", \"attempt\", \"attempt\", \"attempt\", \"attempt\", \"attempt\", \"bank\", \"bank\", \"bank\", \"bank\", \"bank\", \"bank\", \"base\", \"base\", \"base\", \"base\", \"base\", \"base\", \"base\", \"base\", \"begin\", \"begin\", \"begin\", \"begin\", \"begin\", \"brief\", \"brief\", \"brief\", \"brief\", \"brief\", \"brief\", \"brief\", \"brief\", \"brief\", \"brief\", \"brooklyn\", \"brooklyn\", \"brooklyn\", \"brooklyn\", \"brooklyn\", \"calendar\", \"calendar\", \"calendar\", \"calendar\", \"calendar\", \"calendar\", \"calendar\", \"call\", \"call\", \"call\", \"call\", \"call\", \"call\", \"call\", \"call\", \"cancel\", \"cancel\", \"cancel\", \"cancel\", \"cancel\", \"cancel\", \"cause\", \"cause\", \"cause\", \"cause\", \"cause\", \"cause\", \"cause\", \"certificate\", \"certificate\", \"certificate\", \"certificate\", \"certificate\", \"certificate\", \"certificate_service\", \"certificate_service\", \"certificate_service\", \"certificate_service\", \"certificate_service\", \"certificate_service\", \"certificate_service\", \"certify\", \"certify\", \"certify\", \"certify\", \"certify\", \"certify\", \"certify\", \"certify\", \"certify\", \"civil_cover_sheet\", \"civil_cover_sheet\", \"civil_cover_sheet\", \"civil_cover_sheet\", \"civil_cover_sheet\", \"client\", \"client\", \"complaint\", \"complaint\", \"complaint\", \"complaint\", \"complaint\", \"complaint\", \"complaint\", \"complaint\", \"complaint\", \"complaint\", \"complete\", \"complete\", \"complete\", \"complete\", \"complete\", \"complete\", \"complete\", \"complete\", \"complete\", \"complete\", \"completion\", \"completion\", \"completion\", \"completion\", \"completion\", \"comply\", \"comply\", \"comply\", \"comply\", \"comply\", \"comply\", \"comply_discovery_ruling_conference\", \"comply_discovery_ruling_conference\", \"comply_discovery_ruling_conference\", \"comply_discovery_ruling_conference\", \"conclude\", \"conclude\", \"conclude\", \"conclude\", \"conclude\", \"conduct\", \"conduct\", \"conduct\", \"conduct\", \"conduct\", \"conduct\", \"conduct\", \"conference\", \"conference\", \"conference\", \"conference\", \"conference\", \"conference\", \"conference\", \"conference\", \"conference\", \"conference\", \"conference_hold\", \"conference_hold\", \"conference_hold\", \"conference_hold\", \"conference_hold\", \"conference_hold\", \"conference_hold\", \"conference_hold\", \"conference_hold\", \"confidentiality\", \"confidentiality\", \"confidentiality\", \"confidentiality\", \"confidentiality\", \"confidentiality\", \"confidentiality\", \"connection\", \"connection\", \"connection\", \"connection\", \"connection\", \"consent\", \"consent\", \"consent\", \"consent\", \"consent\", \"consent\", \"consent\", \"consistent\", \"consistent\", \"consistent\", \"consistent\", \"consistent\", \"consistent\", \"contain\", \"contain\", \"contain\", \"contain\", \"contain\", \"contain\", \"contempt\", \"contempt\", \"contempt\", \"contempt\", \"contempt\", \"corp..\", \"corp..\", \"corp..\", \"corp..\", \"corp..\", \"correct\", \"correct\", \"correct\", \"correct\", \"correct\", \"correct\", \"correct\", \"correction\", \"correction\", \"correction\", \"correction\", \"correction\", \"correction\", \"cost\", \"cost\", \"cost\", \"cost\", \"cost\", \"cost\", \"cost\", \"cost\", \"could\", \"could\", \"could\", \"could\", \"could\", \"could\", \"counter_rule\", \"counter_rule\", \"counter_rule\", \"counter_rule\", \"counter_rule\", \"counterclaim\", \"counterclaim\", \"counterclaim\", \"counterclaim\", \"counterclaim\", \"counterclaim\", \"counterclaim\", \"courtroom\", \"courtroom\", \"courtroom\", \"courtroom\", \"courtroom\", \"courtroom\", \"courtroom\", \"courtroom\", \"courtroom\", \"courtroom_pearl_street_new\", \"courtroom_pearl_street_new\", \"courtroom_pearl_street_new\", \"courtroom_pearl_street_new\", \"cross\", \"cross\", \"cross\", \"cross\", \"cross\", \"cross\", \"crossclaim\", \"crossclaim\", \"crossclaim\", \"crossclaim\", \"crossclaim\", \"dated\", \"dated\", \"dated\", \"deadline\", \"deadline\", \"deadline\", \"deadline\", \"deadline\", \"deadline\", \"deadline\", \"deadline\", \"deadline\", \"deadline_release\", \"deadline_release\", \"deadline_release\", \"declaration\", \"declaration\", \"declaration\", \"declaration\", \"declaration\", \"declaration\", \"declaration\", \"declaration\", \"declaration\", \"declaration\", \"declaration_opposition\", \"declaration_opposition\", \"declaration_opposition\", \"declaration_opposition\", \"declaration_opposition\", \"declaration_opposition\", \"declaration_opposition\", \"declaration_opposition\", \"declaration_opposition\", \"declaration_support\", \"declaration_support\", \"declaration_support\", \"declaration_support\", \"declaration_support\", \"declaration_support\", \"declaration_support\", \"declaration_support\", \"declaration_support\", \"declaration_support\", \"default\", \"default\", \"default\", \"default\", \"default\", \"default\", \"default_judgment\", \"default_judgment\", \"default_judgment\", \"default_judgment\", \"default_judgment\", \"default_judgment\", \"default_judgment\", \"default_judgment\", \"deficiency\", \"deficiency\", \"deficiency\", \"deft\", \"deft\", \"deft\", \"deft\", \"deft\", \"demand\", \"demand\", \"demand\", \"demand\", \"demand\", \"demand\", \"demand\", \"deny\", \"deny\", \"deny\", \"deny\", \"deny\", \"deny\", \"deny\", \"deny\", \"deny\", \"deny\", \"deposition\", \"deposition\", \"deposition\", \"deposition\", \"deposition\", \"deposition\", \"deposition\", \"deposition\", \"deposition\", \"disclose\", \"disclose\", \"disclose\", \"disclose\", \"disclose\", \"disclose\", \"disclose\", \"disclose\", \"disclosure\", \"disclosure\", \"disclosure\", \"disclosure\", \"disclosure\", \"disclosure\", \"disclosure\", \"discover\", \"discover\", \"discover\", \"discover\", \"discover\", \"discover\", \"discover\", \"discovery\", \"discovery\", \"discovery\", \"discovery\", \"discovery\", \"discovery\", \"discovery\", \"discovery\", \"discovery\", \"discovery\", \"discovery_complete\", \"discovery_complete\", \"discovery_complete\", \"discovery_complete\", \"discovery_complete\", \"discovery_complete\", \"discovery_hear_hold\", \"discovery_hear_hold\", \"discovery_hear_hold\", \"dismiss\", \"dismiss\", \"dismiss\", \"dismiss\", \"dismiss\", \"dismiss\", \"dismiss\", \"dismiss\", \"dismiss\", \"dismiss\", \"dismiss..\", \"dismiss..\", \"dismiss..\", \"dismiss..\", \"dismiss..\", \"dismiss..\", \"dismiss..\", \"dismiss..\", \"dismiss_lack_jurisdiction\", \"dismiss_lack_jurisdiction\", \"dismiss_lack_jurisdiction\", \"dismiss_lack_jurisdiction\", \"dismiss_lack_jurisdiction\", \"dismiss_thirdparty\", \"dismiss_thirdparty\", \"dismiss_thirdparty\", \"dismiss_thirdparty\", \"dismiss_thirdparty\", \"dismiss_thirdparty\", \"dismiss_thirdparty\", \"dismiss_thirdparty\", \"dismiss_thirdparty_complaint\", \"dismiss_thirdparty_complaint\", \"dismiss_thirdparty_complaint\", \"dismiss_thirdparty_complaint\", \"dismiss_thirdparty_complaint\", \"dismiss_thirdparty_complaint\", \"dismiss_thirdparty_complaint\", \"dismiss_thirdparty_complaint\", \"dismiss_without_prejudice\", \"dismiss_without_prejudice\", \"dismiss_without_prejudice\", \"dismiss_without_prejudice\", \"dismiss_without_prejudice\", \"dismiss_without_prejudice\", \"dismiss_without_prejudice\", \"dismiss_without_prejudice\", \"dismissal\", \"dismissal\", \"dismissal\", \"dismissal\", \"dismissal\", \"dismissal\", \"dismissal\", \"dismissal\", \"dismissal\", \"dismissal\", \"dismissal_without_prejudice\", \"dismissal_without_prejudice\", \"dismissal_without_prejudice\", \"dismissal_without_prejudice\", \"dispositive\", \"dispositive\", \"dispositive\", \"dispositive\", \"dispositive\", \"dispute\", \"dispute\", \"dispute\", \"dispute\", \"dispute\", \"dispute\", \"dispute\", \"due\", \"due\", \"due\", \"due\", \"due\", \"due\", \"due\", \"due\", \"due\", \"either\", \"either\", \"either\", \"either\", \"either\", \"either\", \"either\", \"either\", \"electronic\", \"electronic\", \"electronic\", \"electronic\", \"electronic\", \"electronic\", \"electronic\", \"electronic\", \"email\", \"email\", \"email\", \"email\", \"email\", \"email\", \"email\", \"email\", \"enclose\", \"enclose\", \"enclose\", \"enclose\", \"endorsed_letter_address\", \"endorsed_letter_address\", \"endorsed_letter_address\", \"endorsed_letter_address\", \"endorsed_letter_address\", \"endorsed_letter_address\", \"endorsed_letter_address\", \"endorsed_letter_address\", \"endorsed_letter_address\", \"endorsed_letter_address\", \"endorsement\", \"endorsement\", \"endorsement\", \"endorsement\", \"endorsement\", \"endorsement\", \"endorsement\", \"endorsement\", \"endorsement\", \"endorsement_application_grant\", \"endorsement_application_grant\", \"endorsement_application_grant\", \"endorsement_application_grant\", \"endorsement_application_grant\", \"entry\", \"entry\", \"entry\", \"entry\", \"entry\", \"entry\", \"entry\", \"entry\", \"entry\", \"expense\", \"expense\", \"expense\", \"expense\", \"expense\", \"expense\", \"extend\", \"extend\", \"extend\", \"extend\", \"extend\", \"extend\", \"extend\", \"extend\", \"extend\", \"extend\", \"extension\", \"extension\", \"extension\", \"extension\", \"extension\", \"extension\", \"extension\", \"extension\", \"extension\", \"extension\", \"failure\", \"failure\", \"failure\", \"failure\", \"failure\", \"failure\", \"failure\", \"failure_state\", \"failure_state\", \"failure_state\", \"failure_state\", \"failure_state\", \"fax\", \"fax\", \"fax\", \"fax\", \"fax\", \"fee\", \"fee\", \"fee\", \"fee\", \"fee\", \"fee\", \"fee\", \"final_judgment\", \"final_judgment\", \"final_judgment\", \"final_judgment\", \"flasr\", \"flasr\", \"flasr\", \"flasr\", \"flasr\", \"flasr\", \"flasr\", \"forward\", \"forward\", \"forward\", \"forward\", \"forward\", \"forward\", \"forward\", \"g.c\", \"g.c\", \"g.c\", \"g.c\", \"g.c\", \"g.c\", \"g.c\", \"give\", \"give\", \"give\", \"give\", \"give\", \"give\", \"give\", \"give\", \"government\", \"government\", \"government\", \"government\", \"government\", \"government\", \"grant\", \"grant\", \"grant\", \"grant\", \"grant\", \"grant\", \"grant\", \"grant\", \"grant\", \"grant\", \"han_kook\", \"han_kook\", \"han_kook\", \"han_kook\", \"han_kook\", \"han_kook\", \"hedge_strategy_ibex_absolute\", \"hedge_strategy_ibex_absolute\", \"hedge_strategy_ibex_absolute\", \"hedge_strategy_ibex_absolute\", \"hedge_strategy_ibex_absolute\", \"hedge_strategy_ibex_absolute\", \"hold\", \"hold\", \"hold\", \"hold\", \"hold\", \"hold\", \"hold\", \"hold\", \"hold\", \"hold\", \"identify\", \"identify\", \"identify\", \"identify\", \"identify\", \"identify\", \"identify\", \"identify\", \"identify\", \"identify\", \"iii\", \"iii\", \"iii\", \"iii\", \"iii\", \"iii\", \"iii\", \"iii\", \"immediately\", \"immediately\", \"immediately\", \"incorrectly\", \"incorrectly\", \"incorrectly\", \"incorrectly\", \"incorrectly\", \"indicate\", \"indicate\", \"indicate\", \"indicate\", \"indicate\", \"indicate\", \"indicate\", \"initial_conference\", \"initial_conference\", \"initial_conference\", \"initial_conference\", \"initial_conference\", \"initial_pretrial_conference\", \"initial_pretrial_conference\", \"initial_pretrial_conference\", \"initial_pretrial_conference\", \"initial_pretrial_conference\", \"initial_pretrial_conference\", \"instruction\", \"instruction\", \"instruction\", \"instruction\", \"instruction\", \"instruction\", \"instruction\", \"instruction\", \"intend\", \"intend\", \"intend\", \"intend\", \"intend\", \"intend\", \"intend\", \"intend\", \"intend\", \"interrogatory\", \"interrogatory\", \"interrogatory\", \"interrogatory\", \"interrogatory\", \"interrogatory\", \"interrogatory\", \"issue\", \"issue\", \"issue\", \"issue\", \"issue\", \"issue\", \"issue\", \"issue\", \"issue\", \"issue\", \"joint\", \"joint\", \"joint\", \"joint\", \"joint\", \"joint\", \"joint\", \"joint\", \"joint\", \"joint\", \"jr\", \"jr\", \"jr\", \"jr\", \"jr\", \"jr\", \"jr\", \"judgment\", \"judgment\", \"judgment\", \"judgment\", \"judgment\", \"judgment\", \"judgment\", \"judgment\", \"judgment\", \"judgment\", \"judgment_favor\", \"judgment_favor\", \"judgment_favor\", \"judgment_favor\", \"judgment_favor\", \"judgment_favor\", \"judgment_favor\", \"jury\", \"jury\", \"jury\", \"jury\", \"jury\", \"jury\", \"jury\", \"jury_demand\", \"jury_demand\", \"jury_demand\", \"jury_demand\", \"jury_trial_hold\", \"jury_trial_hold\", \"l.p..\", \"l.p..\", \"l.p..\", \"l.p..\", \"l.p..\", \"l.p..\", \"l.p..\", \"law\", \"law\", \"law\", \"law\", \"law\", \"law\", \"law\", \"law\", \"lead\", \"lead\", \"lead\", \"lead\", \"lead\", \"lead\", \"lead\", \"lead\", \"lead\", \"leave\", \"leave\", \"leave\", \"leave\", \"leave\", \"leave\", \"leave\", \"leave\", \"leave\", \"letter\", \"letter\", \"letter\", \"letter\", \"letter\", \"letter\", \"letter\", \"letter\", \"letter\", \"letter_address\", \"letter_address\", \"letter_address\", \"letter_address\", \"letter_address\", \"letter_address\", \"letter_address\", \"letter_address\", \"letter_address\", \"liability_complaint\", \"liability_complaint\", \"liability_complaint\", \"liability_complaint\", \"liability_complaint\", \"light\", \"light\", \"light\", \"light\", \"light\", \"limine\", \"limine\", \"limine\", \"limine\", \"limine\", \"limine\", \"limine_preclude_introduce_evidence\", \"limine_preclude_introduce_evidence\", \"limine_preclude_introduce_evidence\", \"limine_preclude_introduce_evidence\", \"limine_preclude_introduce_evidence\", \"limine_preclude_introduce_evidence\", \"limit\", \"limit\", \"limit\", \"limit\", \"limit\", \"limit\", \"limit\", \"limit\", \"limit\", \"line\", \"line\", \"line\", \"line\", \"line\", \"litigation\", \"litigation\", \"litigation\", \"litigation\", \"litigation\", \"litigation\", \"litigation\", \"litigation\", \"loan\", \"loan\", \"loan\", \"loan\", \"loan\", \"loan\", \"loan\", \"loan\", \"loan\", \"loan\", \"longer_assigned\", \"longer_assigned\", \"longer_assigned\", \"longer_assigned\", \"longer_assigned\", \"magnum_growth_magnum_special\", \"magnum_growth_magnum_special\", \"magnum_growth_magnum_special\", \"magnum_growth_magnum_special\", \"magnum_growth_magnum_special\", \"magnum_growth_magnum_special\", \"management\", \"management\", \"management\", \"management\", \"management\", \"management\", \"management\", \"management\", \"mdl\", \"mdl\", \"mdl\", \"mdl\", \"mdl\", \"mdl\", \"mdl\", \"mediation\", \"mediation\", \"mediation\", \"mediation\", \"mediation\", \"mediation\", \"mediation\", \"mediation\", \"mediation\", \"member\", \"member\", \"member\", \"member\", \"member\", \"member\", \"memo_endorsement\", \"memo_endorsement\", \"memo_endorsement\", \"memo_endorsement\", \"memo_endorsement\", \"memo_endorsement\", \"memo_endorsement\", \"memo_endorsement\", \"memo_endorsement\", \"memo_endorsement\", \"memoendorsement_letter_address\", \"memoendorsement_letter_address\", \"memoendorsement_letter_address\", \"memoendorsement_letter_address\", \"memoendorsement_letter_address\", \"memoendorsement_letter_address\", \"memoendorsement_letter_address\", \"memoendorsement_letter_address\", \"memorandum_law_opposition\", \"memorandum_law_opposition\", \"memorandum_law_opposition\", \"memorandum_law_opposition\", \"memorandum_law_opposition\", \"memorandum_law_opposition\", \"memorandum_law_opposition\", \"memorandum_law_opposition\", \"memorandum_law_opposition\", \"memorandum_law_support\", \"memorandum_law_support\", \"memorandum_law_support\", \"memorandum_law_support\", \"memorandum_law_support\", \"memorandum_law_support\", \"memorandum_law_support\", \"memorandum_law_support\", \"memorandum_law_support\", \"memorandum_law_support\", \"memorandum_opinion\", \"memorandum_opinion\", \"memorandum_opinion\", \"memorandum_opinion\", \"memorandum_opinion\", \"memorandum_opinion\", \"memorandum_opinion\", \"merrill\", \"merrill\", \"merrill\", \"minute_entry_hold\", \"minute_entry_hold\", \"minute_entry_hold\", \"minute_entry_hold\", \"minute_entry_hold\", \"minute_entry_hold_telephone\", \"minute_entry_hold_telephone\", \"minute_entry_hold_telephone\", \"minute_entry_hold_telephone\", \"minute_entry_hold_telephone\", \"motion\", \"motion\", \"motion\", \"motion\", \"motion\", \"motion\", \"motion\", \"motion\", \"motion\", \"motion\", \"move\", \"move\", \"move\", \"move\", \"move\", \"move\", \"move\", \"move\", \"move\", \"need\", \"need\", \"need\", \"need\", \"need\", \"need\", \"net_settlement\", \"net_settlement\", \"net_settlement\", \"net_settlement\", \"net_settlement\", \"new\", \"new\", \"new\", \"new\", \"new\", \"new\", \"new\", \"new\", \"new_address\", \"new_address\", \"new_address\", \"new_jersey\", \"new_jersey\", \"new_jersey\", \"new_jersey\", \"new_jersey\", \"new_jersey\", \"new_jersey\", \"new_york_new_jersey\", \"new_york_new_jersey\", \"new_york_new_jersey\", \"new_york_new_jersey\", \"new_york_new_jersey\", \"new_york_observer\", \"new_york_observer\", \"new_york_observer\", \"new_york_observer\", \"new_york_observer\", \"newvest_portfolio_newvest\", \"newvest_portfolio_newvest\", \"newvest_portfolio_newvest\", \"newvest_portfolio_newvest\", \"nonecf_error\", \"nonecf_error\", \"nonecf_error\", \"nonecf_error\", \"note\", \"note\", \"note\", \"note\", \"note\", \"note\", \"note_manually_refile\", \"note_manually_refile\", \"note_manually_refile\", \"note_manually_refile\", \"note_refile\", \"note_refile\", \"note_refile\", \"note_refile\", \"notice\", \"notice\", \"notice\", \"notice\", \"notice\", \"notice\", \"notice\", \"notice\", \"notice\", \"notice\", \"notice_adoption_answer\", \"notice_adoption_answer\", \"notice_adoption_answer\", \"notice_adoption_answer\", \"notice_adoption_answer\", \"notice_adoption_answer\", \"notice_appeal\", \"notice_appeal\", \"notice_appeal\", \"notice_appeal\", \"notice_appeal\", \"notice_appeal\", \"notice_appeal\", \"notice_appeal\", \"notice_appeal\", \"notice_appeal_certify\", \"notice_appeal_certify\", \"notice_appeal_certify\", \"notice_appeal_certify\", \"notice_appearance\", \"notice_appearance\", \"notice_appearance\", \"notice_appearance\", \"notice_appearance\", \"notice_appearance\", \"notice_appearance\", \"notice_appearance\", \"notice_appearance\", \"notice_change_address\", \"notice_change_address\", \"notice_change_address\", \"notice_change_address\", \"notice_reassignment\", \"notice_reassignment\", \"number\", \"number\", \"number\", \"number\", \"number\", \"number\", \"number\", \"number\", \"number\", \"objection\", \"objection\", \"objection\", \"objection\", \"objection\", \"objection\", \"objection\", \"objection\", \"objection\", \"occur\", \"occur\", \"occur\", \"occur\", \"offer\", \"offer\", \"offer\", \"offer\", \"offer\", \"offer\", \"office\", \"office\", \"office\", \"office\", \"office\", \"office\", \"office\", \"official\", \"official\", \"official\", \"official\", \"official_conference\", \"official_conference\", \"official_conference\", \"official_conference\", \"official_notice_give\", \"official_notice_give\", \"official_notice_give\", \"official_notice_give\", \"official_notice_give\", \"official_notice_give\", \"opinion\", \"opinion\", \"opinion\", \"opinion\", \"opinion\", \"opinion\", \"opinion\", \"opinion\", \"opposition\", \"opposition\", \"opposition\", \"opposition\", \"opposition\", \"opposition\", \"opposition\", \"opposition\", \"opposition\", \"opposition\", \"oral_argument\", \"oral_argument\", \"oral_argument\", \"oral_argument\", \"oral_argument\", \"oral_argument\", \"oral_argument\", \"oral_argument\", \"oral_argument\", \"oral_argument_pm\", \"oral_argument_pm\", \"oral_argument_pm\", \"order\", \"order\", \"order\", \"order\", \"order\", \"order\", \"order\", \"order\", \"order\", \"order\", \"ordered\", \"ordered\", \"ordered\", \"ordered\", \"ordered\", \"ordered\", \"ordered\", \"ordered\", \"ordered\", \"ordered\", \"p.m\", \"p.m\", \"p.m\", \"p.m\", \"p.m\", \"p.m\", \"paragraph\", \"paragraph\", \"paragraph\", \"paragraph\", \"paragraph\", \"paragraph\", \"partial_summary_judgment\", \"partial_summary_judgment\", \"partial_summary_judgment\", \"partial_summary_judgment\", \"partial_summary_judgment\", \"partial_summary_judgment\", \"partial_summary_judgment\", \"partial_summary_judgment\", \"pdf\", \"pdf\", \"pdf\", \"pdf\", \"pdf\", \"per\", \"per\", \"per\", \"per\", \"per\", \"per\", \"period\", \"period\", \"period\", \"period\", \"period\", \"person\", \"person\", \"person\", \"person\", \"plead\", \"plead\", \"plead\", \"plead\", \"post\", \"post\", \"post\", \"post\", \"post\", \"post\", \"prejudice\", \"prejudice\", \"prejudice\", \"prejudice\", \"prejudice\", \"prejudice\", \"preliminary_injunction\", \"preliminary_injunction\", \"preliminary_injunction\", \"preliminary_injunction\", \"preliminary_injunction\", \"preliminary_injunction\", \"preliminary_injunction\", \"premotion_conference\", \"premotion_conference\", \"premotion_conference\", \"premotion_conference\", \"premotion_conference\", \"premotion_conference\", \"premotion_conference\", \"premotion_conference\", \"pretrial\", \"pretrial\", \"pretrial\", \"pretrial\", \"pretrial\", \"pretrial\", \"pretrial\", \"pretrial_conference_hold\", \"pretrial_conference_hold\", \"pretrial_conference_hold\", \"pretrial_conference_hold\", \"pretrial_conference_hold\", \"pretrial_conference_hold\", \"pro_hac_vice\", \"pro_hac_vice\", \"pro_hac_vice\", \"pro_hac_vice\", \"pro_hac_vice\", \"pro_se\", \"pro_se\", \"pro_se\", \"pro_se\", \"pro_se\", \"produce\", \"produce\", \"produce\", \"produce\", \"produce\", \"produce\", \"produce\", \"produce\", \"produce\", \"produce\", \"propose\", \"propose\", \"propose\", \"propose\", \"propose\", \"propose\", \"propose\", \"propose\", \"propose\", \"propose\", \"protective\", \"protective\", \"protective\", \"protective\", \"protective\", \"protective\", \"protective\", \"purpose\", \"purpose\", \"purpose\", \"purpose\", \"purpose\", \"purpose\", \"purpose\", \"receive\", \"receive\", \"receive\", \"receive\", \"receive\", \"receive\", \"redact_deadline\", \"redact_deadline\", \"redact_deadline\", \"redact_deadline\", \"redact_deadline\", \"redact_deadline\", \"redaction\", \"redaction\", \"redaction\", \"redaction\", \"redaction\", \"redaction\", \"redaction\", \"redaction\", \"release\", \"release\", \"release\", \"release\", \"release\", \"release\", \"release\", \"remotely_electronically_available_public\", \"remotely_electronically_available_public\", \"remotely_electronically_available_public\", \"remotely_electronically_available_public\", \"remotely_electronically_available_public\", \"remotely_electronically_available_public\", \"remotely_electronically_available_public\", \"renew\", \"renew\", \"renew\", \"renew\", \"renew\", \"renew\", \"renew\", \"reply\", \"reply\", \"reply\", \"reply\", \"reply\", \"reply\", \"reply\", \"reply\", \"reply\", \"reply_memorandum_law\", \"reply_memorandum_law\", \"reply_memorandum_law\", \"reply_memorandum_law\", \"reply_memorandum_law\", \"reply_memorandum_law\", \"report\", \"report\", \"report\", \"report\", \"report\", \"report\", \"report\", \"report\", \"report\", \"report\", \"represent\", \"represent\", \"represent\", \"represent\", \"represent\", \"represent\", \"request\", \"request\", \"request\", \"request\", \"request\", \"request\", \"request\", \"request\", \"request\", \"request\", \"request_issuance_summons\", \"request_issuance_summons\", \"request_issuance_summons\", \"request_issuance_summons\", \"respond\", \"respond\", \"respond\", \"respond\", \"respond\", \"respond\", \"respond\", \"respond\", \"respond\", \"response\", \"response\", \"response\", \"response\", \"response\", \"response\", \"response\", \"response\", \"response\", \"response\", \"response_due\", \"response_due\", \"response_due\", \"response_due\", \"response_due\", \"response_due\", \"response_due\", \"responsereply\", \"responsereply\", \"responsereply\", \"responsereply\", \"responsereply\", \"responsereply\", \"responsible_courtesy_individual_practice\", \"responsible_courtesy_individual_practice\", \"responsible_courtesy_individual_practice\", \"responsible_courtesy_individual_practice\", \"responsible_courtesy_individual_practice\", \"revise_schedule\", \"revise_schedule\", \"revise_schedule\", \"revise_schedule\", \"right_appeal\", \"right_appeal\", \"right_appeal\", \"right_appeal\", \"right_appeal\", \"rule\", \"rule\", \"rule\", \"rule\", \"rule\", \"rule\", \"rule\", \"rule\", \"rule\", \"rule\", \"rule_deposition_objection\", \"rule_deposition_objection\", \"rule_deposition_objection\", \"rule_deposition_objection\", \"rule_federal_rule\", \"rule_federal_rule\", \"rule_federal_rule\", \"rule_federal_rule\", \"rule_federal_rule\", \"rule_federal_rule\", \"rule_federal_rule\", \"rule_rule_..\", \"rule_rule_..\", \"rule_rule_..\", \"rule_rule_..\", \"sanction\", \"sanction\", \"sanction\", \"sanction\", \"sanction\", \"sanction\", \"schedule\", \"schedule\", \"schedule\", \"schedule\", \"schedule\", \"schedule\", \"schedule\", \"schedule\", \"schedule\", \"schedule\", \"scheduling\", \"scheduling\", \"scheduling\", \"scheduling\", \"scheduling\", \"section\", \"section\", \"section\", \"section\", \"section\", \"section\", \"section\", \"send\", \"send\", \"send\", \"send\", \"send\", \"send\", \"send\", \"send\", \"serve\", \"serve\", \"serve\", \"serve\", \"serve\", \"serve\", \"serve\", \"serve\", \"serve\", \"serve\", \"serve_answer_due\", \"serve_answer_due\", \"serve_answer_due\", \"serve_answer_due\", \"serve_answer_due\", \"serve_answer_due\", \"service\", \"service\", \"service\", \"service\", \"service\", \"service\", \"service\", \"service\", \"service\", \"service_accept\", \"service_accept\", \"service_accept\", \"service_accept\", \"service_accept\", \"service_accept\", \"service_accept_legal\", \"service_accept_legal\", \"service_accept_legal\", \"service_accept_legal\", \"service_execute\", \"service_execute\", \"service_execute\", \"service_execute\", \"setreset_deadline\", \"setreset_deadline\", \"setreset_deadline\", \"setreset_deadline\", \"setreset_deadline\", \"settle\", \"settle\", \"settle\", \"settle\", \"settle\", \"settle\", \"settlement\", \"settlement\", \"settlement\", \"settlement\", \"settlement\", \"settlement\", \"settlement\", \"settlement\", \"settlement\", \"settlement\", \"sheet\", \"sheet\", \"sheet\", \"sheet\", \"sheet\", \"show_cause\", \"show_cause\", \"show_cause\", \"show_cause\", \"show_cause\", \"show_cause\", \"show_cause\", \"show_cause\", \"specific\", \"specific\", \"specific\", \"specific\", \"status\", \"status\", \"status\", \"status\", \"status\", \"status\", \"status\", \"status_conference\", \"status_conference\", \"status_conference\", \"status_conference\", \"status_conference\", \"status_conference\", \"status_conference\", \"status_conference_hold\", \"status_conference_hold\", \"status_conference_hold\", \"status_conference_hold\", \"status_conference_hold\", \"status_conference_hold\", \"status_report\", \"status_report\", \"status_report\", \"status_report\", \"status_report\", \"status_report\", \"status_report\", \"status_report\", \"stillwater_market_neutral_balentine\", \"stillwater_market_neutral_balentine\", \"stillwater_market_neutral_balentine\", \"stillwater_market_neutral_balentine\", \"stillwater_market_neutral_balentine\", \"stipulate\", \"stipulate\", \"stipulate\", \"stipulate\", \"stipulate\", \"stipulate\", \"stipulation\", \"stipulation\", \"stipulation\", \"stipulation\", \"stipulation\", \"stipulation\", \"stipulation\", \"stipulation\", \"stipulation\", \"stipulation\", \"strike\", \"strike\", \"strike\", \"strike\", \"strike\", \"strike\", \"subject\", \"subject\", \"subject\", \"subject\", \"subject\", \"subject\", \"subject\", \"subject\", \"subpoena\", \"subpoena\", \"subpoena\", \"subpoena\", \"subpoena\", \"subpoena\", \"summary_judgment\", \"summary_judgment\", \"summary_judgment\", \"summary_judgment\", \"summary_judgment\", \"summary_judgment\", \"summary_judgment\", \"summary_judgment\", \"summary_judgment\", \"summary_judgment..\", \"summary_judgment..\", \"summary_judgment..\", \"summary_judgment..\", \"summary_judgment..\", \"summary_judgment..\", \"summary_judgment..\", \"summary_judgment_favor\", \"summary_judgment_favor\", \"summary_judgment_favor\", \"summary_judgment_favor\", \"summary_judgment_favor\", \"summons\", \"summons\", \"summons\", \"summons\", \"summons\", \"summons\", \"summons_issue\", \"summons_issue\", \"summons_issue\", \"summons_issue\", \"summons_issue\", \"summons_issue\", \"supplemental\", \"supplemental\", \"supplemental\", \"supplemental\", \"supplemental\", \"supplemental\", \"supplemental\", \"supplemental\", \"supplemental\", \"supplemental\", \"supplemental_amend\", \"supplemental_amend\", \"supplemental_amend\", \"supplemental_amend\", \"supplemental_amend\", \"supplemental_amend\", \"support\", \"support\", \"support\", \"support\", \"support\", \"support\", \"support\", \"support\", \"support\", \"support\", \"telephone\", \"telephone\", \"telephone\", \"telephone\", \"telephone\", \"telephone_conference\", \"telephone_conference\", \"telephone_conference\", \"telephone_conference\", \"telephone_conference\", \"telephone_conference\", \"telephone_conference\", \"telephone_conference\", \"telephone_conference\", \"term\", \"term\", \"term\", \"term\", \"term\", \"term\", \"terminate\", \"terminate\", \"terminate\", \"terminate\", \"terminate\", \"terminate\", \"terminate\", \"terminate\", \"terminate\", \"thereafter\", \"thereafter\", \"thereafter\", \"thereafter\", \"thereafter\", \"thereafter\", \"thereafter\", \"thereafter\", \"third_complaint\", \"third_complaint\", \"third_complaint\", \"third_complaint\", \"third_complaint\", \"third_complaint\", \"third_complaint\", \"third_complaint\", \"third_complaint\", \"thirdparty\", \"thirdparty\", \"thirdparty\", \"thirdparty\", \"thirdparty\", \"thirdparty\", \"thirdparty\", \"transaction\", \"transaction\", \"transaction\", \"transaction\", \"transaction\", \"transaction\", \"transmit\", \"transmit\", \"transmit\", \"transmit\", \"transmit\", \"transmit\", \"transmit\", \"transmit\", \"transmit\", \"transmit\", \"trial\", \"trial\", \"trial\", \"trial\", \"trial\", \"trial\", \"trial\", \"trial\", \"trial\", \"united_state_courthouse_pearl\", \"united_state_courthouse_pearl\", \"united_state_courthouse_pearl\", \"united_state_courthouse_pearl\", \"unless\", \"unless\", \"unless\", \"unless\", \"unless\", \"unless\", \"unredacted\", \"unredacted\", \"unredacted\", \"unredacted\", \"unredacted\", \"update\", \"update\", \"update\", \"update\", \"update\", \"via\", \"via\", \"via\", \"via\", \"via\", \"via\", \"view_public_terminal_purchase\", \"view_public_terminal_purchase\", \"view_public_terminal_purchase\", \"wellington\", \"wellington\", \"wellington\", \"withdraw\", \"withdraw\", \"withdraw\", \"withdraw\", \"withdraw\", \"withdraw\", \"withdraw\", \"withdraw\", \"withdraw\", \"withdraw\", \"withdrawal\", \"withdrawal\", \"withdrawal\", \"withdrawal\", \"withdrawal\", \"within\", \"within\", \"within\", \"within\", \"within\", \"within\", \"within\", \"within\", \"within\", \"without\", \"without\", \"without\", \"without\", \"without\", \"without\", \"without\", \"without\", \"without_cost_either\", \"without_cost_either\", \"without_cost_either\", \"without_cost_either\", \"without_cost_either\", \"without_cost_either\", \"without_prejudice\", \"without_prejudice\", \"without_prejudice\", \"without_prejudice\", \"without_prejudice\", \"without_prejudice\", \"without_redaction_calendar\", \"without_redaction_calendar\", \"without_redaction_calendar\", \"without_redaction_calendar\", \"without_redaction_calendar\", \"without_redaction_calendar\", \"without_redaction_calendar\", \"work\", \"work\", \"work\", \"work\", \"work\", \"work\", \"work\", \"york\", \"york\", \"york\", \"york\", \"york\", \"york\", \"york\"]}, \"lambda.step\": 0.01, \"plot.opts\": {\"ylab\": \"PC2\", \"xlab\": \"PC1\"}};\n",
       "\n",
       "function LDAvis_load_lib(url, callback){\n",
       "  var s = document.createElement('script');\n",
       "  s.src = url;\n",
       "  s.async = true;\n",
       "  s.onreadystatechange = s.onload = callback;\n",
       "  s.onerror = function(){console.warn(\"failed to load library \" + url);};\n",
       "  document.getElementsByTagName(\"head\")[0].appendChild(s);\n",
       "}\n",
       "\n",
       "if(typeof(LDAvis) !== \"undefined\"){\n",
       "   // already loaded: just create the visualization\n",
       "   !function(LDAvis){\n",
       "       new LDAvis(\"#\" + \"ldavis_el2506819944820033042097336678\", ldavis_el2506819944820033042097336678_data);\n",
       "   }(LDAvis);\n",
       "}else if(typeof define === \"function\" && define.amd){\n",
       "   // require.js is available: use it to load d3/LDAvis\n",
       "   require.config({paths: {d3: \"https://cdnjs.cloudflare.com/ajax/libs/d3/3.5.5/d3.min\"}});\n",
       "   require([\"d3\"], function(d3){\n",
       "      window.d3 = d3;\n",
       "      LDAvis_load_lib(\"https://cdn.rawgit.com/bmabey/pyLDAvis/files/ldavis.v1.0.0.js\", function(){\n",
       "        new LDAvis(\"#\" + \"ldavis_el2506819944820033042097336678\", ldavis_el2506819944820033042097336678_data);\n",
       "      });\n",
       "    });\n",
       "}else{\n",
       "    // require.js not available: dynamically load d3 & LDAvis\n",
       "    LDAvis_load_lib(\"https://cdnjs.cloudflare.com/ajax/libs/d3/3.5.5/d3.min.js\", function(){\n",
       "         LDAvis_load_lib(\"https://cdn.rawgit.com/bmabey/pyLDAvis/files/ldavis.v1.0.0.js\", function(){\n",
       "                 new LDAvis(\"#\" + \"ldavis_el2506819944820033042097336678\", ldavis_el2506819944820033042097336678_data);\n",
       "            })\n",
       "         });\n",
       "}\n",
       "</script>"
      ],
      "text/plain": [
       "<IPython.core.display.HTML object>"
      ]
     },
     "execution_count": 437,
     "metadata": {},
     "output_type": "execute_result"
    }
   ],
   "source": [
    "num_topics = 10\n",
    "pretrained_model_file_path = 'docket_texts/train/lda_model_noorgnomodel_' + str(num_topics)\n",
    "column_name = str(num_topics) + '-topic Model Classificaiton'\n",
    "\n",
    "topic_names = {}\n",
    "for i in range(num_topics):\n",
    "    topic_names[i] = 'Topic ' + str(i)\n",
    "\n",
    "LDAvis_prepared, model = topic_modeling_pipeline(num_topics, pretrained_model_file_path, trigram_bow_corpus, trigram_dictionary, export = True)\n",
    "topic_summary = []\n",
    "\n",
    "for docket_text in list(new_df['Apply Trigram Phrase Model']):\n",
    "    #print(docket_text)\n",
    "    topic_summary.append(lda_description(docket_text, model, trigram_dictionary, topic_names))\n",
    "\n",
    "new_df[column_name] = topic_summary\n",
    "pyLDAvis.display(LDAvis_prepared)"
   ]
  },
  {
   "cell_type": "markdown",
   "metadata": {},
   "source": [
    "### Export DataFrame to .csv"
   ]
  },
  {
   "cell_type": "code",
   "execution_count": 399,
   "metadata": {},
   "outputs": [],
   "source": [
    "new_df.to_csv('examine_this.csv', index = False)"
   ]
  },
  {
   "cell_type": "code",
   "execution_count": null,
   "metadata": {},
   "outputs": [],
   "source": []
  },
  {
   "cell_type": "code",
   "execution_count": null,
   "metadata": {},
   "outputs": [],
   "source": []
  },
  {
   "cell_type": "code",
   "execution_count": null,
   "metadata": {},
   "outputs": [],
   "source": []
  },
  {
   "cell_type": "code",
   "execution_count": null,
   "metadata": {},
   "outputs": [],
   "source": []
  }
 ],
 "metadata": {
  "kernelspec": {
   "display_name": "Python 3",
   "language": "python",
   "name": "python3"
  }
 },
 "nbformat": 4,
 "nbformat_minor": 2
}
